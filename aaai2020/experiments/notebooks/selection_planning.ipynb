{
 "cells": [
  {
   "cell_type": "code",
   "execution_count": 1,
   "metadata": {},
   "outputs": [
    {
     "data": {
      "text/html": [
       "<style>.container { width:100% !important; }</style>"
      ],
      "text/plain": [
       "<IPython.core.display.HTML object>"
      ]
     },
     "metadata": {},
     "output_type": "display_data"
    }
   ],
   "source": [
    "from IPython.core.display import display, HTML\n",
    "display(HTML(\"<style>.container { width:100% !important; }</style>\"))"
   ]
  },
  {
   "cell_type": "code",
   "execution_count": 2,
   "metadata": {
    "scrolled": true
   },
   "outputs": [
    {
     "name": "stdout",
     "output_type": "stream",
     "text": [
      "/home/dfried/projects/onecommon/aaai2020/experiments\n"
     ]
    }
   ],
   "source": [
    "cd '/home/dfried/projects/onecommon/aaai2020/experiments'"
   ]
  },
  {
   "cell_type": "code",
   "execution_count": 3,
   "metadata": {},
   "outputs": [],
   "source": [
    "import argparse"
   ]
  },
  {
   "cell_type": "code",
   "execution_count": 4,
   "metadata": {},
   "outputs": [
    {
     "name": "stdout",
     "output_type": "stream",
     "text": [
      "freq cutoff: 0\n",
      "vocab size: 1857\n",
      "dataset data/onecommon/train_reference_1.txt, 8304 instances, total 545056, unks 0, ratio 0.00%\n",
      "dataset data/onecommon/valid_reference_1.txt, 1038 instances, total 69348, unks 202, ratio 0.29%\n",
      "dataset data/onecommon/test_reference_1.txt, 1038 instances, total 67284, unks 210, ratio 0.31%\n",
      "hits: 0\n",
      "misses: 4500\n"
     ]
    },
    {
     "name": "stderr",
     "output_type": "stream",
     "text": [
      "100%|██████████████████████████████████████| 1038/1038 [00:01<00:00, 813.17it/s]\n",
      "100%|██████████████████████████████████████| 8304/8304 [00:11<00:00, 744.03it/s]\n",
      "/home/dfried/miniconda3/envs/onecommon/lib/python3.6/site-packages/torch/serialization.py:657: SourceChangeWarning: source code of class 'models.rnn_reference_model.HierarchicalRnnReferenceModel' has changed. you can retrieve the original source code by accessing the object's source attribute or set `torch.nn.Module.dump_patches = True` and use the patch tool to revert the changes.\n",
      "  warnings.warn(msg, SourceChangeWarning)\n",
      "/home/dfried/miniconda3/envs/onecommon/lib/python3.6/site-packages/torch/serialization.py:657: SourceChangeWarning: source code of class 'models.ctx_encoder.RelationalAttentionContextEncoder3' has changed. you can retrieve the original source code by accessing the object's source attribute or set `torch.nn.Module.dump_patches = True` and use the patch tool to revert the changes.\n",
      "  warnings.warn(msg, SourceChangeWarning)\n",
      "/home/dfried/miniconda3/envs/onecommon/lib/python3.6/site-packages/torch/serialization.py:657: SourceChangeWarning: source code of class 'models.attention_layers.AttentionLayer' has changed. you can retrieve the original source code by accessing the object's source attribute or set `torch.nn.Module.dump_patches = True` and use the patch tool to revert the changes.\n",
      "  warnings.warn(msg, SourceChangeWarning)\n",
      "/home/dfried/miniconda3/envs/onecommon/lib/python3.6/site-packages/torch/serialization.py:657: SourceChangeWarning: source code of class 'models.attention_layers.StructuredTemporalAttentionLayer' has changed. you can retrieve the original source code by accessing the object's source attribute or set `torch.nn.Module.dump_patches = True` and use the patch tool to revert the changes.\n",
      "  warnings.warn(msg, SourceChangeWarning)\n",
      "/home/dfried/miniconda3/envs/onecommon/lib/python3.6/site-packages/torch/serialization.py:657: SourceChangeWarning: source code of class 'models.attention_layers.StructuredAttentionLayer' has changed. you can retrieve the original source code by accessing the object's source attribute or set `torch.nn.Module.dump_patches = True` and use the patch tool to revert the changes.\n",
      "  warnings.warn(msg, SourceChangeWarning)\n"
     ]
    },
    {
     "name": "stdout",
     "output_type": "stream",
     "text": [
      "1: 2 / 1038 \t= 0.0019\n",
      "2: 68 / 1036 \t= 0.0656\n",
      "3: 260 / 968 \t= 0.2686\n",
      "4: 254 / 708 \t= 0.3588\n",
      "5: 214 / 454 \t= 0.4714\n",
      "6: 104 / 240 \t= 0.4333\n",
      "7: 78 / 136 \t= 0.5735\n",
      "8: 28 / 58 \t= 0.4828\n",
      "9: 20 / 30 \t= 0.6667\n",
      "10: 6 / 10 \t= 0.6000\n",
      "11: 4 / 4 \t= 1.0000\n",
      "avg dialogue length: 3.07 turns\n"
     ]
    },
    {
     "name": "stderr",
     "output_type": "stream",
     "text": [
      "/home/dfried/miniconda3/envs/onecommon/lib/python3.6/site-packages/torch/serialization.py:657: SourceChangeWarning: source code of class 'models.markable_detector.BiLSTM_CRF' has changed. you can retrieve the original source code by accessing the object's source attribute or set `torch.nn.Module.dump_patches = True` and use the patch tool to revert the changes.\n",
      "  warnings.warn(msg, SourceChangeWarning)\n"
     ]
    }
   ],
   "source": [
    "from notebooks.model_sandbox_rel3 import *"
   ]
  },
  {
   "cell_type": "code",
   "execution_count": 5,
   "metadata": {},
   "outputs": [],
   "source": [
    "base = 'expts/rel3_tsel_ref_dial_model_separate/directions'\n",
    "dot_recurrence = 'expts/rel3_tsel_ref_dial_model_separate/dot_recurrence'\n",
    "dot_recurrence_no_beliefs = 'expts/rel3_tsel_ref_dial_model_separate/dot_recurrence_no-beliefs'\n",
    "is_selection_old = 'expts/rel3_tsel_ref_dial_model_separate/is_selection_old'\n",
    "is_selection_dir = 'expts/rel3_tsel_ref_dial_model_separate/is_selection'\n",
    "\n",
    "# TODO: ep 5 -> ep 20 for with-selection\n",
    "model_fnames = {\n",
    "    'basic': f'{base}/base_512_learned-pooling_untied_bidirectional_hidden-mention-encoder/1_ep-30.th',\n",
    "    'encoder-filtered-shared': f'{base}/base_512_extremes_learned-pooling_untied_bidirectional_hidden-mention-encoder-filtered-shared/1_ep-30.th',\n",
    "    'encoder-filtered-separate': f'{base}/base_512_extremes_learned-pooling_untied_bidirectional_hidden-mention-encoder-filtered-separate/1_ep-30.th',\n",
    "    'encoder-filtered-separate-diffs': f'{base}/base_512_extremes_learned-pooling_untied_bidirectional_hidden-mention-encoder-filtered-separate-diffs/1_ep-30.th',\n",
    "#     'dot-recurrence': f'{dot_recurrence}/base_dr-self+partner-32-mention-selection/1_ep-20.th',\n",
    "    'dot-recurrence-no-beliefs': f'{dot_recurrence_no_beliefs}/base_mention-selection-ref-partner/1_ep-20.th',\n",
    "    'dot-recurrence-oracle-no-beliefs': f'{dot_recurrence_no_beliefs}/base_oracle_mention-selection-ref-partner/1_ep-20.th',\n",
    "#     'dot-recurrence-nm-multi': f'{dot_recurrence}/base_dr-self+partner-64-mention-selection_nmpt-multi-reference_loss-expanded/1_ep-20.th',\n",
    "    'dot-recurrence-nm-multi-no-beliefs': f'{dot_recurrence_no_beliefs}/base_mention-selection-ref-partner_nmpt-multi_loss-expanded/1_ep-20.th',\n",
    "    'dot-recurrence-nm-multi-split-count': f'{dot_recurrence_no_beliefs}/base_split_mention-selection-ref-partner_nmpt-multi_loss-expanded_rerun_hce-cf/1_ep-20.th',\n",
    "    'npm-no-lang_dri-wawm': f'{dot_recurrence_no_beliefs}/base_mention-selection-ref-partner_nmpt-multi_loss-expanded_npm-no-lang_dri-wawm/1_ep-20.th',\n",
    "#     'with-selection': f'{is_selection_old}/base_hcis_1-layer_dr-in_turn/1_ep-20.th'\n",
    "#     'with-selection': f'{is_selection_dir}/base_hcis_1-layer_dr-in_turn/1_ep-20.th',\n",
    "    'is_selection-turn': f'{is_selection_dir}/base_turn/1_ep-7.th',\n",
    "    'is_selection-turn-dr-in': f'{is_selection_dir}/base_turn/1_ep-4.th',\n",
    "    'selection-no-lang': f'{dot_recurrence_no_beliefs}/base_mention-selection-ref-partner_nmpt-multi_loss-expanded_sel-no-lang_dri-wawm/1_ep-20.th',\n",
    "    'kitchen-sink': f'{dot_recurrence_no_beliefs}/base_anneal_mention-selection-ref-partner_nmpt-multi_loss-expanded_sel-no-lang_dri-wawmpapm_sacf-count_hcme-filtered-separate_hcme-count/1_ep-20.th',\n",
    "}"
   ]
  },
  {
   "cell_type": "code",
   "execution_count": 6,
   "metadata": {},
   "outputs": [],
   "source": [
    "models = {\n",
    "    name: utils.load_model(model_fname, map_location='cpu', prefix_dir=None)\n",
    "    for name, model_fname in model_fnames.items()\n",
    "}"
   ]
  },
  {
   "cell_type": "code",
   "execution_count": 7,
   "metadata": {},
   "outputs": [],
   "source": [
    "# markable_detector = utils.load_model('serialized_models/markable_detector_with_dict_1.th', map_location='cpu', prefix_dir=None)\n",
    "# markable_detector.eval()\n",
    "# # TODO: this will no longer be necessary with markable_detector_with_dict\n",
    "# # markable_corpus = markable_detector.corpus_ty('one_common', 'data/onecommon',\n",
    "# #                                      train='train_markable_1.txt', valid='valid_markable_1.txt', test='test_markable_1.txt')\n",
    "# # markable_detector.word_dict = markable_corpus.word_dict"
   ]
  },
  {
   "cell_type": "code",
   "execution_count": 8,
   "metadata": {},
   "outputs": [
    {
     "data": {
      "text/plain": [
       "dict_keys(['basic', 'encoder-filtered-shared', 'encoder-filtered-separate', 'encoder-filtered-separate-diffs', 'dot-recurrence-no-beliefs', 'dot-recurrence-oracle-no-beliefs', 'dot-recurrence-nm-multi-no-beliefs', 'dot-recurrence-nm-multi-split-count', 'npm-no-lang_dri-wawm', 'is_selection-turn', 'is_selection-turn-dr-in', 'selection-no-lang', 'kitchen-sink'])"
      ]
     },
     "execution_count": 8,
     "metadata": {},
     "output_type": "execute_result"
    }
   ],
   "source": [
    "models.keys()"
   ]
  },
  {
   "cell_type": "code",
   "execution_count": 9,
   "metadata": {},
   "outputs": [],
   "source": [
    "# model = models['encoder-filtered-separate-diffs']\n",
    "# model = models['dot-recurrence']\n",
    "# model = models['dot-recurrence-no-beliefs']\n",
    "# model = models['dot-recurrence-nm-multi-no-beliefs']\n",
    "# model = models['dot-recurrence-nm-multi-split-count']\n",
    "# model = models['npm-no-lang_dri-wawm']\n",
    "# model = models['is_selection-turn']\n",
    "# model = models['selection-no-lang']\n",
    "model = models['kitchen-sink']"
   ]
  },
  {
   "cell_type": "code",
   "execution_count": 10,
   "metadata": {},
   "outputs": [
    {
     "data": {
      "text/plain": [
       "BiLSTM_CRF(\n",
       "  (word_embeds): Embedding(1131, 128)\n",
       "  (lstm): LSTM(128, 128, bidirectional=True)\n",
       "  (hidden2tag): Linear(in_features=256, out_features=6, bias=True)\n",
       ")"
      ]
     },
     "execution_count": 10,
     "metadata": {},
     "output_type": "execute_result"
    }
   ],
   "source": [
    "markable_detector = utils.load_model('serialized_models/markable_detector_with_dict_1.th', map_location='cpu', prefix_dir=None)\n",
    "markable_detector.eval()"
   ]
  },
  {
   "cell_type": "code",
   "execution_count": 11,
   "metadata": {},
   "outputs": [
    {
     "data": {
      "text/plain": [
       "tensor(0.0100)"
      ]
     },
     "execution_count": 11,
     "metadata": {},
     "output_type": "execute_result"
    }
   ],
   "source": [
    "model.dot_recurrence_weight_temperature"
   ]
  },
  {
   "cell_type": "code",
   "execution_count": 12,
   "metadata": {},
   "outputs": [],
   "source": [
    "agent = RnnAgent(model, args, markable_detector=markable_detector)"
   ]
  },
  {
   "cell_type": "code",
   "execution_count": 13,
   "metadata": {},
   "outputs": [],
   "source": [
    "class BlankBeliefConstructor(object):\n",
    "    def make_beliefs(*args):\n",
    "        return None"
   ]
  },
  {
   "cell_type": "code",
   "execution_count": 14,
   "metadata": {},
   "outputs": [],
   "source": [
    "blank_belief_constructor = BlankBeliefConstructor()"
   ]
  },
  {
   "cell_type": "code",
   "execution_count": 15,
   "metadata": {},
   "outputs": [
    {
     "name": "stdout",
     "output_type": "stream",
     "text": [
      "Automatic pdb calling has been turned ON\n"
     ]
    }
   ],
   "source": [
    "pdb on"
   ]
  },
  {
   "cell_type": "code",
   "execution_count": 16,
   "metadata": {},
   "outputs": [],
   "source": [
    "agent.feed_context(validset[0].ctx.flatten(), blank_belief_constructor)"
   ]
  },
  {
   "cell_type": "code",
   "execution_count": 17,
   "metadata": {},
   "outputs": [
    {
     "data": {
      "text/plain": [
       "[]"
      ]
     },
     "execution_count": 17,
     "metadata": {},
     "output_type": "execute_result"
    }
   ],
   "source": [
    "agent.reader_lang_hs"
   ]
  },
  {
   "cell_type": "code",
   "execution_count": 18,
   "metadata": {},
   "outputs": [],
   "source": [
    "def current_sel_prob(agent):\n",
    "    beliefs = agent.state.make_beliefs(\n",
    "            'selection', agent.state.turn,  agent.partner_ref_outs + [None], agent.ref_outs + [None]\n",
    "        )\n",
    "    current_sel_prob = agent.model.selection(\n",
    "        agent.state, torch.zeros((1, 1, model.args.nhid_lang*2)), torch.LongTensor([0]),\n",
    "        beliefs=beliefs,\n",
    "    )[0].softmax(-1)\n",
    "    return current_sel_prob"
   ]
  },
  {
   "cell_type": "code",
   "execution_count": 19,
   "metadata": {},
   "outputs": [],
   "source": [
    "x = torch.zeros(1)"
   ]
  },
  {
   "cell_type": "code",
   "execution_count": 20,
   "metadata": {},
   "outputs": [],
   "source": [
    "def unsigmoid(x):\n",
    "    x = x.float()\n",
    "    return (x / (1 - x)).log()"
   ]
  },
  {
   "cell_type": "code",
   "execution_count": 21,
   "metadata": {},
   "outputs": [
    {
     "data": {
      "text/plain": [
       "torch.Size([1, 2, 7])"
      ]
     },
     "execution_count": 21,
     "metadata": {},
     "output_type": "execute_result"
    }
   ],
   "source": [
    "validset[4].ref_tgt[0].size()"
   ]
  },
  {
   "cell_type": "code",
   "execution_count": 22,
   "metadata": {},
   "outputs": [
    {
     "data": {
      "text/plain": [
       "[tensor([2]), tensor([0])]"
      ]
     },
     "execution_count": 22,
     "metadata": {},
     "output_type": "execute_result"
    }
   ],
   "source": [
    "validset[4].num_markables"
   ]
  },
  {
   "cell_type": "code",
   "execution_count": 23,
   "metadata": {},
   "outputs": [
    {
     "data": {
      "text/plain": [
       "torch.Size([1, 2, 3])"
      ]
     },
     "execution_count": 23,
     "metadata": {},
     "output_type": "execute_result"
    }
   ],
   "source": [
    "validset[4].ref_inpt[0].size()"
   ]
  },
  {
   "cell_type": "code",
   "execution_count": 24,
   "metadata": {},
   "outputs": [
    {
     "data": {
      "text/plain": [
       "False"
      ]
     },
     "execution_count": 24,
     "metadata": {},
     "output_type": "execute_result"
    }
   ],
   "source": [
    "model.args.dot_recurrence_oracle"
   ]
  },
  {
   "cell_type": "code",
   "execution_count": 25,
   "metadata": {},
   "outputs": [],
   "source": [
    "marginal_logits = unsigmoid(validset[4].ref_tgt[0])"
   ]
  },
  {
   "cell_type": "code",
   "execution_count": 26,
   "metadata": {},
   "outputs": [],
   "source": [
    "from models.attention_layers import StructuredAttentionLayer"
   ]
  },
  {
   "cell_type": "code",
   "execution_count": 27,
   "metadata": {},
   "outputs": [
    {
     "data": {
      "text/plain": [
       "torch.Size([1, 2, 2, 2, 2, 2, 2, 2, 2])"
      ]
     },
     "execution_count": 27,
     "metadata": {},
     "output_type": "execute_result"
    }
   ],
   "source": [
    "StructuredAttentionLayer.marginal_logits_to_full_logits(marginal_logits).size()"
   ]
  },
  {
   "cell_type": "code",
   "execution_count": 28,
   "metadata": {},
   "outputs": [],
   "source": [
    "mentions = validset[4].ref_tgt[0]"
   ]
  },
  {
   "cell_type": "code",
   "execution_count": 29,
   "metadata": {},
   "outputs": [],
   "source": [
    "from models.utils import bit_to_int_array"
   ]
  },
  {
   "cell_type": "code",
   "execution_count": 30,
   "metadata": {},
   "outputs": [],
   "source": [
    "def selection_rollout(agent, dots_mentioned_per_ref):\n",
    "    num_mentions, bsz, num_dots = dots_mentioned_per_ref.size()\n",
    "#     bsz, num_mentions, num_dots = dots_mentioned_per_ref.size()\n",
    "    assert bsz == 1\n",
    "    assert num_dots == 7\n",
    "    \n",
    "    if num_mentions == 0:\n",
    "        dummy_ref_inpt = None\n",
    "        ref_out = None\n",
    "    else:\n",
    "        dummy_ref_inpt = torch.zeros(bsz, num_mentions, 3).long()\n",
    "        ref_out_marginals = unsigmoid(dots_mentioned_per_ref)\n",
    "        ref_out_joint = torch.full((num_mentions, bsz, 2**7), -1e9)\n",
    "        ref_out_joint.scatter_(-1, bit_to_int_array(dots_mentioned_per_ref).unsqueeze(-1), 0)\n",
    "        ref_out_dist = None\n",
    "        ref_out = ref_out_marginals, ref_out_joint, ref_out_dist\n",
    "    num_markables = torch.LongTensor([num_mentions])\n",
    "    dummy_lang_hs = torch.zeros((bsz, 1, model.args.nhid_lang*2))\n",
    "    partner_ref_inpt = None\n",
    "    partner_num_markables = torch.LongTensor([0])\n",
    "    \n",
    "    dummy_ref_tgt = torch.zeros((bsz, num_mentions, 7)).long()\n",
    "    dummy_partner_ref_tgt = torch.zeros((bsz, 0, 7)).long()\n",
    "    \n",
    "    # if this is True, should pass dots_mentioned_per_ref for ref_tgt (the second-to-last argument)\n",
    "    if agent.model.args.dot_recurrence_oracle:\n",
    "        raise NotImplementedError()\n",
    "        \n",
    "    new_ref_outs = agent.ref_outs + [ref_out]\n",
    "    new_partner_ref_outs = agent.partner_ref_outs + [None]\n",
    "    \n",
    "    state = agent.model._update_dot_h_maybe_multi(\n",
    "        agent.state, torch.zeros((1, 1, model.args.nhid_lang*2)),\n",
    "        dummy_ref_inpt, partner_ref_inpt,\n",
    "        num_markables, partner_num_markables,\n",
    "        ref_out, None,\n",
    "        dummy_ref_tgt, dummy_partner_ref_tgt,\n",
    "    )\n",
    "    \n",
    "    beliefs = state.make_beliefs(\n",
    "            'selection', state.turn,  \n",
    "            # TODO: fix this method so that it takes things in the reasonable order\n",
    "            new_partner_ref_outs, new_ref_outs\n",
    "        )\n",
    "    \n",
    "    sel_prob = agent.model.selection(\n",
    "        state, torch.zeros((1, 1, model.args.nhid_lang*2)), torch.LongTensor([0]),\n",
    "        beliefs=beliefs,\n",
    "    )[0].softmax(-1)\n",
    "    return sel_prob"
   ]
  },
  {
   "cell_type": "code",
   "execution_count": 31,
   "metadata": {},
   "outputs": [
    {
     "name": "stdout",
     "output_type": "stream",
     "text": [
      "Automatic pdb calling has been turned ON\n"
     ]
    }
   ],
   "source": [
    "pdb on"
   ]
  },
  {
   "cell_type": "code",
   "execution_count": 32,
   "metadata": {},
   "outputs": [],
   "source": [
    "def get_selection_stats(distribution):\n",
    "    distribution = distribution.flatten()\n",
    "    max_prob = distribution.max().item()\n",
    "    entropy = -(distribution * distribution.log()).sum().item()\n",
    "    return {\n",
    "        'max_prob': max_prob,\n",
    "        'entropy': entropy\n",
    "    }"
   ]
  },
  {
   "cell_type": "code",
   "execution_count": 33,
   "metadata": {},
   "outputs": [],
   "source": [
    "def print_selection_stats(distribution):\n",
    "    stats = get_selection_stats(distribution)\n",
    "    print(\"max prob: {}\".format(stats['max_prob']))\n",
    "    print(\"entropy: {}\".format(stats['entropy']))"
   ]
  },
  {
   "cell_type": "code",
   "execution_count": 34,
   "metadata": {
    "scrolled": false
   },
   "outputs": [],
   "source": [
    "def selection_sandbox(index, datasplit=validset, candidates=1,\n",
    "                      sample_temperature=0.25, argmax_temperature=0.005,\n",
    "                      force_num_markables=False,\n",
    "                      inference='beam', detect_markables=True,\n",
    "                      min_num_mentions=0, max_num_mentions=12,\n",
    "                      mention_marginals=False, mention_top_k=None,\n",
    "                      model=model,\n",
    "                      for_partner=False,\n",
    "                      display_mentions=display_mentions,\n",
    "                      display_referents=True,\n",
    "                      display_ref_marginals=False,\n",
    "                      display_selection=True,\n",
    "                      display_mention_candidates=True,\n",
    "                     ):\n",
    "    if mention_top_k is not None:\n",
    "        ap = ArgumentParser()\n",
    "        PragmaticReferencePredictor.add_args(ap)\n",
    "        candidate_predictor = PragmaticReferencePredictor(ap.parse_args(['--l1_candidates={}'.format(mention_top_k)]))\n",
    "    \n",
    "    if for_partner:\n",
    "        instance = next(find_same_scenario(index, datasplit=datasplit))\n",
    "    else:\n",
    "        instance = datasplit[index]\n",
    "    \n",
    "    is_selection_prediction = vars(model.args).get('is_selection_prediction')\n",
    "    \n",
    "    ctx, inpts, tgts, ref_inpts, ref_tgts, sel_tgt, \\\n",
    "    [scenario_id], real_ids, partner_real_ids, agents, chat_ids, sel_idxs, \\\n",
    "    lens, rev_idxs, hid_idxs, num_markables, \\\n",
    "    is_self, partner_ref_inpts, partner_ref_tgts_our_view, partner_num_markables,\\\n",
    "    ref_disagreements, partner_ref_disagreements, partner_ref_tgts, is_selections = instance\n",
    "    print('scenario_id: {}'.format(scenario_id))\n",
    "    \n",
    "    bsz = ctx.size(0)\n",
    "    num_dots = 7\n",
    "    \n",
    "    # assume we've been training for a while, so that the beliefs are out of the warmup period (e.g. for models that switch from true->predicted)\n",
    "    epoch = 1000\n",
    "    \n",
    "    all_dots_mentioned = make_dots_mentioned_multi(ref_tgts, model.args, bsz, num_dots)\n",
    "    all_dots_mentioned_per_ref = make_dots_mentioned_per_ref_multi(ref_tgts, model.args, bsz, num_dots)\n",
    "\n",
    "    partner_dots_mentioned_our_view = make_dots_mentioned_multi(\n",
    "        partner_ref_tgts_our_view, model.args, bsz, num_dots\n",
    "    )\n",
    "    partner_dots_mentioned_our_view_per_ref = make_dots_mentioned_per_ref_multi(\n",
    "        partner_ref_tgts_our_view, model.args, bsz, num_dots\n",
    "    )\n",
    "    \n",
    "    updated_args = argparse.Namespace(**utils.merge_dicts(vars(model.args), vars(args)))\n",
    "    \n",
    "    belief_constructor = BeliefConstructor(\n",
    "        model.args, epoch, bsz, num_dots, inpts, ref_tgts, partner_ref_tgts_our_view,\n",
    "        real_ids, partner_real_ids, sel_tgt, is_self,\n",
    "        partner_dots_mentioned_our_view, partner_dots_mentioned_our_view_per_ref,\n",
    "        all_dots_mentioned, all_dots_mentioned_per_ref,\n",
    "        ref_inpts, partner_ref_inpts,\n",
    "        num_markables, partner_num_markables,\n",
    "    )\n",
    "    \n",
    "    blank_belief_constructor = BlankBeliefConstructor()\n",
    "    \n",
    "    scenario = all_scenarios[scenario_id]\n",
    "    agent = RnnAgent(model, updated_args, markable_detector=markable_detector)\n",
    "    agent.feed_context(ctx.flatten(),\n",
    "                       belief_constructor,\n",
    "                       num_markables_to_force=num_markables[0] if force_num_markables else None,\n",
    "                       min_num_mentions=min_num_mentions,\n",
    "                       max_num_mentions=max_num_mentions,\n",
    "                      )\n",
    "    agent.real_ids = real_ids\n",
    "    agent.agent_id = agents[0]\n",
    "\n",
    "    conv = []\n",
    "    speaker = []\n",
    "    words_left = 5000\n",
    "\n",
    "    sentence_ix = 0\n",
    "\n",
    "    assert len(inpts) == len(tgts)\n",
    "\n",
    "    while sentence_ix < len(inpts):\n",
    "        if all_dots_mentioned[sentence_ix] is not None:\n",
    "            print(f\"dots_mentioned size: {all_dots_mentioned[sentence_ix].size()}\")\n",
    "        else:\n",
    "            print(\"dots_mentioned is None\")\n",
    "        if all_dots_mentioned_per_ref[sentence_ix] is not None:\n",
    "            print(f\"dots_mentioned_per_ref size: {all_dots_mentioned_per_ref[sentence_ix].size()}\")\n",
    "        else:\n",
    "            print(\"dots_mentioned_per_ref is None\")\n",
    "        words_og = [corpus.word_dict.idx2word[ix] for ix in inpts[sentence_ix].flatten().numpy()]\n",
    "        if agent.reader_lang_hs:\n",
    "            print(agent.reader_lang_hs[-1].size())\n",
    "            \n",
    "        assert agent.state.turn == sentence_ix\n",
    "        sel_prob_now = agent.model.current_selection_probabilities(agent.state)\n",
    "#         sel_prob_now = current_sel_prob(agent)\n",
    "        print_selection_stats(sel_prob_now)\n",
    "        \n",
    "        display_attns(scenario, sel_prob_now, agent.agent_id, \"sel_prob_now: {}\".format(sel_prob_now.flatten()))\n",
    "        \n",
    "        if ref_inpts[sentence_ix] is not None:\n",
    "            dots_mentioned = (ref_tgts[sentence_ix].sum(dim=1) > 0)\n",
    "            dots_mentioned_per_ref = ref_tgts[sentence_ix]\n",
    "            this_num_markables = num_markables[sentence_ix]\n",
    "    #         display_attn(scenario, dots_mentioned.float(), agent.agent_id, name='dots_mentioned')\n",
    "            mentions = [dots_mentioned_per_ref[:,mention_ix].float()  for mention_ix in range(dots_mentioned_per_ref.size(1))]\n",
    "            nm_out, _, nm_num_markables = agent.next_mention_outs[-1]\n",
    "#             print('nm_num_markables: {}'.format(nm_num_markables))\n",
    "#             print('num_markables: {}'.format(this_num_markables))\n",
    "            if nm_out is not None:\n",
    "#                 print(nm_out[0].size())\n",
    "#                 dummy_targets = torch.zeros_like(nm_out[0].size())\n",
    "                dummy_targets = torch.zeros((1, nm_num_markables[0].item(), 7)).long()\n",
    "                _, nm_preds, _ = reference_predictor.forward(\n",
    "                    True, dummy_targets, nm_out, nm_num_markables\n",
    "                )\n",
    "#                 print(nm_preds.size())\n",
    "                if display_mentions and mention_marginals:\n",
    "                    display_attns(scenario, nm_out[0].sigmoid().squeeze(1).float(), agent.agent_id, \"to_mention_marginals\")\n",
    "                if mention_top_k is not None:\n",
    "                    cands = candidate_predictor.make_candidates(nm_out, nm_num_markables)[1]\n",
    "#                     best_entropy = 1000\n",
    "                    best_max_prob = 0\n",
    "                    nm_preds_rerank = nm_preds\n",
    "                    for ix in range(cands.size(2)):\n",
    "                        this_nm_preds = cands[:,0,ix].unsqueeze(1)\n",
    "#                         sel_prob_cand = selection_rollout(agent, this_nm_preds)\n",
    "                        sel_prob_cand = agent.model.rollout_selection_probabilities(agent.state, this_nm_preds, nm_num_markables)\n",
    "#                         this_entropy = get_selection_stats(sel_prob_cand)['entropy']\n",
    "                        this_max_prob = get_selection_stats(sel_prob_cand)['max_prob']\n",
    "#                         if this_entropy < best_entropy:\n",
    "#                             nm_preds_rerank = this_nm_preds\n",
    "#                             best_entropy = this_entropy\n",
    "                        if this_max_prob > best_max_prob:\n",
    "                            nm_preds_rerank = this_nm_preds\n",
    "                            best_best_entropy = this_max_prob\n",
    "                        if display_mentions and display_mention_candidates:\n",
    "                            display_attns(scenario, this_nm_preds.squeeze(1), agent.agent_id, \"to_mention_candidate {}\".format(ix))\n",
    "                            print_selection_stats(sel_prob_cand)\n",
    "                            display_attns(scenario, sel_prob_cand, agent.agent_id, \"sel_prob after cand: {}\".format(sel_prob_cand.flatten()))\n",
    "                if display_mentions:\n",
    "                    display_attns(scenario, nm_preds.squeeze(1).float(), agent.agent_id, \"to_mention_pred\")\n",
    "                \n",
    "#                 dots_mentioned_per_ref_pred = (nm_out[0] > 0).transpose(0,1)\n",
    "                \n",
    "#                 sel_prob_predicted = selection_rollout(agent, nm_preds)\n",
    "                sel_prob_predicted = agent.model.rollout_selection_probabilities(agent.state, nm_preds, nm_num_markables)\n",
    "                print_selection_stats(sel_prob_predicted)\n",
    "                display_attns(scenario, sel_prob_predicted, agent.agent_id, \"sel_prob after pred: {}\".format(sel_prob_predicted.flatten()))\n",
    "                \n",
    "                if mention_top_k is not None:\n",
    "                    if display_mentions:\n",
    "                        display_attns(scenario, nm_preds_rerank.squeeze(1).float(), agent.agent_id, \"to_mention_rerank\")\n",
    "#                     sel_prob_rerank = selection_rollout(agent, nm_preds_rerank)\n",
    "                    sel_prob_rerank = agent.model.rollout_selection_probabilities(agent.state, nm_preds_rerank, nm_num_markables)\n",
    "                    print_selection_stats(sel_prob_rerank)\n",
    "                    display_attns(scenario, sel_prob_rerank, agent.agent_id, \"sel_prob after rerank pred: {}\".format(sel_prob_rerank.flatten()))\n",
    "            else:\n",
    "                print(\"empty to_mention_pred\")\n",
    "            if display_mentions:\n",
    "                display_attns(scenario, mentions, agent.agent_id, \"to_mention_true\")\n",
    "            \n",
    "#             for mention_ix in range(dots_mentioned_per_ref.size(1)):\n",
    "#                 display_attn(scenario, dots_mentioned_per_ref[:,mention_ix].float(), agent.agent_id, name=f'dots_mentioned_{mention_ix}')\n",
    "        else:\n",
    "            dots_mentioned = torch.zeros(1, 7).bool()\n",
    "            dots_mentioned_per_ref = torch.zeros(1, 0, 7).bool()\n",
    "            this_num_markables = torch.LongTensor([0])\n",
    "            \n",
    "        if is_selection_prediction:\n",
    "            print(\"predicted is_selection probability\")\n",
    "            print(agent.is_selection_outs[-1].sigmoid())\n",
    "            print(\"is_selection: {}\".format(is_selections[sentence_ix]))\n",
    "\n",
    "        if is_self[sentence_ix]:\n",
    "            if inference == 'sample':\n",
    "                for sample_ix in range(candidates):\n",
    "                    pred_outs, _, _, _, extra = agent.model.write(\n",
    "                        agent.state, \n",
    "                        words_left, sample_temperature,\n",
    "                        dots_mentioned=dots_mentioned,\n",
    "                        dots_mentioned_per_ref=dots_mentioned_per_ref,\n",
    "                        num_markables=this_num_markables,\n",
    "                        is_selection=is_selections[sentence_ix],\n",
    "                    )\n",
    "                    print('sample {}\\t{}'.format(sample_ix, ' '.join(agent._decode(pred_outs, agent.model.word_dict))))\n",
    "            elif inference in ['beam', 'gumbel_beam']:\n",
    "                extra = agent.model.write_beam(\n",
    "                    agent.state, words_left, candidates,\n",
    "                    dots_mentioned=dots_mentioned,\n",
    "                    dots_mentioned_per_ref=dots_mentioned_per_ref,\n",
    "                    num_markables=this_num_markables,\n",
    "                    temperature=sample_temperature if inference=='gumbel_beam' else 1.0,\n",
    "                    gumbel_noise=inference=='gumbel_beam',\n",
    "                    is_selection=is_selections[sentence_ix],\n",
    "                )[-1]\n",
    "                for cand_ix, utt in enumerate(extra['words']):\n",
    "                    print('beam {}\\t{}'.format(cand_ix, ' '.join(utt)))\n",
    "            else:\n",
    "                raise NotImplementedError(inference)\n",
    "            pred_outs, _, _, _, extra = agent.model.write(\n",
    "                agent.state, \n",
    "                words_left, argmax_temperature,\n",
    "                dots_mentioned=dots_mentioned,\n",
    "                dots_mentioned_per_ref=dots_mentioned_per_ref,\n",
    "                num_markables=this_num_markables,\n",
    "                is_selection=is_selections[sentence_ix],\n",
    "            )\n",
    "            print('greedy\\t{}'.format(' '.join(agent._decode(pred_outs, agent.model.word_dict))))\n",
    "    #         print(' '.join(words_og))\n",
    "    \n",
    "#             rollout_sel_prob = selection_rollout(agent, dots_mentioned_per_ref.transpose(0,1))\n",
    "#             print_selection_stats(rollout_sel_prob)\n",
    "#             display_attns(scenario, rollout_sel_prob, agent.agent_id, \"rollout_sel_prob: {}\".format(rollout_sel_prob.flatten()))\n",
    "\n",
    "            dummy_ref_tgt = torch.zeros((1, this_num_markables.item(), 7)).long()\n",
    "            dummy_partner_ref_tgt = torch.zeros((1, partner_num_markables[sentence_ix].item(), 7)).long()\n",
    "            out = agent.write(\n",
    "                max_words=words_left,\n",
    "                force_words=[words_og],\n",
    "                start_token=words_og[0],\n",
    "                dots_mentioned=dots_mentioned,\n",
    "                dots_mentioned_per_ref=dots_mentioned_per_ref,\n",
    "                num_markables=this_num_markables,\n",
    "                ref_inpt=ref_inpts[sentence_ix],\n",
    "                detect_markables=detect_markables,\n",
    "                is_selection=is_selections[sentence_ix],\n",
    "#                 min_num_mentions=min_num_mentions,\n",
    "#                 max_num_mentions=max_num_mentions,\n",
    "               ref_tgt=dummy_ref_tgt if not detect_markables else None,\n",
    "               partner_ref_tgt=dummy_partner_ref_tgt if not detect_markables else None,\n",
    "            )\n",
    "        \n",
    "        else:\n",
    "            out = words_og\n",
    "            dummy_ref_tgt = torch.zeros((1, this_num_markables.item(), 7)).long()\n",
    "            dummy_partner_ref_tgt = torch.zeros((1, partner_num_markables[sentence_ix].item(), 7)).long()\n",
    "            agent.read(words_og,\n",
    "                       dots_mentioned=dots_mentioned,\n",
    "                       dots_mentioned_per_ref=dots_mentioned_per_ref,\n",
    "                       num_markables=this_num_markables,\n",
    "                       partner_ref_inpt=partner_ref_inpts[sentence_ix],\n",
    "                       partner_num_markables=partner_num_markables[sentence_ix],\n",
    "                       next_num_markables_to_force=num_markables[sentence_ix + 1] if (force_num_markables and sentence_ix < len(num_markables) - 1) else None,\n",
    "                       detect_markables=detect_markables,\n",
    "                       min_num_mentions=min_num_mentions,\n",
    "                       max_num_mentions=max_num_mentions,\n",
    "                       is_selection=is_selections[sentence_ix],\n",
    "                       ref_tgt=dummy_ref_tgt if not detect_markables else None,\n",
    "                       partner_ref_tgt=dummy_partner_ref_tgt if not detect_markables else None,\n",
    "                       )\n",
    "        \n",
    "#         agent.update_dot_h(ref_inpts[sentence_ix], partner_ref_inpts[sentence_ix],\n",
    "#                             num_markables[sentence_ix], partner_num_markables[sentence_ix])\n",
    "            \n",
    "\n",
    "        print('human\\t{}'.format(' '.join(out)))\n",
    "    \n",
    "        if is_self[sentence_ix]:\n",
    "            if detect_markables:\n",
    "                print('detected markables:')\n",
    "                for markable in agent.markables[-1]:\n",
    "                    print(markable)\n",
    "                this_num_markables_pred = torch.LongTensor([len(agent.markables[-1])])\n",
    "                this_ref_inpts = agent.ref_inpts[-1]\n",
    "            elif ref_inpts[sentence_ix] is not None:\n",
    "                this_num_markables_pred = this_num_markables\n",
    "                this_ref_inpts = ref_inpt[sentence_ix]\n",
    "                \n",
    "                _, ref_preds, ref_stats = reference_predictor.forward(\n",
    "                    ref_inpts[sentence_ix], ref_tgts[sentence_ix], agent.ref_outs[-1], this_num_markables\n",
    "                )\n",
    "            else:\n",
    "                this_num_markables_pred = None\n",
    "            if this_num_markables_pred is not None:\n",
    "                dummy_targets = torch.zeros((1, this_num_markables_pred.item(), 7)).long()\n",
    "                _, ref_preds, _ = reference_predictor.forward(\n",
    "                    this_ref_inpts, dummy_targets, agent.ref_outs[-1], this_num_markables_pred\n",
    "                )\n",
    "#                 print(\"ref_preds size:\", ref_preds.size())\n",
    "                if agent.ref_outs[-1] is not None and ref_preds is not None and display_referents:\n",
    "                    if display_ref_marginals:\n",
    "                        display_attns(scenario, agent.ref_outs[-1][0].sigmoid().squeeze(1), agent.agent_id, \"ref_marginal_probs\")\n",
    "                    display_attns(scenario, ref_preds.squeeze(1).float(), agent.agent_id, \"refs_pred\")\n",
    "                    display_attns(scenario, ref_tgts[sentence_ix].squeeze(0).float(), agent.agent_id, \"refs_true\")\n",
    "#                 print(ref_stats)\n",
    "            if out[0] != 'YOU':\n",
    "                utt = ['YOU:'] + out\n",
    "            else:\n",
    "                utt = out\n",
    "        else:\n",
    "            if detect_markables:\n",
    "                print('detected markables:')\n",
    "                for markable in agent.partner_markables[-1]:\n",
    "                    print(markable)\n",
    "                this_partner_num_markables_pred = torch.LongTensor([len(agent.partner_markables[-1])])\n",
    "                this_partner_ref_inpts = agent.partner_ref_inpts[-1]\n",
    "            elif partner_ref_inpts[sentence_ix] is not None:\n",
    "                this_partner_num_markables_pred = partner_num_markables[sentence_ix]\n",
    "                this_partner_ref_inpts = partner_ref_inpts[sentence_ix]\n",
    "            else:\n",
    "                this_partner_num_markables_pred = None\n",
    "            \n",
    "            if this_partner_num_markables_pred is not None:\n",
    "#                 _, partner_ref_preds, partner_ref_stats = reference_predictor.forward(\n",
    "#                     partner_ref_inpts[sentence_ix], partner_ref_tgts_our_view[sentence_ix],\n",
    "#                     agent.partner_ref_outs[-1], partner_num_markables[sentence_ix]\n",
    "#                 )\n",
    "                dummy_targets = torch.zeros((1, this_partner_num_markables_pred.item(), 7)).long()\n",
    "                _, partner_ref_preds, partner_ref_stats = reference_predictor.forward(\n",
    "                    this_partner_ref_inpts, dummy_targets,\n",
    "                    agent.partner_ref_outs[-1], this_partner_num_markables_pred,\n",
    "                )\n",
    "    #             print(partner_ref_preds)\n",
    "                if agent.partner_ref_outs[-1] is not None and partner_ref_preds is not None and display_referents:\n",
    "                    if display_ref_marginals:\n",
    "                        display_attns(scenario, agent.partner_ref_outs[-1][0].sigmoid().squeeze(1), agent.agent_id, \"partner_ref_marginal_probs\")\n",
    "                    display_attns(scenario, partner_ref_preds.squeeze(1).float(), agent.agent_id, \"partner_refs_pred\")\n",
    "                    display_attns(scenario, partner_ref_tgts_our_view[sentence_ix].squeeze(0).float(), agent.agent_id, \"partner_refs_true\")\n",
    "                    display_attns(scenario, partner_ref_tgts[sentence_ix].squeeze(0).float(), 1 - agent.agent_id, \"partner_ref_true (their view)\")\n",
    "#                 print(partner_ref_stats)\n",
    "            if out[0] == 'THEM:':\n",
    "                utt = ['YOU:'] + out[1:]\n",
    "            else:\n",
    "                utt = ['YOU:'] + out\n",
    "        \n",
    "        print()\n",
    "        print('-'*40)\n",
    "        print()\n",
    "        words_left -= len(out)\n",
    "        conv.append(out)\n",
    "\n",
    "        if is_selection_function(out):\n",
    "            # sel_outs should be length 1\n",
    "            selection_logits, _, _ = agent.sel_outs[-1]\n",
    "            if display_selection:\n",
    "                display_attns(scenario, selection_logits.softmax(-1), agent.agent_id, \"sel_pred\")\n",
    "            sel_true = torch.zeros(1,7)\n",
    "            sel_true[0,sel_tgt] = 1\n",
    "            if display_selection:\n",
    "                display_attns(scenario, sel_true, agent.agent_id, \"sel_true\")\n",
    "        sentence_ix += 1"
   ]
  },
  {
   "cell_type": "code",
   "execution_count": 35,
   "metadata": {
    "scrolled": false
   },
   "outputs": [
    {
     "name": "stdout",
     "output_type": "stream",
     "text": [
      "scenario_id: S_kyf7CjNdkIqHi5pb\n",
      "overwriting key cuda with value False with value True\n",
      "overwriting key temperature with value 0.25 with value 0.1\n",
      "dots_mentioned size: torch.Size([1, 7])\n",
      "dots_mentioned_per_ref size: torch.Size([1, 0, 7])\n",
      "max prob: 0.37199294567108154\n",
      "entropy: 1.7535064220428467\n",
      "sel_prob_now: tensor([0.0613, 0.3720, 0.0637, 0.1483, 0.1115, 0.1324, 0.1107],\n",
      "       grad_fn=<ViewBackward>)\n"
     ]
    },
    {
     "name": "stderr",
     "output_type": "stream",
     "text": [
      "/pytorch/aten/src/ATen/native/BinaryOps.cpp:81: UserWarning: Integer division of tensors using div or / is deprecated, and in a future release div will perform true division as in Python 3. Use true_divide or floor_divide (// in Python) instead.\n"
     ]
    },
    {
     "data": {
      "text/html": [
       "<div style=\"white-space: nowrap\"><svg viewbox='0 0 430 430' width=\"172\" height=\"172\" id=\"agent_1\"><circle cx=\"215\" cy=\"215\" r=\"205\" fill=\"none\" stroke=\"black\" stroke-width=\"2\" stroke-dasharray=\"3,3\"/><circle cx=\"134\" cy=\"215\" r=\"10\" fill=\"rgb(136,136,136)\"/><circle cx=\"113\" cy=\"93\" r=\"7\" fill=\"rgb(82,82,82)\"/><circle cx=\"88\" cy=\"211\" r=\"11\" fill=\"rgb(132,132,132)\"/><circle cx=\"199\" cy=\"249\" r=\"13\" fill=\"rgb(188,188,188)\"/><circle cx=\"353\" cy=\"280\" r=\"12\" fill=\"rgb(180,180,180)\"/><circle cx=\"306\" cy=\"112\" r=\"10\" fill=\"rgb(112,112,112)\"/><circle cx=\"161\" cy=\"149\" r=\"8\" fill=\"rgb(174,174,174)\"/></svg><svg viewBox='0 0 430 430' id=\"svg\" width=\"172\" height=\"172\"><circle cx=\"215\" cy=\"215\" r=\"205\" fill=\"none\" stroke=\"black\" stroke-width=\"2\" stroke-dasharray=\"3,3\"/> <circle cx=\"134\" cy=\"215\" r=\"10\" fill=\"rgb(255,239,239)\" class=\"agent_1_3\"/><circle cx=\"113\" cy=\"93\" r=\"7\" fill=\"rgb(255,160,160)\" class=\"agent_1_31\"/><circle cx=\"88\" cy=\"211\" r=\"11\" fill=\"rgb(255,238,238)\" class=\"agent_1_37\"/><circle cx=\"199\" cy=\"249\" r=\"13\" fill=\"rgb(255,217,217)\" class=\"agent_1_49\"/><circle cx=\"353\" cy=\"280\" r=\"12\" fill=\"rgb(255,226,226)\" class=\"agent_1_51\"/><circle cx=\"306\" cy=\"112\" r=\"10\" fill=\"rgb(255,221,221)\" class=\"agent_1_58\"/><circle cx=\"161\" cy=\"149\" r=\"8\" fill=\"rgb(255,226,226)\" class=\"agent_1_71\"/></svg></div>"
      ],
      "text/plain": [
       "<IPython.core.display.HTML object>"
      ]
     },
     "metadata": {},
     "output_type": "display_data"
    },
    {
     "name": "stdout",
     "output_type": "stream",
     "text": [
      "human\tTHEM: 2 dark gray dots very close to each other , the one on the right is smaller than the left one <eos>\n",
      "detected markables:\n",
      "{'start': 3, 'end': 19, 'is_self': True, 'text': '2 dark gray dots'}\n",
      "{'start': 34, 'end': 44, 'is_self': True, 'text': 'each other'}\n",
      "{'start': 47, 'end': 54, 'is_self': True, 'text': 'the one'}\n",
      "{'start': 84, 'end': 96, 'is_self': True, 'text': 'the left one'}\n",
      "partner_ref_marginal_probs\n"
     ]
    },
    {
     "data": {
      "text/html": [
       "<div style=\"white-space: nowrap\"><svg viewbox='0 0 430 430' width=\"172\" height=\"172\" id=\"agent_1\"><circle cx=\"215\" cy=\"215\" r=\"205\" fill=\"none\" stroke=\"black\" stroke-width=\"2\" stroke-dasharray=\"3,3\"/><circle cx=\"134\" cy=\"215\" r=\"10\" fill=\"rgb(136,136,136)\"/><circle cx=\"113\" cy=\"93\" r=\"7\" fill=\"rgb(82,82,82)\"/><circle cx=\"88\" cy=\"211\" r=\"11\" fill=\"rgb(132,132,132)\"/><circle cx=\"199\" cy=\"249\" r=\"13\" fill=\"rgb(188,188,188)\"/><circle cx=\"353\" cy=\"280\" r=\"12\" fill=\"rgb(180,180,180)\"/><circle cx=\"306\" cy=\"112\" r=\"10\" fill=\"rgb(112,112,112)\"/><circle cx=\"161\" cy=\"149\" r=\"8\" fill=\"rgb(174,174,174)\"/></svg><svg viewBox='0 0 430 430' id=\"svg\" width=\"172\" height=\"172\"><circle cx=\"215\" cy=\"215\" r=\"205\" fill=\"none\" stroke=\"black\" stroke-width=\"2\" stroke-dasharray=\"3,3\"/> <circle cx=\"134\" cy=\"215\" r=\"10\" fill=\"rgb(255,82,82)\" class=\"agent_1_3\"/><circle cx=\"113\" cy=\"93\" r=\"7\" fill=\"rgb(255,250,250)\" class=\"agent_1_31\"/><circle cx=\"88\" cy=\"211\" r=\"11\" fill=\"rgb(255,79,79)\" class=\"agent_1_37\"/><circle cx=\"199\" cy=\"249\" r=\"13\" fill=\"rgb(255,254,254)\" class=\"agent_1_49\"/><circle cx=\"353\" cy=\"280\" r=\"12\" fill=\"rgb(255,254,254)\" class=\"agent_1_51\"/><circle cx=\"306\" cy=\"112\" r=\"10\" fill=\"rgb(255,228,228)\" class=\"agent_1_58\"/><circle cx=\"161\" cy=\"149\" r=\"8\" fill=\"rgb(255,254,254)\" class=\"agent_1_71\"/></svg><svg viewBox='0 0 430 430' id=\"svg\" width=\"172\" height=\"172\"><circle cx=\"215\" cy=\"215\" r=\"205\" fill=\"none\" stroke=\"black\" stroke-width=\"2\" stroke-dasharray=\"3,3\"/> <circle cx=\"134\" cy=\"215\" r=\"10\" fill=\"rgb(255,107,107)\" class=\"agent_1_3\"/><circle cx=\"113\" cy=\"93\" r=\"7\" fill=\"rgb(255,186,186)\" class=\"agent_1_31\"/><circle cx=\"88\" cy=\"211\" r=\"11\" fill=\"rgb(255,104,104)\" class=\"agent_1_37\"/><circle cx=\"199\" cy=\"249\" r=\"13\" fill=\"rgb(255,254,254)\" class=\"agent_1_49\"/><circle cx=\"353\" cy=\"280\" r=\"12\" fill=\"rgb(255,254,254)\" class=\"agent_1_51\"/><circle cx=\"306\" cy=\"112\" r=\"10\" fill=\"rgb(255,218,218)\" class=\"agent_1_58\"/><circle cx=\"161\" cy=\"149\" r=\"8\" fill=\"rgb(255,248,248)\" class=\"agent_1_71\"/></svg><svg viewBox='0 0 430 430' id=\"svg\" width=\"172\" height=\"172\"><circle cx=\"215\" cy=\"215\" r=\"205\" fill=\"none\" stroke=\"black\" stroke-width=\"2\" stroke-dasharray=\"3,3\"/> <circle cx=\"134\" cy=\"215\" r=\"10\" fill=\"rgb(255,248,248)\" class=\"agent_1_3\"/><circle cx=\"113\" cy=\"93\" r=\"7\" fill=\"rgb(255,35,35)\" class=\"agent_1_31\"/><circle cx=\"88\" cy=\"211\" r=\"11\" fill=\"rgb(255,254,254)\" class=\"agent_1_37\"/><circle cx=\"199\" cy=\"249\" r=\"13\" fill=\"rgb(255,254,254)\" class=\"agent_1_49\"/><circle cx=\"353\" cy=\"280\" r=\"12\" fill=\"rgb(255,254,254)\" class=\"agent_1_51\"/><circle cx=\"306\" cy=\"112\" r=\"10\" fill=\"rgb(255,241,241)\" class=\"agent_1_58\"/><circle cx=\"161\" cy=\"149\" r=\"8\" fill=\"rgb(255,252,252)\" class=\"agent_1_71\"/></svg><svg viewBox='0 0 430 430' id=\"svg\" width=\"172\" height=\"172\"><circle cx=\"215\" cy=\"215\" r=\"205\" fill=\"none\" stroke=\"black\" stroke-width=\"2\" stroke-dasharray=\"3,3\"/> <circle cx=\"134\" cy=\"215\" r=\"10\" fill=\"rgb(255,208,208)\" class=\"agent_1_3\"/><circle cx=\"113\" cy=\"93\" r=\"7\" fill=\"rgb(255,221,221)\" class=\"agent_1_31\"/><circle cx=\"88\" cy=\"211\" r=\"11\" fill=\"rgb(255,199,199)\" class=\"agent_1_37\"/><circle cx=\"199\" cy=\"249\" r=\"13\" fill=\"rgb(255,254,254)\" class=\"agent_1_49\"/><circle cx=\"353\" cy=\"280\" r=\"12\" fill=\"rgb(255,254,254)\" class=\"agent_1_51\"/><circle cx=\"306\" cy=\"112\" r=\"10\" fill=\"rgb(255,196,196)\" class=\"agent_1_58\"/><circle cx=\"161\" cy=\"149\" r=\"8\" fill=\"rgb(255,254,254)\" class=\"agent_1_71\"/></svg></div>"
      ],
      "text/plain": [
       "<IPython.core.display.HTML object>"
      ]
     },
     "metadata": {},
     "output_type": "display_data"
    },
    {
     "name": "stdout",
     "output_type": "stream",
     "text": [
      "partner_refs_pred\n"
     ]
    },
    {
     "data": {
      "text/html": [
       "<div style=\"white-space: nowrap\"><svg viewbox='0 0 430 430' width=\"172\" height=\"172\" id=\"agent_1\"><circle cx=\"215\" cy=\"215\" r=\"205\" fill=\"none\" stroke=\"black\" stroke-width=\"2\" stroke-dasharray=\"3,3\"/><circle cx=\"134\" cy=\"215\" r=\"10\" fill=\"rgb(136,136,136)\"/><circle cx=\"113\" cy=\"93\" r=\"7\" fill=\"rgb(82,82,82)\"/><circle cx=\"88\" cy=\"211\" r=\"11\" fill=\"rgb(132,132,132)\"/><circle cx=\"199\" cy=\"249\" r=\"13\" fill=\"rgb(188,188,188)\"/><circle cx=\"353\" cy=\"280\" r=\"12\" fill=\"rgb(180,180,180)\"/><circle cx=\"306\" cy=\"112\" r=\"10\" fill=\"rgb(112,112,112)\"/><circle cx=\"161\" cy=\"149\" r=\"8\" fill=\"rgb(174,174,174)\"/></svg><svg viewBox='0 0 430 430' id=\"svg\" width=\"172\" height=\"172\"><circle cx=\"215\" cy=\"215\" r=\"205\" fill=\"none\" stroke=\"black\" stroke-width=\"2\" stroke-dasharray=\"3,3\"/> <circle cx=\"134\" cy=\"215\" r=\"10\" fill=\"rgb(255,255,255)\" class=\"agent_1_3\"/><circle cx=\"113\" cy=\"93\" r=\"7\" fill=\"rgb(255,255,255)\" class=\"agent_1_31\"/><circle cx=\"88\" cy=\"211\" r=\"11\" fill=\"rgb(255,255,255)\" class=\"agent_1_37\"/><circle cx=\"199\" cy=\"249\" r=\"13\" fill=\"rgb(255,255,255)\" class=\"agent_1_49\"/><circle cx=\"353\" cy=\"280\" r=\"12\" fill=\"rgb(255,255,255)\" class=\"agent_1_51\"/><circle cx=\"306\" cy=\"112\" r=\"10\" fill=\"rgb(255,255,255)\" class=\"agent_1_58\"/><circle cx=\"161\" cy=\"149\" r=\"8\" fill=\"rgb(255,255,255)\" class=\"agent_1_71\"/></svg><svg viewBox='0 0 430 430' id=\"svg\" width=\"172\" height=\"172\"><circle cx=\"215\" cy=\"215\" r=\"205\" fill=\"none\" stroke=\"black\" stroke-width=\"2\" stroke-dasharray=\"3,3\"/> <circle cx=\"134\" cy=\"215\" r=\"10\" fill=\"rgb(255,255,255)\" class=\"agent_1_3\"/><circle cx=\"113\" cy=\"93\" r=\"7\" fill=\"rgb(255,255,255)\" class=\"agent_1_31\"/><circle cx=\"88\" cy=\"211\" r=\"11\" fill=\"rgb(255,255,255)\" class=\"agent_1_37\"/><circle cx=\"199\" cy=\"249\" r=\"13\" fill=\"rgb(255,255,255)\" class=\"agent_1_49\"/><circle cx=\"353\" cy=\"280\" r=\"12\" fill=\"rgb(255,255,255)\" class=\"agent_1_51\"/><circle cx=\"306\" cy=\"112\" r=\"10\" fill=\"rgb(255,255,255)\" class=\"agent_1_58\"/><circle cx=\"161\" cy=\"149\" r=\"8\" fill=\"rgb(255,255,255)\" class=\"agent_1_71\"/></svg><svg viewBox='0 0 430 430' id=\"svg\" width=\"172\" height=\"172\"><circle cx=\"215\" cy=\"215\" r=\"205\" fill=\"none\" stroke=\"black\" stroke-width=\"2\" stroke-dasharray=\"3,3\"/> <circle cx=\"134\" cy=\"215\" r=\"10\" fill=\"rgb(255,255,255)\" class=\"agent_1_3\"/><circle cx=\"113\" cy=\"93\" r=\"7\" fill=\"rgb(255,255,255)\" class=\"agent_1_31\"/><circle cx=\"88\" cy=\"211\" r=\"11\" fill=\"rgb(255,255,255)\" class=\"agent_1_37\"/><circle cx=\"199\" cy=\"249\" r=\"13\" fill=\"rgb(255,255,255)\" class=\"agent_1_49\"/><circle cx=\"353\" cy=\"280\" r=\"12\" fill=\"rgb(255,255,255)\" class=\"agent_1_51\"/><circle cx=\"306\" cy=\"112\" r=\"10\" fill=\"rgb(255,255,255)\" class=\"agent_1_58\"/><circle cx=\"161\" cy=\"149\" r=\"8\" fill=\"rgb(255,255,255)\" class=\"agent_1_71\"/></svg><svg viewBox='0 0 430 430' id=\"svg\" width=\"172\" height=\"172\"><circle cx=\"215\" cy=\"215\" r=\"205\" fill=\"none\" stroke=\"black\" stroke-width=\"2\" stroke-dasharray=\"3,3\"/> <circle cx=\"134\" cy=\"215\" r=\"10\" fill=\"rgb(255,255,255)\" class=\"agent_1_3\"/><circle cx=\"113\" cy=\"93\" r=\"7\" fill=\"rgb(255,255,255)\" class=\"agent_1_31\"/><circle cx=\"88\" cy=\"211\" r=\"11\" fill=\"rgb(255,255,255)\" class=\"agent_1_37\"/><circle cx=\"199\" cy=\"249\" r=\"13\" fill=\"rgb(255,255,255)\" class=\"agent_1_49\"/><circle cx=\"353\" cy=\"280\" r=\"12\" fill=\"rgb(255,255,255)\" class=\"agent_1_51\"/><circle cx=\"306\" cy=\"112\" r=\"10\" fill=\"rgb(255,255,255)\" class=\"agent_1_58\"/><circle cx=\"161\" cy=\"149\" r=\"8\" fill=\"rgb(255,255,255)\" class=\"agent_1_71\"/></svg></div>"
      ],
      "text/plain": [
       "<IPython.core.display.HTML object>"
      ]
     },
     "metadata": {},
     "output_type": "display_data"
    },
    {
     "name": "stdout",
     "output_type": "stream",
     "text": [
      "partner_refs_true\n"
     ]
    },
    {
     "data": {
      "text/html": [
       "<div style=\"white-space: nowrap\"><svg viewbox='0 0 430 430' width=\"172\" height=\"172\" id=\"agent_1\"><circle cx=\"215\" cy=\"215\" r=\"205\" fill=\"none\" stroke=\"black\" stroke-width=\"2\" stroke-dasharray=\"3,3\"/><circle cx=\"134\" cy=\"215\" r=\"10\" fill=\"rgb(136,136,136)\"/><circle cx=\"113\" cy=\"93\" r=\"7\" fill=\"rgb(82,82,82)\"/><circle cx=\"88\" cy=\"211\" r=\"11\" fill=\"rgb(132,132,132)\"/><circle cx=\"199\" cy=\"249\" r=\"13\" fill=\"rgb(188,188,188)\"/><circle cx=\"353\" cy=\"280\" r=\"12\" fill=\"rgb(180,180,180)\"/><circle cx=\"306\" cy=\"112\" r=\"10\" fill=\"rgb(112,112,112)\"/><circle cx=\"161\" cy=\"149\" r=\"8\" fill=\"rgb(174,174,174)\"/></svg><svg viewBox='0 0 430 430' id=\"svg\" width=\"172\" height=\"172\"><circle cx=\"215\" cy=\"215\" r=\"205\" fill=\"none\" stroke=\"black\" stroke-width=\"2\" stroke-dasharray=\"3,3\"/> <circle cx=\"134\" cy=\"215\" r=\"10\" fill=\"rgb(255,0,0)\" class=\"agent_1_3\"/><circle cx=\"113\" cy=\"93\" r=\"7\" fill=\"rgb(255,255,255)\" class=\"agent_1_31\"/><circle cx=\"88\" cy=\"211\" r=\"11\" fill=\"rgb(255,0,0)\" class=\"agent_1_37\"/><circle cx=\"199\" cy=\"249\" r=\"13\" fill=\"rgb(255,255,255)\" class=\"agent_1_49\"/><circle cx=\"353\" cy=\"280\" r=\"12\" fill=\"rgb(255,255,255)\" class=\"agent_1_51\"/><circle cx=\"306\" cy=\"112\" r=\"10\" fill=\"rgb(255,255,255)\" class=\"agent_1_58\"/><circle cx=\"161\" cy=\"149\" r=\"8\" fill=\"rgb(255,255,255)\" class=\"agent_1_71\"/></svg><svg viewBox='0 0 430 430' id=\"svg\" width=\"172\" height=\"172\"><circle cx=\"215\" cy=\"215\" r=\"205\" fill=\"none\" stroke=\"black\" stroke-width=\"2\" stroke-dasharray=\"3,3\"/> <circle cx=\"134\" cy=\"215\" r=\"10\" fill=\"rgb(255,0,0)\" class=\"agent_1_3\"/><circle cx=\"113\" cy=\"93\" r=\"7\" fill=\"rgb(255,255,255)\" class=\"agent_1_31\"/><circle cx=\"88\" cy=\"211\" r=\"11\" fill=\"rgb(255,0,0)\" class=\"agent_1_37\"/><circle cx=\"199\" cy=\"249\" r=\"13\" fill=\"rgb(255,255,255)\" class=\"agent_1_49\"/><circle cx=\"353\" cy=\"280\" r=\"12\" fill=\"rgb(255,255,255)\" class=\"agent_1_51\"/><circle cx=\"306\" cy=\"112\" r=\"10\" fill=\"rgb(255,255,255)\" class=\"agent_1_58\"/><circle cx=\"161\" cy=\"149\" r=\"8\" fill=\"rgb(255,255,255)\" class=\"agent_1_71\"/></svg><svg viewBox='0 0 430 430' id=\"svg\" width=\"172\" height=\"172\"><circle cx=\"215\" cy=\"215\" r=\"205\" fill=\"none\" stroke=\"black\" stroke-width=\"2\" stroke-dasharray=\"3,3\"/> <circle cx=\"134\" cy=\"215\" r=\"10\" fill=\"rgb(255,0,0)\" class=\"agent_1_3\"/><circle cx=\"113\" cy=\"93\" r=\"7\" fill=\"rgb(255,255,255)\" class=\"agent_1_31\"/><circle cx=\"88\" cy=\"211\" r=\"11\" fill=\"rgb(255,255,255)\" class=\"agent_1_37\"/><circle cx=\"199\" cy=\"249\" r=\"13\" fill=\"rgb(255,255,255)\" class=\"agent_1_49\"/><circle cx=\"353\" cy=\"280\" r=\"12\" fill=\"rgb(255,255,255)\" class=\"agent_1_51\"/><circle cx=\"306\" cy=\"112\" r=\"10\" fill=\"rgb(255,255,255)\" class=\"agent_1_58\"/><circle cx=\"161\" cy=\"149\" r=\"8\" fill=\"rgb(255,255,255)\" class=\"agent_1_71\"/></svg><svg viewBox='0 0 430 430' id=\"svg\" width=\"172\" height=\"172\"><circle cx=\"215\" cy=\"215\" r=\"205\" fill=\"none\" stroke=\"black\" stroke-width=\"2\" stroke-dasharray=\"3,3\"/> <circle cx=\"134\" cy=\"215\" r=\"10\" fill=\"rgb(255,255,255)\" class=\"agent_1_3\"/><circle cx=\"113\" cy=\"93\" r=\"7\" fill=\"rgb(255,255,255)\" class=\"agent_1_31\"/><circle cx=\"88\" cy=\"211\" r=\"11\" fill=\"rgb(255,0,0)\" class=\"agent_1_37\"/><circle cx=\"199\" cy=\"249\" r=\"13\" fill=\"rgb(255,255,255)\" class=\"agent_1_49\"/><circle cx=\"353\" cy=\"280\" r=\"12\" fill=\"rgb(255,255,255)\" class=\"agent_1_51\"/><circle cx=\"306\" cy=\"112\" r=\"10\" fill=\"rgb(255,255,255)\" class=\"agent_1_58\"/><circle cx=\"161\" cy=\"149\" r=\"8\" fill=\"rgb(255,255,255)\" class=\"agent_1_71\"/></svg></div>"
      ],
      "text/plain": [
       "<IPython.core.display.HTML object>"
      ]
     },
     "metadata": {},
     "output_type": "display_data"
    },
    {
     "name": "stdout",
     "output_type": "stream",
     "text": [
      "partner_ref_true (their view)\n"
     ]
    },
    {
     "data": {
      "text/html": [
       "<div style=\"white-space: nowrap\"><svg viewbox='0 0 430 430' width=\"172\" height=\"172\" id=\"agent_0\"><circle cx=\"215\" cy=\"215\" r=\"205\" fill=\"none\" stroke=\"black\" stroke-width=\"2\" stroke-dasharray=\"3,3\"/><circle cx=\"358\" cy=\"337\" r=\"10\" fill=\"rgb(136,136,136)\"/><circle cx=\"250\" cy=\"71\" r=\"9\" fill=\"rgb(54,54,54)\"/><circle cx=\"338\" cy=\"215\" r=\"7\" fill=\"rgb(82,82,82)\"/><circle cx=\"313\" cy=\"333\" r=\"11\" fill=\"rgb(132,132,132)\"/><circle cx=\"208\" cy=\"370\" r=\"11\" fill=\"rgb(197,197,197)\"/><circle cx=\"386\" cy=\"271\" r=\"8\" fill=\"rgb(174,174,174)\"/><circle cx=\"257\" cy=\"254\" r=\"11\" fill=\"rgb(137,137,137)\"/></svg><svg viewBox='0 0 430 430' id=\"svg\" width=\"172\" height=\"172\"><circle cx=\"215\" cy=\"215\" r=\"205\" fill=\"none\" stroke=\"black\" stroke-width=\"2\" stroke-dasharray=\"3,3\"/> <circle cx=\"358\" cy=\"337\" r=\"10\" fill=\"rgb(255,0,0)\" class=\"agent_0_3\"/><circle cx=\"250\" cy=\"71\" r=\"9\" fill=\"rgb(255,255,255)\" class=\"agent_0_5\"/><circle cx=\"338\" cy=\"215\" r=\"7\" fill=\"rgb(255,255,255)\" class=\"agent_0_31\"/><circle cx=\"313\" cy=\"333\" r=\"11\" fill=\"rgb(255,0,0)\" class=\"agent_0_37\"/><circle cx=\"208\" cy=\"370\" r=\"11\" fill=\"rgb(255,255,255)\" class=\"agent_0_48\"/><circle cx=\"386\" cy=\"271\" r=\"8\" fill=\"rgb(255,255,255)\" class=\"agent_0_71\"/><circle cx=\"257\" cy=\"254\" r=\"11\" fill=\"rgb(255,255,255)\" class=\"agent_0_76\"/></svg><svg viewBox='0 0 430 430' id=\"svg\" width=\"172\" height=\"172\"><circle cx=\"215\" cy=\"215\" r=\"205\" fill=\"none\" stroke=\"black\" stroke-width=\"2\" stroke-dasharray=\"3,3\"/> <circle cx=\"358\" cy=\"337\" r=\"10\" fill=\"rgb(255,0,0)\" class=\"agent_0_3\"/><circle cx=\"250\" cy=\"71\" r=\"9\" fill=\"rgb(255,255,255)\" class=\"agent_0_5\"/><circle cx=\"338\" cy=\"215\" r=\"7\" fill=\"rgb(255,255,255)\" class=\"agent_0_31\"/><circle cx=\"313\" cy=\"333\" r=\"11\" fill=\"rgb(255,0,0)\" class=\"agent_0_37\"/><circle cx=\"208\" cy=\"370\" r=\"11\" fill=\"rgb(255,255,255)\" class=\"agent_0_48\"/><circle cx=\"386\" cy=\"271\" r=\"8\" fill=\"rgb(255,255,255)\" class=\"agent_0_71\"/><circle cx=\"257\" cy=\"254\" r=\"11\" fill=\"rgb(255,255,255)\" class=\"agent_0_76\"/></svg><svg viewBox='0 0 430 430' id=\"svg\" width=\"172\" height=\"172\"><circle cx=\"215\" cy=\"215\" r=\"205\" fill=\"none\" stroke=\"black\" stroke-width=\"2\" stroke-dasharray=\"3,3\"/> <circle cx=\"358\" cy=\"337\" r=\"10\" fill=\"rgb(255,0,0)\" class=\"agent_0_3\"/><circle cx=\"250\" cy=\"71\" r=\"9\" fill=\"rgb(255,255,255)\" class=\"agent_0_5\"/><circle cx=\"338\" cy=\"215\" r=\"7\" fill=\"rgb(255,255,255)\" class=\"agent_0_31\"/><circle cx=\"313\" cy=\"333\" r=\"11\" fill=\"rgb(255,255,255)\" class=\"agent_0_37\"/><circle cx=\"208\" cy=\"370\" r=\"11\" fill=\"rgb(255,255,255)\" class=\"agent_0_48\"/><circle cx=\"386\" cy=\"271\" r=\"8\" fill=\"rgb(255,255,255)\" class=\"agent_0_71\"/><circle cx=\"257\" cy=\"254\" r=\"11\" fill=\"rgb(255,255,255)\" class=\"agent_0_76\"/></svg><svg viewBox='0 0 430 430' id=\"svg\" width=\"172\" height=\"172\"><circle cx=\"215\" cy=\"215\" r=\"205\" fill=\"none\" stroke=\"black\" stroke-width=\"2\" stroke-dasharray=\"3,3\"/> <circle cx=\"358\" cy=\"337\" r=\"10\" fill=\"rgb(255,255,255)\" class=\"agent_0_3\"/><circle cx=\"250\" cy=\"71\" r=\"9\" fill=\"rgb(255,255,255)\" class=\"agent_0_5\"/><circle cx=\"338\" cy=\"215\" r=\"7\" fill=\"rgb(255,255,255)\" class=\"agent_0_31\"/><circle cx=\"313\" cy=\"333\" r=\"11\" fill=\"rgb(255,0,0)\" class=\"agent_0_37\"/><circle cx=\"208\" cy=\"370\" r=\"11\" fill=\"rgb(255,255,255)\" class=\"agent_0_48\"/><circle cx=\"386\" cy=\"271\" r=\"8\" fill=\"rgb(255,255,255)\" class=\"agent_0_71\"/><circle cx=\"257\" cy=\"254\" r=\"11\" fill=\"rgb(255,255,255)\" class=\"agent_0_76\"/></svg></div>"
      ],
      "text/plain": [
       "<IPython.core.display.HTML object>"
      ]
     },
     "metadata": {},
     "output_type": "display_data"
    },
    {
     "name": "stdout",
     "output_type": "stream",
     "text": [
      "\n",
      "----------------------------------------\n",
      "\n",
      "dots_mentioned size: torch.Size([1, 7])\n",
      "dots_mentioned_per_ref size: torch.Size([1, 1, 7])\n",
      "torch.Size([24, 1, 1024])\n",
      "max prob: 0.30683255195617676\n",
      "entropy: 1.6281814575195312\n",
      "sel_prob_now: tensor([0.2932, 0.2029, 0.3068, 0.0514, 0.0548, 0.0666, 0.0242],\n",
      "       grad_fn=<ViewBackward>)\n"
     ]
    },
    {
     "data": {
      "text/html": [
       "<div style=\"white-space: nowrap\"><svg viewbox='0 0 430 430' width=\"172\" height=\"172\" id=\"agent_1\"><circle cx=\"215\" cy=\"215\" r=\"205\" fill=\"none\" stroke=\"black\" stroke-width=\"2\" stroke-dasharray=\"3,3\"/><circle cx=\"134\" cy=\"215\" r=\"10\" fill=\"rgb(136,136,136)\"/><circle cx=\"113\" cy=\"93\" r=\"7\" fill=\"rgb(82,82,82)\"/><circle cx=\"88\" cy=\"211\" r=\"11\" fill=\"rgb(132,132,132)\"/><circle cx=\"199\" cy=\"249\" r=\"13\" fill=\"rgb(188,188,188)\"/><circle cx=\"353\" cy=\"280\" r=\"12\" fill=\"rgb(180,180,180)\"/><circle cx=\"306\" cy=\"112\" r=\"10\" fill=\"rgb(112,112,112)\"/><circle cx=\"161\" cy=\"149\" r=\"8\" fill=\"rgb(174,174,174)\"/></svg><svg viewBox='0 0 430 430' id=\"svg\" width=\"172\" height=\"172\"><circle cx=\"215\" cy=\"215\" r=\"205\" fill=\"none\" stroke=\"black\" stroke-width=\"2\" stroke-dasharray=\"3,3\"/> <circle cx=\"134\" cy=\"215\" r=\"10\" fill=\"rgb(255,180,180)\" class=\"agent_1_3\"/><circle cx=\"113\" cy=\"93\" r=\"7\" fill=\"rgb(255,203,203)\" class=\"agent_1_31\"/><circle cx=\"88\" cy=\"211\" r=\"11\" fill=\"rgb(255,176,176)\" class=\"agent_1_37\"/><circle cx=\"199\" cy=\"249\" r=\"13\" fill=\"rgb(255,241,241)\" class=\"agent_1_49\"/><circle cx=\"353\" cy=\"280\" r=\"12\" fill=\"rgb(255,241,241)\" class=\"agent_1_51\"/><circle cx=\"306\" cy=\"112\" r=\"10\" fill=\"rgb(255,238,238)\" class=\"agent_1_58\"/><circle cx=\"161\" cy=\"149\" r=\"8\" fill=\"rgb(255,248,248)\" class=\"agent_1_71\"/></svg></div>"
      ],
      "text/plain": [
       "<IPython.core.display.HTML object>"
      ]
     },
     "metadata": {},
     "output_type": "display_data"
    },
    {
     "name": "stdout",
     "output_type": "stream",
     "text": [
      "to_mention_pred\n"
     ]
    },
    {
     "data": {
      "text/html": [
       "<div style=\"white-space: nowrap\"><svg viewbox='0 0 430 430' width=\"172\" height=\"172\" id=\"agent_1\"><circle cx=\"215\" cy=\"215\" r=\"205\" fill=\"none\" stroke=\"black\" stroke-width=\"2\" stroke-dasharray=\"3,3\"/><circle cx=\"134\" cy=\"215\" r=\"10\" fill=\"rgb(136,136,136)\"/><circle cx=\"113\" cy=\"93\" r=\"7\" fill=\"rgb(82,82,82)\"/><circle cx=\"88\" cy=\"211\" r=\"11\" fill=\"rgb(132,132,132)\"/><circle cx=\"199\" cy=\"249\" r=\"13\" fill=\"rgb(188,188,188)\"/><circle cx=\"353\" cy=\"280\" r=\"12\" fill=\"rgb(180,180,180)\"/><circle cx=\"306\" cy=\"112\" r=\"10\" fill=\"rgb(112,112,112)\"/><circle cx=\"161\" cy=\"149\" r=\"8\" fill=\"rgb(174,174,174)\"/></svg><svg viewBox='0 0 430 430' id=\"svg\" width=\"172\" height=\"172\"><circle cx=\"215\" cy=\"215\" r=\"205\" fill=\"none\" stroke=\"black\" stroke-width=\"2\" stroke-dasharray=\"3,3\"/> <circle cx=\"134\" cy=\"215\" r=\"10\" fill=\"rgb(255,255,255)\" class=\"agent_1_3\"/><circle cx=\"113\" cy=\"93\" r=\"7\" fill=\"rgb(255,0,0)\" class=\"agent_1_31\"/><circle cx=\"88\" cy=\"211\" r=\"11\" fill=\"rgb(255,255,255)\" class=\"agent_1_37\"/><circle cx=\"199\" cy=\"249\" r=\"13\" fill=\"rgb(255,255,255)\" class=\"agent_1_49\"/><circle cx=\"353\" cy=\"280\" r=\"12\" fill=\"rgb(255,255,255)\" class=\"agent_1_51\"/><circle cx=\"306\" cy=\"112\" r=\"10\" fill=\"rgb(255,255,255)\" class=\"agent_1_58\"/><circle cx=\"161\" cy=\"149\" r=\"8\" fill=\"rgb(255,255,255)\" class=\"agent_1_71\"/></svg><svg viewBox='0 0 430 430' id=\"svg\" width=\"172\" height=\"172\"><circle cx=\"215\" cy=\"215\" r=\"205\" fill=\"none\" stroke=\"black\" stroke-width=\"2\" stroke-dasharray=\"3,3\"/> <circle cx=\"134\" cy=\"215\" r=\"10\" fill=\"rgb(255,255,255)\" class=\"agent_1_3\"/><circle cx=\"113\" cy=\"93\" r=\"7\" fill=\"rgb(255,0,0)\" class=\"agent_1_31\"/><circle cx=\"88\" cy=\"211\" r=\"11\" fill=\"rgb(255,255,255)\" class=\"agent_1_37\"/><circle cx=\"199\" cy=\"249\" r=\"13\" fill=\"rgb(255,255,255)\" class=\"agent_1_49\"/><circle cx=\"353\" cy=\"280\" r=\"12\" fill=\"rgb(255,255,255)\" class=\"agent_1_51\"/><circle cx=\"306\" cy=\"112\" r=\"10\" fill=\"rgb(255,255,255)\" class=\"agent_1_58\"/><circle cx=\"161\" cy=\"149\" r=\"8\" fill=\"rgb(255,255,255)\" class=\"agent_1_71\"/></svg></div>"
      ],
      "text/plain": [
       "<IPython.core.display.HTML object>"
      ]
     },
     "metadata": {},
     "output_type": "display_data"
    },
    {
     "name": "stdout",
     "output_type": "stream",
     "text": [
      "max prob: 0.8450049161911011\n",
      "entropy: 0.6297268271446228\n",
      "sel_prob after pred: tensor([0.0617, 0.8450, 0.0652, 0.0066, 0.0087, 0.0096, 0.0032],\n",
      "       grad_fn=<ViewBackward>)\n"
     ]
    },
    {
     "data": {
      "text/html": [
       "<div style=\"white-space: nowrap\"><svg viewbox='0 0 430 430' width=\"172\" height=\"172\" id=\"agent_1\"><circle cx=\"215\" cy=\"215\" r=\"205\" fill=\"none\" stroke=\"black\" stroke-width=\"2\" stroke-dasharray=\"3,3\"/><circle cx=\"134\" cy=\"215\" r=\"10\" fill=\"rgb(136,136,136)\"/><circle cx=\"113\" cy=\"93\" r=\"7\" fill=\"rgb(82,82,82)\"/><circle cx=\"88\" cy=\"211\" r=\"11\" fill=\"rgb(132,132,132)\"/><circle cx=\"199\" cy=\"249\" r=\"13\" fill=\"rgb(188,188,188)\"/><circle cx=\"353\" cy=\"280\" r=\"12\" fill=\"rgb(180,180,180)\"/><circle cx=\"306\" cy=\"112\" r=\"10\" fill=\"rgb(112,112,112)\"/><circle cx=\"161\" cy=\"149\" r=\"8\" fill=\"rgb(174,174,174)\"/></svg><svg viewBox='0 0 430 430' id=\"svg\" width=\"172\" height=\"172\"><circle cx=\"215\" cy=\"215\" r=\"205\" fill=\"none\" stroke=\"black\" stroke-width=\"2\" stroke-dasharray=\"3,3\"/> <circle cx=\"134\" cy=\"215\" r=\"10\" fill=\"rgb(255,239,239)\" class=\"agent_1_3\"/><circle cx=\"113\" cy=\"93\" r=\"7\" fill=\"rgb(255,39,39)\" class=\"agent_1_31\"/><circle cx=\"88\" cy=\"211\" r=\"11\" fill=\"rgb(255,238,238)\" class=\"agent_1_37\"/><circle cx=\"199\" cy=\"249\" r=\"13\" fill=\"rgb(255,253,253)\" class=\"agent_1_49\"/><circle cx=\"353\" cy=\"280\" r=\"12\" fill=\"rgb(255,252,252)\" class=\"agent_1_51\"/><circle cx=\"306\" cy=\"112\" r=\"10\" fill=\"rgb(255,252,252)\" class=\"agent_1_58\"/><circle cx=\"161\" cy=\"149\" r=\"8\" fill=\"rgb(255,254,254)\" class=\"agent_1_71\"/></svg></div>"
      ],
      "text/plain": [
       "<IPython.core.display.HTML object>"
      ]
     },
     "metadata": {},
     "output_type": "display_data"
    },
    {
     "name": "stdout",
     "output_type": "stream",
     "text": [
      "to_mention_rerank\n"
     ]
    },
    {
     "data": {
      "text/html": [
       "<div style=\"white-space: nowrap\"><svg viewbox='0 0 430 430' width=\"172\" height=\"172\" id=\"agent_1\"><circle cx=\"215\" cy=\"215\" r=\"205\" fill=\"none\" stroke=\"black\" stroke-width=\"2\" stroke-dasharray=\"3,3\"/><circle cx=\"134\" cy=\"215\" r=\"10\" fill=\"rgb(136,136,136)\"/><circle cx=\"113\" cy=\"93\" r=\"7\" fill=\"rgb(82,82,82)\"/><circle cx=\"88\" cy=\"211\" r=\"11\" fill=\"rgb(132,132,132)\"/><circle cx=\"199\" cy=\"249\" r=\"13\" fill=\"rgb(188,188,188)\"/><circle cx=\"353\" cy=\"280\" r=\"12\" fill=\"rgb(180,180,180)\"/><circle cx=\"306\" cy=\"112\" r=\"10\" fill=\"rgb(112,112,112)\"/><circle cx=\"161\" cy=\"149\" r=\"8\" fill=\"rgb(174,174,174)\"/></svg><svg viewBox='0 0 430 430' id=\"svg\" width=\"172\" height=\"172\"><circle cx=\"215\" cy=\"215\" r=\"205\" fill=\"none\" stroke=\"black\" stroke-width=\"2\" stroke-dasharray=\"3,3\"/> <circle cx=\"134\" cy=\"215\" r=\"10\" fill=\"rgb(255,255,255)\" class=\"agent_1_3\"/><circle cx=\"113\" cy=\"93\" r=\"7\" fill=\"rgb(255,255,255)\" class=\"agent_1_31\"/><circle cx=\"88\" cy=\"211\" r=\"11\" fill=\"rgb(255,255,255)\" class=\"agent_1_37\"/><circle cx=\"199\" cy=\"249\" r=\"13\" fill=\"rgb(255,0,0)\" class=\"agent_1_49\"/><circle cx=\"353\" cy=\"280\" r=\"12\" fill=\"rgb(255,255,255)\" class=\"agent_1_51\"/><circle cx=\"306\" cy=\"112\" r=\"10\" fill=\"rgb(255,255,255)\" class=\"agent_1_58\"/><circle cx=\"161\" cy=\"149\" r=\"8\" fill=\"rgb(255,255,255)\" class=\"agent_1_71\"/></svg><svg viewBox='0 0 430 430' id=\"svg\" width=\"172\" height=\"172\"><circle cx=\"215\" cy=\"215\" r=\"205\" fill=\"none\" stroke=\"black\" stroke-width=\"2\" stroke-dasharray=\"3,3\"/> <circle cx=\"134\" cy=\"215\" r=\"10\" fill=\"rgb(255,0,0)\" class=\"agent_1_3\"/><circle cx=\"113\" cy=\"93\" r=\"7\" fill=\"rgb(255,255,255)\" class=\"agent_1_31\"/><circle cx=\"88\" cy=\"211\" r=\"11\" fill=\"rgb(255,255,255)\" class=\"agent_1_37\"/><circle cx=\"199\" cy=\"249\" r=\"13\" fill=\"rgb(255,255,255)\" class=\"agent_1_49\"/><circle cx=\"353\" cy=\"280\" r=\"12\" fill=\"rgb(255,255,255)\" class=\"agent_1_51\"/><circle cx=\"306\" cy=\"112\" r=\"10\" fill=\"rgb(255,255,255)\" class=\"agent_1_58\"/><circle cx=\"161\" cy=\"149\" r=\"8\" fill=\"rgb(255,255,255)\" class=\"agent_1_71\"/></svg></div>"
      ],
      "text/plain": [
       "<IPython.core.display.HTML object>"
      ]
     },
     "metadata": {},
     "output_type": "display_data"
    },
    {
     "name": "stdout",
     "output_type": "stream",
     "text": [
      "max prob: 0.4253977835178375\n",
      "entropy: 1.3159319162368774\n",
      "sel_prob after rerank pred: tensor([0.3593, 0.0658, 0.1124, 0.4254, 0.0149, 0.0166, 0.0056],\n",
      "       grad_fn=<ViewBackward>)\n"
     ]
    },
    {
     "data": {
      "text/html": [
       "<div style=\"white-space: nowrap\"><svg viewbox='0 0 430 430' width=\"172\" height=\"172\" id=\"agent_1\"><circle cx=\"215\" cy=\"215\" r=\"205\" fill=\"none\" stroke=\"black\" stroke-width=\"2\" stroke-dasharray=\"3,3\"/><circle cx=\"134\" cy=\"215\" r=\"10\" fill=\"rgb(136,136,136)\"/><circle cx=\"113\" cy=\"93\" r=\"7\" fill=\"rgb(82,82,82)\"/><circle cx=\"88\" cy=\"211\" r=\"11\" fill=\"rgb(132,132,132)\"/><circle cx=\"199\" cy=\"249\" r=\"13\" fill=\"rgb(188,188,188)\"/><circle cx=\"353\" cy=\"280\" r=\"12\" fill=\"rgb(180,180,180)\"/><circle cx=\"306\" cy=\"112\" r=\"10\" fill=\"rgb(112,112,112)\"/><circle cx=\"161\" cy=\"149\" r=\"8\" fill=\"rgb(174,174,174)\"/></svg><svg viewBox='0 0 430 430' id=\"svg\" width=\"172\" height=\"172\"><circle cx=\"215\" cy=\"215\" r=\"205\" fill=\"none\" stroke=\"black\" stroke-width=\"2\" stroke-dasharray=\"3,3\"/> <circle cx=\"134\" cy=\"215\" r=\"10\" fill=\"rgb(255,163,163)\" class=\"agent_1_3\"/><circle cx=\"113\" cy=\"93\" r=\"7\" fill=\"rgb(255,238,238)\" class=\"agent_1_31\"/><circle cx=\"88\" cy=\"211\" r=\"11\" fill=\"rgb(255,226,226)\" class=\"agent_1_37\"/><circle cx=\"199\" cy=\"249\" r=\"13\" fill=\"rgb(255,146,146)\" class=\"agent_1_49\"/><circle cx=\"353\" cy=\"280\" r=\"12\" fill=\"rgb(255,251,251)\" class=\"agent_1_51\"/><circle cx=\"306\" cy=\"112\" r=\"10\" fill=\"rgb(255,250,250)\" class=\"agent_1_58\"/><circle cx=\"161\" cy=\"149\" r=\"8\" fill=\"rgb(255,253,253)\" class=\"agent_1_71\"/></svg></div>"
      ],
      "text/plain": [
       "<IPython.core.display.HTML object>"
      ]
     },
     "metadata": {},
     "output_type": "display_data"
    },
    {
     "name": "stdout",
     "output_type": "stream",
     "text": [
      "to_mention_true\n"
     ]
    },
    {
     "data": {
      "text/html": [
       "<div style=\"white-space: nowrap\"><svg viewbox='0 0 430 430' width=\"172\" height=\"172\" id=\"agent_1\"><circle cx=\"215\" cy=\"215\" r=\"205\" fill=\"none\" stroke=\"black\" stroke-width=\"2\" stroke-dasharray=\"3,3\"/><circle cx=\"134\" cy=\"215\" r=\"10\" fill=\"rgb(136,136,136)\"/><circle cx=\"113\" cy=\"93\" r=\"7\" fill=\"rgb(82,82,82)\"/><circle cx=\"88\" cy=\"211\" r=\"11\" fill=\"rgb(132,132,132)\"/><circle cx=\"199\" cy=\"249\" r=\"13\" fill=\"rgb(188,188,188)\"/><circle cx=\"353\" cy=\"280\" r=\"12\" fill=\"rgb(180,180,180)\"/><circle cx=\"306\" cy=\"112\" r=\"10\" fill=\"rgb(112,112,112)\"/><circle cx=\"161\" cy=\"149\" r=\"8\" fill=\"rgb(174,174,174)\"/></svg><svg viewBox='0 0 430 430' id=\"svg\" width=\"172\" height=\"172\"><circle cx=\"215\" cy=\"215\" r=\"205\" fill=\"none\" stroke=\"black\" stroke-width=\"2\" stroke-dasharray=\"3,3\"/> <circle cx=\"134\" cy=\"215\" r=\"10\" fill=\"rgb(255,0,0)\" class=\"agent_1_3\"/><circle cx=\"113\" cy=\"93\" r=\"7\" fill=\"rgb(255,255,255)\" class=\"agent_1_31\"/><circle cx=\"88\" cy=\"211\" r=\"11\" fill=\"rgb(255,255,255)\" class=\"agent_1_37\"/><circle cx=\"199\" cy=\"249\" r=\"13\" fill=\"rgb(255,255,255)\" class=\"agent_1_49\"/><circle cx=\"353\" cy=\"280\" r=\"12\" fill=\"rgb(255,255,255)\" class=\"agent_1_51\"/><circle cx=\"306\" cy=\"112\" r=\"10\" fill=\"rgb(255,255,255)\" class=\"agent_1_58\"/><circle cx=\"161\" cy=\"149\" r=\"8\" fill=\"rgb(255,255,255)\" class=\"agent_1_71\"/></svg></div>"
      ],
      "text/plain": [
       "<IPython.core.display.HTML object>"
      ]
     },
     "metadata": {},
     "output_type": "display_data"
    },
    {
     "name": "stdout",
     "output_type": "stream",
     "text": [
      "beam 0\tis the lower one to the left ? <eos>\n",
      "beam 1\tyes , pick the top one <selection>\n",
      "beam 2\tlet us select the darker one <selection>\n",
      "beam 3\tyes ! click the top one ! <selection>\n",
      "beam 4\tis the lower one to the right ? <eos>\n",
      "beam 5\tis the top one slightly larger ? <eos>\n",
      "beam 6\tis the lower one slightly to the left ? <eos>\n",
      "beam 7\tis the lower one slightly to the right ? <eos>\n",
      "beam 8\tyes , lets pick the darker one <eos>\n",
      "beam 9\tyes ! click the top one ! <eos>\n",
      "beam 10\tyes , let 's pick the darker one <eos>\n",
      "beam 11\tyes , let 's pick the darker one <selection>\n",
      "beam 12\tyes , let 's pick the top one <eos>\n",
      "beam 13\tyes , let 's pick the top one <selection>\n",
      "beam 14\tyes , let 's choose the darker one <eos>\n",
      "beam 15\tyes , let 's pick the lighter one <eos>\n",
      "beam 16\tyes , let 's choose the top one <eos>\n",
      "beam 17\tis the one on the right slightly lower ? <eos>\n",
      "beam 18\tyes , let 's pick the lighter one <selection>\n",
      "beam 19\tyes , let 's choose the darker one <selection>\n",
      "greedy\tyes , lets pick the darker one <eos>\n",
      "human\tlet 's select the smaller one on the right <selection>\n",
      "detected markables:\n",
      "{'start': 17, 'end': 32, 'is_self': True, 'text': 'the smaller one'}\n",
      "ref_marginal_probs\n"
     ]
    },
    {
     "data": {
      "text/html": [
       "<div style=\"white-space: nowrap\"><svg viewbox='0 0 430 430' width=\"172\" height=\"172\" id=\"agent_1\"><circle cx=\"215\" cy=\"215\" r=\"205\" fill=\"none\" stroke=\"black\" stroke-width=\"2\" stroke-dasharray=\"3,3\"/><circle cx=\"134\" cy=\"215\" r=\"10\" fill=\"rgb(136,136,136)\"/><circle cx=\"113\" cy=\"93\" r=\"7\" fill=\"rgb(82,82,82)\"/><circle cx=\"88\" cy=\"211\" r=\"11\" fill=\"rgb(132,132,132)\"/><circle cx=\"199\" cy=\"249\" r=\"13\" fill=\"rgb(188,188,188)\"/><circle cx=\"353\" cy=\"280\" r=\"12\" fill=\"rgb(180,180,180)\"/><circle cx=\"306\" cy=\"112\" r=\"10\" fill=\"rgb(112,112,112)\"/><circle cx=\"161\" cy=\"149\" r=\"8\" fill=\"rgb(174,174,174)\"/></svg><svg viewBox='0 0 430 430' id=\"svg\" width=\"172\" height=\"172\"><circle cx=\"215\" cy=\"215\" r=\"205\" fill=\"none\" stroke=\"black\" stroke-width=\"2\" stroke-dasharray=\"3,3\"/> <circle cx=\"134\" cy=\"215\" r=\"10\" fill=\"rgb(255,254,254)\" class=\"agent_1_3\"/><circle cx=\"113\" cy=\"93\" r=\"7\" fill=\"rgb(255,1,1)\" class=\"agent_1_31\"/><circle cx=\"88\" cy=\"211\" r=\"11\" fill=\"rgb(255,254,254)\" class=\"agent_1_37\"/><circle cx=\"199\" cy=\"249\" r=\"13\" fill=\"rgb(255,254,254)\" class=\"agent_1_49\"/><circle cx=\"353\" cy=\"280\" r=\"12\" fill=\"rgb(255,254,254)\" class=\"agent_1_51\"/><circle cx=\"306\" cy=\"112\" r=\"10\" fill=\"rgb(255,254,254)\" class=\"agent_1_58\"/><circle cx=\"161\" cy=\"149\" r=\"8\" fill=\"rgb(255,254,254)\" class=\"agent_1_71\"/></svg></div>"
      ],
      "text/plain": [
       "<IPython.core.display.HTML object>"
      ]
     },
     "metadata": {},
     "output_type": "display_data"
    },
    {
     "name": "stdout",
     "output_type": "stream",
     "text": [
      "refs_pred\n"
     ]
    },
    {
     "data": {
      "text/html": [
       "<div style=\"white-space: nowrap\"><svg viewbox='0 0 430 430' width=\"172\" height=\"172\" id=\"agent_1\"><circle cx=\"215\" cy=\"215\" r=\"205\" fill=\"none\" stroke=\"black\" stroke-width=\"2\" stroke-dasharray=\"3,3\"/><circle cx=\"134\" cy=\"215\" r=\"10\" fill=\"rgb(136,136,136)\"/><circle cx=\"113\" cy=\"93\" r=\"7\" fill=\"rgb(82,82,82)\"/><circle cx=\"88\" cy=\"211\" r=\"11\" fill=\"rgb(132,132,132)\"/><circle cx=\"199\" cy=\"249\" r=\"13\" fill=\"rgb(188,188,188)\"/><circle cx=\"353\" cy=\"280\" r=\"12\" fill=\"rgb(180,180,180)\"/><circle cx=\"306\" cy=\"112\" r=\"10\" fill=\"rgb(112,112,112)\"/><circle cx=\"161\" cy=\"149\" r=\"8\" fill=\"rgb(174,174,174)\"/></svg><svg viewBox='0 0 430 430' id=\"svg\" width=\"172\" height=\"172\"><circle cx=\"215\" cy=\"215\" r=\"205\" fill=\"none\" stroke=\"black\" stroke-width=\"2\" stroke-dasharray=\"3,3\"/> <circle cx=\"134\" cy=\"215\" r=\"10\" fill=\"rgb(255,255,255)\" class=\"agent_1_3\"/><circle cx=\"113\" cy=\"93\" r=\"7\" fill=\"rgb(255,0,0)\" class=\"agent_1_31\"/><circle cx=\"88\" cy=\"211\" r=\"11\" fill=\"rgb(255,255,255)\" class=\"agent_1_37\"/><circle cx=\"199\" cy=\"249\" r=\"13\" fill=\"rgb(255,255,255)\" class=\"agent_1_49\"/><circle cx=\"353\" cy=\"280\" r=\"12\" fill=\"rgb(255,255,255)\" class=\"agent_1_51\"/><circle cx=\"306\" cy=\"112\" r=\"10\" fill=\"rgb(255,255,255)\" class=\"agent_1_58\"/><circle cx=\"161\" cy=\"149\" r=\"8\" fill=\"rgb(255,255,255)\" class=\"agent_1_71\"/></svg></div>"
      ],
      "text/plain": [
       "<IPython.core.display.HTML object>"
      ]
     },
     "metadata": {},
     "output_type": "display_data"
    },
    {
     "name": "stdout",
     "output_type": "stream",
     "text": [
      "refs_true\n"
     ]
    },
    {
     "data": {
      "text/html": [
       "<div style=\"white-space: nowrap\"><svg viewbox='0 0 430 430' width=\"172\" height=\"172\" id=\"agent_1\"><circle cx=\"215\" cy=\"215\" r=\"205\" fill=\"none\" stroke=\"black\" stroke-width=\"2\" stroke-dasharray=\"3,3\"/><circle cx=\"134\" cy=\"215\" r=\"10\" fill=\"rgb(136,136,136)\"/><circle cx=\"113\" cy=\"93\" r=\"7\" fill=\"rgb(82,82,82)\"/><circle cx=\"88\" cy=\"211\" r=\"11\" fill=\"rgb(132,132,132)\"/><circle cx=\"199\" cy=\"249\" r=\"13\" fill=\"rgb(188,188,188)\"/><circle cx=\"353\" cy=\"280\" r=\"12\" fill=\"rgb(180,180,180)\"/><circle cx=\"306\" cy=\"112\" r=\"10\" fill=\"rgb(112,112,112)\"/><circle cx=\"161\" cy=\"149\" r=\"8\" fill=\"rgb(174,174,174)\"/></svg><svg viewBox='0 0 430 430' id=\"svg\" width=\"172\" height=\"172\"><circle cx=\"215\" cy=\"215\" r=\"205\" fill=\"none\" stroke=\"black\" stroke-width=\"2\" stroke-dasharray=\"3,3\"/> <circle cx=\"134\" cy=\"215\" r=\"10\" fill=\"rgb(255,0,0)\" class=\"agent_1_3\"/><circle cx=\"113\" cy=\"93\" r=\"7\" fill=\"rgb(255,255,255)\" class=\"agent_1_31\"/><circle cx=\"88\" cy=\"211\" r=\"11\" fill=\"rgb(255,255,255)\" class=\"agent_1_37\"/><circle cx=\"199\" cy=\"249\" r=\"13\" fill=\"rgb(255,255,255)\" class=\"agent_1_49\"/><circle cx=\"353\" cy=\"280\" r=\"12\" fill=\"rgb(255,255,255)\" class=\"agent_1_51\"/><circle cx=\"306\" cy=\"112\" r=\"10\" fill=\"rgb(255,255,255)\" class=\"agent_1_58\"/><circle cx=\"161\" cy=\"149\" r=\"8\" fill=\"rgb(255,255,255)\" class=\"agent_1_71\"/></svg></div>"
      ],
      "text/plain": [
       "<IPython.core.display.HTML object>"
      ]
     },
     "metadata": {},
     "output_type": "display_data"
    },
    {
     "name": "stdout",
     "output_type": "stream",
     "text": [
      "\n",
      "----------------------------------------\n",
      "\n",
      "sel_pred\n"
     ]
    },
    {
     "data": {
      "text/html": [
       "<div style=\"white-space: nowrap\"><svg viewbox='0 0 430 430' width=\"172\" height=\"172\" id=\"agent_1\"><circle cx=\"215\" cy=\"215\" r=\"205\" fill=\"none\" stroke=\"black\" stroke-width=\"2\" stroke-dasharray=\"3,3\"/><circle cx=\"134\" cy=\"215\" r=\"10\" fill=\"rgb(136,136,136)\"/><circle cx=\"113\" cy=\"93\" r=\"7\" fill=\"rgb(82,82,82)\"/><circle cx=\"88\" cy=\"211\" r=\"11\" fill=\"rgb(132,132,132)\"/><circle cx=\"199\" cy=\"249\" r=\"13\" fill=\"rgb(188,188,188)\"/><circle cx=\"353\" cy=\"280\" r=\"12\" fill=\"rgb(180,180,180)\"/><circle cx=\"306\" cy=\"112\" r=\"10\" fill=\"rgb(112,112,112)\"/><circle cx=\"161\" cy=\"149\" r=\"8\" fill=\"rgb(174,174,174)\"/></svg><svg viewBox='0 0 430 430' id=\"svg\" width=\"172\" height=\"172\"><circle cx=\"215\" cy=\"215\" r=\"205\" fill=\"none\" stroke=\"black\" stroke-width=\"2\" stroke-dasharray=\"3,3\"/> <circle cx=\"134\" cy=\"215\" r=\"10\" fill=\"rgb(255,239,239)\" class=\"agent_1_3\"/><circle cx=\"113\" cy=\"93\" r=\"7\" fill=\"rgb(255,39,39)\" class=\"agent_1_31\"/><circle cx=\"88\" cy=\"211\" r=\"11\" fill=\"rgb(255,238,238)\" class=\"agent_1_37\"/><circle cx=\"199\" cy=\"249\" r=\"13\" fill=\"rgb(255,253,253)\" class=\"agent_1_49\"/><circle cx=\"353\" cy=\"280\" r=\"12\" fill=\"rgb(255,252,252)\" class=\"agent_1_51\"/><circle cx=\"306\" cy=\"112\" r=\"10\" fill=\"rgb(255,252,252)\" class=\"agent_1_58\"/><circle cx=\"161\" cy=\"149\" r=\"8\" fill=\"rgb(255,254,254)\" class=\"agent_1_71\"/></svg></div>"
      ],
      "text/plain": [
       "<IPython.core.display.HTML object>"
      ]
     },
     "metadata": {},
     "output_type": "display_data"
    },
    {
     "name": "stdout",
     "output_type": "stream",
     "text": [
      "sel_true\n"
     ]
    },
    {
     "data": {
      "text/html": [
       "<div style=\"white-space: nowrap\"><svg viewbox='0 0 430 430' width=\"172\" height=\"172\" id=\"agent_1\"><circle cx=\"215\" cy=\"215\" r=\"205\" fill=\"none\" stroke=\"black\" stroke-width=\"2\" stroke-dasharray=\"3,3\"/><circle cx=\"134\" cy=\"215\" r=\"10\" fill=\"rgb(136,136,136)\"/><circle cx=\"113\" cy=\"93\" r=\"7\" fill=\"rgb(82,82,82)\"/><circle cx=\"88\" cy=\"211\" r=\"11\" fill=\"rgb(132,132,132)\"/><circle cx=\"199\" cy=\"249\" r=\"13\" fill=\"rgb(188,188,188)\"/><circle cx=\"353\" cy=\"280\" r=\"12\" fill=\"rgb(180,180,180)\"/><circle cx=\"306\" cy=\"112\" r=\"10\" fill=\"rgb(112,112,112)\"/><circle cx=\"161\" cy=\"149\" r=\"8\" fill=\"rgb(174,174,174)\"/></svg><svg viewBox='0 0 430 430' id=\"svg\" width=\"172\" height=\"172\"><circle cx=\"215\" cy=\"215\" r=\"205\" fill=\"none\" stroke=\"black\" stroke-width=\"2\" stroke-dasharray=\"3,3\"/> <circle cx=\"134\" cy=\"215\" r=\"10\" fill=\"rgb(255,0,0)\" class=\"agent_1_3\"/><circle cx=\"113\" cy=\"93\" r=\"7\" fill=\"rgb(255,255,255)\" class=\"agent_1_31\"/><circle cx=\"88\" cy=\"211\" r=\"11\" fill=\"rgb(255,255,255)\" class=\"agent_1_37\"/><circle cx=\"199\" cy=\"249\" r=\"13\" fill=\"rgb(255,255,255)\" class=\"agent_1_49\"/><circle cx=\"353\" cy=\"280\" r=\"12\" fill=\"rgb(255,255,255)\" class=\"agent_1_51\"/><circle cx=\"306\" cy=\"112\" r=\"10\" fill=\"rgb(255,255,255)\" class=\"agent_1_58\"/><circle cx=\"161\" cy=\"149\" r=\"8\" fill=\"rgb(255,255,255)\" class=\"agent_1_71\"/></svg></div>"
      ],
      "text/plain": [
       "<IPython.core.display.HTML object>"
      ]
     },
     "metadata": {},
     "output_type": "display_data"
    }
   ],
   "source": [
    "selection_sandbox(3, min_num_mentions=1, mention_marginals=False, for_partner=False, datasplit=validset,\n",
    "                  display_mentions=True, display_referents=True, display_ref_marginals=True, display_mention_candidates=False,\n",
    "                  mention_top_k=20, candidates=20, inference='beam')"
   ]
  },
  {
   "cell_type": "code",
   "execution_count": 39,
   "metadata": {},
   "outputs": [],
   "source": [
    "import json\n",
    "with open('data/onecommon/shared_4.json', \"r\") as f:\n",
    "    scenario_list = json.load(f)\n",
    "selfplay_scenarios = {scenario['uuid']: scenario for scenario in scenario_list}"
   ]
  },
  {
   "cell_type": "code",
   "execution_count": 40,
   "metadata": {},
   "outputs": [],
   "source": [
    "selfplay_scenarios_list = list(sorted(selfplay_scenarios.values(), key=lambda d: d['uuid']))"
   ]
  },
  {
   "cell_type": "code",
   "execution_count": 41,
   "metadata": {},
   "outputs": [],
   "source": [
    "from utils import ContextGenerator"
   ]
  },
  {
   "cell_type": "code",
   "execution_count": 59,
   "metadata": {
    "scrolled": false
   },
   "outputs": [],
   "source": [
    "def selfplay_contexts_and_mentions(scenario,  model=model, max_sentences=10,\n",
    "                                   inference='beam', beam_size=1, sample_temperature=0.25,\n",
    "                                   min_num_mentions=0, max_num_mentions=10,\n",
    "                                   display_mention_marginals=False, display_referents=False,\n",
    "                                   display_selection=True, mention_top_k=None,\n",
    "                                   display_beam_candidates=False,\n",
    "                                   next_mention_reranking=False,\n",
    "                                   next_mention_reranking_k=10,\n",
    "                                   next_mention_reranking_score='log_max_probability',\n",
    "                                   next_mention_reranking_weight=0.5,\n",
    "                                   next_mention_candidate_generation='topk',\n",
    "                                  ):\n",
    "#     scenario = selfplay_scenarios[scenario_id]\n",
    "    detect_markables = True\n",
    "    nm_args = {\n",
    "        'next_mention_reranking': next_mention_reranking,\n",
    "        'next_mention_reranking_k': next_mention_reranking_k,\n",
    "        'next_mention_reranking_score': next_mention_reranking_score,\n",
    "        'next_mention_reranking_weight': next_mention_reranking_weight,\n",
    "        'next_mention_candidate_generation': next_mention_candidate_generation,\n",
    "    }\n",
    "    merged_args = argparse.Namespace(**utils.merge_dicts(vars(args), vars(model.args)))\n",
    "    alice = RnnAgent(model, merged_args, markable_detector=markable_detector, name='alice', **nm_args)\n",
    "    bob = RnnAgent(model, merged_args, markable_detector=markable_detector, name='bob', **nm_args)\n",
    "    \n",
    "    is_selection_prediction = vars(model.args).get('is_selection_prediction', False)\n",
    "    \n",
    "    ctx_gen = ContextGenerator('data/onecommon/shared_{}.txt'.format(scenario['shared']))\n",
    "    for ix, ([scenario_id_], (ctx1, ctx2), (ids1, ids2)) in enumerate(ctx_gen.iter()):\n",
    "        if scenario_id_ == scenario['uuid']:\n",
    "            print('found it')\n",
    "            break\n",
    "    \n",
    "    belief_constructor = BlankBeliefConstructor()\n",
    "    \n",
    "    for agent, agent_id, ctx, real_ids in zip([alice, bob], [0, 1], [ctx1, ctx2], [ids1, ids2]):\n",
    "        agent.feed_context(ctx,\n",
    "                           belief_constructor,\n",
    "                           min_num_mentions=min_num_mentions,\n",
    "                           max_num_mentions=max_num_mentions,\n",
    "                          )\n",
    "        agent.real_ids = real_ids\n",
    "        agent.agent_id = agent_id\n",
    "#     ctx, inpts, tgts, ref_inpts, ref_tgts, sel_tgt, \\\n",
    "#     [scenario_id], real_ids, partner_real_ids, agents, chat_ids, sel_idxs, \\\n",
    "#     lens, rev_idxs, hid_idxs, num_markables, \\\n",
    "#     is_self, partner_ref_inpts, partner_ref_tgts_our_view, partner_num_markables,\\\n",
    "#     ref_disagreements, partner_ref_disagreements = datasplit[index]\n",
    "    \n",
    "    bsz = 1\n",
    "    num_dots = 7\n",
    "    \n",
    "    # assume we've been training for a while, so that the beliefs are out of the warmup period (e.g. for models that switch from true->predicted)\n",
    "    epoch = 1000\n",
    "    \n",
    "    assert [] == model.args.ref_beliefs == model.args.partner_ref_beliefs == model.args.generation_beliefs == model.args.selection_beliefs == model.args.mention_beliefs\n",
    "    \n",
    "    belief_constructor = BlankBeliefConstructor()\n",
    "    \n",
    "    writer, reader = alice, bob\n",
    "    \n",
    "    conv = []\n",
    "    speaker = []\n",
    "    words_left = 5000\n",
    "\n",
    "    sentence_ix = 0\n",
    "\n",
    "    while sentence_ix < max_sentences:\n",
    "            \n",
    "        assert writer.state.turn == sentence_ix\n",
    "        assert reader.state.turn == sentence_ix\n",
    "        sel_prob_now = writer.model.current_selection_probabilities(writer.state)\n",
    "#         sel_prob_now = current_sel_prob(agent)\n",
    "        print_selection_stats(sel_prob_now)\n",
    "        \n",
    "        display_attns(scenario, sel_prob_now, writer.agent_id, \"{} sel_prob_now: {}\".format(writer.name, sel_prob_now.flatten()))\n",
    "        \n",
    "#         dots_mentioned = (ref_tgts[sentence_ix].sum(dim=1) > 0)\n",
    "#         dots_mentioned_per_ref = ref_tgts[sentence_ix]\n",
    "#         this_num_markables = num_markables[sentence_ix]\n",
    "#         mentions = [dots_mentioned_per_ref[:,mention_ix].float()  for mention_ix in range(dots_mentioned_per_ref.size(1))]\n",
    "#         nm_out, _, nm_num_markables = writer.next_mention_outs[-1]\n",
    "#         if nm_out is not None:\n",
    "#             dummy_targets = torch.zeros((1, nm_num_markables[0].item(), 7)).long()\n",
    "#             _, nm_preds, _ = reference_predictor.forward(\n",
    "#                 True, dummy_targets, nm_out, nm_num_markables\n",
    "#             )\n",
    "#             this_num_markables = nm_num_markables\n",
    "#             if display_mentions and display_mention_marginals:\n",
    "#                 display_attns(scenario, nm_out[0].sigmoid().squeeze(1).float(), writer.agent_id, \"{} to_mention_marginals\".format(writer.name))\n",
    "#             if mention_top_k is not None:\n",
    "#                 cands = candidate_predictor.make_candidates(nm_out, nm_num_markables)[1]\n",
    "#                 best_max_prob = 0\n",
    "#                 nm_preds_rerank = nm_preds\n",
    "#                 for ix in range(cands.size(2)):\n",
    "#                     this_nm_preds = cands[:,0,ix].unsqueeze(1)\n",
    "#                     sel_prob_cand = writer.model.rollout_selection_probabilities(writer.state, this_nm_preds, nm_num_markables)\n",
    "#                     this_max_prob = get_selection_stats(sel_prob_cand)['max_prob']\n",
    "#                     if this_max_prob > best_max_prob:\n",
    "#                         nm_preds_rerank = this_nm_preds\n",
    "#                         best_best_entropy = this_max_prob\n",
    "#                     if display_mentions and display_mention_candidates:\n",
    "#                         display_attns(scenario, this_nm_preds.squeeze(1), writer.agent_id, \"{} to_mention_candidate {}\".format(writer.name, ix))\n",
    "#                         print_selection_stats(sel_prob_cand)\n",
    "#                         display_attns(scenario, sel_prob_cand, writer.agent_id, \"{} sel_prob after cand: {}\".format(writer.name, sel_prob_cand.flatten()))\n",
    "#             if display_mentions:\n",
    "#                 display_attns(scenario, nm_preds.squeeze(1).float(), writer.agent_id, \"{} to_mention_pred\".format(writer.name))\n",
    "\n",
    "\n",
    "#             sel_prob_predicted = writer.model.rollout_selection_probabilities(writer.state, nm_preds, nm_num_markables)\n",
    "#             print_selection_stats(sel_prob_predicted)\n",
    "#             display_attns(scenario, sel_prob_predicted, writer.agent_id, \"{} sel_prob after pred: {}\".format(writer.name, sel_prob_predicted.flatten()))\n",
    "\n",
    "#             if mention_top_k is not None:\n",
    "#                 if display_mentions:\n",
    "#                     display_attns(scenario, nm_preds_rerank.squeeze(1).float(), writer.agent_id, \"{} to_mention_rerank\".format(writer.name))\n",
    "#                 sel_prob_rerank = writer.model.rollout_selection_probabilities(writer.state, nm_preds_rerank, nm_num_markables)\n",
    "#                 print_selection_stats(sel_prob_rerank)\n",
    "#                 display_attns(scenario, sel_prob_rerank, writer.agent_id, \"{} sel_prob after rerank pred: {}\".format(writer.name, sel_prob_rerank.flatten()))\n",
    "#                 dots_mentioned_per_ref = nm_preds_rerank.transpose(0,1)\n",
    "#             else:\n",
    "#                 dots_mentioned_per_ref = nm_preds.transpose(0,1)\n",
    "        nm_preds = writer.next_mention_predictions[-1]\n",
    "        if nm_preds is not None:\n",
    "            if display_mentions:\n",
    "                display_attns(scenario, nm_preds.squeeze(1).float(), writer.agent_id, \"{} to_mention_pred\".format(writer.name))\n",
    "            sel_prob_predicted = writer.model.rollout_selection_probabilities(writer.state, nm_preds, writer.next_mention_outs[-1][2])\n",
    "            print_selection_stats(sel_prob_predicted)\n",
    "            display_attns(scenario, sel_prob_predicted, writer.agent_id, \"{} sel_prob after pred: {}\".format(writer.name, sel_prob_predicted.flatten()))\n",
    "            dots_mentioned_per_ref = nm_preds.transpose(0,1)\n",
    "            this_num_markables = writer.next_mention_outs[-1][2]\n",
    "        else:\n",
    "            if display_mentions:\n",
    "                print(\"{}: no predicted mentions\".format(writer.name))\n",
    "            dots_mentioned_per_ref = torch.zeros((1, 0, 7)).bool()\n",
    "            this_num_markables = torch.LongTensor([0])\n",
    "        \n",
    "        dots_mentioned_per_ref = dots_mentioned_per_ref.bool()\n",
    "            \n",
    "        if dots_mentioned_per_ref is not None:\n",
    "            # TODO: choose the right max dimension here\n",
    "            if this_num_markables.item() > 0:\n",
    "                dots_mentioned = dots_mentioned_per_ref.any(1)\n",
    "            else:\n",
    "                dots_mentioned = torch.zeros((1, 7)).bool()\n",
    "            \n",
    "            \n",
    "#         dots_mentioned = torch.zeros(1, 7).bool()\n",
    "#         dots_mentioned_per_ref = torch.zeros(1, 0, 7).bool()\n",
    "#         this_num_markables = torch.LongTensor([0])\n",
    "            \n",
    "        if is_selection_prediction:\n",
    "            is_selection_prob = writer.is_selection_outs[-1].sigmoid()\n",
    "            this_is_selection = torch.distributions.Bernoulli(is_selection_prob).sample().bool().view((1,))\n",
    "            print(\"{} predicted is_selection probability: {}; is_selection: {}\".format(writer.name, is_selection_prob.item(), this_is_selection.item()))\n",
    "        else:\n",
    "            this_is_selection = None\n",
    "\n",
    "        # WRITER\n",
    "\n",
    "        this_partner_num_markables = torch.LongTensor([0])\n",
    "\n",
    "        dummy_ref_tgt = torch.zeros((1, this_num_markables.item(), 7)).long()\n",
    "        dummy_partner_ref_tgt = torch.zeros((1, this_partner_num_markables.item(), 7)).long()\n",
    "        out_words = writer.write(\n",
    "            max_words=words_left,\n",
    "            detect_markables=True,\n",
    "            start_token='YOU:',\n",
    "            dots_mentioned=dots_mentioned,\n",
    "            dots_mentioned_per_ref=dots_mentioned_per_ref,\n",
    "            num_markables=this_num_markables,\n",
    "            is_selection=this_is_selection,\n",
    "            inference=inference,\n",
    "            beam_size=beam_size,\n",
    "            sample_temperature_override=sample_temperature,\n",
    "        )\n",
    "        \n",
    "        if display_beam_candidates and inference in ['beam', 'noised_beam']:\n",
    "            extra = writer.extras[-1]\n",
    "            for cand_ix, utt in enumerate(extra['words']):\n",
    "                print('{} beam {}\\t{}'.format(writer.name, cand_ix, ' '.join(utt)))\n",
    "        \n",
    "        print('{}: {}'.format(writer.name, ' '.join(out_words)))\n",
    "        \n",
    "        # READER\n",
    "#         out = words_og\n",
    "        dummy_ref_tgt = torch.zeros((1, this_num_markables.item(), 7)).long()\n",
    "        dummy_partner_ref_tgt = torch.zeros((1, this_partner_num_markables.item(), 7)).long()\n",
    "        \n",
    "        # TODO: check start token is being properly set\n",
    "        reader.read(out_words,\n",
    "                   dots_mentioned=dots_mentioned,\n",
    "                   dots_mentioned_per_ref=dots_mentioned_per_ref,\n",
    "                   num_markables=this_num_markables,\n",
    "                   next_num_markables_to_force=None,\n",
    "                   detect_markables=True,\n",
    "                   min_num_mentions=min_num_mentions,\n",
    "                   max_num_mentions=max_num_mentions,\n",
    "                   is_selection=this_is_selection,\n",
    "                   )\n",
    "        \n",
    "#         agent.update_dot_h(ref_inpts[sentence_ix], partner_ref_inpts[sentence_ix],\n",
    "#                             num_markables[sentence_ix], partner_num_markables[sentence_ix])\n",
    "            \n",
    "\n",
    "        # WRITER\n",
    "        print('{} detected markables:'.format(writer.name))\n",
    "        for markable in writer.markables[-1]:\n",
    "            print(markable)\n",
    "        this_num_markables_pred = torch.LongTensor([len(writer.markables[-1])])\n",
    "        this_ref_inpts = writer.ref_inpts[-1]\n",
    "        \n",
    "        if this_num_markables_pred is not None:\n",
    "            dummy_targets = torch.zeros((1, this_num_markables_pred.item(), 7)).long()\n",
    "            _, ref_preds, _ = reference_predictor.forward(\n",
    "                this_ref_inpts, dummy_targets, writer.ref_outs[-1], this_num_markables_pred\n",
    "            )\n",
    "#                 print(\"ref_preds size:\", ref_preds.size())\n",
    "            if writer.ref_outs[-1] is not None and ref_preds is not None and display_referents:\n",
    "                if ref_marginals:\n",
    "                    display_attns(scenario, writer.ref_outs[-1][0].sigmoid().squeeze(1), writer.agent_id, \"{} ref_marginal_probs\".format(writer.name))\n",
    "                display_attns(scenario, ref_preds.squeeze(1).float(), writer.agent_id, \"{} refs_pred\".format(writer.name))\n",
    "#                 print(ref_stats)\n",
    "#         if out[0] != 'YOU':\n",
    "#             utt = ['YOU:'] + out\n",
    "#         else:\n",
    "#             utt = out\n",
    "            \n",
    "        # READER\n",
    "        print('{} detected markables:'.format(reader.name))\n",
    "        for markable in reader.partner_markables[-1]:\n",
    "            print(markable)\n",
    "        this_partner_num_markables_pred = torch.LongTensor([len(reader.partner_markables[-1])])\n",
    "        this_partner_ref_inpts = reader.partner_ref_inpts[-1]\n",
    "\n",
    "        if this_partner_num_markables_pred is not None:\n",
    "#                 _, partner_ref_preds, partner_ref_stats = reference_predictor.forward(\n",
    "#                     partner_ref_inpts[sentence_ix], partner_ref_tgts_our_view[sentence_ix],\n",
    "#                     reader.partner_ref_outs[-1], partner_num_markables[sentence_ix]\n",
    "#                 )\n",
    "            dummy_targets = torch.zeros((1, this_partner_num_markables_pred.item(), 7)).long()\n",
    "            _, partner_ref_preds, partner_ref_stats = reference_predictor.forward(\n",
    "                this_partner_ref_inpts, dummy_targets,\n",
    "                reader.partner_ref_outs[-1], this_partner_num_markables_pred,\n",
    "            )\n",
    "#             print(partner_ref_preds)\n",
    "            if reader.partner_ref_outs[-1] is not None and partner_ref_preds is not None and display_referents:\n",
    "                if ref_marginals:\n",
    "                    display_attns(scenario, reader.partner_ref_outs[-1][0].sigmoid().squeeze(1), reader.agent_id, \"{} partner_ref_marginal_probs\".format(reader.name))\n",
    "                display_attns(scenario, partner_ref_preds.squeeze(1).float(), reader.agent_id, \"{} partner_refs_pred\".format(reader.name))\n",
    "#                 display_attns(scenario, partner_ref_tgts_our_view[sentence_ix].squeeze(0).float(), reader.agent_id, \"partner_refs_true\")\n",
    "#                 display_attns(scenario, partner_ref_tgts[sentence_ix].squeeze(0).float(), 1 - reader.agent_id, \"partner_ref_true (their view)\")\n",
    "#                 print(partner_ref_stats)\n",
    "#         if out[0] == 'THEM:':\n",
    "#             utt = ['YOU:'] + out[1:]\n",
    "#         else:\n",
    "#             utt = ['YOU:'] + out\n",
    "        \n",
    "        print()\n",
    "        print('-'*40)\n",
    "        print()\n",
    "        words_left -= len(out_words)\n",
    "        conv.append(out_words)\n",
    "\n",
    "        if is_selection_function(out_words):\n",
    "            # sel_outs should be length 1\n",
    "            if display_selection:\n",
    "                dot_ids_by_agent_ids = {0: ids1, 1: ids2}\n",
    "                writer_selection_logits, _, _ = writer.sel_outs[-1]\n",
    "                display_attns(scenario, writer_selection_logits.softmax(-1), writer.agent_id, \"{} sel_pred\".format(writer.name))\n",
    "                writer_dot = dot_ids_by_agent_ids[writer.agent_id][writer_selection_logits.flatten().argmax().item()]\n",
    "                reader_selection_logits, _, _ = reader.sel_outs[-1]\n",
    "                reader_dot = dot_ids_by_agent_ids[reader.agent_id][reader_selection_logits.flatten().argmax().item()]\n",
    "                display_attns(scenario, reader_selection_logits.softmax(-1), reader.agent_id, \"{} sel_pred\".format(reader.name))\n",
    "                if writer_dot == reader_dot:\n",
    "                    print(\"agree!\")\n",
    "                else:\n",
    "                    print(\"disagree\")\n",
    "            break\n",
    "        sentence_ix += 1\n",
    "        \n",
    "        writer, reader = reader, writer"
   ]
  },
  {
   "cell_type": "code",
   "execution_count": 41,
   "metadata": {
    "scrolled": true
   },
   "outputs": [
    {
     "name": "stdout",
     "output_type": "stream",
     "text": [
      "overwriting key cuda with value True with value False\n",
      "overwriting key temperature with value 0.1 with value 0.25\n",
      "found it\n",
      "max prob: 0.3707628846168518\n",
      "entropy: 1.7103047370910645\n",
      "alice sel_prob_now: tensor([0.1154, 0.0757, 0.0521, 0.2185, 0.0659, 0.1016, 0.3708],\n",
      "       grad_fn=<ViewBackward>)\n"
     ]
    },
    {
     "data": {
      "text/html": [
       "<div style=\"white-space: nowrap\"><svg viewbox='0 0 430 430' width=\"172\" height=\"172\" id=\"agent_0\"><circle cx=\"215\" cy=\"215\" r=\"205\" fill=\"none\" stroke=\"black\" stroke-width=\"2\" stroke-dasharray=\"3,3\"/><circle cx=\"211\" cy=\"98\" r=\"8\" fill=\"rgb(185,185,185)\"/><circle cx=\"131\" cy=\"278\" r=\"12\" fill=\"rgb(136,136,136)\"/><circle cx=\"111\" cy=\"315\" r=\"10\" fill=\"rgb(129,129,129)\"/><circle cx=\"226\" cy=\"66\" r=\"12\" fill=\"rgb(84,84,84)\"/><circle cx=\"241\" cy=\"330\" r=\"10\" fill=\"rgb(153,153,153)\"/><circle cx=\"213\" cy=\"407\" r=\"12\" fill=\"rgb(110,110,110)\"/><circle cx=\"337\" cy=\"365\" r=\"8\" fill=\"rgb(59,59,59)\"/></svg><svg viewBox='0 0 430 430' id=\"svg\" width=\"172\" height=\"172\"><circle cx=\"215\" cy=\"215\" r=\"205\" fill=\"none\" stroke=\"black\" stroke-width=\"2\" stroke-dasharray=\"3,3\"/> <circle cx=\"211\" cy=\"98\" r=\"8\" fill=\"rgb(255,225,225)\" class=\"agent_0_24\"/><circle cx=\"131\" cy=\"278\" r=\"12\" fill=\"rgb(255,235,235)\" class=\"agent_0_39\"/><circle cx=\"111\" cy=\"315\" r=\"10\" fill=\"rgb(255,241,241)\" class=\"agent_0_40\"/><circle cx=\"226\" cy=\"66\" r=\"12\" fill=\"rgb(255,199,199)\" class=\"agent_0_53\"/><circle cx=\"241\" cy=\"330\" r=\"10\" fill=\"rgb(255,238,238)\" class=\"agent_0_61\"/><circle cx=\"213\" cy=\"407\" r=\"12\" fill=\"rgb(255,229,229)\" class=\"agent_0_67\"/><circle cx=\"337\" cy=\"365\" r=\"8\" fill=\"rgb(255,160,160)\" class=\"agent_0_68\"/></svg></div>"
      ],
      "text/plain": [
       "<IPython.core.display.HTML object>"
      ]
     },
     "metadata": {},
     "output_type": "display_data"
    },
    {
     "name": "stdout",
     "output_type": "stream",
     "text": [
      "alice: no predicted mentions\n",
      "alice: hello ! where 's your dot ? <eos>\n",
      "alice detected markables:\n",
      "bob detected markables:\n",
      "\n",
      "----------------------------------------\n",
      "\n",
      "max prob: 0.2859329283237457\n",
      "entropy: 1.8601078987121582\n",
      "bob sel_prob_now: tensor([0.1509, 0.1189, 0.1418, 0.1177, 0.1145, 0.0703, 0.2859],\n",
      "       grad_fn=<ViewBackward>)\n"
     ]
    },
    {
     "data": {
      "text/html": [
       "<div style=\"white-space: nowrap\"><svg viewbox='0 0 430 430' width=\"172\" height=\"172\" id=\"agent_1\"><circle cx=\"215\" cy=\"215\" r=\"205\" fill=\"none\" stroke=\"black\" stroke-width=\"2\" stroke-dasharray=\"3,3\"/><circle cx=\"223\" cy=\"263\" r=\"13\" fill=\"rgb(148,148,148)\"/><circle cx=\"369\" cy=\"277\" r=\"11\" fill=\"rgb(150,150,150)\"/><circle cx=\"229\" cy=\"108\" r=\"12\" fill=\"rgb(136,136,136)\"/><circle cx=\"210\" cy=\"145\" r=\"10\" fill=\"rgb(129,129,129)\"/><circle cx=\"340\" cy=\"160\" r=\"10\" fill=\"rgb(153,153,153)\"/><circle cx=\"116\" cy=\"109\" r=\"11\" fill=\"rgb(151,151,151)\"/><circle cx=\"311\" cy=\"238\" r=\"12\" fill=\"rgb(110,110,110)\"/></svg><svg viewBox='0 0 430 430' id=\"svg\" width=\"172\" height=\"172\"><circle cx=\"215\" cy=\"215\" r=\"205\" fill=\"none\" stroke=\"black\" stroke-width=\"2\" stroke-dasharray=\"3,3\"/> <circle cx=\"223\" cy=\"263\" r=\"13\" fill=\"rgb(255,216,216)\" class=\"agent_1_28\"/><circle cx=\"369\" cy=\"277\" r=\"11\" fill=\"rgb(255,224,224)\" class=\"agent_1_32\"/><circle cx=\"229\" cy=\"108\" r=\"12\" fill=\"rgb(255,218,218)\" class=\"agent_1_39\"/><circle cx=\"210\" cy=\"145\" r=\"10\" fill=\"rgb(255,224,224)\" class=\"agent_1_40\"/><circle cx=\"340\" cy=\"160\" r=\"10\" fill=\"rgb(255,225,225)\" class=\"agent_1_61\"/><circle cx=\"116\" cy=\"109\" r=\"11\" fill=\"rgb(255,237,237)\" class=\"agent_1_62\"/><circle cx=\"311\" cy=\"238\" r=\"12\" fill=\"rgb(255,182,182)\" class=\"agent_1_67\"/></svg></div>"
      ],
      "text/plain": [
       "<IPython.core.display.HTML object>"
      ]
     },
     "metadata": {},
     "output_type": "display_data"
    },
    {
     "name": "stdout",
     "output_type": "stream",
     "text": [
      "bob to_mention_pred\n"
     ]
    },
    {
     "data": {
      "text/html": [
       "<div style=\"white-space: nowrap\"><svg viewbox='0 0 430 430' width=\"172\" height=\"172\" id=\"agent_1\"><circle cx=\"215\" cy=\"215\" r=\"205\" fill=\"none\" stroke=\"black\" stroke-width=\"2\" stroke-dasharray=\"3,3\"/><circle cx=\"223\" cy=\"263\" r=\"13\" fill=\"rgb(148,148,148)\"/><circle cx=\"369\" cy=\"277\" r=\"11\" fill=\"rgb(150,150,150)\"/><circle cx=\"229\" cy=\"108\" r=\"12\" fill=\"rgb(136,136,136)\"/><circle cx=\"210\" cy=\"145\" r=\"10\" fill=\"rgb(129,129,129)\"/><circle cx=\"340\" cy=\"160\" r=\"10\" fill=\"rgb(153,153,153)\"/><circle cx=\"116\" cy=\"109\" r=\"11\" fill=\"rgb(151,151,151)\"/><circle cx=\"311\" cy=\"238\" r=\"12\" fill=\"rgb(110,110,110)\"/></svg><svg viewBox='0 0 430 430' id=\"svg\" width=\"172\" height=\"172\"><circle cx=\"215\" cy=\"215\" r=\"205\" fill=\"none\" stroke=\"black\" stroke-width=\"2\" stroke-dasharray=\"3,3\"/> <circle cx=\"223\" cy=\"263\" r=\"13\" fill=\"rgb(255,0,0)\" class=\"agent_1_28\"/><circle cx=\"369\" cy=\"277\" r=\"11\" fill=\"rgb(255,0,0)\" class=\"agent_1_32\"/><circle cx=\"229\" cy=\"108\" r=\"12\" fill=\"rgb(255,0,0)\" class=\"agent_1_39\"/><circle cx=\"210\" cy=\"145\" r=\"10\" fill=\"rgb(255,0,0)\" class=\"agent_1_40\"/><circle cx=\"340\" cy=\"160\" r=\"10\" fill=\"rgb(255,0,0)\" class=\"agent_1_61\"/><circle cx=\"116\" cy=\"109\" r=\"11\" fill=\"rgb(255,0,0)\" class=\"agent_1_62\"/><circle cx=\"311\" cy=\"238\" r=\"12\" fill=\"rgb(255,0,0)\" class=\"agent_1_67\"/></svg><svg viewBox='0 0 430 430' id=\"svg\" width=\"172\" height=\"172\"><circle cx=\"215\" cy=\"215\" r=\"205\" fill=\"none\" stroke=\"black\" stroke-width=\"2\" stroke-dasharray=\"3,3\"/> <circle cx=\"223\" cy=\"263\" r=\"13\" fill=\"rgb(255,255,255)\" class=\"agent_1_28\"/><circle cx=\"369\" cy=\"277\" r=\"11\" fill=\"rgb(255,255,255)\" class=\"agent_1_32\"/><circle cx=\"229\" cy=\"108\" r=\"12\" fill=\"rgb(255,255,255)\" class=\"agent_1_39\"/><circle cx=\"210\" cy=\"145\" r=\"10\" fill=\"rgb(255,255,255)\" class=\"agent_1_40\"/><circle cx=\"340\" cy=\"160\" r=\"10\" fill=\"rgb(255,255,255)\" class=\"agent_1_61\"/><circle cx=\"116\" cy=\"109\" r=\"11\" fill=\"rgb(255,255,255)\" class=\"agent_1_62\"/><circle cx=\"311\" cy=\"238\" r=\"12\" fill=\"rgb(255,255,255)\" class=\"agent_1_67\"/></svg><svg viewBox='0 0 430 430' id=\"svg\" width=\"172\" height=\"172\"><circle cx=\"215\" cy=\"215\" r=\"205\" fill=\"none\" stroke=\"black\" stroke-width=\"2\" stroke-dasharray=\"3,3\"/> <circle cx=\"223\" cy=\"263\" r=\"13\" fill=\"rgb(255,0,0)\" class=\"agent_1_28\"/><circle cx=\"369\" cy=\"277\" r=\"11\" fill=\"rgb(255,255,255)\" class=\"agent_1_32\"/><circle cx=\"229\" cy=\"108\" r=\"12\" fill=\"rgb(255,255,255)\" class=\"agent_1_39\"/><circle cx=\"210\" cy=\"145\" r=\"10\" fill=\"rgb(255,255,255)\" class=\"agent_1_40\"/><circle cx=\"340\" cy=\"160\" r=\"10\" fill=\"rgb(255,255,255)\" class=\"agent_1_61\"/><circle cx=\"116\" cy=\"109\" r=\"11\" fill=\"rgb(255,255,255)\" class=\"agent_1_62\"/><circle cx=\"311\" cy=\"238\" r=\"12\" fill=\"rgb(255,255,255)\" class=\"agent_1_67\"/></svg></div>"
      ],
      "text/plain": [
       "<IPython.core.display.HTML object>"
      ]
     },
     "metadata": {},
     "output_type": "display_data"
    },
    {
     "name": "stdout",
     "output_type": "stream",
     "text": [
      "max prob: 0.5508171916007996\n",
      "entropy: 1.4787302017211914\n",
      "bob sel_prob after pred: tensor([0.5508, 0.0648, 0.0710, 0.0658, 0.0701, 0.0591, 0.1184],\n",
      "       grad_fn=<ViewBackward>)\n"
     ]
    },
    {
     "data": {
      "text/html": [
       "<div style=\"white-space: nowrap\"><svg viewbox='0 0 430 430' width=\"172\" height=\"172\" id=\"agent_1\"><circle cx=\"215\" cy=\"215\" r=\"205\" fill=\"none\" stroke=\"black\" stroke-width=\"2\" stroke-dasharray=\"3,3\"/><circle cx=\"223\" cy=\"263\" r=\"13\" fill=\"rgb(148,148,148)\"/><circle cx=\"369\" cy=\"277\" r=\"11\" fill=\"rgb(150,150,150)\"/><circle cx=\"229\" cy=\"108\" r=\"12\" fill=\"rgb(136,136,136)\"/><circle cx=\"210\" cy=\"145\" r=\"10\" fill=\"rgb(129,129,129)\"/><circle cx=\"340\" cy=\"160\" r=\"10\" fill=\"rgb(153,153,153)\"/><circle cx=\"116\" cy=\"109\" r=\"11\" fill=\"rgb(151,151,151)\"/><circle cx=\"311\" cy=\"238\" r=\"12\" fill=\"rgb(110,110,110)\"/></svg><svg viewBox='0 0 430 430' id=\"svg\" width=\"172\" height=\"172\"><circle cx=\"215\" cy=\"215\" r=\"205\" fill=\"none\" stroke=\"black\" stroke-width=\"2\" stroke-dasharray=\"3,3\"/> <circle cx=\"223\" cy=\"263\" r=\"13\" fill=\"rgb(255,114,114)\" class=\"agent_1_28\"/><circle cx=\"369\" cy=\"277\" r=\"11\" fill=\"rgb(255,238,238)\" class=\"agent_1_32\"/><circle cx=\"229\" cy=\"108\" r=\"12\" fill=\"rgb(255,236,236)\" class=\"agent_1_39\"/><circle cx=\"210\" cy=\"145\" r=\"10\" fill=\"rgb(255,238,238)\" class=\"agent_1_40\"/><circle cx=\"340\" cy=\"160\" r=\"10\" fill=\"rgb(255,237,237)\" class=\"agent_1_61\"/><circle cx=\"116\" cy=\"109\" r=\"11\" fill=\"rgb(255,239,239)\" class=\"agent_1_62\"/><circle cx=\"311\" cy=\"238\" r=\"12\" fill=\"rgb(255,224,224)\" class=\"agent_1_67\"/></svg></div>"
      ],
      "text/plain": [
       "<IPython.core.display.HTML object>"
      ]
     },
     "metadata": {},
     "output_type": "display_data"
    },
    {
     "name": "stdout",
     "output_type": "stream",
     "text": [
      "bob: all of my dots are close together . do you have a large dark grey dot with a smaller lighter grey dot to the right of it ? <eos>\n",
      "bob detected markables:\n",
      "{'start': 3, 'end': 17, 'is_self': True, 'text': 'all of my dots'}\n",
      "{'start': 51, 'end': 72, 'is_self': True, 'text': 'a large dark grey dot'}\n",
      "{'start': 78, 'end': 104, 'is_self': True, 'text': 'a smaller lighter grey dot'}\n",
      "{'start': 121, 'end': 123, 'is_self': True, 'text': 'it'}\n",
      "alice detected markables:\n",
      "{'start': 3, 'end': 17, 'is_self': True, 'text': 'all of my dots'}\n",
      "{'start': 51, 'end': 72, 'is_self': True, 'text': 'a large dark grey dot'}\n",
      "{'start': 78, 'end': 104, 'is_self': True, 'text': 'a smaller lighter grey dot'}\n",
      "{'start': 121, 'end': 123, 'is_self': True, 'text': 'it'}\n",
      "\n",
      "----------------------------------------\n",
      "\n",
      "max prob: 0.4120945334434509\n",
      "entropy: 1.5979759693145752\n",
      "alice sel_prob_now: tensor([0.2215, 0.0625, 0.0579, 0.4121, 0.0640, 0.1560, 0.0259],\n",
      "       grad_fn=<ViewBackward>)\n"
     ]
    },
    {
     "data": {
      "text/html": [
       "<div style=\"white-space: nowrap\"><svg viewbox='0 0 430 430' width=\"172\" height=\"172\" id=\"agent_0\"><circle cx=\"215\" cy=\"215\" r=\"205\" fill=\"none\" stroke=\"black\" stroke-width=\"2\" stroke-dasharray=\"3,3\"/><circle cx=\"211\" cy=\"98\" r=\"8\" fill=\"rgb(185,185,185)\"/><circle cx=\"131\" cy=\"278\" r=\"12\" fill=\"rgb(136,136,136)\"/><circle cx=\"111\" cy=\"315\" r=\"10\" fill=\"rgb(129,129,129)\"/><circle cx=\"226\" cy=\"66\" r=\"12\" fill=\"rgb(84,84,84)\"/><circle cx=\"241\" cy=\"330\" r=\"10\" fill=\"rgb(153,153,153)\"/><circle cx=\"213\" cy=\"407\" r=\"12\" fill=\"rgb(110,110,110)\"/><circle cx=\"337\" cy=\"365\" r=\"8\" fill=\"rgb(59,59,59)\"/></svg><svg viewBox='0 0 430 430' id=\"svg\" width=\"172\" height=\"172\"><circle cx=\"215\" cy=\"215\" r=\"205\" fill=\"none\" stroke=\"black\" stroke-width=\"2\" stroke-dasharray=\"3,3\"/> <circle cx=\"211\" cy=\"98\" r=\"8\" fill=\"rgb(255,198,198)\" class=\"agent_0_24\"/><circle cx=\"131\" cy=\"278\" r=\"12\" fill=\"rgb(255,239,239)\" class=\"agent_0_39\"/><circle cx=\"111\" cy=\"315\" r=\"10\" fill=\"rgb(255,240,240)\" class=\"agent_0_40\"/><circle cx=\"226\" cy=\"66\" r=\"12\" fill=\"rgb(255,149,149)\" class=\"agent_0_53\"/><circle cx=\"241\" cy=\"330\" r=\"10\" fill=\"rgb(255,238,238)\" class=\"agent_0_61\"/><circle cx=\"213\" cy=\"407\" r=\"12\" fill=\"rgb(255,215,215)\" class=\"agent_0_67\"/><circle cx=\"337\" cy=\"365\" r=\"8\" fill=\"rgb(255,248,248)\" class=\"agent_0_68\"/></svg></div>"
      ],
      "text/plain": [
       "<IPython.core.display.HTML object>"
      ]
     },
     "metadata": {},
     "output_type": "display_data"
    },
    {
     "name": "stdout",
     "output_type": "stream",
     "text": [
      "alice: no predicted mentions\n",
      "alice: yes <eos>\n",
      "alice detected markables:\n",
      "bob detected markables:\n",
      "\n",
      "----------------------------------------\n",
      "\n",
      "max prob: 0.46362221240997314\n",
      "entropy: 1.5771160125732422\n",
      "bob sel_prob_now: tensor([0.0819, 0.0579, 0.0690, 0.0642, 0.2055, 0.0578, 0.4636],\n",
      "       grad_fn=<ViewBackward>)\n"
     ]
    },
    {
     "data": {
      "text/html": [
       "<div style=\"white-space: nowrap\"><svg viewbox='0 0 430 430' width=\"172\" height=\"172\" id=\"agent_1\"><circle cx=\"215\" cy=\"215\" r=\"205\" fill=\"none\" stroke=\"black\" stroke-width=\"2\" stroke-dasharray=\"3,3\"/><circle cx=\"223\" cy=\"263\" r=\"13\" fill=\"rgb(148,148,148)\"/><circle cx=\"369\" cy=\"277\" r=\"11\" fill=\"rgb(150,150,150)\"/><circle cx=\"229\" cy=\"108\" r=\"12\" fill=\"rgb(136,136,136)\"/><circle cx=\"210\" cy=\"145\" r=\"10\" fill=\"rgb(129,129,129)\"/><circle cx=\"340\" cy=\"160\" r=\"10\" fill=\"rgb(153,153,153)\"/><circle cx=\"116\" cy=\"109\" r=\"11\" fill=\"rgb(151,151,151)\"/><circle cx=\"311\" cy=\"238\" r=\"12\" fill=\"rgb(110,110,110)\"/></svg><svg viewBox='0 0 430 430' id=\"svg\" width=\"172\" height=\"172\"><circle cx=\"215\" cy=\"215\" r=\"205\" fill=\"none\" stroke=\"black\" stroke-width=\"2\" stroke-dasharray=\"3,3\"/> <circle cx=\"223\" cy=\"263\" r=\"13\" fill=\"rgb(255,234,234)\" class=\"agent_1_28\"/><circle cx=\"369\" cy=\"277\" r=\"11\" fill=\"rgb(255,240,240)\" class=\"agent_1_32\"/><circle cx=\"229\" cy=\"108\" r=\"12\" fill=\"rgb(255,237,237)\" class=\"agent_1_39\"/><circle cx=\"210\" cy=\"145\" r=\"10\" fill=\"rgb(255,238,238)\" class=\"agent_1_40\"/><circle cx=\"340\" cy=\"160\" r=\"10\" fill=\"rgb(255,202,202)\" class=\"agent_1_61\"/><circle cx=\"116\" cy=\"109\" r=\"11\" fill=\"rgb(255,240,240)\" class=\"agent_1_62\"/><circle cx=\"311\" cy=\"238\" r=\"12\" fill=\"rgb(255,136,136)\" class=\"agent_1_67\"/></svg></div>"
      ],
      "text/plain": [
       "<IPython.core.display.HTML object>"
      ]
     },
     "metadata": {},
     "output_type": "display_data"
    },
    {
     "name": "stdout",
     "output_type": "stream",
     "text": [
      "bob to_mention_pred\n"
     ]
    },
    {
     "data": {
      "text/html": [
       "<div style=\"white-space: nowrap\"><svg viewbox='0 0 430 430' width=\"172\" height=\"172\" id=\"agent_1\"><circle cx=\"215\" cy=\"215\" r=\"205\" fill=\"none\" stroke=\"black\" stroke-width=\"2\" stroke-dasharray=\"3,3\"/><circle cx=\"223\" cy=\"263\" r=\"13\" fill=\"rgb(148,148,148)\"/><circle cx=\"369\" cy=\"277\" r=\"11\" fill=\"rgb(150,150,150)\"/><circle cx=\"229\" cy=\"108\" r=\"12\" fill=\"rgb(136,136,136)\"/><circle cx=\"210\" cy=\"145\" r=\"10\" fill=\"rgb(129,129,129)\"/><circle cx=\"340\" cy=\"160\" r=\"10\" fill=\"rgb(153,153,153)\"/><circle cx=\"116\" cy=\"109\" r=\"11\" fill=\"rgb(151,151,151)\"/><circle cx=\"311\" cy=\"238\" r=\"12\" fill=\"rgb(110,110,110)\"/></svg><svg viewBox='0 0 430 430' id=\"svg\" width=\"172\" height=\"172\"><circle cx=\"215\" cy=\"215\" r=\"205\" fill=\"none\" stroke=\"black\" stroke-width=\"2\" stroke-dasharray=\"3,3\"/> <circle cx=\"223\" cy=\"263\" r=\"13\" fill=\"rgb(255,0,0)\" class=\"agent_1_28\"/><circle cx=\"369\" cy=\"277\" r=\"11\" fill=\"rgb(255,0,0)\" class=\"agent_1_32\"/><circle cx=\"229\" cy=\"108\" r=\"12\" fill=\"rgb(255,0,0)\" class=\"agent_1_39\"/><circle cx=\"210\" cy=\"145\" r=\"10\" fill=\"rgb(255,0,0)\" class=\"agent_1_40\"/><circle cx=\"340\" cy=\"160\" r=\"10\" fill=\"rgb(255,0,0)\" class=\"agent_1_61\"/><circle cx=\"116\" cy=\"109\" r=\"11\" fill=\"rgb(255,0,0)\" class=\"agent_1_62\"/><circle cx=\"311\" cy=\"238\" r=\"12\" fill=\"rgb(255,0,0)\" class=\"agent_1_67\"/></svg></div>"
      ],
      "text/plain": [
       "<IPython.core.display.HTML object>"
      ]
     },
     "metadata": {},
     "output_type": "display_data"
    },
    {
     "name": "stdout",
     "output_type": "stream",
     "text": [
      "max prob: 0.27144795656204224\n",
      "entropy: 1.876394510269165\n",
      "bob sel_prob after pred: tensor([0.1476, 0.1146, 0.1276, 0.1266, 0.1360, 0.0761, 0.2714],\n",
      "       grad_fn=<ViewBackward>)\n"
     ]
    },
    {
     "data": {
      "text/html": [
       "<div style=\"white-space: nowrap\"><svg viewbox='0 0 430 430' width=\"172\" height=\"172\" id=\"agent_1\"><circle cx=\"215\" cy=\"215\" r=\"205\" fill=\"none\" stroke=\"black\" stroke-width=\"2\" stroke-dasharray=\"3,3\"/><circle cx=\"223\" cy=\"263\" r=\"13\" fill=\"rgb(148,148,148)\"/><circle cx=\"369\" cy=\"277\" r=\"11\" fill=\"rgb(150,150,150)\"/><circle cx=\"229\" cy=\"108\" r=\"12\" fill=\"rgb(136,136,136)\"/><circle cx=\"210\" cy=\"145\" r=\"10\" fill=\"rgb(129,129,129)\"/><circle cx=\"340\" cy=\"160\" r=\"10\" fill=\"rgb(153,153,153)\"/><circle cx=\"116\" cy=\"109\" r=\"11\" fill=\"rgb(151,151,151)\"/><circle cx=\"311\" cy=\"238\" r=\"12\" fill=\"rgb(110,110,110)\"/></svg><svg viewBox='0 0 430 430' id=\"svg\" width=\"172\" height=\"172\"><circle cx=\"215\" cy=\"215\" r=\"205\" fill=\"none\" stroke=\"black\" stroke-width=\"2\" stroke-dasharray=\"3,3\"/> <circle cx=\"223\" cy=\"263\" r=\"13\" fill=\"rgb(255,217,217)\" class=\"agent_1_28\"/><circle cx=\"369\" cy=\"277\" r=\"11\" fill=\"rgb(255,225,225)\" class=\"agent_1_32\"/><circle cx=\"229\" cy=\"108\" r=\"12\" fill=\"rgb(255,222,222)\" class=\"agent_1_39\"/><circle cx=\"210\" cy=\"145\" r=\"10\" fill=\"rgb(255,222,222)\" class=\"agent_1_40\"/><circle cx=\"340\" cy=\"160\" r=\"10\" fill=\"rgb(255,220,220)\" class=\"agent_1_61\"/><circle cx=\"116\" cy=\"109\" r=\"11\" fill=\"rgb(255,235,235)\" class=\"agent_1_62\"/><circle cx=\"311\" cy=\"238\" r=\"12\" fill=\"rgb(255,185,185)\" class=\"agent_1_67\"/></svg></div>"
      ],
      "text/plain": [
       "<IPython.core.display.HTML object>"
      ]
     },
     "metadata": {},
     "output_type": "display_data"
    },
    {
     "name": "stdout",
     "output_type": "stream",
     "text": [
      "bob: all of my dots are pretty close together <eos>\n",
      "bob detected markables:\n",
      "{'start': 3, 'end': 17, 'is_self': True, 'text': 'all of my dots'}\n",
      "alice detected markables:\n",
      "{'start': 3, 'end': 17, 'is_self': True, 'text': 'all of my dots'}\n",
      "\n",
      "----------------------------------------\n",
      "\n",
      "max prob: 0.3550872504711151\n",
      "entropy: 1.4308428764343262\n",
      "alice sel_prob_now: tensor([0.0054, 0.2438, 0.1790, 0.0117, 0.2041, 0.3551, 0.0009],\n",
      "       grad_fn=<ViewBackward>)\n"
     ]
    },
    {
     "data": {
      "text/html": [
       "<div style=\"white-space: nowrap\"><svg viewbox='0 0 430 430' width=\"172\" height=\"172\" id=\"agent_0\"><circle cx=\"215\" cy=\"215\" r=\"205\" fill=\"none\" stroke=\"black\" stroke-width=\"2\" stroke-dasharray=\"3,3\"/><circle cx=\"211\" cy=\"98\" r=\"8\" fill=\"rgb(185,185,185)\"/><circle cx=\"131\" cy=\"278\" r=\"12\" fill=\"rgb(136,136,136)\"/><circle cx=\"111\" cy=\"315\" r=\"10\" fill=\"rgb(129,129,129)\"/><circle cx=\"226\" cy=\"66\" r=\"12\" fill=\"rgb(84,84,84)\"/><circle cx=\"241\" cy=\"330\" r=\"10\" fill=\"rgb(153,153,153)\"/><circle cx=\"213\" cy=\"407\" r=\"12\" fill=\"rgb(110,110,110)\"/><circle cx=\"337\" cy=\"365\" r=\"8\" fill=\"rgb(59,59,59)\"/></svg><svg viewBox='0 0 430 430' id=\"svg\" width=\"172\" height=\"172\"><circle cx=\"215\" cy=\"215\" r=\"205\" fill=\"none\" stroke=\"black\" stroke-width=\"2\" stroke-dasharray=\"3,3\"/> <circle cx=\"211\" cy=\"98\" r=\"8\" fill=\"rgb(255,253,253)\" class=\"agent_0_24\"/><circle cx=\"131\" cy=\"278\" r=\"12\" fill=\"rgb(255,192,192)\" class=\"agent_0_39\"/><circle cx=\"111\" cy=\"315\" r=\"10\" fill=\"rgb(255,209,209)\" class=\"agent_0_40\"/><circle cx=\"226\" cy=\"66\" r=\"12\" fill=\"rgb(255,252,252)\" class=\"agent_0_53\"/><circle cx=\"241\" cy=\"330\" r=\"10\" fill=\"rgb(255,202,202)\" class=\"agent_0_61\"/><circle cx=\"213\" cy=\"407\" r=\"12\" fill=\"rgb(255,164,164)\" class=\"agent_0_67\"/><circle cx=\"337\" cy=\"365\" r=\"8\" fill=\"rgb(255,254,254)\" class=\"agent_0_68\"/></svg></div>"
      ],
      "text/plain": [
       "<IPython.core.display.HTML object>"
      ]
     },
     "metadata": {},
     "output_type": "display_data"
    },
    {
     "name": "stdout",
     "output_type": "stream",
     "text": [
      "alice: no predicted mentions\n",
      "alice: yes <eos>\n",
      "alice detected markables:\n",
      "bob detected markables:\n",
      "\n",
      "----------------------------------------\n",
      "\n",
      "max prob: 0.27144795656204224\n",
      "entropy: 1.876394510269165\n",
      "bob sel_prob_now: tensor([0.1476, 0.1146, 0.1276, 0.1266, 0.1360, 0.0761, 0.2714],\n",
      "       grad_fn=<ViewBackward>)\n"
     ]
    },
    {
     "data": {
      "text/html": [
       "<div style=\"white-space: nowrap\"><svg viewbox='0 0 430 430' width=\"172\" height=\"172\" id=\"agent_1\"><circle cx=\"215\" cy=\"215\" r=\"205\" fill=\"none\" stroke=\"black\" stroke-width=\"2\" stroke-dasharray=\"3,3\"/><circle cx=\"223\" cy=\"263\" r=\"13\" fill=\"rgb(148,148,148)\"/><circle cx=\"369\" cy=\"277\" r=\"11\" fill=\"rgb(150,150,150)\"/><circle cx=\"229\" cy=\"108\" r=\"12\" fill=\"rgb(136,136,136)\"/><circle cx=\"210\" cy=\"145\" r=\"10\" fill=\"rgb(129,129,129)\"/><circle cx=\"340\" cy=\"160\" r=\"10\" fill=\"rgb(153,153,153)\"/><circle cx=\"116\" cy=\"109\" r=\"11\" fill=\"rgb(151,151,151)\"/><circle cx=\"311\" cy=\"238\" r=\"12\" fill=\"rgb(110,110,110)\"/></svg><svg viewBox='0 0 430 430' id=\"svg\" width=\"172\" height=\"172\"><circle cx=\"215\" cy=\"215\" r=\"205\" fill=\"none\" stroke=\"black\" stroke-width=\"2\" stroke-dasharray=\"3,3\"/> <circle cx=\"223\" cy=\"263\" r=\"13\" fill=\"rgb(255,217,217)\" class=\"agent_1_28\"/><circle cx=\"369\" cy=\"277\" r=\"11\" fill=\"rgb(255,225,225)\" class=\"agent_1_32\"/><circle cx=\"229\" cy=\"108\" r=\"12\" fill=\"rgb(255,222,222)\" class=\"agent_1_39\"/><circle cx=\"210\" cy=\"145\" r=\"10\" fill=\"rgb(255,222,222)\" class=\"agent_1_40\"/><circle cx=\"340\" cy=\"160\" r=\"10\" fill=\"rgb(255,220,220)\" class=\"agent_1_61\"/><circle cx=\"116\" cy=\"109\" r=\"11\" fill=\"rgb(255,235,235)\" class=\"agent_1_62\"/><circle cx=\"311\" cy=\"238\" r=\"12\" fill=\"rgb(255,185,185)\" class=\"agent_1_67\"/></svg></div>"
      ],
      "text/plain": [
       "<IPython.core.display.HTML object>"
      ]
     },
     "metadata": {},
     "output_type": "display_data"
    },
    {
     "name": "stdout",
     "output_type": "stream",
     "text": [
      "bob to_mention_pred\n"
     ]
    },
    {
     "data": {
      "text/html": [
       "<div style=\"white-space: nowrap\"><svg viewbox='0 0 430 430' width=\"172\" height=\"172\" id=\"agent_1\"><circle cx=\"215\" cy=\"215\" r=\"205\" fill=\"none\" stroke=\"black\" stroke-width=\"2\" stroke-dasharray=\"3,3\"/><circle cx=\"223\" cy=\"263\" r=\"13\" fill=\"rgb(148,148,148)\"/><circle cx=\"369\" cy=\"277\" r=\"11\" fill=\"rgb(150,150,150)\"/><circle cx=\"229\" cy=\"108\" r=\"12\" fill=\"rgb(136,136,136)\"/><circle cx=\"210\" cy=\"145\" r=\"10\" fill=\"rgb(129,129,129)\"/><circle cx=\"340\" cy=\"160\" r=\"10\" fill=\"rgb(153,153,153)\"/><circle cx=\"116\" cy=\"109\" r=\"11\" fill=\"rgb(151,151,151)\"/><circle cx=\"311\" cy=\"238\" r=\"12\" fill=\"rgb(110,110,110)\"/></svg><svg viewBox='0 0 430 430' id=\"svg\" width=\"172\" height=\"172\"><circle cx=\"215\" cy=\"215\" r=\"205\" fill=\"none\" stroke=\"black\" stroke-width=\"2\" stroke-dasharray=\"3,3\"/> <circle cx=\"223\" cy=\"263\" r=\"13\" fill=\"rgb(255,255,255)\" class=\"agent_1_28\"/><circle cx=\"369\" cy=\"277\" r=\"11\" fill=\"rgb(255,255,255)\" class=\"agent_1_32\"/><circle cx=\"229\" cy=\"108\" r=\"12\" fill=\"rgb(255,255,255)\" class=\"agent_1_39\"/><circle cx=\"210\" cy=\"145\" r=\"10\" fill=\"rgb(255,255,255)\" class=\"agent_1_40\"/><circle cx=\"340\" cy=\"160\" r=\"10\" fill=\"rgb(255,255,255)\" class=\"agent_1_61\"/><circle cx=\"116\" cy=\"109\" r=\"11\" fill=\"rgb(255,255,255)\" class=\"agent_1_62\"/><circle cx=\"311\" cy=\"238\" r=\"12\" fill=\"rgb(255,0,0)\" class=\"agent_1_67\"/></svg></div>"
      ],
      "text/plain": [
       "<IPython.core.display.HTML object>"
      ]
     },
     "metadata": {},
     "output_type": "display_data"
    },
    {
     "name": "stdout",
     "output_type": "stream",
     "text": [
      "max prob: 0.909552812576294\n",
      "entropy: 0.4649409055709839\n",
      "bob sel_prob after pred: tensor([0.0173, 0.0160, 0.0166, 0.0137, 0.0150, 0.0119, 0.9096],\n",
      "       grad_fn=<ViewBackward>)\n"
     ]
    },
    {
     "data": {
      "text/html": [
       "<div style=\"white-space: nowrap\"><svg viewbox='0 0 430 430' width=\"172\" height=\"172\" id=\"agent_1\"><circle cx=\"215\" cy=\"215\" r=\"205\" fill=\"none\" stroke=\"black\" stroke-width=\"2\" stroke-dasharray=\"3,3\"/><circle cx=\"223\" cy=\"263\" r=\"13\" fill=\"rgb(148,148,148)\"/><circle cx=\"369\" cy=\"277\" r=\"11\" fill=\"rgb(150,150,150)\"/><circle cx=\"229\" cy=\"108\" r=\"12\" fill=\"rgb(136,136,136)\"/><circle cx=\"210\" cy=\"145\" r=\"10\" fill=\"rgb(129,129,129)\"/><circle cx=\"340\" cy=\"160\" r=\"10\" fill=\"rgb(153,153,153)\"/><circle cx=\"116\" cy=\"109\" r=\"11\" fill=\"rgb(151,151,151)\"/><circle cx=\"311\" cy=\"238\" r=\"12\" fill=\"rgb(110,110,110)\"/></svg><svg viewBox='0 0 430 430' id=\"svg\" width=\"172\" height=\"172\"><circle cx=\"215\" cy=\"215\" r=\"205\" fill=\"none\" stroke=\"black\" stroke-width=\"2\" stroke-dasharray=\"3,3\"/> <circle cx=\"223\" cy=\"263\" r=\"13\" fill=\"rgb(255,250,250)\" class=\"agent_1_28\"/><circle cx=\"369\" cy=\"277\" r=\"11\" fill=\"rgb(255,250,250)\" class=\"agent_1_32\"/><circle cx=\"229\" cy=\"108\" r=\"12\" fill=\"rgb(255,250,250)\" class=\"agent_1_39\"/><circle cx=\"210\" cy=\"145\" r=\"10\" fill=\"rgb(255,251,251)\" class=\"agent_1_40\"/><circle cx=\"340\" cy=\"160\" r=\"10\" fill=\"rgb(255,251,251)\" class=\"agent_1_61\"/><circle cx=\"116\" cy=\"109\" r=\"11\" fill=\"rgb(255,251,251)\" class=\"agent_1_62\"/><circle cx=\"311\" cy=\"238\" r=\"12\" fill=\"rgb(255,23,23)\" class=\"agent_1_67\"/></svg></div>"
      ],
      "text/plain": [
       "<IPython.core.display.HTML object>"
      ]
     },
     "metadata": {},
     "output_type": "display_data"
    },
    {
     "name": "stdout",
     "output_type": "stream",
     "text": [
      "bob: let 's pick that one <selection>\n",
      "bob detected markables:\n",
      "{'start': 15, 'end': 23, 'is_self': True, 'text': 'that one'}\n",
      "alice detected markables:\n",
      "{'start': 15, 'end': 23, 'is_self': True, 'text': 'that one'}\n",
      "\n",
      "----------------------------------------\n",
      "\n",
      "bob sel_pred\n"
     ]
    },
    {
     "data": {
      "text/html": [
       "<div style=\"white-space: nowrap\"><svg viewbox='0 0 430 430' width=\"172\" height=\"172\" id=\"agent_1\"><circle cx=\"215\" cy=\"215\" r=\"205\" fill=\"none\" stroke=\"black\" stroke-width=\"2\" stroke-dasharray=\"3,3\"/><circle cx=\"223\" cy=\"263\" r=\"13\" fill=\"rgb(148,148,148)\"/><circle cx=\"369\" cy=\"277\" r=\"11\" fill=\"rgb(150,150,150)\"/><circle cx=\"229\" cy=\"108\" r=\"12\" fill=\"rgb(136,136,136)\"/><circle cx=\"210\" cy=\"145\" r=\"10\" fill=\"rgb(129,129,129)\"/><circle cx=\"340\" cy=\"160\" r=\"10\" fill=\"rgb(153,153,153)\"/><circle cx=\"116\" cy=\"109\" r=\"11\" fill=\"rgb(151,151,151)\"/><circle cx=\"311\" cy=\"238\" r=\"12\" fill=\"rgb(110,110,110)\"/></svg><svg viewBox='0 0 430 430' id=\"svg\" width=\"172\" height=\"172\"><circle cx=\"215\" cy=\"215\" r=\"205\" fill=\"none\" stroke=\"black\" stroke-width=\"2\" stroke-dasharray=\"3,3\"/> <circle cx=\"223\" cy=\"263\" r=\"13\" fill=\"rgb(255,127,127)\" class=\"agent_1_28\"/><circle cx=\"369\" cy=\"277\" r=\"11\" fill=\"rgb(255,234,234)\" class=\"agent_1_32\"/><circle cx=\"229\" cy=\"108\" r=\"12\" fill=\"rgb(255,233,233)\" class=\"agent_1_39\"/><circle cx=\"210\" cy=\"145\" r=\"10\" fill=\"rgb(255,237,237)\" class=\"agent_1_40\"/><circle cx=\"340\" cy=\"160\" r=\"10\" fill=\"rgb(255,235,235)\" class=\"agent_1_61\"/><circle cx=\"116\" cy=\"109\" r=\"11\" fill=\"rgb(255,239,239)\" class=\"agent_1_62\"/><circle cx=\"311\" cy=\"238\" r=\"12\" fill=\"rgb(255,219,219)\" class=\"agent_1_67\"/></svg></div>"
      ],
      "text/plain": [
       "<IPython.core.display.HTML object>"
      ]
     },
     "metadata": {},
     "output_type": "display_data"
    },
    {
     "name": "stdout",
     "output_type": "stream",
     "text": [
      "alice sel_pred\n"
     ]
    },
    {
     "data": {
      "text/html": [
       "<div style=\"white-space: nowrap\"><svg viewbox='0 0 430 430' width=\"172\" height=\"172\" id=\"agent_0\"><circle cx=\"215\" cy=\"215\" r=\"205\" fill=\"none\" stroke=\"black\" stroke-width=\"2\" stroke-dasharray=\"3,3\"/><circle cx=\"211\" cy=\"98\" r=\"8\" fill=\"rgb(185,185,185)\"/><circle cx=\"131\" cy=\"278\" r=\"12\" fill=\"rgb(136,136,136)\"/><circle cx=\"111\" cy=\"315\" r=\"10\" fill=\"rgb(129,129,129)\"/><circle cx=\"226\" cy=\"66\" r=\"12\" fill=\"rgb(84,84,84)\"/><circle cx=\"241\" cy=\"330\" r=\"10\" fill=\"rgb(153,153,153)\"/><circle cx=\"213\" cy=\"407\" r=\"12\" fill=\"rgb(110,110,110)\"/><circle cx=\"337\" cy=\"365\" r=\"8\" fill=\"rgb(59,59,59)\"/></svg><svg viewBox='0 0 430 430' id=\"svg\" width=\"172\" height=\"172\"><circle cx=\"215\" cy=\"215\" r=\"205\" fill=\"none\" stroke=\"black\" stroke-width=\"2\" stroke-dasharray=\"3,3\"/> <circle cx=\"211\" cy=\"98\" r=\"8\" fill=\"rgb(255,250,250)\" class=\"agent_0_24\"/><circle cx=\"131\" cy=\"278\" r=\"12\" fill=\"rgb(255,119,119)\" class=\"agent_0_39\"/><circle cx=\"111\" cy=\"315\" r=\"10\" fill=\"rgb(255,227,227)\" class=\"agent_0_40\"/><circle cx=\"226\" cy=\"66\" r=\"12\" fill=\"rgb(255,241,241)\" class=\"agent_0_53\"/><circle cx=\"241\" cy=\"330\" r=\"10\" fill=\"rgb(255,223,223)\" class=\"agent_0_61\"/><circle cx=\"213\" cy=\"407\" r=\"12\" fill=\"rgb(255,217,217)\" class=\"agent_0_67\"/><circle cx=\"337\" cy=\"365\" r=\"8\" fill=\"rgb(255,250,250)\" class=\"agent_0_68\"/></svg></div>"
      ],
      "text/plain": [
       "<IPython.core.display.HTML object>"
      ]
     },
     "metadata": {},
     "output_type": "display_data"
    },
    {
     "name": "stdout",
     "output_type": "stream",
     "text": [
      "disagree\n"
     ]
    }
   ],
   "source": [
    "selfplay_contexts_and_mentions(selfplay_scenarios_list[0], beam_size=20)"
   ]
  },
  {
   "cell_type": "code",
   "execution_count": 57,
   "metadata": {
    "scrolled": true
   },
   "outputs": [
    {
     "name": "stdout",
     "output_type": "stream",
     "text": [
      "overwriting key cuda with value True with value False\n",
      "overwriting key temperature with value 0.1 with value 0.25\n",
      "found it\n",
      "max prob: 0.3707628846168518\n",
      "entropy: 1.7103047370910645\n",
      "alice sel_prob_now: tensor([0.1154, 0.0757, 0.0521, 0.2185, 0.0659, 0.1016, 0.3708],\n",
      "       grad_fn=<ViewBackward>)\n"
     ]
    },
    {
     "data": {
      "text/html": [
       "<div style=\"white-space: nowrap\"><svg viewbox='0 0 430 430' width=\"172\" height=\"172\" id=\"agent_0\"><circle cx=\"215\" cy=\"215\" r=\"205\" fill=\"none\" stroke=\"black\" stroke-width=\"2\" stroke-dasharray=\"3,3\"/><circle cx=\"211\" cy=\"98\" r=\"8\" fill=\"rgb(185,185,185)\"/><circle cx=\"131\" cy=\"278\" r=\"12\" fill=\"rgb(136,136,136)\"/><circle cx=\"111\" cy=\"315\" r=\"10\" fill=\"rgb(129,129,129)\"/><circle cx=\"226\" cy=\"66\" r=\"12\" fill=\"rgb(84,84,84)\"/><circle cx=\"241\" cy=\"330\" r=\"10\" fill=\"rgb(153,153,153)\"/><circle cx=\"213\" cy=\"407\" r=\"12\" fill=\"rgb(110,110,110)\"/><circle cx=\"337\" cy=\"365\" r=\"8\" fill=\"rgb(59,59,59)\"/></svg><svg viewBox='0 0 430 430' id=\"svg\" width=\"172\" height=\"172\"><circle cx=\"215\" cy=\"215\" r=\"205\" fill=\"none\" stroke=\"black\" stroke-width=\"2\" stroke-dasharray=\"3,3\"/> <circle cx=\"211\" cy=\"98\" r=\"8\" fill=\"rgb(255,225,225)\" class=\"agent_0_24\"/><circle cx=\"131\" cy=\"278\" r=\"12\" fill=\"rgb(255,235,235)\" class=\"agent_0_39\"/><circle cx=\"111\" cy=\"315\" r=\"10\" fill=\"rgb(255,241,241)\" class=\"agent_0_40\"/><circle cx=\"226\" cy=\"66\" r=\"12\" fill=\"rgb(255,199,199)\" class=\"agent_0_53\"/><circle cx=\"241\" cy=\"330\" r=\"10\" fill=\"rgb(255,238,238)\" class=\"agent_0_61\"/><circle cx=\"213\" cy=\"407\" r=\"12\" fill=\"rgb(255,229,229)\" class=\"agent_0_67\"/><circle cx=\"337\" cy=\"365\" r=\"8\" fill=\"rgb(255,160,160)\" class=\"agent_0_68\"/></svg></div>"
      ],
      "text/plain": [
       "<IPython.core.display.HTML object>"
      ]
     },
     "metadata": {},
     "output_type": "display_data"
    },
    {
     "name": "stdout",
     "output_type": "stream",
     "text": [
      "alice: no predicted mentions\n",
      "alice: hello ! where 's your dot ? <eos>\n",
      "alice detected markables:\n",
      "bob detected markables:\n",
      "\n",
      "----------------------------------------\n",
      "\n",
      "max prob: 0.2859329283237457\n",
      "entropy: 1.8601078987121582\n",
      "bob sel_prob_now: tensor([0.1509, 0.1189, 0.1418, 0.1177, 0.1145, 0.0703, 0.2859],\n",
      "       grad_fn=<ViewBackward>)\n"
     ]
    },
    {
     "data": {
      "text/html": [
       "<div style=\"white-space: nowrap\"><svg viewbox='0 0 430 430' width=\"172\" height=\"172\" id=\"agent_1\"><circle cx=\"215\" cy=\"215\" r=\"205\" fill=\"none\" stroke=\"black\" stroke-width=\"2\" stroke-dasharray=\"3,3\"/><circle cx=\"223\" cy=\"263\" r=\"13\" fill=\"rgb(148,148,148)\"/><circle cx=\"369\" cy=\"277\" r=\"11\" fill=\"rgb(150,150,150)\"/><circle cx=\"229\" cy=\"108\" r=\"12\" fill=\"rgb(136,136,136)\"/><circle cx=\"210\" cy=\"145\" r=\"10\" fill=\"rgb(129,129,129)\"/><circle cx=\"340\" cy=\"160\" r=\"10\" fill=\"rgb(153,153,153)\"/><circle cx=\"116\" cy=\"109\" r=\"11\" fill=\"rgb(151,151,151)\"/><circle cx=\"311\" cy=\"238\" r=\"12\" fill=\"rgb(110,110,110)\"/></svg><svg viewBox='0 0 430 430' id=\"svg\" width=\"172\" height=\"172\"><circle cx=\"215\" cy=\"215\" r=\"205\" fill=\"none\" stroke=\"black\" stroke-width=\"2\" stroke-dasharray=\"3,3\"/> <circle cx=\"223\" cy=\"263\" r=\"13\" fill=\"rgb(255,216,216)\" class=\"agent_1_28\"/><circle cx=\"369\" cy=\"277\" r=\"11\" fill=\"rgb(255,224,224)\" class=\"agent_1_32\"/><circle cx=\"229\" cy=\"108\" r=\"12\" fill=\"rgb(255,218,218)\" class=\"agent_1_39\"/><circle cx=\"210\" cy=\"145\" r=\"10\" fill=\"rgb(255,224,224)\" class=\"agent_1_40\"/><circle cx=\"340\" cy=\"160\" r=\"10\" fill=\"rgb(255,225,225)\" class=\"agent_1_61\"/><circle cx=\"116\" cy=\"109\" r=\"11\" fill=\"rgb(255,237,237)\" class=\"agent_1_62\"/><circle cx=\"311\" cy=\"238\" r=\"12\" fill=\"rgb(255,182,182)\" class=\"agent_1_67\"/></svg></div>"
      ],
      "text/plain": [
       "<IPython.core.display.HTML object>"
      ]
     },
     "metadata": {},
     "output_type": "display_data"
    },
    {
     "name": "stdout",
     "output_type": "stream",
     "text": [
      "bob to_mention_pred\n"
     ]
    },
    {
     "data": {
      "text/html": [
       "<div style=\"white-space: nowrap\"><svg viewbox='0 0 430 430' width=\"172\" height=\"172\" id=\"agent_1\"><circle cx=\"215\" cy=\"215\" r=\"205\" fill=\"none\" stroke=\"black\" stroke-width=\"2\" stroke-dasharray=\"3,3\"/><circle cx=\"223\" cy=\"263\" r=\"13\" fill=\"rgb(148,148,148)\"/><circle cx=\"369\" cy=\"277\" r=\"11\" fill=\"rgb(150,150,150)\"/><circle cx=\"229\" cy=\"108\" r=\"12\" fill=\"rgb(136,136,136)\"/><circle cx=\"210\" cy=\"145\" r=\"10\" fill=\"rgb(129,129,129)\"/><circle cx=\"340\" cy=\"160\" r=\"10\" fill=\"rgb(153,153,153)\"/><circle cx=\"116\" cy=\"109\" r=\"11\" fill=\"rgb(151,151,151)\"/><circle cx=\"311\" cy=\"238\" r=\"12\" fill=\"rgb(110,110,110)\"/></svg><svg viewBox='0 0 430 430' id=\"svg\" width=\"172\" height=\"172\"><circle cx=\"215\" cy=\"215\" r=\"205\" fill=\"none\" stroke=\"black\" stroke-width=\"2\" stroke-dasharray=\"3,3\"/> <circle cx=\"223\" cy=\"263\" r=\"13\" fill=\"rgb(255,0,0)\" class=\"agent_1_28\"/><circle cx=\"369\" cy=\"277\" r=\"11\" fill=\"rgb(255,0,0)\" class=\"agent_1_32\"/><circle cx=\"229\" cy=\"108\" r=\"12\" fill=\"rgb(255,0,0)\" class=\"agent_1_39\"/><circle cx=\"210\" cy=\"145\" r=\"10\" fill=\"rgb(255,0,0)\" class=\"agent_1_40\"/><circle cx=\"340\" cy=\"160\" r=\"10\" fill=\"rgb(255,0,0)\" class=\"agent_1_61\"/><circle cx=\"116\" cy=\"109\" r=\"11\" fill=\"rgb(255,0,0)\" class=\"agent_1_62\"/><circle cx=\"311\" cy=\"238\" r=\"12\" fill=\"rgb(255,0,0)\" class=\"agent_1_67\"/></svg><svg viewBox='0 0 430 430' id=\"svg\" width=\"172\" height=\"172\"><circle cx=\"215\" cy=\"215\" r=\"205\" fill=\"none\" stroke=\"black\" stroke-width=\"2\" stroke-dasharray=\"3,3\"/> <circle cx=\"223\" cy=\"263\" r=\"13\" fill=\"rgb(255,255,255)\" class=\"agent_1_28\"/><circle cx=\"369\" cy=\"277\" r=\"11\" fill=\"rgb(255,255,255)\" class=\"agent_1_32\"/><circle cx=\"229\" cy=\"108\" r=\"12\" fill=\"rgb(255,255,255)\" class=\"agent_1_39\"/><circle cx=\"210\" cy=\"145\" r=\"10\" fill=\"rgb(255,255,255)\" class=\"agent_1_40\"/><circle cx=\"340\" cy=\"160\" r=\"10\" fill=\"rgb(255,255,255)\" class=\"agent_1_61\"/><circle cx=\"116\" cy=\"109\" r=\"11\" fill=\"rgb(255,255,255)\" class=\"agent_1_62\"/><circle cx=\"311\" cy=\"238\" r=\"12\" fill=\"rgb(255,0,0)\" class=\"agent_1_67\"/></svg><svg viewBox='0 0 430 430' id=\"svg\" width=\"172\" height=\"172\"><circle cx=\"215\" cy=\"215\" r=\"205\" fill=\"none\" stroke=\"black\" stroke-width=\"2\" stroke-dasharray=\"3,3\"/> <circle cx=\"223\" cy=\"263\" r=\"13\" fill=\"rgb(255,255,255)\" class=\"agent_1_28\"/><circle cx=\"369\" cy=\"277\" r=\"11\" fill=\"rgb(255,255,255)\" class=\"agent_1_32\"/><circle cx=\"229\" cy=\"108\" r=\"12\" fill=\"rgb(255,255,255)\" class=\"agent_1_39\"/><circle cx=\"210\" cy=\"145\" r=\"10\" fill=\"rgb(255,255,255)\" class=\"agent_1_40\"/><circle cx=\"340\" cy=\"160\" r=\"10\" fill=\"rgb(255,255,255)\" class=\"agent_1_61\"/><circle cx=\"116\" cy=\"109\" r=\"11\" fill=\"rgb(255,255,255)\" class=\"agent_1_62\"/><circle cx=\"311\" cy=\"238\" r=\"12\" fill=\"rgb(255,0,0)\" class=\"agent_1_67\"/></svg></div>"
      ],
      "text/plain": [
       "<IPython.core.display.HTML object>"
      ]
     },
     "metadata": {},
     "output_type": "display_data"
    },
    {
     "name": "stdout",
     "output_type": "stream",
     "text": [
      "max prob: 0.7845629453659058\n",
      "entropy: 0.9058206081390381\n",
      "bob sel_prob after pred: tensor([0.0434, 0.0337, 0.0369, 0.0342, 0.0365, 0.0307, 0.7846],\n",
      "       grad_fn=<ViewBackward>)\n"
     ]
    },
    {
     "data": {
      "text/html": [
       "<div style=\"white-space: nowrap\"><svg viewbox='0 0 430 430' width=\"172\" height=\"172\" id=\"agent_1\"><circle cx=\"215\" cy=\"215\" r=\"205\" fill=\"none\" stroke=\"black\" stroke-width=\"2\" stroke-dasharray=\"3,3\"/><circle cx=\"223\" cy=\"263\" r=\"13\" fill=\"rgb(148,148,148)\"/><circle cx=\"369\" cy=\"277\" r=\"11\" fill=\"rgb(150,150,150)\"/><circle cx=\"229\" cy=\"108\" r=\"12\" fill=\"rgb(136,136,136)\"/><circle cx=\"210\" cy=\"145\" r=\"10\" fill=\"rgb(129,129,129)\"/><circle cx=\"340\" cy=\"160\" r=\"10\" fill=\"rgb(153,153,153)\"/><circle cx=\"116\" cy=\"109\" r=\"11\" fill=\"rgb(151,151,151)\"/><circle cx=\"311\" cy=\"238\" r=\"12\" fill=\"rgb(110,110,110)\"/></svg><svg viewBox='0 0 430 430' id=\"svg\" width=\"172\" height=\"172\"><circle cx=\"215\" cy=\"215\" r=\"205\" fill=\"none\" stroke=\"black\" stroke-width=\"2\" stroke-dasharray=\"3,3\"/> <circle cx=\"223\" cy=\"263\" r=\"13\" fill=\"rgb(255,243,243)\" class=\"agent_1_28\"/><circle cx=\"369\" cy=\"277\" r=\"11\" fill=\"rgb(255,246,246)\" class=\"agent_1_32\"/><circle cx=\"229\" cy=\"108\" r=\"12\" fill=\"rgb(255,245,245)\" class=\"agent_1_39\"/><circle cx=\"210\" cy=\"145\" r=\"10\" fill=\"rgb(255,246,246)\" class=\"agent_1_40\"/><circle cx=\"340\" cy=\"160\" r=\"10\" fill=\"rgb(255,245,245)\" class=\"agent_1_61\"/><circle cx=\"116\" cy=\"109\" r=\"11\" fill=\"rgb(255,247,247)\" class=\"agent_1_62\"/><circle cx=\"311\" cy=\"238\" r=\"12\" fill=\"rgb(255,54,54)\" class=\"agent_1_67\"/></svg></div>"
      ],
      "text/plain": [
       "<IPython.core.display.HTML object>"
      ]
     },
     "metadata": {},
     "output_type": "display_data"
    },
    {
     "name": "stdout",
     "output_type": "stream",
     "text": [
      "bob: all of my dots are close together . do you have a large dark grey dot with a smaller lighter grey dot to the right of it ? <eos>\n",
      "bob detected markables:\n",
      "{'start': 3, 'end': 17, 'is_self': True, 'text': 'all of my dots'}\n",
      "{'start': 51, 'end': 72, 'is_self': True, 'text': 'a large dark grey dot'}\n",
      "{'start': 78, 'end': 104, 'is_self': True, 'text': 'a smaller lighter grey dot'}\n",
      "{'start': 121, 'end': 123, 'is_self': True, 'text': 'it'}\n",
      "alice detected markables:\n",
      "{'start': 3, 'end': 17, 'is_self': True, 'text': 'all of my dots'}\n",
      "{'start': 51, 'end': 72, 'is_self': True, 'text': 'a large dark grey dot'}\n",
      "{'start': 78, 'end': 104, 'is_self': True, 'text': 'a smaller lighter grey dot'}\n",
      "{'start': 121, 'end': 123, 'is_self': True, 'text': 'it'}\n",
      "\n",
      "----------------------------------------\n",
      "\n",
      "max prob: 0.4120945334434509\n",
      "entropy: 1.5979759693145752\n",
      "alice sel_prob_now: tensor([0.2215, 0.0625, 0.0579, 0.4121, 0.0640, 0.1560, 0.0259],\n",
      "       grad_fn=<ViewBackward>)\n"
     ]
    },
    {
     "data": {
      "text/html": [
       "<div style=\"white-space: nowrap\"><svg viewbox='0 0 430 430' width=\"172\" height=\"172\" id=\"agent_0\"><circle cx=\"215\" cy=\"215\" r=\"205\" fill=\"none\" stroke=\"black\" stroke-width=\"2\" stroke-dasharray=\"3,3\"/><circle cx=\"211\" cy=\"98\" r=\"8\" fill=\"rgb(185,185,185)\"/><circle cx=\"131\" cy=\"278\" r=\"12\" fill=\"rgb(136,136,136)\"/><circle cx=\"111\" cy=\"315\" r=\"10\" fill=\"rgb(129,129,129)\"/><circle cx=\"226\" cy=\"66\" r=\"12\" fill=\"rgb(84,84,84)\"/><circle cx=\"241\" cy=\"330\" r=\"10\" fill=\"rgb(153,153,153)\"/><circle cx=\"213\" cy=\"407\" r=\"12\" fill=\"rgb(110,110,110)\"/><circle cx=\"337\" cy=\"365\" r=\"8\" fill=\"rgb(59,59,59)\"/></svg><svg viewBox='0 0 430 430' id=\"svg\" width=\"172\" height=\"172\"><circle cx=\"215\" cy=\"215\" r=\"205\" fill=\"none\" stroke=\"black\" stroke-width=\"2\" stroke-dasharray=\"3,3\"/> <circle cx=\"211\" cy=\"98\" r=\"8\" fill=\"rgb(255,198,198)\" class=\"agent_0_24\"/><circle cx=\"131\" cy=\"278\" r=\"12\" fill=\"rgb(255,239,239)\" class=\"agent_0_39\"/><circle cx=\"111\" cy=\"315\" r=\"10\" fill=\"rgb(255,240,240)\" class=\"agent_0_40\"/><circle cx=\"226\" cy=\"66\" r=\"12\" fill=\"rgb(255,149,149)\" class=\"agent_0_53\"/><circle cx=\"241\" cy=\"330\" r=\"10\" fill=\"rgb(255,238,238)\" class=\"agent_0_61\"/><circle cx=\"213\" cy=\"407\" r=\"12\" fill=\"rgb(255,215,215)\" class=\"agent_0_67\"/><circle cx=\"337\" cy=\"365\" r=\"8\" fill=\"rgb(255,248,248)\" class=\"agent_0_68\"/></svg></div>"
      ],
      "text/plain": [
       "<IPython.core.display.HTML object>"
      ]
     },
     "metadata": {},
     "output_type": "display_data"
    },
    {
     "name": "stdout",
     "output_type": "stream",
     "text": [
      "alice: no predicted mentions\n",
      "alice: yes <eos>\n",
      "alice detected markables:\n",
      "bob detected markables:\n",
      "\n",
      "----------------------------------------\n",
      "\n",
      "max prob: 0.46362221240997314\n",
      "entropy: 1.5771160125732422\n",
      "bob sel_prob_now: tensor([0.0819, 0.0579, 0.0690, 0.0642, 0.2055, 0.0578, 0.4636],\n",
      "       grad_fn=<ViewBackward>)\n"
     ]
    },
    {
     "data": {
      "text/html": [
       "<div style=\"white-space: nowrap\"><svg viewbox='0 0 430 430' width=\"172\" height=\"172\" id=\"agent_1\"><circle cx=\"215\" cy=\"215\" r=\"205\" fill=\"none\" stroke=\"black\" stroke-width=\"2\" stroke-dasharray=\"3,3\"/><circle cx=\"223\" cy=\"263\" r=\"13\" fill=\"rgb(148,148,148)\"/><circle cx=\"369\" cy=\"277\" r=\"11\" fill=\"rgb(150,150,150)\"/><circle cx=\"229\" cy=\"108\" r=\"12\" fill=\"rgb(136,136,136)\"/><circle cx=\"210\" cy=\"145\" r=\"10\" fill=\"rgb(129,129,129)\"/><circle cx=\"340\" cy=\"160\" r=\"10\" fill=\"rgb(153,153,153)\"/><circle cx=\"116\" cy=\"109\" r=\"11\" fill=\"rgb(151,151,151)\"/><circle cx=\"311\" cy=\"238\" r=\"12\" fill=\"rgb(110,110,110)\"/></svg><svg viewBox='0 0 430 430' id=\"svg\" width=\"172\" height=\"172\"><circle cx=\"215\" cy=\"215\" r=\"205\" fill=\"none\" stroke=\"black\" stroke-width=\"2\" stroke-dasharray=\"3,3\"/> <circle cx=\"223\" cy=\"263\" r=\"13\" fill=\"rgb(255,234,234)\" class=\"agent_1_28\"/><circle cx=\"369\" cy=\"277\" r=\"11\" fill=\"rgb(255,240,240)\" class=\"agent_1_32\"/><circle cx=\"229\" cy=\"108\" r=\"12\" fill=\"rgb(255,237,237)\" class=\"agent_1_39\"/><circle cx=\"210\" cy=\"145\" r=\"10\" fill=\"rgb(255,238,238)\" class=\"agent_1_40\"/><circle cx=\"340\" cy=\"160\" r=\"10\" fill=\"rgb(255,202,202)\" class=\"agent_1_61\"/><circle cx=\"116\" cy=\"109\" r=\"11\" fill=\"rgb(255,240,240)\" class=\"agent_1_62\"/><circle cx=\"311\" cy=\"238\" r=\"12\" fill=\"rgb(255,136,136)\" class=\"agent_1_67\"/></svg></div>"
      ],
      "text/plain": [
       "<IPython.core.display.HTML object>"
      ]
     },
     "metadata": {},
     "output_type": "display_data"
    },
    {
     "name": "stdout",
     "output_type": "stream",
     "text": [
      "bob to_mention_pred\n"
     ]
    },
    {
     "data": {
      "text/html": [
       "<div style=\"white-space: nowrap\"><svg viewbox='0 0 430 430' width=\"172\" height=\"172\" id=\"agent_1\"><circle cx=\"215\" cy=\"215\" r=\"205\" fill=\"none\" stroke=\"black\" stroke-width=\"2\" stroke-dasharray=\"3,3\"/><circle cx=\"223\" cy=\"263\" r=\"13\" fill=\"rgb(148,148,148)\"/><circle cx=\"369\" cy=\"277\" r=\"11\" fill=\"rgb(150,150,150)\"/><circle cx=\"229\" cy=\"108\" r=\"12\" fill=\"rgb(136,136,136)\"/><circle cx=\"210\" cy=\"145\" r=\"10\" fill=\"rgb(129,129,129)\"/><circle cx=\"340\" cy=\"160\" r=\"10\" fill=\"rgb(153,153,153)\"/><circle cx=\"116\" cy=\"109\" r=\"11\" fill=\"rgb(151,151,151)\"/><circle cx=\"311\" cy=\"238\" r=\"12\" fill=\"rgb(110,110,110)\"/></svg><svg viewBox='0 0 430 430' id=\"svg\" width=\"172\" height=\"172\"><circle cx=\"215\" cy=\"215\" r=\"205\" fill=\"none\" stroke=\"black\" stroke-width=\"2\" stroke-dasharray=\"3,3\"/> <circle cx=\"223\" cy=\"263\" r=\"13\" fill=\"rgb(255,255,255)\" class=\"agent_1_28\"/><circle cx=\"369\" cy=\"277\" r=\"11\" fill=\"rgb(255,255,255)\" class=\"agent_1_32\"/><circle cx=\"229\" cy=\"108\" r=\"12\" fill=\"rgb(255,255,255)\" class=\"agent_1_39\"/><circle cx=\"210\" cy=\"145\" r=\"10\" fill=\"rgb(255,255,255)\" class=\"agent_1_40\"/><circle cx=\"340\" cy=\"160\" r=\"10\" fill=\"rgb(255,255,255)\" class=\"agent_1_61\"/><circle cx=\"116\" cy=\"109\" r=\"11\" fill=\"rgb(255,255,255)\" class=\"agent_1_62\"/><circle cx=\"311\" cy=\"238\" r=\"12\" fill=\"rgb(255,0,0)\" class=\"agent_1_67\"/></svg></div>"
      ],
      "text/plain": [
       "<IPython.core.display.HTML object>"
      ]
     },
     "metadata": {},
     "output_type": "display_data"
    },
    {
     "name": "stdout",
     "output_type": "stream",
     "text": [
      "max prob: 0.9682182669639587\n",
      "entropy: 0.19735446572303772\n",
      "bob sel_prob after pred: tensor([0.0053, 0.0063, 0.0055, 0.0046, 0.0063, 0.0038, 0.9682],\n",
      "       grad_fn=<ViewBackward>)\n"
     ]
    },
    {
     "data": {
      "text/html": [
       "<div style=\"white-space: nowrap\"><svg viewbox='0 0 430 430' width=\"172\" height=\"172\" id=\"agent_1\"><circle cx=\"215\" cy=\"215\" r=\"205\" fill=\"none\" stroke=\"black\" stroke-width=\"2\" stroke-dasharray=\"3,3\"/><circle cx=\"223\" cy=\"263\" r=\"13\" fill=\"rgb(148,148,148)\"/><circle cx=\"369\" cy=\"277\" r=\"11\" fill=\"rgb(150,150,150)\"/><circle cx=\"229\" cy=\"108\" r=\"12\" fill=\"rgb(136,136,136)\"/><circle cx=\"210\" cy=\"145\" r=\"10\" fill=\"rgb(129,129,129)\"/><circle cx=\"340\" cy=\"160\" r=\"10\" fill=\"rgb(153,153,153)\"/><circle cx=\"116\" cy=\"109\" r=\"11\" fill=\"rgb(151,151,151)\"/><circle cx=\"311\" cy=\"238\" r=\"12\" fill=\"rgb(110,110,110)\"/></svg><svg viewBox='0 0 430 430' id=\"svg\" width=\"172\" height=\"172\"><circle cx=\"215\" cy=\"215\" r=\"205\" fill=\"none\" stroke=\"black\" stroke-width=\"2\" stroke-dasharray=\"3,3\"/> <circle cx=\"223\" cy=\"263\" r=\"13\" fill=\"rgb(255,253,253)\" class=\"agent_1_28\"/><circle cx=\"369\" cy=\"277\" r=\"11\" fill=\"rgb(255,253,253)\" class=\"agent_1_32\"/><circle cx=\"229\" cy=\"108\" r=\"12\" fill=\"rgb(255,253,253)\" class=\"agent_1_39\"/><circle cx=\"210\" cy=\"145\" r=\"10\" fill=\"rgb(255,253,253)\" class=\"agent_1_40\"/><circle cx=\"340\" cy=\"160\" r=\"10\" fill=\"rgb(255,253,253)\" class=\"agent_1_61\"/><circle cx=\"116\" cy=\"109\" r=\"11\" fill=\"rgb(255,254,254)\" class=\"agent_1_62\"/><circle cx=\"311\" cy=\"238\" r=\"12\" fill=\"rgb(255,8,8)\" class=\"agent_1_67\"/></svg></div>"
      ],
      "text/plain": [
       "<IPython.core.display.HTML object>"
      ]
     },
     "metadata": {},
     "output_type": "display_data"
    },
    {
     "name": "stdout",
     "output_type": "stream",
     "text": [
      "bob: choose the larger one ? <eos>\n",
      "bob detected markables:\n",
      "{'start': 10, 'end': 24, 'is_self': True, 'text': 'the larger one'}\n",
      "alice detected markables:\n",
      "{'start': 10, 'end': 24, 'is_self': True, 'text': 'the larger one'}\n",
      "\n",
      "----------------------------------------\n",
      "\n",
      "max prob: 0.28296616673469543\n",
      "entropy: 1.742407202720642\n",
      "alice sel_prob_now: tensor([0.1202, 0.2830, 0.0891, 0.2635, 0.0831, 0.1399, 0.0212],\n",
      "       grad_fn=<ViewBackward>)\n"
     ]
    },
    {
     "data": {
      "text/html": [
       "<div style=\"white-space: nowrap\"><svg viewbox='0 0 430 430' width=\"172\" height=\"172\" id=\"agent_0\"><circle cx=\"215\" cy=\"215\" r=\"205\" fill=\"none\" stroke=\"black\" stroke-width=\"2\" stroke-dasharray=\"3,3\"/><circle cx=\"211\" cy=\"98\" r=\"8\" fill=\"rgb(185,185,185)\"/><circle cx=\"131\" cy=\"278\" r=\"12\" fill=\"rgb(136,136,136)\"/><circle cx=\"111\" cy=\"315\" r=\"10\" fill=\"rgb(129,129,129)\"/><circle cx=\"226\" cy=\"66\" r=\"12\" fill=\"rgb(84,84,84)\"/><circle cx=\"241\" cy=\"330\" r=\"10\" fill=\"rgb(153,153,153)\"/><circle cx=\"213\" cy=\"407\" r=\"12\" fill=\"rgb(110,110,110)\"/><circle cx=\"337\" cy=\"365\" r=\"8\" fill=\"rgb(59,59,59)\"/></svg><svg viewBox='0 0 430 430' id=\"svg\" width=\"172\" height=\"172\"><circle cx=\"215\" cy=\"215\" r=\"205\" fill=\"none\" stroke=\"black\" stroke-width=\"2\" stroke-dasharray=\"3,3\"/> <circle cx=\"211\" cy=\"98\" r=\"8\" fill=\"rgb(255,224,224)\" class=\"agent_0_24\"/><circle cx=\"131\" cy=\"278\" r=\"12\" fill=\"rgb(255,182,182)\" class=\"agent_0_39\"/><circle cx=\"111\" cy=\"315\" r=\"10\" fill=\"rgb(255,232,232)\" class=\"agent_0_40\"/><circle cx=\"226\" cy=\"66\" r=\"12\" fill=\"rgb(255,187,187)\" class=\"agent_0_53\"/><circle cx=\"241\" cy=\"330\" r=\"10\" fill=\"rgb(255,233,233)\" class=\"agent_0_61\"/><circle cx=\"213\" cy=\"407\" r=\"12\" fill=\"rgb(255,219,219)\" class=\"agent_0_67\"/><circle cx=\"337\" cy=\"365\" r=\"8\" fill=\"rgb(255,249,249)\" class=\"agent_0_68\"/></svg></div>"
      ],
      "text/plain": [
       "<IPython.core.display.HTML object>"
      ]
     },
     "metadata": {},
     "output_type": "display_data"
    },
    {
     "name": "stdout",
     "output_type": "stream",
     "text": [
      "alice: no predicted mentions\n",
      "alice: ok <selection>\n",
      "alice detected markables:\n",
      "bob detected markables:\n",
      "\n",
      "----------------------------------------\n",
      "\n",
      "alice sel_pred\n"
     ]
    },
    {
     "data": {
      "text/html": [
       "<div style=\"white-space: nowrap\"><svg viewbox='0 0 430 430' width=\"172\" height=\"172\" id=\"agent_0\"><circle cx=\"215\" cy=\"215\" r=\"205\" fill=\"none\" stroke=\"black\" stroke-width=\"2\" stroke-dasharray=\"3,3\"/><circle cx=\"211\" cy=\"98\" r=\"8\" fill=\"rgb(185,185,185)\"/><circle cx=\"131\" cy=\"278\" r=\"12\" fill=\"rgb(136,136,136)\"/><circle cx=\"111\" cy=\"315\" r=\"10\" fill=\"rgb(129,129,129)\"/><circle cx=\"226\" cy=\"66\" r=\"12\" fill=\"rgb(84,84,84)\"/><circle cx=\"241\" cy=\"330\" r=\"10\" fill=\"rgb(153,153,153)\"/><circle cx=\"213\" cy=\"407\" r=\"12\" fill=\"rgb(110,110,110)\"/><circle cx=\"337\" cy=\"365\" r=\"8\" fill=\"rgb(59,59,59)\"/></svg><svg viewBox='0 0 430 430' id=\"svg\" width=\"172\" height=\"172\"><circle cx=\"215\" cy=\"215\" r=\"205\" fill=\"none\" stroke=\"black\" stroke-width=\"2\" stroke-dasharray=\"3,3\"/> <circle cx=\"211\" cy=\"98\" r=\"8\" fill=\"rgb(255,224,224)\" class=\"agent_0_24\"/><circle cx=\"131\" cy=\"278\" r=\"12\" fill=\"rgb(255,182,182)\" class=\"agent_0_39\"/><circle cx=\"111\" cy=\"315\" r=\"10\" fill=\"rgb(255,232,232)\" class=\"agent_0_40\"/><circle cx=\"226\" cy=\"66\" r=\"12\" fill=\"rgb(255,187,187)\" class=\"agent_0_53\"/><circle cx=\"241\" cy=\"330\" r=\"10\" fill=\"rgb(255,233,233)\" class=\"agent_0_61\"/><circle cx=\"213\" cy=\"407\" r=\"12\" fill=\"rgb(255,219,219)\" class=\"agent_0_67\"/><circle cx=\"337\" cy=\"365\" r=\"8\" fill=\"rgb(255,249,249)\" class=\"agent_0_68\"/></svg></div>"
      ],
      "text/plain": [
       "<IPython.core.display.HTML object>"
      ]
     },
     "metadata": {},
     "output_type": "display_data"
    },
    {
     "name": "stdout",
     "output_type": "stream",
     "text": [
      "bob sel_pred\n"
     ]
    },
    {
     "data": {
      "text/html": [
       "<div style=\"white-space: nowrap\"><svg viewbox='0 0 430 430' width=\"172\" height=\"172\" id=\"agent_1\"><circle cx=\"215\" cy=\"215\" r=\"205\" fill=\"none\" stroke=\"black\" stroke-width=\"2\" stroke-dasharray=\"3,3\"/><circle cx=\"223\" cy=\"263\" r=\"13\" fill=\"rgb(148,148,148)\"/><circle cx=\"369\" cy=\"277\" r=\"11\" fill=\"rgb(150,150,150)\"/><circle cx=\"229\" cy=\"108\" r=\"12\" fill=\"rgb(136,136,136)\"/><circle cx=\"210\" cy=\"145\" r=\"10\" fill=\"rgb(129,129,129)\"/><circle cx=\"340\" cy=\"160\" r=\"10\" fill=\"rgb(153,153,153)\"/><circle cx=\"116\" cy=\"109\" r=\"11\" fill=\"rgb(151,151,151)\"/><circle cx=\"311\" cy=\"238\" r=\"12\" fill=\"rgb(110,110,110)\"/></svg><svg viewBox='0 0 430 430' id=\"svg\" width=\"172\" height=\"172\"><circle cx=\"215\" cy=\"215\" r=\"205\" fill=\"none\" stroke=\"black\" stroke-width=\"2\" stroke-dasharray=\"3,3\"/> <circle cx=\"223\" cy=\"263\" r=\"13\" fill=\"rgb(255,18,18)\" class=\"agent_1_28\"/><circle cx=\"369\" cy=\"277\" r=\"11\" fill=\"rgb(255,252,252)\" class=\"agent_1_32\"/><circle cx=\"229\" cy=\"108\" r=\"12\" fill=\"rgb(255,252,252)\" class=\"agent_1_39\"/><circle cx=\"210\" cy=\"145\" r=\"10\" fill=\"rgb(255,252,252)\" class=\"agent_1_40\"/><circle cx=\"340\" cy=\"160\" r=\"10\" fill=\"rgb(255,252,252)\" class=\"agent_1_61\"/><circle cx=\"116\" cy=\"109\" r=\"11\" fill=\"rgb(255,253,253)\" class=\"agent_1_62\"/><circle cx=\"311\" cy=\"238\" r=\"12\" fill=\"rgb(255,248,248)\" class=\"agent_1_67\"/></svg></div>"
      ],
      "text/plain": [
       "<IPython.core.display.HTML object>"
      ]
     },
     "metadata": {},
     "output_type": "display_data"
    },
    {
     "name": "stdout",
     "output_type": "stream",
     "text": [
      "disagree\n"
     ]
    },
    {
     "ename": "ZeroDivisionError",
     "evalue": "division by zero",
     "output_type": "error",
     "traceback": [
      "\u001b[0;31m---------------------------------------------------------------------------\u001b[0m",
      "\u001b[0;31mZeroDivisionError\u001b[0m                         Traceback (most recent call last)",
      "\u001b[0;32m<ipython-input-57-2ce4cb1b6a11>\u001b[0m in \u001b[0;36m<module>\u001b[0;34m\u001b[0m\n\u001b[0;32m----> 1\u001b[0;31m \u001b[0mselfplay_contexts_and_mentions\u001b[0m\u001b[0;34m(\u001b[0m\u001b[0mselfplay_scenarios_list\u001b[0m\u001b[0;34m[\u001b[0m\u001b[0;36m0\u001b[0m\u001b[0;34m]\u001b[0m\u001b[0;34m,\u001b[0m \u001b[0mbeam_size\u001b[0m\u001b[0;34m=\u001b[0m\u001b[0;36m20\u001b[0m\u001b[0;34m,\u001b[0m \u001b[0mnext_mention_reranking\u001b[0m\u001b[0;34m=\u001b[0m\u001b[0;32mTrue\u001b[0m\u001b[0;34m,\u001b[0m \u001b[0mnext_mention_reranking_k\u001b[0m\u001b[0;34m=\u001b[0m\u001b[0;36m20\u001b[0m\u001b[0;34m,\u001b[0m \u001b[0mnext_mention_reranking_weight\u001b[0m\u001b[0;34m=\u001b[0m\u001b[0;36m1.0\u001b[0m\u001b[0;34m)\u001b[0m\u001b[0;34m\u001b[0m\u001b[0;34m\u001b[0m\u001b[0m\n\u001b[0m",
      "\u001b[0;32m<ipython-input-52-8a7184c7abb6>\u001b[0m in \u001b[0;36mselfplay_contexts_and_mentions\u001b[0;34m(scenario, model, max_sentences, inference, beam_size, sample_temperature, min_num_mentions, max_num_mentions, display_mention_marginals, display_referents, display_selection, mention_top_k, display_beam_candidates, next_mention_reranking, next_mention_reranking_k, next_mention_reranking_score, next_mention_reranking_weight, next_mention_candidate_generation)\u001b[0m\n\u001b[1;32m    278\u001b[0m                     \u001b[0mprint\u001b[0m\u001b[0;34m(\u001b[0m\u001b[0;34m\"disagree\"\u001b[0m\u001b[0;34m)\u001b[0m\u001b[0;34m\u001b[0m\u001b[0;34m\u001b[0m\u001b[0m\n\u001b[1;32m    279\u001b[0m             \u001b[0;31m# TODO: call reader selection here; did they agree?\u001b[0m\u001b[0;34m\u001b[0m\u001b[0;34m\u001b[0m\u001b[0;34m\u001b[0m\u001b[0m\n\u001b[0;32m--> 280\u001b[0;31m             \u001b[0;36m1\u001b[0m\u001b[0;34m/\u001b[0m\u001b[0;36m0\u001b[0m\u001b[0;34m\u001b[0m\u001b[0;34m\u001b[0m\u001b[0m\n\u001b[0m\u001b[1;32m    281\u001b[0m             \u001b[0;32mbreak\u001b[0m\u001b[0;34m\u001b[0m\u001b[0;34m\u001b[0m\u001b[0m\n\u001b[1;32m    282\u001b[0m         \u001b[0msentence_ix\u001b[0m \u001b[0;34m+=\u001b[0m \u001b[0;36m1\u001b[0m\u001b[0;34m\u001b[0m\u001b[0;34m\u001b[0m\u001b[0m\n",
      "\u001b[0;31mZeroDivisionError\u001b[0m: division by zero"
     ]
    },
    {
     "name": "stdout",
     "output_type": "stream",
     "text": [
      "> \u001b[0;32m<ipython-input-52-8a7184c7abb6>\u001b[0m(280)\u001b[0;36mselfplay_contexts_and_mentions\u001b[0;34m()\u001b[0m\n",
      "\u001b[0;32m    278 \u001b[0;31m                    \u001b[0mprint\u001b[0m\u001b[0;34m(\u001b[0m\u001b[0;34m\"disagree\"\u001b[0m\u001b[0;34m)\u001b[0m\u001b[0;34m\u001b[0m\u001b[0;34m\u001b[0m\u001b[0m\n",
      "\u001b[0m\u001b[0;32m    279 \u001b[0;31m            \u001b[0;31m# TODO: call reader selection here; did they agree?\u001b[0m\u001b[0;34m\u001b[0m\u001b[0;34m\u001b[0m\u001b[0;34m\u001b[0m\u001b[0m\n",
      "\u001b[0m\u001b[0;32m--> 280 \u001b[0;31m            \u001b[0;36m1\u001b[0m\u001b[0;34m/\u001b[0m\u001b[0;36m0\u001b[0m\u001b[0;34m\u001b[0m\u001b[0;34m\u001b[0m\u001b[0m\n",
      "\u001b[0m\u001b[0;32m    281 \u001b[0;31m            \u001b[0;32mbreak\u001b[0m\u001b[0;34m\u001b[0m\u001b[0;34m\u001b[0m\u001b[0m\n",
      "\u001b[0m\u001b[0;32m    282 \u001b[0;31m        \u001b[0msentence_ix\u001b[0m \u001b[0;34m+=\u001b[0m \u001b[0;36m1\u001b[0m\u001b[0;34m\u001b[0m\u001b[0;34m\u001b[0m\u001b[0m\n",
      "\u001b[0m\n",
      "ipdb> q\n"
     ]
    }
   ],
   "source": [
    "selfplay_contexts_and_mentions(selfplay_scenarios_list[0], beam_size=20, next_mention_reranking=True, next_mention_reranking_k=20, next_mention_reranking_weight=1.0)"
   ]
  },
  {
   "cell_type": "code",
   "execution_count": 54,
   "metadata": {
    "scrolled": true
   },
   "outputs": [
    {
     "name": "stdout",
     "output_type": "stream",
     "text": [
      "overwriting key cuda with value True with value False\n",
      "overwriting key temperature with value 0.1 with value 0.25\n",
      "found it\n",
      "max prob: 0.40251100063323975\n",
      "entropy: 1.6483134031295776\n",
      "alice sel_prob_now: tensor([0.2329, 0.0865, 0.0700, 0.0840, 0.4025, 0.0845, 0.0396],\n",
      "       grad_fn=<ViewBackward>)\n"
     ]
    },
    {
     "data": {
      "text/html": [
       "<div style=\"white-space: nowrap\"><svg viewbox='0 0 430 430' width=\"172\" height=\"172\" id=\"agent_0\"><circle cx=\"215\" cy=\"215\" r=\"205\" fill=\"none\" stroke=\"black\" stroke-width=\"2\" stroke-dasharray=\"3,3\"/><circle cx=\"120\" cy=\"114\" r=\"12\" fill=\"rgb(85,85,85)\"/><circle cx=\"184\" cy=\"374\" r=\"8\" fill=\"rgb(119,119,119)\"/><circle cx=\"277\" cy=\"347\" r=\"8\" fill=\"rgb(170,170,170)\"/><circle cx=\"279\" cy=\"54\" r=\"7\" fill=\"rgb(152,152,152)\"/><circle cx=\"306\" cy=\"117\" r=\"7\" fill=\"rgb(65,65,65)\"/><circle cx=\"156\" cy=\"108\" r=\"11\" fill=\"rgb(141,141,141)\"/><circle cx=\"126\" cy=\"347\" r=\"10\" fill=\"rgb(172,172,172)\"/></svg><svg viewBox='0 0 430 430' id=\"svg\" width=\"172\" height=\"172\"><circle cx=\"215\" cy=\"215\" r=\"205\" fill=\"none\" stroke=\"black\" stroke-width=\"2\" stroke-dasharray=\"3,3\"/> <circle cx=\"120\" cy=\"114\" r=\"12\" fill=\"rgb(255,195,195)\" class=\"agent_0_0\"/><circle cx=\"184\" cy=\"374\" r=\"8\" fill=\"rgb(255,232,232)\" class=\"agent_0_31\"/><circle cx=\"277\" cy=\"347\" r=\"8\" fill=\"rgb(255,237,237)\" class=\"agent_0_42\"/><circle cx=\"279\" cy=\"54\" r=\"7\" fill=\"rgb(255,233,233)\" class=\"agent_0_50\"/><circle cx=\"306\" cy=\"117\" r=\"7\" fill=\"rgb(255,152,152)\" class=\"agent_0_53\"/><circle cx=\"156\" cy=\"108\" r=\"11\" fill=\"rgb(255,233,233)\" class=\"agent_0_62\"/><circle cx=\"126\" cy=\"347\" r=\"10\" fill=\"rgb(255,244,244)\" class=\"agent_0_65\"/></svg></div>"
      ],
      "text/plain": [
       "<IPython.core.display.HTML object>"
      ]
     },
     "metadata": {},
     "output_type": "display_data"
    },
    {
     "name": "stdout",
     "output_type": "stream",
     "text": [
      "alice: no predicted mentions\n",
      "alice: hello ! where 's your dot ? <eos>\n",
      "alice detected markables:\n",
      "bob detected markables:\n",
      "\n",
      "----------------------------------------\n",
      "\n",
      "max prob: 0.5447425842285156\n",
      "entropy: 1.4755418300628662\n",
      "bob sel_prob_now: tensor([0.0536, 0.1051, 0.0851, 0.0656, 0.5447, 0.0363, 0.1095],\n",
      "       grad_fn=<ViewBackward>)\n"
     ]
    },
    {
     "data": {
      "text/html": [
       "<div style=\"white-space: nowrap\"><svg viewbox='0 0 430 430' width=\"172\" height=\"172\" id=\"agent_1\"><circle cx=\"215\" cy=\"215\" r=\"205\" fill=\"none\" stroke=\"black\" stroke-width=\"2\" stroke-dasharray=\"3,3\"/><circle cx=\"244\" cy=\"375\" r=\"9\" fill=\"rgb(188,188,188)\"/><circle cx=\"393\" cy=\"277\" r=\"7\" fill=\"rgb(139,139,139)\"/><circle cx=\"113\" cy=\"317\" r=\"8\" fill=\"rgb(119,119,119)\"/><circle cx=\"206\" cy=\"291\" r=\"8\" fill=\"rgb(170,170,170)\"/><circle cx=\"235\" cy=\"60\" r=\"7\" fill=\"rgb(65,65,65)\"/><circle cx=\"56\" cy=\"290\" r=\"10\" fill=\"rgb(172,172,172)\"/><circle cx=\"377\" cy=\"132\" r=\"10\" fill=\"rgb(178,178,178)\"/></svg><svg viewBox='0 0 430 430' id=\"svg\" width=\"172\" height=\"172\"><circle cx=\"215\" cy=\"215\" r=\"205\" fill=\"none\" stroke=\"black\" stroke-width=\"2\" stroke-dasharray=\"3,3\"/> <circle cx=\"244\" cy=\"375\" r=\"9\" fill=\"rgb(255,241,241)\" class=\"agent_1_4\"/><circle cx=\"393\" cy=\"277\" r=\"7\" fill=\"rgb(255,228,228)\" class=\"agent_1_6\"/><circle cx=\"113\" cy=\"317\" r=\"8\" fill=\"rgb(255,233,233)\" class=\"agent_1_31\"/><circle cx=\"206\" cy=\"291\" r=\"8\" fill=\"rgb(255,238,238)\" class=\"agent_1_42\"/><circle cx=\"235\" cy=\"60\" r=\"7\" fill=\"rgb(255,116,116)\" class=\"agent_1_53\"/><circle cx=\"56\" cy=\"290\" r=\"10\" fill=\"rgb(255,245,245)\" class=\"agent_1_65\"/><circle cx=\"377\" cy=\"132\" r=\"10\" fill=\"rgb(255,227,227)\" class=\"agent_1_72\"/></svg></div>"
      ],
      "text/plain": [
       "<IPython.core.display.HTML object>"
      ]
     },
     "metadata": {},
     "output_type": "display_data"
    },
    {
     "name": "stdout",
     "output_type": "stream",
     "text": [
      "bob to_mention_pred\n"
     ]
    },
    {
     "data": {
      "text/html": [
       "<div style=\"white-space: nowrap\"><svg viewbox='0 0 430 430' width=\"172\" height=\"172\" id=\"agent_1\"><circle cx=\"215\" cy=\"215\" r=\"205\" fill=\"none\" stroke=\"black\" stroke-width=\"2\" stroke-dasharray=\"3,3\"/><circle cx=\"244\" cy=\"375\" r=\"9\" fill=\"rgb(188,188,188)\"/><circle cx=\"393\" cy=\"277\" r=\"7\" fill=\"rgb(139,139,139)\"/><circle cx=\"113\" cy=\"317\" r=\"8\" fill=\"rgb(119,119,119)\"/><circle cx=\"206\" cy=\"291\" r=\"8\" fill=\"rgb(170,170,170)\"/><circle cx=\"235\" cy=\"60\" r=\"7\" fill=\"rgb(65,65,65)\"/><circle cx=\"56\" cy=\"290\" r=\"10\" fill=\"rgb(172,172,172)\"/><circle cx=\"377\" cy=\"132\" r=\"10\" fill=\"rgb(178,178,178)\"/></svg><svg viewBox='0 0 430 430' id=\"svg\" width=\"172\" height=\"172\"><circle cx=\"215\" cy=\"215\" r=\"205\" fill=\"none\" stroke=\"black\" stroke-width=\"2\" stroke-dasharray=\"3,3\"/> <circle cx=\"244\" cy=\"375\" r=\"9\" fill=\"rgb(255,255,255)\" class=\"agent_1_4\"/><circle cx=\"393\" cy=\"277\" r=\"7\" fill=\"rgb(255,255,255)\" class=\"agent_1_6\"/><circle cx=\"113\" cy=\"317\" r=\"8\" fill=\"rgb(255,255,255)\" class=\"agent_1_31\"/><circle cx=\"206\" cy=\"291\" r=\"8\" fill=\"rgb(255,255,255)\" class=\"agent_1_42\"/><circle cx=\"235\" cy=\"60\" r=\"7\" fill=\"rgb(255,0,0)\" class=\"agent_1_53\"/><circle cx=\"56\" cy=\"290\" r=\"10\" fill=\"rgb(255,255,255)\" class=\"agent_1_65\"/><circle cx=\"377\" cy=\"132\" r=\"10\" fill=\"rgb(255,255,255)\" class=\"agent_1_72\"/></svg><svg viewBox='0 0 430 430' id=\"svg\" width=\"172\" height=\"172\"><circle cx=\"215\" cy=\"215\" r=\"205\" fill=\"none\" stroke=\"black\" stroke-width=\"2\" stroke-dasharray=\"3,3\"/> <circle cx=\"244\" cy=\"375\" r=\"9\" fill=\"rgb(255,255,255)\" class=\"agent_1_4\"/><circle cx=\"393\" cy=\"277\" r=\"7\" fill=\"rgb(255,255,255)\" class=\"agent_1_6\"/><circle cx=\"113\" cy=\"317\" r=\"8\" fill=\"rgb(255,255,255)\" class=\"agent_1_31\"/><circle cx=\"206\" cy=\"291\" r=\"8\" fill=\"rgb(255,255,255)\" class=\"agent_1_42\"/><circle cx=\"235\" cy=\"60\" r=\"7\" fill=\"rgb(255,0,0)\" class=\"agent_1_53\"/><circle cx=\"56\" cy=\"290\" r=\"10\" fill=\"rgb(255,255,255)\" class=\"agent_1_65\"/><circle cx=\"377\" cy=\"132\" r=\"10\" fill=\"rgb(255,255,255)\" class=\"agent_1_72\"/></svg><svg viewBox='0 0 430 430' id=\"svg\" width=\"172\" height=\"172\"><circle cx=\"215\" cy=\"215\" r=\"205\" fill=\"none\" stroke=\"black\" stroke-width=\"2\" stroke-dasharray=\"3,3\"/> <circle cx=\"244\" cy=\"375\" r=\"9\" fill=\"rgb(255,255,255)\" class=\"agent_1_4\"/><circle cx=\"393\" cy=\"277\" r=\"7\" fill=\"rgb(255,255,255)\" class=\"agent_1_6\"/><circle cx=\"113\" cy=\"317\" r=\"8\" fill=\"rgb(255,255,255)\" class=\"agent_1_31\"/><circle cx=\"206\" cy=\"291\" r=\"8\" fill=\"rgb(255,255,255)\" class=\"agent_1_42\"/><circle cx=\"235\" cy=\"60\" r=\"7\" fill=\"rgb(255,0,0)\" class=\"agent_1_53\"/><circle cx=\"56\" cy=\"290\" r=\"10\" fill=\"rgb(255,255,255)\" class=\"agent_1_65\"/><circle cx=\"377\" cy=\"132\" r=\"10\" fill=\"rgb(255,255,255)\" class=\"agent_1_72\"/></svg></div>"
      ],
      "text/plain": [
       "<IPython.core.display.HTML object>"
      ]
     },
     "metadata": {},
     "output_type": "display_data"
    },
    {
     "name": "stdout",
     "output_type": "stream",
     "text": [
      "max prob: 0.9968305230140686\n",
      "entropy: 0.02698568068444729\n",
      "bob sel_prob after pred: tensor([3.6215e-04, 5.7781e-04, 7.0916e-04, 4.5161e-04, 9.9683e-01, 4.0841e-04,\n",
      "        6.6034e-04], grad_fn=<ViewBackward>)\n"
     ]
    },
    {
     "data": {
      "text/html": [
       "<div style=\"white-space: nowrap\"><svg viewbox='0 0 430 430' width=\"172\" height=\"172\" id=\"agent_1\"><circle cx=\"215\" cy=\"215\" r=\"205\" fill=\"none\" stroke=\"black\" stroke-width=\"2\" stroke-dasharray=\"3,3\"/><circle cx=\"244\" cy=\"375\" r=\"9\" fill=\"rgb(188,188,188)\"/><circle cx=\"393\" cy=\"277\" r=\"7\" fill=\"rgb(139,139,139)\"/><circle cx=\"113\" cy=\"317\" r=\"8\" fill=\"rgb(119,119,119)\"/><circle cx=\"206\" cy=\"291\" r=\"8\" fill=\"rgb(170,170,170)\"/><circle cx=\"235\" cy=\"60\" r=\"7\" fill=\"rgb(65,65,65)\"/><circle cx=\"56\" cy=\"290\" r=\"10\" fill=\"rgb(172,172,172)\"/><circle cx=\"377\" cy=\"132\" r=\"10\" fill=\"rgb(178,178,178)\"/></svg><svg viewBox='0 0 430 430' id=\"svg\" width=\"172\" height=\"172\"><circle cx=\"215\" cy=\"215\" r=\"205\" fill=\"none\" stroke=\"black\" stroke-width=\"2\" stroke-dasharray=\"3,3\"/> <circle cx=\"244\" cy=\"375\" r=\"9\" fill=\"rgb(255,254,254)\" class=\"agent_1_4\"/><circle cx=\"393\" cy=\"277\" r=\"7\" fill=\"rgb(255,254,254)\" class=\"agent_1_6\"/><circle cx=\"113\" cy=\"317\" r=\"8\" fill=\"rgb(255,254,254)\" class=\"agent_1_31\"/><circle cx=\"206\" cy=\"291\" r=\"8\" fill=\"rgb(255,254,254)\" class=\"agent_1_42\"/><circle cx=\"235\" cy=\"60\" r=\"7\" fill=\"rgb(255,0,0)\" class=\"agent_1_53\"/><circle cx=\"56\" cy=\"290\" r=\"10\" fill=\"rgb(255,254,254)\" class=\"agent_1_65\"/><circle cx=\"377\" cy=\"132\" r=\"10\" fill=\"rgb(255,254,254)\" class=\"agent_1_72\"/></svg></div>"
      ],
      "text/plain": [
       "<IPython.core.display.HTML object>"
      ]
     },
     "metadata": {},
     "output_type": "display_data"
    },
    {
     "name": "stdout",
     "output_type": "stream",
     "text": [
      "bob: i have a small black dot by itself . do you have it ? <eos>\n",
      "bob detected markables:\n",
      "{'start': 10, 'end': 27, 'is_self': True, 'text': 'a small black dot'}\n",
      "{'start': 31, 'end': 37, 'is_self': True, 'text': 'itself'}\n",
      "{'start': 52, 'end': 54, 'is_self': True, 'text': 'it'}\n",
      "alice detected markables:\n",
      "{'start': 10, 'end': 27, 'is_self': True, 'text': 'a small black dot'}\n",
      "{'start': 31, 'end': 37, 'is_self': True, 'text': 'itself'}\n",
      "{'start': 52, 'end': 54, 'is_self': True, 'text': 'it'}\n",
      "\n",
      "----------------------------------------\n",
      "\n",
      "max prob: 0.9942517280578613\n",
      "entropy: 0.044755663722753525\n",
      "alice sel_prob_now: tensor([2.0508e-03, 9.4427e-04, 4.8603e-04, 4.2166e-04, 9.9425e-01, 1.2628e-03,\n",
      "        5.8274e-04], grad_fn=<ViewBackward>)\n"
     ]
    },
    {
     "data": {
      "text/html": [
       "<div style=\"white-space: nowrap\"><svg viewbox='0 0 430 430' width=\"172\" height=\"172\" id=\"agent_0\"><circle cx=\"215\" cy=\"215\" r=\"205\" fill=\"none\" stroke=\"black\" stroke-width=\"2\" stroke-dasharray=\"3,3\"/><circle cx=\"120\" cy=\"114\" r=\"12\" fill=\"rgb(85,85,85)\"/><circle cx=\"184\" cy=\"374\" r=\"8\" fill=\"rgb(119,119,119)\"/><circle cx=\"277\" cy=\"347\" r=\"8\" fill=\"rgb(170,170,170)\"/><circle cx=\"279\" cy=\"54\" r=\"7\" fill=\"rgb(152,152,152)\"/><circle cx=\"306\" cy=\"117\" r=\"7\" fill=\"rgb(65,65,65)\"/><circle cx=\"156\" cy=\"108\" r=\"11\" fill=\"rgb(141,141,141)\"/><circle cx=\"126\" cy=\"347\" r=\"10\" fill=\"rgb(172,172,172)\"/></svg><svg viewBox='0 0 430 430' id=\"svg\" width=\"172\" height=\"172\"><circle cx=\"215\" cy=\"215\" r=\"205\" fill=\"none\" stroke=\"black\" stroke-width=\"2\" stroke-dasharray=\"3,3\"/> <circle cx=\"120\" cy=\"114\" r=\"12\" fill=\"rgb(255,254,254)\" class=\"agent_0_0\"/><circle cx=\"184\" cy=\"374\" r=\"8\" fill=\"rgb(255,254,254)\" class=\"agent_0_31\"/><circle cx=\"277\" cy=\"347\" r=\"8\" fill=\"rgb(255,254,254)\" class=\"agent_0_42\"/><circle cx=\"279\" cy=\"54\" r=\"7\" fill=\"rgb(255,254,254)\" class=\"agent_0_50\"/><circle cx=\"306\" cy=\"117\" r=\"7\" fill=\"rgb(255,1,1)\" class=\"agent_0_53\"/><circle cx=\"156\" cy=\"108\" r=\"11\" fill=\"rgb(255,254,254)\" class=\"agent_0_62\"/><circle cx=\"126\" cy=\"347\" r=\"10\" fill=\"rgb(255,254,254)\" class=\"agent_0_65\"/></svg></div>"
      ],
      "text/plain": [
       "<IPython.core.display.HTML object>"
      ]
     },
     "metadata": {},
     "output_type": "display_data"
    },
    {
     "name": "stdout",
     "output_type": "stream",
     "text": [
      "alice: no predicted mentions\n",
      "alice: sure <selection>\n",
      "alice detected markables:\n",
      "bob detected markables:\n",
      "\n",
      "----------------------------------------\n",
      "\n",
      "alice sel_pred\n"
     ]
    },
    {
     "data": {
      "text/html": [
       "<div style=\"white-space: nowrap\"><svg viewbox='0 0 430 430' width=\"172\" height=\"172\" id=\"agent_0\"><circle cx=\"215\" cy=\"215\" r=\"205\" fill=\"none\" stroke=\"black\" stroke-width=\"2\" stroke-dasharray=\"3,3\"/><circle cx=\"120\" cy=\"114\" r=\"12\" fill=\"rgb(85,85,85)\"/><circle cx=\"184\" cy=\"374\" r=\"8\" fill=\"rgb(119,119,119)\"/><circle cx=\"277\" cy=\"347\" r=\"8\" fill=\"rgb(170,170,170)\"/><circle cx=\"279\" cy=\"54\" r=\"7\" fill=\"rgb(152,152,152)\"/><circle cx=\"306\" cy=\"117\" r=\"7\" fill=\"rgb(65,65,65)\"/><circle cx=\"156\" cy=\"108\" r=\"11\" fill=\"rgb(141,141,141)\"/><circle cx=\"126\" cy=\"347\" r=\"10\" fill=\"rgb(172,172,172)\"/></svg><svg viewBox='0 0 430 430' id=\"svg\" width=\"172\" height=\"172\"><circle cx=\"215\" cy=\"215\" r=\"205\" fill=\"none\" stroke=\"black\" stroke-width=\"2\" stroke-dasharray=\"3,3\"/> <circle cx=\"120\" cy=\"114\" r=\"12\" fill=\"rgb(255,254,254)\" class=\"agent_0_0\"/><circle cx=\"184\" cy=\"374\" r=\"8\" fill=\"rgb(255,254,254)\" class=\"agent_0_31\"/><circle cx=\"277\" cy=\"347\" r=\"8\" fill=\"rgb(255,254,254)\" class=\"agent_0_42\"/><circle cx=\"279\" cy=\"54\" r=\"7\" fill=\"rgb(255,254,254)\" class=\"agent_0_50\"/><circle cx=\"306\" cy=\"117\" r=\"7\" fill=\"rgb(255,1,1)\" class=\"agent_0_53\"/><circle cx=\"156\" cy=\"108\" r=\"11\" fill=\"rgb(255,254,254)\" class=\"agent_0_62\"/><circle cx=\"126\" cy=\"347\" r=\"10\" fill=\"rgb(255,254,254)\" class=\"agent_0_65\"/></svg></div>"
      ],
      "text/plain": [
       "<IPython.core.display.HTML object>"
      ]
     },
     "metadata": {},
     "output_type": "display_data"
    },
    {
     "name": "stdout",
     "output_type": "stream",
     "text": [
      "bob sel_pred\n"
     ]
    },
    {
     "data": {
      "text/html": [
       "<div style=\"white-space: nowrap\"><svg viewbox='0 0 430 430' width=\"172\" height=\"172\" id=\"agent_1\"><circle cx=\"215\" cy=\"215\" r=\"205\" fill=\"none\" stroke=\"black\" stroke-width=\"2\" stroke-dasharray=\"3,3\"/><circle cx=\"244\" cy=\"375\" r=\"9\" fill=\"rgb(188,188,188)\"/><circle cx=\"393\" cy=\"277\" r=\"7\" fill=\"rgb(139,139,139)\"/><circle cx=\"113\" cy=\"317\" r=\"8\" fill=\"rgb(119,119,119)\"/><circle cx=\"206\" cy=\"291\" r=\"8\" fill=\"rgb(170,170,170)\"/><circle cx=\"235\" cy=\"60\" r=\"7\" fill=\"rgb(65,65,65)\"/><circle cx=\"56\" cy=\"290\" r=\"10\" fill=\"rgb(172,172,172)\"/><circle cx=\"377\" cy=\"132\" r=\"10\" fill=\"rgb(178,178,178)\"/></svg><svg viewBox='0 0 430 430' id=\"svg\" width=\"172\" height=\"172\"><circle cx=\"215\" cy=\"215\" r=\"205\" fill=\"none\" stroke=\"black\" stroke-width=\"2\" stroke-dasharray=\"3,3\"/> <circle cx=\"244\" cy=\"375\" r=\"9\" fill=\"rgb(255,254,254)\" class=\"agent_1_4\"/><circle cx=\"393\" cy=\"277\" r=\"7\" fill=\"rgb(255,254,254)\" class=\"agent_1_6\"/><circle cx=\"113\" cy=\"317\" r=\"8\" fill=\"rgb(255,254,254)\" class=\"agent_1_31\"/><circle cx=\"206\" cy=\"291\" r=\"8\" fill=\"rgb(255,254,254)\" class=\"agent_1_42\"/><circle cx=\"235\" cy=\"60\" r=\"7\" fill=\"rgb(255,0,0)\" class=\"agent_1_53\"/><circle cx=\"56\" cy=\"290\" r=\"10\" fill=\"rgb(255,254,254)\" class=\"agent_1_65\"/><circle cx=\"377\" cy=\"132\" r=\"10\" fill=\"rgb(255,254,254)\" class=\"agent_1_72\"/></svg></div>"
      ],
      "text/plain": [
       "<IPython.core.display.HTML object>"
      ]
     },
     "metadata": {},
     "output_type": "display_data"
    },
    {
     "name": "stdout",
     "output_type": "stream",
     "text": [
      "agree!\n"
     ]
    },
    {
     "ename": "ZeroDivisionError",
     "evalue": "division by zero",
     "output_type": "error",
     "traceback": [
      "\u001b[0;31m---------------------------------------------------------------------------\u001b[0m",
      "\u001b[0;31mZeroDivisionError\u001b[0m                         Traceback (most recent call last)",
      "\u001b[0;32m<ipython-input-54-c9e5f960ac7d>\u001b[0m in \u001b[0;36m<module>\u001b[0;34m\u001b[0m\n\u001b[0;32m----> 1\u001b[0;31m \u001b[0mselfplay_contexts_and_mentions\u001b[0m\u001b[0;34m(\u001b[0m\u001b[0mselfplay_scenarios_list\u001b[0m\u001b[0;34m[\u001b[0m\u001b[0;36m1\u001b[0m\u001b[0;34m]\u001b[0m\u001b[0;34m,\u001b[0m \u001b[0mbeam_size\u001b[0m\u001b[0;34m=\u001b[0m\u001b[0;36m1\u001b[0m\u001b[0;34m)\u001b[0m\u001b[0;34m\u001b[0m\u001b[0;34m\u001b[0m\u001b[0m\n\u001b[0m",
      "\u001b[0;32m<ipython-input-52-8a7184c7abb6>\u001b[0m in \u001b[0;36mselfplay_contexts_and_mentions\u001b[0;34m(scenario, model, max_sentences, inference, beam_size, sample_temperature, min_num_mentions, max_num_mentions, display_mention_marginals, display_referents, display_selection, mention_top_k, display_beam_candidates, next_mention_reranking, next_mention_reranking_k, next_mention_reranking_score, next_mention_reranking_weight, next_mention_candidate_generation)\u001b[0m\n\u001b[1;32m    278\u001b[0m                     \u001b[0mprint\u001b[0m\u001b[0;34m(\u001b[0m\u001b[0;34m\"disagree\"\u001b[0m\u001b[0;34m)\u001b[0m\u001b[0;34m\u001b[0m\u001b[0;34m\u001b[0m\u001b[0m\n\u001b[1;32m    279\u001b[0m             \u001b[0;31m# TODO: call reader selection here; did they agree?\u001b[0m\u001b[0;34m\u001b[0m\u001b[0;34m\u001b[0m\u001b[0;34m\u001b[0m\u001b[0m\n\u001b[0;32m--> 280\u001b[0;31m             \u001b[0;36m1\u001b[0m\u001b[0;34m/\u001b[0m\u001b[0;36m0\u001b[0m\u001b[0;34m\u001b[0m\u001b[0;34m\u001b[0m\u001b[0m\n\u001b[0m\u001b[1;32m    281\u001b[0m             \u001b[0;32mbreak\u001b[0m\u001b[0;34m\u001b[0m\u001b[0;34m\u001b[0m\u001b[0m\n\u001b[1;32m    282\u001b[0m         \u001b[0msentence_ix\u001b[0m \u001b[0;34m+=\u001b[0m \u001b[0;36m1\u001b[0m\u001b[0;34m\u001b[0m\u001b[0;34m\u001b[0m\u001b[0m\n",
      "\u001b[0;31mZeroDivisionError\u001b[0m: division by zero"
     ]
    },
    {
     "name": "stdout",
     "output_type": "stream",
     "text": [
      "> \u001b[0;32m<ipython-input-52-8a7184c7abb6>\u001b[0m(280)\u001b[0;36mselfplay_contexts_and_mentions\u001b[0;34m()\u001b[0m\n",
      "\u001b[0;32m    278 \u001b[0;31m                    \u001b[0mprint\u001b[0m\u001b[0;34m(\u001b[0m\u001b[0;34m\"disagree\"\u001b[0m\u001b[0;34m)\u001b[0m\u001b[0;34m\u001b[0m\u001b[0;34m\u001b[0m\u001b[0m\n",
      "\u001b[0m\u001b[0;32m    279 \u001b[0;31m            \u001b[0;31m# TODO: call reader selection here; did they agree?\u001b[0m\u001b[0;34m\u001b[0m\u001b[0;34m\u001b[0m\u001b[0;34m\u001b[0m\u001b[0m\n",
      "\u001b[0m\u001b[0;32m--> 280 \u001b[0;31m            \u001b[0;36m1\u001b[0m\u001b[0;34m/\u001b[0m\u001b[0;36m0\u001b[0m\u001b[0;34m\u001b[0m\u001b[0;34m\u001b[0m\u001b[0m\n",
      "\u001b[0m\u001b[0;32m    281 \u001b[0;31m            \u001b[0;32mbreak\u001b[0m\u001b[0;34m\u001b[0m\u001b[0;34m\u001b[0m\u001b[0m\n",
      "\u001b[0m\u001b[0;32m    282 \u001b[0;31m        \u001b[0msentence_ix\u001b[0m \u001b[0;34m+=\u001b[0m \u001b[0;36m1\u001b[0m\u001b[0;34m\u001b[0m\u001b[0;34m\u001b[0m\u001b[0m\n",
      "\u001b[0m\n",
      "ipdb> q\n"
     ]
    }
   ],
   "source": [
    "selfplay_contexts_and_mentions(selfplay_scenarios_list[1], beam_size=1)"
   ]
  },
  {
   "cell_type": "code",
   "execution_count": 56,
   "metadata": {
    "scrolled": true
   },
   "outputs": [
    {
     "name": "stdout",
     "output_type": "stream",
     "text": [
      "overwriting key cuda with value True with value False\n",
      "overwriting key temperature with value 0.1 with value 0.25\n",
      "found it\n",
      "max prob: 0.40251100063323975\n",
      "entropy: 1.6483134031295776\n",
      "alice sel_prob_now: tensor([0.2329, 0.0865, 0.0700, 0.0840, 0.4025, 0.0845, 0.0396],\n",
      "       grad_fn=<ViewBackward>)\n"
     ]
    },
    {
     "data": {
      "text/html": [
       "<div style=\"white-space: nowrap\"><svg viewbox='0 0 430 430' width=\"172\" height=\"172\" id=\"agent_0\"><circle cx=\"215\" cy=\"215\" r=\"205\" fill=\"none\" stroke=\"black\" stroke-width=\"2\" stroke-dasharray=\"3,3\"/><circle cx=\"120\" cy=\"114\" r=\"12\" fill=\"rgb(85,85,85)\"/><circle cx=\"184\" cy=\"374\" r=\"8\" fill=\"rgb(119,119,119)\"/><circle cx=\"277\" cy=\"347\" r=\"8\" fill=\"rgb(170,170,170)\"/><circle cx=\"279\" cy=\"54\" r=\"7\" fill=\"rgb(152,152,152)\"/><circle cx=\"306\" cy=\"117\" r=\"7\" fill=\"rgb(65,65,65)\"/><circle cx=\"156\" cy=\"108\" r=\"11\" fill=\"rgb(141,141,141)\"/><circle cx=\"126\" cy=\"347\" r=\"10\" fill=\"rgb(172,172,172)\"/></svg><svg viewBox='0 0 430 430' id=\"svg\" width=\"172\" height=\"172\"><circle cx=\"215\" cy=\"215\" r=\"205\" fill=\"none\" stroke=\"black\" stroke-width=\"2\" stroke-dasharray=\"3,3\"/> <circle cx=\"120\" cy=\"114\" r=\"12\" fill=\"rgb(255,195,195)\" class=\"agent_0_0\"/><circle cx=\"184\" cy=\"374\" r=\"8\" fill=\"rgb(255,232,232)\" class=\"agent_0_31\"/><circle cx=\"277\" cy=\"347\" r=\"8\" fill=\"rgb(255,237,237)\" class=\"agent_0_42\"/><circle cx=\"279\" cy=\"54\" r=\"7\" fill=\"rgb(255,233,233)\" class=\"agent_0_50\"/><circle cx=\"306\" cy=\"117\" r=\"7\" fill=\"rgb(255,152,152)\" class=\"agent_0_53\"/><circle cx=\"156\" cy=\"108\" r=\"11\" fill=\"rgb(255,233,233)\" class=\"agent_0_62\"/><circle cx=\"126\" cy=\"347\" r=\"10\" fill=\"rgb(255,244,244)\" class=\"agent_0_65\"/></svg></div>"
      ],
      "text/plain": [
       "<IPython.core.display.HTML object>"
      ]
     },
     "metadata": {},
     "output_type": "display_data"
    },
    {
     "name": "stdout",
     "output_type": "stream",
     "text": [
      "alice: no predicted mentions\n",
      "alice: hello ! where 's your dot ? <eos>\n",
      "alice detected markables:\n",
      "bob detected markables:\n",
      "\n",
      "----------------------------------------\n",
      "\n",
      "max prob: 0.5447425842285156\n",
      "entropy: 1.4755418300628662\n",
      "bob sel_prob_now: tensor([0.0536, 0.1051, 0.0851, 0.0656, 0.5447, 0.0363, 0.1095],\n",
      "       grad_fn=<ViewBackward>)\n"
     ]
    },
    {
     "data": {
      "text/html": [
       "<div style=\"white-space: nowrap\"><svg viewbox='0 0 430 430' width=\"172\" height=\"172\" id=\"agent_1\"><circle cx=\"215\" cy=\"215\" r=\"205\" fill=\"none\" stroke=\"black\" stroke-width=\"2\" stroke-dasharray=\"3,3\"/><circle cx=\"244\" cy=\"375\" r=\"9\" fill=\"rgb(188,188,188)\"/><circle cx=\"393\" cy=\"277\" r=\"7\" fill=\"rgb(139,139,139)\"/><circle cx=\"113\" cy=\"317\" r=\"8\" fill=\"rgb(119,119,119)\"/><circle cx=\"206\" cy=\"291\" r=\"8\" fill=\"rgb(170,170,170)\"/><circle cx=\"235\" cy=\"60\" r=\"7\" fill=\"rgb(65,65,65)\"/><circle cx=\"56\" cy=\"290\" r=\"10\" fill=\"rgb(172,172,172)\"/><circle cx=\"377\" cy=\"132\" r=\"10\" fill=\"rgb(178,178,178)\"/></svg><svg viewBox='0 0 430 430' id=\"svg\" width=\"172\" height=\"172\"><circle cx=\"215\" cy=\"215\" r=\"205\" fill=\"none\" stroke=\"black\" stroke-width=\"2\" stroke-dasharray=\"3,3\"/> <circle cx=\"244\" cy=\"375\" r=\"9\" fill=\"rgb(255,241,241)\" class=\"agent_1_4\"/><circle cx=\"393\" cy=\"277\" r=\"7\" fill=\"rgb(255,228,228)\" class=\"agent_1_6\"/><circle cx=\"113\" cy=\"317\" r=\"8\" fill=\"rgb(255,233,233)\" class=\"agent_1_31\"/><circle cx=\"206\" cy=\"291\" r=\"8\" fill=\"rgb(255,238,238)\" class=\"agent_1_42\"/><circle cx=\"235\" cy=\"60\" r=\"7\" fill=\"rgb(255,116,116)\" class=\"agent_1_53\"/><circle cx=\"56\" cy=\"290\" r=\"10\" fill=\"rgb(255,245,245)\" class=\"agent_1_65\"/><circle cx=\"377\" cy=\"132\" r=\"10\" fill=\"rgb(255,227,227)\" class=\"agent_1_72\"/></svg></div>"
      ],
      "text/plain": [
       "<IPython.core.display.HTML object>"
      ]
     },
     "metadata": {},
     "output_type": "display_data"
    },
    {
     "name": "stdout",
     "output_type": "stream",
     "text": [
      "bob to_mention_pred\n"
     ]
    },
    {
     "data": {
      "text/html": [
       "<div style=\"white-space: nowrap\"><svg viewbox='0 0 430 430' width=\"172\" height=\"172\" id=\"agent_1\"><circle cx=\"215\" cy=\"215\" r=\"205\" fill=\"none\" stroke=\"black\" stroke-width=\"2\" stroke-dasharray=\"3,3\"/><circle cx=\"244\" cy=\"375\" r=\"9\" fill=\"rgb(188,188,188)\"/><circle cx=\"393\" cy=\"277\" r=\"7\" fill=\"rgb(139,139,139)\"/><circle cx=\"113\" cy=\"317\" r=\"8\" fill=\"rgb(119,119,119)\"/><circle cx=\"206\" cy=\"291\" r=\"8\" fill=\"rgb(170,170,170)\"/><circle cx=\"235\" cy=\"60\" r=\"7\" fill=\"rgb(65,65,65)\"/><circle cx=\"56\" cy=\"290\" r=\"10\" fill=\"rgb(172,172,172)\"/><circle cx=\"377\" cy=\"132\" r=\"10\" fill=\"rgb(178,178,178)\"/></svg><svg viewBox='0 0 430 430' id=\"svg\" width=\"172\" height=\"172\"><circle cx=\"215\" cy=\"215\" r=\"205\" fill=\"none\" stroke=\"black\" stroke-width=\"2\" stroke-dasharray=\"3,3\"/> <circle cx=\"244\" cy=\"375\" r=\"9\" fill=\"rgb(255,255,255)\" class=\"agent_1_4\"/><circle cx=\"393\" cy=\"277\" r=\"7\" fill=\"rgb(255,255,255)\" class=\"agent_1_6\"/><circle cx=\"113\" cy=\"317\" r=\"8\" fill=\"rgb(255,255,255)\" class=\"agent_1_31\"/><circle cx=\"206\" cy=\"291\" r=\"8\" fill=\"rgb(255,255,255)\" class=\"agent_1_42\"/><circle cx=\"235\" cy=\"60\" r=\"7\" fill=\"rgb(255,0,0)\" class=\"agent_1_53\"/><circle cx=\"56\" cy=\"290\" r=\"10\" fill=\"rgb(255,255,255)\" class=\"agent_1_65\"/><circle cx=\"377\" cy=\"132\" r=\"10\" fill=\"rgb(255,255,255)\" class=\"agent_1_72\"/></svg><svg viewBox='0 0 430 430' id=\"svg\" width=\"172\" height=\"172\"><circle cx=\"215\" cy=\"215\" r=\"205\" fill=\"none\" stroke=\"black\" stroke-width=\"2\" stroke-dasharray=\"3,3\"/> <circle cx=\"244\" cy=\"375\" r=\"9\" fill=\"rgb(255,255,255)\" class=\"agent_1_4\"/><circle cx=\"393\" cy=\"277\" r=\"7\" fill=\"rgb(255,255,255)\" class=\"agent_1_6\"/><circle cx=\"113\" cy=\"317\" r=\"8\" fill=\"rgb(255,255,255)\" class=\"agent_1_31\"/><circle cx=\"206\" cy=\"291\" r=\"8\" fill=\"rgb(255,255,255)\" class=\"agent_1_42\"/><circle cx=\"235\" cy=\"60\" r=\"7\" fill=\"rgb(255,0,0)\" class=\"agent_1_53\"/><circle cx=\"56\" cy=\"290\" r=\"10\" fill=\"rgb(255,255,255)\" class=\"agent_1_65\"/><circle cx=\"377\" cy=\"132\" r=\"10\" fill=\"rgb(255,255,255)\" class=\"agent_1_72\"/></svg><svg viewBox='0 0 430 430' id=\"svg\" width=\"172\" height=\"172\"><circle cx=\"215\" cy=\"215\" r=\"205\" fill=\"none\" stroke=\"black\" stroke-width=\"2\" stroke-dasharray=\"3,3\"/> <circle cx=\"244\" cy=\"375\" r=\"9\" fill=\"rgb(255,255,255)\" class=\"agent_1_4\"/><circle cx=\"393\" cy=\"277\" r=\"7\" fill=\"rgb(255,255,255)\" class=\"agent_1_6\"/><circle cx=\"113\" cy=\"317\" r=\"8\" fill=\"rgb(255,255,255)\" class=\"agent_1_31\"/><circle cx=\"206\" cy=\"291\" r=\"8\" fill=\"rgb(255,255,255)\" class=\"agent_1_42\"/><circle cx=\"235\" cy=\"60\" r=\"7\" fill=\"rgb(255,0,0)\" class=\"agent_1_53\"/><circle cx=\"56\" cy=\"290\" r=\"10\" fill=\"rgb(255,255,255)\" class=\"agent_1_65\"/><circle cx=\"377\" cy=\"132\" r=\"10\" fill=\"rgb(255,255,255)\" class=\"agent_1_72\"/></svg></div>"
      ],
      "text/plain": [
       "<IPython.core.display.HTML object>"
      ]
     },
     "metadata": {},
     "output_type": "display_data"
    },
    {
     "name": "stdout",
     "output_type": "stream",
     "text": [
      "max prob: 0.9968305230140686\n",
      "entropy: 0.02698568068444729\n",
      "bob sel_prob after pred: tensor([3.6215e-04, 5.7781e-04, 7.0916e-04, 4.5161e-04, 9.9683e-01, 4.0841e-04,\n",
      "        6.6034e-04], grad_fn=<ViewBackward>)\n"
     ]
    },
    {
     "data": {
      "text/html": [
       "<div style=\"white-space: nowrap\"><svg viewbox='0 0 430 430' width=\"172\" height=\"172\" id=\"agent_1\"><circle cx=\"215\" cy=\"215\" r=\"205\" fill=\"none\" stroke=\"black\" stroke-width=\"2\" stroke-dasharray=\"3,3\"/><circle cx=\"244\" cy=\"375\" r=\"9\" fill=\"rgb(188,188,188)\"/><circle cx=\"393\" cy=\"277\" r=\"7\" fill=\"rgb(139,139,139)\"/><circle cx=\"113\" cy=\"317\" r=\"8\" fill=\"rgb(119,119,119)\"/><circle cx=\"206\" cy=\"291\" r=\"8\" fill=\"rgb(170,170,170)\"/><circle cx=\"235\" cy=\"60\" r=\"7\" fill=\"rgb(65,65,65)\"/><circle cx=\"56\" cy=\"290\" r=\"10\" fill=\"rgb(172,172,172)\"/><circle cx=\"377\" cy=\"132\" r=\"10\" fill=\"rgb(178,178,178)\"/></svg><svg viewBox='0 0 430 430' id=\"svg\" width=\"172\" height=\"172\"><circle cx=\"215\" cy=\"215\" r=\"205\" fill=\"none\" stroke=\"black\" stroke-width=\"2\" stroke-dasharray=\"3,3\"/> <circle cx=\"244\" cy=\"375\" r=\"9\" fill=\"rgb(255,254,254)\" class=\"agent_1_4\"/><circle cx=\"393\" cy=\"277\" r=\"7\" fill=\"rgb(255,254,254)\" class=\"agent_1_6\"/><circle cx=\"113\" cy=\"317\" r=\"8\" fill=\"rgb(255,254,254)\" class=\"agent_1_31\"/><circle cx=\"206\" cy=\"291\" r=\"8\" fill=\"rgb(255,254,254)\" class=\"agent_1_42\"/><circle cx=\"235\" cy=\"60\" r=\"7\" fill=\"rgb(255,0,0)\" class=\"agent_1_53\"/><circle cx=\"56\" cy=\"290\" r=\"10\" fill=\"rgb(255,254,254)\" class=\"agent_1_65\"/><circle cx=\"377\" cy=\"132\" r=\"10\" fill=\"rgb(255,254,254)\" class=\"agent_1_72\"/></svg></div>"
      ],
      "text/plain": [
       "<IPython.core.display.HTML object>"
      ]
     },
     "metadata": {},
     "output_type": "display_data"
    },
    {
     "name": "stdout",
     "output_type": "stream",
     "text": [
      "bob: i have a small black dot by itself . do you have it ? <eos>\n",
      "bob detected markables:\n",
      "{'start': 10, 'end': 27, 'is_self': True, 'text': 'a small black dot'}\n",
      "{'start': 31, 'end': 37, 'is_self': True, 'text': 'itself'}\n",
      "{'start': 52, 'end': 54, 'is_self': True, 'text': 'it'}\n",
      "alice detected markables:\n",
      "{'start': 10, 'end': 27, 'is_self': True, 'text': 'a small black dot'}\n",
      "{'start': 31, 'end': 37, 'is_self': True, 'text': 'itself'}\n",
      "{'start': 52, 'end': 54, 'is_self': True, 'text': 'it'}\n",
      "\n",
      "----------------------------------------\n",
      "\n",
      "max prob: 0.9942517280578613\n",
      "entropy: 0.044755663722753525\n",
      "alice sel_prob_now: tensor([2.0508e-03, 9.4427e-04, 4.8603e-04, 4.2166e-04, 9.9425e-01, 1.2628e-03,\n",
      "        5.8274e-04], grad_fn=<ViewBackward>)\n"
     ]
    },
    {
     "data": {
      "text/html": [
       "<div style=\"white-space: nowrap\"><svg viewbox='0 0 430 430' width=\"172\" height=\"172\" id=\"agent_0\"><circle cx=\"215\" cy=\"215\" r=\"205\" fill=\"none\" stroke=\"black\" stroke-width=\"2\" stroke-dasharray=\"3,3\"/><circle cx=\"120\" cy=\"114\" r=\"12\" fill=\"rgb(85,85,85)\"/><circle cx=\"184\" cy=\"374\" r=\"8\" fill=\"rgb(119,119,119)\"/><circle cx=\"277\" cy=\"347\" r=\"8\" fill=\"rgb(170,170,170)\"/><circle cx=\"279\" cy=\"54\" r=\"7\" fill=\"rgb(152,152,152)\"/><circle cx=\"306\" cy=\"117\" r=\"7\" fill=\"rgb(65,65,65)\"/><circle cx=\"156\" cy=\"108\" r=\"11\" fill=\"rgb(141,141,141)\"/><circle cx=\"126\" cy=\"347\" r=\"10\" fill=\"rgb(172,172,172)\"/></svg><svg viewBox='0 0 430 430' id=\"svg\" width=\"172\" height=\"172\"><circle cx=\"215\" cy=\"215\" r=\"205\" fill=\"none\" stroke=\"black\" stroke-width=\"2\" stroke-dasharray=\"3,3\"/> <circle cx=\"120\" cy=\"114\" r=\"12\" fill=\"rgb(255,254,254)\" class=\"agent_0_0\"/><circle cx=\"184\" cy=\"374\" r=\"8\" fill=\"rgb(255,254,254)\" class=\"agent_0_31\"/><circle cx=\"277\" cy=\"347\" r=\"8\" fill=\"rgb(255,254,254)\" class=\"agent_0_42\"/><circle cx=\"279\" cy=\"54\" r=\"7\" fill=\"rgb(255,254,254)\" class=\"agent_0_50\"/><circle cx=\"306\" cy=\"117\" r=\"7\" fill=\"rgb(255,1,1)\" class=\"agent_0_53\"/><circle cx=\"156\" cy=\"108\" r=\"11\" fill=\"rgb(255,254,254)\" class=\"agent_0_62\"/><circle cx=\"126\" cy=\"347\" r=\"10\" fill=\"rgb(255,254,254)\" class=\"agent_0_65\"/></svg></div>"
      ],
      "text/plain": [
       "<IPython.core.display.HTML object>"
      ]
     },
     "metadata": {},
     "output_type": "display_data"
    },
    {
     "name": "stdout",
     "output_type": "stream",
     "text": [
      "alice: no predicted mentions\n",
      "alice: sure <selection>\n",
      "alice detected markables:\n",
      "bob detected markables:\n",
      "\n",
      "----------------------------------------\n",
      "\n",
      "alice sel_pred\n"
     ]
    },
    {
     "data": {
      "text/html": [
       "<div style=\"white-space: nowrap\"><svg viewbox='0 0 430 430' width=\"172\" height=\"172\" id=\"agent_0\"><circle cx=\"215\" cy=\"215\" r=\"205\" fill=\"none\" stroke=\"black\" stroke-width=\"2\" stroke-dasharray=\"3,3\"/><circle cx=\"120\" cy=\"114\" r=\"12\" fill=\"rgb(85,85,85)\"/><circle cx=\"184\" cy=\"374\" r=\"8\" fill=\"rgb(119,119,119)\"/><circle cx=\"277\" cy=\"347\" r=\"8\" fill=\"rgb(170,170,170)\"/><circle cx=\"279\" cy=\"54\" r=\"7\" fill=\"rgb(152,152,152)\"/><circle cx=\"306\" cy=\"117\" r=\"7\" fill=\"rgb(65,65,65)\"/><circle cx=\"156\" cy=\"108\" r=\"11\" fill=\"rgb(141,141,141)\"/><circle cx=\"126\" cy=\"347\" r=\"10\" fill=\"rgb(172,172,172)\"/></svg><svg viewBox='0 0 430 430' id=\"svg\" width=\"172\" height=\"172\"><circle cx=\"215\" cy=\"215\" r=\"205\" fill=\"none\" stroke=\"black\" stroke-width=\"2\" stroke-dasharray=\"3,3\"/> <circle cx=\"120\" cy=\"114\" r=\"12\" fill=\"rgb(255,254,254)\" class=\"agent_0_0\"/><circle cx=\"184\" cy=\"374\" r=\"8\" fill=\"rgb(255,254,254)\" class=\"agent_0_31\"/><circle cx=\"277\" cy=\"347\" r=\"8\" fill=\"rgb(255,254,254)\" class=\"agent_0_42\"/><circle cx=\"279\" cy=\"54\" r=\"7\" fill=\"rgb(255,254,254)\" class=\"agent_0_50\"/><circle cx=\"306\" cy=\"117\" r=\"7\" fill=\"rgb(255,1,1)\" class=\"agent_0_53\"/><circle cx=\"156\" cy=\"108\" r=\"11\" fill=\"rgb(255,254,254)\" class=\"agent_0_62\"/><circle cx=\"126\" cy=\"347\" r=\"10\" fill=\"rgb(255,254,254)\" class=\"agent_0_65\"/></svg></div>"
      ],
      "text/plain": [
       "<IPython.core.display.HTML object>"
      ]
     },
     "metadata": {},
     "output_type": "display_data"
    },
    {
     "name": "stdout",
     "output_type": "stream",
     "text": [
      "bob sel_pred\n"
     ]
    },
    {
     "data": {
      "text/html": [
       "<div style=\"white-space: nowrap\"><svg viewbox='0 0 430 430' width=\"172\" height=\"172\" id=\"agent_1\"><circle cx=\"215\" cy=\"215\" r=\"205\" fill=\"none\" stroke=\"black\" stroke-width=\"2\" stroke-dasharray=\"3,3\"/><circle cx=\"244\" cy=\"375\" r=\"9\" fill=\"rgb(188,188,188)\"/><circle cx=\"393\" cy=\"277\" r=\"7\" fill=\"rgb(139,139,139)\"/><circle cx=\"113\" cy=\"317\" r=\"8\" fill=\"rgb(119,119,119)\"/><circle cx=\"206\" cy=\"291\" r=\"8\" fill=\"rgb(170,170,170)\"/><circle cx=\"235\" cy=\"60\" r=\"7\" fill=\"rgb(65,65,65)\"/><circle cx=\"56\" cy=\"290\" r=\"10\" fill=\"rgb(172,172,172)\"/><circle cx=\"377\" cy=\"132\" r=\"10\" fill=\"rgb(178,178,178)\"/></svg><svg viewBox='0 0 430 430' id=\"svg\" width=\"172\" height=\"172\"><circle cx=\"215\" cy=\"215\" r=\"205\" fill=\"none\" stroke=\"black\" stroke-width=\"2\" stroke-dasharray=\"3,3\"/> <circle cx=\"244\" cy=\"375\" r=\"9\" fill=\"rgb(255,254,254)\" class=\"agent_1_4\"/><circle cx=\"393\" cy=\"277\" r=\"7\" fill=\"rgb(255,254,254)\" class=\"agent_1_6\"/><circle cx=\"113\" cy=\"317\" r=\"8\" fill=\"rgb(255,254,254)\" class=\"agent_1_31\"/><circle cx=\"206\" cy=\"291\" r=\"8\" fill=\"rgb(255,254,254)\" class=\"agent_1_42\"/><circle cx=\"235\" cy=\"60\" r=\"7\" fill=\"rgb(255,0,0)\" class=\"agent_1_53\"/><circle cx=\"56\" cy=\"290\" r=\"10\" fill=\"rgb(255,254,254)\" class=\"agent_1_65\"/><circle cx=\"377\" cy=\"132\" r=\"10\" fill=\"rgb(255,254,254)\" class=\"agent_1_72\"/></svg></div>"
      ],
      "text/plain": [
       "<IPython.core.display.HTML object>"
      ]
     },
     "metadata": {},
     "output_type": "display_data"
    },
    {
     "name": "stdout",
     "output_type": "stream",
     "text": [
      "agree!\n"
     ]
    },
    {
     "ename": "ZeroDivisionError",
     "evalue": "division by zero",
     "output_type": "error",
     "traceback": [
      "\u001b[0;31m---------------------------------------------------------------------------\u001b[0m",
      "\u001b[0;31mZeroDivisionError\u001b[0m                         Traceback (most recent call last)",
      "\u001b[0;32m<ipython-input-56-5252e051e802>\u001b[0m in \u001b[0;36m<module>\u001b[0;34m\u001b[0m\n\u001b[0;32m----> 1\u001b[0;31m \u001b[0mselfplay_contexts_and_mentions\u001b[0m\u001b[0;34m(\u001b[0m\u001b[0mselfplay_scenarios_list\u001b[0m\u001b[0;34m[\u001b[0m\u001b[0;36m1\u001b[0m\u001b[0;34m]\u001b[0m\u001b[0;34m,\u001b[0m \u001b[0mbeam_size\u001b[0m\u001b[0;34m=\u001b[0m\u001b[0;36m1\u001b[0m\u001b[0;34m,\u001b[0m \u001b[0mnext_mention_reranking\u001b[0m\u001b[0;34m=\u001b[0m\u001b[0;32mTrue\u001b[0m\u001b[0;34m,\u001b[0m \u001b[0mnext_mention_reranking_weight\u001b[0m\u001b[0;34m=\u001b[0m\u001b[0;36m1.0\u001b[0m\u001b[0;34m)\u001b[0m\u001b[0;34m\u001b[0m\u001b[0;34m\u001b[0m\u001b[0m\n\u001b[0m",
      "\u001b[0;32m<ipython-input-52-8a7184c7abb6>\u001b[0m in \u001b[0;36mselfplay_contexts_and_mentions\u001b[0;34m(scenario, model, max_sentences, inference, beam_size, sample_temperature, min_num_mentions, max_num_mentions, display_mention_marginals, display_referents, display_selection, mention_top_k, display_beam_candidates, next_mention_reranking, next_mention_reranking_k, next_mention_reranking_score, next_mention_reranking_weight, next_mention_candidate_generation)\u001b[0m\n\u001b[1;32m    278\u001b[0m                     \u001b[0mprint\u001b[0m\u001b[0;34m(\u001b[0m\u001b[0;34m\"disagree\"\u001b[0m\u001b[0;34m)\u001b[0m\u001b[0;34m\u001b[0m\u001b[0;34m\u001b[0m\u001b[0m\n\u001b[1;32m    279\u001b[0m             \u001b[0;31m# TODO: call reader selection here; did they agree?\u001b[0m\u001b[0;34m\u001b[0m\u001b[0;34m\u001b[0m\u001b[0;34m\u001b[0m\u001b[0m\n\u001b[0;32m--> 280\u001b[0;31m             \u001b[0;36m1\u001b[0m\u001b[0;34m/\u001b[0m\u001b[0;36m0\u001b[0m\u001b[0;34m\u001b[0m\u001b[0;34m\u001b[0m\u001b[0m\n\u001b[0m\u001b[1;32m    281\u001b[0m             \u001b[0;32mbreak\u001b[0m\u001b[0;34m\u001b[0m\u001b[0;34m\u001b[0m\u001b[0m\n\u001b[1;32m    282\u001b[0m         \u001b[0msentence_ix\u001b[0m \u001b[0;34m+=\u001b[0m \u001b[0;36m1\u001b[0m\u001b[0;34m\u001b[0m\u001b[0;34m\u001b[0m\u001b[0m\n",
      "\u001b[0;31mZeroDivisionError\u001b[0m: division by zero"
     ]
    },
    {
     "name": "stdout",
     "output_type": "stream",
     "text": [
      "> \u001b[0;32m<ipython-input-52-8a7184c7abb6>\u001b[0m(280)\u001b[0;36mselfplay_contexts_and_mentions\u001b[0;34m()\u001b[0m\n",
      "\u001b[0;32m    278 \u001b[0;31m                    \u001b[0mprint\u001b[0m\u001b[0;34m(\u001b[0m\u001b[0;34m\"disagree\"\u001b[0m\u001b[0;34m)\u001b[0m\u001b[0;34m\u001b[0m\u001b[0;34m\u001b[0m\u001b[0m\n",
      "\u001b[0m\u001b[0;32m    279 \u001b[0;31m            \u001b[0;31m# TODO: call reader selection here; did they agree?\u001b[0m\u001b[0;34m\u001b[0m\u001b[0;34m\u001b[0m\u001b[0;34m\u001b[0m\u001b[0m\n",
      "\u001b[0m\u001b[0;32m--> 280 \u001b[0;31m            \u001b[0;36m1\u001b[0m\u001b[0;34m/\u001b[0m\u001b[0;36m0\u001b[0m\u001b[0;34m\u001b[0m\u001b[0;34m\u001b[0m\u001b[0m\n",
      "\u001b[0m\u001b[0;32m    281 \u001b[0;31m            \u001b[0;32mbreak\u001b[0m\u001b[0;34m\u001b[0m\u001b[0;34m\u001b[0m\u001b[0m\n",
      "\u001b[0m\u001b[0;32m    282 \u001b[0;31m        \u001b[0msentence_ix\u001b[0m \u001b[0;34m+=\u001b[0m \u001b[0;36m1\u001b[0m\u001b[0;34m\u001b[0m\u001b[0;34m\u001b[0m\u001b[0m\n",
      "\u001b[0m\n",
      "ipdb> q\n"
     ]
    }
   ],
   "source": [
    "selfplay_contexts_and_mentions(selfplay_scenarios_list[1], beam_size=1, next_mention_reranking=True, next_mention_reranking_weight=1.0)"
   ]
  },
  {
   "cell_type": "code",
   "execution_count": 60,
   "metadata": {
    "scrolled": false
   },
   "outputs": [
    {
     "name": "stdout",
     "output_type": "stream",
     "text": [
      "found it\n",
      "max prob: 0.24879668653011322\n",
      "entropy: 1.8164732456207275\n",
      "alice sel_prob_now: tensor([0.0624, 0.1797, 0.0613, 0.2488, 0.2245, 0.0833, 0.1400],\n",
      "       grad_fn=<ViewBackward>)\n"
     ]
    },
    {
     "data": {
      "text/html": [
       "<div style=\"white-space: nowrap\"><svg viewbox='0 0 430 430' width=\"172\" height=\"172\" id=\"agent_0\"><circle cx=\"215\" cy=\"215\" r=\"205\" fill=\"none\" stroke=\"black\" stroke-width=\"2\" stroke-dasharray=\"3,3\"/><circle cx=\"140\" cy=\"330\" r=\"9\" fill=\"rgb(144,144,144)\"/><circle cx=\"321\" cy=\"154\" r=\"7\" fill=\"rgb(164,164,164)\"/><circle cx=\"88\" cy=\"205\" r=\"9\" fill=\"rgb(138,138,138)\"/><circle cx=\"162\" cy=\"153\" r=\"12\" fill=\"rgb(101,101,101)\"/><circle cx=\"197\" cy=\"293\" r=\"11\" fill=\"rgb(98,98,98)\"/><circle cx=\"226\" cy=\"378\" r=\"9\" fill=\"rgb(125,125,125)\"/><circle cx=\"389\" cy=\"300\" r=\"9\" fill=\"rgb(193,193,193)\"/></svg><svg viewBox='0 0 430 430' id=\"svg\" width=\"172\" height=\"172\"><circle cx=\"215\" cy=\"215\" r=\"205\" fill=\"none\" stroke=\"black\" stroke-width=\"2\" stroke-dasharray=\"3,3\"/> <circle cx=\"140\" cy=\"330\" r=\"9\" fill=\"rgb(255,239,239)\" class=\"agent_0_7\"/><circle cx=\"321\" cy=\"154\" r=\"7\" fill=\"rgb(255,209,209)\" class=\"agent_0_9\"/><circle cx=\"88\" cy=\"205\" r=\"9\" fill=\"rgb(255,239,239)\" class=\"agent_0_44\"/><circle cx=\"162\" cy=\"153\" r=\"12\" fill=\"rgb(255,191,191)\" class=\"agent_0_54\"/><circle cx=\"197\" cy=\"293\" r=\"11\" fill=\"rgb(255,197,197)\" class=\"agent_0_57\"/><circle cx=\"226\" cy=\"378\" r=\"9\" fill=\"rgb(255,233,233)\" class=\"agent_0_61\"/><circle cx=\"389\" cy=\"300\" r=\"9\" fill=\"rgb(255,219,219)\" class=\"agent_0_62\"/></svg></div>"
      ],
      "text/plain": [
       "<IPython.core.display.HTML object>"
      ]
     },
     "metadata": {},
     "output_type": "display_data"
    },
    {
     "name": "stdout",
     "output_type": "stream",
     "text": [
      "alice: no predicted mentions\n",
      "alice: hello ! where 's your dot ? <eos>\n",
      "alice detected markables:\n",
      "bob detected markables:\n",
      "\n",
      "----------------------------------------\n",
      "\n",
      "max prob: 0.23864564299583435\n",
      "entropy: 1.8541021347045898\n",
      "bob sel_prob_now: tensor([0.1613, 0.1130, 0.0552, 0.2134, 0.2386, 0.1231, 0.0955],\n",
      "       grad_fn=<ViewBackward>)\n"
     ]
    },
    {
     "data": {
      "text/html": [
       "<div style=\"white-space: nowrap\"><svg viewbox='0 0 430 430' width=\"172\" height=\"172\" id=\"agent_1\"><circle cx=\"215\" cy=\"215\" r=\"205\" fill=\"none\" stroke=\"black\" stroke-width=\"2\" stroke-dasharray=\"3,3\"/><circle cx=\"366\" cy=\"265\" r=\"7\" fill=\"rgb(164,164,164)\"/><circle cx=\"260\" cy=\"83\" r=\"10\" fill=\"rgb(168,168,168)\"/><circle cx=\"134\" cy=\"316\" r=\"9\" fill=\"rgb(138,138,138)\"/><circle cx=\"218\" cy=\"69\" r=\"7\" fill=\"rgb(198,198,198)\"/><circle cx=\"208\" cy=\"265\" r=\"12\" fill=\"rgb(101,101,101)\"/><circle cx=\"243\" cy=\"405\" r=\"11\" fill=\"rgb(98,98,98)\"/><circle cx=\"217\" cy=\"18\" r=\"10\" fill=\"rgb(156,156,156)\"/></svg><svg viewBox='0 0 430 430' id=\"svg\" width=\"172\" height=\"172\"><circle cx=\"215\" cy=\"215\" r=\"205\" fill=\"none\" stroke=\"black\" stroke-width=\"2\" stroke-dasharray=\"3,3\"/> <circle cx=\"366\" cy=\"265\" r=\"7\" fill=\"rgb(255,213,213)\" class=\"agent_1_9\"/><circle cx=\"260\" cy=\"83\" r=\"10\" fill=\"rgb(255,226,226)\" class=\"agent_1_35\"/><circle cx=\"134\" cy=\"316\" r=\"9\" fill=\"rgb(255,240,240)\" class=\"agent_1_44\"/><circle cx=\"218\" cy=\"69\" r=\"7\" fill=\"rgb(255,200,200)\" class=\"agent_1_46\"/><circle cx=\"208\" cy=\"265\" r=\"12\" fill=\"rgb(255,194,194)\" class=\"agent_1_54\"/><circle cx=\"243\" cy=\"405\" r=\"11\" fill=\"rgb(255,223,223)\" class=\"agent_1_57\"/><circle cx=\"217\" cy=\"18\" r=\"10\" fill=\"rgb(255,230,230)\" class=\"agent_1_58\"/></svg></div>"
      ],
      "text/plain": [
       "<IPython.core.display.HTML object>"
      ]
     },
     "metadata": {},
     "output_type": "display_data"
    },
    {
     "name": "stdout",
     "output_type": "stream",
     "text": [
      "bob to_mention_pred\n"
     ]
    },
    {
     "data": {
      "text/html": [
       "<div style=\"white-space: nowrap\"><svg viewbox='0 0 430 430' width=\"172\" height=\"172\" id=\"agent_1\"><circle cx=\"215\" cy=\"215\" r=\"205\" fill=\"none\" stroke=\"black\" stroke-width=\"2\" stroke-dasharray=\"3,3\"/><circle cx=\"366\" cy=\"265\" r=\"7\" fill=\"rgb(164,164,164)\"/><circle cx=\"260\" cy=\"83\" r=\"10\" fill=\"rgb(168,168,168)\"/><circle cx=\"134\" cy=\"316\" r=\"9\" fill=\"rgb(138,138,138)\"/><circle cx=\"218\" cy=\"69\" r=\"7\" fill=\"rgb(198,198,198)\"/><circle cx=\"208\" cy=\"265\" r=\"12\" fill=\"rgb(101,101,101)\"/><circle cx=\"243\" cy=\"405\" r=\"11\" fill=\"rgb(98,98,98)\"/><circle cx=\"217\" cy=\"18\" r=\"10\" fill=\"rgb(156,156,156)\"/></svg><svg viewBox='0 0 430 430' id=\"svg\" width=\"172\" height=\"172\"><circle cx=\"215\" cy=\"215\" r=\"205\" fill=\"none\" stroke=\"black\" stroke-width=\"2\" stroke-dasharray=\"3,3\"/> <circle cx=\"366\" cy=\"265\" r=\"7\" fill=\"rgb(255,255,255)\" class=\"agent_1_9\"/><circle cx=\"260\" cy=\"83\" r=\"10\" fill=\"rgb(255,0,0)\" class=\"agent_1_35\"/><circle cx=\"134\" cy=\"316\" r=\"9\" fill=\"rgb(255,255,255)\" class=\"agent_1_44\"/><circle cx=\"218\" cy=\"69\" r=\"7\" fill=\"rgb(255,0,0)\" class=\"agent_1_46\"/><circle cx=\"208\" cy=\"265\" r=\"12\" fill=\"rgb(255,255,255)\" class=\"agent_1_54\"/><circle cx=\"243\" cy=\"405\" r=\"11\" fill=\"rgb(255,255,255)\" class=\"agent_1_57\"/><circle cx=\"217\" cy=\"18\" r=\"10\" fill=\"rgb(255,0,0)\" class=\"agent_1_58\"/></svg><svg viewBox='0 0 430 430' id=\"svg\" width=\"172\" height=\"172\"><circle cx=\"215\" cy=\"215\" r=\"205\" fill=\"none\" stroke=\"black\" stroke-width=\"2\" stroke-dasharray=\"3,3\"/> <circle cx=\"366\" cy=\"265\" r=\"7\" fill=\"rgb(255,255,255)\" class=\"agent_1_9\"/><circle cx=\"260\" cy=\"83\" r=\"10\" fill=\"rgb(255,255,255)\" class=\"agent_1_35\"/><circle cx=\"134\" cy=\"316\" r=\"9\" fill=\"rgb(255,255,255)\" class=\"agent_1_44\"/><circle cx=\"218\" cy=\"69\" r=\"7\" fill=\"rgb(255,0,0)\" class=\"agent_1_46\"/><circle cx=\"208\" cy=\"265\" r=\"12\" fill=\"rgb(255,255,255)\" class=\"agent_1_54\"/><circle cx=\"243\" cy=\"405\" r=\"11\" fill=\"rgb(255,255,255)\" class=\"agent_1_57\"/><circle cx=\"217\" cy=\"18\" r=\"10\" fill=\"rgb(255,255,255)\" class=\"agent_1_58\"/></svg><svg viewBox='0 0 430 430' id=\"svg\" width=\"172\" height=\"172\"><circle cx=\"215\" cy=\"215\" r=\"205\" fill=\"none\" stroke=\"black\" stroke-width=\"2\" stroke-dasharray=\"3,3\"/> <circle cx=\"366\" cy=\"265\" r=\"7\" fill=\"rgb(255,255,255)\" class=\"agent_1_9\"/><circle cx=\"260\" cy=\"83\" r=\"10\" fill=\"rgb(255,0,0)\" class=\"agent_1_35\"/><circle cx=\"134\" cy=\"316\" r=\"9\" fill=\"rgb(255,255,255)\" class=\"agent_1_44\"/><circle cx=\"218\" cy=\"69\" r=\"7\" fill=\"rgb(255,255,255)\" class=\"agent_1_46\"/><circle cx=\"208\" cy=\"265\" r=\"12\" fill=\"rgb(255,255,255)\" class=\"agent_1_54\"/><circle cx=\"243\" cy=\"405\" r=\"11\" fill=\"rgb(255,255,255)\" class=\"agent_1_57\"/><circle cx=\"217\" cy=\"18\" r=\"10\" fill=\"rgb(255,255,255)\" class=\"agent_1_58\"/></svg></div>"
      ],
      "text/plain": [
       "<IPython.core.display.HTML object>"
      ]
     },
     "metadata": {},
     "output_type": "display_data"
    },
    {
     "name": "stdout",
     "output_type": "stream",
     "text": [
      "max prob: 0.715854287147522\n",
      "entropy: 0.7625024318695068\n",
      "bob sel_prob after pred: tensor([0.0014, 0.2373, 0.0015, 0.7159, 0.0043, 0.0033, 0.0363],\n",
      "       grad_fn=<ViewBackward>)\n"
     ]
    },
    {
     "data": {
      "text/html": [
       "<div style=\"white-space: nowrap\"><svg viewbox='0 0 430 430' width=\"172\" height=\"172\" id=\"agent_1\"><circle cx=\"215\" cy=\"215\" r=\"205\" fill=\"none\" stroke=\"black\" stroke-width=\"2\" stroke-dasharray=\"3,3\"/><circle cx=\"366\" cy=\"265\" r=\"7\" fill=\"rgb(164,164,164)\"/><circle cx=\"260\" cy=\"83\" r=\"10\" fill=\"rgb(168,168,168)\"/><circle cx=\"134\" cy=\"316\" r=\"9\" fill=\"rgb(138,138,138)\"/><circle cx=\"218\" cy=\"69\" r=\"7\" fill=\"rgb(198,198,198)\"/><circle cx=\"208\" cy=\"265\" r=\"12\" fill=\"rgb(101,101,101)\"/><circle cx=\"243\" cy=\"405\" r=\"11\" fill=\"rgb(98,98,98)\"/><circle cx=\"217\" cy=\"18\" r=\"10\" fill=\"rgb(156,156,156)\"/></svg><svg viewBox='0 0 430 430' id=\"svg\" width=\"172\" height=\"172\"><circle cx=\"215\" cy=\"215\" r=\"205\" fill=\"none\" stroke=\"black\" stroke-width=\"2\" stroke-dasharray=\"3,3\"/> <circle cx=\"366\" cy=\"265\" r=\"7\" fill=\"rgb(255,254,254)\" class=\"agent_1_9\"/><circle cx=\"260\" cy=\"83\" r=\"10\" fill=\"rgb(255,194,194)\" class=\"agent_1_35\"/><circle cx=\"134\" cy=\"316\" r=\"9\" fill=\"rgb(255,254,254)\" class=\"agent_1_44\"/><circle cx=\"218\" cy=\"69\" r=\"7\" fill=\"rgb(255,72,72)\" class=\"agent_1_46\"/><circle cx=\"208\" cy=\"265\" r=\"12\" fill=\"rgb(255,253,253)\" class=\"agent_1_54\"/><circle cx=\"243\" cy=\"405\" r=\"11\" fill=\"rgb(255,254,254)\" class=\"agent_1_57\"/><circle cx=\"217\" cy=\"18\" r=\"10\" fill=\"rgb(255,245,245)\" class=\"agent_1_58\"/></svg></div>"
      ],
      "text/plain": [
       "<IPython.core.display.HTML object>"
      ]
     },
     "metadata": {},
     "output_type": "display_data"
    },
    {
     "name": "stdout",
     "output_type": "stream",
     "text": [
      "bob: i have a cluster of 3 dots , two light grey , one light grey <eos>\n",
      "bob detected markables:\n",
      "{'start': 10, 'end': 29, 'is_self': True, 'text': 'a cluster of 3 dots'}\n",
      "{'start': 32, 'end': 35, 'is_self': True, 'text': 'two'}\n",
      "{'start': 49, 'end': 63, 'is_self': True, 'text': 'one light grey'}\n",
      "alice detected markables:\n",
      "{'start': 10, 'end': 29, 'is_self': True, 'text': 'a cluster of 3 dots'}\n",
      "{'start': 32, 'end': 35, 'is_self': True, 'text': 'two'}\n",
      "{'start': 49, 'end': 63, 'is_self': True, 'text': 'one light grey'}\n",
      "\n",
      "----------------------------------------\n",
      "\n",
      "max prob: 0.5730471611022949\n",
      "entropy: 1.1542396545410156\n",
      "alice sel_prob_now: tensor([0.0455, 0.2719, 0.0065, 0.0165, 0.0779, 0.0087, 0.5730],\n",
      "       grad_fn=<ViewBackward>)\n"
     ]
    },
    {
     "data": {
      "text/html": [
       "<div style=\"white-space: nowrap\"><svg viewbox='0 0 430 430' width=\"172\" height=\"172\" id=\"agent_0\"><circle cx=\"215\" cy=\"215\" r=\"205\" fill=\"none\" stroke=\"black\" stroke-width=\"2\" stroke-dasharray=\"3,3\"/><circle cx=\"140\" cy=\"330\" r=\"9\" fill=\"rgb(144,144,144)\"/><circle cx=\"321\" cy=\"154\" r=\"7\" fill=\"rgb(164,164,164)\"/><circle cx=\"88\" cy=\"205\" r=\"9\" fill=\"rgb(138,138,138)\"/><circle cx=\"162\" cy=\"153\" r=\"12\" fill=\"rgb(101,101,101)\"/><circle cx=\"197\" cy=\"293\" r=\"11\" fill=\"rgb(98,98,98)\"/><circle cx=\"226\" cy=\"378\" r=\"9\" fill=\"rgb(125,125,125)\"/><circle cx=\"389\" cy=\"300\" r=\"9\" fill=\"rgb(193,193,193)\"/></svg><svg viewBox='0 0 430 430' id=\"svg\" width=\"172\" height=\"172\"><circle cx=\"215\" cy=\"215\" r=\"205\" fill=\"none\" stroke=\"black\" stroke-width=\"2\" stroke-dasharray=\"3,3\"/> <circle cx=\"140\" cy=\"330\" r=\"9\" fill=\"rgb(255,243,243)\" class=\"agent_0_7\"/><circle cx=\"321\" cy=\"154\" r=\"7\" fill=\"rgb(255,185,185)\" class=\"agent_0_9\"/><circle cx=\"88\" cy=\"205\" r=\"9\" fill=\"rgb(255,253,253)\" class=\"agent_0_44\"/><circle cx=\"162\" cy=\"153\" r=\"12\" fill=\"rgb(255,250,250)\" class=\"agent_0_54\"/><circle cx=\"197\" cy=\"293\" r=\"11\" fill=\"rgb(255,235,235)\" class=\"agent_0_57\"/><circle cx=\"226\" cy=\"378\" r=\"9\" fill=\"rgb(255,252,252)\" class=\"agent_0_61\"/><circle cx=\"389\" cy=\"300\" r=\"9\" fill=\"rgb(255,108,108)\" class=\"agent_0_62\"/></svg></div>"
      ],
      "text/plain": [
       "<IPython.core.display.HTML object>"
      ]
     },
     "metadata": {},
     "output_type": "display_data"
    },
    {
     "name": "stdout",
     "output_type": "stream",
     "text": [
      "alice: no predicted mentions\n",
      "alice: ok <eos>\n",
      "alice detected markables:\n",
      "bob detected markables:\n",
      "\n",
      "----------------------------------------\n",
      "\n",
      "max prob: 0.9441927671432495\n",
      "entropy: 0.25319918990135193\n",
      "bob sel_prob_now: tensor([2.5662e-04, 4.2976e-02, 2.7465e-04, 9.4419e-01, 7.7721e-04, 6.0063e-04,\n",
      "        1.0922e-02], grad_fn=<ViewBackward>)\n"
     ]
    },
    {
     "data": {
      "text/html": [
       "<div style=\"white-space: nowrap\"><svg viewbox='0 0 430 430' width=\"172\" height=\"172\" id=\"agent_1\"><circle cx=\"215\" cy=\"215\" r=\"205\" fill=\"none\" stroke=\"black\" stroke-width=\"2\" stroke-dasharray=\"3,3\"/><circle cx=\"366\" cy=\"265\" r=\"7\" fill=\"rgb(164,164,164)\"/><circle cx=\"260\" cy=\"83\" r=\"10\" fill=\"rgb(168,168,168)\"/><circle cx=\"134\" cy=\"316\" r=\"9\" fill=\"rgb(138,138,138)\"/><circle cx=\"218\" cy=\"69\" r=\"7\" fill=\"rgb(198,198,198)\"/><circle cx=\"208\" cy=\"265\" r=\"12\" fill=\"rgb(101,101,101)\"/><circle cx=\"243\" cy=\"405\" r=\"11\" fill=\"rgb(98,98,98)\"/><circle cx=\"217\" cy=\"18\" r=\"10\" fill=\"rgb(156,156,156)\"/></svg><svg viewBox='0 0 430 430' id=\"svg\" width=\"172\" height=\"172\"><circle cx=\"215\" cy=\"215\" r=\"205\" fill=\"none\" stroke=\"black\" stroke-width=\"2\" stroke-dasharray=\"3,3\"/> <circle cx=\"366\" cy=\"265\" r=\"7\" fill=\"rgb(255,254,254)\" class=\"agent_1_9\"/><circle cx=\"260\" cy=\"83\" r=\"10\" fill=\"rgb(255,244,244)\" class=\"agent_1_35\"/><circle cx=\"134\" cy=\"316\" r=\"9\" fill=\"rgb(255,254,254)\" class=\"agent_1_44\"/><circle cx=\"218\" cy=\"69\" r=\"7\" fill=\"rgb(255,14,14)\" class=\"agent_1_46\"/><circle cx=\"208\" cy=\"265\" r=\"12\" fill=\"rgb(255,254,254)\" class=\"agent_1_54\"/><circle cx=\"243\" cy=\"405\" r=\"11\" fill=\"rgb(255,254,254)\" class=\"agent_1_57\"/><circle cx=\"217\" cy=\"18\" r=\"10\" fill=\"rgb(255,252,252)\" class=\"agent_1_58\"/></svg></div>"
      ],
      "text/plain": [
       "<IPython.core.display.HTML object>"
      ]
     },
     "metadata": {},
     "output_type": "display_data"
    },
    {
     "name": "stdout",
     "output_type": "stream",
     "text": [
      "bob to_mention_pred\n"
     ]
    },
    {
     "data": {
      "text/html": [
       "<div style=\"white-space: nowrap\"><svg viewbox='0 0 430 430' width=\"172\" height=\"172\" id=\"agent_1\"><circle cx=\"215\" cy=\"215\" r=\"205\" fill=\"none\" stroke=\"black\" stroke-width=\"2\" stroke-dasharray=\"3,3\"/><circle cx=\"366\" cy=\"265\" r=\"7\" fill=\"rgb(164,164,164)\"/><circle cx=\"260\" cy=\"83\" r=\"10\" fill=\"rgb(168,168,168)\"/><circle cx=\"134\" cy=\"316\" r=\"9\" fill=\"rgb(138,138,138)\"/><circle cx=\"218\" cy=\"69\" r=\"7\" fill=\"rgb(198,198,198)\"/><circle cx=\"208\" cy=\"265\" r=\"12\" fill=\"rgb(101,101,101)\"/><circle cx=\"243\" cy=\"405\" r=\"11\" fill=\"rgb(98,98,98)\"/><circle cx=\"217\" cy=\"18\" r=\"10\" fill=\"rgb(156,156,156)\"/></svg><svg viewBox='0 0 430 430' id=\"svg\" width=\"172\" height=\"172\"><circle cx=\"215\" cy=\"215\" r=\"205\" fill=\"none\" stroke=\"black\" stroke-width=\"2\" stroke-dasharray=\"3,3\"/> <circle cx=\"366\" cy=\"265\" r=\"7\" fill=\"rgb(255,255,255)\" class=\"agent_1_9\"/><circle cx=\"260\" cy=\"83\" r=\"10\" fill=\"rgb(255,255,255)\" class=\"agent_1_35\"/><circle cx=\"134\" cy=\"316\" r=\"9\" fill=\"rgb(255,255,255)\" class=\"agent_1_44\"/><circle cx=\"218\" cy=\"69\" r=\"7\" fill=\"rgb(255,0,0)\" class=\"agent_1_46\"/><circle cx=\"208\" cy=\"265\" r=\"12\" fill=\"rgb(255,255,255)\" class=\"agent_1_54\"/><circle cx=\"243\" cy=\"405\" r=\"11\" fill=\"rgb(255,255,255)\" class=\"agent_1_57\"/><circle cx=\"217\" cy=\"18\" r=\"10\" fill=\"rgb(255,255,255)\" class=\"agent_1_58\"/></svg></div>"
      ],
      "text/plain": [
       "<IPython.core.display.HTML object>"
      ]
     },
     "metadata": {},
     "output_type": "display_data"
    },
    {
     "name": "stdout",
     "output_type": "stream",
     "text": [
      "max prob: 0.9881551265716553\n",
      "entropy: 0.07778028398752213\n",
      "bob sel_prob after pred: tensor([1.7936e-04, 5.1817e-03, 2.2783e-04, 9.8816e-01, 5.5882e-04, 4.8203e-04,\n",
      "        5.2151e-03], grad_fn=<ViewBackward>)\n"
     ]
    },
    {
     "data": {
      "text/html": [
       "<div style=\"white-space: nowrap\"><svg viewbox='0 0 430 430' width=\"172\" height=\"172\" id=\"agent_1\"><circle cx=\"215\" cy=\"215\" r=\"205\" fill=\"none\" stroke=\"black\" stroke-width=\"2\" stroke-dasharray=\"3,3\"/><circle cx=\"366\" cy=\"265\" r=\"7\" fill=\"rgb(164,164,164)\"/><circle cx=\"260\" cy=\"83\" r=\"10\" fill=\"rgb(168,168,168)\"/><circle cx=\"134\" cy=\"316\" r=\"9\" fill=\"rgb(138,138,138)\"/><circle cx=\"218\" cy=\"69\" r=\"7\" fill=\"rgb(198,198,198)\"/><circle cx=\"208\" cy=\"265\" r=\"12\" fill=\"rgb(101,101,101)\"/><circle cx=\"243\" cy=\"405\" r=\"11\" fill=\"rgb(98,98,98)\"/><circle cx=\"217\" cy=\"18\" r=\"10\" fill=\"rgb(156,156,156)\"/></svg><svg viewBox='0 0 430 430' id=\"svg\" width=\"172\" height=\"172\"><circle cx=\"215\" cy=\"215\" r=\"205\" fill=\"none\" stroke=\"black\" stroke-width=\"2\" stroke-dasharray=\"3,3\"/> <circle cx=\"366\" cy=\"265\" r=\"7\" fill=\"rgb(255,254,254)\" class=\"agent_1_9\"/><circle cx=\"260\" cy=\"83\" r=\"10\" fill=\"rgb(255,253,253)\" class=\"agent_1_35\"/><circle cx=\"134\" cy=\"316\" r=\"9\" fill=\"rgb(255,254,254)\" class=\"agent_1_44\"/><circle cx=\"218\" cy=\"69\" r=\"7\" fill=\"rgb(255,3,3)\" class=\"agent_1_46\"/><circle cx=\"208\" cy=\"265\" r=\"12\" fill=\"rgb(255,254,254)\" class=\"agent_1_54\"/><circle cx=\"243\" cy=\"405\" r=\"11\" fill=\"rgb(255,254,254)\" class=\"agent_1_57\"/><circle cx=\"217\" cy=\"18\" r=\"10\" fill=\"rgb(255,253,253)\" class=\"agent_1_58\"/></svg></div>"
      ],
      "text/plain": [
       "<IPython.core.display.HTML object>"
      ]
     },
     "metadata": {},
     "output_type": "display_data"
    },
    {
     "name": "stdout",
     "output_type": "stream",
     "text": [
      "bob: let 's pick the small light grey dot <selection>\n",
      "bob detected markables:\n",
      "{'start': 15, 'end': 39, 'is_self': True, 'text': 'the small light grey dot'}\n",
      "alice detected markables:\n",
      "{'start': 15, 'end': 39, 'is_self': True, 'text': 'the small light grey dot'}\n",
      "\n",
      "----------------------------------------\n",
      "\n",
      "bob sel_pred\n"
     ]
    },
    {
     "data": {
      "text/html": [
       "<div style=\"white-space: nowrap\"><svg viewbox='0 0 430 430' width=\"172\" height=\"172\" id=\"agent_1\"><circle cx=\"215\" cy=\"215\" r=\"205\" fill=\"none\" stroke=\"black\" stroke-width=\"2\" stroke-dasharray=\"3,3\"/><circle cx=\"366\" cy=\"265\" r=\"7\" fill=\"rgb(164,164,164)\"/><circle cx=\"260\" cy=\"83\" r=\"10\" fill=\"rgb(168,168,168)\"/><circle cx=\"134\" cy=\"316\" r=\"9\" fill=\"rgb(138,138,138)\"/><circle cx=\"218\" cy=\"69\" r=\"7\" fill=\"rgb(198,198,198)\"/><circle cx=\"208\" cy=\"265\" r=\"12\" fill=\"rgb(101,101,101)\"/><circle cx=\"243\" cy=\"405\" r=\"11\" fill=\"rgb(98,98,98)\"/><circle cx=\"217\" cy=\"18\" r=\"10\" fill=\"rgb(156,156,156)\"/></svg><svg viewBox='0 0 430 430' id=\"svg\" width=\"172\" height=\"172\"><circle cx=\"215\" cy=\"215\" r=\"205\" fill=\"none\" stroke=\"black\" stroke-width=\"2\" stroke-dasharray=\"3,3\"/> <circle cx=\"366\" cy=\"265\" r=\"7\" fill=\"rgb(255,254,254)\" class=\"agent_1_9\"/><circle cx=\"260\" cy=\"83\" r=\"10\" fill=\"rgb(255,253,253)\" class=\"agent_1_35\"/><circle cx=\"134\" cy=\"316\" r=\"9\" fill=\"rgb(255,254,254)\" class=\"agent_1_44\"/><circle cx=\"218\" cy=\"69\" r=\"7\" fill=\"rgb(255,3,3)\" class=\"agent_1_46\"/><circle cx=\"208\" cy=\"265\" r=\"12\" fill=\"rgb(255,254,254)\" class=\"agent_1_54\"/><circle cx=\"243\" cy=\"405\" r=\"11\" fill=\"rgb(255,254,254)\" class=\"agent_1_57\"/><circle cx=\"217\" cy=\"18\" r=\"10\" fill=\"rgb(255,253,253)\" class=\"agent_1_58\"/></svg></div>"
      ],
      "text/plain": [
       "<IPython.core.display.HTML object>"
      ]
     },
     "metadata": {},
     "output_type": "display_data"
    },
    {
     "name": "stdout",
     "output_type": "stream",
     "text": [
      "alice sel_pred\n"
     ]
    },
    {
     "data": {
      "text/html": [
       "<div style=\"white-space: nowrap\"><svg viewbox='0 0 430 430' width=\"172\" height=\"172\" id=\"agent_0\"><circle cx=\"215\" cy=\"215\" r=\"205\" fill=\"none\" stroke=\"black\" stroke-width=\"2\" stroke-dasharray=\"3,3\"/><circle cx=\"140\" cy=\"330\" r=\"9\" fill=\"rgb(144,144,144)\"/><circle cx=\"321\" cy=\"154\" r=\"7\" fill=\"rgb(164,164,164)\"/><circle cx=\"88\" cy=\"205\" r=\"9\" fill=\"rgb(138,138,138)\"/><circle cx=\"162\" cy=\"153\" r=\"12\" fill=\"rgb(101,101,101)\"/><circle cx=\"197\" cy=\"293\" r=\"11\" fill=\"rgb(98,98,98)\"/><circle cx=\"226\" cy=\"378\" r=\"9\" fill=\"rgb(125,125,125)\"/><circle cx=\"389\" cy=\"300\" r=\"9\" fill=\"rgb(193,193,193)\"/></svg><svg viewBox='0 0 430 430' id=\"svg\" width=\"172\" height=\"172\"><circle cx=\"215\" cy=\"215\" r=\"205\" fill=\"none\" stroke=\"black\" stroke-width=\"2\" stroke-dasharray=\"3,3\"/> <circle cx=\"140\" cy=\"330\" r=\"9\" fill=\"rgb(255,251,251)\" class=\"agent_0_7\"/><circle cx=\"321\" cy=\"154\" r=\"7\" fill=\"rgb(255,28,28)\" class=\"agent_0_9\"/><circle cx=\"88\" cy=\"205\" r=\"9\" fill=\"rgb(255,254,254)\" class=\"agent_0_44\"/><circle cx=\"162\" cy=\"153\" r=\"12\" fill=\"rgb(255,253,253)\" class=\"agent_0_54\"/><circle cx=\"197\" cy=\"293\" r=\"11\" fill=\"rgb(255,245,245)\" class=\"agent_0_57\"/><circle cx=\"226\" cy=\"378\" r=\"9\" fill=\"rgb(255,254,254)\" class=\"agent_0_61\"/><circle cx=\"389\" cy=\"300\" r=\"9\" fill=\"rgb(255,241,241)\" class=\"agent_0_62\"/></svg></div>"
      ],
      "text/plain": [
       "<IPython.core.display.HTML object>"
      ]
     },
     "metadata": {},
     "output_type": "display_data"
    },
    {
     "name": "stdout",
     "output_type": "stream",
     "text": [
      "disagree\n"
     ]
    }
   ],
   "source": [
    "selfplay_contexts_and_mentions(selfplay_scenarios_list[2], beam_size=1)"
   ]
  },
  {
   "cell_type": "code",
   "execution_count": 62,
   "metadata": {
    "scrolled": false
   },
   "outputs": [
    {
     "name": "stdout",
     "output_type": "stream",
     "text": [
      "found it\n",
      "max prob: 0.24576880037784576\n",
      "entropy: 1.8170433044433594\n",
      "alice sel_prob_now: tensor([0.2458, 0.0634, 0.1093, 0.0644, 0.0943, 0.1968, 0.2260],\n",
      "       grad_fn=<ViewBackward>)\n"
     ]
    },
    {
     "data": {
      "text/html": [
       "<div style=\"white-space: nowrap\"><svg viewbox='0 0 430 430' width=\"172\" height=\"172\" id=\"agent_0\"><circle cx=\"215\" cy=\"215\" r=\"205\" fill=\"none\" stroke=\"black\" stroke-width=\"2\" stroke-dasharray=\"3,3\"/><circle cx=\"163\" cy=\"184\" r=\"11\" fill=\"rgb(74,74,74)\"/><circle cx=\"130\" cy=\"135\" r=\"9\" fill=\"rgb(169,169,169)\"/><circle cx=\"366\" cy=\"307\" r=\"10\" fill=\"rgb(96,96,96)\"/><circle cx=\"165\" cy=\"114\" r=\"11\" fill=\"rgb(148,148,148)\"/><circle cx=\"240\" cy=\"178\" r=\"10\" fill=\"rgb(186,186,186)\"/><circle cx=\"354\" cy=\"179\" r=\"7\" fill=\"rgb(113,113,113)\"/><circle cx=\"288\" cy=\"51\" r=\"13\" fill=\"rgb(104,104,104)\"/></svg><svg viewBox='0 0 430 430' id=\"svg\" width=\"172\" height=\"172\"><circle cx=\"215\" cy=\"215\" r=\"205\" fill=\"none\" stroke=\"black\" stroke-width=\"2\" stroke-dasharray=\"3,3\"/> <circle cx=\"163\" cy=\"184\" r=\"11\" fill=\"rgb(255,192,192)\" class=\"agent_0_8\"/><circle cx=\"130\" cy=\"135\" r=\"9\" fill=\"rgb(255,238,238)\" class=\"agent_0_18\"/><circle cx=\"366\" cy=\"307\" r=\"10\" fill=\"rgb(255,227,227)\" class=\"agent_0_26\"/><circle cx=\"165\" cy=\"114\" r=\"11\" fill=\"rgb(255,238,238)\" class=\"agent_0_30\"/><circle cx=\"240\" cy=\"178\" r=\"10\" fill=\"rgb(255,230,230)\" class=\"agent_0_39\"/><circle cx=\"354\" cy=\"179\" r=\"7\" fill=\"rgb(255,204,204)\" class=\"agent_0_41\"/><circle cx=\"288\" cy=\"51\" r=\"13\" fill=\"rgb(255,197,197)\" class=\"agent_0_57\"/></svg></div>"
      ],
      "text/plain": [
       "<IPython.core.display.HTML object>"
      ]
     },
     "metadata": {},
     "output_type": "display_data"
    },
    {
     "name": "stdout",
     "output_type": "stream",
     "text": [
      "alice to_mention_pred\n"
     ]
    },
    {
     "data": {
      "text/html": [
       "<div style=\"white-space: nowrap\"><svg viewbox='0 0 430 430' width=\"172\" height=\"172\" id=\"agent_0\"><circle cx=\"215\" cy=\"215\" r=\"205\" fill=\"none\" stroke=\"black\" stroke-width=\"2\" stroke-dasharray=\"3,3\"/><circle cx=\"163\" cy=\"184\" r=\"11\" fill=\"rgb(74,74,74)\"/><circle cx=\"130\" cy=\"135\" r=\"9\" fill=\"rgb(169,169,169)\"/><circle cx=\"366\" cy=\"307\" r=\"10\" fill=\"rgb(96,96,96)\"/><circle cx=\"165\" cy=\"114\" r=\"11\" fill=\"rgb(148,148,148)\"/><circle cx=\"240\" cy=\"178\" r=\"10\" fill=\"rgb(186,186,186)\"/><circle cx=\"354\" cy=\"179\" r=\"7\" fill=\"rgb(113,113,113)\"/><circle cx=\"288\" cy=\"51\" r=\"13\" fill=\"rgb(104,104,104)\"/></svg><svg viewBox='0 0 430 430' id=\"svg\" width=\"172\" height=\"172\"><circle cx=\"215\" cy=\"215\" r=\"205\" fill=\"none\" stroke=\"black\" stroke-width=\"2\" stroke-dasharray=\"3,3\"/> <circle cx=\"163\" cy=\"184\" r=\"11\" fill=\"rgb(255,0,0)\" class=\"agent_0_8\"/><circle cx=\"130\" cy=\"135\" r=\"9\" fill=\"rgb(255,0,0)\" class=\"agent_0_18\"/><circle cx=\"366\" cy=\"307\" r=\"10\" fill=\"rgb(255,255,255)\" class=\"agent_0_26\"/><circle cx=\"165\" cy=\"114\" r=\"11\" fill=\"rgb(255,0,0)\" class=\"agent_0_30\"/><circle cx=\"240\" cy=\"178\" r=\"10\" fill=\"rgb(255,0,0)\" class=\"agent_0_39\"/><circle cx=\"354\" cy=\"179\" r=\"7\" fill=\"rgb(255,255,255)\" class=\"agent_0_41\"/><circle cx=\"288\" cy=\"51\" r=\"13\" fill=\"rgb(255,255,255)\" class=\"agent_0_57\"/></svg><svg viewBox='0 0 430 430' id=\"svg\" width=\"172\" height=\"172\"><circle cx=\"215\" cy=\"215\" r=\"205\" fill=\"none\" stroke=\"black\" stroke-width=\"2\" stroke-dasharray=\"3,3\"/> <circle cx=\"163\" cy=\"184\" r=\"11\" fill=\"rgb(255,0,0)\" class=\"agent_0_8\"/><circle cx=\"130\" cy=\"135\" r=\"9\" fill=\"rgb(255,255,255)\" class=\"agent_0_18\"/><circle cx=\"366\" cy=\"307\" r=\"10\" fill=\"rgb(255,255,255)\" class=\"agent_0_26\"/><circle cx=\"165\" cy=\"114\" r=\"11\" fill=\"rgb(255,255,255)\" class=\"agent_0_30\"/><circle cx=\"240\" cy=\"178\" r=\"10\" fill=\"rgb(255,255,255)\" class=\"agent_0_39\"/><circle cx=\"354\" cy=\"179\" r=\"7\" fill=\"rgb(255,255,255)\" class=\"agent_0_41\"/><circle cx=\"288\" cy=\"51\" r=\"13\" fill=\"rgb(255,255,255)\" class=\"agent_0_57\"/></svg><svg viewBox='0 0 430 430' id=\"svg\" width=\"172\" height=\"172\"><circle cx=\"215\" cy=\"215\" r=\"205\" fill=\"none\" stroke=\"black\" stroke-width=\"2\" stroke-dasharray=\"3,3\"/> <circle cx=\"163\" cy=\"184\" r=\"11\" fill=\"rgb(255,255,255)\" class=\"agent_0_8\"/><circle cx=\"130\" cy=\"135\" r=\"9\" fill=\"rgb(255,255,255)\" class=\"agent_0_18\"/><circle cx=\"366\" cy=\"307\" r=\"10\" fill=\"rgb(255,255,255)\" class=\"agent_0_26\"/><circle cx=\"165\" cy=\"114\" r=\"11\" fill=\"rgb(255,255,255)\" class=\"agent_0_30\"/><circle cx=\"240\" cy=\"178\" r=\"10\" fill=\"rgb(255,0,0)\" class=\"agent_0_39\"/><circle cx=\"354\" cy=\"179\" r=\"7\" fill=\"rgb(255,255,255)\" class=\"agent_0_41\"/><circle cx=\"288\" cy=\"51\" r=\"13\" fill=\"rgb(255,255,255)\" class=\"agent_0_57\"/></svg></div>"
      ],
      "text/plain": [
       "<IPython.core.display.HTML object>"
      ]
     },
     "metadata": {},
     "output_type": "display_data"
    },
    {
     "name": "stdout",
     "output_type": "stream",
     "text": [
      "max prob: 0.5206666588783264\n",
      "entropy: 1.0396435260772705\n",
      "alice sel_prob after pred: tensor([0.5207, 0.0464, 0.0039, 0.0371, 0.3835, 0.0031, 0.0054],\n",
      "       grad_fn=<ViewBackward>)\n"
     ]
    },
    {
     "data": {
      "text/html": [
       "<div style=\"white-space: nowrap\"><svg viewbox='0 0 430 430' width=\"172\" height=\"172\" id=\"agent_0\"><circle cx=\"215\" cy=\"215\" r=\"205\" fill=\"none\" stroke=\"black\" stroke-width=\"2\" stroke-dasharray=\"3,3\"/><circle cx=\"163\" cy=\"184\" r=\"11\" fill=\"rgb(74,74,74)\"/><circle cx=\"130\" cy=\"135\" r=\"9\" fill=\"rgb(169,169,169)\"/><circle cx=\"366\" cy=\"307\" r=\"10\" fill=\"rgb(96,96,96)\"/><circle cx=\"165\" cy=\"114\" r=\"11\" fill=\"rgb(148,148,148)\"/><circle cx=\"240\" cy=\"178\" r=\"10\" fill=\"rgb(186,186,186)\"/><circle cx=\"354\" cy=\"179\" r=\"7\" fill=\"rgb(113,113,113)\"/><circle cx=\"288\" cy=\"51\" r=\"13\" fill=\"rgb(104,104,104)\"/></svg><svg viewBox='0 0 430 430' id=\"svg\" width=\"172\" height=\"172\"><circle cx=\"215\" cy=\"215\" r=\"205\" fill=\"none\" stroke=\"black\" stroke-width=\"2\" stroke-dasharray=\"3,3\"/> <circle cx=\"163\" cy=\"184\" r=\"11\" fill=\"rgb(255,122,122)\" class=\"agent_0_8\"/><circle cx=\"130\" cy=\"135\" r=\"9\" fill=\"rgb(255,243,243)\" class=\"agent_0_18\"/><circle cx=\"366\" cy=\"307\" r=\"10\" fill=\"rgb(255,254,254)\" class=\"agent_0_26\"/><circle cx=\"165\" cy=\"114\" r=\"11\" fill=\"rgb(255,245,245)\" class=\"agent_0_30\"/><circle cx=\"240\" cy=\"178\" r=\"10\" fill=\"rgb(255,157,157)\" class=\"agent_0_39\"/><circle cx=\"354\" cy=\"179\" r=\"7\" fill=\"rgb(255,254,254)\" class=\"agent_0_41\"/><circle cx=\"288\" cy=\"51\" r=\"13\" fill=\"rgb(255,253,253)\" class=\"agent_0_57\"/></svg></div>"
      ],
      "text/plain": [
       "<IPython.core.display.HTML object>"
      ]
     },
     "metadata": {},
     "output_type": "display_data"
    },
    {
     "name": "stdout",
     "output_type": "stream",
     "text": [
      "alice: i have a cluster of 4 dots . one is black and the other is light grey <eos>\n",
      "alice detected markables:\n",
      "{'start': 10, 'end': 29, 'is_self': True, 'text': 'a cluster of 4 dots'}\n",
      "{'start': 32, 'end': 35, 'is_self': True, 'text': 'one'}\n",
      "{'start': 49, 'end': 58, 'is_self': True, 'text': 'the other'}\n",
      "bob detected markables:\n",
      "{'start': 10, 'end': 29, 'is_self': True, 'text': 'a cluster of 4 dots'}\n",
      "{'start': 32, 'end': 35, 'is_self': True, 'text': 'one'}\n",
      "{'start': 49, 'end': 58, 'is_self': True, 'text': 'the other'}\n",
      "\n",
      "----------------------------------------\n",
      "\n",
      "max prob: 0.5769364833831787\n",
      "entropy: 0.9982655644416809\n",
      "bob sel_prob_now: tensor([0.0072, 0.0045, 0.5769, 0.0457, 0.0279, 0.3355, 0.0023],\n",
      "       grad_fn=<ViewBackward>)\n"
     ]
    },
    {
     "data": {
      "text/html": [
       "<div style=\"white-space: nowrap\"><svg viewbox='0 0 430 430' width=\"172\" height=\"172\" id=\"agent_1\"><circle cx=\"215\" cy=\"215\" r=\"205\" fill=\"none\" stroke=\"black\" stroke-width=\"2\" stroke-dasharray=\"3,3\"/><circle cx=\"85\" cy=\"226\" r=\"12\" fill=\"rgb(71,71,71)\"/><circle cx=\"109\" cy=\"354\" r=\"12\" fill=\"rgb(117,117,117)\"/><circle cx=\"299\" cy=\"311\" r=\"11\" fill=\"rgb(74,74,74)\"/><circle cx=\"266\" cy=\"263\" r=\"9\" fill=\"rgb(169,169,169)\"/><circle cx=\"301\" cy=\"241\" r=\"11\" fill=\"rgb(148,148,148)\"/><circle cx=\"376\" cy=\"305\" r=\"10\" fill=\"rgb(186,186,186)\"/><circle cx=\"61\" cy=\"205\" r=\"12\" fill=\"rgb(176,176,176)\"/></svg><svg viewBox='0 0 430 430' id=\"svg\" width=\"172\" height=\"172\"><circle cx=\"215\" cy=\"215\" r=\"205\" fill=\"none\" stroke=\"black\" stroke-width=\"2\" stroke-dasharray=\"3,3\"/> <circle cx=\"85\" cy=\"226\" r=\"12\" fill=\"rgb(255,253,253)\" class=\"agent_1_3\"/><circle cx=\"109\" cy=\"354\" r=\"12\" fill=\"rgb(255,253,253)\" class=\"agent_1_7\"/><circle cx=\"299\" cy=\"311\" r=\"11\" fill=\"rgb(255,107,107)\" class=\"agent_1_8\"/><circle cx=\"266\" cy=\"263\" r=\"9\" fill=\"rgb(255,243,243)\" class=\"agent_1_18\"/><circle cx=\"301\" cy=\"241\" r=\"11\" fill=\"rgb(255,247,247)\" class=\"agent_1_30\"/><circle cx=\"376\" cy=\"305\" r=\"10\" fill=\"rgb(255,169,169)\" class=\"agent_1_39\"/><circle cx=\"61\" cy=\"205\" r=\"12\" fill=\"rgb(255,254,254)\" class=\"agent_1_48\"/></svg></div>"
      ],
      "text/plain": [
       "<IPython.core.display.HTML object>"
      ]
     },
     "metadata": {},
     "output_type": "display_data"
    },
    {
     "name": "stdout",
     "output_type": "stream",
     "text": [
      "bob to_mention_pred\n"
     ]
    },
    {
     "data": {
      "text/html": [
       "<div style=\"white-space: nowrap\"><svg viewbox='0 0 430 430' width=\"172\" height=\"172\" id=\"agent_1\"><circle cx=\"215\" cy=\"215\" r=\"205\" fill=\"none\" stroke=\"black\" stroke-width=\"2\" stroke-dasharray=\"3,3\"/><circle cx=\"85\" cy=\"226\" r=\"12\" fill=\"rgb(71,71,71)\"/><circle cx=\"109\" cy=\"354\" r=\"12\" fill=\"rgb(117,117,117)\"/><circle cx=\"299\" cy=\"311\" r=\"11\" fill=\"rgb(74,74,74)\"/><circle cx=\"266\" cy=\"263\" r=\"9\" fill=\"rgb(169,169,169)\"/><circle cx=\"301\" cy=\"241\" r=\"11\" fill=\"rgb(148,148,148)\"/><circle cx=\"376\" cy=\"305\" r=\"10\" fill=\"rgb(186,186,186)\"/><circle cx=\"61\" cy=\"205\" r=\"12\" fill=\"rgb(176,176,176)\"/></svg><svg viewBox='0 0 430 430' id=\"svg\" width=\"172\" height=\"172\"><circle cx=\"215\" cy=\"215\" r=\"205\" fill=\"none\" stroke=\"black\" stroke-width=\"2\" stroke-dasharray=\"3,3\"/> <circle cx=\"85\" cy=\"226\" r=\"12\" fill=\"rgb(255,255,255)\" class=\"agent_1_3\"/><circle cx=\"109\" cy=\"354\" r=\"12\" fill=\"rgb(255,255,255)\" class=\"agent_1_7\"/><circle cx=\"299\" cy=\"311\" r=\"11\" fill=\"rgb(255,255,255)\" class=\"agent_1_8\"/><circle cx=\"266\" cy=\"263\" r=\"9\" fill=\"rgb(255,255,255)\" class=\"agent_1_18\"/><circle cx=\"301\" cy=\"241\" r=\"11\" fill=\"rgb(255,255,255)\" class=\"agent_1_30\"/><circle cx=\"376\" cy=\"305\" r=\"10\" fill=\"rgb(255,255,255)\" class=\"agent_1_39\"/><circle cx=\"61\" cy=\"205\" r=\"12\" fill=\"rgb(255,255,255)\" class=\"agent_1_48\"/></svg></div>"
      ],
      "text/plain": [
       "<IPython.core.display.HTML object>"
      ]
     },
     "metadata": {},
     "output_type": "display_data"
    },
    {
     "name": "stdout",
     "output_type": "stream",
     "text": [
      "max prob: 0.48474588990211487\n",
      "entropy: 1.3848052024841309\n",
      "bob sel_prob after pred: tensor([0.0203, 0.0154, 0.4847, 0.1065, 0.1478, 0.2175, 0.0077],\n",
      "       grad_fn=<ViewBackward>)\n"
     ]
    },
    {
     "data": {
      "text/html": [
       "<div style=\"white-space: nowrap\"><svg viewbox='0 0 430 430' width=\"172\" height=\"172\" id=\"agent_1\"><circle cx=\"215\" cy=\"215\" r=\"205\" fill=\"none\" stroke=\"black\" stroke-width=\"2\" stroke-dasharray=\"3,3\"/><circle cx=\"85\" cy=\"226\" r=\"12\" fill=\"rgb(71,71,71)\"/><circle cx=\"109\" cy=\"354\" r=\"12\" fill=\"rgb(117,117,117)\"/><circle cx=\"299\" cy=\"311\" r=\"11\" fill=\"rgb(74,74,74)\"/><circle cx=\"266\" cy=\"263\" r=\"9\" fill=\"rgb(169,169,169)\"/><circle cx=\"301\" cy=\"241\" r=\"11\" fill=\"rgb(148,148,148)\"/><circle cx=\"376\" cy=\"305\" r=\"10\" fill=\"rgb(186,186,186)\"/><circle cx=\"61\" cy=\"205\" r=\"12\" fill=\"rgb(176,176,176)\"/></svg><svg viewBox='0 0 430 430' id=\"svg\" width=\"172\" height=\"172\"><circle cx=\"215\" cy=\"215\" r=\"205\" fill=\"none\" stroke=\"black\" stroke-width=\"2\" stroke-dasharray=\"3,3\"/> <circle cx=\"85\" cy=\"226\" r=\"12\" fill=\"rgb(255,249,249)\" class=\"agent_1_3\"/><circle cx=\"109\" cy=\"354\" r=\"12\" fill=\"rgb(255,251,251)\" class=\"agent_1_7\"/><circle cx=\"299\" cy=\"311\" r=\"11\" fill=\"rgb(255,131,131)\" class=\"agent_1_8\"/><circle cx=\"266\" cy=\"263\" r=\"9\" fill=\"rgb(255,227,227)\" class=\"agent_1_18\"/><circle cx=\"301\" cy=\"241\" r=\"11\" fill=\"rgb(255,217,217)\" class=\"agent_1_30\"/><circle cx=\"376\" cy=\"305\" r=\"10\" fill=\"rgb(255,199,199)\" class=\"agent_1_39\"/><circle cx=\"61\" cy=\"205\" r=\"12\" fill=\"rgb(255,253,253)\" class=\"agent_1_48\"/></svg></div>"
      ],
      "text/plain": [
       "<IPython.core.display.HTML object>"
      ]
     },
     "metadata": {},
     "output_type": "display_data"
    },
    {
     "name": "stdout",
     "output_type": "stream",
     "text": [
      "bob: no , i do n't have that <eos>\n",
      "bob detected markables:\n",
      "{'start': 22, 'end': 26, 'is_self': True, 'text': 'that'}\n",
      "alice detected markables:\n",
      "{'start': 22, 'end': 26, 'is_self': True, 'text': 'that'}\n",
      "\n",
      "----------------------------------------\n",
      "\n",
      "max prob: 0.42534521222114563\n",
      "entropy: 1.5024348497390747\n",
      "alice sel_prob_now: tensor([0.4253, 0.1084, 0.0291, 0.1473, 0.2450, 0.0158, 0.0291],\n",
      "       grad_fn=<ViewBackward>)\n"
     ]
    },
    {
     "data": {
      "text/html": [
       "<div style=\"white-space: nowrap\"><svg viewbox='0 0 430 430' width=\"172\" height=\"172\" id=\"agent_0\"><circle cx=\"215\" cy=\"215\" r=\"205\" fill=\"none\" stroke=\"black\" stroke-width=\"2\" stroke-dasharray=\"3,3\"/><circle cx=\"163\" cy=\"184\" r=\"11\" fill=\"rgb(74,74,74)\"/><circle cx=\"130\" cy=\"135\" r=\"9\" fill=\"rgb(169,169,169)\"/><circle cx=\"366\" cy=\"307\" r=\"10\" fill=\"rgb(96,96,96)\"/><circle cx=\"165\" cy=\"114\" r=\"11\" fill=\"rgb(148,148,148)\"/><circle cx=\"240\" cy=\"178\" r=\"10\" fill=\"rgb(186,186,186)\"/><circle cx=\"354\" cy=\"179\" r=\"7\" fill=\"rgb(113,113,113)\"/><circle cx=\"288\" cy=\"51\" r=\"13\" fill=\"rgb(104,104,104)\"/></svg><svg viewBox='0 0 430 430' id=\"svg\" width=\"172\" height=\"172\"><circle cx=\"215\" cy=\"215\" r=\"205\" fill=\"none\" stroke=\"black\" stroke-width=\"2\" stroke-dasharray=\"3,3\"/> <circle cx=\"163\" cy=\"184\" r=\"11\" fill=\"rgb(255,146,146)\" class=\"agent_0_8\"/><circle cx=\"130\" cy=\"135\" r=\"9\" fill=\"rgb(255,227,227)\" class=\"agent_0_18\"/><circle cx=\"366\" cy=\"307\" r=\"10\" fill=\"rgb(255,247,247)\" class=\"agent_0_26\"/><circle cx=\"165\" cy=\"114\" r=\"11\" fill=\"rgb(255,217,217)\" class=\"agent_0_30\"/><circle cx=\"240\" cy=\"178\" r=\"10\" fill=\"rgb(255,192,192)\" class=\"agent_0_39\"/><circle cx=\"354\" cy=\"179\" r=\"7\" fill=\"rgb(255,250,250)\" class=\"agent_0_41\"/><circle cx=\"288\" cy=\"51\" r=\"13\" fill=\"rgb(255,247,247)\" class=\"agent_0_57\"/></svg></div>"
      ],
      "text/plain": [
       "<IPython.core.display.HTML object>"
      ]
     },
     "metadata": {},
     "output_type": "display_data"
    },
    {
     "name": "stdout",
     "output_type": "stream",
     "text": [
      "alice to_mention_pred\n"
     ]
    },
    {
     "data": {
      "text/html": [
       "<div style=\"white-space: nowrap\"><svg viewbox='0 0 430 430' width=\"172\" height=\"172\" id=\"agent_0\"><circle cx=\"215\" cy=\"215\" r=\"205\" fill=\"none\" stroke=\"black\" stroke-width=\"2\" stroke-dasharray=\"3,3\"/><circle cx=\"163\" cy=\"184\" r=\"11\" fill=\"rgb(74,74,74)\"/><circle cx=\"130\" cy=\"135\" r=\"9\" fill=\"rgb(169,169,169)\"/><circle cx=\"366\" cy=\"307\" r=\"10\" fill=\"rgb(96,96,96)\"/><circle cx=\"165\" cy=\"114\" r=\"11\" fill=\"rgb(148,148,148)\"/><circle cx=\"240\" cy=\"178\" r=\"10\" fill=\"rgb(186,186,186)\"/><circle cx=\"354\" cy=\"179\" r=\"7\" fill=\"rgb(113,113,113)\"/><circle cx=\"288\" cy=\"51\" r=\"13\" fill=\"rgb(104,104,104)\"/></svg><svg viewBox='0 0 430 430' id=\"svg\" width=\"172\" height=\"172\"><circle cx=\"215\" cy=\"215\" r=\"205\" fill=\"none\" stroke=\"black\" stroke-width=\"2\" stroke-dasharray=\"3,3\"/> <circle cx=\"163\" cy=\"184\" r=\"11\" fill=\"rgb(255,255,255)\" class=\"agent_0_8\"/><circle cx=\"130\" cy=\"135\" r=\"9\" fill=\"rgb(255,255,255)\" class=\"agent_0_18\"/><circle cx=\"366\" cy=\"307\" r=\"10\" fill=\"rgb(255,255,255)\" class=\"agent_0_26\"/><circle cx=\"165\" cy=\"114\" r=\"11\" fill=\"rgb(255,255,255)\" class=\"agent_0_30\"/><circle cx=\"240\" cy=\"178\" r=\"10\" fill=\"rgb(255,255,255)\" class=\"agent_0_39\"/><circle cx=\"354\" cy=\"179\" r=\"7\" fill=\"rgb(255,255,255)\" class=\"agent_0_41\"/><circle cx=\"288\" cy=\"51\" r=\"13\" fill=\"rgb(255,255,255)\" class=\"agent_0_57\"/></svg></div>"
      ],
      "text/plain": [
       "<IPython.core.display.HTML object>"
      ]
     },
     "metadata": {},
     "output_type": "display_data"
    },
    {
     "name": "stdout",
     "output_type": "stream",
     "text": [
      "max prob: 0.33551251888275146\n",
      "entropy: 1.796583890914917\n",
      "alice sel_prob after pred: tensor([0.3355, 0.0849, 0.1111, 0.1579, 0.1481, 0.0602, 0.1022],\n",
      "       grad_fn=<ViewBackward>)\n"
     ]
    },
    {
     "data": {
      "text/html": [
       "<div style=\"white-space: nowrap\"><svg viewbox='0 0 430 430' width=\"172\" height=\"172\" id=\"agent_0\"><circle cx=\"215\" cy=\"215\" r=\"205\" fill=\"none\" stroke=\"black\" stroke-width=\"2\" stroke-dasharray=\"3,3\"/><circle cx=\"163\" cy=\"184\" r=\"11\" fill=\"rgb(74,74,74)\"/><circle cx=\"130\" cy=\"135\" r=\"9\" fill=\"rgb(169,169,169)\"/><circle cx=\"366\" cy=\"307\" r=\"10\" fill=\"rgb(96,96,96)\"/><circle cx=\"165\" cy=\"114\" r=\"11\" fill=\"rgb(148,148,148)\"/><circle cx=\"240\" cy=\"178\" r=\"10\" fill=\"rgb(186,186,186)\"/><circle cx=\"354\" cy=\"179\" r=\"7\" fill=\"rgb(113,113,113)\"/><circle cx=\"288\" cy=\"51\" r=\"13\" fill=\"rgb(104,104,104)\"/></svg><svg viewBox='0 0 430 430' id=\"svg\" width=\"172\" height=\"172\"><circle cx=\"215\" cy=\"215\" r=\"205\" fill=\"none\" stroke=\"black\" stroke-width=\"2\" stroke-dasharray=\"3,3\"/> <circle cx=\"163\" cy=\"184\" r=\"11\" fill=\"rgb(255,169,169)\" class=\"agent_0_8\"/><circle cx=\"130\" cy=\"135\" r=\"9\" fill=\"rgb(255,233,233)\" class=\"agent_0_18\"/><circle cx=\"366\" cy=\"307\" r=\"10\" fill=\"rgb(255,226,226)\" class=\"agent_0_26\"/><circle cx=\"165\" cy=\"114\" r=\"11\" fill=\"rgb(255,214,214)\" class=\"agent_0_30\"/><circle cx=\"240\" cy=\"178\" r=\"10\" fill=\"rgb(255,217,217)\" class=\"agent_0_39\"/><circle cx=\"354\" cy=\"179\" r=\"7\" fill=\"rgb(255,239,239)\" class=\"agent_0_41\"/><circle cx=\"288\" cy=\"51\" r=\"13\" fill=\"rgb(255,228,228)\" class=\"agent_0_57\"/></svg></div>"
      ],
      "text/plain": [
       "<IPython.core.display.HTML object>"
      ]
     },
     "metadata": {},
     "output_type": "display_data"
    },
    {
     "name": "stdout",
     "output_type": "stream",
     "text": [
      "alice: no i do n't have that <eos>\n",
      "alice detected markables:\n",
      "{'start': 20, 'end': 24, 'is_self': True, 'text': 'that'}\n",
      "bob detected markables:\n",
      "{'start': 20, 'end': 24, 'is_self': True, 'text': 'that'}\n",
      "\n",
      "----------------------------------------\n",
      "\n",
      "max prob: 0.4000130891799927\n",
      "entropy: 1.643279790878296\n",
      "bob sel_prob_now: tensor([0.0616, 0.0525, 0.4000, 0.1048, 0.1847, 0.1673, 0.0291],\n",
      "       grad_fn=<ViewBackward>)\n"
     ]
    },
    {
     "data": {
      "text/html": [
       "<div style=\"white-space: nowrap\"><svg viewbox='0 0 430 430' width=\"172\" height=\"172\" id=\"agent_1\"><circle cx=\"215\" cy=\"215\" r=\"205\" fill=\"none\" stroke=\"black\" stroke-width=\"2\" stroke-dasharray=\"3,3\"/><circle cx=\"85\" cy=\"226\" r=\"12\" fill=\"rgb(71,71,71)\"/><circle cx=\"109\" cy=\"354\" r=\"12\" fill=\"rgb(117,117,117)\"/><circle cx=\"299\" cy=\"311\" r=\"11\" fill=\"rgb(74,74,74)\"/><circle cx=\"266\" cy=\"263\" r=\"9\" fill=\"rgb(169,169,169)\"/><circle cx=\"301\" cy=\"241\" r=\"11\" fill=\"rgb(148,148,148)\"/><circle cx=\"376\" cy=\"305\" r=\"10\" fill=\"rgb(186,186,186)\"/><circle cx=\"61\" cy=\"205\" r=\"12\" fill=\"rgb(176,176,176)\"/></svg><svg viewBox='0 0 430 430' id=\"svg\" width=\"172\" height=\"172\"><circle cx=\"215\" cy=\"215\" r=\"205\" fill=\"none\" stroke=\"black\" stroke-width=\"2\" stroke-dasharray=\"3,3\"/> <circle cx=\"85\" cy=\"226\" r=\"12\" fill=\"rgb(255,239,239)\" class=\"agent_1_3\"/><circle cx=\"109\" cy=\"354\" r=\"12\" fill=\"rgb(255,241,241)\" class=\"agent_1_7\"/><circle cx=\"299\" cy=\"311\" r=\"11\" fill=\"rgb(255,152,152)\" class=\"agent_1_8\"/><circle cx=\"266\" cy=\"263\" r=\"9\" fill=\"rgb(255,228,228)\" class=\"agent_1_18\"/><circle cx=\"301\" cy=\"241\" r=\"11\" fill=\"rgb(255,207,207)\" class=\"agent_1_30\"/><circle cx=\"376\" cy=\"305\" r=\"10\" fill=\"rgb(255,212,212)\" class=\"agent_1_39\"/><circle cx=\"61\" cy=\"205\" r=\"12\" fill=\"rgb(255,247,247)\" class=\"agent_1_48\"/></svg></div>"
      ],
      "text/plain": [
       "<IPython.core.display.HTML object>"
      ]
     },
     "metadata": {},
     "output_type": "display_data"
    },
    {
     "name": "stdout",
     "output_type": "stream",
     "text": [
      "bob to_mention_pred\n"
     ]
    },
    {
     "data": {
      "text/html": [
       "<div style=\"white-space: nowrap\"><svg viewbox='0 0 430 430' width=\"172\" height=\"172\" id=\"agent_1\"><circle cx=\"215\" cy=\"215\" r=\"205\" fill=\"none\" stroke=\"black\" stroke-width=\"2\" stroke-dasharray=\"3,3\"/><circle cx=\"85\" cy=\"226\" r=\"12\" fill=\"rgb(71,71,71)\"/><circle cx=\"109\" cy=\"354\" r=\"12\" fill=\"rgb(117,117,117)\"/><circle cx=\"299\" cy=\"311\" r=\"11\" fill=\"rgb(74,74,74)\"/><circle cx=\"266\" cy=\"263\" r=\"9\" fill=\"rgb(169,169,169)\"/><circle cx=\"301\" cy=\"241\" r=\"11\" fill=\"rgb(148,148,148)\"/><circle cx=\"376\" cy=\"305\" r=\"10\" fill=\"rgb(186,186,186)\"/><circle cx=\"61\" cy=\"205\" r=\"12\" fill=\"rgb(176,176,176)\"/></svg><svg viewBox='0 0 430 430' id=\"svg\" width=\"172\" height=\"172\"><circle cx=\"215\" cy=\"215\" r=\"205\" fill=\"none\" stroke=\"black\" stroke-width=\"2\" stroke-dasharray=\"3,3\"/> <circle cx=\"85\" cy=\"226\" r=\"12\" fill=\"rgb(255,255,255)\" class=\"agent_1_3\"/><circle cx=\"109\" cy=\"354\" r=\"12\" fill=\"rgb(255,255,255)\" class=\"agent_1_7\"/><circle cx=\"299\" cy=\"311\" r=\"11\" fill=\"rgb(255,255,255)\" class=\"agent_1_8\"/><circle cx=\"266\" cy=\"263\" r=\"9\" fill=\"rgb(255,255,255)\" class=\"agent_1_18\"/><circle cx=\"301\" cy=\"241\" r=\"11\" fill=\"rgb(255,255,255)\" class=\"agent_1_30\"/><circle cx=\"376\" cy=\"305\" r=\"10\" fill=\"rgb(255,255,255)\" class=\"agent_1_39\"/><circle cx=\"61\" cy=\"205\" r=\"12\" fill=\"rgb(255,255,255)\" class=\"agent_1_48\"/></svg></div>"
      ],
      "text/plain": [
       "<IPython.core.display.HTML object>"
      ]
     },
     "metadata": {},
     "output_type": "display_data"
    },
    {
     "name": "stdout",
     "output_type": "stream",
     "text": [
      "max prob: 0.2837551534175873\n",
      "entropy: 1.8522238731384277\n",
      "bob sel_prob after pred: tensor([0.1286, 0.1169, 0.2838, 0.0888, 0.1701, 0.1410, 0.0709],\n",
      "       grad_fn=<ViewBackward>)\n"
     ]
    },
    {
     "data": {
      "text/html": [
       "<div style=\"white-space: nowrap\"><svg viewbox='0 0 430 430' width=\"172\" height=\"172\" id=\"agent_1\"><circle cx=\"215\" cy=\"215\" r=\"205\" fill=\"none\" stroke=\"black\" stroke-width=\"2\" stroke-dasharray=\"3,3\"/><circle cx=\"85\" cy=\"226\" r=\"12\" fill=\"rgb(71,71,71)\"/><circle cx=\"109\" cy=\"354\" r=\"12\" fill=\"rgb(117,117,117)\"/><circle cx=\"299\" cy=\"311\" r=\"11\" fill=\"rgb(74,74,74)\"/><circle cx=\"266\" cy=\"263\" r=\"9\" fill=\"rgb(169,169,169)\"/><circle cx=\"301\" cy=\"241\" r=\"11\" fill=\"rgb(148,148,148)\"/><circle cx=\"376\" cy=\"305\" r=\"10\" fill=\"rgb(186,186,186)\"/><circle cx=\"61\" cy=\"205\" r=\"12\" fill=\"rgb(176,176,176)\"/></svg><svg viewBox='0 0 430 430' id=\"svg\" width=\"172\" height=\"172\"><circle cx=\"215\" cy=\"215\" r=\"205\" fill=\"none\" stroke=\"black\" stroke-width=\"2\" stroke-dasharray=\"3,3\"/> <circle cx=\"85\" cy=\"226\" r=\"12\" fill=\"rgb(255,222,222)\" class=\"agent_1_3\"/><circle cx=\"109\" cy=\"354\" r=\"12\" fill=\"rgb(255,225,225)\" class=\"agent_1_7\"/><circle cx=\"299\" cy=\"311\" r=\"11\" fill=\"rgb(255,182,182)\" class=\"agent_1_8\"/><circle cx=\"266\" cy=\"263\" r=\"9\" fill=\"rgb(255,232,232)\" class=\"agent_1_18\"/><circle cx=\"301\" cy=\"241\" r=\"11\" fill=\"rgb(255,211,211)\" class=\"agent_1_30\"/><circle cx=\"376\" cy=\"305\" r=\"10\" fill=\"rgb(255,219,219)\" class=\"agent_1_39\"/><circle cx=\"61\" cy=\"205\" r=\"12\" fill=\"rgb(255,236,236)\" class=\"agent_1_48\"/></svg></div>"
      ],
      "text/plain": [
       "<IPython.core.display.HTML object>"
      ]
     },
     "metadata": {},
     "output_type": "display_data"
    },
    {
     "name": "stdout",
     "output_type": "stream",
     "text": [
      "bob: no i do n't have that <eos>\n",
      "bob detected markables:\n",
      "{'start': 20, 'end': 24, 'is_self': True, 'text': 'that'}\n",
      "alice detected markables:\n",
      "{'start': 20, 'end': 24, 'is_self': True, 'text': 'that'}\n",
      "\n",
      "----------------------------------------\n",
      "\n",
      "max prob: 0.23217301070690155\n",
      "entropy: 1.8852516412734985\n",
      "alice sel_prob_now: tensor([0.2322, 0.0765, 0.1902, 0.1383, 0.1109, 0.0998, 0.1522],\n",
      "       grad_fn=<ViewBackward>)\n"
     ]
    },
    {
     "data": {
      "text/html": [
       "<div style=\"white-space: nowrap\"><svg viewbox='0 0 430 430' width=\"172\" height=\"172\" id=\"agent_0\"><circle cx=\"215\" cy=\"215\" r=\"205\" fill=\"none\" stroke=\"black\" stroke-width=\"2\" stroke-dasharray=\"3,3\"/><circle cx=\"163\" cy=\"184\" r=\"11\" fill=\"rgb(74,74,74)\"/><circle cx=\"130\" cy=\"135\" r=\"9\" fill=\"rgb(169,169,169)\"/><circle cx=\"366\" cy=\"307\" r=\"10\" fill=\"rgb(96,96,96)\"/><circle cx=\"165\" cy=\"114\" r=\"11\" fill=\"rgb(148,148,148)\"/><circle cx=\"240\" cy=\"178\" r=\"10\" fill=\"rgb(186,186,186)\"/><circle cx=\"354\" cy=\"179\" r=\"7\" fill=\"rgb(113,113,113)\"/><circle cx=\"288\" cy=\"51\" r=\"13\" fill=\"rgb(104,104,104)\"/></svg><svg viewBox='0 0 430 430' id=\"svg\" width=\"172\" height=\"172\"><circle cx=\"215\" cy=\"215\" r=\"205\" fill=\"none\" stroke=\"black\" stroke-width=\"2\" stroke-dasharray=\"3,3\"/> <circle cx=\"163\" cy=\"184\" r=\"11\" fill=\"rgb(255,195,195)\" class=\"agent_0_8\"/><circle cx=\"130\" cy=\"135\" r=\"9\" fill=\"rgb(255,235,235)\" class=\"agent_0_18\"/><circle cx=\"366\" cy=\"307\" r=\"10\" fill=\"rgb(255,206,206)\" class=\"agent_0_26\"/><circle cx=\"165\" cy=\"114\" r=\"11\" fill=\"rgb(255,219,219)\" class=\"agent_0_30\"/><circle cx=\"240\" cy=\"178\" r=\"10\" fill=\"rgb(255,226,226)\" class=\"agent_0_39\"/><circle cx=\"354\" cy=\"179\" r=\"7\" fill=\"rgb(255,229,229)\" class=\"agent_0_41\"/><circle cx=\"288\" cy=\"51\" r=\"13\" fill=\"rgb(255,216,216)\" class=\"agent_0_57\"/></svg></div>"
      ],
      "text/plain": [
       "<IPython.core.display.HTML object>"
      ]
     },
     "metadata": {},
     "output_type": "display_data"
    },
    {
     "name": "stdout",
     "output_type": "stream",
     "text": [
      "alice to_mention_pred\n"
     ]
    },
    {
     "data": {
      "text/html": [
       "<div style=\"white-space: nowrap\"><svg viewbox='0 0 430 430' width=\"172\" height=\"172\" id=\"agent_0\"><circle cx=\"215\" cy=\"215\" r=\"205\" fill=\"none\" stroke=\"black\" stroke-width=\"2\" stroke-dasharray=\"3,3\"/><circle cx=\"163\" cy=\"184\" r=\"11\" fill=\"rgb(74,74,74)\"/><circle cx=\"130\" cy=\"135\" r=\"9\" fill=\"rgb(169,169,169)\"/><circle cx=\"366\" cy=\"307\" r=\"10\" fill=\"rgb(96,96,96)\"/><circle cx=\"165\" cy=\"114\" r=\"11\" fill=\"rgb(148,148,148)\"/><circle cx=\"240\" cy=\"178\" r=\"10\" fill=\"rgb(186,186,186)\"/><circle cx=\"354\" cy=\"179\" r=\"7\" fill=\"rgb(113,113,113)\"/><circle cx=\"288\" cy=\"51\" r=\"13\" fill=\"rgb(104,104,104)\"/></svg><svg viewBox='0 0 430 430' id=\"svg\" width=\"172\" height=\"172\"><circle cx=\"215\" cy=\"215\" r=\"205\" fill=\"none\" stroke=\"black\" stroke-width=\"2\" stroke-dasharray=\"3,3\"/> <circle cx=\"163\" cy=\"184\" r=\"11\" fill=\"rgb(255,255,255)\" class=\"agent_0_8\"/><circle cx=\"130\" cy=\"135\" r=\"9\" fill=\"rgb(255,255,255)\" class=\"agent_0_18\"/><circle cx=\"366\" cy=\"307\" r=\"10\" fill=\"rgb(255,255,255)\" class=\"agent_0_26\"/><circle cx=\"165\" cy=\"114\" r=\"11\" fill=\"rgb(255,255,255)\" class=\"agent_0_30\"/><circle cx=\"240\" cy=\"178\" r=\"10\" fill=\"rgb(255,255,255)\" class=\"agent_0_39\"/><circle cx=\"354\" cy=\"179\" r=\"7\" fill=\"rgb(255,255,255)\" class=\"agent_0_41\"/><circle cx=\"288\" cy=\"51\" r=\"13\" fill=\"rgb(255,255,255)\" class=\"agent_0_57\"/></svg></div>"
      ],
      "text/plain": [
       "<IPython.core.display.HTML object>"
      ]
     },
     "metadata": {},
     "output_type": "display_data"
    },
    {
     "name": "stdout",
     "output_type": "stream",
     "text": [
      "max prob: 0.21845743060112\n",
      "entropy: 1.8837664127349854\n",
      "alice sel_prob after pred: tensor([0.1920, 0.0725, 0.2185, 0.1339, 0.0920, 0.1175, 0.1736],\n",
      "       grad_fn=<ViewBackward>)\n"
     ]
    },
    {
     "data": {
      "text/html": [
       "<div style=\"white-space: nowrap\"><svg viewbox='0 0 430 430' width=\"172\" height=\"172\" id=\"agent_0\"><circle cx=\"215\" cy=\"215\" r=\"205\" fill=\"none\" stroke=\"black\" stroke-width=\"2\" stroke-dasharray=\"3,3\"/><circle cx=\"163\" cy=\"184\" r=\"11\" fill=\"rgb(74,74,74)\"/><circle cx=\"130\" cy=\"135\" r=\"9\" fill=\"rgb(169,169,169)\"/><circle cx=\"366\" cy=\"307\" r=\"10\" fill=\"rgb(96,96,96)\"/><circle cx=\"165\" cy=\"114\" r=\"11\" fill=\"rgb(148,148,148)\"/><circle cx=\"240\" cy=\"178\" r=\"10\" fill=\"rgb(186,186,186)\"/><circle cx=\"354\" cy=\"179\" r=\"7\" fill=\"rgb(113,113,113)\"/><circle cx=\"288\" cy=\"51\" r=\"13\" fill=\"rgb(104,104,104)\"/></svg><svg viewBox='0 0 430 430' id=\"svg\" width=\"172\" height=\"172\"><circle cx=\"215\" cy=\"215\" r=\"205\" fill=\"none\" stroke=\"black\" stroke-width=\"2\" stroke-dasharray=\"3,3\"/> <circle cx=\"163\" cy=\"184\" r=\"11\" fill=\"rgb(255,206,206)\" class=\"agent_0_8\"/><circle cx=\"130\" cy=\"135\" r=\"9\" fill=\"rgb(255,236,236)\" class=\"agent_0_18\"/><circle cx=\"366\" cy=\"307\" r=\"10\" fill=\"rgb(255,199,199)\" class=\"agent_0_26\"/><circle cx=\"165\" cy=\"114\" r=\"11\" fill=\"rgb(255,220,220)\" class=\"agent_0_30\"/><circle cx=\"240\" cy=\"178\" r=\"10\" fill=\"rgb(255,231,231)\" class=\"agent_0_39\"/><circle cx=\"354\" cy=\"179\" r=\"7\" fill=\"rgb(255,225,225)\" class=\"agent_0_41\"/><circle cx=\"288\" cy=\"51\" r=\"13\" fill=\"rgb(255,210,210)\" class=\"agent_0_57\"/></svg></div>"
      ],
      "text/plain": [
       "<IPython.core.display.HTML object>"
      ]
     },
     "metadata": {},
     "output_type": "display_data"
    },
    {
     "name": "stdout",
     "output_type": "stream",
     "text": [
      "alice: no i do n't have that <eos>\n",
      "alice detected markables:\n",
      "{'start': 20, 'end': 24, 'is_self': True, 'text': 'that'}\n",
      "bob detected markables:\n",
      "{'start': 20, 'end': 24, 'is_self': True, 'text': 'that'}\n",
      "\n",
      "----------------------------------------\n",
      "\n",
      "max prob: 0.22620926797389984\n",
      "entropy: 1.9022849798202515\n",
      "bob sel_prob_now: tensor([0.1562, 0.1533, 0.2262, 0.0858, 0.1543, 0.1232, 0.1010],\n",
      "       grad_fn=<ViewBackward>)\n"
     ]
    },
    {
     "data": {
      "text/html": [
       "<div style=\"white-space: nowrap\"><svg viewbox='0 0 430 430' width=\"172\" height=\"172\" id=\"agent_1\"><circle cx=\"215\" cy=\"215\" r=\"205\" fill=\"none\" stroke=\"black\" stroke-width=\"2\" stroke-dasharray=\"3,3\"/><circle cx=\"85\" cy=\"226\" r=\"12\" fill=\"rgb(71,71,71)\"/><circle cx=\"109\" cy=\"354\" r=\"12\" fill=\"rgb(117,117,117)\"/><circle cx=\"299\" cy=\"311\" r=\"11\" fill=\"rgb(74,74,74)\"/><circle cx=\"266\" cy=\"263\" r=\"9\" fill=\"rgb(169,169,169)\"/><circle cx=\"301\" cy=\"241\" r=\"11\" fill=\"rgb(148,148,148)\"/><circle cx=\"376\" cy=\"305\" r=\"10\" fill=\"rgb(186,186,186)\"/><circle cx=\"61\" cy=\"205\" r=\"12\" fill=\"rgb(176,176,176)\"/></svg><svg viewBox='0 0 430 430' id=\"svg\" width=\"172\" height=\"172\"><circle cx=\"215\" cy=\"215\" r=\"205\" fill=\"none\" stroke=\"black\" stroke-width=\"2\" stroke-dasharray=\"3,3\"/> <circle cx=\"85\" cy=\"226\" r=\"12\" fill=\"rgb(255,215,215)\" class=\"agent_1_3\"/><circle cx=\"109\" cy=\"354\" r=\"12\" fill=\"rgb(255,215,215)\" class=\"agent_1_7\"/><circle cx=\"299\" cy=\"311\" r=\"11\" fill=\"rgb(255,197,197)\" class=\"agent_1_8\"/><circle cx=\"266\" cy=\"263\" r=\"9\" fill=\"rgb(255,233,233)\" class=\"agent_1_18\"/><circle cx=\"301\" cy=\"241\" r=\"11\" fill=\"rgb(255,215,215)\" class=\"agent_1_30\"/><circle cx=\"376\" cy=\"305\" r=\"10\" fill=\"rgb(255,223,223)\" class=\"agent_1_39\"/><circle cx=\"61\" cy=\"205\" r=\"12\" fill=\"rgb(255,229,229)\" class=\"agent_1_48\"/></svg></div>"
      ],
      "text/plain": [
       "<IPython.core.display.HTML object>"
      ]
     },
     "metadata": {},
     "output_type": "display_data"
    },
    {
     "name": "stdout",
     "output_type": "stream",
     "text": [
      "bob to_mention_pred\n"
     ]
    },
    {
     "data": {
      "text/html": [
       "<div style=\"white-space: nowrap\"><svg viewbox='0 0 430 430' width=\"172\" height=\"172\" id=\"agent_1\"><circle cx=\"215\" cy=\"215\" r=\"205\" fill=\"none\" stroke=\"black\" stroke-width=\"2\" stroke-dasharray=\"3,3\"/><circle cx=\"85\" cy=\"226\" r=\"12\" fill=\"rgb(71,71,71)\"/><circle cx=\"109\" cy=\"354\" r=\"12\" fill=\"rgb(117,117,117)\"/><circle cx=\"299\" cy=\"311\" r=\"11\" fill=\"rgb(74,74,74)\"/><circle cx=\"266\" cy=\"263\" r=\"9\" fill=\"rgb(169,169,169)\"/><circle cx=\"301\" cy=\"241\" r=\"11\" fill=\"rgb(148,148,148)\"/><circle cx=\"376\" cy=\"305\" r=\"10\" fill=\"rgb(186,186,186)\"/><circle cx=\"61\" cy=\"205\" r=\"12\" fill=\"rgb(176,176,176)\"/></svg><svg viewBox='0 0 430 430' id=\"svg\" width=\"172\" height=\"172\"><circle cx=\"215\" cy=\"215\" r=\"205\" fill=\"none\" stroke=\"black\" stroke-width=\"2\" stroke-dasharray=\"3,3\"/> <circle cx=\"85\" cy=\"226\" r=\"12\" fill=\"rgb(255,255,255)\" class=\"agent_1_3\"/><circle cx=\"109\" cy=\"354\" r=\"12\" fill=\"rgb(255,255,255)\" class=\"agent_1_7\"/><circle cx=\"299\" cy=\"311\" r=\"11\" fill=\"rgb(255,255,255)\" class=\"agent_1_8\"/><circle cx=\"266\" cy=\"263\" r=\"9\" fill=\"rgb(255,255,255)\" class=\"agent_1_18\"/><circle cx=\"301\" cy=\"241\" r=\"11\" fill=\"rgb(255,255,255)\" class=\"agent_1_30\"/><circle cx=\"376\" cy=\"305\" r=\"10\" fill=\"rgb(255,255,255)\" class=\"agent_1_39\"/><circle cx=\"61\" cy=\"205\" r=\"12\" fill=\"rgb(255,255,255)\" class=\"agent_1_48\"/></svg></div>"
      ],
      "text/plain": [
       "<IPython.core.display.HTML object>"
      ]
     },
     "metadata": {},
     "output_type": "display_data"
    },
    {
     "name": "stdout",
     "output_type": "stream",
     "text": [
      "max prob: 0.2179896980524063\n",
      "entropy: 1.90572988986969\n",
      "bob sel_prob after pred: tensor([0.1614, 0.1572, 0.2180, 0.0853, 0.1530, 0.1201, 0.1051],\n",
      "       grad_fn=<ViewBackward>)\n"
     ]
    },
    {
     "data": {
      "text/html": [
       "<div style=\"white-space: nowrap\"><svg viewbox='0 0 430 430' width=\"172\" height=\"172\" id=\"agent_1\"><circle cx=\"215\" cy=\"215\" r=\"205\" fill=\"none\" stroke=\"black\" stroke-width=\"2\" stroke-dasharray=\"3,3\"/><circle cx=\"85\" cy=\"226\" r=\"12\" fill=\"rgb(71,71,71)\"/><circle cx=\"109\" cy=\"354\" r=\"12\" fill=\"rgb(117,117,117)\"/><circle cx=\"299\" cy=\"311\" r=\"11\" fill=\"rgb(74,74,74)\"/><circle cx=\"266\" cy=\"263\" r=\"9\" fill=\"rgb(169,169,169)\"/><circle cx=\"301\" cy=\"241\" r=\"11\" fill=\"rgb(148,148,148)\"/><circle cx=\"376\" cy=\"305\" r=\"10\" fill=\"rgb(186,186,186)\"/><circle cx=\"61\" cy=\"205\" r=\"12\" fill=\"rgb(176,176,176)\"/></svg><svg viewBox='0 0 430 430' id=\"svg\" width=\"172\" height=\"172\"><circle cx=\"215\" cy=\"215\" r=\"205\" fill=\"none\" stroke=\"black\" stroke-width=\"2\" stroke-dasharray=\"3,3\"/> <circle cx=\"85\" cy=\"226\" r=\"12\" fill=\"rgb(255,213,213)\" class=\"agent_1_3\"/><circle cx=\"109\" cy=\"354\" r=\"12\" fill=\"rgb(255,214,214)\" class=\"agent_1_7\"/><circle cx=\"299\" cy=\"311\" r=\"11\" fill=\"rgb(255,199,199)\" class=\"agent_1_8\"/><circle cx=\"266\" cy=\"263\" r=\"9\" fill=\"rgb(255,233,233)\" class=\"agent_1_18\"/><circle cx=\"301\" cy=\"241\" r=\"11\" fill=\"rgb(255,215,215)\" class=\"agent_1_30\"/><circle cx=\"376\" cy=\"305\" r=\"10\" fill=\"rgb(255,224,224)\" class=\"agent_1_39\"/><circle cx=\"61\" cy=\"205\" r=\"12\" fill=\"rgb(255,228,228)\" class=\"agent_1_48\"/></svg></div>"
      ],
      "text/plain": [
       "<IPython.core.display.HTML object>"
      ]
     },
     "metadata": {},
     "output_type": "display_data"
    },
    {
     "name": "stdout",
     "output_type": "stream",
     "text": [
      "bob: no i do n't have that <eos>\n",
      "bob detected markables:\n",
      "{'start': 20, 'end': 24, 'is_self': True, 'text': 'that'}\n",
      "alice detected markables:\n",
      "{'start': 20, 'end': 24, 'is_self': True, 'text': 'that'}\n",
      "\n",
      "----------------------------------------\n",
      "\n",
      "max prob: 0.2369234412908554\n",
      "entropy: 1.8779287338256836\n",
      "alice sel_prob_now: tensor([0.1642, 0.0742, 0.2369, 0.1236, 0.0861, 0.1305, 0.1845],\n",
      "       grad_fn=<ViewBackward>)\n"
     ]
    },
    {
     "data": {
      "text/html": [
       "<div style=\"white-space: nowrap\"><svg viewbox='0 0 430 430' width=\"172\" height=\"172\" id=\"agent_0\"><circle cx=\"215\" cy=\"215\" r=\"205\" fill=\"none\" stroke=\"black\" stroke-width=\"2\" stroke-dasharray=\"3,3\"/><circle cx=\"163\" cy=\"184\" r=\"11\" fill=\"rgb(74,74,74)\"/><circle cx=\"130\" cy=\"135\" r=\"9\" fill=\"rgb(169,169,169)\"/><circle cx=\"366\" cy=\"307\" r=\"10\" fill=\"rgb(96,96,96)\"/><circle cx=\"165\" cy=\"114\" r=\"11\" fill=\"rgb(148,148,148)\"/><circle cx=\"240\" cy=\"178\" r=\"10\" fill=\"rgb(186,186,186)\"/><circle cx=\"354\" cy=\"179\" r=\"7\" fill=\"rgb(113,113,113)\"/><circle cx=\"288\" cy=\"51\" r=\"13\" fill=\"rgb(104,104,104)\"/></svg><svg viewBox='0 0 430 430' id=\"svg\" width=\"172\" height=\"172\"><circle cx=\"215\" cy=\"215\" r=\"205\" fill=\"none\" stroke=\"black\" stroke-width=\"2\" stroke-dasharray=\"3,3\"/> <circle cx=\"163\" cy=\"184\" r=\"11\" fill=\"rgb(255,213,213)\" class=\"agent_0_8\"/><circle cx=\"130\" cy=\"135\" r=\"9\" fill=\"rgb(255,236,236)\" class=\"agent_0_18\"/><circle cx=\"366\" cy=\"307\" r=\"10\" fill=\"rgb(255,194,194)\" class=\"agent_0_26\"/><circle cx=\"165\" cy=\"114\" r=\"11\" fill=\"rgb(255,223,223)\" class=\"agent_0_30\"/><circle cx=\"240\" cy=\"178\" r=\"10\" fill=\"rgb(255,233,233)\" class=\"agent_0_39\"/><circle cx=\"354\" cy=\"179\" r=\"7\" fill=\"rgb(255,221,221)\" class=\"agent_0_41\"/><circle cx=\"288\" cy=\"51\" r=\"13\" fill=\"rgb(255,207,207)\" class=\"agent_0_57\"/></svg></div>"
      ],
      "text/plain": [
       "<IPython.core.display.HTML object>"
      ]
     },
     "metadata": {},
     "output_type": "display_data"
    },
    {
     "name": "stdout",
     "output_type": "stream",
     "text": [
      "alice to_mention_pred\n"
     ]
    },
    {
     "data": {
      "text/html": [
       "<div style=\"white-space: nowrap\"><svg viewbox='0 0 430 430' width=\"172\" height=\"172\" id=\"agent_0\"><circle cx=\"215\" cy=\"215\" r=\"205\" fill=\"none\" stroke=\"black\" stroke-width=\"2\" stroke-dasharray=\"3,3\"/><circle cx=\"163\" cy=\"184\" r=\"11\" fill=\"rgb(74,74,74)\"/><circle cx=\"130\" cy=\"135\" r=\"9\" fill=\"rgb(169,169,169)\"/><circle cx=\"366\" cy=\"307\" r=\"10\" fill=\"rgb(96,96,96)\"/><circle cx=\"165\" cy=\"114\" r=\"11\" fill=\"rgb(148,148,148)\"/><circle cx=\"240\" cy=\"178\" r=\"10\" fill=\"rgb(186,186,186)\"/><circle cx=\"354\" cy=\"179\" r=\"7\" fill=\"rgb(113,113,113)\"/><circle cx=\"288\" cy=\"51\" r=\"13\" fill=\"rgb(104,104,104)\"/></svg><svg viewBox='0 0 430 430' id=\"svg\" width=\"172\" height=\"172\"><circle cx=\"215\" cy=\"215\" r=\"205\" fill=\"none\" stroke=\"black\" stroke-width=\"2\" stroke-dasharray=\"3,3\"/> <circle cx=\"163\" cy=\"184\" r=\"11\" fill=\"rgb(255,255,255)\" class=\"agent_0_8\"/><circle cx=\"130\" cy=\"135\" r=\"9\" fill=\"rgb(255,255,255)\" class=\"agent_0_18\"/><circle cx=\"366\" cy=\"307\" r=\"10\" fill=\"rgb(255,255,255)\" class=\"agent_0_26\"/><circle cx=\"165\" cy=\"114\" r=\"11\" fill=\"rgb(255,255,255)\" class=\"agent_0_30\"/><circle cx=\"240\" cy=\"178\" r=\"10\" fill=\"rgb(255,255,255)\" class=\"agent_0_39\"/><circle cx=\"354\" cy=\"179\" r=\"7\" fill=\"rgb(255,255,255)\" class=\"agent_0_41\"/><circle cx=\"288\" cy=\"51\" r=\"13\" fill=\"rgb(255,255,255)\" class=\"agent_0_57\"/></svg></div>"
      ],
      "text/plain": [
       "<IPython.core.display.HTML object>"
      ]
     },
     "metadata": {},
     "output_type": "display_data"
    },
    {
     "name": "stdout",
     "output_type": "stream",
     "text": [
      "max prob: 0.23588646948337555\n",
      "entropy: 1.8786309957504272\n",
      "alice sel_prob after pred: tensor([0.1670, 0.0736, 0.2359, 0.1261, 0.0868, 0.1281, 0.1824],\n",
      "       grad_fn=<ViewBackward>)\n"
     ]
    },
    {
     "data": {
      "text/html": [
       "<div style=\"white-space: nowrap\"><svg viewbox='0 0 430 430' width=\"172\" height=\"172\" id=\"agent_0\"><circle cx=\"215\" cy=\"215\" r=\"205\" fill=\"none\" stroke=\"black\" stroke-width=\"2\" stroke-dasharray=\"3,3\"/><circle cx=\"163\" cy=\"184\" r=\"11\" fill=\"rgb(74,74,74)\"/><circle cx=\"130\" cy=\"135\" r=\"9\" fill=\"rgb(169,169,169)\"/><circle cx=\"366\" cy=\"307\" r=\"10\" fill=\"rgb(96,96,96)\"/><circle cx=\"165\" cy=\"114\" r=\"11\" fill=\"rgb(148,148,148)\"/><circle cx=\"240\" cy=\"178\" r=\"10\" fill=\"rgb(186,186,186)\"/><circle cx=\"354\" cy=\"179\" r=\"7\" fill=\"rgb(113,113,113)\"/><circle cx=\"288\" cy=\"51\" r=\"13\" fill=\"rgb(104,104,104)\"/></svg><svg viewBox='0 0 430 430' id=\"svg\" width=\"172\" height=\"172\"><circle cx=\"215\" cy=\"215\" r=\"205\" fill=\"none\" stroke=\"black\" stroke-width=\"2\" stroke-dasharray=\"3,3\"/> <circle cx=\"163\" cy=\"184\" r=\"11\" fill=\"rgb(255,212,212)\" class=\"agent_0_8\"/><circle cx=\"130\" cy=\"135\" r=\"9\" fill=\"rgb(255,236,236)\" class=\"agent_0_18\"/><circle cx=\"366\" cy=\"307\" r=\"10\" fill=\"rgb(255,194,194)\" class=\"agent_0_26\"/><circle cx=\"165\" cy=\"114\" r=\"11\" fill=\"rgb(255,222,222)\" class=\"agent_0_30\"/><circle cx=\"240\" cy=\"178\" r=\"10\" fill=\"rgb(255,232,232)\" class=\"agent_0_39\"/><circle cx=\"354\" cy=\"179\" r=\"7\" fill=\"rgb(255,222,222)\" class=\"agent_0_41\"/><circle cx=\"288\" cy=\"51\" r=\"13\" fill=\"rgb(255,208,208)\" class=\"agent_0_57\"/></svg></div>"
      ],
      "text/plain": [
       "<IPython.core.display.HTML object>"
      ]
     },
     "metadata": {},
     "output_type": "display_data"
    },
    {
     "name": "stdout",
     "output_type": "stream",
     "text": [
      "alice: no i do n't have that <eos>\n",
      "alice detected markables:\n",
      "{'start': 20, 'end': 24, 'is_self': True, 'text': 'that'}\n",
      "bob detected markables:\n",
      "{'start': 20, 'end': 24, 'is_self': True, 'text': 'that'}\n",
      "\n",
      "----------------------------------------\n",
      "\n",
      "max prob: 0.20123004913330078\n",
      "entropy: 1.917441725730896\n",
      "bob sel_prob_now: tensor([0.1626, 0.1601, 0.2012, 0.0943, 0.1518, 0.1182, 0.1118],\n",
      "       grad_fn=<ViewBackward>)\n"
     ]
    },
    {
     "data": {
      "text/html": [
       "<div style=\"white-space: nowrap\"><svg viewbox='0 0 430 430' width=\"172\" height=\"172\" id=\"agent_1\"><circle cx=\"215\" cy=\"215\" r=\"205\" fill=\"none\" stroke=\"black\" stroke-width=\"2\" stroke-dasharray=\"3,3\"/><circle cx=\"85\" cy=\"226\" r=\"12\" fill=\"rgb(71,71,71)\"/><circle cx=\"109\" cy=\"354\" r=\"12\" fill=\"rgb(117,117,117)\"/><circle cx=\"299\" cy=\"311\" r=\"11\" fill=\"rgb(74,74,74)\"/><circle cx=\"266\" cy=\"263\" r=\"9\" fill=\"rgb(169,169,169)\"/><circle cx=\"301\" cy=\"241\" r=\"11\" fill=\"rgb(148,148,148)\"/><circle cx=\"376\" cy=\"305\" r=\"10\" fill=\"rgb(186,186,186)\"/><circle cx=\"61\" cy=\"205\" r=\"12\" fill=\"rgb(176,176,176)\"/></svg><svg viewBox='0 0 430 430' id=\"svg\" width=\"172\" height=\"172\"><circle cx=\"215\" cy=\"215\" r=\"205\" fill=\"none\" stroke=\"black\" stroke-width=\"2\" stroke-dasharray=\"3,3\"/> <circle cx=\"85\" cy=\"226\" r=\"12\" fill=\"rgb(255,213,213)\" class=\"agent_1_3\"/><circle cx=\"109\" cy=\"354\" r=\"12\" fill=\"rgb(255,214,214)\" class=\"agent_1_7\"/><circle cx=\"299\" cy=\"311\" r=\"11\" fill=\"rgb(255,203,203)\" class=\"agent_1_8\"/><circle cx=\"266\" cy=\"263\" r=\"9\" fill=\"rgb(255,230,230)\" class=\"agent_1_18\"/><circle cx=\"301\" cy=\"241\" r=\"11\" fill=\"rgb(255,216,216)\" class=\"agent_1_30\"/><circle cx=\"376\" cy=\"305\" r=\"10\" fill=\"rgb(255,224,224)\" class=\"agent_1_39\"/><circle cx=\"61\" cy=\"205\" r=\"12\" fill=\"rgb(255,226,226)\" class=\"agent_1_48\"/></svg></div>"
      ],
      "text/plain": [
       "<IPython.core.display.HTML object>"
      ]
     },
     "metadata": {},
     "output_type": "display_data"
    },
    {
     "name": "stdout",
     "output_type": "stream",
     "text": [
      "bob to_mention_pred\n"
     ]
    },
    {
     "data": {
      "text/html": [
       "<div style=\"white-space: nowrap\"><svg viewbox='0 0 430 430' width=\"172\" height=\"172\" id=\"agent_1\"><circle cx=\"215\" cy=\"215\" r=\"205\" fill=\"none\" stroke=\"black\" stroke-width=\"2\" stroke-dasharray=\"3,3\"/><circle cx=\"85\" cy=\"226\" r=\"12\" fill=\"rgb(71,71,71)\"/><circle cx=\"109\" cy=\"354\" r=\"12\" fill=\"rgb(117,117,117)\"/><circle cx=\"299\" cy=\"311\" r=\"11\" fill=\"rgb(74,74,74)\"/><circle cx=\"266\" cy=\"263\" r=\"9\" fill=\"rgb(169,169,169)\"/><circle cx=\"301\" cy=\"241\" r=\"11\" fill=\"rgb(148,148,148)\"/><circle cx=\"376\" cy=\"305\" r=\"10\" fill=\"rgb(186,186,186)\"/><circle cx=\"61\" cy=\"205\" r=\"12\" fill=\"rgb(176,176,176)\"/></svg><svg viewBox='0 0 430 430' id=\"svg\" width=\"172\" height=\"172\"><circle cx=\"215\" cy=\"215\" r=\"205\" fill=\"none\" stroke=\"black\" stroke-width=\"2\" stroke-dasharray=\"3,3\"/> <circle cx=\"85\" cy=\"226\" r=\"12\" fill=\"rgb(255,255,255)\" class=\"agent_1_3\"/><circle cx=\"109\" cy=\"354\" r=\"12\" fill=\"rgb(255,255,255)\" class=\"agent_1_7\"/><circle cx=\"299\" cy=\"311\" r=\"11\" fill=\"rgb(255,255,255)\" class=\"agent_1_8\"/><circle cx=\"266\" cy=\"263\" r=\"9\" fill=\"rgb(255,255,255)\" class=\"agent_1_18\"/><circle cx=\"301\" cy=\"241\" r=\"11\" fill=\"rgb(255,255,255)\" class=\"agent_1_30\"/><circle cx=\"376\" cy=\"305\" r=\"10\" fill=\"rgb(255,255,255)\" class=\"agent_1_39\"/><circle cx=\"61\" cy=\"205\" r=\"12\" fill=\"rgb(255,255,255)\" class=\"agent_1_48\"/></svg></div>"
      ],
      "text/plain": [
       "<IPython.core.display.HTML object>"
      ]
     },
     "metadata": {},
     "output_type": "display_data"
    },
    {
     "name": "stdout",
     "output_type": "stream",
     "text": [
      "max prob: 0.208955317735672\n",
      "entropy: 1.9147226810455322\n",
      "bob sel_prob after pred: tensor([0.1574, 0.1550, 0.2090, 0.0943, 0.1554, 0.1227, 0.1062],\n",
      "       grad_fn=<ViewBackward>)\n"
     ]
    },
    {
     "data": {
      "text/html": [
       "<div style=\"white-space: nowrap\"><svg viewbox='0 0 430 430' width=\"172\" height=\"172\" id=\"agent_1\"><circle cx=\"215\" cy=\"215\" r=\"205\" fill=\"none\" stroke=\"black\" stroke-width=\"2\" stroke-dasharray=\"3,3\"/><circle cx=\"85\" cy=\"226\" r=\"12\" fill=\"rgb(71,71,71)\"/><circle cx=\"109\" cy=\"354\" r=\"12\" fill=\"rgb(117,117,117)\"/><circle cx=\"299\" cy=\"311\" r=\"11\" fill=\"rgb(74,74,74)\"/><circle cx=\"266\" cy=\"263\" r=\"9\" fill=\"rgb(169,169,169)\"/><circle cx=\"301\" cy=\"241\" r=\"11\" fill=\"rgb(148,148,148)\"/><circle cx=\"376\" cy=\"305\" r=\"10\" fill=\"rgb(186,186,186)\"/><circle cx=\"61\" cy=\"205\" r=\"12\" fill=\"rgb(176,176,176)\"/></svg><svg viewBox='0 0 430 430' id=\"svg\" width=\"172\" height=\"172\"><circle cx=\"215\" cy=\"215\" r=\"205\" fill=\"none\" stroke=\"black\" stroke-width=\"2\" stroke-dasharray=\"3,3\"/> <circle cx=\"85\" cy=\"226\" r=\"12\" fill=\"rgb(255,214,214)\" class=\"agent_1_3\"/><circle cx=\"109\" cy=\"354\" r=\"12\" fill=\"rgb(255,215,215)\" class=\"agent_1_7\"/><circle cx=\"299\" cy=\"311\" r=\"11\" fill=\"rgb(255,201,201)\" class=\"agent_1_8\"/><circle cx=\"266\" cy=\"263\" r=\"9\" fill=\"rgb(255,230,230)\" class=\"agent_1_18\"/><circle cx=\"301\" cy=\"241\" r=\"11\" fill=\"rgb(255,215,215)\" class=\"agent_1_30\"/><circle cx=\"376\" cy=\"305\" r=\"10\" fill=\"rgb(255,223,223)\" class=\"agent_1_39\"/><circle cx=\"61\" cy=\"205\" r=\"12\" fill=\"rgb(255,227,227)\" class=\"agent_1_48\"/></svg></div>"
      ],
      "text/plain": [
       "<IPython.core.display.HTML object>"
      ]
     },
     "metadata": {},
     "output_type": "display_data"
    },
    {
     "name": "stdout",
     "output_type": "stream",
     "text": [
      "bob: no i do n't have that <eos>\n",
      "bob detected markables:\n",
      "{'start': 20, 'end': 24, 'is_self': True, 'text': 'that'}\n",
      "alice detected markables:\n",
      "{'start': 20, 'end': 24, 'is_self': True, 'text': 'that'}\n",
      "\n",
      "----------------------------------------\n",
      "\n",
      "max prob: 0.23341067135334015\n",
      "entropy: 1.8850712776184082\n",
      "alice sel_prob_now: tensor([0.1615, 0.0784, 0.2334, 0.1248, 0.0898, 0.1295, 0.1825],\n",
      "       grad_fn=<ViewBackward>)\n"
     ]
    },
    {
     "data": {
      "text/html": [
       "<div style=\"white-space: nowrap\"><svg viewbox='0 0 430 430' width=\"172\" height=\"172\" id=\"agent_0\"><circle cx=\"215\" cy=\"215\" r=\"205\" fill=\"none\" stroke=\"black\" stroke-width=\"2\" stroke-dasharray=\"3,3\"/><circle cx=\"163\" cy=\"184\" r=\"11\" fill=\"rgb(74,74,74)\"/><circle cx=\"130\" cy=\"135\" r=\"9\" fill=\"rgb(169,169,169)\"/><circle cx=\"366\" cy=\"307\" r=\"10\" fill=\"rgb(96,96,96)\"/><circle cx=\"165\" cy=\"114\" r=\"11\" fill=\"rgb(148,148,148)\"/><circle cx=\"240\" cy=\"178\" r=\"10\" fill=\"rgb(186,186,186)\"/><circle cx=\"354\" cy=\"179\" r=\"7\" fill=\"rgb(113,113,113)\"/><circle cx=\"288\" cy=\"51\" r=\"13\" fill=\"rgb(104,104,104)\"/></svg><svg viewBox='0 0 430 430' id=\"svg\" width=\"172\" height=\"172\"><circle cx=\"215\" cy=\"215\" r=\"205\" fill=\"none\" stroke=\"black\" stroke-width=\"2\" stroke-dasharray=\"3,3\"/> <circle cx=\"163\" cy=\"184\" r=\"11\" fill=\"rgb(255,213,213)\" class=\"agent_0_8\"/><circle cx=\"130\" cy=\"135\" r=\"9\" fill=\"rgb(255,235,235)\" class=\"agent_0_18\"/><circle cx=\"366\" cy=\"307\" r=\"10\" fill=\"rgb(255,195,195)\" class=\"agent_0_26\"/><circle cx=\"165\" cy=\"114\" r=\"11\" fill=\"rgb(255,223,223)\" class=\"agent_0_30\"/><circle cx=\"240\" cy=\"178\" r=\"10\" fill=\"rgb(255,232,232)\" class=\"agent_0_39\"/><circle cx=\"354\" cy=\"179\" r=\"7\" fill=\"rgb(255,221,221)\" class=\"agent_0_41\"/><circle cx=\"288\" cy=\"51\" r=\"13\" fill=\"rgb(255,208,208)\" class=\"agent_0_57\"/></svg></div>"
      ],
      "text/plain": [
       "<IPython.core.display.HTML object>"
      ]
     },
     "metadata": {},
     "output_type": "display_data"
    },
    {
     "name": "stdout",
     "output_type": "stream",
     "text": [
      "alice to_mention_pred\n"
     ]
    },
    {
     "data": {
      "text/html": [
       "<div style=\"white-space: nowrap\"><svg viewbox='0 0 430 430' width=\"172\" height=\"172\" id=\"agent_0\"><circle cx=\"215\" cy=\"215\" r=\"205\" fill=\"none\" stroke=\"black\" stroke-width=\"2\" stroke-dasharray=\"3,3\"/><circle cx=\"163\" cy=\"184\" r=\"11\" fill=\"rgb(74,74,74)\"/><circle cx=\"130\" cy=\"135\" r=\"9\" fill=\"rgb(169,169,169)\"/><circle cx=\"366\" cy=\"307\" r=\"10\" fill=\"rgb(96,96,96)\"/><circle cx=\"165\" cy=\"114\" r=\"11\" fill=\"rgb(148,148,148)\"/><circle cx=\"240\" cy=\"178\" r=\"10\" fill=\"rgb(186,186,186)\"/><circle cx=\"354\" cy=\"179\" r=\"7\" fill=\"rgb(113,113,113)\"/><circle cx=\"288\" cy=\"51\" r=\"13\" fill=\"rgb(104,104,104)\"/></svg><svg viewBox='0 0 430 430' id=\"svg\" width=\"172\" height=\"172\"><circle cx=\"215\" cy=\"215\" r=\"205\" fill=\"none\" stroke=\"black\" stroke-width=\"2\" stroke-dasharray=\"3,3\"/> <circle cx=\"163\" cy=\"184\" r=\"11\" fill=\"rgb(255,255,255)\" class=\"agent_0_8\"/><circle cx=\"130\" cy=\"135\" r=\"9\" fill=\"rgb(255,255,255)\" class=\"agent_0_18\"/><circle cx=\"366\" cy=\"307\" r=\"10\" fill=\"rgb(255,255,255)\" class=\"agent_0_26\"/><circle cx=\"165\" cy=\"114\" r=\"11\" fill=\"rgb(255,255,255)\" class=\"agent_0_30\"/><circle cx=\"240\" cy=\"178\" r=\"10\" fill=\"rgb(255,255,255)\" class=\"agent_0_39\"/><circle cx=\"354\" cy=\"179\" r=\"7\" fill=\"rgb(255,255,255)\" class=\"agent_0_41\"/><circle cx=\"288\" cy=\"51\" r=\"13\" fill=\"rgb(255,255,255)\" class=\"agent_0_57\"/></svg></div>"
      ],
      "text/plain": [
       "<IPython.core.display.HTML object>"
      ]
     },
     "metadata": {},
     "output_type": "display_data"
    },
    {
     "name": "stdout",
     "output_type": "stream",
     "text": [
      "max prob: 0.23046495020389557\n",
      "entropy: 1.8876755237579346\n",
      "alice sel_prob after pred: tensor([0.1675, 0.0785, 0.2305, 0.1283, 0.0920, 0.1253, 0.1779],\n",
      "       grad_fn=<ViewBackward>)\n"
     ]
    },
    {
     "data": {
      "text/html": [
       "<div style=\"white-space: nowrap\"><svg viewbox='0 0 430 430' width=\"172\" height=\"172\" id=\"agent_0\"><circle cx=\"215\" cy=\"215\" r=\"205\" fill=\"none\" stroke=\"black\" stroke-width=\"2\" stroke-dasharray=\"3,3\"/><circle cx=\"163\" cy=\"184\" r=\"11\" fill=\"rgb(74,74,74)\"/><circle cx=\"130\" cy=\"135\" r=\"9\" fill=\"rgb(169,169,169)\"/><circle cx=\"366\" cy=\"307\" r=\"10\" fill=\"rgb(96,96,96)\"/><circle cx=\"165\" cy=\"114\" r=\"11\" fill=\"rgb(148,148,148)\"/><circle cx=\"240\" cy=\"178\" r=\"10\" fill=\"rgb(186,186,186)\"/><circle cx=\"354\" cy=\"179\" r=\"7\" fill=\"rgb(113,113,113)\"/><circle cx=\"288\" cy=\"51\" r=\"13\" fill=\"rgb(104,104,104)\"/></svg><svg viewBox='0 0 430 430' id=\"svg\" width=\"172\" height=\"172\"><circle cx=\"215\" cy=\"215\" r=\"205\" fill=\"none\" stroke=\"black\" stroke-width=\"2\" stroke-dasharray=\"3,3\"/> <circle cx=\"163\" cy=\"184\" r=\"11\" fill=\"rgb(255,212,212)\" class=\"agent_0_8\"/><circle cx=\"130\" cy=\"135\" r=\"9\" fill=\"rgb(255,234,234)\" class=\"agent_0_18\"/><circle cx=\"366\" cy=\"307\" r=\"10\" fill=\"rgb(255,196,196)\" class=\"agent_0_26\"/><circle cx=\"165\" cy=\"114\" r=\"11\" fill=\"rgb(255,222,222)\" class=\"agent_0_30\"/><circle cx=\"240\" cy=\"178\" r=\"10\" fill=\"rgb(255,231,231)\" class=\"agent_0_39\"/><circle cx=\"354\" cy=\"179\" r=\"7\" fill=\"rgb(255,223,223)\" class=\"agent_0_41\"/><circle cx=\"288\" cy=\"51\" r=\"13\" fill=\"rgb(255,209,209)\" class=\"agent_0_57\"/></svg></div>"
      ],
      "text/plain": [
       "<IPython.core.display.HTML object>"
      ]
     },
     "metadata": {},
     "output_type": "display_data"
    },
    {
     "name": "stdout",
     "output_type": "stream",
     "text": [
      "alice: no i do n't have that <eos>\n",
      "alice detected markables:\n",
      "{'start': 20, 'end': 24, 'is_self': True, 'text': 'that'}\n",
      "bob detected markables:\n",
      "{'start': 20, 'end': 24, 'is_self': True, 'text': 'that'}\n",
      "\n",
      "----------------------------------------\n",
      "\n",
      "max prob: 0.19962817430496216\n",
      "entropy: 1.9218010902404785\n",
      "bob sel_prob_now: tensor([0.1555, 0.1539, 0.1996, 0.1024, 0.1580, 0.1209, 0.1097],\n",
      "       grad_fn=<ViewBackward>)\n"
     ]
    },
    {
     "data": {
      "text/html": [
       "<div style=\"white-space: nowrap\"><svg viewbox='0 0 430 430' width=\"172\" height=\"172\" id=\"agent_1\"><circle cx=\"215\" cy=\"215\" r=\"205\" fill=\"none\" stroke=\"black\" stroke-width=\"2\" stroke-dasharray=\"3,3\"/><circle cx=\"85\" cy=\"226\" r=\"12\" fill=\"rgb(71,71,71)\"/><circle cx=\"109\" cy=\"354\" r=\"12\" fill=\"rgb(117,117,117)\"/><circle cx=\"299\" cy=\"311\" r=\"11\" fill=\"rgb(74,74,74)\"/><circle cx=\"266\" cy=\"263\" r=\"9\" fill=\"rgb(169,169,169)\"/><circle cx=\"301\" cy=\"241\" r=\"11\" fill=\"rgb(148,148,148)\"/><circle cx=\"376\" cy=\"305\" r=\"10\" fill=\"rgb(186,186,186)\"/><circle cx=\"61\" cy=\"205\" r=\"12\" fill=\"rgb(176,176,176)\"/></svg><svg viewBox='0 0 430 430' id=\"svg\" width=\"172\" height=\"172\"><circle cx=\"215\" cy=\"215\" r=\"205\" fill=\"none\" stroke=\"black\" stroke-width=\"2\" stroke-dasharray=\"3,3\"/> <circle cx=\"85\" cy=\"226\" r=\"12\" fill=\"rgb(255,215,215)\" class=\"agent_1_3\"/><circle cx=\"109\" cy=\"354\" r=\"12\" fill=\"rgb(255,215,215)\" class=\"agent_1_7\"/><circle cx=\"299\" cy=\"311\" r=\"11\" fill=\"rgb(255,204,204)\" class=\"agent_1_8\"/><circle cx=\"266\" cy=\"263\" r=\"9\" fill=\"rgb(255,228,228)\" class=\"agent_1_18\"/><circle cx=\"301\" cy=\"241\" r=\"11\" fill=\"rgb(255,214,214)\" class=\"agent_1_30\"/><circle cx=\"376\" cy=\"305\" r=\"10\" fill=\"rgb(255,224,224)\" class=\"agent_1_39\"/><circle cx=\"61\" cy=\"205\" r=\"12\" fill=\"rgb(255,227,227)\" class=\"agent_1_48\"/></svg></div>"
      ],
      "text/plain": [
       "<IPython.core.display.HTML object>"
      ]
     },
     "metadata": {},
     "output_type": "display_data"
    },
    {
     "name": "stdout",
     "output_type": "stream",
     "text": [
      "bob to_mention_pred\n"
     ]
    },
    {
     "data": {
      "text/html": [
       "<div style=\"white-space: nowrap\"><svg viewbox='0 0 430 430' width=\"172\" height=\"172\" id=\"agent_1\"><circle cx=\"215\" cy=\"215\" r=\"205\" fill=\"none\" stroke=\"black\" stroke-width=\"2\" stroke-dasharray=\"3,3\"/><circle cx=\"85\" cy=\"226\" r=\"12\" fill=\"rgb(71,71,71)\"/><circle cx=\"109\" cy=\"354\" r=\"12\" fill=\"rgb(117,117,117)\"/><circle cx=\"299\" cy=\"311\" r=\"11\" fill=\"rgb(74,74,74)\"/><circle cx=\"266\" cy=\"263\" r=\"9\" fill=\"rgb(169,169,169)\"/><circle cx=\"301\" cy=\"241\" r=\"11\" fill=\"rgb(148,148,148)\"/><circle cx=\"376\" cy=\"305\" r=\"10\" fill=\"rgb(186,186,186)\"/><circle cx=\"61\" cy=\"205\" r=\"12\" fill=\"rgb(176,176,176)\"/></svg><svg viewBox='0 0 430 430' id=\"svg\" width=\"172\" height=\"172\"><circle cx=\"215\" cy=\"215\" r=\"205\" fill=\"none\" stroke=\"black\" stroke-width=\"2\" stroke-dasharray=\"3,3\"/> <circle cx=\"85\" cy=\"226\" r=\"12\" fill=\"rgb(255,255,255)\" class=\"agent_1_3\"/><circle cx=\"109\" cy=\"354\" r=\"12\" fill=\"rgb(255,255,255)\" class=\"agent_1_7\"/><circle cx=\"299\" cy=\"311\" r=\"11\" fill=\"rgb(255,255,255)\" class=\"agent_1_8\"/><circle cx=\"266\" cy=\"263\" r=\"9\" fill=\"rgb(255,255,255)\" class=\"agent_1_18\"/><circle cx=\"301\" cy=\"241\" r=\"11\" fill=\"rgb(255,255,255)\" class=\"agent_1_30\"/><circle cx=\"376\" cy=\"305\" r=\"10\" fill=\"rgb(255,255,255)\" class=\"agent_1_39\"/><circle cx=\"61\" cy=\"205\" r=\"12\" fill=\"rgb(255,255,255)\" class=\"agent_1_48\"/></svg></div>"
      ],
      "text/plain": [
       "<IPython.core.display.HTML object>"
      ]
     },
     "metadata": {},
     "output_type": "display_data"
    },
    {
     "name": "stdout",
     "output_type": "stream",
     "text": [
      "max prob: 0.2072402536869049\n",
      "entropy: 1.917909860610962\n",
      "bob sel_prob after pred: tensor([0.1522, 0.1509, 0.2072, 0.1004, 0.1595, 0.1251, 0.1046],\n",
      "       grad_fn=<ViewBackward>)\n"
     ]
    },
    {
     "data": {
      "text/html": [
       "<div style=\"white-space: nowrap\"><svg viewbox='0 0 430 430' width=\"172\" height=\"172\" id=\"agent_1\"><circle cx=\"215\" cy=\"215\" r=\"205\" fill=\"none\" stroke=\"black\" stroke-width=\"2\" stroke-dasharray=\"3,3\"/><circle cx=\"85\" cy=\"226\" r=\"12\" fill=\"rgb(71,71,71)\"/><circle cx=\"109\" cy=\"354\" r=\"12\" fill=\"rgb(117,117,117)\"/><circle cx=\"299\" cy=\"311\" r=\"11\" fill=\"rgb(74,74,74)\"/><circle cx=\"266\" cy=\"263\" r=\"9\" fill=\"rgb(169,169,169)\"/><circle cx=\"301\" cy=\"241\" r=\"11\" fill=\"rgb(148,148,148)\"/><circle cx=\"376\" cy=\"305\" r=\"10\" fill=\"rgb(186,186,186)\"/><circle cx=\"61\" cy=\"205\" r=\"12\" fill=\"rgb(176,176,176)\"/></svg><svg viewBox='0 0 430 430' id=\"svg\" width=\"172\" height=\"172\"><circle cx=\"215\" cy=\"215\" r=\"205\" fill=\"none\" stroke=\"black\" stroke-width=\"2\" stroke-dasharray=\"3,3\"/> <circle cx=\"85\" cy=\"226\" r=\"12\" fill=\"rgb(255,216,216)\" class=\"agent_1_3\"/><circle cx=\"109\" cy=\"354\" r=\"12\" fill=\"rgb(255,216,216)\" class=\"agent_1_7\"/><circle cx=\"299\" cy=\"311\" r=\"11\" fill=\"rgb(255,202,202)\" class=\"agent_1_8\"/><circle cx=\"266\" cy=\"263\" r=\"9\" fill=\"rgb(255,229,229)\" class=\"agent_1_18\"/><circle cx=\"301\" cy=\"241\" r=\"11\" fill=\"rgb(255,214,214)\" class=\"agent_1_30\"/><circle cx=\"376\" cy=\"305\" r=\"10\" fill=\"rgb(255,223,223)\" class=\"agent_1_39\"/><circle cx=\"61\" cy=\"205\" r=\"12\" fill=\"rgb(255,228,228)\" class=\"agent_1_48\"/></svg></div>"
      ],
      "text/plain": [
       "<IPython.core.display.HTML object>"
      ]
     },
     "metadata": {},
     "output_type": "display_data"
    },
    {
     "name": "stdout",
     "output_type": "stream",
     "text": [
      "bob: no i do n't have that <eos>\n",
      "bob detected markables:\n",
      "{'start': 20, 'end': 24, 'is_self': True, 'text': 'that'}\n",
      "alice detected markables:\n",
      "{'start': 20, 'end': 24, 'is_self': True, 'text': 'that'}\n",
      "\n",
      "----------------------------------------\n",
      "\n"
     ]
    }
   ],
   "source": [
    "selfplay_contexts_and_mentions(selfplay_scenarios_list[3], beam_size=1, min_num_mentions=1)"
   ]
  },
  {
   "cell_type": "code",
   "execution_count": 63,
   "metadata": {
    "scrolled": false
   },
   "outputs": [
    {
     "name": "stdout",
     "output_type": "stream",
     "text": [
      "found it\n",
      "max prob: 0.3707628846168518\n",
      "entropy: 1.7103047370910645\n",
      "alice sel_prob_now: tensor([0.1154, 0.0757, 0.0521, 0.2185, 0.0659, 0.1016, 0.3708],\n",
      "       grad_fn=<ViewBackward>)\n"
     ]
    },
    {
     "data": {
      "text/html": [
       "<div style=\"white-space: nowrap\"><svg viewbox='0 0 430 430' width=\"172\" height=\"172\" id=\"agent_0\"><circle cx=\"215\" cy=\"215\" r=\"205\" fill=\"none\" stroke=\"black\" stroke-width=\"2\" stroke-dasharray=\"3,3\"/><circle cx=\"211\" cy=\"98\" r=\"8\" fill=\"rgb(185,185,185)\"/><circle cx=\"131\" cy=\"278\" r=\"12\" fill=\"rgb(136,136,136)\"/><circle cx=\"111\" cy=\"315\" r=\"10\" fill=\"rgb(129,129,129)\"/><circle cx=\"226\" cy=\"66\" r=\"12\" fill=\"rgb(84,84,84)\"/><circle cx=\"241\" cy=\"330\" r=\"10\" fill=\"rgb(153,153,153)\"/><circle cx=\"213\" cy=\"407\" r=\"12\" fill=\"rgb(110,110,110)\"/><circle cx=\"337\" cy=\"365\" r=\"8\" fill=\"rgb(59,59,59)\"/></svg><svg viewBox='0 0 430 430' id=\"svg\" width=\"172\" height=\"172\"><circle cx=\"215\" cy=\"215\" r=\"205\" fill=\"none\" stroke=\"black\" stroke-width=\"2\" stroke-dasharray=\"3,3\"/> <circle cx=\"211\" cy=\"98\" r=\"8\" fill=\"rgb(255,225,225)\" class=\"agent_0_24\"/><circle cx=\"131\" cy=\"278\" r=\"12\" fill=\"rgb(255,235,235)\" class=\"agent_0_39\"/><circle cx=\"111\" cy=\"315\" r=\"10\" fill=\"rgb(255,241,241)\" class=\"agent_0_40\"/><circle cx=\"226\" cy=\"66\" r=\"12\" fill=\"rgb(255,199,199)\" class=\"agent_0_53\"/><circle cx=\"241\" cy=\"330\" r=\"10\" fill=\"rgb(255,238,238)\" class=\"agent_0_61\"/><circle cx=\"213\" cy=\"407\" r=\"12\" fill=\"rgb(255,229,229)\" class=\"agent_0_67\"/><circle cx=\"337\" cy=\"365\" r=\"8\" fill=\"rgb(255,160,160)\" class=\"agent_0_68\"/></svg></div>"
      ],
      "text/plain": [
       "<IPython.core.display.HTML object>"
      ]
     },
     "metadata": {},
     "output_type": "display_data"
    },
    {
     "name": "stdout",
     "output_type": "stream",
     "text": [
      "alice to_mention_pred\n"
     ]
    },
    {
     "data": {
      "text/html": [
       "<div style=\"white-space: nowrap\"><svg viewbox='0 0 430 430' width=\"172\" height=\"172\" id=\"agent_0\"><circle cx=\"215\" cy=\"215\" r=\"205\" fill=\"none\" stroke=\"black\" stroke-width=\"2\" stroke-dasharray=\"3,3\"/><circle cx=\"211\" cy=\"98\" r=\"8\" fill=\"rgb(185,185,185)\"/><circle cx=\"131\" cy=\"278\" r=\"12\" fill=\"rgb(136,136,136)\"/><circle cx=\"111\" cy=\"315\" r=\"10\" fill=\"rgb(129,129,129)\"/><circle cx=\"226\" cy=\"66\" r=\"12\" fill=\"rgb(84,84,84)\"/><circle cx=\"241\" cy=\"330\" r=\"10\" fill=\"rgb(153,153,153)\"/><circle cx=\"213\" cy=\"407\" r=\"12\" fill=\"rgb(110,110,110)\"/><circle cx=\"337\" cy=\"365\" r=\"8\" fill=\"rgb(59,59,59)\"/></svg><svg viewBox='0 0 430 430' id=\"svg\" width=\"172\" height=\"172\"><circle cx=\"215\" cy=\"215\" r=\"205\" fill=\"none\" stroke=\"black\" stroke-width=\"2\" stroke-dasharray=\"3,3\"/> <circle cx=\"211\" cy=\"98\" r=\"8\" fill=\"rgb(255,255,255)\" class=\"agent_0_24\"/><circle cx=\"131\" cy=\"278\" r=\"12\" fill=\"rgb(255,255,255)\" class=\"agent_0_39\"/><circle cx=\"111\" cy=\"315\" r=\"10\" fill=\"rgb(255,255,255)\" class=\"agent_0_40\"/><circle cx=\"226\" cy=\"66\" r=\"12\" fill=\"rgb(255,0,0)\" class=\"agent_0_53\"/><circle cx=\"241\" cy=\"330\" r=\"10\" fill=\"rgb(255,255,255)\" class=\"agent_0_61\"/><circle cx=\"213\" cy=\"407\" r=\"12\" fill=\"rgb(255,255,255)\" class=\"agent_0_67\"/><circle cx=\"337\" cy=\"365\" r=\"8\" fill=\"rgb(255,255,255)\" class=\"agent_0_68\"/></svg><svg viewBox='0 0 430 430' id=\"svg\" width=\"172\" height=\"172\"><circle cx=\"215\" cy=\"215\" r=\"205\" fill=\"none\" stroke=\"black\" stroke-width=\"2\" stroke-dasharray=\"3,3\"/> <circle cx=\"211\" cy=\"98\" r=\"8\" fill=\"rgb(255,0,0)\" class=\"agent_0_24\"/><circle cx=\"131\" cy=\"278\" r=\"12\" fill=\"rgb(255,255,255)\" class=\"agent_0_39\"/><circle cx=\"111\" cy=\"315\" r=\"10\" fill=\"rgb(255,255,255)\" class=\"agent_0_40\"/><circle cx=\"226\" cy=\"66\" r=\"12\" fill=\"rgb(255,255,255)\" class=\"agent_0_53\"/><circle cx=\"241\" cy=\"330\" r=\"10\" fill=\"rgb(255,255,255)\" class=\"agent_0_61\"/><circle cx=\"213\" cy=\"407\" r=\"12\" fill=\"rgb(255,255,255)\" class=\"agent_0_67\"/><circle cx=\"337\" cy=\"365\" r=\"8\" fill=\"rgb(255,255,255)\" class=\"agent_0_68\"/></svg><svg viewBox='0 0 430 430' id=\"svg\" width=\"172\" height=\"172\"><circle cx=\"215\" cy=\"215\" r=\"205\" fill=\"none\" stroke=\"black\" stroke-width=\"2\" stroke-dasharray=\"3,3\"/> <circle cx=\"211\" cy=\"98\" r=\"8\" fill=\"rgb(255,255,255)\" class=\"agent_0_24\"/><circle cx=\"131\" cy=\"278\" r=\"12\" fill=\"rgb(255,255,255)\" class=\"agent_0_39\"/><circle cx=\"111\" cy=\"315\" r=\"10\" fill=\"rgb(255,255,255)\" class=\"agent_0_40\"/><circle cx=\"226\" cy=\"66\" r=\"12\" fill=\"rgb(255,0,0)\" class=\"agent_0_53\"/><circle cx=\"241\" cy=\"330\" r=\"10\" fill=\"rgb(255,255,255)\" class=\"agent_0_61\"/><circle cx=\"213\" cy=\"407\" r=\"12\" fill=\"rgb(255,255,255)\" class=\"agent_0_67\"/><circle cx=\"337\" cy=\"365\" r=\"8\" fill=\"rgb(255,255,255)\" class=\"agent_0_68\"/></svg></div>"
      ],
      "text/plain": [
       "<IPython.core.display.HTML object>"
      ]
     },
     "metadata": {},
     "output_type": "display_data"
    },
    {
     "name": "stdout",
     "output_type": "stream",
     "text": [
      "max prob: 0.8332509398460388\n",
      "entropy: 0.573676586151123\n",
      "alice sel_prob after pred: tensor([0.1363, 0.0055, 0.0031, 0.8333, 0.0029, 0.0056, 0.0134],\n",
      "       grad_fn=<ViewBackward>)\n"
     ]
    },
    {
     "data": {
      "text/html": [
       "<div style=\"white-space: nowrap\"><svg viewbox='0 0 430 430' width=\"172\" height=\"172\" id=\"agent_0\"><circle cx=\"215\" cy=\"215\" r=\"205\" fill=\"none\" stroke=\"black\" stroke-width=\"2\" stroke-dasharray=\"3,3\"/><circle cx=\"211\" cy=\"98\" r=\"8\" fill=\"rgb(185,185,185)\"/><circle cx=\"131\" cy=\"278\" r=\"12\" fill=\"rgb(136,136,136)\"/><circle cx=\"111\" cy=\"315\" r=\"10\" fill=\"rgb(129,129,129)\"/><circle cx=\"226\" cy=\"66\" r=\"12\" fill=\"rgb(84,84,84)\"/><circle cx=\"241\" cy=\"330\" r=\"10\" fill=\"rgb(153,153,153)\"/><circle cx=\"213\" cy=\"407\" r=\"12\" fill=\"rgb(110,110,110)\"/><circle cx=\"337\" cy=\"365\" r=\"8\" fill=\"rgb(59,59,59)\"/></svg><svg viewBox='0 0 430 430' id=\"svg\" width=\"172\" height=\"172\"><circle cx=\"215\" cy=\"215\" r=\"205\" fill=\"none\" stroke=\"black\" stroke-width=\"2\" stroke-dasharray=\"3,3\"/> <circle cx=\"211\" cy=\"98\" r=\"8\" fill=\"rgb(255,220,220)\" class=\"agent_0_24\"/><circle cx=\"131\" cy=\"278\" r=\"12\" fill=\"rgb(255,253,253)\" class=\"agent_0_39\"/><circle cx=\"111\" cy=\"315\" r=\"10\" fill=\"rgb(255,254,254)\" class=\"agent_0_40\"/><circle cx=\"226\" cy=\"66\" r=\"12\" fill=\"rgb(255,42,42)\" class=\"agent_0_53\"/><circle cx=\"241\" cy=\"330\" r=\"10\" fill=\"rgb(255,254,254)\" class=\"agent_0_61\"/><circle cx=\"213\" cy=\"407\" r=\"12\" fill=\"rgb(255,253,253)\" class=\"agent_0_67\"/><circle cx=\"337\" cy=\"365\" r=\"8\" fill=\"rgb(255,251,251)\" class=\"agent_0_68\"/></svg></div>"
      ],
      "text/plain": [
       "<IPython.core.display.HTML object>"
      ]
     },
     "metadata": {},
     "output_type": "display_data"
    },
    {
     "name": "stdout",
     "output_type": "stream",
     "text": [
      "alice: i have a large black dot with a small light grey dot above and to the right of it <eos>\n",
      "alice detected markables:\n",
      "{'start': 10, 'end': 27, 'is_self': True, 'text': 'a large black dot'}\n",
      "{'start': 33, 'end': 55, 'is_self': True, 'text': 'a small light grey dot'}\n",
      "{'start': 82, 'end': 84, 'is_self': True, 'text': 'it'}\n",
      "bob detected markables:\n",
      "{'start': 10, 'end': 27, 'is_self': True, 'text': 'a large black dot'}\n",
      "{'start': 33, 'end': 55, 'is_self': True, 'text': 'a small light grey dot'}\n",
      "{'start': 82, 'end': 84, 'is_self': True, 'text': 'it'}\n",
      "\n",
      "----------------------------------------\n",
      "\n",
      "max prob: 0.22662246227264404\n",
      "entropy: 1.890242099761963\n",
      "bob sel_prob_now: tensor([0.1639, 0.1356, 0.1846, 0.1125, 0.0906, 0.0861, 0.2266],\n",
      "       grad_fn=<ViewBackward>)\n"
     ]
    },
    {
     "data": {
      "text/html": [
       "<div style=\"white-space: nowrap\"><svg viewbox='0 0 430 430' width=\"172\" height=\"172\" id=\"agent_1\"><circle cx=\"215\" cy=\"215\" r=\"205\" fill=\"none\" stroke=\"black\" stroke-width=\"2\" stroke-dasharray=\"3,3\"/><circle cx=\"223\" cy=\"263\" r=\"13\" fill=\"rgb(148,148,148)\"/><circle cx=\"369\" cy=\"277\" r=\"11\" fill=\"rgb(150,150,150)\"/><circle cx=\"229\" cy=\"108\" r=\"12\" fill=\"rgb(136,136,136)\"/><circle cx=\"210\" cy=\"145\" r=\"10\" fill=\"rgb(129,129,129)\"/><circle cx=\"340\" cy=\"160\" r=\"10\" fill=\"rgb(153,153,153)\"/><circle cx=\"116\" cy=\"109\" r=\"11\" fill=\"rgb(151,151,151)\"/><circle cx=\"311\" cy=\"238\" r=\"12\" fill=\"rgb(110,110,110)\"/></svg><svg viewBox='0 0 430 430' id=\"svg\" width=\"172\" height=\"172\"><circle cx=\"215\" cy=\"215\" r=\"205\" fill=\"none\" stroke=\"black\" stroke-width=\"2\" stroke-dasharray=\"3,3\"/> <circle cx=\"223\" cy=\"263\" r=\"13\" fill=\"rgb(255,213,213)\" class=\"agent_1_28\"/><circle cx=\"369\" cy=\"277\" r=\"11\" fill=\"rgb(255,220,220)\" class=\"agent_1_32\"/><circle cx=\"229\" cy=\"108\" r=\"12\" fill=\"rgb(255,207,207)\" class=\"agent_1_39\"/><circle cx=\"210\" cy=\"145\" r=\"10\" fill=\"rgb(255,226,226)\" class=\"agent_1_40\"/><circle cx=\"340\" cy=\"160\" r=\"10\" fill=\"rgb(255,231,231)\" class=\"agent_1_61\"/><circle cx=\"116\" cy=\"109\" r=\"11\" fill=\"rgb(255,233,233)\" class=\"agent_1_62\"/><circle cx=\"311\" cy=\"238\" r=\"12\" fill=\"rgb(255,197,197)\" class=\"agent_1_67\"/></svg></div>"
      ],
      "text/plain": [
       "<IPython.core.display.HTML object>"
      ]
     },
     "metadata": {},
     "output_type": "display_data"
    },
    {
     "name": "stdout",
     "output_type": "stream",
     "text": [
      "bob to_mention_pred\n"
     ]
    },
    {
     "data": {
      "text/html": [
       "<div style=\"white-space: nowrap\"><svg viewbox='0 0 430 430' width=\"172\" height=\"172\" id=\"agent_1\"><circle cx=\"215\" cy=\"215\" r=\"205\" fill=\"none\" stroke=\"black\" stroke-width=\"2\" stroke-dasharray=\"3,3\"/><circle cx=\"223\" cy=\"263\" r=\"13\" fill=\"rgb(148,148,148)\"/><circle cx=\"369\" cy=\"277\" r=\"11\" fill=\"rgb(150,150,150)\"/><circle cx=\"229\" cy=\"108\" r=\"12\" fill=\"rgb(136,136,136)\"/><circle cx=\"210\" cy=\"145\" r=\"10\" fill=\"rgb(129,129,129)\"/><circle cx=\"340\" cy=\"160\" r=\"10\" fill=\"rgb(153,153,153)\"/><circle cx=\"116\" cy=\"109\" r=\"11\" fill=\"rgb(151,151,151)\"/><circle cx=\"311\" cy=\"238\" r=\"12\" fill=\"rgb(110,110,110)\"/></svg><svg viewBox='0 0 430 430' id=\"svg\" width=\"172\" height=\"172\"><circle cx=\"215\" cy=\"215\" r=\"205\" fill=\"none\" stroke=\"black\" stroke-width=\"2\" stroke-dasharray=\"3,3\"/> <circle cx=\"223\" cy=\"263\" r=\"13\" fill=\"rgb(255,255,255)\" class=\"agent_1_28\"/><circle cx=\"369\" cy=\"277\" r=\"11\" fill=\"rgb(255,255,255)\" class=\"agent_1_32\"/><circle cx=\"229\" cy=\"108\" r=\"12\" fill=\"rgb(255,255,255)\" class=\"agent_1_39\"/><circle cx=\"210\" cy=\"145\" r=\"10\" fill=\"rgb(255,255,255)\" class=\"agent_1_40\"/><circle cx=\"340\" cy=\"160\" r=\"10\" fill=\"rgb(255,255,255)\" class=\"agent_1_61\"/><circle cx=\"116\" cy=\"109\" r=\"11\" fill=\"rgb(255,255,255)\" class=\"agent_1_62\"/><circle cx=\"311\" cy=\"238\" r=\"12\" fill=\"rgb(255,255,255)\" class=\"agent_1_67\"/></svg></div>"
      ],
      "text/plain": [
       "<IPython.core.display.HTML object>"
      ]
     },
     "metadata": {},
     "output_type": "display_data"
    },
    {
     "name": "stdout",
     "output_type": "stream",
     "text": [
      "max prob: 0.2178274691104889\n",
      "entropy: 1.8944650888442993\n",
      "bob sel_prob after pred: tensor([0.1661, 0.1371, 0.1873, 0.1118, 0.0931, 0.0869, 0.2178],\n",
      "       grad_fn=<ViewBackward>)\n"
     ]
    },
    {
     "data": {
      "text/html": [
       "<div style=\"white-space: nowrap\"><svg viewbox='0 0 430 430' width=\"172\" height=\"172\" id=\"agent_1\"><circle cx=\"215\" cy=\"215\" r=\"205\" fill=\"none\" stroke=\"black\" stroke-width=\"2\" stroke-dasharray=\"3,3\"/><circle cx=\"223\" cy=\"263\" r=\"13\" fill=\"rgb(148,148,148)\"/><circle cx=\"369\" cy=\"277\" r=\"11\" fill=\"rgb(150,150,150)\"/><circle cx=\"229\" cy=\"108\" r=\"12\" fill=\"rgb(136,136,136)\"/><circle cx=\"210\" cy=\"145\" r=\"10\" fill=\"rgb(129,129,129)\"/><circle cx=\"340\" cy=\"160\" r=\"10\" fill=\"rgb(153,153,153)\"/><circle cx=\"116\" cy=\"109\" r=\"11\" fill=\"rgb(151,151,151)\"/><circle cx=\"311\" cy=\"238\" r=\"12\" fill=\"rgb(110,110,110)\"/></svg><svg viewBox='0 0 430 430' id=\"svg\" width=\"172\" height=\"172\"><circle cx=\"215\" cy=\"215\" r=\"205\" fill=\"none\" stroke=\"black\" stroke-width=\"2\" stroke-dasharray=\"3,3\"/> <circle cx=\"223\" cy=\"263\" r=\"13\" fill=\"rgb(255,212,212)\" class=\"agent_1_28\"/><circle cx=\"369\" cy=\"277\" r=\"11\" fill=\"rgb(255,220,220)\" class=\"agent_1_32\"/><circle cx=\"229\" cy=\"108\" r=\"12\" fill=\"rgb(255,207,207)\" class=\"agent_1_39\"/><circle cx=\"210\" cy=\"145\" r=\"10\" fill=\"rgb(255,226,226)\" class=\"agent_1_40\"/><circle cx=\"340\" cy=\"160\" r=\"10\" fill=\"rgb(255,231,231)\" class=\"agent_1_61\"/><circle cx=\"116\" cy=\"109\" r=\"11\" fill=\"rgb(255,232,232)\" class=\"agent_1_62\"/><circle cx=\"311\" cy=\"238\" r=\"12\" fill=\"rgb(255,199,199)\" class=\"agent_1_67\"/></svg></div>"
      ],
      "text/plain": [
       "<IPython.core.display.HTML object>"
      ]
     },
     "metadata": {},
     "output_type": "display_data"
    },
    {
     "name": "stdout",
     "output_type": "stream",
     "text": [
      "bob: no , i do n't have that <eos>\n",
      "bob detected markables:\n",
      "{'start': 22, 'end': 26, 'is_self': True, 'text': 'that'}\n",
      "alice detected markables:\n",
      "{'start': 22, 'end': 26, 'is_self': True, 'text': 'that'}\n",
      "\n",
      "----------------------------------------\n",
      "\n",
      "max prob: 0.6074856519699097\n",
      "entropy: 1.2802069187164307\n",
      "alice sel_prob_now: tensor([0.1722, 0.0476, 0.0289, 0.6075, 0.0272, 0.0469, 0.0698],\n",
      "       grad_fn=<ViewBackward>)\n"
     ]
    },
    {
     "data": {
      "text/html": [
       "<div style=\"white-space: nowrap\"><svg viewbox='0 0 430 430' width=\"172\" height=\"172\" id=\"agent_0\"><circle cx=\"215\" cy=\"215\" r=\"205\" fill=\"none\" stroke=\"black\" stroke-width=\"2\" stroke-dasharray=\"3,3\"/><circle cx=\"211\" cy=\"98\" r=\"8\" fill=\"rgb(185,185,185)\"/><circle cx=\"131\" cy=\"278\" r=\"12\" fill=\"rgb(136,136,136)\"/><circle cx=\"111\" cy=\"315\" r=\"10\" fill=\"rgb(129,129,129)\"/><circle cx=\"226\" cy=\"66\" r=\"12\" fill=\"rgb(84,84,84)\"/><circle cx=\"241\" cy=\"330\" r=\"10\" fill=\"rgb(153,153,153)\"/><circle cx=\"213\" cy=\"407\" r=\"12\" fill=\"rgb(110,110,110)\"/><circle cx=\"337\" cy=\"365\" r=\"8\" fill=\"rgb(59,59,59)\"/></svg><svg viewBox='0 0 430 430' id=\"svg\" width=\"172\" height=\"172\"><circle cx=\"215\" cy=\"215\" r=\"205\" fill=\"none\" stroke=\"black\" stroke-width=\"2\" stroke-dasharray=\"3,3\"/> <circle cx=\"211\" cy=\"98\" r=\"8\" fill=\"rgb(255,211,211)\" class=\"agent_0_24\"/><circle cx=\"131\" cy=\"278\" r=\"12\" fill=\"rgb(255,242,242)\" class=\"agent_0_39\"/><circle cx=\"111\" cy=\"315\" r=\"10\" fill=\"rgb(255,247,247)\" class=\"agent_0_40\"/><circle cx=\"226\" cy=\"66\" r=\"12\" fill=\"rgb(255,100,100)\" class=\"agent_0_53\"/><circle cx=\"241\" cy=\"330\" r=\"10\" fill=\"rgb(255,248,248)\" class=\"agent_0_61\"/><circle cx=\"213\" cy=\"407\" r=\"12\" fill=\"rgb(255,243,243)\" class=\"agent_0_67\"/><circle cx=\"337\" cy=\"365\" r=\"8\" fill=\"rgb(255,237,237)\" class=\"agent_0_68\"/></svg></div>"
      ],
      "text/plain": [
       "<IPython.core.display.HTML object>"
      ]
     },
     "metadata": {},
     "output_type": "display_data"
    },
    {
     "name": "stdout",
     "output_type": "stream",
     "text": [
      "alice to_mention_pred\n"
     ]
    },
    {
     "data": {
      "text/html": [
       "<div style=\"white-space: nowrap\"><svg viewbox='0 0 430 430' width=\"172\" height=\"172\" id=\"agent_0\"><circle cx=\"215\" cy=\"215\" r=\"205\" fill=\"none\" stroke=\"black\" stroke-width=\"2\" stroke-dasharray=\"3,3\"/><circle cx=\"211\" cy=\"98\" r=\"8\" fill=\"rgb(185,185,185)\"/><circle cx=\"131\" cy=\"278\" r=\"12\" fill=\"rgb(136,136,136)\"/><circle cx=\"111\" cy=\"315\" r=\"10\" fill=\"rgb(129,129,129)\"/><circle cx=\"226\" cy=\"66\" r=\"12\" fill=\"rgb(84,84,84)\"/><circle cx=\"241\" cy=\"330\" r=\"10\" fill=\"rgb(153,153,153)\"/><circle cx=\"213\" cy=\"407\" r=\"12\" fill=\"rgb(110,110,110)\"/><circle cx=\"337\" cy=\"365\" r=\"8\" fill=\"rgb(59,59,59)\"/></svg><svg viewBox='0 0 430 430' id=\"svg\" width=\"172\" height=\"172\"><circle cx=\"215\" cy=\"215\" r=\"205\" fill=\"none\" stroke=\"black\" stroke-width=\"2\" stroke-dasharray=\"3,3\"/> <circle cx=\"211\" cy=\"98\" r=\"8\" fill=\"rgb(255,255,255)\" class=\"agent_0_24\"/><circle cx=\"131\" cy=\"278\" r=\"12\" fill=\"rgb(255,255,255)\" class=\"agent_0_39\"/><circle cx=\"111\" cy=\"315\" r=\"10\" fill=\"rgb(255,255,255)\" class=\"agent_0_40\"/><circle cx=\"226\" cy=\"66\" r=\"12\" fill=\"rgb(255,0,0)\" class=\"agent_0_53\"/><circle cx=\"241\" cy=\"330\" r=\"10\" fill=\"rgb(255,255,255)\" class=\"agent_0_61\"/><circle cx=\"213\" cy=\"407\" r=\"12\" fill=\"rgb(255,255,255)\" class=\"agent_0_67\"/><circle cx=\"337\" cy=\"365\" r=\"8\" fill=\"rgb(255,255,255)\" class=\"agent_0_68\"/></svg></div>"
      ],
      "text/plain": [
       "<IPython.core.display.HTML object>"
      ]
     },
     "metadata": {},
     "output_type": "display_data"
    },
    {
     "name": "stdout",
     "output_type": "stream",
     "text": [
      "max prob: 0.9861859083175659\n",
      "entropy: 0.09687942266464233\n",
      "alice sel_prob after pred: tensor([0.0015, 0.0026, 0.0017, 0.9862, 0.0016, 0.0026, 0.0037],\n",
      "       grad_fn=<ViewBackward>)\n"
     ]
    },
    {
     "data": {
      "text/html": [
       "<div style=\"white-space: nowrap\"><svg viewbox='0 0 430 430' width=\"172\" height=\"172\" id=\"agent_0\"><circle cx=\"215\" cy=\"215\" r=\"205\" fill=\"none\" stroke=\"black\" stroke-width=\"2\" stroke-dasharray=\"3,3\"/><circle cx=\"211\" cy=\"98\" r=\"8\" fill=\"rgb(185,185,185)\"/><circle cx=\"131\" cy=\"278\" r=\"12\" fill=\"rgb(136,136,136)\"/><circle cx=\"111\" cy=\"315\" r=\"10\" fill=\"rgb(129,129,129)\"/><circle cx=\"226\" cy=\"66\" r=\"12\" fill=\"rgb(84,84,84)\"/><circle cx=\"241\" cy=\"330\" r=\"10\" fill=\"rgb(153,153,153)\"/><circle cx=\"213\" cy=\"407\" r=\"12\" fill=\"rgb(110,110,110)\"/><circle cx=\"337\" cy=\"365\" r=\"8\" fill=\"rgb(59,59,59)\"/></svg><svg viewBox='0 0 430 430' id=\"svg\" width=\"172\" height=\"172\"><circle cx=\"215\" cy=\"215\" r=\"205\" fill=\"none\" stroke=\"black\" stroke-width=\"2\" stroke-dasharray=\"3,3\"/> <circle cx=\"211\" cy=\"98\" r=\"8\" fill=\"rgb(255,254,254)\" class=\"agent_0_24\"/><circle cx=\"131\" cy=\"278\" r=\"12\" fill=\"rgb(255,254,254)\" class=\"agent_0_39\"/><circle cx=\"111\" cy=\"315\" r=\"10\" fill=\"rgb(255,254,254)\" class=\"agent_0_40\"/><circle cx=\"226\" cy=\"66\" r=\"12\" fill=\"rgb(255,3,3)\" class=\"agent_0_53\"/><circle cx=\"241\" cy=\"330\" r=\"10\" fill=\"rgb(255,254,254)\" class=\"agent_0_61\"/><circle cx=\"213\" cy=\"407\" r=\"12\" fill=\"rgb(255,254,254)\" class=\"agent_0_67\"/><circle cx=\"337\" cy=\"365\" r=\"8\" fill=\"rgb(255,254,254)\" class=\"agent_0_68\"/></svg></div>"
      ],
      "text/plain": [
       "<IPython.core.display.HTML object>"
      ]
     },
     "metadata": {},
     "output_type": "display_data"
    },
    {
     "name": "stdout",
     "output_type": "stream",
     "text": [
      "alice: yes , let 's choose the large black dot . <selection>\n",
      "alice detected markables:\n",
      "{'start': 23, 'end': 42, 'is_self': True, 'text': 'the large black dot'}\n",
      "bob detected markables:\n",
      "{'start': 23, 'end': 42, 'is_self': True, 'text': 'the large black dot'}\n",
      "\n",
      "----------------------------------------\n",
      "\n",
      "alice sel_pred\n"
     ]
    },
    {
     "data": {
      "text/html": [
       "<div style=\"white-space: nowrap\"><svg viewbox='0 0 430 430' width=\"172\" height=\"172\" id=\"agent_0\"><circle cx=\"215\" cy=\"215\" r=\"205\" fill=\"none\" stroke=\"black\" stroke-width=\"2\" stroke-dasharray=\"3,3\"/><circle cx=\"211\" cy=\"98\" r=\"8\" fill=\"rgb(185,185,185)\"/><circle cx=\"131\" cy=\"278\" r=\"12\" fill=\"rgb(136,136,136)\"/><circle cx=\"111\" cy=\"315\" r=\"10\" fill=\"rgb(129,129,129)\"/><circle cx=\"226\" cy=\"66\" r=\"12\" fill=\"rgb(84,84,84)\"/><circle cx=\"241\" cy=\"330\" r=\"10\" fill=\"rgb(153,153,153)\"/><circle cx=\"213\" cy=\"407\" r=\"12\" fill=\"rgb(110,110,110)\"/><circle cx=\"337\" cy=\"365\" r=\"8\" fill=\"rgb(59,59,59)\"/></svg><svg viewBox='0 0 430 430' id=\"svg\" width=\"172\" height=\"172\"><circle cx=\"215\" cy=\"215\" r=\"205\" fill=\"none\" stroke=\"black\" stroke-width=\"2\" stroke-dasharray=\"3,3\"/> <circle cx=\"211\" cy=\"98\" r=\"8\" fill=\"rgb(255,254,254)\" class=\"agent_0_24\"/><circle cx=\"131\" cy=\"278\" r=\"12\" fill=\"rgb(255,254,254)\" class=\"agent_0_39\"/><circle cx=\"111\" cy=\"315\" r=\"10\" fill=\"rgb(255,254,254)\" class=\"agent_0_40\"/><circle cx=\"226\" cy=\"66\" r=\"12\" fill=\"rgb(255,3,3)\" class=\"agent_0_53\"/><circle cx=\"241\" cy=\"330\" r=\"10\" fill=\"rgb(255,254,254)\" class=\"agent_0_61\"/><circle cx=\"213\" cy=\"407\" r=\"12\" fill=\"rgb(255,254,254)\" class=\"agent_0_67\"/><circle cx=\"337\" cy=\"365\" r=\"8\" fill=\"rgb(255,254,254)\" class=\"agent_0_68\"/></svg></div>"
      ],
      "text/plain": [
       "<IPython.core.display.HTML object>"
      ]
     },
     "metadata": {},
     "output_type": "display_data"
    },
    {
     "name": "stdout",
     "output_type": "stream",
     "text": [
      "bob sel_pred\n"
     ]
    },
    {
     "data": {
      "text/html": [
       "<div style=\"white-space: nowrap\"><svg viewbox='0 0 430 430' width=\"172\" height=\"172\" id=\"agent_1\"><circle cx=\"215\" cy=\"215\" r=\"205\" fill=\"none\" stroke=\"black\" stroke-width=\"2\" stroke-dasharray=\"3,3\"/><circle cx=\"223\" cy=\"263\" r=\"13\" fill=\"rgb(148,148,148)\"/><circle cx=\"369\" cy=\"277\" r=\"11\" fill=\"rgb(150,150,150)\"/><circle cx=\"229\" cy=\"108\" r=\"12\" fill=\"rgb(136,136,136)\"/><circle cx=\"210\" cy=\"145\" r=\"10\" fill=\"rgb(129,129,129)\"/><circle cx=\"340\" cy=\"160\" r=\"10\" fill=\"rgb(153,153,153)\"/><circle cx=\"116\" cy=\"109\" r=\"11\" fill=\"rgb(151,151,151)\"/><circle cx=\"311\" cy=\"238\" r=\"12\" fill=\"rgb(110,110,110)\"/></svg><svg viewBox='0 0 430 430' id=\"svg\" width=\"172\" height=\"172\"><circle cx=\"215\" cy=\"215\" r=\"205\" fill=\"none\" stroke=\"black\" stroke-width=\"2\" stroke-dasharray=\"3,3\"/> <circle cx=\"223\" cy=\"263\" r=\"13\" fill=\"rgb(255,250,250)\" class=\"agent_1_28\"/><circle cx=\"369\" cy=\"277\" r=\"11\" fill=\"rgb(255,251,251)\" class=\"agent_1_32\"/><circle cx=\"229\" cy=\"108\" r=\"12\" fill=\"rgb(255,250,250)\" class=\"agent_1_39\"/><circle cx=\"210\" cy=\"145\" r=\"10\" fill=\"rgb(255,251,251)\" class=\"agent_1_40\"/><circle cx=\"340\" cy=\"160\" r=\"10\" fill=\"rgb(255,252,252)\" class=\"agent_1_61\"/><circle cx=\"116\" cy=\"109\" r=\"11\" fill=\"rgb(255,252,252)\" class=\"agent_1_62\"/><circle cx=\"311\" cy=\"238\" r=\"12\" fill=\"rgb(255,20,20)\" class=\"agent_1_67\"/></svg></div>"
      ],
      "text/plain": [
       "<IPython.core.display.HTML object>"
      ]
     },
     "metadata": {},
     "output_type": "display_data"
    },
    {
     "name": "stdout",
     "output_type": "stream",
     "text": [
      "disagree\n"
     ]
    }
   ],
   "source": [
    "selfplay_contexts_and_mentions(selfplay_scenarios_list[0], beam_size=1, min_num_mentions=1)"
   ]
  },
  {
   "cell_type": "code",
   "execution_count": 65,
   "metadata": {
    "scrolled": false
   },
   "outputs": [
    {
     "name": "stdout",
     "output_type": "stream",
     "text": [
      "found it\n",
      "max prob: 0.40251100063323975\n",
      "entropy: 1.6483134031295776\n",
      "alice sel_prob_now: tensor([0.2329, 0.0865, 0.0700, 0.0840, 0.4025, 0.0845, 0.0396],\n",
      "       grad_fn=<ViewBackward>)\n"
     ]
    },
    {
     "data": {
      "text/html": [
       "<div style=\"white-space: nowrap\"><svg viewbox='0 0 430 430' width=\"172\" height=\"172\" id=\"agent_0\"><circle cx=\"215\" cy=\"215\" r=\"205\" fill=\"none\" stroke=\"black\" stroke-width=\"2\" stroke-dasharray=\"3,3\"/><circle cx=\"120\" cy=\"114\" r=\"12\" fill=\"rgb(85,85,85)\"/><circle cx=\"184\" cy=\"374\" r=\"8\" fill=\"rgb(119,119,119)\"/><circle cx=\"277\" cy=\"347\" r=\"8\" fill=\"rgb(170,170,170)\"/><circle cx=\"279\" cy=\"54\" r=\"7\" fill=\"rgb(152,152,152)\"/><circle cx=\"306\" cy=\"117\" r=\"7\" fill=\"rgb(65,65,65)\"/><circle cx=\"156\" cy=\"108\" r=\"11\" fill=\"rgb(141,141,141)\"/><circle cx=\"126\" cy=\"347\" r=\"10\" fill=\"rgb(172,172,172)\"/></svg><svg viewBox='0 0 430 430' id=\"svg\" width=\"172\" height=\"172\"><circle cx=\"215\" cy=\"215\" r=\"205\" fill=\"none\" stroke=\"black\" stroke-width=\"2\" stroke-dasharray=\"3,3\"/> <circle cx=\"120\" cy=\"114\" r=\"12\" fill=\"rgb(255,195,195)\" class=\"agent_0_0\"/><circle cx=\"184\" cy=\"374\" r=\"8\" fill=\"rgb(255,232,232)\" class=\"agent_0_31\"/><circle cx=\"277\" cy=\"347\" r=\"8\" fill=\"rgb(255,237,237)\" class=\"agent_0_42\"/><circle cx=\"279\" cy=\"54\" r=\"7\" fill=\"rgb(255,233,233)\" class=\"agent_0_50\"/><circle cx=\"306\" cy=\"117\" r=\"7\" fill=\"rgb(255,152,152)\" class=\"agent_0_53\"/><circle cx=\"156\" cy=\"108\" r=\"11\" fill=\"rgb(255,233,233)\" class=\"agent_0_62\"/><circle cx=\"126\" cy=\"347\" r=\"10\" fill=\"rgb(255,244,244)\" class=\"agent_0_65\"/></svg></div>"
      ],
      "text/plain": [
       "<IPython.core.display.HTML object>"
      ]
     },
     "metadata": {},
     "output_type": "display_data"
    },
    {
     "name": "stdout",
     "output_type": "stream",
     "text": [
      "alice: no predicted mentions\n",
      "alice: hello ! where 's your dot ? <eos>\n",
      "alice detected markables:\n",
      "bob detected markables:\n",
      "\n",
      "----------------------------------------\n",
      "\n",
      "max prob: 0.5447425842285156\n",
      "entropy: 1.4755418300628662\n",
      "bob sel_prob_now: tensor([0.0536, 0.1051, 0.0851, 0.0656, 0.5447, 0.0363, 0.1095],\n",
      "       grad_fn=<ViewBackward>)\n"
     ]
    },
    {
     "data": {
      "text/html": [
       "<div style=\"white-space: nowrap\"><svg viewbox='0 0 430 430' width=\"172\" height=\"172\" id=\"agent_1\"><circle cx=\"215\" cy=\"215\" r=\"205\" fill=\"none\" stroke=\"black\" stroke-width=\"2\" stroke-dasharray=\"3,3\"/><circle cx=\"244\" cy=\"375\" r=\"9\" fill=\"rgb(188,188,188)\"/><circle cx=\"393\" cy=\"277\" r=\"7\" fill=\"rgb(139,139,139)\"/><circle cx=\"113\" cy=\"317\" r=\"8\" fill=\"rgb(119,119,119)\"/><circle cx=\"206\" cy=\"291\" r=\"8\" fill=\"rgb(170,170,170)\"/><circle cx=\"235\" cy=\"60\" r=\"7\" fill=\"rgb(65,65,65)\"/><circle cx=\"56\" cy=\"290\" r=\"10\" fill=\"rgb(172,172,172)\"/><circle cx=\"377\" cy=\"132\" r=\"10\" fill=\"rgb(178,178,178)\"/></svg><svg viewBox='0 0 430 430' id=\"svg\" width=\"172\" height=\"172\"><circle cx=\"215\" cy=\"215\" r=\"205\" fill=\"none\" stroke=\"black\" stroke-width=\"2\" stroke-dasharray=\"3,3\"/> <circle cx=\"244\" cy=\"375\" r=\"9\" fill=\"rgb(255,241,241)\" class=\"agent_1_4\"/><circle cx=\"393\" cy=\"277\" r=\"7\" fill=\"rgb(255,228,228)\" class=\"agent_1_6\"/><circle cx=\"113\" cy=\"317\" r=\"8\" fill=\"rgb(255,233,233)\" class=\"agent_1_31\"/><circle cx=\"206\" cy=\"291\" r=\"8\" fill=\"rgb(255,238,238)\" class=\"agent_1_42\"/><circle cx=\"235\" cy=\"60\" r=\"7\" fill=\"rgb(255,116,116)\" class=\"agent_1_53\"/><circle cx=\"56\" cy=\"290\" r=\"10\" fill=\"rgb(255,245,245)\" class=\"agent_1_65\"/><circle cx=\"377\" cy=\"132\" r=\"10\" fill=\"rgb(255,227,227)\" class=\"agent_1_72\"/></svg></div>"
      ],
      "text/plain": [
       "<IPython.core.display.HTML object>"
      ]
     },
     "metadata": {},
     "output_type": "display_data"
    },
    {
     "name": "stdout",
     "output_type": "stream",
     "text": [
      "bob to_mention_pred\n"
     ]
    },
    {
     "data": {
      "text/html": [
       "<div style=\"white-space: nowrap\"><svg viewbox='0 0 430 430' width=\"172\" height=\"172\" id=\"agent_1\"><circle cx=\"215\" cy=\"215\" r=\"205\" fill=\"none\" stroke=\"black\" stroke-width=\"2\" stroke-dasharray=\"3,3\"/><circle cx=\"244\" cy=\"375\" r=\"9\" fill=\"rgb(188,188,188)\"/><circle cx=\"393\" cy=\"277\" r=\"7\" fill=\"rgb(139,139,139)\"/><circle cx=\"113\" cy=\"317\" r=\"8\" fill=\"rgb(119,119,119)\"/><circle cx=\"206\" cy=\"291\" r=\"8\" fill=\"rgb(170,170,170)\"/><circle cx=\"235\" cy=\"60\" r=\"7\" fill=\"rgb(65,65,65)\"/><circle cx=\"56\" cy=\"290\" r=\"10\" fill=\"rgb(172,172,172)\"/><circle cx=\"377\" cy=\"132\" r=\"10\" fill=\"rgb(178,178,178)\"/></svg><svg viewBox='0 0 430 430' id=\"svg\" width=\"172\" height=\"172\"><circle cx=\"215\" cy=\"215\" r=\"205\" fill=\"none\" stroke=\"black\" stroke-width=\"2\" stroke-dasharray=\"3,3\"/> <circle cx=\"244\" cy=\"375\" r=\"9\" fill=\"rgb(255,255,255)\" class=\"agent_1_4\"/><circle cx=\"393\" cy=\"277\" r=\"7\" fill=\"rgb(255,255,255)\" class=\"agent_1_6\"/><circle cx=\"113\" cy=\"317\" r=\"8\" fill=\"rgb(255,255,255)\" class=\"agent_1_31\"/><circle cx=\"206\" cy=\"291\" r=\"8\" fill=\"rgb(255,255,255)\" class=\"agent_1_42\"/><circle cx=\"235\" cy=\"60\" r=\"7\" fill=\"rgb(255,0,0)\" class=\"agent_1_53\"/><circle cx=\"56\" cy=\"290\" r=\"10\" fill=\"rgb(255,255,255)\" class=\"agent_1_65\"/><circle cx=\"377\" cy=\"132\" r=\"10\" fill=\"rgb(255,255,255)\" class=\"agent_1_72\"/></svg><svg viewBox='0 0 430 430' id=\"svg\" width=\"172\" height=\"172\"><circle cx=\"215\" cy=\"215\" r=\"205\" fill=\"none\" stroke=\"black\" stroke-width=\"2\" stroke-dasharray=\"3,3\"/> <circle cx=\"244\" cy=\"375\" r=\"9\" fill=\"rgb(255,255,255)\" class=\"agent_1_4\"/><circle cx=\"393\" cy=\"277\" r=\"7\" fill=\"rgb(255,255,255)\" class=\"agent_1_6\"/><circle cx=\"113\" cy=\"317\" r=\"8\" fill=\"rgb(255,255,255)\" class=\"agent_1_31\"/><circle cx=\"206\" cy=\"291\" r=\"8\" fill=\"rgb(255,255,255)\" class=\"agent_1_42\"/><circle cx=\"235\" cy=\"60\" r=\"7\" fill=\"rgb(255,0,0)\" class=\"agent_1_53\"/><circle cx=\"56\" cy=\"290\" r=\"10\" fill=\"rgb(255,255,255)\" class=\"agent_1_65\"/><circle cx=\"377\" cy=\"132\" r=\"10\" fill=\"rgb(255,255,255)\" class=\"agent_1_72\"/></svg><svg viewBox='0 0 430 430' id=\"svg\" width=\"172\" height=\"172\"><circle cx=\"215\" cy=\"215\" r=\"205\" fill=\"none\" stroke=\"black\" stroke-width=\"2\" stroke-dasharray=\"3,3\"/> <circle cx=\"244\" cy=\"375\" r=\"9\" fill=\"rgb(255,255,255)\" class=\"agent_1_4\"/><circle cx=\"393\" cy=\"277\" r=\"7\" fill=\"rgb(255,255,255)\" class=\"agent_1_6\"/><circle cx=\"113\" cy=\"317\" r=\"8\" fill=\"rgb(255,255,255)\" class=\"agent_1_31\"/><circle cx=\"206\" cy=\"291\" r=\"8\" fill=\"rgb(255,255,255)\" class=\"agent_1_42\"/><circle cx=\"235\" cy=\"60\" r=\"7\" fill=\"rgb(255,0,0)\" class=\"agent_1_53\"/><circle cx=\"56\" cy=\"290\" r=\"10\" fill=\"rgb(255,255,255)\" class=\"agent_1_65\"/><circle cx=\"377\" cy=\"132\" r=\"10\" fill=\"rgb(255,255,255)\" class=\"agent_1_72\"/></svg></div>"
      ],
      "text/plain": [
       "<IPython.core.display.HTML object>"
      ]
     },
     "metadata": {},
     "output_type": "display_data"
    },
    {
     "name": "stdout",
     "output_type": "stream",
     "text": [
      "max prob: 0.9968305230140686\n",
      "entropy: 0.02698568068444729\n",
      "bob sel_prob after pred: tensor([3.6215e-04, 5.7781e-04, 7.0916e-04, 4.5161e-04, 9.9683e-01, 4.0841e-04,\n",
      "        6.6034e-04], grad_fn=<ViewBackward>)\n"
     ]
    },
    {
     "data": {
      "text/html": [
       "<div style=\"white-space: nowrap\"><svg viewbox='0 0 430 430' width=\"172\" height=\"172\" id=\"agent_1\"><circle cx=\"215\" cy=\"215\" r=\"205\" fill=\"none\" stroke=\"black\" stroke-width=\"2\" stroke-dasharray=\"3,3\"/><circle cx=\"244\" cy=\"375\" r=\"9\" fill=\"rgb(188,188,188)\"/><circle cx=\"393\" cy=\"277\" r=\"7\" fill=\"rgb(139,139,139)\"/><circle cx=\"113\" cy=\"317\" r=\"8\" fill=\"rgb(119,119,119)\"/><circle cx=\"206\" cy=\"291\" r=\"8\" fill=\"rgb(170,170,170)\"/><circle cx=\"235\" cy=\"60\" r=\"7\" fill=\"rgb(65,65,65)\"/><circle cx=\"56\" cy=\"290\" r=\"10\" fill=\"rgb(172,172,172)\"/><circle cx=\"377\" cy=\"132\" r=\"10\" fill=\"rgb(178,178,178)\"/></svg><svg viewBox='0 0 430 430' id=\"svg\" width=\"172\" height=\"172\"><circle cx=\"215\" cy=\"215\" r=\"205\" fill=\"none\" stroke=\"black\" stroke-width=\"2\" stroke-dasharray=\"3,3\"/> <circle cx=\"244\" cy=\"375\" r=\"9\" fill=\"rgb(255,254,254)\" class=\"agent_1_4\"/><circle cx=\"393\" cy=\"277\" r=\"7\" fill=\"rgb(255,254,254)\" class=\"agent_1_6\"/><circle cx=\"113\" cy=\"317\" r=\"8\" fill=\"rgb(255,254,254)\" class=\"agent_1_31\"/><circle cx=\"206\" cy=\"291\" r=\"8\" fill=\"rgb(255,254,254)\" class=\"agent_1_42\"/><circle cx=\"235\" cy=\"60\" r=\"7\" fill=\"rgb(255,0,0)\" class=\"agent_1_53\"/><circle cx=\"56\" cy=\"290\" r=\"10\" fill=\"rgb(255,254,254)\" class=\"agent_1_65\"/><circle cx=\"377\" cy=\"132\" r=\"10\" fill=\"rgb(255,254,254)\" class=\"agent_1_72\"/></svg></div>"
      ],
      "text/plain": [
       "<IPython.core.display.HTML object>"
      ]
     },
     "metadata": {},
     "output_type": "display_data"
    },
    {
     "name": "stdout",
     "output_type": "stream",
     "text": [
      "bob: i have a small black dot by itself . do you have it ? <eos>\n",
      "bob detected markables:\n",
      "{'start': 10, 'end': 27, 'is_self': True, 'text': 'a small black dot'}\n",
      "{'start': 31, 'end': 37, 'is_self': True, 'text': 'itself'}\n",
      "{'start': 52, 'end': 54, 'is_self': True, 'text': 'it'}\n",
      "alice detected markables:\n",
      "{'start': 10, 'end': 27, 'is_self': True, 'text': 'a small black dot'}\n",
      "{'start': 31, 'end': 37, 'is_self': True, 'text': 'itself'}\n",
      "{'start': 52, 'end': 54, 'is_self': True, 'text': 'it'}\n",
      "\n",
      "----------------------------------------\n",
      "\n",
      "max prob: 0.9942517280578613\n",
      "entropy: 0.044755663722753525\n",
      "alice sel_prob_now: tensor([2.0508e-03, 9.4427e-04, 4.8603e-04, 4.2166e-04, 9.9425e-01, 1.2628e-03,\n",
      "        5.8274e-04], grad_fn=<ViewBackward>)\n"
     ]
    },
    {
     "data": {
      "text/html": [
       "<div style=\"white-space: nowrap\"><svg viewbox='0 0 430 430' width=\"172\" height=\"172\" id=\"agent_0\"><circle cx=\"215\" cy=\"215\" r=\"205\" fill=\"none\" stroke=\"black\" stroke-width=\"2\" stroke-dasharray=\"3,3\"/><circle cx=\"120\" cy=\"114\" r=\"12\" fill=\"rgb(85,85,85)\"/><circle cx=\"184\" cy=\"374\" r=\"8\" fill=\"rgb(119,119,119)\"/><circle cx=\"277\" cy=\"347\" r=\"8\" fill=\"rgb(170,170,170)\"/><circle cx=\"279\" cy=\"54\" r=\"7\" fill=\"rgb(152,152,152)\"/><circle cx=\"306\" cy=\"117\" r=\"7\" fill=\"rgb(65,65,65)\"/><circle cx=\"156\" cy=\"108\" r=\"11\" fill=\"rgb(141,141,141)\"/><circle cx=\"126\" cy=\"347\" r=\"10\" fill=\"rgb(172,172,172)\"/></svg><svg viewBox='0 0 430 430' id=\"svg\" width=\"172\" height=\"172\"><circle cx=\"215\" cy=\"215\" r=\"205\" fill=\"none\" stroke=\"black\" stroke-width=\"2\" stroke-dasharray=\"3,3\"/> <circle cx=\"120\" cy=\"114\" r=\"12\" fill=\"rgb(255,254,254)\" class=\"agent_0_0\"/><circle cx=\"184\" cy=\"374\" r=\"8\" fill=\"rgb(255,254,254)\" class=\"agent_0_31\"/><circle cx=\"277\" cy=\"347\" r=\"8\" fill=\"rgb(255,254,254)\" class=\"agent_0_42\"/><circle cx=\"279\" cy=\"54\" r=\"7\" fill=\"rgb(255,254,254)\" class=\"agent_0_50\"/><circle cx=\"306\" cy=\"117\" r=\"7\" fill=\"rgb(255,1,1)\" class=\"agent_0_53\"/><circle cx=\"156\" cy=\"108\" r=\"11\" fill=\"rgb(255,254,254)\" class=\"agent_0_62\"/><circle cx=\"126\" cy=\"347\" r=\"10\" fill=\"rgb(255,254,254)\" class=\"agent_0_65\"/></svg></div>"
      ],
      "text/plain": [
       "<IPython.core.display.HTML object>"
      ]
     },
     "metadata": {},
     "output_type": "display_data"
    },
    {
     "name": "stdout",
     "output_type": "stream",
     "text": [
      "alice: no predicted mentions\n",
      "alice: sure <selection>\n",
      "alice detected markables:\n",
      "bob detected markables:\n",
      "\n",
      "----------------------------------------\n",
      "\n",
      "alice sel_pred\n"
     ]
    },
    {
     "data": {
      "text/html": [
       "<div style=\"white-space: nowrap\"><svg viewbox='0 0 430 430' width=\"172\" height=\"172\" id=\"agent_0\"><circle cx=\"215\" cy=\"215\" r=\"205\" fill=\"none\" stroke=\"black\" stroke-width=\"2\" stroke-dasharray=\"3,3\"/><circle cx=\"120\" cy=\"114\" r=\"12\" fill=\"rgb(85,85,85)\"/><circle cx=\"184\" cy=\"374\" r=\"8\" fill=\"rgb(119,119,119)\"/><circle cx=\"277\" cy=\"347\" r=\"8\" fill=\"rgb(170,170,170)\"/><circle cx=\"279\" cy=\"54\" r=\"7\" fill=\"rgb(152,152,152)\"/><circle cx=\"306\" cy=\"117\" r=\"7\" fill=\"rgb(65,65,65)\"/><circle cx=\"156\" cy=\"108\" r=\"11\" fill=\"rgb(141,141,141)\"/><circle cx=\"126\" cy=\"347\" r=\"10\" fill=\"rgb(172,172,172)\"/></svg><svg viewBox='0 0 430 430' id=\"svg\" width=\"172\" height=\"172\"><circle cx=\"215\" cy=\"215\" r=\"205\" fill=\"none\" stroke=\"black\" stroke-width=\"2\" stroke-dasharray=\"3,3\"/> <circle cx=\"120\" cy=\"114\" r=\"12\" fill=\"rgb(255,254,254)\" class=\"agent_0_0\"/><circle cx=\"184\" cy=\"374\" r=\"8\" fill=\"rgb(255,254,254)\" class=\"agent_0_31\"/><circle cx=\"277\" cy=\"347\" r=\"8\" fill=\"rgb(255,254,254)\" class=\"agent_0_42\"/><circle cx=\"279\" cy=\"54\" r=\"7\" fill=\"rgb(255,254,254)\" class=\"agent_0_50\"/><circle cx=\"306\" cy=\"117\" r=\"7\" fill=\"rgb(255,1,1)\" class=\"agent_0_53\"/><circle cx=\"156\" cy=\"108\" r=\"11\" fill=\"rgb(255,254,254)\" class=\"agent_0_62\"/><circle cx=\"126\" cy=\"347\" r=\"10\" fill=\"rgb(255,254,254)\" class=\"agent_0_65\"/></svg></div>"
      ],
      "text/plain": [
       "<IPython.core.display.HTML object>"
      ]
     },
     "metadata": {},
     "output_type": "display_data"
    },
    {
     "name": "stdout",
     "output_type": "stream",
     "text": [
      "bob sel_pred\n"
     ]
    },
    {
     "data": {
      "text/html": [
       "<div style=\"white-space: nowrap\"><svg viewbox='0 0 430 430' width=\"172\" height=\"172\" id=\"agent_1\"><circle cx=\"215\" cy=\"215\" r=\"205\" fill=\"none\" stroke=\"black\" stroke-width=\"2\" stroke-dasharray=\"3,3\"/><circle cx=\"244\" cy=\"375\" r=\"9\" fill=\"rgb(188,188,188)\"/><circle cx=\"393\" cy=\"277\" r=\"7\" fill=\"rgb(139,139,139)\"/><circle cx=\"113\" cy=\"317\" r=\"8\" fill=\"rgb(119,119,119)\"/><circle cx=\"206\" cy=\"291\" r=\"8\" fill=\"rgb(170,170,170)\"/><circle cx=\"235\" cy=\"60\" r=\"7\" fill=\"rgb(65,65,65)\"/><circle cx=\"56\" cy=\"290\" r=\"10\" fill=\"rgb(172,172,172)\"/><circle cx=\"377\" cy=\"132\" r=\"10\" fill=\"rgb(178,178,178)\"/></svg><svg viewBox='0 0 430 430' id=\"svg\" width=\"172\" height=\"172\"><circle cx=\"215\" cy=\"215\" r=\"205\" fill=\"none\" stroke=\"black\" stroke-width=\"2\" stroke-dasharray=\"3,3\"/> <circle cx=\"244\" cy=\"375\" r=\"9\" fill=\"rgb(255,254,254)\" class=\"agent_1_4\"/><circle cx=\"393\" cy=\"277\" r=\"7\" fill=\"rgb(255,254,254)\" class=\"agent_1_6\"/><circle cx=\"113\" cy=\"317\" r=\"8\" fill=\"rgb(255,254,254)\" class=\"agent_1_31\"/><circle cx=\"206\" cy=\"291\" r=\"8\" fill=\"rgb(255,254,254)\" class=\"agent_1_42\"/><circle cx=\"235\" cy=\"60\" r=\"7\" fill=\"rgb(255,0,0)\" class=\"agent_1_53\"/><circle cx=\"56\" cy=\"290\" r=\"10\" fill=\"rgb(255,254,254)\" class=\"agent_1_65\"/><circle cx=\"377\" cy=\"132\" r=\"10\" fill=\"rgb(255,254,254)\" class=\"agent_1_72\"/></svg></div>"
      ],
      "text/plain": [
       "<IPython.core.display.HTML object>"
      ]
     },
     "metadata": {},
     "output_type": "display_data"
    },
    {
     "name": "stdout",
     "output_type": "stream",
     "text": [
      "agree!\n"
     ]
    }
   ],
   "source": [
    "selfplay_contexts_and_mentions(selfplay_scenarios_list[1], beam_size=1, min_num_mentions=0)"
   ]
  },
  {
   "cell_type": "code",
   "execution_count": 66,
   "metadata": {
    "scrolled": false
   },
   "outputs": [
    {
     "name": "stdout",
     "output_type": "stream",
     "text": [
      "found it\n",
      "max prob: 0.3070402145385742\n",
      "entropy: 1.7986143827438354\n",
      "alice sel_prob_now: tensor([0.1181, 0.1460, 0.0604, 0.3070, 0.2057, 0.0858, 0.0769],\n",
      "       grad_fn=<ViewBackward>)\n"
     ]
    },
    {
     "data": {
      "text/html": [
       "<div style=\"white-space: nowrap\"><svg viewbox='0 0 430 430' width=\"172\" height=\"172\" id=\"agent_0\"><circle cx=\"215\" cy=\"215\" r=\"205\" fill=\"none\" stroke=\"black\" stroke-width=\"2\" stroke-dasharray=\"3,3\"/><circle cx=\"233\" cy=\"140\" r=\"12\" fill=\"rgb(135,135,135)\"/><circle cx=\"276\" cy=\"182\" r=\"8\" fill=\"rgb(169,169,169)\"/><circle cx=\"151\" cy=\"378\" r=\"9\" fill=\"rgb(110,110,110)\"/><circle cx=\"187\" cy=\"186\" r=\"10\" fill=\"rgb(62,62,62)\"/><circle cx=\"319\" cy=\"193\" r=\"12\" fill=\"rgb(91,91,91)\"/><circle cx=\"250\" cy=\"235\" r=\"10\" fill=\"rgb(107,107,107)\"/><circle cx=\"77\" cy=\"169\" r=\"10\" fill=\"rgb(98,98,98)\"/></svg><svg viewBox='0 0 430 430' id=\"svg\" width=\"172\" height=\"172\"><circle cx=\"215\" cy=\"215\" r=\"205\" fill=\"none\" stroke=\"black\" stroke-width=\"2\" stroke-dasharray=\"3,3\"/> <circle cx=\"233\" cy=\"140\" r=\"12\" fill=\"rgb(255,224,224)\" class=\"agent_0_19\"/><circle cx=\"276\" cy=\"182\" r=\"8\" fill=\"rgb(255,217,217)\" class=\"agent_0_35\"/><circle cx=\"151\" cy=\"378\" r=\"9\" fill=\"rgb(255,239,239)\" class=\"agent_0_37\"/><circle cx=\"187\" cy=\"186\" r=\"10\" fill=\"rgb(255,176,176)\" class=\"agent_0_43\"/><circle cx=\"319\" cy=\"193\" r=\"12\" fill=\"rgb(255,202,202)\" class=\"agent_0_44\"/><circle cx=\"250\" cy=\"235\" r=\"10\" fill=\"rgb(255,233,233)\" class=\"agent_0_48\"/><circle cx=\"77\" cy=\"169\" r=\"10\" fill=\"rgb(255,235,235)\" class=\"agent_0_77\"/></svg></div>"
      ],
      "text/plain": [
       "<IPython.core.display.HTML object>"
      ]
     },
     "metadata": {},
     "output_type": "display_data"
    },
    {
     "name": "stdout",
     "output_type": "stream",
     "text": [
      "alice: no predicted mentions\n",
      "alice: hello ! where 's your dot ? <eos>\n",
      "alice detected markables:\n",
      "bob detected markables:\n",
      "\n",
      "----------------------------------------\n",
      "\n",
      "max prob: 0.3096344769001007\n",
      "entropy: 1.794590711593628\n",
      "bob sel_prob_now: tensor([0.1042, 0.0807, 0.0770, 0.1445, 0.3096, 0.2142, 0.0699],\n",
      "       grad_fn=<ViewBackward>)\n"
     ]
    },
    {
     "data": {
      "text/html": [
       "<div style=\"white-space: nowrap\"><svg viewbox='0 0 430 430' width=\"172\" height=\"172\" id=\"agent_1\"><circle cx=\"215\" cy=\"215\" r=\"205\" fill=\"none\" stroke=\"black\" stroke-width=\"2\" stroke-dasharray=\"3,3\"/><circle cx=\"58\" cy=\"177\" r=\"13\" fill=\"rgb(135,135,135)\"/><circle cx=\"130\" cy=\"308\" r=\"12\" fill=\"rgb(135,135,135)\"/><circle cx=\"360\" cy=\"311\" r=\"10\" fill=\"rgb(149,149,149)\"/><circle cx=\"173\" cy=\"351\" r=\"8\" fill=\"rgb(169,169,169)\"/><circle cx=\"84\" cy=\"355\" r=\"10\" fill=\"rgb(62,62,62)\"/><circle cx=\"216\" cy=\"362\" r=\"12\" fill=\"rgb(91,91,91)\"/><circle cx=\"91\" cy=\"180\" r=\"10\" fill=\"rgb(178,178,178)\"/></svg><svg viewBox='0 0 430 430' id=\"svg\" width=\"172\" height=\"172\"><circle cx=\"215\" cy=\"215\" r=\"205\" fill=\"none\" stroke=\"black\" stroke-width=\"2\" stroke-dasharray=\"3,3\"/> <circle cx=\"58\" cy=\"177\" r=\"13\" fill=\"rgb(255,228,228)\" class=\"agent_1_9\"/><circle cx=\"130\" cy=\"308\" r=\"12\" fill=\"rgb(255,234,234)\" class=\"agent_1_19\"/><circle cx=\"360\" cy=\"311\" r=\"10\" fill=\"rgb(255,235,235)\" class=\"agent_1_24\"/><circle cx=\"173\" cy=\"351\" r=\"8\" fill=\"rgb(255,218,218)\" class=\"agent_1_35\"/><circle cx=\"84\" cy=\"355\" r=\"10\" fill=\"rgb(255,176,176)\" class=\"agent_1_43\"/><circle cx=\"216\" cy=\"362\" r=\"12\" fill=\"rgb(255,200,200)\" class=\"agent_1_44\"/><circle cx=\"91\" cy=\"180\" r=\"10\" fill=\"rgb(255,237,237)\" class=\"agent_1_60\"/></svg></div>"
      ],
      "text/plain": [
       "<IPython.core.display.HTML object>"
      ]
     },
     "metadata": {},
     "output_type": "display_data"
    },
    {
     "name": "stdout",
     "output_type": "stream",
     "text": [
      "bob to_mention_pred\n"
     ]
    },
    {
     "data": {
      "text/html": [
       "<div style=\"white-space: nowrap\"><svg viewbox='0 0 430 430' width=\"172\" height=\"172\" id=\"agent_1\"><circle cx=\"215\" cy=\"215\" r=\"205\" fill=\"none\" stroke=\"black\" stroke-width=\"2\" stroke-dasharray=\"3,3\"/><circle cx=\"58\" cy=\"177\" r=\"13\" fill=\"rgb(135,135,135)\"/><circle cx=\"130\" cy=\"308\" r=\"12\" fill=\"rgb(135,135,135)\"/><circle cx=\"360\" cy=\"311\" r=\"10\" fill=\"rgb(149,149,149)\"/><circle cx=\"173\" cy=\"351\" r=\"8\" fill=\"rgb(169,169,169)\"/><circle cx=\"84\" cy=\"355\" r=\"10\" fill=\"rgb(62,62,62)\"/><circle cx=\"216\" cy=\"362\" r=\"12\" fill=\"rgb(91,91,91)\"/><circle cx=\"91\" cy=\"180\" r=\"10\" fill=\"rgb(178,178,178)\"/></svg><svg viewBox='0 0 430 430' id=\"svg\" width=\"172\" height=\"172\"><circle cx=\"215\" cy=\"215\" r=\"205\" fill=\"none\" stroke=\"black\" stroke-width=\"2\" stroke-dasharray=\"3,3\"/> <circle cx=\"58\" cy=\"177\" r=\"13\" fill=\"rgb(255,255,255)\" class=\"agent_1_9\"/><circle cx=\"130\" cy=\"308\" r=\"12\" fill=\"rgb(255,0,0)\" class=\"agent_1_19\"/><circle cx=\"360\" cy=\"311\" r=\"10\" fill=\"rgb(255,255,255)\" class=\"agent_1_24\"/><circle cx=\"173\" cy=\"351\" r=\"8\" fill=\"rgb(255,0,0)\" class=\"agent_1_35\"/><circle cx=\"84\" cy=\"355\" r=\"10\" fill=\"rgb(255,0,0)\" class=\"agent_1_43\"/><circle cx=\"216\" cy=\"362\" r=\"12\" fill=\"rgb(255,0,0)\" class=\"agent_1_44\"/><circle cx=\"91\" cy=\"180\" r=\"10\" fill=\"rgb(255,255,255)\" class=\"agent_1_60\"/></svg><svg viewBox='0 0 430 430' id=\"svg\" width=\"172\" height=\"172\"><circle cx=\"215\" cy=\"215\" r=\"205\" fill=\"none\" stroke=\"black\" stroke-width=\"2\" stroke-dasharray=\"3,3\"/> <circle cx=\"58\" cy=\"177\" r=\"13\" fill=\"rgb(255,255,255)\" class=\"agent_1_9\"/><circle cx=\"130\" cy=\"308\" r=\"12\" fill=\"rgb(255,255,255)\" class=\"agent_1_19\"/><circle cx=\"360\" cy=\"311\" r=\"10\" fill=\"rgb(255,255,255)\" class=\"agent_1_24\"/><circle cx=\"173\" cy=\"351\" r=\"8\" fill=\"rgb(255,0,0)\" class=\"agent_1_35\"/><circle cx=\"84\" cy=\"355\" r=\"10\" fill=\"rgb(255,255,255)\" class=\"agent_1_43\"/><circle cx=\"216\" cy=\"362\" r=\"12\" fill=\"rgb(255,255,255)\" class=\"agent_1_44\"/><circle cx=\"91\" cy=\"180\" r=\"10\" fill=\"rgb(255,255,255)\" class=\"agent_1_60\"/></svg><svg viewBox='0 0 430 430' id=\"svg\" width=\"172\" height=\"172\"><circle cx=\"215\" cy=\"215\" r=\"205\" fill=\"none\" stroke=\"black\" stroke-width=\"2\" stroke-dasharray=\"3,3\"/> <circle cx=\"58\" cy=\"177\" r=\"13\" fill=\"rgb(255,255,255)\" class=\"agent_1_9\"/><circle cx=\"130\" cy=\"308\" r=\"12\" fill=\"rgb(255,255,255)\" class=\"agent_1_19\"/><circle cx=\"360\" cy=\"311\" r=\"10\" fill=\"rgb(255,255,255)\" class=\"agent_1_24\"/><circle cx=\"173\" cy=\"351\" r=\"8\" fill=\"rgb(255,255,255)\" class=\"agent_1_35\"/><circle cx=\"84\" cy=\"355\" r=\"10\" fill=\"rgb(255,255,255)\" class=\"agent_1_43\"/><circle cx=\"216\" cy=\"362\" r=\"12\" fill=\"rgb(255,0,0)\" class=\"agent_1_44\"/><circle cx=\"91\" cy=\"180\" r=\"10\" fill=\"rgb(255,255,255)\" class=\"agent_1_60\"/></svg></div>"
      ],
      "text/plain": [
       "<IPython.core.display.HTML object>"
      ]
     },
     "metadata": {},
     "output_type": "display_data"
    },
    {
     "name": "stdout",
     "output_type": "stream",
     "text": [
      "max prob: 0.4882216155529022\n",
      "entropy: 1.1276158094406128\n",
      "bob sel_prob after pred: tensor([0.0027, 0.0314, 0.0021, 0.4882, 0.1302, 0.3443, 0.0011],\n",
      "       grad_fn=<ViewBackward>)\n"
     ]
    },
    {
     "data": {
      "text/html": [
       "<div style=\"white-space: nowrap\"><svg viewbox='0 0 430 430' width=\"172\" height=\"172\" id=\"agent_1\"><circle cx=\"215\" cy=\"215\" r=\"205\" fill=\"none\" stroke=\"black\" stroke-width=\"2\" stroke-dasharray=\"3,3\"/><circle cx=\"58\" cy=\"177\" r=\"13\" fill=\"rgb(135,135,135)\"/><circle cx=\"130\" cy=\"308\" r=\"12\" fill=\"rgb(135,135,135)\"/><circle cx=\"360\" cy=\"311\" r=\"10\" fill=\"rgb(149,149,149)\"/><circle cx=\"173\" cy=\"351\" r=\"8\" fill=\"rgb(169,169,169)\"/><circle cx=\"84\" cy=\"355\" r=\"10\" fill=\"rgb(62,62,62)\"/><circle cx=\"216\" cy=\"362\" r=\"12\" fill=\"rgb(91,91,91)\"/><circle cx=\"91\" cy=\"180\" r=\"10\" fill=\"rgb(178,178,178)\"/></svg><svg viewBox='0 0 430 430' id=\"svg\" width=\"172\" height=\"172\"><circle cx=\"215\" cy=\"215\" r=\"205\" fill=\"none\" stroke=\"black\" stroke-width=\"2\" stroke-dasharray=\"3,3\"/> <circle cx=\"58\" cy=\"177\" r=\"13\" fill=\"rgb(255,254,254)\" class=\"agent_1_9\"/><circle cx=\"130\" cy=\"308\" r=\"12\" fill=\"rgb(255,246,246)\" class=\"agent_1_19\"/><circle cx=\"360\" cy=\"311\" r=\"10\" fill=\"rgb(255,254,254)\" class=\"agent_1_24\"/><circle cx=\"173\" cy=\"351\" r=\"8\" fill=\"rgb(255,130,130)\" class=\"agent_1_35\"/><circle cx=\"84\" cy=\"355\" r=\"10\" fill=\"rgb(255,221,221)\" class=\"agent_1_43\"/><circle cx=\"216\" cy=\"362\" r=\"12\" fill=\"rgb(255,167,167)\" class=\"agent_1_44\"/><circle cx=\"91\" cy=\"180\" r=\"10\" fill=\"rgb(255,254,254)\" class=\"agent_1_60\"/></svg></div>"
      ],
      "text/plain": [
       "<IPython.core.display.HTML object>"
      ]
     },
     "metadata": {},
     "output_type": "display_data"
    },
    {
     "name": "stdout",
     "output_type": "stream",
     "text": [
      "bob: i have a cluster of 4 dots , one is black and one is light grey <eos>\n",
      "bob detected markables:\n",
      "{'start': 10, 'end': 29, 'is_self': True, 'text': 'a cluster of 4 dots'}\n",
      "{'start': 32, 'end': 35, 'is_self': True, 'text': 'one'}\n",
      "{'start': 49, 'end': 52, 'is_self': True, 'text': 'one'}\n",
      "alice detected markables:\n",
      "{'start': 10, 'end': 29, 'is_self': True, 'text': 'a cluster of 4 dots'}\n",
      "{'start': 32, 'end': 35, 'is_self': True, 'text': 'one'}\n",
      "{'start': 49, 'end': 52, 'is_self': True, 'text': 'one'}\n",
      "\n",
      "----------------------------------------\n",
      "\n",
      "max prob: 0.47088420391082764\n",
      "entropy: 1.0602803230285645\n",
      "alice sel_prob_now: tensor([0.0263, 0.4709, 0.0018, 0.4327, 0.0448, 0.0206, 0.0029],\n",
      "       grad_fn=<ViewBackward>)\n"
     ]
    },
    {
     "data": {
      "text/html": [
       "<div style=\"white-space: nowrap\"><svg viewbox='0 0 430 430' width=\"172\" height=\"172\" id=\"agent_0\"><circle cx=\"215\" cy=\"215\" r=\"205\" fill=\"none\" stroke=\"black\" stroke-width=\"2\" stroke-dasharray=\"3,3\"/><circle cx=\"233\" cy=\"140\" r=\"12\" fill=\"rgb(135,135,135)\"/><circle cx=\"276\" cy=\"182\" r=\"8\" fill=\"rgb(169,169,169)\"/><circle cx=\"151\" cy=\"378\" r=\"9\" fill=\"rgb(110,110,110)\"/><circle cx=\"187\" cy=\"186\" r=\"10\" fill=\"rgb(62,62,62)\"/><circle cx=\"319\" cy=\"193\" r=\"12\" fill=\"rgb(91,91,91)\"/><circle cx=\"250\" cy=\"235\" r=\"10\" fill=\"rgb(107,107,107)\"/><circle cx=\"77\" cy=\"169\" r=\"10\" fill=\"rgb(98,98,98)\"/></svg><svg viewBox='0 0 430 430' id=\"svg\" width=\"172\" height=\"172\"><circle cx=\"215\" cy=\"215\" r=\"205\" fill=\"none\" stroke=\"black\" stroke-width=\"2\" stroke-dasharray=\"3,3\"/> <circle cx=\"233\" cy=\"140\" r=\"12\" fill=\"rgb(255,248,248)\" class=\"agent_0_19\"/><circle cx=\"276\" cy=\"182\" r=\"8\" fill=\"rgb(255,134,134)\" class=\"agent_0_35\"/><circle cx=\"151\" cy=\"378\" r=\"9\" fill=\"rgb(255,254,254)\" class=\"agent_0_37\"/><circle cx=\"187\" cy=\"186\" r=\"10\" fill=\"rgb(255,144,144)\" class=\"agent_0_43\"/><circle cx=\"319\" cy=\"193\" r=\"12\" fill=\"rgb(255,243,243)\" class=\"agent_0_44\"/><circle cx=\"250\" cy=\"235\" r=\"10\" fill=\"rgb(255,249,249)\" class=\"agent_0_48\"/><circle cx=\"77\" cy=\"169\" r=\"10\" fill=\"rgb(255,254,254)\" class=\"agent_0_77\"/></svg></div>"
      ],
      "text/plain": [
       "<IPython.core.display.HTML object>"
      ]
     },
     "metadata": {},
     "output_type": "display_data"
    },
    {
     "name": "stdout",
     "output_type": "stream",
     "text": [
      "alice: no predicted mentions\n",
      "alice: ok <eos>\n",
      "alice detected markables:\n",
      "bob detected markables:\n",
      "\n",
      "----------------------------------------\n",
      "\n",
      "max prob: 0.4655461013317108\n",
      "entropy: 1.0199671983718872\n",
      "bob sel_prob_now: tensor([0.0025, 0.0284, 0.0019, 0.4409, 0.4655, 0.0599, 0.0010],\n",
      "       grad_fn=<ViewBackward>)\n"
     ]
    },
    {
     "data": {
      "text/html": [
       "<div style=\"white-space: nowrap\"><svg viewbox='0 0 430 430' width=\"172\" height=\"172\" id=\"agent_1\"><circle cx=\"215\" cy=\"215\" r=\"205\" fill=\"none\" stroke=\"black\" stroke-width=\"2\" stroke-dasharray=\"3,3\"/><circle cx=\"58\" cy=\"177\" r=\"13\" fill=\"rgb(135,135,135)\"/><circle cx=\"130\" cy=\"308\" r=\"12\" fill=\"rgb(135,135,135)\"/><circle cx=\"360\" cy=\"311\" r=\"10\" fill=\"rgb(149,149,149)\"/><circle cx=\"173\" cy=\"351\" r=\"8\" fill=\"rgb(169,169,169)\"/><circle cx=\"84\" cy=\"355\" r=\"10\" fill=\"rgb(62,62,62)\"/><circle cx=\"216\" cy=\"362\" r=\"12\" fill=\"rgb(91,91,91)\"/><circle cx=\"91\" cy=\"180\" r=\"10\" fill=\"rgb(178,178,178)\"/></svg><svg viewBox='0 0 430 430' id=\"svg\" width=\"172\" height=\"172\"><circle cx=\"215\" cy=\"215\" r=\"205\" fill=\"none\" stroke=\"black\" stroke-width=\"2\" stroke-dasharray=\"3,3\"/> <circle cx=\"58\" cy=\"177\" r=\"13\" fill=\"rgb(255,254,254)\" class=\"agent_1_9\"/><circle cx=\"130\" cy=\"308\" r=\"12\" fill=\"rgb(255,247,247)\" class=\"agent_1_19\"/><circle cx=\"360\" cy=\"311\" r=\"10\" fill=\"rgb(255,254,254)\" class=\"agent_1_24\"/><circle cx=\"173\" cy=\"351\" r=\"8\" fill=\"rgb(255,142,142)\" class=\"agent_1_35\"/><circle cx=\"84\" cy=\"355\" r=\"10\" fill=\"rgb(255,136,136)\" class=\"agent_1_43\"/><circle cx=\"216\" cy=\"362\" r=\"12\" fill=\"rgb(255,239,239)\" class=\"agent_1_44\"/><circle cx=\"91\" cy=\"180\" r=\"10\" fill=\"rgb(255,254,254)\" class=\"agent_1_60\"/></svg></div>"
      ],
      "text/plain": [
       "<IPython.core.display.HTML object>"
      ]
     },
     "metadata": {},
     "output_type": "display_data"
    },
    {
     "name": "stdout",
     "output_type": "stream",
     "text": [
      "bob to_mention_pred\n"
     ]
    },
    {
     "data": {
      "text/html": [
       "<div style=\"white-space: nowrap\"><svg viewbox='0 0 430 430' width=\"172\" height=\"172\" id=\"agent_1\"><circle cx=\"215\" cy=\"215\" r=\"205\" fill=\"none\" stroke=\"black\" stroke-width=\"2\" stroke-dasharray=\"3,3\"/><circle cx=\"58\" cy=\"177\" r=\"13\" fill=\"rgb(135,135,135)\"/><circle cx=\"130\" cy=\"308\" r=\"12\" fill=\"rgb(135,135,135)\"/><circle cx=\"360\" cy=\"311\" r=\"10\" fill=\"rgb(149,149,149)\"/><circle cx=\"173\" cy=\"351\" r=\"8\" fill=\"rgb(169,169,169)\"/><circle cx=\"84\" cy=\"355\" r=\"10\" fill=\"rgb(62,62,62)\"/><circle cx=\"216\" cy=\"362\" r=\"12\" fill=\"rgb(91,91,91)\"/><circle cx=\"91\" cy=\"180\" r=\"10\" fill=\"rgb(178,178,178)\"/></svg><svg viewBox='0 0 430 430' id=\"svg\" width=\"172\" height=\"172\"><circle cx=\"215\" cy=\"215\" r=\"205\" fill=\"none\" stroke=\"black\" stroke-width=\"2\" stroke-dasharray=\"3,3\"/> <circle cx=\"58\" cy=\"177\" r=\"13\" fill=\"rgb(255,255,255)\" class=\"agent_1_9\"/><circle cx=\"130\" cy=\"308\" r=\"12\" fill=\"rgb(255,255,255)\" class=\"agent_1_19\"/><circle cx=\"360\" cy=\"311\" r=\"10\" fill=\"rgb(255,255,255)\" class=\"agent_1_24\"/><circle cx=\"173\" cy=\"351\" r=\"8\" fill=\"rgb(255,255,255)\" class=\"agent_1_35\"/><circle cx=\"84\" cy=\"355\" r=\"10\" fill=\"rgb(255,0,0)\" class=\"agent_1_43\"/><circle cx=\"216\" cy=\"362\" r=\"12\" fill=\"rgb(255,255,255)\" class=\"agent_1_44\"/><circle cx=\"91\" cy=\"180\" r=\"10\" fill=\"rgb(255,255,255)\" class=\"agent_1_60\"/></svg></div>"
      ],
      "text/plain": [
       "<IPython.core.display.HTML object>"
      ]
     },
     "metadata": {},
     "output_type": "display_data"
    },
    {
     "name": "stdout",
     "output_type": "stream",
     "text": [
      "max prob: 0.9846898317337036\n",
      "entropy: 0.09935954213142395\n",
      "bob sel_prob after pred: tensor([4.3867e-04, 3.5402e-03, 4.0042e-04, 6.3199e-03, 9.8469e-01, 4.4004e-03,\n",
      "        2.1055e-04], grad_fn=<ViewBackward>)\n"
     ]
    },
    {
     "data": {
      "text/html": [
       "<div style=\"white-space: nowrap\"><svg viewbox='0 0 430 430' width=\"172\" height=\"172\" id=\"agent_1\"><circle cx=\"215\" cy=\"215\" r=\"205\" fill=\"none\" stroke=\"black\" stroke-width=\"2\" stroke-dasharray=\"3,3\"/><circle cx=\"58\" cy=\"177\" r=\"13\" fill=\"rgb(135,135,135)\"/><circle cx=\"130\" cy=\"308\" r=\"12\" fill=\"rgb(135,135,135)\"/><circle cx=\"360\" cy=\"311\" r=\"10\" fill=\"rgb(149,149,149)\"/><circle cx=\"173\" cy=\"351\" r=\"8\" fill=\"rgb(169,169,169)\"/><circle cx=\"84\" cy=\"355\" r=\"10\" fill=\"rgb(62,62,62)\"/><circle cx=\"216\" cy=\"362\" r=\"12\" fill=\"rgb(91,91,91)\"/><circle cx=\"91\" cy=\"180\" r=\"10\" fill=\"rgb(178,178,178)\"/></svg><svg viewBox='0 0 430 430' id=\"svg\" width=\"172\" height=\"172\"><circle cx=\"215\" cy=\"215\" r=\"205\" fill=\"none\" stroke=\"black\" stroke-width=\"2\" stroke-dasharray=\"3,3\"/> <circle cx=\"58\" cy=\"177\" r=\"13\" fill=\"rgb(255,254,254)\" class=\"agent_1_9\"/><circle cx=\"130\" cy=\"308\" r=\"12\" fill=\"rgb(255,254,254)\" class=\"agent_1_19\"/><circle cx=\"360\" cy=\"311\" r=\"10\" fill=\"rgb(255,254,254)\" class=\"agent_1_24\"/><circle cx=\"173\" cy=\"351\" r=\"8\" fill=\"rgb(255,253,253)\" class=\"agent_1_35\"/><circle cx=\"84\" cy=\"355\" r=\"10\" fill=\"rgb(255,3,3)\" class=\"agent_1_43\"/><circle cx=\"216\" cy=\"362\" r=\"12\" fill=\"rgb(255,253,253)\" class=\"agent_1_44\"/><circle cx=\"91\" cy=\"180\" r=\"10\" fill=\"rgb(255,254,254)\" class=\"agent_1_60\"/></svg></div>"
      ],
      "text/plain": [
       "<IPython.core.display.HTML object>"
      ]
     },
     "metadata": {},
     "output_type": "display_data"
    },
    {
     "name": "stdout",
     "output_type": "stream",
     "text": [
      "bob: let 's pick the black one <selection>\n",
      "bob detected markables:\n",
      "{'start': 15, 'end': 28, 'is_self': True, 'text': 'the black one'}\n",
      "alice detected markables:\n",
      "{'start': 15, 'end': 28, 'is_self': True, 'text': 'the black one'}\n",
      "\n",
      "----------------------------------------\n",
      "\n",
      "bob sel_pred\n"
     ]
    },
    {
     "data": {
      "text/html": [
       "<div style=\"white-space: nowrap\"><svg viewbox='0 0 430 430' width=\"172\" height=\"172\" id=\"agent_1\"><circle cx=\"215\" cy=\"215\" r=\"205\" fill=\"none\" stroke=\"black\" stroke-width=\"2\" stroke-dasharray=\"3,3\"/><circle cx=\"58\" cy=\"177\" r=\"13\" fill=\"rgb(135,135,135)\"/><circle cx=\"130\" cy=\"308\" r=\"12\" fill=\"rgb(135,135,135)\"/><circle cx=\"360\" cy=\"311\" r=\"10\" fill=\"rgb(149,149,149)\"/><circle cx=\"173\" cy=\"351\" r=\"8\" fill=\"rgb(169,169,169)\"/><circle cx=\"84\" cy=\"355\" r=\"10\" fill=\"rgb(62,62,62)\"/><circle cx=\"216\" cy=\"362\" r=\"12\" fill=\"rgb(91,91,91)\"/><circle cx=\"91\" cy=\"180\" r=\"10\" fill=\"rgb(178,178,178)\"/></svg><svg viewBox='0 0 430 430' id=\"svg\" width=\"172\" height=\"172\"><circle cx=\"215\" cy=\"215\" r=\"205\" fill=\"none\" stroke=\"black\" stroke-width=\"2\" stroke-dasharray=\"3,3\"/> <circle cx=\"58\" cy=\"177\" r=\"13\" fill=\"rgb(255,254,254)\" class=\"agent_1_9\"/><circle cx=\"130\" cy=\"308\" r=\"12\" fill=\"rgb(255,254,254)\" class=\"agent_1_19\"/><circle cx=\"360\" cy=\"311\" r=\"10\" fill=\"rgb(255,254,254)\" class=\"agent_1_24\"/><circle cx=\"173\" cy=\"351\" r=\"8\" fill=\"rgb(255,253,253)\" class=\"agent_1_35\"/><circle cx=\"84\" cy=\"355\" r=\"10\" fill=\"rgb(255,3,3)\" class=\"agent_1_43\"/><circle cx=\"216\" cy=\"362\" r=\"12\" fill=\"rgb(255,253,253)\" class=\"agent_1_44\"/><circle cx=\"91\" cy=\"180\" r=\"10\" fill=\"rgb(255,254,254)\" class=\"agent_1_60\"/></svg></div>"
      ],
      "text/plain": [
       "<IPython.core.display.HTML object>"
      ]
     },
     "metadata": {},
     "output_type": "display_data"
    },
    {
     "name": "stdout",
     "output_type": "stream",
     "text": [
      "alice sel_pred\n"
     ]
    },
    {
     "data": {
      "text/html": [
       "<div style=\"white-space: nowrap\"><svg viewbox='0 0 430 430' width=\"172\" height=\"172\" id=\"agent_0\"><circle cx=\"215\" cy=\"215\" r=\"205\" fill=\"none\" stroke=\"black\" stroke-width=\"2\" stroke-dasharray=\"3,3\"/><circle cx=\"233\" cy=\"140\" r=\"12\" fill=\"rgb(135,135,135)\"/><circle cx=\"276\" cy=\"182\" r=\"8\" fill=\"rgb(169,169,169)\"/><circle cx=\"151\" cy=\"378\" r=\"9\" fill=\"rgb(110,110,110)\"/><circle cx=\"187\" cy=\"186\" r=\"10\" fill=\"rgb(62,62,62)\"/><circle cx=\"319\" cy=\"193\" r=\"12\" fill=\"rgb(91,91,91)\"/><circle cx=\"250\" cy=\"235\" r=\"10\" fill=\"rgb(107,107,107)\"/><circle cx=\"77\" cy=\"169\" r=\"10\" fill=\"rgb(98,98,98)\"/></svg><svg viewBox='0 0 430 430' id=\"svg\" width=\"172\" height=\"172\"><circle cx=\"215\" cy=\"215\" r=\"205\" fill=\"none\" stroke=\"black\" stroke-width=\"2\" stroke-dasharray=\"3,3\"/> <circle cx=\"233\" cy=\"140\" r=\"12\" fill=\"rgb(255,253,253)\" class=\"agent_0_19\"/><circle cx=\"276\" cy=\"182\" r=\"8\" fill=\"rgb(255,252,252)\" class=\"agent_0_35\"/><circle cx=\"151\" cy=\"378\" r=\"9\" fill=\"rgb(255,254,254)\" class=\"agent_0_37\"/><circle cx=\"187\" cy=\"186\" r=\"10\" fill=\"rgb(255,7,7)\" class=\"agent_0_43\"/><circle cx=\"319\" cy=\"193\" r=\"12\" fill=\"rgb(255,253,253)\" class=\"agent_0_44\"/><circle cx=\"250\" cy=\"235\" r=\"10\" fill=\"rgb(255,253,253)\" class=\"agent_0_48\"/><circle cx=\"77\" cy=\"169\" r=\"10\" fill=\"rgb(255,254,254)\" class=\"agent_0_77\"/></svg></div>"
      ],
      "text/plain": [
       "<IPython.core.display.HTML object>"
      ]
     },
     "metadata": {},
     "output_type": "display_data"
    },
    {
     "name": "stdout",
     "output_type": "stream",
     "text": [
      "agree!\n"
     ]
    }
   ],
   "source": [
    "selfplay_contexts_and_mentions(selfplay_scenarios_list[5], beam_size=1, min_num_mentions=0)"
   ]
  },
  {
   "cell_type": "code",
   "execution_count": 79,
   "metadata": {
    "scrolled": false
   },
   "outputs": [
    {
     "name": "stdout",
     "output_type": "stream",
     "text": [
      "found it\n",
      "max prob: 0.3070402145385742\n",
      "entropy: 1.7986143827438354\n",
      "alice sel_prob_now: tensor([0.1181, 0.1460, 0.0604, 0.3070, 0.2057, 0.0858, 0.0769],\n",
      "       grad_fn=<ViewBackward>)\n"
     ]
    },
    {
     "data": {
      "text/html": [
       "<div style=\"white-space: nowrap\"><svg viewbox='0 0 430 430' width=\"172\" height=\"172\" id=\"agent_0\"><circle cx=\"215\" cy=\"215\" r=\"205\" fill=\"none\" stroke=\"black\" stroke-width=\"2\" stroke-dasharray=\"3,3\"/><circle cx=\"233\" cy=\"140\" r=\"12\" fill=\"rgb(135,135,135)\"/><circle cx=\"276\" cy=\"182\" r=\"8\" fill=\"rgb(169,169,169)\"/><circle cx=\"151\" cy=\"378\" r=\"9\" fill=\"rgb(110,110,110)\"/><circle cx=\"187\" cy=\"186\" r=\"10\" fill=\"rgb(62,62,62)\"/><circle cx=\"319\" cy=\"193\" r=\"12\" fill=\"rgb(91,91,91)\"/><circle cx=\"250\" cy=\"235\" r=\"10\" fill=\"rgb(107,107,107)\"/><circle cx=\"77\" cy=\"169\" r=\"10\" fill=\"rgb(98,98,98)\"/></svg><svg viewBox='0 0 430 430' id=\"svg\" width=\"172\" height=\"172\"><circle cx=\"215\" cy=\"215\" r=\"205\" fill=\"none\" stroke=\"black\" stroke-width=\"2\" stroke-dasharray=\"3,3\"/> <circle cx=\"233\" cy=\"140\" r=\"12\" fill=\"rgb(255,224,224)\" class=\"agent_0_19\"/><circle cx=\"276\" cy=\"182\" r=\"8\" fill=\"rgb(255,217,217)\" class=\"agent_0_35\"/><circle cx=\"151\" cy=\"378\" r=\"9\" fill=\"rgb(255,239,239)\" class=\"agent_0_37\"/><circle cx=\"187\" cy=\"186\" r=\"10\" fill=\"rgb(255,176,176)\" class=\"agent_0_43\"/><circle cx=\"319\" cy=\"193\" r=\"12\" fill=\"rgb(255,202,202)\" class=\"agent_0_44\"/><circle cx=\"250\" cy=\"235\" r=\"10\" fill=\"rgb(255,233,233)\" class=\"agent_0_48\"/><circle cx=\"77\" cy=\"169\" r=\"10\" fill=\"rgb(255,235,235)\" class=\"agent_0_77\"/></svg></div>"
      ],
      "text/plain": [
       "<IPython.core.display.HTML object>"
      ]
     },
     "metadata": {},
     "output_type": "display_data"
    },
    {
     "name": "stdout",
     "output_type": "stream",
     "text": [
      "alice: no predicted mentions\n",
      "alice beam 0\thello ! where 's your dot ? <eos>\n",
      "alice: hello ! where 's your dot ? <eos>\n",
      "alice detected markables:\n",
      "bob detected markables:\n",
      "\n",
      "----------------------------------------\n",
      "\n",
      "max prob: 0.3096344769001007\n",
      "entropy: 1.794590711593628\n",
      "bob sel_prob_now: tensor([0.1042, 0.0807, 0.0770, 0.1445, 0.3096, 0.2142, 0.0699],\n",
      "       grad_fn=<ViewBackward>)\n"
     ]
    },
    {
     "data": {
      "text/html": [
       "<div style=\"white-space: nowrap\"><svg viewbox='0 0 430 430' width=\"172\" height=\"172\" id=\"agent_1\"><circle cx=\"215\" cy=\"215\" r=\"205\" fill=\"none\" stroke=\"black\" stroke-width=\"2\" stroke-dasharray=\"3,3\"/><circle cx=\"58\" cy=\"177\" r=\"13\" fill=\"rgb(135,135,135)\"/><circle cx=\"130\" cy=\"308\" r=\"12\" fill=\"rgb(135,135,135)\"/><circle cx=\"360\" cy=\"311\" r=\"10\" fill=\"rgb(149,149,149)\"/><circle cx=\"173\" cy=\"351\" r=\"8\" fill=\"rgb(169,169,169)\"/><circle cx=\"84\" cy=\"355\" r=\"10\" fill=\"rgb(62,62,62)\"/><circle cx=\"216\" cy=\"362\" r=\"12\" fill=\"rgb(91,91,91)\"/><circle cx=\"91\" cy=\"180\" r=\"10\" fill=\"rgb(178,178,178)\"/></svg><svg viewBox='0 0 430 430' id=\"svg\" width=\"172\" height=\"172\"><circle cx=\"215\" cy=\"215\" r=\"205\" fill=\"none\" stroke=\"black\" stroke-width=\"2\" stroke-dasharray=\"3,3\"/> <circle cx=\"58\" cy=\"177\" r=\"13\" fill=\"rgb(255,228,228)\" class=\"agent_1_9\"/><circle cx=\"130\" cy=\"308\" r=\"12\" fill=\"rgb(255,234,234)\" class=\"agent_1_19\"/><circle cx=\"360\" cy=\"311\" r=\"10\" fill=\"rgb(255,235,235)\" class=\"agent_1_24\"/><circle cx=\"173\" cy=\"351\" r=\"8\" fill=\"rgb(255,218,218)\" class=\"agent_1_35\"/><circle cx=\"84\" cy=\"355\" r=\"10\" fill=\"rgb(255,176,176)\" class=\"agent_1_43\"/><circle cx=\"216\" cy=\"362\" r=\"12\" fill=\"rgb(255,200,200)\" class=\"agent_1_44\"/><circle cx=\"91\" cy=\"180\" r=\"10\" fill=\"rgb(255,237,237)\" class=\"agent_1_60\"/></svg></div>"
      ],
      "text/plain": [
       "<IPython.core.display.HTML object>"
      ]
     },
     "metadata": {},
     "output_type": "display_data"
    },
    {
     "ename": "NameError",
     "evalue": "name 'candidate_predictor' is not defined",
     "output_type": "error",
     "traceback": [
      "\u001b[0;31m---------------------------------------------------------------------------\u001b[0m",
      "\u001b[0;31mNameError\u001b[0m                                 Traceback (most recent call last)",
      "\u001b[0;32m<ipython-input-79-d00e871d90b9>\u001b[0m in \u001b[0;36m<module>\u001b[0;34m\u001b[0m\n\u001b[0;32m----> 1\u001b[0;31m \u001b[0mselfplay_contexts_and_mentions\u001b[0m\u001b[0;34m(\u001b[0m\u001b[0mselfplay_scenarios_list\u001b[0m\u001b[0;34m[\u001b[0m\u001b[0;36m5\u001b[0m\u001b[0;34m]\u001b[0m\u001b[0;34m,\u001b[0m \u001b[0mbeam_size\u001b[0m\u001b[0;34m=\u001b[0m\u001b[0;36m1\u001b[0m\u001b[0;34m,\u001b[0m \u001b[0mmin_num_mentions\u001b[0m\u001b[0;34m=\u001b[0m\u001b[0;36m0\u001b[0m\u001b[0;34m,\u001b[0m \u001b[0mdisplay_beam_candidates\u001b[0m\u001b[0;34m=\u001b[0m\u001b[0;32mTrue\u001b[0m\u001b[0;34m,\u001b[0m \u001b[0mmention_top_k\u001b[0m\u001b[0;34m=\u001b[0m\u001b[0;36m10\u001b[0m\u001b[0;34m)\u001b[0m\u001b[0;34m\u001b[0m\u001b[0;34m\u001b[0m\u001b[0m\n\u001b[0m",
      "\u001b[0;32m<ipython-input-57-c07377966ec7>\u001b[0m in \u001b[0;36mselfplay_contexts_and_mentions\u001b[0;34m(scenario, model, max_sentences, inference, beam_size, sample_temperature, min_num_mentions, max_num_mentions, display_mention_marginals, display_referents, display_selection, mention_top_k, display_beam_candidates)\u001b[0m\n\u001b[1;32m     77\u001b[0m                 \u001b[0mdisplay_attns\u001b[0m\u001b[0;34m(\u001b[0m\u001b[0mscenario\u001b[0m\u001b[0;34m,\u001b[0m \u001b[0mnm_out\u001b[0m\u001b[0;34m[\u001b[0m\u001b[0;36m0\u001b[0m\u001b[0;34m]\u001b[0m\u001b[0;34m.\u001b[0m\u001b[0msigmoid\u001b[0m\u001b[0;34m(\u001b[0m\u001b[0;34m)\u001b[0m\u001b[0;34m.\u001b[0m\u001b[0msqueeze\u001b[0m\u001b[0;34m(\u001b[0m\u001b[0;36m1\u001b[0m\u001b[0;34m)\u001b[0m\u001b[0;34m.\u001b[0m\u001b[0mfloat\u001b[0m\u001b[0;34m(\u001b[0m\u001b[0;34m)\u001b[0m\u001b[0;34m,\u001b[0m \u001b[0mwriter\u001b[0m\u001b[0;34m.\u001b[0m\u001b[0magent_id\u001b[0m\u001b[0;34m,\u001b[0m \u001b[0;34m\"{} to_mention_marginals\"\u001b[0m\u001b[0;34m.\u001b[0m\u001b[0mformat\u001b[0m\u001b[0;34m(\u001b[0m\u001b[0mwriter\u001b[0m\u001b[0;34m.\u001b[0m\u001b[0mname\u001b[0m\u001b[0;34m)\u001b[0m\u001b[0;34m)\u001b[0m\u001b[0;34m\u001b[0m\u001b[0;34m\u001b[0m\u001b[0m\n\u001b[1;32m     78\u001b[0m             \u001b[0;32mif\u001b[0m \u001b[0mmention_top_k\u001b[0m \u001b[0;32mis\u001b[0m \u001b[0;32mnot\u001b[0m \u001b[0;32mNone\u001b[0m\u001b[0;34m:\u001b[0m\u001b[0;34m\u001b[0m\u001b[0;34m\u001b[0m\u001b[0m\n\u001b[0;32m---> 79\u001b[0;31m                 \u001b[0mcands\u001b[0m \u001b[0;34m=\u001b[0m \u001b[0mcandidate_predictor\u001b[0m\u001b[0;34m.\u001b[0m\u001b[0mmake_candidates\u001b[0m\u001b[0;34m(\u001b[0m\u001b[0mnm_out\u001b[0m\u001b[0;34m,\u001b[0m \u001b[0mnm_num_markables\u001b[0m\u001b[0;34m)\u001b[0m\u001b[0;34m[\u001b[0m\u001b[0;36m1\u001b[0m\u001b[0;34m]\u001b[0m\u001b[0;34m\u001b[0m\u001b[0;34m\u001b[0m\u001b[0m\n\u001b[0m\u001b[1;32m     80\u001b[0m                 \u001b[0mbest_max_prob\u001b[0m \u001b[0;34m=\u001b[0m \u001b[0;36m0\u001b[0m\u001b[0;34m\u001b[0m\u001b[0;34m\u001b[0m\u001b[0m\n\u001b[1;32m     81\u001b[0m                 \u001b[0mnm_preds_rerank\u001b[0m \u001b[0;34m=\u001b[0m \u001b[0mnm_preds\u001b[0m\u001b[0;34m\u001b[0m\u001b[0;34m\u001b[0m\u001b[0m\n",
      "\u001b[0;31mNameError\u001b[0m: name 'candidate_predictor' is not defined"
     ]
    },
    {
     "name": "stdout",
     "output_type": "stream",
     "text": [
      "> \u001b[0;32m<ipython-input-57-c07377966ec7>\u001b[0m(79)\u001b[0;36mselfplay_contexts_and_mentions\u001b[0;34m()\u001b[0m\n",
      "\u001b[0;32m     77 \u001b[0;31m                \u001b[0mdisplay_attns\u001b[0m\u001b[0;34m(\u001b[0m\u001b[0mscenario\u001b[0m\u001b[0;34m,\u001b[0m \u001b[0mnm_out\u001b[0m\u001b[0;34m[\u001b[0m\u001b[0;36m0\u001b[0m\u001b[0;34m]\u001b[0m\u001b[0;34m.\u001b[0m\u001b[0msigmoid\u001b[0m\u001b[0;34m(\u001b[0m\u001b[0;34m)\u001b[0m\u001b[0;34m.\u001b[0m\u001b[0msqueeze\u001b[0m\u001b[0;34m(\u001b[0m\u001b[0;36m1\u001b[0m\u001b[0;34m)\u001b[0m\u001b[0;34m.\u001b[0m\u001b[0mfloat\u001b[0m\u001b[0;34m(\u001b[0m\u001b[0;34m)\u001b[0m\u001b[0;34m,\u001b[0m \u001b[0mwriter\u001b[0m\u001b[0;34m.\u001b[0m\u001b[0magent_id\u001b[0m\u001b[0;34m,\u001b[0m \u001b[0;34m\"{} to_mention_marginals\"\u001b[0m\u001b[0;34m.\u001b[0m\u001b[0mformat\u001b[0m\u001b[0;34m(\u001b[0m\u001b[0mwriter\u001b[0m\u001b[0;34m.\u001b[0m\u001b[0mname\u001b[0m\u001b[0;34m)\u001b[0m\u001b[0;34m)\u001b[0m\u001b[0;34m\u001b[0m\u001b[0;34m\u001b[0m\u001b[0m\n",
      "\u001b[0m\u001b[0;32m     78 \u001b[0;31m            \u001b[0;32mif\u001b[0m \u001b[0mmention_top_k\u001b[0m \u001b[0;32mis\u001b[0m \u001b[0;32mnot\u001b[0m \u001b[0;32mNone\u001b[0m\u001b[0;34m:\u001b[0m\u001b[0;34m\u001b[0m\u001b[0;34m\u001b[0m\u001b[0m\n",
      "\u001b[0m\u001b[0;32m---> 79 \u001b[0;31m                \u001b[0mcands\u001b[0m \u001b[0;34m=\u001b[0m \u001b[0mcandidate_predictor\u001b[0m\u001b[0;34m.\u001b[0m\u001b[0mmake_candidates\u001b[0m\u001b[0;34m(\u001b[0m\u001b[0mnm_out\u001b[0m\u001b[0;34m,\u001b[0m \u001b[0mnm_num_markables\u001b[0m\u001b[0;34m)\u001b[0m\u001b[0;34m[\u001b[0m\u001b[0;36m1\u001b[0m\u001b[0;34m]\u001b[0m\u001b[0;34m\u001b[0m\u001b[0;34m\u001b[0m\u001b[0m\n",
      "\u001b[0m\u001b[0;32m     80 \u001b[0;31m                \u001b[0mbest_max_prob\u001b[0m \u001b[0;34m=\u001b[0m \u001b[0;36m0\u001b[0m\u001b[0;34m\u001b[0m\u001b[0;34m\u001b[0m\u001b[0m\n",
      "\u001b[0m\u001b[0;32m     81 \u001b[0;31m                \u001b[0mnm_preds_rerank\u001b[0m \u001b[0;34m=\u001b[0m \u001b[0mnm_preds\u001b[0m\u001b[0;34m\u001b[0m\u001b[0;34m\u001b[0m\u001b[0m\n",
      "\u001b[0m\n",
      "ipdb> q\n"
     ]
    }
   ],
   "source": [
    "selfplay_contexts_and_mentions(selfplay_scenarios_list[5], beam_size=1, min_num_mentions=0, display_beam_candidates=True, mention_top_k=10)"
   ]
  },
  {
   "cell_type": "code",
   "execution_count": 77,
   "metadata": {
    "scrolled": true
   },
   "outputs": [
    {
     "name": "stdout",
     "output_type": "stream",
     "text": [
      "found it\n",
      "max prob: 0.3070402145385742\n",
      "entropy: 1.7986143827438354\n",
      "alice sel_prob_now: tensor([0.1181, 0.1460, 0.0604, 0.3070, 0.2057, 0.0858, 0.0769],\n",
      "       grad_fn=<ViewBackward>)\n"
     ]
    },
    {
     "data": {
      "text/html": [
       "<div style=\"white-space: nowrap\"><svg viewbox='0 0 430 430' width=\"172\" height=\"172\" id=\"agent_0\"><circle cx=\"215\" cy=\"215\" r=\"205\" fill=\"none\" stroke=\"black\" stroke-width=\"2\" stroke-dasharray=\"3,3\"/><circle cx=\"233\" cy=\"140\" r=\"12\" fill=\"rgb(135,135,135)\"/><circle cx=\"276\" cy=\"182\" r=\"8\" fill=\"rgb(169,169,169)\"/><circle cx=\"151\" cy=\"378\" r=\"9\" fill=\"rgb(110,110,110)\"/><circle cx=\"187\" cy=\"186\" r=\"10\" fill=\"rgb(62,62,62)\"/><circle cx=\"319\" cy=\"193\" r=\"12\" fill=\"rgb(91,91,91)\"/><circle cx=\"250\" cy=\"235\" r=\"10\" fill=\"rgb(107,107,107)\"/><circle cx=\"77\" cy=\"169\" r=\"10\" fill=\"rgb(98,98,98)\"/></svg><svg viewBox='0 0 430 430' id=\"svg\" width=\"172\" height=\"172\"><circle cx=\"215\" cy=\"215\" r=\"205\" fill=\"none\" stroke=\"black\" stroke-width=\"2\" stroke-dasharray=\"3,3\"/> <circle cx=\"233\" cy=\"140\" r=\"12\" fill=\"rgb(255,224,224)\" class=\"agent_0_19\"/><circle cx=\"276\" cy=\"182\" r=\"8\" fill=\"rgb(255,217,217)\" class=\"agent_0_35\"/><circle cx=\"151\" cy=\"378\" r=\"9\" fill=\"rgb(255,239,239)\" class=\"agent_0_37\"/><circle cx=\"187\" cy=\"186\" r=\"10\" fill=\"rgb(255,176,176)\" class=\"agent_0_43\"/><circle cx=\"319\" cy=\"193\" r=\"12\" fill=\"rgb(255,202,202)\" class=\"agent_0_44\"/><circle cx=\"250\" cy=\"235\" r=\"10\" fill=\"rgb(255,233,233)\" class=\"agent_0_48\"/><circle cx=\"77\" cy=\"169\" r=\"10\" fill=\"rgb(255,235,235)\" class=\"agent_0_77\"/></svg></div>"
      ],
      "text/plain": [
       "<IPython.core.display.HTML object>"
      ]
     },
     "metadata": {},
     "output_type": "display_data"
    },
    {
     "name": "stdout",
     "output_type": "stream",
     "text": [
      "alice: no predicted mentions\n",
      "alice: hello ! where 's your dot ? <eos>\n",
      "alice detected markables:\n",
      "bob detected markables:\n",
      "\n",
      "----------------------------------------\n",
      "\n",
      "max prob: 0.3096344769001007\n",
      "entropy: 1.794590711593628\n",
      "bob sel_prob_now: tensor([0.1042, 0.0807, 0.0770, 0.1445, 0.3096, 0.2142, 0.0699],\n",
      "       grad_fn=<ViewBackward>)\n"
     ]
    },
    {
     "data": {
      "text/html": [
       "<div style=\"white-space: nowrap\"><svg viewbox='0 0 430 430' width=\"172\" height=\"172\" id=\"agent_1\"><circle cx=\"215\" cy=\"215\" r=\"205\" fill=\"none\" stroke=\"black\" stroke-width=\"2\" stroke-dasharray=\"3,3\"/><circle cx=\"58\" cy=\"177\" r=\"13\" fill=\"rgb(135,135,135)\"/><circle cx=\"130\" cy=\"308\" r=\"12\" fill=\"rgb(135,135,135)\"/><circle cx=\"360\" cy=\"311\" r=\"10\" fill=\"rgb(149,149,149)\"/><circle cx=\"173\" cy=\"351\" r=\"8\" fill=\"rgb(169,169,169)\"/><circle cx=\"84\" cy=\"355\" r=\"10\" fill=\"rgb(62,62,62)\"/><circle cx=\"216\" cy=\"362\" r=\"12\" fill=\"rgb(91,91,91)\"/><circle cx=\"91\" cy=\"180\" r=\"10\" fill=\"rgb(178,178,178)\"/></svg><svg viewBox='0 0 430 430' id=\"svg\" width=\"172\" height=\"172\"><circle cx=\"215\" cy=\"215\" r=\"205\" fill=\"none\" stroke=\"black\" stroke-width=\"2\" stroke-dasharray=\"3,3\"/> <circle cx=\"58\" cy=\"177\" r=\"13\" fill=\"rgb(255,228,228)\" class=\"agent_1_9\"/><circle cx=\"130\" cy=\"308\" r=\"12\" fill=\"rgb(255,234,234)\" class=\"agent_1_19\"/><circle cx=\"360\" cy=\"311\" r=\"10\" fill=\"rgb(255,235,235)\" class=\"agent_1_24\"/><circle cx=\"173\" cy=\"351\" r=\"8\" fill=\"rgb(255,218,218)\" class=\"agent_1_35\"/><circle cx=\"84\" cy=\"355\" r=\"10\" fill=\"rgb(255,176,176)\" class=\"agent_1_43\"/><circle cx=\"216\" cy=\"362\" r=\"12\" fill=\"rgb(255,200,200)\" class=\"agent_1_44\"/><circle cx=\"91\" cy=\"180\" r=\"10\" fill=\"rgb(255,237,237)\" class=\"agent_1_60\"/></svg></div>"
      ],
      "text/plain": [
       "<IPython.core.display.HTML object>"
      ]
     },
     "metadata": {},
     "output_type": "display_data"
    },
    {
     "name": "stdout",
     "output_type": "stream",
     "text": [
      "bob to_mention_pred\n"
     ]
    },
    {
     "data": {
      "text/html": [
       "<div style=\"white-space: nowrap\"><svg viewbox='0 0 430 430' width=\"172\" height=\"172\" id=\"agent_1\"><circle cx=\"215\" cy=\"215\" r=\"205\" fill=\"none\" stroke=\"black\" stroke-width=\"2\" stroke-dasharray=\"3,3\"/><circle cx=\"58\" cy=\"177\" r=\"13\" fill=\"rgb(135,135,135)\"/><circle cx=\"130\" cy=\"308\" r=\"12\" fill=\"rgb(135,135,135)\"/><circle cx=\"360\" cy=\"311\" r=\"10\" fill=\"rgb(149,149,149)\"/><circle cx=\"173\" cy=\"351\" r=\"8\" fill=\"rgb(169,169,169)\"/><circle cx=\"84\" cy=\"355\" r=\"10\" fill=\"rgb(62,62,62)\"/><circle cx=\"216\" cy=\"362\" r=\"12\" fill=\"rgb(91,91,91)\"/><circle cx=\"91\" cy=\"180\" r=\"10\" fill=\"rgb(178,178,178)\"/></svg><svg viewBox='0 0 430 430' id=\"svg\" width=\"172\" height=\"172\"><circle cx=\"215\" cy=\"215\" r=\"205\" fill=\"none\" stroke=\"black\" stroke-width=\"2\" stroke-dasharray=\"3,3\"/> <circle cx=\"58\" cy=\"177\" r=\"13\" fill=\"rgb(255,255,255)\" class=\"agent_1_9\"/><circle cx=\"130\" cy=\"308\" r=\"12\" fill=\"rgb(255,0,0)\" class=\"agent_1_19\"/><circle cx=\"360\" cy=\"311\" r=\"10\" fill=\"rgb(255,255,255)\" class=\"agent_1_24\"/><circle cx=\"173\" cy=\"351\" r=\"8\" fill=\"rgb(255,0,0)\" class=\"agent_1_35\"/><circle cx=\"84\" cy=\"355\" r=\"10\" fill=\"rgb(255,0,0)\" class=\"agent_1_43\"/><circle cx=\"216\" cy=\"362\" r=\"12\" fill=\"rgb(255,0,0)\" class=\"agent_1_44\"/><circle cx=\"91\" cy=\"180\" r=\"10\" fill=\"rgb(255,255,255)\" class=\"agent_1_60\"/></svg><svg viewBox='0 0 430 430' id=\"svg\" width=\"172\" height=\"172\"><circle cx=\"215\" cy=\"215\" r=\"205\" fill=\"none\" stroke=\"black\" stroke-width=\"2\" stroke-dasharray=\"3,3\"/> <circle cx=\"58\" cy=\"177\" r=\"13\" fill=\"rgb(255,255,255)\" class=\"agent_1_9\"/><circle cx=\"130\" cy=\"308\" r=\"12\" fill=\"rgb(255,255,255)\" class=\"agent_1_19\"/><circle cx=\"360\" cy=\"311\" r=\"10\" fill=\"rgb(255,255,255)\" class=\"agent_1_24\"/><circle cx=\"173\" cy=\"351\" r=\"8\" fill=\"rgb(255,0,0)\" class=\"agent_1_35\"/><circle cx=\"84\" cy=\"355\" r=\"10\" fill=\"rgb(255,255,255)\" class=\"agent_1_43\"/><circle cx=\"216\" cy=\"362\" r=\"12\" fill=\"rgb(255,255,255)\" class=\"agent_1_44\"/><circle cx=\"91\" cy=\"180\" r=\"10\" fill=\"rgb(255,255,255)\" class=\"agent_1_60\"/></svg><svg viewBox='0 0 430 430' id=\"svg\" width=\"172\" height=\"172\"><circle cx=\"215\" cy=\"215\" r=\"205\" fill=\"none\" stroke=\"black\" stroke-width=\"2\" stroke-dasharray=\"3,3\"/> <circle cx=\"58\" cy=\"177\" r=\"13\" fill=\"rgb(255,255,255)\" class=\"agent_1_9\"/><circle cx=\"130\" cy=\"308\" r=\"12\" fill=\"rgb(255,255,255)\" class=\"agent_1_19\"/><circle cx=\"360\" cy=\"311\" r=\"10\" fill=\"rgb(255,255,255)\" class=\"agent_1_24\"/><circle cx=\"173\" cy=\"351\" r=\"8\" fill=\"rgb(255,255,255)\" class=\"agent_1_35\"/><circle cx=\"84\" cy=\"355\" r=\"10\" fill=\"rgb(255,255,255)\" class=\"agent_1_43\"/><circle cx=\"216\" cy=\"362\" r=\"12\" fill=\"rgb(255,0,0)\" class=\"agent_1_44\"/><circle cx=\"91\" cy=\"180\" r=\"10\" fill=\"rgb(255,255,255)\" class=\"agent_1_60\"/></svg></div>"
      ],
      "text/plain": [
       "<IPython.core.display.HTML object>"
      ]
     },
     "metadata": {},
     "output_type": "display_data"
    },
    {
     "name": "stdout",
     "output_type": "stream",
     "text": [
      "max prob: 0.4882216155529022\n",
      "entropy: 1.1276158094406128\n",
      "bob sel_prob after pred: tensor([0.0027, 0.0314, 0.0021, 0.4882, 0.1302, 0.3443, 0.0011],\n",
      "       grad_fn=<ViewBackward>)\n"
     ]
    },
    {
     "data": {
      "text/html": [
       "<div style=\"white-space: nowrap\"><svg viewbox='0 0 430 430' width=\"172\" height=\"172\" id=\"agent_1\"><circle cx=\"215\" cy=\"215\" r=\"205\" fill=\"none\" stroke=\"black\" stroke-width=\"2\" stroke-dasharray=\"3,3\"/><circle cx=\"58\" cy=\"177\" r=\"13\" fill=\"rgb(135,135,135)\"/><circle cx=\"130\" cy=\"308\" r=\"12\" fill=\"rgb(135,135,135)\"/><circle cx=\"360\" cy=\"311\" r=\"10\" fill=\"rgb(149,149,149)\"/><circle cx=\"173\" cy=\"351\" r=\"8\" fill=\"rgb(169,169,169)\"/><circle cx=\"84\" cy=\"355\" r=\"10\" fill=\"rgb(62,62,62)\"/><circle cx=\"216\" cy=\"362\" r=\"12\" fill=\"rgb(91,91,91)\"/><circle cx=\"91\" cy=\"180\" r=\"10\" fill=\"rgb(178,178,178)\"/></svg><svg viewBox='0 0 430 430' id=\"svg\" width=\"172\" height=\"172\"><circle cx=\"215\" cy=\"215\" r=\"205\" fill=\"none\" stroke=\"black\" stroke-width=\"2\" stroke-dasharray=\"3,3\"/> <circle cx=\"58\" cy=\"177\" r=\"13\" fill=\"rgb(255,254,254)\" class=\"agent_1_9\"/><circle cx=\"130\" cy=\"308\" r=\"12\" fill=\"rgb(255,246,246)\" class=\"agent_1_19\"/><circle cx=\"360\" cy=\"311\" r=\"10\" fill=\"rgb(255,254,254)\" class=\"agent_1_24\"/><circle cx=\"173\" cy=\"351\" r=\"8\" fill=\"rgb(255,130,130)\" class=\"agent_1_35\"/><circle cx=\"84\" cy=\"355\" r=\"10\" fill=\"rgb(255,221,221)\" class=\"agent_1_43\"/><circle cx=\"216\" cy=\"362\" r=\"12\" fill=\"rgb(255,167,167)\" class=\"agent_1_44\"/><circle cx=\"91\" cy=\"180\" r=\"10\" fill=\"rgb(255,254,254)\" class=\"agent_1_60\"/></svg></div>"
      ],
      "text/plain": [
       "<IPython.core.display.HTML object>"
      ]
     },
     "metadata": {},
     "output_type": "display_data"
    },
    {
     "name": "stdout",
     "output_type": "stream",
     "text": [
      "bob: i have a cluster of 4 dots , one is black and one is light grey <eos>\n",
      "bob detected markables:\n",
      "{'start': 10, 'end': 29, 'is_self': True, 'text': 'a cluster of 4 dots'}\n",
      "{'start': 32, 'end': 35, 'is_self': True, 'text': 'one'}\n",
      "{'start': 49, 'end': 52, 'is_self': True, 'text': 'one'}\n",
      "alice detected markables:\n",
      "{'start': 10, 'end': 29, 'is_self': True, 'text': 'a cluster of 4 dots'}\n",
      "{'start': 32, 'end': 35, 'is_self': True, 'text': 'one'}\n",
      "{'start': 49, 'end': 52, 'is_self': True, 'text': 'one'}\n",
      "\n",
      "----------------------------------------\n",
      "\n",
      "max prob: 0.47088420391082764\n",
      "entropy: 1.0602803230285645\n",
      "alice sel_prob_now: tensor([0.0263, 0.4709, 0.0018, 0.4327, 0.0448, 0.0206, 0.0029],\n",
      "       grad_fn=<ViewBackward>)\n"
     ]
    },
    {
     "data": {
      "text/html": [
       "<div style=\"white-space: nowrap\"><svg viewbox='0 0 430 430' width=\"172\" height=\"172\" id=\"agent_0\"><circle cx=\"215\" cy=\"215\" r=\"205\" fill=\"none\" stroke=\"black\" stroke-width=\"2\" stroke-dasharray=\"3,3\"/><circle cx=\"233\" cy=\"140\" r=\"12\" fill=\"rgb(135,135,135)\"/><circle cx=\"276\" cy=\"182\" r=\"8\" fill=\"rgb(169,169,169)\"/><circle cx=\"151\" cy=\"378\" r=\"9\" fill=\"rgb(110,110,110)\"/><circle cx=\"187\" cy=\"186\" r=\"10\" fill=\"rgb(62,62,62)\"/><circle cx=\"319\" cy=\"193\" r=\"12\" fill=\"rgb(91,91,91)\"/><circle cx=\"250\" cy=\"235\" r=\"10\" fill=\"rgb(107,107,107)\"/><circle cx=\"77\" cy=\"169\" r=\"10\" fill=\"rgb(98,98,98)\"/></svg><svg viewBox='0 0 430 430' id=\"svg\" width=\"172\" height=\"172\"><circle cx=\"215\" cy=\"215\" r=\"205\" fill=\"none\" stroke=\"black\" stroke-width=\"2\" stroke-dasharray=\"3,3\"/> <circle cx=\"233\" cy=\"140\" r=\"12\" fill=\"rgb(255,248,248)\" class=\"agent_0_19\"/><circle cx=\"276\" cy=\"182\" r=\"8\" fill=\"rgb(255,134,134)\" class=\"agent_0_35\"/><circle cx=\"151\" cy=\"378\" r=\"9\" fill=\"rgb(255,254,254)\" class=\"agent_0_37\"/><circle cx=\"187\" cy=\"186\" r=\"10\" fill=\"rgb(255,144,144)\" class=\"agent_0_43\"/><circle cx=\"319\" cy=\"193\" r=\"12\" fill=\"rgb(255,243,243)\" class=\"agent_0_44\"/><circle cx=\"250\" cy=\"235\" r=\"10\" fill=\"rgb(255,249,249)\" class=\"agent_0_48\"/><circle cx=\"77\" cy=\"169\" r=\"10\" fill=\"rgb(255,254,254)\" class=\"agent_0_77\"/></svg></div>"
      ],
      "text/plain": [
       "<IPython.core.display.HTML object>"
      ]
     },
     "metadata": {},
     "output_type": "display_data"
    },
    {
     "name": "stdout",
     "output_type": "stream",
     "text": [
      "alice: no predicted mentions\n",
      "alice: ok <eos>\n",
      "alice detected markables:\n",
      "bob detected markables:\n",
      "\n",
      "----------------------------------------\n",
      "\n",
      "max prob: 0.4655461013317108\n",
      "entropy: 1.0199671983718872\n",
      "bob sel_prob_now: tensor([0.0025, 0.0284, 0.0019, 0.4409, 0.4655, 0.0599, 0.0010],\n",
      "       grad_fn=<ViewBackward>)\n"
     ]
    },
    {
     "data": {
      "text/html": [
       "<div style=\"white-space: nowrap\"><svg viewbox='0 0 430 430' width=\"172\" height=\"172\" id=\"agent_1\"><circle cx=\"215\" cy=\"215\" r=\"205\" fill=\"none\" stroke=\"black\" stroke-width=\"2\" stroke-dasharray=\"3,3\"/><circle cx=\"58\" cy=\"177\" r=\"13\" fill=\"rgb(135,135,135)\"/><circle cx=\"130\" cy=\"308\" r=\"12\" fill=\"rgb(135,135,135)\"/><circle cx=\"360\" cy=\"311\" r=\"10\" fill=\"rgb(149,149,149)\"/><circle cx=\"173\" cy=\"351\" r=\"8\" fill=\"rgb(169,169,169)\"/><circle cx=\"84\" cy=\"355\" r=\"10\" fill=\"rgb(62,62,62)\"/><circle cx=\"216\" cy=\"362\" r=\"12\" fill=\"rgb(91,91,91)\"/><circle cx=\"91\" cy=\"180\" r=\"10\" fill=\"rgb(178,178,178)\"/></svg><svg viewBox='0 0 430 430' id=\"svg\" width=\"172\" height=\"172\"><circle cx=\"215\" cy=\"215\" r=\"205\" fill=\"none\" stroke=\"black\" stroke-width=\"2\" stroke-dasharray=\"3,3\"/> <circle cx=\"58\" cy=\"177\" r=\"13\" fill=\"rgb(255,254,254)\" class=\"agent_1_9\"/><circle cx=\"130\" cy=\"308\" r=\"12\" fill=\"rgb(255,247,247)\" class=\"agent_1_19\"/><circle cx=\"360\" cy=\"311\" r=\"10\" fill=\"rgb(255,254,254)\" class=\"agent_1_24\"/><circle cx=\"173\" cy=\"351\" r=\"8\" fill=\"rgb(255,142,142)\" class=\"agent_1_35\"/><circle cx=\"84\" cy=\"355\" r=\"10\" fill=\"rgb(255,136,136)\" class=\"agent_1_43\"/><circle cx=\"216\" cy=\"362\" r=\"12\" fill=\"rgb(255,239,239)\" class=\"agent_1_44\"/><circle cx=\"91\" cy=\"180\" r=\"10\" fill=\"rgb(255,254,254)\" class=\"agent_1_60\"/></svg></div>"
      ],
      "text/plain": [
       "<IPython.core.display.HTML object>"
      ]
     },
     "metadata": {},
     "output_type": "display_data"
    },
    {
     "name": "stdout",
     "output_type": "stream",
     "text": [
      "bob to_mention_pred\n"
     ]
    },
    {
     "data": {
      "text/html": [
       "<div style=\"white-space: nowrap\"><svg viewbox='0 0 430 430' width=\"172\" height=\"172\" id=\"agent_1\"><circle cx=\"215\" cy=\"215\" r=\"205\" fill=\"none\" stroke=\"black\" stroke-width=\"2\" stroke-dasharray=\"3,3\"/><circle cx=\"58\" cy=\"177\" r=\"13\" fill=\"rgb(135,135,135)\"/><circle cx=\"130\" cy=\"308\" r=\"12\" fill=\"rgb(135,135,135)\"/><circle cx=\"360\" cy=\"311\" r=\"10\" fill=\"rgb(149,149,149)\"/><circle cx=\"173\" cy=\"351\" r=\"8\" fill=\"rgb(169,169,169)\"/><circle cx=\"84\" cy=\"355\" r=\"10\" fill=\"rgb(62,62,62)\"/><circle cx=\"216\" cy=\"362\" r=\"12\" fill=\"rgb(91,91,91)\"/><circle cx=\"91\" cy=\"180\" r=\"10\" fill=\"rgb(178,178,178)\"/></svg><svg viewBox='0 0 430 430' id=\"svg\" width=\"172\" height=\"172\"><circle cx=\"215\" cy=\"215\" r=\"205\" fill=\"none\" stroke=\"black\" stroke-width=\"2\" stroke-dasharray=\"3,3\"/> <circle cx=\"58\" cy=\"177\" r=\"13\" fill=\"rgb(255,255,255)\" class=\"agent_1_9\"/><circle cx=\"130\" cy=\"308\" r=\"12\" fill=\"rgb(255,255,255)\" class=\"agent_1_19\"/><circle cx=\"360\" cy=\"311\" r=\"10\" fill=\"rgb(255,255,255)\" class=\"agent_1_24\"/><circle cx=\"173\" cy=\"351\" r=\"8\" fill=\"rgb(255,255,255)\" class=\"agent_1_35\"/><circle cx=\"84\" cy=\"355\" r=\"10\" fill=\"rgb(255,0,0)\" class=\"agent_1_43\"/><circle cx=\"216\" cy=\"362\" r=\"12\" fill=\"rgb(255,255,255)\" class=\"agent_1_44\"/><circle cx=\"91\" cy=\"180\" r=\"10\" fill=\"rgb(255,255,255)\" class=\"agent_1_60\"/></svg></div>"
      ],
      "text/plain": [
       "<IPython.core.display.HTML object>"
      ]
     },
     "metadata": {},
     "output_type": "display_data"
    },
    {
     "name": "stdout",
     "output_type": "stream",
     "text": [
      "max prob: 0.9846898317337036\n",
      "entropy: 0.09935954213142395\n",
      "bob sel_prob after pred: tensor([4.3867e-04, 3.5402e-03, 4.0042e-04, 6.3199e-03, 9.8469e-01, 4.4004e-03,\n",
      "        2.1055e-04], grad_fn=<ViewBackward>)\n"
     ]
    },
    {
     "data": {
      "text/html": [
       "<div style=\"white-space: nowrap\"><svg viewbox='0 0 430 430' width=\"172\" height=\"172\" id=\"agent_1\"><circle cx=\"215\" cy=\"215\" r=\"205\" fill=\"none\" stroke=\"black\" stroke-width=\"2\" stroke-dasharray=\"3,3\"/><circle cx=\"58\" cy=\"177\" r=\"13\" fill=\"rgb(135,135,135)\"/><circle cx=\"130\" cy=\"308\" r=\"12\" fill=\"rgb(135,135,135)\"/><circle cx=\"360\" cy=\"311\" r=\"10\" fill=\"rgb(149,149,149)\"/><circle cx=\"173\" cy=\"351\" r=\"8\" fill=\"rgb(169,169,169)\"/><circle cx=\"84\" cy=\"355\" r=\"10\" fill=\"rgb(62,62,62)\"/><circle cx=\"216\" cy=\"362\" r=\"12\" fill=\"rgb(91,91,91)\"/><circle cx=\"91\" cy=\"180\" r=\"10\" fill=\"rgb(178,178,178)\"/></svg><svg viewBox='0 0 430 430' id=\"svg\" width=\"172\" height=\"172\"><circle cx=\"215\" cy=\"215\" r=\"205\" fill=\"none\" stroke=\"black\" stroke-width=\"2\" stroke-dasharray=\"3,3\"/> <circle cx=\"58\" cy=\"177\" r=\"13\" fill=\"rgb(255,254,254)\" class=\"agent_1_9\"/><circle cx=\"130\" cy=\"308\" r=\"12\" fill=\"rgb(255,254,254)\" class=\"agent_1_19\"/><circle cx=\"360\" cy=\"311\" r=\"10\" fill=\"rgb(255,254,254)\" class=\"agent_1_24\"/><circle cx=\"173\" cy=\"351\" r=\"8\" fill=\"rgb(255,253,253)\" class=\"agent_1_35\"/><circle cx=\"84\" cy=\"355\" r=\"10\" fill=\"rgb(255,3,3)\" class=\"agent_1_43\"/><circle cx=\"216\" cy=\"362\" r=\"12\" fill=\"rgb(255,253,253)\" class=\"agent_1_44\"/><circle cx=\"91\" cy=\"180\" r=\"10\" fill=\"rgb(255,254,254)\" class=\"agent_1_60\"/></svg></div>"
      ],
      "text/plain": [
       "<IPython.core.display.HTML object>"
      ]
     },
     "metadata": {},
     "output_type": "display_data"
    },
    {
     "name": "stdout",
     "output_type": "stream",
     "text": [
      "bob: let 's pick the black one <selection>\n",
      "bob detected markables:\n",
      "{'start': 15, 'end': 28, 'is_self': True, 'text': 'the black one'}\n",
      "alice detected markables:\n",
      "{'start': 15, 'end': 28, 'is_self': True, 'text': 'the black one'}\n",
      "\n",
      "----------------------------------------\n",
      "\n",
      "bob sel_pred\n"
     ]
    },
    {
     "data": {
      "text/html": [
       "<div style=\"white-space: nowrap\"><svg viewbox='0 0 430 430' width=\"172\" height=\"172\" id=\"agent_1\"><circle cx=\"215\" cy=\"215\" r=\"205\" fill=\"none\" stroke=\"black\" stroke-width=\"2\" stroke-dasharray=\"3,3\"/><circle cx=\"58\" cy=\"177\" r=\"13\" fill=\"rgb(135,135,135)\"/><circle cx=\"130\" cy=\"308\" r=\"12\" fill=\"rgb(135,135,135)\"/><circle cx=\"360\" cy=\"311\" r=\"10\" fill=\"rgb(149,149,149)\"/><circle cx=\"173\" cy=\"351\" r=\"8\" fill=\"rgb(169,169,169)\"/><circle cx=\"84\" cy=\"355\" r=\"10\" fill=\"rgb(62,62,62)\"/><circle cx=\"216\" cy=\"362\" r=\"12\" fill=\"rgb(91,91,91)\"/><circle cx=\"91\" cy=\"180\" r=\"10\" fill=\"rgb(178,178,178)\"/></svg><svg viewBox='0 0 430 430' id=\"svg\" width=\"172\" height=\"172\"><circle cx=\"215\" cy=\"215\" r=\"205\" fill=\"none\" stroke=\"black\" stroke-width=\"2\" stroke-dasharray=\"3,3\"/> <circle cx=\"58\" cy=\"177\" r=\"13\" fill=\"rgb(255,254,254)\" class=\"agent_1_9\"/><circle cx=\"130\" cy=\"308\" r=\"12\" fill=\"rgb(255,254,254)\" class=\"agent_1_19\"/><circle cx=\"360\" cy=\"311\" r=\"10\" fill=\"rgb(255,254,254)\" class=\"agent_1_24\"/><circle cx=\"173\" cy=\"351\" r=\"8\" fill=\"rgb(255,253,253)\" class=\"agent_1_35\"/><circle cx=\"84\" cy=\"355\" r=\"10\" fill=\"rgb(255,3,3)\" class=\"agent_1_43\"/><circle cx=\"216\" cy=\"362\" r=\"12\" fill=\"rgb(255,253,253)\" class=\"agent_1_44\"/><circle cx=\"91\" cy=\"180\" r=\"10\" fill=\"rgb(255,254,254)\" class=\"agent_1_60\"/></svg></div>"
      ],
      "text/plain": [
       "<IPython.core.display.HTML object>"
      ]
     },
     "metadata": {},
     "output_type": "display_data"
    },
    {
     "name": "stdout",
     "output_type": "stream",
     "text": [
      "alice sel_pred\n"
     ]
    },
    {
     "data": {
      "text/html": [
       "<div style=\"white-space: nowrap\"><svg viewbox='0 0 430 430' width=\"172\" height=\"172\" id=\"agent_0\"><circle cx=\"215\" cy=\"215\" r=\"205\" fill=\"none\" stroke=\"black\" stroke-width=\"2\" stroke-dasharray=\"3,3\"/><circle cx=\"233\" cy=\"140\" r=\"12\" fill=\"rgb(135,135,135)\"/><circle cx=\"276\" cy=\"182\" r=\"8\" fill=\"rgb(169,169,169)\"/><circle cx=\"151\" cy=\"378\" r=\"9\" fill=\"rgb(110,110,110)\"/><circle cx=\"187\" cy=\"186\" r=\"10\" fill=\"rgb(62,62,62)\"/><circle cx=\"319\" cy=\"193\" r=\"12\" fill=\"rgb(91,91,91)\"/><circle cx=\"250\" cy=\"235\" r=\"10\" fill=\"rgb(107,107,107)\"/><circle cx=\"77\" cy=\"169\" r=\"10\" fill=\"rgb(98,98,98)\"/></svg><svg viewBox='0 0 430 430' id=\"svg\" width=\"172\" height=\"172\"><circle cx=\"215\" cy=\"215\" r=\"205\" fill=\"none\" stroke=\"black\" stroke-width=\"2\" stroke-dasharray=\"3,3\"/> <circle cx=\"233\" cy=\"140\" r=\"12\" fill=\"rgb(255,253,253)\" class=\"agent_0_19\"/><circle cx=\"276\" cy=\"182\" r=\"8\" fill=\"rgb(255,252,252)\" class=\"agent_0_35\"/><circle cx=\"151\" cy=\"378\" r=\"9\" fill=\"rgb(255,254,254)\" class=\"agent_0_37\"/><circle cx=\"187\" cy=\"186\" r=\"10\" fill=\"rgb(255,7,7)\" class=\"agent_0_43\"/><circle cx=\"319\" cy=\"193\" r=\"12\" fill=\"rgb(255,253,253)\" class=\"agent_0_44\"/><circle cx=\"250\" cy=\"235\" r=\"10\" fill=\"rgb(255,253,253)\" class=\"agent_0_48\"/><circle cx=\"77\" cy=\"169\" r=\"10\" fill=\"rgb(255,254,254)\" class=\"agent_0_77\"/></svg></div>"
      ],
      "text/plain": [
       "<IPython.core.display.HTML object>"
      ]
     },
     "metadata": {},
     "output_type": "display_data"
    },
    {
     "name": "stdout",
     "output_type": "stream",
     "text": [
      "agree!\n"
     ]
    }
   ],
   "source": [
    "selfplay_contexts_and_mentions(selfplay_scenarios_list[5], beam_size=1, min_num_mentions=0, display_beam_candidates=True, inference='sample', sample_temperature=0.005)"
   ]
  },
  {
   "cell_type": "code",
   "execution_count": null,
   "metadata": {},
   "outputs": [],
   "source": []
  }
 ],
 "metadata": {
  "kernelspec": {
   "display_name": "Python 3",
   "language": "python",
   "name": "python3"
  },
  "language_info": {
   "codemirror_mode": {
    "name": "ipython",
    "version": 3
   },
   "file_extension": ".py",
   "mimetype": "text/x-python",
   "name": "python",
   "nbconvert_exporter": "python",
   "pygments_lexer": "ipython3",
   "version": "3.6.10"
  }
 },
 "nbformat": 4,
 "nbformat_minor": 2
}
