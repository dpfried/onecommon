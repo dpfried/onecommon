{
 "cells": [
  {
   "cell_type": "code",
   "execution_count": 1,
   "metadata": {},
   "outputs": [
    {
     "data": {
      "text/html": [
       "<style>.container { width:100% !important; }</style>"
      ],
      "text/plain": [
       "<IPython.core.display.HTML object>"
      ]
     },
     "metadata": {},
     "output_type": "display_data"
    }
   ],
   "source": [
    "from IPython.core.display import display, HTML\n",
    "display(HTML(\"<style>.container { width:100% !important; }</style>\"))"
   ]
  },
  {
   "cell_type": "code",
   "execution_count": 2,
   "metadata": {
    "scrolled": true
   },
   "outputs": [
    {
     "name": "stdout",
     "output_type": "stream",
     "text": [
      "/home/dfried/projects/onecommon/aaai2020/experiments\n"
     ]
    }
   ],
   "source": [
    "cd '/home/dfried/projects/onecommon/aaai2020/experiments'"
   ]
  },
  {
   "cell_type": "code",
   "execution_count": 3,
   "metadata": {},
   "outputs": [],
   "source": [
    "import models\n",
    "from models import get_model_type\n",
    "import data\n",
    "import utils\n",
    "from domain import get_domain\n",
    "from corpora.reference_sentence import ReferenceSentenceCorpus"
   ]
  },
  {
   "cell_type": "code",
   "execution_count": 4,
   "metadata": {},
   "outputs": [
    {
     "name": "stdout",
     "output_type": "stream",
     "text": [
      "\u001b[0m\u001b[01;34mbad_filtered\u001b[0m/\r\n",
      "\u001b[01;34mbase_512_bsz-64_lr-5e-3_rel-2_extremes_learned-pooling_untied_bidirectional_hidden-mention-encoder-filtered-shared\u001b[0m\u001b[K/\r\n",
      "\u001b[01;34mbase_512_bsz-64_rel-2_extremes_learned-pooling_untied_bidirectional_hidden-mention-encoder-filtered-shared\u001b[0m\u001b[K/\r\n",
      "\u001b[01;34mbase_512_extremes_asymmetric_learned-pooling_untied_bidirectional_hidden-mention-encoder_rb-lpm-lm-lPm-lPpm_prb-lpm-lm-lPm-lPpm\u001b[0m\u001b[K/\r\n",
      "\u001b[01;34mbase_512_extremes_asymmetric_learned-pooling_untied_bidirectional_hidden-mention-encoder_rb-lpm-lm_prb-lpm-lm\u001b[0m\u001b[K/\r\n",
      "\u001b[01;34mbase_512_extremes_learned-pooling_untied_bidirectional_hidden-mention-encoder\u001b[0m/\r\n",
      "\u001b[01;34mbase_512_extremes_learned-pooling_untied_bidirectional_hidden-mention-encoder_2\u001b[0m/\r\n",
      "\u001b[01;34mbase_512_extremes_learned-pooling_untied_bidirectional_hidden-mention-encoder_3\u001b[0m/\r\n",
      "\u001b[01;34mbase_512_extremes_learned-pooling_untied_bidirectional_hidden-mention-encoder-filtered-separate\u001b[0m\u001b[K/\r\n",
      "\u001b[01;34mbase_512_extremes_learned-pooling_untied_bidirectional_hidden-mention-encoder-filtered-separate-diffs\u001b[0m\u001b[K/\r\n",
      "\u001b[01;34mbase_512_extremes_learned-pooling_untied_bidirectional_hidden-mention-encoder-filtered-shared\u001b[0m\u001b[K/\r\n",
      "\u001b[01;34mbase_512_extremes_learned-pooling_untied_bidirectional_hidden-mention-encoder_mb-tpmpred-lmpred\u001b[0m\u001b[K/\r\n",
      "\u001b[01;34mbase_512_extremes_learned-pooling_untied_bidirectional_hidden-mention-encoder_mention-start-10\u001b[0m\u001b[K/\r\n",
      "\u001b[01;34mbase_512_extremes_learned-pooling_untied_bidirectional_hidden-mention-encoder_rb-lpm-lm-lPm-lPpm_prb-lpm-lm-lPm-lPpm\u001b[0m\u001b[K/\r\n",
      "\u001b[01;34mbase_512_extremes_learned-pooling_untied_bidirectional_hidden-mention-encoder_rb-lpm-lm-lPm-lPpm_prb-lpm-lm-lPm-lPpm_mb-tpmpred-lmpred\u001b[0m\u001b[K/\r\n",
      "\u001b[01;34mbase_512_extremes_learned-pooling_untied_bidirectional_hidden-mention-encoder_rb-lpm-lm-lPm-lPpm_prb-lpm-lm-lPm-lPpm_mb-tpmpred-lmpred_sb-tpm-lm\u001b[0m\u001b[K/\r\n",
      "\u001b[01;34mbase_512_extremes_learned-pooling_untied_bidirectional_hidden-mention-encoder_rb-lpm-lm-lPm-lPpm_prb-lpm-lm-lPm-lPpm_mb-tpmpred-lmpred_sb-tpmpred-lmpred\u001b[0m\u001b[K/\r\n",
      "\u001b[01;34mbase_512_extremes_learned-pooling_untied_bidirectional_hidden-mention-encoder_rb-lpm-lm_prb-lpm-lm\u001b[0m\u001b[K/\r\n",
      "\u001b[01;34mbase_512_extremes_learned-pooling_untied_bidirectional_hidden-mention-encoder-relational\u001b[0m\u001b[K/\r\n",
      "\u001b[01;34mbase_512_learned-pooling_untied_bidirectional_hidden-mention-encoder\u001b[0m/\r\n",
      "\u001b[01;34mbase_512_learned-pooling_untied_bidirectional_hidden-mention-encoder_rb-lm_prb-lpm\u001b[0m\u001b[K/\r\n",
      "\u001b[01;34mbase_512_learned-pooling_untied_bidirectional_hidden-mention-encoder_rb-lpm-lm_prb-lpm-lm\u001b[0m\u001b[K/\r\n",
      "\u001b[01;34mbase_512_learned-pooling_untied_bidirectional_hidden-mention-encoder_rb-lpm_prb-lm\u001b[0m\u001b[K/\r\n",
      "\u001b[01;34mbase_512_rel-2_extremes_learned-pooling_untied_bidirectional_hidden-mention-encoder-filtered-separate\u001b[0m\u001b[K/\r\n",
      "\u001b[01;34mbase_512_rel-2_extremes_learned-pooling_untied_bidirectional_hidden-mention-encoder-filtered-separate_unk-2\u001b[0m\u001b[K/\r\n",
      "\u001b[01;34mbase_512_rel-2_extremes_learned-pooling_untied_bidirectional_hidden-mention-encoder-filtered-shared\u001b[0m\u001b[K/\r\n",
      "\u001b[01;34mbase_learned-pooling_untied_bidirectional_hidden-mention-encoder\u001b[0m/\r\n"
     ]
    }
   ],
   "source": [
    "ls expts/rel3_tsel_ref_dial_model_separate/directions"
   ]
  },
  {
   "cell_type": "code",
   "execution_count": 5,
   "metadata": {},
   "outputs": [
    {
     "name": "stdout",
     "output_type": "stream",
     "text": [
      " 1_best.stdict\r\n",
      " 1_best.th\r\n",
      " 1_ep-30.stdict\r\n",
      " 1_ep-30.th\r\n",
      "'eval_dev_cand=40_oracle.out'\r\n",
      "'eval_dev_cand=40_speaker-weight=0.1.out'\r\n",
      "'eval_dev_cand=40_speaker-weight=0.2.out'\r\n",
      "'eval_dev_cand=40_speaker-weight=0.3.out'\r\n",
      "'eval_dev_cand=40_speaker-weight=0.4.out'\r\n",
      "'eval_dev_cand=40_speaker-weight=0.5.out'\r\n",
      "'eval_dev_cand=40_speaker-weight=0.6.out'\r\n",
      "'eval_dev_cand=40_speaker-weight=0.7.out'\r\n",
      "'eval_dev_cand=40_speaker-weight=0.8.out'\r\n",
      "'eval_dev_cand=40_speaker-weight=0.9.out'\r\n",
      "'eval_dev_cand=40_speaker-weight=0.out'\r\n",
      "'eval_dev_cand=40_speaker-weight=1.0.out'\r\n",
      " eval_dev_l0.out\r\n",
      " eval_dev_l0_ref_annotations.json\r\n",
      " train_fold-1.out\r\n"
     ]
    }
   ],
   "source": [
    "ls expts/rel3_tsel_ref_dial_model_separate/directions/base_512_learned-pooling_untied_bidirectional_hidden-mention-encoder/"
   ]
  },
  {
   "cell_type": "code",
   "execution_count": 6,
   "metadata": {},
   "outputs": [],
   "source": [
    "domain = get_domain('one_common')\n",
    "unk_threshold = 10\n",
    "model_ty = get_model_type('rnn_reference_model')\n",
    "\n",
    "ctx_encoder_type = 'rel_attn_encoder_3'\n",
    "\n",
    "# model_fname = 'rel2_dial_model_separate/hierarchical_only-self_mask-pad_max-pool_rel-2_feed-context-attend_no-word-attention_ablate-properties_1_best.th'\n",
    "\n",
    "base = 'expts/rel3_tsel_ref_dial_model_separate/directions'\n",
    "dot_recurrence = 'expts/rel3_tsel_ref_dial_model_separate/dot_recurrence'\n",
    "\n",
    "model_fnames = {\n",
    "    'basic': f'{base}/base_512_learned-pooling_untied_bidirectional_hidden-mention-encoder/1_ep-30.th',\n",
    "    'encoder-filtered-shared': f'{base}/base_512_extremes_learned-pooling_untied_bidirectional_hidden-mention-encoder-filtered-shared/1_ep-30.th',\n",
    "    'encoder-filtered-separate': f'{base}/base_512_extremes_learned-pooling_untied_bidirectional_hidden-mention-encoder-filtered-separate/1_ep-30.th',\n",
    "    'encoder-filtered-separate-diffs': f'{base}/base_512_extremes_learned-pooling_untied_bidirectional_hidden-mention-encoder-filtered-separate-diffs/1_ep-30.th',\n",
    "    'dot-recurrence': f'{dot_recurrence}/base_dr-self+partner-32-mention-selection/1_ep-20.th',\n",
    "    'dot-recurrence-nm-multi': f'{dot_recurrence}/base_dr-self+partner-64-mention-selection_nmpt-multi-reference_expanded/1_ep-20.th',\n",
    "}"
   ]
  },
  {
   "cell_type": "code",
   "execution_count": 7,
   "metadata": {},
   "outputs": [
    {
     "name": "stdout",
     "output_type": "stream",
     "text": [
      "freq cutoff: 10\n",
      "vocab size: 649\n",
      "dataset data/onecommon/train_reference_1.txt, total 545056, unks 4302, ratio 0.79%\n",
      "dataset data/onecommon/valid_reference_1.txt, total 69348, unks 686, ratio 0.99%\n",
      "dataset data/onecommon/test_reference_1.txt, total 67284, unks 636, ratio 0.95%\n"
     ]
    }
   ],
   "source": [
    "seed = 1\n",
    "corpus = ReferenceSentenceCorpus(domain, 'data/onecommon',\n",
    "                            train='train_reference_{}.txt'.format(seed),\n",
    "                            valid='valid_reference_{}.txt'.format(seed),\n",
    "                            test='test_reference_{}.txt'.format(seed),\n",
    "                            freq_cutoff=unk_threshold, verbose=True)"
   ]
  },
  {
   "cell_type": "code",
   "execution_count": 8,
   "metadata": {},
   "outputs": [],
   "source": [
    "def load_json(file):\n",
    "    import json\n",
    "    with open(file, 'r') as f:\n",
    "        return json.load(f)"
   ]
  },
  {
   "cell_type": "code",
   "execution_count": 9,
   "metadata": {},
   "outputs": [],
   "source": [
    "scenarios1 = load_json('data/onecommon/aaai_train_scenarios.json')\n",
    "scenarios2 = load_json('data/onecommon/aaai_train_scenarios_2.json')"
   ]
  },
  {
   "cell_type": "code",
   "execution_count": 10,
   "metadata": {},
   "outputs": [
    {
     "data": {
      "text/plain": [
       "9000"
      ]
     },
     "execution_count": 10,
     "metadata": {},
     "output_type": "execute_result"
    }
   ],
   "source": [
    "len(scenarios1)"
   ]
  },
  {
   "cell_type": "code",
   "execution_count": 11,
   "metadata": {},
   "outputs": [
    {
     "data": {
      "text/plain": [
       "4500"
      ]
     },
     "execution_count": 11,
     "metadata": {},
     "output_type": "execute_result"
    }
   ],
   "source": [
    "len(scenarios2)"
   ]
  },
  {
   "cell_type": "code",
   "execution_count": 12,
   "metadata": {},
   "outputs": [
    {
     "data": {
      "text/plain": [
       "dict_keys(['kbs', 'shared', 'uuid'])"
      ]
     },
     "execution_count": 12,
     "metadata": {},
     "output_type": "execute_result"
    }
   ],
   "source": [
    "scenarios1[0].keys()"
   ]
  },
  {
   "cell_type": "code",
   "execution_count": 13,
   "metadata": {},
   "outputs": [],
   "source": [
    "train_scenarios = {\n",
    "    scenario['uuid']: scenario\n",
    "    for scenario in scenarios1\n",
    "}"
   ]
  },
  {
   "cell_type": "code",
   "execution_count": 14,
   "metadata": {},
   "outputs": [],
   "source": [
    "all_scenarios = {\n",
    "    scenario['uuid']: scenario\n",
    "    for scenario in scenarios1 + scenarios2\n",
    "}"
   ]
  },
  {
   "cell_type": "code",
   "execution_count": 15,
   "metadata": {},
   "outputs": [],
   "source": [
    "hit_count = 0\n",
    "miss_count = 0\n",
    "for scenario in scenarios2:\n",
    "    uuid = scenario['uuid']\n",
    "    if uuid in train_scenarios:\n",
    "        assert train_scenarios[uuid] == scenario\n",
    "        hit_count += 1\n",
    "    else:\n",
    "        miss_count += 1"
   ]
  },
  {
   "cell_type": "code",
   "execution_count": 16,
   "metadata": {},
   "outputs": [
    {
     "name": "stdout",
     "output_type": "stream",
     "text": [
      "hits: 0\n",
      "misses: 4500\n"
     ]
    }
   ],
   "source": [
    "print(\"hits: {}\".format(hit_count))\n",
    "print(\"misses: {}\".format(miss_count))"
   ]
  },
  {
   "cell_type": "code",
   "execution_count": 17,
   "metadata": {},
   "outputs": [
    {
     "name": "stderr",
     "output_type": "stream",
     "text": [
      "/home/dfried/miniconda3/envs/onecommon/lib/python3.6/site-packages/torch/serialization.py:657: SourceChangeWarning: source code of class 'models.rnn_reference_model.HierarchicalRnnReferenceModel' has changed. you can retrieve the original source code by accessing the object's source attribute or set `torch.nn.Module.dump_patches = True` and use the patch tool to revert the changes.\n",
      "  warnings.warn(msg, SourceChangeWarning)\n",
      "/home/dfried/miniconda3/envs/onecommon/lib/python3.6/site-packages/torch/serialization.py:657: SourceChangeWarning: source code of class 'models.ctx_encoder.RelationalAttentionContextEncoder3' has changed. you can retrieve the original source code by accessing the object's source attribute or set `torch.nn.Module.dump_patches = True` and use the patch tool to revert the changes.\n",
      "  warnings.warn(msg, SourceChangeWarning)\n",
      "/home/dfried/miniconda3/envs/onecommon/lib/python3.6/site-packages/torch/serialization.py:657: SourceChangeWarning: source code of class 'models.attention_layers.StructuredTemporalAttentionLayer' has changed. you can retrieve the original source code by accessing the object's source attribute or set `torch.nn.Module.dump_patches = True` and use the patch tool to revert the changes.\n",
      "  warnings.warn(msg, SourceChangeWarning)\n",
      "/home/dfried/miniconda3/envs/onecommon/lib/python3.6/site-packages/torch/serialization.py:657: SourceChangeWarning: source code of class 'models.attention_layers.StructuredAttentionLayer' has changed. you can retrieve the original source code by accessing the object's source attribute or set `torch.nn.Module.dump_patches = True` and use the patch tool to revert the changes.\n",
      "  warnings.warn(msg, SourceChangeWarning)\n"
     ]
    }
   ],
   "source": [
    "models = {\n",
    "    name: utils.load_model(model_fname, map_location='cpu', prefix_dir=None)\n",
    "    for name, model_fname in model_fnames.items()\n",
    "}"
   ]
  },
  {
   "cell_type": "code",
   "execution_count": 18,
   "metadata": {},
   "outputs": [
    {
     "name": "stderr",
     "output_type": "stream",
     "text": [
      "100%|██████████████████████████████████████| 1038/1038 [00:01<00:00, 835.67it/s]\n"
     ]
    }
   ],
   "source": [
    "batchsize=1\n",
    "validset, validset_stats = corpus.valid_dataset(batchsize)"
   ]
  },
  {
   "cell_type": "code",
   "execution_count": 19,
   "metadata": {},
   "outputs": [
    {
     "data": {
      "text/plain": [
       "{'n': 74030,\n",
       " 'self_n': 37015,\n",
       " 'nonpadn': 69348,\n",
       " 'self_nonpadn': 34674,\n",
       " 'max_num_mentions': 9}"
      ]
     },
     "execution_count": 19,
     "metadata": {},
     "output_type": "execute_result"
    }
   ],
   "source": [
    "validset_stats"
   ]
  },
  {
   "cell_type": "code",
   "execution_count": 20,
   "metadata": {},
   "outputs": [],
   "source": [
    "import torch"
   ]
  },
  {
   "cell_type": "code",
   "execution_count": 21,
   "metadata": {},
   "outputs": [],
   "source": [
    "from agent import RnnAgent"
   ]
  },
  {
   "cell_type": "code",
   "execution_count": 22,
   "metadata": {},
   "outputs": [],
   "source": [
    "from selfplay import make_parser"
   ]
  },
  {
   "cell_type": "code",
   "execution_count": 23,
   "metadata": {},
   "outputs": [],
   "source": [
    "parser = make_parser()\n",
    "args = parser.parse_args('--temperature 0.25'.split())\n",
    "# args = parser.parse_args('--temperature 0.01'.split())"
   ]
  },
  {
   "cell_type": "code",
   "execution_count": 24,
   "metadata": {},
   "outputs": [],
   "source": [
    "def is_selection(out):\n",
    "    return '<selection>' in out"
   ]
  },
  {
   "cell_type": "code",
   "execution_count": 25,
   "metadata": {},
   "outputs": [],
   "source": [
    "# display"
   ]
  },
  {
   "cell_type": "code",
   "execution_count": 26,
   "metadata": {},
   "outputs": [],
   "source": [
    "from dialog import DialogLogger"
   ]
  },
  {
   "cell_type": "code",
   "execution_count": 27,
   "metadata": {},
   "outputs": [],
   "source": [
    "from IPython.display import SVG, display, HTML"
   ]
  },
  {
   "cell_type": "code",
   "execution_count": 28,
   "metadata": {},
   "outputs": [],
   "source": [
    "def display_svgs(svgs):\n",
    "    no_wrap_div = '<div style=\"white-space: nowrap\">' + ''.join(svgs) + '</div>'\n",
    "    display(HTML(no_wrap_div))"
   ]
  },
  {
   "cell_type": "code",
   "execution_count": 29,
   "metadata": {},
   "outputs": [],
   "source": [
    "SVG_SCALE=0.4"
   ]
  },
  {
   "cell_type": "code",
   "execution_count": 30,
   "metadata": {},
   "outputs": [],
   "source": [
    "def display_attn(scenario, attn, agent_id, name=None):\n",
    "    attn = attn.flatten().detach().numpy()\n",
    "    if name is not None:\n",
    "        print(\"{}: {}\".format(name, attn))\n",
    "    display_svgs([DialogLogger._scenario_to_svg(scenario, scale=SVG_SCALE)[agent_id], DialogLogger._attention_to_svg(scenario, agent_id, attn, scale=SVG_SCALE)])"
   ]
  },
  {
   "cell_type": "code",
   "execution_count": 31,
   "metadata": {},
   "outputs": [],
   "source": [
    "def display_attns(scenario, attns, agent_id, name=None):\n",
    "    svgs = [DialogLogger._scenario_to_svg(scenario, scale=SVG_SCALE)[agent_id]]\n",
    "#     if name is not None:\n",
    "#         print(\"{}: {}\".format(name, attn))\n",
    "    for attn in attns:\n",
    "        attn = attn.flatten().detach().numpy()\n",
    "        svgs.append(DialogLogger._attention_to_svg(scenario, agent_id, attn, scale=SVG_SCALE))\n",
    "    if name is not None:\n",
    "        print(name)\n",
    "    display_svgs(svgs)"
   ]
  },
  {
   "cell_type": "code",
   "execution_count": 32,
   "metadata": {},
   "outputs": [],
   "source": [
    "# training emulation"
   ]
  },
  {
   "cell_type": "code",
   "execution_count": 33,
   "metadata": {},
   "outputs": [
    {
     "name": "stderr",
     "output_type": "stream",
     "text": [
      "100%|██████████████████████████████████████| 8304/8304 [00:11<00:00, 693.92it/s]\n"
     ]
    }
   ],
   "source": [
    "trainset, trainset_stats = corpus.train_dataset(bsz=1)"
   ]
  },
  {
   "cell_type": "code",
   "execution_count": 34,
   "metadata": {},
   "outputs": [
    {
     "data": {
      "text/plain": [
       "True"
      ]
     },
     "execution_count": 34,
     "metadata": {},
     "output_type": "execute_result"
    }
   ],
   "source": [
    "trainset[0].scenario_ids[0] in train_scenarios"
   ]
  },
  {
   "cell_type": "code",
   "execution_count": 35,
   "metadata": {},
   "outputs": [],
   "source": [
    "# ctx: this player's dots\n",
    "# inpt / tgt: dialogue word indices (tgt are shifted by 1)\n",
    "# ref_inpt"
   ]
  },
  {
   "cell_type": "code",
   "execution_count": 36,
   "metadata": {},
   "outputs": [
    {
     "name": "stdout",
     "output_type": "stream",
     "text": [
      "found it\n"
     ]
    }
   ],
   "source": [
    "for ix in range(len(trainset)):\n",
    "#     ctx, inpts, tgts, ref_inpts, ref_tgts, sel_tgt, \\\n",
    "#     [scenario_id], real_ids, agents, chat_ids, sel_idxs, \\\n",
    "#     lens, rev_idxs, hid_idxs, all_num_markables = trainset[ix]\n",
    "    \n",
    "    ctx, inpts, tgts, ref_inpts, ref_tgts, sel_tgt, \\\n",
    "    [scenario_id], real_ids, partner_real_ids, agents, chat_ids, sel_idxs, \\\n",
    "    lens, rev_idxs, hid_idxs, num_markables, \\\n",
    "    is_self, partner_ref_inpts, partner_ref_tgts_our_view, all_partner_num_markables,\\\n",
    "    ref_disagreements, partner_ref_disagreements = trainset[ix]\n",
    "\n",
    "    if 'C_d0de3d0144df405e998ae718539ff9a4' in chat_ids:\n",
    "#     if scenario_id == 'S_UoujG1GG6KscmnbN':\n",
    "        print(\"found it\")\n",
    "        scenario = train_scenarios[scenario_id]\n",
    "        break"
   ]
  },
  {
   "cell_type": "code",
   "execution_count": 37,
   "metadata": {},
   "outputs": [
    {
     "data": {
      "text/plain": [
       "dict_keys(['basic', 'encoder-filtered-shared', 'encoder-filtered-separate', 'encoder-filtered-separate-diffs', 'dot-recurrence', 'dot-recurrence-nm-multi'])"
      ]
     },
     "execution_count": 37,
     "metadata": {},
     "output_type": "execute_result"
    }
   ],
   "source": [
    "models.keys()"
   ]
  },
  {
   "cell_type": "code",
   "execution_count": null,
   "metadata": {},
   "outputs": [],
   "source": []
  },
  {
   "cell_type": "code",
   "execution_count": 38,
   "metadata": {},
   "outputs": [],
   "source": [
    "# model = models['encoder-filtered-separate-diffs']\n",
    "# model = models['dot-recurrence']\n",
    "model = models['dot-recurrence-nm-multi']"
   ]
  },
  {
   "cell_type": "code",
   "execution_count": 39,
   "metadata": {},
   "outputs": [],
   "source": [
    "alice = RnnAgent(model, args)\n",
    "bob = RnnAgent(model, args)"
   ]
  },
  {
   "cell_type": "code",
   "execution_count": 40,
   "metadata": {},
   "outputs": [],
   "source": [
    "from models.reference_predictor import ReferencePredictor"
   ]
  },
  {
   "cell_type": "code",
   "execution_count": 41,
   "metadata": {},
   "outputs": [],
   "source": [
    "from engines.beliefs import BeliefConstructor"
   ]
  },
  {
   "cell_type": "code",
   "execution_count": 42,
   "metadata": {},
   "outputs": [],
   "source": [
    "from engines.rnn_reference_engine import make_dots_mentioned_multi, make_dots_mentioned_per_ref_multi"
   ]
  },
  {
   "cell_type": "code",
   "execution_count": 43,
   "metadata": {},
   "outputs": [],
   "source": [
    "reference_predictor = ReferencePredictor(model.args)"
   ]
  },
  {
   "cell_type": "code",
   "execution_count": 44,
   "metadata": {},
   "outputs": [
    {
     "name": "stdout",
     "output_type": "stream",
     "text": [
      "Automatic pdb calling has been turned ON\n"
     ]
    }
   ],
   "source": [
    "pdb on"
   ]
  },
  {
   "cell_type": "code",
   "execution_count": 86,
   "metadata": {
    "scrolled": false
   },
   "outputs": [],
   "source": [
    "def force_contexts_and_mentions(index, datasplit=validset, samples=10, sample_temperature=0.25, argmax_temperature=0.005, force_num_markables=True):\n",
    "    ctx, inpts, tgts, ref_inpts, ref_tgts, sel_tgt, \\\n",
    "    [scenario_id], real_ids, partner_real_ids, agents, chat_ids, sel_idxs, \\\n",
    "    lens, rev_idxs, hid_idxs, num_markables, \\\n",
    "    is_self, partner_ref_inpts, partner_ref_tgts_our_view, partner_num_markables,\\\n",
    "    ref_disagreements, partner_ref_disagreements = datasplit[index]\n",
    "    \n",
    "    bsz = ctx.size(0)\n",
    "    num_dots = 7\n",
    "    \n",
    "    # assume we've been training for a while, so that the beliefs are out of the warmup period (e.g. for models that switch from true->predicted)\n",
    "    epoch = 1000\n",
    "    \n",
    "    dots_mentioned = make_dots_mentioned_multi(ref_tgts, model.args, bsz, num_dots)\n",
    "    dots_mentioned_per_ref = make_dots_mentioned_per_ref_multi(ref_tgts, model.args, bsz, num_dots)\n",
    "\n",
    "    partner_dots_mentioned_our_view = make_dots_mentioned_multi(\n",
    "        partner_ref_tgts_our_view, model.args, bsz, num_dots\n",
    "    )\n",
    "    partner_dots_mentioned_our_view_per_ref = make_dots_mentioned_per_ref_multi(\n",
    "        partner_ref_tgts_our_view, model.args, bsz, num_dots\n",
    "    )\n",
    "    \n",
    "    belief_constructor = BeliefConstructor(\n",
    "        model.args, epoch, bsz, num_dots, inpts, ref_tgts, partner_ref_tgts_our_view,\n",
    "        real_ids, partner_real_ids, sel_tgt, is_self,\n",
    "        partner_dots_mentioned_our_view, partner_dots_mentioned_our_view_per_ref,\n",
    "        dots_mentioned, dots_mentioned_per_ref,\n",
    "        ref_inpts, partner_ref_inpts,\n",
    "        num_markables, partner_num_markables,\n",
    "    )\n",
    "    \n",
    "    scenario = all_scenarios[scenario_id]\n",
    "    agent = alice\n",
    "    agent.feed_context(ctx.flatten(),\n",
    "                       belief_constructor,\n",
    "                       num_markables_to_force=num_markables[0] if force_num_markables else None)\n",
    "    agent.real_ids = real_ids\n",
    "    agent.agent_id = agents[0]\n",
    "\n",
    "    writer = alice\n",
    "    conv = []\n",
    "    speaker = []\n",
    "    words_left = 5000\n",
    "\n",
    "    sentence_ix = 0\n",
    "\n",
    "    assert len(inpts) == len(tgts)\n",
    "\n",
    "    while sentence_ix < len(inpts):\n",
    "        words_og = [corpus.word_dict.idx2word[ix] for ix in inpts[sentence_ix].flatten().numpy()]\n",
    "        \n",
    "        if ref_inpts[sentence_ix] is not None:\n",
    "            dots_mentioned = (ref_tgts[sentence_ix].sum(dim=1) > 0)\n",
    "            dots_mentioned_per_ref = ref_tgts[sentence_ix]\n",
    "            this_num_markables = num_markables[sentence_ix]\n",
    "    #         display_attn(scenario, dots_mentioned.float(), writer.agent_id, name='dots_mentioned')\n",
    "            mentions = [dots_mentioned_per_ref[:,mention_ix].float()  for mention_ix in range(dots_mentioned_per_ref.size(1))]\n",
    "            display_attns(scenario, mentions, writer.agent_id, \"to_mention_true\")\n",
    "            nm_out, _, nm_num_markables = writer.next_mention_outs[-1]\n",
    "#             print('nm_num_markables: {}'.format(nm_num_markables))\n",
    "#             print('num_markables: {}'.format(this_num_markables))\n",
    "            if nm_out is not None:\n",
    "#                 print(nm_out[0].size())\n",
    "                _, nm_preds, _ = reference_predictor.forward(\n",
    "                    True, dots_mentioned_per_ref, nm_out, nm_num_markables\n",
    "                )\n",
    "#                 print(nm_preds.size())\n",
    "                display_attns(scenario, nm_preds.squeeze(1).float(), writer.agent_id, \"to_mention_pred\")\n",
    "#             for mention_ix in range(dots_mentioned_per_ref.size(1)):\n",
    "#                 display_attn(scenario, dots_mentioned_per_ref[:,mention_ix].float(), writer.agent_id, name=f'dots_mentioned_{mention_ix}')\n",
    "        else:\n",
    "            dots_mentioned = torch.zeros(1, 7).bool()\n",
    "            dots_mentioned_per_ref = torch.zeros(1, 0, 7).bool()\n",
    "            this_num_markables = torch.LongTensor([0])\n",
    "\n",
    "        if is_self[sentence_ix]:\n",
    "            for sample_ix in range(samples):\n",
    "                pred_outs, _, _, _, extra = writer.model.write(\n",
    "                    writer.state, \n",
    "                    words_left, sample_temperature,\n",
    "                    dots_mentioned=dots_mentioned,\n",
    "                    dots_mentioned_per_ref=dots_mentioned_per_ref,\n",
    "                    num_markables=this_num_markables\n",
    "                )\n",
    "                print('sample {}\\t{}'.format(sample_ix, ' '.join(writer._decode(pred_outs, writer.model.word_dict))))\n",
    "            pred_outs, _, _, _, extra = writer.model.write(\n",
    "                writer.state, \n",
    "                words_left, argmax_temperature,\n",
    "                dots_mentioned=dots_mentioned,\n",
    "                dots_mentioned_per_ref=dots_mentioned_per_ref,\n",
    "                num_markables=this_num_markables\n",
    "            )\n",
    "            print('argmax\\t{}'.format(' '.join(writer._decode(pred_outs, writer.model.word_dict))))\n",
    "    #         print(' '.join(words_og))\n",
    "\n",
    "            out = writer.write(\n",
    "                max_words=words_left,\n",
    "                force_words=[words_og],\n",
    "                start_token=words_og[0],\n",
    "                dots_mentioned=dots_mentioned,\n",
    "                dots_mentioned_per_ref=dots_mentioned_per_ref,\n",
    "                num_markables=this_num_markables,\n",
    "                ref_inpt=ref_inpts[sentence_ix],\n",
    "            )\n",
    "        \n",
    "    #         if writer.extras[-1]['feed_ctx_attn_prob'] is not None:\n",
    "    #             display_attn(scenario, writer.extras[-1]['feed_ctx_attn_prob'], writer.agent_id, name='feed attention')\n",
    "\n",
    "    #         if 'word_ctx_attn_prob_mean' in writer.extras[-1]:\n",
    "    #             display_attn(scenario, writer.extras[-1]['word_ctx_attn_prob_mean'], writer.agent_id, name='word attention mean')\n",
    "\n",
    "    #         for ix, ix_attn in enumerate(writer.extras[-1]['word_ctx_attn_probs']):\n",
    "    #             display_attn(scenario, ix_attn, writer.agent_id, name='t {}: {}'.format(ix, out[ix]))\n",
    "\n",
    "        else:\n",
    "            out = words_og\n",
    "            writer.read(words_og,\n",
    "                        dots_mentioned=dots_mentioned,\n",
    "                        dots_mentioned_per_ref=dots_mentioned_per_ref,\n",
    "                        num_markables=this_num_markables,\n",
    "                        partner_ref_inpt=partner_ref_inpts[sentence_ix],\n",
    "                        partner_num_markables=partner_num_markables[sentence_ix],\n",
    "                        next_num_markables_to_force=num_markables[sentence_ix + 1] if (force_num_markables and sentence_ix < len(num_markables) - 1) else None,\n",
    "                       )\n",
    "        \n",
    "#         writer.update_dot_h(ref_inpts[sentence_ix], partner_ref_inpts[sentence_ix],\n",
    "#                             num_markables[sentence_ix], partner_num_markables[sentence_ix])\n",
    "\n",
    "        print('human\\t{}'.format(' '.join(out)))\n",
    "    \n",
    "        if is_self[sentence_ix]:\n",
    "            if ref_inpts[sentence_ix] is not None:\n",
    "                _, ref_preds, ref_stats = reference_predictor.forward(\n",
    "                    ref_inpts[sentence_ix], ref_tgts[sentence_ix], writer.ref_outs[-1], this_num_markables\n",
    "                )\n",
    "#                 print(\"ref_preds size:\", ref_preds.size())\n",
    "                display_attns(scenario, ref_tgts[sentence_ix].squeeze(0).float(), writer.agent_id, \"refs_true\")\n",
    "                display_attns(scenario, ref_preds.squeeze(1).float(), writer.agent_id, \"refs_pred\")\n",
    "#                 print(ref_stats)\n",
    "        else:\n",
    "            if partner_ref_inpts[sentence_ix] is not None:\n",
    "                _, partner_ref_preds, partner_ref_stats = reference_predictor.forward(\n",
    "                    partner_ref_inpts[sentence_ix], partner_ref_tgts_our_view[sentence_ix],\n",
    "                    writer.partner_ref_outs[-1], partner_num_markables[sentence_ix]\n",
    "                )\n",
    "    #             print(partner_ref_preds)\n",
    "                display_attns(scenario, partner_ref_tgts_our_view[sentence_ix].squeeze(0).float(), writer.agent_id, \"partner_refs_true\")\n",
    "                display_attns(scenario, partner_ref_preds.squeeze(1).float(), writer.agent_id, \"partner_refs_pred\")\n",
    "#                 print(partner_ref_stats)\n",
    "\n",
    "        print()\n",
    "        print('-'*40)\n",
    "        print()\n",
    "        words_left -= len(out)\n",
    "        conv.append(out)\n",
    "        if is_selection(out) or words_left <= 1:\n",
    "            break\n",
    "        sentence_ix += 1"
   ]
  },
  {
   "cell_type": "code",
   "execution_count": 75,
   "metadata": {},
   "outputs": [
    {
     "name": "stdout",
     "output_type": "stream",
     "text": [
      "Automatic pdb calling has been turned ON\n"
     ]
    }
   ],
   "source": [
    "pdb on"
   ]
  },
  {
   "cell_type": "code",
   "execution_count": 87,
   "metadata": {
    "scrolled": false
   },
   "outputs": [
    {
     "name": "stdout",
     "output_type": "stream",
     "text": [
      "to_mention_true\n"
     ]
    },
    {
     "data": {
      "text/html": [
       "<div style=\"white-space: nowrap\"><svg viewbox='0 0 430 430' width=\"172\" height=\"172\" id=\"agent_1\"><circle cx=\"215\" cy=\"215\" r=\"205\" fill=\"none\" stroke=\"black\" stroke-width=\"2\" stroke-dasharray=\"3,3\"/><circle cx=\"90\" cy=\"245\" r=\"8\" fill=\"rgb(93,93,93)\"/><circle cx=\"119\" cy=\"51\" r=\"13\" fill=\"rgb(112,112,112)\"/><circle cx=\"156\" cy=\"230\" r=\"7\" fill=\"rgb(82,82,82)\"/><circle cx=\"272\" cy=\"152\" r=\"10\" fill=\"rgb(137,137,137)\"/><circle cx=\"317\" cy=\"274\" r=\"7\" fill=\"rgb(84,84,84)\"/><circle cx=\"191\" cy=\"385\" r=\"13\" fill=\"rgb(185,185,185)\"/><circle cx=\"150\" cy=\"84\" r=\"11\" fill=\"rgb(81,81,81)\"/></svg><svg viewBox='0 0 430 430' id=\"svg\" width=\"172\" height=\"172\"><circle cx=\"215\" cy=\"215\" r=\"205\" fill=\"none\" stroke=\"black\" stroke-width=\"2\" stroke-dasharray=\"3,3\"/> <circle cx=\"90\" cy=\"245\" r=\"8\" fill=\"rgb(255,255,255)\" class=\"agent_1_5\"/><circle cx=\"119\" cy=\"51\" r=\"13\" fill=\"rgb(255,255,255)\" class=\"agent_1_9\"/><circle cx=\"156\" cy=\"230\" r=\"7\" fill=\"rgb(255,255,255)\" class=\"agent_1_10\"/><circle cx=\"272\" cy=\"152\" r=\"10\" fill=\"rgb(255,255,255)\" class=\"agent_1_29\"/><circle cx=\"317\" cy=\"274\" r=\"7\" fill=\"rgb(255,0,0)\" class=\"agent_1_38\"/><circle cx=\"191\" cy=\"385\" r=\"13\" fill=\"rgb(255,255,255)\" class=\"agent_1_41\"/><circle cx=\"150\" cy=\"84\" r=\"11\" fill=\"rgb(255,255,255)\" class=\"agent_1_73\"/></svg><svg viewBox='0 0 430 430' id=\"svg\" width=\"172\" height=\"172\"><circle cx=\"215\" cy=\"215\" r=\"205\" fill=\"none\" stroke=\"black\" stroke-width=\"2\" stroke-dasharray=\"3,3\"/> <circle cx=\"90\" cy=\"245\" r=\"8\" fill=\"rgb(255,255,255)\" class=\"agent_1_5\"/><circle cx=\"119\" cy=\"51\" r=\"13\" fill=\"rgb(255,255,255)\" class=\"agent_1_9\"/><circle cx=\"156\" cy=\"230\" r=\"7\" fill=\"rgb(255,255,255)\" class=\"agent_1_10\"/><circle cx=\"272\" cy=\"152\" r=\"10\" fill=\"rgb(255,255,255)\" class=\"agent_1_29\"/><circle cx=\"317\" cy=\"274\" r=\"7\" fill=\"rgb(255,0,0)\" class=\"agent_1_38\"/><circle cx=\"191\" cy=\"385\" r=\"13\" fill=\"rgb(255,255,255)\" class=\"agent_1_41\"/><circle cx=\"150\" cy=\"84\" r=\"11\" fill=\"rgb(255,255,255)\" class=\"agent_1_73\"/></svg></div>"
      ],
      "text/plain": [
       "<IPython.core.display.HTML object>"
      ]
     },
     "metadata": {},
     "output_type": "display_data"
    },
    {
     "name": "stdout",
     "output_type": "stream",
     "text": [
      "to_mention_pred\n"
     ]
    },
    {
     "data": {
      "text/html": [
       "<div style=\"white-space: nowrap\"><svg viewbox='0 0 430 430' width=\"172\" height=\"172\" id=\"agent_1\"><circle cx=\"215\" cy=\"215\" r=\"205\" fill=\"none\" stroke=\"black\" stroke-width=\"2\" stroke-dasharray=\"3,3\"/><circle cx=\"90\" cy=\"245\" r=\"8\" fill=\"rgb(93,93,93)\"/><circle cx=\"119\" cy=\"51\" r=\"13\" fill=\"rgb(112,112,112)\"/><circle cx=\"156\" cy=\"230\" r=\"7\" fill=\"rgb(82,82,82)\"/><circle cx=\"272\" cy=\"152\" r=\"10\" fill=\"rgb(137,137,137)\"/><circle cx=\"317\" cy=\"274\" r=\"7\" fill=\"rgb(84,84,84)\"/><circle cx=\"191\" cy=\"385\" r=\"13\" fill=\"rgb(185,185,185)\"/><circle cx=\"150\" cy=\"84\" r=\"11\" fill=\"rgb(81,81,81)\"/></svg><svg viewBox='0 0 430 430' id=\"svg\" width=\"172\" height=\"172\"><circle cx=\"215\" cy=\"215\" r=\"205\" fill=\"none\" stroke=\"black\" stroke-width=\"2\" stroke-dasharray=\"3,3\"/> <circle cx=\"90\" cy=\"245\" r=\"8\" fill=\"rgb(255,0,0)\" class=\"agent_1_5\"/><circle cx=\"119\" cy=\"51\" r=\"13\" fill=\"rgb(255,255,255)\" class=\"agent_1_9\"/><circle cx=\"156\" cy=\"230\" r=\"7\" fill=\"rgb(255,0,0)\" class=\"agent_1_10\"/><circle cx=\"272\" cy=\"152\" r=\"10\" fill=\"rgb(255,255,255)\" class=\"agent_1_29\"/><circle cx=\"317\" cy=\"274\" r=\"7\" fill=\"rgb(255,0,0)\" class=\"agent_1_38\"/><circle cx=\"191\" cy=\"385\" r=\"13\" fill=\"rgb(255,255,255)\" class=\"agent_1_41\"/><circle cx=\"150\" cy=\"84\" r=\"11\" fill=\"rgb(255,255,255)\" class=\"agent_1_73\"/></svg><svg viewBox='0 0 430 430' id=\"svg\" width=\"172\" height=\"172\"><circle cx=\"215\" cy=\"215\" r=\"205\" fill=\"none\" stroke=\"black\" stroke-width=\"2\" stroke-dasharray=\"3,3\"/> <circle cx=\"90\" cy=\"245\" r=\"8\" fill=\"rgb(255,255,255)\" class=\"agent_1_5\"/><circle cx=\"119\" cy=\"51\" r=\"13\" fill=\"rgb(255,255,255)\" class=\"agent_1_9\"/><circle cx=\"156\" cy=\"230\" r=\"7\" fill=\"rgb(255,255,255)\" class=\"agent_1_10\"/><circle cx=\"272\" cy=\"152\" r=\"10\" fill=\"rgb(255,255,255)\" class=\"agent_1_29\"/><circle cx=\"317\" cy=\"274\" r=\"7\" fill=\"rgb(255,255,255)\" class=\"agent_1_38\"/><circle cx=\"191\" cy=\"385\" r=\"13\" fill=\"rgb(255,255,255)\" class=\"agent_1_41\"/><circle cx=\"150\" cy=\"84\" r=\"11\" fill=\"rgb(255,255,255)\" class=\"agent_1_73\"/></svg></div>"
      ],
      "text/plain": [
       "<IPython.core.display.HTML object>"
      ]
     },
     "metadata": {},
     "output_type": "display_data"
    },
    {
     "name": "stdout",
     "output_type": "stream",
     "text": [
      "sample 0\ti have a small dark grey dot by itself <eos>\n",
      "sample 1\ti have a small black dot by itself <eos>\n",
      "sample 2\ti have a small black dot by itself <eos>\n",
      "sample 3\ti have a small black dot by itself <eos>\n",
      "sample 4\ti have a small black dot by itself <eos>\n",
      "sample 5\ti have a small black dot by itself <eos>\n",
      "sample 6\ti have a small black dot by itself <eos>\n",
      "sample 7\ti have a tiny black dot by itself <eos>\n",
      "sample 8\ti have a small black dot by itself <eos>\n",
      "sample 9\ti have a small dark gray dot by itself <eos>\n",
      "argmax\ti have a small black dot by itself <eos>\n",
      "human\ttiny dark dot all by itself ? <eos>\n",
      "refs_true\n"
     ]
    },
    {
     "data": {
      "text/html": [
       "<div style=\"white-space: nowrap\"><svg viewbox='0 0 430 430' width=\"172\" height=\"172\" id=\"agent_1\"><circle cx=\"215\" cy=\"215\" r=\"205\" fill=\"none\" stroke=\"black\" stroke-width=\"2\" stroke-dasharray=\"3,3\"/><circle cx=\"90\" cy=\"245\" r=\"8\" fill=\"rgb(93,93,93)\"/><circle cx=\"119\" cy=\"51\" r=\"13\" fill=\"rgb(112,112,112)\"/><circle cx=\"156\" cy=\"230\" r=\"7\" fill=\"rgb(82,82,82)\"/><circle cx=\"272\" cy=\"152\" r=\"10\" fill=\"rgb(137,137,137)\"/><circle cx=\"317\" cy=\"274\" r=\"7\" fill=\"rgb(84,84,84)\"/><circle cx=\"191\" cy=\"385\" r=\"13\" fill=\"rgb(185,185,185)\"/><circle cx=\"150\" cy=\"84\" r=\"11\" fill=\"rgb(81,81,81)\"/></svg><svg viewBox='0 0 430 430' id=\"svg\" width=\"172\" height=\"172\"><circle cx=\"215\" cy=\"215\" r=\"205\" fill=\"none\" stroke=\"black\" stroke-width=\"2\" stroke-dasharray=\"3,3\"/> <circle cx=\"90\" cy=\"245\" r=\"8\" fill=\"rgb(255,255,255)\" class=\"agent_1_5\"/><circle cx=\"119\" cy=\"51\" r=\"13\" fill=\"rgb(255,255,255)\" class=\"agent_1_9\"/><circle cx=\"156\" cy=\"230\" r=\"7\" fill=\"rgb(255,255,255)\" class=\"agent_1_10\"/><circle cx=\"272\" cy=\"152\" r=\"10\" fill=\"rgb(255,255,255)\" class=\"agent_1_29\"/><circle cx=\"317\" cy=\"274\" r=\"7\" fill=\"rgb(255,0,0)\" class=\"agent_1_38\"/><circle cx=\"191\" cy=\"385\" r=\"13\" fill=\"rgb(255,255,255)\" class=\"agent_1_41\"/><circle cx=\"150\" cy=\"84\" r=\"11\" fill=\"rgb(255,255,255)\" class=\"agent_1_73\"/></svg><svg viewBox='0 0 430 430' id=\"svg\" width=\"172\" height=\"172\"><circle cx=\"215\" cy=\"215\" r=\"205\" fill=\"none\" stroke=\"black\" stroke-width=\"2\" stroke-dasharray=\"3,3\"/> <circle cx=\"90\" cy=\"245\" r=\"8\" fill=\"rgb(255,255,255)\" class=\"agent_1_5\"/><circle cx=\"119\" cy=\"51\" r=\"13\" fill=\"rgb(255,255,255)\" class=\"agent_1_9\"/><circle cx=\"156\" cy=\"230\" r=\"7\" fill=\"rgb(255,255,255)\" class=\"agent_1_10\"/><circle cx=\"272\" cy=\"152\" r=\"10\" fill=\"rgb(255,255,255)\" class=\"agent_1_29\"/><circle cx=\"317\" cy=\"274\" r=\"7\" fill=\"rgb(255,0,0)\" class=\"agent_1_38\"/><circle cx=\"191\" cy=\"385\" r=\"13\" fill=\"rgb(255,255,255)\" class=\"agent_1_41\"/><circle cx=\"150\" cy=\"84\" r=\"11\" fill=\"rgb(255,255,255)\" class=\"agent_1_73\"/></svg></div>"
      ],
      "text/plain": [
       "<IPython.core.display.HTML object>"
      ]
     },
     "metadata": {},
     "output_type": "display_data"
    },
    {
     "name": "stdout",
     "output_type": "stream",
     "text": [
      "refs_pred\n"
     ]
    },
    {
     "data": {
      "text/html": [
       "<div style=\"white-space: nowrap\"><svg viewbox='0 0 430 430' width=\"172\" height=\"172\" id=\"agent_1\"><circle cx=\"215\" cy=\"215\" r=\"205\" fill=\"none\" stroke=\"black\" stroke-width=\"2\" stroke-dasharray=\"3,3\"/><circle cx=\"90\" cy=\"245\" r=\"8\" fill=\"rgb(93,93,93)\"/><circle cx=\"119\" cy=\"51\" r=\"13\" fill=\"rgb(112,112,112)\"/><circle cx=\"156\" cy=\"230\" r=\"7\" fill=\"rgb(82,82,82)\"/><circle cx=\"272\" cy=\"152\" r=\"10\" fill=\"rgb(137,137,137)\"/><circle cx=\"317\" cy=\"274\" r=\"7\" fill=\"rgb(84,84,84)\"/><circle cx=\"191\" cy=\"385\" r=\"13\" fill=\"rgb(185,185,185)\"/><circle cx=\"150\" cy=\"84\" r=\"11\" fill=\"rgb(81,81,81)\"/></svg><svg viewBox='0 0 430 430' id=\"svg\" width=\"172\" height=\"172\"><circle cx=\"215\" cy=\"215\" r=\"205\" fill=\"none\" stroke=\"black\" stroke-width=\"2\" stroke-dasharray=\"3,3\"/> <circle cx=\"90\" cy=\"245\" r=\"8\" fill=\"rgb(255,255,255)\" class=\"agent_1_5\"/><circle cx=\"119\" cy=\"51\" r=\"13\" fill=\"rgb(255,255,255)\" class=\"agent_1_9\"/><circle cx=\"156\" cy=\"230\" r=\"7\" fill=\"rgb(255,255,255)\" class=\"agent_1_10\"/><circle cx=\"272\" cy=\"152\" r=\"10\" fill=\"rgb(255,255,255)\" class=\"agent_1_29\"/><circle cx=\"317\" cy=\"274\" r=\"7\" fill=\"rgb(255,0,0)\" class=\"agent_1_38\"/><circle cx=\"191\" cy=\"385\" r=\"13\" fill=\"rgb(255,255,255)\" class=\"agent_1_41\"/><circle cx=\"150\" cy=\"84\" r=\"11\" fill=\"rgb(255,255,255)\" class=\"agent_1_73\"/></svg><svg viewBox='0 0 430 430' id=\"svg\" width=\"172\" height=\"172\"><circle cx=\"215\" cy=\"215\" r=\"205\" fill=\"none\" stroke=\"black\" stroke-width=\"2\" stroke-dasharray=\"3,3\"/> <circle cx=\"90\" cy=\"245\" r=\"8\" fill=\"rgb(255,255,255)\" class=\"agent_1_5\"/><circle cx=\"119\" cy=\"51\" r=\"13\" fill=\"rgb(255,255,255)\" class=\"agent_1_9\"/><circle cx=\"156\" cy=\"230\" r=\"7\" fill=\"rgb(255,255,255)\" class=\"agent_1_10\"/><circle cx=\"272\" cy=\"152\" r=\"10\" fill=\"rgb(255,255,255)\" class=\"agent_1_29\"/><circle cx=\"317\" cy=\"274\" r=\"7\" fill=\"rgb(255,0,0)\" class=\"agent_1_38\"/><circle cx=\"191\" cy=\"385\" r=\"13\" fill=\"rgb(255,255,255)\" class=\"agent_1_41\"/><circle cx=\"150\" cy=\"84\" r=\"11\" fill=\"rgb(255,255,255)\" class=\"agent_1_73\"/></svg></div>"
      ],
      "text/plain": [
       "<IPython.core.display.HTML object>"
      ]
     },
     "metadata": {},
     "output_type": "display_data"
    },
    {
     "name": "stdout",
     "output_type": "stream",
     "text": [
      "\n",
      "----------------------------------------\n",
      "\n",
      "human\tTHEM: single larger light grey dot <eos>\n",
      "partner_refs_true\n"
     ]
    },
    {
     "data": {
      "text/html": [
       "<div style=\"white-space: nowrap\"><svg viewbox='0 0 430 430' width=\"172\" height=\"172\" id=\"agent_1\"><circle cx=\"215\" cy=\"215\" r=\"205\" fill=\"none\" stroke=\"black\" stroke-width=\"2\" stroke-dasharray=\"3,3\"/><circle cx=\"90\" cy=\"245\" r=\"8\" fill=\"rgb(93,93,93)\"/><circle cx=\"119\" cy=\"51\" r=\"13\" fill=\"rgb(112,112,112)\"/><circle cx=\"156\" cy=\"230\" r=\"7\" fill=\"rgb(82,82,82)\"/><circle cx=\"272\" cy=\"152\" r=\"10\" fill=\"rgb(137,137,137)\"/><circle cx=\"317\" cy=\"274\" r=\"7\" fill=\"rgb(84,84,84)\"/><circle cx=\"191\" cy=\"385\" r=\"13\" fill=\"rgb(185,185,185)\"/><circle cx=\"150\" cy=\"84\" r=\"11\" fill=\"rgb(81,81,81)\"/></svg><svg viewBox='0 0 430 430' id=\"svg\" width=\"172\" height=\"172\"><circle cx=\"215\" cy=\"215\" r=\"205\" fill=\"none\" stroke=\"black\" stroke-width=\"2\" stroke-dasharray=\"3,3\"/> <circle cx=\"90\" cy=\"245\" r=\"8\" fill=\"rgb(255,255,255)\" class=\"agent_1_5\"/><circle cx=\"119\" cy=\"51\" r=\"13\" fill=\"rgb(255,255,255)\" class=\"agent_1_9\"/><circle cx=\"156\" cy=\"230\" r=\"7\" fill=\"rgb(255,255,255)\" class=\"agent_1_10\"/><circle cx=\"272\" cy=\"152\" r=\"10\" fill=\"rgb(255,255,255)\" class=\"agent_1_29\"/><circle cx=\"317\" cy=\"274\" r=\"7\" fill=\"rgb(255,255,255)\" class=\"agent_1_38\"/><circle cx=\"191\" cy=\"385\" r=\"13\" fill=\"rgb(255,0,0)\" class=\"agent_1_41\"/><circle cx=\"150\" cy=\"84\" r=\"11\" fill=\"rgb(255,255,255)\" class=\"agent_1_73\"/></svg></div>"
      ],
      "text/plain": [
       "<IPython.core.display.HTML object>"
      ]
     },
     "metadata": {},
     "output_type": "display_data"
    },
    {
     "name": "stdout",
     "output_type": "stream",
     "text": [
      "partner_refs_pred\n"
     ]
    },
    {
     "data": {
      "text/html": [
       "<div style=\"white-space: nowrap\"><svg viewbox='0 0 430 430' width=\"172\" height=\"172\" id=\"agent_1\"><circle cx=\"215\" cy=\"215\" r=\"205\" fill=\"none\" stroke=\"black\" stroke-width=\"2\" stroke-dasharray=\"3,3\"/><circle cx=\"90\" cy=\"245\" r=\"8\" fill=\"rgb(93,93,93)\"/><circle cx=\"119\" cy=\"51\" r=\"13\" fill=\"rgb(112,112,112)\"/><circle cx=\"156\" cy=\"230\" r=\"7\" fill=\"rgb(82,82,82)\"/><circle cx=\"272\" cy=\"152\" r=\"10\" fill=\"rgb(137,137,137)\"/><circle cx=\"317\" cy=\"274\" r=\"7\" fill=\"rgb(84,84,84)\"/><circle cx=\"191\" cy=\"385\" r=\"13\" fill=\"rgb(185,185,185)\"/><circle cx=\"150\" cy=\"84\" r=\"11\" fill=\"rgb(81,81,81)\"/></svg><svg viewBox='0 0 430 430' id=\"svg\" width=\"172\" height=\"172\"><circle cx=\"215\" cy=\"215\" r=\"205\" fill=\"none\" stroke=\"black\" stroke-width=\"2\" stroke-dasharray=\"3,3\"/> <circle cx=\"90\" cy=\"245\" r=\"8\" fill=\"rgb(255,255,255)\" class=\"agent_1_5\"/><circle cx=\"119\" cy=\"51\" r=\"13\" fill=\"rgb(255,255,255)\" class=\"agent_1_9\"/><circle cx=\"156\" cy=\"230\" r=\"7\" fill=\"rgb(255,255,255)\" class=\"agent_1_10\"/><circle cx=\"272\" cy=\"152\" r=\"10\" fill=\"rgb(255,255,255)\" class=\"agent_1_29\"/><circle cx=\"317\" cy=\"274\" r=\"7\" fill=\"rgb(255,255,255)\" class=\"agent_1_38\"/><circle cx=\"191\" cy=\"385\" r=\"13\" fill=\"rgb(255,0,0)\" class=\"agent_1_41\"/><circle cx=\"150\" cy=\"84\" r=\"11\" fill=\"rgb(255,255,255)\" class=\"agent_1_73\"/></svg></div>"
      ],
      "text/plain": [
       "<IPython.core.display.HTML object>"
      ]
     },
     "metadata": {},
     "output_type": "display_data"
    },
    {
     "name": "stdout",
     "output_type": "stream",
     "text": [
      "\n",
      "----------------------------------------\n",
      "\n",
      "to_mention_true\n"
     ]
    },
    {
     "data": {
      "text/html": [
       "<div style=\"white-space: nowrap\"><svg viewbox='0 0 430 430' width=\"172\" height=\"172\" id=\"agent_1\"><circle cx=\"215\" cy=\"215\" r=\"205\" fill=\"none\" stroke=\"black\" stroke-width=\"2\" stroke-dasharray=\"3,3\"/><circle cx=\"90\" cy=\"245\" r=\"8\" fill=\"rgb(93,93,93)\"/><circle cx=\"119\" cy=\"51\" r=\"13\" fill=\"rgb(112,112,112)\"/><circle cx=\"156\" cy=\"230\" r=\"7\" fill=\"rgb(82,82,82)\"/><circle cx=\"272\" cy=\"152\" r=\"10\" fill=\"rgb(137,137,137)\"/><circle cx=\"317\" cy=\"274\" r=\"7\" fill=\"rgb(84,84,84)\"/><circle cx=\"191\" cy=\"385\" r=\"13\" fill=\"rgb(185,185,185)\"/><circle cx=\"150\" cy=\"84\" r=\"11\" fill=\"rgb(81,81,81)\"/></svg><svg viewBox='0 0 430 430' id=\"svg\" width=\"172\" height=\"172\"><circle cx=\"215\" cy=\"215\" r=\"205\" fill=\"none\" stroke=\"black\" stroke-width=\"2\" stroke-dasharray=\"3,3\"/> <circle cx=\"90\" cy=\"245\" r=\"8\" fill=\"rgb(255,255,255)\" class=\"agent_1_5\"/><circle cx=\"119\" cy=\"51\" r=\"13\" fill=\"rgb(255,255,255)\" class=\"agent_1_9\"/><circle cx=\"156\" cy=\"230\" r=\"7\" fill=\"rgb(255,255,255)\" class=\"agent_1_10\"/><circle cx=\"272\" cy=\"152\" r=\"10\" fill=\"rgb(255,255,255)\" class=\"agent_1_29\"/><circle cx=\"317\" cy=\"274\" r=\"7\" fill=\"rgb(255,255,255)\" class=\"agent_1_38\"/><circle cx=\"191\" cy=\"385\" r=\"13\" fill=\"rgb(255,0,0)\" class=\"agent_1_41\"/><circle cx=\"150\" cy=\"84\" r=\"11\" fill=\"rgb(255,255,255)\" class=\"agent_1_73\"/></svg></div>"
      ],
      "text/plain": [
       "<IPython.core.display.HTML object>"
      ]
     },
     "metadata": {},
     "output_type": "display_data"
    },
    {
     "name": "stdout",
     "output_type": "stream",
     "text": [
      "to_mention_pred\n"
     ]
    },
    {
     "data": {
      "text/html": [
       "<div style=\"white-space: nowrap\"><svg viewbox='0 0 430 430' width=\"172\" height=\"172\" id=\"agent_1\"><circle cx=\"215\" cy=\"215\" r=\"205\" fill=\"none\" stroke=\"black\" stroke-width=\"2\" stroke-dasharray=\"3,3\"/><circle cx=\"90\" cy=\"245\" r=\"8\" fill=\"rgb(93,93,93)\"/><circle cx=\"119\" cy=\"51\" r=\"13\" fill=\"rgb(112,112,112)\"/><circle cx=\"156\" cy=\"230\" r=\"7\" fill=\"rgb(82,82,82)\"/><circle cx=\"272\" cy=\"152\" r=\"10\" fill=\"rgb(137,137,137)\"/><circle cx=\"317\" cy=\"274\" r=\"7\" fill=\"rgb(84,84,84)\"/><circle cx=\"191\" cy=\"385\" r=\"13\" fill=\"rgb(185,185,185)\"/><circle cx=\"150\" cy=\"84\" r=\"11\" fill=\"rgb(81,81,81)\"/></svg><svg viewBox='0 0 430 430' id=\"svg\" width=\"172\" height=\"172\"><circle cx=\"215\" cy=\"215\" r=\"205\" fill=\"none\" stroke=\"black\" stroke-width=\"2\" stroke-dasharray=\"3,3\"/> <circle cx=\"90\" cy=\"245\" r=\"8\" fill=\"rgb(255,255,255)\" class=\"agent_1_5\"/><circle cx=\"119\" cy=\"51\" r=\"13\" fill=\"rgb(255,255,255)\" class=\"agent_1_9\"/><circle cx=\"156\" cy=\"230\" r=\"7\" fill=\"rgb(255,255,255)\" class=\"agent_1_10\"/><circle cx=\"272\" cy=\"152\" r=\"10\" fill=\"rgb(255,255,255)\" class=\"agent_1_29\"/><circle cx=\"317\" cy=\"274\" r=\"7\" fill=\"rgb(255,255,255)\" class=\"agent_1_38\"/><circle cx=\"191\" cy=\"385\" r=\"13\" fill=\"rgb(255,0,0)\" class=\"agent_1_41\"/><circle cx=\"150\" cy=\"84\" r=\"11\" fill=\"rgb(255,255,255)\" class=\"agent_1_73\"/></svg></div>"
      ],
      "text/plain": [
       "<IPython.core.display.HTML object>"
      ]
     },
     "metadata": {},
     "output_type": "display_data"
    },
    {
     "name": "stdout",
     "output_type": "stream",
     "text": [
      "sample 0\tyes , it is <selection>\n",
      "sample 1\tyes , it is in the middle of the circle <eos>\n",
      "sample 2\tyes , let 's choose that one <selection>\n",
      "sample 3\tyes . let 's pick that one <selection>\n",
      "sample 4\tyes , let 's choose that one <selection>\n",
      "sample 5\tyes , it is in the middle of the circle <eos>\n",
      "sample 6\tyes . is it on the left side ? <eos>\n",
      "sample 7\tyes , it is in the middle of the circle <eos>\n",
      "sample 8\tis it on the left side ? <eos>\n",
      "sample 9\tyes , it is on the top <eos>\n",
      "argmax\tyes , let 's choose that one <selection>\n",
      "human\tall by itself as well ? <eos>\n",
      "refs_true\n"
     ]
    },
    {
     "data": {
      "text/html": [
       "<div style=\"white-space: nowrap\"><svg viewbox='0 0 430 430' width=\"172\" height=\"172\" id=\"agent_1\"><circle cx=\"215\" cy=\"215\" r=\"205\" fill=\"none\" stroke=\"black\" stroke-width=\"2\" stroke-dasharray=\"3,3\"/><circle cx=\"90\" cy=\"245\" r=\"8\" fill=\"rgb(93,93,93)\"/><circle cx=\"119\" cy=\"51\" r=\"13\" fill=\"rgb(112,112,112)\"/><circle cx=\"156\" cy=\"230\" r=\"7\" fill=\"rgb(82,82,82)\"/><circle cx=\"272\" cy=\"152\" r=\"10\" fill=\"rgb(137,137,137)\"/><circle cx=\"317\" cy=\"274\" r=\"7\" fill=\"rgb(84,84,84)\"/><circle cx=\"191\" cy=\"385\" r=\"13\" fill=\"rgb(185,185,185)\"/><circle cx=\"150\" cy=\"84\" r=\"11\" fill=\"rgb(81,81,81)\"/></svg><svg viewBox='0 0 430 430' id=\"svg\" width=\"172\" height=\"172\"><circle cx=\"215\" cy=\"215\" r=\"205\" fill=\"none\" stroke=\"black\" stroke-width=\"2\" stroke-dasharray=\"3,3\"/> <circle cx=\"90\" cy=\"245\" r=\"8\" fill=\"rgb(255,255,255)\" class=\"agent_1_5\"/><circle cx=\"119\" cy=\"51\" r=\"13\" fill=\"rgb(255,255,255)\" class=\"agent_1_9\"/><circle cx=\"156\" cy=\"230\" r=\"7\" fill=\"rgb(255,255,255)\" class=\"agent_1_10\"/><circle cx=\"272\" cy=\"152\" r=\"10\" fill=\"rgb(255,255,255)\" class=\"agent_1_29\"/><circle cx=\"317\" cy=\"274\" r=\"7\" fill=\"rgb(255,255,255)\" class=\"agent_1_38\"/><circle cx=\"191\" cy=\"385\" r=\"13\" fill=\"rgb(255,0,0)\" class=\"agent_1_41\"/><circle cx=\"150\" cy=\"84\" r=\"11\" fill=\"rgb(255,255,255)\" class=\"agent_1_73\"/></svg></div>"
      ],
      "text/plain": [
       "<IPython.core.display.HTML object>"
      ]
     },
     "metadata": {},
     "output_type": "display_data"
    },
    {
     "name": "stdout",
     "output_type": "stream",
     "text": [
      "refs_pred\n"
     ]
    },
    {
     "data": {
      "text/html": [
       "<div style=\"white-space: nowrap\"><svg viewbox='0 0 430 430' width=\"172\" height=\"172\" id=\"agent_1\"><circle cx=\"215\" cy=\"215\" r=\"205\" fill=\"none\" stroke=\"black\" stroke-width=\"2\" stroke-dasharray=\"3,3\"/><circle cx=\"90\" cy=\"245\" r=\"8\" fill=\"rgb(93,93,93)\"/><circle cx=\"119\" cy=\"51\" r=\"13\" fill=\"rgb(112,112,112)\"/><circle cx=\"156\" cy=\"230\" r=\"7\" fill=\"rgb(82,82,82)\"/><circle cx=\"272\" cy=\"152\" r=\"10\" fill=\"rgb(137,137,137)\"/><circle cx=\"317\" cy=\"274\" r=\"7\" fill=\"rgb(84,84,84)\"/><circle cx=\"191\" cy=\"385\" r=\"13\" fill=\"rgb(185,185,185)\"/><circle cx=\"150\" cy=\"84\" r=\"11\" fill=\"rgb(81,81,81)\"/></svg><svg viewBox='0 0 430 430' id=\"svg\" width=\"172\" height=\"172\"><circle cx=\"215\" cy=\"215\" r=\"205\" fill=\"none\" stroke=\"black\" stroke-width=\"2\" stroke-dasharray=\"3,3\"/> <circle cx=\"90\" cy=\"245\" r=\"8\" fill=\"rgb(255,255,255)\" class=\"agent_1_5\"/><circle cx=\"119\" cy=\"51\" r=\"13\" fill=\"rgb(255,255,255)\" class=\"agent_1_9\"/><circle cx=\"156\" cy=\"230\" r=\"7\" fill=\"rgb(255,255,255)\" class=\"agent_1_10\"/><circle cx=\"272\" cy=\"152\" r=\"10\" fill=\"rgb(255,255,255)\" class=\"agent_1_29\"/><circle cx=\"317\" cy=\"274\" r=\"7\" fill=\"rgb(255,255,255)\" class=\"agent_1_38\"/><circle cx=\"191\" cy=\"385\" r=\"13\" fill=\"rgb(255,0,0)\" class=\"agent_1_41\"/><circle cx=\"150\" cy=\"84\" r=\"11\" fill=\"rgb(255,255,255)\" class=\"agent_1_73\"/></svg></div>"
      ],
      "text/plain": [
       "<IPython.core.display.HTML object>"
      ]
     },
     "metadata": {},
     "output_type": "display_data"
    },
    {
     "name": "stdout",
     "output_type": "stream",
     "text": [
      "\n",
      "----------------------------------------\n",
      "\n",
      "human\tTHEM: yes <eos>\n",
      "\n",
      "----------------------------------------\n",
      "\n",
      "to_mention_true\n"
     ]
    },
    {
     "data": {
      "text/html": [
       "<div style=\"white-space: nowrap\"><svg viewbox='0 0 430 430' width=\"172\" height=\"172\" id=\"agent_1\"><circle cx=\"215\" cy=\"215\" r=\"205\" fill=\"none\" stroke=\"black\" stroke-width=\"2\" stroke-dasharray=\"3,3\"/><circle cx=\"90\" cy=\"245\" r=\"8\" fill=\"rgb(93,93,93)\"/><circle cx=\"119\" cy=\"51\" r=\"13\" fill=\"rgb(112,112,112)\"/><circle cx=\"156\" cy=\"230\" r=\"7\" fill=\"rgb(82,82,82)\"/><circle cx=\"272\" cy=\"152\" r=\"10\" fill=\"rgb(137,137,137)\"/><circle cx=\"317\" cy=\"274\" r=\"7\" fill=\"rgb(84,84,84)\"/><circle cx=\"191\" cy=\"385\" r=\"13\" fill=\"rgb(185,185,185)\"/><circle cx=\"150\" cy=\"84\" r=\"11\" fill=\"rgb(81,81,81)\"/></svg><svg viewBox='0 0 430 430' id=\"svg\" width=\"172\" height=\"172\"><circle cx=\"215\" cy=\"215\" r=\"205\" fill=\"none\" stroke=\"black\" stroke-width=\"2\" stroke-dasharray=\"3,3\"/> <circle cx=\"90\" cy=\"245\" r=\"8\" fill=\"rgb(255,255,255)\" class=\"agent_1_5\"/><circle cx=\"119\" cy=\"51\" r=\"13\" fill=\"rgb(255,255,255)\" class=\"agent_1_9\"/><circle cx=\"156\" cy=\"230\" r=\"7\" fill=\"rgb(255,255,255)\" class=\"agent_1_10\"/><circle cx=\"272\" cy=\"152\" r=\"10\" fill=\"rgb(255,255,255)\" class=\"agent_1_29\"/><circle cx=\"317\" cy=\"274\" r=\"7\" fill=\"rgb(255,255,255)\" class=\"agent_1_38\"/><circle cx=\"191\" cy=\"385\" r=\"13\" fill=\"rgb(255,0,0)\" class=\"agent_1_41\"/><circle cx=\"150\" cy=\"84\" r=\"11\" fill=\"rgb(255,255,255)\" class=\"agent_1_73\"/></svg></div>"
      ],
      "text/plain": [
       "<IPython.core.display.HTML object>"
      ]
     },
     "metadata": {},
     "output_type": "display_data"
    },
    {
     "name": "stdout",
     "output_type": "stream",
     "text": [
      "to_mention_pred\n"
     ]
    },
    {
     "data": {
      "text/html": [
       "<div style=\"white-space: nowrap\"><svg viewbox='0 0 430 430' width=\"172\" height=\"172\" id=\"agent_1\"><circle cx=\"215\" cy=\"215\" r=\"205\" fill=\"none\" stroke=\"black\" stroke-width=\"2\" stroke-dasharray=\"3,3\"/><circle cx=\"90\" cy=\"245\" r=\"8\" fill=\"rgb(93,93,93)\"/><circle cx=\"119\" cy=\"51\" r=\"13\" fill=\"rgb(112,112,112)\"/><circle cx=\"156\" cy=\"230\" r=\"7\" fill=\"rgb(82,82,82)\"/><circle cx=\"272\" cy=\"152\" r=\"10\" fill=\"rgb(137,137,137)\"/><circle cx=\"317\" cy=\"274\" r=\"7\" fill=\"rgb(84,84,84)\"/><circle cx=\"191\" cy=\"385\" r=\"13\" fill=\"rgb(185,185,185)\"/><circle cx=\"150\" cy=\"84\" r=\"11\" fill=\"rgb(81,81,81)\"/></svg><svg viewBox='0 0 430 430' id=\"svg\" width=\"172\" height=\"172\"><circle cx=\"215\" cy=\"215\" r=\"205\" fill=\"none\" stroke=\"black\" stroke-width=\"2\" stroke-dasharray=\"3,3\"/> <circle cx=\"90\" cy=\"245\" r=\"8\" fill=\"rgb(255,255,255)\" class=\"agent_1_5\"/><circle cx=\"119\" cy=\"51\" r=\"13\" fill=\"rgb(255,255,255)\" class=\"agent_1_9\"/><circle cx=\"156\" cy=\"230\" r=\"7\" fill=\"rgb(255,255,255)\" class=\"agent_1_10\"/><circle cx=\"272\" cy=\"152\" r=\"10\" fill=\"rgb(255,255,255)\" class=\"agent_1_29\"/><circle cx=\"317\" cy=\"274\" r=\"7\" fill=\"rgb(255,255,255)\" class=\"agent_1_38\"/><circle cx=\"191\" cy=\"385\" r=\"13\" fill=\"rgb(255,0,0)\" class=\"agent_1_41\"/><circle cx=\"150\" cy=\"84\" r=\"11\" fill=\"rgb(255,255,255)\" class=\"agent_1_73\"/></svg></div>"
      ],
      "text/plain": [
       "<IPython.core.display.HTML object>"
      ]
     },
     "metadata": {},
     "output_type": "display_data"
    },
    {
     "name": "stdout",
     "output_type": "stream",
     "text": [
      "sample 0\tok i have that one . <selection>\n",
      "sample 1\tok , lets choose that one <selection>\n",
      "sample 2\tok , lets click it <selection>\n",
      "sample 3\tok , let 's pick that one . <selection>\n",
      "sample 4\tok , it is <selection>\n",
      "sample 5\tdo you have a large light grey dot ? <eos>\n",
      "sample 6\tok . let 's try it <selection>\n",
      "sample 7\tokay , let 's choose that one <selection>\n",
      "sample 8\tok , let 's try it <selection>\n",
      "sample 9\tok , let 's pick it <selection>\n",
      "argmax\tok , let 's choose that one <selection>\n",
      "human\tselect it then ! <selection>\n",
      "refs_true\n"
     ]
    },
    {
     "data": {
      "text/html": [
       "<div style=\"white-space: nowrap\"><svg viewbox='0 0 430 430' width=\"172\" height=\"172\" id=\"agent_1\"><circle cx=\"215\" cy=\"215\" r=\"205\" fill=\"none\" stroke=\"black\" stroke-width=\"2\" stroke-dasharray=\"3,3\"/><circle cx=\"90\" cy=\"245\" r=\"8\" fill=\"rgb(93,93,93)\"/><circle cx=\"119\" cy=\"51\" r=\"13\" fill=\"rgb(112,112,112)\"/><circle cx=\"156\" cy=\"230\" r=\"7\" fill=\"rgb(82,82,82)\"/><circle cx=\"272\" cy=\"152\" r=\"10\" fill=\"rgb(137,137,137)\"/><circle cx=\"317\" cy=\"274\" r=\"7\" fill=\"rgb(84,84,84)\"/><circle cx=\"191\" cy=\"385\" r=\"13\" fill=\"rgb(185,185,185)\"/><circle cx=\"150\" cy=\"84\" r=\"11\" fill=\"rgb(81,81,81)\"/></svg><svg viewBox='0 0 430 430' id=\"svg\" width=\"172\" height=\"172\"><circle cx=\"215\" cy=\"215\" r=\"205\" fill=\"none\" stroke=\"black\" stroke-width=\"2\" stroke-dasharray=\"3,3\"/> <circle cx=\"90\" cy=\"245\" r=\"8\" fill=\"rgb(255,255,255)\" class=\"agent_1_5\"/><circle cx=\"119\" cy=\"51\" r=\"13\" fill=\"rgb(255,255,255)\" class=\"agent_1_9\"/><circle cx=\"156\" cy=\"230\" r=\"7\" fill=\"rgb(255,255,255)\" class=\"agent_1_10\"/><circle cx=\"272\" cy=\"152\" r=\"10\" fill=\"rgb(255,255,255)\" class=\"agent_1_29\"/><circle cx=\"317\" cy=\"274\" r=\"7\" fill=\"rgb(255,255,255)\" class=\"agent_1_38\"/><circle cx=\"191\" cy=\"385\" r=\"13\" fill=\"rgb(255,0,0)\" class=\"agent_1_41\"/><circle cx=\"150\" cy=\"84\" r=\"11\" fill=\"rgb(255,255,255)\" class=\"agent_1_73\"/></svg></div>"
      ],
      "text/plain": [
       "<IPython.core.display.HTML object>"
      ]
     },
     "metadata": {},
     "output_type": "display_data"
    },
    {
     "name": "stdout",
     "output_type": "stream",
     "text": [
      "refs_pred\n"
     ]
    },
    {
     "data": {
      "text/html": [
       "<div style=\"white-space: nowrap\"><svg viewbox='0 0 430 430' width=\"172\" height=\"172\" id=\"agent_1\"><circle cx=\"215\" cy=\"215\" r=\"205\" fill=\"none\" stroke=\"black\" stroke-width=\"2\" stroke-dasharray=\"3,3\"/><circle cx=\"90\" cy=\"245\" r=\"8\" fill=\"rgb(93,93,93)\"/><circle cx=\"119\" cy=\"51\" r=\"13\" fill=\"rgb(112,112,112)\"/><circle cx=\"156\" cy=\"230\" r=\"7\" fill=\"rgb(82,82,82)\"/><circle cx=\"272\" cy=\"152\" r=\"10\" fill=\"rgb(137,137,137)\"/><circle cx=\"317\" cy=\"274\" r=\"7\" fill=\"rgb(84,84,84)\"/><circle cx=\"191\" cy=\"385\" r=\"13\" fill=\"rgb(185,185,185)\"/><circle cx=\"150\" cy=\"84\" r=\"11\" fill=\"rgb(81,81,81)\"/></svg><svg viewBox='0 0 430 430' id=\"svg\" width=\"172\" height=\"172\"><circle cx=\"215\" cy=\"215\" r=\"205\" fill=\"none\" stroke=\"black\" stroke-width=\"2\" stroke-dasharray=\"3,3\"/> <circle cx=\"90\" cy=\"245\" r=\"8\" fill=\"rgb(255,255,255)\" class=\"agent_1_5\"/><circle cx=\"119\" cy=\"51\" r=\"13\" fill=\"rgb(255,255,255)\" class=\"agent_1_9\"/><circle cx=\"156\" cy=\"230\" r=\"7\" fill=\"rgb(255,255,255)\" class=\"agent_1_10\"/><circle cx=\"272\" cy=\"152\" r=\"10\" fill=\"rgb(255,255,255)\" class=\"agent_1_29\"/><circle cx=\"317\" cy=\"274\" r=\"7\" fill=\"rgb(255,255,255)\" class=\"agent_1_38\"/><circle cx=\"191\" cy=\"385\" r=\"13\" fill=\"rgb(255,0,0)\" class=\"agent_1_41\"/><circle cx=\"150\" cy=\"84\" r=\"11\" fill=\"rgb(255,255,255)\" class=\"agent_1_73\"/></svg></div>"
      ],
      "text/plain": [
       "<IPython.core.display.HTML object>"
      ]
     },
     "metadata": {},
     "output_type": "display_data"
    },
    {
     "name": "stdout",
     "output_type": "stream",
     "text": [
      "\n",
      "----------------------------------------\n",
      "\n"
     ]
    }
   ],
   "source": [
    "force_contexts_and_mentions(1)"
   ]
  },
  {
   "cell_type": "code",
   "execution_count": 88,
   "metadata": {
    "scrolled": false
   },
   "outputs": [
    {
     "name": "stdout",
     "output_type": "stream",
     "text": [
      "human\tTHEM: hi , i see a gray medium size circle at the bottom edge of my <unk> <eos>\n",
      "partner_refs_true\n"
     ]
    },
    {
     "data": {
      "text/html": [
       "<div style=\"white-space: nowrap\"><svg viewbox='0 0 430 430' width=\"172\" height=\"172\" id=\"agent_1\"><circle cx=\"215\" cy=\"215\" r=\"205\" fill=\"none\" stroke=\"black\" stroke-width=\"2\" stroke-dasharray=\"3,3\"/><circle cx=\"178\" cy=\"64\" r=\"11\" fill=\"rgb(96,96,96)\"/><circle cx=\"400\" cy=\"172\" r=\"11\" fill=\"rgb(59,59,59)\"/><circle cx=\"116\" cy=\"339\" r=\"9\" fill=\"rgb(107,107,107)\"/><circle cx=\"62\" cy=\"278\" r=\"12\" fill=\"rgb(158,158,158)\"/><circle cx=\"222\" cy=\"349\" r=\"10\" fill=\"rgb(74,74,74)\"/><circle cx=\"280\" cy=\"164\" r=\"7\" fill=\"rgb(198,198,198)\"/><circle cx=\"322\" cy=\"349\" r=\"12\" fill=\"rgb(108,108,108)\"/></svg><svg viewBox='0 0 430 430' id=\"svg\" width=\"172\" height=\"172\"><circle cx=\"215\" cy=\"215\" r=\"205\" fill=\"none\" stroke=\"black\" stroke-width=\"2\" stroke-dasharray=\"3,3\"/> <circle cx=\"178\" cy=\"64\" r=\"11\" fill=\"rgb(255,255,255)\" class=\"agent_1_9\"/><circle cx=\"400\" cy=\"172\" r=\"11\" fill=\"rgb(255,255,255)\" class=\"agent_1_10\"/><circle cx=\"116\" cy=\"339\" r=\"9\" fill=\"rgb(255,255,255)\" class=\"agent_1_12\"/><circle cx=\"62\" cy=\"278\" r=\"12\" fill=\"rgb(255,255,255)\" class=\"agent_1_13\"/><circle cx=\"222\" cy=\"349\" r=\"10\" fill=\"rgb(255,255,255)\" class=\"agent_1_20\"/><circle cx=\"280\" cy=\"164\" r=\"7\" fill=\"rgb(255,255,255)\" class=\"agent_1_42\"/><circle cx=\"322\" cy=\"349\" r=\"12\" fill=\"rgb(255,255,255)\" class=\"agent_1_54\"/></svg></div>"
      ],
      "text/plain": [
       "<IPython.core.display.HTML object>"
      ]
     },
     "metadata": {},
     "output_type": "display_data"
    },
    {
     "name": "stdout",
     "output_type": "stream",
     "text": [
      "partner_refs_pred\n"
     ]
    },
    {
     "data": {
      "text/html": [
       "<div style=\"white-space: nowrap\"><svg viewbox='0 0 430 430' width=\"172\" height=\"172\" id=\"agent_1\"><circle cx=\"215\" cy=\"215\" r=\"205\" fill=\"none\" stroke=\"black\" stroke-width=\"2\" stroke-dasharray=\"3,3\"/><circle cx=\"178\" cy=\"64\" r=\"11\" fill=\"rgb(96,96,96)\"/><circle cx=\"400\" cy=\"172\" r=\"11\" fill=\"rgb(59,59,59)\"/><circle cx=\"116\" cy=\"339\" r=\"9\" fill=\"rgb(107,107,107)\"/><circle cx=\"62\" cy=\"278\" r=\"12\" fill=\"rgb(158,158,158)\"/><circle cx=\"222\" cy=\"349\" r=\"10\" fill=\"rgb(74,74,74)\"/><circle cx=\"280\" cy=\"164\" r=\"7\" fill=\"rgb(198,198,198)\"/><circle cx=\"322\" cy=\"349\" r=\"12\" fill=\"rgb(108,108,108)\"/></svg><svg viewBox='0 0 430 430' id=\"svg\" width=\"172\" height=\"172\"><circle cx=\"215\" cy=\"215\" r=\"205\" fill=\"none\" stroke=\"black\" stroke-width=\"2\" stroke-dasharray=\"3,3\"/> <circle cx=\"178\" cy=\"64\" r=\"11\" fill=\"rgb(255,255,255)\" class=\"agent_1_9\"/><circle cx=\"400\" cy=\"172\" r=\"11\" fill=\"rgb(255,255,255)\" class=\"agent_1_10\"/><circle cx=\"116\" cy=\"339\" r=\"9\" fill=\"rgb(255,255,255)\" class=\"agent_1_12\"/><circle cx=\"62\" cy=\"278\" r=\"12\" fill=\"rgb(255,255,255)\" class=\"agent_1_13\"/><circle cx=\"222\" cy=\"349\" r=\"10\" fill=\"rgb(255,255,255)\" class=\"agent_1_20\"/><circle cx=\"280\" cy=\"164\" r=\"7\" fill=\"rgb(255,255,255)\" class=\"agent_1_42\"/><circle cx=\"322\" cy=\"349\" r=\"12\" fill=\"rgb(255,0,0)\" class=\"agent_1_54\"/></svg></div>"
      ],
      "text/plain": [
       "<IPython.core.display.HTML object>"
      ]
     },
     "metadata": {},
     "output_type": "display_data"
    },
    {
     "name": "stdout",
     "output_type": "stream",
     "text": [
      "\n",
      "----------------------------------------\n",
      "\n",
      "to_mention_true\n"
     ]
    },
    {
     "data": {
      "text/html": [
       "<div style=\"white-space: nowrap\"><svg viewbox='0 0 430 430' width=\"172\" height=\"172\" id=\"agent_1\"><circle cx=\"215\" cy=\"215\" r=\"205\" fill=\"none\" stroke=\"black\" stroke-width=\"2\" stroke-dasharray=\"3,3\"/><circle cx=\"178\" cy=\"64\" r=\"11\" fill=\"rgb(96,96,96)\"/><circle cx=\"400\" cy=\"172\" r=\"11\" fill=\"rgb(59,59,59)\"/><circle cx=\"116\" cy=\"339\" r=\"9\" fill=\"rgb(107,107,107)\"/><circle cx=\"62\" cy=\"278\" r=\"12\" fill=\"rgb(158,158,158)\"/><circle cx=\"222\" cy=\"349\" r=\"10\" fill=\"rgb(74,74,74)\"/><circle cx=\"280\" cy=\"164\" r=\"7\" fill=\"rgb(198,198,198)\"/><circle cx=\"322\" cy=\"349\" r=\"12\" fill=\"rgb(108,108,108)\"/></svg><svg viewBox='0 0 430 430' id=\"svg\" width=\"172\" height=\"172\"><circle cx=\"215\" cy=\"215\" r=\"205\" fill=\"none\" stroke=\"black\" stroke-width=\"2\" stroke-dasharray=\"3,3\"/> <circle cx=\"178\" cy=\"64\" r=\"11\" fill=\"rgb(255,255,255)\" class=\"agent_1_9\"/><circle cx=\"400\" cy=\"172\" r=\"11\" fill=\"rgb(255,255,255)\" class=\"agent_1_10\"/><circle cx=\"116\" cy=\"339\" r=\"9\" fill=\"rgb(255,0,0)\" class=\"agent_1_12\"/><circle cx=\"62\" cy=\"278\" r=\"12\" fill=\"rgb(255,255,255)\" class=\"agent_1_13\"/><circle cx=\"222\" cy=\"349\" r=\"10\" fill=\"rgb(255,0,0)\" class=\"agent_1_20\"/><circle cx=\"280\" cy=\"164\" r=\"7\" fill=\"rgb(255,255,255)\" class=\"agent_1_42\"/><circle cx=\"322\" cy=\"349\" r=\"12\" fill=\"rgb(255,0,0)\" class=\"agent_1_54\"/></svg><svg viewBox='0 0 430 430' id=\"svg\" width=\"172\" height=\"172\"><circle cx=\"215\" cy=\"215\" r=\"205\" fill=\"none\" stroke=\"black\" stroke-width=\"2\" stroke-dasharray=\"3,3\"/> <circle cx=\"178\" cy=\"64\" r=\"11\" fill=\"rgb(255,255,255)\" class=\"agent_1_9\"/><circle cx=\"400\" cy=\"172\" r=\"11\" fill=\"rgb(255,255,255)\" class=\"agent_1_10\"/><circle cx=\"116\" cy=\"339\" r=\"9\" fill=\"rgb(255,255,255)\" class=\"agent_1_12\"/><circle cx=\"62\" cy=\"278\" r=\"12\" fill=\"rgb(255,255,255)\" class=\"agent_1_13\"/><circle cx=\"222\" cy=\"349\" r=\"10\" fill=\"rgb(255,255,255)\" class=\"agent_1_20\"/><circle cx=\"280\" cy=\"164\" r=\"7\" fill=\"rgb(255,255,255)\" class=\"agent_1_42\"/><circle cx=\"322\" cy=\"349\" r=\"12\" fill=\"rgb(255,0,0)\" class=\"agent_1_54\"/></svg></div>"
      ],
      "text/plain": [
       "<IPython.core.display.HTML object>"
      ]
     },
     "metadata": {},
     "output_type": "display_data"
    },
    {
     "name": "stdout",
     "output_type": "stream",
     "text": [
      "to_mention_pred\n"
     ]
    },
    {
     "data": {
      "text/html": [
       "<div style=\"white-space: nowrap\"><svg viewbox='0 0 430 430' width=\"172\" height=\"172\" id=\"agent_1\"><circle cx=\"215\" cy=\"215\" r=\"205\" fill=\"none\" stroke=\"black\" stroke-width=\"2\" stroke-dasharray=\"3,3\"/><circle cx=\"178\" cy=\"64\" r=\"11\" fill=\"rgb(96,96,96)\"/><circle cx=\"400\" cy=\"172\" r=\"11\" fill=\"rgb(59,59,59)\"/><circle cx=\"116\" cy=\"339\" r=\"9\" fill=\"rgb(107,107,107)\"/><circle cx=\"62\" cy=\"278\" r=\"12\" fill=\"rgb(158,158,158)\"/><circle cx=\"222\" cy=\"349\" r=\"10\" fill=\"rgb(74,74,74)\"/><circle cx=\"280\" cy=\"164\" r=\"7\" fill=\"rgb(198,198,198)\"/><circle cx=\"322\" cy=\"349\" r=\"12\" fill=\"rgb(108,108,108)\"/></svg><svg viewBox='0 0 430 430' id=\"svg\" width=\"172\" height=\"172\"><circle cx=\"215\" cy=\"215\" r=\"205\" fill=\"none\" stroke=\"black\" stroke-width=\"2\" stroke-dasharray=\"3,3\"/> <circle cx=\"178\" cy=\"64\" r=\"11\" fill=\"rgb(255,255,255)\" class=\"agent_1_9\"/><circle cx=\"400\" cy=\"172\" r=\"11\" fill=\"rgb(255,255,255)\" class=\"agent_1_10\"/><circle cx=\"116\" cy=\"339\" r=\"9\" fill=\"rgb(255,255,255)\" class=\"agent_1_12\"/><circle cx=\"62\" cy=\"278\" r=\"12\" fill=\"rgb(255,255,255)\" class=\"agent_1_13\"/><circle cx=\"222\" cy=\"349\" r=\"10\" fill=\"rgb(255,255,255)\" class=\"agent_1_20\"/><circle cx=\"280\" cy=\"164\" r=\"7\" fill=\"rgb(255,255,255)\" class=\"agent_1_42\"/><circle cx=\"322\" cy=\"349\" r=\"12\" fill=\"rgb(255,255,255)\" class=\"agent_1_54\"/></svg><svg viewBox='0 0 430 430' id=\"svg\" width=\"172\" height=\"172\"><circle cx=\"215\" cy=\"215\" r=\"205\" fill=\"none\" stroke=\"black\" stroke-width=\"2\" stroke-dasharray=\"3,3\"/> <circle cx=\"178\" cy=\"64\" r=\"11\" fill=\"rgb(255,255,255)\" class=\"agent_1_9\"/><circle cx=\"400\" cy=\"172\" r=\"11\" fill=\"rgb(255,255,255)\" class=\"agent_1_10\"/><circle cx=\"116\" cy=\"339\" r=\"9\" fill=\"rgb(255,255,255)\" class=\"agent_1_12\"/><circle cx=\"62\" cy=\"278\" r=\"12\" fill=\"rgb(255,255,255)\" class=\"agent_1_13\"/><circle cx=\"222\" cy=\"349\" r=\"10\" fill=\"rgb(255,255,255)\" class=\"agent_1_20\"/><circle cx=\"280\" cy=\"164\" r=\"7\" fill=\"rgb(255,0,0)\" class=\"agent_1_42\"/><circle cx=\"322\" cy=\"349\" r=\"12\" fill=\"rgb(255,255,255)\" class=\"agent_1_54\"/></svg></div>"
      ],
      "text/plain": [
       "<IPython.core.display.HTML object>"
      ]
     },
     "metadata": {},
     "output_type": "display_data"
    },
    {
     "name": "stdout",
     "output_type": "stream",
     "text": [
      "sample 0\ti have a triangle of dots , one is small and black <eos>\n",
      "sample 1\ti have a triangle of dots , the one on the top is the largest and darkest <eos>\n",
      "sample 2\ti have a triangle of dots , one is in the middle of the other <eos>\n",
      "sample 3\ti see a triangle of dots . the one on the left is the largest and darkest <eos>\n",
      "sample 4\ti have a group of three dots that form a triangle , the top one is the darkest <eos>\n",
      "sample 5\ti see a line of 3 dots , the top one is darker and smaller <eos>\n",
      "sample 6\ti have two dots that are almost same size and size . the one on the right is a small darker dot <eos>\n",
      "sample 7\ti have a triangle of dots . one is on the left of the circle <eos>\n",
      "sample 8\ti have three dots that are almost in a vertical line . the one on the bottom is the largest and darkest <eos>\n",
      "sample 9\ti have a triangle of dots , one is dark grey and the other is medium grey <eos>\n",
      "argmax\ti have a triangle of dots , the one on the right is the largest and darkest <eos>\n",
      "human\ti have three darkish dots in a row , the right one is the largest . <eos>\n",
      "refs_true\n"
     ]
    },
    {
     "data": {
      "text/html": [
       "<div style=\"white-space: nowrap\"><svg viewbox='0 0 430 430' width=\"172\" height=\"172\" id=\"agent_1\"><circle cx=\"215\" cy=\"215\" r=\"205\" fill=\"none\" stroke=\"black\" stroke-width=\"2\" stroke-dasharray=\"3,3\"/><circle cx=\"178\" cy=\"64\" r=\"11\" fill=\"rgb(96,96,96)\"/><circle cx=\"400\" cy=\"172\" r=\"11\" fill=\"rgb(59,59,59)\"/><circle cx=\"116\" cy=\"339\" r=\"9\" fill=\"rgb(107,107,107)\"/><circle cx=\"62\" cy=\"278\" r=\"12\" fill=\"rgb(158,158,158)\"/><circle cx=\"222\" cy=\"349\" r=\"10\" fill=\"rgb(74,74,74)\"/><circle cx=\"280\" cy=\"164\" r=\"7\" fill=\"rgb(198,198,198)\"/><circle cx=\"322\" cy=\"349\" r=\"12\" fill=\"rgb(108,108,108)\"/></svg><svg viewBox='0 0 430 430' id=\"svg\" width=\"172\" height=\"172\"><circle cx=\"215\" cy=\"215\" r=\"205\" fill=\"none\" stroke=\"black\" stroke-width=\"2\" stroke-dasharray=\"3,3\"/> <circle cx=\"178\" cy=\"64\" r=\"11\" fill=\"rgb(255,255,255)\" class=\"agent_1_9\"/><circle cx=\"400\" cy=\"172\" r=\"11\" fill=\"rgb(255,255,255)\" class=\"agent_1_10\"/><circle cx=\"116\" cy=\"339\" r=\"9\" fill=\"rgb(255,0,0)\" class=\"agent_1_12\"/><circle cx=\"62\" cy=\"278\" r=\"12\" fill=\"rgb(255,255,255)\" class=\"agent_1_13\"/><circle cx=\"222\" cy=\"349\" r=\"10\" fill=\"rgb(255,0,0)\" class=\"agent_1_20\"/><circle cx=\"280\" cy=\"164\" r=\"7\" fill=\"rgb(255,255,255)\" class=\"agent_1_42\"/><circle cx=\"322\" cy=\"349\" r=\"12\" fill=\"rgb(255,0,0)\" class=\"agent_1_54\"/></svg><svg viewBox='0 0 430 430' id=\"svg\" width=\"172\" height=\"172\"><circle cx=\"215\" cy=\"215\" r=\"205\" fill=\"none\" stroke=\"black\" stroke-width=\"2\" stroke-dasharray=\"3,3\"/> <circle cx=\"178\" cy=\"64\" r=\"11\" fill=\"rgb(255,255,255)\" class=\"agent_1_9\"/><circle cx=\"400\" cy=\"172\" r=\"11\" fill=\"rgb(255,255,255)\" class=\"agent_1_10\"/><circle cx=\"116\" cy=\"339\" r=\"9\" fill=\"rgb(255,255,255)\" class=\"agent_1_12\"/><circle cx=\"62\" cy=\"278\" r=\"12\" fill=\"rgb(255,255,255)\" class=\"agent_1_13\"/><circle cx=\"222\" cy=\"349\" r=\"10\" fill=\"rgb(255,255,255)\" class=\"agent_1_20\"/><circle cx=\"280\" cy=\"164\" r=\"7\" fill=\"rgb(255,255,255)\" class=\"agent_1_42\"/><circle cx=\"322\" cy=\"349\" r=\"12\" fill=\"rgb(255,0,0)\" class=\"agent_1_54\"/></svg></div>"
      ],
      "text/plain": [
       "<IPython.core.display.HTML object>"
      ]
     },
     "metadata": {},
     "output_type": "display_data"
    },
    {
     "name": "stdout",
     "output_type": "stream",
     "text": [
      "refs_pred\n"
     ]
    },
    {
     "data": {
      "text/html": [
       "<div style=\"white-space: nowrap\"><svg viewbox='0 0 430 430' width=\"172\" height=\"172\" id=\"agent_1\"><circle cx=\"215\" cy=\"215\" r=\"205\" fill=\"none\" stroke=\"black\" stroke-width=\"2\" stroke-dasharray=\"3,3\"/><circle cx=\"178\" cy=\"64\" r=\"11\" fill=\"rgb(96,96,96)\"/><circle cx=\"400\" cy=\"172\" r=\"11\" fill=\"rgb(59,59,59)\"/><circle cx=\"116\" cy=\"339\" r=\"9\" fill=\"rgb(107,107,107)\"/><circle cx=\"62\" cy=\"278\" r=\"12\" fill=\"rgb(158,158,158)\"/><circle cx=\"222\" cy=\"349\" r=\"10\" fill=\"rgb(74,74,74)\"/><circle cx=\"280\" cy=\"164\" r=\"7\" fill=\"rgb(198,198,198)\"/><circle cx=\"322\" cy=\"349\" r=\"12\" fill=\"rgb(108,108,108)\"/></svg><svg viewBox='0 0 430 430' id=\"svg\" width=\"172\" height=\"172\"><circle cx=\"215\" cy=\"215\" r=\"205\" fill=\"none\" stroke=\"black\" stroke-width=\"2\" stroke-dasharray=\"3,3\"/> <circle cx=\"178\" cy=\"64\" r=\"11\" fill=\"rgb(255,255,255)\" class=\"agent_1_9\"/><circle cx=\"400\" cy=\"172\" r=\"11\" fill=\"rgb(255,255,255)\" class=\"agent_1_10\"/><circle cx=\"116\" cy=\"339\" r=\"9\" fill=\"rgb(255,0,0)\" class=\"agent_1_12\"/><circle cx=\"62\" cy=\"278\" r=\"12\" fill=\"rgb(255,255,255)\" class=\"agent_1_13\"/><circle cx=\"222\" cy=\"349\" r=\"10\" fill=\"rgb(255,0,0)\" class=\"agent_1_20\"/><circle cx=\"280\" cy=\"164\" r=\"7\" fill=\"rgb(255,255,255)\" class=\"agent_1_42\"/><circle cx=\"322\" cy=\"349\" r=\"12\" fill=\"rgb(255,0,0)\" class=\"agent_1_54\"/></svg><svg viewBox='0 0 430 430' id=\"svg\" width=\"172\" height=\"172\"><circle cx=\"215\" cy=\"215\" r=\"205\" fill=\"none\" stroke=\"black\" stroke-width=\"2\" stroke-dasharray=\"3,3\"/> <circle cx=\"178\" cy=\"64\" r=\"11\" fill=\"rgb(255,255,255)\" class=\"agent_1_9\"/><circle cx=\"400\" cy=\"172\" r=\"11\" fill=\"rgb(255,255,255)\" class=\"agent_1_10\"/><circle cx=\"116\" cy=\"339\" r=\"9\" fill=\"rgb(255,255,255)\" class=\"agent_1_12\"/><circle cx=\"62\" cy=\"278\" r=\"12\" fill=\"rgb(255,255,255)\" class=\"agent_1_13\"/><circle cx=\"222\" cy=\"349\" r=\"10\" fill=\"rgb(255,255,255)\" class=\"agent_1_20\"/><circle cx=\"280\" cy=\"164\" r=\"7\" fill=\"rgb(255,255,255)\" class=\"agent_1_42\"/><circle cx=\"322\" cy=\"349\" r=\"12\" fill=\"rgb(255,0,0)\" class=\"agent_1_54\"/></svg></div>"
      ],
      "text/plain": [
       "<IPython.core.display.HTML object>"
      ]
     },
     "metadata": {},
     "output_type": "display_data"
    },
    {
     "name": "stdout",
     "output_type": "stream",
     "text": [
      "\n",
      "----------------------------------------\n",
      "\n",
      "human\tTHEM: ok <eos>\n",
      "\n",
      "----------------------------------------\n",
      "\n",
      "to_mention_true\n"
     ]
    },
    {
     "data": {
      "text/html": [
       "<div style=\"white-space: nowrap\"><svg viewbox='0 0 430 430' width=\"172\" height=\"172\" id=\"agent_1\"><circle cx=\"215\" cy=\"215\" r=\"205\" fill=\"none\" stroke=\"black\" stroke-width=\"2\" stroke-dasharray=\"3,3\"/><circle cx=\"178\" cy=\"64\" r=\"11\" fill=\"rgb(96,96,96)\"/><circle cx=\"400\" cy=\"172\" r=\"11\" fill=\"rgb(59,59,59)\"/><circle cx=\"116\" cy=\"339\" r=\"9\" fill=\"rgb(107,107,107)\"/><circle cx=\"62\" cy=\"278\" r=\"12\" fill=\"rgb(158,158,158)\"/><circle cx=\"222\" cy=\"349\" r=\"10\" fill=\"rgb(74,74,74)\"/><circle cx=\"280\" cy=\"164\" r=\"7\" fill=\"rgb(198,198,198)\"/><circle cx=\"322\" cy=\"349\" r=\"12\" fill=\"rgb(108,108,108)\"/></svg><svg viewBox='0 0 430 430' id=\"svg\" width=\"172\" height=\"172\"><circle cx=\"215\" cy=\"215\" r=\"205\" fill=\"none\" stroke=\"black\" stroke-width=\"2\" stroke-dasharray=\"3,3\"/> <circle cx=\"178\" cy=\"64\" r=\"11\" fill=\"rgb(255,255,255)\" class=\"agent_1_9\"/><circle cx=\"400\" cy=\"172\" r=\"11\" fill=\"rgb(255,255,255)\" class=\"agent_1_10\"/><circle cx=\"116\" cy=\"339\" r=\"9\" fill=\"rgb(255,255,255)\" class=\"agent_1_12\"/><circle cx=\"62\" cy=\"278\" r=\"12\" fill=\"rgb(255,255,255)\" class=\"agent_1_13\"/><circle cx=\"222\" cy=\"349\" r=\"10\" fill=\"rgb(255,255,255)\" class=\"agent_1_20\"/><circle cx=\"280\" cy=\"164\" r=\"7\" fill=\"rgb(255,255,255)\" class=\"agent_1_42\"/><circle cx=\"322\" cy=\"349\" r=\"12\" fill=\"rgb(255,0,0)\" class=\"agent_1_54\"/></svg></div>"
      ],
      "text/plain": [
       "<IPython.core.display.HTML object>"
      ]
     },
     "metadata": {},
     "output_type": "display_data"
    },
    {
     "name": "stdout",
     "output_type": "stream",
     "text": [
      "to_mention_pred\n"
     ]
    },
    {
     "data": {
      "text/html": [
       "<div style=\"white-space: nowrap\"><svg viewbox='0 0 430 430' width=\"172\" height=\"172\" id=\"agent_1\"><circle cx=\"215\" cy=\"215\" r=\"205\" fill=\"none\" stroke=\"black\" stroke-width=\"2\" stroke-dasharray=\"3,3\"/><circle cx=\"178\" cy=\"64\" r=\"11\" fill=\"rgb(96,96,96)\"/><circle cx=\"400\" cy=\"172\" r=\"11\" fill=\"rgb(59,59,59)\"/><circle cx=\"116\" cy=\"339\" r=\"9\" fill=\"rgb(107,107,107)\"/><circle cx=\"62\" cy=\"278\" r=\"12\" fill=\"rgb(158,158,158)\"/><circle cx=\"222\" cy=\"349\" r=\"10\" fill=\"rgb(74,74,74)\"/><circle cx=\"280\" cy=\"164\" r=\"7\" fill=\"rgb(198,198,198)\"/><circle cx=\"322\" cy=\"349\" r=\"12\" fill=\"rgb(108,108,108)\"/></svg><svg viewBox='0 0 430 430' id=\"svg\" width=\"172\" height=\"172\"><circle cx=\"215\" cy=\"215\" r=\"205\" fill=\"none\" stroke=\"black\" stroke-width=\"2\" stroke-dasharray=\"3,3\"/> <circle cx=\"178\" cy=\"64\" r=\"11\" fill=\"rgb(255,255,255)\" class=\"agent_1_9\"/><circle cx=\"400\" cy=\"172\" r=\"11\" fill=\"rgb(255,255,255)\" class=\"agent_1_10\"/><circle cx=\"116\" cy=\"339\" r=\"9\" fill=\"rgb(255,255,255)\" class=\"agent_1_12\"/><circle cx=\"62\" cy=\"278\" r=\"12\" fill=\"rgb(255,255,255)\" class=\"agent_1_13\"/><circle cx=\"222\" cy=\"349\" r=\"10\" fill=\"rgb(255,255,255)\" class=\"agent_1_20\"/><circle cx=\"280\" cy=\"164\" r=\"7\" fill=\"rgb(255,255,255)\" class=\"agent_1_42\"/><circle cx=\"322\" cy=\"349\" r=\"12\" fill=\"rgb(255,0,0)\" class=\"agent_1_54\"/></svg></div>"
      ],
      "text/plain": [
       "<IPython.core.display.HTML object>"
      ]
     },
     "metadata": {},
     "output_type": "display_data"
    },
    {
     "name": "stdout",
     "output_type": "stream",
     "text": [
      "sample 0\tlets pick the larger one <selection>\n",
      "sample 1\tlet 's pick the larger one . <selection>\n",
      "sample 2\tlet 's pick the larger one . <eos>\n",
      "sample 3\tlet 's pick the large dark grey one . <selection>\n",
      "sample 4\tlet 's choose the large one on the right . <selection>\n",
      "sample 5\tlet 's pick the larger one on the right <selection>\n",
      "sample 6\tlet 's pick the large one <selection>\n",
      "sample 7\tlet 's pick the larger one <selection>\n",
      "sample 8\tlet 's pick the larger one . <eos>\n",
      "sample 9\tlet 's pick the larger one on the right . <selection>\n",
      "argmax\tlet 's pick the larger one . <selection>\n",
      "human\tlet 's click on the largest one <eos>\n",
      "refs_true\n"
     ]
    },
    {
     "data": {
      "text/html": [
       "<div style=\"white-space: nowrap\"><svg viewbox='0 0 430 430' width=\"172\" height=\"172\" id=\"agent_1\"><circle cx=\"215\" cy=\"215\" r=\"205\" fill=\"none\" stroke=\"black\" stroke-width=\"2\" stroke-dasharray=\"3,3\"/><circle cx=\"178\" cy=\"64\" r=\"11\" fill=\"rgb(96,96,96)\"/><circle cx=\"400\" cy=\"172\" r=\"11\" fill=\"rgb(59,59,59)\"/><circle cx=\"116\" cy=\"339\" r=\"9\" fill=\"rgb(107,107,107)\"/><circle cx=\"62\" cy=\"278\" r=\"12\" fill=\"rgb(158,158,158)\"/><circle cx=\"222\" cy=\"349\" r=\"10\" fill=\"rgb(74,74,74)\"/><circle cx=\"280\" cy=\"164\" r=\"7\" fill=\"rgb(198,198,198)\"/><circle cx=\"322\" cy=\"349\" r=\"12\" fill=\"rgb(108,108,108)\"/></svg><svg viewBox='0 0 430 430' id=\"svg\" width=\"172\" height=\"172\"><circle cx=\"215\" cy=\"215\" r=\"205\" fill=\"none\" stroke=\"black\" stroke-width=\"2\" stroke-dasharray=\"3,3\"/> <circle cx=\"178\" cy=\"64\" r=\"11\" fill=\"rgb(255,255,255)\" class=\"agent_1_9\"/><circle cx=\"400\" cy=\"172\" r=\"11\" fill=\"rgb(255,255,255)\" class=\"agent_1_10\"/><circle cx=\"116\" cy=\"339\" r=\"9\" fill=\"rgb(255,255,255)\" class=\"agent_1_12\"/><circle cx=\"62\" cy=\"278\" r=\"12\" fill=\"rgb(255,255,255)\" class=\"agent_1_13\"/><circle cx=\"222\" cy=\"349\" r=\"10\" fill=\"rgb(255,255,255)\" class=\"agent_1_20\"/><circle cx=\"280\" cy=\"164\" r=\"7\" fill=\"rgb(255,255,255)\" class=\"agent_1_42\"/><circle cx=\"322\" cy=\"349\" r=\"12\" fill=\"rgb(255,0,0)\" class=\"agent_1_54\"/></svg></div>"
      ],
      "text/plain": [
       "<IPython.core.display.HTML object>"
      ]
     },
     "metadata": {},
     "output_type": "display_data"
    },
    {
     "name": "stdout",
     "output_type": "stream",
     "text": [
      "refs_pred\n"
     ]
    },
    {
     "data": {
      "text/html": [
       "<div style=\"white-space: nowrap\"><svg viewbox='0 0 430 430' width=\"172\" height=\"172\" id=\"agent_1\"><circle cx=\"215\" cy=\"215\" r=\"205\" fill=\"none\" stroke=\"black\" stroke-width=\"2\" stroke-dasharray=\"3,3\"/><circle cx=\"178\" cy=\"64\" r=\"11\" fill=\"rgb(96,96,96)\"/><circle cx=\"400\" cy=\"172\" r=\"11\" fill=\"rgb(59,59,59)\"/><circle cx=\"116\" cy=\"339\" r=\"9\" fill=\"rgb(107,107,107)\"/><circle cx=\"62\" cy=\"278\" r=\"12\" fill=\"rgb(158,158,158)\"/><circle cx=\"222\" cy=\"349\" r=\"10\" fill=\"rgb(74,74,74)\"/><circle cx=\"280\" cy=\"164\" r=\"7\" fill=\"rgb(198,198,198)\"/><circle cx=\"322\" cy=\"349\" r=\"12\" fill=\"rgb(108,108,108)\"/></svg><svg viewBox='0 0 430 430' id=\"svg\" width=\"172\" height=\"172\"><circle cx=\"215\" cy=\"215\" r=\"205\" fill=\"none\" stroke=\"black\" stroke-width=\"2\" stroke-dasharray=\"3,3\"/> <circle cx=\"178\" cy=\"64\" r=\"11\" fill=\"rgb(255,255,255)\" class=\"agent_1_9\"/><circle cx=\"400\" cy=\"172\" r=\"11\" fill=\"rgb(255,255,255)\" class=\"agent_1_10\"/><circle cx=\"116\" cy=\"339\" r=\"9\" fill=\"rgb(255,255,255)\" class=\"agent_1_12\"/><circle cx=\"62\" cy=\"278\" r=\"12\" fill=\"rgb(255,255,255)\" class=\"agent_1_13\"/><circle cx=\"222\" cy=\"349\" r=\"10\" fill=\"rgb(255,255,255)\" class=\"agent_1_20\"/><circle cx=\"280\" cy=\"164\" r=\"7\" fill=\"rgb(255,255,255)\" class=\"agent_1_42\"/><circle cx=\"322\" cy=\"349\" r=\"12\" fill=\"rgb(255,0,0)\" class=\"agent_1_54\"/></svg></div>"
      ],
      "text/plain": [
       "<IPython.core.display.HTML object>"
      ]
     },
     "metadata": {},
     "output_type": "display_data"
    },
    {
     "name": "stdout",
     "output_type": "stream",
     "text": [
      "\n",
      "----------------------------------------\n",
      "\n",
      "human\tTHEM: ok <selection>\n",
      "\n",
      "----------------------------------------\n",
      "\n"
     ]
    }
   ],
   "source": [
    "force_contexts_and_mentions(2)"
   ]
  },
  {
   "cell_type": "code",
   "execution_count": 89,
   "metadata": {
    "scrolled": false
   },
   "outputs": [
    {
     "name": "stdout",
     "output_type": "stream",
     "text": [
      "to_mention_true\n"
     ]
    },
    {
     "data": {
      "text/html": [
       "<div style=\"white-space: nowrap\"><svg viewbox='0 0 430 430' width=\"172\" height=\"172\" id=\"agent_0\"><circle cx=\"215\" cy=\"215\" r=\"205\" fill=\"none\" stroke=\"black\" stroke-width=\"2\" stroke-dasharray=\"3,3\"/><circle cx=\"64\" cy=\"246\" r=\"10\" fill=\"rgb(76,76,76)\"/><circle cx=\"350\" cy=\"154\" r=\"8\" fill=\"rgb(77,77,77)\"/><circle cx=\"186\" cy=\"20\" r=\"8\" fill=\"rgb(189,189,189)\"/><circle cx=\"223\" cy=\"250\" r=\"10\" fill=\"rgb(122,122,122)\"/><circle cx=\"171\" cy=\"141\" r=\"8\" fill=\"rgb(118,118,118)\"/><circle cx=\"225\" cy=\"17\" r=\"10\" fill=\"rgb(129,129,129)\"/><circle cx=\"216\" cy=\"302\" r=\"10\" fill=\"rgb(115,115,115)\"/></svg><svg viewBox='0 0 430 430' id=\"svg\" width=\"172\" height=\"172\"><circle cx=\"215\" cy=\"215\" r=\"205\" fill=\"none\" stroke=\"black\" stroke-width=\"2\" stroke-dasharray=\"3,3\"/> <circle cx=\"64\" cy=\"246\" r=\"10\" fill=\"rgb(255,255,255)\" class=\"agent_0_14\"/><circle cx=\"350\" cy=\"154\" r=\"8\" fill=\"rgb(255,0,0)\" class=\"agent_0_21\"/><circle cx=\"186\" cy=\"20\" r=\"8\" fill=\"rgb(255,255,255)\" class=\"agent_0_34\"/><circle cx=\"223\" cy=\"250\" r=\"10\" fill=\"rgb(255,255,255)\" class=\"agent_0_43\"/><circle cx=\"171\" cy=\"141\" r=\"8\" fill=\"rgb(255,255,255)\" class=\"agent_0_48\"/><circle cx=\"225\" cy=\"17\" r=\"10\" fill=\"rgb(255,255,255)\" class=\"agent_0_55\"/><circle cx=\"216\" cy=\"302\" r=\"10\" fill=\"rgb(255,255,255)\" class=\"agent_0_72\"/></svg><svg viewBox='0 0 430 430' id=\"svg\" width=\"172\" height=\"172\"><circle cx=\"215\" cy=\"215\" r=\"205\" fill=\"none\" stroke=\"black\" stroke-width=\"2\" stroke-dasharray=\"3,3\"/> <circle cx=\"64\" cy=\"246\" r=\"10\" fill=\"rgb(255,0,0)\" class=\"agent_0_14\"/><circle cx=\"350\" cy=\"154\" r=\"8\" fill=\"rgb(255,255,255)\" class=\"agent_0_21\"/><circle cx=\"186\" cy=\"20\" r=\"8\" fill=\"rgb(255,255,255)\" class=\"agent_0_34\"/><circle cx=\"223\" cy=\"250\" r=\"10\" fill=\"rgb(255,255,255)\" class=\"agent_0_43\"/><circle cx=\"171\" cy=\"141\" r=\"8\" fill=\"rgb(255,255,255)\" class=\"agent_0_48\"/><circle cx=\"225\" cy=\"17\" r=\"10\" fill=\"rgb(255,255,255)\" class=\"agent_0_55\"/><circle cx=\"216\" cy=\"302\" r=\"10\" fill=\"rgb(255,255,255)\" class=\"agent_0_72\"/></svg></div>"
      ],
      "text/plain": [
       "<IPython.core.display.HTML object>"
      ]
     },
     "metadata": {},
     "output_type": "display_data"
    },
    {
     "name": "stdout",
     "output_type": "stream",
     "text": [
      "to_mention_pred\n"
     ]
    },
    {
     "data": {
      "text/html": [
       "<div style=\"white-space: nowrap\"><svg viewbox='0 0 430 430' width=\"172\" height=\"172\" id=\"agent_0\"><circle cx=\"215\" cy=\"215\" r=\"205\" fill=\"none\" stroke=\"black\" stroke-width=\"2\" stroke-dasharray=\"3,3\"/><circle cx=\"64\" cy=\"246\" r=\"10\" fill=\"rgb(76,76,76)\"/><circle cx=\"350\" cy=\"154\" r=\"8\" fill=\"rgb(77,77,77)\"/><circle cx=\"186\" cy=\"20\" r=\"8\" fill=\"rgb(189,189,189)\"/><circle cx=\"223\" cy=\"250\" r=\"10\" fill=\"rgb(122,122,122)\"/><circle cx=\"171\" cy=\"141\" r=\"8\" fill=\"rgb(118,118,118)\"/><circle cx=\"225\" cy=\"17\" r=\"10\" fill=\"rgb(129,129,129)\"/><circle cx=\"216\" cy=\"302\" r=\"10\" fill=\"rgb(115,115,115)\"/></svg><svg viewBox='0 0 430 430' id=\"svg\" width=\"172\" height=\"172\"><circle cx=\"215\" cy=\"215\" r=\"205\" fill=\"none\" stroke=\"black\" stroke-width=\"2\" stroke-dasharray=\"3,3\"/> <circle cx=\"64\" cy=\"246\" r=\"10\" fill=\"rgb(255,255,255)\" class=\"agent_0_14\"/><circle cx=\"350\" cy=\"154\" r=\"8\" fill=\"rgb(255,255,255)\" class=\"agent_0_21\"/><circle cx=\"186\" cy=\"20\" r=\"8\" fill=\"rgb(255,255,255)\" class=\"agent_0_34\"/><circle cx=\"223\" cy=\"250\" r=\"10\" fill=\"rgb(255,255,255)\" class=\"agent_0_43\"/><circle cx=\"171\" cy=\"141\" r=\"8\" fill=\"rgb(255,255,255)\" class=\"agent_0_48\"/><circle cx=\"225\" cy=\"17\" r=\"10\" fill=\"rgb(255,255,255)\" class=\"agent_0_55\"/><circle cx=\"216\" cy=\"302\" r=\"10\" fill=\"rgb(255,255,255)\" class=\"agent_0_72\"/></svg><svg viewBox='0 0 430 430' id=\"svg\" width=\"172\" height=\"172\"><circle cx=\"215\" cy=\"215\" r=\"205\" fill=\"none\" stroke=\"black\" stroke-width=\"2\" stroke-dasharray=\"3,3\"/> <circle cx=\"64\" cy=\"246\" r=\"10\" fill=\"rgb(255,0,0)\" class=\"agent_0_14\"/><circle cx=\"350\" cy=\"154\" r=\"8\" fill=\"rgb(255,0,0)\" class=\"agent_0_21\"/><circle cx=\"186\" cy=\"20\" r=\"8\" fill=\"rgb(255,255,255)\" class=\"agent_0_34\"/><circle cx=\"223\" cy=\"250\" r=\"10\" fill=\"rgb(255,0,0)\" class=\"agent_0_43\"/><circle cx=\"171\" cy=\"141\" r=\"8\" fill=\"rgb(255,0,0)\" class=\"agent_0_48\"/><circle cx=\"225\" cy=\"17\" r=\"10\" fill=\"rgb(255,0,0)\" class=\"agent_0_55\"/><circle cx=\"216\" cy=\"302\" r=\"10\" fill=\"rgb(255,0,0)\" class=\"agent_0_72\"/></svg></div>"
      ],
      "text/plain": [
       "<IPython.core.display.HTML object>"
      ]
     },
     "metadata": {},
     "output_type": "display_data"
    },
    {
     "name": "stdout",
     "output_type": "stream",
     "text": [
      "sample 0\ti have a small black dot , with a slightly larger dark gray dot down and to the right <eos>\n",
      "sample 1\ti have one small black dot , with a slightly larger black dot to the right and slightly above <eos>\n",
      "sample 2\ti have a small black dot , with a slightly larger black dot to the left <eos>\n",
      "sample 3\ti have a small black dot , and to the right of a larger black dot <eos>\n",
      "sample 4\ti have a small black dot , and to the right of a larger black dot <eos>\n",
      "sample 5\ti have a small black dot , with a larger black dot to the right <eos>\n",
      "sample 6\ti have a small black dot , with a larger black dot to the left <eos>\n",
      "sample 7\ti have a small black dot to the right of a larger black dot <eos>\n",
      "sample 8\ti have a tiny black dot to the right of a larger black dot <eos>\n",
      "sample 9\ti have a small black dot to the left of a larger dark dot <eos>\n",
      "argmax\ti have a small black dot to the left of a larger black dot <eos>\n",
      "human\tsmall black dot alone on the right ... larger black dot alone on the left <eos>\n",
      "refs_true\n"
     ]
    },
    {
     "data": {
      "text/html": [
       "<div style=\"white-space: nowrap\"><svg viewbox='0 0 430 430' width=\"172\" height=\"172\" id=\"agent_0\"><circle cx=\"215\" cy=\"215\" r=\"205\" fill=\"none\" stroke=\"black\" stroke-width=\"2\" stroke-dasharray=\"3,3\"/><circle cx=\"64\" cy=\"246\" r=\"10\" fill=\"rgb(76,76,76)\"/><circle cx=\"350\" cy=\"154\" r=\"8\" fill=\"rgb(77,77,77)\"/><circle cx=\"186\" cy=\"20\" r=\"8\" fill=\"rgb(189,189,189)\"/><circle cx=\"223\" cy=\"250\" r=\"10\" fill=\"rgb(122,122,122)\"/><circle cx=\"171\" cy=\"141\" r=\"8\" fill=\"rgb(118,118,118)\"/><circle cx=\"225\" cy=\"17\" r=\"10\" fill=\"rgb(129,129,129)\"/><circle cx=\"216\" cy=\"302\" r=\"10\" fill=\"rgb(115,115,115)\"/></svg><svg viewBox='0 0 430 430' id=\"svg\" width=\"172\" height=\"172\"><circle cx=\"215\" cy=\"215\" r=\"205\" fill=\"none\" stroke=\"black\" stroke-width=\"2\" stroke-dasharray=\"3,3\"/> <circle cx=\"64\" cy=\"246\" r=\"10\" fill=\"rgb(255,255,255)\" class=\"agent_0_14\"/><circle cx=\"350\" cy=\"154\" r=\"8\" fill=\"rgb(255,0,0)\" class=\"agent_0_21\"/><circle cx=\"186\" cy=\"20\" r=\"8\" fill=\"rgb(255,255,255)\" class=\"agent_0_34\"/><circle cx=\"223\" cy=\"250\" r=\"10\" fill=\"rgb(255,255,255)\" class=\"agent_0_43\"/><circle cx=\"171\" cy=\"141\" r=\"8\" fill=\"rgb(255,255,255)\" class=\"agent_0_48\"/><circle cx=\"225\" cy=\"17\" r=\"10\" fill=\"rgb(255,255,255)\" class=\"agent_0_55\"/><circle cx=\"216\" cy=\"302\" r=\"10\" fill=\"rgb(255,255,255)\" class=\"agent_0_72\"/></svg><svg viewBox='0 0 430 430' id=\"svg\" width=\"172\" height=\"172\"><circle cx=\"215\" cy=\"215\" r=\"205\" fill=\"none\" stroke=\"black\" stroke-width=\"2\" stroke-dasharray=\"3,3\"/> <circle cx=\"64\" cy=\"246\" r=\"10\" fill=\"rgb(255,0,0)\" class=\"agent_0_14\"/><circle cx=\"350\" cy=\"154\" r=\"8\" fill=\"rgb(255,255,255)\" class=\"agent_0_21\"/><circle cx=\"186\" cy=\"20\" r=\"8\" fill=\"rgb(255,255,255)\" class=\"agent_0_34\"/><circle cx=\"223\" cy=\"250\" r=\"10\" fill=\"rgb(255,255,255)\" class=\"agent_0_43\"/><circle cx=\"171\" cy=\"141\" r=\"8\" fill=\"rgb(255,255,255)\" class=\"agent_0_48\"/><circle cx=\"225\" cy=\"17\" r=\"10\" fill=\"rgb(255,255,255)\" class=\"agent_0_55\"/><circle cx=\"216\" cy=\"302\" r=\"10\" fill=\"rgb(255,255,255)\" class=\"agent_0_72\"/></svg></div>"
      ],
      "text/plain": [
       "<IPython.core.display.HTML object>"
      ]
     },
     "metadata": {},
     "output_type": "display_data"
    },
    {
     "name": "stdout",
     "output_type": "stream",
     "text": [
      "refs_pred\n"
     ]
    },
    {
     "data": {
      "text/html": [
       "<div style=\"white-space: nowrap\"><svg viewbox='0 0 430 430' width=\"172\" height=\"172\" id=\"agent_0\"><circle cx=\"215\" cy=\"215\" r=\"205\" fill=\"none\" stroke=\"black\" stroke-width=\"2\" stroke-dasharray=\"3,3\"/><circle cx=\"64\" cy=\"246\" r=\"10\" fill=\"rgb(76,76,76)\"/><circle cx=\"350\" cy=\"154\" r=\"8\" fill=\"rgb(77,77,77)\"/><circle cx=\"186\" cy=\"20\" r=\"8\" fill=\"rgb(189,189,189)\"/><circle cx=\"223\" cy=\"250\" r=\"10\" fill=\"rgb(122,122,122)\"/><circle cx=\"171\" cy=\"141\" r=\"8\" fill=\"rgb(118,118,118)\"/><circle cx=\"225\" cy=\"17\" r=\"10\" fill=\"rgb(129,129,129)\"/><circle cx=\"216\" cy=\"302\" r=\"10\" fill=\"rgb(115,115,115)\"/></svg><svg viewBox='0 0 430 430' id=\"svg\" width=\"172\" height=\"172\"><circle cx=\"215\" cy=\"215\" r=\"205\" fill=\"none\" stroke=\"black\" stroke-width=\"2\" stroke-dasharray=\"3,3\"/> <circle cx=\"64\" cy=\"246\" r=\"10\" fill=\"rgb(255,255,255)\" class=\"agent_0_14\"/><circle cx=\"350\" cy=\"154\" r=\"8\" fill=\"rgb(255,0,0)\" class=\"agent_0_21\"/><circle cx=\"186\" cy=\"20\" r=\"8\" fill=\"rgb(255,255,255)\" class=\"agent_0_34\"/><circle cx=\"223\" cy=\"250\" r=\"10\" fill=\"rgb(255,255,255)\" class=\"agent_0_43\"/><circle cx=\"171\" cy=\"141\" r=\"8\" fill=\"rgb(255,255,255)\" class=\"agent_0_48\"/><circle cx=\"225\" cy=\"17\" r=\"10\" fill=\"rgb(255,255,255)\" class=\"agent_0_55\"/><circle cx=\"216\" cy=\"302\" r=\"10\" fill=\"rgb(255,255,255)\" class=\"agent_0_72\"/></svg><svg viewBox='0 0 430 430' id=\"svg\" width=\"172\" height=\"172\"><circle cx=\"215\" cy=\"215\" r=\"205\" fill=\"none\" stroke=\"black\" stroke-width=\"2\" stroke-dasharray=\"3,3\"/> <circle cx=\"64\" cy=\"246\" r=\"10\" fill=\"rgb(255,0,0)\" class=\"agent_0_14\"/><circle cx=\"350\" cy=\"154\" r=\"8\" fill=\"rgb(255,255,255)\" class=\"agent_0_21\"/><circle cx=\"186\" cy=\"20\" r=\"8\" fill=\"rgb(255,255,255)\" class=\"agent_0_34\"/><circle cx=\"223\" cy=\"250\" r=\"10\" fill=\"rgb(255,255,255)\" class=\"agent_0_43\"/><circle cx=\"171\" cy=\"141\" r=\"8\" fill=\"rgb(255,255,255)\" class=\"agent_0_48\"/><circle cx=\"225\" cy=\"17\" r=\"10\" fill=\"rgb(255,255,255)\" class=\"agent_0_55\"/><circle cx=\"216\" cy=\"302\" r=\"10\" fill=\"rgb(255,255,255)\" class=\"agent_0_72\"/></svg></div>"
      ],
      "text/plain": [
       "<IPython.core.display.HTML object>"
      ]
     },
     "metadata": {},
     "output_type": "display_data"
    },
    {
     "name": "stdout",
     "output_type": "stream",
     "text": [
      "\n",
      "----------------------------------------\n",
      "\n",
      "human\tTHEM: hmm i do n't see that . i see three dots almost in a horizontal line with <unk> one largest and darker , middle small and very light grey , and medium size medium color grey on right <eos>\n",
      "partner_refs_true\n"
     ]
    },
    {
     "data": {
      "text/html": [
       "<div style=\"white-space: nowrap\"><svg viewbox='0 0 430 430' width=\"172\" height=\"172\" id=\"agent_0\"><circle cx=\"215\" cy=\"215\" r=\"205\" fill=\"none\" stroke=\"black\" stroke-width=\"2\" stroke-dasharray=\"3,3\"/><circle cx=\"64\" cy=\"246\" r=\"10\" fill=\"rgb(76,76,76)\"/><circle cx=\"350\" cy=\"154\" r=\"8\" fill=\"rgb(77,77,77)\"/><circle cx=\"186\" cy=\"20\" r=\"8\" fill=\"rgb(189,189,189)\"/><circle cx=\"223\" cy=\"250\" r=\"10\" fill=\"rgb(122,122,122)\"/><circle cx=\"171\" cy=\"141\" r=\"8\" fill=\"rgb(118,118,118)\"/><circle cx=\"225\" cy=\"17\" r=\"10\" fill=\"rgb(129,129,129)\"/><circle cx=\"216\" cy=\"302\" r=\"10\" fill=\"rgb(115,115,115)\"/></svg><svg viewBox='0 0 430 430' id=\"svg\" width=\"172\" height=\"172\"><circle cx=\"215\" cy=\"215\" r=\"205\" fill=\"none\" stroke=\"black\" stroke-width=\"2\" stroke-dasharray=\"3,3\"/> <circle cx=\"64\" cy=\"246\" r=\"10\" fill=\"rgb(255,255,255)\" class=\"agent_0_14\"/><circle cx=\"350\" cy=\"154\" r=\"8\" fill=\"rgb(255,255,255)\" class=\"agent_0_21\"/><circle cx=\"186\" cy=\"20\" r=\"8\" fill=\"rgb(255,255,255)\" class=\"agent_0_34\"/><circle cx=\"223\" cy=\"250\" r=\"10\" fill=\"rgb(255,255,255)\" class=\"agent_0_43\"/><circle cx=\"171\" cy=\"141\" r=\"8\" fill=\"rgb(255,255,255)\" class=\"agent_0_48\"/><circle cx=\"225\" cy=\"17\" r=\"10\" fill=\"rgb(255,255,255)\" class=\"agent_0_55\"/><circle cx=\"216\" cy=\"302\" r=\"10\" fill=\"rgb(255,255,255)\" class=\"agent_0_72\"/></svg><svg viewBox='0 0 430 430' id=\"svg\" width=\"172\" height=\"172\"><circle cx=\"215\" cy=\"215\" r=\"205\" fill=\"none\" stroke=\"black\" stroke-width=\"2\" stroke-dasharray=\"3,3\"/> <circle cx=\"64\" cy=\"246\" r=\"10\" fill=\"rgb(255,255,255)\" class=\"agent_0_14\"/><circle cx=\"350\" cy=\"154\" r=\"8\" fill=\"rgb(255,255,255)\" class=\"agent_0_21\"/><circle cx=\"186\" cy=\"20\" r=\"8\" fill=\"rgb(255,0,0)\" class=\"agent_0_34\"/><circle cx=\"223\" cy=\"250\" r=\"10\" fill=\"rgb(255,255,255)\" class=\"agent_0_43\"/><circle cx=\"171\" cy=\"141\" r=\"8\" fill=\"rgb(255,255,255)\" class=\"agent_0_48\"/><circle cx=\"225\" cy=\"17\" r=\"10\" fill=\"rgb(255,0,0)\" class=\"agent_0_55\"/><circle cx=\"216\" cy=\"302\" r=\"10\" fill=\"rgb(255,255,255)\" class=\"agent_0_72\"/></svg><svg viewBox='0 0 430 430' id=\"svg\" width=\"172\" height=\"172\"><circle cx=\"215\" cy=\"215\" r=\"205\" fill=\"none\" stroke=\"black\" stroke-width=\"2\" stroke-dasharray=\"3,3\"/> <circle cx=\"64\" cy=\"246\" r=\"10\" fill=\"rgb(255,255,255)\" class=\"agent_0_14\"/><circle cx=\"350\" cy=\"154\" r=\"8\" fill=\"rgb(255,255,255)\" class=\"agent_0_21\"/><circle cx=\"186\" cy=\"20\" r=\"8\" fill=\"rgb(255,255,255)\" class=\"agent_0_34\"/><circle cx=\"223\" cy=\"250\" r=\"10\" fill=\"rgb(255,255,255)\" class=\"agent_0_43\"/><circle cx=\"171\" cy=\"141\" r=\"8\" fill=\"rgb(255,255,255)\" class=\"agent_0_48\"/><circle cx=\"225\" cy=\"17\" r=\"10\" fill=\"rgb(255,255,255)\" class=\"agent_0_55\"/><circle cx=\"216\" cy=\"302\" r=\"10\" fill=\"rgb(255,255,255)\" class=\"agent_0_72\"/></svg><svg viewBox='0 0 430 430' id=\"svg\" width=\"172\" height=\"172\"><circle cx=\"215\" cy=\"215\" r=\"205\" fill=\"none\" stroke=\"black\" stroke-width=\"2\" stroke-dasharray=\"3,3\"/> <circle cx=\"64\" cy=\"246\" r=\"10\" fill=\"rgb(255,255,255)\" class=\"agent_0_14\"/><circle cx=\"350\" cy=\"154\" r=\"8\" fill=\"rgb(255,255,255)\" class=\"agent_0_21\"/><circle cx=\"186\" cy=\"20\" r=\"8\" fill=\"rgb(255,0,0)\" class=\"agent_0_34\"/><circle cx=\"223\" cy=\"250\" r=\"10\" fill=\"rgb(255,255,255)\" class=\"agent_0_43\"/><circle cx=\"171\" cy=\"141\" r=\"8\" fill=\"rgb(255,255,255)\" class=\"agent_0_48\"/><circle cx=\"225\" cy=\"17\" r=\"10\" fill=\"rgb(255,255,255)\" class=\"agent_0_55\"/><circle cx=\"216\" cy=\"302\" r=\"10\" fill=\"rgb(255,255,255)\" class=\"agent_0_72\"/></svg><svg viewBox='0 0 430 430' id=\"svg\" width=\"172\" height=\"172\"><circle cx=\"215\" cy=\"215\" r=\"205\" fill=\"none\" stroke=\"black\" stroke-width=\"2\" stroke-dasharray=\"3,3\"/> <circle cx=\"64\" cy=\"246\" r=\"10\" fill=\"rgb(255,255,255)\" class=\"agent_0_14\"/><circle cx=\"350\" cy=\"154\" r=\"8\" fill=\"rgb(255,255,255)\" class=\"agent_0_21\"/><circle cx=\"186\" cy=\"20\" r=\"8\" fill=\"rgb(255,255,255)\" class=\"agent_0_34\"/><circle cx=\"223\" cy=\"250\" r=\"10\" fill=\"rgb(255,255,255)\" class=\"agent_0_43\"/><circle cx=\"171\" cy=\"141\" r=\"8\" fill=\"rgb(255,255,255)\" class=\"agent_0_48\"/><circle cx=\"225\" cy=\"17\" r=\"10\" fill=\"rgb(255,0,0)\" class=\"agent_0_55\"/><circle cx=\"216\" cy=\"302\" r=\"10\" fill=\"rgb(255,255,255)\" class=\"agent_0_72\"/></svg></div>"
      ],
      "text/plain": [
       "<IPython.core.display.HTML object>"
      ]
     },
     "metadata": {},
     "output_type": "display_data"
    },
    {
     "name": "stdout",
     "output_type": "stream",
     "text": [
      "partner_refs_pred\n"
     ]
    },
    {
     "data": {
      "text/html": [
       "<div style=\"white-space: nowrap\"><svg viewbox='0 0 430 430' width=\"172\" height=\"172\" id=\"agent_0\"><circle cx=\"215\" cy=\"215\" r=\"205\" fill=\"none\" stroke=\"black\" stroke-width=\"2\" stroke-dasharray=\"3,3\"/><circle cx=\"64\" cy=\"246\" r=\"10\" fill=\"rgb(76,76,76)\"/><circle cx=\"350\" cy=\"154\" r=\"8\" fill=\"rgb(77,77,77)\"/><circle cx=\"186\" cy=\"20\" r=\"8\" fill=\"rgb(189,189,189)\"/><circle cx=\"223\" cy=\"250\" r=\"10\" fill=\"rgb(122,122,122)\"/><circle cx=\"171\" cy=\"141\" r=\"8\" fill=\"rgb(118,118,118)\"/><circle cx=\"225\" cy=\"17\" r=\"10\" fill=\"rgb(129,129,129)\"/><circle cx=\"216\" cy=\"302\" r=\"10\" fill=\"rgb(115,115,115)\"/></svg><svg viewBox='0 0 430 430' id=\"svg\" width=\"172\" height=\"172\"><circle cx=\"215\" cy=\"215\" r=\"205\" fill=\"none\" stroke=\"black\" stroke-width=\"2\" stroke-dasharray=\"3,3\"/> <circle cx=\"64\" cy=\"246\" r=\"10\" fill=\"rgb(255,255,255)\" class=\"agent_0_14\"/><circle cx=\"350\" cy=\"154\" r=\"8\" fill=\"rgb(255,255,255)\" class=\"agent_0_21\"/><circle cx=\"186\" cy=\"20\" r=\"8\" fill=\"rgb(255,255,255)\" class=\"agent_0_34\"/><circle cx=\"223\" cy=\"250\" r=\"10\" fill=\"rgb(255,255,255)\" class=\"agent_0_43\"/><circle cx=\"171\" cy=\"141\" r=\"8\" fill=\"rgb(255,255,255)\" class=\"agent_0_48\"/><circle cx=\"225\" cy=\"17\" r=\"10\" fill=\"rgb(255,255,255)\" class=\"agent_0_55\"/><circle cx=\"216\" cy=\"302\" r=\"10\" fill=\"rgb(255,255,255)\" class=\"agent_0_72\"/></svg><svg viewBox='0 0 430 430' id=\"svg\" width=\"172\" height=\"172\"><circle cx=\"215\" cy=\"215\" r=\"205\" fill=\"none\" stroke=\"black\" stroke-width=\"2\" stroke-dasharray=\"3,3\"/> <circle cx=\"64\" cy=\"246\" r=\"10\" fill=\"rgb(255,255,255)\" class=\"agent_0_14\"/><circle cx=\"350\" cy=\"154\" r=\"8\" fill=\"rgb(255,255,255)\" class=\"agent_0_21\"/><circle cx=\"186\" cy=\"20\" r=\"8\" fill=\"rgb(255,0,0)\" class=\"agent_0_34\"/><circle cx=\"223\" cy=\"250\" r=\"10\" fill=\"rgb(255,255,255)\" class=\"agent_0_43\"/><circle cx=\"171\" cy=\"141\" r=\"8\" fill=\"rgb(255,255,255)\" class=\"agent_0_48\"/><circle cx=\"225\" cy=\"17\" r=\"10\" fill=\"rgb(255,0,0)\" class=\"agent_0_55\"/><circle cx=\"216\" cy=\"302\" r=\"10\" fill=\"rgb(255,255,255)\" class=\"agent_0_72\"/></svg><svg viewBox='0 0 430 430' id=\"svg\" width=\"172\" height=\"172\"><circle cx=\"215\" cy=\"215\" r=\"205\" fill=\"none\" stroke=\"black\" stroke-width=\"2\" stroke-dasharray=\"3,3\"/> <circle cx=\"64\" cy=\"246\" r=\"10\" fill=\"rgb(255,255,255)\" class=\"agent_0_14\"/><circle cx=\"350\" cy=\"154\" r=\"8\" fill=\"rgb(255,255,255)\" class=\"agent_0_21\"/><circle cx=\"186\" cy=\"20\" r=\"8\" fill=\"rgb(255,255,255)\" class=\"agent_0_34\"/><circle cx=\"223\" cy=\"250\" r=\"10\" fill=\"rgb(255,255,255)\" class=\"agent_0_43\"/><circle cx=\"171\" cy=\"141\" r=\"8\" fill=\"rgb(255,255,255)\" class=\"agent_0_48\"/><circle cx=\"225\" cy=\"17\" r=\"10\" fill=\"rgb(255,0,0)\" class=\"agent_0_55\"/><circle cx=\"216\" cy=\"302\" r=\"10\" fill=\"rgb(255,255,255)\" class=\"agent_0_72\"/></svg><svg viewBox='0 0 430 430' id=\"svg\" width=\"172\" height=\"172\"><circle cx=\"215\" cy=\"215\" r=\"205\" fill=\"none\" stroke=\"black\" stroke-width=\"2\" stroke-dasharray=\"3,3\"/> <circle cx=\"64\" cy=\"246\" r=\"10\" fill=\"rgb(255,255,255)\" class=\"agent_0_14\"/><circle cx=\"350\" cy=\"154\" r=\"8\" fill=\"rgb(255,255,255)\" class=\"agent_0_21\"/><circle cx=\"186\" cy=\"20\" r=\"8\" fill=\"rgb(255,0,0)\" class=\"agent_0_34\"/><circle cx=\"223\" cy=\"250\" r=\"10\" fill=\"rgb(255,255,255)\" class=\"agent_0_43\"/><circle cx=\"171\" cy=\"141\" r=\"8\" fill=\"rgb(255,255,255)\" class=\"agent_0_48\"/><circle cx=\"225\" cy=\"17\" r=\"10\" fill=\"rgb(255,255,255)\" class=\"agent_0_55\"/><circle cx=\"216\" cy=\"302\" r=\"10\" fill=\"rgb(255,255,255)\" class=\"agent_0_72\"/></svg><svg viewBox='0 0 430 430' id=\"svg\" width=\"172\" height=\"172\"><circle cx=\"215\" cy=\"215\" r=\"205\" fill=\"none\" stroke=\"black\" stroke-width=\"2\" stroke-dasharray=\"3,3\"/> <circle cx=\"64\" cy=\"246\" r=\"10\" fill=\"rgb(255,255,255)\" class=\"agent_0_14\"/><circle cx=\"350\" cy=\"154\" r=\"8\" fill=\"rgb(255,255,255)\" class=\"agent_0_21\"/><circle cx=\"186\" cy=\"20\" r=\"8\" fill=\"rgb(255,255,255)\" class=\"agent_0_34\"/><circle cx=\"223\" cy=\"250\" r=\"10\" fill=\"rgb(255,255,255)\" class=\"agent_0_43\"/><circle cx=\"171\" cy=\"141\" r=\"8\" fill=\"rgb(255,255,255)\" class=\"agent_0_48\"/><circle cx=\"225\" cy=\"17\" r=\"10\" fill=\"rgb(255,0,0)\" class=\"agent_0_55\"/><circle cx=\"216\" cy=\"302\" r=\"10\" fill=\"rgb(255,255,255)\" class=\"agent_0_72\"/></svg></div>"
      ],
      "text/plain": [
       "<IPython.core.display.HTML object>"
      ]
     },
     "metadata": {},
     "output_type": "display_data"
    },
    {
     "name": "stdout",
     "output_type": "stream",
     "text": [
      "\n",
      "----------------------------------------\n",
      "\n",
      "to_mention_true\n"
     ]
    },
    {
     "data": {
      "text/html": [
       "<div style=\"white-space: nowrap\"><svg viewbox='0 0 430 430' width=\"172\" height=\"172\" id=\"agent_0\"><circle cx=\"215\" cy=\"215\" r=\"205\" fill=\"none\" stroke=\"black\" stroke-width=\"2\" stroke-dasharray=\"3,3\"/><circle cx=\"64\" cy=\"246\" r=\"10\" fill=\"rgb(76,76,76)\"/><circle cx=\"350\" cy=\"154\" r=\"8\" fill=\"rgb(77,77,77)\"/><circle cx=\"186\" cy=\"20\" r=\"8\" fill=\"rgb(189,189,189)\"/><circle cx=\"223\" cy=\"250\" r=\"10\" fill=\"rgb(122,122,122)\"/><circle cx=\"171\" cy=\"141\" r=\"8\" fill=\"rgb(118,118,118)\"/><circle cx=\"225\" cy=\"17\" r=\"10\" fill=\"rgb(129,129,129)\"/><circle cx=\"216\" cy=\"302\" r=\"10\" fill=\"rgb(115,115,115)\"/></svg><svg viewBox='0 0 430 430' id=\"svg\" width=\"172\" height=\"172\"><circle cx=\"215\" cy=\"215\" r=\"205\" fill=\"none\" stroke=\"black\" stroke-width=\"2\" stroke-dasharray=\"3,3\"/> <circle cx=\"64\" cy=\"246\" r=\"10\" fill=\"rgb(255,255,255)\" class=\"agent_0_14\"/><circle cx=\"350\" cy=\"154\" r=\"8\" fill=\"rgb(255,255,255)\" class=\"agent_0_21\"/><circle cx=\"186\" cy=\"20\" r=\"8\" fill=\"rgb(255,0,0)\" class=\"agent_0_34\"/><circle cx=\"223\" cy=\"250\" r=\"10\" fill=\"rgb(255,255,255)\" class=\"agent_0_43\"/><circle cx=\"171\" cy=\"141\" r=\"8\" fill=\"rgb(255,255,255)\" class=\"agent_0_48\"/><circle cx=\"225\" cy=\"17\" r=\"10\" fill=\"rgb(255,0,0)\" class=\"agent_0_55\"/><circle cx=\"216\" cy=\"302\" r=\"10\" fill=\"rgb(255,255,255)\" class=\"agent_0_72\"/></svg></div>"
      ],
      "text/plain": [
       "<IPython.core.display.HTML object>"
      ]
     },
     "metadata": {},
     "output_type": "display_data"
    },
    {
     "name": "stdout",
     "output_type": "stream",
     "text": [
      "to_mention_pred\n"
     ]
    },
    {
     "data": {
      "text/html": [
       "<div style=\"white-space: nowrap\"><svg viewbox='0 0 430 430' width=\"172\" height=\"172\" id=\"agent_0\"><circle cx=\"215\" cy=\"215\" r=\"205\" fill=\"none\" stroke=\"black\" stroke-width=\"2\" stroke-dasharray=\"3,3\"/><circle cx=\"64\" cy=\"246\" r=\"10\" fill=\"rgb(76,76,76)\"/><circle cx=\"350\" cy=\"154\" r=\"8\" fill=\"rgb(77,77,77)\"/><circle cx=\"186\" cy=\"20\" r=\"8\" fill=\"rgb(189,189,189)\"/><circle cx=\"223\" cy=\"250\" r=\"10\" fill=\"rgb(122,122,122)\"/><circle cx=\"171\" cy=\"141\" r=\"8\" fill=\"rgb(118,118,118)\"/><circle cx=\"225\" cy=\"17\" r=\"10\" fill=\"rgb(129,129,129)\"/><circle cx=\"216\" cy=\"302\" r=\"10\" fill=\"rgb(115,115,115)\"/></svg><svg viewBox='0 0 430 430' id=\"svg\" width=\"172\" height=\"172\"><circle cx=\"215\" cy=\"215\" r=\"205\" fill=\"none\" stroke=\"black\" stroke-width=\"2\" stroke-dasharray=\"3,3\"/> <circle cx=\"64\" cy=\"246\" r=\"10\" fill=\"rgb(255,255,255)\" class=\"agent_0_14\"/><circle cx=\"350\" cy=\"154\" r=\"8\" fill=\"rgb(255,255,255)\" class=\"agent_0_21\"/><circle cx=\"186\" cy=\"20\" r=\"8\" fill=\"rgb(255,0,0)\" class=\"agent_0_34\"/><circle cx=\"223\" cy=\"250\" r=\"10\" fill=\"rgb(255,255,255)\" class=\"agent_0_43\"/><circle cx=\"171\" cy=\"141\" r=\"8\" fill=\"rgb(255,0,0)\" class=\"agent_0_48\"/><circle cx=\"225\" cy=\"17\" r=\"10\" fill=\"rgb(255,0,0)\" class=\"agent_0_55\"/><circle cx=\"216\" cy=\"302\" r=\"10\" fill=\"rgb(255,255,255)\" class=\"agent_0_72\"/></svg></div>"
      ],
      "text/plain": [
       "<IPython.core.display.HTML object>"
      ]
     },
     "metadata": {},
     "output_type": "display_data"
    },
    {
     "name": "stdout",
     "output_type": "stream",
     "text": [
      "sample 0\ti have that <eos>\n",
      "sample 1\ti see that <eos>\n",
      "sample 2\ti have that <eos>\n",
      "sample 3\ti see that <eos>\n",
      "sample 4\ti see that <eos>\n",
      "sample 5\tyes i see that <eos>\n",
      "sample 6\ti have that <eos>\n",
      "sample 7\ti have that <eos>\n",
      "sample 8\ti see that <eos>\n",
      "sample 9\ti see that <eos>\n",
      "argmax\ti see that <eos>\n",
      "human\tno , how about two up top ? <eos>\n",
      "refs_true\n"
     ]
    },
    {
     "data": {
      "text/html": [
       "<div style=\"white-space: nowrap\"><svg viewbox='0 0 430 430' width=\"172\" height=\"172\" id=\"agent_0\"><circle cx=\"215\" cy=\"215\" r=\"205\" fill=\"none\" stroke=\"black\" stroke-width=\"2\" stroke-dasharray=\"3,3\"/><circle cx=\"64\" cy=\"246\" r=\"10\" fill=\"rgb(76,76,76)\"/><circle cx=\"350\" cy=\"154\" r=\"8\" fill=\"rgb(77,77,77)\"/><circle cx=\"186\" cy=\"20\" r=\"8\" fill=\"rgb(189,189,189)\"/><circle cx=\"223\" cy=\"250\" r=\"10\" fill=\"rgb(122,122,122)\"/><circle cx=\"171\" cy=\"141\" r=\"8\" fill=\"rgb(118,118,118)\"/><circle cx=\"225\" cy=\"17\" r=\"10\" fill=\"rgb(129,129,129)\"/><circle cx=\"216\" cy=\"302\" r=\"10\" fill=\"rgb(115,115,115)\"/></svg><svg viewBox='0 0 430 430' id=\"svg\" width=\"172\" height=\"172\"><circle cx=\"215\" cy=\"215\" r=\"205\" fill=\"none\" stroke=\"black\" stroke-width=\"2\" stroke-dasharray=\"3,3\"/> <circle cx=\"64\" cy=\"246\" r=\"10\" fill=\"rgb(255,255,255)\" class=\"agent_0_14\"/><circle cx=\"350\" cy=\"154\" r=\"8\" fill=\"rgb(255,255,255)\" class=\"agent_0_21\"/><circle cx=\"186\" cy=\"20\" r=\"8\" fill=\"rgb(255,0,0)\" class=\"agent_0_34\"/><circle cx=\"223\" cy=\"250\" r=\"10\" fill=\"rgb(255,255,255)\" class=\"agent_0_43\"/><circle cx=\"171\" cy=\"141\" r=\"8\" fill=\"rgb(255,255,255)\" class=\"agent_0_48\"/><circle cx=\"225\" cy=\"17\" r=\"10\" fill=\"rgb(255,0,0)\" class=\"agent_0_55\"/><circle cx=\"216\" cy=\"302\" r=\"10\" fill=\"rgb(255,255,255)\" class=\"agent_0_72\"/></svg></div>"
      ],
      "text/plain": [
       "<IPython.core.display.HTML object>"
      ]
     },
     "metadata": {},
     "output_type": "display_data"
    },
    {
     "name": "stdout",
     "output_type": "stream",
     "text": [
      "refs_pred\n"
     ]
    },
    {
     "data": {
      "text/html": [
       "<div style=\"white-space: nowrap\"><svg viewbox='0 0 430 430' width=\"172\" height=\"172\" id=\"agent_0\"><circle cx=\"215\" cy=\"215\" r=\"205\" fill=\"none\" stroke=\"black\" stroke-width=\"2\" stroke-dasharray=\"3,3\"/><circle cx=\"64\" cy=\"246\" r=\"10\" fill=\"rgb(76,76,76)\"/><circle cx=\"350\" cy=\"154\" r=\"8\" fill=\"rgb(77,77,77)\"/><circle cx=\"186\" cy=\"20\" r=\"8\" fill=\"rgb(189,189,189)\"/><circle cx=\"223\" cy=\"250\" r=\"10\" fill=\"rgb(122,122,122)\"/><circle cx=\"171\" cy=\"141\" r=\"8\" fill=\"rgb(118,118,118)\"/><circle cx=\"225\" cy=\"17\" r=\"10\" fill=\"rgb(129,129,129)\"/><circle cx=\"216\" cy=\"302\" r=\"10\" fill=\"rgb(115,115,115)\"/></svg><svg viewBox='0 0 430 430' id=\"svg\" width=\"172\" height=\"172\"><circle cx=\"215\" cy=\"215\" r=\"205\" fill=\"none\" stroke=\"black\" stroke-width=\"2\" stroke-dasharray=\"3,3\"/> <circle cx=\"64\" cy=\"246\" r=\"10\" fill=\"rgb(255,255,255)\" class=\"agent_0_14\"/><circle cx=\"350\" cy=\"154\" r=\"8\" fill=\"rgb(255,255,255)\" class=\"agent_0_21\"/><circle cx=\"186\" cy=\"20\" r=\"8\" fill=\"rgb(255,0,0)\" class=\"agent_0_34\"/><circle cx=\"223\" cy=\"250\" r=\"10\" fill=\"rgb(255,255,255)\" class=\"agent_0_43\"/><circle cx=\"171\" cy=\"141\" r=\"8\" fill=\"rgb(255,255,255)\" class=\"agent_0_48\"/><circle cx=\"225\" cy=\"17\" r=\"10\" fill=\"rgb(255,0,0)\" class=\"agent_0_55\"/><circle cx=\"216\" cy=\"302\" r=\"10\" fill=\"rgb(255,255,255)\" class=\"agent_0_72\"/></svg></div>"
      ],
      "text/plain": [
       "<IPython.core.display.HTML object>"
      ]
     },
     "metadata": {},
     "output_type": "display_data"
    },
    {
     "name": "stdout",
     "output_type": "stream",
     "text": [
      "\n",
      "----------------------------------------\n",
      "\n",
      "human\tTHEM: nope , i also see a triangle with very dark medium size bottom left , equal size but lighter dot bottom right , and smaller medium colored dot on top <eos>\n",
      "partner_refs_true\n"
     ]
    },
    {
     "data": {
      "text/html": [
       "<div style=\"white-space: nowrap\"><svg viewbox='0 0 430 430' width=\"172\" height=\"172\" id=\"agent_0\"><circle cx=\"215\" cy=\"215\" r=\"205\" fill=\"none\" stroke=\"black\" stroke-width=\"2\" stroke-dasharray=\"3,3\"/><circle cx=\"64\" cy=\"246\" r=\"10\" fill=\"rgb(76,76,76)\"/><circle cx=\"350\" cy=\"154\" r=\"8\" fill=\"rgb(77,77,77)\"/><circle cx=\"186\" cy=\"20\" r=\"8\" fill=\"rgb(189,189,189)\"/><circle cx=\"223\" cy=\"250\" r=\"10\" fill=\"rgb(122,122,122)\"/><circle cx=\"171\" cy=\"141\" r=\"8\" fill=\"rgb(118,118,118)\"/><circle cx=\"225\" cy=\"17\" r=\"10\" fill=\"rgb(129,129,129)\"/><circle cx=\"216\" cy=\"302\" r=\"10\" fill=\"rgb(115,115,115)\"/></svg><svg viewBox='0 0 430 430' id=\"svg\" width=\"172\" height=\"172\"><circle cx=\"215\" cy=\"215\" r=\"205\" fill=\"none\" stroke=\"black\" stroke-width=\"2\" stroke-dasharray=\"3,3\"/> <circle cx=\"64\" cy=\"246\" r=\"10\" fill=\"rgb(255,0,0)\" class=\"agent_0_14\"/><circle cx=\"350\" cy=\"154\" r=\"8\" fill=\"rgb(255,255,255)\" class=\"agent_0_21\"/><circle cx=\"186\" cy=\"20\" r=\"8\" fill=\"rgb(255,255,255)\" class=\"agent_0_34\"/><circle cx=\"223\" cy=\"250\" r=\"10\" fill=\"rgb(255,0,0)\" class=\"agent_0_43\"/><circle cx=\"171\" cy=\"141\" r=\"8\" fill=\"rgb(255,0,0)\" class=\"agent_0_48\"/><circle cx=\"225\" cy=\"17\" r=\"10\" fill=\"rgb(255,255,255)\" class=\"agent_0_55\"/><circle cx=\"216\" cy=\"302\" r=\"10\" fill=\"rgb(255,255,255)\" class=\"agent_0_72\"/></svg><svg viewBox='0 0 430 430' id=\"svg\" width=\"172\" height=\"172\"><circle cx=\"215\" cy=\"215\" r=\"205\" fill=\"none\" stroke=\"black\" stroke-width=\"2\" stroke-dasharray=\"3,3\"/> <circle cx=\"64\" cy=\"246\" r=\"10\" fill=\"rgb(255,0,0)\" class=\"agent_0_14\"/><circle cx=\"350\" cy=\"154\" r=\"8\" fill=\"rgb(255,255,255)\" class=\"agent_0_21\"/><circle cx=\"186\" cy=\"20\" r=\"8\" fill=\"rgb(255,255,255)\" class=\"agent_0_34\"/><circle cx=\"223\" cy=\"250\" r=\"10\" fill=\"rgb(255,255,255)\" class=\"agent_0_43\"/><circle cx=\"171\" cy=\"141\" r=\"8\" fill=\"rgb(255,255,255)\" class=\"agent_0_48\"/><circle cx=\"225\" cy=\"17\" r=\"10\" fill=\"rgb(255,255,255)\" class=\"agent_0_55\"/><circle cx=\"216\" cy=\"302\" r=\"10\" fill=\"rgb(255,255,255)\" class=\"agent_0_72\"/></svg><svg viewBox='0 0 430 430' id=\"svg\" width=\"172\" height=\"172\"><circle cx=\"215\" cy=\"215\" r=\"205\" fill=\"none\" stroke=\"black\" stroke-width=\"2\" stroke-dasharray=\"3,3\"/> <circle cx=\"64\" cy=\"246\" r=\"10\" fill=\"rgb(255,255,255)\" class=\"agent_0_14\"/><circle cx=\"350\" cy=\"154\" r=\"8\" fill=\"rgb(255,255,255)\" class=\"agent_0_21\"/><circle cx=\"186\" cy=\"20\" r=\"8\" fill=\"rgb(255,255,255)\" class=\"agent_0_34\"/><circle cx=\"223\" cy=\"250\" r=\"10\" fill=\"rgb(255,0,0)\" class=\"agent_0_43\"/><circle cx=\"171\" cy=\"141\" r=\"8\" fill=\"rgb(255,255,255)\" class=\"agent_0_48\"/><circle cx=\"225\" cy=\"17\" r=\"10\" fill=\"rgb(255,255,255)\" class=\"agent_0_55\"/><circle cx=\"216\" cy=\"302\" r=\"10\" fill=\"rgb(255,255,255)\" class=\"agent_0_72\"/></svg><svg viewBox='0 0 430 430' id=\"svg\" width=\"172\" height=\"172\"><circle cx=\"215\" cy=\"215\" r=\"205\" fill=\"none\" stroke=\"black\" stroke-width=\"2\" stroke-dasharray=\"3,3\"/> <circle cx=\"64\" cy=\"246\" r=\"10\" fill=\"rgb(255,255,255)\" class=\"agent_0_14\"/><circle cx=\"350\" cy=\"154\" r=\"8\" fill=\"rgb(255,255,255)\" class=\"agent_0_21\"/><circle cx=\"186\" cy=\"20\" r=\"8\" fill=\"rgb(255,255,255)\" class=\"agent_0_34\"/><circle cx=\"223\" cy=\"250\" r=\"10\" fill=\"rgb(255,255,255)\" class=\"agent_0_43\"/><circle cx=\"171\" cy=\"141\" r=\"8\" fill=\"rgb(255,0,0)\" class=\"agent_0_48\"/><circle cx=\"225\" cy=\"17\" r=\"10\" fill=\"rgb(255,255,255)\" class=\"agent_0_55\"/><circle cx=\"216\" cy=\"302\" r=\"10\" fill=\"rgb(255,255,255)\" class=\"agent_0_72\"/></svg></div>"
      ],
      "text/plain": [
       "<IPython.core.display.HTML object>"
      ]
     },
     "metadata": {},
     "output_type": "display_data"
    },
    {
     "name": "stdout",
     "output_type": "stream",
     "text": [
      "partner_refs_pred\n"
     ]
    },
    {
     "data": {
      "text/html": [
       "<div style=\"white-space: nowrap\"><svg viewbox='0 0 430 430' width=\"172\" height=\"172\" id=\"agent_0\"><circle cx=\"215\" cy=\"215\" r=\"205\" fill=\"none\" stroke=\"black\" stroke-width=\"2\" stroke-dasharray=\"3,3\"/><circle cx=\"64\" cy=\"246\" r=\"10\" fill=\"rgb(76,76,76)\"/><circle cx=\"350\" cy=\"154\" r=\"8\" fill=\"rgb(77,77,77)\"/><circle cx=\"186\" cy=\"20\" r=\"8\" fill=\"rgb(189,189,189)\"/><circle cx=\"223\" cy=\"250\" r=\"10\" fill=\"rgb(122,122,122)\"/><circle cx=\"171\" cy=\"141\" r=\"8\" fill=\"rgb(118,118,118)\"/><circle cx=\"225\" cy=\"17\" r=\"10\" fill=\"rgb(129,129,129)\"/><circle cx=\"216\" cy=\"302\" r=\"10\" fill=\"rgb(115,115,115)\"/></svg><svg viewBox='0 0 430 430' id=\"svg\" width=\"172\" height=\"172\"><circle cx=\"215\" cy=\"215\" r=\"205\" fill=\"none\" stroke=\"black\" stroke-width=\"2\" stroke-dasharray=\"3,3\"/> <circle cx=\"64\" cy=\"246\" r=\"10\" fill=\"rgb(255,0,0)\" class=\"agent_0_14\"/><circle cx=\"350\" cy=\"154\" r=\"8\" fill=\"rgb(255,255,255)\" class=\"agent_0_21\"/><circle cx=\"186\" cy=\"20\" r=\"8\" fill=\"rgb(255,255,255)\" class=\"agent_0_34\"/><circle cx=\"223\" cy=\"250\" r=\"10\" fill=\"rgb(255,0,0)\" class=\"agent_0_43\"/><circle cx=\"171\" cy=\"141\" r=\"8\" fill=\"rgb(255,255,255)\" class=\"agent_0_48\"/><circle cx=\"225\" cy=\"17\" r=\"10\" fill=\"rgb(255,255,255)\" class=\"agent_0_55\"/><circle cx=\"216\" cy=\"302\" r=\"10\" fill=\"rgb(255,0,0)\" class=\"agent_0_72\"/></svg><svg viewBox='0 0 430 430' id=\"svg\" width=\"172\" height=\"172\"><circle cx=\"215\" cy=\"215\" r=\"205\" fill=\"none\" stroke=\"black\" stroke-width=\"2\" stroke-dasharray=\"3,3\"/> <circle cx=\"64\" cy=\"246\" r=\"10\" fill=\"rgb(255,0,0)\" class=\"agent_0_14\"/><circle cx=\"350\" cy=\"154\" r=\"8\" fill=\"rgb(255,255,255)\" class=\"agent_0_21\"/><circle cx=\"186\" cy=\"20\" r=\"8\" fill=\"rgb(255,255,255)\" class=\"agent_0_34\"/><circle cx=\"223\" cy=\"250\" r=\"10\" fill=\"rgb(255,255,255)\" class=\"agent_0_43\"/><circle cx=\"171\" cy=\"141\" r=\"8\" fill=\"rgb(255,255,255)\" class=\"agent_0_48\"/><circle cx=\"225\" cy=\"17\" r=\"10\" fill=\"rgb(255,255,255)\" class=\"agent_0_55\"/><circle cx=\"216\" cy=\"302\" r=\"10\" fill=\"rgb(255,255,255)\" class=\"agent_0_72\"/></svg><svg viewBox='0 0 430 430' id=\"svg\" width=\"172\" height=\"172\"><circle cx=\"215\" cy=\"215\" r=\"205\" fill=\"none\" stroke=\"black\" stroke-width=\"2\" stroke-dasharray=\"3,3\"/> <circle cx=\"64\" cy=\"246\" r=\"10\" fill=\"rgb(255,255,255)\" class=\"agent_0_14\"/><circle cx=\"350\" cy=\"154\" r=\"8\" fill=\"rgb(255,255,255)\" class=\"agent_0_21\"/><circle cx=\"186\" cy=\"20\" r=\"8\" fill=\"rgb(255,255,255)\" class=\"agent_0_34\"/><circle cx=\"223\" cy=\"250\" r=\"10\" fill=\"rgb(255,0,0)\" class=\"agent_0_43\"/><circle cx=\"171\" cy=\"141\" r=\"8\" fill=\"rgb(255,255,255)\" class=\"agent_0_48\"/><circle cx=\"225\" cy=\"17\" r=\"10\" fill=\"rgb(255,255,255)\" class=\"agent_0_55\"/><circle cx=\"216\" cy=\"302\" r=\"10\" fill=\"rgb(255,255,255)\" class=\"agent_0_72\"/></svg><svg viewBox='0 0 430 430' id=\"svg\" width=\"172\" height=\"172\"><circle cx=\"215\" cy=\"215\" r=\"205\" fill=\"none\" stroke=\"black\" stroke-width=\"2\" stroke-dasharray=\"3,3\"/> <circle cx=\"64\" cy=\"246\" r=\"10\" fill=\"rgb(255,255,255)\" class=\"agent_0_14\"/><circle cx=\"350\" cy=\"154\" r=\"8\" fill=\"rgb(255,255,255)\" class=\"agent_0_21\"/><circle cx=\"186\" cy=\"20\" r=\"8\" fill=\"rgb(255,255,255)\" class=\"agent_0_34\"/><circle cx=\"223\" cy=\"250\" r=\"10\" fill=\"rgb(255,255,255)\" class=\"agent_0_43\"/><circle cx=\"171\" cy=\"141\" r=\"8\" fill=\"rgb(255,255,255)\" class=\"agent_0_48\"/><circle cx=\"225\" cy=\"17\" r=\"10\" fill=\"rgb(255,255,255)\" class=\"agent_0_55\"/><circle cx=\"216\" cy=\"302\" r=\"10\" fill=\"rgb(255,0,0)\" class=\"agent_0_72\"/></svg></div>"
      ],
      "text/plain": [
       "<IPython.core.display.HTML object>"
      ]
     },
     "metadata": {},
     "output_type": "display_data"
    },
    {
     "name": "stdout",
     "output_type": "stream",
     "text": [
      "\n",
      "----------------------------------------\n",
      "\n",
      "to_mention_true\n"
     ]
    },
    {
     "data": {
      "text/html": [
       "<div style=\"white-space: nowrap\"><svg viewbox='0 0 430 430' width=\"172\" height=\"172\" id=\"agent_0\"><circle cx=\"215\" cy=\"215\" r=\"205\" fill=\"none\" stroke=\"black\" stroke-width=\"2\" stroke-dasharray=\"3,3\"/><circle cx=\"64\" cy=\"246\" r=\"10\" fill=\"rgb(76,76,76)\"/><circle cx=\"350\" cy=\"154\" r=\"8\" fill=\"rgb(77,77,77)\"/><circle cx=\"186\" cy=\"20\" r=\"8\" fill=\"rgb(189,189,189)\"/><circle cx=\"223\" cy=\"250\" r=\"10\" fill=\"rgb(122,122,122)\"/><circle cx=\"171\" cy=\"141\" r=\"8\" fill=\"rgb(118,118,118)\"/><circle cx=\"225\" cy=\"17\" r=\"10\" fill=\"rgb(129,129,129)\"/><circle cx=\"216\" cy=\"302\" r=\"10\" fill=\"rgb(115,115,115)\"/></svg><svg viewBox='0 0 430 430' id=\"svg\" width=\"172\" height=\"172\"><circle cx=\"215\" cy=\"215\" r=\"205\" fill=\"none\" stroke=\"black\" stroke-width=\"2\" stroke-dasharray=\"3,3\"/> <circle cx=\"64\" cy=\"246\" r=\"10\" fill=\"rgb(255,0,0)\" class=\"agent_0_14\"/><circle cx=\"350\" cy=\"154\" r=\"8\" fill=\"rgb(255,255,255)\" class=\"agent_0_21\"/><circle cx=\"186\" cy=\"20\" r=\"8\" fill=\"rgb(255,255,255)\" class=\"agent_0_34\"/><circle cx=\"223\" cy=\"250\" r=\"10\" fill=\"rgb(255,255,255)\" class=\"agent_0_43\"/><circle cx=\"171\" cy=\"141\" r=\"8\" fill=\"rgb(255,255,255)\" class=\"agent_0_48\"/><circle cx=\"225\" cy=\"17\" r=\"10\" fill=\"rgb(255,255,255)\" class=\"agent_0_55\"/><circle cx=\"216\" cy=\"302\" r=\"10\" fill=\"rgb(255,255,255)\" class=\"agent_0_72\"/></svg></div>"
      ],
      "text/plain": [
       "<IPython.core.display.HTML object>"
      ]
     },
     "metadata": {},
     "output_type": "display_data"
    },
    {
     "name": "stdout",
     "output_type": "stream",
     "text": [
      "to_mention_pred\n"
     ]
    },
    {
     "data": {
      "text/html": [
       "<div style=\"white-space: nowrap\"><svg viewbox='0 0 430 430' width=\"172\" height=\"172\" id=\"agent_0\"><circle cx=\"215\" cy=\"215\" r=\"205\" fill=\"none\" stroke=\"black\" stroke-width=\"2\" stroke-dasharray=\"3,3\"/><circle cx=\"64\" cy=\"246\" r=\"10\" fill=\"rgb(76,76,76)\"/><circle cx=\"350\" cy=\"154\" r=\"8\" fill=\"rgb(77,77,77)\"/><circle cx=\"186\" cy=\"20\" r=\"8\" fill=\"rgb(189,189,189)\"/><circle cx=\"223\" cy=\"250\" r=\"10\" fill=\"rgb(122,122,122)\"/><circle cx=\"171\" cy=\"141\" r=\"8\" fill=\"rgb(118,118,118)\"/><circle cx=\"225\" cy=\"17\" r=\"10\" fill=\"rgb(129,129,129)\"/><circle cx=\"216\" cy=\"302\" r=\"10\" fill=\"rgb(115,115,115)\"/></svg><svg viewBox='0 0 430 430' id=\"svg\" width=\"172\" height=\"172\"><circle cx=\"215\" cy=\"215\" r=\"205\" fill=\"none\" stroke=\"black\" stroke-width=\"2\" stroke-dasharray=\"3,3\"/> <circle cx=\"64\" cy=\"246\" r=\"10\" fill=\"rgb(255,255,255)\" class=\"agent_0_14\"/><circle cx=\"350\" cy=\"154\" r=\"8\" fill=\"rgb(255,255,255)\" class=\"agent_0_21\"/><circle cx=\"186\" cy=\"20\" r=\"8\" fill=\"rgb(255,255,255)\" class=\"agent_0_34\"/><circle cx=\"223\" cy=\"250\" r=\"10\" fill=\"rgb(255,255,255)\" class=\"agent_0_43\"/><circle cx=\"171\" cy=\"141\" r=\"8\" fill=\"rgb(255,0,0)\" class=\"agent_0_48\"/><circle cx=\"225\" cy=\"17\" r=\"10\" fill=\"rgb(255,255,255)\" class=\"agent_0_55\"/><circle cx=\"216\" cy=\"302\" r=\"10\" fill=\"rgb(255,255,255)\" class=\"agent_0_72\"/></svg></div>"
      ],
      "text/plain": [
       "<IPython.core.display.HTML object>"
      ]
     },
     "metadata": {},
     "output_type": "display_data"
    },
    {
     "name": "stdout",
     "output_type": "stream",
     "text": [
      "sample 0\tyes , let 's choose the black one . <selection>\n",
      "sample 1\tyes , lets choose the black one <eos>\n",
      "sample 2\tyes , choose the black one <selection>\n",
      "sample 3\tyes . let 's choose the black one . <selection>\n",
      "sample 4\tyes , let 's pick the darker one <eos>\n",
      "sample 5\tyes , let 's choose the top one <eos>\n",
      "sample 6\tyes , lets choose the darker one <selection>\n",
      "sample 7\tyes , let 's pick the darker one <selection>\n",
      "sample 8\tyes , let 's pick the darker one <selection>\n",
      "sample 9\tyes , let 's pick the darker one <eos>\n",
      "argmax\tyes , let 's pick the darker one <eos>\n",
      "human\tgo with the bottom darkest one <selection>\n",
      "refs_true\n"
     ]
    },
    {
     "data": {
      "text/html": [
       "<div style=\"white-space: nowrap\"><svg viewbox='0 0 430 430' width=\"172\" height=\"172\" id=\"agent_0\"><circle cx=\"215\" cy=\"215\" r=\"205\" fill=\"none\" stroke=\"black\" stroke-width=\"2\" stroke-dasharray=\"3,3\"/><circle cx=\"64\" cy=\"246\" r=\"10\" fill=\"rgb(76,76,76)\"/><circle cx=\"350\" cy=\"154\" r=\"8\" fill=\"rgb(77,77,77)\"/><circle cx=\"186\" cy=\"20\" r=\"8\" fill=\"rgb(189,189,189)\"/><circle cx=\"223\" cy=\"250\" r=\"10\" fill=\"rgb(122,122,122)\"/><circle cx=\"171\" cy=\"141\" r=\"8\" fill=\"rgb(118,118,118)\"/><circle cx=\"225\" cy=\"17\" r=\"10\" fill=\"rgb(129,129,129)\"/><circle cx=\"216\" cy=\"302\" r=\"10\" fill=\"rgb(115,115,115)\"/></svg><svg viewBox='0 0 430 430' id=\"svg\" width=\"172\" height=\"172\"><circle cx=\"215\" cy=\"215\" r=\"205\" fill=\"none\" stroke=\"black\" stroke-width=\"2\" stroke-dasharray=\"3,3\"/> <circle cx=\"64\" cy=\"246\" r=\"10\" fill=\"rgb(255,0,0)\" class=\"agent_0_14\"/><circle cx=\"350\" cy=\"154\" r=\"8\" fill=\"rgb(255,255,255)\" class=\"agent_0_21\"/><circle cx=\"186\" cy=\"20\" r=\"8\" fill=\"rgb(255,255,255)\" class=\"agent_0_34\"/><circle cx=\"223\" cy=\"250\" r=\"10\" fill=\"rgb(255,255,255)\" class=\"agent_0_43\"/><circle cx=\"171\" cy=\"141\" r=\"8\" fill=\"rgb(255,255,255)\" class=\"agent_0_48\"/><circle cx=\"225\" cy=\"17\" r=\"10\" fill=\"rgb(255,255,255)\" class=\"agent_0_55\"/><circle cx=\"216\" cy=\"302\" r=\"10\" fill=\"rgb(255,255,255)\" class=\"agent_0_72\"/></svg></div>"
      ],
      "text/plain": [
       "<IPython.core.display.HTML object>"
      ]
     },
     "metadata": {},
     "output_type": "display_data"
    },
    {
     "name": "stdout",
     "output_type": "stream",
     "text": [
      "refs_pred\n"
     ]
    },
    {
     "data": {
      "text/html": [
       "<div style=\"white-space: nowrap\"><svg viewbox='0 0 430 430' width=\"172\" height=\"172\" id=\"agent_0\"><circle cx=\"215\" cy=\"215\" r=\"205\" fill=\"none\" stroke=\"black\" stroke-width=\"2\" stroke-dasharray=\"3,3\"/><circle cx=\"64\" cy=\"246\" r=\"10\" fill=\"rgb(76,76,76)\"/><circle cx=\"350\" cy=\"154\" r=\"8\" fill=\"rgb(77,77,77)\"/><circle cx=\"186\" cy=\"20\" r=\"8\" fill=\"rgb(189,189,189)\"/><circle cx=\"223\" cy=\"250\" r=\"10\" fill=\"rgb(122,122,122)\"/><circle cx=\"171\" cy=\"141\" r=\"8\" fill=\"rgb(118,118,118)\"/><circle cx=\"225\" cy=\"17\" r=\"10\" fill=\"rgb(129,129,129)\"/><circle cx=\"216\" cy=\"302\" r=\"10\" fill=\"rgb(115,115,115)\"/></svg><svg viewBox='0 0 430 430' id=\"svg\" width=\"172\" height=\"172\"><circle cx=\"215\" cy=\"215\" r=\"205\" fill=\"none\" stroke=\"black\" stroke-width=\"2\" stroke-dasharray=\"3,3\"/> <circle cx=\"64\" cy=\"246\" r=\"10\" fill=\"rgb(255,0,0)\" class=\"agent_0_14\"/><circle cx=\"350\" cy=\"154\" r=\"8\" fill=\"rgb(255,255,255)\" class=\"agent_0_21\"/><circle cx=\"186\" cy=\"20\" r=\"8\" fill=\"rgb(255,255,255)\" class=\"agent_0_34\"/><circle cx=\"223\" cy=\"250\" r=\"10\" fill=\"rgb(255,255,255)\" class=\"agent_0_43\"/><circle cx=\"171\" cy=\"141\" r=\"8\" fill=\"rgb(255,255,255)\" class=\"agent_0_48\"/><circle cx=\"225\" cy=\"17\" r=\"10\" fill=\"rgb(255,255,255)\" class=\"agent_0_55\"/><circle cx=\"216\" cy=\"302\" r=\"10\" fill=\"rgb(255,255,255)\" class=\"agent_0_72\"/></svg></div>"
      ],
      "text/plain": [
       "<IPython.core.display.HTML object>"
      ]
     },
     "metadata": {},
     "output_type": "display_data"
    },
    {
     "name": "stdout",
     "output_type": "stream",
     "text": [
      "\n",
      "----------------------------------------\n",
      "\n"
     ]
    }
   ],
   "source": [
    "force_contexts_and_mentions(3)"
   ]
  },
  {
   "cell_type": "code",
   "execution_count": 90,
   "metadata": {
    "scrolled": false
   },
   "outputs": [
    {
     "name": "stdout",
     "output_type": "stream",
     "text": [
      "to_mention_true\n"
     ]
    },
    {
     "data": {
      "text/html": [
       "<div style=\"white-space: nowrap\"><svg viewbox='0 0 430 430' width=\"172\" height=\"172\" id=\"agent_0\"><circle cx=\"215\" cy=\"215\" r=\"205\" fill=\"none\" stroke=\"black\" stroke-width=\"2\" stroke-dasharray=\"3,3\"/><circle cx=\"306\" cy=\"383\" r=\"8\" fill=\"rgb(164,164,164)\"/><circle cx=\"41\" cy=\"205\" r=\"11\" fill=\"rgb(121,121,121)\"/><circle cx=\"86\" cy=\"123\" r=\"10\" fill=\"rgb(111,111,111)\"/><circle cx=\"65\" cy=\"282\" r=\"10\" fill=\"rgb(136,136,136)\"/><circle cx=\"378\" cy=\"273\" r=\"10\" fill=\"rgb(125,125,125)\"/><circle cx=\"316\" cy=\"159\" r=\"12\" fill=\"rgb(87,87,87)\"/><circle cx=\"227\" cy=\"382\" r=\"12\" fill=\"rgb(61,61,61)\"/></svg><svg viewBox='0 0 430 430' id=\"svg\" width=\"172\" height=\"172\"><circle cx=\"215\" cy=\"215\" r=\"205\" fill=\"none\" stroke=\"black\" stroke-width=\"2\" stroke-dasharray=\"3,3\"/> <circle cx=\"306\" cy=\"383\" r=\"8\" fill=\"rgb(255,255,255)\" class=\"agent_0_31\"/><circle cx=\"41\" cy=\"205\" r=\"11\" fill=\"rgb(255,0,0)\" class=\"agent_0_49\"/><circle cx=\"86\" cy=\"123\" r=\"10\" fill=\"rgb(255,0,0)\" class=\"agent_0_50\"/><circle cx=\"65\" cy=\"282\" r=\"10\" fill=\"rgb(255,0,0)\" class=\"agent_0_63\"/><circle cx=\"378\" cy=\"273\" r=\"10\" fill=\"rgb(255,255,255)\" class=\"agent_0_73\"/><circle cx=\"316\" cy=\"159\" r=\"12\" fill=\"rgb(255,255,255)\" class=\"agent_0_74\"/><circle cx=\"227\" cy=\"382\" r=\"12\" fill=\"rgb(255,255,255)\" class=\"agent_0_76\"/></svg></div>"
      ],
      "text/plain": [
       "<IPython.core.display.HTML object>"
      ]
     },
     "metadata": {},
     "output_type": "display_data"
    },
    {
     "name": "stdout",
     "output_type": "stream",
     "text": [
      "to_mention_pred\n"
     ]
    },
    {
     "data": {
      "text/html": [
       "<div style=\"white-space: nowrap\"><svg viewbox='0 0 430 430' width=\"172\" height=\"172\" id=\"agent_0\"><circle cx=\"215\" cy=\"215\" r=\"205\" fill=\"none\" stroke=\"black\" stroke-width=\"2\" stroke-dasharray=\"3,3\"/><circle cx=\"306\" cy=\"383\" r=\"8\" fill=\"rgb(164,164,164)\"/><circle cx=\"41\" cy=\"205\" r=\"11\" fill=\"rgb(121,121,121)\"/><circle cx=\"86\" cy=\"123\" r=\"10\" fill=\"rgb(111,111,111)\"/><circle cx=\"65\" cy=\"282\" r=\"10\" fill=\"rgb(136,136,136)\"/><circle cx=\"378\" cy=\"273\" r=\"10\" fill=\"rgb(125,125,125)\"/><circle cx=\"316\" cy=\"159\" r=\"12\" fill=\"rgb(87,87,87)\"/><circle cx=\"227\" cy=\"382\" r=\"12\" fill=\"rgb(61,61,61)\"/></svg><svg viewBox='0 0 430 430' id=\"svg\" width=\"172\" height=\"172\"><circle cx=\"215\" cy=\"215\" r=\"205\" fill=\"none\" stroke=\"black\" stroke-width=\"2\" stroke-dasharray=\"3,3\"/> <circle cx=\"306\" cy=\"383\" r=\"8\" fill=\"rgb(255,255,255)\" class=\"agent_0_31\"/><circle cx=\"41\" cy=\"205\" r=\"11\" fill=\"rgb(255,255,255)\" class=\"agent_0_49\"/><circle cx=\"86\" cy=\"123\" r=\"10\" fill=\"rgb(255,255,255)\" class=\"agent_0_50\"/><circle cx=\"65\" cy=\"282\" r=\"10\" fill=\"rgb(255,255,255)\" class=\"agent_0_63\"/><circle cx=\"378\" cy=\"273\" r=\"10\" fill=\"rgb(255,255,255)\" class=\"agent_0_73\"/><circle cx=\"316\" cy=\"159\" r=\"12\" fill=\"rgb(255,255,255)\" class=\"agent_0_74\"/><circle cx=\"227\" cy=\"382\" r=\"12\" fill=\"rgb(255,0,0)\" class=\"agent_0_76\"/></svg></div>"
      ],
      "text/plain": [
       "<IPython.core.display.HTML object>"
      ]
     },
     "metadata": {},
     "output_type": "display_data"
    },
    {
     "name": "stdout",
     "output_type": "stream",
     "text": [
      "sample 0\ti see a triangle of dots <eos>\n",
      "sample 1\ti have a medium size medium grey dot in the middle <eos>\n",
      "sample 2\ti have a medium gray dot at the top <eos>\n",
      "sample 3\tdo you see a medium grey dot alone ? <eos>\n",
      "sample 4\tdo you see a medium grey dot in the middle of the circle <eos>\n",
      "sample 5\ttwo dots very close together ? <eos>\n",
      "sample 6\ti have a medium size , medium gray dot at the bottom of the circle <eos>\n",
      "sample 7\ti have three dots that are almost in a horizontal line <eos>\n",
      "sample 8\ti have a medium gray dot at the top <eos>\n",
      "sample 9\ti have a medium sized medium gray dot at the bottom <eos>\n",
      "argmax\ti have a medium gray dot at the top <eos>\n",
      "human\ti see a group of 3 about the same shade , on the left <eos>\n",
      "refs_true\n"
     ]
    },
    {
     "data": {
      "text/html": [
       "<div style=\"white-space: nowrap\"><svg viewbox='0 0 430 430' width=\"172\" height=\"172\" id=\"agent_0\"><circle cx=\"215\" cy=\"215\" r=\"205\" fill=\"none\" stroke=\"black\" stroke-width=\"2\" stroke-dasharray=\"3,3\"/><circle cx=\"306\" cy=\"383\" r=\"8\" fill=\"rgb(164,164,164)\"/><circle cx=\"41\" cy=\"205\" r=\"11\" fill=\"rgb(121,121,121)\"/><circle cx=\"86\" cy=\"123\" r=\"10\" fill=\"rgb(111,111,111)\"/><circle cx=\"65\" cy=\"282\" r=\"10\" fill=\"rgb(136,136,136)\"/><circle cx=\"378\" cy=\"273\" r=\"10\" fill=\"rgb(125,125,125)\"/><circle cx=\"316\" cy=\"159\" r=\"12\" fill=\"rgb(87,87,87)\"/><circle cx=\"227\" cy=\"382\" r=\"12\" fill=\"rgb(61,61,61)\"/></svg><svg viewBox='0 0 430 430' id=\"svg\" width=\"172\" height=\"172\"><circle cx=\"215\" cy=\"215\" r=\"205\" fill=\"none\" stroke=\"black\" stroke-width=\"2\" stroke-dasharray=\"3,3\"/> <circle cx=\"306\" cy=\"383\" r=\"8\" fill=\"rgb(255,255,255)\" class=\"agent_0_31\"/><circle cx=\"41\" cy=\"205\" r=\"11\" fill=\"rgb(255,0,0)\" class=\"agent_0_49\"/><circle cx=\"86\" cy=\"123\" r=\"10\" fill=\"rgb(255,0,0)\" class=\"agent_0_50\"/><circle cx=\"65\" cy=\"282\" r=\"10\" fill=\"rgb(255,0,0)\" class=\"agent_0_63\"/><circle cx=\"378\" cy=\"273\" r=\"10\" fill=\"rgb(255,255,255)\" class=\"agent_0_73\"/><circle cx=\"316\" cy=\"159\" r=\"12\" fill=\"rgb(255,255,255)\" class=\"agent_0_74\"/><circle cx=\"227\" cy=\"382\" r=\"12\" fill=\"rgb(255,255,255)\" class=\"agent_0_76\"/></svg></div>"
      ],
      "text/plain": [
       "<IPython.core.display.HTML object>"
      ]
     },
     "metadata": {},
     "output_type": "display_data"
    },
    {
     "name": "stdout",
     "output_type": "stream",
     "text": [
      "refs_pred\n"
     ]
    },
    {
     "data": {
      "text/html": [
       "<div style=\"white-space: nowrap\"><svg viewbox='0 0 430 430' width=\"172\" height=\"172\" id=\"agent_0\"><circle cx=\"215\" cy=\"215\" r=\"205\" fill=\"none\" stroke=\"black\" stroke-width=\"2\" stroke-dasharray=\"3,3\"/><circle cx=\"306\" cy=\"383\" r=\"8\" fill=\"rgb(164,164,164)\"/><circle cx=\"41\" cy=\"205\" r=\"11\" fill=\"rgb(121,121,121)\"/><circle cx=\"86\" cy=\"123\" r=\"10\" fill=\"rgb(111,111,111)\"/><circle cx=\"65\" cy=\"282\" r=\"10\" fill=\"rgb(136,136,136)\"/><circle cx=\"378\" cy=\"273\" r=\"10\" fill=\"rgb(125,125,125)\"/><circle cx=\"316\" cy=\"159\" r=\"12\" fill=\"rgb(87,87,87)\"/><circle cx=\"227\" cy=\"382\" r=\"12\" fill=\"rgb(61,61,61)\"/></svg><svg viewBox='0 0 430 430' id=\"svg\" width=\"172\" height=\"172\"><circle cx=\"215\" cy=\"215\" r=\"205\" fill=\"none\" stroke=\"black\" stroke-width=\"2\" stroke-dasharray=\"3,3\"/> <circle cx=\"306\" cy=\"383\" r=\"8\" fill=\"rgb(255,0,0)\" class=\"agent_0_31\"/><circle cx=\"41\" cy=\"205\" r=\"11\" fill=\"rgb(255,255,255)\" class=\"agent_0_49\"/><circle cx=\"86\" cy=\"123\" r=\"10\" fill=\"rgb(255,255,255)\" class=\"agent_0_50\"/><circle cx=\"65\" cy=\"282\" r=\"10\" fill=\"rgb(255,255,255)\" class=\"agent_0_63\"/><circle cx=\"378\" cy=\"273\" r=\"10\" fill=\"rgb(255,255,255)\" class=\"agent_0_73\"/><circle cx=\"316\" cy=\"159\" r=\"12\" fill=\"rgb(255,255,255)\" class=\"agent_0_74\"/><circle cx=\"227\" cy=\"382\" r=\"12\" fill=\"rgb(255,0,0)\" class=\"agent_0_76\"/></svg></div>"
      ],
      "text/plain": [
       "<IPython.core.display.HTML object>"
      ]
     },
     "metadata": {},
     "output_type": "display_data"
    },
    {
     "name": "stdout",
     "output_type": "stream",
     "text": [
      "\n",
      "----------------------------------------\n",
      "\n",
      "human\tTHEM: is there a black <unk> one below them or did that not make it on screen ? <eos>\n",
      "partner_refs_true\n"
     ]
    },
    {
     "data": {
      "text/html": [
       "<div style=\"white-space: nowrap\"><svg viewbox='0 0 430 430' width=\"172\" height=\"172\" id=\"agent_0\"><circle cx=\"215\" cy=\"215\" r=\"205\" fill=\"none\" stroke=\"black\" stroke-width=\"2\" stroke-dasharray=\"3,3\"/><circle cx=\"306\" cy=\"383\" r=\"8\" fill=\"rgb(164,164,164)\"/><circle cx=\"41\" cy=\"205\" r=\"11\" fill=\"rgb(121,121,121)\"/><circle cx=\"86\" cy=\"123\" r=\"10\" fill=\"rgb(111,111,111)\"/><circle cx=\"65\" cy=\"282\" r=\"10\" fill=\"rgb(136,136,136)\"/><circle cx=\"378\" cy=\"273\" r=\"10\" fill=\"rgb(125,125,125)\"/><circle cx=\"316\" cy=\"159\" r=\"12\" fill=\"rgb(87,87,87)\"/><circle cx=\"227\" cy=\"382\" r=\"12\" fill=\"rgb(61,61,61)\"/></svg><svg viewBox='0 0 430 430' id=\"svg\" width=\"172\" height=\"172\"><circle cx=\"215\" cy=\"215\" r=\"205\" fill=\"none\" stroke=\"black\" stroke-width=\"2\" stroke-dasharray=\"3,3\"/> <circle cx=\"306\" cy=\"383\" r=\"8\" fill=\"rgb(255,255,255)\" class=\"agent_0_31\"/><circle cx=\"41\" cy=\"205\" r=\"11\" fill=\"rgb(255,255,255)\" class=\"agent_0_49\"/><circle cx=\"86\" cy=\"123\" r=\"10\" fill=\"rgb(255,255,255)\" class=\"agent_0_50\"/><circle cx=\"65\" cy=\"282\" r=\"10\" fill=\"rgb(255,255,255)\" class=\"agent_0_63\"/><circle cx=\"378\" cy=\"273\" r=\"10\" fill=\"rgb(255,255,255)\" class=\"agent_0_73\"/><circle cx=\"316\" cy=\"159\" r=\"12\" fill=\"rgb(255,255,255)\" class=\"agent_0_74\"/><circle cx=\"227\" cy=\"382\" r=\"12\" fill=\"rgb(255,0,0)\" class=\"agent_0_76\"/></svg><svg viewBox='0 0 430 430' id=\"svg\" width=\"172\" height=\"172\"><circle cx=\"215\" cy=\"215\" r=\"205\" fill=\"none\" stroke=\"black\" stroke-width=\"2\" stroke-dasharray=\"3,3\"/> <circle cx=\"306\" cy=\"383\" r=\"8\" fill=\"rgb(255,255,255)\" class=\"agent_0_31\"/><circle cx=\"41\" cy=\"205\" r=\"11\" fill=\"rgb(255,0,0)\" class=\"agent_0_49\"/><circle cx=\"86\" cy=\"123\" r=\"10\" fill=\"rgb(255,255,255)\" class=\"agent_0_50\"/><circle cx=\"65\" cy=\"282\" r=\"10\" fill=\"rgb(255,0,0)\" class=\"agent_0_63\"/><circle cx=\"378\" cy=\"273\" r=\"10\" fill=\"rgb(255,255,255)\" class=\"agent_0_73\"/><circle cx=\"316\" cy=\"159\" r=\"12\" fill=\"rgb(255,255,255)\" class=\"agent_0_74\"/><circle cx=\"227\" cy=\"382\" r=\"12\" fill=\"rgb(255,255,255)\" class=\"agent_0_76\"/></svg><svg viewBox='0 0 430 430' id=\"svg\" width=\"172\" height=\"172\"><circle cx=\"215\" cy=\"215\" r=\"205\" fill=\"none\" stroke=\"black\" stroke-width=\"2\" stroke-dasharray=\"3,3\"/> <circle cx=\"306\" cy=\"383\" r=\"8\" fill=\"rgb(255,255,255)\" class=\"agent_0_31\"/><circle cx=\"41\" cy=\"205\" r=\"11\" fill=\"rgb(255,255,255)\" class=\"agent_0_49\"/><circle cx=\"86\" cy=\"123\" r=\"10\" fill=\"rgb(255,255,255)\" class=\"agent_0_50\"/><circle cx=\"65\" cy=\"282\" r=\"10\" fill=\"rgb(255,255,255)\" class=\"agent_0_63\"/><circle cx=\"378\" cy=\"273\" r=\"10\" fill=\"rgb(255,255,255)\" class=\"agent_0_73\"/><circle cx=\"316\" cy=\"159\" r=\"12\" fill=\"rgb(255,255,255)\" class=\"agent_0_74\"/><circle cx=\"227\" cy=\"382\" r=\"12\" fill=\"rgb(255,0,0)\" class=\"agent_0_76\"/></svg></div>"
      ],
      "text/plain": [
       "<IPython.core.display.HTML object>"
      ]
     },
     "metadata": {},
     "output_type": "display_data"
    },
    {
     "name": "stdout",
     "output_type": "stream",
     "text": [
      "partner_refs_pred\n"
     ]
    },
    {
     "data": {
      "text/html": [
       "<div style=\"white-space: nowrap\"><svg viewbox='0 0 430 430' width=\"172\" height=\"172\" id=\"agent_0\"><circle cx=\"215\" cy=\"215\" r=\"205\" fill=\"none\" stroke=\"black\" stroke-width=\"2\" stroke-dasharray=\"3,3\"/><circle cx=\"306\" cy=\"383\" r=\"8\" fill=\"rgb(164,164,164)\"/><circle cx=\"41\" cy=\"205\" r=\"11\" fill=\"rgb(121,121,121)\"/><circle cx=\"86\" cy=\"123\" r=\"10\" fill=\"rgb(111,111,111)\"/><circle cx=\"65\" cy=\"282\" r=\"10\" fill=\"rgb(136,136,136)\"/><circle cx=\"378\" cy=\"273\" r=\"10\" fill=\"rgb(125,125,125)\"/><circle cx=\"316\" cy=\"159\" r=\"12\" fill=\"rgb(87,87,87)\"/><circle cx=\"227\" cy=\"382\" r=\"12\" fill=\"rgb(61,61,61)\"/></svg><svg viewBox='0 0 430 430' id=\"svg\" width=\"172\" height=\"172\"><circle cx=\"215\" cy=\"215\" r=\"205\" fill=\"none\" stroke=\"black\" stroke-width=\"2\" stroke-dasharray=\"3,3\"/> <circle cx=\"306\" cy=\"383\" r=\"8\" fill=\"rgb(255,255,255)\" class=\"agent_0_31\"/><circle cx=\"41\" cy=\"205\" r=\"11\" fill=\"rgb(255,255,255)\" class=\"agent_0_49\"/><circle cx=\"86\" cy=\"123\" r=\"10\" fill=\"rgb(255,255,255)\" class=\"agent_0_50\"/><circle cx=\"65\" cy=\"282\" r=\"10\" fill=\"rgb(255,255,255)\" class=\"agent_0_63\"/><circle cx=\"378\" cy=\"273\" r=\"10\" fill=\"rgb(255,255,255)\" class=\"agent_0_73\"/><circle cx=\"316\" cy=\"159\" r=\"12\" fill=\"rgb(255,255,255)\" class=\"agent_0_74\"/><circle cx=\"227\" cy=\"382\" r=\"12\" fill=\"rgb(255,255,255)\" class=\"agent_0_76\"/></svg><svg viewBox='0 0 430 430' id=\"svg\" width=\"172\" height=\"172\"><circle cx=\"215\" cy=\"215\" r=\"205\" fill=\"none\" stroke=\"black\" stroke-width=\"2\" stroke-dasharray=\"3,3\"/> <circle cx=\"306\" cy=\"383\" r=\"8\" fill=\"rgb(255,255,255)\" class=\"agent_0_31\"/><circle cx=\"41\" cy=\"205\" r=\"11\" fill=\"rgb(255,255,255)\" class=\"agent_0_49\"/><circle cx=\"86\" cy=\"123\" r=\"10\" fill=\"rgb(255,255,255)\" class=\"agent_0_50\"/><circle cx=\"65\" cy=\"282\" r=\"10\" fill=\"rgb(255,255,255)\" class=\"agent_0_63\"/><circle cx=\"378\" cy=\"273\" r=\"10\" fill=\"rgb(255,255,255)\" class=\"agent_0_73\"/><circle cx=\"316\" cy=\"159\" r=\"12\" fill=\"rgb(255,255,255)\" class=\"agent_0_74\"/><circle cx=\"227\" cy=\"382\" r=\"12\" fill=\"rgb(255,255,255)\" class=\"agent_0_76\"/></svg><svg viewBox='0 0 430 430' id=\"svg\" width=\"172\" height=\"172\"><circle cx=\"215\" cy=\"215\" r=\"205\" fill=\"none\" stroke=\"black\" stroke-width=\"2\" stroke-dasharray=\"3,3\"/> <circle cx=\"306\" cy=\"383\" r=\"8\" fill=\"rgb(255,255,255)\" class=\"agent_0_31\"/><circle cx=\"41\" cy=\"205\" r=\"11\" fill=\"rgb(255,255,255)\" class=\"agent_0_49\"/><circle cx=\"86\" cy=\"123\" r=\"10\" fill=\"rgb(255,255,255)\" class=\"agent_0_50\"/><circle cx=\"65\" cy=\"282\" r=\"10\" fill=\"rgb(255,255,255)\" class=\"agent_0_63\"/><circle cx=\"378\" cy=\"273\" r=\"10\" fill=\"rgb(255,255,255)\" class=\"agent_0_73\"/><circle cx=\"316\" cy=\"159\" r=\"12\" fill=\"rgb(255,255,255)\" class=\"agent_0_74\"/><circle cx=\"227\" cy=\"382\" r=\"12\" fill=\"rgb(255,255,255)\" class=\"agent_0_76\"/></svg></div>"
      ],
      "text/plain": [
       "<IPython.core.display.HTML object>"
      ]
     },
     "metadata": {},
     "output_type": "display_data"
    },
    {
     "name": "stdout",
     "output_type": "stream",
     "text": [
      "\n",
      "----------------------------------------\n",
      "\n",
      "to_mention_true\n"
     ]
    },
    {
     "data": {
      "text/html": [
       "<div style=\"white-space: nowrap\"><svg viewbox='0 0 430 430' width=\"172\" height=\"172\" id=\"agent_0\"><circle cx=\"215\" cy=\"215\" r=\"205\" fill=\"none\" stroke=\"black\" stroke-width=\"2\" stroke-dasharray=\"3,3\"/><circle cx=\"306\" cy=\"383\" r=\"8\" fill=\"rgb(164,164,164)\"/><circle cx=\"41\" cy=\"205\" r=\"11\" fill=\"rgb(121,121,121)\"/><circle cx=\"86\" cy=\"123\" r=\"10\" fill=\"rgb(111,111,111)\"/><circle cx=\"65\" cy=\"282\" r=\"10\" fill=\"rgb(136,136,136)\"/><circle cx=\"378\" cy=\"273\" r=\"10\" fill=\"rgb(125,125,125)\"/><circle cx=\"316\" cy=\"159\" r=\"12\" fill=\"rgb(87,87,87)\"/><circle cx=\"227\" cy=\"382\" r=\"12\" fill=\"rgb(61,61,61)\"/></svg><svg viewBox='0 0 430 430' id=\"svg\" width=\"172\" height=\"172\"><circle cx=\"215\" cy=\"215\" r=\"205\" fill=\"none\" stroke=\"black\" stroke-width=\"2\" stroke-dasharray=\"3,3\"/> <circle cx=\"306\" cy=\"383\" r=\"8\" fill=\"rgb(255,255,255)\" class=\"agent_0_31\"/><circle cx=\"41\" cy=\"205\" r=\"11\" fill=\"rgb(255,255,255)\" class=\"agent_0_49\"/><circle cx=\"86\" cy=\"123\" r=\"10\" fill=\"rgb(255,255,255)\" class=\"agent_0_50\"/><circle cx=\"65\" cy=\"282\" r=\"10\" fill=\"rgb(255,255,255)\" class=\"agent_0_63\"/><circle cx=\"378\" cy=\"273\" r=\"10\" fill=\"rgb(255,255,255)\" class=\"agent_0_73\"/><circle cx=\"316\" cy=\"159\" r=\"12\" fill=\"rgb(255,255,255)\" class=\"agent_0_74\"/><circle cx=\"227\" cy=\"382\" r=\"12\" fill=\"rgb(255,0,0)\" class=\"agent_0_76\"/></svg><svg viewBox='0 0 430 430' id=\"svg\" width=\"172\" height=\"172\"><circle cx=\"215\" cy=\"215\" r=\"205\" fill=\"none\" stroke=\"black\" stroke-width=\"2\" stroke-dasharray=\"3,3\"/> <circle cx=\"306\" cy=\"383\" r=\"8\" fill=\"rgb(255,0,0)\" class=\"agent_0_31\"/><circle cx=\"41\" cy=\"205\" r=\"11\" fill=\"rgb(255,255,255)\" class=\"agent_0_49\"/><circle cx=\"86\" cy=\"123\" r=\"10\" fill=\"rgb(255,255,255)\" class=\"agent_0_50\"/><circle cx=\"65\" cy=\"282\" r=\"10\" fill=\"rgb(255,255,255)\" class=\"agent_0_63\"/><circle cx=\"378\" cy=\"273\" r=\"10\" fill=\"rgb(255,255,255)\" class=\"agent_0_73\"/><circle cx=\"316\" cy=\"159\" r=\"12\" fill=\"rgb(255,255,255)\" class=\"agent_0_74\"/><circle cx=\"227\" cy=\"382\" r=\"12\" fill=\"rgb(255,255,255)\" class=\"agent_0_76\"/></svg><svg viewBox='0 0 430 430' id=\"svg\" width=\"172\" height=\"172\"><circle cx=\"215\" cy=\"215\" r=\"205\" fill=\"none\" stroke=\"black\" stroke-width=\"2\" stroke-dasharray=\"3,3\"/> <circle cx=\"306\" cy=\"383\" r=\"8\" fill=\"rgb(255,255,255)\" class=\"agent_0_31\"/><circle cx=\"41\" cy=\"205\" r=\"11\" fill=\"rgb(255,255,255)\" class=\"agent_0_49\"/><circle cx=\"86\" cy=\"123\" r=\"10\" fill=\"rgb(255,255,255)\" class=\"agent_0_50\"/><circle cx=\"65\" cy=\"282\" r=\"10\" fill=\"rgb(255,255,255)\" class=\"agent_0_63\"/><circle cx=\"378\" cy=\"273\" r=\"10\" fill=\"rgb(255,255,255)\" class=\"agent_0_73\"/><circle cx=\"316\" cy=\"159\" r=\"12\" fill=\"rgb(255,255,255)\" class=\"agent_0_74\"/><circle cx=\"227\" cy=\"382\" r=\"12\" fill=\"rgb(255,0,0)\" class=\"agent_0_76\"/></svg></div>"
      ],
      "text/plain": [
       "<IPython.core.display.HTML object>"
      ]
     },
     "metadata": {},
     "output_type": "display_data"
    },
    {
     "name": "stdout",
     "output_type": "stream",
     "text": [
      "to_mention_pred\n"
     ]
    },
    {
     "data": {
      "text/html": [
       "<div style=\"white-space: nowrap\"><svg viewbox='0 0 430 430' width=\"172\" height=\"172\" id=\"agent_0\"><circle cx=\"215\" cy=\"215\" r=\"205\" fill=\"none\" stroke=\"black\" stroke-width=\"2\" stroke-dasharray=\"3,3\"/><circle cx=\"306\" cy=\"383\" r=\"8\" fill=\"rgb(164,164,164)\"/><circle cx=\"41\" cy=\"205\" r=\"11\" fill=\"rgb(121,121,121)\"/><circle cx=\"86\" cy=\"123\" r=\"10\" fill=\"rgb(111,111,111)\"/><circle cx=\"65\" cy=\"282\" r=\"10\" fill=\"rgb(136,136,136)\"/><circle cx=\"378\" cy=\"273\" r=\"10\" fill=\"rgb(125,125,125)\"/><circle cx=\"316\" cy=\"159\" r=\"12\" fill=\"rgb(87,87,87)\"/><circle cx=\"227\" cy=\"382\" r=\"12\" fill=\"rgb(61,61,61)\"/></svg><svg viewBox='0 0 430 430' id=\"svg\" width=\"172\" height=\"172\"><circle cx=\"215\" cy=\"215\" r=\"205\" fill=\"none\" stroke=\"black\" stroke-width=\"2\" stroke-dasharray=\"3,3\"/> <circle cx=\"306\" cy=\"383\" r=\"8\" fill=\"rgb(255,255,255)\" class=\"agent_0_31\"/><circle cx=\"41\" cy=\"205\" r=\"11\" fill=\"rgb(255,255,255)\" class=\"agent_0_49\"/><circle cx=\"86\" cy=\"123\" r=\"10\" fill=\"rgb(255,255,255)\" class=\"agent_0_50\"/><circle cx=\"65\" cy=\"282\" r=\"10\" fill=\"rgb(255,255,255)\" class=\"agent_0_63\"/><circle cx=\"378\" cy=\"273\" r=\"10\" fill=\"rgb(255,255,255)\" class=\"agent_0_73\"/><circle cx=\"316\" cy=\"159\" r=\"12\" fill=\"rgb(255,255,255)\" class=\"agent_0_74\"/><circle cx=\"227\" cy=\"382\" r=\"12\" fill=\"rgb(255,0,0)\" class=\"agent_0_76\"/></svg><svg viewBox='0 0 430 430' id=\"svg\" width=\"172\" height=\"172\"><circle cx=\"215\" cy=\"215\" r=\"205\" fill=\"none\" stroke=\"black\" stroke-width=\"2\" stroke-dasharray=\"3,3\"/> <circle cx=\"306\" cy=\"383\" r=\"8\" fill=\"rgb(255,0,0)\" class=\"agent_0_31\"/><circle cx=\"41\" cy=\"205\" r=\"11\" fill=\"rgb(255,255,255)\" class=\"agent_0_49\"/><circle cx=\"86\" cy=\"123\" r=\"10\" fill=\"rgb(255,255,255)\" class=\"agent_0_50\"/><circle cx=\"65\" cy=\"282\" r=\"10\" fill=\"rgb(255,255,255)\" class=\"agent_0_63\"/><circle cx=\"378\" cy=\"273\" r=\"10\" fill=\"rgb(255,255,255)\" class=\"agent_0_73\"/><circle cx=\"316\" cy=\"159\" r=\"12\" fill=\"rgb(255,255,255)\" class=\"agent_0_74\"/><circle cx=\"227\" cy=\"382\" r=\"12\" fill=\"rgb(255,255,255)\" class=\"agent_0_76\"/></svg><svg viewBox='0 0 430 430' id=\"svg\" width=\"172\" height=\"172\"><circle cx=\"215\" cy=\"215\" r=\"205\" fill=\"none\" stroke=\"black\" stroke-width=\"2\" stroke-dasharray=\"3,3\"/> <circle cx=\"306\" cy=\"383\" r=\"8\" fill=\"rgb(255,255,255)\" class=\"agent_0_31\"/><circle cx=\"41\" cy=\"205\" r=\"11\" fill=\"rgb(255,255,255)\" class=\"agent_0_49\"/><circle cx=\"86\" cy=\"123\" r=\"10\" fill=\"rgb(255,255,255)\" class=\"agent_0_50\"/><circle cx=\"65\" cy=\"282\" r=\"10\" fill=\"rgb(255,255,255)\" class=\"agent_0_63\"/><circle cx=\"378\" cy=\"273\" r=\"10\" fill=\"rgb(255,255,255)\" class=\"agent_0_73\"/><circle cx=\"316\" cy=\"159\" r=\"12\" fill=\"rgb(255,255,255)\" class=\"agent_0_74\"/><circle cx=\"227\" cy=\"382\" r=\"12\" fill=\"rgb(255,0,0)\" class=\"agent_0_76\"/></svg></div>"
      ],
      "text/plain": [
       "<IPython.core.display.HTML object>"
      ]
     },
     "metadata": {},
     "output_type": "display_data"
    },
    {
     "name": "stdout",
     "output_type": "stream",
     "text": [
      "sample 0\tyes . it is on the left of the circle and there is a small light grey dot to the right of it <eos>\n",
      "sample 1\tyes . is the one on the left of the two dark grey dots ? if so click the black one ! <selection>\n",
      "sample 2\tyes , it is also a little darker . i have a large dark grey dot and a smaller black dot <eos>\n",
      "sample 3\tyes , the black one is the smallest . i have a small light grey dot with a slightly smaller dark grey dot to the left and slightly above it <eos>\n",
      "sample 4\tyes . it is to the right of the large dot . is there a small light grey dot to the left and slightly above ? <eos>\n",
      "sample 5\tyes . is there a large black dot to the right of the small light grey dot ? if so click the black one ! <eos>\n",
      "sample 6\tyes , it 's a little darker . with a small light grey one to its lower left ? <eos>\n",
      "sample 7\tyes . it 's the darkest one , there is a small light grey dot above it <eos>\n",
      "sample 8\tyes , it is to the right of the circle . is there a small light grey dot to the right of the black dot ? <eos>\n",
      "sample 9\tyes . is the one on the left of the two almost identical sized dots ? the one on the right is a little darker ? <eos>\n",
      "argmax\tyes , the black one is the smallest , and the one on the right is a little smaller than the one on the right <eos>\n",
      "human\ta big black one with a very light gray one just to the right of it ? <eos>\n",
      "refs_true\n"
     ]
    },
    {
     "data": {
      "text/html": [
       "<div style=\"white-space: nowrap\"><svg viewbox='0 0 430 430' width=\"172\" height=\"172\" id=\"agent_0\"><circle cx=\"215\" cy=\"215\" r=\"205\" fill=\"none\" stroke=\"black\" stroke-width=\"2\" stroke-dasharray=\"3,3\"/><circle cx=\"306\" cy=\"383\" r=\"8\" fill=\"rgb(164,164,164)\"/><circle cx=\"41\" cy=\"205\" r=\"11\" fill=\"rgb(121,121,121)\"/><circle cx=\"86\" cy=\"123\" r=\"10\" fill=\"rgb(111,111,111)\"/><circle cx=\"65\" cy=\"282\" r=\"10\" fill=\"rgb(136,136,136)\"/><circle cx=\"378\" cy=\"273\" r=\"10\" fill=\"rgb(125,125,125)\"/><circle cx=\"316\" cy=\"159\" r=\"12\" fill=\"rgb(87,87,87)\"/><circle cx=\"227\" cy=\"382\" r=\"12\" fill=\"rgb(61,61,61)\"/></svg><svg viewBox='0 0 430 430' id=\"svg\" width=\"172\" height=\"172\"><circle cx=\"215\" cy=\"215\" r=\"205\" fill=\"none\" stroke=\"black\" stroke-width=\"2\" stroke-dasharray=\"3,3\"/> <circle cx=\"306\" cy=\"383\" r=\"8\" fill=\"rgb(255,255,255)\" class=\"agent_0_31\"/><circle cx=\"41\" cy=\"205\" r=\"11\" fill=\"rgb(255,255,255)\" class=\"agent_0_49\"/><circle cx=\"86\" cy=\"123\" r=\"10\" fill=\"rgb(255,255,255)\" class=\"agent_0_50\"/><circle cx=\"65\" cy=\"282\" r=\"10\" fill=\"rgb(255,255,255)\" class=\"agent_0_63\"/><circle cx=\"378\" cy=\"273\" r=\"10\" fill=\"rgb(255,255,255)\" class=\"agent_0_73\"/><circle cx=\"316\" cy=\"159\" r=\"12\" fill=\"rgb(255,255,255)\" class=\"agent_0_74\"/><circle cx=\"227\" cy=\"382\" r=\"12\" fill=\"rgb(255,0,0)\" class=\"agent_0_76\"/></svg><svg viewBox='0 0 430 430' id=\"svg\" width=\"172\" height=\"172\"><circle cx=\"215\" cy=\"215\" r=\"205\" fill=\"none\" stroke=\"black\" stroke-width=\"2\" stroke-dasharray=\"3,3\"/> <circle cx=\"306\" cy=\"383\" r=\"8\" fill=\"rgb(255,0,0)\" class=\"agent_0_31\"/><circle cx=\"41\" cy=\"205\" r=\"11\" fill=\"rgb(255,255,255)\" class=\"agent_0_49\"/><circle cx=\"86\" cy=\"123\" r=\"10\" fill=\"rgb(255,255,255)\" class=\"agent_0_50\"/><circle cx=\"65\" cy=\"282\" r=\"10\" fill=\"rgb(255,255,255)\" class=\"agent_0_63\"/><circle cx=\"378\" cy=\"273\" r=\"10\" fill=\"rgb(255,255,255)\" class=\"agent_0_73\"/><circle cx=\"316\" cy=\"159\" r=\"12\" fill=\"rgb(255,255,255)\" class=\"agent_0_74\"/><circle cx=\"227\" cy=\"382\" r=\"12\" fill=\"rgb(255,255,255)\" class=\"agent_0_76\"/></svg><svg viewBox='0 0 430 430' id=\"svg\" width=\"172\" height=\"172\"><circle cx=\"215\" cy=\"215\" r=\"205\" fill=\"none\" stroke=\"black\" stroke-width=\"2\" stroke-dasharray=\"3,3\"/> <circle cx=\"306\" cy=\"383\" r=\"8\" fill=\"rgb(255,255,255)\" class=\"agent_0_31\"/><circle cx=\"41\" cy=\"205\" r=\"11\" fill=\"rgb(255,255,255)\" class=\"agent_0_49\"/><circle cx=\"86\" cy=\"123\" r=\"10\" fill=\"rgb(255,255,255)\" class=\"agent_0_50\"/><circle cx=\"65\" cy=\"282\" r=\"10\" fill=\"rgb(255,255,255)\" class=\"agent_0_63\"/><circle cx=\"378\" cy=\"273\" r=\"10\" fill=\"rgb(255,255,255)\" class=\"agent_0_73\"/><circle cx=\"316\" cy=\"159\" r=\"12\" fill=\"rgb(255,255,255)\" class=\"agent_0_74\"/><circle cx=\"227\" cy=\"382\" r=\"12\" fill=\"rgb(255,0,0)\" class=\"agent_0_76\"/></svg></div>"
      ],
      "text/plain": [
       "<IPython.core.display.HTML object>"
      ]
     },
     "metadata": {},
     "output_type": "display_data"
    },
    {
     "name": "stdout",
     "output_type": "stream",
     "text": [
      "refs_pred\n"
     ]
    },
    {
     "data": {
      "text/html": [
       "<div style=\"white-space: nowrap\"><svg viewbox='0 0 430 430' width=\"172\" height=\"172\" id=\"agent_0\"><circle cx=\"215\" cy=\"215\" r=\"205\" fill=\"none\" stroke=\"black\" stroke-width=\"2\" stroke-dasharray=\"3,3\"/><circle cx=\"306\" cy=\"383\" r=\"8\" fill=\"rgb(164,164,164)\"/><circle cx=\"41\" cy=\"205\" r=\"11\" fill=\"rgb(121,121,121)\"/><circle cx=\"86\" cy=\"123\" r=\"10\" fill=\"rgb(111,111,111)\"/><circle cx=\"65\" cy=\"282\" r=\"10\" fill=\"rgb(136,136,136)\"/><circle cx=\"378\" cy=\"273\" r=\"10\" fill=\"rgb(125,125,125)\"/><circle cx=\"316\" cy=\"159\" r=\"12\" fill=\"rgb(87,87,87)\"/><circle cx=\"227\" cy=\"382\" r=\"12\" fill=\"rgb(61,61,61)\"/></svg><svg viewBox='0 0 430 430' id=\"svg\" width=\"172\" height=\"172\"><circle cx=\"215\" cy=\"215\" r=\"205\" fill=\"none\" stroke=\"black\" stroke-width=\"2\" stroke-dasharray=\"3,3\"/> <circle cx=\"306\" cy=\"383\" r=\"8\" fill=\"rgb(255,255,255)\" class=\"agent_0_31\"/><circle cx=\"41\" cy=\"205\" r=\"11\" fill=\"rgb(255,255,255)\" class=\"agent_0_49\"/><circle cx=\"86\" cy=\"123\" r=\"10\" fill=\"rgb(255,255,255)\" class=\"agent_0_50\"/><circle cx=\"65\" cy=\"282\" r=\"10\" fill=\"rgb(255,255,255)\" class=\"agent_0_63\"/><circle cx=\"378\" cy=\"273\" r=\"10\" fill=\"rgb(255,255,255)\" class=\"agent_0_73\"/><circle cx=\"316\" cy=\"159\" r=\"12\" fill=\"rgb(255,255,255)\" class=\"agent_0_74\"/><circle cx=\"227\" cy=\"382\" r=\"12\" fill=\"rgb(255,0,0)\" class=\"agent_0_76\"/></svg><svg viewBox='0 0 430 430' id=\"svg\" width=\"172\" height=\"172\"><circle cx=\"215\" cy=\"215\" r=\"205\" fill=\"none\" stroke=\"black\" stroke-width=\"2\" stroke-dasharray=\"3,3\"/> <circle cx=\"306\" cy=\"383\" r=\"8\" fill=\"rgb(255,0,0)\" class=\"agent_0_31\"/><circle cx=\"41\" cy=\"205\" r=\"11\" fill=\"rgb(255,255,255)\" class=\"agent_0_49\"/><circle cx=\"86\" cy=\"123\" r=\"10\" fill=\"rgb(255,255,255)\" class=\"agent_0_50\"/><circle cx=\"65\" cy=\"282\" r=\"10\" fill=\"rgb(255,255,255)\" class=\"agent_0_63\"/><circle cx=\"378\" cy=\"273\" r=\"10\" fill=\"rgb(255,255,255)\" class=\"agent_0_73\"/><circle cx=\"316\" cy=\"159\" r=\"12\" fill=\"rgb(255,255,255)\" class=\"agent_0_74\"/><circle cx=\"227\" cy=\"382\" r=\"12\" fill=\"rgb(255,255,255)\" class=\"agent_0_76\"/></svg><svg viewBox='0 0 430 430' id=\"svg\" width=\"172\" height=\"172\"><circle cx=\"215\" cy=\"215\" r=\"205\" fill=\"none\" stroke=\"black\" stroke-width=\"2\" stroke-dasharray=\"3,3\"/> <circle cx=\"306\" cy=\"383\" r=\"8\" fill=\"rgb(255,255,255)\" class=\"agent_0_31\"/><circle cx=\"41\" cy=\"205\" r=\"11\" fill=\"rgb(255,255,255)\" class=\"agent_0_49\"/><circle cx=\"86\" cy=\"123\" r=\"10\" fill=\"rgb(255,255,255)\" class=\"agent_0_50\"/><circle cx=\"65\" cy=\"282\" r=\"10\" fill=\"rgb(255,255,255)\" class=\"agent_0_63\"/><circle cx=\"378\" cy=\"273\" r=\"10\" fill=\"rgb(255,255,255)\" class=\"agent_0_73\"/><circle cx=\"316\" cy=\"159\" r=\"12\" fill=\"rgb(255,255,255)\" class=\"agent_0_74\"/><circle cx=\"227\" cy=\"382\" r=\"12\" fill=\"rgb(255,0,0)\" class=\"agent_0_76\"/></svg></div>"
      ],
      "text/plain": [
       "<IPython.core.display.HTML object>"
      ]
     },
     "metadata": {},
     "output_type": "display_data"
    },
    {
     "name": "stdout",
     "output_type": "stream",
     "text": [
      "\n",
      "----------------------------------------\n",
      "\n",
      "human\tTHEM: yep , take the black one <selection>\n",
      "partner_refs_true\n"
     ]
    },
    {
     "data": {
      "text/html": [
       "<div style=\"white-space: nowrap\"><svg viewbox='0 0 430 430' width=\"172\" height=\"172\" id=\"agent_0\"><circle cx=\"215\" cy=\"215\" r=\"205\" fill=\"none\" stroke=\"black\" stroke-width=\"2\" stroke-dasharray=\"3,3\"/><circle cx=\"306\" cy=\"383\" r=\"8\" fill=\"rgb(164,164,164)\"/><circle cx=\"41\" cy=\"205\" r=\"11\" fill=\"rgb(121,121,121)\"/><circle cx=\"86\" cy=\"123\" r=\"10\" fill=\"rgb(111,111,111)\"/><circle cx=\"65\" cy=\"282\" r=\"10\" fill=\"rgb(136,136,136)\"/><circle cx=\"378\" cy=\"273\" r=\"10\" fill=\"rgb(125,125,125)\"/><circle cx=\"316\" cy=\"159\" r=\"12\" fill=\"rgb(87,87,87)\"/><circle cx=\"227\" cy=\"382\" r=\"12\" fill=\"rgb(61,61,61)\"/></svg><svg viewBox='0 0 430 430' id=\"svg\" width=\"172\" height=\"172\"><circle cx=\"215\" cy=\"215\" r=\"205\" fill=\"none\" stroke=\"black\" stroke-width=\"2\" stroke-dasharray=\"3,3\"/> <circle cx=\"306\" cy=\"383\" r=\"8\" fill=\"rgb(255,255,255)\" class=\"agent_0_31\"/><circle cx=\"41\" cy=\"205\" r=\"11\" fill=\"rgb(255,255,255)\" class=\"agent_0_49\"/><circle cx=\"86\" cy=\"123\" r=\"10\" fill=\"rgb(255,255,255)\" class=\"agent_0_50\"/><circle cx=\"65\" cy=\"282\" r=\"10\" fill=\"rgb(255,255,255)\" class=\"agent_0_63\"/><circle cx=\"378\" cy=\"273\" r=\"10\" fill=\"rgb(255,255,255)\" class=\"agent_0_73\"/><circle cx=\"316\" cy=\"159\" r=\"12\" fill=\"rgb(255,255,255)\" class=\"agent_0_74\"/><circle cx=\"227\" cy=\"382\" r=\"12\" fill=\"rgb(255,0,0)\" class=\"agent_0_76\"/></svg></div>"
      ],
      "text/plain": [
       "<IPython.core.display.HTML object>"
      ]
     },
     "metadata": {},
     "output_type": "display_data"
    },
    {
     "name": "stdout",
     "output_type": "stream",
     "text": [
      "partner_refs_pred\n"
     ]
    },
    {
     "data": {
      "text/html": [
       "<div style=\"white-space: nowrap\"><svg viewbox='0 0 430 430' width=\"172\" height=\"172\" id=\"agent_0\"><circle cx=\"215\" cy=\"215\" r=\"205\" fill=\"none\" stroke=\"black\" stroke-width=\"2\" stroke-dasharray=\"3,3\"/><circle cx=\"306\" cy=\"383\" r=\"8\" fill=\"rgb(164,164,164)\"/><circle cx=\"41\" cy=\"205\" r=\"11\" fill=\"rgb(121,121,121)\"/><circle cx=\"86\" cy=\"123\" r=\"10\" fill=\"rgb(111,111,111)\"/><circle cx=\"65\" cy=\"282\" r=\"10\" fill=\"rgb(136,136,136)\"/><circle cx=\"378\" cy=\"273\" r=\"10\" fill=\"rgb(125,125,125)\"/><circle cx=\"316\" cy=\"159\" r=\"12\" fill=\"rgb(87,87,87)\"/><circle cx=\"227\" cy=\"382\" r=\"12\" fill=\"rgb(61,61,61)\"/></svg><svg viewBox='0 0 430 430' id=\"svg\" width=\"172\" height=\"172\"><circle cx=\"215\" cy=\"215\" r=\"205\" fill=\"none\" stroke=\"black\" stroke-width=\"2\" stroke-dasharray=\"3,3\"/> <circle cx=\"306\" cy=\"383\" r=\"8\" fill=\"rgb(255,255,255)\" class=\"agent_0_31\"/><circle cx=\"41\" cy=\"205\" r=\"11\" fill=\"rgb(255,255,255)\" class=\"agent_0_49\"/><circle cx=\"86\" cy=\"123\" r=\"10\" fill=\"rgb(255,255,255)\" class=\"agent_0_50\"/><circle cx=\"65\" cy=\"282\" r=\"10\" fill=\"rgb(255,255,255)\" class=\"agent_0_63\"/><circle cx=\"378\" cy=\"273\" r=\"10\" fill=\"rgb(255,255,255)\" class=\"agent_0_73\"/><circle cx=\"316\" cy=\"159\" r=\"12\" fill=\"rgb(255,255,255)\" class=\"agent_0_74\"/><circle cx=\"227\" cy=\"382\" r=\"12\" fill=\"rgb(255,0,0)\" class=\"agent_0_76\"/></svg></div>"
      ],
      "text/plain": [
       "<IPython.core.display.HTML object>"
      ]
     },
     "metadata": {},
     "output_type": "display_data"
    },
    {
     "name": "stdout",
     "output_type": "stream",
     "text": [
      "\n",
      "----------------------------------------\n",
      "\n"
     ]
    }
   ],
   "source": [
    "force_contexts_and_mentions(4)"
   ]
  },
  {
   "cell_type": "code",
   "execution_count": 91,
   "metadata": {
    "scrolled": false
   },
   "outputs": [
    {
     "name": "stdout",
     "output_type": "stream",
     "text": [
      "human\tTHEM: i see a large gray dot on the top on the dotted line <eos>\n",
      "partner_refs_true\n"
     ]
    },
    {
     "data": {
      "text/html": [
       "<div style=\"white-space: nowrap\"><svg viewbox='0 0 430 430' width=\"172\" height=\"172\" id=\"agent_0\"><circle cx=\"215\" cy=\"215\" r=\"205\" fill=\"none\" stroke=\"black\" stroke-width=\"2\" stroke-dasharray=\"3,3\"/><circle cx=\"320\" cy=\"322\" r=\"7\" fill=\"rgb(110,110,110)\"/><circle cx=\"129\" cy=\"218\" r=\"12\" fill=\"rgb(109,109,109)\"/><circle cx=\"253\" cy=\"333\" r=\"11\" fill=\"rgb(79,79,79)\"/><circle cx=\"193\" cy=\"377\" r=\"12\" fill=\"rgb(146,146,146)\"/><circle cx=\"57\" cy=\"92\" r=\"11\" fill=\"rgb(197,197,197)\"/><circle cx=\"155\" cy=\"368\" r=\"9\" fill=\"rgb(154,154,154)\"/><circle cx=\"217\" cy=\"108\" r=\"13\" fill=\"rgb(128,128,128)\"/></svg><svg viewBox='0 0 430 430' id=\"svg\" width=\"172\" height=\"172\"><circle cx=\"215\" cy=\"215\" r=\"205\" fill=\"none\" stroke=\"black\" stroke-width=\"2\" stroke-dasharray=\"3,3\"/> <circle cx=\"320\" cy=\"322\" r=\"7\" fill=\"rgb(255,255,255)\" class=\"agent_0_4\"/><circle cx=\"129\" cy=\"218\" r=\"12\" fill=\"rgb(255,0,0)\" class=\"agent_0_18\"/><circle cx=\"253\" cy=\"333\" r=\"11\" fill=\"rgb(255,255,255)\" class=\"agent_0_40\"/><circle cx=\"193\" cy=\"377\" r=\"12\" fill=\"rgb(255,255,255)\" class=\"agent_0_50\"/><circle cx=\"57\" cy=\"92\" r=\"11\" fill=\"rgb(255,255,255)\" class=\"agent_0_51\"/><circle cx=\"155\" cy=\"368\" r=\"9\" fill=\"rgb(255,255,255)\" class=\"agent_0_66\"/><circle cx=\"217\" cy=\"108\" r=\"13\" fill=\"rgb(255,255,255)\" class=\"agent_0_70\"/></svg></div>"
      ],
      "text/plain": [
       "<IPython.core.display.HTML object>"
      ]
     },
     "metadata": {},
     "output_type": "display_data"
    },
    {
     "name": "stdout",
     "output_type": "stream",
     "text": [
      "partner_refs_pred\n"
     ]
    },
    {
     "data": {
      "text/html": [
       "<div style=\"white-space: nowrap\"><svg viewbox='0 0 430 430' width=\"172\" height=\"172\" id=\"agent_0\"><circle cx=\"215\" cy=\"215\" r=\"205\" fill=\"none\" stroke=\"black\" stroke-width=\"2\" stroke-dasharray=\"3,3\"/><circle cx=\"320\" cy=\"322\" r=\"7\" fill=\"rgb(110,110,110)\"/><circle cx=\"129\" cy=\"218\" r=\"12\" fill=\"rgb(109,109,109)\"/><circle cx=\"253\" cy=\"333\" r=\"11\" fill=\"rgb(79,79,79)\"/><circle cx=\"193\" cy=\"377\" r=\"12\" fill=\"rgb(146,146,146)\"/><circle cx=\"57\" cy=\"92\" r=\"11\" fill=\"rgb(197,197,197)\"/><circle cx=\"155\" cy=\"368\" r=\"9\" fill=\"rgb(154,154,154)\"/><circle cx=\"217\" cy=\"108\" r=\"13\" fill=\"rgb(128,128,128)\"/></svg><svg viewBox='0 0 430 430' id=\"svg\" width=\"172\" height=\"172\"><circle cx=\"215\" cy=\"215\" r=\"205\" fill=\"none\" stroke=\"black\" stroke-width=\"2\" stroke-dasharray=\"3,3\"/> <circle cx=\"320\" cy=\"322\" r=\"7\" fill=\"rgb(255,255,255)\" class=\"agent_0_4\"/><circle cx=\"129\" cy=\"218\" r=\"12\" fill=\"rgb(255,255,255)\" class=\"agent_0_18\"/><circle cx=\"253\" cy=\"333\" r=\"11\" fill=\"rgb(255,255,255)\" class=\"agent_0_40\"/><circle cx=\"193\" cy=\"377\" r=\"12\" fill=\"rgb(255,255,255)\" class=\"agent_0_50\"/><circle cx=\"57\" cy=\"92\" r=\"11\" fill=\"rgb(255,255,255)\" class=\"agent_0_51\"/><circle cx=\"155\" cy=\"368\" r=\"9\" fill=\"rgb(255,255,255)\" class=\"agent_0_66\"/><circle cx=\"217\" cy=\"108\" r=\"13\" fill=\"rgb(255,0,0)\" class=\"agent_0_70\"/></svg></div>"
      ],
      "text/plain": [
       "<IPython.core.display.HTML object>"
      ]
     },
     "metadata": {},
     "output_type": "display_data"
    },
    {
     "name": "stdout",
     "output_type": "stream",
     "text": [
      "\n",
      "----------------------------------------\n",
      "\n",
      "to_mention_true\n"
     ]
    },
    {
     "data": {
      "text/html": [
       "<div style=\"white-space: nowrap\"><svg viewbox='0 0 430 430' width=\"172\" height=\"172\" id=\"agent_0\"><circle cx=\"215\" cy=\"215\" r=\"205\" fill=\"none\" stroke=\"black\" stroke-width=\"2\" stroke-dasharray=\"3,3\"/><circle cx=\"320\" cy=\"322\" r=\"7\" fill=\"rgb(110,110,110)\"/><circle cx=\"129\" cy=\"218\" r=\"12\" fill=\"rgb(109,109,109)\"/><circle cx=\"253\" cy=\"333\" r=\"11\" fill=\"rgb(79,79,79)\"/><circle cx=\"193\" cy=\"377\" r=\"12\" fill=\"rgb(146,146,146)\"/><circle cx=\"57\" cy=\"92\" r=\"11\" fill=\"rgb(197,197,197)\"/><circle cx=\"155\" cy=\"368\" r=\"9\" fill=\"rgb(154,154,154)\"/><circle cx=\"217\" cy=\"108\" r=\"13\" fill=\"rgb(128,128,128)\"/></svg><svg viewBox='0 0 430 430' id=\"svg\" width=\"172\" height=\"172\"><circle cx=\"215\" cy=\"215\" r=\"205\" fill=\"none\" stroke=\"black\" stroke-width=\"2\" stroke-dasharray=\"3,3\"/> <circle cx=\"320\" cy=\"322\" r=\"7\" fill=\"rgb(255,255,255)\" class=\"agent_0_4\"/><circle cx=\"129\" cy=\"218\" r=\"12\" fill=\"rgb(255,255,255)\" class=\"agent_0_18\"/><circle cx=\"253\" cy=\"333\" r=\"11\" fill=\"rgb(255,255,255)\" class=\"agent_0_40\"/><circle cx=\"193\" cy=\"377\" r=\"12\" fill=\"rgb(255,0,0)\" class=\"agent_0_50\"/><circle cx=\"57\" cy=\"92\" r=\"11\" fill=\"rgb(255,255,255)\" class=\"agent_0_51\"/><circle cx=\"155\" cy=\"368\" r=\"9\" fill=\"rgb(255,0,0)\" class=\"agent_0_66\"/><circle cx=\"217\" cy=\"108\" r=\"13\" fill=\"rgb(255,255,255)\" class=\"agent_0_70\"/></svg><svg viewBox='0 0 430 430' id=\"svg\" width=\"172\" height=\"172\"><circle cx=\"215\" cy=\"215\" r=\"205\" fill=\"none\" stroke=\"black\" stroke-width=\"2\" stroke-dasharray=\"3,3\"/> <circle cx=\"320\" cy=\"322\" r=\"7\" fill=\"rgb(255,255,255)\" class=\"agent_0_4\"/><circle cx=\"129\" cy=\"218\" r=\"12\" fill=\"rgb(255,255,255)\" class=\"agent_0_18\"/><circle cx=\"253\" cy=\"333\" r=\"11\" fill=\"rgb(255,255,255)\" class=\"agent_0_40\"/><circle cx=\"193\" cy=\"377\" r=\"12\" fill=\"rgb(255,255,255)\" class=\"agent_0_50\"/><circle cx=\"57\" cy=\"92\" r=\"11\" fill=\"rgb(255,255,255)\" class=\"agent_0_51\"/><circle cx=\"155\" cy=\"368\" r=\"9\" fill=\"rgb(255,0,0)\" class=\"agent_0_66\"/><circle cx=\"217\" cy=\"108\" r=\"13\" fill=\"rgb(255,255,255)\" class=\"agent_0_70\"/></svg><svg viewBox='0 0 430 430' id=\"svg\" width=\"172\" height=\"172\"><circle cx=\"215\" cy=\"215\" r=\"205\" fill=\"none\" stroke=\"black\" stroke-width=\"2\" stroke-dasharray=\"3,3\"/> <circle cx=\"320\" cy=\"322\" r=\"7\" fill=\"rgb(255,255,255)\" class=\"agent_0_4\"/><circle cx=\"129\" cy=\"218\" r=\"12\" fill=\"rgb(255,255,255)\" class=\"agent_0_18\"/><circle cx=\"253\" cy=\"333\" r=\"11\" fill=\"rgb(255,255,255)\" class=\"agent_0_40\"/><circle cx=\"193\" cy=\"377\" r=\"12\" fill=\"rgb(255,0,0)\" class=\"agent_0_50\"/><circle cx=\"57\" cy=\"92\" r=\"11\" fill=\"rgb(255,255,255)\" class=\"agent_0_51\"/><circle cx=\"155\" cy=\"368\" r=\"9\" fill=\"rgb(255,255,255)\" class=\"agent_0_66\"/><circle cx=\"217\" cy=\"108\" r=\"13\" fill=\"rgb(255,255,255)\" class=\"agent_0_70\"/></svg><svg viewBox='0 0 430 430' id=\"svg\" width=\"172\" height=\"172\"><circle cx=\"215\" cy=\"215\" r=\"205\" fill=\"none\" stroke=\"black\" stroke-width=\"2\" stroke-dasharray=\"3,3\"/> <circle cx=\"320\" cy=\"322\" r=\"7\" fill=\"rgb(255,255,255)\" class=\"agent_0_4\"/><circle cx=\"129\" cy=\"218\" r=\"12\" fill=\"rgb(255,255,255)\" class=\"agent_0_18\"/><circle cx=\"253\" cy=\"333\" r=\"11\" fill=\"rgb(255,255,255)\" class=\"agent_0_40\"/><circle cx=\"193\" cy=\"377\" r=\"12\" fill=\"rgb(255,255,255)\" class=\"agent_0_50\"/><circle cx=\"57\" cy=\"92\" r=\"11\" fill=\"rgb(255,255,255)\" class=\"agent_0_51\"/><circle cx=\"155\" cy=\"368\" r=\"9\" fill=\"rgb(255,0,0)\" class=\"agent_0_66\"/><circle cx=\"217\" cy=\"108\" r=\"13\" fill=\"rgb(255,255,255)\" class=\"agent_0_70\"/></svg></div>"
      ],
      "text/plain": [
       "<IPython.core.display.HTML object>"
      ]
     },
     "metadata": {},
     "output_type": "display_data"
    },
    {
     "name": "stdout",
     "output_type": "stream",
     "text": [
      "to_mention_pred\n"
     ]
    },
    {
     "data": {
      "text/html": [
       "<div style=\"white-space: nowrap\"><svg viewbox='0 0 430 430' width=\"172\" height=\"172\" id=\"agent_0\"><circle cx=\"215\" cy=\"215\" r=\"205\" fill=\"none\" stroke=\"black\" stroke-width=\"2\" stroke-dasharray=\"3,3\"/><circle cx=\"320\" cy=\"322\" r=\"7\" fill=\"rgb(110,110,110)\"/><circle cx=\"129\" cy=\"218\" r=\"12\" fill=\"rgb(109,109,109)\"/><circle cx=\"253\" cy=\"333\" r=\"11\" fill=\"rgb(79,79,79)\"/><circle cx=\"193\" cy=\"377\" r=\"12\" fill=\"rgb(146,146,146)\"/><circle cx=\"57\" cy=\"92\" r=\"11\" fill=\"rgb(197,197,197)\"/><circle cx=\"155\" cy=\"368\" r=\"9\" fill=\"rgb(154,154,154)\"/><circle cx=\"217\" cy=\"108\" r=\"13\" fill=\"rgb(128,128,128)\"/></svg><svg viewBox='0 0 430 430' id=\"svg\" width=\"172\" height=\"172\"><circle cx=\"215\" cy=\"215\" r=\"205\" fill=\"none\" stroke=\"black\" stroke-width=\"2\" stroke-dasharray=\"3,3\"/> <circle cx=\"320\" cy=\"322\" r=\"7\" fill=\"rgb(255,255,255)\" class=\"agent_0_4\"/><circle cx=\"129\" cy=\"218\" r=\"12\" fill=\"rgb(255,255,255)\" class=\"agent_0_18\"/><circle cx=\"253\" cy=\"333\" r=\"11\" fill=\"rgb(255,255,255)\" class=\"agent_0_40\"/><circle cx=\"193\" cy=\"377\" r=\"12\" fill=\"rgb(255,0,0)\" class=\"agent_0_50\"/><circle cx=\"57\" cy=\"92\" r=\"11\" fill=\"rgb(255,255,255)\" class=\"agent_0_51\"/><circle cx=\"155\" cy=\"368\" r=\"9\" fill=\"rgb(255,0,0)\" class=\"agent_0_66\"/><circle cx=\"217\" cy=\"108\" r=\"13\" fill=\"rgb(255,255,255)\" class=\"agent_0_70\"/></svg><svg viewBox='0 0 430 430' id=\"svg\" width=\"172\" height=\"172\"><circle cx=\"215\" cy=\"215\" r=\"205\" fill=\"none\" stroke=\"black\" stroke-width=\"2\" stroke-dasharray=\"3,3\"/> <circle cx=\"320\" cy=\"322\" r=\"7\" fill=\"rgb(255,255,255)\" class=\"agent_0_4\"/><circle cx=\"129\" cy=\"218\" r=\"12\" fill=\"rgb(255,255,255)\" class=\"agent_0_18\"/><circle cx=\"253\" cy=\"333\" r=\"11\" fill=\"rgb(255,255,255)\" class=\"agent_0_40\"/><circle cx=\"193\" cy=\"377\" r=\"12\" fill=\"rgb(255,0,0)\" class=\"agent_0_50\"/><circle cx=\"57\" cy=\"92\" r=\"11\" fill=\"rgb(255,255,255)\" class=\"agent_0_51\"/><circle cx=\"155\" cy=\"368\" r=\"9\" fill=\"rgb(255,0,0)\" class=\"agent_0_66\"/><circle cx=\"217\" cy=\"108\" r=\"13\" fill=\"rgb(255,255,255)\" class=\"agent_0_70\"/></svg><svg viewBox='0 0 430 430' id=\"svg\" width=\"172\" height=\"172\"><circle cx=\"215\" cy=\"215\" r=\"205\" fill=\"none\" stroke=\"black\" stroke-width=\"2\" stroke-dasharray=\"3,3\"/> <circle cx=\"320\" cy=\"322\" r=\"7\" fill=\"rgb(255,255,255)\" class=\"agent_0_4\"/><circle cx=\"129\" cy=\"218\" r=\"12\" fill=\"rgb(255,255,255)\" class=\"agent_0_18\"/><circle cx=\"253\" cy=\"333\" r=\"11\" fill=\"rgb(255,255,255)\" class=\"agent_0_40\"/><circle cx=\"193\" cy=\"377\" r=\"12\" fill=\"rgb(255,255,255)\" class=\"agent_0_50\"/><circle cx=\"57\" cy=\"92\" r=\"11\" fill=\"rgb(255,255,255)\" class=\"agent_0_51\"/><circle cx=\"155\" cy=\"368\" r=\"9\" fill=\"rgb(255,0,0)\" class=\"agent_0_66\"/><circle cx=\"217\" cy=\"108\" r=\"13\" fill=\"rgb(255,255,255)\" class=\"agent_0_70\"/></svg><svg viewBox='0 0 430 430' id=\"svg\" width=\"172\" height=\"172\"><circle cx=\"215\" cy=\"215\" r=\"205\" fill=\"none\" stroke=\"black\" stroke-width=\"2\" stroke-dasharray=\"3,3\"/> <circle cx=\"320\" cy=\"322\" r=\"7\" fill=\"rgb(255,255,255)\" class=\"agent_0_4\"/><circle cx=\"129\" cy=\"218\" r=\"12\" fill=\"rgb(255,255,255)\" class=\"agent_0_18\"/><circle cx=\"253\" cy=\"333\" r=\"11\" fill=\"rgb(255,255,255)\" class=\"agent_0_40\"/><circle cx=\"193\" cy=\"377\" r=\"12\" fill=\"rgb(255,0,0)\" class=\"agent_0_50\"/><circle cx=\"57\" cy=\"92\" r=\"11\" fill=\"rgb(255,255,255)\" class=\"agent_0_51\"/><circle cx=\"155\" cy=\"368\" r=\"9\" fill=\"rgb(255,255,255)\" class=\"agent_0_66\"/><circle cx=\"217\" cy=\"108\" r=\"13\" fill=\"rgb(255,255,255)\" class=\"agent_0_70\"/></svg></div>"
      ],
      "text/plain": [
       "<IPython.core.display.HTML object>"
      ]
     },
     "metadata": {},
     "output_type": "display_data"
    },
    {
     "name": "stdout",
     "output_type": "stream",
     "text": [
      "sample 0\ti have a triangle of 3 dots . one large and light grey , one medium gray , one small and light grey <eos>\n",
      "sample 1\ti have two dots very close together . the one on the left is a small dark grey dot , and the one on the right is a little larger , lighter dot . <eos>\n",
      "sample 2\ti have two dots very close together . the one on the right is smaller , the one on the left is small and light grey . the one on the right is slightly larger and darker <eos>\n",
      "sample 3\ti have two dots very close together . one is smaller and darker than the other . <eos>\n",
      "sample 4\ti have two dots very close together . one is dark grey and the other is dark grey and above it and to the right <eos>\n",
      "sample 5\ti have two dots very close together . one is black and one light grey , and one small light grey <eos>\n",
      "sample 6\ti have two dots very close together . one is darker than the other . <eos>\n",
      "sample 7\ti have two dots very close together . the one on the right is a small dark dot , and the one on the right is a little larger , lighter dot . <eos>\n",
      "sample 8\ti have a group of three dots , one large and light grey , one small grey , one small grey <eos>\n",
      "sample 9\ti have two dots almost on a vertical line . the one on the left is smaller and darker , the one on the right is lighter and a little larger . <eos>\n",
      "argmax\ti have two dots very close together . one is light grey and the other is dark grey and the other is light grey <eos>\n",
      "human\ti have a cluster of 2 dots close together . a small medium gray one and a larger same color dot to the right and slightly below it <eos>\n",
      "refs_true\n"
     ]
    },
    {
     "data": {
      "text/html": [
       "<div style=\"white-space: nowrap\"><svg viewbox='0 0 430 430' width=\"172\" height=\"172\" id=\"agent_0\"><circle cx=\"215\" cy=\"215\" r=\"205\" fill=\"none\" stroke=\"black\" stroke-width=\"2\" stroke-dasharray=\"3,3\"/><circle cx=\"320\" cy=\"322\" r=\"7\" fill=\"rgb(110,110,110)\"/><circle cx=\"129\" cy=\"218\" r=\"12\" fill=\"rgb(109,109,109)\"/><circle cx=\"253\" cy=\"333\" r=\"11\" fill=\"rgb(79,79,79)\"/><circle cx=\"193\" cy=\"377\" r=\"12\" fill=\"rgb(146,146,146)\"/><circle cx=\"57\" cy=\"92\" r=\"11\" fill=\"rgb(197,197,197)\"/><circle cx=\"155\" cy=\"368\" r=\"9\" fill=\"rgb(154,154,154)\"/><circle cx=\"217\" cy=\"108\" r=\"13\" fill=\"rgb(128,128,128)\"/></svg><svg viewBox='0 0 430 430' id=\"svg\" width=\"172\" height=\"172\"><circle cx=\"215\" cy=\"215\" r=\"205\" fill=\"none\" stroke=\"black\" stroke-width=\"2\" stroke-dasharray=\"3,3\"/> <circle cx=\"320\" cy=\"322\" r=\"7\" fill=\"rgb(255,255,255)\" class=\"agent_0_4\"/><circle cx=\"129\" cy=\"218\" r=\"12\" fill=\"rgb(255,255,255)\" class=\"agent_0_18\"/><circle cx=\"253\" cy=\"333\" r=\"11\" fill=\"rgb(255,255,255)\" class=\"agent_0_40\"/><circle cx=\"193\" cy=\"377\" r=\"12\" fill=\"rgb(255,0,0)\" class=\"agent_0_50\"/><circle cx=\"57\" cy=\"92\" r=\"11\" fill=\"rgb(255,255,255)\" class=\"agent_0_51\"/><circle cx=\"155\" cy=\"368\" r=\"9\" fill=\"rgb(255,0,0)\" class=\"agent_0_66\"/><circle cx=\"217\" cy=\"108\" r=\"13\" fill=\"rgb(255,255,255)\" class=\"agent_0_70\"/></svg><svg viewBox='0 0 430 430' id=\"svg\" width=\"172\" height=\"172\"><circle cx=\"215\" cy=\"215\" r=\"205\" fill=\"none\" stroke=\"black\" stroke-width=\"2\" stroke-dasharray=\"3,3\"/> <circle cx=\"320\" cy=\"322\" r=\"7\" fill=\"rgb(255,255,255)\" class=\"agent_0_4\"/><circle cx=\"129\" cy=\"218\" r=\"12\" fill=\"rgb(255,255,255)\" class=\"agent_0_18\"/><circle cx=\"253\" cy=\"333\" r=\"11\" fill=\"rgb(255,255,255)\" class=\"agent_0_40\"/><circle cx=\"193\" cy=\"377\" r=\"12\" fill=\"rgb(255,255,255)\" class=\"agent_0_50\"/><circle cx=\"57\" cy=\"92\" r=\"11\" fill=\"rgb(255,255,255)\" class=\"agent_0_51\"/><circle cx=\"155\" cy=\"368\" r=\"9\" fill=\"rgb(255,0,0)\" class=\"agent_0_66\"/><circle cx=\"217\" cy=\"108\" r=\"13\" fill=\"rgb(255,255,255)\" class=\"agent_0_70\"/></svg><svg viewBox='0 0 430 430' id=\"svg\" width=\"172\" height=\"172\"><circle cx=\"215\" cy=\"215\" r=\"205\" fill=\"none\" stroke=\"black\" stroke-width=\"2\" stroke-dasharray=\"3,3\"/> <circle cx=\"320\" cy=\"322\" r=\"7\" fill=\"rgb(255,255,255)\" class=\"agent_0_4\"/><circle cx=\"129\" cy=\"218\" r=\"12\" fill=\"rgb(255,255,255)\" class=\"agent_0_18\"/><circle cx=\"253\" cy=\"333\" r=\"11\" fill=\"rgb(255,255,255)\" class=\"agent_0_40\"/><circle cx=\"193\" cy=\"377\" r=\"12\" fill=\"rgb(255,0,0)\" class=\"agent_0_50\"/><circle cx=\"57\" cy=\"92\" r=\"11\" fill=\"rgb(255,255,255)\" class=\"agent_0_51\"/><circle cx=\"155\" cy=\"368\" r=\"9\" fill=\"rgb(255,255,255)\" class=\"agent_0_66\"/><circle cx=\"217\" cy=\"108\" r=\"13\" fill=\"rgb(255,255,255)\" class=\"agent_0_70\"/></svg><svg viewBox='0 0 430 430' id=\"svg\" width=\"172\" height=\"172\"><circle cx=\"215\" cy=\"215\" r=\"205\" fill=\"none\" stroke=\"black\" stroke-width=\"2\" stroke-dasharray=\"3,3\"/> <circle cx=\"320\" cy=\"322\" r=\"7\" fill=\"rgb(255,255,255)\" class=\"agent_0_4\"/><circle cx=\"129\" cy=\"218\" r=\"12\" fill=\"rgb(255,255,255)\" class=\"agent_0_18\"/><circle cx=\"253\" cy=\"333\" r=\"11\" fill=\"rgb(255,255,255)\" class=\"agent_0_40\"/><circle cx=\"193\" cy=\"377\" r=\"12\" fill=\"rgb(255,255,255)\" class=\"agent_0_50\"/><circle cx=\"57\" cy=\"92\" r=\"11\" fill=\"rgb(255,255,255)\" class=\"agent_0_51\"/><circle cx=\"155\" cy=\"368\" r=\"9\" fill=\"rgb(255,0,0)\" class=\"agent_0_66\"/><circle cx=\"217\" cy=\"108\" r=\"13\" fill=\"rgb(255,255,255)\" class=\"agent_0_70\"/></svg></div>"
      ],
      "text/plain": [
       "<IPython.core.display.HTML object>"
      ]
     },
     "metadata": {},
     "output_type": "display_data"
    },
    {
     "name": "stdout",
     "output_type": "stream",
     "text": [
      "refs_pred\n"
     ]
    },
    {
     "data": {
      "text/html": [
       "<div style=\"white-space: nowrap\"><svg viewbox='0 0 430 430' width=\"172\" height=\"172\" id=\"agent_0\"><circle cx=\"215\" cy=\"215\" r=\"205\" fill=\"none\" stroke=\"black\" stroke-width=\"2\" stroke-dasharray=\"3,3\"/><circle cx=\"320\" cy=\"322\" r=\"7\" fill=\"rgb(110,110,110)\"/><circle cx=\"129\" cy=\"218\" r=\"12\" fill=\"rgb(109,109,109)\"/><circle cx=\"253\" cy=\"333\" r=\"11\" fill=\"rgb(79,79,79)\"/><circle cx=\"193\" cy=\"377\" r=\"12\" fill=\"rgb(146,146,146)\"/><circle cx=\"57\" cy=\"92\" r=\"11\" fill=\"rgb(197,197,197)\"/><circle cx=\"155\" cy=\"368\" r=\"9\" fill=\"rgb(154,154,154)\"/><circle cx=\"217\" cy=\"108\" r=\"13\" fill=\"rgb(128,128,128)\"/></svg><svg viewBox='0 0 430 430' id=\"svg\" width=\"172\" height=\"172\"><circle cx=\"215\" cy=\"215\" r=\"205\" fill=\"none\" stroke=\"black\" stroke-width=\"2\" stroke-dasharray=\"3,3\"/> <circle cx=\"320\" cy=\"322\" r=\"7\" fill=\"rgb(255,255,255)\" class=\"agent_0_4\"/><circle cx=\"129\" cy=\"218\" r=\"12\" fill=\"rgb(255,255,255)\" class=\"agent_0_18\"/><circle cx=\"253\" cy=\"333\" r=\"11\" fill=\"rgb(255,255,255)\" class=\"agent_0_40\"/><circle cx=\"193\" cy=\"377\" r=\"12\" fill=\"rgb(255,0,0)\" class=\"agent_0_50\"/><circle cx=\"57\" cy=\"92\" r=\"11\" fill=\"rgb(255,255,255)\" class=\"agent_0_51\"/><circle cx=\"155\" cy=\"368\" r=\"9\" fill=\"rgb(255,0,0)\" class=\"agent_0_66\"/><circle cx=\"217\" cy=\"108\" r=\"13\" fill=\"rgb(255,255,255)\" class=\"agent_0_70\"/></svg><svg viewBox='0 0 430 430' id=\"svg\" width=\"172\" height=\"172\"><circle cx=\"215\" cy=\"215\" r=\"205\" fill=\"none\" stroke=\"black\" stroke-width=\"2\" stroke-dasharray=\"3,3\"/> <circle cx=\"320\" cy=\"322\" r=\"7\" fill=\"rgb(255,255,255)\" class=\"agent_0_4\"/><circle cx=\"129\" cy=\"218\" r=\"12\" fill=\"rgb(255,255,255)\" class=\"agent_0_18\"/><circle cx=\"253\" cy=\"333\" r=\"11\" fill=\"rgb(255,255,255)\" class=\"agent_0_40\"/><circle cx=\"193\" cy=\"377\" r=\"12\" fill=\"rgb(255,255,255)\" class=\"agent_0_50\"/><circle cx=\"57\" cy=\"92\" r=\"11\" fill=\"rgb(255,255,255)\" class=\"agent_0_51\"/><circle cx=\"155\" cy=\"368\" r=\"9\" fill=\"rgb(255,0,0)\" class=\"agent_0_66\"/><circle cx=\"217\" cy=\"108\" r=\"13\" fill=\"rgb(255,255,255)\" class=\"agent_0_70\"/></svg><svg viewBox='0 0 430 430' id=\"svg\" width=\"172\" height=\"172\"><circle cx=\"215\" cy=\"215\" r=\"205\" fill=\"none\" stroke=\"black\" stroke-width=\"2\" stroke-dasharray=\"3,3\"/> <circle cx=\"320\" cy=\"322\" r=\"7\" fill=\"rgb(255,255,255)\" class=\"agent_0_4\"/><circle cx=\"129\" cy=\"218\" r=\"12\" fill=\"rgb(255,255,255)\" class=\"agent_0_18\"/><circle cx=\"253\" cy=\"333\" r=\"11\" fill=\"rgb(255,255,255)\" class=\"agent_0_40\"/><circle cx=\"193\" cy=\"377\" r=\"12\" fill=\"rgb(255,0,0)\" class=\"agent_0_50\"/><circle cx=\"57\" cy=\"92\" r=\"11\" fill=\"rgb(255,255,255)\" class=\"agent_0_51\"/><circle cx=\"155\" cy=\"368\" r=\"9\" fill=\"rgb(255,255,255)\" class=\"agent_0_66\"/><circle cx=\"217\" cy=\"108\" r=\"13\" fill=\"rgb(255,255,255)\" class=\"agent_0_70\"/></svg><svg viewBox='0 0 430 430' id=\"svg\" width=\"172\" height=\"172\"><circle cx=\"215\" cy=\"215\" r=\"205\" fill=\"none\" stroke=\"black\" stroke-width=\"2\" stroke-dasharray=\"3,3\"/> <circle cx=\"320\" cy=\"322\" r=\"7\" fill=\"rgb(255,255,255)\" class=\"agent_0_4\"/><circle cx=\"129\" cy=\"218\" r=\"12\" fill=\"rgb(255,255,255)\" class=\"agent_0_18\"/><circle cx=\"253\" cy=\"333\" r=\"11\" fill=\"rgb(255,255,255)\" class=\"agent_0_40\"/><circle cx=\"193\" cy=\"377\" r=\"12\" fill=\"rgb(255,255,255)\" class=\"agent_0_50\"/><circle cx=\"57\" cy=\"92\" r=\"11\" fill=\"rgb(255,255,255)\" class=\"agent_0_51\"/><circle cx=\"155\" cy=\"368\" r=\"9\" fill=\"rgb(255,0,0)\" class=\"agent_0_66\"/><circle cx=\"217\" cy=\"108\" r=\"13\" fill=\"rgb(255,255,255)\" class=\"agent_0_70\"/></svg></div>"
      ],
      "text/plain": [
       "<IPython.core.display.HTML object>"
      ]
     },
     "metadata": {},
     "output_type": "display_data"
    },
    {
     "name": "stdout",
     "output_type": "stream",
     "text": [
      "\n",
      "----------------------------------------\n",
      "\n",
      "human\tTHEM: yes i see what you are talking about <eos>\n",
      "partner_refs_true\n"
     ]
    },
    {
     "data": {
      "text/html": [
       "<div style=\"white-space: nowrap\"><svg viewbox='0 0 430 430' width=\"172\" height=\"172\" id=\"agent_0\"><circle cx=\"215\" cy=\"215\" r=\"205\" fill=\"none\" stroke=\"black\" stroke-width=\"2\" stroke-dasharray=\"3,3\"/><circle cx=\"320\" cy=\"322\" r=\"7\" fill=\"rgb(110,110,110)\"/><circle cx=\"129\" cy=\"218\" r=\"12\" fill=\"rgb(109,109,109)\"/><circle cx=\"253\" cy=\"333\" r=\"11\" fill=\"rgb(79,79,79)\"/><circle cx=\"193\" cy=\"377\" r=\"12\" fill=\"rgb(146,146,146)\"/><circle cx=\"57\" cy=\"92\" r=\"11\" fill=\"rgb(197,197,197)\"/><circle cx=\"155\" cy=\"368\" r=\"9\" fill=\"rgb(154,154,154)\"/><circle cx=\"217\" cy=\"108\" r=\"13\" fill=\"rgb(128,128,128)\"/></svg><svg viewBox='0 0 430 430' id=\"svg\" width=\"172\" height=\"172\"><circle cx=\"215\" cy=\"215\" r=\"205\" fill=\"none\" stroke=\"black\" stroke-width=\"2\" stroke-dasharray=\"3,3\"/> <circle cx=\"320\" cy=\"322\" r=\"7\" fill=\"rgb(255,255,255)\" class=\"agent_0_4\"/><circle cx=\"129\" cy=\"218\" r=\"12\" fill=\"rgb(255,255,255)\" class=\"agent_0_18\"/><circle cx=\"253\" cy=\"333\" r=\"11\" fill=\"rgb(255,255,255)\" class=\"agent_0_40\"/><circle cx=\"193\" cy=\"377\" r=\"12\" fill=\"rgb(255,0,0)\" class=\"agent_0_50\"/><circle cx=\"57\" cy=\"92\" r=\"11\" fill=\"rgb(255,255,255)\" class=\"agent_0_51\"/><circle cx=\"155\" cy=\"368\" r=\"9\" fill=\"rgb(255,0,0)\" class=\"agent_0_66\"/><circle cx=\"217\" cy=\"108\" r=\"13\" fill=\"rgb(255,255,255)\" class=\"agent_0_70\"/></svg></div>"
      ],
      "text/plain": [
       "<IPython.core.display.HTML object>"
      ]
     },
     "metadata": {},
     "output_type": "display_data"
    },
    {
     "name": "stdout",
     "output_type": "stream",
     "text": [
      "partner_refs_pred\n"
     ]
    },
    {
     "data": {
      "text/html": [
       "<div style=\"white-space: nowrap\"><svg viewbox='0 0 430 430' width=\"172\" height=\"172\" id=\"agent_0\"><circle cx=\"215\" cy=\"215\" r=\"205\" fill=\"none\" stroke=\"black\" stroke-width=\"2\" stroke-dasharray=\"3,3\"/><circle cx=\"320\" cy=\"322\" r=\"7\" fill=\"rgb(110,110,110)\"/><circle cx=\"129\" cy=\"218\" r=\"12\" fill=\"rgb(109,109,109)\"/><circle cx=\"253\" cy=\"333\" r=\"11\" fill=\"rgb(79,79,79)\"/><circle cx=\"193\" cy=\"377\" r=\"12\" fill=\"rgb(146,146,146)\"/><circle cx=\"57\" cy=\"92\" r=\"11\" fill=\"rgb(197,197,197)\"/><circle cx=\"155\" cy=\"368\" r=\"9\" fill=\"rgb(154,154,154)\"/><circle cx=\"217\" cy=\"108\" r=\"13\" fill=\"rgb(128,128,128)\"/></svg><svg viewBox='0 0 430 430' id=\"svg\" width=\"172\" height=\"172\"><circle cx=\"215\" cy=\"215\" r=\"205\" fill=\"none\" stroke=\"black\" stroke-width=\"2\" stroke-dasharray=\"3,3\"/> <circle cx=\"320\" cy=\"322\" r=\"7\" fill=\"rgb(255,255,255)\" class=\"agent_0_4\"/><circle cx=\"129\" cy=\"218\" r=\"12\" fill=\"rgb(255,255,255)\" class=\"agent_0_18\"/><circle cx=\"253\" cy=\"333\" r=\"11\" fill=\"rgb(255,255,255)\" class=\"agent_0_40\"/><circle cx=\"193\" cy=\"377\" r=\"12\" fill=\"rgb(255,0,0)\" class=\"agent_0_50\"/><circle cx=\"57\" cy=\"92\" r=\"11\" fill=\"rgb(255,255,255)\" class=\"agent_0_51\"/><circle cx=\"155\" cy=\"368\" r=\"9\" fill=\"rgb(255,0,0)\" class=\"agent_0_66\"/><circle cx=\"217\" cy=\"108\" r=\"13\" fill=\"rgb(255,255,255)\" class=\"agent_0_70\"/></svg></div>"
      ],
      "text/plain": [
       "<IPython.core.display.HTML object>"
      ]
     },
     "metadata": {},
     "output_type": "display_data"
    },
    {
     "name": "stdout",
     "output_type": "stream",
     "text": [
      "\n",
      "----------------------------------------\n",
      "\n",
      "to_mention_true\n"
     ]
    },
    {
     "data": {
      "text/html": [
       "<div style=\"white-space: nowrap\"><svg viewbox='0 0 430 430' width=\"172\" height=\"172\" id=\"agent_0\"><circle cx=\"215\" cy=\"215\" r=\"205\" fill=\"none\" stroke=\"black\" stroke-width=\"2\" stroke-dasharray=\"3,3\"/><circle cx=\"320\" cy=\"322\" r=\"7\" fill=\"rgb(110,110,110)\"/><circle cx=\"129\" cy=\"218\" r=\"12\" fill=\"rgb(109,109,109)\"/><circle cx=\"253\" cy=\"333\" r=\"11\" fill=\"rgb(79,79,79)\"/><circle cx=\"193\" cy=\"377\" r=\"12\" fill=\"rgb(146,146,146)\"/><circle cx=\"57\" cy=\"92\" r=\"11\" fill=\"rgb(197,197,197)\"/><circle cx=\"155\" cy=\"368\" r=\"9\" fill=\"rgb(154,154,154)\"/><circle cx=\"217\" cy=\"108\" r=\"13\" fill=\"rgb(128,128,128)\"/></svg><svg viewBox='0 0 430 430' id=\"svg\" width=\"172\" height=\"172\"><circle cx=\"215\" cy=\"215\" r=\"205\" fill=\"none\" stroke=\"black\" stroke-width=\"2\" stroke-dasharray=\"3,3\"/> <circle cx=\"320\" cy=\"322\" r=\"7\" fill=\"rgb(255,255,255)\" class=\"agent_0_4\"/><circle cx=\"129\" cy=\"218\" r=\"12\" fill=\"rgb(255,255,255)\" class=\"agent_0_18\"/><circle cx=\"253\" cy=\"333\" r=\"11\" fill=\"rgb(255,255,255)\" class=\"agent_0_40\"/><circle cx=\"193\" cy=\"377\" r=\"12\" fill=\"rgb(255,0,0)\" class=\"agent_0_50\"/><circle cx=\"57\" cy=\"92\" r=\"11\" fill=\"rgb(255,255,255)\" class=\"agent_0_51\"/><circle cx=\"155\" cy=\"368\" r=\"9\" fill=\"rgb(255,255,255)\" class=\"agent_0_66\"/><circle cx=\"217\" cy=\"108\" r=\"13\" fill=\"rgb(255,255,255)\" class=\"agent_0_70\"/></svg></div>"
      ],
      "text/plain": [
       "<IPython.core.display.HTML object>"
      ]
     },
     "metadata": {},
     "output_type": "display_data"
    },
    {
     "name": "stdout",
     "output_type": "stream",
     "text": [
      "to_mention_pred\n"
     ]
    },
    {
     "data": {
      "text/html": [
       "<div style=\"white-space: nowrap\"><svg viewbox='0 0 430 430' width=\"172\" height=\"172\" id=\"agent_0\"><circle cx=\"215\" cy=\"215\" r=\"205\" fill=\"none\" stroke=\"black\" stroke-width=\"2\" stroke-dasharray=\"3,3\"/><circle cx=\"320\" cy=\"322\" r=\"7\" fill=\"rgb(110,110,110)\"/><circle cx=\"129\" cy=\"218\" r=\"12\" fill=\"rgb(109,109,109)\"/><circle cx=\"253\" cy=\"333\" r=\"11\" fill=\"rgb(79,79,79)\"/><circle cx=\"193\" cy=\"377\" r=\"12\" fill=\"rgb(146,146,146)\"/><circle cx=\"57\" cy=\"92\" r=\"11\" fill=\"rgb(197,197,197)\"/><circle cx=\"155\" cy=\"368\" r=\"9\" fill=\"rgb(154,154,154)\"/><circle cx=\"217\" cy=\"108\" r=\"13\" fill=\"rgb(128,128,128)\"/></svg><svg viewBox='0 0 430 430' id=\"svg\" width=\"172\" height=\"172\"><circle cx=\"215\" cy=\"215\" r=\"205\" fill=\"none\" stroke=\"black\" stroke-width=\"2\" stroke-dasharray=\"3,3\"/> <circle cx=\"320\" cy=\"322\" r=\"7\" fill=\"rgb(255,255,255)\" class=\"agent_0_4\"/><circle cx=\"129\" cy=\"218\" r=\"12\" fill=\"rgb(255,255,255)\" class=\"agent_0_18\"/><circle cx=\"253\" cy=\"333\" r=\"11\" fill=\"rgb(255,255,255)\" class=\"agent_0_40\"/><circle cx=\"193\" cy=\"377\" r=\"12\" fill=\"rgb(255,255,255)\" class=\"agent_0_50\"/><circle cx=\"57\" cy=\"92\" r=\"11\" fill=\"rgb(255,255,255)\" class=\"agent_0_51\"/><circle cx=\"155\" cy=\"368\" r=\"9\" fill=\"rgb(255,0,0)\" class=\"agent_0_66\"/><circle cx=\"217\" cy=\"108\" r=\"13\" fill=\"rgb(255,255,255)\" class=\"agent_0_70\"/></svg></div>"
      ],
      "text/plain": [
       "<IPython.core.display.HTML object>"
      ]
     },
     "metadata": {},
     "output_type": "display_data"
    },
    {
     "name": "stdout",
     "output_type": "stream",
     "text": [
      "sample 0\tpick the larger one <selection>\n",
      "sample 1\tlet 's pick the larger one <selection>\n",
      "sample 2\tlets pick the larger one <selection>\n",
      "sample 3\tlet 's pick the larger one <selection>\n",
      "sample 4\tlet 's pick the large grey one <selection>\n",
      "sample 5\tlet 's choose the larger one <selection>\n",
      "sample 6\tlet 's pick the larger one <selection>\n",
      "sample 7\tlets pick the larger one <selection>\n",
      "sample 8\tlet 's pick the large grey dot <selection>\n",
      "sample 9\tlets pick the larger one <selection>\n",
      "argmax\tlet 's pick the larger one <selection>\n",
      "human\tlet 's pick the larger one on the right <eos>\n",
      "refs_true\n"
     ]
    },
    {
     "data": {
      "text/html": [
       "<div style=\"white-space: nowrap\"><svg viewbox='0 0 430 430' width=\"172\" height=\"172\" id=\"agent_0\"><circle cx=\"215\" cy=\"215\" r=\"205\" fill=\"none\" stroke=\"black\" stroke-width=\"2\" stroke-dasharray=\"3,3\"/><circle cx=\"320\" cy=\"322\" r=\"7\" fill=\"rgb(110,110,110)\"/><circle cx=\"129\" cy=\"218\" r=\"12\" fill=\"rgb(109,109,109)\"/><circle cx=\"253\" cy=\"333\" r=\"11\" fill=\"rgb(79,79,79)\"/><circle cx=\"193\" cy=\"377\" r=\"12\" fill=\"rgb(146,146,146)\"/><circle cx=\"57\" cy=\"92\" r=\"11\" fill=\"rgb(197,197,197)\"/><circle cx=\"155\" cy=\"368\" r=\"9\" fill=\"rgb(154,154,154)\"/><circle cx=\"217\" cy=\"108\" r=\"13\" fill=\"rgb(128,128,128)\"/></svg><svg viewBox='0 0 430 430' id=\"svg\" width=\"172\" height=\"172\"><circle cx=\"215\" cy=\"215\" r=\"205\" fill=\"none\" stroke=\"black\" stroke-width=\"2\" stroke-dasharray=\"3,3\"/> <circle cx=\"320\" cy=\"322\" r=\"7\" fill=\"rgb(255,255,255)\" class=\"agent_0_4\"/><circle cx=\"129\" cy=\"218\" r=\"12\" fill=\"rgb(255,255,255)\" class=\"agent_0_18\"/><circle cx=\"253\" cy=\"333\" r=\"11\" fill=\"rgb(255,255,255)\" class=\"agent_0_40\"/><circle cx=\"193\" cy=\"377\" r=\"12\" fill=\"rgb(255,0,0)\" class=\"agent_0_50\"/><circle cx=\"57\" cy=\"92\" r=\"11\" fill=\"rgb(255,255,255)\" class=\"agent_0_51\"/><circle cx=\"155\" cy=\"368\" r=\"9\" fill=\"rgb(255,255,255)\" class=\"agent_0_66\"/><circle cx=\"217\" cy=\"108\" r=\"13\" fill=\"rgb(255,255,255)\" class=\"agent_0_70\"/></svg></div>"
      ],
      "text/plain": [
       "<IPython.core.display.HTML object>"
      ]
     },
     "metadata": {},
     "output_type": "display_data"
    },
    {
     "name": "stdout",
     "output_type": "stream",
     "text": [
      "refs_pred\n"
     ]
    },
    {
     "data": {
      "text/html": [
       "<div style=\"white-space: nowrap\"><svg viewbox='0 0 430 430' width=\"172\" height=\"172\" id=\"agent_0\"><circle cx=\"215\" cy=\"215\" r=\"205\" fill=\"none\" stroke=\"black\" stroke-width=\"2\" stroke-dasharray=\"3,3\"/><circle cx=\"320\" cy=\"322\" r=\"7\" fill=\"rgb(110,110,110)\"/><circle cx=\"129\" cy=\"218\" r=\"12\" fill=\"rgb(109,109,109)\"/><circle cx=\"253\" cy=\"333\" r=\"11\" fill=\"rgb(79,79,79)\"/><circle cx=\"193\" cy=\"377\" r=\"12\" fill=\"rgb(146,146,146)\"/><circle cx=\"57\" cy=\"92\" r=\"11\" fill=\"rgb(197,197,197)\"/><circle cx=\"155\" cy=\"368\" r=\"9\" fill=\"rgb(154,154,154)\"/><circle cx=\"217\" cy=\"108\" r=\"13\" fill=\"rgb(128,128,128)\"/></svg><svg viewBox='0 0 430 430' id=\"svg\" width=\"172\" height=\"172\"><circle cx=\"215\" cy=\"215\" r=\"205\" fill=\"none\" stroke=\"black\" stroke-width=\"2\" stroke-dasharray=\"3,3\"/> <circle cx=\"320\" cy=\"322\" r=\"7\" fill=\"rgb(255,255,255)\" class=\"agent_0_4\"/><circle cx=\"129\" cy=\"218\" r=\"12\" fill=\"rgb(255,255,255)\" class=\"agent_0_18\"/><circle cx=\"253\" cy=\"333\" r=\"11\" fill=\"rgb(255,255,255)\" class=\"agent_0_40\"/><circle cx=\"193\" cy=\"377\" r=\"12\" fill=\"rgb(255,0,0)\" class=\"agent_0_50\"/><circle cx=\"57\" cy=\"92\" r=\"11\" fill=\"rgb(255,255,255)\" class=\"agent_0_51\"/><circle cx=\"155\" cy=\"368\" r=\"9\" fill=\"rgb(255,255,255)\" class=\"agent_0_66\"/><circle cx=\"217\" cy=\"108\" r=\"13\" fill=\"rgb(255,255,255)\" class=\"agent_0_70\"/></svg></div>"
      ],
      "text/plain": [
       "<IPython.core.display.HTML object>"
      ]
     },
     "metadata": {},
     "output_type": "display_data"
    },
    {
     "name": "stdout",
     "output_type": "stream",
     "text": [
      "\n",
      "----------------------------------------\n",
      "\n",
      "human\tTHEM: okay <selection>\n",
      "\n",
      "----------------------------------------\n",
      "\n"
     ]
    }
   ],
   "source": [
    "force_contexts_and_mentions(5)"
   ]
  },
  {
   "cell_type": "code",
   "execution_count": 92,
   "metadata": {
    "scrolled": false
   },
   "outputs": [
    {
     "name": "stdout",
     "output_type": "stream",
     "text": [
      "to_mention_true\n"
     ]
    },
    {
     "data": {
      "text/html": [
       "<div style=\"white-space: nowrap\"><svg viewbox='0 0 430 430' width=\"172\" height=\"172\" id=\"agent_0\"><circle cx=\"215\" cy=\"215\" r=\"205\" fill=\"none\" stroke=\"black\" stroke-width=\"2\" stroke-dasharray=\"3,3\"/><circle cx=\"90\" cy=\"109\" r=\"11\" fill=\"rgb(77,77,77)\"/><circle cx=\"381\" cy=\"243\" r=\"9\" fill=\"rgb(180,180,180)\"/><circle cx=\"108\" cy=\"69\" r=\"8\" fill=\"rgb(196,196,196)\"/><circle cx=\"338\" cy=\"346\" r=\"8\" fill=\"rgb(104,104,104)\"/><circle cx=\"367\" cy=\"324\" r=\"13\" fill=\"rgb(197,197,197)\"/><circle cx=\"305\" cy=\"313\" r=\"11\" fill=\"rgb(178,178,178)\"/><circle cx=\"269\" cy=\"355\" r=\"8\" fill=\"rgb(74,74,74)\"/></svg><svg viewBox='0 0 430 430' id=\"svg\" width=\"172\" height=\"172\"><circle cx=\"215\" cy=\"215\" r=\"205\" fill=\"none\" stroke=\"black\" stroke-width=\"2\" stroke-dasharray=\"3,3\"/> <circle cx=\"90\" cy=\"109\" r=\"11\" fill=\"rgb(255,255,255)\" class=\"agent_0_22\"/><circle cx=\"381\" cy=\"243\" r=\"9\" fill=\"rgb(255,255,255)\" class=\"agent_0_25\"/><circle cx=\"108\" cy=\"69\" r=\"8\" fill=\"rgb(255,255,255)\" class=\"agent_0_35\"/><circle cx=\"338\" cy=\"346\" r=\"8\" fill=\"rgb(255,0,0)\" class=\"agent_0_43\"/><circle cx=\"367\" cy=\"324\" r=\"13\" fill=\"rgb(255,0,0)\" class=\"agent_0_44\"/><circle cx=\"305\" cy=\"313\" r=\"11\" fill=\"rgb(255,0,0)\" class=\"agent_0_73\"/><circle cx=\"269\" cy=\"355\" r=\"8\" fill=\"rgb(255,0,0)\" class=\"agent_0_78\"/></svg></div>"
      ],
      "text/plain": [
       "<IPython.core.display.HTML object>"
      ]
     },
     "metadata": {},
     "output_type": "display_data"
    },
    {
     "name": "stdout",
     "output_type": "stream",
     "text": [
      "to_mention_pred\n"
     ]
    },
    {
     "data": {
      "text/html": [
       "<div style=\"white-space: nowrap\"><svg viewbox='0 0 430 430' width=\"172\" height=\"172\" id=\"agent_0\"><circle cx=\"215\" cy=\"215\" r=\"205\" fill=\"none\" stroke=\"black\" stroke-width=\"2\" stroke-dasharray=\"3,3\"/><circle cx=\"90\" cy=\"109\" r=\"11\" fill=\"rgb(77,77,77)\"/><circle cx=\"381\" cy=\"243\" r=\"9\" fill=\"rgb(180,180,180)\"/><circle cx=\"108\" cy=\"69\" r=\"8\" fill=\"rgb(196,196,196)\"/><circle cx=\"338\" cy=\"346\" r=\"8\" fill=\"rgb(104,104,104)\"/><circle cx=\"367\" cy=\"324\" r=\"13\" fill=\"rgb(197,197,197)\"/><circle cx=\"305\" cy=\"313\" r=\"11\" fill=\"rgb(178,178,178)\"/><circle cx=\"269\" cy=\"355\" r=\"8\" fill=\"rgb(74,74,74)\"/></svg><svg viewBox='0 0 430 430' id=\"svg\" width=\"172\" height=\"172\"><circle cx=\"215\" cy=\"215\" r=\"205\" fill=\"none\" stroke=\"black\" stroke-width=\"2\" stroke-dasharray=\"3,3\"/> <circle cx=\"90\" cy=\"109\" r=\"11\" fill=\"rgb(255,255,255)\" class=\"agent_0_22\"/><circle cx=\"381\" cy=\"243\" r=\"9\" fill=\"rgb(255,255,255)\" class=\"agent_0_25\"/><circle cx=\"108\" cy=\"69\" r=\"8\" fill=\"rgb(255,255,255)\" class=\"agent_0_35\"/><circle cx=\"338\" cy=\"346\" r=\"8\" fill=\"rgb(255,0,0)\" class=\"agent_0_43\"/><circle cx=\"367\" cy=\"324\" r=\"13\" fill=\"rgb(255,255,255)\" class=\"agent_0_44\"/><circle cx=\"305\" cy=\"313\" r=\"11\" fill=\"rgb(255,255,255)\" class=\"agent_0_73\"/><circle cx=\"269\" cy=\"355\" r=\"8\" fill=\"rgb(255,0,0)\" class=\"agent_0_78\"/></svg></div>"
      ],
      "text/plain": [
       "<IPython.core.display.HTML object>"
      ]
     },
     "metadata": {},
     "output_type": "display_data"
    },
    {
     "name": "stdout",
     "output_type": "stream",
     "text": [
      "sample 0\ti have a cluster of dots forming a triangle <eos>\n",
      "sample 1\ti have a cluster of 4 dots <eos>\n",
      "sample 2\ti see a cluster of dots . <eos>\n",
      "sample 3\tdo you see a cluster of dots in a line ? <eos>\n",
      "sample 4\ti see a triangle of dots in a line going up and to the right <eos>\n",
      "sample 5\ti see a cluster of dots . <eos>\n",
      "sample 6\tdo you see a cluster of dots that are all the same size and a small dot ? <eos>\n",
      "sample 7\ti have a cluster of 4 dots <eos>\n",
      "sample 8\ti have a cluster of 4 dots <eos>\n",
      "sample 9\tdo you see a cluster of dots that form a triangle shape ? <eos>\n",
      "argmax\ti see a cluster of dots . <eos>\n",
      "human\ta cluster of 4 dots very close together ? <eos>\n",
      "refs_true\n"
     ]
    },
    {
     "data": {
      "text/html": [
       "<div style=\"white-space: nowrap\"><svg viewbox='0 0 430 430' width=\"172\" height=\"172\" id=\"agent_0\"><circle cx=\"215\" cy=\"215\" r=\"205\" fill=\"none\" stroke=\"black\" stroke-width=\"2\" stroke-dasharray=\"3,3\"/><circle cx=\"90\" cy=\"109\" r=\"11\" fill=\"rgb(77,77,77)\"/><circle cx=\"381\" cy=\"243\" r=\"9\" fill=\"rgb(180,180,180)\"/><circle cx=\"108\" cy=\"69\" r=\"8\" fill=\"rgb(196,196,196)\"/><circle cx=\"338\" cy=\"346\" r=\"8\" fill=\"rgb(104,104,104)\"/><circle cx=\"367\" cy=\"324\" r=\"13\" fill=\"rgb(197,197,197)\"/><circle cx=\"305\" cy=\"313\" r=\"11\" fill=\"rgb(178,178,178)\"/><circle cx=\"269\" cy=\"355\" r=\"8\" fill=\"rgb(74,74,74)\"/></svg><svg viewBox='0 0 430 430' id=\"svg\" width=\"172\" height=\"172\"><circle cx=\"215\" cy=\"215\" r=\"205\" fill=\"none\" stroke=\"black\" stroke-width=\"2\" stroke-dasharray=\"3,3\"/> <circle cx=\"90\" cy=\"109\" r=\"11\" fill=\"rgb(255,255,255)\" class=\"agent_0_22\"/><circle cx=\"381\" cy=\"243\" r=\"9\" fill=\"rgb(255,255,255)\" class=\"agent_0_25\"/><circle cx=\"108\" cy=\"69\" r=\"8\" fill=\"rgb(255,255,255)\" class=\"agent_0_35\"/><circle cx=\"338\" cy=\"346\" r=\"8\" fill=\"rgb(255,0,0)\" class=\"agent_0_43\"/><circle cx=\"367\" cy=\"324\" r=\"13\" fill=\"rgb(255,0,0)\" class=\"agent_0_44\"/><circle cx=\"305\" cy=\"313\" r=\"11\" fill=\"rgb(255,0,0)\" class=\"agent_0_73\"/><circle cx=\"269\" cy=\"355\" r=\"8\" fill=\"rgb(255,0,0)\" class=\"agent_0_78\"/></svg></div>"
      ],
      "text/plain": [
       "<IPython.core.display.HTML object>"
      ]
     },
     "metadata": {},
     "output_type": "display_data"
    },
    {
     "name": "stdout",
     "output_type": "stream",
     "text": [
      "refs_pred\n"
     ]
    },
    {
     "data": {
      "text/html": [
       "<div style=\"white-space: nowrap\"><svg viewbox='0 0 430 430' width=\"172\" height=\"172\" id=\"agent_0\"><circle cx=\"215\" cy=\"215\" r=\"205\" fill=\"none\" stroke=\"black\" stroke-width=\"2\" stroke-dasharray=\"3,3\"/><circle cx=\"90\" cy=\"109\" r=\"11\" fill=\"rgb(77,77,77)\"/><circle cx=\"381\" cy=\"243\" r=\"9\" fill=\"rgb(180,180,180)\"/><circle cx=\"108\" cy=\"69\" r=\"8\" fill=\"rgb(196,196,196)\"/><circle cx=\"338\" cy=\"346\" r=\"8\" fill=\"rgb(104,104,104)\"/><circle cx=\"367\" cy=\"324\" r=\"13\" fill=\"rgb(197,197,197)\"/><circle cx=\"305\" cy=\"313\" r=\"11\" fill=\"rgb(178,178,178)\"/><circle cx=\"269\" cy=\"355\" r=\"8\" fill=\"rgb(74,74,74)\"/></svg><svg viewBox='0 0 430 430' id=\"svg\" width=\"172\" height=\"172\"><circle cx=\"215\" cy=\"215\" r=\"205\" fill=\"none\" stroke=\"black\" stroke-width=\"2\" stroke-dasharray=\"3,3\"/> <circle cx=\"90\" cy=\"109\" r=\"11\" fill=\"rgb(255,255,255)\" class=\"agent_0_22\"/><circle cx=\"381\" cy=\"243\" r=\"9\" fill=\"rgb(255,255,255)\" class=\"agent_0_25\"/><circle cx=\"108\" cy=\"69\" r=\"8\" fill=\"rgb(255,255,255)\" class=\"agent_0_35\"/><circle cx=\"338\" cy=\"346\" r=\"8\" fill=\"rgb(255,0,0)\" class=\"agent_0_43\"/><circle cx=\"367\" cy=\"324\" r=\"13\" fill=\"rgb(255,0,0)\" class=\"agent_0_44\"/><circle cx=\"305\" cy=\"313\" r=\"11\" fill=\"rgb(255,0,0)\" class=\"agent_0_73\"/><circle cx=\"269\" cy=\"355\" r=\"8\" fill=\"rgb(255,0,0)\" class=\"agent_0_78\"/></svg></div>"
      ],
      "text/plain": [
       "<IPython.core.display.HTML object>"
      ]
     },
     "metadata": {},
     "output_type": "display_data"
    },
    {
     "name": "stdout",
     "output_type": "stream",
     "text": [
      "\n",
      "----------------------------------------\n",
      "\n",
      "human\tTHEM: 2 small black ones and 2 larger grey ones ? <eos>\n",
      "partner_refs_true\n"
     ]
    },
    {
     "data": {
      "text/html": [
       "<div style=\"white-space: nowrap\"><svg viewbox='0 0 430 430' width=\"172\" height=\"172\" id=\"agent_0\"><circle cx=\"215\" cy=\"215\" r=\"205\" fill=\"none\" stroke=\"black\" stroke-width=\"2\" stroke-dasharray=\"3,3\"/><circle cx=\"90\" cy=\"109\" r=\"11\" fill=\"rgb(77,77,77)\"/><circle cx=\"381\" cy=\"243\" r=\"9\" fill=\"rgb(180,180,180)\"/><circle cx=\"108\" cy=\"69\" r=\"8\" fill=\"rgb(196,196,196)\"/><circle cx=\"338\" cy=\"346\" r=\"8\" fill=\"rgb(104,104,104)\"/><circle cx=\"367\" cy=\"324\" r=\"13\" fill=\"rgb(197,197,197)\"/><circle cx=\"305\" cy=\"313\" r=\"11\" fill=\"rgb(178,178,178)\"/><circle cx=\"269\" cy=\"355\" r=\"8\" fill=\"rgb(74,74,74)\"/></svg><svg viewBox='0 0 430 430' id=\"svg\" width=\"172\" height=\"172\"><circle cx=\"215\" cy=\"215\" r=\"205\" fill=\"none\" stroke=\"black\" stroke-width=\"2\" stroke-dasharray=\"3,3\"/> <circle cx=\"90\" cy=\"109\" r=\"11\" fill=\"rgb(255,255,255)\" class=\"agent_0_22\"/><circle cx=\"381\" cy=\"243\" r=\"9\" fill=\"rgb(255,255,255)\" class=\"agent_0_25\"/><circle cx=\"108\" cy=\"69\" r=\"8\" fill=\"rgb(255,255,255)\" class=\"agent_0_35\"/><circle cx=\"338\" cy=\"346\" r=\"8\" fill=\"rgb(255,0,0)\" class=\"agent_0_43\"/><circle cx=\"367\" cy=\"324\" r=\"13\" fill=\"rgb(255,255,255)\" class=\"agent_0_44\"/><circle cx=\"305\" cy=\"313\" r=\"11\" fill=\"rgb(255,255,255)\" class=\"agent_0_73\"/><circle cx=\"269\" cy=\"355\" r=\"8\" fill=\"rgb(255,0,0)\" class=\"agent_0_78\"/></svg><svg viewBox='0 0 430 430' id=\"svg\" width=\"172\" height=\"172\"><circle cx=\"215\" cy=\"215\" r=\"205\" fill=\"none\" stroke=\"black\" stroke-width=\"2\" stroke-dasharray=\"3,3\"/> <circle cx=\"90\" cy=\"109\" r=\"11\" fill=\"rgb(255,255,255)\" class=\"agent_0_22\"/><circle cx=\"381\" cy=\"243\" r=\"9\" fill=\"rgb(255,255,255)\" class=\"agent_0_25\"/><circle cx=\"108\" cy=\"69\" r=\"8\" fill=\"rgb(255,255,255)\" class=\"agent_0_35\"/><circle cx=\"338\" cy=\"346\" r=\"8\" fill=\"rgb(255,255,255)\" class=\"agent_0_43\"/><circle cx=\"367\" cy=\"324\" r=\"13\" fill=\"rgb(255,0,0)\" class=\"agent_0_44\"/><circle cx=\"305\" cy=\"313\" r=\"11\" fill=\"rgb(255,0,0)\" class=\"agent_0_73\"/><circle cx=\"269\" cy=\"355\" r=\"8\" fill=\"rgb(255,255,255)\" class=\"agent_0_78\"/></svg></div>"
      ],
      "text/plain": [
       "<IPython.core.display.HTML object>"
      ]
     },
     "metadata": {},
     "output_type": "display_data"
    },
    {
     "name": "stdout",
     "output_type": "stream",
     "text": [
      "partner_refs_pred\n"
     ]
    },
    {
     "data": {
      "text/html": [
       "<div style=\"white-space: nowrap\"><svg viewbox='0 0 430 430' width=\"172\" height=\"172\" id=\"agent_0\"><circle cx=\"215\" cy=\"215\" r=\"205\" fill=\"none\" stroke=\"black\" stroke-width=\"2\" stroke-dasharray=\"3,3\"/><circle cx=\"90\" cy=\"109\" r=\"11\" fill=\"rgb(77,77,77)\"/><circle cx=\"381\" cy=\"243\" r=\"9\" fill=\"rgb(180,180,180)\"/><circle cx=\"108\" cy=\"69\" r=\"8\" fill=\"rgb(196,196,196)\"/><circle cx=\"338\" cy=\"346\" r=\"8\" fill=\"rgb(104,104,104)\"/><circle cx=\"367\" cy=\"324\" r=\"13\" fill=\"rgb(197,197,197)\"/><circle cx=\"305\" cy=\"313\" r=\"11\" fill=\"rgb(178,178,178)\"/><circle cx=\"269\" cy=\"355\" r=\"8\" fill=\"rgb(74,74,74)\"/></svg><svg viewBox='0 0 430 430' id=\"svg\" width=\"172\" height=\"172\"><circle cx=\"215\" cy=\"215\" r=\"205\" fill=\"none\" stroke=\"black\" stroke-width=\"2\" stroke-dasharray=\"3,3\"/> <circle cx=\"90\" cy=\"109\" r=\"11\" fill=\"rgb(255,255,255)\" class=\"agent_0_22\"/><circle cx=\"381\" cy=\"243\" r=\"9\" fill=\"rgb(255,255,255)\" class=\"agent_0_25\"/><circle cx=\"108\" cy=\"69\" r=\"8\" fill=\"rgb(255,255,255)\" class=\"agent_0_35\"/><circle cx=\"338\" cy=\"346\" r=\"8\" fill=\"rgb(255,0,0)\" class=\"agent_0_43\"/><circle cx=\"367\" cy=\"324\" r=\"13\" fill=\"rgb(255,255,255)\" class=\"agent_0_44\"/><circle cx=\"305\" cy=\"313\" r=\"11\" fill=\"rgb(255,255,255)\" class=\"agent_0_73\"/><circle cx=\"269\" cy=\"355\" r=\"8\" fill=\"rgb(255,0,0)\" class=\"agent_0_78\"/></svg><svg viewBox='0 0 430 430' id=\"svg\" width=\"172\" height=\"172\"><circle cx=\"215\" cy=\"215\" r=\"205\" fill=\"none\" stroke=\"black\" stroke-width=\"2\" stroke-dasharray=\"3,3\"/> <circle cx=\"90\" cy=\"109\" r=\"11\" fill=\"rgb(255,255,255)\" class=\"agent_0_22\"/><circle cx=\"381\" cy=\"243\" r=\"9\" fill=\"rgb(255,255,255)\" class=\"agent_0_25\"/><circle cx=\"108\" cy=\"69\" r=\"8\" fill=\"rgb(255,255,255)\" class=\"agent_0_35\"/><circle cx=\"338\" cy=\"346\" r=\"8\" fill=\"rgb(255,255,255)\" class=\"agent_0_43\"/><circle cx=\"367\" cy=\"324\" r=\"13\" fill=\"rgb(255,0,0)\" class=\"agent_0_44\"/><circle cx=\"305\" cy=\"313\" r=\"11\" fill=\"rgb(255,0,0)\" class=\"agent_0_73\"/><circle cx=\"269\" cy=\"355\" r=\"8\" fill=\"rgb(255,255,255)\" class=\"agent_0_78\"/></svg></div>"
      ],
      "text/plain": [
       "<IPython.core.display.HTML object>"
      ]
     },
     "metadata": {},
     "output_type": "display_data"
    },
    {
     "name": "stdout",
     "output_type": "stream",
     "text": [
      "\n",
      "----------------------------------------\n",
      "\n",
      "to_mention_true\n"
     ]
    },
    {
     "data": {
      "text/html": [
       "<div style=\"white-space: nowrap\"><svg viewbox='0 0 430 430' width=\"172\" height=\"172\" id=\"agent_0\"><circle cx=\"215\" cy=\"215\" r=\"205\" fill=\"none\" stroke=\"black\" stroke-width=\"2\" stroke-dasharray=\"3,3\"/><circle cx=\"90\" cy=\"109\" r=\"11\" fill=\"rgb(77,77,77)\"/><circle cx=\"381\" cy=\"243\" r=\"9\" fill=\"rgb(180,180,180)\"/><circle cx=\"108\" cy=\"69\" r=\"8\" fill=\"rgb(196,196,196)\"/><circle cx=\"338\" cy=\"346\" r=\"8\" fill=\"rgb(104,104,104)\"/><circle cx=\"367\" cy=\"324\" r=\"13\" fill=\"rgb(197,197,197)\"/><circle cx=\"305\" cy=\"313\" r=\"11\" fill=\"rgb(178,178,178)\"/><circle cx=\"269\" cy=\"355\" r=\"8\" fill=\"rgb(74,74,74)\"/></svg><svg viewBox='0 0 430 430' id=\"svg\" width=\"172\" height=\"172\"><circle cx=\"215\" cy=\"215\" r=\"205\" fill=\"none\" stroke=\"black\" stroke-width=\"2\" stroke-dasharray=\"3,3\"/> <circle cx=\"90\" cy=\"109\" r=\"11\" fill=\"rgb(255,255,255)\" class=\"agent_0_22\"/><circle cx=\"381\" cy=\"243\" r=\"9\" fill=\"rgb(255,255,255)\" class=\"agent_0_25\"/><circle cx=\"108\" cy=\"69\" r=\"8\" fill=\"rgb(255,255,255)\" class=\"agent_0_35\"/><circle cx=\"338\" cy=\"346\" r=\"8\" fill=\"rgb(255,0,0)\" class=\"agent_0_43\"/><circle cx=\"367\" cy=\"324\" r=\"13\" fill=\"rgb(255,0,0)\" class=\"agent_0_44\"/><circle cx=\"305\" cy=\"313\" r=\"11\" fill=\"rgb(255,255,255)\" class=\"agent_0_73\"/><circle cx=\"269\" cy=\"355\" r=\"8\" fill=\"rgb(255,255,255)\" class=\"agent_0_78\"/></svg><svg viewBox='0 0 430 430' id=\"svg\" width=\"172\" height=\"172\"><circle cx=\"215\" cy=\"215\" r=\"205\" fill=\"none\" stroke=\"black\" stroke-width=\"2\" stroke-dasharray=\"3,3\"/> <circle cx=\"90\" cy=\"109\" r=\"11\" fill=\"rgb(255,255,255)\" class=\"agent_0_22\"/><circle cx=\"381\" cy=\"243\" r=\"9\" fill=\"rgb(255,255,255)\" class=\"agent_0_25\"/><circle cx=\"108\" cy=\"69\" r=\"8\" fill=\"rgb(255,255,255)\" class=\"agent_0_35\"/><circle cx=\"338\" cy=\"346\" r=\"8\" fill=\"rgb(255,0,0)\" class=\"agent_0_43\"/><circle cx=\"367\" cy=\"324\" r=\"13\" fill=\"rgb(255,0,0)\" class=\"agent_0_44\"/><circle cx=\"305\" cy=\"313\" r=\"11\" fill=\"rgb(255,255,255)\" class=\"agent_0_73\"/><circle cx=\"269\" cy=\"355\" r=\"8\" fill=\"rgb(255,255,255)\" class=\"agent_0_78\"/></svg></div>"
      ],
      "text/plain": [
       "<IPython.core.display.HTML object>"
      ]
     },
     "metadata": {},
     "output_type": "display_data"
    },
    {
     "name": "stdout",
     "output_type": "stream",
     "text": [
      "to_mention_pred\n"
     ]
    },
    {
     "data": {
      "text/html": [
       "<div style=\"white-space: nowrap\"><svg viewbox='0 0 430 430' width=\"172\" height=\"172\" id=\"agent_0\"><circle cx=\"215\" cy=\"215\" r=\"205\" fill=\"none\" stroke=\"black\" stroke-width=\"2\" stroke-dasharray=\"3,3\"/><circle cx=\"90\" cy=\"109\" r=\"11\" fill=\"rgb(77,77,77)\"/><circle cx=\"381\" cy=\"243\" r=\"9\" fill=\"rgb(180,180,180)\"/><circle cx=\"108\" cy=\"69\" r=\"8\" fill=\"rgb(196,196,196)\"/><circle cx=\"338\" cy=\"346\" r=\"8\" fill=\"rgb(104,104,104)\"/><circle cx=\"367\" cy=\"324\" r=\"13\" fill=\"rgb(197,197,197)\"/><circle cx=\"305\" cy=\"313\" r=\"11\" fill=\"rgb(178,178,178)\"/><circle cx=\"269\" cy=\"355\" r=\"8\" fill=\"rgb(74,74,74)\"/></svg><svg viewBox='0 0 430 430' id=\"svg\" width=\"172\" height=\"172\"><circle cx=\"215\" cy=\"215\" r=\"205\" fill=\"none\" stroke=\"black\" stroke-width=\"2\" stroke-dasharray=\"3,3\"/> <circle cx=\"90\" cy=\"109\" r=\"11\" fill=\"rgb(255,255,255)\" class=\"agent_0_22\"/><circle cx=\"381\" cy=\"243\" r=\"9\" fill=\"rgb(255,255,255)\" class=\"agent_0_25\"/><circle cx=\"108\" cy=\"69\" r=\"8\" fill=\"rgb(255,255,255)\" class=\"agent_0_35\"/><circle cx=\"338\" cy=\"346\" r=\"8\" fill=\"rgb(255,0,0)\" class=\"agent_0_43\"/><circle cx=\"367\" cy=\"324\" r=\"13\" fill=\"rgb(255,255,255)\" class=\"agent_0_44\"/><circle cx=\"305\" cy=\"313\" r=\"11\" fill=\"rgb(255,255,255)\" class=\"agent_0_73\"/><circle cx=\"269\" cy=\"355\" r=\"8\" fill=\"rgb(255,0,0)\" class=\"agent_0_78\"/></svg><svg viewBox='0 0 430 430' id=\"svg\" width=\"172\" height=\"172\"><circle cx=\"215\" cy=\"215\" r=\"205\" fill=\"none\" stroke=\"black\" stroke-width=\"2\" stroke-dasharray=\"3,3\"/> <circle cx=\"90\" cy=\"109\" r=\"11\" fill=\"rgb(255,255,255)\" class=\"agent_0_22\"/><circle cx=\"381\" cy=\"243\" r=\"9\" fill=\"rgb(255,255,255)\" class=\"agent_0_25\"/><circle cx=\"108\" cy=\"69\" r=\"8\" fill=\"rgb(255,255,255)\" class=\"agent_0_35\"/><circle cx=\"338\" cy=\"346\" r=\"8\" fill=\"rgb(255,255,255)\" class=\"agent_0_43\"/><circle cx=\"367\" cy=\"324\" r=\"13\" fill=\"rgb(255,0,0)\" class=\"agent_0_44\"/><circle cx=\"305\" cy=\"313\" r=\"11\" fill=\"rgb(255,255,255)\" class=\"agent_0_73\"/><circle cx=\"269\" cy=\"355\" r=\"8\" fill=\"rgb(255,255,255)\" class=\"agent_0_78\"/></svg></div>"
      ],
      "text/plain": [
       "<IPython.core.display.HTML object>"
      ]
     },
     "metadata": {},
     "output_type": "display_data"
    },
    {
     "name": "stdout",
     "output_type": "stream",
     "text": [
      "sample 0\tyes i see that . is the one on the left slightly higher ? <eos>\n",
      "sample 1\tyes i have that . let 's pick the darker one <selection>\n",
      "sample 2\tyes , i have that . let 's pick the darker one <selection>\n",
      "sample 3\tyes i have that . let 's pick the top one <selection>\n",
      "sample 4\tyes , i have that . let 's pick the darker one on the right . <selection>\n",
      "sample 5\ti have that . let 's pick the darker one <selection>\n",
      "sample 6\tyes i have that . let 's pick the top one . <selection>\n",
      "sample 7\tno . i have two dots that are very close together . the one on the left is a little darker and a little larger . <eos>\n",
      "sample 8\tyes i have that . choose the top one ? <eos>\n",
      "sample 9\tyes i see that . lets pick the darker one <selection>\n",
      "argmax\tyes i see that . let 's pick the top one <selection>\n",
      "human\tyes ! are the ones all the way to the right the closest to each other ? <eos>\n",
      "refs_true\n"
     ]
    },
    {
     "data": {
      "text/html": [
       "<div style=\"white-space: nowrap\"><svg viewbox='0 0 430 430' width=\"172\" height=\"172\" id=\"agent_0\"><circle cx=\"215\" cy=\"215\" r=\"205\" fill=\"none\" stroke=\"black\" stroke-width=\"2\" stroke-dasharray=\"3,3\"/><circle cx=\"90\" cy=\"109\" r=\"11\" fill=\"rgb(77,77,77)\"/><circle cx=\"381\" cy=\"243\" r=\"9\" fill=\"rgb(180,180,180)\"/><circle cx=\"108\" cy=\"69\" r=\"8\" fill=\"rgb(196,196,196)\"/><circle cx=\"338\" cy=\"346\" r=\"8\" fill=\"rgb(104,104,104)\"/><circle cx=\"367\" cy=\"324\" r=\"13\" fill=\"rgb(197,197,197)\"/><circle cx=\"305\" cy=\"313\" r=\"11\" fill=\"rgb(178,178,178)\"/><circle cx=\"269\" cy=\"355\" r=\"8\" fill=\"rgb(74,74,74)\"/></svg><svg viewBox='0 0 430 430' id=\"svg\" width=\"172\" height=\"172\"><circle cx=\"215\" cy=\"215\" r=\"205\" fill=\"none\" stroke=\"black\" stroke-width=\"2\" stroke-dasharray=\"3,3\"/> <circle cx=\"90\" cy=\"109\" r=\"11\" fill=\"rgb(255,255,255)\" class=\"agent_0_22\"/><circle cx=\"381\" cy=\"243\" r=\"9\" fill=\"rgb(255,255,255)\" class=\"agent_0_25\"/><circle cx=\"108\" cy=\"69\" r=\"8\" fill=\"rgb(255,255,255)\" class=\"agent_0_35\"/><circle cx=\"338\" cy=\"346\" r=\"8\" fill=\"rgb(255,0,0)\" class=\"agent_0_43\"/><circle cx=\"367\" cy=\"324\" r=\"13\" fill=\"rgb(255,0,0)\" class=\"agent_0_44\"/><circle cx=\"305\" cy=\"313\" r=\"11\" fill=\"rgb(255,255,255)\" class=\"agent_0_73\"/><circle cx=\"269\" cy=\"355\" r=\"8\" fill=\"rgb(255,255,255)\" class=\"agent_0_78\"/></svg><svg viewBox='0 0 430 430' id=\"svg\" width=\"172\" height=\"172\"><circle cx=\"215\" cy=\"215\" r=\"205\" fill=\"none\" stroke=\"black\" stroke-width=\"2\" stroke-dasharray=\"3,3\"/> <circle cx=\"90\" cy=\"109\" r=\"11\" fill=\"rgb(255,255,255)\" class=\"agent_0_22\"/><circle cx=\"381\" cy=\"243\" r=\"9\" fill=\"rgb(255,255,255)\" class=\"agent_0_25\"/><circle cx=\"108\" cy=\"69\" r=\"8\" fill=\"rgb(255,255,255)\" class=\"agent_0_35\"/><circle cx=\"338\" cy=\"346\" r=\"8\" fill=\"rgb(255,0,0)\" class=\"agent_0_43\"/><circle cx=\"367\" cy=\"324\" r=\"13\" fill=\"rgb(255,0,0)\" class=\"agent_0_44\"/><circle cx=\"305\" cy=\"313\" r=\"11\" fill=\"rgb(255,255,255)\" class=\"agent_0_73\"/><circle cx=\"269\" cy=\"355\" r=\"8\" fill=\"rgb(255,255,255)\" class=\"agent_0_78\"/></svg></div>"
      ],
      "text/plain": [
       "<IPython.core.display.HTML object>"
      ]
     },
     "metadata": {},
     "output_type": "display_data"
    },
    {
     "name": "stdout",
     "output_type": "stream",
     "text": [
      "refs_pred\n"
     ]
    },
    {
     "data": {
      "text/html": [
       "<div style=\"white-space: nowrap\"><svg viewbox='0 0 430 430' width=\"172\" height=\"172\" id=\"agent_0\"><circle cx=\"215\" cy=\"215\" r=\"205\" fill=\"none\" stroke=\"black\" stroke-width=\"2\" stroke-dasharray=\"3,3\"/><circle cx=\"90\" cy=\"109\" r=\"11\" fill=\"rgb(77,77,77)\"/><circle cx=\"381\" cy=\"243\" r=\"9\" fill=\"rgb(180,180,180)\"/><circle cx=\"108\" cy=\"69\" r=\"8\" fill=\"rgb(196,196,196)\"/><circle cx=\"338\" cy=\"346\" r=\"8\" fill=\"rgb(104,104,104)\"/><circle cx=\"367\" cy=\"324\" r=\"13\" fill=\"rgb(197,197,197)\"/><circle cx=\"305\" cy=\"313\" r=\"11\" fill=\"rgb(178,178,178)\"/><circle cx=\"269\" cy=\"355\" r=\"8\" fill=\"rgb(74,74,74)\"/></svg><svg viewBox='0 0 430 430' id=\"svg\" width=\"172\" height=\"172\"><circle cx=\"215\" cy=\"215\" r=\"205\" fill=\"none\" stroke=\"black\" stroke-width=\"2\" stroke-dasharray=\"3,3\"/> <circle cx=\"90\" cy=\"109\" r=\"11\" fill=\"rgb(255,255,255)\" class=\"agent_0_22\"/><circle cx=\"381\" cy=\"243\" r=\"9\" fill=\"rgb(255,255,255)\" class=\"agent_0_25\"/><circle cx=\"108\" cy=\"69\" r=\"8\" fill=\"rgb(255,255,255)\" class=\"agent_0_35\"/><circle cx=\"338\" cy=\"346\" r=\"8\" fill=\"rgb(255,0,0)\" class=\"agent_0_43\"/><circle cx=\"367\" cy=\"324\" r=\"13\" fill=\"rgb(255,255,255)\" class=\"agent_0_44\"/><circle cx=\"305\" cy=\"313\" r=\"11\" fill=\"rgb(255,0,0)\" class=\"agent_0_73\"/><circle cx=\"269\" cy=\"355\" r=\"8\" fill=\"rgb(255,0,0)\" class=\"agent_0_78\"/></svg><svg viewBox='0 0 430 430' id=\"svg\" width=\"172\" height=\"172\"><circle cx=\"215\" cy=\"215\" r=\"205\" fill=\"none\" stroke=\"black\" stroke-width=\"2\" stroke-dasharray=\"3,3\"/> <circle cx=\"90\" cy=\"109\" r=\"11\" fill=\"rgb(255,255,255)\" class=\"agent_0_22\"/><circle cx=\"381\" cy=\"243\" r=\"9\" fill=\"rgb(255,255,255)\" class=\"agent_0_25\"/><circle cx=\"108\" cy=\"69\" r=\"8\" fill=\"rgb(255,255,255)\" class=\"agent_0_35\"/><circle cx=\"338\" cy=\"346\" r=\"8\" fill=\"rgb(255,0,0)\" class=\"agent_0_43\"/><circle cx=\"367\" cy=\"324\" r=\"13\" fill=\"rgb(255,255,255)\" class=\"agent_0_44\"/><circle cx=\"305\" cy=\"313\" r=\"11\" fill=\"rgb(255,0,0)\" class=\"agent_0_73\"/><circle cx=\"269\" cy=\"355\" r=\"8\" fill=\"rgb(255,0,0)\" class=\"agent_0_78\"/></svg></div>"
      ],
      "text/plain": [
       "<IPython.core.display.HTML object>"
      ]
     },
     "metadata": {},
     "output_type": "display_data"
    },
    {
     "name": "stdout",
     "output_type": "stream",
     "text": [
      "\n",
      "----------------------------------------\n",
      "\n",
      "human\tTHEM: yes <eos>\n",
      "\n",
      "----------------------------------------\n",
      "\n",
      "to_mention_true\n"
     ]
    },
    {
     "data": {
      "text/html": [
       "<div style=\"white-space: nowrap\"><svg viewbox='0 0 430 430' width=\"172\" height=\"172\" id=\"agent_0\"><circle cx=\"215\" cy=\"215\" r=\"205\" fill=\"none\" stroke=\"black\" stroke-width=\"2\" stroke-dasharray=\"3,3\"/><circle cx=\"90\" cy=\"109\" r=\"11\" fill=\"rgb(77,77,77)\"/><circle cx=\"381\" cy=\"243\" r=\"9\" fill=\"rgb(180,180,180)\"/><circle cx=\"108\" cy=\"69\" r=\"8\" fill=\"rgb(196,196,196)\"/><circle cx=\"338\" cy=\"346\" r=\"8\" fill=\"rgb(104,104,104)\"/><circle cx=\"367\" cy=\"324\" r=\"13\" fill=\"rgb(197,197,197)\"/><circle cx=\"305\" cy=\"313\" r=\"11\" fill=\"rgb(178,178,178)\"/><circle cx=\"269\" cy=\"355\" r=\"8\" fill=\"rgb(74,74,74)\"/></svg><svg viewBox='0 0 430 430' id=\"svg\" width=\"172\" height=\"172\"><circle cx=\"215\" cy=\"215\" r=\"205\" fill=\"none\" stroke=\"black\" stroke-width=\"2\" stroke-dasharray=\"3,3\"/> <circle cx=\"90\" cy=\"109\" r=\"11\" fill=\"rgb(255,255,255)\" class=\"agent_0_22\"/><circle cx=\"381\" cy=\"243\" r=\"9\" fill=\"rgb(255,255,255)\" class=\"agent_0_25\"/><circle cx=\"108\" cy=\"69\" r=\"8\" fill=\"rgb(255,255,255)\" class=\"agent_0_35\"/><circle cx=\"338\" cy=\"346\" r=\"8\" fill=\"rgb(255,255,255)\" class=\"agent_0_43\"/><circle cx=\"367\" cy=\"324\" r=\"13\" fill=\"rgb(255,0,0)\" class=\"agent_0_44\"/><circle cx=\"305\" cy=\"313\" r=\"11\" fill=\"rgb(255,255,255)\" class=\"agent_0_73\"/><circle cx=\"269\" cy=\"355\" r=\"8\" fill=\"rgb(255,255,255)\" class=\"agent_0_78\"/></svg></div>"
      ],
      "text/plain": [
       "<IPython.core.display.HTML object>"
      ]
     },
     "metadata": {},
     "output_type": "display_data"
    },
    {
     "name": "stdout",
     "output_type": "stream",
     "text": [
      "to_mention_pred\n"
     ]
    },
    {
     "data": {
      "text/html": [
       "<div style=\"white-space: nowrap\"><svg viewbox='0 0 430 430' width=\"172\" height=\"172\" id=\"agent_0\"><circle cx=\"215\" cy=\"215\" r=\"205\" fill=\"none\" stroke=\"black\" stroke-width=\"2\" stroke-dasharray=\"3,3\"/><circle cx=\"90\" cy=\"109\" r=\"11\" fill=\"rgb(77,77,77)\"/><circle cx=\"381\" cy=\"243\" r=\"9\" fill=\"rgb(180,180,180)\"/><circle cx=\"108\" cy=\"69\" r=\"8\" fill=\"rgb(196,196,196)\"/><circle cx=\"338\" cy=\"346\" r=\"8\" fill=\"rgb(104,104,104)\"/><circle cx=\"367\" cy=\"324\" r=\"13\" fill=\"rgb(197,197,197)\"/><circle cx=\"305\" cy=\"313\" r=\"11\" fill=\"rgb(178,178,178)\"/><circle cx=\"269\" cy=\"355\" r=\"8\" fill=\"rgb(74,74,74)\"/></svg><svg viewBox='0 0 430 430' id=\"svg\" width=\"172\" height=\"172\"><circle cx=\"215\" cy=\"215\" r=\"205\" fill=\"none\" stroke=\"black\" stroke-width=\"2\" stroke-dasharray=\"3,3\"/> <circle cx=\"90\" cy=\"109\" r=\"11\" fill=\"rgb(255,255,255)\" class=\"agent_0_22\"/><circle cx=\"381\" cy=\"243\" r=\"9\" fill=\"rgb(255,255,255)\" class=\"agent_0_25\"/><circle cx=\"108\" cy=\"69\" r=\"8\" fill=\"rgb(255,255,255)\" class=\"agent_0_35\"/><circle cx=\"338\" cy=\"346\" r=\"8\" fill=\"rgb(255,255,255)\" class=\"agent_0_43\"/><circle cx=\"367\" cy=\"324\" r=\"13\" fill=\"rgb(255,255,255)\" class=\"agent_0_44\"/><circle cx=\"305\" cy=\"313\" r=\"11\" fill=\"rgb(255,255,255)\" class=\"agent_0_73\"/><circle cx=\"269\" cy=\"355\" r=\"8\" fill=\"rgb(255,0,0)\" class=\"agent_0_78\"/></svg></div>"
      ],
      "text/plain": [
       "<IPython.core.display.HTML object>"
      ]
     },
     "metadata": {},
     "output_type": "display_data"
    },
    {
     "name": "stdout",
     "output_type": "stream",
     "text": [
      "sample 0\tok , lets click the larger one <selection>\n",
      "sample 1\tok , lets click the larger one <selection>\n",
      "sample 2\tlets pick the larger one <selection>\n",
      "sample 3\tok , lets pick the larger one <selection>\n",
      "sample 4\tk click the large light one on top ! <selection>\n",
      "sample 5\tlet 's choose the larger one on the right <selection>\n",
      "sample 6\tlets pick the large one <selection>\n",
      "sample 7\tok , lets click the larger one <selection>\n",
      "sample 8\tlets pick the larger one <selection>\n",
      "sample 9\tok , lets click the larger one <selection>\n",
      "argmax\tok , lets click the larger one on the right <selection>\n",
      "human\tyes click the large very light grey one all the way to the right <selection>\n",
      "refs_true\n"
     ]
    },
    {
     "data": {
      "text/html": [
       "<div style=\"white-space: nowrap\"><svg viewbox='0 0 430 430' width=\"172\" height=\"172\" id=\"agent_0\"><circle cx=\"215\" cy=\"215\" r=\"205\" fill=\"none\" stroke=\"black\" stroke-width=\"2\" stroke-dasharray=\"3,3\"/><circle cx=\"90\" cy=\"109\" r=\"11\" fill=\"rgb(77,77,77)\"/><circle cx=\"381\" cy=\"243\" r=\"9\" fill=\"rgb(180,180,180)\"/><circle cx=\"108\" cy=\"69\" r=\"8\" fill=\"rgb(196,196,196)\"/><circle cx=\"338\" cy=\"346\" r=\"8\" fill=\"rgb(104,104,104)\"/><circle cx=\"367\" cy=\"324\" r=\"13\" fill=\"rgb(197,197,197)\"/><circle cx=\"305\" cy=\"313\" r=\"11\" fill=\"rgb(178,178,178)\"/><circle cx=\"269\" cy=\"355\" r=\"8\" fill=\"rgb(74,74,74)\"/></svg><svg viewBox='0 0 430 430' id=\"svg\" width=\"172\" height=\"172\"><circle cx=\"215\" cy=\"215\" r=\"205\" fill=\"none\" stroke=\"black\" stroke-width=\"2\" stroke-dasharray=\"3,3\"/> <circle cx=\"90\" cy=\"109\" r=\"11\" fill=\"rgb(255,255,255)\" class=\"agent_0_22\"/><circle cx=\"381\" cy=\"243\" r=\"9\" fill=\"rgb(255,255,255)\" class=\"agent_0_25\"/><circle cx=\"108\" cy=\"69\" r=\"8\" fill=\"rgb(255,255,255)\" class=\"agent_0_35\"/><circle cx=\"338\" cy=\"346\" r=\"8\" fill=\"rgb(255,255,255)\" class=\"agent_0_43\"/><circle cx=\"367\" cy=\"324\" r=\"13\" fill=\"rgb(255,0,0)\" class=\"agent_0_44\"/><circle cx=\"305\" cy=\"313\" r=\"11\" fill=\"rgb(255,255,255)\" class=\"agent_0_73\"/><circle cx=\"269\" cy=\"355\" r=\"8\" fill=\"rgb(255,255,255)\" class=\"agent_0_78\"/></svg></div>"
      ],
      "text/plain": [
       "<IPython.core.display.HTML object>"
      ]
     },
     "metadata": {},
     "output_type": "display_data"
    },
    {
     "name": "stdout",
     "output_type": "stream",
     "text": [
      "refs_pred\n"
     ]
    },
    {
     "data": {
      "text/html": [
       "<div style=\"white-space: nowrap\"><svg viewbox='0 0 430 430' width=\"172\" height=\"172\" id=\"agent_0\"><circle cx=\"215\" cy=\"215\" r=\"205\" fill=\"none\" stroke=\"black\" stroke-width=\"2\" stroke-dasharray=\"3,3\"/><circle cx=\"90\" cy=\"109\" r=\"11\" fill=\"rgb(77,77,77)\"/><circle cx=\"381\" cy=\"243\" r=\"9\" fill=\"rgb(180,180,180)\"/><circle cx=\"108\" cy=\"69\" r=\"8\" fill=\"rgb(196,196,196)\"/><circle cx=\"338\" cy=\"346\" r=\"8\" fill=\"rgb(104,104,104)\"/><circle cx=\"367\" cy=\"324\" r=\"13\" fill=\"rgb(197,197,197)\"/><circle cx=\"305\" cy=\"313\" r=\"11\" fill=\"rgb(178,178,178)\"/><circle cx=\"269\" cy=\"355\" r=\"8\" fill=\"rgb(74,74,74)\"/></svg><svg viewBox='0 0 430 430' id=\"svg\" width=\"172\" height=\"172\"><circle cx=\"215\" cy=\"215\" r=\"205\" fill=\"none\" stroke=\"black\" stroke-width=\"2\" stroke-dasharray=\"3,3\"/> <circle cx=\"90\" cy=\"109\" r=\"11\" fill=\"rgb(255,255,255)\" class=\"agent_0_22\"/><circle cx=\"381\" cy=\"243\" r=\"9\" fill=\"rgb(255,255,255)\" class=\"agent_0_25\"/><circle cx=\"108\" cy=\"69\" r=\"8\" fill=\"rgb(255,255,255)\" class=\"agent_0_35\"/><circle cx=\"338\" cy=\"346\" r=\"8\" fill=\"rgb(255,255,255)\" class=\"agent_0_43\"/><circle cx=\"367\" cy=\"324\" r=\"13\" fill=\"rgb(255,0,0)\" class=\"agent_0_44\"/><circle cx=\"305\" cy=\"313\" r=\"11\" fill=\"rgb(255,255,255)\" class=\"agent_0_73\"/><circle cx=\"269\" cy=\"355\" r=\"8\" fill=\"rgb(255,255,255)\" class=\"agent_0_78\"/></svg></div>"
      ],
      "text/plain": [
       "<IPython.core.display.HTML object>"
      ]
     },
     "metadata": {},
     "output_type": "display_data"
    },
    {
     "name": "stdout",
     "output_type": "stream",
     "text": [
      "\n",
      "----------------------------------------\n",
      "\n"
     ]
    }
   ],
   "source": [
    "force_contexts_and_mentions(6)"
   ]
  },
  {
   "cell_type": "code",
   "execution_count": 93,
   "metadata": {
    "scrolled": false
   },
   "outputs": [
    {
     "name": "stdout",
     "output_type": "stream",
     "text": [
      "to_mention_true\n"
     ]
    },
    {
     "data": {
      "text/html": [
       "<div style=\"white-space: nowrap\"><svg viewbox='0 0 430 430' width=\"172\" height=\"172\" id=\"agent_1\"><circle cx=\"215\" cy=\"215\" r=\"205\" fill=\"none\" stroke=\"black\" stroke-width=\"2\" stroke-dasharray=\"3,3\"/><circle cx=\"400\" cy=\"182\" r=\"9\" fill=\"rgb(194,194,194)\"/><circle cx=\"256\" cy=\"157\" r=\"8\" fill=\"rgb(200,200,200)\"/><circle cx=\"314\" cy=\"167\" r=\"11\" fill=\"rgb(120,120,120)\"/><circle cx=\"314\" cy=\"209\" r=\"13\" fill=\"rgb(133,133,133)\"/><circle cx=\"358\" cy=\"238\" r=\"7\" fill=\"rgb(96,96,96)\"/><circle cx=\"316\" cy=\"91\" r=\"10\" fill=\"rgb(145,145,145)\"/><circle cx=\"225\" cy=\"379\" r=\"13\" fill=\"rgb(201,201,201)\"/></svg><svg viewBox='0 0 430 430' id=\"svg\" width=\"172\" height=\"172\"><circle cx=\"215\" cy=\"215\" r=\"205\" fill=\"none\" stroke=\"black\" stroke-width=\"2\" stroke-dasharray=\"3,3\"/> <circle cx=\"400\" cy=\"182\" r=\"9\" fill=\"rgb(255,255,255)\" class=\"agent_1_0\"/><circle cx=\"256\" cy=\"157\" r=\"8\" fill=\"rgb(255,255,255)\" class=\"agent_1_6\"/><circle cx=\"314\" cy=\"167\" r=\"11\" fill=\"rgb(255,255,255)\" class=\"agent_1_14\"/><circle cx=\"314\" cy=\"209\" r=\"13\" fill=\"rgb(255,255,255)\" class=\"agent_1_23\"/><circle cx=\"358\" cy=\"238\" r=\"7\" fill=\"rgb(255,255,255)\" class=\"agent_1_27\"/><circle cx=\"316\" cy=\"91\" r=\"10\" fill=\"rgb(255,255,255)\" class=\"agent_1_38\"/><circle cx=\"225\" cy=\"379\" r=\"13\" fill=\"rgb(255,0,0)\" class=\"agent_1_52\"/></svg><svg viewBox='0 0 430 430' id=\"svg\" width=\"172\" height=\"172\"><circle cx=\"215\" cy=\"215\" r=\"205\" fill=\"none\" stroke=\"black\" stroke-width=\"2\" stroke-dasharray=\"3,3\"/> <circle cx=\"400\" cy=\"182\" r=\"9\" fill=\"rgb(255,255,255)\" class=\"agent_1_0\"/><circle cx=\"256\" cy=\"157\" r=\"8\" fill=\"rgb(255,255,255)\" class=\"agent_1_6\"/><circle cx=\"314\" cy=\"167\" r=\"11\" fill=\"rgb(255,255,255)\" class=\"agent_1_14\"/><circle cx=\"314\" cy=\"209\" r=\"13\" fill=\"rgb(255,255,255)\" class=\"agent_1_23\"/><circle cx=\"358\" cy=\"238\" r=\"7\" fill=\"rgb(255,255,255)\" class=\"agent_1_27\"/><circle cx=\"316\" cy=\"91\" r=\"10\" fill=\"rgb(255,255,255)\" class=\"agent_1_38\"/><circle cx=\"225\" cy=\"379\" r=\"13\" fill=\"rgb(255,0,0)\" class=\"agent_1_52\"/></svg></div>"
      ],
      "text/plain": [
       "<IPython.core.display.HTML object>"
      ]
     },
     "metadata": {},
     "output_type": "display_data"
    },
    {
     "name": "stdout",
     "output_type": "stream",
     "text": [
      "to_mention_pred\n"
     ]
    },
    {
     "data": {
      "text/html": [
       "<div style=\"white-space: nowrap\"><svg viewbox='0 0 430 430' width=\"172\" height=\"172\" id=\"agent_1\"><circle cx=\"215\" cy=\"215\" r=\"205\" fill=\"none\" stroke=\"black\" stroke-width=\"2\" stroke-dasharray=\"3,3\"/><circle cx=\"400\" cy=\"182\" r=\"9\" fill=\"rgb(194,194,194)\"/><circle cx=\"256\" cy=\"157\" r=\"8\" fill=\"rgb(200,200,200)\"/><circle cx=\"314\" cy=\"167\" r=\"11\" fill=\"rgb(120,120,120)\"/><circle cx=\"314\" cy=\"209\" r=\"13\" fill=\"rgb(133,133,133)\"/><circle cx=\"358\" cy=\"238\" r=\"7\" fill=\"rgb(96,96,96)\"/><circle cx=\"316\" cy=\"91\" r=\"10\" fill=\"rgb(145,145,145)\"/><circle cx=\"225\" cy=\"379\" r=\"13\" fill=\"rgb(201,201,201)\"/></svg><svg viewBox='0 0 430 430' id=\"svg\" width=\"172\" height=\"172\"><circle cx=\"215\" cy=\"215\" r=\"205\" fill=\"none\" stroke=\"black\" stroke-width=\"2\" stroke-dasharray=\"3,3\"/> <circle cx=\"400\" cy=\"182\" r=\"9\" fill=\"rgb(255,255,255)\" class=\"agent_1_0\"/><circle cx=\"256\" cy=\"157\" r=\"8\" fill=\"rgb(255,255,255)\" class=\"agent_1_6\"/><circle cx=\"314\" cy=\"167\" r=\"11\" fill=\"rgb(255,255,255)\" class=\"agent_1_14\"/><circle cx=\"314\" cy=\"209\" r=\"13\" fill=\"rgb(255,255,255)\" class=\"agent_1_23\"/><circle cx=\"358\" cy=\"238\" r=\"7\" fill=\"rgb(255,255,255)\" class=\"agent_1_27\"/><circle cx=\"316\" cy=\"91\" r=\"10\" fill=\"rgb(255,255,255)\" class=\"agent_1_38\"/><circle cx=\"225\" cy=\"379\" r=\"13\" fill=\"rgb(255,0,0)\" class=\"agent_1_52\"/></svg><svg viewBox='0 0 430 430' id=\"svg\" width=\"172\" height=\"172\"><circle cx=\"215\" cy=\"215\" r=\"205\" fill=\"none\" stroke=\"black\" stroke-width=\"2\" stroke-dasharray=\"3,3\"/> <circle cx=\"400\" cy=\"182\" r=\"9\" fill=\"rgb(255,255,255)\" class=\"agent_1_0\"/><circle cx=\"256\" cy=\"157\" r=\"8\" fill=\"rgb(255,255,255)\" class=\"agent_1_6\"/><circle cx=\"314\" cy=\"167\" r=\"11\" fill=\"rgb(255,255,255)\" class=\"agent_1_14\"/><circle cx=\"314\" cy=\"209\" r=\"13\" fill=\"rgb(255,255,255)\" class=\"agent_1_23\"/><circle cx=\"358\" cy=\"238\" r=\"7\" fill=\"rgb(255,255,255)\" class=\"agent_1_27\"/><circle cx=\"316\" cy=\"91\" r=\"10\" fill=\"rgb(255,255,255)\" class=\"agent_1_38\"/><circle cx=\"225\" cy=\"379\" r=\"13\" fill=\"rgb(255,255,255)\" class=\"agent_1_52\"/></svg></div>"
      ],
      "text/plain": [
       "<IPython.core.display.HTML object>"
      ]
     },
     "metadata": {},
     "output_type": "display_data"
    },
    {
     "name": "stdout",
     "output_type": "stream",
     "text": [
      "sample 0\ti have a large light grey dot by itself <eos>\n",
      "sample 1\ti have a large light gray dot by itself <eos>\n",
      "sample 2\ti have a large light grey dot by itself <eos>\n",
      "sample 3\ti have a large light gray dot by itself <eos>\n",
      "sample 4\ti have a large light grey dot by itself <eos>\n",
      "sample 5\ti have a large light gray dot by itself <eos>\n",
      "sample 6\ti have a large light gray dot by itself <eos>\n",
      "sample 7\ti have a large light grey dot by itself <eos>\n",
      "sample 8\ti have a large light gray dot by itself <eos>\n",
      "sample 9\tdo you see a large light grey dot by itself ? <eos>\n",
      "argmax\ti have a large light grey dot by itself <eos>\n",
      "human\tthere is a large light grey dot at the bottom center do u have it <eos>\n",
      "refs_true\n"
     ]
    },
    {
     "data": {
      "text/html": [
       "<div style=\"white-space: nowrap\"><svg viewbox='0 0 430 430' width=\"172\" height=\"172\" id=\"agent_1\"><circle cx=\"215\" cy=\"215\" r=\"205\" fill=\"none\" stroke=\"black\" stroke-width=\"2\" stroke-dasharray=\"3,3\"/><circle cx=\"400\" cy=\"182\" r=\"9\" fill=\"rgb(194,194,194)\"/><circle cx=\"256\" cy=\"157\" r=\"8\" fill=\"rgb(200,200,200)\"/><circle cx=\"314\" cy=\"167\" r=\"11\" fill=\"rgb(120,120,120)\"/><circle cx=\"314\" cy=\"209\" r=\"13\" fill=\"rgb(133,133,133)\"/><circle cx=\"358\" cy=\"238\" r=\"7\" fill=\"rgb(96,96,96)\"/><circle cx=\"316\" cy=\"91\" r=\"10\" fill=\"rgb(145,145,145)\"/><circle cx=\"225\" cy=\"379\" r=\"13\" fill=\"rgb(201,201,201)\"/></svg><svg viewBox='0 0 430 430' id=\"svg\" width=\"172\" height=\"172\"><circle cx=\"215\" cy=\"215\" r=\"205\" fill=\"none\" stroke=\"black\" stroke-width=\"2\" stroke-dasharray=\"3,3\"/> <circle cx=\"400\" cy=\"182\" r=\"9\" fill=\"rgb(255,255,255)\" class=\"agent_1_0\"/><circle cx=\"256\" cy=\"157\" r=\"8\" fill=\"rgb(255,255,255)\" class=\"agent_1_6\"/><circle cx=\"314\" cy=\"167\" r=\"11\" fill=\"rgb(255,255,255)\" class=\"agent_1_14\"/><circle cx=\"314\" cy=\"209\" r=\"13\" fill=\"rgb(255,255,255)\" class=\"agent_1_23\"/><circle cx=\"358\" cy=\"238\" r=\"7\" fill=\"rgb(255,255,255)\" class=\"agent_1_27\"/><circle cx=\"316\" cy=\"91\" r=\"10\" fill=\"rgb(255,255,255)\" class=\"agent_1_38\"/><circle cx=\"225\" cy=\"379\" r=\"13\" fill=\"rgb(255,0,0)\" class=\"agent_1_52\"/></svg><svg viewBox='0 0 430 430' id=\"svg\" width=\"172\" height=\"172\"><circle cx=\"215\" cy=\"215\" r=\"205\" fill=\"none\" stroke=\"black\" stroke-width=\"2\" stroke-dasharray=\"3,3\"/> <circle cx=\"400\" cy=\"182\" r=\"9\" fill=\"rgb(255,255,255)\" class=\"agent_1_0\"/><circle cx=\"256\" cy=\"157\" r=\"8\" fill=\"rgb(255,255,255)\" class=\"agent_1_6\"/><circle cx=\"314\" cy=\"167\" r=\"11\" fill=\"rgb(255,255,255)\" class=\"agent_1_14\"/><circle cx=\"314\" cy=\"209\" r=\"13\" fill=\"rgb(255,255,255)\" class=\"agent_1_23\"/><circle cx=\"358\" cy=\"238\" r=\"7\" fill=\"rgb(255,255,255)\" class=\"agent_1_27\"/><circle cx=\"316\" cy=\"91\" r=\"10\" fill=\"rgb(255,255,255)\" class=\"agent_1_38\"/><circle cx=\"225\" cy=\"379\" r=\"13\" fill=\"rgb(255,0,0)\" class=\"agent_1_52\"/></svg></div>"
      ],
      "text/plain": [
       "<IPython.core.display.HTML object>"
      ]
     },
     "metadata": {},
     "output_type": "display_data"
    },
    {
     "name": "stdout",
     "output_type": "stream",
     "text": [
      "refs_pred\n"
     ]
    },
    {
     "data": {
      "text/html": [
       "<div style=\"white-space: nowrap\"><svg viewbox='0 0 430 430' width=\"172\" height=\"172\" id=\"agent_1\"><circle cx=\"215\" cy=\"215\" r=\"205\" fill=\"none\" stroke=\"black\" stroke-width=\"2\" stroke-dasharray=\"3,3\"/><circle cx=\"400\" cy=\"182\" r=\"9\" fill=\"rgb(194,194,194)\"/><circle cx=\"256\" cy=\"157\" r=\"8\" fill=\"rgb(200,200,200)\"/><circle cx=\"314\" cy=\"167\" r=\"11\" fill=\"rgb(120,120,120)\"/><circle cx=\"314\" cy=\"209\" r=\"13\" fill=\"rgb(133,133,133)\"/><circle cx=\"358\" cy=\"238\" r=\"7\" fill=\"rgb(96,96,96)\"/><circle cx=\"316\" cy=\"91\" r=\"10\" fill=\"rgb(145,145,145)\"/><circle cx=\"225\" cy=\"379\" r=\"13\" fill=\"rgb(201,201,201)\"/></svg><svg viewBox='0 0 430 430' id=\"svg\" width=\"172\" height=\"172\"><circle cx=\"215\" cy=\"215\" r=\"205\" fill=\"none\" stroke=\"black\" stroke-width=\"2\" stroke-dasharray=\"3,3\"/> <circle cx=\"400\" cy=\"182\" r=\"9\" fill=\"rgb(255,255,255)\" class=\"agent_1_0\"/><circle cx=\"256\" cy=\"157\" r=\"8\" fill=\"rgb(255,255,255)\" class=\"agent_1_6\"/><circle cx=\"314\" cy=\"167\" r=\"11\" fill=\"rgb(255,255,255)\" class=\"agent_1_14\"/><circle cx=\"314\" cy=\"209\" r=\"13\" fill=\"rgb(255,255,255)\" class=\"agent_1_23\"/><circle cx=\"358\" cy=\"238\" r=\"7\" fill=\"rgb(255,255,255)\" class=\"agent_1_27\"/><circle cx=\"316\" cy=\"91\" r=\"10\" fill=\"rgb(255,255,255)\" class=\"agent_1_38\"/><circle cx=\"225\" cy=\"379\" r=\"13\" fill=\"rgb(255,0,0)\" class=\"agent_1_52\"/></svg><svg viewBox='0 0 430 430' id=\"svg\" width=\"172\" height=\"172\"><circle cx=\"215\" cy=\"215\" r=\"205\" fill=\"none\" stroke=\"black\" stroke-width=\"2\" stroke-dasharray=\"3,3\"/> <circle cx=\"400\" cy=\"182\" r=\"9\" fill=\"rgb(255,255,255)\" class=\"agent_1_0\"/><circle cx=\"256\" cy=\"157\" r=\"8\" fill=\"rgb(255,255,255)\" class=\"agent_1_6\"/><circle cx=\"314\" cy=\"167\" r=\"11\" fill=\"rgb(255,255,255)\" class=\"agent_1_14\"/><circle cx=\"314\" cy=\"209\" r=\"13\" fill=\"rgb(255,255,255)\" class=\"agent_1_23\"/><circle cx=\"358\" cy=\"238\" r=\"7\" fill=\"rgb(255,255,255)\" class=\"agent_1_27\"/><circle cx=\"316\" cy=\"91\" r=\"10\" fill=\"rgb(255,255,255)\" class=\"agent_1_38\"/><circle cx=\"225\" cy=\"379\" r=\"13\" fill=\"rgb(255,0,0)\" class=\"agent_1_52\"/></svg></div>"
      ],
      "text/plain": [
       "<IPython.core.display.HTML object>"
      ]
     },
     "metadata": {},
     "output_type": "display_data"
    },
    {
     "name": "stdout",
     "output_type": "stream",
     "text": [
      "\n",
      "----------------------------------------\n",
      "\n",
      "human\tTHEM: yes <eos>\n",
      "\n",
      "----------------------------------------\n",
      "\n",
      "to_mention_true\n"
     ]
    },
    {
     "data": {
      "text/html": [
       "<div style=\"white-space: nowrap\"><svg viewbox='0 0 430 430' width=\"172\" height=\"172\" id=\"agent_1\"><circle cx=\"215\" cy=\"215\" r=\"205\" fill=\"none\" stroke=\"black\" stroke-width=\"2\" stroke-dasharray=\"3,3\"/><circle cx=\"400\" cy=\"182\" r=\"9\" fill=\"rgb(194,194,194)\"/><circle cx=\"256\" cy=\"157\" r=\"8\" fill=\"rgb(200,200,200)\"/><circle cx=\"314\" cy=\"167\" r=\"11\" fill=\"rgb(120,120,120)\"/><circle cx=\"314\" cy=\"209\" r=\"13\" fill=\"rgb(133,133,133)\"/><circle cx=\"358\" cy=\"238\" r=\"7\" fill=\"rgb(96,96,96)\"/><circle cx=\"316\" cy=\"91\" r=\"10\" fill=\"rgb(145,145,145)\"/><circle cx=\"225\" cy=\"379\" r=\"13\" fill=\"rgb(201,201,201)\"/></svg><svg viewBox='0 0 430 430' id=\"svg\" width=\"172\" height=\"172\"><circle cx=\"215\" cy=\"215\" r=\"205\" fill=\"none\" stroke=\"black\" stroke-width=\"2\" stroke-dasharray=\"3,3\"/> <circle cx=\"400\" cy=\"182\" r=\"9\" fill=\"rgb(255,255,255)\" class=\"agent_1_0\"/><circle cx=\"256\" cy=\"157\" r=\"8\" fill=\"rgb(255,255,255)\" class=\"agent_1_6\"/><circle cx=\"314\" cy=\"167\" r=\"11\" fill=\"rgb(255,255,255)\" class=\"agent_1_14\"/><circle cx=\"314\" cy=\"209\" r=\"13\" fill=\"rgb(255,255,255)\" class=\"agent_1_23\"/><circle cx=\"358\" cy=\"238\" r=\"7\" fill=\"rgb(255,255,255)\" class=\"agent_1_27\"/><circle cx=\"316\" cy=\"91\" r=\"10\" fill=\"rgb(255,255,255)\" class=\"agent_1_38\"/><circle cx=\"225\" cy=\"379\" r=\"13\" fill=\"rgb(255,0,0)\" class=\"agent_1_52\"/></svg></div>"
      ],
      "text/plain": [
       "<IPython.core.display.HTML object>"
      ]
     },
     "metadata": {},
     "output_type": "display_data"
    },
    {
     "name": "stdout",
     "output_type": "stream",
     "text": [
      "to_mention_pred\n"
     ]
    },
    {
     "data": {
      "text/html": [
       "<div style=\"white-space: nowrap\"><svg viewbox='0 0 430 430' width=\"172\" height=\"172\" id=\"agent_1\"><circle cx=\"215\" cy=\"215\" r=\"205\" fill=\"none\" stroke=\"black\" stroke-width=\"2\" stroke-dasharray=\"3,3\"/><circle cx=\"400\" cy=\"182\" r=\"9\" fill=\"rgb(194,194,194)\"/><circle cx=\"256\" cy=\"157\" r=\"8\" fill=\"rgb(200,200,200)\"/><circle cx=\"314\" cy=\"167\" r=\"11\" fill=\"rgb(120,120,120)\"/><circle cx=\"314\" cy=\"209\" r=\"13\" fill=\"rgb(133,133,133)\"/><circle cx=\"358\" cy=\"238\" r=\"7\" fill=\"rgb(96,96,96)\"/><circle cx=\"316\" cy=\"91\" r=\"10\" fill=\"rgb(145,145,145)\"/><circle cx=\"225\" cy=\"379\" r=\"13\" fill=\"rgb(201,201,201)\"/></svg><svg viewBox='0 0 430 430' id=\"svg\" width=\"172\" height=\"172\"><circle cx=\"215\" cy=\"215\" r=\"205\" fill=\"none\" stroke=\"black\" stroke-width=\"2\" stroke-dasharray=\"3,3\"/> <circle cx=\"400\" cy=\"182\" r=\"9\" fill=\"rgb(255,255,255)\" class=\"agent_1_0\"/><circle cx=\"256\" cy=\"157\" r=\"8\" fill=\"rgb(255,255,255)\" class=\"agent_1_6\"/><circle cx=\"314\" cy=\"167\" r=\"11\" fill=\"rgb(255,255,255)\" class=\"agent_1_14\"/><circle cx=\"314\" cy=\"209\" r=\"13\" fill=\"rgb(255,255,255)\" class=\"agent_1_23\"/><circle cx=\"358\" cy=\"238\" r=\"7\" fill=\"rgb(255,255,255)\" class=\"agent_1_27\"/><circle cx=\"316\" cy=\"91\" r=\"10\" fill=\"rgb(255,255,255)\" class=\"agent_1_38\"/><circle cx=\"225\" cy=\"379\" r=\"13\" fill=\"rgb(255,0,0)\" class=\"agent_1_52\"/></svg></div>"
      ],
      "text/plain": [
       "<IPython.core.display.HTML object>"
      ]
     },
     "metadata": {},
     "output_type": "display_data"
    },
    {
     "name": "stdout",
     "output_type": "stream",
     "text": [
      "sample 0\tlet 's pick that one <selection>\n",
      "sample 1\tlet 's pick that one <selection>\n",
      "sample 2\tlet 's pick that one <selection>\n",
      "sample 3\tpick the large light grey dot <selection>\n",
      "sample 4\tok let 's pick that one <selection>\n",
      "sample 5\tlets pick that one <selection>\n",
      "sample 6\tpick the large light grey dot <selection>\n",
      "sample 7\tlet 's choose that one <selection>\n",
      "sample 8\tlet 's select that one <selection>\n",
      "sample 9\tlet 's choose that one <selection>\n",
      "argmax\tlet 's pick that one <selection>\n",
      "human\tlets click it <selection>\n",
      "refs_true\n"
     ]
    },
    {
     "data": {
      "text/html": [
       "<div style=\"white-space: nowrap\"><svg viewbox='0 0 430 430' width=\"172\" height=\"172\" id=\"agent_1\"><circle cx=\"215\" cy=\"215\" r=\"205\" fill=\"none\" stroke=\"black\" stroke-width=\"2\" stroke-dasharray=\"3,3\"/><circle cx=\"400\" cy=\"182\" r=\"9\" fill=\"rgb(194,194,194)\"/><circle cx=\"256\" cy=\"157\" r=\"8\" fill=\"rgb(200,200,200)\"/><circle cx=\"314\" cy=\"167\" r=\"11\" fill=\"rgb(120,120,120)\"/><circle cx=\"314\" cy=\"209\" r=\"13\" fill=\"rgb(133,133,133)\"/><circle cx=\"358\" cy=\"238\" r=\"7\" fill=\"rgb(96,96,96)\"/><circle cx=\"316\" cy=\"91\" r=\"10\" fill=\"rgb(145,145,145)\"/><circle cx=\"225\" cy=\"379\" r=\"13\" fill=\"rgb(201,201,201)\"/></svg><svg viewBox='0 0 430 430' id=\"svg\" width=\"172\" height=\"172\"><circle cx=\"215\" cy=\"215\" r=\"205\" fill=\"none\" stroke=\"black\" stroke-width=\"2\" stroke-dasharray=\"3,3\"/> <circle cx=\"400\" cy=\"182\" r=\"9\" fill=\"rgb(255,255,255)\" class=\"agent_1_0\"/><circle cx=\"256\" cy=\"157\" r=\"8\" fill=\"rgb(255,255,255)\" class=\"agent_1_6\"/><circle cx=\"314\" cy=\"167\" r=\"11\" fill=\"rgb(255,255,255)\" class=\"agent_1_14\"/><circle cx=\"314\" cy=\"209\" r=\"13\" fill=\"rgb(255,255,255)\" class=\"agent_1_23\"/><circle cx=\"358\" cy=\"238\" r=\"7\" fill=\"rgb(255,255,255)\" class=\"agent_1_27\"/><circle cx=\"316\" cy=\"91\" r=\"10\" fill=\"rgb(255,255,255)\" class=\"agent_1_38\"/><circle cx=\"225\" cy=\"379\" r=\"13\" fill=\"rgb(255,0,0)\" class=\"agent_1_52\"/></svg></div>"
      ],
      "text/plain": [
       "<IPython.core.display.HTML object>"
      ]
     },
     "metadata": {},
     "output_type": "display_data"
    },
    {
     "name": "stdout",
     "output_type": "stream",
     "text": [
      "refs_pred\n"
     ]
    },
    {
     "data": {
      "text/html": [
       "<div style=\"white-space: nowrap\"><svg viewbox='0 0 430 430' width=\"172\" height=\"172\" id=\"agent_1\"><circle cx=\"215\" cy=\"215\" r=\"205\" fill=\"none\" stroke=\"black\" stroke-width=\"2\" stroke-dasharray=\"3,3\"/><circle cx=\"400\" cy=\"182\" r=\"9\" fill=\"rgb(194,194,194)\"/><circle cx=\"256\" cy=\"157\" r=\"8\" fill=\"rgb(200,200,200)\"/><circle cx=\"314\" cy=\"167\" r=\"11\" fill=\"rgb(120,120,120)\"/><circle cx=\"314\" cy=\"209\" r=\"13\" fill=\"rgb(133,133,133)\"/><circle cx=\"358\" cy=\"238\" r=\"7\" fill=\"rgb(96,96,96)\"/><circle cx=\"316\" cy=\"91\" r=\"10\" fill=\"rgb(145,145,145)\"/><circle cx=\"225\" cy=\"379\" r=\"13\" fill=\"rgb(201,201,201)\"/></svg><svg viewBox='0 0 430 430' id=\"svg\" width=\"172\" height=\"172\"><circle cx=\"215\" cy=\"215\" r=\"205\" fill=\"none\" stroke=\"black\" stroke-width=\"2\" stroke-dasharray=\"3,3\"/> <circle cx=\"400\" cy=\"182\" r=\"9\" fill=\"rgb(255,255,255)\" class=\"agent_1_0\"/><circle cx=\"256\" cy=\"157\" r=\"8\" fill=\"rgb(255,255,255)\" class=\"agent_1_6\"/><circle cx=\"314\" cy=\"167\" r=\"11\" fill=\"rgb(255,255,255)\" class=\"agent_1_14\"/><circle cx=\"314\" cy=\"209\" r=\"13\" fill=\"rgb(255,255,255)\" class=\"agent_1_23\"/><circle cx=\"358\" cy=\"238\" r=\"7\" fill=\"rgb(255,255,255)\" class=\"agent_1_27\"/><circle cx=\"316\" cy=\"91\" r=\"10\" fill=\"rgb(255,255,255)\" class=\"agent_1_38\"/><circle cx=\"225\" cy=\"379\" r=\"13\" fill=\"rgb(255,0,0)\" class=\"agent_1_52\"/></svg></div>"
      ],
      "text/plain": [
       "<IPython.core.display.HTML object>"
      ]
     },
     "metadata": {},
     "output_type": "display_data"
    },
    {
     "name": "stdout",
     "output_type": "stream",
     "text": [
      "\n",
      "----------------------------------------\n",
      "\n"
     ]
    }
   ],
   "source": [
    "force_contexts_and_mentions(7)"
   ]
  },
  {
   "cell_type": "code",
   "execution_count": 94,
   "metadata": {
    "scrolled": false
   },
   "outputs": [
    {
     "name": "stdout",
     "output_type": "stream",
     "text": [
      "to_mention_true\n"
     ]
    },
    {
     "data": {
      "text/html": [
       "<div style=\"white-space: nowrap\"><svg viewbox='0 0 430 430' width=\"172\" height=\"172\" id=\"agent_0\"><circle cx=\"215\" cy=\"215\" r=\"205\" fill=\"none\" stroke=\"black\" stroke-width=\"2\" stroke-dasharray=\"3,3\"/><circle cx=\"212\" cy=\"195\" r=\"7\" fill=\"rgb(93,93,93)\"/><circle cx=\"328\" cy=\"169\" r=\"13\" fill=\"rgb(136,136,136)\"/><circle cx=\"94\" cy=\"63\" r=\"13\" fill=\"rgb(55,55,55)\"/><circle cx=\"208\" cy=\"292\" r=\"11\" fill=\"rgb(85,85,85)\"/><circle cx=\"241\" cy=\"270\" r=\"9\" fill=\"rgb(198,198,198)\"/><circle cx=\"42\" cy=\"251\" r=\"9\" fill=\"rgb(170,170,170)\"/><circle cx=\"96\" cy=\"171\" r=\"10\" fill=\"rgb(87,87,87)\"/></svg><svg viewBox='0 0 430 430' id=\"svg\" width=\"172\" height=\"172\"><circle cx=\"215\" cy=\"215\" r=\"205\" fill=\"none\" stroke=\"black\" stroke-width=\"2\" stroke-dasharray=\"3,3\"/> <circle cx=\"212\" cy=\"195\" r=\"7\" fill=\"rgb(255,255,255)\" class=\"agent_0_5\"/><circle cx=\"328\" cy=\"169\" r=\"13\" fill=\"rgb(255,255,255)\" class=\"agent_0_8\"/><circle cx=\"94\" cy=\"63\" r=\"13\" fill=\"rgb(255,0,0)\" class=\"agent_0_28\"/><circle cx=\"208\" cy=\"292\" r=\"11\" fill=\"rgb(255,255,255)\" class=\"agent_0_41\"/><circle cx=\"241\" cy=\"270\" r=\"9\" fill=\"rgb(255,255,255)\" class=\"agent_0_59\"/><circle cx=\"42\" cy=\"251\" r=\"9\" fill=\"rgb(255,255,255)\" class=\"agent_0_75\"/><circle cx=\"96\" cy=\"171\" r=\"10\" fill=\"rgb(255,255,255)\" class=\"agent_0_78\"/></svg></div>"
      ],
      "text/plain": [
       "<IPython.core.display.HTML object>"
      ]
     },
     "metadata": {},
     "output_type": "display_data"
    },
    {
     "name": "stdout",
     "output_type": "stream",
     "text": [
      "to_mention_pred\n"
     ]
    },
    {
     "data": {
      "text/html": [
       "<div style=\"white-space: nowrap\"><svg viewbox='0 0 430 430' width=\"172\" height=\"172\" id=\"agent_0\"><circle cx=\"215\" cy=\"215\" r=\"205\" fill=\"none\" stroke=\"black\" stroke-width=\"2\" stroke-dasharray=\"3,3\"/><circle cx=\"212\" cy=\"195\" r=\"7\" fill=\"rgb(93,93,93)\"/><circle cx=\"328\" cy=\"169\" r=\"13\" fill=\"rgb(136,136,136)\"/><circle cx=\"94\" cy=\"63\" r=\"13\" fill=\"rgb(55,55,55)\"/><circle cx=\"208\" cy=\"292\" r=\"11\" fill=\"rgb(85,85,85)\"/><circle cx=\"241\" cy=\"270\" r=\"9\" fill=\"rgb(198,198,198)\"/><circle cx=\"42\" cy=\"251\" r=\"9\" fill=\"rgb(170,170,170)\"/><circle cx=\"96\" cy=\"171\" r=\"10\" fill=\"rgb(87,87,87)\"/></svg><svg viewBox='0 0 430 430' id=\"svg\" width=\"172\" height=\"172\"><circle cx=\"215\" cy=\"215\" r=\"205\" fill=\"none\" stroke=\"black\" stroke-width=\"2\" stroke-dasharray=\"3,3\"/> <circle cx=\"212\" cy=\"195\" r=\"7\" fill=\"rgb(255,255,255)\" class=\"agent_0_5\"/><circle cx=\"328\" cy=\"169\" r=\"13\" fill=\"rgb(255,255,255)\" class=\"agent_0_8\"/><circle cx=\"94\" cy=\"63\" r=\"13\" fill=\"rgb(255,0,0)\" class=\"agent_0_28\"/><circle cx=\"208\" cy=\"292\" r=\"11\" fill=\"rgb(255,255,255)\" class=\"agent_0_41\"/><circle cx=\"241\" cy=\"270\" r=\"9\" fill=\"rgb(255,255,255)\" class=\"agent_0_59\"/><circle cx=\"42\" cy=\"251\" r=\"9\" fill=\"rgb(255,255,255)\" class=\"agent_0_75\"/><circle cx=\"96\" cy=\"171\" r=\"10\" fill=\"rgb(255,255,255)\" class=\"agent_0_78\"/></svg></div>"
      ],
      "text/plain": [
       "<IPython.core.display.HTML object>"
      ]
     },
     "metadata": {},
     "output_type": "display_data"
    },
    {
     "name": "stdout",
     "output_type": "stream",
     "text": [
      "sample 0\ti have a large black dot at the bottom of the circle <eos>\n",
      "sample 1\ti have a large black dot <eos>\n",
      "sample 2\ti have a large black dot in the middle of the circle <eos>\n",
      "sample 3\ti have a large black dot at the top of the circle <eos>\n",
      "sample 4\ti have a large black dot <eos>\n",
      "sample 5\ti have one large black dot <eos>\n",
      "sample 6\ti have a large black dot <eos>\n",
      "sample 7\ti have a large black dot <eos>\n",
      "sample 8\ti have a large black dot in the middle of the circle <eos>\n",
      "sample 9\tlarge black dot ? <eos>\n",
      "argmax\ti have a large black dot <eos>\n",
      "human\ti have a <unk> large black dot <eos>\n",
      "refs_true\n"
     ]
    },
    {
     "data": {
      "text/html": [
       "<div style=\"white-space: nowrap\"><svg viewbox='0 0 430 430' width=\"172\" height=\"172\" id=\"agent_0\"><circle cx=\"215\" cy=\"215\" r=\"205\" fill=\"none\" stroke=\"black\" stroke-width=\"2\" stroke-dasharray=\"3,3\"/><circle cx=\"212\" cy=\"195\" r=\"7\" fill=\"rgb(93,93,93)\"/><circle cx=\"328\" cy=\"169\" r=\"13\" fill=\"rgb(136,136,136)\"/><circle cx=\"94\" cy=\"63\" r=\"13\" fill=\"rgb(55,55,55)\"/><circle cx=\"208\" cy=\"292\" r=\"11\" fill=\"rgb(85,85,85)\"/><circle cx=\"241\" cy=\"270\" r=\"9\" fill=\"rgb(198,198,198)\"/><circle cx=\"42\" cy=\"251\" r=\"9\" fill=\"rgb(170,170,170)\"/><circle cx=\"96\" cy=\"171\" r=\"10\" fill=\"rgb(87,87,87)\"/></svg><svg viewBox='0 0 430 430' id=\"svg\" width=\"172\" height=\"172\"><circle cx=\"215\" cy=\"215\" r=\"205\" fill=\"none\" stroke=\"black\" stroke-width=\"2\" stroke-dasharray=\"3,3\"/> <circle cx=\"212\" cy=\"195\" r=\"7\" fill=\"rgb(255,255,255)\" class=\"agent_0_5\"/><circle cx=\"328\" cy=\"169\" r=\"13\" fill=\"rgb(255,255,255)\" class=\"agent_0_8\"/><circle cx=\"94\" cy=\"63\" r=\"13\" fill=\"rgb(255,0,0)\" class=\"agent_0_28\"/><circle cx=\"208\" cy=\"292\" r=\"11\" fill=\"rgb(255,255,255)\" class=\"agent_0_41\"/><circle cx=\"241\" cy=\"270\" r=\"9\" fill=\"rgb(255,255,255)\" class=\"agent_0_59\"/><circle cx=\"42\" cy=\"251\" r=\"9\" fill=\"rgb(255,255,255)\" class=\"agent_0_75\"/><circle cx=\"96\" cy=\"171\" r=\"10\" fill=\"rgb(255,255,255)\" class=\"agent_0_78\"/></svg></div>"
      ],
      "text/plain": [
       "<IPython.core.display.HTML object>"
      ]
     },
     "metadata": {},
     "output_type": "display_data"
    },
    {
     "name": "stdout",
     "output_type": "stream",
     "text": [
      "refs_pred\n"
     ]
    },
    {
     "data": {
      "text/html": [
       "<div style=\"white-space: nowrap\"><svg viewbox='0 0 430 430' width=\"172\" height=\"172\" id=\"agent_0\"><circle cx=\"215\" cy=\"215\" r=\"205\" fill=\"none\" stroke=\"black\" stroke-width=\"2\" stroke-dasharray=\"3,3\"/><circle cx=\"212\" cy=\"195\" r=\"7\" fill=\"rgb(93,93,93)\"/><circle cx=\"328\" cy=\"169\" r=\"13\" fill=\"rgb(136,136,136)\"/><circle cx=\"94\" cy=\"63\" r=\"13\" fill=\"rgb(55,55,55)\"/><circle cx=\"208\" cy=\"292\" r=\"11\" fill=\"rgb(85,85,85)\"/><circle cx=\"241\" cy=\"270\" r=\"9\" fill=\"rgb(198,198,198)\"/><circle cx=\"42\" cy=\"251\" r=\"9\" fill=\"rgb(170,170,170)\"/><circle cx=\"96\" cy=\"171\" r=\"10\" fill=\"rgb(87,87,87)\"/></svg><svg viewBox='0 0 430 430' id=\"svg\" width=\"172\" height=\"172\"><circle cx=\"215\" cy=\"215\" r=\"205\" fill=\"none\" stroke=\"black\" stroke-width=\"2\" stroke-dasharray=\"3,3\"/> <circle cx=\"212\" cy=\"195\" r=\"7\" fill=\"rgb(255,255,255)\" class=\"agent_0_5\"/><circle cx=\"328\" cy=\"169\" r=\"13\" fill=\"rgb(255,255,255)\" class=\"agent_0_8\"/><circle cx=\"94\" cy=\"63\" r=\"13\" fill=\"rgb(255,0,0)\" class=\"agent_0_28\"/><circle cx=\"208\" cy=\"292\" r=\"11\" fill=\"rgb(255,255,255)\" class=\"agent_0_41\"/><circle cx=\"241\" cy=\"270\" r=\"9\" fill=\"rgb(255,255,255)\" class=\"agent_0_59\"/><circle cx=\"42\" cy=\"251\" r=\"9\" fill=\"rgb(255,255,255)\" class=\"agent_0_75\"/><circle cx=\"96\" cy=\"171\" r=\"10\" fill=\"rgb(255,255,255)\" class=\"agent_0_78\"/></svg></div>"
      ],
      "text/plain": [
       "<IPython.core.display.HTML object>"
      ]
     },
     "metadata": {},
     "output_type": "display_data"
    },
    {
     "name": "stdout",
     "output_type": "stream",
     "text": [
      "\n",
      "----------------------------------------\n",
      "\n",
      "human\tTHEM: i have no large dots , i have two dots close to each other , one medium dark grey , one small light grey to its right <eos>\n",
      "partner_refs_true\n"
     ]
    },
    {
     "data": {
      "text/html": [
       "<div style=\"white-space: nowrap\"><svg viewbox='0 0 430 430' width=\"172\" height=\"172\" id=\"agent_0\"><circle cx=\"215\" cy=\"215\" r=\"205\" fill=\"none\" stroke=\"black\" stroke-width=\"2\" stroke-dasharray=\"3,3\"/><circle cx=\"212\" cy=\"195\" r=\"7\" fill=\"rgb(93,93,93)\"/><circle cx=\"328\" cy=\"169\" r=\"13\" fill=\"rgb(136,136,136)\"/><circle cx=\"94\" cy=\"63\" r=\"13\" fill=\"rgb(55,55,55)\"/><circle cx=\"208\" cy=\"292\" r=\"11\" fill=\"rgb(85,85,85)\"/><circle cx=\"241\" cy=\"270\" r=\"9\" fill=\"rgb(198,198,198)\"/><circle cx=\"42\" cy=\"251\" r=\"9\" fill=\"rgb(170,170,170)\"/><circle cx=\"96\" cy=\"171\" r=\"10\" fill=\"rgb(87,87,87)\"/></svg><svg viewBox='0 0 430 430' id=\"svg\" width=\"172\" height=\"172\"><circle cx=\"215\" cy=\"215\" r=\"205\" fill=\"none\" stroke=\"black\" stroke-width=\"2\" stroke-dasharray=\"3,3\"/> <circle cx=\"212\" cy=\"195\" r=\"7\" fill=\"rgb(255,255,255)\" class=\"agent_0_5\"/><circle cx=\"328\" cy=\"169\" r=\"13\" fill=\"rgb(255,255,255)\" class=\"agent_0_8\"/><circle cx=\"94\" cy=\"63\" r=\"13\" fill=\"rgb(255,255,255)\" class=\"agent_0_28\"/><circle cx=\"208\" cy=\"292\" r=\"11\" fill=\"rgb(255,255,255)\" class=\"agent_0_41\"/><circle cx=\"241\" cy=\"270\" r=\"9\" fill=\"rgb(255,255,255)\" class=\"agent_0_59\"/><circle cx=\"42\" cy=\"251\" r=\"9\" fill=\"rgb(255,255,255)\" class=\"agent_0_75\"/><circle cx=\"96\" cy=\"171\" r=\"10\" fill=\"rgb(255,255,255)\" class=\"agent_0_78\"/></svg><svg viewBox='0 0 430 430' id=\"svg\" width=\"172\" height=\"172\"><circle cx=\"215\" cy=\"215\" r=\"205\" fill=\"none\" stroke=\"black\" stroke-width=\"2\" stroke-dasharray=\"3,3\"/> <circle cx=\"212\" cy=\"195\" r=\"7\" fill=\"rgb(255,255,255)\" class=\"agent_0_5\"/><circle cx=\"328\" cy=\"169\" r=\"13\" fill=\"rgb(255,255,255)\" class=\"agent_0_8\"/><circle cx=\"94\" cy=\"63\" r=\"13\" fill=\"rgb(255,255,255)\" class=\"agent_0_28\"/><circle cx=\"208\" cy=\"292\" r=\"11\" fill=\"rgb(255,0,0)\" class=\"agent_0_41\"/><circle cx=\"241\" cy=\"270\" r=\"9\" fill=\"rgb(255,0,0)\" class=\"agent_0_59\"/><circle cx=\"42\" cy=\"251\" r=\"9\" fill=\"rgb(255,255,255)\" class=\"agent_0_75\"/><circle cx=\"96\" cy=\"171\" r=\"10\" fill=\"rgb(255,255,255)\" class=\"agent_0_78\"/></svg><svg viewBox='0 0 430 430' id=\"svg\" width=\"172\" height=\"172\"><circle cx=\"215\" cy=\"215\" r=\"205\" fill=\"none\" stroke=\"black\" stroke-width=\"2\" stroke-dasharray=\"3,3\"/> <circle cx=\"212\" cy=\"195\" r=\"7\" fill=\"rgb(255,255,255)\" class=\"agent_0_5\"/><circle cx=\"328\" cy=\"169\" r=\"13\" fill=\"rgb(255,255,255)\" class=\"agent_0_8\"/><circle cx=\"94\" cy=\"63\" r=\"13\" fill=\"rgb(255,255,255)\" class=\"agent_0_28\"/><circle cx=\"208\" cy=\"292\" r=\"11\" fill=\"rgb(255,0,0)\" class=\"agent_0_41\"/><circle cx=\"241\" cy=\"270\" r=\"9\" fill=\"rgb(255,0,0)\" class=\"agent_0_59\"/><circle cx=\"42\" cy=\"251\" r=\"9\" fill=\"rgb(255,255,255)\" class=\"agent_0_75\"/><circle cx=\"96\" cy=\"171\" r=\"10\" fill=\"rgb(255,255,255)\" class=\"agent_0_78\"/></svg><svg viewBox='0 0 430 430' id=\"svg\" width=\"172\" height=\"172\"><circle cx=\"215\" cy=\"215\" r=\"205\" fill=\"none\" stroke=\"black\" stroke-width=\"2\" stroke-dasharray=\"3,3\"/> <circle cx=\"212\" cy=\"195\" r=\"7\" fill=\"rgb(255,255,255)\" class=\"agent_0_5\"/><circle cx=\"328\" cy=\"169\" r=\"13\" fill=\"rgb(255,255,255)\" class=\"agent_0_8\"/><circle cx=\"94\" cy=\"63\" r=\"13\" fill=\"rgb(255,255,255)\" class=\"agent_0_28\"/><circle cx=\"208\" cy=\"292\" r=\"11\" fill=\"rgb(255,0,0)\" class=\"agent_0_41\"/><circle cx=\"241\" cy=\"270\" r=\"9\" fill=\"rgb(255,255,255)\" class=\"agent_0_59\"/><circle cx=\"42\" cy=\"251\" r=\"9\" fill=\"rgb(255,255,255)\" class=\"agent_0_75\"/><circle cx=\"96\" cy=\"171\" r=\"10\" fill=\"rgb(255,255,255)\" class=\"agent_0_78\"/></svg><svg viewBox='0 0 430 430' id=\"svg\" width=\"172\" height=\"172\"><circle cx=\"215\" cy=\"215\" r=\"205\" fill=\"none\" stroke=\"black\" stroke-width=\"2\" stroke-dasharray=\"3,3\"/> <circle cx=\"212\" cy=\"195\" r=\"7\" fill=\"rgb(255,255,255)\" class=\"agent_0_5\"/><circle cx=\"328\" cy=\"169\" r=\"13\" fill=\"rgb(255,255,255)\" class=\"agent_0_8\"/><circle cx=\"94\" cy=\"63\" r=\"13\" fill=\"rgb(255,255,255)\" class=\"agent_0_28\"/><circle cx=\"208\" cy=\"292\" r=\"11\" fill=\"rgb(255,255,255)\" class=\"agent_0_41\"/><circle cx=\"241\" cy=\"270\" r=\"9\" fill=\"rgb(255,0,0)\" class=\"agent_0_59\"/><circle cx=\"42\" cy=\"251\" r=\"9\" fill=\"rgb(255,255,255)\" class=\"agent_0_75\"/><circle cx=\"96\" cy=\"171\" r=\"10\" fill=\"rgb(255,255,255)\" class=\"agent_0_78\"/></svg><svg viewBox='0 0 430 430' id=\"svg\" width=\"172\" height=\"172\"><circle cx=\"215\" cy=\"215\" r=\"205\" fill=\"none\" stroke=\"black\" stroke-width=\"2\" stroke-dasharray=\"3,3\"/> <circle cx=\"212\" cy=\"195\" r=\"7\" fill=\"rgb(255,255,255)\" class=\"agent_0_5\"/><circle cx=\"328\" cy=\"169\" r=\"13\" fill=\"rgb(255,255,255)\" class=\"agent_0_8\"/><circle cx=\"94\" cy=\"63\" r=\"13\" fill=\"rgb(255,255,255)\" class=\"agent_0_28\"/><circle cx=\"208\" cy=\"292\" r=\"11\" fill=\"rgb(255,0,0)\" class=\"agent_0_41\"/><circle cx=\"241\" cy=\"270\" r=\"9\" fill=\"rgb(255,255,255)\" class=\"agent_0_59\"/><circle cx=\"42\" cy=\"251\" r=\"9\" fill=\"rgb(255,255,255)\" class=\"agent_0_75\"/><circle cx=\"96\" cy=\"171\" r=\"10\" fill=\"rgb(255,255,255)\" class=\"agent_0_78\"/></svg></div>"
      ],
      "text/plain": [
       "<IPython.core.display.HTML object>"
      ]
     },
     "metadata": {},
     "output_type": "display_data"
    },
    {
     "name": "stdout",
     "output_type": "stream",
     "text": [
      "partner_refs_pred\n"
     ]
    },
    {
     "data": {
      "text/html": [
       "<div style=\"white-space: nowrap\"><svg viewbox='0 0 430 430' width=\"172\" height=\"172\" id=\"agent_0\"><circle cx=\"215\" cy=\"215\" r=\"205\" fill=\"none\" stroke=\"black\" stroke-width=\"2\" stroke-dasharray=\"3,3\"/><circle cx=\"212\" cy=\"195\" r=\"7\" fill=\"rgb(93,93,93)\"/><circle cx=\"328\" cy=\"169\" r=\"13\" fill=\"rgb(136,136,136)\"/><circle cx=\"94\" cy=\"63\" r=\"13\" fill=\"rgb(55,55,55)\"/><circle cx=\"208\" cy=\"292\" r=\"11\" fill=\"rgb(85,85,85)\"/><circle cx=\"241\" cy=\"270\" r=\"9\" fill=\"rgb(198,198,198)\"/><circle cx=\"42\" cy=\"251\" r=\"9\" fill=\"rgb(170,170,170)\"/><circle cx=\"96\" cy=\"171\" r=\"10\" fill=\"rgb(87,87,87)\"/></svg><svg viewBox='0 0 430 430' id=\"svg\" width=\"172\" height=\"172\"><circle cx=\"215\" cy=\"215\" r=\"205\" fill=\"none\" stroke=\"black\" stroke-width=\"2\" stroke-dasharray=\"3,3\"/> <circle cx=\"212\" cy=\"195\" r=\"7\" fill=\"rgb(255,255,255)\" class=\"agent_0_5\"/><circle cx=\"328\" cy=\"169\" r=\"13\" fill=\"rgb(255,255,255)\" class=\"agent_0_8\"/><circle cx=\"94\" cy=\"63\" r=\"13\" fill=\"rgb(255,255,255)\" class=\"agent_0_28\"/><circle cx=\"208\" cy=\"292\" r=\"11\" fill=\"rgb(255,255,255)\" class=\"agent_0_41\"/><circle cx=\"241\" cy=\"270\" r=\"9\" fill=\"rgb(255,255,255)\" class=\"agent_0_59\"/><circle cx=\"42\" cy=\"251\" r=\"9\" fill=\"rgb(255,255,255)\" class=\"agent_0_75\"/><circle cx=\"96\" cy=\"171\" r=\"10\" fill=\"rgb(255,255,255)\" class=\"agent_0_78\"/></svg><svg viewBox='0 0 430 430' id=\"svg\" width=\"172\" height=\"172\"><circle cx=\"215\" cy=\"215\" r=\"205\" fill=\"none\" stroke=\"black\" stroke-width=\"2\" stroke-dasharray=\"3,3\"/> <circle cx=\"212\" cy=\"195\" r=\"7\" fill=\"rgb(255,255,255)\" class=\"agent_0_5\"/><circle cx=\"328\" cy=\"169\" r=\"13\" fill=\"rgb(255,255,255)\" class=\"agent_0_8\"/><circle cx=\"94\" cy=\"63\" r=\"13\" fill=\"rgb(255,255,255)\" class=\"agent_0_28\"/><circle cx=\"208\" cy=\"292\" r=\"11\" fill=\"rgb(255,0,0)\" class=\"agent_0_41\"/><circle cx=\"241\" cy=\"270\" r=\"9\" fill=\"rgb(255,0,0)\" class=\"agent_0_59\"/><circle cx=\"42\" cy=\"251\" r=\"9\" fill=\"rgb(255,255,255)\" class=\"agent_0_75\"/><circle cx=\"96\" cy=\"171\" r=\"10\" fill=\"rgb(255,255,255)\" class=\"agent_0_78\"/></svg><svg viewBox='0 0 430 430' id=\"svg\" width=\"172\" height=\"172\"><circle cx=\"215\" cy=\"215\" r=\"205\" fill=\"none\" stroke=\"black\" stroke-width=\"2\" stroke-dasharray=\"3,3\"/> <circle cx=\"212\" cy=\"195\" r=\"7\" fill=\"rgb(255,255,255)\" class=\"agent_0_5\"/><circle cx=\"328\" cy=\"169\" r=\"13\" fill=\"rgb(255,255,255)\" class=\"agent_0_8\"/><circle cx=\"94\" cy=\"63\" r=\"13\" fill=\"rgb(255,255,255)\" class=\"agent_0_28\"/><circle cx=\"208\" cy=\"292\" r=\"11\" fill=\"rgb(255,0,0)\" class=\"agent_0_41\"/><circle cx=\"241\" cy=\"270\" r=\"9\" fill=\"rgb(255,0,0)\" class=\"agent_0_59\"/><circle cx=\"42\" cy=\"251\" r=\"9\" fill=\"rgb(255,255,255)\" class=\"agent_0_75\"/><circle cx=\"96\" cy=\"171\" r=\"10\" fill=\"rgb(255,255,255)\" class=\"agent_0_78\"/></svg><svg viewBox='0 0 430 430' id=\"svg\" width=\"172\" height=\"172\"><circle cx=\"215\" cy=\"215\" r=\"205\" fill=\"none\" stroke=\"black\" stroke-width=\"2\" stroke-dasharray=\"3,3\"/> <circle cx=\"212\" cy=\"195\" r=\"7\" fill=\"rgb(255,255,255)\" class=\"agent_0_5\"/><circle cx=\"328\" cy=\"169\" r=\"13\" fill=\"rgb(255,255,255)\" class=\"agent_0_8\"/><circle cx=\"94\" cy=\"63\" r=\"13\" fill=\"rgb(255,255,255)\" class=\"agent_0_28\"/><circle cx=\"208\" cy=\"292\" r=\"11\" fill=\"rgb(255,0,0)\" class=\"agent_0_41\"/><circle cx=\"241\" cy=\"270\" r=\"9\" fill=\"rgb(255,255,255)\" class=\"agent_0_59\"/><circle cx=\"42\" cy=\"251\" r=\"9\" fill=\"rgb(255,255,255)\" class=\"agent_0_75\"/><circle cx=\"96\" cy=\"171\" r=\"10\" fill=\"rgb(255,255,255)\" class=\"agent_0_78\"/></svg><svg viewBox='0 0 430 430' id=\"svg\" width=\"172\" height=\"172\"><circle cx=\"215\" cy=\"215\" r=\"205\" fill=\"none\" stroke=\"black\" stroke-width=\"2\" stroke-dasharray=\"3,3\"/> <circle cx=\"212\" cy=\"195\" r=\"7\" fill=\"rgb(255,255,255)\" class=\"agent_0_5\"/><circle cx=\"328\" cy=\"169\" r=\"13\" fill=\"rgb(255,255,255)\" class=\"agent_0_8\"/><circle cx=\"94\" cy=\"63\" r=\"13\" fill=\"rgb(255,255,255)\" class=\"agent_0_28\"/><circle cx=\"208\" cy=\"292\" r=\"11\" fill=\"rgb(255,255,255)\" class=\"agent_0_41\"/><circle cx=\"241\" cy=\"270\" r=\"9\" fill=\"rgb(255,0,0)\" class=\"agent_0_59\"/><circle cx=\"42\" cy=\"251\" r=\"9\" fill=\"rgb(255,255,255)\" class=\"agent_0_75\"/><circle cx=\"96\" cy=\"171\" r=\"10\" fill=\"rgb(255,255,255)\" class=\"agent_0_78\"/></svg><svg viewBox='0 0 430 430' id=\"svg\" width=\"172\" height=\"172\"><circle cx=\"215\" cy=\"215\" r=\"205\" fill=\"none\" stroke=\"black\" stroke-width=\"2\" stroke-dasharray=\"3,3\"/> <circle cx=\"212\" cy=\"195\" r=\"7\" fill=\"rgb(255,255,255)\" class=\"agent_0_5\"/><circle cx=\"328\" cy=\"169\" r=\"13\" fill=\"rgb(255,255,255)\" class=\"agent_0_8\"/><circle cx=\"94\" cy=\"63\" r=\"13\" fill=\"rgb(255,255,255)\" class=\"agent_0_28\"/><circle cx=\"208\" cy=\"292\" r=\"11\" fill=\"rgb(255,255,255)\" class=\"agent_0_41\"/><circle cx=\"241\" cy=\"270\" r=\"9\" fill=\"rgb(255,0,0)\" class=\"agent_0_59\"/><circle cx=\"42\" cy=\"251\" r=\"9\" fill=\"rgb(255,255,255)\" class=\"agent_0_75\"/><circle cx=\"96\" cy=\"171\" r=\"10\" fill=\"rgb(255,255,255)\" class=\"agent_0_78\"/></svg></div>"
      ],
      "text/plain": [
       "<IPython.core.display.HTML object>"
      ]
     },
     "metadata": {},
     "output_type": "display_data"
    },
    {
     "name": "stdout",
     "output_type": "stream",
     "text": [
      "\n",
      "----------------------------------------\n",
      "\n",
      "to_mention_true\n"
     ]
    },
    {
     "data": {
      "text/html": [
       "<div style=\"white-space: nowrap\"><svg viewbox='0 0 430 430' width=\"172\" height=\"172\" id=\"agent_0\"><circle cx=\"215\" cy=\"215\" r=\"205\" fill=\"none\" stroke=\"black\" stroke-width=\"2\" stroke-dasharray=\"3,3\"/><circle cx=\"212\" cy=\"195\" r=\"7\" fill=\"rgb(93,93,93)\"/><circle cx=\"328\" cy=\"169\" r=\"13\" fill=\"rgb(136,136,136)\"/><circle cx=\"94\" cy=\"63\" r=\"13\" fill=\"rgb(55,55,55)\"/><circle cx=\"208\" cy=\"292\" r=\"11\" fill=\"rgb(85,85,85)\"/><circle cx=\"241\" cy=\"270\" r=\"9\" fill=\"rgb(198,198,198)\"/><circle cx=\"42\" cy=\"251\" r=\"9\" fill=\"rgb(170,170,170)\"/><circle cx=\"96\" cy=\"171\" r=\"10\" fill=\"rgb(87,87,87)\"/></svg><svg viewBox='0 0 430 430' id=\"svg\" width=\"172\" height=\"172\"><circle cx=\"215\" cy=\"215\" r=\"205\" fill=\"none\" stroke=\"black\" stroke-width=\"2\" stroke-dasharray=\"3,3\"/> <circle cx=\"212\" cy=\"195\" r=\"7\" fill=\"rgb(255,255,255)\" class=\"agent_0_5\"/><circle cx=\"328\" cy=\"169\" r=\"13\" fill=\"rgb(255,255,255)\" class=\"agent_0_8\"/><circle cx=\"94\" cy=\"63\" r=\"13\" fill=\"rgb(255,255,255)\" class=\"agent_0_28\"/><circle cx=\"208\" cy=\"292\" r=\"11\" fill=\"rgb(255,0,0)\" class=\"agent_0_41\"/><circle cx=\"241\" cy=\"270\" r=\"9\" fill=\"rgb(255,255,255)\" class=\"agent_0_59\"/><circle cx=\"42\" cy=\"251\" r=\"9\" fill=\"rgb(255,255,255)\" class=\"agent_0_75\"/><circle cx=\"96\" cy=\"171\" r=\"10\" fill=\"rgb(255,255,255)\" class=\"agent_0_78\"/></svg><svg viewBox='0 0 430 430' id=\"svg\" width=\"172\" height=\"172\"><circle cx=\"215\" cy=\"215\" r=\"205\" fill=\"none\" stroke=\"black\" stroke-width=\"2\" stroke-dasharray=\"3,3\"/> <circle cx=\"212\" cy=\"195\" r=\"7\" fill=\"rgb(255,255,255)\" class=\"agent_0_5\"/><circle cx=\"328\" cy=\"169\" r=\"13\" fill=\"rgb(255,255,255)\" class=\"agent_0_8\"/><circle cx=\"94\" cy=\"63\" r=\"13\" fill=\"rgb(255,255,255)\" class=\"agent_0_28\"/><circle cx=\"208\" cy=\"292\" r=\"11\" fill=\"rgb(255,0,0)\" class=\"agent_0_41\"/><circle cx=\"241\" cy=\"270\" r=\"9\" fill=\"rgb(255,255,255)\" class=\"agent_0_59\"/><circle cx=\"42\" cy=\"251\" r=\"9\" fill=\"rgb(255,255,255)\" class=\"agent_0_75\"/><circle cx=\"96\" cy=\"171\" r=\"10\" fill=\"rgb(255,255,255)\" class=\"agent_0_78\"/></svg><svg viewBox='0 0 430 430' id=\"svg\" width=\"172\" height=\"172\"><circle cx=\"215\" cy=\"215\" r=\"205\" fill=\"none\" stroke=\"black\" stroke-width=\"2\" stroke-dasharray=\"3,3\"/> <circle cx=\"212\" cy=\"195\" r=\"7\" fill=\"rgb(255,255,255)\" class=\"agent_0_5\"/><circle cx=\"328\" cy=\"169\" r=\"13\" fill=\"rgb(255,255,255)\" class=\"agent_0_8\"/><circle cx=\"94\" cy=\"63\" r=\"13\" fill=\"rgb(255,255,255)\" class=\"agent_0_28\"/><circle cx=\"208\" cy=\"292\" r=\"11\" fill=\"rgb(255,255,255)\" class=\"agent_0_41\"/><circle cx=\"241\" cy=\"270\" r=\"9\" fill=\"rgb(255,0,0)\" class=\"agent_0_59\"/><circle cx=\"42\" cy=\"251\" r=\"9\" fill=\"rgb(255,255,255)\" class=\"agent_0_75\"/><circle cx=\"96\" cy=\"171\" r=\"10\" fill=\"rgb(255,255,255)\" class=\"agent_0_78\"/></svg></div>"
      ],
      "text/plain": [
       "<IPython.core.display.HTML object>"
      ]
     },
     "metadata": {},
     "output_type": "display_data"
    },
    {
     "name": "stdout",
     "output_type": "stream",
     "text": [
      "to_mention_pred\n"
     ]
    },
    {
     "data": {
      "text/html": [
       "<div style=\"white-space: nowrap\"><svg viewbox='0 0 430 430' width=\"172\" height=\"172\" id=\"agent_0\"><circle cx=\"215\" cy=\"215\" r=\"205\" fill=\"none\" stroke=\"black\" stroke-width=\"2\" stroke-dasharray=\"3,3\"/><circle cx=\"212\" cy=\"195\" r=\"7\" fill=\"rgb(93,93,93)\"/><circle cx=\"328\" cy=\"169\" r=\"13\" fill=\"rgb(136,136,136)\"/><circle cx=\"94\" cy=\"63\" r=\"13\" fill=\"rgb(55,55,55)\"/><circle cx=\"208\" cy=\"292\" r=\"11\" fill=\"rgb(85,85,85)\"/><circle cx=\"241\" cy=\"270\" r=\"9\" fill=\"rgb(198,198,198)\"/><circle cx=\"42\" cy=\"251\" r=\"9\" fill=\"rgb(170,170,170)\"/><circle cx=\"96\" cy=\"171\" r=\"10\" fill=\"rgb(87,87,87)\"/></svg><svg viewBox='0 0 430 430' id=\"svg\" width=\"172\" height=\"172\"><circle cx=\"215\" cy=\"215\" r=\"205\" fill=\"none\" stroke=\"black\" stroke-width=\"2\" stroke-dasharray=\"3,3\"/> <circle cx=\"212\" cy=\"195\" r=\"7\" fill=\"rgb(255,255,255)\" class=\"agent_0_5\"/><circle cx=\"328\" cy=\"169\" r=\"13\" fill=\"rgb(255,255,255)\" class=\"agent_0_8\"/><circle cx=\"94\" cy=\"63\" r=\"13\" fill=\"rgb(255,255,255)\" class=\"agent_0_28\"/><circle cx=\"208\" cy=\"292\" r=\"11\" fill=\"rgb(255,0,0)\" class=\"agent_0_41\"/><circle cx=\"241\" cy=\"270\" r=\"9\" fill=\"rgb(255,0,0)\" class=\"agent_0_59\"/><circle cx=\"42\" cy=\"251\" r=\"9\" fill=\"rgb(255,255,255)\" class=\"agent_0_75\"/><circle cx=\"96\" cy=\"171\" r=\"10\" fill=\"rgb(255,255,255)\" class=\"agent_0_78\"/></svg><svg viewBox='0 0 430 430' id=\"svg\" width=\"172\" height=\"172\"><circle cx=\"215\" cy=\"215\" r=\"205\" fill=\"none\" stroke=\"black\" stroke-width=\"2\" stroke-dasharray=\"3,3\"/> <circle cx=\"212\" cy=\"195\" r=\"7\" fill=\"rgb(255,255,255)\" class=\"agent_0_5\"/><circle cx=\"328\" cy=\"169\" r=\"13\" fill=\"rgb(255,255,255)\" class=\"agent_0_8\"/><circle cx=\"94\" cy=\"63\" r=\"13\" fill=\"rgb(255,255,255)\" class=\"agent_0_28\"/><circle cx=\"208\" cy=\"292\" r=\"11\" fill=\"rgb(255,0,0)\" class=\"agent_0_41\"/><circle cx=\"241\" cy=\"270\" r=\"9\" fill=\"rgb(255,255,255)\" class=\"agent_0_59\"/><circle cx=\"42\" cy=\"251\" r=\"9\" fill=\"rgb(255,255,255)\" class=\"agent_0_75\"/><circle cx=\"96\" cy=\"171\" r=\"10\" fill=\"rgb(255,255,255)\" class=\"agent_0_78\"/></svg><svg viewBox='0 0 430 430' id=\"svg\" width=\"172\" height=\"172\"><circle cx=\"215\" cy=\"215\" r=\"205\" fill=\"none\" stroke=\"black\" stroke-width=\"2\" stroke-dasharray=\"3,3\"/> <circle cx=\"212\" cy=\"195\" r=\"7\" fill=\"rgb(255,255,255)\" class=\"agent_0_5\"/><circle cx=\"328\" cy=\"169\" r=\"13\" fill=\"rgb(255,255,255)\" class=\"agent_0_8\"/><circle cx=\"94\" cy=\"63\" r=\"13\" fill=\"rgb(255,255,255)\" class=\"agent_0_28\"/><circle cx=\"208\" cy=\"292\" r=\"11\" fill=\"rgb(255,255,255)\" class=\"agent_0_41\"/><circle cx=\"241\" cy=\"270\" r=\"9\" fill=\"rgb(255,0,0)\" class=\"agent_0_59\"/><circle cx=\"42\" cy=\"251\" r=\"9\" fill=\"rgb(255,255,255)\" class=\"agent_0_75\"/><circle cx=\"96\" cy=\"171\" r=\"10\" fill=\"rgb(255,255,255)\" class=\"agent_0_78\"/></svg></div>"
      ],
      "text/plain": [
       "<IPython.core.display.HTML object>"
      ]
     },
     "metadata": {},
     "output_type": "display_data"
    },
    {
     "name": "stdout",
     "output_type": "stream",
     "text": [
      "sample 0\ti have a large black dot , and a light grey dot to the left of it <eos>\n",
      "sample 1\ti see a dark gray dot , with a light grey dot to the right of it . <eos>\n",
      "sample 2\ti think i see that . is there a lighter one above and to the right of the smaller one ? <eos>\n",
      "sample 3\ti have a large black dot and a small light grey dot to the right of it <eos>\n",
      "sample 4\ti have one large black dot , above it and to the right is a small light grey dot <eos>\n",
      "sample 5\ti have a dark grey dot , with a lighter grey dot above and to the left of it . <eos>\n",
      "sample 6\ti have two dots that are very close together . the one on the left is slightly smaller and darker and a little higher than the one on the right <eos>\n",
      "sample 7\ti have a medium black dot with a light grey dot to the right of it <eos>\n",
      "sample 8\ti see a black dot that is above and to the right of a light grey dot . <eos>\n",
      "sample 9\ti have two dark dots , one is slightly larger than the other . <eos>\n",
      "argmax\ti have two dark dots . one is slightly larger than the other . <eos>\n",
      "human\tnope . what about medium black dot and close to its right and slightly higher is a smaller and light grey dot <eos>\n",
      "refs_true\n"
     ]
    },
    {
     "data": {
      "text/html": [
       "<div style=\"white-space: nowrap\"><svg viewbox='0 0 430 430' width=\"172\" height=\"172\" id=\"agent_0\"><circle cx=\"215\" cy=\"215\" r=\"205\" fill=\"none\" stroke=\"black\" stroke-width=\"2\" stroke-dasharray=\"3,3\"/><circle cx=\"212\" cy=\"195\" r=\"7\" fill=\"rgb(93,93,93)\"/><circle cx=\"328\" cy=\"169\" r=\"13\" fill=\"rgb(136,136,136)\"/><circle cx=\"94\" cy=\"63\" r=\"13\" fill=\"rgb(55,55,55)\"/><circle cx=\"208\" cy=\"292\" r=\"11\" fill=\"rgb(85,85,85)\"/><circle cx=\"241\" cy=\"270\" r=\"9\" fill=\"rgb(198,198,198)\"/><circle cx=\"42\" cy=\"251\" r=\"9\" fill=\"rgb(170,170,170)\"/><circle cx=\"96\" cy=\"171\" r=\"10\" fill=\"rgb(87,87,87)\"/></svg><svg viewBox='0 0 430 430' id=\"svg\" width=\"172\" height=\"172\"><circle cx=\"215\" cy=\"215\" r=\"205\" fill=\"none\" stroke=\"black\" stroke-width=\"2\" stroke-dasharray=\"3,3\"/> <circle cx=\"212\" cy=\"195\" r=\"7\" fill=\"rgb(255,255,255)\" class=\"agent_0_5\"/><circle cx=\"328\" cy=\"169\" r=\"13\" fill=\"rgb(255,255,255)\" class=\"agent_0_8\"/><circle cx=\"94\" cy=\"63\" r=\"13\" fill=\"rgb(255,255,255)\" class=\"agent_0_28\"/><circle cx=\"208\" cy=\"292\" r=\"11\" fill=\"rgb(255,0,0)\" class=\"agent_0_41\"/><circle cx=\"241\" cy=\"270\" r=\"9\" fill=\"rgb(255,255,255)\" class=\"agent_0_59\"/><circle cx=\"42\" cy=\"251\" r=\"9\" fill=\"rgb(255,255,255)\" class=\"agent_0_75\"/><circle cx=\"96\" cy=\"171\" r=\"10\" fill=\"rgb(255,255,255)\" class=\"agent_0_78\"/></svg><svg viewBox='0 0 430 430' id=\"svg\" width=\"172\" height=\"172\"><circle cx=\"215\" cy=\"215\" r=\"205\" fill=\"none\" stroke=\"black\" stroke-width=\"2\" stroke-dasharray=\"3,3\"/> <circle cx=\"212\" cy=\"195\" r=\"7\" fill=\"rgb(255,255,255)\" class=\"agent_0_5\"/><circle cx=\"328\" cy=\"169\" r=\"13\" fill=\"rgb(255,255,255)\" class=\"agent_0_8\"/><circle cx=\"94\" cy=\"63\" r=\"13\" fill=\"rgb(255,255,255)\" class=\"agent_0_28\"/><circle cx=\"208\" cy=\"292\" r=\"11\" fill=\"rgb(255,0,0)\" class=\"agent_0_41\"/><circle cx=\"241\" cy=\"270\" r=\"9\" fill=\"rgb(255,255,255)\" class=\"agent_0_59\"/><circle cx=\"42\" cy=\"251\" r=\"9\" fill=\"rgb(255,255,255)\" class=\"agent_0_75\"/><circle cx=\"96\" cy=\"171\" r=\"10\" fill=\"rgb(255,255,255)\" class=\"agent_0_78\"/></svg><svg viewBox='0 0 430 430' id=\"svg\" width=\"172\" height=\"172\"><circle cx=\"215\" cy=\"215\" r=\"205\" fill=\"none\" stroke=\"black\" stroke-width=\"2\" stroke-dasharray=\"3,3\"/> <circle cx=\"212\" cy=\"195\" r=\"7\" fill=\"rgb(255,255,255)\" class=\"agent_0_5\"/><circle cx=\"328\" cy=\"169\" r=\"13\" fill=\"rgb(255,255,255)\" class=\"agent_0_8\"/><circle cx=\"94\" cy=\"63\" r=\"13\" fill=\"rgb(255,255,255)\" class=\"agent_0_28\"/><circle cx=\"208\" cy=\"292\" r=\"11\" fill=\"rgb(255,255,255)\" class=\"agent_0_41\"/><circle cx=\"241\" cy=\"270\" r=\"9\" fill=\"rgb(255,0,0)\" class=\"agent_0_59\"/><circle cx=\"42\" cy=\"251\" r=\"9\" fill=\"rgb(255,255,255)\" class=\"agent_0_75\"/><circle cx=\"96\" cy=\"171\" r=\"10\" fill=\"rgb(255,255,255)\" class=\"agent_0_78\"/></svg></div>"
      ],
      "text/plain": [
       "<IPython.core.display.HTML object>"
      ]
     },
     "metadata": {},
     "output_type": "display_data"
    },
    {
     "name": "stdout",
     "output_type": "stream",
     "text": [
      "refs_pred\n"
     ]
    },
    {
     "data": {
      "text/html": [
       "<div style=\"white-space: nowrap\"><svg viewbox='0 0 430 430' width=\"172\" height=\"172\" id=\"agent_0\"><circle cx=\"215\" cy=\"215\" r=\"205\" fill=\"none\" stroke=\"black\" stroke-width=\"2\" stroke-dasharray=\"3,3\"/><circle cx=\"212\" cy=\"195\" r=\"7\" fill=\"rgb(93,93,93)\"/><circle cx=\"328\" cy=\"169\" r=\"13\" fill=\"rgb(136,136,136)\"/><circle cx=\"94\" cy=\"63\" r=\"13\" fill=\"rgb(55,55,55)\"/><circle cx=\"208\" cy=\"292\" r=\"11\" fill=\"rgb(85,85,85)\"/><circle cx=\"241\" cy=\"270\" r=\"9\" fill=\"rgb(198,198,198)\"/><circle cx=\"42\" cy=\"251\" r=\"9\" fill=\"rgb(170,170,170)\"/><circle cx=\"96\" cy=\"171\" r=\"10\" fill=\"rgb(87,87,87)\"/></svg><svg viewBox='0 0 430 430' id=\"svg\" width=\"172\" height=\"172\"><circle cx=\"215\" cy=\"215\" r=\"205\" fill=\"none\" stroke=\"black\" stroke-width=\"2\" stroke-dasharray=\"3,3\"/> <circle cx=\"212\" cy=\"195\" r=\"7\" fill=\"rgb(255,255,255)\" class=\"agent_0_5\"/><circle cx=\"328\" cy=\"169\" r=\"13\" fill=\"rgb(255,255,255)\" class=\"agent_0_8\"/><circle cx=\"94\" cy=\"63\" r=\"13\" fill=\"rgb(255,255,255)\" class=\"agent_0_28\"/><circle cx=\"208\" cy=\"292\" r=\"11\" fill=\"rgb(255,0,0)\" class=\"agent_0_41\"/><circle cx=\"241\" cy=\"270\" r=\"9\" fill=\"rgb(255,255,255)\" class=\"agent_0_59\"/><circle cx=\"42\" cy=\"251\" r=\"9\" fill=\"rgb(255,255,255)\" class=\"agent_0_75\"/><circle cx=\"96\" cy=\"171\" r=\"10\" fill=\"rgb(255,255,255)\" class=\"agent_0_78\"/></svg><svg viewBox='0 0 430 430' id=\"svg\" width=\"172\" height=\"172\"><circle cx=\"215\" cy=\"215\" r=\"205\" fill=\"none\" stroke=\"black\" stroke-width=\"2\" stroke-dasharray=\"3,3\"/> <circle cx=\"212\" cy=\"195\" r=\"7\" fill=\"rgb(255,255,255)\" class=\"agent_0_5\"/><circle cx=\"328\" cy=\"169\" r=\"13\" fill=\"rgb(255,255,255)\" class=\"agent_0_8\"/><circle cx=\"94\" cy=\"63\" r=\"13\" fill=\"rgb(255,255,255)\" class=\"agent_0_28\"/><circle cx=\"208\" cy=\"292\" r=\"11\" fill=\"rgb(255,0,0)\" class=\"agent_0_41\"/><circle cx=\"241\" cy=\"270\" r=\"9\" fill=\"rgb(255,255,255)\" class=\"agent_0_59\"/><circle cx=\"42\" cy=\"251\" r=\"9\" fill=\"rgb(255,255,255)\" class=\"agent_0_75\"/><circle cx=\"96\" cy=\"171\" r=\"10\" fill=\"rgb(255,255,255)\" class=\"agent_0_78\"/></svg><svg viewBox='0 0 430 430' id=\"svg\" width=\"172\" height=\"172\"><circle cx=\"215\" cy=\"215\" r=\"205\" fill=\"none\" stroke=\"black\" stroke-width=\"2\" stroke-dasharray=\"3,3\"/> <circle cx=\"212\" cy=\"195\" r=\"7\" fill=\"rgb(255,255,255)\" class=\"agent_0_5\"/><circle cx=\"328\" cy=\"169\" r=\"13\" fill=\"rgb(255,255,255)\" class=\"agent_0_8\"/><circle cx=\"94\" cy=\"63\" r=\"13\" fill=\"rgb(255,255,255)\" class=\"agent_0_28\"/><circle cx=\"208\" cy=\"292\" r=\"11\" fill=\"rgb(255,255,255)\" class=\"agent_0_41\"/><circle cx=\"241\" cy=\"270\" r=\"9\" fill=\"rgb(255,0,0)\" class=\"agent_0_59\"/><circle cx=\"42\" cy=\"251\" r=\"9\" fill=\"rgb(255,255,255)\" class=\"agent_0_75\"/><circle cx=\"96\" cy=\"171\" r=\"10\" fill=\"rgb(255,255,255)\" class=\"agent_0_78\"/></svg></div>"
      ],
      "text/plain": [
       "<IPython.core.display.HTML object>"
      ]
     },
     "metadata": {},
     "output_type": "display_data"
    },
    {
     "name": "stdout",
     "output_type": "stream",
     "text": [
      "\n",
      "----------------------------------------\n",
      "\n",
      "human\tTHEM: yes , pick the small light grey dot <selection>\n",
      "partner_refs_true\n"
     ]
    },
    {
     "data": {
      "text/html": [
       "<div style=\"white-space: nowrap\"><svg viewbox='0 0 430 430' width=\"172\" height=\"172\" id=\"agent_0\"><circle cx=\"215\" cy=\"215\" r=\"205\" fill=\"none\" stroke=\"black\" stroke-width=\"2\" stroke-dasharray=\"3,3\"/><circle cx=\"212\" cy=\"195\" r=\"7\" fill=\"rgb(93,93,93)\"/><circle cx=\"328\" cy=\"169\" r=\"13\" fill=\"rgb(136,136,136)\"/><circle cx=\"94\" cy=\"63\" r=\"13\" fill=\"rgb(55,55,55)\"/><circle cx=\"208\" cy=\"292\" r=\"11\" fill=\"rgb(85,85,85)\"/><circle cx=\"241\" cy=\"270\" r=\"9\" fill=\"rgb(198,198,198)\"/><circle cx=\"42\" cy=\"251\" r=\"9\" fill=\"rgb(170,170,170)\"/><circle cx=\"96\" cy=\"171\" r=\"10\" fill=\"rgb(87,87,87)\"/></svg><svg viewBox='0 0 430 430' id=\"svg\" width=\"172\" height=\"172\"><circle cx=\"215\" cy=\"215\" r=\"205\" fill=\"none\" stroke=\"black\" stroke-width=\"2\" stroke-dasharray=\"3,3\"/> <circle cx=\"212\" cy=\"195\" r=\"7\" fill=\"rgb(255,255,255)\" class=\"agent_0_5\"/><circle cx=\"328\" cy=\"169\" r=\"13\" fill=\"rgb(255,255,255)\" class=\"agent_0_8\"/><circle cx=\"94\" cy=\"63\" r=\"13\" fill=\"rgb(255,255,255)\" class=\"agent_0_28\"/><circle cx=\"208\" cy=\"292\" r=\"11\" fill=\"rgb(255,255,255)\" class=\"agent_0_41\"/><circle cx=\"241\" cy=\"270\" r=\"9\" fill=\"rgb(255,0,0)\" class=\"agent_0_59\"/><circle cx=\"42\" cy=\"251\" r=\"9\" fill=\"rgb(255,255,255)\" class=\"agent_0_75\"/><circle cx=\"96\" cy=\"171\" r=\"10\" fill=\"rgb(255,255,255)\" class=\"agent_0_78\"/></svg></div>"
      ],
      "text/plain": [
       "<IPython.core.display.HTML object>"
      ]
     },
     "metadata": {},
     "output_type": "display_data"
    },
    {
     "name": "stdout",
     "output_type": "stream",
     "text": [
      "partner_refs_pred\n"
     ]
    },
    {
     "data": {
      "text/html": [
       "<div style=\"white-space: nowrap\"><svg viewbox='0 0 430 430' width=\"172\" height=\"172\" id=\"agent_0\"><circle cx=\"215\" cy=\"215\" r=\"205\" fill=\"none\" stroke=\"black\" stroke-width=\"2\" stroke-dasharray=\"3,3\"/><circle cx=\"212\" cy=\"195\" r=\"7\" fill=\"rgb(93,93,93)\"/><circle cx=\"328\" cy=\"169\" r=\"13\" fill=\"rgb(136,136,136)\"/><circle cx=\"94\" cy=\"63\" r=\"13\" fill=\"rgb(55,55,55)\"/><circle cx=\"208\" cy=\"292\" r=\"11\" fill=\"rgb(85,85,85)\"/><circle cx=\"241\" cy=\"270\" r=\"9\" fill=\"rgb(198,198,198)\"/><circle cx=\"42\" cy=\"251\" r=\"9\" fill=\"rgb(170,170,170)\"/><circle cx=\"96\" cy=\"171\" r=\"10\" fill=\"rgb(87,87,87)\"/></svg><svg viewBox='0 0 430 430' id=\"svg\" width=\"172\" height=\"172\"><circle cx=\"215\" cy=\"215\" r=\"205\" fill=\"none\" stroke=\"black\" stroke-width=\"2\" stroke-dasharray=\"3,3\"/> <circle cx=\"212\" cy=\"195\" r=\"7\" fill=\"rgb(255,255,255)\" class=\"agent_0_5\"/><circle cx=\"328\" cy=\"169\" r=\"13\" fill=\"rgb(255,255,255)\" class=\"agent_0_8\"/><circle cx=\"94\" cy=\"63\" r=\"13\" fill=\"rgb(255,255,255)\" class=\"agent_0_28\"/><circle cx=\"208\" cy=\"292\" r=\"11\" fill=\"rgb(255,255,255)\" class=\"agent_0_41\"/><circle cx=\"241\" cy=\"270\" r=\"9\" fill=\"rgb(255,0,0)\" class=\"agent_0_59\"/><circle cx=\"42\" cy=\"251\" r=\"9\" fill=\"rgb(255,255,255)\" class=\"agent_0_75\"/><circle cx=\"96\" cy=\"171\" r=\"10\" fill=\"rgb(255,255,255)\" class=\"agent_0_78\"/></svg></div>"
      ],
      "text/plain": [
       "<IPython.core.display.HTML object>"
      ]
     },
     "metadata": {},
     "output_type": "display_data"
    },
    {
     "name": "stdout",
     "output_type": "stream",
     "text": [
      "\n",
      "----------------------------------------\n",
      "\n"
     ]
    }
   ],
   "source": [
    "force_contexts_and_mentions(8)"
   ]
  },
  {
   "cell_type": "code",
   "execution_count": 54,
   "metadata": {
    "scrolled": false
   },
   "outputs": [
    {
     "name": "stdout",
     "output_type": "stream",
     "text": [
      "human\tTHEM: do you see one very large black dot ? it 's the only dark dark one <eos>\n",
      "\n",
      "----------------------------------------\n",
      "\n"
     ]
    },
    {
     "data": {
      "text/html": [
       "<div style=\"white-space: nowrap\"><svg viewbox='0 0 430 430' width=\"258\" height=\"258\" id=\"agent_1\"><circle cx=\"215\" cy=\"215\" r=\"205\" fill=\"none\" stroke=\"black\" stroke-width=\"2\" stroke-dasharray=\"3,3\"/><circle cx=\"64\" cy=\"312\" r=\"12\" fill=\"rgb(166,166,166)\"/><circle cx=\"109\" cy=\"376\" r=\"10\" fill=\"rgb(157,157,157)\"/><circle cx=\"200\" cy=\"374\" r=\"13\" fill=\"rgb(62,62,62)\"/><circle cx=\"345\" cy=\"321\" r=\"13\" fill=\"rgb(169,169,169)\"/><circle cx=\"230\" cy=\"139\" r=\"9\" fill=\"rgb(185,185,185)\"/><circle cx=\"272\" cy=\"340\" r=\"12\" fill=\"rgb(200,200,200)\"/><circle cx=\"207\" cy=\"202\" r=\"10\" fill=\"rgb(71,71,71)\"/></svg><svg viewBox='0 0 430 430' id=\"svg\" width=\"258\" height=\"258\"><circle cx=\"215\" cy=\"215\" r=\"205\" fill=\"none\" stroke=\"black\" stroke-width=\"2\" stroke-dasharray=\"3,3\"/> <circle cx=\"64\" cy=\"312\" r=\"12\" fill=\"rgb(255,255,255)\" class=\"agent_1_6\"/><circle cx=\"109\" cy=\"376\" r=\"10\" fill=\"rgb(255,255,255)\" class=\"agent_1_26\"/><circle cx=\"200\" cy=\"374\" r=\"13\" fill=\"rgb(255,0,0)\" class=\"agent_1_29\"/><circle cx=\"345\" cy=\"321\" r=\"13\" fill=\"rgb(255,255,255)\" class=\"agent_1_37\"/><circle cx=\"230\" cy=\"139\" r=\"9\" fill=\"rgb(255,255,255)\" class=\"agent_1_41\"/><circle cx=\"272\" cy=\"340\" r=\"12\" fill=\"rgb(255,255,255)\" class=\"agent_1_59\"/><circle cx=\"207\" cy=\"202\" r=\"10\" fill=\"rgb(255,255,255)\" class=\"agent_1_61\"/></svg><svg viewBox='0 0 430 430' id=\"svg\" width=\"258\" height=\"258\"><circle cx=\"215\" cy=\"215\" r=\"205\" fill=\"none\" stroke=\"black\" stroke-width=\"2\" stroke-dasharray=\"3,3\"/> <circle cx=\"64\" cy=\"312\" r=\"12\" fill=\"rgb(255,255,255)\" class=\"agent_1_6\"/><circle cx=\"109\" cy=\"376\" r=\"10\" fill=\"rgb(255,255,255)\" class=\"agent_1_26\"/><circle cx=\"200\" cy=\"374\" r=\"13\" fill=\"rgb(255,255,255)\" class=\"agent_1_29\"/><circle cx=\"345\" cy=\"321\" r=\"13\" fill=\"rgb(255,255,255)\" class=\"agent_1_37\"/><circle cx=\"230\" cy=\"139\" r=\"9\" fill=\"rgb(255,255,255)\" class=\"agent_1_41\"/><circle cx=\"272\" cy=\"340\" r=\"12\" fill=\"rgb(255,255,255)\" class=\"agent_1_59\"/><circle cx=\"207\" cy=\"202\" r=\"10\" fill=\"rgb(255,0,0)\" class=\"agent_1_61\"/></svg><svg viewBox='0 0 430 430' id=\"svg\" width=\"258\" height=\"258\"><circle cx=\"215\" cy=\"215\" r=\"205\" fill=\"none\" stroke=\"black\" stroke-width=\"2\" stroke-dasharray=\"3,3\"/> <circle cx=\"64\" cy=\"312\" r=\"12\" fill=\"rgb(255,255,255)\" class=\"agent_1_6\"/><circle cx=\"109\" cy=\"376\" r=\"10\" fill=\"rgb(255,255,255)\" class=\"agent_1_26\"/><circle cx=\"200\" cy=\"374\" r=\"13\" fill=\"rgb(255,0,0)\" class=\"agent_1_29\"/><circle cx=\"345\" cy=\"321\" r=\"13\" fill=\"rgb(255,255,255)\" class=\"agent_1_37\"/><circle cx=\"230\" cy=\"139\" r=\"9\" fill=\"rgb(255,255,255)\" class=\"agent_1_41\"/><circle cx=\"272\" cy=\"340\" r=\"12\" fill=\"rgb(255,255,255)\" class=\"agent_1_59\"/><circle cx=\"207\" cy=\"202\" r=\"10\" fill=\"rgb(255,255,255)\" class=\"agent_1_61\"/></svg><svg viewBox='0 0 430 430' id=\"svg\" width=\"258\" height=\"258\"><circle cx=\"215\" cy=\"215\" r=\"205\" fill=\"none\" stroke=\"black\" stroke-width=\"2\" stroke-dasharray=\"3,3\"/> <circle cx=\"64\" cy=\"312\" r=\"12\" fill=\"rgb(255,255,255)\" class=\"agent_1_6\"/><circle cx=\"109\" cy=\"376\" r=\"10\" fill=\"rgb(255,0,0)\" class=\"agent_1_26\"/><circle cx=\"200\" cy=\"374\" r=\"13\" fill=\"rgb(255,255,255)\" class=\"agent_1_29\"/><circle cx=\"345\" cy=\"321\" r=\"13\" fill=\"rgb(255,255,255)\" class=\"agent_1_37\"/><circle cx=\"230\" cy=\"139\" r=\"9\" fill=\"rgb(255,255,255)\" class=\"agent_1_41\"/><circle cx=\"272\" cy=\"340\" r=\"12\" fill=\"rgb(255,0,0)\" class=\"agent_1_59\"/><circle cx=\"207\" cy=\"202\" r=\"10\" fill=\"rgb(255,255,255)\" class=\"agent_1_61\"/></svg><svg viewBox='0 0 430 430' id=\"svg\" width=\"258\" height=\"258\"><circle cx=\"215\" cy=\"215\" r=\"205\" fill=\"none\" stroke=\"black\" stroke-width=\"2\" stroke-dasharray=\"3,3\"/> <circle cx=\"64\" cy=\"312\" r=\"12\" fill=\"rgb(255,255,255)\" class=\"agent_1_6\"/><circle cx=\"109\" cy=\"376\" r=\"10\" fill=\"rgb(255,255,255)\" class=\"agent_1_26\"/><circle cx=\"200\" cy=\"374\" r=\"13\" fill=\"rgb(255,255,255)\" class=\"agent_1_29\"/><circle cx=\"345\" cy=\"321\" r=\"13\" fill=\"rgb(255,255,255)\" class=\"agent_1_37\"/><circle cx=\"230\" cy=\"139\" r=\"9\" fill=\"rgb(255,255,255)\" class=\"agent_1_41\"/><circle cx=\"272\" cy=\"340\" r=\"12\" fill=\"rgb(255,0,0)\" class=\"agent_1_59\"/><circle cx=\"207\" cy=\"202\" r=\"10\" fill=\"rgb(255,255,255)\" class=\"agent_1_61\"/></svg><svg viewBox='0 0 430 430' id=\"svg\" width=\"258\" height=\"258\"><circle cx=\"215\" cy=\"215\" r=\"205\" fill=\"none\" stroke=\"black\" stroke-width=\"2\" stroke-dasharray=\"3,3\"/> <circle cx=\"64\" cy=\"312\" r=\"12\" fill=\"rgb(255,255,255)\" class=\"agent_1_6\"/><circle cx=\"109\" cy=\"376\" r=\"10\" fill=\"rgb(255,0,0)\" class=\"agent_1_26\"/><circle cx=\"200\" cy=\"374\" r=\"13\" fill=\"rgb(255,255,255)\" class=\"agent_1_29\"/><circle cx=\"345\" cy=\"321\" r=\"13\" fill=\"rgb(255,255,255)\" class=\"agent_1_37\"/><circle cx=\"230\" cy=\"139\" r=\"9\" fill=\"rgb(255,255,255)\" class=\"agent_1_41\"/><circle cx=\"272\" cy=\"340\" r=\"12\" fill=\"rgb(255,255,255)\" class=\"agent_1_59\"/><circle cx=\"207\" cy=\"202\" r=\"10\" fill=\"rgb(255,255,255)\" class=\"agent_1_61\"/></svg></div>"
      ],
      "text/plain": [
       "<IPython.core.display.HTML object>"
      ]
     },
     "metadata": {},
     "output_type": "display_data"
    },
    {
     "name": "stdout",
     "output_type": "stream",
     "text": [
      "sample 0\ti have a large black dot , and to the right of it is a smaller light grey dot , and to the right of it is a smaller light grey dot . i have a cluster of 3 dots <eos>\n",
      "sample 1\ti have a large black dot . above and to the right is a smaller grey dot , and below that black dot is a medium gray dot and to the right of it is a small light dot <eos>\n",
      "sample 2\ti have a large black dot , and to the right of it is a small light dot , and below that black dot is a medium grey dot . <eos>\n",
      "sample 3\ti have a large black dot . above it and to the right is a small light grey dot , and to the left of it is a smaller black dot . below that black dot is a light grey dot <eos>\n",
      "sample 4\ti have a large black dot . above and to the left is a small light grey dot , below and to the right of it is a small light dot , and above that medium grey dot is a medium gray dot <eos>\n",
      "sample 5\ti have a large black dot . below it and to the right is a small light grey dot , and to the right of it is a smaller dark grey dot . <eos>\n",
      "sample 6\ti have one large black dot . it has a small light grey dot to the right and below it and a medium grey dot to the right and above the light grey dot <eos>\n",
      "sample 7\ti have one large black dot with a smaller dark grey dot to the right of it . i also have a large light grey dot with a smaller black dot below and to the right of it . <eos>\n",
      "sample 8\ti have one large black dot . above it is a smaller grey dot , and to the left of it is a small light grey dot , to the right and below is a smaller black dot <eos>\n",
      "sample 9\ti have a large black dot and a small black dot and a medium black dot and a large light grey dot . i also have a dark grey dot that is the same size but the one on the right is a little larger and lighter than the other one . <eos>\n",
      "argmax\ti have a large black dot . above it and to the right is a small light grey dot , and to the right of it is a small black dot . do you see that ? <eos>\n",
      "human\ti see that but i also have a medium sized very dark one as well . is the large black one almost exactly in between two other dots . the one on the right being lightly smaller and very light and the one on the left being smaller and medium grey ? <eos>\n",
      "\n",
      "----------------------------------------\n",
      "\n",
      "human\tTHEM: yes ... shall we choose the larger black spot then ? <eos>\n",
      "\n",
      "----------------------------------------\n",
      "\n",
      "sample 0\tyes <selection>\n",
      "sample 1\tyes <selection>\n",
      "sample 2\tyes ! <selection>\n",
      "sample 3\tyes <selection>\n",
      "sample 4\tyes ! <selection>\n",
      "sample 5\tyes <selection>\n",
      "sample 6\tyes <selection>\n",
      "sample 7\tyes <selection>\n",
      "sample 8\tyes ! <selection>\n",
      "sample 9\tyes <selection>\n",
      "argmax\tyes <selection>\n",
      "human\tyep <selection>\n",
      "\n",
      "----------------------------------------\n",
      "\n"
     ]
    }
   ],
   "source": [
    "force_contexts_and_mentions(9)"
   ]
  },
  {
   "cell_type": "code",
   "execution_count": 55,
   "metadata": {
    "scrolled": false
   },
   "outputs": [
    {
     "data": {
      "text/html": [
       "<div style=\"white-space: nowrap\"><svg viewbox='0 0 430 430' width=\"258\" height=\"258\" id=\"agent_1\"><circle cx=\"215\" cy=\"215\" r=\"205\" fill=\"none\" stroke=\"black\" stroke-width=\"2\" stroke-dasharray=\"3,3\"/><circle cx=\"334\" cy=\"109\" r=\"13\" fill=\"rgb(156,156,156)\"/><circle cx=\"126\" cy=\"220\" r=\"7\" fill=\"rgb(112,112,112)\"/><circle cx=\"190\" cy=\"342\" r=\"7\" fill=\"rgb(93,93,93)\"/><circle cx=\"34\" cy=\"264\" r=\"10\" fill=\"rgb(169,169,169)\"/><circle cx=\"295\" cy=\"349\" r=\"10\" fill=\"rgb(182,182,182)\"/><circle cx=\"274\" cy=\"262\" r=\"8\" fill=\"rgb(54,54,54)\"/><circle cx=\"94\" cy=\"248\" r=\"7\" fill=\"rgb(146,146,146)\"/></svg><svg viewBox='0 0 430 430' id=\"svg\" width=\"258\" height=\"258\"><circle cx=\"215\" cy=\"215\" r=\"205\" fill=\"none\" stroke=\"black\" stroke-width=\"2\" stroke-dasharray=\"3,3\"/> <circle cx=\"334\" cy=\"109\" r=\"13\" fill=\"rgb(255,255,255)\" class=\"agent_1_7\"/><circle cx=\"126\" cy=\"220\" r=\"7\" fill=\"rgb(255,0,0)\" class=\"agent_1_14\"/><circle cx=\"190\" cy=\"342\" r=\"7\" fill=\"rgb(255,255,255)\" class=\"agent_1_25\"/><circle cx=\"34\" cy=\"264\" r=\"10\" fill=\"rgb(255,255,255)\" class=\"agent_1_28\"/><circle cx=\"295\" cy=\"349\" r=\"10\" fill=\"rgb(255,255,255)\" class=\"agent_1_31\"/><circle cx=\"274\" cy=\"262\" r=\"8\" fill=\"rgb(255,255,255)\" class=\"agent_1_50\"/><circle cx=\"94\" cy=\"248\" r=\"7\" fill=\"rgb(255,0,0)\" class=\"agent_1_77\"/></svg><svg viewBox='0 0 430 430' id=\"svg\" width=\"258\" height=\"258\"><circle cx=\"215\" cy=\"215\" r=\"205\" fill=\"none\" stroke=\"black\" stroke-width=\"2\" stroke-dasharray=\"3,3\"/> <circle cx=\"334\" cy=\"109\" r=\"13\" fill=\"rgb(255,255,255)\" class=\"agent_1_7\"/><circle cx=\"126\" cy=\"220\" r=\"7\" fill=\"rgb(255,0,0)\" class=\"agent_1_14\"/><circle cx=\"190\" cy=\"342\" r=\"7\" fill=\"rgb(255,255,255)\" class=\"agent_1_25\"/><circle cx=\"34\" cy=\"264\" r=\"10\" fill=\"rgb(255,255,255)\" class=\"agent_1_28\"/><circle cx=\"295\" cy=\"349\" r=\"10\" fill=\"rgb(255,255,255)\" class=\"agent_1_31\"/><circle cx=\"274\" cy=\"262\" r=\"8\" fill=\"rgb(255,255,255)\" class=\"agent_1_50\"/><circle cx=\"94\" cy=\"248\" r=\"7\" fill=\"rgb(255,0,0)\" class=\"agent_1_77\"/></svg><svg viewBox='0 0 430 430' id=\"svg\" width=\"258\" height=\"258\"><circle cx=\"215\" cy=\"215\" r=\"205\" fill=\"none\" stroke=\"black\" stroke-width=\"2\" stroke-dasharray=\"3,3\"/> <circle cx=\"334\" cy=\"109\" r=\"13\" fill=\"rgb(255,255,255)\" class=\"agent_1_7\"/><circle cx=\"126\" cy=\"220\" r=\"7\" fill=\"rgb(255,0,0)\" class=\"agent_1_14\"/><circle cx=\"190\" cy=\"342\" r=\"7\" fill=\"rgb(255,255,255)\" class=\"agent_1_25\"/><circle cx=\"34\" cy=\"264\" r=\"10\" fill=\"rgb(255,255,255)\" class=\"agent_1_28\"/><circle cx=\"295\" cy=\"349\" r=\"10\" fill=\"rgb(255,255,255)\" class=\"agent_1_31\"/><circle cx=\"274\" cy=\"262\" r=\"8\" fill=\"rgb(255,255,255)\" class=\"agent_1_50\"/><circle cx=\"94\" cy=\"248\" r=\"7\" fill=\"rgb(255,255,255)\" class=\"agent_1_77\"/></svg></div>"
      ],
      "text/plain": [
       "<IPython.core.display.HTML object>"
      ]
     },
     "metadata": {},
     "output_type": "display_data"
    },
    {
     "name": "stdout",
     "output_type": "stream",
     "text": [
      "sample 0\ttwo tiny dots close to each other , one on the right is slightly darker and slightly larger <eos>\n",
      "sample 1\ti have two small dots very close to each other . the one on the right is slightly darker and slightly smaller . <eos>\n",
      "sample 2\ti have two tiny dots close to each other , one is slightly darker and slightly lower <eos>\n",
      "sample 3\ttwo tiny dots almost vertical to each other ? one on the right is darker and slightly larger <eos>\n",
      "sample 4\ti have two small dots almost on a vertical line . the one on the left is slightly darker and slightly larger . <eos>\n",
      "sample 5\ti have two small dots very close to each other . the one on the right is slightly darker and a little darker <eos>\n",
      "sample 6\ti have two tiny dots close to each other . the one on top is slightly to the right and slightly darker <eos>\n",
      "sample 7\ttwo small dots , one is slightly darker and to the right of the other ? <eos>\n",
      "sample 8\ti have two small dots close to each other . the one on the right is slightly darker , and a little smaller <eos>\n",
      "sample 9\ti have two small dots very close to each other , the one on the right is slightly darker and slightly smaller <eos>\n",
      "argmax\ti have two small dots very close to each other . the one on the right is slightly darker and slightly smaller <eos>\n",
      "human\tdo you have 2 small dots near each other ? top left dot is darker ? <eos>\n",
      "\n",
      "----------------------------------------\n",
      "\n",
      "human\tTHEM: yes ! i was about to type that click the one on top ! <eos>\n",
      "\n",
      "----------------------------------------\n",
      "\n"
     ]
    },
    {
     "data": {
      "text/html": [
       "<div style=\"white-space: nowrap\"><svg viewbox='0 0 430 430' width=\"258\" height=\"258\" id=\"agent_1\"><circle cx=\"215\" cy=\"215\" r=\"205\" fill=\"none\" stroke=\"black\" stroke-width=\"2\" stroke-dasharray=\"3,3\"/><circle cx=\"334\" cy=\"109\" r=\"13\" fill=\"rgb(156,156,156)\"/><circle cx=\"126\" cy=\"220\" r=\"7\" fill=\"rgb(112,112,112)\"/><circle cx=\"190\" cy=\"342\" r=\"7\" fill=\"rgb(93,93,93)\"/><circle cx=\"34\" cy=\"264\" r=\"10\" fill=\"rgb(169,169,169)\"/><circle cx=\"295\" cy=\"349\" r=\"10\" fill=\"rgb(182,182,182)\"/><circle cx=\"274\" cy=\"262\" r=\"8\" fill=\"rgb(54,54,54)\"/><circle cx=\"94\" cy=\"248\" r=\"7\" fill=\"rgb(146,146,146)\"/></svg><svg viewBox='0 0 430 430' id=\"svg\" width=\"258\" height=\"258\"><circle cx=\"215\" cy=\"215\" r=\"205\" fill=\"none\" stroke=\"black\" stroke-width=\"2\" stroke-dasharray=\"3,3\"/> <circle cx=\"334\" cy=\"109\" r=\"13\" fill=\"rgb(255,255,255)\" class=\"agent_1_7\"/><circle cx=\"126\" cy=\"220\" r=\"7\" fill=\"rgb(255,0,0)\" class=\"agent_1_14\"/><circle cx=\"190\" cy=\"342\" r=\"7\" fill=\"rgb(255,255,255)\" class=\"agent_1_25\"/><circle cx=\"34\" cy=\"264\" r=\"10\" fill=\"rgb(255,255,255)\" class=\"agent_1_28\"/><circle cx=\"295\" cy=\"349\" r=\"10\" fill=\"rgb(255,255,255)\" class=\"agent_1_31\"/><circle cx=\"274\" cy=\"262\" r=\"8\" fill=\"rgb(255,255,255)\" class=\"agent_1_50\"/><circle cx=\"94\" cy=\"248\" r=\"7\" fill=\"rgb(255,255,255)\" class=\"agent_1_77\"/></svg></div>"
      ],
      "text/plain": [
       "<IPython.core.display.HTML object>"
      ]
     },
     "metadata": {},
     "output_type": "display_data"
    },
    {
     "name": "stdout",
     "output_type": "stream",
     "text": [
      "sample 0\tok , let 's do it ! <selection>\n",
      "sample 1\tok , lets click the tiny one <selection>\n",
      "sample 2\tok , lets click the smaller one <selection>\n",
      "sample 3\tok , the one on the right is a little darker . <eos>\n",
      "sample 4\tok , let 's do the one on the right . <selection>\n",
      "sample 5\tok , lets pick the top one <selection>\n",
      "sample 6\tok , lets click the top one <selection>\n",
      "sample 7\tok , lets click the top one <selection>\n",
      "sample 8\tok , lets click the top one ? <eos>\n",
      "sample 9\tok , the one on the right is slightly darker . <eos>\n",
      "argmax\tok , lets click the smaller one <selection>\n",
      "human\tokay i will click the top one . <selection>\n",
      "\n",
      "----------------------------------------\n",
      "\n"
     ]
    }
   ],
   "source": [
    "force_contexts_and_mentions(10)"
   ]
  },
  {
   "cell_type": "code",
   "execution_count": 56,
   "metadata": {
    "scrolled": false
   },
   "outputs": [
    {
     "data": {
      "text/html": [
       "<div style=\"white-space: nowrap\"><svg viewbox='0 0 430 430' width=\"258\" height=\"258\" id=\"agent_1\"><circle cx=\"215\" cy=\"215\" r=\"205\" fill=\"none\" stroke=\"black\" stroke-width=\"2\" stroke-dasharray=\"3,3\"/><circle cx=\"96\" cy=\"180\" r=\"10\" fill=\"rgb(130,130,130)\"/><circle cx=\"396\" cy=\"180\" r=\"12\" fill=\"rgb(103,103,103)\"/><circle cx=\"93\" cy=\"118\" r=\"9\" fill=\"rgb(161,161,161)\"/><circle cx=\"70\" cy=\"206\" r=\"11\" fill=\"rgb(71,71,71)\"/><circle cx=\"338\" cy=\"310\" r=\"8\" fill=\"rgb(159,159,159)\"/><circle cx=\"177\" cy=\"303\" r=\"8\" fill=\"rgb(65,65,65)\"/><circle cx=\"376\" cy=\"331\" r=\"12\" fill=\"rgb(136,136,136)\"/></svg><svg viewBox='0 0 430 430' id=\"svg\" width=\"258\" height=\"258\"><circle cx=\"215\" cy=\"215\" r=\"205\" fill=\"none\" stroke=\"black\" stroke-width=\"2\" stroke-dasharray=\"3,3\"/> <circle cx=\"96\" cy=\"180\" r=\"10\" fill=\"rgb(255,0,0)\" class=\"agent_1_9\"/><circle cx=\"396\" cy=\"180\" r=\"12\" fill=\"rgb(255,255,255)\" class=\"agent_1_13\"/><circle cx=\"93\" cy=\"118\" r=\"9\" fill=\"rgb(255,255,255)\" class=\"agent_1_43\"/><circle cx=\"70\" cy=\"206\" r=\"11\" fill=\"rgb(255,0,0)\" class=\"agent_1_46\"/><circle cx=\"338\" cy=\"310\" r=\"8\" fill=\"rgb(255,255,255)\" class=\"agent_1_50\"/><circle cx=\"177\" cy=\"303\" r=\"8\" fill=\"rgb(255,255,255)\" class=\"agent_1_54\"/><circle cx=\"376\" cy=\"331\" r=\"12\" fill=\"rgb(255,255,255)\" class=\"agent_1_75\"/></svg><svg viewBox='0 0 430 430' id=\"svg\" width=\"258\" height=\"258\"><circle cx=\"215\" cy=\"215\" r=\"205\" fill=\"none\" stroke=\"black\" stroke-width=\"2\" stroke-dasharray=\"3,3\"/> <circle cx=\"96\" cy=\"180\" r=\"10\" fill=\"rgb(255,0,0)\" class=\"agent_1_9\"/><circle cx=\"396\" cy=\"180\" r=\"12\" fill=\"rgb(255,255,255)\" class=\"agent_1_13\"/><circle cx=\"93\" cy=\"118\" r=\"9\" fill=\"rgb(255,255,255)\" class=\"agent_1_43\"/><circle cx=\"70\" cy=\"206\" r=\"11\" fill=\"rgb(255,0,0)\" class=\"agent_1_46\"/><circle cx=\"338\" cy=\"310\" r=\"8\" fill=\"rgb(255,255,255)\" class=\"agent_1_50\"/><circle cx=\"177\" cy=\"303\" r=\"8\" fill=\"rgb(255,255,255)\" class=\"agent_1_54\"/><circle cx=\"376\" cy=\"331\" r=\"12\" fill=\"rgb(255,255,255)\" class=\"agent_1_75\"/></svg></div>"
      ],
      "text/plain": [
       "<IPython.core.display.HTML object>"
      ]
     },
     "metadata": {},
     "output_type": "display_data"
    },
    {
     "name": "stdout",
     "output_type": "stream",
     "text": [
      "sample 0\ti see two dots very close to each other . <eos>\n",
      "sample 1\ti have two dots of same size and color dots close to each other <eos>\n",
      "sample 2\ttwo dots very close together and diagonal to each other ? <eos>\n",
      "sample 3\ti have two dots very close to each other , same size <eos>\n",
      "sample 4\ti have two dark dots close to each other <eos>\n",
      "sample 5\ti have two dark dots close to each other <eos>\n",
      "sample 6\ti have two dots that are very close together . they are both medium size <eos>\n",
      "sample 7\ti have two medium sized dots very close to each other <eos>\n",
      "sample 8\ti have two dots of similar size and color dots close to each other <eos>\n",
      "sample 9\ti have two dots very close to each other , very close together <eos>\n",
      "argmax\ti have two dots very close to each other <eos>\n",
      "human\ttwo medium sized dots really close to each other ? <eos>\n",
      "\n",
      "----------------------------------------\n",
      "\n",
      "human\tTHEM: i have many black dot , but i have one set of medium grey the one on the right is slightly larger and darker ? <eos>\n",
      "\n",
      "----------------------------------------\n",
      "\n"
     ]
    },
    {
     "data": {
      "text/html": [
       "<div style=\"white-space: nowrap\"><svg viewbox='0 0 430 430' width=\"258\" height=\"258\" id=\"agent_1\"><circle cx=\"215\" cy=\"215\" r=\"205\" fill=\"none\" stroke=\"black\" stroke-width=\"2\" stroke-dasharray=\"3,3\"/><circle cx=\"96\" cy=\"180\" r=\"10\" fill=\"rgb(130,130,130)\"/><circle cx=\"396\" cy=\"180\" r=\"12\" fill=\"rgb(103,103,103)\"/><circle cx=\"93\" cy=\"118\" r=\"9\" fill=\"rgb(161,161,161)\"/><circle cx=\"70\" cy=\"206\" r=\"11\" fill=\"rgb(71,71,71)\"/><circle cx=\"338\" cy=\"310\" r=\"8\" fill=\"rgb(159,159,159)\"/><circle cx=\"177\" cy=\"303\" r=\"8\" fill=\"rgb(65,65,65)\"/><circle cx=\"376\" cy=\"331\" r=\"12\" fill=\"rgb(136,136,136)\"/></svg><svg viewBox='0 0 430 430' id=\"svg\" width=\"258\" height=\"258\"><circle cx=\"215\" cy=\"215\" r=\"205\" fill=\"none\" stroke=\"black\" stroke-width=\"2\" stroke-dasharray=\"3,3\"/> <circle cx=\"96\" cy=\"180\" r=\"10\" fill=\"rgb(255,255,255)\" class=\"agent_1_9\"/><circle cx=\"396\" cy=\"180\" r=\"12\" fill=\"rgb(255,255,255)\" class=\"agent_1_13\"/><circle cx=\"93\" cy=\"118\" r=\"9\" fill=\"rgb(255,255,255)\" class=\"agent_1_43\"/><circle cx=\"70\" cy=\"206\" r=\"11\" fill=\"rgb(255,255,255)\" class=\"agent_1_46\"/><circle cx=\"338\" cy=\"310\" r=\"8\" fill=\"rgb(255,0,0)\" class=\"agent_1_50\"/><circle cx=\"177\" cy=\"303\" r=\"8\" fill=\"rgb(255,255,255)\" class=\"agent_1_54\"/><circle cx=\"376\" cy=\"331\" r=\"12\" fill=\"rgb(255,0,0)\" class=\"agent_1_75\"/></svg><svg viewBox='0 0 430 430' id=\"svg\" width=\"258\" height=\"258\"><circle cx=\"215\" cy=\"215\" r=\"205\" fill=\"none\" stroke=\"black\" stroke-width=\"2\" stroke-dasharray=\"3,3\"/> <circle cx=\"96\" cy=\"180\" r=\"10\" fill=\"rgb(255,255,255)\" class=\"agent_1_9\"/><circle cx=\"396\" cy=\"180\" r=\"12\" fill=\"rgb(255,255,255)\" class=\"agent_1_13\"/><circle cx=\"93\" cy=\"118\" r=\"9\" fill=\"rgb(255,255,255)\" class=\"agent_1_43\"/><circle cx=\"70\" cy=\"206\" r=\"11\" fill=\"rgb(255,255,255)\" class=\"agent_1_46\"/><circle cx=\"338\" cy=\"310\" r=\"8\" fill=\"rgb(255,0,0)\" class=\"agent_1_50\"/><circle cx=\"177\" cy=\"303\" r=\"8\" fill=\"rgb(255,255,255)\" class=\"agent_1_54\"/><circle cx=\"376\" cy=\"331\" r=\"12\" fill=\"rgb(255,255,255)\" class=\"agent_1_75\"/></svg></div>"
      ],
      "text/plain": [
       "<IPython.core.display.HTML object>"
      ]
     },
     "metadata": {},
     "output_type": "display_data"
    },
    {
     "name": "stdout",
     "output_type": "stream",
     "text": [
      "sample 0\tyes i see that . choose the smaller one <selection>\n",
      "sample 1\tyes i see that . pick the smaller one <selection>\n",
      "sample 2\tyes i have that . let 's pick the smaller one <eos>\n",
      "sample 3\tyes i see that . choose the smaller one <selection>\n",
      "sample 4\tyes , i have that . let 's pick the smaller one <selection>\n",
      "sample 5\tyes i see that . pick the smaller one <selection>\n",
      "sample 6\tyes i see that . choose the smaller one <selection>\n",
      "sample 7\tyes i see that . pick the smaller one <selection>\n",
      "sample 8\tyes i see that . choose the smaller one <selection>\n",
      "sample 9\tyes i see that . choose the smaller one <selection>\n",
      "argmax\tyes i see that . choose the smaller one <selection>\n",
      "human\ti have that ... the left one is a little higher up . <eos>\n",
      "\n",
      "----------------------------------------\n",
      "\n",
      "human\tTHEM: yes . let 's choose that one ... the smaller one on the left . = ) <selection>\n",
      "\n",
      "----------------------------------------\n",
      "\n"
     ]
    }
   ],
   "source": [
    "force_contexts_and_mentions(11)"
   ]
  },
  {
   "cell_type": "code",
   "execution_count": 72,
   "metadata": {},
   "outputs": [],
   "source": [
    "import json\n",
    "from utils import ContextGenerator"
   ]
  },
  {
   "cell_type": "code",
   "execution_count": 43,
   "metadata": {},
   "outputs": [],
   "source": [
    "ctx_gen = ContextGenerator('data/onecommon/shared_4.txt')"
   ]
  },
  {
   "cell_type": "code",
   "execution_count": 44,
   "metadata": {},
   "outputs": [],
   "source": [
    "with open('data/onecommon/shared_4.json', \"r\") as f:\n",
    "    scenario_list = json.load(f)\n",
    "selfplay_scenarios = {scenario['uuid']: scenario for scenario in scenario_list}"
   ]
  },
  {
   "cell_type": "code",
   "execution_count": 45,
   "metadata": {},
   "outputs": [
    {
     "name": "stdout",
     "output_type": "stream",
     "text": [
      "S_xM5bXi3lMqXHKKgP\n"
     ]
    }
   ],
   "source": [
    "scenario = None\n",
    "for ix, ([scenario_id], (ctx1, ctx2), (ids1, ids2)) in enumerate(ctx_gen.iter()):\n",
    "#     if scenario_id == 'S_11J8n40u4HRVduwi':\n",
    "#         print('found it')\n",
    "#         scenario = scenarios[scenario_id]\n",
    "#         break\n",
    "    if ix == 2:\n",
    "        scenario = selfplay_scenarios[scenario_id]\n",
    "        print(scenario_id)\n",
    "        break"
   ]
  },
  {
   "cell_type": "code",
   "execution_count": 46,
   "metadata": {},
   "outputs": [],
   "source": [
    "import random"
   ]
  },
  {
   "cell_type": "code",
   "execution_count": null,
   "metadata": {
    "scrolled": false
   },
   "outputs": [
    {
     "ename": "NameError",
     "evalue": "name 'selfplay_scenarios' is not defined",
     "output_type": "error",
     "traceback": [
      "\u001b[0;31m---------------------------------------------------------------------------\u001b[0m",
      "\u001b[0;31mNameError\u001b[0m                                 Traceback (most recent call last)",
      "\u001b[0;32m<ipython-input-41-e274016a0281>\u001b[0m in \u001b[0;36m<module>\u001b[0;34m\u001b[0m\n\u001b[1;32m      1\u001b[0m \u001b[0;31m# selfplay emulation\u001b[0m\u001b[0;34m\u001b[0m\u001b[0;34m\u001b[0m\u001b[0;34m\u001b[0m\u001b[0m\n\u001b[0;32m----> 2\u001b[0;31m \u001b[0mscenario\u001b[0m \u001b[0;34m=\u001b[0m \u001b[0mselfplay_scenarios\u001b[0m\u001b[0;34m[\u001b[0m\u001b[0mscenario_id\u001b[0m\u001b[0;34m]\u001b[0m\u001b[0;34m\u001b[0m\u001b[0;34m\u001b[0m\u001b[0m\n\u001b[0m\u001b[1;32m      3\u001b[0m \u001b[0;32mfor\u001b[0m \u001b[0magent\u001b[0m\u001b[0;34m,\u001b[0m \u001b[0magent_id\u001b[0m\u001b[0;34m,\u001b[0m \u001b[0mctx\u001b[0m\u001b[0;34m,\u001b[0m \u001b[0mreal_ids\u001b[0m \u001b[0;32min\u001b[0m \u001b[0mzip\u001b[0m\u001b[0;34m(\u001b[0m\u001b[0;34m[\u001b[0m\u001b[0malice\u001b[0m\u001b[0;34m,\u001b[0m \u001b[0mbob\u001b[0m\u001b[0;34m]\u001b[0m\u001b[0;34m,\u001b[0m \u001b[0;34m[\u001b[0m\u001b[0;36m0\u001b[0m\u001b[0;34m,\u001b[0m \u001b[0;36m1\u001b[0m\u001b[0;34m]\u001b[0m\u001b[0;34m,\u001b[0m \u001b[0;34m[\u001b[0m\u001b[0mctx1\u001b[0m\u001b[0;34m,\u001b[0m \u001b[0mctx2\u001b[0m\u001b[0;34m]\u001b[0m\u001b[0;34m,\u001b[0m \u001b[0;34m[\u001b[0m\u001b[0mids1\u001b[0m\u001b[0;34m,\u001b[0m \u001b[0mids2\u001b[0m\u001b[0;34m]\u001b[0m\u001b[0;34m)\u001b[0m\u001b[0;34m:\u001b[0m\u001b[0;34m\u001b[0m\u001b[0;34m\u001b[0m\u001b[0m\n\u001b[1;32m      4\u001b[0m     \u001b[0magent\u001b[0m\u001b[0;34m.\u001b[0m\u001b[0mfeed_context\u001b[0m\u001b[0;34m(\u001b[0m\u001b[0mctx\u001b[0m\u001b[0;34m)\u001b[0m\u001b[0;34m\u001b[0m\u001b[0;34m\u001b[0m\u001b[0m\n\u001b[1;32m      5\u001b[0m     \u001b[0magent\u001b[0m\u001b[0;34m.\u001b[0m\u001b[0mreal_ids\u001b[0m \u001b[0;34m=\u001b[0m \u001b[0mreal_ids\u001b[0m\u001b[0;34m\u001b[0m\u001b[0;34m\u001b[0m\u001b[0m\n",
      "\u001b[0;31mNameError\u001b[0m: name 'selfplay_scenarios' is not defined"
     ]
    },
    {
     "name": "stdout",
     "output_type": "stream",
     "text": [
      "> \u001b[0;32m<ipython-input-41-e274016a0281>\u001b[0m(2)\u001b[0;36m<module>\u001b[0;34m()\u001b[0m\n",
      "\u001b[0;32m      1 \u001b[0;31m\u001b[0;31m# selfplay emulation\u001b[0m\u001b[0;34m\u001b[0m\u001b[0;34m\u001b[0m\u001b[0;34m\u001b[0m\u001b[0m\n",
      "\u001b[0m\u001b[0;32m----> 2 \u001b[0;31m\u001b[0mscenario\u001b[0m \u001b[0;34m=\u001b[0m \u001b[0mselfplay_scenarios\u001b[0m\u001b[0;34m[\u001b[0m\u001b[0mscenario_id\u001b[0m\u001b[0;34m]\u001b[0m\u001b[0;34m\u001b[0m\u001b[0;34m\u001b[0m\u001b[0m\n",
      "\u001b[0m\u001b[0;32m      3 \u001b[0;31m\u001b[0;32mfor\u001b[0m \u001b[0magent\u001b[0m\u001b[0;34m,\u001b[0m \u001b[0magent_id\u001b[0m\u001b[0;34m,\u001b[0m \u001b[0mctx\u001b[0m\u001b[0;34m,\u001b[0m \u001b[0mreal_ids\u001b[0m \u001b[0;32min\u001b[0m \u001b[0mzip\u001b[0m\u001b[0;34m(\u001b[0m\u001b[0;34m[\u001b[0m\u001b[0malice\u001b[0m\u001b[0;34m,\u001b[0m \u001b[0mbob\u001b[0m\u001b[0;34m]\u001b[0m\u001b[0;34m,\u001b[0m \u001b[0;34m[\u001b[0m\u001b[0;36m0\u001b[0m\u001b[0;34m,\u001b[0m \u001b[0;36m1\u001b[0m\u001b[0;34m]\u001b[0m\u001b[0;34m,\u001b[0m \u001b[0;34m[\u001b[0m\u001b[0mctx1\u001b[0m\u001b[0;34m,\u001b[0m \u001b[0mctx2\u001b[0m\u001b[0;34m]\u001b[0m\u001b[0;34m,\u001b[0m \u001b[0;34m[\u001b[0m\u001b[0mids1\u001b[0m\u001b[0;34m,\u001b[0m \u001b[0mids2\u001b[0m\u001b[0;34m]\u001b[0m\u001b[0;34m)\u001b[0m\u001b[0;34m:\u001b[0m\u001b[0;34m\u001b[0m\u001b[0;34m\u001b[0m\u001b[0m\n",
      "\u001b[0m\u001b[0;32m      4 \u001b[0;31m    \u001b[0magent\u001b[0m\u001b[0;34m.\u001b[0m\u001b[0mfeed_context\u001b[0m\u001b[0;34m(\u001b[0m\u001b[0mctx\u001b[0m\u001b[0;34m)\u001b[0m\u001b[0;34m\u001b[0m\u001b[0;34m\u001b[0m\u001b[0m\n",
      "\u001b[0m\u001b[0;32m      5 \u001b[0;31m    \u001b[0magent\u001b[0m\u001b[0;34m.\u001b[0m\u001b[0mreal_ids\u001b[0m \u001b[0;34m=\u001b[0m \u001b[0mreal_ids\u001b[0m\u001b[0;34m\u001b[0m\u001b[0;34m\u001b[0m\u001b[0m\n",
      "\u001b[0m\n",
      "--KeyboardInterrupt--\n"
     ]
    }
   ],
   "source": [
    "# selfplay emulation\n",
    "scenario = selfplay_scenarios[scenario_id]\n",
    "for agent, agent_id, ctx, real_ids in zip([alice, bob], [0, 1], [ctx1, ctx2], [ids1, ids2]):\n",
    "    agent.feed_context(ctx)\n",
    "    agent.real_ids = real_ids\n",
    "    agent.agent_id = agent_id\n",
    "    \n",
    "dot_mention_samples = 1\n",
    "utt_samples = 10\n",
    "    \n",
    "writer, reader = [alice, bob]\n",
    "conv = []\n",
    "speaker = []\n",
    "words_left = 5000\n",
    "\n",
    "num_mentions = 2\n",
    "num_dots_to_mention = 3\n",
    "\n",
    "sample_temperature = 0.25\n",
    "argmax_temperature = 0.005\n",
    "\n",
    "def make_dots_mentioned_per_ref():\n",
    "#     # fixed\n",
    "#     return torch.BoolTensor([[1,1,0,0,0,0,0], [1,0,0,0,0,0,0]]).unsqueeze(0)\n",
    "#     return torch.BoolTensor([[1,1,0,0,0,0,0]]).unsqueeze(0)\n",
    "\n",
    "    # random initial and drop\n",
    "    mentioned = torch.zeros(1,num_mentions,7).bool()\n",
    "    dots_mentioned = []\n",
    "    for _ in range(num_dots_to_mention):\n",
    "        dot_ix = torch.randint(7, (1,))\n",
    "        mentioned[:,0,dot_ix] = 1\n",
    "        dots_mentioned.append(dot_ix)\n",
    "        \n",
    "    for mention_ix in range(1, num_mentions):\n",
    "        mentioned[:,mention_ix,random.choice(dots_mentioned)] = 1\n",
    "    return mentioned\n",
    "    \n",
    "\n",
    "    # random \n",
    "#     mentioned = torch.zeros(1,num_mentions,7).bool()\n",
    "#     for mention_ix in range(num_mentions):\n",
    "#         for _ in range(num_dots_to_mention):\n",
    "#             dot_ix = torch.randint(7, (1,))\n",
    "#             mentioned[:,mention_ix,dot_ix] = 1\n",
    "#     return mentioned\n",
    "\n",
    "display_context = True\n",
    "\n",
    "while True:\n",
    "    dots_mentioned_per_ref = make_dots_mentioned_per_ref()\n",
    "    dots_mentioned = dots_mentioned_per_ref.max(1).values\n",
    "    \n",
    "    num_markables=torch.LongTensor([dots_mentioned_per_ref.size(1)])\n",
    "    if display_context:\n",
    "        for mention_ix in range(dots_mentioned_per_ref.size(1)):\n",
    "            display_attn(scenario, dots_mentioned_per_ref[:,mention_ix].float(), writer.agent_id, name=f'dots_mentioned_{mention_ix}')\n",
    "    for us in range(utt_samples):\n",
    "        outs, _, _, _, extra = writer.model.write(\n",
    "            writer.ctx,\n",
    "            writer.ctx_differences,\n",
    "            writer.ctx_h,\n",
    "            writer.reader_and_writer_lang_h,\n",
    "            words_left,\n",
    "            sample_temperature,\n",
    "            dots_mentioned=dots_mentioned,\n",
    "            dots_mentioned_per_ref=dots_mentioned_per_ref,\n",
    "            num_markables=num_markables,\n",
    "        )\n",
    "        print('agent {}; sample {}\\t{}'.format(writer.agent_id, us, ' '.join(writer._decode(outs, writer.model.word_dict))))\n",
    "    print()\n",
    "        \n",
    "    num_markables=torch.LongTensor([num_mentions])\n",
    "    if display_context:\n",
    "        for mention_ix in range(dots_mentioned_per_ref.size(1)):\n",
    "            display_attn(scenario, dots_mentioned_per_ref[:,mention_ix].float(), writer.agent_id, name=f'dots_mentioned_{mention_ix}')\n",
    "    out = writer.write(\n",
    "        max_words=words_left,\n",
    "        dots_mentioned=dots_mentioned,\n",
    "        dots_mentioned_per_ref=dots_mentioned_per_ref,\n",
    "        num_markables=num_markables,\n",
    "        temperature_override=argmax_temperature,\n",
    "    )\n",
    "    print('agent {}; argmax\\t{}'.format(writer.agent_id, ' '.join(out)))\n",
    "    print()\n",
    "    \n",
    "#     if display_context and writer.extras[-1].get('feed_ctx_attn_prob', None) is not None:\n",
    "#         display_attn(scenario, writer.extras[-1]['feed_ctx_attn_prob'], writer.agent_id, name='feed attention')\n",
    "    \n",
    "#     if display_context and writer.extras[-1].get('word_ctx_attn_prob_mean', None) is not None:\n",
    "#         display_attn(scenario, writer.extras[-1]['word_ctx_attn_prob_mean'], writer.agent_id, name='word attention mean')\n",
    "        \n",
    "#     for ix, ix_attn in enumerate(writer.extras[-1]['word_ctx_attn_probs']):\n",
    "#         display_attn(scenario, ix_attn, writer.agent_id, name='t {}: {}'.format(ix, out[ix]))\n",
    "        \n",
    "    print('{}\\t{}'.format(writer.agent_id, ' '.join(out)))\n",
    "    print('-'*60)\n",
    "        \n",
    "    words_left -= len(out)\n",
    "    conv.append(out)\n",
    "    speaker.append(writer.agent_id)\n",
    "    reader.read(out)\n",
    "    if is_selection(out) or words_left <= 1:\n",
    "        break\n",
    "    writer, reader = reader, writer"
   ]
  },
  {
   "cell_type": "code",
   "execution_count": null,
   "metadata": {},
   "outputs": [],
   "source": []
  }
 ],
 "metadata": {
  "kernelspec": {
   "display_name": "Python 3",
   "language": "python",
   "name": "python3"
  },
  "language_info": {
   "codemirror_mode": {
    "name": "ipython",
    "version": 3
   },
   "file_extension": ".py",
   "mimetype": "text/x-python",
   "name": "python",
   "nbconvert_exporter": "python",
   "pygments_lexer": "ipython3",
   "version": "3.6.10"
  }
 },
 "nbformat": 4,
 "nbformat_minor": 2
}
