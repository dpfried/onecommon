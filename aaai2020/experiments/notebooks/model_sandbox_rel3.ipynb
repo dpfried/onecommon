{
 "cells": [
  {
   "cell_type": "code",
   "execution_count": 2,
   "metadata": {},
   "outputs": [
    {
     "data": {
      "text/html": [
       "<style>.container { width:100% !important; }</style>"
      ],
      "text/plain": [
       "<IPython.core.display.HTML object>"
      ]
     },
     "metadata": {},
     "output_type": "display_data"
    }
   ],
   "source": [
    "from IPython.core.display import display, HTML\n",
    "display(HTML(\"<style>.container { width:100% !important; }</style>\"))"
   ]
  },
  {
   "cell_type": "code",
   "execution_count": 3,
   "metadata": {
    "scrolled": true
   },
   "outputs": [
    {
     "name": "stdout",
     "output_type": "stream",
     "text": [
      "/home/dfried/projects/onecommon/aaai2020/experiments\n"
     ]
    }
   ],
   "source": [
    "cd '/home/dfried/projects/onecommon/aaai2020/experiments'"
   ]
  },
  {
   "cell_type": "code",
   "execution_count": 4,
   "metadata": {},
   "outputs": [],
   "source": [
    "import models\n",
    "from models import get_model_type\n",
    "import data\n",
    "import utils\n",
    "from domain import get_domain\n",
    "from corpora.reference_sentence import ReferenceSentenceCorpus"
   ]
  },
  {
   "cell_type": "code",
   "execution_count": 5,
   "metadata": {},
   "outputs": [],
   "source": [
    "# ls expts/rel3_tsel_ref_dial_model_separate/directions"
   ]
  },
  {
   "cell_type": "code",
   "execution_count": 6,
   "metadata": {},
   "outputs": [],
   "source": [
    "# ls expts/rel3_tsel_ref_dial_model_separate/directions/base_512_learned-pooling_untied_bidirectional_hidden-mention-encoder/"
   ]
  },
  {
   "cell_type": "code",
   "execution_count": 7,
   "metadata": {},
   "outputs": [],
   "source": [
    "domain = get_domain('one_common')\n",
    "# unk_threshold = 10\n",
    "unk_threshold = 0\n",
    "model_ty = get_model_type('rnn_reference_model')\n",
    "\n",
    "ctx_encoder_type = 'rel_attn_encoder_3'\n",
    "\n",
    "# model_fname = 'rel2_dial_model_separate/hierarchical_only-self_mask-pad_max-pool_rel-2_feed-context-attend_no-word-attention_ablate-properties_1_best.th'\n",
    "\n",
    "base = 'expts/rel3_tsel_ref_dial_model_separate/directions'\n",
    "dot_recurrence = 'expts/rel3_tsel_ref_dial_model_separate/dot_recurrence'\n",
    "dot_recurrence_no_beliefs = 'expts/rel3_tsel_ref_dial_model_separate/dot_recurrence_no-beliefs'\n",
    "\n",
    "model_fnames = {\n",
    "    'basic': f'{base}/base_512_learned-pooling_untied_bidirectional_hidden-mention-encoder/1_ep-30.th',\n",
    "    'encoder-filtered-shared': f'{base}/base_512_extremes_learned-pooling_untied_bidirectional_hidden-mention-encoder-filtered-shared/1_ep-30.th',\n",
    "    'encoder-filtered-separate': f'{base}/base_512_extremes_learned-pooling_untied_bidirectional_hidden-mention-encoder-filtered-separate/1_ep-30.th',\n",
    "    'encoder-filtered-separate-diffs': f'{base}/base_512_extremes_learned-pooling_untied_bidirectional_hidden-mention-encoder-filtered-separate-diffs/1_ep-30.th',\n",
    "#     'dot-recurrence': f'{dot_recurrence}/base_dr-self+partner-32-mention-selection/1_ep-20.th',\n",
    "    'dot-recurrence-no-beliefs': f'{dot_recurrence_no_beliefs}/base_mention-selection-ref-partner/1_ep-20.th',\n",
    "    'dot-recurrence-oracle-no-beliefs': f'{dot_recurrence_no_beliefs}/base_oracle_mention-selection-ref-partner/1_ep-20.th',\n",
    "#     'dot-recurrence-nm-multi': f'{dot_recurrence}/base_dr-self+partner-64-mention-selection_nmpt-multi-reference_loss-expanded/1_ep-20.th',\n",
    "    'dot-recurrence-nm-multi-no-beliefs': f'{dot_recurrence_no_beliefs}/base_mention-selection-ref-partner_nmpt-multi_loss-expanded/1_ep-20.th',\n",
    "}"
   ]
  },
  {
   "cell_type": "code",
   "execution_count": 8,
   "metadata": {},
   "outputs": [
    {
     "name": "stdout",
     "output_type": "stream",
     "text": [
      "freq cutoff: 0\n",
      "vocab size: 1857\n",
      "dataset data/onecommon/train_reference_1.txt, total 545056, unks 0, ratio 0.00%\n",
      "dataset data/onecommon/valid_reference_1.txt, total 69348, unks 202, ratio 0.29%\n",
      "dataset data/onecommon/test_reference_1.txt, total 67284, unks 210, ratio 0.31%\n"
     ]
    }
   ],
   "source": [
    "seed = 1\n",
    "corpus = ReferenceSentenceCorpus(domain, 'data/onecommon',\n",
    "                            train='train_reference_{}.txt'.format(seed),\n",
    "                            valid='valid_reference_{}.txt'.format(seed),\n",
    "                            test='test_reference_{}.txt'.format(seed),\n",
    "                            freq_cutoff=unk_threshold, verbose=True)"
   ]
  },
  {
   "cell_type": "code",
   "execution_count": 9,
   "metadata": {},
   "outputs": [],
   "source": [
    "def load_json(file):\n",
    "    import json\n",
    "    with open(file, 'r') as f:\n",
    "        return json.load(f)"
   ]
  },
  {
   "cell_type": "code",
   "execution_count": 10,
   "metadata": {},
   "outputs": [],
   "source": [
    "scenarios1 = load_json('data/onecommon/aaai_train_scenarios.json')\n",
    "scenarios2 = load_json('data/onecommon/aaai_train_scenarios_2.json')"
   ]
  },
  {
   "cell_type": "code",
   "execution_count": 11,
   "metadata": {},
   "outputs": [
    {
     "data": {
      "text/plain": [
       "9000"
      ]
     },
     "execution_count": 11,
     "metadata": {},
     "output_type": "execute_result"
    }
   ],
   "source": [
    "len(scenarios1)"
   ]
  },
  {
   "cell_type": "code",
   "execution_count": 12,
   "metadata": {},
   "outputs": [
    {
     "data": {
      "text/plain": [
       "4500"
      ]
     },
     "execution_count": 12,
     "metadata": {},
     "output_type": "execute_result"
    }
   ],
   "source": [
    "len(scenarios2)"
   ]
  },
  {
   "cell_type": "code",
   "execution_count": 13,
   "metadata": {},
   "outputs": [
    {
     "data": {
      "text/plain": [
       "dict_keys(['kbs', 'shared', 'uuid'])"
      ]
     },
     "execution_count": 13,
     "metadata": {},
     "output_type": "execute_result"
    }
   ],
   "source": [
    "scenarios1[0].keys()"
   ]
  },
  {
   "cell_type": "code",
   "execution_count": 14,
   "metadata": {},
   "outputs": [],
   "source": [
    "train_scenarios = {\n",
    "    scenario['uuid']: scenario\n",
    "    for scenario in scenarios1\n",
    "}"
   ]
  },
  {
   "cell_type": "code",
   "execution_count": 15,
   "metadata": {},
   "outputs": [],
   "source": [
    "all_scenarios = {\n",
    "    scenario['uuid']: scenario\n",
    "    for scenario in scenarios1 + scenarios2\n",
    "}"
   ]
  },
  {
   "cell_type": "code",
   "execution_count": 16,
   "metadata": {},
   "outputs": [],
   "source": [
    "hit_count = 0\n",
    "miss_count = 0\n",
    "for scenario in scenarios2:\n",
    "    uuid = scenario['uuid']\n",
    "    if uuid in train_scenarios:\n",
    "        assert train_scenarios[uuid] == scenario\n",
    "        hit_count += 1\n",
    "    else:\n",
    "        miss_count += 1"
   ]
  },
  {
   "cell_type": "code",
   "execution_count": 17,
   "metadata": {},
   "outputs": [
    {
     "name": "stdout",
     "output_type": "stream",
     "text": [
      "hits: 0\n",
      "misses: 4500\n"
     ]
    }
   ],
   "source": [
    "print(\"hits: {}\".format(hit_count))\n",
    "print(\"misses: {}\".format(miss_count))"
   ]
  },
  {
   "cell_type": "code",
   "execution_count": 18,
   "metadata": {},
   "outputs": [
    {
     "name": "stderr",
     "output_type": "stream",
     "text": [
      "/home/dfried/miniconda3/envs/onecommon/lib/python3.6/site-packages/torch/serialization.py:657: SourceChangeWarning: source code of class 'models.rnn_reference_model.HierarchicalRnnReferenceModel' has changed. you can retrieve the original source code by accessing the object's source attribute or set `torch.nn.Module.dump_patches = True` and use the patch tool to revert the changes.\n",
      "  warnings.warn(msg, SourceChangeWarning)\n",
      "/home/dfried/miniconda3/envs/onecommon/lib/python3.6/site-packages/torch/serialization.py:657: SourceChangeWarning: source code of class 'models.ctx_encoder.RelationalAttentionContextEncoder3' has changed. you can retrieve the original source code by accessing the object's source attribute or set `torch.nn.Module.dump_patches = True` and use the patch tool to revert the changes.\n",
      "  warnings.warn(msg, SourceChangeWarning)\n",
      "/home/dfried/miniconda3/envs/onecommon/lib/python3.6/site-packages/torch/serialization.py:657: SourceChangeWarning: source code of class 'models.attention_layers.AttentionLayer' has changed. you can retrieve the original source code by accessing the object's source attribute or set `torch.nn.Module.dump_patches = True` and use the patch tool to revert the changes.\n",
      "  warnings.warn(msg, SourceChangeWarning)\n",
      "/home/dfried/miniconda3/envs/onecommon/lib/python3.6/site-packages/torch/serialization.py:657: SourceChangeWarning: source code of class 'models.attention_layers.StructuredTemporalAttentionLayer' has changed. you can retrieve the original source code by accessing the object's source attribute or set `torch.nn.Module.dump_patches = True` and use the patch tool to revert the changes.\n",
      "  warnings.warn(msg, SourceChangeWarning)\n",
      "/home/dfried/miniconda3/envs/onecommon/lib/python3.6/site-packages/torch/serialization.py:657: SourceChangeWarning: source code of class 'models.attention_layers.StructuredAttentionLayer' has changed. you can retrieve the original source code by accessing the object's source attribute or set `torch.nn.Module.dump_patches = True` and use the patch tool to revert the changes.\n",
      "  warnings.warn(msg, SourceChangeWarning)\n"
     ]
    }
   ],
   "source": [
    "models = {\n",
    "    name: utils.load_model(model_fname, map_location='cpu', prefix_dir=None)\n",
    "    for name, model_fname in model_fnames.items()\n",
    "}"
   ]
  },
  {
   "cell_type": "code",
   "execution_count": 19,
   "metadata": {},
   "outputs": [
    {
     "name": "stderr",
     "output_type": "stream",
     "text": [
      "/home/dfried/miniconda3/envs/onecommon/lib/python3.6/site-packages/torch/serialization.py:657: SourceChangeWarning: source code of class 'models.markable_detector.BiLSTM_CRF' has changed. you can retrieve the original source code by accessing the object's source attribute or set `torch.nn.Module.dump_patches = True` and use the patch tool to revert the changes.\n",
      "  warnings.warn(msg, SourceChangeWarning)\n"
     ]
    }
   ],
   "source": [
    "markable_detector = utils.load_model('serialized_models/markable_detector_1.th', map_location='cpu', prefix_dir=None)\n",
    "markable_detector.eval()\n",
    "# TODO: this will no longer be necessary with markable_detector_with_dict\n",
    "markable_corpus = markable_detector.corpus_ty('one_common', 'data/onecommon',\n",
    "                                     train='train_markable_1.txt', valid='valid_markable_1.txt', test='test_markable_1.txt')\n",
    "markable_detector.word_dict = markable_corpus.word_dict"
   ]
  },
  {
   "cell_type": "code",
   "execution_count": 20,
   "metadata": {},
   "outputs": [
    {
     "name": "stderr",
     "output_type": "stream",
     "text": [
      "100%|██████████████████████████████████████| 1038/1038 [00:01<00:00, 534.74it/s]\n"
     ]
    }
   ],
   "source": [
    "batchsize=1\n",
    "validset, validset_stats = corpus.valid_dataset(batchsize)"
   ]
  },
  {
   "cell_type": "code",
   "execution_count": 21,
   "metadata": {},
   "outputs": [
    {
     "data": {
      "text/plain": [
       "{'n': 74030,\n",
       " 'self_n': 37015,\n",
       " 'nonpadn': 69348,\n",
       " 'self_nonpadn': 34674,\n",
       " 'max_num_mentions': 9}"
      ]
     },
     "execution_count": 21,
     "metadata": {},
     "output_type": "execute_result"
    }
   ],
   "source": [
    "validset_stats"
   ]
  },
  {
   "cell_type": "code",
   "execution_count": 22,
   "metadata": {},
   "outputs": [],
   "source": [
    "import torch"
   ]
  },
  {
   "cell_type": "code",
   "execution_count": 23,
   "metadata": {},
   "outputs": [],
   "source": [
    "from agent import RnnAgent"
   ]
  },
  {
   "cell_type": "code",
   "execution_count": 24,
   "metadata": {},
   "outputs": [],
   "source": [
    "from selfplay import make_parser"
   ]
  },
  {
   "cell_type": "code",
   "execution_count": 25,
   "metadata": {},
   "outputs": [],
   "source": [
    "parser = make_parser()\n",
    "args = parser.parse_args('--temperature 0.25'.split())\n",
    "# args = parser.parse_args('--temperature 0.01'.split())"
   ]
  },
  {
   "cell_type": "code",
   "execution_count": 26,
   "metadata": {},
   "outputs": [],
   "source": [
    "def is_selection(out):\n",
    "    return '<selection>' in out"
   ]
  },
  {
   "cell_type": "code",
   "execution_count": 27,
   "metadata": {},
   "outputs": [],
   "source": [
    "# display"
   ]
  },
  {
   "cell_type": "code",
   "execution_count": 28,
   "metadata": {},
   "outputs": [],
   "source": [
    "from dialog import DialogLogger"
   ]
  },
  {
   "cell_type": "code",
   "execution_count": 29,
   "metadata": {},
   "outputs": [],
   "source": [
    "from IPython.display import SVG, display, HTML"
   ]
  },
  {
   "cell_type": "code",
   "execution_count": 30,
   "metadata": {},
   "outputs": [],
   "source": [
    "def display_svgs(svgs):\n",
    "    no_wrap_div = '<div style=\"white-space: nowrap\">' + ''.join(svgs) + '</div>'\n",
    "    display(HTML(no_wrap_div))"
   ]
  },
  {
   "cell_type": "code",
   "execution_count": 31,
   "metadata": {},
   "outputs": [],
   "source": [
    "SVG_SCALE=0.4"
   ]
  },
  {
   "cell_type": "code",
   "execution_count": 32,
   "metadata": {},
   "outputs": [],
   "source": [
    "def display_attn(scenario, attn, agent_id, name=None):\n",
    "    attn = attn.flatten().detach().numpy()\n",
    "    if name is not None:\n",
    "        print(\"{}: {}\".format(name, attn))\n",
    "    display_svgs([DialogLogger._scenario_to_svg(scenario, scale=SVG_SCALE)[agent_id], DialogLogger._attention_to_svg(scenario, agent_id, attn, scale=SVG_SCALE)])"
   ]
  },
  {
   "cell_type": "code",
   "execution_count": 33,
   "metadata": {},
   "outputs": [],
   "source": [
    "def display_attns(scenario, attns, agent_id, name=None):\n",
    "    svgs = [DialogLogger._scenario_to_svg(scenario, scale=SVG_SCALE)[agent_id]]\n",
    "#     if name is not None:\n",
    "#         print(\"{}: {}\".format(name, attn))\n",
    "    for attn in attns:\n",
    "        attn = attn.flatten().detach().numpy()\n",
    "        svgs.append(DialogLogger._attention_to_svg(scenario, agent_id, attn, scale=SVG_SCALE))\n",
    "    if name is not None:\n",
    "        print(name)\n",
    "    display_svgs(svgs)"
   ]
  },
  {
   "cell_type": "code",
   "execution_count": 34,
   "metadata": {},
   "outputs": [],
   "source": [
    "# training emulation"
   ]
  },
  {
   "cell_type": "code",
   "execution_count": 35,
   "metadata": {},
   "outputs": [
    {
     "name": "stderr",
     "output_type": "stream",
     "text": [
      "100%|██████████████████████████████████████| 8304/8304 [00:14<00:00, 582.65it/s]\n"
     ]
    }
   ],
   "source": [
    "trainset, trainset_stats = corpus.train_dataset(bsz=1)"
   ]
  },
  {
   "cell_type": "code",
   "execution_count": 36,
   "metadata": {},
   "outputs": [
    {
     "data": {
      "text/plain": [
       "False"
      ]
     },
     "execution_count": 36,
     "metadata": {},
     "output_type": "execute_result"
    }
   ],
   "source": [
    "trainset[0].scenario_ids[0] in train_scenarios"
   ]
  },
  {
   "cell_type": "code",
   "execution_count": 37,
   "metadata": {},
   "outputs": [],
   "source": [
    "# ctx: this player's dots\n",
    "# inpt / tgt: dialogue word indices (tgt are shifted by 1)\n",
    "# ref_inpt"
   ]
  },
  {
   "cell_type": "code",
   "execution_count": 38,
   "metadata": {},
   "outputs": [
    {
     "name": "stdout",
     "output_type": "stream",
     "text": [
      "found it\n"
     ]
    }
   ],
   "source": [
    "for ix in range(len(trainset)):\n",
    "#     ctx, inpts, tgts, ref_inpts, ref_tgts, sel_tgt, \\\n",
    "#     [scenario_id], real_ids, agents, chat_ids, sel_idxs, \\\n",
    "#     lens, rev_idxs, hid_idxs, all_num_markables = trainset[ix]\n",
    "    \n",
    "    ctx, inpts, tgts, ref_inpts, ref_tgts, sel_tgt, \\\n",
    "    [scenario_id], real_ids, partner_real_ids, agents, chat_ids, sel_idxs, \\\n",
    "    lens, rev_idxs, hid_idxs, num_markables, \\\n",
    "    is_self, partner_ref_inpts, partner_ref_tgts_our_view, all_partner_num_markables,\\\n",
    "    ref_disagreements, partner_ref_disagreements = trainset[ix]\n",
    "\n",
    "    if 'C_d0de3d0144df405e998ae718539ff9a4' in chat_ids:\n",
    "#     if scenario_id == 'S_UoujG1GG6KscmnbN':\n",
    "        print(\"found it\")\n",
    "        scenario = train_scenarios[scenario_id]\n",
    "        break"
   ]
  },
  {
   "cell_type": "code",
   "execution_count": 39,
   "metadata": {},
   "outputs": [
    {
     "data": {
      "text/plain": [
       "dict_keys(['basic', 'encoder-filtered-shared', 'encoder-filtered-separate', 'encoder-filtered-separate-diffs', 'dot-recurrence-no-beliefs', 'dot-recurrence-oracle-no-beliefs', 'dot-recurrence-nm-multi-no-beliefs'])"
      ]
     },
     "execution_count": 39,
     "metadata": {},
     "output_type": "execute_result"
    }
   ],
   "source": [
    "models.keys()"
   ]
  },
  {
   "cell_type": "code",
   "execution_count": 40,
   "metadata": {},
   "outputs": [],
   "source": [
    "# model = models['encoder-filtered-separate-diffs']\n",
    "# model = models['dot-recurrence']\n",
    "# model = models['dot-recurrence-no-beliefs']\n",
    "model = models['dot-recurrence-nm-multi-no-beliefs']"
   ]
  },
  {
   "cell_type": "code",
   "execution_count": 41,
   "metadata": {},
   "outputs": [],
   "source": [
    "from models.reference_predictor import ReferencePredictor"
   ]
  },
  {
   "cell_type": "code",
   "execution_count": 42,
   "metadata": {},
   "outputs": [],
   "source": [
    "from engines.beliefs import BeliefConstructor"
   ]
  },
  {
   "cell_type": "code",
   "execution_count": 43,
   "metadata": {},
   "outputs": [],
   "source": [
    "from engines.rnn_reference_engine import make_dots_mentioned_multi, make_dots_mentioned_per_ref_multi"
   ]
  },
  {
   "cell_type": "code",
   "execution_count": 44,
   "metadata": {},
   "outputs": [],
   "source": [
    "reference_predictor = ReferencePredictor(model.args)"
   ]
  },
  {
   "cell_type": "code",
   "execution_count": 45,
   "metadata": {},
   "outputs": [
    {
     "name": "stdout",
     "output_type": "stream",
     "text": [
      "Automatic pdb calling has been turned ON\n"
     ]
    }
   ],
   "source": [
    "pdb on"
   ]
  },
  {
   "cell_type": "code",
   "execution_count": 47,
   "metadata": {},
   "outputs": [],
   "source": [
    "display_mentions = model.args.next_mention_prediction_type == 'multi_reference'"
   ]
  },
  {
   "cell_type": "code",
   "execution_count": 48,
   "metadata": {},
   "outputs": [],
   "source": [
    "from models.markable_detector import detect_markables"
   ]
  },
  {
   "cell_type": "code",
   "execution_count": 66,
   "metadata": {
    "scrolled": false
   },
   "outputs": [],
   "source": [
    "def force_contexts_and_mentions(index, datasplit=validset, candidates=1,\n",
    "                                sample_temperature=0.25, argmax_temperature=0.005,\n",
    "                                force_num_markables=False,\n",
    "                                inference='beam'):\n",
    "    ctx, inpts, tgts, ref_inpts, ref_tgts, sel_tgt, \\\n",
    "    [scenario_id], real_ids, partner_real_ids, agents, chat_ids, sel_idxs, \\\n",
    "    lens, rev_idxs, hid_idxs, num_markables, \\\n",
    "    is_self, partner_ref_inpts, partner_ref_tgts_our_view, partner_num_markables,\\\n",
    "    ref_disagreements, partner_ref_disagreements = datasplit[index]\n",
    "    \n",
    "    bsz = ctx.size(0)\n",
    "    num_dots = 7\n",
    "    \n",
    "    # assume we've been training for a while, so that the beliefs are out of the warmup period (e.g. for models that switch from true->predicted)\n",
    "    epoch = 1000\n",
    "    \n",
    "    dots_mentioned = make_dots_mentioned_multi(ref_tgts, model.args, bsz, num_dots)\n",
    "    dots_mentioned_per_ref = make_dots_mentioned_per_ref_multi(ref_tgts, model.args, bsz, num_dots)\n",
    "\n",
    "    partner_dots_mentioned_our_view = make_dots_mentioned_multi(\n",
    "        partner_ref_tgts_our_view, model.args, bsz, num_dots\n",
    "    )\n",
    "    partner_dots_mentioned_our_view_per_ref = make_dots_mentioned_per_ref_multi(\n",
    "        partner_ref_tgts_our_view, model.args, bsz, num_dots\n",
    "    )\n",
    "    \n",
    "    belief_constructor = BeliefConstructor(\n",
    "        model.args, epoch, bsz, num_dots, inpts, ref_tgts, partner_ref_tgts_our_view,\n",
    "        real_ids, partner_real_ids, sel_tgt, is_self,\n",
    "        partner_dots_mentioned_our_view, partner_dots_mentioned_our_view_per_ref,\n",
    "        dots_mentioned, dots_mentioned_per_ref,\n",
    "        ref_inpts, partner_ref_inpts,\n",
    "        num_markables, partner_num_markables,\n",
    "    )\n",
    "    \n",
    "    scenario = all_scenarios[scenario_id]\n",
    "    agent = RnnAgent(model, args)\n",
    "    agent.feed_context(ctx.flatten(),\n",
    "                       belief_constructor,\n",
    "                       num_markables_to_force=num_markables[0] if force_num_markables else None)\n",
    "    agent.real_ids = real_ids\n",
    "    agent.agent_id = agents[0]\n",
    "\n",
    "    conv = []\n",
    "    speaker = []\n",
    "    words_left = 5000\n",
    "\n",
    "    sentence_ix = 0\n",
    "\n",
    "    assert len(inpts) == len(tgts)\n",
    "\n",
    "    while sentence_ix < len(inpts):\n",
    "        words_og = [corpus.word_dict.idx2word[ix] for ix in inpts[sentence_ix].flatten().numpy()]\n",
    "        \n",
    "        if ref_inpts[sentence_ix] is not None:\n",
    "            dots_mentioned = (ref_tgts[sentence_ix].sum(dim=1) > 0)\n",
    "            dots_mentioned_per_ref = ref_tgts[sentence_ix]\n",
    "            this_num_markables = num_markables[sentence_ix]\n",
    "    #         display_attn(scenario, dots_mentioned.float(), agent.agent_id, name='dots_mentioned')\n",
    "            mentions = [dots_mentioned_per_ref[:,mention_ix].float()  for mention_ix in range(dots_mentioned_per_ref.size(1))]\n",
    "            nm_out, _, nm_num_markables = agent.next_mention_outs[-1]\n",
    "#             print('nm_num_markables: {}'.format(nm_num_markables))\n",
    "#             print('num_markables: {}'.format(this_num_markables))\n",
    "            if display_mentions and nm_out is not None:\n",
    "#                 print(nm_out[0].size())\n",
    "#                 dummy_targets = torch.zeros_like(nm_out[0].size())\n",
    "                dummy_targets = torch.zeros((1, nm_num_markables[0].item(), 7)).long()\n",
    "                _, nm_preds, _ = reference_predictor.forward(\n",
    "                    True, dummy_targets, nm_out, nm_num_markables\n",
    "                )\n",
    "#                 print(nm_preds.size())\n",
    "                display_attns(scenario, nm_preds.squeeze(1).float(), agent.agent_id, \"to_mention_pred\")\n",
    "            else:\n",
    "                print(\"empty to_mention_pred\")\n",
    "            display_attns(scenario, mentions, agent.agent_id, \"to_mention_true\")\n",
    "#             for mention_ix in range(dots_mentioned_per_ref.size(1)):\n",
    "#                 display_attn(scenario, dots_mentioned_per_ref[:,mention_ix].float(), agent.agent_id, name=f'dots_mentioned_{mention_ix}')\n",
    "        else:\n",
    "            dots_mentioned = torch.zeros(1, 7).bool()\n",
    "            dots_mentioned_per_ref = torch.zeros(1, 0, 7).bool()\n",
    "            this_num_markables = torch.LongTensor([0])\n",
    "\n",
    "        if is_self[sentence_ix]:\n",
    "            if inference == 'sample':\n",
    "                for sample_ix in range(candidates):\n",
    "                    pred_outs, _, _, _, extra = agent.model.write(\n",
    "                        agent.state, \n",
    "                        words_left, sample_temperature,\n",
    "                        dots_mentioned=dots_mentioned,\n",
    "                        dots_mentioned_per_ref=dots_mentioned_per_ref,\n",
    "                        num_markables=this_num_markables\n",
    "                    )\n",
    "                    print('sample {}\\t{}'.format(sample_ix, ' '.join(agent._decode(pred_outs, agent.model.word_dict))))\n",
    "            elif inference in ['beam', 'gumbel_beam']:\n",
    "                _, _, decoded = agent.model.write_beam(\n",
    "                    agent.state, candidates, words_left, \n",
    "                    dots_mentioned=dots_mentioned,\n",
    "                    dots_mentioned_per_ref=dots_mentioned_per_ref,\n",
    "                    num_markables=this_num_markables,\n",
    "                    temperature=sample_temperature if inference=='gumbel_beam' else 1.0,\n",
    "                    gumbel_noise=inference=='gumbel_beam',\n",
    "                )\n",
    "                for cand_ix, utt in enumerate(decoded):\n",
    "                    print('beam {}\\t{}'.format(cand_ix, ' '.join(utt)))\n",
    "            else:\n",
    "                raise NotImplementedError(inference)\n",
    "            pred_outs, _, _, _, extra = agent.model.write(\n",
    "                agent.state, \n",
    "                words_left, argmax_temperature,\n",
    "                dots_mentioned=dots_mentioned,\n",
    "                dots_mentioned_per_ref=dots_mentioned_per_ref,\n",
    "                num_markables=this_num_markables\n",
    "            )\n",
    "            print('greedy\\t{}'.format(' '.join(agent._decode(pred_outs, agent.model.word_dict))))\n",
    "    #         print(' '.join(words_og))\n",
    "\n",
    "            out = agent.write(\n",
    "                max_words=words_left,\n",
    "                force_words=[words_og],\n",
    "                start_token=words_og[0],\n",
    "                dots_mentioned=dots_mentioned,\n",
    "                dots_mentioned_per_ref=dots_mentioned_per_ref,\n",
    "                num_markables=this_num_markables,\n",
    "                ref_inpt=ref_inpts[sentence_ix],\n",
    "            )\n",
    "        \n",
    "        else:\n",
    "            out = words_og\n",
    "            agent.read(words_og,\n",
    "                        dots_mentioned=dots_mentioned,\n",
    "                        dots_mentioned_per_ref=dots_mentioned_per_ref,\n",
    "                        num_markables=this_num_markables,\n",
    "                        partner_ref_inpt=partner_ref_inpts[sentence_ix],\n",
    "                        partner_num_markables=partner_num_markables[sentence_ix],\n",
    "                        next_num_markables_to_force=num_markables[sentence_ix + 1] if (force_num_markables and sentence_ix < len(num_markables) - 1) else None,\n",
    "                       )\n",
    "        \n",
    "#         agent.update_dot_h(ref_inpts[sentence_ix], partner_ref_inpts[sentence_ix],\n",
    "#                             num_markables[sentence_ix], partner_num_markables[sentence_ix])\n",
    "            \n",
    "\n",
    "        print('human\\t{}'.format(' '.join(out)))\n",
    "    \n",
    "        if is_self[sentence_ix]:\n",
    "            if ref_inpts[sentence_ix] is not None:\n",
    "                _, ref_preds, ref_stats = reference_predictor.forward(\n",
    "                    ref_inpts[sentence_ix], ref_tgts[sentence_ix], agent.ref_outs[-1], this_num_markables\n",
    "                )\n",
    "#                 print(\"ref_preds size:\", ref_preds.size())\n",
    "                display_attns(scenario, ref_preds.squeeze(1).float(), agent.agent_id, \"refs_pred\")\n",
    "                display_attns(scenario, ref_tgts[sentence_ix].squeeze(0).float(), agent.agent_id, \"refs_true\")\n",
    "#                 print(ref_stats)\n",
    "            if out[0] != 'YOU':\n",
    "                utt = ['YOU:'] + out\n",
    "            else:\n",
    "                utt = out\n",
    "        else:\n",
    "            if partner_ref_inpts[sentence_ix] is not None:\n",
    "                _, partner_ref_preds, partner_ref_stats = reference_predictor.forward(\n",
    "                    partner_ref_inpts[sentence_ix], partner_ref_tgts_our_view[sentence_ix],\n",
    "                    agent.partner_ref_outs[-1], partner_num_markables[sentence_ix]\n",
    "                )\n",
    "    #             print(partner_ref_preds)\n",
    "                display_attns(scenario, partner_ref_preds.squeeze(1).float(), agent.agent_id, \"partner_refs_pred\")\n",
    "                display_attns(scenario, partner_ref_tgts_our_view[sentence_ix].squeeze(0).float(), agent.agent_id, \"partner_refs_true\")\n",
    "#                 print(partner_ref_stats)\n",
    "            if out[0] == 'THEM:':\n",
    "                utt = ['YOU:'] + out[1:]\n",
    "            else:\n",
    "                utt = ['YOU:'] + out\n",
    "    \n",
    "        print('utt: {}'.format(' '.join(utt[1:])))\n",
    "        print('detected markables:')\n",
    "        markables = detect_markables(markable_detector, utt)\n",
    "        for markable in markables:\n",
    "            print(markable)\n",
    "        \n",
    "        print()\n",
    "        print('-'*40)\n",
    "        print()\n",
    "        words_left -= len(out)\n",
    "        conv.append(out)\n",
    "\n",
    "        if is_selection(out):\n",
    "            # sel_outs should be length 1\n",
    "            selection_logits, _, _ = agent.sel_outs[-1]\n",
    "            display_attns(scenario, selection_logits.sigmoid().float(), agent.agent_id, \"sel_pred\")\n",
    "            sel_true = torch.zeros(1,7)\n",
    "            sel_true[0,sel_tgt] = 1\n",
    "            display_attns(scenario, sel_true, agent.agent_id, \"sel_true\")\n",
    "        sentence_ix += 1"
   ]
  },
  {
   "cell_type": "code",
   "execution_count": 50,
   "metadata": {},
   "outputs": [
    {
     "name": "stdout",
     "output_type": "stream",
     "text": [
      "Automatic pdb calling has been turned OFF\n"
     ]
    }
   ],
   "source": [
    "pdb off"
   ]
  },
  {
   "cell_type": "code",
   "execution_count": 67,
   "metadata": {
    "scrolled": false
   },
   "outputs": [
    {
     "name": "stdout",
     "output_type": "stream",
     "text": [
      "human\tTHEM: line of 5 dots dark medium at top , large grey below smaller grey under that . small dark under that . medium grey at bottom <eos>\n",
      "partner_refs_pred\n"
     ]
    },
    {
     "data": {
      "text/html": [
       "<div style=\"white-space: nowrap\"><svg viewbox='0 0 430 430' width=\"172\" height=\"172\" id=\"agent_1\"><circle cx=\"215\" cy=\"215\" r=\"205\" fill=\"none\" stroke=\"black\" stroke-width=\"2\" stroke-dasharray=\"3,3\"/><circle cx=\"231\" cy=\"214\" r=\"7\" fill=\"rgb(80,80,80)\"/><circle cx=\"273\" cy=\"333\" r=\"13\" fill=\"rgb(189,189,189)\"/><circle cx=\"204\" cy=\"104\" r=\"12\" fill=\"rgb(132,132,132)\"/><circle cx=\"203\" cy=\"171\" r=\"9\" fill=\"rgb(134,134,134)\"/><circle cx=\"309\" cy=\"137\" r=\"10\" fill=\"rgb(151,151,151)\"/><circle cx=\"220\" cy=\"256\" r=\"8\" fill=\"rgb(101,101,101)\"/><circle cx=\"222\" cy=\"70\" r=\"10\" fill=\"rgb(82,82,82)\"/></svg><svg viewBox='0 0 430 430' id=\"svg\" width=\"172\" height=\"172\"><circle cx=\"215\" cy=\"215\" r=\"205\" fill=\"none\" stroke=\"black\" stroke-width=\"2\" stroke-dasharray=\"3,3\"/> <circle cx=\"231\" cy=\"214\" r=\"7\" fill=\"rgb(255,0,0)\" class=\"agent_1_19\"/><circle cx=\"273\" cy=\"333\" r=\"13\" fill=\"rgb(255,255,255)\" class=\"agent_1_35\"/><circle cx=\"204\" cy=\"104\" r=\"12\" fill=\"rgb(255,0,0)\" class=\"agent_1_40\"/><circle cx=\"203\" cy=\"171\" r=\"9\" fill=\"rgb(255,0,0)\" class=\"agent_1_53\"/><circle cx=\"309\" cy=\"137\" r=\"10\" fill=\"rgb(255,255,255)\" class=\"agent_1_58\"/><circle cx=\"220\" cy=\"256\" r=\"8\" fill=\"rgb(255,0,0)\" class=\"agent_1_78\"/><circle cx=\"222\" cy=\"70\" r=\"10\" fill=\"rgb(255,0,0)\" class=\"agent_1_79\"/></svg><svg viewBox='0 0 430 430' id=\"svg\" width=\"172\" height=\"172\"><circle cx=\"215\" cy=\"215\" r=\"205\" fill=\"none\" stroke=\"black\" stroke-width=\"2\" stroke-dasharray=\"3,3\"/> <circle cx=\"231\" cy=\"214\" r=\"7\" fill=\"rgb(255,255,255)\" class=\"agent_1_19\"/><circle cx=\"273\" cy=\"333\" r=\"13\" fill=\"rgb(255,255,255)\" class=\"agent_1_35\"/><circle cx=\"204\" cy=\"104\" r=\"12\" fill=\"rgb(255,0,0)\" class=\"agent_1_40\"/><circle cx=\"203\" cy=\"171\" r=\"9\" fill=\"rgb(255,255,255)\" class=\"agent_1_53\"/><circle cx=\"309\" cy=\"137\" r=\"10\" fill=\"rgb(255,255,255)\" class=\"agent_1_58\"/><circle cx=\"220\" cy=\"256\" r=\"8\" fill=\"rgb(255,255,255)\" class=\"agent_1_78\"/><circle cx=\"222\" cy=\"70\" r=\"10\" fill=\"rgb(255,255,255)\" class=\"agent_1_79\"/></svg><svg viewBox='0 0 430 430' id=\"svg\" width=\"172\" height=\"172\"><circle cx=\"215\" cy=\"215\" r=\"205\" fill=\"none\" stroke=\"black\" stroke-width=\"2\" stroke-dasharray=\"3,3\"/> <circle cx=\"231\" cy=\"214\" r=\"7\" fill=\"rgb(255,255,255)\" class=\"agent_1_19\"/><circle cx=\"273\" cy=\"333\" r=\"13\" fill=\"rgb(255,255,255)\" class=\"agent_1_35\"/><circle cx=\"204\" cy=\"104\" r=\"12\" fill=\"rgb(255,255,255)\" class=\"agent_1_40\"/><circle cx=\"203\" cy=\"171\" r=\"9\" fill=\"rgb(255,0,0)\" class=\"agent_1_53\"/><circle cx=\"309\" cy=\"137\" r=\"10\" fill=\"rgb(255,255,255)\" class=\"agent_1_58\"/><circle cx=\"220\" cy=\"256\" r=\"8\" fill=\"rgb(255,255,255)\" class=\"agent_1_78\"/><circle cx=\"222\" cy=\"70\" r=\"10\" fill=\"rgb(255,255,255)\" class=\"agent_1_79\"/></svg><svg viewBox='0 0 430 430' id=\"svg\" width=\"172\" height=\"172\"><circle cx=\"215\" cy=\"215\" r=\"205\" fill=\"none\" stroke=\"black\" stroke-width=\"2\" stroke-dasharray=\"3,3\"/> <circle cx=\"231\" cy=\"214\" r=\"7\" fill=\"rgb(255,255,255)\" class=\"agent_1_19\"/><circle cx=\"273\" cy=\"333\" r=\"13\" fill=\"rgb(255,255,255)\" class=\"agent_1_35\"/><circle cx=\"204\" cy=\"104\" r=\"12\" fill=\"rgb(255,255,255)\" class=\"agent_1_40\"/><circle cx=\"203\" cy=\"171\" r=\"9\" fill=\"rgb(255,0,0)\" class=\"agent_1_53\"/><circle cx=\"309\" cy=\"137\" r=\"10\" fill=\"rgb(255,255,255)\" class=\"agent_1_58\"/><circle cx=\"220\" cy=\"256\" r=\"8\" fill=\"rgb(255,255,255)\" class=\"agent_1_78\"/><circle cx=\"222\" cy=\"70\" r=\"10\" fill=\"rgb(255,255,255)\" class=\"agent_1_79\"/></svg><svg viewBox='0 0 430 430' id=\"svg\" width=\"172\" height=\"172\"><circle cx=\"215\" cy=\"215\" r=\"205\" fill=\"none\" stroke=\"black\" stroke-width=\"2\" stroke-dasharray=\"3,3\"/> <circle cx=\"231\" cy=\"214\" r=\"7\" fill=\"rgb(255,0,0)\" class=\"agent_1_19\"/><circle cx=\"273\" cy=\"333\" r=\"13\" fill=\"rgb(255,255,255)\" class=\"agent_1_35\"/><circle cx=\"204\" cy=\"104\" r=\"12\" fill=\"rgb(255,255,255)\" class=\"agent_1_40\"/><circle cx=\"203\" cy=\"171\" r=\"9\" fill=\"rgb(255,255,255)\" class=\"agent_1_53\"/><circle cx=\"309\" cy=\"137\" r=\"10\" fill=\"rgb(255,255,255)\" class=\"agent_1_58\"/><circle cx=\"220\" cy=\"256\" r=\"8\" fill=\"rgb(255,255,255)\" class=\"agent_1_78\"/><circle cx=\"222\" cy=\"70\" r=\"10\" fill=\"rgb(255,255,255)\" class=\"agent_1_79\"/></svg><svg viewBox='0 0 430 430' id=\"svg\" width=\"172\" height=\"172\"><circle cx=\"215\" cy=\"215\" r=\"205\" fill=\"none\" stroke=\"black\" stroke-width=\"2\" stroke-dasharray=\"3,3\"/> <circle cx=\"231\" cy=\"214\" r=\"7\" fill=\"rgb(255,255,255)\" class=\"agent_1_19\"/><circle cx=\"273\" cy=\"333\" r=\"13\" fill=\"rgb(255,255,255)\" class=\"agent_1_35\"/><circle cx=\"204\" cy=\"104\" r=\"12\" fill=\"rgb(255,255,255)\" class=\"agent_1_40\"/><circle cx=\"203\" cy=\"171\" r=\"9\" fill=\"rgb(255,255,255)\" class=\"agent_1_53\"/><circle cx=\"309\" cy=\"137\" r=\"10\" fill=\"rgb(255,255,255)\" class=\"agent_1_58\"/><circle cx=\"220\" cy=\"256\" r=\"8\" fill=\"rgb(255,0,0)\" class=\"agent_1_78\"/><circle cx=\"222\" cy=\"70\" r=\"10\" fill=\"rgb(255,255,255)\" class=\"agent_1_79\"/></svg><svg viewBox='0 0 430 430' id=\"svg\" width=\"172\" height=\"172\"><circle cx=\"215\" cy=\"215\" r=\"205\" fill=\"none\" stroke=\"black\" stroke-width=\"2\" stroke-dasharray=\"3,3\"/> <circle cx=\"231\" cy=\"214\" r=\"7\" fill=\"rgb(255,255,255)\" class=\"agent_1_19\"/><circle cx=\"273\" cy=\"333\" r=\"13\" fill=\"rgb(255,255,255)\" class=\"agent_1_35\"/><circle cx=\"204\" cy=\"104\" r=\"12\" fill=\"rgb(255,255,255)\" class=\"agent_1_40\"/><circle cx=\"203\" cy=\"171\" r=\"9\" fill=\"rgb(255,255,255)\" class=\"agent_1_53\"/><circle cx=\"309\" cy=\"137\" r=\"10\" fill=\"rgb(255,0,0)\" class=\"agent_1_58\"/><circle cx=\"220\" cy=\"256\" r=\"8\" fill=\"rgb(255,255,255)\" class=\"agent_1_78\"/><circle cx=\"222\" cy=\"70\" r=\"10\" fill=\"rgb(255,255,255)\" class=\"agent_1_79\"/></svg></div>"
      ],
      "text/plain": [
       "<IPython.core.display.HTML object>"
      ]
     },
     "metadata": {},
     "output_type": "display_data"
    },
    {
     "name": "stdout",
     "output_type": "stream",
     "text": [
      "partner_refs_true\n"
     ]
    },
    {
     "data": {
      "text/html": [
       "<div style=\"white-space: nowrap\"><svg viewbox='0 0 430 430' width=\"172\" height=\"172\" id=\"agent_1\"><circle cx=\"215\" cy=\"215\" r=\"205\" fill=\"none\" stroke=\"black\" stroke-width=\"2\" stroke-dasharray=\"3,3\"/><circle cx=\"231\" cy=\"214\" r=\"7\" fill=\"rgb(80,80,80)\"/><circle cx=\"273\" cy=\"333\" r=\"13\" fill=\"rgb(189,189,189)\"/><circle cx=\"204\" cy=\"104\" r=\"12\" fill=\"rgb(132,132,132)\"/><circle cx=\"203\" cy=\"171\" r=\"9\" fill=\"rgb(134,134,134)\"/><circle cx=\"309\" cy=\"137\" r=\"10\" fill=\"rgb(151,151,151)\"/><circle cx=\"220\" cy=\"256\" r=\"8\" fill=\"rgb(101,101,101)\"/><circle cx=\"222\" cy=\"70\" r=\"10\" fill=\"rgb(82,82,82)\"/></svg><svg viewBox='0 0 430 430' id=\"svg\" width=\"172\" height=\"172\"><circle cx=\"215\" cy=\"215\" r=\"205\" fill=\"none\" stroke=\"black\" stroke-width=\"2\" stroke-dasharray=\"3,3\"/> <circle cx=\"231\" cy=\"214\" r=\"7\" fill=\"rgb(255,0,0)\" class=\"agent_1_19\"/><circle cx=\"273\" cy=\"333\" r=\"13\" fill=\"rgb(255,255,255)\" class=\"agent_1_35\"/><circle cx=\"204\" cy=\"104\" r=\"12\" fill=\"rgb(255,0,0)\" class=\"agent_1_40\"/><circle cx=\"203\" cy=\"171\" r=\"9\" fill=\"rgb(255,0,0)\" class=\"agent_1_53\"/><circle cx=\"309\" cy=\"137\" r=\"10\" fill=\"rgb(255,255,255)\" class=\"agent_1_58\"/><circle cx=\"220\" cy=\"256\" r=\"8\" fill=\"rgb(255,0,0)\" class=\"agent_1_78\"/><circle cx=\"222\" cy=\"70\" r=\"10\" fill=\"rgb(255,0,0)\" class=\"agent_1_79\"/></svg><svg viewBox='0 0 430 430' id=\"svg\" width=\"172\" height=\"172\"><circle cx=\"215\" cy=\"215\" r=\"205\" fill=\"none\" stroke=\"black\" stroke-width=\"2\" stroke-dasharray=\"3,3\"/> <circle cx=\"231\" cy=\"214\" r=\"7\" fill=\"rgb(255,255,255)\" class=\"agent_1_19\"/><circle cx=\"273\" cy=\"333\" r=\"13\" fill=\"rgb(255,255,255)\" class=\"agent_1_35\"/><circle cx=\"204\" cy=\"104\" r=\"12\" fill=\"rgb(255,0,0)\" class=\"agent_1_40\"/><circle cx=\"203\" cy=\"171\" r=\"9\" fill=\"rgb(255,255,255)\" class=\"agent_1_53\"/><circle cx=\"309\" cy=\"137\" r=\"10\" fill=\"rgb(255,255,255)\" class=\"agent_1_58\"/><circle cx=\"220\" cy=\"256\" r=\"8\" fill=\"rgb(255,255,255)\" class=\"agent_1_78\"/><circle cx=\"222\" cy=\"70\" r=\"10\" fill=\"rgb(255,255,255)\" class=\"agent_1_79\"/></svg><svg viewBox='0 0 430 430' id=\"svg\" width=\"172\" height=\"172\"><circle cx=\"215\" cy=\"215\" r=\"205\" fill=\"none\" stroke=\"black\" stroke-width=\"2\" stroke-dasharray=\"3,3\"/> <circle cx=\"231\" cy=\"214\" r=\"7\" fill=\"rgb(255,255,255)\" class=\"agent_1_19\"/><circle cx=\"273\" cy=\"333\" r=\"13\" fill=\"rgb(255,255,255)\" class=\"agent_1_35\"/><circle cx=\"204\" cy=\"104\" r=\"12\" fill=\"rgb(255,255,255)\" class=\"agent_1_40\"/><circle cx=\"203\" cy=\"171\" r=\"9\" fill=\"rgb(255,0,0)\" class=\"agent_1_53\"/><circle cx=\"309\" cy=\"137\" r=\"10\" fill=\"rgb(255,255,255)\" class=\"agent_1_58\"/><circle cx=\"220\" cy=\"256\" r=\"8\" fill=\"rgb(255,255,255)\" class=\"agent_1_78\"/><circle cx=\"222\" cy=\"70\" r=\"10\" fill=\"rgb(255,255,255)\" class=\"agent_1_79\"/></svg><svg viewBox='0 0 430 430' id=\"svg\" width=\"172\" height=\"172\"><circle cx=\"215\" cy=\"215\" r=\"205\" fill=\"none\" stroke=\"black\" stroke-width=\"2\" stroke-dasharray=\"3,3\"/> <circle cx=\"231\" cy=\"214\" r=\"7\" fill=\"rgb(255,255,255)\" class=\"agent_1_19\"/><circle cx=\"273\" cy=\"333\" r=\"13\" fill=\"rgb(255,255,255)\" class=\"agent_1_35\"/><circle cx=\"204\" cy=\"104\" r=\"12\" fill=\"rgb(255,0,0)\" class=\"agent_1_40\"/><circle cx=\"203\" cy=\"171\" r=\"9\" fill=\"rgb(255,255,255)\" class=\"agent_1_53\"/><circle cx=\"309\" cy=\"137\" r=\"10\" fill=\"rgb(255,255,255)\" class=\"agent_1_58\"/><circle cx=\"220\" cy=\"256\" r=\"8\" fill=\"rgb(255,255,255)\" class=\"agent_1_78\"/><circle cx=\"222\" cy=\"70\" r=\"10\" fill=\"rgb(255,255,255)\" class=\"agent_1_79\"/></svg><svg viewBox='0 0 430 430' id=\"svg\" width=\"172\" height=\"172\"><circle cx=\"215\" cy=\"215\" r=\"205\" fill=\"none\" stroke=\"black\" stroke-width=\"2\" stroke-dasharray=\"3,3\"/> <circle cx=\"231\" cy=\"214\" r=\"7\" fill=\"rgb(255,0,0)\" class=\"agent_1_19\"/><circle cx=\"273\" cy=\"333\" r=\"13\" fill=\"rgb(255,255,255)\" class=\"agent_1_35\"/><circle cx=\"204\" cy=\"104\" r=\"12\" fill=\"rgb(255,255,255)\" class=\"agent_1_40\"/><circle cx=\"203\" cy=\"171\" r=\"9\" fill=\"rgb(255,255,255)\" class=\"agent_1_53\"/><circle cx=\"309\" cy=\"137\" r=\"10\" fill=\"rgb(255,255,255)\" class=\"agent_1_58\"/><circle cx=\"220\" cy=\"256\" r=\"8\" fill=\"rgb(255,255,255)\" class=\"agent_1_78\"/><circle cx=\"222\" cy=\"70\" r=\"10\" fill=\"rgb(255,255,255)\" class=\"agent_1_79\"/></svg><svg viewBox='0 0 430 430' id=\"svg\" width=\"172\" height=\"172\"><circle cx=\"215\" cy=\"215\" r=\"205\" fill=\"none\" stroke=\"black\" stroke-width=\"2\" stroke-dasharray=\"3,3\"/> <circle cx=\"231\" cy=\"214\" r=\"7\" fill=\"rgb(255,255,255)\" class=\"agent_1_19\"/><circle cx=\"273\" cy=\"333\" r=\"13\" fill=\"rgb(255,255,255)\" class=\"agent_1_35\"/><circle cx=\"204\" cy=\"104\" r=\"12\" fill=\"rgb(255,255,255)\" class=\"agent_1_40\"/><circle cx=\"203\" cy=\"171\" r=\"9\" fill=\"rgb(255,0,0)\" class=\"agent_1_53\"/><circle cx=\"309\" cy=\"137\" r=\"10\" fill=\"rgb(255,255,255)\" class=\"agent_1_58\"/><circle cx=\"220\" cy=\"256\" r=\"8\" fill=\"rgb(255,255,255)\" class=\"agent_1_78\"/><circle cx=\"222\" cy=\"70\" r=\"10\" fill=\"rgb(255,255,255)\" class=\"agent_1_79\"/></svg><svg viewBox='0 0 430 430' id=\"svg\" width=\"172\" height=\"172\"><circle cx=\"215\" cy=\"215\" r=\"205\" fill=\"none\" stroke=\"black\" stroke-width=\"2\" stroke-dasharray=\"3,3\"/> <circle cx=\"231\" cy=\"214\" r=\"7\" fill=\"rgb(255,255,255)\" class=\"agent_1_19\"/><circle cx=\"273\" cy=\"333\" r=\"13\" fill=\"rgb(255,255,255)\" class=\"agent_1_35\"/><circle cx=\"204\" cy=\"104\" r=\"12\" fill=\"rgb(255,255,255)\" class=\"agent_1_40\"/><circle cx=\"203\" cy=\"171\" r=\"9\" fill=\"rgb(255,255,255)\" class=\"agent_1_53\"/><circle cx=\"309\" cy=\"137\" r=\"10\" fill=\"rgb(255,255,255)\" class=\"agent_1_58\"/><circle cx=\"220\" cy=\"256\" r=\"8\" fill=\"rgb(255,0,0)\" class=\"agent_1_78\"/><circle cx=\"222\" cy=\"70\" r=\"10\" fill=\"rgb(255,255,255)\" class=\"agent_1_79\"/></svg></div>"
      ],
      "text/plain": [
       "<IPython.core.display.HTML object>"
      ]
     },
     "metadata": {},
     "output_type": "display_data"
    },
    {
     "name": "stdout",
     "output_type": "stream",
     "text": [
      "utt: line of 5 dots dark medium at top , large grey below smaller grey under that . small dark under that . medium grey at bottom <eos>\n",
      "detected markables:\n",
      "({'start': 3, 'end': 17, 'is_self': True, 'text': 'line of 5 dots'}, (1, 4, 5))\n",
      "({'start': 18, 'end': 29, 'is_self': True, 'text': 'dark medium'}, (5, 6, 7))\n",
      "({'start': 39, 'end': 49, 'is_self': True, 'text': 'large grey'}, (10, 11, 12))\n",
      "({'start': 56, 'end': 68, 'is_self': True, 'text': 'smaller grey'}, (13, 14, 15))\n",
      "({'start': 75, 'end': 79, 'is_self': True, 'text': 'that'}, (16, 16, 17))\n",
      "({'start': 82, 'end': 92, 'is_self': True, 'text': 'small dark'}, (18, 19, 20))\n",
      "({'start': 99, 'end': 103, 'is_self': True, 'text': 'that'}, (21, 21, 22))\n",
      "({'start': 106, 'end': 117, 'is_self': True, 'text': 'medium grey'}, (23, 24, 25))\n",
      "\n",
      "----------------------------------------\n",
      "\n",
      "to_mention_pred\n"
     ]
    },
    {
     "data": {
      "text/html": [
       "<div style=\"white-space: nowrap\"><svg viewbox='0 0 430 430' width=\"172\" height=\"172\" id=\"agent_1\"><circle cx=\"215\" cy=\"215\" r=\"205\" fill=\"none\" stroke=\"black\" stroke-width=\"2\" stroke-dasharray=\"3,3\"/><circle cx=\"231\" cy=\"214\" r=\"7\" fill=\"rgb(80,80,80)\"/><circle cx=\"273\" cy=\"333\" r=\"13\" fill=\"rgb(189,189,189)\"/><circle cx=\"204\" cy=\"104\" r=\"12\" fill=\"rgb(132,132,132)\"/><circle cx=\"203\" cy=\"171\" r=\"9\" fill=\"rgb(134,134,134)\"/><circle cx=\"309\" cy=\"137\" r=\"10\" fill=\"rgb(151,151,151)\"/><circle cx=\"220\" cy=\"256\" r=\"8\" fill=\"rgb(101,101,101)\"/><circle cx=\"222\" cy=\"70\" r=\"10\" fill=\"rgb(82,82,82)\"/></svg><svg viewBox='0 0 430 430' id=\"svg\" width=\"172\" height=\"172\"><circle cx=\"215\" cy=\"215\" r=\"205\" fill=\"none\" stroke=\"black\" stroke-width=\"2\" stroke-dasharray=\"3,3\"/> <circle cx=\"231\" cy=\"214\" r=\"7\" fill=\"rgb(255,255,255)\" class=\"agent_1_19\"/><circle cx=\"273\" cy=\"333\" r=\"13\" fill=\"rgb(255,0,0)\" class=\"agent_1_35\"/><circle cx=\"204\" cy=\"104\" r=\"12\" fill=\"rgb(255,255,255)\" class=\"agent_1_40\"/><circle cx=\"203\" cy=\"171\" r=\"9\" fill=\"rgb(255,255,255)\" class=\"agent_1_53\"/><circle cx=\"309\" cy=\"137\" r=\"10\" fill=\"rgb(255,255,255)\" class=\"agent_1_58\"/><circle cx=\"220\" cy=\"256\" r=\"8\" fill=\"rgb(255,255,255)\" class=\"agent_1_78\"/><circle cx=\"222\" cy=\"70\" r=\"10\" fill=\"rgb(255,255,255)\" class=\"agent_1_79\"/></svg><svg viewBox='0 0 430 430' id=\"svg\" width=\"172\" height=\"172\"><circle cx=\"215\" cy=\"215\" r=\"205\" fill=\"none\" stroke=\"black\" stroke-width=\"2\" stroke-dasharray=\"3,3\"/> <circle cx=\"231\" cy=\"214\" r=\"7\" fill=\"rgb(255,255,255)\" class=\"agent_1_19\"/><circle cx=\"273\" cy=\"333\" r=\"13\" fill=\"rgb(255,0,0)\" class=\"agent_1_35\"/><circle cx=\"204\" cy=\"104\" r=\"12\" fill=\"rgb(255,255,255)\" class=\"agent_1_40\"/><circle cx=\"203\" cy=\"171\" r=\"9\" fill=\"rgb(255,255,255)\" class=\"agent_1_53\"/><circle cx=\"309\" cy=\"137\" r=\"10\" fill=\"rgb(255,255,255)\" class=\"agent_1_58\"/><circle cx=\"220\" cy=\"256\" r=\"8\" fill=\"rgb(255,255,255)\" class=\"agent_1_78\"/><circle cx=\"222\" cy=\"70\" r=\"10\" fill=\"rgb(255,255,255)\" class=\"agent_1_79\"/></svg><svg viewBox='0 0 430 430' id=\"svg\" width=\"172\" height=\"172\"><circle cx=\"215\" cy=\"215\" r=\"205\" fill=\"none\" stroke=\"black\" stroke-width=\"2\" stroke-dasharray=\"3,3\"/> <circle cx=\"231\" cy=\"214\" r=\"7\" fill=\"rgb(255,255,255)\" class=\"agent_1_19\"/><circle cx=\"273\" cy=\"333\" r=\"13\" fill=\"rgb(255,0,0)\" class=\"agent_1_35\"/><circle cx=\"204\" cy=\"104\" r=\"12\" fill=\"rgb(255,255,255)\" class=\"agent_1_40\"/><circle cx=\"203\" cy=\"171\" r=\"9\" fill=\"rgb(255,255,255)\" class=\"agent_1_53\"/><circle cx=\"309\" cy=\"137\" r=\"10\" fill=\"rgb(255,255,255)\" class=\"agent_1_58\"/><circle cx=\"220\" cy=\"256\" r=\"8\" fill=\"rgb(255,255,255)\" class=\"agent_1_78\"/><circle cx=\"222\" cy=\"70\" r=\"10\" fill=\"rgb(255,255,255)\" class=\"agent_1_79\"/></svg><svg viewBox='0 0 430 430' id=\"svg\" width=\"172\" height=\"172\"><circle cx=\"215\" cy=\"215\" r=\"205\" fill=\"none\" stroke=\"black\" stroke-width=\"2\" stroke-dasharray=\"3,3\"/> <circle cx=\"231\" cy=\"214\" r=\"7\" fill=\"rgb(255,255,255)\" class=\"agent_1_19\"/><circle cx=\"273\" cy=\"333\" r=\"13\" fill=\"rgb(255,0,0)\" class=\"agent_1_35\"/><circle cx=\"204\" cy=\"104\" r=\"12\" fill=\"rgb(255,255,255)\" class=\"agent_1_40\"/><circle cx=\"203\" cy=\"171\" r=\"9\" fill=\"rgb(255,255,255)\" class=\"agent_1_53\"/><circle cx=\"309\" cy=\"137\" r=\"10\" fill=\"rgb(255,255,255)\" class=\"agent_1_58\"/><circle cx=\"220\" cy=\"256\" r=\"8\" fill=\"rgb(255,255,255)\" class=\"agent_1_78\"/><circle cx=\"222\" cy=\"70\" r=\"10\" fill=\"rgb(255,255,255)\" class=\"agent_1_79\"/></svg></div>"
      ],
      "text/plain": [
       "<IPython.core.display.HTML object>"
      ]
     },
     "metadata": {},
     "output_type": "display_data"
    },
    {
     "name": "stdout",
     "output_type": "stream",
     "text": [
      "to_mention_true\n"
     ]
    },
    {
     "data": {
      "text/html": [
       "<div style=\"white-space: nowrap\"><svg viewbox='0 0 430 430' width=\"172\" height=\"172\" id=\"agent_1\"><circle cx=\"215\" cy=\"215\" r=\"205\" fill=\"none\" stroke=\"black\" stroke-width=\"2\" stroke-dasharray=\"3,3\"/><circle cx=\"231\" cy=\"214\" r=\"7\" fill=\"rgb(80,80,80)\"/><circle cx=\"273\" cy=\"333\" r=\"13\" fill=\"rgb(189,189,189)\"/><circle cx=\"204\" cy=\"104\" r=\"12\" fill=\"rgb(132,132,132)\"/><circle cx=\"203\" cy=\"171\" r=\"9\" fill=\"rgb(134,134,134)\"/><circle cx=\"309\" cy=\"137\" r=\"10\" fill=\"rgb(151,151,151)\"/><circle cx=\"220\" cy=\"256\" r=\"8\" fill=\"rgb(101,101,101)\"/><circle cx=\"222\" cy=\"70\" r=\"10\" fill=\"rgb(82,82,82)\"/></svg><svg viewBox='0 0 430 430' id=\"svg\" width=\"172\" height=\"172\"><circle cx=\"215\" cy=\"215\" r=\"205\" fill=\"none\" stroke=\"black\" stroke-width=\"2\" stroke-dasharray=\"3,3\"/> <circle cx=\"231\" cy=\"214\" r=\"7\" fill=\"rgb(255,0,0)\" class=\"agent_1_19\"/><circle cx=\"273\" cy=\"333\" r=\"13\" fill=\"rgb(255,255,255)\" class=\"agent_1_35\"/><circle cx=\"204\" cy=\"104\" r=\"12\" fill=\"rgb(255,255,255)\" class=\"agent_1_40\"/><circle cx=\"203\" cy=\"171\" r=\"9\" fill=\"rgb(255,255,255)\" class=\"agent_1_53\"/><circle cx=\"309\" cy=\"137\" r=\"10\" fill=\"rgb(255,255,255)\" class=\"agent_1_58\"/><circle cx=\"220\" cy=\"256\" r=\"8\" fill=\"rgb(255,255,255)\" class=\"agent_1_78\"/><circle cx=\"222\" cy=\"70\" r=\"10\" fill=\"rgb(255,255,255)\" class=\"agent_1_79\"/></svg><svg viewBox='0 0 430 430' id=\"svg\" width=\"172\" height=\"172\"><circle cx=\"215\" cy=\"215\" r=\"205\" fill=\"none\" stroke=\"black\" stroke-width=\"2\" stroke-dasharray=\"3,3\"/> <circle cx=\"231\" cy=\"214\" r=\"7\" fill=\"rgb(255,0,0)\" class=\"agent_1_19\"/><circle cx=\"273\" cy=\"333\" r=\"13\" fill=\"rgb(255,255,255)\" class=\"agent_1_35\"/><circle cx=\"204\" cy=\"104\" r=\"12\" fill=\"rgb(255,255,255)\" class=\"agent_1_40\"/><circle cx=\"203\" cy=\"171\" r=\"9\" fill=\"rgb(255,255,255)\" class=\"agent_1_53\"/><circle cx=\"309\" cy=\"137\" r=\"10\" fill=\"rgb(255,255,255)\" class=\"agent_1_58\"/><circle cx=\"220\" cy=\"256\" r=\"8\" fill=\"rgb(255,255,255)\" class=\"agent_1_78\"/><circle cx=\"222\" cy=\"70\" r=\"10\" fill=\"rgb(255,255,255)\" class=\"agent_1_79\"/></svg></div>"
      ],
      "text/plain": [
       "<IPython.core.display.HTML object>"
      ]
     },
     "metadata": {},
     "output_type": "display_data"
    },
    {
     "name": "stdout",
     "output_type": "stream",
     "text": [
      "beam 0\ti have that too . let 's pick the tiny one . <selection>\n",
      "greedy\ti have that too . let 's pick the tiny one . <selection>\n",
      "human\ti have a small black dot . click that one ? <eos>\n",
      "refs_pred\n"
     ]
    },
    {
     "data": {
      "text/html": [
       "<div style=\"white-space: nowrap\"><svg viewbox='0 0 430 430' width=\"172\" height=\"172\" id=\"agent_1\"><circle cx=\"215\" cy=\"215\" r=\"205\" fill=\"none\" stroke=\"black\" stroke-width=\"2\" stroke-dasharray=\"3,3\"/><circle cx=\"231\" cy=\"214\" r=\"7\" fill=\"rgb(80,80,80)\"/><circle cx=\"273\" cy=\"333\" r=\"13\" fill=\"rgb(189,189,189)\"/><circle cx=\"204\" cy=\"104\" r=\"12\" fill=\"rgb(132,132,132)\"/><circle cx=\"203\" cy=\"171\" r=\"9\" fill=\"rgb(134,134,134)\"/><circle cx=\"309\" cy=\"137\" r=\"10\" fill=\"rgb(151,151,151)\"/><circle cx=\"220\" cy=\"256\" r=\"8\" fill=\"rgb(101,101,101)\"/><circle cx=\"222\" cy=\"70\" r=\"10\" fill=\"rgb(82,82,82)\"/></svg><svg viewBox='0 0 430 430' id=\"svg\" width=\"172\" height=\"172\"><circle cx=\"215\" cy=\"215\" r=\"205\" fill=\"none\" stroke=\"black\" stroke-width=\"2\" stroke-dasharray=\"3,3\"/> <circle cx=\"231\" cy=\"214\" r=\"7\" fill=\"rgb(255,0,0)\" class=\"agent_1_19\"/><circle cx=\"273\" cy=\"333\" r=\"13\" fill=\"rgb(255,255,255)\" class=\"agent_1_35\"/><circle cx=\"204\" cy=\"104\" r=\"12\" fill=\"rgb(255,255,255)\" class=\"agent_1_40\"/><circle cx=\"203\" cy=\"171\" r=\"9\" fill=\"rgb(255,255,255)\" class=\"agent_1_53\"/><circle cx=\"309\" cy=\"137\" r=\"10\" fill=\"rgb(255,255,255)\" class=\"agent_1_58\"/><circle cx=\"220\" cy=\"256\" r=\"8\" fill=\"rgb(255,255,255)\" class=\"agent_1_78\"/><circle cx=\"222\" cy=\"70\" r=\"10\" fill=\"rgb(255,255,255)\" class=\"agent_1_79\"/></svg><svg viewBox='0 0 430 430' id=\"svg\" width=\"172\" height=\"172\"><circle cx=\"215\" cy=\"215\" r=\"205\" fill=\"none\" stroke=\"black\" stroke-width=\"2\" stroke-dasharray=\"3,3\"/> <circle cx=\"231\" cy=\"214\" r=\"7\" fill=\"rgb(255,0,0)\" class=\"agent_1_19\"/><circle cx=\"273\" cy=\"333\" r=\"13\" fill=\"rgb(255,255,255)\" class=\"agent_1_35\"/><circle cx=\"204\" cy=\"104\" r=\"12\" fill=\"rgb(255,255,255)\" class=\"agent_1_40\"/><circle cx=\"203\" cy=\"171\" r=\"9\" fill=\"rgb(255,255,255)\" class=\"agent_1_53\"/><circle cx=\"309\" cy=\"137\" r=\"10\" fill=\"rgb(255,255,255)\" class=\"agent_1_58\"/><circle cx=\"220\" cy=\"256\" r=\"8\" fill=\"rgb(255,255,255)\" class=\"agent_1_78\"/><circle cx=\"222\" cy=\"70\" r=\"10\" fill=\"rgb(255,255,255)\" class=\"agent_1_79\"/></svg></div>"
      ],
      "text/plain": [
       "<IPython.core.display.HTML object>"
      ]
     },
     "metadata": {},
     "output_type": "display_data"
    },
    {
     "name": "stdout",
     "output_type": "stream",
     "text": [
      "refs_true\n"
     ]
    },
    {
     "data": {
      "text/html": [
       "<div style=\"white-space: nowrap\"><svg viewbox='0 0 430 430' width=\"172\" height=\"172\" id=\"agent_1\"><circle cx=\"215\" cy=\"215\" r=\"205\" fill=\"none\" stroke=\"black\" stroke-width=\"2\" stroke-dasharray=\"3,3\"/><circle cx=\"231\" cy=\"214\" r=\"7\" fill=\"rgb(80,80,80)\"/><circle cx=\"273\" cy=\"333\" r=\"13\" fill=\"rgb(189,189,189)\"/><circle cx=\"204\" cy=\"104\" r=\"12\" fill=\"rgb(132,132,132)\"/><circle cx=\"203\" cy=\"171\" r=\"9\" fill=\"rgb(134,134,134)\"/><circle cx=\"309\" cy=\"137\" r=\"10\" fill=\"rgb(151,151,151)\"/><circle cx=\"220\" cy=\"256\" r=\"8\" fill=\"rgb(101,101,101)\"/><circle cx=\"222\" cy=\"70\" r=\"10\" fill=\"rgb(82,82,82)\"/></svg><svg viewBox='0 0 430 430' id=\"svg\" width=\"172\" height=\"172\"><circle cx=\"215\" cy=\"215\" r=\"205\" fill=\"none\" stroke=\"black\" stroke-width=\"2\" stroke-dasharray=\"3,3\"/> <circle cx=\"231\" cy=\"214\" r=\"7\" fill=\"rgb(255,0,0)\" class=\"agent_1_19\"/><circle cx=\"273\" cy=\"333\" r=\"13\" fill=\"rgb(255,255,255)\" class=\"agent_1_35\"/><circle cx=\"204\" cy=\"104\" r=\"12\" fill=\"rgb(255,255,255)\" class=\"agent_1_40\"/><circle cx=\"203\" cy=\"171\" r=\"9\" fill=\"rgb(255,255,255)\" class=\"agent_1_53\"/><circle cx=\"309\" cy=\"137\" r=\"10\" fill=\"rgb(255,255,255)\" class=\"agent_1_58\"/><circle cx=\"220\" cy=\"256\" r=\"8\" fill=\"rgb(255,255,255)\" class=\"agent_1_78\"/><circle cx=\"222\" cy=\"70\" r=\"10\" fill=\"rgb(255,255,255)\" class=\"agent_1_79\"/></svg><svg viewBox='0 0 430 430' id=\"svg\" width=\"172\" height=\"172\"><circle cx=\"215\" cy=\"215\" r=\"205\" fill=\"none\" stroke=\"black\" stroke-width=\"2\" stroke-dasharray=\"3,3\"/> <circle cx=\"231\" cy=\"214\" r=\"7\" fill=\"rgb(255,0,0)\" class=\"agent_1_19\"/><circle cx=\"273\" cy=\"333\" r=\"13\" fill=\"rgb(255,255,255)\" class=\"agent_1_35\"/><circle cx=\"204\" cy=\"104\" r=\"12\" fill=\"rgb(255,255,255)\" class=\"agent_1_40\"/><circle cx=\"203\" cy=\"171\" r=\"9\" fill=\"rgb(255,255,255)\" class=\"agent_1_53\"/><circle cx=\"309\" cy=\"137\" r=\"10\" fill=\"rgb(255,255,255)\" class=\"agent_1_58\"/><circle cx=\"220\" cy=\"256\" r=\"8\" fill=\"rgb(255,255,255)\" class=\"agent_1_78\"/><circle cx=\"222\" cy=\"70\" r=\"10\" fill=\"rgb(255,255,255)\" class=\"agent_1_79\"/></svg></div>"
      ],
      "text/plain": [
       "<IPython.core.display.HTML object>"
      ]
     },
     "metadata": {},
     "output_type": "display_data"
    },
    {
     "name": "stdout",
     "output_type": "stream",
     "text": [
      "utt: i have a small black dot . click that one ? <eos>\n",
      "detected markables:\n",
      "({'start': 10, 'end': 27, 'is_self': True, 'text': 'a small black dot'}, (3, 6, 7))\n",
      "({'start': 36, 'end': 44, 'is_self': True, 'text': 'that one'}, (9, 10, 11))\n",
      "\n",
      "----------------------------------------\n",
      "\n",
      "human\tTHEM: ok <selection>\n",
      "utt: ok <selection>\n",
      "detected markables:\n",
      "\n",
      "----------------------------------------\n",
      "\n",
      "sel_pred\n"
     ]
    },
    {
     "data": {
      "text/html": [
       "<div style=\"white-space: nowrap\"><svg viewbox='0 0 430 430' width=\"172\" height=\"172\" id=\"agent_1\"><circle cx=\"215\" cy=\"215\" r=\"205\" fill=\"none\" stroke=\"black\" stroke-width=\"2\" stroke-dasharray=\"3,3\"/><circle cx=\"231\" cy=\"214\" r=\"7\" fill=\"rgb(80,80,80)\"/><circle cx=\"273\" cy=\"333\" r=\"13\" fill=\"rgb(189,189,189)\"/><circle cx=\"204\" cy=\"104\" r=\"12\" fill=\"rgb(132,132,132)\"/><circle cx=\"203\" cy=\"171\" r=\"9\" fill=\"rgb(134,134,134)\"/><circle cx=\"309\" cy=\"137\" r=\"10\" fill=\"rgb(151,151,151)\"/><circle cx=\"220\" cy=\"256\" r=\"8\" fill=\"rgb(101,101,101)\"/><circle cx=\"222\" cy=\"70\" r=\"10\" fill=\"rgb(82,82,82)\"/></svg><svg viewBox='0 0 430 430' id=\"svg\" width=\"172\" height=\"172\"><circle cx=\"215\" cy=\"215\" r=\"205\" fill=\"none\" stroke=\"black\" stroke-width=\"2\" stroke-dasharray=\"3,3\"/> <circle cx=\"231\" cy=\"214\" r=\"7\" fill=\"rgb(255,25,25)\" class=\"agent_1_19\"/><circle cx=\"273\" cy=\"333\" r=\"13\" fill=\"rgb(255,254,254)\" class=\"agent_1_35\"/><circle cx=\"204\" cy=\"104\" r=\"12\" fill=\"rgb(255,254,254)\" class=\"agent_1_40\"/><circle cx=\"203\" cy=\"171\" r=\"9\" fill=\"rgb(255,254,254)\" class=\"agent_1_53\"/><circle cx=\"309\" cy=\"137\" r=\"10\" fill=\"rgb(255,254,254)\" class=\"agent_1_58\"/><circle cx=\"220\" cy=\"256\" r=\"8\" fill=\"rgb(255,251,251)\" class=\"agent_1_78\"/><circle cx=\"222\" cy=\"70\" r=\"10\" fill=\"rgb(255,247,247)\" class=\"agent_1_79\"/></svg></div>"
      ],
      "text/plain": [
       "<IPython.core.display.HTML object>"
      ]
     },
     "metadata": {},
     "output_type": "display_data"
    },
    {
     "name": "stdout",
     "output_type": "stream",
     "text": [
      "sel_true\n"
     ]
    },
    {
     "data": {
      "text/html": [
       "<div style=\"white-space: nowrap\"><svg viewbox='0 0 430 430' width=\"172\" height=\"172\" id=\"agent_1\"><circle cx=\"215\" cy=\"215\" r=\"205\" fill=\"none\" stroke=\"black\" stroke-width=\"2\" stroke-dasharray=\"3,3\"/><circle cx=\"231\" cy=\"214\" r=\"7\" fill=\"rgb(80,80,80)\"/><circle cx=\"273\" cy=\"333\" r=\"13\" fill=\"rgb(189,189,189)\"/><circle cx=\"204\" cy=\"104\" r=\"12\" fill=\"rgb(132,132,132)\"/><circle cx=\"203\" cy=\"171\" r=\"9\" fill=\"rgb(134,134,134)\"/><circle cx=\"309\" cy=\"137\" r=\"10\" fill=\"rgb(151,151,151)\"/><circle cx=\"220\" cy=\"256\" r=\"8\" fill=\"rgb(101,101,101)\"/><circle cx=\"222\" cy=\"70\" r=\"10\" fill=\"rgb(82,82,82)\"/></svg><svg viewBox='0 0 430 430' id=\"svg\" width=\"172\" height=\"172\"><circle cx=\"215\" cy=\"215\" r=\"205\" fill=\"none\" stroke=\"black\" stroke-width=\"2\" stroke-dasharray=\"3,3\"/> <circle cx=\"231\" cy=\"214\" r=\"7\" fill=\"rgb(255,0,0)\" class=\"agent_1_19\"/><circle cx=\"273\" cy=\"333\" r=\"13\" fill=\"rgb(255,255,255)\" class=\"agent_1_35\"/><circle cx=\"204\" cy=\"104\" r=\"12\" fill=\"rgb(255,255,255)\" class=\"agent_1_40\"/><circle cx=\"203\" cy=\"171\" r=\"9\" fill=\"rgb(255,255,255)\" class=\"agent_1_53\"/><circle cx=\"309\" cy=\"137\" r=\"10\" fill=\"rgb(255,255,255)\" class=\"agent_1_58\"/><circle cx=\"220\" cy=\"256\" r=\"8\" fill=\"rgb(255,255,255)\" class=\"agent_1_78\"/><circle cx=\"222\" cy=\"70\" r=\"10\" fill=\"rgb(255,255,255)\" class=\"agent_1_79\"/></svg></div>"
      ],
      "text/plain": [
       "<IPython.core.display.HTML object>"
      ]
     },
     "metadata": {},
     "output_type": "display_data"
    }
   ],
   "source": [
    "force_contexts_and_mentions(1, inference='beam', candidates=1)"
   ]
  },
  {
   "cell_type": "code",
   "execution_count": 68,
   "metadata": {
    "scrolled": true
   },
   "outputs": [
    {
     "name": "stdout",
     "output_type": "stream",
     "text": [
      "human\tTHEM: line of 5 dots dark medium at top , large grey below smaller grey under that . small dark under that . medium grey at bottom <eos>\n",
      "partner_refs_pred\n"
     ]
    },
    {
     "data": {
      "text/html": [
       "<div style=\"white-space: nowrap\"><svg viewbox='0 0 430 430' width=\"172\" height=\"172\" id=\"agent_1\"><circle cx=\"215\" cy=\"215\" r=\"205\" fill=\"none\" stroke=\"black\" stroke-width=\"2\" stroke-dasharray=\"3,3\"/><circle cx=\"231\" cy=\"214\" r=\"7\" fill=\"rgb(80,80,80)\"/><circle cx=\"273\" cy=\"333\" r=\"13\" fill=\"rgb(189,189,189)\"/><circle cx=\"204\" cy=\"104\" r=\"12\" fill=\"rgb(132,132,132)\"/><circle cx=\"203\" cy=\"171\" r=\"9\" fill=\"rgb(134,134,134)\"/><circle cx=\"309\" cy=\"137\" r=\"10\" fill=\"rgb(151,151,151)\"/><circle cx=\"220\" cy=\"256\" r=\"8\" fill=\"rgb(101,101,101)\"/><circle cx=\"222\" cy=\"70\" r=\"10\" fill=\"rgb(82,82,82)\"/></svg><svg viewBox='0 0 430 430' id=\"svg\" width=\"172\" height=\"172\"><circle cx=\"215\" cy=\"215\" r=\"205\" fill=\"none\" stroke=\"black\" stroke-width=\"2\" stroke-dasharray=\"3,3\"/> <circle cx=\"231\" cy=\"214\" r=\"7\" fill=\"rgb(255,0,0)\" class=\"agent_1_19\"/><circle cx=\"273\" cy=\"333\" r=\"13\" fill=\"rgb(255,255,255)\" class=\"agent_1_35\"/><circle cx=\"204\" cy=\"104\" r=\"12\" fill=\"rgb(255,0,0)\" class=\"agent_1_40\"/><circle cx=\"203\" cy=\"171\" r=\"9\" fill=\"rgb(255,0,0)\" class=\"agent_1_53\"/><circle cx=\"309\" cy=\"137\" r=\"10\" fill=\"rgb(255,255,255)\" class=\"agent_1_58\"/><circle cx=\"220\" cy=\"256\" r=\"8\" fill=\"rgb(255,0,0)\" class=\"agent_1_78\"/><circle cx=\"222\" cy=\"70\" r=\"10\" fill=\"rgb(255,0,0)\" class=\"agent_1_79\"/></svg><svg viewBox='0 0 430 430' id=\"svg\" width=\"172\" height=\"172\"><circle cx=\"215\" cy=\"215\" r=\"205\" fill=\"none\" stroke=\"black\" stroke-width=\"2\" stroke-dasharray=\"3,3\"/> <circle cx=\"231\" cy=\"214\" r=\"7\" fill=\"rgb(255,255,255)\" class=\"agent_1_19\"/><circle cx=\"273\" cy=\"333\" r=\"13\" fill=\"rgb(255,255,255)\" class=\"agent_1_35\"/><circle cx=\"204\" cy=\"104\" r=\"12\" fill=\"rgb(255,0,0)\" class=\"agent_1_40\"/><circle cx=\"203\" cy=\"171\" r=\"9\" fill=\"rgb(255,255,255)\" class=\"agent_1_53\"/><circle cx=\"309\" cy=\"137\" r=\"10\" fill=\"rgb(255,255,255)\" class=\"agent_1_58\"/><circle cx=\"220\" cy=\"256\" r=\"8\" fill=\"rgb(255,255,255)\" class=\"agent_1_78\"/><circle cx=\"222\" cy=\"70\" r=\"10\" fill=\"rgb(255,255,255)\" class=\"agent_1_79\"/></svg><svg viewBox='0 0 430 430' id=\"svg\" width=\"172\" height=\"172\"><circle cx=\"215\" cy=\"215\" r=\"205\" fill=\"none\" stroke=\"black\" stroke-width=\"2\" stroke-dasharray=\"3,3\"/> <circle cx=\"231\" cy=\"214\" r=\"7\" fill=\"rgb(255,255,255)\" class=\"agent_1_19\"/><circle cx=\"273\" cy=\"333\" r=\"13\" fill=\"rgb(255,255,255)\" class=\"agent_1_35\"/><circle cx=\"204\" cy=\"104\" r=\"12\" fill=\"rgb(255,255,255)\" class=\"agent_1_40\"/><circle cx=\"203\" cy=\"171\" r=\"9\" fill=\"rgb(255,0,0)\" class=\"agent_1_53\"/><circle cx=\"309\" cy=\"137\" r=\"10\" fill=\"rgb(255,255,255)\" class=\"agent_1_58\"/><circle cx=\"220\" cy=\"256\" r=\"8\" fill=\"rgb(255,255,255)\" class=\"agent_1_78\"/><circle cx=\"222\" cy=\"70\" r=\"10\" fill=\"rgb(255,255,255)\" class=\"agent_1_79\"/></svg><svg viewBox='0 0 430 430' id=\"svg\" width=\"172\" height=\"172\"><circle cx=\"215\" cy=\"215\" r=\"205\" fill=\"none\" stroke=\"black\" stroke-width=\"2\" stroke-dasharray=\"3,3\"/> <circle cx=\"231\" cy=\"214\" r=\"7\" fill=\"rgb(255,255,255)\" class=\"agent_1_19\"/><circle cx=\"273\" cy=\"333\" r=\"13\" fill=\"rgb(255,255,255)\" class=\"agent_1_35\"/><circle cx=\"204\" cy=\"104\" r=\"12\" fill=\"rgb(255,255,255)\" class=\"agent_1_40\"/><circle cx=\"203\" cy=\"171\" r=\"9\" fill=\"rgb(255,0,0)\" class=\"agent_1_53\"/><circle cx=\"309\" cy=\"137\" r=\"10\" fill=\"rgb(255,255,255)\" class=\"agent_1_58\"/><circle cx=\"220\" cy=\"256\" r=\"8\" fill=\"rgb(255,255,255)\" class=\"agent_1_78\"/><circle cx=\"222\" cy=\"70\" r=\"10\" fill=\"rgb(255,255,255)\" class=\"agent_1_79\"/></svg><svg viewBox='0 0 430 430' id=\"svg\" width=\"172\" height=\"172\"><circle cx=\"215\" cy=\"215\" r=\"205\" fill=\"none\" stroke=\"black\" stroke-width=\"2\" stroke-dasharray=\"3,3\"/> <circle cx=\"231\" cy=\"214\" r=\"7\" fill=\"rgb(255,0,0)\" class=\"agent_1_19\"/><circle cx=\"273\" cy=\"333\" r=\"13\" fill=\"rgb(255,255,255)\" class=\"agent_1_35\"/><circle cx=\"204\" cy=\"104\" r=\"12\" fill=\"rgb(255,255,255)\" class=\"agent_1_40\"/><circle cx=\"203\" cy=\"171\" r=\"9\" fill=\"rgb(255,255,255)\" class=\"agent_1_53\"/><circle cx=\"309\" cy=\"137\" r=\"10\" fill=\"rgb(255,255,255)\" class=\"agent_1_58\"/><circle cx=\"220\" cy=\"256\" r=\"8\" fill=\"rgb(255,255,255)\" class=\"agent_1_78\"/><circle cx=\"222\" cy=\"70\" r=\"10\" fill=\"rgb(255,255,255)\" class=\"agent_1_79\"/></svg><svg viewBox='0 0 430 430' id=\"svg\" width=\"172\" height=\"172\"><circle cx=\"215\" cy=\"215\" r=\"205\" fill=\"none\" stroke=\"black\" stroke-width=\"2\" stroke-dasharray=\"3,3\"/> <circle cx=\"231\" cy=\"214\" r=\"7\" fill=\"rgb(255,255,255)\" class=\"agent_1_19\"/><circle cx=\"273\" cy=\"333\" r=\"13\" fill=\"rgb(255,255,255)\" class=\"agent_1_35\"/><circle cx=\"204\" cy=\"104\" r=\"12\" fill=\"rgb(255,255,255)\" class=\"agent_1_40\"/><circle cx=\"203\" cy=\"171\" r=\"9\" fill=\"rgb(255,255,255)\" class=\"agent_1_53\"/><circle cx=\"309\" cy=\"137\" r=\"10\" fill=\"rgb(255,255,255)\" class=\"agent_1_58\"/><circle cx=\"220\" cy=\"256\" r=\"8\" fill=\"rgb(255,0,0)\" class=\"agent_1_78\"/><circle cx=\"222\" cy=\"70\" r=\"10\" fill=\"rgb(255,255,255)\" class=\"agent_1_79\"/></svg><svg viewBox='0 0 430 430' id=\"svg\" width=\"172\" height=\"172\"><circle cx=\"215\" cy=\"215\" r=\"205\" fill=\"none\" stroke=\"black\" stroke-width=\"2\" stroke-dasharray=\"3,3\"/> <circle cx=\"231\" cy=\"214\" r=\"7\" fill=\"rgb(255,255,255)\" class=\"agent_1_19\"/><circle cx=\"273\" cy=\"333\" r=\"13\" fill=\"rgb(255,255,255)\" class=\"agent_1_35\"/><circle cx=\"204\" cy=\"104\" r=\"12\" fill=\"rgb(255,255,255)\" class=\"agent_1_40\"/><circle cx=\"203\" cy=\"171\" r=\"9\" fill=\"rgb(255,255,255)\" class=\"agent_1_53\"/><circle cx=\"309\" cy=\"137\" r=\"10\" fill=\"rgb(255,0,0)\" class=\"agent_1_58\"/><circle cx=\"220\" cy=\"256\" r=\"8\" fill=\"rgb(255,255,255)\" class=\"agent_1_78\"/><circle cx=\"222\" cy=\"70\" r=\"10\" fill=\"rgb(255,255,255)\" class=\"agent_1_79\"/></svg></div>"
      ],
      "text/plain": [
       "<IPython.core.display.HTML object>"
      ]
     },
     "metadata": {},
     "output_type": "display_data"
    },
    {
     "name": "stdout",
     "output_type": "stream",
     "text": [
      "partner_refs_true\n"
     ]
    },
    {
     "data": {
      "text/html": [
       "<div style=\"white-space: nowrap\"><svg viewbox='0 0 430 430' width=\"172\" height=\"172\" id=\"agent_1\"><circle cx=\"215\" cy=\"215\" r=\"205\" fill=\"none\" stroke=\"black\" stroke-width=\"2\" stroke-dasharray=\"3,3\"/><circle cx=\"231\" cy=\"214\" r=\"7\" fill=\"rgb(80,80,80)\"/><circle cx=\"273\" cy=\"333\" r=\"13\" fill=\"rgb(189,189,189)\"/><circle cx=\"204\" cy=\"104\" r=\"12\" fill=\"rgb(132,132,132)\"/><circle cx=\"203\" cy=\"171\" r=\"9\" fill=\"rgb(134,134,134)\"/><circle cx=\"309\" cy=\"137\" r=\"10\" fill=\"rgb(151,151,151)\"/><circle cx=\"220\" cy=\"256\" r=\"8\" fill=\"rgb(101,101,101)\"/><circle cx=\"222\" cy=\"70\" r=\"10\" fill=\"rgb(82,82,82)\"/></svg><svg viewBox='0 0 430 430' id=\"svg\" width=\"172\" height=\"172\"><circle cx=\"215\" cy=\"215\" r=\"205\" fill=\"none\" stroke=\"black\" stroke-width=\"2\" stroke-dasharray=\"3,3\"/> <circle cx=\"231\" cy=\"214\" r=\"7\" fill=\"rgb(255,0,0)\" class=\"agent_1_19\"/><circle cx=\"273\" cy=\"333\" r=\"13\" fill=\"rgb(255,255,255)\" class=\"agent_1_35\"/><circle cx=\"204\" cy=\"104\" r=\"12\" fill=\"rgb(255,0,0)\" class=\"agent_1_40\"/><circle cx=\"203\" cy=\"171\" r=\"9\" fill=\"rgb(255,0,0)\" class=\"agent_1_53\"/><circle cx=\"309\" cy=\"137\" r=\"10\" fill=\"rgb(255,255,255)\" class=\"agent_1_58\"/><circle cx=\"220\" cy=\"256\" r=\"8\" fill=\"rgb(255,0,0)\" class=\"agent_1_78\"/><circle cx=\"222\" cy=\"70\" r=\"10\" fill=\"rgb(255,0,0)\" class=\"agent_1_79\"/></svg><svg viewBox='0 0 430 430' id=\"svg\" width=\"172\" height=\"172\"><circle cx=\"215\" cy=\"215\" r=\"205\" fill=\"none\" stroke=\"black\" stroke-width=\"2\" stroke-dasharray=\"3,3\"/> <circle cx=\"231\" cy=\"214\" r=\"7\" fill=\"rgb(255,255,255)\" class=\"agent_1_19\"/><circle cx=\"273\" cy=\"333\" r=\"13\" fill=\"rgb(255,255,255)\" class=\"agent_1_35\"/><circle cx=\"204\" cy=\"104\" r=\"12\" fill=\"rgb(255,0,0)\" class=\"agent_1_40\"/><circle cx=\"203\" cy=\"171\" r=\"9\" fill=\"rgb(255,255,255)\" class=\"agent_1_53\"/><circle cx=\"309\" cy=\"137\" r=\"10\" fill=\"rgb(255,255,255)\" class=\"agent_1_58\"/><circle cx=\"220\" cy=\"256\" r=\"8\" fill=\"rgb(255,255,255)\" class=\"agent_1_78\"/><circle cx=\"222\" cy=\"70\" r=\"10\" fill=\"rgb(255,255,255)\" class=\"agent_1_79\"/></svg><svg viewBox='0 0 430 430' id=\"svg\" width=\"172\" height=\"172\"><circle cx=\"215\" cy=\"215\" r=\"205\" fill=\"none\" stroke=\"black\" stroke-width=\"2\" stroke-dasharray=\"3,3\"/> <circle cx=\"231\" cy=\"214\" r=\"7\" fill=\"rgb(255,255,255)\" class=\"agent_1_19\"/><circle cx=\"273\" cy=\"333\" r=\"13\" fill=\"rgb(255,255,255)\" class=\"agent_1_35\"/><circle cx=\"204\" cy=\"104\" r=\"12\" fill=\"rgb(255,255,255)\" class=\"agent_1_40\"/><circle cx=\"203\" cy=\"171\" r=\"9\" fill=\"rgb(255,0,0)\" class=\"agent_1_53\"/><circle cx=\"309\" cy=\"137\" r=\"10\" fill=\"rgb(255,255,255)\" class=\"agent_1_58\"/><circle cx=\"220\" cy=\"256\" r=\"8\" fill=\"rgb(255,255,255)\" class=\"agent_1_78\"/><circle cx=\"222\" cy=\"70\" r=\"10\" fill=\"rgb(255,255,255)\" class=\"agent_1_79\"/></svg><svg viewBox='0 0 430 430' id=\"svg\" width=\"172\" height=\"172\"><circle cx=\"215\" cy=\"215\" r=\"205\" fill=\"none\" stroke=\"black\" stroke-width=\"2\" stroke-dasharray=\"3,3\"/> <circle cx=\"231\" cy=\"214\" r=\"7\" fill=\"rgb(255,255,255)\" class=\"agent_1_19\"/><circle cx=\"273\" cy=\"333\" r=\"13\" fill=\"rgb(255,255,255)\" class=\"agent_1_35\"/><circle cx=\"204\" cy=\"104\" r=\"12\" fill=\"rgb(255,0,0)\" class=\"agent_1_40\"/><circle cx=\"203\" cy=\"171\" r=\"9\" fill=\"rgb(255,255,255)\" class=\"agent_1_53\"/><circle cx=\"309\" cy=\"137\" r=\"10\" fill=\"rgb(255,255,255)\" class=\"agent_1_58\"/><circle cx=\"220\" cy=\"256\" r=\"8\" fill=\"rgb(255,255,255)\" class=\"agent_1_78\"/><circle cx=\"222\" cy=\"70\" r=\"10\" fill=\"rgb(255,255,255)\" class=\"agent_1_79\"/></svg><svg viewBox='0 0 430 430' id=\"svg\" width=\"172\" height=\"172\"><circle cx=\"215\" cy=\"215\" r=\"205\" fill=\"none\" stroke=\"black\" stroke-width=\"2\" stroke-dasharray=\"3,3\"/> <circle cx=\"231\" cy=\"214\" r=\"7\" fill=\"rgb(255,0,0)\" class=\"agent_1_19\"/><circle cx=\"273\" cy=\"333\" r=\"13\" fill=\"rgb(255,255,255)\" class=\"agent_1_35\"/><circle cx=\"204\" cy=\"104\" r=\"12\" fill=\"rgb(255,255,255)\" class=\"agent_1_40\"/><circle cx=\"203\" cy=\"171\" r=\"9\" fill=\"rgb(255,255,255)\" class=\"agent_1_53\"/><circle cx=\"309\" cy=\"137\" r=\"10\" fill=\"rgb(255,255,255)\" class=\"agent_1_58\"/><circle cx=\"220\" cy=\"256\" r=\"8\" fill=\"rgb(255,255,255)\" class=\"agent_1_78\"/><circle cx=\"222\" cy=\"70\" r=\"10\" fill=\"rgb(255,255,255)\" class=\"agent_1_79\"/></svg><svg viewBox='0 0 430 430' id=\"svg\" width=\"172\" height=\"172\"><circle cx=\"215\" cy=\"215\" r=\"205\" fill=\"none\" stroke=\"black\" stroke-width=\"2\" stroke-dasharray=\"3,3\"/> <circle cx=\"231\" cy=\"214\" r=\"7\" fill=\"rgb(255,255,255)\" class=\"agent_1_19\"/><circle cx=\"273\" cy=\"333\" r=\"13\" fill=\"rgb(255,255,255)\" class=\"agent_1_35\"/><circle cx=\"204\" cy=\"104\" r=\"12\" fill=\"rgb(255,255,255)\" class=\"agent_1_40\"/><circle cx=\"203\" cy=\"171\" r=\"9\" fill=\"rgb(255,0,0)\" class=\"agent_1_53\"/><circle cx=\"309\" cy=\"137\" r=\"10\" fill=\"rgb(255,255,255)\" class=\"agent_1_58\"/><circle cx=\"220\" cy=\"256\" r=\"8\" fill=\"rgb(255,255,255)\" class=\"agent_1_78\"/><circle cx=\"222\" cy=\"70\" r=\"10\" fill=\"rgb(255,255,255)\" class=\"agent_1_79\"/></svg><svg viewBox='0 0 430 430' id=\"svg\" width=\"172\" height=\"172\"><circle cx=\"215\" cy=\"215\" r=\"205\" fill=\"none\" stroke=\"black\" stroke-width=\"2\" stroke-dasharray=\"3,3\"/> <circle cx=\"231\" cy=\"214\" r=\"7\" fill=\"rgb(255,255,255)\" class=\"agent_1_19\"/><circle cx=\"273\" cy=\"333\" r=\"13\" fill=\"rgb(255,255,255)\" class=\"agent_1_35\"/><circle cx=\"204\" cy=\"104\" r=\"12\" fill=\"rgb(255,255,255)\" class=\"agent_1_40\"/><circle cx=\"203\" cy=\"171\" r=\"9\" fill=\"rgb(255,255,255)\" class=\"agent_1_53\"/><circle cx=\"309\" cy=\"137\" r=\"10\" fill=\"rgb(255,255,255)\" class=\"agent_1_58\"/><circle cx=\"220\" cy=\"256\" r=\"8\" fill=\"rgb(255,0,0)\" class=\"agent_1_78\"/><circle cx=\"222\" cy=\"70\" r=\"10\" fill=\"rgb(255,255,255)\" class=\"agent_1_79\"/></svg></div>"
      ],
      "text/plain": [
       "<IPython.core.display.HTML object>"
      ]
     },
     "metadata": {},
     "output_type": "display_data"
    },
    {
     "name": "stdout",
     "output_type": "stream",
     "text": [
      "utt: line of 5 dots dark medium at top , large grey below smaller grey under that . small dark under that . medium grey at bottom <eos>\n",
      "detected markables:\n",
      "({'start': 3, 'end': 17, 'is_self': True, 'text': 'line of 5 dots'}, (1, 4, 5))\n",
      "({'start': 18, 'end': 29, 'is_self': True, 'text': 'dark medium'}, (5, 6, 7))\n",
      "({'start': 39, 'end': 49, 'is_self': True, 'text': 'large grey'}, (10, 11, 12))\n",
      "({'start': 56, 'end': 68, 'is_self': True, 'text': 'smaller grey'}, (13, 14, 15))\n",
      "({'start': 75, 'end': 79, 'is_self': True, 'text': 'that'}, (16, 16, 17))\n",
      "({'start': 82, 'end': 92, 'is_self': True, 'text': 'small dark'}, (18, 19, 20))\n",
      "({'start': 99, 'end': 103, 'is_self': True, 'text': 'that'}, (21, 21, 22))\n",
      "({'start': 106, 'end': 117, 'is_self': True, 'text': 'medium grey'}, (23, 24, 25))\n",
      "\n",
      "----------------------------------------\n",
      "\n",
      "to_mention_pred\n"
     ]
    },
    {
     "data": {
      "text/html": [
       "<div style=\"white-space: nowrap\"><svg viewbox='0 0 430 430' width=\"172\" height=\"172\" id=\"agent_1\"><circle cx=\"215\" cy=\"215\" r=\"205\" fill=\"none\" stroke=\"black\" stroke-width=\"2\" stroke-dasharray=\"3,3\"/><circle cx=\"231\" cy=\"214\" r=\"7\" fill=\"rgb(80,80,80)\"/><circle cx=\"273\" cy=\"333\" r=\"13\" fill=\"rgb(189,189,189)\"/><circle cx=\"204\" cy=\"104\" r=\"12\" fill=\"rgb(132,132,132)\"/><circle cx=\"203\" cy=\"171\" r=\"9\" fill=\"rgb(134,134,134)\"/><circle cx=\"309\" cy=\"137\" r=\"10\" fill=\"rgb(151,151,151)\"/><circle cx=\"220\" cy=\"256\" r=\"8\" fill=\"rgb(101,101,101)\"/><circle cx=\"222\" cy=\"70\" r=\"10\" fill=\"rgb(82,82,82)\"/></svg><svg viewBox='0 0 430 430' id=\"svg\" width=\"172\" height=\"172\"><circle cx=\"215\" cy=\"215\" r=\"205\" fill=\"none\" stroke=\"black\" stroke-width=\"2\" stroke-dasharray=\"3,3\"/> <circle cx=\"231\" cy=\"214\" r=\"7\" fill=\"rgb(255,255,255)\" class=\"agent_1_19\"/><circle cx=\"273\" cy=\"333\" r=\"13\" fill=\"rgb(255,0,0)\" class=\"agent_1_35\"/><circle cx=\"204\" cy=\"104\" r=\"12\" fill=\"rgb(255,255,255)\" class=\"agent_1_40\"/><circle cx=\"203\" cy=\"171\" r=\"9\" fill=\"rgb(255,255,255)\" class=\"agent_1_53\"/><circle cx=\"309\" cy=\"137\" r=\"10\" fill=\"rgb(255,255,255)\" class=\"agent_1_58\"/><circle cx=\"220\" cy=\"256\" r=\"8\" fill=\"rgb(255,255,255)\" class=\"agent_1_78\"/><circle cx=\"222\" cy=\"70\" r=\"10\" fill=\"rgb(255,255,255)\" class=\"agent_1_79\"/></svg><svg viewBox='0 0 430 430' id=\"svg\" width=\"172\" height=\"172\"><circle cx=\"215\" cy=\"215\" r=\"205\" fill=\"none\" stroke=\"black\" stroke-width=\"2\" stroke-dasharray=\"3,3\"/> <circle cx=\"231\" cy=\"214\" r=\"7\" fill=\"rgb(255,255,255)\" class=\"agent_1_19\"/><circle cx=\"273\" cy=\"333\" r=\"13\" fill=\"rgb(255,0,0)\" class=\"agent_1_35\"/><circle cx=\"204\" cy=\"104\" r=\"12\" fill=\"rgb(255,255,255)\" class=\"agent_1_40\"/><circle cx=\"203\" cy=\"171\" r=\"9\" fill=\"rgb(255,255,255)\" class=\"agent_1_53\"/><circle cx=\"309\" cy=\"137\" r=\"10\" fill=\"rgb(255,255,255)\" class=\"agent_1_58\"/><circle cx=\"220\" cy=\"256\" r=\"8\" fill=\"rgb(255,255,255)\" class=\"agent_1_78\"/><circle cx=\"222\" cy=\"70\" r=\"10\" fill=\"rgb(255,255,255)\" class=\"agent_1_79\"/></svg><svg viewBox='0 0 430 430' id=\"svg\" width=\"172\" height=\"172\"><circle cx=\"215\" cy=\"215\" r=\"205\" fill=\"none\" stroke=\"black\" stroke-width=\"2\" stroke-dasharray=\"3,3\"/> <circle cx=\"231\" cy=\"214\" r=\"7\" fill=\"rgb(255,255,255)\" class=\"agent_1_19\"/><circle cx=\"273\" cy=\"333\" r=\"13\" fill=\"rgb(255,0,0)\" class=\"agent_1_35\"/><circle cx=\"204\" cy=\"104\" r=\"12\" fill=\"rgb(255,255,255)\" class=\"agent_1_40\"/><circle cx=\"203\" cy=\"171\" r=\"9\" fill=\"rgb(255,255,255)\" class=\"agent_1_53\"/><circle cx=\"309\" cy=\"137\" r=\"10\" fill=\"rgb(255,255,255)\" class=\"agent_1_58\"/><circle cx=\"220\" cy=\"256\" r=\"8\" fill=\"rgb(255,255,255)\" class=\"agent_1_78\"/><circle cx=\"222\" cy=\"70\" r=\"10\" fill=\"rgb(255,255,255)\" class=\"agent_1_79\"/></svg><svg viewBox='0 0 430 430' id=\"svg\" width=\"172\" height=\"172\"><circle cx=\"215\" cy=\"215\" r=\"205\" fill=\"none\" stroke=\"black\" stroke-width=\"2\" stroke-dasharray=\"3,3\"/> <circle cx=\"231\" cy=\"214\" r=\"7\" fill=\"rgb(255,255,255)\" class=\"agent_1_19\"/><circle cx=\"273\" cy=\"333\" r=\"13\" fill=\"rgb(255,0,0)\" class=\"agent_1_35\"/><circle cx=\"204\" cy=\"104\" r=\"12\" fill=\"rgb(255,255,255)\" class=\"agent_1_40\"/><circle cx=\"203\" cy=\"171\" r=\"9\" fill=\"rgb(255,255,255)\" class=\"agent_1_53\"/><circle cx=\"309\" cy=\"137\" r=\"10\" fill=\"rgb(255,255,255)\" class=\"agent_1_58\"/><circle cx=\"220\" cy=\"256\" r=\"8\" fill=\"rgb(255,255,255)\" class=\"agent_1_78\"/><circle cx=\"222\" cy=\"70\" r=\"10\" fill=\"rgb(255,255,255)\" class=\"agent_1_79\"/></svg></div>"
      ],
      "text/plain": [
       "<IPython.core.display.HTML object>"
      ]
     },
     "metadata": {},
     "output_type": "display_data"
    },
    {
     "name": "stdout",
     "output_type": "stream",
     "text": [
      "to_mention_true\n"
     ]
    },
    {
     "data": {
      "text/html": [
       "<div style=\"white-space: nowrap\"><svg viewbox='0 0 430 430' width=\"172\" height=\"172\" id=\"agent_1\"><circle cx=\"215\" cy=\"215\" r=\"205\" fill=\"none\" stroke=\"black\" stroke-width=\"2\" stroke-dasharray=\"3,3\"/><circle cx=\"231\" cy=\"214\" r=\"7\" fill=\"rgb(80,80,80)\"/><circle cx=\"273\" cy=\"333\" r=\"13\" fill=\"rgb(189,189,189)\"/><circle cx=\"204\" cy=\"104\" r=\"12\" fill=\"rgb(132,132,132)\"/><circle cx=\"203\" cy=\"171\" r=\"9\" fill=\"rgb(134,134,134)\"/><circle cx=\"309\" cy=\"137\" r=\"10\" fill=\"rgb(151,151,151)\"/><circle cx=\"220\" cy=\"256\" r=\"8\" fill=\"rgb(101,101,101)\"/><circle cx=\"222\" cy=\"70\" r=\"10\" fill=\"rgb(82,82,82)\"/></svg><svg viewBox='0 0 430 430' id=\"svg\" width=\"172\" height=\"172\"><circle cx=\"215\" cy=\"215\" r=\"205\" fill=\"none\" stroke=\"black\" stroke-width=\"2\" stroke-dasharray=\"3,3\"/> <circle cx=\"231\" cy=\"214\" r=\"7\" fill=\"rgb(255,0,0)\" class=\"agent_1_19\"/><circle cx=\"273\" cy=\"333\" r=\"13\" fill=\"rgb(255,255,255)\" class=\"agent_1_35\"/><circle cx=\"204\" cy=\"104\" r=\"12\" fill=\"rgb(255,255,255)\" class=\"agent_1_40\"/><circle cx=\"203\" cy=\"171\" r=\"9\" fill=\"rgb(255,255,255)\" class=\"agent_1_53\"/><circle cx=\"309\" cy=\"137\" r=\"10\" fill=\"rgb(255,255,255)\" class=\"agent_1_58\"/><circle cx=\"220\" cy=\"256\" r=\"8\" fill=\"rgb(255,255,255)\" class=\"agent_1_78\"/><circle cx=\"222\" cy=\"70\" r=\"10\" fill=\"rgb(255,255,255)\" class=\"agent_1_79\"/></svg><svg viewBox='0 0 430 430' id=\"svg\" width=\"172\" height=\"172\"><circle cx=\"215\" cy=\"215\" r=\"205\" fill=\"none\" stroke=\"black\" stroke-width=\"2\" stroke-dasharray=\"3,3\"/> <circle cx=\"231\" cy=\"214\" r=\"7\" fill=\"rgb(255,0,0)\" class=\"agent_1_19\"/><circle cx=\"273\" cy=\"333\" r=\"13\" fill=\"rgb(255,255,255)\" class=\"agent_1_35\"/><circle cx=\"204\" cy=\"104\" r=\"12\" fill=\"rgb(255,255,255)\" class=\"agent_1_40\"/><circle cx=\"203\" cy=\"171\" r=\"9\" fill=\"rgb(255,255,255)\" class=\"agent_1_53\"/><circle cx=\"309\" cy=\"137\" r=\"10\" fill=\"rgb(255,255,255)\" class=\"agent_1_58\"/><circle cx=\"220\" cy=\"256\" r=\"8\" fill=\"rgb(255,255,255)\" class=\"agent_1_78\"/><circle cx=\"222\" cy=\"70\" r=\"10\" fill=\"rgb(255,255,255)\" class=\"agent_1_79\"/></svg></div>"
      ],
      "text/plain": [
       "<IPython.core.display.HTML object>"
      ]
     },
     "metadata": {},
     "output_type": "display_data"
    },
    {
     "name": "stdout",
     "output_type": "stream",
     "text": [
      "beam 0\ti have that too . let 's pick the tiny one . <selection>\n",
      "greedy\ti have that too . let 's pick the tiny one . <selection>\n",
      "human\ti have a small black dot . click that one ? <eos>\n",
      "refs_pred\n"
     ]
    },
    {
     "data": {
      "text/html": [
       "<div style=\"white-space: nowrap\"><svg viewbox='0 0 430 430' width=\"172\" height=\"172\" id=\"agent_1\"><circle cx=\"215\" cy=\"215\" r=\"205\" fill=\"none\" stroke=\"black\" stroke-width=\"2\" stroke-dasharray=\"3,3\"/><circle cx=\"231\" cy=\"214\" r=\"7\" fill=\"rgb(80,80,80)\"/><circle cx=\"273\" cy=\"333\" r=\"13\" fill=\"rgb(189,189,189)\"/><circle cx=\"204\" cy=\"104\" r=\"12\" fill=\"rgb(132,132,132)\"/><circle cx=\"203\" cy=\"171\" r=\"9\" fill=\"rgb(134,134,134)\"/><circle cx=\"309\" cy=\"137\" r=\"10\" fill=\"rgb(151,151,151)\"/><circle cx=\"220\" cy=\"256\" r=\"8\" fill=\"rgb(101,101,101)\"/><circle cx=\"222\" cy=\"70\" r=\"10\" fill=\"rgb(82,82,82)\"/></svg><svg viewBox='0 0 430 430' id=\"svg\" width=\"172\" height=\"172\"><circle cx=\"215\" cy=\"215\" r=\"205\" fill=\"none\" stroke=\"black\" stroke-width=\"2\" stroke-dasharray=\"3,3\"/> <circle cx=\"231\" cy=\"214\" r=\"7\" fill=\"rgb(255,0,0)\" class=\"agent_1_19\"/><circle cx=\"273\" cy=\"333\" r=\"13\" fill=\"rgb(255,255,255)\" class=\"agent_1_35\"/><circle cx=\"204\" cy=\"104\" r=\"12\" fill=\"rgb(255,255,255)\" class=\"agent_1_40\"/><circle cx=\"203\" cy=\"171\" r=\"9\" fill=\"rgb(255,255,255)\" class=\"agent_1_53\"/><circle cx=\"309\" cy=\"137\" r=\"10\" fill=\"rgb(255,255,255)\" class=\"agent_1_58\"/><circle cx=\"220\" cy=\"256\" r=\"8\" fill=\"rgb(255,255,255)\" class=\"agent_1_78\"/><circle cx=\"222\" cy=\"70\" r=\"10\" fill=\"rgb(255,255,255)\" class=\"agent_1_79\"/></svg><svg viewBox='0 0 430 430' id=\"svg\" width=\"172\" height=\"172\"><circle cx=\"215\" cy=\"215\" r=\"205\" fill=\"none\" stroke=\"black\" stroke-width=\"2\" stroke-dasharray=\"3,3\"/> <circle cx=\"231\" cy=\"214\" r=\"7\" fill=\"rgb(255,0,0)\" class=\"agent_1_19\"/><circle cx=\"273\" cy=\"333\" r=\"13\" fill=\"rgb(255,255,255)\" class=\"agent_1_35\"/><circle cx=\"204\" cy=\"104\" r=\"12\" fill=\"rgb(255,255,255)\" class=\"agent_1_40\"/><circle cx=\"203\" cy=\"171\" r=\"9\" fill=\"rgb(255,255,255)\" class=\"agent_1_53\"/><circle cx=\"309\" cy=\"137\" r=\"10\" fill=\"rgb(255,255,255)\" class=\"agent_1_58\"/><circle cx=\"220\" cy=\"256\" r=\"8\" fill=\"rgb(255,255,255)\" class=\"agent_1_78\"/><circle cx=\"222\" cy=\"70\" r=\"10\" fill=\"rgb(255,255,255)\" class=\"agent_1_79\"/></svg></div>"
      ],
      "text/plain": [
       "<IPython.core.display.HTML object>"
      ]
     },
     "metadata": {},
     "output_type": "display_data"
    },
    {
     "name": "stdout",
     "output_type": "stream",
     "text": [
      "refs_true\n"
     ]
    },
    {
     "data": {
      "text/html": [
       "<div style=\"white-space: nowrap\"><svg viewbox='0 0 430 430' width=\"172\" height=\"172\" id=\"agent_1\"><circle cx=\"215\" cy=\"215\" r=\"205\" fill=\"none\" stroke=\"black\" stroke-width=\"2\" stroke-dasharray=\"3,3\"/><circle cx=\"231\" cy=\"214\" r=\"7\" fill=\"rgb(80,80,80)\"/><circle cx=\"273\" cy=\"333\" r=\"13\" fill=\"rgb(189,189,189)\"/><circle cx=\"204\" cy=\"104\" r=\"12\" fill=\"rgb(132,132,132)\"/><circle cx=\"203\" cy=\"171\" r=\"9\" fill=\"rgb(134,134,134)\"/><circle cx=\"309\" cy=\"137\" r=\"10\" fill=\"rgb(151,151,151)\"/><circle cx=\"220\" cy=\"256\" r=\"8\" fill=\"rgb(101,101,101)\"/><circle cx=\"222\" cy=\"70\" r=\"10\" fill=\"rgb(82,82,82)\"/></svg><svg viewBox='0 0 430 430' id=\"svg\" width=\"172\" height=\"172\"><circle cx=\"215\" cy=\"215\" r=\"205\" fill=\"none\" stroke=\"black\" stroke-width=\"2\" stroke-dasharray=\"3,3\"/> <circle cx=\"231\" cy=\"214\" r=\"7\" fill=\"rgb(255,0,0)\" class=\"agent_1_19\"/><circle cx=\"273\" cy=\"333\" r=\"13\" fill=\"rgb(255,255,255)\" class=\"agent_1_35\"/><circle cx=\"204\" cy=\"104\" r=\"12\" fill=\"rgb(255,255,255)\" class=\"agent_1_40\"/><circle cx=\"203\" cy=\"171\" r=\"9\" fill=\"rgb(255,255,255)\" class=\"agent_1_53\"/><circle cx=\"309\" cy=\"137\" r=\"10\" fill=\"rgb(255,255,255)\" class=\"agent_1_58\"/><circle cx=\"220\" cy=\"256\" r=\"8\" fill=\"rgb(255,255,255)\" class=\"agent_1_78\"/><circle cx=\"222\" cy=\"70\" r=\"10\" fill=\"rgb(255,255,255)\" class=\"agent_1_79\"/></svg><svg viewBox='0 0 430 430' id=\"svg\" width=\"172\" height=\"172\"><circle cx=\"215\" cy=\"215\" r=\"205\" fill=\"none\" stroke=\"black\" stroke-width=\"2\" stroke-dasharray=\"3,3\"/> <circle cx=\"231\" cy=\"214\" r=\"7\" fill=\"rgb(255,0,0)\" class=\"agent_1_19\"/><circle cx=\"273\" cy=\"333\" r=\"13\" fill=\"rgb(255,255,255)\" class=\"agent_1_35\"/><circle cx=\"204\" cy=\"104\" r=\"12\" fill=\"rgb(255,255,255)\" class=\"agent_1_40\"/><circle cx=\"203\" cy=\"171\" r=\"9\" fill=\"rgb(255,255,255)\" class=\"agent_1_53\"/><circle cx=\"309\" cy=\"137\" r=\"10\" fill=\"rgb(255,255,255)\" class=\"agent_1_58\"/><circle cx=\"220\" cy=\"256\" r=\"8\" fill=\"rgb(255,255,255)\" class=\"agent_1_78\"/><circle cx=\"222\" cy=\"70\" r=\"10\" fill=\"rgb(255,255,255)\" class=\"agent_1_79\"/></svg></div>"
      ],
      "text/plain": [
       "<IPython.core.display.HTML object>"
      ]
     },
     "metadata": {},
     "output_type": "display_data"
    },
    {
     "name": "stdout",
     "output_type": "stream",
     "text": [
      "utt: i have a small black dot . click that one ? <eos>\n",
      "detected markables:\n",
      "({'start': 10, 'end': 27, 'is_self': True, 'text': 'a small black dot'}, (3, 6, 7))\n",
      "({'start': 36, 'end': 44, 'is_self': True, 'text': 'that one'}, (9, 10, 11))\n",
      "\n",
      "----------------------------------------\n",
      "\n",
      "human\tTHEM: ok <selection>\n",
      "utt: ok <selection>\n",
      "detected markables:\n",
      "\n",
      "----------------------------------------\n",
      "\n",
      "sel_pred\n"
     ]
    },
    {
     "data": {
      "text/html": [
       "<div style=\"white-space: nowrap\"><svg viewbox='0 0 430 430' width=\"172\" height=\"172\" id=\"agent_1\"><circle cx=\"215\" cy=\"215\" r=\"205\" fill=\"none\" stroke=\"black\" stroke-width=\"2\" stroke-dasharray=\"3,3\"/><circle cx=\"231\" cy=\"214\" r=\"7\" fill=\"rgb(80,80,80)\"/><circle cx=\"273\" cy=\"333\" r=\"13\" fill=\"rgb(189,189,189)\"/><circle cx=\"204\" cy=\"104\" r=\"12\" fill=\"rgb(132,132,132)\"/><circle cx=\"203\" cy=\"171\" r=\"9\" fill=\"rgb(134,134,134)\"/><circle cx=\"309\" cy=\"137\" r=\"10\" fill=\"rgb(151,151,151)\"/><circle cx=\"220\" cy=\"256\" r=\"8\" fill=\"rgb(101,101,101)\"/><circle cx=\"222\" cy=\"70\" r=\"10\" fill=\"rgb(82,82,82)\"/></svg><svg viewBox='0 0 430 430' id=\"svg\" width=\"172\" height=\"172\"><circle cx=\"215\" cy=\"215\" r=\"205\" fill=\"none\" stroke=\"black\" stroke-width=\"2\" stroke-dasharray=\"3,3\"/> <circle cx=\"231\" cy=\"214\" r=\"7\" fill=\"rgb(255,25,25)\" class=\"agent_1_19\"/><circle cx=\"273\" cy=\"333\" r=\"13\" fill=\"rgb(255,254,254)\" class=\"agent_1_35\"/><circle cx=\"204\" cy=\"104\" r=\"12\" fill=\"rgb(255,254,254)\" class=\"agent_1_40\"/><circle cx=\"203\" cy=\"171\" r=\"9\" fill=\"rgb(255,254,254)\" class=\"agent_1_53\"/><circle cx=\"309\" cy=\"137\" r=\"10\" fill=\"rgb(255,254,254)\" class=\"agent_1_58\"/><circle cx=\"220\" cy=\"256\" r=\"8\" fill=\"rgb(255,251,251)\" class=\"agent_1_78\"/><circle cx=\"222\" cy=\"70\" r=\"10\" fill=\"rgb(255,247,247)\" class=\"agent_1_79\"/></svg></div>"
      ],
      "text/plain": [
       "<IPython.core.display.HTML object>"
      ]
     },
     "metadata": {},
     "output_type": "display_data"
    },
    {
     "name": "stdout",
     "output_type": "stream",
     "text": [
      "sel_true\n"
     ]
    },
    {
     "data": {
      "text/html": [
       "<div style=\"white-space: nowrap\"><svg viewbox='0 0 430 430' width=\"172\" height=\"172\" id=\"agent_1\"><circle cx=\"215\" cy=\"215\" r=\"205\" fill=\"none\" stroke=\"black\" stroke-width=\"2\" stroke-dasharray=\"3,3\"/><circle cx=\"231\" cy=\"214\" r=\"7\" fill=\"rgb(80,80,80)\"/><circle cx=\"273\" cy=\"333\" r=\"13\" fill=\"rgb(189,189,189)\"/><circle cx=\"204\" cy=\"104\" r=\"12\" fill=\"rgb(132,132,132)\"/><circle cx=\"203\" cy=\"171\" r=\"9\" fill=\"rgb(134,134,134)\"/><circle cx=\"309\" cy=\"137\" r=\"10\" fill=\"rgb(151,151,151)\"/><circle cx=\"220\" cy=\"256\" r=\"8\" fill=\"rgb(101,101,101)\"/><circle cx=\"222\" cy=\"70\" r=\"10\" fill=\"rgb(82,82,82)\"/></svg><svg viewBox='0 0 430 430' id=\"svg\" width=\"172\" height=\"172\"><circle cx=\"215\" cy=\"215\" r=\"205\" fill=\"none\" stroke=\"black\" stroke-width=\"2\" stroke-dasharray=\"3,3\"/> <circle cx=\"231\" cy=\"214\" r=\"7\" fill=\"rgb(255,0,0)\" class=\"agent_1_19\"/><circle cx=\"273\" cy=\"333\" r=\"13\" fill=\"rgb(255,255,255)\" class=\"agent_1_35\"/><circle cx=\"204\" cy=\"104\" r=\"12\" fill=\"rgb(255,255,255)\" class=\"agent_1_40\"/><circle cx=\"203\" cy=\"171\" r=\"9\" fill=\"rgb(255,255,255)\" class=\"agent_1_53\"/><circle cx=\"309\" cy=\"137\" r=\"10\" fill=\"rgb(255,255,255)\" class=\"agent_1_58\"/><circle cx=\"220\" cy=\"256\" r=\"8\" fill=\"rgb(255,255,255)\" class=\"agent_1_78\"/><circle cx=\"222\" cy=\"70\" r=\"10\" fill=\"rgb(255,255,255)\" class=\"agent_1_79\"/></svg></div>"
      ],
      "text/plain": [
       "<IPython.core.display.HTML object>"
      ]
     },
     "metadata": {},
     "output_type": "display_data"
    }
   ],
   "source": [
    "force_contexts_and_mentions(1, inference='beam', candidates=1, force_num_markables=False)"
   ]
  },
  {
   "cell_type": "code",
   "execution_count": 69,
   "metadata": {
    "scrolled": false
   },
   "outputs": [
    {
     "name": "stdout",
     "output_type": "stream",
     "text": [
      "human\tTHEM: i have medium size black dot at south <eos>\n",
      "partner_refs_pred\n"
     ]
    },
    {
     "data": {
      "text/html": [
       "<div style=\"white-space: nowrap\"><svg viewbox='0 0 430 430' width=\"172\" height=\"172\" id=\"agent_0\"><circle cx=\"215\" cy=\"215\" r=\"205\" fill=\"none\" stroke=\"black\" stroke-width=\"2\" stroke-dasharray=\"3,3\"/><circle cx=\"371\" cy=\"296\" r=\"8\" fill=\"rgb(199,199,199)\"/><circle cx=\"407\" cy=\"218\" r=\"12\" fill=\"rgb(201,201,201)\"/><circle cx=\"173\" cy=\"219\" r=\"9\" fill=\"rgb(58,58,58)\"/><circle cx=\"264\" cy=\"139\" r=\"12\" fill=\"rgb(131,131,131)\"/><circle cx=\"258\" cy=\"375\" r=\"7\" fill=\"rgb(116,116,116)\"/><circle cx=\"122\" cy=\"368\" r=\"8\" fill=\"rgb(198,198,198)\"/><circle cx=\"112\" cy=\"334\" r=\"9\" fill=\"rgb(54,54,54)\"/></svg><svg viewBox='0 0 430 430' id=\"svg\" width=\"172\" height=\"172\"><circle cx=\"215\" cy=\"215\" r=\"205\" fill=\"none\" stroke=\"black\" stroke-width=\"2\" stroke-dasharray=\"3,3\"/> <circle cx=\"371\" cy=\"296\" r=\"8\" fill=\"rgb(255,255,255)\" class=\"agent_0_10\"/><circle cx=\"407\" cy=\"218\" r=\"12\" fill=\"rgb(255,255,255)\" class=\"agent_0_18\"/><circle cx=\"173\" cy=\"219\" r=\"9\" fill=\"rgb(255,0,0)\" class=\"agent_0_24\"/><circle cx=\"264\" cy=\"139\" r=\"12\" fill=\"rgb(255,255,255)\" class=\"agent_0_27\"/><circle cx=\"258\" cy=\"375\" r=\"7\" fill=\"rgb(255,255,255)\" class=\"agent_0_51\"/><circle cx=\"122\" cy=\"368\" r=\"8\" fill=\"rgb(255,255,255)\" class=\"agent_0_61\"/><circle cx=\"112\" cy=\"334\" r=\"9\" fill=\"rgb(255,255,255)\" class=\"agent_0_75\"/></svg></div>"
      ],
      "text/plain": [
       "<IPython.core.display.HTML object>"
      ]
     },
     "metadata": {},
     "output_type": "display_data"
    },
    {
     "name": "stdout",
     "output_type": "stream",
     "text": [
      "partner_refs_true\n"
     ]
    },
    {
     "data": {
      "text/html": [
       "<div style=\"white-space: nowrap\"><svg viewbox='0 0 430 430' width=\"172\" height=\"172\" id=\"agent_0\"><circle cx=\"215\" cy=\"215\" r=\"205\" fill=\"none\" stroke=\"black\" stroke-width=\"2\" stroke-dasharray=\"3,3\"/><circle cx=\"371\" cy=\"296\" r=\"8\" fill=\"rgb(199,199,199)\"/><circle cx=\"407\" cy=\"218\" r=\"12\" fill=\"rgb(201,201,201)\"/><circle cx=\"173\" cy=\"219\" r=\"9\" fill=\"rgb(58,58,58)\"/><circle cx=\"264\" cy=\"139\" r=\"12\" fill=\"rgb(131,131,131)\"/><circle cx=\"258\" cy=\"375\" r=\"7\" fill=\"rgb(116,116,116)\"/><circle cx=\"122\" cy=\"368\" r=\"8\" fill=\"rgb(198,198,198)\"/><circle cx=\"112\" cy=\"334\" r=\"9\" fill=\"rgb(54,54,54)\"/></svg><svg viewBox='0 0 430 430' id=\"svg\" width=\"172\" height=\"172\"><circle cx=\"215\" cy=\"215\" r=\"205\" fill=\"none\" stroke=\"black\" stroke-width=\"2\" stroke-dasharray=\"3,3\"/> <circle cx=\"371\" cy=\"296\" r=\"8\" fill=\"rgb(255,255,255)\" class=\"agent_0_10\"/><circle cx=\"407\" cy=\"218\" r=\"12\" fill=\"rgb(255,255,255)\" class=\"agent_0_18\"/><circle cx=\"173\" cy=\"219\" r=\"9\" fill=\"rgb(255,255,255)\" class=\"agent_0_24\"/><circle cx=\"264\" cy=\"139\" r=\"12\" fill=\"rgb(255,255,255)\" class=\"agent_0_27\"/><circle cx=\"258\" cy=\"375\" r=\"7\" fill=\"rgb(255,255,255)\" class=\"agent_0_51\"/><circle cx=\"122\" cy=\"368\" r=\"8\" fill=\"rgb(255,255,255)\" class=\"agent_0_61\"/><circle cx=\"112\" cy=\"334\" r=\"9\" fill=\"rgb(255,255,255)\" class=\"agent_0_75\"/></svg></div>"
      ],
      "text/plain": [
       "<IPython.core.display.HTML object>"
      ]
     },
     "metadata": {},
     "output_type": "display_data"
    },
    {
     "name": "stdout",
     "output_type": "stream",
     "text": [
      "utt: i have medium size black dot at south <eos>\n",
      "detected markables:\n",
      "({'start': 10, 'end': 31, 'is_self': True, 'text': 'medium size black dot'}, (3, 6, 7))\n",
      "\n",
      "----------------------------------------\n",
      "\n",
      "to_mention_pred\n"
     ]
    },
    {
     "data": {
      "text/html": [
       "<div style=\"white-space: nowrap\"><svg viewbox='0 0 430 430' width=\"172\" height=\"172\" id=\"agent_0\"><circle cx=\"215\" cy=\"215\" r=\"205\" fill=\"none\" stroke=\"black\" stroke-width=\"2\" stroke-dasharray=\"3,3\"/><circle cx=\"371\" cy=\"296\" r=\"8\" fill=\"rgb(199,199,199)\"/><circle cx=\"407\" cy=\"218\" r=\"12\" fill=\"rgb(201,201,201)\"/><circle cx=\"173\" cy=\"219\" r=\"9\" fill=\"rgb(58,58,58)\"/><circle cx=\"264\" cy=\"139\" r=\"12\" fill=\"rgb(131,131,131)\"/><circle cx=\"258\" cy=\"375\" r=\"7\" fill=\"rgb(116,116,116)\"/><circle cx=\"122\" cy=\"368\" r=\"8\" fill=\"rgb(198,198,198)\"/><circle cx=\"112\" cy=\"334\" r=\"9\" fill=\"rgb(54,54,54)\"/></svg><svg viewBox='0 0 430 430' id=\"svg\" width=\"172\" height=\"172\"><circle cx=\"215\" cy=\"215\" r=\"205\" fill=\"none\" stroke=\"black\" stroke-width=\"2\" stroke-dasharray=\"3,3\"/> <circle cx=\"371\" cy=\"296\" r=\"8\" fill=\"rgb(255,255,255)\" class=\"agent_0_10\"/><circle cx=\"407\" cy=\"218\" r=\"12\" fill=\"rgb(255,255,255)\" class=\"agent_0_18\"/><circle cx=\"173\" cy=\"219\" r=\"9\" fill=\"rgb(255,255,255)\" class=\"agent_0_24\"/><circle cx=\"264\" cy=\"139\" r=\"12\" fill=\"rgb(255,255,255)\" class=\"agent_0_27\"/><circle cx=\"258\" cy=\"375\" r=\"7\" fill=\"rgb(255,255,255)\" class=\"agent_0_51\"/><circle cx=\"122\" cy=\"368\" r=\"8\" fill=\"rgb(255,255,255)\" class=\"agent_0_61\"/><circle cx=\"112\" cy=\"334\" r=\"9\" fill=\"rgb(255,255,255)\" class=\"agent_0_75\"/></svg><svg viewBox='0 0 430 430' id=\"svg\" width=\"172\" height=\"172\"><circle cx=\"215\" cy=\"215\" r=\"205\" fill=\"none\" stroke=\"black\" stroke-width=\"2\" stroke-dasharray=\"3,3\"/> <circle cx=\"371\" cy=\"296\" r=\"8\" fill=\"rgb(255,255,255)\" class=\"agent_0_10\"/><circle cx=\"407\" cy=\"218\" r=\"12\" fill=\"rgb(255,255,255)\" class=\"agent_0_18\"/><circle cx=\"173\" cy=\"219\" r=\"9\" fill=\"rgb(255,0,0)\" class=\"agent_0_24\"/><circle cx=\"264\" cy=\"139\" r=\"12\" fill=\"rgb(255,255,255)\" class=\"agent_0_27\"/><circle cx=\"258\" cy=\"375\" r=\"7\" fill=\"rgb(255,255,255)\" class=\"agent_0_51\"/><circle cx=\"122\" cy=\"368\" r=\"8\" fill=\"rgb(255,255,255)\" class=\"agent_0_61\"/><circle cx=\"112\" cy=\"334\" r=\"9\" fill=\"rgb(255,0,0)\" class=\"agent_0_75\"/></svg><svg viewBox='0 0 430 430' id=\"svg\" width=\"172\" height=\"172\"><circle cx=\"215\" cy=\"215\" r=\"205\" fill=\"none\" stroke=\"black\" stroke-width=\"2\" stroke-dasharray=\"3,3\"/> <circle cx=\"371\" cy=\"296\" r=\"8\" fill=\"rgb(255,255,255)\" class=\"agent_0_10\"/><circle cx=\"407\" cy=\"218\" r=\"12\" fill=\"rgb(255,255,255)\" class=\"agent_0_18\"/><circle cx=\"173\" cy=\"219\" r=\"9\" fill=\"rgb(255,255,255)\" class=\"agent_0_24\"/><circle cx=\"264\" cy=\"139\" r=\"12\" fill=\"rgb(255,255,255)\" class=\"agent_0_27\"/><circle cx=\"258\" cy=\"375\" r=\"7\" fill=\"rgb(255,255,255)\" class=\"agent_0_51\"/><circle cx=\"122\" cy=\"368\" r=\"8\" fill=\"rgb(255,0,0)\" class=\"agent_0_61\"/><circle cx=\"112\" cy=\"334\" r=\"9\" fill=\"rgb(255,255,255)\" class=\"agent_0_75\"/></svg><svg viewBox='0 0 430 430' id=\"svg\" width=\"172\" height=\"172\"><circle cx=\"215\" cy=\"215\" r=\"205\" fill=\"none\" stroke=\"black\" stroke-width=\"2\" stroke-dasharray=\"3,3\"/> <circle cx=\"371\" cy=\"296\" r=\"8\" fill=\"rgb(255,255,255)\" class=\"agent_0_10\"/><circle cx=\"407\" cy=\"218\" r=\"12\" fill=\"rgb(255,255,255)\" class=\"agent_0_18\"/><circle cx=\"173\" cy=\"219\" r=\"9\" fill=\"rgb(255,255,255)\" class=\"agent_0_24\"/><circle cx=\"264\" cy=\"139\" r=\"12\" fill=\"rgb(255,255,255)\" class=\"agent_0_27\"/><circle cx=\"258\" cy=\"375\" r=\"7\" fill=\"rgb(255,255,255)\" class=\"agent_0_51\"/><circle cx=\"122\" cy=\"368\" r=\"8\" fill=\"rgb(255,255,255)\" class=\"agent_0_61\"/><circle cx=\"112\" cy=\"334\" r=\"9\" fill=\"rgb(255,0,0)\" class=\"agent_0_75\"/></svg><svg viewBox='0 0 430 430' id=\"svg\" width=\"172\" height=\"172\"><circle cx=\"215\" cy=\"215\" r=\"205\" fill=\"none\" stroke=\"black\" stroke-width=\"2\" stroke-dasharray=\"3,3\"/> <circle cx=\"371\" cy=\"296\" r=\"8\" fill=\"rgb(255,255,255)\" class=\"agent_0_10\"/><circle cx=\"407\" cy=\"218\" r=\"12\" fill=\"rgb(255,255,255)\" class=\"agent_0_18\"/><circle cx=\"173\" cy=\"219\" r=\"9\" fill=\"rgb(255,255,255)\" class=\"agent_0_24\"/><circle cx=\"264\" cy=\"139\" r=\"12\" fill=\"rgb(255,255,255)\" class=\"agent_0_27\"/><circle cx=\"258\" cy=\"375\" r=\"7\" fill=\"rgb(255,255,255)\" class=\"agent_0_51\"/><circle cx=\"122\" cy=\"368\" r=\"8\" fill=\"rgb(255,0,0)\" class=\"agent_0_61\"/><circle cx=\"112\" cy=\"334\" r=\"9\" fill=\"rgb(255,255,255)\" class=\"agent_0_75\"/></svg><svg viewBox='0 0 430 430' id=\"svg\" width=\"172\" height=\"172\"><circle cx=\"215\" cy=\"215\" r=\"205\" fill=\"none\" stroke=\"black\" stroke-width=\"2\" stroke-dasharray=\"3,3\"/> <circle cx=\"371\" cy=\"296\" r=\"8\" fill=\"rgb(255,255,255)\" class=\"agent_0_10\"/><circle cx=\"407\" cy=\"218\" r=\"12\" fill=\"rgb(255,255,255)\" class=\"agent_0_18\"/><circle cx=\"173\" cy=\"219\" r=\"9\" fill=\"rgb(255,255,255)\" class=\"agent_0_24\"/><circle cx=\"264\" cy=\"139\" r=\"12\" fill=\"rgb(255,255,255)\" class=\"agent_0_27\"/><circle cx=\"258\" cy=\"375\" r=\"7\" fill=\"rgb(255,255,255)\" class=\"agent_0_51\"/><circle cx=\"122\" cy=\"368\" r=\"8\" fill=\"rgb(255,255,255)\" class=\"agent_0_61\"/><circle cx=\"112\" cy=\"334\" r=\"9\" fill=\"rgb(255,0,0)\" class=\"agent_0_75\"/></svg></div>"
      ],
      "text/plain": [
       "<IPython.core.display.HTML object>"
      ]
     },
     "metadata": {},
     "output_type": "display_data"
    },
    {
     "name": "stdout",
     "output_type": "stream",
     "text": [
      "to_mention_true\n"
     ]
    },
    {
     "data": {
      "text/html": [
       "<div style=\"white-space: nowrap\"><svg viewbox='0 0 430 430' width=\"172\" height=\"172\" id=\"agent_0\"><circle cx=\"215\" cy=\"215\" r=\"205\" fill=\"none\" stroke=\"black\" stroke-width=\"2\" stroke-dasharray=\"3,3\"/><circle cx=\"371\" cy=\"296\" r=\"8\" fill=\"rgb(199,199,199)\"/><circle cx=\"407\" cy=\"218\" r=\"12\" fill=\"rgb(201,201,201)\"/><circle cx=\"173\" cy=\"219\" r=\"9\" fill=\"rgb(58,58,58)\"/><circle cx=\"264\" cy=\"139\" r=\"12\" fill=\"rgb(131,131,131)\"/><circle cx=\"258\" cy=\"375\" r=\"7\" fill=\"rgb(116,116,116)\"/><circle cx=\"122\" cy=\"368\" r=\"8\" fill=\"rgb(198,198,198)\"/><circle cx=\"112\" cy=\"334\" r=\"9\" fill=\"rgb(54,54,54)\"/></svg><svg viewBox='0 0 430 430' id=\"svg\" width=\"172\" height=\"172\"><circle cx=\"215\" cy=\"215\" r=\"205\" fill=\"none\" stroke=\"black\" stroke-width=\"2\" stroke-dasharray=\"3,3\"/> <circle cx=\"371\" cy=\"296\" r=\"8\" fill=\"rgb(255,255,255)\" class=\"agent_0_10\"/><circle cx=\"407\" cy=\"218\" r=\"12\" fill=\"rgb(255,255,255)\" class=\"agent_0_18\"/><circle cx=\"173\" cy=\"219\" r=\"9\" fill=\"rgb(255,255,255)\" class=\"agent_0_24\"/><circle cx=\"264\" cy=\"139\" r=\"12\" fill=\"rgb(255,255,255)\" class=\"agent_0_27\"/><circle cx=\"258\" cy=\"375\" r=\"7\" fill=\"rgb(255,255,255)\" class=\"agent_0_51\"/><circle cx=\"122\" cy=\"368\" r=\"8\" fill=\"rgb(255,255,255)\" class=\"agent_0_61\"/><circle cx=\"112\" cy=\"334\" r=\"9\" fill=\"rgb(255,0,0)\" class=\"agent_0_75\"/></svg><svg viewBox='0 0 430 430' id=\"svg\" width=\"172\" height=\"172\"><circle cx=\"215\" cy=\"215\" r=\"205\" fill=\"none\" stroke=\"black\" stroke-width=\"2\" stroke-dasharray=\"3,3\"/> <circle cx=\"371\" cy=\"296\" r=\"8\" fill=\"rgb(255,255,255)\" class=\"agent_0_10\"/><circle cx=\"407\" cy=\"218\" r=\"12\" fill=\"rgb(255,255,255)\" class=\"agent_0_18\"/><circle cx=\"173\" cy=\"219\" r=\"9\" fill=\"rgb(255,255,255)\" class=\"agent_0_24\"/><circle cx=\"264\" cy=\"139\" r=\"12\" fill=\"rgb(255,255,255)\" class=\"agent_0_27\"/><circle cx=\"258\" cy=\"375\" r=\"7\" fill=\"rgb(255,255,255)\" class=\"agent_0_51\"/><circle cx=\"122\" cy=\"368\" r=\"8\" fill=\"rgb(255,0,0)\" class=\"agent_0_61\"/><circle cx=\"112\" cy=\"334\" r=\"9\" fill=\"rgb(255,255,255)\" class=\"agent_0_75\"/></svg><svg viewBox='0 0 430 430' id=\"svg\" width=\"172\" height=\"172\"><circle cx=\"215\" cy=\"215\" r=\"205\" fill=\"none\" stroke=\"black\" stroke-width=\"2\" stroke-dasharray=\"3,3\"/> <circle cx=\"371\" cy=\"296\" r=\"8\" fill=\"rgb(255,255,255)\" class=\"agent_0_10\"/><circle cx=\"407\" cy=\"218\" r=\"12\" fill=\"rgb(255,255,255)\" class=\"agent_0_18\"/><circle cx=\"173\" cy=\"219\" r=\"9\" fill=\"rgb(255,255,255)\" class=\"agent_0_24\"/><circle cx=\"264\" cy=\"139\" r=\"12\" fill=\"rgb(255,255,255)\" class=\"agent_0_27\"/><circle cx=\"258\" cy=\"375\" r=\"7\" fill=\"rgb(255,255,255)\" class=\"agent_0_51\"/><circle cx=\"122\" cy=\"368\" r=\"8\" fill=\"rgb(255,255,255)\" class=\"agent_0_61\"/><circle cx=\"112\" cy=\"334\" r=\"9\" fill=\"rgb(255,0,0)\" class=\"agent_0_75\"/></svg></div>"
      ],
      "text/plain": [
       "<IPython.core.display.HTML object>"
      ]
     },
     "metadata": {},
     "output_type": "display_data"
    },
    {
     "name": "stdout",
     "output_type": "stream",
     "text": [
      "beam 0\ti have a black dot with a small light grey dot to the right of it <eos>\n",
      "greedy\ti have a black dot with a small light grey dot to the right of it <eos>\n",
      "human\ti have a medium sized black dot with a lighter and slightly smaller dot below and to the right of it <eos>\n",
      "refs_pred\n"
     ]
    },
    {
     "data": {
      "text/html": [
       "<div style=\"white-space: nowrap\"><svg viewbox='0 0 430 430' width=\"172\" height=\"172\" id=\"agent_0\"><circle cx=\"215\" cy=\"215\" r=\"205\" fill=\"none\" stroke=\"black\" stroke-width=\"2\" stroke-dasharray=\"3,3\"/><circle cx=\"371\" cy=\"296\" r=\"8\" fill=\"rgb(199,199,199)\"/><circle cx=\"407\" cy=\"218\" r=\"12\" fill=\"rgb(201,201,201)\"/><circle cx=\"173\" cy=\"219\" r=\"9\" fill=\"rgb(58,58,58)\"/><circle cx=\"264\" cy=\"139\" r=\"12\" fill=\"rgb(131,131,131)\"/><circle cx=\"258\" cy=\"375\" r=\"7\" fill=\"rgb(116,116,116)\"/><circle cx=\"122\" cy=\"368\" r=\"8\" fill=\"rgb(198,198,198)\"/><circle cx=\"112\" cy=\"334\" r=\"9\" fill=\"rgb(54,54,54)\"/></svg><svg viewBox='0 0 430 430' id=\"svg\" width=\"172\" height=\"172\"><circle cx=\"215\" cy=\"215\" r=\"205\" fill=\"none\" stroke=\"black\" stroke-width=\"2\" stroke-dasharray=\"3,3\"/> <circle cx=\"371\" cy=\"296\" r=\"8\" fill=\"rgb(255,255,255)\" class=\"agent_0_10\"/><circle cx=\"407\" cy=\"218\" r=\"12\" fill=\"rgb(255,255,255)\" class=\"agent_0_18\"/><circle cx=\"173\" cy=\"219\" r=\"9\" fill=\"rgb(255,255,255)\" class=\"agent_0_24\"/><circle cx=\"264\" cy=\"139\" r=\"12\" fill=\"rgb(255,255,255)\" class=\"agent_0_27\"/><circle cx=\"258\" cy=\"375\" r=\"7\" fill=\"rgb(255,255,255)\" class=\"agent_0_51\"/><circle cx=\"122\" cy=\"368\" r=\"8\" fill=\"rgb(255,255,255)\" class=\"agent_0_61\"/><circle cx=\"112\" cy=\"334\" r=\"9\" fill=\"rgb(255,0,0)\" class=\"agent_0_75\"/></svg><svg viewBox='0 0 430 430' id=\"svg\" width=\"172\" height=\"172\"><circle cx=\"215\" cy=\"215\" r=\"205\" fill=\"none\" stroke=\"black\" stroke-width=\"2\" stroke-dasharray=\"3,3\"/> <circle cx=\"371\" cy=\"296\" r=\"8\" fill=\"rgb(255,255,255)\" class=\"agent_0_10\"/><circle cx=\"407\" cy=\"218\" r=\"12\" fill=\"rgb(255,255,255)\" class=\"agent_0_18\"/><circle cx=\"173\" cy=\"219\" r=\"9\" fill=\"rgb(255,255,255)\" class=\"agent_0_24\"/><circle cx=\"264\" cy=\"139\" r=\"12\" fill=\"rgb(255,255,255)\" class=\"agent_0_27\"/><circle cx=\"258\" cy=\"375\" r=\"7\" fill=\"rgb(255,255,255)\" class=\"agent_0_51\"/><circle cx=\"122\" cy=\"368\" r=\"8\" fill=\"rgb(255,0,0)\" class=\"agent_0_61\"/><circle cx=\"112\" cy=\"334\" r=\"9\" fill=\"rgb(255,255,255)\" class=\"agent_0_75\"/></svg><svg viewBox='0 0 430 430' id=\"svg\" width=\"172\" height=\"172\"><circle cx=\"215\" cy=\"215\" r=\"205\" fill=\"none\" stroke=\"black\" stroke-width=\"2\" stroke-dasharray=\"3,3\"/> <circle cx=\"371\" cy=\"296\" r=\"8\" fill=\"rgb(255,255,255)\" class=\"agent_0_10\"/><circle cx=\"407\" cy=\"218\" r=\"12\" fill=\"rgb(255,255,255)\" class=\"agent_0_18\"/><circle cx=\"173\" cy=\"219\" r=\"9\" fill=\"rgb(255,255,255)\" class=\"agent_0_24\"/><circle cx=\"264\" cy=\"139\" r=\"12\" fill=\"rgb(255,255,255)\" class=\"agent_0_27\"/><circle cx=\"258\" cy=\"375\" r=\"7\" fill=\"rgb(255,255,255)\" class=\"agent_0_51\"/><circle cx=\"122\" cy=\"368\" r=\"8\" fill=\"rgb(255,255,255)\" class=\"agent_0_61\"/><circle cx=\"112\" cy=\"334\" r=\"9\" fill=\"rgb(255,0,0)\" class=\"agent_0_75\"/></svg></div>"
      ],
      "text/plain": [
       "<IPython.core.display.HTML object>"
      ]
     },
     "metadata": {},
     "output_type": "display_data"
    },
    {
     "name": "stdout",
     "output_type": "stream",
     "text": [
      "refs_true\n"
     ]
    },
    {
     "data": {
      "text/html": [
       "<div style=\"white-space: nowrap\"><svg viewbox='0 0 430 430' width=\"172\" height=\"172\" id=\"agent_0\"><circle cx=\"215\" cy=\"215\" r=\"205\" fill=\"none\" stroke=\"black\" stroke-width=\"2\" stroke-dasharray=\"3,3\"/><circle cx=\"371\" cy=\"296\" r=\"8\" fill=\"rgb(199,199,199)\"/><circle cx=\"407\" cy=\"218\" r=\"12\" fill=\"rgb(201,201,201)\"/><circle cx=\"173\" cy=\"219\" r=\"9\" fill=\"rgb(58,58,58)\"/><circle cx=\"264\" cy=\"139\" r=\"12\" fill=\"rgb(131,131,131)\"/><circle cx=\"258\" cy=\"375\" r=\"7\" fill=\"rgb(116,116,116)\"/><circle cx=\"122\" cy=\"368\" r=\"8\" fill=\"rgb(198,198,198)\"/><circle cx=\"112\" cy=\"334\" r=\"9\" fill=\"rgb(54,54,54)\"/></svg><svg viewBox='0 0 430 430' id=\"svg\" width=\"172\" height=\"172\"><circle cx=\"215\" cy=\"215\" r=\"205\" fill=\"none\" stroke=\"black\" stroke-width=\"2\" stroke-dasharray=\"3,3\"/> <circle cx=\"371\" cy=\"296\" r=\"8\" fill=\"rgb(255,255,255)\" class=\"agent_0_10\"/><circle cx=\"407\" cy=\"218\" r=\"12\" fill=\"rgb(255,255,255)\" class=\"agent_0_18\"/><circle cx=\"173\" cy=\"219\" r=\"9\" fill=\"rgb(255,255,255)\" class=\"agent_0_24\"/><circle cx=\"264\" cy=\"139\" r=\"12\" fill=\"rgb(255,255,255)\" class=\"agent_0_27\"/><circle cx=\"258\" cy=\"375\" r=\"7\" fill=\"rgb(255,255,255)\" class=\"agent_0_51\"/><circle cx=\"122\" cy=\"368\" r=\"8\" fill=\"rgb(255,255,255)\" class=\"agent_0_61\"/><circle cx=\"112\" cy=\"334\" r=\"9\" fill=\"rgb(255,0,0)\" class=\"agent_0_75\"/></svg><svg viewBox='0 0 430 430' id=\"svg\" width=\"172\" height=\"172\"><circle cx=\"215\" cy=\"215\" r=\"205\" fill=\"none\" stroke=\"black\" stroke-width=\"2\" stroke-dasharray=\"3,3\"/> <circle cx=\"371\" cy=\"296\" r=\"8\" fill=\"rgb(255,255,255)\" class=\"agent_0_10\"/><circle cx=\"407\" cy=\"218\" r=\"12\" fill=\"rgb(255,255,255)\" class=\"agent_0_18\"/><circle cx=\"173\" cy=\"219\" r=\"9\" fill=\"rgb(255,255,255)\" class=\"agent_0_24\"/><circle cx=\"264\" cy=\"139\" r=\"12\" fill=\"rgb(255,255,255)\" class=\"agent_0_27\"/><circle cx=\"258\" cy=\"375\" r=\"7\" fill=\"rgb(255,255,255)\" class=\"agent_0_51\"/><circle cx=\"122\" cy=\"368\" r=\"8\" fill=\"rgb(255,0,0)\" class=\"agent_0_61\"/><circle cx=\"112\" cy=\"334\" r=\"9\" fill=\"rgb(255,255,255)\" class=\"agent_0_75\"/></svg><svg viewBox='0 0 430 430' id=\"svg\" width=\"172\" height=\"172\"><circle cx=\"215\" cy=\"215\" r=\"205\" fill=\"none\" stroke=\"black\" stroke-width=\"2\" stroke-dasharray=\"3,3\"/> <circle cx=\"371\" cy=\"296\" r=\"8\" fill=\"rgb(255,255,255)\" class=\"agent_0_10\"/><circle cx=\"407\" cy=\"218\" r=\"12\" fill=\"rgb(255,255,255)\" class=\"agent_0_18\"/><circle cx=\"173\" cy=\"219\" r=\"9\" fill=\"rgb(255,255,255)\" class=\"agent_0_24\"/><circle cx=\"264\" cy=\"139\" r=\"12\" fill=\"rgb(255,255,255)\" class=\"agent_0_27\"/><circle cx=\"258\" cy=\"375\" r=\"7\" fill=\"rgb(255,255,255)\" class=\"agent_0_51\"/><circle cx=\"122\" cy=\"368\" r=\"8\" fill=\"rgb(255,255,255)\" class=\"agent_0_61\"/><circle cx=\"112\" cy=\"334\" r=\"9\" fill=\"rgb(255,0,0)\" class=\"agent_0_75\"/></svg></div>"
      ],
      "text/plain": [
       "<IPython.core.display.HTML object>"
      ]
     },
     "metadata": {},
     "output_type": "display_data"
    },
    {
     "name": "stdout",
     "output_type": "stream",
     "text": [
      "utt: i have a medium sized black dot with a lighter and slightly smaller dot below and to the right of it <eos>\n",
      "detected markables:\n",
      "({'start': 10, 'end': 34, 'is_self': True, 'text': 'a medium sized black dot'}, (3, 7, 8))\n",
      "({'start': 40, 'end': 74, 'is_self': True, 'text': 'a lighter and slightly smaller dot'}, (9, 14, 15))\n",
      "({'start': 101, 'end': 103, 'is_self': True, 'text': 'it'}, (21, 21, 22))\n",
      "\n",
      "----------------------------------------\n",
      "\n",
      "human\tTHEM: do you have black dot at north ? <eos>\n",
      "partner_refs_pred\n"
     ]
    },
    {
     "data": {
      "text/html": [
       "<div style=\"white-space: nowrap\"><svg viewbox='0 0 430 430' width=\"172\" height=\"172\" id=\"agent_0\"><circle cx=\"215\" cy=\"215\" r=\"205\" fill=\"none\" stroke=\"black\" stroke-width=\"2\" stroke-dasharray=\"3,3\"/><circle cx=\"371\" cy=\"296\" r=\"8\" fill=\"rgb(199,199,199)\"/><circle cx=\"407\" cy=\"218\" r=\"12\" fill=\"rgb(201,201,201)\"/><circle cx=\"173\" cy=\"219\" r=\"9\" fill=\"rgb(58,58,58)\"/><circle cx=\"264\" cy=\"139\" r=\"12\" fill=\"rgb(131,131,131)\"/><circle cx=\"258\" cy=\"375\" r=\"7\" fill=\"rgb(116,116,116)\"/><circle cx=\"122\" cy=\"368\" r=\"8\" fill=\"rgb(198,198,198)\"/><circle cx=\"112\" cy=\"334\" r=\"9\" fill=\"rgb(54,54,54)\"/></svg><svg viewBox='0 0 430 430' id=\"svg\" width=\"172\" height=\"172\"><circle cx=\"215\" cy=\"215\" r=\"205\" fill=\"none\" stroke=\"black\" stroke-width=\"2\" stroke-dasharray=\"3,3\"/> <circle cx=\"371\" cy=\"296\" r=\"8\" fill=\"rgb(255,255,255)\" class=\"agent_0_10\"/><circle cx=\"407\" cy=\"218\" r=\"12\" fill=\"rgb(255,255,255)\" class=\"agent_0_18\"/><circle cx=\"173\" cy=\"219\" r=\"9\" fill=\"rgb(255,0,0)\" class=\"agent_0_24\"/><circle cx=\"264\" cy=\"139\" r=\"12\" fill=\"rgb(255,255,255)\" class=\"agent_0_27\"/><circle cx=\"258\" cy=\"375\" r=\"7\" fill=\"rgb(255,255,255)\" class=\"agent_0_51\"/><circle cx=\"122\" cy=\"368\" r=\"8\" fill=\"rgb(255,255,255)\" class=\"agent_0_61\"/><circle cx=\"112\" cy=\"334\" r=\"9\" fill=\"rgb(255,255,255)\" class=\"agent_0_75\"/></svg></div>"
      ],
      "text/plain": [
       "<IPython.core.display.HTML object>"
      ]
     },
     "metadata": {},
     "output_type": "display_data"
    },
    {
     "name": "stdout",
     "output_type": "stream",
     "text": [
      "partner_refs_true\n"
     ]
    },
    {
     "data": {
      "text/html": [
       "<div style=\"white-space: nowrap\"><svg viewbox='0 0 430 430' width=\"172\" height=\"172\" id=\"agent_0\"><circle cx=\"215\" cy=\"215\" r=\"205\" fill=\"none\" stroke=\"black\" stroke-width=\"2\" stroke-dasharray=\"3,3\"/><circle cx=\"371\" cy=\"296\" r=\"8\" fill=\"rgb(199,199,199)\"/><circle cx=\"407\" cy=\"218\" r=\"12\" fill=\"rgb(201,201,201)\"/><circle cx=\"173\" cy=\"219\" r=\"9\" fill=\"rgb(58,58,58)\"/><circle cx=\"264\" cy=\"139\" r=\"12\" fill=\"rgb(131,131,131)\"/><circle cx=\"258\" cy=\"375\" r=\"7\" fill=\"rgb(116,116,116)\"/><circle cx=\"122\" cy=\"368\" r=\"8\" fill=\"rgb(198,198,198)\"/><circle cx=\"112\" cy=\"334\" r=\"9\" fill=\"rgb(54,54,54)\"/></svg><svg viewBox='0 0 430 430' id=\"svg\" width=\"172\" height=\"172\"><circle cx=\"215\" cy=\"215\" r=\"205\" fill=\"none\" stroke=\"black\" stroke-width=\"2\" stroke-dasharray=\"3,3\"/> <circle cx=\"371\" cy=\"296\" r=\"8\" fill=\"rgb(255,255,255)\" class=\"agent_0_10\"/><circle cx=\"407\" cy=\"218\" r=\"12\" fill=\"rgb(255,255,255)\" class=\"agent_0_18\"/><circle cx=\"173\" cy=\"219\" r=\"9\" fill=\"rgb(255,0,0)\" class=\"agent_0_24\"/><circle cx=\"264\" cy=\"139\" r=\"12\" fill=\"rgb(255,255,255)\" class=\"agent_0_27\"/><circle cx=\"258\" cy=\"375\" r=\"7\" fill=\"rgb(255,255,255)\" class=\"agent_0_51\"/><circle cx=\"122\" cy=\"368\" r=\"8\" fill=\"rgb(255,255,255)\" class=\"agent_0_61\"/><circle cx=\"112\" cy=\"334\" r=\"9\" fill=\"rgb(255,255,255)\" class=\"agent_0_75\"/></svg></div>"
      ],
      "text/plain": [
       "<IPython.core.display.HTML object>"
      ]
     },
     "metadata": {},
     "output_type": "display_data"
    },
    {
     "name": "stdout",
     "output_type": "stream",
     "text": [
      "utt: do you have black dot at north ? <eos>\n",
      "detected markables:\n",
      "({'start': 15, 'end': 24, 'is_self': True, 'text': 'black dot'}, (4, 5, 6))\n",
      "\n",
      "----------------------------------------\n",
      "\n",
      "beam 0\tyes <eos>\n",
      "greedy\tyes <eos>\n",
      "human\tour <unk> are different . your north could be my south <eos>\n",
      "utt: our <unk> are different . your north could be my south <eos>\n",
      "detected markables:\n",
      "\n",
      "----------------------------------------\n",
      "\n",
      "human\tTHEM: i have medium size black with smaller gray to its lower right <eos>\n",
      "partner_refs_pred\n"
     ]
    },
    {
     "data": {
      "text/html": [
       "<div style=\"white-space: nowrap\"><svg viewbox='0 0 430 430' width=\"172\" height=\"172\" id=\"agent_0\"><circle cx=\"215\" cy=\"215\" r=\"205\" fill=\"none\" stroke=\"black\" stroke-width=\"2\" stroke-dasharray=\"3,3\"/><circle cx=\"371\" cy=\"296\" r=\"8\" fill=\"rgb(199,199,199)\"/><circle cx=\"407\" cy=\"218\" r=\"12\" fill=\"rgb(201,201,201)\"/><circle cx=\"173\" cy=\"219\" r=\"9\" fill=\"rgb(58,58,58)\"/><circle cx=\"264\" cy=\"139\" r=\"12\" fill=\"rgb(131,131,131)\"/><circle cx=\"258\" cy=\"375\" r=\"7\" fill=\"rgb(116,116,116)\"/><circle cx=\"122\" cy=\"368\" r=\"8\" fill=\"rgb(198,198,198)\"/><circle cx=\"112\" cy=\"334\" r=\"9\" fill=\"rgb(54,54,54)\"/></svg><svg viewBox='0 0 430 430' id=\"svg\" width=\"172\" height=\"172\"><circle cx=\"215\" cy=\"215\" r=\"205\" fill=\"none\" stroke=\"black\" stroke-width=\"2\" stroke-dasharray=\"3,3\"/> <circle cx=\"371\" cy=\"296\" r=\"8\" fill=\"rgb(255,255,255)\" class=\"agent_0_10\"/><circle cx=\"407\" cy=\"218\" r=\"12\" fill=\"rgb(255,255,255)\" class=\"agent_0_18\"/><circle cx=\"173\" cy=\"219\" r=\"9\" fill=\"rgb(255,0,0)\" class=\"agent_0_24\"/><circle cx=\"264\" cy=\"139\" r=\"12\" fill=\"rgb(255,255,255)\" class=\"agent_0_27\"/><circle cx=\"258\" cy=\"375\" r=\"7\" fill=\"rgb(255,255,255)\" class=\"agent_0_51\"/><circle cx=\"122\" cy=\"368\" r=\"8\" fill=\"rgb(255,255,255)\" class=\"agent_0_61\"/><circle cx=\"112\" cy=\"334\" r=\"9\" fill=\"rgb(255,255,255)\" class=\"agent_0_75\"/></svg><svg viewBox='0 0 430 430' id=\"svg\" width=\"172\" height=\"172\"><circle cx=\"215\" cy=\"215\" r=\"205\" fill=\"none\" stroke=\"black\" stroke-width=\"2\" stroke-dasharray=\"3,3\"/> <circle cx=\"371\" cy=\"296\" r=\"8\" fill=\"rgb(255,255,255)\" class=\"agent_0_10\"/><circle cx=\"407\" cy=\"218\" r=\"12\" fill=\"rgb(255,255,255)\" class=\"agent_0_18\"/><circle cx=\"173\" cy=\"219\" r=\"9\" fill=\"rgb(255,255,255)\" class=\"agent_0_24\"/><circle cx=\"264\" cy=\"139\" r=\"12\" fill=\"rgb(255,255,255)\" class=\"agent_0_27\"/><circle cx=\"258\" cy=\"375\" r=\"7\" fill=\"rgb(255,255,255)\" class=\"agent_0_51\"/><circle cx=\"122\" cy=\"368\" r=\"8\" fill=\"rgb(255,255,255)\" class=\"agent_0_61\"/><circle cx=\"112\" cy=\"334\" r=\"9\" fill=\"rgb(255,255,255)\" class=\"agent_0_75\"/></svg><svg viewBox='0 0 430 430' id=\"svg\" width=\"172\" height=\"172\"><circle cx=\"215\" cy=\"215\" r=\"205\" fill=\"none\" stroke=\"black\" stroke-width=\"2\" stroke-dasharray=\"3,3\"/> <circle cx=\"371\" cy=\"296\" r=\"8\" fill=\"rgb(255,255,255)\" class=\"agent_0_10\"/><circle cx=\"407\" cy=\"218\" r=\"12\" fill=\"rgb(255,255,255)\" class=\"agent_0_18\"/><circle cx=\"173\" cy=\"219\" r=\"9\" fill=\"rgb(255,255,255)\" class=\"agent_0_24\"/><circle cx=\"264\" cy=\"139\" r=\"12\" fill=\"rgb(255,255,255)\" class=\"agent_0_27\"/><circle cx=\"258\" cy=\"375\" r=\"7\" fill=\"rgb(255,255,255)\" class=\"agent_0_51\"/><circle cx=\"122\" cy=\"368\" r=\"8\" fill=\"rgb(255,255,255)\" class=\"agent_0_61\"/><circle cx=\"112\" cy=\"334\" r=\"9\" fill=\"rgb(255,255,255)\" class=\"agent_0_75\"/></svg></div>"
      ],
      "text/plain": [
       "<IPython.core.display.HTML object>"
      ]
     },
     "metadata": {},
     "output_type": "display_data"
    },
    {
     "name": "stdout",
     "output_type": "stream",
     "text": [
      "partner_refs_true\n"
     ]
    },
    {
     "data": {
      "text/html": [
       "<div style=\"white-space: nowrap\"><svg viewbox='0 0 430 430' width=\"172\" height=\"172\" id=\"agent_0\"><circle cx=\"215\" cy=\"215\" r=\"205\" fill=\"none\" stroke=\"black\" stroke-width=\"2\" stroke-dasharray=\"3,3\"/><circle cx=\"371\" cy=\"296\" r=\"8\" fill=\"rgb(199,199,199)\"/><circle cx=\"407\" cy=\"218\" r=\"12\" fill=\"rgb(201,201,201)\"/><circle cx=\"173\" cy=\"219\" r=\"9\" fill=\"rgb(58,58,58)\"/><circle cx=\"264\" cy=\"139\" r=\"12\" fill=\"rgb(131,131,131)\"/><circle cx=\"258\" cy=\"375\" r=\"7\" fill=\"rgb(116,116,116)\"/><circle cx=\"122\" cy=\"368\" r=\"8\" fill=\"rgb(198,198,198)\"/><circle cx=\"112\" cy=\"334\" r=\"9\" fill=\"rgb(54,54,54)\"/></svg><svg viewBox='0 0 430 430' id=\"svg\" width=\"172\" height=\"172\"><circle cx=\"215\" cy=\"215\" r=\"205\" fill=\"none\" stroke=\"black\" stroke-width=\"2\" stroke-dasharray=\"3,3\"/> <circle cx=\"371\" cy=\"296\" r=\"8\" fill=\"rgb(255,255,255)\" class=\"agent_0_10\"/><circle cx=\"407\" cy=\"218\" r=\"12\" fill=\"rgb(255,255,255)\" class=\"agent_0_18\"/><circle cx=\"173\" cy=\"219\" r=\"9\" fill=\"rgb(255,255,255)\" class=\"agent_0_24\"/><circle cx=\"264\" cy=\"139\" r=\"12\" fill=\"rgb(255,255,255)\" class=\"agent_0_27\"/><circle cx=\"258\" cy=\"375\" r=\"7\" fill=\"rgb(255,255,255)\" class=\"agent_0_51\"/><circle cx=\"122\" cy=\"368\" r=\"8\" fill=\"rgb(255,255,255)\" class=\"agent_0_61\"/><circle cx=\"112\" cy=\"334\" r=\"9\" fill=\"rgb(255,0,0)\" class=\"agent_0_75\"/></svg><svg viewBox='0 0 430 430' id=\"svg\" width=\"172\" height=\"172\"><circle cx=\"215\" cy=\"215\" r=\"205\" fill=\"none\" stroke=\"black\" stroke-width=\"2\" stroke-dasharray=\"3,3\"/> <circle cx=\"371\" cy=\"296\" r=\"8\" fill=\"rgb(255,255,255)\" class=\"agent_0_10\"/><circle cx=\"407\" cy=\"218\" r=\"12\" fill=\"rgb(255,255,255)\" class=\"agent_0_18\"/><circle cx=\"173\" cy=\"219\" r=\"9\" fill=\"rgb(255,255,255)\" class=\"agent_0_24\"/><circle cx=\"264\" cy=\"139\" r=\"12\" fill=\"rgb(255,255,255)\" class=\"agent_0_27\"/><circle cx=\"258\" cy=\"375\" r=\"7\" fill=\"rgb(255,255,255)\" class=\"agent_0_51\"/><circle cx=\"122\" cy=\"368\" r=\"8\" fill=\"rgb(255,0,0)\" class=\"agent_0_61\"/><circle cx=\"112\" cy=\"334\" r=\"9\" fill=\"rgb(255,255,255)\" class=\"agent_0_75\"/></svg><svg viewBox='0 0 430 430' id=\"svg\" width=\"172\" height=\"172\"><circle cx=\"215\" cy=\"215\" r=\"205\" fill=\"none\" stroke=\"black\" stroke-width=\"2\" stroke-dasharray=\"3,3\"/> <circle cx=\"371\" cy=\"296\" r=\"8\" fill=\"rgb(255,255,255)\" class=\"agent_0_10\"/><circle cx=\"407\" cy=\"218\" r=\"12\" fill=\"rgb(255,255,255)\" class=\"agent_0_18\"/><circle cx=\"173\" cy=\"219\" r=\"9\" fill=\"rgb(255,255,255)\" class=\"agent_0_24\"/><circle cx=\"264\" cy=\"139\" r=\"12\" fill=\"rgb(255,255,255)\" class=\"agent_0_27\"/><circle cx=\"258\" cy=\"375\" r=\"7\" fill=\"rgb(255,255,255)\" class=\"agent_0_51\"/><circle cx=\"122\" cy=\"368\" r=\"8\" fill=\"rgb(255,255,255)\" class=\"agent_0_61\"/><circle cx=\"112\" cy=\"334\" r=\"9\" fill=\"rgb(255,0,0)\" class=\"agent_0_75\"/></svg></div>"
      ],
      "text/plain": [
       "<IPython.core.display.HTML object>"
      ]
     },
     "metadata": {},
     "output_type": "display_data"
    },
    {
     "name": "stdout",
     "output_type": "stream",
     "text": [
      "utt: i have medium size black with smaller gray to its lower right <eos>\n",
      "detected markables:\n",
      "({'start': 10, 'end': 27, 'is_self': True, 'text': 'medium size black'}, (3, 5, 6))\n",
      "({'start': 33, 'end': 45, 'is_self': True, 'text': 'smaller gray'}, (7, 8, 9))\n",
      "({'start': 49, 'end': 52, 'is_self': True, 'text': 'its'}, (10, 10, 11))\n",
      "\n",
      "----------------------------------------\n",
      "\n",
      "to_mention_pred\n"
     ]
    },
    {
     "data": {
      "text/html": [
       "<div style=\"white-space: nowrap\"><svg viewbox='0 0 430 430' width=\"172\" height=\"172\" id=\"agent_0\"><circle cx=\"215\" cy=\"215\" r=\"205\" fill=\"none\" stroke=\"black\" stroke-width=\"2\" stroke-dasharray=\"3,3\"/><circle cx=\"371\" cy=\"296\" r=\"8\" fill=\"rgb(199,199,199)\"/><circle cx=\"407\" cy=\"218\" r=\"12\" fill=\"rgb(201,201,201)\"/><circle cx=\"173\" cy=\"219\" r=\"9\" fill=\"rgb(58,58,58)\"/><circle cx=\"264\" cy=\"139\" r=\"12\" fill=\"rgb(131,131,131)\"/><circle cx=\"258\" cy=\"375\" r=\"7\" fill=\"rgb(116,116,116)\"/><circle cx=\"122\" cy=\"368\" r=\"8\" fill=\"rgb(198,198,198)\"/><circle cx=\"112\" cy=\"334\" r=\"9\" fill=\"rgb(54,54,54)\"/></svg><svg viewBox='0 0 430 430' id=\"svg\" width=\"172\" height=\"172\"><circle cx=\"215\" cy=\"215\" r=\"205\" fill=\"none\" stroke=\"black\" stroke-width=\"2\" stroke-dasharray=\"3,3\"/> <circle cx=\"371\" cy=\"296\" r=\"8\" fill=\"rgb(255,255,255)\" class=\"agent_0_10\"/><circle cx=\"407\" cy=\"218\" r=\"12\" fill=\"rgb(255,255,255)\" class=\"agent_0_18\"/><circle cx=\"173\" cy=\"219\" r=\"9\" fill=\"rgb(255,255,255)\" class=\"agent_0_24\"/><circle cx=\"264\" cy=\"139\" r=\"12\" fill=\"rgb(255,255,255)\" class=\"agent_0_27\"/><circle cx=\"258\" cy=\"375\" r=\"7\" fill=\"rgb(255,255,255)\" class=\"agent_0_51\"/><circle cx=\"122\" cy=\"368\" r=\"8\" fill=\"rgb(255,255,255)\" class=\"agent_0_61\"/><circle cx=\"112\" cy=\"334\" r=\"9\" fill=\"rgb(255,255,255)\" class=\"agent_0_75\"/></svg></div>"
      ],
      "text/plain": [
       "<IPython.core.display.HTML object>"
      ]
     },
     "metadata": {},
     "output_type": "display_data"
    },
    {
     "name": "stdout",
     "output_type": "stream",
     "text": [
      "to_mention_true\n"
     ]
    },
    {
     "data": {
      "text/html": [
       "<div style=\"white-space: nowrap\"><svg viewbox='0 0 430 430' width=\"172\" height=\"172\" id=\"agent_0\"><circle cx=\"215\" cy=\"215\" r=\"205\" fill=\"none\" stroke=\"black\" stroke-width=\"2\" stroke-dasharray=\"3,3\"/><circle cx=\"371\" cy=\"296\" r=\"8\" fill=\"rgb(199,199,199)\"/><circle cx=\"407\" cy=\"218\" r=\"12\" fill=\"rgb(201,201,201)\"/><circle cx=\"173\" cy=\"219\" r=\"9\" fill=\"rgb(58,58,58)\"/><circle cx=\"264\" cy=\"139\" r=\"12\" fill=\"rgb(131,131,131)\"/><circle cx=\"258\" cy=\"375\" r=\"7\" fill=\"rgb(116,116,116)\"/><circle cx=\"122\" cy=\"368\" r=\"8\" fill=\"rgb(198,198,198)\"/><circle cx=\"112\" cy=\"334\" r=\"9\" fill=\"rgb(54,54,54)\"/></svg><svg viewBox='0 0 430 430' id=\"svg\" width=\"172\" height=\"172\"><circle cx=\"215\" cy=\"215\" r=\"205\" fill=\"none\" stroke=\"black\" stroke-width=\"2\" stroke-dasharray=\"3,3\"/> <circle cx=\"371\" cy=\"296\" r=\"8\" fill=\"rgb(255,255,255)\" class=\"agent_0_10\"/><circle cx=\"407\" cy=\"218\" r=\"12\" fill=\"rgb(255,255,255)\" class=\"agent_0_18\"/><circle cx=\"173\" cy=\"219\" r=\"9\" fill=\"rgb(255,255,255)\" class=\"agent_0_24\"/><circle cx=\"264\" cy=\"139\" r=\"12\" fill=\"rgb(255,255,255)\" class=\"agent_0_27\"/><circle cx=\"258\" cy=\"375\" r=\"7\" fill=\"rgb(255,255,255)\" class=\"agent_0_51\"/><circle cx=\"122\" cy=\"368\" r=\"8\" fill=\"rgb(255,0,0)\" class=\"agent_0_61\"/><circle cx=\"112\" cy=\"334\" r=\"9\" fill=\"rgb(255,0,0)\" class=\"agent_0_75\"/></svg><svg viewBox='0 0 430 430' id=\"svg\" width=\"172\" height=\"172\"><circle cx=\"215\" cy=\"215\" r=\"205\" fill=\"none\" stroke=\"black\" stroke-width=\"2\" stroke-dasharray=\"3,3\"/> <circle cx=\"371\" cy=\"296\" r=\"8\" fill=\"rgb(255,255,255)\" class=\"agent_0_10\"/><circle cx=\"407\" cy=\"218\" r=\"12\" fill=\"rgb(255,255,255)\" class=\"agent_0_18\"/><circle cx=\"173\" cy=\"219\" r=\"9\" fill=\"rgb(255,255,255)\" class=\"agent_0_24\"/><circle cx=\"264\" cy=\"139\" r=\"12\" fill=\"rgb(255,255,255)\" class=\"agent_0_27\"/><circle cx=\"258\" cy=\"375\" r=\"7\" fill=\"rgb(255,255,255)\" class=\"agent_0_51\"/><circle cx=\"122\" cy=\"368\" r=\"8\" fill=\"rgb(255,255,255)\" class=\"agent_0_61\"/><circle cx=\"112\" cy=\"334\" r=\"9\" fill=\"rgb(255,0,0)\" class=\"agent_0_75\"/></svg></div>"
      ],
      "text/plain": [
       "<IPython.core.display.HTML object>"
      ]
     },
     "metadata": {},
     "output_type": "display_data"
    },
    {
     "name": "stdout",
     "output_type": "stream",
     "text": [
      "beam 0\ti see that . let 's pick the black dot . <selection>\n",
      "greedy\ti see that . let 's pick the black dot . <selection>\n",
      "human\tyes . i have the same . let 's pick the black dot <selection>\n",
      "refs_pred\n"
     ]
    },
    {
     "data": {
      "text/html": [
       "<div style=\"white-space: nowrap\"><svg viewbox='0 0 430 430' width=\"172\" height=\"172\" id=\"agent_0\"><circle cx=\"215\" cy=\"215\" r=\"205\" fill=\"none\" stroke=\"black\" stroke-width=\"2\" stroke-dasharray=\"3,3\"/><circle cx=\"371\" cy=\"296\" r=\"8\" fill=\"rgb(199,199,199)\"/><circle cx=\"407\" cy=\"218\" r=\"12\" fill=\"rgb(201,201,201)\"/><circle cx=\"173\" cy=\"219\" r=\"9\" fill=\"rgb(58,58,58)\"/><circle cx=\"264\" cy=\"139\" r=\"12\" fill=\"rgb(131,131,131)\"/><circle cx=\"258\" cy=\"375\" r=\"7\" fill=\"rgb(116,116,116)\"/><circle cx=\"122\" cy=\"368\" r=\"8\" fill=\"rgb(198,198,198)\"/><circle cx=\"112\" cy=\"334\" r=\"9\" fill=\"rgb(54,54,54)\"/></svg><svg viewBox='0 0 430 430' id=\"svg\" width=\"172\" height=\"172\"><circle cx=\"215\" cy=\"215\" r=\"205\" fill=\"none\" stroke=\"black\" stroke-width=\"2\" stroke-dasharray=\"3,3\"/> <circle cx=\"371\" cy=\"296\" r=\"8\" fill=\"rgb(255,255,255)\" class=\"agent_0_10\"/><circle cx=\"407\" cy=\"218\" r=\"12\" fill=\"rgb(255,255,255)\" class=\"agent_0_18\"/><circle cx=\"173\" cy=\"219\" r=\"9\" fill=\"rgb(255,255,255)\" class=\"agent_0_24\"/><circle cx=\"264\" cy=\"139\" r=\"12\" fill=\"rgb(255,255,255)\" class=\"agent_0_27\"/><circle cx=\"258\" cy=\"375\" r=\"7\" fill=\"rgb(255,255,255)\" class=\"agent_0_51\"/><circle cx=\"122\" cy=\"368\" r=\"8\" fill=\"rgb(255,0,0)\" class=\"agent_0_61\"/><circle cx=\"112\" cy=\"334\" r=\"9\" fill=\"rgb(255,0,0)\" class=\"agent_0_75\"/></svg><svg viewBox='0 0 430 430' id=\"svg\" width=\"172\" height=\"172\"><circle cx=\"215\" cy=\"215\" r=\"205\" fill=\"none\" stroke=\"black\" stroke-width=\"2\" stroke-dasharray=\"3,3\"/> <circle cx=\"371\" cy=\"296\" r=\"8\" fill=\"rgb(255,255,255)\" class=\"agent_0_10\"/><circle cx=\"407\" cy=\"218\" r=\"12\" fill=\"rgb(255,255,255)\" class=\"agent_0_18\"/><circle cx=\"173\" cy=\"219\" r=\"9\" fill=\"rgb(255,255,255)\" class=\"agent_0_24\"/><circle cx=\"264\" cy=\"139\" r=\"12\" fill=\"rgb(255,255,255)\" class=\"agent_0_27\"/><circle cx=\"258\" cy=\"375\" r=\"7\" fill=\"rgb(255,255,255)\" class=\"agent_0_51\"/><circle cx=\"122\" cy=\"368\" r=\"8\" fill=\"rgb(255,255,255)\" class=\"agent_0_61\"/><circle cx=\"112\" cy=\"334\" r=\"9\" fill=\"rgb(255,0,0)\" class=\"agent_0_75\"/></svg></div>"
      ],
      "text/plain": [
       "<IPython.core.display.HTML object>"
      ]
     },
     "metadata": {},
     "output_type": "display_data"
    },
    {
     "name": "stdout",
     "output_type": "stream",
     "text": [
      "refs_true\n"
     ]
    },
    {
     "data": {
      "text/html": [
       "<div style=\"white-space: nowrap\"><svg viewbox='0 0 430 430' width=\"172\" height=\"172\" id=\"agent_0\"><circle cx=\"215\" cy=\"215\" r=\"205\" fill=\"none\" stroke=\"black\" stroke-width=\"2\" stroke-dasharray=\"3,3\"/><circle cx=\"371\" cy=\"296\" r=\"8\" fill=\"rgb(199,199,199)\"/><circle cx=\"407\" cy=\"218\" r=\"12\" fill=\"rgb(201,201,201)\"/><circle cx=\"173\" cy=\"219\" r=\"9\" fill=\"rgb(58,58,58)\"/><circle cx=\"264\" cy=\"139\" r=\"12\" fill=\"rgb(131,131,131)\"/><circle cx=\"258\" cy=\"375\" r=\"7\" fill=\"rgb(116,116,116)\"/><circle cx=\"122\" cy=\"368\" r=\"8\" fill=\"rgb(198,198,198)\"/><circle cx=\"112\" cy=\"334\" r=\"9\" fill=\"rgb(54,54,54)\"/></svg><svg viewBox='0 0 430 430' id=\"svg\" width=\"172\" height=\"172\"><circle cx=\"215\" cy=\"215\" r=\"205\" fill=\"none\" stroke=\"black\" stroke-width=\"2\" stroke-dasharray=\"3,3\"/> <circle cx=\"371\" cy=\"296\" r=\"8\" fill=\"rgb(255,255,255)\" class=\"agent_0_10\"/><circle cx=\"407\" cy=\"218\" r=\"12\" fill=\"rgb(255,255,255)\" class=\"agent_0_18\"/><circle cx=\"173\" cy=\"219\" r=\"9\" fill=\"rgb(255,255,255)\" class=\"agent_0_24\"/><circle cx=\"264\" cy=\"139\" r=\"12\" fill=\"rgb(255,255,255)\" class=\"agent_0_27\"/><circle cx=\"258\" cy=\"375\" r=\"7\" fill=\"rgb(255,255,255)\" class=\"agent_0_51\"/><circle cx=\"122\" cy=\"368\" r=\"8\" fill=\"rgb(255,0,0)\" class=\"agent_0_61\"/><circle cx=\"112\" cy=\"334\" r=\"9\" fill=\"rgb(255,0,0)\" class=\"agent_0_75\"/></svg><svg viewBox='0 0 430 430' id=\"svg\" width=\"172\" height=\"172\"><circle cx=\"215\" cy=\"215\" r=\"205\" fill=\"none\" stroke=\"black\" stroke-width=\"2\" stroke-dasharray=\"3,3\"/> <circle cx=\"371\" cy=\"296\" r=\"8\" fill=\"rgb(255,255,255)\" class=\"agent_0_10\"/><circle cx=\"407\" cy=\"218\" r=\"12\" fill=\"rgb(255,255,255)\" class=\"agent_0_18\"/><circle cx=\"173\" cy=\"219\" r=\"9\" fill=\"rgb(255,255,255)\" class=\"agent_0_24\"/><circle cx=\"264\" cy=\"139\" r=\"12\" fill=\"rgb(255,255,255)\" class=\"agent_0_27\"/><circle cx=\"258\" cy=\"375\" r=\"7\" fill=\"rgb(255,255,255)\" class=\"agent_0_51\"/><circle cx=\"122\" cy=\"368\" r=\"8\" fill=\"rgb(255,255,255)\" class=\"agent_0_61\"/><circle cx=\"112\" cy=\"334\" r=\"9\" fill=\"rgb(255,0,0)\" class=\"agent_0_75\"/></svg></div>"
      ],
      "text/plain": [
       "<IPython.core.display.HTML object>"
      ]
     },
     "metadata": {},
     "output_type": "display_data"
    },
    {
     "name": "stdout",
     "output_type": "stream",
     "text": [
      "utt: yes . i have the same . let 's pick the black dot <selection>\n",
      "detected markables:\n",
      "({'start': 16, 'end': 24, 'is_self': True, 'text': 'the same'}, (5, 6, 7))\n",
      "({'start': 39, 'end': 52, 'is_self': True, 'text': 'the black dot'}, (11, 13, 14))\n",
      "\n",
      "----------------------------------------\n",
      "\n",
      "sel_pred\n"
     ]
    },
    {
     "data": {
      "text/html": [
       "<div style=\"white-space: nowrap\"><svg viewbox='0 0 430 430' width=\"172\" height=\"172\" id=\"agent_0\"><circle cx=\"215\" cy=\"215\" r=\"205\" fill=\"none\" stroke=\"black\" stroke-width=\"2\" stroke-dasharray=\"3,3\"/><circle cx=\"371\" cy=\"296\" r=\"8\" fill=\"rgb(199,199,199)\"/><circle cx=\"407\" cy=\"218\" r=\"12\" fill=\"rgb(201,201,201)\"/><circle cx=\"173\" cy=\"219\" r=\"9\" fill=\"rgb(58,58,58)\"/><circle cx=\"264\" cy=\"139\" r=\"12\" fill=\"rgb(131,131,131)\"/><circle cx=\"258\" cy=\"375\" r=\"7\" fill=\"rgb(116,116,116)\"/><circle cx=\"122\" cy=\"368\" r=\"8\" fill=\"rgb(198,198,198)\"/><circle cx=\"112\" cy=\"334\" r=\"9\" fill=\"rgb(54,54,54)\"/></svg><svg viewBox='0 0 430 430' id=\"svg\" width=\"172\" height=\"172\"><circle cx=\"215\" cy=\"215\" r=\"205\" fill=\"none\" stroke=\"black\" stroke-width=\"2\" stroke-dasharray=\"3,3\"/> <circle cx=\"371\" cy=\"296\" r=\"8\" fill=\"rgb(255,254,254)\" class=\"agent_0_10\"/><circle cx=\"407\" cy=\"218\" r=\"12\" fill=\"rgb(255,254,254)\" class=\"agent_0_18\"/><circle cx=\"173\" cy=\"219\" r=\"9\" fill=\"rgb(255,28,28)\" class=\"agent_0_24\"/><circle cx=\"264\" cy=\"139\" r=\"12\" fill=\"rgb(255,254,254)\" class=\"agent_0_27\"/><circle cx=\"258\" cy=\"375\" r=\"7\" fill=\"rgb(255,249,249)\" class=\"agent_0_51\"/><circle cx=\"122\" cy=\"368\" r=\"8\" fill=\"rgb(255,254,254)\" class=\"agent_0_61\"/><circle cx=\"112\" cy=\"334\" r=\"9\" fill=\"rgb(255,39,39)\" class=\"agent_0_75\"/></svg></div>"
      ],
      "text/plain": [
       "<IPython.core.display.HTML object>"
      ]
     },
     "metadata": {},
     "output_type": "display_data"
    },
    {
     "name": "stdout",
     "output_type": "stream",
     "text": [
      "sel_true\n"
     ]
    },
    {
     "data": {
      "text/html": [
       "<div style=\"white-space: nowrap\"><svg viewbox='0 0 430 430' width=\"172\" height=\"172\" id=\"agent_0\"><circle cx=\"215\" cy=\"215\" r=\"205\" fill=\"none\" stroke=\"black\" stroke-width=\"2\" stroke-dasharray=\"3,3\"/><circle cx=\"371\" cy=\"296\" r=\"8\" fill=\"rgb(199,199,199)\"/><circle cx=\"407\" cy=\"218\" r=\"12\" fill=\"rgb(201,201,201)\"/><circle cx=\"173\" cy=\"219\" r=\"9\" fill=\"rgb(58,58,58)\"/><circle cx=\"264\" cy=\"139\" r=\"12\" fill=\"rgb(131,131,131)\"/><circle cx=\"258\" cy=\"375\" r=\"7\" fill=\"rgb(116,116,116)\"/><circle cx=\"122\" cy=\"368\" r=\"8\" fill=\"rgb(198,198,198)\"/><circle cx=\"112\" cy=\"334\" r=\"9\" fill=\"rgb(54,54,54)\"/></svg><svg viewBox='0 0 430 430' id=\"svg\" width=\"172\" height=\"172\"><circle cx=\"215\" cy=\"215\" r=\"205\" fill=\"none\" stroke=\"black\" stroke-width=\"2\" stroke-dasharray=\"3,3\"/> <circle cx=\"371\" cy=\"296\" r=\"8\" fill=\"rgb(255,255,255)\" class=\"agent_0_10\"/><circle cx=\"407\" cy=\"218\" r=\"12\" fill=\"rgb(255,255,255)\" class=\"agent_0_18\"/><circle cx=\"173\" cy=\"219\" r=\"9\" fill=\"rgb(255,255,255)\" class=\"agent_0_24\"/><circle cx=\"264\" cy=\"139\" r=\"12\" fill=\"rgb(255,255,255)\" class=\"agent_0_27\"/><circle cx=\"258\" cy=\"375\" r=\"7\" fill=\"rgb(255,255,255)\" class=\"agent_0_51\"/><circle cx=\"122\" cy=\"368\" r=\"8\" fill=\"rgb(255,255,255)\" class=\"agent_0_61\"/><circle cx=\"112\" cy=\"334\" r=\"9\" fill=\"rgb(255,0,0)\" class=\"agent_0_75\"/></svg></div>"
      ],
      "text/plain": [
       "<IPython.core.display.HTML object>"
      ]
     },
     "metadata": {},
     "output_type": "display_data"
    }
   ],
   "source": [
    "force_contexts_and_mentions(2, candidates=1, force_num_markables=False)"
   ]
  },
  {
   "cell_type": "code",
   "execution_count": 70,
   "metadata": {
    "scrolled": false
   },
   "outputs": [
    {
     "name": "stdout",
     "output_type": "stream",
     "text": [
      "human\tTHEM: i have medium size black dot at south <eos>\n",
      "partner_refs_pred\n"
     ]
    },
    {
     "data": {
      "text/html": [
       "<div style=\"white-space: nowrap\"><svg viewbox='0 0 430 430' width=\"172\" height=\"172\" id=\"agent_0\"><circle cx=\"215\" cy=\"215\" r=\"205\" fill=\"none\" stroke=\"black\" stroke-width=\"2\" stroke-dasharray=\"3,3\"/><circle cx=\"371\" cy=\"296\" r=\"8\" fill=\"rgb(199,199,199)\"/><circle cx=\"407\" cy=\"218\" r=\"12\" fill=\"rgb(201,201,201)\"/><circle cx=\"173\" cy=\"219\" r=\"9\" fill=\"rgb(58,58,58)\"/><circle cx=\"264\" cy=\"139\" r=\"12\" fill=\"rgb(131,131,131)\"/><circle cx=\"258\" cy=\"375\" r=\"7\" fill=\"rgb(116,116,116)\"/><circle cx=\"122\" cy=\"368\" r=\"8\" fill=\"rgb(198,198,198)\"/><circle cx=\"112\" cy=\"334\" r=\"9\" fill=\"rgb(54,54,54)\"/></svg><svg viewBox='0 0 430 430' id=\"svg\" width=\"172\" height=\"172\"><circle cx=\"215\" cy=\"215\" r=\"205\" fill=\"none\" stroke=\"black\" stroke-width=\"2\" stroke-dasharray=\"3,3\"/> <circle cx=\"371\" cy=\"296\" r=\"8\" fill=\"rgb(255,255,255)\" class=\"agent_0_10\"/><circle cx=\"407\" cy=\"218\" r=\"12\" fill=\"rgb(255,255,255)\" class=\"agent_0_18\"/><circle cx=\"173\" cy=\"219\" r=\"9\" fill=\"rgb(255,0,0)\" class=\"agent_0_24\"/><circle cx=\"264\" cy=\"139\" r=\"12\" fill=\"rgb(255,255,255)\" class=\"agent_0_27\"/><circle cx=\"258\" cy=\"375\" r=\"7\" fill=\"rgb(255,255,255)\" class=\"agent_0_51\"/><circle cx=\"122\" cy=\"368\" r=\"8\" fill=\"rgb(255,255,255)\" class=\"agent_0_61\"/><circle cx=\"112\" cy=\"334\" r=\"9\" fill=\"rgb(255,255,255)\" class=\"agent_0_75\"/></svg></div>"
      ],
      "text/plain": [
       "<IPython.core.display.HTML object>"
      ]
     },
     "metadata": {},
     "output_type": "display_data"
    },
    {
     "name": "stdout",
     "output_type": "stream",
     "text": [
      "partner_refs_true\n"
     ]
    },
    {
     "data": {
      "text/html": [
       "<div style=\"white-space: nowrap\"><svg viewbox='0 0 430 430' width=\"172\" height=\"172\" id=\"agent_0\"><circle cx=\"215\" cy=\"215\" r=\"205\" fill=\"none\" stroke=\"black\" stroke-width=\"2\" stroke-dasharray=\"3,3\"/><circle cx=\"371\" cy=\"296\" r=\"8\" fill=\"rgb(199,199,199)\"/><circle cx=\"407\" cy=\"218\" r=\"12\" fill=\"rgb(201,201,201)\"/><circle cx=\"173\" cy=\"219\" r=\"9\" fill=\"rgb(58,58,58)\"/><circle cx=\"264\" cy=\"139\" r=\"12\" fill=\"rgb(131,131,131)\"/><circle cx=\"258\" cy=\"375\" r=\"7\" fill=\"rgb(116,116,116)\"/><circle cx=\"122\" cy=\"368\" r=\"8\" fill=\"rgb(198,198,198)\"/><circle cx=\"112\" cy=\"334\" r=\"9\" fill=\"rgb(54,54,54)\"/></svg><svg viewBox='0 0 430 430' id=\"svg\" width=\"172\" height=\"172\"><circle cx=\"215\" cy=\"215\" r=\"205\" fill=\"none\" stroke=\"black\" stroke-width=\"2\" stroke-dasharray=\"3,3\"/> <circle cx=\"371\" cy=\"296\" r=\"8\" fill=\"rgb(255,255,255)\" class=\"agent_0_10\"/><circle cx=\"407\" cy=\"218\" r=\"12\" fill=\"rgb(255,255,255)\" class=\"agent_0_18\"/><circle cx=\"173\" cy=\"219\" r=\"9\" fill=\"rgb(255,255,255)\" class=\"agent_0_24\"/><circle cx=\"264\" cy=\"139\" r=\"12\" fill=\"rgb(255,255,255)\" class=\"agent_0_27\"/><circle cx=\"258\" cy=\"375\" r=\"7\" fill=\"rgb(255,255,255)\" class=\"agent_0_51\"/><circle cx=\"122\" cy=\"368\" r=\"8\" fill=\"rgb(255,255,255)\" class=\"agent_0_61\"/><circle cx=\"112\" cy=\"334\" r=\"9\" fill=\"rgb(255,255,255)\" class=\"agent_0_75\"/></svg></div>"
      ],
      "text/plain": [
       "<IPython.core.display.HTML object>"
      ]
     },
     "metadata": {},
     "output_type": "display_data"
    },
    {
     "name": "stdout",
     "output_type": "stream",
     "text": [
      "utt: i have medium size black dot at south <eos>\n",
      "detected markables:\n",
      "({'start': 10, 'end': 31, 'is_self': True, 'text': 'medium size black dot'}, (3, 6, 7))\n",
      "\n",
      "----------------------------------------\n",
      "\n",
      "to_mention_pred\n"
     ]
    },
    {
     "data": {
      "text/html": [
       "<div style=\"white-space: nowrap\"><svg viewbox='0 0 430 430' width=\"172\" height=\"172\" id=\"agent_0\"><circle cx=\"215\" cy=\"215\" r=\"205\" fill=\"none\" stroke=\"black\" stroke-width=\"2\" stroke-dasharray=\"3,3\"/><circle cx=\"371\" cy=\"296\" r=\"8\" fill=\"rgb(199,199,199)\"/><circle cx=\"407\" cy=\"218\" r=\"12\" fill=\"rgb(201,201,201)\"/><circle cx=\"173\" cy=\"219\" r=\"9\" fill=\"rgb(58,58,58)\"/><circle cx=\"264\" cy=\"139\" r=\"12\" fill=\"rgb(131,131,131)\"/><circle cx=\"258\" cy=\"375\" r=\"7\" fill=\"rgb(116,116,116)\"/><circle cx=\"122\" cy=\"368\" r=\"8\" fill=\"rgb(198,198,198)\"/><circle cx=\"112\" cy=\"334\" r=\"9\" fill=\"rgb(54,54,54)\"/></svg><svg viewBox='0 0 430 430' id=\"svg\" width=\"172\" height=\"172\"><circle cx=\"215\" cy=\"215\" r=\"205\" fill=\"none\" stroke=\"black\" stroke-width=\"2\" stroke-dasharray=\"3,3\"/> <circle cx=\"371\" cy=\"296\" r=\"8\" fill=\"rgb(255,255,255)\" class=\"agent_0_10\"/><circle cx=\"407\" cy=\"218\" r=\"12\" fill=\"rgb(255,255,255)\" class=\"agent_0_18\"/><circle cx=\"173\" cy=\"219\" r=\"9\" fill=\"rgb(255,255,255)\" class=\"agent_0_24\"/><circle cx=\"264\" cy=\"139\" r=\"12\" fill=\"rgb(255,255,255)\" class=\"agent_0_27\"/><circle cx=\"258\" cy=\"375\" r=\"7\" fill=\"rgb(255,255,255)\" class=\"agent_0_51\"/><circle cx=\"122\" cy=\"368\" r=\"8\" fill=\"rgb(255,255,255)\" class=\"agent_0_61\"/><circle cx=\"112\" cy=\"334\" r=\"9\" fill=\"rgb(255,255,255)\" class=\"agent_0_75\"/></svg><svg viewBox='0 0 430 430' id=\"svg\" width=\"172\" height=\"172\"><circle cx=\"215\" cy=\"215\" r=\"205\" fill=\"none\" stroke=\"black\" stroke-width=\"2\" stroke-dasharray=\"3,3\"/> <circle cx=\"371\" cy=\"296\" r=\"8\" fill=\"rgb(255,255,255)\" class=\"agent_0_10\"/><circle cx=\"407\" cy=\"218\" r=\"12\" fill=\"rgb(255,255,255)\" class=\"agent_0_18\"/><circle cx=\"173\" cy=\"219\" r=\"9\" fill=\"rgb(255,0,0)\" class=\"agent_0_24\"/><circle cx=\"264\" cy=\"139\" r=\"12\" fill=\"rgb(255,255,255)\" class=\"agent_0_27\"/><circle cx=\"258\" cy=\"375\" r=\"7\" fill=\"rgb(255,255,255)\" class=\"agent_0_51\"/><circle cx=\"122\" cy=\"368\" r=\"8\" fill=\"rgb(255,255,255)\" class=\"agent_0_61\"/><circle cx=\"112\" cy=\"334\" r=\"9\" fill=\"rgb(255,0,0)\" class=\"agent_0_75\"/></svg><svg viewBox='0 0 430 430' id=\"svg\" width=\"172\" height=\"172\"><circle cx=\"215\" cy=\"215\" r=\"205\" fill=\"none\" stroke=\"black\" stroke-width=\"2\" stroke-dasharray=\"3,3\"/> <circle cx=\"371\" cy=\"296\" r=\"8\" fill=\"rgb(255,255,255)\" class=\"agent_0_10\"/><circle cx=\"407\" cy=\"218\" r=\"12\" fill=\"rgb(255,255,255)\" class=\"agent_0_18\"/><circle cx=\"173\" cy=\"219\" r=\"9\" fill=\"rgb(255,255,255)\" class=\"agent_0_24\"/><circle cx=\"264\" cy=\"139\" r=\"12\" fill=\"rgb(255,255,255)\" class=\"agent_0_27\"/><circle cx=\"258\" cy=\"375\" r=\"7\" fill=\"rgb(255,255,255)\" class=\"agent_0_51\"/><circle cx=\"122\" cy=\"368\" r=\"8\" fill=\"rgb(255,0,0)\" class=\"agent_0_61\"/><circle cx=\"112\" cy=\"334\" r=\"9\" fill=\"rgb(255,255,255)\" class=\"agent_0_75\"/></svg><svg viewBox='0 0 430 430' id=\"svg\" width=\"172\" height=\"172\"><circle cx=\"215\" cy=\"215\" r=\"205\" fill=\"none\" stroke=\"black\" stroke-width=\"2\" stroke-dasharray=\"3,3\"/> <circle cx=\"371\" cy=\"296\" r=\"8\" fill=\"rgb(255,255,255)\" class=\"agent_0_10\"/><circle cx=\"407\" cy=\"218\" r=\"12\" fill=\"rgb(255,255,255)\" class=\"agent_0_18\"/><circle cx=\"173\" cy=\"219\" r=\"9\" fill=\"rgb(255,255,255)\" class=\"agent_0_24\"/><circle cx=\"264\" cy=\"139\" r=\"12\" fill=\"rgb(255,255,255)\" class=\"agent_0_27\"/><circle cx=\"258\" cy=\"375\" r=\"7\" fill=\"rgb(255,255,255)\" class=\"agent_0_51\"/><circle cx=\"122\" cy=\"368\" r=\"8\" fill=\"rgb(255,255,255)\" class=\"agent_0_61\"/><circle cx=\"112\" cy=\"334\" r=\"9\" fill=\"rgb(255,0,0)\" class=\"agent_0_75\"/></svg><svg viewBox='0 0 430 430' id=\"svg\" width=\"172\" height=\"172\"><circle cx=\"215\" cy=\"215\" r=\"205\" fill=\"none\" stroke=\"black\" stroke-width=\"2\" stroke-dasharray=\"3,3\"/> <circle cx=\"371\" cy=\"296\" r=\"8\" fill=\"rgb(255,255,255)\" class=\"agent_0_10\"/><circle cx=\"407\" cy=\"218\" r=\"12\" fill=\"rgb(255,255,255)\" class=\"agent_0_18\"/><circle cx=\"173\" cy=\"219\" r=\"9\" fill=\"rgb(255,255,255)\" class=\"agent_0_24\"/><circle cx=\"264\" cy=\"139\" r=\"12\" fill=\"rgb(255,255,255)\" class=\"agent_0_27\"/><circle cx=\"258\" cy=\"375\" r=\"7\" fill=\"rgb(255,255,255)\" class=\"agent_0_51\"/><circle cx=\"122\" cy=\"368\" r=\"8\" fill=\"rgb(255,0,0)\" class=\"agent_0_61\"/><circle cx=\"112\" cy=\"334\" r=\"9\" fill=\"rgb(255,255,255)\" class=\"agent_0_75\"/></svg><svg viewBox='0 0 430 430' id=\"svg\" width=\"172\" height=\"172\"><circle cx=\"215\" cy=\"215\" r=\"205\" fill=\"none\" stroke=\"black\" stroke-width=\"2\" stroke-dasharray=\"3,3\"/> <circle cx=\"371\" cy=\"296\" r=\"8\" fill=\"rgb(255,255,255)\" class=\"agent_0_10\"/><circle cx=\"407\" cy=\"218\" r=\"12\" fill=\"rgb(255,255,255)\" class=\"agent_0_18\"/><circle cx=\"173\" cy=\"219\" r=\"9\" fill=\"rgb(255,255,255)\" class=\"agent_0_24\"/><circle cx=\"264\" cy=\"139\" r=\"12\" fill=\"rgb(255,255,255)\" class=\"agent_0_27\"/><circle cx=\"258\" cy=\"375\" r=\"7\" fill=\"rgb(255,255,255)\" class=\"agent_0_51\"/><circle cx=\"122\" cy=\"368\" r=\"8\" fill=\"rgb(255,255,255)\" class=\"agent_0_61\"/><circle cx=\"112\" cy=\"334\" r=\"9\" fill=\"rgb(255,0,0)\" class=\"agent_0_75\"/></svg></div>"
      ],
      "text/plain": [
       "<IPython.core.display.HTML object>"
      ]
     },
     "metadata": {},
     "output_type": "display_data"
    },
    {
     "name": "stdout",
     "output_type": "stream",
     "text": [
      "to_mention_true\n"
     ]
    },
    {
     "data": {
      "text/html": [
       "<div style=\"white-space: nowrap\"><svg viewbox='0 0 430 430' width=\"172\" height=\"172\" id=\"agent_0\"><circle cx=\"215\" cy=\"215\" r=\"205\" fill=\"none\" stroke=\"black\" stroke-width=\"2\" stroke-dasharray=\"3,3\"/><circle cx=\"371\" cy=\"296\" r=\"8\" fill=\"rgb(199,199,199)\"/><circle cx=\"407\" cy=\"218\" r=\"12\" fill=\"rgb(201,201,201)\"/><circle cx=\"173\" cy=\"219\" r=\"9\" fill=\"rgb(58,58,58)\"/><circle cx=\"264\" cy=\"139\" r=\"12\" fill=\"rgb(131,131,131)\"/><circle cx=\"258\" cy=\"375\" r=\"7\" fill=\"rgb(116,116,116)\"/><circle cx=\"122\" cy=\"368\" r=\"8\" fill=\"rgb(198,198,198)\"/><circle cx=\"112\" cy=\"334\" r=\"9\" fill=\"rgb(54,54,54)\"/></svg><svg viewBox='0 0 430 430' id=\"svg\" width=\"172\" height=\"172\"><circle cx=\"215\" cy=\"215\" r=\"205\" fill=\"none\" stroke=\"black\" stroke-width=\"2\" stroke-dasharray=\"3,3\"/> <circle cx=\"371\" cy=\"296\" r=\"8\" fill=\"rgb(255,255,255)\" class=\"agent_0_10\"/><circle cx=\"407\" cy=\"218\" r=\"12\" fill=\"rgb(255,255,255)\" class=\"agent_0_18\"/><circle cx=\"173\" cy=\"219\" r=\"9\" fill=\"rgb(255,255,255)\" class=\"agent_0_24\"/><circle cx=\"264\" cy=\"139\" r=\"12\" fill=\"rgb(255,255,255)\" class=\"agent_0_27\"/><circle cx=\"258\" cy=\"375\" r=\"7\" fill=\"rgb(255,255,255)\" class=\"agent_0_51\"/><circle cx=\"122\" cy=\"368\" r=\"8\" fill=\"rgb(255,255,255)\" class=\"agent_0_61\"/><circle cx=\"112\" cy=\"334\" r=\"9\" fill=\"rgb(255,0,0)\" class=\"agent_0_75\"/></svg><svg viewBox='0 0 430 430' id=\"svg\" width=\"172\" height=\"172\"><circle cx=\"215\" cy=\"215\" r=\"205\" fill=\"none\" stroke=\"black\" stroke-width=\"2\" stroke-dasharray=\"3,3\"/> <circle cx=\"371\" cy=\"296\" r=\"8\" fill=\"rgb(255,255,255)\" class=\"agent_0_10\"/><circle cx=\"407\" cy=\"218\" r=\"12\" fill=\"rgb(255,255,255)\" class=\"agent_0_18\"/><circle cx=\"173\" cy=\"219\" r=\"9\" fill=\"rgb(255,255,255)\" class=\"agent_0_24\"/><circle cx=\"264\" cy=\"139\" r=\"12\" fill=\"rgb(255,255,255)\" class=\"agent_0_27\"/><circle cx=\"258\" cy=\"375\" r=\"7\" fill=\"rgb(255,255,255)\" class=\"agent_0_51\"/><circle cx=\"122\" cy=\"368\" r=\"8\" fill=\"rgb(255,0,0)\" class=\"agent_0_61\"/><circle cx=\"112\" cy=\"334\" r=\"9\" fill=\"rgb(255,255,255)\" class=\"agent_0_75\"/></svg><svg viewBox='0 0 430 430' id=\"svg\" width=\"172\" height=\"172\"><circle cx=\"215\" cy=\"215\" r=\"205\" fill=\"none\" stroke=\"black\" stroke-width=\"2\" stroke-dasharray=\"3,3\"/> <circle cx=\"371\" cy=\"296\" r=\"8\" fill=\"rgb(255,255,255)\" class=\"agent_0_10\"/><circle cx=\"407\" cy=\"218\" r=\"12\" fill=\"rgb(255,255,255)\" class=\"agent_0_18\"/><circle cx=\"173\" cy=\"219\" r=\"9\" fill=\"rgb(255,255,255)\" class=\"agent_0_24\"/><circle cx=\"264\" cy=\"139\" r=\"12\" fill=\"rgb(255,255,255)\" class=\"agent_0_27\"/><circle cx=\"258\" cy=\"375\" r=\"7\" fill=\"rgb(255,255,255)\" class=\"agent_0_51\"/><circle cx=\"122\" cy=\"368\" r=\"8\" fill=\"rgb(255,255,255)\" class=\"agent_0_61\"/><circle cx=\"112\" cy=\"334\" r=\"9\" fill=\"rgb(255,0,0)\" class=\"agent_0_75\"/></svg></div>"
      ],
      "text/plain": [
       "<IPython.core.display.HTML object>"
      ]
     },
     "metadata": {},
     "output_type": "display_data"
    },
    {
     "name": "stdout",
     "output_type": "stream",
     "text": [
      "beam 0\ti have a black dot with a small light grey dot to the right of it <eos>\n",
      "greedy\ti have a black dot with a small light grey dot to the right of it <eos>\n",
      "human\ti have a medium sized black dot with a lighter and slightly smaller dot below and to the right of it <eos>\n",
      "refs_pred\n"
     ]
    },
    {
     "data": {
      "text/html": [
       "<div style=\"white-space: nowrap\"><svg viewbox='0 0 430 430' width=\"172\" height=\"172\" id=\"agent_0\"><circle cx=\"215\" cy=\"215\" r=\"205\" fill=\"none\" stroke=\"black\" stroke-width=\"2\" stroke-dasharray=\"3,3\"/><circle cx=\"371\" cy=\"296\" r=\"8\" fill=\"rgb(199,199,199)\"/><circle cx=\"407\" cy=\"218\" r=\"12\" fill=\"rgb(201,201,201)\"/><circle cx=\"173\" cy=\"219\" r=\"9\" fill=\"rgb(58,58,58)\"/><circle cx=\"264\" cy=\"139\" r=\"12\" fill=\"rgb(131,131,131)\"/><circle cx=\"258\" cy=\"375\" r=\"7\" fill=\"rgb(116,116,116)\"/><circle cx=\"122\" cy=\"368\" r=\"8\" fill=\"rgb(198,198,198)\"/><circle cx=\"112\" cy=\"334\" r=\"9\" fill=\"rgb(54,54,54)\"/></svg><svg viewBox='0 0 430 430' id=\"svg\" width=\"172\" height=\"172\"><circle cx=\"215\" cy=\"215\" r=\"205\" fill=\"none\" stroke=\"black\" stroke-width=\"2\" stroke-dasharray=\"3,3\"/> <circle cx=\"371\" cy=\"296\" r=\"8\" fill=\"rgb(255,255,255)\" class=\"agent_0_10\"/><circle cx=\"407\" cy=\"218\" r=\"12\" fill=\"rgb(255,255,255)\" class=\"agent_0_18\"/><circle cx=\"173\" cy=\"219\" r=\"9\" fill=\"rgb(255,255,255)\" class=\"agent_0_24\"/><circle cx=\"264\" cy=\"139\" r=\"12\" fill=\"rgb(255,255,255)\" class=\"agent_0_27\"/><circle cx=\"258\" cy=\"375\" r=\"7\" fill=\"rgb(255,255,255)\" class=\"agent_0_51\"/><circle cx=\"122\" cy=\"368\" r=\"8\" fill=\"rgb(255,255,255)\" class=\"agent_0_61\"/><circle cx=\"112\" cy=\"334\" r=\"9\" fill=\"rgb(255,0,0)\" class=\"agent_0_75\"/></svg><svg viewBox='0 0 430 430' id=\"svg\" width=\"172\" height=\"172\"><circle cx=\"215\" cy=\"215\" r=\"205\" fill=\"none\" stroke=\"black\" stroke-width=\"2\" stroke-dasharray=\"3,3\"/> <circle cx=\"371\" cy=\"296\" r=\"8\" fill=\"rgb(255,255,255)\" class=\"agent_0_10\"/><circle cx=\"407\" cy=\"218\" r=\"12\" fill=\"rgb(255,255,255)\" class=\"agent_0_18\"/><circle cx=\"173\" cy=\"219\" r=\"9\" fill=\"rgb(255,255,255)\" class=\"agent_0_24\"/><circle cx=\"264\" cy=\"139\" r=\"12\" fill=\"rgb(255,255,255)\" class=\"agent_0_27\"/><circle cx=\"258\" cy=\"375\" r=\"7\" fill=\"rgb(255,255,255)\" class=\"agent_0_51\"/><circle cx=\"122\" cy=\"368\" r=\"8\" fill=\"rgb(255,0,0)\" class=\"agent_0_61\"/><circle cx=\"112\" cy=\"334\" r=\"9\" fill=\"rgb(255,255,255)\" class=\"agent_0_75\"/></svg><svg viewBox='0 0 430 430' id=\"svg\" width=\"172\" height=\"172\"><circle cx=\"215\" cy=\"215\" r=\"205\" fill=\"none\" stroke=\"black\" stroke-width=\"2\" stroke-dasharray=\"3,3\"/> <circle cx=\"371\" cy=\"296\" r=\"8\" fill=\"rgb(255,255,255)\" class=\"agent_0_10\"/><circle cx=\"407\" cy=\"218\" r=\"12\" fill=\"rgb(255,255,255)\" class=\"agent_0_18\"/><circle cx=\"173\" cy=\"219\" r=\"9\" fill=\"rgb(255,255,255)\" class=\"agent_0_24\"/><circle cx=\"264\" cy=\"139\" r=\"12\" fill=\"rgb(255,255,255)\" class=\"agent_0_27\"/><circle cx=\"258\" cy=\"375\" r=\"7\" fill=\"rgb(255,255,255)\" class=\"agent_0_51\"/><circle cx=\"122\" cy=\"368\" r=\"8\" fill=\"rgb(255,255,255)\" class=\"agent_0_61\"/><circle cx=\"112\" cy=\"334\" r=\"9\" fill=\"rgb(255,0,0)\" class=\"agent_0_75\"/></svg></div>"
      ],
      "text/plain": [
       "<IPython.core.display.HTML object>"
      ]
     },
     "metadata": {},
     "output_type": "display_data"
    },
    {
     "name": "stdout",
     "output_type": "stream",
     "text": [
      "refs_true\n"
     ]
    },
    {
     "data": {
      "text/html": [
       "<div style=\"white-space: nowrap\"><svg viewbox='0 0 430 430' width=\"172\" height=\"172\" id=\"agent_0\"><circle cx=\"215\" cy=\"215\" r=\"205\" fill=\"none\" stroke=\"black\" stroke-width=\"2\" stroke-dasharray=\"3,3\"/><circle cx=\"371\" cy=\"296\" r=\"8\" fill=\"rgb(199,199,199)\"/><circle cx=\"407\" cy=\"218\" r=\"12\" fill=\"rgb(201,201,201)\"/><circle cx=\"173\" cy=\"219\" r=\"9\" fill=\"rgb(58,58,58)\"/><circle cx=\"264\" cy=\"139\" r=\"12\" fill=\"rgb(131,131,131)\"/><circle cx=\"258\" cy=\"375\" r=\"7\" fill=\"rgb(116,116,116)\"/><circle cx=\"122\" cy=\"368\" r=\"8\" fill=\"rgb(198,198,198)\"/><circle cx=\"112\" cy=\"334\" r=\"9\" fill=\"rgb(54,54,54)\"/></svg><svg viewBox='0 0 430 430' id=\"svg\" width=\"172\" height=\"172\"><circle cx=\"215\" cy=\"215\" r=\"205\" fill=\"none\" stroke=\"black\" stroke-width=\"2\" stroke-dasharray=\"3,3\"/> <circle cx=\"371\" cy=\"296\" r=\"8\" fill=\"rgb(255,255,255)\" class=\"agent_0_10\"/><circle cx=\"407\" cy=\"218\" r=\"12\" fill=\"rgb(255,255,255)\" class=\"agent_0_18\"/><circle cx=\"173\" cy=\"219\" r=\"9\" fill=\"rgb(255,255,255)\" class=\"agent_0_24\"/><circle cx=\"264\" cy=\"139\" r=\"12\" fill=\"rgb(255,255,255)\" class=\"agent_0_27\"/><circle cx=\"258\" cy=\"375\" r=\"7\" fill=\"rgb(255,255,255)\" class=\"agent_0_51\"/><circle cx=\"122\" cy=\"368\" r=\"8\" fill=\"rgb(255,255,255)\" class=\"agent_0_61\"/><circle cx=\"112\" cy=\"334\" r=\"9\" fill=\"rgb(255,0,0)\" class=\"agent_0_75\"/></svg><svg viewBox='0 0 430 430' id=\"svg\" width=\"172\" height=\"172\"><circle cx=\"215\" cy=\"215\" r=\"205\" fill=\"none\" stroke=\"black\" stroke-width=\"2\" stroke-dasharray=\"3,3\"/> <circle cx=\"371\" cy=\"296\" r=\"8\" fill=\"rgb(255,255,255)\" class=\"agent_0_10\"/><circle cx=\"407\" cy=\"218\" r=\"12\" fill=\"rgb(255,255,255)\" class=\"agent_0_18\"/><circle cx=\"173\" cy=\"219\" r=\"9\" fill=\"rgb(255,255,255)\" class=\"agent_0_24\"/><circle cx=\"264\" cy=\"139\" r=\"12\" fill=\"rgb(255,255,255)\" class=\"agent_0_27\"/><circle cx=\"258\" cy=\"375\" r=\"7\" fill=\"rgb(255,255,255)\" class=\"agent_0_51\"/><circle cx=\"122\" cy=\"368\" r=\"8\" fill=\"rgb(255,0,0)\" class=\"agent_0_61\"/><circle cx=\"112\" cy=\"334\" r=\"9\" fill=\"rgb(255,255,255)\" class=\"agent_0_75\"/></svg><svg viewBox='0 0 430 430' id=\"svg\" width=\"172\" height=\"172\"><circle cx=\"215\" cy=\"215\" r=\"205\" fill=\"none\" stroke=\"black\" stroke-width=\"2\" stroke-dasharray=\"3,3\"/> <circle cx=\"371\" cy=\"296\" r=\"8\" fill=\"rgb(255,255,255)\" class=\"agent_0_10\"/><circle cx=\"407\" cy=\"218\" r=\"12\" fill=\"rgb(255,255,255)\" class=\"agent_0_18\"/><circle cx=\"173\" cy=\"219\" r=\"9\" fill=\"rgb(255,255,255)\" class=\"agent_0_24\"/><circle cx=\"264\" cy=\"139\" r=\"12\" fill=\"rgb(255,255,255)\" class=\"agent_0_27\"/><circle cx=\"258\" cy=\"375\" r=\"7\" fill=\"rgb(255,255,255)\" class=\"agent_0_51\"/><circle cx=\"122\" cy=\"368\" r=\"8\" fill=\"rgb(255,255,255)\" class=\"agent_0_61\"/><circle cx=\"112\" cy=\"334\" r=\"9\" fill=\"rgb(255,0,0)\" class=\"agent_0_75\"/></svg></div>"
      ],
      "text/plain": [
       "<IPython.core.display.HTML object>"
      ]
     },
     "metadata": {},
     "output_type": "display_data"
    },
    {
     "name": "stdout",
     "output_type": "stream",
     "text": [
      "utt: i have a medium sized black dot with a lighter and slightly smaller dot below and to the right of it <eos>\n",
      "detected markables:\n",
      "({'start': 10, 'end': 34, 'is_self': True, 'text': 'a medium sized black dot'}, (3, 7, 8))\n",
      "({'start': 40, 'end': 74, 'is_self': True, 'text': 'a lighter and slightly smaller dot'}, (9, 14, 15))\n",
      "({'start': 101, 'end': 103, 'is_self': True, 'text': 'it'}, (21, 21, 22))\n",
      "\n",
      "----------------------------------------\n",
      "\n",
      "human\tTHEM: do you have black dot at north ? <eos>\n",
      "partner_refs_pred\n"
     ]
    },
    {
     "data": {
      "text/html": [
       "<div style=\"white-space: nowrap\"><svg viewbox='0 0 430 430' width=\"172\" height=\"172\" id=\"agent_0\"><circle cx=\"215\" cy=\"215\" r=\"205\" fill=\"none\" stroke=\"black\" stroke-width=\"2\" stroke-dasharray=\"3,3\"/><circle cx=\"371\" cy=\"296\" r=\"8\" fill=\"rgb(199,199,199)\"/><circle cx=\"407\" cy=\"218\" r=\"12\" fill=\"rgb(201,201,201)\"/><circle cx=\"173\" cy=\"219\" r=\"9\" fill=\"rgb(58,58,58)\"/><circle cx=\"264\" cy=\"139\" r=\"12\" fill=\"rgb(131,131,131)\"/><circle cx=\"258\" cy=\"375\" r=\"7\" fill=\"rgb(116,116,116)\"/><circle cx=\"122\" cy=\"368\" r=\"8\" fill=\"rgb(198,198,198)\"/><circle cx=\"112\" cy=\"334\" r=\"9\" fill=\"rgb(54,54,54)\"/></svg><svg viewBox='0 0 430 430' id=\"svg\" width=\"172\" height=\"172\"><circle cx=\"215\" cy=\"215\" r=\"205\" fill=\"none\" stroke=\"black\" stroke-width=\"2\" stroke-dasharray=\"3,3\"/> <circle cx=\"371\" cy=\"296\" r=\"8\" fill=\"rgb(255,255,255)\" class=\"agent_0_10\"/><circle cx=\"407\" cy=\"218\" r=\"12\" fill=\"rgb(255,255,255)\" class=\"agent_0_18\"/><circle cx=\"173\" cy=\"219\" r=\"9\" fill=\"rgb(255,0,0)\" class=\"agent_0_24\"/><circle cx=\"264\" cy=\"139\" r=\"12\" fill=\"rgb(255,255,255)\" class=\"agent_0_27\"/><circle cx=\"258\" cy=\"375\" r=\"7\" fill=\"rgb(255,255,255)\" class=\"agent_0_51\"/><circle cx=\"122\" cy=\"368\" r=\"8\" fill=\"rgb(255,255,255)\" class=\"agent_0_61\"/><circle cx=\"112\" cy=\"334\" r=\"9\" fill=\"rgb(255,255,255)\" class=\"agent_0_75\"/></svg></div>"
      ],
      "text/plain": [
       "<IPython.core.display.HTML object>"
      ]
     },
     "metadata": {},
     "output_type": "display_data"
    },
    {
     "name": "stdout",
     "output_type": "stream",
     "text": [
      "partner_refs_true\n"
     ]
    },
    {
     "data": {
      "text/html": [
       "<div style=\"white-space: nowrap\"><svg viewbox='0 0 430 430' width=\"172\" height=\"172\" id=\"agent_0\"><circle cx=\"215\" cy=\"215\" r=\"205\" fill=\"none\" stroke=\"black\" stroke-width=\"2\" stroke-dasharray=\"3,3\"/><circle cx=\"371\" cy=\"296\" r=\"8\" fill=\"rgb(199,199,199)\"/><circle cx=\"407\" cy=\"218\" r=\"12\" fill=\"rgb(201,201,201)\"/><circle cx=\"173\" cy=\"219\" r=\"9\" fill=\"rgb(58,58,58)\"/><circle cx=\"264\" cy=\"139\" r=\"12\" fill=\"rgb(131,131,131)\"/><circle cx=\"258\" cy=\"375\" r=\"7\" fill=\"rgb(116,116,116)\"/><circle cx=\"122\" cy=\"368\" r=\"8\" fill=\"rgb(198,198,198)\"/><circle cx=\"112\" cy=\"334\" r=\"9\" fill=\"rgb(54,54,54)\"/></svg><svg viewBox='0 0 430 430' id=\"svg\" width=\"172\" height=\"172\"><circle cx=\"215\" cy=\"215\" r=\"205\" fill=\"none\" stroke=\"black\" stroke-width=\"2\" stroke-dasharray=\"3,3\"/> <circle cx=\"371\" cy=\"296\" r=\"8\" fill=\"rgb(255,255,255)\" class=\"agent_0_10\"/><circle cx=\"407\" cy=\"218\" r=\"12\" fill=\"rgb(255,255,255)\" class=\"agent_0_18\"/><circle cx=\"173\" cy=\"219\" r=\"9\" fill=\"rgb(255,0,0)\" class=\"agent_0_24\"/><circle cx=\"264\" cy=\"139\" r=\"12\" fill=\"rgb(255,255,255)\" class=\"agent_0_27\"/><circle cx=\"258\" cy=\"375\" r=\"7\" fill=\"rgb(255,255,255)\" class=\"agent_0_51\"/><circle cx=\"122\" cy=\"368\" r=\"8\" fill=\"rgb(255,255,255)\" class=\"agent_0_61\"/><circle cx=\"112\" cy=\"334\" r=\"9\" fill=\"rgb(255,255,255)\" class=\"agent_0_75\"/></svg></div>"
      ],
      "text/plain": [
       "<IPython.core.display.HTML object>"
      ]
     },
     "metadata": {},
     "output_type": "display_data"
    },
    {
     "name": "stdout",
     "output_type": "stream",
     "text": [
      "utt: do you have black dot at north ? <eos>\n",
      "detected markables:\n",
      "({'start': 15, 'end': 24, 'is_self': True, 'text': 'black dot'}, (4, 5, 6))\n",
      "\n",
      "----------------------------------------\n",
      "\n",
      "beam 0\tyes <eos>\n",
      "greedy\tyes <eos>\n",
      "human\tour <unk> are different . your north could be my south <eos>\n",
      "utt: our <unk> are different . your north could be my south <eos>\n",
      "detected markables:\n",
      "\n",
      "----------------------------------------\n",
      "\n",
      "human\tTHEM: i have medium size black with smaller gray to its lower right <eos>\n",
      "partner_refs_pred\n"
     ]
    },
    {
     "data": {
      "text/html": [
       "<div style=\"white-space: nowrap\"><svg viewbox='0 0 430 430' width=\"172\" height=\"172\" id=\"agent_0\"><circle cx=\"215\" cy=\"215\" r=\"205\" fill=\"none\" stroke=\"black\" stroke-width=\"2\" stroke-dasharray=\"3,3\"/><circle cx=\"371\" cy=\"296\" r=\"8\" fill=\"rgb(199,199,199)\"/><circle cx=\"407\" cy=\"218\" r=\"12\" fill=\"rgb(201,201,201)\"/><circle cx=\"173\" cy=\"219\" r=\"9\" fill=\"rgb(58,58,58)\"/><circle cx=\"264\" cy=\"139\" r=\"12\" fill=\"rgb(131,131,131)\"/><circle cx=\"258\" cy=\"375\" r=\"7\" fill=\"rgb(116,116,116)\"/><circle cx=\"122\" cy=\"368\" r=\"8\" fill=\"rgb(198,198,198)\"/><circle cx=\"112\" cy=\"334\" r=\"9\" fill=\"rgb(54,54,54)\"/></svg><svg viewBox='0 0 430 430' id=\"svg\" width=\"172\" height=\"172\"><circle cx=\"215\" cy=\"215\" r=\"205\" fill=\"none\" stroke=\"black\" stroke-width=\"2\" stroke-dasharray=\"3,3\"/> <circle cx=\"371\" cy=\"296\" r=\"8\" fill=\"rgb(255,255,255)\" class=\"agent_0_10\"/><circle cx=\"407\" cy=\"218\" r=\"12\" fill=\"rgb(255,255,255)\" class=\"agent_0_18\"/><circle cx=\"173\" cy=\"219\" r=\"9\" fill=\"rgb(255,0,0)\" class=\"agent_0_24\"/><circle cx=\"264\" cy=\"139\" r=\"12\" fill=\"rgb(255,255,255)\" class=\"agent_0_27\"/><circle cx=\"258\" cy=\"375\" r=\"7\" fill=\"rgb(255,255,255)\" class=\"agent_0_51\"/><circle cx=\"122\" cy=\"368\" r=\"8\" fill=\"rgb(255,255,255)\" class=\"agent_0_61\"/><circle cx=\"112\" cy=\"334\" r=\"9\" fill=\"rgb(255,255,255)\" class=\"agent_0_75\"/></svg><svg viewBox='0 0 430 430' id=\"svg\" width=\"172\" height=\"172\"><circle cx=\"215\" cy=\"215\" r=\"205\" fill=\"none\" stroke=\"black\" stroke-width=\"2\" stroke-dasharray=\"3,3\"/> <circle cx=\"371\" cy=\"296\" r=\"8\" fill=\"rgb(255,255,255)\" class=\"agent_0_10\"/><circle cx=\"407\" cy=\"218\" r=\"12\" fill=\"rgb(255,255,255)\" class=\"agent_0_18\"/><circle cx=\"173\" cy=\"219\" r=\"9\" fill=\"rgb(255,255,255)\" class=\"agent_0_24\"/><circle cx=\"264\" cy=\"139\" r=\"12\" fill=\"rgb(255,255,255)\" class=\"agent_0_27\"/><circle cx=\"258\" cy=\"375\" r=\"7\" fill=\"rgb(255,255,255)\" class=\"agent_0_51\"/><circle cx=\"122\" cy=\"368\" r=\"8\" fill=\"rgb(255,255,255)\" class=\"agent_0_61\"/><circle cx=\"112\" cy=\"334\" r=\"9\" fill=\"rgb(255,255,255)\" class=\"agent_0_75\"/></svg><svg viewBox='0 0 430 430' id=\"svg\" width=\"172\" height=\"172\"><circle cx=\"215\" cy=\"215\" r=\"205\" fill=\"none\" stroke=\"black\" stroke-width=\"2\" stroke-dasharray=\"3,3\"/> <circle cx=\"371\" cy=\"296\" r=\"8\" fill=\"rgb(255,255,255)\" class=\"agent_0_10\"/><circle cx=\"407\" cy=\"218\" r=\"12\" fill=\"rgb(255,255,255)\" class=\"agent_0_18\"/><circle cx=\"173\" cy=\"219\" r=\"9\" fill=\"rgb(255,255,255)\" class=\"agent_0_24\"/><circle cx=\"264\" cy=\"139\" r=\"12\" fill=\"rgb(255,255,255)\" class=\"agent_0_27\"/><circle cx=\"258\" cy=\"375\" r=\"7\" fill=\"rgb(255,255,255)\" class=\"agent_0_51\"/><circle cx=\"122\" cy=\"368\" r=\"8\" fill=\"rgb(255,255,255)\" class=\"agent_0_61\"/><circle cx=\"112\" cy=\"334\" r=\"9\" fill=\"rgb(255,255,255)\" class=\"agent_0_75\"/></svg></div>"
      ],
      "text/plain": [
       "<IPython.core.display.HTML object>"
      ]
     },
     "metadata": {},
     "output_type": "display_data"
    },
    {
     "name": "stdout",
     "output_type": "stream",
     "text": [
      "partner_refs_true\n"
     ]
    },
    {
     "data": {
      "text/html": [
       "<div style=\"white-space: nowrap\"><svg viewbox='0 0 430 430' width=\"172\" height=\"172\" id=\"agent_0\"><circle cx=\"215\" cy=\"215\" r=\"205\" fill=\"none\" stroke=\"black\" stroke-width=\"2\" stroke-dasharray=\"3,3\"/><circle cx=\"371\" cy=\"296\" r=\"8\" fill=\"rgb(199,199,199)\"/><circle cx=\"407\" cy=\"218\" r=\"12\" fill=\"rgb(201,201,201)\"/><circle cx=\"173\" cy=\"219\" r=\"9\" fill=\"rgb(58,58,58)\"/><circle cx=\"264\" cy=\"139\" r=\"12\" fill=\"rgb(131,131,131)\"/><circle cx=\"258\" cy=\"375\" r=\"7\" fill=\"rgb(116,116,116)\"/><circle cx=\"122\" cy=\"368\" r=\"8\" fill=\"rgb(198,198,198)\"/><circle cx=\"112\" cy=\"334\" r=\"9\" fill=\"rgb(54,54,54)\"/></svg><svg viewBox='0 0 430 430' id=\"svg\" width=\"172\" height=\"172\"><circle cx=\"215\" cy=\"215\" r=\"205\" fill=\"none\" stroke=\"black\" stroke-width=\"2\" stroke-dasharray=\"3,3\"/> <circle cx=\"371\" cy=\"296\" r=\"8\" fill=\"rgb(255,255,255)\" class=\"agent_0_10\"/><circle cx=\"407\" cy=\"218\" r=\"12\" fill=\"rgb(255,255,255)\" class=\"agent_0_18\"/><circle cx=\"173\" cy=\"219\" r=\"9\" fill=\"rgb(255,255,255)\" class=\"agent_0_24\"/><circle cx=\"264\" cy=\"139\" r=\"12\" fill=\"rgb(255,255,255)\" class=\"agent_0_27\"/><circle cx=\"258\" cy=\"375\" r=\"7\" fill=\"rgb(255,255,255)\" class=\"agent_0_51\"/><circle cx=\"122\" cy=\"368\" r=\"8\" fill=\"rgb(255,255,255)\" class=\"agent_0_61\"/><circle cx=\"112\" cy=\"334\" r=\"9\" fill=\"rgb(255,0,0)\" class=\"agent_0_75\"/></svg><svg viewBox='0 0 430 430' id=\"svg\" width=\"172\" height=\"172\"><circle cx=\"215\" cy=\"215\" r=\"205\" fill=\"none\" stroke=\"black\" stroke-width=\"2\" stroke-dasharray=\"3,3\"/> <circle cx=\"371\" cy=\"296\" r=\"8\" fill=\"rgb(255,255,255)\" class=\"agent_0_10\"/><circle cx=\"407\" cy=\"218\" r=\"12\" fill=\"rgb(255,255,255)\" class=\"agent_0_18\"/><circle cx=\"173\" cy=\"219\" r=\"9\" fill=\"rgb(255,255,255)\" class=\"agent_0_24\"/><circle cx=\"264\" cy=\"139\" r=\"12\" fill=\"rgb(255,255,255)\" class=\"agent_0_27\"/><circle cx=\"258\" cy=\"375\" r=\"7\" fill=\"rgb(255,255,255)\" class=\"agent_0_51\"/><circle cx=\"122\" cy=\"368\" r=\"8\" fill=\"rgb(255,0,0)\" class=\"agent_0_61\"/><circle cx=\"112\" cy=\"334\" r=\"9\" fill=\"rgb(255,255,255)\" class=\"agent_0_75\"/></svg><svg viewBox='0 0 430 430' id=\"svg\" width=\"172\" height=\"172\"><circle cx=\"215\" cy=\"215\" r=\"205\" fill=\"none\" stroke=\"black\" stroke-width=\"2\" stroke-dasharray=\"3,3\"/> <circle cx=\"371\" cy=\"296\" r=\"8\" fill=\"rgb(255,255,255)\" class=\"agent_0_10\"/><circle cx=\"407\" cy=\"218\" r=\"12\" fill=\"rgb(255,255,255)\" class=\"agent_0_18\"/><circle cx=\"173\" cy=\"219\" r=\"9\" fill=\"rgb(255,255,255)\" class=\"agent_0_24\"/><circle cx=\"264\" cy=\"139\" r=\"12\" fill=\"rgb(255,255,255)\" class=\"agent_0_27\"/><circle cx=\"258\" cy=\"375\" r=\"7\" fill=\"rgb(255,255,255)\" class=\"agent_0_51\"/><circle cx=\"122\" cy=\"368\" r=\"8\" fill=\"rgb(255,255,255)\" class=\"agent_0_61\"/><circle cx=\"112\" cy=\"334\" r=\"9\" fill=\"rgb(255,0,0)\" class=\"agent_0_75\"/></svg></div>"
      ],
      "text/plain": [
       "<IPython.core.display.HTML object>"
      ]
     },
     "metadata": {},
     "output_type": "display_data"
    },
    {
     "name": "stdout",
     "output_type": "stream",
     "text": [
      "utt: i have medium size black with smaller gray to its lower right <eos>\n",
      "detected markables:\n",
      "({'start': 10, 'end': 27, 'is_self': True, 'text': 'medium size black'}, (3, 5, 6))\n",
      "({'start': 33, 'end': 45, 'is_self': True, 'text': 'smaller gray'}, (7, 8, 9))\n",
      "({'start': 49, 'end': 52, 'is_self': True, 'text': 'its'}, (10, 10, 11))\n",
      "\n",
      "----------------------------------------\n",
      "\n",
      "to_mention_pred\n"
     ]
    },
    {
     "data": {
      "text/html": [
       "<div style=\"white-space: nowrap\"><svg viewbox='0 0 430 430' width=\"172\" height=\"172\" id=\"agent_0\"><circle cx=\"215\" cy=\"215\" r=\"205\" fill=\"none\" stroke=\"black\" stroke-width=\"2\" stroke-dasharray=\"3,3\"/><circle cx=\"371\" cy=\"296\" r=\"8\" fill=\"rgb(199,199,199)\"/><circle cx=\"407\" cy=\"218\" r=\"12\" fill=\"rgb(201,201,201)\"/><circle cx=\"173\" cy=\"219\" r=\"9\" fill=\"rgb(58,58,58)\"/><circle cx=\"264\" cy=\"139\" r=\"12\" fill=\"rgb(131,131,131)\"/><circle cx=\"258\" cy=\"375\" r=\"7\" fill=\"rgb(116,116,116)\"/><circle cx=\"122\" cy=\"368\" r=\"8\" fill=\"rgb(198,198,198)\"/><circle cx=\"112\" cy=\"334\" r=\"9\" fill=\"rgb(54,54,54)\"/></svg><svg viewBox='0 0 430 430' id=\"svg\" width=\"172\" height=\"172\"><circle cx=\"215\" cy=\"215\" r=\"205\" fill=\"none\" stroke=\"black\" stroke-width=\"2\" stroke-dasharray=\"3,3\"/> <circle cx=\"371\" cy=\"296\" r=\"8\" fill=\"rgb(255,255,255)\" class=\"agent_0_10\"/><circle cx=\"407\" cy=\"218\" r=\"12\" fill=\"rgb(255,255,255)\" class=\"agent_0_18\"/><circle cx=\"173\" cy=\"219\" r=\"9\" fill=\"rgb(255,255,255)\" class=\"agent_0_24\"/><circle cx=\"264\" cy=\"139\" r=\"12\" fill=\"rgb(255,255,255)\" class=\"agent_0_27\"/><circle cx=\"258\" cy=\"375\" r=\"7\" fill=\"rgb(255,255,255)\" class=\"agent_0_51\"/><circle cx=\"122\" cy=\"368\" r=\"8\" fill=\"rgb(255,255,255)\" class=\"agent_0_61\"/><circle cx=\"112\" cy=\"334\" r=\"9\" fill=\"rgb(255,255,255)\" class=\"agent_0_75\"/></svg></div>"
      ],
      "text/plain": [
       "<IPython.core.display.HTML object>"
      ]
     },
     "metadata": {},
     "output_type": "display_data"
    },
    {
     "name": "stdout",
     "output_type": "stream",
     "text": [
      "to_mention_true\n"
     ]
    },
    {
     "data": {
      "text/html": [
       "<div style=\"white-space: nowrap\"><svg viewbox='0 0 430 430' width=\"172\" height=\"172\" id=\"agent_0\"><circle cx=\"215\" cy=\"215\" r=\"205\" fill=\"none\" stroke=\"black\" stroke-width=\"2\" stroke-dasharray=\"3,3\"/><circle cx=\"371\" cy=\"296\" r=\"8\" fill=\"rgb(199,199,199)\"/><circle cx=\"407\" cy=\"218\" r=\"12\" fill=\"rgb(201,201,201)\"/><circle cx=\"173\" cy=\"219\" r=\"9\" fill=\"rgb(58,58,58)\"/><circle cx=\"264\" cy=\"139\" r=\"12\" fill=\"rgb(131,131,131)\"/><circle cx=\"258\" cy=\"375\" r=\"7\" fill=\"rgb(116,116,116)\"/><circle cx=\"122\" cy=\"368\" r=\"8\" fill=\"rgb(198,198,198)\"/><circle cx=\"112\" cy=\"334\" r=\"9\" fill=\"rgb(54,54,54)\"/></svg><svg viewBox='0 0 430 430' id=\"svg\" width=\"172\" height=\"172\"><circle cx=\"215\" cy=\"215\" r=\"205\" fill=\"none\" stroke=\"black\" stroke-width=\"2\" stroke-dasharray=\"3,3\"/> <circle cx=\"371\" cy=\"296\" r=\"8\" fill=\"rgb(255,255,255)\" class=\"agent_0_10\"/><circle cx=\"407\" cy=\"218\" r=\"12\" fill=\"rgb(255,255,255)\" class=\"agent_0_18\"/><circle cx=\"173\" cy=\"219\" r=\"9\" fill=\"rgb(255,255,255)\" class=\"agent_0_24\"/><circle cx=\"264\" cy=\"139\" r=\"12\" fill=\"rgb(255,255,255)\" class=\"agent_0_27\"/><circle cx=\"258\" cy=\"375\" r=\"7\" fill=\"rgb(255,255,255)\" class=\"agent_0_51\"/><circle cx=\"122\" cy=\"368\" r=\"8\" fill=\"rgb(255,0,0)\" class=\"agent_0_61\"/><circle cx=\"112\" cy=\"334\" r=\"9\" fill=\"rgb(255,0,0)\" class=\"agent_0_75\"/></svg><svg viewBox='0 0 430 430' id=\"svg\" width=\"172\" height=\"172\"><circle cx=\"215\" cy=\"215\" r=\"205\" fill=\"none\" stroke=\"black\" stroke-width=\"2\" stroke-dasharray=\"3,3\"/> <circle cx=\"371\" cy=\"296\" r=\"8\" fill=\"rgb(255,255,255)\" class=\"agent_0_10\"/><circle cx=\"407\" cy=\"218\" r=\"12\" fill=\"rgb(255,255,255)\" class=\"agent_0_18\"/><circle cx=\"173\" cy=\"219\" r=\"9\" fill=\"rgb(255,255,255)\" class=\"agent_0_24\"/><circle cx=\"264\" cy=\"139\" r=\"12\" fill=\"rgb(255,255,255)\" class=\"agent_0_27\"/><circle cx=\"258\" cy=\"375\" r=\"7\" fill=\"rgb(255,255,255)\" class=\"agent_0_51\"/><circle cx=\"122\" cy=\"368\" r=\"8\" fill=\"rgb(255,255,255)\" class=\"agent_0_61\"/><circle cx=\"112\" cy=\"334\" r=\"9\" fill=\"rgb(255,0,0)\" class=\"agent_0_75\"/></svg></div>"
      ],
      "text/plain": [
       "<IPython.core.display.HTML object>"
      ]
     },
     "metadata": {},
     "output_type": "display_data"
    },
    {
     "name": "stdout",
     "output_type": "stream",
     "text": [
      "beam 0\ti see that . let 's pick the black dot . <selection>\n",
      "greedy\ti see that . let 's pick the black dot . <selection>\n",
      "human\tyes . i have the same . let 's pick the black dot <selection>\n",
      "refs_pred\n"
     ]
    },
    {
     "data": {
      "text/html": [
       "<div style=\"white-space: nowrap\"><svg viewbox='0 0 430 430' width=\"172\" height=\"172\" id=\"agent_0\"><circle cx=\"215\" cy=\"215\" r=\"205\" fill=\"none\" stroke=\"black\" stroke-width=\"2\" stroke-dasharray=\"3,3\"/><circle cx=\"371\" cy=\"296\" r=\"8\" fill=\"rgb(199,199,199)\"/><circle cx=\"407\" cy=\"218\" r=\"12\" fill=\"rgb(201,201,201)\"/><circle cx=\"173\" cy=\"219\" r=\"9\" fill=\"rgb(58,58,58)\"/><circle cx=\"264\" cy=\"139\" r=\"12\" fill=\"rgb(131,131,131)\"/><circle cx=\"258\" cy=\"375\" r=\"7\" fill=\"rgb(116,116,116)\"/><circle cx=\"122\" cy=\"368\" r=\"8\" fill=\"rgb(198,198,198)\"/><circle cx=\"112\" cy=\"334\" r=\"9\" fill=\"rgb(54,54,54)\"/></svg><svg viewBox='0 0 430 430' id=\"svg\" width=\"172\" height=\"172\"><circle cx=\"215\" cy=\"215\" r=\"205\" fill=\"none\" stroke=\"black\" stroke-width=\"2\" stroke-dasharray=\"3,3\"/> <circle cx=\"371\" cy=\"296\" r=\"8\" fill=\"rgb(255,255,255)\" class=\"agent_0_10\"/><circle cx=\"407\" cy=\"218\" r=\"12\" fill=\"rgb(255,255,255)\" class=\"agent_0_18\"/><circle cx=\"173\" cy=\"219\" r=\"9\" fill=\"rgb(255,255,255)\" class=\"agent_0_24\"/><circle cx=\"264\" cy=\"139\" r=\"12\" fill=\"rgb(255,255,255)\" class=\"agent_0_27\"/><circle cx=\"258\" cy=\"375\" r=\"7\" fill=\"rgb(255,255,255)\" class=\"agent_0_51\"/><circle cx=\"122\" cy=\"368\" r=\"8\" fill=\"rgb(255,0,0)\" class=\"agent_0_61\"/><circle cx=\"112\" cy=\"334\" r=\"9\" fill=\"rgb(255,0,0)\" class=\"agent_0_75\"/></svg><svg viewBox='0 0 430 430' id=\"svg\" width=\"172\" height=\"172\"><circle cx=\"215\" cy=\"215\" r=\"205\" fill=\"none\" stroke=\"black\" stroke-width=\"2\" stroke-dasharray=\"3,3\"/> <circle cx=\"371\" cy=\"296\" r=\"8\" fill=\"rgb(255,255,255)\" class=\"agent_0_10\"/><circle cx=\"407\" cy=\"218\" r=\"12\" fill=\"rgb(255,255,255)\" class=\"agent_0_18\"/><circle cx=\"173\" cy=\"219\" r=\"9\" fill=\"rgb(255,255,255)\" class=\"agent_0_24\"/><circle cx=\"264\" cy=\"139\" r=\"12\" fill=\"rgb(255,255,255)\" class=\"agent_0_27\"/><circle cx=\"258\" cy=\"375\" r=\"7\" fill=\"rgb(255,255,255)\" class=\"agent_0_51\"/><circle cx=\"122\" cy=\"368\" r=\"8\" fill=\"rgb(255,255,255)\" class=\"agent_0_61\"/><circle cx=\"112\" cy=\"334\" r=\"9\" fill=\"rgb(255,0,0)\" class=\"agent_0_75\"/></svg></div>"
      ],
      "text/plain": [
       "<IPython.core.display.HTML object>"
      ]
     },
     "metadata": {},
     "output_type": "display_data"
    },
    {
     "name": "stdout",
     "output_type": "stream",
     "text": [
      "refs_true\n"
     ]
    },
    {
     "data": {
      "text/html": [
       "<div style=\"white-space: nowrap\"><svg viewbox='0 0 430 430' width=\"172\" height=\"172\" id=\"agent_0\"><circle cx=\"215\" cy=\"215\" r=\"205\" fill=\"none\" stroke=\"black\" stroke-width=\"2\" stroke-dasharray=\"3,3\"/><circle cx=\"371\" cy=\"296\" r=\"8\" fill=\"rgb(199,199,199)\"/><circle cx=\"407\" cy=\"218\" r=\"12\" fill=\"rgb(201,201,201)\"/><circle cx=\"173\" cy=\"219\" r=\"9\" fill=\"rgb(58,58,58)\"/><circle cx=\"264\" cy=\"139\" r=\"12\" fill=\"rgb(131,131,131)\"/><circle cx=\"258\" cy=\"375\" r=\"7\" fill=\"rgb(116,116,116)\"/><circle cx=\"122\" cy=\"368\" r=\"8\" fill=\"rgb(198,198,198)\"/><circle cx=\"112\" cy=\"334\" r=\"9\" fill=\"rgb(54,54,54)\"/></svg><svg viewBox='0 0 430 430' id=\"svg\" width=\"172\" height=\"172\"><circle cx=\"215\" cy=\"215\" r=\"205\" fill=\"none\" stroke=\"black\" stroke-width=\"2\" stroke-dasharray=\"3,3\"/> <circle cx=\"371\" cy=\"296\" r=\"8\" fill=\"rgb(255,255,255)\" class=\"agent_0_10\"/><circle cx=\"407\" cy=\"218\" r=\"12\" fill=\"rgb(255,255,255)\" class=\"agent_0_18\"/><circle cx=\"173\" cy=\"219\" r=\"9\" fill=\"rgb(255,255,255)\" class=\"agent_0_24\"/><circle cx=\"264\" cy=\"139\" r=\"12\" fill=\"rgb(255,255,255)\" class=\"agent_0_27\"/><circle cx=\"258\" cy=\"375\" r=\"7\" fill=\"rgb(255,255,255)\" class=\"agent_0_51\"/><circle cx=\"122\" cy=\"368\" r=\"8\" fill=\"rgb(255,0,0)\" class=\"agent_0_61\"/><circle cx=\"112\" cy=\"334\" r=\"9\" fill=\"rgb(255,0,0)\" class=\"agent_0_75\"/></svg><svg viewBox='0 0 430 430' id=\"svg\" width=\"172\" height=\"172\"><circle cx=\"215\" cy=\"215\" r=\"205\" fill=\"none\" stroke=\"black\" stroke-width=\"2\" stroke-dasharray=\"3,3\"/> <circle cx=\"371\" cy=\"296\" r=\"8\" fill=\"rgb(255,255,255)\" class=\"agent_0_10\"/><circle cx=\"407\" cy=\"218\" r=\"12\" fill=\"rgb(255,255,255)\" class=\"agent_0_18\"/><circle cx=\"173\" cy=\"219\" r=\"9\" fill=\"rgb(255,255,255)\" class=\"agent_0_24\"/><circle cx=\"264\" cy=\"139\" r=\"12\" fill=\"rgb(255,255,255)\" class=\"agent_0_27\"/><circle cx=\"258\" cy=\"375\" r=\"7\" fill=\"rgb(255,255,255)\" class=\"agent_0_51\"/><circle cx=\"122\" cy=\"368\" r=\"8\" fill=\"rgb(255,255,255)\" class=\"agent_0_61\"/><circle cx=\"112\" cy=\"334\" r=\"9\" fill=\"rgb(255,0,0)\" class=\"agent_0_75\"/></svg></div>"
      ],
      "text/plain": [
       "<IPython.core.display.HTML object>"
      ]
     },
     "metadata": {},
     "output_type": "display_data"
    },
    {
     "name": "stdout",
     "output_type": "stream",
     "text": [
      "utt: yes . i have the same . let 's pick the black dot <selection>\n",
      "detected markables:\n",
      "({'start': 16, 'end': 24, 'is_self': True, 'text': 'the same'}, (5, 6, 7))\n",
      "({'start': 39, 'end': 52, 'is_self': True, 'text': 'the black dot'}, (11, 13, 14))\n",
      "\n",
      "----------------------------------------\n",
      "\n",
      "sel_pred\n"
     ]
    },
    {
     "data": {
      "text/html": [
       "<div style=\"white-space: nowrap\"><svg viewbox='0 0 430 430' width=\"172\" height=\"172\" id=\"agent_0\"><circle cx=\"215\" cy=\"215\" r=\"205\" fill=\"none\" stroke=\"black\" stroke-width=\"2\" stroke-dasharray=\"3,3\"/><circle cx=\"371\" cy=\"296\" r=\"8\" fill=\"rgb(199,199,199)\"/><circle cx=\"407\" cy=\"218\" r=\"12\" fill=\"rgb(201,201,201)\"/><circle cx=\"173\" cy=\"219\" r=\"9\" fill=\"rgb(58,58,58)\"/><circle cx=\"264\" cy=\"139\" r=\"12\" fill=\"rgb(131,131,131)\"/><circle cx=\"258\" cy=\"375\" r=\"7\" fill=\"rgb(116,116,116)\"/><circle cx=\"122\" cy=\"368\" r=\"8\" fill=\"rgb(198,198,198)\"/><circle cx=\"112\" cy=\"334\" r=\"9\" fill=\"rgb(54,54,54)\"/></svg><svg viewBox='0 0 430 430' id=\"svg\" width=\"172\" height=\"172\"><circle cx=\"215\" cy=\"215\" r=\"205\" fill=\"none\" stroke=\"black\" stroke-width=\"2\" stroke-dasharray=\"3,3\"/> <circle cx=\"371\" cy=\"296\" r=\"8\" fill=\"rgb(255,254,254)\" class=\"agent_0_10\"/><circle cx=\"407\" cy=\"218\" r=\"12\" fill=\"rgb(255,254,254)\" class=\"agent_0_18\"/><circle cx=\"173\" cy=\"219\" r=\"9\" fill=\"rgb(255,28,28)\" class=\"agent_0_24\"/><circle cx=\"264\" cy=\"139\" r=\"12\" fill=\"rgb(255,254,254)\" class=\"agent_0_27\"/><circle cx=\"258\" cy=\"375\" r=\"7\" fill=\"rgb(255,249,249)\" class=\"agent_0_51\"/><circle cx=\"122\" cy=\"368\" r=\"8\" fill=\"rgb(255,254,254)\" class=\"agent_0_61\"/><circle cx=\"112\" cy=\"334\" r=\"9\" fill=\"rgb(255,39,39)\" class=\"agent_0_75\"/></svg></div>"
      ],
      "text/plain": [
       "<IPython.core.display.HTML object>"
      ]
     },
     "metadata": {},
     "output_type": "display_data"
    },
    {
     "name": "stdout",
     "output_type": "stream",
     "text": [
      "sel_true\n"
     ]
    },
    {
     "data": {
      "text/html": [
       "<div style=\"white-space: nowrap\"><svg viewbox='0 0 430 430' width=\"172\" height=\"172\" id=\"agent_0\"><circle cx=\"215\" cy=\"215\" r=\"205\" fill=\"none\" stroke=\"black\" stroke-width=\"2\" stroke-dasharray=\"3,3\"/><circle cx=\"371\" cy=\"296\" r=\"8\" fill=\"rgb(199,199,199)\"/><circle cx=\"407\" cy=\"218\" r=\"12\" fill=\"rgb(201,201,201)\"/><circle cx=\"173\" cy=\"219\" r=\"9\" fill=\"rgb(58,58,58)\"/><circle cx=\"264\" cy=\"139\" r=\"12\" fill=\"rgb(131,131,131)\"/><circle cx=\"258\" cy=\"375\" r=\"7\" fill=\"rgb(116,116,116)\"/><circle cx=\"122\" cy=\"368\" r=\"8\" fill=\"rgb(198,198,198)\"/><circle cx=\"112\" cy=\"334\" r=\"9\" fill=\"rgb(54,54,54)\"/></svg><svg viewBox='0 0 430 430' id=\"svg\" width=\"172\" height=\"172\"><circle cx=\"215\" cy=\"215\" r=\"205\" fill=\"none\" stroke=\"black\" stroke-width=\"2\" stroke-dasharray=\"3,3\"/> <circle cx=\"371\" cy=\"296\" r=\"8\" fill=\"rgb(255,255,255)\" class=\"agent_0_10\"/><circle cx=\"407\" cy=\"218\" r=\"12\" fill=\"rgb(255,255,255)\" class=\"agent_0_18\"/><circle cx=\"173\" cy=\"219\" r=\"9\" fill=\"rgb(255,255,255)\" class=\"agent_0_24\"/><circle cx=\"264\" cy=\"139\" r=\"12\" fill=\"rgb(255,255,255)\" class=\"agent_0_27\"/><circle cx=\"258\" cy=\"375\" r=\"7\" fill=\"rgb(255,255,255)\" class=\"agent_0_51\"/><circle cx=\"122\" cy=\"368\" r=\"8\" fill=\"rgb(255,255,255)\" class=\"agent_0_61\"/><circle cx=\"112\" cy=\"334\" r=\"9\" fill=\"rgb(255,0,0)\" class=\"agent_0_75\"/></svg></div>"
      ],
      "text/plain": [
       "<IPython.core.display.HTML object>"
      ]
     },
     "metadata": {},
     "output_type": "display_data"
    }
   ],
   "source": [
    "force_contexts_and_mentions(2, candidates=1)"
   ]
  },
  {
   "cell_type": "code",
   "execution_count": 71,
   "metadata": {
    "scrolled": false
   },
   "outputs": [
    {
     "name": "stdout",
     "output_type": "stream",
     "text": [
      "empty to_mention_pred\n",
      "to_mention_true\n"
     ]
    },
    {
     "data": {
      "text/html": [
       "<div style=\"white-space: nowrap\"><svg viewbox='0 0 430 430' width=\"172\" height=\"172\" id=\"agent_1\"><circle cx=\"215\" cy=\"215\" r=\"205\" fill=\"none\" stroke=\"black\" stroke-width=\"2\" stroke-dasharray=\"3,3\"/><circle cx=\"349\" cy=\"298\" r=\"9\" fill=\"rgb(85,85,85)\"/><circle cx=\"81\" cy=\"132\" r=\"13\" fill=\"rgb(58,58,58)\"/><circle cx=\"349\" cy=\"210\" r=\"8\" fill=\"rgb(106,106,106)\"/><circle cx=\"272\" cy=\"379\" r=\"7\" fill=\"rgb(171,171,171)\"/><circle cx=\"313\" cy=\"340\" r=\"12\" fill=\"rgb(106,106,106)\"/><circle cx=\"53\" cy=\"318\" r=\"13\" fill=\"rgb(144,144,144)\"/><circle cx=\"348\" cy=\"66\" r=\"11\" fill=\"rgb(156,156,156)\"/></svg><svg viewBox='0 0 430 430' id=\"svg\" width=\"172\" height=\"172\"><circle cx=\"215\" cy=\"215\" r=\"205\" fill=\"none\" stroke=\"black\" stroke-width=\"2\" stroke-dasharray=\"3,3\"/> <circle cx=\"349\" cy=\"298\" r=\"9\" fill=\"rgb(255,255,255)\" class=\"agent_1_3\"/><circle cx=\"81\" cy=\"132\" r=\"13\" fill=\"rgb(255,0,0)\" class=\"agent_1_7\"/><circle cx=\"349\" cy=\"210\" r=\"8\" fill=\"rgb(255,255,255)\" class=\"agent_1_29\"/><circle cx=\"272\" cy=\"379\" r=\"7\" fill=\"rgb(255,255,255)\" class=\"agent_1_39\"/><circle cx=\"313\" cy=\"340\" r=\"12\" fill=\"rgb(255,255,255)\" class=\"agent_1_46\"/><circle cx=\"53\" cy=\"318\" r=\"13\" fill=\"rgb(255,255,255)\" class=\"agent_1_48\"/><circle cx=\"348\" cy=\"66\" r=\"11\" fill=\"rgb(255,255,255)\" class=\"agent_1_68\"/></svg></div>"
      ],
      "text/plain": [
       "<IPython.core.display.HTML object>"
      ]
     },
     "metadata": {},
     "output_type": "display_data"
    },
    {
     "name": "stdout",
     "output_type": "stream",
     "text": [
      "beam 0\ti have a large black dot <eos>\n",
      "greedy\ti have a large black dot <eos>\n",
      "human\ti have one large black dot <eos>\n",
      "refs_pred\n"
     ]
    },
    {
     "data": {
      "text/html": [
       "<div style=\"white-space: nowrap\"><svg viewbox='0 0 430 430' width=\"172\" height=\"172\" id=\"agent_1\"><circle cx=\"215\" cy=\"215\" r=\"205\" fill=\"none\" stroke=\"black\" stroke-width=\"2\" stroke-dasharray=\"3,3\"/><circle cx=\"349\" cy=\"298\" r=\"9\" fill=\"rgb(85,85,85)\"/><circle cx=\"81\" cy=\"132\" r=\"13\" fill=\"rgb(58,58,58)\"/><circle cx=\"349\" cy=\"210\" r=\"8\" fill=\"rgb(106,106,106)\"/><circle cx=\"272\" cy=\"379\" r=\"7\" fill=\"rgb(171,171,171)\"/><circle cx=\"313\" cy=\"340\" r=\"12\" fill=\"rgb(106,106,106)\"/><circle cx=\"53\" cy=\"318\" r=\"13\" fill=\"rgb(144,144,144)\"/><circle cx=\"348\" cy=\"66\" r=\"11\" fill=\"rgb(156,156,156)\"/></svg><svg viewBox='0 0 430 430' id=\"svg\" width=\"172\" height=\"172\"><circle cx=\"215\" cy=\"215\" r=\"205\" fill=\"none\" stroke=\"black\" stroke-width=\"2\" stroke-dasharray=\"3,3\"/> <circle cx=\"349\" cy=\"298\" r=\"9\" fill=\"rgb(255,255,255)\" class=\"agent_1_3\"/><circle cx=\"81\" cy=\"132\" r=\"13\" fill=\"rgb(255,0,0)\" class=\"agent_1_7\"/><circle cx=\"349\" cy=\"210\" r=\"8\" fill=\"rgb(255,255,255)\" class=\"agent_1_29\"/><circle cx=\"272\" cy=\"379\" r=\"7\" fill=\"rgb(255,255,255)\" class=\"agent_1_39\"/><circle cx=\"313\" cy=\"340\" r=\"12\" fill=\"rgb(255,255,255)\" class=\"agent_1_46\"/><circle cx=\"53\" cy=\"318\" r=\"13\" fill=\"rgb(255,255,255)\" class=\"agent_1_48\"/><circle cx=\"348\" cy=\"66\" r=\"11\" fill=\"rgb(255,255,255)\" class=\"agent_1_68\"/></svg></div>"
      ],
      "text/plain": [
       "<IPython.core.display.HTML object>"
      ]
     },
     "metadata": {},
     "output_type": "display_data"
    },
    {
     "name": "stdout",
     "output_type": "stream",
     "text": [
      "refs_true\n"
     ]
    },
    {
     "data": {
      "text/html": [
       "<div style=\"white-space: nowrap\"><svg viewbox='0 0 430 430' width=\"172\" height=\"172\" id=\"agent_1\"><circle cx=\"215\" cy=\"215\" r=\"205\" fill=\"none\" stroke=\"black\" stroke-width=\"2\" stroke-dasharray=\"3,3\"/><circle cx=\"349\" cy=\"298\" r=\"9\" fill=\"rgb(85,85,85)\"/><circle cx=\"81\" cy=\"132\" r=\"13\" fill=\"rgb(58,58,58)\"/><circle cx=\"349\" cy=\"210\" r=\"8\" fill=\"rgb(106,106,106)\"/><circle cx=\"272\" cy=\"379\" r=\"7\" fill=\"rgb(171,171,171)\"/><circle cx=\"313\" cy=\"340\" r=\"12\" fill=\"rgb(106,106,106)\"/><circle cx=\"53\" cy=\"318\" r=\"13\" fill=\"rgb(144,144,144)\"/><circle cx=\"348\" cy=\"66\" r=\"11\" fill=\"rgb(156,156,156)\"/></svg><svg viewBox='0 0 430 430' id=\"svg\" width=\"172\" height=\"172\"><circle cx=\"215\" cy=\"215\" r=\"205\" fill=\"none\" stroke=\"black\" stroke-width=\"2\" stroke-dasharray=\"3,3\"/> <circle cx=\"349\" cy=\"298\" r=\"9\" fill=\"rgb(255,255,255)\" class=\"agent_1_3\"/><circle cx=\"81\" cy=\"132\" r=\"13\" fill=\"rgb(255,0,0)\" class=\"agent_1_7\"/><circle cx=\"349\" cy=\"210\" r=\"8\" fill=\"rgb(255,255,255)\" class=\"agent_1_29\"/><circle cx=\"272\" cy=\"379\" r=\"7\" fill=\"rgb(255,255,255)\" class=\"agent_1_39\"/><circle cx=\"313\" cy=\"340\" r=\"12\" fill=\"rgb(255,255,255)\" class=\"agent_1_46\"/><circle cx=\"53\" cy=\"318\" r=\"13\" fill=\"rgb(255,255,255)\" class=\"agent_1_48\"/><circle cx=\"348\" cy=\"66\" r=\"11\" fill=\"rgb(255,255,255)\" class=\"agent_1_68\"/></svg></div>"
      ],
      "text/plain": [
       "<IPython.core.display.HTML object>"
      ]
     },
     "metadata": {},
     "output_type": "display_data"
    },
    {
     "name": "stdout",
     "output_type": "stream",
     "text": [
      "utt: i have one large black dot <eos>\n",
      "detected markables:\n",
      "({'start': 10, 'end': 29, 'is_self': True, 'text': 'one large black dot'}, (3, 6, 7))\n",
      "\n",
      "----------------------------------------\n",
      "\n",
      "human\tTHEM: i have a large dot but i think its dark grey because one next to it is black . i have one tiny light grey dot <eos>\n",
      "partner_refs_pred\n"
     ]
    },
    {
     "data": {
      "text/html": [
       "<div style=\"white-space: nowrap\"><svg viewbox='0 0 430 430' width=\"172\" height=\"172\" id=\"agent_1\"><circle cx=\"215\" cy=\"215\" r=\"205\" fill=\"none\" stroke=\"black\" stroke-width=\"2\" stroke-dasharray=\"3,3\"/><circle cx=\"349\" cy=\"298\" r=\"9\" fill=\"rgb(85,85,85)\"/><circle cx=\"81\" cy=\"132\" r=\"13\" fill=\"rgb(58,58,58)\"/><circle cx=\"349\" cy=\"210\" r=\"8\" fill=\"rgb(106,106,106)\"/><circle cx=\"272\" cy=\"379\" r=\"7\" fill=\"rgb(171,171,171)\"/><circle cx=\"313\" cy=\"340\" r=\"12\" fill=\"rgb(106,106,106)\"/><circle cx=\"53\" cy=\"318\" r=\"13\" fill=\"rgb(144,144,144)\"/><circle cx=\"348\" cy=\"66\" r=\"11\" fill=\"rgb(156,156,156)\"/></svg><svg viewBox='0 0 430 430' id=\"svg\" width=\"172\" height=\"172\"><circle cx=\"215\" cy=\"215\" r=\"205\" fill=\"none\" stroke=\"black\" stroke-width=\"2\" stroke-dasharray=\"3,3\"/> <circle cx=\"349\" cy=\"298\" r=\"9\" fill=\"rgb(255,255,255)\" class=\"agent_1_3\"/><circle cx=\"81\" cy=\"132\" r=\"13\" fill=\"rgb(255,255,255)\" class=\"agent_1_7\"/><circle cx=\"349\" cy=\"210\" r=\"8\" fill=\"rgb(255,255,255)\" class=\"agent_1_29\"/><circle cx=\"272\" cy=\"379\" r=\"7\" fill=\"rgb(255,255,255)\" class=\"agent_1_39\"/><circle cx=\"313\" cy=\"340\" r=\"12\" fill=\"rgb(255,0,0)\" class=\"agent_1_46\"/><circle cx=\"53\" cy=\"318\" r=\"13\" fill=\"rgb(255,255,255)\" class=\"agent_1_48\"/><circle cx=\"348\" cy=\"66\" r=\"11\" fill=\"rgb(255,255,255)\" class=\"agent_1_68\"/></svg><svg viewBox='0 0 430 430' id=\"svg\" width=\"172\" height=\"172\"><circle cx=\"215\" cy=\"215\" r=\"205\" fill=\"none\" stroke=\"black\" stroke-width=\"2\" stroke-dasharray=\"3,3\"/> <circle cx=\"349\" cy=\"298\" r=\"9\" fill=\"rgb(255,255,255)\" class=\"agent_1_3\"/><circle cx=\"81\" cy=\"132\" r=\"13\" fill=\"rgb(255,255,255)\" class=\"agent_1_7\"/><circle cx=\"349\" cy=\"210\" r=\"8\" fill=\"rgb(255,255,255)\" class=\"agent_1_29\"/><circle cx=\"272\" cy=\"379\" r=\"7\" fill=\"rgb(255,255,255)\" class=\"agent_1_39\"/><circle cx=\"313\" cy=\"340\" r=\"12\" fill=\"rgb(255,0,0)\" class=\"agent_1_46\"/><circle cx=\"53\" cy=\"318\" r=\"13\" fill=\"rgb(255,255,255)\" class=\"agent_1_48\"/><circle cx=\"348\" cy=\"66\" r=\"11\" fill=\"rgb(255,255,255)\" class=\"agent_1_68\"/></svg><svg viewBox='0 0 430 430' id=\"svg\" width=\"172\" height=\"172\"><circle cx=\"215\" cy=\"215\" r=\"205\" fill=\"none\" stroke=\"black\" stroke-width=\"2\" stroke-dasharray=\"3,3\"/> <circle cx=\"349\" cy=\"298\" r=\"9\" fill=\"rgb(255,255,255)\" class=\"agent_1_3\"/><circle cx=\"81\" cy=\"132\" r=\"13\" fill=\"rgb(255,255,255)\" class=\"agent_1_7\"/><circle cx=\"349\" cy=\"210\" r=\"8\" fill=\"rgb(255,255,255)\" class=\"agent_1_29\"/><circle cx=\"272\" cy=\"379\" r=\"7\" fill=\"rgb(255,255,255)\" class=\"agent_1_39\"/><circle cx=\"313\" cy=\"340\" r=\"12\" fill=\"rgb(255,0,0)\" class=\"agent_1_46\"/><circle cx=\"53\" cy=\"318\" r=\"13\" fill=\"rgb(255,255,255)\" class=\"agent_1_48\"/><circle cx=\"348\" cy=\"66\" r=\"11\" fill=\"rgb(255,255,255)\" class=\"agent_1_68\"/></svg><svg viewBox='0 0 430 430' id=\"svg\" width=\"172\" height=\"172\"><circle cx=\"215\" cy=\"215\" r=\"205\" fill=\"none\" stroke=\"black\" stroke-width=\"2\" stroke-dasharray=\"3,3\"/> <circle cx=\"349\" cy=\"298\" r=\"9\" fill=\"rgb(255,0,0)\" class=\"agent_1_3\"/><circle cx=\"81\" cy=\"132\" r=\"13\" fill=\"rgb(255,255,255)\" class=\"agent_1_7\"/><circle cx=\"349\" cy=\"210\" r=\"8\" fill=\"rgb(255,255,255)\" class=\"agent_1_29\"/><circle cx=\"272\" cy=\"379\" r=\"7\" fill=\"rgb(255,255,255)\" class=\"agent_1_39\"/><circle cx=\"313\" cy=\"340\" r=\"12\" fill=\"rgb(255,255,255)\" class=\"agent_1_46\"/><circle cx=\"53\" cy=\"318\" r=\"13\" fill=\"rgb(255,255,255)\" class=\"agent_1_48\"/><circle cx=\"348\" cy=\"66\" r=\"11\" fill=\"rgb(255,255,255)\" class=\"agent_1_68\"/></svg><svg viewBox='0 0 430 430' id=\"svg\" width=\"172\" height=\"172\"><circle cx=\"215\" cy=\"215\" r=\"205\" fill=\"none\" stroke=\"black\" stroke-width=\"2\" stroke-dasharray=\"3,3\"/> <circle cx=\"349\" cy=\"298\" r=\"9\" fill=\"rgb(255,255,255)\" class=\"agent_1_3\"/><circle cx=\"81\" cy=\"132\" r=\"13\" fill=\"rgb(255,255,255)\" class=\"agent_1_7\"/><circle cx=\"349\" cy=\"210\" r=\"8\" fill=\"rgb(255,255,255)\" class=\"agent_1_29\"/><circle cx=\"272\" cy=\"379\" r=\"7\" fill=\"rgb(255,0,0)\" class=\"agent_1_39\"/><circle cx=\"313\" cy=\"340\" r=\"12\" fill=\"rgb(255,255,255)\" class=\"agent_1_46\"/><circle cx=\"53\" cy=\"318\" r=\"13\" fill=\"rgb(255,255,255)\" class=\"agent_1_48\"/><circle cx=\"348\" cy=\"66\" r=\"11\" fill=\"rgb(255,255,255)\" class=\"agent_1_68\"/></svg></div>"
      ],
      "text/plain": [
       "<IPython.core.display.HTML object>"
      ]
     },
     "metadata": {},
     "output_type": "display_data"
    },
    {
     "name": "stdout",
     "output_type": "stream",
     "text": [
      "partner_refs_true\n"
     ]
    },
    {
     "data": {
      "text/html": [
       "<div style=\"white-space: nowrap\"><svg viewbox='0 0 430 430' width=\"172\" height=\"172\" id=\"agent_1\"><circle cx=\"215\" cy=\"215\" r=\"205\" fill=\"none\" stroke=\"black\" stroke-width=\"2\" stroke-dasharray=\"3,3\"/><circle cx=\"349\" cy=\"298\" r=\"9\" fill=\"rgb(85,85,85)\"/><circle cx=\"81\" cy=\"132\" r=\"13\" fill=\"rgb(58,58,58)\"/><circle cx=\"349\" cy=\"210\" r=\"8\" fill=\"rgb(106,106,106)\"/><circle cx=\"272\" cy=\"379\" r=\"7\" fill=\"rgb(171,171,171)\"/><circle cx=\"313\" cy=\"340\" r=\"12\" fill=\"rgb(106,106,106)\"/><circle cx=\"53\" cy=\"318\" r=\"13\" fill=\"rgb(144,144,144)\"/><circle cx=\"348\" cy=\"66\" r=\"11\" fill=\"rgb(156,156,156)\"/></svg><svg viewBox='0 0 430 430' id=\"svg\" width=\"172\" height=\"172\"><circle cx=\"215\" cy=\"215\" r=\"205\" fill=\"none\" stroke=\"black\" stroke-width=\"2\" stroke-dasharray=\"3,3\"/> <circle cx=\"349\" cy=\"298\" r=\"9\" fill=\"rgb(255,255,255)\" class=\"agent_1_3\"/><circle cx=\"81\" cy=\"132\" r=\"13\" fill=\"rgb(255,255,255)\" class=\"agent_1_7\"/><circle cx=\"349\" cy=\"210\" r=\"8\" fill=\"rgb(255,255,255)\" class=\"agent_1_29\"/><circle cx=\"272\" cy=\"379\" r=\"7\" fill=\"rgb(255,255,255)\" class=\"agent_1_39\"/><circle cx=\"313\" cy=\"340\" r=\"12\" fill=\"rgb(255,0,0)\" class=\"agent_1_46\"/><circle cx=\"53\" cy=\"318\" r=\"13\" fill=\"rgb(255,255,255)\" class=\"agent_1_48\"/><circle cx=\"348\" cy=\"66\" r=\"11\" fill=\"rgb(255,255,255)\" class=\"agent_1_68\"/></svg><svg viewBox='0 0 430 430' id=\"svg\" width=\"172\" height=\"172\"><circle cx=\"215\" cy=\"215\" r=\"205\" fill=\"none\" stroke=\"black\" stroke-width=\"2\" stroke-dasharray=\"3,3\"/> <circle cx=\"349\" cy=\"298\" r=\"9\" fill=\"rgb(255,255,255)\" class=\"agent_1_3\"/><circle cx=\"81\" cy=\"132\" r=\"13\" fill=\"rgb(255,255,255)\" class=\"agent_1_7\"/><circle cx=\"349\" cy=\"210\" r=\"8\" fill=\"rgb(255,255,255)\" class=\"agent_1_29\"/><circle cx=\"272\" cy=\"379\" r=\"7\" fill=\"rgb(255,255,255)\" class=\"agent_1_39\"/><circle cx=\"313\" cy=\"340\" r=\"12\" fill=\"rgb(255,0,0)\" class=\"agent_1_46\"/><circle cx=\"53\" cy=\"318\" r=\"13\" fill=\"rgb(255,255,255)\" class=\"agent_1_48\"/><circle cx=\"348\" cy=\"66\" r=\"11\" fill=\"rgb(255,255,255)\" class=\"agent_1_68\"/></svg><svg viewBox='0 0 430 430' id=\"svg\" width=\"172\" height=\"172\"><circle cx=\"215\" cy=\"215\" r=\"205\" fill=\"none\" stroke=\"black\" stroke-width=\"2\" stroke-dasharray=\"3,3\"/> <circle cx=\"349\" cy=\"298\" r=\"9\" fill=\"rgb(255,0,0)\" class=\"agent_1_3\"/><circle cx=\"81\" cy=\"132\" r=\"13\" fill=\"rgb(255,255,255)\" class=\"agent_1_7\"/><circle cx=\"349\" cy=\"210\" r=\"8\" fill=\"rgb(255,255,255)\" class=\"agent_1_29\"/><circle cx=\"272\" cy=\"379\" r=\"7\" fill=\"rgb(255,255,255)\" class=\"agent_1_39\"/><circle cx=\"313\" cy=\"340\" r=\"12\" fill=\"rgb(255,255,255)\" class=\"agent_1_46\"/><circle cx=\"53\" cy=\"318\" r=\"13\" fill=\"rgb(255,255,255)\" class=\"agent_1_48\"/><circle cx=\"348\" cy=\"66\" r=\"11\" fill=\"rgb(255,255,255)\" class=\"agent_1_68\"/></svg><svg viewBox='0 0 430 430' id=\"svg\" width=\"172\" height=\"172\"><circle cx=\"215\" cy=\"215\" r=\"205\" fill=\"none\" stroke=\"black\" stroke-width=\"2\" stroke-dasharray=\"3,3\"/> <circle cx=\"349\" cy=\"298\" r=\"9\" fill=\"rgb(255,255,255)\" class=\"agent_1_3\"/><circle cx=\"81\" cy=\"132\" r=\"13\" fill=\"rgb(255,255,255)\" class=\"agent_1_7\"/><circle cx=\"349\" cy=\"210\" r=\"8\" fill=\"rgb(255,255,255)\" class=\"agent_1_29\"/><circle cx=\"272\" cy=\"379\" r=\"7\" fill=\"rgb(255,255,255)\" class=\"agent_1_39\"/><circle cx=\"313\" cy=\"340\" r=\"12\" fill=\"rgb(255,0,0)\" class=\"agent_1_46\"/><circle cx=\"53\" cy=\"318\" r=\"13\" fill=\"rgb(255,255,255)\" class=\"agent_1_48\"/><circle cx=\"348\" cy=\"66\" r=\"11\" fill=\"rgb(255,255,255)\" class=\"agent_1_68\"/></svg><svg viewBox='0 0 430 430' id=\"svg\" width=\"172\" height=\"172\"><circle cx=\"215\" cy=\"215\" r=\"205\" fill=\"none\" stroke=\"black\" stroke-width=\"2\" stroke-dasharray=\"3,3\"/> <circle cx=\"349\" cy=\"298\" r=\"9\" fill=\"rgb(255,255,255)\" class=\"agent_1_3\"/><circle cx=\"81\" cy=\"132\" r=\"13\" fill=\"rgb(255,255,255)\" class=\"agent_1_7\"/><circle cx=\"349\" cy=\"210\" r=\"8\" fill=\"rgb(255,255,255)\" class=\"agent_1_29\"/><circle cx=\"272\" cy=\"379\" r=\"7\" fill=\"rgb(255,0,0)\" class=\"agent_1_39\"/><circle cx=\"313\" cy=\"340\" r=\"12\" fill=\"rgb(255,255,255)\" class=\"agent_1_46\"/><circle cx=\"53\" cy=\"318\" r=\"13\" fill=\"rgb(255,255,255)\" class=\"agent_1_48\"/><circle cx=\"348\" cy=\"66\" r=\"11\" fill=\"rgb(255,255,255)\" class=\"agent_1_68\"/></svg></div>"
      ],
      "text/plain": [
       "<IPython.core.display.HTML object>"
      ]
     },
     "metadata": {},
     "output_type": "display_data"
    },
    {
     "name": "stdout",
     "output_type": "stream",
     "text": [
      "utt: i have a large dot but i think its dark grey because one next to it is black . i have one tiny light grey dot <eos>\n",
      "detected markables:\n",
      "({'start': 10, 'end': 21, 'is_self': True, 'text': 'a large dot'}, (3, 5, 6))\n",
      "({'start': 34, 'end': 37, 'is_self': True, 'text': 'its'}, (9, 9, 10))\n",
      "({'start': 56, 'end': 59, 'is_self': True, 'text': 'one'}, (13, 13, 14))\n",
      "({'start': 68, 'end': 70, 'is_self': True, 'text': 'it'}, (16, 16, 17))\n",
      "({'start': 89, 'end': 112, 'is_self': True, 'text': 'one tiny light grey dot'}, (22, 26, 27))\n",
      "\n",
      "----------------------------------------\n",
      "\n",
      "to_mention_pred\n"
     ]
    },
    {
     "data": {
      "text/html": [
       "<div style=\"white-space: nowrap\"><svg viewbox='0 0 430 430' width=\"172\" height=\"172\" id=\"agent_1\"><circle cx=\"215\" cy=\"215\" r=\"205\" fill=\"none\" stroke=\"black\" stroke-width=\"2\" stroke-dasharray=\"3,3\"/><circle cx=\"349\" cy=\"298\" r=\"9\" fill=\"rgb(85,85,85)\"/><circle cx=\"81\" cy=\"132\" r=\"13\" fill=\"rgb(58,58,58)\"/><circle cx=\"349\" cy=\"210\" r=\"8\" fill=\"rgb(106,106,106)\"/><circle cx=\"272\" cy=\"379\" r=\"7\" fill=\"rgb(171,171,171)\"/><circle cx=\"313\" cy=\"340\" r=\"12\" fill=\"rgb(106,106,106)\"/><circle cx=\"53\" cy=\"318\" r=\"13\" fill=\"rgb(144,144,144)\"/><circle cx=\"348\" cy=\"66\" r=\"11\" fill=\"rgb(156,156,156)\"/></svg><svg viewBox='0 0 430 430' id=\"svg\" width=\"172\" height=\"172\"><circle cx=\"215\" cy=\"215\" r=\"205\" fill=\"none\" stroke=\"black\" stroke-width=\"2\" stroke-dasharray=\"3,3\"/> <circle cx=\"349\" cy=\"298\" r=\"9\" fill=\"rgb(255,255,255)\" class=\"agent_1_3\"/><circle cx=\"81\" cy=\"132\" r=\"13\" fill=\"rgb(255,255,255)\" class=\"agent_1_7\"/><circle cx=\"349\" cy=\"210\" r=\"8\" fill=\"rgb(255,255,255)\" class=\"agent_1_29\"/><circle cx=\"272\" cy=\"379\" r=\"7\" fill=\"rgb(255,0,0)\" class=\"agent_1_39\"/><circle cx=\"313\" cy=\"340\" r=\"12\" fill=\"rgb(255,255,255)\" class=\"agent_1_46\"/><circle cx=\"53\" cy=\"318\" r=\"13\" fill=\"rgb(255,255,255)\" class=\"agent_1_48\"/><circle cx=\"348\" cy=\"66\" r=\"11\" fill=\"rgb(255,255,255)\" class=\"agent_1_68\"/></svg></div>"
      ],
      "text/plain": [
       "<IPython.core.display.HTML object>"
      ]
     },
     "metadata": {},
     "output_type": "display_data"
    },
    {
     "name": "stdout",
     "output_type": "stream",
     "text": [
      "to_mention_true\n"
     ]
    },
    {
     "data": {
      "text/html": [
       "<div style=\"white-space: nowrap\"><svg viewbox='0 0 430 430' width=\"172\" height=\"172\" id=\"agent_1\"><circle cx=\"215\" cy=\"215\" r=\"205\" fill=\"none\" stroke=\"black\" stroke-width=\"2\" stroke-dasharray=\"3,3\"/><circle cx=\"349\" cy=\"298\" r=\"9\" fill=\"rgb(85,85,85)\"/><circle cx=\"81\" cy=\"132\" r=\"13\" fill=\"rgb(58,58,58)\"/><circle cx=\"349\" cy=\"210\" r=\"8\" fill=\"rgb(106,106,106)\"/><circle cx=\"272\" cy=\"379\" r=\"7\" fill=\"rgb(171,171,171)\"/><circle cx=\"313\" cy=\"340\" r=\"12\" fill=\"rgb(106,106,106)\"/><circle cx=\"53\" cy=\"318\" r=\"13\" fill=\"rgb(144,144,144)\"/><circle cx=\"348\" cy=\"66\" r=\"11\" fill=\"rgb(156,156,156)\"/></svg><svg viewBox='0 0 430 430' id=\"svg\" width=\"172\" height=\"172\"><circle cx=\"215\" cy=\"215\" r=\"205\" fill=\"none\" stroke=\"black\" stroke-width=\"2\" stroke-dasharray=\"3,3\"/> <circle cx=\"349\" cy=\"298\" r=\"9\" fill=\"rgb(255,255,255)\" class=\"agent_1_3\"/><circle cx=\"81\" cy=\"132\" r=\"13\" fill=\"rgb(255,255,255)\" class=\"agent_1_7\"/><circle cx=\"349\" cy=\"210\" r=\"8\" fill=\"rgb(255,255,255)\" class=\"agent_1_29\"/><circle cx=\"272\" cy=\"379\" r=\"7\" fill=\"rgb(255,0,0)\" class=\"agent_1_39\"/><circle cx=\"313\" cy=\"340\" r=\"12\" fill=\"rgb(255,255,255)\" class=\"agent_1_46\"/><circle cx=\"53\" cy=\"318\" r=\"13\" fill=\"rgb(255,255,255)\" class=\"agent_1_48\"/><circle cx=\"348\" cy=\"66\" r=\"11\" fill=\"rgb(255,255,255)\" class=\"agent_1_68\"/></svg><svg viewBox='0 0 430 430' id=\"svg\" width=\"172\" height=\"172\"><circle cx=\"215\" cy=\"215\" r=\"205\" fill=\"none\" stroke=\"black\" stroke-width=\"2\" stroke-dasharray=\"3,3\"/> <circle cx=\"349\" cy=\"298\" r=\"9\" fill=\"rgb(255,0,0)\" class=\"agent_1_3\"/><circle cx=\"81\" cy=\"132\" r=\"13\" fill=\"rgb(255,255,255)\" class=\"agent_1_7\"/><circle cx=\"349\" cy=\"210\" r=\"8\" fill=\"rgb(255,255,255)\" class=\"agent_1_29\"/><circle cx=\"272\" cy=\"379\" r=\"7\" fill=\"rgb(255,0,0)\" class=\"agent_1_39\"/><circle cx=\"313\" cy=\"340\" r=\"12\" fill=\"rgb(255,0,0)\" class=\"agent_1_46\"/><circle cx=\"53\" cy=\"318\" r=\"13\" fill=\"rgb(255,255,255)\" class=\"agent_1_48\"/><circle cx=\"348\" cy=\"66\" r=\"11\" fill=\"rgb(255,255,255)\" class=\"agent_1_68\"/></svg><svg viewBox='0 0 430 430' id=\"svg\" width=\"172\" height=\"172\"><circle cx=\"215\" cy=\"215\" r=\"205\" fill=\"none\" stroke=\"black\" stroke-width=\"2\" stroke-dasharray=\"3,3\"/> <circle cx=\"349\" cy=\"298\" r=\"9\" fill=\"rgb(255,255,255)\" class=\"agent_1_3\"/><circle cx=\"81\" cy=\"132\" r=\"13\" fill=\"rgb(255,255,255)\" class=\"agent_1_7\"/><circle cx=\"349\" cy=\"210\" r=\"8\" fill=\"rgb(255,255,255)\" class=\"agent_1_29\"/><circle cx=\"272\" cy=\"379\" r=\"7\" fill=\"rgb(255,255,255)\" class=\"agent_1_39\"/><circle cx=\"313\" cy=\"340\" r=\"12\" fill=\"rgb(255,0,0)\" class=\"agent_1_46\"/><circle cx=\"53\" cy=\"318\" r=\"13\" fill=\"rgb(255,255,255)\" class=\"agent_1_48\"/><circle cx=\"348\" cy=\"66\" r=\"11\" fill=\"rgb(255,255,255)\" class=\"agent_1_68\"/></svg><svg viewBox='0 0 430 430' id=\"svg\" width=\"172\" height=\"172\"><circle cx=\"215\" cy=\"215\" r=\"205\" fill=\"none\" stroke=\"black\" stroke-width=\"2\" stroke-dasharray=\"3,3\"/> <circle cx=\"349\" cy=\"298\" r=\"9\" fill=\"rgb(255,255,255)\" class=\"agent_1_3\"/><circle cx=\"81\" cy=\"132\" r=\"13\" fill=\"rgb(255,255,255)\" class=\"agent_1_7\"/><circle cx=\"349\" cy=\"210\" r=\"8\" fill=\"rgb(255,255,255)\" class=\"agent_1_29\"/><circle cx=\"272\" cy=\"379\" r=\"7\" fill=\"rgb(255,255,255)\" class=\"agent_1_39\"/><circle cx=\"313\" cy=\"340\" r=\"12\" fill=\"rgb(255,0,0)\" class=\"agent_1_46\"/><circle cx=\"53\" cy=\"318\" r=\"13\" fill=\"rgb(255,255,255)\" class=\"agent_1_48\"/><circle cx=\"348\" cy=\"66\" r=\"11\" fill=\"rgb(255,255,255)\" class=\"agent_1_68\"/></svg><svg viewBox='0 0 430 430' id=\"svg\" width=\"172\" height=\"172\"><circle cx=\"215\" cy=\"215\" r=\"205\" fill=\"none\" stroke=\"black\" stroke-width=\"2\" stroke-dasharray=\"3,3\"/> <circle cx=\"349\" cy=\"298\" r=\"9\" fill=\"rgb(255,0,0)\" class=\"agent_1_3\"/><circle cx=\"81\" cy=\"132\" r=\"13\" fill=\"rgb(255,255,255)\" class=\"agent_1_7\"/><circle cx=\"349\" cy=\"210\" r=\"8\" fill=\"rgb(255,255,255)\" class=\"agent_1_29\"/><circle cx=\"272\" cy=\"379\" r=\"7\" fill=\"rgb(255,255,255)\" class=\"agent_1_39\"/><circle cx=\"313\" cy=\"340\" r=\"12\" fill=\"rgb(255,255,255)\" class=\"agent_1_46\"/><circle cx=\"53\" cy=\"318\" r=\"13\" fill=\"rgb(255,255,255)\" class=\"agent_1_48\"/><circle cx=\"348\" cy=\"66\" r=\"11\" fill=\"rgb(255,255,255)\" class=\"agent_1_68\"/></svg></div>"
      ],
      "text/plain": [
       "<IPython.core.display.HTML object>"
      ]
     },
     "metadata": {},
     "output_type": "display_data"
    },
    {
     "name": "stdout",
     "output_type": "stream",
     "text": [
      "beam 0\ti have a tiny light grey dot with a smaller black dot to the right of it . i have a small black dot to the right of the black dot <eos>\n",
      "greedy\ti have a tiny light grey dot with a smaller black dot to the right of it . i have a small black dot to the right of the black dot <eos>\n",
      "human\ti do too ... is it at the bottom of a diagonal line with a medium grey , medium sized dot and a smaller dark grey dot ? <eos>\n",
      "refs_pred\n"
     ]
    },
    {
     "data": {
      "text/html": [
       "<div style=\"white-space: nowrap\"><svg viewbox='0 0 430 430' width=\"172\" height=\"172\" id=\"agent_1\"><circle cx=\"215\" cy=\"215\" r=\"205\" fill=\"none\" stroke=\"black\" stroke-width=\"2\" stroke-dasharray=\"3,3\"/><circle cx=\"349\" cy=\"298\" r=\"9\" fill=\"rgb(85,85,85)\"/><circle cx=\"81\" cy=\"132\" r=\"13\" fill=\"rgb(58,58,58)\"/><circle cx=\"349\" cy=\"210\" r=\"8\" fill=\"rgb(106,106,106)\"/><circle cx=\"272\" cy=\"379\" r=\"7\" fill=\"rgb(171,171,171)\"/><circle cx=\"313\" cy=\"340\" r=\"12\" fill=\"rgb(106,106,106)\"/><circle cx=\"53\" cy=\"318\" r=\"13\" fill=\"rgb(144,144,144)\"/><circle cx=\"348\" cy=\"66\" r=\"11\" fill=\"rgb(156,156,156)\"/></svg><svg viewBox='0 0 430 430' id=\"svg\" width=\"172\" height=\"172\"><circle cx=\"215\" cy=\"215\" r=\"205\" fill=\"none\" stroke=\"black\" stroke-width=\"2\" stroke-dasharray=\"3,3\"/> <circle cx=\"349\" cy=\"298\" r=\"9\" fill=\"rgb(255,255,255)\" class=\"agent_1_3\"/><circle cx=\"81\" cy=\"132\" r=\"13\" fill=\"rgb(255,255,255)\" class=\"agent_1_7\"/><circle cx=\"349\" cy=\"210\" r=\"8\" fill=\"rgb(255,255,255)\" class=\"agent_1_29\"/><circle cx=\"272\" cy=\"379\" r=\"7\" fill=\"rgb(255,0,0)\" class=\"agent_1_39\"/><circle cx=\"313\" cy=\"340\" r=\"12\" fill=\"rgb(255,255,255)\" class=\"agent_1_46\"/><circle cx=\"53\" cy=\"318\" r=\"13\" fill=\"rgb(255,255,255)\" class=\"agent_1_48\"/><circle cx=\"348\" cy=\"66\" r=\"11\" fill=\"rgb(255,255,255)\" class=\"agent_1_68\"/></svg><svg viewBox='0 0 430 430' id=\"svg\" width=\"172\" height=\"172\"><circle cx=\"215\" cy=\"215\" r=\"205\" fill=\"none\" stroke=\"black\" stroke-width=\"2\" stroke-dasharray=\"3,3\"/> <circle cx=\"349\" cy=\"298\" r=\"9\" fill=\"rgb(255,0,0)\" class=\"agent_1_3\"/><circle cx=\"81\" cy=\"132\" r=\"13\" fill=\"rgb(255,255,255)\" class=\"agent_1_7\"/><circle cx=\"349\" cy=\"210\" r=\"8\" fill=\"rgb(255,255,255)\" class=\"agent_1_29\"/><circle cx=\"272\" cy=\"379\" r=\"7\" fill=\"rgb(255,0,0)\" class=\"agent_1_39\"/><circle cx=\"313\" cy=\"340\" r=\"12\" fill=\"rgb(255,0,0)\" class=\"agent_1_46\"/><circle cx=\"53\" cy=\"318\" r=\"13\" fill=\"rgb(255,255,255)\" class=\"agent_1_48\"/><circle cx=\"348\" cy=\"66\" r=\"11\" fill=\"rgb(255,255,255)\" class=\"agent_1_68\"/></svg><svg viewBox='0 0 430 430' id=\"svg\" width=\"172\" height=\"172\"><circle cx=\"215\" cy=\"215\" r=\"205\" fill=\"none\" stroke=\"black\" stroke-width=\"2\" stroke-dasharray=\"3,3\"/> <circle cx=\"349\" cy=\"298\" r=\"9\" fill=\"rgb(255,255,255)\" class=\"agent_1_3\"/><circle cx=\"81\" cy=\"132\" r=\"13\" fill=\"rgb(255,255,255)\" class=\"agent_1_7\"/><circle cx=\"349\" cy=\"210\" r=\"8\" fill=\"rgb(255,255,255)\" class=\"agent_1_29\"/><circle cx=\"272\" cy=\"379\" r=\"7\" fill=\"rgb(255,255,255)\" class=\"agent_1_39\"/><circle cx=\"313\" cy=\"340\" r=\"12\" fill=\"rgb(255,0,0)\" class=\"agent_1_46\"/><circle cx=\"53\" cy=\"318\" r=\"13\" fill=\"rgb(255,255,255)\" class=\"agent_1_48\"/><circle cx=\"348\" cy=\"66\" r=\"11\" fill=\"rgb(255,255,255)\" class=\"agent_1_68\"/></svg><svg viewBox='0 0 430 430' id=\"svg\" width=\"172\" height=\"172\"><circle cx=\"215\" cy=\"215\" r=\"205\" fill=\"none\" stroke=\"black\" stroke-width=\"2\" stroke-dasharray=\"3,3\"/> <circle cx=\"349\" cy=\"298\" r=\"9\" fill=\"rgb(255,255,255)\" class=\"agent_1_3\"/><circle cx=\"81\" cy=\"132\" r=\"13\" fill=\"rgb(255,255,255)\" class=\"agent_1_7\"/><circle cx=\"349\" cy=\"210\" r=\"8\" fill=\"rgb(255,255,255)\" class=\"agent_1_29\"/><circle cx=\"272\" cy=\"379\" r=\"7\" fill=\"rgb(255,255,255)\" class=\"agent_1_39\"/><circle cx=\"313\" cy=\"340\" r=\"12\" fill=\"rgb(255,0,0)\" class=\"agent_1_46\"/><circle cx=\"53\" cy=\"318\" r=\"13\" fill=\"rgb(255,255,255)\" class=\"agent_1_48\"/><circle cx=\"348\" cy=\"66\" r=\"11\" fill=\"rgb(255,255,255)\" class=\"agent_1_68\"/></svg><svg viewBox='0 0 430 430' id=\"svg\" width=\"172\" height=\"172\"><circle cx=\"215\" cy=\"215\" r=\"205\" fill=\"none\" stroke=\"black\" stroke-width=\"2\" stroke-dasharray=\"3,3\"/> <circle cx=\"349\" cy=\"298\" r=\"9\" fill=\"rgb(255,0,0)\" class=\"agent_1_3\"/><circle cx=\"81\" cy=\"132\" r=\"13\" fill=\"rgb(255,255,255)\" class=\"agent_1_7\"/><circle cx=\"349\" cy=\"210\" r=\"8\" fill=\"rgb(255,255,255)\" class=\"agent_1_29\"/><circle cx=\"272\" cy=\"379\" r=\"7\" fill=\"rgb(255,255,255)\" class=\"agent_1_39\"/><circle cx=\"313\" cy=\"340\" r=\"12\" fill=\"rgb(255,255,255)\" class=\"agent_1_46\"/><circle cx=\"53\" cy=\"318\" r=\"13\" fill=\"rgb(255,255,255)\" class=\"agent_1_48\"/><circle cx=\"348\" cy=\"66\" r=\"11\" fill=\"rgb(255,255,255)\" class=\"agent_1_68\"/></svg></div>"
      ],
      "text/plain": [
       "<IPython.core.display.HTML object>"
      ]
     },
     "metadata": {},
     "output_type": "display_data"
    },
    {
     "name": "stdout",
     "output_type": "stream",
     "text": [
      "refs_true\n"
     ]
    },
    {
     "data": {
      "text/html": [
       "<div style=\"white-space: nowrap\"><svg viewbox='0 0 430 430' width=\"172\" height=\"172\" id=\"agent_1\"><circle cx=\"215\" cy=\"215\" r=\"205\" fill=\"none\" stroke=\"black\" stroke-width=\"2\" stroke-dasharray=\"3,3\"/><circle cx=\"349\" cy=\"298\" r=\"9\" fill=\"rgb(85,85,85)\"/><circle cx=\"81\" cy=\"132\" r=\"13\" fill=\"rgb(58,58,58)\"/><circle cx=\"349\" cy=\"210\" r=\"8\" fill=\"rgb(106,106,106)\"/><circle cx=\"272\" cy=\"379\" r=\"7\" fill=\"rgb(171,171,171)\"/><circle cx=\"313\" cy=\"340\" r=\"12\" fill=\"rgb(106,106,106)\"/><circle cx=\"53\" cy=\"318\" r=\"13\" fill=\"rgb(144,144,144)\"/><circle cx=\"348\" cy=\"66\" r=\"11\" fill=\"rgb(156,156,156)\"/></svg><svg viewBox='0 0 430 430' id=\"svg\" width=\"172\" height=\"172\"><circle cx=\"215\" cy=\"215\" r=\"205\" fill=\"none\" stroke=\"black\" stroke-width=\"2\" stroke-dasharray=\"3,3\"/> <circle cx=\"349\" cy=\"298\" r=\"9\" fill=\"rgb(255,255,255)\" class=\"agent_1_3\"/><circle cx=\"81\" cy=\"132\" r=\"13\" fill=\"rgb(255,255,255)\" class=\"agent_1_7\"/><circle cx=\"349\" cy=\"210\" r=\"8\" fill=\"rgb(255,255,255)\" class=\"agent_1_29\"/><circle cx=\"272\" cy=\"379\" r=\"7\" fill=\"rgb(255,0,0)\" class=\"agent_1_39\"/><circle cx=\"313\" cy=\"340\" r=\"12\" fill=\"rgb(255,255,255)\" class=\"agent_1_46\"/><circle cx=\"53\" cy=\"318\" r=\"13\" fill=\"rgb(255,255,255)\" class=\"agent_1_48\"/><circle cx=\"348\" cy=\"66\" r=\"11\" fill=\"rgb(255,255,255)\" class=\"agent_1_68\"/></svg><svg viewBox='0 0 430 430' id=\"svg\" width=\"172\" height=\"172\"><circle cx=\"215\" cy=\"215\" r=\"205\" fill=\"none\" stroke=\"black\" stroke-width=\"2\" stroke-dasharray=\"3,3\"/> <circle cx=\"349\" cy=\"298\" r=\"9\" fill=\"rgb(255,0,0)\" class=\"agent_1_3\"/><circle cx=\"81\" cy=\"132\" r=\"13\" fill=\"rgb(255,255,255)\" class=\"agent_1_7\"/><circle cx=\"349\" cy=\"210\" r=\"8\" fill=\"rgb(255,255,255)\" class=\"agent_1_29\"/><circle cx=\"272\" cy=\"379\" r=\"7\" fill=\"rgb(255,0,0)\" class=\"agent_1_39\"/><circle cx=\"313\" cy=\"340\" r=\"12\" fill=\"rgb(255,0,0)\" class=\"agent_1_46\"/><circle cx=\"53\" cy=\"318\" r=\"13\" fill=\"rgb(255,255,255)\" class=\"agent_1_48\"/><circle cx=\"348\" cy=\"66\" r=\"11\" fill=\"rgb(255,255,255)\" class=\"agent_1_68\"/></svg><svg viewBox='0 0 430 430' id=\"svg\" width=\"172\" height=\"172\"><circle cx=\"215\" cy=\"215\" r=\"205\" fill=\"none\" stroke=\"black\" stroke-width=\"2\" stroke-dasharray=\"3,3\"/> <circle cx=\"349\" cy=\"298\" r=\"9\" fill=\"rgb(255,255,255)\" class=\"agent_1_3\"/><circle cx=\"81\" cy=\"132\" r=\"13\" fill=\"rgb(255,255,255)\" class=\"agent_1_7\"/><circle cx=\"349\" cy=\"210\" r=\"8\" fill=\"rgb(255,255,255)\" class=\"agent_1_29\"/><circle cx=\"272\" cy=\"379\" r=\"7\" fill=\"rgb(255,255,255)\" class=\"agent_1_39\"/><circle cx=\"313\" cy=\"340\" r=\"12\" fill=\"rgb(255,0,0)\" class=\"agent_1_46\"/><circle cx=\"53\" cy=\"318\" r=\"13\" fill=\"rgb(255,255,255)\" class=\"agent_1_48\"/><circle cx=\"348\" cy=\"66\" r=\"11\" fill=\"rgb(255,255,255)\" class=\"agent_1_68\"/></svg><svg viewBox='0 0 430 430' id=\"svg\" width=\"172\" height=\"172\"><circle cx=\"215\" cy=\"215\" r=\"205\" fill=\"none\" stroke=\"black\" stroke-width=\"2\" stroke-dasharray=\"3,3\"/> <circle cx=\"349\" cy=\"298\" r=\"9\" fill=\"rgb(255,255,255)\" class=\"agent_1_3\"/><circle cx=\"81\" cy=\"132\" r=\"13\" fill=\"rgb(255,255,255)\" class=\"agent_1_7\"/><circle cx=\"349\" cy=\"210\" r=\"8\" fill=\"rgb(255,255,255)\" class=\"agent_1_29\"/><circle cx=\"272\" cy=\"379\" r=\"7\" fill=\"rgb(255,255,255)\" class=\"agent_1_39\"/><circle cx=\"313\" cy=\"340\" r=\"12\" fill=\"rgb(255,0,0)\" class=\"agent_1_46\"/><circle cx=\"53\" cy=\"318\" r=\"13\" fill=\"rgb(255,255,255)\" class=\"agent_1_48\"/><circle cx=\"348\" cy=\"66\" r=\"11\" fill=\"rgb(255,255,255)\" class=\"agent_1_68\"/></svg><svg viewBox='0 0 430 430' id=\"svg\" width=\"172\" height=\"172\"><circle cx=\"215\" cy=\"215\" r=\"205\" fill=\"none\" stroke=\"black\" stroke-width=\"2\" stroke-dasharray=\"3,3\"/> <circle cx=\"349\" cy=\"298\" r=\"9\" fill=\"rgb(255,0,0)\" class=\"agent_1_3\"/><circle cx=\"81\" cy=\"132\" r=\"13\" fill=\"rgb(255,255,255)\" class=\"agent_1_7\"/><circle cx=\"349\" cy=\"210\" r=\"8\" fill=\"rgb(255,255,255)\" class=\"agent_1_29\"/><circle cx=\"272\" cy=\"379\" r=\"7\" fill=\"rgb(255,255,255)\" class=\"agent_1_39\"/><circle cx=\"313\" cy=\"340\" r=\"12\" fill=\"rgb(255,255,255)\" class=\"agent_1_46\"/><circle cx=\"53\" cy=\"318\" r=\"13\" fill=\"rgb(255,255,255)\" class=\"agent_1_48\"/><circle cx=\"348\" cy=\"66\" r=\"11\" fill=\"rgb(255,255,255)\" class=\"agent_1_68\"/></svg></div>"
      ],
      "text/plain": [
       "<IPython.core.display.HTML object>"
      ]
     },
     "metadata": {},
     "output_type": "display_data"
    },
    {
     "name": "stdout",
     "output_type": "stream",
     "text": [
      "utt: i do too ... is it at the bottom of a diagonal line with a medium grey , medium sized dot and a smaller dark grey dot ? <eos>\n",
      "detected markables:\n",
      "({'start': 19, 'end': 21, 'is_self': True, 'text': 'it'}, (6, 6, 7))\n",
      "({'start': 39, 'end': 54, 'is_self': True, 'text': 'a diagonal line'}, (11, 13, 14))\n",
      "({'start': 60, 'end': 92, 'is_self': True, 'text': 'a medium grey , medium sized dot'}, (15, 21, 22))\n",
      "({'start': 97, 'end': 120, 'is_self': True, 'text': 'a smaller dark grey dot'}, (23, 27, 28))\n",
      "\n",
      "----------------------------------------\n",
      "\n",
      "human\tTHEM: yes <eos>\n",
      "utt: yes <eos>\n",
      "detected markables:\n",
      "\n",
      "----------------------------------------\n",
      "\n",
      "to_mention_pred\n"
     ]
    },
    {
     "data": {
      "text/html": [
       "<div style=\"white-space: nowrap\"><svg viewbox='0 0 430 430' width=\"172\" height=\"172\" id=\"agent_1\"><circle cx=\"215\" cy=\"215\" r=\"205\" fill=\"none\" stroke=\"black\" stroke-width=\"2\" stroke-dasharray=\"3,3\"/><circle cx=\"349\" cy=\"298\" r=\"9\" fill=\"rgb(85,85,85)\"/><circle cx=\"81\" cy=\"132\" r=\"13\" fill=\"rgb(58,58,58)\"/><circle cx=\"349\" cy=\"210\" r=\"8\" fill=\"rgb(106,106,106)\"/><circle cx=\"272\" cy=\"379\" r=\"7\" fill=\"rgb(171,171,171)\"/><circle cx=\"313\" cy=\"340\" r=\"12\" fill=\"rgb(106,106,106)\"/><circle cx=\"53\" cy=\"318\" r=\"13\" fill=\"rgb(144,144,144)\"/><circle cx=\"348\" cy=\"66\" r=\"11\" fill=\"rgb(156,156,156)\"/></svg><svg viewBox='0 0 430 430' id=\"svg\" width=\"172\" height=\"172\"><circle cx=\"215\" cy=\"215\" r=\"205\" fill=\"none\" stroke=\"black\" stroke-width=\"2\" stroke-dasharray=\"3,3\"/> <circle cx=\"349\" cy=\"298\" r=\"9\" fill=\"rgb(255,255,255)\" class=\"agent_1_3\"/><circle cx=\"81\" cy=\"132\" r=\"13\" fill=\"rgb(255,255,255)\" class=\"agent_1_7\"/><circle cx=\"349\" cy=\"210\" r=\"8\" fill=\"rgb(255,255,255)\" class=\"agent_1_29\"/><circle cx=\"272\" cy=\"379\" r=\"7\" fill=\"rgb(255,0,0)\" class=\"agent_1_39\"/><circle cx=\"313\" cy=\"340\" r=\"12\" fill=\"rgb(255,255,255)\" class=\"agent_1_46\"/><circle cx=\"53\" cy=\"318\" r=\"13\" fill=\"rgb(255,255,255)\" class=\"agent_1_48\"/><circle cx=\"348\" cy=\"66\" r=\"11\" fill=\"rgb(255,255,255)\" class=\"agent_1_68\"/></svg></div>"
      ],
      "text/plain": [
       "<IPython.core.display.HTML object>"
      ]
     },
     "metadata": {},
     "output_type": "display_data"
    },
    {
     "name": "stdout",
     "output_type": "stream",
     "text": [
      "to_mention_true\n"
     ]
    },
    {
     "data": {
      "text/html": [
       "<div style=\"white-space: nowrap\"><svg viewbox='0 0 430 430' width=\"172\" height=\"172\" id=\"agent_1\"><circle cx=\"215\" cy=\"215\" r=\"205\" fill=\"none\" stroke=\"black\" stroke-width=\"2\" stroke-dasharray=\"3,3\"/><circle cx=\"349\" cy=\"298\" r=\"9\" fill=\"rgb(85,85,85)\"/><circle cx=\"81\" cy=\"132\" r=\"13\" fill=\"rgb(58,58,58)\"/><circle cx=\"349\" cy=\"210\" r=\"8\" fill=\"rgb(106,106,106)\"/><circle cx=\"272\" cy=\"379\" r=\"7\" fill=\"rgb(171,171,171)\"/><circle cx=\"313\" cy=\"340\" r=\"12\" fill=\"rgb(106,106,106)\"/><circle cx=\"53\" cy=\"318\" r=\"13\" fill=\"rgb(144,144,144)\"/><circle cx=\"348\" cy=\"66\" r=\"11\" fill=\"rgb(156,156,156)\"/></svg><svg viewBox='0 0 430 430' id=\"svg\" width=\"172\" height=\"172\"><circle cx=\"215\" cy=\"215\" r=\"205\" fill=\"none\" stroke=\"black\" stroke-width=\"2\" stroke-dasharray=\"3,3\"/> <circle cx=\"349\" cy=\"298\" r=\"9\" fill=\"rgb(255,255,255)\" class=\"agent_1_3\"/><circle cx=\"81\" cy=\"132\" r=\"13\" fill=\"rgb(255,255,255)\" class=\"agent_1_7\"/><circle cx=\"349\" cy=\"210\" r=\"8\" fill=\"rgb(255,255,255)\" class=\"agent_1_29\"/><circle cx=\"272\" cy=\"379\" r=\"7\" fill=\"rgb(255,0,0)\" class=\"agent_1_39\"/><circle cx=\"313\" cy=\"340\" r=\"12\" fill=\"rgb(255,255,255)\" class=\"agent_1_46\"/><circle cx=\"53\" cy=\"318\" r=\"13\" fill=\"rgb(255,255,255)\" class=\"agent_1_48\"/><circle cx=\"348\" cy=\"66\" r=\"11\" fill=\"rgb(255,255,255)\" class=\"agent_1_68\"/></svg></div>"
      ],
      "text/plain": [
       "<IPython.core.display.HTML object>"
      ]
     },
     "metadata": {},
     "output_type": "display_data"
    },
    {
     "name": "stdout",
     "output_type": "stream",
     "text": [
      "beam 0\tlet 's pick the tiny light grey dot <selection>\n",
      "greedy\tlet 's pick the tiny light grey dot <selection>\n",
      "human\tlet 's click the small light grey one . <eos>\n",
      "refs_pred\n"
     ]
    },
    {
     "data": {
      "text/html": [
       "<div style=\"white-space: nowrap\"><svg viewbox='0 0 430 430' width=\"172\" height=\"172\" id=\"agent_1\"><circle cx=\"215\" cy=\"215\" r=\"205\" fill=\"none\" stroke=\"black\" stroke-width=\"2\" stroke-dasharray=\"3,3\"/><circle cx=\"349\" cy=\"298\" r=\"9\" fill=\"rgb(85,85,85)\"/><circle cx=\"81\" cy=\"132\" r=\"13\" fill=\"rgb(58,58,58)\"/><circle cx=\"349\" cy=\"210\" r=\"8\" fill=\"rgb(106,106,106)\"/><circle cx=\"272\" cy=\"379\" r=\"7\" fill=\"rgb(171,171,171)\"/><circle cx=\"313\" cy=\"340\" r=\"12\" fill=\"rgb(106,106,106)\"/><circle cx=\"53\" cy=\"318\" r=\"13\" fill=\"rgb(144,144,144)\"/><circle cx=\"348\" cy=\"66\" r=\"11\" fill=\"rgb(156,156,156)\"/></svg><svg viewBox='0 0 430 430' id=\"svg\" width=\"172\" height=\"172\"><circle cx=\"215\" cy=\"215\" r=\"205\" fill=\"none\" stroke=\"black\" stroke-width=\"2\" stroke-dasharray=\"3,3\"/> <circle cx=\"349\" cy=\"298\" r=\"9\" fill=\"rgb(255,255,255)\" class=\"agent_1_3\"/><circle cx=\"81\" cy=\"132\" r=\"13\" fill=\"rgb(255,255,255)\" class=\"agent_1_7\"/><circle cx=\"349\" cy=\"210\" r=\"8\" fill=\"rgb(255,255,255)\" class=\"agent_1_29\"/><circle cx=\"272\" cy=\"379\" r=\"7\" fill=\"rgb(255,0,0)\" class=\"agent_1_39\"/><circle cx=\"313\" cy=\"340\" r=\"12\" fill=\"rgb(255,255,255)\" class=\"agent_1_46\"/><circle cx=\"53\" cy=\"318\" r=\"13\" fill=\"rgb(255,255,255)\" class=\"agent_1_48\"/><circle cx=\"348\" cy=\"66\" r=\"11\" fill=\"rgb(255,255,255)\" class=\"agent_1_68\"/></svg></div>"
      ],
      "text/plain": [
       "<IPython.core.display.HTML object>"
      ]
     },
     "metadata": {},
     "output_type": "display_data"
    },
    {
     "name": "stdout",
     "output_type": "stream",
     "text": [
      "refs_true\n"
     ]
    },
    {
     "data": {
      "text/html": [
       "<div style=\"white-space: nowrap\"><svg viewbox='0 0 430 430' width=\"172\" height=\"172\" id=\"agent_1\"><circle cx=\"215\" cy=\"215\" r=\"205\" fill=\"none\" stroke=\"black\" stroke-width=\"2\" stroke-dasharray=\"3,3\"/><circle cx=\"349\" cy=\"298\" r=\"9\" fill=\"rgb(85,85,85)\"/><circle cx=\"81\" cy=\"132\" r=\"13\" fill=\"rgb(58,58,58)\"/><circle cx=\"349\" cy=\"210\" r=\"8\" fill=\"rgb(106,106,106)\"/><circle cx=\"272\" cy=\"379\" r=\"7\" fill=\"rgb(171,171,171)\"/><circle cx=\"313\" cy=\"340\" r=\"12\" fill=\"rgb(106,106,106)\"/><circle cx=\"53\" cy=\"318\" r=\"13\" fill=\"rgb(144,144,144)\"/><circle cx=\"348\" cy=\"66\" r=\"11\" fill=\"rgb(156,156,156)\"/></svg><svg viewBox='0 0 430 430' id=\"svg\" width=\"172\" height=\"172\"><circle cx=\"215\" cy=\"215\" r=\"205\" fill=\"none\" stroke=\"black\" stroke-width=\"2\" stroke-dasharray=\"3,3\"/> <circle cx=\"349\" cy=\"298\" r=\"9\" fill=\"rgb(255,255,255)\" class=\"agent_1_3\"/><circle cx=\"81\" cy=\"132\" r=\"13\" fill=\"rgb(255,255,255)\" class=\"agent_1_7\"/><circle cx=\"349\" cy=\"210\" r=\"8\" fill=\"rgb(255,255,255)\" class=\"agent_1_29\"/><circle cx=\"272\" cy=\"379\" r=\"7\" fill=\"rgb(255,0,0)\" class=\"agent_1_39\"/><circle cx=\"313\" cy=\"340\" r=\"12\" fill=\"rgb(255,255,255)\" class=\"agent_1_46\"/><circle cx=\"53\" cy=\"318\" r=\"13\" fill=\"rgb(255,255,255)\" class=\"agent_1_48\"/><circle cx=\"348\" cy=\"66\" r=\"11\" fill=\"rgb(255,255,255)\" class=\"agent_1_68\"/></svg></div>"
      ],
      "text/plain": [
       "<IPython.core.display.HTML object>"
      ]
     },
     "metadata": {},
     "output_type": "display_data"
    },
    {
     "name": "stdout",
     "output_type": "stream",
     "text": [
      "utt: let 's click the small light grey one . <eos>\n",
      "detected markables:\n",
      "({'start': 16, 'end': 40, 'is_self': True, 'text': 'the small light grey one'}, (4, 8, 9))\n",
      "\n",
      "----------------------------------------\n",
      "\n",
      "human\tTHEM: ok <selection>\n",
      "utt: ok <selection>\n",
      "detected markables:\n",
      "\n",
      "----------------------------------------\n",
      "\n",
      "sel_pred\n"
     ]
    },
    {
     "data": {
      "text/html": [
       "<div style=\"white-space: nowrap\"><svg viewbox='0 0 430 430' width=\"172\" height=\"172\" id=\"agent_1\"><circle cx=\"215\" cy=\"215\" r=\"205\" fill=\"none\" stroke=\"black\" stroke-width=\"2\" stroke-dasharray=\"3,3\"/><circle cx=\"349\" cy=\"298\" r=\"9\" fill=\"rgb(85,85,85)\"/><circle cx=\"81\" cy=\"132\" r=\"13\" fill=\"rgb(58,58,58)\"/><circle cx=\"349\" cy=\"210\" r=\"8\" fill=\"rgb(106,106,106)\"/><circle cx=\"272\" cy=\"379\" r=\"7\" fill=\"rgb(171,171,171)\"/><circle cx=\"313\" cy=\"340\" r=\"12\" fill=\"rgb(106,106,106)\"/><circle cx=\"53\" cy=\"318\" r=\"13\" fill=\"rgb(144,144,144)\"/><circle cx=\"348\" cy=\"66\" r=\"11\" fill=\"rgb(156,156,156)\"/></svg><svg viewBox='0 0 430 430' id=\"svg\" width=\"172\" height=\"172\"><circle cx=\"215\" cy=\"215\" r=\"205\" fill=\"none\" stroke=\"black\" stroke-width=\"2\" stroke-dasharray=\"3,3\"/> <circle cx=\"349\" cy=\"298\" r=\"9\" fill=\"rgb(255,254,254)\" class=\"agent_1_3\"/><circle cx=\"81\" cy=\"132\" r=\"13\" fill=\"rgb(255,254,254)\" class=\"agent_1_7\"/><circle cx=\"349\" cy=\"210\" r=\"8\" fill=\"rgb(255,254,254)\" class=\"agent_1_29\"/><circle cx=\"272\" cy=\"379\" r=\"7\" fill=\"rgb(255,42,42)\" class=\"agent_1_39\"/><circle cx=\"313\" cy=\"340\" r=\"12\" fill=\"rgb(255,254,254)\" class=\"agent_1_46\"/><circle cx=\"53\" cy=\"318\" r=\"13\" fill=\"rgb(255,254,254)\" class=\"agent_1_48\"/><circle cx=\"348\" cy=\"66\" r=\"11\" fill=\"rgb(255,254,254)\" class=\"agent_1_68\"/></svg></div>"
      ],
      "text/plain": [
       "<IPython.core.display.HTML object>"
      ]
     },
     "metadata": {},
     "output_type": "display_data"
    },
    {
     "name": "stdout",
     "output_type": "stream",
     "text": [
      "sel_true\n"
     ]
    },
    {
     "data": {
      "text/html": [
       "<div style=\"white-space: nowrap\"><svg viewbox='0 0 430 430' width=\"172\" height=\"172\" id=\"agent_1\"><circle cx=\"215\" cy=\"215\" r=\"205\" fill=\"none\" stroke=\"black\" stroke-width=\"2\" stroke-dasharray=\"3,3\"/><circle cx=\"349\" cy=\"298\" r=\"9\" fill=\"rgb(85,85,85)\"/><circle cx=\"81\" cy=\"132\" r=\"13\" fill=\"rgb(58,58,58)\"/><circle cx=\"349\" cy=\"210\" r=\"8\" fill=\"rgb(106,106,106)\"/><circle cx=\"272\" cy=\"379\" r=\"7\" fill=\"rgb(171,171,171)\"/><circle cx=\"313\" cy=\"340\" r=\"12\" fill=\"rgb(106,106,106)\"/><circle cx=\"53\" cy=\"318\" r=\"13\" fill=\"rgb(144,144,144)\"/><circle cx=\"348\" cy=\"66\" r=\"11\" fill=\"rgb(156,156,156)\"/></svg><svg viewBox='0 0 430 430' id=\"svg\" width=\"172\" height=\"172\"><circle cx=\"215\" cy=\"215\" r=\"205\" fill=\"none\" stroke=\"black\" stroke-width=\"2\" stroke-dasharray=\"3,3\"/> <circle cx=\"349\" cy=\"298\" r=\"9\" fill=\"rgb(255,255,255)\" class=\"agent_1_3\"/><circle cx=\"81\" cy=\"132\" r=\"13\" fill=\"rgb(255,255,255)\" class=\"agent_1_7\"/><circle cx=\"349\" cy=\"210\" r=\"8\" fill=\"rgb(255,255,255)\" class=\"agent_1_29\"/><circle cx=\"272\" cy=\"379\" r=\"7\" fill=\"rgb(255,0,0)\" class=\"agent_1_39\"/><circle cx=\"313\" cy=\"340\" r=\"12\" fill=\"rgb(255,255,255)\" class=\"agent_1_46\"/><circle cx=\"53\" cy=\"318\" r=\"13\" fill=\"rgb(255,255,255)\" class=\"agent_1_48\"/><circle cx=\"348\" cy=\"66\" r=\"11\" fill=\"rgb(255,255,255)\" class=\"agent_1_68\"/></svg></div>"
      ],
      "text/plain": [
       "<IPython.core.display.HTML object>"
      ]
     },
     "metadata": {},
     "output_type": "display_data"
    }
   ],
   "source": [
    "force_contexts_and_mentions(3, candidates=1)"
   ]
  },
  {
   "cell_type": "code",
   "execution_count": 72,
   "metadata": {
    "scrolled": false
   },
   "outputs": [
    {
     "name": "stdout",
     "output_type": "stream",
     "text": [
      "human\tTHEM: do you have 2 dots close in size close together . left one is lighter than the right ? <eos>\n",
      "partner_refs_pred\n"
     ]
    },
    {
     "data": {
      "text/html": [
       "<div style=\"white-space: nowrap\"><svg viewbox='0 0 430 430' width=\"172\" height=\"172\" id=\"agent_1\"><circle cx=\"215\" cy=\"215\" r=\"205\" fill=\"none\" stroke=\"black\" stroke-width=\"2\" stroke-dasharray=\"3,3\"/><circle cx=\"187\" cy=\"347\" r=\"9\" fill=\"rgb(156,156,156)\"/><circle cx=\"319\" cy=\"114\" r=\"8\" fill=\"rgb(59,59,59)\"/><circle cx=\"226\" cy=\"74\" r=\"13\" fill=\"rgb(115,115,115)\"/><circle cx=\"225\" cy=\"256\" r=\"11\" fill=\"rgb(113,113,113)\"/><circle cx=\"171\" cy=\"155\" r=\"12\" fill=\"rgb(133,133,133)\"/><circle cx=\"116\" cy=\"372\" r=\"11\" fill=\"rgb(106,106,106)\"/><circle cx=\"230\" cy=\"366\" r=\"9\" fill=\"rgb(67,67,67)\"/></svg><svg viewBox='0 0 430 430' id=\"svg\" width=\"172\" height=\"172\"><circle cx=\"215\" cy=\"215\" r=\"205\" fill=\"none\" stroke=\"black\" stroke-width=\"2\" stroke-dasharray=\"3,3\"/> <circle cx=\"187\" cy=\"347\" r=\"9\" fill=\"rgb(255,0,0)\" class=\"agent_1_3\"/><circle cx=\"319\" cy=\"114\" r=\"8\" fill=\"rgb(255,255,255)\" class=\"agent_1_4\"/><circle cx=\"226\" cy=\"74\" r=\"13\" fill=\"rgb(255,255,255)\" class=\"agent_1_5\"/><circle cx=\"225\" cy=\"256\" r=\"11\" fill=\"rgb(255,255,255)\" class=\"agent_1_18\"/><circle cx=\"171\" cy=\"155\" r=\"12\" fill=\"rgb(255,255,255)\" class=\"agent_1_26\"/><circle cx=\"116\" cy=\"372\" r=\"11\" fill=\"rgb(255,255,255)\" class=\"agent_1_68\"/><circle cx=\"230\" cy=\"366\" r=\"9\" fill=\"rgb(255,0,0)\" class=\"agent_1_77\"/></svg><svg viewBox='0 0 430 430' id=\"svg\" width=\"172\" height=\"172\"><circle cx=\"215\" cy=\"215\" r=\"205\" fill=\"none\" stroke=\"black\" stroke-width=\"2\" stroke-dasharray=\"3,3\"/> <circle cx=\"187\" cy=\"347\" r=\"9\" fill=\"rgb(255,0,0)\" class=\"agent_1_3\"/><circle cx=\"319\" cy=\"114\" r=\"8\" fill=\"rgb(255,255,255)\" class=\"agent_1_4\"/><circle cx=\"226\" cy=\"74\" r=\"13\" fill=\"rgb(255,255,255)\" class=\"agent_1_5\"/><circle cx=\"225\" cy=\"256\" r=\"11\" fill=\"rgb(255,255,255)\" class=\"agent_1_18\"/><circle cx=\"171\" cy=\"155\" r=\"12\" fill=\"rgb(255,255,255)\" class=\"agent_1_26\"/><circle cx=\"116\" cy=\"372\" r=\"11\" fill=\"rgb(255,255,255)\" class=\"agent_1_68\"/><circle cx=\"230\" cy=\"366\" r=\"9\" fill=\"rgb(255,255,255)\" class=\"agent_1_77\"/></svg><svg viewBox='0 0 430 430' id=\"svg\" width=\"172\" height=\"172\"><circle cx=\"215\" cy=\"215\" r=\"205\" fill=\"none\" stroke=\"black\" stroke-width=\"2\" stroke-dasharray=\"3,3\"/> <circle cx=\"187\" cy=\"347\" r=\"9\" fill=\"rgb(255,255,255)\" class=\"agent_1_3\"/><circle cx=\"319\" cy=\"114\" r=\"8\" fill=\"rgb(255,255,255)\" class=\"agent_1_4\"/><circle cx=\"226\" cy=\"74\" r=\"13\" fill=\"rgb(255,255,255)\" class=\"agent_1_5\"/><circle cx=\"225\" cy=\"256\" r=\"11\" fill=\"rgb(255,255,255)\" class=\"agent_1_18\"/><circle cx=\"171\" cy=\"155\" r=\"12\" fill=\"rgb(255,255,255)\" class=\"agent_1_26\"/><circle cx=\"116\" cy=\"372\" r=\"11\" fill=\"rgb(255,255,255)\" class=\"agent_1_68\"/><circle cx=\"230\" cy=\"366\" r=\"9\" fill=\"rgb(255,0,0)\" class=\"agent_1_77\"/></svg></div>"
      ],
      "text/plain": [
       "<IPython.core.display.HTML object>"
      ]
     },
     "metadata": {},
     "output_type": "display_data"
    },
    {
     "name": "stdout",
     "output_type": "stream",
     "text": [
      "partner_refs_true\n"
     ]
    },
    {
     "data": {
      "text/html": [
       "<div style=\"white-space: nowrap\"><svg viewbox='0 0 430 430' width=\"172\" height=\"172\" id=\"agent_1\"><circle cx=\"215\" cy=\"215\" r=\"205\" fill=\"none\" stroke=\"black\" stroke-width=\"2\" stroke-dasharray=\"3,3\"/><circle cx=\"187\" cy=\"347\" r=\"9\" fill=\"rgb(156,156,156)\"/><circle cx=\"319\" cy=\"114\" r=\"8\" fill=\"rgb(59,59,59)\"/><circle cx=\"226\" cy=\"74\" r=\"13\" fill=\"rgb(115,115,115)\"/><circle cx=\"225\" cy=\"256\" r=\"11\" fill=\"rgb(113,113,113)\"/><circle cx=\"171\" cy=\"155\" r=\"12\" fill=\"rgb(133,133,133)\"/><circle cx=\"116\" cy=\"372\" r=\"11\" fill=\"rgb(106,106,106)\"/><circle cx=\"230\" cy=\"366\" r=\"9\" fill=\"rgb(67,67,67)\"/></svg><svg viewBox='0 0 430 430' id=\"svg\" width=\"172\" height=\"172\"><circle cx=\"215\" cy=\"215\" r=\"205\" fill=\"none\" stroke=\"black\" stroke-width=\"2\" stroke-dasharray=\"3,3\"/> <circle cx=\"187\" cy=\"347\" r=\"9\" fill=\"rgb(255,0,0)\" class=\"agent_1_3\"/><circle cx=\"319\" cy=\"114\" r=\"8\" fill=\"rgb(255,255,255)\" class=\"agent_1_4\"/><circle cx=\"226\" cy=\"74\" r=\"13\" fill=\"rgb(255,255,255)\" class=\"agent_1_5\"/><circle cx=\"225\" cy=\"256\" r=\"11\" fill=\"rgb(255,255,255)\" class=\"agent_1_18\"/><circle cx=\"171\" cy=\"155\" r=\"12\" fill=\"rgb(255,255,255)\" class=\"agent_1_26\"/><circle cx=\"116\" cy=\"372\" r=\"11\" fill=\"rgb(255,255,255)\" class=\"agent_1_68\"/><circle cx=\"230\" cy=\"366\" r=\"9\" fill=\"rgb(255,0,0)\" class=\"agent_1_77\"/></svg><svg viewBox='0 0 430 430' id=\"svg\" width=\"172\" height=\"172\"><circle cx=\"215\" cy=\"215\" r=\"205\" fill=\"none\" stroke=\"black\" stroke-width=\"2\" stroke-dasharray=\"3,3\"/> <circle cx=\"187\" cy=\"347\" r=\"9\" fill=\"rgb(255,0,0)\" class=\"agent_1_3\"/><circle cx=\"319\" cy=\"114\" r=\"8\" fill=\"rgb(255,255,255)\" class=\"agent_1_4\"/><circle cx=\"226\" cy=\"74\" r=\"13\" fill=\"rgb(255,255,255)\" class=\"agent_1_5\"/><circle cx=\"225\" cy=\"256\" r=\"11\" fill=\"rgb(255,255,255)\" class=\"agent_1_18\"/><circle cx=\"171\" cy=\"155\" r=\"12\" fill=\"rgb(255,255,255)\" class=\"agent_1_26\"/><circle cx=\"116\" cy=\"372\" r=\"11\" fill=\"rgb(255,255,255)\" class=\"agent_1_68\"/><circle cx=\"230\" cy=\"366\" r=\"9\" fill=\"rgb(255,255,255)\" class=\"agent_1_77\"/></svg><svg viewBox='0 0 430 430' id=\"svg\" width=\"172\" height=\"172\"><circle cx=\"215\" cy=\"215\" r=\"205\" fill=\"none\" stroke=\"black\" stroke-width=\"2\" stroke-dasharray=\"3,3\"/> <circle cx=\"187\" cy=\"347\" r=\"9\" fill=\"rgb(255,255,255)\" class=\"agent_1_3\"/><circle cx=\"319\" cy=\"114\" r=\"8\" fill=\"rgb(255,255,255)\" class=\"agent_1_4\"/><circle cx=\"226\" cy=\"74\" r=\"13\" fill=\"rgb(255,255,255)\" class=\"agent_1_5\"/><circle cx=\"225\" cy=\"256\" r=\"11\" fill=\"rgb(255,255,255)\" class=\"agent_1_18\"/><circle cx=\"171\" cy=\"155\" r=\"12\" fill=\"rgb(255,255,255)\" class=\"agent_1_26\"/><circle cx=\"116\" cy=\"372\" r=\"11\" fill=\"rgb(255,255,255)\" class=\"agent_1_68\"/><circle cx=\"230\" cy=\"366\" r=\"9\" fill=\"rgb(255,0,0)\" class=\"agent_1_77\"/></svg></div>"
      ],
      "text/plain": [
       "<IPython.core.display.HTML object>"
      ]
     },
     "metadata": {},
     "output_type": "display_data"
    },
    {
     "name": "stdout",
     "output_type": "stream",
     "text": [
      "utt: do you have 2 dots close in size close together . left one is lighter than the right ? <eos>\n",
      "detected markables:\n",
      "({'start': 15, 'end': 21, 'is_self': True, 'text': '2 dots'}, (4, 5, 6))\n",
      "({'start': 53, 'end': 61, 'is_self': True, 'text': 'left one'}, (12, 13, 14))\n",
      "({'start': 78, 'end': 87, 'is_self': True, 'text': 'the right'}, (17, 18, 19))\n",
      "\n",
      "----------------------------------------\n",
      "\n",
      "to_mention_pred\n"
     ]
    },
    {
     "data": {
      "text/html": [
       "<div style=\"white-space: nowrap\"><svg viewbox='0 0 430 430' width=\"172\" height=\"172\" id=\"agent_1\"><circle cx=\"215\" cy=\"215\" r=\"205\" fill=\"none\" stroke=\"black\" stroke-width=\"2\" stroke-dasharray=\"3,3\"/><circle cx=\"187\" cy=\"347\" r=\"9\" fill=\"rgb(156,156,156)\"/><circle cx=\"319\" cy=\"114\" r=\"8\" fill=\"rgb(59,59,59)\"/><circle cx=\"226\" cy=\"74\" r=\"13\" fill=\"rgb(115,115,115)\"/><circle cx=\"225\" cy=\"256\" r=\"11\" fill=\"rgb(113,113,113)\"/><circle cx=\"171\" cy=\"155\" r=\"12\" fill=\"rgb(133,133,133)\"/><circle cx=\"116\" cy=\"372\" r=\"11\" fill=\"rgb(106,106,106)\"/><circle cx=\"230\" cy=\"366\" r=\"9\" fill=\"rgb(67,67,67)\"/></svg><svg viewBox='0 0 430 430' id=\"svg\" width=\"172\" height=\"172\"><circle cx=\"215\" cy=\"215\" r=\"205\" fill=\"none\" stroke=\"black\" stroke-width=\"2\" stroke-dasharray=\"3,3\"/> <circle cx=\"187\" cy=\"347\" r=\"9\" fill=\"rgb(255,0,0)\" class=\"agent_1_3\"/><circle cx=\"319\" cy=\"114\" r=\"8\" fill=\"rgb(255,255,255)\" class=\"agent_1_4\"/><circle cx=\"226\" cy=\"74\" r=\"13\" fill=\"rgb(255,255,255)\" class=\"agent_1_5\"/><circle cx=\"225\" cy=\"256\" r=\"11\" fill=\"rgb(255,255,255)\" class=\"agent_1_18\"/><circle cx=\"171\" cy=\"155\" r=\"12\" fill=\"rgb(255,255,255)\" class=\"agent_1_26\"/><circle cx=\"116\" cy=\"372\" r=\"11\" fill=\"rgb(255,255,255)\" class=\"agent_1_68\"/><circle cx=\"230\" cy=\"366\" r=\"9\" fill=\"rgb(255,0,0)\" class=\"agent_1_77\"/></svg><svg viewBox='0 0 430 430' id=\"svg\" width=\"172\" height=\"172\"><circle cx=\"215\" cy=\"215\" r=\"205\" fill=\"none\" stroke=\"black\" stroke-width=\"2\" stroke-dasharray=\"3,3\"/> <circle cx=\"187\" cy=\"347\" r=\"9\" fill=\"rgb(255,0,0)\" class=\"agent_1_3\"/><circle cx=\"319\" cy=\"114\" r=\"8\" fill=\"rgb(255,255,255)\" class=\"agent_1_4\"/><circle cx=\"226\" cy=\"74\" r=\"13\" fill=\"rgb(255,255,255)\" class=\"agent_1_5\"/><circle cx=\"225\" cy=\"256\" r=\"11\" fill=\"rgb(255,255,255)\" class=\"agent_1_18\"/><circle cx=\"171\" cy=\"155\" r=\"12\" fill=\"rgb(255,255,255)\" class=\"agent_1_26\"/><circle cx=\"116\" cy=\"372\" r=\"11\" fill=\"rgb(255,255,255)\" class=\"agent_1_68\"/><circle cx=\"230\" cy=\"366\" r=\"9\" fill=\"rgb(255,255,255)\" class=\"agent_1_77\"/></svg></div>"
      ],
      "text/plain": [
       "<IPython.core.display.HTML object>"
      ]
     },
     "metadata": {},
     "output_type": "display_data"
    },
    {
     "name": "stdout",
     "output_type": "stream",
     "text": [
      "to_mention_true\n"
     ]
    },
    {
     "data": {
      "text/html": [
       "<div style=\"white-space: nowrap\"><svg viewbox='0 0 430 430' width=\"172\" height=\"172\" id=\"agent_1\"><circle cx=\"215\" cy=\"215\" r=\"205\" fill=\"none\" stroke=\"black\" stroke-width=\"2\" stroke-dasharray=\"3,3\"/><circle cx=\"187\" cy=\"347\" r=\"9\" fill=\"rgb(156,156,156)\"/><circle cx=\"319\" cy=\"114\" r=\"8\" fill=\"rgb(59,59,59)\"/><circle cx=\"226\" cy=\"74\" r=\"13\" fill=\"rgb(115,115,115)\"/><circle cx=\"225\" cy=\"256\" r=\"11\" fill=\"rgb(113,113,113)\"/><circle cx=\"171\" cy=\"155\" r=\"12\" fill=\"rgb(133,133,133)\"/><circle cx=\"116\" cy=\"372\" r=\"11\" fill=\"rgb(106,106,106)\"/><circle cx=\"230\" cy=\"366\" r=\"9\" fill=\"rgb(67,67,67)\"/></svg><svg viewBox='0 0 430 430' id=\"svg\" width=\"172\" height=\"172\"><circle cx=\"215\" cy=\"215\" r=\"205\" fill=\"none\" stroke=\"black\" stroke-width=\"2\" stroke-dasharray=\"3,3\"/> <circle cx=\"187\" cy=\"347\" r=\"9\" fill=\"rgb(255,255,255)\" class=\"agent_1_3\"/><circle cx=\"319\" cy=\"114\" r=\"8\" fill=\"rgb(255,0,0)\" class=\"agent_1_4\"/><circle cx=\"226\" cy=\"74\" r=\"13\" fill=\"rgb(255,0,0)\" class=\"agent_1_5\"/><circle cx=\"225\" cy=\"256\" r=\"11\" fill=\"rgb(255,0,0)\" class=\"agent_1_18\"/><circle cx=\"171\" cy=\"155\" r=\"12\" fill=\"rgb(255,0,0)\" class=\"agent_1_26\"/><circle cx=\"116\" cy=\"372\" r=\"11\" fill=\"rgb(255,0,0)\" class=\"agent_1_68\"/><circle cx=\"230\" cy=\"366\" r=\"9\" fill=\"rgb(255,0,0)\" class=\"agent_1_77\"/></svg><svg viewBox='0 0 430 430' id=\"svg\" width=\"172\" height=\"172\"><circle cx=\"215\" cy=\"215\" r=\"205\" fill=\"none\" stroke=\"black\" stroke-width=\"2\" stroke-dasharray=\"3,3\"/> <circle cx=\"187\" cy=\"347\" r=\"9\" fill=\"rgb(255,0,0)\" class=\"agent_1_3\"/><circle cx=\"319\" cy=\"114\" r=\"8\" fill=\"rgb(255,255,255)\" class=\"agent_1_4\"/><circle cx=\"226\" cy=\"74\" r=\"13\" fill=\"rgb(255,255,255)\" class=\"agent_1_5\"/><circle cx=\"225\" cy=\"256\" r=\"11\" fill=\"rgb(255,255,255)\" class=\"agent_1_18\"/><circle cx=\"171\" cy=\"155\" r=\"12\" fill=\"rgb(255,255,255)\" class=\"agent_1_26\"/><circle cx=\"116\" cy=\"372\" r=\"11\" fill=\"rgb(255,255,255)\" class=\"agent_1_68\"/><circle cx=\"230\" cy=\"366\" r=\"9\" fill=\"rgb(255,255,255)\" class=\"agent_1_77\"/></svg><svg viewBox='0 0 430 430' id=\"svg\" width=\"172\" height=\"172\"><circle cx=\"215\" cy=\"215\" r=\"205\" fill=\"none\" stroke=\"black\" stroke-width=\"2\" stroke-dasharray=\"3,3\"/> <circle cx=\"187\" cy=\"347\" r=\"9\" fill=\"rgb(255,255,255)\" class=\"agent_1_3\"/><circle cx=\"319\" cy=\"114\" r=\"8\" fill=\"rgb(255,255,255)\" class=\"agent_1_4\"/><circle cx=\"226\" cy=\"74\" r=\"13\" fill=\"rgb(255,255,255)\" class=\"agent_1_5\"/><circle cx=\"225\" cy=\"256\" r=\"11\" fill=\"rgb(255,255,255)\" class=\"agent_1_18\"/><circle cx=\"171\" cy=\"155\" r=\"12\" fill=\"rgb(255,255,255)\" class=\"agent_1_26\"/><circle cx=\"116\" cy=\"372\" r=\"11\" fill=\"rgb(255,255,255)\" class=\"agent_1_68\"/><circle cx=\"230\" cy=\"366\" r=\"9\" fill=\"rgb(255,0,0)\" class=\"agent_1_77\"/></svg><svg viewBox='0 0 430 430' id=\"svg\" width=\"172\" height=\"172\"><circle cx=\"215\" cy=\"215\" r=\"205\" fill=\"none\" stroke=\"black\" stroke-width=\"2\" stroke-dasharray=\"3,3\"/> <circle cx=\"187\" cy=\"347\" r=\"9\" fill=\"rgb(255,0,0)\" class=\"agent_1_3\"/><circle cx=\"319\" cy=\"114\" r=\"8\" fill=\"rgb(255,255,255)\" class=\"agent_1_4\"/><circle cx=\"226\" cy=\"74\" r=\"13\" fill=\"rgb(255,255,255)\" class=\"agent_1_5\"/><circle cx=\"225\" cy=\"256\" r=\"11\" fill=\"rgb(255,255,255)\" class=\"agent_1_18\"/><circle cx=\"171\" cy=\"155\" r=\"12\" fill=\"rgb(255,255,255)\" class=\"agent_1_26\"/><circle cx=\"116\" cy=\"372\" r=\"11\" fill=\"rgb(255,255,255)\" class=\"agent_1_68\"/><circle cx=\"230\" cy=\"366\" r=\"9\" fill=\"rgb(255,255,255)\" class=\"agent_1_77\"/></svg></div>"
      ],
      "text/plain": [
       "<IPython.core.display.HTML object>"
      ]
     },
     "metadata": {},
     "output_type": "display_data"
    },
    {
     "name": "stdout",
     "output_type": "stream",
     "text": [
      "beam 0\ti have a cluster of 4 dots , one of the rest are the same size and the rest are all the same size . the rest are the same size and the bottom one is the darkest <eos>\n",
      "greedy\ti have a cluster of 4 dots , one of the rest are the same size and the rest are all the same size . the rest are the same size and the bottom one is the darkest <eos>\n",
      "human\tdo you have mostly dark ones ? there is one med/grey one toward the bottom , small . with a small black one same size to it 's lower right <eos>\n",
      "refs_pred\n"
     ]
    },
    {
     "data": {
      "text/html": [
       "<div style=\"white-space: nowrap\"><svg viewbox='0 0 430 430' width=\"172\" height=\"172\" id=\"agent_1\"><circle cx=\"215\" cy=\"215\" r=\"205\" fill=\"none\" stroke=\"black\" stroke-width=\"2\" stroke-dasharray=\"3,3\"/><circle cx=\"187\" cy=\"347\" r=\"9\" fill=\"rgb(156,156,156)\"/><circle cx=\"319\" cy=\"114\" r=\"8\" fill=\"rgb(59,59,59)\"/><circle cx=\"226\" cy=\"74\" r=\"13\" fill=\"rgb(115,115,115)\"/><circle cx=\"225\" cy=\"256\" r=\"11\" fill=\"rgb(113,113,113)\"/><circle cx=\"171\" cy=\"155\" r=\"12\" fill=\"rgb(133,133,133)\"/><circle cx=\"116\" cy=\"372\" r=\"11\" fill=\"rgb(106,106,106)\"/><circle cx=\"230\" cy=\"366\" r=\"9\" fill=\"rgb(67,67,67)\"/></svg><svg viewBox='0 0 430 430' id=\"svg\" width=\"172\" height=\"172\"><circle cx=\"215\" cy=\"215\" r=\"205\" fill=\"none\" stroke=\"black\" stroke-width=\"2\" stroke-dasharray=\"3,3\"/> <circle cx=\"187\" cy=\"347\" r=\"9\" fill=\"rgb(255,255,255)\" class=\"agent_1_3\"/><circle cx=\"319\" cy=\"114\" r=\"8\" fill=\"rgb(255,0,0)\" class=\"agent_1_4\"/><circle cx=\"226\" cy=\"74\" r=\"13\" fill=\"rgb(255,0,0)\" class=\"agent_1_5\"/><circle cx=\"225\" cy=\"256\" r=\"11\" fill=\"rgb(255,0,0)\" class=\"agent_1_18\"/><circle cx=\"171\" cy=\"155\" r=\"12\" fill=\"rgb(255,0,0)\" class=\"agent_1_26\"/><circle cx=\"116\" cy=\"372\" r=\"11\" fill=\"rgb(255,255,255)\" class=\"agent_1_68\"/><circle cx=\"230\" cy=\"366\" r=\"9\" fill=\"rgb(255,255,255)\" class=\"agent_1_77\"/></svg><svg viewBox='0 0 430 430' id=\"svg\" width=\"172\" height=\"172\"><circle cx=\"215\" cy=\"215\" r=\"205\" fill=\"none\" stroke=\"black\" stroke-width=\"2\" stroke-dasharray=\"3,3\"/> <circle cx=\"187\" cy=\"347\" r=\"9\" fill=\"rgb(255,255,255)\" class=\"agent_1_3\"/><circle cx=\"319\" cy=\"114\" r=\"8\" fill=\"rgb(255,255,255)\" class=\"agent_1_4\"/><circle cx=\"226\" cy=\"74\" r=\"13\" fill=\"rgb(255,255,255)\" class=\"agent_1_5\"/><circle cx=\"225\" cy=\"256\" r=\"11\" fill=\"rgb(255,255,255)\" class=\"agent_1_18\"/><circle cx=\"171\" cy=\"155\" r=\"12\" fill=\"rgb(255,0,0)\" class=\"agent_1_26\"/><circle cx=\"116\" cy=\"372\" r=\"11\" fill=\"rgb(255,255,255)\" class=\"agent_1_68\"/><circle cx=\"230\" cy=\"366\" r=\"9\" fill=\"rgb(255,255,255)\" class=\"agent_1_77\"/></svg><svg viewBox='0 0 430 430' id=\"svg\" width=\"172\" height=\"172\"><circle cx=\"215\" cy=\"215\" r=\"205\" fill=\"none\" stroke=\"black\" stroke-width=\"2\" stroke-dasharray=\"3,3\"/> <circle cx=\"187\" cy=\"347\" r=\"9\" fill=\"rgb(255,255,255)\" class=\"agent_1_3\"/><circle cx=\"319\" cy=\"114\" r=\"8\" fill=\"rgb(255,0,0)\" class=\"agent_1_4\"/><circle cx=\"226\" cy=\"74\" r=\"13\" fill=\"rgb(255,255,255)\" class=\"agent_1_5\"/><circle cx=\"225\" cy=\"256\" r=\"11\" fill=\"rgb(255,255,255)\" class=\"agent_1_18\"/><circle cx=\"171\" cy=\"155\" r=\"12\" fill=\"rgb(255,255,255)\" class=\"agent_1_26\"/><circle cx=\"116\" cy=\"372\" r=\"11\" fill=\"rgb(255,255,255)\" class=\"agent_1_68\"/><circle cx=\"230\" cy=\"366\" r=\"9\" fill=\"rgb(255,255,255)\" class=\"agent_1_77\"/></svg><svg viewBox='0 0 430 430' id=\"svg\" width=\"172\" height=\"172\"><circle cx=\"215\" cy=\"215\" r=\"205\" fill=\"none\" stroke=\"black\" stroke-width=\"2\" stroke-dasharray=\"3,3\"/> <circle cx=\"187\" cy=\"347\" r=\"9\" fill=\"rgb(255,255,255)\" class=\"agent_1_3\"/><circle cx=\"319\" cy=\"114\" r=\"8\" fill=\"rgb(255,255,255)\" class=\"agent_1_4\"/><circle cx=\"226\" cy=\"74\" r=\"13\" fill=\"rgb(255,0,0)\" class=\"agent_1_5\"/><circle cx=\"225\" cy=\"256\" r=\"11\" fill=\"rgb(255,255,255)\" class=\"agent_1_18\"/><circle cx=\"171\" cy=\"155\" r=\"12\" fill=\"rgb(255,255,255)\" class=\"agent_1_26\"/><circle cx=\"116\" cy=\"372\" r=\"11\" fill=\"rgb(255,255,255)\" class=\"agent_1_68\"/><circle cx=\"230\" cy=\"366\" r=\"9\" fill=\"rgb(255,255,255)\" class=\"agent_1_77\"/></svg></div>"
      ],
      "text/plain": [
       "<IPython.core.display.HTML object>"
      ]
     },
     "metadata": {},
     "output_type": "display_data"
    },
    {
     "name": "stdout",
     "output_type": "stream",
     "text": [
      "refs_true\n"
     ]
    },
    {
     "data": {
      "text/html": [
       "<div style=\"white-space: nowrap\"><svg viewbox='0 0 430 430' width=\"172\" height=\"172\" id=\"agent_1\"><circle cx=\"215\" cy=\"215\" r=\"205\" fill=\"none\" stroke=\"black\" stroke-width=\"2\" stroke-dasharray=\"3,3\"/><circle cx=\"187\" cy=\"347\" r=\"9\" fill=\"rgb(156,156,156)\"/><circle cx=\"319\" cy=\"114\" r=\"8\" fill=\"rgb(59,59,59)\"/><circle cx=\"226\" cy=\"74\" r=\"13\" fill=\"rgb(115,115,115)\"/><circle cx=\"225\" cy=\"256\" r=\"11\" fill=\"rgb(113,113,113)\"/><circle cx=\"171\" cy=\"155\" r=\"12\" fill=\"rgb(133,133,133)\"/><circle cx=\"116\" cy=\"372\" r=\"11\" fill=\"rgb(106,106,106)\"/><circle cx=\"230\" cy=\"366\" r=\"9\" fill=\"rgb(67,67,67)\"/></svg><svg viewBox='0 0 430 430' id=\"svg\" width=\"172\" height=\"172\"><circle cx=\"215\" cy=\"215\" r=\"205\" fill=\"none\" stroke=\"black\" stroke-width=\"2\" stroke-dasharray=\"3,3\"/> <circle cx=\"187\" cy=\"347\" r=\"9\" fill=\"rgb(255,255,255)\" class=\"agent_1_3\"/><circle cx=\"319\" cy=\"114\" r=\"8\" fill=\"rgb(255,0,0)\" class=\"agent_1_4\"/><circle cx=\"226\" cy=\"74\" r=\"13\" fill=\"rgb(255,0,0)\" class=\"agent_1_5\"/><circle cx=\"225\" cy=\"256\" r=\"11\" fill=\"rgb(255,0,0)\" class=\"agent_1_18\"/><circle cx=\"171\" cy=\"155\" r=\"12\" fill=\"rgb(255,0,0)\" class=\"agent_1_26\"/><circle cx=\"116\" cy=\"372\" r=\"11\" fill=\"rgb(255,0,0)\" class=\"agent_1_68\"/><circle cx=\"230\" cy=\"366\" r=\"9\" fill=\"rgb(255,0,0)\" class=\"agent_1_77\"/></svg><svg viewBox='0 0 430 430' id=\"svg\" width=\"172\" height=\"172\"><circle cx=\"215\" cy=\"215\" r=\"205\" fill=\"none\" stroke=\"black\" stroke-width=\"2\" stroke-dasharray=\"3,3\"/> <circle cx=\"187\" cy=\"347\" r=\"9\" fill=\"rgb(255,0,0)\" class=\"agent_1_3\"/><circle cx=\"319\" cy=\"114\" r=\"8\" fill=\"rgb(255,255,255)\" class=\"agent_1_4\"/><circle cx=\"226\" cy=\"74\" r=\"13\" fill=\"rgb(255,255,255)\" class=\"agent_1_5\"/><circle cx=\"225\" cy=\"256\" r=\"11\" fill=\"rgb(255,255,255)\" class=\"agent_1_18\"/><circle cx=\"171\" cy=\"155\" r=\"12\" fill=\"rgb(255,255,255)\" class=\"agent_1_26\"/><circle cx=\"116\" cy=\"372\" r=\"11\" fill=\"rgb(255,255,255)\" class=\"agent_1_68\"/><circle cx=\"230\" cy=\"366\" r=\"9\" fill=\"rgb(255,255,255)\" class=\"agent_1_77\"/></svg><svg viewBox='0 0 430 430' id=\"svg\" width=\"172\" height=\"172\"><circle cx=\"215\" cy=\"215\" r=\"205\" fill=\"none\" stroke=\"black\" stroke-width=\"2\" stroke-dasharray=\"3,3\"/> <circle cx=\"187\" cy=\"347\" r=\"9\" fill=\"rgb(255,255,255)\" class=\"agent_1_3\"/><circle cx=\"319\" cy=\"114\" r=\"8\" fill=\"rgb(255,255,255)\" class=\"agent_1_4\"/><circle cx=\"226\" cy=\"74\" r=\"13\" fill=\"rgb(255,255,255)\" class=\"agent_1_5\"/><circle cx=\"225\" cy=\"256\" r=\"11\" fill=\"rgb(255,255,255)\" class=\"agent_1_18\"/><circle cx=\"171\" cy=\"155\" r=\"12\" fill=\"rgb(255,255,255)\" class=\"agent_1_26\"/><circle cx=\"116\" cy=\"372\" r=\"11\" fill=\"rgb(255,255,255)\" class=\"agent_1_68\"/><circle cx=\"230\" cy=\"366\" r=\"9\" fill=\"rgb(255,0,0)\" class=\"agent_1_77\"/></svg><svg viewBox='0 0 430 430' id=\"svg\" width=\"172\" height=\"172\"><circle cx=\"215\" cy=\"215\" r=\"205\" fill=\"none\" stroke=\"black\" stroke-width=\"2\" stroke-dasharray=\"3,3\"/> <circle cx=\"187\" cy=\"347\" r=\"9\" fill=\"rgb(255,0,0)\" class=\"agent_1_3\"/><circle cx=\"319\" cy=\"114\" r=\"8\" fill=\"rgb(255,255,255)\" class=\"agent_1_4\"/><circle cx=\"226\" cy=\"74\" r=\"13\" fill=\"rgb(255,255,255)\" class=\"agent_1_5\"/><circle cx=\"225\" cy=\"256\" r=\"11\" fill=\"rgb(255,255,255)\" class=\"agent_1_18\"/><circle cx=\"171\" cy=\"155\" r=\"12\" fill=\"rgb(255,255,255)\" class=\"agent_1_26\"/><circle cx=\"116\" cy=\"372\" r=\"11\" fill=\"rgb(255,255,255)\" class=\"agent_1_68\"/><circle cx=\"230\" cy=\"366\" r=\"9\" fill=\"rgb(255,255,255)\" class=\"agent_1_77\"/></svg></div>"
      ],
      "text/plain": [
       "<IPython.core.display.HTML object>"
      ]
     },
     "metadata": {},
     "output_type": "display_data"
    },
    {
     "name": "stdout",
     "output_type": "stream",
     "text": [
      "utt: do you have mostly dark ones ? there is one med/grey one toward the bottom , small . with a small black one same size to it 's lower right <eos>\n",
      "detected markables:\n",
      "({'start': 15, 'end': 31, 'is_self': True, 'text': 'mostly dark ones'}, (4, 6, 7))\n",
      "({'start': 43, 'end': 59, 'is_self': True, 'text': 'one med/grey one'}, (10, 12, 13))\n",
      "({'start': 93, 'end': 110, 'is_self': True, 'text': 'a small black one'}, (20, 23, 24))\n",
      "({'start': 124, 'end': 129, 'is_self': True, 'text': \"it 's\"}, (27, 28, 29))\n",
      "\n",
      "----------------------------------------\n",
      "\n",
      "human\tTHEM: yes those two dots are the ones i 'm talking about . <eos>\n",
      "partner_refs_pred\n"
     ]
    },
    {
     "data": {
      "text/html": [
       "<div style=\"white-space: nowrap\"><svg viewbox='0 0 430 430' width=\"172\" height=\"172\" id=\"agent_1\"><circle cx=\"215\" cy=\"215\" r=\"205\" fill=\"none\" stroke=\"black\" stroke-width=\"2\" stroke-dasharray=\"3,3\"/><circle cx=\"187\" cy=\"347\" r=\"9\" fill=\"rgb(156,156,156)\"/><circle cx=\"319\" cy=\"114\" r=\"8\" fill=\"rgb(59,59,59)\"/><circle cx=\"226\" cy=\"74\" r=\"13\" fill=\"rgb(115,115,115)\"/><circle cx=\"225\" cy=\"256\" r=\"11\" fill=\"rgb(113,113,113)\"/><circle cx=\"171\" cy=\"155\" r=\"12\" fill=\"rgb(133,133,133)\"/><circle cx=\"116\" cy=\"372\" r=\"11\" fill=\"rgb(106,106,106)\"/><circle cx=\"230\" cy=\"366\" r=\"9\" fill=\"rgb(67,67,67)\"/></svg><svg viewBox='0 0 430 430' id=\"svg\" width=\"172\" height=\"172\"><circle cx=\"215\" cy=\"215\" r=\"205\" fill=\"none\" stroke=\"black\" stroke-width=\"2\" stroke-dasharray=\"3,3\"/> <circle cx=\"187\" cy=\"347\" r=\"9\" fill=\"rgb(255,255,255)\" class=\"agent_1_3\"/><circle cx=\"319\" cy=\"114\" r=\"8\" fill=\"rgb(255,0,0)\" class=\"agent_1_4\"/><circle cx=\"226\" cy=\"74\" r=\"13\" fill=\"rgb(255,255,255)\" class=\"agent_1_5\"/><circle cx=\"225\" cy=\"256\" r=\"11\" fill=\"rgb(255,255,255)\" class=\"agent_1_18\"/><circle cx=\"171\" cy=\"155\" r=\"12\" fill=\"rgb(255,255,255)\" class=\"agent_1_26\"/><circle cx=\"116\" cy=\"372\" r=\"11\" fill=\"rgb(255,255,255)\" class=\"agent_1_68\"/><circle cx=\"230\" cy=\"366\" r=\"9\" fill=\"rgb(255,255,255)\" class=\"agent_1_77\"/></svg></div>"
      ],
      "text/plain": [
       "<IPython.core.display.HTML object>"
      ]
     },
     "metadata": {},
     "output_type": "display_data"
    },
    {
     "name": "stdout",
     "output_type": "stream",
     "text": [
      "partner_refs_true\n"
     ]
    },
    {
     "data": {
      "text/html": [
       "<div style=\"white-space: nowrap\"><svg viewbox='0 0 430 430' width=\"172\" height=\"172\" id=\"agent_1\"><circle cx=\"215\" cy=\"215\" r=\"205\" fill=\"none\" stroke=\"black\" stroke-width=\"2\" stroke-dasharray=\"3,3\"/><circle cx=\"187\" cy=\"347\" r=\"9\" fill=\"rgb(156,156,156)\"/><circle cx=\"319\" cy=\"114\" r=\"8\" fill=\"rgb(59,59,59)\"/><circle cx=\"226\" cy=\"74\" r=\"13\" fill=\"rgb(115,115,115)\"/><circle cx=\"225\" cy=\"256\" r=\"11\" fill=\"rgb(113,113,113)\"/><circle cx=\"171\" cy=\"155\" r=\"12\" fill=\"rgb(133,133,133)\"/><circle cx=\"116\" cy=\"372\" r=\"11\" fill=\"rgb(106,106,106)\"/><circle cx=\"230\" cy=\"366\" r=\"9\" fill=\"rgb(67,67,67)\"/></svg><svg viewBox='0 0 430 430' id=\"svg\" width=\"172\" height=\"172\"><circle cx=\"215\" cy=\"215\" r=\"205\" fill=\"none\" stroke=\"black\" stroke-width=\"2\" stroke-dasharray=\"3,3\"/> <circle cx=\"187\" cy=\"347\" r=\"9\" fill=\"rgb(255,0,0)\" class=\"agent_1_3\"/><circle cx=\"319\" cy=\"114\" r=\"8\" fill=\"rgb(255,255,255)\" class=\"agent_1_4\"/><circle cx=\"226\" cy=\"74\" r=\"13\" fill=\"rgb(255,255,255)\" class=\"agent_1_5\"/><circle cx=\"225\" cy=\"256\" r=\"11\" fill=\"rgb(255,255,255)\" class=\"agent_1_18\"/><circle cx=\"171\" cy=\"155\" r=\"12\" fill=\"rgb(255,255,255)\" class=\"agent_1_26\"/><circle cx=\"116\" cy=\"372\" r=\"11\" fill=\"rgb(255,255,255)\" class=\"agent_1_68\"/><circle cx=\"230\" cy=\"366\" r=\"9\" fill=\"rgb(255,0,0)\" class=\"agent_1_77\"/></svg></div>"
      ],
      "text/plain": [
       "<IPython.core.display.HTML object>"
      ]
     },
     "metadata": {},
     "output_type": "display_data"
    },
    {
     "name": "stdout",
     "output_type": "stream",
     "text": [
      "utt: yes those two dots are the ones i 'm talking about . <eos>\n",
      "detected markables:\n",
      "({'start': 7, 'end': 21, 'is_self': True, 'text': 'those two dots'}, (2, 4, 5))\n",
      "({'start': 26, 'end': 34, 'is_self': True, 'text': 'the ones'}, (6, 7, 8))\n",
      "\n",
      "----------------------------------------\n",
      "\n",
      "to_mention_pred\n"
     ]
    },
    {
     "data": {
      "text/html": [
       "<div style=\"white-space: nowrap\"><svg viewbox='0 0 430 430' width=\"172\" height=\"172\" id=\"agent_1\"><circle cx=\"215\" cy=\"215\" r=\"205\" fill=\"none\" stroke=\"black\" stroke-width=\"2\" stroke-dasharray=\"3,3\"/><circle cx=\"187\" cy=\"347\" r=\"9\" fill=\"rgb(156,156,156)\"/><circle cx=\"319\" cy=\"114\" r=\"8\" fill=\"rgb(59,59,59)\"/><circle cx=\"226\" cy=\"74\" r=\"13\" fill=\"rgb(115,115,115)\"/><circle cx=\"225\" cy=\"256\" r=\"11\" fill=\"rgb(113,113,113)\"/><circle cx=\"171\" cy=\"155\" r=\"12\" fill=\"rgb(133,133,133)\"/><circle cx=\"116\" cy=\"372\" r=\"11\" fill=\"rgb(106,106,106)\"/><circle cx=\"230\" cy=\"366\" r=\"9\" fill=\"rgb(67,67,67)\"/></svg><svg viewBox='0 0 430 430' id=\"svg\" width=\"172\" height=\"172\"><circle cx=\"215\" cy=\"215\" r=\"205\" fill=\"none\" stroke=\"black\" stroke-width=\"2\" stroke-dasharray=\"3,3\"/> <circle cx=\"187\" cy=\"347\" r=\"9\" fill=\"rgb(255,255,255)\" class=\"agent_1_3\"/><circle cx=\"319\" cy=\"114\" r=\"8\" fill=\"rgb(255,255,255)\" class=\"agent_1_4\"/><circle cx=\"226\" cy=\"74\" r=\"13\" fill=\"rgb(255,255,255)\" class=\"agent_1_5\"/><circle cx=\"225\" cy=\"256\" r=\"11\" fill=\"rgb(255,255,255)\" class=\"agent_1_18\"/><circle cx=\"171\" cy=\"155\" r=\"12\" fill=\"rgb(255,255,255)\" class=\"agent_1_26\"/><circle cx=\"116\" cy=\"372\" r=\"11\" fill=\"rgb(255,255,255)\" class=\"agent_1_68\"/><circle cx=\"230\" cy=\"366\" r=\"9\" fill=\"rgb(255,0,0)\" class=\"agent_1_77\"/></svg></div>"
      ],
      "text/plain": [
       "<IPython.core.display.HTML object>"
      ]
     },
     "metadata": {},
     "output_type": "display_data"
    },
    {
     "name": "stdout",
     "output_type": "stream",
     "text": [
      "to_mention_true\n"
     ]
    },
    {
     "data": {
      "text/html": [
       "<div style=\"white-space: nowrap\"><svg viewbox='0 0 430 430' width=\"172\" height=\"172\" id=\"agent_1\"><circle cx=\"215\" cy=\"215\" r=\"205\" fill=\"none\" stroke=\"black\" stroke-width=\"2\" stroke-dasharray=\"3,3\"/><circle cx=\"187\" cy=\"347\" r=\"9\" fill=\"rgb(156,156,156)\"/><circle cx=\"319\" cy=\"114\" r=\"8\" fill=\"rgb(59,59,59)\"/><circle cx=\"226\" cy=\"74\" r=\"13\" fill=\"rgb(115,115,115)\"/><circle cx=\"225\" cy=\"256\" r=\"11\" fill=\"rgb(113,113,113)\"/><circle cx=\"171\" cy=\"155\" r=\"12\" fill=\"rgb(133,133,133)\"/><circle cx=\"116\" cy=\"372\" r=\"11\" fill=\"rgb(106,106,106)\"/><circle cx=\"230\" cy=\"366\" r=\"9\" fill=\"rgb(67,67,67)\"/></svg><svg viewBox='0 0 430 430' id=\"svg\" width=\"172\" height=\"172\"><circle cx=\"215\" cy=\"215\" r=\"205\" fill=\"none\" stroke=\"black\" stroke-width=\"2\" stroke-dasharray=\"3,3\"/> <circle cx=\"187\" cy=\"347\" r=\"9\" fill=\"rgb(255,0,0)\" class=\"agent_1_3\"/><circle cx=\"319\" cy=\"114\" r=\"8\" fill=\"rgb(255,255,255)\" class=\"agent_1_4\"/><circle cx=\"226\" cy=\"74\" r=\"13\" fill=\"rgb(255,255,255)\" class=\"agent_1_5\"/><circle cx=\"225\" cy=\"256\" r=\"11\" fill=\"rgb(255,255,255)\" class=\"agent_1_18\"/><circle cx=\"171\" cy=\"155\" r=\"12\" fill=\"rgb(255,255,255)\" class=\"agent_1_26\"/><circle cx=\"116\" cy=\"372\" r=\"11\" fill=\"rgb(255,255,255)\" class=\"agent_1_68\"/><circle cx=\"230\" cy=\"366\" r=\"9\" fill=\"rgb(255,255,255)\" class=\"agent_1_77\"/></svg></div>"
      ],
      "text/plain": [
       "<IPython.core.display.HTML object>"
      ]
     },
     "metadata": {},
     "output_type": "display_data"
    },
    {
     "name": "stdout",
     "output_type": "stream",
     "text": [
      "beam 0\tok , let 's pick the top one <selection>\n",
      "greedy\tok , let 's pick the top one <selection>\n",
      "human\tok lets pick the light upper left one ty <selection>\n",
      "refs_pred\n"
     ]
    },
    {
     "data": {
      "text/html": [
       "<div style=\"white-space: nowrap\"><svg viewbox='0 0 430 430' width=\"172\" height=\"172\" id=\"agent_1\"><circle cx=\"215\" cy=\"215\" r=\"205\" fill=\"none\" stroke=\"black\" stroke-width=\"2\" stroke-dasharray=\"3,3\"/><circle cx=\"187\" cy=\"347\" r=\"9\" fill=\"rgb(156,156,156)\"/><circle cx=\"319\" cy=\"114\" r=\"8\" fill=\"rgb(59,59,59)\"/><circle cx=\"226\" cy=\"74\" r=\"13\" fill=\"rgb(115,115,115)\"/><circle cx=\"225\" cy=\"256\" r=\"11\" fill=\"rgb(113,113,113)\"/><circle cx=\"171\" cy=\"155\" r=\"12\" fill=\"rgb(133,133,133)\"/><circle cx=\"116\" cy=\"372\" r=\"11\" fill=\"rgb(106,106,106)\"/><circle cx=\"230\" cy=\"366\" r=\"9\" fill=\"rgb(67,67,67)\"/></svg><svg viewBox='0 0 430 430' id=\"svg\" width=\"172\" height=\"172\"><circle cx=\"215\" cy=\"215\" r=\"205\" fill=\"none\" stroke=\"black\" stroke-width=\"2\" stroke-dasharray=\"3,3\"/> <circle cx=\"187\" cy=\"347\" r=\"9\" fill=\"rgb(255,0,0)\" class=\"agent_1_3\"/><circle cx=\"319\" cy=\"114\" r=\"8\" fill=\"rgb(255,255,255)\" class=\"agent_1_4\"/><circle cx=\"226\" cy=\"74\" r=\"13\" fill=\"rgb(255,255,255)\" class=\"agent_1_5\"/><circle cx=\"225\" cy=\"256\" r=\"11\" fill=\"rgb(255,255,255)\" class=\"agent_1_18\"/><circle cx=\"171\" cy=\"155\" r=\"12\" fill=\"rgb(255,255,255)\" class=\"agent_1_26\"/><circle cx=\"116\" cy=\"372\" r=\"11\" fill=\"rgb(255,255,255)\" class=\"agent_1_68\"/><circle cx=\"230\" cy=\"366\" r=\"9\" fill=\"rgb(255,255,255)\" class=\"agent_1_77\"/></svg></div>"
      ],
      "text/plain": [
       "<IPython.core.display.HTML object>"
      ]
     },
     "metadata": {},
     "output_type": "display_data"
    },
    {
     "name": "stdout",
     "output_type": "stream",
     "text": [
      "refs_true\n"
     ]
    },
    {
     "data": {
      "text/html": [
       "<div style=\"white-space: nowrap\"><svg viewbox='0 0 430 430' width=\"172\" height=\"172\" id=\"agent_1\"><circle cx=\"215\" cy=\"215\" r=\"205\" fill=\"none\" stroke=\"black\" stroke-width=\"2\" stroke-dasharray=\"3,3\"/><circle cx=\"187\" cy=\"347\" r=\"9\" fill=\"rgb(156,156,156)\"/><circle cx=\"319\" cy=\"114\" r=\"8\" fill=\"rgb(59,59,59)\"/><circle cx=\"226\" cy=\"74\" r=\"13\" fill=\"rgb(115,115,115)\"/><circle cx=\"225\" cy=\"256\" r=\"11\" fill=\"rgb(113,113,113)\"/><circle cx=\"171\" cy=\"155\" r=\"12\" fill=\"rgb(133,133,133)\"/><circle cx=\"116\" cy=\"372\" r=\"11\" fill=\"rgb(106,106,106)\"/><circle cx=\"230\" cy=\"366\" r=\"9\" fill=\"rgb(67,67,67)\"/></svg><svg viewBox='0 0 430 430' id=\"svg\" width=\"172\" height=\"172\"><circle cx=\"215\" cy=\"215\" r=\"205\" fill=\"none\" stroke=\"black\" stroke-width=\"2\" stroke-dasharray=\"3,3\"/> <circle cx=\"187\" cy=\"347\" r=\"9\" fill=\"rgb(255,0,0)\" class=\"agent_1_3\"/><circle cx=\"319\" cy=\"114\" r=\"8\" fill=\"rgb(255,255,255)\" class=\"agent_1_4\"/><circle cx=\"226\" cy=\"74\" r=\"13\" fill=\"rgb(255,255,255)\" class=\"agent_1_5\"/><circle cx=\"225\" cy=\"256\" r=\"11\" fill=\"rgb(255,255,255)\" class=\"agent_1_18\"/><circle cx=\"171\" cy=\"155\" r=\"12\" fill=\"rgb(255,255,255)\" class=\"agent_1_26\"/><circle cx=\"116\" cy=\"372\" r=\"11\" fill=\"rgb(255,255,255)\" class=\"agent_1_68\"/><circle cx=\"230\" cy=\"366\" r=\"9\" fill=\"rgb(255,255,255)\" class=\"agent_1_77\"/></svg></div>"
      ],
      "text/plain": [
       "<IPython.core.display.HTML object>"
      ]
     },
     "metadata": {},
     "output_type": "display_data"
    },
    {
     "name": "stdout",
     "output_type": "stream",
     "text": [
      "utt: ok lets pick the light upper left one ty <selection>\n",
      "detected markables:\n",
      "({'start': 16, 'end': 40, 'is_self': True, 'text': 'the light upper left one'}, (4, 8, 9))\n",
      "\n",
      "----------------------------------------\n",
      "\n",
      "sel_pred\n"
     ]
    },
    {
     "data": {
      "text/html": [
       "<div style=\"white-space: nowrap\"><svg viewbox='0 0 430 430' width=\"172\" height=\"172\" id=\"agent_1\"><circle cx=\"215\" cy=\"215\" r=\"205\" fill=\"none\" stroke=\"black\" stroke-width=\"2\" stroke-dasharray=\"3,3\"/><circle cx=\"187\" cy=\"347\" r=\"9\" fill=\"rgb(156,156,156)\"/><circle cx=\"319\" cy=\"114\" r=\"8\" fill=\"rgb(59,59,59)\"/><circle cx=\"226\" cy=\"74\" r=\"13\" fill=\"rgb(115,115,115)\"/><circle cx=\"225\" cy=\"256\" r=\"11\" fill=\"rgb(113,113,113)\"/><circle cx=\"171\" cy=\"155\" r=\"12\" fill=\"rgb(133,133,133)\"/><circle cx=\"116\" cy=\"372\" r=\"11\" fill=\"rgb(106,106,106)\"/><circle cx=\"230\" cy=\"366\" r=\"9\" fill=\"rgb(67,67,67)\"/></svg><svg viewBox='0 0 430 430' id=\"svg\" width=\"172\" height=\"172\"><circle cx=\"215\" cy=\"215\" r=\"205\" fill=\"none\" stroke=\"black\" stroke-width=\"2\" stroke-dasharray=\"3,3\"/> <circle cx=\"187\" cy=\"347\" r=\"9\" fill=\"rgb(255,183,183)\" class=\"agent_1_3\"/><circle cx=\"319\" cy=\"114\" r=\"8\" fill=\"rgb(255,254,254)\" class=\"agent_1_4\"/><circle cx=\"226\" cy=\"74\" r=\"13\" fill=\"rgb(255,254,254)\" class=\"agent_1_5\"/><circle cx=\"225\" cy=\"256\" r=\"11\" fill=\"rgb(255,253,253)\" class=\"agent_1_18\"/><circle cx=\"171\" cy=\"155\" r=\"12\" fill=\"rgb(255,245,245)\" class=\"agent_1_26\"/><circle cx=\"116\" cy=\"372\" r=\"11\" fill=\"rgb(255,254,254)\" class=\"agent_1_68\"/><circle cx=\"230\" cy=\"366\" r=\"9\" fill=\"rgb(255,254,254)\" class=\"agent_1_77\"/></svg></div>"
      ],
      "text/plain": [
       "<IPython.core.display.HTML object>"
      ]
     },
     "metadata": {},
     "output_type": "display_data"
    },
    {
     "name": "stdout",
     "output_type": "stream",
     "text": [
      "sel_true\n"
     ]
    },
    {
     "data": {
      "text/html": [
       "<div style=\"white-space: nowrap\"><svg viewbox='0 0 430 430' width=\"172\" height=\"172\" id=\"agent_1\"><circle cx=\"215\" cy=\"215\" r=\"205\" fill=\"none\" stroke=\"black\" stroke-width=\"2\" stroke-dasharray=\"3,3\"/><circle cx=\"187\" cy=\"347\" r=\"9\" fill=\"rgb(156,156,156)\"/><circle cx=\"319\" cy=\"114\" r=\"8\" fill=\"rgb(59,59,59)\"/><circle cx=\"226\" cy=\"74\" r=\"13\" fill=\"rgb(115,115,115)\"/><circle cx=\"225\" cy=\"256\" r=\"11\" fill=\"rgb(113,113,113)\"/><circle cx=\"171\" cy=\"155\" r=\"12\" fill=\"rgb(133,133,133)\"/><circle cx=\"116\" cy=\"372\" r=\"11\" fill=\"rgb(106,106,106)\"/><circle cx=\"230\" cy=\"366\" r=\"9\" fill=\"rgb(67,67,67)\"/></svg><svg viewBox='0 0 430 430' id=\"svg\" width=\"172\" height=\"172\"><circle cx=\"215\" cy=\"215\" r=\"205\" fill=\"none\" stroke=\"black\" stroke-width=\"2\" stroke-dasharray=\"3,3\"/> <circle cx=\"187\" cy=\"347\" r=\"9\" fill=\"rgb(255,0,0)\" class=\"agent_1_3\"/><circle cx=\"319\" cy=\"114\" r=\"8\" fill=\"rgb(255,255,255)\" class=\"agent_1_4\"/><circle cx=\"226\" cy=\"74\" r=\"13\" fill=\"rgb(255,255,255)\" class=\"agent_1_5\"/><circle cx=\"225\" cy=\"256\" r=\"11\" fill=\"rgb(255,255,255)\" class=\"agent_1_18\"/><circle cx=\"171\" cy=\"155\" r=\"12\" fill=\"rgb(255,255,255)\" class=\"agent_1_26\"/><circle cx=\"116\" cy=\"372\" r=\"11\" fill=\"rgb(255,255,255)\" class=\"agent_1_68\"/><circle cx=\"230\" cy=\"366\" r=\"9\" fill=\"rgb(255,255,255)\" class=\"agent_1_77\"/></svg></div>"
      ],
      "text/plain": [
       "<IPython.core.display.HTML object>"
      ]
     },
     "metadata": {},
     "output_type": "display_data"
    }
   ],
   "source": [
    "force_contexts_and_mentions(4, candidates=1)"
   ]
  },
  {
   "cell_type": "code",
   "execution_count": 73,
   "metadata": {
    "scrolled": false
   },
   "outputs": [
    {
     "name": "stdout",
     "output_type": "stream",
     "text": [
      "human\tTHEM: i have a tiny light gray slightly to the left of 6 o clock with a med size gray dot same color above it <eos>\n",
      "partner_refs_pred\n"
     ]
    },
    {
     "data": {
      "text/html": [
       "<div style=\"white-space: nowrap\"><svg viewbox='0 0 430 430' width=\"172\" height=\"172\" id=\"agent_1\"><circle cx=\"215\" cy=\"215\" r=\"205\" fill=\"none\" stroke=\"black\" stroke-width=\"2\" stroke-dasharray=\"3,3\"/><circle cx=\"290\" cy=\"369\" r=\"8\" fill=\"rgb(156,156,156)\"/><circle cx=\"120\" cy=\"145\" r=\"12\" fill=\"rgb(179,179,179)\"/><circle cx=\"131\" cy=\"247\" r=\"9\" fill=\"rgb(99,99,99)\"/><circle cx=\"367\" cy=\"244\" r=\"8\" fill=\"rgb(128,128,128)\"/><circle cx=\"20\" cy=\"232\" r=\"12\" fill=\"rgb(126,126,126)\"/><circle cx=\"131\" cy=\"281\" r=\"9\" fill=\"rgb(57,57,57)\"/><circle cx=\"400\" cy=\"256\" r=\"12\" fill=\"rgb(179,179,179)\"/></svg><svg viewBox='0 0 430 430' id=\"svg\" width=\"172\" height=\"172\"><circle cx=\"215\" cy=\"215\" r=\"205\" fill=\"none\" stroke=\"black\" stroke-width=\"2\" stroke-dasharray=\"3,3\"/> <circle cx=\"290\" cy=\"369\" r=\"8\" fill=\"rgb(255,255,255)\" class=\"agent_1_10\"/><circle cx=\"120\" cy=\"145\" r=\"12\" fill=\"rgb(255,255,255)\" class=\"agent_1_24\"/><circle cx=\"131\" cy=\"247\" r=\"9\" fill=\"rgb(255,255,255)\" class=\"agent_1_38\"/><circle cx=\"367\" cy=\"244\" r=\"8\" fill=\"rgb(255,0,0)\" class=\"agent_1_59\"/><circle cx=\"20\" cy=\"232\" r=\"12\" fill=\"rgb(255,255,255)\" class=\"agent_1_61\"/><circle cx=\"131\" cy=\"281\" r=\"9\" fill=\"rgb(255,255,255)\" class=\"agent_1_71\"/><circle cx=\"400\" cy=\"256\" r=\"12\" fill=\"rgb(255,255,255)\" class=\"agent_1_74\"/></svg><svg viewBox='0 0 430 430' id=\"svg\" width=\"172\" height=\"172\"><circle cx=\"215\" cy=\"215\" r=\"205\" fill=\"none\" stroke=\"black\" stroke-width=\"2\" stroke-dasharray=\"3,3\"/> <circle cx=\"290\" cy=\"369\" r=\"8\" fill=\"rgb(255,255,255)\" class=\"agent_1_10\"/><circle cx=\"120\" cy=\"145\" r=\"12\" fill=\"rgb(255,255,255)\" class=\"agent_1_24\"/><circle cx=\"131\" cy=\"247\" r=\"9\" fill=\"rgb(255,255,255)\" class=\"agent_1_38\"/><circle cx=\"367\" cy=\"244\" r=\"8\" fill=\"rgb(255,255,255)\" class=\"agent_1_59\"/><circle cx=\"20\" cy=\"232\" r=\"12\" fill=\"rgb(255,255,255)\" class=\"agent_1_61\"/><circle cx=\"131\" cy=\"281\" r=\"9\" fill=\"rgb(255,255,255)\" class=\"agent_1_71\"/><circle cx=\"400\" cy=\"256\" r=\"12\" fill=\"rgb(255,0,0)\" class=\"agent_1_74\"/></svg><svg viewBox='0 0 430 430' id=\"svg\" width=\"172\" height=\"172\"><circle cx=\"215\" cy=\"215\" r=\"205\" fill=\"none\" stroke=\"black\" stroke-width=\"2\" stroke-dasharray=\"3,3\"/> <circle cx=\"290\" cy=\"369\" r=\"8\" fill=\"rgb(255,255,255)\" class=\"agent_1_10\"/><circle cx=\"120\" cy=\"145\" r=\"12\" fill=\"rgb(255,255,255)\" class=\"agent_1_24\"/><circle cx=\"131\" cy=\"247\" r=\"9\" fill=\"rgb(255,255,255)\" class=\"agent_1_38\"/><circle cx=\"367\" cy=\"244\" r=\"8\" fill=\"rgb(255,0,0)\" class=\"agent_1_59\"/><circle cx=\"20\" cy=\"232\" r=\"12\" fill=\"rgb(255,255,255)\" class=\"agent_1_61\"/><circle cx=\"131\" cy=\"281\" r=\"9\" fill=\"rgb(255,255,255)\" class=\"agent_1_71\"/><circle cx=\"400\" cy=\"256\" r=\"12\" fill=\"rgb(255,255,255)\" class=\"agent_1_74\"/></svg></div>"
      ],
      "text/plain": [
       "<IPython.core.display.HTML object>"
      ]
     },
     "metadata": {},
     "output_type": "display_data"
    },
    {
     "name": "stdout",
     "output_type": "stream",
     "text": [
      "partner_refs_true\n"
     ]
    },
    {
     "data": {
      "text/html": [
       "<div style=\"white-space: nowrap\"><svg viewbox='0 0 430 430' width=\"172\" height=\"172\" id=\"agent_1\"><circle cx=\"215\" cy=\"215\" r=\"205\" fill=\"none\" stroke=\"black\" stroke-width=\"2\" stroke-dasharray=\"3,3\"/><circle cx=\"290\" cy=\"369\" r=\"8\" fill=\"rgb(156,156,156)\"/><circle cx=\"120\" cy=\"145\" r=\"12\" fill=\"rgb(179,179,179)\"/><circle cx=\"131\" cy=\"247\" r=\"9\" fill=\"rgb(99,99,99)\"/><circle cx=\"367\" cy=\"244\" r=\"8\" fill=\"rgb(128,128,128)\"/><circle cx=\"20\" cy=\"232\" r=\"12\" fill=\"rgb(126,126,126)\"/><circle cx=\"131\" cy=\"281\" r=\"9\" fill=\"rgb(57,57,57)\"/><circle cx=\"400\" cy=\"256\" r=\"12\" fill=\"rgb(179,179,179)\"/></svg><svg viewBox='0 0 430 430' id=\"svg\" width=\"172\" height=\"172\"><circle cx=\"215\" cy=\"215\" r=\"205\" fill=\"none\" stroke=\"black\" stroke-width=\"2\" stroke-dasharray=\"3,3\"/> <circle cx=\"290\" cy=\"369\" r=\"8\" fill=\"rgb(255,255,255)\" class=\"agent_1_10\"/><circle cx=\"120\" cy=\"145\" r=\"12\" fill=\"rgb(255,255,255)\" class=\"agent_1_24\"/><circle cx=\"131\" cy=\"247\" r=\"9\" fill=\"rgb(255,255,255)\" class=\"agent_1_38\"/><circle cx=\"367\" cy=\"244\" r=\"8\" fill=\"rgb(255,255,255)\" class=\"agent_1_59\"/><circle cx=\"20\" cy=\"232\" r=\"12\" fill=\"rgb(255,255,255)\" class=\"agent_1_61\"/><circle cx=\"131\" cy=\"281\" r=\"9\" fill=\"rgb(255,255,255)\" class=\"agent_1_71\"/><circle cx=\"400\" cy=\"256\" r=\"12\" fill=\"rgb(255,255,255)\" class=\"agent_1_74\"/></svg><svg viewBox='0 0 430 430' id=\"svg\" width=\"172\" height=\"172\"><circle cx=\"215\" cy=\"215\" r=\"205\" fill=\"none\" stroke=\"black\" stroke-width=\"2\" stroke-dasharray=\"3,3\"/> <circle cx=\"290\" cy=\"369\" r=\"8\" fill=\"rgb(255,255,255)\" class=\"agent_1_10\"/><circle cx=\"120\" cy=\"145\" r=\"12\" fill=\"rgb(255,255,255)\" class=\"agent_1_24\"/><circle cx=\"131\" cy=\"247\" r=\"9\" fill=\"rgb(255,255,255)\" class=\"agent_1_38\"/><circle cx=\"367\" cy=\"244\" r=\"8\" fill=\"rgb(255,255,255)\" class=\"agent_1_59\"/><circle cx=\"20\" cy=\"232\" r=\"12\" fill=\"rgb(255,255,255)\" class=\"agent_1_61\"/><circle cx=\"131\" cy=\"281\" r=\"9\" fill=\"rgb(255,255,255)\" class=\"agent_1_71\"/><circle cx=\"400\" cy=\"256\" r=\"12\" fill=\"rgb(255,255,255)\" class=\"agent_1_74\"/></svg><svg viewBox='0 0 430 430' id=\"svg\" width=\"172\" height=\"172\"><circle cx=\"215\" cy=\"215\" r=\"205\" fill=\"none\" stroke=\"black\" stroke-width=\"2\" stroke-dasharray=\"3,3\"/> <circle cx=\"290\" cy=\"369\" r=\"8\" fill=\"rgb(255,255,255)\" class=\"agent_1_10\"/><circle cx=\"120\" cy=\"145\" r=\"12\" fill=\"rgb(255,255,255)\" class=\"agent_1_24\"/><circle cx=\"131\" cy=\"247\" r=\"9\" fill=\"rgb(255,255,255)\" class=\"agent_1_38\"/><circle cx=\"367\" cy=\"244\" r=\"8\" fill=\"rgb(255,255,255)\" class=\"agent_1_59\"/><circle cx=\"20\" cy=\"232\" r=\"12\" fill=\"rgb(255,255,255)\" class=\"agent_1_61\"/><circle cx=\"131\" cy=\"281\" r=\"9\" fill=\"rgb(255,255,255)\" class=\"agent_1_71\"/><circle cx=\"400\" cy=\"256\" r=\"12\" fill=\"rgb(255,255,255)\" class=\"agent_1_74\"/></svg></div>"
      ],
      "text/plain": [
       "<IPython.core.display.HTML object>"
      ]
     },
     "metadata": {},
     "output_type": "display_data"
    },
    {
     "name": "stdout",
     "output_type": "stream",
     "text": [
      "utt: i have a tiny light gray slightly to the left of 6 o clock with a med size gray dot same color above it <eos>\n",
      "detected markables:\n",
      "({'start': 10, 'end': 27, 'is_self': True, 'text': 'a tiny light gray'}, (3, 6, 7))\n",
      "({'start': 67, 'end': 86, 'is_self': True, 'text': 'a med size gray dot'}, (16, 20, 21))\n",
      "({'start': 104, 'end': 106, 'is_self': True, 'text': 'it'}, (24, 24, 25))\n",
      "\n",
      "----------------------------------------\n",
      "\n",
      "to_mention_pred\n"
     ]
    },
    {
     "data": {
      "text/html": [
       "<div style=\"white-space: nowrap\"><svg viewbox='0 0 430 430' width=\"172\" height=\"172\" id=\"agent_1\"><circle cx=\"215\" cy=\"215\" r=\"205\" fill=\"none\" stroke=\"black\" stroke-width=\"2\" stroke-dasharray=\"3,3\"/><circle cx=\"290\" cy=\"369\" r=\"8\" fill=\"rgb(156,156,156)\"/><circle cx=\"120\" cy=\"145\" r=\"12\" fill=\"rgb(179,179,179)\"/><circle cx=\"131\" cy=\"247\" r=\"9\" fill=\"rgb(99,99,99)\"/><circle cx=\"367\" cy=\"244\" r=\"8\" fill=\"rgb(128,128,128)\"/><circle cx=\"20\" cy=\"232\" r=\"12\" fill=\"rgb(126,126,126)\"/><circle cx=\"131\" cy=\"281\" r=\"9\" fill=\"rgb(57,57,57)\"/><circle cx=\"400\" cy=\"256\" r=\"12\" fill=\"rgb(179,179,179)\"/></svg><svg viewBox='0 0 430 430' id=\"svg\" width=\"172\" height=\"172\"><circle cx=\"215\" cy=\"215\" r=\"205\" fill=\"none\" stroke=\"black\" stroke-width=\"2\" stroke-dasharray=\"3,3\"/> <circle cx=\"290\" cy=\"369\" r=\"8\" fill=\"rgb(255,255,255)\" class=\"agent_1_10\"/><circle cx=\"120\" cy=\"145\" r=\"12\" fill=\"rgb(255,255,255)\" class=\"agent_1_24\"/><circle cx=\"131\" cy=\"247\" r=\"9\" fill=\"rgb(255,0,0)\" class=\"agent_1_38\"/><circle cx=\"367\" cy=\"244\" r=\"8\" fill=\"rgb(255,255,255)\" class=\"agent_1_59\"/><circle cx=\"20\" cy=\"232\" r=\"12\" fill=\"rgb(255,255,255)\" class=\"agent_1_61\"/><circle cx=\"131\" cy=\"281\" r=\"9\" fill=\"rgb(255,0,0)\" class=\"agent_1_71\"/><circle cx=\"400\" cy=\"256\" r=\"12\" fill=\"rgb(255,255,255)\" class=\"agent_1_74\"/></svg><svg viewBox='0 0 430 430' id=\"svg\" width=\"172\" height=\"172\"><circle cx=\"215\" cy=\"215\" r=\"205\" fill=\"none\" stroke=\"black\" stroke-width=\"2\" stroke-dasharray=\"3,3\"/> <circle cx=\"290\" cy=\"369\" r=\"8\" fill=\"rgb(255,255,255)\" class=\"agent_1_10\"/><circle cx=\"120\" cy=\"145\" r=\"12\" fill=\"rgb(255,255,255)\" class=\"agent_1_24\"/><circle cx=\"131\" cy=\"247\" r=\"9\" fill=\"rgb(255,0,0)\" class=\"agent_1_38\"/><circle cx=\"367\" cy=\"244\" r=\"8\" fill=\"rgb(255,255,255)\" class=\"agent_1_59\"/><circle cx=\"20\" cy=\"232\" r=\"12\" fill=\"rgb(255,255,255)\" class=\"agent_1_61\"/><circle cx=\"131\" cy=\"281\" r=\"9\" fill=\"rgb(255,0,0)\" class=\"agent_1_71\"/><circle cx=\"400\" cy=\"256\" r=\"12\" fill=\"rgb(255,255,255)\" class=\"agent_1_74\"/></svg><svg viewBox='0 0 430 430' id=\"svg\" width=\"172\" height=\"172\"><circle cx=\"215\" cy=\"215\" r=\"205\" fill=\"none\" stroke=\"black\" stroke-width=\"2\" stroke-dasharray=\"3,3\"/> <circle cx=\"290\" cy=\"369\" r=\"8\" fill=\"rgb(255,255,255)\" class=\"agent_1_10\"/><circle cx=\"120\" cy=\"145\" r=\"12\" fill=\"rgb(255,255,255)\" class=\"agent_1_24\"/><circle cx=\"131\" cy=\"247\" r=\"9\" fill=\"rgb(255,0,0)\" class=\"agent_1_38\"/><circle cx=\"367\" cy=\"244\" r=\"8\" fill=\"rgb(255,255,255)\" class=\"agent_1_59\"/><circle cx=\"20\" cy=\"232\" r=\"12\" fill=\"rgb(255,255,255)\" class=\"agent_1_61\"/><circle cx=\"131\" cy=\"281\" r=\"9\" fill=\"rgb(255,0,0)\" class=\"agent_1_71\"/><circle cx=\"400\" cy=\"256\" r=\"12\" fill=\"rgb(255,255,255)\" class=\"agent_1_74\"/></svg></div>"
      ],
      "text/plain": [
       "<IPython.core.display.HTML object>"
      ]
     },
     "metadata": {},
     "output_type": "display_data"
    },
    {
     "name": "stdout",
     "output_type": "stream",
     "text": [
      "to_mention_true\n"
     ]
    },
    {
     "data": {
      "text/html": [
       "<div style=\"white-space: nowrap\"><svg viewbox='0 0 430 430' width=\"172\" height=\"172\" id=\"agent_1\"><circle cx=\"215\" cy=\"215\" r=\"205\" fill=\"none\" stroke=\"black\" stroke-width=\"2\" stroke-dasharray=\"3,3\"/><circle cx=\"290\" cy=\"369\" r=\"8\" fill=\"rgb(156,156,156)\"/><circle cx=\"120\" cy=\"145\" r=\"12\" fill=\"rgb(179,179,179)\"/><circle cx=\"131\" cy=\"247\" r=\"9\" fill=\"rgb(99,99,99)\"/><circle cx=\"367\" cy=\"244\" r=\"8\" fill=\"rgb(128,128,128)\"/><circle cx=\"20\" cy=\"232\" r=\"12\" fill=\"rgb(126,126,126)\"/><circle cx=\"131\" cy=\"281\" r=\"9\" fill=\"rgb(57,57,57)\"/><circle cx=\"400\" cy=\"256\" r=\"12\" fill=\"rgb(179,179,179)\"/></svg><svg viewBox='0 0 430 430' id=\"svg\" width=\"172\" height=\"172\"><circle cx=\"215\" cy=\"215\" r=\"205\" fill=\"none\" stroke=\"black\" stroke-width=\"2\" stroke-dasharray=\"3,3\"/> <circle cx=\"290\" cy=\"369\" r=\"8\" fill=\"rgb(255,255,255)\" class=\"agent_1_10\"/><circle cx=\"120\" cy=\"145\" r=\"12\" fill=\"rgb(255,255,255)\" class=\"agent_1_24\"/><circle cx=\"131\" cy=\"247\" r=\"9\" fill=\"rgb(255,255,255)\" class=\"agent_1_38\"/><circle cx=\"367\" cy=\"244\" r=\"8\" fill=\"rgb(255,255,255)\" class=\"agent_1_59\"/><circle cx=\"20\" cy=\"232\" r=\"12\" fill=\"rgb(255,255,255)\" class=\"agent_1_61\"/><circle cx=\"131\" cy=\"281\" r=\"9\" fill=\"rgb(255,255,255)\" class=\"agent_1_71\"/><circle cx=\"400\" cy=\"256\" r=\"12\" fill=\"rgb(255,255,255)\" class=\"agent_1_74\"/></svg></div>"
      ],
      "text/plain": [
       "<IPython.core.display.HTML object>"
      ]
     },
     "metadata": {},
     "output_type": "display_data"
    },
    {
     "name": "stdout",
     "output_type": "stream",
     "text": [
      "beam 0\ti do n't have that <eos>\n",
      "greedy\ti do n't have that <eos>\n",
      "human\ti do n't see a match like that . <eos>\n",
      "refs_pred\n"
     ]
    },
    {
     "data": {
      "text/html": [
       "<div style=\"white-space: nowrap\"><svg viewbox='0 0 430 430' width=\"172\" height=\"172\" id=\"agent_1\"><circle cx=\"215\" cy=\"215\" r=\"205\" fill=\"none\" stroke=\"black\" stroke-width=\"2\" stroke-dasharray=\"3,3\"/><circle cx=\"290\" cy=\"369\" r=\"8\" fill=\"rgb(156,156,156)\"/><circle cx=\"120\" cy=\"145\" r=\"12\" fill=\"rgb(179,179,179)\"/><circle cx=\"131\" cy=\"247\" r=\"9\" fill=\"rgb(99,99,99)\"/><circle cx=\"367\" cy=\"244\" r=\"8\" fill=\"rgb(128,128,128)\"/><circle cx=\"20\" cy=\"232\" r=\"12\" fill=\"rgb(126,126,126)\"/><circle cx=\"131\" cy=\"281\" r=\"9\" fill=\"rgb(57,57,57)\"/><circle cx=\"400\" cy=\"256\" r=\"12\" fill=\"rgb(179,179,179)\"/></svg><svg viewBox='0 0 430 430' id=\"svg\" width=\"172\" height=\"172\"><circle cx=\"215\" cy=\"215\" r=\"205\" fill=\"none\" stroke=\"black\" stroke-width=\"2\" stroke-dasharray=\"3,3\"/> <circle cx=\"290\" cy=\"369\" r=\"8\" fill=\"rgb(255,255,255)\" class=\"agent_1_10\"/><circle cx=\"120\" cy=\"145\" r=\"12\" fill=\"rgb(255,255,255)\" class=\"agent_1_24\"/><circle cx=\"131\" cy=\"247\" r=\"9\" fill=\"rgb(255,255,255)\" class=\"agent_1_38\"/><circle cx=\"367\" cy=\"244\" r=\"8\" fill=\"rgb(255,255,255)\" class=\"agent_1_59\"/><circle cx=\"20\" cy=\"232\" r=\"12\" fill=\"rgb(255,255,255)\" class=\"agent_1_61\"/><circle cx=\"131\" cy=\"281\" r=\"9\" fill=\"rgb(255,255,255)\" class=\"agent_1_71\"/><circle cx=\"400\" cy=\"256\" r=\"12\" fill=\"rgb(255,255,255)\" class=\"agent_1_74\"/></svg></div>"
      ],
      "text/plain": [
       "<IPython.core.display.HTML object>"
      ]
     },
     "metadata": {},
     "output_type": "display_data"
    },
    {
     "name": "stdout",
     "output_type": "stream",
     "text": [
      "refs_true\n"
     ]
    },
    {
     "data": {
      "text/html": [
       "<div style=\"white-space: nowrap\"><svg viewbox='0 0 430 430' width=\"172\" height=\"172\" id=\"agent_1\"><circle cx=\"215\" cy=\"215\" r=\"205\" fill=\"none\" stroke=\"black\" stroke-width=\"2\" stroke-dasharray=\"3,3\"/><circle cx=\"290\" cy=\"369\" r=\"8\" fill=\"rgb(156,156,156)\"/><circle cx=\"120\" cy=\"145\" r=\"12\" fill=\"rgb(179,179,179)\"/><circle cx=\"131\" cy=\"247\" r=\"9\" fill=\"rgb(99,99,99)\"/><circle cx=\"367\" cy=\"244\" r=\"8\" fill=\"rgb(128,128,128)\"/><circle cx=\"20\" cy=\"232\" r=\"12\" fill=\"rgb(126,126,126)\"/><circle cx=\"131\" cy=\"281\" r=\"9\" fill=\"rgb(57,57,57)\"/><circle cx=\"400\" cy=\"256\" r=\"12\" fill=\"rgb(179,179,179)\"/></svg><svg viewBox='0 0 430 430' id=\"svg\" width=\"172\" height=\"172\"><circle cx=\"215\" cy=\"215\" r=\"205\" fill=\"none\" stroke=\"black\" stroke-width=\"2\" stroke-dasharray=\"3,3\"/> <circle cx=\"290\" cy=\"369\" r=\"8\" fill=\"rgb(255,255,255)\" class=\"agent_1_10\"/><circle cx=\"120\" cy=\"145\" r=\"12\" fill=\"rgb(255,255,255)\" class=\"agent_1_24\"/><circle cx=\"131\" cy=\"247\" r=\"9\" fill=\"rgb(255,255,255)\" class=\"agent_1_38\"/><circle cx=\"367\" cy=\"244\" r=\"8\" fill=\"rgb(255,255,255)\" class=\"agent_1_59\"/><circle cx=\"20\" cy=\"232\" r=\"12\" fill=\"rgb(255,255,255)\" class=\"agent_1_61\"/><circle cx=\"131\" cy=\"281\" r=\"9\" fill=\"rgb(255,255,255)\" class=\"agent_1_71\"/><circle cx=\"400\" cy=\"256\" r=\"12\" fill=\"rgb(255,255,255)\" class=\"agent_1_74\"/></svg></div>"
      ],
      "text/plain": [
       "<IPython.core.display.HTML object>"
      ]
     },
     "metadata": {},
     "output_type": "display_data"
    },
    {
     "name": "stdout",
     "output_type": "stream",
     "text": [
      "utt: i do n't see a match like that . <eos>\n",
      "detected markables:\n",
      "\n",
      "----------------------------------------\n",
      "\n",
      "human\tTHEM: i have a med black dot in the middle with a darker gray dot same size <eos>\n",
      "partner_refs_pred\n"
     ]
    },
    {
     "data": {
      "text/html": [
       "<div style=\"white-space: nowrap\"><svg viewbox='0 0 430 430' width=\"172\" height=\"172\" id=\"agent_1\"><circle cx=\"215\" cy=\"215\" r=\"205\" fill=\"none\" stroke=\"black\" stroke-width=\"2\" stroke-dasharray=\"3,3\"/><circle cx=\"290\" cy=\"369\" r=\"8\" fill=\"rgb(156,156,156)\"/><circle cx=\"120\" cy=\"145\" r=\"12\" fill=\"rgb(179,179,179)\"/><circle cx=\"131\" cy=\"247\" r=\"9\" fill=\"rgb(99,99,99)\"/><circle cx=\"367\" cy=\"244\" r=\"8\" fill=\"rgb(128,128,128)\"/><circle cx=\"20\" cy=\"232\" r=\"12\" fill=\"rgb(126,126,126)\"/><circle cx=\"131\" cy=\"281\" r=\"9\" fill=\"rgb(57,57,57)\"/><circle cx=\"400\" cy=\"256\" r=\"12\" fill=\"rgb(179,179,179)\"/></svg><svg viewBox='0 0 430 430' id=\"svg\" width=\"172\" height=\"172\"><circle cx=\"215\" cy=\"215\" r=\"205\" fill=\"none\" stroke=\"black\" stroke-width=\"2\" stroke-dasharray=\"3,3\"/> <circle cx=\"290\" cy=\"369\" r=\"8\" fill=\"rgb(255,255,255)\" class=\"agent_1_10\"/><circle cx=\"120\" cy=\"145\" r=\"12\" fill=\"rgb(255,255,255)\" class=\"agent_1_24\"/><circle cx=\"131\" cy=\"247\" r=\"9\" fill=\"rgb(255,0,0)\" class=\"agent_1_38\"/><circle cx=\"367\" cy=\"244\" r=\"8\" fill=\"rgb(255,255,255)\" class=\"agent_1_59\"/><circle cx=\"20\" cy=\"232\" r=\"12\" fill=\"rgb(255,255,255)\" class=\"agent_1_61\"/><circle cx=\"131\" cy=\"281\" r=\"9\" fill=\"rgb(255,255,255)\" class=\"agent_1_71\"/><circle cx=\"400\" cy=\"256\" r=\"12\" fill=\"rgb(255,255,255)\" class=\"agent_1_74\"/></svg><svg viewBox='0 0 430 430' id=\"svg\" width=\"172\" height=\"172\"><circle cx=\"215\" cy=\"215\" r=\"205\" fill=\"none\" stroke=\"black\" stroke-width=\"2\" stroke-dasharray=\"3,3\"/> <circle cx=\"290\" cy=\"369\" r=\"8\" fill=\"rgb(255,255,255)\" class=\"agent_1_10\"/><circle cx=\"120\" cy=\"145\" r=\"12\" fill=\"rgb(255,255,255)\" class=\"agent_1_24\"/><circle cx=\"131\" cy=\"247\" r=\"9\" fill=\"rgb(255,255,255)\" class=\"agent_1_38\"/><circle cx=\"367\" cy=\"244\" r=\"8\" fill=\"rgb(255,255,255)\" class=\"agent_1_59\"/><circle cx=\"20\" cy=\"232\" r=\"12\" fill=\"rgb(255,255,255)\" class=\"agent_1_61\"/><circle cx=\"131\" cy=\"281\" r=\"9\" fill=\"rgb(255,0,0)\" class=\"agent_1_71\"/><circle cx=\"400\" cy=\"256\" r=\"12\" fill=\"rgb(255,255,255)\" class=\"agent_1_74\"/></svg></div>"
      ],
      "text/plain": [
       "<IPython.core.display.HTML object>"
      ]
     },
     "metadata": {},
     "output_type": "display_data"
    },
    {
     "name": "stdout",
     "output_type": "stream",
     "text": [
      "partner_refs_true\n"
     ]
    },
    {
     "data": {
      "text/html": [
       "<div style=\"white-space: nowrap\"><svg viewbox='0 0 430 430' width=\"172\" height=\"172\" id=\"agent_1\"><circle cx=\"215\" cy=\"215\" r=\"205\" fill=\"none\" stroke=\"black\" stroke-width=\"2\" stroke-dasharray=\"3,3\"/><circle cx=\"290\" cy=\"369\" r=\"8\" fill=\"rgb(156,156,156)\"/><circle cx=\"120\" cy=\"145\" r=\"12\" fill=\"rgb(179,179,179)\"/><circle cx=\"131\" cy=\"247\" r=\"9\" fill=\"rgb(99,99,99)\"/><circle cx=\"367\" cy=\"244\" r=\"8\" fill=\"rgb(128,128,128)\"/><circle cx=\"20\" cy=\"232\" r=\"12\" fill=\"rgb(126,126,126)\"/><circle cx=\"131\" cy=\"281\" r=\"9\" fill=\"rgb(57,57,57)\"/><circle cx=\"400\" cy=\"256\" r=\"12\" fill=\"rgb(179,179,179)\"/></svg><svg viewBox='0 0 430 430' id=\"svg\" width=\"172\" height=\"172\"><circle cx=\"215\" cy=\"215\" r=\"205\" fill=\"none\" stroke=\"black\" stroke-width=\"2\" stroke-dasharray=\"3,3\"/> <circle cx=\"290\" cy=\"369\" r=\"8\" fill=\"rgb(255,255,255)\" class=\"agent_1_10\"/><circle cx=\"120\" cy=\"145\" r=\"12\" fill=\"rgb(255,255,255)\" class=\"agent_1_24\"/><circle cx=\"131\" cy=\"247\" r=\"9\" fill=\"rgb(255,0,0)\" class=\"agent_1_38\"/><circle cx=\"367\" cy=\"244\" r=\"8\" fill=\"rgb(255,255,255)\" class=\"agent_1_59\"/><circle cx=\"20\" cy=\"232\" r=\"12\" fill=\"rgb(255,255,255)\" class=\"agent_1_61\"/><circle cx=\"131\" cy=\"281\" r=\"9\" fill=\"rgb(255,255,255)\" class=\"agent_1_71\"/><circle cx=\"400\" cy=\"256\" r=\"12\" fill=\"rgb(255,255,255)\" class=\"agent_1_74\"/></svg><svg viewBox='0 0 430 430' id=\"svg\" width=\"172\" height=\"172\"><circle cx=\"215\" cy=\"215\" r=\"205\" fill=\"none\" stroke=\"black\" stroke-width=\"2\" stroke-dasharray=\"3,3\"/> <circle cx=\"290\" cy=\"369\" r=\"8\" fill=\"rgb(255,255,255)\" class=\"agent_1_10\"/><circle cx=\"120\" cy=\"145\" r=\"12\" fill=\"rgb(255,255,255)\" class=\"agent_1_24\"/><circle cx=\"131\" cy=\"247\" r=\"9\" fill=\"rgb(255,255,255)\" class=\"agent_1_38\"/><circle cx=\"367\" cy=\"244\" r=\"8\" fill=\"rgb(255,255,255)\" class=\"agent_1_59\"/><circle cx=\"20\" cy=\"232\" r=\"12\" fill=\"rgb(255,255,255)\" class=\"agent_1_61\"/><circle cx=\"131\" cy=\"281\" r=\"9\" fill=\"rgb(255,0,0)\" class=\"agent_1_71\"/><circle cx=\"400\" cy=\"256\" r=\"12\" fill=\"rgb(255,255,255)\" class=\"agent_1_74\"/></svg></div>"
      ],
      "text/plain": [
       "<IPython.core.display.HTML object>"
      ]
     },
     "metadata": {},
     "output_type": "display_data"
    },
    {
     "name": "stdout",
     "output_type": "stream",
     "text": [
      "utt: i have a med black dot in the middle with a darker gray dot same size <eos>\n",
      "detected markables:\n",
      "({'start': 10, 'end': 25, 'is_self': True, 'text': 'a med black dot'}, (3, 6, 7))\n",
      "({'start': 45, 'end': 62, 'is_self': True, 'text': 'a darker gray dot'}, (11, 14, 15))\n",
      "\n",
      "----------------------------------------\n",
      "\n",
      "to_mention_pred\n"
     ]
    },
    {
     "data": {
      "text/html": [
       "<div style=\"white-space: nowrap\"><svg viewbox='0 0 430 430' width=\"172\" height=\"172\" id=\"agent_1\"><circle cx=\"215\" cy=\"215\" r=\"205\" fill=\"none\" stroke=\"black\" stroke-width=\"2\" stroke-dasharray=\"3,3\"/><circle cx=\"290\" cy=\"369\" r=\"8\" fill=\"rgb(156,156,156)\"/><circle cx=\"120\" cy=\"145\" r=\"12\" fill=\"rgb(179,179,179)\"/><circle cx=\"131\" cy=\"247\" r=\"9\" fill=\"rgb(99,99,99)\"/><circle cx=\"367\" cy=\"244\" r=\"8\" fill=\"rgb(128,128,128)\"/><circle cx=\"20\" cy=\"232\" r=\"12\" fill=\"rgb(126,126,126)\"/><circle cx=\"131\" cy=\"281\" r=\"9\" fill=\"rgb(57,57,57)\"/><circle cx=\"400\" cy=\"256\" r=\"12\" fill=\"rgb(179,179,179)\"/></svg><svg viewBox='0 0 430 430' id=\"svg\" width=\"172\" height=\"172\"><circle cx=\"215\" cy=\"215\" r=\"205\" fill=\"none\" stroke=\"black\" stroke-width=\"2\" stroke-dasharray=\"3,3\"/> <circle cx=\"290\" cy=\"369\" r=\"8\" fill=\"rgb(255,255,255)\" class=\"agent_1_10\"/><circle cx=\"120\" cy=\"145\" r=\"12\" fill=\"rgb(255,255,255)\" class=\"agent_1_24\"/><circle cx=\"131\" cy=\"247\" r=\"9\" fill=\"rgb(255,0,0)\" class=\"agent_1_38\"/><circle cx=\"367\" cy=\"244\" r=\"8\" fill=\"rgb(255,255,255)\" class=\"agent_1_59\"/><circle cx=\"20\" cy=\"232\" r=\"12\" fill=\"rgb(255,255,255)\" class=\"agent_1_61\"/><circle cx=\"131\" cy=\"281\" r=\"9\" fill=\"rgb(255,0,0)\" class=\"agent_1_71\"/><circle cx=\"400\" cy=\"256\" r=\"12\" fill=\"rgb(255,255,255)\" class=\"agent_1_74\"/></svg><svg viewBox='0 0 430 430' id=\"svg\" width=\"172\" height=\"172\"><circle cx=\"215\" cy=\"215\" r=\"205\" fill=\"none\" stroke=\"black\" stroke-width=\"2\" stroke-dasharray=\"3,3\"/> <circle cx=\"290\" cy=\"369\" r=\"8\" fill=\"rgb(255,255,255)\" class=\"agent_1_10\"/><circle cx=\"120\" cy=\"145\" r=\"12\" fill=\"rgb(255,255,255)\" class=\"agent_1_24\"/><circle cx=\"131\" cy=\"247\" r=\"9\" fill=\"rgb(255,255,255)\" class=\"agent_1_38\"/><circle cx=\"367\" cy=\"244\" r=\"8\" fill=\"rgb(255,255,255)\" class=\"agent_1_59\"/><circle cx=\"20\" cy=\"232\" r=\"12\" fill=\"rgb(255,255,255)\" class=\"agent_1_61\"/><circle cx=\"131\" cy=\"281\" r=\"9\" fill=\"rgb(255,0,0)\" class=\"agent_1_71\"/><circle cx=\"400\" cy=\"256\" r=\"12\" fill=\"rgb(255,255,255)\" class=\"agent_1_74\"/></svg></div>"
      ],
      "text/plain": [
       "<IPython.core.display.HTML object>"
      ]
     },
     "metadata": {},
     "output_type": "display_data"
    },
    {
     "name": "stdout",
     "output_type": "stream",
     "text": [
      "to_mention_true\n"
     ]
    },
    {
     "data": {
      "text/html": [
       "<div style=\"white-space: nowrap\"><svg viewbox='0 0 430 430' width=\"172\" height=\"172\" id=\"agent_1\"><circle cx=\"215\" cy=\"215\" r=\"205\" fill=\"none\" stroke=\"black\" stroke-width=\"2\" stroke-dasharray=\"3,3\"/><circle cx=\"290\" cy=\"369\" r=\"8\" fill=\"rgb(156,156,156)\"/><circle cx=\"120\" cy=\"145\" r=\"12\" fill=\"rgb(179,179,179)\"/><circle cx=\"131\" cy=\"247\" r=\"9\" fill=\"rgb(99,99,99)\"/><circle cx=\"367\" cy=\"244\" r=\"8\" fill=\"rgb(128,128,128)\"/><circle cx=\"20\" cy=\"232\" r=\"12\" fill=\"rgb(126,126,126)\"/><circle cx=\"131\" cy=\"281\" r=\"9\" fill=\"rgb(57,57,57)\"/><circle cx=\"400\" cy=\"256\" r=\"12\" fill=\"rgb(179,179,179)\"/></svg><svg viewBox='0 0 430 430' id=\"svg\" width=\"172\" height=\"172\"><circle cx=\"215\" cy=\"215\" r=\"205\" fill=\"none\" stroke=\"black\" stroke-width=\"2\" stroke-dasharray=\"3,3\"/> <circle cx=\"290\" cy=\"369\" r=\"8\" fill=\"rgb(255,255,255)\" class=\"agent_1_10\"/><circle cx=\"120\" cy=\"145\" r=\"12\" fill=\"rgb(255,255,255)\" class=\"agent_1_24\"/><circle cx=\"131\" cy=\"247\" r=\"9\" fill=\"rgb(255,255,255)\" class=\"agent_1_38\"/><circle cx=\"367\" cy=\"244\" r=\"8\" fill=\"rgb(255,255,255)\" class=\"agent_1_59\"/><circle cx=\"20\" cy=\"232\" r=\"12\" fill=\"rgb(255,255,255)\" class=\"agent_1_61\"/><circle cx=\"131\" cy=\"281\" r=\"9\" fill=\"rgb(255,0,0)\" class=\"agent_1_71\"/><circle cx=\"400\" cy=\"256\" r=\"12\" fill=\"rgb(255,255,255)\" class=\"agent_1_74\"/></svg><svg viewBox='0 0 430 430' id=\"svg\" width=\"172\" height=\"172\"><circle cx=\"215\" cy=\"215\" r=\"205\" fill=\"none\" stroke=\"black\" stroke-width=\"2\" stroke-dasharray=\"3,3\"/> <circle cx=\"290\" cy=\"369\" r=\"8\" fill=\"rgb(255,255,255)\" class=\"agent_1_10\"/><circle cx=\"120\" cy=\"145\" r=\"12\" fill=\"rgb(255,255,255)\" class=\"agent_1_24\"/><circle cx=\"131\" cy=\"247\" r=\"9\" fill=\"rgb(255,0,0)\" class=\"agent_1_38\"/><circle cx=\"367\" cy=\"244\" r=\"8\" fill=\"rgb(255,255,255)\" class=\"agent_1_59\"/><circle cx=\"20\" cy=\"232\" r=\"12\" fill=\"rgb(255,255,255)\" class=\"agent_1_61\"/><circle cx=\"131\" cy=\"281\" r=\"9\" fill=\"rgb(255,255,255)\" class=\"agent_1_71\"/><circle cx=\"400\" cy=\"256\" r=\"12\" fill=\"rgb(255,255,255)\" class=\"agent_1_74\"/></svg></div>"
      ],
      "text/plain": [
       "<IPython.core.display.HTML object>"
      ]
     },
     "metadata": {},
     "output_type": "display_data"
    },
    {
     "name": "stdout",
     "output_type": "stream",
     "text": [
      "beam 0\ti have that too . is there a smaller dark grey dot to the right of the black dot ? <eos>\n",
      "greedy\ti have that too . is there a smaller dark grey dot to the right of the black dot ? <eos>\n",
      "human\tis the darker very close below the medium ? <eos>\n",
      "refs_pred\n"
     ]
    },
    {
     "data": {
      "text/html": [
       "<div style=\"white-space: nowrap\"><svg viewbox='0 0 430 430' width=\"172\" height=\"172\" id=\"agent_1\"><circle cx=\"215\" cy=\"215\" r=\"205\" fill=\"none\" stroke=\"black\" stroke-width=\"2\" stroke-dasharray=\"3,3\"/><circle cx=\"290\" cy=\"369\" r=\"8\" fill=\"rgb(156,156,156)\"/><circle cx=\"120\" cy=\"145\" r=\"12\" fill=\"rgb(179,179,179)\"/><circle cx=\"131\" cy=\"247\" r=\"9\" fill=\"rgb(99,99,99)\"/><circle cx=\"367\" cy=\"244\" r=\"8\" fill=\"rgb(128,128,128)\"/><circle cx=\"20\" cy=\"232\" r=\"12\" fill=\"rgb(126,126,126)\"/><circle cx=\"131\" cy=\"281\" r=\"9\" fill=\"rgb(57,57,57)\"/><circle cx=\"400\" cy=\"256\" r=\"12\" fill=\"rgb(179,179,179)\"/></svg><svg viewBox='0 0 430 430' id=\"svg\" width=\"172\" height=\"172\"><circle cx=\"215\" cy=\"215\" r=\"205\" fill=\"none\" stroke=\"black\" stroke-width=\"2\" stroke-dasharray=\"3,3\"/> <circle cx=\"290\" cy=\"369\" r=\"8\" fill=\"rgb(255,255,255)\" class=\"agent_1_10\"/><circle cx=\"120\" cy=\"145\" r=\"12\" fill=\"rgb(255,255,255)\" class=\"agent_1_24\"/><circle cx=\"131\" cy=\"247\" r=\"9\" fill=\"rgb(255,255,255)\" class=\"agent_1_38\"/><circle cx=\"367\" cy=\"244\" r=\"8\" fill=\"rgb(255,255,255)\" class=\"agent_1_59\"/><circle cx=\"20\" cy=\"232\" r=\"12\" fill=\"rgb(255,255,255)\" class=\"agent_1_61\"/><circle cx=\"131\" cy=\"281\" r=\"9\" fill=\"rgb(255,0,0)\" class=\"agent_1_71\"/><circle cx=\"400\" cy=\"256\" r=\"12\" fill=\"rgb(255,255,255)\" class=\"agent_1_74\"/></svg><svg viewBox='0 0 430 430' id=\"svg\" width=\"172\" height=\"172\"><circle cx=\"215\" cy=\"215\" r=\"205\" fill=\"none\" stroke=\"black\" stroke-width=\"2\" stroke-dasharray=\"3,3\"/> <circle cx=\"290\" cy=\"369\" r=\"8\" fill=\"rgb(255,255,255)\" class=\"agent_1_10\"/><circle cx=\"120\" cy=\"145\" r=\"12\" fill=\"rgb(255,255,255)\" class=\"agent_1_24\"/><circle cx=\"131\" cy=\"247\" r=\"9\" fill=\"rgb(255,0,0)\" class=\"agent_1_38\"/><circle cx=\"367\" cy=\"244\" r=\"8\" fill=\"rgb(255,255,255)\" class=\"agent_1_59\"/><circle cx=\"20\" cy=\"232\" r=\"12\" fill=\"rgb(255,255,255)\" class=\"agent_1_61\"/><circle cx=\"131\" cy=\"281\" r=\"9\" fill=\"rgb(255,255,255)\" class=\"agent_1_71\"/><circle cx=\"400\" cy=\"256\" r=\"12\" fill=\"rgb(255,255,255)\" class=\"agent_1_74\"/></svg></div>"
      ],
      "text/plain": [
       "<IPython.core.display.HTML object>"
      ]
     },
     "metadata": {},
     "output_type": "display_data"
    },
    {
     "name": "stdout",
     "output_type": "stream",
     "text": [
      "refs_true\n"
     ]
    },
    {
     "data": {
      "text/html": [
       "<div style=\"white-space: nowrap\"><svg viewbox='0 0 430 430' width=\"172\" height=\"172\" id=\"agent_1\"><circle cx=\"215\" cy=\"215\" r=\"205\" fill=\"none\" stroke=\"black\" stroke-width=\"2\" stroke-dasharray=\"3,3\"/><circle cx=\"290\" cy=\"369\" r=\"8\" fill=\"rgb(156,156,156)\"/><circle cx=\"120\" cy=\"145\" r=\"12\" fill=\"rgb(179,179,179)\"/><circle cx=\"131\" cy=\"247\" r=\"9\" fill=\"rgb(99,99,99)\"/><circle cx=\"367\" cy=\"244\" r=\"8\" fill=\"rgb(128,128,128)\"/><circle cx=\"20\" cy=\"232\" r=\"12\" fill=\"rgb(126,126,126)\"/><circle cx=\"131\" cy=\"281\" r=\"9\" fill=\"rgb(57,57,57)\"/><circle cx=\"400\" cy=\"256\" r=\"12\" fill=\"rgb(179,179,179)\"/></svg><svg viewBox='0 0 430 430' id=\"svg\" width=\"172\" height=\"172\"><circle cx=\"215\" cy=\"215\" r=\"205\" fill=\"none\" stroke=\"black\" stroke-width=\"2\" stroke-dasharray=\"3,3\"/> <circle cx=\"290\" cy=\"369\" r=\"8\" fill=\"rgb(255,255,255)\" class=\"agent_1_10\"/><circle cx=\"120\" cy=\"145\" r=\"12\" fill=\"rgb(255,255,255)\" class=\"agent_1_24\"/><circle cx=\"131\" cy=\"247\" r=\"9\" fill=\"rgb(255,255,255)\" class=\"agent_1_38\"/><circle cx=\"367\" cy=\"244\" r=\"8\" fill=\"rgb(255,255,255)\" class=\"agent_1_59\"/><circle cx=\"20\" cy=\"232\" r=\"12\" fill=\"rgb(255,255,255)\" class=\"agent_1_61\"/><circle cx=\"131\" cy=\"281\" r=\"9\" fill=\"rgb(255,0,0)\" class=\"agent_1_71\"/><circle cx=\"400\" cy=\"256\" r=\"12\" fill=\"rgb(255,255,255)\" class=\"agent_1_74\"/></svg><svg viewBox='0 0 430 430' id=\"svg\" width=\"172\" height=\"172\"><circle cx=\"215\" cy=\"215\" r=\"205\" fill=\"none\" stroke=\"black\" stroke-width=\"2\" stroke-dasharray=\"3,3\"/> <circle cx=\"290\" cy=\"369\" r=\"8\" fill=\"rgb(255,255,255)\" class=\"agent_1_10\"/><circle cx=\"120\" cy=\"145\" r=\"12\" fill=\"rgb(255,255,255)\" class=\"agent_1_24\"/><circle cx=\"131\" cy=\"247\" r=\"9\" fill=\"rgb(255,0,0)\" class=\"agent_1_38\"/><circle cx=\"367\" cy=\"244\" r=\"8\" fill=\"rgb(255,255,255)\" class=\"agent_1_59\"/><circle cx=\"20\" cy=\"232\" r=\"12\" fill=\"rgb(255,255,255)\" class=\"agent_1_61\"/><circle cx=\"131\" cy=\"281\" r=\"9\" fill=\"rgb(255,255,255)\" class=\"agent_1_71\"/><circle cx=\"400\" cy=\"256\" r=\"12\" fill=\"rgb(255,255,255)\" class=\"agent_1_74\"/></svg></div>"
      ],
      "text/plain": [
       "<IPython.core.display.HTML object>"
      ]
     },
     "metadata": {},
     "output_type": "display_data"
    },
    {
     "name": "stdout",
     "output_type": "stream",
     "text": [
      "utt: is the darker very close below the medium ? <eos>\n",
      "detected markables:\n",
      "({'start': 6, 'end': 16, 'is_self': True, 'text': 'the darker'}, (2, 3, 4))\n",
      "({'start': 34, 'end': 44, 'is_self': True, 'text': 'the medium'}, (7, 8, 9))\n",
      "\n",
      "----------------------------------------\n",
      "\n",
      "human\tTHEM: yes <eos>\n",
      "utt: yes <eos>\n",
      "detected markables:\n",
      "\n",
      "----------------------------------------\n",
      "\n",
      "to_mention_pred\n"
     ]
    },
    {
     "data": {
      "text/html": [
       "<div style=\"white-space: nowrap\"><svg viewbox='0 0 430 430' width=\"172\" height=\"172\" id=\"agent_1\"><circle cx=\"215\" cy=\"215\" r=\"205\" fill=\"none\" stroke=\"black\" stroke-width=\"2\" stroke-dasharray=\"3,3\"/><circle cx=\"290\" cy=\"369\" r=\"8\" fill=\"rgb(156,156,156)\"/><circle cx=\"120\" cy=\"145\" r=\"12\" fill=\"rgb(179,179,179)\"/><circle cx=\"131\" cy=\"247\" r=\"9\" fill=\"rgb(99,99,99)\"/><circle cx=\"367\" cy=\"244\" r=\"8\" fill=\"rgb(128,128,128)\"/><circle cx=\"20\" cy=\"232\" r=\"12\" fill=\"rgb(126,126,126)\"/><circle cx=\"131\" cy=\"281\" r=\"9\" fill=\"rgb(57,57,57)\"/><circle cx=\"400\" cy=\"256\" r=\"12\" fill=\"rgb(179,179,179)\"/></svg><svg viewBox='0 0 430 430' id=\"svg\" width=\"172\" height=\"172\"><circle cx=\"215\" cy=\"215\" r=\"205\" fill=\"none\" stroke=\"black\" stroke-width=\"2\" stroke-dasharray=\"3,3\"/> <circle cx=\"290\" cy=\"369\" r=\"8\" fill=\"rgb(255,255,255)\" class=\"agent_1_10\"/><circle cx=\"120\" cy=\"145\" r=\"12\" fill=\"rgb(255,255,255)\" class=\"agent_1_24\"/><circle cx=\"131\" cy=\"247\" r=\"9\" fill=\"rgb(255,255,255)\" class=\"agent_1_38\"/><circle cx=\"367\" cy=\"244\" r=\"8\" fill=\"rgb(255,255,255)\" class=\"agent_1_59\"/><circle cx=\"20\" cy=\"232\" r=\"12\" fill=\"rgb(255,255,255)\" class=\"agent_1_61\"/><circle cx=\"131\" cy=\"281\" r=\"9\" fill=\"rgb(255,0,0)\" class=\"agent_1_71\"/><circle cx=\"400\" cy=\"256\" r=\"12\" fill=\"rgb(255,255,255)\" class=\"agent_1_74\"/></svg></div>"
      ],
      "text/plain": [
       "<IPython.core.display.HTML object>"
      ]
     },
     "metadata": {},
     "output_type": "display_data"
    },
    {
     "name": "stdout",
     "output_type": "stream",
     "text": [
      "to_mention_true\n"
     ]
    },
    {
     "data": {
      "text/html": [
       "<div style=\"white-space: nowrap\"><svg viewbox='0 0 430 430' width=\"172\" height=\"172\" id=\"agent_1\"><circle cx=\"215\" cy=\"215\" r=\"205\" fill=\"none\" stroke=\"black\" stroke-width=\"2\" stroke-dasharray=\"3,3\"/><circle cx=\"290\" cy=\"369\" r=\"8\" fill=\"rgb(156,156,156)\"/><circle cx=\"120\" cy=\"145\" r=\"12\" fill=\"rgb(179,179,179)\"/><circle cx=\"131\" cy=\"247\" r=\"9\" fill=\"rgb(99,99,99)\"/><circle cx=\"367\" cy=\"244\" r=\"8\" fill=\"rgb(128,128,128)\"/><circle cx=\"20\" cy=\"232\" r=\"12\" fill=\"rgb(126,126,126)\"/><circle cx=\"131\" cy=\"281\" r=\"9\" fill=\"rgb(57,57,57)\"/><circle cx=\"400\" cy=\"256\" r=\"12\" fill=\"rgb(179,179,179)\"/></svg><svg viewBox='0 0 430 430' id=\"svg\" width=\"172\" height=\"172\"><circle cx=\"215\" cy=\"215\" r=\"205\" fill=\"none\" stroke=\"black\" stroke-width=\"2\" stroke-dasharray=\"3,3\"/> <circle cx=\"290\" cy=\"369\" r=\"8\" fill=\"rgb(255,255,255)\" class=\"agent_1_10\"/><circle cx=\"120\" cy=\"145\" r=\"12\" fill=\"rgb(255,255,255)\" class=\"agent_1_24\"/><circle cx=\"131\" cy=\"247\" r=\"9\" fill=\"rgb(255,255,255)\" class=\"agent_1_38\"/><circle cx=\"367\" cy=\"244\" r=\"8\" fill=\"rgb(255,255,255)\" class=\"agent_1_59\"/><circle cx=\"20\" cy=\"232\" r=\"12\" fill=\"rgb(255,255,255)\" class=\"agent_1_61\"/><circle cx=\"131\" cy=\"281\" r=\"9\" fill=\"rgb(255,0,0)\" class=\"agent_1_71\"/><circle cx=\"400\" cy=\"256\" r=\"12\" fill=\"rgb(255,255,255)\" class=\"agent_1_74\"/></svg></div>"
      ],
      "text/plain": [
       "<IPython.core.display.HTML object>"
      ]
     },
     "metadata": {},
     "output_type": "display_data"
    },
    {
     "name": "stdout",
     "output_type": "stream",
     "text": [
      "beam 0\tok lets click the black one <selection>\n",
      "greedy\tok lets click the black one <selection>\n",
      "human\twe 'll click to darker one then ? <eos>\n",
      "refs_pred\n"
     ]
    },
    {
     "data": {
      "text/html": [
       "<div style=\"white-space: nowrap\"><svg viewbox='0 0 430 430' width=\"172\" height=\"172\" id=\"agent_1\"><circle cx=\"215\" cy=\"215\" r=\"205\" fill=\"none\" stroke=\"black\" stroke-width=\"2\" stroke-dasharray=\"3,3\"/><circle cx=\"290\" cy=\"369\" r=\"8\" fill=\"rgb(156,156,156)\"/><circle cx=\"120\" cy=\"145\" r=\"12\" fill=\"rgb(179,179,179)\"/><circle cx=\"131\" cy=\"247\" r=\"9\" fill=\"rgb(99,99,99)\"/><circle cx=\"367\" cy=\"244\" r=\"8\" fill=\"rgb(128,128,128)\"/><circle cx=\"20\" cy=\"232\" r=\"12\" fill=\"rgb(126,126,126)\"/><circle cx=\"131\" cy=\"281\" r=\"9\" fill=\"rgb(57,57,57)\"/><circle cx=\"400\" cy=\"256\" r=\"12\" fill=\"rgb(179,179,179)\"/></svg><svg viewBox='0 0 430 430' id=\"svg\" width=\"172\" height=\"172\"><circle cx=\"215\" cy=\"215\" r=\"205\" fill=\"none\" stroke=\"black\" stroke-width=\"2\" stroke-dasharray=\"3,3\"/> <circle cx=\"290\" cy=\"369\" r=\"8\" fill=\"rgb(255,255,255)\" class=\"agent_1_10\"/><circle cx=\"120\" cy=\"145\" r=\"12\" fill=\"rgb(255,255,255)\" class=\"agent_1_24\"/><circle cx=\"131\" cy=\"247\" r=\"9\" fill=\"rgb(255,255,255)\" class=\"agent_1_38\"/><circle cx=\"367\" cy=\"244\" r=\"8\" fill=\"rgb(255,255,255)\" class=\"agent_1_59\"/><circle cx=\"20\" cy=\"232\" r=\"12\" fill=\"rgb(255,255,255)\" class=\"agent_1_61\"/><circle cx=\"131\" cy=\"281\" r=\"9\" fill=\"rgb(255,0,0)\" class=\"agent_1_71\"/><circle cx=\"400\" cy=\"256\" r=\"12\" fill=\"rgb(255,255,255)\" class=\"agent_1_74\"/></svg></div>"
      ],
      "text/plain": [
       "<IPython.core.display.HTML object>"
      ]
     },
     "metadata": {},
     "output_type": "display_data"
    },
    {
     "name": "stdout",
     "output_type": "stream",
     "text": [
      "refs_true\n"
     ]
    },
    {
     "data": {
      "text/html": [
       "<div style=\"white-space: nowrap\"><svg viewbox='0 0 430 430' width=\"172\" height=\"172\" id=\"agent_1\"><circle cx=\"215\" cy=\"215\" r=\"205\" fill=\"none\" stroke=\"black\" stroke-width=\"2\" stroke-dasharray=\"3,3\"/><circle cx=\"290\" cy=\"369\" r=\"8\" fill=\"rgb(156,156,156)\"/><circle cx=\"120\" cy=\"145\" r=\"12\" fill=\"rgb(179,179,179)\"/><circle cx=\"131\" cy=\"247\" r=\"9\" fill=\"rgb(99,99,99)\"/><circle cx=\"367\" cy=\"244\" r=\"8\" fill=\"rgb(128,128,128)\"/><circle cx=\"20\" cy=\"232\" r=\"12\" fill=\"rgb(126,126,126)\"/><circle cx=\"131\" cy=\"281\" r=\"9\" fill=\"rgb(57,57,57)\"/><circle cx=\"400\" cy=\"256\" r=\"12\" fill=\"rgb(179,179,179)\"/></svg><svg viewBox='0 0 430 430' id=\"svg\" width=\"172\" height=\"172\"><circle cx=\"215\" cy=\"215\" r=\"205\" fill=\"none\" stroke=\"black\" stroke-width=\"2\" stroke-dasharray=\"3,3\"/> <circle cx=\"290\" cy=\"369\" r=\"8\" fill=\"rgb(255,255,255)\" class=\"agent_1_10\"/><circle cx=\"120\" cy=\"145\" r=\"12\" fill=\"rgb(255,255,255)\" class=\"agent_1_24\"/><circle cx=\"131\" cy=\"247\" r=\"9\" fill=\"rgb(255,255,255)\" class=\"agent_1_38\"/><circle cx=\"367\" cy=\"244\" r=\"8\" fill=\"rgb(255,255,255)\" class=\"agent_1_59\"/><circle cx=\"20\" cy=\"232\" r=\"12\" fill=\"rgb(255,255,255)\" class=\"agent_1_61\"/><circle cx=\"131\" cy=\"281\" r=\"9\" fill=\"rgb(255,0,0)\" class=\"agent_1_71\"/><circle cx=\"400\" cy=\"256\" r=\"12\" fill=\"rgb(255,255,255)\" class=\"agent_1_74\"/></svg></div>"
      ],
      "text/plain": [
       "<IPython.core.display.HTML object>"
      ]
     },
     "metadata": {},
     "output_type": "display_data"
    },
    {
     "name": "stdout",
     "output_type": "stream",
     "text": [
      "utt: we 'll click to darker one then ? <eos>\n",
      "detected markables:\n",
      "({'start': 19, 'end': 29, 'is_self': True, 'text': 'darker one'}, (5, 6, 7))\n",
      "\n",
      "----------------------------------------\n",
      "\n",
      "human\tTHEM: okay sounds good <selection>\n",
      "utt: okay sounds good <selection>\n",
      "detected markables:\n",
      "\n",
      "----------------------------------------\n",
      "\n",
      "sel_pred\n"
     ]
    },
    {
     "data": {
      "text/html": [
       "<div style=\"white-space: nowrap\"><svg viewbox='0 0 430 430' width=\"172\" height=\"172\" id=\"agent_1\"><circle cx=\"215\" cy=\"215\" r=\"205\" fill=\"none\" stroke=\"black\" stroke-width=\"2\" stroke-dasharray=\"3,3\"/><circle cx=\"290\" cy=\"369\" r=\"8\" fill=\"rgb(156,156,156)\"/><circle cx=\"120\" cy=\"145\" r=\"12\" fill=\"rgb(179,179,179)\"/><circle cx=\"131\" cy=\"247\" r=\"9\" fill=\"rgb(99,99,99)\"/><circle cx=\"367\" cy=\"244\" r=\"8\" fill=\"rgb(128,128,128)\"/><circle cx=\"20\" cy=\"232\" r=\"12\" fill=\"rgb(126,126,126)\"/><circle cx=\"131\" cy=\"281\" r=\"9\" fill=\"rgb(57,57,57)\"/><circle cx=\"400\" cy=\"256\" r=\"12\" fill=\"rgb(179,179,179)\"/></svg><svg viewBox='0 0 430 430' id=\"svg\" width=\"172\" height=\"172\"><circle cx=\"215\" cy=\"215\" r=\"205\" fill=\"none\" stroke=\"black\" stroke-width=\"2\" stroke-dasharray=\"3,3\"/> <circle cx=\"290\" cy=\"369\" r=\"8\" fill=\"rgb(255,254,254)\" class=\"agent_1_10\"/><circle cx=\"120\" cy=\"145\" r=\"12\" fill=\"rgb(255,254,254)\" class=\"agent_1_24\"/><circle cx=\"131\" cy=\"247\" r=\"9\" fill=\"rgb(255,127,127)\" class=\"agent_1_38\"/><circle cx=\"367\" cy=\"244\" r=\"8\" fill=\"rgb(255,254,254)\" class=\"agent_1_59\"/><circle cx=\"20\" cy=\"232\" r=\"12\" fill=\"rgb(255,254,254)\" class=\"agent_1_61\"/><circle cx=\"131\" cy=\"281\" r=\"9\" fill=\"rgb(255,57,57)\" class=\"agent_1_71\"/><circle cx=\"400\" cy=\"256\" r=\"12\" fill=\"rgb(255,254,254)\" class=\"agent_1_74\"/></svg></div>"
      ],
      "text/plain": [
       "<IPython.core.display.HTML object>"
      ]
     },
     "metadata": {},
     "output_type": "display_data"
    },
    {
     "name": "stdout",
     "output_type": "stream",
     "text": [
      "sel_true\n"
     ]
    },
    {
     "data": {
      "text/html": [
       "<div style=\"white-space: nowrap\"><svg viewbox='0 0 430 430' width=\"172\" height=\"172\" id=\"agent_1\"><circle cx=\"215\" cy=\"215\" r=\"205\" fill=\"none\" stroke=\"black\" stroke-width=\"2\" stroke-dasharray=\"3,3\"/><circle cx=\"290\" cy=\"369\" r=\"8\" fill=\"rgb(156,156,156)\"/><circle cx=\"120\" cy=\"145\" r=\"12\" fill=\"rgb(179,179,179)\"/><circle cx=\"131\" cy=\"247\" r=\"9\" fill=\"rgb(99,99,99)\"/><circle cx=\"367\" cy=\"244\" r=\"8\" fill=\"rgb(128,128,128)\"/><circle cx=\"20\" cy=\"232\" r=\"12\" fill=\"rgb(126,126,126)\"/><circle cx=\"131\" cy=\"281\" r=\"9\" fill=\"rgb(57,57,57)\"/><circle cx=\"400\" cy=\"256\" r=\"12\" fill=\"rgb(179,179,179)\"/></svg><svg viewBox='0 0 430 430' id=\"svg\" width=\"172\" height=\"172\"><circle cx=\"215\" cy=\"215\" r=\"205\" fill=\"none\" stroke=\"black\" stroke-width=\"2\" stroke-dasharray=\"3,3\"/> <circle cx=\"290\" cy=\"369\" r=\"8\" fill=\"rgb(255,255,255)\" class=\"agent_1_10\"/><circle cx=\"120\" cy=\"145\" r=\"12\" fill=\"rgb(255,255,255)\" class=\"agent_1_24\"/><circle cx=\"131\" cy=\"247\" r=\"9\" fill=\"rgb(255,255,255)\" class=\"agent_1_38\"/><circle cx=\"367\" cy=\"244\" r=\"8\" fill=\"rgb(255,255,255)\" class=\"agent_1_59\"/><circle cx=\"20\" cy=\"232\" r=\"12\" fill=\"rgb(255,255,255)\" class=\"agent_1_61\"/><circle cx=\"131\" cy=\"281\" r=\"9\" fill=\"rgb(255,0,0)\" class=\"agent_1_71\"/><circle cx=\"400\" cy=\"256\" r=\"12\" fill=\"rgb(255,255,255)\" class=\"agent_1_74\"/></svg></div>"
      ],
      "text/plain": [
       "<IPython.core.display.HTML object>"
      ]
     },
     "metadata": {},
     "output_type": "display_data"
    }
   ],
   "source": [
    "force_contexts_and_mentions(5)"
   ]
  },
  {
   "cell_type": "code",
   "execution_count": 74,
   "metadata": {
    "scrolled": false
   },
   "outputs": [
    {
     "name": "stdout",
     "output_type": "stream",
     "text": [
      "human\tTHEM: mid size grey dot at 6 o clock <eos>\n",
      "partner_refs_pred\n"
     ]
    },
    {
     "data": {
      "text/html": [
       "<div style=\"white-space: nowrap\"><svg viewbox='0 0 430 430' width=\"172\" height=\"172\" id=\"agent_0\"><circle cx=\"215\" cy=\"215\" r=\"205\" fill=\"none\" stroke=\"black\" stroke-width=\"2\" stroke-dasharray=\"3,3\"/><circle cx=\"159\" cy=\"74\" r=\"11\" fill=\"rgb(189,189,189)\"/><circle cx=\"128\" cy=\"358\" r=\"8\" fill=\"rgb(139,139,139)\"/><circle cx=\"352\" cy=\"160\" r=\"12\" fill=\"rgb(180,180,180)\"/><circle cx=\"222\" cy=\"341\" r=\"10\" fill=\"rgb(113,113,113)\"/><circle cx=\"149\" cy=\"131\" r=\"12\" fill=\"rgb(150,150,150)\"/><circle cx=\"343\" cy=\"297\" r=\"10\" fill=\"rgb(174,174,174)\"/><circle cx=\"267\" cy=\"379\" r=\"10\" fill=\"rgb(111,111,111)\"/></svg><svg viewBox='0 0 430 430' id=\"svg\" width=\"172\" height=\"172\"><circle cx=\"215\" cy=\"215\" r=\"205\" fill=\"none\" stroke=\"black\" stroke-width=\"2\" stroke-dasharray=\"3,3\"/> <circle cx=\"159\" cy=\"74\" r=\"11\" fill=\"rgb(255,255,255)\" class=\"agent_0_16\"/><circle cx=\"128\" cy=\"358\" r=\"8\" fill=\"rgb(255,255,255)\" class=\"agent_0_35\"/><circle cx=\"352\" cy=\"160\" r=\"12\" fill=\"rgb(255,255,255)\" class=\"agent_0_45\"/><circle cx=\"222\" cy=\"341\" r=\"10\" fill=\"rgb(255,255,255)\" class=\"agent_0_49\"/><circle cx=\"149\" cy=\"131\" r=\"12\" fill=\"rgb(255,255,255)\" class=\"agent_0_50\"/><circle cx=\"343\" cy=\"297\" r=\"10\" fill=\"rgb(255,255,255)\" class=\"agent_0_59\"/><circle cx=\"267\" cy=\"379\" r=\"10\" fill=\"rgb(255,255,255)\" class=\"agent_0_60\"/></svg></div>"
      ],
      "text/plain": [
       "<IPython.core.display.HTML object>"
      ]
     },
     "metadata": {},
     "output_type": "display_data"
    },
    {
     "name": "stdout",
     "output_type": "stream",
     "text": [
      "partner_refs_true\n"
     ]
    },
    {
     "data": {
      "text/html": [
       "<div style=\"white-space: nowrap\"><svg viewbox='0 0 430 430' width=\"172\" height=\"172\" id=\"agent_0\"><circle cx=\"215\" cy=\"215\" r=\"205\" fill=\"none\" stroke=\"black\" stroke-width=\"2\" stroke-dasharray=\"3,3\"/><circle cx=\"159\" cy=\"74\" r=\"11\" fill=\"rgb(189,189,189)\"/><circle cx=\"128\" cy=\"358\" r=\"8\" fill=\"rgb(139,139,139)\"/><circle cx=\"352\" cy=\"160\" r=\"12\" fill=\"rgb(180,180,180)\"/><circle cx=\"222\" cy=\"341\" r=\"10\" fill=\"rgb(113,113,113)\"/><circle cx=\"149\" cy=\"131\" r=\"12\" fill=\"rgb(150,150,150)\"/><circle cx=\"343\" cy=\"297\" r=\"10\" fill=\"rgb(174,174,174)\"/><circle cx=\"267\" cy=\"379\" r=\"10\" fill=\"rgb(111,111,111)\"/></svg><svg viewBox='0 0 430 430' id=\"svg\" width=\"172\" height=\"172\"><circle cx=\"215\" cy=\"215\" r=\"205\" fill=\"none\" stroke=\"black\" stroke-width=\"2\" stroke-dasharray=\"3,3\"/> <circle cx=\"159\" cy=\"74\" r=\"11\" fill=\"rgb(255,255,255)\" class=\"agent_0_16\"/><circle cx=\"128\" cy=\"358\" r=\"8\" fill=\"rgb(255,255,255)\" class=\"agent_0_35\"/><circle cx=\"352\" cy=\"160\" r=\"12\" fill=\"rgb(255,255,255)\" class=\"agent_0_45\"/><circle cx=\"222\" cy=\"341\" r=\"10\" fill=\"rgb(255,0,0)\" class=\"agent_0_49\"/><circle cx=\"149\" cy=\"131\" r=\"12\" fill=\"rgb(255,255,255)\" class=\"agent_0_50\"/><circle cx=\"343\" cy=\"297\" r=\"10\" fill=\"rgb(255,255,255)\" class=\"agent_0_59\"/><circle cx=\"267\" cy=\"379\" r=\"10\" fill=\"rgb(255,255,255)\" class=\"agent_0_60\"/></svg></div>"
      ],
      "text/plain": [
       "<IPython.core.display.HTML object>"
      ]
     },
     "metadata": {},
     "output_type": "display_data"
    },
    {
     "name": "stdout",
     "output_type": "stream",
     "text": [
      "utt: mid size grey dot at 6 o clock <eos>\n",
      "detected markables:\n",
      "({'start': 3, 'end': 20, 'is_self': True, 'text': 'mid size grey dot'}, (1, 4, 5))\n",
      "\n",
      "----------------------------------------\n",
      "\n",
      "to_mention_pred\n"
     ]
    },
    {
     "data": {
      "text/html": [
       "<div style=\"white-space: nowrap\"><svg viewbox='0 0 430 430' width=\"172\" height=\"172\" id=\"agent_0\"><circle cx=\"215\" cy=\"215\" r=\"205\" fill=\"none\" stroke=\"black\" stroke-width=\"2\" stroke-dasharray=\"3,3\"/><circle cx=\"159\" cy=\"74\" r=\"11\" fill=\"rgb(189,189,189)\"/><circle cx=\"128\" cy=\"358\" r=\"8\" fill=\"rgb(139,139,139)\"/><circle cx=\"352\" cy=\"160\" r=\"12\" fill=\"rgb(180,180,180)\"/><circle cx=\"222\" cy=\"341\" r=\"10\" fill=\"rgb(113,113,113)\"/><circle cx=\"149\" cy=\"131\" r=\"12\" fill=\"rgb(150,150,150)\"/><circle cx=\"343\" cy=\"297\" r=\"10\" fill=\"rgb(174,174,174)\"/><circle cx=\"267\" cy=\"379\" r=\"10\" fill=\"rgb(111,111,111)\"/></svg><svg viewBox='0 0 430 430' id=\"svg\" width=\"172\" height=\"172\"><circle cx=\"215\" cy=\"215\" r=\"205\" fill=\"none\" stroke=\"black\" stroke-width=\"2\" stroke-dasharray=\"3,3\"/> <circle cx=\"159\" cy=\"74\" r=\"11\" fill=\"rgb(255,255,255)\" class=\"agent_0_16\"/><circle cx=\"128\" cy=\"358\" r=\"8\" fill=\"rgb(255,0,0)\" class=\"agent_0_35\"/><circle cx=\"352\" cy=\"160\" r=\"12\" fill=\"rgb(255,255,255)\" class=\"agent_0_45\"/><circle cx=\"222\" cy=\"341\" r=\"10\" fill=\"rgb(255,0,0)\" class=\"agent_0_49\"/><circle cx=\"149\" cy=\"131\" r=\"12\" fill=\"rgb(255,255,255)\" class=\"agent_0_50\"/><circle cx=\"343\" cy=\"297\" r=\"10\" fill=\"rgb(255,255,255)\" class=\"agent_0_59\"/><circle cx=\"267\" cy=\"379\" r=\"10\" fill=\"rgb(255,0,0)\" class=\"agent_0_60\"/></svg><svg viewBox='0 0 430 430' id=\"svg\" width=\"172\" height=\"172\"><circle cx=\"215\" cy=\"215\" r=\"205\" fill=\"none\" stroke=\"black\" stroke-width=\"2\" stroke-dasharray=\"3,3\"/> <circle cx=\"159\" cy=\"74\" r=\"11\" fill=\"rgb(255,255,255)\" class=\"agent_0_16\"/><circle cx=\"128\" cy=\"358\" r=\"8\" fill=\"rgb(255,255,255)\" class=\"agent_0_35\"/><circle cx=\"352\" cy=\"160\" r=\"12\" fill=\"rgb(255,255,255)\" class=\"agent_0_45\"/><circle cx=\"222\" cy=\"341\" r=\"10\" fill=\"rgb(255,255,255)\" class=\"agent_0_49\"/><circle cx=\"149\" cy=\"131\" r=\"12\" fill=\"rgb(255,255,255)\" class=\"agent_0_50\"/><circle cx=\"343\" cy=\"297\" r=\"10\" fill=\"rgb(255,255,255)\" class=\"agent_0_59\"/><circle cx=\"267\" cy=\"379\" r=\"10\" fill=\"rgb(255,255,255)\" class=\"agent_0_60\"/></svg></div>"
      ],
      "text/plain": [
       "<IPython.core.display.HTML object>"
      ]
     },
     "metadata": {},
     "output_type": "display_data"
    },
    {
     "name": "stdout",
     "output_type": "stream",
     "text": [
      "to_mention_true\n"
     ]
    },
    {
     "data": {
      "text/html": [
       "<div style=\"white-space: nowrap\"><svg viewbox='0 0 430 430' width=\"172\" height=\"172\" id=\"agent_0\"><circle cx=\"215\" cy=\"215\" r=\"205\" fill=\"none\" stroke=\"black\" stroke-width=\"2\" stroke-dasharray=\"3,3\"/><circle cx=\"159\" cy=\"74\" r=\"11\" fill=\"rgb(189,189,189)\"/><circle cx=\"128\" cy=\"358\" r=\"8\" fill=\"rgb(139,139,139)\"/><circle cx=\"352\" cy=\"160\" r=\"12\" fill=\"rgb(180,180,180)\"/><circle cx=\"222\" cy=\"341\" r=\"10\" fill=\"rgb(113,113,113)\"/><circle cx=\"149\" cy=\"131\" r=\"12\" fill=\"rgb(150,150,150)\"/><circle cx=\"343\" cy=\"297\" r=\"10\" fill=\"rgb(174,174,174)\"/><circle cx=\"267\" cy=\"379\" r=\"10\" fill=\"rgb(111,111,111)\"/></svg><svg viewBox='0 0 430 430' id=\"svg\" width=\"172\" height=\"172\"><circle cx=\"215\" cy=\"215\" r=\"205\" fill=\"none\" stroke=\"black\" stroke-width=\"2\" stroke-dasharray=\"3,3\"/> <circle cx=\"159\" cy=\"74\" r=\"11\" fill=\"rgb(255,0,0)\" class=\"agent_0_16\"/><circle cx=\"128\" cy=\"358\" r=\"8\" fill=\"rgb(255,255,255)\" class=\"agent_0_35\"/><circle cx=\"352\" cy=\"160\" r=\"12\" fill=\"rgb(255,255,255)\" class=\"agent_0_45\"/><circle cx=\"222\" cy=\"341\" r=\"10\" fill=\"rgb(255,255,255)\" class=\"agent_0_49\"/><circle cx=\"149\" cy=\"131\" r=\"12\" fill=\"rgb(255,0,0)\" class=\"agent_0_50\"/><circle cx=\"343\" cy=\"297\" r=\"10\" fill=\"rgb(255,255,255)\" class=\"agent_0_59\"/><circle cx=\"267\" cy=\"379\" r=\"10\" fill=\"rgb(255,255,255)\" class=\"agent_0_60\"/></svg></div>"
      ],
      "text/plain": [
       "<IPython.core.display.HTML object>"
      ]
     },
     "metadata": {},
     "output_type": "display_data"
    },
    {
     "name": "stdout",
     "output_type": "stream",
     "text": [
      "beam 0\ti have a large light grey dot at the top of the circle <eos>\n",
      "greedy\ti have a large grey dot at the top <eos>\n",
      "human\thi , do you have 2 big dots towards the left , upper of the circle ? <eos>\n",
      "refs_pred\n"
     ]
    },
    {
     "data": {
      "text/html": [
       "<div style=\"white-space: nowrap\"><svg viewbox='0 0 430 430' width=\"172\" height=\"172\" id=\"agent_0\"><circle cx=\"215\" cy=\"215\" r=\"205\" fill=\"none\" stroke=\"black\" stroke-width=\"2\" stroke-dasharray=\"3,3\"/><circle cx=\"159\" cy=\"74\" r=\"11\" fill=\"rgb(189,189,189)\"/><circle cx=\"128\" cy=\"358\" r=\"8\" fill=\"rgb(139,139,139)\"/><circle cx=\"352\" cy=\"160\" r=\"12\" fill=\"rgb(180,180,180)\"/><circle cx=\"222\" cy=\"341\" r=\"10\" fill=\"rgb(113,113,113)\"/><circle cx=\"149\" cy=\"131\" r=\"12\" fill=\"rgb(150,150,150)\"/><circle cx=\"343\" cy=\"297\" r=\"10\" fill=\"rgb(174,174,174)\"/><circle cx=\"267\" cy=\"379\" r=\"10\" fill=\"rgb(111,111,111)\"/></svg><svg viewBox='0 0 430 430' id=\"svg\" width=\"172\" height=\"172\"><circle cx=\"215\" cy=\"215\" r=\"205\" fill=\"none\" stroke=\"black\" stroke-width=\"2\" stroke-dasharray=\"3,3\"/> <circle cx=\"159\" cy=\"74\" r=\"11\" fill=\"rgb(255,0,0)\" class=\"agent_0_16\"/><circle cx=\"128\" cy=\"358\" r=\"8\" fill=\"rgb(255,255,255)\" class=\"agent_0_35\"/><circle cx=\"352\" cy=\"160\" r=\"12\" fill=\"rgb(255,255,255)\" class=\"agent_0_45\"/><circle cx=\"222\" cy=\"341\" r=\"10\" fill=\"rgb(255,255,255)\" class=\"agent_0_49\"/><circle cx=\"149\" cy=\"131\" r=\"12\" fill=\"rgb(255,0,0)\" class=\"agent_0_50\"/><circle cx=\"343\" cy=\"297\" r=\"10\" fill=\"rgb(255,255,255)\" class=\"agent_0_59\"/><circle cx=\"267\" cy=\"379\" r=\"10\" fill=\"rgb(255,255,255)\" class=\"agent_0_60\"/></svg></div>"
      ],
      "text/plain": [
       "<IPython.core.display.HTML object>"
      ]
     },
     "metadata": {},
     "output_type": "display_data"
    },
    {
     "name": "stdout",
     "output_type": "stream",
     "text": [
      "refs_true\n"
     ]
    },
    {
     "data": {
      "text/html": [
       "<div style=\"white-space: nowrap\"><svg viewbox='0 0 430 430' width=\"172\" height=\"172\" id=\"agent_0\"><circle cx=\"215\" cy=\"215\" r=\"205\" fill=\"none\" stroke=\"black\" stroke-width=\"2\" stroke-dasharray=\"3,3\"/><circle cx=\"159\" cy=\"74\" r=\"11\" fill=\"rgb(189,189,189)\"/><circle cx=\"128\" cy=\"358\" r=\"8\" fill=\"rgb(139,139,139)\"/><circle cx=\"352\" cy=\"160\" r=\"12\" fill=\"rgb(180,180,180)\"/><circle cx=\"222\" cy=\"341\" r=\"10\" fill=\"rgb(113,113,113)\"/><circle cx=\"149\" cy=\"131\" r=\"12\" fill=\"rgb(150,150,150)\"/><circle cx=\"343\" cy=\"297\" r=\"10\" fill=\"rgb(174,174,174)\"/><circle cx=\"267\" cy=\"379\" r=\"10\" fill=\"rgb(111,111,111)\"/></svg><svg viewBox='0 0 430 430' id=\"svg\" width=\"172\" height=\"172\"><circle cx=\"215\" cy=\"215\" r=\"205\" fill=\"none\" stroke=\"black\" stroke-width=\"2\" stroke-dasharray=\"3,3\"/> <circle cx=\"159\" cy=\"74\" r=\"11\" fill=\"rgb(255,0,0)\" class=\"agent_0_16\"/><circle cx=\"128\" cy=\"358\" r=\"8\" fill=\"rgb(255,255,255)\" class=\"agent_0_35\"/><circle cx=\"352\" cy=\"160\" r=\"12\" fill=\"rgb(255,255,255)\" class=\"agent_0_45\"/><circle cx=\"222\" cy=\"341\" r=\"10\" fill=\"rgb(255,255,255)\" class=\"agent_0_49\"/><circle cx=\"149\" cy=\"131\" r=\"12\" fill=\"rgb(255,0,0)\" class=\"agent_0_50\"/><circle cx=\"343\" cy=\"297\" r=\"10\" fill=\"rgb(255,255,255)\" class=\"agent_0_59\"/><circle cx=\"267\" cy=\"379\" r=\"10\" fill=\"rgb(255,255,255)\" class=\"agent_0_60\"/></svg></div>"
      ],
      "text/plain": [
       "<IPython.core.display.HTML object>"
      ]
     },
     "metadata": {},
     "output_type": "display_data"
    },
    {
     "name": "stdout",
     "output_type": "stream",
     "text": [
      "utt: hi , do you have 2 big dots towards the left , upper of the circle ? <eos>\n",
      "detected markables:\n",
      "({'start': 20, 'end': 30, 'is_self': True, 'text': '2 big dots'}, (6, 8, 9))\n",
      "\n",
      "----------------------------------------\n",
      "\n",
      "human\tTHEM: are they about 1 inch from the edge near 10 o clock ? <eos>\n",
      "partner_refs_pred\n"
     ]
    },
    {
     "data": {
      "text/html": [
       "<div style=\"white-space: nowrap\"><svg viewbox='0 0 430 430' width=\"172\" height=\"172\" id=\"agent_0\"><circle cx=\"215\" cy=\"215\" r=\"205\" fill=\"none\" stroke=\"black\" stroke-width=\"2\" stroke-dasharray=\"3,3\"/><circle cx=\"159\" cy=\"74\" r=\"11\" fill=\"rgb(189,189,189)\"/><circle cx=\"128\" cy=\"358\" r=\"8\" fill=\"rgb(139,139,139)\"/><circle cx=\"352\" cy=\"160\" r=\"12\" fill=\"rgb(180,180,180)\"/><circle cx=\"222\" cy=\"341\" r=\"10\" fill=\"rgb(113,113,113)\"/><circle cx=\"149\" cy=\"131\" r=\"12\" fill=\"rgb(150,150,150)\"/><circle cx=\"343\" cy=\"297\" r=\"10\" fill=\"rgb(174,174,174)\"/><circle cx=\"267\" cy=\"379\" r=\"10\" fill=\"rgb(111,111,111)\"/></svg><svg viewBox='0 0 430 430' id=\"svg\" width=\"172\" height=\"172\"><circle cx=\"215\" cy=\"215\" r=\"205\" fill=\"none\" stroke=\"black\" stroke-width=\"2\" stroke-dasharray=\"3,3\"/> <circle cx=\"159\" cy=\"74\" r=\"11\" fill=\"rgb(255,0,0)\" class=\"agent_0_16\"/><circle cx=\"128\" cy=\"358\" r=\"8\" fill=\"rgb(255,255,255)\" class=\"agent_0_35\"/><circle cx=\"352\" cy=\"160\" r=\"12\" fill=\"rgb(255,255,255)\" class=\"agent_0_45\"/><circle cx=\"222\" cy=\"341\" r=\"10\" fill=\"rgb(255,255,255)\" class=\"agent_0_49\"/><circle cx=\"149\" cy=\"131\" r=\"12\" fill=\"rgb(255,0,0)\" class=\"agent_0_50\"/><circle cx=\"343\" cy=\"297\" r=\"10\" fill=\"rgb(255,255,255)\" class=\"agent_0_59\"/><circle cx=\"267\" cy=\"379\" r=\"10\" fill=\"rgb(255,255,255)\" class=\"agent_0_60\"/></svg></div>"
      ],
      "text/plain": [
       "<IPython.core.display.HTML object>"
      ]
     },
     "metadata": {},
     "output_type": "display_data"
    },
    {
     "name": "stdout",
     "output_type": "stream",
     "text": [
      "partner_refs_true\n"
     ]
    },
    {
     "data": {
      "text/html": [
       "<div style=\"white-space: nowrap\"><svg viewbox='0 0 430 430' width=\"172\" height=\"172\" id=\"agent_0\"><circle cx=\"215\" cy=\"215\" r=\"205\" fill=\"none\" stroke=\"black\" stroke-width=\"2\" stroke-dasharray=\"3,3\"/><circle cx=\"159\" cy=\"74\" r=\"11\" fill=\"rgb(189,189,189)\"/><circle cx=\"128\" cy=\"358\" r=\"8\" fill=\"rgb(139,139,139)\"/><circle cx=\"352\" cy=\"160\" r=\"12\" fill=\"rgb(180,180,180)\"/><circle cx=\"222\" cy=\"341\" r=\"10\" fill=\"rgb(113,113,113)\"/><circle cx=\"149\" cy=\"131\" r=\"12\" fill=\"rgb(150,150,150)\"/><circle cx=\"343\" cy=\"297\" r=\"10\" fill=\"rgb(174,174,174)\"/><circle cx=\"267\" cy=\"379\" r=\"10\" fill=\"rgb(111,111,111)\"/></svg><svg viewBox='0 0 430 430' id=\"svg\" width=\"172\" height=\"172\"><circle cx=\"215\" cy=\"215\" r=\"205\" fill=\"none\" stroke=\"black\" stroke-width=\"2\" stroke-dasharray=\"3,3\"/> <circle cx=\"159\" cy=\"74\" r=\"11\" fill=\"rgb(255,0,0)\" class=\"agent_0_16\"/><circle cx=\"128\" cy=\"358\" r=\"8\" fill=\"rgb(255,255,255)\" class=\"agent_0_35\"/><circle cx=\"352\" cy=\"160\" r=\"12\" fill=\"rgb(255,255,255)\" class=\"agent_0_45\"/><circle cx=\"222\" cy=\"341\" r=\"10\" fill=\"rgb(255,255,255)\" class=\"agent_0_49\"/><circle cx=\"149\" cy=\"131\" r=\"12\" fill=\"rgb(255,0,0)\" class=\"agent_0_50\"/><circle cx=\"343\" cy=\"297\" r=\"10\" fill=\"rgb(255,255,255)\" class=\"agent_0_59\"/><circle cx=\"267\" cy=\"379\" r=\"10\" fill=\"rgb(255,255,255)\" class=\"agent_0_60\"/></svg></div>"
      ],
      "text/plain": [
       "<IPython.core.display.HTML object>"
      ]
     },
     "metadata": {},
     "output_type": "display_data"
    },
    {
     "name": "stdout",
     "output_type": "stream",
     "text": [
      "utt: are they about 1 inch from the edge near 10 o clock ? <eos>\n",
      "detected markables:\n",
      "({'start': 7, 'end': 11, 'is_self': True, 'text': 'they'}, (2, 2, 3))\n",
      "\n",
      "----------------------------------------\n",
      "\n",
      "empty to_mention_pred\n",
      "to_mention_true\n"
     ]
    },
    {
     "data": {
      "text/html": [
       "<div style=\"white-space: nowrap\"><svg viewbox='0 0 430 430' width=\"172\" height=\"172\" id=\"agent_0\"><circle cx=\"215\" cy=\"215\" r=\"205\" fill=\"none\" stroke=\"black\" stroke-width=\"2\" stroke-dasharray=\"3,3\"/><circle cx=\"159\" cy=\"74\" r=\"11\" fill=\"rgb(189,189,189)\"/><circle cx=\"128\" cy=\"358\" r=\"8\" fill=\"rgb(139,139,139)\"/><circle cx=\"352\" cy=\"160\" r=\"12\" fill=\"rgb(180,180,180)\"/><circle cx=\"222\" cy=\"341\" r=\"10\" fill=\"rgb(113,113,113)\"/><circle cx=\"149\" cy=\"131\" r=\"12\" fill=\"rgb(150,150,150)\"/><circle cx=\"343\" cy=\"297\" r=\"10\" fill=\"rgb(174,174,174)\"/><circle cx=\"267\" cy=\"379\" r=\"10\" fill=\"rgb(111,111,111)\"/></svg><svg viewBox='0 0 430 430' id=\"svg\" width=\"172\" height=\"172\"><circle cx=\"215\" cy=\"215\" r=\"205\" fill=\"none\" stroke=\"black\" stroke-width=\"2\" stroke-dasharray=\"3,3\"/> <circle cx=\"159\" cy=\"74\" r=\"11\" fill=\"rgb(255,255,255)\" class=\"agent_0_16\"/><circle cx=\"128\" cy=\"358\" r=\"8\" fill=\"rgb(255,255,255)\" class=\"agent_0_35\"/><circle cx=\"352\" cy=\"160\" r=\"12\" fill=\"rgb(255,255,255)\" class=\"agent_0_45\"/><circle cx=\"222\" cy=\"341\" r=\"10\" fill=\"rgb(255,255,255)\" class=\"agent_0_49\"/><circle cx=\"149\" cy=\"131\" r=\"12\" fill=\"rgb(255,0,0)\" class=\"agent_0_50\"/><circle cx=\"343\" cy=\"297\" r=\"10\" fill=\"rgb(255,255,255)\" class=\"agent_0_59\"/><circle cx=\"267\" cy=\"379\" r=\"10\" fill=\"rgb(255,255,255)\" class=\"agent_0_60\"/></svg></div>"
      ],
      "text/plain": [
       "<IPython.core.display.HTML object>"
      ]
     },
     "metadata": {},
     "output_type": "display_data"
    },
    {
     "name": "stdout",
     "output_type": "stream",
     "text": [
      "beam 0\tyes , let 's pick that one <eos>\n",
      "greedy\tyes , let 's pick that one <eos>\n",
      "human\tthe mid-grey one is about 10 o'clock <eos>\n",
      "refs_pred\n"
     ]
    },
    {
     "data": {
      "text/html": [
       "<div style=\"white-space: nowrap\"><svg viewbox='0 0 430 430' width=\"172\" height=\"172\" id=\"agent_0\"><circle cx=\"215\" cy=\"215\" r=\"205\" fill=\"none\" stroke=\"black\" stroke-width=\"2\" stroke-dasharray=\"3,3\"/><circle cx=\"159\" cy=\"74\" r=\"11\" fill=\"rgb(189,189,189)\"/><circle cx=\"128\" cy=\"358\" r=\"8\" fill=\"rgb(139,139,139)\"/><circle cx=\"352\" cy=\"160\" r=\"12\" fill=\"rgb(180,180,180)\"/><circle cx=\"222\" cy=\"341\" r=\"10\" fill=\"rgb(113,113,113)\"/><circle cx=\"149\" cy=\"131\" r=\"12\" fill=\"rgb(150,150,150)\"/><circle cx=\"343\" cy=\"297\" r=\"10\" fill=\"rgb(174,174,174)\"/><circle cx=\"267\" cy=\"379\" r=\"10\" fill=\"rgb(111,111,111)\"/></svg><svg viewBox='0 0 430 430' id=\"svg\" width=\"172\" height=\"172\"><circle cx=\"215\" cy=\"215\" r=\"205\" fill=\"none\" stroke=\"black\" stroke-width=\"2\" stroke-dasharray=\"3,3\"/> <circle cx=\"159\" cy=\"74\" r=\"11\" fill=\"rgb(255,255,255)\" class=\"agent_0_16\"/><circle cx=\"128\" cy=\"358\" r=\"8\" fill=\"rgb(255,255,255)\" class=\"agent_0_35\"/><circle cx=\"352\" cy=\"160\" r=\"12\" fill=\"rgb(255,255,255)\" class=\"agent_0_45\"/><circle cx=\"222\" cy=\"341\" r=\"10\" fill=\"rgb(255,255,255)\" class=\"agent_0_49\"/><circle cx=\"149\" cy=\"131\" r=\"12\" fill=\"rgb(255,0,0)\" class=\"agent_0_50\"/><circle cx=\"343\" cy=\"297\" r=\"10\" fill=\"rgb(255,255,255)\" class=\"agent_0_59\"/><circle cx=\"267\" cy=\"379\" r=\"10\" fill=\"rgb(255,255,255)\" class=\"agent_0_60\"/></svg></div>"
      ],
      "text/plain": [
       "<IPython.core.display.HTML object>"
      ]
     },
     "metadata": {},
     "output_type": "display_data"
    },
    {
     "name": "stdout",
     "output_type": "stream",
     "text": [
      "refs_true\n"
     ]
    },
    {
     "data": {
      "text/html": [
       "<div style=\"white-space: nowrap\"><svg viewbox='0 0 430 430' width=\"172\" height=\"172\" id=\"agent_0\"><circle cx=\"215\" cy=\"215\" r=\"205\" fill=\"none\" stroke=\"black\" stroke-width=\"2\" stroke-dasharray=\"3,3\"/><circle cx=\"159\" cy=\"74\" r=\"11\" fill=\"rgb(189,189,189)\"/><circle cx=\"128\" cy=\"358\" r=\"8\" fill=\"rgb(139,139,139)\"/><circle cx=\"352\" cy=\"160\" r=\"12\" fill=\"rgb(180,180,180)\"/><circle cx=\"222\" cy=\"341\" r=\"10\" fill=\"rgb(113,113,113)\"/><circle cx=\"149\" cy=\"131\" r=\"12\" fill=\"rgb(150,150,150)\"/><circle cx=\"343\" cy=\"297\" r=\"10\" fill=\"rgb(174,174,174)\"/><circle cx=\"267\" cy=\"379\" r=\"10\" fill=\"rgb(111,111,111)\"/></svg><svg viewBox='0 0 430 430' id=\"svg\" width=\"172\" height=\"172\"><circle cx=\"215\" cy=\"215\" r=\"205\" fill=\"none\" stroke=\"black\" stroke-width=\"2\" stroke-dasharray=\"3,3\"/> <circle cx=\"159\" cy=\"74\" r=\"11\" fill=\"rgb(255,255,255)\" class=\"agent_0_16\"/><circle cx=\"128\" cy=\"358\" r=\"8\" fill=\"rgb(255,255,255)\" class=\"agent_0_35\"/><circle cx=\"352\" cy=\"160\" r=\"12\" fill=\"rgb(255,255,255)\" class=\"agent_0_45\"/><circle cx=\"222\" cy=\"341\" r=\"10\" fill=\"rgb(255,255,255)\" class=\"agent_0_49\"/><circle cx=\"149\" cy=\"131\" r=\"12\" fill=\"rgb(255,0,0)\" class=\"agent_0_50\"/><circle cx=\"343\" cy=\"297\" r=\"10\" fill=\"rgb(255,255,255)\" class=\"agent_0_59\"/><circle cx=\"267\" cy=\"379\" r=\"10\" fill=\"rgb(255,255,255)\" class=\"agent_0_60\"/></svg></div>"
      ],
      "text/plain": [
       "<IPython.core.display.HTML object>"
      ]
     },
     "metadata": {},
     "output_type": "display_data"
    },
    {
     "name": "stdout",
     "output_type": "stream",
     "text": [
      "utt: the mid-grey one is about 10 o'clock <eos>\n",
      "detected markables:\n",
      "({'start': 3, 'end': 19, 'is_self': True, 'text': 'the mid-grey one'}, (1, 3, 4))\n",
      "\n",
      "----------------------------------------\n",
      "\n",
      "human\tTHEM: are we selecting the lighter one or the darker one ? <eos>\n",
      "partner_refs_pred\n"
     ]
    },
    {
     "data": {
      "text/html": [
       "<div style=\"white-space: nowrap\"><svg viewbox='0 0 430 430' width=\"172\" height=\"172\" id=\"agent_0\"><circle cx=\"215\" cy=\"215\" r=\"205\" fill=\"none\" stroke=\"black\" stroke-width=\"2\" stroke-dasharray=\"3,3\"/><circle cx=\"159\" cy=\"74\" r=\"11\" fill=\"rgb(189,189,189)\"/><circle cx=\"128\" cy=\"358\" r=\"8\" fill=\"rgb(139,139,139)\"/><circle cx=\"352\" cy=\"160\" r=\"12\" fill=\"rgb(180,180,180)\"/><circle cx=\"222\" cy=\"341\" r=\"10\" fill=\"rgb(113,113,113)\"/><circle cx=\"149\" cy=\"131\" r=\"12\" fill=\"rgb(150,150,150)\"/><circle cx=\"343\" cy=\"297\" r=\"10\" fill=\"rgb(174,174,174)\"/><circle cx=\"267\" cy=\"379\" r=\"10\" fill=\"rgb(111,111,111)\"/></svg><svg viewBox='0 0 430 430' id=\"svg\" width=\"172\" height=\"172\"><circle cx=\"215\" cy=\"215\" r=\"205\" fill=\"none\" stroke=\"black\" stroke-width=\"2\" stroke-dasharray=\"3,3\"/> <circle cx=\"159\" cy=\"74\" r=\"11\" fill=\"rgb(255,0,0)\" class=\"agent_0_16\"/><circle cx=\"128\" cy=\"358\" r=\"8\" fill=\"rgb(255,255,255)\" class=\"agent_0_35\"/><circle cx=\"352\" cy=\"160\" r=\"12\" fill=\"rgb(255,255,255)\" class=\"agent_0_45\"/><circle cx=\"222\" cy=\"341\" r=\"10\" fill=\"rgb(255,255,255)\" class=\"agent_0_49\"/><circle cx=\"149\" cy=\"131\" r=\"12\" fill=\"rgb(255,255,255)\" class=\"agent_0_50\"/><circle cx=\"343\" cy=\"297\" r=\"10\" fill=\"rgb(255,255,255)\" class=\"agent_0_59\"/><circle cx=\"267\" cy=\"379\" r=\"10\" fill=\"rgb(255,255,255)\" class=\"agent_0_60\"/></svg><svg viewBox='0 0 430 430' id=\"svg\" width=\"172\" height=\"172\"><circle cx=\"215\" cy=\"215\" r=\"205\" fill=\"none\" stroke=\"black\" stroke-width=\"2\" stroke-dasharray=\"3,3\"/> <circle cx=\"159\" cy=\"74\" r=\"11\" fill=\"rgb(255,255,255)\" class=\"agent_0_16\"/><circle cx=\"128\" cy=\"358\" r=\"8\" fill=\"rgb(255,255,255)\" class=\"agent_0_35\"/><circle cx=\"352\" cy=\"160\" r=\"12\" fill=\"rgb(255,255,255)\" class=\"agent_0_45\"/><circle cx=\"222\" cy=\"341\" r=\"10\" fill=\"rgb(255,255,255)\" class=\"agent_0_49\"/><circle cx=\"149\" cy=\"131\" r=\"12\" fill=\"rgb(255,0,0)\" class=\"agent_0_50\"/><circle cx=\"343\" cy=\"297\" r=\"10\" fill=\"rgb(255,255,255)\" class=\"agent_0_59\"/><circle cx=\"267\" cy=\"379\" r=\"10\" fill=\"rgb(255,255,255)\" class=\"agent_0_60\"/></svg></div>"
      ],
      "text/plain": [
       "<IPython.core.display.HTML object>"
      ]
     },
     "metadata": {},
     "output_type": "display_data"
    },
    {
     "name": "stdout",
     "output_type": "stream",
     "text": [
      "partner_refs_true\n"
     ]
    },
    {
     "data": {
      "text/html": [
       "<div style=\"white-space: nowrap\"><svg viewbox='0 0 430 430' width=\"172\" height=\"172\" id=\"agent_0\"><circle cx=\"215\" cy=\"215\" r=\"205\" fill=\"none\" stroke=\"black\" stroke-width=\"2\" stroke-dasharray=\"3,3\"/><circle cx=\"159\" cy=\"74\" r=\"11\" fill=\"rgb(189,189,189)\"/><circle cx=\"128\" cy=\"358\" r=\"8\" fill=\"rgb(139,139,139)\"/><circle cx=\"352\" cy=\"160\" r=\"12\" fill=\"rgb(180,180,180)\"/><circle cx=\"222\" cy=\"341\" r=\"10\" fill=\"rgb(113,113,113)\"/><circle cx=\"149\" cy=\"131\" r=\"12\" fill=\"rgb(150,150,150)\"/><circle cx=\"343\" cy=\"297\" r=\"10\" fill=\"rgb(174,174,174)\"/><circle cx=\"267\" cy=\"379\" r=\"10\" fill=\"rgb(111,111,111)\"/></svg><svg viewBox='0 0 430 430' id=\"svg\" width=\"172\" height=\"172\"><circle cx=\"215\" cy=\"215\" r=\"205\" fill=\"none\" stroke=\"black\" stroke-width=\"2\" stroke-dasharray=\"3,3\"/> <circle cx=\"159\" cy=\"74\" r=\"11\" fill=\"rgb(255,0,0)\" class=\"agent_0_16\"/><circle cx=\"128\" cy=\"358\" r=\"8\" fill=\"rgb(255,255,255)\" class=\"agent_0_35\"/><circle cx=\"352\" cy=\"160\" r=\"12\" fill=\"rgb(255,255,255)\" class=\"agent_0_45\"/><circle cx=\"222\" cy=\"341\" r=\"10\" fill=\"rgb(255,255,255)\" class=\"agent_0_49\"/><circle cx=\"149\" cy=\"131\" r=\"12\" fill=\"rgb(255,255,255)\" class=\"agent_0_50\"/><circle cx=\"343\" cy=\"297\" r=\"10\" fill=\"rgb(255,255,255)\" class=\"agent_0_59\"/><circle cx=\"267\" cy=\"379\" r=\"10\" fill=\"rgb(255,255,255)\" class=\"agent_0_60\"/></svg><svg viewBox='0 0 430 430' id=\"svg\" width=\"172\" height=\"172\"><circle cx=\"215\" cy=\"215\" r=\"205\" fill=\"none\" stroke=\"black\" stroke-width=\"2\" stroke-dasharray=\"3,3\"/> <circle cx=\"159\" cy=\"74\" r=\"11\" fill=\"rgb(255,255,255)\" class=\"agent_0_16\"/><circle cx=\"128\" cy=\"358\" r=\"8\" fill=\"rgb(255,255,255)\" class=\"agent_0_35\"/><circle cx=\"352\" cy=\"160\" r=\"12\" fill=\"rgb(255,255,255)\" class=\"agent_0_45\"/><circle cx=\"222\" cy=\"341\" r=\"10\" fill=\"rgb(255,255,255)\" class=\"agent_0_49\"/><circle cx=\"149\" cy=\"131\" r=\"12\" fill=\"rgb(255,0,0)\" class=\"agent_0_50\"/><circle cx=\"343\" cy=\"297\" r=\"10\" fill=\"rgb(255,255,255)\" class=\"agent_0_59\"/><circle cx=\"267\" cy=\"379\" r=\"10\" fill=\"rgb(255,255,255)\" class=\"agent_0_60\"/></svg></div>"
      ],
      "text/plain": [
       "<IPython.core.display.HTML object>"
      ]
     },
     "metadata": {},
     "output_type": "display_data"
    },
    {
     "name": "stdout",
     "output_type": "stream",
     "text": [
      "utt: are we selecting the lighter one or the darker one ? <eos>\n",
      "detected markables:\n",
      "({'start': 20, 'end': 35, 'is_self': True, 'text': 'the lighter one'}, (4, 6, 7))\n",
      "({'start': 39, 'end': 53, 'is_self': True, 'text': 'the darker one'}, (8, 10, 11))\n",
      "\n",
      "----------------------------------------\n",
      "\n",
      "to_mention_pred\n"
     ]
    },
    {
     "data": {
      "text/html": [
       "<div style=\"white-space: nowrap\"><svg viewbox='0 0 430 430' width=\"172\" height=\"172\" id=\"agent_0\"><circle cx=\"215\" cy=\"215\" r=\"205\" fill=\"none\" stroke=\"black\" stroke-width=\"2\" stroke-dasharray=\"3,3\"/><circle cx=\"159\" cy=\"74\" r=\"11\" fill=\"rgb(189,189,189)\"/><circle cx=\"128\" cy=\"358\" r=\"8\" fill=\"rgb(139,139,139)\"/><circle cx=\"352\" cy=\"160\" r=\"12\" fill=\"rgb(180,180,180)\"/><circle cx=\"222\" cy=\"341\" r=\"10\" fill=\"rgb(113,113,113)\"/><circle cx=\"149\" cy=\"131\" r=\"12\" fill=\"rgb(150,150,150)\"/><circle cx=\"343\" cy=\"297\" r=\"10\" fill=\"rgb(174,174,174)\"/><circle cx=\"267\" cy=\"379\" r=\"10\" fill=\"rgb(111,111,111)\"/></svg><svg viewBox='0 0 430 430' id=\"svg\" width=\"172\" height=\"172\"><circle cx=\"215\" cy=\"215\" r=\"205\" fill=\"none\" stroke=\"black\" stroke-width=\"2\" stroke-dasharray=\"3,3\"/> <circle cx=\"159\" cy=\"74\" r=\"11\" fill=\"rgb(255,255,255)\" class=\"agent_0_16\"/><circle cx=\"128\" cy=\"358\" r=\"8\" fill=\"rgb(255,255,255)\" class=\"agent_0_35\"/><circle cx=\"352\" cy=\"160\" r=\"12\" fill=\"rgb(255,255,255)\" class=\"agent_0_45\"/><circle cx=\"222\" cy=\"341\" r=\"10\" fill=\"rgb(255,255,255)\" class=\"agent_0_49\"/><circle cx=\"149\" cy=\"131\" r=\"12\" fill=\"rgb(255,0,0)\" class=\"agent_0_50\"/><circle cx=\"343\" cy=\"297\" r=\"10\" fill=\"rgb(255,255,255)\" class=\"agent_0_59\"/><circle cx=\"267\" cy=\"379\" r=\"10\" fill=\"rgb(255,255,255)\" class=\"agent_0_60\"/></svg></div>"
      ],
      "text/plain": [
       "<IPython.core.display.HTML object>"
      ]
     },
     "metadata": {},
     "output_type": "display_data"
    },
    {
     "name": "stdout",
     "output_type": "stream",
     "text": [
      "to_mention_true\n"
     ]
    },
    {
     "data": {
      "text/html": [
       "<div style=\"white-space: nowrap\"><svg viewbox='0 0 430 430' width=\"172\" height=\"172\" id=\"agent_0\"><circle cx=\"215\" cy=\"215\" r=\"205\" fill=\"none\" stroke=\"black\" stroke-width=\"2\" stroke-dasharray=\"3,3\"/><circle cx=\"159\" cy=\"74\" r=\"11\" fill=\"rgb(189,189,189)\"/><circle cx=\"128\" cy=\"358\" r=\"8\" fill=\"rgb(139,139,139)\"/><circle cx=\"352\" cy=\"160\" r=\"12\" fill=\"rgb(180,180,180)\"/><circle cx=\"222\" cy=\"341\" r=\"10\" fill=\"rgb(113,113,113)\"/><circle cx=\"149\" cy=\"131\" r=\"12\" fill=\"rgb(150,150,150)\"/><circle cx=\"343\" cy=\"297\" r=\"10\" fill=\"rgb(174,174,174)\"/><circle cx=\"267\" cy=\"379\" r=\"10\" fill=\"rgb(111,111,111)\"/></svg><svg viewBox='0 0 430 430' id=\"svg\" width=\"172\" height=\"172\"><circle cx=\"215\" cy=\"215\" r=\"205\" fill=\"none\" stroke=\"black\" stroke-width=\"2\" stroke-dasharray=\"3,3\"/> <circle cx=\"159\" cy=\"74\" r=\"11\" fill=\"rgb(255,255,255)\" class=\"agent_0_16\"/><circle cx=\"128\" cy=\"358\" r=\"8\" fill=\"rgb(255,255,255)\" class=\"agent_0_35\"/><circle cx=\"352\" cy=\"160\" r=\"12\" fill=\"rgb(255,255,255)\" class=\"agent_0_45\"/><circle cx=\"222\" cy=\"341\" r=\"10\" fill=\"rgb(255,255,255)\" class=\"agent_0_49\"/><circle cx=\"149\" cy=\"131\" r=\"12\" fill=\"rgb(255,0,0)\" class=\"agent_0_50\"/><circle cx=\"343\" cy=\"297\" r=\"10\" fill=\"rgb(255,255,255)\" class=\"agent_0_59\"/><circle cx=\"267\" cy=\"379\" r=\"10\" fill=\"rgb(255,255,255)\" class=\"agent_0_60\"/></svg></div>"
      ],
      "text/plain": [
       "<IPython.core.display.HTML object>"
      ]
     },
     "metadata": {},
     "output_type": "display_data"
    },
    {
     "name": "stdout",
     "output_type": "stream",
     "text": [
      "beam 0\tyes , let 's pick that one <selection>\n",
      "greedy\tyes , let 's pick that one <selection>\n",
      "human\tthe darker one , <unk> from 10 o'clock <selection>\n",
      "refs_pred\n"
     ]
    },
    {
     "data": {
      "text/html": [
       "<div style=\"white-space: nowrap\"><svg viewbox='0 0 430 430' width=\"172\" height=\"172\" id=\"agent_0\"><circle cx=\"215\" cy=\"215\" r=\"205\" fill=\"none\" stroke=\"black\" stroke-width=\"2\" stroke-dasharray=\"3,3\"/><circle cx=\"159\" cy=\"74\" r=\"11\" fill=\"rgb(189,189,189)\"/><circle cx=\"128\" cy=\"358\" r=\"8\" fill=\"rgb(139,139,139)\"/><circle cx=\"352\" cy=\"160\" r=\"12\" fill=\"rgb(180,180,180)\"/><circle cx=\"222\" cy=\"341\" r=\"10\" fill=\"rgb(113,113,113)\"/><circle cx=\"149\" cy=\"131\" r=\"12\" fill=\"rgb(150,150,150)\"/><circle cx=\"343\" cy=\"297\" r=\"10\" fill=\"rgb(174,174,174)\"/><circle cx=\"267\" cy=\"379\" r=\"10\" fill=\"rgb(111,111,111)\"/></svg><svg viewBox='0 0 430 430' id=\"svg\" width=\"172\" height=\"172\"><circle cx=\"215\" cy=\"215\" r=\"205\" fill=\"none\" stroke=\"black\" stroke-width=\"2\" stroke-dasharray=\"3,3\"/> <circle cx=\"159\" cy=\"74\" r=\"11\" fill=\"rgb(255,255,255)\" class=\"agent_0_16\"/><circle cx=\"128\" cy=\"358\" r=\"8\" fill=\"rgb(255,255,255)\" class=\"agent_0_35\"/><circle cx=\"352\" cy=\"160\" r=\"12\" fill=\"rgb(255,255,255)\" class=\"agent_0_45\"/><circle cx=\"222\" cy=\"341\" r=\"10\" fill=\"rgb(255,255,255)\" class=\"agent_0_49\"/><circle cx=\"149\" cy=\"131\" r=\"12\" fill=\"rgb(255,255,255)\" class=\"agent_0_50\"/><circle cx=\"343\" cy=\"297\" r=\"10\" fill=\"rgb(255,255,255)\" class=\"agent_0_59\"/><circle cx=\"267\" cy=\"379\" r=\"10\" fill=\"rgb(255,0,0)\" class=\"agent_0_60\"/></svg></div>"
      ],
      "text/plain": [
       "<IPython.core.display.HTML object>"
      ]
     },
     "metadata": {},
     "output_type": "display_data"
    },
    {
     "name": "stdout",
     "output_type": "stream",
     "text": [
      "refs_true\n"
     ]
    },
    {
     "data": {
      "text/html": [
       "<div style=\"white-space: nowrap\"><svg viewbox='0 0 430 430' width=\"172\" height=\"172\" id=\"agent_0\"><circle cx=\"215\" cy=\"215\" r=\"205\" fill=\"none\" stroke=\"black\" stroke-width=\"2\" stroke-dasharray=\"3,3\"/><circle cx=\"159\" cy=\"74\" r=\"11\" fill=\"rgb(189,189,189)\"/><circle cx=\"128\" cy=\"358\" r=\"8\" fill=\"rgb(139,139,139)\"/><circle cx=\"352\" cy=\"160\" r=\"12\" fill=\"rgb(180,180,180)\"/><circle cx=\"222\" cy=\"341\" r=\"10\" fill=\"rgb(113,113,113)\"/><circle cx=\"149\" cy=\"131\" r=\"12\" fill=\"rgb(150,150,150)\"/><circle cx=\"343\" cy=\"297\" r=\"10\" fill=\"rgb(174,174,174)\"/><circle cx=\"267\" cy=\"379\" r=\"10\" fill=\"rgb(111,111,111)\"/></svg><svg viewBox='0 0 430 430' id=\"svg\" width=\"172\" height=\"172\"><circle cx=\"215\" cy=\"215\" r=\"205\" fill=\"none\" stroke=\"black\" stroke-width=\"2\" stroke-dasharray=\"3,3\"/> <circle cx=\"159\" cy=\"74\" r=\"11\" fill=\"rgb(255,255,255)\" class=\"agent_0_16\"/><circle cx=\"128\" cy=\"358\" r=\"8\" fill=\"rgb(255,255,255)\" class=\"agent_0_35\"/><circle cx=\"352\" cy=\"160\" r=\"12\" fill=\"rgb(255,255,255)\" class=\"agent_0_45\"/><circle cx=\"222\" cy=\"341\" r=\"10\" fill=\"rgb(255,255,255)\" class=\"agent_0_49\"/><circle cx=\"149\" cy=\"131\" r=\"12\" fill=\"rgb(255,0,0)\" class=\"agent_0_50\"/><circle cx=\"343\" cy=\"297\" r=\"10\" fill=\"rgb(255,255,255)\" class=\"agent_0_59\"/><circle cx=\"267\" cy=\"379\" r=\"10\" fill=\"rgb(255,255,255)\" class=\"agent_0_60\"/></svg></div>"
      ],
      "text/plain": [
       "<IPython.core.display.HTML object>"
      ]
     },
     "metadata": {},
     "output_type": "display_data"
    },
    {
     "name": "stdout",
     "output_type": "stream",
     "text": [
      "utt: the darker one , <unk> from 10 o'clock <selection>\n",
      "detected markables:\n",
      "({'start': 3, 'end': 17, 'is_self': True, 'text': 'the darker one'}, (1, 3, 4))\n",
      "\n",
      "----------------------------------------\n",
      "\n",
      "sel_pred\n"
     ]
    },
    {
     "data": {
      "text/html": [
       "<div style=\"white-space: nowrap\"><svg viewbox='0 0 430 430' width=\"172\" height=\"172\" id=\"agent_0\"><circle cx=\"215\" cy=\"215\" r=\"205\" fill=\"none\" stroke=\"black\" stroke-width=\"2\" stroke-dasharray=\"3,3\"/><circle cx=\"159\" cy=\"74\" r=\"11\" fill=\"rgb(189,189,189)\"/><circle cx=\"128\" cy=\"358\" r=\"8\" fill=\"rgb(139,139,139)\"/><circle cx=\"352\" cy=\"160\" r=\"12\" fill=\"rgb(180,180,180)\"/><circle cx=\"222\" cy=\"341\" r=\"10\" fill=\"rgb(113,113,113)\"/><circle cx=\"149\" cy=\"131\" r=\"12\" fill=\"rgb(150,150,150)\"/><circle cx=\"343\" cy=\"297\" r=\"10\" fill=\"rgb(174,174,174)\"/><circle cx=\"267\" cy=\"379\" r=\"10\" fill=\"rgb(111,111,111)\"/></svg><svg viewBox='0 0 430 430' id=\"svg\" width=\"172\" height=\"172\"><circle cx=\"215\" cy=\"215\" r=\"205\" fill=\"none\" stroke=\"black\" stroke-width=\"2\" stroke-dasharray=\"3,3\"/> <circle cx=\"159\" cy=\"74\" r=\"11\" fill=\"rgb(255,251,251)\" class=\"agent_0_16\"/><circle cx=\"128\" cy=\"358\" r=\"8\" fill=\"rgb(255,254,254)\" class=\"agent_0_35\"/><circle cx=\"352\" cy=\"160\" r=\"12\" fill=\"rgb(255,252,252)\" class=\"agent_0_45\"/><circle cx=\"222\" cy=\"341\" r=\"10\" fill=\"rgb(255,205,205)\" class=\"agent_0_49\"/><circle cx=\"149\" cy=\"131\" r=\"12\" fill=\"rgb(255,150,150)\" class=\"agent_0_50\"/><circle cx=\"343\" cy=\"297\" r=\"10\" fill=\"rgb(255,254,254)\" class=\"agent_0_59\"/><circle cx=\"267\" cy=\"379\" r=\"10\" fill=\"rgb(255,206,206)\" class=\"agent_0_60\"/></svg></div>"
      ],
      "text/plain": [
       "<IPython.core.display.HTML object>"
      ]
     },
     "metadata": {},
     "output_type": "display_data"
    },
    {
     "name": "stdout",
     "output_type": "stream",
     "text": [
      "sel_true\n"
     ]
    },
    {
     "data": {
      "text/html": [
       "<div style=\"white-space: nowrap\"><svg viewbox='0 0 430 430' width=\"172\" height=\"172\" id=\"agent_0\"><circle cx=\"215\" cy=\"215\" r=\"205\" fill=\"none\" stroke=\"black\" stroke-width=\"2\" stroke-dasharray=\"3,3\"/><circle cx=\"159\" cy=\"74\" r=\"11\" fill=\"rgb(189,189,189)\"/><circle cx=\"128\" cy=\"358\" r=\"8\" fill=\"rgb(139,139,139)\"/><circle cx=\"352\" cy=\"160\" r=\"12\" fill=\"rgb(180,180,180)\"/><circle cx=\"222\" cy=\"341\" r=\"10\" fill=\"rgb(113,113,113)\"/><circle cx=\"149\" cy=\"131\" r=\"12\" fill=\"rgb(150,150,150)\"/><circle cx=\"343\" cy=\"297\" r=\"10\" fill=\"rgb(174,174,174)\"/><circle cx=\"267\" cy=\"379\" r=\"10\" fill=\"rgb(111,111,111)\"/></svg><svg viewBox='0 0 430 430' id=\"svg\" width=\"172\" height=\"172\"><circle cx=\"215\" cy=\"215\" r=\"205\" fill=\"none\" stroke=\"black\" stroke-width=\"2\" stroke-dasharray=\"3,3\"/> <circle cx=\"159\" cy=\"74\" r=\"11\" fill=\"rgb(255,255,255)\" class=\"agent_0_16\"/><circle cx=\"128\" cy=\"358\" r=\"8\" fill=\"rgb(255,255,255)\" class=\"agent_0_35\"/><circle cx=\"352\" cy=\"160\" r=\"12\" fill=\"rgb(255,255,255)\" class=\"agent_0_45\"/><circle cx=\"222\" cy=\"341\" r=\"10\" fill=\"rgb(255,255,255)\" class=\"agent_0_49\"/><circle cx=\"149\" cy=\"131\" r=\"12\" fill=\"rgb(255,0,0)\" class=\"agent_0_50\"/><circle cx=\"343\" cy=\"297\" r=\"10\" fill=\"rgb(255,255,255)\" class=\"agent_0_59\"/><circle cx=\"267\" cy=\"379\" r=\"10\" fill=\"rgb(255,255,255)\" class=\"agent_0_60\"/></svg></div>"
      ],
      "text/plain": [
       "<IPython.core.display.HTML object>"
      ]
     },
     "metadata": {},
     "output_type": "display_data"
    }
   ],
   "source": [
    "force_contexts_and_mentions(6)"
   ]
  },
  {
   "cell_type": "code",
   "execution_count": 75,
   "metadata": {
    "scrolled": false
   },
   "outputs": [
    {
     "name": "stdout",
     "output_type": "stream",
     "text": [
      "human\tTHEM: small dark dot ? <eos>\n",
      "partner_refs_pred\n"
     ]
    },
    {
     "data": {
      "text/html": [
       "<div style=\"white-space: nowrap\"><svg viewbox='0 0 430 430' width=\"172\" height=\"172\" id=\"agent_1\"><circle cx=\"215\" cy=\"215\" r=\"205\" fill=\"none\" stroke=\"black\" stroke-width=\"2\" stroke-dasharray=\"3,3\"/><circle cx=\"115\" cy=\"288\" r=\"12\" fill=\"rgb(92,92,92)\"/><circle cx=\"304\" cy=\"370\" r=\"10\" fill=\"rgb(189,189,189)\"/><circle cx=\"187\" cy=\"299\" r=\"9\" fill=\"rgb(67,67,67)\"/><circle cx=\"212\" cy=\"48\" r=\"7\" fill=\"rgb(89,89,89)\"/><circle cx=\"130\" cy=\"222\" r=\"9\" fill=\"rgb(136,136,136)\"/><circle cx=\"362\" cy=\"115\" r=\"12\" fill=\"rgb(123,123,123)\"/><circle cx=\"267\" cy=\"66\" r=\"8\" fill=\"rgb(123,123,123)\"/></svg><svg viewBox='0 0 430 430' id=\"svg\" width=\"172\" height=\"172\"><circle cx=\"215\" cy=\"215\" r=\"205\" fill=\"none\" stroke=\"black\" stroke-width=\"2\" stroke-dasharray=\"3,3\"/> <circle cx=\"115\" cy=\"288\" r=\"12\" fill=\"rgb(255,255,255)\" class=\"agent_1_0\"/><circle cx=\"304\" cy=\"370\" r=\"10\" fill=\"rgb(255,255,255)\" class=\"agent_1_24\"/><circle cx=\"187\" cy=\"299\" r=\"9\" fill=\"rgb(255,255,255)\" class=\"agent_1_37\"/><circle cx=\"212\" cy=\"48\" r=\"7\" fill=\"rgb(255,0,0)\" class=\"agent_1_56\"/><circle cx=\"130\" cy=\"222\" r=\"9\" fill=\"rgb(255,255,255)\" class=\"agent_1_60\"/><circle cx=\"362\" cy=\"115\" r=\"12\" fill=\"rgb(255,255,255)\" class=\"agent_1_64\"/><circle cx=\"267\" cy=\"66\" r=\"8\" fill=\"rgb(255,255,255)\" class=\"agent_1_79\"/></svg></div>"
      ],
      "text/plain": [
       "<IPython.core.display.HTML object>"
      ]
     },
     "metadata": {},
     "output_type": "display_data"
    },
    {
     "name": "stdout",
     "output_type": "stream",
     "text": [
      "partner_refs_true\n"
     ]
    },
    {
     "data": {
      "text/html": [
       "<div style=\"white-space: nowrap\"><svg viewbox='0 0 430 430' width=\"172\" height=\"172\" id=\"agent_1\"><circle cx=\"215\" cy=\"215\" r=\"205\" fill=\"none\" stroke=\"black\" stroke-width=\"2\" stroke-dasharray=\"3,3\"/><circle cx=\"115\" cy=\"288\" r=\"12\" fill=\"rgb(92,92,92)\"/><circle cx=\"304\" cy=\"370\" r=\"10\" fill=\"rgb(189,189,189)\"/><circle cx=\"187\" cy=\"299\" r=\"9\" fill=\"rgb(67,67,67)\"/><circle cx=\"212\" cy=\"48\" r=\"7\" fill=\"rgb(89,89,89)\"/><circle cx=\"130\" cy=\"222\" r=\"9\" fill=\"rgb(136,136,136)\"/><circle cx=\"362\" cy=\"115\" r=\"12\" fill=\"rgb(123,123,123)\"/><circle cx=\"267\" cy=\"66\" r=\"8\" fill=\"rgb(123,123,123)\"/></svg><svg viewBox='0 0 430 430' id=\"svg\" width=\"172\" height=\"172\"><circle cx=\"215\" cy=\"215\" r=\"205\" fill=\"none\" stroke=\"black\" stroke-width=\"2\" stroke-dasharray=\"3,3\"/> <circle cx=\"115\" cy=\"288\" r=\"12\" fill=\"rgb(255,255,255)\" class=\"agent_1_0\"/><circle cx=\"304\" cy=\"370\" r=\"10\" fill=\"rgb(255,255,255)\" class=\"agent_1_24\"/><circle cx=\"187\" cy=\"299\" r=\"9\" fill=\"rgb(255,255,255)\" class=\"agent_1_37\"/><circle cx=\"212\" cy=\"48\" r=\"7\" fill=\"rgb(255,0,0)\" class=\"agent_1_56\"/><circle cx=\"130\" cy=\"222\" r=\"9\" fill=\"rgb(255,255,255)\" class=\"agent_1_60\"/><circle cx=\"362\" cy=\"115\" r=\"12\" fill=\"rgb(255,255,255)\" class=\"agent_1_64\"/><circle cx=\"267\" cy=\"66\" r=\"8\" fill=\"rgb(255,255,255)\" class=\"agent_1_79\"/></svg></div>"
      ],
      "text/plain": [
       "<IPython.core.display.HTML object>"
      ]
     },
     "metadata": {},
     "output_type": "display_data"
    },
    {
     "name": "stdout",
     "output_type": "stream",
     "text": [
      "utt: small dark dot ? <eos>\n",
      "detected markables:\n",
      "({'start': 3, 'end': 17, 'is_self': True, 'text': 'small dark dot'}, (1, 3, 4))\n",
      "\n",
      "----------------------------------------\n",
      "\n",
      "to_mention_pred\n"
     ]
    },
    {
     "data": {
      "text/html": [
       "<div style=\"white-space: nowrap\"><svg viewbox='0 0 430 430' width=\"172\" height=\"172\" id=\"agent_1\"><circle cx=\"215\" cy=\"215\" r=\"205\" fill=\"none\" stroke=\"black\" stroke-width=\"2\" stroke-dasharray=\"3,3\"/><circle cx=\"115\" cy=\"288\" r=\"12\" fill=\"rgb(92,92,92)\"/><circle cx=\"304\" cy=\"370\" r=\"10\" fill=\"rgb(189,189,189)\"/><circle cx=\"187\" cy=\"299\" r=\"9\" fill=\"rgb(67,67,67)\"/><circle cx=\"212\" cy=\"48\" r=\"7\" fill=\"rgb(89,89,89)\"/><circle cx=\"130\" cy=\"222\" r=\"9\" fill=\"rgb(136,136,136)\"/><circle cx=\"362\" cy=\"115\" r=\"12\" fill=\"rgb(123,123,123)\"/><circle cx=\"267\" cy=\"66\" r=\"8\" fill=\"rgb(123,123,123)\"/></svg><svg viewBox='0 0 430 430' id=\"svg\" width=\"172\" height=\"172\"><circle cx=\"215\" cy=\"215\" r=\"205\" fill=\"none\" stroke=\"black\" stroke-width=\"2\" stroke-dasharray=\"3,3\"/> <circle cx=\"115\" cy=\"288\" r=\"12\" fill=\"rgb(255,255,255)\" class=\"agent_1_0\"/><circle cx=\"304\" cy=\"370\" r=\"10\" fill=\"rgb(255,255,255)\" class=\"agent_1_24\"/><circle cx=\"187\" cy=\"299\" r=\"9\" fill=\"rgb(255,255,255)\" class=\"agent_1_37\"/><circle cx=\"212\" cy=\"48\" r=\"7\" fill=\"rgb(255,255,255)\" class=\"agent_1_56\"/><circle cx=\"130\" cy=\"222\" r=\"9\" fill=\"rgb(255,255,255)\" class=\"agent_1_60\"/><circle cx=\"362\" cy=\"115\" r=\"12\" fill=\"rgb(255,255,255)\" class=\"agent_1_64\"/><circle cx=\"267\" cy=\"66\" r=\"8\" fill=\"rgb(255,255,255)\" class=\"agent_1_79\"/></svg><svg viewBox='0 0 430 430' id=\"svg\" width=\"172\" height=\"172\"><circle cx=\"215\" cy=\"215\" r=\"205\" fill=\"none\" stroke=\"black\" stroke-width=\"2\" stroke-dasharray=\"3,3\"/> <circle cx=\"115\" cy=\"288\" r=\"12\" fill=\"rgb(255,255,255)\" class=\"agent_1_0\"/><circle cx=\"304\" cy=\"370\" r=\"10\" fill=\"rgb(255,255,255)\" class=\"agent_1_24\"/><circle cx=\"187\" cy=\"299\" r=\"9\" fill=\"rgb(255,255,255)\" class=\"agent_1_37\"/><circle cx=\"212\" cy=\"48\" r=\"7\" fill=\"rgb(255,255,255)\" class=\"agent_1_56\"/><circle cx=\"130\" cy=\"222\" r=\"9\" fill=\"rgb(255,255,255)\" class=\"agent_1_60\"/><circle cx=\"362\" cy=\"115\" r=\"12\" fill=\"rgb(255,255,255)\" class=\"agent_1_64\"/><circle cx=\"267\" cy=\"66\" r=\"8\" fill=\"rgb(255,255,255)\" class=\"agent_1_79\"/></svg></div>"
      ],
      "text/plain": [
       "<IPython.core.display.HTML object>"
      ]
     },
     "metadata": {},
     "output_type": "display_data"
    },
    {
     "name": "stdout",
     "output_type": "stream",
     "text": [
      "to_mention_true\n"
     ]
    },
    {
     "data": {
      "text/html": [
       "<div style=\"white-space: nowrap\"><svg viewbox='0 0 430 430' width=\"172\" height=\"172\" id=\"agent_1\"><circle cx=\"215\" cy=\"215\" r=\"205\" fill=\"none\" stroke=\"black\" stroke-width=\"2\" stroke-dasharray=\"3,3\"/><circle cx=\"115\" cy=\"288\" r=\"12\" fill=\"rgb(92,92,92)\"/><circle cx=\"304\" cy=\"370\" r=\"10\" fill=\"rgb(189,189,189)\"/><circle cx=\"187\" cy=\"299\" r=\"9\" fill=\"rgb(67,67,67)\"/><circle cx=\"212\" cy=\"48\" r=\"7\" fill=\"rgb(89,89,89)\"/><circle cx=\"130\" cy=\"222\" r=\"9\" fill=\"rgb(136,136,136)\"/><circle cx=\"362\" cy=\"115\" r=\"12\" fill=\"rgb(123,123,123)\"/><circle cx=\"267\" cy=\"66\" r=\"8\" fill=\"rgb(123,123,123)\"/></svg><svg viewBox='0 0 430 430' id=\"svg\" width=\"172\" height=\"172\"><circle cx=\"215\" cy=\"215\" r=\"205\" fill=\"none\" stroke=\"black\" stroke-width=\"2\" stroke-dasharray=\"3,3\"/> <circle cx=\"115\" cy=\"288\" r=\"12\" fill=\"rgb(255,255,255)\" class=\"agent_1_0\"/><circle cx=\"304\" cy=\"370\" r=\"10\" fill=\"rgb(255,255,255)\" class=\"agent_1_24\"/><circle cx=\"187\" cy=\"299\" r=\"9\" fill=\"rgb(255,255,255)\" class=\"agent_1_37\"/><circle cx=\"212\" cy=\"48\" r=\"7\" fill=\"rgb(255,0,0)\" class=\"agent_1_56\"/><circle cx=\"130\" cy=\"222\" r=\"9\" fill=\"rgb(255,255,255)\" class=\"agent_1_60\"/><circle cx=\"362\" cy=\"115\" r=\"12\" fill=\"rgb(255,0,0)\" class=\"agent_1_64\"/><circle cx=\"267\" cy=\"66\" r=\"8\" fill=\"rgb(255,0,0)\" class=\"agent_1_79\"/></svg></div>"
      ],
      "text/plain": [
       "<IPython.core.display.HTML object>"
      ]
     },
     "metadata": {},
     "output_type": "display_data"
    },
    {
     "name": "stdout",
     "output_type": "stream",
     "text": [
      "beam 0\ti have a cluster of 4 dots that form a triangle <eos>\n",
      "greedy\ti have a cluster of 4 dots that form a triangle <eos>\n",
      "human\ti see 3 dots in a line <eos>\n",
      "refs_pred\n"
     ]
    },
    {
     "data": {
      "text/html": [
       "<div style=\"white-space: nowrap\"><svg viewbox='0 0 430 430' width=\"172\" height=\"172\" id=\"agent_1\"><circle cx=\"215\" cy=\"215\" r=\"205\" fill=\"none\" stroke=\"black\" stroke-width=\"2\" stroke-dasharray=\"3,3\"/><circle cx=\"115\" cy=\"288\" r=\"12\" fill=\"rgb(92,92,92)\"/><circle cx=\"304\" cy=\"370\" r=\"10\" fill=\"rgb(189,189,189)\"/><circle cx=\"187\" cy=\"299\" r=\"9\" fill=\"rgb(67,67,67)\"/><circle cx=\"212\" cy=\"48\" r=\"7\" fill=\"rgb(89,89,89)\"/><circle cx=\"130\" cy=\"222\" r=\"9\" fill=\"rgb(136,136,136)\"/><circle cx=\"362\" cy=\"115\" r=\"12\" fill=\"rgb(123,123,123)\"/><circle cx=\"267\" cy=\"66\" r=\"8\" fill=\"rgb(123,123,123)\"/></svg><svg viewBox='0 0 430 430' id=\"svg\" width=\"172\" height=\"172\"><circle cx=\"215\" cy=\"215\" r=\"205\" fill=\"none\" stroke=\"black\" stroke-width=\"2\" stroke-dasharray=\"3,3\"/> <circle cx=\"115\" cy=\"288\" r=\"12\" fill=\"rgb(255,0,0)\" class=\"agent_1_0\"/><circle cx=\"304\" cy=\"370\" r=\"10\" fill=\"rgb(255,255,255)\" class=\"agent_1_24\"/><circle cx=\"187\" cy=\"299\" r=\"9\" fill=\"rgb(255,0,0)\" class=\"agent_1_37\"/><circle cx=\"212\" cy=\"48\" r=\"7\" fill=\"rgb(255,255,255)\" class=\"agent_1_56\"/><circle cx=\"130\" cy=\"222\" r=\"9\" fill=\"rgb(255,0,0)\" class=\"agent_1_60\"/><circle cx=\"362\" cy=\"115\" r=\"12\" fill=\"rgb(255,255,255)\" class=\"agent_1_64\"/><circle cx=\"267\" cy=\"66\" r=\"8\" fill=\"rgb(255,255,255)\" class=\"agent_1_79\"/></svg></div>"
      ],
      "text/plain": [
       "<IPython.core.display.HTML object>"
      ]
     },
     "metadata": {},
     "output_type": "display_data"
    },
    {
     "name": "stdout",
     "output_type": "stream",
     "text": [
      "refs_true\n"
     ]
    },
    {
     "data": {
      "text/html": [
       "<div style=\"white-space: nowrap\"><svg viewbox='0 0 430 430' width=\"172\" height=\"172\" id=\"agent_1\"><circle cx=\"215\" cy=\"215\" r=\"205\" fill=\"none\" stroke=\"black\" stroke-width=\"2\" stroke-dasharray=\"3,3\"/><circle cx=\"115\" cy=\"288\" r=\"12\" fill=\"rgb(92,92,92)\"/><circle cx=\"304\" cy=\"370\" r=\"10\" fill=\"rgb(189,189,189)\"/><circle cx=\"187\" cy=\"299\" r=\"9\" fill=\"rgb(67,67,67)\"/><circle cx=\"212\" cy=\"48\" r=\"7\" fill=\"rgb(89,89,89)\"/><circle cx=\"130\" cy=\"222\" r=\"9\" fill=\"rgb(136,136,136)\"/><circle cx=\"362\" cy=\"115\" r=\"12\" fill=\"rgb(123,123,123)\"/><circle cx=\"267\" cy=\"66\" r=\"8\" fill=\"rgb(123,123,123)\"/></svg><svg viewBox='0 0 430 430' id=\"svg\" width=\"172\" height=\"172\"><circle cx=\"215\" cy=\"215\" r=\"205\" fill=\"none\" stroke=\"black\" stroke-width=\"2\" stroke-dasharray=\"3,3\"/> <circle cx=\"115\" cy=\"288\" r=\"12\" fill=\"rgb(255,255,255)\" class=\"agent_1_0\"/><circle cx=\"304\" cy=\"370\" r=\"10\" fill=\"rgb(255,255,255)\" class=\"agent_1_24\"/><circle cx=\"187\" cy=\"299\" r=\"9\" fill=\"rgb(255,255,255)\" class=\"agent_1_37\"/><circle cx=\"212\" cy=\"48\" r=\"7\" fill=\"rgb(255,0,0)\" class=\"agent_1_56\"/><circle cx=\"130\" cy=\"222\" r=\"9\" fill=\"rgb(255,255,255)\" class=\"agent_1_60\"/><circle cx=\"362\" cy=\"115\" r=\"12\" fill=\"rgb(255,0,0)\" class=\"agent_1_64\"/><circle cx=\"267\" cy=\"66\" r=\"8\" fill=\"rgb(255,0,0)\" class=\"agent_1_79\"/></svg></div>"
      ],
      "text/plain": [
       "<IPython.core.display.HTML object>"
      ]
     },
     "metadata": {},
     "output_type": "display_data"
    },
    {
     "name": "stdout",
     "output_type": "stream",
     "text": [
      "utt: i see 3 dots in a line <eos>\n",
      "detected markables:\n",
      "({'start': 9, 'end': 15, 'is_self': True, 'text': '3 dots'}, (3, 4, 5))\n",
      "\n",
      "----------------------------------------\n",
      "\n",
      "human\tTHEM: is the dot on the left small and dark ? <eos>\n",
      "partner_refs_pred\n"
     ]
    },
    {
     "data": {
      "text/html": [
       "<div style=\"white-space: nowrap\"><svg viewbox='0 0 430 430' width=\"172\" height=\"172\" id=\"agent_1\"><circle cx=\"215\" cy=\"215\" r=\"205\" fill=\"none\" stroke=\"black\" stroke-width=\"2\" stroke-dasharray=\"3,3\"/><circle cx=\"115\" cy=\"288\" r=\"12\" fill=\"rgb(92,92,92)\"/><circle cx=\"304\" cy=\"370\" r=\"10\" fill=\"rgb(189,189,189)\"/><circle cx=\"187\" cy=\"299\" r=\"9\" fill=\"rgb(67,67,67)\"/><circle cx=\"212\" cy=\"48\" r=\"7\" fill=\"rgb(89,89,89)\"/><circle cx=\"130\" cy=\"222\" r=\"9\" fill=\"rgb(136,136,136)\"/><circle cx=\"362\" cy=\"115\" r=\"12\" fill=\"rgb(123,123,123)\"/><circle cx=\"267\" cy=\"66\" r=\"8\" fill=\"rgb(123,123,123)\"/></svg><svg viewBox='0 0 430 430' id=\"svg\" width=\"172\" height=\"172\"><circle cx=\"215\" cy=\"215\" r=\"205\" fill=\"none\" stroke=\"black\" stroke-width=\"2\" stroke-dasharray=\"3,3\"/> <circle cx=\"115\" cy=\"288\" r=\"12\" fill=\"rgb(255,255,255)\" class=\"agent_1_0\"/><circle cx=\"304\" cy=\"370\" r=\"10\" fill=\"rgb(255,255,255)\" class=\"agent_1_24\"/><circle cx=\"187\" cy=\"299\" r=\"9\" fill=\"rgb(255,0,0)\" class=\"agent_1_37\"/><circle cx=\"212\" cy=\"48\" r=\"7\" fill=\"rgb(255,255,255)\" class=\"agent_1_56\"/><circle cx=\"130\" cy=\"222\" r=\"9\" fill=\"rgb(255,255,255)\" class=\"agent_1_60\"/><circle cx=\"362\" cy=\"115\" r=\"12\" fill=\"rgb(255,255,255)\" class=\"agent_1_64\"/><circle cx=\"267\" cy=\"66\" r=\"8\" fill=\"rgb(255,255,255)\" class=\"agent_1_79\"/></svg></div>"
      ],
      "text/plain": [
       "<IPython.core.display.HTML object>"
      ]
     },
     "metadata": {},
     "output_type": "display_data"
    },
    {
     "name": "stdout",
     "output_type": "stream",
     "text": [
      "partner_refs_true\n"
     ]
    },
    {
     "data": {
      "text/html": [
       "<div style=\"white-space: nowrap\"><svg viewbox='0 0 430 430' width=\"172\" height=\"172\" id=\"agent_1\"><circle cx=\"215\" cy=\"215\" r=\"205\" fill=\"none\" stroke=\"black\" stroke-width=\"2\" stroke-dasharray=\"3,3\"/><circle cx=\"115\" cy=\"288\" r=\"12\" fill=\"rgb(92,92,92)\"/><circle cx=\"304\" cy=\"370\" r=\"10\" fill=\"rgb(189,189,189)\"/><circle cx=\"187\" cy=\"299\" r=\"9\" fill=\"rgb(67,67,67)\"/><circle cx=\"212\" cy=\"48\" r=\"7\" fill=\"rgb(89,89,89)\"/><circle cx=\"130\" cy=\"222\" r=\"9\" fill=\"rgb(136,136,136)\"/><circle cx=\"362\" cy=\"115\" r=\"12\" fill=\"rgb(123,123,123)\"/><circle cx=\"267\" cy=\"66\" r=\"8\" fill=\"rgb(123,123,123)\"/></svg><svg viewBox='0 0 430 430' id=\"svg\" width=\"172\" height=\"172\"><circle cx=\"215\" cy=\"215\" r=\"205\" fill=\"none\" stroke=\"black\" stroke-width=\"2\" stroke-dasharray=\"3,3\"/> <circle cx=\"115\" cy=\"288\" r=\"12\" fill=\"rgb(255,255,255)\" class=\"agent_1_0\"/><circle cx=\"304\" cy=\"370\" r=\"10\" fill=\"rgb(255,255,255)\" class=\"agent_1_24\"/><circle cx=\"187\" cy=\"299\" r=\"9\" fill=\"rgb(255,255,255)\" class=\"agent_1_37\"/><circle cx=\"212\" cy=\"48\" r=\"7\" fill=\"rgb(255,0,0)\" class=\"agent_1_56\"/><circle cx=\"130\" cy=\"222\" r=\"9\" fill=\"rgb(255,255,255)\" class=\"agent_1_60\"/><circle cx=\"362\" cy=\"115\" r=\"12\" fill=\"rgb(255,255,255)\" class=\"agent_1_64\"/><circle cx=\"267\" cy=\"66\" r=\"8\" fill=\"rgb(255,255,255)\" class=\"agent_1_79\"/></svg></div>"
      ],
      "text/plain": [
       "<IPython.core.display.HTML object>"
      ]
     },
     "metadata": {},
     "output_type": "display_data"
    },
    {
     "name": "stdout",
     "output_type": "stream",
     "text": [
      "utt: is the dot on the left small and dark ? <eos>\n",
      "detected markables:\n",
      "({'start': 6, 'end': 13, 'is_self': True, 'text': 'the dot'}, (2, 3, 4))\n",
      "\n",
      "----------------------------------------\n",
      "\n",
      "beam 0\tyes <eos>\n",
      "greedy\tyes <eos>\n",
      "human\tyes <eos>\n",
      "utt: yes <eos>\n",
      "detected markables:\n",
      "\n",
      "----------------------------------------\n",
      "\n",
      "human\tTHEM: choose that one <selection>\n",
      "partner_refs_pred\n"
     ]
    },
    {
     "data": {
      "text/html": [
       "<div style=\"white-space: nowrap\"><svg viewbox='0 0 430 430' width=\"172\" height=\"172\" id=\"agent_1\"><circle cx=\"215\" cy=\"215\" r=\"205\" fill=\"none\" stroke=\"black\" stroke-width=\"2\" stroke-dasharray=\"3,3\"/><circle cx=\"115\" cy=\"288\" r=\"12\" fill=\"rgb(92,92,92)\"/><circle cx=\"304\" cy=\"370\" r=\"10\" fill=\"rgb(189,189,189)\"/><circle cx=\"187\" cy=\"299\" r=\"9\" fill=\"rgb(67,67,67)\"/><circle cx=\"212\" cy=\"48\" r=\"7\" fill=\"rgb(89,89,89)\"/><circle cx=\"130\" cy=\"222\" r=\"9\" fill=\"rgb(136,136,136)\"/><circle cx=\"362\" cy=\"115\" r=\"12\" fill=\"rgb(123,123,123)\"/><circle cx=\"267\" cy=\"66\" r=\"8\" fill=\"rgb(123,123,123)\"/></svg><svg viewBox='0 0 430 430' id=\"svg\" width=\"172\" height=\"172\"><circle cx=\"215\" cy=\"215\" r=\"205\" fill=\"none\" stroke=\"black\" stroke-width=\"2\" stroke-dasharray=\"3,3\"/> <circle cx=\"115\" cy=\"288\" r=\"12\" fill=\"rgb(255,255,255)\" class=\"agent_1_0\"/><circle cx=\"304\" cy=\"370\" r=\"10\" fill=\"rgb(255,255,255)\" class=\"agent_1_24\"/><circle cx=\"187\" cy=\"299\" r=\"9\" fill=\"rgb(255,0,0)\" class=\"agent_1_37\"/><circle cx=\"212\" cy=\"48\" r=\"7\" fill=\"rgb(255,255,255)\" class=\"agent_1_56\"/><circle cx=\"130\" cy=\"222\" r=\"9\" fill=\"rgb(255,255,255)\" class=\"agent_1_60\"/><circle cx=\"362\" cy=\"115\" r=\"12\" fill=\"rgb(255,255,255)\" class=\"agent_1_64\"/><circle cx=\"267\" cy=\"66\" r=\"8\" fill=\"rgb(255,255,255)\" class=\"agent_1_79\"/></svg></div>"
      ],
      "text/plain": [
       "<IPython.core.display.HTML object>"
      ]
     },
     "metadata": {},
     "output_type": "display_data"
    },
    {
     "name": "stdout",
     "output_type": "stream",
     "text": [
      "partner_refs_true\n"
     ]
    },
    {
     "data": {
      "text/html": [
       "<div style=\"white-space: nowrap\"><svg viewbox='0 0 430 430' width=\"172\" height=\"172\" id=\"agent_1\"><circle cx=\"215\" cy=\"215\" r=\"205\" fill=\"none\" stroke=\"black\" stroke-width=\"2\" stroke-dasharray=\"3,3\"/><circle cx=\"115\" cy=\"288\" r=\"12\" fill=\"rgb(92,92,92)\"/><circle cx=\"304\" cy=\"370\" r=\"10\" fill=\"rgb(189,189,189)\"/><circle cx=\"187\" cy=\"299\" r=\"9\" fill=\"rgb(67,67,67)\"/><circle cx=\"212\" cy=\"48\" r=\"7\" fill=\"rgb(89,89,89)\"/><circle cx=\"130\" cy=\"222\" r=\"9\" fill=\"rgb(136,136,136)\"/><circle cx=\"362\" cy=\"115\" r=\"12\" fill=\"rgb(123,123,123)\"/><circle cx=\"267\" cy=\"66\" r=\"8\" fill=\"rgb(123,123,123)\"/></svg><svg viewBox='0 0 430 430' id=\"svg\" width=\"172\" height=\"172\"><circle cx=\"215\" cy=\"215\" r=\"205\" fill=\"none\" stroke=\"black\" stroke-width=\"2\" stroke-dasharray=\"3,3\"/> <circle cx=\"115\" cy=\"288\" r=\"12\" fill=\"rgb(255,255,255)\" class=\"agent_1_0\"/><circle cx=\"304\" cy=\"370\" r=\"10\" fill=\"rgb(255,255,255)\" class=\"agent_1_24\"/><circle cx=\"187\" cy=\"299\" r=\"9\" fill=\"rgb(255,255,255)\" class=\"agent_1_37\"/><circle cx=\"212\" cy=\"48\" r=\"7\" fill=\"rgb(255,0,0)\" class=\"agent_1_56\"/><circle cx=\"130\" cy=\"222\" r=\"9\" fill=\"rgb(255,255,255)\" class=\"agent_1_60\"/><circle cx=\"362\" cy=\"115\" r=\"12\" fill=\"rgb(255,255,255)\" class=\"agent_1_64\"/><circle cx=\"267\" cy=\"66\" r=\"8\" fill=\"rgb(255,255,255)\" class=\"agent_1_79\"/></svg></div>"
      ],
      "text/plain": [
       "<IPython.core.display.HTML object>"
      ]
     },
     "metadata": {},
     "output_type": "display_data"
    },
    {
     "name": "stdout",
     "output_type": "stream",
     "text": [
      "utt: choose that one <selection>\n",
      "detected markables:\n",
      "({'start': 10, 'end': 18, 'is_self': True, 'text': 'that one'}, (2, 3, 4))\n",
      "\n",
      "----------------------------------------\n",
      "\n",
      "sel_pred\n"
     ]
    },
    {
     "data": {
      "text/html": [
       "<div style=\"white-space: nowrap\"><svg viewbox='0 0 430 430' width=\"172\" height=\"172\" id=\"agent_1\"><circle cx=\"215\" cy=\"215\" r=\"205\" fill=\"none\" stroke=\"black\" stroke-width=\"2\" stroke-dasharray=\"3,3\"/><circle cx=\"115\" cy=\"288\" r=\"12\" fill=\"rgb(92,92,92)\"/><circle cx=\"304\" cy=\"370\" r=\"10\" fill=\"rgb(189,189,189)\"/><circle cx=\"187\" cy=\"299\" r=\"9\" fill=\"rgb(67,67,67)\"/><circle cx=\"212\" cy=\"48\" r=\"7\" fill=\"rgb(89,89,89)\"/><circle cx=\"130\" cy=\"222\" r=\"9\" fill=\"rgb(136,136,136)\"/><circle cx=\"362\" cy=\"115\" r=\"12\" fill=\"rgb(123,123,123)\"/><circle cx=\"267\" cy=\"66\" r=\"8\" fill=\"rgb(123,123,123)\"/></svg><svg viewBox='0 0 430 430' id=\"svg\" width=\"172\" height=\"172\"><circle cx=\"215\" cy=\"215\" r=\"205\" fill=\"none\" stroke=\"black\" stroke-width=\"2\" stroke-dasharray=\"3,3\"/> <circle cx=\"115\" cy=\"288\" r=\"12\" fill=\"rgb(255,253,253)\" class=\"agent_1_0\"/><circle cx=\"304\" cy=\"370\" r=\"10\" fill=\"rgb(255,254,254)\" class=\"agent_1_24\"/><circle cx=\"187\" cy=\"299\" r=\"9\" fill=\"rgb(255,66,66)\" class=\"agent_1_37\"/><circle cx=\"212\" cy=\"48\" r=\"7\" fill=\"rgb(255,103,103)\" class=\"agent_1_56\"/><circle cx=\"130\" cy=\"222\" r=\"9\" fill=\"rgb(255,254,254)\" class=\"agent_1_60\"/><circle cx=\"362\" cy=\"115\" r=\"12\" fill=\"rgb(255,254,254)\" class=\"agent_1_64\"/><circle cx=\"267\" cy=\"66\" r=\"8\" fill=\"rgb(255,254,254)\" class=\"agent_1_79\"/></svg></div>"
      ],
      "text/plain": [
       "<IPython.core.display.HTML object>"
      ]
     },
     "metadata": {},
     "output_type": "display_data"
    },
    {
     "name": "stdout",
     "output_type": "stream",
     "text": [
      "sel_true\n"
     ]
    },
    {
     "data": {
      "text/html": [
       "<div style=\"white-space: nowrap\"><svg viewbox='0 0 430 430' width=\"172\" height=\"172\" id=\"agent_1\"><circle cx=\"215\" cy=\"215\" r=\"205\" fill=\"none\" stroke=\"black\" stroke-width=\"2\" stroke-dasharray=\"3,3\"/><circle cx=\"115\" cy=\"288\" r=\"12\" fill=\"rgb(92,92,92)\"/><circle cx=\"304\" cy=\"370\" r=\"10\" fill=\"rgb(189,189,189)\"/><circle cx=\"187\" cy=\"299\" r=\"9\" fill=\"rgb(67,67,67)\"/><circle cx=\"212\" cy=\"48\" r=\"7\" fill=\"rgb(89,89,89)\"/><circle cx=\"130\" cy=\"222\" r=\"9\" fill=\"rgb(136,136,136)\"/><circle cx=\"362\" cy=\"115\" r=\"12\" fill=\"rgb(123,123,123)\"/><circle cx=\"267\" cy=\"66\" r=\"8\" fill=\"rgb(123,123,123)\"/></svg><svg viewBox='0 0 430 430' id=\"svg\" width=\"172\" height=\"172\"><circle cx=\"215\" cy=\"215\" r=\"205\" fill=\"none\" stroke=\"black\" stroke-width=\"2\" stroke-dasharray=\"3,3\"/> <circle cx=\"115\" cy=\"288\" r=\"12\" fill=\"rgb(255,255,255)\" class=\"agent_1_0\"/><circle cx=\"304\" cy=\"370\" r=\"10\" fill=\"rgb(255,255,255)\" class=\"agent_1_24\"/><circle cx=\"187\" cy=\"299\" r=\"9\" fill=\"rgb(255,255,255)\" class=\"agent_1_37\"/><circle cx=\"212\" cy=\"48\" r=\"7\" fill=\"rgb(255,0,0)\" class=\"agent_1_56\"/><circle cx=\"130\" cy=\"222\" r=\"9\" fill=\"rgb(255,255,255)\" class=\"agent_1_60\"/><circle cx=\"362\" cy=\"115\" r=\"12\" fill=\"rgb(255,255,255)\" class=\"agent_1_64\"/><circle cx=\"267\" cy=\"66\" r=\"8\" fill=\"rgb(255,255,255)\" class=\"agent_1_79\"/></svg></div>"
      ],
      "text/plain": [
       "<IPython.core.display.HTML object>"
      ]
     },
     "metadata": {},
     "output_type": "display_data"
    }
   ],
   "source": [
    "force_contexts_and_mentions(7)"
   ]
  },
  {
   "cell_type": "code",
   "execution_count": 76,
   "metadata": {
    "scrolled": false
   },
   "outputs": [
    {
     "name": "stdout",
     "output_type": "stream",
     "text": [
      "empty to_mention_pred\n",
      "to_mention_true\n"
     ]
    },
    {
     "data": {
      "text/html": [
       "<div style=\"white-space: nowrap\"><svg viewbox='0 0 430 430' width=\"172\" height=\"172\" id=\"agent_1\"><circle cx=\"215\" cy=\"215\" r=\"205\" fill=\"none\" stroke=\"black\" stroke-width=\"2\" stroke-dasharray=\"3,3\"/><circle cx=\"200\" cy=\"112\" r=\"8\" fill=\"rgb(192,192,192)\"/><circle cx=\"113\" cy=\"352\" r=\"8\" fill=\"rgb(106,106,106)\"/><circle cx=\"42\" cy=\"242\" r=\"12\" fill=\"rgb(145,145,145)\"/><circle cx=\"81\" cy=\"212\" r=\"9\" fill=\"rgb(133,133,133)\"/><circle cx=\"321\" cy=\"269\" r=\"8\" fill=\"rgb(156,156,156)\"/><circle cx=\"107\" cy=\"151\" r=\"13\" fill=\"rgb(140,140,140)\"/><circle cx=\"329\" cy=\"100\" r=\"11\" fill=\"rgb(180,180,180)\"/></svg><svg viewBox='0 0 430 430' id=\"svg\" width=\"172\" height=\"172\"><circle cx=\"215\" cy=\"215\" r=\"205\" fill=\"none\" stroke=\"black\" stroke-width=\"2\" stroke-dasharray=\"3,3\"/> <circle cx=\"200\" cy=\"112\" r=\"8\" fill=\"rgb(255,255,255)\" class=\"agent_1_9\"/><circle cx=\"113\" cy=\"352\" r=\"8\" fill=\"rgb(255,0,0)\" class=\"agent_1_22\"/><circle cx=\"42\" cy=\"242\" r=\"12\" fill=\"rgb(255,255,255)\" class=\"agent_1_28\"/><circle cx=\"81\" cy=\"212\" r=\"9\" fill=\"rgb(255,255,255)\" class=\"agent_1_47\"/><circle cx=\"321\" cy=\"269\" r=\"8\" fill=\"rgb(255,255,255)\" class=\"agent_1_50\"/><circle cx=\"107\" cy=\"151\" r=\"13\" fill=\"rgb(255,255,255)\" class=\"agent_1_56\"/><circle cx=\"329\" cy=\"100\" r=\"11\" fill=\"rgb(255,255,255)\" class=\"agent_1_77\"/></svg></div>"
      ],
      "text/plain": [
       "<IPython.core.display.HTML object>"
      ]
     },
     "metadata": {},
     "output_type": "display_data"
    },
    {
     "name": "stdout",
     "output_type": "stream",
     "text": [
      "beam 0\ti have a small dark dot at the top of the circle <eos>\n",
      "greedy\ti have a small dark dot at the top of the circle <eos>\n",
      "human\ti have a tiny dark gray on the bottom to the left side <eos>\n",
      "refs_pred\n"
     ]
    },
    {
     "data": {
      "text/html": [
       "<div style=\"white-space: nowrap\"><svg viewbox='0 0 430 430' width=\"172\" height=\"172\" id=\"agent_1\"><circle cx=\"215\" cy=\"215\" r=\"205\" fill=\"none\" stroke=\"black\" stroke-width=\"2\" stroke-dasharray=\"3,3\"/><circle cx=\"200\" cy=\"112\" r=\"8\" fill=\"rgb(192,192,192)\"/><circle cx=\"113\" cy=\"352\" r=\"8\" fill=\"rgb(106,106,106)\"/><circle cx=\"42\" cy=\"242\" r=\"12\" fill=\"rgb(145,145,145)\"/><circle cx=\"81\" cy=\"212\" r=\"9\" fill=\"rgb(133,133,133)\"/><circle cx=\"321\" cy=\"269\" r=\"8\" fill=\"rgb(156,156,156)\"/><circle cx=\"107\" cy=\"151\" r=\"13\" fill=\"rgb(140,140,140)\"/><circle cx=\"329\" cy=\"100\" r=\"11\" fill=\"rgb(180,180,180)\"/></svg><svg viewBox='0 0 430 430' id=\"svg\" width=\"172\" height=\"172\"><circle cx=\"215\" cy=\"215\" r=\"205\" fill=\"none\" stroke=\"black\" stroke-width=\"2\" stroke-dasharray=\"3,3\"/> <circle cx=\"200\" cy=\"112\" r=\"8\" fill=\"rgb(255,255,255)\" class=\"agent_1_9\"/><circle cx=\"113\" cy=\"352\" r=\"8\" fill=\"rgb(255,0,0)\" class=\"agent_1_22\"/><circle cx=\"42\" cy=\"242\" r=\"12\" fill=\"rgb(255,255,255)\" class=\"agent_1_28\"/><circle cx=\"81\" cy=\"212\" r=\"9\" fill=\"rgb(255,255,255)\" class=\"agent_1_47\"/><circle cx=\"321\" cy=\"269\" r=\"8\" fill=\"rgb(255,255,255)\" class=\"agent_1_50\"/><circle cx=\"107\" cy=\"151\" r=\"13\" fill=\"rgb(255,255,255)\" class=\"agent_1_56\"/><circle cx=\"329\" cy=\"100\" r=\"11\" fill=\"rgb(255,255,255)\" class=\"agent_1_77\"/></svg></div>"
      ],
      "text/plain": [
       "<IPython.core.display.HTML object>"
      ]
     },
     "metadata": {},
     "output_type": "display_data"
    },
    {
     "name": "stdout",
     "output_type": "stream",
     "text": [
      "refs_true\n"
     ]
    },
    {
     "data": {
      "text/html": [
       "<div style=\"white-space: nowrap\"><svg viewbox='0 0 430 430' width=\"172\" height=\"172\" id=\"agent_1\"><circle cx=\"215\" cy=\"215\" r=\"205\" fill=\"none\" stroke=\"black\" stroke-width=\"2\" stroke-dasharray=\"3,3\"/><circle cx=\"200\" cy=\"112\" r=\"8\" fill=\"rgb(192,192,192)\"/><circle cx=\"113\" cy=\"352\" r=\"8\" fill=\"rgb(106,106,106)\"/><circle cx=\"42\" cy=\"242\" r=\"12\" fill=\"rgb(145,145,145)\"/><circle cx=\"81\" cy=\"212\" r=\"9\" fill=\"rgb(133,133,133)\"/><circle cx=\"321\" cy=\"269\" r=\"8\" fill=\"rgb(156,156,156)\"/><circle cx=\"107\" cy=\"151\" r=\"13\" fill=\"rgb(140,140,140)\"/><circle cx=\"329\" cy=\"100\" r=\"11\" fill=\"rgb(180,180,180)\"/></svg><svg viewBox='0 0 430 430' id=\"svg\" width=\"172\" height=\"172\"><circle cx=\"215\" cy=\"215\" r=\"205\" fill=\"none\" stroke=\"black\" stroke-width=\"2\" stroke-dasharray=\"3,3\"/> <circle cx=\"200\" cy=\"112\" r=\"8\" fill=\"rgb(255,255,255)\" class=\"agent_1_9\"/><circle cx=\"113\" cy=\"352\" r=\"8\" fill=\"rgb(255,0,0)\" class=\"agent_1_22\"/><circle cx=\"42\" cy=\"242\" r=\"12\" fill=\"rgb(255,255,255)\" class=\"agent_1_28\"/><circle cx=\"81\" cy=\"212\" r=\"9\" fill=\"rgb(255,255,255)\" class=\"agent_1_47\"/><circle cx=\"321\" cy=\"269\" r=\"8\" fill=\"rgb(255,255,255)\" class=\"agent_1_50\"/><circle cx=\"107\" cy=\"151\" r=\"13\" fill=\"rgb(255,255,255)\" class=\"agent_1_56\"/><circle cx=\"329\" cy=\"100\" r=\"11\" fill=\"rgb(255,255,255)\" class=\"agent_1_77\"/></svg></div>"
      ],
      "text/plain": [
       "<IPython.core.display.HTML object>"
      ]
     },
     "metadata": {},
     "output_type": "display_data"
    },
    {
     "name": "stdout",
     "output_type": "stream",
     "text": [
      "utt: i have a tiny dark gray on the bottom to the left side <eos>\n",
      "detected markables:\n",
      "({'start': 10, 'end': 26, 'is_self': True, 'text': 'a tiny dark gray'}, (3, 6, 7))\n",
      "\n",
      "----------------------------------------\n",
      "\n",
      "human\tTHEM: ah yes i see it , it is standing alone for me . <selection>\n",
      "partner_refs_pred\n"
     ]
    },
    {
     "data": {
      "text/html": [
       "<div style=\"white-space: nowrap\"><svg viewbox='0 0 430 430' width=\"172\" height=\"172\" id=\"agent_1\"><circle cx=\"215\" cy=\"215\" r=\"205\" fill=\"none\" stroke=\"black\" stroke-width=\"2\" stroke-dasharray=\"3,3\"/><circle cx=\"200\" cy=\"112\" r=\"8\" fill=\"rgb(192,192,192)\"/><circle cx=\"113\" cy=\"352\" r=\"8\" fill=\"rgb(106,106,106)\"/><circle cx=\"42\" cy=\"242\" r=\"12\" fill=\"rgb(145,145,145)\"/><circle cx=\"81\" cy=\"212\" r=\"9\" fill=\"rgb(133,133,133)\"/><circle cx=\"321\" cy=\"269\" r=\"8\" fill=\"rgb(156,156,156)\"/><circle cx=\"107\" cy=\"151\" r=\"13\" fill=\"rgb(140,140,140)\"/><circle cx=\"329\" cy=\"100\" r=\"11\" fill=\"rgb(180,180,180)\"/></svg><svg viewBox='0 0 430 430' id=\"svg\" width=\"172\" height=\"172\"><circle cx=\"215\" cy=\"215\" r=\"205\" fill=\"none\" stroke=\"black\" stroke-width=\"2\" stroke-dasharray=\"3,3\"/> <circle cx=\"200\" cy=\"112\" r=\"8\" fill=\"rgb(255,255,255)\" class=\"agent_1_9\"/><circle cx=\"113\" cy=\"352\" r=\"8\" fill=\"rgb(255,0,0)\" class=\"agent_1_22\"/><circle cx=\"42\" cy=\"242\" r=\"12\" fill=\"rgb(255,255,255)\" class=\"agent_1_28\"/><circle cx=\"81\" cy=\"212\" r=\"9\" fill=\"rgb(255,255,255)\" class=\"agent_1_47\"/><circle cx=\"321\" cy=\"269\" r=\"8\" fill=\"rgb(255,255,255)\" class=\"agent_1_50\"/><circle cx=\"107\" cy=\"151\" r=\"13\" fill=\"rgb(255,255,255)\" class=\"agent_1_56\"/><circle cx=\"329\" cy=\"100\" r=\"11\" fill=\"rgb(255,255,255)\" class=\"agent_1_77\"/></svg><svg viewBox='0 0 430 430' id=\"svg\" width=\"172\" height=\"172\"><circle cx=\"215\" cy=\"215\" r=\"205\" fill=\"none\" stroke=\"black\" stroke-width=\"2\" stroke-dasharray=\"3,3\"/> <circle cx=\"200\" cy=\"112\" r=\"8\" fill=\"rgb(255,255,255)\" class=\"agent_1_9\"/><circle cx=\"113\" cy=\"352\" r=\"8\" fill=\"rgb(255,0,0)\" class=\"agent_1_22\"/><circle cx=\"42\" cy=\"242\" r=\"12\" fill=\"rgb(255,255,255)\" class=\"agent_1_28\"/><circle cx=\"81\" cy=\"212\" r=\"9\" fill=\"rgb(255,255,255)\" class=\"agent_1_47\"/><circle cx=\"321\" cy=\"269\" r=\"8\" fill=\"rgb(255,255,255)\" class=\"agent_1_50\"/><circle cx=\"107\" cy=\"151\" r=\"13\" fill=\"rgb(255,255,255)\" class=\"agent_1_56\"/><circle cx=\"329\" cy=\"100\" r=\"11\" fill=\"rgb(255,255,255)\" class=\"agent_1_77\"/></svg></div>"
      ],
      "text/plain": [
       "<IPython.core.display.HTML object>"
      ]
     },
     "metadata": {},
     "output_type": "display_data"
    },
    {
     "name": "stdout",
     "output_type": "stream",
     "text": [
      "partner_refs_true\n"
     ]
    },
    {
     "data": {
      "text/html": [
       "<div style=\"white-space: nowrap\"><svg viewbox='0 0 430 430' width=\"172\" height=\"172\" id=\"agent_1\"><circle cx=\"215\" cy=\"215\" r=\"205\" fill=\"none\" stroke=\"black\" stroke-width=\"2\" stroke-dasharray=\"3,3\"/><circle cx=\"200\" cy=\"112\" r=\"8\" fill=\"rgb(192,192,192)\"/><circle cx=\"113\" cy=\"352\" r=\"8\" fill=\"rgb(106,106,106)\"/><circle cx=\"42\" cy=\"242\" r=\"12\" fill=\"rgb(145,145,145)\"/><circle cx=\"81\" cy=\"212\" r=\"9\" fill=\"rgb(133,133,133)\"/><circle cx=\"321\" cy=\"269\" r=\"8\" fill=\"rgb(156,156,156)\"/><circle cx=\"107\" cy=\"151\" r=\"13\" fill=\"rgb(140,140,140)\"/><circle cx=\"329\" cy=\"100\" r=\"11\" fill=\"rgb(180,180,180)\"/></svg><svg viewBox='0 0 430 430' id=\"svg\" width=\"172\" height=\"172\"><circle cx=\"215\" cy=\"215\" r=\"205\" fill=\"none\" stroke=\"black\" stroke-width=\"2\" stroke-dasharray=\"3,3\"/> <circle cx=\"200\" cy=\"112\" r=\"8\" fill=\"rgb(255,255,255)\" class=\"agent_1_9\"/><circle cx=\"113\" cy=\"352\" r=\"8\" fill=\"rgb(255,0,0)\" class=\"agent_1_22\"/><circle cx=\"42\" cy=\"242\" r=\"12\" fill=\"rgb(255,255,255)\" class=\"agent_1_28\"/><circle cx=\"81\" cy=\"212\" r=\"9\" fill=\"rgb(255,255,255)\" class=\"agent_1_47\"/><circle cx=\"321\" cy=\"269\" r=\"8\" fill=\"rgb(255,255,255)\" class=\"agent_1_50\"/><circle cx=\"107\" cy=\"151\" r=\"13\" fill=\"rgb(255,255,255)\" class=\"agent_1_56\"/><circle cx=\"329\" cy=\"100\" r=\"11\" fill=\"rgb(255,255,255)\" class=\"agent_1_77\"/></svg><svg viewBox='0 0 430 430' id=\"svg\" width=\"172\" height=\"172\"><circle cx=\"215\" cy=\"215\" r=\"205\" fill=\"none\" stroke=\"black\" stroke-width=\"2\" stroke-dasharray=\"3,3\"/> <circle cx=\"200\" cy=\"112\" r=\"8\" fill=\"rgb(255,255,255)\" class=\"agent_1_9\"/><circle cx=\"113\" cy=\"352\" r=\"8\" fill=\"rgb(255,0,0)\" class=\"agent_1_22\"/><circle cx=\"42\" cy=\"242\" r=\"12\" fill=\"rgb(255,255,255)\" class=\"agent_1_28\"/><circle cx=\"81\" cy=\"212\" r=\"9\" fill=\"rgb(255,255,255)\" class=\"agent_1_47\"/><circle cx=\"321\" cy=\"269\" r=\"8\" fill=\"rgb(255,255,255)\" class=\"agent_1_50\"/><circle cx=\"107\" cy=\"151\" r=\"13\" fill=\"rgb(255,255,255)\" class=\"agent_1_56\"/><circle cx=\"329\" cy=\"100\" r=\"11\" fill=\"rgb(255,255,255)\" class=\"agent_1_77\"/></svg></div>"
      ],
      "text/plain": [
       "<IPython.core.display.HTML object>"
      ]
     },
     "metadata": {},
     "output_type": "display_data"
    },
    {
     "name": "stdout",
     "output_type": "stream",
     "text": [
      "utt: ah yes i see it , it is standing alone for me . <selection>\n",
      "detected markables:\n",
      "({'start': 16, 'end': 18, 'is_self': True, 'text': 'it'}, (5, 5, 6))\n",
      "({'start': 21, 'end': 23, 'is_self': True, 'text': 'it'}, (7, 7, 8))\n",
      "\n",
      "----------------------------------------\n",
      "\n",
      "sel_pred\n"
     ]
    },
    {
     "data": {
      "text/html": [
       "<div style=\"white-space: nowrap\"><svg viewbox='0 0 430 430' width=\"172\" height=\"172\" id=\"agent_1\"><circle cx=\"215\" cy=\"215\" r=\"205\" fill=\"none\" stroke=\"black\" stroke-width=\"2\" stroke-dasharray=\"3,3\"/><circle cx=\"200\" cy=\"112\" r=\"8\" fill=\"rgb(192,192,192)\"/><circle cx=\"113\" cy=\"352\" r=\"8\" fill=\"rgb(106,106,106)\"/><circle cx=\"42\" cy=\"242\" r=\"12\" fill=\"rgb(145,145,145)\"/><circle cx=\"81\" cy=\"212\" r=\"9\" fill=\"rgb(133,133,133)\"/><circle cx=\"321\" cy=\"269\" r=\"8\" fill=\"rgb(156,156,156)\"/><circle cx=\"107\" cy=\"151\" r=\"13\" fill=\"rgb(140,140,140)\"/><circle cx=\"329\" cy=\"100\" r=\"11\" fill=\"rgb(180,180,180)\"/></svg><svg viewBox='0 0 430 430' id=\"svg\" width=\"172\" height=\"172\"><circle cx=\"215\" cy=\"215\" r=\"205\" fill=\"none\" stroke=\"black\" stroke-width=\"2\" stroke-dasharray=\"3,3\"/> <circle cx=\"200\" cy=\"112\" r=\"8\" fill=\"rgb(255,254,254)\" class=\"agent_1_9\"/><circle cx=\"113\" cy=\"352\" r=\"8\" fill=\"rgb(255,64,64)\" class=\"agent_1_22\"/><circle cx=\"42\" cy=\"242\" r=\"12\" fill=\"rgb(255,254,254)\" class=\"agent_1_28\"/><circle cx=\"81\" cy=\"212\" r=\"9\" fill=\"rgb(255,254,254)\" class=\"agent_1_47\"/><circle cx=\"321\" cy=\"269\" r=\"8\" fill=\"rgb(255,243,243)\" class=\"agent_1_50\"/><circle cx=\"107\" cy=\"151\" r=\"13\" fill=\"rgb(255,254,254)\" class=\"agent_1_56\"/><circle cx=\"329\" cy=\"100\" r=\"11\" fill=\"rgb(255,254,254)\" class=\"agent_1_77\"/></svg></div>"
      ],
      "text/plain": [
       "<IPython.core.display.HTML object>"
      ]
     },
     "metadata": {},
     "output_type": "display_data"
    },
    {
     "name": "stdout",
     "output_type": "stream",
     "text": [
      "sel_true\n"
     ]
    },
    {
     "data": {
      "text/html": [
       "<div style=\"white-space: nowrap\"><svg viewbox='0 0 430 430' width=\"172\" height=\"172\" id=\"agent_1\"><circle cx=\"215\" cy=\"215\" r=\"205\" fill=\"none\" stroke=\"black\" stroke-width=\"2\" stroke-dasharray=\"3,3\"/><circle cx=\"200\" cy=\"112\" r=\"8\" fill=\"rgb(192,192,192)\"/><circle cx=\"113\" cy=\"352\" r=\"8\" fill=\"rgb(106,106,106)\"/><circle cx=\"42\" cy=\"242\" r=\"12\" fill=\"rgb(145,145,145)\"/><circle cx=\"81\" cy=\"212\" r=\"9\" fill=\"rgb(133,133,133)\"/><circle cx=\"321\" cy=\"269\" r=\"8\" fill=\"rgb(156,156,156)\"/><circle cx=\"107\" cy=\"151\" r=\"13\" fill=\"rgb(140,140,140)\"/><circle cx=\"329\" cy=\"100\" r=\"11\" fill=\"rgb(180,180,180)\"/></svg><svg viewBox='0 0 430 430' id=\"svg\" width=\"172\" height=\"172\"><circle cx=\"215\" cy=\"215\" r=\"205\" fill=\"none\" stroke=\"black\" stroke-width=\"2\" stroke-dasharray=\"3,3\"/> <circle cx=\"200\" cy=\"112\" r=\"8\" fill=\"rgb(255,255,255)\" class=\"agent_1_9\"/><circle cx=\"113\" cy=\"352\" r=\"8\" fill=\"rgb(255,0,0)\" class=\"agent_1_22\"/><circle cx=\"42\" cy=\"242\" r=\"12\" fill=\"rgb(255,255,255)\" class=\"agent_1_28\"/><circle cx=\"81\" cy=\"212\" r=\"9\" fill=\"rgb(255,255,255)\" class=\"agent_1_47\"/><circle cx=\"321\" cy=\"269\" r=\"8\" fill=\"rgb(255,255,255)\" class=\"agent_1_50\"/><circle cx=\"107\" cy=\"151\" r=\"13\" fill=\"rgb(255,255,255)\" class=\"agent_1_56\"/><circle cx=\"329\" cy=\"100\" r=\"11\" fill=\"rgb(255,255,255)\" class=\"agent_1_77\"/></svg></div>"
      ],
      "text/plain": [
       "<IPython.core.display.HTML object>"
      ]
     },
     "metadata": {},
     "output_type": "display_data"
    }
   ],
   "source": [
    "force_contexts_and_mentions(8)"
   ]
  },
  {
   "cell_type": "code",
   "execution_count": 77,
   "metadata": {
    "scrolled": false
   },
   "outputs": [
    {
     "name": "stdout",
     "output_type": "stream",
     "text": [
      "human\tTHEM: do you see one dot darker than all the rest <eos>\n",
      "partner_refs_pred\n"
     ]
    },
    {
     "data": {
      "text/html": [
       "<div style=\"white-space: nowrap\"><svg viewbox='0 0 430 430' width=\"172\" height=\"172\" id=\"agent_1\"><circle cx=\"215\" cy=\"215\" r=\"205\" fill=\"none\" stroke=\"black\" stroke-width=\"2\" stroke-dasharray=\"3,3\"/><circle cx=\"332\" cy=\"259\" r=\"8\" fill=\"rgb(77,77,77)\"/><circle cx=\"364\" cy=\"92\" r=\"8\" fill=\"rgb(127,127,127)\"/><circle cx=\"239\" cy=\"67\" r=\"8\" fill=\"rgb(105,105,105)\"/><circle cx=\"93\" cy=\"190\" r=\"10\" fill=\"rgb(181,181,181)\"/><circle cx=\"365\" cy=\"161\" r=\"9\" fill=\"rgb(62,62,62)\"/><circle cx=\"128\" cy=\"167\" r=\"10\" fill=\"rgb(171,171,171)\"/><circle cx=\"64\" cy=\"341\" r=\"10\" fill=\"rgb(196,196,196)\"/></svg><svg viewBox='0 0 430 430' id=\"svg\" width=\"172\" height=\"172\"><circle cx=\"215\" cy=\"215\" r=\"205\" fill=\"none\" stroke=\"black\" stroke-width=\"2\" stroke-dasharray=\"3,3\"/> <circle cx=\"332\" cy=\"259\" r=\"8\" fill=\"rgb(255,255,255)\" class=\"agent_1_1\"/><circle cx=\"364\" cy=\"92\" r=\"8\" fill=\"rgb(255,255,255)\" class=\"agent_1_8\"/><circle cx=\"239\" cy=\"67\" r=\"8\" fill=\"rgb(255,255,255)\" class=\"agent_1_16\"/><circle cx=\"93\" cy=\"190\" r=\"10\" fill=\"rgb(255,255,255)\" class=\"agent_1_19\"/><circle cx=\"365\" cy=\"161\" r=\"9\" fill=\"rgb(255,0,0)\" class=\"agent_1_43\"/><circle cx=\"128\" cy=\"167\" r=\"10\" fill=\"rgb(255,255,255)\" class=\"agent_1_58\"/><circle cx=\"64\" cy=\"341\" r=\"10\" fill=\"rgb(255,255,255)\" class=\"agent_1_64\"/></svg><svg viewBox='0 0 430 430' id=\"svg\" width=\"172\" height=\"172\"><circle cx=\"215\" cy=\"215\" r=\"205\" fill=\"none\" stroke=\"black\" stroke-width=\"2\" stroke-dasharray=\"3,3\"/> <circle cx=\"332\" cy=\"259\" r=\"8\" fill=\"rgb(255,0,0)\" class=\"agent_1_1\"/><circle cx=\"364\" cy=\"92\" r=\"8\" fill=\"rgb(255,0,0)\" class=\"agent_1_8\"/><circle cx=\"239\" cy=\"67\" r=\"8\" fill=\"rgb(255,0,0)\" class=\"agent_1_16\"/><circle cx=\"93\" cy=\"190\" r=\"10\" fill=\"rgb(255,255,255)\" class=\"agent_1_19\"/><circle cx=\"365\" cy=\"161\" r=\"9\" fill=\"rgb(255,0,0)\" class=\"agent_1_43\"/><circle cx=\"128\" cy=\"167\" r=\"10\" fill=\"rgb(255,255,255)\" class=\"agent_1_58\"/><circle cx=\"64\" cy=\"341\" r=\"10\" fill=\"rgb(255,255,255)\" class=\"agent_1_64\"/></svg></div>"
      ],
      "text/plain": [
       "<IPython.core.display.HTML object>"
      ]
     },
     "metadata": {},
     "output_type": "display_data"
    },
    {
     "name": "stdout",
     "output_type": "stream",
     "text": [
      "partner_refs_true\n"
     ]
    },
    {
     "data": {
      "text/html": [
       "<div style=\"white-space: nowrap\"><svg viewbox='0 0 430 430' width=\"172\" height=\"172\" id=\"agent_1\"><circle cx=\"215\" cy=\"215\" r=\"205\" fill=\"none\" stroke=\"black\" stroke-width=\"2\" stroke-dasharray=\"3,3\"/><circle cx=\"332\" cy=\"259\" r=\"8\" fill=\"rgb(77,77,77)\"/><circle cx=\"364\" cy=\"92\" r=\"8\" fill=\"rgb(127,127,127)\"/><circle cx=\"239\" cy=\"67\" r=\"8\" fill=\"rgb(105,105,105)\"/><circle cx=\"93\" cy=\"190\" r=\"10\" fill=\"rgb(181,181,181)\"/><circle cx=\"365\" cy=\"161\" r=\"9\" fill=\"rgb(62,62,62)\"/><circle cx=\"128\" cy=\"167\" r=\"10\" fill=\"rgb(171,171,171)\"/><circle cx=\"64\" cy=\"341\" r=\"10\" fill=\"rgb(196,196,196)\"/></svg><svg viewBox='0 0 430 430' id=\"svg\" width=\"172\" height=\"172\"><circle cx=\"215\" cy=\"215\" r=\"205\" fill=\"none\" stroke=\"black\" stroke-width=\"2\" stroke-dasharray=\"3,3\"/> <circle cx=\"332\" cy=\"259\" r=\"8\" fill=\"rgb(255,255,255)\" class=\"agent_1_1\"/><circle cx=\"364\" cy=\"92\" r=\"8\" fill=\"rgb(255,255,255)\" class=\"agent_1_8\"/><circle cx=\"239\" cy=\"67\" r=\"8\" fill=\"rgb(255,255,255)\" class=\"agent_1_16\"/><circle cx=\"93\" cy=\"190\" r=\"10\" fill=\"rgb(255,255,255)\" class=\"agent_1_19\"/><circle cx=\"365\" cy=\"161\" r=\"9\" fill=\"rgb(255,0,0)\" class=\"agent_1_43\"/><circle cx=\"128\" cy=\"167\" r=\"10\" fill=\"rgb(255,255,255)\" class=\"agent_1_58\"/><circle cx=\"64\" cy=\"341\" r=\"10\" fill=\"rgb(255,255,255)\" class=\"agent_1_64\"/></svg><svg viewBox='0 0 430 430' id=\"svg\" width=\"172\" height=\"172\"><circle cx=\"215\" cy=\"215\" r=\"205\" fill=\"none\" stroke=\"black\" stroke-width=\"2\" stroke-dasharray=\"3,3\"/> <circle cx=\"332\" cy=\"259\" r=\"8\" fill=\"rgb(255,0,0)\" class=\"agent_1_1\"/><circle cx=\"364\" cy=\"92\" r=\"8\" fill=\"rgb(255,255,255)\" class=\"agent_1_8\"/><circle cx=\"239\" cy=\"67\" r=\"8\" fill=\"rgb(255,255,255)\" class=\"agent_1_16\"/><circle cx=\"93\" cy=\"190\" r=\"10\" fill=\"rgb(255,0,0)\" class=\"agent_1_19\"/><circle cx=\"365\" cy=\"161\" r=\"9\" fill=\"rgb(255,255,255)\" class=\"agent_1_43\"/><circle cx=\"128\" cy=\"167\" r=\"10\" fill=\"rgb(255,0,0)\" class=\"agent_1_58\"/><circle cx=\"64\" cy=\"341\" r=\"10\" fill=\"rgb(255,0,0)\" class=\"agent_1_64\"/></svg></div>"
      ],
      "text/plain": [
       "<IPython.core.display.HTML object>"
      ]
     },
     "metadata": {},
     "output_type": "display_data"
    },
    {
     "name": "stdout",
     "output_type": "stream",
     "text": [
      "utt: do you see one dot darker than all the rest <eos>\n",
      "detected markables:\n",
      "({'start': 14, 'end': 21, 'is_self': True, 'text': 'one dot'}, (4, 5, 6))\n",
      "({'start': 34, 'end': 46, 'is_self': True, 'text': 'all the rest'}, (8, 10, 11))\n",
      "\n",
      "----------------------------------------\n",
      "\n",
      "to_mention_pred\n"
     ]
    },
    {
     "data": {
      "text/html": [
       "<div style=\"white-space: nowrap\"><svg viewbox='0 0 430 430' width=\"172\" height=\"172\" id=\"agent_1\"><circle cx=\"215\" cy=\"215\" r=\"205\" fill=\"none\" stroke=\"black\" stroke-width=\"2\" stroke-dasharray=\"3,3\"/><circle cx=\"332\" cy=\"259\" r=\"8\" fill=\"rgb(77,77,77)\"/><circle cx=\"364\" cy=\"92\" r=\"8\" fill=\"rgb(127,127,127)\"/><circle cx=\"239\" cy=\"67\" r=\"8\" fill=\"rgb(105,105,105)\"/><circle cx=\"93\" cy=\"190\" r=\"10\" fill=\"rgb(181,181,181)\"/><circle cx=\"365\" cy=\"161\" r=\"9\" fill=\"rgb(62,62,62)\"/><circle cx=\"128\" cy=\"167\" r=\"10\" fill=\"rgb(171,171,171)\"/><circle cx=\"64\" cy=\"341\" r=\"10\" fill=\"rgb(196,196,196)\"/></svg><svg viewBox='0 0 430 430' id=\"svg\" width=\"172\" height=\"172\"><circle cx=\"215\" cy=\"215\" r=\"205\" fill=\"none\" stroke=\"black\" stroke-width=\"2\" stroke-dasharray=\"3,3\"/> <circle cx=\"332\" cy=\"259\" r=\"8\" fill=\"rgb(255,0,0)\" class=\"agent_1_1\"/><circle cx=\"364\" cy=\"92\" r=\"8\" fill=\"rgb(255,255,255)\" class=\"agent_1_8\"/><circle cx=\"239\" cy=\"67\" r=\"8\" fill=\"rgb(255,255,255)\" class=\"agent_1_16\"/><circle cx=\"93\" cy=\"190\" r=\"10\" fill=\"rgb(255,255,255)\" class=\"agent_1_19\"/><circle cx=\"365\" cy=\"161\" r=\"9\" fill=\"rgb(255,0,0)\" class=\"agent_1_43\"/><circle cx=\"128\" cy=\"167\" r=\"10\" fill=\"rgb(255,255,255)\" class=\"agent_1_58\"/><circle cx=\"64\" cy=\"341\" r=\"10\" fill=\"rgb(255,255,255)\" class=\"agent_1_64\"/></svg><svg viewBox='0 0 430 430' id=\"svg\" width=\"172\" height=\"172\"><circle cx=\"215\" cy=\"215\" r=\"205\" fill=\"none\" stroke=\"black\" stroke-width=\"2\" stroke-dasharray=\"3,3\"/> <circle cx=\"332\" cy=\"259\" r=\"8\" fill=\"rgb(255,0,0)\" class=\"agent_1_1\"/><circle cx=\"364\" cy=\"92\" r=\"8\" fill=\"rgb(255,255,255)\" class=\"agent_1_8\"/><circle cx=\"239\" cy=\"67\" r=\"8\" fill=\"rgb(255,255,255)\" class=\"agent_1_16\"/><circle cx=\"93\" cy=\"190\" r=\"10\" fill=\"rgb(255,255,255)\" class=\"agent_1_19\"/><circle cx=\"365\" cy=\"161\" r=\"9\" fill=\"rgb(255,0,0)\" class=\"agent_1_43\"/><circle cx=\"128\" cy=\"167\" r=\"10\" fill=\"rgb(255,255,255)\" class=\"agent_1_58\"/><circle cx=\"64\" cy=\"341\" r=\"10\" fill=\"rgb(255,255,255)\" class=\"agent_1_64\"/></svg><svg viewBox='0 0 430 430' id=\"svg\" width=\"172\" height=\"172\"><circle cx=\"215\" cy=\"215\" r=\"205\" fill=\"none\" stroke=\"black\" stroke-width=\"2\" stroke-dasharray=\"3,3\"/> <circle cx=\"332\" cy=\"259\" r=\"8\" fill=\"rgb(255,0,0)\" class=\"agent_1_1\"/><circle cx=\"364\" cy=\"92\" r=\"8\" fill=\"rgb(255,255,255)\" class=\"agent_1_8\"/><circle cx=\"239\" cy=\"67\" r=\"8\" fill=\"rgb(255,255,255)\" class=\"agent_1_16\"/><circle cx=\"93\" cy=\"190\" r=\"10\" fill=\"rgb(255,255,255)\" class=\"agent_1_19\"/><circle cx=\"365\" cy=\"161\" r=\"9\" fill=\"rgb(255,0,0)\" class=\"agent_1_43\"/><circle cx=\"128\" cy=\"167\" r=\"10\" fill=\"rgb(255,255,255)\" class=\"agent_1_58\"/><circle cx=\"64\" cy=\"341\" r=\"10\" fill=\"rgb(255,255,255)\" class=\"agent_1_64\"/></svg></div>"
      ],
      "text/plain": [
       "<IPython.core.display.HTML object>"
      ]
     },
     "metadata": {},
     "output_type": "display_data"
    },
    {
     "name": "stdout",
     "output_type": "stream",
     "text": [
      "to_mention_true\n"
     ]
    },
    {
     "data": {
      "text/html": [
       "<div style=\"white-space: nowrap\"><svg viewbox='0 0 430 430' width=\"172\" height=\"172\" id=\"agent_1\"><circle cx=\"215\" cy=\"215\" r=\"205\" fill=\"none\" stroke=\"black\" stroke-width=\"2\" stroke-dasharray=\"3,3\"/><circle cx=\"332\" cy=\"259\" r=\"8\" fill=\"rgb(77,77,77)\"/><circle cx=\"364\" cy=\"92\" r=\"8\" fill=\"rgb(127,127,127)\"/><circle cx=\"239\" cy=\"67\" r=\"8\" fill=\"rgb(105,105,105)\"/><circle cx=\"93\" cy=\"190\" r=\"10\" fill=\"rgb(181,181,181)\"/><circle cx=\"365\" cy=\"161\" r=\"9\" fill=\"rgb(62,62,62)\"/><circle cx=\"128\" cy=\"167\" r=\"10\" fill=\"rgb(171,171,171)\"/><circle cx=\"64\" cy=\"341\" r=\"10\" fill=\"rgb(196,196,196)\"/></svg><svg viewBox='0 0 430 430' id=\"svg\" width=\"172\" height=\"172\"><circle cx=\"215\" cy=\"215\" r=\"205\" fill=\"none\" stroke=\"black\" stroke-width=\"2\" stroke-dasharray=\"3,3\"/> <circle cx=\"332\" cy=\"259\" r=\"8\" fill=\"rgb(255,255,255)\" class=\"agent_1_1\"/><circle cx=\"364\" cy=\"92\" r=\"8\" fill=\"rgb(255,255,255)\" class=\"agent_1_8\"/><circle cx=\"239\" cy=\"67\" r=\"8\" fill=\"rgb(255,255,255)\" class=\"agent_1_16\"/><circle cx=\"93\" cy=\"190\" r=\"10\" fill=\"rgb(255,255,255)\" class=\"agent_1_19\"/><circle cx=\"365\" cy=\"161\" r=\"9\" fill=\"rgb(255,255,255)\" class=\"agent_1_43\"/><circle cx=\"128\" cy=\"167\" r=\"10\" fill=\"rgb(255,255,255)\" class=\"agent_1_58\"/><circle cx=\"64\" cy=\"341\" r=\"10\" fill=\"rgb(255,0,0)\" class=\"agent_1_64\"/></svg></div>"
      ],
      "text/plain": [
       "<IPython.core.display.HTML object>"
      ]
     },
     "metadata": {},
     "output_type": "display_data"
    },
    {
     "name": "stdout",
     "output_type": "stream",
     "text": [
      "beam 0\tyes , and it is a little larger and light grey <eos>\n",
      "greedy\tyes , and it is a little larger and light grey <eos>\n",
      "human\ti have a really light circle touching the dotted line bottom left <eos>\n",
      "refs_pred\n"
     ]
    },
    {
     "data": {
      "text/html": [
       "<div style=\"white-space: nowrap\"><svg viewbox='0 0 430 430' width=\"172\" height=\"172\" id=\"agent_1\"><circle cx=\"215\" cy=\"215\" r=\"205\" fill=\"none\" stroke=\"black\" stroke-width=\"2\" stroke-dasharray=\"3,3\"/><circle cx=\"332\" cy=\"259\" r=\"8\" fill=\"rgb(77,77,77)\"/><circle cx=\"364\" cy=\"92\" r=\"8\" fill=\"rgb(127,127,127)\"/><circle cx=\"239\" cy=\"67\" r=\"8\" fill=\"rgb(105,105,105)\"/><circle cx=\"93\" cy=\"190\" r=\"10\" fill=\"rgb(181,181,181)\"/><circle cx=\"365\" cy=\"161\" r=\"9\" fill=\"rgb(62,62,62)\"/><circle cx=\"128\" cy=\"167\" r=\"10\" fill=\"rgb(171,171,171)\"/><circle cx=\"64\" cy=\"341\" r=\"10\" fill=\"rgb(196,196,196)\"/></svg><svg viewBox='0 0 430 430' id=\"svg\" width=\"172\" height=\"172\"><circle cx=\"215\" cy=\"215\" r=\"205\" fill=\"none\" stroke=\"black\" stroke-width=\"2\" stroke-dasharray=\"3,3\"/> <circle cx=\"332\" cy=\"259\" r=\"8\" fill=\"rgb(255,255,255)\" class=\"agent_1_1\"/><circle cx=\"364\" cy=\"92\" r=\"8\" fill=\"rgb(255,255,255)\" class=\"agent_1_8\"/><circle cx=\"239\" cy=\"67\" r=\"8\" fill=\"rgb(255,255,255)\" class=\"agent_1_16\"/><circle cx=\"93\" cy=\"190\" r=\"10\" fill=\"rgb(255,255,255)\" class=\"agent_1_19\"/><circle cx=\"365\" cy=\"161\" r=\"9\" fill=\"rgb(255,255,255)\" class=\"agent_1_43\"/><circle cx=\"128\" cy=\"167\" r=\"10\" fill=\"rgb(255,255,255)\" class=\"agent_1_58\"/><circle cx=\"64\" cy=\"341\" r=\"10\" fill=\"rgb(255,0,0)\" class=\"agent_1_64\"/></svg></div>"
      ],
      "text/plain": [
       "<IPython.core.display.HTML object>"
      ]
     },
     "metadata": {},
     "output_type": "display_data"
    },
    {
     "name": "stdout",
     "output_type": "stream",
     "text": [
      "refs_true\n"
     ]
    },
    {
     "data": {
      "text/html": [
       "<div style=\"white-space: nowrap\"><svg viewbox='0 0 430 430' width=\"172\" height=\"172\" id=\"agent_1\"><circle cx=\"215\" cy=\"215\" r=\"205\" fill=\"none\" stroke=\"black\" stroke-width=\"2\" stroke-dasharray=\"3,3\"/><circle cx=\"332\" cy=\"259\" r=\"8\" fill=\"rgb(77,77,77)\"/><circle cx=\"364\" cy=\"92\" r=\"8\" fill=\"rgb(127,127,127)\"/><circle cx=\"239\" cy=\"67\" r=\"8\" fill=\"rgb(105,105,105)\"/><circle cx=\"93\" cy=\"190\" r=\"10\" fill=\"rgb(181,181,181)\"/><circle cx=\"365\" cy=\"161\" r=\"9\" fill=\"rgb(62,62,62)\"/><circle cx=\"128\" cy=\"167\" r=\"10\" fill=\"rgb(171,171,171)\"/><circle cx=\"64\" cy=\"341\" r=\"10\" fill=\"rgb(196,196,196)\"/></svg><svg viewBox='0 0 430 430' id=\"svg\" width=\"172\" height=\"172\"><circle cx=\"215\" cy=\"215\" r=\"205\" fill=\"none\" stroke=\"black\" stroke-width=\"2\" stroke-dasharray=\"3,3\"/> <circle cx=\"332\" cy=\"259\" r=\"8\" fill=\"rgb(255,255,255)\" class=\"agent_1_1\"/><circle cx=\"364\" cy=\"92\" r=\"8\" fill=\"rgb(255,255,255)\" class=\"agent_1_8\"/><circle cx=\"239\" cy=\"67\" r=\"8\" fill=\"rgb(255,255,255)\" class=\"agent_1_16\"/><circle cx=\"93\" cy=\"190\" r=\"10\" fill=\"rgb(255,255,255)\" class=\"agent_1_19\"/><circle cx=\"365\" cy=\"161\" r=\"9\" fill=\"rgb(255,255,255)\" class=\"agent_1_43\"/><circle cx=\"128\" cy=\"167\" r=\"10\" fill=\"rgb(255,255,255)\" class=\"agent_1_58\"/><circle cx=\"64\" cy=\"341\" r=\"10\" fill=\"rgb(255,0,0)\" class=\"agent_1_64\"/></svg></div>"
      ],
      "text/plain": [
       "<IPython.core.display.HTML object>"
      ]
     },
     "metadata": {},
     "output_type": "display_data"
    },
    {
     "name": "stdout",
     "output_type": "stream",
     "text": [
      "utt: i have a really light circle touching the dotted line bottom left <eos>\n",
      "detected markables:\n",
      "({'start': 10, 'end': 31, 'is_self': True, 'text': 'a really light circle'}, (3, 6, 7))\n",
      "\n",
      "----------------------------------------\n",
      "\n",
      "human\tTHEM: is it up and to the left from a large slightly darker dot <eos>\n",
      "partner_refs_pred\n"
     ]
    },
    {
     "data": {
      "text/html": [
       "<div style=\"white-space: nowrap\"><svg viewbox='0 0 430 430' width=\"172\" height=\"172\" id=\"agent_1\"><circle cx=\"215\" cy=\"215\" r=\"205\" fill=\"none\" stroke=\"black\" stroke-width=\"2\" stroke-dasharray=\"3,3\"/><circle cx=\"332\" cy=\"259\" r=\"8\" fill=\"rgb(77,77,77)\"/><circle cx=\"364\" cy=\"92\" r=\"8\" fill=\"rgb(127,127,127)\"/><circle cx=\"239\" cy=\"67\" r=\"8\" fill=\"rgb(105,105,105)\"/><circle cx=\"93\" cy=\"190\" r=\"10\" fill=\"rgb(181,181,181)\"/><circle cx=\"365\" cy=\"161\" r=\"9\" fill=\"rgb(62,62,62)\"/><circle cx=\"128\" cy=\"167\" r=\"10\" fill=\"rgb(171,171,171)\"/><circle cx=\"64\" cy=\"341\" r=\"10\" fill=\"rgb(196,196,196)\"/></svg><svg viewBox='0 0 430 430' id=\"svg\" width=\"172\" height=\"172\"><circle cx=\"215\" cy=\"215\" r=\"205\" fill=\"none\" stroke=\"black\" stroke-width=\"2\" stroke-dasharray=\"3,3\"/> <circle cx=\"332\" cy=\"259\" r=\"8\" fill=\"rgb(255,255,255)\" class=\"agent_1_1\"/><circle cx=\"364\" cy=\"92\" r=\"8\" fill=\"rgb(255,255,255)\" class=\"agent_1_8\"/><circle cx=\"239\" cy=\"67\" r=\"8\" fill=\"rgb(255,255,255)\" class=\"agent_1_16\"/><circle cx=\"93\" cy=\"190\" r=\"10\" fill=\"rgb(255,0,0)\" class=\"agent_1_19\"/><circle cx=\"365\" cy=\"161\" r=\"9\" fill=\"rgb(255,255,255)\" class=\"agent_1_43\"/><circle cx=\"128\" cy=\"167\" r=\"10\" fill=\"rgb(255,255,255)\" class=\"agent_1_58\"/><circle cx=\"64\" cy=\"341\" r=\"10\" fill=\"rgb(255,255,255)\" class=\"agent_1_64\"/></svg><svg viewBox='0 0 430 430' id=\"svg\" width=\"172\" height=\"172\"><circle cx=\"215\" cy=\"215\" r=\"205\" fill=\"none\" stroke=\"black\" stroke-width=\"2\" stroke-dasharray=\"3,3\"/> <circle cx=\"332\" cy=\"259\" r=\"8\" fill=\"rgb(255,255,255)\" class=\"agent_1_1\"/><circle cx=\"364\" cy=\"92\" r=\"8\" fill=\"rgb(255,255,255)\" class=\"agent_1_8\"/><circle cx=\"239\" cy=\"67\" r=\"8\" fill=\"rgb(255,255,255)\" class=\"agent_1_16\"/><circle cx=\"93\" cy=\"190\" r=\"10\" fill=\"rgb(255,255,255)\" class=\"agent_1_19\"/><circle cx=\"365\" cy=\"161\" r=\"9\" fill=\"rgb(255,255,255)\" class=\"agent_1_43\"/><circle cx=\"128\" cy=\"167\" r=\"10\" fill=\"rgb(255,0,0)\" class=\"agent_1_58\"/><circle cx=\"64\" cy=\"341\" r=\"10\" fill=\"rgb(255,255,255)\" class=\"agent_1_64\"/></svg></div>"
      ],
      "text/plain": [
       "<IPython.core.display.HTML object>"
      ]
     },
     "metadata": {},
     "output_type": "display_data"
    },
    {
     "name": "stdout",
     "output_type": "stream",
     "text": [
      "partner_refs_true\n"
     ]
    },
    {
     "data": {
      "text/html": [
       "<div style=\"white-space: nowrap\"><svg viewbox='0 0 430 430' width=\"172\" height=\"172\" id=\"agent_1\"><circle cx=\"215\" cy=\"215\" r=\"205\" fill=\"none\" stroke=\"black\" stroke-width=\"2\" stroke-dasharray=\"3,3\"/><circle cx=\"332\" cy=\"259\" r=\"8\" fill=\"rgb(77,77,77)\"/><circle cx=\"364\" cy=\"92\" r=\"8\" fill=\"rgb(127,127,127)\"/><circle cx=\"239\" cy=\"67\" r=\"8\" fill=\"rgb(105,105,105)\"/><circle cx=\"93\" cy=\"190\" r=\"10\" fill=\"rgb(181,181,181)\"/><circle cx=\"365\" cy=\"161\" r=\"9\" fill=\"rgb(62,62,62)\"/><circle cx=\"128\" cy=\"167\" r=\"10\" fill=\"rgb(171,171,171)\"/><circle cx=\"64\" cy=\"341\" r=\"10\" fill=\"rgb(196,196,196)\"/></svg><svg viewBox='0 0 430 430' id=\"svg\" width=\"172\" height=\"172\"><circle cx=\"215\" cy=\"215\" r=\"205\" fill=\"none\" stroke=\"black\" stroke-width=\"2\" stroke-dasharray=\"3,3\"/> <circle cx=\"332\" cy=\"259\" r=\"8\" fill=\"rgb(255,255,255)\" class=\"agent_1_1\"/><circle cx=\"364\" cy=\"92\" r=\"8\" fill=\"rgb(255,255,255)\" class=\"agent_1_8\"/><circle cx=\"239\" cy=\"67\" r=\"8\" fill=\"rgb(255,255,255)\" class=\"agent_1_16\"/><circle cx=\"93\" cy=\"190\" r=\"10\" fill=\"rgb(255,255,255)\" class=\"agent_1_19\"/><circle cx=\"365\" cy=\"161\" r=\"9\" fill=\"rgb(255,255,255)\" class=\"agent_1_43\"/><circle cx=\"128\" cy=\"167\" r=\"10\" fill=\"rgb(255,255,255)\" class=\"agent_1_58\"/><circle cx=\"64\" cy=\"341\" r=\"10\" fill=\"rgb(255,0,0)\" class=\"agent_1_64\"/></svg><svg viewBox='0 0 430 430' id=\"svg\" width=\"172\" height=\"172\"><circle cx=\"215\" cy=\"215\" r=\"205\" fill=\"none\" stroke=\"black\" stroke-width=\"2\" stroke-dasharray=\"3,3\"/> <circle cx=\"332\" cy=\"259\" r=\"8\" fill=\"rgb(255,255,255)\" class=\"agent_1_1\"/><circle cx=\"364\" cy=\"92\" r=\"8\" fill=\"rgb(255,255,255)\" class=\"agent_1_8\"/><circle cx=\"239\" cy=\"67\" r=\"8\" fill=\"rgb(255,255,255)\" class=\"agent_1_16\"/><circle cx=\"93\" cy=\"190\" r=\"10\" fill=\"rgb(255,255,255)\" class=\"agent_1_19\"/><circle cx=\"365\" cy=\"161\" r=\"9\" fill=\"rgb(255,255,255)\" class=\"agent_1_43\"/><circle cx=\"128\" cy=\"167\" r=\"10\" fill=\"rgb(255,255,255)\" class=\"agent_1_58\"/><circle cx=\"64\" cy=\"341\" r=\"10\" fill=\"rgb(255,255,255)\" class=\"agent_1_64\"/></svg></div>"
      ],
      "text/plain": [
       "<IPython.core.display.HTML object>"
      ]
     },
     "metadata": {},
     "output_type": "display_data"
    },
    {
     "name": "stdout",
     "output_type": "stream",
     "text": [
      "utt: is it up and to the left from a large slightly darker dot <eos>\n",
      "detected markables:\n",
      "({'start': 6, 'end': 8, 'is_self': True, 'text': 'it'}, (2, 2, 3))\n",
      "({'start': 33, 'end': 60, 'is_self': True, 'text': 'a large slightly darker dot'}, (9, 13, 14))\n",
      "\n",
      "----------------------------------------\n",
      "\n",
      "empty to_mention_pred\n",
      "to_mention_true\n"
     ]
    },
    {
     "data": {
      "text/html": [
       "<div style=\"white-space: nowrap\"><svg viewbox='0 0 430 430' width=\"172\" height=\"172\" id=\"agent_1\"><circle cx=\"215\" cy=\"215\" r=\"205\" fill=\"none\" stroke=\"black\" stroke-width=\"2\" stroke-dasharray=\"3,3\"/><circle cx=\"332\" cy=\"259\" r=\"8\" fill=\"rgb(77,77,77)\"/><circle cx=\"364\" cy=\"92\" r=\"8\" fill=\"rgb(127,127,127)\"/><circle cx=\"239\" cy=\"67\" r=\"8\" fill=\"rgb(105,105,105)\"/><circle cx=\"93\" cy=\"190\" r=\"10\" fill=\"rgb(181,181,181)\"/><circle cx=\"365\" cy=\"161\" r=\"9\" fill=\"rgb(62,62,62)\"/><circle cx=\"128\" cy=\"167\" r=\"10\" fill=\"rgb(171,171,171)\"/><circle cx=\"64\" cy=\"341\" r=\"10\" fill=\"rgb(196,196,196)\"/></svg><svg viewBox='0 0 430 430' id=\"svg\" width=\"172\" height=\"172\"><circle cx=\"215\" cy=\"215\" r=\"205\" fill=\"none\" stroke=\"black\" stroke-width=\"2\" stroke-dasharray=\"3,3\"/> <circle cx=\"332\" cy=\"259\" r=\"8\" fill=\"rgb(255,255,255)\" class=\"agent_1_1\"/><circle cx=\"364\" cy=\"92\" r=\"8\" fill=\"rgb(255,255,255)\" class=\"agent_1_8\"/><circle cx=\"239\" cy=\"67\" r=\"8\" fill=\"rgb(255,255,255)\" class=\"agent_1_16\"/><circle cx=\"93\" cy=\"190\" r=\"10\" fill=\"rgb(255,255,255)\" class=\"agent_1_19\"/><circle cx=\"365\" cy=\"161\" r=\"9\" fill=\"rgb(255,0,0)\" class=\"agent_1_43\"/><circle cx=\"128\" cy=\"167\" r=\"10\" fill=\"rgb(255,255,255)\" class=\"agent_1_58\"/><circle cx=\"64\" cy=\"341\" r=\"10\" fill=\"rgb(255,255,255)\" class=\"agent_1_64\"/></svg></div>"
      ],
      "text/plain": [
       "<IPython.core.display.HTML object>"
      ]
     },
     "metadata": {},
     "output_type": "display_data"
    },
    {
     "name": "stdout",
     "output_type": "stream",
     "text": [
      "beam 0\tyes , let 's pick the black one <eos>\n",
      "greedy\tyes , let 's pick the black one <eos>\n",
      "human\tno , is the really dark circle around 3 oclock ? <eos>\n",
      "refs_pred\n"
     ]
    },
    {
     "data": {
      "text/html": [
       "<div style=\"white-space: nowrap\"><svg viewbox='0 0 430 430' width=\"172\" height=\"172\" id=\"agent_1\"><circle cx=\"215\" cy=\"215\" r=\"205\" fill=\"none\" stroke=\"black\" stroke-width=\"2\" stroke-dasharray=\"3,3\"/><circle cx=\"332\" cy=\"259\" r=\"8\" fill=\"rgb(77,77,77)\"/><circle cx=\"364\" cy=\"92\" r=\"8\" fill=\"rgb(127,127,127)\"/><circle cx=\"239\" cy=\"67\" r=\"8\" fill=\"rgb(105,105,105)\"/><circle cx=\"93\" cy=\"190\" r=\"10\" fill=\"rgb(181,181,181)\"/><circle cx=\"365\" cy=\"161\" r=\"9\" fill=\"rgb(62,62,62)\"/><circle cx=\"128\" cy=\"167\" r=\"10\" fill=\"rgb(171,171,171)\"/><circle cx=\"64\" cy=\"341\" r=\"10\" fill=\"rgb(196,196,196)\"/></svg><svg viewBox='0 0 430 430' id=\"svg\" width=\"172\" height=\"172\"><circle cx=\"215\" cy=\"215\" r=\"205\" fill=\"none\" stroke=\"black\" stroke-width=\"2\" stroke-dasharray=\"3,3\"/> <circle cx=\"332\" cy=\"259\" r=\"8\" fill=\"rgb(255,255,255)\" class=\"agent_1_1\"/><circle cx=\"364\" cy=\"92\" r=\"8\" fill=\"rgb(255,255,255)\" class=\"agent_1_8\"/><circle cx=\"239\" cy=\"67\" r=\"8\" fill=\"rgb(255,255,255)\" class=\"agent_1_16\"/><circle cx=\"93\" cy=\"190\" r=\"10\" fill=\"rgb(255,255,255)\" class=\"agent_1_19\"/><circle cx=\"365\" cy=\"161\" r=\"9\" fill=\"rgb(255,0,0)\" class=\"agent_1_43\"/><circle cx=\"128\" cy=\"167\" r=\"10\" fill=\"rgb(255,255,255)\" class=\"agent_1_58\"/><circle cx=\"64\" cy=\"341\" r=\"10\" fill=\"rgb(255,255,255)\" class=\"agent_1_64\"/></svg></div>"
      ],
      "text/plain": [
       "<IPython.core.display.HTML object>"
      ]
     },
     "metadata": {},
     "output_type": "display_data"
    },
    {
     "name": "stdout",
     "output_type": "stream",
     "text": [
      "refs_true\n"
     ]
    },
    {
     "data": {
      "text/html": [
       "<div style=\"white-space: nowrap\"><svg viewbox='0 0 430 430' width=\"172\" height=\"172\" id=\"agent_1\"><circle cx=\"215\" cy=\"215\" r=\"205\" fill=\"none\" stroke=\"black\" stroke-width=\"2\" stroke-dasharray=\"3,3\"/><circle cx=\"332\" cy=\"259\" r=\"8\" fill=\"rgb(77,77,77)\"/><circle cx=\"364\" cy=\"92\" r=\"8\" fill=\"rgb(127,127,127)\"/><circle cx=\"239\" cy=\"67\" r=\"8\" fill=\"rgb(105,105,105)\"/><circle cx=\"93\" cy=\"190\" r=\"10\" fill=\"rgb(181,181,181)\"/><circle cx=\"365\" cy=\"161\" r=\"9\" fill=\"rgb(62,62,62)\"/><circle cx=\"128\" cy=\"167\" r=\"10\" fill=\"rgb(171,171,171)\"/><circle cx=\"64\" cy=\"341\" r=\"10\" fill=\"rgb(196,196,196)\"/></svg><svg viewBox='0 0 430 430' id=\"svg\" width=\"172\" height=\"172\"><circle cx=\"215\" cy=\"215\" r=\"205\" fill=\"none\" stroke=\"black\" stroke-width=\"2\" stroke-dasharray=\"3,3\"/> <circle cx=\"332\" cy=\"259\" r=\"8\" fill=\"rgb(255,255,255)\" class=\"agent_1_1\"/><circle cx=\"364\" cy=\"92\" r=\"8\" fill=\"rgb(255,255,255)\" class=\"agent_1_8\"/><circle cx=\"239\" cy=\"67\" r=\"8\" fill=\"rgb(255,255,255)\" class=\"agent_1_16\"/><circle cx=\"93\" cy=\"190\" r=\"10\" fill=\"rgb(255,255,255)\" class=\"agent_1_19\"/><circle cx=\"365\" cy=\"161\" r=\"9\" fill=\"rgb(255,0,0)\" class=\"agent_1_43\"/><circle cx=\"128\" cy=\"167\" r=\"10\" fill=\"rgb(255,255,255)\" class=\"agent_1_58\"/><circle cx=\"64\" cy=\"341\" r=\"10\" fill=\"rgb(255,255,255)\" class=\"agent_1_64\"/></svg></div>"
      ],
      "text/plain": [
       "<IPython.core.display.HTML object>"
      ]
     },
     "metadata": {},
     "output_type": "display_data"
    },
    {
     "name": "stdout",
     "output_type": "stream",
     "text": [
      "utt: no , is the really dark circle around 3 oclock ? <eos>\n",
      "detected markables:\n",
      "({'start': 11, 'end': 33, 'is_self': True, 'text': 'the really dark circle'}, (4, 7, 8))\n",
      "\n",
      "----------------------------------------\n",
      "\n",
      "human\tTHEM: no - <unk> question - do you have two large dots <unk> together <eos>\n",
      "partner_refs_pred\n"
     ]
    },
    {
     "data": {
      "text/html": [
       "<div style=\"white-space: nowrap\"><svg viewbox='0 0 430 430' width=\"172\" height=\"172\" id=\"agent_1\"><circle cx=\"215\" cy=\"215\" r=\"205\" fill=\"none\" stroke=\"black\" stroke-width=\"2\" stroke-dasharray=\"3,3\"/><circle cx=\"332\" cy=\"259\" r=\"8\" fill=\"rgb(77,77,77)\"/><circle cx=\"364\" cy=\"92\" r=\"8\" fill=\"rgb(127,127,127)\"/><circle cx=\"239\" cy=\"67\" r=\"8\" fill=\"rgb(105,105,105)\"/><circle cx=\"93\" cy=\"190\" r=\"10\" fill=\"rgb(181,181,181)\"/><circle cx=\"365\" cy=\"161\" r=\"9\" fill=\"rgb(62,62,62)\"/><circle cx=\"128\" cy=\"167\" r=\"10\" fill=\"rgb(171,171,171)\"/><circle cx=\"64\" cy=\"341\" r=\"10\" fill=\"rgb(196,196,196)\"/></svg><svg viewBox='0 0 430 430' id=\"svg\" width=\"172\" height=\"172\"><circle cx=\"215\" cy=\"215\" r=\"205\" fill=\"none\" stroke=\"black\" stroke-width=\"2\" stroke-dasharray=\"3,3\"/> <circle cx=\"332\" cy=\"259\" r=\"8\" fill=\"rgb(255,255,255)\" class=\"agent_1_1\"/><circle cx=\"364\" cy=\"92\" r=\"8\" fill=\"rgb(255,255,255)\" class=\"agent_1_8\"/><circle cx=\"239\" cy=\"67\" r=\"8\" fill=\"rgb(255,255,255)\" class=\"agent_1_16\"/><circle cx=\"93\" cy=\"190\" r=\"10\" fill=\"rgb(255,0,0)\" class=\"agent_1_19\"/><circle cx=\"365\" cy=\"161\" r=\"9\" fill=\"rgb(255,255,255)\" class=\"agent_1_43\"/><circle cx=\"128\" cy=\"167\" r=\"10\" fill=\"rgb(255,0,0)\" class=\"agent_1_58\"/><circle cx=\"64\" cy=\"341\" r=\"10\" fill=\"rgb(255,255,255)\" class=\"agent_1_64\"/></svg></div>"
      ],
      "text/plain": [
       "<IPython.core.display.HTML object>"
      ]
     },
     "metadata": {},
     "output_type": "display_data"
    },
    {
     "name": "stdout",
     "output_type": "stream",
     "text": [
      "partner_refs_true\n"
     ]
    },
    {
     "data": {
      "text/html": [
       "<div style=\"white-space: nowrap\"><svg viewbox='0 0 430 430' width=\"172\" height=\"172\" id=\"agent_1\"><circle cx=\"215\" cy=\"215\" r=\"205\" fill=\"none\" stroke=\"black\" stroke-width=\"2\" stroke-dasharray=\"3,3\"/><circle cx=\"332\" cy=\"259\" r=\"8\" fill=\"rgb(77,77,77)\"/><circle cx=\"364\" cy=\"92\" r=\"8\" fill=\"rgb(127,127,127)\"/><circle cx=\"239\" cy=\"67\" r=\"8\" fill=\"rgb(105,105,105)\"/><circle cx=\"93\" cy=\"190\" r=\"10\" fill=\"rgb(181,181,181)\"/><circle cx=\"365\" cy=\"161\" r=\"9\" fill=\"rgb(62,62,62)\"/><circle cx=\"128\" cy=\"167\" r=\"10\" fill=\"rgb(171,171,171)\"/><circle cx=\"64\" cy=\"341\" r=\"10\" fill=\"rgb(196,196,196)\"/></svg><svg viewBox='0 0 430 430' id=\"svg\" width=\"172\" height=\"172\"><circle cx=\"215\" cy=\"215\" r=\"205\" fill=\"none\" stroke=\"black\" stroke-width=\"2\" stroke-dasharray=\"3,3\"/> <circle cx=\"332\" cy=\"259\" r=\"8\" fill=\"rgb(255,255,255)\" class=\"agent_1_1\"/><circle cx=\"364\" cy=\"92\" r=\"8\" fill=\"rgb(255,255,255)\" class=\"agent_1_8\"/><circle cx=\"239\" cy=\"67\" r=\"8\" fill=\"rgb(255,255,255)\" class=\"agent_1_16\"/><circle cx=\"93\" cy=\"190\" r=\"10\" fill=\"rgb(255,0,0)\" class=\"agent_1_19\"/><circle cx=\"365\" cy=\"161\" r=\"9\" fill=\"rgb(255,255,255)\" class=\"agent_1_43\"/><circle cx=\"128\" cy=\"167\" r=\"10\" fill=\"rgb(255,0,0)\" class=\"agent_1_58\"/><circle cx=\"64\" cy=\"341\" r=\"10\" fill=\"rgb(255,255,255)\" class=\"agent_1_64\"/></svg></div>"
      ],
      "text/plain": [
       "<IPython.core.display.HTML object>"
      ]
     },
     "metadata": {},
     "output_type": "display_data"
    },
    {
     "name": "stdout",
     "output_type": "stream",
     "text": [
      "utt: no - <unk> question - do you have two large dots <unk> together <eos>\n",
      "detected markables:\n",
      "({'start': 37, 'end': 51, 'is_self': True, 'text': 'two large dots'}, (9, 11, 12))\n",
      "\n",
      "----------------------------------------\n",
      "\n",
      "to_mention_pred\n"
     ]
    },
    {
     "data": {
      "text/html": [
       "<div style=\"white-space: nowrap\"><svg viewbox='0 0 430 430' width=\"172\" height=\"172\" id=\"agent_1\"><circle cx=\"215\" cy=\"215\" r=\"205\" fill=\"none\" stroke=\"black\" stroke-width=\"2\" stroke-dasharray=\"3,3\"/><circle cx=\"332\" cy=\"259\" r=\"8\" fill=\"rgb(77,77,77)\"/><circle cx=\"364\" cy=\"92\" r=\"8\" fill=\"rgb(127,127,127)\"/><circle cx=\"239\" cy=\"67\" r=\"8\" fill=\"rgb(105,105,105)\"/><circle cx=\"93\" cy=\"190\" r=\"10\" fill=\"rgb(181,181,181)\"/><circle cx=\"365\" cy=\"161\" r=\"9\" fill=\"rgb(62,62,62)\"/><circle cx=\"128\" cy=\"167\" r=\"10\" fill=\"rgb(171,171,171)\"/><circle cx=\"64\" cy=\"341\" r=\"10\" fill=\"rgb(196,196,196)\"/></svg><svg viewBox='0 0 430 430' id=\"svg\" width=\"172\" height=\"172\"><circle cx=\"215\" cy=\"215\" r=\"205\" fill=\"none\" stroke=\"black\" stroke-width=\"2\" stroke-dasharray=\"3,3\"/> <circle cx=\"332\" cy=\"259\" r=\"8\" fill=\"rgb(255,255,255)\" class=\"agent_1_1\"/><circle cx=\"364\" cy=\"92\" r=\"8\" fill=\"rgb(255,255,255)\" class=\"agent_1_8\"/><circle cx=\"239\" cy=\"67\" r=\"8\" fill=\"rgb(255,255,255)\" class=\"agent_1_16\"/><circle cx=\"93\" cy=\"190\" r=\"10\" fill=\"rgb(255,0,0)\" class=\"agent_1_19\"/><circle cx=\"365\" cy=\"161\" r=\"9\" fill=\"rgb(255,255,255)\" class=\"agent_1_43\"/><circle cx=\"128\" cy=\"167\" r=\"10\" fill=\"rgb(255,0,0)\" class=\"agent_1_58\"/><circle cx=\"64\" cy=\"341\" r=\"10\" fill=\"rgb(255,255,255)\" class=\"agent_1_64\"/></svg></div>"
      ],
      "text/plain": [
       "<IPython.core.display.HTML object>"
      ]
     },
     "metadata": {},
     "output_type": "display_data"
    },
    {
     "name": "stdout",
     "output_type": "stream",
     "text": [
      "to_mention_true\n"
     ]
    },
    {
     "data": {
      "text/html": [
       "<div style=\"white-space: nowrap\"><svg viewbox='0 0 430 430' width=\"172\" height=\"172\" id=\"agent_1\"><circle cx=\"215\" cy=\"215\" r=\"205\" fill=\"none\" stroke=\"black\" stroke-width=\"2\" stroke-dasharray=\"3,3\"/><circle cx=\"332\" cy=\"259\" r=\"8\" fill=\"rgb(77,77,77)\"/><circle cx=\"364\" cy=\"92\" r=\"8\" fill=\"rgb(127,127,127)\"/><circle cx=\"239\" cy=\"67\" r=\"8\" fill=\"rgb(105,105,105)\"/><circle cx=\"93\" cy=\"190\" r=\"10\" fill=\"rgb(181,181,181)\"/><circle cx=\"365\" cy=\"161\" r=\"9\" fill=\"rgb(62,62,62)\"/><circle cx=\"128\" cy=\"167\" r=\"10\" fill=\"rgb(171,171,171)\"/><circle cx=\"64\" cy=\"341\" r=\"10\" fill=\"rgb(196,196,196)\"/></svg><svg viewBox='0 0 430 430' id=\"svg\" width=\"172\" height=\"172\"><circle cx=\"215\" cy=\"215\" r=\"205\" fill=\"none\" stroke=\"black\" stroke-width=\"2\" stroke-dasharray=\"3,3\"/> <circle cx=\"332\" cy=\"259\" r=\"8\" fill=\"rgb(255,255,255)\" class=\"agent_1_1\"/><circle cx=\"364\" cy=\"92\" r=\"8\" fill=\"rgb(255,255,255)\" class=\"agent_1_8\"/><circle cx=\"239\" cy=\"67\" r=\"8\" fill=\"rgb(255,255,255)\" class=\"agent_1_16\"/><circle cx=\"93\" cy=\"190\" r=\"10\" fill=\"rgb(255,0,0)\" class=\"agent_1_19\"/><circle cx=\"365\" cy=\"161\" r=\"9\" fill=\"rgb(255,255,255)\" class=\"agent_1_43\"/><circle cx=\"128\" cy=\"167\" r=\"10\" fill=\"rgb(255,0,0)\" class=\"agent_1_58\"/><circle cx=\"64\" cy=\"341\" r=\"10\" fill=\"rgb(255,255,255)\" class=\"agent_1_64\"/></svg></div>"
      ],
      "text/plain": [
       "<IPython.core.display.HTML object>"
      ]
     },
     "metadata": {},
     "output_type": "display_data"
    },
    {
     "name": "stdout",
     "output_type": "stream",
     "text": [
      "beam 0\ti have two light grey dots <eos>\n",
      "greedy\ti have two light grey dots <eos>\n",
      "human\ti do , are the light ? <eos>\n",
      "refs_pred\n"
     ]
    },
    {
     "data": {
      "text/html": [
       "<div style=\"white-space: nowrap\"><svg viewbox='0 0 430 430' width=\"172\" height=\"172\" id=\"agent_1\"><circle cx=\"215\" cy=\"215\" r=\"205\" fill=\"none\" stroke=\"black\" stroke-width=\"2\" stroke-dasharray=\"3,3\"/><circle cx=\"332\" cy=\"259\" r=\"8\" fill=\"rgb(77,77,77)\"/><circle cx=\"364\" cy=\"92\" r=\"8\" fill=\"rgb(127,127,127)\"/><circle cx=\"239\" cy=\"67\" r=\"8\" fill=\"rgb(105,105,105)\"/><circle cx=\"93\" cy=\"190\" r=\"10\" fill=\"rgb(181,181,181)\"/><circle cx=\"365\" cy=\"161\" r=\"9\" fill=\"rgb(62,62,62)\"/><circle cx=\"128\" cy=\"167\" r=\"10\" fill=\"rgb(171,171,171)\"/><circle cx=\"64\" cy=\"341\" r=\"10\" fill=\"rgb(196,196,196)\"/></svg><svg viewBox='0 0 430 430' id=\"svg\" width=\"172\" height=\"172\"><circle cx=\"215\" cy=\"215\" r=\"205\" fill=\"none\" stroke=\"black\" stroke-width=\"2\" stroke-dasharray=\"3,3\"/> <circle cx=\"332\" cy=\"259\" r=\"8\" fill=\"rgb(255,255,255)\" class=\"agent_1_1\"/><circle cx=\"364\" cy=\"92\" r=\"8\" fill=\"rgb(255,255,255)\" class=\"agent_1_8\"/><circle cx=\"239\" cy=\"67\" r=\"8\" fill=\"rgb(255,255,255)\" class=\"agent_1_16\"/><circle cx=\"93\" cy=\"190\" r=\"10\" fill=\"rgb(255,0,0)\" class=\"agent_1_19\"/><circle cx=\"365\" cy=\"161\" r=\"9\" fill=\"rgb(255,255,255)\" class=\"agent_1_43\"/><circle cx=\"128\" cy=\"167\" r=\"10\" fill=\"rgb(255,255,255)\" class=\"agent_1_58\"/><circle cx=\"64\" cy=\"341\" r=\"10\" fill=\"rgb(255,255,255)\" class=\"agent_1_64\"/></svg></div>"
      ],
      "text/plain": [
       "<IPython.core.display.HTML object>"
      ]
     },
     "metadata": {},
     "output_type": "display_data"
    },
    {
     "name": "stdout",
     "output_type": "stream",
     "text": [
      "refs_true\n"
     ]
    },
    {
     "data": {
      "text/html": [
       "<div style=\"white-space: nowrap\"><svg viewbox='0 0 430 430' width=\"172\" height=\"172\" id=\"agent_1\"><circle cx=\"215\" cy=\"215\" r=\"205\" fill=\"none\" stroke=\"black\" stroke-width=\"2\" stroke-dasharray=\"3,3\"/><circle cx=\"332\" cy=\"259\" r=\"8\" fill=\"rgb(77,77,77)\"/><circle cx=\"364\" cy=\"92\" r=\"8\" fill=\"rgb(127,127,127)\"/><circle cx=\"239\" cy=\"67\" r=\"8\" fill=\"rgb(105,105,105)\"/><circle cx=\"93\" cy=\"190\" r=\"10\" fill=\"rgb(181,181,181)\"/><circle cx=\"365\" cy=\"161\" r=\"9\" fill=\"rgb(62,62,62)\"/><circle cx=\"128\" cy=\"167\" r=\"10\" fill=\"rgb(171,171,171)\"/><circle cx=\"64\" cy=\"341\" r=\"10\" fill=\"rgb(196,196,196)\"/></svg><svg viewBox='0 0 430 430' id=\"svg\" width=\"172\" height=\"172\"><circle cx=\"215\" cy=\"215\" r=\"205\" fill=\"none\" stroke=\"black\" stroke-width=\"2\" stroke-dasharray=\"3,3\"/> <circle cx=\"332\" cy=\"259\" r=\"8\" fill=\"rgb(255,255,255)\" class=\"agent_1_1\"/><circle cx=\"364\" cy=\"92\" r=\"8\" fill=\"rgb(255,255,255)\" class=\"agent_1_8\"/><circle cx=\"239\" cy=\"67\" r=\"8\" fill=\"rgb(255,255,255)\" class=\"agent_1_16\"/><circle cx=\"93\" cy=\"190\" r=\"10\" fill=\"rgb(255,0,0)\" class=\"agent_1_19\"/><circle cx=\"365\" cy=\"161\" r=\"9\" fill=\"rgb(255,255,255)\" class=\"agent_1_43\"/><circle cx=\"128\" cy=\"167\" r=\"10\" fill=\"rgb(255,0,0)\" class=\"agent_1_58\"/><circle cx=\"64\" cy=\"341\" r=\"10\" fill=\"rgb(255,255,255)\" class=\"agent_1_64\"/></svg></div>"
      ],
      "text/plain": [
       "<IPython.core.display.HTML object>"
      ]
     },
     "metadata": {},
     "output_type": "display_data"
    },
    {
     "name": "stdout",
     "output_type": "stream",
     "text": [
      "utt: i do , are the light ? <eos>\n",
      "detected markables:\n",
      "\n",
      "----------------------------------------\n",
      "\n",
      "human\tTHEM: yes toward the upper left in my view <eos>\n",
      "utt: yes toward the upper left in my view <eos>\n",
      "detected markables:\n",
      "\n",
      "----------------------------------------\n",
      "\n",
      "beam 0\twhich one do you want to choose ? <eos>\n",
      "greedy\twhich one do you want to choose ? <eos>\n",
      "human\tare hey just above the top half ? <eos>\n",
      "utt: are hey just above the top half ? <eos>\n",
      "detected markables:\n",
      "\n",
      "----------------------------------------\n",
      "\n",
      "human\tTHEM: yes - i think i will select one of those dots - sound good ? <eos>\n",
      "partner_refs_pred\n"
     ]
    },
    {
     "data": {
      "text/html": [
       "<div style=\"white-space: nowrap\"><svg viewbox='0 0 430 430' width=\"172\" height=\"172\" id=\"agent_1\"><circle cx=\"215\" cy=\"215\" r=\"205\" fill=\"none\" stroke=\"black\" stroke-width=\"2\" stroke-dasharray=\"3,3\"/><circle cx=\"332\" cy=\"259\" r=\"8\" fill=\"rgb(77,77,77)\"/><circle cx=\"364\" cy=\"92\" r=\"8\" fill=\"rgb(127,127,127)\"/><circle cx=\"239\" cy=\"67\" r=\"8\" fill=\"rgb(105,105,105)\"/><circle cx=\"93\" cy=\"190\" r=\"10\" fill=\"rgb(181,181,181)\"/><circle cx=\"365\" cy=\"161\" r=\"9\" fill=\"rgb(62,62,62)\"/><circle cx=\"128\" cy=\"167\" r=\"10\" fill=\"rgb(171,171,171)\"/><circle cx=\"64\" cy=\"341\" r=\"10\" fill=\"rgb(196,196,196)\"/></svg><svg viewBox='0 0 430 430' id=\"svg\" width=\"172\" height=\"172\"><circle cx=\"215\" cy=\"215\" r=\"205\" fill=\"none\" stroke=\"black\" stroke-width=\"2\" stroke-dasharray=\"3,3\"/> <circle cx=\"332\" cy=\"259\" r=\"8\" fill=\"rgb(255,255,255)\" class=\"agent_1_1\"/><circle cx=\"364\" cy=\"92\" r=\"8\" fill=\"rgb(255,255,255)\" class=\"agent_1_8\"/><circle cx=\"239\" cy=\"67\" r=\"8\" fill=\"rgb(255,255,255)\" class=\"agent_1_16\"/><circle cx=\"93\" cy=\"190\" r=\"10\" fill=\"rgb(255,0,0)\" class=\"agent_1_19\"/><circle cx=\"365\" cy=\"161\" r=\"9\" fill=\"rgb(255,255,255)\" class=\"agent_1_43\"/><circle cx=\"128\" cy=\"167\" r=\"10\" fill=\"rgb(255,0,0)\" class=\"agent_1_58\"/><circle cx=\"64\" cy=\"341\" r=\"10\" fill=\"rgb(255,255,255)\" class=\"agent_1_64\"/></svg></div>"
      ],
      "text/plain": [
       "<IPython.core.display.HTML object>"
      ]
     },
     "metadata": {},
     "output_type": "display_data"
    },
    {
     "name": "stdout",
     "output_type": "stream",
     "text": [
      "partner_refs_true\n"
     ]
    },
    {
     "data": {
      "text/html": [
       "<div style=\"white-space: nowrap\"><svg viewbox='0 0 430 430' width=\"172\" height=\"172\" id=\"agent_1\"><circle cx=\"215\" cy=\"215\" r=\"205\" fill=\"none\" stroke=\"black\" stroke-width=\"2\" stroke-dasharray=\"3,3\"/><circle cx=\"332\" cy=\"259\" r=\"8\" fill=\"rgb(77,77,77)\"/><circle cx=\"364\" cy=\"92\" r=\"8\" fill=\"rgb(127,127,127)\"/><circle cx=\"239\" cy=\"67\" r=\"8\" fill=\"rgb(105,105,105)\"/><circle cx=\"93\" cy=\"190\" r=\"10\" fill=\"rgb(181,181,181)\"/><circle cx=\"365\" cy=\"161\" r=\"9\" fill=\"rgb(62,62,62)\"/><circle cx=\"128\" cy=\"167\" r=\"10\" fill=\"rgb(171,171,171)\"/><circle cx=\"64\" cy=\"341\" r=\"10\" fill=\"rgb(196,196,196)\"/></svg><svg viewBox='0 0 430 430' id=\"svg\" width=\"172\" height=\"172\"><circle cx=\"215\" cy=\"215\" r=\"205\" fill=\"none\" stroke=\"black\" stroke-width=\"2\" stroke-dasharray=\"3,3\"/> <circle cx=\"332\" cy=\"259\" r=\"8\" fill=\"rgb(255,255,255)\" class=\"agent_1_1\"/><circle cx=\"364\" cy=\"92\" r=\"8\" fill=\"rgb(255,255,255)\" class=\"agent_1_8\"/><circle cx=\"239\" cy=\"67\" r=\"8\" fill=\"rgb(255,255,255)\" class=\"agent_1_16\"/><circle cx=\"93\" cy=\"190\" r=\"10\" fill=\"rgb(255,0,0)\" class=\"agent_1_19\"/><circle cx=\"365\" cy=\"161\" r=\"9\" fill=\"rgb(255,255,255)\" class=\"agent_1_43\"/><circle cx=\"128\" cy=\"167\" r=\"10\" fill=\"rgb(255,0,0)\" class=\"agent_1_58\"/><circle cx=\"64\" cy=\"341\" r=\"10\" fill=\"rgb(255,255,255)\" class=\"agent_1_64\"/></svg></div>"
      ],
      "text/plain": [
       "<IPython.core.display.HTML object>"
      ]
     },
     "metadata": {},
     "output_type": "display_data"
    },
    {
     "name": "stdout",
     "output_type": "stream",
     "text": [
      "utt: yes - i think i will select one of those dots - sound good ? <eos>\n",
      "detected markables:\n",
      "({'start': 31, 'end': 48, 'is_self': True, 'text': 'one of those dots'}, (8, 11, 12))\n",
      "\n",
      "----------------------------------------\n",
      "\n",
      "empty to_mention_pred\n",
      "to_mention_true\n"
     ]
    },
    {
     "data": {
      "text/html": [
       "<div style=\"white-space: nowrap\"><svg viewbox='0 0 430 430' width=\"172\" height=\"172\" id=\"agent_1\"><circle cx=\"215\" cy=\"215\" r=\"205\" fill=\"none\" stroke=\"black\" stroke-width=\"2\" stroke-dasharray=\"3,3\"/><circle cx=\"332\" cy=\"259\" r=\"8\" fill=\"rgb(77,77,77)\"/><circle cx=\"364\" cy=\"92\" r=\"8\" fill=\"rgb(127,127,127)\"/><circle cx=\"239\" cy=\"67\" r=\"8\" fill=\"rgb(105,105,105)\"/><circle cx=\"93\" cy=\"190\" r=\"10\" fill=\"rgb(181,181,181)\"/><circle cx=\"365\" cy=\"161\" r=\"9\" fill=\"rgb(62,62,62)\"/><circle cx=\"128\" cy=\"167\" r=\"10\" fill=\"rgb(171,171,171)\"/><circle cx=\"64\" cy=\"341\" r=\"10\" fill=\"rgb(196,196,196)\"/></svg><svg viewBox='0 0 430 430' id=\"svg\" width=\"172\" height=\"172\"><circle cx=\"215\" cy=\"215\" r=\"205\" fill=\"none\" stroke=\"black\" stroke-width=\"2\" stroke-dasharray=\"3,3\"/> <circle cx=\"332\" cy=\"259\" r=\"8\" fill=\"rgb(255,255,255)\" class=\"agent_1_1\"/><circle cx=\"364\" cy=\"92\" r=\"8\" fill=\"rgb(255,255,255)\" class=\"agent_1_8\"/><circle cx=\"239\" cy=\"67\" r=\"8\" fill=\"rgb(255,255,255)\" class=\"agent_1_16\"/><circle cx=\"93\" cy=\"190\" r=\"10\" fill=\"rgb(255,0,0)\" class=\"agent_1_19\"/><circle cx=\"365\" cy=\"161\" r=\"9\" fill=\"rgb(255,255,255)\" class=\"agent_1_43\"/><circle cx=\"128\" cy=\"167\" r=\"10\" fill=\"rgb(255,255,255)\" class=\"agent_1_58\"/><circle cx=\"64\" cy=\"341\" r=\"10\" fill=\"rgb(255,255,255)\" class=\"agent_1_64\"/></svg></div>"
      ],
      "text/plain": [
       "<IPython.core.display.HTML object>"
      ]
     },
     "metadata": {},
     "output_type": "display_data"
    },
    {
     "name": "stdout",
     "output_type": "stream",
     "text": [
      "beam 0\tyes , i will pick that one <selection>\n",
      "greedy\tyes , i will pick that one <selection>\n",
      "human\tselect the bottom one <eos>\n",
      "refs_pred\n"
     ]
    },
    {
     "data": {
      "text/html": [
       "<div style=\"white-space: nowrap\"><svg viewbox='0 0 430 430' width=\"172\" height=\"172\" id=\"agent_1\"><circle cx=\"215\" cy=\"215\" r=\"205\" fill=\"none\" stroke=\"black\" stroke-width=\"2\" stroke-dasharray=\"3,3\"/><circle cx=\"332\" cy=\"259\" r=\"8\" fill=\"rgb(77,77,77)\"/><circle cx=\"364\" cy=\"92\" r=\"8\" fill=\"rgb(127,127,127)\"/><circle cx=\"239\" cy=\"67\" r=\"8\" fill=\"rgb(105,105,105)\"/><circle cx=\"93\" cy=\"190\" r=\"10\" fill=\"rgb(181,181,181)\"/><circle cx=\"365\" cy=\"161\" r=\"9\" fill=\"rgb(62,62,62)\"/><circle cx=\"128\" cy=\"167\" r=\"10\" fill=\"rgb(171,171,171)\"/><circle cx=\"64\" cy=\"341\" r=\"10\" fill=\"rgb(196,196,196)\"/></svg><svg viewBox='0 0 430 430' id=\"svg\" width=\"172\" height=\"172\"><circle cx=\"215\" cy=\"215\" r=\"205\" fill=\"none\" stroke=\"black\" stroke-width=\"2\" stroke-dasharray=\"3,3\"/> <circle cx=\"332\" cy=\"259\" r=\"8\" fill=\"rgb(255,255,255)\" class=\"agent_1_1\"/><circle cx=\"364\" cy=\"92\" r=\"8\" fill=\"rgb(255,255,255)\" class=\"agent_1_8\"/><circle cx=\"239\" cy=\"67\" r=\"8\" fill=\"rgb(255,255,255)\" class=\"agent_1_16\"/><circle cx=\"93\" cy=\"190\" r=\"10\" fill=\"rgb(255,0,0)\" class=\"agent_1_19\"/><circle cx=\"365\" cy=\"161\" r=\"9\" fill=\"rgb(255,255,255)\" class=\"agent_1_43\"/><circle cx=\"128\" cy=\"167\" r=\"10\" fill=\"rgb(255,255,255)\" class=\"agent_1_58\"/><circle cx=\"64\" cy=\"341\" r=\"10\" fill=\"rgb(255,255,255)\" class=\"agent_1_64\"/></svg></div>"
      ],
      "text/plain": [
       "<IPython.core.display.HTML object>"
      ]
     },
     "metadata": {},
     "output_type": "display_data"
    },
    {
     "name": "stdout",
     "output_type": "stream",
     "text": [
      "refs_true\n"
     ]
    },
    {
     "data": {
      "text/html": [
       "<div style=\"white-space: nowrap\"><svg viewbox='0 0 430 430' width=\"172\" height=\"172\" id=\"agent_1\"><circle cx=\"215\" cy=\"215\" r=\"205\" fill=\"none\" stroke=\"black\" stroke-width=\"2\" stroke-dasharray=\"3,3\"/><circle cx=\"332\" cy=\"259\" r=\"8\" fill=\"rgb(77,77,77)\"/><circle cx=\"364\" cy=\"92\" r=\"8\" fill=\"rgb(127,127,127)\"/><circle cx=\"239\" cy=\"67\" r=\"8\" fill=\"rgb(105,105,105)\"/><circle cx=\"93\" cy=\"190\" r=\"10\" fill=\"rgb(181,181,181)\"/><circle cx=\"365\" cy=\"161\" r=\"9\" fill=\"rgb(62,62,62)\"/><circle cx=\"128\" cy=\"167\" r=\"10\" fill=\"rgb(171,171,171)\"/><circle cx=\"64\" cy=\"341\" r=\"10\" fill=\"rgb(196,196,196)\"/></svg><svg viewBox='0 0 430 430' id=\"svg\" width=\"172\" height=\"172\"><circle cx=\"215\" cy=\"215\" r=\"205\" fill=\"none\" stroke=\"black\" stroke-width=\"2\" stroke-dasharray=\"3,3\"/> <circle cx=\"332\" cy=\"259\" r=\"8\" fill=\"rgb(255,255,255)\" class=\"agent_1_1\"/><circle cx=\"364\" cy=\"92\" r=\"8\" fill=\"rgb(255,255,255)\" class=\"agent_1_8\"/><circle cx=\"239\" cy=\"67\" r=\"8\" fill=\"rgb(255,255,255)\" class=\"agent_1_16\"/><circle cx=\"93\" cy=\"190\" r=\"10\" fill=\"rgb(255,0,0)\" class=\"agent_1_19\"/><circle cx=\"365\" cy=\"161\" r=\"9\" fill=\"rgb(255,255,255)\" class=\"agent_1_43\"/><circle cx=\"128\" cy=\"167\" r=\"10\" fill=\"rgb(255,255,255)\" class=\"agent_1_58\"/><circle cx=\"64\" cy=\"341\" r=\"10\" fill=\"rgb(255,255,255)\" class=\"agent_1_64\"/></svg></div>"
      ],
      "text/plain": [
       "<IPython.core.display.HTML object>"
      ]
     },
     "metadata": {},
     "output_type": "display_data"
    },
    {
     "name": "stdout",
     "output_type": "stream",
     "text": [
      "utt: select the bottom one <eos>\n",
      "detected markables:\n",
      "({'start': 10, 'end': 24, 'is_self': True, 'text': 'the bottom one'}, (2, 4, 5))\n",
      "\n",
      "----------------------------------------\n",
      "\n",
      "human\tTHEM: ok <selection>\n",
      "utt: ok <selection>\n",
      "detected markables:\n",
      "\n",
      "----------------------------------------\n",
      "\n",
      "sel_pred\n"
     ]
    },
    {
     "data": {
      "text/html": [
       "<div style=\"white-space: nowrap\"><svg viewbox='0 0 430 430' width=\"172\" height=\"172\" id=\"agent_1\"><circle cx=\"215\" cy=\"215\" r=\"205\" fill=\"none\" stroke=\"black\" stroke-width=\"2\" stroke-dasharray=\"3,3\"/><circle cx=\"332\" cy=\"259\" r=\"8\" fill=\"rgb(77,77,77)\"/><circle cx=\"364\" cy=\"92\" r=\"8\" fill=\"rgb(127,127,127)\"/><circle cx=\"239\" cy=\"67\" r=\"8\" fill=\"rgb(105,105,105)\"/><circle cx=\"93\" cy=\"190\" r=\"10\" fill=\"rgb(181,181,181)\"/><circle cx=\"365\" cy=\"161\" r=\"9\" fill=\"rgb(62,62,62)\"/><circle cx=\"128\" cy=\"167\" r=\"10\" fill=\"rgb(171,171,171)\"/><circle cx=\"64\" cy=\"341\" r=\"10\" fill=\"rgb(196,196,196)\"/></svg><svg viewBox='0 0 430 430' id=\"svg\" width=\"172\" height=\"172\"><circle cx=\"215\" cy=\"215\" r=\"205\" fill=\"none\" stroke=\"black\" stroke-width=\"2\" stroke-dasharray=\"3,3\"/> <circle cx=\"332\" cy=\"259\" r=\"8\" fill=\"rgb(255,254,254)\" class=\"agent_1_1\"/><circle cx=\"364\" cy=\"92\" r=\"8\" fill=\"rgb(255,254,254)\" class=\"agent_1_8\"/><circle cx=\"239\" cy=\"67\" r=\"8\" fill=\"rgb(255,254,254)\" class=\"agent_1_16\"/><circle cx=\"93\" cy=\"190\" r=\"10\" fill=\"rgb(255,120,120)\" class=\"agent_1_19\"/><circle cx=\"365\" cy=\"161\" r=\"9\" fill=\"rgb(255,254,254)\" class=\"agent_1_43\"/><circle cx=\"128\" cy=\"167\" r=\"10\" fill=\"rgb(255,117,117)\" class=\"agent_1_58\"/><circle cx=\"64\" cy=\"341\" r=\"10\" fill=\"rgb(255,225,225)\" class=\"agent_1_64\"/></svg></div>"
      ],
      "text/plain": [
       "<IPython.core.display.HTML object>"
      ]
     },
     "metadata": {},
     "output_type": "display_data"
    },
    {
     "name": "stdout",
     "output_type": "stream",
     "text": [
      "sel_true\n"
     ]
    },
    {
     "data": {
      "text/html": [
       "<div style=\"white-space: nowrap\"><svg viewbox='0 0 430 430' width=\"172\" height=\"172\" id=\"agent_1\"><circle cx=\"215\" cy=\"215\" r=\"205\" fill=\"none\" stroke=\"black\" stroke-width=\"2\" stroke-dasharray=\"3,3\"/><circle cx=\"332\" cy=\"259\" r=\"8\" fill=\"rgb(77,77,77)\"/><circle cx=\"364\" cy=\"92\" r=\"8\" fill=\"rgb(127,127,127)\"/><circle cx=\"239\" cy=\"67\" r=\"8\" fill=\"rgb(105,105,105)\"/><circle cx=\"93\" cy=\"190\" r=\"10\" fill=\"rgb(181,181,181)\"/><circle cx=\"365\" cy=\"161\" r=\"9\" fill=\"rgb(62,62,62)\"/><circle cx=\"128\" cy=\"167\" r=\"10\" fill=\"rgb(171,171,171)\"/><circle cx=\"64\" cy=\"341\" r=\"10\" fill=\"rgb(196,196,196)\"/></svg><svg viewBox='0 0 430 430' id=\"svg\" width=\"172\" height=\"172\"><circle cx=\"215\" cy=\"215\" r=\"205\" fill=\"none\" stroke=\"black\" stroke-width=\"2\" stroke-dasharray=\"3,3\"/> <circle cx=\"332\" cy=\"259\" r=\"8\" fill=\"rgb(255,255,255)\" class=\"agent_1_1\"/><circle cx=\"364\" cy=\"92\" r=\"8\" fill=\"rgb(255,255,255)\" class=\"agent_1_8\"/><circle cx=\"239\" cy=\"67\" r=\"8\" fill=\"rgb(255,255,255)\" class=\"agent_1_16\"/><circle cx=\"93\" cy=\"190\" r=\"10\" fill=\"rgb(255,0,0)\" class=\"agent_1_19\"/><circle cx=\"365\" cy=\"161\" r=\"9\" fill=\"rgb(255,255,255)\" class=\"agent_1_43\"/><circle cx=\"128\" cy=\"167\" r=\"10\" fill=\"rgb(255,255,255)\" class=\"agent_1_58\"/><circle cx=\"64\" cy=\"341\" r=\"10\" fill=\"rgb(255,255,255)\" class=\"agent_1_64\"/></svg></div>"
      ],
      "text/plain": [
       "<IPython.core.display.HTML object>"
      ]
     },
     "metadata": {},
     "output_type": "display_data"
    }
   ],
   "source": [
    "force_contexts_and_mentions(9)"
   ]
  },
  {
   "cell_type": "code",
   "execution_count": 78,
   "metadata": {
    "scrolled": false
   },
   "outputs": [
    {
     "name": "stdout",
     "output_type": "stream",
     "text": [
      "human\tTHEM: i have four clustered together . bottom right is largest and darkest <eos>\n",
      "partner_refs_pred\n"
     ]
    },
    {
     "data": {
      "text/html": [
       "<div style=\"white-space: nowrap\"><svg viewbox='0 0 430 430' width=\"172\" height=\"172\" id=\"agent_1\"><circle cx=\"215\" cy=\"215\" r=\"205\" fill=\"none\" stroke=\"black\" stroke-width=\"2\" stroke-dasharray=\"3,3\"/><circle cx=\"92\" cy=\"175\" r=\"9\" fill=\"rgb(131,131,131)\"/><circle cx=\"302\" cy=\"49\" r=\"11\" fill=\"rgb(175,175,175)\"/><circle cx=\"107\" cy=\"295\" r=\"12\" fill=\"rgb(96,96,96)\"/><circle cx=\"267\" cy=\"110\" r=\"7\" fill=\"rgb(128,128,128)\"/><circle cx=\"334\" cy=\"133\" r=\"12\" fill=\"rgb(80,80,80)\"/><circle cx=\"139\" cy=\"197\" r=\"12\" fill=\"rgb(135,135,135)\"/><circle cx=\"138\" cy=\"363\" r=\"13\" fill=\"rgb(71,71,71)\"/></svg><svg viewBox='0 0 430 430' id=\"svg\" width=\"172\" height=\"172\"><circle cx=\"215\" cy=\"215\" r=\"205\" fill=\"none\" stroke=\"black\" stroke-width=\"2\" stroke-dasharray=\"3,3\"/> <circle cx=\"92\" cy=\"175\" r=\"9\" fill=\"rgb(255,255,255)\" class=\"agent_1_11\"/><circle cx=\"302\" cy=\"49\" r=\"11\" fill=\"rgb(255,0,0)\" class=\"agent_1_26\"/><circle cx=\"107\" cy=\"295\" r=\"12\" fill=\"rgb(255,255,255)\" class=\"agent_1_49\"/><circle cx=\"267\" cy=\"110\" r=\"7\" fill=\"rgb(255,0,0)\" class=\"agent_1_55\"/><circle cx=\"334\" cy=\"133\" r=\"12\" fill=\"rgb(255,0,0)\" class=\"agent_1_69\"/><circle cx=\"139\" cy=\"197\" r=\"12\" fill=\"rgb(255,255,255)\" class=\"agent_1_72\"/><circle cx=\"138\" cy=\"363\" r=\"13\" fill=\"rgb(255,255,255)\" class=\"agent_1_79\"/></svg><svg viewBox='0 0 430 430' id=\"svg\" width=\"172\" height=\"172\"><circle cx=\"215\" cy=\"215\" r=\"205\" fill=\"none\" stroke=\"black\" stroke-width=\"2\" stroke-dasharray=\"3,3\"/> <circle cx=\"92\" cy=\"175\" r=\"9\" fill=\"rgb(255,255,255)\" class=\"agent_1_11\"/><circle cx=\"302\" cy=\"49\" r=\"11\" fill=\"rgb(255,255,255)\" class=\"agent_1_26\"/><circle cx=\"107\" cy=\"295\" r=\"12\" fill=\"rgb(255,255,255)\" class=\"agent_1_49\"/><circle cx=\"267\" cy=\"110\" r=\"7\" fill=\"rgb(255,255,255)\" class=\"agent_1_55\"/><circle cx=\"334\" cy=\"133\" r=\"12\" fill=\"rgb(255,0,0)\" class=\"agent_1_69\"/><circle cx=\"139\" cy=\"197\" r=\"12\" fill=\"rgb(255,255,255)\" class=\"agent_1_72\"/><circle cx=\"138\" cy=\"363\" r=\"13\" fill=\"rgb(255,255,255)\" class=\"agent_1_79\"/></svg></div>"
      ],
      "text/plain": [
       "<IPython.core.display.HTML object>"
      ]
     },
     "metadata": {},
     "output_type": "display_data"
    },
    {
     "name": "stdout",
     "output_type": "stream",
     "text": [
      "partner_refs_true\n"
     ]
    },
    {
     "data": {
      "text/html": [
       "<div style=\"white-space: nowrap\"><svg viewbox='0 0 430 430' width=\"172\" height=\"172\" id=\"agent_1\"><circle cx=\"215\" cy=\"215\" r=\"205\" fill=\"none\" stroke=\"black\" stroke-width=\"2\" stroke-dasharray=\"3,3\"/><circle cx=\"92\" cy=\"175\" r=\"9\" fill=\"rgb(131,131,131)\"/><circle cx=\"302\" cy=\"49\" r=\"11\" fill=\"rgb(175,175,175)\"/><circle cx=\"107\" cy=\"295\" r=\"12\" fill=\"rgb(96,96,96)\"/><circle cx=\"267\" cy=\"110\" r=\"7\" fill=\"rgb(128,128,128)\"/><circle cx=\"334\" cy=\"133\" r=\"12\" fill=\"rgb(80,80,80)\"/><circle cx=\"139\" cy=\"197\" r=\"12\" fill=\"rgb(135,135,135)\"/><circle cx=\"138\" cy=\"363\" r=\"13\" fill=\"rgb(71,71,71)\"/></svg><svg viewBox='0 0 430 430' id=\"svg\" width=\"172\" height=\"172\"><circle cx=\"215\" cy=\"215\" r=\"205\" fill=\"none\" stroke=\"black\" stroke-width=\"2\" stroke-dasharray=\"3,3\"/> <circle cx=\"92\" cy=\"175\" r=\"9\" fill=\"rgb(255,255,255)\" class=\"agent_1_11\"/><circle cx=\"302\" cy=\"49\" r=\"11\" fill=\"rgb(255,0,0)\" class=\"agent_1_26\"/><circle cx=\"107\" cy=\"295\" r=\"12\" fill=\"rgb(255,255,255)\" class=\"agent_1_49\"/><circle cx=\"267\" cy=\"110\" r=\"7\" fill=\"rgb(255,0,0)\" class=\"agent_1_55\"/><circle cx=\"334\" cy=\"133\" r=\"12\" fill=\"rgb(255,0,0)\" class=\"agent_1_69\"/><circle cx=\"139\" cy=\"197\" r=\"12\" fill=\"rgb(255,255,255)\" class=\"agent_1_72\"/><circle cx=\"138\" cy=\"363\" r=\"13\" fill=\"rgb(255,255,255)\" class=\"agent_1_79\"/></svg><svg viewBox='0 0 430 430' id=\"svg\" width=\"172\" height=\"172\"><circle cx=\"215\" cy=\"215\" r=\"205\" fill=\"none\" stroke=\"black\" stroke-width=\"2\" stroke-dasharray=\"3,3\"/> <circle cx=\"92\" cy=\"175\" r=\"9\" fill=\"rgb(255,255,255)\" class=\"agent_1_11\"/><circle cx=\"302\" cy=\"49\" r=\"11\" fill=\"rgb(255,255,255)\" class=\"agent_1_26\"/><circle cx=\"107\" cy=\"295\" r=\"12\" fill=\"rgb(255,255,255)\" class=\"agent_1_49\"/><circle cx=\"267\" cy=\"110\" r=\"7\" fill=\"rgb(255,255,255)\" class=\"agent_1_55\"/><circle cx=\"334\" cy=\"133\" r=\"12\" fill=\"rgb(255,0,0)\" class=\"agent_1_69\"/><circle cx=\"139\" cy=\"197\" r=\"12\" fill=\"rgb(255,255,255)\" class=\"agent_1_72\"/><circle cx=\"138\" cy=\"363\" r=\"13\" fill=\"rgb(255,255,255)\" class=\"agent_1_79\"/></svg></div>"
      ],
      "text/plain": [
       "<IPython.core.display.HTML object>"
      ]
     },
     "metadata": {},
     "output_type": "display_data"
    },
    {
     "name": "stdout",
     "output_type": "stream",
     "text": [
      "utt: i have four clustered together . bottom right is largest and darkest <eos>\n",
      "detected markables:\n",
      "({'start': 10, 'end': 14, 'is_self': True, 'text': 'four'}, (3, 3, 4))\n",
      "({'start': 36, 'end': 48, 'is_self': True, 'text': 'bottom right'}, (7, 8, 9))\n",
      "\n",
      "----------------------------------------\n",
      "\n",
      "to_mention_pred\n"
     ]
    },
    {
     "data": {
      "text/html": [
       "<div style=\"white-space: nowrap\"><svg viewbox='0 0 430 430' width=\"172\" height=\"172\" id=\"agent_1\"><circle cx=\"215\" cy=\"215\" r=\"205\" fill=\"none\" stroke=\"black\" stroke-width=\"2\" stroke-dasharray=\"3,3\"/><circle cx=\"92\" cy=\"175\" r=\"9\" fill=\"rgb(131,131,131)\"/><circle cx=\"302\" cy=\"49\" r=\"11\" fill=\"rgb(175,175,175)\"/><circle cx=\"107\" cy=\"295\" r=\"12\" fill=\"rgb(96,96,96)\"/><circle cx=\"267\" cy=\"110\" r=\"7\" fill=\"rgb(128,128,128)\"/><circle cx=\"334\" cy=\"133\" r=\"12\" fill=\"rgb(80,80,80)\"/><circle cx=\"139\" cy=\"197\" r=\"12\" fill=\"rgb(135,135,135)\"/><circle cx=\"138\" cy=\"363\" r=\"13\" fill=\"rgb(71,71,71)\"/></svg><svg viewBox='0 0 430 430' id=\"svg\" width=\"172\" height=\"172\"><circle cx=\"215\" cy=\"215\" r=\"205\" fill=\"none\" stroke=\"black\" stroke-width=\"2\" stroke-dasharray=\"3,3\"/> <circle cx=\"92\" cy=\"175\" r=\"9\" fill=\"rgb(255,255,255)\" class=\"agent_1_11\"/><circle cx=\"302\" cy=\"49\" r=\"11\" fill=\"rgb(255,255,255)\" class=\"agent_1_26\"/><circle cx=\"107\" cy=\"295\" r=\"12\" fill=\"rgb(255,255,255)\" class=\"agent_1_49\"/><circle cx=\"267\" cy=\"110\" r=\"7\" fill=\"rgb(255,255,255)\" class=\"agent_1_55\"/><circle cx=\"334\" cy=\"133\" r=\"12\" fill=\"rgb(255,255,255)\" class=\"agent_1_69\"/><circle cx=\"139\" cy=\"197\" r=\"12\" fill=\"rgb(255,255,255)\" class=\"agent_1_72\"/><circle cx=\"138\" cy=\"363\" r=\"13\" fill=\"rgb(255,255,255)\" class=\"agent_1_79\"/></svg></div>"
      ],
      "text/plain": [
       "<IPython.core.display.HTML object>"
      ]
     },
     "metadata": {},
     "output_type": "display_data"
    },
    {
     "name": "stdout",
     "output_type": "stream",
     "text": [
      "to_mention_true\n"
     ]
    },
    {
     "data": {
      "text/html": [
       "<div style=\"white-space: nowrap\"><svg viewbox='0 0 430 430' width=\"172\" height=\"172\" id=\"agent_1\"><circle cx=\"215\" cy=\"215\" r=\"205\" fill=\"none\" stroke=\"black\" stroke-width=\"2\" stroke-dasharray=\"3,3\"/><circle cx=\"92\" cy=\"175\" r=\"9\" fill=\"rgb(131,131,131)\"/><circle cx=\"302\" cy=\"49\" r=\"11\" fill=\"rgb(175,175,175)\"/><circle cx=\"107\" cy=\"295\" r=\"12\" fill=\"rgb(96,96,96)\"/><circle cx=\"267\" cy=\"110\" r=\"7\" fill=\"rgb(128,128,128)\"/><circle cx=\"334\" cy=\"133\" r=\"12\" fill=\"rgb(80,80,80)\"/><circle cx=\"139\" cy=\"197\" r=\"12\" fill=\"rgb(135,135,135)\"/><circle cx=\"138\" cy=\"363\" r=\"13\" fill=\"rgb(71,71,71)\"/></svg><svg viewBox='0 0 430 430' id=\"svg\" width=\"172\" height=\"172\"><circle cx=\"215\" cy=\"215\" r=\"205\" fill=\"none\" stroke=\"black\" stroke-width=\"2\" stroke-dasharray=\"3,3\"/> <circle cx=\"92\" cy=\"175\" r=\"9\" fill=\"rgb(255,255,255)\" class=\"agent_1_11\"/><circle cx=\"302\" cy=\"49\" r=\"11\" fill=\"rgb(255,0,0)\" class=\"agent_1_26\"/><circle cx=\"107\" cy=\"295\" r=\"12\" fill=\"rgb(255,255,255)\" class=\"agent_1_49\"/><circle cx=\"267\" cy=\"110\" r=\"7\" fill=\"rgb(255,0,0)\" class=\"agent_1_55\"/><circle cx=\"334\" cy=\"133\" r=\"12\" fill=\"rgb(255,0,0)\" class=\"agent_1_69\"/><circle cx=\"139\" cy=\"197\" r=\"12\" fill=\"rgb(255,255,255)\" class=\"agent_1_72\"/><circle cx=\"138\" cy=\"363\" r=\"13\" fill=\"rgb(255,255,255)\" class=\"agent_1_79\"/></svg><svg viewBox='0 0 430 430' id=\"svg\" width=\"172\" height=\"172\"><circle cx=\"215\" cy=\"215\" r=\"205\" fill=\"none\" stroke=\"black\" stroke-width=\"2\" stroke-dasharray=\"3,3\"/> <circle cx=\"92\" cy=\"175\" r=\"9\" fill=\"rgb(255,255,255)\" class=\"agent_1_11\"/><circle cx=\"302\" cy=\"49\" r=\"11\" fill=\"rgb(255,255,255)\" class=\"agent_1_26\"/><circle cx=\"107\" cy=\"295\" r=\"12\" fill=\"rgb(255,255,255)\" class=\"agent_1_49\"/><circle cx=\"267\" cy=\"110\" r=\"7\" fill=\"rgb(255,255,255)\" class=\"agent_1_55\"/><circle cx=\"334\" cy=\"133\" r=\"12\" fill=\"rgb(255,0,0)\" class=\"agent_1_69\"/><circle cx=\"139\" cy=\"197\" r=\"12\" fill=\"rgb(255,255,255)\" class=\"agent_1_72\"/><circle cx=\"138\" cy=\"363\" r=\"13\" fill=\"rgb(255,255,255)\" class=\"agent_1_79\"/></svg><svg viewBox='0 0 430 430' id=\"svg\" width=\"172\" height=\"172\"><circle cx=\"215\" cy=\"215\" r=\"205\" fill=\"none\" stroke=\"black\" stroke-width=\"2\" stroke-dasharray=\"3,3\"/> <circle cx=\"92\" cy=\"175\" r=\"9\" fill=\"rgb(255,255,255)\" class=\"agent_1_11\"/><circle cx=\"302\" cy=\"49\" r=\"11\" fill=\"rgb(255,0,0)\" class=\"agent_1_26\"/><circle cx=\"107\" cy=\"295\" r=\"12\" fill=\"rgb(255,255,255)\" class=\"agent_1_49\"/><circle cx=\"267\" cy=\"110\" r=\"7\" fill=\"rgb(255,0,0)\" class=\"agent_1_55\"/><circle cx=\"334\" cy=\"133\" r=\"12\" fill=\"rgb(255,0,0)\" class=\"agent_1_69\"/><circle cx=\"139\" cy=\"197\" r=\"12\" fill=\"rgb(255,255,255)\" class=\"agent_1_72\"/><circle cx=\"138\" cy=\"363\" r=\"13\" fill=\"rgb(255,255,255)\" class=\"agent_1_79\"/></svg><svg viewBox='0 0 430 430' id=\"svg\" width=\"172\" height=\"172\"><circle cx=\"215\" cy=\"215\" r=\"205\" fill=\"none\" stroke=\"black\" stroke-width=\"2\" stroke-dasharray=\"3,3\"/> <circle cx=\"92\" cy=\"175\" r=\"9\" fill=\"rgb(255,255,255)\" class=\"agent_1_11\"/><circle cx=\"302\" cy=\"49\" r=\"11\" fill=\"rgb(255,255,255)\" class=\"agent_1_26\"/><circle cx=\"107\" cy=\"295\" r=\"12\" fill=\"rgb(255,255,255)\" class=\"agent_1_49\"/><circle cx=\"267\" cy=\"110\" r=\"7\" fill=\"rgb(255,255,255)\" class=\"agent_1_55\"/><circle cx=\"334\" cy=\"133\" r=\"12\" fill=\"rgb(255,255,255)\" class=\"agent_1_69\"/><circle cx=\"139\" cy=\"197\" r=\"12\" fill=\"rgb(255,255,255)\" class=\"agent_1_72\"/><circle cx=\"138\" cy=\"363\" r=\"13\" fill=\"rgb(255,255,255)\" class=\"agent_1_79\"/></svg></div>"
      ],
      "text/plain": [
       "<IPython.core.display.HTML object>"
      ]
     },
     "metadata": {},
     "output_type": "display_data"
    },
    {
     "name": "stdout",
     "output_type": "stream",
     "text": [
      "beam 0\ti have a cluster of 3 dots . one is black and the other is light grey and the other is the darkest <eos>\n",
      "greedy\ti have a cluster of 3 dots . one is black and the other is light grey and the other is the darkest <eos>\n",
      "human\ti have three dots in a triangle , the bottom right one is large and dark -- i may have that and the top right one is out of my circle <eos>\n",
      "refs_pred\n"
     ]
    },
    {
     "data": {
      "text/html": [
       "<div style=\"white-space: nowrap\"><svg viewbox='0 0 430 430' width=\"172\" height=\"172\" id=\"agent_1\"><circle cx=\"215\" cy=\"215\" r=\"205\" fill=\"none\" stroke=\"black\" stroke-width=\"2\" stroke-dasharray=\"3,3\"/><circle cx=\"92\" cy=\"175\" r=\"9\" fill=\"rgb(131,131,131)\"/><circle cx=\"302\" cy=\"49\" r=\"11\" fill=\"rgb(175,175,175)\"/><circle cx=\"107\" cy=\"295\" r=\"12\" fill=\"rgb(96,96,96)\"/><circle cx=\"267\" cy=\"110\" r=\"7\" fill=\"rgb(128,128,128)\"/><circle cx=\"334\" cy=\"133\" r=\"12\" fill=\"rgb(80,80,80)\"/><circle cx=\"139\" cy=\"197\" r=\"12\" fill=\"rgb(135,135,135)\"/><circle cx=\"138\" cy=\"363\" r=\"13\" fill=\"rgb(71,71,71)\"/></svg><svg viewBox='0 0 430 430' id=\"svg\" width=\"172\" height=\"172\"><circle cx=\"215\" cy=\"215\" r=\"205\" fill=\"none\" stroke=\"black\" stroke-width=\"2\" stroke-dasharray=\"3,3\"/> <circle cx=\"92\" cy=\"175\" r=\"9\" fill=\"rgb(255,255,255)\" class=\"agent_1_11\"/><circle cx=\"302\" cy=\"49\" r=\"11\" fill=\"rgb(255,0,0)\" class=\"agent_1_26\"/><circle cx=\"107\" cy=\"295\" r=\"12\" fill=\"rgb(255,255,255)\" class=\"agent_1_49\"/><circle cx=\"267\" cy=\"110\" r=\"7\" fill=\"rgb(255,0,0)\" class=\"agent_1_55\"/><circle cx=\"334\" cy=\"133\" r=\"12\" fill=\"rgb(255,0,0)\" class=\"agent_1_69\"/><circle cx=\"139\" cy=\"197\" r=\"12\" fill=\"rgb(255,255,255)\" class=\"agent_1_72\"/><circle cx=\"138\" cy=\"363\" r=\"13\" fill=\"rgb(255,255,255)\" class=\"agent_1_79\"/></svg><svg viewBox='0 0 430 430' id=\"svg\" width=\"172\" height=\"172\"><circle cx=\"215\" cy=\"215\" r=\"205\" fill=\"none\" stroke=\"black\" stroke-width=\"2\" stroke-dasharray=\"3,3\"/> <circle cx=\"92\" cy=\"175\" r=\"9\" fill=\"rgb(255,255,255)\" class=\"agent_1_11\"/><circle cx=\"302\" cy=\"49\" r=\"11\" fill=\"rgb(255,255,255)\" class=\"agent_1_26\"/><circle cx=\"107\" cy=\"295\" r=\"12\" fill=\"rgb(255,255,255)\" class=\"agent_1_49\"/><circle cx=\"267\" cy=\"110\" r=\"7\" fill=\"rgb(255,255,255)\" class=\"agent_1_55\"/><circle cx=\"334\" cy=\"133\" r=\"12\" fill=\"rgb(255,0,0)\" class=\"agent_1_69\"/><circle cx=\"139\" cy=\"197\" r=\"12\" fill=\"rgb(255,255,255)\" class=\"agent_1_72\"/><circle cx=\"138\" cy=\"363\" r=\"13\" fill=\"rgb(255,255,255)\" class=\"agent_1_79\"/></svg><svg viewBox='0 0 430 430' id=\"svg\" width=\"172\" height=\"172\"><circle cx=\"215\" cy=\"215\" r=\"205\" fill=\"none\" stroke=\"black\" stroke-width=\"2\" stroke-dasharray=\"3,3\"/> <circle cx=\"92\" cy=\"175\" r=\"9\" fill=\"rgb(255,255,255)\" class=\"agent_1_11\"/><circle cx=\"302\" cy=\"49\" r=\"11\" fill=\"rgb(255,255,255)\" class=\"agent_1_26\"/><circle cx=\"107\" cy=\"295\" r=\"12\" fill=\"rgb(255,255,255)\" class=\"agent_1_49\"/><circle cx=\"267\" cy=\"110\" r=\"7\" fill=\"rgb(255,255,255)\" class=\"agent_1_55\"/><circle cx=\"334\" cy=\"133\" r=\"12\" fill=\"rgb(255,255,255)\" class=\"agent_1_69\"/><circle cx=\"139\" cy=\"197\" r=\"12\" fill=\"rgb(255,255,255)\" class=\"agent_1_72\"/><circle cx=\"138\" cy=\"363\" r=\"13\" fill=\"rgb(255,255,255)\" class=\"agent_1_79\"/></svg><svg viewBox='0 0 430 430' id=\"svg\" width=\"172\" height=\"172\"><circle cx=\"215\" cy=\"215\" r=\"205\" fill=\"none\" stroke=\"black\" stroke-width=\"2\" stroke-dasharray=\"3,3\"/> <circle cx=\"92\" cy=\"175\" r=\"9\" fill=\"rgb(255,255,255)\" class=\"agent_1_11\"/><circle cx=\"302\" cy=\"49\" r=\"11\" fill=\"rgb(255,255,255)\" class=\"agent_1_26\"/><circle cx=\"107\" cy=\"295\" r=\"12\" fill=\"rgb(255,255,255)\" class=\"agent_1_49\"/><circle cx=\"267\" cy=\"110\" r=\"7\" fill=\"rgb(255,255,255)\" class=\"agent_1_55\"/><circle cx=\"334\" cy=\"133\" r=\"12\" fill=\"rgb(255,255,255)\" class=\"agent_1_69\"/><circle cx=\"139\" cy=\"197\" r=\"12\" fill=\"rgb(255,255,255)\" class=\"agent_1_72\"/><circle cx=\"138\" cy=\"363\" r=\"13\" fill=\"rgb(255,0,0)\" class=\"agent_1_79\"/></svg></div>"
      ],
      "text/plain": [
       "<IPython.core.display.HTML object>"
      ]
     },
     "metadata": {},
     "output_type": "display_data"
    },
    {
     "name": "stdout",
     "output_type": "stream",
     "text": [
      "refs_true\n"
     ]
    },
    {
     "data": {
      "text/html": [
       "<div style=\"white-space: nowrap\"><svg viewbox='0 0 430 430' width=\"172\" height=\"172\" id=\"agent_1\"><circle cx=\"215\" cy=\"215\" r=\"205\" fill=\"none\" stroke=\"black\" stroke-width=\"2\" stroke-dasharray=\"3,3\"/><circle cx=\"92\" cy=\"175\" r=\"9\" fill=\"rgb(131,131,131)\"/><circle cx=\"302\" cy=\"49\" r=\"11\" fill=\"rgb(175,175,175)\"/><circle cx=\"107\" cy=\"295\" r=\"12\" fill=\"rgb(96,96,96)\"/><circle cx=\"267\" cy=\"110\" r=\"7\" fill=\"rgb(128,128,128)\"/><circle cx=\"334\" cy=\"133\" r=\"12\" fill=\"rgb(80,80,80)\"/><circle cx=\"139\" cy=\"197\" r=\"12\" fill=\"rgb(135,135,135)\"/><circle cx=\"138\" cy=\"363\" r=\"13\" fill=\"rgb(71,71,71)\"/></svg><svg viewBox='0 0 430 430' id=\"svg\" width=\"172\" height=\"172\"><circle cx=\"215\" cy=\"215\" r=\"205\" fill=\"none\" stroke=\"black\" stroke-width=\"2\" stroke-dasharray=\"3,3\"/> <circle cx=\"92\" cy=\"175\" r=\"9\" fill=\"rgb(255,255,255)\" class=\"agent_1_11\"/><circle cx=\"302\" cy=\"49\" r=\"11\" fill=\"rgb(255,0,0)\" class=\"agent_1_26\"/><circle cx=\"107\" cy=\"295\" r=\"12\" fill=\"rgb(255,255,255)\" class=\"agent_1_49\"/><circle cx=\"267\" cy=\"110\" r=\"7\" fill=\"rgb(255,0,0)\" class=\"agent_1_55\"/><circle cx=\"334\" cy=\"133\" r=\"12\" fill=\"rgb(255,0,0)\" class=\"agent_1_69\"/><circle cx=\"139\" cy=\"197\" r=\"12\" fill=\"rgb(255,255,255)\" class=\"agent_1_72\"/><circle cx=\"138\" cy=\"363\" r=\"13\" fill=\"rgb(255,255,255)\" class=\"agent_1_79\"/></svg><svg viewBox='0 0 430 430' id=\"svg\" width=\"172\" height=\"172\"><circle cx=\"215\" cy=\"215\" r=\"205\" fill=\"none\" stroke=\"black\" stroke-width=\"2\" stroke-dasharray=\"3,3\"/> <circle cx=\"92\" cy=\"175\" r=\"9\" fill=\"rgb(255,255,255)\" class=\"agent_1_11\"/><circle cx=\"302\" cy=\"49\" r=\"11\" fill=\"rgb(255,255,255)\" class=\"agent_1_26\"/><circle cx=\"107\" cy=\"295\" r=\"12\" fill=\"rgb(255,255,255)\" class=\"agent_1_49\"/><circle cx=\"267\" cy=\"110\" r=\"7\" fill=\"rgb(255,255,255)\" class=\"agent_1_55\"/><circle cx=\"334\" cy=\"133\" r=\"12\" fill=\"rgb(255,0,0)\" class=\"agent_1_69\"/><circle cx=\"139\" cy=\"197\" r=\"12\" fill=\"rgb(255,255,255)\" class=\"agent_1_72\"/><circle cx=\"138\" cy=\"363\" r=\"13\" fill=\"rgb(255,255,255)\" class=\"agent_1_79\"/></svg><svg viewBox='0 0 430 430' id=\"svg\" width=\"172\" height=\"172\"><circle cx=\"215\" cy=\"215\" r=\"205\" fill=\"none\" stroke=\"black\" stroke-width=\"2\" stroke-dasharray=\"3,3\"/> <circle cx=\"92\" cy=\"175\" r=\"9\" fill=\"rgb(255,255,255)\" class=\"agent_1_11\"/><circle cx=\"302\" cy=\"49\" r=\"11\" fill=\"rgb(255,0,0)\" class=\"agent_1_26\"/><circle cx=\"107\" cy=\"295\" r=\"12\" fill=\"rgb(255,255,255)\" class=\"agent_1_49\"/><circle cx=\"267\" cy=\"110\" r=\"7\" fill=\"rgb(255,0,0)\" class=\"agent_1_55\"/><circle cx=\"334\" cy=\"133\" r=\"12\" fill=\"rgb(255,0,0)\" class=\"agent_1_69\"/><circle cx=\"139\" cy=\"197\" r=\"12\" fill=\"rgb(255,255,255)\" class=\"agent_1_72\"/><circle cx=\"138\" cy=\"363\" r=\"13\" fill=\"rgb(255,255,255)\" class=\"agent_1_79\"/></svg><svg viewBox='0 0 430 430' id=\"svg\" width=\"172\" height=\"172\"><circle cx=\"215\" cy=\"215\" r=\"205\" fill=\"none\" stroke=\"black\" stroke-width=\"2\" stroke-dasharray=\"3,3\"/> <circle cx=\"92\" cy=\"175\" r=\"9\" fill=\"rgb(255,255,255)\" class=\"agent_1_11\"/><circle cx=\"302\" cy=\"49\" r=\"11\" fill=\"rgb(255,255,255)\" class=\"agent_1_26\"/><circle cx=\"107\" cy=\"295\" r=\"12\" fill=\"rgb(255,255,255)\" class=\"agent_1_49\"/><circle cx=\"267\" cy=\"110\" r=\"7\" fill=\"rgb(255,255,255)\" class=\"agent_1_55\"/><circle cx=\"334\" cy=\"133\" r=\"12\" fill=\"rgb(255,255,255)\" class=\"agent_1_69\"/><circle cx=\"139\" cy=\"197\" r=\"12\" fill=\"rgb(255,255,255)\" class=\"agent_1_72\"/><circle cx=\"138\" cy=\"363\" r=\"13\" fill=\"rgb(255,255,255)\" class=\"agent_1_79\"/></svg></div>"
      ],
      "text/plain": [
       "<IPython.core.display.HTML object>"
      ]
     },
     "metadata": {},
     "output_type": "display_data"
    },
    {
     "name": "stdout",
     "output_type": "stream",
     "text": [
      "utt: i have three dots in a triangle , the bottom right one is large and dark -- i may have that and the top right one is out of my circle <eos>\n",
      "detected markables:\n",
      "({'start': 10, 'end': 20, 'is_self': True, 'text': 'three dots'}, (3, 4, 5))\n",
      "({'start': 37, 'end': 57, 'is_self': True, 'text': 'the bottom right one'}, (9, 12, 13))\n",
      "({'start': 90, 'end': 94, 'is_self': True, 'text': 'that'}, (21, 21, 22))\n",
      "({'start': 99, 'end': 116, 'is_self': True, 'text': 'the top right one'}, (23, 26, 27))\n",
      "\n",
      "----------------------------------------\n",
      "\n",
      "human\tTHEM: ok , so your triangle is pretty flat ? the dot on the right top is larger and lighter than left top ? <eos>\n",
      "partner_refs_pred\n"
     ]
    },
    {
     "data": {
      "text/html": [
       "<div style=\"white-space: nowrap\"><svg viewbox='0 0 430 430' width=\"172\" height=\"172\" id=\"agent_1\"><circle cx=\"215\" cy=\"215\" r=\"205\" fill=\"none\" stroke=\"black\" stroke-width=\"2\" stroke-dasharray=\"3,3\"/><circle cx=\"92\" cy=\"175\" r=\"9\" fill=\"rgb(131,131,131)\"/><circle cx=\"302\" cy=\"49\" r=\"11\" fill=\"rgb(175,175,175)\"/><circle cx=\"107\" cy=\"295\" r=\"12\" fill=\"rgb(96,96,96)\"/><circle cx=\"267\" cy=\"110\" r=\"7\" fill=\"rgb(128,128,128)\"/><circle cx=\"334\" cy=\"133\" r=\"12\" fill=\"rgb(80,80,80)\"/><circle cx=\"139\" cy=\"197\" r=\"12\" fill=\"rgb(135,135,135)\"/><circle cx=\"138\" cy=\"363\" r=\"13\" fill=\"rgb(71,71,71)\"/></svg><svg viewBox='0 0 430 430' id=\"svg\" width=\"172\" height=\"172\"><circle cx=\"215\" cy=\"215\" r=\"205\" fill=\"none\" stroke=\"black\" stroke-width=\"2\" stroke-dasharray=\"3,3\"/> <circle cx=\"92\" cy=\"175\" r=\"9\" fill=\"rgb(255,255,255)\" class=\"agent_1_11\"/><circle cx=\"302\" cy=\"49\" r=\"11\" fill=\"rgb(255,0,0)\" class=\"agent_1_26\"/><circle cx=\"107\" cy=\"295\" r=\"12\" fill=\"rgb(255,255,255)\" class=\"agent_1_49\"/><circle cx=\"267\" cy=\"110\" r=\"7\" fill=\"rgb(255,0,0)\" class=\"agent_1_55\"/><circle cx=\"334\" cy=\"133\" r=\"12\" fill=\"rgb(255,0,0)\" class=\"agent_1_69\"/><circle cx=\"139\" cy=\"197\" r=\"12\" fill=\"rgb(255,255,255)\" class=\"agent_1_72\"/><circle cx=\"138\" cy=\"363\" r=\"13\" fill=\"rgb(255,255,255)\" class=\"agent_1_79\"/></svg><svg viewBox='0 0 430 430' id=\"svg\" width=\"172\" height=\"172\"><circle cx=\"215\" cy=\"215\" r=\"205\" fill=\"none\" stroke=\"black\" stroke-width=\"2\" stroke-dasharray=\"3,3\"/> <circle cx=\"92\" cy=\"175\" r=\"9\" fill=\"rgb(255,255,255)\" class=\"agent_1_11\"/><circle cx=\"302\" cy=\"49\" r=\"11\" fill=\"rgb(255,0,0)\" class=\"agent_1_26\"/><circle cx=\"107\" cy=\"295\" r=\"12\" fill=\"rgb(255,255,255)\" class=\"agent_1_49\"/><circle cx=\"267\" cy=\"110\" r=\"7\" fill=\"rgb(255,255,255)\" class=\"agent_1_55\"/><circle cx=\"334\" cy=\"133\" r=\"12\" fill=\"rgb(255,255,255)\" class=\"agent_1_69\"/><circle cx=\"139\" cy=\"197\" r=\"12\" fill=\"rgb(255,255,255)\" class=\"agent_1_72\"/><circle cx=\"138\" cy=\"363\" r=\"13\" fill=\"rgb(255,255,255)\" class=\"agent_1_79\"/></svg><svg viewBox='0 0 430 430' id=\"svg\" width=\"172\" height=\"172\"><circle cx=\"215\" cy=\"215\" r=\"205\" fill=\"none\" stroke=\"black\" stroke-width=\"2\" stroke-dasharray=\"3,3\"/> <circle cx=\"92\" cy=\"175\" r=\"9\" fill=\"rgb(255,255,255)\" class=\"agent_1_11\"/><circle cx=\"302\" cy=\"49\" r=\"11\" fill=\"rgb(255,255,255)\" class=\"agent_1_26\"/><circle cx=\"107\" cy=\"295\" r=\"12\" fill=\"rgb(255,255,255)\" class=\"agent_1_49\"/><circle cx=\"267\" cy=\"110\" r=\"7\" fill=\"rgb(255,255,255)\" class=\"agent_1_55\"/><circle cx=\"334\" cy=\"133\" r=\"12\" fill=\"rgb(255,0,0)\" class=\"agent_1_69\"/><circle cx=\"139\" cy=\"197\" r=\"12\" fill=\"rgb(255,255,255)\" class=\"agent_1_72\"/><circle cx=\"138\" cy=\"363\" r=\"13\" fill=\"rgb(255,255,255)\" class=\"agent_1_79\"/></svg></div>"
      ],
      "text/plain": [
       "<IPython.core.display.HTML object>"
      ]
     },
     "metadata": {},
     "output_type": "display_data"
    },
    {
     "name": "stdout",
     "output_type": "stream",
     "text": [
      "partner_refs_true\n"
     ]
    },
    {
     "data": {
      "text/html": [
       "<div style=\"white-space: nowrap\"><svg viewbox='0 0 430 430' width=\"172\" height=\"172\" id=\"agent_1\"><circle cx=\"215\" cy=\"215\" r=\"205\" fill=\"none\" stroke=\"black\" stroke-width=\"2\" stroke-dasharray=\"3,3\"/><circle cx=\"92\" cy=\"175\" r=\"9\" fill=\"rgb(131,131,131)\"/><circle cx=\"302\" cy=\"49\" r=\"11\" fill=\"rgb(175,175,175)\"/><circle cx=\"107\" cy=\"295\" r=\"12\" fill=\"rgb(96,96,96)\"/><circle cx=\"267\" cy=\"110\" r=\"7\" fill=\"rgb(128,128,128)\"/><circle cx=\"334\" cy=\"133\" r=\"12\" fill=\"rgb(80,80,80)\"/><circle cx=\"139\" cy=\"197\" r=\"12\" fill=\"rgb(135,135,135)\"/><circle cx=\"138\" cy=\"363\" r=\"13\" fill=\"rgb(71,71,71)\"/></svg><svg viewBox='0 0 430 430' id=\"svg\" width=\"172\" height=\"172\"><circle cx=\"215\" cy=\"215\" r=\"205\" fill=\"none\" stroke=\"black\" stroke-width=\"2\" stroke-dasharray=\"3,3\"/> <circle cx=\"92\" cy=\"175\" r=\"9\" fill=\"rgb(255,255,255)\" class=\"agent_1_11\"/><circle cx=\"302\" cy=\"49\" r=\"11\" fill=\"rgb(255,255,255)\" class=\"agent_1_26\"/><circle cx=\"107\" cy=\"295\" r=\"12\" fill=\"rgb(255,255,255)\" class=\"agent_1_49\"/><circle cx=\"267\" cy=\"110\" r=\"7\" fill=\"rgb(255,0,0)\" class=\"agent_1_55\"/><circle cx=\"334\" cy=\"133\" r=\"12\" fill=\"rgb(255,0,0)\" class=\"agent_1_69\"/><circle cx=\"139\" cy=\"197\" r=\"12\" fill=\"rgb(255,255,255)\" class=\"agent_1_72\"/><circle cx=\"138\" cy=\"363\" r=\"13\" fill=\"rgb(255,255,255)\" class=\"agent_1_79\"/></svg><svg viewBox='0 0 430 430' id=\"svg\" width=\"172\" height=\"172\"><circle cx=\"215\" cy=\"215\" r=\"205\" fill=\"none\" stroke=\"black\" stroke-width=\"2\" stroke-dasharray=\"3,3\"/> <circle cx=\"92\" cy=\"175\" r=\"9\" fill=\"rgb(255,255,255)\" class=\"agent_1_11\"/><circle cx=\"302\" cy=\"49\" r=\"11\" fill=\"rgb(255,255,255)\" class=\"agent_1_26\"/><circle cx=\"107\" cy=\"295\" r=\"12\" fill=\"rgb(255,255,255)\" class=\"agent_1_49\"/><circle cx=\"267\" cy=\"110\" r=\"7\" fill=\"rgb(255,255,255)\" class=\"agent_1_55\"/><circle cx=\"334\" cy=\"133\" r=\"12\" fill=\"rgb(255,255,255)\" class=\"agent_1_69\"/><circle cx=\"139\" cy=\"197\" r=\"12\" fill=\"rgb(255,255,255)\" class=\"agent_1_72\"/><circle cx=\"138\" cy=\"363\" r=\"13\" fill=\"rgb(255,255,255)\" class=\"agent_1_79\"/></svg><svg viewBox='0 0 430 430' id=\"svg\" width=\"172\" height=\"172\"><circle cx=\"215\" cy=\"215\" r=\"205\" fill=\"none\" stroke=\"black\" stroke-width=\"2\" stroke-dasharray=\"3,3\"/> <circle cx=\"92\" cy=\"175\" r=\"9\" fill=\"rgb(255,255,255)\" class=\"agent_1_11\"/><circle cx=\"302\" cy=\"49\" r=\"11\" fill=\"rgb(255,255,255)\" class=\"agent_1_26\"/><circle cx=\"107\" cy=\"295\" r=\"12\" fill=\"rgb(255,255,255)\" class=\"agent_1_49\"/><circle cx=\"267\" cy=\"110\" r=\"7\" fill=\"rgb(255,0,0)\" class=\"agent_1_55\"/><circle cx=\"334\" cy=\"133\" r=\"12\" fill=\"rgb(255,255,255)\" class=\"agent_1_69\"/><circle cx=\"139\" cy=\"197\" r=\"12\" fill=\"rgb(255,255,255)\" class=\"agent_1_72\"/><circle cx=\"138\" cy=\"363\" r=\"13\" fill=\"rgb(255,255,255)\" class=\"agent_1_79\"/></svg></div>"
      ],
      "text/plain": [
       "<IPython.core.display.HTML object>"
      ]
     },
     "metadata": {},
     "output_type": "display_data"
    },
    {
     "name": "stdout",
     "output_type": "stream",
     "text": [
      "utt: ok , so your triangle is pretty flat ? the dot on the right top is larger and lighter than left top ? <eos>\n",
      "detected markables:\n",
      "({'start': 11, 'end': 24, 'is_self': True, 'text': 'your triangle'}, (4, 5, 6))\n",
      "({'start': 43, 'end': 50, 'is_self': True, 'text': 'the dot'}, (10, 11, 12))\n",
      "({'start': 95, 'end': 103, 'is_self': True, 'text': 'left top'}, (21, 22, 23))\n",
      "\n",
      "----------------------------------------\n",
      "\n",
      "to_mention_pred\n"
     ]
    },
    {
     "data": {
      "text/html": [
       "<div style=\"white-space: nowrap\"><svg viewbox='0 0 430 430' width=\"172\" height=\"172\" id=\"agent_1\"><circle cx=\"215\" cy=\"215\" r=\"205\" fill=\"none\" stroke=\"black\" stroke-width=\"2\" stroke-dasharray=\"3,3\"/><circle cx=\"92\" cy=\"175\" r=\"9\" fill=\"rgb(131,131,131)\"/><circle cx=\"302\" cy=\"49\" r=\"11\" fill=\"rgb(175,175,175)\"/><circle cx=\"107\" cy=\"295\" r=\"12\" fill=\"rgb(96,96,96)\"/><circle cx=\"267\" cy=\"110\" r=\"7\" fill=\"rgb(128,128,128)\"/><circle cx=\"334\" cy=\"133\" r=\"12\" fill=\"rgb(80,80,80)\"/><circle cx=\"139\" cy=\"197\" r=\"12\" fill=\"rgb(135,135,135)\"/><circle cx=\"138\" cy=\"363\" r=\"13\" fill=\"rgb(71,71,71)\"/></svg><svg viewBox='0 0 430 430' id=\"svg\" width=\"172\" height=\"172\"><circle cx=\"215\" cy=\"215\" r=\"205\" fill=\"none\" stroke=\"black\" stroke-width=\"2\" stroke-dasharray=\"3,3\"/> <circle cx=\"92\" cy=\"175\" r=\"9\" fill=\"rgb(255,255,255)\" class=\"agent_1_11\"/><circle cx=\"302\" cy=\"49\" r=\"11\" fill=\"rgb(255,0,0)\" class=\"agent_1_26\"/><circle cx=\"107\" cy=\"295\" r=\"12\" fill=\"rgb(255,255,255)\" class=\"agent_1_49\"/><circle cx=\"267\" cy=\"110\" r=\"7\" fill=\"rgb(255,255,255)\" class=\"agent_1_55\"/><circle cx=\"334\" cy=\"133\" r=\"12\" fill=\"rgb(255,255,255)\" class=\"agent_1_69\"/><circle cx=\"139\" cy=\"197\" r=\"12\" fill=\"rgb(255,255,255)\" class=\"agent_1_72\"/><circle cx=\"138\" cy=\"363\" r=\"13\" fill=\"rgb(255,255,255)\" class=\"agent_1_79\"/></svg><svg viewBox='0 0 430 430' id=\"svg\" width=\"172\" height=\"172\"><circle cx=\"215\" cy=\"215\" r=\"205\" fill=\"none\" stroke=\"black\" stroke-width=\"2\" stroke-dasharray=\"3,3\"/> <circle cx=\"92\" cy=\"175\" r=\"9\" fill=\"rgb(255,255,255)\" class=\"agent_1_11\"/><circle cx=\"302\" cy=\"49\" r=\"11\" fill=\"rgb(255,0,0)\" class=\"agent_1_26\"/><circle cx=\"107\" cy=\"295\" r=\"12\" fill=\"rgb(255,255,255)\" class=\"agent_1_49\"/><circle cx=\"267\" cy=\"110\" r=\"7\" fill=\"rgb(255,255,255)\" class=\"agent_1_55\"/><circle cx=\"334\" cy=\"133\" r=\"12\" fill=\"rgb(255,255,255)\" class=\"agent_1_69\"/><circle cx=\"139\" cy=\"197\" r=\"12\" fill=\"rgb(255,255,255)\" class=\"agent_1_72\"/><circle cx=\"138\" cy=\"363\" r=\"13\" fill=\"rgb(255,255,255)\" class=\"agent_1_79\"/></svg><svg viewBox='0 0 430 430' id=\"svg\" width=\"172\" height=\"172\"><circle cx=\"215\" cy=\"215\" r=\"205\" fill=\"none\" stroke=\"black\" stroke-width=\"2\" stroke-dasharray=\"3,3\"/> <circle cx=\"92\" cy=\"175\" r=\"9\" fill=\"rgb(255,255,255)\" class=\"agent_1_11\"/><circle cx=\"302\" cy=\"49\" r=\"11\" fill=\"rgb(255,255,255)\" class=\"agent_1_26\"/><circle cx=\"107\" cy=\"295\" r=\"12\" fill=\"rgb(255,255,255)\" class=\"agent_1_49\"/><circle cx=\"267\" cy=\"110\" r=\"7\" fill=\"rgb(255,0,0)\" class=\"agent_1_55\"/><circle cx=\"334\" cy=\"133\" r=\"12\" fill=\"rgb(255,255,255)\" class=\"agent_1_69\"/><circle cx=\"139\" cy=\"197\" r=\"12\" fill=\"rgb(255,255,255)\" class=\"agent_1_72\"/><circle cx=\"138\" cy=\"363\" r=\"13\" fill=\"rgb(255,255,255)\" class=\"agent_1_79\"/></svg><svg viewBox='0 0 430 430' id=\"svg\" width=\"172\" height=\"172\"><circle cx=\"215\" cy=\"215\" r=\"205\" fill=\"none\" stroke=\"black\" stroke-width=\"2\" stroke-dasharray=\"3,3\"/> <circle cx=\"92\" cy=\"175\" r=\"9\" fill=\"rgb(255,255,255)\" class=\"agent_1_11\"/><circle cx=\"302\" cy=\"49\" r=\"11\" fill=\"rgb(255,255,255)\" class=\"agent_1_26\"/><circle cx=\"107\" cy=\"295\" r=\"12\" fill=\"rgb(255,255,255)\" class=\"agent_1_49\"/><circle cx=\"267\" cy=\"110\" r=\"7\" fill=\"rgb(255,255,255)\" class=\"agent_1_55\"/><circle cx=\"334\" cy=\"133\" r=\"12\" fill=\"rgb(255,0,0)\" class=\"agent_1_69\"/><circle cx=\"139\" cy=\"197\" r=\"12\" fill=\"rgb(255,255,255)\" class=\"agent_1_72\"/><circle cx=\"138\" cy=\"363\" r=\"13\" fill=\"rgb(255,255,255)\" class=\"agent_1_79\"/></svg><svg viewBox='0 0 430 430' id=\"svg\" width=\"172\" height=\"172\"><circle cx=\"215\" cy=\"215\" r=\"205\" fill=\"none\" stroke=\"black\" stroke-width=\"2\" stroke-dasharray=\"3,3\"/> <circle cx=\"92\" cy=\"175\" r=\"9\" fill=\"rgb(255,255,255)\" class=\"agent_1_11\"/><circle cx=\"302\" cy=\"49\" r=\"11\" fill=\"rgb(255,255,255)\" class=\"agent_1_26\"/><circle cx=\"107\" cy=\"295\" r=\"12\" fill=\"rgb(255,255,255)\" class=\"agent_1_49\"/><circle cx=\"267\" cy=\"110\" r=\"7\" fill=\"rgb(255,0,0)\" class=\"agent_1_55\"/><circle cx=\"334\" cy=\"133\" r=\"12\" fill=\"rgb(255,255,255)\" class=\"agent_1_69\"/><circle cx=\"139\" cy=\"197\" r=\"12\" fill=\"rgb(255,255,255)\" class=\"agent_1_72\"/><circle cx=\"138\" cy=\"363\" r=\"13\" fill=\"rgb(255,255,255)\" class=\"agent_1_79\"/></svg><svg viewBox='0 0 430 430' id=\"svg\" width=\"172\" height=\"172\"><circle cx=\"215\" cy=\"215\" r=\"205\" fill=\"none\" stroke=\"black\" stroke-width=\"2\" stroke-dasharray=\"3,3\"/> <circle cx=\"92\" cy=\"175\" r=\"9\" fill=\"rgb(255,255,255)\" class=\"agent_1_11\"/><circle cx=\"302\" cy=\"49\" r=\"11\" fill=\"rgb(255,0,0)\" class=\"agent_1_26\"/><circle cx=\"107\" cy=\"295\" r=\"12\" fill=\"rgb(255,255,255)\" class=\"agent_1_49\"/><circle cx=\"267\" cy=\"110\" r=\"7\" fill=\"rgb(255,255,255)\" class=\"agent_1_55\"/><circle cx=\"334\" cy=\"133\" r=\"12\" fill=\"rgb(255,255,255)\" class=\"agent_1_69\"/><circle cx=\"139\" cy=\"197\" r=\"12\" fill=\"rgb(255,255,255)\" class=\"agent_1_72\"/><circle cx=\"138\" cy=\"363\" r=\"13\" fill=\"rgb(255,255,255)\" class=\"agent_1_79\"/></svg></div>"
      ],
      "text/plain": [
       "<IPython.core.display.HTML object>"
      ]
     },
     "metadata": {},
     "output_type": "display_data"
    },
    {
     "name": "stdout",
     "output_type": "stream",
     "text": [
      "to_mention_true\n"
     ]
    },
    {
     "data": {
      "text/html": [
       "<div style=\"white-space: nowrap\"><svg viewbox='0 0 430 430' width=\"172\" height=\"172\" id=\"agent_1\"><circle cx=\"215\" cy=\"215\" r=\"205\" fill=\"none\" stroke=\"black\" stroke-width=\"2\" stroke-dasharray=\"3,3\"/><circle cx=\"92\" cy=\"175\" r=\"9\" fill=\"rgb(131,131,131)\"/><circle cx=\"302\" cy=\"49\" r=\"11\" fill=\"rgb(175,175,175)\"/><circle cx=\"107\" cy=\"295\" r=\"12\" fill=\"rgb(96,96,96)\"/><circle cx=\"267\" cy=\"110\" r=\"7\" fill=\"rgb(128,128,128)\"/><circle cx=\"334\" cy=\"133\" r=\"12\" fill=\"rgb(80,80,80)\"/><circle cx=\"139\" cy=\"197\" r=\"12\" fill=\"rgb(135,135,135)\"/><circle cx=\"138\" cy=\"363\" r=\"13\" fill=\"rgb(71,71,71)\"/></svg><svg viewBox='0 0 430 430' id=\"svg\" width=\"172\" height=\"172\"><circle cx=\"215\" cy=\"215\" r=\"205\" fill=\"none\" stroke=\"black\" stroke-width=\"2\" stroke-dasharray=\"3,3\"/> <circle cx=\"92\" cy=\"175\" r=\"9\" fill=\"rgb(255,0,0)\" class=\"agent_1_11\"/><circle cx=\"302\" cy=\"49\" r=\"11\" fill=\"rgb(255,255,255)\" class=\"agent_1_26\"/><circle cx=\"107\" cy=\"295\" r=\"12\" fill=\"rgb(255,0,0)\" class=\"agent_1_49\"/><circle cx=\"267\" cy=\"110\" r=\"7\" fill=\"rgb(255,255,255)\" class=\"agent_1_55\"/><circle cx=\"334\" cy=\"133\" r=\"12\" fill=\"rgb(255,255,255)\" class=\"agent_1_69\"/><circle cx=\"139\" cy=\"197\" r=\"12\" fill=\"rgb(255,0,0)\" class=\"agent_1_72\"/><circle cx=\"138\" cy=\"363\" r=\"13\" fill=\"rgb(255,0,0)\" class=\"agent_1_79\"/></svg><svg viewBox='0 0 430 430' id=\"svg\" width=\"172\" height=\"172\"><circle cx=\"215\" cy=\"215\" r=\"205\" fill=\"none\" stroke=\"black\" stroke-width=\"2\" stroke-dasharray=\"3,3\"/> <circle cx=\"92\" cy=\"175\" r=\"9\" fill=\"rgb(255,255,255)\" class=\"agent_1_11\"/><circle cx=\"302\" cy=\"49\" r=\"11\" fill=\"rgb(255,255,255)\" class=\"agent_1_26\"/><circle cx=\"107\" cy=\"295\" r=\"12\" fill=\"rgb(255,255,255)\" class=\"agent_1_49\"/><circle cx=\"267\" cy=\"110\" r=\"7\" fill=\"rgb(255,255,255)\" class=\"agent_1_55\"/><circle cx=\"334\" cy=\"133\" r=\"12\" fill=\"rgb(255,255,255)\" class=\"agent_1_69\"/><circle cx=\"139\" cy=\"197\" r=\"12\" fill=\"rgb(255,0,0)\" class=\"agent_1_72\"/><circle cx=\"138\" cy=\"363\" r=\"13\" fill=\"rgb(255,255,255)\" class=\"agent_1_79\"/></svg><svg viewBox='0 0 430 430' id=\"svg\" width=\"172\" height=\"172\"><circle cx=\"215\" cy=\"215\" r=\"205\" fill=\"none\" stroke=\"black\" stroke-width=\"2\" stroke-dasharray=\"3,3\"/> <circle cx=\"92\" cy=\"175\" r=\"9\" fill=\"rgb(255,0,0)\" class=\"agent_1_11\"/><circle cx=\"302\" cy=\"49\" r=\"11\" fill=\"rgb(255,255,255)\" class=\"agent_1_26\"/><circle cx=\"107\" cy=\"295\" r=\"12\" fill=\"rgb(255,255,255)\" class=\"agent_1_49\"/><circle cx=\"267\" cy=\"110\" r=\"7\" fill=\"rgb(255,255,255)\" class=\"agent_1_55\"/><circle cx=\"334\" cy=\"133\" r=\"12\" fill=\"rgb(255,255,255)\" class=\"agent_1_69\"/><circle cx=\"139\" cy=\"197\" r=\"12\" fill=\"rgb(255,255,255)\" class=\"agent_1_72\"/><circle cx=\"138\" cy=\"363\" r=\"13\" fill=\"rgb(255,255,255)\" class=\"agent_1_79\"/></svg></div>"
      ],
      "text/plain": [
       "<IPython.core.display.HTML object>"
      ]
     },
     "metadata": {},
     "output_type": "display_data"
    },
    {
     "name": "stdout",
     "output_type": "stream",
     "text": [
      "beam 0\ti have that . is the one on the right slightly larger than the other two ? <eos>\n",
      "greedy\ti have that . is the one on the right slightly larger than the other two ? <eos>\n",
      "human\toh , is your cluster in a vertical line ? and the top right is slightly lower than the top left ? <eos>\n",
      "refs_pred\n"
     ]
    },
    {
     "data": {
      "text/html": [
       "<div style=\"white-space: nowrap\"><svg viewbox='0 0 430 430' width=\"172\" height=\"172\" id=\"agent_1\"><circle cx=\"215\" cy=\"215\" r=\"205\" fill=\"none\" stroke=\"black\" stroke-width=\"2\" stroke-dasharray=\"3,3\"/><circle cx=\"92\" cy=\"175\" r=\"9\" fill=\"rgb(131,131,131)\"/><circle cx=\"302\" cy=\"49\" r=\"11\" fill=\"rgb(175,175,175)\"/><circle cx=\"107\" cy=\"295\" r=\"12\" fill=\"rgb(96,96,96)\"/><circle cx=\"267\" cy=\"110\" r=\"7\" fill=\"rgb(128,128,128)\"/><circle cx=\"334\" cy=\"133\" r=\"12\" fill=\"rgb(80,80,80)\"/><circle cx=\"139\" cy=\"197\" r=\"12\" fill=\"rgb(135,135,135)\"/><circle cx=\"138\" cy=\"363\" r=\"13\" fill=\"rgb(71,71,71)\"/></svg><svg viewBox='0 0 430 430' id=\"svg\" width=\"172\" height=\"172\"><circle cx=\"215\" cy=\"215\" r=\"205\" fill=\"none\" stroke=\"black\" stroke-width=\"2\" stroke-dasharray=\"3,3\"/> <circle cx=\"92\" cy=\"175\" r=\"9\" fill=\"rgb(255,255,255)\" class=\"agent_1_11\"/><circle cx=\"302\" cy=\"49\" r=\"11\" fill=\"rgb(255,0,0)\" class=\"agent_1_26\"/><circle cx=\"107\" cy=\"295\" r=\"12\" fill=\"rgb(255,255,255)\" class=\"agent_1_49\"/><circle cx=\"267\" cy=\"110\" r=\"7\" fill=\"rgb(255,0,0)\" class=\"agent_1_55\"/><circle cx=\"334\" cy=\"133\" r=\"12\" fill=\"rgb(255,0,0)\" class=\"agent_1_69\"/><circle cx=\"139\" cy=\"197\" r=\"12\" fill=\"rgb(255,255,255)\" class=\"agent_1_72\"/><circle cx=\"138\" cy=\"363\" r=\"13\" fill=\"rgb(255,255,255)\" class=\"agent_1_79\"/></svg><svg viewBox='0 0 430 430' id=\"svg\" width=\"172\" height=\"172\"><circle cx=\"215\" cy=\"215\" r=\"205\" fill=\"none\" stroke=\"black\" stroke-width=\"2\" stroke-dasharray=\"3,3\"/> <circle cx=\"92\" cy=\"175\" r=\"9\" fill=\"rgb(255,255,255)\" class=\"agent_1_11\"/><circle cx=\"302\" cy=\"49\" r=\"11\" fill=\"rgb(255,255,255)\" class=\"agent_1_26\"/><circle cx=\"107\" cy=\"295\" r=\"12\" fill=\"rgb(255,255,255)\" class=\"agent_1_49\"/><circle cx=\"267\" cy=\"110\" r=\"7\" fill=\"rgb(255,255,255)\" class=\"agent_1_55\"/><circle cx=\"334\" cy=\"133\" r=\"12\" fill=\"rgb(255,0,0)\" class=\"agent_1_69\"/><circle cx=\"139\" cy=\"197\" r=\"12\" fill=\"rgb(255,255,255)\" class=\"agent_1_72\"/><circle cx=\"138\" cy=\"363\" r=\"13\" fill=\"rgb(255,255,255)\" class=\"agent_1_79\"/></svg><svg viewBox='0 0 430 430' id=\"svg\" width=\"172\" height=\"172\"><circle cx=\"215\" cy=\"215\" r=\"205\" fill=\"none\" stroke=\"black\" stroke-width=\"2\" stroke-dasharray=\"3,3\"/> <circle cx=\"92\" cy=\"175\" r=\"9\" fill=\"rgb(255,255,255)\" class=\"agent_1_11\"/><circle cx=\"302\" cy=\"49\" r=\"11\" fill=\"rgb(255,0,0)\" class=\"agent_1_26\"/><circle cx=\"107\" cy=\"295\" r=\"12\" fill=\"rgb(255,255,255)\" class=\"agent_1_49\"/><circle cx=\"267\" cy=\"110\" r=\"7\" fill=\"rgb(255,255,255)\" class=\"agent_1_55\"/><circle cx=\"334\" cy=\"133\" r=\"12\" fill=\"rgb(255,255,255)\" class=\"agent_1_69\"/><circle cx=\"139\" cy=\"197\" r=\"12\" fill=\"rgb(255,255,255)\" class=\"agent_1_72\"/><circle cx=\"138\" cy=\"363\" r=\"13\" fill=\"rgb(255,255,255)\" class=\"agent_1_79\"/></svg></div>"
      ],
      "text/plain": [
       "<IPython.core.display.HTML object>"
      ]
     },
     "metadata": {},
     "output_type": "display_data"
    },
    {
     "name": "stdout",
     "output_type": "stream",
     "text": [
      "refs_true\n"
     ]
    },
    {
     "data": {
      "text/html": [
       "<div style=\"white-space: nowrap\"><svg viewbox='0 0 430 430' width=\"172\" height=\"172\" id=\"agent_1\"><circle cx=\"215\" cy=\"215\" r=\"205\" fill=\"none\" stroke=\"black\" stroke-width=\"2\" stroke-dasharray=\"3,3\"/><circle cx=\"92\" cy=\"175\" r=\"9\" fill=\"rgb(131,131,131)\"/><circle cx=\"302\" cy=\"49\" r=\"11\" fill=\"rgb(175,175,175)\"/><circle cx=\"107\" cy=\"295\" r=\"12\" fill=\"rgb(96,96,96)\"/><circle cx=\"267\" cy=\"110\" r=\"7\" fill=\"rgb(128,128,128)\"/><circle cx=\"334\" cy=\"133\" r=\"12\" fill=\"rgb(80,80,80)\"/><circle cx=\"139\" cy=\"197\" r=\"12\" fill=\"rgb(135,135,135)\"/><circle cx=\"138\" cy=\"363\" r=\"13\" fill=\"rgb(71,71,71)\"/></svg><svg viewBox='0 0 430 430' id=\"svg\" width=\"172\" height=\"172\"><circle cx=\"215\" cy=\"215\" r=\"205\" fill=\"none\" stroke=\"black\" stroke-width=\"2\" stroke-dasharray=\"3,3\"/> <circle cx=\"92\" cy=\"175\" r=\"9\" fill=\"rgb(255,0,0)\" class=\"agent_1_11\"/><circle cx=\"302\" cy=\"49\" r=\"11\" fill=\"rgb(255,255,255)\" class=\"agent_1_26\"/><circle cx=\"107\" cy=\"295\" r=\"12\" fill=\"rgb(255,0,0)\" class=\"agent_1_49\"/><circle cx=\"267\" cy=\"110\" r=\"7\" fill=\"rgb(255,255,255)\" class=\"agent_1_55\"/><circle cx=\"334\" cy=\"133\" r=\"12\" fill=\"rgb(255,255,255)\" class=\"agent_1_69\"/><circle cx=\"139\" cy=\"197\" r=\"12\" fill=\"rgb(255,0,0)\" class=\"agent_1_72\"/><circle cx=\"138\" cy=\"363\" r=\"13\" fill=\"rgb(255,0,0)\" class=\"agent_1_79\"/></svg><svg viewBox='0 0 430 430' id=\"svg\" width=\"172\" height=\"172\"><circle cx=\"215\" cy=\"215\" r=\"205\" fill=\"none\" stroke=\"black\" stroke-width=\"2\" stroke-dasharray=\"3,3\"/> <circle cx=\"92\" cy=\"175\" r=\"9\" fill=\"rgb(255,255,255)\" class=\"agent_1_11\"/><circle cx=\"302\" cy=\"49\" r=\"11\" fill=\"rgb(255,255,255)\" class=\"agent_1_26\"/><circle cx=\"107\" cy=\"295\" r=\"12\" fill=\"rgb(255,255,255)\" class=\"agent_1_49\"/><circle cx=\"267\" cy=\"110\" r=\"7\" fill=\"rgb(255,255,255)\" class=\"agent_1_55\"/><circle cx=\"334\" cy=\"133\" r=\"12\" fill=\"rgb(255,255,255)\" class=\"agent_1_69\"/><circle cx=\"139\" cy=\"197\" r=\"12\" fill=\"rgb(255,0,0)\" class=\"agent_1_72\"/><circle cx=\"138\" cy=\"363\" r=\"13\" fill=\"rgb(255,255,255)\" class=\"agent_1_79\"/></svg><svg viewBox='0 0 430 430' id=\"svg\" width=\"172\" height=\"172\"><circle cx=\"215\" cy=\"215\" r=\"205\" fill=\"none\" stroke=\"black\" stroke-width=\"2\" stroke-dasharray=\"3,3\"/> <circle cx=\"92\" cy=\"175\" r=\"9\" fill=\"rgb(255,0,0)\" class=\"agent_1_11\"/><circle cx=\"302\" cy=\"49\" r=\"11\" fill=\"rgb(255,255,255)\" class=\"agent_1_26\"/><circle cx=\"107\" cy=\"295\" r=\"12\" fill=\"rgb(255,255,255)\" class=\"agent_1_49\"/><circle cx=\"267\" cy=\"110\" r=\"7\" fill=\"rgb(255,255,255)\" class=\"agent_1_55\"/><circle cx=\"334\" cy=\"133\" r=\"12\" fill=\"rgb(255,255,255)\" class=\"agent_1_69\"/><circle cx=\"139\" cy=\"197\" r=\"12\" fill=\"rgb(255,255,255)\" class=\"agent_1_72\"/><circle cx=\"138\" cy=\"363\" r=\"13\" fill=\"rgb(255,255,255)\" class=\"agent_1_79\"/></svg></div>"
      ],
      "text/plain": [
       "<IPython.core.display.HTML object>"
      ]
     },
     "metadata": {},
     "output_type": "display_data"
    },
    {
     "name": "stdout",
     "output_type": "stream",
     "text": [
      "utt: oh , is your cluster in a vertical line ? and the top right is slightly lower than the top left ? <eos>\n",
      "detected markables:\n",
      "({'start': 11, 'end': 23, 'is_self': True, 'text': 'your cluster'}, (4, 5, 6))\n",
      "({'start': 49, 'end': 62, 'is_self': True, 'text': 'the top right'}, (12, 14, 15))\n",
      "({'start': 86, 'end': 98, 'is_self': True, 'text': 'the top left'}, (19, 21, 22))\n",
      "\n",
      "----------------------------------------\n",
      "\n",
      "human\tTHEM: i think you are missing a different dot that i originally thought . your triangle has a small medium darkness dot on the lower left , and a larger lighter dot on top with the larger dark dot on bottom right ? <eos>\n",
      "partner_refs_pred\n"
     ]
    },
    {
     "data": {
      "text/html": [
       "<div style=\"white-space: nowrap\"><svg viewbox='0 0 430 430' width=\"172\" height=\"172\" id=\"agent_1\"><circle cx=\"215\" cy=\"215\" r=\"205\" fill=\"none\" stroke=\"black\" stroke-width=\"2\" stroke-dasharray=\"3,3\"/><circle cx=\"92\" cy=\"175\" r=\"9\" fill=\"rgb(131,131,131)\"/><circle cx=\"302\" cy=\"49\" r=\"11\" fill=\"rgb(175,175,175)\"/><circle cx=\"107\" cy=\"295\" r=\"12\" fill=\"rgb(96,96,96)\"/><circle cx=\"267\" cy=\"110\" r=\"7\" fill=\"rgb(128,128,128)\"/><circle cx=\"334\" cy=\"133\" r=\"12\" fill=\"rgb(80,80,80)\"/><circle cx=\"139\" cy=\"197\" r=\"12\" fill=\"rgb(135,135,135)\"/><circle cx=\"138\" cy=\"363\" r=\"13\" fill=\"rgb(71,71,71)\"/></svg><svg viewBox='0 0 430 430' id=\"svg\" width=\"172\" height=\"172\"><circle cx=\"215\" cy=\"215\" r=\"205\" fill=\"none\" stroke=\"black\" stroke-width=\"2\" stroke-dasharray=\"3,3\"/> <circle cx=\"92\" cy=\"175\" r=\"9\" fill=\"rgb(255,255,255)\" class=\"agent_1_11\"/><circle cx=\"302\" cy=\"49\" r=\"11\" fill=\"rgb(255,255,255)\" class=\"agent_1_26\"/><circle cx=\"107\" cy=\"295\" r=\"12\" fill=\"rgb(255,255,255)\" class=\"agent_1_49\"/><circle cx=\"267\" cy=\"110\" r=\"7\" fill=\"rgb(255,255,255)\" class=\"agent_1_55\"/><circle cx=\"334\" cy=\"133\" r=\"12\" fill=\"rgb(255,255,255)\" class=\"agent_1_69\"/><circle cx=\"139\" cy=\"197\" r=\"12\" fill=\"rgb(255,255,255)\" class=\"agent_1_72\"/><circle cx=\"138\" cy=\"363\" r=\"13\" fill=\"rgb(255,255,255)\" class=\"agent_1_79\"/></svg><svg viewBox='0 0 430 430' id=\"svg\" width=\"172\" height=\"172\"><circle cx=\"215\" cy=\"215\" r=\"205\" fill=\"none\" stroke=\"black\" stroke-width=\"2\" stroke-dasharray=\"3,3\"/> <circle cx=\"92\" cy=\"175\" r=\"9\" fill=\"rgb(255,255,255)\" class=\"agent_1_11\"/><circle cx=\"302\" cy=\"49\" r=\"11\" fill=\"rgb(255,0,0)\" class=\"agent_1_26\"/><circle cx=\"107\" cy=\"295\" r=\"12\" fill=\"rgb(255,255,255)\" class=\"agent_1_49\"/><circle cx=\"267\" cy=\"110\" r=\"7\" fill=\"rgb(255,0,0)\" class=\"agent_1_55\"/><circle cx=\"334\" cy=\"133\" r=\"12\" fill=\"rgb(255,0,0)\" class=\"agent_1_69\"/><circle cx=\"139\" cy=\"197\" r=\"12\" fill=\"rgb(255,255,255)\" class=\"agent_1_72\"/><circle cx=\"138\" cy=\"363\" r=\"13\" fill=\"rgb(255,255,255)\" class=\"agent_1_79\"/></svg><svg viewBox='0 0 430 430' id=\"svg\" width=\"172\" height=\"172\"><circle cx=\"215\" cy=\"215\" r=\"205\" fill=\"none\" stroke=\"black\" stroke-width=\"2\" stroke-dasharray=\"3,3\"/> <circle cx=\"92\" cy=\"175\" r=\"9\" fill=\"rgb(255,255,255)\" class=\"agent_1_11\"/><circle cx=\"302\" cy=\"49\" r=\"11\" fill=\"rgb(255,255,255)\" class=\"agent_1_26\"/><circle cx=\"107\" cy=\"295\" r=\"12\" fill=\"rgb(255,255,255)\" class=\"agent_1_49\"/><circle cx=\"267\" cy=\"110\" r=\"7\" fill=\"rgb(255,0,0)\" class=\"agent_1_55\"/><circle cx=\"334\" cy=\"133\" r=\"12\" fill=\"rgb(255,255,255)\" class=\"agent_1_69\"/><circle cx=\"139\" cy=\"197\" r=\"12\" fill=\"rgb(255,255,255)\" class=\"agent_1_72\"/><circle cx=\"138\" cy=\"363\" r=\"13\" fill=\"rgb(255,255,255)\" class=\"agent_1_79\"/></svg><svg viewBox='0 0 430 430' id=\"svg\" width=\"172\" height=\"172\"><circle cx=\"215\" cy=\"215\" r=\"205\" fill=\"none\" stroke=\"black\" stroke-width=\"2\" stroke-dasharray=\"3,3\"/> <circle cx=\"92\" cy=\"175\" r=\"9\" fill=\"rgb(255,255,255)\" class=\"agent_1_11\"/><circle cx=\"302\" cy=\"49\" r=\"11\" fill=\"rgb(255,0,0)\" class=\"agent_1_26\"/><circle cx=\"107\" cy=\"295\" r=\"12\" fill=\"rgb(255,255,255)\" class=\"agent_1_49\"/><circle cx=\"267\" cy=\"110\" r=\"7\" fill=\"rgb(255,255,255)\" class=\"agent_1_55\"/><circle cx=\"334\" cy=\"133\" r=\"12\" fill=\"rgb(255,255,255)\" class=\"agent_1_69\"/><circle cx=\"139\" cy=\"197\" r=\"12\" fill=\"rgb(255,255,255)\" class=\"agent_1_72\"/><circle cx=\"138\" cy=\"363\" r=\"13\" fill=\"rgb(255,255,255)\" class=\"agent_1_79\"/></svg><svg viewBox='0 0 430 430' id=\"svg\" width=\"172\" height=\"172\"><circle cx=\"215\" cy=\"215\" r=\"205\" fill=\"none\" stroke=\"black\" stroke-width=\"2\" stroke-dasharray=\"3,3\"/> <circle cx=\"92\" cy=\"175\" r=\"9\" fill=\"rgb(255,255,255)\" class=\"agent_1_11\"/><circle cx=\"302\" cy=\"49\" r=\"11\" fill=\"rgb(255,255,255)\" class=\"agent_1_26\"/><circle cx=\"107\" cy=\"295\" r=\"12\" fill=\"rgb(255,255,255)\" class=\"agent_1_49\"/><circle cx=\"267\" cy=\"110\" r=\"7\" fill=\"rgb(255,255,255)\" class=\"agent_1_55\"/><circle cx=\"334\" cy=\"133\" r=\"12\" fill=\"rgb(255,0,0)\" class=\"agent_1_69\"/><circle cx=\"139\" cy=\"197\" r=\"12\" fill=\"rgb(255,255,255)\" class=\"agent_1_72\"/><circle cx=\"138\" cy=\"363\" r=\"13\" fill=\"rgb(255,255,255)\" class=\"agent_1_79\"/></svg></div>"
      ],
      "text/plain": [
       "<IPython.core.display.HTML object>"
      ]
     },
     "metadata": {},
     "output_type": "display_data"
    },
    {
     "name": "stdout",
     "output_type": "stream",
     "text": [
      "partner_refs_true\n"
     ]
    },
    {
     "data": {
      "text/html": [
       "<div style=\"white-space: nowrap\"><svg viewbox='0 0 430 430' width=\"172\" height=\"172\" id=\"agent_1\"><circle cx=\"215\" cy=\"215\" r=\"205\" fill=\"none\" stroke=\"black\" stroke-width=\"2\" stroke-dasharray=\"3,3\"/><circle cx=\"92\" cy=\"175\" r=\"9\" fill=\"rgb(131,131,131)\"/><circle cx=\"302\" cy=\"49\" r=\"11\" fill=\"rgb(175,175,175)\"/><circle cx=\"107\" cy=\"295\" r=\"12\" fill=\"rgb(96,96,96)\"/><circle cx=\"267\" cy=\"110\" r=\"7\" fill=\"rgb(128,128,128)\"/><circle cx=\"334\" cy=\"133\" r=\"12\" fill=\"rgb(80,80,80)\"/><circle cx=\"139\" cy=\"197\" r=\"12\" fill=\"rgb(135,135,135)\"/><circle cx=\"138\" cy=\"363\" r=\"13\" fill=\"rgb(71,71,71)\"/></svg><svg viewBox='0 0 430 430' id=\"svg\" width=\"172\" height=\"172\"><circle cx=\"215\" cy=\"215\" r=\"205\" fill=\"none\" stroke=\"black\" stroke-width=\"2\" stroke-dasharray=\"3,3\"/> <circle cx=\"92\" cy=\"175\" r=\"9\" fill=\"rgb(255,255,255)\" class=\"agent_1_11\"/><circle cx=\"302\" cy=\"49\" r=\"11\" fill=\"rgb(255,255,255)\" class=\"agent_1_26\"/><circle cx=\"107\" cy=\"295\" r=\"12\" fill=\"rgb(255,255,255)\" class=\"agent_1_49\"/><circle cx=\"267\" cy=\"110\" r=\"7\" fill=\"rgb(255,255,255)\" class=\"agent_1_55\"/><circle cx=\"334\" cy=\"133\" r=\"12\" fill=\"rgb(255,255,255)\" class=\"agent_1_69\"/><circle cx=\"139\" cy=\"197\" r=\"12\" fill=\"rgb(255,255,255)\" class=\"agent_1_72\"/><circle cx=\"138\" cy=\"363\" r=\"13\" fill=\"rgb(255,255,255)\" class=\"agent_1_79\"/></svg><svg viewBox='0 0 430 430' id=\"svg\" width=\"172\" height=\"172\"><circle cx=\"215\" cy=\"215\" r=\"205\" fill=\"none\" stroke=\"black\" stroke-width=\"2\" stroke-dasharray=\"3,3\"/> <circle cx=\"92\" cy=\"175\" r=\"9\" fill=\"rgb(255,255,255)\" class=\"agent_1_11\"/><circle cx=\"302\" cy=\"49\" r=\"11\" fill=\"rgb(255,0,0)\" class=\"agent_1_26\"/><circle cx=\"107\" cy=\"295\" r=\"12\" fill=\"rgb(255,255,255)\" class=\"agent_1_49\"/><circle cx=\"267\" cy=\"110\" r=\"7\" fill=\"rgb(255,0,0)\" class=\"agent_1_55\"/><circle cx=\"334\" cy=\"133\" r=\"12\" fill=\"rgb(255,0,0)\" class=\"agent_1_69\"/><circle cx=\"139\" cy=\"197\" r=\"12\" fill=\"rgb(255,255,255)\" class=\"agent_1_72\"/><circle cx=\"138\" cy=\"363\" r=\"13\" fill=\"rgb(255,255,255)\" class=\"agent_1_79\"/></svg><svg viewBox='0 0 430 430' id=\"svg\" width=\"172\" height=\"172\"><circle cx=\"215\" cy=\"215\" r=\"205\" fill=\"none\" stroke=\"black\" stroke-width=\"2\" stroke-dasharray=\"3,3\"/> <circle cx=\"92\" cy=\"175\" r=\"9\" fill=\"rgb(255,255,255)\" class=\"agent_1_11\"/><circle cx=\"302\" cy=\"49\" r=\"11\" fill=\"rgb(255,255,255)\" class=\"agent_1_26\"/><circle cx=\"107\" cy=\"295\" r=\"12\" fill=\"rgb(255,255,255)\" class=\"agent_1_49\"/><circle cx=\"267\" cy=\"110\" r=\"7\" fill=\"rgb(255,0,0)\" class=\"agent_1_55\"/><circle cx=\"334\" cy=\"133\" r=\"12\" fill=\"rgb(255,255,255)\" class=\"agent_1_69\"/><circle cx=\"139\" cy=\"197\" r=\"12\" fill=\"rgb(255,255,255)\" class=\"agent_1_72\"/><circle cx=\"138\" cy=\"363\" r=\"13\" fill=\"rgb(255,255,255)\" class=\"agent_1_79\"/></svg><svg viewBox='0 0 430 430' id=\"svg\" width=\"172\" height=\"172\"><circle cx=\"215\" cy=\"215\" r=\"205\" fill=\"none\" stroke=\"black\" stroke-width=\"2\" stroke-dasharray=\"3,3\"/> <circle cx=\"92\" cy=\"175\" r=\"9\" fill=\"rgb(255,255,255)\" class=\"agent_1_11\"/><circle cx=\"302\" cy=\"49\" r=\"11\" fill=\"rgb(255,0,0)\" class=\"agent_1_26\"/><circle cx=\"107\" cy=\"295\" r=\"12\" fill=\"rgb(255,255,255)\" class=\"agent_1_49\"/><circle cx=\"267\" cy=\"110\" r=\"7\" fill=\"rgb(255,255,255)\" class=\"agent_1_55\"/><circle cx=\"334\" cy=\"133\" r=\"12\" fill=\"rgb(255,255,255)\" class=\"agent_1_69\"/><circle cx=\"139\" cy=\"197\" r=\"12\" fill=\"rgb(255,255,255)\" class=\"agent_1_72\"/><circle cx=\"138\" cy=\"363\" r=\"13\" fill=\"rgb(255,255,255)\" class=\"agent_1_79\"/></svg><svg viewBox='0 0 430 430' id=\"svg\" width=\"172\" height=\"172\"><circle cx=\"215\" cy=\"215\" r=\"205\" fill=\"none\" stroke=\"black\" stroke-width=\"2\" stroke-dasharray=\"3,3\"/> <circle cx=\"92\" cy=\"175\" r=\"9\" fill=\"rgb(255,255,255)\" class=\"agent_1_11\"/><circle cx=\"302\" cy=\"49\" r=\"11\" fill=\"rgb(255,255,255)\" class=\"agent_1_26\"/><circle cx=\"107\" cy=\"295\" r=\"12\" fill=\"rgb(255,255,255)\" class=\"agent_1_49\"/><circle cx=\"267\" cy=\"110\" r=\"7\" fill=\"rgb(255,255,255)\" class=\"agent_1_55\"/><circle cx=\"334\" cy=\"133\" r=\"12\" fill=\"rgb(255,0,0)\" class=\"agent_1_69\"/><circle cx=\"139\" cy=\"197\" r=\"12\" fill=\"rgb(255,255,255)\" class=\"agent_1_72\"/><circle cx=\"138\" cy=\"363\" r=\"13\" fill=\"rgb(255,255,255)\" class=\"agent_1_79\"/></svg></div>"
      ],
      "text/plain": [
       "<IPython.core.display.HTML object>"
      ]
     },
     "metadata": {},
     "output_type": "display_data"
    },
    {
     "name": "stdout",
     "output_type": "stream",
     "text": [
      "utt: i think you are missing a different dot that i originally thought . your triangle has a small medium darkness dot on the lower left , and a larger lighter dot on top with the larger dark dot on bottom right ? <eos>\n",
      "detected markables:\n",
      "({'start': 27, 'end': 42, 'is_self': True, 'text': 'a different dot'}, (6, 8, 9))\n",
      "({'start': 71, 'end': 84, 'is_self': True, 'text': 'your triangle'}, (14, 15, 16))\n",
      "({'start': 89, 'end': 116, 'is_self': True, 'text': 'a small medium darkness dot'}, (17, 21, 22))\n",
      "({'start': 141, 'end': 161, 'is_self': True, 'text': 'a larger lighter dot'}, (28, 31, 32))\n",
      "({'start': 174, 'end': 193, 'is_self': True, 'text': 'the larger dark dot'}, (35, 38, 39))\n",
      "\n",
      "----------------------------------------\n",
      "\n",
      "to_mention_pred\n"
     ]
    },
    {
     "data": {
      "text/html": [
       "<div style=\"white-space: nowrap\"><svg viewbox='0 0 430 430' width=\"172\" height=\"172\" id=\"agent_1\"><circle cx=\"215\" cy=\"215\" r=\"205\" fill=\"none\" stroke=\"black\" stroke-width=\"2\" stroke-dasharray=\"3,3\"/><circle cx=\"92\" cy=\"175\" r=\"9\" fill=\"rgb(131,131,131)\"/><circle cx=\"302\" cy=\"49\" r=\"11\" fill=\"rgb(175,175,175)\"/><circle cx=\"107\" cy=\"295\" r=\"12\" fill=\"rgb(96,96,96)\"/><circle cx=\"267\" cy=\"110\" r=\"7\" fill=\"rgb(128,128,128)\"/><circle cx=\"334\" cy=\"133\" r=\"12\" fill=\"rgb(80,80,80)\"/><circle cx=\"139\" cy=\"197\" r=\"12\" fill=\"rgb(135,135,135)\"/><circle cx=\"138\" cy=\"363\" r=\"13\" fill=\"rgb(71,71,71)\"/></svg><svg viewBox='0 0 430 430' id=\"svg\" width=\"172\" height=\"172\"><circle cx=\"215\" cy=\"215\" r=\"205\" fill=\"none\" stroke=\"black\" stroke-width=\"2\" stroke-dasharray=\"3,3\"/> <circle cx=\"92\" cy=\"175\" r=\"9\" fill=\"rgb(255,255,255)\" class=\"agent_1_11\"/><circle cx=\"302\" cy=\"49\" r=\"11\" fill=\"rgb(255,255,255)\" class=\"agent_1_26\"/><circle cx=\"107\" cy=\"295\" r=\"12\" fill=\"rgb(255,255,255)\" class=\"agent_1_49\"/><circle cx=\"267\" cy=\"110\" r=\"7\" fill=\"rgb(255,0,0)\" class=\"agent_1_55\"/><circle cx=\"334\" cy=\"133\" r=\"12\" fill=\"rgb(255,0,0)\" class=\"agent_1_69\"/><circle cx=\"139\" cy=\"197\" r=\"12\" fill=\"rgb(255,255,255)\" class=\"agent_1_72\"/><circle cx=\"138\" cy=\"363\" r=\"13\" fill=\"rgb(255,255,255)\" class=\"agent_1_79\"/></svg><svg viewBox='0 0 430 430' id=\"svg\" width=\"172\" height=\"172\"><circle cx=\"215\" cy=\"215\" r=\"205\" fill=\"none\" stroke=\"black\" stroke-width=\"2\" stroke-dasharray=\"3,3\"/> <circle cx=\"92\" cy=\"175\" r=\"9\" fill=\"rgb(255,255,255)\" class=\"agent_1_11\"/><circle cx=\"302\" cy=\"49\" r=\"11\" fill=\"rgb(255,255,255)\" class=\"agent_1_26\"/><circle cx=\"107\" cy=\"295\" r=\"12\" fill=\"rgb(255,255,255)\" class=\"agent_1_49\"/><circle cx=\"267\" cy=\"110\" r=\"7\" fill=\"rgb(255,255,255)\" class=\"agent_1_55\"/><circle cx=\"334\" cy=\"133\" r=\"12\" fill=\"rgb(255,0,0)\" class=\"agent_1_69\"/><circle cx=\"139\" cy=\"197\" r=\"12\" fill=\"rgb(255,255,255)\" class=\"agent_1_72\"/><circle cx=\"138\" cy=\"363\" r=\"13\" fill=\"rgb(255,255,255)\" class=\"agent_1_79\"/></svg></div>"
      ],
      "text/plain": [
       "<IPython.core.display.HTML object>"
      ]
     },
     "metadata": {},
     "output_type": "display_data"
    },
    {
     "name": "stdout",
     "output_type": "stream",
     "text": [
      "to_mention_true\n"
     ]
    },
    {
     "data": {
      "text/html": [
       "<div style=\"white-space: nowrap\"><svg viewbox='0 0 430 430' width=\"172\" height=\"172\" id=\"agent_1\"><circle cx=\"215\" cy=\"215\" r=\"205\" fill=\"none\" stroke=\"black\" stroke-width=\"2\" stroke-dasharray=\"3,3\"/><circle cx=\"92\" cy=\"175\" r=\"9\" fill=\"rgb(131,131,131)\"/><circle cx=\"302\" cy=\"49\" r=\"11\" fill=\"rgb(175,175,175)\"/><circle cx=\"107\" cy=\"295\" r=\"12\" fill=\"rgb(96,96,96)\"/><circle cx=\"267\" cy=\"110\" r=\"7\" fill=\"rgb(128,128,128)\"/><circle cx=\"334\" cy=\"133\" r=\"12\" fill=\"rgb(80,80,80)\"/><circle cx=\"139\" cy=\"197\" r=\"12\" fill=\"rgb(135,135,135)\"/><circle cx=\"138\" cy=\"363\" r=\"13\" fill=\"rgb(71,71,71)\"/></svg><svg viewBox='0 0 430 430' id=\"svg\" width=\"172\" height=\"172\"><circle cx=\"215\" cy=\"215\" r=\"205\" fill=\"none\" stroke=\"black\" stroke-width=\"2\" stroke-dasharray=\"3,3\"/> <circle cx=\"92\" cy=\"175\" r=\"9\" fill=\"rgb(255,255,255)\" class=\"agent_1_11\"/><circle cx=\"302\" cy=\"49\" r=\"11\" fill=\"rgb(255,0,0)\" class=\"agent_1_26\"/><circle cx=\"107\" cy=\"295\" r=\"12\" fill=\"rgb(255,255,255)\" class=\"agent_1_49\"/><circle cx=\"267\" cy=\"110\" r=\"7\" fill=\"rgb(255,0,0)\" class=\"agent_1_55\"/><circle cx=\"334\" cy=\"133\" r=\"12\" fill=\"rgb(255,0,0)\" class=\"agent_1_69\"/><circle cx=\"139\" cy=\"197\" r=\"12\" fill=\"rgb(255,255,255)\" class=\"agent_1_72\"/><circle cx=\"138\" cy=\"363\" r=\"13\" fill=\"rgb(255,255,255)\" class=\"agent_1_79\"/></svg><svg viewBox='0 0 430 430' id=\"svg\" width=\"172\" height=\"172\"><circle cx=\"215\" cy=\"215\" r=\"205\" fill=\"none\" stroke=\"black\" stroke-width=\"2\" stroke-dasharray=\"3,3\"/> <circle cx=\"92\" cy=\"175\" r=\"9\" fill=\"rgb(255,255,255)\" class=\"agent_1_11\"/><circle cx=\"302\" cy=\"49\" r=\"11\" fill=\"rgb(255,0,0)\" class=\"agent_1_26\"/><circle cx=\"107\" cy=\"295\" r=\"12\" fill=\"rgb(255,255,255)\" class=\"agent_1_49\"/><circle cx=\"267\" cy=\"110\" r=\"7\" fill=\"rgb(255,0,0)\" class=\"agent_1_55\"/><circle cx=\"334\" cy=\"133\" r=\"12\" fill=\"rgb(255,0,0)\" class=\"agent_1_69\"/><circle cx=\"139\" cy=\"197\" r=\"12\" fill=\"rgb(255,255,255)\" class=\"agent_1_72\"/><circle cx=\"138\" cy=\"363\" r=\"13\" fill=\"rgb(255,255,255)\" class=\"agent_1_79\"/></svg></div>"
      ],
      "text/plain": [
       "<IPython.core.display.HTML object>"
      ]
     },
     "metadata": {},
     "output_type": "display_data"
    },
    {
     "name": "stdout",
     "output_type": "stream",
     "text": [
      "beam 0\ti see that . let 's pick the small one . <selection>\n",
      "greedy\ti see that . let 's pick the small one . <selection>\n",
      "human\tyes that 's the one i had , one of those dots ? <eos>\n",
      "refs_pred\n"
     ]
    },
    {
     "data": {
      "text/html": [
       "<div style=\"white-space: nowrap\"><svg viewbox='0 0 430 430' width=\"172\" height=\"172\" id=\"agent_1\"><circle cx=\"215\" cy=\"215\" r=\"205\" fill=\"none\" stroke=\"black\" stroke-width=\"2\" stroke-dasharray=\"3,3\"/><circle cx=\"92\" cy=\"175\" r=\"9\" fill=\"rgb(131,131,131)\"/><circle cx=\"302\" cy=\"49\" r=\"11\" fill=\"rgb(175,175,175)\"/><circle cx=\"107\" cy=\"295\" r=\"12\" fill=\"rgb(96,96,96)\"/><circle cx=\"267\" cy=\"110\" r=\"7\" fill=\"rgb(128,128,128)\"/><circle cx=\"334\" cy=\"133\" r=\"12\" fill=\"rgb(80,80,80)\"/><circle cx=\"139\" cy=\"197\" r=\"12\" fill=\"rgb(135,135,135)\"/><circle cx=\"138\" cy=\"363\" r=\"13\" fill=\"rgb(71,71,71)\"/></svg><svg viewBox='0 0 430 430' id=\"svg\" width=\"172\" height=\"172\"><circle cx=\"215\" cy=\"215\" r=\"205\" fill=\"none\" stroke=\"black\" stroke-width=\"2\" stroke-dasharray=\"3,3\"/> <circle cx=\"92\" cy=\"175\" r=\"9\" fill=\"rgb(255,255,255)\" class=\"agent_1_11\"/><circle cx=\"302\" cy=\"49\" r=\"11\" fill=\"rgb(255,255,255)\" class=\"agent_1_26\"/><circle cx=\"107\" cy=\"295\" r=\"12\" fill=\"rgb(255,255,255)\" class=\"agent_1_49\"/><circle cx=\"267\" cy=\"110\" r=\"7\" fill=\"rgb(255,0,0)\" class=\"agent_1_55\"/><circle cx=\"334\" cy=\"133\" r=\"12\" fill=\"rgb(255,0,0)\" class=\"agent_1_69\"/><circle cx=\"139\" cy=\"197\" r=\"12\" fill=\"rgb(255,255,255)\" class=\"agent_1_72\"/><circle cx=\"138\" cy=\"363\" r=\"13\" fill=\"rgb(255,255,255)\" class=\"agent_1_79\"/></svg><svg viewBox='0 0 430 430' id=\"svg\" width=\"172\" height=\"172\"><circle cx=\"215\" cy=\"215\" r=\"205\" fill=\"none\" stroke=\"black\" stroke-width=\"2\" stroke-dasharray=\"3,3\"/> <circle cx=\"92\" cy=\"175\" r=\"9\" fill=\"rgb(255,255,255)\" class=\"agent_1_11\"/><circle cx=\"302\" cy=\"49\" r=\"11\" fill=\"rgb(255,0,0)\" class=\"agent_1_26\"/><circle cx=\"107\" cy=\"295\" r=\"12\" fill=\"rgb(255,255,255)\" class=\"agent_1_49\"/><circle cx=\"267\" cy=\"110\" r=\"7\" fill=\"rgb(255,0,0)\" class=\"agent_1_55\"/><circle cx=\"334\" cy=\"133\" r=\"12\" fill=\"rgb(255,0,0)\" class=\"agent_1_69\"/><circle cx=\"139\" cy=\"197\" r=\"12\" fill=\"rgb(255,255,255)\" class=\"agent_1_72\"/><circle cx=\"138\" cy=\"363\" r=\"13\" fill=\"rgb(255,255,255)\" class=\"agent_1_79\"/></svg></div>"
      ],
      "text/plain": [
       "<IPython.core.display.HTML object>"
      ]
     },
     "metadata": {},
     "output_type": "display_data"
    },
    {
     "name": "stdout",
     "output_type": "stream",
     "text": [
      "refs_true\n"
     ]
    },
    {
     "data": {
      "text/html": [
       "<div style=\"white-space: nowrap\"><svg viewbox='0 0 430 430' width=\"172\" height=\"172\" id=\"agent_1\"><circle cx=\"215\" cy=\"215\" r=\"205\" fill=\"none\" stroke=\"black\" stroke-width=\"2\" stroke-dasharray=\"3,3\"/><circle cx=\"92\" cy=\"175\" r=\"9\" fill=\"rgb(131,131,131)\"/><circle cx=\"302\" cy=\"49\" r=\"11\" fill=\"rgb(175,175,175)\"/><circle cx=\"107\" cy=\"295\" r=\"12\" fill=\"rgb(96,96,96)\"/><circle cx=\"267\" cy=\"110\" r=\"7\" fill=\"rgb(128,128,128)\"/><circle cx=\"334\" cy=\"133\" r=\"12\" fill=\"rgb(80,80,80)\"/><circle cx=\"139\" cy=\"197\" r=\"12\" fill=\"rgb(135,135,135)\"/><circle cx=\"138\" cy=\"363\" r=\"13\" fill=\"rgb(71,71,71)\"/></svg><svg viewBox='0 0 430 430' id=\"svg\" width=\"172\" height=\"172\"><circle cx=\"215\" cy=\"215\" r=\"205\" fill=\"none\" stroke=\"black\" stroke-width=\"2\" stroke-dasharray=\"3,3\"/> <circle cx=\"92\" cy=\"175\" r=\"9\" fill=\"rgb(255,255,255)\" class=\"agent_1_11\"/><circle cx=\"302\" cy=\"49\" r=\"11\" fill=\"rgb(255,0,0)\" class=\"agent_1_26\"/><circle cx=\"107\" cy=\"295\" r=\"12\" fill=\"rgb(255,255,255)\" class=\"agent_1_49\"/><circle cx=\"267\" cy=\"110\" r=\"7\" fill=\"rgb(255,0,0)\" class=\"agent_1_55\"/><circle cx=\"334\" cy=\"133\" r=\"12\" fill=\"rgb(255,0,0)\" class=\"agent_1_69\"/><circle cx=\"139\" cy=\"197\" r=\"12\" fill=\"rgb(255,255,255)\" class=\"agent_1_72\"/><circle cx=\"138\" cy=\"363\" r=\"13\" fill=\"rgb(255,255,255)\" class=\"agent_1_79\"/></svg><svg viewBox='0 0 430 430' id=\"svg\" width=\"172\" height=\"172\"><circle cx=\"215\" cy=\"215\" r=\"205\" fill=\"none\" stroke=\"black\" stroke-width=\"2\" stroke-dasharray=\"3,3\"/> <circle cx=\"92\" cy=\"175\" r=\"9\" fill=\"rgb(255,255,255)\" class=\"agent_1_11\"/><circle cx=\"302\" cy=\"49\" r=\"11\" fill=\"rgb(255,0,0)\" class=\"agent_1_26\"/><circle cx=\"107\" cy=\"295\" r=\"12\" fill=\"rgb(255,255,255)\" class=\"agent_1_49\"/><circle cx=\"267\" cy=\"110\" r=\"7\" fill=\"rgb(255,0,0)\" class=\"agent_1_55\"/><circle cx=\"334\" cy=\"133\" r=\"12\" fill=\"rgb(255,0,0)\" class=\"agent_1_69\"/><circle cx=\"139\" cy=\"197\" r=\"12\" fill=\"rgb(255,255,255)\" class=\"agent_1_72\"/><circle cx=\"138\" cy=\"363\" r=\"13\" fill=\"rgb(255,255,255)\" class=\"agent_1_79\"/></svg></div>"
      ],
      "text/plain": [
       "<IPython.core.display.HTML object>"
      ]
     },
     "metadata": {},
     "output_type": "display_data"
    },
    {
     "name": "stdout",
     "output_type": "stream",
     "text": [
      "utt: yes that 's the one i had , one of those dots ? <eos>\n",
      "detected markables:\n",
      "({'start': 7, 'end': 11, 'is_self': True, 'text': 'that'}, (2, 2, 3))\n",
      "({'start': 31, 'end': 48, 'is_self': True, 'text': 'one of those dots'}, (9, 12, 13))\n",
      "\n",
      "----------------------------------------\n",
      "\n",
      "human\tTHEM: yes , lets take the big dark one lower right <selection>\n",
      "partner_refs_pred\n"
     ]
    },
    {
     "data": {
      "text/html": [
       "<div style=\"white-space: nowrap\"><svg viewbox='0 0 430 430' width=\"172\" height=\"172\" id=\"agent_1\"><circle cx=\"215\" cy=\"215\" r=\"205\" fill=\"none\" stroke=\"black\" stroke-width=\"2\" stroke-dasharray=\"3,3\"/><circle cx=\"92\" cy=\"175\" r=\"9\" fill=\"rgb(131,131,131)\"/><circle cx=\"302\" cy=\"49\" r=\"11\" fill=\"rgb(175,175,175)\"/><circle cx=\"107\" cy=\"295\" r=\"12\" fill=\"rgb(96,96,96)\"/><circle cx=\"267\" cy=\"110\" r=\"7\" fill=\"rgb(128,128,128)\"/><circle cx=\"334\" cy=\"133\" r=\"12\" fill=\"rgb(80,80,80)\"/><circle cx=\"139\" cy=\"197\" r=\"12\" fill=\"rgb(135,135,135)\"/><circle cx=\"138\" cy=\"363\" r=\"13\" fill=\"rgb(71,71,71)\"/></svg><svg viewBox='0 0 430 430' id=\"svg\" width=\"172\" height=\"172\"><circle cx=\"215\" cy=\"215\" r=\"205\" fill=\"none\" stroke=\"black\" stroke-width=\"2\" stroke-dasharray=\"3,3\"/> <circle cx=\"92\" cy=\"175\" r=\"9\" fill=\"rgb(255,255,255)\" class=\"agent_1_11\"/><circle cx=\"302\" cy=\"49\" r=\"11\" fill=\"rgb(255,255,255)\" class=\"agent_1_26\"/><circle cx=\"107\" cy=\"295\" r=\"12\" fill=\"rgb(255,255,255)\" class=\"agent_1_49\"/><circle cx=\"267\" cy=\"110\" r=\"7\" fill=\"rgb(255,255,255)\" class=\"agent_1_55\"/><circle cx=\"334\" cy=\"133\" r=\"12\" fill=\"rgb(255,0,0)\" class=\"agent_1_69\"/><circle cx=\"139\" cy=\"197\" r=\"12\" fill=\"rgb(255,255,255)\" class=\"agent_1_72\"/><circle cx=\"138\" cy=\"363\" r=\"13\" fill=\"rgb(255,255,255)\" class=\"agent_1_79\"/></svg></div>"
      ],
      "text/plain": [
       "<IPython.core.display.HTML object>"
      ]
     },
     "metadata": {},
     "output_type": "display_data"
    },
    {
     "name": "stdout",
     "output_type": "stream",
     "text": [
      "partner_refs_true\n"
     ]
    },
    {
     "data": {
      "text/html": [
       "<div style=\"white-space: nowrap\"><svg viewbox='0 0 430 430' width=\"172\" height=\"172\" id=\"agent_1\"><circle cx=\"215\" cy=\"215\" r=\"205\" fill=\"none\" stroke=\"black\" stroke-width=\"2\" stroke-dasharray=\"3,3\"/><circle cx=\"92\" cy=\"175\" r=\"9\" fill=\"rgb(131,131,131)\"/><circle cx=\"302\" cy=\"49\" r=\"11\" fill=\"rgb(175,175,175)\"/><circle cx=\"107\" cy=\"295\" r=\"12\" fill=\"rgb(96,96,96)\"/><circle cx=\"267\" cy=\"110\" r=\"7\" fill=\"rgb(128,128,128)\"/><circle cx=\"334\" cy=\"133\" r=\"12\" fill=\"rgb(80,80,80)\"/><circle cx=\"139\" cy=\"197\" r=\"12\" fill=\"rgb(135,135,135)\"/><circle cx=\"138\" cy=\"363\" r=\"13\" fill=\"rgb(71,71,71)\"/></svg><svg viewBox='0 0 430 430' id=\"svg\" width=\"172\" height=\"172\"><circle cx=\"215\" cy=\"215\" r=\"205\" fill=\"none\" stroke=\"black\" stroke-width=\"2\" stroke-dasharray=\"3,3\"/> <circle cx=\"92\" cy=\"175\" r=\"9\" fill=\"rgb(255,255,255)\" class=\"agent_1_11\"/><circle cx=\"302\" cy=\"49\" r=\"11\" fill=\"rgb(255,255,255)\" class=\"agent_1_26\"/><circle cx=\"107\" cy=\"295\" r=\"12\" fill=\"rgb(255,255,255)\" class=\"agent_1_49\"/><circle cx=\"267\" cy=\"110\" r=\"7\" fill=\"rgb(255,255,255)\" class=\"agent_1_55\"/><circle cx=\"334\" cy=\"133\" r=\"12\" fill=\"rgb(255,0,0)\" class=\"agent_1_69\"/><circle cx=\"139\" cy=\"197\" r=\"12\" fill=\"rgb(255,255,255)\" class=\"agent_1_72\"/><circle cx=\"138\" cy=\"363\" r=\"13\" fill=\"rgb(255,255,255)\" class=\"agent_1_79\"/></svg></div>"
      ],
      "text/plain": [
       "<IPython.core.display.HTML object>"
      ]
     },
     "metadata": {},
     "output_type": "display_data"
    },
    {
     "name": "stdout",
     "output_type": "stream",
     "text": [
      "utt: yes , lets take the big dark one lower right <selection>\n",
      "detected markables:\n",
      "({'start': 19, 'end': 35, 'is_self': True, 'text': 'the big dark one'}, (5, 8, 9))\n",
      "\n",
      "----------------------------------------\n",
      "\n",
      "sel_pred\n"
     ]
    },
    {
     "data": {
      "text/html": [
       "<div style=\"white-space: nowrap\"><svg viewbox='0 0 430 430' width=\"172\" height=\"172\" id=\"agent_1\"><circle cx=\"215\" cy=\"215\" r=\"205\" fill=\"none\" stroke=\"black\" stroke-width=\"2\" stroke-dasharray=\"3,3\"/><circle cx=\"92\" cy=\"175\" r=\"9\" fill=\"rgb(131,131,131)\"/><circle cx=\"302\" cy=\"49\" r=\"11\" fill=\"rgb(175,175,175)\"/><circle cx=\"107\" cy=\"295\" r=\"12\" fill=\"rgb(96,96,96)\"/><circle cx=\"267\" cy=\"110\" r=\"7\" fill=\"rgb(128,128,128)\"/><circle cx=\"334\" cy=\"133\" r=\"12\" fill=\"rgb(80,80,80)\"/><circle cx=\"139\" cy=\"197\" r=\"12\" fill=\"rgb(135,135,135)\"/><circle cx=\"138\" cy=\"363\" r=\"13\" fill=\"rgb(71,71,71)\"/></svg><svg viewBox='0 0 430 430' id=\"svg\" width=\"172\" height=\"172\"><circle cx=\"215\" cy=\"215\" r=\"205\" fill=\"none\" stroke=\"black\" stroke-width=\"2\" stroke-dasharray=\"3,3\"/> <circle cx=\"92\" cy=\"175\" r=\"9\" fill=\"rgb(255,254,254)\" class=\"agent_1_11\"/><circle cx=\"302\" cy=\"49\" r=\"11\" fill=\"rgb(255,254,254)\" class=\"agent_1_26\"/><circle cx=\"107\" cy=\"295\" r=\"12\" fill=\"rgb(255,149,149)\" class=\"agent_1_49\"/><circle cx=\"267\" cy=\"110\" r=\"7\" fill=\"rgb(255,254,254)\" class=\"agent_1_55\"/><circle cx=\"334\" cy=\"133\" r=\"12\" fill=\"rgb(255,69,69)\" class=\"agent_1_69\"/><circle cx=\"139\" cy=\"197\" r=\"12\" fill=\"rgb(255,254,254)\" class=\"agent_1_72\"/><circle cx=\"138\" cy=\"363\" r=\"13\" fill=\"rgb(255,182,182)\" class=\"agent_1_79\"/></svg></div>"
      ],
      "text/plain": [
       "<IPython.core.display.HTML object>"
      ]
     },
     "metadata": {},
     "output_type": "display_data"
    },
    {
     "name": "stdout",
     "output_type": "stream",
     "text": [
      "sel_true\n"
     ]
    },
    {
     "data": {
      "text/html": [
       "<div style=\"white-space: nowrap\"><svg viewbox='0 0 430 430' width=\"172\" height=\"172\" id=\"agent_1\"><circle cx=\"215\" cy=\"215\" r=\"205\" fill=\"none\" stroke=\"black\" stroke-width=\"2\" stroke-dasharray=\"3,3\"/><circle cx=\"92\" cy=\"175\" r=\"9\" fill=\"rgb(131,131,131)\"/><circle cx=\"302\" cy=\"49\" r=\"11\" fill=\"rgb(175,175,175)\"/><circle cx=\"107\" cy=\"295\" r=\"12\" fill=\"rgb(96,96,96)\"/><circle cx=\"267\" cy=\"110\" r=\"7\" fill=\"rgb(128,128,128)\"/><circle cx=\"334\" cy=\"133\" r=\"12\" fill=\"rgb(80,80,80)\"/><circle cx=\"139\" cy=\"197\" r=\"12\" fill=\"rgb(135,135,135)\"/><circle cx=\"138\" cy=\"363\" r=\"13\" fill=\"rgb(71,71,71)\"/></svg><svg viewBox='0 0 430 430' id=\"svg\" width=\"172\" height=\"172\"><circle cx=\"215\" cy=\"215\" r=\"205\" fill=\"none\" stroke=\"black\" stroke-width=\"2\" stroke-dasharray=\"3,3\"/> <circle cx=\"92\" cy=\"175\" r=\"9\" fill=\"rgb(255,255,255)\" class=\"agent_1_11\"/><circle cx=\"302\" cy=\"49\" r=\"11\" fill=\"rgb(255,255,255)\" class=\"agent_1_26\"/><circle cx=\"107\" cy=\"295\" r=\"12\" fill=\"rgb(255,255,255)\" class=\"agent_1_49\"/><circle cx=\"267\" cy=\"110\" r=\"7\" fill=\"rgb(255,255,255)\" class=\"agent_1_55\"/><circle cx=\"334\" cy=\"133\" r=\"12\" fill=\"rgb(255,0,0)\" class=\"agent_1_69\"/><circle cx=\"139\" cy=\"197\" r=\"12\" fill=\"rgb(255,255,255)\" class=\"agent_1_72\"/><circle cx=\"138\" cy=\"363\" r=\"13\" fill=\"rgb(255,255,255)\" class=\"agent_1_79\"/></svg></div>"
      ],
      "text/plain": [
       "<IPython.core.display.HTML object>"
      ]
     },
     "metadata": {},
     "output_type": "display_data"
    }
   ],
   "source": [
    "force_contexts_and_mentions(10)"
   ]
  },
  {
   "cell_type": "code",
   "execution_count": 79,
   "metadata": {
    "scrolled": false
   },
   "outputs": [
    {
     "name": "stdout",
     "output_type": "stream",
     "text": [
      "empty to_mention_pred\n",
      "to_mention_true\n"
     ]
    },
    {
     "data": {
      "text/html": [
       "<div style=\"white-space: nowrap\"><svg viewbox='0 0 430 430' width=\"172\" height=\"172\" id=\"agent_1\"><circle cx=\"215\" cy=\"215\" r=\"205\" fill=\"none\" stroke=\"black\" stroke-width=\"2\" stroke-dasharray=\"3,3\"/><circle cx=\"276\" cy=\"386\" r=\"13\" fill=\"rgb(57,57,57)\"/><circle cx=\"321\" cy=\"104\" r=\"8\" fill=\"rgb(180,180,180)\"/><circle cx=\"188\" cy=\"125\" r=\"9\" fill=\"rgb(116,116,116)\"/><circle cx=\"361\" cy=\"295\" r=\"9\" fill=\"rgb(131,131,131)\"/><circle cx=\"121\" cy=\"239\" r=\"12\" fill=\"rgb(103,103,103)\"/><circle cx=\"171\" cy=\"29\" r=\"12\" fill=\"rgb(153,153,153)\"/><circle cx=\"97\" cy=\"268\" r=\"13\" fill=\"rgb(68,68,68)\"/></svg><svg viewBox='0 0 430 430' id=\"svg\" width=\"172\" height=\"172\"><circle cx=\"215\" cy=\"215\" r=\"205\" fill=\"none\" stroke=\"black\" stroke-width=\"2\" stroke-dasharray=\"3,3\"/> <circle cx=\"276\" cy=\"386\" r=\"13\" fill=\"rgb(255,255,255)\" class=\"agent_1_3\"/><circle cx=\"321\" cy=\"104\" r=\"8\" fill=\"rgb(255,255,255)\" class=\"agent_1_13\"/><circle cx=\"188\" cy=\"125\" r=\"9\" fill=\"rgb(255,255,255)\" class=\"agent_1_14\"/><circle cx=\"361\" cy=\"295\" r=\"9\" fill=\"rgb(255,255,255)\" class=\"agent_1_32\"/><circle cx=\"121\" cy=\"239\" r=\"12\" fill=\"rgb(255,255,255)\" class=\"agent_1_57\"/><circle cx=\"171\" cy=\"29\" r=\"12\" fill=\"rgb(255,255,255)\" class=\"agent_1_75\"/><circle cx=\"97\" cy=\"268\" r=\"13\" fill=\"rgb(255,0,0)\" class=\"agent_1_78\"/></svg><svg viewBox='0 0 430 430' id=\"svg\" width=\"172\" height=\"172\"><circle cx=\"215\" cy=\"215\" r=\"205\" fill=\"none\" stroke=\"black\" stroke-width=\"2\" stroke-dasharray=\"3,3\"/> <circle cx=\"276\" cy=\"386\" r=\"13\" fill=\"rgb(255,255,255)\" class=\"agent_1_3\"/><circle cx=\"321\" cy=\"104\" r=\"8\" fill=\"rgb(255,255,255)\" class=\"agent_1_13\"/><circle cx=\"188\" cy=\"125\" r=\"9\" fill=\"rgb(255,255,255)\" class=\"agent_1_14\"/><circle cx=\"361\" cy=\"295\" r=\"9\" fill=\"rgb(255,255,255)\" class=\"agent_1_32\"/><circle cx=\"121\" cy=\"239\" r=\"12\" fill=\"rgb(255,0,0)\" class=\"agent_1_57\"/><circle cx=\"171\" cy=\"29\" r=\"12\" fill=\"rgb(255,255,255)\" class=\"agent_1_75\"/><circle cx=\"97\" cy=\"268\" r=\"13\" fill=\"rgb(255,255,255)\" class=\"agent_1_78\"/></svg></div>"
      ],
      "text/plain": [
       "<IPython.core.display.HTML object>"
      ]
     },
     "metadata": {},
     "output_type": "display_data"
    },
    {
     "name": "stdout",
     "output_type": "stream",
     "text": [
      "beam 0\ti have a large black dot with a larger dark grey dot to the right and slightly above <eos>\n",
      "greedy\ti have a large black dot with a larger dark grey dot to the right and slightly above <eos>\n",
      "human\ti have a large dark dot with a slightly lighter and smaller dot above and to the right <eos>\n",
      "refs_pred\n"
     ]
    },
    {
     "data": {
      "text/html": [
       "<div style=\"white-space: nowrap\"><svg viewbox='0 0 430 430' width=\"172\" height=\"172\" id=\"agent_1\"><circle cx=\"215\" cy=\"215\" r=\"205\" fill=\"none\" stroke=\"black\" stroke-width=\"2\" stroke-dasharray=\"3,3\"/><circle cx=\"276\" cy=\"386\" r=\"13\" fill=\"rgb(57,57,57)\"/><circle cx=\"321\" cy=\"104\" r=\"8\" fill=\"rgb(180,180,180)\"/><circle cx=\"188\" cy=\"125\" r=\"9\" fill=\"rgb(116,116,116)\"/><circle cx=\"361\" cy=\"295\" r=\"9\" fill=\"rgb(131,131,131)\"/><circle cx=\"121\" cy=\"239\" r=\"12\" fill=\"rgb(103,103,103)\"/><circle cx=\"171\" cy=\"29\" r=\"12\" fill=\"rgb(153,153,153)\"/><circle cx=\"97\" cy=\"268\" r=\"13\" fill=\"rgb(68,68,68)\"/></svg><svg viewBox='0 0 430 430' id=\"svg\" width=\"172\" height=\"172\"><circle cx=\"215\" cy=\"215\" r=\"205\" fill=\"none\" stroke=\"black\" stroke-width=\"2\" stroke-dasharray=\"3,3\"/> <circle cx=\"276\" cy=\"386\" r=\"13\" fill=\"rgb(255,255,255)\" class=\"agent_1_3\"/><circle cx=\"321\" cy=\"104\" r=\"8\" fill=\"rgb(255,255,255)\" class=\"agent_1_13\"/><circle cx=\"188\" cy=\"125\" r=\"9\" fill=\"rgb(255,255,255)\" class=\"agent_1_14\"/><circle cx=\"361\" cy=\"295\" r=\"9\" fill=\"rgb(255,255,255)\" class=\"agent_1_32\"/><circle cx=\"121\" cy=\"239\" r=\"12\" fill=\"rgb(255,255,255)\" class=\"agent_1_57\"/><circle cx=\"171\" cy=\"29\" r=\"12\" fill=\"rgb(255,255,255)\" class=\"agent_1_75\"/><circle cx=\"97\" cy=\"268\" r=\"13\" fill=\"rgb(255,0,0)\" class=\"agent_1_78\"/></svg><svg viewBox='0 0 430 430' id=\"svg\" width=\"172\" height=\"172\"><circle cx=\"215\" cy=\"215\" r=\"205\" fill=\"none\" stroke=\"black\" stroke-width=\"2\" stroke-dasharray=\"3,3\"/> <circle cx=\"276\" cy=\"386\" r=\"13\" fill=\"rgb(255,255,255)\" class=\"agent_1_3\"/><circle cx=\"321\" cy=\"104\" r=\"8\" fill=\"rgb(255,255,255)\" class=\"agent_1_13\"/><circle cx=\"188\" cy=\"125\" r=\"9\" fill=\"rgb(255,255,255)\" class=\"agent_1_14\"/><circle cx=\"361\" cy=\"295\" r=\"9\" fill=\"rgb(255,255,255)\" class=\"agent_1_32\"/><circle cx=\"121\" cy=\"239\" r=\"12\" fill=\"rgb(255,0,0)\" class=\"agent_1_57\"/><circle cx=\"171\" cy=\"29\" r=\"12\" fill=\"rgb(255,255,255)\" class=\"agent_1_75\"/><circle cx=\"97\" cy=\"268\" r=\"13\" fill=\"rgb(255,255,255)\" class=\"agent_1_78\"/></svg></div>"
      ],
      "text/plain": [
       "<IPython.core.display.HTML object>"
      ]
     },
     "metadata": {},
     "output_type": "display_data"
    },
    {
     "name": "stdout",
     "output_type": "stream",
     "text": [
      "refs_true\n"
     ]
    },
    {
     "data": {
      "text/html": [
       "<div style=\"white-space: nowrap\"><svg viewbox='0 0 430 430' width=\"172\" height=\"172\" id=\"agent_1\"><circle cx=\"215\" cy=\"215\" r=\"205\" fill=\"none\" stroke=\"black\" stroke-width=\"2\" stroke-dasharray=\"3,3\"/><circle cx=\"276\" cy=\"386\" r=\"13\" fill=\"rgb(57,57,57)\"/><circle cx=\"321\" cy=\"104\" r=\"8\" fill=\"rgb(180,180,180)\"/><circle cx=\"188\" cy=\"125\" r=\"9\" fill=\"rgb(116,116,116)\"/><circle cx=\"361\" cy=\"295\" r=\"9\" fill=\"rgb(131,131,131)\"/><circle cx=\"121\" cy=\"239\" r=\"12\" fill=\"rgb(103,103,103)\"/><circle cx=\"171\" cy=\"29\" r=\"12\" fill=\"rgb(153,153,153)\"/><circle cx=\"97\" cy=\"268\" r=\"13\" fill=\"rgb(68,68,68)\"/></svg><svg viewBox='0 0 430 430' id=\"svg\" width=\"172\" height=\"172\"><circle cx=\"215\" cy=\"215\" r=\"205\" fill=\"none\" stroke=\"black\" stroke-width=\"2\" stroke-dasharray=\"3,3\"/> <circle cx=\"276\" cy=\"386\" r=\"13\" fill=\"rgb(255,255,255)\" class=\"agent_1_3\"/><circle cx=\"321\" cy=\"104\" r=\"8\" fill=\"rgb(255,255,255)\" class=\"agent_1_13\"/><circle cx=\"188\" cy=\"125\" r=\"9\" fill=\"rgb(255,255,255)\" class=\"agent_1_14\"/><circle cx=\"361\" cy=\"295\" r=\"9\" fill=\"rgb(255,255,255)\" class=\"agent_1_32\"/><circle cx=\"121\" cy=\"239\" r=\"12\" fill=\"rgb(255,255,255)\" class=\"agent_1_57\"/><circle cx=\"171\" cy=\"29\" r=\"12\" fill=\"rgb(255,255,255)\" class=\"agent_1_75\"/><circle cx=\"97\" cy=\"268\" r=\"13\" fill=\"rgb(255,0,0)\" class=\"agent_1_78\"/></svg><svg viewBox='0 0 430 430' id=\"svg\" width=\"172\" height=\"172\"><circle cx=\"215\" cy=\"215\" r=\"205\" fill=\"none\" stroke=\"black\" stroke-width=\"2\" stroke-dasharray=\"3,3\"/> <circle cx=\"276\" cy=\"386\" r=\"13\" fill=\"rgb(255,255,255)\" class=\"agent_1_3\"/><circle cx=\"321\" cy=\"104\" r=\"8\" fill=\"rgb(255,255,255)\" class=\"agent_1_13\"/><circle cx=\"188\" cy=\"125\" r=\"9\" fill=\"rgb(255,255,255)\" class=\"agent_1_14\"/><circle cx=\"361\" cy=\"295\" r=\"9\" fill=\"rgb(255,255,255)\" class=\"agent_1_32\"/><circle cx=\"121\" cy=\"239\" r=\"12\" fill=\"rgb(255,0,0)\" class=\"agent_1_57\"/><circle cx=\"171\" cy=\"29\" r=\"12\" fill=\"rgb(255,255,255)\" class=\"agent_1_75\"/><circle cx=\"97\" cy=\"268\" r=\"13\" fill=\"rgb(255,255,255)\" class=\"agent_1_78\"/></svg></div>"
      ],
      "text/plain": [
       "<IPython.core.display.HTML object>"
      ]
     },
     "metadata": {},
     "output_type": "display_data"
    },
    {
     "name": "stdout",
     "output_type": "stream",
     "text": [
      "utt: i have a large dark dot with a slightly lighter and smaller dot above and to the right <eos>\n",
      "detected markables:\n",
      "({'start': 10, 'end': 26, 'is_self': True, 'text': 'a large dark dot'}, (3, 6, 7))\n",
      "({'start': 32, 'end': 66, 'is_self': True, 'text': 'a slightly lighter and smaller dot'}, (8, 13, 14))\n",
      "\n",
      "----------------------------------------\n",
      "\n",
      "human\tTHEM: i do too . choose the darker one <selection>\n",
      "partner_refs_pred\n"
     ]
    },
    {
     "data": {
      "text/html": [
       "<div style=\"white-space: nowrap\"><svg viewbox='0 0 430 430' width=\"172\" height=\"172\" id=\"agent_1\"><circle cx=\"215\" cy=\"215\" r=\"205\" fill=\"none\" stroke=\"black\" stroke-width=\"2\" stroke-dasharray=\"3,3\"/><circle cx=\"276\" cy=\"386\" r=\"13\" fill=\"rgb(57,57,57)\"/><circle cx=\"321\" cy=\"104\" r=\"8\" fill=\"rgb(180,180,180)\"/><circle cx=\"188\" cy=\"125\" r=\"9\" fill=\"rgb(116,116,116)\"/><circle cx=\"361\" cy=\"295\" r=\"9\" fill=\"rgb(131,131,131)\"/><circle cx=\"121\" cy=\"239\" r=\"12\" fill=\"rgb(103,103,103)\"/><circle cx=\"171\" cy=\"29\" r=\"12\" fill=\"rgb(153,153,153)\"/><circle cx=\"97\" cy=\"268\" r=\"13\" fill=\"rgb(68,68,68)\"/></svg><svg viewBox='0 0 430 430' id=\"svg\" width=\"172\" height=\"172\"><circle cx=\"215\" cy=\"215\" r=\"205\" fill=\"none\" stroke=\"black\" stroke-width=\"2\" stroke-dasharray=\"3,3\"/> <circle cx=\"276\" cy=\"386\" r=\"13\" fill=\"rgb(255,255,255)\" class=\"agent_1_3\"/><circle cx=\"321\" cy=\"104\" r=\"8\" fill=\"rgb(255,255,255)\" class=\"agent_1_13\"/><circle cx=\"188\" cy=\"125\" r=\"9\" fill=\"rgb(255,255,255)\" class=\"agent_1_14\"/><circle cx=\"361\" cy=\"295\" r=\"9\" fill=\"rgb(255,255,255)\" class=\"agent_1_32\"/><circle cx=\"121\" cy=\"239\" r=\"12\" fill=\"rgb(255,255,255)\" class=\"agent_1_57\"/><circle cx=\"171\" cy=\"29\" r=\"12\" fill=\"rgb(255,255,255)\" class=\"agent_1_75\"/><circle cx=\"97\" cy=\"268\" r=\"13\" fill=\"rgb(255,0,0)\" class=\"agent_1_78\"/></svg></div>"
      ],
      "text/plain": [
       "<IPython.core.display.HTML object>"
      ]
     },
     "metadata": {},
     "output_type": "display_data"
    },
    {
     "name": "stdout",
     "output_type": "stream",
     "text": [
      "partner_refs_true\n"
     ]
    },
    {
     "data": {
      "text/html": [
       "<div style=\"white-space: nowrap\"><svg viewbox='0 0 430 430' width=\"172\" height=\"172\" id=\"agent_1\"><circle cx=\"215\" cy=\"215\" r=\"205\" fill=\"none\" stroke=\"black\" stroke-width=\"2\" stroke-dasharray=\"3,3\"/><circle cx=\"276\" cy=\"386\" r=\"13\" fill=\"rgb(57,57,57)\"/><circle cx=\"321\" cy=\"104\" r=\"8\" fill=\"rgb(180,180,180)\"/><circle cx=\"188\" cy=\"125\" r=\"9\" fill=\"rgb(116,116,116)\"/><circle cx=\"361\" cy=\"295\" r=\"9\" fill=\"rgb(131,131,131)\"/><circle cx=\"121\" cy=\"239\" r=\"12\" fill=\"rgb(103,103,103)\"/><circle cx=\"171\" cy=\"29\" r=\"12\" fill=\"rgb(153,153,153)\"/><circle cx=\"97\" cy=\"268\" r=\"13\" fill=\"rgb(68,68,68)\"/></svg><svg viewBox='0 0 430 430' id=\"svg\" width=\"172\" height=\"172\"><circle cx=\"215\" cy=\"215\" r=\"205\" fill=\"none\" stroke=\"black\" stroke-width=\"2\" stroke-dasharray=\"3,3\"/> <circle cx=\"276\" cy=\"386\" r=\"13\" fill=\"rgb(255,255,255)\" class=\"agent_1_3\"/><circle cx=\"321\" cy=\"104\" r=\"8\" fill=\"rgb(255,255,255)\" class=\"agent_1_13\"/><circle cx=\"188\" cy=\"125\" r=\"9\" fill=\"rgb(255,255,255)\" class=\"agent_1_14\"/><circle cx=\"361\" cy=\"295\" r=\"9\" fill=\"rgb(255,255,255)\" class=\"agent_1_32\"/><circle cx=\"121\" cy=\"239\" r=\"12\" fill=\"rgb(255,255,255)\" class=\"agent_1_57\"/><circle cx=\"171\" cy=\"29\" r=\"12\" fill=\"rgb(255,255,255)\" class=\"agent_1_75\"/><circle cx=\"97\" cy=\"268\" r=\"13\" fill=\"rgb(255,0,0)\" class=\"agent_1_78\"/></svg></div>"
      ],
      "text/plain": [
       "<IPython.core.display.HTML object>"
      ]
     },
     "metadata": {},
     "output_type": "display_data"
    },
    {
     "name": "stdout",
     "output_type": "stream",
     "text": [
      "utt: i do too . choose the darker one <selection>\n",
      "detected markables:\n",
      "({'start': 21, 'end': 35, 'is_self': True, 'text': 'the darker one'}, (6, 8, 9))\n",
      "\n",
      "----------------------------------------\n",
      "\n",
      "sel_pred\n"
     ]
    },
    {
     "data": {
      "text/html": [
       "<div style=\"white-space: nowrap\"><svg viewbox='0 0 430 430' width=\"172\" height=\"172\" id=\"agent_1\"><circle cx=\"215\" cy=\"215\" r=\"205\" fill=\"none\" stroke=\"black\" stroke-width=\"2\" stroke-dasharray=\"3,3\"/><circle cx=\"276\" cy=\"386\" r=\"13\" fill=\"rgb(57,57,57)\"/><circle cx=\"321\" cy=\"104\" r=\"8\" fill=\"rgb(180,180,180)\"/><circle cx=\"188\" cy=\"125\" r=\"9\" fill=\"rgb(116,116,116)\"/><circle cx=\"361\" cy=\"295\" r=\"9\" fill=\"rgb(131,131,131)\"/><circle cx=\"121\" cy=\"239\" r=\"12\" fill=\"rgb(103,103,103)\"/><circle cx=\"171\" cy=\"29\" r=\"12\" fill=\"rgb(153,153,153)\"/><circle cx=\"97\" cy=\"268\" r=\"13\" fill=\"rgb(68,68,68)\"/></svg><svg viewBox='0 0 430 430' id=\"svg\" width=\"172\" height=\"172\"><circle cx=\"215\" cy=\"215\" r=\"205\" fill=\"none\" stroke=\"black\" stroke-width=\"2\" stroke-dasharray=\"3,3\"/> <circle cx=\"276\" cy=\"386\" r=\"13\" fill=\"rgb(255,106,106)\" class=\"agent_1_3\"/><circle cx=\"321\" cy=\"104\" r=\"8\" fill=\"rgb(255,254,254)\" class=\"agent_1_13\"/><circle cx=\"188\" cy=\"125\" r=\"9\" fill=\"rgb(255,254,254)\" class=\"agent_1_14\"/><circle cx=\"361\" cy=\"295\" r=\"9\" fill=\"rgb(255,254,254)\" class=\"agent_1_32\"/><circle cx=\"121\" cy=\"239\" r=\"12\" fill=\"rgb(255,225,225)\" class=\"agent_1_57\"/><circle cx=\"171\" cy=\"29\" r=\"12\" fill=\"rgb(255,254,254)\" class=\"agent_1_75\"/><circle cx=\"97\" cy=\"268\" r=\"13\" fill=\"rgb(255,123,123)\" class=\"agent_1_78\"/></svg></div>"
      ],
      "text/plain": [
       "<IPython.core.display.HTML object>"
      ]
     },
     "metadata": {},
     "output_type": "display_data"
    },
    {
     "name": "stdout",
     "output_type": "stream",
     "text": [
      "sel_true\n"
     ]
    },
    {
     "data": {
      "text/html": [
       "<div style=\"white-space: nowrap\"><svg viewbox='0 0 430 430' width=\"172\" height=\"172\" id=\"agent_1\"><circle cx=\"215\" cy=\"215\" r=\"205\" fill=\"none\" stroke=\"black\" stroke-width=\"2\" stroke-dasharray=\"3,3\"/><circle cx=\"276\" cy=\"386\" r=\"13\" fill=\"rgb(57,57,57)\"/><circle cx=\"321\" cy=\"104\" r=\"8\" fill=\"rgb(180,180,180)\"/><circle cx=\"188\" cy=\"125\" r=\"9\" fill=\"rgb(116,116,116)\"/><circle cx=\"361\" cy=\"295\" r=\"9\" fill=\"rgb(131,131,131)\"/><circle cx=\"121\" cy=\"239\" r=\"12\" fill=\"rgb(103,103,103)\"/><circle cx=\"171\" cy=\"29\" r=\"12\" fill=\"rgb(153,153,153)\"/><circle cx=\"97\" cy=\"268\" r=\"13\" fill=\"rgb(68,68,68)\"/></svg><svg viewBox='0 0 430 430' id=\"svg\" width=\"172\" height=\"172\"><circle cx=\"215\" cy=\"215\" r=\"205\" fill=\"none\" stroke=\"black\" stroke-width=\"2\" stroke-dasharray=\"3,3\"/> <circle cx=\"276\" cy=\"386\" r=\"13\" fill=\"rgb(255,255,255)\" class=\"agent_1_3\"/><circle cx=\"321\" cy=\"104\" r=\"8\" fill=\"rgb(255,255,255)\" class=\"agent_1_13\"/><circle cx=\"188\" cy=\"125\" r=\"9\" fill=\"rgb(255,255,255)\" class=\"agent_1_14\"/><circle cx=\"361\" cy=\"295\" r=\"9\" fill=\"rgb(255,255,255)\" class=\"agent_1_32\"/><circle cx=\"121\" cy=\"239\" r=\"12\" fill=\"rgb(255,255,255)\" class=\"agent_1_57\"/><circle cx=\"171\" cy=\"29\" r=\"12\" fill=\"rgb(255,255,255)\" class=\"agent_1_75\"/><circle cx=\"97\" cy=\"268\" r=\"13\" fill=\"rgb(255,0,0)\" class=\"agent_1_78\"/></svg></div>"
      ],
      "text/plain": [
       "<IPython.core.display.HTML object>"
      ]
     },
     "metadata": {},
     "output_type": "display_data"
    }
   ],
   "source": [
    "force_contexts_and_mentions(11)"
   ]
  },
  {
   "cell_type": "code",
   "execution_count": 58,
   "metadata": {},
   "outputs": [],
   "source": [
    "import json\n",
    "from utils import ContextGenerator"
   ]
  },
  {
   "cell_type": "code",
   "execution_count": 43,
   "metadata": {},
   "outputs": [],
   "source": [
    "ctx_gen = ContextGenerator('data/onecommon/shared_4.txt')"
   ]
  },
  {
   "cell_type": "code",
   "execution_count": 44,
   "metadata": {},
   "outputs": [],
   "source": [
    "with open('data/onecommon/shared_4.json', \"r\") as f:\n",
    "    scenario_list = json.load(f)\n",
    "selfplay_scenarios = {scenario['uuid']: scenario for scenario in scenario_list}"
   ]
  },
  {
   "cell_type": "code",
   "execution_count": 45,
   "metadata": {},
   "outputs": [
    {
     "name": "stdout",
     "output_type": "stream",
     "text": [
      "S_xM5bXi3lMqXHKKgP\n"
     ]
    }
   ],
   "source": [
    "scenario = None\n",
    "for ix, ([scenario_id], (ctx1, ctx2), (ids1, ids2)) in enumerate(ctx_gen.iter()):\n",
    "#     if scenario_id == 'S_11J8n40u4HRVduwi':\n",
    "#         print('found it')\n",
    "#         scenario = scenarios[scenario_id]\n",
    "#         break\n",
    "    if ix == 2:\n",
    "        scenario = selfplay_scenarios[scenario_id]\n",
    "        print(scenario_id)\n",
    "        break"
   ]
  },
  {
   "cell_type": "code",
   "execution_count": 46,
   "metadata": {},
   "outputs": [],
   "source": [
    "import random"
   ]
  },
  {
   "cell_type": "code",
   "execution_count": null,
   "metadata": {
    "scrolled": false
   },
   "outputs": [
    {
     "ename": "NameError",
     "evalue": "name 'selfplay_scenarios' is not defined",
     "output_type": "error",
     "traceback": [
      "\u001b[0;31m---------------------------------------------------------------------------\u001b[0m",
      "\u001b[0;31mNameError\u001b[0m                                 Traceback (most recent call last)",
      "\u001b[0;32m<ipython-input-41-e274016a0281>\u001b[0m in \u001b[0;36m<module>\u001b[0;34m\u001b[0m\n\u001b[1;32m      1\u001b[0m \u001b[0;31m# selfplay emulation\u001b[0m\u001b[0;34m\u001b[0m\u001b[0;34m\u001b[0m\u001b[0;34m\u001b[0m\u001b[0m\n\u001b[0;32m----> 2\u001b[0;31m \u001b[0mscenario\u001b[0m \u001b[0;34m=\u001b[0m \u001b[0mselfplay_scenarios\u001b[0m\u001b[0;34m[\u001b[0m\u001b[0mscenario_id\u001b[0m\u001b[0;34m]\u001b[0m\u001b[0;34m\u001b[0m\u001b[0;34m\u001b[0m\u001b[0m\n\u001b[0m\u001b[1;32m      3\u001b[0m \u001b[0;32mfor\u001b[0m \u001b[0magent\u001b[0m\u001b[0;34m,\u001b[0m \u001b[0magent_id\u001b[0m\u001b[0;34m,\u001b[0m \u001b[0mctx\u001b[0m\u001b[0;34m,\u001b[0m \u001b[0mreal_ids\u001b[0m \u001b[0;32min\u001b[0m \u001b[0mzip\u001b[0m\u001b[0;34m(\u001b[0m\u001b[0;34m[\u001b[0m\u001b[0malice\u001b[0m\u001b[0;34m,\u001b[0m \u001b[0mbob\u001b[0m\u001b[0;34m]\u001b[0m\u001b[0;34m,\u001b[0m \u001b[0;34m[\u001b[0m\u001b[0;36m0\u001b[0m\u001b[0;34m,\u001b[0m \u001b[0;36m1\u001b[0m\u001b[0;34m]\u001b[0m\u001b[0;34m,\u001b[0m \u001b[0;34m[\u001b[0m\u001b[0mctx1\u001b[0m\u001b[0;34m,\u001b[0m \u001b[0mctx2\u001b[0m\u001b[0;34m]\u001b[0m\u001b[0;34m,\u001b[0m \u001b[0;34m[\u001b[0m\u001b[0mids1\u001b[0m\u001b[0;34m,\u001b[0m \u001b[0mids2\u001b[0m\u001b[0;34m]\u001b[0m\u001b[0;34m)\u001b[0m\u001b[0;34m:\u001b[0m\u001b[0;34m\u001b[0m\u001b[0;34m\u001b[0m\u001b[0m\n\u001b[1;32m      4\u001b[0m     \u001b[0magent\u001b[0m\u001b[0;34m.\u001b[0m\u001b[0mfeed_context\u001b[0m\u001b[0;34m(\u001b[0m\u001b[0mctx\u001b[0m\u001b[0;34m)\u001b[0m\u001b[0;34m\u001b[0m\u001b[0;34m\u001b[0m\u001b[0m\n\u001b[1;32m      5\u001b[0m     \u001b[0magent\u001b[0m\u001b[0;34m.\u001b[0m\u001b[0mreal_ids\u001b[0m \u001b[0;34m=\u001b[0m \u001b[0mreal_ids\u001b[0m\u001b[0;34m\u001b[0m\u001b[0;34m\u001b[0m\u001b[0m\n",
      "\u001b[0;31mNameError\u001b[0m: name 'selfplay_scenarios' is not defined"
     ]
    },
    {
     "name": "stdout",
     "output_type": "stream",
     "text": [
      "> \u001b[0;32m<ipython-input-41-e274016a0281>\u001b[0m(2)\u001b[0;36m<module>\u001b[0;34m()\u001b[0m\n",
      "\u001b[0;32m      1 \u001b[0;31m\u001b[0;31m# selfplay emulation\u001b[0m\u001b[0;34m\u001b[0m\u001b[0;34m\u001b[0m\u001b[0;34m\u001b[0m\u001b[0m\n",
      "\u001b[0m\u001b[0;32m----> 2 \u001b[0;31m\u001b[0mscenario\u001b[0m \u001b[0;34m=\u001b[0m \u001b[0mselfplay_scenarios\u001b[0m\u001b[0;34m[\u001b[0m\u001b[0mscenario_id\u001b[0m\u001b[0;34m]\u001b[0m\u001b[0;34m\u001b[0m\u001b[0;34m\u001b[0m\u001b[0m\n",
      "\u001b[0m\u001b[0;32m      3 \u001b[0;31m\u001b[0;32mfor\u001b[0m \u001b[0magent\u001b[0m\u001b[0;34m,\u001b[0m \u001b[0magent_id\u001b[0m\u001b[0;34m,\u001b[0m \u001b[0mctx\u001b[0m\u001b[0;34m,\u001b[0m \u001b[0mreal_ids\u001b[0m \u001b[0;32min\u001b[0m \u001b[0mzip\u001b[0m\u001b[0;34m(\u001b[0m\u001b[0;34m[\u001b[0m\u001b[0malice\u001b[0m\u001b[0;34m,\u001b[0m \u001b[0mbob\u001b[0m\u001b[0;34m]\u001b[0m\u001b[0;34m,\u001b[0m \u001b[0;34m[\u001b[0m\u001b[0;36m0\u001b[0m\u001b[0;34m,\u001b[0m \u001b[0;36m1\u001b[0m\u001b[0;34m]\u001b[0m\u001b[0;34m,\u001b[0m \u001b[0;34m[\u001b[0m\u001b[0mctx1\u001b[0m\u001b[0;34m,\u001b[0m \u001b[0mctx2\u001b[0m\u001b[0;34m]\u001b[0m\u001b[0;34m,\u001b[0m \u001b[0;34m[\u001b[0m\u001b[0mids1\u001b[0m\u001b[0;34m,\u001b[0m \u001b[0mids2\u001b[0m\u001b[0;34m]\u001b[0m\u001b[0;34m)\u001b[0m\u001b[0;34m:\u001b[0m\u001b[0;34m\u001b[0m\u001b[0;34m\u001b[0m\u001b[0m\n",
      "\u001b[0m\u001b[0;32m      4 \u001b[0;31m    \u001b[0magent\u001b[0m\u001b[0;34m.\u001b[0m\u001b[0mfeed_context\u001b[0m\u001b[0;34m(\u001b[0m\u001b[0mctx\u001b[0m\u001b[0;34m)\u001b[0m\u001b[0;34m\u001b[0m\u001b[0;34m\u001b[0m\u001b[0m\n",
      "\u001b[0m\u001b[0;32m      5 \u001b[0;31m    \u001b[0magent\u001b[0m\u001b[0;34m.\u001b[0m\u001b[0mreal_ids\u001b[0m \u001b[0;34m=\u001b[0m \u001b[0mreal_ids\u001b[0m\u001b[0;34m\u001b[0m\u001b[0;34m\u001b[0m\u001b[0m\n",
      "\u001b[0m\n",
      "--KeyboardInterrupt--\n"
     ]
    }
   ],
   "source": [
    "# selfplay emulation\n",
    "scenario = selfplay_scenarios[scenario_id]\n",
    "for agent, agent_id, ctx, real_ids in zip([alice, bob], [0, 1], [ctx1, ctx2], [ids1, ids2]):\n",
    "    agent.feed_context(ctx)\n",
    "    agent.real_ids = real_ids\n",
    "    agent.agent_id = agent_id\n",
    "    \n",
    "dot_mention_samples = 1\n",
    "utt_samples = 10\n",
    "    \n",
    "writer, reader = [alice, bob]\n",
    "conv = []\n",
    "speaker = []\n",
    "words_left = 5000\n",
    "\n",
    "num_mentions = 2\n",
    "num_dots_to_mention = 3\n",
    "\n",
    "sample_temperature = 0.25\n",
    "argmax_temperature = 0.005\n",
    "\n",
    "def make_dots_mentioned_per_ref():\n",
    "#     # fixed\n",
    "#     return torch.BoolTensor([[1,1,0,0,0,0,0], [1,0,0,0,0,0,0]]).unsqueeze(0)\n",
    "#     return torch.BoolTensor([[1,1,0,0,0,0,0]]).unsqueeze(0)\n",
    "\n",
    "    # random initial and drop\n",
    "    mentioned = torch.zeros(1,num_mentions,7).bool()\n",
    "    dots_mentioned = []\n",
    "    for _ in range(num_dots_to_mention):\n",
    "        dot_ix = torch.randint(7, (1,))\n",
    "        mentioned[:,0,dot_ix] = 1\n",
    "        dots_mentioned.append(dot_ix)\n",
    "        \n",
    "    for mention_ix in range(1, num_mentions):\n",
    "        mentioned[:,mention_ix,random.choice(dots_mentioned)] = 1\n",
    "    return mentioned\n",
    "    \n",
    "\n",
    "    # random \n",
    "#     mentioned = torch.zeros(1,num_mentions,7).bool()\n",
    "#     for mention_ix in range(num_mentions):\n",
    "#         for _ in range(num_dots_to_mention):\n",
    "#             dot_ix = torch.randint(7, (1,))\n",
    "#             mentioned[:,mention_ix,dot_ix] = 1\n",
    "#     return mentioned\n",
    "\n",
    "display_context = True\n",
    "\n",
    "while True:\n",
    "    dots_mentioned_per_ref = make_dots_mentioned_per_ref()\n",
    "    dots_mentioned = dots_mentioned_per_ref.max(1).values\n",
    "    \n",
    "    num_markables=torch.LongTensor([dots_mentioned_per_ref.size(1)])\n",
    "    if display_context:\n",
    "        for mention_ix in range(dots_mentioned_per_ref.size(1)):\n",
    "            display_attn(scenario, dots_mentioned_per_ref[:,mention_ix].float(), writer.agent_id, name=f'dots_mentioned_{mention_ix}')\n",
    "    for us in range(utt_samples):\n",
    "        outs, _, _, _, extra = writer.model.write(\n",
    "            writer.ctx,\n",
    "            writer.ctx_differences,\n",
    "            writer.ctx_h,\n",
    "            writer.reader_and_writer_lang_h,\n",
    "            words_left,\n",
    "            sample_temperature,\n",
    "            dots_mentioned=dots_mentioned,\n",
    "            dots_mentioned_per_ref=dots_mentioned_per_ref,\n",
    "            num_markables=num_markables,\n",
    "        )\n",
    "        print('agent {}; sample {}\\t{}'.format(writer.agent_id, us, ' '.join(writer._decode(outs, writer.model.word_dict))))\n",
    "    print()\n",
    "        \n",
    "    num_markables=torch.LongTensor([num_mentions])\n",
    "    if display_context:\n",
    "        for mention_ix in range(dots_mentioned_per_ref.size(1)):\n",
    "            display_attn(scenario, dots_mentioned_per_ref[:,mention_ix].float(), writer.agent_id, name=f'dots_mentioned_{mention_ix}')\n",
    "    out = writer.write(\n",
    "        max_words=words_left,\n",
    "        dots_mentioned=dots_mentioned,\n",
    "        dots_mentioned_per_ref=dots_mentioned_per_ref,\n",
    "        num_markables=num_markables,\n",
    "        temperature_override=argmax_temperature,\n",
    "    )\n",
    "    print('agent {}; argmax\\t{}'.format(writer.agent_id, ' '.join(out)))\n",
    "    print()\n",
    "    \n",
    "#     if display_context and writer.extras[-1].get('feed_ctx_attn_prob', None) is not None:\n",
    "#         display_attn(scenario, writer.extras[-1]['feed_ctx_attn_prob'], writer.agent_id, name='feed attention')\n",
    "    \n",
    "#     if display_context and writer.extras[-1].get('word_ctx_attn_prob_mean', None) is not None:\n",
    "#         display_attn(scenario, writer.extras[-1]['word_ctx_attn_prob_mean'], writer.agent_id, name='word attention mean')\n",
    "        \n",
    "#     for ix, ix_attn in enumerate(writer.extras[-1]['word_ctx_attn_probs']):\n",
    "#         display_attn(scenario, ix_attn, writer.agent_id, name='t {}: {}'.format(ix, out[ix]))\n",
    "        \n",
    "    print('{}\\t{}'.format(writer.agent_id, ' '.join(out)))\n",
    "    print('-'*60)\n",
    "        \n",
    "    words_left -= len(out)\n",
    "    conv.append(out)\n",
    "    speaker.append(writer.agent_id)\n",
    "    reader.read(out)\n",
    "    if is_selection(out) or words_left <= 1:\n",
    "        break\n",
    "    writer, reader = reader, writer"
   ]
  },
  {
   "cell_type": "code",
   "execution_count": null,
   "metadata": {},
   "outputs": [],
   "source": [
    "markable_detector = utils.load_model('')"
   ]
  },
  {
   "cell_type": "code",
   "execution_count": 92,
   "metadata": {},
   "outputs": [
    {
     "data": {
      "text/plain": [
       "True"
      ]
     },
     "execution_count": 92,
     "metadata": {},
     "output_type": "execute_result"
    }
   ],
   "source": [
    "model.args.mark_dots_mentioned"
   ]
  },
  {
   "cell_type": "code",
   "execution_count": 94,
   "metadata": {},
   "outputs": [
    {
     "data": {
      "text/plain": [
       "odict_keys(['ctx', 'inpts', 'tgts', 'ref_inpt', 'ref_tgt', 'sel_tgt', 'scenario_ids', 'real_ids', 'partner_real_ids', 'agents', 'chat_ids', 'sel_idxs', 'lens', 'rev_idxs', 'hid_idxs', 'num_markables', 'is_self', 'partner_ref_inpt', 'partner_ref_tgt_our_view', 'partner_num_markables', 'referent_disagreements', 'partner_referent_disagreements'])"
      ]
     },
     "execution_count": 94,
     "metadata": {},
     "output_type": "execute_result"
    }
   ],
   "source": [
    "validset[0]._asdict().keys()"
   ]
  },
  {
   "cell_type": "code",
   "execution_count": 100,
   "metadata": {},
   "outputs": [],
   "source": [
    "class BlankBeliefConstructor(object):\n",
    "    def make_beliefs():\n",
    "        return None"
   ]
  },
  {
   "cell_type": "code",
   "execution_count": 102,
   "metadata": {},
   "outputs": [
    {
     "data": {
      "text/plain": [
       "torch.Size([1, 28])"
      ]
     },
     "execution_count": 102,
     "metadata": {},
     "output_type": "execute_result"
    }
   ],
   "source": [
    "ctx.size()"
   ]
  },
  {
   "cell_type": "code",
   "execution_count": 75,
   "metadata": {
    "scrolled": false
   },
   "outputs": [],
   "source": [
    "def selfplay_contexts_and_mentions(scenario, candidates=1,\n",
    "                                    sample_temperature=0.25, argmax_temperature=0.005,\n",
    "                                    inference='beam'):\n",
    "#     scenario = selfplay_scenarios[scenario_id]\n",
    "    alice = RnnAgent(model, args)\n",
    "    bob = RnnAgent(model, args)\n",
    "    \n",
    "    for agent, agent_id, ctx, real_ids in zip([alice, bob], [0, 1], [ctx1, ctx2], [ids1, ids2]):\n",
    "        agent.feed_context(ctx)\n",
    "        agent.real_ids = real_ids\n",
    "        agent.agent_id = agent_id\n",
    "#     ctx, inpts, tgts, ref_inpts, ref_tgts, sel_tgt, \\\n",
    "#     [scenario_id], real_ids, partner_real_ids, agents, chat_ids, sel_idxs, \\\n",
    "#     lens, rev_idxs, hid_idxs, num_markables, \\\n",
    "#     is_self, partner_ref_inpts, partner_ref_tgts_our_view, partner_num_markables,\\\n",
    "#     ref_disagreements, partner_ref_disagreements = datasplit[index]\n",
    "    \n",
    "    bsz = 1\n",
    "    num_dots = 7\n",
    "    \n",
    "    # assume we've been training for a while, so that the beliefs are out of the warmup period (e.g. for models that switch from true->predicted)\n",
    "    epoch = 1000\n",
    "    \n",
    "    assert [] == model.args.ref_beliefs == model.args.partner_ref_beliefs == model.args.generation_beliefs == model.args.selection_beliefs == model.args.next_mention_beliefs\n",
    "    \n",
    "    belief_constructor = BlankBeliefConstructor()\n",
    "    \n",
    "    writer, reader = alice, bob\n",
    "    \n",
    "    conv = []\n",
    "    speaker = []\n",
    "    words_left = 5000\n",
    "\n",
    "    sentence_ix = 0\n",
    "\n",
    "    while words_left > 0:\n",
    "        nm_out, _, this_num_markables = writer.next_mention_outs[-1]\n",
    "        if display_mentions and nm_out is not None:\n",
    "            dummy_targets = torch.zeros((1, nm_num_markables[0].item(), 7)).long()\n",
    "            _, dots_to_mention_per_ref, _ = reference_predictor.forward(\n",
    "                True, dummy_targets, nm_out, nm_num_markables\n",
    "            )\n",
    "            display_attns(scenario, dots_to_mention_per_ref.squeeze(1).float(), writer.agent_id, \"to_mention_pred\")\n",
    "            dots_to_mention_per_ref = torch.zeros((1, 0, 7)).long()\n",
    "        else:\n",
    "            print(\"empty to_mention_pred\")\n",
    "        dots_to_mention = dots_to_mention_per_ref.max(1)\n",
    "\n",
    "        if inference == 'sample':\n",
    "            for sample_ix in range(candidates):\n",
    "                pred_outs, _, _, _, extra = writer.model.write(\n",
    "                    writer.state, \n",
    "                    words_left, sample_temperature,\n",
    "                    dots_mentioned=dots_mentioned,\n",
    "                    dots_mentioned_per_ref=dots_mentioned_per_ref,\n",
    "                    num_markables=this_num_markables\n",
    "                )\n",
    "                print('sample {}\\t{}'.format(sample_ix, ' '.join(writer._decode(pred_outs, writer.model.word_dict))))\n",
    "        elif inference in ['beam', 'gumbel_beam']:\n",
    "            _, _, decoded = writer.model.write_beam(\n",
    "                writer.state, candidates, words_left, \n",
    "                dots_mentioned=dots_mentioned,\n",
    "                dots_mentioned_per_ref=dots_mentioned_per_ref,\n",
    "                num_markables=this_num_markables,\n",
    "                temperature=sample_temperature if inference=='gumbel_beam' else 1.0,\n",
    "                gumbel_noise=inference=='gumbel_beam',\n",
    "            )\n",
    "            for cand_ix, utt in enumerate(decoded):\n",
    "                print('beam {}\\t{}'.format(cand_ix, ' '.join(utt)))\n",
    "        else:\n",
    "            raise NotImplementedError(inference)\n",
    "            \n",
    "        pred_outs, _, _, _, extra = writer.model.write(\n",
    "            writer.state, \n",
    "            words_left, argmax_temperature,\n",
    "            dots_mentioned=dots_mentioned,\n",
    "            dots_mentioned_per_ref=dots_mentioned_per_ref,\n",
    "            num_markables=this_num_markables\n",
    "        )\n",
    "            print('greedy\\t{}'.format(' '.join(writer._decode(pred_outs, writer.model.word_dict))))\n",
    "    #         print(' '.join(words_og))\n",
    "\n",
    "        out = writer.write(\n",
    "            max_words=words_left,\n",
    "            dots_mentioned=dots_mentioned,\n",
    "            dots_mentioned_per_ref=dots_mentioned_per_ref,\n",
    "            num_markables=this_num_markables,\n",
    "            ref_inpt=ref_inpts[sentence_ix],\n",
    "        )\n",
    "        \n",
    "        reader.read(words_og,\n",
    "                    dots_mentioned=dots_mentioned,\n",
    "                    dots_mentioned_per_ref=dots_mentioned_per_ref,\n",
    "                    num_markables=this_num_markables,\n",
    "                    partner_ref_inpt=partner_ref_inpts[sentence_ix],\n",
    "                    partner_num_markables=partner_num_markables[sentence_ix],\n",
    "                    next_num_markables_to_force=None,\n",
    "                   )\n",
    "        \n",
    "#         writer.update_dot_h(ref_inpts[sentence_ix], partner_ref_inpts[sentence_ix],\n",
    "#                             num_markables[sentence_ix], partner_num_markables[sentence_ix])\n",
    "\n",
    "        if is_self[sentence_ix]:\n",
    "            if ref_inpts[sentence_ix] is not None:\n",
    "                _, ref_preds, ref_stats = reference_predictor.forward(\n",
    "                    ref_inpts[sentence_ix], ref_tgts[sentence_ix], writer.ref_outs[-1], this_num_markables\n",
    "                )\n",
    "#                 print(\"ref_preds size:\", ref_preds.size())\n",
    "                display_attns(scenario, ref_preds.squeeze(1).float(), writer.agent_id, \"refs_pred\")\n",
    "                display_attns(scenario, ref_tgts[sentence_ix].squeeze(0).float(), writer.agent_id, \"refs_true\")\n",
    "#                 print(ref_stats)\n",
    "        else:\n",
    "            if partner_ref_inpts[sentence_ix] is not None:\n",
    "                _, partner_ref_preds, partner_ref_stats = reference_predictor.forward(\n",
    "                    partner_ref_inpts[sentence_ix], partner_ref_tgts_our_view[sentence_ix],\n",
    "                    writer.partner_ref_outs[-1], partner_num_markables[sentence_ix]\n",
    "                )\n",
    "    #             print(partner_ref_preds)\n",
    "                display_attns(scenario, partner_ref_preds.squeeze(1).float(), writer.agent_id, \"partner_refs_pred\")\n",
    "                display_attns(scenario, partner_ref_tgts_our_view[sentence_ix].squeeze(0).float(), writer.agent_id, \"partner_refs_true\")\n",
    "#                 print(partner_ref_stats)\n",
    "\n",
    "        print()\n",
    "        print('-'*40)\n",
    "        print()\n",
    "        words_left -= len(out)\n",
    "        conv.append(out)\n",
    "        if is_selection(out):\n",
    "            # sel_outs should be length 1\n",
    "            selection_logits, _, _ = writer.sel_outs[-1]\n",
    "            display_attns(scenario, selection_logits.sigmoid().float(), writer.agent_id, \"sel_pred\")\n",
    "            sel_true = torch.zeros(1,7)\n",
    "            sel_true[0,sel_tgt] = 1\n",
    "            display_attns(scenario, sel_true, writer.agent_id, \"sel_true\")\n",
    "        sentence_ix += 1"
   ]
  }
 ],
 "metadata": {
  "kernelspec": {
   "display_name": "Python 3",
   "language": "python",
   "name": "python3"
  },
  "language_info": {
   "codemirror_mode": {
    "name": "ipython",
    "version": 3
   },
   "file_extension": ".py",
   "mimetype": "text/x-python",
   "name": "python",
   "nbconvert_exporter": "python",
   "pygments_lexer": "ipython3",
   "version": "3.6.10"
  }
 },
 "nbformat": 4,
 "nbformat_minor": 2
}
