{
 "cells": [
  {
   "cell_type": "code",
   "execution_count": 1,
   "metadata": {},
   "outputs": [
    {
     "data": {
      "text/html": [
       "<style>.container { width:100% !important; }</style>"
      ],
      "text/plain": [
       "<IPython.core.display.HTML object>"
      ]
     },
     "metadata": {},
     "output_type": "display_data"
    }
   ],
   "source": [
    "from IPython.core.display import display, HTML\n",
    "display(HTML(\"<style>.container { width:100% !important; }</style>\"))"
   ]
  },
  {
   "cell_type": "code",
   "execution_count": 2,
   "metadata": {
    "scrolled": true
   },
   "outputs": [
    {
     "name": "stdout",
     "output_type": "stream",
     "text": [
      "/home/dfried/projects/onecommon/aaai2020/experiments\n"
     ]
    }
   ],
   "source": [
    "cd '/home/dfried/projects/onecommon/aaai2020/experiments'"
   ]
  },
  {
   "cell_type": "code",
   "execution_count": 3,
   "metadata": {},
   "outputs": [],
   "source": [
    "import models\n",
    "from models import get_model_type\n",
    "import data\n",
    "import utils\n",
    "from domain import get_domain\n",
    "from corpora.reference_sentence import ReferenceSentenceCorpus"
   ]
  },
  {
   "cell_type": "code",
   "execution_count": 4,
   "metadata": {},
   "outputs": [
    {
     "name": "stdout",
     "output_type": "stream",
     "text": [
      "\u001b[0m\u001b[01;34mbad_filtered\u001b[0m/\r\n",
      "\u001b[01;34mbase_512_bsz-64_lr-5e-3_rel-2_extremes_learned-pooling_untied_bidirectional_hidden-mention-encoder-filtered-shared\u001b[0m\u001b[K/\r\n",
      "\u001b[01;34mbase_512_bsz-64_rel-2_extremes_learned-pooling_untied_bidirectional_hidden-mention-encoder-filtered-shared\u001b[0m\u001b[K/\r\n",
      "\u001b[01;34mbase_512_extremes_asymmetric_learned-pooling_untied_bidirectional_hidden-mention-encoder_rb-lpm-lm-lPm-lPpm_prb-lpm-lm-lPm-lPpm\u001b[0m\u001b[K/\r\n",
      "\u001b[01;34mbase_512_extremes_asymmetric_learned-pooling_untied_bidirectional_hidden-mention-encoder_rb-lpm-lm_prb-lpm-lm\u001b[0m\u001b[K/\r\n",
      "\u001b[01;34mbase_512_extremes_learned-pooling_untied_bidirectional_hidden-mention-encoder\u001b[0m/\r\n",
      "\u001b[01;34mbase_512_extremes_learned-pooling_untied_bidirectional_hidden-mention-encoder_2\u001b[0m/\r\n",
      "\u001b[01;34mbase_512_extremes_learned-pooling_untied_bidirectional_hidden-mention-encoder_3\u001b[0m/\r\n",
      "\u001b[01;34mbase_512_extremes_learned-pooling_untied_bidirectional_hidden-mention-encoder-filtered-separate\u001b[0m\u001b[K/\r\n",
      "\u001b[01;34mbase_512_extremes_learned-pooling_untied_bidirectional_hidden-mention-encoder-filtered-separate-diffs\u001b[0m\u001b[K/\r\n",
      "\u001b[01;34mbase_512_extremes_learned-pooling_untied_bidirectional_hidden-mention-encoder-filtered-shared\u001b[0m\u001b[K/\r\n",
      "\u001b[01;34mbase_512_extremes_learned-pooling_untied_bidirectional_hidden-mention-encoder_mb-tpmpred-lmpred\u001b[0m\u001b[K/\r\n",
      "\u001b[01;34mbase_512_extremes_learned-pooling_untied_bidirectional_hidden-mention-encoder_mention-start-10\u001b[0m\u001b[K/\r\n",
      "\u001b[01;34mbase_512_extremes_learned-pooling_untied_bidirectional_hidden-mention-encoder_rb-lpm-lm-lPm-lPpm_prb-lpm-lm-lPm-lPpm\u001b[0m\u001b[K/\r\n",
      "\u001b[01;34mbase_512_extremes_learned-pooling_untied_bidirectional_hidden-mention-encoder_rb-lpm-lm-lPm-lPpm_prb-lpm-lm-lPm-lPpm_mb-tpmpred-lmpred\u001b[0m\u001b[K/\r\n",
      "\u001b[01;34mbase_512_extremes_learned-pooling_untied_bidirectional_hidden-mention-encoder_rb-lpm-lm-lPm-lPpm_prb-lpm-lm-lPm-lPpm_mb-tpmpred-lmpred_sb-tpm-lm\u001b[0m\u001b[K/\r\n",
      "\u001b[01;34mbase_512_extremes_learned-pooling_untied_bidirectional_hidden-mention-encoder_rb-lpm-lm-lPm-lPpm_prb-lpm-lm-lPm-lPpm_mb-tpmpred-lmpred_sb-tpmpred-lmpred\u001b[0m\u001b[K/\r\n",
      "\u001b[01;34mbase_512_extremes_learned-pooling_untied_bidirectional_hidden-mention-encoder_rb-lpm-lm_prb-lpm-lm\u001b[0m\u001b[K/\r\n",
      "\u001b[01;34mbase_512_extremes_learned-pooling_untied_bidirectional_hidden-mention-encoder-relational\u001b[0m\u001b[K/\r\n",
      "\u001b[01;34mbase_512_learned-pooling_untied_bidirectional_hidden-mention-encoder\u001b[0m/\r\n",
      "\u001b[01;34mbase_512_learned-pooling_untied_bidirectional_hidden-mention-encoder_rb-lm_prb-lpm\u001b[0m\u001b[K/\r\n",
      "\u001b[01;34mbase_512_learned-pooling_untied_bidirectional_hidden-mention-encoder_rb-lpm-lm_prb-lpm-lm\u001b[0m\u001b[K/\r\n",
      "\u001b[01;34mbase_512_learned-pooling_untied_bidirectional_hidden-mention-encoder_rb-lpm_prb-lm\u001b[0m\u001b[K/\r\n",
      "\u001b[01;34mbase_512_rel-2_extremes_learned-pooling_untied_bidirectional_hidden-mention-encoder-filtered-separate\u001b[0m\u001b[K/\r\n",
      "\u001b[01;34mbase_512_rel-2_extremes_learned-pooling_untied_bidirectional_hidden-mention-encoder-filtered-separate_unk-2\u001b[0m\u001b[K/\r\n",
      "\u001b[01;34mbase_512_rel-2_extremes_learned-pooling_untied_bidirectional_hidden-mention-encoder-filtered-shared\u001b[0m\u001b[K/\r\n",
      "\u001b[01;34mbase_learned-pooling_untied_bidirectional_hidden-mention-encoder\u001b[0m/\r\n"
     ]
    }
   ],
   "source": [
    "ls expts/rel3_tsel_ref_dial_model_separate/directions"
   ]
  },
  {
   "cell_type": "code",
   "execution_count": 5,
   "metadata": {},
   "outputs": [
    {
     "name": "stdout",
     "output_type": "stream",
     "text": [
      " 1_best.stdict\r\n",
      " 1_best.th\r\n",
      " 1_ep-30.stdict\r\n",
      " 1_ep-30.th\r\n",
      "'eval_dev_cand=40_oracle.out'\r\n",
      "'eval_dev_cand=40_speaker-weight=0.1.out'\r\n",
      "'eval_dev_cand=40_speaker-weight=0.2.out'\r\n",
      "'eval_dev_cand=40_speaker-weight=0.3.out'\r\n",
      "'eval_dev_cand=40_speaker-weight=0.4.out'\r\n",
      "'eval_dev_cand=40_speaker-weight=0.5.out'\r\n",
      "'eval_dev_cand=40_speaker-weight=0.6.out'\r\n",
      "'eval_dev_cand=40_speaker-weight=0.7.out'\r\n",
      "'eval_dev_cand=40_speaker-weight=0.8.out'\r\n",
      "'eval_dev_cand=40_speaker-weight=0.9.out'\r\n",
      "'eval_dev_cand=40_speaker-weight=0.out'\r\n",
      "'eval_dev_cand=40_speaker-weight=1.0.out'\r\n",
      " eval_dev_l0.out\r\n",
      " eval_dev_l0_ref_annotations.json\r\n",
      " train_fold-1.out\r\n"
     ]
    }
   ],
   "source": [
    "ls expts/rel3_tsel_ref_dial_model_separate/directions/base_512_learned-pooling_untied_bidirectional_hidden-mention-encoder/"
   ]
  },
  {
   "cell_type": "code",
   "execution_count": 6,
   "metadata": {},
   "outputs": [],
   "source": [
    "domain = get_domain('one_common')\n",
    "# unk_threshold = 10\n",
    "unk_threshold = 0\n",
    "model_ty = get_model_type('rnn_reference_model')\n",
    "\n",
    "ctx_encoder_type = 'rel_attn_encoder_3'\n",
    "\n",
    "# model_fname = 'rel2_dial_model_separate/hierarchical_only-self_mask-pad_max-pool_rel-2_feed-context-attend_no-word-attention_ablate-properties_1_best.th'\n",
    "\n",
    "base = 'expts/rel3_tsel_ref_dial_model_separate/directions'\n",
    "dot_recurrence = 'expts/rel3_tsel_ref_dial_model_separate/dot_recurrence'\n",
    "\n",
    "model_fnames = {\n",
    "    'basic': f'{base}/base_512_learned-pooling_untied_bidirectional_hidden-mention-encoder/1_ep-30.th',\n",
    "    'encoder-filtered-shared': f'{base}/base_512_extremes_learned-pooling_untied_bidirectional_hidden-mention-encoder-filtered-shared/1_ep-30.th',\n",
    "    'encoder-filtered-separate': f'{base}/base_512_extremes_learned-pooling_untied_bidirectional_hidden-mention-encoder-filtered-separate/1_ep-30.th',\n",
    "    'encoder-filtered-separate-diffs': f'{base}/base_512_extremes_learned-pooling_untied_bidirectional_hidden-mention-encoder-filtered-separate-diffs/1_ep-30.th',\n",
    "    'dot-recurrence': f'{dot_recurrence}/base_dr-self+partner-32-mention-selection/1_ep-20.th',\n",
    "    'dot-recurrence-nm-multi': f'{dot_recurrence}/base_dr-self+partner-64-mention-selection_nmpt-multi-reference_expanded/1_ep-20.th',\n",
    "}"
   ]
  },
  {
   "cell_type": "code",
   "execution_count": 7,
   "metadata": {},
   "outputs": [
    {
     "name": "stdout",
     "output_type": "stream",
     "text": [
      "freq cutoff: 0\n",
      "vocab size: 1857\n",
      "dataset data/onecommon/train_reference_1.txt, total 545056, unks 0, ratio 0.00%\n",
      "dataset data/onecommon/valid_reference_1.txt, total 69348, unks 202, ratio 0.29%\n",
      "dataset data/onecommon/test_reference_1.txt, total 67284, unks 210, ratio 0.31%\n"
     ]
    }
   ],
   "source": [
    "seed = 1\n",
    "corpus = ReferenceSentenceCorpus(domain, 'data/onecommon',\n",
    "                            train='train_reference_{}.txt'.format(seed),\n",
    "                            valid='valid_reference_{}.txt'.format(seed),\n",
    "                            test='test_reference_{}.txt'.format(seed),\n",
    "                            freq_cutoff=unk_threshold, verbose=True)"
   ]
  },
  {
   "cell_type": "code",
   "execution_count": 8,
   "metadata": {},
   "outputs": [],
   "source": [
    "def load_json(file):\n",
    "    import json\n",
    "    with open(file, 'r') as f:\n",
    "        return json.load(f)"
   ]
  },
  {
   "cell_type": "code",
   "execution_count": 9,
   "metadata": {},
   "outputs": [],
   "source": [
    "scenarios1 = load_json('data/onecommon/aaai_train_scenarios.json')\n",
    "scenarios2 = load_json('data/onecommon/aaai_train_scenarios_2.json')"
   ]
  },
  {
   "cell_type": "code",
   "execution_count": 10,
   "metadata": {},
   "outputs": [
    {
     "data": {
      "text/plain": [
       "9000"
      ]
     },
     "execution_count": 10,
     "metadata": {},
     "output_type": "execute_result"
    }
   ],
   "source": [
    "len(scenarios1)"
   ]
  },
  {
   "cell_type": "code",
   "execution_count": 11,
   "metadata": {},
   "outputs": [
    {
     "data": {
      "text/plain": [
       "4500"
      ]
     },
     "execution_count": 11,
     "metadata": {},
     "output_type": "execute_result"
    }
   ],
   "source": [
    "len(scenarios2)"
   ]
  },
  {
   "cell_type": "code",
   "execution_count": 12,
   "metadata": {},
   "outputs": [
    {
     "data": {
      "text/plain": [
       "dict_keys(['kbs', 'shared', 'uuid'])"
      ]
     },
     "execution_count": 12,
     "metadata": {},
     "output_type": "execute_result"
    }
   ],
   "source": [
    "scenarios1[0].keys()"
   ]
  },
  {
   "cell_type": "code",
   "execution_count": 13,
   "metadata": {},
   "outputs": [],
   "source": [
    "train_scenarios = {\n",
    "    scenario['uuid']: scenario\n",
    "    for scenario in scenarios1\n",
    "}"
   ]
  },
  {
   "cell_type": "code",
   "execution_count": 14,
   "metadata": {},
   "outputs": [],
   "source": [
    "all_scenarios = {\n",
    "    scenario['uuid']: scenario\n",
    "    for scenario in scenarios1 + scenarios2\n",
    "}"
   ]
  },
  {
   "cell_type": "code",
   "execution_count": 15,
   "metadata": {},
   "outputs": [],
   "source": [
    "hit_count = 0\n",
    "miss_count = 0\n",
    "for scenario in scenarios2:\n",
    "    uuid = scenario['uuid']\n",
    "    if uuid in train_scenarios:\n",
    "        assert train_scenarios[uuid] == scenario\n",
    "        hit_count += 1\n",
    "    else:\n",
    "        miss_count += 1"
   ]
  },
  {
   "cell_type": "code",
   "execution_count": 16,
   "metadata": {},
   "outputs": [
    {
     "name": "stdout",
     "output_type": "stream",
     "text": [
      "hits: 0\n",
      "misses: 4500\n"
     ]
    }
   ],
   "source": [
    "print(\"hits: {}\".format(hit_count))\n",
    "print(\"misses: {}\".format(miss_count))"
   ]
  },
  {
   "cell_type": "code",
   "execution_count": 17,
   "metadata": {},
   "outputs": [
    {
     "name": "stderr",
     "output_type": "stream",
     "text": [
      "/home/dfried/miniconda3/envs/onecommon/lib/python3.6/site-packages/torch/serialization.py:657: SourceChangeWarning: source code of class 'models.rnn_reference_model.HierarchicalRnnReferenceModel' has changed. you can retrieve the original source code by accessing the object's source attribute or set `torch.nn.Module.dump_patches = True` and use the patch tool to revert the changes.\n",
      "  warnings.warn(msg, SourceChangeWarning)\n",
      "/home/dfried/miniconda3/envs/onecommon/lib/python3.6/site-packages/torch/serialization.py:657: SourceChangeWarning: source code of class 'models.ctx_encoder.RelationalAttentionContextEncoder3' has changed. you can retrieve the original source code by accessing the object's source attribute or set `torch.nn.Module.dump_patches = True` and use the patch tool to revert the changes.\n",
      "  warnings.warn(msg, SourceChangeWarning)\n",
      "/home/dfried/miniconda3/envs/onecommon/lib/python3.6/site-packages/torch/serialization.py:657: SourceChangeWarning: source code of class 'models.attention_layers.StructuredTemporalAttentionLayer' has changed. you can retrieve the original source code by accessing the object's source attribute or set `torch.nn.Module.dump_patches = True` and use the patch tool to revert the changes.\n",
      "  warnings.warn(msg, SourceChangeWarning)\n",
      "/home/dfried/miniconda3/envs/onecommon/lib/python3.6/site-packages/torch/serialization.py:657: SourceChangeWarning: source code of class 'models.attention_layers.StructuredAttentionLayer' has changed. you can retrieve the original source code by accessing the object's source attribute or set `torch.nn.Module.dump_patches = True` and use the patch tool to revert the changes.\n",
      "  warnings.warn(msg, SourceChangeWarning)\n"
     ]
    }
   ],
   "source": [
    "models = {\n",
    "    name: utils.load_model(model_fname, map_location='cpu', prefix_dir=None)\n",
    "    for name, model_fname in model_fnames.items()\n",
    "}"
   ]
  },
  {
   "cell_type": "code",
   "execution_count": 18,
   "metadata": {},
   "outputs": [
    {
     "name": "stderr",
     "output_type": "stream",
     "text": [
      "100%|██████████████████████████████████████| 1038/1038 [00:01<00:00, 632.53it/s]\n"
     ]
    }
   ],
   "source": [
    "batchsize=1\n",
    "validset, validset_stats = corpus.valid_dataset(batchsize)"
   ]
  },
  {
   "cell_type": "code",
   "execution_count": 19,
   "metadata": {},
   "outputs": [
    {
     "data": {
      "text/plain": [
       "{'n': 74030,\n",
       " 'self_n': 37015,\n",
       " 'nonpadn': 69348,\n",
       " 'self_nonpadn': 34674,\n",
       " 'max_num_mentions': 9}"
      ]
     },
     "execution_count": 19,
     "metadata": {},
     "output_type": "execute_result"
    }
   ],
   "source": [
    "validset_stats"
   ]
  },
  {
   "cell_type": "code",
   "execution_count": 20,
   "metadata": {},
   "outputs": [],
   "source": [
    "import torch"
   ]
  },
  {
   "cell_type": "code",
   "execution_count": 21,
   "metadata": {},
   "outputs": [],
   "source": [
    "from agent import RnnAgent"
   ]
  },
  {
   "cell_type": "code",
   "execution_count": 22,
   "metadata": {},
   "outputs": [],
   "source": [
    "from selfplay import make_parser"
   ]
  },
  {
   "cell_type": "code",
   "execution_count": 23,
   "metadata": {},
   "outputs": [],
   "source": [
    "parser = make_parser()\n",
    "args = parser.parse_args('--temperature 0.25'.split())\n",
    "# args = parser.parse_args('--temperature 0.01'.split())"
   ]
  },
  {
   "cell_type": "code",
   "execution_count": 24,
   "metadata": {},
   "outputs": [],
   "source": [
    "def is_selection(out):\n",
    "    return '<selection>' in out"
   ]
  },
  {
   "cell_type": "code",
   "execution_count": 25,
   "metadata": {},
   "outputs": [],
   "source": [
    "# display"
   ]
  },
  {
   "cell_type": "code",
   "execution_count": 26,
   "metadata": {},
   "outputs": [],
   "source": [
    "from dialog import DialogLogger"
   ]
  },
  {
   "cell_type": "code",
   "execution_count": 27,
   "metadata": {},
   "outputs": [],
   "source": [
    "from IPython.display import SVG, display, HTML"
   ]
  },
  {
   "cell_type": "code",
   "execution_count": 28,
   "metadata": {},
   "outputs": [],
   "source": [
    "def display_svgs(svgs):\n",
    "    no_wrap_div = '<div style=\"white-space: nowrap\">' + ''.join(svgs) + '</div>'\n",
    "    display(HTML(no_wrap_div))"
   ]
  },
  {
   "cell_type": "code",
   "execution_count": 29,
   "metadata": {},
   "outputs": [],
   "source": [
    "SVG_SCALE=0.4"
   ]
  },
  {
   "cell_type": "code",
   "execution_count": 30,
   "metadata": {},
   "outputs": [],
   "source": [
    "def display_attn(scenario, attn, agent_id, name=None):\n",
    "    attn = attn.flatten().detach().numpy()\n",
    "    if name is not None:\n",
    "        print(\"{}: {}\".format(name, attn))\n",
    "    display_svgs([DialogLogger._scenario_to_svg(scenario, scale=SVG_SCALE)[agent_id], DialogLogger._attention_to_svg(scenario, agent_id, attn, scale=SVG_SCALE)])"
   ]
  },
  {
   "cell_type": "code",
   "execution_count": 31,
   "metadata": {},
   "outputs": [],
   "source": [
    "def display_attns(scenario, attns, agent_id, name=None):\n",
    "    svgs = [DialogLogger._scenario_to_svg(scenario, scale=SVG_SCALE)[agent_id]]\n",
    "#     if name is not None:\n",
    "#         print(\"{}: {}\".format(name, attn))\n",
    "    for attn in attns:\n",
    "        attn = attn.flatten().detach().numpy()\n",
    "        svgs.append(DialogLogger._attention_to_svg(scenario, agent_id, attn, scale=SVG_SCALE))\n",
    "    if name is not None:\n",
    "        print(name)\n",
    "    display_svgs(svgs)"
   ]
  },
  {
   "cell_type": "code",
   "execution_count": 32,
   "metadata": {},
   "outputs": [],
   "source": [
    "# training emulation"
   ]
  },
  {
   "cell_type": "code",
   "execution_count": 33,
   "metadata": {},
   "outputs": [
    {
     "name": "stderr",
     "output_type": "stream",
     "text": [
      "100%|██████████████████████████████████████| 8304/8304 [00:13<00:00, 636.25it/s]\n"
     ]
    }
   ],
   "source": [
    "trainset, trainset_stats = corpus.train_dataset(bsz=1)"
   ]
  },
  {
   "cell_type": "code",
   "execution_count": 34,
   "metadata": {},
   "outputs": [
    {
     "data": {
      "text/plain": [
       "False"
      ]
     },
     "execution_count": 34,
     "metadata": {},
     "output_type": "execute_result"
    }
   ],
   "source": [
    "trainset[0].scenario_ids[0] in train_scenarios"
   ]
  },
  {
   "cell_type": "code",
   "execution_count": 35,
   "metadata": {},
   "outputs": [],
   "source": [
    "# ctx: this player's dots\n",
    "# inpt / tgt: dialogue word indices (tgt are shifted by 1)\n",
    "# ref_inpt"
   ]
  },
  {
   "cell_type": "code",
   "execution_count": 36,
   "metadata": {},
   "outputs": [
    {
     "name": "stdout",
     "output_type": "stream",
     "text": [
      "found it\n"
     ]
    }
   ],
   "source": [
    "for ix in range(len(trainset)):\n",
    "#     ctx, inpts, tgts, ref_inpts, ref_tgts, sel_tgt, \\\n",
    "#     [scenario_id], real_ids, agents, chat_ids, sel_idxs, \\\n",
    "#     lens, rev_idxs, hid_idxs, all_num_markables = trainset[ix]\n",
    "    \n",
    "    ctx, inpts, tgts, ref_inpts, ref_tgts, sel_tgt, \\\n",
    "    [scenario_id], real_ids, partner_real_ids, agents, chat_ids, sel_idxs, \\\n",
    "    lens, rev_idxs, hid_idxs, num_markables, \\\n",
    "    is_self, partner_ref_inpts, partner_ref_tgts_our_view, all_partner_num_markables,\\\n",
    "    ref_disagreements, partner_ref_disagreements = trainset[ix]\n",
    "\n",
    "    if 'C_d0de3d0144df405e998ae718539ff9a4' in chat_ids:\n",
    "#     if scenario_id == 'S_UoujG1GG6KscmnbN':\n",
    "        print(\"found it\")\n",
    "        scenario = train_scenarios[scenario_id]\n",
    "        break"
   ]
  },
  {
   "cell_type": "code",
   "execution_count": 37,
   "metadata": {},
   "outputs": [
    {
     "data": {
      "text/plain": [
       "dict_keys(['basic', 'encoder-filtered-shared', 'encoder-filtered-separate', 'encoder-filtered-separate-diffs', 'dot-recurrence', 'dot-recurrence-nm-multi'])"
      ]
     },
     "execution_count": 37,
     "metadata": {},
     "output_type": "execute_result"
    }
   ],
   "source": [
    "models.keys()"
   ]
  },
  {
   "cell_type": "code",
   "execution_count": null,
   "metadata": {},
   "outputs": [],
   "source": []
  },
  {
   "cell_type": "code",
   "execution_count": 38,
   "metadata": {},
   "outputs": [],
   "source": [
    "# model = models['encoder-filtered-separate-diffs']\n",
    "# model = models['dot-recurrence']\n",
    "model = models['dot-recurrence-nm-multi']"
   ]
  },
  {
   "cell_type": "code",
   "execution_count": 39,
   "metadata": {},
   "outputs": [],
   "source": [
    "alice = RnnAgent(model, args)\n",
    "bob = RnnAgent(model, args)"
   ]
  },
  {
   "cell_type": "code",
   "execution_count": 40,
   "metadata": {},
   "outputs": [],
   "source": [
    "from models.reference_predictor import ReferencePredictor"
   ]
  },
  {
   "cell_type": "code",
   "execution_count": 41,
   "metadata": {},
   "outputs": [],
   "source": [
    "from engines.beliefs import BeliefConstructor"
   ]
  },
  {
   "cell_type": "code",
   "execution_count": 42,
   "metadata": {},
   "outputs": [],
   "source": [
    "from engines.rnn_reference_engine import make_dots_mentioned_multi, make_dots_mentioned_per_ref_multi"
   ]
  },
  {
   "cell_type": "code",
   "execution_count": 43,
   "metadata": {},
   "outputs": [],
   "source": [
    "reference_predictor = ReferencePredictor(model.args)"
   ]
  },
  {
   "cell_type": "code",
   "execution_count": 44,
   "metadata": {},
   "outputs": [
    {
     "name": "stdout",
     "output_type": "stream",
     "text": [
      "Automatic pdb calling has been turned ON\n"
     ]
    }
   ],
   "source": [
    "pdb on"
   ]
  },
  {
   "cell_type": "code",
   "execution_count": 45,
   "metadata": {
    "scrolled": false
   },
   "outputs": [],
   "source": [
    "def force_contexts_and_mentions(index, datasplit=validset, samples=10, sample_temperature=0.25, argmax_temperature=0.005, force_num_markables=True):\n",
    "    ctx, inpts, tgts, ref_inpts, ref_tgts, sel_tgt, \\\n",
    "    [scenario_id], real_ids, partner_real_ids, agents, chat_ids, sel_idxs, \\\n",
    "    lens, rev_idxs, hid_idxs, num_markables, \\\n",
    "    is_self, partner_ref_inpts, partner_ref_tgts_our_view, partner_num_markables,\\\n",
    "    ref_disagreements, partner_ref_disagreements = datasplit[index]\n",
    "    \n",
    "    bsz = ctx.size(0)\n",
    "    num_dots = 7\n",
    "    \n",
    "    # assume we've been training for a while, so that the beliefs are out of the warmup period (e.g. for models that switch from true->predicted)\n",
    "    epoch = 1000\n",
    "    \n",
    "    dots_mentioned = make_dots_mentioned_multi(ref_tgts, model.args, bsz, num_dots)\n",
    "    dots_mentioned_per_ref = make_dots_mentioned_per_ref_multi(ref_tgts, model.args, bsz, num_dots)\n",
    "\n",
    "    partner_dots_mentioned_our_view = make_dots_mentioned_multi(\n",
    "        partner_ref_tgts_our_view, model.args, bsz, num_dots\n",
    "    )\n",
    "    partner_dots_mentioned_our_view_per_ref = make_dots_mentioned_per_ref_multi(\n",
    "        partner_ref_tgts_our_view, model.args, bsz, num_dots\n",
    "    )\n",
    "    \n",
    "    belief_constructor = BeliefConstructor(\n",
    "        model.args, epoch, bsz, num_dots, inpts, ref_tgts, partner_ref_tgts_our_view,\n",
    "        real_ids, partner_real_ids, sel_tgt, is_self,\n",
    "        partner_dots_mentioned_our_view, partner_dots_mentioned_our_view_per_ref,\n",
    "        dots_mentioned, dots_mentioned_per_ref,\n",
    "        ref_inpts, partner_ref_inpts,\n",
    "        num_markables, partner_num_markables,\n",
    "    )\n",
    "    \n",
    "    scenario = all_scenarios[scenario_id]\n",
    "    agent = alice\n",
    "    agent.feed_context(ctx.flatten(),\n",
    "                       belief_constructor,\n",
    "                       num_markables_to_force=num_markables[0] if force_num_markables else None)\n",
    "    agent.real_ids = real_ids\n",
    "    agent.agent_id = agents[0]\n",
    "\n",
    "    writer = alice\n",
    "    conv = []\n",
    "    speaker = []\n",
    "    words_left = 5000\n",
    "\n",
    "    sentence_ix = 0\n",
    "\n",
    "    assert len(inpts) == len(tgts)\n",
    "\n",
    "    while sentence_ix < len(inpts):\n",
    "        words_og = [corpus.word_dict.idx2word[ix] for ix in inpts[sentence_ix].flatten().numpy()]\n",
    "        \n",
    "        if ref_inpts[sentence_ix] is not None:\n",
    "            dots_mentioned = (ref_tgts[sentence_ix].sum(dim=1) > 0)\n",
    "            dots_mentioned_per_ref = ref_tgts[sentence_ix]\n",
    "            this_num_markables = num_markables[sentence_ix]\n",
    "    #         display_attn(scenario, dots_mentioned.float(), writer.agent_id, name='dots_mentioned')\n",
    "            mentions = [dots_mentioned_per_ref[:,mention_ix].float()  for mention_ix in range(dots_mentioned_per_ref.size(1))]\n",
    "            display_attns(scenario, mentions, writer.agent_id, \"to_mention_true\")\n",
    "            nm_out, _, nm_num_markables = writer.next_mention_outs[-1]\n",
    "#             print('nm_num_markables: {}'.format(nm_num_markables))\n",
    "#             print('num_markables: {}'.format(this_num_markables))\n",
    "            if nm_out is not None:\n",
    "#                 print(nm_out[0].size())\n",
    "                _, nm_preds, _ = reference_predictor.forward(\n",
    "                    True, dots_mentioned_per_ref, nm_out, nm_num_markables\n",
    "                )\n",
    "#                 print(nm_preds.size())\n",
    "                display_attns(scenario, nm_preds.squeeze(1).float(), writer.agent_id, \"to_mention_pred\")\n",
    "#             for mention_ix in range(dots_mentioned_per_ref.size(1)):\n",
    "#                 display_attn(scenario, dots_mentioned_per_ref[:,mention_ix].float(), writer.agent_id, name=f'dots_mentioned_{mention_ix}')\n",
    "        else:\n",
    "            dots_mentioned = torch.zeros(1, 7).bool()\n",
    "            dots_mentioned_per_ref = torch.zeros(1, 0, 7).bool()\n",
    "            this_num_markables = torch.LongTensor([0])\n",
    "\n",
    "        if is_self[sentence_ix]:\n",
    "            for sample_ix in range(samples):\n",
    "                pred_outs, _, _, _, extra = writer.model.write(\n",
    "                    writer.state, \n",
    "                    words_left, sample_temperature,\n",
    "                    dots_mentioned=dots_mentioned,\n",
    "                    dots_mentioned_per_ref=dots_mentioned_per_ref,\n",
    "                    num_markables=this_num_markables\n",
    "                )\n",
    "                print('sample {}\\t{}'.format(sample_ix, ' '.join(writer._decode(pred_outs, writer.model.word_dict))))\n",
    "            pred_outs, _, _, _, extra = writer.model.write(\n",
    "                writer.state, \n",
    "                words_left, argmax_temperature,\n",
    "                dots_mentioned=dots_mentioned,\n",
    "                dots_mentioned_per_ref=dots_mentioned_per_ref,\n",
    "                num_markables=this_num_markables\n",
    "            )\n",
    "            print('argmax\\t{}'.format(' '.join(writer._decode(pred_outs, writer.model.word_dict))))\n",
    "    #         print(' '.join(words_og))\n",
    "\n",
    "            out = writer.write(\n",
    "                max_words=words_left,\n",
    "                force_words=[words_og],\n",
    "                start_token=words_og[0],\n",
    "                dots_mentioned=dots_mentioned,\n",
    "                dots_mentioned_per_ref=dots_mentioned_per_ref,\n",
    "                num_markables=this_num_markables,\n",
    "                ref_inpt=ref_inpts[sentence_ix],\n",
    "            )\n",
    "        \n",
    "    #         if writer.extras[-1]['feed_ctx_attn_prob'] is not None:\n",
    "    #             display_attn(scenario, writer.extras[-1]['feed_ctx_attn_prob'], writer.agent_id, name='feed attention')\n",
    "\n",
    "    #         if 'word_ctx_attn_prob_mean' in writer.extras[-1]:\n",
    "    #             display_attn(scenario, writer.extras[-1]['word_ctx_attn_prob_mean'], writer.agent_id, name='word attention mean')\n",
    "\n",
    "    #         for ix, ix_attn in enumerate(writer.extras[-1]['word_ctx_attn_probs']):\n",
    "    #             display_attn(scenario, ix_attn, writer.agent_id, name='t {}: {}'.format(ix, out[ix]))\n",
    "\n",
    "        else:\n",
    "            out = words_og\n",
    "            writer.read(words_og,\n",
    "                        dots_mentioned=dots_mentioned,\n",
    "                        dots_mentioned_per_ref=dots_mentioned_per_ref,\n",
    "                        num_markables=this_num_markables,\n",
    "                        partner_ref_inpt=partner_ref_inpts[sentence_ix],\n",
    "                        partner_num_markables=partner_num_markables[sentence_ix],\n",
    "                        next_num_markables_to_force=num_markables[sentence_ix + 1] if (force_num_markables and sentence_ix < len(num_markables) - 1) else None,\n",
    "                       )\n",
    "        \n",
    "#         writer.update_dot_h(ref_inpts[sentence_ix], partner_ref_inpts[sentence_ix],\n",
    "#                             num_markables[sentence_ix], partner_num_markables[sentence_ix])\n",
    "\n",
    "        print('human\\t{}'.format(' '.join(out)))\n",
    "    \n",
    "        if is_self[sentence_ix]:\n",
    "            if ref_inpts[sentence_ix] is not None:\n",
    "                _, ref_preds, ref_stats = reference_predictor.forward(\n",
    "                    ref_inpts[sentence_ix], ref_tgts[sentence_ix], writer.ref_outs[-1], this_num_markables\n",
    "                )\n",
    "#                 print(\"ref_preds size:\", ref_preds.size())\n",
    "                display_attns(scenario, ref_tgts[sentence_ix].squeeze(0).float(), writer.agent_id, \"refs_true\")\n",
    "                display_attns(scenario, ref_preds.squeeze(1).float(), writer.agent_id, \"refs_pred\")\n",
    "#                 print(ref_stats)\n",
    "        else:\n",
    "            if partner_ref_inpts[sentence_ix] is not None:\n",
    "                _, partner_ref_preds, partner_ref_stats = reference_predictor.forward(\n",
    "                    partner_ref_inpts[sentence_ix], partner_ref_tgts_our_view[sentence_ix],\n",
    "                    writer.partner_ref_outs[-1], partner_num_markables[sentence_ix]\n",
    "                )\n",
    "    #             print(partner_ref_preds)\n",
    "                display_attns(scenario, partner_ref_tgts_our_view[sentence_ix].squeeze(0).float(), writer.agent_id, \"partner_refs_true\")\n",
    "                display_attns(scenario, partner_ref_preds.squeeze(1).float(), writer.agent_id, \"partner_refs_pred\")\n",
    "#                 print(partner_ref_stats)\n",
    "\n",
    "        print()\n",
    "        print('-'*40)\n",
    "        print()\n",
    "        words_left -= len(out)\n",
    "        conv.append(out)\n",
    "        if is_selection(out) or words_left <= 1:\n",
    "            break\n",
    "        sentence_ix += 1"
   ]
  },
  {
   "cell_type": "code",
   "execution_count": 46,
   "metadata": {},
   "outputs": [
    {
     "name": "stdout",
     "output_type": "stream",
     "text": [
      "Automatic pdb calling has been turned ON\n"
     ]
    }
   ],
   "source": [
    "pdb on"
   ]
  },
  {
   "cell_type": "code",
   "execution_count": 47,
   "metadata": {
    "scrolled": false
   },
   "outputs": [
    {
     "name": "stdout",
     "output_type": "stream",
     "text": [
      "to_mention_true\n"
     ]
    },
    {
     "data": {
      "text/html": [
       "<div style=\"white-space: nowrap\"><svg viewbox='0 0 430 430' width=\"172\" height=\"172\" id=\"agent_0\"><circle cx=\"215\" cy=\"215\" r=\"205\" fill=\"none\" stroke=\"black\" stroke-width=\"2\" stroke-dasharray=\"3,3\"/><circle cx=\"80\" cy=\"205\" r=\"13\" fill=\"rgb(178,178,178)\"/><circle cx=\"138\" cy=\"34\" r=\"12\" fill=\"rgb(175,175,175)\"/><circle cx=\"230\" cy=\"24\" r=\"11\" fill=\"rgb(121,121,121)\"/><circle cx=\"117\" cy=\"69\" r=\"11\" fill=\"rgb(62,62,62)\"/><circle cx=\"166\" cy=\"72\" r=\"8\" fill=\"rgb(132,132,132)\"/><circle cx=\"332\" cy=\"371\" r=\"12\" fill=\"rgb(129,129,129)\"/><circle cx=\"272\" cy=\"99\" r=\"9\" fill=\"rgb(110,110,110)\"/></svg><svg viewBox='0 0 430 430' id=\"svg\" width=\"172\" height=\"172\"><circle cx=\"215\" cy=\"215\" r=\"205\" fill=\"none\" stroke=\"black\" stroke-width=\"2\" stroke-dasharray=\"3,3\"/> <circle cx=\"80\" cy=\"205\" r=\"13\" fill=\"rgb(255,255,255)\" class=\"agent_0_3\"/><circle cx=\"138\" cy=\"34\" r=\"12\" fill=\"rgb(255,255,255)\" class=\"agent_0_6\"/><circle cx=\"230\" cy=\"24\" r=\"11\" fill=\"rgb(255,255,255)\" class=\"agent_0_20\"/><circle cx=\"117\" cy=\"69\" r=\"11\" fill=\"rgb(255,255,255)\" class=\"agent_0_21\"/><circle cx=\"166\" cy=\"72\" r=\"8\" fill=\"rgb(255,255,255)\" class=\"agent_0_37\"/><circle cx=\"332\" cy=\"371\" r=\"12\" fill=\"rgb(255,0,0)\" class=\"agent_0_59\"/><circle cx=\"272\" cy=\"99\" r=\"9\" fill=\"rgb(255,255,255)\" class=\"agent_0_71\"/></svg></div>"
      ],
      "text/plain": [
       "<IPython.core.display.HTML object>"
      ]
     },
     "metadata": {},
     "output_type": "display_data"
    },
    {
     "name": "stdout",
     "output_type": "stream",
     "text": [
      "to_mention_pred\n"
     ]
    },
    {
     "name": "stderr",
     "output_type": "stream",
     "text": [
      "/pytorch/aten/src/ATen/native/BinaryOps.cpp:81: UserWarning: Integer division of tensors using div or / is deprecated, and in a future release div will perform true division as in Python 3. Use true_divide or floor_divide (// in Python) instead.\n"
     ]
    },
    {
     "data": {
      "text/html": [
       "<div style=\"white-space: nowrap\"><svg viewbox='0 0 430 430' width=\"172\" height=\"172\" id=\"agent_0\"><circle cx=\"215\" cy=\"215\" r=\"205\" fill=\"none\" stroke=\"black\" stroke-width=\"2\" stroke-dasharray=\"3,3\"/><circle cx=\"80\" cy=\"205\" r=\"13\" fill=\"rgb(178,178,178)\"/><circle cx=\"138\" cy=\"34\" r=\"12\" fill=\"rgb(175,175,175)\"/><circle cx=\"230\" cy=\"24\" r=\"11\" fill=\"rgb(121,121,121)\"/><circle cx=\"117\" cy=\"69\" r=\"11\" fill=\"rgb(62,62,62)\"/><circle cx=\"166\" cy=\"72\" r=\"8\" fill=\"rgb(132,132,132)\"/><circle cx=\"332\" cy=\"371\" r=\"12\" fill=\"rgb(129,129,129)\"/><circle cx=\"272\" cy=\"99\" r=\"9\" fill=\"rgb(110,110,110)\"/></svg><svg viewBox='0 0 430 430' id=\"svg\" width=\"172\" height=\"172\"><circle cx=\"215\" cy=\"215\" r=\"205\" fill=\"none\" stroke=\"black\" stroke-width=\"2\" stroke-dasharray=\"3,3\"/> <circle cx=\"80\" cy=\"205\" r=\"13\" fill=\"rgb(255,255,255)\" class=\"agent_0_3\"/><circle cx=\"138\" cy=\"34\" r=\"12\" fill=\"rgb(255,255,255)\" class=\"agent_0_6\"/><circle cx=\"230\" cy=\"24\" r=\"11\" fill=\"rgb(255,255,255)\" class=\"agent_0_20\"/><circle cx=\"117\" cy=\"69\" r=\"11\" fill=\"rgb(255,255,255)\" class=\"agent_0_21\"/><circle cx=\"166\" cy=\"72\" r=\"8\" fill=\"rgb(255,255,255)\" class=\"agent_0_37\"/><circle cx=\"332\" cy=\"371\" r=\"12\" fill=\"rgb(255,255,255)\" class=\"agent_0_59\"/><circle cx=\"272\" cy=\"99\" r=\"9\" fill=\"rgb(255,255,255)\" class=\"agent_0_71\"/></svg></div>"
      ],
      "text/plain": [
       "<IPython.core.display.HTML object>"
      ]
     },
     "metadata": {},
     "output_type": "display_data"
    },
    {
     "name": "stdout",
     "output_type": "stream",
     "text": [
      "sample 0\ti see a large medium gray dot at the bottom of the circle <eos>\n",
      "sample 1\ti see a large grey dot at the top of the circle <eos>\n",
      "sample 2\ti have a medium gray dot at the top <eos>\n",
      "sample 3\ti see a large dark gray dot on the left side <eos>\n",
      "sample 4\ti see a medium gray dot at the top <eos>\n",
      "sample 5\ti see a large medium gray dot at the top <eos>\n",
      "sample 6\ti see a medium gray dot alone <eos>\n",
      "sample 7\ti have a large dark grey dot on the left side <eos>\n",
      "sample 8\tdo you see a large grey dot at the top of the circle ? <eos>\n",
      "sample 9\ti have a large gray dot at the top of the circle <eos>\n",
      "argmax\ti have a large medium gray dot at the top <eos>\n",
      "human\ti have a large grey dot alone touching the edge of the circle south of center <eos>\n",
      "refs_true\n"
     ]
    },
    {
     "data": {
      "text/html": [
       "<div style=\"white-space: nowrap\"><svg viewbox='0 0 430 430' width=\"172\" height=\"172\" id=\"agent_0\"><circle cx=\"215\" cy=\"215\" r=\"205\" fill=\"none\" stroke=\"black\" stroke-width=\"2\" stroke-dasharray=\"3,3\"/><circle cx=\"80\" cy=\"205\" r=\"13\" fill=\"rgb(178,178,178)\"/><circle cx=\"138\" cy=\"34\" r=\"12\" fill=\"rgb(175,175,175)\"/><circle cx=\"230\" cy=\"24\" r=\"11\" fill=\"rgb(121,121,121)\"/><circle cx=\"117\" cy=\"69\" r=\"11\" fill=\"rgb(62,62,62)\"/><circle cx=\"166\" cy=\"72\" r=\"8\" fill=\"rgb(132,132,132)\"/><circle cx=\"332\" cy=\"371\" r=\"12\" fill=\"rgb(129,129,129)\"/><circle cx=\"272\" cy=\"99\" r=\"9\" fill=\"rgb(110,110,110)\"/></svg><svg viewBox='0 0 430 430' id=\"svg\" width=\"172\" height=\"172\"><circle cx=\"215\" cy=\"215\" r=\"205\" fill=\"none\" stroke=\"black\" stroke-width=\"2\" stroke-dasharray=\"3,3\"/> <circle cx=\"80\" cy=\"205\" r=\"13\" fill=\"rgb(255,255,255)\" class=\"agent_0_3\"/><circle cx=\"138\" cy=\"34\" r=\"12\" fill=\"rgb(255,255,255)\" class=\"agent_0_6\"/><circle cx=\"230\" cy=\"24\" r=\"11\" fill=\"rgb(255,255,255)\" class=\"agent_0_20\"/><circle cx=\"117\" cy=\"69\" r=\"11\" fill=\"rgb(255,255,255)\" class=\"agent_0_21\"/><circle cx=\"166\" cy=\"72\" r=\"8\" fill=\"rgb(255,255,255)\" class=\"agent_0_37\"/><circle cx=\"332\" cy=\"371\" r=\"12\" fill=\"rgb(255,0,0)\" class=\"agent_0_59\"/><circle cx=\"272\" cy=\"99\" r=\"9\" fill=\"rgb(255,255,255)\" class=\"agent_0_71\"/></svg></div>"
      ],
      "text/plain": [
       "<IPython.core.display.HTML object>"
      ]
     },
     "metadata": {},
     "output_type": "display_data"
    },
    {
     "name": "stdout",
     "output_type": "stream",
     "text": [
      "refs_pred\n"
     ]
    },
    {
     "data": {
      "text/html": [
       "<div style=\"white-space: nowrap\"><svg viewbox='0 0 430 430' width=\"172\" height=\"172\" id=\"agent_0\"><circle cx=\"215\" cy=\"215\" r=\"205\" fill=\"none\" stroke=\"black\" stroke-width=\"2\" stroke-dasharray=\"3,3\"/><circle cx=\"80\" cy=\"205\" r=\"13\" fill=\"rgb(178,178,178)\"/><circle cx=\"138\" cy=\"34\" r=\"12\" fill=\"rgb(175,175,175)\"/><circle cx=\"230\" cy=\"24\" r=\"11\" fill=\"rgb(121,121,121)\"/><circle cx=\"117\" cy=\"69\" r=\"11\" fill=\"rgb(62,62,62)\"/><circle cx=\"166\" cy=\"72\" r=\"8\" fill=\"rgb(132,132,132)\"/><circle cx=\"332\" cy=\"371\" r=\"12\" fill=\"rgb(129,129,129)\"/><circle cx=\"272\" cy=\"99\" r=\"9\" fill=\"rgb(110,110,110)\"/></svg><svg viewBox='0 0 430 430' id=\"svg\" width=\"172\" height=\"172\"><circle cx=\"215\" cy=\"215\" r=\"205\" fill=\"none\" stroke=\"black\" stroke-width=\"2\" stroke-dasharray=\"3,3\"/> <circle cx=\"80\" cy=\"205\" r=\"13\" fill=\"rgb(255,255,255)\" class=\"agent_0_3\"/><circle cx=\"138\" cy=\"34\" r=\"12\" fill=\"rgb(255,255,255)\" class=\"agent_0_6\"/><circle cx=\"230\" cy=\"24\" r=\"11\" fill=\"rgb(255,255,255)\" class=\"agent_0_20\"/><circle cx=\"117\" cy=\"69\" r=\"11\" fill=\"rgb(255,255,255)\" class=\"agent_0_21\"/><circle cx=\"166\" cy=\"72\" r=\"8\" fill=\"rgb(255,255,255)\" class=\"agent_0_37\"/><circle cx=\"332\" cy=\"371\" r=\"12\" fill=\"rgb(255,0,0)\" class=\"agent_0_59\"/><circle cx=\"272\" cy=\"99\" r=\"9\" fill=\"rgb(255,255,255)\" class=\"agent_0_71\"/></svg></div>"
      ],
      "text/plain": [
       "<IPython.core.display.HTML object>"
      ]
     },
     "metadata": {},
     "output_type": "display_data"
    },
    {
     "name": "stdout",
     "output_type": "stream",
     "text": [
      "\n",
      "----------------------------------------\n",
      "\n"
     ]
    },
    {
     "name": "stderr",
     "output_type": "stream",
     "text": [
      "/pytorch/aten/src/ATen/native/TensorFactories.cpp:361: UserWarning: Deprecation warning: In a future PyTorch release torch.full will no longer return tensors of floating dtype by default. Instead, a bool fill_value will return a tensor of torch.bool dtype, and an integral fill_value will return a tensor of torch.long dtype. Set the optional `dtype` or `out` arguments to suppress this warning.\n"
     ]
    },
    {
     "name": "stdout",
     "output_type": "stream",
     "text": [
      "human\tTHEM: do you have three dots <unk> together , lower right one is a medium sized black dot , top one is large grey , and the right one is tiny <eos>\n",
      "partner_refs_true\n"
     ]
    },
    {
     "data": {
      "text/html": [
       "<div style=\"white-space: nowrap\"><svg viewbox='0 0 430 430' width=\"172\" height=\"172\" id=\"agent_0\"><circle cx=\"215\" cy=\"215\" r=\"205\" fill=\"none\" stroke=\"black\" stroke-width=\"2\" stroke-dasharray=\"3,3\"/><circle cx=\"80\" cy=\"205\" r=\"13\" fill=\"rgb(178,178,178)\"/><circle cx=\"138\" cy=\"34\" r=\"12\" fill=\"rgb(175,175,175)\"/><circle cx=\"230\" cy=\"24\" r=\"11\" fill=\"rgb(121,121,121)\"/><circle cx=\"117\" cy=\"69\" r=\"11\" fill=\"rgb(62,62,62)\"/><circle cx=\"166\" cy=\"72\" r=\"8\" fill=\"rgb(132,132,132)\"/><circle cx=\"332\" cy=\"371\" r=\"12\" fill=\"rgb(129,129,129)\"/><circle cx=\"272\" cy=\"99\" r=\"9\" fill=\"rgb(110,110,110)\"/></svg><svg viewBox='0 0 430 430' id=\"svg\" width=\"172\" height=\"172\"><circle cx=\"215\" cy=\"215\" r=\"205\" fill=\"none\" stroke=\"black\" stroke-width=\"2\" stroke-dasharray=\"3,3\"/> <circle cx=\"80\" cy=\"205\" r=\"13\" fill=\"rgb(255,255,255)\" class=\"agent_0_3\"/><circle cx=\"138\" cy=\"34\" r=\"12\" fill=\"rgb(255,0,0)\" class=\"agent_0_6\"/><circle cx=\"230\" cy=\"24\" r=\"11\" fill=\"rgb(255,255,255)\" class=\"agent_0_20\"/><circle cx=\"117\" cy=\"69\" r=\"11\" fill=\"rgb(255,0,0)\" class=\"agent_0_21\"/><circle cx=\"166\" cy=\"72\" r=\"8\" fill=\"rgb(255,0,0)\" class=\"agent_0_37\"/><circle cx=\"332\" cy=\"371\" r=\"12\" fill=\"rgb(255,255,255)\" class=\"agent_0_59\"/><circle cx=\"272\" cy=\"99\" r=\"9\" fill=\"rgb(255,255,255)\" class=\"agent_0_71\"/></svg><svg viewBox='0 0 430 430' id=\"svg\" width=\"172\" height=\"172\"><circle cx=\"215\" cy=\"215\" r=\"205\" fill=\"none\" stroke=\"black\" stroke-width=\"2\" stroke-dasharray=\"3,3\"/> <circle cx=\"80\" cy=\"205\" r=\"13\" fill=\"rgb(255,255,255)\" class=\"agent_0_3\"/><circle cx=\"138\" cy=\"34\" r=\"12\" fill=\"rgb(255,255,255)\" class=\"agent_0_6\"/><circle cx=\"230\" cy=\"24\" r=\"11\" fill=\"rgb(255,255,255)\" class=\"agent_0_20\"/><circle cx=\"117\" cy=\"69\" r=\"11\" fill=\"rgb(255,0,0)\" class=\"agent_0_21\"/><circle cx=\"166\" cy=\"72\" r=\"8\" fill=\"rgb(255,255,255)\" class=\"agent_0_37\"/><circle cx=\"332\" cy=\"371\" r=\"12\" fill=\"rgb(255,255,255)\" class=\"agent_0_59\"/><circle cx=\"272\" cy=\"99\" r=\"9\" fill=\"rgb(255,255,255)\" class=\"agent_0_71\"/></svg><svg viewBox='0 0 430 430' id=\"svg\" width=\"172\" height=\"172\"><circle cx=\"215\" cy=\"215\" r=\"205\" fill=\"none\" stroke=\"black\" stroke-width=\"2\" stroke-dasharray=\"3,3\"/> <circle cx=\"80\" cy=\"205\" r=\"13\" fill=\"rgb(255,255,255)\" class=\"agent_0_3\"/><circle cx=\"138\" cy=\"34\" r=\"12\" fill=\"rgb(255,0,0)\" class=\"agent_0_6\"/><circle cx=\"230\" cy=\"24\" r=\"11\" fill=\"rgb(255,255,255)\" class=\"agent_0_20\"/><circle cx=\"117\" cy=\"69\" r=\"11\" fill=\"rgb(255,255,255)\" class=\"agent_0_21\"/><circle cx=\"166\" cy=\"72\" r=\"8\" fill=\"rgb(255,255,255)\" class=\"agent_0_37\"/><circle cx=\"332\" cy=\"371\" r=\"12\" fill=\"rgb(255,255,255)\" class=\"agent_0_59\"/><circle cx=\"272\" cy=\"99\" r=\"9\" fill=\"rgb(255,255,255)\" class=\"agent_0_71\"/></svg><svg viewBox='0 0 430 430' id=\"svg\" width=\"172\" height=\"172\"><circle cx=\"215\" cy=\"215\" r=\"205\" fill=\"none\" stroke=\"black\" stroke-width=\"2\" stroke-dasharray=\"3,3\"/> <circle cx=\"80\" cy=\"205\" r=\"13\" fill=\"rgb(255,255,255)\" class=\"agent_0_3\"/><circle cx=\"138\" cy=\"34\" r=\"12\" fill=\"rgb(255,255,255)\" class=\"agent_0_6\"/><circle cx=\"230\" cy=\"24\" r=\"11\" fill=\"rgb(255,255,255)\" class=\"agent_0_20\"/><circle cx=\"117\" cy=\"69\" r=\"11\" fill=\"rgb(255,255,255)\" class=\"agent_0_21\"/><circle cx=\"166\" cy=\"72\" r=\"8\" fill=\"rgb(255,0,0)\" class=\"agent_0_37\"/><circle cx=\"332\" cy=\"371\" r=\"12\" fill=\"rgb(255,255,255)\" class=\"agent_0_59\"/><circle cx=\"272\" cy=\"99\" r=\"9\" fill=\"rgb(255,255,255)\" class=\"agent_0_71\"/></svg></div>"
      ],
      "text/plain": [
       "<IPython.core.display.HTML object>"
      ]
     },
     "metadata": {},
     "output_type": "display_data"
    },
    {
     "name": "stdout",
     "output_type": "stream",
     "text": [
      "partner_refs_pred\n"
     ]
    },
    {
     "data": {
      "text/html": [
       "<div style=\"white-space: nowrap\"><svg viewbox='0 0 430 430' width=\"172\" height=\"172\" id=\"agent_0\"><circle cx=\"215\" cy=\"215\" r=\"205\" fill=\"none\" stroke=\"black\" stroke-width=\"2\" stroke-dasharray=\"3,3\"/><circle cx=\"80\" cy=\"205\" r=\"13\" fill=\"rgb(178,178,178)\"/><circle cx=\"138\" cy=\"34\" r=\"12\" fill=\"rgb(175,175,175)\"/><circle cx=\"230\" cy=\"24\" r=\"11\" fill=\"rgb(121,121,121)\"/><circle cx=\"117\" cy=\"69\" r=\"11\" fill=\"rgb(62,62,62)\"/><circle cx=\"166\" cy=\"72\" r=\"8\" fill=\"rgb(132,132,132)\"/><circle cx=\"332\" cy=\"371\" r=\"12\" fill=\"rgb(129,129,129)\"/><circle cx=\"272\" cy=\"99\" r=\"9\" fill=\"rgb(110,110,110)\"/></svg><svg viewBox='0 0 430 430' id=\"svg\" width=\"172\" height=\"172\"><circle cx=\"215\" cy=\"215\" r=\"205\" fill=\"none\" stroke=\"black\" stroke-width=\"2\" stroke-dasharray=\"3,3\"/> <circle cx=\"80\" cy=\"205\" r=\"13\" fill=\"rgb(255,255,255)\" class=\"agent_0_3\"/><circle cx=\"138\" cy=\"34\" r=\"12\" fill=\"rgb(255,0,0)\" class=\"agent_0_6\"/><circle cx=\"230\" cy=\"24\" r=\"11\" fill=\"rgb(255,255,255)\" class=\"agent_0_20\"/><circle cx=\"117\" cy=\"69\" r=\"11\" fill=\"rgb(255,0,0)\" class=\"agent_0_21\"/><circle cx=\"166\" cy=\"72\" r=\"8\" fill=\"rgb(255,0,0)\" class=\"agent_0_37\"/><circle cx=\"332\" cy=\"371\" r=\"12\" fill=\"rgb(255,255,255)\" class=\"agent_0_59\"/><circle cx=\"272\" cy=\"99\" r=\"9\" fill=\"rgb(255,255,255)\" class=\"agent_0_71\"/></svg><svg viewBox='0 0 430 430' id=\"svg\" width=\"172\" height=\"172\"><circle cx=\"215\" cy=\"215\" r=\"205\" fill=\"none\" stroke=\"black\" stroke-width=\"2\" stroke-dasharray=\"3,3\"/> <circle cx=\"80\" cy=\"205\" r=\"13\" fill=\"rgb(255,255,255)\" class=\"agent_0_3\"/><circle cx=\"138\" cy=\"34\" r=\"12\" fill=\"rgb(255,255,255)\" class=\"agent_0_6\"/><circle cx=\"230\" cy=\"24\" r=\"11\" fill=\"rgb(255,255,255)\" class=\"agent_0_20\"/><circle cx=\"117\" cy=\"69\" r=\"11\" fill=\"rgb(255,0,0)\" class=\"agent_0_21\"/><circle cx=\"166\" cy=\"72\" r=\"8\" fill=\"rgb(255,255,255)\" class=\"agent_0_37\"/><circle cx=\"332\" cy=\"371\" r=\"12\" fill=\"rgb(255,255,255)\" class=\"agent_0_59\"/><circle cx=\"272\" cy=\"99\" r=\"9\" fill=\"rgb(255,255,255)\" class=\"agent_0_71\"/></svg><svg viewBox='0 0 430 430' id=\"svg\" width=\"172\" height=\"172\"><circle cx=\"215\" cy=\"215\" r=\"205\" fill=\"none\" stroke=\"black\" stroke-width=\"2\" stroke-dasharray=\"3,3\"/> <circle cx=\"80\" cy=\"205\" r=\"13\" fill=\"rgb(255,255,255)\" class=\"agent_0_3\"/><circle cx=\"138\" cy=\"34\" r=\"12\" fill=\"rgb(255,0,0)\" class=\"agent_0_6\"/><circle cx=\"230\" cy=\"24\" r=\"11\" fill=\"rgb(255,255,255)\" class=\"agent_0_20\"/><circle cx=\"117\" cy=\"69\" r=\"11\" fill=\"rgb(255,255,255)\" class=\"agent_0_21\"/><circle cx=\"166\" cy=\"72\" r=\"8\" fill=\"rgb(255,255,255)\" class=\"agent_0_37\"/><circle cx=\"332\" cy=\"371\" r=\"12\" fill=\"rgb(255,255,255)\" class=\"agent_0_59\"/><circle cx=\"272\" cy=\"99\" r=\"9\" fill=\"rgb(255,255,255)\" class=\"agent_0_71\"/></svg><svg viewBox='0 0 430 430' id=\"svg\" width=\"172\" height=\"172\"><circle cx=\"215\" cy=\"215\" r=\"205\" fill=\"none\" stroke=\"black\" stroke-width=\"2\" stroke-dasharray=\"3,3\"/> <circle cx=\"80\" cy=\"205\" r=\"13\" fill=\"rgb(255,255,255)\" class=\"agent_0_3\"/><circle cx=\"138\" cy=\"34\" r=\"12\" fill=\"rgb(255,255,255)\" class=\"agent_0_6\"/><circle cx=\"230\" cy=\"24\" r=\"11\" fill=\"rgb(255,255,255)\" class=\"agent_0_20\"/><circle cx=\"117\" cy=\"69\" r=\"11\" fill=\"rgb(255,255,255)\" class=\"agent_0_21\"/><circle cx=\"166\" cy=\"72\" r=\"8\" fill=\"rgb(255,0,0)\" class=\"agent_0_37\"/><circle cx=\"332\" cy=\"371\" r=\"12\" fill=\"rgb(255,255,255)\" class=\"agent_0_59\"/><circle cx=\"272\" cy=\"99\" r=\"9\" fill=\"rgb(255,255,255)\" class=\"agent_0_71\"/></svg></div>"
      ],
      "text/plain": [
       "<IPython.core.display.HTML object>"
      ]
     },
     "metadata": {},
     "output_type": "display_data"
    },
    {
     "name": "stdout",
     "output_type": "stream",
     "text": [
      "\n",
      "----------------------------------------\n",
      "\n",
      "to_mention_true\n"
     ]
    },
    {
     "data": {
      "text/html": [
       "<div style=\"white-space: nowrap\"><svg viewbox='0 0 430 430' width=\"172\" height=\"172\" id=\"agent_0\"><circle cx=\"215\" cy=\"215\" r=\"205\" fill=\"none\" stroke=\"black\" stroke-width=\"2\" stroke-dasharray=\"3,3\"/><circle cx=\"80\" cy=\"205\" r=\"13\" fill=\"rgb(178,178,178)\"/><circle cx=\"138\" cy=\"34\" r=\"12\" fill=\"rgb(175,175,175)\"/><circle cx=\"230\" cy=\"24\" r=\"11\" fill=\"rgb(121,121,121)\"/><circle cx=\"117\" cy=\"69\" r=\"11\" fill=\"rgb(62,62,62)\"/><circle cx=\"166\" cy=\"72\" r=\"8\" fill=\"rgb(132,132,132)\"/><circle cx=\"332\" cy=\"371\" r=\"12\" fill=\"rgb(129,129,129)\"/><circle cx=\"272\" cy=\"99\" r=\"9\" fill=\"rgb(110,110,110)\"/></svg><svg viewBox='0 0 430 430' id=\"svg\" width=\"172\" height=\"172\"><circle cx=\"215\" cy=\"215\" r=\"205\" fill=\"none\" stroke=\"black\" stroke-width=\"2\" stroke-dasharray=\"3,3\"/> <circle cx=\"80\" cy=\"205\" r=\"13\" fill=\"rgb(255,255,255)\" class=\"agent_0_3\"/><circle cx=\"138\" cy=\"34\" r=\"12\" fill=\"rgb(255,0,0)\" class=\"agent_0_6\"/><circle cx=\"230\" cy=\"24\" r=\"11\" fill=\"rgb(255,255,255)\" class=\"agent_0_20\"/><circle cx=\"117\" cy=\"69\" r=\"11\" fill=\"rgb(255,0,0)\" class=\"agent_0_21\"/><circle cx=\"166\" cy=\"72\" r=\"8\" fill=\"rgb(255,0,0)\" class=\"agent_0_37\"/><circle cx=\"332\" cy=\"371\" r=\"12\" fill=\"rgb(255,255,255)\" class=\"agent_0_59\"/><circle cx=\"272\" cy=\"99\" r=\"9\" fill=\"rgb(255,255,255)\" class=\"agent_0_71\"/></svg></div>"
      ],
      "text/plain": [
       "<IPython.core.display.HTML object>"
      ]
     },
     "metadata": {},
     "output_type": "display_data"
    },
    {
     "name": "stdout",
     "output_type": "stream",
     "text": [
      "to_mention_pred\n"
     ]
    },
    {
     "data": {
      "text/html": [
       "<div style=\"white-space: nowrap\"><svg viewbox='0 0 430 430' width=\"172\" height=\"172\" id=\"agent_0\"><circle cx=\"215\" cy=\"215\" r=\"205\" fill=\"none\" stroke=\"black\" stroke-width=\"2\" stroke-dasharray=\"3,3\"/><circle cx=\"80\" cy=\"205\" r=\"13\" fill=\"rgb(178,178,178)\"/><circle cx=\"138\" cy=\"34\" r=\"12\" fill=\"rgb(175,175,175)\"/><circle cx=\"230\" cy=\"24\" r=\"11\" fill=\"rgb(121,121,121)\"/><circle cx=\"117\" cy=\"69\" r=\"11\" fill=\"rgb(62,62,62)\"/><circle cx=\"166\" cy=\"72\" r=\"8\" fill=\"rgb(132,132,132)\"/><circle cx=\"332\" cy=\"371\" r=\"12\" fill=\"rgb(129,129,129)\"/><circle cx=\"272\" cy=\"99\" r=\"9\" fill=\"rgb(110,110,110)\"/></svg><svg viewBox='0 0 430 430' id=\"svg\" width=\"172\" height=\"172\"><circle cx=\"215\" cy=\"215\" r=\"205\" fill=\"none\" stroke=\"black\" stroke-width=\"2\" stroke-dasharray=\"3,3\"/> <circle cx=\"80\" cy=\"205\" r=\"13\" fill=\"rgb(255,255,255)\" class=\"agent_0_3\"/><circle cx=\"138\" cy=\"34\" r=\"12\" fill=\"rgb(255,255,255)\" class=\"agent_0_6\"/><circle cx=\"230\" cy=\"24\" r=\"11\" fill=\"rgb(255,255,255)\" class=\"agent_0_20\"/><circle cx=\"117\" cy=\"69\" r=\"11\" fill=\"rgb(255,255,255)\" class=\"agent_0_21\"/><circle cx=\"166\" cy=\"72\" r=\"8\" fill=\"rgb(255,255,255)\" class=\"agent_0_37\"/><circle cx=\"332\" cy=\"371\" r=\"12\" fill=\"rgb(255,255,255)\" class=\"agent_0_59\"/><circle cx=\"272\" cy=\"99\" r=\"9\" fill=\"rgb(255,255,255)\" class=\"agent_0_71\"/></svg></div>"
      ],
      "text/plain": [
       "<IPython.core.display.HTML object>"
      ]
     },
     "metadata": {},
     "output_type": "display_data"
    },
    {
     "name": "stdout",
     "output_type": "stream",
     "text": [
      "sample 0\ti see that <eos>\n",
      "sample 1\tyes i have that <eos>\n",
      "sample 2\ti see that <eos>\n",
      "sample 3\tyes i see that <eos>\n",
      "sample 4\ti see that <eos>\n",
      "sample 5\ti see that <eos>\n",
      "sample 6\ti see that <eos>\n",
      "sample 7\ti have that <eos>\n",
      "sample 8\ti see that <eos>\n",
      "sample 9\ti see that <eos>\n",
      "argmax\ti see that <eos>\n",
      "human\tyes i have that <eos>\n",
      "refs_true\n"
     ]
    },
    {
     "data": {
      "text/html": [
       "<div style=\"white-space: nowrap\"><svg viewbox='0 0 430 430' width=\"172\" height=\"172\" id=\"agent_0\"><circle cx=\"215\" cy=\"215\" r=\"205\" fill=\"none\" stroke=\"black\" stroke-width=\"2\" stroke-dasharray=\"3,3\"/><circle cx=\"80\" cy=\"205\" r=\"13\" fill=\"rgb(178,178,178)\"/><circle cx=\"138\" cy=\"34\" r=\"12\" fill=\"rgb(175,175,175)\"/><circle cx=\"230\" cy=\"24\" r=\"11\" fill=\"rgb(121,121,121)\"/><circle cx=\"117\" cy=\"69\" r=\"11\" fill=\"rgb(62,62,62)\"/><circle cx=\"166\" cy=\"72\" r=\"8\" fill=\"rgb(132,132,132)\"/><circle cx=\"332\" cy=\"371\" r=\"12\" fill=\"rgb(129,129,129)\"/><circle cx=\"272\" cy=\"99\" r=\"9\" fill=\"rgb(110,110,110)\"/></svg><svg viewBox='0 0 430 430' id=\"svg\" width=\"172\" height=\"172\"><circle cx=\"215\" cy=\"215\" r=\"205\" fill=\"none\" stroke=\"black\" stroke-width=\"2\" stroke-dasharray=\"3,3\"/> <circle cx=\"80\" cy=\"205\" r=\"13\" fill=\"rgb(255,255,255)\" class=\"agent_0_3\"/><circle cx=\"138\" cy=\"34\" r=\"12\" fill=\"rgb(255,0,0)\" class=\"agent_0_6\"/><circle cx=\"230\" cy=\"24\" r=\"11\" fill=\"rgb(255,255,255)\" class=\"agent_0_20\"/><circle cx=\"117\" cy=\"69\" r=\"11\" fill=\"rgb(255,0,0)\" class=\"agent_0_21\"/><circle cx=\"166\" cy=\"72\" r=\"8\" fill=\"rgb(255,0,0)\" class=\"agent_0_37\"/><circle cx=\"332\" cy=\"371\" r=\"12\" fill=\"rgb(255,255,255)\" class=\"agent_0_59\"/><circle cx=\"272\" cy=\"99\" r=\"9\" fill=\"rgb(255,255,255)\" class=\"agent_0_71\"/></svg></div>"
      ],
      "text/plain": [
       "<IPython.core.display.HTML object>"
      ]
     },
     "metadata": {},
     "output_type": "display_data"
    },
    {
     "name": "stdout",
     "output_type": "stream",
     "text": [
      "refs_pred\n"
     ]
    },
    {
     "data": {
      "text/html": [
       "<div style=\"white-space: nowrap\"><svg viewbox='0 0 430 430' width=\"172\" height=\"172\" id=\"agent_0\"><circle cx=\"215\" cy=\"215\" r=\"205\" fill=\"none\" stroke=\"black\" stroke-width=\"2\" stroke-dasharray=\"3,3\"/><circle cx=\"80\" cy=\"205\" r=\"13\" fill=\"rgb(178,178,178)\"/><circle cx=\"138\" cy=\"34\" r=\"12\" fill=\"rgb(175,175,175)\"/><circle cx=\"230\" cy=\"24\" r=\"11\" fill=\"rgb(121,121,121)\"/><circle cx=\"117\" cy=\"69\" r=\"11\" fill=\"rgb(62,62,62)\"/><circle cx=\"166\" cy=\"72\" r=\"8\" fill=\"rgb(132,132,132)\"/><circle cx=\"332\" cy=\"371\" r=\"12\" fill=\"rgb(129,129,129)\"/><circle cx=\"272\" cy=\"99\" r=\"9\" fill=\"rgb(110,110,110)\"/></svg><svg viewBox='0 0 430 430' id=\"svg\" width=\"172\" height=\"172\"><circle cx=\"215\" cy=\"215\" r=\"205\" fill=\"none\" stroke=\"black\" stroke-width=\"2\" stroke-dasharray=\"3,3\"/> <circle cx=\"80\" cy=\"205\" r=\"13\" fill=\"rgb(255,255,255)\" class=\"agent_0_3\"/><circle cx=\"138\" cy=\"34\" r=\"12\" fill=\"rgb(255,0,0)\" class=\"agent_0_6\"/><circle cx=\"230\" cy=\"24\" r=\"11\" fill=\"rgb(255,255,255)\" class=\"agent_0_20\"/><circle cx=\"117\" cy=\"69\" r=\"11\" fill=\"rgb(255,0,0)\" class=\"agent_0_21\"/><circle cx=\"166\" cy=\"72\" r=\"8\" fill=\"rgb(255,0,0)\" class=\"agent_0_37\"/><circle cx=\"332\" cy=\"371\" r=\"12\" fill=\"rgb(255,255,255)\" class=\"agent_0_59\"/><circle cx=\"272\" cy=\"99\" r=\"9\" fill=\"rgb(255,255,255)\" class=\"agent_0_71\"/></svg></div>"
      ],
      "text/plain": [
       "<IPython.core.display.HTML object>"
      ]
     },
     "metadata": {},
     "output_type": "display_data"
    },
    {
     "name": "stdout",
     "output_type": "stream",
     "text": [
      "\n",
      "----------------------------------------\n",
      "\n",
      "human\tTHEM: i meant lower left for the black one lol , click that black one <eos>\n",
      "partner_refs_true\n"
     ]
    },
    {
     "data": {
      "text/html": [
       "<div style=\"white-space: nowrap\"><svg viewbox='0 0 430 430' width=\"172\" height=\"172\" id=\"agent_0\"><circle cx=\"215\" cy=\"215\" r=\"205\" fill=\"none\" stroke=\"black\" stroke-width=\"2\" stroke-dasharray=\"3,3\"/><circle cx=\"80\" cy=\"205\" r=\"13\" fill=\"rgb(178,178,178)\"/><circle cx=\"138\" cy=\"34\" r=\"12\" fill=\"rgb(175,175,175)\"/><circle cx=\"230\" cy=\"24\" r=\"11\" fill=\"rgb(121,121,121)\"/><circle cx=\"117\" cy=\"69\" r=\"11\" fill=\"rgb(62,62,62)\"/><circle cx=\"166\" cy=\"72\" r=\"8\" fill=\"rgb(132,132,132)\"/><circle cx=\"332\" cy=\"371\" r=\"12\" fill=\"rgb(129,129,129)\"/><circle cx=\"272\" cy=\"99\" r=\"9\" fill=\"rgb(110,110,110)\"/></svg><svg viewBox='0 0 430 430' id=\"svg\" width=\"172\" height=\"172\"><circle cx=\"215\" cy=\"215\" r=\"205\" fill=\"none\" stroke=\"black\" stroke-width=\"2\" stroke-dasharray=\"3,3\"/> <circle cx=\"80\" cy=\"205\" r=\"13\" fill=\"rgb(255,255,255)\" class=\"agent_0_3\"/><circle cx=\"138\" cy=\"34\" r=\"12\" fill=\"rgb(255,255,255)\" class=\"agent_0_6\"/><circle cx=\"230\" cy=\"24\" r=\"11\" fill=\"rgb(255,255,255)\" class=\"agent_0_20\"/><circle cx=\"117\" cy=\"69\" r=\"11\" fill=\"rgb(255,0,0)\" class=\"agent_0_21\"/><circle cx=\"166\" cy=\"72\" r=\"8\" fill=\"rgb(255,255,255)\" class=\"agent_0_37\"/><circle cx=\"332\" cy=\"371\" r=\"12\" fill=\"rgb(255,255,255)\" class=\"agent_0_59\"/><circle cx=\"272\" cy=\"99\" r=\"9\" fill=\"rgb(255,255,255)\" class=\"agent_0_71\"/></svg><svg viewBox='0 0 430 430' id=\"svg\" width=\"172\" height=\"172\"><circle cx=\"215\" cy=\"215\" r=\"205\" fill=\"none\" stroke=\"black\" stroke-width=\"2\" stroke-dasharray=\"3,3\"/> <circle cx=\"80\" cy=\"205\" r=\"13\" fill=\"rgb(255,255,255)\" class=\"agent_0_3\"/><circle cx=\"138\" cy=\"34\" r=\"12\" fill=\"rgb(255,255,255)\" class=\"agent_0_6\"/><circle cx=\"230\" cy=\"24\" r=\"11\" fill=\"rgb(255,255,255)\" class=\"agent_0_20\"/><circle cx=\"117\" cy=\"69\" r=\"11\" fill=\"rgb(255,0,0)\" class=\"agent_0_21\"/><circle cx=\"166\" cy=\"72\" r=\"8\" fill=\"rgb(255,255,255)\" class=\"agent_0_37\"/><circle cx=\"332\" cy=\"371\" r=\"12\" fill=\"rgb(255,255,255)\" class=\"agent_0_59\"/><circle cx=\"272\" cy=\"99\" r=\"9\" fill=\"rgb(255,255,255)\" class=\"agent_0_71\"/></svg></div>"
      ],
      "text/plain": [
       "<IPython.core.display.HTML object>"
      ]
     },
     "metadata": {},
     "output_type": "display_data"
    },
    {
     "name": "stdout",
     "output_type": "stream",
     "text": [
      "partner_refs_pred\n"
     ]
    },
    {
     "data": {
      "text/html": [
       "<div style=\"white-space: nowrap\"><svg viewbox='0 0 430 430' width=\"172\" height=\"172\" id=\"agent_0\"><circle cx=\"215\" cy=\"215\" r=\"205\" fill=\"none\" stroke=\"black\" stroke-width=\"2\" stroke-dasharray=\"3,3\"/><circle cx=\"80\" cy=\"205\" r=\"13\" fill=\"rgb(178,178,178)\"/><circle cx=\"138\" cy=\"34\" r=\"12\" fill=\"rgb(175,175,175)\"/><circle cx=\"230\" cy=\"24\" r=\"11\" fill=\"rgb(121,121,121)\"/><circle cx=\"117\" cy=\"69\" r=\"11\" fill=\"rgb(62,62,62)\"/><circle cx=\"166\" cy=\"72\" r=\"8\" fill=\"rgb(132,132,132)\"/><circle cx=\"332\" cy=\"371\" r=\"12\" fill=\"rgb(129,129,129)\"/><circle cx=\"272\" cy=\"99\" r=\"9\" fill=\"rgb(110,110,110)\"/></svg><svg viewBox='0 0 430 430' id=\"svg\" width=\"172\" height=\"172\"><circle cx=\"215\" cy=\"215\" r=\"205\" fill=\"none\" stroke=\"black\" stroke-width=\"2\" stroke-dasharray=\"3,3\"/> <circle cx=\"80\" cy=\"205\" r=\"13\" fill=\"rgb(255,255,255)\" class=\"agent_0_3\"/><circle cx=\"138\" cy=\"34\" r=\"12\" fill=\"rgb(255,255,255)\" class=\"agent_0_6\"/><circle cx=\"230\" cy=\"24\" r=\"11\" fill=\"rgb(255,255,255)\" class=\"agent_0_20\"/><circle cx=\"117\" cy=\"69\" r=\"11\" fill=\"rgb(255,0,0)\" class=\"agent_0_21\"/><circle cx=\"166\" cy=\"72\" r=\"8\" fill=\"rgb(255,255,255)\" class=\"agent_0_37\"/><circle cx=\"332\" cy=\"371\" r=\"12\" fill=\"rgb(255,255,255)\" class=\"agent_0_59\"/><circle cx=\"272\" cy=\"99\" r=\"9\" fill=\"rgb(255,255,255)\" class=\"agent_0_71\"/></svg><svg viewBox='0 0 430 430' id=\"svg\" width=\"172\" height=\"172\"><circle cx=\"215\" cy=\"215\" r=\"205\" fill=\"none\" stroke=\"black\" stroke-width=\"2\" stroke-dasharray=\"3,3\"/> <circle cx=\"80\" cy=\"205\" r=\"13\" fill=\"rgb(255,255,255)\" class=\"agent_0_3\"/><circle cx=\"138\" cy=\"34\" r=\"12\" fill=\"rgb(255,255,255)\" class=\"agent_0_6\"/><circle cx=\"230\" cy=\"24\" r=\"11\" fill=\"rgb(255,255,255)\" class=\"agent_0_20\"/><circle cx=\"117\" cy=\"69\" r=\"11\" fill=\"rgb(255,0,0)\" class=\"agent_0_21\"/><circle cx=\"166\" cy=\"72\" r=\"8\" fill=\"rgb(255,255,255)\" class=\"agent_0_37\"/><circle cx=\"332\" cy=\"371\" r=\"12\" fill=\"rgb(255,255,255)\" class=\"agent_0_59\"/><circle cx=\"272\" cy=\"99\" r=\"9\" fill=\"rgb(255,255,255)\" class=\"agent_0_71\"/></svg></div>"
      ],
      "text/plain": [
       "<IPython.core.display.HTML object>"
      ]
     },
     "metadata": {},
     "output_type": "display_data"
    },
    {
     "name": "stdout",
     "output_type": "stream",
     "text": [
      "\n",
      "----------------------------------------\n",
      "\n",
      "sample 0\tok <selection>\n",
      "sample 1\tok <selection>\n",
      "sample 2\tok <selection>\n",
      "sample 3\tok <selection>\n",
      "sample 4\tok <selection>\n",
      "sample 5\tok <selection>\n",
      "sample 6\tok <selection>\n",
      "sample 7\tok <selection>\n",
      "sample 8\tok <selection>\n",
      "sample 9\tok <selection>\n",
      "argmax\tok <selection>\n",
      "human\tgot you . <selection>\n",
      "\n",
      "----------------------------------------\n",
      "\n"
     ]
    }
   ],
   "source": [
    "force_contexts_and_mentions(1)"
   ]
  },
  {
   "cell_type": "code",
   "execution_count": 48,
   "metadata": {
    "scrolled": false
   },
   "outputs": [
    {
     "name": "stdout",
     "output_type": "stream",
     "text": [
      "human\tTHEM: do you see a large light grey circle right next to a slightly smaller , dark grey circle ? <eos>\n",
      "partner_refs_true\n"
     ]
    },
    {
     "data": {
      "text/html": [
       "<div style=\"white-space: nowrap\"><svg viewbox='0 0 430 430' width=\"172\" height=\"172\" id=\"agent_0\"><circle cx=\"215\" cy=\"215\" r=\"205\" fill=\"none\" stroke=\"black\" stroke-width=\"2\" stroke-dasharray=\"3,3\"/><circle cx=\"288\" cy=\"143\" r=\"10\" fill=\"rgb(58,58,58)\"/><circle cx=\"222\" cy=\"23\" r=\"10\" fill=\"rgb(56,56,56)\"/><circle cx=\"228\" cy=\"116\" r=\"11\" fill=\"rgb(90,90,90)\"/><circle cx=\"230\" cy=\"413\" r=\"11\" fill=\"rgb(74,74,74)\"/><circle cx=\"295\" cy=\"103\" r=\"9\" fill=\"rgb(189,189,189)\"/><circle cx=\"210\" cy=\"145\" r=\"12\" fill=\"rgb(139,139,139)\"/><circle cx=\"189\" cy=\"313\" r=\"9\" fill=\"rgb(131,131,131)\"/></svg><svg viewBox='0 0 430 430' id=\"svg\" width=\"172\" height=\"172\"><circle cx=\"215\" cy=\"215\" r=\"205\" fill=\"none\" stroke=\"black\" stroke-width=\"2\" stroke-dasharray=\"3,3\"/> <circle cx=\"288\" cy=\"143\" r=\"10\" fill=\"rgb(255,255,255)\" class=\"agent_0_8\"/><circle cx=\"222\" cy=\"23\" r=\"10\" fill=\"rgb(255,255,255)\" class=\"agent_0_46\"/><circle cx=\"228\" cy=\"116\" r=\"11\" fill=\"rgb(255,255,255)\" class=\"agent_0_49\"/><circle cx=\"230\" cy=\"413\" r=\"11\" fill=\"rgb(255,255,255)\" class=\"agent_0_55\"/><circle cx=\"295\" cy=\"103\" r=\"9\" fill=\"rgb(255,255,255)\" class=\"agent_0_56\"/><circle cx=\"210\" cy=\"145\" r=\"12\" fill=\"rgb(255,0,0)\" class=\"agent_0_62\"/><circle cx=\"189\" cy=\"313\" r=\"9\" fill=\"rgb(255,255,255)\" class=\"agent_0_66\"/></svg><svg viewBox='0 0 430 430' id=\"svg\" width=\"172\" height=\"172\"><circle cx=\"215\" cy=\"215\" r=\"205\" fill=\"none\" stroke=\"black\" stroke-width=\"2\" stroke-dasharray=\"3,3\"/> <circle cx=\"288\" cy=\"143\" r=\"10\" fill=\"rgb(255,255,255)\" class=\"agent_0_8\"/><circle cx=\"222\" cy=\"23\" r=\"10\" fill=\"rgb(255,255,255)\" class=\"agent_0_46\"/><circle cx=\"228\" cy=\"116\" r=\"11\" fill=\"rgb(255,0,0)\" class=\"agent_0_49\"/><circle cx=\"230\" cy=\"413\" r=\"11\" fill=\"rgb(255,255,255)\" class=\"agent_0_55\"/><circle cx=\"295\" cy=\"103\" r=\"9\" fill=\"rgb(255,255,255)\" class=\"agent_0_56\"/><circle cx=\"210\" cy=\"145\" r=\"12\" fill=\"rgb(255,255,255)\" class=\"agent_0_62\"/><circle cx=\"189\" cy=\"313\" r=\"9\" fill=\"rgb(255,255,255)\" class=\"agent_0_66\"/></svg></div>"
      ],
      "text/plain": [
       "<IPython.core.display.HTML object>"
      ]
     },
     "metadata": {},
     "output_type": "display_data"
    },
    {
     "name": "stdout",
     "output_type": "stream",
     "text": [
      "partner_refs_pred\n"
     ]
    },
    {
     "data": {
      "text/html": [
       "<div style=\"white-space: nowrap\"><svg viewbox='0 0 430 430' width=\"172\" height=\"172\" id=\"agent_0\"><circle cx=\"215\" cy=\"215\" r=\"205\" fill=\"none\" stroke=\"black\" stroke-width=\"2\" stroke-dasharray=\"3,3\"/><circle cx=\"288\" cy=\"143\" r=\"10\" fill=\"rgb(58,58,58)\"/><circle cx=\"222\" cy=\"23\" r=\"10\" fill=\"rgb(56,56,56)\"/><circle cx=\"228\" cy=\"116\" r=\"11\" fill=\"rgb(90,90,90)\"/><circle cx=\"230\" cy=\"413\" r=\"11\" fill=\"rgb(74,74,74)\"/><circle cx=\"295\" cy=\"103\" r=\"9\" fill=\"rgb(189,189,189)\"/><circle cx=\"210\" cy=\"145\" r=\"12\" fill=\"rgb(139,139,139)\"/><circle cx=\"189\" cy=\"313\" r=\"9\" fill=\"rgb(131,131,131)\"/></svg><svg viewBox='0 0 430 430' id=\"svg\" width=\"172\" height=\"172\"><circle cx=\"215\" cy=\"215\" r=\"205\" fill=\"none\" stroke=\"black\" stroke-width=\"2\" stroke-dasharray=\"3,3\"/> <circle cx=\"288\" cy=\"143\" r=\"10\" fill=\"rgb(255,255,255)\" class=\"agent_0_8\"/><circle cx=\"222\" cy=\"23\" r=\"10\" fill=\"rgb(255,255,255)\" class=\"agent_0_46\"/><circle cx=\"228\" cy=\"116\" r=\"11\" fill=\"rgb(255,255,255)\" class=\"agent_0_49\"/><circle cx=\"230\" cy=\"413\" r=\"11\" fill=\"rgb(255,255,255)\" class=\"agent_0_55\"/><circle cx=\"295\" cy=\"103\" r=\"9\" fill=\"rgb(255,255,255)\" class=\"agent_0_56\"/><circle cx=\"210\" cy=\"145\" r=\"12\" fill=\"rgb(255,0,0)\" class=\"agent_0_62\"/><circle cx=\"189\" cy=\"313\" r=\"9\" fill=\"rgb(255,255,255)\" class=\"agent_0_66\"/></svg><svg viewBox='0 0 430 430' id=\"svg\" width=\"172\" height=\"172\"><circle cx=\"215\" cy=\"215\" r=\"205\" fill=\"none\" stroke=\"black\" stroke-width=\"2\" stroke-dasharray=\"3,3\"/> <circle cx=\"288\" cy=\"143\" r=\"10\" fill=\"rgb(255,255,255)\" class=\"agent_0_8\"/><circle cx=\"222\" cy=\"23\" r=\"10\" fill=\"rgb(255,255,255)\" class=\"agent_0_46\"/><circle cx=\"228\" cy=\"116\" r=\"11\" fill=\"rgb(255,0,0)\" class=\"agent_0_49\"/><circle cx=\"230\" cy=\"413\" r=\"11\" fill=\"rgb(255,255,255)\" class=\"agent_0_55\"/><circle cx=\"295\" cy=\"103\" r=\"9\" fill=\"rgb(255,255,255)\" class=\"agent_0_56\"/><circle cx=\"210\" cy=\"145\" r=\"12\" fill=\"rgb(255,255,255)\" class=\"agent_0_62\"/><circle cx=\"189\" cy=\"313\" r=\"9\" fill=\"rgb(255,255,255)\" class=\"agent_0_66\"/></svg></div>"
      ],
      "text/plain": [
       "<IPython.core.display.HTML object>"
      ]
     },
     "metadata": {},
     "output_type": "display_data"
    },
    {
     "name": "stdout",
     "output_type": "stream",
     "text": [
      "\n",
      "----------------------------------------\n",
      "\n",
      "to_mention_true\n"
     ]
    },
    {
     "data": {
      "text/html": [
       "<div style=\"white-space: nowrap\"><svg viewbox='0 0 430 430' width=\"172\" height=\"172\" id=\"agent_0\"><circle cx=\"215\" cy=\"215\" r=\"205\" fill=\"none\" stroke=\"black\" stroke-width=\"2\" stroke-dasharray=\"3,3\"/><circle cx=\"288\" cy=\"143\" r=\"10\" fill=\"rgb(58,58,58)\"/><circle cx=\"222\" cy=\"23\" r=\"10\" fill=\"rgb(56,56,56)\"/><circle cx=\"228\" cy=\"116\" r=\"11\" fill=\"rgb(90,90,90)\"/><circle cx=\"230\" cy=\"413\" r=\"11\" fill=\"rgb(74,74,74)\"/><circle cx=\"295\" cy=\"103\" r=\"9\" fill=\"rgb(189,189,189)\"/><circle cx=\"210\" cy=\"145\" r=\"12\" fill=\"rgb(139,139,139)\"/><circle cx=\"189\" cy=\"313\" r=\"9\" fill=\"rgb(131,131,131)\"/></svg><svg viewBox='0 0 430 430' id=\"svg\" width=\"172\" height=\"172\"><circle cx=\"215\" cy=\"215\" r=\"205\" fill=\"none\" stroke=\"black\" stroke-width=\"2\" stroke-dasharray=\"3,3\"/> <circle cx=\"288\" cy=\"143\" r=\"10\" fill=\"rgb(255,255,255)\" class=\"agent_0_8\"/><circle cx=\"222\" cy=\"23\" r=\"10\" fill=\"rgb(255,255,255)\" class=\"agent_0_46\"/><circle cx=\"228\" cy=\"116\" r=\"11\" fill=\"rgb(255,255,255)\" class=\"agent_0_49\"/><circle cx=\"230\" cy=\"413\" r=\"11\" fill=\"rgb(255,255,255)\" class=\"agent_0_55\"/><circle cx=\"295\" cy=\"103\" r=\"9\" fill=\"rgb(255,255,255)\" class=\"agent_0_56\"/><circle cx=\"210\" cy=\"145\" r=\"12\" fill=\"rgb(255,255,255)\" class=\"agent_0_62\"/><circle cx=\"189\" cy=\"313\" r=\"9\" fill=\"rgb(255,255,255)\" class=\"agent_0_66\"/></svg><svg viewBox='0 0 430 430' id=\"svg\" width=\"172\" height=\"172\"><circle cx=\"215\" cy=\"215\" r=\"205\" fill=\"none\" stroke=\"black\" stroke-width=\"2\" stroke-dasharray=\"3,3\"/> <circle cx=\"288\" cy=\"143\" r=\"10\" fill=\"rgb(255,255,255)\" class=\"agent_0_8\"/><circle cx=\"222\" cy=\"23\" r=\"10\" fill=\"rgb(255,255,255)\" class=\"agent_0_46\"/><circle cx=\"228\" cy=\"116\" r=\"11\" fill=\"rgb(255,255,255)\" class=\"agent_0_49\"/><circle cx=\"230\" cy=\"413\" r=\"11\" fill=\"rgb(255,255,255)\" class=\"agent_0_55\"/><circle cx=\"295\" cy=\"103\" r=\"9\" fill=\"rgb(255,0,0)\" class=\"agent_0_56\"/><circle cx=\"210\" cy=\"145\" r=\"12\" fill=\"rgb(255,255,255)\" class=\"agent_0_62\"/><circle cx=\"189\" cy=\"313\" r=\"9\" fill=\"rgb(255,255,255)\" class=\"agent_0_66\"/></svg><svg viewBox='0 0 430 430' id=\"svg\" width=\"172\" height=\"172\"><circle cx=\"215\" cy=\"215\" r=\"205\" fill=\"none\" stroke=\"black\" stroke-width=\"2\" stroke-dasharray=\"3,3\"/> <circle cx=\"288\" cy=\"143\" r=\"10\" fill=\"rgb(255,0,0)\" class=\"agent_0_8\"/><circle cx=\"222\" cy=\"23\" r=\"10\" fill=\"rgb(255,255,255)\" class=\"agent_0_46\"/><circle cx=\"228\" cy=\"116\" r=\"11\" fill=\"rgb(255,255,255)\" class=\"agent_0_49\"/><circle cx=\"230\" cy=\"413\" r=\"11\" fill=\"rgb(255,255,255)\" class=\"agent_0_55\"/><circle cx=\"295\" cy=\"103\" r=\"9\" fill=\"rgb(255,255,255)\" class=\"agent_0_56\"/><circle cx=\"210\" cy=\"145\" r=\"12\" fill=\"rgb(255,255,255)\" class=\"agent_0_62\"/><circle cx=\"189\" cy=\"313\" r=\"9\" fill=\"rgb(255,255,255)\" class=\"agent_0_66\"/></svg></div>"
      ],
      "text/plain": [
       "<IPython.core.display.HTML object>"
      ]
     },
     "metadata": {},
     "output_type": "display_data"
    },
    {
     "name": "stdout",
     "output_type": "stream",
     "text": [
      "to_mention_pred\n"
     ]
    },
    {
     "data": {
      "text/html": [
       "<div style=\"white-space: nowrap\"><svg viewbox='0 0 430 430' width=\"172\" height=\"172\" id=\"agent_0\"><circle cx=\"215\" cy=\"215\" r=\"205\" fill=\"none\" stroke=\"black\" stroke-width=\"2\" stroke-dasharray=\"3,3\"/><circle cx=\"288\" cy=\"143\" r=\"10\" fill=\"rgb(58,58,58)\"/><circle cx=\"222\" cy=\"23\" r=\"10\" fill=\"rgb(56,56,56)\"/><circle cx=\"228\" cy=\"116\" r=\"11\" fill=\"rgb(90,90,90)\"/><circle cx=\"230\" cy=\"413\" r=\"11\" fill=\"rgb(74,74,74)\"/><circle cx=\"295\" cy=\"103\" r=\"9\" fill=\"rgb(189,189,189)\"/><circle cx=\"210\" cy=\"145\" r=\"12\" fill=\"rgb(139,139,139)\"/><circle cx=\"189\" cy=\"313\" r=\"9\" fill=\"rgb(131,131,131)\"/></svg><svg viewBox='0 0 430 430' id=\"svg\" width=\"172\" height=\"172\"><circle cx=\"215\" cy=\"215\" r=\"205\" fill=\"none\" stroke=\"black\" stroke-width=\"2\" stroke-dasharray=\"3,3\"/> <circle cx=\"288\" cy=\"143\" r=\"10\" fill=\"rgb(255,0,0)\" class=\"agent_0_8\"/><circle cx=\"222\" cy=\"23\" r=\"10\" fill=\"rgb(255,255,255)\" class=\"agent_0_46\"/><circle cx=\"228\" cy=\"116\" r=\"11\" fill=\"rgb(255,0,0)\" class=\"agent_0_49\"/><circle cx=\"230\" cy=\"413\" r=\"11\" fill=\"rgb(255,255,255)\" class=\"agent_0_55\"/><circle cx=\"295\" cy=\"103\" r=\"9\" fill=\"rgb(255,0,0)\" class=\"agent_0_56\"/><circle cx=\"210\" cy=\"145\" r=\"12\" fill=\"rgb(255,0,0)\" class=\"agent_0_62\"/><circle cx=\"189\" cy=\"313\" r=\"9\" fill=\"rgb(255,255,255)\" class=\"agent_0_66\"/></svg><svg viewBox='0 0 430 430' id=\"svg\" width=\"172\" height=\"172\"><circle cx=\"215\" cy=\"215\" r=\"205\" fill=\"none\" stroke=\"black\" stroke-width=\"2\" stroke-dasharray=\"3,3\"/> <circle cx=\"288\" cy=\"143\" r=\"10\" fill=\"rgb(255,0,0)\" class=\"agent_0_8\"/><circle cx=\"222\" cy=\"23\" r=\"10\" fill=\"rgb(255,255,255)\" class=\"agent_0_46\"/><circle cx=\"228\" cy=\"116\" r=\"11\" fill=\"rgb(255,0,0)\" class=\"agent_0_49\"/><circle cx=\"230\" cy=\"413\" r=\"11\" fill=\"rgb(255,255,255)\" class=\"agent_0_55\"/><circle cx=\"295\" cy=\"103\" r=\"9\" fill=\"rgb(255,0,0)\" class=\"agent_0_56\"/><circle cx=\"210\" cy=\"145\" r=\"12\" fill=\"rgb(255,0,0)\" class=\"agent_0_62\"/><circle cx=\"189\" cy=\"313\" r=\"9\" fill=\"rgb(255,255,255)\" class=\"agent_0_66\"/></svg><svg viewBox='0 0 430 430' id=\"svg\" width=\"172\" height=\"172\"><circle cx=\"215\" cy=\"215\" r=\"205\" fill=\"none\" stroke=\"black\" stroke-width=\"2\" stroke-dasharray=\"3,3\"/> <circle cx=\"288\" cy=\"143\" r=\"10\" fill=\"rgb(255,0,0)\" class=\"agent_0_8\"/><circle cx=\"222\" cy=\"23\" r=\"10\" fill=\"rgb(255,255,255)\" class=\"agent_0_46\"/><circle cx=\"228\" cy=\"116\" r=\"11\" fill=\"rgb(255,0,0)\" class=\"agent_0_49\"/><circle cx=\"230\" cy=\"413\" r=\"11\" fill=\"rgb(255,255,255)\" class=\"agent_0_55\"/><circle cx=\"295\" cy=\"103\" r=\"9\" fill=\"rgb(255,255,255)\" class=\"agent_0_56\"/><circle cx=\"210\" cy=\"145\" r=\"12\" fill=\"rgb(255,0,0)\" class=\"agent_0_62\"/><circle cx=\"189\" cy=\"313\" r=\"9\" fill=\"rgb(255,255,255)\" class=\"agent_0_66\"/></svg></div>"
      ],
      "text/plain": [
       "<IPython.core.display.HTML object>"
      ]
     },
     "metadata": {},
     "output_type": "display_data"
    },
    {
     "name": "stdout",
     "output_type": "stream",
     "text": [
      "sample 0\ti do n't see that . i have a small light gray dot with a large black dot to the right and slightly above <eos>\n",
      "sample 1\ti do n't see that . i have a small light gray dot with a larger black dot to the right of it <eos>\n",
      "sample 2\ti do n't have that . i have a small light grey dot with a larger black dot to the right of it <eos>\n",
      "sample 3\ti do n't have that . i have a tiny light grey dot with a larger black dot to the right of it <eos>\n",
      "sample 4\ti do n't see that . i have a light grey dot with a slightly larger dark grey dot above and to the right of it <eos>\n",
      "sample 5\ti do n't have that . i have a small light grey dot with a larger black dot to the right of it <eos>\n",
      "sample 6\ti do n't have that . i have a small light grey dot to the right of a larger dark grey dot <eos>\n",
      "sample 7\ti do n't have that . i have a light gray dot with a larger black dot to the left of it <eos>\n",
      "sample 8\ti do n't see that . i have a light gray dot with a larger black dot to the right of it <eos>\n",
      "sample 9\ti do n't have that . i have a light grey dot with a slightly larger darker dot below and to the right <eos>\n",
      "argmax\ti do n't have that . i have a light grey dot with a larger black dot to the right of it <eos>\n",
      "human\ti do n't see that . i see a smaller light gray circle above a slightly larger black circle . <eos>\n",
      "refs_true\n"
     ]
    },
    {
     "data": {
      "text/html": [
       "<div style=\"white-space: nowrap\"><svg viewbox='0 0 430 430' width=\"172\" height=\"172\" id=\"agent_0\"><circle cx=\"215\" cy=\"215\" r=\"205\" fill=\"none\" stroke=\"black\" stroke-width=\"2\" stroke-dasharray=\"3,3\"/><circle cx=\"288\" cy=\"143\" r=\"10\" fill=\"rgb(58,58,58)\"/><circle cx=\"222\" cy=\"23\" r=\"10\" fill=\"rgb(56,56,56)\"/><circle cx=\"228\" cy=\"116\" r=\"11\" fill=\"rgb(90,90,90)\"/><circle cx=\"230\" cy=\"413\" r=\"11\" fill=\"rgb(74,74,74)\"/><circle cx=\"295\" cy=\"103\" r=\"9\" fill=\"rgb(189,189,189)\"/><circle cx=\"210\" cy=\"145\" r=\"12\" fill=\"rgb(139,139,139)\"/><circle cx=\"189\" cy=\"313\" r=\"9\" fill=\"rgb(131,131,131)\"/></svg><svg viewBox='0 0 430 430' id=\"svg\" width=\"172\" height=\"172\"><circle cx=\"215\" cy=\"215\" r=\"205\" fill=\"none\" stroke=\"black\" stroke-width=\"2\" stroke-dasharray=\"3,3\"/> <circle cx=\"288\" cy=\"143\" r=\"10\" fill=\"rgb(255,255,255)\" class=\"agent_0_8\"/><circle cx=\"222\" cy=\"23\" r=\"10\" fill=\"rgb(255,255,255)\" class=\"agent_0_46\"/><circle cx=\"228\" cy=\"116\" r=\"11\" fill=\"rgb(255,255,255)\" class=\"agent_0_49\"/><circle cx=\"230\" cy=\"413\" r=\"11\" fill=\"rgb(255,255,255)\" class=\"agent_0_55\"/><circle cx=\"295\" cy=\"103\" r=\"9\" fill=\"rgb(255,255,255)\" class=\"agent_0_56\"/><circle cx=\"210\" cy=\"145\" r=\"12\" fill=\"rgb(255,255,255)\" class=\"agent_0_62\"/><circle cx=\"189\" cy=\"313\" r=\"9\" fill=\"rgb(255,255,255)\" class=\"agent_0_66\"/></svg><svg viewBox='0 0 430 430' id=\"svg\" width=\"172\" height=\"172\"><circle cx=\"215\" cy=\"215\" r=\"205\" fill=\"none\" stroke=\"black\" stroke-width=\"2\" stroke-dasharray=\"3,3\"/> <circle cx=\"288\" cy=\"143\" r=\"10\" fill=\"rgb(255,255,255)\" class=\"agent_0_8\"/><circle cx=\"222\" cy=\"23\" r=\"10\" fill=\"rgb(255,255,255)\" class=\"agent_0_46\"/><circle cx=\"228\" cy=\"116\" r=\"11\" fill=\"rgb(255,255,255)\" class=\"agent_0_49\"/><circle cx=\"230\" cy=\"413\" r=\"11\" fill=\"rgb(255,255,255)\" class=\"agent_0_55\"/><circle cx=\"295\" cy=\"103\" r=\"9\" fill=\"rgb(255,0,0)\" class=\"agent_0_56\"/><circle cx=\"210\" cy=\"145\" r=\"12\" fill=\"rgb(255,255,255)\" class=\"agent_0_62\"/><circle cx=\"189\" cy=\"313\" r=\"9\" fill=\"rgb(255,255,255)\" class=\"agent_0_66\"/></svg><svg viewBox='0 0 430 430' id=\"svg\" width=\"172\" height=\"172\"><circle cx=\"215\" cy=\"215\" r=\"205\" fill=\"none\" stroke=\"black\" stroke-width=\"2\" stroke-dasharray=\"3,3\"/> <circle cx=\"288\" cy=\"143\" r=\"10\" fill=\"rgb(255,0,0)\" class=\"agent_0_8\"/><circle cx=\"222\" cy=\"23\" r=\"10\" fill=\"rgb(255,255,255)\" class=\"agent_0_46\"/><circle cx=\"228\" cy=\"116\" r=\"11\" fill=\"rgb(255,255,255)\" class=\"agent_0_49\"/><circle cx=\"230\" cy=\"413\" r=\"11\" fill=\"rgb(255,255,255)\" class=\"agent_0_55\"/><circle cx=\"295\" cy=\"103\" r=\"9\" fill=\"rgb(255,255,255)\" class=\"agent_0_56\"/><circle cx=\"210\" cy=\"145\" r=\"12\" fill=\"rgb(255,255,255)\" class=\"agent_0_62\"/><circle cx=\"189\" cy=\"313\" r=\"9\" fill=\"rgb(255,255,255)\" class=\"agent_0_66\"/></svg></div>"
      ],
      "text/plain": [
       "<IPython.core.display.HTML object>"
      ]
     },
     "metadata": {},
     "output_type": "display_data"
    },
    {
     "name": "stdout",
     "output_type": "stream",
     "text": [
      "refs_pred\n"
     ]
    },
    {
     "data": {
      "text/html": [
       "<div style=\"white-space: nowrap\"><svg viewbox='0 0 430 430' width=\"172\" height=\"172\" id=\"agent_0\"><circle cx=\"215\" cy=\"215\" r=\"205\" fill=\"none\" stroke=\"black\" stroke-width=\"2\" stroke-dasharray=\"3,3\"/><circle cx=\"288\" cy=\"143\" r=\"10\" fill=\"rgb(58,58,58)\"/><circle cx=\"222\" cy=\"23\" r=\"10\" fill=\"rgb(56,56,56)\"/><circle cx=\"228\" cy=\"116\" r=\"11\" fill=\"rgb(90,90,90)\"/><circle cx=\"230\" cy=\"413\" r=\"11\" fill=\"rgb(74,74,74)\"/><circle cx=\"295\" cy=\"103\" r=\"9\" fill=\"rgb(189,189,189)\"/><circle cx=\"210\" cy=\"145\" r=\"12\" fill=\"rgb(139,139,139)\"/><circle cx=\"189\" cy=\"313\" r=\"9\" fill=\"rgb(131,131,131)\"/></svg><svg viewBox='0 0 430 430' id=\"svg\" width=\"172\" height=\"172\"><circle cx=\"215\" cy=\"215\" r=\"205\" fill=\"none\" stroke=\"black\" stroke-width=\"2\" stroke-dasharray=\"3,3\"/> <circle cx=\"288\" cy=\"143\" r=\"10\" fill=\"rgb(255,255,255)\" class=\"agent_0_8\"/><circle cx=\"222\" cy=\"23\" r=\"10\" fill=\"rgb(255,255,255)\" class=\"agent_0_46\"/><circle cx=\"228\" cy=\"116\" r=\"11\" fill=\"rgb(255,255,255)\" class=\"agent_0_49\"/><circle cx=\"230\" cy=\"413\" r=\"11\" fill=\"rgb(255,255,255)\" class=\"agent_0_55\"/><circle cx=\"295\" cy=\"103\" r=\"9\" fill=\"rgb(255,255,255)\" class=\"agent_0_56\"/><circle cx=\"210\" cy=\"145\" r=\"12\" fill=\"rgb(255,255,255)\" class=\"agent_0_62\"/><circle cx=\"189\" cy=\"313\" r=\"9\" fill=\"rgb(255,255,255)\" class=\"agent_0_66\"/></svg><svg viewBox='0 0 430 430' id=\"svg\" width=\"172\" height=\"172\"><circle cx=\"215\" cy=\"215\" r=\"205\" fill=\"none\" stroke=\"black\" stroke-width=\"2\" stroke-dasharray=\"3,3\"/> <circle cx=\"288\" cy=\"143\" r=\"10\" fill=\"rgb(255,255,255)\" class=\"agent_0_8\"/><circle cx=\"222\" cy=\"23\" r=\"10\" fill=\"rgb(255,255,255)\" class=\"agent_0_46\"/><circle cx=\"228\" cy=\"116\" r=\"11\" fill=\"rgb(255,255,255)\" class=\"agent_0_49\"/><circle cx=\"230\" cy=\"413\" r=\"11\" fill=\"rgb(255,255,255)\" class=\"agent_0_55\"/><circle cx=\"295\" cy=\"103\" r=\"9\" fill=\"rgb(255,0,0)\" class=\"agent_0_56\"/><circle cx=\"210\" cy=\"145\" r=\"12\" fill=\"rgb(255,255,255)\" class=\"agent_0_62\"/><circle cx=\"189\" cy=\"313\" r=\"9\" fill=\"rgb(255,255,255)\" class=\"agent_0_66\"/></svg><svg viewBox='0 0 430 430' id=\"svg\" width=\"172\" height=\"172\"><circle cx=\"215\" cy=\"215\" r=\"205\" fill=\"none\" stroke=\"black\" stroke-width=\"2\" stroke-dasharray=\"3,3\"/> <circle cx=\"288\" cy=\"143\" r=\"10\" fill=\"rgb(255,0,0)\" class=\"agent_0_8\"/><circle cx=\"222\" cy=\"23\" r=\"10\" fill=\"rgb(255,255,255)\" class=\"agent_0_46\"/><circle cx=\"228\" cy=\"116\" r=\"11\" fill=\"rgb(255,255,255)\" class=\"agent_0_49\"/><circle cx=\"230\" cy=\"413\" r=\"11\" fill=\"rgb(255,255,255)\" class=\"agent_0_55\"/><circle cx=\"295\" cy=\"103\" r=\"9\" fill=\"rgb(255,255,255)\" class=\"agent_0_56\"/><circle cx=\"210\" cy=\"145\" r=\"12\" fill=\"rgb(255,255,255)\" class=\"agent_0_62\"/><circle cx=\"189\" cy=\"313\" r=\"9\" fill=\"rgb(255,255,255)\" class=\"agent_0_66\"/></svg></div>"
      ],
      "text/plain": [
       "<IPython.core.display.HTML object>"
      ]
     },
     "metadata": {},
     "output_type": "display_data"
    },
    {
     "name": "stdout",
     "output_type": "stream",
     "text": [
      "\n",
      "----------------------------------------\n",
      "\n",
      "human\tTHEM: awesome , me too . lets click that smaller light gray circle . <selection>\n",
      "partner_refs_true\n"
     ]
    },
    {
     "data": {
      "text/html": [
       "<div style=\"white-space: nowrap\"><svg viewbox='0 0 430 430' width=\"172\" height=\"172\" id=\"agent_0\"><circle cx=\"215\" cy=\"215\" r=\"205\" fill=\"none\" stroke=\"black\" stroke-width=\"2\" stroke-dasharray=\"3,3\"/><circle cx=\"288\" cy=\"143\" r=\"10\" fill=\"rgb(58,58,58)\"/><circle cx=\"222\" cy=\"23\" r=\"10\" fill=\"rgb(56,56,56)\"/><circle cx=\"228\" cy=\"116\" r=\"11\" fill=\"rgb(90,90,90)\"/><circle cx=\"230\" cy=\"413\" r=\"11\" fill=\"rgb(74,74,74)\"/><circle cx=\"295\" cy=\"103\" r=\"9\" fill=\"rgb(189,189,189)\"/><circle cx=\"210\" cy=\"145\" r=\"12\" fill=\"rgb(139,139,139)\"/><circle cx=\"189\" cy=\"313\" r=\"9\" fill=\"rgb(131,131,131)\"/></svg><svg viewBox='0 0 430 430' id=\"svg\" width=\"172\" height=\"172\"><circle cx=\"215\" cy=\"215\" r=\"205\" fill=\"none\" stroke=\"black\" stroke-width=\"2\" stroke-dasharray=\"3,3\"/> <circle cx=\"288\" cy=\"143\" r=\"10\" fill=\"rgb(255,255,255)\" class=\"agent_0_8\"/><circle cx=\"222\" cy=\"23\" r=\"10\" fill=\"rgb(255,255,255)\" class=\"agent_0_46\"/><circle cx=\"228\" cy=\"116\" r=\"11\" fill=\"rgb(255,255,255)\" class=\"agent_0_49\"/><circle cx=\"230\" cy=\"413\" r=\"11\" fill=\"rgb(255,255,255)\" class=\"agent_0_55\"/><circle cx=\"295\" cy=\"103\" r=\"9\" fill=\"rgb(255,0,0)\" class=\"agent_0_56\"/><circle cx=\"210\" cy=\"145\" r=\"12\" fill=\"rgb(255,255,255)\" class=\"agent_0_62\"/><circle cx=\"189\" cy=\"313\" r=\"9\" fill=\"rgb(255,255,255)\" class=\"agent_0_66\"/></svg></div>"
      ],
      "text/plain": [
       "<IPython.core.display.HTML object>"
      ]
     },
     "metadata": {},
     "output_type": "display_data"
    },
    {
     "name": "stdout",
     "output_type": "stream",
     "text": [
      "partner_refs_pred\n"
     ]
    },
    {
     "data": {
      "text/html": [
       "<div style=\"white-space: nowrap\"><svg viewbox='0 0 430 430' width=\"172\" height=\"172\" id=\"agent_0\"><circle cx=\"215\" cy=\"215\" r=\"205\" fill=\"none\" stroke=\"black\" stroke-width=\"2\" stroke-dasharray=\"3,3\"/><circle cx=\"288\" cy=\"143\" r=\"10\" fill=\"rgb(58,58,58)\"/><circle cx=\"222\" cy=\"23\" r=\"10\" fill=\"rgb(56,56,56)\"/><circle cx=\"228\" cy=\"116\" r=\"11\" fill=\"rgb(90,90,90)\"/><circle cx=\"230\" cy=\"413\" r=\"11\" fill=\"rgb(74,74,74)\"/><circle cx=\"295\" cy=\"103\" r=\"9\" fill=\"rgb(189,189,189)\"/><circle cx=\"210\" cy=\"145\" r=\"12\" fill=\"rgb(139,139,139)\"/><circle cx=\"189\" cy=\"313\" r=\"9\" fill=\"rgb(131,131,131)\"/></svg><svg viewBox='0 0 430 430' id=\"svg\" width=\"172\" height=\"172\"><circle cx=\"215\" cy=\"215\" r=\"205\" fill=\"none\" stroke=\"black\" stroke-width=\"2\" stroke-dasharray=\"3,3\"/> <circle cx=\"288\" cy=\"143\" r=\"10\" fill=\"rgb(255,255,255)\" class=\"agent_0_8\"/><circle cx=\"222\" cy=\"23\" r=\"10\" fill=\"rgb(255,255,255)\" class=\"agent_0_46\"/><circle cx=\"228\" cy=\"116\" r=\"11\" fill=\"rgb(255,255,255)\" class=\"agent_0_49\"/><circle cx=\"230\" cy=\"413\" r=\"11\" fill=\"rgb(255,255,255)\" class=\"agent_0_55\"/><circle cx=\"295\" cy=\"103\" r=\"9\" fill=\"rgb(255,0,0)\" class=\"agent_0_56\"/><circle cx=\"210\" cy=\"145\" r=\"12\" fill=\"rgb(255,255,255)\" class=\"agent_0_62\"/><circle cx=\"189\" cy=\"313\" r=\"9\" fill=\"rgb(255,255,255)\" class=\"agent_0_66\"/></svg></div>"
      ],
      "text/plain": [
       "<IPython.core.display.HTML object>"
      ]
     },
     "metadata": {},
     "output_type": "display_data"
    },
    {
     "name": "stdout",
     "output_type": "stream",
     "text": [
      "\n",
      "----------------------------------------\n",
      "\n"
     ]
    }
   ],
   "source": [
    "force_contexts_and_mentions(2)"
   ]
  },
  {
   "cell_type": "code",
   "execution_count": 49,
   "metadata": {
    "scrolled": false
   },
   "outputs": [
    {
     "name": "stdout",
     "output_type": "stream",
     "text": [
      "human\tTHEM: i have lonely medium black in the middle <eos>\n",
      "partner_refs_true\n"
     ]
    },
    {
     "data": {
      "text/html": [
       "<div style=\"white-space: nowrap\"><svg viewbox='0 0 430 430' width=\"172\" height=\"172\" id=\"agent_1\"><circle cx=\"215\" cy=\"215\" r=\"205\" fill=\"none\" stroke=\"black\" stroke-width=\"2\" stroke-dasharray=\"3,3\"/><circle cx=\"308\" cy=\"41\" r=\"12\" fill=\"rgb(166,166,166)\"/><circle cx=\"191\" cy=\"212\" r=\"10\" fill=\"rgb(56,56,56)\"/><circle cx=\"330\" cy=\"110\" r=\"10\" fill=\"rgb(124,124,124)\"/><circle cx=\"159\" cy=\"92\" r=\"12\" fill=\"rgb(152,152,152)\"/><circle cx=\"102\" cy=\"86\" r=\"9\" fill=\"rgb(91,91,91)\"/><circle cx=\"35\" cy=\"249\" r=\"11\" fill=\"rgb(133,133,133)\"/><circle cx=\"347\" cy=\"354\" r=\"12\" fill=\"rgb(63,63,63)\"/></svg><svg viewBox='0 0 430 430' id=\"svg\" width=\"172\" height=\"172\"><circle cx=\"215\" cy=\"215\" r=\"205\" fill=\"none\" stroke=\"black\" stroke-width=\"2\" stroke-dasharray=\"3,3\"/> <circle cx=\"308\" cy=\"41\" r=\"12\" fill=\"rgb(255,255,255)\" class=\"agent_1_1\"/><circle cx=\"191\" cy=\"212\" r=\"10\" fill=\"rgb(255,0,0)\" class=\"agent_1_11\"/><circle cx=\"330\" cy=\"110\" r=\"10\" fill=\"rgb(255,255,255)\" class=\"agent_1_16\"/><circle cx=\"159\" cy=\"92\" r=\"12\" fill=\"rgb(255,255,255)\" class=\"agent_1_27\"/><circle cx=\"102\" cy=\"86\" r=\"9\" fill=\"rgb(255,255,255)\" class=\"agent_1_33\"/><circle cx=\"35\" cy=\"249\" r=\"11\" fill=\"rgb(255,255,255)\" class=\"agent_1_38\"/><circle cx=\"347\" cy=\"354\" r=\"12\" fill=\"rgb(255,255,255)\" class=\"agent_1_58\"/></svg></div>"
      ],
      "text/plain": [
       "<IPython.core.display.HTML object>"
      ]
     },
     "metadata": {},
     "output_type": "display_data"
    },
    {
     "name": "stdout",
     "output_type": "stream",
     "text": [
      "partner_refs_pred\n"
     ]
    },
    {
     "data": {
      "text/html": [
       "<div style=\"white-space: nowrap\"><svg viewbox='0 0 430 430' width=\"172\" height=\"172\" id=\"agent_1\"><circle cx=\"215\" cy=\"215\" r=\"205\" fill=\"none\" stroke=\"black\" stroke-width=\"2\" stroke-dasharray=\"3,3\"/><circle cx=\"308\" cy=\"41\" r=\"12\" fill=\"rgb(166,166,166)\"/><circle cx=\"191\" cy=\"212\" r=\"10\" fill=\"rgb(56,56,56)\"/><circle cx=\"330\" cy=\"110\" r=\"10\" fill=\"rgb(124,124,124)\"/><circle cx=\"159\" cy=\"92\" r=\"12\" fill=\"rgb(152,152,152)\"/><circle cx=\"102\" cy=\"86\" r=\"9\" fill=\"rgb(91,91,91)\"/><circle cx=\"35\" cy=\"249\" r=\"11\" fill=\"rgb(133,133,133)\"/><circle cx=\"347\" cy=\"354\" r=\"12\" fill=\"rgb(63,63,63)\"/></svg><svg viewBox='0 0 430 430' id=\"svg\" width=\"172\" height=\"172\"><circle cx=\"215\" cy=\"215\" r=\"205\" fill=\"none\" stroke=\"black\" stroke-width=\"2\" stroke-dasharray=\"3,3\"/> <circle cx=\"308\" cy=\"41\" r=\"12\" fill=\"rgb(255,255,255)\" class=\"agent_1_1\"/><circle cx=\"191\" cy=\"212\" r=\"10\" fill=\"rgb(255,0,0)\" class=\"agent_1_11\"/><circle cx=\"330\" cy=\"110\" r=\"10\" fill=\"rgb(255,255,255)\" class=\"agent_1_16\"/><circle cx=\"159\" cy=\"92\" r=\"12\" fill=\"rgb(255,255,255)\" class=\"agent_1_27\"/><circle cx=\"102\" cy=\"86\" r=\"9\" fill=\"rgb(255,255,255)\" class=\"agent_1_33\"/><circle cx=\"35\" cy=\"249\" r=\"11\" fill=\"rgb(255,255,255)\" class=\"agent_1_38\"/><circle cx=\"347\" cy=\"354\" r=\"12\" fill=\"rgb(255,255,255)\" class=\"agent_1_58\"/></svg></div>"
      ],
      "text/plain": [
       "<IPython.core.display.HTML object>"
      ]
     },
     "metadata": {},
     "output_type": "display_data"
    },
    {
     "name": "stdout",
     "output_type": "stream",
     "text": [
      "\n",
      "----------------------------------------\n",
      "\n",
      "to_mention_true\n"
     ]
    },
    {
     "data": {
      "text/html": [
       "<div style=\"white-space: nowrap\"><svg viewbox='0 0 430 430' width=\"172\" height=\"172\" id=\"agent_1\"><circle cx=\"215\" cy=\"215\" r=\"205\" fill=\"none\" stroke=\"black\" stroke-width=\"2\" stroke-dasharray=\"3,3\"/><circle cx=\"308\" cy=\"41\" r=\"12\" fill=\"rgb(166,166,166)\"/><circle cx=\"191\" cy=\"212\" r=\"10\" fill=\"rgb(56,56,56)\"/><circle cx=\"330\" cy=\"110\" r=\"10\" fill=\"rgb(124,124,124)\"/><circle cx=\"159\" cy=\"92\" r=\"12\" fill=\"rgb(152,152,152)\"/><circle cx=\"102\" cy=\"86\" r=\"9\" fill=\"rgb(91,91,91)\"/><circle cx=\"35\" cy=\"249\" r=\"11\" fill=\"rgb(133,133,133)\"/><circle cx=\"347\" cy=\"354\" r=\"12\" fill=\"rgb(63,63,63)\"/></svg><svg viewBox='0 0 430 430' id=\"svg\" width=\"172\" height=\"172\"><circle cx=\"215\" cy=\"215\" r=\"205\" fill=\"none\" stroke=\"black\" stroke-width=\"2\" stroke-dasharray=\"3,3\"/> <circle cx=\"308\" cy=\"41\" r=\"12\" fill=\"rgb(255,255,255)\" class=\"agent_1_1\"/><circle cx=\"191\" cy=\"212\" r=\"10\" fill=\"rgb(255,0,0)\" class=\"agent_1_11\"/><circle cx=\"330\" cy=\"110\" r=\"10\" fill=\"rgb(255,255,255)\" class=\"agent_1_16\"/><circle cx=\"159\" cy=\"92\" r=\"12\" fill=\"rgb(255,255,255)\" class=\"agent_1_27\"/><circle cx=\"102\" cy=\"86\" r=\"9\" fill=\"rgb(255,255,255)\" class=\"agent_1_33\"/><circle cx=\"35\" cy=\"249\" r=\"11\" fill=\"rgb(255,255,255)\" class=\"agent_1_38\"/><circle cx=\"347\" cy=\"354\" r=\"12\" fill=\"rgb(255,255,255)\" class=\"agent_1_58\"/></svg><svg viewBox='0 0 430 430' id=\"svg\" width=\"172\" height=\"172\"><circle cx=\"215\" cy=\"215\" r=\"205\" fill=\"none\" stroke=\"black\" stroke-width=\"2\" stroke-dasharray=\"3,3\"/> <circle cx=\"308\" cy=\"41\" r=\"12\" fill=\"rgb(255,255,255)\" class=\"agent_1_1\"/><circle cx=\"191\" cy=\"212\" r=\"10\" fill=\"rgb(255,0,0)\" class=\"agent_1_11\"/><circle cx=\"330\" cy=\"110\" r=\"10\" fill=\"rgb(255,255,255)\" class=\"agent_1_16\"/><circle cx=\"159\" cy=\"92\" r=\"12\" fill=\"rgb(255,255,255)\" class=\"agent_1_27\"/><circle cx=\"102\" cy=\"86\" r=\"9\" fill=\"rgb(255,255,255)\" class=\"agent_1_33\"/><circle cx=\"35\" cy=\"249\" r=\"11\" fill=\"rgb(255,255,255)\" class=\"agent_1_38\"/><circle cx=\"347\" cy=\"354\" r=\"12\" fill=\"rgb(255,255,255)\" class=\"agent_1_58\"/></svg><svg viewBox='0 0 430 430' id=\"svg\" width=\"172\" height=\"172\"><circle cx=\"215\" cy=\"215\" r=\"205\" fill=\"none\" stroke=\"black\" stroke-width=\"2\" stroke-dasharray=\"3,3\"/> <circle cx=\"308\" cy=\"41\" r=\"12\" fill=\"rgb(255,255,255)\" class=\"agent_1_1\"/><circle cx=\"191\" cy=\"212\" r=\"10\" fill=\"rgb(255,255,255)\" class=\"agent_1_11\"/><circle cx=\"330\" cy=\"110\" r=\"10\" fill=\"rgb(255,255,255)\" class=\"agent_1_16\"/><circle cx=\"159\" cy=\"92\" r=\"12\" fill=\"rgb(255,255,255)\" class=\"agent_1_27\"/><circle cx=\"102\" cy=\"86\" r=\"9\" fill=\"rgb(255,255,255)\" class=\"agent_1_33\"/><circle cx=\"35\" cy=\"249\" r=\"11\" fill=\"rgb(255,0,0)\" class=\"agent_1_38\"/><circle cx=\"347\" cy=\"354\" r=\"12\" fill=\"rgb(255,255,255)\" class=\"agent_1_58\"/></svg><svg viewBox='0 0 430 430' id=\"svg\" width=\"172\" height=\"172\"><circle cx=\"215\" cy=\"215\" r=\"205\" fill=\"none\" stroke=\"black\" stroke-width=\"2\" stroke-dasharray=\"3,3\"/> <circle cx=\"308\" cy=\"41\" r=\"12\" fill=\"rgb(255,255,255)\" class=\"agent_1_1\"/><circle cx=\"191\" cy=\"212\" r=\"10\" fill=\"rgb(255,0,0)\" class=\"agent_1_11\"/><circle cx=\"330\" cy=\"110\" r=\"10\" fill=\"rgb(255,255,255)\" class=\"agent_1_16\"/><circle cx=\"159\" cy=\"92\" r=\"12\" fill=\"rgb(255,255,255)\" class=\"agent_1_27\"/><circle cx=\"102\" cy=\"86\" r=\"9\" fill=\"rgb(255,255,255)\" class=\"agent_1_33\"/><circle cx=\"35\" cy=\"249\" r=\"11\" fill=\"rgb(255,255,255)\" class=\"agent_1_38\"/><circle cx=\"347\" cy=\"354\" r=\"12\" fill=\"rgb(255,255,255)\" class=\"agent_1_58\"/></svg></div>"
      ],
      "text/plain": [
       "<IPython.core.display.HTML object>"
      ]
     },
     "metadata": {},
     "output_type": "display_data"
    },
    {
     "name": "stdout",
     "output_type": "stream",
     "text": [
      "to_mention_pred\n"
     ]
    },
    {
     "data": {
      "text/html": [
       "<div style=\"white-space: nowrap\"><svg viewbox='0 0 430 430' width=\"172\" height=\"172\" id=\"agent_1\"><circle cx=\"215\" cy=\"215\" r=\"205\" fill=\"none\" stroke=\"black\" stroke-width=\"2\" stroke-dasharray=\"3,3\"/><circle cx=\"308\" cy=\"41\" r=\"12\" fill=\"rgb(166,166,166)\"/><circle cx=\"191\" cy=\"212\" r=\"10\" fill=\"rgb(56,56,56)\"/><circle cx=\"330\" cy=\"110\" r=\"10\" fill=\"rgb(124,124,124)\"/><circle cx=\"159\" cy=\"92\" r=\"12\" fill=\"rgb(152,152,152)\"/><circle cx=\"102\" cy=\"86\" r=\"9\" fill=\"rgb(91,91,91)\"/><circle cx=\"35\" cy=\"249\" r=\"11\" fill=\"rgb(133,133,133)\"/><circle cx=\"347\" cy=\"354\" r=\"12\" fill=\"rgb(63,63,63)\"/></svg><svg viewBox='0 0 430 430' id=\"svg\" width=\"172\" height=\"172\"><circle cx=\"215\" cy=\"215\" r=\"205\" fill=\"none\" stroke=\"black\" stroke-width=\"2\" stroke-dasharray=\"3,3\"/> <circle cx=\"308\" cy=\"41\" r=\"12\" fill=\"rgb(255,255,255)\" class=\"agent_1_1\"/><circle cx=\"191\" cy=\"212\" r=\"10\" fill=\"rgb(255,0,0)\" class=\"agent_1_11\"/><circle cx=\"330\" cy=\"110\" r=\"10\" fill=\"rgb(255,255,255)\" class=\"agent_1_16\"/><circle cx=\"159\" cy=\"92\" r=\"12\" fill=\"rgb(255,255,255)\" class=\"agent_1_27\"/><circle cx=\"102\" cy=\"86\" r=\"9\" fill=\"rgb(255,255,255)\" class=\"agent_1_33\"/><circle cx=\"35\" cy=\"249\" r=\"11\" fill=\"rgb(255,255,255)\" class=\"agent_1_38\"/><circle cx=\"347\" cy=\"354\" r=\"12\" fill=\"rgb(255,255,255)\" class=\"agent_1_58\"/></svg><svg viewBox='0 0 430 430' id=\"svg\" width=\"172\" height=\"172\"><circle cx=\"215\" cy=\"215\" r=\"205\" fill=\"none\" stroke=\"black\" stroke-width=\"2\" stroke-dasharray=\"3,3\"/> <circle cx=\"308\" cy=\"41\" r=\"12\" fill=\"rgb(255,255,255)\" class=\"agent_1_1\"/><circle cx=\"191\" cy=\"212\" r=\"10\" fill=\"rgb(255,0,0)\" class=\"agent_1_11\"/><circle cx=\"330\" cy=\"110\" r=\"10\" fill=\"rgb(255,255,255)\" class=\"agent_1_16\"/><circle cx=\"159\" cy=\"92\" r=\"12\" fill=\"rgb(255,255,255)\" class=\"agent_1_27\"/><circle cx=\"102\" cy=\"86\" r=\"9\" fill=\"rgb(255,255,255)\" class=\"agent_1_33\"/><circle cx=\"35\" cy=\"249\" r=\"11\" fill=\"rgb(255,255,255)\" class=\"agent_1_38\"/><circle cx=\"347\" cy=\"354\" r=\"12\" fill=\"rgb(255,255,255)\" class=\"agent_1_58\"/></svg><svg viewBox='0 0 430 430' id=\"svg\" width=\"172\" height=\"172\"><circle cx=\"215\" cy=\"215\" r=\"205\" fill=\"none\" stroke=\"black\" stroke-width=\"2\" stroke-dasharray=\"3,3\"/> <circle cx=\"308\" cy=\"41\" r=\"12\" fill=\"rgb(255,255,255)\" class=\"agent_1_1\"/><circle cx=\"191\" cy=\"212\" r=\"10\" fill=\"rgb(255,0,0)\" class=\"agent_1_11\"/><circle cx=\"330\" cy=\"110\" r=\"10\" fill=\"rgb(255,255,255)\" class=\"agent_1_16\"/><circle cx=\"159\" cy=\"92\" r=\"12\" fill=\"rgb(255,255,255)\" class=\"agent_1_27\"/><circle cx=\"102\" cy=\"86\" r=\"9\" fill=\"rgb(255,255,255)\" class=\"agent_1_33\"/><circle cx=\"35\" cy=\"249\" r=\"11\" fill=\"rgb(255,255,255)\" class=\"agent_1_38\"/><circle cx=\"347\" cy=\"354\" r=\"12\" fill=\"rgb(255,255,255)\" class=\"agent_1_58\"/></svg><svg viewBox='0 0 430 430' id=\"svg\" width=\"172\" height=\"172\"><circle cx=\"215\" cy=\"215\" r=\"205\" fill=\"none\" stroke=\"black\" stroke-width=\"2\" stroke-dasharray=\"3,3\"/> <circle cx=\"308\" cy=\"41\" r=\"12\" fill=\"rgb(255,255,255)\" class=\"agent_1_1\"/><circle cx=\"191\" cy=\"212\" r=\"10\" fill=\"rgb(255,0,0)\" class=\"agent_1_11\"/><circle cx=\"330\" cy=\"110\" r=\"10\" fill=\"rgb(255,255,255)\" class=\"agent_1_16\"/><circle cx=\"159\" cy=\"92\" r=\"12\" fill=\"rgb(255,255,255)\" class=\"agent_1_27\"/><circle cx=\"102\" cy=\"86\" r=\"9\" fill=\"rgb(255,255,255)\" class=\"agent_1_33\"/><circle cx=\"35\" cy=\"249\" r=\"11\" fill=\"rgb(255,255,255)\" class=\"agent_1_38\"/><circle cx=\"347\" cy=\"354\" r=\"12\" fill=\"rgb(255,255,255)\" class=\"agent_1_58\"/></svg></div>"
      ],
      "text/plain": [
       "<IPython.core.display.HTML object>"
      ]
     },
     "metadata": {},
     "output_type": "display_data"
    },
    {
     "name": "stdout",
     "output_type": "stream",
     "text": [
      "sample 0\ti have a black dot , with a medium grey dot above it and a medium gray dot to the left <eos>\n",
      "sample 1\ti have a black dot with a larger grey dot above it <eos>\n",
      "sample 2\ti have one black dot . it is at the top of my circle . it is near a larger grey dot <eos>\n",
      "sample 3\ti have a black dot with a medium gray dot to the left of it . they are close together <eos>\n",
      "sample 4\ti have one black dot . it is above and to the right of a medium dark gray dot . <eos>\n",
      "sample 5\ti have a black dot , with a slightly smaller medium gray dot to its right and slightly above it <eos>\n",
      "sample 6\ti have a black dot with a slightly smaller lighter dot to the right of it . do you have that ? <eos>\n",
      "sample 7\ti have a large black dot with a smaller lighter grey dot to the right of it . they are close together <eos>\n",
      "sample 8\ti have one black dot . it is at the top of my circle . there is a medium sized medium gray dot below and to the right of it <eos>\n",
      "sample 9\ti have one very dark dot , but it is near the edge of my circle . there is a medium grey dot to the left of it <eos>\n",
      "argmax\ti have one black dot . it is to the right of a larger dark dot . do you see that ? <eos>\n",
      "human\ti see a lonely black dot in the almost middle to its left over an inch away is a dark gray one that is slightly lower than it <eos>\n",
      "refs_true\n"
     ]
    },
    {
     "data": {
      "text/html": [
       "<div style=\"white-space: nowrap\"><svg viewbox='0 0 430 430' width=\"172\" height=\"172\" id=\"agent_1\"><circle cx=\"215\" cy=\"215\" r=\"205\" fill=\"none\" stroke=\"black\" stroke-width=\"2\" stroke-dasharray=\"3,3\"/><circle cx=\"308\" cy=\"41\" r=\"12\" fill=\"rgb(166,166,166)\"/><circle cx=\"191\" cy=\"212\" r=\"10\" fill=\"rgb(56,56,56)\"/><circle cx=\"330\" cy=\"110\" r=\"10\" fill=\"rgb(124,124,124)\"/><circle cx=\"159\" cy=\"92\" r=\"12\" fill=\"rgb(152,152,152)\"/><circle cx=\"102\" cy=\"86\" r=\"9\" fill=\"rgb(91,91,91)\"/><circle cx=\"35\" cy=\"249\" r=\"11\" fill=\"rgb(133,133,133)\"/><circle cx=\"347\" cy=\"354\" r=\"12\" fill=\"rgb(63,63,63)\"/></svg><svg viewBox='0 0 430 430' id=\"svg\" width=\"172\" height=\"172\"><circle cx=\"215\" cy=\"215\" r=\"205\" fill=\"none\" stroke=\"black\" stroke-width=\"2\" stroke-dasharray=\"3,3\"/> <circle cx=\"308\" cy=\"41\" r=\"12\" fill=\"rgb(255,255,255)\" class=\"agent_1_1\"/><circle cx=\"191\" cy=\"212\" r=\"10\" fill=\"rgb(255,0,0)\" class=\"agent_1_11\"/><circle cx=\"330\" cy=\"110\" r=\"10\" fill=\"rgb(255,255,255)\" class=\"agent_1_16\"/><circle cx=\"159\" cy=\"92\" r=\"12\" fill=\"rgb(255,255,255)\" class=\"agent_1_27\"/><circle cx=\"102\" cy=\"86\" r=\"9\" fill=\"rgb(255,255,255)\" class=\"agent_1_33\"/><circle cx=\"35\" cy=\"249\" r=\"11\" fill=\"rgb(255,255,255)\" class=\"agent_1_38\"/><circle cx=\"347\" cy=\"354\" r=\"12\" fill=\"rgb(255,255,255)\" class=\"agent_1_58\"/></svg><svg viewBox='0 0 430 430' id=\"svg\" width=\"172\" height=\"172\"><circle cx=\"215\" cy=\"215\" r=\"205\" fill=\"none\" stroke=\"black\" stroke-width=\"2\" stroke-dasharray=\"3,3\"/> <circle cx=\"308\" cy=\"41\" r=\"12\" fill=\"rgb(255,255,255)\" class=\"agent_1_1\"/><circle cx=\"191\" cy=\"212\" r=\"10\" fill=\"rgb(255,0,0)\" class=\"agent_1_11\"/><circle cx=\"330\" cy=\"110\" r=\"10\" fill=\"rgb(255,255,255)\" class=\"agent_1_16\"/><circle cx=\"159\" cy=\"92\" r=\"12\" fill=\"rgb(255,255,255)\" class=\"agent_1_27\"/><circle cx=\"102\" cy=\"86\" r=\"9\" fill=\"rgb(255,255,255)\" class=\"agent_1_33\"/><circle cx=\"35\" cy=\"249\" r=\"11\" fill=\"rgb(255,255,255)\" class=\"agent_1_38\"/><circle cx=\"347\" cy=\"354\" r=\"12\" fill=\"rgb(255,255,255)\" class=\"agent_1_58\"/></svg><svg viewBox='0 0 430 430' id=\"svg\" width=\"172\" height=\"172\"><circle cx=\"215\" cy=\"215\" r=\"205\" fill=\"none\" stroke=\"black\" stroke-width=\"2\" stroke-dasharray=\"3,3\"/> <circle cx=\"308\" cy=\"41\" r=\"12\" fill=\"rgb(255,255,255)\" class=\"agent_1_1\"/><circle cx=\"191\" cy=\"212\" r=\"10\" fill=\"rgb(255,255,255)\" class=\"agent_1_11\"/><circle cx=\"330\" cy=\"110\" r=\"10\" fill=\"rgb(255,255,255)\" class=\"agent_1_16\"/><circle cx=\"159\" cy=\"92\" r=\"12\" fill=\"rgb(255,255,255)\" class=\"agent_1_27\"/><circle cx=\"102\" cy=\"86\" r=\"9\" fill=\"rgb(255,255,255)\" class=\"agent_1_33\"/><circle cx=\"35\" cy=\"249\" r=\"11\" fill=\"rgb(255,0,0)\" class=\"agent_1_38\"/><circle cx=\"347\" cy=\"354\" r=\"12\" fill=\"rgb(255,255,255)\" class=\"agent_1_58\"/></svg><svg viewBox='0 0 430 430' id=\"svg\" width=\"172\" height=\"172\"><circle cx=\"215\" cy=\"215\" r=\"205\" fill=\"none\" stroke=\"black\" stroke-width=\"2\" stroke-dasharray=\"3,3\"/> <circle cx=\"308\" cy=\"41\" r=\"12\" fill=\"rgb(255,255,255)\" class=\"agent_1_1\"/><circle cx=\"191\" cy=\"212\" r=\"10\" fill=\"rgb(255,0,0)\" class=\"agent_1_11\"/><circle cx=\"330\" cy=\"110\" r=\"10\" fill=\"rgb(255,255,255)\" class=\"agent_1_16\"/><circle cx=\"159\" cy=\"92\" r=\"12\" fill=\"rgb(255,255,255)\" class=\"agent_1_27\"/><circle cx=\"102\" cy=\"86\" r=\"9\" fill=\"rgb(255,255,255)\" class=\"agent_1_33\"/><circle cx=\"35\" cy=\"249\" r=\"11\" fill=\"rgb(255,255,255)\" class=\"agent_1_38\"/><circle cx=\"347\" cy=\"354\" r=\"12\" fill=\"rgb(255,255,255)\" class=\"agent_1_58\"/></svg></div>"
      ],
      "text/plain": [
       "<IPython.core.display.HTML object>"
      ]
     },
     "metadata": {},
     "output_type": "display_data"
    },
    {
     "name": "stdout",
     "output_type": "stream",
     "text": [
      "refs_pred\n"
     ]
    },
    {
     "data": {
      "text/html": [
       "<div style=\"white-space: nowrap\"><svg viewbox='0 0 430 430' width=\"172\" height=\"172\" id=\"agent_1\"><circle cx=\"215\" cy=\"215\" r=\"205\" fill=\"none\" stroke=\"black\" stroke-width=\"2\" stroke-dasharray=\"3,3\"/><circle cx=\"308\" cy=\"41\" r=\"12\" fill=\"rgb(166,166,166)\"/><circle cx=\"191\" cy=\"212\" r=\"10\" fill=\"rgb(56,56,56)\"/><circle cx=\"330\" cy=\"110\" r=\"10\" fill=\"rgb(124,124,124)\"/><circle cx=\"159\" cy=\"92\" r=\"12\" fill=\"rgb(152,152,152)\"/><circle cx=\"102\" cy=\"86\" r=\"9\" fill=\"rgb(91,91,91)\"/><circle cx=\"35\" cy=\"249\" r=\"11\" fill=\"rgb(133,133,133)\"/><circle cx=\"347\" cy=\"354\" r=\"12\" fill=\"rgb(63,63,63)\"/></svg><svg viewBox='0 0 430 430' id=\"svg\" width=\"172\" height=\"172\"><circle cx=\"215\" cy=\"215\" r=\"205\" fill=\"none\" stroke=\"black\" stroke-width=\"2\" stroke-dasharray=\"3,3\"/> <circle cx=\"308\" cy=\"41\" r=\"12\" fill=\"rgb(255,255,255)\" class=\"agent_1_1\"/><circle cx=\"191\" cy=\"212\" r=\"10\" fill=\"rgb(255,0,0)\" class=\"agent_1_11\"/><circle cx=\"330\" cy=\"110\" r=\"10\" fill=\"rgb(255,255,255)\" class=\"agent_1_16\"/><circle cx=\"159\" cy=\"92\" r=\"12\" fill=\"rgb(255,255,255)\" class=\"agent_1_27\"/><circle cx=\"102\" cy=\"86\" r=\"9\" fill=\"rgb(255,255,255)\" class=\"agent_1_33\"/><circle cx=\"35\" cy=\"249\" r=\"11\" fill=\"rgb(255,255,255)\" class=\"agent_1_38\"/><circle cx=\"347\" cy=\"354\" r=\"12\" fill=\"rgb(255,255,255)\" class=\"agent_1_58\"/></svg><svg viewBox='0 0 430 430' id=\"svg\" width=\"172\" height=\"172\"><circle cx=\"215\" cy=\"215\" r=\"205\" fill=\"none\" stroke=\"black\" stroke-width=\"2\" stroke-dasharray=\"3,3\"/> <circle cx=\"308\" cy=\"41\" r=\"12\" fill=\"rgb(255,255,255)\" class=\"agent_1_1\"/><circle cx=\"191\" cy=\"212\" r=\"10\" fill=\"rgb(255,255,255)\" class=\"agent_1_11\"/><circle cx=\"330\" cy=\"110\" r=\"10\" fill=\"rgb(255,255,255)\" class=\"agent_1_16\"/><circle cx=\"159\" cy=\"92\" r=\"12\" fill=\"rgb(255,255,255)\" class=\"agent_1_27\"/><circle cx=\"102\" cy=\"86\" r=\"9\" fill=\"rgb(255,0,0)\" class=\"agent_1_33\"/><circle cx=\"35\" cy=\"249\" r=\"11\" fill=\"rgb(255,255,255)\" class=\"agent_1_38\"/><circle cx=\"347\" cy=\"354\" r=\"12\" fill=\"rgb(255,255,255)\" class=\"agent_1_58\"/></svg><svg viewBox='0 0 430 430' id=\"svg\" width=\"172\" height=\"172\"><circle cx=\"215\" cy=\"215\" r=\"205\" fill=\"none\" stroke=\"black\" stroke-width=\"2\" stroke-dasharray=\"3,3\"/> <circle cx=\"308\" cy=\"41\" r=\"12\" fill=\"rgb(255,255,255)\" class=\"agent_1_1\"/><circle cx=\"191\" cy=\"212\" r=\"10\" fill=\"rgb(255,255,255)\" class=\"agent_1_11\"/><circle cx=\"330\" cy=\"110\" r=\"10\" fill=\"rgb(255,255,255)\" class=\"agent_1_16\"/><circle cx=\"159\" cy=\"92\" r=\"12\" fill=\"rgb(255,0,0)\" class=\"agent_1_27\"/><circle cx=\"102\" cy=\"86\" r=\"9\" fill=\"rgb(255,255,255)\" class=\"agent_1_33\"/><circle cx=\"35\" cy=\"249\" r=\"11\" fill=\"rgb(255,255,255)\" class=\"agent_1_38\"/><circle cx=\"347\" cy=\"354\" r=\"12\" fill=\"rgb(255,255,255)\" class=\"agent_1_58\"/></svg><svg viewBox='0 0 430 430' id=\"svg\" width=\"172\" height=\"172\"><circle cx=\"215\" cy=\"215\" r=\"205\" fill=\"none\" stroke=\"black\" stroke-width=\"2\" stroke-dasharray=\"3,3\"/> <circle cx=\"308\" cy=\"41\" r=\"12\" fill=\"rgb(255,255,255)\" class=\"agent_1_1\"/><circle cx=\"191\" cy=\"212\" r=\"10\" fill=\"rgb(255,255,255)\" class=\"agent_1_11\"/><circle cx=\"330\" cy=\"110\" r=\"10\" fill=\"rgb(255,255,255)\" class=\"agent_1_16\"/><circle cx=\"159\" cy=\"92\" r=\"12\" fill=\"rgb(255,255,255)\" class=\"agent_1_27\"/><circle cx=\"102\" cy=\"86\" r=\"9\" fill=\"rgb(255,0,0)\" class=\"agent_1_33\"/><circle cx=\"35\" cy=\"249\" r=\"11\" fill=\"rgb(255,255,255)\" class=\"agent_1_38\"/><circle cx=\"347\" cy=\"354\" r=\"12\" fill=\"rgb(255,255,255)\" class=\"agent_1_58\"/></svg></div>"
      ],
      "text/plain": [
       "<IPython.core.display.HTML object>"
      ]
     },
     "metadata": {},
     "output_type": "display_data"
    },
    {
     "name": "stdout",
     "output_type": "stream",
     "text": [
      "\n",
      "----------------------------------------\n",
      "\n",
      "human\tTHEM: we select the middle black dot <selection>\n",
      "partner_refs_true\n"
     ]
    },
    {
     "data": {
      "text/html": [
       "<div style=\"white-space: nowrap\"><svg viewbox='0 0 430 430' width=\"172\" height=\"172\" id=\"agent_1\"><circle cx=\"215\" cy=\"215\" r=\"205\" fill=\"none\" stroke=\"black\" stroke-width=\"2\" stroke-dasharray=\"3,3\"/><circle cx=\"308\" cy=\"41\" r=\"12\" fill=\"rgb(166,166,166)\"/><circle cx=\"191\" cy=\"212\" r=\"10\" fill=\"rgb(56,56,56)\"/><circle cx=\"330\" cy=\"110\" r=\"10\" fill=\"rgb(124,124,124)\"/><circle cx=\"159\" cy=\"92\" r=\"12\" fill=\"rgb(152,152,152)\"/><circle cx=\"102\" cy=\"86\" r=\"9\" fill=\"rgb(91,91,91)\"/><circle cx=\"35\" cy=\"249\" r=\"11\" fill=\"rgb(133,133,133)\"/><circle cx=\"347\" cy=\"354\" r=\"12\" fill=\"rgb(63,63,63)\"/></svg><svg viewBox='0 0 430 430' id=\"svg\" width=\"172\" height=\"172\"><circle cx=\"215\" cy=\"215\" r=\"205\" fill=\"none\" stroke=\"black\" stroke-width=\"2\" stroke-dasharray=\"3,3\"/> <circle cx=\"308\" cy=\"41\" r=\"12\" fill=\"rgb(255,255,255)\" class=\"agent_1_1\"/><circle cx=\"191\" cy=\"212\" r=\"10\" fill=\"rgb(255,0,0)\" class=\"agent_1_11\"/><circle cx=\"330\" cy=\"110\" r=\"10\" fill=\"rgb(255,255,255)\" class=\"agent_1_16\"/><circle cx=\"159\" cy=\"92\" r=\"12\" fill=\"rgb(255,255,255)\" class=\"agent_1_27\"/><circle cx=\"102\" cy=\"86\" r=\"9\" fill=\"rgb(255,255,255)\" class=\"agent_1_33\"/><circle cx=\"35\" cy=\"249\" r=\"11\" fill=\"rgb(255,255,255)\" class=\"agent_1_38\"/><circle cx=\"347\" cy=\"354\" r=\"12\" fill=\"rgb(255,255,255)\" class=\"agent_1_58\"/></svg></div>"
      ],
      "text/plain": [
       "<IPython.core.display.HTML object>"
      ]
     },
     "metadata": {},
     "output_type": "display_data"
    },
    {
     "name": "stdout",
     "output_type": "stream",
     "text": [
      "partner_refs_pred\n"
     ]
    },
    {
     "data": {
      "text/html": [
       "<div style=\"white-space: nowrap\"><svg viewbox='0 0 430 430' width=\"172\" height=\"172\" id=\"agent_1\"><circle cx=\"215\" cy=\"215\" r=\"205\" fill=\"none\" stroke=\"black\" stroke-width=\"2\" stroke-dasharray=\"3,3\"/><circle cx=\"308\" cy=\"41\" r=\"12\" fill=\"rgb(166,166,166)\"/><circle cx=\"191\" cy=\"212\" r=\"10\" fill=\"rgb(56,56,56)\"/><circle cx=\"330\" cy=\"110\" r=\"10\" fill=\"rgb(124,124,124)\"/><circle cx=\"159\" cy=\"92\" r=\"12\" fill=\"rgb(152,152,152)\"/><circle cx=\"102\" cy=\"86\" r=\"9\" fill=\"rgb(91,91,91)\"/><circle cx=\"35\" cy=\"249\" r=\"11\" fill=\"rgb(133,133,133)\"/><circle cx=\"347\" cy=\"354\" r=\"12\" fill=\"rgb(63,63,63)\"/></svg><svg viewBox='0 0 430 430' id=\"svg\" width=\"172\" height=\"172\"><circle cx=\"215\" cy=\"215\" r=\"205\" fill=\"none\" stroke=\"black\" stroke-width=\"2\" stroke-dasharray=\"3,3\"/> <circle cx=\"308\" cy=\"41\" r=\"12\" fill=\"rgb(255,255,255)\" class=\"agent_1_1\"/><circle cx=\"191\" cy=\"212\" r=\"10\" fill=\"rgb(255,0,0)\" class=\"agent_1_11\"/><circle cx=\"330\" cy=\"110\" r=\"10\" fill=\"rgb(255,255,255)\" class=\"agent_1_16\"/><circle cx=\"159\" cy=\"92\" r=\"12\" fill=\"rgb(255,255,255)\" class=\"agent_1_27\"/><circle cx=\"102\" cy=\"86\" r=\"9\" fill=\"rgb(255,255,255)\" class=\"agent_1_33\"/><circle cx=\"35\" cy=\"249\" r=\"11\" fill=\"rgb(255,255,255)\" class=\"agent_1_38\"/><circle cx=\"347\" cy=\"354\" r=\"12\" fill=\"rgb(255,255,255)\" class=\"agent_1_58\"/></svg></div>"
      ],
      "text/plain": [
       "<IPython.core.display.HTML object>"
      ]
     },
     "metadata": {},
     "output_type": "display_data"
    },
    {
     "name": "stdout",
     "output_type": "stream",
     "text": [
      "\n",
      "----------------------------------------\n",
      "\n"
     ]
    }
   ],
   "source": [
    "force_contexts_and_mentions(3)"
   ]
  },
  {
   "cell_type": "code",
   "execution_count": 50,
   "metadata": {
    "scrolled": false
   },
   "outputs": [
    {
     "name": "stdout",
     "output_type": "stream",
     "text": [
      "to_mention_true\n"
     ]
    },
    {
     "data": {
      "text/html": [
       "<div style=\"white-space: nowrap\"><svg viewbox='0 0 430 430' width=\"172\" height=\"172\" id=\"agent_1\"><circle cx=\"215\" cy=\"215\" r=\"205\" fill=\"none\" stroke=\"black\" stroke-width=\"2\" stroke-dasharray=\"3,3\"/><circle cx=\"349\" cy=\"298\" r=\"9\" fill=\"rgb(85,85,85)\"/><circle cx=\"81\" cy=\"132\" r=\"13\" fill=\"rgb(58,58,58)\"/><circle cx=\"349\" cy=\"210\" r=\"8\" fill=\"rgb(106,106,106)\"/><circle cx=\"272\" cy=\"379\" r=\"7\" fill=\"rgb(171,171,171)\"/><circle cx=\"313\" cy=\"340\" r=\"12\" fill=\"rgb(106,106,106)\"/><circle cx=\"53\" cy=\"318\" r=\"13\" fill=\"rgb(144,144,144)\"/><circle cx=\"348\" cy=\"66\" r=\"11\" fill=\"rgb(156,156,156)\"/></svg><svg viewBox='0 0 430 430' id=\"svg\" width=\"172\" height=\"172\"><circle cx=\"215\" cy=\"215\" r=\"205\" fill=\"none\" stroke=\"black\" stroke-width=\"2\" stroke-dasharray=\"3,3\"/> <circle cx=\"349\" cy=\"298\" r=\"9\" fill=\"rgb(255,255,255)\" class=\"agent_1_3\"/><circle cx=\"81\" cy=\"132\" r=\"13\" fill=\"rgb(255,0,0)\" class=\"agent_1_7\"/><circle cx=\"349\" cy=\"210\" r=\"8\" fill=\"rgb(255,255,255)\" class=\"agent_1_29\"/><circle cx=\"272\" cy=\"379\" r=\"7\" fill=\"rgb(255,255,255)\" class=\"agent_1_39\"/><circle cx=\"313\" cy=\"340\" r=\"12\" fill=\"rgb(255,255,255)\" class=\"agent_1_46\"/><circle cx=\"53\" cy=\"318\" r=\"13\" fill=\"rgb(255,255,255)\" class=\"agent_1_48\"/><circle cx=\"348\" cy=\"66\" r=\"11\" fill=\"rgb(255,255,255)\" class=\"agent_1_68\"/></svg></div>"
      ],
      "text/plain": [
       "<IPython.core.display.HTML object>"
      ]
     },
     "metadata": {},
     "output_type": "display_data"
    },
    {
     "name": "stdout",
     "output_type": "stream",
     "text": [
      "to_mention_pred\n"
     ]
    },
    {
     "data": {
      "text/html": [
       "<div style=\"white-space: nowrap\"><svg viewbox='0 0 430 430' width=\"172\" height=\"172\" id=\"agent_1\"><circle cx=\"215\" cy=\"215\" r=\"205\" fill=\"none\" stroke=\"black\" stroke-width=\"2\" stroke-dasharray=\"3,3\"/><circle cx=\"349\" cy=\"298\" r=\"9\" fill=\"rgb(85,85,85)\"/><circle cx=\"81\" cy=\"132\" r=\"13\" fill=\"rgb(58,58,58)\"/><circle cx=\"349\" cy=\"210\" r=\"8\" fill=\"rgb(106,106,106)\"/><circle cx=\"272\" cy=\"379\" r=\"7\" fill=\"rgb(171,171,171)\"/><circle cx=\"313\" cy=\"340\" r=\"12\" fill=\"rgb(106,106,106)\"/><circle cx=\"53\" cy=\"318\" r=\"13\" fill=\"rgb(144,144,144)\"/><circle cx=\"348\" cy=\"66\" r=\"11\" fill=\"rgb(156,156,156)\"/></svg><svg viewBox='0 0 430 430' id=\"svg\" width=\"172\" height=\"172\"><circle cx=\"215\" cy=\"215\" r=\"205\" fill=\"none\" stroke=\"black\" stroke-width=\"2\" stroke-dasharray=\"3,3\"/> <circle cx=\"349\" cy=\"298\" r=\"9\" fill=\"rgb(255,255,255)\" class=\"agent_1_3\"/><circle cx=\"81\" cy=\"132\" r=\"13\" fill=\"rgb(255,0,0)\" class=\"agent_1_7\"/><circle cx=\"349\" cy=\"210\" r=\"8\" fill=\"rgb(255,255,255)\" class=\"agent_1_29\"/><circle cx=\"272\" cy=\"379\" r=\"7\" fill=\"rgb(255,255,255)\" class=\"agent_1_39\"/><circle cx=\"313\" cy=\"340\" r=\"12\" fill=\"rgb(255,255,255)\" class=\"agent_1_46\"/><circle cx=\"53\" cy=\"318\" r=\"13\" fill=\"rgb(255,255,255)\" class=\"agent_1_48\"/><circle cx=\"348\" cy=\"66\" r=\"11\" fill=\"rgb(255,255,255)\" class=\"agent_1_68\"/></svg></div>"
      ],
      "text/plain": [
       "<IPython.core.display.HTML object>"
      ]
     },
     "metadata": {},
     "output_type": "display_data"
    },
    {
     "name": "stdout",
     "output_type": "stream",
     "text": [
      "sample 0\ti have a large black dot at the top of the circle <eos>\n",
      "sample 1\ti have a large black dot at the top of the circle <eos>\n",
      "sample 2\ti have a large black dot at the top of the circle <eos>\n",
      "sample 3\ti have a large black dot <eos>\n",
      "sample 4\ti have a large black dot <eos>\n",
      "sample 5\ti see a large black dot <eos>\n",
      "sample 6\ti have a large black dot <eos>\n",
      "sample 7\ti have a large black dot at the bottom of the circle <eos>\n",
      "sample 8\tlarge black dot ? <eos>\n",
      "sample 9\ti have a large black dot <eos>\n",
      "argmax\ti have a large black dot <eos>\n",
      "human\ti have one large black dot <eos>\n",
      "refs_true\n"
     ]
    },
    {
     "data": {
      "text/html": [
       "<div style=\"white-space: nowrap\"><svg viewbox='0 0 430 430' width=\"172\" height=\"172\" id=\"agent_1\"><circle cx=\"215\" cy=\"215\" r=\"205\" fill=\"none\" stroke=\"black\" stroke-width=\"2\" stroke-dasharray=\"3,3\"/><circle cx=\"349\" cy=\"298\" r=\"9\" fill=\"rgb(85,85,85)\"/><circle cx=\"81\" cy=\"132\" r=\"13\" fill=\"rgb(58,58,58)\"/><circle cx=\"349\" cy=\"210\" r=\"8\" fill=\"rgb(106,106,106)\"/><circle cx=\"272\" cy=\"379\" r=\"7\" fill=\"rgb(171,171,171)\"/><circle cx=\"313\" cy=\"340\" r=\"12\" fill=\"rgb(106,106,106)\"/><circle cx=\"53\" cy=\"318\" r=\"13\" fill=\"rgb(144,144,144)\"/><circle cx=\"348\" cy=\"66\" r=\"11\" fill=\"rgb(156,156,156)\"/></svg><svg viewBox='0 0 430 430' id=\"svg\" width=\"172\" height=\"172\"><circle cx=\"215\" cy=\"215\" r=\"205\" fill=\"none\" stroke=\"black\" stroke-width=\"2\" stroke-dasharray=\"3,3\"/> <circle cx=\"349\" cy=\"298\" r=\"9\" fill=\"rgb(255,255,255)\" class=\"agent_1_3\"/><circle cx=\"81\" cy=\"132\" r=\"13\" fill=\"rgb(255,0,0)\" class=\"agent_1_7\"/><circle cx=\"349\" cy=\"210\" r=\"8\" fill=\"rgb(255,255,255)\" class=\"agent_1_29\"/><circle cx=\"272\" cy=\"379\" r=\"7\" fill=\"rgb(255,255,255)\" class=\"agent_1_39\"/><circle cx=\"313\" cy=\"340\" r=\"12\" fill=\"rgb(255,255,255)\" class=\"agent_1_46\"/><circle cx=\"53\" cy=\"318\" r=\"13\" fill=\"rgb(255,255,255)\" class=\"agent_1_48\"/><circle cx=\"348\" cy=\"66\" r=\"11\" fill=\"rgb(255,255,255)\" class=\"agent_1_68\"/></svg></div>"
      ],
      "text/plain": [
       "<IPython.core.display.HTML object>"
      ]
     },
     "metadata": {},
     "output_type": "display_data"
    },
    {
     "name": "stdout",
     "output_type": "stream",
     "text": [
      "refs_pred\n"
     ]
    },
    {
     "data": {
      "text/html": [
       "<div style=\"white-space: nowrap\"><svg viewbox='0 0 430 430' width=\"172\" height=\"172\" id=\"agent_1\"><circle cx=\"215\" cy=\"215\" r=\"205\" fill=\"none\" stroke=\"black\" stroke-width=\"2\" stroke-dasharray=\"3,3\"/><circle cx=\"349\" cy=\"298\" r=\"9\" fill=\"rgb(85,85,85)\"/><circle cx=\"81\" cy=\"132\" r=\"13\" fill=\"rgb(58,58,58)\"/><circle cx=\"349\" cy=\"210\" r=\"8\" fill=\"rgb(106,106,106)\"/><circle cx=\"272\" cy=\"379\" r=\"7\" fill=\"rgb(171,171,171)\"/><circle cx=\"313\" cy=\"340\" r=\"12\" fill=\"rgb(106,106,106)\"/><circle cx=\"53\" cy=\"318\" r=\"13\" fill=\"rgb(144,144,144)\"/><circle cx=\"348\" cy=\"66\" r=\"11\" fill=\"rgb(156,156,156)\"/></svg><svg viewBox='0 0 430 430' id=\"svg\" width=\"172\" height=\"172\"><circle cx=\"215\" cy=\"215\" r=\"205\" fill=\"none\" stroke=\"black\" stroke-width=\"2\" stroke-dasharray=\"3,3\"/> <circle cx=\"349\" cy=\"298\" r=\"9\" fill=\"rgb(255,255,255)\" class=\"agent_1_3\"/><circle cx=\"81\" cy=\"132\" r=\"13\" fill=\"rgb(255,0,0)\" class=\"agent_1_7\"/><circle cx=\"349\" cy=\"210\" r=\"8\" fill=\"rgb(255,255,255)\" class=\"agent_1_29\"/><circle cx=\"272\" cy=\"379\" r=\"7\" fill=\"rgb(255,255,255)\" class=\"agent_1_39\"/><circle cx=\"313\" cy=\"340\" r=\"12\" fill=\"rgb(255,255,255)\" class=\"agent_1_46\"/><circle cx=\"53\" cy=\"318\" r=\"13\" fill=\"rgb(255,255,255)\" class=\"agent_1_48\"/><circle cx=\"348\" cy=\"66\" r=\"11\" fill=\"rgb(255,255,255)\" class=\"agent_1_68\"/></svg></div>"
      ],
      "text/plain": [
       "<IPython.core.display.HTML object>"
      ]
     },
     "metadata": {},
     "output_type": "display_data"
    },
    {
     "name": "stdout",
     "output_type": "stream",
     "text": [
      "\n",
      "----------------------------------------\n",
      "\n",
      "human\tTHEM: i have a large dot but i think its dark grey because one next to it is black . i have one tiny light grey dot <eos>\n",
      "partner_refs_true\n"
     ]
    },
    {
     "data": {
      "text/html": [
       "<div style=\"white-space: nowrap\"><svg viewbox='0 0 430 430' width=\"172\" height=\"172\" id=\"agent_1\"><circle cx=\"215\" cy=\"215\" r=\"205\" fill=\"none\" stroke=\"black\" stroke-width=\"2\" stroke-dasharray=\"3,3\"/><circle cx=\"349\" cy=\"298\" r=\"9\" fill=\"rgb(85,85,85)\"/><circle cx=\"81\" cy=\"132\" r=\"13\" fill=\"rgb(58,58,58)\"/><circle cx=\"349\" cy=\"210\" r=\"8\" fill=\"rgb(106,106,106)\"/><circle cx=\"272\" cy=\"379\" r=\"7\" fill=\"rgb(171,171,171)\"/><circle cx=\"313\" cy=\"340\" r=\"12\" fill=\"rgb(106,106,106)\"/><circle cx=\"53\" cy=\"318\" r=\"13\" fill=\"rgb(144,144,144)\"/><circle cx=\"348\" cy=\"66\" r=\"11\" fill=\"rgb(156,156,156)\"/></svg><svg viewBox='0 0 430 430' id=\"svg\" width=\"172\" height=\"172\"><circle cx=\"215\" cy=\"215\" r=\"205\" fill=\"none\" stroke=\"black\" stroke-width=\"2\" stroke-dasharray=\"3,3\"/> <circle cx=\"349\" cy=\"298\" r=\"9\" fill=\"rgb(255,255,255)\" class=\"agent_1_3\"/><circle cx=\"81\" cy=\"132\" r=\"13\" fill=\"rgb(255,255,255)\" class=\"agent_1_7\"/><circle cx=\"349\" cy=\"210\" r=\"8\" fill=\"rgb(255,255,255)\" class=\"agent_1_29\"/><circle cx=\"272\" cy=\"379\" r=\"7\" fill=\"rgb(255,255,255)\" class=\"agent_1_39\"/><circle cx=\"313\" cy=\"340\" r=\"12\" fill=\"rgb(255,0,0)\" class=\"agent_1_46\"/><circle cx=\"53\" cy=\"318\" r=\"13\" fill=\"rgb(255,255,255)\" class=\"agent_1_48\"/><circle cx=\"348\" cy=\"66\" r=\"11\" fill=\"rgb(255,255,255)\" class=\"agent_1_68\"/></svg><svg viewBox='0 0 430 430' id=\"svg\" width=\"172\" height=\"172\"><circle cx=\"215\" cy=\"215\" r=\"205\" fill=\"none\" stroke=\"black\" stroke-width=\"2\" stroke-dasharray=\"3,3\"/> <circle cx=\"349\" cy=\"298\" r=\"9\" fill=\"rgb(255,255,255)\" class=\"agent_1_3\"/><circle cx=\"81\" cy=\"132\" r=\"13\" fill=\"rgb(255,255,255)\" class=\"agent_1_7\"/><circle cx=\"349\" cy=\"210\" r=\"8\" fill=\"rgb(255,255,255)\" class=\"agent_1_29\"/><circle cx=\"272\" cy=\"379\" r=\"7\" fill=\"rgb(255,255,255)\" class=\"agent_1_39\"/><circle cx=\"313\" cy=\"340\" r=\"12\" fill=\"rgb(255,0,0)\" class=\"agent_1_46\"/><circle cx=\"53\" cy=\"318\" r=\"13\" fill=\"rgb(255,255,255)\" class=\"agent_1_48\"/><circle cx=\"348\" cy=\"66\" r=\"11\" fill=\"rgb(255,255,255)\" class=\"agent_1_68\"/></svg><svg viewBox='0 0 430 430' id=\"svg\" width=\"172\" height=\"172\"><circle cx=\"215\" cy=\"215\" r=\"205\" fill=\"none\" stroke=\"black\" stroke-width=\"2\" stroke-dasharray=\"3,3\"/> <circle cx=\"349\" cy=\"298\" r=\"9\" fill=\"rgb(255,0,0)\" class=\"agent_1_3\"/><circle cx=\"81\" cy=\"132\" r=\"13\" fill=\"rgb(255,255,255)\" class=\"agent_1_7\"/><circle cx=\"349\" cy=\"210\" r=\"8\" fill=\"rgb(255,255,255)\" class=\"agent_1_29\"/><circle cx=\"272\" cy=\"379\" r=\"7\" fill=\"rgb(255,255,255)\" class=\"agent_1_39\"/><circle cx=\"313\" cy=\"340\" r=\"12\" fill=\"rgb(255,255,255)\" class=\"agent_1_46\"/><circle cx=\"53\" cy=\"318\" r=\"13\" fill=\"rgb(255,255,255)\" class=\"agent_1_48\"/><circle cx=\"348\" cy=\"66\" r=\"11\" fill=\"rgb(255,255,255)\" class=\"agent_1_68\"/></svg><svg viewBox='0 0 430 430' id=\"svg\" width=\"172\" height=\"172\"><circle cx=\"215\" cy=\"215\" r=\"205\" fill=\"none\" stroke=\"black\" stroke-width=\"2\" stroke-dasharray=\"3,3\"/> <circle cx=\"349\" cy=\"298\" r=\"9\" fill=\"rgb(255,255,255)\" class=\"agent_1_3\"/><circle cx=\"81\" cy=\"132\" r=\"13\" fill=\"rgb(255,255,255)\" class=\"agent_1_7\"/><circle cx=\"349\" cy=\"210\" r=\"8\" fill=\"rgb(255,255,255)\" class=\"agent_1_29\"/><circle cx=\"272\" cy=\"379\" r=\"7\" fill=\"rgb(255,255,255)\" class=\"agent_1_39\"/><circle cx=\"313\" cy=\"340\" r=\"12\" fill=\"rgb(255,0,0)\" class=\"agent_1_46\"/><circle cx=\"53\" cy=\"318\" r=\"13\" fill=\"rgb(255,255,255)\" class=\"agent_1_48\"/><circle cx=\"348\" cy=\"66\" r=\"11\" fill=\"rgb(255,255,255)\" class=\"agent_1_68\"/></svg><svg viewBox='0 0 430 430' id=\"svg\" width=\"172\" height=\"172\"><circle cx=\"215\" cy=\"215\" r=\"205\" fill=\"none\" stroke=\"black\" stroke-width=\"2\" stroke-dasharray=\"3,3\"/> <circle cx=\"349\" cy=\"298\" r=\"9\" fill=\"rgb(255,255,255)\" class=\"agent_1_3\"/><circle cx=\"81\" cy=\"132\" r=\"13\" fill=\"rgb(255,255,255)\" class=\"agent_1_7\"/><circle cx=\"349\" cy=\"210\" r=\"8\" fill=\"rgb(255,255,255)\" class=\"agent_1_29\"/><circle cx=\"272\" cy=\"379\" r=\"7\" fill=\"rgb(255,0,0)\" class=\"agent_1_39\"/><circle cx=\"313\" cy=\"340\" r=\"12\" fill=\"rgb(255,255,255)\" class=\"agent_1_46\"/><circle cx=\"53\" cy=\"318\" r=\"13\" fill=\"rgb(255,255,255)\" class=\"agent_1_48\"/><circle cx=\"348\" cy=\"66\" r=\"11\" fill=\"rgb(255,255,255)\" class=\"agent_1_68\"/></svg></div>"
      ],
      "text/plain": [
       "<IPython.core.display.HTML object>"
      ]
     },
     "metadata": {},
     "output_type": "display_data"
    },
    {
     "name": "stdout",
     "output_type": "stream",
     "text": [
      "partner_refs_pred\n"
     ]
    },
    {
     "data": {
      "text/html": [
       "<div style=\"white-space: nowrap\"><svg viewbox='0 0 430 430' width=\"172\" height=\"172\" id=\"agent_1\"><circle cx=\"215\" cy=\"215\" r=\"205\" fill=\"none\" stroke=\"black\" stroke-width=\"2\" stroke-dasharray=\"3,3\"/><circle cx=\"349\" cy=\"298\" r=\"9\" fill=\"rgb(85,85,85)\"/><circle cx=\"81\" cy=\"132\" r=\"13\" fill=\"rgb(58,58,58)\"/><circle cx=\"349\" cy=\"210\" r=\"8\" fill=\"rgb(106,106,106)\"/><circle cx=\"272\" cy=\"379\" r=\"7\" fill=\"rgb(171,171,171)\"/><circle cx=\"313\" cy=\"340\" r=\"12\" fill=\"rgb(106,106,106)\"/><circle cx=\"53\" cy=\"318\" r=\"13\" fill=\"rgb(144,144,144)\"/><circle cx=\"348\" cy=\"66\" r=\"11\" fill=\"rgb(156,156,156)\"/></svg><svg viewBox='0 0 430 430' id=\"svg\" width=\"172\" height=\"172\"><circle cx=\"215\" cy=\"215\" r=\"205\" fill=\"none\" stroke=\"black\" stroke-width=\"2\" stroke-dasharray=\"3,3\"/> <circle cx=\"349\" cy=\"298\" r=\"9\" fill=\"rgb(255,255,255)\" class=\"agent_1_3\"/><circle cx=\"81\" cy=\"132\" r=\"13\" fill=\"rgb(255,255,255)\" class=\"agent_1_7\"/><circle cx=\"349\" cy=\"210\" r=\"8\" fill=\"rgb(255,255,255)\" class=\"agent_1_29\"/><circle cx=\"272\" cy=\"379\" r=\"7\" fill=\"rgb(255,255,255)\" class=\"agent_1_39\"/><circle cx=\"313\" cy=\"340\" r=\"12\" fill=\"rgb(255,255,255)\" class=\"agent_1_46\"/><circle cx=\"53\" cy=\"318\" r=\"13\" fill=\"rgb(255,255,255)\" class=\"agent_1_48\"/><circle cx=\"348\" cy=\"66\" r=\"11\" fill=\"rgb(255,0,0)\" class=\"agent_1_68\"/></svg><svg viewBox='0 0 430 430' id=\"svg\" width=\"172\" height=\"172\"><circle cx=\"215\" cy=\"215\" r=\"205\" fill=\"none\" stroke=\"black\" stroke-width=\"2\" stroke-dasharray=\"3,3\"/> <circle cx=\"349\" cy=\"298\" r=\"9\" fill=\"rgb(255,255,255)\" class=\"agent_1_3\"/><circle cx=\"81\" cy=\"132\" r=\"13\" fill=\"rgb(255,255,255)\" class=\"agent_1_7\"/><circle cx=\"349\" cy=\"210\" r=\"8\" fill=\"rgb(255,255,255)\" class=\"agent_1_29\"/><circle cx=\"272\" cy=\"379\" r=\"7\" fill=\"rgb(255,255,255)\" class=\"agent_1_39\"/><circle cx=\"313\" cy=\"340\" r=\"12\" fill=\"rgb(255,255,255)\" class=\"agent_1_46\"/><circle cx=\"53\" cy=\"318\" r=\"13\" fill=\"rgb(255,255,255)\" class=\"agent_1_48\"/><circle cx=\"348\" cy=\"66\" r=\"11\" fill=\"rgb(255,0,0)\" class=\"agent_1_68\"/></svg><svg viewBox='0 0 430 430' id=\"svg\" width=\"172\" height=\"172\"><circle cx=\"215\" cy=\"215\" r=\"205\" fill=\"none\" stroke=\"black\" stroke-width=\"2\" stroke-dasharray=\"3,3\"/> <circle cx=\"349\" cy=\"298\" r=\"9\" fill=\"rgb(255,255,255)\" class=\"agent_1_3\"/><circle cx=\"81\" cy=\"132\" r=\"13\" fill=\"rgb(255,255,255)\" class=\"agent_1_7\"/><circle cx=\"349\" cy=\"210\" r=\"8\" fill=\"rgb(255,255,255)\" class=\"agent_1_29\"/><circle cx=\"272\" cy=\"379\" r=\"7\" fill=\"rgb(255,255,255)\" class=\"agent_1_39\"/><circle cx=\"313\" cy=\"340\" r=\"12\" fill=\"rgb(255,255,255)\" class=\"agent_1_46\"/><circle cx=\"53\" cy=\"318\" r=\"13\" fill=\"rgb(255,255,255)\" class=\"agent_1_48\"/><circle cx=\"348\" cy=\"66\" r=\"11\" fill=\"rgb(255,0,0)\" class=\"agent_1_68\"/></svg><svg viewBox='0 0 430 430' id=\"svg\" width=\"172\" height=\"172\"><circle cx=\"215\" cy=\"215\" r=\"205\" fill=\"none\" stroke=\"black\" stroke-width=\"2\" stroke-dasharray=\"3,3\"/> <circle cx=\"349\" cy=\"298\" r=\"9\" fill=\"rgb(255,255,255)\" class=\"agent_1_3\"/><circle cx=\"81\" cy=\"132\" r=\"13\" fill=\"rgb(255,255,255)\" class=\"agent_1_7\"/><circle cx=\"349\" cy=\"210\" r=\"8\" fill=\"rgb(255,255,255)\" class=\"agent_1_29\"/><circle cx=\"272\" cy=\"379\" r=\"7\" fill=\"rgb(255,255,255)\" class=\"agent_1_39\"/><circle cx=\"313\" cy=\"340\" r=\"12\" fill=\"rgb(255,255,255)\" class=\"agent_1_46\"/><circle cx=\"53\" cy=\"318\" r=\"13\" fill=\"rgb(255,255,255)\" class=\"agent_1_48\"/><circle cx=\"348\" cy=\"66\" r=\"11\" fill=\"rgb(255,255,255)\" class=\"agent_1_68\"/></svg><svg viewBox='0 0 430 430' id=\"svg\" width=\"172\" height=\"172\"><circle cx=\"215\" cy=\"215\" r=\"205\" fill=\"none\" stroke=\"black\" stroke-width=\"2\" stroke-dasharray=\"3,3\"/> <circle cx=\"349\" cy=\"298\" r=\"9\" fill=\"rgb(255,255,255)\" class=\"agent_1_3\"/><circle cx=\"81\" cy=\"132\" r=\"13\" fill=\"rgb(255,255,255)\" class=\"agent_1_7\"/><circle cx=\"349\" cy=\"210\" r=\"8\" fill=\"rgb(255,255,255)\" class=\"agent_1_29\"/><circle cx=\"272\" cy=\"379\" r=\"7\" fill=\"rgb(255,0,0)\" class=\"agent_1_39\"/><circle cx=\"313\" cy=\"340\" r=\"12\" fill=\"rgb(255,255,255)\" class=\"agent_1_46\"/><circle cx=\"53\" cy=\"318\" r=\"13\" fill=\"rgb(255,255,255)\" class=\"agent_1_48\"/><circle cx=\"348\" cy=\"66\" r=\"11\" fill=\"rgb(255,255,255)\" class=\"agent_1_68\"/></svg></div>"
      ],
      "text/plain": [
       "<IPython.core.display.HTML object>"
      ]
     },
     "metadata": {},
     "output_type": "display_data"
    },
    {
     "name": "stdout",
     "output_type": "stream",
     "text": [
      "\n",
      "----------------------------------------\n",
      "\n",
      "to_mention_true\n"
     ]
    },
    {
     "data": {
      "text/html": [
       "<div style=\"white-space: nowrap\"><svg viewbox='0 0 430 430' width=\"172\" height=\"172\" id=\"agent_1\"><circle cx=\"215\" cy=\"215\" r=\"205\" fill=\"none\" stroke=\"black\" stroke-width=\"2\" stroke-dasharray=\"3,3\"/><circle cx=\"349\" cy=\"298\" r=\"9\" fill=\"rgb(85,85,85)\"/><circle cx=\"81\" cy=\"132\" r=\"13\" fill=\"rgb(58,58,58)\"/><circle cx=\"349\" cy=\"210\" r=\"8\" fill=\"rgb(106,106,106)\"/><circle cx=\"272\" cy=\"379\" r=\"7\" fill=\"rgb(171,171,171)\"/><circle cx=\"313\" cy=\"340\" r=\"12\" fill=\"rgb(106,106,106)\"/><circle cx=\"53\" cy=\"318\" r=\"13\" fill=\"rgb(144,144,144)\"/><circle cx=\"348\" cy=\"66\" r=\"11\" fill=\"rgb(156,156,156)\"/></svg><svg viewBox='0 0 430 430' id=\"svg\" width=\"172\" height=\"172\"><circle cx=\"215\" cy=\"215\" r=\"205\" fill=\"none\" stroke=\"black\" stroke-width=\"2\" stroke-dasharray=\"3,3\"/> <circle cx=\"349\" cy=\"298\" r=\"9\" fill=\"rgb(255,255,255)\" class=\"agent_1_3\"/><circle cx=\"81\" cy=\"132\" r=\"13\" fill=\"rgb(255,255,255)\" class=\"agent_1_7\"/><circle cx=\"349\" cy=\"210\" r=\"8\" fill=\"rgb(255,255,255)\" class=\"agent_1_29\"/><circle cx=\"272\" cy=\"379\" r=\"7\" fill=\"rgb(255,0,0)\" class=\"agent_1_39\"/><circle cx=\"313\" cy=\"340\" r=\"12\" fill=\"rgb(255,255,255)\" class=\"agent_1_46\"/><circle cx=\"53\" cy=\"318\" r=\"13\" fill=\"rgb(255,255,255)\" class=\"agent_1_48\"/><circle cx=\"348\" cy=\"66\" r=\"11\" fill=\"rgb(255,255,255)\" class=\"agent_1_68\"/></svg><svg viewBox='0 0 430 430' id=\"svg\" width=\"172\" height=\"172\"><circle cx=\"215\" cy=\"215\" r=\"205\" fill=\"none\" stroke=\"black\" stroke-width=\"2\" stroke-dasharray=\"3,3\"/> <circle cx=\"349\" cy=\"298\" r=\"9\" fill=\"rgb(255,0,0)\" class=\"agent_1_3\"/><circle cx=\"81\" cy=\"132\" r=\"13\" fill=\"rgb(255,255,255)\" class=\"agent_1_7\"/><circle cx=\"349\" cy=\"210\" r=\"8\" fill=\"rgb(255,255,255)\" class=\"agent_1_29\"/><circle cx=\"272\" cy=\"379\" r=\"7\" fill=\"rgb(255,0,0)\" class=\"agent_1_39\"/><circle cx=\"313\" cy=\"340\" r=\"12\" fill=\"rgb(255,0,0)\" class=\"agent_1_46\"/><circle cx=\"53\" cy=\"318\" r=\"13\" fill=\"rgb(255,255,255)\" class=\"agent_1_48\"/><circle cx=\"348\" cy=\"66\" r=\"11\" fill=\"rgb(255,255,255)\" class=\"agent_1_68\"/></svg><svg viewBox='0 0 430 430' id=\"svg\" width=\"172\" height=\"172\"><circle cx=\"215\" cy=\"215\" r=\"205\" fill=\"none\" stroke=\"black\" stroke-width=\"2\" stroke-dasharray=\"3,3\"/> <circle cx=\"349\" cy=\"298\" r=\"9\" fill=\"rgb(255,255,255)\" class=\"agent_1_3\"/><circle cx=\"81\" cy=\"132\" r=\"13\" fill=\"rgb(255,255,255)\" class=\"agent_1_7\"/><circle cx=\"349\" cy=\"210\" r=\"8\" fill=\"rgb(255,255,255)\" class=\"agent_1_29\"/><circle cx=\"272\" cy=\"379\" r=\"7\" fill=\"rgb(255,255,255)\" class=\"agent_1_39\"/><circle cx=\"313\" cy=\"340\" r=\"12\" fill=\"rgb(255,0,0)\" class=\"agent_1_46\"/><circle cx=\"53\" cy=\"318\" r=\"13\" fill=\"rgb(255,255,255)\" class=\"agent_1_48\"/><circle cx=\"348\" cy=\"66\" r=\"11\" fill=\"rgb(255,255,255)\" class=\"agent_1_68\"/></svg><svg viewBox='0 0 430 430' id=\"svg\" width=\"172\" height=\"172\"><circle cx=\"215\" cy=\"215\" r=\"205\" fill=\"none\" stroke=\"black\" stroke-width=\"2\" stroke-dasharray=\"3,3\"/> <circle cx=\"349\" cy=\"298\" r=\"9\" fill=\"rgb(255,255,255)\" class=\"agent_1_3\"/><circle cx=\"81\" cy=\"132\" r=\"13\" fill=\"rgb(255,255,255)\" class=\"agent_1_7\"/><circle cx=\"349\" cy=\"210\" r=\"8\" fill=\"rgb(255,255,255)\" class=\"agent_1_29\"/><circle cx=\"272\" cy=\"379\" r=\"7\" fill=\"rgb(255,255,255)\" class=\"agent_1_39\"/><circle cx=\"313\" cy=\"340\" r=\"12\" fill=\"rgb(255,0,0)\" class=\"agent_1_46\"/><circle cx=\"53\" cy=\"318\" r=\"13\" fill=\"rgb(255,255,255)\" class=\"agent_1_48\"/><circle cx=\"348\" cy=\"66\" r=\"11\" fill=\"rgb(255,255,255)\" class=\"agent_1_68\"/></svg><svg viewBox='0 0 430 430' id=\"svg\" width=\"172\" height=\"172\"><circle cx=\"215\" cy=\"215\" r=\"205\" fill=\"none\" stroke=\"black\" stroke-width=\"2\" stroke-dasharray=\"3,3\"/> <circle cx=\"349\" cy=\"298\" r=\"9\" fill=\"rgb(255,0,0)\" class=\"agent_1_3\"/><circle cx=\"81\" cy=\"132\" r=\"13\" fill=\"rgb(255,255,255)\" class=\"agent_1_7\"/><circle cx=\"349\" cy=\"210\" r=\"8\" fill=\"rgb(255,255,255)\" class=\"agent_1_29\"/><circle cx=\"272\" cy=\"379\" r=\"7\" fill=\"rgb(255,255,255)\" class=\"agent_1_39\"/><circle cx=\"313\" cy=\"340\" r=\"12\" fill=\"rgb(255,255,255)\" class=\"agent_1_46\"/><circle cx=\"53\" cy=\"318\" r=\"13\" fill=\"rgb(255,255,255)\" class=\"agent_1_48\"/><circle cx=\"348\" cy=\"66\" r=\"11\" fill=\"rgb(255,255,255)\" class=\"agent_1_68\"/></svg></div>"
      ],
      "text/plain": [
       "<IPython.core.display.HTML object>"
      ]
     },
     "metadata": {},
     "output_type": "display_data"
    },
    {
     "name": "stdout",
     "output_type": "stream",
     "text": [
      "to_mention_pred\n"
     ]
    },
    {
     "data": {
      "text/html": [
       "<div style=\"white-space: nowrap\"><svg viewbox='0 0 430 430' width=\"172\" height=\"172\" id=\"agent_1\"><circle cx=\"215\" cy=\"215\" r=\"205\" fill=\"none\" stroke=\"black\" stroke-width=\"2\" stroke-dasharray=\"3,3\"/><circle cx=\"349\" cy=\"298\" r=\"9\" fill=\"rgb(85,85,85)\"/><circle cx=\"81\" cy=\"132\" r=\"13\" fill=\"rgb(58,58,58)\"/><circle cx=\"349\" cy=\"210\" r=\"8\" fill=\"rgb(106,106,106)\"/><circle cx=\"272\" cy=\"379\" r=\"7\" fill=\"rgb(171,171,171)\"/><circle cx=\"313\" cy=\"340\" r=\"12\" fill=\"rgb(106,106,106)\"/><circle cx=\"53\" cy=\"318\" r=\"13\" fill=\"rgb(144,144,144)\"/><circle cx=\"348\" cy=\"66\" r=\"11\" fill=\"rgb(156,156,156)\"/></svg><svg viewBox='0 0 430 430' id=\"svg\" width=\"172\" height=\"172\"><circle cx=\"215\" cy=\"215\" r=\"205\" fill=\"none\" stroke=\"black\" stroke-width=\"2\" stroke-dasharray=\"3,3\"/> <circle cx=\"349\" cy=\"298\" r=\"9\" fill=\"rgb(255,255,255)\" class=\"agent_1_3\"/><circle cx=\"81\" cy=\"132\" r=\"13\" fill=\"rgb(255,255,255)\" class=\"agent_1_7\"/><circle cx=\"349\" cy=\"210\" r=\"8\" fill=\"rgb(255,255,255)\" class=\"agent_1_29\"/><circle cx=\"272\" cy=\"379\" r=\"7\" fill=\"rgb(255,0,0)\" class=\"agent_1_39\"/><circle cx=\"313\" cy=\"340\" r=\"12\" fill=\"rgb(255,255,255)\" class=\"agent_1_46\"/><circle cx=\"53\" cy=\"318\" r=\"13\" fill=\"rgb(255,255,255)\" class=\"agent_1_48\"/><circle cx=\"348\" cy=\"66\" r=\"11\" fill=\"rgb(255,255,255)\" class=\"agent_1_68\"/></svg><svg viewBox='0 0 430 430' id=\"svg\" width=\"172\" height=\"172\"><circle cx=\"215\" cy=\"215\" r=\"205\" fill=\"none\" stroke=\"black\" stroke-width=\"2\" stroke-dasharray=\"3,3\"/> <circle cx=\"349\" cy=\"298\" r=\"9\" fill=\"rgb(255,255,255)\" class=\"agent_1_3\"/><circle cx=\"81\" cy=\"132\" r=\"13\" fill=\"rgb(255,255,255)\" class=\"agent_1_7\"/><circle cx=\"349\" cy=\"210\" r=\"8\" fill=\"rgb(255,255,255)\" class=\"agent_1_29\"/><circle cx=\"272\" cy=\"379\" r=\"7\" fill=\"rgb(255,255,255)\" class=\"agent_1_39\"/><circle cx=\"313\" cy=\"340\" r=\"12\" fill=\"rgb(255,0,0)\" class=\"agent_1_46\"/><circle cx=\"53\" cy=\"318\" r=\"13\" fill=\"rgb(255,255,255)\" class=\"agent_1_48\"/><circle cx=\"348\" cy=\"66\" r=\"11\" fill=\"rgb(255,255,255)\" class=\"agent_1_68\"/></svg><svg viewBox='0 0 430 430' id=\"svg\" width=\"172\" height=\"172\"><circle cx=\"215\" cy=\"215\" r=\"205\" fill=\"none\" stroke=\"black\" stroke-width=\"2\" stroke-dasharray=\"3,3\"/> <circle cx=\"349\" cy=\"298\" r=\"9\" fill=\"rgb(255,255,255)\" class=\"agent_1_3\"/><circle cx=\"81\" cy=\"132\" r=\"13\" fill=\"rgb(255,255,255)\" class=\"agent_1_7\"/><circle cx=\"349\" cy=\"210\" r=\"8\" fill=\"rgb(255,255,255)\" class=\"agent_1_29\"/><circle cx=\"272\" cy=\"379\" r=\"7\" fill=\"rgb(255,0,0)\" class=\"agent_1_39\"/><circle cx=\"313\" cy=\"340\" r=\"12\" fill=\"rgb(255,255,255)\" class=\"agent_1_46\"/><circle cx=\"53\" cy=\"318\" r=\"13\" fill=\"rgb(255,255,255)\" class=\"agent_1_48\"/><circle cx=\"348\" cy=\"66\" r=\"11\" fill=\"rgb(255,255,255)\" class=\"agent_1_68\"/></svg><svg viewBox='0 0 430 430' id=\"svg\" width=\"172\" height=\"172\"><circle cx=\"215\" cy=\"215\" r=\"205\" fill=\"none\" stroke=\"black\" stroke-width=\"2\" stroke-dasharray=\"3,3\"/> <circle cx=\"349\" cy=\"298\" r=\"9\" fill=\"rgb(255,255,255)\" class=\"agent_1_3\"/><circle cx=\"81\" cy=\"132\" r=\"13\" fill=\"rgb(255,255,255)\" class=\"agent_1_7\"/><circle cx=\"349\" cy=\"210\" r=\"8\" fill=\"rgb(255,255,255)\" class=\"agent_1_29\"/><circle cx=\"272\" cy=\"379\" r=\"7\" fill=\"rgb(255,255,255)\" class=\"agent_1_39\"/><circle cx=\"313\" cy=\"340\" r=\"12\" fill=\"rgb(255,0,0)\" class=\"agent_1_46\"/><circle cx=\"53\" cy=\"318\" r=\"13\" fill=\"rgb(255,255,255)\" class=\"agent_1_48\"/><circle cx=\"348\" cy=\"66\" r=\"11\" fill=\"rgb(255,255,255)\" class=\"agent_1_68\"/></svg><svg viewBox='0 0 430 430' id=\"svg\" width=\"172\" height=\"172\"><circle cx=\"215\" cy=\"215\" r=\"205\" fill=\"none\" stroke=\"black\" stroke-width=\"2\" stroke-dasharray=\"3,3\"/> <circle cx=\"349\" cy=\"298\" r=\"9\" fill=\"rgb(255,255,255)\" class=\"agent_1_3\"/><circle cx=\"81\" cy=\"132\" r=\"13\" fill=\"rgb(255,255,255)\" class=\"agent_1_7\"/><circle cx=\"349\" cy=\"210\" r=\"8\" fill=\"rgb(255,255,255)\" class=\"agent_1_29\"/><circle cx=\"272\" cy=\"379\" r=\"7\" fill=\"rgb(255,0,0)\" class=\"agent_1_39\"/><circle cx=\"313\" cy=\"340\" r=\"12\" fill=\"rgb(255,255,255)\" class=\"agent_1_46\"/><circle cx=\"53\" cy=\"318\" r=\"13\" fill=\"rgb(255,255,255)\" class=\"agent_1_48\"/><circle cx=\"348\" cy=\"66\" r=\"11\" fill=\"rgb(255,255,255)\" class=\"agent_1_68\"/></svg></div>"
      ],
      "text/plain": [
       "<IPython.core.display.HTML object>"
      ]
     },
     "metadata": {},
     "output_type": "display_data"
    },
    {
     "name": "stdout",
     "output_type": "stream",
     "text": [
      "sample 0\ti have a small light grey dot , with a larger black dot to the right of it . are they close together ? <eos>\n",
      "sample 1\ti have a tiny light grey dot . above and to the right of it is a large black dot . is there a large black dot to the left and slightly above the large light dot ? <eos>\n",
      "sample 2\ti have a tiny light grey dot , and to the left of it is a large dark grey dot . i do n't see that . i see a cluster of 3 dots that form a triangle . the top one is the smallest and darkest . <eos>\n",
      "sample 3\ti have a small light grey dot , with a medium sized dark grey dot to its right , and a smaller black dot to the right of it . <eos>\n",
      "sample 4\ti have one small light grey dot , it is to the left of a larger black dot . i have a cluster of three dots that form a triangle . the top right is the largest and darkest . <eos>\n",
      "sample 5\ti have a tiny light grey dot with a large black dot to the right of it . i have a cluster of three dots that form a triangle . the top left is the largest and darkest <eos>\n",
      "sample 6\ti have a small light grey dot , and to the left of it is a large black dot . is the black dot is large and lighter than the small dot <eos>\n",
      "sample 7\ti have a tiny light grey dot , and to the right of it is a large black dot . i do n't have that one . do you have a small light grey dot <eos>\n",
      "sample 8\ti see one small light grey dot , and below it to the right is a larger dark grey dot . i do n't see that . <eos>\n",
      "sample 9\ti have a tiny light grey dot with a larger black dot to the left of it . i do have that one . the dark grey one is on the right ? <eos>\n",
      "argmax\ti have a small light grey dot , and to the right of it is a large dark dot . i do n't see that . <eos>\n",
      "human\ti do too ... is it at the bottom of a diagonal line with a medium grey , medium sized dot and a smaller dark grey dot ? <eos>\n",
      "refs_true\n"
     ]
    },
    {
     "data": {
      "text/html": [
       "<div style=\"white-space: nowrap\"><svg viewbox='0 0 430 430' width=\"172\" height=\"172\" id=\"agent_1\"><circle cx=\"215\" cy=\"215\" r=\"205\" fill=\"none\" stroke=\"black\" stroke-width=\"2\" stroke-dasharray=\"3,3\"/><circle cx=\"349\" cy=\"298\" r=\"9\" fill=\"rgb(85,85,85)\"/><circle cx=\"81\" cy=\"132\" r=\"13\" fill=\"rgb(58,58,58)\"/><circle cx=\"349\" cy=\"210\" r=\"8\" fill=\"rgb(106,106,106)\"/><circle cx=\"272\" cy=\"379\" r=\"7\" fill=\"rgb(171,171,171)\"/><circle cx=\"313\" cy=\"340\" r=\"12\" fill=\"rgb(106,106,106)\"/><circle cx=\"53\" cy=\"318\" r=\"13\" fill=\"rgb(144,144,144)\"/><circle cx=\"348\" cy=\"66\" r=\"11\" fill=\"rgb(156,156,156)\"/></svg><svg viewBox='0 0 430 430' id=\"svg\" width=\"172\" height=\"172\"><circle cx=\"215\" cy=\"215\" r=\"205\" fill=\"none\" stroke=\"black\" stroke-width=\"2\" stroke-dasharray=\"3,3\"/> <circle cx=\"349\" cy=\"298\" r=\"9\" fill=\"rgb(255,255,255)\" class=\"agent_1_3\"/><circle cx=\"81\" cy=\"132\" r=\"13\" fill=\"rgb(255,255,255)\" class=\"agent_1_7\"/><circle cx=\"349\" cy=\"210\" r=\"8\" fill=\"rgb(255,255,255)\" class=\"agent_1_29\"/><circle cx=\"272\" cy=\"379\" r=\"7\" fill=\"rgb(255,0,0)\" class=\"agent_1_39\"/><circle cx=\"313\" cy=\"340\" r=\"12\" fill=\"rgb(255,255,255)\" class=\"agent_1_46\"/><circle cx=\"53\" cy=\"318\" r=\"13\" fill=\"rgb(255,255,255)\" class=\"agent_1_48\"/><circle cx=\"348\" cy=\"66\" r=\"11\" fill=\"rgb(255,255,255)\" class=\"agent_1_68\"/></svg><svg viewBox='0 0 430 430' id=\"svg\" width=\"172\" height=\"172\"><circle cx=\"215\" cy=\"215\" r=\"205\" fill=\"none\" stroke=\"black\" stroke-width=\"2\" stroke-dasharray=\"3,3\"/> <circle cx=\"349\" cy=\"298\" r=\"9\" fill=\"rgb(255,0,0)\" class=\"agent_1_3\"/><circle cx=\"81\" cy=\"132\" r=\"13\" fill=\"rgb(255,255,255)\" class=\"agent_1_7\"/><circle cx=\"349\" cy=\"210\" r=\"8\" fill=\"rgb(255,255,255)\" class=\"agent_1_29\"/><circle cx=\"272\" cy=\"379\" r=\"7\" fill=\"rgb(255,0,0)\" class=\"agent_1_39\"/><circle cx=\"313\" cy=\"340\" r=\"12\" fill=\"rgb(255,0,0)\" class=\"agent_1_46\"/><circle cx=\"53\" cy=\"318\" r=\"13\" fill=\"rgb(255,255,255)\" class=\"agent_1_48\"/><circle cx=\"348\" cy=\"66\" r=\"11\" fill=\"rgb(255,255,255)\" class=\"agent_1_68\"/></svg><svg viewBox='0 0 430 430' id=\"svg\" width=\"172\" height=\"172\"><circle cx=\"215\" cy=\"215\" r=\"205\" fill=\"none\" stroke=\"black\" stroke-width=\"2\" stroke-dasharray=\"3,3\"/> <circle cx=\"349\" cy=\"298\" r=\"9\" fill=\"rgb(255,255,255)\" class=\"agent_1_3\"/><circle cx=\"81\" cy=\"132\" r=\"13\" fill=\"rgb(255,255,255)\" class=\"agent_1_7\"/><circle cx=\"349\" cy=\"210\" r=\"8\" fill=\"rgb(255,255,255)\" class=\"agent_1_29\"/><circle cx=\"272\" cy=\"379\" r=\"7\" fill=\"rgb(255,255,255)\" class=\"agent_1_39\"/><circle cx=\"313\" cy=\"340\" r=\"12\" fill=\"rgb(255,0,0)\" class=\"agent_1_46\"/><circle cx=\"53\" cy=\"318\" r=\"13\" fill=\"rgb(255,255,255)\" class=\"agent_1_48\"/><circle cx=\"348\" cy=\"66\" r=\"11\" fill=\"rgb(255,255,255)\" class=\"agent_1_68\"/></svg><svg viewBox='0 0 430 430' id=\"svg\" width=\"172\" height=\"172\"><circle cx=\"215\" cy=\"215\" r=\"205\" fill=\"none\" stroke=\"black\" stroke-width=\"2\" stroke-dasharray=\"3,3\"/> <circle cx=\"349\" cy=\"298\" r=\"9\" fill=\"rgb(255,255,255)\" class=\"agent_1_3\"/><circle cx=\"81\" cy=\"132\" r=\"13\" fill=\"rgb(255,255,255)\" class=\"agent_1_7\"/><circle cx=\"349\" cy=\"210\" r=\"8\" fill=\"rgb(255,255,255)\" class=\"agent_1_29\"/><circle cx=\"272\" cy=\"379\" r=\"7\" fill=\"rgb(255,255,255)\" class=\"agent_1_39\"/><circle cx=\"313\" cy=\"340\" r=\"12\" fill=\"rgb(255,0,0)\" class=\"agent_1_46\"/><circle cx=\"53\" cy=\"318\" r=\"13\" fill=\"rgb(255,255,255)\" class=\"agent_1_48\"/><circle cx=\"348\" cy=\"66\" r=\"11\" fill=\"rgb(255,255,255)\" class=\"agent_1_68\"/></svg><svg viewBox='0 0 430 430' id=\"svg\" width=\"172\" height=\"172\"><circle cx=\"215\" cy=\"215\" r=\"205\" fill=\"none\" stroke=\"black\" stroke-width=\"2\" stroke-dasharray=\"3,3\"/> <circle cx=\"349\" cy=\"298\" r=\"9\" fill=\"rgb(255,0,0)\" class=\"agent_1_3\"/><circle cx=\"81\" cy=\"132\" r=\"13\" fill=\"rgb(255,255,255)\" class=\"agent_1_7\"/><circle cx=\"349\" cy=\"210\" r=\"8\" fill=\"rgb(255,255,255)\" class=\"agent_1_29\"/><circle cx=\"272\" cy=\"379\" r=\"7\" fill=\"rgb(255,255,255)\" class=\"agent_1_39\"/><circle cx=\"313\" cy=\"340\" r=\"12\" fill=\"rgb(255,255,255)\" class=\"agent_1_46\"/><circle cx=\"53\" cy=\"318\" r=\"13\" fill=\"rgb(255,255,255)\" class=\"agent_1_48\"/><circle cx=\"348\" cy=\"66\" r=\"11\" fill=\"rgb(255,255,255)\" class=\"agent_1_68\"/></svg></div>"
      ],
      "text/plain": [
       "<IPython.core.display.HTML object>"
      ]
     },
     "metadata": {},
     "output_type": "display_data"
    },
    {
     "name": "stdout",
     "output_type": "stream",
     "text": [
      "refs_pred\n"
     ]
    },
    {
     "data": {
      "text/html": [
       "<div style=\"white-space: nowrap\"><svg viewbox='0 0 430 430' width=\"172\" height=\"172\" id=\"agent_1\"><circle cx=\"215\" cy=\"215\" r=\"205\" fill=\"none\" stroke=\"black\" stroke-width=\"2\" stroke-dasharray=\"3,3\"/><circle cx=\"349\" cy=\"298\" r=\"9\" fill=\"rgb(85,85,85)\"/><circle cx=\"81\" cy=\"132\" r=\"13\" fill=\"rgb(58,58,58)\"/><circle cx=\"349\" cy=\"210\" r=\"8\" fill=\"rgb(106,106,106)\"/><circle cx=\"272\" cy=\"379\" r=\"7\" fill=\"rgb(171,171,171)\"/><circle cx=\"313\" cy=\"340\" r=\"12\" fill=\"rgb(106,106,106)\"/><circle cx=\"53\" cy=\"318\" r=\"13\" fill=\"rgb(144,144,144)\"/><circle cx=\"348\" cy=\"66\" r=\"11\" fill=\"rgb(156,156,156)\"/></svg><svg viewBox='0 0 430 430' id=\"svg\" width=\"172\" height=\"172\"><circle cx=\"215\" cy=\"215\" r=\"205\" fill=\"none\" stroke=\"black\" stroke-width=\"2\" stroke-dasharray=\"3,3\"/> <circle cx=\"349\" cy=\"298\" r=\"9\" fill=\"rgb(255,255,255)\" class=\"agent_1_3\"/><circle cx=\"81\" cy=\"132\" r=\"13\" fill=\"rgb(255,255,255)\" class=\"agent_1_7\"/><circle cx=\"349\" cy=\"210\" r=\"8\" fill=\"rgb(255,255,255)\" class=\"agent_1_29\"/><circle cx=\"272\" cy=\"379\" r=\"7\" fill=\"rgb(255,0,0)\" class=\"agent_1_39\"/><circle cx=\"313\" cy=\"340\" r=\"12\" fill=\"rgb(255,255,255)\" class=\"agent_1_46\"/><circle cx=\"53\" cy=\"318\" r=\"13\" fill=\"rgb(255,255,255)\" class=\"agent_1_48\"/><circle cx=\"348\" cy=\"66\" r=\"11\" fill=\"rgb(255,255,255)\" class=\"agent_1_68\"/></svg><svg viewBox='0 0 430 430' id=\"svg\" width=\"172\" height=\"172\"><circle cx=\"215\" cy=\"215\" r=\"205\" fill=\"none\" stroke=\"black\" stroke-width=\"2\" stroke-dasharray=\"3,3\"/> <circle cx=\"349\" cy=\"298\" r=\"9\" fill=\"rgb(255,0,0)\" class=\"agent_1_3\"/><circle cx=\"81\" cy=\"132\" r=\"13\" fill=\"rgb(255,255,255)\" class=\"agent_1_7\"/><circle cx=\"349\" cy=\"210\" r=\"8\" fill=\"rgb(255,255,255)\" class=\"agent_1_29\"/><circle cx=\"272\" cy=\"379\" r=\"7\" fill=\"rgb(255,0,0)\" class=\"agent_1_39\"/><circle cx=\"313\" cy=\"340\" r=\"12\" fill=\"rgb(255,0,0)\" class=\"agent_1_46\"/><circle cx=\"53\" cy=\"318\" r=\"13\" fill=\"rgb(255,255,255)\" class=\"agent_1_48\"/><circle cx=\"348\" cy=\"66\" r=\"11\" fill=\"rgb(255,255,255)\" class=\"agent_1_68\"/></svg><svg viewBox='0 0 430 430' id=\"svg\" width=\"172\" height=\"172\"><circle cx=\"215\" cy=\"215\" r=\"205\" fill=\"none\" stroke=\"black\" stroke-width=\"2\" stroke-dasharray=\"3,3\"/> <circle cx=\"349\" cy=\"298\" r=\"9\" fill=\"rgb(255,255,255)\" class=\"agent_1_3\"/><circle cx=\"81\" cy=\"132\" r=\"13\" fill=\"rgb(255,255,255)\" class=\"agent_1_7\"/><circle cx=\"349\" cy=\"210\" r=\"8\" fill=\"rgb(255,255,255)\" class=\"agent_1_29\"/><circle cx=\"272\" cy=\"379\" r=\"7\" fill=\"rgb(255,255,255)\" class=\"agent_1_39\"/><circle cx=\"313\" cy=\"340\" r=\"12\" fill=\"rgb(255,0,0)\" class=\"agent_1_46\"/><circle cx=\"53\" cy=\"318\" r=\"13\" fill=\"rgb(255,255,255)\" class=\"agent_1_48\"/><circle cx=\"348\" cy=\"66\" r=\"11\" fill=\"rgb(255,255,255)\" class=\"agent_1_68\"/></svg><svg viewBox='0 0 430 430' id=\"svg\" width=\"172\" height=\"172\"><circle cx=\"215\" cy=\"215\" r=\"205\" fill=\"none\" stroke=\"black\" stroke-width=\"2\" stroke-dasharray=\"3,3\"/> <circle cx=\"349\" cy=\"298\" r=\"9\" fill=\"rgb(255,255,255)\" class=\"agent_1_3\"/><circle cx=\"81\" cy=\"132\" r=\"13\" fill=\"rgb(255,255,255)\" class=\"agent_1_7\"/><circle cx=\"349\" cy=\"210\" r=\"8\" fill=\"rgb(255,255,255)\" class=\"agent_1_29\"/><circle cx=\"272\" cy=\"379\" r=\"7\" fill=\"rgb(255,255,255)\" class=\"agent_1_39\"/><circle cx=\"313\" cy=\"340\" r=\"12\" fill=\"rgb(255,0,0)\" class=\"agent_1_46\"/><circle cx=\"53\" cy=\"318\" r=\"13\" fill=\"rgb(255,255,255)\" class=\"agent_1_48\"/><circle cx=\"348\" cy=\"66\" r=\"11\" fill=\"rgb(255,255,255)\" class=\"agent_1_68\"/></svg><svg viewBox='0 0 430 430' id=\"svg\" width=\"172\" height=\"172\"><circle cx=\"215\" cy=\"215\" r=\"205\" fill=\"none\" stroke=\"black\" stroke-width=\"2\" stroke-dasharray=\"3,3\"/> <circle cx=\"349\" cy=\"298\" r=\"9\" fill=\"rgb(255,0,0)\" class=\"agent_1_3\"/><circle cx=\"81\" cy=\"132\" r=\"13\" fill=\"rgb(255,255,255)\" class=\"agent_1_7\"/><circle cx=\"349\" cy=\"210\" r=\"8\" fill=\"rgb(255,255,255)\" class=\"agent_1_29\"/><circle cx=\"272\" cy=\"379\" r=\"7\" fill=\"rgb(255,255,255)\" class=\"agent_1_39\"/><circle cx=\"313\" cy=\"340\" r=\"12\" fill=\"rgb(255,255,255)\" class=\"agent_1_46\"/><circle cx=\"53\" cy=\"318\" r=\"13\" fill=\"rgb(255,255,255)\" class=\"agent_1_48\"/><circle cx=\"348\" cy=\"66\" r=\"11\" fill=\"rgb(255,255,255)\" class=\"agent_1_68\"/></svg></div>"
      ],
      "text/plain": [
       "<IPython.core.display.HTML object>"
      ]
     },
     "metadata": {},
     "output_type": "display_data"
    },
    {
     "name": "stdout",
     "output_type": "stream",
     "text": [
      "\n",
      "----------------------------------------\n",
      "\n",
      "human\tTHEM: yes <eos>\n",
      "\n",
      "----------------------------------------\n",
      "\n",
      "to_mention_true\n"
     ]
    },
    {
     "data": {
      "text/html": [
       "<div style=\"white-space: nowrap\"><svg viewbox='0 0 430 430' width=\"172\" height=\"172\" id=\"agent_1\"><circle cx=\"215\" cy=\"215\" r=\"205\" fill=\"none\" stroke=\"black\" stroke-width=\"2\" stroke-dasharray=\"3,3\"/><circle cx=\"349\" cy=\"298\" r=\"9\" fill=\"rgb(85,85,85)\"/><circle cx=\"81\" cy=\"132\" r=\"13\" fill=\"rgb(58,58,58)\"/><circle cx=\"349\" cy=\"210\" r=\"8\" fill=\"rgb(106,106,106)\"/><circle cx=\"272\" cy=\"379\" r=\"7\" fill=\"rgb(171,171,171)\"/><circle cx=\"313\" cy=\"340\" r=\"12\" fill=\"rgb(106,106,106)\"/><circle cx=\"53\" cy=\"318\" r=\"13\" fill=\"rgb(144,144,144)\"/><circle cx=\"348\" cy=\"66\" r=\"11\" fill=\"rgb(156,156,156)\"/></svg><svg viewBox='0 0 430 430' id=\"svg\" width=\"172\" height=\"172\"><circle cx=\"215\" cy=\"215\" r=\"205\" fill=\"none\" stroke=\"black\" stroke-width=\"2\" stroke-dasharray=\"3,3\"/> <circle cx=\"349\" cy=\"298\" r=\"9\" fill=\"rgb(255,255,255)\" class=\"agent_1_3\"/><circle cx=\"81\" cy=\"132\" r=\"13\" fill=\"rgb(255,255,255)\" class=\"agent_1_7\"/><circle cx=\"349\" cy=\"210\" r=\"8\" fill=\"rgb(255,255,255)\" class=\"agent_1_29\"/><circle cx=\"272\" cy=\"379\" r=\"7\" fill=\"rgb(255,0,0)\" class=\"agent_1_39\"/><circle cx=\"313\" cy=\"340\" r=\"12\" fill=\"rgb(255,255,255)\" class=\"agent_1_46\"/><circle cx=\"53\" cy=\"318\" r=\"13\" fill=\"rgb(255,255,255)\" class=\"agent_1_48\"/><circle cx=\"348\" cy=\"66\" r=\"11\" fill=\"rgb(255,255,255)\" class=\"agent_1_68\"/></svg></div>"
      ],
      "text/plain": [
       "<IPython.core.display.HTML object>"
      ]
     },
     "metadata": {},
     "output_type": "display_data"
    },
    {
     "name": "stdout",
     "output_type": "stream",
     "text": [
      "to_mention_pred\n"
     ]
    },
    {
     "data": {
      "text/html": [
       "<div style=\"white-space: nowrap\"><svg viewbox='0 0 430 430' width=\"172\" height=\"172\" id=\"agent_1\"><circle cx=\"215\" cy=\"215\" r=\"205\" fill=\"none\" stroke=\"black\" stroke-width=\"2\" stroke-dasharray=\"3,3\"/><circle cx=\"349\" cy=\"298\" r=\"9\" fill=\"rgb(85,85,85)\"/><circle cx=\"81\" cy=\"132\" r=\"13\" fill=\"rgb(58,58,58)\"/><circle cx=\"349\" cy=\"210\" r=\"8\" fill=\"rgb(106,106,106)\"/><circle cx=\"272\" cy=\"379\" r=\"7\" fill=\"rgb(171,171,171)\"/><circle cx=\"313\" cy=\"340\" r=\"12\" fill=\"rgb(106,106,106)\"/><circle cx=\"53\" cy=\"318\" r=\"13\" fill=\"rgb(144,144,144)\"/><circle cx=\"348\" cy=\"66\" r=\"11\" fill=\"rgb(156,156,156)\"/></svg><svg viewBox='0 0 430 430' id=\"svg\" width=\"172\" height=\"172\"><circle cx=\"215\" cy=\"215\" r=\"205\" fill=\"none\" stroke=\"black\" stroke-width=\"2\" stroke-dasharray=\"3,3\"/> <circle cx=\"349\" cy=\"298\" r=\"9\" fill=\"rgb(255,255,255)\" class=\"agent_1_3\"/><circle cx=\"81\" cy=\"132\" r=\"13\" fill=\"rgb(255,255,255)\" class=\"agent_1_7\"/><circle cx=\"349\" cy=\"210\" r=\"8\" fill=\"rgb(255,255,255)\" class=\"agent_1_29\"/><circle cx=\"272\" cy=\"379\" r=\"7\" fill=\"rgb(255,0,0)\" class=\"agent_1_39\"/><circle cx=\"313\" cy=\"340\" r=\"12\" fill=\"rgb(255,255,255)\" class=\"agent_1_46\"/><circle cx=\"53\" cy=\"318\" r=\"13\" fill=\"rgb(255,255,255)\" class=\"agent_1_48\"/><circle cx=\"348\" cy=\"66\" r=\"11\" fill=\"rgb(255,255,255)\" class=\"agent_1_68\"/></svg></div>"
      ],
      "text/plain": [
       "<IPython.core.display.HTML object>"
      ]
     },
     "metadata": {},
     "output_type": "display_data"
    },
    {
     "name": "stdout",
     "output_type": "stream",
     "text": [
      "sample 0\tlets pick the tiny light grey dot <eos>\n",
      "sample 1\tok , lets pick the tiny one <selection>\n",
      "sample 2\tlet 's pick the tiny grey one . <selection>\n",
      "sample 3\tlet 's pick the tiny light one <eos>\n",
      "sample 4\tlets pick the tiny dot <selection>\n",
      "sample 5\tok , let 's pick the tiny light grey dot . <eos>\n",
      "sample 6\tlet 's pick the small light one <eos>\n",
      "sample 7\tlets choose the tiny light grey dot <eos>\n",
      "sample 8\tlet 's pick the tiny light grey dot <selection>\n",
      "sample 9\tok , lets click the tiny light grey one <eos>\n",
      "argmax\tok , let 's pick the tiny light grey dot <selection>\n",
      "human\tlet 's click the small light grey one . <eos>\n",
      "refs_true\n"
     ]
    },
    {
     "data": {
      "text/html": [
       "<div style=\"white-space: nowrap\"><svg viewbox='0 0 430 430' width=\"172\" height=\"172\" id=\"agent_1\"><circle cx=\"215\" cy=\"215\" r=\"205\" fill=\"none\" stroke=\"black\" stroke-width=\"2\" stroke-dasharray=\"3,3\"/><circle cx=\"349\" cy=\"298\" r=\"9\" fill=\"rgb(85,85,85)\"/><circle cx=\"81\" cy=\"132\" r=\"13\" fill=\"rgb(58,58,58)\"/><circle cx=\"349\" cy=\"210\" r=\"8\" fill=\"rgb(106,106,106)\"/><circle cx=\"272\" cy=\"379\" r=\"7\" fill=\"rgb(171,171,171)\"/><circle cx=\"313\" cy=\"340\" r=\"12\" fill=\"rgb(106,106,106)\"/><circle cx=\"53\" cy=\"318\" r=\"13\" fill=\"rgb(144,144,144)\"/><circle cx=\"348\" cy=\"66\" r=\"11\" fill=\"rgb(156,156,156)\"/></svg><svg viewBox='0 0 430 430' id=\"svg\" width=\"172\" height=\"172\"><circle cx=\"215\" cy=\"215\" r=\"205\" fill=\"none\" stroke=\"black\" stroke-width=\"2\" stroke-dasharray=\"3,3\"/> <circle cx=\"349\" cy=\"298\" r=\"9\" fill=\"rgb(255,255,255)\" class=\"agent_1_3\"/><circle cx=\"81\" cy=\"132\" r=\"13\" fill=\"rgb(255,255,255)\" class=\"agent_1_7\"/><circle cx=\"349\" cy=\"210\" r=\"8\" fill=\"rgb(255,255,255)\" class=\"agent_1_29\"/><circle cx=\"272\" cy=\"379\" r=\"7\" fill=\"rgb(255,0,0)\" class=\"agent_1_39\"/><circle cx=\"313\" cy=\"340\" r=\"12\" fill=\"rgb(255,255,255)\" class=\"agent_1_46\"/><circle cx=\"53\" cy=\"318\" r=\"13\" fill=\"rgb(255,255,255)\" class=\"agent_1_48\"/><circle cx=\"348\" cy=\"66\" r=\"11\" fill=\"rgb(255,255,255)\" class=\"agent_1_68\"/></svg></div>"
      ],
      "text/plain": [
       "<IPython.core.display.HTML object>"
      ]
     },
     "metadata": {},
     "output_type": "display_data"
    },
    {
     "name": "stdout",
     "output_type": "stream",
     "text": [
      "refs_pred\n"
     ]
    },
    {
     "data": {
      "text/html": [
       "<div style=\"white-space: nowrap\"><svg viewbox='0 0 430 430' width=\"172\" height=\"172\" id=\"agent_1\"><circle cx=\"215\" cy=\"215\" r=\"205\" fill=\"none\" stroke=\"black\" stroke-width=\"2\" stroke-dasharray=\"3,3\"/><circle cx=\"349\" cy=\"298\" r=\"9\" fill=\"rgb(85,85,85)\"/><circle cx=\"81\" cy=\"132\" r=\"13\" fill=\"rgb(58,58,58)\"/><circle cx=\"349\" cy=\"210\" r=\"8\" fill=\"rgb(106,106,106)\"/><circle cx=\"272\" cy=\"379\" r=\"7\" fill=\"rgb(171,171,171)\"/><circle cx=\"313\" cy=\"340\" r=\"12\" fill=\"rgb(106,106,106)\"/><circle cx=\"53\" cy=\"318\" r=\"13\" fill=\"rgb(144,144,144)\"/><circle cx=\"348\" cy=\"66\" r=\"11\" fill=\"rgb(156,156,156)\"/></svg><svg viewBox='0 0 430 430' id=\"svg\" width=\"172\" height=\"172\"><circle cx=\"215\" cy=\"215\" r=\"205\" fill=\"none\" stroke=\"black\" stroke-width=\"2\" stroke-dasharray=\"3,3\"/> <circle cx=\"349\" cy=\"298\" r=\"9\" fill=\"rgb(255,255,255)\" class=\"agent_1_3\"/><circle cx=\"81\" cy=\"132\" r=\"13\" fill=\"rgb(255,255,255)\" class=\"agent_1_7\"/><circle cx=\"349\" cy=\"210\" r=\"8\" fill=\"rgb(255,255,255)\" class=\"agent_1_29\"/><circle cx=\"272\" cy=\"379\" r=\"7\" fill=\"rgb(255,0,0)\" class=\"agent_1_39\"/><circle cx=\"313\" cy=\"340\" r=\"12\" fill=\"rgb(255,255,255)\" class=\"agent_1_46\"/><circle cx=\"53\" cy=\"318\" r=\"13\" fill=\"rgb(255,255,255)\" class=\"agent_1_48\"/><circle cx=\"348\" cy=\"66\" r=\"11\" fill=\"rgb(255,255,255)\" class=\"agent_1_68\"/></svg></div>"
      ],
      "text/plain": [
       "<IPython.core.display.HTML object>"
      ]
     },
     "metadata": {},
     "output_type": "display_data"
    },
    {
     "name": "stdout",
     "output_type": "stream",
     "text": [
      "\n",
      "----------------------------------------\n",
      "\n",
      "human\tTHEM: ok <selection>\n",
      "\n",
      "----------------------------------------\n",
      "\n"
     ]
    }
   ],
   "source": [
    "force_contexts_and_mentions(4)"
   ]
  },
  {
   "cell_type": "code",
   "execution_count": 51,
   "metadata": {
    "scrolled": false
   },
   "outputs": [
    {
     "name": "stdout",
     "output_type": "stream",
     "text": [
      "human\tTHEM: do you have a med/small black one with a larger dark grey right below it ? <eos>\n",
      "partner_refs_true\n"
     ]
    },
    {
     "data": {
      "text/html": [
       "<div style=\"white-space: nowrap\"><svg viewbox='0 0 430 430' width=\"172\" height=\"172\" id=\"agent_0\"><circle cx=\"215\" cy=\"215\" r=\"205\" fill=\"none\" stroke=\"black\" stroke-width=\"2\" stroke-dasharray=\"3,3\"/><circle cx=\"77\" cy=\"184\" r=\"10\" fill=\"rgb(106,106,106)\"/><circle cx=\"137\" cy=\"125\" r=\"12\" fill=\"rgb(113,113,113)\"/><circle cx=\"139\" cy=\"54\" r=\"10\" fill=\"rgb(76,76,76)\"/><circle cx=\"211\" cy=\"194\" r=\"11\" fill=\"rgb(72,72,72)\"/><circle cx=\"296\" cy=\"163\" r=\"10\" fill=\"rgb(183,183,183)\"/><circle cx=\"227\" cy=\"349\" r=\"8\" fill=\"rgb(161,161,161)\"/><circle cx=\"356\" cy=\"148\" r=\"11\" fill=\"rgb(197,197,197)\"/></svg><svg viewBox='0 0 430 430' id=\"svg\" width=\"172\" height=\"172\"><circle cx=\"215\" cy=\"215\" r=\"205\" fill=\"none\" stroke=\"black\" stroke-width=\"2\" stroke-dasharray=\"3,3\"/> <circle cx=\"77\" cy=\"184\" r=\"10\" fill=\"rgb(255,255,255)\" class=\"agent_0_1\"/><circle cx=\"137\" cy=\"125\" r=\"12\" fill=\"rgb(255,255,255)\" class=\"agent_0_5\"/><circle cx=\"139\" cy=\"54\" r=\"10\" fill=\"rgb(255,0,0)\" class=\"agent_0_12\"/><circle cx=\"211\" cy=\"194\" r=\"11\" fill=\"rgb(255,255,255)\" class=\"agent_0_16\"/><circle cx=\"296\" cy=\"163\" r=\"10\" fill=\"rgb(255,255,255)\" class=\"agent_0_33\"/><circle cx=\"227\" cy=\"349\" r=\"8\" fill=\"rgb(255,255,255)\" class=\"agent_0_50\"/><circle cx=\"356\" cy=\"148\" r=\"11\" fill=\"rgb(255,255,255)\" class=\"agent_0_77\"/></svg><svg viewBox='0 0 430 430' id=\"svg\" width=\"172\" height=\"172\"><circle cx=\"215\" cy=\"215\" r=\"205\" fill=\"none\" stroke=\"black\" stroke-width=\"2\" stroke-dasharray=\"3,3\"/> <circle cx=\"77\" cy=\"184\" r=\"10\" fill=\"rgb(255,255,255)\" class=\"agent_0_1\"/><circle cx=\"137\" cy=\"125\" r=\"12\" fill=\"rgb(255,0,0)\" class=\"agent_0_5\"/><circle cx=\"139\" cy=\"54\" r=\"10\" fill=\"rgb(255,255,255)\" class=\"agent_0_12\"/><circle cx=\"211\" cy=\"194\" r=\"11\" fill=\"rgb(255,255,255)\" class=\"agent_0_16\"/><circle cx=\"296\" cy=\"163\" r=\"10\" fill=\"rgb(255,255,255)\" class=\"agent_0_33\"/><circle cx=\"227\" cy=\"349\" r=\"8\" fill=\"rgb(255,255,255)\" class=\"agent_0_50\"/><circle cx=\"356\" cy=\"148\" r=\"11\" fill=\"rgb(255,255,255)\" class=\"agent_0_77\"/></svg><svg viewBox='0 0 430 430' id=\"svg\" width=\"172\" height=\"172\"><circle cx=\"215\" cy=\"215\" r=\"205\" fill=\"none\" stroke=\"black\" stroke-width=\"2\" stroke-dasharray=\"3,3\"/> <circle cx=\"77\" cy=\"184\" r=\"10\" fill=\"rgb(255,255,255)\" class=\"agent_0_1\"/><circle cx=\"137\" cy=\"125\" r=\"12\" fill=\"rgb(255,255,255)\" class=\"agent_0_5\"/><circle cx=\"139\" cy=\"54\" r=\"10\" fill=\"rgb(255,0,0)\" class=\"agent_0_12\"/><circle cx=\"211\" cy=\"194\" r=\"11\" fill=\"rgb(255,255,255)\" class=\"agent_0_16\"/><circle cx=\"296\" cy=\"163\" r=\"10\" fill=\"rgb(255,255,255)\" class=\"agent_0_33\"/><circle cx=\"227\" cy=\"349\" r=\"8\" fill=\"rgb(255,255,255)\" class=\"agent_0_50\"/><circle cx=\"356\" cy=\"148\" r=\"11\" fill=\"rgb(255,255,255)\" class=\"agent_0_77\"/></svg></div>"
      ],
      "text/plain": [
       "<IPython.core.display.HTML object>"
      ]
     },
     "metadata": {},
     "output_type": "display_data"
    },
    {
     "name": "stdout",
     "output_type": "stream",
     "text": [
      "partner_refs_pred\n"
     ]
    },
    {
     "data": {
      "text/html": [
       "<div style=\"white-space: nowrap\"><svg viewbox='0 0 430 430' width=\"172\" height=\"172\" id=\"agent_0\"><circle cx=\"215\" cy=\"215\" r=\"205\" fill=\"none\" stroke=\"black\" stroke-width=\"2\" stroke-dasharray=\"3,3\"/><circle cx=\"77\" cy=\"184\" r=\"10\" fill=\"rgb(106,106,106)\"/><circle cx=\"137\" cy=\"125\" r=\"12\" fill=\"rgb(113,113,113)\"/><circle cx=\"139\" cy=\"54\" r=\"10\" fill=\"rgb(76,76,76)\"/><circle cx=\"211\" cy=\"194\" r=\"11\" fill=\"rgb(72,72,72)\"/><circle cx=\"296\" cy=\"163\" r=\"10\" fill=\"rgb(183,183,183)\"/><circle cx=\"227\" cy=\"349\" r=\"8\" fill=\"rgb(161,161,161)\"/><circle cx=\"356\" cy=\"148\" r=\"11\" fill=\"rgb(197,197,197)\"/></svg><svg viewBox='0 0 430 430' id=\"svg\" width=\"172\" height=\"172\"><circle cx=\"215\" cy=\"215\" r=\"205\" fill=\"none\" stroke=\"black\" stroke-width=\"2\" stroke-dasharray=\"3,3\"/> <circle cx=\"77\" cy=\"184\" r=\"10\" fill=\"rgb(255,255,255)\" class=\"agent_0_1\"/><circle cx=\"137\" cy=\"125\" r=\"12\" fill=\"rgb(255,255,255)\" class=\"agent_0_5\"/><circle cx=\"139\" cy=\"54\" r=\"10\" fill=\"rgb(255,0,0)\" class=\"agent_0_12\"/><circle cx=\"211\" cy=\"194\" r=\"11\" fill=\"rgb(255,255,255)\" class=\"agent_0_16\"/><circle cx=\"296\" cy=\"163\" r=\"10\" fill=\"rgb(255,255,255)\" class=\"agent_0_33\"/><circle cx=\"227\" cy=\"349\" r=\"8\" fill=\"rgb(255,255,255)\" class=\"agent_0_50\"/><circle cx=\"356\" cy=\"148\" r=\"11\" fill=\"rgb(255,255,255)\" class=\"agent_0_77\"/></svg><svg viewBox='0 0 430 430' id=\"svg\" width=\"172\" height=\"172\"><circle cx=\"215\" cy=\"215\" r=\"205\" fill=\"none\" stroke=\"black\" stroke-width=\"2\" stroke-dasharray=\"3,3\"/> <circle cx=\"77\" cy=\"184\" r=\"10\" fill=\"rgb(255,255,255)\" class=\"agent_0_1\"/><circle cx=\"137\" cy=\"125\" r=\"12\" fill=\"rgb(255,0,0)\" class=\"agent_0_5\"/><circle cx=\"139\" cy=\"54\" r=\"10\" fill=\"rgb(255,255,255)\" class=\"agent_0_12\"/><circle cx=\"211\" cy=\"194\" r=\"11\" fill=\"rgb(255,255,255)\" class=\"agent_0_16\"/><circle cx=\"296\" cy=\"163\" r=\"10\" fill=\"rgb(255,255,255)\" class=\"agent_0_33\"/><circle cx=\"227\" cy=\"349\" r=\"8\" fill=\"rgb(255,255,255)\" class=\"agent_0_50\"/><circle cx=\"356\" cy=\"148\" r=\"11\" fill=\"rgb(255,255,255)\" class=\"agent_0_77\"/></svg><svg viewBox='0 0 430 430' id=\"svg\" width=\"172\" height=\"172\"><circle cx=\"215\" cy=\"215\" r=\"205\" fill=\"none\" stroke=\"black\" stroke-width=\"2\" stroke-dasharray=\"3,3\"/> <circle cx=\"77\" cy=\"184\" r=\"10\" fill=\"rgb(255,255,255)\" class=\"agent_0_1\"/><circle cx=\"137\" cy=\"125\" r=\"12\" fill=\"rgb(255,255,255)\" class=\"agent_0_5\"/><circle cx=\"139\" cy=\"54\" r=\"10\" fill=\"rgb(255,0,0)\" class=\"agent_0_12\"/><circle cx=\"211\" cy=\"194\" r=\"11\" fill=\"rgb(255,255,255)\" class=\"agent_0_16\"/><circle cx=\"296\" cy=\"163\" r=\"10\" fill=\"rgb(255,255,255)\" class=\"agent_0_33\"/><circle cx=\"227\" cy=\"349\" r=\"8\" fill=\"rgb(255,255,255)\" class=\"agent_0_50\"/><circle cx=\"356\" cy=\"148\" r=\"11\" fill=\"rgb(255,255,255)\" class=\"agent_0_77\"/></svg></div>"
      ],
      "text/plain": [
       "<IPython.core.display.HTML object>"
      ]
     },
     "metadata": {},
     "output_type": "display_data"
    },
    {
     "name": "stdout",
     "output_type": "stream",
     "text": [
      "\n",
      "----------------------------------------\n",
      "\n",
      "to_mention_true\n"
     ]
    },
    {
     "data": {
      "text/html": [
       "<div style=\"white-space: nowrap\"><svg viewbox='0 0 430 430' width=\"172\" height=\"172\" id=\"agent_0\"><circle cx=\"215\" cy=\"215\" r=\"205\" fill=\"none\" stroke=\"black\" stroke-width=\"2\" stroke-dasharray=\"3,3\"/><circle cx=\"77\" cy=\"184\" r=\"10\" fill=\"rgb(106,106,106)\"/><circle cx=\"137\" cy=\"125\" r=\"12\" fill=\"rgb(113,113,113)\"/><circle cx=\"139\" cy=\"54\" r=\"10\" fill=\"rgb(76,76,76)\"/><circle cx=\"211\" cy=\"194\" r=\"11\" fill=\"rgb(72,72,72)\"/><circle cx=\"296\" cy=\"163\" r=\"10\" fill=\"rgb(183,183,183)\"/><circle cx=\"227\" cy=\"349\" r=\"8\" fill=\"rgb(161,161,161)\"/><circle cx=\"356\" cy=\"148\" r=\"11\" fill=\"rgb(197,197,197)\"/></svg><svg viewBox='0 0 430 430' id=\"svg\" width=\"172\" height=\"172\"><circle cx=\"215\" cy=\"215\" r=\"205\" fill=\"none\" stroke=\"black\" stroke-width=\"2\" stroke-dasharray=\"3,3\"/> <circle cx=\"77\" cy=\"184\" r=\"10\" fill=\"rgb(255,255,255)\" class=\"agent_0_1\"/><circle cx=\"137\" cy=\"125\" r=\"12\" fill=\"rgb(255,255,255)\" class=\"agent_0_5\"/><circle cx=\"139\" cy=\"54\" r=\"10\" fill=\"rgb(255,255,255)\" class=\"agent_0_12\"/><circle cx=\"211\" cy=\"194\" r=\"11\" fill=\"rgb(255,255,255)\" class=\"agent_0_16\"/><circle cx=\"296\" cy=\"163\" r=\"10\" fill=\"rgb(255,0,0)\" class=\"agent_0_33\"/><circle cx=\"227\" cy=\"349\" r=\"8\" fill=\"rgb(255,255,255)\" class=\"agent_0_50\"/><circle cx=\"356\" cy=\"148\" r=\"11\" fill=\"rgb(255,0,0)\" class=\"agent_0_77\"/></svg><svg viewBox='0 0 430 430' id=\"svg\" width=\"172\" height=\"172\"><circle cx=\"215\" cy=\"215\" r=\"205\" fill=\"none\" stroke=\"black\" stroke-width=\"2\" stroke-dasharray=\"3,3\"/> <circle cx=\"77\" cy=\"184\" r=\"10\" fill=\"rgb(255,255,255)\" class=\"agent_0_1\"/><circle cx=\"137\" cy=\"125\" r=\"12\" fill=\"rgb(255,255,255)\" class=\"agent_0_5\"/><circle cx=\"139\" cy=\"54\" r=\"10\" fill=\"rgb(255,255,255)\" class=\"agent_0_12\"/><circle cx=\"211\" cy=\"194\" r=\"11\" fill=\"rgb(255,255,255)\" class=\"agent_0_16\"/><circle cx=\"296\" cy=\"163\" r=\"10\" fill=\"rgb(255,0,0)\" class=\"agent_0_33\"/><circle cx=\"227\" cy=\"349\" r=\"8\" fill=\"rgb(255,255,255)\" class=\"agent_0_50\"/><circle cx=\"356\" cy=\"148\" r=\"11\" fill=\"rgb(255,255,255)\" class=\"agent_0_77\"/></svg></div>"
      ],
      "text/plain": [
       "<IPython.core.display.HTML object>"
      ]
     },
     "metadata": {},
     "output_type": "display_data"
    },
    {
     "name": "stdout",
     "output_type": "stream",
     "text": [
      "to_mention_pred\n"
     ]
    },
    {
     "data": {
      "text/html": [
       "<div style=\"white-space: nowrap\"><svg viewbox='0 0 430 430' width=\"172\" height=\"172\" id=\"agent_0\"><circle cx=\"215\" cy=\"215\" r=\"205\" fill=\"none\" stroke=\"black\" stroke-width=\"2\" stroke-dasharray=\"3,3\"/><circle cx=\"77\" cy=\"184\" r=\"10\" fill=\"rgb(106,106,106)\"/><circle cx=\"137\" cy=\"125\" r=\"12\" fill=\"rgb(113,113,113)\"/><circle cx=\"139\" cy=\"54\" r=\"10\" fill=\"rgb(76,76,76)\"/><circle cx=\"211\" cy=\"194\" r=\"11\" fill=\"rgb(72,72,72)\"/><circle cx=\"296\" cy=\"163\" r=\"10\" fill=\"rgb(183,183,183)\"/><circle cx=\"227\" cy=\"349\" r=\"8\" fill=\"rgb(161,161,161)\"/><circle cx=\"356\" cy=\"148\" r=\"11\" fill=\"rgb(197,197,197)\"/></svg><svg viewBox='0 0 430 430' id=\"svg\" width=\"172\" height=\"172\"><circle cx=\"215\" cy=\"215\" r=\"205\" fill=\"none\" stroke=\"black\" stroke-width=\"2\" stroke-dasharray=\"3,3\"/> <circle cx=\"77\" cy=\"184\" r=\"10\" fill=\"rgb(255,255,255)\" class=\"agent_0_1\"/><circle cx=\"137\" cy=\"125\" r=\"12\" fill=\"rgb(255,255,255)\" class=\"agent_0_5\"/><circle cx=\"139\" cy=\"54\" r=\"10\" fill=\"rgb(255,255,255)\" class=\"agent_0_12\"/><circle cx=\"211\" cy=\"194\" r=\"11\" fill=\"rgb(255,0,0)\" class=\"agent_0_16\"/><circle cx=\"296\" cy=\"163\" r=\"10\" fill=\"rgb(255,255,255)\" class=\"agent_0_33\"/><circle cx=\"227\" cy=\"349\" r=\"8\" fill=\"rgb(255,255,255)\" class=\"agent_0_50\"/><circle cx=\"356\" cy=\"148\" r=\"11\" fill=\"rgb(255,255,255)\" class=\"agent_0_77\"/></svg><svg viewBox='0 0 430 430' id=\"svg\" width=\"172\" height=\"172\"><circle cx=\"215\" cy=\"215\" r=\"205\" fill=\"none\" stroke=\"black\" stroke-width=\"2\" stroke-dasharray=\"3,3\"/> <circle cx=\"77\" cy=\"184\" r=\"10\" fill=\"rgb(255,255,255)\" class=\"agent_0_1\"/><circle cx=\"137\" cy=\"125\" r=\"12\" fill=\"rgb(255,255,255)\" class=\"agent_0_5\"/><circle cx=\"139\" cy=\"54\" r=\"10\" fill=\"rgb(255,255,255)\" class=\"agent_0_12\"/><circle cx=\"211\" cy=\"194\" r=\"11\" fill=\"rgb(255,0,0)\" class=\"agent_0_16\"/><circle cx=\"296\" cy=\"163\" r=\"10\" fill=\"rgb(255,255,255)\" class=\"agent_0_33\"/><circle cx=\"227\" cy=\"349\" r=\"8\" fill=\"rgb(255,255,255)\" class=\"agent_0_50\"/><circle cx=\"356\" cy=\"148\" r=\"11\" fill=\"rgb(255,255,255)\" class=\"agent_0_77\"/></svg></div>"
      ],
      "text/plain": [
       "<IPython.core.display.HTML object>"
      ]
     },
     "metadata": {},
     "output_type": "display_data"
    },
    {
     "name": "stdout",
     "output_type": "stream",
     "text": [
      "sample 0\tyes , i see that , lets choose the light one <eos>\n",
      "sample 1\tyes ! is the lighter one slightly larger and to the right of the lighter one ? <eos>\n",
      "sample 2\tyes ! if the light one is to the right and slightly above the light one <eos>\n",
      "sample 3\tyes ! is the one on the right slightly above the other one ? <eos>\n",
      "sample 4\tyes , i have that . let 's pick the light one <selection>\n",
      "sample 5\tyes ! is the one on the right slightly lighter than the one on the right ? <eos>\n",
      "sample 6\tyes , i have that too . let 's pick the light grey one <selection>\n",
      "sample 7\tyes , i have that too . let 's pick the light one <selection>\n",
      "sample 8\tyes ! is the one on the right slightly lighter than the one on the right ? <eos>\n",
      "sample 9\tyes ! is the lighter one slightly larger and to the right of the lighter one ? <eos>\n",
      "argmax\tyes ! is the one on the right slightly above the other one ? <eos>\n",
      "human\tno i dont i have 2 light grey dots smaller is to the left and a hair lower <eos>\n",
      "refs_true\n"
     ]
    },
    {
     "data": {
      "text/html": [
       "<div style=\"white-space: nowrap\"><svg viewbox='0 0 430 430' width=\"172\" height=\"172\" id=\"agent_0\"><circle cx=\"215\" cy=\"215\" r=\"205\" fill=\"none\" stroke=\"black\" stroke-width=\"2\" stroke-dasharray=\"3,3\"/><circle cx=\"77\" cy=\"184\" r=\"10\" fill=\"rgb(106,106,106)\"/><circle cx=\"137\" cy=\"125\" r=\"12\" fill=\"rgb(113,113,113)\"/><circle cx=\"139\" cy=\"54\" r=\"10\" fill=\"rgb(76,76,76)\"/><circle cx=\"211\" cy=\"194\" r=\"11\" fill=\"rgb(72,72,72)\"/><circle cx=\"296\" cy=\"163\" r=\"10\" fill=\"rgb(183,183,183)\"/><circle cx=\"227\" cy=\"349\" r=\"8\" fill=\"rgb(161,161,161)\"/><circle cx=\"356\" cy=\"148\" r=\"11\" fill=\"rgb(197,197,197)\"/></svg><svg viewBox='0 0 430 430' id=\"svg\" width=\"172\" height=\"172\"><circle cx=\"215\" cy=\"215\" r=\"205\" fill=\"none\" stroke=\"black\" stroke-width=\"2\" stroke-dasharray=\"3,3\"/> <circle cx=\"77\" cy=\"184\" r=\"10\" fill=\"rgb(255,255,255)\" class=\"agent_0_1\"/><circle cx=\"137\" cy=\"125\" r=\"12\" fill=\"rgb(255,255,255)\" class=\"agent_0_5\"/><circle cx=\"139\" cy=\"54\" r=\"10\" fill=\"rgb(255,255,255)\" class=\"agent_0_12\"/><circle cx=\"211\" cy=\"194\" r=\"11\" fill=\"rgb(255,255,255)\" class=\"agent_0_16\"/><circle cx=\"296\" cy=\"163\" r=\"10\" fill=\"rgb(255,0,0)\" class=\"agent_0_33\"/><circle cx=\"227\" cy=\"349\" r=\"8\" fill=\"rgb(255,255,255)\" class=\"agent_0_50\"/><circle cx=\"356\" cy=\"148\" r=\"11\" fill=\"rgb(255,0,0)\" class=\"agent_0_77\"/></svg><svg viewBox='0 0 430 430' id=\"svg\" width=\"172\" height=\"172\"><circle cx=\"215\" cy=\"215\" r=\"205\" fill=\"none\" stroke=\"black\" stroke-width=\"2\" stroke-dasharray=\"3,3\"/> <circle cx=\"77\" cy=\"184\" r=\"10\" fill=\"rgb(255,255,255)\" class=\"agent_0_1\"/><circle cx=\"137\" cy=\"125\" r=\"12\" fill=\"rgb(255,255,255)\" class=\"agent_0_5\"/><circle cx=\"139\" cy=\"54\" r=\"10\" fill=\"rgb(255,255,255)\" class=\"agent_0_12\"/><circle cx=\"211\" cy=\"194\" r=\"11\" fill=\"rgb(255,255,255)\" class=\"agent_0_16\"/><circle cx=\"296\" cy=\"163\" r=\"10\" fill=\"rgb(255,0,0)\" class=\"agent_0_33\"/><circle cx=\"227\" cy=\"349\" r=\"8\" fill=\"rgb(255,255,255)\" class=\"agent_0_50\"/><circle cx=\"356\" cy=\"148\" r=\"11\" fill=\"rgb(255,255,255)\" class=\"agent_0_77\"/></svg></div>"
      ],
      "text/plain": [
       "<IPython.core.display.HTML object>"
      ]
     },
     "metadata": {},
     "output_type": "display_data"
    },
    {
     "name": "stdout",
     "output_type": "stream",
     "text": [
      "refs_pred\n"
     ]
    },
    {
     "data": {
      "text/html": [
       "<div style=\"white-space: nowrap\"><svg viewbox='0 0 430 430' width=\"172\" height=\"172\" id=\"agent_0\"><circle cx=\"215\" cy=\"215\" r=\"205\" fill=\"none\" stroke=\"black\" stroke-width=\"2\" stroke-dasharray=\"3,3\"/><circle cx=\"77\" cy=\"184\" r=\"10\" fill=\"rgb(106,106,106)\"/><circle cx=\"137\" cy=\"125\" r=\"12\" fill=\"rgb(113,113,113)\"/><circle cx=\"139\" cy=\"54\" r=\"10\" fill=\"rgb(76,76,76)\"/><circle cx=\"211\" cy=\"194\" r=\"11\" fill=\"rgb(72,72,72)\"/><circle cx=\"296\" cy=\"163\" r=\"10\" fill=\"rgb(183,183,183)\"/><circle cx=\"227\" cy=\"349\" r=\"8\" fill=\"rgb(161,161,161)\"/><circle cx=\"356\" cy=\"148\" r=\"11\" fill=\"rgb(197,197,197)\"/></svg><svg viewBox='0 0 430 430' id=\"svg\" width=\"172\" height=\"172\"><circle cx=\"215\" cy=\"215\" r=\"205\" fill=\"none\" stroke=\"black\" stroke-width=\"2\" stroke-dasharray=\"3,3\"/> <circle cx=\"77\" cy=\"184\" r=\"10\" fill=\"rgb(255,255,255)\" class=\"agent_0_1\"/><circle cx=\"137\" cy=\"125\" r=\"12\" fill=\"rgb(255,255,255)\" class=\"agent_0_5\"/><circle cx=\"139\" cy=\"54\" r=\"10\" fill=\"rgb(255,255,255)\" class=\"agent_0_12\"/><circle cx=\"211\" cy=\"194\" r=\"11\" fill=\"rgb(255,255,255)\" class=\"agent_0_16\"/><circle cx=\"296\" cy=\"163\" r=\"10\" fill=\"rgb(255,0,0)\" class=\"agent_0_33\"/><circle cx=\"227\" cy=\"349\" r=\"8\" fill=\"rgb(255,255,255)\" class=\"agent_0_50\"/><circle cx=\"356\" cy=\"148\" r=\"11\" fill=\"rgb(255,0,0)\" class=\"agent_0_77\"/></svg><svg viewBox='0 0 430 430' id=\"svg\" width=\"172\" height=\"172\"><circle cx=\"215\" cy=\"215\" r=\"205\" fill=\"none\" stroke=\"black\" stroke-width=\"2\" stroke-dasharray=\"3,3\"/> <circle cx=\"77\" cy=\"184\" r=\"10\" fill=\"rgb(255,255,255)\" class=\"agent_0_1\"/><circle cx=\"137\" cy=\"125\" r=\"12\" fill=\"rgb(255,255,255)\" class=\"agent_0_5\"/><circle cx=\"139\" cy=\"54\" r=\"10\" fill=\"rgb(255,255,255)\" class=\"agent_0_12\"/><circle cx=\"211\" cy=\"194\" r=\"11\" fill=\"rgb(255,255,255)\" class=\"agent_0_16\"/><circle cx=\"296\" cy=\"163\" r=\"10\" fill=\"rgb(255,0,0)\" class=\"agent_0_33\"/><circle cx=\"227\" cy=\"349\" r=\"8\" fill=\"rgb(255,255,255)\" class=\"agent_0_50\"/><circle cx=\"356\" cy=\"148\" r=\"11\" fill=\"rgb(255,255,255)\" class=\"agent_0_77\"/></svg></div>"
      ],
      "text/plain": [
       "<IPython.core.display.HTML object>"
      ]
     },
     "metadata": {},
     "output_type": "display_data"
    },
    {
     "name": "stdout",
     "output_type": "stream",
     "text": [
      "\n",
      "----------------------------------------\n",
      "\n",
      "human\tTHEM: are they the <unk> right ones ? bc i may only have the left one <eos>\n",
      "partner_refs_true\n"
     ]
    },
    {
     "data": {
      "text/html": [
       "<div style=\"white-space: nowrap\"><svg viewbox='0 0 430 430' width=\"172\" height=\"172\" id=\"agent_0\"><circle cx=\"215\" cy=\"215\" r=\"205\" fill=\"none\" stroke=\"black\" stroke-width=\"2\" stroke-dasharray=\"3,3\"/><circle cx=\"77\" cy=\"184\" r=\"10\" fill=\"rgb(106,106,106)\"/><circle cx=\"137\" cy=\"125\" r=\"12\" fill=\"rgb(113,113,113)\"/><circle cx=\"139\" cy=\"54\" r=\"10\" fill=\"rgb(76,76,76)\"/><circle cx=\"211\" cy=\"194\" r=\"11\" fill=\"rgb(72,72,72)\"/><circle cx=\"296\" cy=\"163\" r=\"10\" fill=\"rgb(183,183,183)\"/><circle cx=\"227\" cy=\"349\" r=\"8\" fill=\"rgb(161,161,161)\"/><circle cx=\"356\" cy=\"148\" r=\"11\" fill=\"rgb(197,197,197)\"/></svg><svg viewBox='0 0 430 430' id=\"svg\" width=\"172\" height=\"172\"><circle cx=\"215\" cy=\"215\" r=\"205\" fill=\"none\" stroke=\"black\" stroke-width=\"2\" stroke-dasharray=\"3,3\"/> <circle cx=\"77\" cy=\"184\" r=\"10\" fill=\"rgb(255,255,255)\" class=\"agent_0_1\"/><circle cx=\"137\" cy=\"125\" r=\"12\" fill=\"rgb(255,255,255)\" class=\"agent_0_5\"/><circle cx=\"139\" cy=\"54\" r=\"10\" fill=\"rgb(255,255,255)\" class=\"agent_0_12\"/><circle cx=\"211\" cy=\"194\" r=\"11\" fill=\"rgb(255,255,255)\" class=\"agent_0_16\"/><circle cx=\"296\" cy=\"163\" r=\"10\" fill=\"rgb(255,0,0)\" class=\"agent_0_33\"/><circle cx=\"227\" cy=\"349\" r=\"8\" fill=\"rgb(255,255,255)\" class=\"agent_0_50\"/><circle cx=\"356\" cy=\"148\" r=\"11\" fill=\"rgb(255,255,255)\" class=\"agent_0_77\"/></svg></div>"
      ],
      "text/plain": [
       "<IPython.core.display.HTML object>"
      ]
     },
     "metadata": {},
     "output_type": "display_data"
    },
    {
     "name": "stdout",
     "output_type": "stream",
     "text": [
      "partner_refs_pred\n"
     ]
    },
    {
     "data": {
      "text/html": [
       "<div style=\"white-space: nowrap\"><svg viewbox='0 0 430 430' width=\"172\" height=\"172\" id=\"agent_0\"><circle cx=\"215\" cy=\"215\" r=\"205\" fill=\"none\" stroke=\"black\" stroke-width=\"2\" stroke-dasharray=\"3,3\"/><circle cx=\"77\" cy=\"184\" r=\"10\" fill=\"rgb(106,106,106)\"/><circle cx=\"137\" cy=\"125\" r=\"12\" fill=\"rgb(113,113,113)\"/><circle cx=\"139\" cy=\"54\" r=\"10\" fill=\"rgb(76,76,76)\"/><circle cx=\"211\" cy=\"194\" r=\"11\" fill=\"rgb(72,72,72)\"/><circle cx=\"296\" cy=\"163\" r=\"10\" fill=\"rgb(183,183,183)\"/><circle cx=\"227\" cy=\"349\" r=\"8\" fill=\"rgb(161,161,161)\"/><circle cx=\"356\" cy=\"148\" r=\"11\" fill=\"rgb(197,197,197)\"/></svg><svg viewBox='0 0 430 430' id=\"svg\" width=\"172\" height=\"172\"><circle cx=\"215\" cy=\"215\" r=\"205\" fill=\"none\" stroke=\"black\" stroke-width=\"2\" stroke-dasharray=\"3,3\"/> <circle cx=\"77\" cy=\"184\" r=\"10\" fill=\"rgb(255,255,255)\" class=\"agent_0_1\"/><circle cx=\"137\" cy=\"125\" r=\"12\" fill=\"rgb(255,255,255)\" class=\"agent_0_5\"/><circle cx=\"139\" cy=\"54\" r=\"10\" fill=\"rgb(255,255,255)\" class=\"agent_0_12\"/><circle cx=\"211\" cy=\"194\" r=\"11\" fill=\"rgb(255,255,255)\" class=\"agent_0_16\"/><circle cx=\"296\" cy=\"163\" r=\"10\" fill=\"rgb(255,255,255)\" class=\"agent_0_33\"/><circle cx=\"227\" cy=\"349\" r=\"8\" fill=\"rgb(255,255,255)\" class=\"agent_0_50\"/><circle cx=\"356\" cy=\"148\" r=\"11\" fill=\"rgb(255,0,0)\" class=\"agent_0_77\"/></svg></div>"
      ],
      "text/plain": [
       "<IPython.core.display.HTML object>"
      ]
     },
     "metadata": {},
     "output_type": "display_data"
    },
    {
     "name": "stdout",
     "output_type": "stream",
     "text": [
      "\n",
      "----------------------------------------\n",
      "\n",
      "to_mention_true\n"
     ]
    },
    {
     "data": {
      "text/html": [
       "<div style=\"white-space: nowrap\"><svg viewbox='0 0 430 430' width=\"172\" height=\"172\" id=\"agent_0\"><circle cx=\"215\" cy=\"215\" r=\"205\" fill=\"none\" stroke=\"black\" stroke-width=\"2\" stroke-dasharray=\"3,3\"/><circle cx=\"77\" cy=\"184\" r=\"10\" fill=\"rgb(106,106,106)\"/><circle cx=\"137\" cy=\"125\" r=\"12\" fill=\"rgb(113,113,113)\"/><circle cx=\"139\" cy=\"54\" r=\"10\" fill=\"rgb(76,76,76)\"/><circle cx=\"211\" cy=\"194\" r=\"11\" fill=\"rgb(72,72,72)\"/><circle cx=\"296\" cy=\"163\" r=\"10\" fill=\"rgb(183,183,183)\"/><circle cx=\"227\" cy=\"349\" r=\"8\" fill=\"rgb(161,161,161)\"/><circle cx=\"356\" cy=\"148\" r=\"11\" fill=\"rgb(197,197,197)\"/></svg><svg viewBox='0 0 430 430' id=\"svg\" width=\"172\" height=\"172\"><circle cx=\"215\" cy=\"215\" r=\"205\" fill=\"none\" stroke=\"black\" stroke-width=\"2\" stroke-dasharray=\"3,3\"/> <circle cx=\"77\" cy=\"184\" r=\"10\" fill=\"rgb(255,255,255)\" class=\"agent_0_1\"/><circle cx=\"137\" cy=\"125\" r=\"12\" fill=\"rgb(255,255,255)\" class=\"agent_0_5\"/><circle cx=\"139\" cy=\"54\" r=\"10\" fill=\"rgb(255,255,255)\" class=\"agent_0_12\"/><circle cx=\"211\" cy=\"194\" r=\"11\" fill=\"rgb(255,255,255)\" class=\"agent_0_16\"/><circle cx=\"296\" cy=\"163\" r=\"10\" fill=\"rgb(255,0,0)\" class=\"agent_0_33\"/><circle cx=\"227\" cy=\"349\" r=\"8\" fill=\"rgb(255,255,255)\" class=\"agent_0_50\"/><circle cx=\"356\" cy=\"148\" r=\"11\" fill=\"rgb(255,0,0)\" class=\"agent_0_77\"/></svg></div>"
      ],
      "text/plain": [
       "<IPython.core.display.HTML object>"
      ]
     },
     "metadata": {},
     "output_type": "display_data"
    },
    {
     "name": "stdout",
     "output_type": "stream",
     "text": [
      "to_mention_pred\n"
     ]
    },
    {
     "data": {
      "text/html": [
       "<div style=\"white-space: nowrap\"><svg viewbox='0 0 430 430' width=\"172\" height=\"172\" id=\"agent_0\"><circle cx=\"215\" cy=\"215\" r=\"205\" fill=\"none\" stroke=\"black\" stroke-width=\"2\" stroke-dasharray=\"3,3\"/><circle cx=\"77\" cy=\"184\" r=\"10\" fill=\"rgb(106,106,106)\"/><circle cx=\"137\" cy=\"125\" r=\"12\" fill=\"rgb(113,113,113)\"/><circle cx=\"139\" cy=\"54\" r=\"10\" fill=\"rgb(76,76,76)\"/><circle cx=\"211\" cy=\"194\" r=\"11\" fill=\"rgb(72,72,72)\"/><circle cx=\"296\" cy=\"163\" r=\"10\" fill=\"rgb(183,183,183)\"/><circle cx=\"227\" cy=\"349\" r=\"8\" fill=\"rgb(161,161,161)\"/><circle cx=\"356\" cy=\"148\" r=\"11\" fill=\"rgb(197,197,197)\"/></svg><svg viewBox='0 0 430 430' id=\"svg\" width=\"172\" height=\"172\"><circle cx=\"215\" cy=\"215\" r=\"205\" fill=\"none\" stroke=\"black\" stroke-width=\"2\" stroke-dasharray=\"3,3\"/> <circle cx=\"77\" cy=\"184\" r=\"10\" fill=\"rgb(255,255,255)\" class=\"agent_0_1\"/><circle cx=\"137\" cy=\"125\" r=\"12\" fill=\"rgb(255,255,255)\" class=\"agent_0_5\"/><circle cx=\"139\" cy=\"54\" r=\"10\" fill=\"rgb(255,255,255)\" class=\"agent_0_12\"/><circle cx=\"211\" cy=\"194\" r=\"11\" fill=\"rgb(255,255,255)\" class=\"agent_0_16\"/><circle cx=\"296\" cy=\"163\" r=\"10\" fill=\"rgb(255,0,0)\" class=\"agent_0_33\"/><circle cx=\"227\" cy=\"349\" r=\"8\" fill=\"rgb(255,255,255)\" class=\"agent_0_50\"/><circle cx=\"356\" cy=\"148\" r=\"11\" fill=\"rgb(255,0,0)\" class=\"agent_0_77\"/></svg></div>"
      ],
      "text/plain": [
       "<IPython.core.display.HTML object>"
      ]
     },
     "metadata": {},
     "output_type": "display_data"
    },
    {
     "name": "stdout",
     "output_type": "stream",
     "text": [
      "sample 0\ti have two light gray dots on the right side <eos>\n",
      "sample 1\ti have a light grey dot to the right <eos>\n",
      "sample 2\ti have two light gray dots <eos>\n",
      "sample 3\ti have two light grey dots . <eos>\n",
      "sample 4\ti see two light grey dots . <eos>\n",
      "sample 5\tdo you see two light grey dots close together ? <eos>\n",
      "sample 6\ti have two light grey dots <eos>\n",
      "sample 7\ti have two light grey dots <eos>\n",
      "sample 8\ti have two light grey dots <eos>\n",
      "sample 9\ti see two light grey dots <eos>\n",
      "argmax\ti have two light grey dots <eos>\n",
      "human\tyes they are right in my circle <eos>\n",
      "refs_true\n"
     ]
    },
    {
     "data": {
      "text/html": [
       "<div style=\"white-space: nowrap\"><svg viewbox='0 0 430 430' width=\"172\" height=\"172\" id=\"agent_0\"><circle cx=\"215\" cy=\"215\" r=\"205\" fill=\"none\" stroke=\"black\" stroke-width=\"2\" stroke-dasharray=\"3,3\"/><circle cx=\"77\" cy=\"184\" r=\"10\" fill=\"rgb(106,106,106)\"/><circle cx=\"137\" cy=\"125\" r=\"12\" fill=\"rgb(113,113,113)\"/><circle cx=\"139\" cy=\"54\" r=\"10\" fill=\"rgb(76,76,76)\"/><circle cx=\"211\" cy=\"194\" r=\"11\" fill=\"rgb(72,72,72)\"/><circle cx=\"296\" cy=\"163\" r=\"10\" fill=\"rgb(183,183,183)\"/><circle cx=\"227\" cy=\"349\" r=\"8\" fill=\"rgb(161,161,161)\"/><circle cx=\"356\" cy=\"148\" r=\"11\" fill=\"rgb(197,197,197)\"/></svg><svg viewBox='0 0 430 430' id=\"svg\" width=\"172\" height=\"172\"><circle cx=\"215\" cy=\"215\" r=\"205\" fill=\"none\" stroke=\"black\" stroke-width=\"2\" stroke-dasharray=\"3,3\"/> <circle cx=\"77\" cy=\"184\" r=\"10\" fill=\"rgb(255,255,255)\" class=\"agent_0_1\"/><circle cx=\"137\" cy=\"125\" r=\"12\" fill=\"rgb(255,255,255)\" class=\"agent_0_5\"/><circle cx=\"139\" cy=\"54\" r=\"10\" fill=\"rgb(255,255,255)\" class=\"agent_0_12\"/><circle cx=\"211\" cy=\"194\" r=\"11\" fill=\"rgb(255,255,255)\" class=\"agent_0_16\"/><circle cx=\"296\" cy=\"163\" r=\"10\" fill=\"rgb(255,0,0)\" class=\"agent_0_33\"/><circle cx=\"227\" cy=\"349\" r=\"8\" fill=\"rgb(255,255,255)\" class=\"agent_0_50\"/><circle cx=\"356\" cy=\"148\" r=\"11\" fill=\"rgb(255,0,0)\" class=\"agent_0_77\"/></svg></div>"
      ],
      "text/plain": [
       "<IPython.core.display.HTML object>"
      ]
     },
     "metadata": {},
     "output_type": "display_data"
    },
    {
     "name": "stdout",
     "output_type": "stream",
     "text": [
      "refs_pred\n"
     ]
    },
    {
     "data": {
      "text/html": [
       "<div style=\"white-space: nowrap\"><svg viewbox='0 0 430 430' width=\"172\" height=\"172\" id=\"agent_0\"><circle cx=\"215\" cy=\"215\" r=\"205\" fill=\"none\" stroke=\"black\" stroke-width=\"2\" stroke-dasharray=\"3,3\"/><circle cx=\"77\" cy=\"184\" r=\"10\" fill=\"rgb(106,106,106)\"/><circle cx=\"137\" cy=\"125\" r=\"12\" fill=\"rgb(113,113,113)\"/><circle cx=\"139\" cy=\"54\" r=\"10\" fill=\"rgb(76,76,76)\"/><circle cx=\"211\" cy=\"194\" r=\"11\" fill=\"rgb(72,72,72)\"/><circle cx=\"296\" cy=\"163\" r=\"10\" fill=\"rgb(183,183,183)\"/><circle cx=\"227\" cy=\"349\" r=\"8\" fill=\"rgb(161,161,161)\"/><circle cx=\"356\" cy=\"148\" r=\"11\" fill=\"rgb(197,197,197)\"/></svg><svg viewBox='0 0 430 430' id=\"svg\" width=\"172\" height=\"172\"><circle cx=\"215\" cy=\"215\" r=\"205\" fill=\"none\" stroke=\"black\" stroke-width=\"2\" stroke-dasharray=\"3,3\"/> <circle cx=\"77\" cy=\"184\" r=\"10\" fill=\"rgb(255,255,255)\" class=\"agent_0_1\"/><circle cx=\"137\" cy=\"125\" r=\"12\" fill=\"rgb(255,255,255)\" class=\"agent_0_5\"/><circle cx=\"139\" cy=\"54\" r=\"10\" fill=\"rgb(255,255,255)\" class=\"agent_0_12\"/><circle cx=\"211\" cy=\"194\" r=\"11\" fill=\"rgb(255,255,255)\" class=\"agent_0_16\"/><circle cx=\"296\" cy=\"163\" r=\"10\" fill=\"rgb(255,0,0)\" class=\"agent_0_33\"/><circle cx=\"227\" cy=\"349\" r=\"8\" fill=\"rgb(255,255,255)\" class=\"agent_0_50\"/><circle cx=\"356\" cy=\"148\" r=\"11\" fill=\"rgb(255,0,0)\" class=\"agent_0_77\"/></svg></div>"
      ],
      "text/plain": [
       "<IPython.core.display.HTML object>"
      ]
     },
     "metadata": {},
     "output_type": "display_data"
    },
    {
     "name": "stdout",
     "output_type": "stream",
     "text": [
      "\n",
      "----------------------------------------\n",
      "\n",
      "human\tTHEM: there is a black one to the left and down from the light one ? <eos>\n",
      "partner_refs_true\n"
     ]
    },
    {
     "data": {
      "text/html": [
       "<div style=\"white-space: nowrap\"><svg viewbox='0 0 430 430' width=\"172\" height=\"172\" id=\"agent_0\"><circle cx=\"215\" cy=\"215\" r=\"205\" fill=\"none\" stroke=\"black\" stroke-width=\"2\" stroke-dasharray=\"3,3\"/><circle cx=\"77\" cy=\"184\" r=\"10\" fill=\"rgb(106,106,106)\"/><circle cx=\"137\" cy=\"125\" r=\"12\" fill=\"rgb(113,113,113)\"/><circle cx=\"139\" cy=\"54\" r=\"10\" fill=\"rgb(76,76,76)\"/><circle cx=\"211\" cy=\"194\" r=\"11\" fill=\"rgb(72,72,72)\"/><circle cx=\"296\" cy=\"163\" r=\"10\" fill=\"rgb(183,183,183)\"/><circle cx=\"227\" cy=\"349\" r=\"8\" fill=\"rgb(161,161,161)\"/><circle cx=\"356\" cy=\"148\" r=\"11\" fill=\"rgb(197,197,197)\"/></svg><svg viewBox='0 0 430 430' id=\"svg\" width=\"172\" height=\"172\"><circle cx=\"215\" cy=\"215\" r=\"205\" fill=\"none\" stroke=\"black\" stroke-width=\"2\" stroke-dasharray=\"3,3\"/> <circle cx=\"77\" cy=\"184\" r=\"10\" fill=\"rgb(255,255,255)\" class=\"agent_0_1\"/><circle cx=\"137\" cy=\"125\" r=\"12\" fill=\"rgb(255,255,255)\" class=\"agent_0_5\"/><circle cx=\"139\" cy=\"54\" r=\"10\" fill=\"rgb(255,255,255)\" class=\"agent_0_12\"/><circle cx=\"211\" cy=\"194\" r=\"11\" fill=\"rgb(255,0,0)\" class=\"agent_0_16\"/><circle cx=\"296\" cy=\"163\" r=\"10\" fill=\"rgb(255,255,255)\" class=\"agent_0_33\"/><circle cx=\"227\" cy=\"349\" r=\"8\" fill=\"rgb(255,255,255)\" class=\"agent_0_50\"/><circle cx=\"356\" cy=\"148\" r=\"11\" fill=\"rgb(255,255,255)\" class=\"agent_0_77\"/></svg><svg viewBox='0 0 430 430' id=\"svg\" width=\"172\" height=\"172\"><circle cx=\"215\" cy=\"215\" r=\"205\" fill=\"none\" stroke=\"black\" stroke-width=\"2\" stroke-dasharray=\"3,3\"/> <circle cx=\"77\" cy=\"184\" r=\"10\" fill=\"rgb(255,255,255)\" class=\"agent_0_1\"/><circle cx=\"137\" cy=\"125\" r=\"12\" fill=\"rgb(255,255,255)\" class=\"agent_0_5\"/><circle cx=\"139\" cy=\"54\" r=\"10\" fill=\"rgb(255,255,255)\" class=\"agent_0_12\"/><circle cx=\"211\" cy=\"194\" r=\"11\" fill=\"rgb(255,255,255)\" class=\"agent_0_16\"/><circle cx=\"296\" cy=\"163\" r=\"10\" fill=\"rgb(255,0,0)\" class=\"agent_0_33\"/><circle cx=\"227\" cy=\"349\" r=\"8\" fill=\"rgb(255,255,255)\" class=\"agent_0_50\"/><circle cx=\"356\" cy=\"148\" r=\"11\" fill=\"rgb(255,255,255)\" class=\"agent_0_77\"/></svg></div>"
      ],
      "text/plain": [
       "<IPython.core.display.HTML object>"
      ]
     },
     "metadata": {},
     "output_type": "display_data"
    },
    {
     "name": "stdout",
     "output_type": "stream",
     "text": [
      "partner_refs_pred\n"
     ]
    },
    {
     "data": {
      "text/html": [
       "<div style=\"white-space: nowrap\"><svg viewbox='0 0 430 430' width=\"172\" height=\"172\" id=\"agent_0\"><circle cx=\"215\" cy=\"215\" r=\"205\" fill=\"none\" stroke=\"black\" stroke-width=\"2\" stroke-dasharray=\"3,3\"/><circle cx=\"77\" cy=\"184\" r=\"10\" fill=\"rgb(106,106,106)\"/><circle cx=\"137\" cy=\"125\" r=\"12\" fill=\"rgb(113,113,113)\"/><circle cx=\"139\" cy=\"54\" r=\"10\" fill=\"rgb(76,76,76)\"/><circle cx=\"211\" cy=\"194\" r=\"11\" fill=\"rgb(72,72,72)\"/><circle cx=\"296\" cy=\"163\" r=\"10\" fill=\"rgb(183,183,183)\"/><circle cx=\"227\" cy=\"349\" r=\"8\" fill=\"rgb(161,161,161)\"/><circle cx=\"356\" cy=\"148\" r=\"11\" fill=\"rgb(197,197,197)\"/></svg><svg viewBox='0 0 430 430' id=\"svg\" width=\"172\" height=\"172\"><circle cx=\"215\" cy=\"215\" r=\"205\" fill=\"none\" stroke=\"black\" stroke-width=\"2\" stroke-dasharray=\"3,3\"/> <circle cx=\"77\" cy=\"184\" r=\"10\" fill=\"rgb(255,255,255)\" class=\"agent_0_1\"/><circle cx=\"137\" cy=\"125\" r=\"12\" fill=\"rgb(255,255,255)\" class=\"agent_0_5\"/><circle cx=\"139\" cy=\"54\" r=\"10\" fill=\"rgb(255,255,255)\" class=\"agent_0_12\"/><circle cx=\"211\" cy=\"194\" r=\"11\" fill=\"rgb(255,0,0)\" class=\"agent_0_16\"/><circle cx=\"296\" cy=\"163\" r=\"10\" fill=\"rgb(255,255,255)\" class=\"agent_0_33\"/><circle cx=\"227\" cy=\"349\" r=\"8\" fill=\"rgb(255,255,255)\" class=\"agent_0_50\"/><circle cx=\"356\" cy=\"148\" r=\"11\" fill=\"rgb(255,255,255)\" class=\"agent_0_77\"/></svg><svg viewBox='0 0 430 430' id=\"svg\" width=\"172\" height=\"172\"><circle cx=\"215\" cy=\"215\" r=\"205\" fill=\"none\" stroke=\"black\" stroke-width=\"2\" stroke-dasharray=\"3,3\"/> <circle cx=\"77\" cy=\"184\" r=\"10\" fill=\"rgb(255,255,255)\" class=\"agent_0_1\"/><circle cx=\"137\" cy=\"125\" r=\"12\" fill=\"rgb(255,255,255)\" class=\"agent_0_5\"/><circle cx=\"139\" cy=\"54\" r=\"10\" fill=\"rgb(255,255,255)\" class=\"agent_0_12\"/><circle cx=\"211\" cy=\"194\" r=\"11\" fill=\"rgb(255,255,255)\" class=\"agent_0_16\"/><circle cx=\"296\" cy=\"163\" r=\"10\" fill=\"rgb(255,0,0)\" class=\"agent_0_33\"/><circle cx=\"227\" cy=\"349\" r=\"8\" fill=\"rgb(255,255,255)\" class=\"agent_0_50\"/><circle cx=\"356\" cy=\"148\" r=\"11\" fill=\"rgb(255,255,255)\" class=\"agent_0_77\"/></svg></div>"
      ],
      "text/plain": [
       "<IPython.core.display.HTML object>"
      ]
     },
     "metadata": {},
     "output_type": "display_data"
    },
    {
     "name": "stdout",
     "output_type": "stream",
     "text": [
      "\n",
      "----------------------------------------\n",
      "\n",
      "to_mention_true\n"
     ]
    },
    {
     "data": {
      "text/html": [
       "<div style=\"white-space: nowrap\"><svg viewbox='0 0 430 430' width=\"172\" height=\"172\" id=\"agent_0\"><circle cx=\"215\" cy=\"215\" r=\"205\" fill=\"none\" stroke=\"black\" stroke-width=\"2\" stroke-dasharray=\"3,3\"/><circle cx=\"77\" cy=\"184\" r=\"10\" fill=\"rgb(106,106,106)\"/><circle cx=\"137\" cy=\"125\" r=\"12\" fill=\"rgb(113,113,113)\"/><circle cx=\"139\" cy=\"54\" r=\"10\" fill=\"rgb(76,76,76)\"/><circle cx=\"211\" cy=\"194\" r=\"11\" fill=\"rgb(72,72,72)\"/><circle cx=\"296\" cy=\"163\" r=\"10\" fill=\"rgb(183,183,183)\"/><circle cx=\"227\" cy=\"349\" r=\"8\" fill=\"rgb(161,161,161)\"/><circle cx=\"356\" cy=\"148\" r=\"11\" fill=\"rgb(197,197,197)\"/></svg><svg viewBox='0 0 430 430' id=\"svg\" width=\"172\" height=\"172\"><circle cx=\"215\" cy=\"215\" r=\"205\" fill=\"none\" stroke=\"black\" stroke-width=\"2\" stroke-dasharray=\"3,3\"/> <circle cx=\"77\" cy=\"184\" r=\"10\" fill=\"rgb(255,255,255)\" class=\"agent_0_1\"/><circle cx=\"137\" cy=\"125\" r=\"12\" fill=\"rgb(255,255,255)\" class=\"agent_0_5\"/><circle cx=\"139\" cy=\"54\" r=\"10\" fill=\"rgb(255,255,255)\" class=\"agent_0_12\"/><circle cx=\"211\" cy=\"194\" r=\"11\" fill=\"rgb(255,255,255)\" class=\"agent_0_16\"/><circle cx=\"296\" cy=\"163\" r=\"10\" fill=\"rgb(255,255,255)\" class=\"agent_0_33\"/><circle cx=\"227\" cy=\"349\" r=\"8\" fill=\"rgb(255,255,255)\" class=\"agent_0_50\"/><circle cx=\"356\" cy=\"148\" r=\"11\" fill=\"rgb(255,0,0)\" class=\"agent_0_77\"/></svg></div>"
      ],
      "text/plain": [
       "<IPython.core.display.HTML object>"
      ]
     },
     "metadata": {},
     "output_type": "display_data"
    },
    {
     "name": "stdout",
     "output_type": "stream",
     "text": [
      "to_mention_pred\n"
     ]
    },
    {
     "data": {
      "text/html": [
       "<div style=\"white-space: nowrap\"><svg viewbox='0 0 430 430' width=\"172\" height=\"172\" id=\"agent_0\"><circle cx=\"215\" cy=\"215\" r=\"205\" fill=\"none\" stroke=\"black\" stroke-width=\"2\" stroke-dasharray=\"3,3\"/><circle cx=\"77\" cy=\"184\" r=\"10\" fill=\"rgb(106,106,106)\"/><circle cx=\"137\" cy=\"125\" r=\"12\" fill=\"rgb(113,113,113)\"/><circle cx=\"139\" cy=\"54\" r=\"10\" fill=\"rgb(76,76,76)\"/><circle cx=\"211\" cy=\"194\" r=\"11\" fill=\"rgb(72,72,72)\"/><circle cx=\"296\" cy=\"163\" r=\"10\" fill=\"rgb(183,183,183)\"/><circle cx=\"227\" cy=\"349\" r=\"8\" fill=\"rgb(161,161,161)\"/><circle cx=\"356\" cy=\"148\" r=\"11\" fill=\"rgb(197,197,197)\"/></svg><svg viewBox='0 0 430 430' id=\"svg\" width=\"172\" height=\"172\"><circle cx=\"215\" cy=\"215\" r=\"205\" fill=\"none\" stroke=\"black\" stroke-width=\"2\" stroke-dasharray=\"3,3\"/> <circle cx=\"77\" cy=\"184\" r=\"10\" fill=\"rgb(255,255,255)\" class=\"agent_0_1\"/><circle cx=\"137\" cy=\"125\" r=\"12\" fill=\"rgb(255,255,255)\" class=\"agent_0_5\"/><circle cx=\"139\" cy=\"54\" r=\"10\" fill=\"rgb(255,255,255)\" class=\"agent_0_12\"/><circle cx=\"211\" cy=\"194\" r=\"11\" fill=\"rgb(255,255,255)\" class=\"agent_0_16\"/><circle cx=\"296\" cy=\"163\" r=\"10\" fill=\"rgb(255,255,255)\" class=\"agent_0_33\"/><circle cx=\"227\" cy=\"349\" r=\"8\" fill=\"rgb(255,255,255)\" class=\"agent_0_50\"/><circle cx=\"356\" cy=\"148\" r=\"11\" fill=\"rgb(255,255,255)\" class=\"agent_0_77\"/></svg></div>"
      ],
      "text/plain": [
       "<IPython.core.display.HTML object>"
      ]
     },
     "metadata": {},
     "output_type": "display_data"
    },
    {
     "name": "stdout",
     "output_type": "stream",
     "text": [
      "sample 0\tyes , let 's pick the lighter one <eos>\n",
      "sample 1\tyes , let 's select that one <eos>\n",
      "sample 2\tyes , let 's pick the light one <eos>\n",
      "sample 3\tyes , lets pick the lighter one <selection>\n",
      "sample 4\tyes , let 's pick the light one <eos>\n",
      "sample 5\tyes , let 's choose the light one <selection>\n",
      "sample 6\tyes , let 's choose the lighter one <eos>\n",
      "sample 7\tyes , let 's choose the light one <selection>\n",
      "sample 8\tyes , lets pick the light one <eos>\n",
      "sample 9\tyes , let 's choose the light one <eos>\n",
      "argmax\tyes , let 's pick the light one <eos>\n",
      "human\tselect the furthest right <eos>\n",
      "refs_true\n"
     ]
    },
    {
     "data": {
      "text/html": [
       "<div style=\"white-space: nowrap\"><svg viewbox='0 0 430 430' width=\"172\" height=\"172\" id=\"agent_0\"><circle cx=\"215\" cy=\"215\" r=\"205\" fill=\"none\" stroke=\"black\" stroke-width=\"2\" stroke-dasharray=\"3,3\"/><circle cx=\"77\" cy=\"184\" r=\"10\" fill=\"rgb(106,106,106)\"/><circle cx=\"137\" cy=\"125\" r=\"12\" fill=\"rgb(113,113,113)\"/><circle cx=\"139\" cy=\"54\" r=\"10\" fill=\"rgb(76,76,76)\"/><circle cx=\"211\" cy=\"194\" r=\"11\" fill=\"rgb(72,72,72)\"/><circle cx=\"296\" cy=\"163\" r=\"10\" fill=\"rgb(183,183,183)\"/><circle cx=\"227\" cy=\"349\" r=\"8\" fill=\"rgb(161,161,161)\"/><circle cx=\"356\" cy=\"148\" r=\"11\" fill=\"rgb(197,197,197)\"/></svg><svg viewBox='0 0 430 430' id=\"svg\" width=\"172\" height=\"172\"><circle cx=\"215\" cy=\"215\" r=\"205\" fill=\"none\" stroke=\"black\" stroke-width=\"2\" stroke-dasharray=\"3,3\"/> <circle cx=\"77\" cy=\"184\" r=\"10\" fill=\"rgb(255,255,255)\" class=\"agent_0_1\"/><circle cx=\"137\" cy=\"125\" r=\"12\" fill=\"rgb(255,255,255)\" class=\"agent_0_5\"/><circle cx=\"139\" cy=\"54\" r=\"10\" fill=\"rgb(255,255,255)\" class=\"agent_0_12\"/><circle cx=\"211\" cy=\"194\" r=\"11\" fill=\"rgb(255,255,255)\" class=\"agent_0_16\"/><circle cx=\"296\" cy=\"163\" r=\"10\" fill=\"rgb(255,255,255)\" class=\"agent_0_33\"/><circle cx=\"227\" cy=\"349\" r=\"8\" fill=\"rgb(255,255,255)\" class=\"agent_0_50\"/><circle cx=\"356\" cy=\"148\" r=\"11\" fill=\"rgb(255,0,0)\" class=\"agent_0_77\"/></svg></div>"
      ],
      "text/plain": [
       "<IPython.core.display.HTML object>"
      ]
     },
     "metadata": {},
     "output_type": "display_data"
    },
    {
     "name": "stdout",
     "output_type": "stream",
     "text": [
      "refs_pred\n"
     ]
    },
    {
     "data": {
      "text/html": [
       "<div style=\"white-space: nowrap\"><svg viewbox='0 0 430 430' width=\"172\" height=\"172\" id=\"agent_0\"><circle cx=\"215\" cy=\"215\" r=\"205\" fill=\"none\" stroke=\"black\" stroke-width=\"2\" stroke-dasharray=\"3,3\"/><circle cx=\"77\" cy=\"184\" r=\"10\" fill=\"rgb(106,106,106)\"/><circle cx=\"137\" cy=\"125\" r=\"12\" fill=\"rgb(113,113,113)\"/><circle cx=\"139\" cy=\"54\" r=\"10\" fill=\"rgb(76,76,76)\"/><circle cx=\"211\" cy=\"194\" r=\"11\" fill=\"rgb(72,72,72)\"/><circle cx=\"296\" cy=\"163\" r=\"10\" fill=\"rgb(183,183,183)\"/><circle cx=\"227\" cy=\"349\" r=\"8\" fill=\"rgb(161,161,161)\"/><circle cx=\"356\" cy=\"148\" r=\"11\" fill=\"rgb(197,197,197)\"/></svg><svg viewBox='0 0 430 430' id=\"svg\" width=\"172\" height=\"172\"><circle cx=\"215\" cy=\"215\" r=\"205\" fill=\"none\" stroke=\"black\" stroke-width=\"2\" stroke-dasharray=\"3,3\"/> <circle cx=\"77\" cy=\"184\" r=\"10\" fill=\"rgb(255,255,255)\" class=\"agent_0_1\"/><circle cx=\"137\" cy=\"125\" r=\"12\" fill=\"rgb(255,255,255)\" class=\"agent_0_5\"/><circle cx=\"139\" cy=\"54\" r=\"10\" fill=\"rgb(255,255,255)\" class=\"agent_0_12\"/><circle cx=\"211\" cy=\"194\" r=\"11\" fill=\"rgb(255,255,255)\" class=\"agent_0_16\"/><circle cx=\"296\" cy=\"163\" r=\"10\" fill=\"rgb(255,0,0)\" class=\"agent_0_33\"/><circle cx=\"227\" cy=\"349\" r=\"8\" fill=\"rgb(255,255,255)\" class=\"agent_0_50\"/><circle cx=\"356\" cy=\"148\" r=\"11\" fill=\"rgb(255,255,255)\" class=\"agent_0_77\"/></svg></div>"
      ],
      "text/plain": [
       "<IPython.core.display.HTML object>"
      ]
     },
     "metadata": {},
     "output_type": "display_data"
    },
    {
     "name": "stdout",
     "output_type": "stream",
     "text": [
      "\n",
      "----------------------------------------\n",
      "\n",
      "human\tTHEM: no i do n't have the furthest right i said . the only light one i have is on the right of my circle ... there is no other one to the right of it ... so if you can , <unk> the left light one please <selection>\n",
      "partner_refs_true\n"
     ]
    },
    {
     "data": {
      "text/html": [
       "<div style=\"white-space: nowrap\"><svg viewbox='0 0 430 430' width=\"172\" height=\"172\" id=\"agent_0\"><circle cx=\"215\" cy=\"215\" r=\"205\" fill=\"none\" stroke=\"black\" stroke-width=\"2\" stroke-dasharray=\"3,3\"/><circle cx=\"77\" cy=\"184\" r=\"10\" fill=\"rgb(106,106,106)\"/><circle cx=\"137\" cy=\"125\" r=\"12\" fill=\"rgb(113,113,113)\"/><circle cx=\"139\" cy=\"54\" r=\"10\" fill=\"rgb(76,76,76)\"/><circle cx=\"211\" cy=\"194\" r=\"11\" fill=\"rgb(72,72,72)\"/><circle cx=\"296\" cy=\"163\" r=\"10\" fill=\"rgb(183,183,183)\"/><circle cx=\"227\" cy=\"349\" r=\"8\" fill=\"rgb(161,161,161)\"/><circle cx=\"356\" cy=\"148\" r=\"11\" fill=\"rgb(197,197,197)\"/></svg><svg viewBox='0 0 430 430' id=\"svg\" width=\"172\" height=\"172\"><circle cx=\"215\" cy=\"215\" r=\"205\" fill=\"none\" stroke=\"black\" stroke-width=\"2\" stroke-dasharray=\"3,3\"/> <circle cx=\"77\" cy=\"184\" r=\"10\" fill=\"rgb(255,255,255)\" class=\"agent_0_1\"/><circle cx=\"137\" cy=\"125\" r=\"12\" fill=\"rgb(255,255,255)\" class=\"agent_0_5\"/><circle cx=\"139\" cy=\"54\" r=\"10\" fill=\"rgb(255,255,255)\" class=\"agent_0_12\"/><circle cx=\"211\" cy=\"194\" r=\"11\" fill=\"rgb(255,255,255)\" class=\"agent_0_16\"/><circle cx=\"296\" cy=\"163\" r=\"10\" fill=\"rgb(255,255,255)\" class=\"agent_0_33\"/><circle cx=\"227\" cy=\"349\" r=\"8\" fill=\"rgb(255,255,255)\" class=\"agent_0_50\"/><circle cx=\"356\" cy=\"148\" r=\"11\" fill=\"rgb(255,255,255)\" class=\"agent_0_77\"/></svg><svg viewBox='0 0 430 430' id=\"svg\" width=\"172\" height=\"172\"><circle cx=\"215\" cy=\"215\" r=\"205\" fill=\"none\" stroke=\"black\" stroke-width=\"2\" stroke-dasharray=\"3,3\"/> <circle cx=\"77\" cy=\"184\" r=\"10\" fill=\"rgb(255,255,255)\" class=\"agent_0_1\"/><circle cx=\"137\" cy=\"125\" r=\"12\" fill=\"rgb(255,255,255)\" class=\"agent_0_5\"/><circle cx=\"139\" cy=\"54\" r=\"10\" fill=\"rgb(255,255,255)\" class=\"agent_0_12\"/><circle cx=\"211\" cy=\"194\" r=\"11\" fill=\"rgb(255,255,255)\" class=\"agent_0_16\"/><circle cx=\"296\" cy=\"163\" r=\"10\" fill=\"rgb(255,0,0)\" class=\"agent_0_33\"/><circle cx=\"227\" cy=\"349\" r=\"8\" fill=\"rgb(255,255,255)\" class=\"agent_0_50\"/><circle cx=\"356\" cy=\"148\" r=\"11\" fill=\"rgb(255,255,255)\" class=\"agent_0_77\"/></svg><svg viewBox='0 0 430 430' id=\"svg\" width=\"172\" height=\"172\"><circle cx=\"215\" cy=\"215\" r=\"205\" fill=\"none\" stroke=\"black\" stroke-width=\"2\" stroke-dasharray=\"3,3\"/> <circle cx=\"77\" cy=\"184\" r=\"10\" fill=\"rgb(255,255,255)\" class=\"agent_0_1\"/><circle cx=\"137\" cy=\"125\" r=\"12\" fill=\"rgb(255,255,255)\" class=\"agent_0_5\"/><circle cx=\"139\" cy=\"54\" r=\"10\" fill=\"rgb(255,255,255)\" class=\"agent_0_12\"/><circle cx=\"211\" cy=\"194\" r=\"11\" fill=\"rgb(255,255,255)\" class=\"agent_0_16\"/><circle cx=\"296\" cy=\"163\" r=\"10\" fill=\"rgb(255,255,255)\" class=\"agent_0_33\"/><circle cx=\"227\" cy=\"349\" r=\"8\" fill=\"rgb(255,255,255)\" class=\"agent_0_50\"/><circle cx=\"356\" cy=\"148\" r=\"11\" fill=\"rgb(255,255,255)\" class=\"agent_0_77\"/></svg><svg viewBox='0 0 430 430' id=\"svg\" width=\"172\" height=\"172\"><circle cx=\"215\" cy=\"215\" r=\"205\" fill=\"none\" stroke=\"black\" stroke-width=\"2\" stroke-dasharray=\"3,3\"/> <circle cx=\"77\" cy=\"184\" r=\"10\" fill=\"rgb(255,255,255)\" class=\"agent_0_1\"/><circle cx=\"137\" cy=\"125\" r=\"12\" fill=\"rgb(255,255,255)\" class=\"agent_0_5\"/><circle cx=\"139\" cy=\"54\" r=\"10\" fill=\"rgb(255,255,255)\" class=\"agent_0_12\"/><circle cx=\"211\" cy=\"194\" r=\"11\" fill=\"rgb(255,255,255)\" class=\"agent_0_16\"/><circle cx=\"296\" cy=\"163\" r=\"10\" fill=\"rgb(255,0,0)\" class=\"agent_0_33\"/><circle cx=\"227\" cy=\"349\" r=\"8\" fill=\"rgb(255,255,255)\" class=\"agent_0_50\"/><circle cx=\"356\" cy=\"148\" r=\"11\" fill=\"rgb(255,255,255)\" class=\"agent_0_77\"/></svg><svg viewBox='0 0 430 430' id=\"svg\" width=\"172\" height=\"172\"><circle cx=\"215\" cy=\"215\" r=\"205\" fill=\"none\" stroke=\"black\" stroke-width=\"2\" stroke-dasharray=\"3,3\"/> <circle cx=\"77\" cy=\"184\" r=\"10\" fill=\"rgb(255,255,255)\" class=\"agent_0_1\"/><circle cx=\"137\" cy=\"125\" r=\"12\" fill=\"rgb(255,255,255)\" class=\"agent_0_5\"/><circle cx=\"139\" cy=\"54\" r=\"10\" fill=\"rgb(255,255,255)\" class=\"agent_0_12\"/><circle cx=\"211\" cy=\"194\" r=\"11\" fill=\"rgb(255,255,255)\" class=\"agent_0_16\"/><circle cx=\"296\" cy=\"163\" r=\"10\" fill=\"rgb(255,0,0)\" class=\"agent_0_33\"/><circle cx=\"227\" cy=\"349\" r=\"8\" fill=\"rgb(255,255,255)\" class=\"agent_0_50\"/><circle cx=\"356\" cy=\"148\" r=\"11\" fill=\"rgb(255,255,255)\" class=\"agent_0_77\"/></svg></div>"
      ],
      "text/plain": [
       "<IPython.core.display.HTML object>"
      ]
     },
     "metadata": {},
     "output_type": "display_data"
    },
    {
     "name": "stdout",
     "output_type": "stream",
     "text": [
      "partner_refs_pred\n"
     ]
    },
    {
     "data": {
      "text/html": [
       "<div style=\"white-space: nowrap\"><svg viewbox='0 0 430 430' width=\"172\" height=\"172\" id=\"agent_0\"><circle cx=\"215\" cy=\"215\" r=\"205\" fill=\"none\" stroke=\"black\" stroke-width=\"2\" stroke-dasharray=\"3,3\"/><circle cx=\"77\" cy=\"184\" r=\"10\" fill=\"rgb(106,106,106)\"/><circle cx=\"137\" cy=\"125\" r=\"12\" fill=\"rgb(113,113,113)\"/><circle cx=\"139\" cy=\"54\" r=\"10\" fill=\"rgb(76,76,76)\"/><circle cx=\"211\" cy=\"194\" r=\"11\" fill=\"rgb(72,72,72)\"/><circle cx=\"296\" cy=\"163\" r=\"10\" fill=\"rgb(183,183,183)\"/><circle cx=\"227\" cy=\"349\" r=\"8\" fill=\"rgb(161,161,161)\"/><circle cx=\"356\" cy=\"148\" r=\"11\" fill=\"rgb(197,197,197)\"/></svg><svg viewBox='0 0 430 430' id=\"svg\" width=\"172\" height=\"172\"><circle cx=\"215\" cy=\"215\" r=\"205\" fill=\"none\" stroke=\"black\" stroke-width=\"2\" stroke-dasharray=\"3,3\"/> <circle cx=\"77\" cy=\"184\" r=\"10\" fill=\"rgb(255,255,255)\" class=\"agent_0_1\"/><circle cx=\"137\" cy=\"125\" r=\"12\" fill=\"rgb(255,255,255)\" class=\"agent_0_5\"/><circle cx=\"139\" cy=\"54\" r=\"10\" fill=\"rgb(255,255,255)\" class=\"agent_0_12\"/><circle cx=\"211\" cy=\"194\" r=\"11\" fill=\"rgb(255,255,255)\" class=\"agent_0_16\"/><circle cx=\"296\" cy=\"163\" r=\"10\" fill=\"rgb(255,255,255)\" class=\"agent_0_33\"/><circle cx=\"227\" cy=\"349\" r=\"8\" fill=\"rgb(255,255,255)\" class=\"agent_0_50\"/><circle cx=\"356\" cy=\"148\" r=\"11\" fill=\"rgb(255,255,255)\" class=\"agent_0_77\"/></svg><svg viewBox='0 0 430 430' id=\"svg\" width=\"172\" height=\"172\"><circle cx=\"215\" cy=\"215\" r=\"205\" fill=\"none\" stroke=\"black\" stroke-width=\"2\" stroke-dasharray=\"3,3\"/> <circle cx=\"77\" cy=\"184\" r=\"10\" fill=\"rgb(255,255,255)\" class=\"agent_0_1\"/><circle cx=\"137\" cy=\"125\" r=\"12\" fill=\"rgb(255,255,255)\" class=\"agent_0_5\"/><circle cx=\"139\" cy=\"54\" r=\"10\" fill=\"rgb(255,255,255)\" class=\"agent_0_12\"/><circle cx=\"211\" cy=\"194\" r=\"11\" fill=\"rgb(255,255,255)\" class=\"agent_0_16\"/><circle cx=\"296\" cy=\"163\" r=\"10\" fill=\"rgb(255,0,0)\" class=\"agent_0_33\"/><circle cx=\"227\" cy=\"349\" r=\"8\" fill=\"rgb(255,255,255)\" class=\"agent_0_50\"/><circle cx=\"356\" cy=\"148\" r=\"11\" fill=\"rgb(255,255,255)\" class=\"agent_0_77\"/></svg><svg viewBox='0 0 430 430' id=\"svg\" width=\"172\" height=\"172\"><circle cx=\"215\" cy=\"215\" r=\"205\" fill=\"none\" stroke=\"black\" stroke-width=\"2\" stroke-dasharray=\"3,3\"/> <circle cx=\"77\" cy=\"184\" r=\"10\" fill=\"rgb(255,255,255)\" class=\"agent_0_1\"/><circle cx=\"137\" cy=\"125\" r=\"12\" fill=\"rgb(255,255,255)\" class=\"agent_0_5\"/><circle cx=\"139\" cy=\"54\" r=\"10\" fill=\"rgb(255,255,255)\" class=\"agent_0_12\"/><circle cx=\"211\" cy=\"194\" r=\"11\" fill=\"rgb(255,255,255)\" class=\"agent_0_16\"/><circle cx=\"296\" cy=\"163\" r=\"10\" fill=\"rgb(255,255,255)\" class=\"agent_0_33\"/><circle cx=\"227\" cy=\"349\" r=\"8\" fill=\"rgb(255,255,255)\" class=\"agent_0_50\"/><circle cx=\"356\" cy=\"148\" r=\"11\" fill=\"rgb(255,0,0)\" class=\"agent_0_77\"/></svg><svg viewBox='0 0 430 430' id=\"svg\" width=\"172\" height=\"172\"><circle cx=\"215\" cy=\"215\" r=\"205\" fill=\"none\" stroke=\"black\" stroke-width=\"2\" stroke-dasharray=\"3,3\"/> <circle cx=\"77\" cy=\"184\" r=\"10\" fill=\"rgb(255,255,255)\" class=\"agent_0_1\"/><circle cx=\"137\" cy=\"125\" r=\"12\" fill=\"rgb(255,255,255)\" class=\"agent_0_5\"/><circle cx=\"139\" cy=\"54\" r=\"10\" fill=\"rgb(255,255,255)\" class=\"agent_0_12\"/><circle cx=\"211\" cy=\"194\" r=\"11\" fill=\"rgb(255,255,255)\" class=\"agent_0_16\"/><circle cx=\"296\" cy=\"163\" r=\"10\" fill=\"rgb(255,0,0)\" class=\"agent_0_33\"/><circle cx=\"227\" cy=\"349\" r=\"8\" fill=\"rgb(255,255,255)\" class=\"agent_0_50\"/><circle cx=\"356\" cy=\"148\" r=\"11\" fill=\"rgb(255,255,255)\" class=\"agent_0_77\"/></svg><svg viewBox='0 0 430 430' id=\"svg\" width=\"172\" height=\"172\"><circle cx=\"215\" cy=\"215\" r=\"205\" fill=\"none\" stroke=\"black\" stroke-width=\"2\" stroke-dasharray=\"3,3\"/> <circle cx=\"77\" cy=\"184\" r=\"10\" fill=\"rgb(255,255,255)\" class=\"agent_0_1\"/><circle cx=\"137\" cy=\"125\" r=\"12\" fill=\"rgb(255,255,255)\" class=\"agent_0_5\"/><circle cx=\"139\" cy=\"54\" r=\"10\" fill=\"rgb(255,255,255)\" class=\"agent_0_12\"/><circle cx=\"211\" cy=\"194\" r=\"11\" fill=\"rgb(255,255,255)\" class=\"agent_0_16\"/><circle cx=\"296\" cy=\"163\" r=\"10\" fill=\"rgb(255,0,0)\" class=\"agent_0_33\"/><circle cx=\"227\" cy=\"349\" r=\"8\" fill=\"rgb(255,255,255)\" class=\"agent_0_50\"/><circle cx=\"356\" cy=\"148\" r=\"11\" fill=\"rgb(255,255,255)\" class=\"agent_0_77\"/></svg></div>"
      ],
      "text/plain": [
       "<IPython.core.display.HTML object>"
      ]
     },
     "metadata": {},
     "output_type": "display_data"
    },
    {
     "name": "stdout",
     "output_type": "stream",
     "text": [
      "\n",
      "----------------------------------------\n",
      "\n"
     ]
    }
   ],
   "source": [
    "force_contexts_and_mentions(5)"
   ]
  },
  {
   "cell_type": "code",
   "execution_count": 52,
   "metadata": {
    "scrolled": false
   },
   "outputs": [
    {
     "name": "stdout",
     "output_type": "stream",
     "text": [
      "to_mention_true\n"
     ]
    },
    {
     "data": {
      "text/html": [
       "<div style=\"white-space: nowrap\"><svg viewbox='0 0 430 430' width=\"172\" height=\"172\" id=\"agent_1\"><circle cx=\"215\" cy=\"215\" r=\"205\" fill=\"none\" stroke=\"black\" stroke-width=\"2\" stroke-dasharray=\"3,3\"/><circle cx=\"168\" cy=\"330\" r=\"8\" fill=\"rgb(180,180,180)\"/><circle cx=\"284\" cy=\"208\" r=\"13\" fill=\"rgb(130,130,130)\"/><circle cx=\"391\" cy=\"235\" r=\"12\" fill=\"rgb(58,58,58)\"/><circle cx=\"390\" cy=\"271\" r=\"8\" fill=\"rgb(93,93,93)\"/><circle cx=\"48\" cy=\"175\" r=\"9\" fill=\"rgb(148,148,148)\"/><circle cx=\"123\" cy=\"187\" r=\"9\" fill=\"rgb(99,99,99)\"/><circle cx=\"325\" cy=\"298\" r=\"11\" fill=\"rgb(175,175,175)\"/></svg><svg viewBox='0 0 430 430' id=\"svg\" width=\"172\" height=\"172\"><circle cx=\"215\" cy=\"215\" r=\"205\" fill=\"none\" stroke=\"black\" stroke-width=\"2\" stroke-dasharray=\"3,3\"/> <circle cx=\"168\" cy=\"330\" r=\"8\" fill=\"rgb(255,255,255)\" class=\"agent_1_1\"/><circle cx=\"284\" cy=\"208\" r=\"13\" fill=\"rgb(255,0,0)\" class=\"agent_1_4\"/><circle cx=\"391\" cy=\"235\" r=\"12\" fill=\"rgb(255,255,255)\" class=\"agent_1_7\"/><circle cx=\"390\" cy=\"271\" r=\"8\" fill=\"rgb(255,255,255)\" class=\"agent_1_8\"/><circle cx=\"48\" cy=\"175\" r=\"9\" fill=\"rgb(255,255,255)\" class=\"agent_1_31\"/><circle cx=\"123\" cy=\"187\" r=\"9\" fill=\"rgb(255,255,255)\" class=\"agent_1_41\"/><circle cx=\"325\" cy=\"298\" r=\"11\" fill=\"rgb(255,255,255)\" class=\"agent_1_47\"/></svg><svg viewBox='0 0 430 430' id=\"svg\" width=\"172\" height=\"172\"><circle cx=\"215\" cy=\"215\" r=\"205\" fill=\"none\" stroke=\"black\" stroke-width=\"2\" stroke-dasharray=\"3,3\"/> <circle cx=\"168\" cy=\"330\" r=\"8\" fill=\"rgb(255,255,255)\" class=\"agent_1_1\"/><circle cx=\"284\" cy=\"208\" r=\"13\" fill=\"rgb(255,255,255)\" class=\"agent_1_4\"/><circle cx=\"391\" cy=\"235\" r=\"12\" fill=\"rgb(255,255,255)\" class=\"agent_1_7\"/><circle cx=\"390\" cy=\"271\" r=\"8\" fill=\"rgb(255,255,255)\" class=\"agent_1_8\"/><circle cx=\"48\" cy=\"175\" r=\"9\" fill=\"rgb(255,255,255)\" class=\"agent_1_31\"/><circle cx=\"123\" cy=\"187\" r=\"9\" fill=\"rgb(255,255,255)\" class=\"agent_1_41\"/><circle cx=\"325\" cy=\"298\" r=\"11\" fill=\"rgb(255,0,0)\" class=\"agent_1_47\"/></svg></div>"
      ],
      "text/plain": [
       "<IPython.core.display.HTML object>"
      ]
     },
     "metadata": {},
     "output_type": "display_data"
    },
    {
     "name": "stdout",
     "output_type": "stream",
     "text": [
      "to_mention_pred\n"
     ]
    },
    {
     "data": {
      "text/html": [
       "<div style=\"white-space: nowrap\"><svg viewbox='0 0 430 430' width=\"172\" height=\"172\" id=\"agent_1\"><circle cx=\"215\" cy=\"215\" r=\"205\" fill=\"none\" stroke=\"black\" stroke-width=\"2\" stroke-dasharray=\"3,3\"/><circle cx=\"168\" cy=\"330\" r=\"8\" fill=\"rgb(180,180,180)\"/><circle cx=\"284\" cy=\"208\" r=\"13\" fill=\"rgb(130,130,130)\"/><circle cx=\"391\" cy=\"235\" r=\"12\" fill=\"rgb(58,58,58)\"/><circle cx=\"390\" cy=\"271\" r=\"8\" fill=\"rgb(93,93,93)\"/><circle cx=\"48\" cy=\"175\" r=\"9\" fill=\"rgb(148,148,148)\"/><circle cx=\"123\" cy=\"187\" r=\"9\" fill=\"rgb(99,99,99)\"/><circle cx=\"325\" cy=\"298\" r=\"11\" fill=\"rgb(175,175,175)\"/></svg><svg viewBox='0 0 430 430' id=\"svg\" width=\"172\" height=\"172\"><circle cx=\"215\" cy=\"215\" r=\"205\" fill=\"none\" stroke=\"black\" stroke-width=\"2\" stroke-dasharray=\"3,3\"/> <circle cx=\"168\" cy=\"330\" r=\"8\" fill=\"rgb(255,255,255)\" class=\"agent_1_1\"/><circle cx=\"284\" cy=\"208\" r=\"13\" fill=\"rgb(255,255,255)\" class=\"agent_1_4\"/><circle cx=\"391\" cy=\"235\" r=\"12\" fill=\"rgb(255,0,0)\" class=\"agent_1_7\"/><circle cx=\"390\" cy=\"271\" r=\"8\" fill=\"rgb(255,0,0)\" class=\"agent_1_8\"/><circle cx=\"48\" cy=\"175\" r=\"9\" fill=\"rgb(255,255,255)\" class=\"agent_1_31\"/><circle cx=\"123\" cy=\"187\" r=\"9\" fill=\"rgb(255,255,255)\" class=\"agent_1_41\"/><circle cx=\"325\" cy=\"298\" r=\"11\" fill=\"rgb(255,255,255)\" class=\"agent_1_47\"/></svg><svg viewBox='0 0 430 430' id=\"svg\" width=\"172\" height=\"172\"><circle cx=\"215\" cy=\"215\" r=\"205\" fill=\"none\" stroke=\"black\" stroke-width=\"2\" stroke-dasharray=\"3,3\"/> <circle cx=\"168\" cy=\"330\" r=\"8\" fill=\"rgb(255,255,255)\" class=\"agent_1_1\"/><circle cx=\"284\" cy=\"208\" r=\"13\" fill=\"rgb(255,255,255)\" class=\"agent_1_4\"/><circle cx=\"391\" cy=\"235\" r=\"12\" fill=\"rgb(255,0,0)\" class=\"agent_1_7\"/><circle cx=\"390\" cy=\"271\" r=\"8\" fill=\"rgb(255,255,255)\" class=\"agent_1_8\"/><circle cx=\"48\" cy=\"175\" r=\"9\" fill=\"rgb(255,255,255)\" class=\"agent_1_31\"/><circle cx=\"123\" cy=\"187\" r=\"9\" fill=\"rgb(255,255,255)\" class=\"agent_1_41\"/><circle cx=\"325\" cy=\"298\" r=\"11\" fill=\"rgb(255,255,255)\" class=\"agent_1_47\"/></svg></div>"
      ],
      "text/plain": [
       "<IPython.core.display.HTML object>"
      ]
     },
     "metadata": {},
     "output_type": "display_data"
    },
    {
     "name": "stdout",
     "output_type": "stream",
     "text": [
      "sample 0\tlarge dark grey dot with a lighter gray dot to the left and slightly above ? <eos>\n",
      "sample 1\ti have a large dark grey dot with a lighter grey dot to the left and slightly above <eos>\n",
      "sample 2\tlarge dark grey dot with a light grey dot to the right <eos>\n",
      "sample 3\ti have a large dark grey dot with a slightly smaller light grey dot to the right and slightly above <eos>\n",
      "sample 4\ti have a large dark grey dot with a slightly smaller light grey dot to the right and slightly above <eos>\n",
      "sample 5\ti see a large dark grey dot with a slightly smaller light grey dot to the right and slightly above <eos>\n",
      "sample 6\tlarge dark grey dot with a slightly smaller light grey dot to the left and slightly above <eos>\n",
      "sample 7\tlarge dark grey dot with a light gray dot just to the right and slightly above ? <eos>\n",
      "sample 8\ti have a large dark grey dot with a slightly smaller lighter dot to the left and slightly above <eos>\n",
      "sample 9\ti have a large dark grey dot with a slightly smaller light grey dot to the right and down <eos>\n",
      "argmax\ti have a large dark grey dot with a slightly smaller light grey dot to the right and slightly above <eos>\n",
      "human\tdo you have one large dark grey dot next to a slightly smaller and slightly lighter one ? <eos>\n",
      "refs_true\n"
     ]
    },
    {
     "data": {
      "text/html": [
       "<div style=\"white-space: nowrap\"><svg viewbox='0 0 430 430' width=\"172\" height=\"172\" id=\"agent_1\"><circle cx=\"215\" cy=\"215\" r=\"205\" fill=\"none\" stroke=\"black\" stroke-width=\"2\" stroke-dasharray=\"3,3\"/><circle cx=\"168\" cy=\"330\" r=\"8\" fill=\"rgb(180,180,180)\"/><circle cx=\"284\" cy=\"208\" r=\"13\" fill=\"rgb(130,130,130)\"/><circle cx=\"391\" cy=\"235\" r=\"12\" fill=\"rgb(58,58,58)\"/><circle cx=\"390\" cy=\"271\" r=\"8\" fill=\"rgb(93,93,93)\"/><circle cx=\"48\" cy=\"175\" r=\"9\" fill=\"rgb(148,148,148)\"/><circle cx=\"123\" cy=\"187\" r=\"9\" fill=\"rgb(99,99,99)\"/><circle cx=\"325\" cy=\"298\" r=\"11\" fill=\"rgb(175,175,175)\"/></svg><svg viewBox='0 0 430 430' id=\"svg\" width=\"172\" height=\"172\"><circle cx=\"215\" cy=\"215\" r=\"205\" fill=\"none\" stroke=\"black\" stroke-width=\"2\" stroke-dasharray=\"3,3\"/> <circle cx=\"168\" cy=\"330\" r=\"8\" fill=\"rgb(255,255,255)\" class=\"agent_1_1\"/><circle cx=\"284\" cy=\"208\" r=\"13\" fill=\"rgb(255,0,0)\" class=\"agent_1_4\"/><circle cx=\"391\" cy=\"235\" r=\"12\" fill=\"rgb(255,255,255)\" class=\"agent_1_7\"/><circle cx=\"390\" cy=\"271\" r=\"8\" fill=\"rgb(255,255,255)\" class=\"agent_1_8\"/><circle cx=\"48\" cy=\"175\" r=\"9\" fill=\"rgb(255,255,255)\" class=\"agent_1_31\"/><circle cx=\"123\" cy=\"187\" r=\"9\" fill=\"rgb(255,255,255)\" class=\"agent_1_41\"/><circle cx=\"325\" cy=\"298\" r=\"11\" fill=\"rgb(255,255,255)\" class=\"agent_1_47\"/></svg><svg viewBox='0 0 430 430' id=\"svg\" width=\"172\" height=\"172\"><circle cx=\"215\" cy=\"215\" r=\"205\" fill=\"none\" stroke=\"black\" stroke-width=\"2\" stroke-dasharray=\"3,3\"/> <circle cx=\"168\" cy=\"330\" r=\"8\" fill=\"rgb(255,255,255)\" class=\"agent_1_1\"/><circle cx=\"284\" cy=\"208\" r=\"13\" fill=\"rgb(255,255,255)\" class=\"agent_1_4\"/><circle cx=\"391\" cy=\"235\" r=\"12\" fill=\"rgb(255,255,255)\" class=\"agent_1_7\"/><circle cx=\"390\" cy=\"271\" r=\"8\" fill=\"rgb(255,255,255)\" class=\"agent_1_8\"/><circle cx=\"48\" cy=\"175\" r=\"9\" fill=\"rgb(255,255,255)\" class=\"agent_1_31\"/><circle cx=\"123\" cy=\"187\" r=\"9\" fill=\"rgb(255,255,255)\" class=\"agent_1_41\"/><circle cx=\"325\" cy=\"298\" r=\"11\" fill=\"rgb(255,0,0)\" class=\"agent_1_47\"/></svg></div>"
      ],
      "text/plain": [
       "<IPython.core.display.HTML object>"
      ]
     },
     "metadata": {},
     "output_type": "display_data"
    },
    {
     "name": "stdout",
     "output_type": "stream",
     "text": [
      "refs_pred\n"
     ]
    },
    {
     "data": {
      "text/html": [
       "<div style=\"white-space: nowrap\"><svg viewbox='0 0 430 430' width=\"172\" height=\"172\" id=\"agent_1\"><circle cx=\"215\" cy=\"215\" r=\"205\" fill=\"none\" stroke=\"black\" stroke-width=\"2\" stroke-dasharray=\"3,3\"/><circle cx=\"168\" cy=\"330\" r=\"8\" fill=\"rgb(180,180,180)\"/><circle cx=\"284\" cy=\"208\" r=\"13\" fill=\"rgb(130,130,130)\"/><circle cx=\"391\" cy=\"235\" r=\"12\" fill=\"rgb(58,58,58)\"/><circle cx=\"390\" cy=\"271\" r=\"8\" fill=\"rgb(93,93,93)\"/><circle cx=\"48\" cy=\"175\" r=\"9\" fill=\"rgb(148,148,148)\"/><circle cx=\"123\" cy=\"187\" r=\"9\" fill=\"rgb(99,99,99)\"/><circle cx=\"325\" cy=\"298\" r=\"11\" fill=\"rgb(175,175,175)\"/></svg><svg viewBox='0 0 430 430' id=\"svg\" width=\"172\" height=\"172\"><circle cx=\"215\" cy=\"215\" r=\"205\" fill=\"none\" stroke=\"black\" stroke-width=\"2\" stroke-dasharray=\"3,3\"/> <circle cx=\"168\" cy=\"330\" r=\"8\" fill=\"rgb(255,255,255)\" class=\"agent_1_1\"/><circle cx=\"284\" cy=\"208\" r=\"13\" fill=\"rgb(255,255,255)\" class=\"agent_1_4\"/><circle cx=\"391\" cy=\"235\" r=\"12\" fill=\"rgb(255,0,0)\" class=\"agent_1_7\"/><circle cx=\"390\" cy=\"271\" r=\"8\" fill=\"rgb(255,255,255)\" class=\"agent_1_8\"/><circle cx=\"48\" cy=\"175\" r=\"9\" fill=\"rgb(255,255,255)\" class=\"agent_1_31\"/><circle cx=\"123\" cy=\"187\" r=\"9\" fill=\"rgb(255,255,255)\" class=\"agent_1_41\"/><circle cx=\"325\" cy=\"298\" r=\"11\" fill=\"rgb(255,255,255)\" class=\"agent_1_47\"/></svg><svg viewBox='0 0 430 430' id=\"svg\" width=\"172\" height=\"172\"><circle cx=\"215\" cy=\"215\" r=\"205\" fill=\"none\" stroke=\"black\" stroke-width=\"2\" stroke-dasharray=\"3,3\"/> <circle cx=\"168\" cy=\"330\" r=\"8\" fill=\"rgb(255,255,255)\" class=\"agent_1_1\"/><circle cx=\"284\" cy=\"208\" r=\"13\" fill=\"rgb(255,255,255)\" class=\"agent_1_4\"/><circle cx=\"391\" cy=\"235\" r=\"12\" fill=\"rgb(255,255,255)\" class=\"agent_1_7\"/><circle cx=\"390\" cy=\"271\" r=\"8\" fill=\"rgb(255,0,0)\" class=\"agent_1_8\"/><circle cx=\"48\" cy=\"175\" r=\"9\" fill=\"rgb(255,255,255)\" class=\"agent_1_31\"/><circle cx=\"123\" cy=\"187\" r=\"9\" fill=\"rgb(255,255,255)\" class=\"agent_1_41\"/><circle cx=\"325\" cy=\"298\" r=\"11\" fill=\"rgb(255,255,255)\" class=\"agent_1_47\"/></svg></div>"
      ],
      "text/plain": [
       "<IPython.core.display.HTML object>"
      ]
     },
     "metadata": {},
     "output_type": "display_data"
    },
    {
     "name": "stdout",
     "output_type": "stream",
     "text": [
      "\n",
      "----------------------------------------\n",
      "\n",
      "human\tTHEM: do you have a large dark grey , and an inch to it 's right , slightly lower is a black one that 's a bit smaller ? there 's a tiny dark one directly below the black one <eos>\n",
      "partner_refs_true\n"
     ]
    },
    {
     "data": {
      "text/html": [
       "<div style=\"white-space: nowrap\"><svg viewbox='0 0 430 430' width=\"172\" height=\"172\" id=\"agent_1\"><circle cx=\"215\" cy=\"215\" r=\"205\" fill=\"none\" stroke=\"black\" stroke-width=\"2\" stroke-dasharray=\"3,3\"/><circle cx=\"168\" cy=\"330\" r=\"8\" fill=\"rgb(180,180,180)\"/><circle cx=\"284\" cy=\"208\" r=\"13\" fill=\"rgb(130,130,130)\"/><circle cx=\"391\" cy=\"235\" r=\"12\" fill=\"rgb(58,58,58)\"/><circle cx=\"390\" cy=\"271\" r=\"8\" fill=\"rgb(93,93,93)\"/><circle cx=\"48\" cy=\"175\" r=\"9\" fill=\"rgb(148,148,148)\"/><circle cx=\"123\" cy=\"187\" r=\"9\" fill=\"rgb(99,99,99)\"/><circle cx=\"325\" cy=\"298\" r=\"11\" fill=\"rgb(175,175,175)\"/></svg><svg viewBox='0 0 430 430' id=\"svg\" width=\"172\" height=\"172\"><circle cx=\"215\" cy=\"215\" r=\"205\" fill=\"none\" stroke=\"black\" stroke-width=\"2\" stroke-dasharray=\"3,3\"/> <circle cx=\"168\" cy=\"330\" r=\"8\" fill=\"rgb(255,255,255)\" class=\"agent_1_1\"/><circle cx=\"284\" cy=\"208\" r=\"13\" fill=\"rgb(255,0,0)\" class=\"agent_1_4\"/><circle cx=\"391\" cy=\"235\" r=\"12\" fill=\"rgb(255,255,255)\" class=\"agent_1_7\"/><circle cx=\"390\" cy=\"271\" r=\"8\" fill=\"rgb(255,255,255)\" class=\"agent_1_8\"/><circle cx=\"48\" cy=\"175\" r=\"9\" fill=\"rgb(255,255,255)\" class=\"agent_1_31\"/><circle cx=\"123\" cy=\"187\" r=\"9\" fill=\"rgb(255,255,255)\" class=\"agent_1_41\"/><circle cx=\"325\" cy=\"298\" r=\"11\" fill=\"rgb(255,255,255)\" class=\"agent_1_47\"/></svg><svg viewBox='0 0 430 430' id=\"svg\" width=\"172\" height=\"172\"><circle cx=\"215\" cy=\"215\" r=\"205\" fill=\"none\" stroke=\"black\" stroke-width=\"2\" stroke-dasharray=\"3,3\"/> <circle cx=\"168\" cy=\"330\" r=\"8\" fill=\"rgb(255,255,255)\" class=\"agent_1_1\"/><circle cx=\"284\" cy=\"208\" r=\"13\" fill=\"rgb(255,0,0)\" class=\"agent_1_4\"/><circle cx=\"391\" cy=\"235\" r=\"12\" fill=\"rgb(255,255,255)\" class=\"agent_1_7\"/><circle cx=\"390\" cy=\"271\" r=\"8\" fill=\"rgb(255,255,255)\" class=\"agent_1_8\"/><circle cx=\"48\" cy=\"175\" r=\"9\" fill=\"rgb(255,255,255)\" class=\"agent_1_31\"/><circle cx=\"123\" cy=\"187\" r=\"9\" fill=\"rgb(255,255,255)\" class=\"agent_1_41\"/><circle cx=\"325\" cy=\"298\" r=\"11\" fill=\"rgb(255,255,255)\" class=\"agent_1_47\"/></svg><svg viewBox='0 0 430 430' id=\"svg\" width=\"172\" height=\"172\"><circle cx=\"215\" cy=\"215\" r=\"205\" fill=\"none\" stroke=\"black\" stroke-width=\"2\" stroke-dasharray=\"3,3\"/> <circle cx=\"168\" cy=\"330\" r=\"8\" fill=\"rgb(255,255,255)\" class=\"agent_1_1\"/><circle cx=\"284\" cy=\"208\" r=\"13\" fill=\"rgb(255,255,255)\" class=\"agent_1_4\"/><circle cx=\"391\" cy=\"235\" r=\"12\" fill=\"rgb(255,0,0)\" class=\"agent_1_7\"/><circle cx=\"390\" cy=\"271\" r=\"8\" fill=\"rgb(255,255,255)\" class=\"agent_1_8\"/><circle cx=\"48\" cy=\"175\" r=\"9\" fill=\"rgb(255,255,255)\" class=\"agent_1_31\"/><circle cx=\"123\" cy=\"187\" r=\"9\" fill=\"rgb(255,255,255)\" class=\"agent_1_41\"/><circle cx=\"325\" cy=\"298\" r=\"11\" fill=\"rgb(255,255,255)\" class=\"agent_1_47\"/></svg><svg viewBox='0 0 430 430' id=\"svg\" width=\"172\" height=\"172\"><circle cx=\"215\" cy=\"215\" r=\"205\" fill=\"none\" stroke=\"black\" stroke-width=\"2\" stroke-dasharray=\"3,3\"/> <circle cx=\"168\" cy=\"330\" r=\"8\" fill=\"rgb(255,255,255)\" class=\"agent_1_1\"/><circle cx=\"284\" cy=\"208\" r=\"13\" fill=\"rgb(255,255,255)\" class=\"agent_1_4\"/><circle cx=\"391\" cy=\"235\" r=\"12\" fill=\"rgb(255,255,255)\" class=\"agent_1_7\"/><circle cx=\"390\" cy=\"271\" r=\"8\" fill=\"rgb(255,0,0)\" class=\"agent_1_8\"/><circle cx=\"48\" cy=\"175\" r=\"9\" fill=\"rgb(255,255,255)\" class=\"agent_1_31\"/><circle cx=\"123\" cy=\"187\" r=\"9\" fill=\"rgb(255,255,255)\" class=\"agent_1_41\"/><circle cx=\"325\" cy=\"298\" r=\"11\" fill=\"rgb(255,255,255)\" class=\"agent_1_47\"/></svg><svg viewBox='0 0 430 430' id=\"svg\" width=\"172\" height=\"172\"><circle cx=\"215\" cy=\"215\" r=\"205\" fill=\"none\" stroke=\"black\" stroke-width=\"2\" stroke-dasharray=\"3,3\"/> <circle cx=\"168\" cy=\"330\" r=\"8\" fill=\"rgb(255,255,255)\" class=\"agent_1_1\"/><circle cx=\"284\" cy=\"208\" r=\"13\" fill=\"rgb(255,255,255)\" class=\"agent_1_4\"/><circle cx=\"391\" cy=\"235\" r=\"12\" fill=\"rgb(255,0,0)\" class=\"agent_1_7\"/><circle cx=\"390\" cy=\"271\" r=\"8\" fill=\"rgb(255,255,255)\" class=\"agent_1_8\"/><circle cx=\"48\" cy=\"175\" r=\"9\" fill=\"rgb(255,255,255)\" class=\"agent_1_31\"/><circle cx=\"123\" cy=\"187\" r=\"9\" fill=\"rgb(255,255,255)\" class=\"agent_1_41\"/><circle cx=\"325\" cy=\"298\" r=\"11\" fill=\"rgb(255,255,255)\" class=\"agent_1_47\"/></svg></div>"
      ],
      "text/plain": [
       "<IPython.core.display.HTML object>"
      ]
     },
     "metadata": {},
     "output_type": "display_data"
    },
    {
     "name": "stdout",
     "output_type": "stream",
     "text": [
      "partner_refs_pred\n"
     ]
    },
    {
     "data": {
      "text/html": [
       "<div style=\"white-space: nowrap\"><svg viewbox='0 0 430 430' width=\"172\" height=\"172\" id=\"agent_1\"><circle cx=\"215\" cy=\"215\" r=\"205\" fill=\"none\" stroke=\"black\" stroke-width=\"2\" stroke-dasharray=\"3,3\"/><circle cx=\"168\" cy=\"330\" r=\"8\" fill=\"rgb(180,180,180)\"/><circle cx=\"284\" cy=\"208\" r=\"13\" fill=\"rgb(130,130,130)\"/><circle cx=\"391\" cy=\"235\" r=\"12\" fill=\"rgb(58,58,58)\"/><circle cx=\"390\" cy=\"271\" r=\"8\" fill=\"rgb(93,93,93)\"/><circle cx=\"48\" cy=\"175\" r=\"9\" fill=\"rgb(148,148,148)\"/><circle cx=\"123\" cy=\"187\" r=\"9\" fill=\"rgb(99,99,99)\"/><circle cx=\"325\" cy=\"298\" r=\"11\" fill=\"rgb(175,175,175)\"/></svg><svg viewBox='0 0 430 430' id=\"svg\" width=\"172\" height=\"172\"><circle cx=\"215\" cy=\"215\" r=\"205\" fill=\"none\" stroke=\"black\" stroke-width=\"2\" stroke-dasharray=\"3,3\"/> <circle cx=\"168\" cy=\"330\" r=\"8\" fill=\"rgb(255,255,255)\" class=\"agent_1_1\"/><circle cx=\"284\" cy=\"208\" r=\"13\" fill=\"rgb(255,0,0)\" class=\"agent_1_4\"/><circle cx=\"391\" cy=\"235\" r=\"12\" fill=\"rgb(255,255,255)\" class=\"agent_1_7\"/><circle cx=\"390\" cy=\"271\" r=\"8\" fill=\"rgb(255,255,255)\" class=\"agent_1_8\"/><circle cx=\"48\" cy=\"175\" r=\"9\" fill=\"rgb(255,255,255)\" class=\"agent_1_31\"/><circle cx=\"123\" cy=\"187\" r=\"9\" fill=\"rgb(255,255,255)\" class=\"agent_1_41\"/><circle cx=\"325\" cy=\"298\" r=\"11\" fill=\"rgb(255,255,255)\" class=\"agent_1_47\"/></svg><svg viewBox='0 0 430 430' id=\"svg\" width=\"172\" height=\"172\"><circle cx=\"215\" cy=\"215\" r=\"205\" fill=\"none\" stroke=\"black\" stroke-width=\"2\" stroke-dasharray=\"3,3\"/> <circle cx=\"168\" cy=\"330\" r=\"8\" fill=\"rgb(255,255,255)\" class=\"agent_1_1\"/><circle cx=\"284\" cy=\"208\" r=\"13\" fill=\"rgb(255,0,0)\" class=\"agent_1_4\"/><circle cx=\"391\" cy=\"235\" r=\"12\" fill=\"rgb(255,255,255)\" class=\"agent_1_7\"/><circle cx=\"390\" cy=\"271\" r=\"8\" fill=\"rgb(255,255,255)\" class=\"agent_1_8\"/><circle cx=\"48\" cy=\"175\" r=\"9\" fill=\"rgb(255,255,255)\" class=\"agent_1_31\"/><circle cx=\"123\" cy=\"187\" r=\"9\" fill=\"rgb(255,255,255)\" class=\"agent_1_41\"/><circle cx=\"325\" cy=\"298\" r=\"11\" fill=\"rgb(255,255,255)\" class=\"agent_1_47\"/></svg><svg viewBox='0 0 430 430' id=\"svg\" width=\"172\" height=\"172\"><circle cx=\"215\" cy=\"215\" r=\"205\" fill=\"none\" stroke=\"black\" stroke-width=\"2\" stroke-dasharray=\"3,3\"/> <circle cx=\"168\" cy=\"330\" r=\"8\" fill=\"rgb(255,255,255)\" class=\"agent_1_1\"/><circle cx=\"284\" cy=\"208\" r=\"13\" fill=\"rgb(255,255,255)\" class=\"agent_1_4\"/><circle cx=\"391\" cy=\"235\" r=\"12\" fill=\"rgb(255,0,0)\" class=\"agent_1_7\"/><circle cx=\"390\" cy=\"271\" r=\"8\" fill=\"rgb(255,255,255)\" class=\"agent_1_8\"/><circle cx=\"48\" cy=\"175\" r=\"9\" fill=\"rgb(255,255,255)\" class=\"agent_1_31\"/><circle cx=\"123\" cy=\"187\" r=\"9\" fill=\"rgb(255,255,255)\" class=\"agent_1_41\"/><circle cx=\"325\" cy=\"298\" r=\"11\" fill=\"rgb(255,255,255)\" class=\"agent_1_47\"/></svg><svg viewBox='0 0 430 430' id=\"svg\" width=\"172\" height=\"172\"><circle cx=\"215\" cy=\"215\" r=\"205\" fill=\"none\" stroke=\"black\" stroke-width=\"2\" stroke-dasharray=\"3,3\"/> <circle cx=\"168\" cy=\"330\" r=\"8\" fill=\"rgb(255,255,255)\" class=\"agent_1_1\"/><circle cx=\"284\" cy=\"208\" r=\"13\" fill=\"rgb(255,255,255)\" class=\"agent_1_4\"/><circle cx=\"391\" cy=\"235\" r=\"12\" fill=\"rgb(255,255,255)\" class=\"agent_1_7\"/><circle cx=\"390\" cy=\"271\" r=\"8\" fill=\"rgb(255,255,255)\" class=\"agent_1_8\"/><circle cx=\"48\" cy=\"175\" r=\"9\" fill=\"rgb(255,255,255)\" class=\"agent_1_31\"/><circle cx=\"123\" cy=\"187\" r=\"9\" fill=\"rgb(255,255,255)\" class=\"agent_1_41\"/><circle cx=\"325\" cy=\"298\" r=\"11\" fill=\"rgb(255,255,255)\" class=\"agent_1_47\"/></svg><svg viewBox='0 0 430 430' id=\"svg\" width=\"172\" height=\"172\"><circle cx=\"215\" cy=\"215\" r=\"205\" fill=\"none\" stroke=\"black\" stroke-width=\"2\" stroke-dasharray=\"3,3\"/> <circle cx=\"168\" cy=\"330\" r=\"8\" fill=\"rgb(255,255,255)\" class=\"agent_1_1\"/><circle cx=\"284\" cy=\"208\" r=\"13\" fill=\"rgb(255,255,255)\" class=\"agent_1_4\"/><circle cx=\"391\" cy=\"235\" r=\"12\" fill=\"rgb(255,255,255)\" class=\"agent_1_7\"/><circle cx=\"390\" cy=\"271\" r=\"8\" fill=\"rgb(255,255,255)\" class=\"agent_1_8\"/><circle cx=\"48\" cy=\"175\" r=\"9\" fill=\"rgb(255,255,255)\" class=\"agent_1_31\"/><circle cx=\"123\" cy=\"187\" r=\"9\" fill=\"rgb(255,255,255)\" class=\"agent_1_41\"/><circle cx=\"325\" cy=\"298\" r=\"11\" fill=\"rgb(255,255,255)\" class=\"agent_1_47\"/></svg></div>"
      ],
      "text/plain": [
       "<IPython.core.display.HTML object>"
      ]
     },
     "metadata": {},
     "output_type": "display_data"
    },
    {
     "name": "stdout",
     "output_type": "stream",
     "text": [
      "\n",
      "----------------------------------------\n",
      "\n",
      "to_mention_true\n"
     ]
    },
    {
     "data": {
      "text/html": [
       "<div style=\"white-space: nowrap\"><svg viewbox='0 0 430 430' width=\"172\" height=\"172\" id=\"agent_1\"><circle cx=\"215\" cy=\"215\" r=\"205\" fill=\"none\" stroke=\"black\" stroke-width=\"2\" stroke-dasharray=\"3,3\"/><circle cx=\"168\" cy=\"330\" r=\"8\" fill=\"rgb(180,180,180)\"/><circle cx=\"284\" cy=\"208\" r=\"13\" fill=\"rgb(130,130,130)\"/><circle cx=\"391\" cy=\"235\" r=\"12\" fill=\"rgb(58,58,58)\"/><circle cx=\"390\" cy=\"271\" r=\"8\" fill=\"rgb(93,93,93)\"/><circle cx=\"48\" cy=\"175\" r=\"9\" fill=\"rgb(148,148,148)\"/><circle cx=\"123\" cy=\"187\" r=\"9\" fill=\"rgb(99,99,99)\"/><circle cx=\"325\" cy=\"298\" r=\"11\" fill=\"rgb(175,175,175)\"/></svg><svg viewBox='0 0 430 430' id=\"svg\" width=\"172\" height=\"172\"><circle cx=\"215\" cy=\"215\" r=\"205\" fill=\"none\" stroke=\"black\" stroke-width=\"2\" stroke-dasharray=\"3,3\"/> <circle cx=\"168\" cy=\"330\" r=\"8\" fill=\"rgb(255,255,255)\" class=\"agent_1_1\"/><circle cx=\"284\" cy=\"208\" r=\"13\" fill=\"rgb(255,0,0)\" class=\"agent_1_4\"/><circle cx=\"391\" cy=\"235\" r=\"12\" fill=\"rgb(255,255,255)\" class=\"agent_1_7\"/><circle cx=\"390\" cy=\"271\" r=\"8\" fill=\"rgb(255,255,255)\" class=\"agent_1_8\"/><circle cx=\"48\" cy=\"175\" r=\"9\" fill=\"rgb(255,255,255)\" class=\"agent_1_31\"/><circle cx=\"123\" cy=\"187\" r=\"9\" fill=\"rgb(255,255,255)\" class=\"agent_1_41\"/><circle cx=\"325\" cy=\"298\" r=\"11\" fill=\"rgb(255,255,255)\" class=\"agent_1_47\"/></svg></div>"
      ],
      "text/plain": [
       "<IPython.core.display.HTML object>"
      ]
     },
     "metadata": {},
     "output_type": "display_data"
    },
    {
     "name": "stdout",
     "output_type": "stream",
     "text": [
      "to_mention_pred\n"
     ]
    },
    {
     "data": {
      "text/html": [
       "<div style=\"white-space: nowrap\"><svg viewbox='0 0 430 430' width=\"172\" height=\"172\" id=\"agent_1\"><circle cx=\"215\" cy=\"215\" r=\"205\" fill=\"none\" stroke=\"black\" stroke-width=\"2\" stroke-dasharray=\"3,3\"/><circle cx=\"168\" cy=\"330\" r=\"8\" fill=\"rgb(180,180,180)\"/><circle cx=\"284\" cy=\"208\" r=\"13\" fill=\"rgb(130,130,130)\"/><circle cx=\"391\" cy=\"235\" r=\"12\" fill=\"rgb(58,58,58)\"/><circle cx=\"390\" cy=\"271\" r=\"8\" fill=\"rgb(93,93,93)\"/><circle cx=\"48\" cy=\"175\" r=\"9\" fill=\"rgb(148,148,148)\"/><circle cx=\"123\" cy=\"187\" r=\"9\" fill=\"rgb(99,99,99)\"/><circle cx=\"325\" cy=\"298\" r=\"11\" fill=\"rgb(175,175,175)\"/></svg><svg viewBox='0 0 430 430' id=\"svg\" width=\"172\" height=\"172\"><circle cx=\"215\" cy=\"215\" r=\"205\" fill=\"none\" stroke=\"black\" stroke-width=\"2\" stroke-dasharray=\"3,3\"/> <circle cx=\"168\" cy=\"330\" r=\"8\" fill=\"rgb(255,255,255)\" class=\"agent_1_1\"/><circle cx=\"284\" cy=\"208\" r=\"13\" fill=\"rgb(255,255,255)\" class=\"agent_1_4\"/><circle cx=\"391\" cy=\"235\" r=\"12\" fill=\"rgb(255,0,0)\" class=\"agent_1_7\"/><circle cx=\"390\" cy=\"271\" r=\"8\" fill=\"rgb(255,255,255)\" class=\"agent_1_8\"/><circle cx=\"48\" cy=\"175\" r=\"9\" fill=\"rgb(255,255,255)\" class=\"agent_1_31\"/><circle cx=\"123\" cy=\"187\" r=\"9\" fill=\"rgb(255,255,255)\" class=\"agent_1_41\"/><circle cx=\"325\" cy=\"298\" r=\"11\" fill=\"rgb(255,255,255)\" class=\"agent_1_47\"/></svg></div>"
      ],
      "text/plain": [
       "<IPython.core.display.HTML object>"
      ]
     },
     "metadata": {},
     "output_type": "display_data"
    },
    {
     "name": "stdout",
     "output_type": "stream",
     "text": [
      "sample 0\tyes , lets choose the large one <selection>\n",
      "sample 1\tyes . let 's pick the large gray one <selection>\n",
      "sample 2\tyes , let 's pick the larger one <selection>\n",
      "sample 3\tyes , lets choose the large one <selection>\n",
      "sample 4\tyes , let 's pick the large one <selection>\n",
      "sample 5\tyes i see that one <eos>\n",
      "sample 6\tyes , lets pick the large one <selection>\n",
      "sample 7\tyes , lets pick the large one <selection>\n",
      "sample 8\tyes , let 's pick the larger one . <selection>\n",
      "sample 9\tyes , let 's pick the large grey dot <selection>\n",
      "argmax\tyes , let 's pick the large one <selection>\n",
      "human\tyes . lets select that one <eos>\n",
      "refs_true\n"
     ]
    },
    {
     "data": {
      "text/html": [
       "<div style=\"white-space: nowrap\"><svg viewbox='0 0 430 430' width=\"172\" height=\"172\" id=\"agent_1\"><circle cx=\"215\" cy=\"215\" r=\"205\" fill=\"none\" stroke=\"black\" stroke-width=\"2\" stroke-dasharray=\"3,3\"/><circle cx=\"168\" cy=\"330\" r=\"8\" fill=\"rgb(180,180,180)\"/><circle cx=\"284\" cy=\"208\" r=\"13\" fill=\"rgb(130,130,130)\"/><circle cx=\"391\" cy=\"235\" r=\"12\" fill=\"rgb(58,58,58)\"/><circle cx=\"390\" cy=\"271\" r=\"8\" fill=\"rgb(93,93,93)\"/><circle cx=\"48\" cy=\"175\" r=\"9\" fill=\"rgb(148,148,148)\"/><circle cx=\"123\" cy=\"187\" r=\"9\" fill=\"rgb(99,99,99)\"/><circle cx=\"325\" cy=\"298\" r=\"11\" fill=\"rgb(175,175,175)\"/></svg><svg viewBox='0 0 430 430' id=\"svg\" width=\"172\" height=\"172\"><circle cx=\"215\" cy=\"215\" r=\"205\" fill=\"none\" stroke=\"black\" stroke-width=\"2\" stroke-dasharray=\"3,3\"/> <circle cx=\"168\" cy=\"330\" r=\"8\" fill=\"rgb(255,255,255)\" class=\"agent_1_1\"/><circle cx=\"284\" cy=\"208\" r=\"13\" fill=\"rgb(255,0,0)\" class=\"agent_1_4\"/><circle cx=\"391\" cy=\"235\" r=\"12\" fill=\"rgb(255,255,255)\" class=\"agent_1_7\"/><circle cx=\"390\" cy=\"271\" r=\"8\" fill=\"rgb(255,255,255)\" class=\"agent_1_8\"/><circle cx=\"48\" cy=\"175\" r=\"9\" fill=\"rgb(255,255,255)\" class=\"agent_1_31\"/><circle cx=\"123\" cy=\"187\" r=\"9\" fill=\"rgb(255,255,255)\" class=\"agent_1_41\"/><circle cx=\"325\" cy=\"298\" r=\"11\" fill=\"rgb(255,255,255)\" class=\"agent_1_47\"/></svg></div>"
      ],
      "text/plain": [
       "<IPython.core.display.HTML object>"
      ]
     },
     "metadata": {},
     "output_type": "display_data"
    },
    {
     "name": "stdout",
     "output_type": "stream",
     "text": [
      "refs_pred\n"
     ]
    },
    {
     "data": {
      "text/html": [
       "<div style=\"white-space: nowrap\"><svg viewbox='0 0 430 430' width=\"172\" height=\"172\" id=\"agent_1\"><circle cx=\"215\" cy=\"215\" r=\"205\" fill=\"none\" stroke=\"black\" stroke-width=\"2\" stroke-dasharray=\"3,3\"/><circle cx=\"168\" cy=\"330\" r=\"8\" fill=\"rgb(180,180,180)\"/><circle cx=\"284\" cy=\"208\" r=\"13\" fill=\"rgb(130,130,130)\"/><circle cx=\"391\" cy=\"235\" r=\"12\" fill=\"rgb(58,58,58)\"/><circle cx=\"390\" cy=\"271\" r=\"8\" fill=\"rgb(93,93,93)\"/><circle cx=\"48\" cy=\"175\" r=\"9\" fill=\"rgb(148,148,148)\"/><circle cx=\"123\" cy=\"187\" r=\"9\" fill=\"rgb(99,99,99)\"/><circle cx=\"325\" cy=\"298\" r=\"11\" fill=\"rgb(175,175,175)\"/></svg><svg viewBox='0 0 430 430' id=\"svg\" width=\"172\" height=\"172\"><circle cx=\"215\" cy=\"215\" r=\"205\" fill=\"none\" stroke=\"black\" stroke-width=\"2\" stroke-dasharray=\"3,3\"/> <circle cx=\"168\" cy=\"330\" r=\"8\" fill=\"rgb(255,255,255)\" class=\"agent_1_1\"/><circle cx=\"284\" cy=\"208\" r=\"13\" fill=\"rgb(255,255,255)\" class=\"agent_1_4\"/><circle cx=\"391\" cy=\"235\" r=\"12\" fill=\"rgb(255,0,0)\" class=\"agent_1_7\"/><circle cx=\"390\" cy=\"271\" r=\"8\" fill=\"rgb(255,255,255)\" class=\"agent_1_8\"/><circle cx=\"48\" cy=\"175\" r=\"9\" fill=\"rgb(255,255,255)\" class=\"agent_1_31\"/><circle cx=\"123\" cy=\"187\" r=\"9\" fill=\"rgb(255,255,255)\" class=\"agent_1_41\"/><circle cx=\"325\" cy=\"298\" r=\"11\" fill=\"rgb(255,255,255)\" class=\"agent_1_47\"/></svg></div>"
      ],
      "text/plain": [
       "<IPython.core.display.HTML object>"
      ]
     },
     "metadata": {},
     "output_type": "display_data"
    },
    {
     "name": "stdout",
     "output_type": "stream",
     "text": [
      "\n",
      "----------------------------------------\n",
      "\n",
      "human\tTHEM: which ? <eos>\n",
      "\n",
      "----------------------------------------\n",
      "\n",
      "to_mention_true\n"
     ]
    },
    {
     "data": {
      "text/html": [
       "<div style=\"white-space: nowrap\"><svg viewbox='0 0 430 430' width=\"172\" height=\"172\" id=\"agent_1\"><circle cx=\"215\" cy=\"215\" r=\"205\" fill=\"none\" stroke=\"black\" stroke-width=\"2\" stroke-dasharray=\"3,3\"/><circle cx=\"168\" cy=\"330\" r=\"8\" fill=\"rgb(180,180,180)\"/><circle cx=\"284\" cy=\"208\" r=\"13\" fill=\"rgb(130,130,130)\"/><circle cx=\"391\" cy=\"235\" r=\"12\" fill=\"rgb(58,58,58)\"/><circle cx=\"390\" cy=\"271\" r=\"8\" fill=\"rgb(93,93,93)\"/><circle cx=\"48\" cy=\"175\" r=\"9\" fill=\"rgb(148,148,148)\"/><circle cx=\"123\" cy=\"187\" r=\"9\" fill=\"rgb(99,99,99)\"/><circle cx=\"325\" cy=\"298\" r=\"11\" fill=\"rgb(175,175,175)\"/></svg><svg viewBox='0 0 430 430' id=\"svg\" width=\"172\" height=\"172\"><circle cx=\"215\" cy=\"215\" r=\"205\" fill=\"none\" stroke=\"black\" stroke-width=\"2\" stroke-dasharray=\"3,3\"/> <circle cx=\"168\" cy=\"330\" r=\"8\" fill=\"rgb(255,255,255)\" class=\"agent_1_1\"/><circle cx=\"284\" cy=\"208\" r=\"13\" fill=\"rgb(255,0,0)\" class=\"agent_1_4\"/><circle cx=\"391\" cy=\"235\" r=\"12\" fill=\"rgb(255,255,255)\" class=\"agent_1_7\"/><circle cx=\"390\" cy=\"271\" r=\"8\" fill=\"rgb(255,255,255)\" class=\"agent_1_8\"/><circle cx=\"48\" cy=\"175\" r=\"9\" fill=\"rgb(255,255,255)\" class=\"agent_1_31\"/><circle cx=\"123\" cy=\"187\" r=\"9\" fill=\"rgb(255,255,255)\" class=\"agent_1_41\"/><circle cx=\"325\" cy=\"298\" r=\"11\" fill=\"rgb(255,255,255)\" class=\"agent_1_47\"/></svg></div>"
      ],
      "text/plain": [
       "<IPython.core.display.HTML object>"
      ]
     },
     "metadata": {},
     "output_type": "display_data"
    },
    {
     "name": "stdout",
     "output_type": "stream",
     "text": [
      "to_mention_pred\n"
     ]
    },
    {
     "data": {
      "text/html": [
       "<div style=\"white-space: nowrap\"><svg viewbox='0 0 430 430' width=\"172\" height=\"172\" id=\"agent_1\"><circle cx=\"215\" cy=\"215\" r=\"205\" fill=\"none\" stroke=\"black\" stroke-width=\"2\" stroke-dasharray=\"3,3\"/><circle cx=\"168\" cy=\"330\" r=\"8\" fill=\"rgb(180,180,180)\"/><circle cx=\"284\" cy=\"208\" r=\"13\" fill=\"rgb(130,130,130)\"/><circle cx=\"391\" cy=\"235\" r=\"12\" fill=\"rgb(58,58,58)\"/><circle cx=\"390\" cy=\"271\" r=\"8\" fill=\"rgb(93,93,93)\"/><circle cx=\"48\" cy=\"175\" r=\"9\" fill=\"rgb(148,148,148)\"/><circle cx=\"123\" cy=\"187\" r=\"9\" fill=\"rgb(99,99,99)\"/><circle cx=\"325\" cy=\"298\" r=\"11\" fill=\"rgb(175,175,175)\"/></svg><svg viewBox='0 0 430 430' id=\"svg\" width=\"172\" height=\"172\"><circle cx=\"215\" cy=\"215\" r=\"205\" fill=\"none\" stroke=\"black\" stroke-width=\"2\" stroke-dasharray=\"3,3\"/> <circle cx=\"168\" cy=\"330\" r=\"8\" fill=\"rgb(255,255,255)\" class=\"agent_1_1\"/><circle cx=\"284\" cy=\"208\" r=\"13\" fill=\"rgb(255,255,255)\" class=\"agent_1_4\"/><circle cx=\"391\" cy=\"235\" r=\"12\" fill=\"rgb(255,0,0)\" class=\"agent_1_7\"/><circle cx=\"390\" cy=\"271\" r=\"8\" fill=\"rgb(255,255,255)\" class=\"agent_1_8\"/><circle cx=\"48\" cy=\"175\" r=\"9\" fill=\"rgb(255,255,255)\" class=\"agent_1_31\"/><circle cx=\"123\" cy=\"187\" r=\"9\" fill=\"rgb(255,255,255)\" class=\"agent_1_41\"/><circle cx=\"325\" cy=\"298\" r=\"11\" fill=\"rgb(255,255,255)\" class=\"agent_1_47\"/></svg></div>"
      ],
      "text/plain": [
       "<IPython.core.display.HTML object>"
      ]
     },
     "metadata": {},
     "output_type": "display_data"
    },
    {
     "name": "stdout",
     "output_type": "stream",
     "text": [
      "sample 0\tthe large one <selection>\n",
      "sample 1\tthe large one <selection>\n",
      "sample 2\tthe large one <selection>\n",
      "sample 3\tthe large one <selection>\n",
      "sample 4\tthe large one <selection>\n",
      "sample 5\tthe large one <selection>\n",
      "sample 6\tthe large one <selection>\n",
      "sample 7\tthe large one <selection>\n",
      "sample 8\tthe large one <selection>\n",
      "sample 9\tthe large one <selection>\n",
      "argmax\tthe large one <selection>\n",
      "human\tthe large dark grey <selection>\n",
      "refs_true\n"
     ]
    },
    {
     "data": {
      "text/html": [
       "<div style=\"white-space: nowrap\"><svg viewbox='0 0 430 430' width=\"172\" height=\"172\" id=\"agent_1\"><circle cx=\"215\" cy=\"215\" r=\"205\" fill=\"none\" stroke=\"black\" stroke-width=\"2\" stroke-dasharray=\"3,3\"/><circle cx=\"168\" cy=\"330\" r=\"8\" fill=\"rgb(180,180,180)\"/><circle cx=\"284\" cy=\"208\" r=\"13\" fill=\"rgb(130,130,130)\"/><circle cx=\"391\" cy=\"235\" r=\"12\" fill=\"rgb(58,58,58)\"/><circle cx=\"390\" cy=\"271\" r=\"8\" fill=\"rgb(93,93,93)\"/><circle cx=\"48\" cy=\"175\" r=\"9\" fill=\"rgb(148,148,148)\"/><circle cx=\"123\" cy=\"187\" r=\"9\" fill=\"rgb(99,99,99)\"/><circle cx=\"325\" cy=\"298\" r=\"11\" fill=\"rgb(175,175,175)\"/></svg><svg viewBox='0 0 430 430' id=\"svg\" width=\"172\" height=\"172\"><circle cx=\"215\" cy=\"215\" r=\"205\" fill=\"none\" stroke=\"black\" stroke-width=\"2\" stroke-dasharray=\"3,3\"/> <circle cx=\"168\" cy=\"330\" r=\"8\" fill=\"rgb(255,255,255)\" class=\"agent_1_1\"/><circle cx=\"284\" cy=\"208\" r=\"13\" fill=\"rgb(255,0,0)\" class=\"agent_1_4\"/><circle cx=\"391\" cy=\"235\" r=\"12\" fill=\"rgb(255,255,255)\" class=\"agent_1_7\"/><circle cx=\"390\" cy=\"271\" r=\"8\" fill=\"rgb(255,255,255)\" class=\"agent_1_8\"/><circle cx=\"48\" cy=\"175\" r=\"9\" fill=\"rgb(255,255,255)\" class=\"agent_1_31\"/><circle cx=\"123\" cy=\"187\" r=\"9\" fill=\"rgb(255,255,255)\" class=\"agent_1_41\"/><circle cx=\"325\" cy=\"298\" r=\"11\" fill=\"rgb(255,255,255)\" class=\"agent_1_47\"/></svg></div>"
      ],
      "text/plain": [
       "<IPython.core.display.HTML object>"
      ]
     },
     "metadata": {},
     "output_type": "display_data"
    },
    {
     "name": "stdout",
     "output_type": "stream",
     "text": [
      "refs_pred\n"
     ]
    },
    {
     "data": {
      "text/html": [
       "<div style=\"white-space: nowrap\"><svg viewbox='0 0 430 430' width=\"172\" height=\"172\" id=\"agent_1\"><circle cx=\"215\" cy=\"215\" r=\"205\" fill=\"none\" stroke=\"black\" stroke-width=\"2\" stroke-dasharray=\"3,3\"/><circle cx=\"168\" cy=\"330\" r=\"8\" fill=\"rgb(180,180,180)\"/><circle cx=\"284\" cy=\"208\" r=\"13\" fill=\"rgb(130,130,130)\"/><circle cx=\"391\" cy=\"235\" r=\"12\" fill=\"rgb(58,58,58)\"/><circle cx=\"390\" cy=\"271\" r=\"8\" fill=\"rgb(93,93,93)\"/><circle cx=\"48\" cy=\"175\" r=\"9\" fill=\"rgb(148,148,148)\"/><circle cx=\"123\" cy=\"187\" r=\"9\" fill=\"rgb(99,99,99)\"/><circle cx=\"325\" cy=\"298\" r=\"11\" fill=\"rgb(175,175,175)\"/></svg><svg viewBox='0 0 430 430' id=\"svg\" width=\"172\" height=\"172\"><circle cx=\"215\" cy=\"215\" r=\"205\" fill=\"none\" stroke=\"black\" stroke-width=\"2\" stroke-dasharray=\"3,3\"/> <circle cx=\"168\" cy=\"330\" r=\"8\" fill=\"rgb(255,255,255)\" class=\"agent_1_1\"/><circle cx=\"284\" cy=\"208\" r=\"13\" fill=\"rgb(255,0,0)\" class=\"agent_1_4\"/><circle cx=\"391\" cy=\"235\" r=\"12\" fill=\"rgb(255,255,255)\" class=\"agent_1_7\"/><circle cx=\"390\" cy=\"271\" r=\"8\" fill=\"rgb(255,255,255)\" class=\"agent_1_8\"/><circle cx=\"48\" cy=\"175\" r=\"9\" fill=\"rgb(255,255,255)\" class=\"agent_1_31\"/><circle cx=\"123\" cy=\"187\" r=\"9\" fill=\"rgb(255,255,255)\" class=\"agent_1_41\"/><circle cx=\"325\" cy=\"298\" r=\"11\" fill=\"rgb(255,255,255)\" class=\"agent_1_47\"/></svg></div>"
      ],
      "text/plain": [
       "<IPython.core.display.HTML object>"
      ]
     },
     "metadata": {},
     "output_type": "display_data"
    },
    {
     "name": "stdout",
     "output_type": "stream",
     "text": [
      "\n",
      "----------------------------------------\n",
      "\n"
     ]
    }
   ],
   "source": [
    "force_contexts_and_mentions(6)"
   ]
  },
  {
   "cell_type": "code",
   "execution_count": 53,
   "metadata": {
    "scrolled": false
   },
   "outputs": [
    {
     "name": "stdout",
     "output_type": "stream",
     "text": [
      "human\tTHEM: do you see a tiny light gray dot on the right side <eos>\n",
      "partner_refs_true\n"
     ]
    },
    {
     "data": {
      "text/html": [
       "<div style=\"white-space: nowrap\"><svg viewbox='0 0 430 430' width=\"172\" height=\"172\" id=\"agent_1\"><circle cx=\"215\" cy=\"215\" r=\"205\" fill=\"none\" stroke=\"black\" stroke-width=\"2\" stroke-dasharray=\"3,3\"/><circle cx=\"335\" cy=\"103\" r=\"9\" fill=\"rgb(164,164,164)\"/><circle cx=\"91\" cy=\"243\" r=\"12\" fill=\"rgb(119,119,119)\"/><circle cx=\"396\" cy=\"132\" r=\"11\" fill=\"rgb(82,82,82)\"/><circle cx=\"200\" cy=\"251\" r=\"12\" fill=\"rgb(73,73,73)\"/><circle cx=\"280\" cy=\"107\" r=\"7\" fill=\"rgb(132,132,132)\"/><circle cx=\"293\" cy=\"362\" r=\"11\" fill=\"rgb(113,113,113)\"/><circle cx=\"259\" cy=\"240\" r=\"12\" fill=\"rgb(153,153,153)\"/></svg><svg viewBox='0 0 430 430' id=\"svg\" width=\"172\" height=\"172\"><circle cx=\"215\" cy=\"215\" r=\"205\" fill=\"none\" stroke=\"black\" stroke-width=\"2\" stroke-dasharray=\"3,3\"/> <circle cx=\"335\" cy=\"103\" r=\"9\" fill=\"rgb(255,255,255)\" class=\"agent_1_8\"/><circle cx=\"91\" cy=\"243\" r=\"12\" fill=\"rgb(255,255,255)\" class=\"agent_1_26\"/><circle cx=\"396\" cy=\"132\" r=\"11\" fill=\"rgb(255,255,255)\" class=\"agent_1_55\"/><circle cx=\"200\" cy=\"251\" r=\"12\" fill=\"rgb(255,255,255)\" class=\"agent_1_67\"/><circle cx=\"280\" cy=\"107\" r=\"7\" fill=\"rgb(255,255,255)\" class=\"agent_1_70\"/><circle cx=\"293\" cy=\"362\" r=\"11\" fill=\"rgb(255,255,255)\" class=\"agent_1_74\"/><circle cx=\"259\" cy=\"240\" r=\"12\" fill=\"rgb(255,255,255)\" class=\"agent_1_79\"/></svg></div>"
      ],
      "text/plain": [
       "<IPython.core.display.HTML object>"
      ]
     },
     "metadata": {},
     "output_type": "display_data"
    },
    {
     "name": "stdout",
     "output_type": "stream",
     "text": [
      "partner_refs_pred\n"
     ]
    },
    {
     "data": {
      "text/html": [
       "<div style=\"white-space: nowrap\"><svg viewbox='0 0 430 430' width=\"172\" height=\"172\" id=\"agent_1\"><circle cx=\"215\" cy=\"215\" r=\"205\" fill=\"none\" stroke=\"black\" stroke-width=\"2\" stroke-dasharray=\"3,3\"/><circle cx=\"335\" cy=\"103\" r=\"9\" fill=\"rgb(164,164,164)\"/><circle cx=\"91\" cy=\"243\" r=\"12\" fill=\"rgb(119,119,119)\"/><circle cx=\"396\" cy=\"132\" r=\"11\" fill=\"rgb(82,82,82)\"/><circle cx=\"200\" cy=\"251\" r=\"12\" fill=\"rgb(73,73,73)\"/><circle cx=\"280\" cy=\"107\" r=\"7\" fill=\"rgb(132,132,132)\"/><circle cx=\"293\" cy=\"362\" r=\"11\" fill=\"rgb(113,113,113)\"/><circle cx=\"259\" cy=\"240\" r=\"12\" fill=\"rgb(153,153,153)\"/></svg><svg viewBox='0 0 430 430' id=\"svg\" width=\"172\" height=\"172\"><circle cx=\"215\" cy=\"215\" r=\"205\" fill=\"none\" stroke=\"black\" stroke-width=\"2\" stroke-dasharray=\"3,3\"/> <circle cx=\"335\" cy=\"103\" r=\"9\" fill=\"rgb(255,255,255)\" class=\"agent_1_8\"/><circle cx=\"91\" cy=\"243\" r=\"12\" fill=\"rgb(255,255,255)\" class=\"agent_1_26\"/><circle cx=\"396\" cy=\"132\" r=\"11\" fill=\"rgb(255,255,255)\" class=\"agent_1_55\"/><circle cx=\"200\" cy=\"251\" r=\"12\" fill=\"rgb(255,255,255)\" class=\"agent_1_67\"/><circle cx=\"280\" cy=\"107\" r=\"7\" fill=\"rgb(255,255,255)\" class=\"agent_1_70\"/><circle cx=\"293\" cy=\"362\" r=\"11\" fill=\"rgb(255,255,255)\" class=\"agent_1_74\"/><circle cx=\"259\" cy=\"240\" r=\"12\" fill=\"rgb(255,255,255)\" class=\"agent_1_79\"/></svg></div>"
      ],
      "text/plain": [
       "<IPython.core.display.HTML object>"
      ]
     },
     "metadata": {},
     "output_type": "display_data"
    },
    {
     "name": "stdout",
     "output_type": "stream",
     "text": [
      "\n",
      "----------------------------------------\n",
      "\n",
      "to_mention_true\n"
     ]
    },
    {
     "data": {
      "text/html": [
       "<div style=\"white-space: nowrap\"><svg viewbox='0 0 430 430' width=\"172\" height=\"172\" id=\"agent_1\"><circle cx=\"215\" cy=\"215\" r=\"205\" fill=\"none\" stroke=\"black\" stroke-width=\"2\" stroke-dasharray=\"3,3\"/><circle cx=\"335\" cy=\"103\" r=\"9\" fill=\"rgb(164,164,164)\"/><circle cx=\"91\" cy=\"243\" r=\"12\" fill=\"rgb(119,119,119)\"/><circle cx=\"396\" cy=\"132\" r=\"11\" fill=\"rgb(82,82,82)\"/><circle cx=\"200\" cy=\"251\" r=\"12\" fill=\"rgb(73,73,73)\"/><circle cx=\"280\" cy=\"107\" r=\"7\" fill=\"rgb(132,132,132)\"/><circle cx=\"293\" cy=\"362\" r=\"11\" fill=\"rgb(113,113,113)\"/><circle cx=\"259\" cy=\"240\" r=\"12\" fill=\"rgb(153,153,153)\"/></svg><svg viewBox='0 0 430 430' id=\"svg\" width=\"172\" height=\"172\"><circle cx=\"215\" cy=\"215\" r=\"205\" fill=\"none\" stroke=\"black\" stroke-width=\"2\" stroke-dasharray=\"3,3\"/> <circle cx=\"335\" cy=\"103\" r=\"9\" fill=\"rgb(255,0,0)\" class=\"agent_1_8\"/><circle cx=\"91\" cy=\"243\" r=\"12\" fill=\"rgb(255,255,255)\" class=\"agent_1_26\"/><circle cx=\"396\" cy=\"132\" r=\"11\" fill=\"rgb(255,0,0)\" class=\"agent_1_55\"/><circle cx=\"200\" cy=\"251\" r=\"12\" fill=\"rgb(255,255,255)\" class=\"agent_1_67\"/><circle cx=\"280\" cy=\"107\" r=\"7\" fill=\"rgb(255,0,0)\" class=\"agent_1_70\"/><circle cx=\"293\" cy=\"362\" r=\"11\" fill=\"rgb(255,255,255)\" class=\"agent_1_74\"/><circle cx=\"259\" cy=\"240\" r=\"12\" fill=\"rgb(255,255,255)\" class=\"agent_1_79\"/></svg><svg viewBox='0 0 430 430' id=\"svg\" width=\"172\" height=\"172\"><circle cx=\"215\" cy=\"215\" r=\"205\" fill=\"none\" stroke=\"black\" stroke-width=\"2\" stroke-dasharray=\"3,3\"/> <circle cx=\"335\" cy=\"103\" r=\"9\" fill=\"rgb(255,255,255)\" class=\"agent_1_8\"/><circle cx=\"91\" cy=\"243\" r=\"12\" fill=\"rgb(255,255,255)\" class=\"agent_1_26\"/><circle cx=\"396\" cy=\"132\" r=\"11\" fill=\"rgb(255,0,0)\" class=\"agent_1_55\"/><circle cx=\"200\" cy=\"251\" r=\"12\" fill=\"rgb(255,255,255)\" class=\"agent_1_67\"/><circle cx=\"280\" cy=\"107\" r=\"7\" fill=\"rgb(255,255,255)\" class=\"agent_1_70\"/><circle cx=\"293\" cy=\"362\" r=\"11\" fill=\"rgb(255,255,255)\" class=\"agent_1_74\"/><circle cx=\"259\" cy=\"240\" r=\"12\" fill=\"rgb(255,255,255)\" class=\"agent_1_79\"/></svg></div>"
      ],
      "text/plain": [
       "<IPython.core.display.HTML object>"
      ]
     },
     "metadata": {},
     "output_type": "display_data"
    },
    {
     "name": "stdout",
     "output_type": "stream",
     "text": [
      "to_mention_pred\n"
     ]
    },
    {
     "data": {
      "text/html": [
       "<div style=\"white-space: nowrap\"><svg viewbox='0 0 430 430' width=\"172\" height=\"172\" id=\"agent_1\"><circle cx=\"215\" cy=\"215\" r=\"205\" fill=\"none\" stroke=\"black\" stroke-width=\"2\" stroke-dasharray=\"3,3\"/><circle cx=\"335\" cy=\"103\" r=\"9\" fill=\"rgb(164,164,164)\"/><circle cx=\"91\" cy=\"243\" r=\"12\" fill=\"rgb(119,119,119)\"/><circle cx=\"396\" cy=\"132\" r=\"11\" fill=\"rgb(82,82,82)\"/><circle cx=\"200\" cy=\"251\" r=\"12\" fill=\"rgb(73,73,73)\"/><circle cx=\"280\" cy=\"107\" r=\"7\" fill=\"rgb(132,132,132)\"/><circle cx=\"293\" cy=\"362\" r=\"11\" fill=\"rgb(113,113,113)\"/><circle cx=\"259\" cy=\"240\" r=\"12\" fill=\"rgb(153,153,153)\"/></svg><svg viewBox='0 0 430 430' id=\"svg\" width=\"172\" height=\"172\"><circle cx=\"215\" cy=\"215\" r=\"205\" fill=\"none\" stroke=\"black\" stroke-width=\"2\" stroke-dasharray=\"3,3\"/> <circle cx=\"335\" cy=\"103\" r=\"9\" fill=\"rgb(255,0,0)\" class=\"agent_1_8\"/><circle cx=\"91\" cy=\"243\" r=\"12\" fill=\"rgb(255,255,255)\" class=\"agent_1_26\"/><circle cx=\"396\" cy=\"132\" r=\"11\" fill=\"rgb(255,255,255)\" class=\"agent_1_55\"/><circle cx=\"200\" cy=\"251\" r=\"12\" fill=\"rgb(255,255,255)\" class=\"agent_1_67\"/><circle cx=\"280\" cy=\"107\" r=\"7\" fill=\"rgb(255,0,0)\" class=\"agent_1_70\"/><circle cx=\"293\" cy=\"362\" r=\"11\" fill=\"rgb(255,255,255)\" class=\"agent_1_74\"/><circle cx=\"259\" cy=\"240\" r=\"12\" fill=\"rgb(255,255,255)\" class=\"agent_1_79\"/></svg><svg viewBox='0 0 430 430' id=\"svg\" width=\"172\" height=\"172\"><circle cx=\"215\" cy=\"215\" r=\"205\" fill=\"none\" stroke=\"black\" stroke-width=\"2\" stroke-dasharray=\"3,3\"/> <circle cx=\"335\" cy=\"103\" r=\"9\" fill=\"rgb(255,0,0)\" class=\"agent_1_8\"/><circle cx=\"91\" cy=\"243\" r=\"12\" fill=\"rgb(255,255,255)\" class=\"agent_1_26\"/><circle cx=\"396\" cy=\"132\" r=\"11\" fill=\"rgb(255,255,255)\" class=\"agent_1_55\"/><circle cx=\"200\" cy=\"251\" r=\"12\" fill=\"rgb(255,255,255)\" class=\"agent_1_67\"/><circle cx=\"280\" cy=\"107\" r=\"7\" fill=\"rgb(255,0,0)\" class=\"agent_1_70\"/><circle cx=\"293\" cy=\"362\" r=\"11\" fill=\"rgb(255,255,255)\" class=\"agent_1_74\"/><circle cx=\"259\" cy=\"240\" r=\"12\" fill=\"rgb(255,255,255)\" class=\"agent_1_79\"/></svg></div>"
      ],
      "text/plain": [
       "<IPython.core.display.HTML object>"
      ]
     },
     "metadata": {},
     "output_type": "display_data"
    },
    {
     "name": "stdout",
     "output_type": "stream",
     "text": [
      "sample 0\ti see a triangle of dots , the one on the left is the largest and darkest <eos>\n",
      "sample 1\ti have a cluster of 3 dots with a large dark gray dot in the middle <eos>\n",
      "sample 2\ti have a cluster of 3 dots , the one on the top is the largest and darkest <eos>\n",
      "sample 3\ti have a cluster of three dots . one is black and small <eos>\n",
      "sample 4\ti have a cluster of 4 dots , one is black <eos>\n",
      "sample 5\ti have three dots that are almost in a vertical line . the one on the bottom is the largest and darkest <eos>\n",
      "sample 6\ti have a cluster of three , one small black <eos>\n",
      "sample 7\ti have a group of 3 dots that form a triangle . the bottom is the largest and darkest <eos>\n",
      "sample 8\ti have a cluster of 3 dots that are almost in a vertical line . the one on the top is the largest and darkest <eos>\n",
      "sample 9\ti have a cluster of three dots , the one on the bottom is the largest and darkest <eos>\n",
      "argmax\ti have a cluster of three dots , the one on the right is the largest and darkest <eos>\n",
      "human\tno - i see 3 dots in an <unk> from left to right <unk> bigger , last dot on right is largest darkest <eos>\n",
      "refs_true\n"
     ]
    },
    {
     "data": {
      "text/html": [
       "<div style=\"white-space: nowrap\"><svg viewbox='0 0 430 430' width=\"172\" height=\"172\" id=\"agent_1\"><circle cx=\"215\" cy=\"215\" r=\"205\" fill=\"none\" stroke=\"black\" stroke-width=\"2\" stroke-dasharray=\"3,3\"/><circle cx=\"335\" cy=\"103\" r=\"9\" fill=\"rgb(164,164,164)\"/><circle cx=\"91\" cy=\"243\" r=\"12\" fill=\"rgb(119,119,119)\"/><circle cx=\"396\" cy=\"132\" r=\"11\" fill=\"rgb(82,82,82)\"/><circle cx=\"200\" cy=\"251\" r=\"12\" fill=\"rgb(73,73,73)\"/><circle cx=\"280\" cy=\"107\" r=\"7\" fill=\"rgb(132,132,132)\"/><circle cx=\"293\" cy=\"362\" r=\"11\" fill=\"rgb(113,113,113)\"/><circle cx=\"259\" cy=\"240\" r=\"12\" fill=\"rgb(153,153,153)\"/></svg><svg viewBox='0 0 430 430' id=\"svg\" width=\"172\" height=\"172\"><circle cx=\"215\" cy=\"215\" r=\"205\" fill=\"none\" stroke=\"black\" stroke-width=\"2\" stroke-dasharray=\"3,3\"/> <circle cx=\"335\" cy=\"103\" r=\"9\" fill=\"rgb(255,0,0)\" class=\"agent_1_8\"/><circle cx=\"91\" cy=\"243\" r=\"12\" fill=\"rgb(255,255,255)\" class=\"agent_1_26\"/><circle cx=\"396\" cy=\"132\" r=\"11\" fill=\"rgb(255,0,0)\" class=\"agent_1_55\"/><circle cx=\"200\" cy=\"251\" r=\"12\" fill=\"rgb(255,255,255)\" class=\"agent_1_67\"/><circle cx=\"280\" cy=\"107\" r=\"7\" fill=\"rgb(255,0,0)\" class=\"agent_1_70\"/><circle cx=\"293\" cy=\"362\" r=\"11\" fill=\"rgb(255,255,255)\" class=\"agent_1_74\"/><circle cx=\"259\" cy=\"240\" r=\"12\" fill=\"rgb(255,255,255)\" class=\"agent_1_79\"/></svg><svg viewBox='0 0 430 430' id=\"svg\" width=\"172\" height=\"172\"><circle cx=\"215\" cy=\"215\" r=\"205\" fill=\"none\" stroke=\"black\" stroke-width=\"2\" stroke-dasharray=\"3,3\"/> <circle cx=\"335\" cy=\"103\" r=\"9\" fill=\"rgb(255,255,255)\" class=\"agent_1_8\"/><circle cx=\"91\" cy=\"243\" r=\"12\" fill=\"rgb(255,255,255)\" class=\"agent_1_26\"/><circle cx=\"396\" cy=\"132\" r=\"11\" fill=\"rgb(255,0,0)\" class=\"agent_1_55\"/><circle cx=\"200\" cy=\"251\" r=\"12\" fill=\"rgb(255,255,255)\" class=\"agent_1_67\"/><circle cx=\"280\" cy=\"107\" r=\"7\" fill=\"rgb(255,255,255)\" class=\"agent_1_70\"/><circle cx=\"293\" cy=\"362\" r=\"11\" fill=\"rgb(255,255,255)\" class=\"agent_1_74\"/><circle cx=\"259\" cy=\"240\" r=\"12\" fill=\"rgb(255,255,255)\" class=\"agent_1_79\"/></svg></div>"
      ],
      "text/plain": [
       "<IPython.core.display.HTML object>"
      ]
     },
     "metadata": {},
     "output_type": "display_data"
    },
    {
     "name": "stdout",
     "output_type": "stream",
     "text": [
      "refs_pred\n"
     ]
    },
    {
     "data": {
      "text/html": [
       "<div style=\"white-space: nowrap\"><svg viewbox='0 0 430 430' width=\"172\" height=\"172\" id=\"agent_1\"><circle cx=\"215\" cy=\"215\" r=\"205\" fill=\"none\" stroke=\"black\" stroke-width=\"2\" stroke-dasharray=\"3,3\"/><circle cx=\"335\" cy=\"103\" r=\"9\" fill=\"rgb(164,164,164)\"/><circle cx=\"91\" cy=\"243\" r=\"12\" fill=\"rgb(119,119,119)\"/><circle cx=\"396\" cy=\"132\" r=\"11\" fill=\"rgb(82,82,82)\"/><circle cx=\"200\" cy=\"251\" r=\"12\" fill=\"rgb(73,73,73)\"/><circle cx=\"280\" cy=\"107\" r=\"7\" fill=\"rgb(132,132,132)\"/><circle cx=\"293\" cy=\"362\" r=\"11\" fill=\"rgb(113,113,113)\"/><circle cx=\"259\" cy=\"240\" r=\"12\" fill=\"rgb(153,153,153)\"/></svg><svg viewBox='0 0 430 430' id=\"svg\" width=\"172\" height=\"172\"><circle cx=\"215\" cy=\"215\" r=\"205\" fill=\"none\" stroke=\"black\" stroke-width=\"2\" stroke-dasharray=\"3,3\"/> <circle cx=\"335\" cy=\"103\" r=\"9\" fill=\"rgb(255,255,255)\" class=\"agent_1_8\"/><circle cx=\"91\" cy=\"243\" r=\"12\" fill=\"rgb(255,0,0)\" class=\"agent_1_26\"/><circle cx=\"396\" cy=\"132\" r=\"11\" fill=\"rgb(255,255,255)\" class=\"agent_1_55\"/><circle cx=\"200\" cy=\"251\" r=\"12\" fill=\"rgb(255,0,0)\" class=\"agent_1_67\"/><circle cx=\"280\" cy=\"107\" r=\"7\" fill=\"rgb(255,255,255)\" class=\"agent_1_70\"/><circle cx=\"293\" cy=\"362\" r=\"11\" fill=\"rgb(255,255,255)\" class=\"agent_1_74\"/><circle cx=\"259\" cy=\"240\" r=\"12\" fill=\"rgb(255,0,0)\" class=\"agent_1_79\"/></svg><svg viewBox='0 0 430 430' id=\"svg\" width=\"172\" height=\"172\"><circle cx=\"215\" cy=\"215\" r=\"205\" fill=\"none\" stroke=\"black\" stroke-width=\"2\" stroke-dasharray=\"3,3\"/> <circle cx=\"335\" cy=\"103\" r=\"9\" fill=\"rgb(255,255,255)\" class=\"agent_1_8\"/><circle cx=\"91\" cy=\"243\" r=\"12\" fill=\"rgb(255,255,255)\" class=\"agent_1_26\"/><circle cx=\"396\" cy=\"132\" r=\"11\" fill=\"rgb(255,255,255)\" class=\"agent_1_55\"/><circle cx=\"200\" cy=\"251\" r=\"12\" fill=\"rgb(255,0,0)\" class=\"agent_1_67\"/><circle cx=\"280\" cy=\"107\" r=\"7\" fill=\"rgb(255,255,255)\" class=\"agent_1_70\"/><circle cx=\"293\" cy=\"362\" r=\"11\" fill=\"rgb(255,255,255)\" class=\"agent_1_74\"/><circle cx=\"259\" cy=\"240\" r=\"12\" fill=\"rgb(255,255,255)\" class=\"agent_1_79\"/></svg></div>"
      ],
      "text/plain": [
       "<IPython.core.display.HTML object>"
      ]
     },
     "metadata": {},
     "output_type": "display_data"
    },
    {
     "name": "stdout",
     "output_type": "stream",
     "text": [
      "\n",
      "----------------------------------------\n",
      "\n",
      "human\tTHEM: is the darkest one closer to the bottom of the circle <eos>\n",
      "partner_refs_true\n"
     ]
    },
    {
     "data": {
      "text/html": [
       "<div style=\"white-space: nowrap\"><svg viewbox='0 0 430 430' width=\"172\" height=\"172\" id=\"agent_1\"><circle cx=\"215\" cy=\"215\" r=\"205\" fill=\"none\" stroke=\"black\" stroke-width=\"2\" stroke-dasharray=\"3,3\"/><circle cx=\"335\" cy=\"103\" r=\"9\" fill=\"rgb(164,164,164)\"/><circle cx=\"91\" cy=\"243\" r=\"12\" fill=\"rgb(119,119,119)\"/><circle cx=\"396\" cy=\"132\" r=\"11\" fill=\"rgb(82,82,82)\"/><circle cx=\"200\" cy=\"251\" r=\"12\" fill=\"rgb(73,73,73)\"/><circle cx=\"280\" cy=\"107\" r=\"7\" fill=\"rgb(132,132,132)\"/><circle cx=\"293\" cy=\"362\" r=\"11\" fill=\"rgb(113,113,113)\"/><circle cx=\"259\" cy=\"240\" r=\"12\" fill=\"rgb(153,153,153)\"/></svg><svg viewBox='0 0 430 430' id=\"svg\" width=\"172\" height=\"172\"><circle cx=\"215\" cy=\"215\" r=\"205\" fill=\"none\" stroke=\"black\" stroke-width=\"2\" stroke-dasharray=\"3,3\"/> <circle cx=\"335\" cy=\"103\" r=\"9\" fill=\"rgb(255,255,255)\" class=\"agent_1_8\"/><circle cx=\"91\" cy=\"243\" r=\"12\" fill=\"rgb(255,255,255)\" class=\"agent_1_26\"/><circle cx=\"396\" cy=\"132\" r=\"11\" fill=\"rgb(255,255,255)\" class=\"agent_1_55\"/><circle cx=\"200\" cy=\"251\" r=\"12\" fill=\"rgb(255,0,0)\" class=\"agent_1_67\"/><circle cx=\"280\" cy=\"107\" r=\"7\" fill=\"rgb(255,255,255)\" class=\"agent_1_70\"/><circle cx=\"293\" cy=\"362\" r=\"11\" fill=\"rgb(255,255,255)\" class=\"agent_1_74\"/><circle cx=\"259\" cy=\"240\" r=\"12\" fill=\"rgb(255,255,255)\" class=\"agent_1_79\"/></svg></div>"
      ],
      "text/plain": [
       "<IPython.core.display.HTML object>"
      ]
     },
     "metadata": {},
     "output_type": "display_data"
    },
    {
     "name": "stdout",
     "output_type": "stream",
     "text": [
      "partner_refs_pred\n"
     ]
    },
    {
     "data": {
      "text/html": [
       "<div style=\"white-space: nowrap\"><svg viewbox='0 0 430 430' width=\"172\" height=\"172\" id=\"agent_1\"><circle cx=\"215\" cy=\"215\" r=\"205\" fill=\"none\" stroke=\"black\" stroke-width=\"2\" stroke-dasharray=\"3,3\"/><circle cx=\"335\" cy=\"103\" r=\"9\" fill=\"rgb(164,164,164)\"/><circle cx=\"91\" cy=\"243\" r=\"12\" fill=\"rgb(119,119,119)\"/><circle cx=\"396\" cy=\"132\" r=\"11\" fill=\"rgb(82,82,82)\"/><circle cx=\"200\" cy=\"251\" r=\"12\" fill=\"rgb(73,73,73)\"/><circle cx=\"280\" cy=\"107\" r=\"7\" fill=\"rgb(132,132,132)\"/><circle cx=\"293\" cy=\"362\" r=\"11\" fill=\"rgb(113,113,113)\"/><circle cx=\"259\" cy=\"240\" r=\"12\" fill=\"rgb(153,153,153)\"/></svg><svg viewBox='0 0 430 430' id=\"svg\" width=\"172\" height=\"172\"><circle cx=\"215\" cy=\"215\" r=\"205\" fill=\"none\" stroke=\"black\" stroke-width=\"2\" stroke-dasharray=\"3,3\"/> <circle cx=\"335\" cy=\"103\" r=\"9\" fill=\"rgb(255,255,255)\" class=\"agent_1_8\"/><circle cx=\"91\" cy=\"243\" r=\"12\" fill=\"rgb(255,255,255)\" class=\"agent_1_26\"/><circle cx=\"396\" cy=\"132\" r=\"11\" fill=\"rgb(255,255,255)\" class=\"agent_1_55\"/><circle cx=\"200\" cy=\"251\" r=\"12\" fill=\"rgb(255,0,0)\" class=\"agent_1_67\"/><circle cx=\"280\" cy=\"107\" r=\"7\" fill=\"rgb(255,255,255)\" class=\"agent_1_70\"/><circle cx=\"293\" cy=\"362\" r=\"11\" fill=\"rgb(255,255,255)\" class=\"agent_1_74\"/><circle cx=\"259\" cy=\"240\" r=\"12\" fill=\"rgb(255,255,255)\" class=\"agent_1_79\"/></svg></div>"
      ],
      "text/plain": [
       "<IPython.core.display.HTML object>"
      ]
     },
     "metadata": {},
     "output_type": "display_data"
    },
    {
     "name": "stdout",
     "output_type": "stream",
     "text": [
      "\n",
      "----------------------------------------\n",
      "\n",
      "to_mention_true\n"
     ]
    },
    {
     "data": {
      "text/html": [
       "<div style=\"white-space: nowrap\"><svg viewbox='0 0 430 430' width=\"172\" height=\"172\" id=\"agent_1\"><circle cx=\"215\" cy=\"215\" r=\"205\" fill=\"none\" stroke=\"black\" stroke-width=\"2\" stroke-dasharray=\"3,3\"/><circle cx=\"335\" cy=\"103\" r=\"9\" fill=\"rgb(164,164,164)\"/><circle cx=\"91\" cy=\"243\" r=\"12\" fill=\"rgb(119,119,119)\"/><circle cx=\"396\" cy=\"132\" r=\"11\" fill=\"rgb(82,82,82)\"/><circle cx=\"200\" cy=\"251\" r=\"12\" fill=\"rgb(73,73,73)\"/><circle cx=\"280\" cy=\"107\" r=\"7\" fill=\"rgb(132,132,132)\"/><circle cx=\"293\" cy=\"362\" r=\"11\" fill=\"rgb(113,113,113)\"/><circle cx=\"259\" cy=\"240\" r=\"12\" fill=\"rgb(153,153,153)\"/></svg><svg viewBox='0 0 430 430' id=\"svg\" width=\"172\" height=\"172\"><circle cx=\"215\" cy=\"215\" r=\"205\" fill=\"none\" stroke=\"black\" stroke-width=\"2\" stroke-dasharray=\"3,3\"/> <circle cx=\"335\" cy=\"103\" r=\"9\" fill=\"rgb(255,255,255)\" class=\"agent_1_8\"/><circle cx=\"91\" cy=\"243\" r=\"12\" fill=\"rgb(255,255,255)\" class=\"agent_1_26\"/><circle cx=\"396\" cy=\"132\" r=\"11\" fill=\"rgb(255,0,0)\" class=\"agent_1_55\"/><circle cx=\"200\" cy=\"251\" r=\"12\" fill=\"rgb(255,255,255)\" class=\"agent_1_67\"/><circle cx=\"280\" cy=\"107\" r=\"7\" fill=\"rgb(255,255,255)\" class=\"agent_1_70\"/><circle cx=\"293\" cy=\"362\" r=\"11\" fill=\"rgb(255,255,255)\" class=\"agent_1_74\"/><circle cx=\"259\" cy=\"240\" r=\"12\" fill=\"rgb(255,255,255)\" class=\"agent_1_79\"/></svg><svg viewBox='0 0 430 430' id=\"svg\" width=\"172\" height=\"172\"><circle cx=\"215\" cy=\"215\" r=\"205\" fill=\"none\" stroke=\"black\" stroke-width=\"2\" stroke-dasharray=\"3,3\"/> <circle cx=\"335\" cy=\"103\" r=\"9\" fill=\"rgb(255,0,0)\" class=\"agent_1_8\"/><circle cx=\"91\" cy=\"243\" r=\"12\" fill=\"rgb(255,255,255)\" class=\"agent_1_26\"/><circle cx=\"396\" cy=\"132\" r=\"11\" fill=\"rgb(255,255,255)\" class=\"agent_1_55\"/><circle cx=\"200\" cy=\"251\" r=\"12\" fill=\"rgb(255,255,255)\" class=\"agent_1_67\"/><circle cx=\"280\" cy=\"107\" r=\"7\" fill=\"rgb(255,255,255)\" class=\"agent_1_70\"/><circle cx=\"293\" cy=\"362\" r=\"11\" fill=\"rgb(255,255,255)\" class=\"agent_1_74\"/><circle cx=\"259\" cy=\"240\" r=\"12\" fill=\"rgb(255,255,255)\" class=\"agent_1_79\"/></svg><svg viewBox='0 0 430 430' id=\"svg\" width=\"172\" height=\"172\"><circle cx=\"215\" cy=\"215\" r=\"205\" fill=\"none\" stroke=\"black\" stroke-width=\"2\" stroke-dasharray=\"3,3\"/> <circle cx=\"335\" cy=\"103\" r=\"9\" fill=\"rgb(255,0,0)\" class=\"agent_1_8\"/><circle cx=\"91\" cy=\"243\" r=\"12\" fill=\"rgb(255,255,255)\" class=\"agent_1_26\"/><circle cx=\"396\" cy=\"132\" r=\"11\" fill=\"rgb(255,255,255)\" class=\"agent_1_55\"/><circle cx=\"200\" cy=\"251\" r=\"12\" fill=\"rgb(255,255,255)\" class=\"agent_1_67\"/><circle cx=\"280\" cy=\"107\" r=\"7\" fill=\"rgb(255,255,255)\" class=\"agent_1_70\"/><circle cx=\"293\" cy=\"362\" r=\"11\" fill=\"rgb(255,255,255)\" class=\"agent_1_74\"/><circle cx=\"259\" cy=\"240\" r=\"12\" fill=\"rgb(255,255,255)\" class=\"agent_1_79\"/></svg><svg viewBox='0 0 430 430' id=\"svg\" width=\"172\" height=\"172\"><circle cx=\"215\" cy=\"215\" r=\"205\" fill=\"none\" stroke=\"black\" stroke-width=\"2\" stroke-dasharray=\"3,3\"/> <circle cx=\"335\" cy=\"103\" r=\"9\" fill=\"rgb(255,0,0)\" class=\"agent_1_8\"/><circle cx=\"91\" cy=\"243\" r=\"12\" fill=\"rgb(255,255,255)\" class=\"agent_1_26\"/><circle cx=\"396\" cy=\"132\" r=\"11\" fill=\"rgb(255,0,0)\" class=\"agent_1_55\"/><circle cx=\"200\" cy=\"251\" r=\"12\" fill=\"rgb(255,255,255)\" class=\"agent_1_67\"/><circle cx=\"280\" cy=\"107\" r=\"7\" fill=\"rgb(255,0,0)\" class=\"agent_1_70\"/><circle cx=\"293\" cy=\"362\" r=\"11\" fill=\"rgb(255,255,255)\" class=\"agent_1_74\"/><circle cx=\"259\" cy=\"240\" r=\"12\" fill=\"rgb(255,255,255)\" class=\"agent_1_79\"/></svg></div>"
      ],
      "text/plain": [
       "<IPython.core.display.HTML object>"
      ]
     },
     "metadata": {},
     "output_type": "display_data"
    },
    {
     "name": "stdout",
     "output_type": "stream",
     "text": [
      "to_mention_pred\n"
     ]
    },
    {
     "data": {
      "text/html": [
       "<div style=\"white-space: nowrap\"><svg viewbox='0 0 430 430' width=\"172\" height=\"172\" id=\"agent_1\"><circle cx=\"215\" cy=\"215\" r=\"205\" fill=\"none\" stroke=\"black\" stroke-width=\"2\" stroke-dasharray=\"3,3\"/><circle cx=\"335\" cy=\"103\" r=\"9\" fill=\"rgb(164,164,164)\"/><circle cx=\"91\" cy=\"243\" r=\"12\" fill=\"rgb(119,119,119)\"/><circle cx=\"396\" cy=\"132\" r=\"11\" fill=\"rgb(82,82,82)\"/><circle cx=\"200\" cy=\"251\" r=\"12\" fill=\"rgb(73,73,73)\"/><circle cx=\"280\" cy=\"107\" r=\"7\" fill=\"rgb(132,132,132)\"/><circle cx=\"293\" cy=\"362\" r=\"11\" fill=\"rgb(113,113,113)\"/><circle cx=\"259\" cy=\"240\" r=\"12\" fill=\"rgb(153,153,153)\"/></svg><svg viewBox='0 0 430 430' id=\"svg\" width=\"172\" height=\"172\"><circle cx=\"215\" cy=\"215\" r=\"205\" fill=\"none\" stroke=\"black\" stroke-width=\"2\" stroke-dasharray=\"3,3\"/> <circle cx=\"335\" cy=\"103\" r=\"9\" fill=\"rgb(255,255,255)\" class=\"agent_1_8\"/><circle cx=\"91\" cy=\"243\" r=\"12\" fill=\"rgb(255,255,255)\" class=\"agent_1_26\"/><circle cx=\"396\" cy=\"132\" r=\"11\" fill=\"rgb(255,255,255)\" class=\"agent_1_55\"/><circle cx=\"200\" cy=\"251\" r=\"12\" fill=\"rgb(255,0,0)\" class=\"agent_1_67\"/><circle cx=\"280\" cy=\"107\" r=\"7\" fill=\"rgb(255,255,255)\" class=\"agent_1_70\"/><circle cx=\"293\" cy=\"362\" r=\"11\" fill=\"rgb(255,255,255)\" class=\"agent_1_74\"/><circle cx=\"259\" cy=\"240\" r=\"12\" fill=\"rgb(255,255,255)\" class=\"agent_1_79\"/></svg><svg viewBox='0 0 430 430' id=\"svg\" width=\"172\" height=\"172\"><circle cx=\"215\" cy=\"215\" r=\"205\" fill=\"none\" stroke=\"black\" stroke-width=\"2\" stroke-dasharray=\"3,3\"/> <circle cx=\"335\" cy=\"103\" r=\"9\" fill=\"rgb(255,255,255)\" class=\"agent_1_8\"/><circle cx=\"91\" cy=\"243\" r=\"12\" fill=\"rgb(255,255,255)\" class=\"agent_1_26\"/><circle cx=\"396\" cy=\"132\" r=\"11\" fill=\"rgb(255,255,255)\" class=\"agent_1_55\"/><circle cx=\"200\" cy=\"251\" r=\"12\" fill=\"rgb(255,0,0)\" class=\"agent_1_67\"/><circle cx=\"280\" cy=\"107\" r=\"7\" fill=\"rgb(255,255,255)\" class=\"agent_1_70\"/><circle cx=\"293\" cy=\"362\" r=\"11\" fill=\"rgb(255,255,255)\" class=\"agent_1_74\"/><circle cx=\"259\" cy=\"240\" r=\"12\" fill=\"rgb(255,0,0)\" class=\"agent_1_79\"/></svg><svg viewBox='0 0 430 430' id=\"svg\" width=\"172\" height=\"172\"><circle cx=\"215\" cy=\"215\" r=\"205\" fill=\"none\" stroke=\"black\" stroke-width=\"2\" stroke-dasharray=\"3,3\"/> <circle cx=\"335\" cy=\"103\" r=\"9\" fill=\"rgb(255,255,255)\" class=\"agent_1_8\"/><circle cx=\"91\" cy=\"243\" r=\"12\" fill=\"rgb(255,255,255)\" class=\"agent_1_26\"/><circle cx=\"396\" cy=\"132\" r=\"11\" fill=\"rgb(255,255,255)\" class=\"agent_1_55\"/><circle cx=\"200\" cy=\"251\" r=\"12\" fill=\"rgb(255,0,0)\" class=\"agent_1_67\"/><circle cx=\"280\" cy=\"107\" r=\"7\" fill=\"rgb(255,255,255)\" class=\"agent_1_70\"/><circle cx=\"293\" cy=\"362\" r=\"11\" fill=\"rgb(255,255,255)\" class=\"agent_1_74\"/><circle cx=\"259\" cy=\"240\" r=\"12\" fill=\"rgb(255,0,0)\" class=\"agent_1_79\"/></svg><svg viewBox='0 0 430 430' id=\"svg\" width=\"172\" height=\"172\"><circle cx=\"215\" cy=\"215\" r=\"205\" fill=\"none\" stroke=\"black\" stroke-width=\"2\" stroke-dasharray=\"3,3\"/> <circle cx=\"335\" cy=\"103\" r=\"9\" fill=\"rgb(255,255,255)\" class=\"agent_1_8\"/><circle cx=\"91\" cy=\"243\" r=\"12\" fill=\"rgb(255,255,255)\" class=\"agent_1_26\"/><circle cx=\"396\" cy=\"132\" r=\"11\" fill=\"rgb(255,255,255)\" class=\"agent_1_55\"/><circle cx=\"200\" cy=\"251\" r=\"12\" fill=\"rgb(255,0,0)\" class=\"agent_1_67\"/><circle cx=\"280\" cy=\"107\" r=\"7\" fill=\"rgb(255,255,255)\" class=\"agent_1_70\"/><circle cx=\"293\" cy=\"362\" r=\"11\" fill=\"rgb(255,255,255)\" class=\"agent_1_74\"/><circle cx=\"259\" cy=\"240\" r=\"12\" fill=\"rgb(255,255,255)\" class=\"agent_1_79\"/></svg></div>"
      ],
      "text/plain": [
       "<IPython.core.display.HTML object>"
      ]
     },
     "metadata": {},
     "output_type": "display_data"
    },
    {
     "name": "stdout",
     "output_type": "stream",
     "text": [
      "sample 0\tyes , it is above and to the right of a medium gray dot , and a small dark grey dot <eos>\n",
      "sample 1\tyes , but i do have a larger dark grey dot and a small grey dot to the right of it . <eos>\n",
      "sample 2\tyes , it is to the right of the circle , but i do have a small light grey dot above and to the right of a large dark dot <eos>\n",
      "sample 3\tyes it is to the right of my circle . i have a small grey dot to the right of the bottom one . <eos>\n",
      "sample 4\tyes , the one on the right is the darkest . the one on the right is medium gray , and the other is the same size but slightly smaller than the one on the right <eos>\n",
      "sample 5\tit is in the middle of the circle with a medium grey dot below and to the left of the smaller one <eos>\n",
      "sample 6\tyes it is to the right of the circle . i have two small dots , one is light grey and the other is black <eos>\n",
      "sample 7\tyes , and the one on the right is the largest and the one on the right is the darkest . they are all small . <eos>\n",
      "sample 8\tyes it is the darkest . it is near the bottom of the circle . do you have any dots that are the same size ? <eos>\n",
      "sample 9\tyes it is to the left of the circle . do you see the triangle ? <eos>\n",
      "argmax\tyes , it is in the middle of the circle . i have a small dark grey dot with a small light grey dot to the right of it <eos>\n",
      "human\tthe darkest one is slightly down and to the right of the middle dot , the middle dot is medium size and lightest of the 3 <eos>\n",
      "refs_true\n"
     ]
    },
    {
     "data": {
      "text/html": [
       "<div style=\"white-space: nowrap\"><svg viewbox='0 0 430 430' width=\"172\" height=\"172\" id=\"agent_1\"><circle cx=\"215\" cy=\"215\" r=\"205\" fill=\"none\" stroke=\"black\" stroke-width=\"2\" stroke-dasharray=\"3,3\"/><circle cx=\"335\" cy=\"103\" r=\"9\" fill=\"rgb(164,164,164)\"/><circle cx=\"91\" cy=\"243\" r=\"12\" fill=\"rgb(119,119,119)\"/><circle cx=\"396\" cy=\"132\" r=\"11\" fill=\"rgb(82,82,82)\"/><circle cx=\"200\" cy=\"251\" r=\"12\" fill=\"rgb(73,73,73)\"/><circle cx=\"280\" cy=\"107\" r=\"7\" fill=\"rgb(132,132,132)\"/><circle cx=\"293\" cy=\"362\" r=\"11\" fill=\"rgb(113,113,113)\"/><circle cx=\"259\" cy=\"240\" r=\"12\" fill=\"rgb(153,153,153)\"/></svg><svg viewBox='0 0 430 430' id=\"svg\" width=\"172\" height=\"172\"><circle cx=\"215\" cy=\"215\" r=\"205\" fill=\"none\" stroke=\"black\" stroke-width=\"2\" stroke-dasharray=\"3,3\"/> <circle cx=\"335\" cy=\"103\" r=\"9\" fill=\"rgb(255,255,255)\" class=\"agent_1_8\"/><circle cx=\"91\" cy=\"243\" r=\"12\" fill=\"rgb(255,255,255)\" class=\"agent_1_26\"/><circle cx=\"396\" cy=\"132\" r=\"11\" fill=\"rgb(255,0,0)\" class=\"agent_1_55\"/><circle cx=\"200\" cy=\"251\" r=\"12\" fill=\"rgb(255,255,255)\" class=\"agent_1_67\"/><circle cx=\"280\" cy=\"107\" r=\"7\" fill=\"rgb(255,255,255)\" class=\"agent_1_70\"/><circle cx=\"293\" cy=\"362\" r=\"11\" fill=\"rgb(255,255,255)\" class=\"agent_1_74\"/><circle cx=\"259\" cy=\"240\" r=\"12\" fill=\"rgb(255,255,255)\" class=\"agent_1_79\"/></svg><svg viewBox='0 0 430 430' id=\"svg\" width=\"172\" height=\"172\"><circle cx=\"215\" cy=\"215\" r=\"205\" fill=\"none\" stroke=\"black\" stroke-width=\"2\" stroke-dasharray=\"3,3\"/> <circle cx=\"335\" cy=\"103\" r=\"9\" fill=\"rgb(255,0,0)\" class=\"agent_1_8\"/><circle cx=\"91\" cy=\"243\" r=\"12\" fill=\"rgb(255,255,255)\" class=\"agent_1_26\"/><circle cx=\"396\" cy=\"132\" r=\"11\" fill=\"rgb(255,255,255)\" class=\"agent_1_55\"/><circle cx=\"200\" cy=\"251\" r=\"12\" fill=\"rgb(255,255,255)\" class=\"agent_1_67\"/><circle cx=\"280\" cy=\"107\" r=\"7\" fill=\"rgb(255,255,255)\" class=\"agent_1_70\"/><circle cx=\"293\" cy=\"362\" r=\"11\" fill=\"rgb(255,255,255)\" class=\"agent_1_74\"/><circle cx=\"259\" cy=\"240\" r=\"12\" fill=\"rgb(255,255,255)\" class=\"agent_1_79\"/></svg><svg viewBox='0 0 430 430' id=\"svg\" width=\"172\" height=\"172\"><circle cx=\"215\" cy=\"215\" r=\"205\" fill=\"none\" stroke=\"black\" stroke-width=\"2\" stroke-dasharray=\"3,3\"/> <circle cx=\"335\" cy=\"103\" r=\"9\" fill=\"rgb(255,0,0)\" class=\"agent_1_8\"/><circle cx=\"91\" cy=\"243\" r=\"12\" fill=\"rgb(255,255,255)\" class=\"agent_1_26\"/><circle cx=\"396\" cy=\"132\" r=\"11\" fill=\"rgb(255,255,255)\" class=\"agent_1_55\"/><circle cx=\"200\" cy=\"251\" r=\"12\" fill=\"rgb(255,255,255)\" class=\"agent_1_67\"/><circle cx=\"280\" cy=\"107\" r=\"7\" fill=\"rgb(255,255,255)\" class=\"agent_1_70\"/><circle cx=\"293\" cy=\"362\" r=\"11\" fill=\"rgb(255,255,255)\" class=\"agent_1_74\"/><circle cx=\"259\" cy=\"240\" r=\"12\" fill=\"rgb(255,255,255)\" class=\"agent_1_79\"/></svg><svg viewBox='0 0 430 430' id=\"svg\" width=\"172\" height=\"172\"><circle cx=\"215\" cy=\"215\" r=\"205\" fill=\"none\" stroke=\"black\" stroke-width=\"2\" stroke-dasharray=\"3,3\"/> <circle cx=\"335\" cy=\"103\" r=\"9\" fill=\"rgb(255,0,0)\" class=\"agent_1_8\"/><circle cx=\"91\" cy=\"243\" r=\"12\" fill=\"rgb(255,255,255)\" class=\"agent_1_26\"/><circle cx=\"396\" cy=\"132\" r=\"11\" fill=\"rgb(255,0,0)\" class=\"agent_1_55\"/><circle cx=\"200\" cy=\"251\" r=\"12\" fill=\"rgb(255,255,255)\" class=\"agent_1_67\"/><circle cx=\"280\" cy=\"107\" r=\"7\" fill=\"rgb(255,0,0)\" class=\"agent_1_70\"/><circle cx=\"293\" cy=\"362\" r=\"11\" fill=\"rgb(255,255,255)\" class=\"agent_1_74\"/><circle cx=\"259\" cy=\"240\" r=\"12\" fill=\"rgb(255,255,255)\" class=\"agent_1_79\"/></svg></div>"
      ],
      "text/plain": [
       "<IPython.core.display.HTML object>"
      ]
     },
     "metadata": {},
     "output_type": "display_data"
    },
    {
     "name": "stdout",
     "output_type": "stream",
     "text": [
      "refs_pred\n"
     ]
    },
    {
     "data": {
      "text/html": [
       "<div style=\"white-space: nowrap\"><svg viewbox='0 0 430 430' width=\"172\" height=\"172\" id=\"agent_1\"><circle cx=\"215\" cy=\"215\" r=\"205\" fill=\"none\" stroke=\"black\" stroke-width=\"2\" stroke-dasharray=\"3,3\"/><circle cx=\"335\" cy=\"103\" r=\"9\" fill=\"rgb(164,164,164)\"/><circle cx=\"91\" cy=\"243\" r=\"12\" fill=\"rgb(119,119,119)\"/><circle cx=\"396\" cy=\"132\" r=\"11\" fill=\"rgb(82,82,82)\"/><circle cx=\"200\" cy=\"251\" r=\"12\" fill=\"rgb(73,73,73)\"/><circle cx=\"280\" cy=\"107\" r=\"7\" fill=\"rgb(132,132,132)\"/><circle cx=\"293\" cy=\"362\" r=\"11\" fill=\"rgb(113,113,113)\"/><circle cx=\"259\" cy=\"240\" r=\"12\" fill=\"rgb(153,153,153)\"/></svg><svg viewBox='0 0 430 430' id=\"svg\" width=\"172\" height=\"172\"><circle cx=\"215\" cy=\"215\" r=\"205\" fill=\"none\" stroke=\"black\" stroke-width=\"2\" stroke-dasharray=\"3,3\"/> <circle cx=\"335\" cy=\"103\" r=\"9\" fill=\"rgb(255,255,255)\" class=\"agent_1_8\"/><circle cx=\"91\" cy=\"243\" r=\"12\" fill=\"rgb(255,255,255)\" class=\"agent_1_26\"/><circle cx=\"396\" cy=\"132\" r=\"11\" fill=\"rgb(255,255,255)\" class=\"agent_1_55\"/><circle cx=\"200\" cy=\"251\" r=\"12\" fill=\"rgb(255,0,0)\" class=\"agent_1_67\"/><circle cx=\"280\" cy=\"107\" r=\"7\" fill=\"rgb(255,255,255)\" class=\"agent_1_70\"/><circle cx=\"293\" cy=\"362\" r=\"11\" fill=\"rgb(255,255,255)\" class=\"agent_1_74\"/><circle cx=\"259\" cy=\"240\" r=\"12\" fill=\"rgb(255,255,255)\" class=\"agent_1_79\"/></svg><svg viewBox='0 0 430 430' id=\"svg\" width=\"172\" height=\"172\"><circle cx=\"215\" cy=\"215\" r=\"205\" fill=\"none\" stroke=\"black\" stroke-width=\"2\" stroke-dasharray=\"3,3\"/> <circle cx=\"335\" cy=\"103\" r=\"9\" fill=\"rgb(255,255,255)\" class=\"agent_1_8\"/><circle cx=\"91\" cy=\"243\" r=\"12\" fill=\"rgb(255,255,255)\" class=\"agent_1_26\"/><circle cx=\"396\" cy=\"132\" r=\"11\" fill=\"rgb(255,255,255)\" class=\"agent_1_55\"/><circle cx=\"200\" cy=\"251\" r=\"12\" fill=\"rgb(255,255,255)\" class=\"agent_1_67\"/><circle cx=\"280\" cy=\"107\" r=\"7\" fill=\"rgb(255,255,255)\" class=\"agent_1_70\"/><circle cx=\"293\" cy=\"362\" r=\"11\" fill=\"rgb(255,255,255)\" class=\"agent_1_74\"/><circle cx=\"259\" cy=\"240\" r=\"12\" fill=\"rgb(255,0,0)\" class=\"agent_1_79\"/></svg><svg viewBox='0 0 430 430' id=\"svg\" width=\"172\" height=\"172\"><circle cx=\"215\" cy=\"215\" r=\"205\" fill=\"none\" stroke=\"black\" stroke-width=\"2\" stroke-dasharray=\"3,3\"/> <circle cx=\"335\" cy=\"103\" r=\"9\" fill=\"rgb(255,255,255)\" class=\"agent_1_8\"/><circle cx=\"91\" cy=\"243\" r=\"12\" fill=\"rgb(255,255,255)\" class=\"agent_1_26\"/><circle cx=\"396\" cy=\"132\" r=\"11\" fill=\"rgb(255,255,255)\" class=\"agent_1_55\"/><circle cx=\"200\" cy=\"251\" r=\"12\" fill=\"rgb(255,255,255)\" class=\"agent_1_67\"/><circle cx=\"280\" cy=\"107\" r=\"7\" fill=\"rgb(255,255,255)\" class=\"agent_1_70\"/><circle cx=\"293\" cy=\"362\" r=\"11\" fill=\"rgb(255,255,255)\" class=\"agent_1_74\"/><circle cx=\"259\" cy=\"240\" r=\"12\" fill=\"rgb(255,0,0)\" class=\"agent_1_79\"/></svg><svg viewBox='0 0 430 430' id=\"svg\" width=\"172\" height=\"172\"><circle cx=\"215\" cy=\"215\" r=\"205\" fill=\"none\" stroke=\"black\" stroke-width=\"2\" stroke-dasharray=\"3,3\"/> <circle cx=\"335\" cy=\"103\" r=\"9\" fill=\"rgb(255,255,255)\" class=\"agent_1_8\"/><circle cx=\"91\" cy=\"243\" r=\"12\" fill=\"rgb(255,0,0)\" class=\"agent_1_26\"/><circle cx=\"396\" cy=\"132\" r=\"11\" fill=\"rgb(255,255,255)\" class=\"agent_1_55\"/><circle cx=\"200\" cy=\"251\" r=\"12\" fill=\"rgb(255,0,0)\" class=\"agent_1_67\"/><circle cx=\"280\" cy=\"107\" r=\"7\" fill=\"rgb(255,255,255)\" class=\"agent_1_70\"/><circle cx=\"293\" cy=\"362\" r=\"11\" fill=\"rgb(255,255,255)\" class=\"agent_1_74\"/><circle cx=\"259\" cy=\"240\" r=\"12\" fill=\"rgb(255,0,0)\" class=\"agent_1_79\"/></svg></div>"
      ],
      "text/plain": [
       "<IPython.core.display.HTML object>"
      ]
     },
     "metadata": {},
     "output_type": "display_data"
    },
    {
     "name": "stdout",
     "output_type": "stream",
     "text": [
      "\n",
      "----------------------------------------\n",
      "\n",
      "human\tTHEM: i 'm not sure if mine is the same then do you see a big med gray dot on the left side at the top its on the outline of the circle ? <eos>\n",
      "partner_refs_true\n"
     ]
    },
    {
     "data": {
      "text/html": [
       "<div style=\"white-space: nowrap\"><svg viewbox='0 0 430 430' width=\"172\" height=\"172\" id=\"agent_1\"><circle cx=\"215\" cy=\"215\" r=\"205\" fill=\"none\" stroke=\"black\" stroke-width=\"2\" stroke-dasharray=\"3,3\"/><circle cx=\"335\" cy=\"103\" r=\"9\" fill=\"rgb(164,164,164)\"/><circle cx=\"91\" cy=\"243\" r=\"12\" fill=\"rgb(119,119,119)\"/><circle cx=\"396\" cy=\"132\" r=\"11\" fill=\"rgb(82,82,82)\"/><circle cx=\"200\" cy=\"251\" r=\"12\" fill=\"rgb(73,73,73)\"/><circle cx=\"280\" cy=\"107\" r=\"7\" fill=\"rgb(132,132,132)\"/><circle cx=\"293\" cy=\"362\" r=\"11\" fill=\"rgb(113,113,113)\"/><circle cx=\"259\" cy=\"240\" r=\"12\" fill=\"rgb(153,153,153)\"/></svg><svg viewBox='0 0 430 430' id=\"svg\" width=\"172\" height=\"172\"><circle cx=\"215\" cy=\"215\" r=\"205\" fill=\"none\" stroke=\"black\" stroke-width=\"2\" stroke-dasharray=\"3,3\"/> <circle cx=\"335\" cy=\"103\" r=\"9\" fill=\"rgb(255,255,255)\" class=\"agent_1_8\"/><circle cx=\"91\" cy=\"243\" r=\"12\" fill=\"rgb(255,0,0)\" class=\"agent_1_26\"/><circle cx=\"396\" cy=\"132\" r=\"11\" fill=\"rgb(255,255,255)\" class=\"agent_1_55\"/><circle cx=\"200\" cy=\"251\" r=\"12\" fill=\"rgb(255,0,0)\" class=\"agent_1_67\"/><circle cx=\"280\" cy=\"107\" r=\"7\" fill=\"rgb(255,255,255)\" class=\"agent_1_70\"/><circle cx=\"293\" cy=\"362\" r=\"11\" fill=\"rgb(255,255,255)\" class=\"agent_1_74\"/><circle cx=\"259\" cy=\"240\" r=\"12\" fill=\"rgb(255,0,0)\" class=\"agent_1_79\"/></svg><svg viewBox='0 0 430 430' id=\"svg\" width=\"172\" height=\"172\"><circle cx=\"215\" cy=\"215\" r=\"205\" fill=\"none\" stroke=\"black\" stroke-width=\"2\" stroke-dasharray=\"3,3\"/> <circle cx=\"335\" cy=\"103\" r=\"9\" fill=\"rgb(255,255,255)\" class=\"agent_1_8\"/><circle cx=\"91\" cy=\"243\" r=\"12\" fill=\"rgb(255,0,0)\" class=\"agent_1_26\"/><circle cx=\"396\" cy=\"132\" r=\"11\" fill=\"rgb(255,255,255)\" class=\"agent_1_55\"/><circle cx=\"200\" cy=\"251\" r=\"12\" fill=\"rgb(255,255,255)\" class=\"agent_1_67\"/><circle cx=\"280\" cy=\"107\" r=\"7\" fill=\"rgb(255,255,255)\" class=\"agent_1_70\"/><circle cx=\"293\" cy=\"362\" r=\"11\" fill=\"rgb(255,255,255)\" class=\"agent_1_74\"/><circle cx=\"259\" cy=\"240\" r=\"12\" fill=\"rgb(255,255,255)\" class=\"agent_1_79\"/></svg><svg viewBox='0 0 430 430' id=\"svg\" width=\"172\" height=\"172\"><circle cx=\"215\" cy=\"215\" r=\"205\" fill=\"none\" stroke=\"black\" stroke-width=\"2\" stroke-dasharray=\"3,3\"/> <circle cx=\"335\" cy=\"103\" r=\"9\" fill=\"rgb(255,255,255)\" class=\"agent_1_8\"/><circle cx=\"91\" cy=\"243\" r=\"12\" fill=\"rgb(255,0,0)\" class=\"agent_1_26\"/><circle cx=\"396\" cy=\"132\" r=\"11\" fill=\"rgb(255,255,255)\" class=\"agent_1_55\"/><circle cx=\"200\" cy=\"251\" r=\"12\" fill=\"rgb(255,255,255)\" class=\"agent_1_67\"/><circle cx=\"280\" cy=\"107\" r=\"7\" fill=\"rgb(255,255,255)\" class=\"agent_1_70\"/><circle cx=\"293\" cy=\"362\" r=\"11\" fill=\"rgb(255,255,255)\" class=\"agent_1_74\"/><circle cx=\"259\" cy=\"240\" r=\"12\" fill=\"rgb(255,255,255)\" class=\"agent_1_79\"/></svg></div>"
      ],
      "text/plain": [
       "<IPython.core.display.HTML object>"
      ]
     },
     "metadata": {},
     "output_type": "display_data"
    },
    {
     "name": "stdout",
     "output_type": "stream",
     "text": [
      "partner_refs_pred\n"
     ]
    },
    {
     "data": {
      "text/html": [
       "<div style=\"white-space: nowrap\"><svg viewbox='0 0 430 430' width=\"172\" height=\"172\" id=\"agent_1\"><circle cx=\"215\" cy=\"215\" r=\"205\" fill=\"none\" stroke=\"black\" stroke-width=\"2\" stroke-dasharray=\"3,3\"/><circle cx=\"335\" cy=\"103\" r=\"9\" fill=\"rgb(164,164,164)\"/><circle cx=\"91\" cy=\"243\" r=\"12\" fill=\"rgb(119,119,119)\"/><circle cx=\"396\" cy=\"132\" r=\"11\" fill=\"rgb(82,82,82)\"/><circle cx=\"200\" cy=\"251\" r=\"12\" fill=\"rgb(73,73,73)\"/><circle cx=\"280\" cy=\"107\" r=\"7\" fill=\"rgb(132,132,132)\"/><circle cx=\"293\" cy=\"362\" r=\"11\" fill=\"rgb(113,113,113)\"/><circle cx=\"259\" cy=\"240\" r=\"12\" fill=\"rgb(153,153,153)\"/></svg><svg viewBox='0 0 430 430' id=\"svg\" width=\"172\" height=\"172\"><circle cx=\"215\" cy=\"215\" r=\"205\" fill=\"none\" stroke=\"black\" stroke-width=\"2\" stroke-dasharray=\"3,3\"/> <circle cx=\"335\" cy=\"103\" r=\"9\" fill=\"rgb(255,255,255)\" class=\"agent_1_8\"/><circle cx=\"91\" cy=\"243\" r=\"12\" fill=\"rgb(255,0,0)\" class=\"agent_1_26\"/><circle cx=\"396\" cy=\"132\" r=\"11\" fill=\"rgb(255,255,255)\" class=\"agent_1_55\"/><circle cx=\"200\" cy=\"251\" r=\"12\" fill=\"rgb(255,0,0)\" class=\"agent_1_67\"/><circle cx=\"280\" cy=\"107\" r=\"7\" fill=\"rgb(255,255,255)\" class=\"agent_1_70\"/><circle cx=\"293\" cy=\"362\" r=\"11\" fill=\"rgb(255,255,255)\" class=\"agent_1_74\"/><circle cx=\"259\" cy=\"240\" r=\"12\" fill=\"rgb(255,255,255)\" class=\"agent_1_79\"/></svg><svg viewBox='0 0 430 430' id=\"svg\" width=\"172\" height=\"172\"><circle cx=\"215\" cy=\"215\" r=\"205\" fill=\"none\" stroke=\"black\" stroke-width=\"2\" stroke-dasharray=\"3,3\"/> <circle cx=\"335\" cy=\"103\" r=\"9\" fill=\"rgb(255,255,255)\" class=\"agent_1_8\"/><circle cx=\"91\" cy=\"243\" r=\"12\" fill=\"rgb(255,0,0)\" class=\"agent_1_26\"/><circle cx=\"396\" cy=\"132\" r=\"11\" fill=\"rgb(255,255,255)\" class=\"agent_1_55\"/><circle cx=\"200\" cy=\"251\" r=\"12\" fill=\"rgb(255,255,255)\" class=\"agent_1_67\"/><circle cx=\"280\" cy=\"107\" r=\"7\" fill=\"rgb(255,255,255)\" class=\"agent_1_70\"/><circle cx=\"293\" cy=\"362\" r=\"11\" fill=\"rgb(255,255,255)\" class=\"agent_1_74\"/><circle cx=\"259\" cy=\"240\" r=\"12\" fill=\"rgb(255,255,255)\" class=\"agent_1_79\"/></svg><svg viewBox='0 0 430 430' id=\"svg\" width=\"172\" height=\"172\"><circle cx=\"215\" cy=\"215\" r=\"205\" fill=\"none\" stroke=\"black\" stroke-width=\"2\" stroke-dasharray=\"3,3\"/> <circle cx=\"335\" cy=\"103\" r=\"9\" fill=\"rgb(255,255,255)\" class=\"agent_1_8\"/><circle cx=\"91\" cy=\"243\" r=\"12\" fill=\"rgb(255,0,0)\" class=\"agent_1_26\"/><circle cx=\"396\" cy=\"132\" r=\"11\" fill=\"rgb(255,255,255)\" class=\"agent_1_55\"/><circle cx=\"200\" cy=\"251\" r=\"12\" fill=\"rgb(255,255,255)\" class=\"agent_1_67\"/><circle cx=\"280\" cy=\"107\" r=\"7\" fill=\"rgb(255,255,255)\" class=\"agent_1_70\"/><circle cx=\"293\" cy=\"362\" r=\"11\" fill=\"rgb(255,255,255)\" class=\"agent_1_74\"/><circle cx=\"259\" cy=\"240\" r=\"12\" fill=\"rgb(255,255,255)\" class=\"agent_1_79\"/></svg></div>"
      ],
      "text/plain": [
       "<IPython.core.display.HTML object>"
      ]
     },
     "metadata": {},
     "output_type": "display_data"
    },
    {
     "name": "stdout",
     "output_type": "stream",
     "text": [
      "\n",
      "----------------------------------------\n",
      "\n",
      "to_mention_true\n"
     ]
    },
    {
     "data": {
      "text/html": [
       "<div style=\"white-space: nowrap\"><svg viewbox='0 0 430 430' width=\"172\" height=\"172\" id=\"agent_1\"><circle cx=\"215\" cy=\"215\" r=\"205\" fill=\"none\" stroke=\"black\" stroke-width=\"2\" stroke-dasharray=\"3,3\"/><circle cx=\"335\" cy=\"103\" r=\"9\" fill=\"rgb(164,164,164)\"/><circle cx=\"91\" cy=\"243\" r=\"12\" fill=\"rgb(119,119,119)\"/><circle cx=\"396\" cy=\"132\" r=\"11\" fill=\"rgb(82,82,82)\"/><circle cx=\"200\" cy=\"251\" r=\"12\" fill=\"rgb(73,73,73)\"/><circle cx=\"280\" cy=\"107\" r=\"7\" fill=\"rgb(132,132,132)\"/><circle cx=\"293\" cy=\"362\" r=\"11\" fill=\"rgb(113,113,113)\"/><circle cx=\"259\" cy=\"240\" r=\"12\" fill=\"rgb(153,153,153)\"/></svg><svg viewBox='0 0 430 430' id=\"svg\" width=\"172\" height=\"172\"><circle cx=\"215\" cy=\"215\" r=\"205\" fill=\"none\" stroke=\"black\" stroke-width=\"2\" stroke-dasharray=\"3,3\"/> <circle cx=\"335\" cy=\"103\" r=\"9\" fill=\"rgb(255,255,255)\" class=\"agent_1_8\"/><circle cx=\"91\" cy=\"243\" r=\"12\" fill=\"rgb(255,255,255)\" class=\"agent_1_26\"/><circle cx=\"396\" cy=\"132\" r=\"11\" fill=\"rgb(255,255,255)\" class=\"agent_1_55\"/><circle cx=\"200\" cy=\"251\" r=\"12\" fill=\"rgb(255,0,0)\" class=\"agent_1_67\"/><circle cx=\"280\" cy=\"107\" r=\"7\" fill=\"rgb(255,255,255)\" class=\"agent_1_70\"/><circle cx=\"293\" cy=\"362\" r=\"11\" fill=\"rgb(255,255,255)\" class=\"agent_1_74\"/><circle cx=\"259\" cy=\"240\" r=\"12\" fill=\"rgb(255,255,255)\" class=\"agent_1_79\"/></svg><svg viewBox='0 0 430 430' id=\"svg\" width=\"172\" height=\"172\"><circle cx=\"215\" cy=\"215\" r=\"205\" fill=\"none\" stroke=\"black\" stroke-width=\"2\" stroke-dasharray=\"3,3\"/> <circle cx=\"335\" cy=\"103\" r=\"9\" fill=\"rgb(255,255,255)\" class=\"agent_1_8\"/><circle cx=\"91\" cy=\"243\" r=\"12\" fill=\"rgb(255,255,255)\" class=\"agent_1_26\"/><circle cx=\"396\" cy=\"132\" r=\"11\" fill=\"rgb(255,255,255)\" class=\"agent_1_55\"/><circle cx=\"200\" cy=\"251\" r=\"12\" fill=\"rgb(255,255,255)\" class=\"agent_1_67\"/><circle cx=\"280\" cy=\"107\" r=\"7\" fill=\"rgb(255,255,255)\" class=\"agent_1_70\"/><circle cx=\"293\" cy=\"362\" r=\"11\" fill=\"rgb(255,255,255)\" class=\"agent_1_74\"/><circle cx=\"259\" cy=\"240\" r=\"12\" fill=\"rgb(255,0,0)\" class=\"agent_1_79\"/></svg><svg viewBox='0 0 430 430' id=\"svg\" width=\"172\" height=\"172\"><circle cx=\"215\" cy=\"215\" r=\"205\" fill=\"none\" stroke=\"black\" stroke-width=\"2\" stroke-dasharray=\"3,3\"/> <circle cx=\"335\" cy=\"103\" r=\"9\" fill=\"rgb(255,255,255)\" class=\"agent_1_8\"/><circle cx=\"91\" cy=\"243\" r=\"12\" fill=\"rgb(255,255,255)\" class=\"agent_1_26\"/><circle cx=\"396\" cy=\"132\" r=\"11\" fill=\"rgb(255,255,255)\" class=\"agent_1_55\"/><circle cx=\"200\" cy=\"251\" r=\"12\" fill=\"rgb(255,0,0)\" class=\"agent_1_67\"/><circle cx=\"280\" cy=\"107\" r=\"7\" fill=\"rgb(255,255,255)\" class=\"agent_1_70\"/><circle cx=\"293\" cy=\"362\" r=\"11\" fill=\"rgb(255,255,255)\" class=\"agent_1_74\"/><circle cx=\"259\" cy=\"240\" r=\"12\" fill=\"rgb(255,255,255)\" class=\"agent_1_79\"/></svg><svg viewBox='0 0 430 430' id=\"svg\" width=\"172\" height=\"172\"><circle cx=\"215\" cy=\"215\" r=\"205\" fill=\"none\" stroke=\"black\" stroke-width=\"2\" stroke-dasharray=\"3,3\"/> <circle cx=\"335\" cy=\"103\" r=\"9\" fill=\"rgb(255,255,255)\" class=\"agent_1_8\"/><circle cx=\"91\" cy=\"243\" r=\"12\" fill=\"rgb(255,0,0)\" class=\"agent_1_26\"/><circle cx=\"396\" cy=\"132\" r=\"11\" fill=\"rgb(255,255,255)\" class=\"agent_1_55\"/><circle cx=\"200\" cy=\"251\" r=\"12\" fill=\"rgb(255,255,255)\" class=\"agent_1_67\"/><circle cx=\"280\" cy=\"107\" r=\"7\" fill=\"rgb(255,255,255)\" class=\"agent_1_70\"/><circle cx=\"293\" cy=\"362\" r=\"11\" fill=\"rgb(255,255,255)\" class=\"agent_1_74\"/><circle cx=\"259\" cy=\"240\" r=\"12\" fill=\"rgb(255,255,255)\" class=\"agent_1_79\"/></svg></div>"
      ],
      "text/plain": [
       "<IPython.core.display.HTML object>"
      ]
     },
     "metadata": {},
     "output_type": "display_data"
    },
    {
     "name": "stdout",
     "output_type": "stream",
     "text": [
      "to_mention_pred\n"
     ]
    },
    {
     "data": {
      "text/html": [
       "<div style=\"white-space: nowrap\"><svg viewbox='0 0 430 430' width=\"172\" height=\"172\" id=\"agent_1\"><circle cx=\"215\" cy=\"215\" r=\"205\" fill=\"none\" stroke=\"black\" stroke-width=\"2\" stroke-dasharray=\"3,3\"/><circle cx=\"335\" cy=\"103\" r=\"9\" fill=\"rgb(164,164,164)\"/><circle cx=\"91\" cy=\"243\" r=\"12\" fill=\"rgb(119,119,119)\"/><circle cx=\"396\" cy=\"132\" r=\"11\" fill=\"rgb(82,82,82)\"/><circle cx=\"200\" cy=\"251\" r=\"12\" fill=\"rgb(73,73,73)\"/><circle cx=\"280\" cy=\"107\" r=\"7\" fill=\"rgb(132,132,132)\"/><circle cx=\"293\" cy=\"362\" r=\"11\" fill=\"rgb(113,113,113)\"/><circle cx=\"259\" cy=\"240\" r=\"12\" fill=\"rgb(153,153,153)\"/></svg><svg viewBox='0 0 430 430' id=\"svg\" width=\"172\" height=\"172\"><circle cx=\"215\" cy=\"215\" r=\"205\" fill=\"none\" stroke=\"black\" stroke-width=\"2\" stroke-dasharray=\"3,3\"/> <circle cx=\"335\" cy=\"103\" r=\"9\" fill=\"rgb(255,255,255)\" class=\"agent_1_8\"/><circle cx=\"91\" cy=\"243\" r=\"12\" fill=\"rgb(255,255,255)\" class=\"agent_1_26\"/><circle cx=\"396\" cy=\"132\" r=\"11\" fill=\"rgb(255,255,255)\" class=\"agent_1_55\"/><circle cx=\"200\" cy=\"251\" r=\"12\" fill=\"rgb(255,0,0)\" class=\"agent_1_67\"/><circle cx=\"280\" cy=\"107\" r=\"7\" fill=\"rgb(255,255,255)\" class=\"agent_1_70\"/><circle cx=\"293\" cy=\"362\" r=\"11\" fill=\"rgb(255,255,255)\" class=\"agent_1_74\"/><circle cx=\"259\" cy=\"240\" r=\"12\" fill=\"rgb(255,0,0)\" class=\"agent_1_79\"/></svg><svg viewBox='0 0 430 430' id=\"svg\" width=\"172\" height=\"172\"><circle cx=\"215\" cy=\"215\" r=\"205\" fill=\"none\" stroke=\"black\" stroke-width=\"2\" stroke-dasharray=\"3,3\"/> <circle cx=\"335\" cy=\"103\" r=\"9\" fill=\"rgb(255,255,255)\" class=\"agent_1_8\"/><circle cx=\"91\" cy=\"243\" r=\"12\" fill=\"rgb(255,0,0)\" class=\"agent_1_26\"/><circle cx=\"396\" cy=\"132\" r=\"11\" fill=\"rgb(255,255,255)\" class=\"agent_1_55\"/><circle cx=\"200\" cy=\"251\" r=\"12\" fill=\"rgb(255,0,0)\" class=\"agent_1_67\"/><circle cx=\"280\" cy=\"107\" r=\"7\" fill=\"rgb(255,255,255)\" class=\"agent_1_70\"/><circle cx=\"293\" cy=\"362\" r=\"11\" fill=\"rgb(255,255,255)\" class=\"agent_1_74\"/><circle cx=\"259\" cy=\"240\" r=\"12\" fill=\"rgb(255,0,0)\" class=\"agent_1_79\"/></svg><svg viewBox='0 0 430 430' id=\"svg\" width=\"172\" height=\"172\"><circle cx=\"215\" cy=\"215\" r=\"205\" fill=\"none\" stroke=\"black\" stroke-width=\"2\" stroke-dasharray=\"3,3\"/> <circle cx=\"335\" cy=\"103\" r=\"9\" fill=\"rgb(255,255,255)\" class=\"agent_1_8\"/><circle cx=\"91\" cy=\"243\" r=\"12\" fill=\"rgb(255,255,255)\" class=\"agent_1_26\"/><circle cx=\"396\" cy=\"132\" r=\"11\" fill=\"rgb(255,255,255)\" class=\"agent_1_55\"/><circle cx=\"200\" cy=\"251\" r=\"12\" fill=\"rgb(255,0,0)\" class=\"agent_1_67\"/><circle cx=\"280\" cy=\"107\" r=\"7\" fill=\"rgb(255,255,255)\" class=\"agent_1_70\"/><circle cx=\"293\" cy=\"362\" r=\"11\" fill=\"rgb(255,255,255)\" class=\"agent_1_74\"/><circle cx=\"259\" cy=\"240\" r=\"12\" fill=\"rgb(255,255,255)\" class=\"agent_1_79\"/></svg><svg viewBox='0 0 430 430' id=\"svg\" width=\"172\" height=\"172\"><circle cx=\"215\" cy=\"215\" r=\"205\" fill=\"none\" stroke=\"black\" stroke-width=\"2\" stroke-dasharray=\"3,3\"/> <circle cx=\"335\" cy=\"103\" r=\"9\" fill=\"rgb(255,255,255)\" class=\"agent_1_8\"/><circle cx=\"91\" cy=\"243\" r=\"12\" fill=\"rgb(255,255,255)\" class=\"agent_1_26\"/><circle cx=\"396\" cy=\"132\" r=\"11\" fill=\"rgb(255,255,255)\" class=\"agent_1_55\"/><circle cx=\"200\" cy=\"251\" r=\"12\" fill=\"rgb(255,255,255)\" class=\"agent_1_67\"/><circle cx=\"280\" cy=\"107\" r=\"7\" fill=\"rgb(255,255,255)\" class=\"agent_1_70\"/><circle cx=\"293\" cy=\"362\" r=\"11\" fill=\"rgb(255,255,255)\" class=\"agent_1_74\"/><circle cx=\"259\" cy=\"240\" r=\"12\" fill=\"rgb(255,0,0)\" class=\"agent_1_79\"/></svg></div>"
      ],
      "text/plain": [
       "<IPython.core.display.HTML object>"
      ]
     },
     "metadata": {},
     "output_type": "display_data"
    },
    {
     "name": "stdout",
     "output_type": "stream",
     "text": [
      "sample 0\tno , i have a large black dot and a medium gray dot , and a large dark grey dot . i think i have that one . do you have a large dark grey dot ? <eos>\n",
      "sample 1\ti see a large black dot with a medium grey dot to the left of it . let 's pick the large dark grey dot . <eos>\n",
      "sample 2\tyes i have the large black dot and the smaller grey one is a little bit above it , and to the left of it <eos>\n",
      "sample 3\tyes , i have a large black dot with a lighter grey dot to the left of it . let 's pick the large dark dot <eos>\n",
      "sample 4\tyes , i have a black dot , with a light grey dot to the left of it . i do have a large dark grey dot on the right side of the circle <eos>\n",
      "sample 5\tyes it is the darkest dot , i have a large black dot , with a slightly smaller grey dot to the right of it . <eos>\n",
      "sample 6\ti have a large black dot , with a smaller dark grey dot to the left of it . i do n't have the one you described . <eos>\n",
      "sample 7\ti have a large black dot with a slightly smaller grey dot below and to the left of it . do you see that ? <eos>\n",
      "sample 8\ti have a large black dot , with a lighter grey to the left of it . i have a group of 3 dots that form a triangle . the top left is the largest and darkest <eos>\n",
      "sample 9\tyes , it is at the top of my circle , but i do have a large dark grey dot with a larger dark grey dot to the right of it . <eos>\n",
      "argmax\tyes , i have a large black dot with a medium grey dot to the right of it . i do have that one . <eos>\n",
      "human\tno our circles will be different - i see <unk> different largest black dot near center on my circle with same size lighter dot to its immediate right and another same size farther away to the left <eos>\n",
      "refs_true\n"
     ]
    },
    {
     "data": {
      "text/html": [
       "<div style=\"white-space: nowrap\"><svg viewbox='0 0 430 430' width=\"172\" height=\"172\" id=\"agent_1\"><circle cx=\"215\" cy=\"215\" r=\"205\" fill=\"none\" stroke=\"black\" stroke-width=\"2\" stroke-dasharray=\"3,3\"/><circle cx=\"335\" cy=\"103\" r=\"9\" fill=\"rgb(164,164,164)\"/><circle cx=\"91\" cy=\"243\" r=\"12\" fill=\"rgb(119,119,119)\"/><circle cx=\"396\" cy=\"132\" r=\"11\" fill=\"rgb(82,82,82)\"/><circle cx=\"200\" cy=\"251\" r=\"12\" fill=\"rgb(73,73,73)\"/><circle cx=\"280\" cy=\"107\" r=\"7\" fill=\"rgb(132,132,132)\"/><circle cx=\"293\" cy=\"362\" r=\"11\" fill=\"rgb(113,113,113)\"/><circle cx=\"259\" cy=\"240\" r=\"12\" fill=\"rgb(153,153,153)\"/></svg><svg viewBox='0 0 430 430' id=\"svg\" width=\"172\" height=\"172\"><circle cx=\"215\" cy=\"215\" r=\"205\" fill=\"none\" stroke=\"black\" stroke-width=\"2\" stroke-dasharray=\"3,3\"/> <circle cx=\"335\" cy=\"103\" r=\"9\" fill=\"rgb(255,255,255)\" class=\"agent_1_8\"/><circle cx=\"91\" cy=\"243\" r=\"12\" fill=\"rgb(255,255,255)\" class=\"agent_1_26\"/><circle cx=\"396\" cy=\"132\" r=\"11\" fill=\"rgb(255,255,255)\" class=\"agent_1_55\"/><circle cx=\"200\" cy=\"251\" r=\"12\" fill=\"rgb(255,0,0)\" class=\"agent_1_67\"/><circle cx=\"280\" cy=\"107\" r=\"7\" fill=\"rgb(255,255,255)\" class=\"agent_1_70\"/><circle cx=\"293\" cy=\"362\" r=\"11\" fill=\"rgb(255,255,255)\" class=\"agent_1_74\"/><circle cx=\"259\" cy=\"240\" r=\"12\" fill=\"rgb(255,255,255)\" class=\"agent_1_79\"/></svg><svg viewBox='0 0 430 430' id=\"svg\" width=\"172\" height=\"172\"><circle cx=\"215\" cy=\"215\" r=\"205\" fill=\"none\" stroke=\"black\" stroke-width=\"2\" stroke-dasharray=\"3,3\"/> <circle cx=\"335\" cy=\"103\" r=\"9\" fill=\"rgb(255,255,255)\" class=\"agent_1_8\"/><circle cx=\"91\" cy=\"243\" r=\"12\" fill=\"rgb(255,255,255)\" class=\"agent_1_26\"/><circle cx=\"396\" cy=\"132\" r=\"11\" fill=\"rgb(255,255,255)\" class=\"agent_1_55\"/><circle cx=\"200\" cy=\"251\" r=\"12\" fill=\"rgb(255,255,255)\" class=\"agent_1_67\"/><circle cx=\"280\" cy=\"107\" r=\"7\" fill=\"rgb(255,255,255)\" class=\"agent_1_70\"/><circle cx=\"293\" cy=\"362\" r=\"11\" fill=\"rgb(255,255,255)\" class=\"agent_1_74\"/><circle cx=\"259\" cy=\"240\" r=\"12\" fill=\"rgb(255,0,0)\" class=\"agent_1_79\"/></svg><svg viewBox='0 0 430 430' id=\"svg\" width=\"172\" height=\"172\"><circle cx=\"215\" cy=\"215\" r=\"205\" fill=\"none\" stroke=\"black\" stroke-width=\"2\" stroke-dasharray=\"3,3\"/> <circle cx=\"335\" cy=\"103\" r=\"9\" fill=\"rgb(255,255,255)\" class=\"agent_1_8\"/><circle cx=\"91\" cy=\"243\" r=\"12\" fill=\"rgb(255,255,255)\" class=\"agent_1_26\"/><circle cx=\"396\" cy=\"132\" r=\"11\" fill=\"rgb(255,255,255)\" class=\"agent_1_55\"/><circle cx=\"200\" cy=\"251\" r=\"12\" fill=\"rgb(255,0,0)\" class=\"agent_1_67\"/><circle cx=\"280\" cy=\"107\" r=\"7\" fill=\"rgb(255,255,255)\" class=\"agent_1_70\"/><circle cx=\"293\" cy=\"362\" r=\"11\" fill=\"rgb(255,255,255)\" class=\"agent_1_74\"/><circle cx=\"259\" cy=\"240\" r=\"12\" fill=\"rgb(255,255,255)\" class=\"agent_1_79\"/></svg><svg viewBox='0 0 430 430' id=\"svg\" width=\"172\" height=\"172\"><circle cx=\"215\" cy=\"215\" r=\"205\" fill=\"none\" stroke=\"black\" stroke-width=\"2\" stroke-dasharray=\"3,3\"/> <circle cx=\"335\" cy=\"103\" r=\"9\" fill=\"rgb(255,255,255)\" class=\"agent_1_8\"/><circle cx=\"91\" cy=\"243\" r=\"12\" fill=\"rgb(255,0,0)\" class=\"agent_1_26\"/><circle cx=\"396\" cy=\"132\" r=\"11\" fill=\"rgb(255,255,255)\" class=\"agent_1_55\"/><circle cx=\"200\" cy=\"251\" r=\"12\" fill=\"rgb(255,255,255)\" class=\"agent_1_67\"/><circle cx=\"280\" cy=\"107\" r=\"7\" fill=\"rgb(255,255,255)\" class=\"agent_1_70\"/><circle cx=\"293\" cy=\"362\" r=\"11\" fill=\"rgb(255,255,255)\" class=\"agent_1_74\"/><circle cx=\"259\" cy=\"240\" r=\"12\" fill=\"rgb(255,255,255)\" class=\"agent_1_79\"/></svg></div>"
      ],
      "text/plain": [
       "<IPython.core.display.HTML object>"
      ]
     },
     "metadata": {},
     "output_type": "display_data"
    },
    {
     "name": "stdout",
     "output_type": "stream",
     "text": [
      "refs_pred\n"
     ]
    },
    {
     "data": {
      "text/html": [
       "<div style=\"white-space: nowrap\"><svg viewbox='0 0 430 430' width=\"172\" height=\"172\" id=\"agent_1\"><circle cx=\"215\" cy=\"215\" r=\"205\" fill=\"none\" stroke=\"black\" stroke-width=\"2\" stroke-dasharray=\"3,3\"/><circle cx=\"335\" cy=\"103\" r=\"9\" fill=\"rgb(164,164,164)\"/><circle cx=\"91\" cy=\"243\" r=\"12\" fill=\"rgb(119,119,119)\"/><circle cx=\"396\" cy=\"132\" r=\"11\" fill=\"rgb(82,82,82)\"/><circle cx=\"200\" cy=\"251\" r=\"12\" fill=\"rgb(73,73,73)\"/><circle cx=\"280\" cy=\"107\" r=\"7\" fill=\"rgb(132,132,132)\"/><circle cx=\"293\" cy=\"362\" r=\"11\" fill=\"rgb(113,113,113)\"/><circle cx=\"259\" cy=\"240\" r=\"12\" fill=\"rgb(153,153,153)\"/></svg><svg viewBox='0 0 430 430' id=\"svg\" width=\"172\" height=\"172\"><circle cx=\"215\" cy=\"215\" r=\"205\" fill=\"none\" stroke=\"black\" stroke-width=\"2\" stroke-dasharray=\"3,3\"/> <circle cx=\"335\" cy=\"103\" r=\"9\" fill=\"rgb(255,255,255)\" class=\"agent_1_8\"/><circle cx=\"91\" cy=\"243\" r=\"12\" fill=\"rgb(255,255,255)\" class=\"agent_1_26\"/><circle cx=\"396\" cy=\"132\" r=\"11\" fill=\"rgb(255,255,255)\" class=\"agent_1_55\"/><circle cx=\"200\" cy=\"251\" r=\"12\" fill=\"rgb(255,0,0)\" class=\"agent_1_67\"/><circle cx=\"280\" cy=\"107\" r=\"7\" fill=\"rgb(255,255,255)\" class=\"agent_1_70\"/><circle cx=\"293\" cy=\"362\" r=\"11\" fill=\"rgb(255,255,255)\" class=\"agent_1_74\"/><circle cx=\"259\" cy=\"240\" r=\"12\" fill=\"rgb(255,255,255)\" class=\"agent_1_79\"/></svg><svg viewBox='0 0 430 430' id=\"svg\" width=\"172\" height=\"172\"><circle cx=\"215\" cy=\"215\" r=\"205\" fill=\"none\" stroke=\"black\" stroke-width=\"2\" stroke-dasharray=\"3,3\"/> <circle cx=\"335\" cy=\"103\" r=\"9\" fill=\"rgb(255,255,255)\" class=\"agent_1_8\"/><circle cx=\"91\" cy=\"243\" r=\"12\" fill=\"rgb(255,255,255)\" class=\"agent_1_26\"/><circle cx=\"396\" cy=\"132\" r=\"11\" fill=\"rgb(255,255,255)\" class=\"agent_1_55\"/><circle cx=\"200\" cy=\"251\" r=\"12\" fill=\"rgb(255,255,255)\" class=\"agent_1_67\"/><circle cx=\"280\" cy=\"107\" r=\"7\" fill=\"rgb(255,255,255)\" class=\"agent_1_70\"/><circle cx=\"293\" cy=\"362\" r=\"11\" fill=\"rgb(255,255,255)\" class=\"agent_1_74\"/><circle cx=\"259\" cy=\"240\" r=\"12\" fill=\"rgb(255,0,0)\" class=\"agent_1_79\"/></svg><svg viewBox='0 0 430 430' id=\"svg\" width=\"172\" height=\"172\"><circle cx=\"215\" cy=\"215\" r=\"205\" fill=\"none\" stroke=\"black\" stroke-width=\"2\" stroke-dasharray=\"3,3\"/> <circle cx=\"335\" cy=\"103\" r=\"9\" fill=\"rgb(255,255,255)\" class=\"agent_1_8\"/><circle cx=\"91\" cy=\"243\" r=\"12\" fill=\"rgb(255,255,255)\" class=\"agent_1_26\"/><circle cx=\"396\" cy=\"132\" r=\"11\" fill=\"rgb(255,255,255)\" class=\"agent_1_55\"/><circle cx=\"200\" cy=\"251\" r=\"12\" fill=\"rgb(255,0,0)\" class=\"agent_1_67\"/><circle cx=\"280\" cy=\"107\" r=\"7\" fill=\"rgb(255,255,255)\" class=\"agent_1_70\"/><circle cx=\"293\" cy=\"362\" r=\"11\" fill=\"rgb(255,255,255)\" class=\"agent_1_74\"/><circle cx=\"259\" cy=\"240\" r=\"12\" fill=\"rgb(255,255,255)\" class=\"agent_1_79\"/></svg><svg viewBox='0 0 430 430' id=\"svg\" width=\"172\" height=\"172\"><circle cx=\"215\" cy=\"215\" r=\"205\" fill=\"none\" stroke=\"black\" stroke-width=\"2\" stroke-dasharray=\"3,3\"/> <circle cx=\"335\" cy=\"103\" r=\"9\" fill=\"rgb(255,255,255)\" class=\"agent_1_8\"/><circle cx=\"91\" cy=\"243\" r=\"12\" fill=\"rgb(255,0,0)\" class=\"agent_1_26\"/><circle cx=\"396\" cy=\"132\" r=\"11\" fill=\"rgb(255,255,255)\" class=\"agent_1_55\"/><circle cx=\"200\" cy=\"251\" r=\"12\" fill=\"rgb(255,255,255)\" class=\"agent_1_67\"/><circle cx=\"280\" cy=\"107\" r=\"7\" fill=\"rgb(255,255,255)\" class=\"agent_1_70\"/><circle cx=\"293\" cy=\"362\" r=\"11\" fill=\"rgb(255,255,255)\" class=\"agent_1_74\"/><circle cx=\"259\" cy=\"240\" r=\"12\" fill=\"rgb(255,255,255)\" class=\"agent_1_79\"/></svg></div>"
      ],
      "text/plain": [
       "<IPython.core.display.HTML object>"
      ]
     },
     "metadata": {},
     "output_type": "display_data"
    },
    {
     "name": "stdout",
     "output_type": "stream",
     "text": [
      "\n",
      "----------------------------------------\n",
      "\n",
      "human\tTHEM: lets try the larger darkest one at the top <eos>\n",
      "partner_refs_true\n"
     ]
    },
    {
     "data": {
      "text/html": [
       "<div style=\"white-space: nowrap\"><svg viewbox='0 0 430 430' width=\"172\" height=\"172\" id=\"agent_1\"><circle cx=\"215\" cy=\"215\" r=\"205\" fill=\"none\" stroke=\"black\" stroke-width=\"2\" stroke-dasharray=\"3,3\"/><circle cx=\"335\" cy=\"103\" r=\"9\" fill=\"rgb(164,164,164)\"/><circle cx=\"91\" cy=\"243\" r=\"12\" fill=\"rgb(119,119,119)\"/><circle cx=\"396\" cy=\"132\" r=\"11\" fill=\"rgb(82,82,82)\"/><circle cx=\"200\" cy=\"251\" r=\"12\" fill=\"rgb(73,73,73)\"/><circle cx=\"280\" cy=\"107\" r=\"7\" fill=\"rgb(132,132,132)\"/><circle cx=\"293\" cy=\"362\" r=\"11\" fill=\"rgb(113,113,113)\"/><circle cx=\"259\" cy=\"240\" r=\"12\" fill=\"rgb(153,153,153)\"/></svg><svg viewBox='0 0 430 430' id=\"svg\" width=\"172\" height=\"172\"><circle cx=\"215\" cy=\"215\" r=\"205\" fill=\"none\" stroke=\"black\" stroke-width=\"2\" stroke-dasharray=\"3,3\"/> <circle cx=\"335\" cy=\"103\" r=\"9\" fill=\"rgb(255,255,255)\" class=\"agent_1_8\"/><circle cx=\"91\" cy=\"243\" r=\"12\" fill=\"rgb(255,255,255)\" class=\"agent_1_26\"/><circle cx=\"396\" cy=\"132\" r=\"11\" fill=\"rgb(255,255,255)\" class=\"agent_1_55\"/><circle cx=\"200\" cy=\"251\" r=\"12\" fill=\"rgb(255,0,0)\" class=\"agent_1_67\"/><circle cx=\"280\" cy=\"107\" r=\"7\" fill=\"rgb(255,255,255)\" class=\"agent_1_70\"/><circle cx=\"293\" cy=\"362\" r=\"11\" fill=\"rgb(255,255,255)\" class=\"agent_1_74\"/><circle cx=\"259\" cy=\"240\" r=\"12\" fill=\"rgb(255,255,255)\" class=\"agent_1_79\"/></svg></div>"
      ],
      "text/plain": [
       "<IPython.core.display.HTML object>"
      ]
     },
     "metadata": {},
     "output_type": "display_data"
    },
    {
     "name": "stdout",
     "output_type": "stream",
     "text": [
      "partner_refs_pred\n"
     ]
    },
    {
     "data": {
      "text/html": [
       "<div style=\"white-space: nowrap\"><svg viewbox='0 0 430 430' width=\"172\" height=\"172\" id=\"agent_1\"><circle cx=\"215\" cy=\"215\" r=\"205\" fill=\"none\" stroke=\"black\" stroke-width=\"2\" stroke-dasharray=\"3,3\"/><circle cx=\"335\" cy=\"103\" r=\"9\" fill=\"rgb(164,164,164)\"/><circle cx=\"91\" cy=\"243\" r=\"12\" fill=\"rgb(119,119,119)\"/><circle cx=\"396\" cy=\"132\" r=\"11\" fill=\"rgb(82,82,82)\"/><circle cx=\"200\" cy=\"251\" r=\"12\" fill=\"rgb(73,73,73)\"/><circle cx=\"280\" cy=\"107\" r=\"7\" fill=\"rgb(132,132,132)\"/><circle cx=\"293\" cy=\"362\" r=\"11\" fill=\"rgb(113,113,113)\"/><circle cx=\"259\" cy=\"240\" r=\"12\" fill=\"rgb(153,153,153)\"/></svg><svg viewBox='0 0 430 430' id=\"svg\" width=\"172\" height=\"172\"><circle cx=\"215\" cy=\"215\" r=\"205\" fill=\"none\" stroke=\"black\" stroke-width=\"2\" stroke-dasharray=\"3,3\"/> <circle cx=\"335\" cy=\"103\" r=\"9\" fill=\"rgb(255,255,255)\" class=\"agent_1_8\"/><circle cx=\"91\" cy=\"243\" r=\"12\" fill=\"rgb(255,255,255)\" class=\"agent_1_26\"/><circle cx=\"396\" cy=\"132\" r=\"11\" fill=\"rgb(255,255,255)\" class=\"agent_1_55\"/><circle cx=\"200\" cy=\"251\" r=\"12\" fill=\"rgb(255,0,0)\" class=\"agent_1_67\"/><circle cx=\"280\" cy=\"107\" r=\"7\" fill=\"rgb(255,255,255)\" class=\"agent_1_70\"/><circle cx=\"293\" cy=\"362\" r=\"11\" fill=\"rgb(255,255,255)\" class=\"agent_1_74\"/><circle cx=\"259\" cy=\"240\" r=\"12\" fill=\"rgb(255,255,255)\" class=\"agent_1_79\"/></svg></div>"
      ],
      "text/plain": [
       "<IPython.core.display.HTML object>"
      ]
     },
     "metadata": {},
     "output_type": "display_data"
    },
    {
     "name": "stdout",
     "output_type": "stream",
     "text": [
      "\n",
      "----------------------------------------\n",
      "\n",
      "to_mention_true\n"
     ]
    },
    {
     "data": {
      "text/html": [
       "<div style=\"white-space: nowrap\"><svg viewbox='0 0 430 430' width=\"172\" height=\"172\" id=\"agent_1\"><circle cx=\"215\" cy=\"215\" r=\"205\" fill=\"none\" stroke=\"black\" stroke-width=\"2\" stroke-dasharray=\"3,3\"/><circle cx=\"335\" cy=\"103\" r=\"9\" fill=\"rgb(164,164,164)\"/><circle cx=\"91\" cy=\"243\" r=\"12\" fill=\"rgb(119,119,119)\"/><circle cx=\"396\" cy=\"132\" r=\"11\" fill=\"rgb(82,82,82)\"/><circle cx=\"200\" cy=\"251\" r=\"12\" fill=\"rgb(73,73,73)\"/><circle cx=\"280\" cy=\"107\" r=\"7\" fill=\"rgb(132,132,132)\"/><circle cx=\"293\" cy=\"362\" r=\"11\" fill=\"rgb(113,113,113)\"/><circle cx=\"259\" cy=\"240\" r=\"12\" fill=\"rgb(153,153,153)\"/></svg><svg viewBox='0 0 430 430' id=\"svg\" width=\"172\" height=\"172\"><circle cx=\"215\" cy=\"215\" r=\"205\" fill=\"none\" stroke=\"black\" stroke-width=\"2\" stroke-dasharray=\"3,3\"/> <circle cx=\"335\" cy=\"103\" r=\"9\" fill=\"rgb(255,255,255)\" class=\"agent_1_8\"/><circle cx=\"91\" cy=\"243\" r=\"12\" fill=\"rgb(255,255,255)\" class=\"agent_1_26\"/><circle cx=\"396\" cy=\"132\" r=\"11\" fill=\"rgb(255,255,255)\" class=\"agent_1_55\"/><circle cx=\"200\" cy=\"251\" r=\"12\" fill=\"rgb(255,0,0)\" class=\"agent_1_67\"/><circle cx=\"280\" cy=\"107\" r=\"7\" fill=\"rgb(255,255,255)\" class=\"agent_1_70\"/><circle cx=\"293\" cy=\"362\" r=\"11\" fill=\"rgb(255,255,255)\" class=\"agent_1_74\"/><circle cx=\"259\" cy=\"240\" r=\"12\" fill=\"rgb(255,255,255)\" class=\"agent_1_79\"/></svg></div>"
      ],
      "text/plain": [
       "<IPython.core.display.HTML object>"
      ]
     },
     "metadata": {},
     "output_type": "display_data"
    },
    {
     "name": "stdout",
     "output_type": "stream",
     "text": [
      "to_mention_pred\n"
     ]
    },
    {
     "data": {
      "text/html": [
       "<div style=\"white-space: nowrap\"><svg viewbox='0 0 430 430' width=\"172\" height=\"172\" id=\"agent_1\"><circle cx=\"215\" cy=\"215\" r=\"205\" fill=\"none\" stroke=\"black\" stroke-width=\"2\" stroke-dasharray=\"3,3\"/><circle cx=\"335\" cy=\"103\" r=\"9\" fill=\"rgb(164,164,164)\"/><circle cx=\"91\" cy=\"243\" r=\"12\" fill=\"rgb(119,119,119)\"/><circle cx=\"396\" cy=\"132\" r=\"11\" fill=\"rgb(82,82,82)\"/><circle cx=\"200\" cy=\"251\" r=\"12\" fill=\"rgb(73,73,73)\"/><circle cx=\"280\" cy=\"107\" r=\"7\" fill=\"rgb(132,132,132)\"/><circle cx=\"293\" cy=\"362\" r=\"11\" fill=\"rgb(113,113,113)\"/><circle cx=\"259\" cy=\"240\" r=\"12\" fill=\"rgb(153,153,153)\"/></svg><svg viewBox='0 0 430 430' id=\"svg\" width=\"172\" height=\"172\"><circle cx=\"215\" cy=\"215\" r=\"205\" fill=\"none\" stroke=\"black\" stroke-width=\"2\" stroke-dasharray=\"3,3\"/> <circle cx=\"335\" cy=\"103\" r=\"9\" fill=\"rgb(255,255,255)\" class=\"agent_1_8\"/><circle cx=\"91\" cy=\"243\" r=\"12\" fill=\"rgb(255,255,255)\" class=\"agent_1_26\"/><circle cx=\"396\" cy=\"132\" r=\"11\" fill=\"rgb(255,255,255)\" class=\"agent_1_55\"/><circle cx=\"200\" cy=\"251\" r=\"12\" fill=\"rgb(255,0,0)\" class=\"agent_1_67\"/><circle cx=\"280\" cy=\"107\" r=\"7\" fill=\"rgb(255,255,255)\" class=\"agent_1_70\"/><circle cx=\"293\" cy=\"362\" r=\"11\" fill=\"rgb(255,255,255)\" class=\"agent_1_74\"/><circle cx=\"259\" cy=\"240\" r=\"12\" fill=\"rgb(255,255,255)\" class=\"agent_1_79\"/></svg></div>"
      ],
      "text/plain": [
       "<IPython.core.display.HTML object>"
      ]
     },
     "metadata": {},
     "output_type": "display_data"
    },
    {
     "name": "stdout",
     "output_type": "stream",
     "text": [
      "sample 0\ti have a large black dot on the right side <selection>\n",
      "sample 1\ti think i have it . <selection>\n",
      "sample 2\ti will click the dark one <selection>\n",
      "sample 3\tok i will click that one <selection>\n",
      "sample 4\ti see a large black dot at the top of the circle . <selection>\n",
      "sample 5\ti have a large black dot at the top of the circle <eos>\n",
      "sample 6\ti have a large black dot in the middle of the circle <eos>\n",
      "sample 7\tok i will pick the large black dot <selection>\n",
      "sample 8\tok i will pick the large black dot <selection>\n",
      "sample 9\ti have a large black dot at the bottom of the circle . <selection>\n",
      "argmax\ti have a large black dot at the top of the circle <eos>\n",
      "human\tok will click largest darkest one <selection>\n",
      "refs_true\n"
     ]
    },
    {
     "data": {
      "text/html": [
       "<div style=\"white-space: nowrap\"><svg viewbox='0 0 430 430' width=\"172\" height=\"172\" id=\"agent_1\"><circle cx=\"215\" cy=\"215\" r=\"205\" fill=\"none\" stroke=\"black\" stroke-width=\"2\" stroke-dasharray=\"3,3\"/><circle cx=\"335\" cy=\"103\" r=\"9\" fill=\"rgb(164,164,164)\"/><circle cx=\"91\" cy=\"243\" r=\"12\" fill=\"rgb(119,119,119)\"/><circle cx=\"396\" cy=\"132\" r=\"11\" fill=\"rgb(82,82,82)\"/><circle cx=\"200\" cy=\"251\" r=\"12\" fill=\"rgb(73,73,73)\"/><circle cx=\"280\" cy=\"107\" r=\"7\" fill=\"rgb(132,132,132)\"/><circle cx=\"293\" cy=\"362\" r=\"11\" fill=\"rgb(113,113,113)\"/><circle cx=\"259\" cy=\"240\" r=\"12\" fill=\"rgb(153,153,153)\"/></svg><svg viewBox='0 0 430 430' id=\"svg\" width=\"172\" height=\"172\"><circle cx=\"215\" cy=\"215\" r=\"205\" fill=\"none\" stroke=\"black\" stroke-width=\"2\" stroke-dasharray=\"3,3\"/> <circle cx=\"335\" cy=\"103\" r=\"9\" fill=\"rgb(255,255,255)\" class=\"agent_1_8\"/><circle cx=\"91\" cy=\"243\" r=\"12\" fill=\"rgb(255,255,255)\" class=\"agent_1_26\"/><circle cx=\"396\" cy=\"132\" r=\"11\" fill=\"rgb(255,255,255)\" class=\"agent_1_55\"/><circle cx=\"200\" cy=\"251\" r=\"12\" fill=\"rgb(255,0,0)\" class=\"agent_1_67\"/><circle cx=\"280\" cy=\"107\" r=\"7\" fill=\"rgb(255,255,255)\" class=\"agent_1_70\"/><circle cx=\"293\" cy=\"362\" r=\"11\" fill=\"rgb(255,255,255)\" class=\"agent_1_74\"/><circle cx=\"259\" cy=\"240\" r=\"12\" fill=\"rgb(255,255,255)\" class=\"agent_1_79\"/></svg></div>"
      ],
      "text/plain": [
       "<IPython.core.display.HTML object>"
      ]
     },
     "metadata": {},
     "output_type": "display_data"
    },
    {
     "name": "stdout",
     "output_type": "stream",
     "text": [
      "refs_pred\n"
     ]
    },
    {
     "data": {
      "text/html": [
       "<div style=\"white-space: nowrap\"><svg viewbox='0 0 430 430' width=\"172\" height=\"172\" id=\"agent_1\"><circle cx=\"215\" cy=\"215\" r=\"205\" fill=\"none\" stroke=\"black\" stroke-width=\"2\" stroke-dasharray=\"3,3\"/><circle cx=\"335\" cy=\"103\" r=\"9\" fill=\"rgb(164,164,164)\"/><circle cx=\"91\" cy=\"243\" r=\"12\" fill=\"rgb(119,119,119)\"/><circle cx=\"396\" cy=\"132\" r=\"11\" fill=\"rgb(82,82,82)\"/><circle cx=\"200\" cy=\"251\" r=\"12\" fill=\"rgb(73,73,73)\"/><circle cx=\"280\" cy=\"107\" r=\"7\" fill=\"rgb(132,132,132)\"/><circle cx=\"293\" cy=\"362\" r=\"11\" fill=\"rgb(113,113,113)\"/><circle cx=\"259\" cy=\"240\" r=\"12\" fill=\"rgb(153,153,153)\"/></svg><svg viewBox='0 0 430 430' id=\"svg\" width=\"172\" height=\"172\"><circle cx=\"215\" cy=\"215\" r=\"205\" fill=\"none\" stroke=\"black\" stroke-width=\"2\" stroke-dasharray=\"3,3\"/> <circle cx=\"335\" cy=\"103\" r=\"9\" fill=\"rgb(255,255,255)\" class=\"agent_1_8\"/><circle cx=\"91\" cy=\"243\" r=\"12\" fill=\"rgb(255,255,255)\" class=\"agent_1_26\"/><circle cx=\"396\" cy=\"132\" r=\"11\" fill=\"rgb(255,255,255)\" class=\"agent_1_55\"/><circle cx=\"200\" cy=\"251\" r=\"12\" fill=\"rgb(255,0,0)\" class=\"agent_1_67\"/><circle cx=\"280\" cy=\"107\" r=\"7\" fill=\"rgb(255,255,255)\" class=\"agent_1_70\"/><circle cx=\"293\" cy=\"362\" r=\"11\" fill=\"rgb(255,255,255)\" class=\"agent_1_74\"/><circle cx=\"259\" cy=\"240\" r=\"12\" fill=\"rgb(255,255,255)\" class=\"agent_1_79\"/></svg></div>"
      ],
      "text/plain": [
       "<IPython.core.display.HTML object>"
      ]
     },
     "metadata": {},
     "output_type": "display_data"
    },
    {
     "name": "stdout",
     "output_type": "stream",
     "text": [
      "\n",
      "----------------------------------------\n",
      "\n"
     ]
    }
   ],
   "source": [
    "force_contexts_and_mentions(7)"
   ]
  },
  {
   "cell_type": "code",
   "execution_count": 54,
   "metadata": {
    "scrolled": false
   },
   "outputs": [
    {
     "name": "stdout",
     "output_type": "stream",
     "text": [
      "human\tTHEM: dark , medium size dot with a larger lighter dot up and to the right . also has small , even lighter dot to the right and down <eos>\n",
      "partner_refs_true\n"
     ]
    },
    {
     "data": {
      "text/html": [
       "<div style=\"white-space: nowrap\"><svg viewbox='0 0 430 430' width=\"172\" height=\"172\" id=\"agent_0\"><circle cx=\"215\" cy=\"215\" r=\"205\" fill=\"none\" stroke=\"black\" stroke-width=\"2\" stroke-dasharray=\"3,3\"/><circle cx=\"207\" cy=\"295\" r=\"10\" fill=\"rgb(166,166,166)\"/><circle cx=\"403\" cy=\"205\" r=\"11\" fill=\"rgb(130,130,130)\"/><circle cx=\"168\" cy=\"282\" r=\"11\" fill=\"rgb(91,91,91)\"/><circle cx=\"177\" cy=\"356\" r=\"10\" fill=\"rgb(165,165,165)\"/><circle cx=\"98\" cy=\"123\" r=\"11\" fill=\"rgb(141,141,141)\"/><circle cx=\"324\" cy=\"373\" r=\"10\" fill=\"rgb(57,57,57)\"/><circle cx=\"204\" cy=\"232\" r=\"13\" fill=\"rgb(156,156,156)\"/></svg><svg viewBox='0 0 430 430' id=\"svg\" width=\"172\" height=\"172\"><circle cx=\"215\" cy=\"215\" r=\"205\" fill=\"none\" stroke=\"black\" stroke-width=\"2\" stroke-dasharray=\"3,3\"/> <circle cx=\"207\" cy=\"295\" r=\"10\" fill=\"rgb(255,255,255)\" class=\"agent_0_3\"/><circle cx=\"403\" cy=\"205\" r=\"11\" fill=\"rgb(255,255,255)\" class=\"agent_0_14\"/><circle cx=\"168\" cy=\"282\" r=\"11\" fill=\"rgb(255,0,0)\" class=\"agent_0_22\"/><circle cx=\"177\" cy=\"356\" r=\"10\" fill=\"rgb(255,255,255)\" class=\"agent_0_42\"/><circle cx=\"98\" cy=\"123\" r=\"11\" fill=\"rgb(255,255,255)\" class=\"agent_0_61\"/><circle cx=\"324\" cy=\"373\" r=\"10\" fill=\"rgb(255,255,255)\" class=\"agent_0_64\"/><circle cx=\"204\" cy=\"232\" r=\"13\" fill=\"rgb(255,255,255)\" class=\"agent_0_72\"/></svg><svg viewBox='0 0 430 430' id=\"svg\" width=\"172\" height=\"172\"><circle cx=\"215\" cy=\"215\" r=\"205\" fill=\"none\" stroke=\"black\" stroke-width=\"2\" stroke-dasharray=\"3,3\"/> <circle cx=\"207\" cy=\"295\" r=\"10\" fill=\"rgb(255,255,255)\" class=\"agent_0_3\"/><circle cx=\"403\" cy=\"205\" r=\"11\" fill=\"rgb(255,255,255)\" class=\"agent_0_14\"/><circle cx=\"168\" cy=\"282\" r=\"11\" fill=\"rgb(255,255,255)\" class=\"agent_0_22\"/><circle cx=\"177\" cy=\"356\" r=\"10\" fill=\"rgb(255,255,255)\" class=\"agent_0_42\"/><circle cx=\"98\" cy=\"123\" r=\"11\" fill=\"rgb(255,255,255)\" class=\"agent_0_61\"/><circle cx=\"324\" cy=\"373\" r=\"10\" fill=\"rgb(255,255,255)\" class=\"agent_0_64\"/><circle cx=\"204\" cy=\"232\" r=\"13\" fill=\"rgb(255,0,0)\" class=\"agent_0_72\"/></svg><svg viewBox='0 0 430 430' id=\"svg\" width=\"172\" height=\"172\"><circle cx=\"215\" cy=\"215\" r=\"205\" fill=\"none\" stroke=\"black\" stroke-width=\"2\" stroke-dasharray=\"3,3\"/> <circle cx=\"207\" cy=\"295\" r=\"10\" fill=\"rgb(255,0,0)\" class=\"agent_0_3\"/><circle cx=\"403\" cy=\"205\" r=\"11\" fill=\"rgb(255,255,255)\" class=\"agent_0_14\"/><circle cx=\"168\" cy=\"282\" r=\"11\" fill=\"rgb(255,255,255)\" class=\"agent_0_22\"/><circle cx=\"177\" cy=\"356\" r=\"10\" fill=\"rgb(255,255,255)\" class=\"agent_0_42\"/><circle cx=\"98\" cy=\"123\" r=\"11\" fill=\"rgb(255,255,255)\" class=\"agent_0_61\"/><circle cx=\"324\" cy=\"373\" r=\"10\" fill=\"rgb(255,255,255)\" class=\"agent_0_64\"/><circle cx=\"204\" cy=\"232\" r=\"13\" fill=\"rgb(255,255,255)\" class=\"agent_0_72\"/></svg></div>"
      ],
      "text/plain": [
       "<IPython.core.display.HTML object>"
      ]
     },
     "metadata": {},
     "output_type": "display_data"
    },
    {
     "name": "stdout",
     "output_type": "stream",
     "text": [
      "partner_refs_pred\n"
     ]
    },
    {
     "data": {
      "text/html": [
       "<div style=\"white-space: nowrap\"><svg viewbox='0 0 430 430' width=\"172\" height=\"172\" id=\"agent_0\"><circle cx=\"215\" cy=\"215\" r=\"205\" fill=\"none\" stroke=\"black\" stroke-width=\"2\" stroke-dasharray=\"3,3\"/><circle cx=\"207\" cy=\"295\" r=\"10\" fill=\"rgb(166,166,166)\"/><circle cx=\"403\" cy=\"205\" r=\"11\" fill=\"rgb(130,130,130)\"/><circle cx=\"168\" cy=\"282\" r=\"11\" fill=\"rgb(91,91,91)\"/><circle cx=\"177\" cy=\"356\" r=\"10\" fill=\"rgb(165,165,165)\"/><circle cx=\"98\" cy=\"123\" r=\"11\" fill=\"rgb(141,141,141)\"/><circle cx=\"324\" cy=\"373\" r=\"10\" fill=\"rgb(57,57,57)\"/><circle cx=\"204\" cy=\"232\" r=\"13\" fill=\"rgb(156,156,156)\"/></svg><svg viewBox='0 0 430 430' id=\"svg\" width=\"172\" height=\"172\"><circle cx=\"215\" cy=\"215\" r=\"205\" fill=\"none\" stroke=\"black\" stroke-width=\"2\" stroke-dasharray=\"3,3\"/> <circle cx=\"207\" cy=\"295\" r=\"10\" fill=\"rgb(255,255,255)\" class=\"agent_0_3\"/><circle cx=\"403\" cy=\"205\" r=\"11\" fill=\"rgb(255,255,255)\" class=\"agent_0_14\"/><circle cx=\"168\" cy=\"282\" r=\"11\" fill=\"rgb(255,0,0)\" class=\"agent_0_22\"/><circle cx=\"177\" cy=\"356\" r=\"10\" fill=\"rgb(255,255,255)\" class=\"agent_0_42\"/><circle cx=\"98\" cy=\"123\" r=\"11\" fill=\"rgb(255,255,255)\" class=\"agent_0_61\"/><circle cx=\"324\" cy=\"373\" r=\"10\" fill=\"rgb(255,255,255)\" class=\"agent_0_64\"/><circle cx=\"204\" cy=\"232\" r=\"13\" fill=\"rgb(255,255,255)\" class=\"agent_0_72\"/></svg><svg viewBox='0 0 430 430' id=\"svg\" width=\"172\" height=\"172\"><circle cx=\"215\" cy=\"215\" r=\"205\" fill=\"none\" stroke=\"black\" stroke-width=\"2\" stroke-dasharray=\"3,3\"/> <circle cx=\"207\" cy=\"295\" r=\"10\" fill=\"rgb(255,0,0)\" class=\"agent_0_3\"/><circle cx=\"403\" cy=\"205\" r=\"11\" fill=\"rgb(255,255,255)\" class=\"agent_0_14\"/><circle cx=\"168\" cy=\"282\" r=\"11\" fill=\"rgb(255,255,255)\" class=\"agent_0_22\"/><circle cx=\"177\" cy=\"356\" r=\"10\" fill=\"rgb(255,255,255)\" class=\"agent_0_42\"/><circle cx=\"98\" cy=\"123\" r=\"11\" fill=\"rgb(255,255,255)\" class=\"agent_0_61\"/><circle cx=\"324\" cy=\"373\" r=\"10\" fill=\"rgb(255,255,255)\" class=\"agent_0_64\"/><circle cx=\"204\" cy=\"232\" r=\"13\" fill=\"rgb(255,255,255)\" class=\"agent_0_72\"/></svg><svg viewBox='0 0 430 430' id=\"svg\" width=\"172\" height=\"172\"><circle cx=\"215\" cy=\"215\" r=\"205\" fill=\"none\" stroke=\"black\" stroke-width=\"2\" stroke-dasharray=\"3,3\"/> <circle cx=\"207\" cy=\"295\" r=\"10\" fill=\"rgb(255,255,255)\" class=\"agent_0_3\"/><circle cx=\"403\" cy=\"205\" r=\"11\" fill=\"rgb(255,255,255)\" class=\"agent_0_14\"/><circle cx=\"168\" cy=\"282\" r=\"11\" fill=\"rgb(255,255,255)\" class=\"agent_0_22\"/><circle cx=\"177\" cy=\"356\" r=\"10\" fill=\"rgb(255,0,0)\" class=\"agent_0_42\"/><circle cx=\"98\" cy=\"123\" r=\"11\" fill=\"rgb(255,255,255)\" class=\"agent_0_61\"/><circle cx=\"324\" cy=\"373\" r=\"10\" fill=\"rgb(255,255,255)\" class=\"agent_0_64\"/><circle cx=\"204\" cy=\"232\" r=\"13\" fill=\"rgb(255,255,255)\" class=\"agent_0_72\"/></svg></div>"
      ],
      "text/plain": [
       "<IPython.core.display.HTML object>"
      ]
     },
     "metadata": {},
     "output_type": "display_data"
    },
    {
     "name": "stdout",
     "output_type": "stream",
     "text": [
      "\n",
      "----------------------------------------\n",
      "\n",
      "to_mention_true\n"
     ]
    },
    {
     "data": {
      "text/html": [
       "<div style=\"white-space: nowrap\"><svg viewbox='0 0 430 430' width=\"172\" height=\"172\" id=\"agent_0\"><circle cx=\"215\" cy=\"215\" r=\"205\" fill=\"none\" stroke=\"black\" stroke-width=\"2\" stroke-dasharray=\"3,3\"/><circle cx=\"207\" cy=\"295\" r=\"10\" fill=\"rgb(166,166,166)\"/><circle cx=\"403\" cy=\"205\" r=\"11\" fill=\"rgb(130,130,130)\"/><circle cx=\"168\" cy=\"282\" r=\"11\" fill=\"rgb(91,91,91)\"/><circle cx=\"177\" cy=\"356\" r=\"10\" fill=\"rgb(165,165,165)\"/><circle cx=\"98\" cy=\"123\" r=\"11\" fill=\"rgb(141,141,141)\"/><circle cx=\"324\" cy=\"373\" r=\"10\" fill=\"rgb(57,57,57)\"/><circle cx=\"204\" cy=\"232\" r=\"13\" fill=\"rgb(156,156,156)\"/></svg><svg viewBox='0 0 430 430' id=\"svg\" width=\"172\" height=\"172\"><circle cx=\"215\" cy=\"215\" r=\"205\" fill=\"none\" stroke=\"black\" stroke-width=\"2\" stroke-dasharray=\"3,3\"/> <circle cx=\"207\" cy=\"295\" r=\"10\" fill=\"rgb(255,255,255)\" class=\"agent_0_3\"/><circle cx=\"403\" cy=\"205\" r=\"11\" fill=\"rgb(255,255,255)\" class=\"agent_0_14\"/><circle cx=\"168\" cy=\"282\" r=\"11\" fill=\"rgb(255,0,0)\" class=\"agent_0_22\"/><circle cx=\"177\" cy=\"356\" r=\"10\" fill=\"rgb(255,255,255)\" class=\"agent_0_42\"/><circle cx=\"98\" cy=\"123\" r=\"11\" fill=\"rgb(255,255,255)\" class=\"agent_0_61\"/><circle cx=\"324\" cy=\"373\" r=\"10\" fill=\"rgb(255,255,255)\" class=\"agent_0_64\"/><circle cx=\"204\" cy=\"232\" r=\"13\" fill=\"rgb(255,255,255)\" class=\"agent_0_72\"/></svg><svg viewBox='0 0 430 430' id=\"svg\" width=\"172\" height=\"172\"><circle cx=\"215\" cy=\"215\" r=\"205\" fill=\"none\" stroke=\"black\" stroke-width=\"2\" stroke-dasharray=\"3,3\"/> <circle cx=\"207\" cy=\"295\" r=\"10\" fill=\"rgb(255,0,0)\" class=\"agent_0_3\"/><circle cx=\"403\" cy=\"205\" r=\"11\" fill=\"rgb(255,255,255)\" class=\"agent_0_14\"/><circle cx=\"168\" cy=\"282\" r=\"11\" fill=\"rgb(255,0,0)\" class=\"agent_0_22\"/><circle cx=\"177\" cy=\"356\" r=\"10\" fill=\"rgb(255,255,255)\" class=\"agent_0_42\"/><circle cx=\"98\" cy=\"123\" r=\"11\" fill=\"rgb(255,255,255)\" class=\"agent_0_61\"/><circle cx=\"324\" cy=\"373\" r=\"10\" fill=\"rgb(255,255,255)\" class=\"agent_0_64\"/><circle cx=\"204\" cy=\"232\" r=\"13\" fill=\"rgb(255,0,0)\" class=\"agent_0_72\"/></svg></div>"
      ],
      "text/plain": [
       "<IPython.core.display.HTML object>"
      ]
     },
     "metadata": {},
     "output_type": "display_data"
    },
    {
     "name": "stdout",
     "output_type": "stream",
     "text": [
      "to_mention_pred\n"
     ]
    },
    {
     "data": {
      "text/html": [
       "<div style=\"white-space: nowrap\"><svg viewbox='0 0 430 430' width=\"172\" height=\"172\" id=\"agent_0\"><circle cx=\"215\" cy=\"215\" r=\"205\" fill=\"none\" stroke=\"black\" stroke-width=\"2\" stroke-dasharray=\"3,3\"/><circle cx=\"207\" cy=\"295\" r=\"10\" fill=\"rgb(166,166,166)\"/><circle cx=\"403\" cy=\"205\" r=\"11\" fill=\"rgb(130,130,130)\"/><circle cx=\"168\" cy=\"282\" r=\"11\" fill=\"rgb(91,91,91)\"/><circle cx=\"177\" cy=\"356\" r=\"10\" fill=\"rgb(165,165,165)\"/><circle cx=\"98\" cy=\"123\" r=\"11\" fill=\"rgb(141,141,141)\"/><circle cx=\"324\" cy=\"373\" r=\"10\" fill=\"rgb(57,57,57)\"/><circle cx=\"204\" cy=\"232\" r=\"13\" fill=\"rgb(156,156,156)\"/></svg><svg viewBox='0 0 430 430' id=\"svg\" width=\"172\" height=\"172\"><circle cx=\"215\" cy=\"215\" r=\"205\" fill=\"none\" stroke=\"black\" stroke-width=\"2\" stroke-dasharray=\"3,3\"/> <circle cx=\"207\" cy=\"295\" r=\"10\" fill=\"rgb(255,255,255)\" class=\"agent_0_3\"/><circle cx=\"403\" cy=\"205\" r=\"11\" fill=\"rgb(255,255,255)\" class=\"agent_0_14\"/><circle cx=\"168\" cy=\"282\" r=\"11\" fill=\"rgb(255,255,255)\" class=\"agent_0_22\"/><circle cx=\"177\" cy=\"356\" r=\"10\" fill=\"rgb(255,255,255)\" class=\"agent_0_42\"/><circle cx=\"98\" cy=\"123\" r=\"11\" fill=\"rgb(255,255,255)\" class=\"agent_0_61\"/><circle cx=\"324\" cy=\"373\" r=\"10\" fill=\"rgb(255,0,0)\" class=\"agent_0_64\"/><circle cx=\"204\" cy=\"232\" r=\"13\" fill=\"rgb(255,255,255)\" class=\"agent_0_72\"/></svg><svg viewBox='0 0 430 430' id=\"svg\" width=\"172\" height=\"172\"><circle cx=\"215\" cy=\"215\" r=\"205\" fill=\"none\" stroke=\"black\" stroke-width=\"2\" stroke-dasharray=\"3,3\"/> <circle cx=\"207\" cy=\"295\" r=\"10\" fill=\"rgb(255,255,255)\" class=\"agent_0_3\"/><circle cx=\"403\" cy=\"205\" r=\"11\" fill=\"rgb(255,255,255)\" class=\"agent_0_14\"/><circle cx=\"168\" cy=\"282\" r=\"11\" fill=\"rgb(255,255,255)\" class=\"agent_0_22\"/><circle cx=\"177\" cy=\"356\" r=\"10\" fill=\"rgb(255,255,255)\" class=\"agent_0_42\"/><circle cx=\"98\" cy=\"123\" r=\"11\" fill=\"rgb(255,255,255)\" class=\"agent_0_61\"/><circle cx=\"324\" cy=\"373\" r=\"10\" fill=\"rgb(255,0,0)\" class=\"agent_0_64\"/><circle cx=\"204\" cy=\"232\" r=\"13\" fill=\"rgb(255,255,255)\" class=\"agent_0_72\"/></svg></div>"
      ],
      "text/plain": [
       "<IPython.core.display.HTML object>"
      ]
     },
     "metadata": {},
     "output_type": "display_data"
    },
    {
     "name": "stdout",
     "output_type": "stream",
     "text": [
      "sample 0\tyes , i have that too . let 's pick the light grey one . <eos>\n",
      "sample 1\ti think i have that too . is the larger one slightly higher ? <eos>\n",
      "sample 2\ti have a dark grey dot that is in the middle of two lighter grey dots <eos>\n",
      "sample 3\ti have a large dark dot in the middle of the circle and a light grey dot to the right <eos>\n",
      "sample 4\ti have a medium sized black dot with a medium gray dot to the left <eos>\n",
      "sample 5\tyes , i see that . let 's pick the larger one . <selection>\n",
      "sample 6\tyes , i see that . let 's pick the light gray one <selection>\n",
      "sample 7\tyes , i see that one . let 's pick the large light grey dot <selection>\n",
      "sample 8\tyes , i have that too . let 's choose the light grey one <selection>\n",
      "sample 9\ti see a medium gray dot that is in the middle of two lighter grey dots <eos>\n",
      "argmax\tyes , i see that . let 's pick the light grey one <selection>\n",
      "human\tok , let 's pick the darker of the 3 <selection>\n",
      "refs_true\n"
     ]
    },
    {
     "data": {
      "text/html": [
       "<div style=\"white-space: nowrap\"><svg viewbox='0 0 430 430' width=\"172\" height=\"172\" id=\"agent_0\"><circle cx=\"215\" cy=\"215\" r=\"205\" fill=\"none\" stroke=\"black\" stroke-width=\"2\" stroke-dasharray=\"3,3\"/><circle cx=\"207\" cy=\"295\" r=\"10\" fill=\"rgb(166,166,166)\"/><circle cx=\"403\" cy=\"205\" r=\"11\" fill=\"rgb(130,130,130)\"/><circle cx=\"168\" cy=\"282\" r=\"11\" fill=\"rgb(91,91,91)\"/><circle cx=\"177\" cy=\"356\" r=\"10\" fill=\"rgb(165,165,165)\"/><circle cx=\"98\" cy=\"123\" r=\"11\" fill=\"rgb(141,141,141)\"/><circle cx=\"324\" cy=\"373\" r=\"10\" fill=\"rgb(57,57,57)\"/><circle cx=\"204\" cy=\"232\" r=\"13\" fill=\"rgb(156,156,156)\"/></svg><svg viewBox='0 0 430 430' id=\"svg\" width=\"172\" height=\"172\"><circle cx=\"215\" cy=\"215\" r=\"205\" fill=\"none\" stroke=\"black\" stroke-width=\"2\" stroke-dasharray=\"3,3\"/> <circle cx=\"207\" cy=\"295\" r=\"10\" fill=\"rgb(255,255,255)\" class=\"agent_0_3\"/><circle cx=\"403\" cy=\"205\" r=\"11\" fill=\"rgb(255,255,255)\" class=\"agent_0_14\"/><circle cx=\"168\" cy=\"282\" r=\"11\" fill=\"rgb(255,0,0)\" class=\"agent_0_22\"/><circle cx=\"177\" cy=\"356\" r=\"10\" fill=\"rgb(255,255,255)\" class=\"agent_0_42\"/><circle cx=\"98\" cy=\"123\" r=\"11\" fill=\"rgb(255,255,255)\" class=\"agent_0_61\"/><circle cx=\"324\" cy=\"373\" r=\"10\" fill=\"rgb(255,255,255)\" class=\"agent_0_64\"/><circle cx=\"204\" cy=\"232\" r=\"13\" fill=\"rgb(255,255,255)\" class=\"agent_0_72\"/></svg><svg viewBox='0 0 430 430' id=\"svg\" width=\"172\" height=\"172\"><circle cx=\"215\" cy=\"215\" r=\"205\" fill=\"none\" stroke=\"black\" stroke-width=\"2\" stroke-dasharray=\"3,3\"/> <circle cx=\"207\" cy=\"295\" r=\"10\" fill=\"rgb(255,0,0)\" class=\"agent_0_3\"/><circle cx=\"403\" cy=\"205\" r=\"11\" fill=\"rgb(255,255,255)\" class=\"agent_0_14\"/><circle cx=\"168\" cy=\"282\" r=\"11\" fill=\"rgb(255,0,0)\" class=\"agent_0_22\"/><circle cx=\"177\" cy=\"356\" r=\"10\" fill=\"rgb(255,255,255)\" class=\"agent_0_42\"/><circle cx=\"98\" cy=\"123\" r=\"11\" fill=\"rgb(255,255,255)\" class=\"agent_0_61\"/><circle cx=\"324\" cy=\"373\" r=\"10\" fill=\"rgb(255,255,255)\" class=\"agent_0_64\"/><circle cx=\"204\" cy=\"232\" r=\"13\" fill=\"rgb(255,0,0)\" class=\"agent_0_72\"/></svg></div>"
      ],
      "text/plain": [
       "<IPython.core.display.HTML object>"
      ]
     },
     "metadata": {},
     "output_type": "display_data"
    },
    {
     "name": "stdout",
     "output_type": "stream",
     "text": [
      "refs_pred\n"
     ]
    },
    {
     "data": {
      "text/html": [
       "<div style=\"white-space: nowrap\"><svg viewbox='0 0 430 430' width=\"172\" height=\"172\" id=\"agent_0\"><circle cx=\"215\" cy=\"215\" r=\"205\" fill=\"none\" stroke=\"black\" stroke-width=\"2\" stroke-dasharray=\"3,3\"/><circle cx=\"207\" cy=\"295\" r=\"10\" fill=\"rgb(166,166,166)\"/><circle cx=\"403\" cy=\"205\" r=\"11\" fill=\"rgb(130,130,130)\"/><circle cx=\"168\" cy=\"282\" r=\"11\" fill=\"rgb(91,91,91)\"/><circle cx=\"177\" cy=\"356\" r=\"10\" fill=\"rgb(165,165,165)\"/><circle cx=\"98\" cy=\"123\" r=\"11\" fill=\"rgb(141,141,141)\"/><circle cx=\"324\" cy=\"373\" r=\"10\" fill=\"rgb(57,57,57)\"/><circle cx=\"204\" cy=\"232\" r=\"13\" fill=\"rgb(156,156,156)\"/></svg><svg viewBox='0 0 430 430' id=\"svg\" width=\"172\" height=\"172\"><circle cx=\"215\" cy=\"215\" r=\"205\" fill=\"none\" stroke=\"black\" stroke-width=\"2\" stroke-dasharray=\"3,3\"/> <circle cx=\"207\" cy=\"295\" r=\"10\" fill=\"rgb(255,255,255)\" class=\"agent_0_3\"/><circle cx=\"403\" cy=\"205\" r=\"11\" fill=\"rgb(255,255,255)\" class=\"agent_0_14\"/><circle cx=\"168\" cy=\"282\" r=\"11\" fill=\"rgb(255,0,0)\" class=\"agent_0_22\"/><circle cx=\"177\" cy=\"356\" r=\"10\" fill=\"rgb(255,255,255)\" class=\"agent_0_42\"/><circle cx=\"98\" cy=\"123\" r=\"11\" fill=\"rgb(255,255,255)\" class=\"agent_0_61\"/><circle cx=\"324\" cy=\"373\" r=\"10\" fill=\"rgb(255,255,255)\" class=\"agent_0_64\"/><circle cx=\"204\" cy=\"232\" r=\"13\" fill=\"rgb(255,255,255)\" class=\"agent_0_72\"/></svg><svg viewBox='0 0 430 430' id=\"svg\" width=\"172\" height=\"172\"><circle cx=\"215\" cy=\"215\" r=\"205\" fill=\"none\" stroke=\"black\" stroke-width=\"2\" stroke-dasharray=\"3,3\"/> <circle cx=\"207\" cy=\"295\" r=\"10\" fill=\"rgb(255,0,0)\" class=\"agent_0_3\"/><circle cx=\"403\" cy=\"205\" r=\"11\" fill=\"rgb(255,255,255)\" class=\"agent_0_14\"/><circle cx=\"168\" cy=\"282\" r=\"11\" fill=\"rgb(255,0,0)\" class=\"agent_0_22\"/><circle cx=\"177\" cy=\"356\" r=\"10\" fill=\"rgb(255,0,0)\" class=\"agent_0_42\"/><circle cx=\"98\" cy=\"123\" r=\"11\" fill=\"rgb(255,255,255)\" class=\"agent_0_61\"/><circle cx=\"324\" cy=\"373\" r=\"10\" fill=\"rgb(255,255,255)\" class=\"agent_0_64\"/><circle cx=\"204\" cy=\"232\" r=\"13\" fill=\"rgb(255,255,255)\" class=\"agent_0_72\"/></svg></div>"
      ],
      "text/plain": [
       "<IPython.core.display.HTML object>"
      ]
     },
     "metadata": {},
     "output_type": "display_data"
    },
    {
     "name": "stdout",
     "output_type": "stream",
     "text": [
      "\n",
      "----------------------------------------\n",
      "\n"
     ]
    }
   ],
   "source": [
    "force_contexts_and_mentions(8)"
   ]
  },
  {
   "cell_type": "code",
   "execution_count": 55,
   "metadata": {
    "scrolled": false
   },
   "outputs": [
    {
     "name": "stdout",
     "output_type": "stream",
     "text": [
      "human\tTHEM: do you have one tiny gray dot ? smaller than the rest ? <eos>\n",
      "partner_refs_true\n"
     ]
    },
    {
     "data": {
      "text/html": [
       "<div style=\"white-space: nowrap\"><svg viewbox='0 0 430 430' width=\"172\" height=\"172\" id=\"agent_0\"><circle cx=\"215\" cy=\"215\" r=\"205\" fill=\"none\" stroke=\"black\" stroke-width=\"2\" stroke-dasharray=\"3,3\"/><circle cx=\"223\" cy=\"55\" r=\"11\" fill=\"rgb(151,151,151)\"/><circle cx=\"117\" cy=\"194\" r=\"8\" fill=\"rgb(121,121,121)\"/><circle cx=\"336\" cy=\"60\" r=\"11\" fill=\"rgb(122,122,122)\"/><circle cx=\"271\" cy=\"145\" r=\"10\" fill=\"rgb(122,122,122)\"/><circle cx=\"124\" cy=\"90\" r=\"9\" fill=\"rgb(190,190,190)\"/><circle cx=\"112\" cy=\"242\" r=\"12\" fill=\"rgb(126,126,126)\"/><circle cx=\"288\" cy=\"180\" r=\"11\" fill=\"rgb(200,200,200)\"/></svg><svg viewBox='0 0 430 430' id=\"svg\" width=\"172\" height=\"172\"><circle cx=\"215\" cy=\"215\" r=\"205\" fill=\"none\" stroke=\"black\" stroke-width=\"2\" stroke-dasharray=\"3,3\"/> <circle cx=\"223\" cy=\"55\" r=\"11\" fill=\"rgb(255,255,255)\" class=\"agent_0_10\"/><circle cx=\"117\" cy=\"194\" r=\"8\" fill=\"rgb(255,0,0)\" class=\"agent_0_21\"/><circle cx=\"336\" cy=\"60\" r=\"11\" fill=\"rgb(255,255,255)\" class=\"agent_0_36\"/><circle cx=\"271\" cy=\"145\" r=\"10\" fill=\"rgb(255,255,255)\" class=\"agent_0_42\"/><circle cx=\"124\" cy=\"90\" r=\"9\" fill=\"rgb(255,255,255)\" class=\"agent_0_58\"/><circle cx=\"112\" cy=\"242\" r=\"12\" fill=\"rgb(255,255,255)\" class=\"agent_0_61\"/><circle cx=\"288\" cy=\"180\" r=\"11\" fill=\"rgb(255,255,255)\" class=\"agent_0_66\"/></svg><svg viewBox='0 0 430 430' id=\"svg\" width=\"172\" height=\"172\"><circle cx=\"215\" cy=\"215\" r=\"205\" fill=\"none\" stroke=\"black\" stroke-width=\"2\" stroke-dasharray=\"3,3\"/> <circle cx=\"223\" cy=\"55\" r=\"11\" fill=\"rgb(255,0,0)\" class=\"agent_0_10\"/><circle cx=\"117\" cy=\"194\" r=\"8\" fill=\"rgb(255,255,255)\" class=\"agent_0_21\"/><circle cx=\"336\" cy=\"60\" r=\"11\" fill=\"rgb(255,255,255)\" class=\"agent_0_36\"/><circle cx=\"271\" cy=\"145\" r=\"10\" fill=\"rgb(255,0,0)\" class=\"agent_0_42\"/><circle cx=\"124\" cy=\"90\" r=\"9\" fill=\"rgb(255,0,0)\" class=\"agent_0_58\"/><circle cx=\"112\" cy=\"242\" r=\"12\" fill=\"rgb(255,0,0)\" class=\"agent_0_61\"/><circle cx=\"288\" cy=\"180\" r=\"11\" fill=\"rgb(255,255,255)\" class=\"agent_0_66\"/></svg></div>"
      ],
      "text/plain": [
       "<IPython.core.display.HTML object>"
      ]
     },
     "metadata": {},
     "output_type": "display_data"
    },
    {
     "name": "stdout",
     "output_type": "stream",
     "text": [
      "partner_refs_pred\n"
     ]
    },
    {
     "data": {
      "text/html": [
       "<div style=\"white-space: nowrap\"><svg viewbox='0 0 430 430' width=\"172\" height=\"172\" id=\"agent_0\"><circle cx=\"215\" cy=\"215\" r=\"205\" fill=\"none\" stroke=\"black\" stroke-width=\"2\" stroke-dasharray=\"3,3\"/><circle cx=\"223\" cy=\"55\" r=\"11\" fill=\"rgb(151,151,151)\"/><circle cx=\"117\" cy=\"194\" r=\"8\" fill=\"rgb(121,121,121)\"/><circle cx=\"336\" cy=\"60\" r=\"11\" fill=\"rgb(122,122,122)\"/><circle cx=\"271\" cy=\"145\" r=\"10\" fill=\"rgb(122,122,122)\"/><circle cx=\"124\" cy=\"90\" r=\"9\" fill=\"rgb(190,190,190)\"/><circle cx=\"112\" cy=\"242\" r=\"12\" fill=\"rgb(126,126,126)\"/><circle cx=\"288\" cy=\"180\" r=\"11\" fill=\"rgb(200,200,200)\"/></svg><svg viewBox='0 0 430 430' id=\"svg\" width=\"172\" height=\"172\"><circle cx=\"215\" cy=\"215\" r=\"205\" fill=\"none\" stroke=\"black\" stroke-width=\"2\" stroke-dasharray=\"3,3\"/> <circle cx=\"223\" cy=\"55\" r=\"11\" fill=\"rgb(255,255,255)\" class=\"agent_0_10\"/><circle cx=\"117\" cy=\"194\" r=\"8\" fill=\"rgb(255,255,255)\" class=\"agent_0_21\"/><circle cx=\"336\" cy=\"60\" r=\"11\" fill=\"rgb(255,255,255)\" class=\"agent_0_36\"/><circle cx=\"271\" cy=\"145\" r=\"10\" fill=\"rgb(255,255,255)\" class=\"agent_0_42\"/><circle cx=\"124\" cy=\"90\" r=\"9\" fill=\"rgb(255,0,0)\" class=\"agent_0_58\"/><circle cx=\"112\" cy=\"242\" r=\"12\" fill=\"rgb(255,255,255)\" class=\"agent_0_61\"/><circle cx=\"288\" cy=\"180\" r=\"11\" fill=\"rgb(255,255,255)\" class=\"agent_0_66\"/></svg><svg viewBox='0 0 430 430' id=\"svg\" width=\"172\" height=\"172\"><circle cx=\"215\" cy=\"215\" r=\"205\" fill=\"none\" stroke=\"black\" stroke-width=\"2\" stroke-dasharray=\"3,3\"/> <circle cx=\"223\" cy=\"55\" r=\"11\" fill=\"rgb(255,0,0)\" class=\"agent_0_10\"/><circle cx=\"117\" cy=\"194\" r=\"8\" fill=\"rgb(255,255,255)\" class=\"agent_0_21\"/><circle cx=\"336\" cy=\"60\" r=\"11\" fill=\"rgb(255,0,0)\" class=\"agent_0_36\"/><circle cx=\"271\" cy=\"145\" r=\"10\" fill=\"rgb(255,0,0)\" class=\"agent_0_42\"/><circle cx=\"124\" cy=\"90\" r=\"9\" fill=\"rgb(255,255,255)\" class=\"agent_0_58\"/><circle cx=\"112\" cy=\"242\" r=\"12\" fill=\"rgb(255,255,255)\" class=\"agent_0_61\"/><circle cx=\"288\" cy=\"180\" r=\"11\" fill=\"rgb(255,0,0)\" class=\"agent_0_66\"/></svg></div>"
      ],
      "text/plain": [
       "<IPython.core.display.HTML object>"
      ]
     },
     "metadata": {},
     "output_type": "display_data"
    },
    {
     "name": "stdout",
     "output_type": "stream",
     "text": [
      "\n",
      "----------------------------------------\n",
      "\n",
      "to_mention_true\n"
     ]
    },
    {
     "data": {
      "text/html": [
       "<div style=\"white-space: nowrap\"><svg viewbox='0 0 430 430' width=\"172\" height=\"172\" id=\"agent_0\"><circle cx=\"215\" cy=\"215\" r=\"205\" fill=\"none\" stroke=\"black\" stroke-width=\"2\" stroke-dasharray=\"3,3\"/><circle cx=\"223\" cy=\"55\" r=\"11\" fill=\"rgb(151,151,151)\"/><circle cx=\"117\" cy=\"194\" r=\"8\" fill=\"rgb(121,121,121)\"/><circle cx=\"336\" cy=\"60\" r=\"11\" fill=\"rgb(122,122,122)\"/><circle cx=\"271\" cy=\"145\" r=\"10\" fill=\"rgb(122,122,122)\"/><circle cx=\"124\" cy=\"90\" r=\"9\" fill=\"rgb(190,190,190)\"/><circle cx=\"112\" cy=\"242\" r=\"12\" fill=\"rgb(126,126,126)\"/><circle cx=\"288\" cy=\"180\" r=\"11\" fill=\"rgb(200,200,200)\"/></svg><svg viewBox='0 0 430 430' id=\"svg\" width=\"172\" height=\"172\"><circle cx=\"215\" cy=\"215\" r=\"205\" fill=\"none\" stroke=\"black\" stroke-width=\"2\" stroke-dasharray=\"3,3\"/> <circle cx=\"223\" cy=\"55\" r=\"11\" fill=\"rgb(255,255,255)\" class=\"agent_0_10\"/><circle cx=\"117\" cy=\"194\" r=\"8\" fill=\"rgb(255,0,0)\" class=\"agent_0_21\"/><circle cx=\"336\" cy=\"60\" r=\"11\" fill=\"rgb(255,255,255)\" class=\"agent_0_36\"/><circle cx=\"271\" cy=\"145\" r=\"10\" fill=\"rgb(255,255,255)\" class=\"agent_0_42\"/><circle cx=\"124\" cy=\"90\" r=\"9\" fill=\"rgb(255,255,255)\" class=\"agent_0_58\"/><circle cx=\"112\" cy=\"242\" r=\"12\" fill=\"rgb(255,255,255)\" class=\"agent_0_61\"/><circle cx=\"288\" cy=\"180\" r=\"11\" fill=\"rgb(255,255,255)\" class=\"agent_0_66\"/></svg><svg viewBox='0 0 430 430' id=\"svg\" width=\"172\" height=\"172\"><circle cx=\"215\" cy=\"215\" r=\"205\" fill=\"none\" stroke=\"black\" stroke-width=\"2\" stroke-dasharray=\"3,3\"/> <circle cx=\"223\" cy=\"55\" r=\"11\" fill=\"rgb(255,255,255)\" class=\"agent_0_10\"/><circle cx=\"117\" cy=\"194\" r=\"8\" fill=\"rgb(255,255,255)\" class=\"agent_0_21\"/><circle cx=\"336\" cy=\"60\" r=\"11\" fill=\"rgb(255,255,255)\" class=\"agent_0_36\"/><circle cx=\"271\" cy=\"145\" r=\"10\" fill=\"rgb(255,255,255)\" class=\"agent_0_42\"/><circle cx=\"124\" cy=\"90\" r=\"9\" fill=\"rgb(255,255,255)\" class=\"agent_0_58\"/><circle cx=\"112\" cy=\"242\" r=\"12\" fill=\"rgb(255,0,0)\" class=\"agent_0_61\"/><circle cx=\"288\" cy=\"180\" r=\"11\" fill=\"rgb(255,255,255)\" class=\"agent_0_66\"/></svg><svg viewBox='0 0 430 430' id=\"svg\" width=\"172\" height=\"172\"><circle cx=\"215\" cy=\"215\" r=\"205\" fill=\"none\" stroke=\"black\" stroke-width=\"2\" stroke-dasharray=\"3,3\"/> <circle cx=\"223\" cy=\"55\" r=\"11\" fill=\"rgb(255,255,255)\" class=\"agent_0_10\"/><circle cx=\"117\" cy=\"194\" r=\"8\" fill=\"rgb(255,0,0)\" class=\"agent_0_21\"/><circle cx=\"336\" cy=\"60\" r=\"11\" fill=\"rgb(255,255,255)\" class=\"agent_0_36\"/><circle cx=\"271\" cy=\"145\" r=\"10\" fill=\"rgb(255,255,255)\" class=\"agent_0_42\"/><circle cx=\"124\" cy=\"90\" r=\"9\" fill=\"rgb(255,255,255)\" class=\"agent_0_58\"/><circle cx=\"112\" cy=\"242\" r=\"12\" fill=\"rgb(255,255,255)\" class=\"agent_0_61\"/><circle cx=\"288\" cy=\"180\" r=\"11\" fill=\"rgb(255,255,255)\" class=\"agent_0_66\"/></svg></div>"
      ],
      "text/plain": [
       "<IPython.core.display.HTML object>"
      ]
     },
     "metadata": {},
     "output_type": "display_data"
    },
    {
     "name": "stdout",
     "output_type": "stream",
     "text": [
      "to_mention_pred\n"
     ]
    },
    {
     "data": {
      "text/html": [
       "<div style=\"white-space: nowrap\"><svg viewbox='0 0 430 430' width=\"172\" height=\"172\" id=\"agent_0\"><circle cx=\"215\" cy=\"215\" r=\"205\" fill=\"none\" stroke=\"black\" stroke-width=\"2\" stroke-dasharray=\"3,3\"/><circle cx=\"223\" cy=\"55\" r=\"11\" fill=\"rgb(151,151,151)\"/><circle cx=\"117\" cy=\"194\" r=\"8\" fill=\"rgb(121,121,121)\"/><circle cx=\"336\" cy=\"60\" r=\"11\" fill=\"rgb(122,122,122)\"/><circle cx=\"271\" cy=\"145\" r=\"10\" fill=\"rgb(122,122,122)\"/><circle cx=\"124\" cy=\"90\" r=\"9\" fill=\"rgb(190,190,190)\"/><circle cx=\"112\" cy=\"242\" r=\"12\" fill=\"rgb(126,126,126)\"/><circle cx=\"288\" cy=\"180\" r=\"11\" fill=\"rgb(200,200,200)\"/></svg><svg viewBox='0 0 430 430' id=\"svg\" width=\"172\" height=\"172\"><circle cx=\"215\" cy=\"215\" r=\"205\" fill=\"none\" stroke=\"black\" stroke-width=\"2\" stroke-dasharray=\"3,3\"/> <circle cx=\"223\" cy=\"55\" r=\"11\" fill=\"rgb(255,255,255)\" class=\"agent_0_10\"/><circle cx=\"117\" cy=\"194\" r=\"8\" fill=\"rgb(255,255,255)\" class=\"agent_0_21\"/><circle cx=\"336\" cy=\"60\" r=\"11\" fill=\"rgb(255,255,255)\" class=\"agent_0_36\"/><circle cx=\"271\" cy=\"145\" r=\"10\" fill=\"rgb(255,255,255)\" class=\"agent_0_42\"/><circle cx=\"124\" cy=\"90\" r=\"9\" fill=\"rgb(255,255,255)\" class=\"agent_0_58\"/><circle cx=\"112\" cy=\"242\" r=\"12\" fill=\"rgb(255,255,255)\" class=\"agent_0_61\"/><circle cx=\"288\" cy=\"180\" r=\"11\" fill=\"rgb(255,255,255)\" class=\"agent_0_66\"/></svg><svg viewBox='0 0 430 430' id=\"svg\" width=\"172\" height=\"172\"><circle cx=\"215\" cy=\"215\" r=\"205\" fill=\"none\" stroke=\"black\" stroke-width=\"2\" stroke-dasharray=\"3,3\"/> <circle cx=\"223\" cy=\"55\" r=\"11\" fill=\"rgb(255,255,255)\" class=\"agent_0_10\"/><circle cx=\"117\" cy=\"194\" r=\"8\" fill=\"rgb(255,255,255)\" class=\"agent_0_21\"/><circle cx=\"336\" cy=\"60\" r=\"11\" fill=\"rgb(255,255,255)\" class=\"agent_0_36\"/><circle cx=\"271\" cy=\"145\" r=\"10\" fill=\"rgb(255,255,255)\" class=\"agent_0_42\"/><circle cx=\"124\" cy=\"90\" r=\"9\" fill=\"rgb(255,255,255)\" class=\"agent_0_58\"/><circle cx=\"112\" cy=\"242\" r=\"12\" fill=\"rgb(255,255,255)\" class=\"agent_0_61\"/><circle cx=\"288\" cy=\"180\" r=\"11\" fill=\"rgb(255,255,255)\" class=\"agent_0_66\"/></svg><svg viewBox='0 0 430 430' id=\"svg\" width=\"172\" height=\"172\"><circle cx=\"215\" cy=\"215\" r=\"205\" fill=\"none\" stroke=\"black\" stroke-width=\"2\" stroke-dasharray=\"3,3\"/> <circle cx=\"223\" cy=\"55\" r=\"11\" fill=\"rgb(255,255,255)\" class=\"agent_0_10\"/><circle cx=\"117\" cy=\"194\" r=\"8\" fill=\"rgb(255,255,255)\" class=\"agent_0_21\"/><circle cx=\"336\" cy=\"60\" r=\"11\" fill=\"rgb(255,255,255)\" class=\"agent_0_36\"/><circle cx=\"271\" cy=\"145\" r=\"10\" fill=\"rgb(255,255,255)\" class=\"agent_0_42\"/><circle cx=\"124\" cy=\"90\" r=\"9\" fill=\"rgb(255,255,255)\" class=\"agent_0_58\"/><circle cx=\"112\" cy=\"242\" r=\"12\" fill=\"rgb(255,255,255)\" class=\"agent_0_61\"/><circle cx=\"288\" cy=\"180\" r=\"11\" fill=\"rgb(255,255,255)\" class=\"agent_0_66\"/></svg></div>"
      ],
      "text/plain": [
       "<IPython.core.display.HTML object>"
      ]
     },
     "metadata": {},
     "output_type": "display_data"
    },
    {
     "name": "stdout",
     "output_type": "stream",
     "text": [
      "sample 0\ti have a small black dot with a large dark grey dot to the left of it <eos>\n",
      "sample 1\tyes , i have a small dark dot with a larger grey dot to the right of it <eos>\n",
      "sample 2\tyes , it is a small dark dot . is it to the right of it ? <eos>\n",
      "sample 3\tyes , i have that , it has a large dark grey dot to the right and below it <eos>\n",
      "sample 4\tyes , it is to the left of a larger dark dot . and below the lighter one is a slightly larger , darker dot <eos>\n",
      "sample 5\tyes , i have a small black dot with a large grey dot to the right of it <eos>\n",
      "sample 6\tyes , it is close to a large dark grey dot . let 's pick the small dark dot <eos>\n",
      "sample 7\tyes , it is to the left of a larger dark dot . to the right of it <eos>\n",
      "sample 8\ti have a tiny black dot with a larger grey dot to the right of it <eos>\n",
      "sample 9\tno . do you have a small dark dot with a larger dark dot to the right of it ? <eos>\n",
      "argmax\tyes , it is to the left of a larger dark dot . and to the right of it is a large dark grey dot <eos>\n",
      "human\t<unk> have a small dot that is the same color as a larger dot right below it <eos>\n",
      "refs_true\n"
     ]
    },
    {
     "data": {
      "text/html": [
       "<div style=\"white-space: nowrap\"><svg viewbox='0 0 430 430' width=\"172\" height=\"172\" id=\"agent_0\"><circle cx=\"215\" cy=\"215\" r=\"205\" fill=\"none\" stroke=\"black\" stroke-width=\"2\" stroke-dasharray=\"3,3\"/><circle cx=\"223\" cy=\"55\" r=\"11\" fill=\"rgb(151,151,151)\"/><circle cx=\"117\" cy=\"194\" r=\"8\" fill=\"rgb(121,121,121)\"/><circle cx=\"336\" cy=\"60\" r=\"11\" fill=\"rgb(122,122,122)\"/><circle cx=\"271\" cy=\"145\" r=\"10\" fill=\"rgb(122,122,122)\"/><circle cx=\"124\" cy=\"90\" r=\"9\" fill=\"rgb(190,190,190)\"/><circle cx=\"112\" cy=\"242\" r=\"12\" fill=\"rgb(126,126,126)\"/><circle cx=\"288\" cy=\"180\" r=\"11\" fill=\"rgb(200,200,200)\"/></svg><svg viewBox='0 0 430 430' id=\"svg\" width=\"172\" height=\"172\"><circle cx=\"215\" cy=\"215\" r=\"205\" fill=\"none\" stroke=\"black\" stroke-width=\"2\" stroke-dasharray=\"3,3\"/> <circle cx=\"223\" cy=\"55\" r=\"11\" fill=\"rgb(255,255,255)\" class=\"agent_0_10\"/><circle cx=\"117\" cy=\"194\" r=\"8\" fill=\"rgb(255,0,0)\" class=\"agent_0_21\"/><circle cx=\"336\" cy=\"60\" r=\"11\" fill=\"rgb(255,255,255)\" class=\"agent_0_36\"/><circle cx=\"271\" cy=\"145\" r=\"10\" fill=\"rgb(255,255,255)\" class=\"agent_0_42\"/><circle cx=\"124\" cy=\"90\" r=\"9\" fill=\"rgb(255,255,255)\" class=\"agent_0_58\"/><circle cx=\"112\" cy=\"242\" r=\"12\" fill=\"rgb(255,255,255)\" class=\"agent_0_61\"/><circle cx=\"288\" cy=\"180\" r=\"11\" fill=\"rgb(255,255,255)\" class=\"agent_0_66\"/></svg><svg viewBox='0 0 430 430' id=\"svg\" width=\"172\" height=\"172\"><circle cx=\"215\" cy=\"215\" r=\"205\" fill=\"none\" stroke=\"black\" stroke-width=\"2\" stroke-dasharray=\"3,3\"/> <circle cx=\"223\" cy=\"55\" r=\"11\" fill=\"rgb(255,255,255)\" class=\"agent_0_10\"/><circle cx=\"117\" cy=\"194\" r=\"8\" fill=\"rgb(255,255,255)\" class=\"agent_0_21\"/><circle cx=\"336\" cy=\"60\" r=\"11\" fill=\"rgb(255,255,255)\" class=\"agent_0_36\"/><circle cx=\"271\" cy=\"145\" r=\"10\" fill=\"rgb(255,255,255)\" class=\"agent_0_42\"/><circle cx=\"124\" cy=\"90\" r=\"9\" fill=\"rgb(255,255,255)\" class=\"agent_0_58\"/><circle cx=\"112\" cy=\"242\" r=\"12\" fill=\"rgb(255,0,0)\" class=\"agent_0_61\"/><circle cx=\"288\" cy=\"180\" r=\"11\" fill=\"rgb(255,255,255)\" class=\"agent_0_66\"/></svg><svg viewBox='0 0 430 430' id=\"svg\" width=\"172\" height=\"172\"><circle cx=\"215\" cy=\"215\" r=\"205\" fill=\"none\" stroke=\"black\" stroke-width=\"2\" stroke-dasharray=\"3,3\"/> <circle cx=\"223\" cy=\"55\" r=\"11\" fill=\"rgb(255,255,255)\" class=\"agent_0_10\"/><circle cx=\"117\" cy=\"194\" r=\"8\" fill=\"rgb(255,0,0)\" class=\"agent_0_21\"/><circle cx=\"336\" cy=\"60\" r=\"11\" fill=\"rgb(255,255,255)\" class=\"agent_0_36\"/><circle cx=\"271\" cy=\"145\" r=\"10\" fill=\"rgb(255,255,255)\" class=\"agent_0_42\"/><circle cx=\"124\" cy=\"90\" r=\"9\" fill=\"rgb(255,255,255)\" class=\"agent_0_58\"/><circle cx=\"112\" cy=\"242\" r=\"12\" fill=\"rgb(255,255,255)\" class=\"agent_0_61\"/><circle cx=\"288\" cy=\"180\" r=\"11\" fill=\"rgb(255,255,255)\" class=\"agent_0_66\"/></svg></div>"
      ],
      "text/plain": [
       "<IPython.core.display.HTML object>"
      ]
     },
     "metadata": {},
     "output_type": "display_data"
    },
    {
     "name": "stdout",
     "output_type": "stream",
     "text": [
      "refs_pred\n"
     ]
    },
    {
     "data": {
      "text/html": [
       "<div style=\"white-space: nowrap\"><svg viewbox='0 0 430 430' width=\"172\" height=\"172\" id=\"agent_0\"><circle cx=\"215\" cy=\"215\" r=\"205\" fill=\"none\" stroke=\"black\" stroke-width=\"2\" stroke-dasharray=\"3,3\"/><circle cx=\"223\" cy=\"55\" r=\"11\" fill=\"rgb(151,151,151)\"/><circle cx=\"117\" cy=\"194\" r=\"8\" fill=\"rgb(121,121,121)\"/><circle cx=\"336\" cy=\"60\" r=\"11\" fill=\"rgb(122,122,122)\"/><circle cx=\"271\" cy=\"145\" r=\"10\" fill=\"rgb(122,122,122)\"/><circle cx=\"124\" cy=\"90\" r=\"9\" fill=\"rgb(190,190,190)\"/><circle cx=\"112\" cy=\"242\" r=\"12\" fill=\"rgb(126,126,126)\"/><circle cx=\"288\" cy=\"180\" r=\"11\" fill=\"rgb(200,200,200)\"/></svg><svg viewBox='0 0 430 430' id=\"svg\" width=\"172\" height=\"172\"><circle cx=\"215\" cy=\"215\" r=\"205\" fill=\"none\" stroke=\"black\" stroke-width=\"2\" stroke-dasharray=\"3,3\"/> <circle cx=\"223\" cy=\"55\" r=\"11\" fill=\"rgb(255,255,255)\" class=\"agent_0_10\"/><circle cx=\"117\" cy=\"194\" r=\"8\" fill=\"rgb(255,0,0)\" class=\"agent_0_21\"/><circle cx=\"336\" cy=\"60\" r=\"11\" fill=\"rgb(255,255,255)\" class=\"agent_0_36\"/><circle cx=\"271\" cy=\"145\" r=\"10\" fill=\"rgb(255,255,255)\" class=\"agent_0_42\"/><circle cx=\"124\" cy=\"90\" r=\"9\" fill=\"rgb(255,255,255)\" class=\"agent_0_58\"/><circle cx=\"112\" cy=\"242\" r=\"12\" fill=\"rgb(255,255,255)\" class=\"agent_0_61\"/><circle cx=\"288\" cy=\"180\" r=\"11\" fill=\"rgb(255,255,255)\" class=\"agent_0_66\"/></svg><svg viewBox='0 0 430 430' id=\"svg\" width=\"172\" height=\"172\"><circle cx=\"215\" cy=\"215\" r=\"205\" fill=\"none\" stroke=\"black\" stroke-width=\"2\" stroke-dasharray=\"3,3\"/> <circle cx=\"223\" cy=\"55\" r=\"11\" fill=\"rgb(255,255,255)\" class=\"agent_0_10\"/><circle cx=\"117\" cy=\"194\" r=\"8\" fill=\"rgb(255,255,255)\" class=\"agent_0_21\"/><circle cx=\"336\" cy=\"60\" r=\"11\" fill=\"rgb(255,255,255)\" class=\"agent_0_36\"/><circle cx=\"271\" cy=\"145\" r=\"10\" fill=\"rgb(255,255,255)\" class=\"agent_0_42\"/><circle cx=\"124\" cy=\"90\" r=\"9\" fill=\"rgb(255,255,255)\" class=\"agent_0_58\"/><circle cx=\"112\" cy=\"242\" r=\"12\" fill=\"rgb(255,0,0)\" class=\"agent_0_61\"/><circle cx=\"288\" cy=\"180\" r=\"11\" fill=\"rgb(255,255,255)\" class=\"agent_0_66\"/></svg><svg viewBox='0 0 430 430' id=\"svg\" width=\"172\" height=\"172\"><circle cx=\"215\" cy=\"215\" r=\"205\" fill=\"none\" stroke=\"black\" stroke-width=\"2\" stroke-dasharray=\"3,3\"/> <circle cx=\"223\" cy=\"55\" r=\"11\" fill=\"rgb(255,255,255)\" class=\"agent_0_10\"/><circle cx=\"117\" cy=\"194\" r=\"8\" fill=\"rgb(255,255,255)\" class=\"agent_0_21\"/><circle cx=\"336\" cy=\"60\" r=\"11\" fill=\"rgb(255,255,255)\" class=\"agent_0_36\"/><circle cx=\"271\" cy=\"145\" r=\"10\" fill=\"rgb(255,255,255)\" class=\"agent_0_42\"/><circle cx=\"124\" cy=\"90\" r=\"9\" fill=\"rgb(255,0,0)\" class=\"agent_0_58\"/><circle cx=\"112\" cy=\"242\" r=\"12\" fill=\"rgb(255,255,255)\" class=\"agent_0_61\"/><circle cx=\"288\" cy=\"180\" r=\"11\" fill=\"rgb(255,255,255)\" class=\"agent_0_66\"/></svg></div>"
      ],
      "text/plain": [
       "<IPython.core.display.HTML object>"
      ]
     },
     "metadata": {},
     "output_type": "display_data"
    },
    {
     "name": "stdout",
     "output_type": "stream",
     "text": [
      "\n",
      "----------------------------------------\n",
      "\n",
      "human\tTHEM: yes , me too . select the small one . <selection>\n",
      "partner_refs_true\n"
     ]
    },
    {
     "data": {
      "text/html": [
       "<div style=\"white-space: nowrap\"><svg viewbox='0 0 430 430' width=\"172\" height=\"172\" id=\"agent_0\"><circle cx=\"215\" cy=\"215\" r=\"205\" fill=\"none\" stroke=\"black\" stroke-width=\"2\" stroke-dasharray=\"3,3\"/><circle cx=\"223\" cy=\"55\" r=\"11\" fill=\"rgb(151,151,151)\"/><circle cx=\"117\" cy=\"194\" r=\"8\" fill=\"rgb(121,121,121)\"/><circle cx=\"336\" cy=\"60\" r=\"11\" fill=\"rgb(122,122,122)\"/><circle cx=\"271\" cy=\"145\" r=\"10\" fill=\"rgb(122,122,122)\"/><circle cx=\"124\" cy=\"90\" r=\"9\" fill=\"rgb(190,190,190)\"/><circle cx=\"112\" cy=\"242\" r=\"12\" fill=\"rgb(126,126,126)\"/><circle cx=\"288\" cy=\"180\" r=\"11\" fill=\"rgb(200,200,200)\"/></svg><svg viewBox='0 0 430 430' id=\"svg\" width=\"172\" height=\"172\"><circle cx=\"215\" cy=\"215\" r=\"205\" fill=\"none\" stroke=\"black\" stroke-width=\"2\" stroke-dasharray=\"3,3\"/> <circle cx=\"223\" cy=\"55\" r=\"11\" fill=\"rgb(255,255,255)\" class=\"agent_0_10\"/><circle cx=\"117\" cy=\"194\" r=\"8\" fill=\"rgb(255,0,0)\" class=\"agent_0_21\"/><circle cx=\"336\" cy=\"60\" r=\"11\" fill=\"rgb(255,255,255)\" class=\"agent_0_36\"/><circle cx=\"271\" cy=\"145\" r=\"10\" fill=\"rgb(255,255,255)\" class=\"agent_0_42\"/><circle cx=\"124\" cy=\"90\" r=\"9\" fill=\"rgb(255,255,255)\" class=\"agent_0_58\"/><circle cx=\"112\" cy=\"242\" r=\"12\" fill=\"rgb(255,255,255)\" class=\"agent_0_61\"/><circle cx=\"288\" cy=\"180\" r=\"11\" fill=\"rgb(255,255,255)\" class=\"agent_0_66\"/></svg></div>"
      ],
      "text/plain": [
       "<IPython.core.display.HTML object>"
      ]
     },
     "metadata": {},
     "output_type": "display_data"
    },
    {
     "name": "stdout",
     "output_type": "stream",
     "text": [
      "partner_refs_pred\n"
     ]
    },
    {
     "data": {
      "text/html": [
       "<div style=\"white-space: nowrap\"><svg viewbox='0 0 430 430' width=\"172\" height=\"172\" id=\"agent_0\"><circle cx=\"215\" cy=\"215\" r=\"205\" fill=\"none\" stroke=\"black\" stroke-width=\"2\" stroke-dasharray=\"3,3\"/><circle cx=\"223\" cy=\"55\" r=\"11\" fill=\"rgb(151,151,151)\"/><circle cx=\"117\" cy=\"194\" r=\"8\" fill=\"rgb(121,121,121)\"/><circle cx=\"336\" cy=\"60\" r=\"11\" fill=\"rgb(122,122,122)\"/><circle cx=\"271\" cy=\"145\" r=\"10\" fill=\"rgb(122,122,122)\"/><circle cx=\"124\" cy=\"90\" r=\"9\" fill=\"rgb(190,190,190)\"/><circle cx=\"112\" cy=\"242\" r=\"12\" fill=\"rgb(126,126,126)\"/><circle cx=\"288\" cy=\"180\" r=\"11\" fill=\"rgb(200,200,200)\"/></svg><svg viewBox='0 0 430 430' id=\"svg\" width=\"172\" height=\"172\"><circle cx=\"215\" cy=\"215\" r=\"205\" fill=\"none\" stroke=\"black\" stroke-width=\"2\" stroke-dasharray=\"3,3\"/> <circle cx=\"223\" cy=\"55\" r=\"11\" fill=\"rgb(255,255,255)\" class=\"agent_0_10\"/><circle cx=\"117\" cy=\"194\" r=\"8\" fill=\"rgb(255,0,0)\" class=\"agent_0_21\"/><circle cx=\"336\" cy=\"60\" r=\"11\" fill=\"rgb(255,255,255)\" class=\"agent_0_36\"/><circle cx=\"271\" cy=\"145\" r=\"10\" fill=\"rgb(255,255,255)\" class=\"agent_0_42\"/><circle cx=\"124\" cy=\"90\" r=\"9\" fill=\"rgb(255,255,255)\" class=\"agent_0_58\"/><circle cx=\"112\" cy=\"242\" r=\"12\" fill=\"rgb(255,255,255)\" class=\"agent_0_61\"/><circle cx=\"288\" cy=\"180\" r=\"11\" fill=\"rgb(255,255,255)\" class=\"agent_0_66\"/></svg></div>"
      ],
      "text/plain": [
       "<IPython.core.display.HTML object>"
      ]
     },
     "metadata": {},
     "output_type": "display_data"
    },
    {
     "name": "stdout",
     "output_type": "stream",
     "text": [
      "\n",
      "----------------------------------------\n",
      "\n"
     ]
    }
   ],
   "source": [
    "force_contexts_and_mentions(9)"
   ]
  },
  {
   "cell_type": "code",
   "execution_count": 56,
   "metadata": {
    "scrolled": false
   },
   "outputs": [
    {
     "name": "stdout",
     "output_type": "stream",
     "text": [
      "human\tTHEM: i have 3 in a vertical line ... all different sizes and shades ? <eos>\n",
      "partner_refs_true\n"
     ]
    },
    {
     "data": {
      "text/html": [
       "<div style=\"white-space: nowrap\"><svg viewbox='0 0 430 430' width=\"172\" height=\"172\" id=\"agent_1\"><circle cx=\"215\" cy=\"215\" r=\"205\" fill=\"none\" stroke=\"black\" stroke-width=\"2\" stroke-dasharray=\"3,3\"/><circle cx=\"149\" cy=\"221\" r=\"12\" fill=\"rgb(187,187,187)\"/><circle cx=\"218\" cy=\"260\" r=\"9\" fill=\"rgb(127,127,127)\"/><circle cx=\"304\" cy=\"281\" r=\"13\" fill=\"rgb(170,170,170)\"/><circle cx=\"196\" cy=\"298\" r=\"10\" fill=\"rgb(198,198,198)\"/><circle cx=\"83\" cy=\"139\" r=\"8\" fill=\"rgb(146,146,146)\"/><circle cx=\"92\" cy=\"231\" r=\"10\" fill=\"rgb(110,110,110)\"/><circle cx=\"92\" cy=\"338\" r=\"11\" fill=\"rgb(131,131,131)\"/></svg><svg viewBox='0 0 430 430' id=\"svg\" width=\"172\" height=\"172\"><circle cx=\"215\" cy=\"215\" r=\"205\" fill=\"none\" stroke=\"black\" stroke-width=\"2\" stroke-dasharray=\"3,3\"/> <circle cx=\"149\" cy=\"221\" r=\"12\" fill=\"rgb(255,255,255)\" class=\"agent_1_15\"/><circle cx=\"218\" cy=\"260\" r=\"9\" fill=\"rgb(255,255,255)\" class=\"agent_1_21\"/><circle cx=\"304\" cy=\"281\" r=\"13\" fill=\"rgb(255,255,255)\" class=\"agent_1_54\"/><circle cx=\"196\" cy=\"298\" r=\"10\" fill=\"rgb(255,255,255)\" class=\"agent_1_59\"/><circle cx=\"83\" cy=\"139\" r=\"8\" fill=\"rgb(255,0,0)\" class=\"agent_1_60\"/><circle cx=\"92\" cy=\"231\" r=\"10\" fill=\"rgb(255,0,0)\" class=\"agent_1_63\"/><circle cx=\"92\" cy=\"338\" r=\"11\" fill=\"rgb(255,0,0)\" class=\"agent_1_67\"/></svg><svg viewBox='0 0 430 430' id=\"svg\" width=\"172\" height=\"172\"><circle cx=\"215\" cy=\"215\" r=\"205\" fill=\"none\" stroke=\"black\" stroke-width=\"2\" stroke-dasharray=\"3,3\"/> <circle cx=\"149\" cy=\"221\" r=\"12\" fill=\"rgb(255,255,255)\" class=\"agent_1_15\"/><circle cx=\"218\" cy=\"260\" r=\"9\" fill=\"rgb(255,255,255)\" class=\"agent_1_21\"/><circle cx=\"304\" cy=\"281\" r=\"13\" fill=\"rgb(255,255,255)\" class=\"agent_1_54\"/><circle cx=\"196\" cy=\"298\" r=\"10\" fill=\"rgb(255,255,255)\" class=\"agent_1_59\"/><circle cx=\"83\" cy=\"139\" r=\"8\" fill=\"rgb(255,0,0)\" class=\"agent_1_60\"/><circle cx=\"92\" cy=\"231\" r=\"10\" fill=\"rgb(255,0,0)\" class=\"agent_1_63\"/><circle cx=\"92\" cy=\"338\" r=\"11\" fill=\"rgb(255,0,0)\" class=\"agent_1_67\"/></svg></div>"
      ],
      "text/plain": [
       "<IPython.core.display.HTML object>"
      ]
     },
     "metadata": {},
     "output_type": "display_data"
    },
    {
     "name": "stdout",
     "output_type": "stream",
     "text": [
      "partner_refs_pred\n"
     ]
    },
    {
     "data": {
      "text/html": [
       "<div style=\"white-space: nowrap\"><svg viewbox='0 0 430 430' width=\"172\" height=\"172\" id=\"agent_1\"><circle cx=\"215\" cy=\"215\" r=\"205\" fill=\"none\" stroke=\"black\" stroke-width=\"2\" stroke-dasharray=\"3,3\"/><circle cx=\"149\" cy=\"221\" r=\"12\" fill=\"rgb(187,187,187)\"/><circle cx=\"218\" cy=\"260\" r=\"9\" fill=\"rgb(127,127,127)\"/><circle cx=\"304\" cy=\"281\" r=\"13\" fill=\"rgb(170,170,170)\"/><circle cx=\"196\" cy=\"298\" r=\"10\" fill=\"rgb(198,198,198)\"/><circle cx=\"83\" cy=\"139\" r=\"8\" fill=\"rgb(146,146,146)\"/><circle cx=\"92\" cy=\"231\" r=\"10\" fill=\"rgb(110,110,110)\"/><circle cx=\"92\" cy=\"338\" r=\"11\" fill=\"rgb(131,131,131)\"/></svg><svg viewBox='0 0 430 430' id=\"svg\" width=\"172\" height=\"172\"><circle cx=\"215\" cy=\"215\" r=\"205\" fill=\"none\" stroke=\"black\" stroke-width=\"2\" stroke-dasharray=\"3,3\"/> <circle cx=\"149\" cy=\"221\" r=\"12\" fill=\"rgb(255,255,255)\" class=\"agent_1_15\"/><circle cx=\"218\" cy=\"260\" r=\"9\" fill=\"rgb(255,0,0)\" class=\"agent_1_21\"/><circle cx=\"304\" cy=\"281\" r=\"13\" fill=\"rgb(255,0,0)\" class=\"agent_1_54\"/><circle cx=\"196\" cy=\"298\" r=\"10\" fill=\"rgb(255,0,0)\" class=\"agent_1_59\"/><circle cx=\"83\" cy=\"139\" r=\"8\" fill=\"rgb(255,255,255)\" class=\"agent_1_60\"/><circle cx=\"92\" cy=\"231\" r=\"10\" fill=\"rgb(255,255,255)\" class=\"agent_1_63\"/><circle cx=\"92\" cy=\"338\" r=\"11\" fill=\"rgb(255,255,255)\" class=\"agent_1_67\"/></svg><svg viewBox='0 0 430 430' id=\"svg\" width=\"172\" height=\"172\"><circle cx=\"215\" cy=\"215\" r=\"205\" fill=\"none\" stroke=\"black\" stroke-width=\"2\" stroke-dasharray=\"3,3\"/> <circle cx=\"149\" cy=\"221\" r=\"12\" fill=\"rgb(255,255,255)\" class=\"agent_1_15\"/><circle cx=\"218\" cy=\"260\" r=\"9\" fill=\"rgb(255,0,0)\" class=\"agent_1_21\"/><circle cx=\"304\" cy=\"281\" r=\"13\" fill=\"rgb(255,0,0)\" class=\"agent_1_54\"/><circle cx=\"196\" cy=\"298\" r=\"10\" fill=\"rgb(255,0,0)\" class=\"agent_1_59\"/><circle cx=\"83\" cy=\"139\" r=\"8\" fill=\"rgb(255,255,255)\" class=\"agent_1_60\"/><circle cx=\"92\" cy=\"231\" r=\"10\" fill=\"rgb(255,255,255)\" class=\"agent_1_63\"/><circle cx=\"92\" cy=\"338\" r=\"11\" fill=\"rgb(255,255,255)\" class=\"agent_1_67\"/></svg></div>"
      ],
      "text/plain": [
       "<IPython.core.display.HTML object>"
      ]
     },
     "metadata": {},
     "output_type": "display_data"
    },
    {
     "name": "stdout",
     "output_type": "stream",
     "text": [
      "\n",
      "----------------------------------------\n",
      "\n",
      "to_mention_true\n"
     ]
    },
    {
     "data": {
      "text/html": [
       "<div style=\"white-space: nowrap\"><svg viewbox='0 0 430 430' width=\"172\" height=\"172\" id=\"agent_1\"><circle cx=\"215\" cy=\"215\" r=\"205\" fill=\"none\" stroke=\"black\" stroke-width=\"2\" stroke-dasharray=\"3,3\"/><circle cx=\"149\" cy=\"221\" r=\"12\" fill=\"rgb(187,187,187)\"/><circle cx=\"218\" cy=\"260\" r=\"9\" fill=\"rgb(127,127,127)\"/><circle cx=\"304\" cy=\"281\" r=\"13\" fill=\"rgb(170,170,170)\"/><circle cx=\"196\" cy=\"298\" r=\"10\" fill=\"rgb(198,198,198)\"/><circle cx=\"83\" cy=\"139\" r=\"8\" fill=\"rgb(146,146,146)\"/><circle cx=\"92\" cy=\"231\" r=\"10\" fill=\"rgb(110,110,110)\"/><circle cx=\"92\" cy=\"338\" r=\"11\" fill=\"rgb(131,131,131)\"/></svg><svg viewBox='0 0 430 430' id=\"svg\" width=\"172\" height=\"172\"><circle cx=\"215\" cy=\"215\" r=\"205\" fill=\"none\" stroke=\"black\" stroke-width=\"2\" stroke-dasharray=\"3,3\"/> <circle cx=\"149\" cy=\"221\" r=\"12\" fill=\"rgb(255,255,255)\" class=\"agent_1_15\"/><circle cx=\"218\" cy=\"260\" r=\"9\" fill=\"rgb(255,255,255)\" class=\"agent_1_21\"/><circle cx=\"304\" cy=\"281\" r=\"13\" fill=\"rgb(255,255,255)\" class=\"agent_1_54\"/><circle cx=\"196\" cy=\"298\" r=\"10\" fill=\"rgb(255,255,255)\" class=\"agent_1_59\"/><circle cx=\"83\" cy=\"139\" r=\"8\" fill=\"rgb(255,255,255)\" class=\"agent_1_60\"/><circle cx=\"92\" cy=\"231\" r=\"10\" fill=\"rgb(255,255,255)\" class=\"agent_1_63\"/><circle cx=\"92\" cy=\"338\" r=\"11\" fill=\"rgb(255,255,255)\" class=\"agent_1_67\"/></svg><svg viewBox='0 0 430 430' id=\"svg\" width=\"172\" height=\"172\"><circle cx=\"215\" cy=\"215\" r=\"205\" fill=\"none\" stroke=\"black\" stroke-width=\"2\" stroke-dasharray=\"3,3\"/> <circle cx=\"149\" cy=\"221\" r=\"12\" fill=\"rgb(255,255,255)\" class=\"agent_1_15\"/><circle cx=\"218\" cy=\"260\" r=\"9\" fill=\"rgb(255,0,0)\" class=\"agent_1_21\"/><circle cx=\"304\" cy=\"281\" r=\"13\" fill=\"rgb(255,255,255)\" class=\"agent_1_54\"/><circle cx=\"196\" cy=\"298\" r=\"10\" fill=\"rgb(255,0,0)\" class=\"agent_1_59\"/><circle cx=\"83\" cy=\"139\" r=\"8\" fill=\"rgb(255,255,255)\" class=\"agent_1_60\"/><circle cx=\"92\" cy=\"231\" r=\"10\" fill=\"rgb(255,255,255)\" class=\"agent_1_63\"/><circle cx=\"92\" cy=\"338\" r=\"11\" fill=\"rgb(255,255,255)\" class=\"agent_1_67\"/></svg><svg viewBox='0 0 430 430' id=\"svg\" width=\"172\" height=\"172\"><circle cx=\"215\" cy=\"215\" r=\"205\" fill=\"none\" stroke=\"black\" stroke-width=\"2\" stroke-dasharray=\"3,3\"/> <circle cx=\"149\" cy=\"221\" r=\"12\" fill=\"rgb(255,255,255)\" class=\"agent_1_15\"/><circle cx=\"218\" cy=\"260\" r=\"9\" fill=\"rgb(255,255,255)\" class=\"agent_1_21\"/><circle cx=\"304\" cy=\"281\" r=\"13\" fill=\"rgb(255,255,255)\" class=\"agent_1_54\"/><circle cx=\"196\" cy=\"298\" r=\"10\" fill=\"rgb(255,0,0)\" class=\"agent_1_59\"/><circle cx=\"83\" cy=\"139\" r=\"8\" fill=\"rgb(255,255,255)\" class=\"agent_1_60\"/><circle cx=\"92\" cy=\"231\" r=\"10\" fill=\"rgb(255,255,255)\" class=\"agent_1_63\"/><circle cx=\"92\" cy=\"338\" r=\"11\" fill=\"rgb(255,255,255)\" class=\"agent_1_67\"/></svg><svg viewBox='0 0 430 430' id=\"svg\" width=\"172\" height=\"172\"><circle cx=\"215\" cy=\"215\" r=\"205\" fill=\"none\" stroke=\"black\" stroke-width=\"2\" stroke-dasharray=\"3,3\"/> <circle cx=\"149\" cy=\"221\" r=\"12\" fill=\"rgb(255,255,255)\" class=\"agent_1_15\"/><circle cx=\"218\" cy=\"260\" r=\"9\" fill=\"rgb(255,0,0)\" class=\"agent_1_21\"/><circle cx=\"304\" cy=\"281\" r=\"13\" fill=\"rgb(255,255,255)\" class=\"agent_1_54\"/><circle cx=\"196\" cy=\"298\" r=\"10\" fill=\"rgb(255,255,255)\" class=\"agent_1_59\"/><circle cx=\"83\" cy=\"139\" r=\"8\" fill=\"rgb(255,255,255)\" class=\"agent_1_60\"/><circle cx=\"92\" cy=\"231\" r=\"10\" fill=\"rgb(255,255,255)\" class=\"agent_1_63\"/><circle cx=\"92\" cy=\"338\" r=\"11\" fill=\"rgb(255,255,255)\" class=\"agent_1_67\"/></svg></div>"
      ],
      "text/plain": [
       "<IPython.core.display.HTML object>"
      ]
     },
     "metadata": {},
     "output_type": "display_data"
    },
    {
     "name": "stdout",
     "output_type": "stream",
     "text": [
      "to_mention_pred\n"
     ]
    },
    {
     "data": {
      "text/html": [
       "<div style=\"white-space: nowrap\"><svg viewbox='0 0 430 430' width=\"172\" height=\"172\" id=\"agent_1\"><circle cx=\"215\" cy=\"215\" r=\"205\" fill=\"none\" stroke=\"black\" stroke-width=\"2\" stroke-dasharray=\"3,3\"/><circle cx=\"149\" cy=\"221\" r=\"12\" fill=\"rgb(187,187,187)\"/><circle cx=\"218\" cy=\"260\" r=\"9\" fill=\"rgb(127,127,127)\"/><circle cx=\"304\" cy=\"281\" r=\"13\" fill=\"rgb(170,170,170)\"/><circle cx=\"196\" cy=\"298\" r=\"10\" fill=\"rgb(198,198,198)\"/><circle cx=\"83\" cy=\"139\" r=\"8\" fill=\"rgb(146,146,146)\"/><circle cx=\"92\" cy=\"231\" r=\"10\" fill=\"rgb(110,110,110)\"/><circle cx=\"92\" cy=\"338\" r=\"11\" fill=\"rgb(131,131,131)\"/></svg><svg viewBox='0 0 430 430' id=\"svg\" width=\"172\" height=\"172\"><circle cx=\"215\" cy=\"215\" r=\"205\" fill=\"none\" stroke=\"black\" stroke-width=\"2\" stroke-dasharray=\"3,3\"/> <circle cx=\"149\" cy=\"221\" r=\"12\" fill=\"rgb(255,0,0)\" class=\"agent_1_15\"/><circle cx=\"218\" cy=\"260\" r=\"9\" fill=\"rgb(255,0,0)\" class=\"agent_1_21\"/><circle cx=\"304\" cy=\"281\" r=\"13\" fill=\"rgb(255,255,255)\" class=\"agent_1_54\"/><circle cx=\"196\" cy=\"298\" r=\"10\" fill=\"rgb(255,0,0)\" class=\"agent_1_59\"/><circle cx=\"83\" cy=\"139\" r=\"8\" fill=\"rgb(255,255,255)\" class=\"agent_1_60\"/><circle cx=\"92\" cy=\"231\" r=\"10\" fill=\"rgb(255,0,0)\" class=\"agent_1_63\"/><circle cx=\"92\" cy=\"338\" r=\"11\" fill=\"rgb(255,0,0)\" class=\"agent_1_67\"/></svg><svg viewBox='0 0 430 430' id=\"svg\" width=\"172\" height=\"172\"><circle cx=\"215\" cy=\"215\" r=\"205\" fill=\"none\" stroke=\"black\" stroke-width=\"2\" stroke-dasharray=\"3,3\"/> <circle cx=\"149\" cy=\"221\" r=\"12\" fill=\"rgb(255,255,255)\" class=\"agent_1_15\"/><circle cx=\"218\" cy=\"260\" r=\"9\" fill=\"rgb(255,255,255)\" class=\"agent_1_21\"/><circle cx=\"304\" cy=\"281\" r=\"13\" fill=\"rgb(255,255,255)\" class=\"agent_1_54\"/><circle cx=\"196\" cy=\"298\" r=\"10\" fill=\"rgb(255,255,255)\" class=\"agent_1_59\"/><circle cx=\"83\" cy=\"139\" r=\"8\" fill=\"rgb(255,255,255)\" class=\"agent_1_60\"/><circle cx=\"92\" cy=\"231\" r=\"10\" fill=\"rgb(255,255,255)\" class=\"agent_1_63\"/><circle cx=\"92\" cy=\"338\" r=\"11\" fill=\"rgb(255,255,255)\" class=\"agent_1_67\"/></svg><svg viewBox='0 0 430 430' id=\"svg\" width=\"172\" height=\"172\"><circle cx=\"215\" cy=\"215\" r=\"205\" fill=\"none\" stroke=\"black\" stroke-width=\"2\" stroke-dasharray=\"3,3\"/> <circle cx=\"149\" cy=\"221\" r=\"12\" fill=\"rgb(255,255,255)\" class=\"agent_1_15\"/><circle cx=\"218\" cy=\"260\" r=\"9\" fill=\"rgb(255,255,255)\" class=\"agent_1_21\"/><circle cx=\"304\" cy=\"281\" r=\"13\" fill=\"rgb(255,0,0)\" class=\"agent_1_54\"/><circle cx=\"196\" cy=\"298\" r=\"10\" fill=\"rgb(255,255,255)\" class=\"agent_1_59\"/><circle cx=\"83\" cy=\"139\" r=\"8\" fill=\"rgb(255,255,255)\" class=\"agent_1_60\"/><circle cx=\"92\" cy=\"231\" r=\"10\" fill=\"rgb(255,255,255)\" class=\"agent_1_63\"/><circle cx=\"92\" cy=\"338\" r=\"11\" fill=\"rgb(255,255,255)\" class=\"agent_1_67\"/></svg><svg viewBox='0 0 430 430' id=\"svg\" width=\"172\" height=\"172\"><circle cx=\"215\" cy=\"215\" r=\"205\" fill=\"none\" stroke=\"black\" stroke-width=\"2\" stroke-dasharray=\"3,3\"/> <circle cx=\"149\" cy=\"221\" r=\"12\" fill=\"rgb(255,255,255)\" class=\"agent_1_15\"/><circle cx=\"218\" cy=\"260\" r=\"9\" fill=\"rgb(255,255,255)\" class=\"agent_1_21\"/><circle cx=\"304\" cy=\"281\" r=\"13\" fill=\"rgb(255,0,0)\" class=\"agent_1_54\"/><circle cx=\"196\" cy=\"298\" r=\"10\" fill=\"rgb(255,255,255)\" class=\"agent_1_59\"/><circle cx=\"83\" cy=\"139\" r=\"8\" fill=\"rgb(255,255,255)\" class=\"agent_1_60\"/><circle cx=\"92\" cy=\"231\" r=\"10\" fill=\"rgb(255,255,255)\" class=\"agent_1_63\"/><circle cx=\"92\" cy=\"338\" r=\"11\" fill=\"rgb(255,255,255)\" class=\"agent_1_67\"/></svg></div>"
      ],
      "text/plain": [
       "<IPython.core.display.HTML object>"
      ]
     },
     "metadata": {},
     "output_type": "display_data"
    },
    {
     "name": "stdout",
     "output_type": "stream",
     "text": [
      "sample 0\ti do n't have that . i have two dots very close together . the one on the right is smaller and darker , the one on the right is a little darker and a little larger <eos>\n",
      "sample 1\ti do n't see that . i have two dots very close together . the one on the left is slightly larger and darker , the one on the right is smaller and lighter . <eos>\n",
      "sample 2\ti do n't have that . i have two dots that are almost identical and the same size . the one on the left is slightly smaller and darker . the one on the right is a little darker , and a little lighter . <eos>\n",
      "sample 3\ti do n't have that . i have two dots very close together . the one on the right is smaller , darker and a little to the right . the one on the right is a little smaller and lighter <eos>\n",
      "sample 4\ti do n't have that . i have 2 dots that are almost in a vertical line . the one on the left is smaller and darker . the one on the right is slightly smaller and a little bigger <eos>\n",
      "sample 5\ti do n't have that . i have two dots that are very close together . the one on the left is much larger , darker , and a little lighter . the one on the left is a little smaller and a little lighter <eos>\n",
      "sample 6\ti do n't have that . i have two dots that are the same size and one the top is darker and darker , the one on the right is slightly smaller and lighter <eos>\n",
      "sample 7\ti do n't see that . i have two dots very close together . the one on the left is a dark grey and a little larger . the one on the right is smaller and lighter . <eos>\n",
      "sample 8\ti do n't see that . i have two dots very close together . the one on the left is a little darker and a little darker , the one on the right is a little darker <eos>\n",
      "sample 9\ti do n't have that . i have two dots close together . the one on the right is black and the one on the right is light grey <eos>\n",
      "argmax\ti do n't have that . i have two dots very close together . the one on the left is a small dark dot , and the one on the right is a little darker , slightly larger dot . <eos>\n",
      "human\tnot sure i have that . do you have two small dots <unk> inch apart one lightest gray and one dark gray ? <eos>\n",
      "refs_true\n"
     ]
    },
    {
     "data": {
      "text/html": [
       "<div style=\"white-space: nowrap\"><svg viewbox='0 0 430 430' width=\"172\" height=\"172\" id=\"agent_1\"><circle cx=\"215\" cy=\"215\" r=\"205\" fill=\"none\" stroke=\"black\" stroke-width=\"2\" stroke-dasharray=\"3,3\"/><circle cx=\"149\" cy=\"221\" r=\"12\" fill=\"rgb(187,187,187)\"/><circle cx=\"218\" cy=\"260\" r=\"9\" fill=\"rgb(127,127,127)\"/><circle cx=\"304\" cy=\"281\" r=\"13\" fill=\"rgb(170,170,170)\"/><circle cx=\"196\" cy=\"298\" r=\"10\" fill=\"rgb(198,198,198)\"/><circle cx=\"83\" cy=\"139\" r=\"8\" fill=\"rgb(146,146,146)\"/><circle cx=\"92\" cy=\"231\" r=\"10\" fill=\"rgb(110,110,110)\"/><circle cx=\"92\" cy=\"338\" r=\"11\" fill=\"rgb(131,131,131)\"/></svg><svg viewBox='0 0 430 430' id=\"svg\" width=\"172\" height=\"172\"><circle cx=\"215\" cy=\"215\" r=\"205\" fill=\"none\" stroke=\"black\" stroke-width=\"2\" stroke-dasharray=\"3,3\"/> <circle cx=\"149\" cy=\"221\" r=\"12\" fill=\"rgb(255,255,255)\" class=\"agent_1_15\"/><circle cx=\"218\" cy=\"260\" r=\"9\" fill=\"rgb(255,255,255)\" class=\"agent_1_21\"/><circle cx=\"304\" cy=\"281\" r=\"13\" fill=\"rgb(255,255,255)\" class=\"agent_1_54\"/><circle cx=\"196\" cy=\"298\" r=\"10\" fill=\"rgb(255,255,255)\" class=\"agent_1_59\"/><circle cx=\"83\" cy=\"139\" r=\"8\" fill=\"rgb(255,255,255)\" class=\"agent_1_60\"/><circle cx=\"92\" cy=\"231\" r=\"10\" fill=\"rgb(255,255,255)\" class=\"agent_1_63\"/><circle cx=\"92\" cy=\"338\" r=\"11\" fill=\"rgb(255,255,255)\" class=\"agent_1_67\"/></svg><svg viewBox='0 0 430 430' id=\"svg\" width=\"172\" height=\"172\"><circle cx=\"215\" cy=\"215\" r=\"205\" fill=\"none\" stroke=\"black\" stroke-width=\"2\" stroke-dasharray=\"3,3\"/> <circle cx=\"149\" cy=\"221\" r=\"12\" fill=\"rgb(255,255,255)\" class=\"agent_1_15\"/><circle cx=\"218\" cy=\"260\" r=\"9\" fill=\"rgb(255,0,0)\" class=\"agent_1_21\"/><circle cx=\"304\" cy=\"281\" r=\"13\" fill=\"rgb(255,255,255)\" class=\"agent_1_54\"/><circle cx=\"196\" cy=\"298\" r=\"10\" fill=\"rgb(255,0,0)\" class=\"agent_1_59\"/><circle cx=\"83\" cy=\"139\" r=\"8\" fill=\"rgb(255,255,255)\" class=\"agent_1_60\"/><circle cx=\"92\" cy=\"231\" r=\"10\" fill=\"rgb(255,255,255)\" class=\"agent_1_63\"/><circle cx=\"92\" cy=\"338\" r=\"11\" fill=\"rgb(255,255,255)\" class=\"agent_1_67\"/></svg><svg viewBox='0 0 430 430' id=\"svg\" width=\"172\" height=\"172\"><circle cx=\"215\" cy=\"215\" r=\"205\" fill=\"none\" stroke=\"black\" stroke-width=\"2\" stroke-dasharray=\"3,3\"/> <circle cx=\"149\" cy=\"221\" r=\"12\" fill=\"rgb(255,255,255)\" class=\"agent_1_15\"/><circle cx=\"218\" cy=\"260\" r=\"9\" fill=\"rgb(255,255,255)\" class=\"agent_1_21\"/><circle cx=\"304\" cy=\"281\" r=\"13\" fill=\"rgb(255,255,255)\" class=\"agent_1_54\"/><circle cx=\"196\" cy=\"298\" r=\"10\" fill=\"rgb(255,0,0)\" class=\"agent_1_59\"/><circle cx=\"83\" cy=\"139\" r=\"8\" fill=\"rgb(255,255,255)\" class=\"agent_1_60\"/><circle cx=\"92\" cy=\"231\" r=\"10\" fill=\"rgb(255,255,255)\" class=\"agent_1_63\"/><circle cx=\"92\" cy=\"338\" r=\"11\" fill=\"rgb(255,255,255)\" class=\"agent_1_67\"/></svg><svg viewBox='0 0 430 430' id=\"svg\" width=\"172\" height=\"172\"><circle cx=\"215\" cy=\"215\" r=\"205\" fill=\"none\" stroke=\"black\" stroke-width=\"2\" stroke-dasharray=\"3,3\"/> <circle cx=\"149\" cy=\"221\" r=\"12\" fill=\"rgb(255,255,255)\" class=\"agent_1_15\"/><circle cx=\"218\" cy=\"260\" r=\"9\" fill=\"rgb(255,0,0)\" class=\"agent_1_21\"/><circle cx=\"304\" cy=\"281\" r=\"13\" fill=\"rgb(255,255,255)\" class=\"agent_1_54\"/><circle cx=\"196\" cy=\"298\" r=\"10\" fill=\"rgb(255,255,255)\" class=\"agent_1_59\"/><circle cx=\"83\" cy=\"139\" r=\"8\" fill=\"rgb(255,255,255)\" class=\"agent_1_60\"/><circle cx=\"92\" cy=\"231\" r=\"10\" fill=\"rgb(255,255,255)\" class=\"agent_1_63\"/><circle cx=\"92\" cy=\"338\" r=\"11\" fill=\"rgb(255,255,255)\" class=\"agent_1_67\"/></svg></div>"
      ],
      "text/plain": [
       "<IPython.core.display.HTML object>"
      ]
     },
     "metadata": {},
     "output_type": "display_data"
    },
    {
     "name": "stdout",
     "output_type": "stream",
     "text": [
      "refs_pred\n"
     ]
    },
    {
     "data": {
      "text/html": [
       "<div style=\"white-space: nowrap\"><svg viewbox='0 0 430 430' width=\"172\" height=\"172\" id=\"agent_1\"><circle cx=\"215\" cy=\"215\" r=\"205\" fill=\"none\" stroke=\"black\" stroke-width=\"2\" stroke-dasharray=\"3,3\"/><circle cx=\"149\" cy=\"221\" r=\"12\" fill=\"rgb(187,187,187)\"/><circle cx=\"218\" cy=\"260\" r=\"9\" fill=\"rgb(127,127,127)\"/><circle cx=\"304\" cy=\"281\" r=\"13\" fill=\"rgb(170,170,170)\"/><circle cx=\"196\" cy=\"298\" r=\"10\" fill=\"rgb(198,198,198)\"/><circle cx=\"83\" cy=\"139\" r=\"8\" fill=\"rgb(146,146,146)\"/><circle cx=\"92\" cy=\"231\" r=\"10\" fill=\"rgb(110,110,110)\"/><circle cx=\"92\" cy=\"338\" r=\"11\" fill=\"rgb(131,131,131)\"/></svg><svg viewBox='0 0 430 430' id=\"svg\" width=\"172\" height=\"172\"><circle cx=\"215\" cy=\"215\" r=\"205\" fill=\"none\" stroke=\"black\" stroke-width=\"2\" stroke-dasharray=\"3,3\"/> <circle cx=\"149\" cy=\"221\" r=\"12\" fill=\"rgb(255,255,255)\" class=\"agent_1_15\"/><circle cx=\"218\" cy=\"260\" r=\"9\" fill=\"rgb(255,255,255)\" class=\"agent_1_21\"/><circle cx=\"304\" cy=\"281\" r=\"13\" fill=\"rgb(255,255,255)\" class=\"agent_1_54\"/><circle cx=\"196\" cy=\"298\" r=\"10\" fill=\"rgb(255,255,255)\" class=\"agent_1_59\"/><circle cx=\"83\" cy=\"139\" r=\"8\" fill=\"rgb(255,255,255)\" class=\"agent_1_60\"/><circle cx=\"92\" cy=\"231\" r=\"10\" fill=\"rgb(255,255,255)\" class=\"agent_1_63\"/><circle cx=\"92\" cy=\"338\" r=\"11\" fill=\"rgb(255,255,255)\" class=\"agent_1_67\"/></svg><svg viewBox='0 0 430 430' id=\"svg\" width=\"172\" height=\"172\"><circle cx=\"215\" cy=\"215\" r=\"205\" fill=\"none\" stroke=\"black\" stroke-width=\"2\" stroke-dasharray=\"3,3\"/> <circle cx=\"149\" cy=\"221\" r=\"12\" fill=\"rgb(255,255,255)\" class=\"agent_1_15\"/><circle cx=\"218\" cy=\"260\" r=\"9\" fill=\"rgb(255,0,0)\" class=\"agent_1_21\"/><circle cx=\"304\" cy=\"281\" r=\"13\" fill=\"rgb(255,255,255)\" class=\"agent_1_54\"/><circle cx=\"196\" cy=\"298\" r=\"10\" fill=\"rgb(255,0,0)\" class=\"agent_1_59\"/><circle cx=\"83\" cy=\"139\" r=\"8\" fill=\"rgb(255,255,255)\" class=\"agent_1_60\"/><circle cx=\"92\" cy=\"231\" r=\"10\" fill=\"rgb(255,255,255)\" class=\"agent_1_63\"/><circle cx=\"92\" cy=\"338\" r=\"11\" fill=\"rgb(255,255,255)\" class=\"agent_1_67\"/></svg><svg viewBox='0 0 430 430' id=\"svg\" width=\"172\" height=\"172\"><circle cx=\"215\" cy=\"215\" r=\"205\" fill=\"none\" stroke=\"black\" stroke-width=\"2\" stroke-dasharray=\"3,3\"/> <circle cx=\"149\" cy=\"221\" r=\"12\" fill=\"rgb(255,255,255)\" class=\"agent_1_15\"/><circle cx=\"218\" cy=\"260\" r=\"9\" fill=\"rgb(255,255,255)\" class=\"agent_1_21\"/><circle cx=\"304\" cy=\"281\" r=\"13\" fill=\"rgb(255,255,255)\" class=\"agent_1_54\"/><circle cx=\"196\" cy=\"298\" r=\"10\" fill=\"rgb(255,0,0)\" class=\"agent_1_59\"/><circle cx=\"83\" cy=\"139\" r=\"8\" fill=\"rgb(255,255,255)\" class=\"agent_1_60\"/><circle cx=\"92\" cy=\"231\" r=\"10\" fill=\"rgb(255,255,255)\" class=\"agent_1_63\"/><circle cx=\"92\" cy=\"338\" r=\"11\" fill=\"rgb(255,255,255)\" class=\"agent_1_67\"/></svg><svg viewBox='0 0 430 430' id=\"svg\" width=\"172\" height=\"172\"><circle cx=\"215\" cy=\"215\" r=\"205\" fill=\"none\" stroke=\"black\" stroke-width=\"2\" stroke-dasharray=\"3,3\"/> <circle cx=\"149\" cy=\"221\" r=\"12\" fill=\"rgb(255,255,255)\" class=\"agent_1_15\"/><circle cx=\"218\" cy=\"260\" r=\"9\" fill=\"rgb(255,0,0)\" class=\"agent_1_21\"/><circle cx=\"304\" cy=\"281\" r=\"13\" fill=\"rgb(255,255,255)\" class=\"agent_1_54\"/><circle cx=\"196\" cy=\"298\" r=\"10\" fill=\"rgb(255,255,255)\" class=\"agent_1_59\"/><circle cx=\"83\" cy=\"139\" r=\"8\" fill=\"rgb(255,255,255)\" class=\"agent_1_60\"/><circle cx=\"92\" cy=\"231\" r=\"10\" fill=\"rgb(255,255,255)\" class=\"agent_1_63\"/><circle cx=\"92\" cy=\"338\" r=\"11\" fill=\"rgb(255,255,255)\" class=\"agent_1_67\"/></svg></div>"
      ],
      "text/plain": [
       "<IPython.core.display.HTML object>"
      ]
     },
     "metadata": {},
     "output_type": "display_data"
    },
    {
     "name": "stdout",
     "output_type": "stream",
     "text": [
      "\n",
      "----------------------------------------\n",
      "\n",
      "human\tTHEM: is there a large grey dot northwest of the pair ? <eos>\n",
      "partner_refs_true\n"
     ]
    },
    {
     "data": {
      "text/html": [
       "<div style=\"white-space: nowrap\"><svg viewbox='0 0 430 430' width=\"172\" height=\"172\" id=\"agent_1\"><circle cx=\"215\" cy=\"215\" r=\"205\" fill=\"none\" stroke=\"black\" stroke-width=\"2\" stroke-dasharray=\"3,3\"/><circle cx=\"149\" cy=\"221\" r=\"12\" fill=\"rgb(187,187,187)\"/><circle cx=\"218\" cy=\"260\" r=\"9\" fill=\"rgb(127,127,127)\"/><circle cx=\"304\" cy=\"281\" r=\"13\" fill=\"rgb(170,170,170)\"/><circle cx=\"196\" cy=\"298\" r=\"10\" fill=\"rgb(198,198,198)\"/><circle cx=\"83\" cy=\"139\" r=\"8\" fill=\"rgb(146,146,146)\"/><circle cx=\"92\" cy=\"231\" r=\"10\" fill=\"rgb(110,110,110)\"/><circle cx=\"92\" cy=\"338\" r=\"11\" fill=\"rgb(131,131,131)\"/></svg><svg viewBox='0 0 430 430' id=\"svg\" width=\"172\" height=\"172\"><circle cx=\"215\" cy=\"215\" r=\"205\" fill=\"none\" stroke=\"black\" stroke-width=\"2\" stroke-dasharray=\"3,3\"/> <circle cx=\"149\" cy=\"221\" r=\"12\" fill=\"rgb(255,0,0)\" class=\"agent_1_15\"/><circle cx=\"218\" cy=\"260\" r=\"9\" fill=\"rgb(255,255,255)\" class=\"agent_1_21\"/><circle cx=\"304\" cy=\"281\" r=\"13\" fill=\"rgb(255,255,255)\" class=\"agent_1_54\"/><circle cx=\"196\" cy=\"298\" r=\"10\" fill=\"rgb(255,255,255)\" class=\"agent_1_59\"/><circle cx=\"83\" cy=\"139\" r=\"8\" fill=\"rgb(255,255,255)\" class=\"agent_1_60\"/><circle cx=\"92\" cy=\"231\" r=\"10\" fill=\"rgb(255,255,255)\" class=\"agent_1_63\"/><circle cx=\"92\" cy=\"338\" r=\"11\" fill=\"rgb(255,255,255)\" class=\"agent_1_67\"/></svg><svg viewBox='0 0 430 430' id=\"svg\" width=\"172\" height=\"172\"><circle cx=\"215\" cy=\"215\" r=\"205\" fill=\"none\" stroke=\"black\" stroke-width=\"2\" stroke-dasharray=\"3,3\"/> <circle cx=\"149\" cy=\"221\" r=\"12\" fill=\"rgb(255,255,255)\" class=\"agent_1_15\"/><circle cx=\"218\" cy=\"260\" r=\"9\" fill=\"rgb(255,0,0)\" class=\"agent_1_21\"/><circle cx=\"304\" cy=\"281\" r=\"13\" fill=\"rgb(255,255,255)\" class=\"agent_1_54\"/><circle cx=\"196\" cy=\"298\" r=\"10\" fill=\"rgb(255,0,0)\" class=\"agent_1_59\"/><circle cx=\"83\" cy=\"139\" r=\"8\" fill=\"rgb(255,255,255)\" class=\"agent_1_60\"/><circle cx=\"92\" cy=\"231\" r=\"10\" fill=\"rgb(255,255,255)\" class=\"agent_1_63\"/><circle cx=\"92\" cy=\"338\" r=\"11\" fill=\"rgb(255,255,255)\" class=\"agent_1_67\"/></svg></div>"
      ],
      "text/plain": [
       "<IPython.core.display.HTML object>"
      ]
     },
     "metadata": {},
     "output_type": "display_data"
    },
    {
     "name": "stdout",
     "output_type": "stream",
     "text": [
      "partner_refs_pred\n"
     ]
    },
    {
     "data": {
      "text/html": [
       "<div style=\"white-space: nowrap\"><svg viewbox='0 0 430 430' width=\"172\" height=\"172\" id=\"agent_1\"><circle cx=\"215\" cy=\"215\" r=\"205\" fill=\"none\" stroke=\"black\" stroke-width=\"2\" stroke-dasharray=\"3,3\"/><circle cx=\"149\" cy=\"221\" r=\"12\" fill=\"rgb(187,187,187)\"/><circle cx=\"218\" cy=\"260\" r=\"9\" fill=\"rgb(127,127,127)\"/><circle cx=\"304\" cy=\"281\" r=\"13\" fill=\"rgb(170,170,170)\"/><circle cx=\"196\" cy=\"298\" r=\"10\" fill=\"rgb(198,198,198)\"/><circle cx=\"83\" cy=\"139\" r=\"8\" fill=\"rgb(146,146,146)\"/><circle cx=\"92\" cy=\"231\" r=\"10\" fill=\"rgb(110,110,110)\"/><circle cx=\"92\" cy=\"338\" r=\"11\" fill=\"rgb(131,131,131)\"/></svg><svg viewBox='0 0 430 430' id=\"svg\" width=\"172\" height=\"172\"><circle cx=\"215\" cy=\"215\" r=\"205\" fill=\"none\" stroke=\"black\" stroke-width=\"2\" stroke-dasharray=\"3,3\"/> <circle cx=\"149\" cy=\"221\" r=\"12\" fill=\"rgb(255,255,255)\" class=\"agent_1_15\"/><circle cx=\"218\" cy=\"260\" r=\"9\" fill=\"rgb(255,255,255)\" class=\"agent_1_21\"/><circle cx=\"304\" cy=\"281\" r=\"13\" fill=\"rgb(255,0,0)\" class=\"agent_1_54\"/><circle cx=\"196\" cy=\"298\" r=\"10\" fill=\"rgb(255,255,255)\" class=\"agent_1_59\"/><circle cx=\"83\" cy=\"139\" r=\"8\" fill=\"rgb(255,255,255)\" class=\"agent_1_60\"/><circle cx=\"92\" cy=\"231\" r=\"10\" fill=\"rgb(255,255,255)\" class=\"agent_1_63\"/><circle cx=\"92\" cy=\"338\" r=\"11\" fill=\"rgb(255,255,255)\" class=\"agent_1_67\"/></svg><svg viewBox='0 0 430 430' id=\"svg\" width=\"172\" height=\"172\"><circle cx=\"215\" cy=\"215\" r=\"205\" fill=\"none\" stroke=\"black\" stroke-width=\"2\" stroke-dasharray=\"3,3\"/> <circle cx=\"149\" cy=\"221\" r=\"12\" fill=\"rgb(255,255,255)\" class=\"agent_1_15\"/><circle cx=\"218\" cy=\"260\" r=\"9\" fill=\"rgb(255,0,0)\" class=\"agent_1_21\"/><circle cx=\"304\" cy=\"281\" r=\"13\" fill=\"rgb(255,0,0)\" class=\"agent_1_54\"/><circle cx=\"196\" cy=\"298\" r=\"10\" fill=\"rgb(255,0,0)\" class=\"agent_1_59\"/><circle cx=\"83\" cy=\"139\" r=\"8\" fill=\"rgb(255,255,255)\" class=\"agent_1_60\"/><circle cx=\"92\" cy=\"231\" r=\"10\" fill=\"rgb(255,255,255)\" class=\"agent_1_63\"/><circle cx=\"92\" cy=\"338\" r=\"11\" fill=\"rgb(255,255,255)\" class=\"agent_1_67\"/></svg></div>"
      ],
      "text/plain": [
       "<IPython.core.display.HTML object>"
      ]
     },
     "metadata": {},
     "output_type": "display_data"
    },
    {
     "name": "stdout",
     "output_type": "stream",
     "text": [
      "\n",
      "----------------------------------------\n",
      "\n",
      "to_mention_true\n"
     ]
    },
    {
     "data": {
      "text/html": [
       "<div style=\"white-space: nowrap\"><svg viewbox='0 0 430 430' width=\"172\" height=\"172\" id=\"agent_1\"><circle cx=\"215\" cy=\"215\" r=\"205\" fill=\"none\" stroke=\"black\" stroke-width=\"2\" stroke-dasharray=\"3,3\"/><circle cx=\"149\" cy=\"221\" r=\"12\" fill=\"rgb(187,187,187)\"/><circle cx=\"218\" cy=\"260\" r=\"9\" fill=\"rgb(127,127,127)\"/><circle cx=\"304\" cy=\"281\" r=\"13\" fill=\"rgb(170,170,170)\"/><circle cx=\"196\" cy=\"298\" r=\"10\" fill=\"rgb(198,198,198)\"/><circle cx=\"83\" cy=\"139\" r=\"8\" fill=\"rgb(146,146,146)\"/><circle cx=\"92\" cy=\"231\" r=\"10\" fill=\"rgb(110,110,110)\"/><circle cx=\"92\" cy=\"338\" r=\"11\" fill=\"rgb(131,131,131)\"/></svg><svg viewBox='0 0 430 430' id=\"svg\" width=\"172\" height=\"172\"><circle cx=\"215\" cy=\"215\" r=\"205\" fill=\"none\" stroke=\"black\" stroke-width=\"2\" stroke-dasharray=\"3,3\"/> <circle cx=\"149\" cy=\"221\" r=\"12\" fill=\"rgb(255,0,0)\" class=\"agent_1_15\"/><circle cx=\"218\" cy=\"260\" r=\"9\" fill=\"rgb(255,255,255)\" class=\"agent_1_21\"/><circle cx=\"304\" cy=\"281\" r=\"13\" fill=\"rgb(255,255,255)\" class=\"agent_1_54\"/><circle cx=\"196\" cy=\"298\" r=\"10\" fill=\"rgb(255,255,255)\" class=\"agent_1_59\"/><circle cx=\"83\" cy=\"139\" r=\"8\" fill=\"rgb(255,255,255)\" class=\"agent_1_60\"/><circle cx=\"92\" cy=\"231\" r=\"10\" fill=\"rgb(255,255,255)\" class=\"agent_1_63\"/><circle cx=\"92\" cy=\"338\" r=\"11\" fill=\"rgb(255,255,255)\" class=\"agent_1_67\"/></svg></div>"
      ],
      "text/plain": [
       "<IPython.core.display.HTML object>"
      ]
     },
     "metadata": {},
     "output_type": "display_data"
    },
    {
     "name": "stdout",
     "output_type": "stream",
     "text": [
      "to_mention_pred\n"
     ]
    },
    {
     "data": {
      "text/html": [
       "<div style=\"white-space: nowrap\"><svg viewbox='0 0 430 430' width=\"172\" height=\"172\" id=\"agent_1\"><circle cx=\"215\" cy=\"215\" r=\"205\" fill=\"none\" stroke=\"black\" stroke-width=\"2\" stroke-dasharray=\"3,3\"/><circle cx=\"149\" cy=\"221\" r=\"12\" fill=\"rgb(187,187,187)\"/><circle cx=\"218\" cy=\"260\" r=\"9\" fill=\"rgb(127,127,127)\"/><circle cx=\"304\" cy=\"281\" r=\"13\" fill=\"rgb(170,170,170)\"/><circle cx=\"196\" cy=\"298\" r=\"10\" fill=\"rgb(198,198,198)\"/><circle cx=\"83\" cy=\"139\" r=\"8\" fill=\"rgb(146,146,146)\"/><circle cx=\"92\" cy=\"231\" r=\"10\" fill=\"rgb(110,110,110)\"/><circle cx=\"92\" cy=\"338\" r=\"11\" fill=\"rgb(131,131,131)\"/></svg><svg viewBox='0 0 430 430' id=\"svg\" width=\"172\" height=\"172\"><circle cx=\"215\" cy=\"215\" r=\"205\" fill=\"none\" stroke=\"black\" stroke-width=\"2\" stroke-dasharray=\"3,3\"/> <circle cx=\"149\" cy=\"221\" r=\"12\" fill=\"rgb(255,255,255)\" class=\"agent_1_15\"/><circle cx=\"218\" cy=\"260\" r=\"9\" fill=\"rgb(255,255,255)\" class=\"agent_1_21\"/><circle cx=\"304\" cy=\"281\" r=\"13\" fill=\"rgb(255,0,0)\" class=\"agent_1_54\"/><circle cx=\"196\" cy=\"298\" r=\"10\" fill=\"rgb(255,255,255)\" class=\"agent_1_59\"/><circle cx=\"83\" cy=\"139\" r=\"8\" fill=\"rgb(255,255,255)\" class=\"agent_1_60\"/><circle cx=\"92\" cy=\"231\" r=\"10\" fill=\"rgb(255,255,255)\" class=\"agent_1_63\"/><circle cx=\"92\" cy=\"338\" r=\"11\" fill=\"rgb(255,255,255)\" class=\"agent_1_67\"/></svg></div>"
      ],
      "text/plain": [
       "<IPython.core.display.HTML object>"
      ]
     },
     "metadata": {},
     "output_type": "display_data"
    },
    {
     "name": "stdout",
     "output_type": "stream",
     "text": [
      "sample 0\tyes , let 's pick the large light gray dot <eos>\n",
      "sample 1\tyes . let 's choose the large light grey one <selection>\n",
      "sample 2\tyes , let 's pick the large light grey dot <eos>\n",
      "sample 3\tyes , let 's choose the large light one <eos>\n",
      "sample 4\tyes ! click that large light grey one ! <selection>\n",
      "sample 5\tyes , let 's pick the large light gray one <selection>\n",
      "sample 6\tyes , let 's choose the large light grey one <selection>\n",
      "sample 7\tyes , let 's pick the large light one <eos>\n",
      "sample 8\tyes , let 's pick the large light gray dot <eos>\n",
      "sample 9\tyes , let 's pick the large light one <eos>\n",
      "argmax\tyes , let 's pick the large light grey dot <selection>\n",
      "human\ta large light gray dot ... <eos>\n",
      "refs_true\n"
     ]
    },
    {
     "data": {
      "text/html": [
       "<div style=\"white-space: nowrap\"><svg viewbox='0 0 430 430' width=\"172\" height=\"172\" id=\"agent_1\"><circle cx=\"215\" cy=\"215\" r=\"205\" fill=\"none\" stroke=\"black\" stroke-width=\"2\" stroke-dasharray=\"3,3\"/><circle cx=\"149\" cy=\"221\" r=\"12\" fill=\"rgb(187,187,187)\"/><circle cx=\"218\" cy=\"260\" r=\"9\" fill=\"rgb(127,127,127)\"/><circle cx=\"304\" cy=\"281\" r=\"13\" fill=\"rgb(170,170,170)\"/><circle cx=\"196\" cy=\"298\" r=\"10\" fill=\"rgb(198,198,198)\"/><circle cx=\"83\" cy=\"139\" r=\"8\" fill=\"rgb(146,146,146)\"/><circle cx=\"92\" cy=\"231\" r=\"10\" fill=\"rgb(110,110,110)\"/><circle cx=\"92\" cy=\"338\" r=\"11\" fill=\"rgb(131,131,131)\"/></svg><svg viewBox='0 0 430 430' id=\"svg\" width=\"172\" height=\"172\"><circle cx=\"215\" cy=\"215\" r=\"205\" fill=\"none\" stroke=\"black\" stroke-width=\"2\" stroke-dasharray=\"3,3\"/> <circle cx=\"149\" cy=\"221\" r=\"12\" fill=\"rgb(255,0,0)\" class=\"agent_1_15\"/><circle cx=\"218\" cy=\"260\" r=\"9\" fill=\"rgb(255,255,255)\" class=\"agent_1_21\"/><circle cx=\"304\" cy=\"281\" r=\"13\" fill=\"rgb(255,255,255)\" class=\"agent_1_54\"/><circle cx=\"196\" cy=\"298\" r=\"10\" fill=\"rgb(255,255,255)\" class=\"agent_1_59\"/><circle cx=\"83\" cy=\"139\" r=\"8\" fill=\"rgb(255,255,255)\" class=\"agent_1_60\"/><circle cx=\"92\" cy=\"231\" r=\"10\" fill=\"rgb(255,255,255)\" class=\"agent_1_63\"/><circle cx=\"92\" cy=\"338\" r=\"11\" fill=\"rgb(255,255,255)\" class=\"agent_1_67\"/></svg></div>"
      ],
      "text/plain": [
       "<IPython.core.display.HTML object>"
      ]
     },
     "metadata": {},
     "output_type": "display_data"
    },
    {
     "name": "stdout",
     "output_type": "stream",
     "text": [
      "refs_pred\n"
     ]
    },
    {
     "data": {
      "text/html": [
       "<div style=\"white-space: nowrap\"><svg viewbox='0 0 430 430' width=\"172\" height=\"172\" id=\"agent_1\"><circle cx=\"215\" cy=\"215\" r=\"205\" fill=\"none\" stroke=\"black\" stroke-width=\"2\" stroke-dasharray=\"3,3\"/><circle cx=\"149\" cy=\"221\" r=\"12\" fill=\"rgb(187,187,187)\"/><circle cx=\"218\" cy=\"260\" r=\"9\" fill=\"rgb(127,127,127)\"/><circle cx=\"304\" cy=\"281\" r=\"13\" fill=\"rgb(170,170,170)\"/><circle cx=\"196\" cy=\"298\" r=\"10\" fill=\"rgb(198,198,198)\"/><circle cx=\"83\" cy=\"139\" r=\"8\" fill=\"rgb(146,146,146)\"/><circle cx=\"92\" cy=\"231\" r=\"10\" fill=\"rgb(110,110,110)\"/><circle cx=\"92\" cy=\"338\" r=\"11\" fill=\"rgb(131,131,131)\"/></svg><svg viewBox='0 0 430 430' id=\"svg\" width=\"172\" height=\"172\"><circle cx=\"215\" cy=\"215\" r=\"205\" fill=\"none\" stroke=\"black\" stroke-width=\"2\" stroke-dasharray=\"3,3\"/> <circle cx=\"149\" cy=\"221\" r=\"12\" fill=\"rgb(255,0,0)\" class=\"agent_1_15\"/><circle cx=\"218\" cy=\"260\" r=\"9\" fill=\"rgb(255,255,255)\" class=\"agent_1_21\"/><circle cx=\"304\" cy=\"281\" r=\"13\" fill=\"rgb(255,255,255)\" class=\"agent_1_54\"/><circle cx=\"196\" cy=\"298\" r=\"10\" fill=\"rgb(255,255,255)\" class=\"agent_1_59\"/><circle cx=\"83\" cy=\"139\" r=\"8\" fill=\"rgb(255,255,255)\" class=\"agent_1_60\"/><circle cx=\"92\" cy=\"231\" r=\"10\" fill=\"rgb(255,255,255)\" class=\"agent_1_63\"/><circle cx=\"92\" cy=\"338\" r=\"11\" fill=\"rgb(255,255,255)\" class=\"agent_1_67\"/></svg></div>"
      ],
      "text/plain": [
       "<IPython.core.display.HTML object>"
      ]
     },
     "metadata": {},
     "output_type": "display_data"
    },
    {
     "name": "stdout",
     "output_type": "stream",
     "text": [
      "\n",
      "----------------------------------------\n",
      "\n",
      "human\tTHEM: yes ! <eos>\n",
      "\n",
      "----------------------------------------\n",
      "\n",
      "to_mention_true\n"
     ]
    },
    {
     "data": {
      "text/html": [
       "<div style=\"white-space: nowrap\"><svg viewbox='0 0 430 430' width=\"172\" height=\"172\" id=\"agent_1\"><circle cx=\"215\" cy=\"215\" r=\"205\" fill=\"none\" stroke=\"black\" stroke-width=\"2\" stroke-dasharray=\"3,3\"/><circle cx=\"149\" cy=\"221\" r=\"12\" fill=\"rgb(187,187,187)\"/><circle cx=\"218\" cy=\"260\" r=\"9\" fill=\"rgb(127,127,127)\"/><circle cx=\"304\" cy=\"281\" r=\"13\" fill=\"rgb(170,170,170)\"/><circle cx=\"196\" cy=\"298\" r=\"10\" fill=\"rgb(198,198,198)\"/><circle cx=\"83\" cy=\"139\" r=\"8\" fill=\"rgb(146,146,146)\"/><circle cx=\"92\" cy=\"231\" r=\"10\" fill=\"rgb(110,110,110)\"/><circle cx=\"92\" cy=\"338\" r=\"11\" fill=\"rgb(131,131,131)\"/></svg><svg viewBox='0 0 430 430' id=\"svg\" width=\"172\" height=\"172\"><circle cx=\"215\" cy=\"215\" r=\"205\" fill=\"none\" stroke=\"black\" stroke-width=\"2\" stroke-dasharray=\"3,3\"/> <circle cx=\"149\" cy=\"221\" r=\"12\" fill=\"rgb(255,255,255)\" class=\"agent_1_15\"/><circle cx=\"218\" cy=\"260\" r=\"9\" fill=\"rgb(255,0,0)\" class=\"agent_1_21\"/><circle cx=\"304\" cy=\"281\" r=\"13\" fill=\"rgb(255,255,255)\" class=\"agent_1_54\"/><circle cx=\"196\" cy=\"298\" r=\"10\" fill=\"rgb(255,255,255)\" class=\"agent_1_59\"/><circle cx=\"83\" cy=\"139\" r=\"8\" fill=\"rgb(255,255,255)\" class=\"agent_1_60\"/><circle cx=\"92\" cy=\"231\" r=\"10\" fill=\"rgb(255,255,255)\" class=\"agent_1_63\"/><circle cx=\"92\" cy=\"338\" r=\"11\" fill=\"rgb(255,255,255)\" class=\"agent_1_67\"/></svg></div>"
      ],
      "text/plain": [
       "<IPython.core.display.HTML object>"
      ]
     },
     "metadata": {},
     "output_type": "display_data"
    },
    {
     "name": "stdout",
     "output_type": "stream",
     "text": [
      "to_mention_pred\n"
     ]
    },
    {
     "data": {
      "text/html": [
       "<div style=\"white-space: nowrap\"><svg viewbox='0 0 430 430' width=\"172\" height=\"172\" id=\"agent_1\"><circle cx=\"215\" cy=\"215\" r=\"205\" fill=\"none\" stroke=\"black\" stroke-width=\"2\" stroke-dasharray=\"3,3\"/><circle cx=\"149\" cy=\"221\" r=\"12\" fill=\"rgb(187,187,187)\"/><circle cx=\"218\" cy=\"260\" r=\"9\" fill=\"rgb(127,127,127)\"/><circle cx=\"304\" cy=\"281\" r=\"13\" fill=\"rgb(170,170,170)\"/><circle cx=\"196\" cy=\"298\" r=\"10\" fill=\"rgb(198,198,198)\"/><circle cx=\"83\" cy=\"139\" r=\"8\" fill=\"rgb(146,146,146)\"/><circle cx=\"92\" cy=\"231\" r=\"10\" fill=\"rgb(110,110,110)\"/><circle cx=\"92\" cy=\"338\" r=\"11\" fill=\"rgb(131,131,131)\"/></svg><svg viewBox='0 0 430 430' id=\"svg\" width=\"172\" height=\"172\"><circle cx=\"215\" cy=\"215\" r=\"205\" fill=\"none\" stroke=\"black\" stroke-width=\"2\" stroke-dasharray=\"3,3\"/> <circle cx=\"149\" cy=\"221\" r=\"12\" fill=\"rgb(255,0,0)\" class=\"agent_1_15\"/><circle cx=\"218\" cy=\"260\" r=\"9\" fill=\"rgb(255,255,255)\" class=\"agent_1_21\"/><circle cx=\"304\" cy=\"281\" r=\"13\" fill=\"rgb(255,255,255)\" class=\"agent_1_54\"/><circle cx=\"196\" cy=\"298\" r=\"10\" fill=\"rgb(255,255,255)\" class=\"agent_1_59\"/><circle cx=\"83\" cy=\"139\" r=\"8\" fill=\"rgb(255,255,255)\" class=\"agent_1_60\"/><circle cx=\"92\" cy=\"231\" r=\"10\" fill=\"rgb(255,255,255)\" class=\"agent_1_63\"/><circle cx=\"92\" cy=\"338\" r=\"11\" fill=\"rgb(255,255,255)\" class=\"agent_1_67\"/></svg></div>"
      ],
      "text/plain": [
       "<IPython.core.display.HTML object>"
      ]
     },
     "metadata": {},
     "output_type": "display_data"
    },
    {
     "name": "stdout",
     "output_type": "stream",
     "text": [
      "sample 0\tok , let 's pick that one <selection>\n",
      "sample 1\ti think we have the same one . <eos>\n",
      "sample 2\tok , let 's choose the small one <selection>\n",
      "sample 3\tok , lets choose the small one <selection>\n",
      "sample 4\tok , let 's choose that one . <selection>\n",
      "sample 5\tlet 's choose that one <selection>\n",
      "sample 6\tlets choose the small one <selection>\n",
      "sample 7\tlets choose the small one <selection>\n",
      "sample 8\tok , let 's choose that one <selection>\n",
      "sample 9\tlet 's click on the small dark gray dot <selection>\n",
      "argmax\tok , let 's choose that one <selection>\n",
      "human\t<unk> choose small dark grey dot <selection>\n",
      "refs_true\n"
     ]
    },
    {
     "data": {
      "text/html": [
       "<div style=\"white-space: nowrap\"><svg viewbox='0 0 430 430' width=\"172\" height=\"172\" id=\"agent_1\"><circle cx=\"215\" cy=\"215\" r=\"205\" fill=\"none\" stroke=\"black\" stroke-width=\"2\" stroke-dasharray=\"3,3\"/><circle cx=\"149\" cy=\"221\" r=\"12\" fill=\"rgb(187,187,187)\"/><circle cx=\"218\" cy=\"260\" r=\"9\" fill=\"rgb(127,127,127)\"/><circle cx=\"304\" cy=\"281\" r=\"13\" fill=\"rgb(170,170,170)\"/><circle cx=\"196\" cy=\"298\" r=\"10\" fill=\"rgb(198,198,198)\"/><circle cx=\"83\" cy=\"139\" r=\"8\" fill=\"rgb(146,146,146)\"/><circle cx=\"92\" cy=\"231\" r=\"10\" fill=\"rgb(110,110,110)\"/><circle cx=\"92\" cy=\"338\" r=\"11\" fill=\"rgb(131,131,131)\"/></svg><svg viewBox='0 0 430 430' id=\"svg\" width=\"172\" height=\"172\"><circle cx=\"215\" cy=\"215\" r=\"205\" fill=\"none\" stroke=\"black\" stroke-width=\"2\" stroke-dasharray=\"3,3\"/> <circle cx=\"149\" cy=\"221\" r=\"12\" fill=\"rgb(255,255,255)\" class=\"agent_1_15\"/><circle cx=\"218\" cy=\"260\" r=\"9\" fill=\"rgb(255,0,0)\" class=\"agent_1_21\"/><circle cx=\"304\" cy=\"281\" r=\"13\" fill=\"rgb(255,255,255)\" class=\"agent_1_54\"/><circle cx=\"196\" cy=\"298\" r=\"10\" fill=\"rgb(255,255,255)\" class=\"agent_1_59\"/><circle cx=\"83\" cy=\"139\" r=\"8\" fill=\"rgb(255,255,255)\" class=\"agent_1_60\"/><circle cx=\"92\" cy=\"231\" r=\"10\" fill=\"rgb(255,255,255)\" class=\"agent_1_63\"/><circle cx=\"92\" cy=\"338\" r=\"11\" fill=\"rgb(255,255,255)\" class=\"agent_1_67\"/></svg></div>"
      ],
      "text/plain": [
       "<IPython.core.display.HTML object>"
      ]
     },
     "metadata": {},
     "output_type": "display_data"
    },
    {
     "name": "stdout",
     "output_type": "stream",
     "text": [
      "refs_pred\n"
     ]
    },
    {
     "data": {
      "text/html": [
       "<div style=\"white-space: nowrap\"><svg viewbox='0 0 430 430' width=\"172\" height=\"172\" id=\"agent_1\"><circle cx=\"215\" cy=\"215\" r=\"205\" fill=\"none\" stroke=\"black\" stroke-width=\"2\" stroke-dasharray=\"3,3\"/><circle cx=\"149\" cy=\"221\" r=\"12\" fill=\"rgb(187,187,187)\"/><circle cx=\"218\" cy=\"260\" r=\"9\" fill=\"rgb(127,127,127)\"/><circle cx=\"304\" cy=\"281\" r=\"13\" fill=\"rgb(170,170,170)\"/><circle cx=\"196\" cy=\"298\" r=\"10\" fill=\"rgb(198,198,198)\"/><circle cx=\"83\" cy=\"139\" r=\"8\" fill=\"rgb(146,146,146)\"/><circle cx=\"92\" cy=\"231\" r=\"10\" fill=\"rgb(110,110,110)\"/><circle cx=\"92\" cy=\"338\" r=\"11\" fill=\"rgb(131,131,131)\"/></svg><svg viewBox='0 0 430 430' id=\"svg\" width=\"172\" height=\"172\"><circle cx=\"215\" cy=\"215\" r=\"205\" fill=\"none\" stroke=\"black\" stroke-width=\"2\" stroke-dasharray=\"3,3\"/> <circle cx=\"149\" cy=\"221\" r=\"12\" fill=\"rgb(255,255,255)\" class=\"agent_1_15\"/><circle cx=\"218\" cy=\"260\" r=\"9\" fill=\"rgb(255,0,0)\" class=\"agent_1_21\"/><circle cx=\"304\" cy=\"281\" r=\"13\" fill=\"rgb(255,255,255)\" class=\"agent_1_54\"/><circle cx=\"196\" cy=\"298\" r=\"10\" fill=\"rgb(255,255,255)\" class=\"agent_1_59\"/><circle cx=\"83\" cy=\"139\" r=\"8\" fill=\"rgb(255,255,255)\" class=\"agent_1_60\"/><circle cx=\"92\" cy=\"231\" r=\"10\" fill=\"rgb(255,255,255)\" class=\"agent_1_63\"/><circle cx=\"92\" cy=\"338\" r=\"11\" fill=\"rgb(255,255,255)\" class=\"agent_1_67\"/></svg></div>"
      ],
      "text/plain": [
       "<IPython.core.display.HTML object>"
      ]
     },
     "metadata": {},
     "output_type": "display_data"
    },
    {
     "name": "stdout",
     "output_type": "stream",
     "text": [
      "\n",
      "----------------------------------------\n",
      "\n"
     ]
    }
   ],
   "source": [
    "force_contexts_and_mentions(10)"
   ]
  },
  {
   "cell_type": "code",
   "execution_count": 57,
   "metadata": {
    "scrolled": false
   },
   "outputs": [
    {
     "name": "stdout",
     "output_type": "stream",
     "text": [
      "human\tTHEM: i have a tiny dot light grey dot slight above and to the left of a bigger and darker dot <eos>\n",
      "partner_refs_true\n"
     ]
    },
    {
     "data": {
      "text/html": [
       "<div style=\"white-space: nowrap\"><svg viewbox='0 0 430 430' width=\"172\" height=\"172\" id=\"agent_0\"><circle cx=\"215\" cy=\"215\" r=\"205\" fill=\"none\" stroke=\"black\" stroke-width=\"2\" stroke-dasharray=\"3,3\"/><circle cx=\"272\" cy=\"31\" r=\"12\" fill=\"rgb(56,56,56)\"/><circle cx=\"105\" cy=\"307\" r=\"7\" fill=\"rgb(190,190,190)\"/><circle cx=\"99\" cy=\"126\" r=\"11\" fill=\"rgb(56,56,56)\"/><circle cx=\"98\" cy=\"80\" r=\"9\" fill=\"rgb(110,110,110)\"/><circle cx=\"127\" cy=\"356\" r=\"9\" fill=\"rgb(63,63,63)\"/><circle cx=\"274\" cy=\"373\" r=\"9\" fill=\"rgb(97,97,97)\"/><circle cx=\"348\" cy=\"195\" r=\"9\" fill=\"rgb(179,179,179)\"/></svg><svg viewBox='0 0 430 430' id=\"svg\" width=\"172\" height=\"172\"><circle cx=\"215\" cy=\"215\" r=\"205\" fill=\"none\" stroke=\"black\" stroke-width=\"2\" stroke-dasharray=\"3,3\"/> <circle cx=\"272\" cy=\"31\" r=\"12\" fill=\"rgb(255,255,255)\" class=\"agent_0_3\"/><circle cx=\"105\" cy=\"307\" r=\"7\" fill=\"rgb(255,0,0)\" class=\"agent_0_6\"/><circle cx=\"99\" cy=\"126\" r=\"11\" fill=\"rgb(255,255,255)\" class=\"agent_0_12\"/><circle cx=\"98\" cy=\"80\" r=\"9\" fill=\"rgb(255,255,255)\" class=\"agent_0_15\"/><circle cx=\"127\" cy=\"356\" r=\"9\" fill=\"rgb(255,255,255)\" class=\"agent_0_19\"/><circle cx=\"274\" cy=\"373\" r=\"9\" fill=\"rgb(255,255,255)\" class=\"agent_0_27\"/><circle cx=\"348\" cy=\"195\" r=\"9\" fill=\"rgb(255,255,255)\" class=\"agent_0_68\"/></svg><svg viewBox='0 0 430 430' id=\"svg\" width=\"172\" height=\"172\"><circle cx=\"215\" cy=\"215\" r=\"205\" fill=\"none\" stroke=\"black\" stroke-width=\"2\" stroke-dasharray=\"3,3\"/> <circle cx=\"272\" cy=\"31\" r=\"12\" fill=\"rgb(255,255,255)\" class=\"agent_0_3\"/><circle cx=\"105\" cy=\"307\" r=\"7\" fill=\"rgb(255,255,255)\" class=\"agent_0_6\"/><circle cx=\"99\" cy=\"126\" r=\"11\" fill=\"rgb(255,255,255)\" class=\"agent_0_12\"/><circle cx=\"98\" cy=\"80\" r=\"9\" fill=\"rgb(255,255,255)\" class=\"agent_0_15\"/><circle cx=\"127\" cy=\"356\" r=\"9\" fill=\"rgb(255,0,0)\" class=\"agent_0_19\"/><circle cx=\"274\" cy=\"373\" r=\"9\" fill=\"rgb(255,255,255)\" class=\"agent_0_27\"/><circle cx=\"348\" cy=\"195\" r=\"9\" fill=\"rgb(255,255,255)\" class=\"agent_0_68\"/></svg></div>"
      ],
      "text/plain": [
       "<IPython.core.display.HTML object>"
      ]
     },
     "metadata": {},
     "output_type": "display_data"
    },
    {
     "name": "stdout",
     "output_type": "stream",
     "text": [
      "partner_refs_pred\n"
     ]
    },
    {
     "data": {
      "text/html": [
       "<div style=\"white-space: nowrap\"><svg viewbox='0 0 430 430' width=\"172\" height=\"172\" id=\"agent_0\"><circle cx=\"215\" cy=\"215\" r=\"205\" fill=\"none\" stroke=\"black\" stroke-width=\"2\" stroke-dasharray=\"3,3\"/><circle cx=\"272\" cy=\"31\" r=\"12\" fill=\"rgb(56,56,56)\"/><circle cx=\"105\" cy=\"307\" r=\"7\" fill=\"rgb(190,190,190)\"/><circle cx=\"99\" cy=\"126\" r=\"11\" fill=\"rgb(56,56,56)\"/><circle cx=\"98\" cy=\"80\" r=\"9\" fill=\"rgb(110,110,110)\"/><circle cx=\"127\" cy=\"356\" r=\"9\" fill=\"rgb(63,63,63)\"/><circle cx=\"274\" cy=\"373\" r=\"9\" fill=\"rgb(97,97,97)\"/><circle cx=\"348\" cy=\"195\" r=\"9\" fill=\"rgb(179,179,179)\"/></svg><svg viewBox='0 0 430 430' id=\"svg\" width=\"172\" height=\"172\"><circle cx=\"215\" cy=\"215\" r=\"205\" fill=\"none\" stroke=\"black\" stroke-width=\"2\" stroke-dasharray=\"3,3\"/> <circle cx=\"272\" cy=\"31\" r=\"12\" fill=\"rgb(255,255,255)\" class=\"agent_0_3\"/><circle cx=\"105\" cy=\"307\" r=\"7\" fill=\"rgb(255,0,0)\" class=\"agent_0_6\"/><circle cx=\"99\" cy=\"126\" r=\"11\" fill=\"rgb(255,255,255)\" class=\"agent_0_12\"/><circle cx=\"98\" cy=\"80\" r=\"9\" fill=\"rgb(255,255,255)\" class=\"agent_0_15\"/><circle cx=\"127\" cy=\"356\" r=\"9\" fill=\"rgb(255,255,255)\" class=\"agent_0_19\"/><circle cx=\"274\" cy=\"373\" r=\"9\" fill=\"rgb(255,255,255)\" class=\"agent_0_27\"/><circle cx=\"348\" cy=\"195\" r=\"9\" fill=\"rgb(255,255,255)\" class=\"agent_0_68\"/></svg><svg viewBox='0 0 430 430' id=\"svg\" width=\"172\" height=\"172\"><circle cx=\"215\" cy=\"215\" r=\"205\" fill=\"none\" stroke=\"black\" stroke-width=\"2\" stroke-dasharray=\"3,3\"/> <circle cx=\"272\" cy=\"31\" r=\"12\" fill=\"rgb(255,255,255)\" class=\"agent_0_3\"/><circle cx=\"105\" cy=\"307\" r=\"7\" fill=\"rgb(255,255,255)\" class=\"agent_0_6\"/><circle cx=\"99\" cy=\"126\" r=\"11\" fill=\"rgb(255,255,255)\" class=\"agent_0_12\"/><circle cx=\"98\" cy=\"80\" r=\"9\" fill=\"rgb(255,255,255)\" class=\"agent_0_15\"/><circle cx=\"127\" cy=\"356\" r=\"9\" fill=\"rgb(255,0,0)\" class=\"agent_0_19\"/><circle cx=\"274\" cy=\"373\" r=\"9\" fill=\"rgb(255,255,255)\" class=\"agent_0_27\"/><circle cx=\"348\" cy=\"195\" r=\"9\" fill=\"rgb(255,255,255)\" class=\"agent_0_68\"/></svg></div>"
      ],
      "text/plain": [
       "<IPython.core.display.HTML object>"
      ]
     },
     "metadata": {},
     "output_type": "display_data"
    },
    {
     "name": "stdout",
     "output_type": "stream",
     "text": [
      "\n",
      "----------------------------------------\n",
      "\n",
      "to_mention_true\n"
     ]
    },
    {
     "data": {
      "text/html": [
       "<div style=\"white-space: nowrap\"><svg viewbox='0 0 430 430' width=\"172\" height=\"172\" id=\"agent_0\"><circle cx=\"215\" cy=\"215\" r=\"205\" fill=\"none\" stroke=\"black\" stroke-width=\"2\" stroke-dasharray=\"3,3\"/><circle cx=\"272\" cy=\"31\" r=\"12\" fill=\"rgb(56,56,56)\"/><circle cx=\"105\" cy=\"307\" r=\"7\" fill=\"rgb(190,190,190)\"/><circle cx=\"99\" cy=\"126\" r=\"11\" fill=\"rgb(56,56,56)\"/><circle cx=\"98\" cy=\"80\" r=\"9\" fill=\"rgb(110,110,110)\"/><circle cx=\"127\" cy=\"356\" r=\"9\" fill=\"rgb(63,63,63)\"/><circle cx=\"274\" cy=\"373\" r=\"9\" fill=\"rgb(97,97,97)\"/><circle cx=\"348\" cy=\"195\" r=\"9\" fill=\"rgb(179,179,179)\"/></svg><svg viewBox='0 0 430 430' id=\"svg\" width=\"172\" height=\"172\"><circle cx=\"215\" cy=\"215\" r=\"205\" fill=\"none\" stroke=\"black\" stroke-width=\"2\" stroke-dasharray=\"3,3\"/> <circle cx=\"272\" cy=\"31\" r=\"12\" fill=\"rgb(255,255,255)\" class=\"agent_0_3\"/><circle cx=\"105\" cy=\"307\" r=\"7\" fill=\"rgb(255,255,255)\" class=\"agent_0_6\"/><circle cx=\"99\" cy=\"126\" r=\"11\" fill=\"rgb(255,255,255)\" class=\"agent_0_12\"/><circle cx=\"98\" cy=\"80\" r=\"9\" fill=\"rgb(255,255,255)\" class=\"agent_0_15\"/><circle cx=\"127\" cy=\"356\" r=\"9\" fill=\"rgb(255,0,0)\" class=\"agent_0_19\"/><circle cx=\"274\" cy=\"373\" r=\"9\" fill=\"rgb(255,255,255)\" class=\"agent_0_27\"/><circle cx=\"348\" cy=\"195\" r=\"9\" fill=\"rgb(255,255,255)\" class=\"agent_0_68\"/></svg></div>"
      ],
      "text/plain": [
       "<IPython.core.display.HTML object>"
      ]
     },
     "metadata": {},
     "output_type": "display_data"
    },
    {
     "name": "stdout",
     "output_type": "stream",
     "text": [
      "to_mention_pred\n"
     ]
    },
    {
     "data": {
      "text/html": [
       "<div style=\"white-space: nowrap\"><svg viewbox='0 0 430 430' width=\"172\" height=\"172\" id=\"agent_0\"><circle cx=\"215\" cy=\"215\" r=\"205\" fill=\"none\" stroke=\"black\" stroke-width=\"2\" stroke-dasharray=\"3,3\"/><circle cx=\"272\" cy=\"31\" r=\"12\" fill=\"rgb(56,56,56)\"/><circle cx=\"105\" cy=\"307\" r=\"7\" fill=\"rgb(190,190,190)\"/><circle cx=\"99\" cy=\"126\" r=\"11\" fill=\"rgb(56,56,56)\"/><circle cx=\"98\" cy=\"80\" r=\"9\" fill=\"rgb(110,110,110)\"/><circle cx=\"127\" cy=\"356\" r=\"9\" fill=\"rgb(63,63,63)\"/><circle cx=\"274\" cy=\"373\" r=\"9\" fill=\"rgb(97,97,97)\"/><circle cx=\"348\" cy=\"195\" r=\"9\" fill=\"rgb(179,179,179)\"/></svg><svg viewBox='0 0 430 430' id=\"svg\" width=\"172\" height=\"172\"><circle cx=\"215\" cy=\"215\" r=\"205\" fill=\"none\" stroke=\"black\" stroke-width=\"2\" stroke-dasharray=\"3,3\"/> <circle cx=\"272\" cy=\"31\" r=\"12\" fill=\"rgb(255,255,255)\" class=\"agent_0_3\"/><circle cx=\"105\" cy=\"307\" r=\"7\" fill=\"rgb(255,0,0)\" class=\"agent_0_6\"/><circle cx=\"99\" cy=\"126\" r=\"11\" fill=\"rgb(255,255,255)\" class=\"agent_0_12\"/><circle cx=\"98\" cy=\"80\" r=\"9\" fill=\"rgb(255,255,255)\" class=\"agent_0_15\"/><circle cx=\"127\" cy=\"356\" r=\"9\" fill=\"rgb(255,255,255)\" class=\"agent_0_19\"/><circle cx=\"274\" cy=\"373\" r=\"9\" fill=\"rgb(255,255,255)\" class=\"agent_0_27\"/><circle cx=\"348\" cy=\"195\" r=\"9\" fill=\"rgb(255,255,255)\" class=\"agent_0_68\"/></svg></div>"
      ],
      "text/plain": [
       "<IPython.core.display.HTML object>"
      ]
     },
     "metadata": {},
     "output_type": "display_data"
    },
    {
     "name": "stdout",
     "output_type": "stream",
     "text": [
      "sample 0\tyes , i see that one <eos>\n",
      "sample 1\ti see that <eos>\n",
      "sample 2\ti think i see that one <eos>\n",
      "sample 3\tyes , let 's pick the black one <eos>\n",
      "sample 4\tlet us select the smaller black dot <selection>\n",
      "sample 5\ti see that <eos>\n",
      "sample 6\tyes , let 's pick the black one <eos>\n",
      "sample 7\tyes ! click the black one ! <selection>\n",
      "sample 8\ti see that <eos>\n",
      "sample 9\tyes , let 's pick the black one <eos>\n",
      "argmax\tyes , lets pick the black one <eos>\n",
      "human\tis the larger dot almost black ? <eos>\n",
      "refs_true\n"
     ]
    },
    {
     "data": {
      "text/html": [
       "<div style=\"white-space: nowrap\"><svg viewbox='0 0 430 430' width=\"172\" height=\"172\" id=\"agent_0\"><circle cx=\"215\" cy=\"215\" r=\"205\" fill=\"none\" stroke=\"black\" stroke-width=\"2\" stroke-dasharray=\"3,3\"/><circle cx=\"272\" cy=\"31\" r=\"12\" fill=\"rgb(56,56,56)\"/><circle cx=\"105\" cy=\"307\" r=\"7\" fill=\"rgb(190,190,190)\"/><circle cx=\"99\" cy=\"126\" r=\"11\" fill=\"rgb(56,56,56)\"/><circle cx=\"98\" cy=\"80\" r=\"9\" fill=\"rgb(110,110,110)\"/><circle cx=\"127\" cy=\"356\" r=\"9\" fill=\"rgb(63,63,63)\"/><circle cx=\"274\" cy=\"373\" r=\"9\" fill=\"rgb(97,97,97)\"/><circle cx=\"348\" cy=\"195\" r=\"9\" fill=\"rgb(179,179,179)\"/></svg><svg viewBox='0 0 430 430' id=\"svg\" width=\"172\" height=\"172\"><circle cx=\"215\" cy=\"215\" r=\"205\" fill=\"none\" stroke=\"black\" stroke-width=\"2\" stroke-dasharray=\"3,3\"/> <circle cx=\"272\" cy=\"31\" r=\"12\" fill=\"rgb(255,255,255)\" class=\"agent_0_3\"/><circle cx=\"105\" cy=\"307\" r=\"7\" fill=\"rgb(255,255,255)\" class=\"agent_0_6\"/><circle cx=\"99\" cy=\"126\" r=\"11\" fill=\"rgb(255,255,255)\" class=\"agent_0_12\"/><circle cx=\"98\" cy=\"80\" r=\"9\" fill=\"rgb(255,255,255)\" class=\"agent_0_15\"/><circle cx=\"127\" cy=\"356\" r=\"9\" fill=\"rgb(255,0,0)\" class=\"agent_0_19\"/><circle cx=\"274\" cy=\"373\" r=\"9\" fill=\"rgb(255,255,255)\" class=\"agent_0_27\"/><circle cx=\"348\" cy=\"195\" r=\"9\" fill=\"rgb(255,255,255)\" class=\"agent_0_68\"/></svg></div>"
      ],
      "text/plain": [
       "<IPython.core.display.HTML object>"
      ]
     },
     "metadata": {},
     "output_type": "display_data"
    },
    {
     "name": "stdout",
     "output_type": "stream",
     "text": [
      "refs_pred\n"
     ]
    },
    {
     "data": {
      "text/html": [
       "<div style=\"white-space: nowrap\"><svg viewbox='0 0 430 430' width=\"172\" height=\"172\" id=\"agent_0\"><circle cx=\"215\" cy=\"215\" r=\"205\" fill=\"none\" stroke=\"black\" stroke-width=\"2\" stroke-dasharray=\"3,3\"/><circle cx=\"272\" cy=\"31\" r=\"12\" fill=\"rgb(56,56,56)\"/><circle cx=\"105\" cy=\"307\" r=\"7\" fill=\"rgb(190,190,190)\"/><circle cx=\"99\" cy=\"126\" r=\"11\" fill=\"rgb(56,56,56)\"/><circle cx=\"98\" cy=\"80\" r=\"9\" fill=\"rgb(110,110,110)\"/><circle cx=\"127\" cy=\"356\" r=\"9\" fill=\"rgb(63,63,63)\"/><circle cx=\"274\" cy=\"373\" r=\"9\" fill=\"rgb(97,97,97)\"/><circle cx=\"348\" cy=\"195\" r=\"9\" fill=\"rgb(179,179,179)\"/></svg><svg viewBox='0 0 430 430' id=\"svg\" width=\"172\" height=\"172\"><circle cx=\"215\" cy=\"215\" r=\"205\" fill=\"none\" stroke=\"black\" stroke-width=\"2\" stroke-dasharray=\"3,3\"/> <circle cx=\"272\" cy=\"31\" r=\"12\" fill=\"rgb(255,255,255)\" class=\"agent_0_3\"/><circle cx=\"105\" cy=\"307\" r=\"7\" fill=\"rgb(255,255,255)\" class=\"agent_0_6\"/><circle cx=\"99\" cy=\"126\" r=\"11\" fill=\"rgb(255,0,0)\" class=\"agent_0_12\"/><circle cx=\"98\" cy=\"80\" r=\"9\" fill=\"rgb(255,255,255)\" class=\"agent_0_15\"/><circle cx=\"127\" cy=\"356\" r=\"9\" fill=\"rgb(255,255,255)\" class=\"agent_0_19\"/><circle cx=\"274\" cy=\"373\" r=\"9\" fill=\"rgb(255,255,255)\" class=\"agent_0_27\"/><circle cx=\"348\" cy=\"195\" r=\"9\" fill=\"rgb(255,255,255)\" class=\"agent_0_68\"/></svg></div>"
      ],
      "text/plain": [
       "<IPython.core.display.HTML object>"
      ]
     },
     "metadata": {},
     "output_type": "display_data"
    },
    {
     "name": "stdout",
     "output_type": "stream",
     "text": [
      "\n",
      "----------------------------------------\n",
      "\n",
      "human\tTHEM: yes <eos>\n",
      "\n",
      "----------------------------------------\n",
      "\n",
      "to_mention_true\n"
     ]
    },
    {
     "data": {
      "text/html": [
       "<div style=\"white-space: nowrap\"><svg viewbox='0 0 430 430' width=\"172\" height=\"172\" id=\"agent_0\"><circle cx=\"215\" cy=\"215\" r=\"205\" fill=\"none\" stroke=\"black\" stroke-width=\"2\" stroke-dasharray=\"3,3\"/><circle cx=\"272\" cy=\"31\" r=\"12\" fill=\"rgb(56,56,56)\"/><circle cx=\"105\" cy=\"307\" r=\"7\" fill=\"rgb(190,190,190)\"/><circle cx=\"99\" cy=\"126\" r=\"11\" fill=\"rgb(56,56,56)\"/><circle cx=\"98\" cy=\"80\" r=\"9\" fill=\"rgb(110,110,110)\"/><circle cx=\"127\" cy=\"356\" r=\"9\" fill=\"rgb(63,63,63)\"/><circle cx=\"274\" cy=\"373\" r=\"9\" fill=\"rgb(97,97,97)\"/><circle cx=\"348\" cy=\"195\" r=\"9\" fill=\"rgb(179,179,179)\"/></svg><svg viewBox='0 0 430 430' id=\"svg\" width=\"172\" height=\"172\"><circle cx=\"215\" cy=\"215\" r=\"205\" fill=\"none\" stroke=\"black\" stroke-width=\"2\" stroke-dasharray=\"3,3\"/> <circle cx=\"272\" cy=\"31\" r=\"12\" fill=\"rgb(255,255,255)\" class=\"agent_0_3\"/><circle cx=\"105\" cy=\"307\" r=\"7\" fill=\"rgb(255,255,255)\" class=\"agent_0_6\"/><circle cx=\"99\" cy=\"126\" r=\"11\" fill=\"rgb(255,255,255)\" class=\"agent_0_12\"/><circle cx=\"98\" cy=\"80\" r=\"9\" fill=\"rgb(255,255,255)\" class=\"agent_0_15\"/><circle cx=\"127\" cy=\"356\" r=\"9\" fill=\"rgb(255,0,0)\" class=\"agent_0_19\"/><circle cx=\"274\" cy=\"373\" r=\"9\" fill=\"rgb(255,255,255)\" class=\"agent_0_27\"/><circle cx=\"348\" cy=\"195\" r=\"9\" fill=\"rgb(255,255,255)\" class=\"agent_0_68\"/></svg></div>"
      ],
      "text/plain": [
       "<IPython.core.display.HTML object>"
      ]
     },
     "metadata": {},
     "output_type": "display_data"
    },
    {
     "name": "stdout",
     "output_type": "stream",
     "text": [
      "to_mention_pred\n"
     ]
    },
    {
     "data": {
      "text/html": [
       "<div style=\"white-space: nowrap\"><svg viewbox='0 0 430 430' width=\"172\" height=\"172\" id=\"agent_0\"><circle cx=\"215\" cy=\"215\" r=\"205\" fill=\"none\" stroke=\"black\" stroke-width=\"2\" stroke-dasharray=\"3,3\"/><circle cx=\"272\" cy=\"31\" r=\"12\" fill=\"rgb(56,56,56)\"/><circle cx=\"105\" cy=\"307\" r=\"7\" fill=\"rgb(190,190,190)\"/><circle cx=\"99\" cy=\"126\" r=\"11\" fill=\"rgb(56,56,56)\"/><circle cx=\"98\" cy=\"80\" r=\"9\" fill=\"rgb(110,110,110)\"/><circle cx=\"127\" cy=\"356\" r=\"9\" fill=\"rgb(63,63,63)\"/><circle cx=\"274\" cy=\"373\" r=\"9\" fill=\"rgb(97,97,97)\"/><circle cx=\"348\" cy=\"195\" r=\"9\" fill=\"rgb(179,179,179)\"/></svg><svg viewBox='0 0 430 430' id=\"svg\" width=\"172\" height=\"172\"><circle cx=\"215\" cy=\"215\" r=\"205\" fill=\"none\" stroke=\"black\" stroke-width=\"2\" stroke-dasharray=\"3,3\"/> <circle cx=\"272\" cy=\"31\" r=\"12\" fill=\"rgb(255,255,255)\" class=\"agent_0_3\"/><circle cx=\"105\" cy=\"307\" r=\"7\" fill=\"rgb(255,0,0)\" class=\"agent_0_6\"/><circle cx=\"99\" cy=\"126\" r=\"11\" fill=\"rgb(255,255,255)\" class=\"agent_0_12\"/><circle cx=\"98\" cy=\"80\" r=\"9\" fill=\"rgb(255,255,255)\" class=\"agent_0_15\"/><circle cx=\"127\" cy=\"356\" r=\"9\" fill=\"rgb(255,255,255)\" class=\"agent_0_19\"/><circle cx=\"274\" cy=\"373\" r=\"9\" fill=\"rgb(255,255,255)\" class=\"agent_0_27\"/><circle cx=\"348\" cy=\"195\" r=\"9\" fill=\"rgb(255,255,255)\" class=\"agent_0_68\"/></svg></div>"
      ],
      "text/plain": [
       "<IPython.core.display.HTML object>"
      ]
     },
     "metadata": {},
     "output_type": "display_data"
    },
    {
     "name": "stdout",
     "output_type": "stream",
     "text": [
      "sample 0\tok click that one <selection>\n",
      "sample 1\tok lets click that one <selection>\n",
      "sample 2\tok , lets pick that one <selection>\n",
      "sample 3\tok lets click that one <eos>\n",
      "sample 4\tok lets click that one <selection>\n",
      "sample 5\tokay , let 's pick that one <selection>\n",
      "sample 6\tlet 's pick that one <selection>\n",
      "sample 7\tlet 's pick that one <selection>\n",
      "sample 8\tok let 's choose that one <selection>\n",
      "sample 9\tlets click on that one <selection>\n",
      "argmax\tok , let 's pick that one <selection>\n",
      "human\tk lets click the black one <selection>\n",
      "refs_true\n"
     ]
    },
    {
     "data": {
      "text/html": [
       "<div style=\"white-space: nowrap\"><svg viewbox='0 0 430 430' width=\"172\" height=\"172\" id=\"agent_0\"><circle cx=\"215\" cy=\"215\" r=\"205\" fill=\"none\" stroke=\"black\" stroke-width=\"2\" stroke-dasharray=\"3,3\"/><circle cx=\"272\" cy=\"31\" r=\"12\" fill=\"rgb(56,56,56)\"/><circle cx=\"105\" cy=\"307\" r=\"7\" fill=\"rgb(190,190,190)\"/><circle cx=\"99\" cy=\"126\" r=\"11\" fill=\"rgb(56,56,56)\"/><circle cx=\"98\" cy=\"80\" r=\"9\" fill=\"rgb(110,110,110)\"/><circle cx=\"127\" cy=\"356\" r=\"9\" fill=\"rgb(63,63,63)\"/><circle cx=\"274\" cy=\"373\" r=\"9\" fill=\"rgb(97,97,97)\"/><circle cx=\"348\" cy=\"195\" r=\"9\" fill=\"rgb(179,179,179)\"/></svg><svg viewBox='0 0 430 430' id=\"svg\" width=\"172\" height=\"172\"><circle cx=\"215\" cy=\"215\" r=\"205\" fill=\"none\" stroke=\"black\" stroke-width=\"2\" stroke-dasharray=\"3,3\"/> <circle cx=\"272\" cy=\"31\" r=\"12\" fill=\"rgb(255,255,255)\" class=\"agent_0_3\"/><circle cx=\"105\" cy=\"307\" r=\"7\" fill=\"rgb(255,255,255)\" class=\"agent_0_6\"/><circle cx=\"99\" cy=\"126\" r=\"11\" fill=\"rgb(255,255,255)\" class=\"agent_0_12\"/><circle cx=\"98\" cy=\"80\" r=\"9\" fill=\"rgb(255,255,255)\" class=\"agent_0_15\"/><circle cx=\"127\" cy=\"356\" r=\"9\" fill=\"rgb(255,0,0)\" class=\"agent_0_19\"/><circle cx=\"274\" cy=\"373\" r=\"9\" fill=\"rgb(255,255,255)\" class=\"agent_0_27\"/><circle cx=\"348\" cy=\"195\" r=\"9\" fill=\"rgb(255,255,255)\" class=\"agent_0_68\"/></svg></div>"
      ],
      "text/plain": [
       "<IPython.core.display.HTML object>"
      ]
     },
     "metadata": {},
     "output_type": "display_data"
    },
    {
     "name": "stdout",
     "output_type": "stream",
     "text": [
      "refs_pred\n"
     ]
    },
    {
     "data": {
      "text/html": [
       "<div style=\"white-space: nowrap\"><svg viewbox='0 0 430 430' width=\"172\" height=\"172\" id=\"agent_0\"><circle cx=\"215\" cy=\"215\" r=\"205\" fill=\"none\" stroke=\"black\" stroke-width=\"2\" stroke-dasharray=\"3,3\"/><circle cx=\"272\" cy=\"31\" r=\"12\" fill=\"rgb(56,56,56)\"/><circle cx=\"105\" cy=\"307\" r=\"7\" fill=\"rgb(190,190,190)\"/><circle cx=\"99\" cy=\"126\" r=\"11\" fill=\"rgb(56,56,56)\"/><circle cx=\"98\" cy=\"80\" r=\"9\" fill=\"rgb(110,110,110)\"/><circle cx=\"127\" cy=\"356\" r=\"9\" fill=\"rgb(63,63,63)\"/><circle cx=\"274\" cy=\"373\" r=\"9\" fill=\"rgb(97,97,97)\"/><circle cx=\"348\" cy=\"195\" r=\"9\" fill=\"rgb(179,179,179)\"/></svg><svg viewBox='0 0 430 430' id=\"svg\" width=\"172\" height=\"172\"><circle cx=\"215\" cy=\"215\" r=\"205\" fill=\"none\" stroke=\"black\" stroke-width=\"2\" stroke-dasharray=\"3,3\"/> <circle cx=\"272\" cy=\"31\" r=\"12\" fill=\"rgb(255,255,255)\" class=\"agent_0_3\"/><circle cx=\"105\" cy=\"307\" r=\"7\" fill=\"rgb(255,255,255)\" class=\"agent_0_6\"/><circle cx=\"99\" cy=\"126\" r=\"11\" fill=\"rgb(255,0,0)\" class=\"agent_0_12\"/><circle cx=\"98\" cy=\"80\" r=\"9\" fill=\"rgb(255,255,255)\" class=\"agent_0_15\"/><circle cx=\"127\" cy=\"356\" r=\"9\" fill=\"rgb(255,255,255)\" class=\"agent_0_19\"/><circle cx=\"274\" cy=\"373\" r=\"9\" fill=\"rgb(255,255,255)\" class=\"agent_0_27\"/><circle cx=\"348\" cy=\"195\" r=\"9\" fill=\"rgb(255,255,255)\" class=\"agent_0_68\"/></svg></div>"
      ],
      "text/plain": [
       "<IPython.core.display.HTML object>"
      ]
     },
     "metadata": {},
     "output_type": "display_data"
    },
    {
     "name": "stdout",
     "output_type": "stream",
     "text": [
      "\n",
      "----------------------------------------\n",
      "\n"
     ]
    }
   ],
   "source": [
    "force_contexts_and_mentions(11)"
   ]
  },
  {
   "cell_type": "code",
   "execution_count": 58,
   "metadata": {},
   "outputs": [],
   "source": [
    "import json\n",
    "from utils import ContextGenerator"
   ]
  },
  {
   "cell_type": "code",
   "execution_count": 43,
   "metadata": {},
   "outputs": [],
   "source": [
    "ctx_gen = ContextGenerator('data/onecommon/shared_4.txt')"
   ]
  },
  {
   "cell_type": "code",
   "execution_count": 44,
   "metadata": {},
   "outputs": [],
   "source": [
    "with open('data/onecommon/shared_4.json', \"r\") as f:\n",
    "    scenario_list = json.load(f)\n",
    "selfplay_scenarios = {scenario['uuid']: scenario for scenario in scenario_list}"
   ]
  },
  {
   "cell_type": "code",
   "execution_count": 45,
   "metadata": {},
   "outputs": [
    {
     "name": "stdout",
     "output_type": "stream",
     "text": [
      "S_xM5bXi3lMqXHKKgP\n"
     ]
    }
   ],
   "source": [
    "scenario = None\n",
    "for ix, ([scenario_id], (ctx1, ctx2), (ids1, ids2)) in enumerate(ctx_gen.iter()):\n",
    "#     if scenario_id == 'S_11J8n40u4HRVduwi':\n",
    "#         print('found it')\n",
    "#         scenario = scenarios[scenario_id]\n",
    "#         break\n",
    "    if ix == 2:\n",
    "        scenario = selfplay_scenarios[scenario_id]\n",
    "        print(scenario_id)\n",
    "        break"
   ]
  },
  {
   "cell_type": "code",
   "execution_count": 46,
   "metadata": {},
   "outputs": [],
   "source": [
    "import random"
   ]
  },
  {
   "cell_type": "code",
   "execution_count": null,
   "metadata": {
    "scrolled": false
   },
   "outputs": [
    {
     "ename": "NameError",
     "evalue": "name 'selfplay_scenarios' is not defined",
     "output_type": "error",
     "traceback": [
      "\u001b[0;31m---------------------------------------------------------------------------\u001b[0m",
      "\u001b[0;31mNameError\u001b[0m                                 Traceback (most recent call last)",
      "\u001b[0;32m<ipython-input-41-e274016a0281>\u001b[0m in \u001b[0;36m<module>\u001b[0;34m\u001b[0m\n\u001b[1;32m      1\u001b[0m \u001b[0;31m# selfplay emulation\u001b[0m\u001b[0;34m\u001b[0m\u001b[0;34m\u001b[0m\u001b[0;34m\u001b[0m\u001b[0m\n\u001b[0;32m----> 2\u001b[0;31m \u001b[0mscenario\u001b[0m \u001b[0;34m=\u001b[0m \u001b[0mselfplay_scenarios\u001b[0m\u001b[0;34m[\u001b[0m\u001b[0mscenario_id\u001b[0m\u001b[0;34m]\u001b[0m\u001b[0;34m\u001b[0m\u001b[0;34m\u001b[0m\u001b[0m\n\u001b[0m\u001b[1;32m      3\u001b[0m \u001b[0;32mfor\u001b[0m \u001b[0magent\u001b[0m\u001b[0;34m,\u001b[0m \u001b[0magent_id\u001b[0m\u001b[0;34m,\u001b[0m \u001b[0mctx\u001b[0m\u001b[0;34m,\u001b[0m \u001b[0mreal_ids\u001b[0m \u001b[0;32min\u001b[0m \u001b[0mzip\u001b[0m\u001b[0;34m(\u001b[0m\u001b[0;34m[\u001b[0m\u001b[0malice\u001b[0m\u001b[0;34m,\u001b[0m \u001b[0mbob\u001b[0m\u001b[0;34m]\u001b[0m\u001b[0;34m,\u001b[0m \u001b[0;34m[\u001b[0m\u001b[0;36m0\u001b[0m\u001b[0;34m,\u001b[0m \u001b[0;36m1\u001b[0m\u001b[0;34m]\u001b[0m\u001b[0;34m,\u001b[0m \u001b[0;34m[\u001b[0m\u001b[0mctx1\u001b[0m\u001b[0;34m,\u001b[0m \u001b[0mctx2\u001b[0m\u001b[0;34m]\u001b[0m\u001b[0;34m,\u001b[0m \u001b[0;34m[\u001b[0m\u001b[0mids1\u001b[0m\u001b[0;34m,\u001b[0m \u001b[0mids2\u001b[0m\u001b[0;34m]\u001b[0m\u001b[0;34m)\u001b[0m\u001b[0;34m:\u001b[0m\u001b[0;34m\u001b[0m\u001b[0;34m\u001b[0m\u001b[0m\n\u001b[1;32m      4\u001b[0m     \u001b[0magent\u001b[0m\u001b[0;34m.\u001b[0m\u001b[0mfeed_context\u001b[0m\u001b[0;34m(\u001b[0m\u001b[0mctx\u001b[0m\u001b[0;34m)\u001b[0m\u001b[0;34m\u001b[0m\u001b[0;34m\u001b[0m\u001b[0m\n\u001b[1;32m      5\u001b[0m     \u001b[0magent\u001b[0m\u001b[0;34m.\u001b[0m\u001b[0mreal_ids\u001b[0m \u001b[0;34m=\u001b[0m \u001b[0mreal_ids\u001b[0m\u001b[0;34m\u001b[0m\u001b[0;34m\u001b[0m\u001b[0m\n",
      "\u001b[0;31mNameError\u001b[0m: name 'selfplay_scenarios' is not defined"
     ]
    },
    {
     "name": "stdout",
     "output_type": "stream",
     "text": [
      "> \u001b[0;32m<ipython-input-41-e274016a0281>\u001b[0m(2)\u001b[0;36m<module>\u001b[0;34m()\u001b[0m\n",
      "\u001b[0;32m      1 \u001b[0;31m\u001b[0;31m# selfplay emulation\u001b[0m\u001b[0;34m\u001b[0m\u001b[0;34m\u001b[0m\u001b[0;34m\u001b[0m\u001b[0m\n",
      "\u001b[0m\u001b[0;32m----> 2 \u001b[0;31m\u001b[0mscenario\u001b[0m \u001b[0;34m=\u001b[0m \u001b[0mselfplay_scenarios\u001b[0m\u001b[0;34m[\u001b[0m\u001b[0mscenario_id\u001b[0m\u001b[0;34m]\u001b[0m\u001b[0;34m\u001b[0m\u001b[0;34m\u001b[0m\u001b[0m\n",
      "\u001b[0m\u001b[0;32m      3 \u001b[0;31m\u001b[0;32mfor\u001b[0m \u001b[0magent\u001b[0m\u001b[0;34m,\u001b[0m \u001b[0magent_id\u001b[0m\u001b[0;34m,\u001b[0m \u001b[0mctx\u001b[0m\u001b[0;34m,\u001b[0m \u001b[0mreal_ids\u001b[0m \u001b[0;32min\u001b[0m \u001b[0mzip\u001b[0m\u001b[0;34m(\u001b[0m\u001b[0;34m[\u001b[0m\u001b[0malice\u001b[0m\u001b[0;34m,\u001b[0m \u001b[0mbob\u001b[0m\u001b[0;34m]\u001b[0m\u001b[0;34m,\u001b[0m \u001b[0;34m[\u001b[0m\u001b[0;36m0\u001b[0m\u001b[0;34m,\u001b[0m \u001b[0;36m1\u001b[0m\u001b[0;34m]\u001b[0m\u001b[0;34m,\u001b[0m \u001b[0;34m[\u001b[0m\u001b[0mctx1\u001b[0m\u001b[0;34m,\u001b[0m \u001b[0mctx2\u001b[0m\u001b[0;34m]\u001b[0m\u001b[0;34m,\u001b[0m \u001b[0;34m[\u001b[0m\u001b[0mids1\u001b[0m\u001b[0;34m,\u001b[0m \u001b[0mids2\u001b[0m\u001b[0;34m]\u001b[0m\u001b[0;34m)\u001b[0m\u001b[0;34m:\u001b[0m\u001b[0;34m\u001b[0m\u001b[0;34m\u001b[0m\u001b[0m\n",
      "\u001b[0m\u001b[0;32m      4 \u001b[0;31m    \u001b[0magent\u001b[0m\u001b[0;34m.\u001b[0m\u001b[0mfeed_context\u001b[0m\u001b[0;34m(\u001b[0m\u001b[0mctx\u001b[0m\u001b[0;34m)\u001b[0m\u001b[0;34m\u001b[0m\u001b[0;34m\u001b[0m\u001b[0m\n",
      "\u001b[0m\u001b[0;32m      5 \u001b[0;31m    \u001b[0magent\u001b[0m\u001b[0;34m.\u001b[0m\u001b[0mreal_ids\u001b[0m \u001b[0;34m=\u001b[0m \u001b[0mreal_ids\u001b[0m\u001b[0;34m\u001b[0m\u001b[0;34m\u001b[0m\u001b[0m\n",
      "\u001b[0m\n",
      "--KeyboardInterrupt--\n"
     ]
    }
   ],
   "source": [
    "# selfplay emulation\n",
    "scenario = selfplay_scenarios[scenario_id]\n",
    "for agent, agent_id, ctx, real_ids in zip([alice, bob], [0, 1], [ctx1, ctx2], [ids1, ids2]):\n",
    "    agent.feed_context(ctx)\n",
    "    agent.real_ids = real_ids\n",
    "    agent.agent_id = agent_id\n",
    "    \n",
    "dot_mention_samples = 1\n",
    "utt_samples = 10\n",
    "    \n",
    "writer, reader = [alice, bob]\n",
    "conv = []\n",
    "speaker = []\n",
    "words_left = 5000\n",
    "\n",
    "num_mentions = 2\n",
    "num_dots_to_mention = 3\n",
    "\n",
    "sample_temperature = 0.25\n",
    "argmax_temperature = 0.005\n",
    "\n",
    "def make_dots_mentioned_per_ref():\n",
    "#     # fixed\n",
    "#     return torch.BoolTensor([[1,1,0,0,0,0,0], [1,0,0,0,0,0,0]]).unsqueeze(0)\n",
    "#     return torch.BoolTensor([[1,1,0,0,0,0,0]]).unsqueeze(0)\n",
    "\n",
    "    # random initial and drop\n",
    "    mentioned = torch.zeros(1,num_mentions,7).bool()\n",
    "    dots_mentioned = []\n",
    "    for _ in range(num_dots_to_mention):\n",
    "        dot_ix = torch.randint(7, (1,))\n",
    "        mentioned[:,0,dot_ix] = 1\n",
    "        dots_mentioned.append(dot_ix)\n",
    "        \n",
    "    for mention_ix in range(1, num_mentions):\n",
    "        mentioned[:,mention_ix,random.choice(dots_mentioned)] = 1\n",
    "    return mentioned\n",
    "    \n",
    "\n",
    "    # random \n",
    "#     mentioned = torch.zeros(1,num_mentions,7).bool()\n",
    "#     for mention_ix in range(num_mentions):\n",
    "#         for _ in range(num_dots_to_mention):\n",
    "#             dot_ix = torch.randint(7, (1,))\n",
    "#             mentioned[:,mention_ix,dot_ix] = 1\n",
    "#     return mentioned\n",
    "\n",
    "display_context = True\n",
    "\n",
    "while True:\n",
    "    dots_mentioned_per_ref = make_dots_mentioned_per_ref()\n",
    "    dots_mentioned = dots_mentioned_per_ref.max(1).values\n",
    "    \n",
    "    num_markables=torch.LongTensor([dots_mentioned_per_ref.size(1)])\n",
    "    if display_context:\n",
    "        for mention_ix in range(dots_mentioned_per_ref.size(1)):\n",
    "            display_attn(scenario, dots_mentioned_per_ref[:,mention_ix].float(), writer.agent_id, name=f'dots_mentioned_{mention_ix}')\n",
    "    for us in range(utt_samples):\n",
    "        outs, _, _, _, extra = writer.model.write(\n",
    "            writer.ctx,\n",
    "            writer.ctx_differences,\n",
    "            writer.ctx_h,\n",
    "            writer.reader_and_writer_lang_h,\n",
    "            words_left,\n",
    "            sample_temperature,\n",
    "            dots_mentioned=dots_mentioned,\n",
    "            dots_mentioned_per_ref=dots_mentioned_per_ref,\n",
    "            num_markables=num_markables,\n",
    "        )\n",
    "        print('agent {}; sample {}\\t{}'.format(writer.agent_id, us, ' '.join(writer._decode(outs, writer.model.word_dict))))\n",
    "    print()\n",
    "        \n",
    "    num_markables=torch.LongTensor([num_mentions])\n",
    "    if display_context:\n",
    "        for mention_ix in range(dots_mentioned_per_ref.size(1)):\n",
    "            display_attn(scenario, dots_mentioned_per_ref[:,mention_ix].float(), writer.agent_id, name=f'dots_mentioned_{mention_ix}')\n",
    "    out = writer.write(\n",
    "        max_words=words_left,\n",
    "        dots_mentioned=dots_mentioned,\n",
    "        dots_mentioned_per_ref=dots_mentioned_per_ref,\n",
    "        num_markables=num_markables,\n",
    "        temperature_override=argmax_temperature,\n",
    "    )\n",
    "    print('agent {}; argmax\\t{}'.format(writer.agent_id, ' '.join(out)))\n",
    "    print()\n",
    "    \n",
    "#     if display_context and writer.extras[-1].get('feed_ctx_attn_prob', None) is not None:\n",
    "#         display_attn(scenario, writer.extras[-1]['feed_ctx_attn_prob'], writer.agent_id, name='feed attention')\n",
    "    \n",
    "#     if display_context and writer.extras[-1].get('word_ctx_attn_prob_mean', None) is not None:\n",
    "#         display_attn(scenario, writer.extras[-1]['word_ctx_attn_prob_mean'], writer.agent_id, name='word attention mean')\n",
    "        \n",
    "#     for ix, ix_attn in enumerate(writer.extras[-1]['word_ctx_attn_probs']):\n",
    "#         display_attn(scenario, ix_attn, writer.agent_id, name='t {}: {}'.format(ix, out[ix]))\n",
    "        \n",
    "    print('{}\\t{}'.format(writer.agent_id, ' '.join(out)))\n",
    "    print('-'*60)\n",
    "        \n",
    "    words_left -= len(out)\n",
    "    conv.append(out)\n",
    "    speaker.append(writer.agent_id)\n",
    "    reader.read(out)\n",
    "    if is_selection(out) or words_left <= 1:\n",
    "        break\n",
    "    writer, reader = reader, writer"
   ]
  },
  {
   "cell_type": "code",
   "execution_count": null,
   "metadata": {},
   "outputs": [],
   "source": []
  }
 ],
 "metadata": {
  "kernelspec": {
   "display_name": "Python 3",
   "language": "python",
   "name": "python3"
  },
  "language_info": {
   "codemirror_mode": {
    "name": "ipython",
    "version": 3
   },
   "file_extension": ".py",
   "mimetype": "text/x-python",
   "name": "python",
   "nbconvert_exporter": "python",
   "pygments_lexer": "ipython3",
   "version": "3.6.10"
  }
 },
 "nbformat": 4,
 "nbformat_minor": 2
}
