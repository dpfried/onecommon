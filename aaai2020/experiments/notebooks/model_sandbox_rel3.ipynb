{
 "cells": [
  {
   "cell_type": "code",
   "execution_count": 1,
   "metadata": {},
   "outputs": [
    {
     "data": {
      "text/html": [
       "<style>.container { width:100% !important; }</style>"
      ],
      "text/plain": [
       "<IPython.core.display.HTML object>"
      ]
     },
     "metadata": {},
     "output_type": "display_data"
    }
   ],
   "source": [
    "from IPython.core.display import display, HTML\n",
    "display(HTML(\"<style>.container { width:100% !important; }</style>\"))"
   ]
  },
  {
   "cell_type": "code",
   "execution_count": 2,
   "metadata": {
    "scrolled": true
   },
   "outputs": [
    {
     "name": "stdout",
     "output_type": "stream",
     "text": [
      "/home/dfried/projects/onecommon/aaai2020/experiments\n"
     ]
    }
   ],
   "source": [
    "cd '/home/dfried/projects/onecommon/aaai2020/experiments'"
   ]
  },
  {
   "cell_type": "code",
   "execution_count": 3,
   "metadata": {},
   "outputs": [],
   "source": [
    "import models\n",
    "from models import get_model_type\n",
    "import data\n",
    "import utils\n",
    "from domain import get_domain\n",
    "from corpora.reference_sentence import ReferenceSentenceCorpus"
   ]
  },
  {
   "cell_type": "code",
   "execution_count": 4,
   "metadata": {},
   "outputs": [],
   "source": [
    "# ls expts/rel3_tsel_ref_dial_model_separate/directions"
   ]
  },
  {
   "cell_type": "code",
   "execution_count": 5,
   "metadata": {},
   "outputs": [],
   "source": [
    "# ls expts/rel3_tsel_ref_dial_model_separate/directions/base_512_learned-pooling_untied_bidirectional_hidden-mention-encoder/"
   ]
  },
  {
   "cell_type": "code",
   "execution_count": 6,
   "metadata": {},
   "outputs": [],
   "source": [
    "domain = get_domain('one_common')\n",
    "# unk_threshold = 10\n",
    "unk_threshold = 0\n",
    "model_ty = get_model_type('rnn_reference_model')\n",
    "\n",
    "ctx_encoder_type = 'rel_attn_encoder_3'\n",
    "\n",
    "# model_fname = 'rel2_dial_model_separate/hierarchical_only-self_mask-pad_max-pool_rel-2_feed-context-attend_no-word-attention_ablate-properties_1_best.th'\n",
    "\n",
    "base = 'expts/rel3_tsel_ref_dial_model_separate/directions'\n",
    "dot_recurrence = 'expts/rel3_tsel_ref_dial_model_separate/dot_recurrence'\n",
    "dot_recurrence_no_beliefs = 'expts/rel3_tsel_ref_dial_model_separate/dot_recurrence_no-beliefs'\n",
    "\n",
    "model_fnames = {\n",
    "    'basic': f'{base}/base_512_learned-pooling_untied_bidirectional_hidden-mention-encoder/1_ep-30.th',\n",
    "    'encoder-filtered-shared': f'{base}/base_512_extremes_learned-pooling_untied_bidirectional_hidden-mention-encoder-filtered-shared/1_ep-30.th',\n",
    "    'encoder-filtered-separate': f'{base}/base_512_extremes_learned-pooling_untied_bidirectional_hidden-mention-encoder-filtered-separate/1_ep-30.th',\n",
    "    'encoder-filtered-separate-diffs': f'{base}/base_512_extremes_learned-pooling_untied_bidirectional_hidden-mention-encoder-filtered-separate-diffs/1_ep-30.th',\n",
    "#     'dot-recurrence': f'{dot_recurrence}/base_dr-self+partner-32-mention-selection/1_ep-20.th',\n",
    "    'dot-recurrence-no-beliefs': f'{dot_recurrence_no_beliefs}/base_mention-selection-ref-partner/1_ep-20.th',\n",
    "    'dot-recurrence-oracle-no-beliefs': f'{dot_recurrence_no_beliefs}/base_oracle_mention-selection-ref-partner/1_ep-20.th',\n",
    "#     'dot-recurrence-nm-multi': f'{dot_recurrence}/base_dr-self+partner-64-mention-selection_nmpt-multi-reference_loss-expanded/1_ep-20.th',\n",
    "    'dot-recurrence-nm-multi-no-beliefs': f'{dot_recurrence_no_beliefs}/base_mention-selection-ref-partner_nmpt-multi_loss-expanded/1_ep-20.th',\n",
    "}"
   ]
  },
  {
   "cell_type": "code",
   "execution_count": 7,
   "metadata": {},
   "outputs": [
    {
     "name": "stdout",
     "output_type": "stream",
     "text": [
      "freq cutoff: 0\n",
      "vocab size: 1857\n",
      "dataset data/onecommon/train_reference_1.txt, total 545056, unks 0, ratio 0.00%\n",
      "dataset data/onecommon/valid_reference_1.txt, total 69348, unks 202, ratio 0.29%\n",
      "dataset data/onecommon/test_reference_1.txt, total 67284, unks 210, ratio 0.31%\n"
     ]
    }
   ],
   "source": [
    "seed = 1\n",
    "corpus = ReferenceSentenceCorpus(domain, 'data/onecommon',\n",
    "                            train='train_reference_{}.txt'.format(seed),\n",
    "                            valid='valid_reference_{}.txt'.format(seed),\n",
    "                            test='test_reference_{}.txt'.format(seed),\n",
    "                            freq_cutoff=unk_threshold, verbose=True)"
   ]
  },
  {
   "cell_type": "code",
   "execution_count": 8,
   "metadata": {},
   "outputs": [],
   "source": [
    "def load_json(file):\n",
    "    import json\n",
    "    with open(file, 'r') as f:\n",
    "        return json.load(f)"
   ]
  },
  {
   "cell_type": "code",
   "execution_count": 9,
   "metadata": {},
   "outputs": [],
   "source": [
    "scenarios1 = load_json('data/onecommon/aaai_train_scenarios.json')\n",
    "scenarios2 = load_json('data/onecommon/aaai_train_scenarios_2.json')"
   ]
  },
  {
   "cell_type": "code",
   "execution_count": 10,
   "metadata": {},
   "outputs": [
    {
     "data": {
      "text/plain": [
       "9000"
      ]
     },
     "execution_count": 10,
     "metadata": {},
     "output_type": "execute_result"
    }
   ],
   "source": [
    "len(scenarios1)"
   ]
  },
  {
   "cell_type": "code",
   "execution_count": 11,
   "metadata": {},
   "outputs": [
    {
     "data": {
      "text/plain": [
       "4500"
      ]
     },
     "execution_count": 11,
     "metadata": {},
     "output_type": "execute_result"
    }
   ],
   "source": [
    "len(scenarios2)"
   ]
  },
  {
   "cell_type": "code",
   "execution_count": 12,
   "metadata": {},
   "outputs": [
    {
     "data": {
      "text/plain": [
       "dict_keys(['kbs', 'shared', 'uuid'])"
      ]
     },
     "execution_count": 12,
     "metadata": {},
     "output_type": "execute_result"
    }
   ],
   "source": [
    "scenarios1[0].keys()"
   ]
  },
  {
   "cell_type": "code",
   "execution_count": 13,
   "metadata": {},
   "outputs": [],
   "source": [
    "train_scenarios = {\n",
    "    scenario['uuid']: scenario\n",
    "    for scenario in scenarios1\n",
    "}"
   ]
  },
  {
   "cell_type": "code",
   "execution_count": 14,
   "metadata": {},
   "outputs": [],
   "source": [
    "all_scenarios = {\n",
    "    scenario['uuid']: scenario\n",
    "    for scenario in scenarios1 + scenarios2\n",
    "}"
   ]
  },
  {
   "cell_type": "code",
   "execution_count": 15,
   "metadata": {},
   "outputs": [],
   "source": [
    "hit_count = 0\n",
    "miss_count = 0\n",
    "for scenario in scenarios2:\n",
    "    uuid = scenario['uuid']\n",
    "    if uuid in train_scenarios:\n",
    "        assert train_scenarios[uuid] == scenario\n",
    "        hit_count += 1\n",
    "    else:\n",
    "        miss_count += 1"
   ]
  },
  {
   "cell_type": "code",
   "execution_count": 16,
   "metadata": {},
   "outputs": [
    {
     "name": "stdout",
     "output_type": "stream",
     "text": [
      "hits: 0\n",
      "misses: 4500\n"
     ]
    }
   ],
   "source": [
    "print(\"hits: {}\".format(hit_count))\n",
    "print(\"misses: {}\".format(miss_count))"
   ]
  },
  {
   "cell_type": "code",
   "execution_count": 17,
   "metadata": {},
   "outputs": [
    {
     "name": "stderr",
     "output_type": "stream",
     "text": [
      "/home/dfried/miniconda3/envs/onecommon/lib/python3.6/site-packages/torch/serialization.py:657: SourceChangeWarning: source code of class 'models.rnn_reference_model.HierarchicalRnnReferenceModel' has changed. you can retrieve the original source code by accessing the object's source attribute or set `torch.nn.Module.dump_patches = True` and use the patch tool to revert the changes.\n",
      "  warnings.warn(msg, SourceChangeWarning)\n",
      "/home/dfried/miniconda3/envs/onecommon/lib/python3.6/site-packages/torch/serialization.py:657: SourceChangeWarning: source code of class 'models.ctx_encoder.RelationalAttentionContextEncoder3' has changed. you can retrieve the original source code by accessing the object's source attribute or set `torch.nn.Module.dump_patches = True` and use the patch tool to revert the changes.\n",
      "  warnings.warn(msg, SourceChangeWarning)\n",
      "/home/dfried/miniconda3/envs/onecommon/lib/python3.6/site-packages/torch/serialization.py:657: SourceChangeWarning: source code of class 'models.attention_layers.AttentionLayer' has changed. you can retrieve the original source code by accessing the object's source attribute or set `torch.nn.Module.dump_patches = True` and use the patch tool to revert the changes.\n",
      "  warnings.warn(msg, SourceChangeWarning)\n",
      "/home/dfried/miniconda3/envs/onecommon/lib/python3.6/site-packages/torch/serialization.py:657: SourceChangeWarning: source code of class 'models.attention_layers.StructuredTemporalAttentionLayer' has changed. you can retrieve the original source code by accessing the object's source attribute or set `torch.nn.Module.dump_patches = True` and use the patch tool to revert the changes.\n",
      "  warnings.warn(msg, SourceChangeWarning)\n",
      "/home/dfried/miniconda3/envs/onecommon/lib/python3.6/site-packages/torch/serialization.py:657: SourceChangeWarning: source code of class 'models.attention_layers.StructuredAttentionLayer' has changed. you can retrieve the original source code by accessing the object's source attribute or set `torch.nn.Module.dump_patches = True` and use the patch tool to revert the changes.\n",
      "  warnings.warn(msg, SourceChangeWarning)\n"
     ]
    }
   ],
   "source": [
    "models = {\n",
    "    name: utils.load_model(model_fname, map_location='cpu', prefix_dir=None)\n",
    "    for name, model_fname in model_fnames.items()\n",
    "}"
   ]
  },
  {
   "cell_type": "code",
   "execution_count": 18,
   "metadata": {},
   "outputs": [
    {
     "name": "stderr",
     "output_type": "stream",
     "text": [
      "100%|██████████████████████████████████████| 1038/1038 [00:03<00:00, 330.54it/s]\n"
     ]
    }
   ],
   "source": [
    "batchsize=1\n",
    "validset, validset_stats = corpus.valid_dataset(batchsize)"
   ]
  },
  {
   "cell_type": "code",
   "execution_count": 19,
   "metadata": {},
   "outputs": [
    {
     "data": {
      "text/plain": [
       "{'n': 74030,\n",
       " 'self_n': 37015,\n",
       " 'nonpadn': 69348,\n",
       " 'self_nonpadn': 34674,\n",
       " 'max_num_mentions': 9}"
      ]
     },
     "execution_count": 19,
     "metadata": {},
     "output_type": "execute_result"
    }
   ],
   "source": [
    "validset_stats"
   ]
  },
  {
   "cell_type": "code",
   "execution_count": 20,
   "metadata": {},
   "outputs": [],
   "source": [
    "import torch"
   ]
  },
  {
   "cell_type": "code",
   "execution_count": 21,
   "metadata": {},
   "outputs": [],
   "source": [
    "from agent import RnnAgent"
   ]
  },
  {
   "cell_type": "code",
   "execution_count": 22,
   "metadata": {},
   "outputs": [],
   "source": [
    "from selfplay import make_parser"
   ]
  },
  {
   "cell_type": "code",
   "execution_count": 23,
   "metadata": {},
   "outputs": [],
   "source": [
    "parser = make_parser()\n",
    "args = parser.parse_args('--temperature 0.25'.split())\n",
    "# args = parser.parse_args('--temperature 0.01'.split())"
   ]
  },
  {
   "cell_type": "code",
   "execution_count": 24,
   "metadata": {},
   "outputs": [],
   "source": [
    "def is_selection(out):\n",
    "    return '<selection>' in out"
   ]
  },
  {
   "cell_type": "code",
   "execution_count": 25,
   "metadata": {},
   "outputs": [],
   "source": [
    "# display"
   ]
  },
  {
   "cell_type": "code",
   "execution_count": 26,
   "metadata": {},
   "outputs": [],
   "source": [
    "from dialog import DialogLogger"
   ]
  },
  {
   "cell_type": "code",
   "execution_count": 27,
   "metadata": {},
   "outputs": [],
   "source": [
    "from IPython.display import SVG, display, HTML"
   ]
  },
  {
   "cell_type": "code",
   "execution_count": 28,
   "metadata": {},
   "outputs": [],
   "source": [
    "def display_svgs(svgs):\n",
    "    no_wrap_div = '<div style=\"white-space: nowrap\">' + ''.join(svgs) + '</div>'\n",
    "    display(HTML(no_wrap_div))"
   ]
  },
  {
   "cell_type": "code",
   "execution_count": 29,
   "metadata": {},
   "outputs": [],
   "source": [
    "SVG_SCALE=0.4"
   ]
  },
  {
   "cell_type": "code",
   "execution_count": 30,
   "metadata": {},
   "outputs": [],
   "source": [
    "def display_attn(scenario, attn, agent_id, name=None):\n",
    "    attn = attn.flatten().detach().numpy()\n",
    "    if name is not None:\n",
    "        print(\"{}: {}\".format(name, attn))\n",
    "    display_svgs([DialogLogger._scenario_to_svg(scenario, scale=SVG_SCALE)[agent_id], DialogLogger._attention_to_svg(scenario, agent_id, attn, scale=SVG_SCALE)])"
   ]
  },
  {
   "cell_type": "code",
   "execution_count": 31,
   "metadata": {},
   "outputs": [],
   "source": [
    "def display_attns(scenario, attns, agent_id, name=None):\n",
    "    svgs = [DialogLogger._scenario_to_svg(scenario, scale=SVG_SCALE)[agent_id]]\n",
    "#     if name is not None:\n",
    "#         print(\"{}: {}\".format(name, attn))\n",
    "    for attn in attns:\n",
    "        attn = attn.flatten().detach().numpy()\n",
    "        svgs.append(DialogLogger._attention_to_svg(scenario, agent_id, attn, scale=SVG_SCALE))\n",
    "    if name is not None:\n",
    "        print(name)\n",
    "    display_svgs(svgs)"
   ]
  },
  {
   "cell_type": "code",
   "execution_count": 32,
   "metadata": {},
   "outputs": [],
   "source": [
    "# training emulation"
   ]
  },
  {
   "cell_type": "code",
   "execution_count": 33,
   "metadata": {},
   "outputs": [
    {
     "name": "stderr",
     "output_type": "stream",
     "text": [
      "100%|██████████████████████████████████████| 8304/8304 [00:33<00:00, 247.30it/s]\n"
     ]
    }
   ],
   "source": [
    "trainset, trainset_stats = corpus.train_dataset(bsz=1)"
   ]
  },
  {
   "cell_type": "code",
   "execution_count": 34,
   "metadata": {},
   "outputs": [
    {
     "data": {
      "text/plain": [
       "True"
      ]
     },
     "execution_count": 34,
     "metadata": {},
     "output_type": "execute_result"
    }
   ],
   "source": [
    "trainset[0].scenario_ids[0] in train_scenarios"
   ]
  },
  {
   "cell_type": "code",
   "execution_count": 35,
   "metadata": {},
   "outputs": [],
   "source": [
    "# ctx: this player's dots\n",
    "# inpt / tgt: dialogue word indices (tgt are shifted by 1)\n",
    "# ref_inpt"
   ]
  },
  {
   "cell_type": "code",
   "execution_count": 36,
   "metadata": {},
   "outputs": [
    {
     "name": "stdout",
     "output_type": "stream",
     "text": [
      "found it\n"
     ]
    }
   ],
   "source": [
    "for ix in range(len(trainset)):\n",
    "#     ctx, inpts, tgts, ref_inpts, ref_tgts, sel_tgt, \\\n",
    "#     [scenario_id], real_ids, agents, chat_ids, sel_idxs, \\\n",
    "#     lens, rev_idxs, hid_idxs, all_num_markables = trainset[ix]\n",
    "    \n",
    "    ctx, inpts, tgts, ref_inpts, ref_tgts, sel_tgt, \\\n",
    "    [scenario_id], real_ids, partner_real_ids, agents, chat_ids, sel_idxs, \\\n",
    "    lens, rev_idxs, hid_idxs, num_markables, \\\n",
    "    is_self, partner_ref_inpts, partner_ref_tgts_our_view, all_partner_num_markables,\\\n",
    "    ref_disagreements, partner_ref_disagreements = trainset[ix]\n",
    "\n",
    "    if 'C_d0de3d0144df405e998ae718539ff9a4' in chat_ids:\n",
    "#     if scenario_id == 'S_UoujG1GG6KscmnbN':\n",
    "        print(\"found it\")\n",
    "        scenario = train_scenarios[scenario_id]\n",
    "        break"
   ]
  },
  {
   "cell_type": "code",
   "execution_count": 37,
   "metadata": {},
   "outputs": [
    {
     "data": {
      "text/plain": [
       "dict_keys(['basic', 'encoder-filtered-shared', 'encoder-filtered-separate', 'encoder-filtered-separate-diffs', 'dot-recurrence-no-beliefs', 'dot-recurrence-oracle-no-beliefs', 'dot-recurrence-nm-multi-no-beliefs'])"
      ]
     },
     "execution_count": 37,
     "metadata": {},
     "output_type": "execute_result"
    }
   ],
   "source": [
    "models.keys()"
   ]
  },
  {
   "cell_type": "code",
   "execution_count": 38,
   "metadata": {},
   "outputs": [],
   "source": [
    "# model = models['encoder-filtered-separate-diffs']\n",
    "# model = models['dot-recurrence']\n",
    "model = models['dot-recurrence-no-beliefs']\n",
    "# model = models['dot-recurrence-nm-multi-no-beliefs']"
   ]
  },
  {
   "cell_type": "code",
   "execution_count": 39,
   "metadata": {},
   "outputs": [],
   "source": [
    "alice = RnnAgent(model, args)\n",
    "bob = RnnAgent(model, args)"
   ]
  },
  {
   "cell_type": "code",
   "execution_count": 40,
   "metadata": {},
   "outputs": [],
   "source": [
    "from models.reference_predictor import ReferencePredictor"
   ]
  },
  {
   "cell_type": "code",
   "execution_count": 41,
   "metadata": {},
   "outputs": [],
   "source": [
    "from engines.beliefs import BeliefConstructor"
   ]
  },
  {
   "cell_type": "code",
   "execution_count": 42,
   "metadata": {},
   "outputs": [],
   "source": [
    "from engines.rnn_reference_engine import make_dots_mentioned_multi, make_dots_mentioned_per_ref_multi"
   ]
  },
  {
   "cell_type": "code",
   "execution_count": 43,
   "metadata": {},
   "outputs": [],
   "source": [
    "reference_predictor = ReferencePredictor(model.args)"
   ]
  },
  {
   "cell_type": "code",
   "execution_count": 44,
   "metadata": {},
   "outputs": [
    {
     "name": "stdout",
     "output_type": "stream",
     "text": [
      "Automatic pdb calling has been turned ON\n"
     ]
    }
   ],
   "source": [
    "pdb on"
   ]
  },
  {
   "cell_type": "code",
   "execution_count": 45,
   "metadata": {},
   "outputs": [],
   "source": [
    "display_mentions = model.args.next_mention_prediction_type == 'multi_reference'"
   ]
  },
  {
   "cell_type": "code",
   "execution_count": 56,
   "metadata": {
    "scrolled": false
   },
   "outputs": [],
   "source": [
    "def force_contexts_and_mentions(index, datasplit=validset, candidates=20,\n",
    "                                sample_temperature=0.25, argmax_temperature=0.005,\n",
    "                                force_num_markables=True,\n",
    "                                inference='beam'):\n",
    "    ctx, inpts, tgts, ref_inpts, ref_tgts, sel_tgt, \\\n",
    "    [scenario_id], real_ids, partner_real_ids, agents, chat_ids, sel_idxs, \\\n",
    "    lens, rev_idxs, hid_idxs, num_markables, \\\n",
    "    is_self, partner_ref_inpts, partner_ref_tgts_our_view, partner_num_markables,\\\n",
    "    ref_disagreements, partner_ref_disagreements = datasplit[index]\n",
    "    \n",
    "    bsz = ctx.size(0)\n",
    "    num_dots = 7\n",
    "    \n",
    "    # assume we've been training for a while, so that the beliefs are out of the warmup period (e.g. for models that switch from true->predicted)\n",
    "    epoch = 1000\n",
    "    \n",
    "    dots_mentioned = make_dots_mentioned_multi(ref_tgts, model.args, bsz, num_dots)\n",
    "    dots_mentioned_per_ref = make_dots_mentioned_per_ref_multi(ref_tgts, model.args, bsz, num_dots)\n",
    "\n",
    "    partner_dots_mentioned_our_view = make_dots_mentioned_multi(\n",
    "        partner_ref_tgts_our_view, model.args, bsz, num_dots\n",
    "    )\n",
    "    partner_dots_mentioned_our_view_per_ref = make_dots_mentioned_per_ref_multi(\n",
    "        partner_ref_tgts_our_view, model.args, bsz, num_dots\n",
    "    )\n",
    "    \n",
    "    belief_constructor = BeliefConstructor(\n",
    "        model.args, epoch, bsz, num_dots, inpts, ref_tgts, partner_ref_tgts_our_view,\n",
    "        real_ids, partner_real_ids, sel_tgt, is_self,\n",
    "        partner_dots_mentioned_our_view, partner_dots_mentioned_our_view_per_ref,\n",
    "        dots_mentioned, dots_mentioned_per_ref,\n",
    "        ref_inpts, partner_ref_inpts,\n",
    "        num_markables, partner_num_markables,\n",
    "    )\n",
    "    \n",
    "    scenario = all_scenarios[scenario_id]\n",
    "    agent = alice\n",
    "    agent.feed_context(ctx.flatten(),\n",
    "                       belief_constructor,\n",
    "                       num_markables_to_force=num_markables[0] if force_num_markables else None)\n",
    "    agent.real_ids = real_ids\n",
    "    agent.agent_id = agents[0]\n",
    "\n",
    "    writer = alice\n",
    "    conv = []\n",
    "    speaker = []\n",
    "    words_left = 5000\n",
    "\n",
    "    sentence_ix = 0\n",
    "\n",
    "    assert len(inpts) == len(tgts)\n",
    "\n",
    "    while sentence_ix < len(inpts):\n",
    "        words_og = [corpus.word_dict.idx2word[ix] for ix in inpts[sentence_ix].flatten().numpy()]\n",
    "        \n",
    "        if ref_inpts[sentence_ix] is not None:\n",
    "            dots_mentioned = (ref_tgts[sentence_ix].sum(dim=1) > 0)\n",
    "            dots_mentioned_per_ref = ref_tgts[sentence_ix]\n",
    "            this_num_markables = num_markables[sentence_ix]\n",
    "    #         display_attn(scenario, dots_mentioned.float(), writer.agent_id, name='dots_mentioned')\n",
    "            mentions = [dots_mentioned_per_ref[:,mention_ix].float()  for mention_ix in range(dots_mentioned_per_ref.size(1))]\n",
    "            nm_out, _, nm_num_markables = writer.next_mention_outs[-1]\n",
    "#             print('nm_num_markables: {}'.format(nm_num_markables))\n",
    "#             print('num_markables: {}'.format(this_num_markables))\n",
    "            if display_mentions and nm_out is not None:\n",
    "#                 print(nm_out[0].size())\n",
    "                _, nm_preds, _ = reference_predictor.forward(\n",
    "                    True, dots_mentioned_per_ref, nm_out, nm_num_markables\n",
    "                )\n",
    "#                 print(nm_preds.size())\n",
    "                display_attns(scenario, nm_preds.squeeze(1).float(), writer.agent_id, \"to_mention_pred\")\n",
    "            display_attns(scenario, mentions, writer.agent_id, \"to_mention_true\")\n",
    "#             for mention_ix in range(dots_mentioned_per_ref.size(1)):\n",
    "#                 display_attn(scenario, dots_mentioned_per_ref[:,mention_ix].float(), writer.agent_id, name=f'dots_mentioned_{mention_ix}')\n",
    "        else:\n",
    "            dots_mentioned = torch.zeros(1, 7).bool()\n",
    "            dots_mentioned_per_ref = torch.zeros(1, 0, 7).bool()\n",
    "            this_num_markables = torch.LongTensor([0])\n",
    "\n",
    "        if is_self[sentence_ix]:\n",
    "            if inference == 'sample':\n",
    "                for sample_ix in range(candidates):\n",
    "                    pred_outs, _, _, _, extra = writer.model.write(\n",
    "                        writer.state, \n",
    "                        words_left, sample_temperature,\n",
    "                        dots_mentioned=dots_mentioned,\n",
    "                        dots_mentioned_per_ref=dots_mentioned_per_ref,\n",
    "                        num_markables=this_num_markables\n",
    "                    )\n",
    "                    print('sample {}\\t{}'.format(sample_ix, ' '.join(writer._decode(pred_outs, writer.model.word_dict))))\n",
    "            elif inference in ['beam', 'gumbel_beam']:\n",
    "                _, _, decoded = writer.model.write_beam(\n",
    "                    writer.state, candidates, words_left, \n",
    "                    dots_mentioned=dots_mentioned,\n",
    "                    dots_mentioned_per_ref=dots_mentioned_per_ref,\n",
    "                    num_markables=this_num_markables,\n",
    "                    temperature=sample_temperature if inference=='gumbel_beam' else 1.0,\n",
    "                    gumbel_noise=inference=='gumbel_beam',\n",
    "                )\n",
    "                for cand_ix, utt in enumerate(decoded):\n",
    "                    print('beam {}\\t{}'.format(cand_ix, ' '.join(utt)))\n",
    "            else:\n",
    "                raise NotImplementedError(inference)\n",
    "            pred_outs, _, _, _, extra = writer.model.write(\n",
    "                writer.state, \n",
    "                words_left, argmax_temperature,\n",
    "                dots_mentioned=dots_mentioned,\n",
    "                dots_mentioned_per_ref=dots_mentioned_per_ref,\n",
    "                num_markables=this_num_markables\n",
    "            )\n",
    "            print('greedy\\t{}'.format(' '.join(writer._decode(pred_outs, writer.model.word_dict))))\n",
    "    #         print(' '.join(words_og))\n",
    "\n",
    "            out = writer.write(\n",
    "                max_words=words_left,\n",
    "                force_words=[words_og],\n",
    "                start_token=words_og[0],\n",
    "                dots_mentioned=dots_mentioned,\n",
    "                dots_mentioned_per_ref=dots_mentioned_per_ref,\n",
    "                num_markables=this_num_markables,\n",
    "                ref_inpt=ref_inpts[sentence_ix],\n",
    "            )\n",
    "        \n",
    "    #         if writer.extras[-1]['feed_ctx_attn_prob'] is not None:\n",
    "    #             display_attn(scenario, writer.extras[-1]['feed_ctx_attn_prob'], writer.agent_id, name='feed attention')\n",
    "\n",
    "    #         if 'word_ctx_attn_prob_mean' in writer.extras[-1]:\n",
    "    #             display_attn(scenario, writer.extras[-1]['word_ctx_attn_prob_mean'], writer.agent_id, name='word attention mean')\n",
    "\n",
    "    #         for ix, ix_attn in enumerate(writer.extras[-1]['word_ctx_attn_probs']):\n",
    "    #             display_attn(scenario, ix_attn, writer.agent_id, name='t {}: {}'.format(ix, out[ix]))\n",
    "\n",
    "        else:\n",
    "            out = words_og\n",
    "            writer.read(words_og,\n",
    "                        dots_mentioned=dots_mentioned,\n",
    "                        dots_mentioned_per_ref=dots_mentioned_per_ref,\n",
    "                        num_markables=this_num_markables,\n",
    "                        partner_ref_inpt=partner_ref_inpts[sentence_ix],\n",
    "                        partner_num_markables=partner_num_markables[sentence_ix],\n",
    "                        next_num_markables_to_force=num_markables[sentence_ix + 1] if (force_num_markables and sentence_ix < len(num_markables) - 1) else None,\n",
    "                       )\n",
    "        \n",
    "#         writer.update_dot_h(ref_inpts[sentence_ix], partner_ref_inpts[sentence_ix],\n",
    "#                             num_markables[sentence_ix], partner_num_markables[sentence_ix])\n",
    "\n",
    "        print('human\\t{}'.format(' '.join(out)))\n",
    "    \n",
    "        if is_self[sentence_ix]:\n",
    "            if ref_inpts[sentence_ix] is not None:\n",
    "                _, ref_preds, ref_stats = reference_predictor.forward(\n",
    "                    ref_inpts[sentence_ix], ref_tgts[sentence_ix], writer.ref_outs[-1], this_num_markables\n",
    "                )\n",
    "#                 print(\"ref_preds size:\", ref_preds.size())\n",
    "                display_attns(scenario, ref_preds.squeeze(1).float(), writer.agent_id, \"refs_pred\")\n",
    "                display_attns(scenario, ref_tgts[sentence_ix].squeeze(0).float(), writer.agent_id, \"refs_true\")\n",
    "#                 print(ref_stats)\n",
    "        else:\n",
    "            if partner_ref_inpts[sentence_ix] is not None:\n",
    "                _, partner_ref_preds, partner_ref_stats = reference_predictor.forward(\n",
    "                    partner_ref_inpts[sentence_ix], partner_ref_tgts_our_view[sentence_ix],\n",
    "                    writer.partner_ref_outs[-1], partner_num_markables[sentence_ix]\n",
    "                )\n",
    "    #             print(partner_ref_preds)\n",
    "                display_attns(scenario, partner_ref_preds.squeeze(1).float(), writer.agent_id, \"partner_refs_pred\")\n",
    "                display_attns(scenario, partner_ref_tgts_our_view[sentence_ix].squeeze(0).float(), writer.agent_id, \"partner_refs_true\")\n",
    "#                 print(partner_ref_stats)\n",
    "\n",
    "        print()\n",
    "        print('-'*40)\n",
    "        print()\n",
    "        words_left -= len(out)\n",
    "        conv.append(out)\n",
    "        if is_selection(out):\n",
    "            # sel_outs should be length 1\n",
    "            selection_logits, _, _ = writer.sel_outs[-1]\n",
    "            display_attns(scenario, selection_logits.sigmoid().float(), writer.agent_id, \"sel_pred\")\n",
    "            sel_true = torch.zeros(1,7)\n",
    "            sel_true[0,sel_tgt] = 1\n",
    "            display_attns(scenario, sel_true, writer.agent_id, \"sel_true\")\n",
    "        sentence_ix += 1"
   ]
  },
  {
   "cell_type": "code",
   "execution_count": 47,
   "metadata": {},
   "outputs": [
    {
     "name": "stdout",
     "output_type": "stream",
     "text": [
      "Automatic pdb calling has been turned ON\n"
     ]
    }
   ],
   "source": [
    "pdb on"
   ]
  },
  {
   "cell_type": "code",
   "execution_count": 57,
   "metadata": {
    "scrolled": true
   },
   "outputs": [
    {
     "name": "stdout",
     "output_type": "stream",
     "text": [
      "human\tTHEM: light grey dot close to each other , big to left and small dot to right <eos>\n",
      "partner_refs_pred\n"
     ]
    },
    {
     "data": {
      "text/html": [
       "<div style=\"white-space: nowrap\"><svg viewbox='0 0 430 430' width=\"172\" height=\"172\" id=\"agent_1\"><circle cx=\"215\" cy=\"215\" r=\"205\" fill=\"none\" stroke=\"black\" stroke-width=\"2\" stroke-dasharray=\"3,3\"/><circle cx=\"121\" cy=\"166\" r=\"8\" fill=\"rgb(152,152,152)\"/><circle cx=\"130\" cy=\"284\" r=\"10\" fill=\"rgb(171,171,171)\"/><circle cx=\"198\" cy=\"183\" r=\"7\" fill=\"rgb(102,102,102)\"/><circle cx=\"316\" cy=\"70\" r=\"10\" fill=\"rgb(121,121,121)\"/><circle cx=\"332\" cy=\"230\" r=\"10\" fill=\"rgb(172,172,172)\"/><circle cx=\"296\" cy=\"233\" r=\"13\" fill=\"rgb(188,188,188)\"/><circle cx=\"70\" cy=\"145\" r=\"10\" fill=\"rgb(160,160,160)\"/></svg><svg viewBox='0 0 430 430' id=\"svg\" width=\"172\" height=\"172\"><circle cx=\"215\" cy=\"215\" r=\"205\" fill=\"none\" stroke=\"black\" stroke-width=\"2\" stroke-dasharray=\"3,3\"/> <circle cx=\"121\" cy=\"166\" r=\"8\" fill=\"rgb(255,255,255)\" class=\"agent_1_6\"/><circle cx=\"130\" cy=\"284\" r=\"10\" fill=\"rgb(255,255,255)\" class=\"agent_1_11\"/><circle cx=\"198\" cy=\"183\" r=\"7\" fill=\"rgb(255,255,255)\" class=\"agent_1_23\"/><circle cx=\"316\" cy=\"70\" r=\"10\" fill=\"rgb(255,255,255)\" class=\"agent_1_30\"/><circle cx=\"332\" cy=\"230\" r=\"10\" fill=\"rgb(255,255,255)\" class=\"agent_1_58\"/><circle cx=\"296\" cy=\"233\" r=\"13\" fill=\"rgb(255,0,0)\" class=\"agent_1_73\"/><circle cx=\"70\" cy=\"145\" r=\"10\" fill=\"rgb(255,255,255)\" class=\"agent_1_78\"/></svg><svg viewBox='0 0 430 430' id=\"svg\" width=\"172\" height=\"172\"><circle cx=\"215\" cy=\"215\" r=\"205\" fill=\"none\" stroke=\"black\" stroke-width=\"2\" stroke-dasharray=\"3,3\"/> <circle cx=\"121\" cy=\"166\" r=\"8\" fill=\"rgb(255,255,255)\" class=\"agent_1_6\"/><circle cx=\"130\" cy=\"284\" r=\"10\" fill=\"rgb(255,255,255)\" class=\"agent_1_11\"/><circle cx=\"198\" cy=\"183\" r=\"7\" fill=\"rgb(255,255,255)\" class=\"agent_1_23\"/><circle cx=\"316\" cy=\"70\" r=\"10\" fill=\"rgb(255,255,255)\" class=\"agent_1_30\"/><circle cx=\"332\" cy=\"230\" r=\"10\" fill=\"rgb(255,0,0)\" class=\"agent_1_58\"/><circle cx=\"296\" cy=\"233\" r=\"13\" fill=\"rgb(255,0,0)\" class=\"agent_1_73\"/><circle cx=\"70\" cy=\"145\" r=\"10\" fill=\"rgb(255,255,255)\" class=\"agent_1_78\"/></svg><svg viewBox='0 0 430 430' id=\"svg\" width=\"172\" height=\"172\"><circle cx=\"215\" cy=\"215\" r=\"205\" fill=\"none\" stroke=\"black\" stroke-width=\"2\" stroke-dasharray=\"3,3\"/> <circle cx=\"121\" cy=\"166\" r=\"8\" fill=\"rgb(255,255,255)\" class=\"agent_1_6\"/><circle cx=\"130\" cy=\"284\" r=\"10\" fill=\"rgb(255,255,255)\" class=\"agent_1_11\"/><circle cx=\"198\" cy=\"183\" r=\"7\" fill=\"rgb(255,255,255)\" class=\"agent_1_23\"/><circle cx=\"316\" cy=\"70\" r=\"10\" fill=\"rgb(255,255,255)\" class=\"agent_1_30\"/><circle cx=\"332\" cy=\"230\" r=\"10\" fill=\"rgb(255,255,255)\" class=\"agent_1_58\"/><circle cx=\"296\" cy=\"233\" r=\"13\" fill=\"rgb(255,0,0)\" class=\"agent_1_73\"/><circle cx=\"70\" cy=\"145\" r=\"10\" fill=\"rgb(255,255,255)\" class=\"agent_1_78\"/></svg><svg viewBox='0 0 430 430' id=\"svg\" width=\"172\" height=\"172\"><circle cx=\"215\" cy=\"215\" r=\"205\" fill=\"none\" stroke=\"black\" stroke-width=\"2\" stroke-dasharray=\"3,3\"/> <circle cx=\"121\" cy=\"166\" r=\"8\" fill=\"rgb(255,255,255)\" class=\"agent_1_6\"/><circle cx=\"130\" cy=\"284\" r=\"10\" fill=\"rgb(255,255,255)\" class=\"agent_1_11\"/><circle cx=\"198\" cy=\"183\" r=\"7\" fill=\"rgb(255,255,255)\" class=\"agent_1_23\"/><circle cx=\"316\" cy=\"70\" r=\"10\" fill=\"rgb(255,255,255)\" class=\"agent_1_30\"/><circle cx=\"332\" cy=\"230\" r=\"10\" fill=\"rgb(255,0,0)\" class=\"agent_1_58\"/><circle cx=\"296\" cy=\"233\" r=\"13\" fill=\"rgb(255,255,255)\" class=\"agent_1_73\"/><circle cx=\"70\" cy=\"145\" r=\"10\" fill=\"rgb(255,255,255)\" class=\"agent_1_78\"/></svg></div>"
      ],
      "text/plain": [
       "<IPython.core.display.HTML object>"
      ]
     },
     "metadata": {},
     "output_type": "display_data"
    },
    {
     "name": "stdout",
     "output_type": "stream",
     "text": [
      "partner_refs_true\n"
     ]
    },
    {
     "data": {
      "text/html": [
       "<div style=\"white-space: nowrap\"><svg viewbox='0 0 430 430' width=\"172\" height=\"172\" id=\"agent_1\"><circle cx=\"215\" cy=\"215\" r=\"205\" fill=\"none\" stroke=\"black\" stroke-width=\"2\" stroke-dasharray=\"3,3\"/><circle cx=\"121\" cy=\"166\" r=\"8\" fill=\"rgb(152,152,152)\"/><circle cx=\"130\" cy=\"284\" r=\"10\" fill=\"rgb(171,171,171)\"/><circle cx=\"198\" cy=\"183\" r=\"7\" fill=\"rgb(102,102,102)\"/><circle cx=\"316\" cy=\"70\" r=\"10\" fill=\"rgb(121,121,121)\"/><circle cx=\"332\" cy=\"230\" r=\"10\" fill=\"rgb(172,172,172)\"/><circle cx=\"296\" cy=\"233\" r=\"13\" fill=\"rgb(188,188,188)\"/><circle cx=\"70\" cy=\"145\" r=\"10\" fill=\"rgb(160,160,160)\"/></svg><svg viewBox='0 0 430 430' id=\"svg\" width=\"172\" height=\"172\"><circle cx=\"215\" cy=\"215\" r=\"205\" fill=\"none\" stroke=\"black\" stroke-width=\"2\" stroke-dasharray=\"3,3\"/> <circle cx=\"121\" cy=\"166\" r=\"8\" fill=\"rgb(255,255,255)\" class=\"agent_1_6\"/><circle cx=\"130\" cy=\"284\" r=\"10\" fill=\"rgb(255,255,255)\" class=\"agent_1_11\"/><circle cx=\"198\" cy=\"183\" r=\"7\" fill=\"rgb(255,255,255)\" class=\"agent_1_23\"/><circle cx=\"316\" cy=\"70\" r=\"10\" fill=\"rgb(255,255,255)\" class=\"agent_1_30\"/><circle cx=\"332\" cy=\"230\" r=\"10\" fill=\"rgb(255,0,0)\" class=\"agent_1_58\"/><circle cx=\"296\" cy=\"233\" r=\"13\" fill=\"rgb(255,0,0)\" class=\"agent_1_73\"/><circle cx=\"70\" cy=\"145\" r=\"10\" fill=\"rgb(255,255,255)\" class=\"agent_1_78\"/></svg><svg viewBox='0 0 430 430' id=\"svg\" width=\"172\" height=\"172\"><circle cx=\"215\" cy=\"215\" r=\"205\" fill=\"none\" stroke=\"black\" stroke-width=\"2\" stroke-dasharray=\"3,3\"/> <circle cx=\"121\" cy=\"166\" r=\"8\" fill=\"rgb(255,255,255)\" class=\"agent_1_6\"/><circle cx=\"130\" cy=\"284\" r=\"10\" fill=\"rgb(255,255,255)\" class=\"agent_1_11\"/><circle cx=\"198\" cy=\"183\" r=\"7\" fill=\"rgb(255,255,255)\" class=\"agent_1_23\"/><circle cx=\"316\" cy=\"70\" r=\"10\" fill=\"rgb(255,255,255)\" class=\"agent_1_30\"/><circle cx=\"332\" cy=\"230\" r=\"10\" fill=\"rgb(255,0,0)\" class=\"agent_1_58\"/><circle cx=\"296\" cy=\"233\" r=\"13\" fill=\"rgb(255,0,0)\" class=\"agent_1_73\"/><circle cx=\"70\" cy=\"145\" r=\"10\" fill=\"rgb(255,255,255)\" class=\"agent_1_78\"/></svg><svg viewBox='0 0 430 430' id=\"svg\" width=\"172\" height=\"172\"><circle cx=\"215\" cy=\"215\" r=\"205\" fill=\"none\" stroke=\"black\" stroke-width=\"2\" stroke-dasharray=\"3,3\"/> <circle cx=\"121\" cy=\"166\" r=\"8\" fill=\"rgb(255,255,255)\" class=\"agent_1_6\"/><circle cx=\"130\" cy=\"284\" r=\"10\" fill=\"rgb(255,255,255)\" class=\"agent_1_11\"/><circle cx=\"198\" cy=\"183\" r=\"7\" fill=\"rgb(255,255,255)\" class=\"agent_1_23\"/><circle cx=\"316\" cy=\"70\" r=\"10\" fill=\"rgb(255,255,255)\" class=\"agent_1_30\"/><circle cx=\"332\" cy=\"230\" r=\"10\" fill=\"rgb(255,255,255)\" class=\"agent_1_58\"/><circle cx=\"296\" cy=\"233\" r=\"13\" fill=\"rgb(255,0,0)\" class=\"agent_1_73\"/><circle cx=\"70\" cy=\"145\" r=\"10\" fill=\"rgb(255,255,255)\" class=\"agent_1_78\"/></svg><svg viewBox='0 0 430 430' id=\"svg\" width=\"172\" height=\"172\"><circle cx=\"215\" cy=\"215\" r=\"205\" fill=\"none\" stroke=\"black\" stroke-width=\"2\" stroke-dasharray=\"3,3\"/> <circle cx=\"121\" cy=\"166\" r=\"8\" fill=\"rgb(255,255,255)\" class=\"agent_1_6\"/><circle cx=\"130\" cy=\"284\" r=\"10\" fill=\"rgb(255,255,255)\" class=\"agent_1_11\"/><circle cx=\"198\" cy=\"183\" r=\"7\" fill=\"rgb(255,255,255)\" class=\"agent_1_23\"/><circle cx=\"316\" cy=\"70\" r=\"10\" fill=\"rgb(255,255,255)\" class=\"agent_1_30\"/><circle cx=\"332\" cy=\"230\" r=\"10\" fill=\"rgb(255,0,0)\" class=\"agent_1_58\"/><circle cx=\"296\" cy=\"233\" r=\"13\" fill=\"rgb(255,255,255)\" class=\"agent_1_73\"/><circle cx=\"70\" cy=\"145\" r=\"10\" fill=\"rgb(255,255,255)\" class=\"agent_1_78\"/></svg></div>"
      ],
      "text/plain": [
       "<IPython.core.display.HTML object>"
      ]
     },
     "metadata": {},
     "output_type": "display_data"
    },
    {
     "name": "stdout",
     "output_type": "stream",
     "text": [
      "\n",
      "----------------------------------------\n",
      "\n",
      "to_mention_true\n"
     ]
    },
    {
     "data": {
      "text/html": [
       "<div style=\"white-space: nowrap\"><svg viewbox='0 0 430 430' width=\"172\" height=\"172\" id=\"agent_1\"><circle cx=\"215\" cy=\"215\" r=\"205\" fill=\"none\" stroke=\"black\" stroke-width=\"2\" stroke-dasharray=\"3,3\"/><circle cx=\"121\" cy=\"166\" r=\"8\" fill=\"rgb(152,152,152)\"/><circle cx=\"130\" cy=\"284\" r=\"10\" fill=\"rgb(171,171,171)\"/><circle cx=\"198\" cy=\"183\" r=\"7\" fill=\"rgb(102,102,102)\"/><circle cx=\"316\" cy=\"70\" r=\"10\" fill=\"rgb(121,121,121)\"/><circle cx=\"332\" cy=\"230\" r=\"10\" fill=\"rgb(172,172,172)\"/><circle cx=\"296\" cy=\"233\" r=\"13\" fill=\"rgb(188,188,188)\"/><circle cx=\"70\" cy=\"145\" r=\"10\" fill=\"rgb(160,160,160)\"/></svg><svg viewBox='0 0 430 430' id=\"svg\" width=\"172\" height=\"172\"><circle cx=\"215\" cy=\"215\" r=\"205\" fill=\"none\" stroke=\"black\" stroke-width=\"2\" stroke-dasharray=\"3,3\"/> <circle cx=\"121\" cy=\"166\" r=\"8\" fill=\"rgb(255,255,255)\" class=\"agent_1_6\"/><circle cx=\"130\" cy=\"284\" r=\"10\" fill=\"rgb(255,255,255)\" class=\"agent_1_11\"/><circle cx=\"198\" cy=\"183\" r=\"7\" fill=\"rgb(255,255,255)\" class=\"agent_1_23\"/><circle cx=\"316\" cy=\"70\" r=\"10\" fill=\"rgb(255,255,255)\" class=\"agent_1_30\"/><circle cx=\"332\" cy=\"230\" r=\"10\" fill=\"rgb(255,0,0)\" class=\"agent_1_58\"/><circle cx=\"296\" cy=\"233\" r=\"13\" fill=\"rgb(255,0,0)\" class=\"agent_1_73\"/><circle cx=\"70\" cy=\"145\" r=\"10\" fill=\"rgb(255,255,255)\" class=\"agent_1_78\"/></svg><svg viewBox='0 0 430 430' id=\"svg\" width=\"172\" height=\"172\"><circle cx=\"215\" cy=\"215\" r=\"205\" fill=\"none\" stroke=\"black\" stroke-width=\"2\" stroke-dasharray=\"3,3\"/> <circle cx=\"121\" cy=\"166\" r=\"8\" fill=\"rgb(255,255,255)\" class=\"agent_1_6\"/><circle cx=\"130\" cy=\"284\" r=\"10\" fill=\"rgb(255,255,255)\" class=\"agent_1_11\"/><circle cx=\"198\" cy=\"183\" r=\"7\" fill=\"rgb(255,255,255)\" class=\"agent_1_23\"/><circle cx=\"316\" cy=\"70\" r=\"10\" fill=\"rgb(255,255,255)\" class=\"agent_1_30\"/><circle cx=\"332\" cy=\"230\" r=\"10\" fill=\"rgb(255,255,255)\" class=\"agent_1_58\"/><circle cx=\"296\" cy=\"233\" r=\"13\" fill=\"rgb(255,0,0)\" class=\"agent_1_73\"/><circle cx=\"70\" cy=\"145\" r=\"10\" fill=\"rgb(255,255,255)\" class=\"agent_1_78\"/></svg></div>"
      ],
      "text/plain": [
       "<IPython.core.display.HTML object>"
      ]
     },
     "metadata": {},
     "output_type": "display_data"
    },
    {
     "name": "stdout",
     "output_type": "stream",
     "text": [
      "beam 0\tyes i see it , lets pick the larger one\n",
      "greedy\tyes i see it , lets pick the larger one <selection>\n",
      "human\ti see it . the larger to the left is about <unk> bigger in size ? <eos>\n",
      "refs_pred\n"
     ]
    },
    {
     "data": {
      "text/html": [
       "<div style=\"white-space: nowrap\"><svg viewbox='0 0 430 430' width=\"172\" height=\"172\" id=\"agent_1\"><circle cx=\"215\" cy=\"215\" r=\"205\" fill=\"none\" stroke=\"black\" stroke-width=\"2\" stroke-dasharray=\"3,3\"/><circle cx=\"121\" cy=\"166\" r=\"8\" fill=\"rgb(152,152,152)\"/><circle cx=\"130\" cy=\"284\" r=\"10\" fill=\"rgb(171,171,171)\"/><circle cx=\"198\" cy=\"183\" r=\"7\" fill=\"rgb(102,102,102)\"/><circle cx=\"316\" cy=\"70\" r=\"10\" fill=\"rgb(121,121,121)\"/><circle cx=\"332\" cy=\"230\" r=\"10\" fill=\"rgb(172,172,172)\"/><circle cx=\"296\" cy=\"233\" r=\"13\" fill=\"rgb(188,188,188)\"/><circle cx=\"70\" cy=\"145\" r=\"10\" fill=\"rgb(160,160,160)\"/></svg><svg viewBox='0 0 430 430' id=\"svg\" width=\"172\" height=\"172\"><circle cx=\"215\" cy=\"215\" r=\"205\" fill=\"none\" stroke=\"black\" stroke-width=\"2\" stroke-dasharray=\"3,3\"/> <circle cx=\"121\" cy=\"166\" r=\"8\" fill=\"rgb(255,255,255)\" class=\"agent_1_6\"/><circle cx=\"130\" cy=\"284\" r=\"10\" fill=\"rgb(255,255,255)\" class=\"agent_1_11\"/><circle cx=\"198\" cy=\"183\" r=\"7\" fill=\"rgb(255,255,255)\" class=\"agent_1_23\"/><circle cx=\"316\" cy=\"70\" r=\"10\" fill=\"rgb(255,255,255)\" class=\"agent_1_30\"/><circle cx=\"332\" cy=\"230\" r=\"10\" fill=\"rgb(255,0,0)\" class=\"agent_1_58\"/><circle cx=\"296\" cy=\"233\" r=\"13\" fill=\"rgb(255,0,0)\" class=\"agent_1_73\"/><circle cx=\"70\" cy=\"145\" r=\"10\" fill=\"rgb(255,255,255)\" class=\"agent_1_78\"/></svg><svg viewBox='0 0 430 430' id=\"svg\" width=\"172\" height=\"172\"><circle cx=\"215\" cy=\"215\" r=\"205\" fill=\"none\" stroke=\"black\" stroke-width=\"2\" stroke-dasharray=\"3,3\"/> <circle cx=\"121\" cy=\"166\" r=\"8\" fill=\"rgb(255,255,255)\" class=\"agent_1_6\"/><circle cx=\"130\" cy=\"284\" r=\"10\" fill=\"rgb(255,255,255)\" class=\"agent_1_11\"/><circle cx=\"198\" cy=\"183\" r=\"7\" fill=\"rgb(255,255,255)\" class=\"agent_1_23\"/><circle cx=\"316\" cy=\"70\" r=\"10\" fill=\"rgb(255,255,255)\" class=\"agent_1_30\"/><circle cx=\"332\" cy=\"230\" r=\"10\" fill=\"rgb(255,255,255)\" class=\"agent_1_58\"/><circle cx=\"296\" cy=\"233\" r=\"13\" fill=\"rgb(255,0,0)\" class=\"agent_1_73\"/><circle cx=\"70\" cy=\"145\" r=\"10\" fill=\"rgb(255,255,255)\" class=\"agent_1_78\"/></svg></div>"
      ],
      "text/plain": [
       "<IPython.core.display.HTML object>"
      ]
     },
     "metadata": {},
     "output_type": "display_data"
    },
    {
     "name": "stdout",
     "output_type": "stream",
     "text": [
      "refs_true\n"
     ]
    },
    {
     "data": {
      "text/html": [
       "<div style=\"white-space: nowrap\"><svg viewbox='0 0 430 430' width=\"172\" height=\"172\" id=\"agent_1\"><circle cx=\"215\" cy=\"215\" r=\"205\" fill=\"none\" stroke=\"black\" stroke-width=\"2\" stroke-dasharray=\"3,3\"/><circle cx=\"121\" cy=\"166\" r=\"8\" fill=\"rgb(152,152,152)\"/><circle cx=\"130\" cy=\"284\" r=\"10\" fill=\"rgb(171,171,171)\"/><circle cx=\"198\" cy=\"183\" r=\"7\" fill=\"rgb(102,102,102)\"/><circle cx=\"316\" cy=\"70\" r=\"10\" fill=\"rgb(121,121,121)\"/><circle cx=\"332\" cy=\"230\" r=\"10\" fill=\"rgb(172,172,172)\"/><circle cx=\"296\" cy=\"233\" r=\"13\" fill=\"rgb(188,188,188)\"/><circle cx=\"70\" cy=\"145\" r=\"10\" fill=\"rgb(160,160,160)\"/></svg><svg viewBox='0 0 430 430' id=\"svg\" width=\"172\" height=\"172\"><circle cx=\"215\" cy=\"215\" r=\"205\" fill=\"none\" stroke=\"black\" stroke-width=\"2\" stroke-dasharray=\"3,3\"/> <circle cx=\"121\" cy=\"166\" r=\"8\" fill=\"rgb(255,255,255)\" class=\"agent_1_6\"/><circle cx=\"130\" cy=\"284\" r=\"10\" fill=\"rgb(255,255,255)\" class=\"agent_1_11\"/><circle cx=\"198\" cy=\"183\" r=\"7\" fill=\"rgb(255,255,255)\" class=\"agent_1_23\"/><circle cx=\"316\" cy=\"70\" r=\"10\" fill=\"rgb(255,255,255)\" class=\"agent_1_30\"/><circle cx=\"332\" cy=\"230\" r=\"10\" fill=\"rgb(255,0,0)\" class=\"agent_1_58\"/><circle cx=\"296\" cy=\"233\" r=\"13\" fill=\"rgb(255,0,0)\" class=\"agent_1_73\"/><circle cx=\"70\" cy=\"145\" r=\"10\" fill=\"rgb(255,255,255)\" class=\"agent_1_78\"/></svg><svg viewBox='0 0 430 430' id=\"svg\" width=\"172\" height=\"172\"><circle cx=\"215\" cy=\"215\" r=\"205\" fill=\"none\" stroke=\"black\" stroke-width=\"2\" stroke-dasharray=\"3,3\"/> <circle cx=\"121\" cy=\"166\" r=\"8\" fill=\"rgb(255,255,255)\" class=\"agent_1_6\"/><circle cx=\"130\" cy=\"284\" r=\"10\" fill=\"rgb(255,255,255)\" class=\"agent_1_11\"/><circle cx=\"198\" cy=\"183\" r=\"7\" fill=\"rgb(255,255,255)\" class=\"agent_1_23\"/><circle cx=\"316\" cy=\"70\" r=\"10\" fill=\"rgb(255,255,255)\" class=\"agent_1_30\"/><circle cx=\"332\" cy=\"230\" r=\"10\" fill=\"rgb(255,255,255)\" class=\"agent_1_58\"/><circle cx=\"296\" cy=\"233\" r=\"13\" fill=\"rgb(255,0,0)\" class=\"agent_1_73\"/><circle cx=\"70\" cy=\"145\" r=\"10\" fill=\"rgb(255,255,255)\" class=\"agent_1_78\"/></svg></div>"
      ],
      "text/plain": [
       "<IPython.core.display.HTML object>"
      ]
     },
     "metadata": {},
     "output_type": "display_data"
    },
    {
     "name": "stdout",
     "output_type": "stream",
     "text": [
      "\n",
      "----------------------------------------\n",
      "\n",
      "human\tTHEM: yes , lets select larger one <selection>\n",
      "partner_refs_pred\n"
     ]
    },
    {
     "data": {
      "text/html": [
       "<div style=\"white-space: nowrap\"><svg viewbox='0 0 430 430' width=\"172\" height=\"172\" id=\"agent_1\"><circle cx=\"215\" cy=\"215\" r=\"205\" fill=\"none\" stroke=\"black\" stroke-width=\"2\" stroke-dasharray=\"3,3\"/><circle cx=\"121\" cy=\"166\" r=\"8\" fill=\"rgb(152,152,152)\"/><circle cx=\"130\" cy=\"284\" r=\"10\" fill=\"rgb(171,171,171)\"/><circle cx=\"198\" cy=\"183\" r=\"7\" fill=\"rgb(102,102,102)\"/><circle cx=\"316\" cy=\"70\" r=\"10\" fill=\"rgb(121,121,121)\"/><circle cx=\"332\" cy=\"230\" r=\"10\" fill=\"rgb(172,172,172)\"/><circle cx=\"296\" cy=\"233\" r=\"13\" fill=\"rgb(188,188,188)\"/><circle cx=\"70\" cy=\"145\" r=\"10\" fill=\"rgb(160,160,160)\"/></svg><svg viewBox='0 0 430 430' id=\"svg\" width=\"172\" height=\"172\"><circle cx=\"215\" cy=\"215\" r=\"205\" fill=\"none\" stroke=\"black\" stroke-width=\"2\" stroke-dasharray=\"3,3\"/> <circle cx=\"121\" cy=\"166\" r=\"8\" fill=\"rgb(255,255,255)\" class=\"agent_1_6\"/><circle cx=\"130\" cy=\"284\" r=\"10\" fill=\"rgb(255,255,255)\" class=\"agent_1_11\"/><circle cx=\"198\" cy=\"183\" r=\"7\" fill=\"rgb(255,255,255)\" class=\"agent_1_23\"/><circle cx=\"316\" cy=\"70\" r=\"10\" fill=\"rgb(255,255,255)\" class=\"agent_1_30\"/><circle cx=\"332\" cy=\"230\" r=\"10\" fill=\"rgb(255,255,255)\" class=\"agent_1_58\"/><circle cx=\"296\" cy=\"233\" r=\"13\" fill=\"rgb(255,0,0)\" class=\"agent_1_73\"/><circle cx=\"70\" cy=\"145\" r=\"10\" fill=\"rgb(255,255,255)\" class=\"agent_1_78\"/></svg></div>"
      ],
      "text/plain": [
       "<IPython.core.display.HTML object>"
      ]
     },
     "metadata": {},
     "output_type": "display_data"
    },
    {
     "name": "stdout",
     "output_type": "stream",
     "text": [
      "partner_refs_true\n"
     ]
    },
    {
     "data": {
      "text/html": [
       "<div style=\"white-space: nowrap\"><svg viewbox='0 0 430 430' width=\"172\" height=\"172\" id=\"agent_1\"><circle cx=\"215\" cy=\"215\" r=\"205\" fill=\"none\" stroke=\"black\" stroke-width=\"2\" stroke-dasharray=\"3,3\"/><circle cx=\"121\" cy=\"166\" r=\"8\" fill=\"rgb(152,152,152)\"/><circle cx=\"130\" cy=\"284\" r=\"10\" fill=\"rgb(171,171,171)\"/><circle cx=\"198\" cy=\"183\" r=\"7\" fill=\"rgb(102,102,102)\"/><circle cx=\"316\" cy=\"70\" r=\"10\" fill=\"rgb(121,121,121)\"/><circle cx=\"332\" cy=\"230\" r=\"10\" fill=\"rgb(172,172,172)\"/><circle cx=\"296\" cy=\"233\" r=\"13\" fill=\"rgb(188,188,188)\"/><circle cx=\"70\" cy=\"145\" r=\"10\" fill=\"rgb(160,160,160)\"/></svg><svg viewBox='0 0 430 430' id=\"svg\" width=\"172\" height=\"172\"><circle cx=\"215\" cy=\"215\" r=\"205\" fill=\"none\" stroke=\"black\" stroke-width=\"2\" stroke-dasharray=\"3,3\"/> <circle cx=\"121\" cy=\"166\" r=\"8\" fill=\"rgb(255,255,255)\" class=\"agent_1_6\"/><circle cx=\"130\" cy=\"284\" r=\"10\" fill=\"rgb(255,255,255)\" class=\"agent_1_11\"/><circle cx=\"198\" cy=\"183\" r=\"7\" fill=\"rgb(255,255,255)\" class=\"agent_1_23\"/><circle cx=\"316\" cy=\"70\" r=\"10\" fill=\"rgb(255,255,255)\" class=\"agent_1_30\"/><circle cx=\"332\" cy=\"230\" r=\"10\" fill=\"rgb(255,255,255)\" class=\"agent_1_58\"/><circle cx=\"296\" cy=\"233\" r=\"13\" fill=\"rgb(255,0,0)\" class=\"agent_1_73\"/><circle cx=\"70\" cy=\"145\" r=\"10\" fill=\"rgb(255,255,255)\" class=\"agent_1_78\"/></svg></div>"
      ],
      "text/plain": [
       "<IPython.core.display.HTML object>"
      ]
     },
     "metadata": {},
     "output_type": "display_data"
    },
    {
     "name": "stdout",
     "output_type": "stream",
     "text": [
      "\n",
      "----------------------------------------\n",
      "\n",
      "sel_pred\n"
     ]
    },
    {
     "data": {
      "text/html": [
       "<div style=\"white-space: nowrap\"><svg viewbox='0 0 430 430' width=\"172\" height=\"172\" id=\"agent_1\"><circle cx=\"215\" cy=\"215\" r=\"205\" fill=\"none\" stroke=\"black\" stroke-width=\"2\" stroke-dasharray=\"3,3\"/><circle cx=\"121\" cy=\"166\" r=\"8\" fill=\"rgb(152,152,152)\"/><circle cx=\"130\" cy=\"284\" r=\"10\" fill=\"rgb(171,171,171)\"/><circle cx=\"198\" cy=\"183\" r=\"7\" fill=\"rgb(102,102,102)\"/><circle cx=\"316\" cy=\"70\" r=\"10\" fill=\"rgb(121,121,121)\"/><circle cx=\"332\" cy=\"230\" r=\"10\" fill=\"rgb(172,172,172)\"/><circle cx=\"296\" cy=\"233\" r=\"13\" fill=\"rgb(188,188,188)\"/><circle cx=\"70\" cy=\"145\" r=\"10\" fill=\"rgb(160,160,160)\"/></svg><svg viewBox='0 0 430 430' id=\"svg\" width=\"172\" height=\"172\"><circle cx=\"215\" cy=\"215\" r=\"205\" fill=\"none\" stroke=\"black\" stroke-width=\"2\" stroke-dasharray=\"3,3\"/> <circle cx=\"121\" cy=\"166\" r=\"8\" fill=\"rgb(255,254,254)\" class=\"agent_1_6\"/><circle cx=\"130\" cy=\"284\" r=\"10\" fill=\"rgb(255,254,254)\" class=\"agent_1_11\"/><circle cx=\"198\" cy=\"183\" r=\"7\" fill=\"rgb(255,254,254)\" class=\"agent_1_23\"/><circle cx=\"316\" cy=\"70\" r=\"10\" fill=\"rgb(255,254,254)\" class=\"agent_1_30\"/><circle cx=\"332\" cy=\"230\" r=\"10\" fill=\"rgb(255,251,251)\" class=\"agent_1_58\"/><circle cx=\"296\" cy=\"233\" r=\"13\" fill=\"rgb(255,19,19)\" class=\"agent_1_73\"/><circle cx=\"70\" cy=\"145\" r=\"10\" fill=\"rgb(255,254,254)\" class=\"agent_1_78\"/></svg></div>"
      ],
      "text/plain": [
       "<IPython.core.display.HTML object>"
      ]
     },
     "metadata": {},
     "output_type": "display_data"
    },
    {
     "name": "stdout",
     "output_type": "stream",
     "text": [
      "sel_true\n"
     ]
    },
    {
     "data": {
      "text/html": [
       "<div style=\"white-space: nowrap\"><svg viewbox='0 0 430 430' width=\"172\" height=\"172\" id=\"agent_1\"><circle cx=\"215\" cy=\"215\" r=\"205\" fill=\"none\" stroke=\"black\" stroke-width=\"2\" stroke-dasharray=\"3,3\"/><circle cx=\"121\" cy=\"166\" r=\"8\" fill=\"rgb(152,152,152)\"/><circle cx=\"130\" cy=\"284\" r=\"10\" fill=\"rgb(171,171,171)\"/><circle cx=\"198\" cy=\"183\" r=\"7\" fill=\"rgb(102,102,102)\"/><circle cx=\"316\" cy=\"70\" r=\"10\" fill=\"rgb(121,121,121)\"/><circle cx=\"332\" cy=\"230\" r=\"10\" fill=\"rgb(172,172,172)\"/><circle cx=\"296\" cy=\"233\" r=\"13\" fill=\"rgb(188,188,188)\"/><circle cx=\"70\" cy=\"145\" r=\"10\" fill=\"rgb(160,160,160)\"/></svg><svg viewBox='0 0 430 430' id=\"svg\" width=\"172\" height=\"172\"><circle cx=\"215\" cy=\"215\" r=\"205\" fill=\"none\" stroke=\"black\" stroke-width=\"2\" stroke-dasharray=\"3,3\"/> <circle cx=\"121\" cy=\"166\" r=\"8\" fill=\"rgb(255,255,255)\" class=\"agent_1_6\"/><circle cx=\"130\" cy=\"284\" r=\"10\" fill=\"rgb(255,255,255)\" class=\"agent_1_11\"/><circle cx=\"198\" cy=\"183\" r=\"7\" fill=\"rgb(255,255,255)\" class=\"agent_1_23\"/><circle cx=\"316\" cy=\"70\" r=\"10\" fill=\"rgb(255,255,255)\" class=\"agent_1_30\"/><circle cx=\"332\" cy=\"230\" r=\"10\" fill=\"rgb(255,255,255)\" class=\"agent_1_58\"/><circle cx=\"296\" cy=\"233\" r=\"13\" fill=\"rgb(255,0,0)\" class=\"agent_1_73\"/><circle cx=\"70\" cy=\"145\" r=\"10\" fill=\"rgb(255,255,255)\" class=\"agent_1_78\"/></svg></div>"
      ],
      "text/plain": [
       "<IPython.core.display.HTML object>"
      ]
     },
     "metadata": {},
     "output_type": "display_data"
    }
   ],
   "source": [
    "force_contexts_and_mentions(1, inference='beam', candidates=1)"
   ]
  },
  {
   "cell_type": "code",
   "execution_count": 50,
   "metadata": {
    "scrolled": true
   },
   "outputs": [
    {
     "name": "stdout",
     "output_type": "stream",
     "text": [
      "human\tTHEM: do you see two medium gray dots very close together where one looks to be slightly smaller than the large one ? <eos>\n",
      "partner_refs_pred\n"
     ]
    },
    {
     "data": {
      "text/html": [
       "<div style=\"white-space: nowrap\"><svg viewbox='0 0 430 430' width=\"172\" height=\"172\" id=\"agent_1\"><circle cx=\"215\" cy=\"215\" r=\"205\" fill=\"none\" stroke=\"black\" stroke-width=\"2\" stroke-dasharray=\"3,3\"/><circle cx=\"209\" cy=\"97\" r=\"11\" fill=\"rgb(186,186,186)\"/><circle cx=\"58\" cy=\"202\" r=\"11\" fill=\"rgb(73,73,73)\"/><circle cx=\"222\" cy=\"267\" r=\"11\" fill=\"rgb(100,100,100)\"/><circle cx=\"273\" cy=\"290\" r=\"12\" fill=\"rgb(104,104,104)\"/><circle cx=\"284\" cy=\"29\" r=\"12\" fill=\"rgb(159,159,159)\"/><circle cx=\"378\" cy=\"269\" r=\"9\" fill=\"rgb(198,198,198)\"/><circle cx=\"402\" cy=\"227\" r=\"7\" fill=\"rgb(101,101,101)\"/></svg><svg viewBox='0 0 430 430' id=\"svg\" width=\"172\" height=\"172\"><circle cx=\"215\" cy=\"215\" r=\"205\" fill=\"none\" stroke=\"black\" stroke-width=\"2\" stroke-dasharray=\"3,3\"/> <circle cx=\"209\" cy=\"97\" r=\"11\" fill=\"rgb(255,255,255)\" class=\"agent_1_2\"/><circle cx=\"58\" cy=\"202\" r=\"11\" fill=\"rgb(255,255,255)\" class=\"agent_1_5\"/><circle cx=\"222\" cy=\"267\" r=\"11\" fill=\"rgb(255,0,0)\" class=\"agent_1_12\"/><circle cx=\"273\" cy=\"290\" r=\"12\" fill=\"rgb(255,0,0)\" class=\"agent_1_27\"/><circle cx=\"284\" cy=\"29\" r=\"12\" fill=\"rgb(255,255,255)\" class=\"agent_1_37\"/><circle cx=\"378\" cy=\"269\" r=\"9\" fill=\"rgb(255,255,255)\" class=\"agent_1_48\"/><circle cx=\"402\" cy=\"227\" r=\"7\" fill=\"rgb(255,255,255)\" class=\"agent_1_57\"/></svg><svg viewBox='0 0 430 430' id=\"svg\" width=\"172\" height=\"172\"><circle cx=\"215\" cy=\"215\" r=\"205\" fill=\"none\" stroke=\"black\" stroke-width=\"2\" stroke-dasharray=\"3,3\"/> <circle cx=\"209\" cy=\"97\" r=\"11\" fill=\"rgb(255,255,255)\" class=\"agent_1_2\"/><circle cx=\"58\" cy=\"202\" r=\"11\" fill=\"rgb(255,255,255)\" class=\"agent_1_5\"/><circle cx=\"222\" cy=\"267\" r=\"11\" fill=\"rgb(255,0,0)\" class=\"agent_1_12\"/><circle cx=\"273\" cy=\"290\" r=\"12\" fill=\"rgb(255,255,255)\" class=\"agent_1_27\"/><circle cx=\"284\" cy=\"29\" r=\"12\" fill=\"rgb(255,255,255)\" class=\"agent_1_37\"/><circle cx=\"378\" cy=\"269\" r=\"9\" fill=\"rgb(255,255,255)\" class=\"agent_1_48\"/><circle cx=\"402\" cy=\"227\" r=\"7\" fill=\"rgb(255,255,255)\" class=\"agent_1_57\"/></svg><svg viewBox='0 0 430 430' id=\"svg\" width=\"172\" height=\"172\"><circle cx=\"215\" cy=\"215\" r=\"205\" fill=\"none\" stroke=\"black\" stroke-width=\"2\" stroke-dasharray=\"3,3\"/> <circle cx=\"209\" cy=\"97\" r=\"11\" fill=\"rgb(255,255,255)\" class=\"agent_1_2\"/><circle cx=\"58\" cy=\"202\" r=\"11\" fill=\"rgb(255,255,255)\" class=\"agent_1_5\"/><circle cx=\"222\" cy=\"267\" r=\"11\" fill=\"rgb(255,255,255)\" class=\"agent_1_12\"/><circle cx=\"273\" cy=\"290\" r=\"12\" fill=\"rgb(255,0,0)\" class=\"agent_1_27\"/><circle cx=\"284\" cy=\"29\" r=\"12\" fill=\"rgb(255,255,255)\" class=\"agent_1_37\"/><circle cx=\"378\" cy=\"269\" r=\"9\" fill=\"rgb(255,255,255)\" class=\"agent_1_48\"/><circle cx=\"402\" cy=\"227\" r=\"7\" fill=\"rgb(255,255,255)\" class=\"agent_1_57\"/></svg></div>"
      ],
      "text/plain": [
       "<IPython.core.display.HTML object>"
      ]
     },
     "metadata": {},
     "output_type": "display_data"
    },
    {
     "name": "stdout",
     "output_type": "stream",
     "text": [
      "partner_refs_true\n"
     ]
    },
    {
     "data": {
      "text/html": [
       "<div style=\"white-space: nowrap\"><svg viewbox='0 0 430 430' width=\"172\" height=\"172\" id=\"agent_1\"><circle cx=\"215\" cy=\"215\" r=\"205\" fill=\"none\" stroke=\"black\" stroke-width=\"2\" stroke-dasharray=\"3,3\"/><circle cx=\"209\" cy=\"97\" r=\"11\" fill=\"rgb(186,186,186)\"/><circle cx=\"58\" cy=\"202\" r=\"11\" fill=\"rgb(73,73,73)\"/><circle cx=\"222\" cy=\"267\" r=\"11\" fill=\"rgb(100,100,100)\"/><circle cx=\"273\" cy=\"290\" r=\"12\" fill=\"rgb(104,104,104)\"/><circle cx=\"284\" cy=\"29\" r=\"12\" fill=\"rgb(159,159,159)\"/><circle cx=\"378\" cy=\"269\" r=\"9\" fill=\"rgb(198,198,198)\"/><circle cx=\"402\" cy=\"227\" r=\"7\" fill=\"rgb(101,101,101)\"/></svg><svg viewBox='0 0 430 430' id=\"svg\" width=\"172\" height=\"172\"><circle cx=\"215\" cy=\"215\" r=\"205\" fill=\"none\" stroke=\"black\" stroke-width=\"2\" stroke-dasharray=\"3,3\"/> <circle cx=\"209\" cy=\"97\" r=\"11\" fill=\"rgb(255,255,255)\" class=\"agent_1_2\"/><circle cx=\"58\" cy=\"202\" r=\"11\" fill=\"rgb(255,255,255)\" class=\"agent_1_5\"/><circle cx=\"222\" cy=\"267\" r=\"11\" fill=\"rgb(255,0,0)\" class=\"agent_1_12\"/><circle cx=\"273\" cy=\"290\" r=\"12\" fill=\"rgb(255,0,0)\" class=\"agent_1_27\"/><circle cx=\"284\" cy=\"29\" r=\"12\" fill=\"rgb(255,255,255)\" class=\"agent_1_37\"/><circle cx=\"378\" cy=\"269\" r=\"9\" fill=\"rgb(255,255,255)\" class=\"agent_1_48\"/><circle cx=\"402\" cy=\"227\" r=\"7\" fill=\"rgb(255,255,255)\" class=\"agent_1_57\"/></svg><svg viewBox='0 0 430 430' id=\"svg\" width=\"172\" height=\"172\"><circle cx=\"215\" cy=\"215\" r=\"205\" fill=\"none\" stroke=\"black\" stroke-width=\"2\" stroke-dasharray=\"3,3\"/> <circle cx=\"209\" cy=\"97\" r=\"11\" fill=\"rgb(255,255,255)\" class=\"agent_1_2\"/><circle cx=\"58\" cy=\"202\" r=\"11\" fill=\"rgb(255,255,255)\" class=\"agent_1_5\"/><circle cx=\"222\" cy=\"267\" r=\"11\" fill=\"rgb(255,0,0)\" class=\"agent_1_12\"/><circle cx=\"273\" cy=\"290\" r=\"12\" fill=\"rgb(255,255,255)\" class=\"agent_1_27\"/><circle cx=\"284\" cy=\"29\" r=\"12\" fill=\"rgb(255,255,255)\" class=\"agent_1_37\"/><circle cx=\"378\" cy=\"269\" r=\"9\" fill=\"rgb(255,255,255)\" class=\"agent_1_48\"/><circle cx=\"402\" cy=\"227\" r=\"7\" fill=\"rgb(255,255,255)\" class=\"agent_1_57\"/></svg><svg viewBox='0 0 430 430' id=\"svg\" width=\"172\" height=\"172\"><circle cx=\"215\" cy=\"215\" r=\"205\" fill=\"none\" stroke=\"black\" stroke-width=\"2\" stroke-dasharray=\"3,3\"/> <circle cx=\"209\" cy=\"97\" r=\"11\" fill=\"rgb(255,255,255)\" class=\"agent_1_2\"/><circle cx=\"58\" cy=\"202\" r=\"11\" fill=\"rgb(255,255,255)\" class=\"agent_1_5\"/><circle cx=\"222\" cy=\"267\" r=\"11\" fill=\"rgb(255,255,255)\" class=\"agent_1_12\"/><circle cx=\"273\" cy=\"290\" r=\"12\" fill=\"rgb(255,0,0)\" class=\"agent_1_27\"/><circle cx=\"284\" cy=\"29\" r=\"12\" fill=\"rgb(255,255,255)\" class=\"agent_1_37\"/><circle cx=\"378\" cy=\"269\" r=\"9\" fill=\"rgb(255,255,255)\" class=\"agent_1_48\"/><circle cx=\"402\" cy=\"227\" r=\"7\" fill=\"rgb(255,255,255)\" class=\"agent_1_57\"/></svg></div>"
      ],
      "text/plain": [
       "<IPython.core.display.HTML object>"
      ]
     },
     "metadata": {},
     "output_type": "display_data"
    },
    {
     "name": "stdout",
     "output_type": "stream",
     "text": [
      "\n",
      "----------------------------------------\n",
      "\n",
      "to_mention_true\n"
     ]
    },
    {
     "data": {
      "text/html": [
       "<div style=\"white-space: nowrap\"><svg viewbox='0 0 430 430' width=\"172\" height=\"172\" id=\"agent_1\"><circle cx=\"215\" cy=\"215\" r=\"205\" fill=\"none\" stroke=\"black\" stroke-width=\"2\" stroke-dasharray=\"3,3\"/><circle cx=\"209\" cy=\"97\" r=\"11\" fill=\"rgb(186,186,186)\"/><circle cx=\"58\" cy=\"202\" r=\"11\" fill=\"rgb(73,73,73)\"/><circle cx=\"222\" cy=\"267\" r=\"11\" fill=\"rgb(100,100,100)\"/><circle cx=\"273\" cy=\"290\" r=\"12\" fill=\"rgb(104,104,104)\"/><circle cx=\"284\" cy=\"29\" r=\"12\" fill=\"rgb(159,159,159)\"/><circle cx=\"378\" cy=\"269\" r=\"9\" fill=\"rgb(198,198,198)\"/><circle cx=\"402\" cy=\"227\" r=\"7\" fill=\"rgb(101,101,101)\"/></svg><svg viewBox='0 0 430 430' id=\"svg\" width=\"172\" height=\"172\"><circle cx=\"215\" cy=\"215\" r=\"205\" fill=\"none\" stroke=\"black\" stroke-width=\"2\" stroke-dasharray=\"3,3\"/> <circle cx=\"209\" cy=\"97\" r=\"11\" fill=\"rgb(255,255,255)\" class=\"agent_1_2\"/><circle cx=\"58\" cy=\"202\" r=\"11\" fill=\"rgb(255,255,255)\" class=\"agent_1_5\"/><circle cx=\"222\" cy=\"267\" r=\"11\" fill=\"rgb(255,0,0)\" class=\"agent_1_12\"/><circle cx=\"273\" cy=\"290\" r=\"12\" fill=\"rgb(255,255,255)\" class=\"agent_1_27\"/><circle cx=\"284\" cy=\"29\" r=\"12\" fill=\"rgb(255,255,255)\" class=\"agent_1_37\"/><circle cx=\"378\" cy=\"269\" r=\"9\" fill=\"rgb(255,255,255)\" class=\"agent_1_48\"/><circle cx=\"402\" cy=\"227\" r=\"7\" fill=\"rgb(255,255,255)\" class=\"agent_1_57\"/></svg><svg viewBox='0 0 430 430' id=\"svg\" width=\"172\" height=\"172\"><circle cx=\"215\" cy=\"215\" r=\"205\" fill=\"none\" stroke=\"black\" stroke-width=\"2\" stroke-dasharray=\"3,3\"/> <circle cx=\"209\" cy=\"97\" r=\"11\" fill=\"rgb(255,255,255)\" class=\"agent_1_2\"/><circle cx=\"58\" cy=\"202\" r=\"11\" fill=\"rgb(255,255,255)\" class=\"agent_1_5\"/><circle cx=\"222\" cy=\"267\" r=\"11\" fill=\"rgb(255,255,255)\" class=\"agent_1_12\"/><circle cx=\"273\" cy=\"290\" r=\"12\" fill=\"rgb(255,0,0)\" class=\"agent_1_27\"/><circle cx=\"284\" cy=\"29\" r=\"12\" fill=\"rgb(255,255,255)\" class=\"agent_1_37\"/><circle cx=\"378\" cy=\"269\" r=\"9\" fill=\"rgb(255,255,255)\" class=\"agent_1_48\"/><circle cx=\"402\" cy=\"227\" r=\"7\" fill=\"rgb(255,255,255)\" class=\"agent_1_57\"/></svg></div>"
      ],
      "text/plain": [
       "<IPython.core.display.HTML object>"
      ]
     },
     "metadata": {},
     "output_type": "display_data"
    },
    {
     "name": "stdout",
     "output_type": "stream",
     "text": [
      "beam 0\tyes , i have that . let 's pick the darker one\n",
      "beam 1\tyes , i have that . let 's pick the larger one\n",
      "beam 2\tyes , i see that . let 's pick the darker one\n",
      "beam 3\tyes , i see that . let 's pick the larger one\n",
      "beam 4\tyes , i have that . let 's pick the darker one .\n",
      "beam 5\tyes , i have those . let 's pick the larger one\n",
      "beam 6\tyes , i have those . let 's pick the darker one\n",
      "beam 7\tyes , i see that . let 's pick the darker one .\n",
      "beam 8\tyes , i have that . let 's pick the larger one .\n",
      "beam 9\tyes , i have those . let 's pick the larger one .\n",
      "beam 10\tyes , i have that . let 's pick the darker one .\n",
      "beam 11\tyes , i see that . let 's pick the darker one .\n",
      "beam 12\tyes , i have those . let 's pick the darker one .\n",
      "beam 13\tyes , i see that . let 's pick the larger one .\n",
      "beam 14\tyes , i have that . let 's pick the larger one .\n",
      "beam 15\tyes , i have that too . let 's pick the larger one .\n",
      "beam 16\tyes , i have that too . let 's pick the darker one .\n",
      "beam 17\tyes , i see that too . let 's pick the larger one .\n",
      "beam 18\tyes , i see that too . let 's pick the darker one .\n",
      "beam 19\tyes , i have that too . let 's pick the larger one .\n",
      "greedy\tyes , i have that . let 's pick the larger one . <selection>\n",
      "human\tand the smaller one is diagonally above the other to the west ? <eos>\n",
      "refs_pred\n"
     ]
    },
    {
     "data": {
      "text/html": [
       "<div style=\"white-space: nowrap\"><svg viewbox='0 0 430 430' width=\"172\" height=\"172\" id=\"agent_1\"><circle cx=\"215\" cy=\"215\" r=\"205\" fill=\"none\" stroke=\"black\" stroke-width=\"2\" stroke-dasharray=\"3,3\"/><circle cx=\"209\" cy=\"97\" r=\"11\" fill=\"rgb(186,186,186)\"/><circle cx=\"58\" cy=\"202\" r=\"11\" fill=\"rgb(73,73,73)\"/><circle cx=\"222\" cy=\"267\" r=\"11\" fill=\"rgb(100,100,100)\"/><circle cx=\"273\" cy=\"290\" r=\"12\" fill=\"rgb(104,104,104)\"/><circle cx=\"284\" cy=\"29\" r=\"12\" fill=\"rgb(159,159,159)\"/><circle cx=\"378\" cy=\"269\" r=\"9\" fill=\"rgb(198,198,198)\"/><circle cx=\"402\" cy=\"227\" r=\"7\" fill=\"rgb(101,101,101)\"/></svg><svg viewBox='0 0 430 430' id=\"svg\" width=\"172\" height=\"172\"><circle cx=\"215\" cy=\"215\" r=\"205\" fill=\"none\" stroke=\"black\" stroke-width=\"2\" stroke-dasharray=\"3,3\"/> <circle cx=\"209\" cy=\"97\" r=\"11\" fill=\"rgb(255,255,255)\" class=\"agent_1_2\"/><circle cx=\"58\" cy=\"202\" r=\"11\" fill=\"rgb(255,255,255)\" class=\"agent_1_5\"/><circle cx=\"222\" cy=\"267\" r=\"11\" fill=\"rgb(255,255,255)\" class=\"agent_1_12\"/><circle cx=\"273\" cy=\"290\" r=\"12\" fill=\"rgb(255,255,255)\" class=\"agent_1_27\"/><circle cx=\"284\" cy=\"29\" r=\"12\" fill=\"rgb(255,255,255)\" class=\"agent_1_37\"/><circle cx=\"378\" cy=\"269\" r=\"9\" fill=\"rgb(255,255,255)\" class=\"agent_1_48\"/><circle cx=\"402\" cy=\"227\" r=\"7\" fill=\"rgb(255,0,0)\" class=\"agent_1_57\"/></svg><svg viewBox='0 0 430 430' id=\"svg\" width=\"172\" height=\"172\"><circle cx=\"215\" cy=\"215\" r=\"205\" fill=\"none\" stroke=\"black\" stroke-width=\"2\" stroke-dasharray=\"3,3\"/> <circle cx=\"209\" cy=\"97\" r=\"11\" fill=\"rgb(255,255,255)\" class=\"agent_1_2\"/><circle cx=\"58\" cy=\"202\" r=\"11\" fill=\"rgb(255,255,255)\" class=\"agent_1_5\"/><circle cx=\"222\" cy=\"267\" r=\"11\" fill=\"rgb(255,255,255)\" class=\"agent_1_12\"/><circle cx=\"273\" cy=\"290\" r=\"12\" fill=\"rgb(255,255,255)\" class=\"agent_1_27\"/><circle cx=\"284\" cy=\"29\" r=\"12\" fill=\"rgb(255,255,255)\" class=\"agent_1_37\"/><circle cx=\"378\" cy=\"269\" r=\"9\" fill=\"rgb(255,0,0)\" class=\"agent_1_48\"/><circle cx=\"402\" cy=\"227\" r=\"7\" fill=\"rgb(255,255,255)\" class=\"agent_1_57\"/></svg></div>"
      ],
      "text/plain": [
       "<IPython.core.display.HTML object>"
      ]
     },
     "metadata": {},
     "output_type": "display_data"
    },
    {
     "name": "stdout",
     "output_type": "stream",
     "text": [
      "refs_true\n"
     ]
    },
    {
     "data": {
      "text/html": [
       "<div style=\"white-space: nowrap\"><svg viewbox='0 0 430 430' width=\"172\" height=\"172\" id=\"agent_1\"><circle cx=\"215\" cy=\"215\" r=\"205\" fill=\"none\" stroke=\"black\" stroke-width=\"2\" stroke-dasharray=\"3,3\"/><circle cx=\"209\" cy=\"97\" r=\"11\" fill=\"rgb(186,186,186)\"/><circle cx=\"58\" cy=\"202\" r=\"11\" fill=\"rgb(73,73,73)\"/><circle cx=\"222\" cy=\"267\" r=\"11\" fill=\"rgb(100,100,100)\"/><circle cx=\"273\" cy=\"290\" r=\"12\" fill=\"rgb(104,104,104)\"/><circle cx=\"284\" cy=\"29\" r=\"12\" fill=\"rgb(159,159,159)\"/><circle cx=\"378\" cy=\"269\" r=\"9\" fill=\"rgb(198,198,198)\"/><circle cx=\"402\" cy=\"227\" r=\"7\" fill=\"rgb(101,101,101)\"/></svg><svg viewBox='0 0 430 430' id=\"svg\" width=\"172\" height=\"172\"><circle cx=\"215\" cy=\"215\" r=\"205\" fill=\"none\" stroke=\"black\" stroke-width=\"2\" stroke-dasharray=\"3,3\"/> <circle cx=\"209\" cy=\"97\" r=\"11\" fill=\"rgb(255,255,255)\" class=\"agent_1_2\"/><circle cx=\"58\" cy=\"202\" r=\"11\" fill=\"rgb(255,255,255)\" class=\"agent_1_5\"/><circle cx=\"222\" cy=\"267\" r=\"11\" fill=\"rgb(255,0,0)\" class=\"agent_1_12\"/><circle cx=\"273\" cy=\"290\" r=\"12\" fill=\"rgb(255,255,255)\" class=\"agent_1_27\"/><circle cx=\"284\" cy=\"29\" r=\"12\" fill=\"rgb(255,255,255)\" class=\"agent_1_37\"/><circle cx=\"378\" cy=\"269\" r=\"9\" fill=\"rgb(255,255,255)\" class=\"agent_1_48\"/><circle cx=\"402\" cy=\"227\" r=\"7\" fill=\"rgb(255,255,255)\" class=\"agent_1_57\"/></svg><svg viewBox='0 0 430 430' id=\"svg\" width=\"172\" height=\"172\"><circle cx=\"215\" cy=\"215\" r=\"205\" fill=\"none\" stroke=\"black\" stroke-width=\"2\" stroke-dasharray=\"3,3\"/> <circle cx=\"209\" cy=\"97\" r=\"11\" fill=\"rgb(255,255,255)\" class=\"agent_1_2\"/><circle cx=\"58\" cy=\"202\" r=\"11\" fill=\"rgb(255,255,255)\" class=\"agent_1_5\"/><circle cx=\"222\" cy=\"267\" r=\"11\" fill=\"rgb(255,255,255)\" class=\"agent_1_12\"/><circle cx=\"273\" cy=\"290\" r=\"12\" fill=\"rgb(255,0,0)\" class=\"agent_1_27\"/><circle cx=\"284\" cy=\"29\" r=\"12\" fill=\"rgb(255,255,255)\" class=\"agent_1_37\"/><circle cx=\"378\" cy=\"269\" r=\"9\" fill=\"rgb(255,255,255)\" class=\"agent_1_48\"/><circle cx=\"402\" cy=\"227\" r=\"7\" fill=\"rgb(255,255,255)\" class=\"agent_1_57\"/></svg></div>"
      ],
      "text/plain": [
       "<IPython.core.display.HTML object>"
      ]
     },
     "metadata": {},
     "output_type": "display_data"
    },
    {
     "name": "stdout",
     "output_type": "stream",
     "text": [
      "\n",
      "----------------------------------------\n",
      "\n",
      "human\tTHEM: yes <eos>\n",
      "\n",
      "----------------------------------------\n",
      "\n",
      "to_mention_true\n"
     ]
    },
    {
     "data": {
      "text/html": [
       "<div style=\"white-space: nowrap\"><svg viewbox='0 0 430 430' width=\"172\" height=\"172\" id=\"agent_1\"><circle cx=\"215\" cy=\"215\" r=\"205\" fill=\"none\" stroke=\"black\" stroke-width=\"2\" stroke-dasharray=\"3,3\"/><circle cx=\"209\" cy=\"97\" r=\"11\" fill=\"rgb(186,186,186)\"/><circle cx=\"58\" cy=\"202\" r=\"11\" fill=\"rgb(73,73,73)\"/><circle cx=\"222\" cy=\"267\" r=\"11\" fill=\"rgb(100,100,100)\"/><circle cx=\"273\" cy=\"290\" r=\"12\" fill=\"rgb(104,104,104)\"/><circle cx=\"284\" cy=\"29\" r=\"12\" fill=\"rgb(159,159,159)\"/><circle cx=\"378\" cy=\"269\" r=\"9\" fill=\"rgb(198,198,198)\"/><circle cx=\"402\" cy=\"227\" r=\"7\" fill=\"rgb(101,101,101)\"/></svg><svg viewBox='0 0 430 430' id=\"svg\" width=\"172\" height=\"172\"><circle cx=\"215\" cy=\"215\" r=\"205\" fill=\"none\" stroke=\"black\" stroke-width=\"2\" stroke-dasharray=\"3,3\"/> <circle cx=\"209\" cy=\"97\" r=\"11\" fill=\"rgb(255,255,255)\" class=\"agent_1_2\"/><circle cx=\"58\" cy=\"202\" r=\"11\" fill=\"rgb(255,255,255)\" class=\"agent_1_5\"/><circle cx=\"222\" cy=\"267\" r=\"11\" fill=\"rgb(255,0,0)\" class=\"agent_1_12\"/><circle cx=\"273\" cy=\"290\" r=\"12\" fill=\"rgb(255,0,0)\" class=\"agent_1_27\"/><circle cx=\"284\" cy=\"29\" r=\"12\" fill=\"rgb(255,255,255)\" class=\"agent_1_37\"/><circle cx=\"378\" cy=\"269\" r=\"9\" fill=\"rgb(255,255,255)\" class=\"agent_1_48\"/><circle cx=\"402\" cy=\"227\" r=\"7\" fill=\"rgb(255,255,255)\" class=\"agent_1_57\"/></svg></div>"
      ],
      "text/plain": [
       "<IPython.core.display.HTML object>"
      ]
     },
     "metadata": {},
     "output_type": "display_data"
    },
    {
     "name": "stdout",
     "output_type": "stream",
     "text": [
      "beam 0\tk click the darker one on top !\n",
      "beam 1\tlet 's pick the darker one .\n",
      "beam 2\tlet 's pick the darker one .\n",
      "beam 3\tok let 's pick the darker one\n",
      "beam 4\tdo you want to pick the top one ?\n",
      "beam 5\tdo you want to pick the bottom one ?\n",
      "beam 6\tlet 's pick the darker one on the left\n",
      "beam 7\tlet 's pick the one on the left\n",
      "beam 8\tlet 's pick the one on the right\n",
      "beam 9\tlet 's pick the darker one on the right\n",
      "beam 10\tok. let 's pick the darker one on the left\n",
      "beam 11\tdo you want to pick the one on the right ?\n",
      "beam 12\tdo you want to pick the one on the left ?\n",
      "beam 13\tok. let 's pick the darker one on the right\n",
      "beam 14\tok let 's pick the darker one on the left\n",
      "beam 15\tok let 's pick the darker one on the right\n",
      "beam 16\tok. let 's pick the darker one on the bottom\n",
      "beam 17\tok. let 's choose the darker one on the left\n",
      "beam 18\tok , let 's pick the darker one on the left\n",
      "beam 19\tok , let 's pick the darker one on the right\n",
      "greedy\tok , let 's pick the darker one on the left <selection>\n",
      "human\tthey are both in the lower half of the circle <eos>\n",
      "refs_pred\n"
     ]
    },
    {
     "data": {
      "text/html": [
       "<div style=\"white-space: nowrap\"><svg viewbox='0 0 430 430' width=\"172\" height=\"172\" id=\"agent_1\"><circle cx=\"215\" cy=\"215\" r=\"205\" fill=\"none\" stroke=\"black\" stroke-width=\"2\" stroke-dasharray=\"3,3\"/><circle cx=\"209\" cy=\"97\" r=\"11\" fill=\"rgb(186,186,186)\"/><circle cx=\"58\" cy=\"202\" r=\"11\" fill=\"rgb(73,73,73)\"/><circle cx=\"222\" cy=\"267\" r=\"11\" fill=\"rgb(100,100,100)\"/><circle cx=\"273\" cy=\"290\" r=\"12\" fill=\"rgb(104,104,104)\"/><circle cx=\"284\" cy=\"29\" r=\"12\" fill=\"rgb(159,159,159)\"/><circle cx=\"378\" cy=\"269\" r=\"9\" fill=\"rgb(198,198,198)\"/><circle cx=\"402\" cy=\"227\" r=\"7\" fill=\"rgb(101,101,101)\"/></svg><svg viewBox='0 0 430 430' id=\"svg\" width=\"172\" height=\"172\"><circle cx=\"215\" cy=\"215\" r=\"205\" fill=\"none\" stroke=\"black\" stroke-width=\"2\" stroke-dasharray=\"3,3\"/> <circle cx=\"209\" cy=\"97\" r=\"11\" fill=\"rgb(255,255,255)\" class=\"agent_1_2\"/><circle cx=\"58\" cy=\"202\" r=\"11\" fill=\"rgb(255,255,255)\" class=\"agent_1_5\"/><circle cx=\"222\" cy=\"267\" r=\"11\" fill=\"rgb(255,0,0)\" class=\"agent_1_12\"/><circle cx=\"273\" cy=\"290\" r=\"12\" fill=\"rgb(255,0,0)\" class=\"agent_1_27\"/><circle cx=\"284\" cy=\"29\" r=\"12\" fill=\"rgb(255,255,255)\" class=\"agent_1_37\"/><circle cx=\"378\" cy=\"269\" r=\"9\" fill=\"rgb(255,255,255)\" class=\"agent_1_48\"/><circle cx=\"402\" cy=\"227\" r=\"7\" fill=\"rgb(255,255,255)\" class=\"agent_1_57\"/></svg></div>"
      ],
      "text/plain": [
       "<IPython.core.display.HTML object>"
      ]
     },
     "metadata": {},
     "output_type": "display_data"
    },
    {
     "name": "stdout",
     "output_type": "stream",
     "text": [
      "refs_true\n"
     ]
    },
    {
     "data": {
      "text/html": [
       "<div style=\"white-space: nowrap\"><svg viewbox='0 0 430 430' width=\"172\" height=\"172\" id=\"agent_1\"><circle cx=\"215\" cy=\"215\" r=\"205\" fill=\"none\" stroke=\"black\" stroke-width=\"2\" stroke-dasharray=\"3,3\"/><circle cx=\"209\" cy=\"97\" r=\"11\" fill=\"rgb(186,186,186)\"/><circle cx=\"58\" cy=\"202\" r=\"11\" fill=\"rgb(73,73,73)\"/><circle cx=\"222\" cy=\"267\" r=\"11\" fill=\"rgb(100,100,100)\"/><circle cx=\"273\" cy=\"290\" r=\"12\" fill=\"rgb(104,104,104)\"/><circle cx=\"284\" cy=\"29\" r=\"12\" fill=\"rgb(159,159,159)\"/><circle cx=\"378\" cy=\"269\" r=\"9\" fill=\"rgb(198,198,198)\"/><circle cx=\"402\" cy=\"227\" r=\"7\" fill=\"rgb(101,101,101)\"/></svg><svg viewBox='0 0 430 430' id=\"svg\" width=\"172\" height=\"172\"><circle cx=\"215\" cy=\"215\" r=\"205\" fill=\"none\" stroke=\"black\" stroke-width=\"2\" stroke-dasharray=\"3,3\"/> <circle cx=\"209\" cy=\"97\" r=\"11\" fill=\"rgb(255,255,255)\" class=\"agent_1_2\"/><circle cx=\"58\" cy=\"202\" r=\"11\" fill=\"rgb(255,255,255)\" class=\"agent_1_5\"/><circle cx=\"222\" cy=\"267\" r=\"11\" fill=\"rgb(255,0,0)\" class=\"agent_1_12\"/><circle cx=\"273\" cy=\"290\" r=\"12\" fill=\"rgb(255,0,0)\" class=\"agent_1_27\"/><circle cx=\"284\" cy=\"29\" r=\"12\" fill=\"rgb(255,255,255)\" class=\"agent_1_37\"/><circle cx=\"378\" cy=\"269\" r=\"9\" fill=\"rgb(255,255,255)\" class=\"agent_1_48\"/><circle cx=\"402\" cy=\"227\" r=\"7\" fill=\"rgb(255,255,255)\" class=\"agent_1_57\"/></svg></div>"
      ],
      "text/plain": [
       "<IPython.core.display.HTML object>"
      ]
     },
     "metadata": {},
     "output_type": "display_data"
    },
    {
     "name": "stdout",
     "output_type": "stream",
     "text": [
      "\n",
      "----------------------------------------\n",
      "\n",
      "human\tTHEM: we have different views so that does n't help me but choose the larger of the two dots <selection>\n",
      "partner_refs_pred\n"
     ]
    },
    {
     "data": {
      "text/html": [
       "<div style=\"white-space: nowrap\"><svg viewbox='0 0 430 430' width=\"172\" height=\"172\" id=\"agent_1\"><circle cx=\"215\" cy=\"215\" r=\"205\" fill=\"none\" stroke=\"black\" stroke-width=\"2\" stroke-dasharray=\"3,3\"/><circle cx=\"209\" cy=\"97\" r=\"11\" fill=\"rgb(186,186,186)\"/><circle cx=\"58\" cy=\"202\" r=\"11\" fill=\"rgb(73,73,73)\"/><circle cx=\"222\" cy=\"267\" r=\"11\" fill=\"rgb(100,100,100)\"/><circle cx=\"273\" cy=\"290\" r=\"12\" fill=\"rgb(104,104,104)\"/><circle cx=\"284\" cy=\"29\" r=\"12\" fill=\"rgb(159,159,159)\"/><circle cx=\"378\" cy=\"269\" r=\"9\" fill=\"rgb(198,198,198)\"/><circle cx=\"402\" cy=\"227\" r=\"7\" fill=\"rgb(101,101,101)\"/></svg><svg viewBox='0 0 430 430' id=\"svg\" width=\"172\" height=\"172\"><circle cx=\"215\" cy=\"215\" r=\"205\" fill=\"none\" stroke=\"black\" stroke-width=\"2\" stroke-dasharray=\"3,3\"/> <circle cx=\"209\" cy=\"97\" r=\"11\" fill=\"rgb(255,255,255)\" class=\"agent_1_2\"/><circle cx=\"58\" cy=\"202\" r=\"11\" fill=\"rgb(255,255,255)\" class=\"agent_1_5\"/><circle cx=\"222\" cy=\"267\" r=\"11\" fill=\"rgb(255,255,255)\" class=\"agent_1_12\"/><circle cx=\"273\" cy=\"290\" r=\"12\" fill=\"rgb(255,0,0)\" class=\"agent_1_27\"/><circle cx=\"284\" cy=\"29\" r=\"12\" fill=\"rgb(255,255,255)\" class=\"agent_1_37\"/><circle cx=\"378\" cy=\"269\" r=\"9\" fill=\"rgb(255,255,255)\" class=\"agent_1_48\"/><circle cx=\"402\" cy=\"227\" r=\"7\" fill=\"rgb(255,255,255)\" class=\"agent_1_57\"/></svg><svg viewBox='0 0 430 430' id=\"svg\" width=\"172\" height=\"172\"><circle cx=\"215\" cy=\"215\" r=\"205\" fill=\"none\" stroke=\"black\" stroke-width=\"2\" stroke-dasharray=\"3,3\"/> <circle cx=\"209\" cy=\"97\" r=\"11\" fill=\"rgb(255,255,255)\" class=\"agent_1_2\"/><circle cx=\"58\" cy=\"202\" r=\"11\" fill=\"rgb(255,255,255)\" class=\"agent_1_5\"/><circle cx=\"222\" cy=\"267\" r=\"11\" fill=\"rgb(255,0,0)\" class=\"agent_1_12\"/><circle cx=\"273\" cy=\"290\" r=\"12\" fill=\"rgb(255,0,0)\" class=\"agent_1_27\"/><circle cx=\"284\" cy=\"29\" r=\"12\" fill=\"rgb(255,255,255)\" class=\"agent_1_37\"/><circle cx=\"378\" cy=\"269\" r=\"9\" fill=\"rgb(255,255,255)\" class=\"agent_1_48\"/><circle cx=\"402\" cy=\"227\" r=\"7\" fill=\"rgb(255,255,255)\" class=\"agent_1_57\"/></svg></div>"
      ],
      "text/plain": [
       "<IPython.core.display.HTML object>"
      ]
     },
     "metadata": {},
     "output_type": "display_data"
    },
    {
     "name": "stdout",
     "output_type": "stream",
     "text": [
      "partner_refs_true\n"
     ]
    },
    {
     "data": {
      "text/html": [
       "<div style=\"white-space: nowrap\"><svg viewbox='0 0 430 430' width=\"172\" height=\"172\" id=\"agent_1\"><circle cx=\"215\" cy=\"215\" r=\"205\" fill=\"none\" stroke=\"black\" stroke-width=\"2\" stroke-dasharray=\"3,3\"/><circle cx=\"209\" cy=\"97\" r=\"11\" fill=\"rgb(186,186,186)\"/><circle cx=\"58\" cy=\"202\" r=\"11\" fill=\"rgb(73,73,73)\"/><circle cx=\"222\" cy=\"267\" r=\"11\" fill=\"rgb(100,100,100)\"/><circle cx=\"273\" cy=\"290\" r=\"12\" fill=\"rgb(104,104,104)\"/><circle cx=\"284\" cy=\"29\" r=\"12\" fill=\"rgb(159,159,159)\"/><circle cx=\"378\" cy=\"269\" r=\"9\" fill=\"rgb(198,198,198)\"/><circle cx=\"402\" cy=\"227\" r=\"7\" fill=\"rgb(101,101,101)\"/></svg><svg viewBox='0 0 430 430' id=\"svg\" width=\"172\" height=\"172\"><circle cx=\"215\" cy=\"215\" r=\"205\" fill=\"none\" stroke=\"black\" stroke-width=\"2\" stroke-dasharray=\"3,3\"/> <circle cx=\"209\" cy=\"97\" r=\"11\" fill=\"rgb(255,255,255)\" class=\"agent_1_2\"/><circle cx=\"58\" cy=\"202\" r=\"11\" fill=\"rgb(255,255,255)\" class=\"agent_1_5\"/><circle cx=\"222\" cy=\"267\" r=\"11\" fill=\"rgb(255,255,255)\" class=\"agent_1_12\"/><circle cx=\"273\" cy=\"290\" r=\"12\" fill=\"rgb(255,0,0)\" class=\"agent_1_27\"/><circle cx=\"284\" cy=\"29\" r=\"12\" fill=\"rgb(255,255,255)\" class=\"agent_1_37\"/><circle cx=\"378\" cy=\"269\" r=\"9\" fill=\"rgb(255,255,255)\" class=\"agent_1_48\"/><circle cx=\"402\" cy=\"227\" r=\"7\" fill=\"rgb(255,255,255)\" class=\"agent_1_57\"/></svg><svg viewBox='0 0 430 430' id=\"svg\" width=\"172\" height=\"172\"><circle cx=\"215\" cy=\"215\" r=\"205\" fill=\"none\" stroke=\"black\" stroke-width=\"2\" stroke-dasharray=\"3,3\"/> <circle cx=\"209\" cy=\"97\" r=\"11\" fill=\"rgb(255,255,255)\" class=\"agent_1_2\"/><circle cx=\"58\" cy=\"202\" r=\"11\" fill=\"rgb(255,255,255)\" class=\"agent_1_5\"/><circle cx=\"222\" cy=\"267\" r=\"11\" fill=\"rgb(255,0,0)\" class=\"agent_1_12\"/><circle cx=\"273\" cy=\"290\" r=\"12\" fill=\"rgb(255,0,0)\" class=\"agent_1_27\"/><circle cx=\"284\" cy=\"29\" r=\"12\" fill=\"rgb(255,255,255)\" class=\"agent_1_37\"/><circle cx=\"378\" cy=\"269\" r=\"9\" fill=\"rgb(255,255,255)\" class=\"agent_1_48\"/><circle cx=\"402\" cy=\"227\" r=\"7\" fill=\"rgb(255,255,255)\" class=\"agent_1_57\"/></svg></div>"
      ],
      "text/plain": [
       "<IPython.core.display.HTML object>"
      ]
     },
     "metadata": {},
     "output_type": "display_data"
    },
    {
     "name": "stdout",
     "output_type": "stream",
     "text": [
      "\n",
      "----------------------------------------\n",
      "\n"
     ]
    }
   ],
   "source": [
    "force_contexts_and_mentions(2)"
   ]
  },
  {
   "cell_type": "code",
   "execution_count": 51,
   "metadata": {
    "scrolled": false
   },
   "outputs": [
    {
     "name": "stdout",
     "output_type": "stream",
     "text": [
      "human\tTHEM: one large black with a tiny light grey above and slightly left ? <eos>\n",
      "partner_refs_pred\n"
     ]
    },
    {
     "data": {
      "text/html": [
       "<div style=\"white-space: nowrap\"><svg viewbox='0 0 430 430' width=\"172\" height=\"172\" id=\"agent_0\"><circle cx=\"215\" cy=\"215\" r=\"205\" fill=\"none\" stroke=\"black\" stroke-width=\"2\" stroke-dasharray=\"3,3\"/><circle cx=\"242\" cy=\"130\" r=\"13\" fill=\"rgb(114,114,114)\"/><circle cx=\"347\" cy=\"104\" r=\"9\" fill=\"rgb(177,177,177)\"/><circle cx=\"162\" cy=\"310\" r=\"12\" fill=\"rgb(65,65,65)\"/><circle cx=\"78\" cy=\"179\" r=\"10\" fill=\"rgb(106,106,106)\"/><circle cx=\"348\" cy=\"302\" r=\"12\" fill=\"rgb(86,86,86)\"/><circle cx=\"146\" cy=\"238\" r=\"8\" fill=\"rgb(190,190,190)\"/><circle cx=\"232\" cy=\"405\" r=\"11\" fill=\"rgb(54,54,54)\"/></svg><svg viewBox='0 0 430 430' id=\"svg\" width=\"172\" height=\"172\"><circle cx=\"215\" cy=\"215\" r=\"205\" fill=\"none\" stroke=\"black\" stroke-width=\"2\" stroke-dasharray=\"3,3\"/> <circle cx=\"242\" cy=\"130\" r=\"13\" fill=\"rgb(255,255,255)\" class=\"agent_0_14\"/><circle cx=\"347\" cy=\"104\" r=\"9\" fill=\"rgb(255,255,255)\" class=\"agent_0_19\"/><circle cx=\"162\" cy=\"310\" r=\"12\" fill=\"rgb(255,0,0)\" class=\"agent_0_32\"/><circle cx=\"78\" cy=\"179\" r=\"10\" fill=\"rgb(255,255,255)\" class=\"agent_0_46\"/><circle cx=\"348\" cy=\"302\" r=\"12\" fill=\"rgb(255,255,255)\" class=\"agent_0_51\"/><circle cx=\"146\" cy=\"238\" r=\"8\" fill=\"rgb(255,255,255)\" class=\"agent_0_52\"/><circle cx=\"232\" cy=\"405\" r=\"11\" fill=\"rgb(255,255,255)\" class=\"agent_0_77\"/></svg><svg viewBox='0 0 430 430' id=\"svg\" width=\"172\" height=\"172\"><circle cx=\"215\" cy=\"215\" r=\"205\" fill=\"none\" stroke=\"black\" stroke-width=\"2\" stroke-dasharray=\"3,3\"/> <circle cx=\"242\" cy=\"130\" r=\"13\" fill=\"rgb(255,255,255)\" class=\"agent_0_14\"/><circle cx=\"347\" cy=\"104\" r=\"9\" fill=\"rgb(255,255,255)\" class=\"agent_0_19\"/><circle cx=\"162\" cy=\"310\" r=\"12\" fill=\"rgb(255,255,255)\" class=\"agent_0_32\"/><circle cx=\"78\" cy=\"179\" r=\"10\" fill=\"rgb(255,255,255)\" class=\"agent_0_46\"/><circle cx=\"348\" cy=\"302\" r=\"12\" fill=\"rgb(255,255,255)\" class=\"agent_0_51\"/><circle cx=\"146\" cy=\"238\" r=\"8\" fill=\"rgb(255,0,0)\" class=\"agent_0_52\"/><circle cx=\"232\" cy=\"405\" r=\"11\" fill=\"rgb(255,255,255)\" class=\"agent_0_77\"/></svg></div>"
      ],
      "text/plain": [
       "<IPython.core.display.HTML object>"
      ]
     },
     "metadata": {},
     "output_type": "display_data"
    },
    {
     "name": "stdout",
     "output_type": "stream",
     "text": [
      "partner_refs_true\n"
     ]
    },
    {
     "data": {
      "text/html": [
       "<div style=\"white-space: nowrap\"><svg viewbox='0 0 430 430' width=\"172\" height=\"172\" id=\"agent_0\"><circle cx=\"215\" cy=\"215\" r=\"205\" fill=\"none\" stroke=\"black\" stroke-width=\"2\" stroke-dasharray=\"3,3\"/><circle cx=\"242\" cy=\"130\" r=\"13\" fill=\"rgb(114,114,114)\"/><circle cx=\"347\" cy=\"104\" r=\"9\" fill=\"rgb(177,177,177)\"/><circle cx=\"162\" cy=\"310\" r=\"12\" fill=\"rgb(65,65,65)\"/><circle cx=\"78\" cy=\"179\" r=\"10\" fill=\"rgb(106,106,106)\"/><circle cx=\"348\" cy=\"302\" r=\"12\" fill=\"rgb(86,86,86)\"/><circle cx=\"146\" cy=\"238\" r=\"8\" fill=\"rgb(190,190,190)\"/><circle cx=\"232\" cy=\"405\" r=\"11\" fill=\"rgb(54,54,54)\"/></svg><svg viewBox='0 0 430 430' id=\"svg\" width=\"172\" height=\"172\"><circle cx=\"215\" cy=\"215\" r=\"205\" fill=\"none\" stroke=\"black\" stroke-width=\"2\" stroke-dasharray=\"3,3\"/> <circle cx=\"242\" cy=\"130\" r=\"13\" fill=\"rgb(255,255,255)\" class=\"agent_0_14\"/><circle cx=\"347\" cy=\"104\" r=\"9\" fill=\"rgb(255,255,255)\" class=\"agent_0_19\"/><circle cx=\"162\" cy=\"310\" r=\"12\" fill=\"rgb(255,0,0)\" class=\"agent_0_32\"/><circle cx=\"78\" cy=\"179\" r=\"10\" fill=\"rgb(255,255,255)\" class=\"agent_0_46\"/><circle cx=\"348\" cy=\"302\" r=\"12\" fill=\"rgb(255,255,255)\" class=\"agent_0_51\"/><circle cx=\"146\" cy=\"238\" r=\"8\" fill=\"rgb(255,255,255)\" class=\"agent_0_52\"/><circle cx=\"232\" cy=\"405\" r=\"11\" fill=\"rgb(255,255,255)\" class=\"agent_0_77\"/></svg><svg viewBox='0 0 430 430' id=\"svg\" width=\"172\" height=\"172\"><circle cx=\"215\" cy=\"215\" r=\"205\" fill=\"none\" stroke=\"black\" stroke-width=\"2\" stroke-dasharray=\"3,3\"/> <circle cx=\"242\" cy=\"130\" r=\"13\" fill=\"rgb(255,255,255)\" class=\"agent_0_14\"/><circle cx=\"347\" cy=\"104\" r=\"9\" fill=\"rgb(255,255,255)\" class=\"agent_0_19\"/><circle cx=\"162\" cy=\"310\" r=\"12\" fill=\"rgb(255,255,255)\" class=\"agent_0_32\"/><circle cx=\"78\" cy=\"179\" r=\"10\" fill=\"rgb(255,255,255)\" class=\"agent_0_46\"/><circle cx=\"348\" cy=\"302\" r=\"12\" fill=\"rgb(255,255,255)\" class=\"agent_0_51\"/><circle cx=\"146\" cy=\"238\" r=\"8\" fill=\"rgb(255,0,0)\" class=\"agent_0_52\"/><circle cx=\"232\" cy=\"405\" r=\"11\" fill=\"rgb(255,255,255)\" class=\"agent_0_77\"/></svg></div>"
      ],
      "text/plain": [
       "<IPython.core.display.HTML object>"
      ]
     },
     "metadata": {},
     "output_type": "display_data"
    },
    {
     "name": "stdout",
     "output_type": "stream",
     "text": [
      "\n",
      "----------------------------------------\n",
      "\n",
      "to_mention_true\n"
     ]
    },
    {
     "data": {
      "text/html": [
       "<div style=\"white-space: nowrap\"><svg viewbox='0 0 430 430' width=\"172\" height=\"172\" id=\"agent_0\"><circle cx=\"215\" cy=\"215\" r=\"205\" fill=\"none\" stroke=\"black\" stroke-width=\"2\" stroke-dasharray=\"3,3\"/><circle cx=\"242\" cy=\"130\" r=\"13\" fill=\"rgb(114,114,114)\"/><circle cx=\"347\" cy=\"104\" r=\"9\" fill=\"rgb(177,177,177)\"/><circle cx=\"162\" cy=\"310\" r=\"12\" fill=\"rgb(65,65,65)\"/><circle cx=\"78\" cy=\"179\" r=\"10\" fill=\"rgb(106,106,106)\"/><circle cx=\"348\" cy=\"302\" r=\"12\" fill=\"rgb(86,86,86)\"/><circle cx=\"146\" cy=\"238\" r=\"8\" fill=\"rgb(190,190,190)\"/><circle cx=\"232\" cy=\"405\" r=\"11\" fill=\"rgb(54,54,54)\"/></svg><svg viewBox='0 0 430 430' id=\"svg\" width=\"172\" height=\"172\"><circle cx=\"215\" cy=\"215\" r=\"205\" fill=\"none\" stroke=\"black\" stroke-width=\"2\" stroke-dasharray=\"3,3\"/> <circle cx=\"242\" cy=\"130\" r=\"13\" fill=\"rgb(255,255,255)\" class=\"agent_0_14\"/><circle cx=\"347\" cy=\"104\" r=\"9\" fill=\"rgb(255,255,255)\" class=\"agent_0_19\"/><circle cx=\"162\" cy=\"310\" r=\"12\" fill=\"rgb(255,0,0)\" class=\"agent_0_32\"/><circle cx=\"78\" cy=\"179\" r=\"10\" fill=\"rgb(255,255,255)\" class=\"agent_0_46\"/><circle cx=\"348\" cy=\"302\" r=\"12\" fill=\"rgb(255,255,255)\" class=\"agent_0_51\"/><circle cx=\"146\" cy=\"238\" r=\"8\" fill=\"rgb(255,255,255)\" class=\"agent_0_52\"/><circle cx=\"232\" cy=\"405\" r=\"11\" fill=\"rgb(255,255,255)\" class=\"agent_0_77\"/></svg><svg viewBox='0 0 430 430' id=\"svg\" width=\"172\" height=\"172\"><circle cx=\"215\" cy=\"215\" r=\"205\" fill=\"none\" stroke=\"black\" stroke-width=\"2\" stroke-dasharray=\"3,3\"/> <circle cx=\"242\" cy=\"130\" r=\"13\" fill=\"rgb(255,255,255)\" class=\"agent_0_14\"/><circle cx=\"347\" cy=\"104\" r=\"9\" fill=\"rgb(255,255,255)\" class=\"agent_0_19\"/><circle cx=\"162\" cy=\"310\" r=\"12\" fill=\"rgb(255,255,255)\" class=\"agent_0_32\"/><circle cx=\"78\" cy=\"179\" r=\"10\" fill=\"rgb(255,255,255)\" class=\"agent_0_46\"/><circle cx=\"348\" cy=\"302\" r=\"12\" fill=\"rgb(255,255,255)\" class=\"agent_0_51\"/><circle cx=\"146\" cy=\"238\" r=\"8\" fill=\"rgb(255,0,0)\" class=\"agent_0_52\"/><circle cx=\"232\" cy=\"405\" r=\"11\" fill=\"rgb(255,255,255)\" class=\"agent_0_77\"/></svg></div>"
      ],
      "text/plain": [
       "<IPython.core.display.HTML object>"
      ]
     },
     "metadata": {},
     "output_type": "display_data"
    },
    {
     "name": "stdout",
     "output_type": "stream",
     "text": [
      "beam 0\tyes , i have that . is there a small light grey dot to the left of the large black dot ?\n",
      "greedy\tyes , i have that . is there a small light grey dot to the left of the large black dot ? <eos>\n",
      "human\tlarge black dot with a tiny light dot ... yep u <unk> me to it ! <eos>\n",
      "refs_pred\n"
     ]
    },
    {
     "data": {
      "text/html": [
       "<div style=\"white-space: nowrap\"><svg viewbox='0 0 430 430' width=\"172\" height=\"172\" id=\"agent_0\"><circle cx=\"215\" cy=\"215\" r=\"205\" fill=\"none\" stroke=\"black\" stroke-width=\"2\" stroke-dasharray=\"3,3\"/><circle cx=\"242\" cy=\"130\" r=\"13\" fill=\"rgb(114,114,114)\"/><circle cx=\"347\" cy=\"104\" r=\"9\" fill=\"rgb(177,177,177)\"/><circle cx=\"162\" cy=\"310\" r=\"12\" fill=\"rgb(65,65,65)\"/><circle cx=\"78\" cy=\"179\" r=\"10\" fill=\"rgb(106,106,106)\"/><circle cx=\"348\" cy=\"302\" r=\"12\" fill=\"rgb(86,86,86)\"/><circle cx=\"146\" cy=\"238\" r=\"8\" fill=\"rgb(190,190,190)\"/><circle cx=\"232\" cy=\"405\" r=\"11\" fill=\"rgb(54,54,54)\"/></svg><svg viewBox='0 0 430 430' id=\"svg\" width=\"172\" height=\"172\"><circle cx=\"215\" cy=\"215\" r=\"205\" fill=\"none\" stroke=\"black\" stroke-width=\"2\" stroke-dasharray=\"3,3\"/> <circle cx=\"242\" cy=\"130\" r=\"13\" fill=\"rgb(255,255,255)\" class=\"agent_0_14\"/><circle cx=\"347\" cy=\"104\" r=\"9\" fill=\"rgb(255,255,255)\" class=\"agent_0_19\"/><circle cx=\"162\" cy=\"310\" r=\"12\" fill=\"rgb(255,0,0)\" class=\"agent_0_32\"/><circle cx=\"78\" cy=\"179\" r=\"10\" fill=\"rgb(255,255,255)\" class=\"agent_0_46\"/><circle cx=\"348\" cy=\"302\" r=\"12\" fill=\"rgb(255,255,255)\" class=\"agent_0_51\"/><circle cx=\"146\" cy=\"238\" r=\"8\" fill=\"rgb(255,255,255)\" class=\"agent_0_52\"/><circle cx=\"232\" cy=\"405\" r=\"11\" fill=\"rgb(255,255,255)\" class=\"agent_0_77\"/></svg><svg viewBox='0 0 430 430' id=\"svg\" width=\"172\" height=\"172\"><circle cx=\"215\" cy=\"215\" r=\"205\" fill=\"none\" stroke=\"black\" stroke-width=\"2\" stroke-dasharray=\"3,3\"/> <circle cx=\"242\" cy=\"130\" r=\"13\" fill=\"rgb(255,255,255)\" class=\"agent_0_14\"/><circle cx=\"347\" cy=\"104\" r=\"9\" fill=\"rgb(255,255,255)\" class=\"agent_0_19\"/><circle cx=\"162\" cy=\"310\" r=\"12\" fill=\"rgb(255,255,255)\" class=\"agent_0_32\"/><circle cx=\"78\" cy=\"179\" r=\"10\" fill=\"rgb(255,255,255)\" class=\"agent_0_46\"/><circle cx=\"348\" cy=\"302\" r=\"12\" fill=\"rgb(255,255,255)\" class=\"agent_0_51\"/><circle cx=\"146\" cy=\"238\" r=\"8\" fill=\"rgb(255,0,0)\" class=\"agent_0_52\"/><circle cx=\"232\" cy=\"405\" r=\"11\" fill=\"rgb(255,255,255)\" class=\"agent_0_77\"/></svg></div>"
      ],
      "text/plain": [
       "<IPython.core.display.HTML object>"
      ]
     },
     "metadata": {},
     "output_type": "display_data"
    },
    {
     "name": "stdout",
     "output_type": "stream",
     "text": [
      "refs_true\n"
     ]
    },
    {
     "data": {
      "text/html": [
       "<div style=\"white-space: nowrap\"><svg viewbox='0 0 430 430' width=\"172\" height=\"172\" id=\"agent_0\"><circle cx=\"215\" cy=\"215\" r=\"205\" fill=\"none\" stroke=\"black\" stroke-width=\"2\" stroke-dasharray=\"3,3\"/><circle cx=\"242\" cy=\"130\" r=\"13\" fill=\"rgb(114,114,114)\"/><circle cx=\"347\" cy=\"104\" r=\"9\" fill=\"rgb(177,177,177)\"/><circle cx=\"162\" cy=\"310\" r=\"12\" fill=\"rgb(65,65,65)\"/><circle cx=\"78\" cy=\"179\" r=\"10\" fill=\"rgb(106,106,106)\"/><circle cx=\"348\" cy=\"302\" r=\"12\" fill=\"rgb(86,86,86)\"/><circle cx=\"146\" cy=\"238\" r=\"8\" fill=\"rgb(190,190,190)\"/><circle cx=\"232\" cy=\"405\" r=\"11\" fill=\"rgb(54,54,54)\"/></svg><svg viewBox='0 0 430 430' id=\"svg\" width=\"172\" height=\"172\"><circle cx=\"215\" cy=\"215\" r=\"205\" fill=\"none\" stroke=\"black\" stroke-width=\"2\" stroke-dasharray=\"3,3\"/> <circle cx=\"242\" cy=\"130\" r=\"13\" fill=\"rgb(255,255,255)\" class=\"agent_0_14\"/><circle cx=\"347\" cy=\"104\" r=\"9\" fill=\"rgb(255,255,255)\" class=\"agent_0_19\"/><circle cx=\"162\" cy=\"310\" r=\"12\" fill=\"rgb(255,0,0)\" class=\"agent_0_32\"/><circle cx=\"78\" cy=\"179\" r=\"10\" fill=\"rgb(255,255,255)\" class=\"agent_0_46\"/><circle cx=\"348\" cy=\"302\" r=\"12\" fill=\"rgb(255,255,255)\" class=\"agent_0_51\"/><circle cx=\"146\" cy=\"238\" r=\"8\" fill=\"rgb(255,255,255)\" class=\"agent_0_52\"/><circle cx=\"232\" cy=\"405\" r=\"11\" fill=\"rgb(255,255,255)\" class=\"agent_0_77\"/></svg><svg viewBox='0 0 430 430' id=\"svg\" width=\"172\" height=\"172\"><circle cx=\"215\" cy=\"215\" r=\"205\" fill=\"none\" stroke=\"black\" stroke-width=\"2\" stroke-dasharray=\"3,3\"/> <circle cx=\"242\" cy=\"130\" r=\"13\" fill=\"rgb(255,255,255)\" class=\"agent_0_14\"/><circle cx=\"347\" cy=\"104\" r=\"9\" fill=\"rgb(255,255,255)\" class=\"agent_0_19\"/><circle cx=\"162\" cy=\"310\" r=\"12\" fill=\"rgb(255,255,255)\" class=\"agent_0_32\"/><circle cx=\"78\" cy=\"179\" r=\"10\" fill=\"rgb(255,255,255)\" class=\"agent_0_46\"/><circle cx=\"348\" cy=\"302\" r=\"12\" fill=\"rgb(255,255,255)\" class=\"agent_0_51\"/><circle cx=\"146\" cy=\"238\" r=\"8\" fill=\"rgb(255,0,0)\" class=\"agent_0_52\"/><circle cx=\"232\" cy=\"405\" r=\"11\" fill=\"rgb(255,255,255)\" class=\"agent_0_77\"/></svg></div>"
      ],
      "text/plain": [
       "<IPython.core.display.HTML object>"
      ]
     },
     "metadata": {},
     "output_type": "display_data"
    },
    {
     "name": "stdout",
     "output_type": "stream",
     "text": [
      "\n",
      "----------------------------------------\n",
      "\n",
      "human\tTHEM: = ) let 's choose the tiny grey . = ) <selection>\n",
      "partner_refs_pred\n"
     ]
    },
    {
     "data": {
      "text/html": [
       "<div style=\"white-space: nowrap\"><svg viewbox='0 0 430 430' width=\"172\" height=\"172\" id=\"agent_0\"><circle cx=\"215\" cy=\"215\" r=\"205\" fill=\"none\" stroke=\"black\" stroke-width=\"2\" stroke-dasharray=\"3,3\"/><circle cx=\"242\" cy=\"130\" r=\"13\" fill=\"rgb(114,114,114)\"/><circle cx=\"347\" cy=\"104\" r=\"9\" fill=\"rgb(177,177,177)\"/><circle cx=\"162\" cy=\"310\" r=\"12\" fill=\"rgb(65,65,65)\"/><circle cx=\"78\" cy=\"179\" r=\"10\" fill=\"rgb(106,106,106)\"/><circle cx=\"348\" cy=\"302\" r=\"12\" fill=\"rgb(86,86,86)\"/><circle cx=\"146\" cy=\"238\" r=\"8\" fill=\"rgb(190,190,190)\"/><circle cx=\"232\" cy=\"405\" r=\"11\" fill=\"rgb(54,54,54)\"/></svg><svg viewBox='0 0 430 430' id=\"svg\" width=\"172\" height=\"172\"><circle cx=\"215\" cy=\"215\" r=\"205\" fill=\"none\" stroke=\"black\" stroke-width=\"2\" stroke-dasharray=\"3,3\"/> <circle cx=\"242\" cy=\"130\" r=\"13\" fill=\"rgb(255,255,255)\" class=\"agent_0_14\"/><circle cx=\"347\" cy=\"104\" r=\"9\" fill=\"rgb(255,255,255)\" class=\"agent_0_19\"/><circle cx=\"162\" cy=\"310\" r=\"12\" fill=\"rgb(255,255,255)\" class=\"agent_0_32\"/><circle cx=\"78\" cy=\"179\" r=\"10\" fill=\"rgb(255,255,255)\" class=\"agent_0_46\"/><circle cx=\"348\" cy=\"302\" r=\"12\" fill=\"rgb(255,255,255)\" class=\"agent_0_51\"/><circle cx=\"146\" cy=\"238\" r=\"8\" fill=\"rgb(255,0,0)\" class=\"agent_0_52\"/><circle cx=\"232\" cy=\"405\" r=\"11\" fill=\"rgb(255,255,255)\" class=\"agent_0_77\"/></svg></div>"
      ],
      "text/plain": [
       "<IPython.core.display.HTML object>"
      ]
     },
     "metadata": {},
     "output_type": "display_data"
    },
    {
     "name": "stdout",
     "output_type": "stream",
     "text": [
      "partner_refs_true\n"
     ]
    },
    {
     "data": {
      "text/html": [
       "<div style=\"white-space: nowrap\"><svg viewbox='0 0 430 430' width=\"172\" height=\"172\" id=\"agent_0\"><circle cx=\"215\" cy=\"215\" r=\"205\" fill=\"none\" stroke=\"black\" stroke-width=\"2\" stroke-dasharray=\"3,3\"/><circle cx=\"242\" cy=\"130\" r=\"13\" fill=\"rgb(114,114,114)\"/><circle cx=\"347\" cy=\"104\" r=\"9\" fill=\"rgb(177,177,177)\"/><circle cx=\"162\" cy=\"310\" r=\"12\" fill=\"rgb(65,65,65)\"/><circle cx=\"78\" cy=\"179\" r=\"10\" fill=\"rgb(106,106,106)\"/><circle cx=\"348\" cy=\"302\" r=\"12\" fill=\"rgb(86,86,86)\"/><circle cx=\"146\" cy=\"238\" r=\"8\" fill=\"rgb(190,190,190)\"/><circle cx=\"232\" cy=\"405\" r=\"11\" fill=\"rgb(54,54,54)\"/></svg><svg viewBox='0 0 430 430' id=\"svg\" width=\"172\" height=\"172\"><circle cx=\"215\" cy=\"215\" r=\"205\" fill=\"none\" stroke=\"black\" stroke-width=\"2\" stroke-dasharray=\"3,3\"/> <circle cx=\"242\" cy=\"130\" r=\"13\" fill=\"rgb(255,255,255)\" class=\"agent_0_14\"/><circle cx=\"347\" cy=\"104\" r=\"9\" fill=\"rgb(255,255,255)\" class=\"agent_0_19\"/><circle cx=\"162\" cy=\"310\" r=\"12\" fill=\"rgb(255,255,255)\" class=\"agent_0_32\"/><circle cx=\"78\" cy=\"179\" r=\"10\" fill=\"rgb(255,255,255)\" class=\"agent_0_46\"/><circle cx=\"348\" cy=\"302\" r=\"12\" fill=\"rgb(255,255,255)\" class=\"agent_0_51\"/><circle cx=\"146\" cy=\"238\" r=\"8\" fill=\"rgb(255,0,0)\" class=\"agent_0_52\"/><circle cx=\"232\" cy=\"405\" r=\"11\" fill=\"rgb(255,255,255)\" class=\"agent_0_77\"/></svg></div>"
      ],
      "text/plain": [
       "<IPython.core.display.HTML object>"
      ]
     },
     "metadata": {},
     "output_type": "display_data"
    },
    {
     "name": "stdout",
     "output_type": "stream",
     "text": [
      "\n",
      "----------------------------------------\n",
      "\n"
     ]
    }
   ],
   "source": [
    "force_contexts_and_mentions(3, candidates=1)"
   ]
  },
  {
   "cell_type": "code",
   "execution_count": 52,
   "metadata": {
    "scrolled": false
   },
   "outputs": [
    {
     "name": "stdout",
     "output_type": "stream",
     "text": [
      "to_mention_true\n"
     ]
    },
    {
     "data": {
      "text/html": [
       "<div style=\"white-space: nowrap\"><svg viewbox='0 0 430 430' width=\"172\" height=\"172\" id=\"agent_1\"><circle cx=\"215\" cy=\"215\" r=\"205\" fill=\"none\" stroke=\"black\" stroke-width=\"2\" stroke-dasharray=\"3,3\"/><circle cx=\"108\" cy=\"303\" r=\"9\" fill=\"rgb(174,174,174)\"/><circle cx=\"248\" cy=\"103\" r=\"11\" fill=\"rgb(119,119,119)\"/><circle cx=\"331\" cy=\"231\" r=\"7\" fill=\"rgb(67,67,67)\"/><circle cx=\"88\" cy=\"69\" r=\"12\" fill=\"rgb(185,185,185)\"/><circle cx=\"205\" cy=\"97\" r=\"11\" fill=\"rgb(160,160,160)\"/><circle cx=\"377\" cy=\"319\" r=\"9\" fill=\"rgb(200,200,200)\"/><circle cx=\"290\" cy=\"338\" r=\"10\" fill=\"rgb(170,170,170)\"/></svg><svg viewBox='0 0 430 430' id=\"svg\" width=\"172\" height=\"172\"><circle cx=\"215\" cy=\"215\" r=\"205\" fill=\"none\" stroke=\"black\" stroke-width=\"2\" stroke-dasharray=\"3,3\"/> <circle cx=\"108\" cy=\"303\" r=\"9\" fill=\"rgb(255,255,255)\" class=\"agent_1_0\"/><circle cx=\"248\" cy=\"103\" r=\"11\" fill=\"rgb(255,255,255)\" class=\"agent_1_1\"/><circle cx=\"331\" cy=\"231\" r=\"7\" fill=\"rgb(255,0,0)\" class=\"agent_1_15\"/><circle cx=\"88\" cy=\"69\" r=\"12\" fill=\"rgb(255,255,255)\" class=\"agent_1_32\"/><circle cx=\"205\" cy=\"97\" r=\"11\" fill=\"rgb(255,255,255)\" class=\"agent_1_38\"/><circle cx=\"377\" cy=\"319\" r=\"9\" fill=\"rgb(255,255,255)\" class=\"agent_1_44\"/><circle cx=\"290\" cy=\"338\" r=\"10\" fill=\"rgb(255,255,255)\" class=\"agent_1_68\"/></svg><svg viewBox='0 0 430 430' id=\"svg\" width=\"172\" height=\"172\"><circle cx=\"215\" cy=\"215\" r=\"205\" fill=\"none\" stroke=\"black\" stroke-width=\"2\" stroke-dasharray=\"3,3\"/> <circle cx=\"108\" cy=\"303\" r=\"9\" fill=\"rgb(255,0,0)\" class=\"agent_1_0\"/><circle cx=\"248\" cy=\"103\" r=\"11\" fill=\"rgb(255,0,0)\" class=\"agent_1_1\"/><circle cx=\"331\" cy=\"231\" r=\"7\" fill=\"rgb(255,0,0)\" class=\"agent_1_15\"/><circle cx=\"88\" cy=\"69\" r=\"12\" fill=\"rgb(255,0,0)\" class=\"agent_1_32\"/><circle cx=\"205\" cy=\"97\" r=\"11\" fill=\"rgb(255,0,0)\" class=\"agent_1_38\"/><circle cx=\"377\" cy=\"319\" r=\"9\" fill=\"rgb(255,0,0)\" class=\"agent_1_44\"/><circle cx=\"290\" cy=\"338\" r=\"10\" fill=\"rgb(255,0,0)\" class=\"agent_1_68\"/></svg></div>"
      ],
      "text/plain": [
       "<IPython.core.display.HTML object>"
      ]
     },
     "metadata": {},
     "output_type": "display_data"
    },
    {
     "name": "stdout",
     "output_type": "stream",
     "text": [
      "beam 0\ti have one small black dot in the middle of the other dots\n",
      "greedy\ti have one small black dot in the middle of the other dots <eos>\n",
      "human\tdo you have a small black dot , darkest one out of all of them ? <eos>\n",
      "refs_pred\n"
     ]
    },
    {
     "data": {
      "text/html": [
       "<div style=\"white-space: nowrap\"><svg viewbox='0 0 430 430' width=\"172\" height=\"172\" id=\"agent_1\"><circle cx=\"215\" cy=\"215\" r=\"205\" fill=\"none\" stroke=\"black\" stroke-width=\"2\" stroke-dasharray=\"3,3\"/><circle cx=\"108\" cy=\"303\" r=\"9\" fill=\"rgb(174,174,174)\"/><circle cx=\"248\" cy=\"103\" r=\"11\" fill=\"rgb(119,119,119)\"/><circle cx=\"331\" cy=\"231\" r=\"7\" fill=\"rgb(67,67,67)\"/><circle cx=\"88\" cy=\"69\" r=\"12\" fill=\"rgb(185,185,185)\"/><circle cx=\"205\" cy=\"97\" r=\"11\" fill=\"rgb(160,160,160)\"/><circle cx=\"377\" cy=\"319\" r=\"9\" fill=\"rgb(200,200,200)\"/><circle cx=\"290\" cy=\"338\" r=\"10\" fill=\"rgb(170,170,170)\"/></svg><svg viewBox='0 0 430 430' id=\"svg\" width=\"172\" height=\"172\"><circle cx=\"215\" cy=\"215\" r=\"205\" fill=\"none\" stroke=\"black\" stroke-width=\"2\" stroke-dasharray=\"3,3\"/> <circle cx=\"108\" cy=\"303\" r=\"9\" fill=\"rgb(255,255,255)\" class=\"agent_1_0\"/><circle cx=\"248\" cy=\"103\" r=\"11\" fill=\"rgb(255,255,255)\" class=\"agent_1_1\"/><circle cx=\"331\" cy=\"231\" r=\"7\" fill=\"rgb(255,0,0)\" class=\"agent_1_15\"/><circle cx=\"88\" cy=\"69\" r=\"12\" fill=\"rgb(255,255,255)\" class=\"agent_1_32\"/><circle cx=\"205\" cy=\"97\" r=\"11\" fill=\"rgb(255,255,255)\" class=\"agent_1_38\"/><circle cx=\"377\" cy=\"319\" r=\"9\" fill=\"rgb(255,255,255)\" class=\"agent_1_44\"/><circle cx=\"290\" cy=\"338\" r=\"10\" fill=\"rgb(255,255,255)\" class=\"agent_1_68\"/></svg><svg viewBox='0 0 430 430' id=\"svg\" width=\"172\" height=\"172\"><circle cx=\"215\" cy=\"215\" r=\"205\" fill=\"none\" stroke=\"black\" stroke-width=\"2\" stroke-dasharray=\"3,3\"/> <circle cx=\"108\" cy=\"303\" r=\"9\" fill=\"rgb(255,0,0)\" class=\"agent_1_0\"/><circle cx=\"248\" cy=\"103\" r=\"11\" fill=\"rgb(255,0,0)\" class=\"agent_1_1\"/><circle cx=\"331\" cy=\"231\" r=\"7\" fill=\"rgb(255,0,0)\" class=\"agent_1_15\"/><circle cx=\"88\" cy=\"69\" r=\"12\" fill=\"rgb(255,255,255)\" class=\"agent_1_32\"/><circle cx=\"205\" cy=\"97\" r=\"11\" fill=\"rgb(255,0,0)\" class=\"agent_1_38\"/><circle cx=\"377\" cy=\"319\" r=\"9\" fill=\"rgb(255,0,0)\" class=\"agent_1_44\"/><circle cx=\"290\" cy=\"338\" r=\"10\" fill=\"rgb(255,0,0)\" class=\"agent_1_68\"/></svg></div>"
      ],
      "text/plain": [
       "<IPython.core.display.HTML object>"
      ]
     },
     "metadata": {},
     "output_type": "display_data"
    },
    {
     "name": "stdout",
     "output_type": "stream",
     "text": [
      "refs_true\n"
     ]
    },
    {
     "data": {
      "text/html": [
       "<div style=\"white-space: nowrap\"><svg viewbox='0 0 430 430' width=\"172\" height=\"172\" id=\"agent_1\"><circle cx=\"215\" cy=\"215\" r=\"205\" fill=\"none\" stroke=\"black\" stroke-width=\"2\" stroke-dasharray=\"3,3\"/><circle cx=\"108\" cy=\"303\" r=\"9\" fill=\"rgb(174,174,174)\"/><circle cx=\"248\" cy=\"103\" r=\"11\" fill=\"rgb(119,119,119)\"/><circle cx=\"331\" cy=\"231\" r=\"7\" fill=\"rgb(67,67,67)\"/><circle cx=\"88\" cy=\"69\" r=\"12\" fill=\"rgb(185,185,185)\"/><circle cx=\"205\" cy=\"97\" r=\"11\" fill=\"rgb(160,160,160)\"/><circle cx=\"377\" cy=\"319\" r=\"9\" fill=\"rgb(200,200,200)\"/><circle cx=\"290\" cy=\"338\" r=\"10\" fill=\"rgb(170,170,170)\"/></svg><svg viewBox='0 0 430 430' id=\"svg\" width=\"172\" height=\"172\"><circle cx=\"215\" cy=\"215\" r=\"205\" fill=\"none\" stroke=\"black\" stroke-width=\"2\" stroke-dasharray=\"3,3\"/> <circle cx=\"108\" cy=\"303\" r=\"9\" fill=\"rgb(255,255,255)\" class=\"agent_1_0\"/><circle cx=\"248\" cy=\"103\" r=\"11\" fill=\"rgb(255,255,255)\" class=\"agent_1_1\"/><circle cx=\"331\" cy=\"231\" r=\"7\" fill=\"rgb(255,0,0)\" class=\"agent_1_15\"/><circle cx=\"88\" cy=\"69\" r=\"12\" fill=\"rgb(255,255,255)\" class=\"agent_1_32\"/><circle cx=\"205\" cy=\"97\" r=\"11\" fill=\"rgb(255,255,255)\" class=\"agent_1_38\"/><circle cx=\"377\" cy=\"319\" r=\"9\" fill=\"rgb(255,255,255)\" class=\"agent_1_44\"/><circle cx=\"290\" cy=\"338\" r=\"10\" fill=\"rgb(255,255,255)\" class=\"agent_1_68\"/></svg><svg viewBox='0 0 430 430' id=\"svg\" width=\"172\" height=\"172\"><circle cx=\"215\" cy=\"215\" r=\"205\" fill=\"none\" stroke=\"black\" stroke-width=\"2\" stroke-dasharray=\"3,3\"/> <circle cx=\"108\" cy=\"303\" r=\"9\" fill=\"rgb(255,0,0)\" class=\"agent_1_0\"/><circle cx=\"248\" cy=\"103\" r=\"11\" fill=\"rgb(255,0,0)\" class=\"agent_1_1\"/><circle cx=\"331\" cy=\"231\" r=\"7\" fill=\"rgb(255,0,0)\" class=\"agent_1_15\"/><circle cx=\"88\" cy=\"69\" r=\"12\" fill=\"rgb(255,0,0)\" class=\"agent_1_32\"/><circle cx=\"205\" cy=\"97\" r=\"11\" fill=\"rgb(255,0,0)\" class=\"agent_1_38\"/><circle cx=\"377\" cy=\"319\" r=\"9\" fill=\"rgb(255,0,0)\" class=\"agent_1_44\"/><circle cx=\"290\" cy=\"338\" r=\"10\" fill=\"rgb(255,0,0)\" class=\"agent_1_68\"/></svg></div>"
      ],
      "text/plain": [
       "<IPython.core.display.HTML object>"
      ]
     },
     "metadata": {},
     "output_type": "display_data"
    },
    {
     "name": "stdout",
     "output_type": "stream",
     "text": [
      "\n",
      "----------------------------------------\n",
      "\n",
      "human\tTHEM: i have 2 small black dots . one of the black dots is south of a few light grey dots . <eos>\n",
      "partner_refs_pred\n"
     ]
    },
    {
     "data": {
      "text/html": [
       "<div style=\"white-space: nowrap\"><svg viewbox='0 0 430 430' width=\"172\" height=\"172\" id=\"agent_1\"><circle cx=\"215\" cy=\"215\" r=\"205\" fill=\"none\" stroke=\"black\" stroke-width=\"2\" stroke-dasharray=\"3,3\"/><circle cx=\"108\" cy=\"303\" r=\"9\" fill=\"rgb(174,174,174)\"/><circle cx=\"248\" cy=\"103\" r=\"11\" fill=\"rgb(119,119,119)\"/><circle cx=\"331\" cy=\"231\" r=\"7\" fill=\"rgb(67,67,67)\"/><circle cx=\"88\" cy=\"69\" r=\"12\" fill=\"rgb(185,185,185)\"/><circle cx=\"205\" cy=\"97\" r=\"11\" fill=\"rgb(160,160,160)\"/><circle cx=\"377\" cy=\"319\" r=\"9\" fill=\"rgb(200,200,200)\"/><circle cx=\"290\" cy=\"338\" r=\"10\" fill=\"rgb(170,170,170)\"/></svg><svg viewBox='0 0 430 430' id=\"svg\" width=\"172\" height=\"172\"><circle cx=\"215\" cy=\"215\" r=\"205\" fill=\"none\" stroke=\"black\" stroke-width=\"2\" stroke-dasharray=\"3,3\"/> <circle cx=\"108\" cy=\"303\" r=\"9\" fill=\"rgb(255,255,255)\" class=\"agent_1_0\"/><circle cx=\"248\" cy=\"103\" r=\"11\" fill=\"rgb(255,255,255)\" class=\"agent_1_1\"/><circle cx=\"331\" cy=\"231\" r=\"7\" fill=\"rgb(255,0,0)\" class=\"agent_1_15\"/><circle cx=\"88\" cy=\"69\" r=\"12\" fill=\"rgb(255,255,255)\" class=\"agent_1_32\"/><circle cx=\"205\" cy=\"97\" r=\"11\" fill=\"rgb(255,255,255)\" class=\"agent_1_38\"/><circle cx=\"377\" cy=\"319\" r=\"9\" fill=\"rgb(255,255,255)\" class=\"agent_1_44\"/><circle cx=\"290\" cy=\"338\" r=\"10\" fill=\"rgb(255,255,255)\" class=\"agent_1_68\"/></svg><svg viewBox='0 0 430 430' id=\"svg\" width=\"172\" height=\"172\"><circle cx=\"215\" cy=\"215\" r=\"205\" fill=\"none\" stroke=\"black\" stroke-width=\"2\" stroke-dasharray=\"3,3\"/> <circle cx=\"108\" cy=\"303\" r=\"9\" fill=\"rgb(255,255,255)\" class=\"agent_1_0\"/><circle cx=\"248\" cy=\"103\" r=\"11\" fill=\"rgb(255,255,255)\" class=\"agent_1_1\"/><circle cx=\"331\" cy=\"231\" r=\"7\" fill=\"rgb(255,0,0)\" class=\"agent_1_15\"/><circle cx=\"88\" cy=\"69\" r=\"12\" fill=\"rgb(255,255,255)\" class=\"agent_1_32\"/><circle cx=\"205\" cy=\"97\" r=\"11\" fill=\"rgb(255,255,255)\" class=\"agent_1_38\"/><circle cx=\"377\" cy=\"319\" r=\"9\" fill=\"rgb(255,255,255)\" class=\"agent_1_44\"/><circle cx=\"290\" cy=\"338\" r=\"10\" fill=\"rgb(255,255,255)\" class=\"agent_1_68\"/></svg><svg viewBox='0 0 430 430' id=\"svg\" width=\"172\" height=\"172\"><circle cx=\"215\" cy=\"215\" r=\"205\" fill=\"none\" stroke=\"black\" stroke-width=\"2\" stroke-dasharray=\"3,3\"/> <circle cx=\"108\" cy=\"303\" r=\"9\" fill=\"rgb(255,0,0)\" class=\"agent_1_0\"/><circle cx=\"248\" cy=\"103\" r=\"11\" fill=\"rgb(255,255,255)\" class=\"agent_1_1\"/><circle cx=\"331\" cy=\"231\" r=\"7\" fill=\"rgb(255,255,255)\" class=\"agent_1_15\"/><circle cx=\"88\" cy=\"69\" r=\"12\" fill=\"rgb(255,255,255)\" class=\"agent_1_32\"/><circle cx=\"205\" cy=\"97\" r=\"11\" fill=\"rgb(255,255,255)\" class=\"agent_1_38\"/><circle cx=\"377\" cy=\"319\" r=\"9\" fill=\"rgb(255,0,0)\" class=\"agent_1_44\"/><circle cx=\"290\" cy=\"338\" r=\"10\" fill=\"rgb(255,0,0)\" class=\"agent_1_68\"/></svg></div>"
      ],
      "text/plain": [
       "<IPython.core.display.HTML object>"
      ]
     },
     "metadata": {},
     "output_type": "display_data"
    },
    {
     "name": "stdout",
     "output_type": "stream",
     "text": [
      "partner_refs_true\n"
     ]
    },
    {
     "data": {
      "text/html": [
       "<div style=\"white-space: nowrap\"><svg viewbox='0 0 430 430' width=\"172\" height=\"172\" id=\"agent_1\"><circle cx=\"215\" cy=\"215\" r=\"205\" fill=\"none\" stroke=\"black\" stroke-width=\"2\" stroke-dasharray=\"3,3\"/><circle cx=\"108\" cy=\"303\" r=\"9\" fill=\"rgb(174,174,174)\"/><circle cx=\"248\" cy=\"103\" r=\"11\" fill=\"rgb(119,119,119)\"/><circle cx=\"331\" cy=\"231\" r=\"7\" fill=\"rgb(67,67,67)\"/><circle cx=\"88\" cy=\"69\" r=\"12\" fill=\"rgb(185,185,185)\"/><circle cx=\"205\" cy=\"97\" r=\"11\" fill=\"rgb(160,160,160)\"/><circle cx=\"377\" cy=\"319\" r=\"9\" fill=\"rgb(200,200,200)\"/><circle cx=\"290\" cy=\"338\" r=\"10\" fill=\"rgb(170,170,170)\"/></svg><svg viewBox='0 0 430 430' id=\"svg\" width=\"172\" height=\"172\"><circle cx=\"215\" cy=\"215\" r=\"205\" fill=\"none\" stroke=\"black\" stroke-width=\"2\" stroke-dasharray=\"3,3\"/> <circle cx=\"108\" cy=\"303\" r=\"9\" fill=\"rgb(255,255,255)\" class=\"agent_1_0\"/><circle cx=\"248\" cy=\"103\" r=\"11\" fill=\"rgb(255,255,255)\" class=\"agent_1_1\"/><circle cx=\"331\" cy=\"231\" r=\"7\" fill=\"rgb(255,0,0)\" class=\"agent_1_15\"/><circle cx=\"88\" cy=\"69\" r=\"12\" fill=\"rgb(255,255,255)\" class=\"agent_1_32\"/><circle cx=\"205\" cy=\"97\" r=\"11\" fill=\"rgb(255,255,255)\" class=\"agent_1_38\"/><circle cx=\"377\" cy=\"319\" r=\"9\" fill=\"rgb(255,255,255)\" class=\"agent_1_44\"/><circle cx=\"290\" cy=\"338\" r=\"10\" fill=\"rgb(255,255,255)\" class=\"agent_1_68\"/></svg><svg viewBox='0 0 430 430' id=\"svg\" width=\"172\" height=\"172\"><circle cx=\"215\" cy=\"215\" r=\"205\" fill=\"none\" stroke=\"black\" stroke-width=\"2\" stroke-dasharray=\"3,3\"/> <circle cx=\"108\" cy=\"303\" r=\"9\" fill=\"rgb(255,255,255)\" class=\"agent_1_0\"/><circle cx=\"248\" cy=\"103\" r=\"11\" fill=\"rgb(255,255,255)\" class=\"agent_1_1\"/><circle cx=\"331\" cy=\"231\" r=\"7\" fill=\"rgb(255,255,255)\" class=\"agent_1_15\"/><circle cx=\"88\" cy=\"69\" r=\"12\" fill=\"rgb(255,255,255)\" class=\"agent_1_32\"/><circle cx=\"205\" cy=\"97\" r=\"11\" fill=\"rgb(255,255,255)\" class=\"agent_1_38\"/><circle cx=\"377\" cy=\"319\" r=\"9\" fill=\"rgb(255,255,255)\" class=\"agent_1_44\"/><circle cx=\"290\" cy=\"338\" r=\"10\" fill=\"rgb(255,255,255)\" class=\"agent_1_68\"/></svg><svg viewBox='0 0 430 430' id=\"svg\" width=\"172\" height=\"172\"><circle cx=\"215\" cy=\"215\" r=\"205\" fill=\"none\" stroke=\"black\" stroke-width=\"2\" stroke-dasharray=\"3,3\"/> <circle cx=\"108\" cy=\"303\" r=\"9\" fill=\"rgb(255,255,255)\" class=\"agent_1_0\"/><circle cx=\"248\" cy=\"103\" r=\"11\" fill=\"rgb(255,255,255)\" class=\"agent_1_1\"/><circle cx=\"331\" cy=\"231\" r=\"7\" fill=\"rgb(255,255,255)\" class=\"agent_1_15\"/><circle cx=\"88\" cy=\"69\" r=\"12\" fill=\"rgb(255,0,0)\" class=\"agent_1_32\"/><circle cx=\"205\" cy=\"97\" r=\"11\" fill=\"rgb(255,255,255)\" class=\"agent_1_38\"/><circle cx=\"377\" cy=\"319\" r=\"9\" fill=\"rgb(255,255,255)\" class=\"agent_1_44\"/><circle cx=\"290\" cy=\"338\" r=\"10\" fill=\"rgb(255,255,255)\" class=\"agent_1_68\"/></svg></div>"
      ],
      "text/plain": [
       "<IPython.core.display.HTML object>"
      ]
     },
     "metadata": {},
     "output_type": "display_data"
    },
    {
     "name": "stdout",
     "output_type": "stream",
     "text": [
      "\n",
      "----------------------------------------\n",
      "\n",
      "to_mention_true\n"
     ]
    },
    {
     "data": {
      "text/html": [
       "<div style=\"white-space: nowrap\"><svg viewbox='0 0 430 430' width=\"172\" height=\"172\" id=\"agent_1\"><circle cx=\"215\" cy=\"215\" r=\"205\" fill=\"none\" stroke=\"black\" stroke-width=\"2\" stroke-dasharray=\"3,3\"/><circle cx=\"108\" cy=\"303\" r=\"9\" fill=\"rgb(174,174,174)\"/><circle cx=\"248\" cy=\"103\" r=\"11\" fill=\"rgb(119,119,119)\"/><circle cx=\"331\" cy=\"231\" r=\"7\" fill=\"rgb(67,67,67)\"/><circle cx=\"88\" cy=\"69\" r=\"12\" fill=\"rgb(185,185,185)\"/><circle cx=\"205\" cy=\"97\" r=\"11\" fill=\"rgb(160,160,160)\"/><circle cx=\"377\" cy=\"319\" r=\"9\" fill=\"rgb(200,200,200)\"/><circle cx=\"290\" cy=\"338\" r=\"10\" fill=\"rgb(170,170,170)\"/></svg><svg viewBox='0 0 430 430' id=\"svg\" width=\"172\" height=\"172\"><circle cx=\"215\" cy=\"215\" r=\"205\" fill=\"none\" stroke=\"black\" stroke-width=\"2\" stroke-dasharray=\"3,3\"/> <circle cx=\"108\" cy=\"303\" r=\"9\" fill=\"rgb(255,255,255)\" class=\"agent_1_0\"/><circle cx=\"248\" cy=\"103\" r=\"11\" fill=\"rgb(255,255,255)\" class=\"agent_1_1\"/><circle cx=\"331\" cy=\"231\" r=\"7\" fill=\"rgb(255,255,255)\" class=\"agent_1_15\"/><circle cx=\"88\" cy=\"69\" r=\"12\" fill=\"rgb(255,255,255)\" class=\"agent_1_32\"/><circle cx=\"205\" cy=\"97\" r=\"11\" fill=\"rgb(255,255,255)\" class=\"agent_1_38\"/><circle cx=\"377\" cy=\"319\" r=\"9\" fill=\"rgb(255,255,255)\" class=\"agent_1_44\"/><circle cx=\"290\" cy=\"338\" r=\"10\" fill=\"rgb(255,255,255)\" class=\"agent_1_68\"/></svg><svg viewBox='0 0 430 430' id=\"svg\" width=\"172\" height=\"172\"><circle cx=\"215\" cy=\"215\" r=\"205\" fill=\"none\" stroke=\"black\" stroke-width=\"2\" stroke-dasharray=\"3,3\"/> <circle cx=\"108\" cy=\"303\" r=\"9\" fill=\"rgb(255,255,255)\" class=\"agent_1_0\"/><circle cx=\"248\" cy=\"103\" r=\"11\" fill=\"rgb(255,255,255)\" class=\"agent_1_1\"/><circle cx=\"331\" cy=\"231\" r=\"7\" fill=\"rgb(255,0,0)\" class=\"agent_1_15\"/><circle cx=\"88\" cy=\"69\" r=\"12\" fill=\"rgb(255,255,255)\" class=\"agent_1_32\"/><circle cx=\"205\" cy=\"97\" r=\"11\" fill=\"rgb(255,255,255)\" class=\"agent_1_38\"/><circle cx=\"377\" cy=\"319\" r=\"9\" fill=\"rgb(255,255,255)\" class=\"agent_1_44\"/><circle cx=\"290\" cy=\"338\" r=\"10\" fill=\"rgb(255,255,255)\" class=\"agent_1_68\"/></svg><svg viewBox='0 0 430 430' id=\"svg\" width=\"172\" height=\"172\"><circle cx=\"215\" cy=\"215\" r=\"205\" fill=\"none\" stroke=\"black\" stroke-width=\"2\" stroke-dasharray=\"3,3\"/> <circle cx=\"108\" cy=\"303\" r=\"9\" fill=\"rgb(255,255,255)\" class=\"agent_1_0\"/><circle cx=\"248\" cy=\"103\" r=\"11\" fill=\"rgb(255,255,255)\" class=\"agent_1_1\"/><circle cx=\"331\" cy=\"231\" r=\"7\" fill=\"rgb(255,0,0)\" class=\"agent_1_15\"/><circle cx=\"88\" cy=\"69\" r=\"12\" fill=\"rgb(255,255,255)\" class=\"agent_1_32\"/><circle cx=\"205\" cy=\"97\" r=\"11\" fill=\"rgb(255,255,255)\" class=\"agent_1_38\"/><circle cx=\"377\" cy=\"319\" r=\"9\" fill=\"rgb(255,255,255)\" class=\"agent_1_44\"/><circle cx=\"290\" cy=\"338\" r=\"10\" fill=\"rgb(255,255,255)\" class=\"agent_1_68\"/></svg><svg viewBox='0 0 430 430' id=\"svg\" width=\"172\" height=\"172\"><circle cx=\"215\" cy=\"215\" r=\"205\" fill=\"none\" stroke=\"black\" stroke-width=\"2\" stroke-dasharray=\"3,3\"/> <circle cx=\"108\" cy=\"303\" r=\"9\" fill=\"rgb(255,255,255)\" class=\"agent_1_0\"/><circle cx=\"248\" cy=\"103\" r=\"11\" fill=\"rgb(255,255,255)\" class=\"agent_1_1\"/><circle cx=\"331\" cy=\"231\" r=\"7\" fill=\"rgb(255,255,255)\" class=\"agent_1_15\"/><circle cx=\"88\" cy=\"69\" r=\"12\" fill=\"rgb(255,255,255)\" class=\"agent_1_32\"/><circle cx=\"205\" cy=\"97\" r=\"11\" fill=\"rgb(255,255,255)\" class=\"agent_1_38\"/><circle cx=\"377\" cy=\"319\" r=\"9\" fill=\"rgb(255,255,255)\" class=\"agent_1_44\"/><circle cx=\"290\" cy=\"338\" r=\"10\" fill=\"rgb(255,0,0)\" class=\"agent_1_68\"/></svg><svg viewBox='0 0 430 430' id=\"svg\" width=\"172\" height=\"172\"><circle cx=\"215\" cy=\"215\" r=\"205\" fill=\"none\" stroke=\"black\" stroke-width=\"2\" stroke-dasharray=\"3,3\"/> <circle cx=\"108\" cy=\"303\" r=\"9\" fill=\"rgb(255,255,255)\" class=\"agent_1_0\"/><circle cx=\"248\" cy=\"103\" r=\"11\" fill=\"rgb(255,255,255)\" class=\"agent_1_1\"/><circle cx=\"331\" cy=\"231\" r=\"7\" fill=\"rgb(255,0,0)\" class=\"agent_1_15\"/><circle cx=\"88\" cy=\"69\" r=\"12\" fill=\"rgb(255,255,255)\" class=\"agent_1_32\"/><circle cx=\"205\" cy=\"97\" r=\"11\" fill=\"rgb(255,255,255)\" class=\"agent_1_38\"/><circle cx=\"377\" cy=\"319\" r=\"9\" fill=\"rgb(255,255,255)\" class=\"agent_1_44\"/><circle cx=\"290\" cy=\"338\" r=\"10\" fill=\"rgb(255,255,255)\" class=\"agent_1_68\"/></svg><svg viewBox='0 0 430 430' id=\"svg\" width=\"172\" height=\"172\"><circle cx=\"215\" cy=\"215\" r=\"205\" fill=\"none\" stroke=\"black\" stroke-width=\"2\" stroke-dasharray=\"3,3\"/> <circle cx=\"108\" cy=\"303\" r=\"9\" fill=\"rgb(255,255,255)\" class=\"agent_1_0\"/><circle cx=\"248\" cy=\"103\" r=\"11\" fill=\"rgb(255,255,255)\" class=\"agent_1_1\"/><circle cx=\"331\" cy=\"231\" r=\"7\" fill=\"rgb(255,255,255)\" class=\"agent_1_15\"/><circle cx=\"88\" cy=\"69\" r=\"12\" fill=\"rgb(255,255,255)\" class=\"agent_1_32\"/><circle cx=\"205\" cy=\"97\" r=\"11\" fill=\"rgb(255,255,255)\" class=\"agent_1_38\"/><circle cx=\"377\" cy=\"319\" r=\"9\" fill=\"rgb(255,0,0)\" class=\"agent_1_44\"/><circle cx=\"290\" cy=\"338\" r=\"10\" fill=\"rgb(255,255,255)\" class=\"agent_1_68\"/></svg></div>"
      ],
      "text/plain": [
       "<IPython.core.display.HTML object>"
      ]
     },
     "metadata": {},
     "output_type": "display_data"
    },
    {
     "name": "stdout",
     "output_type": "stream",
     "text": [
      "beam 0\ti do n't have that . i have a small black dot with a slightly larger light grey dot to the right of it and a medium grey dot to the right of it\n",
      "greedy\ti do n't have that . i have a small black dot with a slightly larger light grey dot to the right of it and a medium grey dot to the right of it <eos>\n",
      "human\ti do n't have that , i have 1 small black dot , below and to the of it is a medium size medium grey dot , below and to the bottom of it is a light grey , medium size dot <eos>\n",
      "refs_pred\n"
     ]
    },
    {
     "data": {
      "text/html": [
       "<div style=\"white-space: nowrap\"><svg viewbox='0 0 430 430' width=\"172\" height=\"172\" id=\"agent_1\"><circle cx=\"215\" cy=\"215\" r=\"205\" fill=\"none\" stroke=\"black\" stroke-width=\"2\" stroke-dasharray=\"3,3\"/><circle cx=\"108\" cy=\"303\" r=\"9\" fill=\"rgb(174,174,174)\"/><circle cx=\"248\" cy=\"103\" r=\"11\" fill=\"rgb(119,119,119)\"/><circle cx=\"331\" cy=\"231\" r=\"7\" fill=\"rgb(67,67,67)\"/><circle cx=\"88\" cy=\"69\" r=\"12\" fill=\"rgb(185,185,185)\"/><circle cx=\"205\" cy=\"97\" r=\"11\" fill=\"rgb(160,160,160)\"/><circle cx=\"377\" cy=\"319\" r=\"9\" fill=\"rgb(200,200,200)\"/><circle cx=\"290\" cy=\"338\" r=\"10\" fill=\"rgb(170,170,170)\"/></svg><svg viewBox='0 0 430 430' id=\"svg\" width=\"172\" height=\"172\"><circle cx=\"215\" cy=\"215\" r=\"205\" fill=\"none\" stroke=\"black\" stroke-width=\"2\" stroke-dasharray=\"3,3\"/> <circle cx=\"108\" cy=\"303\" r=\"9\" fill=\"rgb(255,255,255)\" class=\"agent_1_0\"/><circle cx=\"248\" cy=\"103\" r=\"11\" fill=\"rgb(255,255,255)\" class=\"agent_1_1\"/><circle cx=\"331\" cy=\"231\" r=\"7\" fill=\"rgb(255,255,255)\" class=\"agent_1_15\"/><circle cx=\"88\" cy=\"69\" r=\"12\" fill=\"rgb(255,255,255)\" class=\"agent_1_32\"/><circle cx=\"205\" cy=\"97\" r=\"11\" fill=\"rgb(255,255,255)\" class=\"agent_1_38\"/><circle cx=\"377\" cy=\"319\" r=\"9\" fill=\"rgb(255,255,255)\" class=\"agent_1_44\"/><circle cx=\"290\" cy=\"338\" r=\"10\" fill=\"rgb(255,255,255)\" class=\"agent_1_68\"/></svg><svg viewBox='0 0 430 430' id=\"svg\" width=\"172\" height=\"172\"><circle cx=\"215\" cy=\"215\" r=\"205\" fill=\"none\" stroke=\"black\" stroke-width=\"2\" stroke-dasharray=\"3,3\"/> <circle cx=\"108\" cy=\"303\" r=\"9\" fill=\"rgb(255,255,255)\" class=\"agent_1_0\"/><circle cx=\"248\" cy=\"103\" r=\"11\" fill=\"rgb(255,255,255)\" class=\"agent_1_1\"/><circle cx=\"331\" cy=\"231\" r=\"7\" fill=\"rgb(255,0,0)\" class=\"agent_1_15\"/><circle cx=\"88\" cy=\"69\" r=\"12\" fill=\"rgb(255,255,255)\" class=\"agent_1_32\"/><circle cx=\"205\" cy=\"97\" r=\"11\" fill=\"rgb(255,255,255)\" class=\"agent_1_38\"/><circle cx=\"377\" cy=\"319\" r=\"9\" fill=\"rgb(255,255,255)\" class=\"agent_1_44\"/><circle cx=\"290\" cy=\"338\" r=\"10\" fill=\"rgb(255,255,255)\" class=\"agent_1_68\"/></svg><svg viewBox='0 0 430 430' id=\"svg\" width=\"172\" height=\"172\"><circle cx=\"215\" cy=\"215\" r=\"205\" fill=\"none\" stroke=\"black\" stroke-width=\"2\" stroke-dasharray=\"3,3\"/> <circle cx=\"108\" cy=\"303\" r=\"9\" fill=\"rgb(255,255,255)\" class=\"agent_1_0\"/><circle cx=\"248\" cy=\"103\" r=\"11\" fill=\"rgb(255,255,255)\" class=\"agent_1_1\"/><circle cx=\"331\" cy=\"231\" r=\"7\" fill=\"rgb(255,0,0)\" class=\"agent_1_15\"/><circle cx=\"88\" cy=\"69\" r=\"12\" fill=\"rgb(255,255,255)\" class=\"agent_1_32\"/><circle cx=\"205\" cy=\"97\" r=\"11\" fill=\"rgb(255,255,255)\" class=\"agent_1_38\"/><circle cx=\"377\" cy=\"319\" r=\"9\" fill=\"rgb(255,255,255)\" class=\"agent_1_44\"/><circle cx=\"290\" cy=\"338\" r=\"10\" fill=\"rgb(255,255,255)\" class=\"agent_1_68\"/></svg><svg viewBox='0 0 430 430' id=\"svg\" width=\"172\" height=\"172\"><circle cx=\"215\" cy=\"215\" r=\"205\" fill=\"none\" stroke=\"black\" stroke-width=\"2\" stroke-dasharray=\"3,3\"/> <circle cx=\"108\" cy=\"303\" r=\"9\" fill=\"rgb(255,255,255)\" class=\"agent_1_0\"/><circle cx=\"248\" cy=\"103\" r=\"11\" fill=\"rgb(255,255,255)\" class=\"agent_1_1\"/><circle cx=\"331\" cy=\"231\" r=\"7\" fill=\"rgb(255,255,255)\" class=\"agent_1_15\"/><circle cx=\"88\" cy=\"69\" r=\"12\" fill=\"rgb(255,255,255)\" class=\"agent_1_32\"/><circle cx=\"205\" cy=\"97\" r=\"11\" fill=\"rgb(255,255,255)\" class=\"agent_1_38\"/><circle cx=\"377\" cy=\"319\" r=\"9\" fill=\"rgb(255,255,255)\" class=\"agent_1_44\"/><circle cx=\"290\" cy=\"338\" r=\"10\" fill=\"rgb(255,0,0)\" class=\"agent_1_68\"/></svg><svg viewBox='0 0 430 430' id=\"svg\" width=\"172\" height=\"172\"><circle cx=\"215\" cy=\"215\" r=\"205\" fill=\"none\" stroke=\"black\" stroke-width=\"2\" stroke-dasharray=\"3,3\"/> <circle cx=\"108\" cy=\"303\" r=\"9\" fill=\"rgb(255,255,255)\" class=\"agent_1_0\"/><circle cx=\"248\" cy=\"103\" r=\"11\" fill=\"rgb(255,255,255)\" class=\"agent_1_1\"/><circle cx=\"331\" cy=\"231\" r=\"7\" fill=\"rgb(255,0,0)\" class=\"agent_1_15\"/><circle cx=\"88\" cy=\"69\" r=\"12\" fill=\"rgb(255,255,255)\" class=\"agent_1_32\"/><circle cx=\"205\" cy=\"97\" r=\"11\" fill=\"rgb(255,255,255)\" class=\"agent_1_38\"/><circle cx=\"377\" cy=\"319\" r=\"9\" fill=\"rgb(255,255,255)\" class=\"agent_1_44\"/><circle cx=\"290\" cy=\"338\" r=\"10\" fill=\"rgb(255,255,255)\" class=\"agent_1_68\"/></svg><svg viewBox='0 0 430 430' id=\"svg\" width=\"172\" height=\"172\"><circle cx=\"215\" cy=\"215\" r=\"205\" fill=\"none\" stroke=\"black\" stroke-width=\"2\" stroke-dasharray=\"3,3\"/> <circle cx=\"108\" cy=\"303\" r=\"9\" fill=\"rgb(255,255,255)\" class=\"agent_1_0\"/><circle cx=\"248\" cy=\"103\" r=\"11\" fill=\"rgb(255,255,255)\" class=\"agent_1_1\"/><circle cx=\"331\" cy=\"231\" r=\"7\" fill=\"rgb(255,255,255)\" class=\"agent_1_15\"/><circle cx=\"88\" cy=\"69\" r=\"12\" fill=\"rgb(255,255,255)\" class=\"agent_1_32\"/><circle cx=\"205\" cy=\"97\" r=\"11\" fill=\"rgb(255,255,255)\" class=\"agent_1_38\"/><circle cx=\"377\" cy=\"319\" r=\"9\" fill=\"rgb(255,255,255)\" class=\"agent_1_44\"/><circle cx=\"290\" cy=\"338\" r=\"10\" fill=\"rgb(255,0,0)\" class=\"agent_1_68\"/></svg></div>"
      ],
      "text/plain": [
       "<IPython.core.display.HTML object>"
      ]
     },
     "metadata": {},
     "output_type": "display_data"
    },
    {
     "name": "stdout",
     "output_type": "stream",
     "text": [
      "refs_true\n"
     ]
    },
    {
     "data": {
      "text/html": [
       "<div style=\"white-space: nowrap\"><svg viewbox='0 0 430 430' width=\"172\" height=\"172\" id=\"agent_1\"><circle cx=\"215\" cy=\"215\" r=\"205\" fill=\"none\" stroke=\"black\" stroke-width=\"2\" stroke-dasharray=\"3,3\"/><circle cx=\"108\" cy=\"303\" r=\"9\" fill=\"rgb(174,174,174)\"/><circle cx=\"248\" cy=\"103\" r=\"11\" fill=\"rgb(119,119,119)\"/><circle cx=\"331\" cy=\"231\" r=\"7\" fill=\"rgb(67,67,67)\"/><circle cx=\"88\" cy=\"69\" r=\"12\" fill=\"rgb(185,185,185)\"/><circle cx=\"205\" cy=\"97\" r=\"11\" fill=\"rgb(160,160,160)\"/><circle cx=\"377\" cy=\"319\" r=\"9\" fill=\"rgb(200,200,200)\"/><circle cx=\"290\" cy=\"338\" r=\"10\" fill=\"rgb(170,170,170)\"/></svg><svg viewBox='0 0 430 430' id=\"svg\" width=\"172\" height=\"172\"><circle cx=\"215\" cy=\"215\" r=\"205\" fill=\"none\" stroke=\"black\" stroke-width=\"2\" stroke-dasharray=\"3,3\"/> <circle cx=\"108\" cy=\"303\" r=\"9\" fill=\"rgb(255,255,255)\" class=\"agent_1_0\"/><circle cx=\"248\" cy=\"103\" r=\"11\" fill=\"rgb(255,255,255)\" class=\"agent_1_1\"/><circle cx=\"331\" cy=\"231\" r=\"7\" fill=\"rgb(255,255,255)\" class=\"agent_1_15\"/><circle cx=\"88\" cy=\"69\" r=\"12\" fill=\"rgb(255,255,255)\" class=\"agent_1_32\"/><circle cx=\"205\" cy=\"97\" r=\"11\" fill=\"rgb(255,255,255)\" class=\"agent_1_38\"/><circle cx=\"377\" cy=\"319\" r=\"9\" fill=\"rgb(255,255,255)\" class=\"agent_1_44\"/><circle cx=\"290\" cy=\"338\" r=\"10\" fill=\"rgb(255,255,255)\" class=\"agent_1_68\"/></svg><svg viewBox='0 0 430 430' id=\"svg\" width=\"172\" height=\"172\"><circle cx=\"215\" cy=\"215\" r=\"205\" fill=\"none\" stroke=\"black\" stroke-width=\"2\" stroke-dasharray=\"3,3\"/> <circle cx=\"108\" cy=\"303\" r=\"9\" fill=\"rgb(255,255,255)\" class=\"agent_1_0\"/><circle cx=\"248\" cy=\"103\" r=\"11\" fill=\"rgb(255,255,255)\" class=\"agent_1_1\"/><circle cx=\"331\" cy=\"231\" r=\"7\" fill=\"rgb(255,0,0)\" class=\"agent_1_15\"/><circle cx=\"88\" cy=\"69\" r=\"12\" fill=\"rgb(255,255,255)\" class=\"agent_1_32\"/><circle cx=\"205\" cy=\"97\" r=\"11\" fill=\"rgb(255,255,255)\" class=\"agent_1_38\"/><circle cx=\"377\" cy=\"319\" r=\"9\" fill=\"rgb(255,255,255)\" class=\"agent_1_44\"/><circle cx=\"290\" cy=\"338\" r=\"10\" fill=\"rgb(255,255,255)\" class=\"agent_1_68\"/></svg><svg viewBox='0 0 430 430' id=\"svg\" width=\"172\" height=\"172\"><circle cx=\"215\" cy=\"215\" r=\"205\" fill=\"none\" stroke=\"black\" stroke-width=\"2\" stroke-dasharray=\"3,3\"/> <circle cx=\"108\" cy=\"303\" r=\"9\" fill=\"rgb(255,255,255)\" class=\"agent_1_0\"/><circle cx=\"248\" cy=\"103\" r=\"11\" fill=\"rgb(255,255,255)\" class=\"agent_1_1\"/><circle cx=\"331\" cy=\"231\" r=\"7\" fill=\"rgb(255,0,0)\" class=\"agent_1_15\"/><circle cx=\"88\" cy=\"69\" r=\"12\" fill=\"rgb(255,255,255)\" class=\"agent_1_32\"/><circle cx=\"205\" cy=\"97\" r=\"11\" fill=\"rgb(255,255,255)\" class=\"agent_1_38\"/><circle cx=\"377\" cy=\"319\" r=\"9\" fill=\"rgb(255,255,255)\" class=\"agent_1_44\"/><circle cx=\"290\" cy=\"338\" r=\"10\" fill=\"rgb(255,255,255)\" class=\"agent_1_68\"/></svg><svg viewBox='0 0 430 430' id=\"svg\" width=\"172\" height=\"172\"><circle cx=\"215\" cy=\"215\" r=\"205\" fill=\"none\" stroke=\"black\" stroke-width=\"2\" stroke-dasharray=\"3,3\"/> <circle cx=\"108\" cy=\"303\" r=\"9\" fill=\"rgb(255,255,255)\" class=\"agent_1_0\"/><circle cx=\"248\" cy=\"103\" r=\"11\" fill=\"rgb(255,255,255)\" class=\"agent_1_1\"/><circle cx=\"331\" cy=\"231\" r=\"7\" fill=\"rgb(255,255,255)\" class=\"agent_1_15\"/><circle cx=\"88\" cy=\"69\" r=\"12\" fill=\"rgb(255,255,255)\" class=\"agent_1_32\"/><circle cx=\"205\" cy=\"97\" r=\"11\" fill=\"rgb(255,255,255)\" class=\"agent_1_38\"/><circle cx=\"377\" cy=\"319\" r=\"9\" fill=\"rgb(255,255,255)\" class=\"agent_1_44\"/><circle cx=\"290\" cy=\"338\" r=\"10\" fill=\"rgb(255,0,0)\" class=\"agent_1_68\"/></svg><svg viewBox='0 0 430 430' id=\"svg\" width=\"172\" height=\"172\"><circle cx=\"215\" cy=\"215\" r=\"205\" fill=\"none\" stroke=\"black\" stroke-width=\"2\" stroke-dasharray=\"3,3\"/> <circle cx=\"108\" cy=\"303\" r=\"9\" fill=\"rgb(255,255,255)\" class=\"agent_1_0\"/><circle cx=\"248\" cy=\"103\" r=\"11\" fill=\"rgb(255,255,255)\" class=\"agent_1_1\"/><circle cx=\"331\" cy=\"231\" r=\"7\" fill=\"rgb(255,0,0)\" class=\"agent_1_15\"/><circle cx=\"88\" cy=\"69\" r=\"12\" fill=\"rgb(255,255,255)\" class=\"agent_1_32\"/><circle cx=\"205\" cy=\"97\" r=\"11\" fill=\"rgb(255,255,255)\" class=\"agent_1_38\"/><circle cx=\"377\" cy=\"319\" r=\"9\" fill=\"rgb(255,255,255)\" class=\"agent_1_44\"/><circle cx=\"290\" cy=\"338\" r=\"10\" fill=\"rgb(255,255,255)\" class=\"agent_1_68\"/></svg><svg viewBox='0 0 430 430' id=\"svg\" width=\"172\" height=\"172\"><circle cx=\"215\" cy=\"215\" r=\"205\" fill=\"none\" stroke=\"black\" stroke-width=\"2\" stroke-dasharray=\"3,3\"/> <circle cx=\"108\" cy=\"303\" r=\"9\" fill=\"rgb(255,255,255)\" class=\"agent_1_0\"/><circle cx=\"248\" cy=\"103\" r=\"11\" fill=\"rgb(255,255,255)\" class=\"agent_1_1\"/><circle cx=\"331\" cy=\"231\" r=\"7\" fill=\"rgb(255,255,255)\" class=\"agent_1_15\"/><circle cx=\"88\" cy=\"69\" r=\"12\" fill=\"rgb(255,255,255)\" class=\"agent_1_32\"/><circle cx=\"205\" cy=\"97\" r=\"11\" fill=\"rgb(255,255,255)\" class=\"agent_1_38\"/><circle cx=\"377\" cy=\"319\" r=\"9\" fill=\"rgb(255,0,0)\" class=\"agent_1_44\"/><circle cx=\"290\" cy=\"338\" r=\"10\" fill=\"rgb(255,255,255)\" class=\"agent_1_68\"/></svg></div>"
      ],
      "text/plain": [
       "<IPython.core.display.HTML object>"
      ]
     },
     "metadata": {},
     "output_type": "display_data"
    },
    {
     "name": "stdout",
     "output_type": "stream",
     "text": [
      "\n",
      "----------------------------------------\n",
      "\n",
      "human\tTHEM: i do n't have that . do you see 2 same-size dots next to each other horizontally . left is grey , right is dark grey ? <eos>\n",
      "partner_refs_pred\n"
     ]
    },
    {
     "data": {
      "text/html": [
       "<div style=\"white-space: nowrap\"><svg viewbox='0 0 430 430' width=\"172\" height=\"172\" id=\"agent_1\"><circle cx=\"215\" cy=\"215\" r=\"205\" fill=\"none\" stroke=\"black\" stroke-width=\"2\" stroke-dasharray=\"3,3\"/><circle cx=\"108\" cy=\"303\" r=\"9\" fill=\"rgb(174,174,174)\"/><circle cx=\"248\" cy=\"103\" r=\"11\" fill=\"rgb(119,119,119)\"/><circle cx=\"331\" cy=\"231\" r=\"7\" fill=\"rgb(67,67,67)\"/><circle cx=\"88\" cy=\"69\" r=\"12\" fill=\"rgb(185,185,185)\"/><circle cx=\"205\" cy=\"97\" r=\"11\" fill=\"rgb(160,160,160)\"/><circle cx=\"377\" cy=\"319\" r=\"9\" fill=\"rgb(200,200,200)\"/><circle cx=\"290\" cy=\"338\" r=\"10\" fill=\"rgb(170,170,170)\"/></svg><svg viewBox='0 0 430 430' id=\"svg\" width=\"172\" height=\"172\"><circle cx=\"215\" cy=\"215\" r=\"205\" fill=\"none\" stroke=\"black\" stroke-width=\"2\" stroke-dasharray=\"3,3\"/> <circle cx=\"108\" cy=\"303\" r=\"9\" fill=\"rgb(255,255,255)\" class=\"agent_1_0\"/><circle cx=\"248\" cy=\"103\" r=\"11\" fill=\"rgb(255,255,255)\" class=\"agent_1_1\"/><circle cx=\"331\" cy=\"231\" r=\"7\" fill=\"rgb(255,255,255)\" class=\"agent_1_15\"/><circle cx=\"88\" cy=\"69\" r=\"12\" fill=\"rgb(255,255,255)\" class=\"agent_1_32\"/><circle cx=\"205\" cy=\"97\" r=\"11\" fill=\"rgb(255,255,255)\" class=\"agent_1_38\"/><circle cx=\"377\" cy=\"319\" r=\"9\" fill=\"rgb(255,255,255)\" class=\"agent_1_44\"/><circle cx=\"290\" cy=\"338\" r=\"10\" fill=\"rgb(255,255,255)\" class=\"agent_1_68\"/></svg><svg viewBox='0 0 430 430' id=\"svg\" width=\"172\" height=\"172\"><circle cx=\"215\" cy=\"215\" r=\"205\" fill=\"none\" stroke=\"black\" stroke-width=\"2\" stroke-dasharray=\"3,3\"/> <circle cx=\"108\" cy=\"303\" r=\"9\" fill=\"rgb(255,255,255)\" class=\"agent_1_0\"/><circle cx=\"248\" cy=\"103\" r=\"11\" fill=\"rgb(255,0,0)\" class=\"agent_1_1\"/><circle cx=\"331\" cy=\"231\" r=\"7\" fill=\"rgb(255,255,255)\" class=\"agent_1_15\"/><circle cx=\"88\" cy=\"69\" r=\"12\" fill=\"rgb(255,255,255)\" class=\"agent_1_32\"/><circle cx=\"205\" cy=\"97\" r=\"11\" fill=\"rgb(255,0,0)\" class=\"agent_1_38\"/><circle cx=\"377\" cy=\"319\" r=\"9\" fill=\"rgb(255,255,255)\" class=\"agent_1_44\"/><circle cx=\"290\" cy=\"338\" r=\"10\" fill=\"rgb(255,255,255)\" class=\"agent_1_68\"/></svg><svg viewBox='0 0 430 430' id=\"svg\" width=\"172\" height=\"172\"><circle cx=\"215\" cy=\"215\" r=\"205\" fill=\"none\" stroke=\"black\" stroke-width=\"2\" stroke-dasharray=\"3,3\"/> <circle cx=\"108\" cy=\"303\" r=\"9\" fill=\"rgb(255,255,255)\" class=\"agent_1_0\"/><circle cx=\"248\" cy=\"103\" r=\"11\" fill=\"rgb(255,0,0)\" class=\"agent_1_1\"/><circle cx=\"331\" cy=\"231\" r=\"7\" fill=\"rgb(255,255,255)\" class=\"agent_1_15\"/><circle cx=\"88\" cy=\"69\" r=\"12\" fill=\"rgb(255,255,255)\" class=\"agent_1_32\"/><circle cx=\"205\" cy=\"97\" r=\"11\" fill=\"rgb(255,0,0)\" class=\"agent_1_38\"/><circle cx=\"377\" cy=\"319\" r=\"9\" fill=\"rgb(255,255,255)\" class=\"agent_1_44\"/><circle cx=\"290\" cy=\"338\" r=\"10\" fill=\"rgb(255,255,255)\" class=\"agent_1_68\"/></svg><svg viewBox='0 0 430 430' id=\"svg\" width=\"172\" height=\"172\"><circle cx=\"215\" cy=\"215\" r=\"205\" fill=\"none\" stroke=\"black\" stroke-width=\"2\" stroke-dasharray=\"3,3\"/> <circle cx=\"108\" cy=\"303\" r=\"9\" fill=\"rgb(255,255,255)\" class=\"agent_1_0\"/><circle cx=\"248\" cy=\"103\" r=\"11\" fill=\"rgb(255,255,255)\" class=\"agent_1_1\"/><circle cx=\"331\" cy=\"231\" r=\"7\" fill=\"rgb(255,255,255)\" class=\"agent_1_15\"/><circle cx=\"88\" cy=\"69\" r=\"12\" fill=\"rgb(255,255,255)\" class=\"agent_1_32\"/><circle cx=\"205\" cy=\"97\" r=\"11\" fill=\"rgb(255,0,0)\" class=\"agent_1_38\"/><circle cx=\"377\" cy=\"319\" r=\"9\" fill=\"rgb(255,255,255)\" class=\"agent_1_44\"/><circle cx=\"290\" cy=\"338\" r=\"10\" fill=\"rgb(255,255,255)\" class=\"agent_1_68\"/></svg><svg viewBox='0 0 430 430' id=\"svg\" width=\"172\" height=\"172\"><circle cx=\"215\" cy=\"215\" r=\"205\" fill=\"none\" stroke=\"black\" stroke-width=\"2\" stroke-dasharray=\"3,3\"/> <circle cx=\"108\" cy=\"303\" r=\"9\" fill=\"rgb(255,255,255)\" class=\"agent_1_0\"/><circle cx=\"248\" cy=\"103\" r=\"11\" fill=\"rgb(255,0,0)\" class=\"agent_1_1\"/><circle cx=\"331\" cy=\"231\" r=\"7\" fill=\"rgb(255,255,255)\" class=\"agent_1_15\"/><circle cx=\"88\" cy=\"69\" r=\"12\" fill=\"rgb(255,255,255)\" class=\"agent_1_32\"/><circle cx=\"205\" cy=\"97\" r=\"11\" fill=\"rgb(255,255,255)\" class=\"agent_1_38\"/><circle cx=\"377\" cy=\"319\" r=\"9\" fill=\"rgb(255,255,255)\" class=\"agent_1_44\"/><circle cx=\"290\" cy=\"338\" r=\"10\" fill=\"rgb(255,255,255)\" class=\"agent_1_68\"/></svg></div>"
      ],
      "text/plain": [
       "<IPython.core.display.HTML object>"
      ]
     },
     "metadata": {},
     "output_type": "display_data"
    },
    {
     "name": "stdout",
     "output_type": "stream",
     "text": [
      "partner_refs_true\n"
     ]
    },
    {
     "data": {
      "text/html": [
       "<div style=\"white-space: nowrap\"><svg viewbox='0 0 430 430' width=\"172\" height=\"172\" id=\"agent_1\"><circle cx=\"215\" cy=\"215\" r=\"205\" fill=\"none\" stroke=\"black\" stroke-width=\"2\" stroke-dasharray=\"3,3\"/><circle cx=\"108\" cy=\"303\" r=\"9\" fill=\"rgb(174,174,174)\"/><circle cx=\"248\" cy=\"103\" r=\"11\" fill=\"rgb(119,119,119)\"/><circle cx=\"331\" cy=\"231\" r=\"7\" fill=\"rgb(67,67,67)\"/><circle cx=\"88\" cy=\"69\" r=\"12\" fill=\"rgb(185,185,185)\"/><circle cx=\"205\" cy=\"97\" r=\"11\" fill=\"rgb(160,160,160)\"/><circle cx=\"377\" cy=\"319\" r=\"9\" fill=\"rgb(200,200,200)\"/><circle cx=\"290\" cy=\"338\" r=\"10\" fill=\"rgb(170,170,170)\"/></svg><svg viewBox='0 0 430 430' id=\"svg\" width=\"172\" height=\"172\"><circle cx=\"215\" cy=\"215\" r=\"205\" fill=\"none\" stroke=\"black\" stroke-width=\"2\" stroke-dasharray=\"3,3\"/> <circle cx=\"108\" cy=\"303\" r=\"9\" fill=\"rgb(255,255,255)\" class=\"agent_1_0\"/><circle cx=\"248\" cy=\"103\" r=\"11\" fill=\"rgb(255,255,255)\" class=\"agent_1_1\"/><circle cx=\"331\" cy=\"231\" r=\"7\" fill=\"rgb(255,255,255)\" class=\"agent_1_15\"/><circle cx=\"88\" cy=\"69\" r=\"12\" fill=\"rgb(255,255,255)\" class=\"agent_1_32\"/><circle cx=\"205\" cy=\"97\" r=\"11\" fill=\"rgb(255,255,255)\" class=\"agent_1_38\"/><circle cx=\"377\" cy=\"319\" r=\"9\" fill=\"rgb(255,255,255)\" class=\"agent_1_44\"/><circle cx=\"290\" cy=\"338\" r=\"10\" fill=\"rgb(255,255,255)\" class=\"agent_1_68\"/></svg><svg viewBox='0 0 430 430' id=\"svg\" width=\"172\" height=\"172\"><circle cx=\"215\" cy=\"215\" r=\"205\" fill=\"none\" stroke=\"black\" stroke-width=\"2\" stroke-dasharray=\"3,3\"/> <circle cx=\"108\" cy=\"303\" r=\"9\" fill=\"rgb(255,255,255)\" class=\"agent_1_0\"/><circle cx=\"248\" cy=\"103\" r=\"11\" fill=\"rgb(255,0,0)\" class=\"agent_1_1\"/><circle cx=\"331\" cy=\"231\" r=\"7\" fill=\"rgb(255,255,255)\" class=\"agent_1_15\"/><circle cx=\"88\" cy=\"69\" r=\"12\" fill=\"rgb(255,255,255)\" class=\"agent_1_32\"/><circle cx=\"205\" cy=\"97\" r=\"11\" fill=\"rgb(255,0,0)\" class=\"agent_1_38\"/><circle cx=\"377\" cy=\"319\" r=\"9\" fill=\"rgb(255,255,255)\" class=\"agent_1_44\"/><circle cx=\"290\" cy=\"338\" r=\"10\" fill=\"rgb(255,255,255)\" class=\"agent_1_68\"/></svg><svg viewBox='0 0 430 430' id=\"svg\" width=\"172\" height=\"172\"><circle cx=\"215\" cy=\"215\" r=\"205\" fill=\"none\" stroke=\"black\" stroke-width=\"2\" stroke-dasharray=\"3,3\"/> <circle cx=\"108\" cy=\"303\" r=\"9\" fill=\"rgb(255,255,255)\" class=\"agent_1_0\"/><circle cx=\"248\" cy=\"103\" r=\"11\" fill=\"rgb(255,0,0)\" class=\"agent_1_1\"/><circle cx=\"331\" cy=\"231\" r=\"7\" fill=\"rgb(255,255,255)\" class=\"agent_1_15\"/><circle cx=\"88\" cy=\"69\" r=\"12\" fill=\"rgb(255,255,255)\" class=\"agent_1_32\"/><circle cx=\"205\" cy=\"97\" r=\"11\" fill=\"rgb(255,0,0)\" class=\"agent_1_38\"/><circle cx=\"377\" cy=\"319\" r=\"9\" fill=\"rgb(255,255,255)\" class=\"agent_1_44\"/><circle cx=\"290\" cy=\"338\" r=\"10\" fill=\"rgb(255,255,255)\" class=\"agent_1_68\"/></svg><svg viewBox='0 0 430 430' id=\"svg\" width=\"172\" height=\"172\"><circle cx=\"215\" cy=\"215\" r=\"205\" fill=\"none\" stroke=\"black\" stroke-width=\"2\" stroke-dasharray=\"3,3\"/> <circle cx=\"108\" cy=\"303\" r=\"9\" fill=\"rgb(255,255,255)\" class=\"agent_1_0\"/><circle cx=\"248\" cy=\"103\" r=\"11\" fill=\"rgb(255,255,255)\" class=\"agent_1_1\"/><circle cx=\"331\" cy=\"231\" r=\"7\" fill=\"rgb(255,255,255)\" class=\"agent_1_15\"/><circle cx=\"88\" cy=\"69\" r=\"12\" fill=\"rgb(255,255,255)\" class=\"agent_1_32\"/><circle cx=\"205\" cy=\"97\" r=\"11\" fill=\"rgb(255,0,0)\" class=\"agent_1_38\"/><circle cx=\"377\" cy=\"319\" r=\"9\" fill=\"rgb(255,255,255)\" class=\"agent_1_44\"/><circle cx=\"290\" cy=\"338\" r=\"10\" fill=\"rgb(255,255,255)\" class=\"agent_1_68\"/></svg><svg viewBox='0 0 430 430' id=\"svg\" width=\"172\" height=\"172\"><circle cx=\"215\" cy=\"215\" r=\"205\" fill=\"none\" stroke=\"black\" stroke-width=\"2\" stroke-dasharray=\"3,3\"/> <circle cx=\"108\" cy=\"303\" r=\"9\" fill=\"rgb(255,255,255)\" class=\"agent_1_0\"/><circle cx=\"248\" cy=\"103\" r=\"11\" fill=\"rgb(255,0,0)\" class=\"agent_1_1\"/><circle cx=\"331\" cy=\"231\" r=\"7\" fill=\"rgb(255,255,255)\" class=\"agent_1_15\"/><circle cx=\"88\" cy=\"69\" r=\"12\" fill=\"rgb(255,255,255)\" class=\"agent_1_32\"/><circle cx=\"205\" cy=\"97\" r=\"11\" fill=\"rgb(255,255,255)\" class=\"agent_1_38\"/><circle cx=\"377\" cy=\"319\" r=\"9\" fill=\"rgb(255,255,255)\" class=\"agent_1_44\"/><circle cx=\"290\" cy=\"338\" r=\"10\" fill=\"rgb(255,255,255)\" class=\"agent_1_68\"/></svg></div>"
      ],
      "text/plain": [
       "<IPython.core.display.HTML object>"
      ]
     },
     "metadata": {},
     "output_type": "display_data"
    },
    {
     "name": "stdout",
     "output_type": "stream",
     "text": [
      "\n",
      "----------------------------------------\n",
      "\n",
      "to_mention_true\n"
     ]
    },
    {
     "data": {
      "text/html": [
       "<div style=\"white-space: nowrap\"><svg viewbox='0 0 430 430' width=\"172\" height=\"172\" id=\"agent_1\"><circle cx=\"215\" cy=\"215\" r=\"205\" fill=\"none\" stroke=\"black\" stroke-width=\"2\" stroke-dasharray=\"3,3\"/><circle cx=\"108\" cy=\"303\" r=\"9\" fill=\"rgb(174,174,174)\"/><circle cx=\"248\" cy=\"103\" r=\"11\" fill=\"rgb(119,119,119)\"/><circle cx=\"331\" cy=\"231\" r=\"7\" fill=\"rgb(67,67,67)\"/><circle cx=\"88\" cy=\"69\" r=\"12\" fill=\"rgb(185,185,185)\"/><circle cx=\"205\" cy=\"97\" r=\"11\" fill=\"rgb(160,160,160)\"/><circle cx=\"377\" cy=\"319\" r=\"9\" fill=\"rgb(200,200,200)\"/><circle cx=\"290\" cy=\"338\" r=\"10\" fill=\"rgb(170,170,170)\"/></svg><svg viewBox='0 0 430 430' id=\"svg\" width=\"172\" height=\"172\"><circle cx=\"215\" cy=\"215\" r=\"205\" fill=\"none\" stroke=\"black\" stroke-width=\"2\" stroke-dasharray=\"3,3\"/> <circle cx=\"108\" cy=\"303\" r=\"9\" fill=\"rgb(255,255,255)\" class=\"agent_1_0\"/><circle cx=\"248\" cy=\"103\" r=\"11\" fill=\"rgb(255,0,0)\" class=\"agent_1_1\"/><circle cx=\"331\" cy=\"231\" r=\"7\" fill=\"rgb(255,255,255)\" class=\"agent_1_15\"/><circle cx=\"88\" cy=\"69\" r=\"12\" fill=\"rgb(255,255,255)\" class=\"agent_1_32\"/><circle cx=\"205\" cy=\"97\" r=\"11\" fill=\"rgb(255,0,0)\" class=\"agent_1_38\"/><circle cx=\"377\" cy=\"319\" r=\"9\" fill=\"rgb(255,255,255)\" class=\"agent_1_44\"/><circle cx=\"290\" cy=\"338\" r=\"10\" fill=\"rgb(255,255,255)\" class=\"agent_1_68\"/></svg><svg viewBox='0 0 430 430' id=\"svg\" width=\"172\" height=\"172\"><circle cx=\"215\" cy=\"215\" r=\"205\" fill=\"none\" stroke=\"black\" stroke-width=\"2\" stroke-dasharray=\"3,3\"/> <circle cx=\"108\" cy=\"303\" r=\"9\" fill=\"rgb(255,255,255)\" class=\"agent_1_0\"/><circle cx=\"248\" cy=\"103\" r=\"11\" fill=\"rgb(255,0,0)\" class=\"agent_1_1\"/><circle cx=\"331\" cy=\"231\" r=\"7\" fill=\"rgb(255,255,255)\" class=\"agent_1_15\"/><circle cx=\"88\" cy=\"69\" r=\"12\" fill=\"rgb(255,255,255)\" class=\"agent_1_32\"/><circle cx=\"205\" cy=\"97\" r=\"11\" fill=\"rgb(255,255,255)\" class=\"agent_1_38\"/><circle cx=\"377\" cy=\"319\" r=\"9\" fill=\"rgb(255,255,255)\" class=\"agent_1_44\"/><circle cx=\"290\" cy=\"338\" r=\"10\" fill=\"rgb(255,255,255)\" class=\"agent_1_68\"/></svg></div>"
      ],
      "text/plain": [
       "<IPython.core.display.HTML object>"
      ]
     },
     "metadata": {},
     "output_type": "display_data"
    },
    {
     "name": "stdout",
     "output_type": "stream",
     "text": [
      "beam 0\tyes i see that . let 's pick the darker one on the right\n",
      "greedy\tyes i see that . let 's pick the darker one on the right <selection>\n",
      "human\tyes , i have that , let 's choose the right dark grey one ? <eos>\n",
      "refs_pred\n"
     ]
    },
    {
     "data": {
      "text/html": [
       "<div style=\"white-space: nowrap\"><svg viewbox='0 0 430 430' width=\"172\" height=\"172\" id=\"agent_1\"><circle cx=\"215\" cy=\"215\" r=\"205\" fill=\"none\" stroke=\"black\" stroke-width=\"2\" stroke-dasharray=\"3,3\"/><circle cx=\"108\" cy=\"303\" r=\"9\" fill=\"rgb(174,174,174)\"/><circle cx=\"248\" cy=\"103\" r=\"11\" fill=\"rgb(119,119,119)\"/><circle cx=\"331\" cy=\"231\" r=\"7\" fill=\"rgb(67,67,67)\"/><circle cx=\"88\" cy=\"69\" r=\"12\" fill=\"rgb(185,185,185)\"/><circle cx=\"205\" cy=\"97\" r=\"11\" fill=\"rgb(160,160,160)\"/><circle cx=\"377\" cy=\"319\" r=\"9\" fill=\"rgb(200,200,200)\"/><circle cx=\"290\" cy=\"338\" r=\"10\" fill=\"rgb(170,170,170)\"/></svg><svg viewBox='0 0 430 430' id=\"svg\" width=\"172\" height=\"172\"><circle cx=\"215\" cy=\"215\" r=\"205\" fill=\"none\" stroke=\"black\" stroke-width=\"2\" stroke-dasharray=\"3,3\"/> <circle cx=\"108\" cy=\"303\" r=\"9\" fill=\"rgb(255,255,255)\" class=\"agent_1_0\"/><circle cx=\"248\" cy=\"103\" r=\"11\" fill=\"rgb(255,0,0)\" class=\"agent_1_1\"/><circle cx=\"331\" cy=\"231\" r=\"7\" fill=\"rgb(255,255,255)\" class=\"agent_1_15\"/><circle cx=\"88\" cy=\"69\" r=\"12\" fill=\"rgb(255,255,255)\" class=\"agent_1_32\"/><circle cx=\"205\" cy=\"97\" r=\"11\" fill=\"rgb(255,0,0)\" class=\"agent_1_38\"/><circle cx=\"377\" cy=\"319\" r=\"9\" fill=\"rgb(255,255,255)\" class=\"agent_1_44\"/><circle cx=\"290\" cy=\"338\" r=\"10\" fill=\"rgb(255,255,255)\" class=\"agent_1_68\"/></svg><svg viewBox='0 0 430 430' id=\"svg\" width=\"172\" height=\"172\"><circle cx=\"215\" cy=\"215\" r=\"205\" fill=\"none\" stroke=\"black\" stroke-width=\"2\" stroke-dasharray=\"3,3\"/> <circle cx=\"108\" cy=\"303\" r=\"9\" fill=\"rgb(255,255,255)\" class=\"agent_1_0\"/><circle cx=\"248\" cy=\"103\" r=\"11\" fill=\"rgb(255,0,0)\" class=\"agent_1_1\"/><circle cx=\"331\" cy=\"231\" r=\"7\" fill=\"rgb(255,255,255)\" class=\"agent_1_15\"/><circle cx=\"88\" cy=\"69\" r=\"12\" fill=\"rgb(255,255,255)\" class=\"agent_1_32\"/><circle cx=\"205\" cy=\"97\" r=\"11\" fill=\"rgb(255,255,255)\" class=\"agent_1_38\"/><circle cx=\"377\" cy=\"319\" r=\"9\" fill=\"rgb(255,255,255)\" class=\"agent_1_44\"/><circle cx=\"290\" cy=\"338\" r=\"10\" fill=\"rgb(255,255,255)\" class=\"agent_1_68\"/></svg></div>"
      ],
      "text/plain": [
       "<IPython.core.display.HTML object>"
      ]
     },
     "metadata": {},
     "output_type": "display_data"
    },
    {
     "name": "stdout",
     "output_type": "stream",
     "text": [
      "refs_true\n"
     ]
    },
    {
     "data": {
      "text/html": [
       "<div style=\"white-space: nowrap\"><svg viewbox='0 0 430 430' width=\"172\" height=\"172\" id=\"agent_1\"><circle cx=\"215\" cy=\"215\" r=\"205\" fill=\"none\" stroke=\"black\" stroke-width=\"2\" stroke-dasharray=\"3,3\"/><circle cx=\"108\" cy=\"303\" r=\"9\" fill=\"rgb(174,174,174)\"/><circle cx=\"248\" cy=\"103\" r=\"11\" fill=\"rgb(119,119,119)\"/><circle cx=\"331\" cy=\"231\" r=\"7\" fill=\"rgb(67,67,67)\"/><circle cx=\"88\" cy=\"69\" r=\"12\" fill=\"rgb(185,185,185)\"/><circle cx=\"205\" cy=\"97\" r=\"11\" fill=\"rgb(160,160,160)\"/><circle cx=\"377\" cy=\"319\" r=\"9\" fill=\"rgb(200,200,200)\"/><circle cx=\"290\" cy=\"338\" r=\"10\" fill=\"rgb(170,170,170)\"/></svg><svg viewBox='0 0 430 430' id=\"svg\" width=\"172\" height=\"172\"><circle cx=\"215\" cy=\"215\" r=\"205\" fill=\"none\" stroke=\"black\" stroke-width=\"2\" stroke-dasharray=\"3,3\"/> <circle cx=\"108\" cy=\"303\" r=\"9\" fill=\"rgb(255,255,255)\" class=\"agent_1_0\"/><circle cx=\"248\" cy=\"103\" r=\"11\" fill=\"rgb(255,0,0)\" class=\"agent_1_1\"/><circle cx=\"331\" cy=\"231\" r=\"7\" fill=\"rgb(255,255,255)\" class=\"agent_1_15\"/><circle cx=\"88\" cy=\"69\" r=\"12\" fill=\"rgb(255,255,255)\" class=\"agent_1_32\"/><circle cx=\"205\" cy=\"97\" r=\"11\" fill=\"rgb(255,0,0)\" class=\"agent_1_38\"/><circle cx=\"377\" cy=\"319\" r=\"9\" fill=\"rgb(255,255,255)\" class=\"agent_1_44\"/><circle cx=\"290\" cy=\"338\" r=\"10\" fill=\"rgb(255,255,255)\" class=\"agent_1_68\"/></svg><svg viewBox='0 0 430 430' id=\"svg\" width=\"172\" height=\"172\"><circle cx=\"215\" cy=\"215\" r=\"205\" fill=\"none\" stroke=\"black\" stroke-width=\"2\" stroke-dasharray=\"3,3\"/> <circle cx=\"108\" cy=\"303\" r=\"9\" fill=\"rgb(255,255,255)\" class=\"agent_1_0\"/><circle cx=\"248\" cy=\"103\" r=\"11\" fill=\"rgb(255,0,0)\" class=\"agent_1_1\"/><circle cx=\"331\" cy=\"231\" r=\"7\" fill=\"rgb(255,255,255)\" class=\"agent_1_15\"/><circle cx=\"88\" cy=\"69\" r=\"12\" fill=\"rgb(255,255,255)\" class=\"agent_1_32\"/><circle cx=\"205\" cy=\"97\" r=\"11\" fill=\"rgb(255,255,255)\" class=\"agent_1_38\"/><circle cx=\"377\" cy=\"319\" r=\"9\" fill=\"rgb(255,255,255)\" class=\"agent_1_44\"/><circle cx=\"290\" cy=\"338\" r=\"10\" fill=\"rgb(255,255,255)\" class=\"agent_1_68\"/></svg></div>"
      ],
      "text/plain": [
       "<IPython.core.display.HTML object>"
      ]
     },
     "metadata": {},
     "output_type": "display_data"
    },
    {
     "name": "stdout",
     "output_type": "stream",
     "text": [
      "\n",
      "----------------------------------------\n",
      "\n",
      "human\tTHEM: ok <selection>\n",
      "\n",
      "----------------------------------------\n",
      "\n"
     ]
    }
   ],
   "source": [
    "force_contexts_and_mentions(4, candidates=1)"
   ]
  },
  {
   "cell_type": "code",
   "execution_count": 61,
   "metadata": {
    "scrolled": false
   },
   "outputs": [
    {
     "name": "stdout",
     "output_type": "stream",
     "text": [
      "human\tTHEM: do you have one large dark grey dot next to a slightly smaller and slightly lighter one ? <eos>\n",
      "partner_refs_pred\n"
     ]
    },
    {
     "data": {
      "text/html": [
       "<div style=\"white-space: nowrap\"><svg viewbox='0 0 430 430' width=\"172\" height=\"172\" id=\"agent_0\"><circle cx=\"215\" cy=\"215\" r=\"205\" fill=\"none\" stroke=\"black\" stroke-width=\"2\" stroke-dasharray=\"3,3\"/><circle cx=\"129\" cy=\"344\" r=\"8\" fill=\"rgb(180,180,180)\"/><circle cx=\"246\" cy=\"221\" r=\"13\" fill=\"rgb(130,130,130)\"/><circle cx=\"352\" cy=\"249\" r=\"12\" fill=\"rgb(58,58,58)\"/><circle cx=\"352\" cy=\"285\" r=\"8\" fill=\"rgb(93,93,93)\"/><circle cx=\"84\" cy=\"201\" r=\"9\" fill=\"rgb(99,99,99)\"/><circle cx=\"287\" cy=\"311\" r=\"11\" fill=\"rgb(175,175,175)\"/><circle cx=\"378\" cy=\"109\" r=\"8\" fill=\"rgb(81,81,81)\"/></svg><svg viewBox='0 0 430 430' id=\"svg\" width=\"172\" height=\"172\"><circle cx=\"215\" cy=\"215\" r=\"205\" fill=\"none\" stroke=\"black\" stroke-width=\"2\" stroke-dasharray=\"3,3\"/> <circle cx=\"129\" cy=\"344\" r=\"8\" fill=\"rgb(255,255,255)\" class=\"agent_0_1\"/><circle cx=\"246\" cy=\"221\" r=\"13\" fill=\"rgb(255,255,255)\" class=\"agent_0_4\"/><circle cx=\"352\" cy=\"249\" r=\"12\" fill=\"rgb(255,0,0)\" class=\"agent_0_7\"/><circle cx=\"352\" cy=\"285\" r=\"8\" fill=\"rgb(255,255,255)\" class=\"agent_0_8\"/><circle cx=\"84\" cy=\"201\" r=\"9\" fill=\"rgb(255,255,255)\" class=\"agent_0_41\"/><circle cx=\"287\" cy=\"311\" r=\"11\" fill=\"rgb(255,255,255)\" class=\"agent_0_47\"/><circle cx=\"378\" cy=\"109\" r=\"8\" fill=\"rgb(255,255,255)\" class=\"agent_0_52\"/></svg><svg viewBox='0 0 430 430' id=\"svg\" width=\"172\" height=\"172\"><circle cx=\"215\" cy=\"215\" r=\"205\" fill=\"none\" stroke=\"black\" stroke-width=\"2\" stroke-dasharray=\"3,3\"/> <circle cx=\"129\" cy=\"344\" r=\"8\" fill=\"rgb(255,255,255)\" class=\"agent_0_1\"/><circle cx=\"246\" cy=\"221\" r=\"13\" fill=\"rgb(255,255,255)\" class=\"agent_0_4\"/><circle cx=\"352\" cy=\"249\" r=\"12\" fill=\"rgb(255,255,255)\" class=\"agent_0_7\"/><circle cx=\"352\" cy=\"285\" r=\"8\" fill=\"rgb(255,0,0)\" class=\"agent_0_8\"/><circle cx=\"84\" cy=\"201\" r=\"9\" fill=\"rgb(255,255,255)\" class=\"agent_0_41\"/><circle cx=\"287\" cy=\"311\" r=\"11\" fill=\"rgb(255,255,255)\" class=\"agent_0_47\"/><circle cx=\"378\" cy=\"109\" r=\"8\" fill=\"rgb(255,255,255)\" class=\"agent_0_52\"/></svg></div>"
      ],
      "text/plain": [
       "<IPython.core.display.HTML object>"
      ]
     },
     "metadata": {},
     "output_type": "display_data"
    },
    {
     "name": "stdout",
     "output_type": "stream",
     "text": [
      "partner_refs_true\n"
     ]
    },
    {
     "data": {
      "text/html": [
       "<div style=\"white-space: nowrap\"><svg viewbox='0 0 430 430' width=\"172\" height=\"172\" id=\"agent_0\"><circle cx=\"215\" cy=\"215\" r=\"205\" fill=\"none\" stroke=\"black\" stroke-width=\"2\" stroke-dasharray=\"3,3\"/><circle cx=\"129\" cy=\"344\" r=\"8\" fill=\"rgb(180,180,180)\"/><circle cx=\"246\" cy=\"221\" r=\"13\" fill=\"rgb(130,130,130)\"/><circle cx=\"352\" cy=\"249\" r=\"12\" fill=\"rgb(58,58,58)\"/><circle cx=\"352\" cy=\"285\" r=\"8\" fill=\"rgb(93,93,93)\"/><circle cx=\"84\" cy=\"201\" r=\"9\" fill=\"rgb(99,99,99)\"/><circle cx=\"287\" cy=\"311\" r=\"11\" fill=\"rgb(175,175,175)\"/><circle cx=\"378\" cy=\"109\" r=\"8\" fill=\"rgb(81,81,81)\"/></svg><svg viewBox='0 0 430 430' id=\"svg\" width=\"172\" height=\"172\"><circle cx=\"215\" cy=\"215\" r=\"205\" fill=\"none\" stroke=\"black\" stroke-width=\"2\" stroke-dasharray=\"3,3\"/> <circle cx=\"129\" cy=\"344\" r=\"8\" fill=\"rgb(255,255,255)\" class=\"agent_0_1\"/><circle cx=\"246\" cy=\"221\" r=\"13\" fill=\"rgb(255,0,0)\" class=\"agent_0_4\"/><circle cx=\"352\" cy=\"249\" r=\"12\" fill=\"rgb(255,255,255)\" class=\"agent_0_7\"/><circle cx=\"352\" cy=\"285\" r=\"8\" fill=\"rgb(255,255,255)\" class=\"agent_0_8\"/><circle cx=\"84\" cy=\"201\" r=\"9\" fill=\"rgb(255,255,255)\" class=\"agent_0_41\"/><circle cx=\"287\" cy=\"311\" r=\"11\" fill=\"rgb(255,255,255)\" class=\"agent_0_47\"/><circle cx=\"378\" cy=\"109\" r=\"8\" fill=\"rgb(255,255,255)\" class=\"agent_0_52\"/></svg><svg viewBox='0 0 430 430' id=\"svg\" width=\"172\" height=\"172\"><circle cx=\"215\" cy=\"215\" r=\"205\" fill=\"none\" stroke=\"black\" stroke-width=\"2\" stroke-dasharray=\"3,3\"/> <circle cx=\"129\" cy=\"344\" r=\"8\" fill=\"rgb(255,255,255)\" class=\"agent_0_1\"/><circle cx=\"246\" cy=\"221\" r=\"13\" fill=\"rgb(255,255,255)\" class=\"agent_0_4\"/><circle cx=\"352\" cy=\"249\" r=\"12\" fill=\"rgb(255,255,255)\" class=\"agent_0_7\"/><circle cx=\"352\" cy=\"285\" r=\"8\" fill=\"rgb(255,255,255)\" class=\"agent_0_8\"/><circle cx=\"84\" cy=\"201\" r=\"9\" fill=\"rgb(255,255,255)\" class=\"agent_0_41\"/><circle cx=\"287\" cy=\"311\" r=\"11\" fill=\"rgb(255,0,0)\" class=\"agent_0_47\"/><circle cx=\"378\" cy=\"109\" r=\"8\" fill=\"rgb(255,255,255)\" class=\"agent_0_52\"/></svg></div>"
      ],
      "text/plain": [
       "<IPython.core.display.HTML object>"
      ]
     },
     "metadata": {},
     "output_type": "display_data"
    },
    {
     "name": "stdout",
     "output_type": "stream",
     "text": [
      "\n",
      "----------------------------------------\n",
      "\n",
      "to_mention_pred\n"
     ]
    },
    {
     "data": {
      "text/html": [
       "<div style=\"white-space: nowrap\"><svg viewbox='0 0 430 430' width=\"172\" height=\"172\" id=\"agent_0\"><circle cx=\"215\" cy=\"215\" r=\"205\" fill=\"none\" stroke=\"black\" stroke-width=\"2\" stroke-dasharray=\"3,3\"/><circle cx=\"129\" cy=\"344\" r=\"8\" fill=\"rgb(180,180,180)\"/><circle cx=\"246\" cy=\"221\" r=\"13\" fill=\"rgb(130,130,130)\"/><circle cx=\"352\" cy=\"249\" r=\"12\" fill=\"rgb(58,58,58)\"/><circle cx=\"352\" cy=\"285\" r=\"8\" fill=\"rgb(93,93,93)\"/><circle cx=\"84\" cy=\"201\" r=\"9\" fill=\"rgb(99,99,99)\"/><circle cx=\"287\" cy=\"311\" r=\"11\" fill=\"rgb(175,175,175)\"/><circle cx=\"378\" cy=\"109\" r=\"8\" fill=\"rgb(81,81,81)\"/></svg><svg viewBox='0 0 430 430' id=\"svg\" width=\"172\" height=\"172\"><circle cx=\"215\" cy=\"215\" r=\"205\" fill=\"none\" stroke=\"black\" stroke-width=\"2\" stroke-dasharray=\"3,3\"/> <circle cx=\"129\" cy=\"344\" r=\"8\" fill=\"rgb(255,255,255)\" class=\"agent_0_1\"/><circle cx=\"246\" cy=\"221\" r=\"13\" fill=\"rgb(255,255,255)\" class=\"agent_0_4\"/><circle cx=\"352\" cy=\"249\" r=\"12\" fill=\"rgb(255,0,0)\" class=\"agent_0_7\"/><circle cx=\"352\" cy=\"285\" r=\"8\" fill=\"rgb(255,255,255)\" class=\"agent_0_8\"/><circle cx=\"84\" cy=\"201\" r=\"9\" fill=\"rgb(255,255,255)\" class=\"agent_0_41\"/><circle cx=\"287\" cy=\"311\" r=\"11\" fill=\"rgb(255,255,255)\" class=\"agent_0_47\"/><circle cx=\"378\" cy=\"109\" r=\"8\" fill=\"rgb(255,255,255)\" class=\"agent_0_52\"/></svg><svg viewBox='0 0 430 430' id=\"svg\" width=\"172\" height=\"172\"><circle cx=\"215\" cy=\"215\" r=\"205\" fill=\"none\" stroke=\"black\" stroke-width=\"2\" stroke-dasharray=\"3,3\"/> <circle cx=\"129\" cy=\"344\" r=\"8\" fill=\"rgb(255,255,255)\" class=\"agent_0_1\"/><circle cx=\"246\" cy=\"221\" r=\"13\" fill=\"rgb(255,255,255)\" class=\"agent_0_4\"/><circle cx=\"352\" cy=\"249\" r=\"12\" fill=\"rgb(255,255,255)\" class=\"agent_0_7\"/><circle cx=\"352\" cy=\"285\" r=\"8\" fill=\"rgb(255,0,0)\" class=\"agent_0_8\"/><circle cx=\"84\" cy=\"201\" r=\"9\" fill=\"rgb(255,255,255)\" class=\"agent_0_41\"/><circle cx=\"287\" cy=\"311\" r=\"11\" fill=\"rgb(255,255,255)\" class=\"agent_0_47\"/><circle cx=\"378\" cy=\"109\" r=\"8\" fill=\"rgb(255,255,255)\" class=\"agent_0_52\"/></svg><svg viewBox='0 0 430 430' id=\"svg\" width=\"172\" height=\"172\"><circle cx=\"215\" cy=\"215\" r=\"205\" fill=\"none\" stroke=\"black\" stroke-width=\"2\" stroke-dasharray=\"3,3\"/> <circle cx=\"129\" cy=\"344\" r=\"8\" fill=\"rgb(255,255,255)\" class=\"agent_0_1\"/><circle cx=\"246\" cy=\"221\" r=\"13\" fill=\"rgb(255,255,255)\" class=\"agent_0_4\"/><circle cx=\"352\" cy=\"249\" r=\"12\" fill=\"rgb(255,0,0)\" class=\"agent_0_7\"/><circle cx=\"352\" cy=\"285\" r=\"8\" fill=\"rgb(255,255,255)\" class=\"agent_0_8\"/><circle cx=\"84\" cy=\"201\" r=\"9\" fill=\"rgb(255,255,255)\" class=\"agent_0_41\"/><circle cx=\"287\" cy=\"311\" r=\"11\" fill=\"rgb(255,255,255)\" class=\"agent_0_47\"/><circle cx=\"378\" cy=\"109\" r=\"8\" fill=\"rgb(255,255,255)\" class=\"agent_0_52\"/></svg><svg viewBox='0 0 430 430' id=\"svg\" width=\"172\" height=\"172\"><circle cx=\"215\" cy=\"215\" r=\"205\" fill=\"none\" stroke=\"black\" stroke-width=\"2\" stroke-dasharray=\"3,3\"/> <circle cx=\"129\" cy=\"344\" r=\"8\" fill=\"rgb(255,255,255)\" class=\"agent_0_1\"/><circle cx=\"246\" cy=\"221\" r=\"13\" fill=\"rgb(255,255,255)\" class=\"agent_0_4\"/><circle cx=\"352\" cy=\"249\" r=\"12\" fill=\"rgb(255,255,255)\" class=\"agent_0_7\"/><circle cx=\"352\" cy=\"285\" r=\"8\" fill=\"rgb(255,0,0)\" class=\"agent_0_8\"/><circle cx=\"84\" cy=\"201\" r=\"9\" fill=\"rgb(255,255,255)\" class=\"agent_0_41\"/><circle cx=\"287\" cy=\"311\" r=\"11\" fill=\"rgb(255,255,255)\" class=\"agent_0_47\"/><circle cx=\"378\" cy=\"109\" r=\"8\" fill=\"rgb(255,255,255)\" class=\"agent_0_52\"/></svg><svg viewBox='0 0 430 430' id=\"svg\" width=\"172\" height=\"172\"><circle cx=\"215\" cy=\"215\" r=\"205\" fill=\"none\" stroke=\"black\" stroke-width=\"2\" stroke-dasharray=\"3,3\"/> <circle cx=\"129\" cy=\"344\" r=\"8\" fill=\"rgb(255,255,255)\" class=\"agent_0_1\"/><circle cx=\"246\" cy=\"221\" r=\"13\" fill=\"rgb(255,255,255)\" class=\"agent_0_4\"/><circle cx=\"352\" cy=\"249\" r=\"12\" fill=\"rgb(255,0,0)\" class=\"agent_0_7\"/><circle cx=\"352\" cy=\"285\" r=\"8\" fill=\"rgb(255,255,255)\" class=\"agent_0_8\"/><circle cx=\"84\" cy=\"201\" r=\"9\" fill=\"rgb(255,255,255)\" class=\"agent_0_41\"/><circle cx=\"287\" cy=\"311\" r=\"11\" fill=\"rgb(255,255,255)\" class=\"agent_0_47\"/><circle cx=\"378\" cy=\"109\" r=\"8\" fill=\"rgb(255,255,255)\" class=\"agent_0_52\"/></svg></div>"
      ],
      "text/plain": [
       "<IPython.core.display.HTML object>"
      ]
     },
     "metadata": {},
     "output_type": "display_data"
    },
    {
     "name": "stdout",
     "output_type": "stream",
     "text": [
      "to_mention_true\n"
     ]
    },
    {
     "data": {
      "text/html": [
       "<div style=\"white-space: nowrap\"><svg viewbox='0 0 430 430' width=\"172\" height=\"172\" id=\"agent_0\"><circle cx=\"215\" cy=\"215\" r=\"205\" fill=\"none\" stroke=\"black\" stroke-width=\"2\" stroke-dasharray=\"3,3\"/><circle cx=\"129\" cy=\"344\" r=\"8\" fill=\"rgb(180,180,180)\"/><circle cx=\"246\" cy=\"221\" r=\"13\" fill=\"rgb(130,130,130)\"/><circle cx=\"352\" cy=\"249\" r=\"12\" fill=\"rgb(58,58,58)\"/><circle cx=\"352\" cy=\"285\" r=\"8\" fill=\"rgb(93,93,93)\"/><circle cx=\"84\" cy=\"201\" r=\"9\" fill=\"rgb(99,99,99)\"/><circle cx=\"287\" cy=\"311\" r=\"11\" fill=\"rgb(175,175,175)\"/><circle cx=\"378\" cy=\"109\" r=\"8\" fill=\"rgb(81,81,81)\"/></svg><svg viewBox='0 0 430 430' id=\"svg\" width=\"172\" height=\"172\"><circle cx=\"215\" cy=\"215\" r=\"205\" fill=\"none\" stroke=\"black\" stroke-width=\"2\" stroke-dasharray=\"3,3\"/> <circle cx=\"129\" cy=\"344\" r=\"8\" fill=\"rgb(255,255,255)\" class=\"agent_0_1\"/><circle cx=\"246\" cy=\"221\" r=\"13\" fill=\"rgb(255,0,0)\" class=\"agent_0_4\"/><circle cx=\"352\" cy=\"249\" r=\"12\" fill=\"rgb(255,255,255)\" class=\"agent_0_7\"/><circle cx=\"352\" cy=\"285\" r=\"8\" fill=\"rgb(255,255,255)\" class=\"agent_0_8\"/><circle cx=\"84\" cy=\"201\" r=\"9\" fill=\"rgb(255,255,255)\" class=\"agent_0_41\"/><circle cx=\"287\" cy=\"311\" r=\"11\" fill=\"rgb(255,255,255)\" class=\"agent_0_47\"/><circle cx=\"378\" cy=\"109\" r=\"8\" fill=\"rgb(255,255,255)\" class=\"agent_0_52\"/></svg><svg viewBox='0 0 430 430' id=\"svg\" width=\"172\" height=\"172\"><circle cx=\"215\" cy=\"215\" r=\"205\" fill=\"none\" stroke=\"black\" stroke-width=\"2\" stroke-dasharray=\"3,3\"/> <circle cx=\"129\" cy=\"344\" r=\"8\" fill=\"rgb(255,255,255)\" class=\"agent_0_1\"/><circle cx=\"246\" cy=\"221\" r=\"13\" fill=\"rgb(255,0,0)\" class=\"agent_0_4\"/><circle cx=\"352\" cy=\"249\" r=\"12\" fill=\"rgb(255,255,255)\" class=\"agent_0_7\"/><circle cx=\"352\" cy=\"285\" r=\"8\" fill=\"rgb(255,255,255)\" class=\"agent_0_8\"/><circle cx=\"84\" cy=\"201\" r=\"9\" fill=\"rgb(255,255,255)\" class=\"agent_0_41\"/><circle cx=\"287\" cy=\"311\" r=\"11\" fill=\"rgb(255,255,255)\" class=\"agent_0_47\"/><circle cx=\"378\" cy=\"109\" r=\"8\" fill=\"rgb(255,255,255)\" class=\"agent_0_52\"/></svg><svg viewBox='0 0 430 430' id=\"svg\" width=\"172\" height=\"172\"><circle cx=\"215\" cy=\"215\" r=\"205\" fill=\"none\" stroke=\"black\" stroke-width=\"2\" stroke-dasharray=\"3,3\"/> <circle cx=\"129\" cy=\"344\" r=\"8\" fill=\"rgb(255,255,255)\" class=\"agent_0_1\"/><circle cx=\"246\" cy=\"221\" r=\"13\" fill=\"rgb(255,255,255)\" class=\"agent_0_4\"/><circle cx=\"352\" cy=\"249\" r=\"12\" fill=\"rgb(255,0,0)\" class=\"agent_0_7\"/><circle cx=\"352\" cy=\"285\" r=\"8\" fill=\"rgb(255,255,255)\" class=\"agent_0_8\"/><circle cx=\"84\" cy=\"201\" r=\"9\" fill=\"rgb(255,255,255)\" class=\"agent_0_41\"/><circle cx=\"287\" cy=\"311\" r=\"11\" fill=\"rgb(255,255,255)\" class=\"agent_0_47\"/><circle cx=\"378\" cy=\"109\" r=\"8\" fill=\"rgb(255,255,255)\" class=\"agent_0_52\"/></svg><svg viewBox='0 0 430 430' id=\"svg\" width=\"172\" height=\"172\"><circle cx=\"215\" cy=\"215\" r=\"205\" fill=\"none\" stroke=\"black\" stroke-width=\"2\" stroke-dasharray=\"3,3\"/> <circle cx=\"129\" cy=\"344\" r=\"8\" fill=\"rgb(255,255,255)\" class=\"agent_0_1\"/><circle cx=\"246\" cy=\"221\" r=\"13\" fill=\"rgb(255,255,255)\" class=\"agent_0_4\"/><circle cx=\"352\" cy=\"249\" r=\"12\" fill=\"rgb(255,255,255)\" class=\"agent_0_7\"/><circle cx=\"352\" cy=\"285\" r=\"8\" fill=\"rgb(255,0,0)\" class=\"agent_0_8\"/><circle cx=\"84\" cy=\"201\" r=\"9\" fill=\"rgb(255,255,255)\" class=\"agent_0_41\"/><circle cx=\"287\" cy=\"311\" r=\"11\" fill=\"rgb(255,255,255)\" class=\"agent_0_47\"/><circle cx=\"378\" cy=\"109\" r=\"8\" fill=\"rgb(255,255,255)\" class=\"agent_0_52\"/></svg><svg viewBox='0 0 430 430' id=\"svg\" width=\"172\" height=\"172\"><circle cx=\"215\" cy=\"215\" r=\"205\" fill=\"none\" stroke=\"black\" stroke-width=\"2\" stroke-dasharray=\"3,3\"/> <circle cx=\"129\" cy=\"344\" r=\"8\" fill=\"rgb(255,255,255)\" class=\"agent_0_1\"/><circle cx=\"246\" cy=\"221\" r=\"13\" fill=\"rgb(255,255,255)\" class=\"agent_0_4\"/><circle cx=\"352\" cy=\"249\" r=\"12\" fill=\"rgb(255,0,0)\" class=\"agent_0_7\"/><circle cx=\"352\" cy=\"285\" r=\"8\" fill=\"rgb(255,255,255)\" class=\"agent_0_8\"/><circle cx=\"84\" cy=\"201\" r=\"9\" fill=\"rgb(255,255,255)\" class=\"agent_0_41\"/><circle cx=\"287\" cy=\"311\" r=\"11\" fill=\"rgb(255,255,255)\" class=\"agent_0_47\"/><circle cx=\"378\" cy=\"109\" r=\"8\" fill=\"rgb(255,255,255)\" class=\"agent_0_52\"/></svg></div>"
      ],
      "text/plain": [
       "<IPython.core.display.HTML object>"
      ]
     },
     "metadata": {},
     "output_type": "display_data"
    },
    {
     "name": "stdout",
     "output_type": "stream",
     "text": [
      "beam 0\tdo you have a large dark grey dot with a smaller black dot to the right of it and a small black dot to the right of it ?\n",
      "beam 1\tdo you have a large dark grey dot with a small black dot to the right of it and a small black dot to the right of it ?\n",
      "beam 2\tdo you have a large medium grey dot with a smaller black dot to the right of it and a small black dot to the right of it ?\n",
      "beam 3\tdo you have a large dark grey dot with a smaller black dot to the right of it and a large black dot to the right of it ?\n",
      "beam 4\tdo you have a large medium grey dot with a smaller black dot to the right of it and a large black dot to the right of it ?\n",
      "beam 5\tdo you have a large dark grey dot with a small black dot to the right of it and a large black dot to the right of it ?\n",
      "beam 6\tdo you have a large dark grey dot with a smaller black dot to the right of it and a smaller black dot to the right of it ?\n",
      "beam 7\tdo you have a large dark grey dot with a small black dot to the right of it and a smaller black dot to the right of it ?\n",
      "beam 8\tdo you have a large dark grey dot with a smaller black dot to the right of it and a small black dot to the left of it ?\n",
      "beam 9\tdo you have a large medium grey dot with a smaller black dot to the right of it and a smaller black dot to the right of it ?\n",
      "beam 10\tdo you have a large dark grey dot with a small black dot to the right of it and a small black dot to the left of it ?\n",
      "beam 11\tdo you have a large medium grey dot with a smaller black dot to the right of it and a small black dot to the left of it ?\n",
      "beam 12\tdo you have a large dark grey dot with a smaller black dot to the right of it and a large black dot to the left of it ?\n",
      "beam 13\tdo you have a large dark grey dot with a smaller black dot to the right of it and a large black dot to the right of it\n",
      "beam 14\tdo you have a large medium grey dot with a smaller black dot to the right of it and a large black dot to the left of it ?\n",
      "beam 15\tdo you have a large dark grey dot with a small black dot to the right of it and a large black dot to the right of it\n",
      "beam 16\tdo you have a large dark grey dot with a small black dot to the right of it and a large black dot to the left of it ?\n",
      "beam 17\tdo you have a large medium grey dot with a smaller black dot to the right of it and a large black dot to the right of it\n",
      "beam 18\tdo you have a large dark grey dot with a smaller black dot to the right of it and a small black dot to the right of it\n",
      "beam 19\tdo you have a large dark grey dot with a small black dot to the right of it and a small black dot to the right of it\n",
      "greedy\ti have a large dark grey dot with a smaller black dot to the right of it . i have a large black dot to the right of it <eos>\n",
      "human\tdo you have a large dark grey , and an inch to it 's right , slightly lower is a black one that 's a bit smaller ? there 's a tiny dark one directly below the black one <eos>\n",
      "refs_pred\n"
     ]
    },
    {
     "data": {
      "text/html": [
       "<div style=\"white-space: nowrap\"><svg viewbox='0 0 430 430' width=\"172\" height=\"172\" id=\"agent_0\"><circle cx=\"215\" cy=\"215\" r=\"205\" fill=\"none\" stroke=\"black\" stroke-width=\"2\" stroke-dasharray=\"3,3\"/><circle cx=\"129\" cy=\"344\" r=\"8\" fill=\"rgb(180,180,180)\"/><circle cx=\"246\" cy=\"221\" r=\"13\" fill=\"rgb(130,130,130)\"/><circle cx=\"352\" cy=\"249\" r=\"12\" fill=\"rgb(58,58,58)\"/><circle cx=\"352\" cy=\"285\" r=\"8\" fill=\"rgb(93,93,93)\"/><circle cx=\"84\" cy=\"201\" r=\"9\" fill=\"rgb(99,99,99)\"/><circle cx=\"287\" cy=\"311\" r=\"11\" fill=\"rgb(175,175,175)\"/><circle cx=\"378\" cy=\"109\" r=\"8\" fill=\"rgb(81,81,81)\"/></svg><svg viewBox='0 0 430 430' id=\"svg\" width=\"172\" height=\"172\"><circle cx=\"215\" cy=\"215\" r=\"205\" fill=\"none\" stroke=\"black\" stroke-width=\"2\" stroke-dasharray=\"3,3\"/> <circle cx=\"129\" cy=\"344\" r=\"8\" fill=\"rgb(255,255,255)\" class=\"agent_0_1\"/><circle cx=\"246\" cy=\"221\" r=\"13\" fill=\"rgb(255,0,0)\" class=\"agent_0_4\"/><circle cx=\"352\" cy=\"249\" r=\"12\" fill=\"rgb(255,255,255)\" class=\"agent_0_7\"/><circle cx=\"352\" cy=\"285\" r=\"8\" fill=\"rgb(255,255,255)\" class=\"agent_0_8\"/><circle cx=\"84\" cy=\"201\" r=\"9\" fill=\"rgb(255,255,255)\" class=\"agent_0_41\"/><circle cx=\"287\" cy=\"311\" r=\"11\" fill=\"rgb(255,255,255)\" class=\"agent_0_47\"/><circle cx=\"378\" cy=\"109\" r=\"8\" fill=\"rgb(255,255,255)\" class=\"agent_0_52\"/></svg><svg viewBox='0 0 430 430' id=\"svg\" width=\"172\" height=\"172\"><circle cx=\"215\" cy=\"215\" r=\"205\" fill=\"none\" stroke=\"black\" stroke-width=\"2\" stroke-dasharray=\"3,3\"/> <circle cx=\"129\" cy=\"344\" r=\"8\" fill=\"rgb(255,255,255)\" class=\"agent_0_1\"/><circle cx=\"246\" cy=\"221\" r=\"13\" fill=\"rgb(255,0,0)\" class=\"agent_0_4\"/><circle cx=\"352\" cy=\"249\" r=\"12\" fill=\"rgb(255,255,255)\" class=\"agent_0_7\"/><circle cx=\"352\" cy=\"285\" r=\"8\" fill=\"rgb(255,255,255)\" class=\"agent_0_8\"/><circle cx=\"84\" cy=\"201\" r=\"9\" fill=\"rgb(255,255,255)\" class=\"agent_0_41\"/><circle cx=\"287\" cy=\"311\" r=\"11\" fill=\"rgb(255,255,255)\" class=\"agent_0_47\"/><circle cx=\"378\" cy=\"109\" r=\"8\" fill=\"rgb(255,255,255)\" class=\"agent_0_52\"/></svg><svg viewBox='0 0 430 430' id=\"svg\" width=\"172\" height=\"172\"><circle cx=\"215\" cy=\"215\" r=\"205\" fill=\"none\" stroke=\"black\" stroke-width=\"2\" stroke-dasharray=\"3,3\"/> <circle cx=\"129\" cy=\"344\" r=\"8\" fill=\"rgb(255,255,255)\" class=\"agent_0_1\"/><circle cx=\"246\" cy=\"221\" r=\"13\" fill=\"rgb(255,255,255)\" class=\"agent_0_4\"/><circle cx=\"352\" cy=\"249\" r=\"12\" fill=\"rgb(255,0,0)\" class=\"agent_0_7\"/><circle cx=\"352\" cy=\"285\" r=\"8\" fill=\"rgb(255,255,255)\" class=\"agent_0_8\"/><circle cx=\"84\" cy=\"201\" r=\"9\" fill=\"rgb(255,255,255)\" class=\"agent_0_41\"/><circle cx=\"287\" cy=\"311\" r=\"11\" fill=\"rgb(255,255,255)\" class=\"agent_0_47\"/><circle cx=\"378\" cy=\"109\" r=\"8\" fill=\"rgb(255,255,255)\" class=\"agent_0_52\"/></svg><svg viewBox='0 0 430 430' id=\"svg\" width=\"172\" height=\"172\"><circle cx=\"215\" cy=\"215\" r=\"205\" fill=\"none\" stroke=\"black\" stroke-width=\"2\" stroke-dasharray=\"3,3\"/> <circle cx=\"129\" cy=\"344\" r=\"8\" fill=\"rgb(255,255,255)\" class=\"agent_0_1\"/><circle cx=\"246\" cy=\"221\" r=\"13\" fill=\"rgb(255,255,255)\" class=\"agent_0_4\"/><circle cx=\"352\" cy=\"249\" r=\"12\" fill=\"rgb(255,255,255)\" class=\"agent_0_7\"/><circle cx=\"352\" cy=\"285\" r=\"8\" fill=\"rgb(255,0,0)\" class=\"agent_0_8\"/><circle cx=\"84\" cy=\"201\" r=\"9\" fill=\"rgb(255,255,255)\" class=\"agent_0_41\"/><circle cx=\"287\" cy=\"311\" r=\"11\" fill=\"rgb(255,255,255)\" class=\"agent_0_47\"/><circle cx=\"378\" cy=\"109\" r=\"8\" fill=\"rgb(255,255,255)\" class=\"agent_0_52\"/></svg><svg viewBox='0 0 430 430' id=\"svg\" width=\"172\" height=\"172\"><circle cx=\"215\" cy=\"215\" r=\"205\" fill=\"none\" stroke=\"black\" stroke-width=\"2\" stroke-dasharray=\"3,3\"/> <circle cx=\"129\" cy=\"344\" r=\"8\" fill=\"rgb(255,255,255)\" class=\"agent_0_1\"/><circle cx=\"246\" cy=\"221\" r=\"13\" fill=\"rgb(255,255,255)\" class=\"agent_0_4\"/><circle cx=\"352\" cy=\"249\" r=\"12\" fill=\"rgb(255,0,0)\" class=\"agent_0_7\"/><circle cx=\"352\" cy=\"285\" r=\"8\" fill=\"rgb(255,255,255)\" class=\"agent_0_8\"/><circle cx=\"84\" cy=\"201\" r=\"9\" fill=\"rgb(255,255,255)\" class=\"agent_0_41\"/><circle cx=\"287\" cy=\"311\" r=\"11\" fill=\"rgb(255,255,255)\" class=\"agent_0_47\"/><circle cx=\"378\" cy=\"109\" r=\"8\" fill=\"rgb(255,255,255)\" class=\"agent_0_52\"/></svg></div>"
      ],
      "text/plain": [
       "<IPython.core.display.HTML object>"
      ]
     },
     "metadata": {},
     "output_type": "display_data"
    },
    {
     "name": "stdout",
     "output_type": "stream",
     "text": [
      "refs_true\n"
     ]
    },
    {
     "data": {
      "text/html": [
       "<div style=\"white-space: nowrap\"><svg viewbox='0 0 430 430' width=\"172\" height=\"172\" id=\"agent_0\"><circle cx=\"215\" cy=\"215\" r=\"205\" fill=\"none\" stroke=\"black\" stroke-width=\"2\" stroke-dasharray=\"3,3\"/><circle cx=\"129\" cy=\"344\" r=\"8\" fill=\"rgb(180,180,180)\"/><circle cx=\"246\" cy=\"221\" r=\"13\" fill=\"rgb(130,130,130)\"/><circle cx=\"352\" cy=\"249\" r=\"12\" fill=\"rgb(58,58,58)\"/><circle cx=\"352\" cy=\"285\" r=\"8\" fill=\"rgb(93,93,93)\"/><circle cx=\"84\" cy=\"201\" r=\"9\" fill=\"rgb(99,99,99)\"/><circle cx=\"287\" cy=\"311\" r=\"11\" fill=\"rgb(175,175,175)\"/><circle cx=\"378\" cy=\"109\" r=\"8\" fill=\"rgb(81,81,81)\"/></svg><svg viewBox='0 0 430 430' id=\"svg\" width=\"172\" height=\"172\"><circle cx=\"215\" cy=\"215\" r=\"205\" fill=\"none\" stroke=\"black\" stroke-width=\"2\" stroke-dasharray=\"3,3\"/> <circle cx=\"129\" cy=\"344\" r=\"8\" fill=\"rgb(255,255,255)\" class=\"agent_0_1\"/><circle cx=\"246\" cy=\"221\" r=\"13\" fill=\"rgb(255,0,0)\" class=\"agent_0_4\"/><circle cx=\"352\" cy=\"249\" r=\"12\" fill=\"rgb(255,255,255)\" class=\"agent_0_7\"/><circle cx=\"352\" cy=\"285\" r=\"8\" fill=\"rgb(255,255,255)\" class=\"agent_0_8\"/><circle cx=\"84\" cy=\"201\" r=\"9\" fill=\"rgb(255,255,255)\" class=\"agent_0_41\"/><circle cx=\"287\" cy=\"311\" r=\"11\" fill=\"rgb(255,255,255)\" class=\"agent_0_47\"/><circle cx=\"378\" cy=\"109\" r=\"8\" fill=\"rgb(255,255,255)\" class=\"agent_0_52\"/></svg><svg viewBox='0 0 430 430' id=\"svg\" width=\"172\" height=\"172\"><circle cx=\"215\" cy=\"215\" r=\"205\" fill=\"none\" stroke=\"black\" stroke-width=\"2\" stroke-dasharray=\"3,3\"/> <circle cx=\"129\" cy=\"344\" r=\"8\" fill=\"rgb(255,255,255)\" class=\"agent_0_1\"/><circle cx=\"246\" cy=\"221\" r=\"13\" fill=\"rgb(255,0,0)\" class=\"agent_0_4\"/><circle cx=\"352\" cy=\"249\" r=\"12\" fill=\"rgb(255,255,255)\" class=\"agent_0_7\"/><circle cx=\"352\" cy=\"285\" r=\"8\" fill=\"rgb(255,255,255)\" class=\"agent_0_8\"/><circle cx=\"84\" cy=\"201\" r=\"9\" fill=\"rgb(255,255,255)\" class=\"agent_0_41\"/><circle cx=\"287\" cy=\"311\" r=\"11\" fill=\"rgb(255,255,255)\" class=\"agent_0_47\"/><circle cx=\"378\" cy=\"109\" r=\"8\" fill=\"rgb(255,255,255)\" class=\"agent_0_52\"/></svg><svg viewBox='0 0 430 430' id=\"svg\" width=\"172\" height=\"172\"><circle cx=\"215\" cy=\"215\" r=\"205\" fill=\"none\" stroke=\"black\" stroke-width=\"2\" stroke-dasharray=\"3,3\"/> <circle cx=\"129\" cy=\"344\" r=\"8\" fill=\"rgb(255,255,255)\" class=\"agent_0_1\"/><circle cx=\"246\" cy=\"221\" r=\"13\" fill=\"rgb(255,255,255)\" class=\"agent_0_4\"/><circle cx=\"352\" cy=\"249\" r=\"12\" fill=\"rgb(255,0,0)\" class=\"agent_0_7\"/><circle cx=\"352\" cy=\"285\" r=\"8\" fill=\"rgb(255,255,255)\" class=\"agent_0_8\"/><circle cx=\"84\" cy=\"201\" r=\"9\" fill=\"rgb(255,255,255)\" class=\"agent_0_41\"/><circle cx=\"287\" cy=\"311\" r=\"11\" fill=\"rgb(255,255,255)\" class=\"agent_0_47\"/><circle cx=\"378\" cy=\"109\" r=\"8\" fill=\"rgb(255,255,255)\" class=\"agent_0_52\"/></svg><svg viewBox='0 0 430 430' id=\"svg\" width=\"172\" height=\"172\"><circle cx=\"215\" cy=\"215\" r=\"205\" fill=\"none\" stroke=\"black\" stroke-width=\"2\" stroke-dasharray=\"3,3\"/> <circle cx=\"129\" cy=\"344\" r=\"8\" fill=\"rgb(255,255,255)\" class=\"agent_0_1\"/><circle cx=\"246\" cy=\"221\" r=\"13\" fill=\"rgb(255,255,255)\" class=\"agent_0_4\"/><circle cx=\"352\" cy=\"249\" r=\"12\" fill=\"rgb(255,255,255)\" class=\"agent_0_7\"/><circle cx=\"352\" cy=\"285\" r=\"8\" fill=\"rgb(255,0,0)\" class=\"agent_0_8\"/><circle cx=\"84\" cy=\"201\" r=\"9\" fill=\"rgb(255,255,255)\" class=\"agent_0_41\"/><circle cx=\"287\" cy=\"311\" r=\"11\" fill=\"rgb(255,255,255)\" class=\"agent_0_47\"/><circle cx=\"378\" cy=\"109\" r=\"8\" fill=\"rgb(255,255,255)\" class=\"agent_0_52\"/></svg><svg viewBox='0 0 430 430' id=\"svg\" width=\"172\" height=\"172\"><circle cx=\"215\" cy=\"215\" r=\"205\" fill=\"none\" stroke=\"black\" stroke-width=\"2\" stroke-dasharray=\"3,3\"/> <circle cx=\"129\" cy=\"344\" r=\"8\" fill=\"rgb(255,255,255)\" class=\"agent_0_1\"/><circle cx=\"246\" cy=\"221\" r=\"13\" fill=\"rgb(255,255,255)\" class=\"agent_0_4\"/><circle cx=\"352\" cy=\"249\" r=\"12\" fill=\"rgb(255,0,0)\" class=\"agent_0_7\"/><circle cx=\"352\" cy=\"285\" r=\"8\" fill=\"rgb(255,255,255)\" class=\"agent_0_8\"/><circle cx=\"84\" cy=\"201\" r=\"9\" fill=\"rgb(255,255,255)\" class=\"agent_0_41\"/><circle cx=\"287\" cy=\"311\" r=\"11\" fill=\"rgb(255,255,255)\" class=\"agent_0_47\"/><circle cx=\"378\" cy=\"109\" r=\"8\" fill=\"rgb(255,255,255)\" class=\"agent_0_52\"/></svg></div>"
      ],
      "text/plain": [
       "<IPython.core.display.HTML object>"
      ]
     },
     "metadata": {},
     "output_type": "display_data"
    },
    {
     "name": "stdout",
     "output_type": "stream",
     "text": [
      "\n",
      "----------------------------------------\n",
      "\n",
      "human\tTHEM: yes . lets select that one <eos>\n",
      "partner_refs_pred\n"
     ]
    },
    {
     "data": {
      "text/html": [
       "<div style=\"white-space: nowrap\"><svg viewbox='0 0 430 430' width=\"172\" height=\"172\" id=\"agent_0\"><circle cx=\"215\" cy=\"215\" r=\"205\" fill=\"none\" stroke=\"black\" stroke-width=\"2\" stroke-dasharray=\"3,3\"/><circle cx=\"129\" cy=\"344\" r=\"8\" fill=\"rgb(180,180,180)\"/><circle cx=\"246\" cy=\"221\" r=\"13\" fill=\"rgb(130,130,130)\"/><circle cx=\"352\" cy=\"249\" r=\"12\" fill=\"rgb(58,58,58)\"/><circle cx=\"352\" cy=\"285\" r=\"8\" fill=\"rgb(93,93,93)\"/><circle cx=\"84\" cy=\"201\" r=\"9\" fill=\"rgb(99,99,99)\"/><circle cx=\"287\" cy=\"311\" r=\"11\" fill=\"rgb(175,175,175)\"/><circle cx=\"378\" cy=\"109\" r=\"8\" fill=\"rgb(81,81,81)\"/></svg><svg viewBox='0 0 430 430' id=\"svg\" width=\"172\" height=\"172\"><circle cx=\"215\" cy=\"215\" r=\"205\" fill=\"none\" stroke=\"black\" stroke-width=\"2\" stroke-dasharray=\"3,3\"/> <circle cx=\"129\" cy=\"344\" r=\"8\" fill=\"rgb(255,255,255)\" class=\"agent_0_1\"/><circle cx=\"246\" cy=\"221\" r=\"13\" fill=\"rgb(255,0,0)\" class=\"agent_0_4\"/><circle cx=\"352\" cy=\"249\" r=\"12\" fill=\"rgb(255,255,255)\" class=\"agent_0_7\"/><circle cx=\"352\" cy=\"285\" r=\"8\" fill=\"rgb(255,255,255)\" class=\"agent_0_8\"/><circle cx=\"84\" cy=\"201\" r=\"9\" fill=\"rgb(255,255,255)\" class=\"agent_0_41\"/><circle cx=\"287\" cy=\"311\" r=\"11\" fill=\"rgb(255,255,255)\" class=\"agent_0_47\"/><circle cx=\"378\" cy=\"109\" r=\"8\" fill=\"rgb(255,255,255)\" class=\"agent_0_52\"/></svg></div>"
      ],
      "text/plain": [
       "<IPython.core.display.HTML object>"
      ]
     },
     "metadata": {},
     "output_type": "display_data"
    },
    {
     "name": "stdout",
     "output_type": "stream",
     "text": [
      "partner_refs_true\n"
     ]
    },
    {
     "data": {
      "text/html": [
       "<div style=\"white-space: nowrap\"><svg viewbox='0 0 430 430' width=\"172\" height=\"172\" id=\"agent_0\"><circle cx=\"215\" cy=\"215\" r=\"205\" fill=\"none\" stroke=\"black\" stroke-width=\"2\" stroke-dasharray=\"3,3\"/><circle cx=\"129\" cy=\"344\" r=\"8\" fill=\"rgb(180,180,180)\"/><circle cx=\"246\" cy=\"221\" r=\"13\" fill=\"rgb(130,130,130)\"/><circle cx=\"352\" cy=\"249\" r=\"12\" fill=\"rgb(58,58,58)\"/><circle cx=\"352\" cy=\"285\" r=\"8\" fill=\"rgb(93,93,93)\"/><circle cx=\"84\" cy=\"201\" r=\"9\" fill=\"rgb(99,99,99)\"/><circle cx=\"287\" cy=\"311\" r=\"11\" fill=\"rgb(175,175,175)\"/><circle cx=\"378\" cy=\"109\" r=\"8\" fill=\"rgb(81,81,81)\"/></svg><svg viewBox='0 0 430 430' id=\"svg\" width=\"172\" height=\"172\"><circle cx=\"215\" cy=\"215\" r=\"205\" fill=\"none\" stroke=\"black\" stroke-width=\"2\" stroke-dasharray=\"3,3\"/> <circle cx=\"129\" cy=\"344\" r=\"8\" fill=\"rgb(255,255,255)\" class=\"agent_0_1\"/><circle cx=\"246\" cy=\"221\" r=\"13\" fill=\"rgb(255,0,0)\" class=\"agent_0_4\"/><circle cx=\"352\" cy=\"249\" r=\"12\" fill=\"rgb(255,255,255)\" class=\"agent_0_7\"/><circle cx=\"352\" cy=\"285\" r=\"8\" fill=\"rgb(255,255,255)\" class=\"agent_0_8\"/><circle cx=\"84\" cy=\"201\" r=\"9\" fill=\"rgb(255,255,255)\" class=\"agent_0_41\"/><circle cx=\"287\" cy=\"311\" r=\"11\" fill=\"rgb(255,255,255)\" class=\"agent_0_47\"/><circle cx=\"378\" cy=\"109\" r=\"8\" fill=\"rgb(255,255,255)\" class=\"agent_0_52\"/></svg></div>"
      ],
      "text/plain": [
       "<IPython.core.display.HTML object>"
      ]
     },
     "metadata": {},
     "output_type": "display_data"
    },
    {
     "name": "stdout",
     "output_type": "stream",
     "text": [
      "\n",
      "----------------------------------------\n",
      "\n",
      "beam 0\tok\n",
      "beam 1\tokay\n",
      "beam 2\tok !\n",
      "beam 3\tk\n",
      "beam 4\tokay !\n",
      "beam 5\tgreat\n",
      "beam 6\tok .\n",
      "beam 7\tok great\n",
      "beam 8\tgreat !\n",
      "beam 9\tsounds good !\n",
      "beam 10\tsounds good\n",
      "beam 11\tyes\n",
      "beam 12\tperfect\n",
      "beam 13\talright\n",
      "beam 14\tok\n",
      "beam 15\tok good luck\n",
      "beam 16\tokay .\n",
      "beam 17\tok will do\n",
      "beam 18\tok sounds good\n",
      "beam 19\tok , sounds good\n",
      "greedy\tok <selection>\n",
      "human\twhich ? <eos>\n",
      "\n",
      "----------------------------------------\n",
      "\n",
      "human\tTHEM: the large dark grey <selection>\n",
      "partner_refs_pred\n"
     ]
    },
    {
     "data": {
      "text/html": [
       "<div style=\"white-space: nowrap\"><svg viewbox='0 0 430 430' width=\"172\" height=\"172\" id=\"agent_0\"><circle cx=\"215\" cy=\"215\" r=\"205\" fill=\"none\" stroke=\"black\" stroke-width=\"2\" stroke-dasharray=\"3,3\"/><circle cx=\"129\" cy=\"344\" r=\"8\" fill=\"rgb(180,180,180)\"/><circle cx=\"246\" cy=\"221\" r=\"13\" fill=\"rgb(130,130,130)\"/><circle cx=\"352\" cy=\"249\" r=\"12\" fill=\"rgb(58,58,58)\"/><circle cx=\"352\" cy=\"285\" r=\"8\" fill=\"rgb(93,93,93)\"/><circle cx=\"84\" cy=\"201\" r=\"9\" fill=\"rgb(99,99,99)\"/><circle cx=\"287\" cy=\"311\" r=\"11\" fill=\"rgb(175,175,175)\"/><circle cx=\"378\" cy=\"109\" r=\"8\" fill=\"rgb(81,81,81)\"/></svg><svg viewBox='0 0 430 430' id=\"svg\" width=\"172\" height=\"172\"><circle cx=\"215\" cy=\"215\" r=\"205\" fill=\"none\" stroke=\"black\" stroke-width=\"2\" stroke-dasharray=\"3,3\"/> <circle cx=\"129\" cy=\"344\" r=\"8\" fill=\"rgb(255,255,255)\" class=\"agent_0_1\"/><circle cx=\"246\" cy=\"221\" r=\"13\" fill=\"rgb(255,0,0)\" class=\"agent_0_4\"/><circle cx=\"352\" cy=\"249\" r=\"12\" fill=\"rgb(255,255,255)\" class=\"agent_0_7\"/><circle cx=\"352\" cy=\"285\" r=\"8\" fill=\"rgb(255,255,255)\" class=\"agent_0_8\"/><circle cx=\"84\" cy=\"201\" r=\"9\" fill=\"rgb(255,255,255)\" class=\"agent_0_41\"/><circle cx=\"287\" cy=\"311\" r=\"11\" fill=\"rgb(255,255,255)\" class=\"agent_0_47\"/><circle cx=\"378\" cy=\"109\" r=\"8\" fill=\"rgb(255,255,255)\" class=\"agent_0_52\"/></svg></div>"
      ],
      "text/plain": [
       "<IPython.core.display.HTML object>"
      ]
     },
     "metadata": {},
     "output_type": "display_data"
    },
    {
     "name": "stdout",
     "output_type": "stream",
     "text": [
      "partner_refs_true\n"
     ]
    },
    {
     "data": {
      "text/html": [
       "<div style=\"white-space: nowrap\"><svg viewbox='0 0 430 430' width=\"172\" height=\"172\" id=\"agent_0\"><circle cx=\"215\" cy=\"215\" r=\"205\" fill=\"none\" stroke=\"black\" stroke-width=\"2\" stroke-dasharray=\"3,3\"/><circle cx=\"129\" cy=\"344\" r=\"8\" fill=\"rgb(180,180,180)\"/><circle cx=\"246\" cy=\"221\" r=\"13\" fill=\"rgb(130,130,130)\"/><circle cx=\"352\" cy=\"249\" r=\"12\" fill=\"rgb(58,58,58)\"/><circle cx=\"352\" cy=\"285\" r=\"8\" fill=\"rgb(93,93,93)\"/><circle cx=\"84\" cy=\"201\" r=\"9\" fill=\"rgb(99,99,99)\"/><circle cx=\"287\" cy=\"311\" r=\"11\" fill=\"rgb(175,175,175)\"/><circle cx=\"378\" cy=\"109\" r=\"8\" fill=\"rgb(81,81,81)\"/></svg><svg viewBox='0 0 430 430' id=\"svg\" width=\"172\" height=\"172\"><circle cx=\"215\" cy=\"215\" r=\"205\" fill=\"none\" stroke=\"black\" stroke-width=\"2\" stroke-dasharray=\"3,3\"/> <circle cx=\"129\" cy=\"344\" r=\"8\" fill=\"rgb(255,255,255)\" class=\"agent_0_1\"/><circle cx=\"246\" cy=\"221\" r=\"13\" fill=\"rgb(255,0,0)\" class=\"agent_0_4\"/><circle cx=\"352\" cy=\"249\" r=\"12\" fill=\"rgb(255,255,255)\" class=\"agent_0_7\"/><circle cx=\"352\" cy=\"285\" r=\"8\" fill=\"rgb(255,255,255)\" class=\"agent_0_8\"/><circle cx=\"84\" cy=\"201\" r=\"9\" fill=\"rgb(255,255,255)\" class=\"agent_0_41\"/><circle cx=\"287\" cy=\"311\" r=\"11\" fill=\"rgb(255,255,255)\" class=\"agent_0_47\"/><circle cx=\"378\" cy=\"109\" r=\"8\" fill=\"rgb(255,255,255)\" class=\"agent_0_52\"/></svg></div>"
      ],
      "text/plain": [
       "<IPython.core.display.HTML object>"
      ]
     },
     "metadata": {},
     "output_type": "display_data"
    },
    {
     "name": "stdout",
     "output_type": "stream",
     "text": [
      "\n",
      "----------------------------------------\n",
      "\n"
     ]
    }
   ],
   "source": [
    "force_contexts_and_mentions(5)"
   ]
  },
  {
   "cell_type": "code",
   "execution_count": 62,
   "metadata": {
    "scrolled": false
   },
   "outputs": [
    {
     "name": "stdout",
     "output_type": "stream",
     "text": [
      "to_mention_pred\n"
     ]
    },
    {
     "data": {
      "text/html": [
       "<div style=\"white-space: nowrap\"><svg viewbox='0 0 430 430' width=\"172\" height=\"172\" id=\"agent_1\"><circle cx=\"215\" cy=\"215\" r=\"205\" fill=\"none\" stroke=\"black\" stroke-width=\"2\" stroke-dasharray=\"3,3\"/><circle cx=\"166\" cy=\"361\" r=\"9\" fill=\"rgb(139,139,139)\"/><circle cx=\"53\" cy=\"323\" r=\"10\" fill=\"rgb(165,165,165)\"/><circle cx=\"300\" cy=\"148\" r=\"10\" fill=\"rgb(186,186,186)\"/><circle cx=\"206\" cy=\"290\" r=\"12\" fill=\"rgb(153,153,153)\"/><circle cx=\"295\" cy=\"378\" r=\"13\" fill=\"rgb(86,86,86)\"/><circle cx=\"352\" cy=\"319\" r=\"10\" fill=\"rgb(85,85,85)\"/><circle cx=\"347\" cy=\"286\" r=\"9\" fill=\"rgb(158,158,158)\"/></svg><svg viewBox='0 0 430 430' id=\"svg\" width=\"172\" height=\"172\"><circle cx=\"215\" cy=\"215\" r=\"205\" fill=\"none\" stroke=\"black\" stroke-width=\"2\" stroke-dasharray=\"3,3\"/> <circle cx=\"166\" cy=\"361\" r=\"9\" fill=\"rgb(255,255,255)\" class=\"agent_1_5\"/><circle cx=\"53\" cy=\"323\" r=\"10\" fill=\"rgb(255,255,255)\" class=\"agent_1_23\"/><circle cx=\"300\" cy=\"148\" r=\"10\" fill=\"rgb(255,255,255)\" class=\"agent_1_31\"/><circle cx=\"206\" cy=\"290\" r=\"12\" fill=\"rgb(255,255,255)\" class=\"agent_1_35\"/><circle cx=\"295\" cy=\"378\" r=\"13\" fill=\"rgb(255,0,0)\" class=\"agent_1_44\"/><circle cx=\"352\" cy=\"319\" r=\"10\" fill=\"rgb(255,0,0)\" class=\"agent_1_55\"/><circle cx=\"347\" cy=\"286\" r=\"9\" fill=\"rgb(255,255,255)\" class=\"agent_1_72\"/></svg><svg viewBox='0 0 430 430' id=\"svg\" width=\"172\" height=\"172\"><circle cx=\"215\" cy=\"215\" r=\"205\" fill=\"none\" stroke=\"black\" stroke-width=\"2\" stroke-dasharray=\"3,3\"/> <circle cx=\"166\" cy=\"361\" r=\"9\" fill=\"rgb(255,255,255)\" class=\"agent_1_5\"/><circle cx=\"53\" cy=\"323\" r=\"10\" fill=\"rgb(255,255,255)\" class=\"agent_1_23\"/><circle cx=\"300\" cy=\"148\" r=\"10\" fill=\"rgb(255,255,255)\" class=\"agent_1_31\"/><circle cx=\"206\" cy=\"290\" r=\"12\" fill=\"rgb(255,255,255)\" class=\"agent_1_35\"/><circle cx=\"295\" cy=\"378\" r=\"13\" fill=\"rgb(255,255,255)\" class=\"agent_1_44\"/><circle cx=\"352\" cy=\"319\" r=\"10\" fill=\"rgb(255,255,255)\" class=\"agent_1_55\"/><circle cx=\"347\" cy=\"286\" r=\"9\" fill=\"rgb(255,0,0)\" class=\"agent_1_72\"/></svg><svg viewBox='0 0 430 430' id=\"svg\" width=\"172\" height=\"172\"><circle cx=\"215\" cy=\"215\" r=\"205\" fill=\"none\" stroke=\"black\" stroke-width=\"2\" stroke-dasharray=\"3,3\"/> <circle cx=\"166\" cy=\"361\" r=\"9\" fill=\"rgb(255,255,255)\" class=\"agent_1_5\"/><circle cx=\"53\" cy=\"323\" r=\"10\" fill=\"rgb(255,255,255)\" class=\"agent_1_23\"/><circle cx=\"300\" cy=\"148\" r=\"10\" fill=\"rgb(255,255,255)\" class=\"agent_1_31\"/><circle cx=\"206\" cy=\"290\" r=\"12\" fill=\"rgb(255,255,255)\" class=\"agent_1_35\"/><circle cx=\"295\" cy=\"378\" r=\"13\" fill=\"rgb(255,255,255)\" class=\"agent_1_44\"/><circle cx=\"352\" cy=\"319\" r=\"10\" fill=\"rgb(255,0,0)\" class=\"agent_1_55\"/><circle cx=\"347\" cy=\"286\" r=\"9\" fill=\"rgb(255,255,255)\" class=\"agent_1_72\"/></svg></div>"
      ],
      "text/plain": [
       "<IPython.core.display.HTML object>"
      ]
     },
     "metadata": {},
     "output_type": "display_data"
    },
    {
     "name": "stdout",
     "output_type": "stream",
     "text": [
      "to_mention_true\n"
     ]
    },
    {
     "data": {
      "text/html": [
       "<div style=\"white-space: nowrap\"><svg viewbox='0 0 430 430' width=\"172\" height=\"172\" id=\"agent_1\"><circle cx=\"215\" cy=\"215\" r=\"205\" fill=\"none\" stroke=\"black\" stroke-width=\"2\" stroke-dasharray=\"3,3\"/><circle cx=\"166\" cy=\"361\" r=\"9\" fill=\"rgb(139,139,139)\"/><circle cx=\"53\" cy=\"323\" r=\"10\" fill=\"rgb(165,165,165)\"/><circle cx=\"300\" cy=\"148\" r=\"10\" fill=\"rgb(186,186,186)\"/><circle cx=\"206\" cy=\"290\" r=\"12\" fill=\"rgb(153,153,153)\"/><circle cx=\"295\" cy=\"378\" r=\"13\" fill=\"rgb(86,86,86)\"/><circle cx=\"352\" cy=\"319\" r=\"10\" fill=\"rgb(85,85,85)\"/><circle cx=\"347\" cy=\"286\" r=\"9\" fill=\"rgb(158,158,158)\"/></svg><svg viewBox='0 0 430 430' id=\"svg\" width=\"172\" height=\"172\"><circle cx=\"215\" cy=\"215\" r=\"205\" fill=\"none\" stroke=\"black\" stroke-width=\"2\" stroke-dasharray=\"3,3\"/> <circle cx=\"166\" cy=\"361\" r=\"9\" fill=\"rgb(255,255,255)\" class=\"agent_1_5\"/><circle cx=\"53\" cy=\"323\" r=\"10\" fill=\"rgb(255,255,255)\" class=\"agent_1_23\"/><circle cx=\"300\" cy=\"148\" r=\"10\" fill=\"rgb(255,255,255)\" class=\"agent_1_31\"/><circle cx=\"206\" cy=\"290\" r=\"12\" fill=\"rgb(255,255,255)\" class=\"agent_1_35\"/><circle cx=\"295\" cy=\"378\" r=\"13\" fill=\"rgb(255,255,255)\" class=\"agent_1_44\"/><circle cx=\"352\" cy=\"319\" r=\"10\" fill=\"rgb(255,0,0)\" class=\"agent_1_55\"/><circle cx=\"347\" cy=\"286\" r=\"9\" fill=\"rgb(255,0,0)\" class=\"agent_1_72\"/></svg><svg viewBox='0 0 430 430' id=\"svg\" width=\"172\" height=\"172\"><circle cx=\"215\" cy=\"215\" r=\"205\" fill=\"none\" stroke=\"black\" stroke-width=\"2\" stroke-dasharray=\"3,3\"/> <circle cx=\"166\" cy=\"361\" r=\"9\" fill=\"rgb(255,255,255)\" class=\"agent_1_5\"/><circle cx=\"53\" cy=\"323\" r=\"10\" fill=\"rgb(255,255,255)\" class=\"agent_1_23\"/><circle cx=\"300\" cy=\"148\" r=\"10\" fill=\"rgb(255,255,255)\" class=\"agent_1_31\"/><circle cx=\"206\" cy=\"290\" r=\"12\" fill=\"rgb(255,255,255)\" class=\"agent_1_35\"/><circle cx=\"295\" cy=\"378\" r=\"13\" fill=\"rgb(255,255,255)\" class=\"agent_1_44\"/><circle cx=\"352\" cy=\"319\" r=\"10\" fill=\"rgb(255,255,255)\" class=\"agent_1_55\"/><circle cx=\"347\" cy=\"286\" r=\"9\" fill=\"rgb(255,0,0)\" class=\"agent_1_72\"/></svg><svg viewBox='0 0 430 430' id=\"svg\" width=\"172\" height=\"172\"><circle cx=\"215\" cy=\"215\" r=\"205\" fill=\"none\" stroke=\"black\" stroke-width=\"2\" stroke-dasharray=\"3,3\"/> <circle cx=\"166\" cy=\"361\" r=\"9\" fill=\"rgb(255,255,255)\" class=\"agent_1_5\"/><circle cx=\"53\" cy=\"323\" r=\"10\" fill=\"rgb(255,255,255)\" class=\"agent_1_23\"/><circle cx=\"300\" cy=\"148\" r=\"10\" fill=\"rgb(255,255,255)\" class=\"agent_1_31\"/><circle cx=\"206\" cy=\"290\" r=\"12\" fill=\"rgb(255,255,255)\" class=\"agent_1_35\"/><circle cx=\"295\" cy=\"378\" r=\"13\" fill=\"rgb(255,255,255)\" class=\"agent_1_44\"/><circle cx=\"352\" cy=\"319\" r=\"10\" fill=\"rgb(255,0,0)\" class=\"agent_1_55\"/><circle cx=\"347\" cy=\"286\" r=\"9\" fill=\"rgb(255,255,255)\" class=\"agent_1_72\"/></svg></div>"
      ],
      "text/plain": [
       "<IPython.core.display.HTML object>"
      ]
     },
     "metadata": {},
     "output_type": "display_data"
    },
    {
     "name": "stdout",
     "output_type": "stream",
     "text": [
      "beam 0\ti have two dots very close together . the one on the left is smaller and darker than the one on the right\n",
      "beam 1\ti have two dots very close together . the one on the right is smaller and darker than the one on the right\n",
      "beam 2\ti have two dots very close together . the one on the left is smaller and darker than the one on the right .\n",
      "beam 3\ti have two dots very close together . the one on the right is smaller and darker than the one on the right .\n",
      "beam 4\ti have two dots very close together . the one on the left is smaller and darker than the one on the left\n",
      "beam 5\ti have two dots very close together . the one on the left is smaller and darker than the one on the left .\n",
      "beam 6\ti have two dots very close together . the one on the right is smaller and darker than the one on the left\n",
      "beam 7\ti have two dots very close together . the one on the right is smaller and darker than the one on the left .\n",
      "beam 8\ti have two dots very close together . the one on the left is smaller and lighter than the one on the right\n",
      "beam 9\ti have two dots very close together . the one on the left is smaller and darker than the one on the bottom\n",
      "beam 10\ti have two dots very close together . the one on the left is smaller and lighter than the one on the right .\n",
      "beam 11\ti have two dots very close together . the one on the left is smaller and lighter than the one on the left\n",
      "beam 12\ti have two dots very close together . the one on the right is smaller and darker than the one on the bottom\n",
      "beam 13\ti have two dots very close together . the one on the left is smaller and lighter than the one on the left .\n",
      "beam 14\ti have two dots very close together . the one on the right is smaller and darker , the one on the right is a little lighter and a little lighter .\n",
      "beam 15\ti have two dots very close together . the one on the right is smaller and darker , the one on the right is a little lighter and a little lighter\n",
      "beam 16\ti have two dots very close together . the one on the right is smaller and darker , the one on the right is a little lighter and a little higher .\n",
      "beam 17\ti have two dots very close together . the one on the right is smaller and darker , the one on the right is a little lighter and a little lighter and a little lighter\n",
      "beam 18\ti have two dots very close together . the one on the right is smaller and darker , the one on the right is a little lighter and a little larger and a little lighter\n",
      "beam 19\ti have two dots very close together . the one on the right is smaller and darker , the one on the right is a little lighter and a little lighter and a little higher\n",
      "greedy\ti have two dots very close together . the one on the left is smaller and darker than the one on the right <eos>\n",
      "human\ttwo dots almost identical in size ( med ) but top is light and bottom is dark close together ? <eos>\n",
      "refs_pred\n"
     ]
    },
    {
     "data": {
      "text/html": [
       "<div style=\"white-space: nowrap\"><svg viewbox='0 0 430 430' width=\"172\" height=\"172\" id=\"agent_1\"><circle cx=\"215\" cy=\"215\" r=\"205\" fill=\"none\" stroke=\"black\" stroke-width=\"2\" stroke-dasharray=\"3,3\"/><circle cx=\"166\" cy=\"361\" r=\"9\" fill=\"rgb(139,139,139)\"/><circle cx=\"53\" cy=\"323\" r=\"10\" fill=\"rgb(165,165,165)\"/><circle cx=\"300\" cy=\"148\" r=\"10\" fill=\"rgb(186,186,186)\"/><circle cx=\"206\" cy=\"290\" r=\"12\" fill=\"rgb(153,153,153)\"/><circle cx=\"295\" cy=\"378\" r=\"13\" fill=\"rgb(86,86,86)\"/><circle cx=\"352\" cy=\"319\" r=\"10\" fill=\"rgb(85,85,85)\"/><circle cx=\"347\" cy=\"286\" r=\"9\" fill=\"rgb(158,158,158)\"/></svg><svg viewBox='0 0 430 430' id=\"svg\" width=\"172\" height=\"172\"><circle cx=\"215\" cy=\"215\" r=\"205\" fill=\"none\" stroke=\"black\" stroke-width=\"2\" stroke-dasharray=\"3,3\"/> <circle cx=\"166\" cy=\"361\" r=\"9\" fill=\"rgb(255,255,255)\" class=\"agent_1_5\"/><circle cx=\"53\" cy=\"323\" r=\"10\" fill=\"rgb(255,255,255)\" class=\"agent_1_23\"/><circle cx=\"300\" cy=\"148\" r=\"10\" fill=\"rgb(255,255,255)\" class=\"agent_1_31\"/><circle cx=\"206\" cy=\"290\" r=\"12\" fill=\"rgb(255,255,255)\" class=\"agent_1_35\"/><circle cx=\"295\" cy=\"378\" r=\"13\" fill=\"rgb(255,255,255)\" class=\"agent_1_44\"/><circle cx=\"352\" cy=\"319\" r=\"10\" fill=\"rgb(255,0,0)\" class=\"agent_1_55\"/><circle cx=\"347\" cy=\"286\" r=\"9\" fill=\"rgb(255,0,0)\" class=\"agent_1_72\"/></svg><svg viewBox='0 0 430 430' id=\"svg\" width=\"172\" height=\"172\"><circle cx=\"215\" cy=\"215\" r=\"205\" fill=\"none\" stroke=\"black\" stroke-width=\"2\" stroke-dasharray=\"3,3\"/> <circle cx=\"166\" cy=\"361\" r=\"9\" fill=\"rgb(255,255,255)\" class=\"agent_1_5\"/><circle cx=\"53\" cy=\"323\" r=\"10\" fill=\"rgb(255,255,255)\" class=\"agent_1_23\"/><circle cx=\"300\" cy=\"148\" r=\"10\" fill=\"rgb(255,255,255)\" class=\"agent_1_31\"/><circle cx=\"206\" cy=\"290\" r=\"12\" fill=\"rgb(255,255,255)\" class=\"agent_1_35\"/><circle cx=\"295\" cy=\"378\" r=\"13\" fill=\"rgb(255,255,255)\" class=\"agent_1_44\"/><circle cx=\"352\" cy=\"319\" r=\"10\" fill=\"rgb(255,255,255)\" class=\"agent_1_55\"/><circle cx=\"347\" cy=\"286\" r=\"9\" fill=\"rgb(255,0,0)\" class=\"agent_1_72\"/></svg><svg viewBox='0 0 430 430' id=\"svg\" width=\"172\" height=\"172\"><circle cx=\"215\" cy=\"215\" r=\"205\" fill=\"none\" stroke=\"black\" stroke-width=\"2\" stroke-dasharray=\"3,3\"/> <circle cx=\"166\" cy=\"361\" r=\"9\" fill=\"rgb(255,255,255)\" class=\"agent_1_5\"/><circle cx=\"53\" cy=\"323\" r=\"10\" fill=\"rgb(255,255,255)\" class=\"agent_1_23\"/><circle cx=\"300\" cy=\"148\" r=\"10\" fill=\"rgb(255,255,255)\" class=\"agent_1_31\"/><circle cx=\"206\" cy=\"290\" r=\"12\" fill=\"rgb(255,255,255)\" class=\"agent_1_35\"/><circle cx=\"295\" cy=\"378\" r=\"13\" fill=\"rgb(255,255,255)\" class=\"agent_1_44\"/><circle cx=\"352\" cy=\"319\" r=\"10\" fill=\"rgb(255,0,0)\" class=\"agent_1_55\"/><circle cx=\"347\" cy=\"286\" r=\"9\" fill=\"rgb(255,255,255)\" class=\"agent_1_72\"/></svg></div>"
      ],
      "text/plain": [
       "<IPython.core.display.HTML object>"
      ]
     },
     "metadata": {},
     "output_type": "display_data"
    },
    {
     "name": "stdout",
     "output_type": "stream",
     "text": [
      "refs_true\n"
     ]
    },
    {
     "data": {
      "text/html": [
       "<div style=\"white-space: nowrap\"><svg viewbox='0 0 430 430' width=\"172\" height=\"172\" id=\"agent_1\"><circle cx=\"215\" cy=\"215\" r=\"205\" fill=\"none\" stroke=\"black\" stroke-width=\"2\" stroke-dasharray=\"3,3\"/><circle cx=\"166\" cy=\"361\" r=\"9\" fill=\"rgb(139,139,139)\"/><circle cx=\"53\" cy=\"323\" r=\"10\" fill=\"rgb(165,165,165)\"/><circle cx=\"300\" cy=\"148\" r=\"10\" fill=\"rgb(186,186,186)\"/><circle cx=\"206\" cy=\"290\" r=\"12\" fill=\"rgb(153,153,153)\"/><circle cx=\"295\" cy=\"378\" r=\"13\" fill=\"rgb(86,86,86)\"/><circle cx=\"352\" cy=\"319\" r=\"10\" fill=\"rgb(85,85,85)\"/><circle cx=\"347\" cy=\"286\" r=\"9\" fill=\"rgb(158,158,158)\"/></svg><svg viewBox='0 0 430 430' id=\"svg\" width=\"172\" height=\"172\"><circle cx=\"215\" cy=\"215\" r=\"205\" fill=\"none\" stroke=\"black\" stroke-width=\"2\" stroke-dasharray=\"3,3\"/> <circle cx=\"166\" cy=\"361\" r=\"9\" fill=\"rgb(255,255,255)\" class=\"agent_1_5\"/><circle cx=\"53\" cy=\"323\" r=\"10\" fill=\"rgb(255,255,255)\" class=\"agent_1_23\"/><circle cx=\"300\" cy=\"148\" r=\"10\" fill=\"rgb(255,255,255)\" class=\"agent_1_31\"/><circle cx=\"206\" cy=\"290\" r=\"12\" fill=\"rgb(255,255,255)\" class=\"agent_1_35\"/><circle cx=\"295\" cy=\"378\" r=\"13\" fill=\"rgb(255,255,255)\" class=\"agent_1_44\"/><circle cx=\"352\" cy=\"319\" r=\"10\" fill=\"rgb(255,0,0)\" class=\"agent_1_55\"/><circle cx=\"347\" cy=\"286\" r=\"9\" fill=\"rgb(255,0,0)\" class=\"agent_1_72\"/></svg><svg viewBox='0 0 430 430' id=\"svg\" width=\"172\" height=\"172\"><circle cx=\"215\" cy=\"215\" r=\"205\" fill=\"none\" stroke=\"black\" stroke-width=\"2\" stroke-dasharray=\"3,3\"/> <circle cx=\"166\" cy=\"361\" r=\"9\" fill=\"rgb(255,255,255)\" class=\"agent_1_5\"/><circle cx=\"53\" cy=\"323\" r=\"10\" fill=\"rgb(255,255,255)\" class=\"agent_1_23\"/><circle cx=\"300\" cy=\"148\" r=\"10\" fill=\"rgb(255,255,255)\" class=\"agent_1_31\"/><circle cx=\"206\" cy=\"290\" r=\"12\" fill=\"rgb(255,255,255)\" class=\"agent_1_35\"/><circle cx=\"295\" cy=\"378\" r=\"13\" fill=\"rgb(255,255,255)\" class=\"agent_1_44\"/><circle cx=\"352\" cy=\"319\" r=\"10\" fill=\"rgb(255,255,255)\" class=\"agent_1_55\"/><circle cx=\"347\" cy=\"286\" r=\"9\" fill=\"rgb(255,0,0)\" class=\"agent_1_72\"/></svg><svg viewBox='0 0 430 430' id=\"svg\" width=\"172\" height=\"172\"><circle cx=\"215\" cy=\"215\" r=\"205\" fill=\"none\" stroke=\"black\" stroke-width=\"2\" stroke-dasharray=\"3,3\"/> <circle cx=\"166\" cy=\"361\" r=\"9\" fill=\"rgb(255,255,255)\" class=\"agent_1_5\"/><circle cx=\"53\" cy=\"323\" r=\"10\" fill=\"rgb(255,255,255)\" class=\"agent_1_23\"/><circle cx=\"300\" cy=\"148\" r=\"10\" fill=\"rgb(255,255,255)\" class=\"agent_1_31\"/><circle cx=\"206\" cy=\"290\" r=\"12\" fill=\"rgb(255,255,255)\" class=\"agent_1_35\"/><circle cx=\"295\" cy=\"378\" r=\"13\" fill=\"rgb(255,255,255)\" class=\"agent_1_44\"/><circle cx=\"352\" cy=\"319\" r=\"10\" fill=\"rgb(255,0,0)\" class=\"agent_1_55\"/><circle cx=\"347\" cy=\"286\" r=\"9\" fill=\"rgb(255,255,255)\" class=\"agent_1_72\"/></svg></div>"
      ],
      "text/plain": [
       "<IPython.core.display.HTML object>"
      ]
     },
     "metadata": {},
     "output_type": "display_data"
    },
    {
     "name": "stdout",
     "output_type": "stream",
     "text": [
      "\n",
      "----------------------------------------\n",
      "\n",
      "human\tTHEM: i only have two black dots one med size the other is tiny <eos>\n",
      "partner_refs_pred\n"
     ]
    },
    {
     "data": {
      "text/html": [
       "<div style=\"white-space: nowrap\"><svg viewbox='0 0 430 430' width=\"172\" height=\"172\" id=\"agent_1\"><circle cx=\"215\" cy=\"215\" r=\"205\" fill=\"none\" stroke=\"black\" stroke-width=\"2\" stroke-dasharray=\"3,3\"/><circle cx=\"166\" cy=\"361\" r=\"9\" fill=\"rgb(139,139,139)\"/><circle cx=\"53\" cy=\"323\" r=\"10\" fill=\"rgb(165,165,165)\"/><circle cx=\"300\" cy=\"148\" r=\"10\" fill=\"rgb(186,186,186)\"/><circle cx=\"206\" cy=\"290\" r=\"12\" fill=\"rgb(153,153,153)\"/><circle cx=\"295\" cy=\"378\" r=\"13\" fill=\"rgb(86,86,86)\"/><circle cx=\"352\" cy=\"319\" r=\"10\" fill=\"rgb(85,85,85)\"/><circle cx=\"347\" cy=\"286\" r=\"9\" fill=\"rgb(158,158,158)\"/></svg><svg viewBox='0 0 430 430' id=\"svg\" width=\"172\" height=\"172\"><circle cx=\"215\" cy=\"215\" r=\"205\" fill=\"none\" stroke=\"black\" stroke-width=\"2\" stroke-dasharray=\"3,3\"/> <circle cx=\"166\" cy=\"361\" r=\"9\" fill=\"rgb(255,255,255)\" class=\"agent_1_5\"/><circle cx=\"53\" cy=\"323\" r=\"10\" fill=\"rgb(255,255,255)\" class=\"agent_1_23\"/><circle cx=\"300\" cy=\"148\" r=\"10\" fill=\"rgb(255,255,255)\" class=\"agent_1_31\"/><circle cx=\"206\" cy=\"290\" r=\"12\" fill=\"rgb(255,255,255)\" class=\"agent_1_35\"/><circle cx=\"295\" cy=\"378\" r=\"13\" fill=\"rgb(255,255,255)\" class=\"agent_1_44\"/><circle cx=\"352\" cy=\"319\" r=\"10\" fill=\"rgb(255,0,0)\" class=\"agent_1_55\"/><circle cx=\"347\" cy=\"286\" r=\"9\" fill=\"rgb(255,255,255)\" class=\"agent_1_72\"/></svg><svg viewBox='0 0 430 430' id=\"svg\" width=\"172\" height=\"172\"><circle cx=\"215\" cy=\"215\" r=\"205\" fill=\"none\" stroke=\"black\" stroke-width=\"2\" stroke-dasharray=\"3,3\"/> <circle cx=\"166\" cy=\"361\" r=\"9\" fill=\"rgb(255,255,255)\" class=\"agent_1_5\"/><circle cx=\"53\" cy=\"323\" r=\"10\" fill=\"rgb(255,255,255)\" class=\"agent_1_23\"/><circle cx=\"300\" cy=\"148\" r=\"10\" fill=\"rgb(255,255,255)\" class=\"agent_1_31\"/><circle cx=\"206\" cy=\"290\" r=\"12\" fill=\"rgb(255,255,255)\" class=\"agent_1_35\"/><circle cx=\"295\" cy=\"378\" r=\"13\" fill=\"rgb(255,255,255)\" class=\"agent_1_44\"/><circle cx=\"352\" cy=\"319\" r=\"10\" fill=\"rgb(255,255,255)\" class=\"agent_1_55\"/><circle cx=\"347\" cy=\"286\" r=\"9\" fill=\"rgb(255,255,255)\" class=\"agent_1_72\"/></svg><svg viewBox='0 0 430 430' id=\"svg\" width=\"172\" height=\"172\"><circle cx=\"215\" cy=\"215\" r=\"205\" fill=\"none\" stroke=\"black\" stroke-width=\"2\" stroke-dasharray=\"3,3\"/> <circle cx=\"166\" cy=\"361\" r=\"9\" fill=\"rgb(255,255,255)\" class=\"agent_1_5\"/><circle cx=\"53\" cy=\"323\" r=\"10\" fill=\"rgb(255,255,255)\" class=\"agent_1_23\"/><circle cx=\"300\" cy=\"148\" r=\"10\" fill=\"rgb(255,255,255)\" class=\"agent_1_31\"/><circle cx=\"206\" cy=\"290\" r=\"12\" fill=\"rgb(255,255,255)\" class=\"agent_1_35\"/><circle cx=\"295\" cy=\"378\" r=\"13\" fill=\"rgb(255,255,255)\" class=\"agent_1_44\"/><circle cx=\"352\" cy=\"319\" r=\"10\" fill=\"rgb(255,255,255)\" class=\"agent_1_55\"/><circle cx=\"347\" cy=\"286\" r=\"9\" fill=\"rgb(255,255,255)\" class=\"agent_1_72\"/></svg></div>"
      ],
      "text/plain": [
       "<IPython.core.display.HTML object>"
      ]
     },
     "metadata": {},
     "output_type": "display_data"
    },
    {
     "name": "stdout",
     "output_type": "stream",
     "text": [
      "partner_refs_true\n"
     ]
    },
    {
     "data": {
      "text/html": [
       "<div style=\"white-space: nowrap\"><svg viewbox='0 0 430 430' width=\"172\" height=\"172\" id=\"agent_1\"><circle cx=\"215\" cy=\"215\" r=\"205\" fill=\"none\" stroke=\"black\" stroke-width=\"2\" stroke-dasharray=\"3,3\"/><circle cx=\"166\" cy=\"361\" r=\"9\" fill=\"rgb(139,139,139)\"/><circle cx=\"53\" cy=\"323\" r=\"10\" fill=\"rgb(165,165,165)\"/><circle cx=\"300\" cy=\"148\" r=\"10\" fill=\"rgb(186,186,186)\"/><circle cx=\"206\" cy=\"290\" r=\"12\" fill=\"rgb(153,153,153)\"/><circle cx=\"295\" cy=\"378\" r=\"13\" fill=\"rgb(86,86,86)\"/><circle cx=\"352\" cy=\"319\" r=\"10\" fill=\"rgb(85,85,85)\"/><circle cx=\"347\" cy=\"286\" r=\"9\" fill=\"rgb(158,158,158)\"/></svg><svg viewBox='0 0 430 430' id=\"svg\" width=\"172\" height=\"172\"><circle cx=\"215\" cy=\"215\" r=\"205\" fill=\"none\" stroke=\"black\" stroke-width=\"2\" stroke-dasharray=\"3,3\"/> <circle cx=\"166\" cy=\"361\" r=\"9\" fill=\"rgb(255,255,255)\" class=\"agent_1_5\"/><circle cx=\"53\" cy=\"323\" r=\"10\" fill=\"rgb(255,255,255)\" class=\"agent_1_23\"/><circle cx=\"300\" cy=\"148\" r=\"10\" fill=\"rgb(255,255,255)\" class=\"agent_1_31\"/><circle cx=\"206\" cy=\"290\" r=\"12\" fill=\"rgb(255,255,255)\" class=\"agent_1_35\"/><circle cx=\"295\" cy=\"378\" r=\"13\" fill=\"rgb(255,0,0)\" class=\"agent_1_44\"/><circle cx=\"352\" cy=\"319\" r=\"10\" fill=\"rgb(255,0,0)\" class=\"agent_1_55\"/><circle cx=\"347\" cy=\"286\" r=\"9\" fill=\"rgb(255,255,255)\" class=\"agent_1_72\"/></svg><svg viewBox='0 0 430 430' id=\"svg\" width=\"172\" height=\"172\"><circle cx=\"215\" cy=\"215\" r=\"205\" fill=\"none\" stroke=\"black\" stroke-width=\"2\" stroke-dasharray=\"3,3\"/> <circle cx=\"166\" cy=\"361\" r=\"9\" fill=\"rgb(255,255,255)\" class=\"agent_1_5\"/><circle cx=\"53\" cy=\"323\" r=\"10\" fill=\"rgb(255,255,255)\" class=\"agent_1_23\"/><circle cx=\"300\" cy=\"148\" r=\"10\" fill=\"rgb(255,255,255)\" class=\"agent_1_31\"/><circle cx=\"206\" cy=\"290\" r=\"12\" fill=\"rgb(255,255,255)\" class=\"agent_1_35\"/><circle cx=\"295\" cy=\"378\" r=\"13\" fill=\"rgb(255,0,0)\" class=\"agent_1_44\"/><circle cx=\"352\" cy=\"319\" r=\"10\" fill=\"rgb(255,255,255)\" class=\"agent_1_55\"/><circle cx=\"347\" cy=\"286\" r=\"9\" fill=\"rgb(255,255,255)\" class=\"agent_1_72\"/></svg><svg viewBox='0 0 430 430' id=\"svg\" width=\"172\" height=\"172\"><circle cx=\"215\" cy=\"215\" r=\"205\" fill=\"none\" stroke=\"black\" stroke-width=\"2\" stroke-dasharray=\"3,3\"/> <circle cx=\"166\" cy=\"361\" r=\"9\" fill=\"rgb(255,255,255)\" class=\"agent_1_5\"/><circle cx=\"53\" cy=\"323\" r=\"10\" fill=\"rgb(255,255,255)\" class=\"agent_1_23\"/><circle cx=\"300\" cy=\"148\" r=\"10\" fill=\"rgb(255,255,255)\" class=\"agent_1_31\"/><circle cx=\"206\" cy=\"290\" r=\"12\" fill=\"rgb(255,255,255)\" class=\"agent_1_35\"/><circle cx=\"295\" cy=\"378\" r=\"13\" fill=\"rgb(255,255,255)\" class=\"agent_1_44\"/><circle cx=\"352\" cy=\"319\" r=\"10\" fill=\"rgb(255,0,0)\" class=\"agent_1_55\"/><circle cx=\"347\" cy=\"286\" r=\"9\" fill=\"rgb(255,255,255)\" class=\"agent_1_72\"/></svg></div>"
      ],
      "text/plain": [
       "<IPython.core.display.HTML object>"
      ]
     },
     "metadata": {},
     "output_type": "display_data"
    },
    {
     "name": "stdout",
     "output_type": "stream",
     "text": [
      "\n",
      "----------------------------------------\n",
      "\n",
      "to_mention_pred\n"
     ]
    },
    {
     "data": {
      "text/html": [
       "<div style=\"white-space: nowrap\"><svg viewbox='0 0 430 430' width=\"172\" height=\"172\" id=\"agent_1\"><circle cx=\"215\" cy=\"215\" r=\"205\" fill=\"none\" stroke=\"black\" stroke-width=\"2\" stroke-dasharray=\"3,3\"/><circle cx=\"166\" cy=\"361\" r=\"9\" fill=\"rgb(139,139,139)\"/><circle cx=\"53\" cy=\"323\" r=\"10\" fill=\"rgb(165,165,165)\"/><circle cx=\"300\" cy=\"148\" r=\"10\" fill=\"rgb(186,186,186)\"/><circle cx=\"206\" cy=\"290\" r=\"12\" fill=\"rgb(153,153,153)\"/><circle cx=\"295\" cy=\"378\" r=\"13\" fill=\"rgb(86,86,86)\"/><circle cx=\"352\" cy=\"319\" r=\"10\" fill=\"rgb(85,85,85)\"/><circle cx=\"347\" cy=\"286\" r=\"9\" fill=\"rgb(158,158,158)\"/></svg><svg viewBox='0 0 430 430' id=\"svg\" width=\"172\" height=\"172\"><circle cx=\"215\" cy=\"215\" r=\"205\" fill=\"none\" stroke=\"black\" stroke-width=\"2\" stroke-dasharray=\"3,3\"/> <circle cx=\"166\" cy=\"361\" r=\"9\" fill=\"rgb(255,255,255)\" class=\"agent_1_5\"/><circle cx=\"53\" cy=\"323\" r=\"10\" fill=\"rgb(255,255,255)\" class=\"agent_1_23\"/><circle cx=\"300\" cy=\"148\" r=\"10\" fill=\"rgb(255,255,255)\" class=\"agent_1_31\"/><circle cx=\"206\" cy=\"290\" r=\"12\" fill=\"rgb(255,255,255)\" class=\"agent_1_35\"/><circle cx=\"295\" cy=\"378\" r=\"13\" fill=\"rgb(255,255,255)\" class=\"agent_1_44\"/><circle cx=\"352\" cy=\"319\" r=\"10\" fill=\"rgb(255,0,0)\" class=\"agent_1_55\"/><circle cx=\"347\" cy=\"286\" r=\"9\" fill=\"rgb(255,255,255)\" class=\"agent_1_72\"/></svg></div>"
      ],
      "text/plain": [
       "<IPython.core.display.HTML object>"
      ]
     },
     "metadata": {},
     "output_type": "display_data"
    },
    {
     "name": "stdout",
     "output_type": "stream",
     "text": [
      "to_mention_true\n"
     ]
    },
    {
     "data": {
      "text/html": [
       "<div style=\"white-space: nowrap\"><svg viewbox='0 0 430 430' width=\"172\" height=\"172\" id=\"agent_1\"><circle cx=\"215\" cy=\"215\" r=\"205\" fill=\"none\" stroke=\"black\" stroke-width=\"2\" stroke-dasharray=\"3,3\"/><circle cx=\"166\" cy=\"361\" r=\"9\" fill=\"rgb(139,139,139)\"/><circle cx=\"53\" cy=\"323\" r=\"10\" fill=\"rgb(165,165,165)\"/><circle cx=\"300\" cy=\"148\" r=\"10\" fill=\"rgb(186,186,186)\"/><circle cx=\"206\" cy=\"290\" r=\"12\" fill=\"rgb(153,153,153)\"/><circle cx=\"295\" cy=\"378\" r=\"13\" fill=\"rgb(86,86,86)\"/><circle cx=\"352\" cy=\"319\" r=\"10\" fill=\"rgb(85,85,85)\"/><circle cx=\"347\" cy=\"286\" r=\"9\" fill=\"rgb(158,158,158)\"/></svg><svg viewBox='0 0 430 430' id=\"svg\" width=\"172\" height=\"172\"><circle cx=\"215\" cy=\"215\" r=\"205\" fill=\"none\" stroke=\"black\" stroke-width=\"2\" stroke-dasharray=\"3,3\"/> <circle cx=\"166\" cy=\"361\" r=\"9\" fill=\"rgb(255,0,0)\" class=\"agent_1_5\"/><circle cx=\"53\" cy=\"323\" r=\"10\" fill=\"rgb(255,0,0)\" class=\"agent_1_23\"/><circle cx=\"300\" cy=\"148\" r=\"10\" fill=\"rgb(255,255,255)\" class=\"agent_1_31\"/><circle cx=\"206\" cy=\"290\" r=\"12\" fill=\"rgb(255,0,0)\" class=\"agent_1_35\"/><circle cx=\"295\" cy=\"378\" r=\"13\" fill=\"rgb(255,255,255)\" class=\"agent_1_44\"/><circle cx=\"352\" cy=\"319\" r=\"10\" fill=\"rgb(255,255,255)\" class=\"agent_1_55\"/><circle cx=\"347\" cy=\"286\" r=\"9\" fill=\"rgb(255,255,255)\" class=\"agent_1_72\"/></svg></div>"
      ],
      "text/plain": [
       "<IPython.core.display.HTML object>"
      ]
     },
     "metadata": {},
     "output_type": "display_data"
    },
    {
     "name": "stdout",
     "output_type": "stream",
     "text": [
      "beam 0\ti see that\n",
      "beam 1\ti have that\n",
      "beam 2\ti have that .\n",
      "beam 3\ti see that .\n",
      "beam 4\ti see that too\n",
      "beam 5\ti have that too\n",
      "beam 6\ti see it\n",
      "beam 7\ti have that !\n",
      "beam 8\tare they the same size ?\n",
      "beam 9\ti have that as well\n",
      "beam 10\ti have that too !\n",
      "beam 11\ti see that as well\n",
      "beam 12\ti have that too .\n",
      "beam 13\ti see that too .\n",
      "beam 14\ti think i see that\n",
      "beam 15\ti think i have that\n",
      "beam 16\ti have that as well .\n",
      "beam 17\ti think i see that .\n",
      "beam 18\ti see that as well .\n",
      "beam 19\ti think i have that .\n",
      "greedy\ti have that <eos>\n",
      "human\thmm no . do you have 3 med grey dots of diff sizes forming a triangle ? <eos>\n",
      "refs_pred\n"
     ]
    },
    {
     "data": {
      "text/html": [
       "<div style=\"white-space: nowrap\"><svg viewbox='0 0 430 430' width=\"172\" height=\"172\" id=\"agent_1\"><circle cx=\"215\" cy=\"215\" r=\"205\" fill=\"none\" stroke=\"black\" stroke-width=\"2\" stroke-dasharray=\"3,3\"/><circle cx=\"166\" cy=\"361\" r=\"9\" fill=\"rgb(139,139,139)\"/><circle cx=\"53\" cy=\"323\" r=\"10\" fill=\"rgb(165,165,165)\"/><circle cx=\"300\" cy=\"148\" r=\"10\" fill=\"rgb(186,186,186)\"/><circle cx=\"206\" cy=\"290\" r=\"12\" fill=\"rgb(153,153,153)\"/><circle cx=\"295\" cy=\"378\" r=\"13\" fill=\"rgb(86,86,86)\"/><circle cx=\"352\" cy=\"319\" r=\"10\" fill=\"rgb(85,85,85)\"/><circle cx=\"347\" cy=\"286\" r=\"9\" fill=\"rgb(158,158,158)\"/></svg><svg viewBox='0 0 430 430' id=\"svg\" width=\"172\" height=\"172\"><circle cx=\"215\" cy=\"215\" r=\"205\" fill=\"none\" stroke=\"black\" stroke-width=\"2\" stroke-dasharray=\"3,3\"/> <circle cx=\"166\" cy=\"361\" r=\"9\" fill=\"rgb(255,0,0)\" class=\"agent_1_5\"/><circle cx=\"53\" cy=\"323\" r=\"10\" fill=\"rgb(255,0,0)\" class=\"agent_1_23\"/><circle cx=\"300\" cy=\"148\" r=\"10\" fill=\"rgb(255,255,255)\" class=\"agent_1_31\"/><circle cx=\"206\" cy=\"290\" r=\"12\" fill=\"rgb(255,0,0)\" class=\"agent_1_35\"/><circle cx=\"295\" cy=\"378\" r=\"13\" fill=\"rgb(255,255,255)\" class=\"agent_1_44\"/><circle cx=\"352\" cy=\"319\" r=\"10\" fill=\"rgb(255,255,255)\" class=\"agent_1_55\"/><circle cx=\"347\" cy=\"286\" r=\"9\" fill=\"rgb(255,255,255)\" class=\"agent_1_72\"/></svg></div>"
      ],
      "text/plain": [
       "<IPython.core.display.HTML object>"
      ]
     },
     "metadata": {},
     "output_type": "display_data"
    },
    {
     "name": "stdout",
     "output_type": "stream",
     "text": [
      "refs_true\n"
     ]
    },
    {
     "data": {
      "text/html": [
       "<div style=\"white-space: nowrap\"><svg viewbox='0 0 430 430' width=\"172\" height=\"172\" id=\"agent_1\"><circle cx=\"215\" cy=\"215\" r=\"205\" fill=\"none\" stroke=\"black\" stroke-width=\"2\" stroke-dasharray=\"3,3\"/><circle cx=\"166\" cy=\"361\" r=\"9\" fill=\"rgb(139,139,139)\"/><circle cx=\"53\" cy=\"323\" r=\"10\" fill=\"rgb(165,165,165)\"/><circle cx=\"300\" cy=\"148\" r=\"10\" fill=\"rgb(186,186,186)\"/><circle cx=\"206\" cy=\"290\" r=\"12\" fill=\"rgb(153,153,153)\"/><circle cx=\"295\" cy=\"378\" r=\"13\" fill=\"rgb(86,86,86)\"/><circle cx=\"352\" cy=\"319\" r=\"10\" fill=\"rgb(85,85,85)\"/><circle cx=\"347\" cy=\"286\" r=\"9\" fill=\"rgb(158,158,158)\"/></svg><svg viewBox='0 0 430 430' id=\"svg\" width=\"172\" height=\"172\"><circle cx=\"215\" cy=\"215\" r=\"205\" fill=\"none\" stroke=\"black\" stroke-width=\"2\" stroke-dasharray=\"3,3\"/> <circle cx=\"166\" cy=\"361\" r=\"9\" fill=\"rgb(255,0,0)\" class=\"agent_1_5\"/><circle cx=\"53\" cy=\"323\" r=\"10\" fill=\"rgb(255,0,0)\" class=\"agent_1_23\"/><circle cx=\"300\" cy=\"148\" r=\"10\" fill=\"rgb(255,255,255)\" class=\"agent_1_31\"/><circle cx=\"206\" cy=\"290\" r=\"12\" fill=\"rgb(255,0,0)\" class=\"agent_1_35\"/><circle cx=\"295\" cy=\"378\" r=\"13\" fill=\"rgb(255,255,255)\" class=\"agent_1_44\"/><circle cx=\"352\" cy=\"319\" r=\"10\" fill=\"rgb(255,255,255)\" class=\"agent_1_55\"/><circle cx=\"347\" cy=\"286\" r=\"9\" fill=\"rgb(255,255,255)\" class=\"agent_1_72\"/></svg></div>"
      ],
      "text/plain": [
       "<IPython.core.display.HTML object>"
      ]
     },
     "metadata": {},
     "output_type": "display_data"
    },
    {
     "name": "stdout",
     "output_type": "stream",
     "text": [
      "\n",
      "----------------------------------------\n",
      "\n",
      "human\tTHEM: no mine are almost all the same size where is your lighter one located at that you first was talking about <eos>\n",
      "partner_refs_pred\n"
     ]
    },
    {
     "data": {
      "text/html": [
       "<div style=\"white-space: nowrap\"><svg viewbox='0 0 430 430' width=\"172\" height=\"172\" id=\"agent_1\"><circle cx=\"215\" cy=\"215\" r=\"205\" fill=\"none\" stroke=\"black\" stroke-width=\"2\" stroke-dasharray=\"3,3\"/><circle cx=\"166\" cy=\"361\" r=\"9\" fill=\"rgb(139,139,139)\"/><circle cx=\"53\" cy=\"323\" r=\"10\" fill=\"rgb(165,165,165)\"/><circle cx=\"300\" cy=\"148\" r=\"10\" fill=\"rgb(186,186,186)\"/><circle cx=\"206\" cy=\"290\" r=\"12\" fill=\"rgb(153,153,153)\"/><circle cx=\"295\" cy=\"378\" r=\"13\" fill=\"rgb(86,86,86)\"/><circle cx=\"352\" cy=\"319\" r=\"10\" fill=\"rgb(85,85,85)\"/><circle cx=\"347\" cy=\"286\" r=\"9\" fill=\"rgb(158,158,158)\"/></svg><svg viewBox='0 0 430 430' id=\"svg\" width=\"172\" height=\"172\"><circle cx=\"215\" cy=\"215\" r=\"205\" fill=\"none\" stroke=\"black\" stroke-width=\"2\" stroke-dasharray=\"3,3\"/> <circle cx=\"166\" cy=\"361\" r=\"9\" fill=\"rgb(255,255,255)\" class=\"agent_1_5\"/><circle cx=\"53\" cy=\"323\" r=\"10\" fill=\"rgb(255,255,255)\" class=\"agent_1_23\"/><circle cx=\"300\" cy=\"148\" r=\"10\" fill=\"rgb(255,255,255)\" class=\"agent_1_31\"/><circle cx=\"206\" cy=\"290\" r=\"12\" fill=\"rgb(255,255,255)\" class=\"agent_1_35\"/><circle cx=\"295\" cy=\"378\" r=\"13\" fill=\"rgb(255,255,255)\" class=\"agent_1_44\"/><circle cx=\"352\" cy=\"319\" r=\"10\" fill=\"rgb(255,255,255)\" class=\"agent_1_55\"/><circle cx=\"347\" cy=\"286\" r=\"9\" fill=\"rgb(255,255,255)\" class=\"agent_1_72\"/></svg><svg viewBox='0 0 430 430' id=\"svg\" width=\"172\" height=\"172\"><circle cx=\"215\" cy=\"215\" r=\"205\" fill=\"none\" stroke=\"black\" stroke-width=\"2\" stroke-dasharray=\"3,3\"/> <circle cx=\"166\" cy=\"361\" r=\"9\" fill=\"rgb(255,255,255)\" class=\"agent_1_5\"/><circle cx=\"53\" cy=\"323\" r=\"10\" fill=\"rgb(255,255,255)\" class=\"agent_1_23\"/><circle cx=\"300\" cy=\"148\" r=\"10\" fill=\"rgb(255,255,255)\" class=\"agent_1_31\"/><circle cx=\"206\" cy=\"290\" r=\"12\" fill=\"rgb(255,0,0)\" class=\"agent_1_35\"/><circle cx=\"295\" cy=\"378\" r=\"13\" fill=\"rgb(255,255,255)\" class=\"agent_1_44\"/><circle cx=\"352\" cy=\"319\" r=\"10\" fill=\"rgb(255,255,255)\" class=\"agent_1_55\"/><circle cx=\"347\" cy=\"286\" r=\"9\" fill=\"rgb(255,255,255)\" class=\"agent_1_72\"/></svg></div>"
      ],
      "text/plain": [
       "<IPython.core.display.HTML object>"
      ]
     },
     "metadata": {},
     "output_type": "display_data"
    },
    {
     "name": "stdout",
     "output_type": "stream",
     "text": [
      "partner_refs_true\n"
     ]
    },
    {
     "data": {
      "text/html": [
       "<div style=\"white-space: nowrap\"><svg viewbox='0 0 430 430' width=\"172\" height=\"172\" id=\"agent_1\"><circle cx=\"215\" cy=\"215\" r=\"205\" fill=\"none\" stroke=\"black\" stroke-width=\"2\" stroke-dasharray=\"3,3\"/><circle cx=\"166\" cy=\"361\" r=\"9\" fill=\"rgb(139,139,139)\"/><circle cx=\"53\" cy=\"323\" r=\"10\" fill=\"rgb(165,165,165)\"/><circle cx=\"300\" cy=\"148\" r=\"10\" fill=\"rgb(186,186,186)\"/><circle cx=\"206\" cy=\"290\" r=\"12\" fill=\"rgb(153,153,153)\"/><circle cx=\"295\" cy=\"378\" r=\"13\" fill=\"rgb(86,86,86)\"/><circle cx=\"352\" cy=\"319\" r=\"10\" fill=\"rgb(85,85,85)\"/><circle cx=\"347\" cy=\"286\" r=\"9\" fill=\"rgb(158,158,158)\"/></svg><svg viewBox='0 0 430 430' id=\"svg\" width=\"172\" height=\"172\"><circle cx=\"215\" cy=\"215\" r=\"205\" fill=\"none\" stroke=\"black\" stroke-width=\"2\" stroke-dasharray=\"3,3\"/> <circle cx=\"166\" cy=\"361\" r=\"9\" fill=\"rgb(255,0,0)\" class=\"agent_1_5\"/><circle cx=\"53\" cy=\"323\" r=\"10\" fill=\"rgb(255,0,0)\" class=\"agent_1_23\"/><circle cx=\"300\" cy=\"148\" r=\"10\" fill=\"rgb(255,255,255)\" class=\"agent_1_31\"/><circle cx=\"206\" cy=\"290\" r=\"12\" fill=\"rgb(255,255,255)\" class=\"agent_1_35\"/><circle cx=\"295\" cy=\"378\" r=\"13\" fill=\"rgb(255,255,255)\" class=\"agent_1_44\"/><circle cx=\"352\" cy=\"319\" r=\"10\" fill=\"rgb(255,255,255)\" class=\"agent_1_55\"/><circle cx=\"347\" cy=\"286\" r=\"9\" fill=\"rgb(255,0,0)\" class=\"agent_1_72\"/></svg><svg viewBox='0 0 430 430' id=\"svg\" width=\"172\" height=\"172\"><circle cx=\"215\" cy=\"215\" r=\"205\" fill=\"none\" stroke=\"black\" stroke-width=\"2\" stroke-dasharray=\"3,3\"/> <circle cx=\"166\" cy=\"361\" r=\"9\" fill=\"rgb(255,255,255)\" class=\"agent_1_5\"/><circle cx=\"53\" cy=\"323\" r=\"10\" fill=\"rgb(255,255,255)\" class=\"agent_1_23\"/><circle cx=\"300\" cy=\"148\" r=\"10\" fill=\"rgb(255,255,255)\" class=\"agent_1_31\"/><circle cx=\"206\" cy=\"290\" r=\"12\" fill=\"rgb(255,255,255)\" class=\"agent_1_35\"/><circle cx=\"295\" cy=\"378\" r=\"13\" fill=\"rgb(255,255,255)\" class=\"agent_1_44\"/><circle cx=\"352\" cy=\"319\" r=\"10\" fill=\"rgb(255,255,255)\" class=\"agent_1_55\"/><circle cx=\"347\" cy=\"286\" r=\"9\" fill=\"rgb(255,255,255)\" class=\"agent_1_72\"/></svg></div>"
      ],
      "text/plain": [
       "<IPython.core.display.HTML object>"
      ]
     },
     "metadata": {},
     "output_type": "display_data"
    },
    {
     "name": "stdout",
     "output_type": "stream",
     "text": [
      "\n",
      "----------------------------------------\n",
      "\n",
      "to_mention_pred\n"
     ]
    },
    {
     "data": {
      "text/html": [
       "<div style=\"white-space: nowrap\"><svg viewbox='0 0 430 430' width=\"172\" height=\"172\" id=\"agent_1\"><circle cx=\"215\" cy=\"215\" r=\"205\" fill=\"none\" stroke=\"black\" stroke-width=\"2\" stroke-dasharray=\"3,3\"/><circle cx=\"166\" cy=\"361\" r=\"9\" fill=\"rgb(139,139,139)\"/><circle cx=\"53\" cy=\"323\" r=\"10\" fill=\"rgb(165,165,165)\"/><circle cx=\"300\" cy=\"148\" r=\"10\" fill=\"rgb(186,186,186)\"/><circle cx=\"206\" cy=\"290\" r=\"12\" fill=\"rgb(153,153,153)\"/><circle cx=\"295\" cy=\"378\" r=\"13\" fill=\"rgb(86,86,86)\"/><circle cx=\"352\" cy=\"319\" r=\"10\" fill=\"rgb(85,85,85)\"/><circle cx=\"347\" cy=\"286\" r=\"9\" fill=\"rgb(158,158,158)\"/></svg><svg viewBox='0 0 430 430' id=\"svg\" width=\"172\" height=\"172\"><circle cx=\"215\" cy=\"215\" r=\"205\" fill=\"none\" stroke=\"black\" stroke-width=\"2\" stroke-dasharray=\"3,3\"/> <circle cx=\"166\" cy=\"361\" r=\"9\" fill=\"rgb(255,255,255)\" class=\"agent_1_5\"/><circle cx=\"53\" cy=\"323\" r=\"10\" fill=\"rgb(255,255,255)\" class=\"agent_1_23\"/><circle cx=\"300\" cy=\"148\" r=\"10\" fill=\"rgb(255,255,255)\" class=\"agent_1_31\"/><circle cx=\"206\" cy=\"290\" r=\"12\" fill=\"rgb(255,0,0)\" class=\"agent_1_35\"/><circle cx=\"295\" cy=\"378\" r=\"13\" fill=\"rgb(255,255,255)\" class=\"agent_1_44\"/><circle cx=\"352\" cy=\"319\" r=\"10\" fill=\"rgb(255,255,255)\" class=\"agent_1_55\"/><circle cx=\"347\" cy=\"286\" r=\"9\" fill=\"rgb(255,255,255)\" class=\"agent_1_72\"/></svg><svg viewBox='0 0 430 430' id=\"svg\" width=\"172\" height=\"172\"><circle cx=\"215\" cy=\"215\" r=\"205\" fill=\"none\" stroke=\"black\" stroke-width=\"2\" stroke-dasharray=\"3,3\"/> <circle cx=\"166\" cy=\"361\" r=\"9\" fill=\"rgb(255,255,255)\" class=\"agent_1_5\"/><circle cx=\"53\" cy=\"323\" r=\"10\" fill=\"rgb(255,255,255)\" class=\"agent_1_23\"/><circle cx=\"300\" cy=\"148\" r=\"10\" fill=\"rgb(255,255,255)\" class=\"agent_1_31\"/><circle cx=\"206\" cy=\"290\" r=\"12\" fill=\"rgb(255,0,0)\" class=\"agent_1_35\"/><circle cx=\"295\" cy=\"378\" r=\"13\" fill=\"rgb(255,255,255)\" class=\"agent_1_44\"/><circle cx=\"352\" cy=\"319\" r=\"10\" fill=\"rgb(255,255,255)\" class=\"agent_1_55\"/><circle cx=\"347\" cy=\"286\" r=\"9\" fill=\"rgb(255,255,255)\" class=\"agent_1_72\"/></svg></div>"
      ],
      "text/plain": [
       "<IPython.core.display.HTML object>"
      ]
     },
     "metadata": {},
     "output_type": "display_data"
    },
    {
     "name": "stdout",
     "output_type": "stream",
     "text": [
      "to_mention_true\n"
     ]
    },
    {
     "data": {
      "text/html": [
       "<div style=\"white-space: nowrap\"><svg viewbox='0 0 430 430' width=\"172\" height=\"172\" id=\"agent_1\"><circle cx=\"215\" cy=\"215\" r=\"205\" fill=\"none\" stroke=\"black\" stroke-width=\"2\" stroke-dasharray=\"3,3\"/><circle cx=\"166\" cy=\"361\" r=\"9\" fill=\"rgb(139,139,139)\"/><circle cx=\"53\" cy=\"323\" r=\"10\" fill=\"rgb(165,165,165)\"/><circle cx=\"300\" cy=\"148\" r=\"10\" fill=\"rgb(186,186,186)\"/><circle cx=\"206\" cy=\"290\" r=\"12\" fill=\"rgb(153,153,153)\"/><circle cx=\"295\" cy=\"378\" r=\"13\" fill=\"rgb(86,86,86)\"/><circle cx=\"352\" cy=\"319\" r=\"10\" fill=\"rgb(85,85,85)\"/><circle cx=\"347\" cy=\"286\" r=\"9\" fill=\"rgb(158,158,158)\"/></svg><svg viewBox='0 0 430 430' id=\"svg\" width=\"172\" height=\"172\"><circle cx=\"215\" cy=\"215\" r=\"205\" fill=\"none\" stroke=\"black\" stroke-width=\"2\" stroke-dasharray=\"3,3\"/> <circle cx=\"166\" cy=\"361\" r=\"9\" fill=\"rgb(255,255,255)\" class=\"agent_1_5\"/><circle cx=\"53\" cy=\"323\" r=\"10\" fill=\"rgb(255,255,255)\" class=\"agent_1_23\"/><circle cx=\"300\" cy=\"148\" r=\"10\" fill=\"rgb(255,255,255)\" class=\"agent_1_31\"/><circle cx=\"206\" cy=\"290\" r=\"12\" fill=\"rgb(255,255,255)\" class=\"agent_1_35\"/><circle cx=\"295\" cy=\"378\" r=\"13\" fill=\"rgb(255,255,255)\" class=\"agent_1_44\"/><circle cx=\"352\" cy=\"319\" r=\"10\" fill=\"rgb(255,255,255)\" class=\"agent_1_55\"/><circle cx=\"347\" cy=\"286\" r=\"9\" fill=\"rgb(255,0,0)\" class=\"agent_1_72\"/></svg><svg viewBox='0 0 430 430' id=\"svg\" width=\"172\" height=\"172\"><circle cx=\"215\" cy=\"215\" r=\"205\" fill=\"none\" stroke=\"black\" stroke-width=\"2\" stroke-dasharray=\"3,3\"/> <circle cx=\"166\" cy=\"361\" r=\"9\" fill=\"rgb(255,255,255)\" class=\"agent_1_5\"/><circle cx=\"53\" cy=\"323\" r=\"10\" fill=\"rgb(255,255,255)\" class=\"agent_1_23\"/><circle cx=\"300\" cy=\"148\" r=\"10\" fill=\"rgb(255,255,255)\" class=\"agent_1_31\"/><circle cx=\"206\" cy=\"290\" r=\"12\" fill=\"rgb(255,255,255)\" class=\"agent_1_35\"/><circle cx=\"295\" cy=\"378\" r=\"13\" fill=\"rgb(255,0,0)\" class=\"agent_1_44\"/><circle cx=\"352\" cy=\"319\" r=\"10\" fill=\"rgb(255,255,255)\" class=\"agent_1_55\"/><circle cx=\"347\" cy=\"286\" r=\"9\" fill=\"rgb(255,255,255)\" class=\"agent_1_72\"/></svg></div>"
      ],
      "text/plain": [
       "<IPython.core.display.HTML object>"
      ]
     },
     "metadata": {},
     "output_type": "display_data"
    },
    {
     "name": "stdout",
     "output_type": "stream",
     "text": [
      "beam 0\tis there a small light grey dot below it ?\n",
      "beam 1\tis there a small light grey dot to the right of it ?\n",
      "beam 2\tis there a smaller light grey dot below it ?\n",
      "beam 3\tis there a smaller light grey dot to the right of it ?\n",
      "beam 4\tis there a small light grey dot to the left of it ?\n",
      "beam 5\tis there a smaller light grey dot to the left of it ?\n",
      "beam 6\tis there a smaller light grey dot above and to the right of it ?\n",
      "beam 7\tis there a small light grey dot above and to the right of it ?\n",
      "beam 8\tis there a smaller light grey dot above and to the left of it ?\n",
      "beam 9\tis there a small light grey dot above and to the left of it ?\n",
      "beam 10\tis there a small light grey dot below and to the right of it ?\n",
      "beam 11\tis there a small light grey dot below and to the left of it ?\n",
      "beam 12\tlet 's pick the light grey dot in the middle of the triangle\n",
      "beam 13\tlet 's choose the light grey dot in the middle of the triangle\n",
      "beam 14\tis there a small light grey dot above and to the right of the black one ?\n",
      "beam 15\tis there a small light grey dot above and to the left of the black one ?\n",
      "beam 16\tis there a smaller light grey dot above and to the right of the black one ?\n",
      "beam 17\tis there a smaller light grey dot above and to the left of the black one ?\n",
      "beam 18\tis there a small light grey dot below and to the right of the black one ?\n",
      "beam 19\tis there a small light grey dot below and to the left of the black one ?\n",
      "greedy\tyes , the one on the right is a little darker than the other two <eos>\n",
      "human\thmm <unk> that one . do you see a very large very dark dot ? <eos>\n",
      "refs_pred\n"
     ]
    },
    {
     "data": {
      "text/html": [
       "<div style=\"white-space: nowrap\"><svg viewbox='0 0 430 430' width=\"172\" height=\"172\" id=\"agent_1\"><circle cx=\"215\" cy=\"215\" r=\"205\" fill=\"none\" stroke=\"black\" stroke-width=\"2\" stroke-dasharray=\"3,3\"/><circle cx=\"166\" cy=\"361\" r=\"9\" fill=\"rgb(139,139,139)\"/><circle cx=\"53\" cy=\"323\" r=\"10\" fill=\"rgb(165,165,165)\"/><circle cx=\"300\" cy=\"148\" r=\"10\" fill=\"rgb(186,186,186)\"/><circle cx=\"206\" cy=\"290\" r=\"12\" fill=\"rgb(153,153,153)\"/><circle cx=\"295\" cy=\"378\" r=\"13\" fill=\"rgb(86,86,86)\"/><circle cx=\"352\" cy=\"319\" r=\"10\" fill=\"rgb(85,85,85)\"/><circle cx=\"347\" cy=\"286\" r=\"9\" fill=\"rgb(158,158,158)\"/></svg><svg viewBox='0 0 430 430' id=\"svg\" width=\"172\" height=\"172\"><circle cx=\"215\" cy=\"215\" r=\"205\" fill=\"none\" stroke=\"black\" stroke-width=\"2\" stroke-dasharray=\"3,3\"/> <circle cx=\"166\" cy=\"361\" r=\"9\" fill=\"rgb(255,255,255)\" class=\"agent_1_5\"/><circle cx=\"53\" cy=\"323\" r=\"10\" fill=\"rgb(255,255,255)\" class=\"agent_1_23\"/><circle cx=\"300\" cy=\"148\" r=\"10\" fill=\"rgb(255,255,255)\" class=\"agent_1_31\"/><circle cx=\"206\" cy=\"290\" r=\"12\" fill=\"rgb(255,0,0)\" class=\"agent_1_35\"/><circle cx=\"295\" cy=\"378\" r=\"13\" fill=\"rgb(255,255,255)\" class=\"agent_1_44\"/><circle cx=\"352\" cy=\"319\" r=\"10\" fill=\"rgb(255,255,255)\" class=\"agent_1_55\"/><circle cx=\"347\" cy=\"286\" r=\"9\" fill=\"rgb(255,255,255)\" class=\"agent_1_72\"/></svg><svg viewBox='0 0 430 430' id=\"svg\" width=\"172\" height=\"172\"><circle cx=\"215\" cy=\"215\" r=\"205\" fill=\"none\" stroke=\"black\" stroke-width=\"2\" stroke-dasharray=\"3,3\"/> <circle cx=\"166\" cy=\"361\" r=\"9\" fill=\"rgb(255,255,255)\" class=\"agent_1_5\"/><circle cx=\"53\" cy=\"323\" r=\"10\" fill=\"rgb(255,255,255)\" class=\"agent_1_23\"/><circle cx=\"300\" cy=\"148\" r=\"10\" fill=\"rgb(255,255,255)\" class=\"agent_1_31\"/><circle cx=\"206\" cy=\"290\" r=\"12\" fill=\"rgb(255,255,255)\" class=\"agent_1_35\"/><circle cx=\"295\" cy=\"378\" r=\"13\" fill=\"rgb(255,0,0)\" class=\"agent_1_44\"/><circle cx=\"352\" cy=\"319\" r=\"10\" fill=\"rgb(255,255,255)\" class=\"agent_1_55\"/><circle cx=\"347\" cy=\"286\" r=\"9\" fill=\"rgb(255,255,255)\" class=\"agent_1_72\"/></svg></div>"
      ],
      "text/plain": [
       "<IPython.core.display.HTML object>"
      ]
     },
     "metadata": {},
     "output_type": "display_data"
    },
    {
     "name": "stdout",
     "output_type": "stream",
     "text": [
      "refs_true\n"
     ]
    },
    {
     "data": {
      "text/html": [
       "<div style=\"white-space: nowrap\"><svg viewbox='0 0 430 430' width=\"172\" height=\"172\" id=\"agent_1\"><circle cx=\"215\" cy=\"215\" r=\"205\" fill=\"none\" stroke=\"black\" stroke-width=\"2\" stroke-dasharray=\"3,3\"/><circle cx=\"166\" cy=\"361\" r=\"9\" fill=\"rgb(139,139,139)\"/><circle cx=\"53\" cy=\"323\" r=\"10\" fill=\"rgb(165,165,165)\"/><circle cx=\"300\" cy=\"148\" r=\"10\" fill=\"rgb(186,186,186)\"/><circle cx=\"206\" cy=\"290\" r=\"12\" fill=\"rgb(153,153,153)\"/><circle cx=\"295\" cy=\"378\" r=\"13\" fill=\"rgb(86,86,86)\"/><circle cx=\"352\" cy=\"319\" r=\"10\" fill=\"rgb(85,85,85)\"/><circle cx=\"347\" cy=\"286\" r=\"9\" fill=\"rgb(158,158,158)\"/></svg><svg viewBox='0 0 430 430' id=\"svg\" width=\"172\" height=\"172\"><circle cx=\"215\" cy=\"215\" r=\"205\" fill=\"none\" stroke=\"black\" stroke-width=\"2\" stroke-dasharray=\"3,3\"/> <circle cx=\"166\" cy=\"361\" r=\"9\" fill=\"rgb(255,255,255)\" class=\"agent_1_5\"/><circle cx=\"53\" cy=\"323\" r=\"10\" fill=\"rgb(255,255,255)\" class=\"agent_1_23\"/><circle cx=\"300\" cy=\"148\" r=\"10\" fill=\"rgb(255,255,255)\" class=\"agent_1_31\"/><circle cx=\"206\" cy=\"290\" r=\"12\" fill=\"rgb(255,255,255)\" class=\"agent_1_35\"/><circle cx=\"295\" cy=\"378\" r=\"13\" fill=\"rgb(255,255,255)\" class=\"agent_1_44\"/><circle cx=\"352\" cy=\"319\" r=\"10\" fill=\"rgb(255,255,255)\" class=\"agent_1_55\"/><circle cx=\"347\" cy=\"286\" r=\"9\" fill=\"rgb(255,0,0)\" class=\"agent_1_72\"/></svg><svg viewBox='0 0 430 430' id=\"svg\" width=\"172\" height=\"172\"><circle cx=\"215\" cy=\"215\" r=\"205\" fill=\"none\" stroke=\"black\" stroke-width=\"2\" stroke-dasharray=\"3,3\"/> <circle cx=\"166\" cy=\"361\" r=\"9\" fill=\"rgb(255,255,255)\" class=\"agent_1_5\"/><circle cx=\"53\" cy=\"323\" r=\"10\" fill=\"rgb(255,255,255)\" class=\"agent_1_23\"/><circle cx=\"300\" cy=\"148\" r=\"10\" fill=\"rgb(255,255,255)\" class=\"agent_1_31\"/><circle cx=\"206\" cy=\"290\" r=\"12\" fill=\"rgb(255,255,255)\" class=\"agent_1_35\"/><circle cx=\"295\" cy=\"378\" r=\"13\" fill=\"rgb(255,0,0)\" class=\"agent_1_44\"/><circle cx=\"352\" cy=\"319\" r=\"10\" fill=\"rgb(255,255,255)\" class=\"agent_1_55\"/><circle cx=\"347\" cy=\"286\" r=\"9\" fill=\"rgb(255,255,255)\" class=\"agent_1_72\"/></svg></div>"
      ],
      "text/plain": [
       "<IPython.core.display.HTML object>"
      ]
     },
     "metadata": {},
     "output_type": "display_data"
    },
    {
     "name": "stdout",
     "output_type": "stream",
     "text": [
      "\n",
      "----------------------------------------\n",
      "\n",
      "human\tTHEM: yes i only have one that is bigger then the rest of mine and its dark <eos>\n",
      "partner_refs_pred\n"
     ]
    },
    {
     "data": {
      "text/html": [
       "<div style=\"white-space: nowrap\"><svg viewbox='0 0 430 430' width=\"172\" height=\"172\" id=\"agent_1\"><circle cx=\"215\" cy=\"215\" r=\"205\" fill=\"none\" stroke=\"black\" stroke-width=\"2\" stroke-dasharray=\"3,3\"/><circle cx=\"166\" cy=\"361\" r=\"9\" fill=\"rgb(139,139,139)\"/><circle cx=\"53\" cy=\"323\" r=\"10\" fill=\"rgb(165,165,165)\"/><circle cx=\"300\" cy=\"148\" r=\"10\" fill=\"rgb(186,186,186)\"/><circle cx=\"206\" cy=\"290\" r=\"12\" fill=\"rgb(153,153,153)\"/><circle cx=\"295\" cy=\"378\" r=\"13\" fill=\"rgb(86,86,86)\"/><circle cx=\"352\" cy=\"319\" r=\"10\" fill=\"rgb(85,85,85)\"/><circle cx=\"347\" cy=\"286\" r=\"9\" fill=\"rgb(158,158,158)\"/></svg><svg viewBox='0 0 430 430' id=\"svg\" width=\"172\" height=\"172\"><circle cx=\"215\" cy=\"215\" r=\"205\" fill=\"none\" stroke=\"black\" stroke-width=\"2\" stroke-dasharray=\"3,3\"/> <circle cx=\"166\" cy=\"361\" r=\"9\" fill=\"rgb(255,255,255)\" class=\"agent_1_5\"/><circle cx=\"53\" cy=\"323\" r=\"10\" fill=\"rgb(255,255,255)\" class=\"agent_1_23\"/><circle cx=\"300\" cy=\"148\" r=\"10\" fill=\"rgb(255,255,255)\" class=\"agent_1_31\"/><circle cx=\"206\" cy=\"290\" r=\"12\" fill=\"rgb(255,255,255)\" class=\"agent_1_35\"/><circle cx=\"295\" cy=\"378\" r=\"13\" fill=\"rgb(255,0,0)\" class=\"agent_1_44\"/><circle cx=\"352\" cy=\"319\" r=\"10\" fill=\"rgb(255,255,255)\" class=\"agent_1_55\"/><circle cx=\"347\" cy=\"286\" r=\"9\" fill=\"rgb(255,255,255)\" class=\"agent_1_72\"/></svg><svg viewBox='0 0 430 430' id=\"svg\" width=\"172\" height=\"172\"><circle cx=\"215\" cy=\"215\" r=\"205\" fill=\"none\" stroke=\"black\" stroke-width=\"2\" stroke-dasharray=\"3,3\"/> <circle cx=\"166\" cy=\"361\" r=\"9\" fill=\"rgb(255,255,255)\" class=\"agent_1_5\"/><circle cx=\"53\" cy=\"323\" r=\"10\" fill=\"rgb(255,255,255)\" class=\"agent_1_23\"/><circle cx=\"300\" cy=\"148\" r=\"10\" fill=\"rgb(255,255,255)\" class=\"agent_1_31\"/><circle cx=\"206\" cy=\"290\" r=\"12\" fill=\"rgb(255,255,255)\" class=\"agent_1_35\"/><circle cx=\"295\" cy=\"378\" r=\"13\" fill=\"rgb(255,255,255)\" class=\"agent_1_44\"/><circle cx=\"352\" cy=\"319\" r=\"10\" fill=\"rgb(255,0,0)\" class=\"agent_1_55\"/><circle cx=\"347\" cy=\"286\" r=\"9\" fill=\"rgb(255,255,255)\" class=\"agent_1_72\"/></svg><svg viewBox='0 0 430 430' id=\"svg\" width=\"172\" height=\"172\"><circle cx=\"215\" cy=\"215\" r=\"205\" fill=\"none\" stroke=\"black\" stroke-width=\"2\" stroke-dasharray=\"3,3\"/> <circle cx=\"166\" cy=\"361\" r=\"9\" fill=\"rgb(255,255,255)\" class=\"agent_1_5\"/><circle cx=\"53\" cy=\"323\" r=\"10\" fill=\"rgb(255,255,255)\" class=\"agent_1_23\"/><circle cx=\"300\" cy=\"148\" r=\"10\" fill=\"rgb(255,255,255)\" class=\"agent_1_31\"/><circle cx=\"206\" cy=\"290\" r=\"12\" fill=\"rgb(255,255,255)\" class=\"agent_1_35\"/><circle cx=\"295\" cy=\"378\" r=\"13\" fill=\"rgb(255,255,255)\" class=\"agent_1_44\"/><circle cx=\"352\" cy=\"319\" r=\"10\" fill=\"rgb(255,0,0)\" class=\"agent_1_55\"/><circle cx=\"347\" cy=\"286\" r=\"9\" fill=\"rgb(255,255,255)\" class=\"agent_1_72\"/></svg></div>"
      ],
      "text/plain": [
       "<IPython.core.display.HTML object>"
      ]
     },
     "metadata": {},
     "output_type": "display_data"
    },
    {
     "name": "stdout",
     "output_type": "stream",
     "text": [
      "partner_refs_true\n"
     ]
    },
    {
     "data": {
      "text/html": [
       "<div style=\"white-space: nowrap\"><svg viewbox='0 0 430 430' width=\"172\" height=\"172\" id=\"agent_1\"><circle cx=\"215\" cy=\"215\" r=\"205\" fill=\"none\" stroke=\"black\" stroke-width=\"2\" stroke-dasharray=\"3,3\"/><circle cx=\"166\" cy=\"361\" r=\"9\" fill=\"rgb(139,139,139)\"/><circle cx=\"53\" cy=\"323\" r=\"10\" fill=\"rgb(165,165,165)\"/><circle cx=\"300\" cy=\"148\" r=\"10\" fill=\"rgb(186,186,186)\"/><circle cx=\"206\" cy=\"290\" r=\"12\" fill=\"rgb(153,153,153)\"/><circle cx=\"295\" cy=\"378\" r=\"13\" fill=\"rgb(86,86,86)\"/><circle cx=\"352\" cy=\"319\" r=\"10\" fill=\"rgb(85,85,85)\"/><circle cx=\"347\" cy=\"286\" r=\"9\" fill=\"rgb(158,158,158)\"/></svg><svg viewBox='0 0 430 430' id=\"svg\" width=\"172\" height=\"172\"><circle cx=\"215\" cy=\"215\" r=\"205\" fill=\"none\" stroke=\"black\" stroke-width=\"2\" stroke-dasharray=\"3,3\"/> <circle cx=\"166\" cy=\"361\" r=\"9\" fill=\"rgb(255,255,255)\" class=\"agent_1_5\"/><circle cx=\"53\" cy=\"323\" r=\"10\" fill=\"rgb(255,255,255)\" class=\"agent_1_23\"/><circle cx=\"300\" cy=\"148\" r=\"10\" fill=\"rgb(255,255,255)\" class=\"agent_1_31\"/><circle cx=\"206\" cy=\"290\" r=\"12\" fill=\"rgb(255,255,255)\" class=\"agent_1_35\"/><circle cx=\"295\" cy=\"378\" r=\"13\" fill=\"rgb(255,0,0)\" class=\"agent_1_44\"/><circle cx=\"352\" cy=\"319\" r=\"10\" fill=\"rgb(255,255,255)\" class=\"agent_1_55\"/><circle cx=\"347\" cy=\"286\" r=\"9\" fill=\"rgb(255,255,255)\" class=\"agent_1_72\"/></svg><svg viewBox='0 0 430 430' id=\"svg\" width=\"172\" height=\"172\"><circle cx=\"215\" cy=\"215\" r=\"205\" fill=\"none\" stroke=\"black\" stroke-width=\"2\" stroke-dasharray=\"3,3\"/> <circle cx=\"166\" cy=\"361\" r=\"9\" fill=\"rgb(255,0,0)\" class=\"agent_1_5\"/><circle cx=\"53\" cy=\"323\" r=\"10\" fill=\"rgb(255,0,0)\" class=\"agent_1_23\"/><circle cx=\"300\" cy=\"148\" r=\"10\" fill=\"rgb(255,255,255)\" class=\"agent_1_31\"/><circle cx=\"206\" cy=\"290\" r=\"12\" fill=\"rgb(255,0,0)\" class=\"agent_1_35\"/><circle cx=\"295\" cy=\"378\" r=\"13\" fill=\"rgb(255,255,255)\" class=\"agent_1_44\"/><circle cx=\"352\" cy=\"319\" r=\"10\" fill=\"rgb(255,0,0)\" class=\"agent_1_55\"/><circle cx=\"347\" cy=\"286\" r=\"9\" fill=\"rgb(255,0,0)\" class=\"agent_1_72\"/></svg><svg viewBox='0 0 430 430' id=\"svg\" width=\"172\" height=\"172\"><circle cx=\"215\" cy=\"215\" r=\"205\" fill=\"none\" stroke=\"black\" stroke-width=\"2\" stroke-dasharray=\"3,3\"/> <circle cx=\"166\" cy=\"361\" r=\"9\" fill=\"rgb(255,255,255)\" class=\"agent_1_5\"/><circle cx=\"53\" cy=\"323\" r=\"10\" fill=\"rgb(255,255,255)\" class=\"agent_1_23\"/><circle cx=\"300\" cy=\"148\" r=\"10\" fill=\"rgb(255,255,255)\" class=\"agent_1_31\"/><circle cx=\"206\" cy=\"290\" r=\"12\" fill=\"rgb(255,255,255)\" class=\"agent_1_35\"/><circle cx=\"295\" cy=\"378\" r=\"13\" fill=\"rgb(255,0,0)\" class=\"agent_1_44\"/><circle cx=\"352\" cy=\"319\" r=\"10\" fill=\"rgb(255,255,255)\" class=\"agent_1_55\"/><circle cx=\"347\" cy=\"286\" r=\"9\" fill=\"rgb(255,255,255)\" class=\"agent_1_72\"/></svg></div>"
      ],
      "text/plain": [
       "<IPython.core.display.HTML object>"
      ]
     },
     "metadata": {},
     "output_type": "display_data"
    },
    {
     "name": "stdout",
     "output_type": "stream",
     "text": [
      "\n",
      "----------------------------------------\n",
      "\n",
      "to_mention_pred\n"
     ]
    },
    {
     "data": {
      "text/html": [
       "<div style=\"white-space: nowrap\"><svg viewbox='0 0 430 430' width=\"172\" height=\"172\" id=\"agent_1\"><circle cx=\"215\" cy=\"215\" r=\"205\" fill=\"none\" stroke=\"black\" stroke-width=\"2\" stroke-dasharray=\"3,3\"/><circle cx=\"166\" cy=\"361\" r=\"9\" fill=\"rgb(139,139,139)\"/><circle cx=\"53\" cy=\"323\" r=\"10\" fill=\"rgb(165,165,165)\"/><circle cx=\"300\" cy=\"148\" r=\"10\" fill=\"rgb(186,186,186)\"/><circle cx=\"206\" cy=\"290\" r=\"12\" fill=\"rgb(153,153,153)\"/><circle cx=\"295\" cy=\"378\" r=\"13\" fill=\"rgb(86,86,86)\"/><circle cx=\"352\" cy=\"319\" r=\"10\" fill=\"rgb(85,85,85)\"/><circle cx=\"347\" cy=\"286\" r=\"9\" fill=\"rgb(158,158,158)\"/></svg><svg viewBox='0 0 430 430' id=\"svg\" width=\"172\" height=\"172\"><circle cx=\"215\" cy=\"215\" r=\"205\" fill=\"none\" stroke=\"black\" stroke-width=\"2\" stroke-dasharray=\"3,3\"/> <circle cx=\"166\" cy=\"361\" r=\"9\" fill=\"rgb(255,255,255)\" class=\"agent_1_5\"/><circle cx=\"53\" cy=\"323\" r=\"10\" fill=\"rgb(255,255,255)\" class=\"agent_1_23\"/><circle cx=\"300\" cy=\"148\" r=\"10\" fill=\"rgb(255,255,255)\" class=\"agent_1_31\"/><circle cx=\"206\" cy=\"290\" r=\"12\" fill=\"rgb(255,255,255)\" class=\"agent_1_35\"/><circle cx=\"295\" cy=\"378\" r=\"13\" fill=\"rgb(255,0,0)\" class=\"agent_1_44\"/><circle cx=\"352\" cy=\"319\" r=\"10\" fill=\"rgb(255,255,255)\" class=\"agent_1_55\"/><circle cx=\"347\" cy=\"286\" r=\"9\" fill=\"rgb(255,255,255)\" class=\"agent_1_72\"/></svg></div>"
      ],
      "text/plain": [
       "<IPython.core.display.HTML object>"
      ]
     },
     "metadata": {},
     "output_type": "display_data"
    },
    {
     "name": "stdout",
     "output_type": "stream",
     "text": [
      "to_mention_true\n"
     ]
    },
    {
     "data": {
      "text/html": [
       "<div style=\"white-space: nowrap\"><svg viewbox='0 0 430 430' width=\"172\" height=\"172\" id=\"agent_1\"><circle cx=\"215\" cy=\"215\" r=\"205\" fill=\"none\" stroke=\"black\" stroke-width=\"2\" stroke-dasharray=\"3,3\"/><circle cx=\"166\" cy=\"361\" r=\"9\" fill=\"rgb(139,139,139)\"/><circle cx=\"53\" cy=\"323\" r=\"10\" fill=\"rgb(165,165,165)\"/><circle cx=\"300\" cy=\"148\" r=\"10\" fill=\"rgb(186,186,186)\"/><circle cx=\"206\" cy=\"290\" r=\"12\" fill=\"rgb(153,153,153)\"/><circle cx=\"295\" cy=\"378\" r=\"13\" fill=\"rgb(86,86,86)\"/><circle cx=\"352\" cy=\"319\" r=\"10\" fill=\"rgb(85,85,85)\"/><circle cx=\"347\" cy=\"286\" r=\"9\" fill=\"rgb(158,158,158)\"/></svg><svg viewBox='0 0 430 430' id=\"svg\" width=\"172\" height=\"172\"><circle cx=\"215\" cy=\"215\" r=\"205\" fill=\"none\" stroke=\"black\" stroke-width=\"2\" stroke-dasharray=\"3,3\"/> <circle cx=\"166\" cy=\"361\" r=\"9\" fill=\"rgb(255,255,255)\" class=\"agent_1_5\"/><circle cx=\"53\" cy=\"323\" r=\"10\" fill=\"rgb(255,255,255)\" class=\"agent_1_23\"/><circle cx=\"300\" cy=\"148\" r=\"10\" fill=\"rgb(255,255,255)\" class=\"agent_1_31\"/><circle cx=\"206\" cy=\"290\" r=\"12\" fill=\"rgb(255,255,255)\" class=\"agent_1_35\"/><circle cx=\"295\" cy=\"378\" r=\"13\" fill=\"rgb(255,0,0)\" class=\"agent_1_44\"/><circle cx=\"352\" cy=\"319\" r=\"10\" fill=\"rgb(255,255,255)\" class=\"agent_1_55\"/><circle cx=\"347\" cy=\"286\" r=\"9\" fill=\"rgb(255,255,255)\" class=\"agent_1_72\"/></svg></div>"
      ],
      "text/plain": [
       "<IPython.core.display.HTML object>"
      ]
     },
     "metadata": {},
     "output_type": "display_data"
    },
    {
     "name": "stdout",
     "output_type": "stream",
     "text": [
      "beam 0\tyes , let 's pick that one\n",
      "beam 1\tyes , let 's pick that one .\n",
      "beam 2\tlet us select the large dark one\n",
      "beam 3\tlet us select the large black one\n",
      "beam 4\tyes , let 's choose that one .\n",
      "beam 5\tyes . let 's pick that one .\n",
      "beam 6\tyes , let 's pick the large black one\n",
      "beam 7\tyes . let 's pick the large black one .\n",
      "beam 8\tyes , let 's pick the large dark one\n",
      "beam 9\tyes . let 's pick the large black one\n",
      "beam 10\tyes , let 's choose the large black one\n",
      "beam 11\tyes , let 's pick the large black dot\n",
      "beam 12\tyes , let 's pick the large black one .\n",
      "beam 13\tyes . let 's pick the large black dot\n",
      "beam 14\tyes . let 's pick the large black dot .\n",
      "beam 15\tyes . let 's choose the large black one .\n",
      "beam 16\tyes . let 's pick the large dark one .\n",
      "beam 17\tyes , let 's choose the large black one .\n",
      "beam 18\tyes . let 's choose the large black dot .\n",
      "beam 19\tyes , let 's pick the large dark one .\n",
      "greedy\tyes , let 's pick the large black one <selection>\n",
      "human\tokay cool me too . click that one ! <selection>\n",
      "refs_pred\n"
     ]
    },
    {
     "data": {
      "text/html": [
       "<div style=\"white-space: nowrap\"><svg viewbox='0 0 430 430' width=\"172\" height=\"172\" id=\"agent_1\"><circle cx=\"215\" cy=\"215\" r=\"205\" fill=\"none\" stroke=\"black\" stroke-width=\"2\" stroke-dasharray=\"3,3\"/><circle cx=\"166\" cy=\"361\" r=\"9\" fill=\"rgb(139,139,139)\"/><circle cx=\"53\" cy=\"323\" r=\"10\" fill=\"rgb(165,165,165)\"/><circle cx=\"300\" cy=\"148\" r=\"10\" fill=\"rgb(186,186,186)\"/><circle cx=\"206\" cy=\"290\" r=\"12\" fill=\"rgb(153,153,153)\"/><circle cx=\"295\" cy=\"378\" r=\"13\" fill=\"rgb(86,86,86)\"/><circle cx=\"352\" cy=\"319\" r=\"10\" fill=\"rgb(85,85,85)\"/><circle cx=\"347\" cy=\"286\" r=\"9\" fill=\"rgb(158,158,158)\"/></svg><svg viewBox='0 0 430 430' id=\"svg\" width=\"172\" height=\"172\"><circle cx=\"215\" cy=\"215\" r=\"205\" fill=\"none\" stroke=\"black\" stroke-width=\"2\" stroke-dasharray=\"3,3\"/> <circle cx=\"166\" cy=\"361\" r=\"9\" fill=\"rgb(255,255,255)\" class=\"agent_1_5\"/><circle cx=\"53\" cy=\"323\" r=\"10\" fill=\"rgb(255,255,255)\" class=\"agent_1_23\"/><circle cx=\"300\" cy=\"148\" r=\"10\" fill=\"rgb(255,255,255)\" class=\"agent_1_31\"/><circle cx=\"206\" cy=\"290\" r=\"12\" fill=\"rgb(255,255,255)\" class=\"agent_1_35\"/><circle cx=\"295\" cy=\"378\" r=\"13\" fill=\"rgb(255,0,0)\" class=\"agent_1_44\"/><circle cx=\"352\" cy=\"319\" r=\"10\" fill=\"rgb(255,255,255)\" class=\"agent_1_55\"/><circle cx=\"347\" cy=\"286\" r=\"9\" fill=\"rgb(255,255,255)\" class=\"agent_1_72\"/></svg></div>"
      ],
      "text/plain": [
       "<IPython.core.display.HTML object>"
      ]
     },
     "metadata": {},
     "output_type": "display_data"
    },
    {
     "name": "stdout",
     "output_type": "stream",
     "text": [
      "refs_true\n"
     ]
    },
    {
     "data": {
      "text/html": [
       "<div style=\"white-space: nowrap\"><svg viewbox='0 0 430 430' width=\"172\" height=\"172\" id=\"agent_1\"><circle cx=\"215\" cy=\"215\" r=\"205\" fill=\"none\" stroke=\"black\" stroke-width=\"2\" stroke-dasharray=\"3,3\"/><circle cx=\"166\" cy=\"361\" r=\"9\" fill=\"rgb(139,139,139)\"/><circle cx=\"53\" cy=\"323\" r=\"10\" fill=\"rgb(165,165,165)\"/><circle cx=\"300\" cy=\"148\" r=\"10\" fill=\"rgb(186,186,186)\"/><circle cx=\"206\" cy=\"290\" r=\"12\" fill=\"rgb(153,153,153)\"/><circle cx=\"295\" cy=\"378\" r=\"13\" fill=\"rgb(86,86,86)\"/><circle cx=\"352\" cy=\"319\" r=\"10\" fill=\"rgb(85,85,85)\"/><circle cx=\"347\" cy=\"286\" r=\"9\" fill=\"rgb(158,158,158)\"/></svg><svg viewBox='0 0 430 430' id=\"svg\" width=\"172\" height=\"172\"><circle cx=\"215\" cy=\"215\" r=\"205\" fill=\"none\" stroke=\"black\" stroke-width=\"2\" stroke-dasharray=\"3,3\"/> <circle cx=\"166\" cy=\"361\" r=\"9\" fill=\"rgb(255,255,255)\" class=\"agent_1_5\"/><circle cx=\"53\" cy=\"323\" r=\"10\" fill=\"rgb(255,255,255)\" class=\"agent_1_23\"/><circle cx=\"300\" cy=\"148\" r=\"10\" fill=\"rgb(255,255,255)\" class=\"agent_1_31\"/><circle cx=\"206\" cy=\"290\" r=\"12\" fill=\"rgb(255,255,255)\" class=\"agent_1_35\"/><circle cx=\"295\" cy=\"378\" r=\"13\" fill=\"rgb(255,0,0)\" class=\"agent_1_44\"/><circle cx=\"352\" cy=\"319\" r=\"10\" fill=\"rgb(255,255,255)\" class=\"agent_1_55\"/><circle cx=\"347\" cy=\"286\" r=\"9\" fill=\"rgb(255,255,255)\" class=\"agent_1_72\"/></svg></div>"
      ],
      "text/plain": [
       "<IPython.core.display.HTML object>"
      ]
     },
     "metadata": {},
     "output_type": "display_data"
    },
    {
     "name": "stdout",
     "output_type": "stream",
     "text": [
      "\n",
      "----------------------------------------\n",
      "\n"
     ]
    }
   ],
   "source": [
    "force_contexts_and_mentions(6)"
   ]
  },
  {
   "cell_type": "code",
   "execution_count": 63,
   "metadata": {
    "scrolled": false
   },
   "outputs": [
    {
     "name": "stdout",
     "output_type": "stream",
     "text": [
      "human\tTHEM: i see a single light grey small dot with nothing around it really . <eos>\n",
      "partner_refs_pred\n"
     ]
    },
    {
     "data": {
      "text/html": [
       "<div style=\"white-space: nowrap\"><svg viewbox='0 0 430 430' width=\"172\" height=\"172\" id=\"agent_0\"><circle cx=\"215\" cy=\"215\" r=\"205\" fill=\"none\" stroke=\"black\" stroke-width=\"2\" stroke-dasharray=\"3,3\"/><circle cx=\"345\" cy=\"327\" r=\"11\" fill=\"rgb(135,135,135)\"/><circle cx=\"214\" cy=\"354\" r=\"13\" fill=\"rgb(58,58,58)\"/><circle cx=\"49\" cy=\"139\" r=\"8\" fill=\"rgb(195,195,195)\"/><circle cx=\"72\" cy=\"324\" r=\"9\" fill=\"rgb(197,197,197)\"/><circle cx=\"348\" cy=\"84\" r=\"12\" fill=\"rgb(66,66,66)\"/><circle cx=\"381\" cy=\"224\" r=\"10\" fill=\"rgb(96,96,96)\"/><circle cx=\"223\" cy=\"169\" r=\"9\" fill=\"rgb(183,183,183)\"/></svg><svg viewBox='0 0 430 430' id=\"svg\" width=\"172\" height=\"172\"><circle cx=\"215\" cy=\"215\" r=\"205\" fill=\"none\" stroke=\"black\" stroke-width=\"2\" stroke-dasharray=\"3,3\"/> <circle cx=\"345\" cy=\"327\" r=\"11\" fill=\"rgb(255,255,255)\" class=\"agent_0_6\"/><circle cx=\"214\" cy=\"354\" r=\"13\" fill=\"rgb(255,255,255)\" class=\"agent_0_12\"/><circle cx=\"49\" cy=\"139\" r=\"8\" fill=\"rgb(255,255,255)\" class=\"agent_0_20\"/><circle cx=\"72\" cy=\"324\" r=\"9\" fill=\"rgb(255,255,255)\" class=\"agent_0_48\"/><circle cx=\"348\" cy=\"84\" r=\"12\" fill=\"rgb(255,255,255)\" class=\"agent_0_50\"/><circle cx=\"381\" cy=\"224\" r=\"10\" fill=\"rgb(255,255,255)\" class=\"agent_0_63\"/><circle cx=\"223\" cy=\"169\" r=\"9\" fill=\"rgb(255,0,0)\" class=\"agent_0_65\"/></svg><svg viewBox='0 0 430 430' id=\"svg\" width=\"172\" height=\"172\"><circle cx=\"215\" cy=\"215\" r=\"205\" fill=\"none\" stroke=\"black\" stroke-width=\"2\" stroke-dasharray=\"3,3\"/> <circle cx=\"345\" cy=\"327\" r=\"11\" fill=\"rgb(255,255,255)\" class=\"agent_0_6\"/><circle cx=\"214\" cy=\"354\" r=\"13\" fill=\"rgb(255,255,255)\" class=\"agent_0_12\"/><circle cx=\"49\" cy=\"139\" r=\"8\" fill=\"rgb(255,255,255)\" class=\"agent_0_20\"/><circle cx=\"72\" cy=\"324\" r=\"9\" fill=\"rgb(255,255,255)\" class=\"agent_0_48\"/><circle cx=\"348\" cy=\"84\" r=\"12\" fill=\"rgb(255,255,255)\" class=\"agent_0_50\"/><circle cx=\"381\" cy=\"224\" r=\"10\" fill=\"rgb(255,255,255)\" class=\"agent_0_63\"/><circle cx=\"223\" cy=\"169\" r=\"9\" fill=\"rgb(255,0,0)\" class=\"agent_0_65\"/></svg><svg viewBox='0 0 430 430' id=\"svg\" width=\"172\" height=\"172\"><circle cx=\"215\" cy=\"215\" r=\"205\" fill=\"none\" stroke=\"black\" stroke-width=\"2\" stroke-dasharray=\"3,3\"/> <circle cx=\"345\" cy=\"327\" r=\"11\" fill=\"rgb(255,255,255)\" class=\"agent_0_6\"/><circle cx=\"214\" cy=\"354\" r=\"13\" fill=\"rgb(255,255,255)\" class=\"agent_0_12\"/><circle cx=\"49\" cy=\"139\" r=\"8\" fill=\"rgb(255,255,255)\" class=\"agent_0_20\"/><circle cx=\"72\" cy=\"324\" r=\"9\" fill=\"rgb(255,255,255)\" class=\"agent_0_48\"/><circle cx=\"348\" cy=\"84\" r=\"12\" fill=\"rgb(255,255,255)\" class=\"agent_0_50\"/><circle cx=\"381\" cy=\"224\" r=\"10\" fill=\"rgb(255,255,255)\" class=\"agent_0_63\"/><circle cx=\"223\" cy=\"169\" r=\"9\" fill=\"rgb(255,0,0)\" class=\"agent_0_65\"/></svg></div>"
      ],
      "text/plain": [
       "<IPython.core.display.HTML object>"
      ]
     },
     "metadata": {},
     "output_type": "display_data"
    },
    {
     "name": "stdout",
     "output_type": "stream",
     "text": [
      "partner_refs_true\n"
     ]
    },
    {
     "data": {
      "text/html": [
       "<div style=\"white-space: nowrap\"><svg viewbox='0 0 430 430' width=\"172\" height=\"172\" id=\"agent_0\"><circle cx=\"215\" cy=\"215\" r=\"205\" fill=\"none\" stroke=\"black\" stroke-width=\"2\" stroke-dasharray=\"3,3\"/><circle cx=\"345\" cy=\"327\" r=\"11\" fill=\"rgb(135,135,135)\"/><circle cx=\"214\" cy=\"354\" r=\"13\" fill=\"rgb(58,58,58)\"/><circle cx=\"49\" cy=\"139\" r=\"8\" fill=\"rgb(195,195,195)\"/><circle cx=\"72\" cy=\"324\" r=\"9\" fill=\"rgb(197,197,197)\"/><circle cx=\"348\" cy=\"84\" r=\"12\" fill=\"rgb(66,66,66)\"/><circle cx=\"381\" cy=\"224\" r=\"10\" fill=\"rgb(96,96,96)\"/><circle cx=\"223\" cy=\"169\" r=\"9\" fill=\"rgb(183,183,183)\"/></svg><svg viewBox='0 0 430 430' id=\"svg\" width=\"172\" height=\"172\"><circle cx=\"215\" cy=\"215\" r=\"205\" fill=\"none\" stroke=\"black\" stroke-width=\"2\" stroke-dasharray=\"3,3\"/> <circle cx=\"345\" cy=\"327\" r=\"11\" fill=\"rgb(255,255,255)\" class=\"agent_0_6\"/><circle cx=\"214\" cy=\"354\" r=\"13\" fill=\"rgb(255,255,255)\" class=\"agent_0_12\"/><circle cx=\"49\" cy=\"139\" r=\"8\" fill=\"rgb(255,255,255)\" class=\"agent_0_20\"/><circle cx=\"72\" cy=\"324\" r=\"9\" fill=\"rgb(255,255,255)\" class=\"agent_0_48\"/><circle cx=\"348\" cy=\"84\" r=\"12\" fill=\"rgb(255,255,255)\" class=\"agent_0_50\"/><circle cx=\"381\" cy=\"224\" r=\"10\" fill=\"rgb(255,255,255)\" class=\"agent_0_63\"/><circle cx=\"223\" cy=\"169\" r=\"9\" fill=\"rgb(255,0,0)\" class=\"agent_0_65\"/></svg><svg viewBox='0 0 430 430' id=\"svg\" width=\"172\" height=\"172\"><circle cx=\"215\" cy=\"215\" r=\"205\" fill=\"none\" stroke=\"black\" stroke-width=\"2\" stroke-dasharray=\"3,3\"/> <circle cx=\"345\" cy=\"327\" r=\"11\" fill=\"rgb(255,255,255)\" class=\"agent_0_6\"/><circle cx=\"214\" cy=\"354\" r=\"13\" fill=\"rgb(255,255,255)\" class=\"agent_0_12\"/><circle cx=\"49\" cy=\"139\" r=\"8\" fill=\"rgb(255,255,255)\" class=\"agent_0_20\"/><circle cx=\"72\" cy=\"324\" r=\"9\" fill=\"rgb(255,255,255)\" class=\"agent_0_48\"/><circle cx=\"348\" cy=\"84\" r=\"12\" fill=\"rgb(255,255,255)\" class=\"agent_0_50\"/><circle cx=\"381\" cy=\"224\" r=\"10\" fill=\"rgb(255,255,255)\" class=\"agent_0_63\"/><circle cx=\"223\" cy=\"169\" r=\"9\" fill=\"rgb(255,255,255)\" class=\"agent_0_65\"/></svg><svg viewBox='0 0 430 430' id=\"svg\" width=\"172\" height=\"172\"><circle cx=\"215\" cy=\"215\" r=\"205\" fill=\"none\" stroke=\"black\" stroke-width=\"2\" stroke-dasharray=\"3,3\"/> <circle cx=\"345\" cy=\"327\" r=\"11\" fill=\"rgb(255,255,255)\" class=\"agent_0_6\"/><circle cx=\"214\" cy=\"354\" r=\"13\" fill=\"rgb(255,255,255)\" class=\"agent_0_12\"/><circle cx=\"49\" cy=\"139\" r=\"8\" fill=\"rgb(255,255,255)\" class=\"agent_0_20\"/><circle cx=\"72\" cy=\"324\" r=\"9\" fill=\"rgb(255,255,255)\" class=\"agent_0_48\"/><circle cx=\"348\" cy=\"84\" r=\"12\" fill=\"rgb(255,255,255)\" class=\"agent_0_50\"/><circle cx=\"381\" cy=\"224\" r=\"10\" fill=\"rgb(255,255,255)\" class=\"agent_0_63\"/><circle cx=\"223\" cy=\"169\" r=\"9\" fill=\"rgb(255,0,0)\" class=\"agent_0_65\"/></svg></div>"
      ],
      "text/plain": [
       "<IPython.core.display.HTML object>"
      ]
     },
     "metadata": {},
     "output_type": "display_data"
    },
    {
     "name": "stdout",
     "output_type": "stream",
     "text": [
      "\n",
      "----------------------------------------\n",
      "\n",
      "to_mention_pred\n"
     ]
    },
    {
     "data": {
      "text/html": [
       "<div style=\"white-space: nowrap\"><svg viewbox='0 0 430 430' width=\"172\" height=\"172\" id=\"agent_0\"><circle cx=\"215\" cy=\"215\" r=\"205\" fill=\"none\" stroke=\"black\" stroke-width=\"2\" stroke-dasharray=\"3,3\"/><circle cx=\"345\" cy=\"327\" r=\"11\" fill=\"rgb(135,135,135)\"/><circle cx=\"214\" cy=\"354\" r=\"13\" fill=\"rgb(58,58,58)\"/><circle cx=\"49\" cy=\"139\" r=\"8\" fill=\"rgb(195,195,195)\"/><circle cx=\"72\" cy=\"324\" r=\"9\" fill=\"rgb(197,197,197)\"/><circle cx=\"348\" cy=\"84\" r=\"12\" fill=\"rgb(66,66,66)\"/><circle cx=\"381\" cy=\"224\" r=\"10\" fill=\"rgb(96,96,96)\"/><circle cx=\"223\" cy=\"169\" r=\"9\" fill=\"rgb(183,183,183)\"/></svg><svg viewBox='0 0 430 430' id=\"svg\" width=\"172\" height=\"172\"><circle cx=\"215\" cy=\"215\" r=\"205\" fill=\"none\" stroke=\"black\" stroke-width=\"2\" stroke-dasharray=\"3,3\"/> <circle cx=\"345\" cy=\"327\" r=\"11\" fill=\"rgb(255,255,255)\" class=\"agent_0_6\"/><circle cx=\"214\" cy=\"354\" r=\"13\" fill=\"rgb(255,255,255)\" class=\"agent_0_12\"/><circle cx=\"49\" cy=\"139\" r=\"8\" fill=\"rgb(255,255,255)\" class=\"agent_0_20\"/><circle cx=\"72\" cy=\"324\" r=\"9\" fill=\"rgb(255,255,255)\" class=\"agent_0_48\"/><circle cx=\"348\" cy=\"84\" r=\"12\" fill=\"rgb(255,255,255)\" class=\"agent_0_50\"/><circle cx=\"381\" cy=\"224\" r=\"10\" fill=\"rgb(255,255,255)\" class=\"agent_0_63\"/><circle cx=\"223\" cy=\"169\" r=\"9\" fill=\"rgb(255,255,255)\" class=\"agent_0_65\"/></svg><svg viewBox='0 0 430 430' id=\"svg\" width=\"172\" height=\"172\"><circle cx=\"215\" cy=\"215\" r=\"205\" fill=\"none\" stroke=\"black\" stroke-width=\"2\" stroke-dasharray=\"3,3\"/> <circle cx=\"345\" cy=\"327\" r=\"11\" fill=\"rgb(255,255,255)\" class=\"agent_0_6\"/><circle cx=\"214\" cy=\"354\" r=\"13\" fill=\"rgb(255,0,0)\" class=\"agent_0_12\"/><circle cx=\"49\" cy=\"139\" r=\"8\" fill=\"rgb(255,255,255)\" class=\"agent_0_20\"/><circle cx=\"72\" cy=\"324\" r=\"9\" fill=\"rgb(255,255,255)\" class=\"agent_0_48\"/><circle cx=\"348\" cy=\"84\" r=\"12\" fill=\"rgb(255,255,255)\" class=\"agent_0_50\"/><circle cx=\"381\" cy=\"224\" r=\"10\" fill=\"rgb(255,255,255)\" class=\"agent_0_63\"/><circle cx=\"223\" cy=\"169\" r=\"9\" fill=\"rgb(255,255,255)\" class=\"agent_0_65\"/></svg><svg viewBox='0 0 430 430' id=\"svg\" width=\"172\" height=\"172\"><circle cx=\"215\" cy=\"215\" r=\"205\" fill=\"none\" stroke=\"black\" stroke-width=\"2\" stroke-dasharray=\"3,3\"/> <circle cx=\"345\" cy=\"327\" r=\"11\" fill=\"rgb(255,255,255)\" class=\"agent_0_6\"/><circle cx=\"214\" cy=\"354\" r=\"13\" fill=\"rgb(255,0,0)\" class=\"agent_0_12\"/><circle cx=\"49\" cy=\"139\" r=\"8\" fill=\"rgb(255,255,255)\" class=\"agent_0_20\"/><circle cx=\"72\" cy=\"324\" r=\"9\" fill=\"rgb(255,255,255)\" class=\"agent_0_48\"/><circle cx=\"348\" cy=\"84\" r=\"12\" fill=\"rgb(255,255,255)\" class=\"agent_0_50\"/><circle cx=\"381\" cy=\"224\" r=\"10\" fill=\"rgb(255,255,255)\" class=\"agent_0_63\"/><circle cx=\"223\" cy=\"169\" r=\"9\" fill=\"rgb(255,255,255)\" class=\"agent_0_65\"/></svg></div>"
      ],
      "text/plain": [
       "<IPython.core.display.HTML object>"
      ]
     },
     "metadata": {},
     "output_type": "display_data"
    },
    {
     "name": "stdout",
     "output_type": "stream",
     "text": [
      "to_mention_true\n"
     ]
    },
    {
     "data": {
      "text/html": [
       "<div style=\"white-space: nowrap\"><svg viewbox='0 0 430 430' width=\"172\" height=\"172\" id=\"agent_0\"><circle cx=\"215\" cy=\"215\" r=\"205\" fill=\"none\" stroke=\"black\" stroke-width=\"2\" stroke-dasharray=\"3,3\"/><circle cx=\"345\" cy=\"327\" r=\"11\" fill=\"rgb(135,135,135)\"/><circle cx=\"214\" cy=\"354\" r=\"13\" fill=\"rgb(58,58,58)\"/><circle cx=\"49\" cy=\"139\" r=\"8\" fill=\"rgb(195,195,195)\"/><circle cx=\"72\" cy=\"324\" r=\"9\" fill=\"rgb(197,197,197)\"/><circle cx=\"348\" cy=\"84\" r=\"12\" fill=\"rgb(66,66,66)\"/><circle cx=\"381\" cy=\"224\" r=\"10\" fill=\"rgb(96,96,96)\"/><circle cx=\"223\" cy=\"169\" r=\"9\" fill=\"rgb(183,183,183)\"/></svg><svg viewBox='0 0 430 430' id=\"svg\" width=\"172\" height=\"172\"><circle cx=\"215\" cy=\"215\" r=\"205\" fill=\"none\" stroke=\"black\" stroke-width=\"2\" stroke-dasharray=\"3,3\"/> <circle cx=\"345\" cy=\"327\" r=\"11\" fill=\"rgb(255,255,255)\" class=\"agent_0_6\"/><circle cx=\"214\" cy=\"354\" r=\"13\" fill=\"rgb(255,255,255)\" class=\"agent_0_12\"/><circle cx=\"49\" cy=\"139\" r=\"8\" fill=\"rgb(255,0,0)\" class=\"agent_0_20\"/><circle cx=\"72\" cy=\"324\" r=\"9\" fill=\"rgb(255,0,0)\" class=\"agent_0_48\"/><circle cx=\"348\" cy=\"84\" r=\"12\" fill=\"rgb(255,255,255)\" class=\"agent_0_50\"/><circle cx=\"381\" cy=\"224\" r=\"10\" fill=\"rgb(255,255,255)\" class=\"agent_0_63\"/><circle cx=\"223\" cy=\"169\" r=\"9\" fill=\"rgb(255,0,0)\" class=\"agent_0_65\"/></svg><svg viewBox='0 0 430 430' id=\"svg\" width=\"172\" height=\"172\"><circle cx=\"215\" cy=\"215\" r=\"205\" fill=\"none\" stroke=\"black\" stroke-width=\"2\" stroke-dasharray=\"3,3\"/> <circle cx=\"345\" cy=\"327\" r=\"11\" fill=\"rgb(255,255,255)\" class=\"agent_0_6\"/><circle cx=\"214\" cy=\"354\" r=\"13\" fill=\"rgb(255,0,0)\" class=\"agent_0_12\"/><circle cx=\"49\" cy=\"139\" r=\"8\" fill=\"rgb(255,255,255)\" class=\"agent_0_20\"/><circle cx=\"72\" cy=\"324\" r=\"9\" fill=\"rgb(255,255,255)\" class=\"agent_0_48\"/><circle cx=\"348\" cy=\"84\" r=\"12\" fill=\"rgb(255,0,0)\" class=\"agent_0_50\"/><circle cx=\"381\" cy=\"224\" r=\"10\" fill=\"rgb(255,255,255)\" class=\"agent_0_63\"/><circle cx=\"223\" cy=\"169\" r=\"9\" fill=\"rgb(255,255,255)\" class=\"agent_0_65\"/></svg><svg viewBox='0 0 430 430' id=\"svg\" width=\"172\" height=\"172\"><circle cx=\"215\" cy=\"215\" r=\"205\" fill=\"none\" stroke=\"black\" stroke-width=\"2\" stroke-dasharray=\"3,3\"/> <circle cx=\"345\" cy=\"327\" r=\"11\" fill=\"rgb(255,255,255)\" class=\"agent_0_6\"/><circle cx=\"214\" cy=\"354\" r=\"13\" fill=\"rgb(255,255,255)\" class=\"agent_0_12\"/><circle cx=\"49\" cy=\"139\" r=\"8\" fill=\"rgb(255,0,0)\" class=\"agent_0_20\"/><circle cx=\"72\" cy=\"324\" r=\"9\" fill=\"rgb(255,0,0)\" class=\"agent_0_48\"/><circle cx=\"348\" cy=\"84\" r=\"12\" fill=\"rgb(255,255,255)\" class=\"agent_0_50\"/><circle cx=\"381\" cy=\"224\" r=\"10\" fill=\"rgb(255,255,255)\" class=\"agent_0_63\"/><circle cx=\"223\" cy=\"169\" r=\"9\" fill=\"rgb(255,0,0)\" class=\"agent_0_65\"/></svg></div>"
      ],
      "text/plain": [
       "<IPython.core.display.HTML object>"
      ]
     },
     "metadata": {},
     "output_type": "display_data"
    },
    {
     "name": "stdout",
     "output_type": "stream",
     "text": [
      "beam 0\ti have a small light grey dot with a large black dot to the right of it\n",
      "beam 1\ti have a tiny light grey dot with a large black dot to the right of it\n",
      "beam 2\ti have a small light grey dot with a small black dot to the right of it\n",
      "beam 3\ti have a small light gray dot with a large black dot to the right of it\n",
      "beam 4\ti have a small light grey dot with a large black dot to the left of it\n",
      "beam 5\ti have a small light grey dot with a large black dot above and to the right of it\n",
      "beam 6\ti have a tiny light grey dot with a large black dot to the left of it\n",
      "beam 7\ti have a small light grey dot with a small black dot to the left of it\n",
      "beam 8\ti have a small light grey dot with a large black dot above and to the left of it\n",
      "beam 9\tdo you have a tiny light grey dot with a large black dot to the right of it ?\n",
      "beam 10\tdo you have a small light grey dot with a large black dot to the right of it ?\n",
      "beam 11\tdo you have a tiny light grey dot with a large black dot to the left of it ?\n",
      "beam 12\tdo you have a small light grey dot with a small black dot to the right of it ?\n",
      "beam 13\tdo you have a tiny light grey dot with a large black dot above and to the right of it ?\n",
      "beam 14\tdo you see a small light grey dot with a large black dot to the right of it ?\n",
      "beam 15\tdo you have a tiny light grey dot with a small black dot to the right of it ?\n",
      "beam 16\tdo you have a small light grey dot with a large black dot to the left of it ?\n",
      "beam 17\tdo you have a tiny light grey dot with a large black dot above and to the left of it ?\n",
      "beam 18\tdo you have a tiny light grey dot with a larger black dot to the right of it ?\n",
      "beam 19\tdo you have a small light grey dot with a small black dot to the left of it ?\n",
      "greedy\ti have a small light grey dot with a smaller black dot to the right of it <eos>\n",
      "human\tprobably last one , these are so <unk> ! i have 3 tiny light grey dots making a large triangle . i also see two large very dark <unk> dots to the right of said triangle <eos>\n",
      "refs_pred\n"
     ]
    },
    {
     "data": {
      "text/html": [
       "<div style=\"white-space: nowrap\"><svg viewbox='0 0 430 430' width=\"172\" height=\"172\" id=\"agent_0\"><circle cx=\"215\" cy=\"215\" r=\"205\" fill=\"none\" stroke=\"black\" stroke-width=\"2\" stroke-dasharray=\"3,3\"/><circle cx=\"345\" cy=\"327\" r=\"11\" fill=\"rgb(135,135,135)\"/><circle cx=\"214\" cy=\"354\" r=\"13\" fill=\"rgb(58,58,58)\"/><circle cx=\"49\" cy=\"139\" r=\"8\" fill=\"rgb(195,195,195)\"/><circle cx=\"72\" cy=\"324\" r=\"9\" fill=\"rgb(197,197,197)\"/><circle cx=\"348\" cy=\"84\" r=\"12\" fill=\"rgb(66,66,66)\"/><circle cx=\"381\" cy=\"224\" r=\"10\" fill=\"rgb(96,96,96)\"/><circle cx=\"223\" cy=\"169\" r=\"9\" fill=\"rgb(183,183,183)\"/></svg><svg viewBox='0 0 430 430' id=\"svg\" width=\"172\" height=\"172\"><circle cx=\"215\" cy=\"215\" r=\"205\" fill=\"none\" stroke=\"black\" stroke-width=\"2\" stroke-dasharray=\"3,3\"/> <circle cx=\"345\" cy=\"327\" r=\"11\" fill=\"rgb(255,255,255)\" class=\"agent_0_6\"/><circle cx=\"214\" cy=\"354\" r=\"13\" fill=\"rgb(255,255,255)\" class=\"agent_0_12\"/><circle cx=\"49\" cy=\"139\" r=\"8\" fill=\"rgb(255,0,0)\" class=\"agent_0_20\"/><circle cx=\"72\" cy=\"324\" r=\"9\" fill=\"rgb(255,0,0)\" class=\"agent_0_48\"/><circle cx=\"348\" cy=\"84\" r=\"12\" fill=\"rgb(255,255,255)\" class=\"agent_0_50\"/><circle cx=\"381\" cy=\"224\" r=\"10\" fill=\"rgb(255,255,255)\" class=\"agent_0_63\"/><circle cx=\"223\" cy=\"169\" r=\"9\" fill=\"rgb(255,0,0)\" class=\"agent_0_65\"/></svg><svg viewBox='0 0 430 430' id=\"svg\" width=\"172\" height=\"172\"><circle cx=\"215\" cy=\"215\" r=\"205\" fill=\"none\" stroke=\"black\" stroke-width=\"2\" stroke-dasharray=\"3,3\"/> <circle cx=\"345\" cy=\"327\" r=\"11\" fill=\"rgb(255,255,255)\" class=\"agent_0_6\"/><circle cx=\"214\" cy=\"354\" r=\"13\" fill=\"rgb(255,0,0)\" class=\"agent_0_12\"/><circle cx=\"49\" cy=\"139\" r=\"8\" fill=\"rgb(255,255,255)\" class=\"agent_0_20\"/><circle cx=\"72\" cy=\"324\" r=\"9\" fill=\"rgb(255,255,255)\" class=\"agent_0_48\"/><circle cx=\"348\" cy=\"84\" r=\"12\" fill=\"rgb(255,0,0)\" class=\"agent_0_50\"/><circle cx=\"381\" cy=\"224\" r=\"10\" fill=\"rgb(255,255,255)\" class=\"agent_0_63\"/><circle cx=\"223\" cy=\"169\" r=\"9\" fill=\"rgb(255,255,255)\" class=\"agent_0_65\"/></svg><svg viewBox='0 0 430 430' id=\"svg\" width=\"172\" height=\"172\"><circle cx=\"215\" cy=\"215\" r=\"205\" fill=\"none\" stroke=\"black\" stroke-width=\"2\" stroke-dasharray=\"3,3\"/> <circle cx=\"345\" cy=\"327\" r=\"11\" fill=\"rgb(255,255,255)\" class=\"agent_0_6\"/><circle cx=\"214\" cy=\"354\" r=\"13\" fill=\"rgb(255,0,0)\" class=\"agent_0_12\"/><circle cx=\"49\" cy=\"139\" r=\"8\" fill=\"rgb(255,255,255)\" class=\"agent_0_20\"/><circle cx=\"72\" cy=\"324\" r=\"9\" fill=\"rgb(255,255,255)\" class=\"agent_0_48\"/><circle cx=\"348\" cy=\"84\" r=\"12\" fill=\"rgb(255,0,0)\" class=\"agent_0_50\"/><circle cx=\"381\" cy=\"224\" r=\"10\" fill=\"rgb(255,0,0)\" class=\"agent_0_63\"/><circle cx=\"223\" cy=\"169\" r=\"9\" fill=\"rgb(255,255,255)\" class=\"agent_0_65\"/></svg></div>"
      ],
      "text/plain": [
       "<IPython.core.display.HTML object>"
      ]
     },
     "metadata": {},
     "output_type": "display_data"
    },
    {
     "name": "stdout",
     "output_type": "stream",
     "text": [
      "refs_true\n"
     ]
    },
    {
     "data": {
      "text/html": [
       "<div style=\"white-space: nowrap\"><svg viewbox='0 0 430 430' width=\"172\" height=\"172\" id=\"agent_0\"><circle cx=\"215\" cy=\"215\" r=\"205\" fill=\"none\" stroke=\"black\" stroke-width=\"2\" stroke-dasharray=\"3,3\"/><circle cx=\"345\" cy=\"327\" r=\"11\" fill=\"rgb(135,135,135)\"/><circle cx=\"214\" cy=\"354\" r=\"13\" fill=\"rgb(58,58,58)\"/><circle cx=\"49\" cy=\"139\" r=\"8\" fill=\"rgb(195,195,195)\"/><circle cx=\"72\" cy=\"324\" r=\"9\" fill=\"rgb(197,197,197)\"/><circle cx=\"348\" cy=\"84\" r=\"12\" fill=\"rgb(66,66,66)\"/><circle cx=\"381\" cy=\"224\" r=\"10\" fill=\"rgb(96,96,96)\"/><circle cx=\"223\" cy=\"169\" r=\"9\" fill=\"rgb(183,183,183)\"/></svg><svg viewBox='0 0 430 430' id=\"svg\" width=\"172\" height=\"172\"><circle cx=\"215\" cy=\"215\" r=\"205\" fill=\"none\" stroke=\"black\" stroke-width=\"2\" stroke-dasharray=\"3,3\"/> <circle cx=\"345\" cy=\"327\" r=\"11\" fill=\"rgb(255,255,255)\" class=\"agent_0_6\"/><circle cx=\"214\" cy=\"354\" r=\"13\" fill=\"rgb(255,255,255)\" class=\"agent_0_12\"/><circle cx=\"49\" cy=\"139\" r=\"8\" fill=\"rgb(255,0,0)\" class=\"agent_0_20\"/><circle cx=\"72\" cy=\"324\" r=\"9\" fill=\"rgb(255,0,0)\" class=\"agent_0_48\"/><circle cx=\"348\" cy=\"84\" r=\"12\" fill=\"rgb(255,255,255)\" class=\"agent_0_50\"/><circle cx=\"381\" cy=\"224\" r=\"10\" fill=\"rgb(255,255,255)\" class=\"agent_0_63\"/><circle cx=\"223\" cy=\"169\" r=\"9\" fill=\"rgb(255,0,0)\" class=\"agent_0_65\"/></svg><svg viewBox='0 0 430 430' id=\"svg\" width=\"172\" height=\"172\"><circle cx=\"215\" cy=\"215\" r=\"205\" fill=\"none\" stroke=\"black\" stroke-width=\"2\" stroke-dasharray=\"3,3\"/> <circle cx=\"345\" cy=\"327\" r=\"11\" fill=\"rgb(255,255,255)\" class=\"agent_0_6\"/><circle cx=\"214\" cy=\"354\" r=\"13\" fill=\"rgb(255,0,0)\" class=\"agent_0_12\"/><circle cx=\"49\" cy=\"139\" r=\"8\" fill=\"rgb(255,255,255)\" class=\"agent_0_20\"/><circle cx=\"72\" cy=\"324\" r=\"9\" fill=\"rgb(255,255,255)\" class=\"agent_0_48\"/><circle cx=\"348\" cy=\"84\" r=\"12\" fill=\"rgb(255,0,0)\" class=\"agent_0_50\"/><circle cx=\"381\" cy=\"224\" r=\"10\" fill=\"rgb(255,255,255)\" class=\"agent_0_63\"/><circle cx=\"223\" cy=\"169\" r=\"9\" fill=\"rgb(255,255,255)\" class=\"agent_0_65\"/></svg><svg viewBox='0 0 430 430' id=\"svg\" width=\"172\" height=\"172\"><circle cx=\"215\" cy=\"215\" r=\"205\" fill=\"none\" stroke=\"black\" stroke-width=\"2\" stroke-dasharray=\"3,3\"/> <circle cx=\"345\" cy=\"327\" r=\"11\" fill=\"rgb(255,255,255)\" class=\"agent_0_6\"/><circle cx=\"214\" cy=\"354\" r=\"13\" fill=\"rgb(255,255,255)\" class=\"agent_0_12\"/><circle cx=\"49\" cy=\"139\" r=\"8\" fill=\"rgb(255,0,0)\" class=\"agent_0_20\"/><circle cx=\"72\" cy=\"324\" r=\"9\" fill=\"rgb(255,0,0)\" class=\"agent_0_48\"/><circle cx=\"348\" cy=\"84\" r=\"12\" fill=\"rgb(255,255,255)\" class=\"agent_0_50\"/><circle cx=\"381\" cy=\"224\" r=\"10\" fill=\"rgb(255,255,255)\" class=\"agent_0_63\"/><circle cx=\"223\" cy=\"169\" r=\"9\" fill=\"rgb(255,0,0)\" class=\"agent_0_65\"/></svg></div>"
      ],
      "text/plain": [
       "<IPython.core.display.HTML object>"
      ]
     },
     "metadata": {},
     "output_type": "display_data"
    },
    {
     "name": "stdout",
     "output_type": "stream",
     "text": [
      "\n",
      "----------------------------------------\n",
      "\n",
      "human\tTHEM: i only have one light grey dot . do you have tiny black dot ? <eos>\n",
      "partner_refs_pred\n"
     ]
    },
    {
     "data": {
      "text/html": [
       "<div style=\"white-space: nowrap\"><svg viewbox='0 0 430 430' width=\"172\" height=\"172\" id=\"agent_0\"><circle cx=\"215\" cy=\"215\" r=\"205\" fill=\"none\" stroke=\"black\" stroke-width=\"2\" stroke-dasharray=\"3,3\"/><circle cx=\"345\" cy=\"327\" r=\"11\" fill=\"rgb(135,135,135)\"/><circle cx=\"214\" cy=\"354\" r=\"13\" fill=\"rgb(58,58,58)\"/><circle cx=\"49\" cy=\"139\" r=\"8\" fill=\"rgb(195,195,195)\"/><circle cx=\"72\" cy=\"324\" r=\"9\" fill=\"rgb(197,197,197)\"/><circle cx=\"348\" cy=\"84\" r=\"12\" fill=\"rgb(66,66,66)\"/><circle cx=\"381\" cy=\"224\" r=\"10\" fill=\"rgb(96,96,96)\"/><circle cx=\"223\" cy=\"169\" r=\"9\" fill=\"rgb(183,183,183)\"/></svg><svg viewBox='0 0 430 430' id=\"svg\" width=\"172\" height=\"172\"><circle cx=\"215\" cy=\"215\" r=\"205\" fill=\"none\" stroke=\"black\" stroke-width=\"2\" stroke-dasharray=\"3,3\"/> <circle cx=\"345\" cy=\"327\" r=\"11\" fill=\"rgb(255,255,255)\" class=\"agent_0_6\"/><circle cx=\"214\" cy=\"354\" r=\"13\" fill=\"rgb(255,255,255)\" class=\"agent_0_12\"/><circle cx=\"49\" cy=\"139\" r=\"8\" fill=\"rgb(255,255,255)\" class=\"agent_0_20\"/><circle cx=\"72\" cy=\"324\" r=\"9\" fill=\"rgb(255,255,255)\" class=\"agent_0_48\"/><circle cx=\"348\" cy=\"84\" r=\"12\" fill=\"rgb(255,255,255)\" class=\"agent_0_50\"/><circle cx=\"381\" cy=\"224\" r=\"10\" fill=\"rgb(255,255,255)\" class=\"agent_0_63\"/><circle cx=\"223\" cy=\"169\" r=\"9\" fill=\"rgb(255,0,0)\" class=\"agent_0_65\"/></svg><svg viewBox='0 0 430 430' id=\"svg\" width=\"172\" height=\"172\"><circle cx=\"215\" cy=\"215\" r=\"205\" fill=\"none\" stroke=\"black\" stroke-width=\"2\" stroke-dasharray=\"3,3\"/> <circle cx=\"345\" cy=\"327\" r=\"11\" fill=\"rgb(255,255,255)\" class=\"agent_0_6\"/><circle cx=\"214\" cy=\"354\" r=\"13\" fill=\"rgb(255,255,255)\" class=\"agent_0_12\"/><circle cx=\"49\" cy=\"139\" r=\"8\" fill=\"rgb(255,255,255)\" class=\"agent_0_20\"/><circle cx=\"72\" cy=\"324\" r=\"9\" fill=\"rgb(255,255,255)\" class=\"agent_0_48\"/><circle cx=\"348\" cy=\"84\" r=\"12\" fill=\"rgb(255,255,255)\" class=\"agent_0_50\"/><circle cx=\"381\" cy=\"224\" r=\"10\" fill=\"rgb(255,255,255)\" class=\"agent_0_63\"/><circle cx=\"223\" cy=\"169\" r=\"9\" fill=\"rgb(255,255,255)\" class=\"agent_0_65\"/></svg></div>"
      ],
      "text/plain": [
       "<IPython.core.display.HTML object>"
      ]
     },
     "metadata": {},
     "output_type": "display_data"
    },
    {
     "name": "stdout",
     "output_type": "stream",
     "text": [
      "partner_refs_true\n"
     ]
    },
    {
     "data": {
      "text/html": [
       "<div style=\"white-space: nowrap\"><svg viewbox='0 0 430 430' width=\"172\" height=\"172\" id=\"agent_0\"><circle cx=\"215\" cy=\"215\" r=\"205\" fill=\"none\" stroke=\"black\" stroke-width=\"2\" stroke-dasharray=\"3,3\"/><circle cx=\"345\" cy=\"327\" r=\"11\" fill=\"rgb(135,135,135)\"/><circle cx=\"214\" cy=\"354\" r=\"13\" fill=\"rgb(58,58,58)\"/><circle cx=\"49\" cy=\"139\" r=\"8\" fill=\"rgb(195,195,195)\"/><circle cx=\"72\" cy=\"324\" r=\"9\" fill=\"rgb(197,197,197)\"/><circle cx=\"348\" cy=\"84\" r=\"12\" fill=\"rgb(66,66,66)\"/><circle cx=\"381\" cy=\"224\" r=\"10\" fill=\"rgb(96,96,96)\"/><circle cx=\"223\" cy=\"169\" r=\"9\" fill=\"rgb(183,183,183)\"/></svg><svg viewBox='0 0 430 430' id=\"svg\" width=\"172\" height=\"172\"><circle cx=\"215\" cy=\"215\" r=\"205\" fill=\"none\" stroke=\"black\" stroke-width=\"2\" stroke-dasharray=\"3,3\"/> <circle cx=\"345\" cy=\"327\" r=\"11\" fill=\"rgb(255,255,255)\" class=\"agent_0_6\"/><circle cx=\"214\" cy=\"354\" r=\"13\" fill=\"rgb(255,255,255)\" class=\"agent_0_12\"/><circle cx=\"49\" cy=\"139\" r=\"8\" fill=\"rgb(255,255,255)\" class=\"agent_0_20\"/><circle cx=\"72\" cy=\"324\" r=\"9\" fill=\"rgb(255,255,255)\" class=\"agent_0_48\"/><circle cx=\"348\" cy=\"84\" r=\"12\" fill=\"rgb(255,255,255)\" class=\"agent_0_50\"/><circle cx=\"381\" cy=\"224\" r=\"10\" fill=\"rgb(255,255,255)\" class=\"agent_0_63\"/><circle cx=\"223\" cy=\"169\" r=\"9\" fill=\"rgb(255,0,0)\" class=\"agent_0_65\"/></svg><svg viewBox='0 0 430 430' id=\"svg\" width=\"172\" height=\"172\"><circle cx=\"215\" cy=\"215\" r=\"205\" fill=\"none\" stroke=\"black\" stroke-width=\"2\" stroke-dasharray=\"3,3\"/> <circle cx=\"345\" cy=\"327\" r=\"11\" fill=\"rgb(255,255,255)\" class=\"agent_0_6\"/><circle cx=\"214\" cy=\"354\" r=\"13\" fill=\"rgb(255,255,255)\" class=\"agent_0_12\"/><circle cx=\"49\" cy=\"139\" r=\"8\" fill=\"rgb(255,255,255)\" class=\"agent_0_20\"/><circle cx=\"72\" cy=\"324\" r=\"9\" fill=\"rgb(255,255,255)\" class=\"agent_0_48\"/><circle cx=\"348\" cy=\"84\" r=\"12\" fill=\"rgb(255,255,255)\" class=\"agent_0_50\"/><circle cx=\"381\" cy=\"224\" r=\"10\" fill=\"rgb(255,255,255)\" class=\"agent_0_63\"/><circle cx=\"223\" cy=\"169\" r=\"9\" fill=\"rgb(255,255,255)\" class=\"agent_0_65\"/></svg></div>"
      ],
      "text/plain": [
       "<IPython.core.display.HTML object>"
      ]
     },
     "metadata": {},
     "output_type": "display_data"
    },
    {
     "name": "stdout",
     "output_type": "stream",
     "text": [
      "\n",
      "----------------------------------------\n",
      "\n",
      "to_mention_pred\n"
     ]
    },
    {
     "data": {
      "text/html": [
       "<div style=\"white-space: nowrap\"><svg viewbox='0 0 430 430' width=\"172\" height=\"172\" id=\"agent_0\"><circle cx=\"215\" cy=\"215\" r=\"205\" fill=\"none\" stroke=\"black\" stroke-width=\"2\" stroke-dasharray=\"3,3\"/><circle cx=\"345\" cy=\"327\" r=\"11\" fill=\"rgb(135,135,135)\"/><circle cx=\"214\" cy=\"354\" r=\"13\" fill=\"rgb(58,58,58)\"/><circle cx=\"49\" cy=\"139\" r=\"8\" fill=\"rgb(195,195,195)\"/><circle cx=\"72\" cy=\"324\" r=\"9\" fill=\"rgb(197,197,197)\"/><circle cx=\"348\" cy=\"84\" r=\"12\" fill=\"rgb(66,66,66)\"/><circle cx=\"381\" cy=\"224\" r=\"10\" fill=\"rgb(96,96,96)\"/><circle cx=\"223\" cy=\"169\" r=\"9\" fill=\"rgb(183,183,183)\"/></svg><svg viewBox='0 0 430 430' id=\"svg\" width=\"172\" height=\"172\"><circle cx=\"215\" cy=\"215\" r=\"205\" fill=\"none\" stroke=\"black\" stroke-width=\"2\" stroke-dasharray=\"3,3\"/> <circle cx=\"345\" cy=\"327\" r=\"11\" fill=\"rgb(255,255,255)\" class=\"agent_0_6\"/><circle cx=\"214\" cy=\"354\" r=\"13\" fill=\"rgb(255,255,255)\" class=\"agent_0_12\"/><circle cx=\"49\" cy=\"139\" r=\"8\" fill=\"rgb(255,255,255)\" class=\"agent_0_20\"/><circle cx=\"72\" cy=\"324\" r=\"9\" fill=\"rgb(255,255,255)\" class=\"agent_0_48\"/><circle cx=\"348\" cy=\"84\" r=\"12\" fill=\"rgb(255,255,255)\" class=\"agent_0_50\"/><circle cx=\"381\" cy=\"224\" r=\"10\" fill=\"rgb(255,255,255)\" class=\"agent_0_63\"/><circle cx=\"223\" cy=\"169\" r=\"9\" fill=\"rgb(255,0,0)\" class=\"agent_0_65\"/></svg><svg viewBox='0 0 430 430' id=\"svg\" width=\"172\" height=\"172\"><circle cx=\"215\" cy=\"215\" r=\"205\" fill=\"none\" stroke=\"black\" stroke-width=\"2\" stroke-dasharray=\"3,3\"/> <circle cx=\"345\" cy=\"327\" r=\"11\" fill=\"rgb(255,255,255)\" class=\"agent_0_6\"/><circle cx=\"214\" cy=\"354\" r=\"13\" fill=\"rgb(255,255,255)\" class=\"agent_0_12\"/><circle cx=\"49\" cy=\"139\" r=\"8\" fill=\"rgb(255,255,255)\" class=\"agent_0_20\"/><circle cx=\"72\" cy=\"324\" r=\"9\" fill=\"rgb(255,255,255)\" class=\"agent_0_48\"/><circle cx=\"348\" cy=\"84\" r=\"12\" fill=\"rgb(255,255,255)\" class=\"agent_0_50\"/><circle cx=\"381\" cy=\"224\" r=\"10\" fill=\"rgb(255,255,255)\" class=\"agent_0_63\"/><circle cx=\"223\" cy=\"169\" r=\"9\" fill=\"rgb(255,0,0)\" class=\"agent_0_65\"/></svg><svg viewBox='0 0 430 430' id=\"svg\" width=\"172\" height=\"172\"><circle cx=\"215\" cy=\"215\" r=\"205\" fill=\"none\" stroke=\"black\" stroke-width=\"2\" stroke-dasharray=\"3,3\"/> <circle cx=\"345\" cy=\"327\" r=\"11\" fill=\"rgb(255,255,255)\" class=\"agent_0_6\"/><circle cx=\"214\" cy=\"354\" r=\"13\" fill=\"rgb(255,255,255)\" class=\"agent_0_12\"/><circle cx=\"49\" cy=\"139\" r=\"8\" fill=\"rgb(255,255,255)\" class=\"agent_0_20\"/><circle cx=\"72\" cy=\"324\" r=\"9\" fill=\"rgb(255,255,255)\" class=\"agent_0_48\"/><circle cx=\"348\" cy=\"84\" r=\"12\" fill=\"rgb(255,255,255)\" class=\"agent_0_50\"/><circle cx=\"381\" cy=\"224\" r=\"10\" fill=\"rgb(255,255,255)\" class=\"agent_0_63\"/><circle cx=\"223\" cy=\"169\" r=\"9\" fill=\"rgb(255,0,0)\" class=\"agent_0_65\"/></svg><svg viewBox='0 0 430 430' id=\"svg\" width=\"172\" height=\"172\"><circle cx=\"215\" cy=\"215\" r=\"205\" fill=\"none\" stroke=\"black\" stroke-width=\"2\" stroke-dasharray=\"3,3\"/> <circle cx=\"345\" cy=\"327\" r=\"11\" fill=\"rgb(255,255,255)\" class=\"agent_0_6\"/><circle cx=\"214\" cy=\"354\" r=\"13\" fill=\"rgb(255,255,255)\" class=\"agent_0_12\"/><circle cx=\"49\" cy=\"139\" r=\"8\" fill=\"rgb(255,255,255)\" class=\"agent_0_20\"/><circle cx=\"72\" cy=\"324\" r=\"9\" fill=\"rgb(255,255,255)\" class=\"agent_0_48\"/><circle cx=\"348\" cy=\"84\" r=\"12\" fill=\"rgb(255,255,255)\" class=\"agent_0_50\"/><circle cx=\"381\" cy=\"224\" r=\"10\" fill=\"rgb(255,255,255)\" class=\"agent_0_63\"/><circle cx=\"223\" cy=\"169\" r=\"9\" fill=\"rgb(255,0,0)\" class=\"agent_0_65\"/></svg><svg viewBox='0 0 430 430' id=\"svg\" width=\"172\" height=\"172\"><circle cx=\"215\" cy=\"215\" r=\"205\" fill=\"none\" stroke=\"black\" stroke-width=\"2\" stroke-dasharray=\"3,3\"/> <circle cx=\"345\" cy=\"327\" r=\"11\" fill=\"rgb(255,255,255)\" class=\"agent_0_6\"/><circle cx=\"214\" cy=\"354\" r=\"13\" fill=\"rgb(255,255,255)\" class=\"agent_0_12\"/><circle cx=\"49\" cy=\"139\" r=\"8\" fill=\"rgb(255,255,255)\" class=\"agent_0_20\"/><circle cx=\"72\" cy=\"324\" r=\"9\" fill=\"rgb(255,255,255)\" class=\"agent_0_48\"/><circle cx=\"348\" cy=\"84\" r=\"12\" fill=\"rgb(255,255,255)\" class=\"agent_0_50\"/><circle cx=\"381\" cy=\"224\" r=\"10\" fill=\"rgb(255,255,255)\" class=\"agent_0_63\"/><circle cx=\"223\" cy=\"169\" r=\"9\" fill=\"rgb(255,0,0)\" class=\"agent_0_65\"/></svg><svg viewBox='0 0 430 430' id=\"svg\" width=\"172\" height=\"172\"><circle cx=\"215\" cy=\"215\" r=\"205\" fill=\"none\" stroke=\"black\" stroke-width=\"2\" stroke-dasharray=\"3,3\"/> <circle cx=\"345\" cy=\"327\" r=\"11\" fill=\"rgb(255,255,255)\" class=\"agent_0_6\"/><circle cx=\"214\" cy=\"354\" r=\"13\" fill=\"rgb(255,255,255)\" class=\"agent_0_12\"/><circle cx=\"49\" cy=\"139\" r=\"8\" fill=\"rgb(255,255,255)\" class=\"agent_0_20\"/><circle cx=\"72\" cy=\"324\" r=\"9\" fill=\"rgb(255,255,255)\" class=\"agent_0_48\"/><circle cx=\"348\" cy=\"84\" r=\"12\" fill=\"rgb(255,255,255)\" class=\"agent_0_50\"/><circle cx=\"381\" cy=\"224\" r=\"10\" fill=\"rgb(255,255,255)\" class=\"agent_0_63\"/><circle cx=\"223\" cy=\"169\" r=\"9\" fill=\"rgb(255,0,0)\" class=\"agent_0_65\"/></svg></div>"
      ],
      "text/plain": [
       "<IPython.core.display.HTML object>"
      ]
     },
     "metadata": {},
     "output_type": "display_data"
    },
    {
     "name": "stdout",
     "output_type": "stream",
     "text": [
      "to_mention_true\n"
     ]
    },
    {
     "data": {
      "text/html": [
       "<div style=\"white-space: nowrap\"><svg viewbox='0 0 430 430' width=\"172\" height=\"172\" id=\"agent_0\"><circle cx=\"215\" cy=\"215\" r=\"205\" fill=\"none\" stroke=\"black\" stroke-width=\"2\" stroke-dasharray=\"3,3\"/><circle cx=\"345\" cy=\"327\" r=\"11\" fill=\"rgb(135,135,135)\"/><circle cx=\"214\" cy=\"354\" r=\"13\" fill=\"rgb(58,58,58)\"/><circle cx=\"49\" cy=\"139\" r=\"8\" fill=\"rgb(195,195,195)\"/><circle cx=\"72\" cy=\"324\" r=\"9\" fill=\"rgb(197,197,197)\"/><circle cx=\"348\" cy=\"84\" r=\"12\" fill=\"rgb(66,66,66)\"/><circle cx=\"381\" cy=\"224\" r=\"10\" fill=\"rgb(96,96,96)\"/><circle cx=\"223\" cy=\"169\" r=\"9\" fill=\"rgb(183,183,183)\"/></svg><svg viewBox='0 0 430 430' id=\"svg\" width=\"172\" height=\"172\"><circle cx=\"215\" cy=\"215\" r=\"205\" fill=\"none\" stroke=\"black\" stroke-width=\"2\" stroke-dasharray=\"3,3\"/> <circle cx=\"345\" cy=\"327\" r=\"11\" fill=\"rgb(255,255,255)\" class=\"agent_0_6\"/><circle cx=\"214\" cy=\"354\" r=\"13\" fill=\"rgb(255,0,0)\" class=\"agent_0_12\"/><circle cx=\"49\" cy=\"139\" r=\"8\" fill=\"rgb(255,255,255)\" class=\"agent_0_20\"/><circle cx=\"72\" cy=\"324\" r=\"9\" fill=\"rgb(255,255,255)\" class=\"agent_0_48\"/><circle cx=\"348\" cy=\"84\" r=\"12\" fill=\"rgb(255,0,0)\" class=\"agent_0_50\"/><circle cx=\"381\" cy=\"224\" r=\"10\" fill=\"rgb(255,255,255)\" class=\"agent_0_63\"/><circle cx=\"223\" cy=\"169\" r=\"9\" fill=\"rgb(255,255,255)\" class=\"agent_0_65\"/></svg><svg viewBox='0 0 430 430' id=\"svg\" width=\"172\" height=\"172\"><circle cx=\"215\" cy=\"215\" r=\"205\" fill=\"none\" stroke=\"black\" stroke-width=\"2\" stroke-dasharray=\"3,3\"/> <circle cx=\"345\" cy=\"327\" r=\"11\" fill=\"rgb(255,255,255)\" class=\"agent_0_6\"/><circle cx=\"214\" cy=\"354\" r=\"13\" fill=\"rgb(255,255,255)\" class=\"agent_0_12\"/><circle cx=\"49\" cy=\"139\" r=\"8\" fill=\"rgb(255,0,0)\" class=\"agent_0_20\"/><circle cx=\"72\" cy=\"324\" r=\"9\" fill=\"rgb(255,0,0)\" class=\"agent_0_48\"/><circle cx=\"348\" cy=\"84\" r=\"12\" fill=\"rgb(255,255,255)\" class=\"agent_0_50\"/><circle cx=\"381\" cy=\"224\" r=\"10\" fill=\"rgb(255,255,255)\" class=\"agent_0_63\"/><circle cx=\"223\" cy=\"169\" r=\"9\" fill=\"rgb(255,0,0)\" class=\"agent_0_65\"/></svg><svg viewBox='0 0 430 430' id=\"svg\" width=\"172\" height=\"172\"><circle cx=\"215\" cy=\"215\" r=\"205\" fill=\"none\" stroke=\"black\" stroke-width=\"2\" stroke-dasharray=\"3,3\"/> <circle cx=\"345\" cy=\"327\" r=\"11\" fill=\"rgb(255,255,255)\" class=\"agent_0_6\"/><circle cx=\"214\" cy=\"354\" r=\"13\" fill=\"rgb(255,0,0)\" class=\"agent_0_12\"/><circle cx=\"49\" cy=\"139\" r=\"8\" fill=\"rgb(255,255,255)\" class=\"agent_0_20\"/><circle cx=\"72\" cy=\"324\" r=\"9\" fill=\"rgb(255,255,255)\" class=\"agent_0_48\"/><circle cx=\"348\" cy=\"84\" r=\"12\" fill=\"rgb(255,0,0)\" class=\"agent_0_50\"/><circle cx=\"381\" cy=\"224\" r=\"10\" fill=\"rgb(255,255,255)\" class=\"agent_0_63\"/><circle cx=\"223\" cy=\"169\" r=\"9\" fill=\"rgb(255,255,255)\" class=\"agent_0_65\"/></svg><svg viewBox='0 0 430 430' id=\"svg\" width=\"172\" height=\"172\"><circle cx=\"215\" cy=\"215\" r=\"205\" fill=\"none\" stroke=\"black\" stroke-width=\"2\" stroke-dasharray=\"3,3\"/> <circle cx=\"345\" cy=\"327\" r=\"11\" fill=\"rgb(255,255,255)\" class=\"agent_0_6\"/><circle cx=\"214\" cy=\"354\" r=\"13\" fill=\"rgb(255,255,255)\" class=\"agent_0_12\"/><circle cx=\"49\" cy=\"139\" r=\"8\" fill=\"rgb(255,255,255)\" class=\"agent_0_20\"/><circle cx=\"72\" cy=\"324\" r=\"9\" fill=\"rgb(255,255,255)\" class=\"agent_0_48\"/><circle cx=\"348\" cy=\"84\" r=\"12\" fill=\"rgb(255,255,255)\" class=\"agent_0_50\"/><circle cx=\"381\" cy=\"224\" r=\"10\" fill=\"rgb(255,0,0)\" class=\"agent_0_63\"/><circle cx=\"223\" cy=\"169\" r=\"9\" fill=\"rgb(255,255,255)\" class=\"agent_0_65\"/></svg><svg viewBox='0 0 430 430' id=\"svg\" width=\"172\" height=\"172\"><circle cx=\"215\" cy=\"215\" r=\"205\" fill=\"none\" stroke=\"black\" stroke-width=\"2\" stroke-dasharray=\"3,3\"/> <circle cx=\"345\" cy=\"327\" r=\"11\" fill=\"rgb(255,0,0)\" class=\"agent_0_6\"/><circle cx=\"214\" cy=\"354\" r=\"13\" fill=\"rgb(255,255,255)\" class=\"agent_0_12\"/><circle cx=\"49\" cy=\"139\" r=\"8\" fill=\"rgb(255,255,255)\" class=\"agent_0_20\"/><circle cx=\"72\" cy=\"324\" r=\"9\" fill=\"rgb(255,255,255)\" class=\"agent_0_48\"/><circle cx=\"348\" cy=\"84\" r=\"12\" fill=\"rgb(255,255,255)\" class=\"agent_0_50\"/><circle cx=\"381\" cy=\"224\" r=\"10\" fill=\"rgb(255,255,255)\" class=\"agent_0_63\"/><circle cx=\"223\" cy=\"169\" r=\"9\" fill=\"rgb(255,255,255)\" class=\"agent_0_65\"/></svg><svg viewBox='0 0 430 430' id=\"svg\" width=\"172\" height=\"172\"><circle cx=\"215\" cy=\"215\" r=\"205\" fill=\"none\" stroke=\"black\" stroke-width=\"2\" stroke-dasharray=\"3,3\"/> <circle cx=\"345\" cy=\"327\" r=\"11\" fill=\"rgb(255,255,255)\" class=\"agent_0_6\"/><circle cx=\"214\" cy=\"354\" r=\"13\" fill=\"rgb(255,255,255)\" class=\"agent_0_12\"/><circle cx=\"49\" cy=\"139\" r=\"8\" fill=\"rgb(255,255,255)\" class=\"agent_0_20\"/><circle cx=\"72\" cy=\"324\" r=\"9\" fill=\"rgb(255,255,255)\" class=\"agent_0_48\"/><circle cx=\"348\" cy=\"84\" r=\"12\" fill=\"rgb(255,255,255)\" class=\"agent_0_50\"/><circle cx=\"381\" cy=\"224\" r=\"10\" fill=\"rgb(255,0,0)\" class=\"agent_0_63\"/><circle cx=\"223\" cy=\"169\" r=\"9\" fill=\"rgb(255,255,255)\" class=\"agent_0_65\"/></svg></div>"
      ],
      "text/plain": [
       "<IPython.core.display.HTML object>"
      ]
     },
     "metadata": {},
     "output_type": "display_data"
    },
    {
     "name": "stdout",
     "output_type": "stream",
     "text": [
      "beam 0\ti have a large black dot with a small light grey dot above and to the left of it . there is a small light grey dot above and to the right of it . i have a cluster of 4 dots .\n",
      "beam 1\ti have a large black dot with a small light grey dot above and to the right of it . there is a small light grey dot above and to the right of it . i have a cluster of 4 dots .\n",
      "beam 2\ti have a large black dot with a small light grey dot above and to the right of it . there is a small light grey dot above and to the right of it . i have a cluster of four dots that form a triangle\n",
      "beam 3\ti have a large black dot with a small light grey dot above and to the left of it . there is a small light grey dot above and to the right of it . i have a cluster of 4 dots that form a triangle\n",
      "beam 4\ti have a large black dot with a small light grey dot above and to the right of it . there is a small light grey dot above and to the right of it . i have a cluster of 4 dots that form a triangle\n",
      "beam 5\ti have a large black dot with a small light grey dot above and to the right of it . there is a small light grey dot above and to the right of it . i have a cluster of four dots that form a triangle .\n",
      "beam 6\ti have a large black dot with a small light grey dot above and to the left of it . there is a small light grey dot above and to the right of it . i have a cluster of 4 dots that form a triangle .\n",
      "beam 7\ti have a large black dot with a small light grey dot above and to the right of it . there is a small light grey dot above and to the right of it . i have a cluster of 4 dots that form a triangle .\n",
      "beam 8\ti have a large black dot with a small light grey dot above and to the right of it . there is a small light grey dot above and to the right of it . i have a cluster of four dots that form a triangle . they are all the same size .\n",
      "beam 9\ti have a large black dot with a small light grey dot above and to the right of it . there is a small light grey dot above and to the right of it . i have a cluster of 4 dots that form a triangle . they are all the same size .\n",
      "beam 10\ti have a large black dot with a small light grey dot above and to the right of it . there is a small light grey dot above and to the right of it . i have a cluster of four dots that form a triangle . they are all the same size\n",
      "beam 11\ti have a large black dot with a small light grey dot above and to the right of it . there is a small light grey dot above and to the right of it . i have a cluster of 4 dots that form a triangle . they are all the same size\n",
      "beam 12\ti have a large black dot with a small light grey dot above and to the right of it . there is a small light grey dot above and to the right of it . i have a cluster of four dots that form a triangle . they are all the same color .\n",
      "beam 13\ti have a large black dot with a small light grey dot above and to the right of it . there is a small light grey dot above and to the right of it . i have a cluster of 4 dots that form a triangle . they are all the same color .\n",
      "beam 14\ti have a large black dot with a small light grey dot above and to the right of it . there is a small light grey dot above and to the right of it . i have a cluster of 4 dots that form a triangle . the rest are the same size .\n",
      "beam 15\ti have a large black dot with a small light grey dot above and to the left of it . there is a small light grey dot above and to the right of it . i have a cluster of 4 dots that form a triangle . the rest are the same size .\n",
      "beam 16\ti have a large black dot with a small light grey dot above and to the right of it . there is a small light grey dot above and to the right of it . i have a cluster of four dots that form a triangle . the rest are the same size .\n",
      "beam 17\ti have a large black dot with a small light grey dot above and to the right of it . there is a small light grey dot above and to the right of it . i have a cluster of 4 dots that form a triangle . the rest are the same size , and the top one is dark grey\n",
      "beam 18\ti have a large black dot with a small light grey dot above and to the right of it . there is a small light grey dot above and to the right of it . i have a cluster of 4 dots that form a triangle . the rest are the same size , and the bottom one is the darkest\n",
      "beam 19\ti have a large black dot with a small light grey dot above and to the right of it . there is a small light grey dot above and to the right of it . i have a cluster of 4 dots that form a triangle . the rest are the same size , and the top one is the darkest\n",
      "greedy\ti have a large black dot , and the rest are light grey and one of the dots is the same size but the one on the right is light grey and the rest are all the same size . <eos>\n",
      "human\tnot both of my black dots are big . hmm . so i have 3 light grey <unk> , then 2 black large ones and 1 dark grey med size with a med grey med size one below it ( and to the left a tiny bit ) <eos>\n",
      "refs_pred\n"
     ]
    },
    {
     "data": {
      "text/html": [
       "<div style=\"white-space: nowrap\"><svg viewbox='0 0 430 430' width=\"172\" height=\"172\" id=\"agent_0\"><circle cx=\"215\" cy=\"215\" r=\"205\" fill=\"none\" stroke=\"black\" stroke-width=\"2\" stroke-dasharray=\"3,3\"/><circle cx=\"345\" cy=\"327\" r=\"11\" fill=\"rgb(135,135,135)\"/><circle cx=\"214\" cy=\"354\" r=\"13\" fill=\"rgb(58,58,58)\"/><circle cx=\"49\" cy=\"139\" r=\"8\" fill=\"rgb(195,195,195)\"/><circle cx=\"72\" cy=\"324\" r=\"9\" fill=\"rgb(197,197,197)\"/><circle cx=\"348\" cy=\"84\" r=\"12\" fill=\"rgb(66,66,66)\"/><circle cx=\"381\" cy=\"224\" r=\"10\" fill=\"rgb(96,96,96)\"/><circle cx=\"223\" cy=\"169\" r=\"9\" fill=\"rgb(183,183,183)\"/></svg><svg viewBox='0 0 430 430' id=\"svg\" width=\"172\" height=\"172\"><circle cx=\"215\" cy=\"215\" r=\"205\" fill=\"none\" stroke=\"black\" stroke-width=\"2\" stroke-dasharray=\"3,3\"/> <circle cx=\"345\" cy=\"327\" r=\"11\" fill=\"rgb(255,255,255)\" class=\"agent_0_6\"/><circle cx=\"214\" cy=\"354\" r=\"13\" fill=\"rgb(255,0,0)\" class=\"agent_0_12\"/><circle cx=\"49\" cy=\"139\" r=\"8\" fill=\"rgb(255,255,255)\" class=\"agent_0_20\"/><circle cx=\"72\" cy=\"324\" r=\"9\" fill=\"rgb(255,255,255)\" class=\"agent_0_48\"/><circle cx=\"348\" cy=\"84\" r=\"12\" fill=\"rgb(255,0,0)\" class=\"agent_0_50\"/><circle cx=\"381\" cy=\"224\" r=\"10\" fill=\"rgb(255,0,0)\" class=\"agent_0_63\"/><circle cx=\"223\" cy=\"169\" r=\"9\" fill=\"rgb(255,255,255)\" class=\"agent_0_65\"/></svg><svg viewBox='0 0 430 430' id=\"svg\" width=\"172\" height=\"172\"><circle cx=\"215\" cy=\"215\" r=\"205\" fill=\"none\" stroke=\"black\" stroke-width=\"2\" stroke-dasharray=\"3,3\"/> <circle cx=\"345\" cy=\"327\" r=\"11\" fill=\"rgb(255,255,255)\" class=\"agent_0_6\"/><circle cx=\"214\" cy=\"354\" r=\"13\" fill=\"rgb(255,255,255)\" class=\"agent_0_12\"/><circle cx=\"49\" cy=\"139\" r=\"8\" fill=\"rgb(255,0,0)\" class=\"agent_0_20\"/><circle cx=\"72\" cy=\"324\" r=\"9\" fill=\"rgb(255,0,0)\" class=\"agent_0_48\"/><circle cx=\"348\" cy=\"84\" r=\"12\" fill=\"rgb(255,255,255)\" class=\"agent_0_50\"/><circle cx=\"381\" cy=\"224\" r=\"10\" fill=\"rgb(255,255,255)\" class=\"agent_0_63\"/><circle cx=\"223\" cy=\"169\" r=\"9\" fill=\"rgb(255,0,0)\" class=\"agent_0_65\"/></svg><svg viewBox='0 0 430 430' id=\"svg\" width=\"172\" height=\"172\"><circle cx=\"215\" cy=\"215\" r=\"205\" fill=\"none\" stroke=\"black\" stroke-width=\"2\" stroke-dasharray=\"3,3\"/> <circle cx=\"345\" cy=\"327\" r=\"11\" fill=\"rgb(255,255,255)\" class=\"agent_0_6\"/><circle cx=\"214\" cy=\"354\" r=\"13\" fill=\"rgb(255,0,0)\" class=\"agent_0_12\"/><circle cx=\"49\" cy=\"139\" r=\"8\" fill=\"rgb(255,255,255)\" class=\"agent_0_20\"/><circle cx=\"72\" cy=\"324\" r=\"9\" fill=\"rgb(255,255,255)\" class=\"agent_0_48\"/><circle cx=\"348\" cy=\"84\" r=\"12\" fill=\"rgb(255,0,0)\" class=\"agent_0_50\"/><circle cx=\"381\" cy=\"224\" r=\"10\" fill=\"rgb(255,255,255)\" class=\"agent_0_63\"/><circle cx=\"223\" cy=\"169\" r=\"9\" fill=\"rgb(255,255,255)\" class=\"agent_0_65\"/></svg><svg viewBox='0 0 430 430' id=\"svg\" width=\"172\" height=\"172\"><circle cx=\"215\" cy=\"215\" r=\"205\" fill=\"none\" stroke=\"black\" stroke-width=\"2\" stroke-dasharray=\"3,3\"/> <circle cx=\"345\" cy=\"327\" r=\"11\" fill=\"rgb(255,0,0)\" class=\"agent_0_6\"/><circle cx=\"214\" cy=\"354\" r=\"13\" fill=\"rgb(255,255,255)\" class=\"agent_0_12\"/><circle cx=\"49\" cy=\"139\" r=\"8\" fill=\"rgb(255,255,255)\" class=\"agent_0_20\"/><circle cx=\"72\" cy=\"324\" r=\"9\" fill=\"rgb(255,255,255)\" class=\"agent_0_48\"/><circle cx=\"348\" cy=\"84\" r=\"12\" fill=\"rgb(255,255,255)\" class=\"agent_0_50\"/><circle cx=\"381\" cy=\"224\" r=\"10\" fill=\"rgb(255,255,255)\" class=\"agent_0_63\"/><circle cx=\"223\" cy=\"169\" r=\"9\" fill=\"rgb(255,255,255)\" class=\"agent_0_65\"/></svg><svg viewBox='0 0 430 430' id=\"svg\" width=\"172\" height=\"172\"><circle cx=\"215\" cy=\"215\" r=\"205\" fill=\"none\" stroke=\"black\" stroke-width=\"2\" stroke-dasharray=\"3,3\"/> <circle cx=\"345\" cy=\"327\" r=\"11\" fill=\"rgb(255,0,0)\" class=\"agent_0_6\"/><circle cx=\"214\" cy=\"354\" r=\"13\" fill=\"rgb(255,255,255)\" class=\"agent_0_12\"/><circle cx=\"49\" cy=\"139\" r=\"8\" fill=\"rgb(255,255,255)\" class=\"agent_0_20\"/><circle cx=\"72\" cy=\"324\" r=\"9\" fill=\"rgb(255,255,255)\" class=\"agent_0_48\"/><circle cx=\"348\" cy=\"84\" r=\"12\" fill=\"rgb(255,255,255)\" class=\"agent_0_50\"/><circle cx=\"381\" cy=\"224\" r=\"10\" fill=\"rgb(255,255,255)\" class=\"agent_0_63\"/><circle cx=\"223\" cy=\"169\" r=\"9\" fill=\"rgb(255,255,255)\" class=\"agent_0_65\"/></svg><svg viewBox='0 0 430 430' id=\"svg\" width=\"172\" height=\"172\"><circle cx=\"215\" cy=\"215\" r=\"205\" fill=\"none\" stroke=\"black\" stroke-width=\"2\" stroke-dasharray=\"3,3\"/> <circle cx=\"345\" cy=\"327\" r=\"11\" fill=\"rgb(255,255,255)\" class=\"agent_0_6\"/><circle cx=\"214\" cy=\"354\" r=\"13\" fill=\"rgb(255,0,0)\" class=\"agent_0_12\"/><circle cx=\"49\" cy=\"139\" r=\"8\" fill=\"rgb(255,255,255)\" class=\"agent_0_20\"/><circle cx=\"72\" cy=\"324\" r=\"9\" fill=\"rgb(255,255,255)\" class=\"agent_0_48\"/><circle cx=\"348\" cy=\"84\" r=\"12\" fill=\"rgb(255,255,255)\" class=\"agent_0_50\"/><circle cx=\"381\" cy=\"224\" r=\"10\" fill=\"rgb(255,255,255)\" class=\"agent_0_63\"/><circle cx=\"223\" cy=\"169\" r=\"9\" fill=\"rgb(255,255,255)\" class=\"agent_0_65\"/></svg></div>"
      ],
      "text/plain": [
       "<IPython.core.display.HTML object>"
      ]
     },
     "metadata": {},
     "output_type": "display_data"
    },
    {
     "name": "stdout",
     "output_type": "stream",
     "text": [
      "refs_true\n"
     ]
    },
    {
     "data": {
      "text/html": [
       "<div style=\"white-space: nowrap\"><svg viewbox='0 0 430 430' width=\"172\" height=\"172\" id=\"agent_0\"><circle cx=\"215\" cy=\"215\" r=\"205\" fill=\"none\" stroke=\"black\" stroke-width=\"2\" stroke-dasharray=\"3,3\"/><circle cx=\"345\" cy=\"327\" r=\"11\" fill=\"rgb(135,135,135)\"/><circle cx=\"214\" cy=\"354\" r=\"13\" fill=\"rgb(58,58,58)\"/><circle cx=\"49\" cy=\"139\" r=\"8\" fill=\"rgb(195,195,195)\"/><circle cx=\"72\" cy=\"324\" r=\"9\" fill=\"rgb(197,197,197)\"/><circle cx=\"348\" cy=\"84\" r=\"12\" fill=\"rgb(66,66,66)\"/><circle cx=\"381\" cy=\"224\" r=\"10\" fill=\"rgb(96,96,96)\"/><circle cx=\"223\" cy=\"169\" r=\"9\" fill=\"rgb(183,183,183)\"/></svg><svg viewBox='0 0 430 430' id=\"svg\" width=\"172\" height=\"172\"><circle cx=\"215\" cy=\"215\" r=\"205\" fill=\"none\" stroke=\"black\" stroke-width=\"2\" stroke-dasharray=\"3,3\"/> <circle cx=\"345\" cy=\"327\" r=\"11\" fill=\"rgb(255,255,255)\" class=\"agent_0_6\"/><circle cx=\"214\" cy=\"354\" r=\"13\" fill=\"rgb(255,0,0)\" class=\"agent_0_12\"/><circle cx=\"49\" cy=\"139\" r=\"8\" fill=\"rgb(255,255,255)\" class=\"agent_0_20\"/><circle cx=\"72\" cy=\"324\" r=\"9\" fill=\"rgb(255,255,255)\" class=\"agent_0_48\"/><circle cx=\"348\" cy=\"84\" r=\"12\" fill=\"rgb(255,0,0)\" class=\"agent_0_50\"/><circle cx=\"381\" cy=\"224\" r=\"10\" fill=\"rgb(255,255,255)\" class=\"agent_0_63\"/><circle cx=\"223\" cy=\"169\" r=\"9\" fill=\"rgb(255,255,255)\" class=\"agent_0_65\"/></svg><svg viewBox='0 0 430 430' id=\"svg\" width=\"172\" height=\"172\"><circle cx=\"215\" cy=\"215\" r=\"205\" fill=\"none\" stroke=\"black\" stroke-width=\"2\" stroke-dasharray=\"3,3\"/> <circle cx=\"345\" cy=\"327\" r=\"11\" fill=\"rgb(255,255,255)\" class=\"agent_0_6\"/><circle cx=\"214\" cy=\"354\" r=\"13\" fill=\"rgb(255,255,255)\" class=\"agent_0_12\"/><circle cx=\"49\" cy=\"139\" r=\"8\" fill=\"rgb(255,0,0)\" class=\"agent_0_20\"/><circle cx=\"72\" cy=\"324\" r=\"9\" fill=\"rgb(255,0,0)\" class=\"agent_0_48\"/><circle cx=\"348\" cy=\"84\" r=\"12\" fill=\"rgb(255,255,255)\" class=\"agent_0_50\"/><circle cx=\"381\" cy=\"224\" r=\"10\" fill=\"rgb(255,255,255)\" class=\"agent_0_63\"/><circle cx=\"223\" cy=\"169\" r=\"9\" fill=\"rgb(255,0,0)\" class=\"agent_0_65\"/></svg><svg viewBox='0 0 430 430' id=\"svg\" width=\"172\" height=\"172\"><circle cx=\"215\" cy=\"215\" r=\"205\" fill=\"none\" stroke=\"black\" stroke-width=\"2\" stroke-dasharray=\"3,3\"/> <circle cx=\"345\" cy=\"327\" r=\"11\" fill=\"rgb(255,255,255)\" class=\"agent_0_6\"/><circle cx=\"214\" cy=\"354\" r=\"13\" fill=\"rgb(255,0,0)\" class=\"agent_0_12\"/><circle cx=\"49\" cy=\"139\" r=\"8\" fill=\"rgb(255,255,255)\" class=\"agent_0_20\"/><circle cx=\"72\" cy=\"324\" r=\"9\" fill=\"rgb(255,255,255)\" class=\"agent_0_48\"/><circle cx=\"348\" cy=\"84\" r=\"12\" fill=\"rgb(255,0,0)\" class=\"agent_0_50\"/><circle cx=\"381\" cy=\"224\" r=\"10\" fill=\"rgb(255,255,255)\" class=\"agent_0_63\"/><circle cx=\"223\" cy=\"169\" r=\"9\" fill=\"rgb(255,255,255)\" class=\"agent_0_65\"/></svg><svg viewBox='0 0 430 430' id=\"svg\" width=\"172\" height=\"172\"><circle cx=\"215\" cy=\"215\" r=\"205\" fill=\"none\" stroke=\"black\" stroke-width=\"2\" stroke-dasharray=\"3,3\"/> <circle cx=\"345\" cy=\"327\" r=\"11\" fill=\"rgb(255,255,255)\" class=\"agent_0_6\"/><circle cx=\"214\" cy=\"354\" r=\"13\" fill=\"rgb(255,255,255)\" class=\"agent_0_12\"/><circle cx=\"49\" cy=\"139\" r=\"8\" fill=\"rgb(255,255,255)\" class=\"agent_0_20\"/><circle cx=\"72\" cy=\"324\" r=\"9\" fill=\"rgb(255,255,255)\" class=\"agent_0_48\"/><circle cx=\"348\" cy=\"84\" r=\"12\" fill=\"rgb(255,255,255)\" class=\"agent_0_50\"/><circle cx=\"381\" cy=\"224\" r=\"10\" fill=\"rgb(255,0,0)\" class=\"agent_0_63\"/><circle cx=\"223\" cy=\"169\" r=\"9\" fill=\"rgb(255,255,255)\" class=\"agent_0_65\"/></svg><svg viewBox='0 0 430 430' id=\"svg\" width=\"172\" height=\"172\"><circle cx=\"215\" cy=\"215\" r=\"205\" fill=\"none\" stroke=\"black\" stroke-width=\"2\" stroke-dasharray=\"3,3\"/> <circle cx=\"345\" cy=\"327\" r=\"11\" fill=\"rgb(255,0,0)\" class=\"agent_0_6\"/><circle cx=\"214\" cy=\"354\" r=\"13\" fill=\"rgb(255,255,255)\" class=\"agent_0_12\"/><circle cx=\"49\" cy=\"139\" r=\"8\" fill=\"rgb(255,255,255)\" class=\"agent_0_20\"/><circle cx=\"72\" cy=\"324\" r=\"9\" fill=\"rgb(255,255,255)\" class=\"agent_0_48\"/><circle cx=\"348\" cy=\"84\" r=\"12\" fill=\"rgb(255,255,255)\" class=\"agent_0_50\"/><circle cx=\"381\" cy=\"224\" r=\"10\" fill=\"rgb(255,255,255)\" class=\"agent_0_63\"/><circle cx=\"223\" cy=\"169\" r=\"9\" fill=\"rgb(255,255,255)\" class=\"agent_0_65\"/></svg><svg viewBox='0 0 430 430' id=\"svg\" width=\"172\" height=\"172\"><circle cx=\"215\" cy=\"215\" r=\"205\" fill=\"none\" stroke=\"black\" stroke-width=\"2\" stroke-dasharray=\"3,3\"/> <circle cx=\"345\" cy=\"327\" r=\"11\" fill=\"rgb(255,255,255)\" class=\"agent_0_6\"/><circle cx=\"214\" cy=\"354\" r=\"13\" fill=\"rgb(255,255,255)\" class=\"agent_0_12\"/><circle cx=\"49\" cy=\"139\" r=\"8\" fill=\"rgb(255,255,255)\" class=\"agent_0_20\"/><circle cx=\"72\" cy=\"324\" r=\"9\" fill=\"rgb(255,255,255)\" class=\"agent_0_48\"/><circle cx=\"348\" cy=\"84\" r=\"12\" fill=\"rgb(255,255,255)\" class=\"agent_0_50\"/><circle cx=\"381\" cy=\"224\" r=\"10\" fill=\"rgb(255,0,0)\" class=\"agent_0_63\"/><circle cx=\"223\" cy=\"169\" r=\"9\" fill=\"rgb(255,255,255)\" class=\"agent_0_65\"/></svg></div>"
      ],
      "text/plain": [
       "<IPython.core.display.HTML object>"
      ]
     },
     "metadata": {},
     "output_type": "display_data"
    },
    {
     "name": "stdout",
     "output_type": "stream",
     "text": [
      "\n",
      "----------------------------------------\n",
      "\n",
      "human\tTHEM: i have one bigger black dot . to the right of it a bit away and a little higher is a smaller medium/dark grey dot <eos>\n",
      "partner_refs_pred\n"
     ]
    },
    {
     "data": {
      "text/html": [
       "<div style=\"white-space: nowrap\"><svg viewbox='0 0 430 430' width=\"172\" height=\"172\" id=\"agent_0\"><circle cx=\"215\" cy=\"215\" r=\"205\" fill=\"none\" stroke=\"black\" stroke-width=\"2\" stroke-dasharray=\"3,3\"/><circle cx=\"345\" cy=\"327\" r=\"11\" fill=\"rgb(135,135,135)\"/><circle cx=\"214\" cy=\"354\" r=\"13\" fill=\"rgb(58,58,58)\"/><circle cx=\"49\" cy=\"139\" r=\"8\" fill=\"rgb(195,195,195)\"/><circle cx=\"72\" cy=\"324\" r=\"9\" fill=\"rgb(197,197,197)\"/><circle cx=\"348\" cy=\"84\" r=\"12\" fill=\"rgb(66,66,66)\"/><circle cx=\"381\" cy=\"224\" r=\"10\" fill=\"rgb(96,96,96)\"/><circle cx=\"223\" cy=\"169\" r=\"9\" fill=\"rgb(183,183,183)\"/></svg><svg viewBox='0 0 430 430' id=\"svg\" width=\"172\" height=\"172\"><circle cx=\"215\" cy=\"215\" r=\"205\" fill=\"none\" stroke=\"black\" stroke-width=\"2\" stroke-dasharray=\"3,3\"/> <circle cx=\"345\" cy=\"327\" r=\"11\" fill=\"rgb(255,255,255)\" class=\"agent_0_6\"/><circle cx=\"214\" cy=\"354\" r=\"13\" fill=\"rgb(255,0,0)\" class=\"agent_0_12\"/><circle cx=\"49\" cy=\"139\" r=\"8\" fill=\"rgb(255,255,255)\" class=\"agent_0_20\"/><circle cx=\"72\" cy=\"324\" r=\"9\" fill=\"rgb(255,255,255)\" class=\"agent_0_48\"/><circle cx=\"348\" cy=\"84\" r=\"12\" fill=\"rgb(255,255,255)\" class=\"agent_0_50\"/><circle cx=\"381\" cy=\"224\" r=\"10\" fill=\"rgb(255,255,255)\" class=\"agent_0_63\"/><circle cx=\"223\" cy=\"169\" r=\"9\" fill=\"rgb(255,255,255)\" class=\"agent_0_65\"/></svg><svg viewBox='0 0 430 430' id=\"svg\" width=\"172\" height=\"172\"><circle cx=\"215\" cy=\"215\" r=\"205\" fill=\"none\" stroke=\"black\" stroke-width=\"2\" stroke-dasharray=\"3,3\"/> <circle cx=\"345\" cy=\"327\" r=\"11\" fill=\"rgb(255,0,0)\" class=\"agent_0_6\"/><circle cx=\"214\" cy=\"354\" r=\"13\" fill=\"rgb(255,255,255)\" class=\"agent_0_12\"/><circle cx=\"49\" cy=\"139\" r=\"8\" fill=\"rgb(255,255,255)\" class=\"agent_0_20\"/><circle cx=\"72\" cy=\"324\" r=\"9\" fill=\"rgb(255,255,255)\" class=\"agent_0_48\"/><circle cx=\"348\" cy=\"84\" r=\"12\" fill=\"rgb(255,255,255)\" class=\"agent_0_50\"/><circle cx=\"381\" cy=\"224\" r=\"10\" fill=\"rgb(255,255,255)\" class=\"agent_0_63\"/><circle cx=\"223\" cy=\"169\" r=\"9\" fill=\"rgb(255,255,255)\" class=\"agent_0_65\"/></svg><svg viewBox='0 0 430 430' id=\"svg\" width=\"172\" height=\"172\"><circle cx=\"215\" cy=\"215\" r=\"205\" fill=\"none\" stroke=\"black\" stroke-width=\"2\" stroke-dasharray=\"3,3\"/> <circle cx=\"345\" cy=\"327\" r=\"11\" fill=\"rgb(255,0,0)\" class=\"agent_0_6\"/><circle cx=\"214\" cy=\"354\" r=\"13\" fill=\"rgb(255,255,255)\" class=\"agent_0_12\"/><circle cx=\"49\" cy=\"139\" r=\"8\" fill=\"rgb(255,255,255)\" class=\"agent_0_20\"/><circle cx=\"72\" cy=\"324\" r=\"9\" fill=\"rgb(255,255,255)\" class=\"agent_0_48\"/><circle cx=\"348\" cy=\"84\" r=\"12\" fill=\"rgb(255,255,255)\" class=\"agent_0_50\"/><circle cx=\"381\" cy=\"224\" r=\"10\" fill=\"rgb(255,255,255)\" class=\"agent_0_63\"/><circle cx=\"223\" cy=\"169\" r=\"9\" fill=\"rgb(255,255,255)\" class=\"agent_0_65\"/></svg></div>"
      ],
      "text/plain": [
       "<IPython.core.display.HTML object>"
      ]
     },
     "metadata": {},
     "output_type": "display_data"
    },
    {
     "name": "stdout",
     "output_type": "stream",
     "text": [
      "partner_refs_true\n"
     ]
    },
    {
     "data": {
      "text/html": [
       "<div style=\"white-space: nowrap\"><svg viewbox='0 0 430 430' width=\"172\" height=\"172\" id=\"agent_0\"><circle cx=\"215\" cy=\"215\" r=\"205\" fill=\"none\" stroke=\"black\" stroke-width=\"2\" stroke-dasharray=\"3,3\"/><circle cx=\"345\" cy=\"327\" r=\"11\" fill=\"rgb(135,135,135)\"/><circle cx=\"214\" cy=\"354\" r=\"13\" fill=\"rgb(58,58,58)\"/><circle cx=\"49\" cy=\"139\" r=\"8\" fill=\"rgb(195,195,195)\"/><circle cx=\"72\" cy=\"324\" r=\"9\" fill=\"rgb(197,197,197)\"/><circle cx=\"348\" cy=\"84\" r=\"12\" fill=\"rgb(66,66,66)\"/><circle cx=\"381\" cy=\"224\" r=\"10\" fill=\"rgb(96,96,96)\"/><circle cx=\"223\" cy=\"169\" r=\"9\" fill=\"rgb(183,183,183)\"/></svg><svg viewBox='0 0 430 430' id=\"svg\" width=\"172\" height=\"172\"><circle cx=\"215\" cy=\"215\" r=\"205\" fill=\"none\" stroke=\"black\" stroke-width=\"2\" stroke-dasharray=\"3,3\"/> <circle cx=\"345\" cy=\"327\" r=\"11\" fill=\"rgb(255,255,255)\" class=\"agent_0_6\"/><circle cx=\"214\" cy=\"354\" r=\"13\" fill=\"rgb(255,0,0)\" class=\"agent_0_12\"/><circle cx=\"49\" cy=\"139\" r=\"8\" fill=\"rgb(255,255,255)\" class=\"agent_0_20\"/><circle cx=\"72\" cy=\"324\" r=\"9\" fill=\"rgb(255,255,255)\" class=\"agent_0_48\"/><circle cx=\"348\" cy=\"84\" r=\"12\" fill=\"rgb(255,255,255)\" class=\"agent_0_50\"/><circle cx=\"381\" cy=\"224\" r=\"10\" fill=\"rgb(255,255,255)\" class=\"agent_0_63\"/><circle cx=\"223\" cy=\"169\" r=\"9\" fill=\"rgb(255,255,255)\" class=\"agent_0_65\"/></svg><svg viewBox='0 0 430 430' id=\"svg\" width=\"172\" height=\"172\"><circle cx=\"215\" cy=\"215\" r=\"205\" fill=\"none\" stroke=\"black\" stroke-width=\"2\" stroke-dasharray=\"3,3\"/> <circle cx=\"345\" cy=\"327\" r=\"11\" fill=\"rgb(255,255,255)\" class=\"agent_0_6\"/><circle cx=\"214\" cy=\"354\" r=\"13\" fill=\"rgb(255,0,0)\" class=\"agent_0_12\"/><circle cx=\"49\" cy=\"139\" r=\"8\" fill=\"rgb(255,255,255)\" class=\"agent_0_20\"/><circle cx=\"72\" cy=\"324\" r=\"9\" fill=\"rgb(255,255,255)\" class=\"agent_0_48\"/><circle cx=\"348\" cy=\"84\" r=\"12\" fill=\"rgb(255,255,255)\" class=\"agent_0_50\"/><circle cx=\"381\" cy=\"224\" r=\"10\" fill=\"rgb(255,255,255)\" class=\"agent_0_63\"/><circle cx=\"223\" cy=\"169\" r=\"9\" fill=\"rgb(255,255,255)\" class=\"agent_0_65\"/></svg><svg viewBox='0 0 430 430' id=\"svg\" width=\"172\" height=\"172\"><circle cx=\"215\" cy=\"215\" r=\"205\" fill=\"none\" stroke=\"black\" stroke-width=\"2\" stroke-dasharray=\"3,3\"/> <circle cx=\"345\" cy=\"327\" r=\"11\" fill=\"rgb(255,0,0)\" class=\"agent_0_6\"/><circle cx=\"214\" cy=\"354\" r=\"13\" fill=\"rgb(255,255,255)\" class=\"agent_0_12\"/><circle cx=\"49\" cy=\"139\" r=\"8\" fill=\"rgb(255,255,255)\" class=\"agent_0_20\"/><circle cx=\"72\" cy=\"324\" r=\"9\" fill=\"rgb(255,255,255)\" class=\"agent_0_48\"/><circle cx=\"348\" cy=\"84\" r=\"12\" fill=\"rgb(255,255,255)\" class=\"agent_0_50\"/><circle cx=\"381\" cy=\"224\" r=\"10\" fill=\"rgb(255,255,255)\" class=\"agent_0_63\"/><circle cx=\"223\" cy=\"169\" r=\"9\" fill=\"rgb(255,255,255)\" class=\"agent_0_65\"/></svg></div>"
      ],
      "text/plain": [
       "<IPython.core.display.HTML object>"
      ]
     },
     "metadata": {},
     "output_type": "display_data"
    },
    {
     "name": "stdout",
     "output_type": "stream",
     "text": [
      "\n",
      "----------------------------------------\n",
      "\n",
      "to_mention_pred\n"
     ]
    },
    {
     "data": {
      "text/html": [
       "<div style=\"white-space: nowrap\"><svg viewbox='0 0 430 430' width=\"172\" height=\"172\" id=\"agent_0\"><circle cx=\"215\" cy=\"215\" r=\"205\" fill=\"none\" stroke=\"black\" stroke-width=\"2\" stroke-dasharray=\"3,3\"/><circle cx=\"345\" cy=\"327\" r=\"11\" fill=\"rgb(135,135,135)\"/><circle cx=\"214\" cy=\"354\" r=\"13\" fill=\"rgb(58,58,58)\"/><circle cx=\"49\" cy=\"139\" r=\"8\" fill=\"rgb(195,195,195)\"/><circle cx=\"72\" cy=\"324\" r=\"9\" fill=\"rgb(197,197,197)\"/><circle cx=\"348\" cy=\"84\" r=\"12\" fill=\"rgb(66,66,66)\"/><circle cx=\"381\" cy=\"224\" r=\"10\" fill=\"rgb(96,96,96)\"/><circle cx=\"223\" cy=\"169\" r=\"9\" fill=\"rgb(183,183,183)\"/></svg><svg viewBox='0 0 430 430' id=\"svg\" width=\"172\" height=\"172\"><circle cx=\"215\" cy=\"215\" r=\"205\" fill=\"none\" stroke=\"black\" stroke-width=\"2\" stroke-dasharray=\"3,3\"/> <circle cx=\"345\" cy=\"327\" r=\"11\" fill=\"rgb(255,255,255)\" class=\"agent_0_6\"/><circle cx=\"214\" cy=\"354\" r=\"13\" fill=\"rgb(255,0,0)\" class=\"agent_0_12\"/><circle cx=\"49\" cy=\"139\" r=\"8\" fill=\"rgb(255,255,255)\" class=\"agent_0_20\"/><circle cx=\"72\" cy=\"324\" r=\"9\" fill=\"rgb(255,255,255)\" class=\"agent_0_48\"/><circle cx=\"348\" cy=\"84\" r=\"12\" fill=\"rgb(255,255,255)\" class=\"agent_0_50\"/><circle cx=\"381\" cy=\"224\" r=\"10\" fill=\"rgb(255,255,255)\" class=\"agent_0_63\"/><circle cx=\"223\" cy=\"169\" r=\"9\" fill=\"rgb(255,255,255)\" class=\"agent_0_65\"/></svg><svg viewBox='0 0 430 430' id=\"svg\" width=\"172\" height=\"172\"><circle cx=\"215\" cy=\"215\" r=\"205\" fill=\"none\" stroke=\"black\" stroke-width=\"2\" stroke-dasharray=\"3,3\"/> <circle cx=\"345\" cy=\"327\" r=\"11\" fill=\"rgb(255,255,255)\" class=\"agent_0_6\"/><circle cx=\"214\" cy=\"354\" r=\"13\" fill=\"rgb(255,0,0)\" class=\"agent_0_12\"/><circle cx=\"49\" cy=\"139\" r=\"8\" fill=\"rgb(255,255,255)\" class=\"agent_0_20\"/><circle cx=\"72\" cy=\"324\" r=\"9\" fill=\"rgb(255,255,255)\" class=\"agent_0_48\"/><circle cx=\"348\" cy=\"84\" r=\"12\" fill=\"rgb(255,255,255)\" class=\"agent_0_50\"/><circle cx=\"381\" cy=\"224\" r=\"10\" fill=\"rgb(255,255,255)\" class=\"agent_0_63\"/><circle cx=\"223\" cy=\"169\" r=\"9\" fill=\"rgb(255,255,255)\" class=\"agent_0_65\"/></svg><svg viewBox='0 0 430 430' id=\"svg\" width=\"172\" height=\"172\"><circle cx=\"215\" cy=\"215\" r=\"205\" fill=\"none\" stroke=\"black\" stroke-width=\"2\" stroke-dasharray=\"3,3\"/> <circle cx=\"345\" cy=\"327\" r=\"11\" fill=\"rgb(255,255,255)\" class=\"agent_0_6\"/><circle cx=\"214\" cy=\"354\" r=\"13\" fill=\"rgb(255,255,255)\" class=\"agent_0_12\"/><circle cx=\"49\" cy=\"139\" r=\"8\" fill=\"rgb(255,255,255)\" class=\"agent_0_20\"/><circle cx=\"72\" cy=\"324\" r=\"9\" fill=\"rgb(255,255,255)\" class=\"agent_0_48\"/><circle cx=\"348\" cy=\"84\" r=\"12\" fill=\"rgb(255,255,255)\" class=\"agent_0_50\"/><circle cx=\"381\" cy=\"224\" r=\"10\" fill=\"rgb(255,255,255)\" class=\"agent_0_63\"/><circle cx=\"223\" cy=\"169\" r=\"9\" fill=\"rgb(255,255,255)\" class=\"agent_0_65\"/></svg><svg viewBox='0 0 430 430' id=\"svg\" width=\"172\" height=\"172\"><circle cx=\"215\" cy=\"215\" r=\"205\" fill=\"none\" stroke=\"black\" stroke-width=\"2\" stroke-dasharray=\"3,3\"/> <circle cx=\"345\" cy=\"327\" r=\"11\" fill=\"rgb(255,255,255)\" class=\"agent_0_6\"/><circle cx=\"214\" cy=\"354\" r=\"13\" fill=\"rgb(255,255,255)\" class=\"agent_0_12\"/><circle cx=\"49\" cy=\"139\" r=\"8\" fill=\"rgb(255,255,255)\" class=\"agent_0_20\"/><circle cx=\"72\" cy=\"324\" r=\"9\" fill=\"rgb(255,255,255)\" class=\"agent_0_48\"/><circle cx=\"348\" cy=\"84\" r=\"12\" fill=\"rgb(255,255,255)\" class=\"agent_0_50\"/><circle cx=\"381\" cy=\"224\" r=\"10\" fill=\"rgb(255,255,255)\" class=\"agent_0_63\"/><circle cx=\"223\" cy=\"169\" r=\"9\" fill=\"rgb(255,255,255)\" class=\"agent_0_65\"/></svg><svg viewBox='0 0 430 430' id=\"svg\" width=\"172\" height=\"172\"><circle cx=\"215\" cy=\"215\" r=\"205\" fill=\"none\" stroke=\"black\" stroke-width=\"2\" stroke-dasharray=\"3,3\"/> <circle cx=\"345\" cy=\"327\" r=\"11\" fill=\"rgb(255,255,255)\" class=\"agent_0_6\"/><circle cx=\"214\" cy=\"354\" r=\"13\" fill=\"rgb(255,255,255)\" class=\"agent_0_12\"/><circle cx=\"49\" cy=\"139\" r=\"8\" fill=\"rgb(255,255,255)\" class=\"agent_0_20\"/><circle cx=\"72\" cy=\"324\" r=\"9\" fill=\"rgb(255,255,255)\" class=\"agent_0_48\"/><circle cx=\"348\" cy=\"84\" r=\"12\" fill=\"rgb(255,255,255)\" class=\"agent_0_50\"/><circle cx=\"381\" cy=\"224\" r=\"10\" fill=\"rgb(255,255,255)\" class=\"agent_0_63\"/><circle cx=\"223\" cy=\"169\" r=\"9\" fill=\"rgb(255,255,255)\" class=\"agent_0_65\"/></svg><svg viewBox='0 0 430 430' id=\"svg\" width=\"172\" height=\"172\"><circle cx=\"215\" cy=\"215\" r=\"205\" fill=\"none\" stroke=\"black\" stroke-width=\"2\" stroke-dasharray=\"3,3\"/> <circle cx=\"345\" cy=\"327\" r=\"11\" fill=\"rgb(255,255,255)\" class=\"agent_0_6\"/><circle cx=\"214\" cy=\"354\" r=\"13\" fill=\"rgb(255,0,0)\" class=\"agent_0_12\"/><circle cx=\"49\" cy=\"139\" r=\"8\" fill=\"rgb(255,255,255)\" class=\"agent_0_20\"/><circle cx=\"72\" cy=\"324\" r=\"9\" fill=\"rgb(255,255,255)\" class=\"agent_0_48\"/><circle cx=\"348\" cy=\"84\" r=\"12\" fill=\"rgb(255,255,255)\" class=\"agent_0_50\"/><circle cx=\"381\" cy=\"224\" r=\"10\" fill=\"rgb(255,255,255)\" class=\"agent_0_63\"/><circle cx=\"223\" cy=\"169\" r=\"9\" fill=\"rgb(255,255,255)\" class=\"agent_0_65\"/></svg></div>"
      ],
      "text/plain": [
       "<IPython.core.display.HTML object>"
      ]
     },
     "metadata": {},
     "output_type": "display_data"
    },
    {
     "name": "stdout",
     "output_type": "stream",
     "text": [
      "to_mention_true\n"
     ]
    },
    {
     "data": {
      "text/html": [
       "<div style=\"white-space: nowrap\"><svg viewbox='0 0 430 430' width=\"172\" height=\"172\" id=\"agent_0\"><circle cx=\"215\" cy=\"215\" r=\"205\" fill=\"none\" stroke=\"black\" stroke-width=\"2\" stroke-dasharray=\"3,3\"/><circle cx=\"345\" cy=\"327\" r=\"11\" fill=\"rgb(135,135,135)\"/><circle cx=\"214\" cy=\"354\" r=\"13\" fill=\"rgb(58,58,58)\"/><circle cx=\"49\" cy=\"139\" r=\"8\" fill=\"rgb(195,195,195)\"/><circle cx=\"72\" cy=\"324\" r=\"9\" fill=\"rgb(197,197,197)\"/><circle cx=\"348\" cy=\"84\" r=\"12\" fill=\"rgb(66,66,66)\"/><circle cx=\"381\" cy=\"224\" r=\"10\" fill=\"rgb(96,96,96)\"/><circle cx=\"223\" cy=\"169\" r=\"9\" fill=\"rgb(183,183,183)\"/></svg><svg viewBox='0 0 430 430' id=\"svg\" width=\"172\" height=\"172\"><circle cx=\"215\" cy=\"215\" r=\"205\" fill=\"none\" stroke=\"black\" stroke-width=\"2\" stroke-dasharray=\"3,3\"/> <circle cx=\"345\" cy=\"327\" r=\"11\" fill=\"rgb(255,255,255)\" class=\"agent_0_6\"/><circle cx=\"214\" cy=\"354\" r=\"13\" fill=\"rgb(255,255,255)\" class=\"agent_0_12\"/><circle cx=\"49\" cy=\"139\" r=\"8\" fill=\"rgb(255,0,0)\" class=\"agent_0_20\"/><circle cx=\"72\" cy=\"324\" r=\"9\" fill=\"rgb(255,255,255)\" class=\"agent_0_48\"/><circle cx=\"348\" cy=\"84\" r=\"12\" fill=\"rgb(255,255,255)\" class=\"agent_0_50\"/><circle cx=\"381\" cy=\"224\" r=\"10\" fill=\"rgb(255,255,255)\" class=\"agent_0_63\"/><circle cx=\"223\" cy=\"169\" r=\"9\" fill=\"rgb(255,0,0)\" class=\"agent_0_65\"/></svg><svg viewBox='0 0 430 430' id=\"svg\" width=\"172\" height=\"172\"><circle cx=\"215\" cy=\"215\" r=\"205\" fill=\"none\" stroke=\"black\" stroke-width=\"2\" stroke-dasharray=\"3,3\"/> <circle cx=\"345\" cy=\"327\" r=\"11\" fill=\"rgb(255,255,255)\" class=\"agent_0_6\"/><circle cx=\"214\" cy=\"354\" r=\"13\" fill=\"rgb(255,255,255)\" class=\"agent_0_12\"/><circle cx=\"49\" cy=\"139\" r=\"8\" fill=\"rgb(255,255,255)\" class=\"agent_0_20\"/><circle cx=\"72\" cy=\"324\" r=\"9\" fill=\"rgb(255,255,255)\" class=\"agent_0_48\"/><circle cx=\"348\" cy=\"84\" r=\"12\" fill=\"rgb(255,255,255)\" class=\"agent_0_50\"/><circle cx=\"381\" cy=\"224\" r=\"10\" fill=\"rgb(255,255,255)\" class=\"agent_0_63\"/><circle cx=\"223\" cy=\"169\" r=\"9\" fill=\"rgb(255,0,0)\" class=\"agent_0_65\"/></svg><svg viewBox='0 0 430 430' id=\"svg\" width=\"172\" height=\"172\"><circle cx=\"215\" cy=\"215\" r=\"205\" fill=\"none\" stroke=\"black\" stroke-width=\"2\" stroke-dasharray=\"3,3\"/> <circle cx=\"345\" cy=\"327\" r=\"11\" fill=\"rgb(255,255,255)\" class=\"agent_0_6\"/><circle cx=\"214\" cy=\"354\" r=\"13\" fill=\"rgb(255,0,0)\" class=\"agent_0_12\"/><circle cx=\"49\" cy=\"139\" r=\"8\" fill=\"rgb(255,255,255)\" class=\"agent_0_20\"/><circle cx=\"72\" cy=\"324\" r=\"9\" fill=\"rgb(255,255,255)\" class=\"agent_0_48\"/><circle cx=\"348\" cy=\"84\" r=\"12\" fill=\"rgb(255,255,255)\" class=\"agent_0_50\"/><circle cx=\"381\" cy=\"224\" r=\"10\" fill=\"rgb(255,255,255)\" class=\"agent_0_63\"/><circle cx=\"223\" cy=\"169\" r=\"9\" fill=\"rgb(255,255,255)\" class=\"agent_0_65\"/></svg><svg viewBox='0 0 430 430' id=\"svg\" width=\"172\" height=\"172\"><circle cx=\"215\" cy=\"215\" r=\"205\" fill=\"none\" stroke=\"black\" stroke-width=\"2\" stroke-dasharray=\"3,3\"/> <circle cx=\"345\" cy=\"327\" r=\"11\" fill=\"rgb(255,255,255)\" class=\"agent_0_6\"/><circle cx=\"214\" cy=\"354\" r=\"13\" fill=\"rgb(255,255,255)\" class=\"agent_0_12\"/><circle cx=\"49\" cy=\"139\" r=\"8\" fill=\"rgb(255,0,0)\" class=\"agent_0_20\"/><circle cx=\"72\" cy=\"324\" r=\"9\" fill=\"rgb(255,255,255)\" class=\"agent_0_48\"/><circle cx=\"348\" cy=\"84\" r=\"12\" fill=\"rgb(255,255,255)\" class=\"agent_0_50\"/><circle cx=\"381\" cy=\"224\" r=\"10\" fill=\"rgb(255,255,255)\" class=\"agent_0_63\"/><circle cx=\"223\" cy=\"169\" r=\"9\" fill=\"rgb(255,255,255)\" class=\"agent_0_65\"/></svg><svg viewBox='0 0 430 430' id=\"svg\" width=\"172\" height=\"172\"><circle cx=\"215\" cy=\"215\" r=\"205\" fill=\"none\" stroke=\"black\" stroke-width=\"2\" stroke-dasharray=\"3,3\"/> <circle cx=\"345\" cy=\"327\" r=\"11\" fill=\"rgb(255,255,255)\" class=\"agent_0_6\"/><circle cx=\"214\" cy=\"354\" r=\"13\" fill=\"rgb(255,0,0)\" class=\"agent_0_12\"/><circle cx=\"49\" cy=\"139\" r=\"8\" fill=\"rgb(255,255,255)\" class=\"agent_0_20\"/><circle cx=\"72\" cy=\"324\" r=\"9\" fill=\"rgb(255,255,255)\" class=\"agent_0_48\"/><circle cx=\"348\" cy=\"84\" r=\"12\" fill=\"rgb(255,255,255)\" class=\"agent_0_50\"/><circle cx=\"381\" cy=\"224\" r=\"10\" fill=\"rgb(255,255,255)\" class=\"agent_0_63\"/><circle cx=\"223\" cy=\"169\" r=\"9\" fill=\"rgb(255,255,255)\" class=\"agent_0_65\"/></svg><svg viewBox='0 0 430 430' id=\"svg\" width=\"172\" height=\"172\"><circle cx=\"215\" cy=\"215\" r=\"205\" fill=\"none\" stroke=\"black\" stroke-width=\"2\" stroke-dasharray=\"3,3\"/> <circle cx=\"345\" cy=\"327\" r=\"11\" fill=\"rgb(255,255,255)\" class=\"agent_0_6\"/><circle cx=\"214\" cy=\"354\" r=\"13\" fill=\"rgb(255,0,0)\" class=\"agent_0_12\"/><circle cx=\"49\" cy=\"139\" r=\"8\" fill=\"rgb(255,255,255)\" class=\"agent_0_20\"/><circle cx=\"72\" cy=\"324\" r=\"9\" fill=\"rgb(255,255,255)\" class=\"agent_0_48\"/><circle cx=\"348\" cy=\"84\" r=\"12\" fill=\"rgb(255,255,255)\" class=\"agent_0_50\"/><circle cx=\"381\" cy=\"224\" r=\"10\" fill=\"rgb(255,255,255)\" class=\"agent_0_63\"/><circle cx=\"223\" cy=\"169\" r=\"9\" fill=\"rgb(255,255,255)\" class=\"agent_0_65\"/></svg></div>"
      ],
      "text/plain": [
       "<IPython.core.display.HTML object>"
      ]
     },
     "metadata": {},
     "output_type": "display_data"
    },
    {
     "name": "stdout",
     "output_type": "stream",
     "text": [
      "beam 0\tdo you have a small light grey dot with a large black dot to the right of it\n",
      "beam 1\tdo you have a small light grey dot with a large black dot to the right of it and a small black dot to the right of it ?\n",
      "beam 2\tdo you have a small light grey dot with a large black dot to the right of it and a small black dot below it ?\n",
      "beam 3\tdo you have a tiny light grey dot with a large black dot to the right of it and a small black dot to the right of it ?\n",
      "beam 4\tdo you have a tiny light grey dot with a large black dot to the right of it and a small black dot below it ?\n",
      "beam 5\tdo you have a small light grey dot with a large black dot to the right of it and a small black dot below it\n",
      "beam 6\tdo you have a small light grey dot with a large black dot to the left of it and a small black dot to the right of it ?\n",
      "beam 7\tdo you have a tiny light grey dot with a large black dot to the left of it and a small black dot to the right of it ?\n",
      "beam 8\tdo you have a small light grey dot with a large black dot to the right of it and a small black dot to the left of it ?\n",
      "beam 9\tdo you have a tiny light grey dot with a large black dot to the right of it and a small black dot to the left of it ?\n",
      "beam 10\tdo you have a small light grey dot with a large black dot to the right of it and a small black dot to the right of it\n",
      "beam 11\tdo you have a small light grey dot with a large black dot to the left of it and a small black dot to the left of it ?\n",
      "beam 12\tdo you have a tiny light grey dot with a large black dot to the left of it and a small black dot to the left of it ?\n",
      "beam 13\tdo you have a tiny light grey dot with a large black dot to the right of it and a small black dot to the right of it\n",
      "beam 14\tdo you have a small light grey dot with a large black dot to the left of it and a small black dot to the right of it\n",
      "beam 15\tdo you have a small light grey dot with a large black dot to the right of it and a small black dot to the left of it\n",
      "beam 16\tdo you have a small light grey dot with a large black dot to the right of it and a small black dot above and to the right of it ?\n",
      "beam 17\tdo you have a small light grey dot with a large black dot to the right of it and a small black dot below and to the right of it ?\n",
      "beam 18\tdo you have a small light grey dot with a large black dot to the right of it and a small black dot below and to the left of it ?\n",
      "beam 19\tdo you have a small light grey dot with a large black dot to the right of it and a small black dot above and to the left of it ?\n",
      "greedy\ti have a small light grey dot with a smaller black dot to the right of it . i have a small black dot to the right of it . <eos>\n",
      "human\tthat sounds like a match ! just <unk> two of my tiny grey dots , one is directly above that black dot ( far ) and one is far to the left of it . should we choose the black one ? <eos>\n",
      "refs_pred\n"
     ]
    },
    {
     "data": {
      "text/html": [
       "<div style=\"white-space: nowrap\"><svg viewbox='0 0 430 430' width=\"172\" height=\"172\" id=\"agent_0\"><circle cx=\"215\" cy=\"215\" r=\"205\" fill=\"none\" stroke=\"black\" stroke-width=\"2\" stroke-dasharray=\"3,3\"/><circle cx=\"345\" cy=\"327\" r=\"11\" fill=\"rgb(135,135,135)\"/><circle cx=\"214\" cy=\"354\" r=\"13\" fill=\"rgb(58,58,58)\"/><circle cx=\"49\" cy=\"139\" r=\"8\" fill=\"rgb(195,195,195)\"/><circle cx=\"72\" cy=\"324\" r=\"9\" fill=\"rgb(197,197,197)\"/><circle cx=\"348\" cy=\"84\" r=\"12\" fill=\"rgb(66,66,66)\"/><circle cx=\"381\" cy=\"224\" r=\"10\" fill=\"rgb(96,96,96)\"/><circle cx=\"223\" cy=\"169\" r=\"9\" fill=\"rgb(183,183,183)\"/></svg><svg viewBox='0 0 430 430' id=\"svg\" width=\"172\" height=\"172\"><circle cx=\"215\" cy=\"215\" r=\"205\" fill=\"none\" stroke=\"black\" stroke-width=\"2\" stroke-dasharray=\"3,3\"/> <circle cx=\"345\" cy=\"327\" r=\"11\" fill=\"rgb(255,255,255)\" class=\"agent_0_6\"/><circle cx=\"214\" cy=\"354\" r=\"13\" fill=\"rgb(255,255,255)\" class=\"agent_0_12\"/><circle cx=\"49\" cy=\"139\" r=\"8\" fill=\"rgb(255,0,0)\" class=\"agent_0_20\"/><circle cx=\"72\" cy=\"324\" r=\"9\" fill=\"rgb(255,255,255)\" class=\"agent_0_48\"/><circle cx=\"348\" cy=\"84\" r=\"12\" fill=\"rgb(255,255,255)\" class=\"agent_0_50\"/><circle cx=\"381\" cy=\"224\" r=\"10\" fill=\"rgb(255,255,255)\" class=\"agent_0_63\"/><circle cx=\"223\" cy=\"169\" r=\"9\" fill=\"rgb(255,0,0)\" class=\"agent_0_65\"/></svg><svg viewBox='0 0 430 430' id=\"svg\" width=\"172\" height=\"172\"><circle cx=\"215\" cy=\"215\" r=\"205\" fill=\"none\" stroke=\"black\" stroke-width=\"2\" stroke-dasharray=\"3,3\"/> <circle cx=\"345\" cy=\"327\" r=\"11\" fill=\"rgb(255,255,255)\" class=\"agent_0_6\"/><circle cx=\"214\" cy=\"354\" r=\"13\" fill=\"rgb(255,255,255)\" class=\"agent_0_12\"/><circle cx=\"49\" cy=\"139\" r=\"8\" fill=\"rgb(255,255,255)\" class=\"agent_0_20\"/><circle cx=\"72\" cy=\"324\" r=\"9\" fill=\"rgb(255,255,255)\" class=\"agent_0_48\"/><circle cx=\"348\" cy=\"84\" r=\"12\" fill=\"rgb(255,255,255)\" class=\"agent_0_50\"/><circle cx=\"381\" cy=\"224\" r=\"10\" fill=\"rgb(255,255,255)\" class=\"agent_0_63\"/><circle cx=\"223\" cy=\"169\" r=\"9\" fill=\"rgb(255,255,255)\" class=\"agent_0_65\"/></svg><svg viewBox='0 0 430 430' id=\"svg\" width=\"172\" height=\"172\"><circle cx=\"215\" cy=\"215\" r=\"205\" fill=\"none\" stroke=\"black\" stroke-width=\"2\" stroke-dasharray=\"3,3\"/> <circle cx=\"345\" cy=\"327\" r=\"11\" fill=\"rgb(255,255,255)\" class=\"agent_0_6\"/><circle cx=\"214\" cy=\"354\" r=\"13\" fill=\"rgb(255,0,0)\" class=\"agent_0_12\"/><circle cx=\"49\" cy=\"139\" r=\"8\" fill=\"rgb(255,255,255)\" class=\"agent_0_20\"/><circle cx=\"72\" cy=\"324\" r=\"9\" fill=\"rgb(255,255,255)\" class=\"agent_0_48\"/><circle cx=\"348\" cy=\"84\" r=\"12\" fill=\"rgb(255,255,255)\" class=\"agent_0_50\"/><circle cx=\"381\" cy=\"224\" r=\"10\" fill=\"rgb(255,255,255)\" class=\"agent_0_63\"/><circle cx=\"223\" cy=\"169\" r=\"9\" fill=\"rgb(255,255,255)\" class=\"agent_0_65\"/></svg><svg viewBox='0 0 430 430' id=\"svg\" width=\"172\" height=\"172\"><circle cx=\"215\" cy=\"215\" r=\"205\" fill=\"none\" stroke=\"black\" stroke-width=\"2\" stroke-dasharray=\"3,3\"/> <circle cx=\"345\" cy=\"327\" r=\"11\" fill=\"rgb(255,0,0)\" class=\"agent_0_6\"/><circle cx=\"214\" cy=\"354\" r=\"13\" fill=\"rgb(255,255,255)\" class=\"agent_0_12\"/><circle cx=\"49\" cy=\"139\" r=\"8\" fill=\"rgb(255,255,255)\" class=\"agent_0_20\"/><circle cx=\"72\" cy=\"324\" r=\"9\" fill=\"rgb(255,255,255)\" class=\"agent_0_48\"/><circle cx=\"348\" cy=\"84\" r=\"12\" fill=\"rgb(255,255,255)\" class=\"agent_0_50\"/><circle cx=\"381\" cy=\"224\" r=\"10\" fill=\"rgb(255,255,255)\" class=\"agent_0_63\"/><circle cx=\"223\" cy=\"169\" r=\"9\" fill=\"rgb(255,255,255)\" class=\"agent_0_65\"/></svg><svg viewBox='0 0 430 430' id=\"svg\" width=\"172\" height=\"172\"><circle cx=\"215\" cy=\"215\" r=\"205\" fill=\"none\" stroke=\"black\" stroke-width=\"2\" stroke-dasharray=\"3,3\"/> <circle cx=\"345\" cy=\"327\" r=\"11\" fill=\"rgb(255,255,255)\" class=\"agent_0_6\"/><circle cx=\"214\" cy=\"354\" r=\"13\" fill=\"rgb(255,0,0)\" class=\"agent_0_12\"/><circle cx=\"49\" cy=\"139\" r=\"8\" fill=\"rgb(255,255,255)\" class=\"agent_0_20\"/><circle cx=\"72\" cy=\"324\" r=\"9\" fill=\"rgb(255,255,255)\" class=\"agent_0_48\"/><circle cx=\"348\" cy=\"84\" r=\"12\" fill=\"rgb(255,255,255)\" class=\"agent_0_50\"/><circle cx=\"381\" cy=\"224\" r=\"10\" fill=\"rgb(255,255,255)\" class=\"agent_0_63\"/><circle cx=\"223\" cy=\"169\" r=\"9\" fill=\"rgb(255,255,255)\" class=\"agent_0_65\"/></svg><svg viewBox='0 0 430 430' id=\"svg\" width=\"172\" height=\"172\"><circle cx=\"215\" cy=\"215\" r=\"205\" fill=\"none\" stroke=\"black\" stroke-width=\"2\" stroke-dasharray=\"3,3\"/> <circle cx=\"345\" cy=\"327\" r=\"11\" fill=\"rgb(255,255,255)\" class=\"agent_0_6\"/><circle cx=\"214\" cy=\"354\" r=\"13\" fill=\"rgb(255,0,0)\" class=\"agent_0_12\"/><circle cx=\"49\" cy=\"139\" r=\"8\" fill=\"rgb(255,255,255)\" class=\"agent_0_20\"/><circle cx=\"72\" cy=\"324\" r=\"9\" fill=\"rgb(255,255,255)\" class=\"agent_0_48\"/><circle cx=\"348\" cy=\"84\" r=\"12\" fill=\"rgb(255,255,255)\" class=\"agent_0_50\"/><circle cx=\"381\" cy=\"224\" r=\"10\" fill=\"rgb(255,255,255)\" class=\"agent_0_63\"/><circle cx=\"223\" cy=\"169\" r=\"9\" fill=\"rgb(255,255,255)\" class=\"agent_0_65\"/></svg></div>"
      ],
      "text/plain": [
       "<IPython.core.display.HTML object>"
      ]
     },
     "metadata": {},
     "output_type": "display_data"
    },
    {
     "name": "stdout",
     "output_type": "stream",
     "text": [
      "refs_true\n"
     ]
    },
    {
     "data": {
      "text/html": [
       "<div style=\"white-space: nowrap\"><svg viewbox='0 0 430 430' width=\"172\" height=\"172\" id=\"agent_0\"><circle cx=\"215\" cy=\"215\" r=\"205\" fill=\"none\" stroke=\"black\" stroke-width=\"2\" stroke-dasharray=\"3,3\"/><circle cx=\"345\" cy=\"327\" r=\"11\" fill=\"rgb(135,135,135)\"/><circle cx=\"214\" cy=\"354\" r=\"13\" fill=\"rgb(58,58,58)\"/><circle cx=\"49\" cy=\"139\" r=\"8\" fill=\"rgb(195,195,195)\"/><circle cx=\"72\" cy=\"324\" r=\"9\" fill=\"rgb(197,197,197)\"/><circle cx=\"348\" cy=\"84\" r=\"12\" fill=\"rgb(66,66,66)\"/><circle cx=\"381\" cy=\"224\" r=\"10\" fill=\"rgb(96,96,96)\"/><circle cx=\"223\" cy=\"169\" r=\"9\" fill=\"rgb(183,183,183)\"/></svg><svg viewBox='0 0 430 430' id=\"svg\" width=\"172\" height=\"172\"><circle cx=\"215\" cy=\"215\" r=\"205\" fill=\"none\" stroke=\"black\" stroke-width=\"2\" stroke-dasharray=\"3,3\"/> <circle cx=\"345\" cy=\"327\" r=\"11\" fill=\"rgb(255,255,255)\" class=\"agent_0_6\"/><circle cx=\"214\" cy=\"354\" r=\"13\" fill=\"rgb(255,255,255)\" class=\"agent_0_12\"/><circle cx=\"49\" cy=\"139\" r=\"8\" fill=\"rgb(255,0,0)\" class=\"agent_0_20\"/><circle cx=\"72\" cy=\"324\" r=\"9\" fill=\"rgb(255,255,255)\" class=\"agent_0_48\"/><circle cx=\"348\" cy=\"84\" r=\"12\" fill=\"rgb(255,255,255)\" class=\"agent_0_50\"/><circle cx=\"381\" cy=\"224\" r=\"10\" fill=\"rgb(255,255,255)\" class=\"agent_0_63\"/><circle cx=\"223\" cy=\"169\" r=\"9\" fill=\"rgb(255,0,0)\" class=\"agent_0_65\"/></svg><svg viewBox='0 0 430 430' id=\"svg\" width=\"172\" height=\"172\"><circle cx=\"215\" cy=\"215\" r=\"205\" fill=\"none\" stroke=\"black\" stroke-width=\"2\" stroke-dasharray=\"3,3\"/> <circle cx=\"345\" cy=\"327\" r=\"11\" fill=\"rgb(255,255,255)\" class=\"agent_0_6\"/><circle cx=\"214\" cy=\"354\" r=\"13\" fill=\"rgb(255,255,255)\" class=\"agent_0_12\"/><circle cx=\"49\" cy=\"139\" r=\"8\" fill=\"rgb(255,255,255)\" class=\"agent_0_20\"/><circle cx=\"72\" cy=\"324\" r=\"9\" fill=\"rgb(255,255,255)\" class=\"agent_0_48\"/><circle cx=\"348\" cy=\"84\" r=\"12\" fill=\"rgb(255,255,255)\" class=\"agent_0_50\"/><circle cx=\"381\" cy=\"224\" r=\"10\" fill=\"rgb(255,255,255)\" class=\"agent_0_63\"/><circle cx=\"223\" cy=\"169\" r=\"9\" fill=\"rgb(255,0,0)\" class=\"agent_0_65\"/></svg><svg viewBox='0 0 430 430' id=\"svg\" width=\"172\" height=\"172\"><circle cx=\"215\" cy=\"215\" r=\"205\" fill=\"none\" stroke=\"black\" stroke-width=\"2\" stroke-dasharray=\"3,3\"/> <circle cx=\"345\" cy=\"327\" r=\"11\" fill=\"rgb(255,255,255)\" class=\"agent_0_6\"/><circle cx=\"214\" cy=\"354\" r=\"13\" fill=\"rgb(255,0,0)\" class=\"agent_0_12\"/><circle cx=\"49\" cy=\"139\" r=\"8\" fill=\"rgb(255,255,255)\" class=\"agent_0_20\"/><circle cx=\"72\" cy=\"324\" r=\"9\" fill=\"rgb(255,255,255)\" class=\"agent_0_48\"/><circle cx=\"348\" cy=\"84\" r=\"12\" fill=\"rgb(255,255,255)\" class=\"agent_0_50\"/><circle cx=\"381\" cy=\"224\" r=\"10\" fill=\"rgb(255,255,255)\" class=\"agent_0_63\"/><circle cx=\"223\" cy=\"169\" r=\"9\" fill=\"rgb(255,255,255)\" class=\"agent_0_65\"/></svg><svg viewBox='0 0 430 430' id=\"svg\" width=\"172\" height=\"172\"><circle cx=\"215\" cy=\"215\" r=\"205\" fill=\"none\" stroke=\"black\" stroke-width=\"2\" stroke-dasharray=\"3,3\"/> <circle cx=\"345\" cy=\"327\" r=\"11\" fill=\"rgb(255,255,255)\" class=\"agent_0_6\"/><circle cx=\"214\" cy=\"354\" r=\"13\" fill=\"rgb(255,255,255)\" class=\"agent_0_12\"/><circle cx=\"49\" cy=\"139\" r=\"8\" fill=\"rgb(255,0,0)\" class=\"agent_0_20\"/><circle cx=\"72\" cy=\"324\" r=\"9\" fill=\"rgb(255,255,255)\" class=\"agent_0_48\"/><circle cx=\"348\" cy=\"84\" r=\"12\" fill=\"rgb(255,255,255)\" class=\"agent_0_50\"/><circle cx=\"381\" cy=\"224\" r=\"10\" fill=\"rgb(255,255,255)\" class=\"agent_0_63\"/><circle cx=\"223\" cy=\"169\" r=\"9\" fill=\"rgb(255,255,255)\" class=\"agent_0_65\"/></svg><svg viewBox='0 0 430 430' id=\"svg\" width=\"172\" height=\"172\"><circle cx=\"215\" cy=\"215\" r=\"205\" fill=\"none\" stroke=\"black\" stroke-width=\"2\" stroke-dasharray=\"3,3\"/> <circle cx=\"345\" cy=\"327\" r=\"11\" fill=\"rgb(255,255,255)\" class=\"agent_0_6\"/><circle cx=\"214\" cy=\"354\" r=\"13\" fill=\"rgb(255,0,0)\" class=\"agent_0_12\"/><circle cx=\"49\" cy=\"139\" r=\"8\" fill=\"rgb(255,255,255)\" class=\"agent_0_20\"/><circle cx=\"72\" cy=\"324\" r=\"9\" fill=\"rgb(255,255,255)\" class=\"agent_0_48\"/><circle cx=\"348\" cy=\"84\" r=\"12\" fill=\"rgb(255,255,255)\" class=\"agent_0_50\"/><circle cx=\"381\" cy=\"224\" r=\"10\" fill=\"rgb(255,255,255)\" class=\"agent_0_63\"/><circle cx=\"223\" cy=\"169\" r=\"9\" fill=\"rgb(255,255,255)\" class=\"agent_0_65\"/></svg><svg viewBox='0 0 430 430' id=\"svg\" width=\"172\" height=\"172\"><circle cx=\"215\" cy=\"215\" r=\"205\" fill=\"none\" stroke=\"black\" stroke-width=\"2\" stroke-dasharray=\"3,3\"/> <circle cx=\"345\" cy=\"327\" r=\"11\" fill=\"rgb(255,255,255)\" class=\"agent_0_6\"/><circle cx=\"214\" cy=\"354\" r=\"13\" fill=\"rgb(255,0,0)\" class=\"agent_0_12\"/><circle cx=\"49\" cy=\"139\" r=\"8\" fill=\"rgb(255,255,255)\" class=\"agent_0_20\"/><circle cx=\"72\" cy=\"324\" r=\"9\" fill=\"rgb(255,255,255)\" class=\"agent_0_48\"/><circle cx=\"348\" cy=\"84\" r=\"12\" fill=\"rgb(255,255,255)\" class=\"agent_0_50\"/><circle cx=\"381\" cy=\"224\" r=\"10\" fill=\"rgb(255,255,255)\" class=\"agent_0_63\"/><circle cx=\"223\" cy=\"169\" r=\"9\" fill=\"rgb(255,255,255)\" class=\"agent_0_65\"/></svg></div>"
      ],
      "text/plain": [
       "<IPython.core.display.HTML object>"
      ]
     },
     "metadata": {},
     "output_type": "display_data"
    },
    {
     "name": "stdout",
     "output_type": "stream",
     "text": [
      "\n",
      "----------------------------------------\n",
      "\n",
      "human\tTHEM: ok <selection>\n",
      "\n",
      "----------------------------------------\n",
      "\n"
     ]
    }
   ],
   "source": [
    "force_contexts_and_mentions(7)"
   ]
  },
  {
   "cell_type": "code",
   "execution_count": 64,
   "metadata": {
    "scrolled": false
   },
   "outputs": [
    {
     "name": "stdout",
     "output_type": "stream",
     "text": [
      "human\tTHEM: i have two larger dots . one is pale and northeast of the other dots . the other is dark and southeast of the others . <eos>\n",
      "partner_refs_pred\n"
     ]
    },
    {
     "data": {
      "text/html": [
       "<div style=\"white-space: nowrap\"><svg viewbox='0 0 430 430' width=\"172\" height=\"172\" id=\"agent_0\"><circle cx=\"215\" cy=\"215\" r=\"205\" fill=\"none\" stroke=\"black\" stroke-width=\"2\" stroke-dasharray=\"3,3\"/><circle cx=\"227\" cy=\"346\" r=\"8\" fill=\"rgb(101,101,101)\"/><circle cx=\"265\" cy=\"386\" r=\"11\" fill=\"rgb(172,172,172)\"/><circle cx=\"186\" cy=\"24\" r=\"9\" fill=\"rgb(148,148,148)\"/><circle cx=\"351\" cy=\"206\" r=\"12\" fill=\"rgb(173,173,173)\"/><circle cx=\"140\" cy=\"394\" r=\"9\" fill=\"rgb(148,148,148)\"/><circle cx=\"56\" cy=\"261\" r=\"9\" fill=\"rgb(122,122,122)\"/><circle cx=\"182\" cy=\"106\" r=\"11\" fill=\"rgb(197,197,197)\"/></svg><svg viewBox='0 0 430 430' id=\"svg\" width=\"172\" height=\"172\"><circle cx=\"215\" cy=\"215\" r=\"205\" fill=\"none\" stroke=\"black\" stroke-width=\"2\" stroke-dasharray=\"3,3\"/> <circle cx=\"227\" cy=\"346\" r=\"8\" fill=\"rgb(255,255,255)\" class=\"agent_0_17\"/><circle cx=\"265\" cy=\"386\" r=\"11\" fill=\"rgb(255,255,255)\" class=\"agent_0_24\"/><circle cx=\"186\" cy=\"24\" r=\"9\" fill=\"rgb(255,255,255)\" class=\"agent_0_29\"/><circle cx=\"351\" cy=\"206\" r=\"12\" fill=\"rgb(255,255,255)\" class=\"agent_0_32\"/><circle cx=\"140\" cy=\"394\" r=\"9\" fill=\"rgb(255,255,255)\" class=\"agent_0_35\"/><circle cx=\"56\" cy=\"261\" r=\"9\" fill=\"rgb(255,255,255)\" class=\"agent_0_46\"/><circle cx=\"182\" cy=\"106\" r=\"11\" fill=\"rgb(255,255,255)\" class=\"agent_0_72\"/></svg><svg viewBox='0 0 430 430' id=\"svg\" width=\"172\" height=\"172\"><circle cx=\"215\" cy=\"215\" r=\"205\" fill=\"none\" stroke=\"black\" stroke-width=\"2\" stroke-dasharray=\"3,3\"/> <circle cx=\"227\" cy=\"346\" r=\"8\" fill=\"rgb(255,255,255)\" class=\"agent_0_17\"/><circle cx=\"265\" cy=\"386\" r=\"11\" fill=\"rgb(255,255,255)\" class=\"agent_0_24\"/><circle cx=\"186\" cy=\"24\" r=\"9\" fill=\"rgb(255,255,255)\" class=\"agent_0_29\"/><circle cx=\"351\" cy=\"206\" r=\"12\" fill=\"rgb(255,255,255)\" class=\"agent_0_32\"/><circle cx=\"140\" cy=\"394\" r=\"9\" fill=\"rgb(255,255,255)\" class=\"agent_0_35\"/><circle cx=\"56\" cy=\"261\" r=\"9\" fill=\"rgb(255,255,255)\" class=\"agent_0_46\"/><circle cx=\"182\" cy=\"106\" r=\"11\" fill=\"rgb(255,255,255)\" class=\"agent_0_72\"/></svg><svg viewBox='0 0 430 430' id=\"svg\" width=\"172\" height=\"172\"><circle cx=\"215\" cy=\"215\" r=\"205\" fill=\"none\" stroke=\"black\" stroke-width=\"2\" stroke-dasharray=\"3,3\"/> <circle cx=\"227\" cy=\"346\" r=\"8\" fill=\"rgb(255,255,255)\" class=\"agent_0_17\"/><circle cx=\"265\" cy=\"386\" r=\"11\" fill=\"rgb(255,255,255)\" class=\"agent_0_24\"/><circle cx=\"186\" cy=\"24\" r=\"9\" fill=\"rgb(255,255,255)\" class=\"agent_0_29\"/><circle cx=\"351\" cy=\"206\" r=\"12\" fill=\"rgb(255,0,0)\" class=\"agent_0_32\"/><circle cx=\"140\" cy=\"394\" r=\"9\" fill=\"rgb(255,255,255)\" class=\"agent_0_35\"/><circle cx=\"56\" cy=\"261\" r=\"9\" fill=\"rgb(255,255,255)\" class=\"agent_0_46\"/><circle cx=\"182\" cy=\"106\" r=\"11\" fill=\"rgb(255,255,255)\" class=\"agent_0_72\"/></svg><svg viewBox='0 0 430 430' id=\"svg\" width=\"172\" height=\"172\"><circle cx=\"215\" cy=\"215\" r=\"205\" fill=\"none\" stroke=\"black\" stroke-width=\"2\" stroke-dasharray=\"3,3\"/> <circle cx=\"227\" cy=\"346\" r=\"8\" fill=\"rgb(255,255,255)\" class=\"agent_0_17\"/><circle cx=\"265\" cy=\"386\" r=\"11\" fill=\"rgb(255,255,255)\" class=\"agent_0_24\"/><circle cx=\"186\" cy=\"24\" r=\"9\" fill=\"rgb(255,255,255)\" class=\"agent_0_29\"/><circle cx=\"351\" cy=\"206\" r=\"12\" fill=\"rgb(255,255,255)\" class=\"agent_0_32\"/><circle cx=\"140\" cy=\"394\" r=\"9\" fill=\"rgb(255,255,255)\" class=\"agent_0_35\"/><circle cx=\"56\" cy=\"261\" r=\"9\" fill=\"rgb(255,255,255)\" class=\"agent_0_46\"/><circle cx=\"182\" cy=\"106\" r=\"11\" fill=\"rgb(255,255,255)\" class=\"agent_0_72\"/></svg><svg viewBox='0 0 430 430' id=\"svg\" width=\"172\" height=\"172\"><circle cx=\"215\" cy=\"215\" r=\"205\" fill=\"none\" stroke=\"black\" stroke-width=\"2\" stroke-dasharray=\"3,3\"/> <circle cx=\"227\" cy=\"346\" r=\"8\" fill=\"rgb(255,255,255)\" class=\"agent_0_17\"/><circle cx=\"265\" cy=\"386\" r=\"11\" fill=\"rgb(255,255,255)\" class=\"agent_0_24\"/><circle cx=\"186\" cy=\"24\" r=\"9\" fill=\"rgb(255,255,255)\" class=\"agent_0_29\"/><circle cx=\"351\" cy=\"206\" r=\"12\" fill=\"rgb(255,0,0)\" class=\"agent_0_32\"/><circle cx=\"140\" cy=\"394\" r=\"9\" fill=\"rgb(255,255,255)\" class=\"agent_0_35\"/><circle cx=\"56\" cy=\"261\" r=\"9\" fill=\"rgb(255,255,255)\" class=\"agent_0_46\"/><circle cx=\"182\" cy=\"106\" r=\"11\" fill=\"rgb(255,255,255)\" class=\"agent_0_72\"/></svg></div>"
      ],
      "text/plain": [
       "<IPython.core.display.HTML object>"
      ]
     },
     "metadata": {},
     "output_type": "display_data"
    },
    {
     "name": "stdout",
     "output_type": "stream",
     "text": [
      "partner_refs_true\n"
     ]
    },
    {
     "data": {
      "text/html": [
       "<div style=\"white-space: nowrap\"><svg viewbox='0 0 430 430' width=\"172\" height=\"172\" id=\"agent_0\"><circle cx=\"215\" cy=\"215\" r=\"205\" fill=\"none\" stroke=\"black\" stroke-width=\"2\" stroke-dasharray=\"3,3\"/><circle cx=\"227\" cy=\"346\" r=\"8\" fill=\"rgb(101,101,101)\"/><circle cx=\"265\" cy=\"386\" r=\"11\" fill=\"rgb(172,172,172)\"/><circle cx=\"186\" cy=\"24\" r=\"9\" fill=\"rgb(148,148,148)\"/><circle cx=\"351\" cy=\"206\" r=\"12\" fill=\"rgb(173,173,173)\"/><circle cx=\"140\" cy=\"394\" r=\"9\" fill=\"rgb(148,148,148)\"/><circle cx=\"56\" cy=\"261\" r=\"9\" fill=\"rgb(122,122,122)\"/><circle cx=\"182\" cy=\"106\" r=\"11\" fill=\"rgb(197,197,197)\"/></svg><svg viewBox='0 0 430 430' id=\"svg\" width=\"172\" height=\"172\"><circle cx=\"215\" cy=\"215\" r=\"205\" fill=\"none\" stroke=\"black\" stroke-width=\"2\" stroke-dasharray=\"3,3\"/> <circle cx=\"227\" cy=\"346\" r=\"8\" fill=\"rgb(255,255,255)\" class=\"agent_0_17\"/><circle cx=\"265\" cy=\"386\" r=\"11\" fill=\"rgb(255,255,255)\" class=\"agent_0_24\"/><circle cx=\"186\" cy=\"24\" r=\"9\" fill=\"rgb(255,255,255)\" class=\"agent_0_29\"/><circle cx=\"351\" cy=\"206\" r=\"12\" fill=\"rgb(255,0,0)\" class=\"agent_0_32\"/><circle cx=\"140\" cy=\"394\" r=\"9\" fill=\"rgb(255,255,255)\" class=\"agent_0_35\"/><circle cx=\"56\" cy=\"261\" r=\"9\" fill=\"rgb(255,255,255)\" class=\"agent_0_46\"/><circle cx=\"182\" cy=\"106\" r=\"11\" fill=\"rgb(255,255,255)\" class=\"agent_0_72\"/></svg><svg viewBox='0 0 430 430' id=\"svg\" width=\"172\" height=\"172\"><circle cx=\"215\" cy=\"215\" r=\"205\" fill=\"none\" stroke=\"black\" stroke-width=\"2\" stroke-dasharray=\"3,3\"/> <circle cx=\"227\" cy=\"346\" r=\"8\" fill=\"rgb(255,255,255)\" class=\"agent_0_17\"/><circle cx=\"265\" cy=\"386\" r=\"11\" fill=\"rgb(255,255,255)\" class=\"agent_0_24\"/><circle cx=\"186\" cy=\"24\" r=\"9\" fill=\"rgb(255,255,255)\" class=\"agent_0_29\"/><circle cx=\"351\" cy=\"206\" r=\"12\" fill=\"rgb(255,0,0)\" class=\"agent_0_32\"/><circle cx=\"140\" cy=\"394\" r=\"9\" fill=\"rgb(255,255,255)\" class=\"agent_0_35\"/><circle cx=\"56\" cy=\"261\" r=\"9\" fill=\"rgb(255,255,255)\" class=\"agent_0_46\"/><circle cx=\"182\" cy=\"106\" r=\"11\" fill=\"rgb(255,255,255)\" class=\"agent_0_72\"/></svg><svg viewBox='0 0 430 430' id=\"svg\" width=\"172\" height=\"172\"><circle cx=\"215\" cy=\"215\" r=\"205\" fill=\"none\" stroke=\"black\" stroke-width=\"2\" stroke-dasharray=\"3,3\"/> <circle cx=\"227\" cy=\"346\" r=\"8\" fill=\"rgb(255,0,0)\" class=\"agent_0_17\"/><circle cx=\"265\" cy=\"386\" r=\"11\" fill=\"rgb(255,0,0)\" class=\"agent_0_24\"/><circle cx=\"186\" cy=\"24\" r=\"9\" fill=\"rgb(255,255,255)\" class=\"agent_0_29\"/><circle cx=\"351\" cy=\"206\" r=\"12\" fill=\"rgb(255,255,255)\" class=\"agent_0_32\"/><circle cx=\"140\" cy=\"394\" r=\"9\" fill=\"rgb(255,0,0)\" class=\"agent_0_35\"/><circle cx=\"56\" cy=\"261\" r=\"9\" fill=\"rgb(255,0,0)\" class=\"agent_0_46\"/><circle cx=\"182\" cy=\"106\" r=\"11\" fill=\"rgb(255,255,255)\" class=\"agent_0_72\"/></svg><svg viewBox='0 0 430 430' id=\"svg\" width=\"172\" height=\"172\"><circle cx=\"215\" cy=\"215\" r=\"205\" fill=\"none\" stroke=\"black\" stroke-width=\"2\" stroke-dasharray=\"3,3\"/> <circle cx=\"227\" cy=\"346\" r=\"8\" fill=\"rgb(255,255,255)\" class=\"agent_0_17\"/><circle cx=\"265\" cy=\"386\" r=\"11\" fill=\"rgb(255,255,255)\" class=\"agent_0_24\"/><circle cx=\"186\" cy=\"24\" r=\"9\" fill=\"rgb(255,255,255)\" class=\"agent_0_29\"/><circle cx=\"351\" cy=\"206\" r=\"12\" fill=\"rgb(255,255,255)\" class=\"agent_0_32\"/><circle cx=\"140\" cy=\"394\" r=\"9\" fill=\"rgb(255,255,255)\" class=\"agent_0_35\"/><circle cx=\"56\" cy=\"261\" r=\"9\" fill=\"rgb(255,255,255)\" class=\"agent_0_46\"/><circle cx=\"182\" cy=\"106\" r=\"11\" fill=\"rgb(255,255,255)\" class=\"agent_0_72\"/></svg><svg viewBox='0 0 430 430' id=\"svg\" width=\"172\" height=\"172\"><circle cx=\"215\" cy=\"215\" r=\"205\" fill=\"none\" stroke=\"black\" stroke-width=\"2\" stroke-dasharray=\"3,3\"/> <circle cx=\"227\" cy=\"346\" r=\"8\" fill=\"rgb(255,0,0)\" class=\"agent_0_17\"/><circle cx=\"265\" cy=\"386\" r=\"11\" fill=\"rgb(255,0,0)\" class=\"agent_0_24\"/><circle cx=\"186\" cy=\"24\" r=\"9\" fill=\"rgb(255,255,255)\" class=\"agent_0_29\"/><circle cx=\"351\" cy=\"206\" r=\"12\" fill=\"rgb(255,0,0)\" class=\"agent_0_32\"/><circle cx=\"140\" cy=\"394\" r=\"9\" fill=\"rgb(255,0,0)\" class=\"agent_0_35\"/><circle cx=\"56\" cy=\"261\" r=\"9\" fill=\"rgb(255,0,0)\" class=\"agent_0_46\"/><circle cx=\"182\" cy=\"106\" r=\"11\" fill=\"rgb(255,255,255)\" class=\"agent_0_72\"/></svg></div>"
      ],
      "text/plain": [
       "<IPython.core.display.HTML object>"
      ]
     },
     "metadata": {},
     "output_type": "display_data"
    },
    {
     "name": "stdout",
     "output_type": "stream",
     "text": [
      "\n",
      "----------------------------------------\n",
      "\n",
      "to_mention_pred\n"
     ]
    },
    {
     "data": {
      "text/html": [
       "<div style=\"white-space: nowrap\"><svg viewbox='0 0 430 430' width=\"172\" height=\"172\" id=\"agent_0\"><circle cx=\"215\" cy=\"215\" r=\"205\" fill=\"none\" stroke=\"black\" stroke-width=\"2\" stroke-dasharray=\"3,3\"/><circle cx=\"227\" cy=\"346\" r=\"8\" fill=\"rgb(101,101,101)\"/><circle cx=\"265\" cy=\"386\" r=\"11\" fill=\"rgb(172,172,172)\"/><circle cx=\"186\" cy=\"24\" r=\"9\" fill=\"rgb(148,148,148)\"/><circle cx=\"351\" cy=\"206\" r=\"12\" fill=\"rgb(173,173,173)\"/><circle cx=\"140\" cy=\"394\" r=\"9\" fill=\"rgb(148,148,148)\"/><circle cx=\"56\" cy=\"261\" r=\"9\" fill=\"rgb(122,122,122)\"/><circle cx=\"182\" cy=\"106\" r=\"11\" fill=\"rgb(197,197,197)\"/></svg><svg viewBox='0 0 430 430' id=\"svg\" width=\"172\" height=\"172\"><circle cx=\"215\" cy=\"215\" r=\"205\" fill=\"none\" stroke=\"black\" stroke-width=\"2\" stroke-dasharray=\"3,3\"/> <circle cx=\"227\" cy=\"346\" r=\"8\" fill=\"rgb(255,255,255)\" class=\"agent_0_17\"/><circle cx=\"265\" cy=\"386\" r=\"11\" fill=\"rgb(255,255,255)\" class=\"agent_0_24\"/><circle cx=\"186\" cy=\"24\" r=\"9\" fill=\"rgb(255,255,255)\" class=\"agent_0_29\"/><circle cx=\"351\" cy=\"206\" r=\"12\" fill=\"rgb(255,255,255)\" class=\"agent_0_32\"/><circle cx=\"140\" cy=\"394\" r=\"9\" fill=\"rgb(255,255,255)\" class=\"agent_0_35\"/><circle cx=\"56\" cy=\"261\" r=\"9\" fill=\"rgb(255,255,255)\" class=\"agent_0_46\"/><circle cx=\"182\" cy=\"106\" r=\"11\" fill=\"rgb(255,255,255)\" class=\"agent_0_72\"/></svg><svg viewBox='0 0 430 430' id=\"svg\" width=\"172\" height=\"172\"><circle cx=\"215\" cy=\"215\" r=\"205\" fill=\"none\" stroke=\"black\" stroke-width=\"2\" stroke-dasharray=\"3,3\"/> <circle cx=\"227\" cy=\"346\" r=\"8\" fill=\"rgb(255,255,255)\" class=\"agent_0_17\"/><circle cx=\"265\" cy=\"386\" r=\"11\" fill=\"rgb(255,0,0)\" class=\"agent_0_24\"/><circle cx=\"186\" cy=\"24\" r=\"9\" fill=\"rgb(255,255,255)\" class=\"agent_0_29\"/><circle cx=\"351\" cy=\"206\" r=\"12\" fill=\"rgb(255,255,255)\" class=\"agent_0_32\"/><circle cx=\"140\" cy=\"394\" r=\"9\" fill=\"rgb(255,255,255)\" class=\"agent_0_35\"/><circle cx=\"56\" cy=\"261\" r=\"9\" fill=\"rgb(255,255,255)\" class=\"agent_0_46\"/><circle cx=\"182\" cy=\"106\" r=\"11\" fill=\"rgb(255,255,255)\" class=\"agent_0_72\"/></svg><svg viewBox='0 0 430 430' id=\"svg\" width=\"172\" height=\"172\"><circle cx=\"215\" cy=\"215\" r=\"205\" fill=\"none\" stroke=\"black\" stroke-width=\"2\" stroke-dasharray=\"3,3\"/> <circle cx=\"227\" cy=\"346\" r=\"8\" fill=\"rgb(255,0,0)\" class=\"agent_0_17\"/><circle cx=\"265\" cy=\"386\" r=\"11\" fill=\"rgb(255,255,255)\" class=\"agent_0_24\"/><circle cx=\"186\" cy=\"24\" r=\"9\" fill=\"rgb(255,255,255)\" class=\"agent_0_29\"/><circle cx=\"351\" cy=\"206\" r=\"12\" fill=\"rgb(255,255,255)\" class=\"agent_0_32\"/><circle cx=\"140\" cy=\"394\" r=\"9\" fill=\"rgb(255,255,255)\" class=\"agent_0_35\"/><circle cx=\"56\" cy=\"261\" r=\"9\" fill=\"rgb(255,255,255)\" class=\"agent_0_46\"/><circle cx=\"182\" cy=\"106\" r=\"11\" fill=\"rgb(255,255,255)\" class=\"agent_0_72\"/></svg></div>"
      ],
      "text/plain": [
       "<IPython.core.display.HTML object>"
      ]
     },
     "metadata": {},
     "output_type": "display_data"
    },
    {
     "name": "stdout",
     "output_type": "stream",
     "text": [
      "to_mention_true\n"
     ]
    },
    {
     "data": {
      "text/html": [
       "<div style=\"white-space: nowrap\"><svg viewbox='0 0 430 430' width=\"172\" height=\"172\" id=\"agent_0\"><circle cx=\"215\" cy=\"215\" r=\"205\" fill=\"none\" stroke=\"black\" stroke-width=\"2\" stroke-dasharray=\"3,3\"/><circle cx=\"227\" cy=\"346\" r=\"8\" fill=\"rgb(101,101,101)\"/><circle cx=\"265\" cy=\"386\" r=\"11\" fill=\"rgb(172,172,172)\"/><circle cx=\"186\" cy=\"24\" r=\"9\" fill=\"rgb(148,148,148)\"/><circle cx=\"351\" cy=\"206\" r=\"12\" fill=\"rgb(173,173,173)\"/><circle cx=\"140\" cy=\"394\" r=\"9\" fill=\"rgb(148,148,148)\"/><circle cx=\"56\" cy=\"261\" r=\"9\" fill=\"rgb(122,122,122)\"/><circle cx=\"182\" cy=\"106\" r=\"11\" fill=\"rgb(197,197,197)\"/></svg><svg viewBox='0 0 430 430' id=\"svg\" width=\"172\" height=\"172\"><circle cx=\"215\" cy=\"215\" r=\"205\" fill=\"none\" stroke=\"black\" stroke-width=\"2\" stroke-dasharray=\"3,3\"/> <circle cx=\"227\" cy=\"346\" r=\"8\" fill=\"rgb(255,255,255)\" class=\"agent_0_17\"/><circle cx=\"265\" cy=\"386\" r=\"11\" fill=\"rgb(255,255,255)\" class=\"agent_0_24\"/><circle cx=\"186\" cy=\"24\" r=\"9\" fill=\"rgb(255,255,255)\" class=\"agent_0_29\"/><circle cx=\"351\" cy=\"206\" r=\"12\" fill=\"rgb(255,255,255)\" class=\"agent_0_32\"/><circle cx=\"140\" cy=\"394\" r=\"9\" fill=\"rgb(255,255,255)\" class=\"agent_0_35\"/><circle cx=\"56\" cy=\"261\" r=\"9\" fill=\"rgb(255,255,255)\" class=\"agent_0_46\"/><circle cx=\"182\" cy=\"106\" r=\"11\" fill=\"rgb(255,255,255)\" class=\"agent_0_72\"/></svg><svg viewBox='0 0 430 430' id=\"svg\" width=\"172\" height=\"172\"><circle cx=\"215\" cy=\"215\" r=\"205\" fill=\"none\" stroke=\"black\" stroke-width=\"2\" stroke-dasharray=\"3,3\"/> <circle cx=\"227\" cy=\"346\" r=\"8\" fill=\"rgb(255,255,255)\" class=\"agent_0_17\"/><circle cx=\"265\" cy=\"386\" r=\"11\" fill=\"rgb(255,255,255)\" class=\"agent_0_24\"/><circle cx=\"186\" cy=\"24\" r=\"9\" fill=\"rgb(255,255,255)\" class=\"agent_0_29\"/><circle cx=\"351\" cy=\"206\" r=\"12\" fill=\"rgb(255,0,0)\" class=\"agent_0_32\"/><circle cx=\"140\" cy=\"394\" r=\"9\" fill=\"rgb(255,255,255)\" class=\"agent_0_35\"/><circle cx=\"56\" cy=\"261\" r=\"9\" fill=\"rgb(255,255,255)\" class=\"agent_0_46\"/><circle cx=\"182\" cy=\"106\" r=\"11\" fill=\"rgb(255,255,255)\" class=\"agent_0_72\"/></svg><svg viewBox='0 0 430 430' id=\"svg\" width=\"172\" height=\"172\"><circle cx=\"215\" cy=\"215\" r=\"205\" fill=\"none\" stroke=\"black\" stroke-width=\"2\" stroke-dasharray=\"3,3\"/> <circle cx=\"227\" cy=\"346\" r=\"8\" fill=\"rgb(255,0,0)\" class=\"agent_0_17\"/><circle cx=\"265\" cy=\"386\" r=\"11\" fill=\"rgb(255,0,0)\" class=\"agent_0_24\"/><circle cx=\"186\" cy=\"24\" r=\"9\" fill=\"rgb(255,0,0)\" class=\"agent_0_29\"/><circle cx=\"351\" cy=\"206\" r=\"12\" fill=\"rgb(255,255,255)\" class=\"agent_0_32\"/><circle cx=\"140\" cy=\"394\" r=\"9\" fill=\"rgb(255,0,0)\" class=\"agent_0_35\"/><circle cx=\"56\" cy=\"261\" r=\"9\" fill=\"rgb(255,0,0)\" class=\"agent_0_46\"/><circle cx=\"182\" cy=\"106\" r=\"11\" fill=\"rgb(255,0,0)\" class=\"agent_0_72\"/></svg></div>"
      ],
      "text/plain": [
       "<IPython.core.display.HTML object>"
      ]
     },
     "metadata": {},
     "output_type": "display_data"
    },
    {
     "name": "stdout",
     "output_type": "stream",
     "text": [
      "beam 0\ti do n't have that . do you have a cluster of 4 dots that make a y shape ?\n",
      "beam 1\ti do n't have that . do you see a cluster of 4 dots that make a y shape ?\n",
      "beam 2\ti do n't have that . do you have a cluster of 4 dots that form a y shape ?\n",
      "beam 3\ti do n't see that . do you have a cluster of 4 dots that make a y shape ?\n",
      "beam 4\ti do n't have that . do you see a cluster of 4 dots that form a y shape ?\n",
      "beam 5\ti do n't have that . do you have a cluster of 4 dots in the middle of the dots ?\n",
      "beam 6\ti do n't have that . do you have a cluster of 4 dots in the middle of the circle ?\n",
      "beam 7\ti do n't have that . i have a cluster of 4 dots that form a y with the one on the left is the lightest and smallest\n",
      "beam 8\ti do n't have that . i have a cluster of 4 dots that form a y with the one on the right is the lightest and smallest\n",
      "beam 9\ti do n't have that . i have a cluster of 4 dots that form a y with the one on the left is the lightest and the rest\n",
      "beam 10\ti do n't have that . i have a cluster of 4 dots that form a y with the one on the right is the lightest and the rest\n",
      "beam 11\ti do n't have that . i have a cluster of 4 dots that form a y with the one on the top is the lightest and the rest\n",
      "beam 12\ti do n't have that . i have a cluster of 4 dots that form a y with the one on the right being the lightest and the rest\n",
      "beam 13\ti do n't have that . i have a cluster of 4 dots that form a y with the one on the bottom is the lightest and the rest\n",
      "beam 14\ti do n't have that . i have a cluster of 4 dots that form a y with the one on the left being the lightest and the rest\n",
      "beam 15\ti do n't have that . i have a cluster of 4 dots that form a y with the one on the top is the lightest and the rest the rest\n",
      "beam 16\ti do n't have that . i have a cluster of 4 dots that form a y with the one on the left is the lightest and the rest the rest\n",
      "beam 17\ti do n't have that . i have a cluster of 4 dots that form a y with the one on the right is the lightest and the rest the rest\n",
      "beam 18\ti do n't have that . i have a cluster of 4 dots that form a y with the one on the bottom is the lightest and the rest the rest\n",
      "beam 19\ti do n't have that . i have a cluster of 4 dots that form a y with the one on the top is the lightest and the rest the others\n",
      "greedy\ti do n't have that . i have a cluster of 4 dots that are all the same size and the other dots are all the same size <eos>\n",
      "human\ti dont think i have those . i have a large medium grey dot to the right of the rest <eos>\n",
      "refs_pred\n"
     ]
    },
    {
     "data": {
      "text/html": [
       "<div style=\"white-space: nowrap\"><svg viewbox='0 0 430 430' width=\"172\" height=\"172\" id=\"agent_0\"><circle cx=\"215\" cy=\"215\" r=\"205\" fill=\"none\" stroke=\"black\" stroke-width=\"2\" stroke-dasharray=\"3,3\"/><circle cx=\"227\" cy=\"346\" r=\"8\" fill=\"rgb(101,101,101)\"/><circle cx=\"265\" cy=\"386\" r=\"11\" fill=\"rgb(172,172,172)\"/><circle cx=\"186\" cy=\"24\" r=\"9\" fill=\"rgb(148,148,148)\"/><circle cx=\"351\" cy=\"206\" r=\"12\" fill=\"rgb(173,173,173)\"/><circle cx=\"140\" cy=\"394\" r=\"9\" fill=\"rgb(148,148,148)\"/><circle cx=\"56\" cy=\"261\" r=\"9\" fill=\"rgb(122,122,122)\"/><circle cx=\"182\" cy=\"106\" r=\"11\" fill=\"rgb(197,197,197)\"/></svg><svg viewBox='0 0 430 430' id=\"svg\" width=\"172\" height=\"172\"><circle cx=\"215\" cy=\"215\" r=\"205\" fill=\"none\" stroke=\"black\" stroke-width=\"2\" stroke-dasharray=\"3,3\"/> <circle cx=\"227\" cy=\"346\" r=\"8\" fill=\"rgb(255,255,255)\" class=\"agent_0_17\"/><circle cx=\"265\" cy=\"386\" r=\"11\" fill=\"rgb(255,255,255)\" class=\"agent_0_24\"/><circle cx=\"186\" cy=\"24\" r=\"9\" fill=\"rgb(255,255,255)\" class=\"agent_0_29\"/><circle cx=\"351\" cy=\"206\" r=\"12\" fill=\"rgb(255,255,255)\" class=\"agent_0_32\"/><circle cx=\"140\" cy=\"394\" r=\"9\" fill=\"rgb(255,255,255)\" class=\"agent_0_35\"/><circle cx=\"56\" cy=\"261\" r=\"9\" fill=\"rgb(255,255,255)\" class=\"agent_0_46\"/><circle cx=\"182\" cy=\"106\" r=\"11\" fill=\"rgb(255,255,255)\" class=\"agent_0_72\"/></svg><svg viewBox='0 0 430 430' id=\"svg\" width=\"172\" height=\"172\"><circle cx=\"215\" cy=\"215\" r=\"205\" fill=\"none\" stroke=\"black\" stroke-width=\"2\" stroke-dasharray=\"3,3\"/> <circle cx=\"227\" cy=\"346\" r=\"8\" fill=\"rgb(255,255,255)\" class=\"agent_0_17\"/><circle cx=\"265\" cy=\"386\" r=\"11\" fill=\"rgb(255,255,255)\" class=\"agent_0_24\"/><circle cx=\"186\" cy=\"24\" r=\"9\" fill=\"rgb(255,255,255)\" class=\"agent_0_29\"/><circle cx=\"351\" cy=\"206\" r=\"12\" fill=\"rgb(255,0,0)\" class=\"agent_0_32\"/><circle cx=\"140\" cy=\"394\" r=\"9\" fill=\"rgb(255,255,255)\" class=\"agent_0_35\"/><circle cx=\"56\" cy=\"261\" r=\"9\" fill=\"rgb(255,255,255)\" class=\"agent_0_46\"/><circle cx=\"182\" cy=\"106\" r=\"11\" fill=\"rgb(255,255,255)\" class=\"agent_0_72\"/></svg><svg viewBox='0 0 430 430' id=\"svg\" width=\"172\" height=\"172\"><circle cx=\"215\" cy=\"215\" r=\"205\" fill=\"none\" stroke=\"black\" stroke-width=\"2\" stroke-dasharray=\"3,3\"/> <circle cx=\"227\" cy=\"346\" r=\"8\" fill=\"rgb(255,0,0)\" class=\"agent_0_17\"/><circle cx=\"265\" cy=\"386\" r=\"11\" fill=\"rgb(255,0,0)\" class=\"agent_0_24\"/><circle cx=\"186\" cy=\"24\" r=\"9\" fill=\"rgb(255,0,0)\" class=\"agent_0_29\"/><circle cx=\"351\" cy=\"206\" r=\"12\" fill=\"rgb(255,255,255)\" class=\"agent_0_32\"/><circle cx=\"140\" cy=\"394\" r=\"9\" fill=\"rgb(255,0,0)\" class=\"agent_0_35\"/><circle cx=\"56\" cy=\"261\" r=\"9\" fill=\"rgb(255,0,0)\" class=\"agent_0_46\"/><circle cx=\"182\" cy=\"106\" r=\"11\" fill=\"rgb(255,0,0)\" class=\"agent_0_72\"/></svg></div>"
      ],
      "text/plain": [
       "<IPython.core.display.HTML object>"
      ]
     },
     "metadata": {},
     "output_type": "display_data"
    },
    {
     "name": "stdout",
     "output_type": "stream",
     "text": [
      "refs_true\n"
     ]
    },
    {
     "data": {
      "text/html": [
       "<div style=\"white-space: nowrap\"><svg viewbox='0 0 430 430' width=\"172\" height=\"172\" id=\"agent_0\"><circle cx=\"215\" cy=\"215\" r=\"205\" fill=\"none\" stroke=\"black\" stroke-width=\"2\" stroke-dasharray=\"3,3\"/><circle cx=\"227\" cy=\"346\" r=\"8\" fill=\"rgb(101,101,101)\"/><circle cx=\"265\" cy=\"386\" r=\"11\" fill=\"rgb(172,172,172)\"/><circle cx=\"186\" cy=\"24\" r=\"9\" fill=\"rgb(148,148,148)\"/><circle cx=\"351\" cy=\"206\" r=\"12\" fill=\"rgb(173,173,173)\"/><circle cx=\"140\" cy=\"394\" r=\"9\" fill=\"rgb(148,148,148)\"/><circle cx=\"56\" cy=\"261\" r=\"9\" fill=\"rgb(122,122,122)\"/><circle cx=\"182\" cy=\"106\" r=\"11\" fill=\"rgb(197,197,197)\"/></svg><svg viewBox='0 0 430 430' id=\"svg\" width=\"172\" height=\"172\"><circle cx=\"215\" cy=\"215\" r=\"205\" fill=\"none\" stroke=\"black\" stroke-width=\"2\" stroke-dasharray=\"3,3\"/> <circle cx=\"227\" cy=\"346\" r=\"8\" fill=\"rgb(255,255,255)\" class=\"agent_0_17\"/><circle cx=\"265\" cy=\"386\" r=\"11\" fill=\"rgb(255,255,255)\" class=\"agent_0_24\"/><circle cx=\"186\" cy=\"24\" r=\"9\" fill=\"rgb(255,255,255)\" class=\"agent_0_29\"/><circle cx=\"351\" cy=\"206\" r=\"12\" fill=\"rgb(255,255,255)\" class=\"agent_0_32\"/><circle cx=\"140\" cy=\"394\" r=\"9\" fill=\"rgb(255,255,255)\" class=\"agent_0_35\"/><circle cx=\"56\" cy=\"261\" r=\"9\" fill=\"rgb(255,255,255)\" class=\"agent_0_46\"/><circle cx=\"182\" cy=\"106\" r=\"11\" fill=\"rgb(255,255,255)\" class=\"agent_0_72\"/></svg><svg viewBox='0 0 430 430' id=\"svg\" width=\"172\" height=\"172\"><circle cx=\"215\" cy=\"215\" r=\"205\" fill=\"none\" stroke=\"black\" stroke-width=\"2\" stroke-dasharray=\"3,3\"/> <circle cx=\"227\" cy=\"346\" r=\"8\" fill=\"rgb(255,255,255)\" class=\"agent_0_17\"/><circle cx=\"265\" cy=\"386\" r=\"11\" fill=\"rgb(255,255,255)\" class=\"agent_0_24\"/><circle cx=\"186\" cy=\"24\" r=\"9\" fill=\"rgb(255,255,255)\" class=\"agent_0_29\"/><circle cx=\"351\" cy=\"206\" r=\"12\" fill=\"rgb(255,0,0)\" class=\"agent_0_32\"/><circle cx=\"140\" cy=\"394\" r=\"9\" fill=\"rgb(255,255,255)\" class=\"agent_0_35\"/><circle cx=\"56\" cy=\"261\" r=\"9\" fill=\"rgb(255,255,255)\" class=\"agent_0_46\"/><circle cx=\"182\" cy=\"106\" r=\"11\" fill=\"rgb(255,255,255)\" class=\"agent_0_72\"/></svg><svg viewBox='0 0 430 430' id=\"svg\" width=\"172\" height=\"172\"><circle cx=\"215\" cy=\"215\" r=\"205\" fill=\"none\" stroke=\"black\" stroke-width=\"2\" stroke-dasharray=\"3,3\"/> <circle cx=\"227\" cy=\"346\" r=\"8\" fill=\"rgb(255,0,0)\" class=\"agent_0_17\"/><circle cx=\"265\" cy=\"386\" r=\"11\" fill=\"rgb(255,0,0)\" class=\"agent_0_24\"/><circle cx=\"186\" cy=\"24\" r=\"9\" fill=\"rgb(255,0,0)\" class=\"agent_0_29\"/><circle cx=\"351\" cy=\"206\" r=\"12\" fill=\"rgb(255,255,255)\" class=\"agent_0_32\"/><circle cx=\"140\" cy=\"394\" r=\"9\" fill=\"rgb(255,0,0)\" class=\"agent_0_35\"/><circle cx=\"56\" cy=\"261\" r=\"9\" fill=\"rgb(255,0,0)\" class=\"agent_0_46\"/><circle cx=\"182\" cy=\"106\" r=\"11\" fill=\"rgb(255,0,0)\" class=\"agent_0_72\"/></svg></div>"
      ],
      "text/plain": [
       "<IPython.core.display.HTML object>"
      ]
     },
     "metadata": {},
     "output_type": "display_data"
    },
    {
     "name": "stdout",
     "output_type": "stream",
     "text": [
      "\n",
      "----------------------------------------\n",
      "\n",
      "human\tTHEM: is there a small dark dot above it to the left ? <eos>\n",
      "partner_refs_pred\n"
     ]
    },
    {
     "data": {
      "text/html": [
       "<div style=\"white-space: nowrap\"><svg viewbox='0 0 430 430' width=\"172\" height=\"172\" id=\"agent_0\"><circle cx=\"215\" cy=\"215\" r=\"205\" fill=\"none\" stroke=\"black\" stroke-width=\"2\" stroke-dasharray=\"3,3\"/><circle cx=\"227\" cy=\"346\" r=\"8\" fill=\"rgb(101,101,101)\"/><circle cx=\"265\" cy=\"386\" r=\"11\" fill=\"rgb(172,172,172)\"/><circle cx=\"186\" cy=\"24\" r=\"9\" fill=\"rgb(148,148,148)\"/><circle cx=\"351\" cy=\"206\" r=\"12\" fill=\"rgb(173,173,173)\"/><circle cx=\"140\" cy=\"394\" r=\"9\" fill=\"rgb(148,148,148)\"/><circle cx=\"56\" cy=\"261\" r=\"9\" fill=\"rgb(122,122,122)\"/><circle cx=\"182\" cy=\"106\" r=\"11\" fill=\"rgb(197,197,197)\"/></svg><svg viewBox='0 0 430 430' id=\"svg\" width=\"172\" height=\"172\"><circle cx=\"215\" cy=\"215\" r=\"205\" fill=\"none\" stroke=\"black\" stroke-width=\"2\" stroke-dasharray=\"3,3\"/> <circle cx=\"227\" cy=\"346\" r=\"8\" fill=\"rgb(255,255,255)\" class=\"agent_0_17\"/><circle cx=\"265\" cy=\"386\" r=\"11\" fill=\"rgb(255,255,255)\" class=\"agent_0_24\"/><circle cx=\"186\" cy=\"24\" r=\"9\" fill=\"rgb(255,255,255)\" class=\"agent_0_29\"/><circle cx=\"351\" cy=\"206\" r=\"12\" fill=\"rgb(255,255,255)\" class=\"agent_0_32\"/><circle cx=\"140\" cy=\"394\" r=\"9\" fill=\"rgb(255,255,255)\" class=\"agent_0_35\"/><circle cx=\"56\" cy=\"261\" r=\"9\" fill=\"rgb(255,255,255)\" class=\"agent_0_46\"/><circle cx=\"182\" cy=\"106\" r=\"11\" fill=\"rgb(255,255,255)\" class=\"agent_0_72\"/></svg><svg viewBox='0 0 430 430' id=\"svg\" width=\"172\" height=\"172\"><circle cx=\"215\" cy=\"215\" r=\"205\" fill=\"none\" stroke=\"black\" stroke-width=\"2\" stroke-dasharray=\"3,3\"/> <circle cx=\"227\" cy=\"346\" r=\"8\" fill=\"rgb(255,255,255)\" class=\"agent_0_17\"/><circle cx=\"265\" cy=\"386\" r=\"11\" fill=\"rgb(255,255,255)\" class=\"agent_0_24\"/><circle cx=\"186\" cy=\"24\" r=\"9\" fill=\"rgb(255,255,255)\" class=\"agent_0_29\"/><circle cx=\"351\" cy=\"206\" r=\"12\" fill=\"rgb(255,255,255)\" class=\"agent_0_32\"/><circle cx=\"140\" cy=\"394\" r=\"9\" fill=\"rgb(255,255,255)\" class=\"agent_0_35\"/><circle cx=\"56\" cy=\"261\" r=\"9\" fill=\"rgb(255,255,255)\" class=\"agent_0_46\"/><circle cx=\"182\" cy=\"106\" r=\"11\" fill=\"rgb(255,255,255)\" class=\"agent_0_72\"/></svg></div>"
      ],
      "text/plain": [
       "<IPython.core.display.HTML object>"
      ]
     },
     "metadata": {},
     "output_type": "display_data"
    },
    {
     "name": "stdout",
     "output_type": "stream",
     "text": [
      "partner_refs_true\n"
     ]
    },
    {
     "data": {
      "text/html": [
       "<div style=\"white-space: nowrap\"><svg viewbox='0 0 430 430' width=\"172\" height=\"172\" id=\"agent_0\"><circle cx=\"215\" cy=\"215\" r=\"205\" fill=\"none\" stroke=\"black\" stroke-width=\"2\" stroke-dasharray=\"3,3\"/><circle cx=\"227\" cy=\"346\" r=\"8\" fill=\"rgb(101,101,101)\"/><circle cx=\"265\" cy=\"386\" r=\"11\" fill=\"rgb(172,172,172)\"/><circle cx=\"186\" cy=\"24\" r=\"9\" fill=\"rgb(148,148,148)\"/><circle cx=\"351\" cy=\"206\" r=\"12\" fill=\"rgb(173,173,173)\"/><circle cx=\"140\" cy=\"394\" r=\"9\" fill=\"rgb(148,148,148)\"/><circle cx=\"56\" cy=\"261\" r=\"9\" fill=\"rgb(122,122,122)\"/><circle cx=\"182\" cy=\"106\" r=\"11\" fill=\"rgb(197,197,197)\"/></svg><svg viewBox='0 0 430 430' id=\"svg\" width=\"172\" height=\"172\"><circle cx=\"215\" cy=\"215\" r=\"205\" fill=\"none\" stroke=\"black\" stroke-width=\"2\" stroke-dasharray=\"3,3\"/> <circle cx=\"227\" cy=\"346\" r=\"8\" fill=\"rgb(255,0,0)\" class=\"agent_0_17\"/><circle cx=\"265\" cy=\"386\" r=\"11\" fill=\"rgb(255,255,255)\" class=\"agent_0_24\"/><circle cx=\"186\" cy=\"24\" r=\"9\" fill=\"rgb(255,255,255)\" class=\"agent_0_29\"/><circle cx=\"351\" cy=\"206\" r=\"12\" fill=\"rgb(255,255,255)\" class=\"agent_0_32\"/><circle cx=\"140\" cy=\"394\" r=\"9\" fill=\"rgb(255,255,255)\" class=\"agent_0_35\"/><circle cx=\"56\" cy=\"261\" r=\"9\" fill=\"rgb(255,255,255)\" class=\"agent_0_46\"/><circle cx=\"182\" cy=\"106\" r=\"11\" fill=\"rgb(255,255,255)\" class=\"agent_0_72\"/></svg><svg viewBox='0 0 430 430' id=\"svg\" width=\"172\" height=\"172\"><circle cx=\"215\" cy=\"215\" r=\"205\" fill=\"none\" stroke=\"black\" stroke-width=\"2\" stroke-dasharray=\"3,3\"/> <circle cx=\"227\" cy=\"346\" r=\"8\" fill=\"rgb(255,255,255)\" class=\"agent_0_17\"/><circle cx=\"265\" cy=\"386\" r=\"11\" fill=\"rgb(255,0,0)\" class=\"agent_0_24\"/><circle cx=\"186\" cy=\"24\" r=\"9\" fill=\"rgb(255,255,255)\" class=\"agent_0_29\"/><circle cx=\"351\" cy=\"206\" r=\"12\" fill=\"rgb(255,255,255)\" class=\"agent_0_32\"/><circle cx=\"140\" cy=\"394\" r=\"9\" fill=\"rgb(255,255,255)\" class=\"agent_0_35\"/><circle cx=\"56\" cy=\"261\" r=\"9\" fill=\"rgb(255,255,255)\" class=\"agent_0_46\"/><circle cx=\"182\" cy=\"106\" r=\"11\" fill=\"rgb(255,255,255)\" class=\"agent_0_72\"/></svg></div>"
      ],
      "text/plain": [
       "<IPython.core.display.HTML object>"
      ]
     },
     "metadata": {},
     "output_type": "display_data"
    },
    {
     "name": "stdout",
     "output_type": "stream",
     "text": [
      "\n",
      "----------------------------------------\n",
      "\n",
      "to_mention_pred\n"
     ]
    },
    {
     "data": {
      "text/html": [
       "<div style=\"white-space: nowrap\"><svg viewbox='0 0 430 430' width=\"172\" height=\"172\" id=\"agent_0\"><circle cx=\"215\" cy=\"215\" r=\"205\" fill=\"none\" stroke=\"black\" stroke-width=\"2\" stroke-dasharray=\"3,3\"/><circle cx=\"227\" cy=\"346\" r=\"8\" fill=\"rgb(101,101,101)\"/><circle cx=\"265\" cy=\"386\" r=\"11\" fill=\"rgb(172,172,172)\"/><circle cx=\"186\" cy=\"24\" r=\"9\" fill=\"rgb(148,148,148)\"/><circle cx=\"351\" cy=\"206\" r=\"12\" fill=\"rgb(173,173,173)\"/><circle cx=\"140\" cy=\"394\" r=\"9\" fill=\"rgb(148,148,148)\"/><circle cx=\"56\" cy=\"261\" r=\"9\" fill=\"rgb(122,122,122)\"/><circle cx=\"182\" cy=\"106\" r=\"11\" fill=\"rgb(197,197,197)\"/></svg><svg viewBox='0 0 430 430' id=\"svg\" width=\"172\" height=\"172\"><circle cx=\"215\" cy=\"215\" r=\"205\" fill=\"none\" stroke=\"black\" stroke-width=\"2\" stroke-dasharray=\"3,3\"/> <circle cx=\"227\" cy=\"346\" r=\"8\" fill=\"rgb(255,255,255)\" class=\"agent_0_17\"/><circle cx=\"265\" cy=\"386\" r=\"11\" fill=\"rgb(255,255,255)\" class=\"agent_0_24\"/><circle cx=\"186\" cy=\"24\" r=\"9\" fill=\"rgb(255,255,255)\" class=\"agent_0_29\"/><circle cx=\"351\" cy=\"206\" r=\"12\" fill=\"rgb(255,0,0)\" class=\"agent_0_32\"/><circle cx=\"140\" cy=\"394\" r=\"9\" fill=\"rgb(255,255,255)\" class=\"agent_0_35\"/><circle cx=\"56\" cy=\"261\" r=\"9\" fill=\"rgb(255,255,255)\" class=\"agent_0_46\"/><circle cx=\"182\" cy=\"106\" r=\"11\" fill=\"rgb(255,255,255)\" class=\"agent_0_72\"/></svg></div>"
      ],
      "text/plain": [
       "<IPython.core.display.HTML object>"
      ]
     },
     "metadata": {},
     "output_type": "display_data"
    },
    {
     "name": "stdout",
     "output_type": "stream",
     "text": [
      "to_mention_true\n"
     ]
    },
    {
     "data": {
      "text/html": [
       "<div style=\"white-space: nowrap\"><svg viewbox='0 0 430 430' width=\"172\" height=\"172\" id=\"agent_0\"><circle cx=\"215\" cy=\"215\" r=\"205\" fill=\"none\" stroke=\"black\" stroke-width=\"2\" stroke-dasharray=\"3,3\"/><circle cx=\"227\" cy=\"346\" r=\"8\" fill=\"rgb(101,101,101)\"/><circle cx=\"265\" cy=\"386\" r=\"11\" fill=\"rgb(172,172,172)\"/><circle cx=\"186\" cy=\"24\" r=\"9\" fill=\"rgb(148,148,148)\"/><circle cx=\"351\" cy=\"206\" r=\"12\" fill=\"rgb(173,173,173)\"/><circle cx=\"140\" cy=\"394\" r=\"9\" fill=\"rgb(148,148,148)\"/><circle cx=\"56\" cy=\"261\" r=\"9\" fill=\"rgb(122,122,122)\"/><circle cx=\"182\" cy=\"106\" r=\"11\" fill=\"rgb(197,197,197)\"/></svg><svg viewBox='0 0 430 430' id=\"svg\" width=\"172\" height=\"172\"><circle cx=\"215\" cy=\"215\" r=\"205\" fill=\"none\" stroke=\"black\" stroke-width=\"2\" stroke-dasharray=\"3,3\"/> <circle cx=\"227\" cy=\"346\" r=\"8\" fill=\"rgb(255,255,255)\" class=\"agent_0_17\"/><circle cx=\"265\" cy=\"386\" r=\"11\" fill=\"rgb(255,0,0)\" class=\"agent_0_24\"/><circle cx=\"186\" cy=\"24\" r=\"9\" fill=\"rgb(255,255,255)\" class=\"agent_0_29\"/><circle cx=\"351\" cy=\"206\" r=\"12\" fill=\"rgb(255,255,255)\" class=\"agent_0_32\"/><circle cx=\"140\" cy=\"394\" r=\"9\" fill=\"rgb(255,255,255)\" class=\"agent_0_35\"/><circle cx=\"56\" cy=\"261\" r=\"9\" fill=\"rgb(255,255,255)\" class=\"agent_0_46\"/><circle cx=\"182\" cy=\"106\" r=\"11\" fill=\"rgb(255,255,255)\" class=\"agent_0_72\"/></svg></div>"
      ],
      "text/plain": [
       "<IPython.core.display.HTML object>"
      ]
     },
     "metadata": {},
     "output_type": "display_data"
    },
    {
     "name": "stdout",
     "output_type": "stream",
     "text": [
      "beam 0\tyes it is\n",
      "beam 1\tyes it is .\n",
      "beam 2\tyes it is .\n",
      "beam 3\tyes , let 's pick that one\n",
      "beam 4\tyes . let 's pick that one .\n",
      "beam 5\tyes , let 's pick that one\n",
      "beam 6\tyes , let 's choose that one\n",
      "beam 7\tyes . let 's choose that one .\n",
      "beam 8\tyes , let 's pick that one .\n",
      "beam 9\tyes . let 's pick that one .\n",
      "beam 10\tyes . let 's pick the light grey one\n",
      "beam 11\tyes . let 's pick the light grey one\n",
      "beam 12\tyes . let 's pick the light grey dot\n",
      "beam 13\tyes . let 's pick the light grey one .\n",
      "beam 14\tno . do you have a large light grey dot ?\n",
      "beam 15\tyes . let 's choose the light grey one .\n",
      "beam 16\tyes . let 's pick the light grey dot .\n",
      "beam 17\tno . do you have a large light grey dot at the bottom of the circle ?\n",
      "beam 18\tno . do you have a large light grey dot at the top of the circle ?\n",
      "beam 19\tno . do you have a large light gray dot at the bottom of the circle ?\n",
      "greedy\tyes , let 's pick the light grey one <selection>\n",
      "human\tyes . pick the larger one <selection>\n",
      "refs_pred\n"
     ]
    },
    {
     "data": {
      "text/html": [
       "<div style=\"white-space: nowrap\"><svg viewbox='0 0 430 430' width=\"172\" height=\"172\" id=\"agent_0\"><circle cx=\"215\" cy=\"215\" r=\"205\" fill=\"none\" stroke=\"black\" stroke-width=\"2\" stroke-dasharray=\"3,3\"/><circle cx=\"227\" cy=\"346\" r=\"8\" fill=\"rgb(101,101,101)\"/><circle cx=\"265\" cy=\"386\" r=\"11\" fill=\"rgb(172,172,172)\"/><circle cx=\"186\" cy=\"24\" r=\"9\" fill=\"rgb(148,148,148)\"/><circle cx=\"351\" cy=\"206\" r=\"12\" fill=\"rgb(173,173,173)\"/><circle cx=\"140\" cy=\"394\" r=\"9\" fill=\"rgb(148,148,148)\"/><circle cx=\"56\" cy=\"261\" r=\"9\" fill=\"rgb(122,122,122)\"/><circle cx=\"182\" cy=\"106\" r=\"11\" fill=\"rgb(197,197,197)\"/></svg><svg viewBox='0 0 430 430' id=\"svg\" width=\"172\" height=\"172\"><circle cx=\"215\" cy=\"215\" r=\"205\" fill=\"none\" stroke=\"black\" stroke-width=\"2\" stroke-dasharray=\"3,3\"/> <circle cx=\"227\" cy=\"346\" r=\"8\" fill=\"rgb(255,255,255)\" class=\"agent_0_17\"/><circle cx=\"265\" cy=\"386\" r=\"11\" fill=\"rgb(255,255,255)\" class=\"agent_0_24\"/><circle cx=\"186\" cy=\"24\" r=\"9\" fill=\"rgb(255,255,255)\" class=\"agent_0_29\"/><circle cx=\"351\" cy=\"206\" r=\"12\" fill=\"rgb(255,0,0)\" class=\"agent_0_32\"/><circle cx=\"140\" cy=\"394\" r=\"9\" fill=\"rgb(255,255,255)\" class=\"agent_0_35\"/><circle cx=\"56\" cy=\"261\" r=\"9\" fill=\"rgb(255,255,255)\" class=\"agent_0_46\"/><circle cx=\"182\" cy=\"106\" r=\"11\" fill=\"rgb(255,255,255)\" class=\"agent_0_72\"/></svg></div>"
      ],
      "text/plain": [
       "<IPython.core.display.HTML object>"
      ]
     },
     "metadata": {},
     "output_type": "display_data"
    },
    {
     "name": "stdout",
     "output_type": "stream",
     "text": [
      "refs_true\n"
     ]
    },
    {
     "data": {
      "text/html": [
       "<div style=\"white-space: nowrap\"><svg viewbox='0 0 430 430' width=\"172\" height=\"172\" id=\"agent_0\"><circle cx=\"215\" cy=\"215\" r=\"205\" fill=\"none\" stroke=\"black\" stroke-width=\"2\" stroke-dasharray=\"3,3\"/><circle cx=\"227\" cy=\"346\" r=\"8\" fill=\"rgb(101,101,101)\"/><circle cx=\"265\" cy=\"386\" r=\"11\" fill=\"rgb(172,172,172)\"/><circle cx=\"186\" cy=\"24\" r=\"9\" fill=\"rgb(148,148,148)\"/><circle cx=\"351\" cy=\"206\" r=\"12\" fill=\"rgb(173,173,173)\"/><circle cx=\"140\" cy=\"394\" r=\"9\" fill=\"rgb(148,148,148)\"/><circle cx=\"56\" cy=\"261\" r=\"9\" fill=\"rgb(122,122,122)\"/><circle cx=\"182\" cy=\"106\" r=\"11\" fill=\"rgb(197,197,197)\"/></svg><svg viewBox='0 0 430 430' id=\"svg\" width=\"172\" height=\"172\"><circle cx=\"215\" cy=\"215\" r=\"205\" fill=\"none\" stroke=\"black\" stroke-width=\"2\" stroke-dasharray=\"3,3\"/> <circle cx=\"227\" cy=\"346\" r=\"8\" fill=\"rgb(255,255,255)\" class=\"agent_0_17\"/><circle cx=\"265\" cy=\"386\" r=\"11\" fill=\"rgb(255,0,0)\" class=\"agent_0_24\"/><circle cx=\"186\" cy=\"24\" r=\"9\" fill=\"rgb(255,255,255)\" class=\"agent_0_29\"/><circle cx=\"351\" cy=\"206\" r=\"12\" fill=\"rgb(255,255,255)\" class=\"agent_0_32\"/><circle cx=\"140\" cy=\"394\" r=\"9\" fill=\"rgb(255,255,255)\" class=\"agent_0_35\"/><circle cx=\"56\" cy=\"261\" r=\"9\" fill=\"rgb(255,255,255)\" class=\"agent_0_46\"/><circle cx=\"182\" cy=\"106\" r=\"11\" fill=\"rgb(255,255,255)\" class=\"agent_0_72\"/></svg></div>"
      ],
      "text/plain": [
       "<IPython.core.display.HTML object>"
      ]
     },
     "metadata": {},
     "output_type": "display_data"
    },
    {
     "name": "stdout",
     "output_type": "stream",
     "text": [
      "\n",
      "----------------------------------------\n",
      "\n"
     ]
    }
   ],
   "source": [
    "force_contexts_and_mentions(8)"
   ]
  },
  {
   "cell_type": "code",
   "execution_count": 65,
   "metadata": {
    "scrolled": false
   },
   "outputs": [
    {
     "name": "stdout",
     "output_type": "stream",
     "text": [
      "human\tTHEM: i have 2 dots on the bottom , left one is darker and larger , right one is smaller and lighter <eos>\n",
      "partner_refs_pred\n"
     ]
    },
    {
     "data": {
      "text/html": [
       "<div style=\"white-space: nowrap\"><svg viewbox='0 0 430 430' width=\"172\" height=\"172\" id=\"agent_1\"><circle cx=\"215\" cy=\"215\" r=\"205\" fill=\"none\" stroke=\"black\" stroke-width=\"2\" stroke-dasharray=\"3,3\"/><circle cx=\"221\" cy=\"212\" r=\"11\" fill=\"rgb(63,63,63)\"/><circle cx=\"215\" cy=\"397\" r=\"7\" fill=\"rgb(173,173,173)\"/><circle cx=\"68\" cy=\"228\" r=\"12\" fill=\"rgb(125,125,125)\"/><circle cx=\"62\" cy=\"293\" r=\"12\" fill=\"rgb(184,184,184)\"/><circle cx=\"333\" cy=\"188\" r=\"11\" fill=\"rgb(94,94,94)\"/><circle cx=\"105\" cy=\"135\" r=\"9\" fill=\"rgb(84,84,84)\"/><circle cx=\"38\" cy=\"132\" r=\"12\" fill=\"rgb(189,189,189)\"/></svg><svg viewBox='0 0 430 430' id=\"svg\" width=\"172\" height=\"172\"><circle cx=\"215\" cy=\"215\" r=\"205\" fill=\"none\" stroke=\"black\" stroke-width=\"2\" stroke-dasharray=\"3,3\"/> <circle cx=\"221\" cy=\"212\" r=\"11\" fill=\"rgb(255,255,255)\" class=\"agent_1_3\"/><circle cx=\"215\" cy=\"397\" r=\"7\" fill=\"rgb(255,255,255)\" class=\"agent_1_26\"/><circle cx=\"68\" cy=\"228\" r=\"12\" fill=\"rgb(255,255,255)\" class=\"agent_1_33\"/><circle cx=\"62\" cy=\"293\" r=\"12\" fill=\"rgb(255,255,255)\" class=\"agent_1_46\"/><circle cx=\"333\" cy=\"188\" r=\"11\" fill=\"rgb(255,255,255)\" class=\"agent_1_53\"/><circle cx=\"105\" cy=\"135\" r=\"9\" fill=\"rgb(255,255,255)\" class=\"agent_1_55\"/><circle cx=\"38\" cy=\"132\" r=\"12\" fill=\"rgb(255,255,255)\" class=\"agent_1_78\"/></svg><svg viewBox='0 0 430 430' id=\"svg\" width=\"172\" height=\"172\"><circle cx=\"215\" cy=\"215\" r=\"205\" fill=\"none\" stroke=\"black\" stroke-width=\"2\" stroke-dasharray=\"3,3\"/> <circle cx=\"221\" cy=\"212\" r=\"11\" fill=\"rgb(255,255,255)\" class=\"agent_1_3\"/><circle cx=\"215\" cy=\"397\" r=\"7\" fill=\"rgb(255,255,255)\" class=\"agent_1_26\"/><circle cx=\"68\" cy=\"228\" r=\"12\" fill=\"rgb(255,255,255)\" class=\"agent_1_33\"/><circle cx=\"62\" cy=\"293\" r=\"12\" fill=\"rgb(255,255,255)\" class=\"agent_1_46\"/><circle cx=\"333\" cy=\"188\" r=\"11\" fill=\"rgb(255,255,255)\" class=\"agent_1_53\"/><circle cx=\"105\" cy=\"135\" r=\"9\" fill=\"rgb(255,255,255)\" class=\"agent_1_55\"/><circle cx=\"38\" cy=\"132\" r=\"12\" fill=\"rgb(255,255,255)\" class=\"agent_1_78\"/></svg><svg viewBox='0 0 430 430' id=\"svg\" width=\"172\" height=\"172\"><circle cx=\"215\" cy=\"215\" r=\"205\" fill=\"none\" stroke=\"black\" stroke-width=\"2\" stroke-dasharray=\"3,3\"/> <circle cx=\"221\" cy=\"212\" r=\"11\" fill=\"rgb(255,255,255)\" class=\"agent_1_3\"/><circle cx=\"215\" cy=\"397\" r=\"7\" fill=\"rgb(255,255,255)\" class=\"agent_1_26\"/><circle cx=\"68\" cy=\"228\" r=\"12\" fill=\"rgb(255,255,255)\" class=\"agent_1_33\"/><circle cx=\"62\" cy=\"293\" r=\"12\" fill=\"rgb(255,255,255)\" class=\"agent_1_46\"/><circle cx=\"333\" cy=\"188\" r=\"11\" fill=\"rgb(255,255,255)\" class=\"agent_1_53\"/><circle cx=\"105\" cy=\"135\" r=\"9\" fill=\"rgb(255,255,255)\" class=\"agent_1_55\"/><circle cx=\"38\" cy=\"132\" r=\"12\" fill=\"rgb(255,255,255)\" class=\"agent_1_78\"/></svg></div>"
      ],
      "text/plain": [
       "<IPython.core.display.HTML object>"
      ]
     },
     "metadata": {},
     "output_type": "display_data"
    },
    {
     "name": "stdout",
     "output_type": "stream",
     "text": [
      "partner_refs_true\n"
     ]
    },
    {
     "data": {
      "text/html": [
       "<div style=\"white-space: nowrap\"><svg viewbox='0 0 430 430' width=\"172\" height=\"172\" id=\"agent_1\"><circle cx=\"215\" cy=\"215\" r=\"205\" fill=\"none\" stroke=\"black\" stroke-width=\"2\" stroke-dasharray=\"3,3\"/><circle cx=\"221\" cy=\"212\" r=\"11\" fill=\"rgb(63,63,63)\"/><circle cx=\"215\" cy=\"397\" r=\"7\" fill=\"rgb(173,173,173)\"/><circle cx=\"68\" cy=\"228\" r=\"12\" fill=\"rgb(125,125,125)\"/><circle cx=\"62\" cy=\"293\" r=\"12\" fill=\"rgb(184,184,184)\"/><circle cx=\"333\" cy=\"188\" r=\"11\" fill=\"rgb(94,94,94)\"/><circle cx=\"105\" cy=\"135\" r=\"9\" fill=\"rgb(84,84,84)\"/><circle cx=\"38\" cy=\"132\" r=\"12\" fill=\"rgb(189,189,189)\"/></svg><svg viewBox='0 0 430 430' id=\"svg\" width=\"172\" height=\"172\"><circle cx=\"215\" cy=\"215\" r=\"205\" fill=\"none\" stroke=\"black\" stroke-width=\"2\" stroke-dasharray=\"3,3\"/> <circle cx=\"221\" cy=\"212\" r=\"11\" fill=\"rgb(255,255,255)\" class=\"agent_1_3\"/><circle cx=\"215\" cy=\"397\" r=\"7\" fill=\"rgb(255,0,0)\" class=\"agent_1_26\"/><circle cx=\"68\" cy=\"228\" r=\"12\" fill=\"rgb(255,255,255)\" class=\"agent_1_33\"/><circle cx=\"62\" cy=\"293\" r=\"12\" fill=\"rgb(255,255,255)\" class=\"agent_1_46\"/><circle cx=\"333\" cy=\"188\" r=\"11\" fill=\"rgb(255,255,255)\" class=\"agent_1_53\"/><circle cx=\"105\" cy=\"135\" r=\"9\" fill=\"rgb(255,255,255)\" class=\"agent_1_55\"/><circle cx=\"38\" cy=\"132\" r=\"12\" fill=\"rgb(255,255,255)\" class=\"agent_1_78\"/></svg><svg viewBox='0 0 430 430' id=\"svg\" width=\"172\" height=\"172\"><circle cx=\"215\" cy=\"215\" r=\"205\" fill=\"none\" stroke=\"black\" stroke-width=\"2\" stroke-dasharray=\"3,3\"/> <circle cx=\"221\" cy=\"212\" r=\"11\" fill=\"rgb(255,255,255)\" class=\"agent_1_3\"/><circle cx=\"215\" cy=\"397\" r=\"7\" fill=\"rgb(255,255,255)\" class=\"agent_1_26\"/><circle cx=\"68\" cy=\"228\" r=\"12\" fill=\"rgb(255,255,255)\" class=\"agent_1_33\"/><circle cx=\"62\" cy=\"293\" r=\"12\" fill=\"rgb(255,255,255)\" class=\"agent_1_46\"/><circle cx=\"333\" cy=\"188\" r=\"11\" fill=\"rgb(255,255,255)\" class=\"agent_1_53\"/><circle cx=\"105\" cy=\"135\" r=\"9\" fill=\"rgb(255,255,255)\" class=\"agent_1_55\"/><circle cx=\"38\" cy=\"132\" r=\"12\" fill=\"rgb(255,255,255)\" class=\"agent_1_78\"/></svg><svg viewBox='0 0 430 430' id=\"svg\" width=\"172\" height=\"172\"><circle cx=\"215\" cy=\"215\" r=\"205\" fill=\"none\" stroke=\"black\" stroke-width=\"2\" stroke-dasharray=\"3,3\"/> <circle cx=\"221\" cy=\"212\" r=\"11\" fill=\"rgb(255,255,255)\" class=\"agent_1_3\"/><circle cx=\"215\" cy=\"397\" r=\"7\" fill=\"rgb(255,0,0)\" class=\"agent_1_26\"/><circle cx=\"68\" cy=\"228\" r=\"12\" fill=\"rgb(255,255,255)\" class=\"agent_1_33\"/><circle cx=\"62\" cy=\"293\" r=\"12\" fill=\"rgb(255,255,255)\" class=\"agent_1_46\"/><circle cx=\"333\" cy=\"188\" r=\"11\" fill=\"rgb(255,255,255)\" class=\"agent_1_53\"/><circle cx=\"105\" cy=\"135\" r=\"9\" fill=\"rgb(255,255,255)\" class=\"agent_1_55\"/><circle cx=\"38\" cy=\"132\" r=\"12\" fill=\"rgb(255,255,255)\" class=\"agent_1_78\"/></svg></div>"
      ],
      "text/plain": [
       "<IPython.core.display.HTML object>"
      ]
     },
     "metadata": {},
     "output_type": "display_data"
    },
    {
     "name": "stdout",
     "output_type": "stream",
     "text": [
      "\n",
      "----------------------------------------\n",
      "\n",
      "to_mention_pred\n"
     ]
    },
    {
     "data": {
      "text/html": [
       "<div style=\"white-space: nowrap\"><svg viewbox='0 0 430 430' width=\"172\" height=\"172\" id=\"agent_1\"><circle cx=\"215\" cy=\"215\" r=\"205\" fill=\"none\" stroke=\"black\" stroke-width=\"2\" stroke-dasharray=\"3,3\"/><circle cx=\"221\" cy=\"212\" r=\"11\" fill=\"rgb(63,63,63)\"/><circle cx=\"215\" cy=\"397\" r=\"7\" fill=\"rgb(173,173,173)\"/><circle cx=\"68\" cy=\"228\" r=\"12\" fill=\"rgb(125,125,125)\"/><circle cx=\"62\" cy=\"293\" r=\"12\" fill=\"rgb(184,184,184)\"/><circle cx=\"333\" cy=\"188\" r=\"11\" fill=\"rgb(94,94,94)\"/><circle cx=\"105\" cy=\"135\" r=\"9\" fill=\"rgb(84,84,84)\"/><circle cx=\"38\" cy=\"132\" r=\"12\" fill=\"rgb(189,189,189)\"/></svg><svg viewBox='0 0 430 430' id=\"svg\" width=\"172\" height=\"172\"><circle cx=\"215\" cy=\"215\" r=\"205\" fill=\"none\" stroke=\"black\" stroke-width=\"2\" stroke-dasharray=\"3,3\"/> <circle cx=\"221\" cy=\"212\" r=\"11\" fill=\"rgb(255,255,255)\" class=\"agent_1_3\"/><circle cx=\"215\" cy=\"397\" r=\"7\" fill=\"rgb(255,255,255)\" class=\"agent_1_26\"/><circle cx=\"68\" cy=\"228\" r=\"12\" fill=\"rgb(255,0,0)\" class=\"agent_1_33\"/><circle cx=\"62\" cy=\"293\" r=\"12\" fill=\"rgb(255,0,0)\" class=\"agent_1_46\"/><circle cx=\"333\" cy=\"188\" r=\"11\" fill=\"rgb(255,255,255)\" class=\"agent_1_53\"/><circle cx=\"105\" cy=\"135\" r=\"9\" fill=\"rgb(255,255,255)\" class=\"agent_1_55\"/><circle cx=\"38\" cy=\"132\" r=\"12\" fill=\"rgb(255,255,255)\" class=\"agent_1_78\"/></svg><svg viewBox='0 0 430 430' id=\"svg\" width=\"172\" height=\"172\"><circle cx=\"215\" cy=\"215\" r=\"205\" fill=\"none\" stroke=\"black\" stroke-width=\"2\" stroke-dasharray=\"3,3\"/> <circle cx=\"221\" cy=\"212\" r=\"11\" fill=\"rgb(255,255,255)\" class=\"agent_1_3\"/><circle cx=\"215\" cy=\"397\" r=\"7\" fill=\"rgb(255,255,255)\" class=\"agent_1_26\"/><circle cx=\"68\" cy=\"228\" r=\"12\" fill=\"rgb(255,0,0)\" class=\"agent_1_33\"/><circle cx=\"62\" cy=\"293\" r=\"12\" fill=\"rgb(255,0,0)\" class=\"agent_1_46\"/><circle cx=\"333\" cy=\"188\" r=\"11\" fill=\"rgb(255,255,255)\" class=\"agent_1_53\"/><circle cx=\"105\" cy=\"135\" r=\"9\" fill=\"rgb(255,255,255)\" class=\"agent_1_55\"/><circle cx=\"38\" cy=\"132\" r=\"12\" fill=\"rgb(255,255,255)\" class=\"agent_1_78\"/></svg><svg viewBox='0 0 430 430' id=\"svg\" width=\"172\" height=\"172\"><circle cx=\"215\" cy=\"215\" r=\"205\" fill=\"none\" stroke=\"black\" stroke-width=\"2\" stroke-dasharray=\"3,3\"/> <circle cx=\"221\" cy=\"212\" r=\"11\" fill=\"rgb(255,255,255)\" class=\"agent_1_3\"/><circle cx=\"215\" cy=\"397\" r=\"7\" fill=\"rgb(255,255,255)\" class=\"agent_1_26\"/><circle cx=\"68\" cy=\"228\" r=\"12\" fill=\"rgb(255,0,0)\" class=\"agent_1_33\"/><circle cx=\"62\" cy=\"293\" r=\"12\" fill=\"rgb(255,255,255)\" class=\"agent_1_46\"/><circle cx=\"333\" cy=\"188\" r=\"11\" fill=\"rgb(255,255,255)\" class=\"agent_1_53\"/><circle cx=\"105\" cy=\"135\" r=\"9\" fill=\"rgb(255,255,255)\" class=\"agent_1_55\"/><circle cx=\"38\" cy=\"132\" r=\"12\" fill=\"rgb(255,255,255)\" class=\"agent_1_78\"/></svg><svg viewBox='0 0 430 430' id=\"svg\" width=\"172\" height=\"172\"><circle cx=\"215\" cy=\"215\" r=\"205\" fill=\"none\" stroke=\"black\" stroke-width=\"2\" stroke-dasharray=\"3,3\"/> <circle cx=\"221\" cy=\"212\" r=\"11\" fill=\"rgb(255,255,255)\" class=\"agent_1_3\"/><circle cx=\"215\" cy=\"397\" r=\"7\" fill=\"rgb(255,255,255)\" class=\"agent_1_26\"/><circle cx=\"68\" cy=\"228\" r=\"12\" fill=\"rgb(255,255,255)\" class=\"agent_1_33\"/><circle cx=\"62\" cy=\"293\" r=\"12\" fill=\"rgb(255,0,0)\" class=\"agent_1_46\"/><circle cx=\"333\" cy=\"188\" r=\"11\" fill=\"rgb(255,255,255)\" class=\"agent_1_53\"/><circle cx=\"105\" cy=\"135\" r=\"9\" fill=\"rgb(255,255,255)\" class=\"agent_1_55\"/><circle cx=\"38\" cy=\"132\" r=\"12\" fill=\"rgb(255,255,255)\" class=\"agent_1_78\"/></svg></div>"
      ],
      "text/plain": [
       "<IPython.core.display.HTML object>"
      ]
     },
     "metadata": {},
     "output_type": "display_data"
    },
    {
     "name": "stdout",
     "output_type": "stream",
     "text": [
      "to_mention_true\n"
     ]
    },
    {
     "data": {
      "text/html": [
       "<div style=\"white-space: nowrap\"><svg viewbox='0 0 430 430' width=\"172\" height=\"172\" id=\"agent_1\"><circle cx=\"215\" cy=\"215\" r=\"205\" fill=\"none\" stroke=\"black\" stroke-width=\"2\" stroke-dasharray=\"3,3\"/><circle cx=\"221\" cy=\"212\" r=\"11\" fill=\"rgb(63,63,63)\"/><circle cx=\"215\" cy=\"397\" r=\"7\" fill=\"rgb(173,173,173)\"/><circle cx=\"68\" cy=\"228\" r=\"12\" fill=\"rgb(125,125,125)\"/><circle cx=\"62\" cy=\"293\" r=\"12\" fill=\"rgb(184,184,184)\"/><circle cx=\"333\" cy=\"188\" r=\"11\" fill=\"rgb(94,94,94)\"/><circle cx=\"105\" cy=\"135\" r=\"9\" fill=\"rgb(84,84,84)\"/><circle cx=\"38\" cy=\"132\" r=\"12\" fill=\"rgb(189,189,189)\"/></svg><svg viewBox='0 0 430 430' id=\"svg\" width=\"172\" height=\"172\"><circle cx=\"215\" cy=\"215\" r=\"205\" fill=\"none\" stroke=\"black\" stroke-width=\"2\" stroke-dasharray=\"3,3\"/> <circle cx=\"221\" cy=\"212\" r=\"11\" fill=\"rgb(255,255,255)\" class=\"agent_1_3\"/><circle cx=\"215\" cy=\"397\" r=\"7\" fill=\"rgb(255,255,255)\" class=\"agent_1_26\"/><circle cx=\"68\" cy=\"228\" r=\"12\" fill=\"rgb(255,255,255)\" class=\"agent_1_33\"/><circle cx=\"62\" cy=\"293\" r=\"12\" fill=\"rgb(255,255,255)\" class=\"agent_1_46\"/><circle cx=\"333\" cy=\"188\" r=\"11\" fill=\"rgb(255,255,255)\" class=\"agent_1_53\"/><circle cx=\"105\" cy=\"135\" r=\"9\" fill=\"rgb(255,255,255)\" class=\"agent_1_55\"/><circle cx=\"38\" cy=\"132\" r=\"12\" fill=\"rgb(255,255,255)\" class=\"agent_1_78\"/></svg><svg viewBox='0 0 430 430' id=\"svg\" width=\"172\" height=\"172\"><circle cx=\"215\" cy=\"215\" r=\"205\" fill=\"none\" stroke=\"black\" stroke-width=\"2\" stroke-dasharray=\"3,3\"/> <circle cx=\"221\" cy=\"212\" r=\"11\" fill=\"rgb(255,255,255)\" class=\"agent_1_3\"/><circle cx=\"215\" cy=\"397\" r=\"7\" fill=\"rgb(255,255,255)\" class=\"agent_1_26\"/><circle cx=\"68\" cy=\"228\" r=\"12\" fill=\"rgb(255,0,0)\" class=\"agent_1_33\"/><circle cx=\"62\" cy=\"293\" r=\"12\" fill=\"rgb(255,0,0)\" class=\"agent_1_46\"/><circle cx=\"333\" cy=\"188\" r=\"11\" fill=\"rgb(255,255,255)\" class=\"agent_1_53\"/><circle cx=\"105\" cy=\"135\" r=\"9\" fill=\"rgb(255,0,0)\" class=\"agent_1_55\"/><circle cx=\"38\" cy=\"132\" r=\"12\" fill=\"rgb(255,0,0)\" class=\"agent_1_78\"/></svg><svg viewBox='0 0 430 430' id=\"svg\" width=\"172\" height=\"172\"><circle cx=\"215\" cy=\"215\" r=\"205\" fill=\"none\" stroke=\"black\" stroke-width=\"2\" stroke-dasharray=\"3,3\"/> <circle cx=\"221\" cy=\"212\" r=\"11\" fill=\"rgb(255,255,255)\" class=\"agent_1_3\"/><circle cx=\"215\" cy=\"397\" r=\"7\" fill=\"rgb(255,255,255)\" class=\"agent_1_26\"/><circle cx=\"68\" cy=\"228\" r=\"12\" fill=\"rgb(255,255,255)\" class=\"agent_1_33\"/><circle cx=\"62\" cy=\"293\" r=\"12\" fill=\"rgb(255,255,255)\" class=\"agent_1_46\"/><circle cx=\"333\" cy=\"188\" r=\"11\" fill=\"rgb(255,255,255)\" class=\"agent_1_53\"/><circle cx=\"105\" cy=\"135\" r=\"9\" fill=\"rgb(255,255,255)\" class=\"agent_1_55\"/><circle cx=\"38\" cy=\"132\" r=\"12\" fill=\"rgb(255,0,0)\" class=\"agent_1_78\"/></svg><svg viewBox='0 0 430 430' id=\"svg\" width=\"172\" height=\"172\"><circle cx=\"215\" cy=\"215\" r=\"205\" fill=\"none\" stroke=\"black\" stroke-width=\"2\" stroke-dasharray=\"3,3\"/> <circle cx=\"221\" cy=\"212\" r=\"11\" fill=\"rgb(255,255,255)\" class=\"agent_1_3\"/><circle cx=\"215\" cy=\"397\" r=\"7\" fill=\"rgb(255,255,255)\" class=\"agent_1_26\"/><circle cx=\"68\" cy=\"228\" r=\"12\" fill=\"rgb(255,255,255)\" class=\"agent_1_33\"/><circle cx=\"62\" cy=\"293\" r=\"12\" fill=\"rgb(255,255,255)\" class=\"agent_1_46\"/><circle cx=\"333\" cy=\"188\" r=\"11\" fill=\"rgb(255,255,255)\" class=\"agent_1_53\"/><circle cx=\"105\" cy=\"135\" r=\"9\" fill=\"rgb(255,0,0)\" class=\"agent_1_55\"/><circle cx=\"38\" cy=\"132\" r=\"12\" fill=\"rgb(255,255,255)\" class=\"agent_1_78\"/></svg></div>"
      ],
      "text/plain": [
       "<IPython.core.display.HTML object>"
      ]
     },
     "metadata": {},
     "output_type": "display_data"
    },
    {
     "name": "stdout",
     "output_type": "stream",
     "text": [
      "beam 0\ti do n't have that . i have a cluster of 4 dots that form a triangle with a large light grey dot in the middle of them\n",
      "beam 1\ti do n't have that . i have a cluster of 4 dots that form a triangle with a large light gray dot in the middle of them\n",
      "beam 2\ti do n't have that . i have a cluster of 4 dots that form a triangle with a large light gray dot in the middle of the circle\n",
      "beam 3\ti do n't have that . i have a cluster of 4 dots that form a triangle with a large light grey dot in the middle of the circle\n",
      "beam 4\ti do n't have that . i have a cluster of 4 dots that form a triangle with a large light gray dot in the middle of the triangle\n",
      "beam 5\ti do n't have that . i have a cluster of 4 dots that form a triangle with a large light grey dot in the middle of the triangle\n",
      "beam 6\ti do n't have that . i have a cluster of 4 dots that form a triangle with a large light gray dot in the middle of the circle .\n",
      "beam 7\ti do n't have that . i have a cluster of 4 dots that form a triangle with a large light grey dot in the middle of the circle .\n",
      "beam 8\ti do n't have that . i have a cluster of 4 dots that form a triangle with a large light gray dot in the middle of the line\n",
      "beam 9\ti do n't have that . i have a cluster of 4 dots that form a triangle with a large light grey dot in the middle of the line\n",
      "beam 10\ti do n't have that . i have a cluster of 4 dots that form a triangle with a large light gray dot in the middle of the cluster\n",
      "beam 11\ti do n't have that . i have a cluster of 3 dots that form a triangle . the one on the top is the largest and lightest and the rest are the same size\n",
      "beam 12\ti do n't have that . i have a cluster of 3 dots that form a triangle . the one on the top is the largest and lightest . the one on the right is the largest and darkest\n",
      "beam 13\ti do n't have that . i have a cluster of 3 dots that form a triangle . the one on the right is the largest and lightest . the one on the right is the largest and darkest\n",
      "beam 14\ti do n't have that . i have a cluster of 3 dots that form a triangle . the one on the top is the largest and lightest . the one on the bottom is the largest and darkest\n",
      "beam 15\ti do n't have that . i have a cluster of 3 dots that form a triangle . the one on the top is the largest and lightest . the one on the bottom is the largest and darkest ?\n",
      "beam 16\ti do n't have that . i have a cluster of 3 dots that form a triangle . the one on the top is the largest and lightest . the one on the right is the largest and darkest ?\n",
      "beam 17\ti do n't have that . i have a cluster of 3 dots that form a triangle . the one on the right is the largest and lightest . the one on the right is the largest and darkest ?\n",
      "beam 18\ti do n't have that . i have a cluster of 3 dots that form a triangle . the one on the top is the largest and lightest . the one on the right is the largest and darkest .\n",
      "beam 19\ti do n't have that . i have a cluster of 3 dots that form a triangle . the one on the right is the largest and lightest . the one on the right is the largest and darkest .\n",
      "greedy\ti do n't have that . i have a cluster of 3 dots that form a triangle . the top one is the largest and lightest . the one on the right is the darkest and the largest <eos>\n",
      "human\ti dont think i have that one , i have a four dots in a y shape with the left <unk> light and the right dark <eos>\n",
      "refs_pred\n"
     ]
    },
    {
     "data": {
      "text/html": [
       "<div style=\"white-space: nowrap\"><svg viewbox='0 0 430 430' width=\"172\" height=\"172\" id=\"agent_1\"><circle cx=\"215\" cy=\"215\" r=\"205\" fill=\"none\" stroke=\"black\" stroke-width=\"2\" stroke-dasharray=\"3,3\"/><circle cx=\"221\" cy=\"212\" r=\"11\" fill=\"rgb(63,63,63)\"/><circle cx=\"215\" cy=\"397\" r=\"7\" fill=\"rgb(173,173,173)\"/><circle cx=\"68\" cy=\"228\" r=\"12\" fill=\"rgb(125,125,125)\"/><circle cx=\"62\" cy=\"293\" r=\"12\" fill=\"rgb(184,184,184)\"/><circle cx=\"333\" cy=\"188\" r=\"11\" fill=\"rgb(94,94,94)\"/><circle cx=\"105\" cy=\"135\" r=\"9\" fill=\"rgb(84,84,84)\"/><circle cx=\"38\" cy=\"132\" r=\"12\" fill=\"rgb(189,189,189)\"/></svg><svg viewBox='0 0 430 430' id=\"svg\" width=\"172\" height=\"172\"><circle cx=\"215\" cy=\"215\" r=\"205\" fill=\"none\" stroke=\"black\" stroke-width=\"2\" stroke-dasharray=\"3,3\"/> <circle cx=\"221\" cy=\"212\" r=\"11\" fill=\"rgb(255,255,255)\" class=\"agent_1_3\"/><circle cx=\"215\" cy=\"397\" r=\"7\" fill=\"rgb(255,255,255)\" class=\"agent_1_26\"/><circle cx=\"68\" cy=\"228\" r=\"12\" fill=\"rgb(255,255,255)\" class=\"agent_1_33\"/><circle cx=\"62\" cy=\"293\" r=\"12\" fill=\"rgb(255,255,255)\" class=\"agent_1_46\"/><circle cx=\"333\" cy=\"188\" r=\"11\" fill=\"rgb(255,255,255)\" class=\"agent_1_53\"/><circle cx=\"105\" cy=\"135\" r=\"9\" fill=\"rgb(255,255,255)\" class=\"agent_1_55\"/><circle cx=\"38\" cy=\"132\" r=\"12\" fill=\"rgb(255,255,255)\" class=\"agent_1_78\"/></svg><svg viewBox='0 0 430 430' id=\"svg\" width=\"172\" height=\"172\"><circle cx=\"215\" cy=\"215\" r=\"205\" fill=\"none\" stroke=\"black\" stroke-width=\"2\" stroke-dasharray=\"3,3\"/> <circle cx=\"221\" cy=\"212\" r=\"11\" fill=\"rgb(255,255,255)\" class=\"agent_1_3\"/><circle cx=\"215\" cy=\"397\" r=\"7\" fill=\"rgb(255,255,255)\" class=\"agent_1_26\"/><circle cx=\"68\" cy=\"228\" r=\"12\" fill=\"rgb(255,0,0)\" class=\"agent_1_33\"/><circle cx=\"62\" cy=\"293\" r=\"12\" fill=\"rgb(255,0,0)\" class=\"agent_1_46\"/><circle cx=\"333\" cy=\"188\" r=\"11\" fill=\"rgb(255,255,255)\" class=\"agent_1_53\"/><circle cx=\"105\" cy=\"135\" r=\"9\" fill=\"rgb(255,0,0)\" class=\"agent_1_55\"/><circle cx=\"38\" cy=\"132\" r=\"12\" fill=\"rgb(255,0,0)\" class=\"agent_1_78\"/></svg><svg viewBox='0 0 430 430' id=\"svg\" width=\"172\" height=\"172\"><circle cx=\"215\" cy=\"215\" r=\"205\" fill=\"none\" stroke=\"black\" stroke-width=\"2\" stroke-dasharray=\"3,3\"/> <circle cx=\"221\" cy=\"212\" r=\"11\" fill=\"rgb(255,255,255)\" class=\"agent_1_3\"/><circle cx=\"215\" cy=\"397\" r=\"7\" fill=\"rgb(255,255,255)\" class=\"agent_1_26\"/><circle cx=\"68\" cy=\"228\" r=\"12\" fill=\"rgb(255,255,255)\" class=\"agent_1_33\"/><circle cx=\"62\" cy=\"293\" r=\"12\" fill=\"rgb(255,255,255)\" class=\"agent_1_46\"/><circle cx=\"333\" cy=\"188\" r=\"11\" fill=\"rgb(255,255,255)\" class=\"agent_1_53\"/><circle cx=\"105\" cy=\"135\" r=\"9\" fill=\"rgb(255,255,255)\" class=\"agent_1_55\"/><circle cx=\"38\" cy=\"132\" r=\"12\" fill=\"rgb(255,0,0)\" class=\"agent_1_78\"/></svg><svg viewBox='0 0 430 430' id=\"svg\" width=\"172\" height=\"172\"><circle cx=\"215\" cy=\"215\" r=\"205\" fill=\"none\" stroke=\"black\" stroke-width=\"2\" stroke-dasharray=\"3,3\"/> <circle cx=\"221\" cy=\"212\" r=\"11\" fill=\"rgb(255,255,255)\" class=\"agent_1_3\"/><circle cx=\"215\" cy=\"397\" r=\"7\" fill=\"rgb(255,255,255)\" class=\"agent_1_26\"/><circle cx=\"68\" cy=\"228\" r=\"12\" fill=\"rgb(255,255,255)\" class=\"agent_1_33\"/><circle cx=\"62\" cy=\"293\" r=\"12\" fill=\"rgb(255,255,255)\" class=\"agent_1_46\"/><circle cx=\"333\" cy=\"188\" r=\"11\" fill=\"rgb(255,255,255)\" class=\"agent_1_53\"/><circle cx=\"105\" cy=\"135\" r=\"9\" fill=\"rgb(255,0,0)\" class=\"agent_1_55\"/><circle cx=\"38\" cy=\"132\" r=\"12\" fill=\"rgb(255,255,255)\" class=\"agent_1_78\"/></svg></div>"
      ],
      "text/plain": [
       "<IPython.core.display.HTML object>"
      ]
     },
     "metadata": {},
     "output_type": "display_data"
    },
    {
     "name": "stdout",
     "output_type": "stream",
     "text": [
      "refs_true\n"
     ]
    },
    {
     "data": {
      "text/html": [
       "<div style=\"white-space: nowrap\"><svg viewbox='0 0 430 430' width=\"172\" height=\"172\" id=\"agent_1\"><circle cx=\"215\" cy=\"215\" r=\"205\" fill=\"none\" stroke=\"black\" stroke-width=\"2\" stroke-dasharray=\"3,3\"/><circle cx=\"221\" cy=\"212\" r=\"11\" fill=\"rgb(63,63,63)\"/><circle cx=\"215\" cy=\"397\" r=\"7\" fill=\"rgb(173,173,173)\"/><circle cx=\"68\" cy=\"228\" r=\"12\" fill=\"rgb(125,125,125)\"/><circle cx=\"62\" cy=\"293\" r=\"12\" fill=\"rgb(184,184,184)\"/><circle cx=\"333\" cy=\"188\" r=\"11\" fill=\"rgb(94,94,94)\"/><circle cx=\"105\" cy=\"135\" r=\"9\" fill=\"rgb(84,84,84)\"/><circle cx=\"38\" cy=\"132\" r=\"12\" fill=\"rgb(189,189,189)\"/></svg><svg viewBox='0 0 430 430' id=\"svg\" width=\"172\" height=\"172\"><circle cx=\"215\" cy=\"215\" r=\"205\" fill=\"none\" stroke=\"black\" stroke-width=\"2\" stroke-dasharray=\"3,3\"/> <circle cx=\"221\" cy=\"212\" r=\"11\" fill=\"rgb(255,255,255)\" class=\"agent_1_3\"/><circle cx=\"215\" cy=\"397\" r=\"7\" fill=\"rgb(255,255,255)\" class=\"agent_1_26\"/><circle cx=\"68\" cy=\"228\" r=\"12\" fill=\"rgb(255,255,255)\" class=\"agent_1_33\"/><circle cx=\"62\" cy=\"293\" r=\"12\" fill=\"rgb(255,255,255)\" class=\"agent_1_46\"/><circle cx=\"333\" cy=\"188\" r=\"11\" fill=\"rgb(255,255,255)\" class=\"agent_1_53\"/><circle cx=\"105\" cy=\"135\" r=\"9\" fill=\"rgb(255,255,255)\" class=\"agent_1_55\"/><circle cx=\"38\" cy=\"132\" r=\"12\" fill=\"rgb(255,255,255)\" class=\"agent_1_78\"/></svg><svg viewBox='0 0 430 430' id=\"svg\" width=\"172\" height=\"172\"><circle cx=\"215\" cy=\"215\" r=\"205\" fill=\"none\" stroke=\"black\" stroke-width=\"2\" stroke-dasharray=\"3,3\"/> <circle cx=\"221\" cy=\"212\" r=\"11\" fill=\"rgb(255,255,255)\" class=\"agent_1_3\"/><circle cx=\"215\" cy=\"397\" r=\"7\" fill=\"rgb(255,255,255)\" class=\"agent_1_26\"/><circle cx=\"68\" cy=\"228\" r=\"12\" fill=\"rgb(255,0,0)\" class=\"agent_1_33\"/><circle cx=\"62\" cy=\"293\" r=\"12\" fill=\"rgb(255,0,0)\" class=\"agent_1_46\"/><circle cx=\"333\" cy=\"188\" r=\"11\" fill=\"rgb(255,255,255)\" class=\"agent_1_53\"/><circle cx=\"105\" cy=\"135\" r=\"9\" fill=\"rgb(255,0,0)\" class=\"agent_1_55\"/><circle cx=\"38\" cy=\"132\" r=\"12\" fill=\"rgb(255,0,0)\" class=\"agent_1_78\"/></svg><svg viewBox='0 0 430 430' id=\"svg\" width=\"172\" height=\"172\"><circle cx=\"215\" cy=\"215\" r=\"205\" fill=\"none\" stroke=\"black\" stroke-width=\"2\" stroke-dasharray=\"3,3\"/> <circle cx=\"221\" cy=\"212\" r=\"11\" fill=\"rgb(255,255,255)\" class=\"agent_1_3\"/><circle cx=\"215\" cy=\"397\" r=\"7\" fill=\"rgb(255,255,255)\" class=\"agent_1_26\"/><circle cx=\"68\" cy=\"228\" r=\"12\" fill=\"rgb(255,255,255)\" class=\"agent_1_33\"/><circle cx=\"62\" cy=\"293\" r=\"12\" fill=\"rgb(255,255,255)\" class=\"agent_1_46\"/><circle cx=\"333\" cy=\"188\" r=\"11\" fill=\"rgb(255,255,255)\" class=\"agent_1_53\"/><circle cx=\"105\" cy=\"135\" r=\"9\" fill=\"rgb(255,255,255)\" class=\"agent_1_55\"/><circle cx=\"38\" cy=\"132\" r=\"12\" fill=\"rgb(255,0,0)\" class=\"agent_1_78\"/></svg><svg viewBox='0 0 430 430' id=\"svg\" width=\"172\" height=\"172\"><circle cx=\"215\" cy=\"215\" r=\"205\" fill=\"none\" stroke=\"black\" stroke-width=\"2\" stroke-dasharray=\"3,3\"/> <circle cx=\"221\" cy=\"212\" r=\"11\" fill=\"rgb(255,255,255)\" class=\"agent_1_3\"/><circle cx=\"215\" cy=\"397\" r=\"7\" fill=\"rgb(255,255,255)\" class=\"agent_1_26\"/><circle cx=\"68\" cy=\"228\" r=\"12\" fill=\"rgb(255,255,255)\" class=\"agent_1_33\"/><circle cx=\"62\" cy=\"293\" r=\"12\" fill=\"rgb(255,255,255)\" class=\"agent_1_46\"/><circle cx=\"333\" cy=\"188\" r=\"11\" fill=\"rgb(255,255,255)\" class=\"agent_1_53\"/><circle cx=\"105\" cy=\"135\" r=\"9\" fill=\"rgb(255,0,0)\" class=\"agent_1_55\"/><circle cx=\"38\" cy=\"132\" r=\"12\" fill=\"rgb(255,255,255)\" class=\"agent_1_78\"/></svg></div>"
      ],
      "text/plain": [
       "<IPython.core.display.HTML object>"
      ]
     },
     "metadata": {},
     "output_type": "display_data"
    },
    {
     "name": "stdout",
     "output_type": "stream",
     "text": [
      "\n",
      "----------------------------------------\n",
      "\n",
      "human\tTHEM: yes i have those 4 , the right one is smaller than other 3 <eos>\n",
      "partner_refs_pred\n"
     ]
    },
    {
     "data": {
      "text/html": [
       "<div style=\"white-space: nowrap\"><svg viewbox='0 0 430 430' width=\"172\" height=\"172\" id=\"agent_1\"><circle cx=\"215\" cy=\"215\" r=\"205\" fill=\"none\" stroke=\"black\" stroke-width=\"2\" stroke-dasharray=\"3,3\"/><circle cx=\"221\" cy=\"212\" r=\"11\" fill=\"rgb(63,63,63)\"/><circle cx=\"215\" cy=\"397\" r=\"7\" fill=\"rgb(173,173,173)\"/><circle cx=\"68\" cy=\"228\" r=\"12\" fill=\"rgb(125,125,125)\"/><circle cx=\"62\" cy=\"293\" r=\"12\" fill=\"rgb(184,184,184)\"/><circle cx=\"333\" cy=\"188\" r=\"11\" fill=\"rgb(94,94,94)\"/><circle cx=\"105\" cy=\"135\" r=\"9\" fill=\"rgb(84,84,84)\"/><circle cx=\"38\" cy=\"132\" r=\"12\" fill=\"rgb(189,189,189)\"/></svg><svg viewBox='0 0 430 430' id=\"svg\" width=\"172\" height=\"172\"><circle cx=\"215\" cy=\"215\" r=\"205\" fill=\"none\" stroke=\"black\" stroke-width=\"2\" stroke-dasharray=\"3,3\"/> <circle cx=\"221\" cy=\"212\" r=\"11\" fill=\"rgb(255,255,255)\" class=\"agent_1_3\"/><circle cx=\"215\" cy=\"397\" r=\"7\" fill=\"rgb(255,255,255)\" class=\"agent_1_26\"/><circle cx=\"68\" cy=\"228\" r=\"12\" fill=\"rgb(255,0,0)\" class=\"agent_1_33\"/><circle cx=\"62\" cy=\"293\" r=\"12\" fill=\"rgb(255,255,255)\" class=\"agent_1_46\"/><circle cx=\"333\" cy=\"188\" r=\"11\" fill=\"rgb(255,255,255)\" class=\"agent_1_53\"/><circle cx=\"105\" cy=\"135\" r=\"9\" fill=\"rgb(255,0,0)\" class=\"agent_1_55\"/><circle cx=\"38\" cy=\"132\" r=\"12\" fill=\"rgb(255,0,0)\" class=\"agent_1_78\"/></svg><svg viewBox='0 0 430 430' id=\"svg\" width=\"172\" height=\"172\"><circle cx=\"215\" cy=\"215\" r=\"205\" fill=\"none\" stroke=\"black\" stroke-width=\"2\" stroke-dasharray=\"3,3\"/> <circle cx=\"221\" cy=\"212\" r=\"11\" fill=\"rgb(255,255,255)\" class=\"agent_1_3\"/><circle cx=\"215\" cy=\"397\" r=\"7\" fill=\"rgb(255,255,255)\" class=\"agent_1_26\"/><circle cx=\"68\" cy=\"228\" r=\"12\" fill=\"rgb(255,0,0)\" class=\"agent_1_33\"/><circle cx=\"62\" cy=\"293\" r=\"12\" fill=\"rgb(255,255,255)\" class=\"agent_1_46\"/><circle cx=\"333\" cy=\"188\" r=\"11\" fill=\"rgb(255,255,255)\" class=\"agent_1_53\"/><circle cx=\"105\" cy=\"135\" r=\"9\" fill=\"rgb(255,0,0)\" class=\"agent_1_55\"/><circle cx=\"38\" cy=\"132\" r=\"12\" fill=\"rgb(255,255,255)\" class=\"agent_1_78\"/></svg><svg viewBox='0 0 430 430' id=\"svg\" width=\"172\" height=\"172\"><circle cx=\"215\" cy=\"215\" r=\"205\" fill=\"none\" stroke=\"black\" stroke-width=\"2\" stroke-dasharray=\"3,3\"/> <circle cx=\"221\" cy=\"212\" r=\"11\" fill=\"rgb(255,255,255)\" class=\"agent_1_3\"/><circle cx=\"215\" cy=\"397\" r=\"7\" fill=\"rgb(255,255,255)\" class=\"agent_1_26\"/><circle cx=\"68\" cy=\"228\" r=\"12\" fill=\"rgb(255,0,0)\" class=\"agent_1_33\"/><circle cx=\"62\" cy=\"293\" r=\"12\" fill=\"rgb(255,0,0)\" class=\"agent_1_46\"/><circle cx=\"333\" cy=\"188\" r=\"11\" fill=\"rgb(255,255,255)\" class=\"agent_1_53\"/><circle cx=\"105\" cy=\"135\" r=\"9\" fill=\"rgb(255,255,255)\" class=\"agent_1_55\"/><circle cx=\"38\" cy=\"132\" r=\"12\" fill=\"rgb(255,0,0)\" class=\"agent_1_78\"/></svg></div>"
      ],
      "text/plain": [
       "<IPython.core.display.HTML object>"
      ]
     },
     "metadata": {},
     "output_type": "display_data"
    },
    {
     "name": "stdout",
     "output_type": "stream",
     "text": [
      "partner_refs_true\n"
     ]
    },
    {
     "data": {
      "text/html": [
       "<div style=\"white-space: nowrap\"><svg viewbox='0 0 430 430' width=\"172\" height=\"172\" id=\"agent_1\"><circle cx=\"215\" cy=\"215\" r=\"205\" fill=\"none\" stroke=\"black\" stroke-width=\"2\" stroke-dasharray=\"3,3\"/><circle cx=\"221\" cy=\"212\" r=\"11\" fill=\"rgb(63,63,63)\"/><circle cx=\"215\" cy=\"397\" r=\"7\" fill=\"rgb(173,173,173)\"/><circle cx=\"68\" cy=\"228\" r=\"12\" fill=\"rgb(125,125,125)\"/><circle cx=\"62\" cy=\"293\" r=\"12\" fill=\"rgb(184,184,184)\"/><circle cx=\"333\" cy=\"188\" r=\"11\" fill=\"rgb(94,94,94)\"/><circle cx=\"105\" cy=\"135\" r=\"9\" fill=\"rgb(84,84,84)\"/><circle cx=\"38\" cy=\"132\" r=\"12\" fill=\"rgb(189,189,189)\"/></svg><svg viewBox='0 0 430 430' id=\"svg\" width=\"172\" height=\"172\"><circle cx=\"215\" cy=\"215\" r=\"205\" fill=\"none\" stroke=\"black\" stroke-width=\"2\" stroke-dasharray=\"3,3\"/> <circle cx=\"221\" cy=\"212\" r=\"11\" fill=\"rgb(255,255,255)\" class=\"agent_1_3\"/><circle cx=\"215\" cy=\"397\" r=\"7\" fill=\"rgb(255,255,255)\" class=\"agent_1_26\"/><circle cx=\"68\" cy=\"228\" r=\"12\" fill=\"rgb(255,0,0)\" class=\"agent_1_33\"/><circle cx=\"62\" cy=\"293\" r=\"12\" fill=\"rgb(255,0,0)\" class=\"agent_1_46\"/><circle cx=\"333\" cy=\"188\" r=\"11\" fill=\"rgb(255,255,255)\" class=\"agent_1_53\"/><circle cx=\"105\" cy=\"135\" r=\"9\" fill=\"rgb(255,0,0)\" class=\"agent_1_55\"/><circle cx=\"38\" cy=\"132\" r=\"12\" fill=\"rgb(255,0,0)\" class=\"agent_1_78\"/></svg><svg viewBox='0 0 430 430' id=\"svg\" width=\"172\" height=\"172\"><circle cx=\"215\" cy=\"215\" r=\"205\" fill=\"none\" stroke=\"black\" stroke-width=\"2\" stroke-dasharray=\"3,3\"/> <circle cx=\"221\" cy=\"212\" r=\"11\" fill=\"rgb(255,255,255)\" class=\"agent_1_3\"/><circle cx=\"215\" cy=\"397\" r=\"7\" fill=\"rgb(255,255,255)\" class=\"agent_1_26\"/><circle cx=\"68\" cy=\"228\" r=\"12\" fill=\"rgb(255,255,255)\" class=\"agent_1_33\"/><circle cx=\"62\" cy=\"293\" r=\"12\" fill=\"rgb(255,255,255)\" class=\"agent_1_46\"/><circle cx=\"333\" cy=\"188\" r=\"11\" fill=\"rgb(255,255,255)\" class=\"agent_1_53\"/><circle cx=\"105\" cy=\"135\" r=\"9\" fill=\"rgb(255,0,0)\" class=\"agent_1_55\"/><circle cx=\"38\" cy=\"132\" r=\"12\" fill=\"rgb(255,255,255)\" class=\"agent_1_78\"/></svg><svg viewBox='0 0 430 430' id=\"svg\" width=\"172\" height=\"172\"><circle cx=\"215\" cy=\"215\" r=\"205\" fill=\"none\" stroke=\"black\" stroke-width=\"2\" stroke-dasharray=\"3,3\"/> <circle cx=\"221\" cy=\"212\" r=\"11\" fill=\"rgb(255,255,255)\" class=\"agent_1_3\"/><circle cx=\"215\" cy=\"397\" r=\"7\" fill=\"rgb(255,255,255)\" class=\"agent_1_26\"/><circle cx=\"68\" cy=\"228\" r=\"12\" fill=\"rgb(255,0,0)\" class=\"agent_1_33\"/><circle cx=\"62\" cy=\"293\" r=\"12\" fill=\"rgb(255,0,0)\" class=\"agent_1_46\"/><circle cx=\"333\" cy=\"188\" r=\"11\" fill=\"rgb(255,255,255)\" class=\"agent_1_53\"/><circle cx=\"105\" cy=\"135\" r=\"9\" fill=\"rgb(255,255,255)\" class=\"agent_1_55\"/><circle cx=\"38\" cy=\"132\" r=\"12\" fill=\"rgb(255,0,0)\" class=\"agent_1_78\"/></svg></div>"
      ],
      "text/plain": [
       "<IPython.core.display.HTML object>"
      ]
     },
     "metadata": {},
     "output_type": "display_data"
    },
    {
     "name": "stdout",
     "output_type": "stream",
     "text": [
      "\n",
      "----------------------------------------\n",
      "\n",
      "to_mention_pred\n"
     ]
    },
    {
     "data": {
      "text/html": [
       "<div style=\"white-space: nowrap\"><svg viewbox='0 0 430 430' width=\"172\" height=\"172\" id=\"agent_1\"><circle cx=\"215\" cy=\"215\" r=\"205\" fill=\"none\" stroke=\"black\" stroke-width=\"2\" stroke-dasharray=\"3,3\"/><circle cx=\"221\" cy=\"212\" r=\"11\" fill=\"rgb(63,63,63)\"/><circle cx=\"215\" cy=\"397\" r=\"7\" fill=\"rgb(173,173,173)\"/><circle cx=\"68\" cy=\"228\" r=\"12\" fill=\"rgb(125,125,125)\"/><circle cx=\"62\" cy=\"293\" r=\"12\" fill=\"rgb(184,184,184)\"/><circle cx=\"333\" cy=\"188\" r=\"11\" fill=\"rgb(94,94,94)\"/><circle cx=\"105\" cy=\"135\" r=\"9\" fill=\"rgb(84,84,84)\"/><circle cx=\"38\" cy=\"132\" r=\"12\" fill=\"rgb(189,189,189)\"/></svg><svg viewBox='0 0 430 430' id=\"svg\" width=\"172\" height=\"172\"><circle cx=\"215\" cy=\"215\" r=\"205\" fill=\"none\" stroke=\"black\" stroke-width=\"2\" stroke-dasharray=\"3,3\"/> <circle cx=\"221\" cy=\"212\" r=\"11\" fill=\"rgb(255,255,255)\" class=\"agent_1_3\"/><circle cx=\"215\" cy=\"397\" r=\"7\" fill=\"rgb(255,255,255)\" class=\"agent_1_26\"/><circle cx=\"68\" cy=\"228\" r=\"12\" fill=\"rgb(255,255,255)\" class=\"agent_1_33\"/><circle cx=\"62\" cy=\"293\" r=\"12\" fill=\"rgb(255,255,255)\" class=\"agent_1_46\"/><circle cx=\"333\" cy=\"188\" r=\"11\" fill=\"rgb(255,255,255)\" class=\"agent_1_53\"/><circle cx=\"105\" cy=\"135\" r=\"9\" fill=\"rgb(255,0,0)\" class=\"agent_1_55\"/><circle cx=\"38\" cy=\"132\" r=\"12\" fill=\"rgb(255,255,255)\" class=\"agent_1_78\"/></svg><svg viewBox='0 0 430 430' id=\"svg\" width=\"172\" height=\"172\"><circle cx=\"215\" cy=\"215\" r=\"205\" fill=\"none\" stroke=\"black\" stroke-width=\"2\" stroke-dasharray=\"3,3\"/> <circle cx=\"221\" cy=\"212\" r=\"11\" fill=\"rgb(255,255,255)\" class=\"agent_1_3\"/><circle cx=\"215\" cy=\"397\" r=\"7\" fill=\"rgb(255,255,255)\" class=\"agent_1_26\"/><circle cx=\"68\" cy=\"228\" r=\"12\" fill=\"rgb(255,255,255)\" class=\"agent_1_33\"/><circle cx=\"62\" cy=\"293\" r=\"12\" fill=\"rgb(255,255,255)\" class=\"agent_1_46\"/><circle cx=\"333\" cy=\"188\" r=\"11\" fill=\"rgb(255,255,255)\" class=\"agent_1_53\"/><circle cx=\"105\" cy=\"135\" r=\"9\" fill=\"rgb(255,0,0)\" class=\"agent_1_55\"/><circle cx=\"38\" cy=\"132\" r=\"12\" fill=\"rgb(255,255,255)\" class=\"agent_1_78\"/></svg><svg viewBox='0 0 430 430' id=\"svg\" width=\"172\" height=\"172\"><circle cx=\"215\" cy=\"215\" r=\"205\" fill=\"none\" stroke=\"black\" stroke-width=\"2\" stroke-dasharray=\"3,3\"/> <circle cx=\"221\" cy=\"212\" r=\"11\" fill=\"rgb(255,255,255)\" class=\"agent_1_3\"/><circle cx=\"215\" cy=\"397\" r=\"7\" fill=\"rgb(255,255,255)\" class=\"agent_1_26\"/><circle cx=\"68\" cy=\"228\" r=\"12\" fill=\"rgb(255,255,255)\" class=\"agent_1_33\"/><circle cx=\"62\" cy=\"293\" r=\"12\" fill=\"rgb(255,255,255)\" class=\"agent_1_46\"/><circle cx=\"333\" cy=\"188\" r=\"11\" fill=\"rgb(255,255,255)\" class=\"agent_1_53\"/><circle cx=\"105\" cy=\"135\" r=\"9\" fill=\"rgb(255,0,0)\" class=\"agent_1_55\"/><circle cx=\"38\" cy=\"132\" r=\"12\" fill=\"rgb(255,255,255)\" class=\"agent_1_78\"/></svg></div>"
      ],
      "text/plain": [
       "<IPython.core.display.HTML object>"
      ]
     },
     "metadata": {},
     "output_type": "display_data"
    },
    {
     "name": "stdout",
     "output_type": "stream",
     "text": [
      "to_mention_true\n"
     ]
    },
    {
     "data": {
      "text/html": [
       "<div style=\"white-space: nowrap\"><svg viewbox='0 0 430 430' width=\"172\" height=\"172\" id=\"agent_1\"><circle cx=\"215\" cy=\"215\" r=\"205\" fill=\"none\" stroke=\"black\" stroke-width=\"2\" stroke-dasharray=\"3,3\"/><circle cx=\"221\" cy=\"212\" r=\"11\" fill=\"rgb(63,63,63)\"/><circle cx=\"215\" cy=\"397\" r=\"7\" fill=\"rgb(173,173,173)\"/><circle cx=\"68\" cy=\"228\" r=\"12\" fill=\"rgb(125,125,125)\"/><circle cx=\"62\" cy=\"293\" r=\"12\" fill=\"rgb(184,184,184)\"/><circle cx=\"333\" cy=\"188\" r=\"11\" fill=\"rgb(94,94,94)\"/><circle cx=\"105\" cy=\"135\" r=\"9\" fill=\"rgb(84,84,84)\"/><circle cx=\"38\" cy=\"132\" r=\"12\" fill=\"rgb(189,189,189)\"/></svg><svg viewBox='0 0 430 430' id=\"svg\" width=\"172\" height=\"172\"><circle cx=\"215\" cy=\"215\" r=\"205\" fill=\"none\" stroke=\"black\" stroke-width=\"2\" stroke-dasharray=\"3,3\"/> <circle cx=\"221\" cy=\"212\" r=\"11\" fill=\"rgb(255,255,255)\" class=\"agent_1_3\"/><circle cx=\"215\" cy=\"397\" r=\"7\" fill=\"rgb(255,255,255)\" class=\"agent_1_26\"/><circle cx=\"68\" cy=\"228\" r=\"12\" fill=\"rgb(255,0,0)\" class=\"agent_1_33\"/><circle cx=\"62\" cy=\"293\" r=\"12\" fill=\"rgb(255,0,0)\" class=\"agent_1_46\"/><circle cx=\"333\" cy=\"188\" r=\"11\" fill=\"rgb(255,255,255)\" class=\"agent_1_53\"/><circle cx=\"105\" cy=\"135\" r=\"9\" fill=\"rgb(255,255,255)\" class=\"agent_1_55\"/><circle cx=\"38\" cy=\"132\" r=\"12\" fill=\"rgb(255,255,255)\" class=\"agent_1_78\"/></svg><svg viewBox='0 0 430 430' id=\"svg\" width=\"172\" height=\"172\"><circle cx=\"215\" cy=\"215\" r=\"205\" fill=\"none\" stroke=\"black\" stroke-width=\"2\" stroke-dasharray=\"3,3\"/> <circle cx=\"221\" cy=\"212\" r=\"11\" fill=\"rgb(255,255,255)\" class=\"agent_1_3\"/><circle cx=\"215\" cy=\"397\" r=\"7\" fill=\"rgb(255,255,255)\" class=\"agent_1_26\"/><circle cx=\"68\" cy=\"228\" r=\"12\" fill=\"rgb(255,255,255)\" class=\"agent_1_33\"/><circle cx=\"62\" cy=\"293\" r=\"12\" fill=\"rgb(255,0,0)\" class=\"agent_1_46\"/><circle cx=\"333\" cy=\"188\" r=\"11\" fill=\"rgb(255,255,255)\" class=\"agent_1_53\"/><circle cx=\"105\" cy=\"135\" r=\"9\" fill=\"rgb(255,255,255)\" class=\"agent_1_55\"/><circle cx=\"38\" cy=\"132\" r=\"12\" fill=\"rgb(255,255,255)\" class=\"agent_1_78\"/></svg><svg viewBox='0 0 430 430' id=\"svg\" width=\"172\" height=\"172\"><circle cx=\"215\" cy=\"215\" r=\"205\" fill=\"none\" stroke=\"black\" stroke-width=\"2\" stroke-dasharray=\"3,3\"/> <circle cx=\"221\" cy=\"212\" r=\"11\" fill=\"rgb(255,255,255)\" class=\"agent_1_3\"/><circle cx=\"215\" cy=\"397\" r=\"7\" fill=\"rgb(255,255,255)\" class=\"agent_1_26\"/><circle cx=\"68\" cy=\"228\" r=\"12\" fill=\"rgb(255,255,255)\" class=\"agent_1_33\"/><circle cx=\"62\" cy=\"293\" r=\"12\" fill=\"rgb(255,255,255)\" class=\"agent_1_46\"/><circle cx=\"333\" cy=\"188\" r=\"11\" fill=\"rgb(255,255,255)\" class=\"agent_1_53\"/><circle cx=\"105\" cy=\"135\" r=\"9\" fill=\"rgb(255,0,0)\" class=\"agent_1_55\"/><circle cx=\"38\" cy=\"132\" r=\"12\" fill=\"rgb(255,255,255)\" class=\"agent_1_78\"/></svg></div>"
      ],
      "text/plain": [
       "<IPython.core.display.HTML object>"
      ]
     },
     "metadata": {},
     "output_type": "display_data"
    },
    {
     "name": "stdout",
     "output_type": "stream",
     "text": [
      "beam 0\tdo you have a large medium gray dot with a smaller black dot to the right of it ?\n",
      "beam 1\tdo you have a large light grey dot with a smaller black dot to the right of it ?\n",
      "beam 2\tdo you have a large medium gray dot with a smaller black dot to the left of it ?\n",
      "beam 3\tdo you have a large medium gray dot with a small black dot to the right of it ?\n",
      "beam 4\tdo you have a large medium grey dot with a smaller black dot to the right of it ?\n",
      "beam 5\tdo you have a large light grey dot with a smaller black dot to the left of it ?\n",
      "beam 6\tdo you have a large light grey dot with a small black dot to the right of it ?\n",
      "beam 7\tdo you have a large medium gray dot with a small black dot to the left of it ?\n",
      "beam 8\tdo you have a large medium grey dot with a small black dot to the right of it ?\n",
      "beam 9\tdo you have a large medium grey dot with a smaller black dot to the left of it ?\n",
      "beam 10\tdo you have a large light grey dot with a small black dot to the left of it ?\n",
      "beam 11\tdo you have a large medium grey dot with a small black dot to the left of it ?\n",
      "beam 12\tdo you have a large medium gray dot with a smaller black dot above and to the right of it ?\n",
      "beam 13\tdo you have a large light grey dot with a smaller black dot above and to the right of it ?\n",
      "beam 14\tdo you have a large medium gray dot with a smaller black dot above and to the left of it ?\n",
      "beam 15\tdo you have a large light grey dot with a smaller black dot above and to the left of it ?\n",
      "beam 16\tdo you have a large medium gray dot with a smaller black dot below and to the right of it ?\n",
      "beam 17\tdo you have a large medium gray dot with a smaller black dot below and to the left of it ?\n",
      "beam 18\tdo you have a large light grey dot with a smaller black dot below and to the right of it ?\n",
      "beam 19\tdo you have a large light grey dot with a smaller black dot below and to the left of it ?\n",
      "greedy\ti think i see that . is the one on the right slightly larger than the other two ? <eos>\n",
      "human\tyes and the <unk> of the y has a lighter one on the bottom ? lets pick the top right dark one <eos>\n",
      "refs_pred\n"
     ]
    },
    {
     "data": {
      "text/html": [
       "<div style=\"white-space: nowrap\"><svg viewbox='0 0 430 430' width=\"172\" height=\"172\" id=\"agent_1\"><circle cx=\"215\" cy=\"215\" r=\"205\" fill=\"none\" stroke=\"black\" stroke-width=\"2\" stroke-dasharray=\"3,3\"/><circle cx=\"221\" cy=\"212\" r=\"11\" fill=\"rgb(63,63,63)\"/><circle cx=\"215\" cy=\"397\" r=\"7\" fill=\"rgb(173,173,173)\"/><circle cx=\"68\" cy=\"228\" r=\"12\" fill=\"rgb(125,125,125)\"/><circle cx=\"62\" cy=\"293\" r=\"12\" fill=\"rgb(184,184,184)\"/><circle cx=\"333\" cy=\"188\" r=\"11\" fill=\"rgb(94,94,94)\"/><circle cx=\"105\" cy=\"135\" r=\"9\" fill=\"rgb(84,84,84)\"/><circle cx=\"38\" cy=\"132\" r=\"12\" fill=\"rgb(189,189,189)\"/></svg><svg viewBox='0 0 430 430' id=\"svg\" width=\"172\" height=\"172\"><circle cx=\"215\" cy=\"215\" r=\"205\" fill=\"none\" stroke=\"black\" stroke-width=\"2\" stroke-dasharray=\"3,3\"/> <circle cx=\"221\" cy=\"212\" r=\"11\" fill=\"rgb(255,255,255)\" class=\"agent_1_3\"/><circle cx=\"215\" cy=\"397\" r=\"7\" fill=\"rgb(255,255,255)\" class=\"agent_1_26\"/><circle cx=\"68\" cy=\"228\" r=\"12\" fill=\"rgb(255,255,255)\" class=\"agent_1_33\"/><circle cx=\"62\" cy=\"293\" r=\"12\" fill=\"rgb(255,255,255)\" class=\"agent_1_46\"/><circle cx=\"333\" cy=\"188\" r=\"11\" fill=\"rgb(255,255,255)\" class=\"agent_1_53\"/><circle cx=\"105\" cy=\"135\" r=\"9\" fill=\"rgb(255,0,0)\" class=\"agent_1_55\"/><circle cx=\"38\" cy=\"132\" r=\"12\" fill=\"rgb(255,0,0)\" class=\"agent_1_78\"/></svg><svg viewBox='0 0 430 430' id=\"svg\" width=\"172\" height=\"172\"><circle cx=\"215\" cy=\"215\" r=\"205\" fill=\"none\" stroke=\"black\" stroke-width=\"2\" stroke-dasharray=\"3,3\"/> <circle cx=\"221\" cy=\"212\" r=\"11\" fill=\"rgb(255,255,255)\" class=\"agent_1_3\"/><circle cx=\"215\" cy=\"397\" r=\"7\" fill=\"rgb(255,255,255)\" class=\"agent_1_26\"/><circle cx=\"68\" cy=\"228\" r=\"12\" fill=\"rgb(255,255,255)\" class=\"agent_1_33\"/><circle cx=\"62\" cy=\"293\" r=\"12\" fill=\"rgb(255,255,255)\" class=\"agent_1_46\"/><circle cx=\"333\" cy=\"188\" r=\"11\" fill=\"rgb(255,255,255)\" class=\"agent_1_53\"/><circle cx=\"105\" cy=\"135\" r=\"9\" fill=\"rgb(255,255,255)\" class=\"agent_1_55\"/><circle cx=\"38\" cy=\"132\" r=\"12\" fill=\"rgb(255,0,0)\" class=\"agent_1_78\"/></svg><svg viewBox='0 0 430 430' id=\"svg\" width=\"172\" height=\"172\"><circle cx=\"215\" cy=\"215\" r=\"205\" fill=\"none\" stroke=\"black\" stroke-width=\"2\" stroke-dasharray=\"3,3\"/> <circle cx=\"221\" cy=\"212\" r=\"11\" fill=\"rgb(255,255,255)\" class=\"agent_1_3\"/><circle cx=\"215\" cy=\"397\" r=\"7\" fill=\"rgb(255,255,255)\" class=\"agent_1_26\"/><circle cx=\"68\" cy=\"228\" r=\"12\" fill=\"rgb(255,255,255)\" class=\"agent_1_33\"/><circle cx=\"62\" cy=\"293\" r=\"12\" fill=\"rgb(255,255,255)\" class=\"agent_1_46\"/><circle cx=\"333\" cy=\"188\" r=\"11\" fill=\"rgb(255,255,255)\" class=\"agent_1_53\"/><circle cx=\"105\" cy=\"135\" r=\"9\" fill=\"rgb(255,0,0)\" class=\"agent_1_55\"/><circle cx=\"38\" cy=\"132\" r=\"12\" fill=\"rgb(255,255,255)\" class=\"agent_1_78\"/></svg></div>"
      ],
      "text/plain": [
       "<IPython.core.display.HTML object>"
      ]
     },
     "metadata": {},
     "output_type": "display_data"
    },
    {
     "name": "stdout",
     "output_type": "stream",
     "text": [
      "refs_true\n"
     ]
    },
    {
     "data": {
      "text/html": [
       "<div style=\"white-space: nowrap\"><svg viewbox='0 0 430 430' width=\"172\" height=\"172\" id=\"agent_1\"><circle cx=\"215\" cy=\"215\" r=\"205\" fill=\"none\" stroke=\"black\" stroke-width=\"2\" stroke-dasharray=\"3,3\"/><circle cx=\"221\" cy=\"212\" r=\"11\" fill=\"rgb(63,63,63)\"/><circle cx=\"215\" cy=\"397\" r=\"7\" fill=\"rgb(173,173,173)\"/><circle cx=\"68\" cy=\"228\" r=\"12\" fill=\"rgb(125,125,125)\"/><circle cx=\"62\" cy=\"293\" r=\"12\" fill=\"rgb(184,184,184)\"/><circle cx=\"333\" cy=\"188\" r=\"11\" fill=\"rgb(94,94,94)\"/><circle cx=\"105\" cy=\"135\" r=\"9\" fill=\"rgb(84,84,84)\"/><circle cx=\"38\" cy=\"132\" r=\"12\" fill=\"rgb(189,189,189)\"/></svg><svg viewBox='0 0 430 430' id=\"svg\" width=\"172\" height=\"172\"><circle cx=\"215\" cy=\"215\" r=\"205\" fill=\"none\" stroke=\"black\" stroke-width=\"2\" stroke-dasharray=\"3,3\"/> <circle cx=\"221\" cy=\"212\" r=\"11\" fill=\"rgb(255,255,255)\" class=\"agent_1_3\"/><circle cx=\"215\" cy=\"397\" r=\"7\" fill=\"rgb(255,255,255)\" class=\"agent_1_26\"/><circle cx=\"68\" cy=\"228\" r=\"12\" fill=\"rgb(255,0,0)\" class=\"agent_1_33\"/><circle cx=\"62\" cy=\"293\" r=\"12\" fill=\"rgb(255,0,0)\" class=\"agent_1_46\"/><circle cx=\"333\" cy=\"188\" r=\"11\" fill=\"rgb(255,255,255)\" class=\"agent_1_53\"/><circle cx=\"105\" cy=\"135\" r=\"9\" fill=\"rgb(255,255,255)\" class=\"agent_1_55\"/><circle cx=\"38\" cy=\"132\" r=\"12\" fill=\"rgb(255,255,255)\" class=\"agent_1_78\"/></svg><svg viewBox='0 0 430 430' id=\"svg\" width=\"172\" height=\"172\"><circle cx=\"215\" cy=\"215\" r=\"205\" fill=\"none\" stroke=\"black\" stroke-width=\"2\" stroke-dasharray=\"3,3\"/> <circle cx=\"221\" cy=\"212\" r=\"11\" fill=\"rgb(255,255,255)\" class=\"agent_1_3\"/><circle cx=\"215\" cy=\"397\" r=\"7\" fill=\"rgb(255,255,255)\" class=\"agent_1_26\"/><circle cx=\"68\" cy=\"228\" r=\"12\" fill=\"rgb(255,255,255)\" class=\"agent_1_33\"/><circle cx=\"62\" cy=\"293\" r=\"12\" fill=\"rgb(255,0,0)\" class=\"agent_1_46\"/><circle cx=\"333\" cy=\"188\" r=\"11\" fill=\"rgb(255,255,255)\" class=\"agent_1_53\"/><circle cx=\"105\" cy=\"135\" r=\"9\" fill=\"rgb(255,255,255)\" class=\"agent_1_55\"/><circle cx=\"38\" cy=\"132\" r=\"12\" fill=\"rgb(255,255,255)\" class=\"agent_1_78\"/></svg><svg viewBox='0 0 430 430' id=\"svg\" width=\"172\" height=\"172\"><circle cx=\"215\" cy=\"215\" r=\"205\" fill=\"none\" stroke=\"black\" stroke-width=\"2\" stroke-dasharray=\"3,3\"/> <circle cx=\"221\" cy=\"212\" r=\"11\" fill=\"rgb(255,255,255)\" class=\"agent_1_3\"/><circle cx=\"215\" cy=\"397\" r=\"7\" fill=\"rgb(255,255,255)\" class=\"agent_1_26\"/><circle cx=\"68\" cy=\"228\" r=\"12\" fill=\"rgb(255,255,255)\" class=\"agent_1_33\"/><circle cx=\"62\" cy=\"293\" r=\"12\" fill=\"rgb(255,255,255)\" class=\"agent_1_46\"/><circle cx=\"333\" cy=\"188\" r=\"11\" fill=\"rgb(255,255,255)\" class=\"agent_1_53\"/><circle cx=\"105\" cy=\"135\" r=\"9\" fill=\"rgb(255,0,0)\" class=\"agent_1_55\"/><circle cx=\"38\" cy=\"132\" r=\"12\" fill=\"rgb(255,255,255)\" class=\"agent_1_78\"/></svg></div>"
      ],
      "text/plain": [
       "<IPython.core.display.HTML object>"
      ]
     },
     "metadata": {},
     "output_type": "display_data"
    },
    {
     "name": "stdout",
     "output_type": "stream",
     "text": [
      "\n",
      "----------------------------------------\n",
      "\n",
      "human\tTHEM: yes , sure <selection>\n",
      "\n",
      "----------------------------------------\n",
      "\n"
     ]
    }
   ],
   "source": [
    "force_contexts_and_mentions(9)"
   ]
  },
  {
   "cell_type": "code",
   "execution_count": 66,
   "metadata": {
    "scrolled": false
   },
   "outputs": [
    {
     "name": "stdout",
     "output_type": "stream",
     "text": [
      "to_mention_pred\n"
     ]
    },
    {
     "data": {
      "text/html": [
       "<div style=\"white-space: nowrap\"><svg viewbox='0 0 430 430' width=\"172\" height=\"172\" id=\"agent_0\"><circle cx=\"215\" cy=\"215\" r=\"205\" fill=\"none\" stroke=\"black\" stroke-width=\"2\" stroke-dasharray=\"3,3\"/><circle cx=\"204\" cy=\"19\" r=\"7\" fill=\"rgb(191,191,191)\"/><circle cx=\"193\" cy=\"396\" r=\"10\" fill=\"rgb(179,179,179)\"/><circle cx=\"28\" cy=\"228\" r=\"11\" fill=\"rgb(66,66,66)\"/><circle cx=\"107\" cy=\"280\" r=\"9\" fill=\"rgb(165,165,165)\"/><circle cx=\"274\" cy=\"362\" r=\"10\" fill=\"rgb(60,60,60)\"/><circle cx=\"298\" cy=\"64\" r=\"10\" fill=\"rgb(98,98,98)\"/><circle cx=\"210\" cy=\"112\" r=\"11\" fill=\"rgb(139,139,139)\"/></svg><svg viewBox='0 0 430 430' id=\"svg\" width=\"172\" height=\"172\"><circle cx=\"215\" cy=\"215\" r=\"205\" fill=\"none\" stroke=\"black\" stroke-width=\"2\" stroke-dasharray=\"3,3\"/> <circle cx=\"204\" cy=\"19\" r=\"7\" fill=\"rgb(255,255,255)\" class=\"agent_0_0\"/><circle cx=\"193\" cy=\"396\" r=\"10\" fill=\"rgb(255,255,255)\" class=\"agent_0_4\"/><circle cx=\"28\" cy=\"228\" r=\"11\" fill=\"rgb(255,0,0)\" class=\"agent_0_29\"/><circle cx=\"107\" cy=\"280\" r=\"9\" fill=\"rgb(255,255,255)\" class=\"agent_0_32\"/><circle cx=\"274\" cy=\"362\" r=\"10\" fill=\"rgb(255,255,255)\" class=\"agent_0_60\"/><circle cx=\"298\" cy=\"64\" r=\"10\" fill=\"rgb(255,255,255)\" class=\"agent_0_65\"/><circle cx=\"210\" cy=\"112\" r=\"11\" fill=\"rgb(255,255,255)\" class=\"agent_0_68\"/></svg><svg viewBox='0 0 430 430' id=\"svg\" width=\"172\" height=\"172\"><circle cx=\"215\" cy=\"215\" r=\"205\" fill=\"none\" stroke=\"black\" stroke-width=\"2\" stroke-dasharray=\"3,3\"/> <circle cx=\"204\" cy=\"19\" r=\"7\" fill=\"rgb(255,255,255)\" class=\"agent_0_0\"/><circle cx=\"193\" cy=\"396\" r=\"10\" fill=\"rgb(255,255,255)\" class=\"agent_0_4\"/><circle cx=\"28\" cy=\"228\" r=\"11\" fill=\"rgb(255,255,255)\" class=\"agent_0_29\"/><circle cx=\"107\" cy=\"280\" r=\"9\" fill=\"rgb(255,255,255)\" class=\"agent_0_32\"/><circle cx=\"274\" cy=\"362\" r=\"10\" fill=\"rgb(255,255,255)\" class=\"agent_0_60\"/><circle cx=\"298\" cy=\"64\" r=\"10\" fill=\"rgb(255,255,255)\" class=\"agent_0_65\"/><circle cx=\"210\" cy=\"112\" r=\"11\" fill=\"rgb(255,255,255)\" class=\"agent_0_68\"/></svg></div>"
      ],
      "text/plain": [
       "<IPython.core.display.HTML object>"
      ]
     },
     "metadata": {},
     "output_type": "display_data"
    },
    {
     "name": "stdout",
     "output_type": "stream",
     "text": [
      "to_mention_true\n"
     ]
    },
    {
     "data": {
      "text/html": [
       "<div style=\"white-space: nowrap\"><svg viewbox='0 0 430 430' width=\"172\" height=\"172\" id=\"agent_0\"><circle cx=\"215\" cy=\"215\" r=\"205\" fill=\"none\" stroke=\"black\" stroke-width=\"2\" stroke-dasharray=\"3,3\"/><circle cx=\"204\" cy=\"19\" r=\"7\" fill=\"rgb(191,191,191)\"/><circle cx=\"193\" cy=\"396\" r=\"10\" fill=\"rgb(179,179,179)\"/><circle cx=\"28\" cy=\"228\" r=\"11\" fill=\"rgb(66,66,66)\"/><circle cx=\"107\" cy=\"280\" r=\"9\" fill=\"rgb(165,165,165)\"/><circle cx=\"274\" cy=\"362\" r=\"10\" fill=\"rgb(60,60,60)\"/><circle cx=\"298\" cy=\"64\" r=\"10\" fill=\"rgb(98,98,98)\"/><circle cx=\"210\" cy=\"112\" r=\"11\" fill=\"rgb(139,139,139)\"/></svg><svg viewBox='0 0 430 430' id=\"svg\" width=\"172\" height=\"172\"><circle cx=\"215\" cy=\"215\" r=\"205\" fill=\"none\" stroke=\"black\" stroke-width=\"2\" stroke-dasharray=\"3,3\"/> <circle cx=\"204\" cy=\"19\" r=\"7\" fill=\"rgb(255,0,0)\" class=\"agent_0_0\"/><circle cx=\"193\" cy=\"396\" r=\"10\" fill=\"rgb(255,255,255)\" class=\"agent_0_4\"/><circle cx=\"28\" cy=\"228\" r=\"11\" fill=\"rgb(255,255,255)\" class=\"agent_0_29\"/><circle cx=\"107\" cy=\"280\" r=\"9\" fill=\"rgb(255,255,255)\" class=\"agent_0_32\"/><circle cx=\"274\" cy=\"362\" r=\"10\" fill=\"rgb(255,255,255)\" class=\"agent_0_60\"/><circle cx=\"298\" cy=\"64\" r=\"10\" fill=\"rgb(255,0,0)\" class=\"agent_0_65\"/><circle cx=\"210\" cy=\"112\" r=\"11\" fill=\"rgb(255,0,0)\" class=\"agent_0_68\"/></svg><svg viewBox='0 0 430 430' id=\"svg\" width=\"172\" height=\"172\"><circle cx=\"215\" cy=\"215\" r=\"205\" fill=\"none\" stroke=\"black\" stroke-width=\"2\" stroke-dasharray=\"3,3\"/> <circle cx=\"204\" cy=\"19\" r=\"7\" fill=\"rgb(255,0,0)\" class=\"agent_0_0\"/><circle cx=\"193\" cy=\"396\" r=\"10\" fill=\"rgb(255,255,255)\" class=\"agent_0_4\"/><circle cx=\"28\" cy=\"228\" r=\"11\" fill=\"rgb(255,255,255)\" class=\"agent_0_29\"/><circle cx=\"107\" cy=\"280\" r=\"9\" fill=\"rgb(255,255,255)\" class=\"agent_0_32\"/><circle cx=\"274\" cy=\"362\" r=\"10\" fill=\"rgb(255,255,255)\" class=\"agent_0_60\"/><circle cx=\"298\" cy=\"64\" r=\"10\" fill=\"rgb(255,255,255)\" class=\"agent_0_65\"/><circle cx=\"210\" cy=\"112\" r=\"11\" fill=\"rgb(255,255,255)\" class=\"agent_0_68\"/></svg></div>"
      ],
      "text/plain": [
       "<IPython.core.display.HTML object>"
      ]
     },
     "metadata": {},
     "output_type": "display_data"
    },
    {
     "name": "stdout",
     "output_type": "stream",
     "text": [
      "beam 0\tdo you see a cluster of 4 dots with a large light grey dot in the middle ?\n",
      "beam 1\tdo you see a cluster of 4 dots with a small light grey dot in the middle ?\n",
      "beam 2\tdo you see a cluster of 4 dots with a small light grey dot in the middle of the circle ?\n",
      "beam 3\tdo you see a cluster of 3 dots with a small light grey dot in the middle of the circle ?\n",
      "beam 4\tdo you see a cluster of 4 dots with a large light grey dot in the middle of the circle ?\n",
      "beam 5\tdo you see a cluster of 4 dots with a small light grey dot in the middle of the circle\n",
      "beam 6\tdo you see a cluster of 4 dots with a large light grey dot in the middle of the circle\n",
      "beam 7\tdo you see a cluster of 3 dots with a small light grey dot in the middle of the circle\n",
      "beam 8\ti have a cluster of 3 dots that form a triangle . the top one is the smallest and lightest\n",
      "beam 9\ti have a cluster of 3 dots that form a triangle . the one on the bottom is the smallest and lightest\n",
      "beam 10\ti have a cluster of three dots that form a triangle . the one on the bottom is the smallest and lightest\n",
      "beam 11\ti have a cluster of 3 dots that form a triangle . the one on the top is the smallest and lightest\n",
      "beam 12\ti have a cluster of 3 dots that form a triangle . the one on the left is the smallest and lightest\n",
      "beam 13\ti have a cluster of 3 dots that form a triangle . the one on the right is the smallest and lightest\n",
      "beam 14\ti have a cluster of 3 dots that form a triangle . the one on the bottom is the smallest and the lightest\n",
      "beam 15\ti have a cluster of 3 dots that form a triangle . the one on the bottom is the smallest and lightest ?\n",
      "beam 16\ti have a cluster of 3 dots that form a triangle . the one on the top is the smallest and the lightest\n",
      "beam 17\ti have a cluster of three dots that form a triangle . the one on the bottom is the smallest and the lightest\n",
      "beam 18\ti have a cluster of 3 dots that form a triangle . the one on the bottom is the smallest and lightest .\n",
      "beam 19\ti have a cluster of 3 dots that form a triangle . the one on the left is the smallest and the lightest\n",
      "greedy\ti have a cluster of 3 dots . the one on the left is the lightest and the lightest <eos>\n",
      "human\tperfect triangle with the <unk> of the triangle a very small light gray dot ? <eos>\n",
      "refs_pred\n"
     ]
    },
    {
     "data": {
      "text/html": [
       "<div style=\"white-space: nowrap\"><svg viewbox='0 0 430 430' width=\"172\" height=\"172\" id=\"agent_0\"><circle cx=\"215\" cy=\"215\" r=\"205\" fill=\"none\" stroke=\"black\" stroke-width=\"2\" stroke-dasharray=\"3,3\"/><circle cx=\"204\" cy=\"19\" r=\"7\" fill=\"rgb(191,191,191)\"/><circle cx=\"193\" cy=\"396\" r=\"10\" fill=\"rgb(179,179,179)\"/><circle cx=\"28\" cy=\"228\" r=\"11\" fill=\"rgb(66,66,66)\"/><circle cx=\"107\" cy=\"280\" r=\"9\" fill=\"rgb(165,165,165)\"/><circle cx=\"274\" cy=\"362\" r=\"10\" fill=\"rgb(60,60,60)\"/><circle cx=\"298\" cy=\"64\" r=\"10\" fill=\"rgb(98,98,98)\"/><circle cx=\"210\" cy=\"112\" r=\"11\" fill=\"rgb(139,139,139)\"/></svg><svg viewBox='0 0 430 430' id=\"svg\" width=\"172\" height=\"172\"><circle cx=\"215\" cy=\"215\" r=\"205\" fill=\"none\" stroke=\"black\" stroke-width=\"2\" stroke-dasharray=\"3,3\"/> <circle cx=\"204\" cy=\"19\" r=\"7\" fill=\"rgb(255,0,0)\" class=\"agent_0_0\"/><circle cx=\"193\" cy=\"396\" r=\"10\" fill=\"rgb(255,255,255)\" class=\"agent_0_4\"/><circle cx=\"28\" cy=\"228\" r=\"11\" fill=\"rgb(255,255,255)\" class=\"agent_0_29\"/><circle cx=\"107\" cy=\"280\" r=\"9\" fill=\"rgb(255,255,255)\" class=\"agent_0_32\"/><circle cx=\"274\" cy=\"362\" r=\"10\" fill=\"rgb(255,255,255)\" class=\"agent_0_60\"/><circle cx=\"298\" cy=\"64\" r=\"10\" fill=\"rgb(255,0,0)\" class=\"agent_0_65\"/><circle cx=\"210\" cy=\"112\" r=\"11\" fill=\"rgb(255,0,0)\" class=\"agent_0_68\"/></svg><svg viewBox='0 0 430 430' id=\"svg\" width=\"172\" height=\"172\"><circle cx=\"215\" cy=\"215\" r=\"205\" fill=\"none\" stroke=\"black\" stroke-width=\"2\" stroke-dasharray=\"3,3\"/> <circle cx=\"204\" cy=\"19\" r=\"7\" fill=\"rgb(255,0,0)\" class=\"agent_0_0\"/><circle cx=\"193\" cy=\"396\" r=\"10\" fill=\"rgb(255,255,255)\" class=\"agent_0_4\"/><circle cx=\"28\" cy=\"228\" r=\"11\" fill=\"rgb(255,255,255)\" class=\"agent_0_29\"/><circle cx=\"107\" cy=\"280\" r=\"9\" fill=\"rgb(255,255,255)\" class=\"agent_0_32\"/><circle cx=\"274\" cy=\"362\" r=\"10\" fill=\"rgb(255,255,255)\" class=\"agent_0_60\"/><circle cx=\"298\" cy=\"64\" r=\"10\" fill=\"rgb(255,255,255)\" class=\"agent_0_65\"/><circle cx=\"210\" cy=\"112\" r=\"11\" fill=\"rgb(255,0,0)\" class=\"agent_0_68\"/></svg></div>"
      ],
      "text/plain": [
       "<IPython.core.display.HTML object>"
      ]
     },
     "metadata": {},
     "output_type": "display_data"
    },
    {
     "name": "stdout",
     "output_type": "stream",
     "text": [
      "refs_true\n"
     ]
    },
    {
     "data": {
      "text/html": [
       "<div style=\"white-space: nowrap\"><svg viewbox='0 0 430 430' width=\"172\" height=\"172\" id=\"agent_0\"><circle cx=\"215\" cy=\"215\" r=\"205\" fill=\"none\" stroke=\"black\" stroke-width=\"2\" stroke-dasharray=\"3,3\"/><circle cx=\"204\" cy=\"19\" r=\"7\" fill=\"rgb(191,191,191)\"/><circle cx=\"193\" cy=\"396\" r=\"10\" fill=\"rgb(179,179,179)\"/><circle cx=\"28\" cy=\"228\" r=\"11\" fill=\"rgb(66,66,66)\"/><circle cx=\"107\" cy=\"280\" r=\"9\" fill=\"rgb(165,165,165)\"/><circle cx=\"274\" cy=\"362\" r=\"10\" fill=\"rgb(60,60,60)\"/><circle cx=\"298\" cy=\"64\" r=\"10\" fill=\"rgb(98,98,98)\"/><circle cx=\"210\" cy=\"112\" r=\"11\" fill=\"rgb(139,139,139)\"/></svg><svg viewBox='0 0 430 430' id=\"svg\" width=\"172\" height=\"172\"><circle cx=\"215\" cy=\"215\" r=\"205\" fill=\"none\" stroke=\"black\" stroke-width=\"2\" stroke-dasharray=\"3,3\"/> <circle cx=\"204\" cy=\"19\" r=\"7\" fill=\"rgb(255,0,0)\" class=\"agent_0_0\"/><circle cx=\"193\" cy=\"396\" r=\"10\" fill=\"rgb(255,255,255)\" class=\"agent_0_4\"/><circle cx=\"28\" cy=\"228\" r=\"11\" fill=\"rgb(255,255,255)\" class=\"agent_0_29\"/><circle cx=\"107\" cy=\"280\" r=\"9\" fill=\"rgb(255,255,255)\" class=\"agent_0_32\"/><circle cx=\"274\" cy=\"362\" r=\"10\" fill=\"rgb(255,255,255)\" class=\"agent_0_60\"/><circle cx=\"298\" cy=\"64\" r=\"10\" fill=\"rgb(255,0,0)\" class=\"agent_0_65\"/><circle cx=\"210\" cy=\"112\" r=\"11\" fill=\"rgb(255,0,0)\" class=\"agent_0_68\"/></svg><svg viewBox='0 0 430 430' id=\"svg\" width=\"172\" height=\"172\"><circle cx=\"215\" cy=\"215\" r=\"205\" fill=\"none\" stroke=\"black\" stroke-width=\"2\" stroke-dasharray=\"3,3\"/> <circle cx=\"204\" cy=\"19\" r=\"7\" fill=\"rgb(255,0,0)\" class=\"agent_0_0\"/><circle cx=\"193\" cy=\"396\" r=\"10\" fill=\"rgb(255,255,255)\" class=\"agent_0_4\"/><circle cx=\"28\" cy=\"228\" r=\"11\" fill=\"rgb(255,255,255)\" class=\"agent_0_29\"/><circle cx=\"107\" cy=\"280\" r=\"9\" fill=\"rgb(255,255,255)\" class=\"agent_0_32\"/><circle cx=\"274\" cy=\"362\" r=\"10\" fill=\"rgb(255,255,255)\" class=\"agent_0_60\"/><circle cx=\"298\" cy=\"64\" r=\"10\" fill=\"rgb(255,255,255)\" class=\"agent_0_65\"/><circle cx=\"210\" cy=\"112\" r=\"11\" fill=\"rgb(255,255,255)\" class=\"agent_0_68\"/></svg></div>"
      ],
      "text/plain": [
       "<IPython.core.display.HTML object>"
      ]
     },
     "metadata": {},
     "output_type": "display_data"
    },
    {
     "name": "stdout",
     "output_type": "stream",
     "text": [
      "\n",
      "----------------------------------------\n",
      "\n",
      "human\tTHEM: yes i see that lets hit the small light gray dot <eos>\n",
      "partner_refs_pred\n"
     ]
    },
    {
     "data": {
      "text/html": [
       "<div style=\"white-space: nowrap\"><svg viewbox='0 0 430 430' width=\"172\" height=\"172\" id=\"agent_0\"><circle cx=\"215\" cy=\"215\" r=\"205\" fill=\"none\" stroke=\"black\" stroke-width=\"2\" stroke-dasharray=\"3,3\"/><circle cx=\"204\" cy=\"19\" r=\"7\" fill=\"rgb(191,191,191)\"/><circle cx=\"193\" cy=\"396\" r=\"10\" fill=\"rgb(179,179,179)\"/><circle cx=\"28\" cy=\"228\" r=\"11\" fill=\"rgb(66,66,66)\"/><circle cx=\"107\" cy=\"280\" r=\"9\" fill=\"rgb(165,165,165)\"/><circle cx=\"274\" cy=\"362\" r=\"10\" fill=\"rgb(60,60,60)\"/><circle cx=\"298\" cy=\"64\" r=\"10\" fill=\"rgb(98,98,98)\"/><circle cx=\"210\" cy=\"112\" r=\"11\" fill=\"rgb(139,139,139)\"/></svg><svg viewBox='0 0 430 430' id=\"svg\" width=\"172\" height=\"172\"><circle cx=\"215\" cy=\"215\" r=\"205\" fill=\"none\" stroke=\"black\" stroke-width=\"2\" stroke-dasharray=\"3,3\"/> <circle cx=\"204\" cy=\"19\" r=\"7\" fill=\"rgb(255,0,0)\" class=\"agent_0_0\"/><circle cx=\"193\" cy=\"396\" r=\"10\" fill=\"rgb(255,255,255)\" class=\"agent_0_4\"/><circle cx=\"28\" cy=\"228\" r=\"11\" fill=\"rgb(255,255,255)\" class=\"agent_0_29\"/><circle cx=\"107\" cy=\"280\" r=\"9\" fill=\"rgb(255,255,255)\" class=\"agent_0_32\"/><circle cx=\"274\" cy=\"362\" r=\"10\" fill=\"rgb(255,255,255)\" class=\"agent_0_60\"/><circle cx=\"298\" cy=\"64\" r=\"10\" fill=\"rgb(255,255,255)\" class=\"agent_0_65\"/><circle cx=\"210\" cy=\"112\" r=\"11\" fill=\"rgb(255,255,255)\" class=\"agent_0_68\"/></svg><svg viewBox='0 0 430 430' id=\"svg\" width=\"172\" height=\"172\"><circle cx=\"215\" cy=\"215\" r=\"205\" fill=\"none\" stroke=\"black\" stroke-width=\"2\" stroke-dasharray=\"3,3\"/> <circle cx=\"204\" cy=\"19\" r=\"7\" fill=\"rgb(255,0,0)\" class=\"agent_0_0\"/><circle cx=\"193\" cy=\"396\" r=\"10\" fill=\"rgb(255,255,255)\" class=\"agent_0_4\"/><circle cx=\"28\" cy=\"228\" r=\"11\" fill=\"rgb(255,255,255)\" class=\"agent_0_29\"/><circle cx=\"107\" cy=\"280\" r=\"9\" fill=\"rgb(255,255,255)\" class=\"agent_0_32\"/><circle cx=\"274\" cy=\"362\" r=\"10\" fill=\"rgb(255,255,255)\" class=\"agent_0_60\"/><circle cx=\"298\" cy=\"64\" r=\"10\" fill=\"rgb(255,255,255)\" class=\"agent_0_65\"/><circle cx=\"210\" cy=\"112\" r=\"11\" fill=\"rgb(255,255,255)\" class=\"agent_0_68\"/></svg></div>"
      ],
      "text/plain": [
       "<IPython.core.display.HTML object>"
      ]
     },
     "metadata": {},
     "output_type": "display_data"
    },
    {
     "name": "stdout",
     "output_type": "stream",
     "text": [
      "partner_refs_true\n"
     ]
    },
    {
     "data": {
      "text/html": [
       "<div style=\"white-space: nowrap\"><svg viewbox='0 0 430 430' width=\"172\" height=\"172\" id=\"agent_0\"><circle cx=\"215\" cy=\"215\" r=\"205\" fill=\"none\" stroke=\"black\" stroke-width=\"2\" stroke-dasharray=\"3,3\"/><circle cx=\"204\" cy=\"19\" r=\"7\" fill=\"rgb(191,191,191)\"/><circle cx=\"193\" cy=\"396\" r=\"10\" fill=\"rgb(179,179,179)\"/><circle cx=\"28\" cy=\"228\" r=\"11\" fill=\"rgb(66,66,66)\"/><circle cx=\"107\" cy=\"280\" r=\"9\" fill=\"rgb(165,165,165)\"/><circle cx=\"274\" cy=\"362\" r=\"10\" fill=\"rgb(60,60,60)\"/><circle cx=\"298\" cy=\"64\" r=\"10\" fill=\"rgb(98,98,98)\"/><circle cx=\"210\" cy=\"112\" r=\"11\" fill=\"rgb(139,139,139)\"/></svg><svg viewBox='0 0 430 430' id=\"svg\" width=\"172\" height=\"172\"><circle cx=\"215\" cy=\"215\" r=\"205\" fill=\"none\" stroke=\"black\" stroke-width=\"2\" stroke-dasharray=\"3,3\"/> <circle cx=\"204\" cy=\"19\" r=\"7\" fill=\"rgb(255,0,0)\" class=\"agent_0_0\"/><circle cx=\"193\" cy=\"396\" r=\"10\" fill=\"rgb(255,255,255)\" class=\"agent_0_4\"/><circle cx=\"28\" cy=\"228\" r=\"11\" fill=\"rgb(255,255,255)\" class=\"agent_0_29\"/><circle cx=\"107\" cy=\"280\" r=\"9\" fill=\"rgb(255,255,255)\" class=\"agent_0_32\"/><circle cx=\"274\" cy=\"362\" r=\"10\" fill=\"rgb(255,255,255)\" class=\"agent_0_60\"/><circle cx=\"298\" cy=\"64\" r=\"10\" fill=\"rgb(255,0,0)\" class=\"agent_0_65\"/><circle cx=\"210\" cy=\"112\" r=\"11\" fill=\"rgb(255,0,0)\" class=\"agent_0_68\"/></svg><svg viewBox='0 0 430 430' id=\"svg\" width=\"172\" height=\"172\"><circle cx=\"215\" cy=\"215\" r=\"205\" fill=\"none\" stroke=\"black\" stroke-width=\"2\" stroke-dasharray=\"3,3\"/> <circle cx=\"204\" cy=\"19\" r=\"7\" fill=\"rgb(255,0,0)\" class=\"agent_0_0\"/><circle cx=\"193\" cy=\"396\" r=\"10\" fill=\"rgb(255,255,255)\" class=\"agent_0_4\"/><circle cx=\"28\" cy=\"228\" r=\"11\" fill=\"rgb(255,255,255)\" class=\"agent_0_29\"/><circle cx=\"107\" cy=\"280\" r=\"9\" fill=\"rgb(255,255,255)\" class=\"agent_0_32\"/><circle cx=\"274\" cy=\"362\" r=\"10\" fill=\"rgb(255,255,255)\" class=\"agent_0_60\"/><circle cx=\"298\" cy=\"64\" r=\"10\" fill=\"rgb(255,255,255)\" class=\"agent_0_65\"/><circle cx=\"210\" cy=\"112\" r=\"11\" fill=\"rgb(255,255,255)\" class=\"agent_0_68\"/></svg></div>"
      ],
      "text/plain": [
       "<IPython.core.display.HTML object>"
      ]
     },
     "metadata": {},
     "output_type": "display_data"
    },
    {
     "name": "stdout",
     "output_type": "stream",
     "text": [
      "\n",
      "----------------------------------------\n",
      "\n",
      "beam 0\tok\n",
      "beam 1\tokay\n",
      "beam 2\tk\n",
      "beam 3\tok !\n",
      "beam 4\tokay !\n",
      "beam 5\tgreat\n",
      "beam 6\tsounds good !\n",
      "beam 7\tsounds good\n",
      "beam 8\tcool\n",
      "beam 9\tyes\n",
      "beam 10\tok .\n",
      "beam 11\tdone\n",
      "beam 12\tk !\n",
      "beam 13\talright\n",
      "beam 14\tgreat !\n",
      "beam 15\tperfect\n",
      "beam 16\tok\n",
      "beam 17\tgotcha\n",
      "beam 18\tgot it\n",
      "beam 19\tok great\n",
      "greedy\tok <selection>\n",
      "human\tk <selection>\n",
      "\n",
      "----------------------------------------\n",
      "\n"
     ]
    }
   ],
   "source": [
    "force_contexts_and_mentions(10)"
   ]
  },
  {
   "cell_type": "code",
   "execution_count": 67,
   "metadata": {
    "scrolled": false
   },
   "outputs": [
    {
     "name": "stdout",
     "output_type": "stream",
     "text": [
      "to_mention_pred\n"
     ]
    },
    {
     "data": {
      "text/html": [
       "<div style=\"white-space: nowrap\"><svg viewbox='0 0 430 430' width=\"172\" height=\"172\" id=\"agent_0\"><circle cx=\"215\" cy=\"215\" r=\"205\" fill=\"none\" stroke=\"black\" stroke-width=\"2\" stroke-dasharray=\"3,3\"/><circle cx=\"236\" cy=\"17\" r=\"9\" fill=\"rgb(89,89,89)\"/><circle cx=\"381\" cy=\"162\" r=\"8\" fill=\"rgb(73,73,73)\"/><circle cx=\"267\" cy=\"230\" r=\"12\" fill=\"rgb(92,92,92)\"/><circle cx=\"104\" cy=\"293\" r=\"10\" fill=\"rgb(70,70,70)\"/><circle cx=\"209\" cy=\"394\" r=\"7\" fill=\"rgb(92,92,92)\"/><circle cx=\"245\" cy=\"199\" r=\"11\" fill=\"rgb(174,174,174)\"/><circle cx=\"87\" cy=\"233\" r=\"10\" fill=\"rgb(113,113,113)\"/></svg><svg viewBox='0 0 430 430' id=\"svg\" width=\"172\" height=\"172\"><circle cx=\"215\" cy=\"215\" r=\"205\" fill=\"none\" stroke=\"black\" stroke-width=\"2\" stroke-dasharray=\"3,3\"/> <circle cx=\"236\" cy=\"17\" r=\"9\" fill=\"rgb(255,255,255)\" class=\"agent_0_8\"/><circle cx=\"381\" cy=\"162\" r=\"8\" fill=\"rgb(255,255,255)\" class=\"agent_0_35\"/><circle cx=\"267\" cy=\"230\" r=\"12\" fill=\"rgb(255,0,0)\" class=\"agent_0_36\"/><circle cx=\"104\" cy=\"293\" r=\"10\" fill=\"rgb(255,255,255)\" class=\"agent_0_37\"/><circle cx=\"209\" cy=\"394\" r=\"7\" fill=\"rgb(255,255,255)\" class=\"agent_0_47\"/><circle cx=\"245\" cy=\"199\" r=\"11\" fill=\"rgb(255,0,0)\" class=\"agent_0_54\"/><circle cx=\"87\" cy=\"233\" r=\"10\" fill=\"rgb(255,255,255)\" class=\"agent_0_61\"/></svg><svg viewBox='0 0 430 430' id=\"svg\" width=\"172\" height=\"172\"><circle cx=\"215\" cy=\"215\" r=\"205\" fill=\"none\" stroke=\"black\" stroke-width=\"2\" stroke-dasharray=\"3,3\"/> <circle cx=\"236\" cy=\"17\" r=\"9\" fill=\"rgb(255,255,255)\" class=\"agent_0_8\"/><circle cx=\"381\" cy=\"162\" r=\"8\" fill=\"rgb(255,255,255)\" class=\"agent_0_35\"/><circle cx=\"267\" cy=\"230\" r=\"12\" fill=\"rgb(255,255,255)\" class=\"agent_0_36\"/><circle cx=\"104\" cy=\"293\" r=\"10\" fill=\"rgb(255,255,255)\" class=\"agent_0_37\"/><circle cx=\"209\" cy=\"394\" r=\"7\" fill=\"rgb(255,255,255)\" class=\"agent_0_47\"/><circle cx=\"245\" cy=\"199\" r=\"11\" fill=\"rgb(255,0,0)\" class=\"agent_0_54\"/><circle cx=\"87\" cy=\"233\" r=\"10\" fill=\"rgb(255,255,255)\" class=\"agent_0_61\"/></svg></div>"
      ],
      "text/plain": [
       "<IPython.core.display.HTML object>"
      ]
     },
     "metadata": {},
     "output_type": "display_data"
    },
    {
     "name": "stdout",
     "output_type": "stream",
     "text": [
      "to_mention_true\n"
     ]
    },
    {
     "data": {
      "text/html": [
       "<div style=\"white-space: nowrap\"><svg viewbox='0 0 430 430' width=\"172\" height=\"172\" id=\"agent_0\"><circle cx=\"215\" cy=\"215\" r=\"205\" fill=\"none\" stroke=\"black\" stroke-width=\"2\" stroke-dasharray=\"3,3\"/><circle cx=\"236\" cy=\"17\" r=\"9\" fill=\"rgb(89,89,89)\"/><circle cx=\"381\" cy=\"162\" r=\"8\" fill=\"rgb(73,73,73)\"/><circle cx=\"267\" cy=\"230\" r=\"12\" fill=\"rgb(92,92,92)\"/><circle cx=\"104\" cy=\"293\" r=\"10\" fill=\"rgb(70,70,70)\"/><circle cx=\"209\" cy=\"394\" r=\"7\" fill=\"rgb(92,92,92)\"/><circle cx=\"245\" cy=\"199\" r=\"11\" fill=\"rgb(174,174,174)\"/><circle cx=\"87\" cy=\"233\" r=\"10\" fill=\"rgb(113,113,113)\"/></svg><svg viewBox='0 0 430 430' id=\"svg\" width=\"172\" height=\"172\"><circle cx=\"215\" cy=\"215\" r=\"205\" fill=\"none\" stroke=\"black\" stroke-width=\"2\" stroke-dasharray=\"3,3\"/> <circle cx=\"236\" cy=\"17\" r=\"9\" fill=\"rgb(255,255,255)\" class=\"agent_0_8\"/><circle cx=\"381\" cy=\"162\" r=\"8\" fill=\"rgb(255,255,255)\" class=\"agent_0_35\"/><circle cx=\"267\" cy=\"230\" r=\"12\" fill=\"rgb(255,255,255)\" class=\"agent_0_36\"/><circle cx=\"104\" cy=\"293\" r=\"10\" fill=\"rgb(255,255,255)\" class=\"agent_0_37\"/><circle cx=\"209\" cy=\"394\" r=\"7\" fill=\"rgb(255,255,255)\" class=\"agent_0_47\"/><circle cx=\"245\" cy=\"199\" r=\"11\" fill=\"rgb(255,0,0)\" class=\"agent_0_54\"/><circle cx=\"87\" cy=\"233\" r=\"10\" fill=\"rgb(255,255,255)\" class=\"agent_0_61\"/></svg><svg viewBox='0 0 430 430' id=\"svg\" width=\"172\" height=\"172\"><circle cx=\"215\" cy=\"215\" r=\"205\" fill=\"none\" stroke=\"black\" stroke-width=\"2\" stroke-dasharray=\"3,3\"/> <circle cx=\"236\" cy=\"17\" r=\"9\" fill=\"rgb(255,255,255)\" class=\"agent_0_8\"/><circle cx=\"381\" cy=\"162\" r=\"8\" fill=\"rgb(255,255,255)\" class=\"agent_0_35\"/><circle cx=\"267\" cy=\"230\" r=\"12\" fill=\"rgb(255,0,0)\" class=\"agent_0_36\"/><circle cx=\"104\" cy=\"293\" r=\"10\" fill=\"rgb(255,255,255)\" class=\"agent_0_37\"/><circle cx=\"209\" cy=\"394\" r=\"7\" fill=\"rgb(255,255,255)\" class=\"agent_0_47\"/><circle cx=\"245\" cy=\"199\" r=\"11\" fill=\"rgb(255,255,255)\" class=\"agent_0_54\"/><circle cx=\"87\" cy=\"233\" r=\"10\" fill=\"rgb(255,255,255)\" class=\"agent_0_61\"/></svg></div>"
      ],
      "text/plain": [
       "<IPython.core.display.HTML object>"
      ]
     },
     "metadata": {},
     "output_type": "display_data"
    },
    {
     "name": "stdout",
     "output_type": "stream",
     "text": [
      "beam 0\ti have a large light grey dot to the right of a larger dark dot\n",
      "beam 1\tdo you have a large light grey dot to the right of a larger black dot ?\n",
      "beam 2\ti have a large light grey dot to the right of a larger dark grey dot\n",
      "beam 3\tdo you have a large light grey dot to the left of a larger black dot ?\n",
      "beam 4\tdo you see a large light grey dot to the right of a larger black dot ?\n",
      "beam 5\tdo you have a large light grey dot to the right of a larger dark dot ?\n",
      "beam 6\tdo you have a large light grey dot to the right of a larger black dot\n",
      "beam 7\tdo you see a large light grey dot to the right of a larger black dot\n",
      "beam 8\tdo you have a large light grey dot to the right of a larger dark grey dot ?\n",
      "beam 9\tdo you have a large light grey dot to the left of a larger black dot\n",
      "beam 10\ti have a large light grey dot with a slightly smaller dark grey dot above and to the right\n",
      "beam 11\tdo you see a large light grey dot to the right of a larger dark grey dot ?\n",
      "beam 12\ti have a large light grey dot with a slightly smaller dark grey dot above and to the left\n",
      "beam 13\tdo you see a large light grey dot with a slightly smaller dark grey dot to the right of it ?\n",
      "beam 14\tdo you have a large light grey dot with a slightly smaller dark grey dot to the right of it ?\n",
      "beam 15\tdo you see a large light grey dot with a slightly smaller black dot to the left and slightly above ?\n",
      "beam 16\tdo you see a large light grey dot with a slightly smaller black dot to the right and slightly above ?\n",
      "beam 17\tdo you see a large light grey dot with a slightly smaller dark grey dot to the left and slightly above ?\n",
      "beam 18\tdo you see a large light grey dot with a slightly smaller dark grey dot to the right and slightly above ?\n",
      "beam 19\tdo you have a large light grey dot with a slightly smaller dark grey dot to the right and slightly above ?\n",
      "greedy\ti have a large light grey dot with a slightly smaller dark grey dot to the right and slightly above <eos>\n",
      "human\thi . have you got a large light gray dot right above a larger black dot ? <eos>\n",
      "refs_pred\n"
     ]
    },
    {
     "data": {
      "text/html": [
       "<div style=\"white-space: nowrap\"><svg viewbox='0 0 430 430' width=\"172\" height=\"172\" id=\"agent_0\"><circle cx=\"215\" cy=\"215\" r=\"205\" fill=\"none\" stroke=\"black\" stroke-width=\"2\" stroke-dasharray=\"3,3\"/><circle cx=\"236\" cy=\"17\" r=\"9\" fill=\"rgb(89,89,89)\"/><circle cx=\"381\" cy=\"162\" r=\"8\" fill=\"rgb(73,73,73)\"/><circle cx=\"267\" cy=\"230\" r=\"12\" fill=\"rgb(92,92,92)\"/><circle cx=\"104\" cy=\"293\" r=\"10\" fill=\"rgb(70,70,70)\"/><circle cx=\"209\" cy=\"394\" r=\"7\" fill=\"rgb(92,92,92)\"/><circle cx=\"245\" cy=\"199\" r=\"11\" fill=\"rgb(174,174,174)\"/><circle cx=\"87\" cy=\"233\" r=\"10\" fill=\"rgb(113,113,113)\"/></svg><svg viewBox='0 0 430 430' id=\"svg\" width=\"172\" height=\"172\"><circle cx=\"215\" cy=\"215\" r=\"205\" fill=\"none\" stroke=\"black\" stroke-width=\"2\" stroke-dasharray=\"3,3\"/> <circle cx=\"236\" cy=\"17\" r=\"9\" fill=\"rgb(255,255,255)\" class=\"agent_0_8\"/><circle cx=\"381\" cy=\"162\" r=\"8\" fill=\"rgb(255,255,255)\" class=\"agent_0_35\"/><circle cx=\"267\" cy=\"230\" r=\"12\" fill=\"rgb(255,255,255)\" class=\"agent_0_36\"/><circle cx=\"104\" cy=\"293\" r=\"10\" fill=\"rgb(255,255,255)\" class=\"agent_0_37\"/><circle cx=\"209\" cy=\"394\" r=\"7\" fill=\"rgb(255,255,255)\" class=\"agent_0_47\"/><circle cx=\"245\" cy=\"199\" r=\"11\" fill=\"rgb(255,0,0)\" class=\"agent_0_54\"/><circle cx=\"87\" cy=\"233\" r=\"10\" fill=\"rgb(255,255,255)\" class=\"agent_0_61\"/></svg><svg viewBox='0 0 430 430' id=\"svg\" width=\"172\" height=\"172\"><circle cx=\"215\" cy=\"215\" r=\"205\" fill=\"none\" stroke=\"black\" stroke-width=\"2\" stroke-dasharray=\"3,3\"/> <circle cx=\"236\" cy=\"17\" r=\"9\" fill=\"rgb(255,255,255)\" class=\"agent_0_8\"/><circle cx=\"381\" cy=\"162\" r=\"8\" fill=\"rgb(255,255,255)\" class=\"agent_0_35\"/><circle cx=\"267\" cy=\"230\" r=\"12\" fill=\"rgb(255,0,0)\" class=\"agent_0_36\"/><circle cx=\"104\" cy=\"293\" r=\"10\" fill=\"rgb(255,255,255)\" class=\"agent_0_37\"/><circle cx=\"209\" cy=\"394\" r=\"7\" fill=\"rgb(255,255,255)\" class=\"agent_0_47\"/><circle cx=\"245\" cy=\"199\" r=\"11\" fill=\"rgb(255,255,255)\" class=\"agent_0_54\"/><circle cx=\"87\" cy=\"233\" r=\"10\" fill=\"rgb(255,255,255)\" class=\"agent_0_61\"/></svg></div>"
      ],
      "text/plain": [
       "<IPython.core.display.HTML object>"
      ]
     },
     "metadata": {},
     "output_type": "display_data"
    },
    {
     "name": "stdout",
     "output_type": "stream",
     "text": [
      "refs_true\n"
     ]
    },
    {
     "data": {
      "text/html": [
       "<div style=\"white-space: nowrap\"><svg viewbox='0 0 430 430' width=\"172\" height=\"172\" id=\"agent_0\"><circle cx=\"215\" cy=\"215\" r=\"205\" fill=\"none\" stroke=\"black\" stroke-width=\"2\" stroke-dasharray=\"3,3\"/><circle cx=\"236\" cy=\"17\" r=\"9\" fill=\"rgb(89,89,89)\"/><circle cx=\"381\" cy=\"162\" r=\"8\" fill=\"rgb(73,73,73)\"/><circle cx=\"267\" cy=\"230\" r=\"12\" fill=\"rgb(92,92,92)\"/><circle cx=\"104\" cy=\"293\" r=\"10\" fill=\"rgb(70,70,70)\"/><circle cx=\"209\" cy=\"394\" r=\"7\" fill=\"rgb(92,92,92)\"/><circle cx=\"245\" cy=\"199\" r=\"11\" fill=\"rgb(174,174,174)\"/><circle cx=\"87\" cy=\"233\" r=\"10\" fill=\"rgb(113,113,113)\"/></svg><svg viewBox='0 0 430 430' id=\"svg\" width=\"172\" height=\"172\"><circle cx=\"215\" cy=\"215\" r=\"205\" fill=\"none\" stroke=\"black\" stroke-width=\"2\" stroke-dasharray=\"3,3\"/> <circle cx=\"236\" cy=\"17\" r=\"9\" fill=\"rgb(255,255,255)\" class=\"agent_0_8\"/><circle cx=\"381\" cy=\"162\" r=\"8\" fill=\"rgb(255,255,255)\" class=\"agent_0_35\"/><circle cx=\"267\" cy=\"230\" r=\"12\" fill=\"rgb(255,255,255)\" class=\"agent_0_36\"/><circle cx=\"104\" cy=\"293\" r=\"10\" fill=\"rgb(255,255,255)\" class=\"agent_0_37\"/><circle cx=\"209\" cy=\"394\" r=\"7\" fill=\"rgb(255,255,255)\" class=\"agent_0_47\"/><circle cx=\"245\" cy=\"199\" r=\"11\" fill=\"rgb(255,0,0)\" class=\"agent_0_54\"/><circle cx=\"87\" cy=\"233\" r=\"10\" fill=\"rgb(255,255,255)\" class=\"agent_0_61\"/></svg><svg viewBox='0 0 430 430' id=\"svg\" width=\"172\" height=\"172\"><circle cx=\"215\" cy=\"215\" r=\"205\" fill=\"none\" stroke=\"black\" stroke-width=\"2\" stroke-dasharray=\"3,3\"/> <circle cx=\"236\" cy=\"17\" r=\"9\" fill=\"rgb(255,255,255)\" class=\"agent_0_8\"/><circle cx=\"381\" cy=\"162\" r=\"8\" fill=\"rgb(255,255,255)\" class=\"agent_0_35\"/><circle cx=\"267\" cy=\"230\" r=\"12\" fill=\"rgb(255,0,0)\" class=\"agent_0_36\"/><circle cx=\"104\" cy=\"293\" r=\"10\" fill=\"rgb(255,255,255)\" class=\"agent_0_37\"/><circle cx=\"209\" cy=\"394\" r=\"7\" fill=\"rgb(255,255,255)\" class=\"agent_0_47\"/><circle cx=\"245\" cy=\"199\" r=\"11\" fill=\"rgb(255,255,255)\" class=\"agent_0_54\"/><circle cx=\"87\" cy=\"233\" r=\"10\" fill=\"rgb(255,255,255)\" class=\"agent_0_61\"/></svg></div>"
      ],
      "text/plain": [
       "<IPython.core.display.HTML object>"
      ]
     },
     "metadata": {},
     "output_type": "display_data"
    },
    {
     "name": "stdout",
     "output_type": "stream",
     "text": [
      "\n",
      "----------------------------------------\n",
      "\n",
      "human\tTHEM: i see a large black dot under an almost as big light grey dot <eos>\n",
      "partner_refs_pred\n"
     ]
    },
    {
     "data": {
      "text/html": [
       "<div style=\"white-space: nowrap\"><svg viewbox='0 0 430 430' width=\"172\" height=\"172\" id=\"agent_0\"><circle cx=\"215\" cy=\"215\" r=\"205\" fill=\"none\" stroke=\"black\" stroke-width=\"2\" stroke-dasharray=\"3,3\"/><circle cx=\"236\" cy=\"17\" r=\"9\" fill=\"rgb(89,89,89)\"/><circle cx=\"381\" cy=\"162\" r=\"8\" fill=\"rgb(73,73,73)\"/><circle cx=\"267\" cy=\"230\" r=\"12\" fill=\"rgb(92,92,92)\"/><circle cx=\"104\" cy=\"293\" r=\"10\" fill=\"rgb(70,70,70)\"/><circle cx=\"209\" cy=\"394\" r=\"7\" fill=\"rgb(92,92,92)\"/><circle cx=\"245\" cy=\"199\" r=\"11\" fill=\"rgb(174,174,174)\"/><circle cx=\"87\" cy=\"233\" r=\"10\" fill=\"rgb(113,113,113)\"/></svg><svg viewBox='0 0 430 430' id=\"svg\" width=\"172\" height=\"172\"><circle cx=\"215\" cy=\"215\" r=\"205\" fill=\"none\" stroke=\"black\" stroke-width=\"2\" stroke-dasharray=\"3,3\"/> <circle cx=\"236\" cy=\"17\" r=\"9\" fill=\"rgb(255,255,255)\" class=\"agent_0_8\"/><circle cx=\"381\" cy=\"162\" r=\"8\" fill=\"rgb(255,255,255)\" class=\"agent_0_35\"/><circle cx=\"267\" cy=\"230\" r=\"12\" fill=\"rgb(255,0,0)\" class=\"agent_0_36\"/><circle cx=\"104\" cy=\"293\" r=\"10\" fill=\"rgb(255,255,255)\" class=\"agent_0_37\"/><circle cx=\"209\" cy=\"394\" r=\"7\" fill=\"rgb(255,255,255)\" class=\"agent_0_47\"/><circle cx=\"245\" cy=\"199\" r=\"11\" fill=\"rgb(255,255,255)\" class=\"agent_0_54\"/><circle cx=\"87\" cy=\"233\" r=\"10\" fill=\"rgb(255,255,255)\" class=\"agent_0_61\"/></svg><svg viewBox='0 0 430 430' id=\"svg\" width=\"172\" height=\"172\"><circle cx=\"215\" cy=\"215\" r=\"205\" fill=\"none\" stroke=\"black\" stroke-width=\"2\" stroke-dasharray=\"3,3\"/> <circle cx=\"236\" cy=\"17\" r=\"9\" fill=\"rgb(255,255,255)\" class=\"agent_0_8\"/><circle cx=\"381\" cy=\"162\" r=\"8\" fill=\"rgb(255,255,255)\" class=\"agent_0_35\"/><circle cx=\"267\" cy=\"230\" r=\"12\" fill=\"rgb(255,255,255)\" class=\"agent_0_36\"/><circle cx=\"104\" cy=\"293\" r=\"10\" fill=\"rgb(255,255,255)\" class=\"agent_0_37\"/><circle cx=\"209\" cy=\"394\" r=\"7\" fill=\"rgb(255,255,255)\" class=\"agent_0_47\"/><circle cx=\"245\" cy=\"199\" r=\"11\" fill=\"rgb(255,0,0)\" class=\"agent_0_54\"/><circle cx=\"87\" cy=\"233\" r=\"10\" fill=\"rgb(255,255,255)\" class=\"agent_0_61\"/></svg></div>"
      ],
      "text/plain": [
       "<IPython.core.display.HTML object>"
      ]
     },
     "metadata": {},
     "output_type": "display_data"
    },
    {
     "name": "stdout",
     "output_type": "stream",
     "text": [
      "partner_refs_true\n"
     ]
    },
    {
     "data": {
      "text/html": [
       "<div style=\"white-space: nowrap\"><svg viewbox='0 0 430 430' width=\"172\" height=\"172\" id=\"agent_0\"><circle cx=\"215\" cy=\"215\" r=\"205\" fill=\"none\" stroke=\"black\" stroke-width=\"2\" stroke-dasharray=\"3,3\"/><circle cx=\"236\" cy=\"17\" r=\"9\" fill=\"rgb(89,89,89)\"/><circle cx=\"381\" cy=\"162\" r=\"8\" fill=\"rgb(73,73,73)\"/><circle cx=\"267\" cy=\"230\" r=\"12\" fill=\"rgb(92,92,92)\"/><circle cx=\"104\" cy=\"293\" r=\"10\" fill=\"rgb(70,70,70)\"/><circle cx=\"209\" cy=\"394\" r=\"7\" fill=\"rgb(92,92,92)\"/><circle cx=\"245\" cy=\"199\" r=\"11\" fill=\"rgb(174,174,174)\"/><circle cx=\"87\" cy=\"233\" r=\"10\" fill=\"rgb(113,113,113)\"/></svg><svg viewBox='0 0 430 430' id=\"svg\" width=\"172\" height=\"172\"><circle cx=\"215\" cy=\"215\" r=\"205\" fill=\"none\" stroke=\"black\" stroke-width=\"2\" stroke-dasharray=\"3,3\"/> <circle cx=\"236\" cy=\"17\" r=\"9\" fill=\"rgb(255,255,255)\" class=\"agent_0_8\"/><circle cx=\"381\" cy=\"162\" r=\"8\" fill=\"rgb(255,255,255)\" class=\"agent_0_35\"/><circle cx=\"267\" cy=\"230\" r=\"12\" fill=\"rgb(255,0,0)\" class=\"agent_0_36\"/><circle cx=\"104\" cy=\"293\" r=\"10\" fill=\"rgb(255,255,255)\" class=\"agent_0_37\"/><circle cx=\"209\" cy=\"394\" r=\"7\" fill=\"rgb(255,255,255)\" class=\"agent_0_47\"/><circle cx=\"245\" cy=\"199\" r=\"11\" fill=\"rgb(255,255,255)\" class=\"agent_0_54\"/><circle cx=\"87\" cy=\"233\" r=\"10\" fill=\"rgb(255,255,255)\" class=\"agent_0_61\"/></svg><svg viewBox='0 0 430 430' id=\"svg\" width=\"172\" height=\"172\"><circle cx=\"215\" cy=\"215\" r=\"205\" fill=\"none\" stroke=\"black\" stroke-width=\"2\" stroke-dasharray=\"3,3\"/> <circle cx=\"236\" cy=\"17\" r=\"9\" fill=\"rgb(255,255,255)\" class=\"agent_0_8\"/><circle cx=\"381\" cy=\"162\" r=\"8\" fill=\"rgb(255,255,255)\" class=\"agent_0_35\"/><circle cx=\"267\" cy=\"230\" r=\"12\" fill=\"rgb(255,255,255)\" class=\"agent_0_36\"/><circle cx=\"104\" cy=\"293\" r=\"10\" fill=\"rgb(255,255,255)\" class=\"agent_0_37\"/><circle cx=\"209\" cy=\"394\" r=\"7\" fill=\"rgb(255,255,255)\" class=\"agent_0_47\"/><circle cx=\"245\" cy=\"199\" r=\"11\" fill=\"rgb(255,0,0)\" class=\"agent_0_54\"/><circle cx=\"87\" cy=\"233\" r=\"10\" fill=\"rgb(255,255,255)\" class=\"agent_0_61\"/></svg></div>"
      ],
      "text/plain": [
       "<IPython.core.display.HTML object>"
      ]
     },
     "metadata": {},
     "output_type": "display_data"
    },
    {
     "name": "stdout",
     "output_type": "stream",
     "text": [
      "\n",
      "----------------------------------------\n",
      "\n",
      "to_mention_pred\n"
     ]
    },
    {
     "data": {
      "text/html": [
       "<div style=\"white-space: nowrap\"><svg viewbox='0 0 430 430' width=\"172\" height=\"172\" id=\"agent_0\"><circle cx=\"215\" cy=\"215\" r=\"205\" fill=\"none\" stroke=\"black\" stroke-width=\"2\" stroke-dasharray=\"3,3\"/><circle cx=\"236\" cy=\"17\" r=\"9\" fill=\"rgb(89,89,89)\"/><circle cx=\"381\" cy=\"162\" r=\"8\" fill=\"rgb(73,73,73)\"/><circle cx=\"267\" cy=\"230\" r=\"12\" fill=\"rgb(92,92,92)\"/><circle cx=\"104\" cy=\"293\" r=\"10\" fill=\"rgb(70,70,70)\"/><circle cx=\"209\" cy=\"394\" r=\"7\" fill=\"rgb(92,92,92)\"/><circle cx=\"245\" cy=\"199\" r=\"11\" fill=\"rgb(174,174,174)\"/><circle cx=\"87\" cy=\"233\" r=\"10\" fill=\"rgb(113,113,113)\"/></svg><svg viewBox='0 0 430 430' id=\"svg\" width=\"172\" height=\"172\"><circle cx=\"215\" cy=\"215\" r=\"205\" fill=\"none\" stroke=\"black\" stroke-width=\"2\" stroke-dasharray=\"3,3\"/> <circle cx=\"236\" cy=\"17\" r=\"9\" fill=\"rgb(255,255,255)\" class=\"agent_0_8\"/><circle cx=\"381\" cy=\"162\" r=\"8\" fill=\"rgb(255,255,255)\" class=\"agent_0_35\"/><circle cx=\"267\" cy=\"230\" r=\"12\" fill=\"rgb(255,255,255)\" class=\"agent_0_36\"/><circle cx=\"104\" cy=\"293\" r=\"10\" fill=\"rgb(255,255,255)\" class=\"agent_0_37\"/><circle cx=\"209\" cy=\"394\" r=\"7\" fill=\"rgb(255,255,255)\" class=\"agent_0_47\"/><circle cx=\"245\" cy=\"199\" r=\"11\" fill=\"rgb(255,0,0)\" class=\"agent_0_54\"/><circle cx=\"87\" cy=\"233\" r=\"10\" fill=\"rgb(255,255,255)\" class=\"agent_0_61\"/></svg></div>"
      ],
      "text/plain": [
       "<IPython.core.display.HTML object>"
      ]
     },
     "metadata": {},
     "output_type": "display_data"
    },
    {
     "name": "stdout",
     "output_type": "stream",
     "text": [
      "to_mention_true\n"
     ]
    },
    {
     "data": {
      "text/html": [
       "<div style=\"white-space: nowrap\"><svg viewbox='0 0 430 430' width=\"172\" height=\"172\" id=\"agent_0\"><circle cx=\"215\" cy=\"215\" r=\"205\" fill=\"none\" stroke=\"black\" stroke-width=\"2\" stroke-dasharray=\"3,3\"/><circle cx=\"236\" cy=\"17\" r=\"9\" fill=\"rgb(89,89,89)\"/><circle cx=\"381\" cy=\"162\" r=\"8\" fill=\"rgb(73,73,73)\"/><circle cx=\"267\" cy=\"230\" r=\"12\" fill=\"rgb(92,92,92)\"/><circle cx=\"104\" cy=\"293\" r=\"10\" fill=\"rgb(70,70,70)\"/><circle cx=\"209\" cy=\"394\" r=\"7\" fill=\"rgb(92,92,92)\"/><circle cx=\"245\" cy=\"199\" r=\"11\" fill=\"rgb(174,174,174)\"/><circle cx=\"87\" cy=\"233\" r=\"10\" fill=\"rgb(113,113,113)\"/></svg><svg viewBox='0 0 430 430' id=\"svg\" width=\"172\" height=\"172\"><circle cx=\"215\" cy=\"215\" r=\"205\" fill=\"none\" stroke=\"black\" stroke-width=\"2\" stroke-dasharray=\"3,3\"/> <circle cx=\"236\" cy=\"17\" r=\"9\" fill=\"rgb(255,255,255)\" class=\"agent_0_8\"/><circle cx=\"381\" cy=\"162\" r=\"8\" fill=\"rgb(255,255,255)\" class=\"agent_0_35\"/><circle cx=\"267\" cy=\"230\" r=\"12\" fill=\"rgb(255,0,0)\" class=\"agent_0_36\"/><circle cx=\"104\" cy=\"293\" r=\"10\" fill=\"rgb(255,255,255)\" class=\"agent_0_37\"/><circle cx=\"209\" cy=\"394\" r=\"7\" fill=\"rgb(255,255,255)\" class=\"agent_0_47\"/><circle cx=\"245\" cy=\"199\" r=\"11\" fill=\"rgb(255,0,0)\" class=\"agent_0_54\"/><circle cx=\"87\" cy=\"233\" r=\"10\" fill=\"rgb(255,255,255)\" class=\"agent_0_61\"/></svg></div>"
      ],
      "text/plain": [
       "<IPython.core.display.HTML object>"
      ]
     },
     "metadata": {},
     "output_type": "display_data"
    },
    {
     "name": "stdout",
     "output_type": "stream",
     "text": [
      "beam 0\ti see that\n",
      "beam 1\ti have that\n",
      "beam 2\tyes i see that\n",
      "beam 3\ti see that .\n",
      "beam 4\ti see that too\n",
      "beam 5\tyes i have that\n",
      "beam 6\ti have that .\n",
      "beam 7\ti have that too\n",
      "beam 8\tyes i see it\n",
      "beam 9\tyes , i see that\n",
      "beam 10\tyes , i have that\n",
      "beam 11\tyes , i have that .\n",
      "beam 12\tyes , i see that .\n",
      "beam 13\tyes i see that .\n",
      "beam 14\ti see that too .\n",
      "beam 15\tyes i have that .\n",
      "beam 16\ti think i see that\n",
      "beam 17\tyes , i have that too\n",
      "beam 18\tyes , i have that too .\n",
      "beam 19\tyes , i see that too .\n",
      "greedy\ti have that <eos>\n",
      "human\tgreat <unk> pick dots <unk> ! <eos>\n",
      "refs_pred\n"
     ]
    },
    {
     "data": {
      "text/html": [
       "<div style=\"white-space: nowrap\"><svg viewbox='0 0 430 430' width=\"172\" height=\"172\" id=\"agent_0\"><circle cx=\"215\" cy=\"215\" r=\"205\" fill=\"none\" stroke=\"black\" stroke-width=\"2\" stroke-dasharray=\"3,3\"/><circle cx=\"236\" cy=\"17\" r=\"9\" fill=\"rgb(89,89,89)\"/><circle cx=\"381\" cy=\"162\" r=\"8\" fill=\"rgb(73,73,73)\"/><circle cx=\"267\" cy=\"230\" r=\"12\" fill=\"rgb(92,92,92)\"/><circle cx=\"104\" cy=\"293\" r=\"10\" fill=\"rgb(70,70,70)\"/><circle cx=\"209\" cy=\"394\" r=\"7\" fill=\"rgb(92,92,92)\"/><circle cx=\"245\" cy=\"199\" r=\"11\" fill=\"rgb(174,174,174)\"/><circle cx=\"87\" cy=\"233\" r=\"10\" fill=\"rgb(113,113,113)\"/></svg><svg viewBox='0 0 430 430' id=\"svg\" width=\"172\" height=\"172\"><circle cx=\"215\" cy=\"215\" r=\"205\" fill=\"none\" stroke=\"black\" stroke-width=\"2\" stroke-dasharray=\"3,3\"/> <circle cx=\"236\" cy=\"17\" r=\"9\" fill=\"rgb(255,255,255)\" class=\"agent_0_8\"/><circle cx=\"381\" cy=\"162\" r=\"8\" fill=\"rgb(255,255,255)\" class=\"agent_0_35\"/><circle cx=\"267\" cy=\"230\" r=\"12\" fill=\"rgb(255,255,255)\" class=\"agent_0_36\"/><circle cx=\"104\" cy=\"293\" r=\"10\" fill=\"rgb(255,255,255)\" class=\"agent_0_37\"/><circle cx=\"209\" cy=\"394\" r=\"7\" fill=\"rgb(255,255,255)\" class=\"agent_0_47\"/><circle cx=\"245\" cy=\"199\" r=\"11\" fill=\"rgb(255,0,0)\" class=\"agent_0_54\"/><circle cx=\"87\" cy=\"233\" r=\"10\" fill=\"rgb(255,255,255)\" class=\"agent_0_61\"/></svg></div>"
      ],
      "text/plain": [
       "<IPython.core.display.HTML object>"
      ]
     },
     "metadata": {},
     "output_type": "display_data"
    },
    {
     "name": "stdout",
     "output_type": "stream",
     "text": [
      "refs_true\n"
     ]
    },
    {
     "data": {
      "text/html": [
       "<div style=\"white-space: nowrap\"><svg viewbox='0 0 430 430' width=\"172\" height=\"172\" id=\"agent_0\"><circle cx=\"215\" cy=\"215\" r=\"205\" fill=\"none\" stroke=\"black\" stroke-width=\"2\" stroke-dasharray=\"3,3\"/><circle cx=\"236\" cy=\"17\" r=\"9\" fill=\"rgb(89,89,89)\"/><circle cx=\"381\" cy=\"162\" r=\"8\" fill=\"rgb(73,73,73)\"/><circle cx=\"267\" cy=\"230\" r=\"12\" fill=\"rgb(92,92,92)\"/><circle cx=\"104\" cy=\"293\" r=\"10\" fill=\"rgb(70,70,70)\"/><circle cx=\"209\" cy=\"394\" r=\"7\" fill=\"rgb(92,92,92)\"/><circle cx=\"245\" cy=\"199\" r=\"11\" fill=\"rgb(174,174,174)\"/><circle cx=\"87\" cy=\"233\" r=\"10\" fill=\"rgb(113,113,113)\"/></svg><svg viewBox='0 0 430 430' id=\"svg\" width=\"172\" height=\"172\"><circle cx=\"215\" cy=\"215\" r=\"205\" fill=\"none\" stroke=\"black\" stroke-width=\"2\" stroke-dasharray=\"3,3\"/> <circle cx=\"236\" cy=\"17\" r=\"9\" fill=\"rgb(255,255,255)\" class=\"agent_0_8\"/><circle cx=\"381\" cy=\"162\" r=\"8\" fill=\"rgb(255,255,255)\" class=\"agent_0_35\"/><circle cx=\"267\" cy=\"230\" r=\"12\" fill=\"rgb(255,0,0)\" class=\"agent_0_36\"/><circle cx=\"104\" cy=\"293\" r=\"10\" fill=\"rgb(255,255,255)\" class=\"agent_0_37\"/><circle cx=\"209\" cy=\"394\" r=\"7\" fill=\"rgb(255,255,255)\" class=\"agent_0_47\"/><circle cx=\"245\" cy=\"199\" r=\"11\" fill=\"rgb(255,0,0)\" class=\"agent_0_54\"/><circle cx=\"87\" cy=\"233\" r=\"10\" fill=\"rgb(255,255,255)\" class=\"agent_0_61\"/></svg></div>"
      ],
      "text/plain": [
       "<IPython.core.display.HTML object>"
      ]
     },
     "metadata": {},
     "output_type": "display_data"
    },
    {
     "name": "stdout",
     "output_type": "stream",
     "text": [
      "\n",
      "----------------------------------------\n",
      "\n",
      "human\tTHEM: lets click the black one <selection>\n",
      "partner_refs_pred\n"
     ]
    },
    {
     "data": {
      "text/html": [
       "<div style=\"white-space: nowrap\"><svg viewbox='0 0 430 430' width=\"172\" height=\"172\" id=\"agent_0\"><circle cx=\"215\" cy=\"215\" r=\"205\" fill=\"none\" stroke=\"black\" stroke-width=\"2\" stroke-dasharray=\"3,3\"/><circle cx=\"236\" cy=\"17\" r=\"9\" fill=\"rgb(89,89,89)\"/><circle cx=\"381\" cy=\"162\" r=\"8\" fill=\"rgb(73,73,73)\"/><circle cx=\"267\" cy=\"230\" r=\"12\" fill=\"rgb(92,92,92)\"/><circle cx=\"104\" cy=\"293\" r=\"10\" fill=\"rgb(70,70,70)\"/><circle cx=\"209\" cy=\"394\" r=\"7\" fill=\"rgb(92,92,92)\"/><circle cx=\"245\" cy=\"199\" r=\"11\" fill=\"rgb(174,174,174)\"/><circle cx=\"87\" cy=\"233\" r=\"10\" fill=\"rgb(113,113,113)\"/></svg><svg viewBox='0 0 430 430' id=\"svg\" width=\"172\" height=\"172\"><circle cx=\"215\" cy=\"215\" r=\"205\" fill=\"none\" stroke=\"black\" stroke-width=\"2\" stroke-dasharray=\"3,3\"/> <circle cx=\"236\" cy=\"17\" r=\"9\" fill=\"rgb(255,255,255)\" class=\"agent_0_8\"/><circle cx=\"381\" cy=\"162\" r=\"8\" fill=\"rgb(255,255,255)\" class=\"agent_0_35\"/><circle cx=\"267\" cy=\"230\" r=\"12\" fill=\"rgb(255,0,0)\" class=\"agent_0_36\"/><circle cx=\"104\" cy=\"293\" r=\"10\" fill=\"rgb(255,255,255)\" class=\"agent_0_37\"/><circle cx=\"209\" cy=\"394\" r=\"7\" fill=\"rgb(255,255,255)\" class=\"agent_0_47\"/><circle cx=\"245\" cy=\"199\" r=\"11\" fill=\"rgb(255,255,255)\" class=\"agent_0_54\"/><circle cx=\"87\" cy=\"233\" r=\"10\" fill=\"rgb(255,255,255)\" class=\"agent_0_61\"/></svg></div>"
      ],
      "text/plain": [
       "<IPython.core.display.HTML object>"
      ]
     },
     "metadata": {},
     "output_type": "display_data"
    },
    {
     "name": "stdout",
     "output_type": "stream",
     "text": [
      "partner_refs_true\n"
     ]
    },
    {
     "data": {
      "text/html": [
       "<div style=\"white-space: nowrap\"><svg viewbox='0 0 430 430' width=\"172\" height=\"172\" id=\"agent_0\"><circle cx=\"215\" cy=\"215\" r=\"205\" fill=\"none\" stroke=\"black\" stroke-width=\"2\" stroke-dasharray=\"3,3\"/><circle cx=\"236\" cy=\"17\" r=\"9\" fill=\"rgb(89,89,89)\"/><circle cx=\"381\" cy=\"162\" r=\"8\" fill=\"rgb(73,73,73)\"/><circle cx=\"267\" cy=\"230\" r=\"12\" fill=\"rgb(92,92,92)\"/><circle cx=\"104\" cy=\"293\" r=\"10\" fill=\"rgb(70,70,70)\"/><circle cx=\"209\" cy=\"394\" r=\"7\" fill=\"rgb(92,92,92)\"/><circle cx=\"245\" cy=\"199\" r=\"11\" fill=\"rgb(174,174,174)\"/><circle cx=\"87\" cy=\"233\" r=\"10\" fill=\"rgb(113,113,113)\"/></svg><svg viewBox='0 0 430 430' id=\"svg\" width=\"172\" height=\"172\"><circle cx=\"215\" cy=\"215\" r=\"205\" fill=\"none\" stroke=\"black\" stroke-width=\"2\" stroke-dasharray=\"3,3\"/> <circle cx=\"236\" cy=\"17\" r=\"9\" fill=\"rgb(255,255,255)\" class=\"agent_0_8\"/><circle cx=\"381\" cy=\"162\" r=\"8\" fill=\"rgb(255,255,255)\" class=\"agent_0_35\"/><circle cx=\"267\" cy=\"230\" r=\"12\" fill=\"rgb(255,0,0)\" class=\"agent_0_36\"/><circle cx=\"104\" cy=\"293\" r=\"10\" fill=\"rgb(255,255,255)\" class=\"agent_0_37\"/><circle cx=\"209\" cy=\"394\" r=\"7\" fill=\"rgb(255,255,255)\" class=\"agent_0_47\"/><circle cx=\"245\" cy=\"199\" r=\"11\" fill=\"rgb(255,255,255)\" class=\"agent_0_54\"/><circle cx=\"87\" cy=\"233\" r=\"10\" fill=\"rgb(255,255,255)\" class=\"agent_0_61\"/></svg></div>"
      ],
      "text/plain": [
       "<IPython.core.display.HTML object>"
      ]
     },
     "metadata": {},
     "output_type": "display_data"
    },
    {
     "name": "stdout",
     "output_type": "stream",
     "text": [
      "\n",
      "----------------------------------------\n",
      "\n"
     ]
    }
   ],
   "source": [
    "force_contexts_and_mentions(11)"
   ]
  },
  {
   "cell_type": "code",
   "execution_count": 58,
   "metadata": {},
   "outputs": [],
   "source": [
    "import json\n",
    "from utils import ContextGenerator"
   ]
  },
  {
   "cell_type": "code",
   "execution_count": 43,
   "metadata": {},
   "outputs": [],
   "source": [
    "ctx_gen = ContextGenerator('data/onecommon/shared_4.txt')"
   ]
  },
  {
   "cell_type": "code",
   "execution_count": 44,
   "metadata": {},
   "outputs": [],
   "source": [
    "with open('data/onecommon/shared_4.json', \"r\") as f:\n",
    "    scenario_list = json.load(f)\n",
    "selfplay_scenarios = {scenario['uuid']: scenario for scenario in scenario_list}"
   ]
  },
  {
   "cell_type": "code",
   "execution_count": 45,
   "metadata": {},
   "outputs": [
    {
     "name": "stdout",
     "output_type": "stream",
     "text": [
      "S_xM5bXi3lMqXHKKgP\n"
     ]
    }
   ],
   "source": [
    "scenario = None\n",
    "for ix, ([scenario_id], (ctx1, ctx2), (ids1, ids2)) in enumerate(ctx_gen.iter()):\n",
    "#     if scenario_id == 'S_11J8n40u4HRVduwi':\n",
    "#         print('found it')\n",
    "#         scenario = scenarios[scenario_id]\n",
    "#         break\n",
    "    if ix == 2:\n",
    "        scenario = selfplay_scenarios[scenario_id]\n",
    "        print(scenario_id)\n",
    "        break"
   ]
  },
  {
   "cell_type": "code",
   "execution_count": 46,
   "metadata": {},
   "outputs": [],
   "source": [
    "import random"
   ]
  },
  {
   "cell_type": "code",
   "execution_count": null,
   "metadata": {
    "scrolled": false
   },
   "outputs": [
    {
     "ename": "NameError",
     "evalue": "name 'selfplay_scenarios' is not defined",
     "output_type": "error",
     "traceback": [
      "\u001b[0;31m---------------------------------------------------------------------------\u001b[0m",
      "\u001b[0;31mNameError\u001b[0m                                 Traceback (most recent call last)",
      "\u001b[0;32m<ipython-input-41-e274016a0281>\u001b[0m in \u001b[0;36m<module>\u001b[0;34m\u001b[0m\n\u001b[1;32m      1\u001b[0m \u001b[0;31m# selfplay emulation\u001b[0m\u001b[0;34m\u001b[0m\u001b[0;34m\u001b[0m\u001b[0;34m\u001b[0m\u001b[0m\n\u001b[0;32m----> 2\u001b[0;31m \u001b[0mscenario\u001b[0m \u001b[0;34m=\u001b[0m \u001b[0mselfplay_scenarios\u001b[0m\u001b[0;34m[\u001b[0m\u001b[0mscenario_id\u001b[0m\u001b[0;34m]\u001b[0m\u001b[0;34m\u001b[0m\u001b[0;34m\u001b[0m\u001b[0m\n\u001b[0m\u001b[1;32m      3\u001b[0m \u001b[0;32mfor\u001b[0m \u001b[0magent\u001b[0m\u001b[0;34m,\u001b[0m \u001b[0magent_id\u001b[0m\u001b[0;34m,\u001b[0m \u001b[0mctx\u001b[0m\u001b[0;34m,\u001b[0m \u001b[0mreal_ids\u001b[0m \u001b[0;32min\u001b[0m \u001b[0mzip\u001b[0m\u001b[0;34m(\u001b[0m\u001b[0;34m[\u001b[0m\u001b[0malice\u001b[0m\u001b[0;34m,\u001b[0m \u001b[0mbob\u001b[0m\u001b[0;34m]\u001b[0m\u001b[0;34m,\u001b[0m \u001b[0;34m[\u001b[0m\u001b[0;36m0\u001b[0m\u001b[0;34m,\u001b[0m \u001b[0;36m1\u001b[0m\u001b[0;34m]\u001b[0m\u001b[0;34m,\u001b[0m \u001b[0;34m[\u001b[0m\u001b[0mctx1\u001b[0m\u001b[0;34m,\u001b[0m \u001b[0mctx2\u001b[0m\u001b[0;34m]\u001b[0m\u001b[0;34m,\u001b[0m \u001b[0;34m[\u001b[0m\u001b[0mids1\u001b[0m\u001b[0;34m,\u001b[0m \u001b[0mids2\u001b[0m\u001b[0;34m]\u001b[0m\u001b[0;34m)\u001b[0m\u001b[0;34m:\u001b[0m\u001b[0;34m\u001b[0m\u001b[0;34m\u001b[0m\u001b[0m\n\u001b[1;32m      4\u001b[0m     \u001b[0magent\u001b[0m\u001b[0;34m.\u001b[0m\u001b[0mfeed_context\u001b[0m\u001b[0;34m(\u001b[0m\u001b[0mctx\u001b[0m\u001b[0;34m)\u001b[0m\u001b[0;34m\u001b[0m\u001b[0;34m\u001b[0m\u001b[0m\n\u001b[1;32m      5\u001b[0m     \u001b[0magent\u001b[0m\u001b[0;34m.\u001b[0m\u001b[0mreal_ids\u001b[0m \u001b[0;34m=\u001b[0m \u001b[0mreal_ids\u001b[0m\u001b[0;34m\u001b[0m\u001b[0;34m\u001b[0m\u001b[0m\n",
      "\u001b[0;31mNameError\u001b[0m: name 'selfplay_scenarios' is not defined"
     ]
    },
    {
     "name": "stdout",
     "output_type": "stream",
     "text": [
      "> \u001b[0;32m<ipython-input-41-e274016a0281>\u001b[0m(2)\u001b[0;36m<module>\u001b[0;34m()\u001b[0m\n",
      "\u001b[0;32m      1 \u001b[0;31m\u001b[0;31m# selfplay emulation\u001b[0m\u001b[0;34m\u001b[0m\u001b[0;34m\u001b[0m\u001b[0;34m\u001b[0m\u001b[0m\n",
      "\u001b[0m\u001b[0;32m----> 2 \u001b[0;31m\u001b[0mscenario\u001b[0m \u001b[0;34m=\u001b[0m \u001b[0mselfplay_scenarios\u001b[0m\u001b[0;34m[\u001b[0m\u001b[0mscenario_id\u001b[0m\u001b[0;34m]\u001b[0m\u001b[0;34m\u001b[0m\u001b[0;34m\u001b[0m\u001b[0m\n",
      "\u001b[0m\u001b[0;32m      3 \u001b[0;31m\u001b[0;32mfor\u001b[0m \u001b[0magent\u001b[0m\u001b[0;34m,\u001b[0m \u001b[0magent_id\u001b[0m\u001b[0;34m,\u001b[0m \u001b[0mctx\u001b[0m\u001b[0;34m,\u001b[0m \u001b[0mreal_ids\u001b[0m \u001b[0;32min\u001b[0m \u001b[0mzip\u001b[0m\u001b[0;34m(\u001b[0m\u001b[0;34m[\u001b[0m\u001b[0malice\u001b[0m\u001b[0;34m,\u001b[0m \u001b[0mbob\u001b[0m\u001b[0;34m]\u001b[0m\u001b[0;34m,\u001b[0m \u001b[0;34m[\u001b[0m\u001b[0;36m0\u001b[0m\u001b[0;34m,\u001b[0m \u001b[0;36m1\u001b[0m\u001b[0;34m]\u001b[0m\u001b[0;34m,\u001b[0m \u001b[0;34m[\u001b[0m\u001b[0mctx1\u001b[0m\u001b[0;34m,\u001b[0m \u001b[0mctx2\u001b[0m\u001b[0;34m]\u001b[0m\u001b[0;34m,\u001b[0m \u001b[0;34m[\u001b[0m\u001b[0mids1\u001b[0m\u001b[0;34m,\u001b[0m \u001b[0mids2\u001b[0m\u001b[0;34m]\u001b[0m\u001b[0;34m)\u001b[0m\u001b[0;34m:\u001b[0m\u001b[0;34m\u001b[0m\u001b[0;34m\u001b[0m\u001b[0m\n",
      "\u001b[0m\u001b[0;32m      4 \u001b[0;31m    \u001b[0magent\u001b[0m\u001b[0;34m.\u001b[0m\u001b[0mfeed_context\u001b[0m\u001b[0;34m(\u001b[0m\u001b[0mctx\u001b[0m\u001b[0;34m)\u001b[0m\u001b[0;34m\u001b[0m\u001b[0;34m\u001b[0m\u001b[0m\n",
      "\u001b[0m\u001b[0;32m      5 \u001b[0;31m    \u001b[0magent\u001b[0m\u001b[0;34m.\u001b[0m\u001b[0mreal_ids\u001b[0m \u001b[0;34m=\u001b[0m \u001b[0mreal_ids\u001b[0m\u001b[0;34m\u001b[0m\u001b[0;34m\u001b[0m\u001b[0m\n",
      "\u001b[0m\n",
      "--KeyboardInterrupt--\n"
     ]
    }
   ],
   "source": [
    "# selfplay emulation\n",
    "scenario = selfplay_scenarios[scenario_id]\n",
    "for agent, agent_id, ctx, real_ids in zip([alice, bob], [0, 1], [ctx1, ctx2], [ids1, ids2]):\n",
    "    agent.feed_context(ctx)\n",
    "    agent.real_ids = real_ids\n",
    "    agent.agent_id = agent_id\n",
    "    \n",
    "dot_mention_samples = 1\n",
    "utt_samples = 10\n",
    "    \n",
    "writer, reader = [alice, bob]\n",
    "conv = []\n",
    "speaker = []\n",
    "words_left = 5000\n",
    "\n",
    "num_mentions = 2\n",
    "num_dots_to_mention = 3\n",
    "\n",
    "sample_temperature = 0.25\n",
    "argmax_temperature = 0.005\n",
    "\n",
    "def make_dots_mentioned_per_ref():\n",
    "#     # fixed\n",
    "#     return torch.BoolTensor([[1,1,0,0,0,0,0], [1,0,0,0,0,0,0]]).unsqueeze(0)\n",
    "#     return torch.BoolTensor([[1,1,0,0,0,0,0]]).unsqueeze(0)\n",
    "\n",
    "    # random initial and drop\n",
    "    mentioned = torch.zeros(1,num_mentions,7).bool()\n",
    "    dots_mentioned = []\n",
    "    for _ in range(num_dots_to_mention):\n",
    "        dot_ix = torch.randint(7, (1,))\n",
    "        mentioned[:,0,dot_ix] = 1\n",
    "        dots_mentioned.append(dot_ix)\n",
    "        \n",
    "    for mention_ix in range(1, num_mentions):\n",
    "        mentioned[:,mention_ix,random.choice(dots_mentioned)] = 1\n",
    "    return mentioned\n",
    "    \n",
    "\n",
    "    # random \n",
    "#     mentioned = torch.zeros(1,num_mentions,7).bool()\n",
    "#     for mention_ix in range(num_mentions):\n",
    "#         for _ in range(num_dots_to_mention):\n",
    "#             dot_ix = torch.randint(7, (1,))\n",
    "#             mentioned[:,mention_ix,dot_ix] = 1\n",
    "#     return mentioned\n",
    "\n",
    "display_context = True\n",
    "\n",
    "while True:\n",
    "    dots_mentioned_per_ref = make_dots_mentioned_per_ref()\n",
    "    dots_mentioned = dots_mentioned_per_ref.max(1).values\n",
    "    \n",
    "    num_markables=torch.LongTensor([dots_mentioned_per_ref.size(1)])\n",
    "    if display_context:\n",
    "        for mention_ix in range(dots_mentioned_per_ref.size(1)):\n",
    "            display_attn(scenario, dots_mentioned_per_ref[:,mention_ix].float(), writer.agent_id, name=f'dots_mentioned_{mention_ix}')\n",
    "    for us in range(utt_samples):\n",
    "        outs, _, _, _, extra = writer.model.write(\n",
    "            writer.ctx,\n",
    "            writer.ctx_differences,\n",
    "            writer.ctx_h,\n",
    "            writer.reader_and_writer_lang_h,\n",
    "            words_left,\n",
    "            sample_temperature,\n",
    "            dots_mentioned=dots_mentioned,\n",
    "            dots_mentioned_per_ref=dots_mentioned_per_ref,\n",
    "            num_markables=num_markables,\n",
    "        )\n",
    "        print('agent {}; sample {}\\t{}'.format(writer.agent_id, us, ' '.join(writer._decode(outs, writer.model.word_dict))))\n",
    "    print()\n",
    "        \n",
    "    num_markables=torch.LongTensor([num_mentions])\n",
    "    if display_context:\n",
    "        for mention_ix in range(dots_mentioned_per_ref.size(1)):\n",
    "            display_attn(scenario, dots_mentioned_per_ref[:,mention_ix].float(), writer.agent_id, name=f'dots_mentioned_{mention_ix}')\n",
    "    out = writer.write(\n",
    "        max_words=words_left,\n",
    "        dots_mentioned=dots_mentioned,\n",
    "        dots_mentioned_per_ref=dots_mentioned_per_ref,\n",
    "        num_markables=num_markables,\n",
    "        temperature_override=argmax_temperature,\n",
    "    )\n",
    "    print('agent {}; argmax\\t{}'.format(writer.agent_id, ' '.join(out)))\n",
    "    print()\n",
    "    \n",
    "#     if display_context and writer.extras[-1].get('feed_ctx_attn_prob', None) is not None:\n",
    "#         display_attn(scenario, writer.extras[-1]['feed_ctx_attn_prob'], writer.agent_id, name='feed attention')\n",
    "    \n",
    "#     if display_context and writer.extras[-1].get('word_ctx_attn_prob_mean', None) is not None:\n",
    "#         display_attn(scenario, writer.extras[-1]['word_ctx_attn_prob_mean'], writer.agent_id, name='word attention mean')\n",
    "        \n",
    "#     for ix, ix_attn in enumerate(writer.extras[-1]['word_ctx_attn_probs']):\n",
    "#         display_attn(scenario, ix_attn, writer.agent_id, name='t {}: {}'.format(ix, out[ix]))\n",
    "        \n",
    "    print('{}\\t{}'.format(writer.agent_id, ' '.join(out)))\n",
    "    print('-'*60)\n",
    "        \n",
    "    words_left -= len(out)\n",
    "    conv.append(out)\n",
    "    speaker.append(writer.agent_id)\n",
    "    reader.read(out)\n",
    "    if is_selection(out) or words_left <= 1:\n",
    "        break\n",
    "    writer, reader = reader, writer"
   ]
  },
  {
   "cell_type": "code",
   "execution_count": null,
   "metadata": {},
   "outputs": [],
   "source": []
  }
 ],
 "metadata": {
  "kernelspec": {
   "display_name": "Python 3",
   "language": "python",
   "name": "python3"
  },
  "language_info": {
   "codemirror_mode": {
    "name": "ipython",
    "version": 3
   },
   "file_extension": ".py",
   "mimetype": "text/x-python",
   "name": "python",
   "nbconvert_exporter": "python",
   "pygments_lexer": "ipython3",
   "version": "3.6.10"
  }
 },
 "nbformat": 4,
 "nbformat_minor": 2
}
