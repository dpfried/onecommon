{
 "cells": [
  {
   "cell_type": "code",
   "execution_count": 1,
   "metadata": {},
   "outputs": [
    {
     "data": {
      "text/html": [
       "<style>.container { width:100% !important; }</style>"
      ],
      "text/plain": [
       "<IPython.core.display.HTML object>"
      ]
     },
     "metadata": {},
     "output_type": "display_data"
    }
   ],
   "source": [
    "from IPython.core.display import display, HTML\n",
    "display(HTML(\"<style>.container { width:100% !important; }</style>\"))"
   ]
  },
  {
   "cell_type": "code",
   "execution_count": 2,
   "metadata": {
    "scrolled": true
   },
   "outputs": [
    {
     "name": "stdout",
     "output_type": "stream",
     "text": [
      "/home/dfried/projects/onecommon/aaai2020/experiments\n"
     ]
    }
   ],
   "source": [
    "cd '/home/dfried/projects/onecommon/aaai2020/experiments'"
   ]
  },
  {
   "cell_type": "code",
   "execution_count": 3,
   "metadata": {},
   "outputs": [],
   "source": [
    "import models\n",
    "from models import get_model_type\n",
    "import data\n",
    "import utils\n",
    "from domain import get_domain\n",
    "from corpora.reference_sentence import ReferenceSentenceCorpus"
   ]
  },
  {
   "cell_type": "code",
   "execution_count": 4,
   "metadata": {},
   "outputs": [
    {
     "name": "stdout",
     "output_type": "stream",
     "text": [
      "\u001b[0m\u001b[01;34mbad_filtered\u001b[0m/\r\n",
      "\u001b[01;34mbase_512_extremes_asymmetric_learned-pooling_untied_bidirectional_hidden-mention-encoder_rb-lpm-lm-lPm-lPpm_prb-lpm-lm-lPm-lPpm\u001b[0m\u001b[K/\r\n",
      "\u001b[01;34mbase_512_extremes_asymmetric_learned-pooling_untied_bidirectional_hidden-mention-encoder_rb-lpm-lm_prb-lpm-lm\u001b[0m\u001b[K/\r\n",
      "\u001b[01;34mbase_512_extremes_learned-pooling_untied_bidirectional_hidden-mention-encoder\u001b[0m/\r\n",
      "\u001b[01;34mbase_512_extremes_learned-pooling_untied_bidirectional_hidden-mention-encoder_2\u001b[0m/\r\n",
      "\u001b[01;34mbase_512_extremes_learned-pooling_untied_bidirectional_hidden-mention-encoder_3\u001b[0m/\r\n",
      "\u001b[01;34mbase_512_extremes_learned-pooling_untied_bidirectional_hidden-mention-encoder-filtered-separate\u001b[0m\u001b[K/\r\n",
      "\u001b[01;34mbase_512_extremes_learned-pooling_untied_bidirectional_hidden-mention-encoder-filtered-shared\u001b[0m\u001b[K/\r\n",
      "\u001b[01;34mbase_512_extremes_learned-pooling_untied_bidirectional_hidden-mention-encoder_mb-tpmpred-lmpred\u001b[0m\u001b[K/\r\n",
      "\u001b[01;34mbase_512_extremes_learned-pooling_untied_bidirectional_hidden-mention-encoder_mention-start-10\u001b[0m\u001b[K/\r\n",
      "\u001b[01;34mbase_512_extremes_learned-pooling_untied_bidirectional_hidden-mention-encoder_rb-lpm-lm-lPm-lPpm_prb-lpm-lm-lPm-lPpm\u001b[0m\u001b[K/\r\n",
      "\u001b[01;34mbase_512_extremes_learned-pooling_untied_bidirectional_hidden-mention-encoder_rb-lpm-lm-lPm-lPpm_prb-lpm-lm-lPm-lPpm_mb-tpmpred-lmpred\u001b[0m\u001b[K/\r\n",
      "\u001b[01;34mbase_512_extremes_learned-pooling_untied_bidirectional_hidden-mention-encoder_rb-lpm-lm_prb-lpm-lm\u001b[0m\u001b[K/\r\n",
      "\u001b[01;34mbase_512_extremes_learned-pooling_untied_bidirectional_hidden-mention-encoder-relational\u001b[0m\u001b[K/\r\n",
      "\u001b[01;34mbase_512_learned-pooling_untied_bidirectional_hidden-mention-encoder\u001b[0m/\r\n",
      "\u001b[01;34mbase_512_learned-pooling_untied_bidirectional_hidden-mention-encoder_rb-lm_prb-lpm\u001b[0m\u001b[K/\r\n",
      "\u001b[01;34mbase_512_learned-pooling_untied_bidirectional_hidden-mention-encoder_rb-lpm-lm_prb-lpm-lm\u001b[0m\u001b[K/\r\n",
      "\u001b[01;34mbase_512_learned-pooling_untied_bidirectional_hidden-mention-encoder_rb-lpm_prb-lm\u001b[0m\u001b[K/\r\n",
      "\u001b[01;34mbase_learned-pooling_untied_bidirectional_hidden-mention-encoder\u001b[0m/\r\n"
     ]
    }
   ],
   "source": [
    "ls expts/rel3_tsel_ref_dial_model_separate/directions"
   ]
  },
  {
   "cell_type": "code",
   "execution_count": 5,
   "metadata": {},
   "outputs": [
    {
     "name": "stdout",
     "output_type": "stream",
     "text": [
      " 1_best.stdict\r\n",
      " 1_best.th\r\n",
      " 1_ep-30.stdict\r\n",
      " 1_ep-30.th\r\n",
      "'eval_dev_cand=40_oracle.out'\r\n",
      "'eval_dev_cand=40_speaker-weight=0.1.out'\r\n",
      "'eval_dev_cand=40_speaker-weight=0.2.out'\r\n",
      "'eval_dev_cand=40_speaker-weight=0.3.out'\r\n",
      "'eval_dev_cand=40_speaker-weight=0.4.out'\r\n",
      "'eval_dev_cand=40_speaker-weight=0.5.out'\r\n",
      "'eval_dev_cand=40_speaker-weight=0.6.out'\r\n",
      "'eval_dev_cand=40_speaker-weight=0.7.out'\r\n",
      "'eval_dev_cand=40_speaker-weight=0.8.out'\r\n",
      "'eval_dev_cand=40_speaker-weight=0.9.out'\r\n",
      "'eval_dev_cand=40_speaker-weight=0.out'\r\n",
      "'eval_dev_cand=40_speaker-weight=1.0.out'\r\n",
      " eval_dev_l0.out\r\n",
      " eval_dev_l0_ref_annotations.json\r\n",
      " train_fold-1.out\r\n"
     ]
    }
   ],
   "source": [
    "ls expts/rel3_tsel_ref_dial_model_separate/directions/base_512_learned-pooling_untied_bidirectional_hidden-mention-encoder/"
   ]
  },
  {
   "cell_type": "code",
   "execution_count": 6,
   "metadata": {},
   "outputs": [],
   "source": [
    "domain = get_domain('one_common')\n",
    "unk_threshold = 10\n",
    "model_ty = get_model_type('rnn_reference_model')\n",
    "\n",
    "ctx_encoder_type = 'rel_attn_encoder_3'\n",
    "\n",
    "# model_fname = 'rel2_dial_model_separate/hierarchical_only-self_mask-pad_max-pool_rel-2_feed-context-attend_no-word-attention_ablate-properties_1_best.th'\n",
    "\n",
    "base = 'expts/rel3_tsel_ref_dial_model_separate/directions'\n",
    "\n",
    "model_fnames = {\n",
    "    'basic': f'{base}/base_512_learned-pooling_untied_bidirectional_hidden-mention-encoder/1_ep-30.th',\n",
    "    'encoder-filtered-shared': f'{base}/base_512_extremes_learned-pooling_untied_bidirectional_hidden-mention-encoder-filtered-shared/1_ep-30.th',\n",
    "    'encoder-filtered-separate': f'{base}/base_512_extremes_learned-pooling_untied_bidirectional_hidden-mention-encoder-filtered-separate/1_ep-30.th',\n",
    "}"
   ]
  },
  {
   "cell_type": "code",
   "execution_count": 7,
   "metadata": {},
   "outputs": [
    {
     "name": "stdout",
     "output_type": "stream",
     "text": [
      "freq cutoff: 10\n",
      "vocab size: 649\n",
      "dataset data/onecommon/train_reference_1.txt, total 545056, unks 4302, ratio 0.79%\n",
      "dataset data/onecommon/valid_reference_1.txt, total 69348, unks 686, ratio 0.99%\n",
      "dataset data/onecommon/test_reference_1.txt, total 67284, unks 636, ratio 0.95%\n"
     ]
    }
   ],
   "source": [
    "seed = 1\n",
    "corpus = ReferenceSentenceCorpus(domain, 'data/onecommon',\n",
    "                            train='train_reference_{}.txt'.format(seed),\n",
    "                            valid='valid_reference_{}.txt'.format(seed),\n",
    "                            test='test_reference_{}.txt'.format(seed),\n",
    "                            freq_cutoff=unk_threshold, verbose=True)"
   ]
  },
  {
   "cell_type": "code",
   "execution_count": 8,
   "metadata": {},
   "outputs": [],
   "source": [
    "def load_json(file):\n",
    "    import json\n",
    "    with open(file, 'r') as f:\n",
    "        return json.load(f)"
   ]
  },
  {
   "cell_type": "code",
   "execution_count": 9,
   "metadata": {},
   "outputs": [],
   "source": [
    "scenarios1 = load_json('data/onecommon/aaai_train_scenarios.json')\n",
    "scenarios2 = load_json('data/onecommon/aaai_train_scenarios_2.json')"
   ]
  },
  {
   "cell_type": "code",
   "execution_count": 10,
   "metadata": {},
   "outputs": [
    {
     "data": {
      "text/plain": [
       "9000"
      ]
     },
     "execution_count": 10,
     "metadata": {},
     "output_type": "execute_result"
    }
   ],
   "source": [
    "len(scenarios1)"
   ]
  },
  {
   "cell_type": "code",
   "execution_count": 11,
   "metadata": {},
   "outputs": [
    {
     "data": {
      "text/plain": [
       "4500"
      ]
     },
     "execution_count": 11,
     "metadata": {},
     "output_type": "execute_result"
    }
   ],
   "source": [
    "len(scenarios2)"
   ]
  },
  {
   "cell_type": "code",
   "execution_count": 12,
   "metadata": {},
   "outputs": [
    {
     "data": {
      "text/plain": [
       "dict_keys(['kbs', 'shared', 'uuid'])"
      ]
     },
     "execution_count": 12,
     "metadata": {},
     "output_type": "execute_result"
    }
   ],
   "source": [
    "scenarios1[0].keys()"
   ]
  },
  {
   "cell_type": "code",
   "execution_count": 13,
   "metadata": {},
   "outputs": [],
   "source": [
    "train_scenarios = {\n",
    "    scenario['uuid']: scenario\n",
    "    for scenario in scenarios1\n",
    "}"
   ]
  },
  {
   "cell_type": "code",
   "execution_count": 46,
   "metadata": {},
   "outputs": [],
   "source": [
    "all_scenarios = {\n",
    "    scenario['uuid']: scenario\n",
    "    for scenario in scenarios1 + scenarios2\n",
    "}"
   ]
  },
  {
   "cell_type": "code",
   "execution_count": 14,
   "metadata": {},
   "outputs": [],
   "source": [
    "hit_count = 0\n",
    "miss_count = 0\n",
    "for scenario in scenarios2:\n",
    "    uuid = scenario['uuid']\n",
    "    if uuid in train_scenarios:\n",
    "        assert train_scenarios[uuid] == scenario\n",
    "        hit_count += 1\n",
    "    else:\n",
    "        miss_count += 1"
   ]
  },
  {
   "cell_type": "code",
   "execution_count": 15,
   "metadata": {},
   "outputs": [
    {
     "name": "stdout",
     "output_type": "stream",
     "text": [
      "hits: 0\n",
      "misses: 4500\n"
     ]
    }
   ],
   "source": [
    "print(\"hits: {}\".format(hit_count))\n",
    "print(\"misses: {}\".format(miss_count))"
   ]
  },
  {
   "cell_type": "code",
   "execution_count": 16,
   "metadata": {},
   "outputs": [
    {
     "name": "stderr",
     "output_type": "stream",
     "text": [
      "/home/dfried/miniconda3/envs/onecommon/lib/python3.6/site-packages/torch/serialization.py:657: SourceChangeWarning: source code of class 'models.rnn_reference_model.HierarchicalRnnReferenceModel' has changed. you can retrieve the original source code by accessing the object's source attribute or set `torch.nn.Module.dump_patches = True` and use the patch tool to revert the changes.\n",
      "  warnings.warn(msg, SourceChangeWarning)\n",
      "/home/dfried/miniconda3/envs/onecommon/lib/python3.6/site-packages/torch/serialization.py:657: SourceChangeWarning: source code of class 'models.ctx_encoder.RelationalAttentionContextEncoder3' has changed. you can retrieve the original source code by accessing the object's source attribute or set `torch.nn.Module.dump_patches = True` and use the patch tool to revert the changes.\n",
      "  warnings.warn(msg, SourceChangeWarning)\n",
      "/home/dfried/miniconda3/envs/onecommon/lib/python3.6/site-packages/torch/serialization.py:657: SourceChangeWarning: source code of class 'models.attention_layers.StructuredTemporalAttentionLayer' has changed. you can retrieve the original source code by accessing the object's source attribute or set `torch.nn.Module.dump_patches = True` and use the patch tool to revert the changes.\n",
      "  warnings.warn(msg, SourceChangeWarning)\n",
      "/home/dfried/miniconda3/envs/onecommon/lib/python3.6/site-packages/torch/serialization.py:657: SourceChangeWarning: source code of class 'models.attention_layers.StructuredAttentionLayer' has changed. you can retrieve the original source code by accessing the object's source attribute or set `torch.nn.Module.dump_patches = True` and use the patch tool to revert the changes.\n",
      "  warnings.warn(msg, SourceChangeWarning)\n"
     ]
    }
   ],
   "source": [
    "models = {\n",
    "    name: utils.load_model(model_fname, map_location='cpu', prefix_dir=None)\n",
    "    for name, model_fname in model_fnames.items()\n",
    "}"
   ]
  },
  {
   "cell_type": "code",
   "execution_count": 17,
   "metadata": {},
   "outputs": [
    {
     "name": "stderr",
     "output_type": "stream",
     "text": [
      "100%|██████████████████████████████████████| 1038/1038 [00:01<00:00, 731.36it/s]\n"
     ]
    }
   ],
   "source": [
    "batchsize=1\n",
    "validset, validset_stats = corpus.valid_dataset(batchsize)"
   ]
  },
  {
   "cell_type": "code",
   "execution_count": 18,
   "metadata": {},
   "outputs": [
    {
     "data": {
      "text/plain": [
       "{'n': 74030, 'self_n': 37015, 'nonpadn': 69348, 'self_nonpadn': 34674}"
      ]
     },
     "execution_count": 18,
     "metadata": {},
     "output_type": "execute_result"
    }
   ],
   "source": [
    "validset_stats"
   ]
  },
  {
   "cell_type": "code",
   "execution_count": 19,
   "metadata": {},
   "outputs": [],
   "source": [
    "import torch"
   ]
  },
  {
   "cell_type": "code",
   "execution_count": 20,
   "metadata": {},
   "outputs": [],
   "source": [
    "from agent import RnnAgent"
   ]
  },
  {
   "cell_type": "code",
   "execution_count": 21,
   "metadata": {},
   "outputs": [],
   "source": [
    "from selfplay import make_parser"
   ]
  },
  {
   "cell_type": "code",
   "execution_count": 22,
   "metadata": {},
   "outputs": [],
   "source": [
    "parser = make_parser()\n",
    "args = parser.parse_args('--temperature 0.25'.split())\n",
    "# args = parser.parse_args('--temperature 0.01'.split())"
   ]
  },
  {
   "cell_type": "code",
   "execution_count": 23,
   "metadata": {},
   "outputs": [],
   "source": [
    "def is_selection(out):\n",
    "    return '<selection>' in out"
   ]
  },
  {
   "cell_type": "code",
   "execution_count": 24,
   "metadata": {},
   "outputs": [],
   "source": [
    "# display"
   ]
  },
  {
   "cell_type": "code",
   "execution_count": 25,
   "metadata": {},
   "outputs": [],
   "source": [
    "from dialog import DialogLogger"
   ]
  },
  {
   "cell_type": "code",
   "execution_count": 26,
   "metadata": {},
   "outputs": [],
   "source": [
    "from IPython.display import SVG, display, HTML"
   ]
  },
  {
   "cell_type": "code",
   "execution_count": 27,
   "metadata": {},
   "outputs": [],
   "source": [
    "def display_svgs(svgs):\n",
    "    no_wrap_div = '<div style=\"white-space: nowrap\">' + ''.join(svgs) + '</div>'\n",
    "    display(HTML(no_wrap_div))"
   ]
  },
  {
   "cell_type": "code",
   "execution_count": 28,
   "metadata": {},
   "outputs": [],
   "source": [
    "SVG_SCALE=0.6"
   ]
  },
  {
   "cell_type": "code",
   "execution_count": 29,
   "metadata": {},
   "outputs": [],
   "source": [
    "def display_attn(scenario, attn, agent_id, name=None):\n",
    "    attn = attn.flatten().detach().numpy()\n",
    "    if name is not None:\n",
    "        print(\"{}: {}\".format(name, attn))\n",
    "    display_svgs([DialogLogger._scenario_to_svg(scenario, scale=SVG_SCALE)[agent_id], DialogLogger._attention_to_svg(scenario, agent_id, attn, scale=SVG_SCALE)])"
   ]
  },
  {
   "cell_type": "code",
   "execution_count": 30,
   "metadata": {},
   "outputs": [],
   "source": [
    "# training emulation"
   ]
  },
  {
   "cell_type": "code",
   "execution_count": 31,
   "metadata": {},
   "outputs": [
    {
     "name": "stderr",
     "output_type": "stream",
     "text": [
      "100%|██████████████████████████████████████| 8304/8304 [00:13<00:00, 631.11it/s]\n"
     ]
    }
   ],
   "source": [
    "trainset, trainset_stats = corpus.train_dataset(bsz=1)"
   ]
  },
  {
   "cell_type": "code",
   "execution_count": 32,
   "metadata": {},
   "outputs": [
    {
     "data": {
      "text/plain": [
       "True"
      ]
     },
     "execution_count": 32,
     "metadata": {},
     "output_type": "execute_result"
    }
   ],
   "source": [
    "trainset[0].scenario_ids[0] in train_scenarios"
   ]
  },
  {
   "cell_type": "code",
   "execution_count": 33,
   "metadata": {},
   "outputs": [],
   "source": [
    "# ctx: this player's dots\n",
    "# inpt / tgt: dialogue word indices (tgt are shifted by 1)\n",
    "# ref_inpt"
   ]
  },
  {
   "cell_type": "code",
   "execution_count": 34,
   "metadata": {},
   "outputs": [
    {
     "name": "stdout",
     "output_type": "stream",
     "text": [
      "found it\n"
     ]
    }
   ],
   "source": [
    "for ix in range(len(trainset)):\n",
    "#     ctx, inpts, tgts, ref_inpts, ref_tgts, sel_tgt, \\\n",
    "#     [scenario_id], real_ids, agents, chat_ids, sel_idxs, \\\n",
    "#     lens, rev_idxs, hid_idxs, all_num_markables = trainset[ix]\n",
    "    \n",
    "    ctx, inpts, tgts, ref_inpts, ref_tgts, sel_tgt, \\\n",
    "    [scenario_id], real_ids, partner_real_ids, agents, chat_ids, sel_idxs, \\\n",
    "    lens, rev_idxs, hid_idxs, num_markables, \\\n",
    "    is_self, partner_ref_inpts, partner_ref_tgts_our_view, all_partner_num_markables,\\\n",
    "    ref_disagreements, partner_ref_disagreements = trainset[ix]\n",
    "\n",
    "    if 'C_d0de3d0144df405e998ae718539ff9a4' in chat_ids:\n",
    "#     if scenario_id == 'S_UoujG1GG6KscmnbN':\n",
    "        print(\"found it\")\n",
    "        scenario = train_scenarios[scenario_id]\n",
    "        break"
   ]
  },
  {
   "cell_type": "code",
   "execution_count": 35,
   "metadata": {},
   "outputs": [
    {
     "data": {
      "text/plain": [
       "dict_keys(['basic', 'encoder-filtered-shared', 'encoder-filtered-separate'])"
      ]
     },
     "execution_count": 35,
     "metadata": {},
     "output_type": "execute_result"
    }
   ],
   "source": [
    "models.keys()"
   ]
  },
  {
   "cell_type": "code",
   "execution_count": 36,
   "metadata": {},
   "outputs": [],
   "source": [
    "model = models['encoder-filtered-separate']"
   ]
  },
  {
   "cell_type": "code",
   "execution_count": 37,
   "metadata": {},
   "outputs": [],
   "source": [
    "alice = RnnAgent(model, args)\n",
    "bob = RnnAgent(model, args)"
   ]
  },
  {
   "cell_type": "code",
   "execution_count": 59,
   "metadata": {
    "scrolled": false
   },
   "outputs": [],
   "source": [
    "def force_contexts_and_mentions(index, datasplit=validset, samples=10, sample_temperature=0.25, argmax_temperature=0.005):\n",
    "    ctx, inpts, tgts, ref_inpts, ref_tgts, sel_tgt, \\\n",
    "    [scenario_id], real_ids, partner_real_ids, agents, chat_ids, sel_idxs, \\\n",
    "    lens, rev_idxs, hid_idxs, num_markables, \\\n",
    "    is_self, partner_ref_inpts, partner_ref_tgts_our_view, all_partner_num_markables,\\\n",
    "    ref_disagreements, partner_ref_disagreements = datasplit[index]\n",
    "    \n",
    "    scenario = all_scenarios[scenario_id]\n",
    "    agent = alice\n",
    "    agent.feed_context(ctx.flatten())\n",
    "    agent.real_ids = real_ids\n",
    "    agent.agent_id = agents[0]\n",
    "\n",
    "    writer = alice\n",
    "    conv = []\n",
    "    speaker = []\n",
    "    words_left = 5000\n",
    "\n",
    "    sentence_ix = 0\n",
    "\n",
    "    assert len(inpts) == len(tgts)\n",
    "\n",
    "    while sentence_ix < len(inpts):\n",
    "        words_og = [corpus.word_dict.idx2word[ix] for ix in inpts[sentence_ix].flatten().numpy()]\n",
    "\n",
    "        if ref_inpts[sentence_ix] is not None:\n",
    "            dots_mentioned = (ref_tgts[sentence_ix].sum(dim=1) > 0)\n",
    "            dots_mentioned_per_ref = ref_tgts[sentence_ix]\n",
    "            this_num_markables = num_markables[sentence_ix]\n",
    "    #         display_attn(scenario, dots_mentioned.float(), writer.agent_id, name='dots_mentioned')\n",
    "            for mention_ix in range(dots_mentioned_per_ref.size(1)):\n",
    "                display_attn(scenario, dots_mentioned_per_ref[:,mention_ix].float(), writer.agent_id, name=f'dots_mentioned_{mention_ix}')\n",
    "        else:\n",
    "            dots_mentioned = torch.zeros(1, 7).bool()\n",
    "            dots_mentioned_per_ref = torch.zeros(1, 0, 7).bool()\n",
    "            this_num_markables = torch.LongTensor([0])\n",
    "\n",
    "        if is_self[sentence_ix]:\n",
    "            for sample_ix in range(samples):\n",
    "                pred_outs, _, _, _, extra = writer.model.write(\n",
    "                    writer.ctx, writer.ctx_differences, writer.ctx_h, writer.reader_and_writer_lang_h, \n",
    "                    words_left, sample_temperature,\n",
    "                    dots_mentioned=dots_mentioned,\n",
    "                    dots_mentioned_per_ref=dots_mentioned_per_ref,\n",
    "                    num_markables=this_num_markables\n",
    "                )\n",
    "                print('sample {}\\t{}'.format(sample_ix, ' '.join(writer._decode(pred_outs, writer.model.word_dict))))\n",
    "            pred_outs, _, _, _, extra = writer.model.write(\n",
    "                writer.ctx, writer.ctx_differences, writer.ctx_h, writer.reader_and_writer_lang_h, \n",
    "                words_left, argmax_temperature,\n",
    "                dots_mentioned=dots_mentioned,\n",
    "                dots_mentioned_per_ref=dots_mentioned_per_ref,\n",
    "                num_markables=this_num_markables\n",
    "            )\n",
    "            print('argmax\\t{}'.format(' '.join(writer._decode(pred_outs, writer.model.word_dict))))\n",
    "    #         print(' '.join(words_og))\n",
    "\n",
    "            out = writer.write(\n",
    "                max_words=words_left,\n",
    "                force_words=[words_og],\n",
    "                start_token=words_og[0],\n",
    "                dots_mentioned=dots_mentioned,\n",
    "                dots_mentioned_per_ref=dots_mentioned_per_ref,\n",
    "                num_markables=this_num_markables,\n",
    "            )\n",
    "\n",
    "    #         if writer.extras[-1]['feed_ctx_attn_prob'] is not None:\n",
    "    #             display_attn(scenario, writer.extras[-1]['feed_ctx_attn_prob'], writer.agent_id, name='feed attention')\n",
    "\n",
    "    #         if 'word_ctx_attn_prob_mean' in writer.extras[-1]:\n",
    "    #             display_attn(scenario, writer.extras[-1]['word_ctx_attn_prob_mean'], writer.agent_id, name='word attention mean')\n",
    "\n",
    "    #         for ix, ix_attn in enumerate(writer.extras[-1]['word_ctx_attn_probs']):\n",
    "    #             display_attn(scenario, ix_attn, writer.agent_id, name='t {}: {}'.format(ix, out[ix]))\n",
    "\n",
    "        else:\n",
    "            out = words_og\n",
    "            writer.read(words_og,\n",
    "                        dots_mentioned=dots_mentioned,\n",
    "                        dots_mentioned_per_ref=dots_mentioned_per_ref,\n",
    "                        num_markables=this_num_markables)\n",
    "\n",
    "        print('human\\t{}'.format(' '.join(out)))\n",
    "        print()\n",
    "        print('-'*40)\n",
    "        print()\n",
    "        words_left -= len(out)\n",
    "        conv.append(out)\n",
    "        if is_selection(out) or words_left <= 1:\n",
    "            break\n",
    "        sentence_ix += 1"
   ]
  },
  {
   "cell_type": "code",
   "execution_count": 60,
   "metadata": {
    "scrolled": false
   },
   "outputs": [
    {
     "name": "stdout",
     "output_type": "stream",
     "text": [
      "dots_mentioned_0: [1. 0. 0. 1. 1. 0. 0.]\n"
     ]
    },
    {
     "data": {
      "text/html": [
       "<div style=\"white-space: nowrap\"><svg viewbox='0 0 430 430' width=\"258\" height=\"258\" id=\"agent_1\"><circle cx=\"215\" cy=\"215\" r=\"205\" fill=\"none\" stroke=\"black\" stroke-width=\"2\" stroke-dasharray=\"3,3\"/><circle cx=\"310\" cy=\"244\" r=\"12\" fill=\"rgb(117,117,117)\"/><circle cx=\"262\" cy=\"389\" r=\"8\" fill=\"rgb(185,185,185)\"/><circle cx=\"193\" cy=\"246\" r=\"8\" fill=\"rgb(199,199,199)\"/><circle cx=\"316\" cy=\"167\" r=\"10\" fill=\"rgb(109,109,109)\"/><circle cx=\"340\" cy=\"223\" r=\"12\" fill=\"rgb(160,160,160)\"/><circle cx=\"95\" cy=\"107\" r=\"13\" fill=\"rgb(67,67,67)\"/><circle cx=\"407\" cy=\"229\" r=\"11\" fill=\"rgb(193,193,193)\"/></svg><svg viewBox='0 0 430 430' id=\"svg\" width=\"258\" height=\"258\"><circle cx=\"215\" cy=\"215\" r=\"205\" fill=\"none\" stroke=\"black\" stroke-width=\"2\" stroke-dasharray=\"3,3\"/> <circle cx=\"310\" cy=\"244\" r=\"12\" fill=\"rgb(255,0,0)\" class=\"agent_1_3\"/><circle cx=\"262\" cy=\"389\" r=\"8\" fill=\"rgb(255,255,255)\" class=\"agent_1_24\"/><circle cx=\"193\" cy=\"246\" r=\"8\" fill=\"rgb(255,255,255)\" class=\"agent_1_34\"/><circle cx=\"316\" cy=\"167\" r=\"10\" fill=\"rgb(255,0,0)\" class=\"agent_1_37\"/><circle cx=\"340\" cy=\"223\" r=\"12\" fill=\"rgb(255,0,0)\" class=\"agent_1_40\"/><circle cx=\"95\" cy=\"107\" r=\"13\" fill=\"rgb(255,255,255)\" class=\"agent_1_66\"/><circle cx=\"407\" cy=\"229\" r=\"11\" fill=\"rgb(255,255,255)\" class=\"agent_1_79\"/></svg></div>"
      ],
      "text/plain": [
       "<IPython.core.display.HTML object>"
      ]
     },
     "metadata": {},
     "output_type": "display_data"
    },
    {
     "name": "stdout",
     "output_type": "stream",
     "text": [
      "dots_mentioned_1: [1. 0. 0. 1. 0. 0. 0.]\n"
     ]
    },
    {
     "data": {
      "text/html": [
       "<div style=\"white-space: nowrap\"><svg viewbox='0 0 430 430' width=\"258\" height=\"258\" id=\"agent_1\"><circle cx=\"215\" cy=\"215\" r=\"205\" fill=\"none\" stroke=\"black\" stroke-width=\"2\" stroke-dasharray=\"3,3\"/><circle cx=\"310\" cy=\"244\" r=\"12\" fill=\"rgb(117,117,117)\"/><circle cx=\"262\" cy=\"389\" r=\"8\" fill=\"rgb(185,185,185)\"/><circle cx=\"193\" cy=\"246\" r=\"8\" fill=\"rgb(199,199,199)\"/><circle cx=\"316\" cy=\"167\" r=\"10\" fill=\"rgb(109,109,109)\"/><circle cx=\"340\" cy=\"223\" r=\"12\" fill=\"rgb(160,160,160)\"/><circle cx=\"95\" cy=\"107\" r=\"13\" fill=\"rgb(67,67,67)\"/><circle cx=\"407\" cy=\"229\" r=\"11\" fill=\"rgb(193,193,193)\"/></svg><svg viewBox='0 0 430 430' id=\"svg\" width=\"258\" height=\"258\"><circle cx=\"215\" cy=\"215\" r=\"205\" fill=\"none\" stroke=\"black\" stroke-width=\"2\" stroke-dasharray=\"3,3\"/> <circle cx=\"310\" cy=\"244\" r=\"12\" fill=\"rgb(255,0,0)\" class=\"agent_1_3\"/><circle cx=\"262\" cy=\"389\" r=\"8\" fill=\"rgb(255,255,255)\" class=\"agent_1_24\"/><circle cx=\"193\" cy=\"246\" r=\"8\" fill=\"rgb(255,255,255)\" class=\"agent_1_34\"/><circle cx=\"316\" cy=\"167\" r=\"10\" fill=\"rgb(255,0,0)\" class=\"agent_1_37\"/><circle cx=\"340\" cy=\"223\" r=\"12\" fill=\"rgb(255,255,255)\" class=\"agent_1_40\"/><circle cx=\"95\" cy=\"107\" r=\"13\" fill=\"rgb(255,255,255)\" class=\"agent_1_66\"/><circle cx=\"407\" cy=\"229\" r=\"11\" fill=\"rgb(255,255,255)\" class=\"agent_1_79\"/></svg></div>"
      ],
      "text/plain": [
       "<IPython.core.display.HTML object>"
      ]
     },
     "metadata": {},
     "output_type": "display_data"
    },
    {
     "name": "stdout",
     "output_type": "stream",
     "text": [
      "dots_mentioned_2: [0. 0. 0. 0. 1. 0. 0.]\n"
     ]
    },
    {
     "data": {
      "text/html": [
       "<div style=\"white-space: nowrap\"><svg viewbox='0 0 430 430' width=\"258\" height=\"258\" id=\"agent_1\"><circle cx=\"215\" cy=\"215\" r=\"205\" fill=\"none\" stroke=\"black\" stroke-width=\"2\" stroke-dasharray=\"3,3\"/><circle cx=\"310\" cy=\"244\" r=\"12\" fill=\"rgb(117,117,117)\"/><circle cx=\"262\" cy=\"389\" r=\"8\" fill=\"rgb(185,185,185)\"/><circle cx=\"193\" cy=\"246\" r=\"8\" fill=\"rgb(199,199,199)\"/><circle cx=\"316\" cy=\"167\" r=\"10\" fill=\"rgb(109,109,109)\"/><circle cx=\"340\" cy=\"223\" r=\"12\" fill=\"rgb(160,160,160)\"/><circle cx=\"95\" cy=\"107\" r=\"13\" fill=\"rgb(67,67,67)\"/><circle cx=\"407\" cy=\"229\" r=\"11\" fill=\"rgb(193,193,193)\"/></svg><svg viewBox='0 0 430 430' id=\"svg\" width=\"258\" height=\"258\"><circle cx=\"215\" cy=\"215\" r=\"205\" fill=\"none\" stroke=\"black\" stroke-width=\"2\" stroke-dasharray=\"3,3\"/> <circle cx=\"310\" cy=\"244\" r=\"12\" fill=\"rgb(255,255,255)\" class=\"agent_1_3\"/><circle cx=\"262\" cy=\"389\" r=\"8\" fill=\"rgb(255,255,255)\" class=\"agent_1_24\"/><circle cx=\"193\" cy=\"246\" r=\"8\" fill=\"rgb(255,255,255)\" class=\"agent_1_34\"/><circle cx=\"316\" cy=\"167\" r=\"10\" fill=\"rgb(255,255,255)\" class=\"agent_1_37\"/><circle cx=\"340\" cy=\"223\" r=\"12\" fill=\"rgb(255,0,0)\" class=\"agent_1_40\"/><circle cx=\"95\" cy=\"107\" r=\"13\" fill=\"rgb(255,255,255)\" class=\"agent_1_66\"/><circle cx=\"407\" cy=\"229\" r=\"11\" fill=\"rgb(255,255,255)\" class=\"agent_1_79\"/></svg></div>"
      ],
      "text/plain": [
       "<IPython.core.display.HTML object>"
      ]
     },
     "metadata": {},
     "output_type": "display_data"
    },
    {
     "name": "stdout",
     "output_type": "stream",
     "text": [
      "sample 0\ti have a cluster of 3 dots , two medium gray and one dark grey <eos>\n",
      "sample 1\ti have a cluster of three dots , two are dark grey and one is light gray <eos>\n",
      "sample 2\ti have a cluster of 3 dots . two are dark grey and one is light grey <eos>\n",
      "sample 3\ti have a cluster of three dots . two are darker and one is lighter <eos>\n",
      "sample 4\ti have a cluster of three dots , 2 are same size and one is lighter <eos>\n",
      "sample 5\ti have a cluster of 3 dots , two are black and one light gray <eos>\n",
      "sample 6\ti have a cluster of three dots , the top one is darker than the other two <eos>\n",
      "sample 7\ti have a cluster of 3 dots , two are dark grey and one is light grey <eos>\n",
      "sample 8\ti have a cluster of three dots . two are similar sized and the one on the left is darker <eos>\n",
      "sample 9\ti have a triangle of two medium sized dots close together . one is smaller and darker than the other <eos>\n",
      "argmax\ti have a cluster of 3 dots , two are dark grey and one is light grey <eos>\n",
      "human\ti have a cluster of dots almost in a triangle 2 large dark and one large medium dark <eos>\n",
      "\n",
      "----------------------------------------\n",
      "\n",
      "human\tTHEM: dark medium dot on 6 oclock and below two larger dots one light gray and the other gray very close to 6 o'clock <eos>\n",
      "\n",
      "----------------------------------------\n",
      "\n",
      "dots_mentioned_0: [1. 0. 0. 1. 1. 0. 0.]\n"
     ]
    },
    {
     "data": {
      "text/html": [
       "<div style=\"white-space: nowrap\"><svg viewbox='0 0 430 430' width=\"258\" height=\"258\" id=\"agent_1\"><circle cx=\"215\" cy=\"215\" r=\"205\" fill=\"none\" stroke=\"black\" stroke-width=\"2\" stroke-dasharray=\"3,3\"/><circle cx=\"310\" cy=\"244\" r=\"12\" fill=\"rgb(117,117,117)\"/><circle cx=\"262\" cy=\"389\" r=\"8\" fill=\"rgb(185,185,185)\"/><circle cx=\"193\" cy=\"246\" r=\"8\" fill=\"rgb(199,199,199)\"/><circle cx=\"316\" cy=\"167\" r=\"10\" fill=\"rgb(109,109,109)\"/><circle cx=\"340\" cy=\"223\" r=\"12\" fill=\"rgb(160,160,160)\"/><circle cx=\"95\" cy=\"107\" r=\"13\" fill=\"rgb(67,67,67)\"/><circle cx=\"407\" cy=\"229\" r=\"11\" fill=\"rgb(193,193,193)\"/></svg><svg viewBox='0 0 430 430' id=\"svg\" width=\"258\" height=\"258\"><circle cx=\"215\" cy=\"215\" r=\"205\" fill=\"none\" stroke=\"black\" stroke-width=\"2\" stroke-dasharray=\"3,3\"/> <circle cx=\"310\" cy=\"244\" r=\"12\" fill=\"rgb(255,0,0)\" class=\"agent_1_3\"/><circle cx=\"262\" cy=\"389\" r=\"8\" fill=\"rgb(255,255,255)\" class=\"agent_1_24\"/><circle cx=\"193\" cy=\"246\" r=\"8\" fill=\"rgb(255,255,255)\" class=\"agent_1_34\"/><circle cx=\"316\" cy=\"167\" r=\"10\" fill=\"rgb(255,0,0)\" class=\"agent_1_37\"/><circle cx=\"340\" cy=\"223\" r=\"12\" fill=\"rgb(255,0,0)\" class=\"agent_1_40\"/><circle cx=\"95\" cy=\"107\" r=\"13\" fill=\"rgb(255,255,255)\" class=\"agent_1_66\"/><circle cx=\"407\" cy=\"229\" r=\"11\" fill=\"rgb(255,255,255)\" class=\"agent_1_79\"/></svg></div>"
      ],
      "text/plain": [
       "<IPython.core.display.HTML object>"
      ]
     },
     "metadata": {},
     "output_type": "display_data"
    },
    {
     "name": "stdout",
     "output_type": "stream",
     "text": [
      "sample 0\tyes i see that <eos>\n",
      "sample 1\ti see that <eos>\n",
      "sample 2\ti have that <eos>\n",
      "sample 3\tyes i see those dots <eos>\n",
      "sample 4\ti see that <eos>\n",
      "sample 5\tyes i see that <eos>\n",
      "sample 6\tyes i have that <eos>\n",
      "sample 7\tyes i see that <eos>\n",
      "sample 8\tyes i have that <eos>\n",
      "sample 9\tyes i see that <eos>\n",
      "argmax\tyes i see that <eos>\n",
      "human\tyes i think i have that same cluster . which should we select ? <eos>\n",
      "\n",
      "----------------------------------------\n",
      "\n",
      "human\tTHEM: do you a have a medium gray a little <unk> 6 oclock very near the bottom <eos>\n",
      "\n",
      "----------------------------------------\n",
      "\n",
      "dots_mentioned_0: [1. 0. 0. 0. 0. 0. 0.]\n"
     ]
    },
    {
     "data": {
      "text/html": [
       "<div style=\"white-space: nowrap\"><svg viewbox='0 0 430 430' width=\"258\" height=\"258\" id=\"agent_1\"><circle cx=\"215\" cy=\"215\" r=\"205\" fill=\"none\" stroke=\"black\" stroke-width=\"2\" stroke-dasharray=\"3,3\"/><circle cx=\"310\" cy=\"244\" r=\"12\" fill=\"rgb(117,117,117)\"/><circle cx=\"262\" cy=\"389\" r=\"8\" fill=\"rgb(185,185,185)\"/><circle cx=\"193\" cy=\"246\" r=\"8\" fill=\"rgb(199,199,199)\"/><circle cx=\"316\" cy=\"167\" r=\"10\" fill=\"rgb(109,109,109)\"/><circle cx=\"340\" cy=\"223\" r=\"12\" fill=\"rgb(160,160,160)\"/><circle cx=\"95\" cy=\"107\" r=\"13\" fill=\"rgb(67,67,67)\"/><circle cx=\"407\" cy=\"229\" r=\"11\" fill=\"rgb(193,193,193)\"/></svg><svg viewBox='0 0 430 430' id=\"svg\" width=\"258\" height=\"258\"><circle cx=\"215\" cy=\"215\" r=\"205\" fill=\"none\" stroke=\"black\" stroke-width=\"2\" stroke-dasharray=\"3,3\"/> <circle cx=\"310\" cy=\"244\" r=\"12\" fill=\"rgb(255,0,0)\" class=\"agent_1_3\"/><circle cx=\"262\" cy=\"389\" r=\"8\" fill=\"rgb(255,255,255)\" class=\"agent_1_24\"/><circle cx=\"193\" cy=\"246\" r=\"8\" fill=\"rgb(255,255,255)\" class=\"agent_1_34\"/><circle cx=\"316\" cy=\"167\" r=\"10\" fill=\"rgb(255,255,255)\" class=\"agent_1_37\"/><circle cx=\"340\" cy=\"223\" r=\"12\" fill=\"rgb(255,255,255)\" class=\"agent_1_40\"/><circle cx=\"95\" cy=\"107\" r=\"13\" fill=\"rgb(255,255,255)\" class=\"agent_1_66\"/><circle cx=\"407\" cy=\"229\" r=\"11\" fill=\"rgb(255,255,255)\" class=\"agent_1_79\"/></svg></div>"
      ],
      "text/plain": [
       "<IPython.core.display.HTML object>"
      ]
     },
     "metadata": {},
     "output_type": "display_data"
    },
    {
     "name": "stdout",
     "output_type": "stream",
     "text": [
      "dots_mentioned_1: [0. 0. 0. 0. 1. 0. 0.]\n"
     ]
    },
    {
     "data": {
      "text/html": [
       "<div style=\"white-space: nowrap\"><svg viewbox='0 0 430 430' width=\"258\" height=\"258\" id=\"agent_1\"><circle cx=\"215\" cy=\"215\" r=\"205\" fill=\"none\" stroke=\"black\" stroke-width=\"2\" stroke-dasharray=\"3,3\"/><circle cx=\"310\" cy=\"244\" r=\"12\" fill=\"rgb(117,117,117)\"/><circle cx=\"262\" cy=\"389\" r=\"8\" fill=\"rgb(185,185,185)\"/><circle cx=\"193\" cy=\"246\" r=\"8\" fill=\"rgb(199,199,199)\"/><circle cx=\"316\" cy=\"167\" r=\"10\" fill=\"rgb(109,109,109)\"/><circle cx=\"340\" cy=\"223\" r=\"12\" fill=\"rgb(160,160,160)\"/><circle cx=\"95\" cy=\"107\" r=\"13\" fill=\"rgb(67,67,67)\"/><circle cx=\"407\" cy=\"229\" r=\"11\" fill=\"rgb(193,193,193)\"/></svg><svg viewBox='0 0 430 430' id=\"svg\" width=\"258\" height=\"258\"><circle cx=\"215\" cy=\"215\" r=\"205\" fill=\"none\" stroke=\"black\" stroke-width=\"2\" stroke-dasharray=\"3,3\"/> <circle cx=\"310\" cy=\"244\" r=\"12\" fill=\"rgb(255,255,255)\" class=\"agent_1_3\"/><circle cx=\"262\" cy=\"389\" r=\"8\" fill=\"rgb(255,255,255)\" class=\"agent_1_24\"/><circle cx=\"193\" cy=\"246\" r=\"8\" fill=\"rgb(255,255,255)\" class=\"agent_1_34\"/><circle cx=\"316\" cy=\"167\" r=\"10\" fill=\"rgb(255,255,255)\" class=\"agent_1_37\"/><circle cx=\"340\" cy=\"223\" r=\"12\" fill=\"rgb(255,0,0)\" class=\"agent_1_40\"/><circle cx=\"95\" cy=\"107\" r=\"13\" fill=\"rgb(255,255,255)\" class=\"agent_1_66\"/><circle cx=\"407\" cy=\"229\" r=\"11\" fill=\"rgb(255,255,255)\" class=\"agent_1_79\"/></svg></div>"
      ],
      "text/plain": [
       "<IPython.core.display.HTML object>"
      ]
     },
     "metadata": {},
     "output_type": "display_data"
    },
    {
     "name": "stdout",
     "output_type": "stream",
     "text": [
      "dots_mentioned_2: [1. 0. 0. 1. 1. 0. 0.]\n"
     ]
    },
    {
     "data": {
      "text/html": [
       "<div style=\"white-space: nowrap\"><svg viewbox='0 0 430 430' width=\"258\" height=\"258\" id=\"agent_1\"><circle cx=\"215\" cy=\"215\" r=\"205\" fill=\"none\" stroke=\"black\" stroke-width=\"2\" stroke-dasharray=\"3,3\"/><circle cx=\"310\" cy=\"244\" r=\"12\" fill=\"rgb(117,117,117)\"/><circle cx=\"262\" cy=\"389\" r=\"8\" fill=\"rgb(185,185,185)\"/><circle cx=\"193\" cy=\"246\" r=\"8\" fill=\"rgb(199,199,199)\"/><circle cx=\"316\" cy=\"167\" r=\"10\" fill=\"rgb(109,109,109)\"/><circle cx=\"340\" cy=\"223\" r=\"12\" fill=\"rgb(160,160,160)\"/><circle cx=\"95\" cy=\"107\" r=\"13\" fill=\"rgb(67,67,67)\"/><circle cx=\"407\" cy=\"229\" r=\"11\" fill=\"rgb(193,193,193)\"/></svg><svg viewBox='0 0 430 430' id=\"svg\" width=\"258\" height=\"258\"><circle cx=\"215\" cy=\"215\" r=\"205\" fill=\"none\" stroke=\"black\" stroke-width=\"2\" stroke-dasharray=\"3,3\"/> <circle cx=\"310\" cy=\"244\" r=\"12\" fill=\"rgb(255,0,0)\" class=\"agent_1_3\"/><circle cx=\"262\" cy=\"389\" r=\"8\" fill=\"rgb(255,255,255)\" class=\"agent_1_24\"/><circle cx=\"193\" cy=\"246\" r=\"8\" fill=\"rgb(255,255,255)\" class=\"agent_1_34\"/><circle cx=\"316\" cy=\"167\" r=\"10\" fill=\"rgb(255,0,0)\" class=\"agent_1_37\"/><circle cx=\"340\" cy=\"223\" r=\"12\" fill=\"rgb(255,0,0)\" class=\"agent_1_40\"/><circle cx=\"95\" cy=\"107\" r=\"13\" fill=\"rgb(255,255,255)\" class=\"agent_1_66\"/><circle cx=\"407\" cy=\"229\" r=\"11\" fill=\"rgb(255,255,255)\" class=\"agent_1_79\"/></svg></div>"
      ],
      "text/plain": [
       "<IPython.core.display.HTML object>"
      ]
     },
     "metadata": {},
     "output_type": "display_data"
    },
    {
     "name": "stdout",
     "output_type": "stream",
     "text": [
      "sample 0\tyes . it is on the bottom of the line , but there is a dark gray dot to the left of the other two <eos>\n",
      "sample 1\ti think i have the same one . let 's click the large light grey one . the two dots are the same size . <eos>\n",
      "sample 2\ti have a large dark gray dot in the middle of the circle , there is a smaller light gray dot to the right of them <eos>\n",
      "sample 3\tyes , i see that . click the light gray one of the triangle <selection>\n",
      "sample 4\tyes , i see that , but i have two medium gray dots . the one on the right is slightly larger and slightly lighter <eos>\n",
      "sample 5\tyes , i have that , but i have a medium grey dot , and a large grey dot <eos>\n",
      "sample 6\tyes , i see the same thing . is the smaller one to the right of the other two ? <eos>\n",
      "sample 7\tyes , i think i see that . is there a dark grey dot below them ? <eos>\n",
      "sample 8\tyes , i see the same thing . let 's pick the light grey one in the middle of the triangle <selection>\n",
      "sample 9\ti have the same one , let 's pick the large light one on the left of the two dots <selection>\n",
      "argmax\tyes , i have that . let 's pick the large grey dot . the other two dots are the same size <eos>\n",
      "human\ti have a medium grey and a lighter grey just above and to the right ? my <unk> would be <unk> somewhat but the <unk> would be the same <eos>\n",
      "\n",
      "----------------------------------------\n",
      "\n",
      "human\tTHEM: are they the same size <eos>\n",
      "\n",
      "----------------------------------------\n",
      "\n",
      "dots_mentioned_0: [1. 0. 0. 0. 0. 0. 0.]\n"
     ]
    },
    {
     "data": {
      "text/html": [
       "<div style=\"white-space: nowrap\"><svg viewbox='0 0 430 430' width=\"258\" height=\"258\" id=\"agent_1\"><circle cx=\"215\" cy=\"215\" r=\"205\" fill=\"none\" stroke=\"black\" stroke-width=\"2\" stroke-dasharray=\"3,3\"/><circle cx=\"310\" cy=\"244\" r=\"12\" fill=\"rgb(117,117,117)\"/><circle cx=\"262\" cy=\"389\" r=\"8\" fill=\"rgb(185,185,185)\"/><circle cx=\"193\" cy=\"246\" r=\"8\" fill=\"rgb(199,199,199)\"/><circle cx=\"316\" cy=\"167\" r=\"10\" fill=\"rgb(109,109,109)\"/><circle cx=\"340\" cy=\"223\" r=\"12\" fill=\"rgb(160,160,160)\"/><circle cx=\"95\" cy=\"107\" r=\"13\" fill=\"rgb(67,67,67)\"/><circle cx=\"407\" cy=\"229\" r=\"11\" fill=\"rgb(193,193,193)\"/></svg><svg viewBox='0 0 430 430' id=\"svg\" width=\"258\" height=\"258\"><circle cx=\"215\" cy=\"215\" r=\"205\" fill=\"none\" stroke=\"black\" stroke-width=\"2\" stroke-dasharray=\"3,3\"/> <circle cx=\"310\" cy=\"244\" r=\"12\" fill=\"rgb(255,0,0)\" class=\"agent_1_3\"/><circle cx=\"262\" cy=\"389\" r=\"8\" fill=\"rgb(255,255,255)\" class=\"agent_1_24\"/><circle cx=\"193\" cy=\"246\" r=\"8\" fill=\"rgb(255,255,255)\" class=\"agent_1_34\"/><circle cx=\"316\" cy=\"167\" r=\"10\" fill=\"rgb(255,255,255)\" class=\"agent_1_37\"/><circle cx=\"340\" cy=\"223\" r=\"12\" fill=\"rgb(255,255,255)\" class=\"agent_1_40\"/><circle cx=\"95\" cy=\"107\" r=\"13\" fill=\"rgb(255,255,255)\" class=\"agent_1_66\"/><circle cx=\"407\" cy=\"229\" r=\"11\" fill=\"rgb(255,255,255)\" class=\"agent_1_79\"/></svg></div>"
      ],
      "text/plain": [
       "<IPython.core.display.HTML object>"
      ]
     },
     "metadata": {},
     "output_type": "display_data"
    },
    {
     "name": "stdout",
     "output_type": "stream",
     "text": [
      "dots_mentioned_1: [1. 0. 0. 0. 0. 0. 0.]\n"
     ]
    },
    {
     "data": {
      "text/html": [
       "<div style=\"white-space: nowrap\"><svg viewbox='0 0 430 430' width=\"258\" height=\"258\" id=\"agent_1\"><circle cx=\"215\" cy=\"215\" r=\"205\" fill=\"none\" stroke=\"black\" stroke-width=\"2\" stroke-dasharray=\"3,3\"/><circle cx=\"310\" cy=\"244\" r=\"12\" fill=\"rgb(117,117,117)\"/><circle cx=\"262\" cy=\"389\" r=\"8\" fill=\"rgb(185,185,185)\"/><circle cx=\"193\" cy=\"246\" r=\"8\" fill=\"rgb(199,199,199)\"/><circle cx=\"316\" cy=\"167\" r=\"10\" fill=\"rgb(109,109,109)\"/><circle cx=\"340\" cy=\"223\" r=\"12\" fill=\"rgb(160,160,160)\"/><circle cx=\"95\" cy=\"107\" r=\"13\" fill=\"rgb(67,67,67)\"/><circle cx=\"407\" cy=\"229\" r=\"11\" fill=\"rgb(193,193,193)\"/></svg><svg viewBox='0 0 430 430' id=\"svg\" width=\"258\" height=\"258\"><circle cx=\"215\" cy=\"215\" r=\"205\" fill=\"none\" stroke=\"black\" stroke-width=\"2\" stroke-dasharray=\"3,3\"/> <circle cx=\"310\" cy=\"244\" r=\"12\" fill=\"rgb(255,0,0)\" class=\"agent_1_3\"/><circle cx=\"262\" cy=\"389\" r=\"8\" fill=\"rgb(255,255,255)\" class=\"agent_1_24\"/><circle cx=\"193\" cy=\"246\" r=\"8\" fill=\"rgb(255,255,255)\" class=\"agent_1_34\"/><circle cx=\"316\" cy=\"167\" r=\"10\" fill=\"rgb(255,255,255)\" class=\"agent_1_37\"/><circle cx=\"340\" cy=\"223\" r=\"12\" fill=\"rgb(255,255,255)\" class=\"agent_1_40\"/><circle cx=\"95\" cy=\"107\" r=\"13\" fill=\"rgb(255,255,255)\" class=\"agent_1_66\"/><circle cx=\"407\" cy=\"229\" r=\"11\" fill=\"rgb(255,255,255)\" class=\"agent_1_79\"/></svg></div>"
      ],
      "text/plain": [
       "<IPython.core.display.HTML object>"
      ]
     },
     "metadata": {},
     "output_type": "display_data"
    },
    {
     "name": "stdout",
     "output_type": "stream",
     "text": [
      "sample 0\tyes , let 's pick the top one . the black one ? <eos>\n",
      "sample 1\tyes , the one on the right is slightly darker , let 's pick that one . <selection>\n",
      "sample 2\tyes , the one on the right is the darkest . let 's pick that one . <eos>\n",
      "sample 3\tyes , the one on the left is slightly darker . let 's pick that one . <selection>\n",
      "sample 4\tyes , the one on the left is darker and slightly above the bottom ? if so click that one ! <selection>\n",
      "sample 5\tyes , the one on the right is slightly darker , let 's choose that one <eos>\n",
      "sample 6\tyes , let 's pick the top one . the darkest one ? <eos>\n",
      "sample 7\tyes , the one on the left is slightly darker ? let 's pick that one . <eos>\n",
      "sample 8\tyes , the one on the right is slightly larger and darker ? let 's pick that one . <selection>\n",
      "sample 9\tyes , the one on the right is light gray . let 's pick that one <eos>\n",
      "argmax\tyes , the one on the right is slightly darker . let 's pick that one . <selection>\n",
      "human\tyes same size . lets click on the bottom of the darker one ? <selection>\n",
      "\n",
      "----------------------------------------\n",
      "\n"
     ]
    }
   ],
   "source": [
    "force_contexts_and_mentions(1)"
   ]
  },
  {
   "cell_type": "code",
   "execution_count": 62,
   "metadata": {
    "scrolled": false
   },
   "outputs": [
    {
     "name": "stdout",
     "output_type": "stream",
     "text": [
      "dots_mentioned_0: [0. 1. 0. 0. 0. 0. 0.]\n"
     ]
    },
    {
     "data": {
      "text/html": [
       "<div style=\"white-space: nowrap\"><svg viewbox='0 0 430 430' width=\"258\" height=\"258\" id=\"agent_0\"><circle cx=\"215\" cy=\"215\" r=\"205\" fill=\"none\" stroke=\"black\" stroke-width=\"2\" stroke-dasharray=\"3,3\"/><circle cx=\"177\" cy=\"250\" r=\"8\" fill=\"rgb(132,132,132)\"/><circle cx=\"45\" cy=\"240\" r=\"13\" fill=\"rgb(65,65,65)\"/><circle cx=\"159\" cy=\"50\" r=\"9\" fill=\"rgb(154,154,154)\"/><circle cx=\"248\" cy=\"126\" r=\"8\" fill=\"rgb(105,105,105)\"/><circle cx=\"98\" cy=\"284\" r=\"10\" fill=\"rgb(71,71,71)\"/><circle cx=\"332\" cy=\"56\" r=\"12\" fill=\"rgb(71,71,71)\"/><circle cx=\"53\" cy=\"203\" r=\"10\" fill=\"rgb(122,122,122)\"/></svg><svg viewBox='0 0 430 430' id=\"svg\" width=\"258\" height=\"258\"><circle cx=\"215\" cy=\"215\" r=\"205\" fill=\"none\" stroke=\"black\" stroke-width=\"2\" stroke-dasharray=\"3,3\"/> <circle cx=\"177\" cy=\"250\" r=\"8\" fill=\"rgb(255,255,255)\" class=\"agent_0_2\"/><circle cx=\"45\" cy=\"240\" r=\"13\" fill=\"rgb(255,0,0)\" class=\"agent_0_8\"/><circle cx=\"159\" cy=\"50\" r=\"9\" fill=\"rgb(255,255,255)\" class=\"agent_0_16\"/><circle cx=\"248\" cy=\"126\" r=\"8\" fill=\"rgb(255,255,255)\" class=\"agent_0_41\"/><circle cx=\"98\" cy=\"284\" r=\"10\" fill=\"rgb(255,255,255)\" class=\"agent_0_45\"/><circle cx=\"332\" cy=\"56\" r=\"12\" fill=\"rgb(255,255,255)\" class=\"agent_0_68\"/><circle cx=\"53\" cy=\"203\" r=\"10\" fill=\"rgb(255,255,255)\" class=\"agent_0_72\"/></svg></div>"
      ],
      "text/plain": [
       "<IPython.core.display.HTML object>"
      ]
     },
     "metadata": {},
     "output_type": "display_data"
    },
    {
     "name": "stdout",
     "output_type": "stream",
     "text": [
      "dots_mentioned_1: [0. 0. 0. 0. 0. 0. 1.]\n"
     ]
    },
    {
     "data": {
      "text/html": [
       "<div style=\"white-space: nowrap\"><svg viewbox='0 0 430 430' width=\"258\" height=\"258\" id=\"agent_0\"><circle cx=\"215\" cy=\"215\" r=\"205\" fill=\"none\" stroke=\"black\" stroke-width=\"2\" stroke-dasharray=\"3,3\"/><circle cx=\"177\" cy=\"250\" r=\"8\" fill=\"rgb(132,132,132)\"/><circle cx=\"45\" cy=\"240\" r=\"13\" fill=\"rgb(65,65,65)\"/><circle cx=\"159\" cy=\"50\" r=\"9\" fill=\"rgb(154,154,154)\"/><circle cx=\"248\" cy=\"126\" r=\"8\" fill=\"rgb(105,105,105)\"/><circle cx=\"98\" cy=\"284\" r=\"10\" fill=\"rgb(71,71,71)\"/><circle cx=\"332\" cy=\"56\" r=\"12\" fill=\"rgb(71,71,71)\"/><circle cx=\"53\" cy=\"203\" r=\"10\" fill=\"rgb(122,122,122)\"/></svg><svg viewBox='0 0 430 430' id=\"svg\" width=\"258\" height=\"258\"><circle cx=\"215\" cy=\"215\" r=\"205\" fill=\"none\" stroke=\"black\" stroke-width=\"2\" stroke-dasharray=\"3,3\"/> <circle cx=\"177\" cy=\"250\" r=\"8\" fill=\"rgb(255,255,255)\" class=\"agent_0_2\"/><circle cx=\"45\" cy=\"240\" r=\"13\" fill=\"rgb(255,255,255)\" class=\"agent_0_8\"/><circle cx=\"159\" cy=\"50\" r=\"9\" fill=\"rgb(255,255,255)\" class=\"agent_0_16\"/><circle cx=\"248\" cy=\"126\" r=\"8\" fill=\"rgb(255,255,255)\" class=\"agent_0_41\"/><circle cx=\"98\" cy=\"284\" r=\"10\" fill=\"rgb(255,255,255)\" class=\"agent_0_45\"/><circle cx=\"332\" cy=\"56\" r=\"12\" fill=\"rgb(255,255,255)\" class=\"agent_0_68\"/><circle cx=\"53\" cy=\"203\" r=\"10\" fill=\"rgb(255,0,0)\" class=\"agent_0_72\"/></svg></div>"
      ],
      "text/plain": [
       "<IPython.core.display.HTML object>"
      ]
     },
     "metadata": {},
     "output_type": "display_data"
    },
    {
     "name": "stdout",
     "output_type": "stream",
     "text": [
      "dots_mentioned_2: [0. 1. 0. 0. 0. 0. 0.]\n"
     ]
    },
    {
     "data": {
      "text/html": [
       "<div style=\"white-space: nowrap\"><svg viewbox='0 0 430 430' width=\"258\" height=\"258\" id=\"agent_0\"><circle cx=\"215\" cy=\"215\" r=\"205\" fill=\"none\" stroke=\"black\" stroke-width=\"2\" stroke-dasharray=\"3,3\"/><circle cx=\"177\" cy=\"250\" r=\"8\" fill=\"rgb(132,132,132)\"/><circle cx=\"45\" cy=\"240\" r=\"13\" fill=\"rgb(65,65,65)\"/><circle cx=\"159\" cy=\"50\" r=\"9\" fill=\"rgb(154,154,154)\"/><circle cx=\"248\" cy=\"126\" r=\"8\" fill=\"rgb(105,105,105)\"/><circle cx=\"98\" cy=\"284\" r=\"10\" fill=\"rgb(71,71,71)\"/><circle cx=\"332\" cy=\"56\" r=\"12\" fill=\"rgb(71,71,71)\"/><circle cx=\"53\" cy=\"203\" r=\"10\" fill=\"rgb(122,122,122)\"/></svg><svg viewBox='0 0 430 430' id=\"svg\" width=\"258\" height=\"258\"><circle cx=\"215\" cy=\"215\" r=\"205\" fill=\"none\" stroke=\"black\" stroke-width=\"2\" stroke-dasharray=\"3,3\"/> <circle cx=\"177\" cy=\"250\" r=\"8\" fill=\"rgb(255,255,255)\" class=\"agent_0_2\"/><circle cx=\"45\" cy=\"240\" r=\"13\" fill=\"rgb(255,0,0)\" class=\"agent_0_8\"/><circle cx=\"159\" cy=\"50\" r=\"9\" fill=\"rgb(255,255,255)\" class=\"agent_0_16\"/><circle cx=\"248\" cy=\"126\" r=\"8\" fill=\"rgb(255,255,255)\" class=\"agent_0_41\"/><circle cx=\"98\" cy=\"284\" r=\"10\" fill=\"rgb(255,255,255)\" class=\"agent_0_45\"/><circle cx=\"332\" cy=\"56\" r=\"12\" fill=\"rgb(255,255,255)\" class=\"agent_0_68\"/><circle cx=\"53\" cy=\"203\" r=\"10\" fill=\"rgb(255,255,255)\" class=\"agent_0_72\"/></svg></div>"
      ],
      "text/plain": [
       "<IPython.core.display.HTML object>"
      ]
     },
     "metadata": {},
     "output_type": "display_data"
    },
    {
     "name": "stdout",
     "output_type": "stream",
     "text": [
      "dots_mentioned_3: [0. 0. 0. 0. 1. 0. 0.]\n"
     ]
    },
    {
     "data": {
      "text/html": [
       "<div style=\"white-space: nowrap\"><svg viewbox='0 0 430 430' width=\"258\" height=\"258\" id=\"agent_0\"><circle cx=\"215\" cy=\"215\" r=\"205\" fill=\"none\" stroke=\"black\" stroke-width=\"2\" stroke-dasharray=\"3,3\"/><circle cx=\"177\" cy=\"250\" r=\"8\" fill=\"rgb(132,132,132)\"/><circle cx=\"45\" cy=\"240\" r=\"13\" fill=\"rgb(65,65,65)\"/><circle cx=\"159\" cy=\"50\" r=\"9\" fill=\"rgb(154,154,154)\"/><circle cx=\"248\" cy=\"126\" r=\"8\" fill=\"rgb(105,105,105)\"/><circle cx=\"98\" cy=\"284\" r=\"10\" fill=\"rgb(71,71,71)\"/><circle cx=\"332\" cy=\"56\" r=\"12\" fill=\"rgb(71,71,71)\"/><circle cx=\"53\" cy=\"203\" r=\"10\" fill=\"rgb(122,122,122)\"/></svg><svg viewBox='0 0 430 430' id=\"svg\" width=\"258\" height=\"258\"><circle cx=\"215\" cy=\"215\" r=\"205\" fill=\"none\" stroke=\"black\" stroke-width=\"2\" stroke-dasharray=\"3,3\"/> <circle cx=\"177\" cy=\"250\" r=\"8\" fill=\"rgb(255,255,255)\" class=\"agent_0_2\"/><circle cx=\"45\" cy=\"240\" r=\"13\" fill=\"rgb(255,255,255)\" class=\"agent_0_8\"/><circle cx=\"159\" cy=\"50\" r=\"9\" fill=\"rgb(255,255,255)\" class=\"agent_0_16\"/><circle cx=\"248\" cy=\"126\" r=\"8\" fill=\"rgb(255,255,255)\" class=\"agent_0_41\"/><circle cx=\"98\" cy=\"284\" r=\"10\" fill=\"rgb(255,0,0)\" class=\"agent_0_45\"/><circle cx=\"332\" cy=\"56\" r=\"12\" fill=\"rgb(255,255,255)\" class=\"agent_0_68\"/><circle cx=\"53\" cy=\"203\" r=\"10\" fill=\"rgb(255,255,255)\" class=\"agent_0_72\"/></svg></div>"
      ],
      "text/plain": [
       "<IPython.core.display.HTML object>"
      ]
     },
     "metadata": {},
     "output_type": "display_data"
    },
    {
     "name": "stdout",
     "output_type": "stream",
     "text": [
      "dots_mentioned_4: [0. 1. 0. 0. 0. 0. 0.]\n"
     ]
    },
    {
     "data": {
      "text/html": [
       "<div style=\"white-space: nowrap\"><svg viewbox='0 0 430 430' width=\"258\" height=\"258\" id=\"agent_0\"><circle cx=\"215\" cy=\"215\" r=\"205\" fill=\"none\" stroke=\"black\" stroke-width=\"2\" stroke-dasharray=\"3,3\"/><circle cx=\"177\" cy=\"250\" r=\"8\" fill=\"rgb(132,132,132)\"/><circle cx=\"45\" cy=\"240\" r=\"13\" fill=\"rgb(65,65,65)\"/><circle cx=\"159\" cy=\"50\" r=\"9\" fill=\"rgb(154,154,154)\"/><circle cx=\"248\" cy=\"126\" r=\"8\" fill=\"rgb(105,105,105)\"/><circle cx=\"98\" cy=\"284\" r=\"10\" fill=\"rgb(71,71,71)\"/><circle cx=\"332\" cy=\"56\" r=\"12\" fill=\"rgb(71,71,71)\"/><circle cx=\"53\" cy=\"203\" r=\"10\" fill=\"rgb(122,122,122)\"/></svg><svg viewBox='0 0 430 430' id=\"svg\" width=\"258\" height=\"258\"><circle cx=\"215\" cy=\"215\" r=\"205\" fill=\"none\" stroke=\"black\" stroke-width=\"2\" stroke-dasharray=\"3,3\"/> <circle cx=\"177\" cy=\"250\" r=\"8\" fill=\"rgb(255,255,255)\" class=\"agent_0_2\"/><circle cx=\"45\" cy=\"240\" r=\"13\" fill=\"rgb(255,0,0)\" class=\"agent_0_8\"/><circle cx=\"159\" cy=\"50\" r=\"9\" fill=\"rgb(255,255,255)\" class=\"agent_0_16\"/><circle cx=\"248\" cy=\"126\" r=\"8\" fill=\"rgb(255,255,255)\" class=\"agent_0_41\"/><circle cx=\"98\" cy=\"284\" r=\"10\" fill=\"rgb(255,255,255)\" class=\"agent_0_45\"/><circle cx=\"332\" cy=\"56\" r=\"12\" fill=\"rgb(255,255,255)\" class=\"agent_0_68\"/><circle cx=\"53\" cy=\"203\" r=\"10\" fill=\"rgb(255,255,255)\" class=\"agent_0_72\"/></svg></div>"
      ],
      "text/plain": [
       "<IPython.core.display.HTML object>"
      ]
     },
     "metadata": {},
     "output_type": "display_data"
    },
    {
     "name": "stdout",
     "output_type": "stream",
     "text": [
      "sample 0\ti have a large black dot with a smaller dark grey dot above it and a medium gray dot to the left of it <eos>\n",
      "sample 1\ti have a large dark dot with a smaller dark grey dot above it and a medium gray dot to the left of it <eos>\n",
      "sample 2\ti have a large black dot with a smaller dark gray dot above and to the right of it . they are very close together <eos>\n",
      "sample 3\ti have a large black dot with a smaller dark grey dot below it and a medium grey dot to the right of it <eos>\n",
      "sample 4\ti have a large black dot with a small dark grey dot below it and a medium gray dot to the right of it <eos>\n",
      "sample 5\ti have a large black dot with a smaller dark grey dot to the left of it , and a medium sized black dot to the right of it <eos>\n",
      "sample 6\ti have a large black dot with a smaller dark grey dot to its right and a smaller lighter one to its left <eos>\n",
      "sample 7\ti have a large black dot with a smaller dark grey dot above and to the right of it . they are very close together <eos>\n",
      "sample 8\tdo you have a large black dot with a smaller black dot to its upper right ? and a medium gray dot below it and to the left ? <eos>\n",
      "sample 9\ti have a large black dot with a smaller dark grey dot above and to the right of it . they are very close together <eos>\n",
      "argmax\ti have a large black dot with a smaller dark grey dot above and to the right of it . they are very close together <eos>\n",
      "human\tlarge dark grey dot with a smaller grey dot very close above it and a tiny bit to the right . there 's also a dark grey dot to the right and below it <eos>\n",
      "\n",
      "----------------------------------------\n",
      "\n",
      "human\tTHEM: i see that <eos>\n",
      "\n",
      "----------------------------------------\n",
      "\n",
      "dots_mentioned_0: [0. 1. 0. 0. 0. 0. 0.]\n"
     ]
    },
    {
     "data": {
      "text/html": [
       "<div style=\"white-space: nowrap\"><svg viewbox='0 0 430 430' width=\"258\" height=\"258\" id=\"agent_0\"><circle cx=\"215\" cy=\"215\" r=\"205\" fill=\"none\" stroke=\"black\" stroke-width=\"2\" stroke-dasharray=\"3,3\"/><circle cx=\"177\" cy=\"250\" r=\"8\" fill=\"rgb(132,132,132)\"/><circle cx=\"45\" cy=\"240\" r=\"13\" fill=\"rgb(65,65,65)\"/><circle cx=\"159\" cy=\"50\" r=\"9\" fill=\"rgb(154,154,154)\"/><circle cx=\"248\" cy=\"126\" r=\"8\" fill=\"rgb(105,105,105)\"/><circle cx=\"98\" cy=\"284\" r=\"10\" fill=\"rgb(71,71,71)\"/><circle cx=\"332\" cy=\"56\" r=\"12\" fill=\"rgb(71,71,71)\"/><circle cx=\"53\" cy=\"203\" r=\"10\" fill=\"rgb(122,122,122)\"/></svg><svg viewBox='0 0 430 430' id=\"svg\" width=\"258\" height=\"258\"><circle cx=\"215\" cy=\"215\" r=\"205\" fill=\"none\" stroke=\"black\" stroke-width=\"2\" stroke-dasharray=\"3,3\"/> <circle cx=\"177\" cy=\"250\" r=\"8\" fill=\"rgb(255,255,255)\" class=\"agent_0_2\"/><circle cx=\"45\" cy=\"240\" r=\"13\" fill=\"rgb(255,0,0)\" class=\"agent_0_8\"/><circle cx=\"159\" cy=\"50\" r=\"9\" fill=\"rgb(255,255,255)\" class=\"agent_0_16\"/><circle cx=\"248\" cy=\"126\" r=\"8\" fill=\"rgb(255,255,255)\" class=\"agent_0_41\"/><circle cx=\"98\" cy=\"284\" r=\"10\" fill=\"rgb(255,255,255)\" class=\"agent_0_45\"/><circle cx=\"332\" cy=\"56\" r=\"12\" fill=\"rgb(255,255,255)\" class=\"agent_0_68\"/><circle cx=\"53\" cy=\"203\" r=\"10\" fill=\"rgb(255,255,255)\" class=\"agent_0_72\"/></svg></div>"
      ],
      "text/plain": [
       "<IPython.core.display.HTML object>"
      ]
     },
     "metadata": {},
     "output_type": "display_data"
    },
    {
     "name": "stdout",
     "output_type": "stream",
     "text": [
      "sample 0\tok let 's pick the large black dot <selection>\n",
      "sample 1\tok , lets pick the large black dot <selection>\n",
      "sample 2\tok , lets choose the large black dot <selection>\n",
      "sample 3\tok , lets click the large black dot <selection>\n",
      "sample 4\tok , lets click the large black one <selection>\n",
      "sample 5\tok , lets pick the large black dot <eos>\n",
      "sample 6\tok , lets choose the large black dot <selection>\n",
      "sample 7\tok , lets pick the large black dot <selection>\n",
      "sample 8\tlet 's pick the large black dot <selection>\n",
      "sample 9\tok , lets choose the large black one <selection>\n",
      "argmax\tok , lets pick the large black dot <selection>\n",
      "human\tokay lets do the large dark one then ? <eos>\n",
      "\n",
      "----------------------------------------\n",
      "\n",
      "human\tTHEM: ok <selection>\n",
      "\n",
      "----------------------------------------\n",
      "\n"
     ]
    }
   ],
   "source": [
    "force_contexts_and_mentions(2)"
   ]
  },
  {
   "cell_type": "code",
   "execution_count": 63,
   "metadata": {
    "scrolled": false
   },
   "outputs": [
    {
     "name": "stdout",
     "output_type": "stream",
     "text": [
      "human\tTHEM: do you have 4 medium sized dots in a <unk> tight line ? the top one is black <eos>\n",
      "\n",
      "----------------------------------------\n",
      "\n",
      "dots_mentioned_0: [1. 0. 0. 0. 1. 0. 0.]\n"
     ]
    },
    {
     "data": {
      "text/html": [
       "<div style=\"white-space: nowrap\"><svg viewbox='0 0 430 430' width=\"258\" height=\"258\" id=\"agent_1\"><circle cx=\"215\" cy=\"215\" r=\"205\" fill=\"none\" stroke=\"black\" stroke-width=\"2\" stroke-dasharray=\"3,3\"/><circle cx=\"156\" cy=\"341\" r=\"10\" fill=\"rgb(194,194,194)\"/><circle cx=\"210\" cy=\"404\" r=\"11\" fill=\"rgb(121,121,121)\"/><circle cx=\"279\" cy=\"62\" r=\"9\" fill=\"rgb(58,58,58)\"/><circle cx=\"83\" cy=\"362\" r=\"13\" fill=\"rgb(63,63,63)\"/><circle cx=\"161\" cy=\"380\" r=\"11\" fill=\"rgb(187,187,187)\"/><circle cx=\"159\" cy=\"46\" r=\"9\" fill=\"rgb(57,57,57)\"/><circle cx=\"133\" cy=\"317\" r=\"9\" fill=\"rgb(55,55,55)\"/></svg><svg viewBox='0 0 430 430' id=\"svg\" width=\"258\" height=\"258\"><circle cx=\"215\" cy=\"215\" r=\"205\" fill=\"none\" stroke=\"black\" stroke-width=\"2\" stroke-dasharray=\"3,3\"/> <circle cx=\"156\" cy=\"341\" r=\"10\" fill=\"rgb(255,0,0)\" class=\"agent_1_5\"/><circle cx=\"210\" cy=\"404\" r=\"11\" fill=\"rgb(255,255,255)\" class=\"agent_1_6\"/><circle cx=\"279\" cy=\"62\" r=\"9\" fill=\"rgb(255,255,255)\" class=\"agent_1_19\"/><circle cx=\"83\" cy=\"362\" r=\"13\" fill=\"rgb(255,255,255)\" class=\"agent_1_22\"/><circle cx=\"161\" cy=\"380\" r=\"11\" fill=\"rgb(255,0,0)\" class=\"agent_1_45\"/><circle cx=\"159\" cy=\"46\" r=\"9\" fill=\"rgb(255,255,255)\" class=\"agent_1_62\"/><circle cx=\"133\" cy=\"317\" r=\"9\" fill=\"rgb(255,255,255)\" class=\"agent_1_69\"/></svg></div>"
      ],
      "text/plain": [
       "<IPython.core.display.HTML object>"
      ]
     },
     "metadata": {},
     "output_type": "display_data"
    },
    {
     "name": "stdout",
     "output_type": "stream",
     "text": [
      "sample 0\tyes i do , i do see the 3 dots in a line <eos>\n",
      "sample 1\tyes i see that <eos>\n",
      "sample 2\tyes i have that <eos>\n",
      "sample 3\tyes i do ! i see that <eos>\n",
      "sample 4\tyes i have that <eos>\n",
      "sample 5\tyes i do , i have a cluster of 3 dots that form a triangle <eos>\n",
      "sample 6\tyes i see that <eos>\n",
      "sample 7\ti have a cluster of 3 light grey dots <eos>\n",
      "sample 8\tyes i see that <eos>\n",
      "sample 9\ti have a cluster of 3 light grey dots <eos>\n",
      "argmax\tyes i have that <eos>\n",
      "human\tyes ... the two middle ones are light grey ? <eos>\n",
      "\n",
      "----------------------------------------\n",
      "\n",
      "human\tTHEM: yup <eos>\n",
      "\n",
      "----------------------------------------\n",
      "\n",
      "dots_mentioned_0: [1. 0. 0. 0. 1. 0. 0.]\n"
     ]
    },
    {
     "data": {
      "text/html": [
       "<div style=\"white-space: nowrap\"><svg viewbox='0 0 430 430' width=\"258\" height=\"258\" id=\"agent_1\"><circle cx=\"215\" cy=\"215\" r=\"205\" fill=\"none\" stroke=\"black\" stroke-width=\"2\" stroke-dasharray=\"3,3\"/><circle cx=\"156\" cy=\"341\" r=\"10\" fill=\"rgb(194,194,194)\"/><circle cx=\"210\" cy=\"404\" r=\"11\" fill=\"rgb(121,121,121)\"/><circle cx=\"279\" cy=\"62\" r=\"9\" fill=\"rgb(58,58,58)\"/><circle cx=\"83\" cy=\"362\" r=\"13\" fill=\"rgb(63,63,63)\"/><circle cx=\"161\" cy=\"380\" r=\"11\" fill=\"rgb(187,187,187)\"/><circle cx=\"159\" cy=\"46\" r=\"9\" fill=\"rgb(57,57,57)\"/><circle cx=\"133\" cy=\"317\" r=\"9\" fill=\"rgb(55,55,55)\"/></svg><svg viewBox='0 0 430 430' id=\"svg\" width=\"258\" height=\"258\"><circle cx=\"215\" cy=\"215\" r=\"205\" fill=\"none\" stroke=\"black\" stroke-width=\"2\" stroke-dasharray=\"3,3\"/> <circle cx=\"156\" cy=\"341\" r=\"10\" fill=\"rgb(255,0,0)\" class=\"agent_1_5\"/><circle cx=\"210\" cy=\"404\" r=\"11\" fill=\"rgb(255,255,255)\" class=\"agent_1_6\"/><circle cx=\"279\" cy=\"62\" r=\"9\" fill=\"rgb(255,255,255)\" class=\"agent_1_19\"/><circle cx=\"83\" cy=\"362\" r=\"13\" fill=\"rgb(255,255,255)\" class=\"agent_1_22\"/><circle cx=\"161\" cy=\"380\" r=\"11\" fill=\"rgb(255,0,0)\" class=\"agent_1_45\"/><circle cx=\"159\" cy=\"46\" r=\"9\" fill=\"rgb(255,255,255)\" class=\"agent_1_62\"/><circle cx=\"133\" cy=\"317\" r=\"9\" fill=\"rgb(255,255,255)\" class=\"agent_1_69\"/></svg></div>"
      ],
      "text/plain": [
       "<IPython.core.display.HTML object>"
      ]
     },
     "metadata": {},
     "output_type": "display_data"
    },
    {
     "name": "stdout",
     "output_type": "stream",
     "text": [
      "sample 0\tok i see that <eos>\n",
      "sample 1\tok , i see those dots . <eos>\n",
      "sample 2\tok , i have that . <eos>\n",
      "sample 3\ti have that <eos>\n",
      "sample 4\tdo you have two light grey dots ? <eos>\n",
      "sample 5\ti have that <eos>\n",
      "sample 6\ti have that . <eos>\n",
      "sample 7\ti see that <eos>\n",
      "sample 8\tok , i see that . <eos>\n",
      "sample 9\ti have that too <eos>\n",
      "argmax\tok , i have that . <eos>\n",
      "human\tare they different sizes ? <eos>\n",
      "\n",
      "----------------------------------------\n",
      "\n",
      "human\tTHEM: yes the top light one is a little bit smaller <eos>\n",
      "\n",
      "----------------------------------------\n",
      "\n",
      "dots_mentioned_0: [1. 0. 0. 0. 0. 0. 0.]\n"
     ]
    },
    {
     "data": {
      "text/html": [
       "<div style=\"white-space: nowrap\"><svg viewbox='0 0 430 430' width=\"258\" height=\"258\" id=\"agent_1\"><circle cx=\"215\" cy=\"215\" r=\"205\" fill=\"none\" stroke=\"black\" stroke-width=\"2\" stroke-dasharray=\"3,3\"/><circle cx=\"156\" cy=\"341\" r=\"10\" fill=\"rgb(194,194,194)\"/><circle cx=\"210\" cy=\"404\" r=\"11\" fill=\"rgb(121,121,121)\"/><circle cx=\"279\" cy=\"62\" r=\"9\" fill=\"rgb(58,58,58)\"/><circle cx=\"83\" cy=\"362\" r=\"13\" fill=\"rgb(63,63,63)\"/><circle cx=\"161\" cy=\"380\" r=\"11\" fill=\"rgb(187,187,187)\"/><circle cx=\"159\" cy=\"46\" r=\"9\" fill=\"rgb(57,57,57)\"/><circle cx=\"133\" cy=\"317\" r=\"9\" fill=\"rgb(55,55,55)\"/></svg><svg viewBox='0 0 430 430' id=\"svg\" width=\"258\" height=\"258\"><circle cx=\"215\" cy=\"215\" r=\"205\" fill=\"none\" stroke=\"black\" stroke-width=\"2\" stroke-dasharray=\"3,3\"/> <circle cx=\"156\" cy=\"341\" r=\"10\" fill=\"rgb(255,0,0)\" class=\"agent_1_5\"/><circle cx=\"210\" cy=\"404\" r=\"11\" fill=\"rgb(255,255,255)\" class=\"agent_1_6\"/><circle cx=\"279\" cy=\"62\" r=\"9\" fill=\"rgb(255,255,255)\" class=\"agent_1_19\"/><circle cx=\"83\" cy=\"362\" r=\"13\" fill=\"rgb(255,255,255)\" class=\"agent_1_22\"/><circle cx=\"161\" cy=\"380\" r=\"11\" fill=\"rgb(255,255,255)\" class=\"agent_1_45\"/><circle cx=\"159\" cy=\"46\" r=\"9\" fill=\"rgb(255,255,255)\" class=\"agent_1_62\"/><circle cx=\"133\" cy=\"317\" r=\"9\" fill=\"rgb(255,255,255)\" class=\"agent_1_69\"/></svg></div>"
      ],
      "text/plain": [
       "<IPython.core.display.HTML object>"
      ]
     },
     "metadata": {},
     "output_type": "display_data"
    },
    {
     "name": "stdout",
     "output_type": "stream",
     "text": [
      "sample 0\tyes , let 's choose the top light one <selection>\n",
      "sample 1\tyes , let 's pick the top one <selection>\n",
      "sample 2\tyes , lets choose the top one <selection>\n",
      "sample 3\tyes , let 's choose the top one <selection>\n",
      "sample 4\tyes , let 's choose the top one <selection>\n",
      "sample 5\tyes , let 's pick the top one <selection>\n",
      "sample 6\tyes , let 's pick the top one <selection>\n",
      "sample 7\tyes , let 's choose the top one <selection>\n",
      "sample 8\tyes , let 's pick the top one <selection>\n",
      "sample 9\tyes , let 's pick the top one <selection>\n",
      "argmax\tyes , let 's choose the top one <selection>\n",
      "human\tmy top one is a light smaller too <eos>\n",
      "\n",
      "----------------------------------------\n",
      "\n",
      "human\tTHEM: ok click the black dot at the top <selection>\n",
      "\n",
      "----------------------------------------\n",
      "\n"
     ]
    }
   ],
   "source": [
    "force_contexts_and_mentions(3)"
   ]
  },
  {
   "cell_type": "code",
   "execution_count": 64,
   "metadata": {
    "scrolled": false
   },
   "outputs": [
    {
     "name": "stdout",
     "output_type": "stream",
     "text": [
      "human\tTHEM: hello i see 2 <unk> of dots <eos>\n",
      "\n",
      "----------------------------------------\n",
      "\n",
      "dots_mentioned_0: [0. 0. 0. 1. 1. 1. 1.]\n"
     ]
    },
    {
     "data": {
      "text/html": [
       "<div style=\"white-space: nowrap\"><svg viewbox='0 0 430 430' width=\"258\" height=\"258\" id=\"agent_0\"><circle cx=\"215\" cy=\"215\" r=\"205\" fill=\"none\" stroke=\"black\" stroke-width=\"2\" stroke-dasharray=\"3,3\"/><circle cx=\"328\" cy=\"107\" r=\"11\" fill=\"rgb(165,165,165)\"/><circle cx=\"351\" cy=\"320\" r=\"11\" fill=\"rgb(195,195,195)\"/><circle cx=\"233\" cy=\"344\" r=\"11\" fill=\"rgb(78,78,78)\"/><circle cx=\"94\" cy=\"169\" r=\"12\" fill=\"rgb(153,153,153)\"/><circle cx=\"47\" cy=\"124\" r=\"8\" fill=\"rgb(95,95,95)\"/><circle cx=\"192\" cy=\"171\" r=\"9\" fill=\"rgb(137,137,137)\"/><circle cx=\"59\" cy=\"235\" r=\"11\" fill=\"rgb(61,61,61)\"/></svg><svg viewBox='0 0 430 430' id=\"svg\" width=\"258\" height=\"258\"><circle cx=\"215\" cy=\"215\" r=\"205\" fill=\"none\" stroke=\"black\" stroke-width=\"2\" stroke-dasharray=\"3,3\"/> <circle cx=\"328\" cy=\"107\" r=\"11\" fill=\"rgb(255,255,255)\" class=\"agent_0_11\"/><circle cx=\"351\" cy=\"320\" r=\"11\" fill=\"rgb(255,255,255)\" class=\"agent_0_26\"/><circle cx=\"233\" cy=\"344\" r=\"11\" fill=\"rgb(255,255,255)\" class=\"agent_0_50\"/><circle cx=\"94\" cy=\"169\" r=\"12\" fill=\"rgb(255,0,0)\" class=\"agent_0_55\"/><circle cx=\"47\" cy=\"124\" r=\"8\" fill=\"rgb(255,0,0)\" class=\"agent_0_61\"/><circle cx=\"192\" cy=\"171\" r=\"9\" fill=\"rgb(255,0,0)\" class=\"agent_0_67\"/><circle cx=\"59\" cy=\"235\" r=\"11\" fill=\"rgb(255,0,0)\" class=\"agent_0_78\"/></svg></div>"
      ],
      "text/plain": [
       "<IPython.core.display.HTML object>"
      ]
     },
     "metadata": {},
     "output_type": "display_data"
    },
    {
     "name": "stdout",
     "output_type": "stream",
     "text": [
      "dots_mentioned_1: [0. 0. 0. 1. 0. 0. 0.]\n"
     ]
    },
    {
     "data": {
      "text/html": [
       "<div style=\"white-space: nowrap\"><svg viewbox='0 0 430 430' width=\"258\" height=\"258\" id=\"agent_0\"><circle cx=\"215\" cy=\"215\" r=\"205\" fill=\"none\" stroke=\"black\" stroke-width=\"2\" stroke-dasharray=\"3,3\"/><circle cx=\"328\" cy=\"107\" r=\"11\" fill=\"rgb(165,165,165)\"/><circle cx=\"351\" cy=\"320\" r=\"11\" fill=\"rgb(195,195,195)\"/><circle cx=\"233\" cy=\"344\" r=\"11\" fill=\"rgb(78,78,78)\"/><circle cx=\"94\" cy=\"169\" r=\"12\" fill=\"rgb(153,153,153)\"/><circle cx=\"47\" cy=\"124\" r=\"8\" fill=\"rgb(95,95,95)\"/><circle cx=\"192\" cy=\"171\" r=\"9\" fill=\"rgb(137,137,137)\"/><circle cx=\"59\" cy=\"235\" r=\"11\" fill=\"rgb(61,61,61)\"/></svg><svg viewBox='0 0 430 430' id=\"svg\" width=\"258\" height=\"258\"><circle cx=\"215\" cy=\"215\" r=\"205\" fill=\"none\" stroke=\"black\" stroke-width=\"2\" stroke-dasharray=\"3,3\"/> <circle cx=\"328\" cy=\"107\" r=\"11\" fill=\"rgb(255,255,255)\" class=\"agent_0_11\"/><circle cx=\"351\" cy=\"320\" r=\"11\" fill=\"rgb(255,255,255)\" class=\"agent_0_26\"/><circle cx=\"233\" cy=\"344\" r=\"11\" fill=\"rgb(255,255,255)\" class=\"agent_0_50\"/><circle cx=\"94\" cy=\"169\" r=\"12\" fill=\"rgb(255,0,0)\" class=\"agent_0_55\"/><circle cx=\"47\" cy=\"124\" r=\"8\" fill=\"rgb(255,255,255)\" class=\"agent_0_61\"/><circle cx=\"192\" cy=\"171\" r=\"9\" fill=\"rgb(255,255,255)\" class=\"agent_0_67\"/><circle cx=\"59\" cy=\"235\" r=\"11\" fill=\"rgb(255,255,255)\" class=\"agent_0_78\"/></svg></div>"
      ],
      "text/plain": [
       "<IPython.core.display.HTML object>"
      ]
     },
     "metadata": {},
     "output_type": "display_data"
    },
    {
     "name": "stdout",
     "output_type": "stream",
     "text": [
      "dots_mentioned_2: [0. 0. 0. 0. 1. 1. 1.]\n"
     ]
    },
    {
     "data": {
      "text/html": [
       "<div style=\"white-space: nowrap\"><svg viewbox='0 0 430 430' width=\"258\" height=\"258\" id=\"agent_0\"><circle cx=\"215\" cy=\"215\" r=\"205\" fill=\"none\" stroke=\"black\" stroke-width=\"2\" stroke-dasharray=\"3,3\"/><circle cx=\"328\" cy=\"107\" r=\"11\" fill=\"rgb(165,165,165)\"/><circle cx=\"351\" cy=\"320\" r=\"11\" fill=\"rgb(195,195,195)\"/><circle cx=\"233\" cy=\"344\" r=\"11\" fill=\"rgb(78,78,78)\"/><circle cx=\"94\" cy=\"169\" r=\"12\" fill=\"rgb(153,153,153)\"/><circle cx=\"47\" cy=\"124\" r=\"8\" fill=\"rgb(95,95,95)\"/><circle cx=\"192\" cy=\"171\" r=\"9\" fill=\"rgb(137,137,137)\"/><circle cx=\"59\" cy=\"235\" r=\"11\" fill=\"rgb(61,61,61)\"/></svg><svg viewBox='0 0 430 430' id=\"svg\" width=\"258\" height=\"258\"><circle cx=\"215\" cy=\"215\" r=\"205\" fill=\"none\" stroke=\"black\" stroke-width=\"2\" stroke-dasharray=\"3,3\"/> <circle cx=\"328\" cy=\"107\" r=\"11\" fill=\"rgb(255,255,255)\" class=\"agent_0_11\"/><circle cx=\"351\" cy=\"320\" r=\"11\" fill=\"rgb(255,255,255)\" class=\"agent_0_26\"/><circle cx=\"233\" cy=\"344\" r=\"11\" fill=\"rgb(255,255,255)\" class=\"agent_0_50\"/><circle cx=\"94\" cy=\"169\" r=\"12\" fill=\"rgb(255,255,255)\" class=\"agent_0_55\"/><circle cx=\"47\" cy=\"124\" r=\"8\" fill=\"rgb(255,0,0)\" class=\"agent_0_61\"/><circle cx=\"192\" cy=\"171\" r=\"9\" fill=\"rgb(255,0,0)\" class=\"agent_0_67\"/><circle cx=\"59\" cy=\"235\" r=\"11\" fill=\"rgb(255,0,0)\" class=\"agent_0_78\"/></svg></div>"
      ],
      "text/plain": [
       "<IPython.core.display.HTML object>"
      ]
     },
     "metadata": {},
     "output_type": "display_data"
    },
    {
     "name": "stdout",
     "output_type": "stream",
     "text": [
      "dots_mentioned_3: [0. 0. 0. 1. 0. 0. 0.]\n"
     ]
    },
    {
     "data": {
      "text/html": [
       "<div style=\"white-space: nowrap\"><svg viewbox='0 0 430 430' width=\"258\" height=\"258\" id=\"agent_0\"><circle cx=\"215\" cy=\"215\" r=\"205\" fill=\"none\" stroke=\"black\" stroke-width=\"2\" stroke-dasharray=\"3,3\"/><circle cx=\"328\" cy=\"107\" r=\"11\" fill=\"rgb(165,165,165)\"/><circle cx=\"351\" cy=\"320\" r=\"11\" fill=\"rgb(195,195,195)\"/><circle cx=\"233\" cy=\"344\" r=\"11\" fill=\"rgb(78,78,78)\"/><circle cx=\"94\" cy=\"169\" r=\"12\" fill=\"rgb(153,153,153)\"/><circle cx=\"47\" cy=\"124\" r=\"8\" fill=\"rgb(95,95,95)\"/><circle cx=\"192\" cy=\"171\" r=\"9\" fill=\"rgb(137,137,137)\"/><circle cx=\"59\" cy=\"235\" r=\"11\" fill=\"rgb(61,61,61)\"/></svg><svg viewBox='0 0 430 430' id=\"svg\" width=\"258\" height=\"258\"><circle cx=\"215\" cy=\"215\" r=\"205\" fill=\"none\" stroke=\"black\" stroke-width=\"2\" stroke-dasharray=\"3,3\"/> <circle cx=\"328\" cy=\"107\" r=\"11\" fill=\"rgb(255,255,255)\" class=\"agent_0_11\"/><circle cx=\"351\" cy=\"320\" r=\"11\" fill=\"rgb(255,255,255)\" class=\"agent_0_26\"/><circle cx=\"233\" cy=\"344\" r=\"11\" fill=\"rgb(255,255,255)\" class=\"agent_0_50\"/><circle cx=\"94\" cy=\"169\" r=\"12\" fill=\"rgb(255,0,0)\" class=\"agent_0_55\"/><circle cx=\"47\" cy=\"124\" r=\"8\" fill=\"rgb(255,255,255)\" class=\"agent_0_61\"/><circle cx=\"192\" cy=\"171\" r=\"9\" fill=\"rgb(255,255,255)\" class=\"agent_0_67\"/><circle cx=\"59\" cy=\"235\" r=\"11\" fill=\"rgb(255,255,255)\" class=\"agent_0_78\"/></svg></div>"
      ],
      "text/plain": [
       "<IPython.core.display.HTML object>"
      ]
     },
     "metadata": {},
     "output_type": "display_data"
    },
    {
     "name": "stdout",
     "output_type": "stream",
     "text": [
      "sample 0\ti have a cluster of 4 dots , two are medium grey and one is dark grey and the other is black <eos>\n",
      "sample 1\ti have a cluster of 3 dots , two are dark grey and one medium grey . the other is larger and lighter . <eos>\n",
      "sample 2\ti have a cluster of 3 dots . two are medium gray , one is dark grey and one is large and darker . <eos>\n",
      "sample 3\ti have a cluster of 3 dots . two are dark grey and one light grey . <eos>\n",
      "sample 4\ti have a cluster of 3 dots , two are dark grey and one is small and light grey . the one on the right is large and black <eos>\n",
      "sample 5\ti have a triangle of three dots . two are dark grey and one light grey . <eos>\n",
      "sample 6\ti have a cluster of three dots , two are dark and one light <eos>\n",
      "sample 7\ti have a cluster of 4 dots , the lowest is the lightest and largest , the two are darker and to the right of the other one <eos>\n",
      "sample 8\ti have a cluster of 3 dots . two are dark grey and one light grey <eos>\n",
      "sample 9\ti have a cluster of 3 dots . one is light grey and one black , one dark grey <eos>\n",
      "argmax\ti have a cluster of 3 dots , two are medium grey and one is small and dark grey . the other is smaller and lighter . <eos>\n",
      "human\t<unk> , i have one close cluster of dots , medium sized medium grey with three dots around it in a triangle <eos>\n",
      "\n",
      "----------------------------------------\n",
      "\n",
      "human\tTHEM: i also have a close cluster with 4 dots . the furthest up is dark grey , same with bottom left one in cluster is dark , middle 2 are med grey <eos>\n",
      "\n",
      "----------------------------------------\n",
      "\n",
      "dots_mentioned_0: [0. 0. 0. 1. 1. 1. 1.]\n"
     ]
    },
    {
     "data": {
      "text/html": [
       "<div style=\"white-space: nowrap\"><svg viewbox='0 0 430 430' width=\"258\" height=\"258\" id=\"agent_0\"><circle cx=\"215\" cy=\"215\" r=\"205\" fill=\"none\" stroke=\"black\" stroke-width=\"2\" stroke-dasharray=\"3,3\"/><circle cx=\"328\" cy=\"107\" r=\"11\" fill=\"rgb(165,165,165)\"/><circle cx=\"351\" cy=\"320\" r=\"11\" fill=\"rgb(195,195,195)\"/><circle cx=\"233\" cy=\"344\" r=\"11\" fill=\"rgb(78,78,78)\"/><circle cx=\"94\" cy=\"169\" r=\"12\" fill=\"rgb(153,153,153)\"/><circle cx=\"47\" cy=\"124\" r=\"8\" fill=\"rgb(95,95,95)\"/><circle cx=\"192\" cy=\"171\" r=\"9\" fill=\"rgb(137,137,137)\"/><circle cx=\"59\" cy=\"235\" r=\"11\" fill=\"rgb(61,61,61)\"/></svg><svg viewBox='0 0 430 430' id=\"svg\" width=\"258\" height=\"258\"><circle cx=\"215\" cy=\"215\" r=\"205\" fill=\"none\" stroke=\"black\" stroke-width=\"2\" stroke-dasharray=\"3,3\"/> <circle cx=\"328\" cy=\"107\" r=\"11\" fill=\"rgb(255,255,255)\" class=\"agent_0_11\"/><circle cx=\"351\" cy=\"320\" r=\"11\" fill=\"rgb(255,255,255)\" class=\"agent_0_26\"/><circle cx=\"233\" cy=\"344\" r=\"11\" fill=\"rgb(255,255,255)\" class=\"agent_0_50\"/><circle cx=\"94\" cy=\"169\" r=\"12\" fill=\"rgb(255,0,0)\" class=\"agent_0_55\"/><circle cx=\"47\" cy=\"124\" r=\"8\" fill=\"rgb(255,0,0)\" class=\"agent_0_61\"/><circle cx=\"192\" cy=\"171\" r=\"9\" fill=\"rgb(255,0,0)\" class=\"agent_0_67\"/><circle cx=\"59\" cy=\"235\" r=\"11\" fill=\"rgb(255,0,0)\" class=\"agent_0_78\"/></svg></div>"
      ],
      "text/plain": [
       "<IPython.core.display.HTML object>"
      ]
     },
     "metadata": {},
     "output_type": "display_data"
    },
    {
     "name": "stdout",
     "output_type": "stream",
     "text": [
      "sample 0\ti have that <eos>\n",
      "sample 1\ti have those <eos>\n",
      "sample 2\ti have that <eos>\n",
      "sample 3\ti see that <eos>\n",
      "sample 4\ti see that <eos>\n",
      "sample 5\ti have that <eos>\n",
      "sample 6\ti see that <eos>\n",
      "sample 7\ti have that <eos>\n",
      "sample 8\ti see that <eos>\n",
      "sample 9\ti have that <eos>\n",
      "argmax\ti see that <eos>\n",
      "human\tyes , that 's the cluster , which one did you pick ? <eos>\n",
      "\n",
      "----------------------------------------\n",
      "\n",
      "human\tTHEM: i did the middle grey one <selection>\n",
      "\n",
      "----------------------------------------\n",
      "\n"
     ]
    }
   ],
   "source": [
    "force_contexts_and_mentions(4)"
   ]
  },
  {
   "cell_type": "code",
   "execution_count": 65,
   "metadata": {
    "scrolled": false
   },
   "outputs": [
    {
     "name": "stdout",
     "output_type": "stream",
     "text": [
      "dots_mentioned_0: [0. 1. 0. 1. 0. 1. 1.]\n"
     ]
    },
    {
     "data": {
      "text/html": [
       "<div style=\"white-space: nowrap\"><svg viewbox='0 0 430 430' width=\"258\" height=\"258\" id=\"agent_1\"><circle cx=\"215\" cy=\"215\" r=\"205\" fill=\"none\" stroke=\"black\" stroke-width=\"2\" stroke-dasharray=\"3,3\"/><circle cx=\"293\" cy=\"152\" r=\"12\" fill=\"rgb(167,167,167)\"/><circle cx=\"108\" cy=\"125\" r=\"7\" fill=\"rgb(64,64,64)\"/><circle cx=\"375\" cy=\"140\" r=\"9\" fill=\"rgb(156,156,156)\"/><circle cx=\"134\" cy=\"177\" r=\"12\" fill=\"rgb(128,128,128)\"/><circle cx=\"367\" cy=\"218\" r=\"9\" fill=\"rgb(64,64,64)\"/><circle cx=\"92\" cy=\"214\" r=\"12\" fill=\"rgb(82,82,82)\"/><circle cx=\"66\" cy=\"177\" r=\"9\" fill=\"rgb(86,86,86)\"/></svg><svg viewBox='0 0 430 430' id=\"svg\" width=\"258\" height=\"258\"><circle cx=\"215\" cy=\"215\" r=\"205\" fill=\"none\" stroke=\"black\" stroke-width=\"2\" stroke-dasharray=\"3,3\"/> <circle cx=\"293\" cy=\"152\" r=\"12\" fill=\"rgb(255,255,255)\" class=\"agent_1_0\"/><circle cx=\"108\" cy=\"125\" r=\"7\" fill=\"rgb(255,0,0)\" class=\"agent_1_2\"/><circle cx=\"375\" cy=\"140\" r=\"9\" fill=\"rgb(255,255,255)\" class=\"agent_1_18\"/><circle cx=\"134\" cy=\"177\" r=\"12\" fill=\"rgb(255,0,0)\" class=\"agent_1_25\"/><circle cx=\"367\" cy=\"218\" r=\"9\" fill=\"rgb(255,255,255)\" class=\"agent_1_31\"/><circle cx=\"92\" cy=\"214\" r=\"12\" fill=\"rgb(255,0,0)\" class=\"agent_1_40\"/><circle cx=\"66\" cy=\"177\" r=\"9\" fill=\"rgb(255,0,0)\" class=\"agent_1_58\"/></svg></div>"
      ],
      "text/plain": [
       "<IPython.core.display.HTML object>"
      ]
     },
     "metadata": {},
     "output_type": "display_data"
    },
    {
     "name": "stdout",
     "output_type": "stream",
     "text": [
      "sample 0\ti have a cluster of 4 dots . <eos>\n",
      "sample 1\ti have a cluster of 4 dots in a triangle <eos>\n",
      "sample 2\tdo you see a cluster of dots ? <eos>\n",
      "sample 3\ti see a cluster of 3 dots that form a triangle <eos>\n",
      "sample 4\ti have 4 dots in a line <eos>\n",
      "sample 5\tdo you see a cluster of dots ? <eos>\n",
      "sample 6\ti have a cluster of three dots that form a triangle <eos>\n",
      "sample 7\ti see a cluster of 4 dots <eos>\n",
      "sample 8\ti have a cluster of 4 dots <eos>\n",
      "sample 9\ti have a cluster of 4 dots in a triangle <eos>\n",
      "argmax\ti have a cluster of 4 dots <eos>\n",
      "human\tdo you see a group of 4 in a <unk> square ? <eos>\n",
      "\n",
      "----------------------------------------\n",
      "\n",
      "human\tTHEM: the smallest one is on the top ? <eos>\n",
      "\n",
      "----------------------------------------\n",
      "\n",
      "dots_mentioned_0: [0. 1. 0. 0. 0. 0. 0.]\n"
     ]
    },
    {
     "data": {
      "text/html": [
       "<div style=\"white-space: nowrap\"><svg viewbox='0 0 430 430' width=\"258\" height=\"258\" id=\"agent_1\"><circle cx=\"215\" cy=\"215\" r=\"205\" fill=\"none\" stroke=\"black\" stroke-width=\"2\" stroke-dasharray=\"3,3\"/><circle cx=\"293\" cy=\"152\" r=\"12\" fill=\"rgb(167,167,167)\"/><circle cx=\"108\" cy=\"125\" r=\"7\" fill=\"rgb(64,64,64)\"/><circle cx=\"375\" cy=\"140\" r=\"9\" fill=\"rgb(156,156,156)\"/><circle cx=\"134\" cy=\"177\" r=\"12\" fill=\"rgb(128,128,128)\"/><circle cx=\"367\" cy=\"218\" r=\"9\" fill=\"rgb(64,64,64)\"/><circle cx=\"92\" cy=\"214\" r=\"12\" fill=\"rgb(82,82,82)\"/><circle cx=\"66\" cy=\"177\" r=\"9\" fill=\"rgb(86,86,86)\"/></svg><svg viewBox='0 0 430 430' id=\"svg\" width=\"258\" height=\"258\"><circle cx=\"215\" cy=\"215\" r=\"205\" fill=\"none\" stroke=\"black\" stroke-width=\"2\" stroke-dasharray=\"3,3\"/> <circle cx=\"293\" cy=\"152\" r=\"12\" fill=\"rgb(255,255,255)\" class=\"agent_1_0\"/><circle cx=\"108\" cy=\"125\" r=\"7\" fill=\"rgb(255,0,0)\" class=\"agent_1_2\"/><circle cx=\"375\" cy=\"140\" r=\"9\" fill=\"rgb(255,255,255)\" class=\"agent_1_18\"/><circle cx=\"134\" cy=\"177\" r=\"12\" fill=\"rgb(255,255,255)\" class=\"agent_1_25\"/><circle cx=\"367\" cy=\"218\" r=\"9\" fill=\"rgb(255,255,255)\" class=\"agent_1_31\"/><circle cx=\"92\" cy=\"214\" r=\"12\" fill=\"rgb(255,255,255)\" class=\"agent_1_40\"/><circle cx=\"66\" cy=\"177\" r=\"9\" fill=\"rgb(255,255,255)\" class=\"agent_1_58\"/></svg></div>"
      ],
      "text/plain": [
       "<IPython.core.display.HTML object>"
      ]
     },
     "metadata": {},
     "output_type": "display_data"
    },
    {
     "name": "stdout",
     "output_type": "stream",
     "text": [
      "sample 0\tyes , lets choose the smallest one <eos>\n",
      "sample 1\tyes , let 's pick that one <eos>\n",
      "sample 2\tyes , lets pick the smallest dot <eos>\n",
      "sample 3\tyes , lets pick the top one <eos>\n",
      "sample 4\tyes , lets pick the one on the right <eos>\n",
      "sample 5\tyes . let 's choose the top one <eos>\n",
      "sample 6\tyes , let 's pick the smallest one <eos>\n",
      "sample 7\tyes , pick the smallest ? <eos>\n",
      "sample 8\tyes , let 's choose the top one <eos>\n",
      "sample 9\tyes , pick the smallest one ? <eos>\n",
      "argmax\tyes , let 's pick the top one <eos>\n",
      "human\tyes ! shall we choose the small one ? <eos>\n",
      "\n",
      "----------------------------------------\n",
      "\n",
      "human\tTHEM: yes ! <selection>\n",
      "\n",
      "----------------------------------------\n",
      "\n"
     ]
    }
   ],
   "source": [
    "force_contexts_and_mentions(5)"
   ]
  },
  {
   "cell_type": "code",
   "execution_count": 66,
   "metadata": {
    "scrolled": false
   },
   "outputs": [
    {
     "name": "stdout",
     "output_type": "stream",
     "text": [
      "human\tTHEM: small black dot aligned vertically with medium light grey dot <eos>\n",
      "\n",
      "----------------------------------------\n",
      "\n",
      "dots_mentioned_0: [0. 0. 0. 0. 1. 0. 0.]\n"
     ]
    },
    {
     "data": {
      "text/html": [
       "<div style=\"white-space: nowrap\"><svg viewbox='0 0 430 430' width=\"258\" height=\"258\" id=\"agent_1\"><circle cx=\"215\" cy=\"215\" r=\"205\" fill=\"none\" stroke=\"black\" stroke-width=\"2\" stroke-dasharray=\"3,3\"/><circle cx=\"180\" cy=\"20\" r=\"9\" fill=\"rgb(60,60,60)\"/><circle cx=\"96\" cy=\"271\" r=\"8\" fill=\"rgb(123,123,123)\"/><circle cx=\"233\" cy=\"27\" r=\"12\" fill=\"rgb(114,114,114)\"/><circle cx=\"66\" cy=\"253\" r=\"9\" fill=\"rgb(92,92,92)\"/><circle cx=\"313\" cy=\"360\" r=\"7\" fill=\"rgb(62,62,62)\"/><circle cx=\"259\" cy=\"128\" r=\"11\" fill=\"rgb(167,167,167)\"/><circle cx=\"308\" cy=\"192\" r=\"12\" fill=\"rgb(133,133,133)\"/></svg><svg viewBox='0 0 430 430' id=\"svg\" width=\"258\" height=\"258\"><circle cx=\"215\" cy=\"215\" r=\"205\" fill=\"none\" stroke=\"black\" stroke-width=\"2\" stroke-dasharray=\"3,3\"/> <circle cx=\"180\" cy=\"20\" r=\"9\" fill=\"rgb(255,255,255)\" class=\"agent_1_6\"/><circle cx=\"96\" cy=\"271\" r=\"8\" fill=\"rgb(255,255,255)\" class=\"agent_1_20\"/><circle cx=\"233\" cy=\"27\" r=\"12\" fill=\"rgb(255,255,255)\" class=\"agent_1_43\"/><circle cx=\"66\" cy=\"253\" r=\"9\" fill=\"rgb(255,255,255)\" class=\"agent_1_49\"/><circle cx=\"313\" cy=\"360\" r=\"7\" fill=\"rgb(255,0,0)\" class=\"agent_1_53\"/><circle cx=\"259\" cy=\"128\" r=\"11\" fill=\"rgb(255,255,255)\" class=\"agent_1_55\"/><circle cx=\"308\" cy=\"192\" r=\"12\" fill=\"rgb(255,255,255)\" class=\"agent_1_61\"/></svg></div>"
      ],
      "text/plain": [
       "<IPython.core.display.HTML object>"
      ]
     },
     "metadata": {},
     "output_type": "display_data"
    },
    {
     "name": "stdout",
     "output_type": "stream",
     "text": [
      "dots_mentioned_1: [0. 0. 0. 0. 1. 0. 0.]\n"
     ]
    },
    {
     "data": {
      "text/html": [
       "<div style=\"white-space: nowrap\"><svg viewbox='0 0 430 430' width=\"258\" height=\"258\" id=\"agent_1\"><circle cx=\"215\" cy=\"215\" r=\"205\" fill=\"none\" stroke=\"black\" stroke-width=\"2\" stroke-dasharray=\"3,3\"/><circle cx=\"180\" cy=\"20\" r=\"9\" fill=\"rgb(60,60,60)\"/><circle cx=\"96\" cy=\"271\" r=\"8\" fill=\"rgb(123,123,123)\"/><circle cx=\"233\" cy=\"27\" r=\"12\" fill=\"rgb(114,114,114)\"/><circle cx=\"66\" cy=\"253\" r=\"9\" fill=\"rgb(92,92,92)\"/><circle cx=\"313\" cy=\"360\" r=\"7\" fill=\"rgb(62,62,62)\"/><circle cx=\"259\" cy=\"128\" r=\"11\" fill=\"rgb(167,167,167)\"/><circle cx=\"308\" cy=\"192\" r=\"12\" fill=\"rgb(133,133,133)\"/></svg><svg viewBox='0 0 430 430' id=\"svg\" width=\"258\" height=\"258\"><circle cx=\"215\" cy=\"215\" r=\"205\" fill=\"none\" stroke=\"black\" stroke-width=\"2\" stroke-dasharray=\"3,3\"/> <circle cx=\"180\" cy=\"20\" r=\"9\" fill=\"rgb(255,255,255)\" class=\"agent_1_6\"/><circle cx=\"96\" cy=\"271\" r=\"8\" fill=\"rgb(255,255,255)\" class=\"agent_1_20\"/><circle cx=\"233\" cy=\"27\" r=\"12\" fill=\"rgb(255,255,255)\" class=\"agent_1_43\"/><circle cx=\"66\" cy=\"253\" r=\"9\" fill=\"rgb(255,255,255)\" class=\"agent_1_49\"/><circle cx=\"313\" cy=\"360\" r=\"7\" fill=\"rgb(255,0,0)\" class=\"agent_1_53\"/><circle cx=\"259\" cy=\"128\" r=\"11\" fill=\"rgb(255,255,255)\" class=\"agent_1_55\"/><circle cx=\"308\" cy=\"192\" r=\"12\" fill=\"rgb(255,255,255)\" class=\"agent_1_61\"/></svg></div>"
      ],
      "text/plain": [
       "<IPython.core.display.HTML object>"
      ]
     },
     "metadata": {},
     "output_type": "display_data"
    },
    {
     "name": "stdout",
     "output_type": "stream",
     "text": [
      "sample 0\tyes , i see it . let 's pick that small black dot . <eos>\n",
      "sample 1\tyes , i have that one . let 's pick that small black dot . <selection>\n",
      "sample 2\tyes , it is the smallest and black <eos>\n",
      "sample 3\tyes , i have that one . let 's pick that one . <eos>\n",
      "sample 4\tyes i see it . let 's pick that small black dot <eos>\n",
      "sample 5\tyes , i see it . let 's pick that tiny black dot . <selection>\n",
      "sample 6\tyes , it is the smallest and black <eos>\n",
      "sample 7\tyes , i see it . let 's choose that tiny black dot <selection>\n",
      "sample 8\tyes , i see it . let 's pick that tiny black dot . <eos>\n",
      "sample 9\tyes , the small black dot is on the right . let 's choose that one <eos>\n",
      "argmax\tyes , i see it . let 's pick that tiny black dot . <selection>\n",
      "human\ti i think i have that . selecting the small black dot . <eos>\n",
      "\n",
      "----------------------------------------\n",
      "\n",
      "human\tTHEM: is the small black dot slight to the right ? <eos>\n",
      "\n",
      "----------------------------------------\n",
      "\n",
      "sample 0\tyes <eos>\n",
      "sample 1\tyes <selection>\n",
      "sample 2\tyes <eos>\n",
      "sample 3\tyes <eos>\n",
      "sample 4\tyes <eos>\n",
      "sample 5\tyes <eos>\n",
      "sample 6\tyes <eos>\n",
      "sample 7\tyes <eos>\n",
      "sample 8\tyes <eos>\n",
      "sample 9\tyes <eos>\n",
      "argmax\tyes <eos>\n",
      "human\tyes <selection>\n",
      "\n",
      "----------------------------------------\n",
      "\n"
     ]
    }
   ],
   "source": [
    "force_contexts_and_mentions(6)"
   ]
  },
  {
   "cell_type": "code",
   "execution_count": 67,
   "metadata": {
    "scrolled": false
   },
   "outputs": [
    {
     "name": "stdout",
     "output_type": "stream",
     "text": [
      "dots_mentioned_0: [0. 0. 1. 0. 1. 0. 1.]\n"
     ]
    },
    {
     "data": {
      "text/html": [
       "<div style=\"white-space: nowrap\"><svg viewbox='0 0 430 430' width=\"258\" height=\"258\" id=\"agent_1\"><circle cx=\"215\" cy=\"215\" r=\"205\" fill=\"none\" stroke=\"black\" stroke-width=\"2\" stroke-dasharray=\"3,3\"/><circle cx=\"337\" cy=\"191\" r=\"13\" fill=\"rgb(135,135,135)\"/><circle cx=\"406\" cy=\"194\" r=\"11\" fill=\"rgb(131,131,131)\"/><circle cx=\"178\" cy=\"141\" r=\"9\" fill=\"rgb(185,185,185)\"/><circle cx=\"220\" cy=\"264\" r=\"11\" fill=\"rgb(75,75,75)\"/><circle cx=\"113\" cy=\"193\" r=\"9\" fill=\"rgb(73,73,73)\"/><circle cx=\"277\" cy=\"335\" r=\"7\" fill=\"rgb(55,55,55)\"/><circle cx=\"84\" cy=\"249\" r=\"11\" fill=\"rgb(114,114,114)\"/></svg><svg viewBox='0 0 430 430' id=\"svg\" width=\"258\" height=\"258\"><circle cx=\"215\" cy=\"215\" r=\"205\" fill=\"none\" stroke=\"black\" stroke-width=\"2\" stroke-dasharray=\"3,3\"/> <circle cx=\"337\" cy=\"191\" r=\"13\" fill=\"rgb(255,255,255)\" class=\"agent_1_19\"/><circle cx=\"406\" cy=\"194\" r=\"11\" fill=\"rgb(255,255,255)\" class=\"agent_1_28\"/><circle cx=\"178\" cy=\"141\" r=\"9\" fill=\"rgb(255,0,0)\" class=\"agent_1_35\"/><circle cx=\"220\" cy=\"264\" r=\"11\" fill=\"rgb(255,255,255)\" class=\"agent_1_36\"/><circle cx=\"113\" cy=\"193\" r=\"9\" fill=\"rgb(255,0,0)\" class=\"agent_1_38\"/><circle cx=\"277\" cy=\"335\" r=\"7\" fill=\"rgb(255,255,255)\" class=\"agent_1_41\"/><circle cx=\"84\" cy=\"249\" r=\"11\" fill=\"rgb(255,0,0)\" class=\"agent_1_64\"/></svg></div>"
      ],
      "text/plain": [
       "<IPython.core.display.HTML object>"
      ]
     },
     "metadata": {},
     "output_type": "display_data"
    },
    {
     "name": "stdout",
     "output_type": "stream",
     "text": [
      "dots_mentioned_1: [0. 0. 0. 0. 0. 0. 1.]\n"
     ]
    },
    {
     "data": {
      "text/html": [
       "<div style=\"white-space: nowrap\"><svg viewbox='0 0 430 430' width=\"258\" height=\"258\" id=\"agent_1\"><circle cx=\"215\" cy=\"215\" r=\"205\" fill=\"none\" stroke=\"black\" stroke-width=\"2\" stroke-dasharray=\"3,3\"/><circle cx=\"337\" cy=\"191\" r=\"13\" fill=\"rgb(135,135,135)\"/><circle cx=\"406\" cy=\"194\" r=\"11\" fill=\"rgb(131,131,131)\"/><circle cx=\"178\" cy=\"141\" r=\"9\" fill=\"rgb(185,185,185)\"/><circle cx=\"220\" cy=\"264\" r=\"11\" fill=\"rgb(75,75,75)\"/><circle cx=\"113\" cy=\"193\" r=\"9\" fill=\"rgb(73,73,73)\"/><circle cx=\"277\" cy=\"335\" r=\"7\" fill=\"rgb(55,55,55)\"/><circle cx=\"84\" cy=\"249\" r=\"11\" fill=\"rgb(114,114,114)\"/></svg><svg viewBox='0 0 430 430' id=\"svg\" width=\"258\" height=\"258\"><circle cx=\"215\" cy=\"215\" r=\"205\" fill=\"none\" stroke=\"black\" stroke-width=\"2\" stroke-dasharray=\"3,3\"/> <circle cx=\"337\" cy=\"191\" r=\"13\" fill=\"rgb(255,255,255)\" class=\"agent_1_19\"/><circle cx=\"406\" cy=\"194\" r=\"11\" fill=\"rgb(255,255,255)\" class=\"agent_1_28\"/><circle cx=\"178\" cy=\"141\" r=\"9\" fill=\"rgb(255,255,255)\" class=\"agent_1_35\"/><circle cx=\"220\" cy=\"264\" r=\"11\" fill=\"rgb(255,255,255)\" class=\"agent_1_36\"/><circle cx=\"113\" cy=\"193\" r=\"9\" fill=\"rgb(255,255,255)\" class=\"agent_1_38\"/><circle cx=\"277\" cy=\"335\" r=\"7\" fill=\"rgb(255,255,255)\" class=\"agent_1_41\"/><circle cx=\"84\" cy=\"249\" r=\"11\" fill=\"rgb(255,0,0)\" class=\"agent_1_64\"/></svg></div>"
      ],
      "text/plain": [
       "<IPython.core.display.HTML object>"
      ]
     },
     "metadata": {},
     "output_type": "display_data"
    },
    {
     "name": "stdout",
     "output_type": "stream",
     "text": [
      "dots_mentioned_2: [0. 0. 0. 0. 1. 0. 0.]\n"
     ]
    },
    {
     "data": {
      "text/html": [
       "<div style=\"white-space: nowrap\"><svg viewbox='0 0 430 430' width=\"258\" height=\"258\" id=\"agent_1\"><circle cx=\"215\" cy=\"215\" r=\"205\" fill=\"none\" stroke=\"black\" stroke-width=\"2\" stroke-dasharray=\"3,3\"/><circle cx=\"337\" cy=\"191\" r=\"13\" fill=\"rgb(135,135,135)\"/><circle cx=\"406\" cy=\"194\" r=\"11\" fill=\"rgb(131,131,131)\"/><circle cx=\"178\" cy=\"141\" r=\"9\" fill=\"rgb(185,185,185)\"/><circle cx=\"220\" cy=\"264\" r=\"11\" fill=\"rgb(75,75,75)\"/><circle cx=\"113\" cy=\"193\" r=\"9\" fill=\"rgb(73,73,73)\"/><circle cx=\"277\" cy=\"335\" r=\"7\" fill=\"rgb(55,55,55)\"/><circle cx=\"84\" cy=\"249\" r=\"11\" fill=\"rgb(114,114,114)\"/></svg><svg viewBox='0 0 430 430' id=\"svg\" width=\"258\" height=\"258\"><circle cx=\"215\" cy=\"215\" r=\"205\" fill=\"none\" stroke=\"black\" stroke-width=\"2\" stroke-dasharray=\"3,3\"/> <circle cx=\"337\" cy=\"191\" r=\"13\" fill=\"rgb(255,255,255)\" class=\"agent_1_19\"/><circle cx=\"406\" cy=\"194\" r=\"11\" fill=\"rgb(255,255,255)\" class=\"agent_1_28\"/><circle cx=\"178\" cy=\"141\" r=\"9\" fill=\"rgb(255,255,255)\" class=\"agent_1_35\"/><circle cx=\"220\" cy=\"264\" r=\"11\" fill=\"rgb(255,255,255)\" class=\"agent_1_36\"/><circle cx=\"113\" cy=\"193\" r=\"9\" fill=\"rgb(255,0,0)\" class=\"agent_1_38\"/><circle cx=\"277\" cy=\"335\" r=\"7\" fill=\"rgb(255,255,255)\" class=\"agent_1_41\"/><circle cx=\"84\" cy=\"249\" r=\"11\" fill=\"rgb(255,255,255)\" class=\"agent_1_64\"/></svg></div>"
      ],
      "text/plain": [
       "<IPython.core.display.HTML object>"
      ]
     },
     "metadata": {},
     "output_type": "display_data"
    },
    {
     "name": "stdout",
     "output_type": "stream",
     "text": [
      "dots_mentioned_3: [0. 0. 1. 0. 0. 0. 0.]\n"
     ]
    },
    {
     "data": {
      "text/html": [
       "<div style=\"white-space: nowrap\"><svg viewbox='0 0 430 430' width=\"258\" height=\"258\" id=\"agent_1\"><circle cx=\"215\" cy=\"215\" r=\"205\" fill=\"none\" stroke=\"black\" stroke-width=\"2\" stroke-dasharray=\"3,3\"/><circle cx=\"337\" cy=\"191\" r=\"13\" fill=\"rgb(135,135,135)\"/><circle cx=\"406\" cy=\"194\" r=\"11\" fill=\"rgb(131,131,131)\"/><circle cx=\"178\" cy=\"141\" r=\"9\" fill=\"rgb(185,185,185)\"/><circle cx=\"220\" cy=\"264\" r=\"11\" fill=\"rgb(75,75,75)\"/><circle cx=\"113\" cy=\"193\" r=\"9\" fill=\"rgb(73,73,73)\"/><circle cx=\"277\" cy=\"335\" r=\"7\" fill=\"rgb(55,55,55)\"/><circle cx=\"84\" cy=\"249\" r=\"11\" fill=\"rgb(114,114,114)\"/></svg><svg viewBox='0 0 430 430' id=\"svg\" width=\"258\" height=\"258\"><circle cx=\"215\" cy=\"215\" r=\"205\" fill=\"none\" stroke=\"black\" stroke-width=\"2\" stroke-dasharray=\"3,3\"/> <circle cx=\"337\" cy=\"191\" r=\"13\" fill=\"rgb(255,255,255)\" class=\"agent_1_19\"/><circle cx=\"406\" cy=\"194\" r=\"11\" fill=\"rgb(255,255,255)\" class=\"agent_1_28\"/><circle cx=\"178\" cy=\"141\" r=\"9\" fill=\"rgb(255,0,0)\" class=\"agent_1_35\"/><circle cx=\"220\" cy=\"264\" r=\"11\" fill=\"rgb(255,255,255)\" class=\"agent_1_36\"/><circle cx=\"113\" cy=\"193\" r=\"9\" fill=\"rgb(255,255,255)\" class=\"agent_1_38\"/><circle cx=\"277\" cy=\"335\" r=\"7\" fill=\"rgb(255,255,255)\" class=\"agent_1_41\"/><circle cx=\"84\" cy=\"249\" r=\"11\" fill=\"rgb(255,255,255)\" class=\"agent_1_64\"/></svg></div>"
      ],
      "text/plain": [
       "<IPython.core.display.HTML object>"
      ]
     },
     "metadata": {},
     "output_type": "display_data"
    },
    {
     "name": "stdout",
     "output_type": "stream",
     "text": [
      "sample 0\ti have a cluster of 3 dots . one is black and one medium grey , one small and light grey . the one on the right is the darkest and slightly larger . <eos>\n",
      "sample 1\ti have a cluster of 3 dots . one is black and one medium grey , one small , light grey . the other is a dark grey <eos>\n",
      "sample 2\ti have a line of 3 dots . the top one is black and smaller , the other is a small light grey . the top one is black <eos>\n",
      "sample 3\ti have a cluster of 3 dots . two are black , one light grey , one dark grey . <eos>\n",
      "sample 4\ti have a cluster of 3 dots , two are black and one light gray . a small grey dot <eos>\n",
      "sample 5\ti have a cluster of 3 dots . one is black and one light gray . the other is small and black . <eos>\n",
      "sample 6\ti have a cluster of 3 dots , two are black , one is light grey , one is black <eos>\n",
      "sample 7\ti have a cluster of 3 dots . one is black and one light grey . the other two are black and the other one is larger and darker <eos>\n",
      "sample 8\ti have a cluster of 3 dots . two are black , and one light grey . <eos>\n",
      "sample 9\ti have a cluster of 3 dots . the top one is black and the one on the left is light grey and the top one is black <eos>\n",
      "argmax\ti have a cluster of 3 dots . one is black and one light grey . the other is smaller and darker <eos>\n",
      "human\tline of 3 large dark gray , med black , light gray -- going up and to the right <eos>\n",
      "\n",
      "----------------------------------------\n",
      "\n",
      "human\tTHEM: i see it . click the light grey <selection>\n",
      "\n",
      "----------------------------------------\n",
      "\n"
     ]
    }
   ],
   "source": [
    "force_contexts_and_mentions(7)"
   ]
  },
  {
   "cell_type": "code",
   "execution_count": 68,
   "metadata": {
    "scrolled": false
   },
   "outputs": [
    {
     "name": "stdout",
     "output_type": "stream",
     "text": [
      "dots_mentioned_0: [0. 0. 1. 0. 0. 1. 0.]\n"
     ]
    },
    {
     "data": {
      "text/html": [
       "<div style=\"white-space: nowrap\"><svg viewbox='0 0 430 430' width=\"258\" height=\"258\" id=\"agent_1\"><circle cx=\"215\" cy=\"215\" r=\"205\" fill=\"none\" stroke=\"black\" stroke-width=\"2\" stroke-dasharray=\"3,3\"/><circle cx=\"260\" cy=\"211\" r=\"11\" fill=\"rgb(121,121,121)\"/><circle cx=\"316\" cy=\"109\" r=\"9\" fill=\"rgb(136,136,136)\"/><circle cx=\"200\" cy=\"309\" r=\"11\" fill=\"rgb(168,168,168)\"/><circle cx=\"135\" cy=\"153\" r=\"9\" fill=\"rgb(140,140,140)\"/><circle cx=\"277\" cy=\"28\" r=\"10\" fill=\"rgb(198,198,198)\"/><circle cx=\"194\" cy=\"355\" r=\"9\" fill=\"rgb(163,163,163)\"/><circle cx=\"22\" cy=\"252\" r=\"10\" fill=\"rgb(117,117,117)\"/></svg><svg viewBox='0 0 430 430' id=\"svg\" width=\"258\" height=\"258\"><circle cx=\"215\" cy=\"215\" r=\"205\" fill=\"none\" stroke=\"black\" stroke-width=\"2\" stroke-dasharray=\"3,3\"/> <circle cx=\"260\" cy=\"211\" r=\"11\" fill=\"rgb(255,255,255)\" class=\"agent_1_10\"/><circle cx=\"316\" cy=\"109\" r=\"9\" fill=\"rgb(255,255,255)\" class=\"agent_1_11\"/><circle cx=\"200\" cy=\"309\" r=\"11\" fill=\"rgb(255,0,0)\" class=\"agent_1_43\"/><circle cx=\"135\" cy=\"153\" r=\"9\" fill=\"rgb(255,255,255)\" class=\"agent_1_50\"/><circle cx=\"277\" cy=\"28\" r=\"10\" fill=\"rgb(255,255,255)\" class=\"agent_1_72\"/><circle cx=\"194\" cy=\"355\" r=\"9\" fill=\"rgb(255,0,0)\" class=\"agent_1_74\"/><circle cx=\"22\" cy=\"252\" r=\"10\" fill=\"rgb(255,255,255)\" class=\"agent_1_80\"/></svg></div>"
      ],
      "text/plain": [
       "<IPython.core.display.HTML object>"
      ]
     },
     "metadata": {},
     "output_type": "display_data"
    },
    {
     "name": "stdout",
     "output_type": "stream",
     "text": [
      "dots_mentioned_1: [0. 0. 0. 0. 0. 1. 0.]\n"
     ]
    },
    {
     "data": {
      "text/html": [
       "<div style=\"white-space: nowrap\"><svg viewbox='0 0 430 430' width=\"258\" height=\"258\" id=\"agent_1\"><circle cx=\"215\" cy=\"215\" r=\"205\" fill=\"none\" stroke=\"black\" stroke-width=\"2\" stroke-dasharray=\"3,3\"/><circle cx=\"260\" cy=\"211\" r=\"11\" fill=\"rgb(121,121,121)\"/><circle cx=\"316\" cy=\"109\" r=\"9\" fill=\"rgb(136,136,136)\"/><circle cx=\"200\" cy=\"309\" r=\"11\" fill=\"rgb(168,168,168)\"/><circle cx=\"135\" cy=\"153\" r=\"9\" fill=\"rgb(140,140,140)\"/><circle cx=\"277\" cy=\"28\" r=\"10\" fill=\"rgb(198,198,198)\"/><circle cx=\"194\" cy=\"355\" r=\"9\" fill=\"rgb(163,163,163)\"/><circle cx=\"22\" cy=\"252\" r=\"10\" fill=\"rgb(117,117,117)\"/></svg><svg viewBox='0 0 430 430' id=\"svg\" width=\"258\" height=\"258\"><circle cx=\"215\" cy=\"215\" r=\"205\" fill=\"none\" stroke=\"black\" stroke-width=\"2\" stroke-dasharray=\"3,3\"/> <circle cx=\"260\" cy=\"211\" r=\"11\" fill=\"rgb(255,255,255)\" class=\"agent_1_10\"/><circle cx=\"316\" cy=\"109\" r=\"9\" fill=\"rgb(255,255,255)\" class=\"agent_1_11\"/><circle cx=\"200\" cy=\"309\" r=\"11\" fill=\"rgb(255,255,255)\" class=\"agent_1_43\"/><circle cx=\"135\" cy=\"153\" r=\"9\" fill=\"rgb(255,255,255)\" class=\"agent_1_50\"/><circle cx=\"277\" cy=\"28\" r=\"10\" fill=\"rgb(255,255,255)\" class=\"agent_1_72\"/><circle cx=\"194\" cy=\"355\" r=\"9\" fill=\"rgb(255,0,0)\" class=\"agent_1_74\"/><circle cx=\"22\" cy=\"252\" r=\"10\" fill=\"rgb(255,255,255)\" class=\"agent_1_80\"/></svg></div>"
      ],
      "text/plain": [
       "<IPython.core.display.HTML object>"
      ]
     },
     "metadata": {},
     "output_type": "display_data"
    },
    {
     "name": "stdout",
     "output_type": "stream",
     "text": [
      "sample 0\ti see two dots that are similar in size and color . they are both medium grey <eos>\n",
      "sample 1\ti have two dots very close together . they are both light grey <eos>\n",
      "sample 2\ti have two dots very close together . they are both similar shades of grey <eos>\n",
      "sample 3\ti have two dots very close together . they are both medium grey <eos>\n",
      "sample 4\tdo you see two dots close to each other ? <eos>\n",
      "sample 5\ti see two dots very close together . they are both similar shades of grey <eos>\n",
      "sample 6\ti have two dots that are similar in size and color . they are both medium grey . <eos>\n",
      "sample 7\ti have two dots very close together . they are both similar shades of grey <eos>\n",
      "sample 8\ti have two dots very close together . they are both similar shades of grey . <eos>\n",
      "sample 9\ti see two dots very close together . they are both medium grey <eos>\n",
      "argmax\ti have two dots very close together . they are both similar shades of grey <eos>\n",
      "human\ttwo dots same color , almost vertical , lower one is slightly smaller <eos>\n",
      "\n",
      "----------------------------------------\n",
      "\n",
      "human\tTHEM: is the lower one slightly to the left ? <eos>\n",
      "\n",
      "----------------------------------------\n",
      "\n",
      "sample 0\tyes <eos>\n",
      "sample 1\tyes <eos>\n",
      "sample 2\tyes <eos>\n",
      "sample 3\tyes <eos>\n",
      "sample 4\tyes <eos>\n",
      "sample 5\tyes <eos>\n",
      "sample 6\tyes <eos>\n",
      "sample 7\tyes <eos>\n",
      "sample 8\tyes <eos>\n",
      "sample 9\tyes <eos>\n",
      "argmax\tyes <eos>\n",
      "human\tyes <eos>\n",
      "\n",
      "----------------------------------------\n",
      "\n",
      "human\tTHEM: ok , let 's pick the lower one <selection>\n",
      "\n",
      "----------------------------------------\n",
      "\n"
     ]
    }
   ],
   "source": [
    "force_contexts_and_mentions(8)"
   ]
  },
  {
   "cell_type": "code",
   "execution_count": 69,
   "metadata": {
    "scrolled": false
   },
   "outputs": [
    {
     "name": "stdout",
     "output_type": "stream",
     "text": [
      "human\tTHEM: do you see a tiny grey dot above and to the left of a larger , slightly darker one ? <eos>\n",
      "\n",
      "----------------------------------------\n",
      "\n",
      "dots_mentioned_0: [1. 0. 0. 0. 0. 0. 0.]\n"
     ]
    },
    {
     "data": {
      "text/html": [
       "<div style=\"white-space: nowrap\"><svg viewbox='0 0 430 430' width=\"258\" height=\"258\" id=\"agent_1\"><circle cx=\"215\" cy=\"215\" r=\"205\" fill=\"none\" stroke=\"black\" stroke-width=\"2\" stroke-dasharray=\"3,3\"/><circle cx=\"393\" cy=\"152\" r=\"7\" fill=\"rgb(155,155,155)\"/><circle cx=\"379\" cy=\"323\" r=\"11\" fill=\"rgb(115,115,115)\"/><circle cx=\"313\" cy=\"150\" r=\"12\" fill=\"rgb(145,145,145)\"/><circle cx=\"335\" cy=\"211\" r=\"11\" fill=\"rgb(177,177,177)\"/><circle cx=\"190\" cy=\"304\" r=\"13\" fill=\"rgb(170,170,170)\"/><circle cx=\"346\" cy=\"74\" r=\"10\" fill=\"rgb(85,85,85)\"/><circle cx=\"81\" cy=\"143\" r=\"11\" fill=\"rgb(163,163,163)\"/></svg><svg viewBox='0 0 430 430' id=\"svg\" width=\"258\" height=\"258\"><circle cx=\"215\" cy=\"215\" r=\"205\" fill=\"none\" stroke=\"black\" stroke-width=\"2\" stroke-dasharray=\"3,3\"/> <circle cx=\"393\" cy=\"152\" r=\"7\" fill=\"rgb(255,0,0)\" class=\"agent_1_23\"/><circle cx=\"379\" cy=\"323\" r=\"11\" fill=\"rgb(255,255,255)\" class=\"agent_1_28\"/><circle cx=\"313\" cy=\"150\" r=\"12\" fill=\"rgb(255,255,255)\" class=\"agent_1_29\"/><circle cx=\"335\" cy=\"211\" r=\"11\" fill=\"rgb(255,255,255)\" class=\"agent_1_35\"/><circle cx=\"190\" cy=\"304\" r=\"13\" fill=\"rgb(255,255,255)\" class=\"agent_1_47\"/><circle cx=\"346\" cy=\"74\" r=\"10\" fill=\"rgb(255,255,255)\" class=\"agent_1_67\"/><circle cx=\"81\" cy=\"143\" r=\"11\" fill=\"rgb(255,255,255)\" class=\"agent_1_74\"/></svg></div>"
      ],
      "text/plain": [
       "<IPython.core.display.HTML object>"
      ]
     },
     "metadata": {},
     "output_type": "display_data"
    },
    {
     "name": "stdout",
     "output_type": "stream",
     "text": [
      "dots_mentioned_1: [1. 1. 1. 1. 1. 1. 1.]\n"
     ]
    },
    {
     "data": {
      "text/html": [
       "<div style=\"white-space: nowrap\"><svg viewbox='0 0 430 430' width=\"258\" height=\"258\" id=\"agent_1\"><circle cx=\"215\" cy=\"215\" r=\"205\" fill=\"none\" stroke=\"black\" stroke-width=\"2\" stroke-dasharray=\"3,3\"/><circle cx=\"393\" cy=\"152\" r=\"7\" fill=\"rgb(155,155,155)\"/><circle cx=\"379\" cy=\"323\" r=\"11\" fill=\"rgb(115,115,115)\"/><circle cx=\"313\" cy=\"150\" r=\"12\" fill=\"rgb(145,145,145)\"/><circle cx=\"335\" cy=\"211\" r=\"11\" fill=\"rgb(177,177,177)\"/><circle cx=\"190\" cy=\"304\" r=\"13\" fill=\"rgb(170,170,170)\"/><circle cx=\"346\" cy=\"74\" r=\"10\" fill=\"rgb(85,85,85)\"/><circle cx=\"81\" cy=\"143\" r=\"11\" fill=\"rgb(163,163,163)\"/></svg><svg viewBox='0 0 430 430' id=\"svg\" width=\"258\" height=\"258\"><circle cx=\"215\" cy=\"215\" r=\"205\" fill=\"none\" stroke=\"black\" stroke-width=\"2\" stroke-dasharray=\"3,3\"/> <circle cx=\"393\" cy=\"152\" r=\"7\" fill=\"rgb(255,0,0)\" class=\"agent_1_23\"/><circle cx=\"379\" cy=\"323\" r=\"11\" fill=\"rgb(255,0,0)\" class=\"agent_1_28\"/><circle cx=\"313\" cy=\"150\" r=\"12\" fill=\"rgb(255,0,0)\" class=\"agent_1_29\"/><circle cx=\"335\" cy=\"211\" r=\"11\" fill=\"rgb(255,0,0)\" class=\"agent_1_35\"/><circle cx=\"190\" cy=\"304\" r=\"13\" fill=\"rgb(255,0,0)\" class=\"agent_1_47\"/><circle cx=\"346\" cy=\"74\" r=\"10\" fill=\"rgb(255,0,0)\" class=\"agent_1_67\"/><circle cx=\"81\" cy=\"143\" r=\"11\" fill=\"rgb(255,0,0)\" class=\"agent_1_74\"/></svg></div>"
      ],
      "text/plain": [
       "<IPython.core.display.HTML object>"
      ]
     },
     "metadata": {},
     "output_type": "display_data"
    },
    {
     "name": "stdout",
     "output_type": "stream",
     "text": [
      "dots_mentioned_2: [1. 0. 0. 0. 0. 0. 0.]\n"
     ]
    },
    {
     "data": {
      "text/html": [
       "<div style=\"white-space: nowrap\"><svg viewbox='0 0 430 430' width=\"258\" height=\"258\" id=\"agent_1\"><circle cx=\"215\" cy=\"215\" r=\"205\" fill=\"none\" stroke=\"black\" stroke-width=\"2\" stroke-dasharray=\"3,3\"/><circle cx=\"393\" cy=\"152\" r=\"7\" fill=\"rgb(155,155,155)\"/><circle cx=\"379\" cy=\"323\" r=\"11\" fill=\"rgb(115,115,115)\"/><circle cx=\"313\" cy=\"150\" r=\"12\" fill=\"rgb(145,145,145)\"/><circle cx=\"335\" cy=\"211\" r=\"11\" fill=\"rgb(177,177,177)\"/><circle cx=\"190\" cy=\"304\" r=\"13\" fill=\"rgb(170,170,170)\"/><circle cx=\"346\" cy=\"74\" r=\"10\" fill=\"rgb(85,85,85)\"/><circle cx=\"81\" cy=\"143\" r=\"11\" fill=\"rgb(163,163,163)\"/></svg><svg viewBox='0 0 430 430' id=\"svg\" width=\"258\" height=\"258\"><circle cx=\"215\" cy=\"215\" r=\"205\" fill=\"none\" stroke=\"black\" stroke-width=\"2\" stroke-dasharray=\"3,3\"/> <circle cx=\"393\" cy=\"152\" r=\"7\" fill=\"rgb(255,0,0)\" class=\"agent_1_23\"/><circle cx=\"379\" cy=\"323\" r=\"11\" fill=\"rgb(255,255,255)\" class=\"agent_1_28\"/><circle cx=\"313\" cy=\"150\" r=\"12\" fill=\"rgb(255,255,255)\" class=\"agent_1_29\"/><circle cx=\"335\" cy=\"211\" r=\"11\" fill=\"rgb(255,255,255)\" class=\"agent_1_35\"/><circle cx=\"190\" cy=\"304\" r=\"13\" fill=\"rgb(255,255,255)\" class=\"agent_1_47\"/><circle cx=\"346\" cy=\"74\" r=\"10\" fill=\"rgb(255,255,255)\" class=\"agent_1_67\"/><circle cx=\"81\" cy=\"143\" r=\"11\" fill=\"rgb(255,255,255)\" class=\"agent_1_74\"/></svg></div>"
      ],
      "text/plain": [
       "<IPython.core.display.HTML object>"
      ]
     },
     "metadata": {},
     "output_type": "display_data"
    },
    {
     "name": "stdout",
     "output_type": "stream",
     "text": [
      "sample 0\tyes , i have that . is there a small dark grey dot to the right of the other dots ? <eos>\n",
      "sample 1\ti have a tiny light gray dot that is to the right and above a large dark grey dot <eos>\n",
      "sample 2\tno . i have a small light gray dot in the middle of 4 other dots . i have a cluster of 4 dots <eos>\n",
      "sample 3\ti have a small gray dot by itself and a very large light grey dot to the right of those <eos>\n",
      "sample 4\tyes i see that . is there a small dot of the same size to the right of it ? <eos>\n",
      "sample 5\tyes i have that one . is there a large dark grey dot to the right of them ? <eos>\n",
      "sample 6\ti have a small light grey dot , all of my dots are large and light gray . do you have a large dark grey dot in the middle of the circle ? <eos>\n",
      "sample 7\ti see a small grey dot on the right side of the circle . there is a large dark grey dot to the right of it <eos>\n",
      "sample 8\ti have a small grey dot that is the lightest of all the rest are the darkest and medium size <eos>\n",
      "sample 9\ti have one small light gray dot in the middle of the other dots . i have a large dark dot at the top of my circle . <eos>\n",
      "argmax\ti have a small grey dot in the middle of the circle , two large dots the other dots are light grey <eos>\n",
      "human\ti have 1 smallest circle out of the bunch and it 's on the right edge of the circle <eos>\n",
      "\n",
      "----------------------------------------\n",
      "\n",
      "human\tTHEM: the edge is going to be different for us . what is the closest dot to your smallest circle ? <eos>\n",
      "\n",
      "----------------------------------------\n",
      "\n",
      "dots_mentioned_0: [0. 0. 1. 1. 0. 0. 0.]\n"
     ]
    },
    {
     "data": {
      "text/html": [
       "<div style=\"white-space: nowrap\"><svg viewbox='0 0 430 430' width=\"258\" height=\"258\" id=\"agent_1\"><circle cx=\"215\" cy=\"215\" r=\"205\" fill=\"none\" stroke=\"black\" stroke-width=\"2\" stroke-dasharray=\"3,3\"/><circle cx=\"393\" cy=\"152\" r=\"7\" fill=\"rgb(155,155,155)\"/><circle cx=\"379\" cy=\"323\" r=\"11\" fill=\"rgb(115,115,115)\"/><circle cx=\"313\" cy=\"150\" r=\"12\" fill=\"rgb(145,145,145)\"/><circle cx=\"335\" cy=\"211\" r=\"11\" fill=\"rgb(177,177,177)\"/><circle cx=\"190\" cy=\"304\" r=\"13\" fill=\"rgb(170,170,170)\"/><circle cx=\"346\" cy=\"74\" r=\"10\" fill=\"rgb(85,85,85)\"/><circle cx=\"81\" cy=\"143\" r=\"11\" fill=\"rgb(163,163,163)\"/></svg><svg viewBox='0 0 430 430' id=\"svg\" width=\"258\" height=\"258\"><circle cx=\"215\" cy=\"215\" r=\"205\" fill=\"none\" stroke=\"black\" stroke-width=\"2\" stroke-dasharray=\"3,3\"/> <circle cx=\"393\" cy=\"152\" r=\"7\" fill=\"rgb(255,255,255)\" class=\"agent_1_23\"/><circle cx=\"379\" cy=\"323\" r=\"11\" fill=\"rgb(255,255,255)\" class=\"agent_1_28\"/><circle cx=\"313\" cy=\"150\" r=\"12\" fill=\"rgb(255,0,0)\" class=\"agent_1_29\"/><circle cx=\"335\" cy=\"211\" r=\"11\" fill=\"rgb(255,0,0)\" class=\"agent_1_35\"/><circle cx=\"190\" cy=\"304\" r=\"13\" fill=\"rgb(255,255,255)\" class=\"agent_1_47\"/><circle cx=\"346\" cy=\"74\" r=\"10\" fill=\"rgb(255,255,255)\" class=\"agent_1_67\"/><circle cx=\"81\" cy=\"143\" r=\"11\" fill=\"rgb(255,255,255)\" class=\"agent_1_74\"/></svg></div>"
      ],
      "text/plain": [
       "<IPython.core.display.HTML object>"
      ]
     },
     "metadata": {},
     "output_type": "display_data"
    },
    {
     "name": "stdout",
     "output_type": "stream",
     "text": [
      "dots_mentioned_1: [1. 0. 0. 0. 0. 0. 0.]\n"
     ]
    },
    {
     "data": {
      "text/html": [
       "<div style=\"white-space: nowrap\"><svg viewbox='0 0 430 430' width=\"258\" height=\"258\" id=\"agent_1\"><circle cx=\"215\" cy=\"215\" r=\"205\" fill=\"none\" stroke=\"black\" stroke-width=\"2\" stroke-dasharray=\"3,3\"/><circle cx=\"393\" cy=\"152\" r=\"7\" fill=\"rgb(155,155,155)\"/><circle cx=\"379\" cy=\"323\" r=\"11\" fill=\"rgb(115,115,115)\"/><circle cx=\"313\" cy=\"150\" r=\"12\" fill=\"rgb(145,145,145)\"/><circle cx=\"335\" cy=\"211\" r=\"11\" fill=\"rgb(177,177,177)\"/><circle cx=\"190\" cy=\"304\" r=\"13\" fill=\"rgb(170,170,170)\"/><circle cx=\"346\" cy=\"74\" r=\"10\" fill=\"rgb(85,85,85)\"/><circle cx=\"81\" cy=\"143\" r=\"11\" fill=\"rgb(163,163,163)\"/></svg><svg viewBox='0 0 430 430' id=\"svg\" width=\"258\" height=\"258\"><circle cx=\"215\" cy=\"215\" r=\"205\" fill=\"none\" stroke=\"black\" stroke-width=\"2\" stroke-dasharray=\"3,3\"/> <circle cx=\"393\" cy=\"152\" r=\"7\" fill=\"rgb(255,0,0)\" class=\"agent_1_23\"/><circle cx=\"379\" cy=\"323\" r=\"11\" fill=\"rgb(255,255,255)\" class=\"agent_1_28\"/><circle cx=\"313\" cy=\"150\" r=\"12\" fill=\"rgb(255,255,255)\" class=\"agent_1_29\"/><circle cx=\"335\" cy=\"211\" r=\"11\" fill=\"rgb(255,255,255)\" class=\"agent_1_35\"/><circle cx=\"190\" cy=\"304\" r=\"13\" fill=\"rgb(255,255,255)\" class=\"agent_1_47\"/><circle cx=\"346\" cy=\"74\" r=\"10\" fill=\"rgb(255,255,255)\" class=\"agent_1_67\"/><circle cx=\"81\" cy=\"143\" r=\"11\" fill=\"rgb(255,255,255)\" class=\"agent_1_74\"/></svg></div>"
      ],
      "text/plain": [
       "<IPython.core.display.HTML object>"
      ]
     },
     "metadata": {},
     "output_type": "display_data"
    },
    {
     "name": "stdout",
     "output_type": "stream",
     "text": [
      "dots_mentioned_2: [0. 0. 0. 0. 0. 1. 0.]\n"
     ]
    },
    {
     "data": {
      "text/html": [
       "<div style=\"white-space: nowrap\"><svg viewbox='0 0 430 430' width=\"258\" height=\"258\" id=\"agent_1\"><circle cx=\"215\" cy=\"215\" r=\"205\" fill=\"none\" stroke=\"black\" stroke-width=\"2\" stroke-dasharray=\"3,3\"/><circle cx=\"393\" cy=\"152\" r=\"7\" fill=\"rgb(155,155,155)\"/><circle cx=\"379\" cy=\"323\" r=\"11\" fill=\"rgb(115,115,115)\"/><circle cx=\"313\" cy=\"150\" r=\"12\" fill=\"rgb(145,145,145)\"/><circle cx=\"335\" cy=\"211\" r=\"11\" fill=\"rgb(177,177,177)\"/><circle cx=\"190\" cy=\"304\" r=\"13\" fill=\"rgb(170,170,170)\"/><circle cx=\"346\" cy=\"74\" r=\"10\" fill=\"rgb(85,85,85)\"/><circle cx=\"81\" cy=\"143\" r=\"11\" fill=\"rgb(163,163,163)\"/></svg><svg viewBox='0 0 430 430' id=\"svg\" width=\"258\" height=\"258\"><circle cx=\"215\" cy=\"215\" r=\"205\" fill=\"none\" stroke=\"black\" stroke-width=\"2\" stroke-dasharray=\"3,3\"/> <circle cx=\"393\" cy=\"152\" r=\"7\" fill=\"rgb(255,255,255)\" class=\"agent_1_23\"/><circle cx=\"379\" cy=\"323\" r=\"11\" fill=\"rgb(255,255,255)\" class=\"agent_1_28\"/><circle cx=\"313\" cy=\"150\" r=\"12\" fill=\"rgb(255,255,255)\" class=\"agent_1_29\"/><circle cx=\"335\" cy=\"211\" r=\"11\" fill=\"rgb(255,255,255)\" class=\"agent_1_35\"/><circle cx=\"190\" cy=\"304\" r=\"13\" fill=\"rgb(255,255,255)\" class=\"agent_1_47\"/><circle cx=\"346\" cy=\"74\" r=\"10\" fill=\"rgb(255,0,0)\" class=\"agent_1_67\"/><circle cx=\"81\" cy=\"143\" r=\"11\" fill=\"rgb(255,255,255)\" class=\"agent_1_74\"/></svg></div>"
      ],
      "text/plain": [
       "<IPython.core.display.HTML object>"
      ]
     },
     "metadata": {},
     "output_type": "display_data"
    },
    {
     "name": "stdout",
     "output_type": "stream",
     "text": [
      "dots_mentioned_3: [1. 0. 0. 0. 0. 0. 0.]\n"
     ]
    },
    {
     "data": {
      "text/html": [
       "<div style=\"white-space: nowrap\"><svg viewbox='0 0 430 430' width=\"258\" height=\"258\" id=\"agent_1\"><circle cx=\"215\" cy=\"215\" r=\"205\" fill=\"none\" stroke=\"black\" stroke-width=\"2\" stroke-dasharray=\"3,3\"/><circle cx=\"393\" cy=\"152\" r=\"7\" fill=\"rgb(155,155,155)\"/><circle cx=\"379\" cy=\"323\" r=\"11\" fill=\"rgb(115,115,115)\"/><circle cx=\"313\" cy=\"150\" r=\"12\" fill=\"rgb(145,145,145)\"/><circle cx=\"335\" cy=\"211\" r=\"11\" fill=\"rgb(177,177,177)\"/><circle cx=\"190\" cy=\"304\" r=\"13\" fill=\"rgb(170,170,170)\"/><circle cx=\"346\" cy=\"74\" r=\"10\" fill=\"rgb(85,85,85)\"/><circle cx=\"81\" cy=\"143\" r=\"11\" fill=\"rgb(163,163,163)\"/></svg><svg viewBox='0 0 430 430' id=\"svg\" width=\"258\" height=\"258\"><circle cx=\"215\" cy=\"215\" r=\"205\" fill=\"none\" stroke=\"black\" stroke-width=\"2\" stroke-dasharray=\"3,3\"/> <circle cx=\"393\" cy=\"152\" r=\"7\" fill=\"rgb(255,0,0)\" class=\"agent_1_23\"/><circle cx=\"379\" cy=\"323\" r=\"11\" fill=\"rgb(255,255,255)\" class=\"agent_1_28\"/><circle cx=\"313\" cy=\"150\" r=\"12\" fill=\"rgb(255,255,255)\" class=\"agent_1_29\"/><circle cx=\"335\" cy=\"211\" r=\"11\" fill=\"rgb(255,255,255)\" class=\"agent_1_35\"/><circle cx=\"190\" cy=\"304\" r=\"13\" fill=\"rgb(255,255,255)\" class=\"agent_1_47\"/><circle cx=\"346\" cy=\"74\" r=\"10\" fill=\"rgb(255,255,255)\" class=\"agent_1_67\"/><circle cx=\"81\" cy=\"143\" r=\"11\" fill=\"rgb(255,255,255)\" class=\"agent_1_74\"/></svg></div>"
      ],
      "text/plain": [
       "<IPython.core.display.HTML object>"
      ]
     },
     "metadata": {},
     "output_type": "display_data"
    },
    {
     "name": "stdout",
     "output_type": "stream",
     "text": [
      "sample 0\ti have two dots that are almost in a vertical line . the one on the left is larger and lighter than the one on the right <eos>\n",
      "sample 1\ti have a light gray dot that is on the left side of the circle . there is a medium grey dot above it and to the left a little <eos>\n",
      "sample 2\ti have a light gray dot , it is a small dark gray dot . and there is a larger dark grey dot to the right of it <eos>\n",
      "sample 3\ti have a light gray dot , and a large grey dot to the right of it . i do have a medium black dot <eos>\n",
      "sample 4\ti have a small light dot at the top of the circle , there is a dark grey dot above it and a medium grey to the right of it <eos>\n",
      "sample 5\tyes , i have a small light gray dot , and a large dark grey dot , and a medium gray dot that is a little larger . <eos>\n",
      "sample 6\ti have one that is medium gray , and to the right of it is a smaller dark dot . and above that is a small grey dot <eos>\n",
      "sample 7\ti have a small light grey dot that is to the left and above a black dot and a medium gray dot . <eos>\n",
      "sample 8\ti have a small light gray dot , with a small dark grey dot above it and a large light grey dot to the left and slightly above it <eos>\n",
      "sample 9\ti have a small light gray dot . above and to the right of it is a dark grey dot , and to the right is a medium gray dot . <eos>\n",
      "argmax\ti have a small light grey dot , and a large dark grey dot , and a medium gray dot that is a little larger than the other dots <eos>\n",
      "human\t2 large light and medium light on its left , and 1 medium grey above it <eos>\n",
      "\n",
      "----------------------------------------\n",
      "\n",
      "human\tTHEM: yeah i think . lets click on the small one <selection>\n",
      "\n",
      "----------------------------------------\n",
      "\n"
     ]
    }
   ],
   "source": [
    "force_contexts_and_mentions(9)"
   ]
  },
  {
   "cell_type": "code",
   "execution_count": 70,
   "metadata": {
    "scrolled": false
   },
   "outputs": [
    {
     "name": "stdout",
     "output_type": "stream",
     "text": [
      "human\tTHEM: lone medium dark black dot near 2 oclock <eos>\n",
      "\n",
      "----------------------------------------\n",
      "\n",
      "dots_mentioned_0: [0. 0. 1. 0. 0. 0. 0.]\n"
     ]
    },
    {
     "data": {
      "text/html": [
       "<div style=\"white-space: nowrap\"><svg viewbox='0 0 430 430' width=\"258\" height=\"258\" id=\"agent_1\"><circle cx=\"215\" cy=\"215\" r=\"205\" fill=\"none\" stroke=\"black\" stroke-width=\"2\" stroke-dasharray=\"3,3\"/><circle cx=\"93\" cy=\"329\" r=\"11\" fill=\"rgb(159,159,159)\"/><circle cx=\"40\" cy=\"221\" r=\"12\" fill=\"rgb(121,121,121)\"/><circle cx=\"249\" cy=\"209\" r=\"11\" fill=\"rgb(88,88,88)\"/><circle cx=\"104\" cy=\"129\" r=\"9\" fill=\"rgb(78,78,78)\"/><circle cx=\"139\" cy=\"381\" r=\"7\" fill=\"rgb(179,179,179)\"/><circle cx=\"188\" cy=\"99\" r=\"10\" fill=\"rgb(87,87,87)\"/><circle cx=\"349\" cy=\"191\" r=\"9\" fill=\"rgb(191,191,191)\"/></svg><svg viewBox='0 0 430 430' id=\"svg\" width=\"258\" height=\"258\"><circle cx=\"215\" cy=\"215\" r=\"205\" fill=\"none\" stroke=\"black\" stroke-width=\"2\" stroke-dasharray=\"3,3\"/> <circle cx=\"93\" cy=\"329\" r=\"11\" fill=\"rgb(255,255,255)\" class=\"agent_1_1\"/><circle cx=\"40\" cy=\"221\" r=\"12\" fill=\"rgb(255,255,255)\" class=\"agent_1_17\"/><circle cx=\"249\" cy=\"209\" r=\"11\" fill=\"rgb(255,0,0)\" class=\"agent_1_30\"/><circle cx=\"104\" cy=\"129\" r=\"9\" fill=\"rgb(255,255,255)\" class=\"agent_1_32\"/><circle cx=\"139\" cy=\"381\" r=\"7\" fill=\"rgb(255,255,255)\" class=\"agent_1_66\"/><circle cx=\"188\" cy=\"99\" r=\"10\" fill=\"rgb(255,255,255)\" class=\"agent_1_72\"/><circle cx=\"349\" cy=\"191\" r=\"9\" fill=\"rgb(255,255,255)\" class=\"agent_1_76\"/></svg></div>"
      ],
      "text/plain": [
       "<IPython.core.display.HTML object>"
      ]
     },
     "metadata": {},
     "output_type": "display_data"
    },
    {
     "name": "stdout",
     "output_type": "stream",
     "text": [
      "sample 0\ti have a large black dot at the top <eos>\n",
      "sample 1\ti have a large black dot at the bottom <eos>\n",
      "sample 2\tyes i do , let 's click that one . <eos>\n",
      "sample 3\tyes , lets pick that one <selection>\n",
      "sample 4\ti have a large black dot at the top <eos>\n",
      "sample 5\tyes , lets choose it <selection>\n",
      "sample 6\tyes , i have that one <eos>\n",
      "sample 7\ti have a medium black dot at the top <eos>\n",
      "sample 8\ti have a large black dot at the top <eos>\n",
      "sample 9\tyes , i have that one <eos>\n",
      "argmax\ti have a large black dot at the top <eos>\n",
      "human\tah yes it is a little more center for me but <unk> very alone ? <eos>\n",
      "\n",
      "----------------------------------------\n",
      "\n",
      "human\tTHEM: ok lets try it <selection>\n",
      "\n",
      "----------------------------------------\n",
      "\n"
     ]
    }
   ],
   "source": [
    "force_contexts_and_mentions(10)"
   ]
  },
  {
   "cell_type": "code",
   "execution_count": 71,
   "metadata": {
    "scrolled": false
   },
   "outputs": [
    {
     "name": "stdout",
     "output_type": "stream",
     "text": [
      "human\tTHEM: dark large dot on 3 o'clock <eos>\n",
      "\n",
      "----------------------------------------\n",
      "\n",
      "dots_mentioned_0: [0. 0. 0. 0. 1. 0. 0.]\n"
     ]
    },
    {
     "data": {
      "text/html": [
       "<div style=\"white-space: nowrap\"><svg viewbox='0 0 430 430' width=\"258\" height=\"258\" id=\"agent_1\"><circle cx=\"215\" cy=\"215\" r=\"205\" fill=\"none\" stroke=\"black\" stroke-width=\"2\" stroke-dasharray=\"3,3\"/><circle cx=\"256\" cy=\"373\" r=\"8\" fill=\"rgb(193,193,193)\"/><circle cx=\"60\" cy=\"255\" r=\"8\" fill=\"rgb(84,84,84)\"/><circle cx=\"298\" cy=\"52\" r=\"7\" fill=\"rgb(104,104,104)\"/><circle cx=\"335\" cy=\"252\" r=\"8\" fill=\"rgb(159,159,159)\"/><circle cx=\"216\" cy=\"200\" r=\"11\" fill=\"rgb(177,177,177)\"/><circle cx=\"196\" cy=\"230\" r=\"9\" fill=\"rgb(118,118,118)\"/><circle cx=\"96\" cy=\"139\" r=\"10\" fill=\"rgb(146,146,146)\"/></svg><svg viewBox='0 0 430 430' id=\"svg\" width=\"258\" height=\"258\"><circle cx=\"215\" cy=\"215\" r=\"205\" fill=\"none\" stroke=\"black\" stroke-width=\"2\" stroke-dasharray=\"3,3\"/> <circle cx=\"256\" cy=\"373\" r=\"8\" fill=\"rgb(255,255,255)\" class=\"agent_1_10\"/><circle cx=\"60\" cy=\"255\" r=\"8\" fill=\"rgb(255,255,255)\" class=\"agent_1_14\"/><circle cx=\"298\" cy=\"52\" r=\"7\" fill=\"rgb(255,255,255)\" class=\"agent_1_27\"/><circle cx=\"335\" cy=\"252\" r=\"8\" fill=\"rgb(255,255,255)\" class=\"agent_1_48\"/><circle cx=\"216\" cy=\"200\" r=\"11\" fill=\"rgb(255,0,0)\" class=\"agent_1_53\"/><circle cx=\"196\" cy=\"230\" r=\"9\" fill=\"rgb(255,255,255)\" class=\"agent_1_61\"/><circle cx=\"96\" cy=\"139\" r=\"10\" fill=\"rgb(255,255,255)\" class=\"agent_1_69\"/></svg></div>"
      ],
      "text/plain": [
       "<IPython.core.display.HTML object>"
      ]
     },
     "metadata": {},
     "output_type": "display_data"
    },
    {
     "name": "stdout",
     "output_type": "stream",
     "text": [
      "sample 0\ti have a large light grey dot at the bottom <eos>\n",
      "sample 1\ti have a large light gray dot at the bottom <eos>\n",
      "sample 2\ti have a large gray dot at the top <eos>\n",
      "sample 3\ti have a large light gray dot on the left side <eos>\n",
      "sample 4\ti have a large light gray dot at the bottom <eos>\n",
      "sample 5\ti have a large light grey dot at the top <eos>\n",
      "sample 6\tyes , it is in the middle <eos>\n",
      "sample 7\tyes , the light gray is to the right and below ? <eos>\n",
      "sample 8\ti have a large light grey dot at the top <eos>\n",
      "sample 9\ti see a large light grey dot on the right side <eos>\n",
      "argmax\ti have a large light gray dot at the top <eos>\n",
      "human\tlarge gray dot in the center <eos>\n",
      "\n",
      "----------------------------------------\n",
      "\n",
      "human\tTHEM: nope light large gray dot on 7 o'clock with smaller gray dot more toward the border also on 7 oclock <eos>\n",
      "\n",
      "----------------------------------------\n",
      "\n",
      "dots_mentioned_0: [0. 0. 1. 0. 0. 0. 0.]\n"
     ]
    },
    {
     "data": {
      "text/html": [
       "<div style=\"white-space: nowrap\"><svg viewbox='0 0 430 430' width=\"258\" height=\"258\" id=\"agent_1\"><circle cx=\"215\" cy=\"215\" r=\"205\" fill=\"none\" stroke=\"black\" stroke-width=\"2\" stroke-dasharray=\"3,3\"/><circle cx=\"256\" cy=\"373\" r=\"8\" fill=\"rgb(193,193,193)\"/><circle cx=\"60\" cy=\"255\" r=\"8\" fill=\"rgb(84,84,84)\"/><circle cx=\"298\" cy=\"52\" r=\"7\" fill=\"rgb(104,104,104)\"/><circle cx=\"335\" cy=\"252\" r=\"8\" fill=\"rgb(159,159,159)\"/><circle cx=\"216\" cy=\"200\" r=\"11\" fill=\"rgb(177,177,177)\"/><circle cx=\"196\" cy=\"230\" r=\"9\" fill=\"rgb(118,118,118)\"/><circle cx=\"96\" cy=\"139\" r=\"10\" fill=\"rgb(146,146,146)\"/></svg><svg viewBox='0 0 430 430' id=\"svg\" width=\"258\" height=\"258\"><circle cx=\"215\" cy=\"215\" r=\"205\" fill=\"none\" stroke=\"black\" stroke-width=\"2\" stroke-dasharray=\"3,3\"/> <circle cx=\"256\" cy=\"373\" r=\"8\" fill=\"rgb(255,255,255)\" class=\"agent_1_10\"/><circle cx=\"60\" cy=\"255\" r=\"8\" fill=\"rgb(255,255,255)\" class=\"agent_1_14\"/><circle cx=\"298\" cy=\"52\" r=\"7\" fill=\"rgb(255,0,0)\" class=\"agent_1_27\"/><circle cx=\"335\" cy=\"252\" r=\"8\" fill=\"rgb(255,255,255)\" class=\"agent_1_48\"/><circle cx=\"216\" cy=\"200\" r=\"11\" fill=\"rgb(255,255,255)\" class=\"agent_1_53\"/><circle cx=\"196\" cy=\"230\" r=\"9\" fill=\"rgb(255,255,255)\" class=\"agent_1_61\"/><circle cx=\"96\" cy=\"139\" r=\"10\" fill=\"rgb(255,255,255)\" class=\"agent_1_69\"/></svg></div>"
      ],
      "text/plain": [
       "<IPython.core.display.HTML object>"
      ]
     },
     "metadata": {},
     "output_type": "display_data"
    },
    {
     "name": "stdout",
     "output_type": "stream",
     "text": [
      "sample 0\tyes , i have that one <eos>\n",
      "sample 1\ti have a small dark dot on the left side <eos>\n",
      "sample 2\ti see that one <eos>\n",
      "sample 3\ti have a small dark dot at the bottom <eos>\n",
      "sample 4\ti have a small dark dot at the top <eos>\n",
      "sample 5\ti have a small black dot <eos>\n",
      "sample 6\ti have a small black dot at the top of the circle <eos>\n",
      "sample 7\ti have a small black dot <eos>\n",
      "sample 8\ti have a small dark dot at 10 o clock <eos>\n",
      "sample 9\tyes i do , i think i have that one <eos>\n",
      "argmax\ti have a small black dot at the top <eos>\n",
      "human\tno . small dark dot at about 2 o'clock <eos>\n",
      "\n",
      "----------------------------------------\n",
      "\n",
      "human\tTHEM: i see tiny dark dot but about 1 oclock <eos>\n",
      "\n",
      "----------------------------------------\n",
      "\n",
      "dots_mentioned_0: [0. 0. 1. 0. 0. 0. 0.]\n"
     ]
    },
    {
     "data": {
      "text/html": [
       "<div style=\"white-space: nowrap\"><svg viewbox='0 0 430 430' width=\"258\" height=\"258\" id=\"agent_1\"><circle cx=\"215\" cy=\"215\" r=\"205\" fill=\"none\" stroke=\"black\" stroke-width=\"2\" stroke-dasharray=\"3,3\"/><circle cx=\"256\" cy=\"373\" r=\"8\" fill=\"rgb(193,193,193)\"/><circle cx=\"60\" cy=\"255\" r=\"8\" fill=\"rgb(84,84,84)\"/><circle cx=\"298\" cy=\"52\" r=\"7\" fill=\"rgb(104,104,104)\"/><circle cx=\"335\" cy=\"252\" r=\"8\" fill=\"rgb(159,159,159)\"/><circle cx=\"216\" cy=\"200\" r=\"11\" fill=\"rgb(177,177,177)\"/><circle cx=\"196\" cy=\"230\" r=\"9\" fill=\"rgb(118,118,118)\"/><circle cx=\"96\" cy=\"139\" r=\"10\" fill=\"rgb(146,146,146)\"/></svg><svg viewBox='0 0 430 430' id=\"svg\" width=\"258\" height=\"258\"><circle cx=\"215\" cy=\"215\" r=\"205\" fill=\"none\" stroke=\"black\" stroke-width=\"2\" stroke-dasharray=\"3,3\"/> <circle cx=\"256\" cy=\"373\" r=\"8\" fill=\"rgb(255,255,255)\" class=\"agent_1_10\"/><circle cx=\"60\" cy=\"255\" r=\"8\" fill=\"rgb(255,255,255)\" class=\"agent_1_14\"/><circle cx=\"298\" cy=\"52\" r=\"7\" fill=\"rgb(255,0,0)\" class=\"agent_1_27\"/><circle cx=\"335\" cy=\"252\" r=\"8\" fill=\"rgb(255,255,255)\" class=\"agent_1_48\"/><circle cx=\"216\" cy=\"200\" r=\"11\" fill=\"rgb(255,255,255)\" class=\"agent_1_53\"/><circle cx=\"196\" cy=\"230\" r=\"9\" fill=\"rgb(255,255,255)\" class=\"agent_1_61\"/><circle cx=\"96\" cy=\"139\" r=\"10\" fill=\"rgb(255,255,255)\" class=\"agent_1_69\"/></svg></div>"
      ],
      "text/plain": [
       "<IPython.core.display.HTML object>"
      ]
     },
     "metadata": {},
     "output_type": "display_data"
    },
    {
     "name": "stdout",
     "output_type": "stream",
     "text": [
      "sample 0\ti have a small dark dot on the right <eos>\n",
      "sample 1\ti have a small black dot <eos>\n",
      "sample 2\ti have a small black dot <eos>\n",
      "sample 3\ti have a small black dot <eos>\n",
      "sample 4\ti do n't , i have a small dark dot on the right side <eos>\n",
      "sample 5\ti have a small dark dot on the right <eos>\n",
      "sample 6\ti have a small black dot <eos>\n",
      "sample 7\tis it near the edge <eos>\n",
      "sample 8\ti have a small black dot at 3 o clock <eos>\n",
      "sample 9\ti have a small dark dot on the left <eos>\n",
      "argmax\ti have a small black dot <eos>\n",
      "human\tokay yeah . i think that is the same one <eos>\n",
      "\n",
      "----------------------------------------\n",
      "\n",
      "human\tTHEM: let <unk> it <selection>\n",
      "\n",
      "----------------------------------------\n",
      "\n"
     ]
    }
   ],
   "source": [
    "force_contexts_and_mentions(11)"
   ]
  },
  {
   "cell_type": "code",
   "execution_count": 72,
   "metadata": {},
   "outputs": [],
   "source": [
    "import json\n",
    "from utils import ContextGenerator"
   ]
  },
  {
   "cell_type": "code",
   "execution_count": 43,
   "metadata": {},
   "outputs": [],
   "source": [
    "ctx_gen = ContextGenerator('data/onecommon/shared_4.txt')"
   ]
  },
  {
   "cell_type": "code",
   "execution_count": 44,
   "metadata": {},
   "outputs": [],
   "source": [
    "with open('data/onecommon/shared_4.json', \"r\") as f:\n",
    "    scenario_list = json.load(f)\n",
    "selfplay_scenarios = {scenario['uuid']: scenario for scenario in scenario_list}"
   ]
  },
  {
   "cell_type": "code",
   "execution_count": 45,
   "metadata": {},
   "outputs": [
    {
     "name": "stdout",
     "output_type": "stream",
     "text": [
      "S_xM5bXi3lMqXHKKgP\n"
     ]
    }
   ],
   "source": [
    "scenario = None\n",
    "for ix, ([scenario_id], (ctx1, ctx2), (ids1, ids2)) in enumerate(ctx_gen.iter()):\n",
    "#     if scenario_id == 'S_11J8n40u4HRVduwi':\n",
    "#         print('found it')\n",
    "#         scenario = scenarios[scenario_id]\n",
    "#         break\n",
    "    if ix == 2:\n",
    "        scenario = selfplay_scenarios[scenario_id]\n",
    "        print(scenario_id)\n",
    "        break"
   ]
  },
  {
   "cell_type": "code",
   "execution_count": 46,
   "metadata": {},
   "outputs": [],
   "source": [
    "import random"
   ]
  },
  {
   "cell_type": "code",
   "execution_count": null,
   "metadata": {
    "scrolled": false
   },
   "outputs": [
    {
     "ename": "NameError",
     "evalue": "name 'selfplay_scenarios' is not defined",
     "output_type": "error",
     "traceback": [
      "\u001b[0;31m---------------------------------------------------------------------------\u001b[0m",
      "\u001b[0;31mNameError\u001b[0m                                 Traceback (most recent call last)",
      "\u001b[0;32m<ipython-input-41-e274016a0281>\u001b[0m in \u001b[0;36m<module>\u001b[0;34m\u001b[0m\n\u001b[1;32m      1\u001b[0m \u001b[0;31m# selfplay emulation\u001b[0m\u001b[0;34m\u001b[0m\u001b[0;34m\u001b[0m\u001b[0;34m\u001b[0m\u001b[0m\n\u001b[0;32m----> 2\u001b[0;31m \u001b[0mscenario\u001b[0m \u001b[0;34m=\u001b[0m \u001b[0mselfplay_scenarios\u001b[0m\u001b[0;34m[\u001b[0m\u001b[0mscenario_id\u001b[0m\u001b[0;34m]\u001b[0m\u001b[0;34m\u001b[0m\u001b[0;34m\u001b[0m\u001b[0m\n\u001b[0m\u001b[1;32m      3\u001b[0m \u001b[0;32mfor\u001b[0m \u001b[0magent\u001b[0m\u001b[0;34m,\u001b[0m \u001b[0magent_id\u001b[0m\u001b[0;34m,\u001b[0m \u001b[0mctx\u001b[0m\u001b[0;34m,\u001b[0m \u001b[0mreal_ids\u001b[0m \u001b[0;32min\u001b[0m \u001b[0mzip\u001b[0m\u001b[0;34m(\u001b[0m\u001b[0;34m[\u001b[0m\u001b[0malice\u001b[0m\u001b[0;34m,\u001b[0m \u001b[0mbob\u001b[0m\u001b[0;34m]\u001b[0m\u001b[0;34m,\u001b[0m \u001b[0;34m[\u001b[0m\u001b[0;36m0\u001b[0m\u001b[0;34m,\u001b[0m \u001b[0;36m1\u001b[0m\u001b[0;34m]\u001b[0m\u001b[0;34m,\u001b[0m \u001b[0;34m[\u001b[0m\u001b[0mctx1\u001b[0m\u001b[0;34m,\u001b[0m \u001b[0mctx2\u001b[0m\u001b[0;34m]\u001b[0m\u001b[0;34m,\u001b[0m \u001b[0;34m[\u001b[0m\u001b[0mids1\u001b[0m\u001b[0;34m,\u001b[0m \u001b[0mids2\u001b[0m\u001b[0;34m]\u001b[0m\u001b[0;34m)\u001b[0m\u001b[0;34m:\u001b[0m\u001b[0;34m\u001b[0m\u001b[0;34m\u001b[0m\u001b[0m\n\u001b[1;32m      4\u001b[0m     \u001b[0magent\u001b[0m\u001b[0;34m.\u001b[0m\u001b[0mfeed_context\u001b[0m\u001b[0;34m(\u001b[0m\u001b[0mctx\u001b[0m\u001b[0;34m)\u001b[0m\u001b[0;34m\u001b[0m\u001b[0;34m\u001b[0m\u001b[0m\n\u001b[1;32m      5\u001b[0m     \u001b[0magent\u001b[0m\u001b[0;34m.\u001b[0m\u001b[0mreal_ids\u001b[0m \u001b[0;34m=\u001b[0m \u001b[0mreal_ids\u001b[0m\u001b[0;34m\u001b[0m\u001b[0;34m\u001b[0m\u001b[0m\n",
      "\u001b[0;31mNameError\u001b[0m: name 'selfplay_scenarios' is not defined"
     ]
    },
    {
     "name": "stdout",
     "output_type": "stream",
     "text": [
      "> \u001b[0;32m<ipython-input-41-e274016a0281>\u001b[0m(2)\u001b[0;36m<module>\u001b[0;34m()\u001b[0m\n",
      "\u001b[0;32m      1 \u001b[0;31m\u001b[0;31m# selfplay emulation\u001b[0m\u001b[0;34m\u001b[0m\u001b[0;34m\u001b[0m\u001b[0;34m\u001b[0m\u001b[0m\n",
      "\u001b[0m\u001b[0;32m----> 2 \u001b[0;31m\u001b[0mscenario\u001b[0m \u001b[0;34m=\u001b[0m \u001b[0mselfplay_scenarios\u001b[0m\u001b[0;34m[\u001b[0m\u001b[0mscenario_id\u001b[0m\u001b[0;34m]\u001b[0m\u001b[0;34m\u001b[0m\u001b[0;34m\u001b[0m\u001b[0m\n",
      "\u001b[0m\u001b[0;32m      3 \u001b[0;31m\u001b[0;32mfor\u001b[0m \u001b[0magent\u001b[0m\u001b[0;34m,\u001b[0m \u001b[0magent_id\u001b[0m\u001b[0;34m,\u001b[0m \u001b[0mctx\u001b[0m\u001b[0;34m,\u001b[0m \u001b[0mreal_ids\u001b[0m \u001b[0;32min\u001b[0m \u001b[0mzip\u001b[0m\u001b[0;34m(\u001b[0m\u001b[0;34m[\u001b[0m\u001b[0malice\u001b[0m\u001b[0;34m,\u001b[0m \u001b[0mbob\u001b[0m\u001b[0;34m]\u001b[0m\u001b[0;34m,\u001b[0m \u001b[0;34m[\u001b[0m\u001b[0;36m0\u001b[0m\u001b[0;34m,\u001b[0m \u001b[0;36m1\u001b[0m\u001b[0;34m]\u001b[0m\u001b[0;34m,\u001b[0m \u001b[0;34m[\u001b[0m\u001b[0mctx1\u001b[0m\u001b[0;34m,\u001b[0m \u001b[0mctx2\u001b[0m\u001b[0;34m]\u001b[0m\u001b[0;34m,\u001b[0m \u001b[0;34m[\u001b[0m\u001b[0mids1\u001b[0m\u001b[0;34m,\u001b[0m \u001b[0mids2\u001b[0m\u001b[0;34m]\u001b[0m\u001b[0;34m)\u001b[0m\u001b[0;34m:\u001b[0m\u001b[0;34m\u001b[0m\u001b[0;34m\u001b[0m\u001b[0m\n",
      "\u001b[0m\u001b[0;32m      4 \u001b[0;31m    \u001b[0magent\u001b[0m\u001b[0;34m.\u001b[0m\u001b[0mfeed_context\u001b[0m\u001b[0;34m(\u001b[0m\u001b[0mctx\u001b[0m\u001b[0;34m)\u001b[0m\u001b[0;34m\u001b[0m\u001b[0;34m\u001b[0m\u001b[0m\n",
      "\u001b[0m\u001b[0;32m      5 \u001b[0;31m    \u001b[0magent\u001b[0m\u001b[0;34m.\u001b[0m\u001b[0mreal_ids\u001b[0m \u001b[0;34m=\u001b[0m \u001b[0mreal_ids\u001b[0m\u001b[0;34m\u001b[0m\u001b[0;34m\u001b[0m\u001b[0m\n",
      "\u001b[0m\n",
      "--KeyboardInterrupt--\n"
     ]
    }
   ],
   "source": [
    "# selfplay emulation\n",
    "scenario = selfplay_scenarios[scenario_id]\n",
    "for agent, agent_id, ctx, real_ids in zip([alice, bob], [0, 1], [ctx1, ctx2], [ids1, ids2]):\n",
    "    agent.feed_context(ctx)\n",
    "    agent.real_ids = real_ids\n",
    "    agent.agent_id = agent_id\n",
    "    \n",
    "dot_mention_samples = 1\n",
    "utt_samples = 10\n",
    "    \n",
    "writer, reader = [alice, bob]\n",
    "conv = []\n",
    "speaker = []\n",
    "words_left = 5000\n",
    "\n",
    "num_mentions = 2\n",
    "num_dots_to_mention = 3\n",
    "\n",
    "sample_temperature = 0.25\n",
    "argmax_temperature = 0.005\n",
    "\n",
    "def make_dots_mentioned_per_ref():\n",
    "#     # fixed\n",
    "#     return torch.BoolTensor([[1,1,0,0,0,0,0], [1,0,0,0,0,0,0]]).unsqueeze(0)\n",
    "#     return torch.BoolTensor([[1,1,0,0,0,0,0]]).unsqueeze(0)\n",
    "\n",
    "    # random initial and drop\n",
    "    mentioned = torch.zeros(1,num_mentions,7).bool()\n",
    "    dots_mentioned = []\n",
    "    for _ in range(num_dots_to_mention):\n",
    "        dot_ix = torch.randint(7, (1,))\n",
    "        mentioned[:,0,dot_ix] = 1\n",
    "        dots_mentioned.append(dot_ix)\n",
    "        \n",
    "    for mention_ix in range(1, num_mentions):\n",
    "        mentioned[:,mention_ix,random.choice(dots_mentioned)] = 1\n",
    "    return mentioned\n",
    "    \n",
    "\n",
    "    # random \n",
    "#     mentioned = torch.zeros(1,num_mentions,7).bool()\n",
    "#     for mention_ix in range(num_mentions):\n",
    "#         for _ in range(num_dots_to_mention):\n",
    "#             dot_ix = torch.randint(7, (1,))\n",
    "#             mentioned[:,mention_ix,dot_ix] = 1\n",
    "#     return mentioned\n",
    "\n",
    "display_context = True\n",
    "\n",
    "while True:\n",
    "    dots_mentioned_per_ref = make_dots_mentioned_per_ref()\n",
    "    dots_mentioned = dots_mentioned_per_ref.max(1).values\n",
    "    \n",
    "    num_markables=torch.LongTensor([dots_mentioned_per_ref.size(1)])\n",
    "    if display_context:\n",
    "        for mention_ix in range(dots_mentioned_per_ref.size(1)):\n",
    "            display_attn(scenario, dots_mentioned_per_ref[:,mention_ix].float(), writer.agent_id, name=f'dots_mentioned_{mention_ix}')\n",
    "    for us in range(utt_samples):\n",
    "        outs, _, _, _, extra = writer.model.write(\n",
    "            writer.ctx,\n",
    "            writer.ctx_differences,\n",
    "            writer.ctx_h,\n",
    "            writer.reader_and_writer_lang_h,\n",
    "            words_left,\n",
    "            sample_temperature,\n",
    "            dots_mentioned=dots_mentioned,\n",
    "            dots_mentioned_per_ref=dots_mentioned_per_ref,\n",
    "            num_markables=num_markables,\n",
    "        )\n",
    "        print('agent {}; sample {}\\t{}'.format(writer.agent_id, us, ' '.join(writer._decode(outs, writer.model.word_dict))))\n",
    "    print()\n",
    "        \n",
    "    num_markables=torch.LongTensor([num_mentions])\n",
    "    if display_context:\n",
    "        for mention_ix in range(dots_mentioned_per_ref.size(1)):\n",
    "            display_attn(scenario, dots_mentioned_per_ref[:,mention_ix].float(), writer.agent_id, name=f'dots_mentioned_{mention_ix}')\n",
    "    out = writer.write(\n",
    "        max_words=words_left,\n",
    "        dots_mentioned=dots_mentioned,\n",
    "        dots_mentioned_per_ref=dots_mentioned_per_ref,\n",
    "        num_markables=num_markables,\n",
    "        temperature_override=argmax_temperature,\n",
    "    )\n",
    "    print('agent {}; argmax\\t{}'.format(writer.agent_id, ' '.join(out)))\n",
    "    print()\n",
    "    \n",
    "#     if display_context and writer.extras[-1].get('feed_ctx_attn_prob', None) is not None:\n",
    "#         display_attn(scenario, writer.extras[-1]['feed_ctx_attn_prob'], writer.agent_id, name='feed attention')\n",
    "    \n",
    "#     if display_context and writer.extras[-1].get('word_ctx_attn_prob_mean', None) is not None:\n",
    "#         display_attn(scenario, writer.extras[-1]['word_ctx_attn_prob_mean'], writer.agent_id, name='word attention mean')\n",
    "        \n",
    "#     for ix, ix_attn in enumerate(writer.extras[-1]['word_ctx_attn_probs']):\n",
    "#         display_attn(scenario, ix_attn, writer.agent_id, name='t {}: {}'.format(ix, out[ix]))\n",
    "        \n",
    "    print('{}\\t{}'.format(writer.agent_id, ' '.join(out)))\n",
    "    print('-'*60)\n",
    "        \n",
    "    words_left -= len(out)\n",
    "    conv.append(out)\n",
    "    speaker.append(writer.agent_id)\n",
    "    reader.read(out)\n",
    "    if is_selection(out) or words_left <= 1:\n",
    "        break\n",
    "    writer, reader = reader, writer"
   ]
  },
  {
   "cell_type": "code",
   "execution_count": null,
   "metadata": {},
   "outputs": [],
   "source": []
  }
 ],
 "metadata": {
  "kernelspec": {
   "display_name": "Python 3",
   "language": "python",
   "name": "python3"
  },
  "language_info": {
   "codemirror_mode": {
    "name": "ipython",
    "version": 3
   },
   "file_extension": ".py",
   "mimetype": "text/x-python",
   "name": "python",
   "nbconvert_exporter": "python",
   "pygments_lexer": "ipython3",
   "version": "3.6.10"
  }
 },
 "nbformat": 4,
 "nbformat_minor": 2
}
