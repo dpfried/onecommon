{
 "cells": [
  {
   "cell_type": "code",
   "execution_count": 1,
   "metadata": {},
   "outputs": [
    {
     "data": {
      "text/html": [
       "<style>.container { width:100% !important; }</style>"
      ],
      "text/plain": [
       "<IPython.core.display.HTML object>"
      ]
     },
     "metadata": {},
     "output_type": "display_data"
    }
   ],
   "source": [
    "from IPython.core.display import display, HTML\n",
    "display(HTML(\"<style>.container { width:100% !important; }</style>\"))"
   ]
  },
  {
   "cell_type": "code",
   "execution_count": 2,
   "metadata": {
    "scrolled": true
   },
   "outputs": [
    {
     "name": "stdout",
     "output_type": "stream",
     "text": [
      "/home/dfried/projects/onecommon/aaai2020/experiments\n"
     ]
    }
   ],
   "source": [
    "cd '/home/dfried/projects/onecommon/aaai2020/experiments'"
   ]
  },
  {
   "cell_type": "code",
   "execution_count": 3,
   "metadata": {},
   "outputs": [],
   "source": [
    "import models\n",
    "from models import get_model_type\n",
    "import data\n",
    "import utils\n",
    "from domain import get_domain\n",
    "from corpora.reference_sentence import ReferenceSentenceCorpus"
   ]
  },
  {
   "cell_type": "code",
   "execution_count": 4,
   "metadata": {},
   "outputs": [
    {
     "name": "stdout",
     "output_type": "stream",
     "text": [
      "\u001b[0m\u001b[01;34mbad_filtered\u001b[0m/\r\n",
      "\u001b[01;34mbase_512_bsz-64_lr-5e-3_rel-2_extremes_learned-pooling_untied_bidirectional_hidden-mention-encoder-filtered-shared\u001b[0m\u001b[K/\r\n",
      "\u001b[01;34mbase_512_bsz-64_rel-2_extremes_learned-pooling_untied_bidirectional_hidden-mention-encoder-filtered-shared\u001b[0m\u001b[K/\r\n",
      "\u001b[01;34mbase_512_extremes_asymmetric_learned-pooling_untied_bidirectional_hidden-mention-encoder_rb-lpm-lm-lPm-lPpm_prb-lpm-lm-lPm-lPpm\u001b[0m\u001b[K/\r\n",
      "\u001b[01;34mbase_512_extremes_asymmetric_learned-pooling_untied_bidirectional_hidden-mention-encoder_rb-lpm-lm_prb-lpm-lm\u001b[0m\u001b[K/\r\n",
      "\u001b[01;34mbase_512_extremes_learned-pooling_untied_bidirectional_hidden-mention-encoder\u001b[0m/\r\n",
      "\u001b[01;34mbase_512_extremes_learned-pooling_untied_bidirectional_hidden-mention-encoder_2\u001b[0m/\r\n",
      "\u001b[01;34mbase_512_extremes_learned-pooling_untied_bidirectional_hidden-mention-encoder_3\u001b[0m/\r\n",
      "\u001b[01;34mbase_512_extremes_learned-pooling_untied_bidirectional_hidden-mention-encoder-filtered-separate\u001b[0m\u001b[K/\r\n",
      "\u001b[01;34mbase_512_extremes_learned-pooling_untied_bidirectional_hidden-mention-encoder-filtered-separate-diffs\u001b[0m\u001b[K/\r\n",
      "\u001b[01;34mbase_512_extremes_learned-pooling_untied_bidirectional_hidden-mention-encoder-filtered-shared\u001b[0m\u001b[K/\r\n",
      "\u001b[01;34mbase_512_extremes_learned-pooling_untied_bidirectional_hidden-mention-encoder_mb-tpmpred-lmpred\u001b[0m\u001b[K/\r\n",
      "\u001b[01;34mbase_512_extremes_learned-pooling_untied_bidirectional_hidden-mention-encoder_mention-start-10\u001b[0m\u001b[K/\r\n",
      "\u001b[01;34mbase_512_extremes_learned-pooling_untied_bidirectional_hidden-mention-encoder_rb-lpm-lm-lPm-lPpm_prb-lpm-lm-lPm-lPpm\u001b[0m\u001b[K/\r\n",
      "\u001b[01;34mbase_512_extremes_learned-pooling_untied_bidirectional_hidden-mention-encoder_rb-lpm-lm-lPm-lPpm_prb-lpm-lm-lPm-lPpm_mb-tpmpred-lmpred\u001b[0m\u001b[K/\r\n",
      "\u001b[01;34mbase_512_extremes_learned-pooling_untied_bidirectional_hidden-mention-encoder_rb-lpm-lm-lPm-lPpm_prb-lpm-lm-lPm-lPpm_mb-tpmpred-lmpred_sb-tpm-lm\u001b[0m\u001b[K/\r\n",
      "\u001b[01;34mbase_512_extremes_learned-pooling_untied_bidirectional_hidden-mention-encoder_rb-lpm-lm-lPm-lPpm_prb-lpm-lm-lPm-lPpm_mb-tpmpred-lmpred_sb-tpmpred-lmpred\u001b[0m\u001b[K/\r\n",
      "\u001b[01;34mbase_512_extremes_learned-pooling_untied_bidirectional_hidden-mention-encoder_rb-lpm-lm_prb-lpm-lm\u001b[0m\u001b[K/\r\n",
      "\u001b[01;34mbase_512_extremes_learned-pooling_untied_bidirectional_hidden-mention-encoder-relational\u001b[0m\u001b[K/\r\n",
      "\u001b[01;34mbase_512_learned-pooling_untied_bidirectional_hidden-mention-encoder\u001b[0m/\r\n",
      "\u001b[01;34mbase_512_learned-pooling_untied_bidirectional_hidden-mention-encoder_rb-lm_prb-lpm\u001b[0m\u001b[K/\r\n",
      "\u001b[01;34mbase_512_learned-pooling_untied_bidirectional_hidden-mention-encoder_rb-lpm-lm_prb-lpm-lm\u001b[0m\u001b[K/\r\n",
      "\u001b[01;34mbase_512_learned-pooling_untied_bidirectional_hidden-mention-encoder_rb-lpm_prb-lm\u001b[0m\u001b[K/\r\n",
      "\u001b[01;34mbase_512_rel-2_extremes_learned-pooling_untied_bidirectional_hidden-mention-encoder-filtered-separate\u001b[0m\u001b[K/\r\n",
      "\u001b[01;34mbase_512_rel-2_extremes_learned-pooling_untied_bidirectional_hidden-mention-encoder-filtered-separate_unk-2\u001b[0m\u001b[K/\r\n",
      "\u001b[01;34mbase_512_rel-2_extremes_learned-pooling_untied_bidirectional_hidden-mention-encoder-filtered-shared\u001b[0m\u001b[K/\r\n",
      "\u001b[01;34mbase_learned-pooling_untied_bidirectional_hidden-mention-encoder\u001b[0m/\r\n"
     ]
    }
   ],
   "source": [
    "ls expts/rel3_tsel_ref_dial_model_separate/directions"
   ]
  },
  {
   "cell_type": "code",
   "execution_count": 5,
   "metadata": {},
   "outputs": [
    {
     "name": "stdout",
     "output_type": "stream",
     "text": [
      " 1_best.stdict\r\n",
      " 1_best.th\r\n",
      " 1_ep-30.stdict\r\n",
      " 1_ep-30.th\r\n",
      "'eval_dev_cand=40_oracle.out'\r\n",
      "'eval_dev_cand=40_speaker-weight=0.1.out'\r\n",
      "'eval_dev_cand=40_speaker-weight=0.2.out'\r\n",
      "'eval_dev_cand=40_speaker-weight=0.3.out'\r\n",
      "'eval_dev_cand=40_speaker-weight=0.4.out'\r\n",
      "'eval_dev_cand=40_speaker-weight=0.5.out'\r\n",
      "'eval_dev_cand=40_speaker-weight=0.6.out'\r\n",
      "'eval_dev_cand=40_speaker-weight=0.7.out'\r\n",
      "'eval_dev_cand=40_speaker-weight=0.8.out'\r\n",
      "'eval_dev_cand=40_speaker-weight=0.9.out'\r\n",
      "'eval_dev_cand=40_speaker-weight=0.out'\r\n",
      "'eval_dev_cand=40_speaker-weight=1.0.out'\r\n",
      " eval_dev_l0.out\r\n",
      " eval_dev_l0_ref_annotations.json\r\n",
      " train_fold-1.out\r\n"
     ]
    }
   ],
   "source": [
    "ls expts/rel3_tsel_ref_dial_model_separate/directions/base_512_learned-pooling_untied_bidirectional_hidden-mention-encoder/"
   ]
  },
  {
   "cell_type": "code",
   "execution_count": 6,
   "metadata": {},
   "outputs": [],
   "source": [
    "domain = get_domain('one_common')\n",
    "unk_threshold = 10\n",
    "model_ty = get_model_type('rnn_reference_model')\n",
    "\n",
    "ctx_encoder_type = 'rel_attn_encoder_3'\n",
    "\n",
    "# model_fname = 'rel2_dial_model_separate/hierarchical_only-self_mask-pad_max-pool_rel-2_feed-context-attend_no-word-attention_ablate-properties_1_best.th'\n",
    "\n",
    "base = 'expts/rel3_tsel_ref_dial_model_separate/directions'\n",
    "\n",
    "model_fnames = {\n",
    "    'basic': f'{base}/base_512_learned-pooling_untied_bidirectional_hidden-mention-encoder/1_ep-30.th',\n",
    "    'encoder-filtered-shared': f'{base}/base_512_extremes_learned-pooling_untied_bidirectional_hidden-mention-encoder-filtered-shared/1_ep-30.th',\n",
    "    'encoder-filtered-separate': f'{base}/base_512_extremes_learned-pooling_untied_bidirectional_hidden-mention-encoder-filtered-separate/1_ep-30.th',\n",
    "    'encoder-filtered-separate-diffs': f'{base}/base_512_extremes_learned-pooling_untied_bidirectional_hidden-mention-encoder-filtered-separate-diffs/1_ep-30.th',\n",
    "}"
   ]
  },
  {
   "cell_type": "code",
   "execution_count": 7,
   "metadata": {},
   "outputs": [
    {
     "name": "stdout",
     "output_type": "stream",
     "text": [
      "freq cutoff: 10\n",
      "vocab size: 649\n",
      "dataset data/onecommon/train_reference_1.txt, total 545056, unks 4302, ratio 0.79%\n",
      "dataset data/onecommon/valid_reference_1.txt, total 69348, unks 686, ratio 0.99%\n",
      "dataset data/onecommon/test_reference_1.txt, total 67284, unks 636, ratio 0.95%\n"
     ]
    }
   ],
   "source": [
    "seed = 1\n",
    "corpus = ReferenceSentenceCorpus(domain, 'data/onecommon',\n",
    "                            train='train_reference_{}.txt'.format(seed),\n",
    "                            valid='valid_reference_{}.txt'.format(seed),\n",
    "                            test='test_reference_{}.txt'.format(seed),\n",
    "                            freq_cutoff=unk_threshold, verbose=True)"
   ]
  },
  {
   "cell_type": "code",
   "execution_count": 8,
   "metadata": {},
   "outputs": [],
   "source": [
    "def load_json(file):\n",
    "    import json\n",
    "    with open(file, 'r') as f:\n",
    "        return json.load(f)"
   ]
  },
  {
   "cell_type": "code",
   "execution_count": 9,
   "metadata": {},
   "outputs": [],
   "source": [
    "scenarios1 = load_json('data/onecommon/aaai_train_scenarios.json')\n",
    "scenarios2 = load_json('data/onecommon/aaai_train_scenarios_2.json')"
   ]
  },
  {
   "cell_type": "code",
   "execution_count": 10,
   "metadata": {},
   "outputs": [
    {
     "data": {
      "text/plain": [
       "9000"
      ]
     },
     "execution_count": 10,
     "metadata": {},
     "output_type": "execute_result"
    }
   ],
   "source": [
    "len(scenarios1)"
   ]
  },
  {
   "cell_type": "code",
   "execution_count": 11,
   "metadata": {},
   "outputs": [
    {
     "data": {
      "text/plain": [
       "4500"
      ]
     },
     "execution_count": 11,
     "metadata": {},
     "output_type": "execute_result"
    }
   ],
   "source": [
    "len(scenarios2)"
   ]
  },
  {
   "cell_type": "code",
   "execution_count": 12,
   "metadata": {},
   "outputs": [
    {
     "data": {
      "text/plain": [
       "dict_keys(['kbs', 'shared', 'uuid'])"
      ]
     },
     "execution_count": 12,
     "metadata": {},
     "output_type": "execute_result"
    }
   ],
   "source": [
    "scenarios1[0].keys()"
   ]
  },
  {
   "cell_type": "code",
   "execution_count": 13,
   "metadata": {},
   "outputs": [],
   "source": [
    "train_scenarios = {\n",
    "    scenario['uuid']: scenario\n",
    "    for scenario in scenarios1\n",
    "}"
   ]
  },
  {
   "cell_type": "code",
   "execution_count": 14,
   "metadata": {},
   "outputs": [],
   "source": [
    "all_scenarios = {\n",
    "    scenario['uuid']: scenario\n",
    "    for scenario in scenarios1 + scenarios2\n",
    "}"
   ]
  },
  {
   "cell_type": "code",
   "execution_count": 15,
   "metadata": {},
   "outputs": [],
   "source": [
    "hit_count = 0\n",
    "miss_count = 0\n",
    "for scenario in scenarios2:\n",
    "    uuid = scenario['uuid']\n",
    "    if uuid in train_scenarios:\n",
    "        assert train_scenarios[uuid] == scenario\n",
    "        hit_count += 1\n",
    "    else:\n",
    "        miss_count += 1"
   ]
  },
  {
   "cell_type": "code",
   "execution_count": 16,
   "metadata": {},
   "outputs": [
    {
     "name": "stdout",
     "output_type": "stream",
     "text": [
      "hits: 0\n",
      "misses: 4500\n"
     ]
    }
   ],
   "source": [
    "print(\"hits: {}\".format(hit_count))\n",
    "print(\"misses: {}\".format(miss_count))"
   ]
  },
  {
   "cell_type": "code",
   "execution_count": 17,
   "metadata": {},
   "outputs": [
    {
     "name": "stderr",
     "output_type": "stream",
     "text": [
      "/home/dfried/miniconda3/envs/onecommon/lib/python3.6/site-packages/torch/serialization.py:657: SourceChangeWarning: source code of class 'models.rnn_reference_model.HierarchicalRnnReferenceModel' has changed. you can retrieve the original source code by accessing the object's source attribute or set `torch.nn.Module.dump_patches = True` and use the patch tool to revert the changes.\n",
      "  warnings.warn(msg, SourceChangeWarning)\n",
      "/home/dfried/miniconda3/envs/onecommon/lib/python3.6/site-packages/torch/serialization.py:657: SourceChangeWarning: source code of class 'models.ctx_encoder.RelationalAttentionContextEncoder3' has changed. you can retrieve the original source code by accessing the object's source attribute or set `torch.nn.Module.dump_patches = True` and use the patch tool to revert the changes.\n",
      "  warnings.warn(msg, SourceChangeWarning)\n",
      "/home/dfried/miniconda3/envs/onecommon/lib/python3.6/site-packages/torch/serialization.py:657: SourceChangeWarning: source code of class 'models.attention_layers.StructuredTemporalAttentionLayer' has changed. you can retrieve the original source code by accessing the object's source attribute or set `torch.nn.Module.dump_patches = True` and use the patch tool to revert the changes.\n",
      "  warnings.warn(msg, SourceChangeWarning)\n",
      "/home/dfried/miniconda3/envs/onecommon/lib/python3.6/site-packages/torch/serialization.py:657: SourceChangeWarning: source code of class 'models.attention_layers.StructuredAttentionLayer' has changed. you can retrieve the original source code by accessing the object's source attribute or set `torch.nn.Module.dump_patches = True` and use the patch tool to revert the changes.\n",
      "  warnings.warn(msg, SourceChangeWarning)\n"
     ]
    }
   ],
   "source": [
    "models = {\n",
    "    name: utils.load_model(model_fname, map_location='cpu', prefix_dir=None)\n",
    "    for name, model_fname in model_fnames.items()\n",
    "}"
   ]
  },
  {
   "cell_type": "code",
   "execution_count": 18,
   "metadata": {},
   "outputs": [
    {
     "name": "stderr",
     "output_type": "stream",
     "text": [
      "100%|██████████████████████████████████████| 1038/1038 [00:01<00:00, 796.53it/s]\n"
     ]
    }
   ],
   "source": [
    "batchsize=1\n",
    "validset, validset_stats = corpus.valid_dataset(batchsize)"
   ]
  },
  {
   "cell_type": "code",
   "execution_count": 19,
   "metadata": {},
   "outputs": [
    {
     "data": {
      "text/plain": [
       "{'n': 74030, 'self_n': 37015, 'nonpadn': 69348, 'self_nonpadn': 34674}"
      ]
     },
     "execution_count": 19,
     "metadata": {},
     "output_type": "execute_result"
    }
   ],
   "source": [
    "validset_stats"
   ]
  },
  {
   "cell_type": "code",
   "execution_count": 20,
   "metadata": {},
   "outputs": [],
   "source": [
    "import torch"
   ]
  },
  {
   "cell_type": "code",
   "execution_count": 21,
   "metadata": {},
   "outputs": [],
   "source": [
    "from agent import RnnAgent"
   ]
  },
  {
   "cell_type": "code",
   "execution_count": 22,
   "metadata": {},
   "outputs": [],
   "source": [
    "from selfplay import make_parser"
   ]
  },
  {
   "cell_type": "code",
   "execution_count": 23,
   "metadata": {},
   "outputs": [],
   "source": [
    "parser = make_parser()\n",
    "args = parser.parse_args('--temperature 0.25'.split())\n",
    "# args = parser.parse_args('--temperature 0.01'.split())"
   ]
  },
  {
   "cell_type": "code",
   "execution_count": 24,
   "metadata": {},
   "outputs": [],
   "source": [
    "def is_selection(out):\n",
    "    return '<selection>' in out"
   ]
  },
  {
   "cell_type": "code",
   "execution_count": 25,
   "metadata": {},
   "outputs": [],
   "source": [
    "# display"
   ]
  },
  {
   "cell_type": "code",
   "execution_count": 26,
   "metadata": {},
   "outputs": [],
   "source": [
    "from dialog import DialogLogger"
   ]
  },
  {
   "cell_type": "code",
   "execution_count": 27,
   "metadata": {},
   "outputs": [],
   "source": [
    "from IPython.display import SVG, display, HTML"
   ]
  },
  {
   "cell_type": "code",
   "execution_count": 28,
   "metadata": {},
   "outputs": [],
   "source": [
    "def display_svgs(svgs):\n",
    "    no_wrap_div = '<div style=\"white-space: nowrap\">' + ''.join(svgs) + '</div>'\n",
    "    display(HTML(no_wrap_div))"
   ]
  },
  {
   "cell_type": "code",
   "execution_count": 29,
   "metadata": {},
   "outputs": [],
   "source": [
    "SVG_SCALE=0.4"
   ]
  },
  {
   "cell_type": "code",
   "execution_count": 30,
   "metadata": {},
   "outputs": [],
   "source": [
    "def display_attn(scenario, attn, agent_id, name=None):\n",
    "    attn = attn.flatten().detach().numpy()\n",
    "    if name is not None:\n",
    "        print(\"{}: {}\".format(name, attn))\n",
    "    display_svgs([DialogLogger._scenario_to_svg(scenario, scale=SVG_SCALE)[agent_id], DialogLogger._attention_to_svg(scenario, agent_id, attn, scale=SVG_SCALE)])"
   ]
  },
  {
   "cell_type": "code",
   "execution_count": 44,
   "metadata": {},
   "outputs": [],
   "source": [
    "def display_attns(scenario, attns, agent_id):\n",
    "    svgs = [DialogLogger._scenario_to_svg(scenario, scale=SVG_SCALE)[agent_id]]\n",
    "#     if name is not None:\n",
    "#         print(\"{}: {}\".format(name, attn))\n",
    "    for attn in attns:\n",
    "        attn = attn.flatten().detach().numpy()\n",
    "        svgs.append(DialogLogger._attention_to_svg(scenario, agent_id, attn, scale=SVG_SCALE))\n",
    "    display_svgs(svgs)"
   ]
  },
  {
   "cell_type": "code",
   "execution_count": 31,
   "metadata": {},
   "outputs": [],
   "source": [
    "# training emulation"
   ]
  },
  {
   "cell_type": "code",
   "execution_count": 32,
   "metadata": {},
   "outputs": [
    {
     "name": "stderr",
     "output_type": "stream",
     "text": [
      "100%|██████████████████████████████████████| 8304/8304 [00:11<00:00, 706.89it/s]\n"
     ]
    }
   ],
   "source": [
    "trainset, trainset_stats = corpus.train_dataset(bsz=1)"
   ]
  },
  {
   "cell_type": "code",
   "execution_count": 33,
   "metadata": {},
   "outputs": [
    {
     "data": {
      "text/plain": [
       "True"
      ]
     },
     "execution_count": 33,
     "metadata": {},
     "output_type": "execute_result"
    }
   ],
   "source": [
    "trainset[0].scenario_ids[0] in train_scenarios"
   ]
  },
  {
   "cell_type": "code",
   "execution_count": 34,
   "metadata": {},
   "outputs": [],
   "source": [
    "# ctx: this player's dots\n",
    "# inpt / tgt: dialogue word indices (tgt are shifted by 1)\n",
    "# ref_inpt"
   ]
  },
  {
   "cell_type": "code",
   "execution_count": 35,
   "metadata": {},
   "outputs": [
    {
     "name": "stdout",
     "output_type": "stream",
     "text": [
      "found it\n"
     ]
    }
   ],
   "source": [
    "for ix in range(len(trainset)):\n",
    "#     ctx, inpts, tgts, ref_inpts, ref_tgts, sel_tgt, \\\n",
    "#     [scenario_id], real_ids, agents, chat_ids, sel_idxs, \\\n",
    "#     lens, rev_idxs, hid_idxs, all_num_markables = trainset[ix]\n",
    "    \n",
    "    ctx, inpts, tgts, ref_inpts, ref_tgts, sel_tgt, \\\n",
    "    [scenario_id], real_ids, partner_real_ids, agents, chat_ids, sel_idxs, \\\n",
    "    lens, rev_idxs, hid_idxs, num_markables, \\\n",
    "    is_self, partner_ref_inpts, partner_ref_tgts_our_view, all_partner_num_markables,\\\n",
    "    ref_disagreements, partner_ref_disagreements = trainset[ix]\n",
    "\n",
    "    if 'C_d0de3d0144df405e998ae718539ff9a4' in chat_ids:\n",
    "#     if scenario_id == 'S_UoujG1GG6KscmnbN':\n",
    "        print(\"found it\")\n",
    "        scenario = train_scenarios[scenario_id]\n",
    "        break"
   ]
  },
  {
   "cell_type": "code",
   "execution_count": 36,
   "metadata": {},
   "outputs": [
    {
     "data": {
      "text/plain": [
       "dict_keys(['basic', 'encoder-filtered-shared', 'encoder-filtered-separate', 'encoder-filtered-separate-diffs'])"
      ]
     },
     "execution_count": 36,
     "metadata": {},
     "output_type": "execute_result"
    }
   ],
   "source": [
    "models.keys()"
   ]
  },
  {
   "cell_type": "code",
   "execution_count": 38,
   "metadata": {},
   "outputs": [],
   "source": [
    "model = models['encoder-filtered-separate-diffs']"
   ]
  },
  {
   "cell_type": "code",
   "execution_count": 39,
   "metadata": {},
   "outputs": [],
   "source": [
    "alice = RnnAgent(model, args)\n",
    "bob = RnnAgent(model, args)"
   ]
  },
  {
   "cell_type": "code",
   "execution_count": 45,
   "metadata": {
    "scrolled": false
   },
   "outputs": [],
   "source": [
    "def force_contexts_and_mentions(index, datasplit=validset, samples=10, sample_temperature=0.25, argmax_temperature=0.005):\n",
    "    ctx, inpts, tgts, ref_inpts, ref_tgts, sel_tgt, \\\n",
    "    [scenario_id], real_ids, partner_real_ids, agents, chat_ids, sel_idxs, \\\n",
    "    lens, rev_idxs, hid_idxs, num_markables, \\\n",
    "    is_self, partner_ref_inpts, partner_ref_tgts_our_view, all_partner_num_markables,\\\n",
    "    ref_disagreements, partner_ref_disagreements = datasplit[index]\n",
    "    \n",
    "    scenario = all_scenarios[scenario_id]\n",
    "    agent = alice\n",
    "    agent.feed_context(ctx.flatten())\n",
    "    agent.real_ids = real_ids\n",
    "    agent.agent_id = agents[0]\n",
    "\n",
    "    writer = alice\n",
    "    conv = []\n",
    "    speaker = []\n",
    "    words_left = 5000\n",
    "\n",
    "    sentence_ix = 0\n",
    "\n",
    "    assert len(inpts) == len(tgts)\n",
    "\n",
    "    while sentence_ix < len(inpts):\n",
    "        words_og = [corpus.word_dict.idx2word[ix] for ix in inpts[sentence_ix].flatten().numpy()]\n",
    "\n",
    "        if ref_inpts[sentence_ix] is not None:\n",
    "            dots_mentioned = (ref_tgts[sentence_ix].sum(dim=1) > 0)\n",
    "            dots_mentioned_per_ref = ref_tgts[sentence_ix]\n",
    "            this_num_markables = num_markables[sentence_ix]\n",
    "    #         display_attn(scenario, dots_mentioned.float(), writer.agent_id, name='dots_mentioned')\n",
    "            mentions = [dots_mentioned_per_ref[:,mention_ix].float()  for mention_ix in range(dots_mentioned_per_ref.size(1))]\n",
    "            display_attns(scenario, mentions, writer.agent_id)\n",
    "#             for mention_ix in range(dots_mentioned_per_ref.size(1)):\n",
    "#                 display_attn(scenario, dots_mentioned_per_ref[:,mention_ix].float(), writer.agent_id, name=f'dots_mentioned_{mention_ix}')\n",
    "        else:\n",
    "            dots_mentioned = torch.zeros(1, 7).bool()\n",
    "            dots_mentioned_per_ref = torch.zeros(1, 0, 7).bool()\n",
    "            this_num_markables = torch.LongTensor([0])\n",
    "\n",
    "        if is_self[sentence_ix]:\n",
    "            for sample_ix in range(samples):\n",
    "                pred_outs, _, _, _, extra = writer.model.write(\n",
    "                    writer.ctx, writer.ctx_differences, writer.ctx_h, writer.reader_and_writer_lang_h, \n",
    "                    words_left, sample_temperature,\n",
    "                    dots_mentioned=dots_mentioned,\n",
    "                    dots_mentioned_per_ref=dots_mentioned_per_ref,\n",
    "                    num_markables=this_num_markables\n",
    "                )\n",
    "                print('sample {}\\t{}'.format(sample_ix, ' '.join(writer._decode(pred_outs, writer.model.word_dict))))\n",
    "            pred_outs, _, _, _, extra = writer.model.write(\n",
    "                writer.ctx, writer.ctx_differences, writer.ctx_h, writer.reader_and_writer_lang_h, \n",
    "                words_left, argmax_temperature,\n",
    "                dots_mentioned=dots_mentioned,\n",
    "                dots_mentioned_per_ref=dots_mentioned_per_ref,\n",
    "                num_markables=this_num_markables\n",
    "            )\n",
    "            print('argmax\\t{}'.format(' '.join(writer._decode(pred_outs, writer.model.word_dict))))\n",
    "    #         print(' '.join(words_og))\n",
    "\n",
    "            out = writer.write(\n",
    "                max_words=words_left,\n",
    "                force_words=[words_og],\n",
    "                start_token=words_og[0],\n",
    "                dots_mentioned=dots_mentioned,\n",
    "                dots_mentioned_per_ref=dots_mentioned_per_ref,\n",
    "                num_markables=this_num_markables,\n",
    "            )\n",
    "\n",
    "    #         if writer.extras[-1]['feed_ctx_attn_prob'] is not None:\n",
    "    #             display_attn(scenario, writer.extras[-1]['feed_ctx_attn_prob'], writer.agent_id, name='feed attention')\n",
    "\n",
    "    #         if 'word_ctx_attn_prob_mean' in writer.extras[-1]:\n",
    "    #             display_attn(scenario, writer.extras[-1]['word_ctx_attn_prob_mean'], writer.agent_id, name='word attention mean')\n",
    "\n",
    "    #         for ix, ix_attn in enumerate(writer.extras[-1]['word_ctx_attn_probs']):\n",
    "    #             display_attn(scenario, ix_attn, writer.agent_id, name='t {}: {}'.format(ix, out[ix]))\n",
    "\n",
    "        else:\n",
    "            out = words_og\n",
    "            writer.read(words_og,\n",
    "                        dots_mentioned=dots_mentioned,\n",
    "                        dots_mentioned_per_ref=dots_mentioned_per_ref,\n",
    "                        num_markables=this_num_markables)\n",
    "\n",
    "        print('human\\t{}'.format(' '.join(out)))\n",
    "        print()\n",
    "        print('-'*40)\n",
    "        print()\n",
    "        words_left -= len(out)\n",
    "        conv.append(out)\n",
    "        if is_selection(out) or words_left <= 1:\n",
    "            break\n",
    "        sentence_ix += 1"
   ]
  },
  {
   "cell_type": "code",
   "execution_count": 46,
   "metadata": {
    "scrolled": false
   },
   "outputs": [
    {
     "name": "stdout",
     "output_type": "stream",
     "text": [
      "human\tTHEM: i have one large very light dot way off on its own <eos>\n",
      "\n",
      "----------------------------------------\n",
      "\n"
     ]
    },
    {
     "data": {
      "text/html": [
       "<div style=\"white-space: nowrap\"><svg viewbox='0 0 430 430' width=\"258\" height=\"258\" id=\"agent_1\"><circle cx=\"215\" cy=\"215\" r=\"205\" fill=\"none\" stroke=\"black\" stroke-width=\"2\" stroke-dasharray=\"3,3\"/><circle cx=\"115\" cy=\"200\" r=\"9\" fill=\"rgb(143,143,143)\"/><circle cx=\"25\" cy=\"256\" r=\"12\" fill=\"rgb(113,113,113)\"/><circle cx=\"292\" cy=\"148\" r=\"12\" fill=\"rgb(91,91,91)\"/><circle cx=\"165\" cy=\"218\" r=\"10\" fill=\"rgb(178,178,178)\"/><circle cx=\"252\" cy=\"30\" r=\"9\" fill=\"rgb(147,147,147)\"/><circle cx=\"125\" cy=\"265\" r=\"10\" fill=\"rgb(153,153,153)\"/><circle cx=\"54\" cy=\"109\" r=\"11\" fill=\"rgb(169,169,169)\"/></svg><svg viewBox='0 0 430 430' id=\"svg\" width=\"258\" height=\"258\"><circle cx=\"215\" cy=\"215\" r=\"205\" fill=\"none\" stroke=\"black\" stroke-width=\"2\" stroke-dasharray=\"3,3\"/> <circle cx=\"115\" cy=\"200\" r=\"9\" fill=\"rgb(255,0,0)\" class=\"agent_1_10\"/><circle cx=\"25\" cy=\"256\" r=\"12\" fill=\"rgb(255,255,255)\" class=\"agent_1_12\"/><circle cx=\"292\" cy=\"148\" r=\"12\" fill=\"rgb(255,255,255)\" class=\"agent_1_18\"/><circle cx=\"165\" cy=\"218\" r=\"10\" fill=\"rgb(255,0,0)\" class=\"agent_1_26\"/><circle cx=\"252\" cy=\"30\" r=\"9\" fill=\"rgb(255,255,255)\" class=\"agent_1_40\"/><circle cx=\"125\" cy=\"265\" r=\"10\" fill=\"rgb(255,0,0)\" class=\"agent_1_52\"/><circle cx=\"54\" cy=\"109\" r=\"11\" fill=\"rgb(255,255,255)\" class=\"agent_1_57\"/></svg><svg viewBox='0 0 430 430' id=\"svg\" width=\"258\" height=\"258\"><circle cx=\"215\" cy=\"215\" r=\"205\" fill=\"none\" stroke=\"black\" stroke-width=\"2\" stroke-dasharray=\"3,3\"/> <circle cx=\"115\" cy=\"200\" r=\"9\" fill=\"rgb(255,255,255)\" class=\"agent_1_10\"/><circle cx=\"25\" cy=\"256\" r=\"12\" fill=\"rgb(255,255,255)\" class=\"agent_1_12\"/><circle cx=\"292\" cy=\"148\" r=\"12\" fill=\"rgb(255,255,255)\" class=\"agent_1_18\"/><circle cx=\"165\" cy=\"218\" r=\"10\" fill=\"rgb(255,0,0)\" class=\"agent_1_26\"/><circle cx=\"252\" cy=\"30\" r=\"9\" fill=\"rgb(255,255,255)\" class=\"agent_1_40\"/><circle cx=\"125\" cy=\"265\" r=\"10\" fill=\"rgb(255,255,255)\" class=\"agent_1_52\"/><circle cx=\"54\" cy=\"109\" r=\"11\" fill=\"rgb(255,255,255)\" class=\"agent_1_57\"/></svg></div>"
      ],
      "text/plain": [
       "<IPython.core.display.HTML object>"
      ]
     },
     "metadata": {},
     "output_type": "display_data"
    },
    {
     "name": "stdout",
     "output_type": "stream",
     "text": [
      "sample 0\ti see a triangle of light grey dots , one is slightly lighter and slightly smaller <eos>\n",
      "sample 1\ti have a triangle of light grey dots , the top one is a little bigger and lighter <eos>\n",
      "sample 2\ti have a cluster of three dots . the top one is the lightest and the smallest <eos>\n",
      "sample 3\ti have a triangle of dots , the top one is the lightest and the smallest <eos>\n",
      "sample 4\ti see a cluster of three dots that form a triangle . the top one is the lightest and the smallest <eos>\n",
      "sample 5\ti have a cluster of three dots . the middle one is the lightest and smallest <eos>\n",
      "sample 6\ti see a group of three dots . the top one is the lightest <eos>\n",
      "sample 7\ti have three dots in a triangle , the top one is the lightest <eos>\n",
      "sample 8\ti have a triangle of light gray dots , the top one is a little darker and slightly smaller <eos>\n",
      "sample 9\ti have a cluster of 3 dots , the bottom one is the lightest and the smallest <eos>\n",
      "argmax\ti have a triangle of dots , the top one is the lightest and the smallest <eos>\n",
      "human\ti dont . do you see three dots that make a triangle ? one of the dots is a lighter shade <eos>\n",
      "\n",
      "----------------------------------------\n",
      "\n",
      "human\tTHEM: yes i do . the lightest is on the right ? <eos>\n",
      "\n",
      "----------------------------------------\n",
      "\n",
      "sample 0\tyes <eos>\n",
      "sample 1\tyes <eos>\n",
      "sample 2\tyes <eos>\n",
      "sample 3\tyes <eos>\n",
      "sample 4\tyes <eos>\n",
      "sample 5\tyes <eos>\n",
      "sample 6\tyes <eos>\n",
      "sample 7\tyes <eos>\n",
      "sample 8\tyes <eos>\n",
      "sample 9\tyes <eos>\n",
      "argmax\tyes <eos>\n",
      "human\tyes ! <eos>\n",
      "\n",
      "----------------------------------------\n",
      "\n",
      "human\tTHEM: lets select the lightest one ? <eos>\n",
      "\n",
      "----------------------------------------\n",
      "\n",
      "sample 0\tok <selection>\n",
      "sample 1\tok <selection>\n",
      "sample 2\tok <selection>\n",
      "sample 3\tok <selection>\n",
      "sample 4\tok <selection>\n",
      "sample 5\tok <selection>\n",
      "sample 6\tok <selection>\n",
      "sample 7\tok <selection>\n",
      "sample 8\tok <selection>\n",
      "sample 9\tok <selection>\n",
      "argmax\tok <selection>\n",
      "human\tlet 's do it ! ! <selection>\n",
      "\n",
      "----------------------------------------\n",
      "\n"
     ]
    }
   ],
   "source": [
    "force_contexts_and_mentions(1)"
   ]
  },
  {
   "cell_type": "code",
   "execution_count": 47,
   "metadata": {
    "scrolled": false
   },
   "outputs": [
    {
     "name": "stdout",
     "output_type": "stream",
     "text": [
      "human\tTHEM: i have to two same tiny and light dot close in vertical <unk> <eos>\n",
      "\n",
      "----------------------------------------\n",
      "\n"
     ]
    },
    {
     "data": {
      "text/html": [
       "<div style=\"white-space: nowrap\"><svg viewbox='0 0 430 430' width=\"258\" height=\"258\" id=\"agent_1\"><circle cx=\"215\" cy=\"215\" r=\"205\" fill=\"none\" stroke=\"black\" stroke-width=\"2\" stroke-dasharray=\"3,3\"/><circle cx=\"71\" cy=\"190\" r=\"9\" fill=\"rgb(70,70,70)\"/><circle cx=\"203\" cy=\"181\" r=\"11\" fill=\"rgb(100,100,100)\"/><circle cx=\"297\" cy=\"303\" r=\"8\" fill=\"rgb(178,178,178)\"/><circle cx=\"36\" cy=\"242\" r=\"11\" fill=\"rgb(86,86,86)\"/><circle cx=\"208\" cy=\"257\" r=\"9\" fill=\"rgb(109,109,109)\"/><circle cx=\"315\" cy=\"134\" r=\"10\" fill=\"rgb(107,107,107)\"/><circle cx=\"305\" cy=\"257\" r=\"8\" fill=\"rgb(167,167,167)\"/></svg><svg viewBox='0 0 430 430' id=\"svg\" width=\"258\" height=\"258\"><circle cx=\"215\" cy=\"215\" r=\"205\" fill=\"none\" stroke=\"black\" stroke-width=\"2\" stroke-dasharray=\"3,3\"/> <circle cx=\"71\" cy=\"190\" r=\"9\" fill=\"rgb(255,255,255)\" class=\"agent_1_7\"/><circle cx=\"203\" cy=\"181\" r=\"11\" fill=\"rgb(255,255,255)\" class=\"agent_1_24\"/><circle cx=\"297\" cy=\"303\" r=\"8\" fill=\"rgb(255,0,0)\" class=\"agent_1_28\"/><circle cx=\"36\" cy=\"242\" r=\"11\" fill=\"rgb(255,255,255)\" class=\"agent_1_34\"/><circle cx=\"208\" cy=\"257\" r=\"9\" fill=\"rgb(255,255,255)\" class=\"agent_1_54\"/><circle cx=\"315\" cy=\"134\" r=\"10\" fill=\"rgb(255,255,255)\" class=\"agent_1_60\"/><circle cx=\"305\" cy=\"257\" r=\"8\" fill=\"rgb(255,0,0)\" class=\"agent_1_76\"/></svg><svg viewBox='0 0 430 430' id=\"svg\" width=\"258\" height=\"258\"><circle cx=\"215\" cy=\"215\" r=\"205\" fill=\"none\" stroke=\"black\" stroke-width=\"2\" stroke-dasharray=\"3,3\"/> <circle cx=\"71\" cy=\"190\" r=\"9\" fill=\"rgb(255,255,255)\" class=\"agent_1_7\"/><circle cx=\"203\" cy=\"181\" r=\"11\" fill=\"rgb(255,255,255)\" class=\"agent_1_24\"/><circle cx=\"297\" cy=\"303\" r=\"8\" fill=\"rgb(255,0,0)\" class=\"agent_1_28\"/><circle cx=\"36\" cy=\"242\" r=\"11\" fill=\"rgb(255,255,255)\" class=\"agent_1_34\"/><circle cx=\"208\" cy=\"257\" r=\"9\" fill=\"rgb(255,255,255)\" class=\"agent_1_54\"/><circle cx=\"315\" cy=\"134\" r=\"10\" fill=\"rgb(255,255,255)\" class=\"agent_1_60\"/><circle cx=\"305\" cy=\"257\" r=\"8\" fill=\"rgb(255,0,0)\" class=\"agent_1_76\"/></svg></div>"
      ],
      "text/plain": [
       "<IPython.core.display.HTML object>"
      ]
     },
     "metadata": {},
     "output_type": "display_data"
    },
    {
     "name": "stdout",
     "output_type": "stream",
     "text": [
      "sample 0\ti have a pair of light grey dots , one is slightly lower and to the left <eos>\n",
      "sample 1\ti have a pair of small dots , the one on the right is slightly higher and slightly lighter <eos>\n",
      "sample 2\ti have a triangle of dots that are the same size and color , and the one on the right is a little lighter and a little bit to the right <eos>\n",
      "sample 3\ti see two small light gray dots , they are both light grey <eos>\n",
      "sample 4\ti have three dots that are very close together and the top one is a little larger and slightly lighter <eos>\n",
      "sample 5\ti see that . let 's pick the top one . <eos>\n",
      "sample 6\ti have two small light grey dots , one is slightly lower and to the right <eos>\n",
      "sample 7\ti have a pair of small dots , the one on the right is slightly lower and slightly lighter <eos>\n",
      "sample 8\ti see two very light grey dots , one is slightly lower and to the right <eos>\n",
      "sample 9\ti have a pair of light grey dots , one on the right is slightly lighter <eos>\n",
      "argmax\ti have two small light grey dots , one is slightly lower and to the right <eos>\n",
      "human\ti have 2 light gray dot tiny almost on top of each other <eos>\n",
      "\n",
      "----------------------------------------\n",
      "\n",
      "human\tTHEM: select the topmost <selection>\n",
      "\n",
      "----------------------------------------\n",
      "\n"
     ]
    }
   ],
   "source": [
    "force_contexts_and_mentions(2)"
   ]
  },
  {
   "cell_type": "code",
   "execution_count": 48,
   "metadata": {
    "scrolled": false
   },
   "outputs": [
    {
     "data": {
      "text/html": [
       "<div style=\"white-space: nowrap\"><svg viewbox='0 0 430 430' width=\"258\" height=\"258\" id=\"agent_0\"><circle cx=\"215\" cy=\"215\" r=\"205\" fill=\"none\" stroke=\"black\" stroke-width=\"2\" stroke-dasharray=\"3,3\"/><circle cx=\"367\" cy=\"165\" r=\"11\" fill=\"rgb(104,104,104)\"/><circle cx=\"299\" cy=\"186\" r=\"10\" fill=\"rgb(169,169,169)\"/><circle cx=\"85\" cy=\"107\" r=\"10\" fill=\"rgb(157,157,157)\"/><circle cx=\"176\" cy=\"105\" r=\"13\" fill=\"rgb(62,62,62)\"/><circle cx=\"321\" cy=\"52\" r=\"13\" fill=\"rgb(169,169,169)\"/><circle cx=\"248\" cy=\"71\" r=\"12\" fill=\"rgb(200,200,200)\"/><circle cx=\"90\" cy=\"251\" r=\"12\" fill=\"rgb(145,145,145)\"/></svg><svg viewBox='0 0 430 430' id=\"svg\" width=\"258\" height=\"258\"><circle cx=\"215\" cy=\"215\" r=\"205\" fill=\"none\" stroke=\"black\" stroke-width=\"2\" stroke-dasharray=\"3,3\"/> <circle cx=\"367\" cy=\"165\" r=\"11\" fill=\"rgb(255,255,255)\" class=\"agent_0_15\"/><circle cx=\"299\" cy=\"186\" r=\"10\" fill=\"rgb(255,255,255)\" class=\"agent_0_17\"/><circle cx=\"85\" cy=\"107\" r=\"10\" fill=\"rgb(255,255,255)\" class=\"agent_0_26\"/><circle cx=\"176\" cy=\"105\" r=\"13\" fill=\"rgb(255,0,0)\" class=\"agent_0_29\"/><circle cx=\"321\" cy=\"52\" r=\"13\" fill=\"rgb(255,255,255)\" class=\"agent_0_37\"/><circle cx=\"248\" cy=\"71\" r=\"12\" fill=\"rgb(255,255,255)\" class=\"agent_0_59\"/><circle cx=\"90\" cy=\"251\" r=\"12\" fill=\"rgb(255,255,255)\" class=\"agent_0_66\"/></svg><svg viewBox='0 0 430 430' id=\"svg\" width=\"258\" height=\"258\"><circle cx=\"215\" cy=\"215\" r=\"205\" fill=\"none\" stroke=\"black\" stroke-width=\"2\" stroke-dasharray=\"3,3\"/> <circle cx=\"367\" cy=\"165\" r=\"11\" fill=\"rgb(255,255,255)\" class=\"agent_0_15\"/><circle cx=\"299\" cy=\"186\" r=\"10\" fill=\"rgb(255,255,255)\" class=\"agent_0_17\"/><circle cx=\"85\" cy=\"107\" r=\"10\" fill=\"rgb(255,255,255)\" class=\"agent_0_26\"/><circle cx=\"176\" cy=\"105\" r=\"13\" fill=\"rgb(255,0,0)\" class=\"agent_0_29\"/><circle cx=\"321\" cy=\"52\" r=\"13\" fill=\"rgb(255,255,255)\" class=\"agent_0_37\"/><circle cx=\"248\" cy=\"71\" r=\"12\" fill=\"rgb(255,255,255)\" class=\"agent_0_59\"/><circle cx=\"90\" cy=\"251\" r=\"12\" fill=\"rgb(255,255,255)\" class=\"agent_0_66\"/></svg></div>"
      ],
      "text/plain": [
       "<IPython.core.display.HTML object>"
      ]
     },
     "metadata": {},
     "output_type": "display_data"
    },
    {
     "name": "stdout",
     "output_type": "stream",
     "text": [
      "sample 0\ti have a large black dot by itself <eos>\n",
      "sample 1\ti have a large black dot by itself <eos>\n",
      "sample 2\ti have one large black dot by itself <eos>\n",
      "sample 3\ti have a large black dot by itself <eos>\n",
      "sample 4\ti have one large black dot by itself <eos>\n",
      "sample 5\ti have a large black dot by itself <eos>\n",
      "sample 6\ti have one large black dot . it is large <eos>\n",
      "sample 7\ti have a large black dot by itself <eos>\n",
      "sample 8\ti have one large black dot , it is near the upper left of my circle . <eos>\n",
      "sample 9\ti have a large black dot by itself <eos>\n",
      "argmax\ti have a large black dot by itself <eos>\n",
      "human\tdo you see one very large black dot ? it 's the only dark dark one <eos>\n",
      "\n",
      "----------------------------------------\n",
      "\n",
      "human\tTHEM: i see that but i also have a medium sized very dark one as well . is the large black one almost exactly in between two other dots . the one on the right being lightly smaller and very light and the one on the left being smaller and medium grey ? <eos>\n",
      "\n",
      "----------------------------------------\n",
      "\n"
     ]
    },
    {
     "data": {
      "text/html": [
       "<div style=\"white-space: nowrap\"><svg viewbox='0 0 430 430' width=\"258\" height=\"258\" id=\"agent_0\"><circle cx=\"215\" cy=\"215\" r=\"205\" fill=\"none\" stroke=\"black\" stroke-width=\"2\" stroke-dasharray=\"3,3\"/><circle cx=\"367\" cy=\"165\" r=\"11\" fill=\"rgb(104,104,104)\"/><circle cx=\"299\" cy=\"186\" r=\"10\" fill=\"rgb(169,169,169)\"/><circle cx=\"85\" cy=\"107\" r=\"10\" fill=\"rgb(157,157,157)\"/><circle cx=\"176\" cy=\"105\" r=\"13\" fill=\"rgb(62,62,62)\"/><circle cx=\"321\" cy=\"52\" r=\"13\" fill=\"rgb(169,169,169)\"/><circle cx=\"248\" cy=\"71\" r=\"12\" fill=\"rgb(200,200,200)\"/><circle cx=\"90\" cy=\"251\" r=\"12\" fill=\"rgb(145,145,145)\"/></svg><svg viewBox='0 0 430 430' id=\"svg\" width=\"258\" height=\"258\"><circle cx=\"215\" cy=\"215\" r=\"205\" fill=\"none\" stroke=\"black\" stroke-width=\"2\" stroke-dasharray=\"3,3\"/> <circle cx=\"367\" cy=\"165\" r=\"11\" fill=\"rgb(255,255,255)\" class=\"agent_0_15\"/><circle cx=\"299\" cy=\"186\" r=\"10\" fill=\"rgb(255,255,255)\" class=\"agent_0_17\"/><circle cx=\"85\" cy=\"107\" r=\"10\" fill=\"rgb(255,255,255)\" class=\"agent_0_26\"/><circle cx=\"176\" cy=\"105\" r=\"13\" fill=\"rgb(255,0,0)\" class=\"agent_0_29\"/><circle cx=\"321\" cy=\"52\" r=\"13\" fill=\"rgb(255,255,255)\" class=\"agent_0_37\"/><circle cx=\"248\" cy=\"71\" r=\"12\" fill=\"rgb(255,255,255)\" class=\"agent_0_59\"/><circle cx=\"90\" cy=\"251\" r=\"12\" fill=\"rgb(255,255,255)\" class=\"agent_0_66\"/></svg></div>"
      ],
      "text/plain": [
       "<IPython.core.display.HTML object>"
      ]
     },
     "metadata": {},
     "output_type": "display_data"
    },
    {
     "name": "stdout",
     "output_type": "stream",
     "text": [
      "sample 0\tyes ! let 's pick the black one . <selection>\n",
      "sample 1\tyes , let 's choose the black one . <selection>\n",
      "sample 2\tyes , let 's choose the large black one . <selection>\n",
      "sample 3\tyes , let 's pick the black one . <selection>\n",
      "sample 4\tyes ! let 's pick the large black one ! <selection>\n",
      "sample 5\tyes . let 's pick the large black one <selection>\n",
      "sample 6\tyes . let 's choose the large black one . <selection>\n",
      "sample 7\tyes . let 's pick the large black one . <selection>\n",
      "sample 8\tyes , let 's pick the large black one . <selection>\n",
      "sample 9\tyes , let 's pick the black one . <selection>\n",
      "argmax\tyes , let 's pick the large black one . <selection>\n",
      "human\tyes ... shall we choose the larger black spot then ? <eos>\n",
      "\n",
      "----------------------------------------\n",
      "\n",
      "human\tTHEM: yep <selection>\n",
      "\n",
      "----------------------------------------\n",
      "\n"
     ]
    }
   ],
   "source": [
    "force_contexts_and_mentions(3)"
   ]
  },
  {
   "cell_type": "code",
   "execution_count": 49,
   "metadata": {
    "scrolled": false
   },
   "outputs": [
    {
     "name": "stdout",
     "output_type": "stream",
     "text": [
      "human\tTHEM: i have a tiny dark dot with a large dark dot directly above it <eos>\n",
      "\n",
      "----------------------------------------\n",
      "\n"
     ]
    },
    {
     "data": {
      "text/html": [
       "<div style=\"white-space: nowrap\"><svg viewbox='0 0 430 430' width=\"258\" height=\"258\" id=\"agent_1\"><circle cx=\"215\" cy=\"215\" r=\"205\" fill=\"none\" stroke=\"black\" stroke-width=\"2\" stroke-dasharray=\"3,3\"/><circle cx=\"358\" cy=\"92\" r=\"13\" fill=\"rgb(135,135,135)\"/><circle cx=\"155\" cy=\"387\" r=\"7\" fill=\"rgb(81,81,81)\"/><circle cx=\"98\" cy=\"102\" r=\"7\" fill=\"rgb(103,103,103)\"/><circle cx=\"148\" cy=\"341\" r=\"12\" fill=\"rgb(81,81,81)\"/><circle cx=\"237\" cy=\"270\" r=\"9\" fill=\"rgb(70,70,70)\"/><circle cx=\"69\" cy=\"168\" r=\"8\" fill=\"rgb(146,146,146)\"/><circle cx=\"367\" cy=\"194\" r=\"12\" fill=\"rgb(62,62,62)\"/></svg><svg viewBox='0 0 430 430' id=\"svg\" width=\"258\" height=\"258\"><circle cx=\"215\" cy=\"215\" r=\"205\" fill=\"none\" stroke=\"black\" stroke-width=\"2\" stroke-dasharray=\"3,3\"/> <circle cx=\"358\" cy=\"92\" r=\"13\" fill=\"rgb(255,255,255)\" class=\"agent_1_13\"/><circle cx=\"155\" cy=\"387\" r=\"7\" fill=\"rgb(255,255,255)\" class=\"agent_1_14\"/><circle cx=\"98\" cy=\"102\" r=\"7\" fill=\"rgb(255,255,255)\" class=\"agent_1_15\"/><circle cx=\"148\" cy=\"341\" r=\"12\" fill=\"rgb(255,0,0)\" class=\"agent_1_42\"/><circle cx=\"237\" cy=\"270\" r=\"9\" fill=\"rgb(255,0,0)\" class=\"agent_1_53\"/><circle cx=\"69\" cy=\"168\" r=\"8\" fill=\"rgb(255,255,255)\" class=\"agent_1_61\"/><circle cx=\"367\" cy=\"194\" r=\"12\" fill=\"rgb(255,0,0)\" class=\"agent_1_79\"/></svg><svg viewBox='0 0 430 430' id=\"svg\" width=\"258\" height=\"258\"><circle cx=\"215\" cy=\"215\" r=\"205\" fill=\"none\" stroke=\"black\" stroke-width=\"2\" stroke-dasharray=\"3,3\"/> <circle cx=\"358\" cy=\"92\" r=\"13\" fill=\"rgb(255,255,255)\" class=\"agent_1_13\"/><circle cx=\"155\" cy=\"387\" r=\"7\" fill=\"rgb(255,255,255)\" class=\"agent_1_14\"/><circle cx=\"98\" cy=\"102\" r=\"7\" fill=\"rgb(255,255,255)\" class=\"agent_1_15\"/><circle cx=\"148\" cy=\"341\" r=\"12\" fill=\"rgb(255,0,0)\" class=\"agent_1_42\"/><circle cx=\"237\" cy=\"270\" r=\"9\" fill=\"rgb(255,0,0)\" class=\"agent_1_53\"/><circle cx=\"69\" cy=\"168\" r=\"8\" fill=\"rgb(255,255,255)\" class=\"agent_1_61\"/><circle cx=\"367\" cy=\"194\" r=\"12\" fill=\"rgb(255,0,0)\" class=\"agent_1_79\"/></svg><svg viewBox='0 0 430 430' id=\"svg\" width=\"258\" height=\"258\"><circle cx=\"215\" cy=\"215\" r=\"205\" fill=\"none\" stroke=\"black\" stroke-width=\"2\" stroke-dasharray=\"3,3\"/> <circle cx=\"358\" cy=\"92\" r=\"13\" fill=\"rgb(255,255,255)\" class=\"agent_1_13\"/><circle cx=\"155\" cy=\"387\" r=\"7\" fill=\"rgb(255,255,255)\" class=\"agent_1_14\"/><circle cx=\"98\" cy=\"102\" r=\"7\" fill=\"rgb(255,255,255)\" class=\"agent_1_15\"/><circle cx=\"148\" cy=\"341\" r=\"12\" fill=\"rgb(255,255,255)\" class=\"agent_1_42\"/><circle cx=\"237\" cy=\"270\" r=\"9\" fill=\"rgb(255,0,0)\" class=\"agent_1_53\"/><circle cx=\"69\" cy=\"168\" r=\"8\" fill=\"rgb(255,255,255)\" class=\"agent_1_61\"/><circle cx=\"367\" cy=\"194\" r=\"12\" fill=\"rgb(255,255,255)\" class=\"agent_1_79\"/></svg></div>"
      ],
      "text/plain": [
       "<IPython.core.display.HTML object>"
      ]
     },
     "metadata": {},
     "output_type": "display_data"
    },
    {
     "name": "stdout",
     "output_type": "stream",
     "text": [
      "sample 0\ti have that . is there a smaller dark grey dot to the left of it ? <eos>\n",
      "sample 1\ti have that too . is there a small black dot to the right of it ? <eos>\n",
      "sample 2\ti have that . is the one on the right slightly smaller than the one on the right ? <eos>\n",
      "sample 3\ti have that . is there a small black dot to the right of it ? <eos>\n",
      "sample 4\ti have that . is it above a small black dot ? <eos>\n",
      "sample 5\ti have that . is there a small black dot to the right of it ? <eos>\n",
      "sample 6\ti have that too . is there a small black dot to the right of it ? <eos>\n",
      "sample 7\ti have that too . is there a small black dot to the left of it ? <eos>\n",
      "sample 8\ti have that , i also have a medium black dot with a larger black dot above and to the left of it <eos>\n",
      "sample 9\ti have that . is there a small black dot to the left of it ? <eos>\n",
      "argmax\ti have that . is there a small black dot to the right of it ? <eos>\n",
      "human\ti have a line of three dots , they are all quite dark . the middle is the smallest <eos>\n",
      "\n",
      "----------------------------------------\n",
      "\n",
      "human\tTHEM: yeah . that has to be my large dot in the left of your line . does your line go <unk> towards the right ? <eos>\n",
      "\n",
      "----------------------------------------\n",
      "\n"
     ]
    },
    {
     "data": {
      "text/html": [
       "<div style=\"white-space: nowrap\"><svg viewbox='0 0 430 430' width=\"258\" height=\"258\" id=\"agent_1\"><circle cx=\"215\" cy=\"215\" r=\"205\" fill=\"none\" stroke=\"black\" stroke-width=\"2\" stroke-dasharray=\"3,3\"/><circle cx=\"358\" cy=\"92\" r=\"13\" fill=\"rgb(135,135,135)\"/><circle cx=\"155\" cy=\"387\" r=\"7\" fill=\"rgb(81,81,81)\"/><circle cx=\"98\" cy=\"102\" r=\"7\" fill=\"rgb(103,103,103)\"/><circle cx=\"148\" cy=\"341\" r=\"12\" fill=\"rgb(81,81,81)\"/><circle cx=\"237\" cy=\"270\" r=\"9\" fill=\"rgb(70,70,70)\"/><circle cx=\"69\" cy=\"168\" r=\"8\" fill=\"rgb(146,146,146)\"/><circle cx=\"367\" cy=\"194\" r=\"12\" fill=\"rgb(62,62,62)\"/></svg><svg viewBox='0 0 430 430' id=\"svg\" width=\"258\" height=\"258\"><circle cx=\"215\" cy=\"215\" r=\"205\" fill=\"none\" stroke=\"black\" stroke-width=\"2\" stroke-dasharray=\"3,3\"/> <circle cx=\"358\" cy=\"92\" r=\"13\" fill=\"rgb(255,255,255)\" class=\"agent_1_13\"/><circle cx=\"155\" cy=\"387\" r=\"7\" fill=\"rgb(255,0,0)\" class=\"agent_1_14\"/><circle cx=\"98\" cy=\"102\" r=\"7\" fill=\"rgb(255,255,255)\" class=\"agent_1_15\"/><circle cx=\"148\" cy=\"341\" r=\"12\" fill=\"rgb(255,255,255)\" class=\"agent_1_42\"/><circle cx=\"237\" cy=\"270\" r=\"9\" fill=\"rgb(255,255,255)\" class=\"agent_1_53\"/><circle cx=\"69\" cy=\"168\" r=\"8\" fill=\"rgb(255,255,255)\" class=\"agent_1_61\"/><circle cx=\"367\" cy=\"194\" r=\"12\" fill=\"rgb(255,255,255)\" class=\"agent_1_79\"/></svg><svg viewBox='0 0 430 430' id=\"svg\" width=\"258\" height=\"258\"><circle cx=\"215\" cy=\"215\" r=\"205\" fill=\"none\" stroke=\"black\" stroke-width=\"2\" stroke-dasharray=\"3,3\"/> <circle cx=\"358\" cy=\"92\" r=\"13\" fill=\"rgb(255,255,255)\" class=\"agent_1_13\"/><circle cx=\"155\" cy=\"387\" r=\"7\" fill=\"rgb(255,0,0)\" class=\"agent_1_14\"/><circle cx=\"98\" cy=\"102\" r=\"7\" fill=\"rgb(255,255,255)\" class=\"agent_1_15\"/><circle cx=\"148\" cy=\"341\" r=\"12\" fill=\"rgb(255,255,255)\" class=\"agent_1_42\"/><circle cx=\"237\" cy=\"270\" r=\"9\" fill=\"rgb(255,255,255)\" class=\"agent_1_53\"/><circle cx=\"69\" cy=\"168\" r=\"8\" fill=\"rgb(255,255,255)\" class=\"agent_1_61\"/><circle cx=\"367\" cy=\"194\" r=\"12\" fill=\"rgb(255,255,255)\" class=\"agent_1_79\"/></svg></div>"
      ],
      "text/plain": [
       "<IPython.core.display.HTML object>"
      ]
     },
     "metadata": {},
     "output_type": "display_data"
    },
    {
     "name": "stdout",
     "output_type": "stream",
     "text": [
      "sample 0\tyes , the small one is to the right , but the smallest is the darkest <eos>\n",
      "sample 1\tyes , lets choose the small one , i think that is the one <selection>\n",
      "sample 2\tyes , i have that one too . let 's choose that one . <selection>\n",
      "sample 3\tyes , i think i see it . let 's pick the middle one . <selection>\n",
      "sample 4\tyes , let 's choose the small one . the top one . <selection>\n",
      "sample 5\tyes , i think we should pick the one that is the darkest one <selection>\n",
      "sample 6\tyes . let 's pick the small dark one , i think that is the same one <selection>\n",
      "sample 7\tyes , let 's pick the small one on the bottom , the top one . <selection>\n",
      "sample 8\tyes , i have that one . let 's pick the tiny one . <selection>\n",
      "sample 9\tyes , the smaller one is the darkest ? if so click it ! <eos>\n",
      "argmax\tyes , i think we should pick the one that is the darkest <selection>\n",
      "human\tyes . i see your small dot too ... shall we select that tiny dot ? <eos>\n",
      "\n",
      "----------------------------------------\n",
      "\n",
      "human\tTHEM: ok <eos>\n",
      "\n",
      "----------------------------------------\n",
      "\n",
      "human\tTHEM: your dot or mine ? <selection>\n",
      "\n",
      "----------------------------------------\n",
      "\n"
     ]
    }
   ],
   "source": [
    "force_contexts_and_mentions(4)"
   ]
  },
  {
   "cell_type": "code",
   "execution_count": 50,
   "metadata": {
    "scrolled": false
   },
   "outputs": [
    {
     "name": "stdout",
     "output_type": "stream",
     "text": [
      "human\tTHEM: hi ! do you have three dots in a line ? the one to the left is the medium grey , the one in the middle is light and the last one is darkest <eos>\n",
      "\n",
      "----------------------------------------\n",
      "\n",
      "sample 0\tyes <eos>\n",
      "sample 1\tyes <eos>\n",
      "sample 2\tyes <eos>\n",
      "sample 3\tyes <eos>\n",
      "sample 4\tyes <eos>\n",
      "sample 5\tyes <eos>\n",
      "sample 6\tyes ! <eos>\n",
      "sample 7\tyes <eos>\n",
      "sample 8\tyes <eos>\n",
      "sample 9\tyes <eos>\n",
      "argmax\tyes <eos>\n",
      "human\tyes <eos>\n",
      "\n",
      "----------------------------------------\n",
      "\n",
      "human\tTHEM: okay , select the lightest one ! <selection>\n",
      "\n",
      "----------------------------------------\n",
      "\n"
     ]
    }
   ],
   "source": [
    "force_contexts_and_mentions(5)"
   ]
  },
  {
   "cell_type": "code",
   "execution_count": 51,
   "metadata": {
    "scrolled": false
   },
   "outputs": [
    {
     "name": "stdout",
     "output_type": "stream",
     "text": [
      "human\tTHEM: group of four dots that look like a backwards 7 <eos>\n",
      "\n",
      "----------------------------------------\n",
      "\n"
     ]
    },
    {
     "data": {
      "text/html": [
       "<div style=\"white-space: nowrap\"><svg viewbox='0 0 430 430' width=\"258\" height=\"258\" id=\"agent_0\"><circle cx=\"215\" cy=\"215\" r=\"205\" fill=\"none\" stroke=\"black\" stroke-width=\"2\" stroke-dasharray=\"3,3\"/><circle cx=\"41\" cy=\"308\" r=\"11\" fill=\"rgb(75,75,75)\"/><circle cx=\"47\" cy=\"207\" r=\"7\" fill=\"rgb(105,105,105)\"/><circle cx=\"78\" cy=\"269\" r=\"10\" fill=\"rgb(179,179,179)\"/><circle cx=\"335\" cy=\"85\" r=\"8\" fill=\"rgb(177,177,177)\"/><circle cx=\"363\" cy=\"168\" r=\"10\" fill=\"rgb(161,161,161)\"/><circle cx=\"380\" cy=\"321\" r=\"10\" fill=\"rgb(187,187,187)\"/><circle cx=\"95\" cy=\"238\" r=\"13\" fill=\"rgb(73,73,73)\"/></svg><svg viewBox='0 0 430 430' id=\"svg\" width=\"258\" height=\"258\"><circle cx=\"215\" cy=\"215\" r=\"205\" fill=\"none\" stroke=\"black\" stroke-width=\"2\" stroke-dasharray=\"3,3\"/> <circle cx=\"41\" cy=\"308\" r=\"11\" fill=\"rgb(255,255,255)\" class=\"agent_0_2\"/><circle cx=\"47\" cy=\"207\" r=\"7\" fill=\"rgb(255,255,255)\" class=\"agent_0_38\"/><circle cx=\"78\" cy=\"269\" r=\"10\" fill=\"rgb(255,255,255)\" class=\"agent_0_40\"/><circle cx=\"335\" cy=\"85\" r=\"8\" fill=\"rgb(255,255,255)\" class=\"agent_0_46\"/><circle cx=\"363\" cy=\"168\" r=\"10\" fill=\"rgb(255,255,255)\" class=\"agent_0_49\"/><circle cx=\"380\" cy=\"321\" r=\"10\" fill=\"rgb(255,255,255)\" class=\"agent_0_55\"/><circle cx=\"95\" cy=\"238\" r=\"13\" fill=\"rgb(255,0,0)\" class=\"agent_0_58\"/></svg></div>"
      ],
      "text/plain": [
       "<IPython.core.display.HTML object>"
      ]
     },
     "metadata": {},
     "output_type": "display_data"
    },
    {
     "name": "stdout",
     "output_type": "stream",
     "text": [
      "sample 0\ti have a large black dot on the right side of the circle <eos>\n",
      "sample 1\tyes , choose the darkest one ? <eos>\n",
      "sample 2\tyes , is the middle one the darkest ? <eos>\n",
      "sample 3\tis the top one black ? <eos>\n",
      "sample 4\tyes , let 's pick the largest one that is the darkest <eos>\n",
      "sample 5\tyes , i have that one . <eos>\n",
      "sample 6\tyes , the middle one is dark and large ? <eos>\n",
      "sample 7\tyes , lets choose the darkest one <eos>\n",
      "sample 8\tyes , pick the darkest one on the right <selection>\n",
      "sample 9\tyes , is the middle one the darkest ? <eos>\n",
      "argmax\tyes , lets choose the darkest one on the right <selection>\n",
      "human\tyes . select the large black one ? <eos>\n",
      "\n",
      "----------------------------------------\n",
      "\n",
      "human\tTHEM: ok <selection>\n",
      "\n",
      "----------------------------------------\n",
      "\n"
     ]
    }
   ],
   "source": [
    "force_contexts_and_mentions(6)"
   ]
  },
  {
   "cell_type": "code",
   "execution_count": 52,
   "metadata": {
    "scrolled": false
   },
   "outputs": [
    {
     "name": "stdout",
     "output_type": "stream",
     "text": [
      "human\tTHEM: large medium grey one alone <eos>\n",
      "\n",
      "----------------------------------------\n",
      "\n"
     ]
    },
    {
     "data": {
      "text/html": [
       "<div style=\"white-space: nowrap\"><svg viewbox='0 0 430 430' width=\"258\" height=\"258\" id=\"agent_0\"><circle cx=\"215\" cy=\"215\" r=\"205\" fill=\"none\" stroke=\"black\" stroke-width=\"2\" stroke-dasharray=\"3,3\"/><circle cx=\"218\" cy=\"359\" r=\"9\" fill=\"rgb(180,180,180)\"/><circle cx=\"270\" cy=\"235\" r=\"10\" fill=\"rgb(108,108,108)\"/><circle cx=\"273\" cy=\"46\" r=\"9\" fill=\"rgb(80,80,80)\"/><circle cx=\"119\" cy=\"92\" r=\"13\" fill=\"rgb(195,195,195)\"/><circle cx=\"316\" cy=\"320\" r=\"9\" fill=\"rgb(111,111,111)\"/><circle cx=\"368\" cy=\"170\" r=\"11\" fill=\"rgb(84,84,84)\"/><circle cx=\"41\" cy=\"220\" r=\"9\" fill=\"rgb(203,203,203)\"/></svg><svg viewBox='0 0 430 430' id=\"svg\" width=\"258\" height=\"258\"><circle cx=\"215\" cy=\"215\" r=\"205\" fill=\"none\" stroke=\"black\" stroke-width=\"2\" stroke-dasharray=\"3,3\"/> <circle cx=\"218\" cy=\"359\" r=\"9\" fill=\"rgb(255,255,255)\" class=\"agent_0_8\"/><circle cx=\"270\" cy=\"235\" r=\"10\" fill=\"rgb(255,255,255)\" class=\"agent_0_23\"/><circle cx=\"273\" cy=\"46\" r=\"9\" fill=\"rgb(255,255,255)\" class=\"agent_0_35\"/><circle cx=\"119\" cy=\"92\" r=\"13\" fill=\"rgb(255,0,0)\" class=\"agent_0_44\"/><circle cx=\"316\" cy=\"320\" r=\"9\" fill=\"rgb(255,255,255)\" class=\"agent_0_69\"/><circle cx=\"368\" cy=\"170\" r=\"11\" fill=\"rgb(255,255,255)\" class=\"agent_0_76\"/><circle cx=\"41\" cy=\"220\" r=\"9\" fill=\"rgb(255,255,255)\" class=\"agent_0_78\"/></svg></div>"
      ],
      "text/plain": [
       "<IPython.core.display.HTML object>"
      ]
     },
     "metadata": {},
     "output_type": "display_data"
    },
    {
     "name": "stdout",
     "output_type": "stream",
     "text": [
      "sample 0\tyes , i see that one . <eos>\n",
      "sample 1\tyes , i see that one . <eos>\n",
      "sample 2\tyes , i have that one . <eos>\n",
      "sample 3\tyes , i see that one . <eos>\n",
      "sample 4\tyes , it is on the right side of the circle <eos>\n",
      "sample 5\tyes , i see that one <eos>\n",
      "sample 6\tyes , i have that one . <eos>\n",
      "sample 7\tyes , i see that one . <eos>\n",
      "sample 8\tyes , i have a large light grey dot <eos>\n",
      "sample 9\tyes i see that one <eos>\n",
      "argmax\tyes , i have that one . <eos>\n",
      "human\tmedium light grey one alone <eos>\n",
      "\n",
      "----------------------------------------\n",
      "\n",
      "human\tTHEM: above the rest ? <eos>\n",
      "\n",
      "----------------------------------------\n",
      "\n",
      "sample 0\tyes <eos>\n",
      "sample 1\tyes <eos>\n",
      "sample 2\tyes <eos>\n",
      "sample 3\tyes <eos>\n",
      "sample 4\tyes <eos>\n",
      "sample 5\tyes <eos>\n",
      "sample 6\tyes <eos>\n",
      "sample 7\tyes <eos>\n",
      "sample 8\tyes <eos>\n",
      "sample 9\tyes <eos>\n",
      "argmax\tyes <eos>\n",
      "human\tin the top left corner yes <eos>\n",
      "\n",
      "----------------------------------------\n",
      "\n",
      "human\tTHEM: click that one <selection>\n",
      "\n",
      "----------------------------------------\n",
      "\n"
     ]
    }
   ],
   "source": [
    "force_contexts_and_mentions(7)"
   ]
  },
  {
   "cell_type": "code",
   "execution_count": 53,
   "metadata": {
    "scrolled": false
   },
   "outputs": [
    {
     "data": {
      "text/html": [
       "<div style=\"white-space: nowrap\"><svg viewbox='0 0 430 430' width=\"258\" height=\"258\" id=\"agent_1\"><circle cx=\"215\" cy=\"215\" r=\"205\" fill=\"none\" stroke=\"black\" stroke-width=\"2\" stroke-dasharray=\"3,3\"/><circle cx=\"316\" cy=\"246\" r=\"12\" fill=\"rgb(89,89,89)\"/><circle cx=\"209\" cy=\"350\" r=\"9\" fill=\"rgb(153,153,153)\"/><circle cx=\"162\" cy=\"282\" r=\"9\" fill=\"rgb(126,126,126)\"/><circle cx=\"147\" cy=\"168\" r=\"10\" fill=\"rgb(192,192,192)\"/><circle cx=\"22\" cy=\"167\" r=\"12\" fill=\"rgb(196,196,196)\"/><circle cx=\"199\" cy=\"239\" r=\"10\" fill=\"rgb(202,202,202)\"/><circle cx=\"242\" cy=\"72\" r=\"12\" fill=\"rgb(196,196,196)\"/></svg><svg viewBox='0 0 430 430' id=\"svg\" width=\"258\" height=\"258\"><circle cx=\"215\" cy=\"215\" r=\"205\" fill=\"none\" stroke=\"black\" stroke-width=\"2\" stroke-dasharray=\"3,3\"/> <circle cx=\"316\" cy=\"246\" r=\"12\" fill=\"rgb(255,255,255)\" class=\"agent_1_16\"/><circle cx=\"209\" cy=\"350\" r=\"9\" fill=\"rgb(255,255,255)\" class=\"agent_1_24\"/><circle cx=\"162\" cy=\"282\" r=\"9\" fill=\"rgb(255,0,0)\" class=\"agent_1_31\"/><circle cx=\"147\" cy=\"168\" r=\"10\" fill=\"rgb(255,255,255)\" class=\"agent_1_34\"/><circle cx=\"22\" cy=\"167\" r=\"12\" fill=\"rgb(255,255,255)\" class=\"agent_1_52\"/><circle cx=\"199\" cy=\"239\" r=\"10\" fill=\"rgb(255,0,0)\" class=\"agent_1_54\"/><circle cx=\"242\" cy=\"72\" r=\"12\" fill=\"rgb(255,255,255)\" class=\"agent_1_63\"/></svg><svg viewBox='0 0 430 430' id=\"svg\" width=\"258\" height=\"258\"><circle cx=\"215\" cy=\"215\" r=\"205\" fill=\"none\" stroke=\"black\" stroke-width=\"2\" stroke-dasharray=\"3,3\"/> <circle cx=\"316\" cy=\"246\" r=\"12\" fill=\"rgb(255,255,255)\" class=\"agent_1_16\"/><circle cx=\"209\" cy=\"350\" r=\"9\" fill=\"rgb(255,255,255)\" class=\"agent_1_24\"/><circle cx=\"162\" cy=\"282\" r=\"9\" fill=\"rgb(255,0,0)\" class=\"agent_1_31\"/><circle cx=\"147\" cy=\"168\" r=\"10\" fill=\"rgb(255,255,255)\" class=\"agent_1_34\"/><circle cx=\"22\" cy=\"167\" r=\"12\" fill=\"rgb(255,255,255)\" class=\"agent_1_52\"/><circle cx=\"199\" cy=\"239\" r=\"10\" fill=\"rgb(255,255,255)\" class=\"agent_1_54\"/><circle cx=\"242\" cy=\"72\" r=\"12\" fill=\"rgb(255,255,255)\" class=\"agent_1_63\"/></svg></div>"
      ],
      "text/plain": [
       "<IPython.core.display.HTML object>"
      ]
     },
     "metadata": {},
     "output_type": "display_data"
    },
    {
     "name": "stdout",
     "output_type": "stream",
     "text": [
      "sample 0\ti have two dots very close together . the one on the right is slightly smaller and darker . <eos>\n",
      "sample 1\ttwo dots very close together ? one on top is darker and smaller <eos>\n",
      "sample 2\ti see two dots very close together . the one on the right is slightly smaller , darker and slightly to the left . <eos>\n",
      "sample 3\ti have two dots very close together . the one on the right is slightly smaller and darker . <eos>\n",
      "sample 4\ti have two dots very close together . the one on the left is slightly smaller and darker . <eos>\n",
      "sample 5\ti see two dots very close together . the one on top is smaller , darker and slightly to the right . <eos>\n",
      "sample 6\ti have two dots very close together . the one on top is slightly smaller and darker . <eos>\n",
      "sample 7\ti have two dots very close together . the one on the left is slightly smaller and darker . <eos>\n",
      "sample 8\ti have two dots very close together . the one on the right is slightly smaller and darker . <eos>\n",
      "sample 9\ti see two dots very close together . the one on the right is smaller and darker . <eos>\n",
      "argmax\ti have two dots very close together . the one on the right is slightly smaller and darker . <eos>\n",
      "human\tdo you have 2 dots , similar is size , but 1 is darker ? <eos>\n",
      "\n",
      "----------------------------------------\n",
      "\n",
      "human\tTHEM: i see a very large medium gray dot and a smaller , slightly darker dot at 5 o clock position from the first one . <eos>\n",
      "\n",
      "----------------------------------------\n",
      "\n"
     ]
    },
    {
     "data": {
      "text/html": [
       "<div style=\"white-space: nowrap\"><svg viewbox='0 0 430 430' width=\"258\" height=\"258\" id=\"agent_1\"><circle cx=\"215\" cy=\"215\" r=\"205\" fill=\"none\" stroke=\"black\" stroke-width=\"2\" stroke-dasharray=\"3,3\"/><circle cx=\"316\" cy=\"246\" r=\"12\" fill=\"rgb(89,89,89)\"/><circle cx=\"209\" cy=\"350\" r=\"9\" fill=\"rgb(153,153,153)\"/><circle cx=\"162\" cy=\"282\" r=\"9\" fill=\"rgb(126,126,126)\"/><circle cx=\"147\" cy=\"168\" r=\"10\" fill=\"rgb(192,192,192)\"/><circle cx=\"22\" cy=\"167\" r=\"12\" fill=\"rgb(196,196,196)\"/><circle cx=\"199\" cy=\"239\" r=\"10\" fill=\"rgb(202,202,202)\"/><circle cx=\"242\" cy=\"72\" r=\"12\" fill=\"rgb(196,196,196)\"/></svg><svg viewBox='0 0 430 430' id=\"svg\" width=\"258\" height=\"258\"><circle cx=\"215\" cy=\"215\" r=\"205\" fill=\"none\" stroke=\"black\" stroke-width=\"2\" stroke-dasharray=\"3,3\"/> <circle cx=\"316\" cy=\"246\" r=\"12\" fill=\"rgb(255,255,255)\" class=\"agent_1_16\"/><circle cx=\"209\" cy=\"350\" r=\"9\" fill=\"rgb(255,255,255)\" class=\"agent_1_24\"/><circle cx=\"162\" cy=\"282\" r=\"9\" fill=\"rgb(255,255,255)\" class=\"agent_1_31\"/><circle cx=\"147\" cy=\"168\" r=\"10\" fill=\"rgb(255,255,255)\" class=\"agent_1_34\"/><circle cx=\"22\" cy=\"167\" r=\"12\" fill=\"rgb(255,255,255)\" class=\"agent_1_52\"/><circle cx=\"199\" cy=\"239\" r=\"10\" fill=\"rgb(255,255,255)\" class=\"agent_1_54\"/><circle cx=\"242\" cy=\"72\" r=\"12\" fill=\"rgb(255,255,255)\" class=\"agent_1_63\"/></svg></div>"
      ],
      "text/plain": [
       "<IPython.core.display.HTML object>"
      ]
     },
     "metadata": {},
     "output_type": "display_data"
    },
    {
     "name": "stdout",
     "output_type": "stream",
     "text": [
      "sample 0\ti do n't see that . <eos>\n",
      "sample 1\ti do n't have that . <eos>\n",
      "sample 2\ti do n't see that <eos>\n",
      "sample 3\ti do n't see that <eos>\n",
      "sample 4\ti do n't have that <eos>\n",
      "sample 5\ti do n't see that <eos>\n",
      "sample 6\ti do n't see that <eos>\n",
      "sample 7\ti do n't have that <eos>\n",
      "sample 8\ti do n't see that <eos>\n",
      "sample 9\ti do n't have that <eos>\n",
      "argmax\ti do n't have that <eos>\n",
      "human\ti do n't have that <eos>\n",
      "\n",
      "----------------------------------------\n",
      "\n",
      "human\tTHEM: okay , back to your original dots . they are both large and far apart . pale one , and then at 5 o clock position another one , about 2 inches ( <unk> ) away ? is that it ? <eos>\n",
      "\n",
      "----------------------------------------\n",
      "\n"
     ]
    },
    {
     "data": {
      "text/html": [
       "<div style=\"white-space: nowrap\"><svg viewbox='0 0 430 430' width=\"258\" height=\"258\" id=\"agent_1\"><circle cx=\"215\" cy=\"215\" r=\"205\" fill=\"none\" stroke=\"black\" stroke-width=\"2\" stroke-dasharray=\"3,3\"/><circle cx=\"316\" cy=\"246\" r=\"12\" fill=\"rgb(89,89,89)\"/><circle cx=\"209\" cy=\"350\" r=\"9\" fill=\"rgb(153,153,153)\"/><circle cx=\"162\" cy=\"282\" r=\"9\" fill=\"rgb(126,126,126)\"/><circle cx=\"147\" cy=\"168\" r=\"10\" fill=\"rgb(192,192,192)\"/><circle cx=\"22\" cy=\"167\" r=\"12\" fill=\"rgb(196,196,196)\"/><circle cx=\"199\" cy=\"239\" r=\"10\" fill=\"rgb(202,202,202)\"/><circle cx=\"242\" cy=\"72\" r=\"12\" fill=\"rgb(196,196,196)\"/></svg><svg viewBox='0 0 430 430' id=\"svg\" width=\"258\" height=\"258\"><circle cx=\"215\" cy=\"215\" r=\"205\" fill=\"none\" stroke=\"black\" stroke-width=\"2\" stroke-dasharray=\"3,3\"/> <circle cx=\"316\" cy=\"246\" r=\"12\" fill=\"rgb(255,255,255)\" class=\"agent_1_16\"/><circle cx=\"209\" cy=\"350\" r=\"9\" fill=\"rgb(255,255,255)\" class=\"agent_1_24\"/><circle cx=\"162\" cy=\"282\" r=\"9\" fill=\"rgb(255,0,0)\" class=\"agent_1_31\"/><circle cx=\"147\" cy=\"168\" r=\"10\" fill=\"rgb(255,255,255)\" class=\"agent_1_34\"/><circle cx=\"22\" cy=\"167\" r=\"12\" fill=\"rgb(255,255,255)\" class=\"agent_1_52\"/><circle cx=\"199\" cy=\"239\" r=\"10\" fill=\"rgb(255,0,0)\" class=\"agent_1_54\"/><circle cx=\"242\" cy=\"72\" r=\"12\" fill=\"rgb(255,255,255)\" class=\"agent_1_63\"/></svg><svg viewBox='0 0 430 430' id=\"svg\" width=\"258\" height=\"258\"><circle cx=\"215\" cy=\"215\" r=\"205\" fill=\"none\" stroke=\"black\" stroke-width=\"2\" stroke-dasharray=\"3,3\"/> <circle cx=\"316\" cy=\"246\" r=\"12\" fill=\"rgb(255,255,255)\" class=\"agent_1_16\"/><circle cx=\"209\" cy=\"350\" r=\"9\" fill=\"rgb(255,255,255)\" class=\"agent_1_24\"/><circle cx=\"162\" cy=\"282\" r=\"9\" fill=\"rgb(255,0,0)\" class=\"agent_1_31\"/><circle cx=\"147\" cy=\"168\" r=\"10\" fill=\"rgb(255,255,255)\" class=\"agent_1_34\"/><circle cx=\"22\" cy=\"167\" r=\"12\" fill=\"rgb(255,255,255)\" class=\"agent_1_52\"/><circle cx=\"199\" cy=\"239\" r=\"10\" fill=\"rgb(255,255,255)\" class=\"agent_1_54\"/><circle cx=\"242\" cy=\"72\" r=\"12\" fill=\"rgb(255,255,255)\" class=\"agent_1_63\"/></svg><svg viewBox='0 0 430 430' id=\"svg\" width=\"258\" height=\"258\"><circle cx=\"215\" cy=\"215\" r=\"205\" fill=\"none\" stroke=\"black\" stroke-width=\"2\" stroke-dasharray=\"3,3\"/> <circle cx=\"316\" cy=\"246\" r=\"12\" fill=\"rgb(255,255,255)\" class=\"agent_1_16\"/><circle cx=\"209\" cy=\"350\" r=\"9\" fill=\"rgb(255,255,255)\" class=\"agent_1_24\"/><circle cx=\"162\" cy=\"282\" r=\"9\" fill=\"rgb(255,255,255)\" class=\"agent_1_31\"/><circle cx=\"147\" cy=\"168\" r=\"10\" fill=\"rgb(255,255,255)\" class=\"agent_1_34\"/><circle cx=\"22\" cy=\"167\" r=\"12\" fill=\"rgb(255,255,255)\" class=\"agent_1_52\"/><circle cx=\"199\" cy=\"239\" r=\"10\" fill=\"rgb(255,0,0)\" class=\"agent_1_54\"/><circle cx=\"242\" cy=\"72\" r=\"12\" fill=\"rgb(255,255,255)\" class=\"agent_1_63\"/></svg></div>"
      ],
      "text/plain": [
       "<IPython.core.display.HTML object>"
      ]
     },
     "metadata": {},
     "output_type": "display_data"
    },
    {
     "name": "stdout",
     "output_type": "stream",
     "text": [
      "sample 0\tyes , the two dots are on the right , one is darker than the other <eos>\n",
      "sample 1\tyes , i have that too . the top one is darker than the other two ? <eos>\n",
      "sample 2\tno . i have a triangle of three dots , the top one is dark , the bottom one is light grey <eos>\n",
      "sample 3\ti have two dots that are the same size . the one on the left is slightly darker , the one on the right is light grey <eos>\n",
      "sample 4\tno , i have a pair of dots . the one on the right is darker and the one on the right is light grey <eos>\n",
      "sample 5\tno . i have two dots very close together . the one on the left is darker and smaller than the one on the left . <eos>\n",
      "sample 6\tyes , i have that . the one on the right is a little darker than the one on the right <eos>\n",
      "sample 7\tno , i have two small dots . one is dark grey and one is light gray . <eos>\n",
      "sample 8\tno . i have two dots that are very close together . the one on the left is slightly darker and darker than the one on the right . <eos>\n",
      "sample 9\ti have a pair of dots . the top one is black , the one on the right is light grey and the one on the right is black <eos>\n",
      "argmax\tno . i have two dots that are the same size . the one on the left is darker and the one on the right is light grey <eos>\n",
      "human\tno these are small , the darker one is slightly below and to the left of the light one <eos>\n",
      "\n",
      "----------------------------------------\n",
      "\n",
      "human\tTHEM: i think i see those . pale dot , and at 7 o clock position one that 's just slightly smaller and darker ? about 2 cm apart ( half inch ) ? <eos>\n",
      "\n",
      "----------------------------------------\n",
      "\n"
     ]
    },
    {
     "data": {
      "text/html": [
       "<div style=\"white-space: nowrap\"><svg viewbox='0 0 430 430' width=\"258\" height=\"258\" id=\"agent_1\"><circle cx=\"215\" cy=\"215\" r=\"205\" fill=\"none\" stroke=\"black\" stroke-width=\"2\" stroke-dasharray=\"3,3\"/><circle cx=\"316\" cy=\"246\" r=\"12\" fill=\"rgb(89,89,89)\"/><circle cx=\"209\" cy=\"350\" r=\"9\" fill=\"rgb(153,153,153)\"/><circle cx=\"162\" cy=\"282\" r=\"9\" fill=\"rgb(126,126,126)\"/><circle cx=\"147\" cy=\"168\" r=\"10\" fill=\"rgb(192,192,192)\"/><circle cx=\"22\" cy=\"167\" r=\"12\" fill=\"rgb(196,196,196)\"/><circle cx=\"199\" cy=\"239\" r=\"10\" fill=\"rgb(202,202,202)\"/><circle cx=\"242\" cy=\"72\" r=\"12\" fill=\"rgb(196,196,196)\"/></svg><svg viewBox='0 0 430 430' id=\"svg\" width=\"258\" height=\"258\"><circle cx=\"215\" cy=\"215\" r=\"205\" fill=\"none\" stroke=\"black\" stroke-width=\"2\" stroke-dasharray=\"3,3\"/> <circle cx=\"316\" cy=\"246\" r=\"12\" fill=\"rgb(255,255,255)\" class=\"agent_1_16\"/><circle cx=\"209\" cy=\"350\" r=\"9\" fill=\"rgb(255,255,255)\" class=\"agent_1_24\"/><circle cx=\"162\" cy=\"282\" r=\"9\" fill=\"rgb(255,255,255)\" class=\"agent_1_31\"/><circle cx=\"147\" cy=\"168\" r=\"10\" fill=\"rgb(255,255,255)\" class=\"agent_1_34\"/><circle cx=\"22\" cy=\"167\" r=\"12\" fill=\"rgb(255,255,255)\" class=\"agent_1_52\"/><circle cx=\"199\" cy=\"239\" r=\"10\" fill=\"rgb(255,0,0)\" class=\"agent_1_54\"/><circle cx=\"242\" cy=\"72\" r=\"12\" fill=\"rgb(255,255,255)\" class=\"agent_1_63\"/></svg></div>"
      ],
      "text/plain": [
       "<IPython.core.display.HTML object>"
      ]
     },
     "metadata": {},
     "output_type": "display_data"
    },
    {
     "name": "stdout",
     "output_type": "stream",
     "text": [
      "sample 0\tyes , let 's pick the light one . <eos>\n",
      "sample 1\tyes , let 's choose the light one on the left <eos>\n",
      "sample 2\tyes , lets pick the light one <selection>\n",
      "sample 3\tyes , lets pick the light one <eos>\n",
      "sample 4\tyes , let 's pick the light one . <selection>\n",
      "sample 5\tyes . let 's choose the light one . <selection>\n",
      "sample 6\tyes . let 's choose the light one . <selection>\n",
      "sample 7\tyes , lets pick the light one <eos>\n",
      "sample 8\tyes , let 's pick the lighter one . <selection>\n",
      "sample 9\tyes , let 's pick the light one . <selection>\n",
      "argmax\tyes , let 's pick the light one . <selection>\n",
      "human\tyes , let 's choose the pale one <eos>\n",
      "\n",
      "----------------------------------------\n",
      "\n",
      "human\tTHEM: ok <selection>\n",
      "\n",
      "----------------------------------------\n",
      "\n"
     ]
    }
   ],
   "source": [
    "force_contexts_and_mentions(8)"
   ]
  },
  {
   "cell_type": "code",
   "execution_count": 54,
   "metadata": {
    "scrolled": false
   },
   "outputs": [
    {
     "name": "stdout",
     "output_type": "stream",
     "text": [
      "human\tTHEM: do you see one very large black dot ? it 's the only dark dark one <eos>\n",
      "\n",
      "----------------------------------------\n",
      "\n"
     ]
    },
    {
     "data": {
      "text/html": [
       "<div style=\"white-space: nowrap\"><svg viewbox='0 0 430 430' width=\"258\" height=\"258\" id=\"agent_1\"><circle cx=\"215\" cy=\"215\" r=\"205\" fill=\"none\" stroke=\"black\" stroke-width=\"2\" stroke-dasharray=\"3,3\"/><circle cx=\"64\" cy=\"312\" r=\"12\" fill=\"rgb(166,166,166)\"/><circle cx=\"109\" cy=\"376\" r=\"10\" fill=\"rgb(157,157,157)\"/><circle cx=\"200\" cy=\"374\" r=\"13\" fill=\"rgb(62,62,62)\"/><circle cx=\"345\" cy=\"321\" r=\"13\" fill=\"rgb(169,169,169)\"/><circle cx=\"230\" cy=\"139\" r=\"9\" fill=\"rgb(185,185,185)\"/><circle cx=\"272\" cy=\"340\" r=\"12\" fill=\"rgb(200,200,200)\"/><circle cx=\"207\" cy=\"202\" r=\"10\" fill=\"rgb(71,71,71)\"/></svg><svg viewBox='0 0 430 430' id=\"svg\" width=\"258\" height=\"258\"><circle cx=\"215\" cy=\"215\" r=\"205\" fill=\"none\" stroke=\"black\" stroke-width=\"2\" stroke-dasharray=\"3,3\"/> <circle cx=\"64\" cy=\"312\" r=\"12\" fill=\"rgb(255,255,255)\" class=\"agent_1_6\"/><circle cx=\"109\" cy=\"376\" r=\"10\" fill=\"rgb(255,255,255)\" class=\"agent_1_26\"/><circle cx=\"200\" cy=\"374\" r=\"13\" fill=\"rgb(255,0,0)\" class=\"agent_1_29\"/><circle cx=\"345\" cy=\"321\" r=\"13\" fill=\"rgb(255,255,255)\" class=\"agent_1_37\"/><circle cx=\"230\" cy=\"139\" r=\"9\" fill=\"rgb(255,255,255)\" class=\"agent_1_41\"/><circle cx=\"272\" cy=\"340\" r=\"12\" fill=\"rgb(255,255,255)\" class=\"agent_1_59\"/><circle cx=\"207\" cy=\"202\" r=\"10\" fill=\"rgb(255,255,255)\" class=\"agent_1_61\"/></svg><svg viewBox='0 0 430 430' id=\"svg\" width=\"258\" height=\"258\"><circle cx=\"215\" cy=\"215\" r=\"205\" fill=\"none\" stroke=\"black\" stroke-width=\"2\" stroke-dasharray=\"3,3\"/> <circle cx=\"64\" cy=\"312\" r=\"12\" fill=\"rgb(255,255,255)\" class=\"agent_1_6\"/><circle cx=\"109\" cy=\"376\" r=\"10\" fill=\"rgb(255,255,255)\" class=\"agent_1_26\"/><circle cx=\"200\" cy=\"374\" r=\"13\" fill=\"rgb(255,255,255)\" class=\"agent_1_29\"/><circle cx=\"345\" cy=\"321\" r=\"13\" fill=\"rgb(255,255,255)\" class=\"agent_1_37\"/><circle cx=\"230\" cy=\"139\" r=\"9\" fill=\"rgb(255,255,255)\" class=\"agent_1_41\"/><circle cx=\"272\" cy=\"340\" r=\"12\" fill=\"rgb(255,255,255)\" class=\"agent_1_59\"/><circle cx=\"207\" cy=\"202\" r=\"10\" fill=\"rgb(255,0,0)\" class=\"agent_1_61\"/></svg><svg viewBox='0 0 430 430' id=\"svg\" width=\"258\" height=\"258\"><circle cx=\"215\" cy=\"215\" r=\"205\" fill=\"none\" stroke=\"black\" stroke-width=\"2\" stroke-dasharray=\"3,3\"/> <circle cx=\"64\" cy=\"312\" r=\"12\" fill=\"rgb(255,255,255)\" class=\"agent_1_6\"/><circle cx=\"109\" cy=\"376\" r=\"10\" fill=\"rgb(255,255,255)\" class=\"agent_1_26\"/><circle cx=\"200\" cy=\"374\" r=\"13\" fill=\"rgb(255,0,0)\" class=\"agent_1_29\"/><circle cx=\"345\" cy=\"321\" r=\"13\" fill=\"rgb(255,255,255)\" class=\"agent_1_37\"/><circle cx=\"230\" cy=\"139\" r=\"9\" fill=\"rgb(255,255,255)\" class=\"agent_1_41\"/><circle cx=\"272\" cy=\"340\" r=\"12\" fill=\"rgb(255,255,255)\" class=\"agent_1_59\"/><circle cx=\"207\" cy=\"202\" r=\"10\" fill=\"rgb(255,255,255)\" class=\"agent_1_61\"/></svg><svg viewBox='0 0 430 430' id=\"svg\" width=\"258\" height=\"258\"><circle cx=\"215\" cy=\"215\" r=\"205\" fill=\"none\" stroke=\"black\" stroke-width=\"2\" stroke-dasharray=\"3,3\"/> <circle cx=\"64\" cy=\"312\" r=\"12\" fill=\"rgb(255,255,255)\" class=\"agent_1_6\"/><circle cx=\"109\" cy=\"376\" r=\"10\" fill=\"rgb(255,0,0)\" class=\"agent_1_26\"/><circle cx=\"200\" cy=\"374\" r=\"13\" fill=\"rgb(255,255,255)\" class=\"agent_1_29\"/><circle cx=\"345\" cy=\"321\" r=\"13\" fill=\"rgb(255,255,255)\" class=\"agent_1_37\"/><circle cx=\"230\" cy=\"139\" r=\"9\" fill=\"rgb(255,255,255)\" class=\"agent_1_41\"/><circle cx=\"272\" cy=\"340\" r=\"12\" fill=\"rgb(255,0,0)\" class=\"agent_1_59\"/><circle cx=\"207\" cy=\"202\" r=\"10\" fill=\"rgb(255,255,255)\" class=\"agent_1_61\"/></svg><svg viewBox='0 0 430 430' id=\"svg\" width=\"258\" height=\"258\"><circle cx=\"215\" cy=\"215\" r=\"205\" fill=\"none\" stroke=\"black\" stroke-width=\"2\" stroke-dasharray=\"3,3\"/> <circle cx=\"64\" cy=\"312\" r=\"12\" fill=\"rgb(255,255,255)\" class=\"agent_1_6\"/><circle cx=\"109\" cy=\"376\" r=\"10\" fill=\"rgb(255,255,255)\" class=\"agent_1_26\"/><circle cx=\"200\" cy=\"374\" r=\"13\" fill=\"rgb(255,255,255)\" class=\"agent_1_29\"/><circle cx=\"345\" cy=\"321\" r=\"13\" fill=\"rgb(255,255,255)\" class=\"agent_1_37\"/><circle cx=\"230\" cy=\"139\" r=\"9\" fill=\"rgb(255,255,255)\" class=\"agent_1_41\"/><circle cx=\"272\" cy=\"340\" r=\"12\" fill=\"rgb(255,0,0)\" class=\"agent_1_59\"/><circle cx=\"207\" cy=\"202\" r=\"10\" fill=\"rgb(255,255,255)\" class=\"agent_1_61\"/></svg><svg viewBox='0 0 430 430' id=\"svg\" width=\"258\" height=\"258\"><circle cx=\"215\" cy=\"215\" r=\"205\" fill=\"none\" stroke=\"black\" stroke-width=\"2\" stroke-dasharray=\"3,3\"/> <circle cx=\"64\" cy=\"312\" r=\"12\" fill=\"rgb(255,255,255)\" class=\"agent_1_6\"/><circle cx=\"109\" cy=\"376\" r=\"10\" fill=\"rgb(255,0,0)\" class=\"agent_1_26\"/><circle cx=\"200\" cy=\"374\" r=\"13\" fill=\"rgb(255,255,255)\" class=\"agent_1_29\"/><circle cx=\"345\" cy=\"321\" r=\"13\" fill=\"rgb(255,255,255)\" class=\"agent_1_37\"/><circle cx=\"230\" cy=\"139\" r=\"9\" fill=\"rgb(255,255,255)\" class=\"agent_1_41\"/><circle cx=\"272\" cy=\"340\" r=\"12\" fill=\"rgb(255,255,255)\" class=\"agent_1_59\"/><circle cx=\"207\" cy=\"202\" r=\"10\" fill=\"rgb(255,255,255)\" class=\"agent_1_61\"/></svg></div>"
      ],
      "text/plain": [
       "<IPython.core.display.HTML object>"
      ]
     },
     "metadata": {},
     "output_type": "display_data"
    },
    {
     "name": "stdout",
     "output_type": "stream",
     "text": [
      "sample 0\ti have a large black dot , and to the right of it is a smaller light grey dot , and to the right of it is a smaller light grey dot . i have a cluster of 3 dots <eos>\n",
      "sample 1\ti have a large black dot . above and to the right is a smaller grey dot , and below that black dot is a medium gray dot and to the right of it is a small light dot <eos>\n",
      "sample 2\ti have a large black dot , and to the right of it is a small light dot , and below that black dot is a medium grey dot . <eos>\n",
      "sample 3\ti have a large black dot . above it and to the right is a small light grey dot , and to the left of it is a smaller black dot . below that black dot is a light grey dot <eos>\n",
      "sample 4\ti have a large black dot . above and to the left is a small light grey dot , below and to the right of it is a small light dot , and above that medium grey dot is a medium gray dot <eos>\n",
      "sample 5\ti have a large black dot . below it and to the right is a small light grey dot , and to the right of it is a smaller dark grey dot . <eos>\n",
      "sample 6\ti have one large black dot . it has a small light grey dot to the right and below it and a medium grey dot to the right and above the light grey dot <eos>\n",
      "sample 7\ti have one large black dot with a smaller dark grey dot to the right of it . i also have a large light grey dot with a smaller black dot below and to the right of it . <eos>\n",
      "sample 8\ti have one large black dot . above it is a smaller grey dot , and to the left of it is a small light grey dot , to the right and below is a smaller black dot <eos>\n",
      "sample 9\ti have a large black dot and a small black dot and a medium black dot and a large light grey dot . i also have a dark grey dot that is the same size but the one on the right is a little larger and lighter than the other one . <eos>\n",
      "argmax\ti have a large black dot . above it and to the right is a small light grey dot , and to the right of it is a small black dot . do you see that ? <eos>\n",
      "human\ti see that but i also have a medium sized very dark one as well . is the large black one almost exactly in between two other dots . the one on the right being lightly smaller and very light and the one on the left being smaller and medium grey ? <eos>\n",
      "\n",
      "----------------------------------------\n",
      "\n",
      "human\tTHEM: yes ... shall we choose the larger black spot then ? <eos>\n",
      "\n",
      "----------------------------------------\n",
      "\n",
      "sample 0\tyes <selection>\n",
      "sample 1\tyes <selection>\n",
      "sample 2\tyes ! <selection>\n",
      "sample 3\tyes <selection>\n",
      "sample 4\tyes ! <selection>\n",
      "sample 5\tyes <selection>\n",
      "sample 6\tyes <selection>\n",
      "sample 7\tyes <selection>\n",
      "sample 8\tyes ! <selection>\n",
      "sample 9\tyes <selection>\n",
      "argmax\tyes <selection>\n",
      "human\tyep <selection>\n",
      "\n",
      "----------------------------------------\n",
      "\n"
     ]
    }
   ],
   "source": [
    "force_contexts_and_mentions(9)"
   ]
  },
  {
   "cell_type": "code",
   "execution_count": 55,
   "metadata": {
    "scrolled": false
   },
   "outputs": [
    {
     "data": {
      "text/html": [
       "<div style=\"white-space: nowrap\"><svg viewbox='0 0 430 430' width=\"258\" height=\"258\" id=\"agent_1\"><circle cx=\"215\" cy=\"215\" r=\"205\" fill=\"none\" stroke=\"black\" stroke-width=\"2\" stroke-dasharray=\"3,3\"/><circle cx=\"334\" cy=\"109\" r=\"13\" fill=\"rgb(156,156,156)\"/><circle cx=\"126\" cy=\"220\" r=\"7\" fill=\"rgb(112,112,112)\"/><circle cx=\"190\" cy=\"342\" r=\"7\" fill=\"rgb(93,93,93)\"/><circle cx=\"34\" cy=\"264\" r=\"10\" fill=\"rgb(169,169,169)\"/><circle cx=\"295\" cy=\"349\" r=\"10\" fill=\"rgb(182,182,182)\"/><circle cx=\"274\" cy=\"262\" r=\"8\" fill=\"rgb(54,54,54)\"/><circle cx=\"94\" cy=\"248\" r=\"7\" fill=\"rgb(146,146,146)\"/></svg><svg viewBox='0 0 430 430' id=\"svg\" width=\"258\" height=\"258\"><circle cx=\"215\" cy=\"215\" r=\"205\" fill=\"none\" stroke=\"black\" stroke-width=\"2\" stroke-dasharray=\"3,3\"/> <circle cx=\"334\" cy=\"109\" r=\"13\" fill=\"rgb(255,255,255)\" class=\"agent_1_7\"/><circle cx=\"126\" cy=\"220\" r=\"7\" fill=\"rgb(255,0,0)\" class=\"agent_1_14\"/><circle cx=\"190\" cy=\"342\" r=\"7\" fill=\"rgb(255,255,255)\" class=\"agent_1_25\"/><circle cx=\"34\" cy=\"264\" r=\"10\" fill=\"rgb(255,255,255)\" class=\"agent_1_28\"/><circle cx=\"295\" cy=\"349\" r=\"10\" fill=\"rgb(255,255,255)\" class=\"agent_1_31\"/><circle cx=\"274\" cy=\"262\" r=\"8\" fill=\"rgb(255,255,255)\" class=\"agent_1_50\"/><circle cx=\"94\" cy=\"248\" r=\"7\" fill=\"rgb(255,0,0)\" class=\"agent_1_77\"/></svg><svg viewBox='0 0 430 430' id=\"svg\" width=\"258\" height=\"258\"><circle cx=\"215\" cy=\"215\" r=\"205\" fill=\"none\" stroke=\"black\" stroke-width=\"2\" stroke-dasharray=\"3,3\"/> <circle cx=\"334\" cy=\"109\" r=\"13\" fill=\"rgb(255,255,255)\" class=\"agent_1_7\"/><circle cx=\"126\" cy=\"220\" r=\"7\" fill=\"rgb(255,0,0)\" class=\"agent_1_14\"/><circle cx=\"190\" cy=\"342\" r=\"7\" fill=\"rgb(255,255,255)\" class=\"agent_1_25\"/><circle cx=\"34\" cy=\"264\" r=\"10\" fill=\"rgb(255,255,255)\" class=\"agent_1_28\"/><circle cx=\"295\" cy=\"349\" r=\"10\" fill=\"rgb(255,255,255)\" class=\"agent_1_31\"/><circle cx=\"274\" cy=\"262\" r=\"8\" fill=\"rgb(255,255,255)\" class=\"agent_1_50\"/><circle cx=\"94\" cy=\"248\" r=\"7\" fill=\"rgb(255,0,0)\" class=\"agent_1_77\"/></svg><svg viewBox='0 0 430 430' id=\"svg\" width=\"258\" height=\"258\"><circle cx=\"215\" cy=\"215\" r=\"205\" fill=\"none\" stroke=\"black\" stroke-width=\"2\" stroke-dasharray=\"3,3\"/> <circle cx=\"334\" cy=\"109\" r=\"13\" fill=\"rgb(255,255,255)\" class=\"agent_1_7\"/><circle cx=\"126\" cy=\"220\" r=\"7\" fill=\"rgb(255,0,0)\" class=\"agent_1_14\"/><circle cx=\"190\" cy=\"342\" r=\"7\" fill=\"rgb(255,255,255)\" class=\"agent_1_25\"/><circle cx=\"34\" cy=\"264\" r=\"10\" fill=\"rgb(255,255,255)\" class=\"agent_1_28\"/><circle cx=\"295\" cy=\"349\" r=\"10\" fill=\"rgb(255,255,255)\" class=\"agent_1_31\"/><circle cx=\"274\" cy=\"262\" r=\"8\" fill=\"rgb(255,255,255)\" class=\"agent_1_50\"/><circle cx=\"94\" cy=\"248\" r=\"7\" fill=\"rgb(255,255,255)\" class=\"agent_1_77\"/></svg></div>"
      ],
      "text/plain": [
       "<IPython.core.display.HTML object>"
      ]
     },
     "metadata": {},
     "output_type": "display_data"
    },
    {
     "name": "stdout",
     "output_type": "stream",
     "text": [
      "sample 0\ttwo tiny dots close to each other , one on the right is slightly darker and slightly larger <eos>\n",
      "sample 1\ti have two small dots very close to each other . the one on the right is slightly darker and slightly smaller . <eos>\n",
      "sample 2\ti have two tiny dots close to each other , one is slightly darker and slightly lower <eos>\n",
      "sample 3\ttwo tiny dots almost vertical to each other ? one on the right is darker and slightly larger <eos>\n",
      "sample 4\ti have two small dots almost on a vertical line . the one on the left is slightly darker and slightly larger . <eos>\n",
      "sample 5\ti have two small dots very close to each other . the one on the right is slightly darker and a little darker <eos>\n",
      "sample 6\ti have two tiny dots close to each other . the one on top is slightly to the right and slightly darker <eos>\n",
      "sample 7\ttwo small dots , one is slightly darker and to the right of the other ? <eos>\n",
      "sample 8\ti have two small dots close to each other . the one on the right is slightly darker , and a little smaller <eos>\n",
      "sample 9\ti have two small dots very close to each other , the one on the right is slightly darker and slightly smaller <eos>\n",
      "argmax\ti have two small dots very close to each other . the one on the right is slightly darker and slightly smaller <eos>\n",
      "human\tdo you have 2 small dots near each other ? top left dot is darker ? <eos>\n",
      "\n",
      "----------------------------------------\n",
      "\n",
      "human\tTHEM: yes ! i was about to type that click the one on top ! <eos>\n",
      "\n",
      "----------------------------------------\n",
      "\n"
     ]
    },
    {
     "data": {
      "text/html": [
       "<div style=\"white-space: nowrap\"><svg viewbox='0 0 430 430' width=\"258\" height=\"258\" id=\"agent_1\"><circle cx=\"215\" cy=\"215\" r=\"205\" fill=\"none\" stroke=\"black\" stroke-width=\"2\" stroke-dasharray=\"3,3\"/><circle cx=\"334\" cy=\"109\" r=\"13\" fill=\"rgb(156,156,156)\"/><circle cx=\"126\" cy=\"220\" r=\"7\" fill=\"rgb(112,112,112)\"/><circle cx=\"190\" cy=\"342\" r=\"7\" fill=\"rgb(93,93,93)\"/><circle cx=\"34\" cy=\"264\" r=\"10\" fill=\"rgb(169,169,169)\"/><circle cx=\"295\" cy=\"349\" r=\"10\" fill=\"rgb(182,182,182)\"/><circle cx=\"274\" cy=\"262\" r=\"8\" fill=\"rgb(54,54,54)\"/><circle cx=\"94\" cy=\"248\" r=\"7\" fill=\"rgb(146,146,146)\"/></svg><svg viewBox='0 0 430 430' id=\"svg\" width=\"258\" height=\"258\"><circle cx=\"215\" cy=\"215\" r=\"205\" fill=\"none\" stroke=\"black\" stroke-width=\"2\" stroke-dasharray=\"3,3\"/> <circle cx=\"334\" cy=\"109\" r=\"13\" fill=\"rgb(255,255,255)\" class=\"agent_1_7\"/><circle cx=\"126\" cy=\"220\" r=\"7\" fill=\"rgb(255,0,0)\" class=\"agent_1_14\"/><circle cx=\"190\" cy=\"342\" r=\"7\" fill=\"rgb(255,255,255)\" class=\"agent_1_25\"/><circle cx=\"34\" cy=\"264\" r=\"10\" fill=\"rgb(255,255,255)\" class=\"agent_1_28\"/><circle cx=\"295\" cy=\"349\" r=\"10\" fill=\"rgb(255,255,255)\" class=\"agent_1_31\"/><circle cx=\"274\" cy=\"262\" r=\"8\" fill=\"rgb(255,255,255)\" class=\"agent_1_50\"/><circle cx=\"94\" cy=\"248\" r=\"7\" fill=\"rgb(255,255,255)\" class=\"agent_1_77\"/></svg></div>"
      ],
      "text/plain": [
       "<IPython.core.display.HTML object>"
      ]
     },
     "metadata": {},
     "output_type": "display_data"
    },
    {
     "name": "stdout",
     "output_type": "stream",
     "text": [
      "sample 0\tok , let 's do it ! <selection>\n",
      "sample 1\tok , lets click the tiny one <selection>\n",
      "sample 2\tok , lets click the smaller one <selection>\n",
      "sample 3\tok , the one on the right is a little darker . <eos>\n",
      "sample 4\tok , let 's do the one on the right . <selection>\n",
      "sample 5\tok , lets pick the top one <selection>\n",
      "sample 6\tok , lets click the top one <selection>\n",
      "sample 7\tok , lets click the top one <selection>\n",
      "sample 8\tok , lets click the top one ? <eos>\n",
      "sample 9\tok , the one on the right is slightly darker . <eos>\n",
      "argmax\tok , lets click the smaller one <selection>\n",
      "human\tokay i will click the top one . <selection>\n",
      "\n",
      "----------------------------------------\n",
      "\n"
     ]
    }
   ],
   "source": [
    "force_contexts_and_mentions(10)"
   ]
  },
  {
   "cell_type": "code",
   "execution_count": 56,
   "metadata": {
    "scrolled": false
   },
   "outputs": [
    {
     "data": {
      "text/html": [
       "<div style=\"white-space: nowrap\"><svg viewbox='0 0 430 430' width=\"258\" height=\"258\" id=\"agent_1\"><circle cx=\"215\" cy=\"215\" r=\"205\" fill=\"none\" stroke=\"black\" stroke-width=\"2\" stroke-dasharray=\"3,3\"/><circle cx=\"96\" cy=\"180\" r=\"10\" fill=\"rgb(130,130,130)\"/><circle cx=\"396\" cy=\"180\" r=\"12\" fill=\"rgb(103,103,103)\"/><circle cx=\"93\" cy=\"118\" r=\"9\" fill=\"rgb(161,161,161)\"/><circle cx=\"70\" cy=\"206\" r=\"11\" fill=\"rgb(71,71,71)\"/><circle cx=\"338\" cy=\"310\" r=\"8\" fill=\"rgb(159,159,159)\"/><circle cx=\"177\" cy=\"303\" r=\"8\" fill=\"rgb(65,65,65)\"/><circle cx=\"376\" cy=\"331\" r=\"12\" fill=\"rgb(136,136,136)\"/></svg><svg viewBox='0 0 430 430' id=\"svg\" width=\"258\" height=\"258\"><circle cx=\"215\" cy=\"215\" r=\"205\" fill=\"none\" stroke=\"black\" stroke-width=\"2\" stroke-dasharray=\"3,3\"/> <circle cx=\"96\" cy=\"180\" r=\"10\" fill=\"rgb(255,0,0)\" class=\"agent_1_9\"/><circle cx=\"396\" cy=\"180\" r=\"12\" fill=\"rgb(255,255,255)\" class=\"agent_1_13\"/><circle cx=\"93\" cy=\"118\" r=\"9\" fill=\"rgb(255,255,255)\" class=\"agent_1_43\"/><circle cx=\"70\" cy=\"206\" r=\"11\" fill=\"rgb(255,0,0)\" class=\"agent_1_46\"/><circle cx=\"338\" cy=\"310\" r=\"8\" fill=\"rgb(255,255,255)\" class=\"agent_1_50\"/><circle cx=\"177\" cy=\"303\" r=\"8\" fill=\"rgb(255,255,255)\" class=\"agent_1_54\"/><circle cx=\"376\" cy=\"331\" r=\"12\" fill=\"rgb(255,255,255)\" class=\"agent_1_75\"/></svg><svg viewBox='0 0 430 430' id=\"svg\" width=\"258\" height=\"258\"><circle cx=\"215\" cy=\"215\" r=\"205\" fill=\"none\" stroke=\"black\" stroke-width=\"2\" stroke-dasharray=\"3,3\"/> <circle cx=\"96\" cy=\"180\" r=\"10\" fill=\"rgb(255,0,0)\" class=\"agent_1_9\"/><circle cx=\"396\" cy=\"180\" r=\"12\" fill=\"rgb(255,255,255)\" class=\"agent_1_13\"/><circle cx=\"93\" cy=\"118\" r=\"9\" fill=\"rgb(255,255,255)\" class=\"agent_1_43\"/><circle cx=\"70\" cy=\"206\" r=\"11\" fill=\"rgb(255,0,0)\" class=\"agent_1_46\"/><circle cx=\"338\" cy=\"310\" r=\"8\" fill=\"rgb(255,255,255)\" class=\"agent_1_50\"/><circle cx=\"177\" cy=\"303\" r=\"8\" fill=\"rgb(255,255,255)\" class=\"agent_1_54\"/><circle cx=\"376\" cy=\"331\" r=\"12\" fill=\"rgb(255,255,255)\" class=\"agent_1_75\"/></svg></div>"
      ],
      "text/plain": [
       "<IPython.core.display.HTML object>"
      ]
     },
     "metadata": {},
     "output_type": "display_data"
    },
    {
     "name": "stdout",
     "output_type": "stream",
     "text": [
      "sample 0\ti see two dots very close to each other . <eos>\n",
      "sample 1\ti have two dots of same size and color dots close to each other <eos>\n",
      "sample 2\ttwo dots very close together and diagonal to each other ? <eos>\n",
      "sample 3\ti have two dots very close to each other , same size <eos>\n",
      "sample 4\ti have two dark dots close to each other <eos>\n",
      "sample 5\ti have two dark dots close to each other <eos>\n",
      "sample 6\ti have two dots that are very close together . they are both medium size <eos>\n",
      "sample 7\ti have two medium sized dots very close to each other <eos>\n",
      "sample 8\ti have two dots of similar size and color dots close to each other <eos>\n",
      "sample 9\ti have two dots very close to each other , very close together <eos>\n",
      "argmax\ti have two dots very close to each other <eos>\n",
      "human\ttwo medium sized dots really close to each other ? <eos>\n",
      "\n",
      "----------------------------------------\n",
      "\n",
      "human\tTHEM: i have many black dot , but i have one set of medium grey the one on the right is slightly larger and darker ? <eos>\n",
      "\n",
      "----------------------------------------\n",
      "\n"
     ]
    },
    {
     "data": {
      "text/html": [
       "<div style=\"white-space: nowrap\"><svg viewbox='0 0 430 430' width=\"258\" height=\"258\" id=\"agent_1\"><circle cx=\"215\" cy=\"215\" r=\"205\" fill=\"none\" stroke=\"black\" stroke-width=\"2\" stroke-dasharray=\"3,3\"/><circle cx=\"96\" cy=\"180\" r=\"10\" fill=\"rgb(130,130,130)\"/><circle cx=\"396\" cy=\"180\" r=\"12\" fill=\"rgb(103,103,103)\"/><circle cx=\"93\" cy=\"118\" r=\"9\" fill=\"rgb(161,161,161)\"/><circle cx=\"70\" cy=\"206\" r=\"11\" fill=\"rgb(71,71,71)\"/><circle cx=\"338\" cy=\"310\" r=\"8\" fill=\"rgb(159,159,159)\"/><circle cx=\"177\" cy=\"303\" r=\"8\" fill=\"rgb(65,65,65)\"/><circle cx=\"376\" cy=\"331\" r=\"12\" fill=\"rgb(136,136,136)\"/></svg><svg viewBox='0 0 430 430' id=\"svg\" width=\"258\" height=\"258\"><circle cx=\"215\" cy=\"215\" r=\"205\" fill=\"none\" stroke=\"black\" stroke-width=\"2\" stroke-dasharray=\"3,3\"/> <circle cx=\"96\" cy=\"180\" r=\"10\" fill=\"rgb(255,255,255)\" class=\"agent_1_9\"/><circle cx=\"396\" cy=\"180\" r=\"12\" fill=\"rgb(255,255,255)\" class=\"agent_1_13\"/><circle cx=\"93\" cy=\"118\" r=\"9\" fill=\"rgb(255,255,255)\" class=\"agent_1_43\"/><circle cx=\"70\" cy=\"206\" r=\"11\" fill=\"rgb(255,255,255)\" class=\"agent_1_46\"/><circle cx=\"338\" cy=\"310\" r=\"8\" fill=\"rgb(255,0,0)\" class=\"agent_1_50\"/><circle cx=\"177\" cy=\"303\" r=\"8\" fill=\"rgb(255,255,255)\" class=\"agent_1_54\"/><circle cx=\"376\" cy=\"331\" r=\"12\" fill=\"rgb(255,0,0)\" class=\"agent_1_75\"/></svg><svg viewBox='0 0 430 430' id=\"svg\" width=\"258\" height=\"258\"><circle cx=\"215\" cy=\"215\" r=\"205\" fill=\"none\" stroke=\"black\" stroke-width=\"2\" stroke-dasharray=\"3,3\"/> <circle cx=\"96\" cy=\"180\" r=\"10\" fill=\"rgb(255,255,255)\" class=\"agent_1_9\"/><circle cx=\"396\" cy=\"180\" r=\"12\" fill=\"rgb(255,255,255)\" class=\"agent_1_13\"/><circle cx=\"93\" cy=\"118\" r=\"9\" fill=\"rgb(255,255,255)\" class=\"agent_1_43\"/><circle cx=\"70\" cy=\"206\" r=\"11\" fill=\"rgb(255,255,255)\" class=\"agent_1_46\"/><circle cx=\"338\" cy=\"310\" r=\"8\" fill=\"rgb(255,0,0)\" class=\"agent_1_50\"/><circle cx=\"177\" cy=\"303\" r=\"8\" fill=\"rgb(255,255,255)\" class=\"agent_1_54\"/><circle cx=\"376\" cy=\"331\" r=\"12\" fill=\"rgb(255,255,255)\" class=\"agent_1_75\"/></svg></div>"
      ],
      "text/plain": [
       "<IPython.core.display.HTML object>"
      ]
     },
     "metadata": {},
     "output_type": "display_data"
    },
    {
     "name": "stdout",
     "output_type": "stream",
     "text": [
      "sample 0\tyes i see that . choose the smaller one <selection>\n",
      "sample 1\tyes i see that . pick the smaller one <selection>\n",
      "sample 2\tyes i have that . let 's pick the smaller one <eos>\n",
      "sample 3\tyes i see that . choose the smaller one <selection>\n",
      "sample 4\tyes , i have that . let 's pick the smaller one <selection>\n",
      "sample 5\tyes i see that . pick the smaller one <selection>\n",
      "sample 6\tyes i see that . choose the smaller one <selection>\n",
      "sample 7\tyes i see that . pick the smaller one <selection>\n",
      "sample 8\tyes i see that . choose the smaller one <selection>\n",
      "sample 9\tyes i see that . choose the smaller one <selection>\n",
      "argmax\tyes i see that . choose the smaller one <selection>\n",
      "human\ti have that ... the left one is a little higher up . <eos>\n",
      "\n",
      "----------------------------------------\n",
      "\n",
      "human\tTHEM: yes . let 's choose that one ... the smaller one on the left . = ) <selection>\n",
      "\n",
      "----------------------------------------\n",
      "\n"
     ]
    }
   ],
   "source": [
    "force_contexts_and_mentions(11)"
   ]
  },
  {
   "cell_type": "code",
   "execution_count": 72,
   "metadata": {},
   "outputs": [],
   "source": [
    "import json\n",
    "from utils import ContextGenerator"
   ]
  },
  {
   "cell_type": "code",
   "execution_count": 43,
   "metadata": {},
   "outputs": [],
   "source": [
    "ctx_gen = ContextGenerator('data/onecommon/shared_4.txt')"
   ]
  },
  {
   "cell_type": "code",
   "execution_count": 44,
   "metadata": {},
   "outputs": [],
   "source": [
    "with open('data/onecommon/shared_4.json', \"r\") as f:\n",
    "    scenario_list = json.load(f)\n",
    "selfplay_scenarios = {scenario['uuid']: scenario for scenario in scenario_list}"
   ]
  },
  {
   "cell_type": "code",
   "execution_count": 45,
   "metadata": {},
   "outputs": [
    {
     "name": "stdout",
     "output_type": "stream",
     "text": [
      "S_xM5bXi3lMqXHKKgP\n"
     ]
    }
   ],
   "source": [
    "scenario = None\n",
    "for ix, ([scenario_id], (ctx1, ctx2), (ids1, ids2)) in enumerate(ctx_gen.iter()):\n",
    "#     if scenario_id == 'S_11J8n40u4HRVduwi':\n",
    "#         print('found it')\n",
    "#         scenario = scenarios[scenario_id]\n",
    "#         break\n",
    "    if ix == 2:\n",
    "        scenario = selfplay_scenarios[scenario_id]\n",
    "        print(scenario_id)\n",
    "        break"
   ]
  },
  {
   "cell_type": "code",
   "execution_count": 46,
   "metadata": {},
   "outputs": [],
   "source": [
    "import random"
   ]
  },
  {
   "cell_type": "code",
   "execution_count": null,
   "metadata": {
    "scrolled": false
   },
   "outputs": [
    {
     "ename": "NameError",
     "evalue": "name 'selfplay_scenarios' is not defined",
     "output_type": "error",
     "traceback": [
      "\u001b[0;31m---------------------------------------------------------------------------\u001b[0m",
      "\u001b[0;31mNameError\u001b[0m                                 Traceback (most recent call last)",
      "\u001b[0;32m<ipython-input-41-e274016a0281>\u001b[0m in \u001b[0;36m<module>\u001b[0;34m\u001b[0m\n\u001b[1;32m      1\u001b[0m \u001b[0;31m# selfplay emulation\u001b[0m\u001b[0;34m\u001b[0m\u001b[0;34m\u001b[0m\u001b[0;34m\u001b[0m\u001b[0m\n\u001b[0;32m----> 2\u001b[0;31m \u001b[0mscenario\u001b[0m \u001b[0;34m=\u001b[0m \u001b[0mselfplay_scenarios\u001b[0m\u001b[0;34m[\u001b[0m\u001b[0mscenario_id\u001b[0m\u001b[0;34m]\u001b[0m\u001b[0;34m\u001b[0m\u001b[0;34m\u001b[0m\u001b[0m\n\u001b[0m\u001b[1;32m      3\u001b[0m \u001b[0;32mfor\u001b[0m \u001b[0magent\u001b[0m\u001b[0;34m,\u001b[0m \u001b[0magent_id\u001b[0m\u001b[0;34m,\u001b[0m \u001b[0mctx\u001b[0m\u001b[0;34m,\u001b[0m \u001b[0mreal_ids\u001b[0m \u001b[0;32min\u001b[0m \u001b[0mzip\u001b[0m\u001b[0;34m(\u001b[0m\u001b[0;34m[\u001b[0m\u001b[0malice\u001b[0m\u001b[0;34m,\u001b[0m \u001b[0mbob\u001b[0m\u001b[0;34m]\u001b[0m\u001b[0;34m,\u001b[0m \u001b[0;34m[\u001b[0m\u001b[0;36m0\u001b[0m\u001b[0;34m,\u001b[0m \u001b[0;36m1\u001b[0m\u001b[0;34m]\u001b[0m\u001b[0;34m,\u001b[0m \u001b[0;34m[\u001b[0m\u001b[0mctx1\u001b[0m\u001b[0;34m,\u001b[0m \u001b[0mctx2\u001b[0m\u001b[0;34m]\u001b[0m\u001b[0;34m,\u001b[0m \u001b[0;34m[\u001b[0m\u001b[0mids1\u001b[0m\u001b[0;34m,\u001b[0m \u001b[0mids2\u001b[0m\u001b[0;34m]\u001b[0m\u001b[0;34m)\u001b[0m\u001b[0;34m:\u001b[0m\u001b[0;34m\u001b[0m\u001b[0;34m\u001b[0m\u001b[0m\n\u001b[1;32m      4\u001b[0m     \u001b[0magent\u001b[0m\u001b[0;34m.\u001b[0m\u001b[0mfeed_context\u001b[0m\u001b[0;34m(\u001b[0m\u001b[0mctx\u001b[0m\u001b[0;34m)\u001b[0m\u001b[0;34m\u001b[0m\u001b[0;34m\u001b[0m\u001b[0m\n\u001b[1;32m      5\u001b[0m     \u001b[0magent\u001b[0m\u001b[0;34m.\u001b[0m\u001b[0mreal_ids\u001b[0m \u001b[0;34m=\u001b[0m \u001b[0mreal_ids\u001b[0m\u001b[0;34m\u001b[0m\u001b[0;34m\u001b[0m\u001b[0m\n",
      "\u001b[0;31mNameError\u001b[0m: name 'selfplay_scenarios' is not defined"
     ]
    },
    {
     "name": "stdout",
     "output_type": "stream",
     "text": [
      "> \u001b[0;32m<ipython-input-41-e274016a0281>\u001b[0m(2)\u001b[0;36m<module>\u001b[0;34m()\u001b[0m\n",
      "\u001b[0;32m      1 \u001b[0;31m\u001b[0;31m# selfplay emulation\u001b[0m\u001b[0;34m\u001b[0m\u001b[0;34m\u001b[0m\u001b[0;34m\u001b[0m\u001b[0m\n",
      "\u001b[0m\u001b[0;32m----> 2 \u001b[0;31m\u001b[0mscenario\u001b[0m \u001b[0;34m=\u001b[0m \u001b[0mselfplay_scenarios\u001b[0m\u001b[0;34m[\u001b[0m\u001b[0mscenario_id\u001b[0m\u001b[0;34m]\u001b[0m\u001b[0;34m\u001b[0m\u001b[0;34m\u001b[0m\u001b[0m\n",
      "\u001b[0m\u001b[0;32m      3 \u001b[0;31m\u001b[0;32mfor\u001b[0m \u001b[0magent\u001b[0m\u001b[0;34m,\u001b[0m \u001b[0magent_id\u001b[0m\u001b[0;34m,\u001b[0m \u001b[0mctx\u001b[0m\u001b[0;34m,\u001b[0m \u001b[0mreal_ids\u001b[0m \u001b[0;32min\u001b[0m \u001b[0mzip\u001b[0m\u001b[0;34m(\u001b[0m\u001b[0;34m[\u001b[0m\u001b[0malice\u001b[0m\u001b[0;34m,\u001b[0m \u001b[0mbob\u001b[0m\u001b[0;34m]\u001b[0m\u001b[0;34m,\u001b[0m \u001b[0;34m[\u001b[0m\u001b[0;36m0\u001b[0m\u001b[0;34m,\u001b[0m \u001b[0;36m1\u001b[0m\u001b[0;34m]\u001b[0m\u001b[0;34m,\u001b[0m \u001b[0;34m[\u001b[0m\u001b[0mctx1\u001b[0m\u001b[0;34m,\u001b[0m \u001b[0mctx2\u001b[0m\u001b[0;34m]\u001b[0m\u001b[0;34m,\u001b[0m \u001b[0;34m[\u001b[0m\u001b[0mids1\u001b[0m\u001b[0;34m,\u001b[0m \u001b[0mids2\u001b[0m\u001b[0;34m]\u001b[0m\u001b[0;34m)\u001b[0m\u001b[0;34m:\u001b[0m\u001b[0;34m\u001b[0m\u001b[0;34m\u001b[0m\u001b[0m\n",
      "\u001b[0m\u001b[0;32m      4 \u001b[0;31m    \u001b[0magent\u001b[0m\u001b[0;34m.\u001b[0m\u001b[0mfeed_context\u001b[0m\u001b[0;34m(\u001b[0m\u001b[0mctx\u001b[0m\u001b[0;34m)\u001b[0m\u001b[0;34m\u001b[0m\u001b[0;34m\u001b[0m\u001b[0m\n",
      "\u001b[0m\u001b[0;32m      5 \u001b[0;31m    \u001b[0magent\u001b[0m\u001b[0;34m.\u001b[0m\u001b[0mreal_ids\u001b[0m \u001b[0;34m=\u001b[0m \u001b[0mreal_ids\u001b[0m\u001b[0;34m\u001b[0m\u001b[0;34m\u001b[0m\u001b[0m\n",
      "\u001b[0m\n",
      "--KeyboardInterrupt--\n"
     ]
    }
   ],
   "source": [
    "# selfplay emulation\n",
    "scenario = selfplay_scenarios[scenario_id]\n",
    "for agent, agent_id, ctx, real_ids in zip([alice, bob], [0, 1], [ctx1, ctx2], [ids1, ids2]):\n",
    "    agent.feed_context(ctx)\n",
    "    agent.real_ids = real_ids\n",
    "    agent.agent_id = agent_id\n",
    "    \n",
    "dot_mention_samples = 1\n",
    "utt_samples = 10\n",
    "    \n",
    "writer, reader = [alice, bob]\n",
    "conv = []\n",
    "speaker = []\n",
    "words_left = 5000\n",
    "\n",
    "num_mentions = 2\n",
    "num_dots_to_mention = 3\n",
    "\n",
    "sample_temperature = 0.25\n",
    "argmax_temperature = 0.005\n",
    "\n",
    "def make_dots_mentioned_per_ref():\n",
    "#     # fixed\n",
    "#     return torch.BoolTensor([[1,1,0,0,0,0,0], [1,0,0,0,0,0,0]]).unsqueeze(0)\n",
    "#     return torch.BoolTensor([[1,1,0,0,0,0,0]]).unsqueeze(0)\n",
    "\n",
    "    # random initial and drop\n",
    "    mentioned = torch.zeros(1,num_mentions,7).bool()\n",
    "    dots_mentioned = []\n",
    "    for _ in range(num_dots_to_mention):\n",
    "        dot_ix = torch.randint(7, (1,))\n",
    "        mentioned[:,0,dot_ix] = 1\n",
    "        dots_mentioned.append(dot_ix)\n",
    "        \n",
    "    for mention_ix in range(1, num_mentions):\n",
    "        mentioned[:,mention_ix,random.choice(dots_mentioned)] = 1\n",
    "    return mentioned\n",
    "    \n",
    "\n",
    "    # random \n",
    "#     mentioned = torch.zeros(1,num_mentions,7).bool()\n",
    "#     for mention_ix in range(num_mentions):\n",
    "#         for _ in range(num_dots_to_mention):\n",
    "#             dot_ix = torch.randint(7, (1,))\n",
    "#             mentioned[:,mention_ix,dot_ix] = 1\n",
    "#     return mentioned\n",
    "\n",
    "display_context = True\n",
    "\n",
    "while True:\n",
    "    dots_mentioned_per_ref = make_dots_mentioned_per_ref()\n",
    "    dots_mentioned = dots_mentioned_per_ref.max(1).values\n",
    "    \n",
    "    num_markables=torch.LongTensor([dots_mentioned_per_ref.size(1)])\n",
    "    if display_context:\n",
    "        for mention_ix in range(dots_mentioned_per_ref.size(1)):\n",
    "            display_attn(scenario, dots_mentioned_per_ref[:,mention_ix].float(), writer.agent_id, name=f'dots_mentioned_{mention_ix}')\n",
    "    for us in range(utt_samples):\n",
    "        outs, _, _, _, extra = writer.model.write(\n",
    "            writer.ctx,\n",
    "            writer.ctx_differences,\n",
    "            writer.ctx_h,\n",
    "            writer.reader_and_writer_lang_h,\n",
    "            words_left,\n",
    "            sample_temperature,\n",
    "            dots_mentioned=dots_mentioned,\n",
    "            dots_mentioned_per_ref=dots_mentioned_per_ref,\n",
    "            num_markables=num_markables,\n",
    "        )\n",
    "        print('agent {}; sample {}\\t{}'.format(writer.agent_id, us, ' '.join(writer._decode(outs, writer.model.word_dict))))\n",
    "    print()\n",
    "        \n",
    "    num_markables=torch.LongTensor([num_mentions])\n",
    "    if display_context:\n",
    "        for mention_ix in range(dots_mentioned_per_ref.size(1)):\n",
    "            display_attn(scenario, dots_mentioned_per_ref[:,mention_ix].float(), writer.agent_id, name=f'dots_mentioned_{mention_ix}')\n",
    "    out = writer.write(\n",
    "        max_words=words_left,\n",
    "        dots_mentioned=dots_mentioned,\n",
    "        dots_mentioned_per_ref=dots_mentioned_per_ref,\n",
    "        num_markables=num_markables,\n",
    "        temperature_override=argmax_temperature,\n",
    "    )\n",
    "    print('agent {}; argmax\\t{}'.format(writer.agent_id, ' '.join(out)))\n",
    "    print()\n",
    "    \n",
    "#     if display_context and writer.extras[-1].get('feed_ctx_attn_prob', None) is not None:\n",
    "#         display_attn(scenario, writer.extras[-1]['feed_ctx_attn_prob'], writer.agent_id, name='feed attention')\n",
    "    \n",
    "#     if display_context and writer.extras[-1].get('word_ctx_attn_prob_mean', None) is not None:\n",
    "#         display_attn(scenario, writer.extras[-1]['word_ctx_attn_prob_mean'], writer.agent_id, name='word attention mean')\n",
    "        \n",
    "#     for ix, ix_attn in enumerate(writer.extras[-1]['word_ctx_attn_probs']):\n",
    "#         display_attn(scenario, ix_attn, writer.agent_id, name='t {}: {}'.format(ix, out[ix]))\n",
    "        \n",
    "    print('{}\\t{}'.format(writer.agent_id, ' '.join(out)))\n",
    "    print('-'*60)\n",
    "        \n",
    "    words_left -= len(out)\n",
    "    conv.append(out)\n",
    "    speaker.append(writer.agent_id)\n",
    "    reader.read(out)\n",
    "    if is_selection(out) or words_left <= 1:\n",
    "        break\n",
    "    writer, reader = reader, writer"
   ]
  },
  {
   "cell_type": "code",
   "execution_count": null,
   "metadata": {},
   "outputs": [],
   "source": []
  }
 ],
 "metadata": {
  "kernelspec": {
   "display_name": "Python 3",
   "language": "python",
   "name": "python3"
  },
  "language_info": {
   "codemirror_mode": {
    "name": "ipython",
    "version": 3
   },
   "file_extension": ".py",
   "mimetype": "text/x-python",
   "name": "python",
   "nbconvert_exporter": "python",
   "pygments_lexer": "ipython3",
   "version": "3.6.10"
  }
 },
 "nbformat": 4,
 "nbformat_minor": 2
}
