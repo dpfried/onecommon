{
 "cells": [
  {
   "cell_type": "code",
   "execution_count": 1,
   "metadata": {},
   "outputs": [
    {
     "data": {
      "text/html": [
       "<style>.container { width:100% !important; }</style>"
      ],
      "text/plain": [
       "<IPython.core.display.HTML object>"
      ]
     },
     "metadata": {},
     "output_type": "display_data"
    }
   ],
   "source": [
    "from IPython.core.display import display, HTML\n",
    "display(HTML(\"<style>.container { width:100% !important; }</style>\"))"
   ]
  },
  {
   "cell_type": "code",
   "execution_count": 2,
   "metadata": {
    "scrolled": true
   },
   "outputs": [
    {
     "name": "stdout",
     "output_type": "stream",
     "text": [
      "/home/dfried/projects/onecommon/aaai2020/experiments\n"
     ]
    }
   ],
   "source": [
    "cd '/home/dfried/projects/onecommon/aaai2020/experiments'"
   ]
  },
  {
   "cell_type": "code",
   "execution_count": 3,
   "metadata": {},
   "outputs": [],
   "source": [
    "import models\n",
    "import data\n",
    "import utils\n",
    "from domain import get_domain\n",
    "from corpora.reference_sentence import ReferenceSentenceCorpus"
   ]
  },
  {
   "cell_type": "code",
   "execution_count": 4,
   "metadata": {},
   "outputs": [
    {
     "name": "stdout",
     "output_type": "stream",
     "text": [
      "hierarchical_only-self_gb-this-mentioned_mask-pad_h2o-1.out\r\n",
      "hierarchical_only-self_gb-this-mentioned_mask-pad_h2o-1_sigmoid.out\r\n",
      "hierarchical_only-self_mark-dots-mentioned_mask-pad_h2o-1.out\r\n",
      "hierarchical_only-self_mark-dots-mentioned_mask-pad_h2o-1_sigmoid.out\r\n",
      "hierarchical_only-self_mask-pad_h2o-1.out\r\n",
      "hierarchical_only-self_mbfix-cumulative-mentioned_next-mention_mask-pad_h2o-1.out\r\n",
      "hierarchical_only-self_mbfix-cumulative-mentioned_next-mention_mask-pad_h2o-1_sigmoid.out\r\n",
      "hierarchical_only-self_mbfix-cumulative-partner-mentioned_next-mention_mask-pad_h2o-1.out\r\n",
      "hierarchical_only-self_mbfix-cumulative-partner-mentioned_next-mention_mask-pad_h2o-1_sigmoid.out\r\n",
      "hierarchical_only-self_mbfix-last_mentioned_next-mention_mask-pad_h2o-1.out\r\n",
      "hierarchical_only-self_mbfix-last_mentioned_next-mention_mask-pad_h2o-1_sigmoid.out\r\n",
      "hierarchical_only-self_mbfix-last_mentioned+this-partner-mentioned+cumulative-mentioned+cumulative-partner-mentioned_next-mention_mask-pad_h2o-1.out\r\n",
      "hierarchical_only-self_mbfix-last_mentioned+this-partner-mentioned+cumulative-mentioned+cumulative-partner-mentioned_next-mention_mask-pad_h2o-1_sigmoid.out\r\n",
      "hierarchical_only-self_mbfix-last_mentioned+this-partner-mentioned+cumulative-mentioned_next-mention_mask-pad_h2o-1.out\r\n",
      "hierarchical_only-self_mbfix-last_mentioned+this-partner-mentioned+cumulative-mentioned_next-mention_mask-pad_h2o-1_sigmoid.out\r\n",
      "hierarchical_only-self_mbfix-last_mentioned+this-partner-mentioned_next-mention_mask-pad_h2o-1.out\r\n",
      "hierarchical_only-self_mbfix-last_mentioned+this-partner-mentioned_next-mention_mask-pad_h2o-1_sigmoid.out\r\n",
      "hierarchical_only-self_mbfix-last-partner-mentioned_next-mention_mask-pad_h2o-1.out\r\n",
      "hierarchical_only-self_mbfix-last-partner-mentioned_next-mention_mask-pad_h2o-1_sigmoid.out\r\n",
      "hierarchical_only-self_mbfix-next-mentioned_next-mention_mask-pad_h2o-1.out\r\n",
      "hierarchical_only-self_mbfix-next-mentioned_next-mention_mask-pad_h2o-1_sigmoid.out\r\n",
      "hierarchical_only-self_mbfix_next-mention_mask-pad_h2o-1.out\r\n",
      "hierarchical_only-self_mbfix-this-mentioned_next-mention_mask-pad_h2o-1.out\r\n",
      "hierarchical_only-self_mbfix-this-mentioned_next-mention_mask-pad_h2o-1_refac.out\r\n",
      "hierarchical_only-self_mbfix-this-mentioned_next-mention_mask-pad_h2o-1_sigmoid.out\r\n",
      "hierarchical_only-self_mbfix-this_next-mention_mask-pad_h2o-1.out\r\n",
      "hierarchical_only-self_mbfix-this-partner-mentioned_next-mention_mask-pad_h2o-1.out\r\n",
      "hierarchical_only-self_mbfix-this-partner-mentioned_next-mention_mask-pad_h2o-1_sigmoid.out\r\n",
      "hierarchical_only-self_mb-this-mentioned_next-mention_mask-pad_h2o-1_ep-60.out\r\n",
      "hierarchical_only-self_partner-ref_mask-pad_h2o-1.out\r\n",
      "hierarchical_only-self_structured-attention_mbfix_next-mention_mask-pad_h2o-1.out\r\n",
      "hierarchical_only-self_structured-attention_mbfix-this-partner-mentioned_next-mention_mask-pad_h2o-1.out\r\n",
      "hierarchical_only-self_structured-attention_partner-ref_mask-pad_h2o-1.out\r\n"
     ]
    }
   ],
   "source": [
    "ls expts/rel3_tsel_ref_dial_model_separate/"
   ]
  },
  {
   "cell_type": "code",
   "execution_count": 5,
   "metadata": {},
   "outputs": [],
   "source": [
    "domain = get_domain('one_common')\n",
    "unk_threshold = 10\n",
    "model_ty = models.get_model_type('rnn_reference_model')\n",
    "\n",
    "ctx_encoder_type = 'rel_attn_encoder_3'\n",
    "\n",
    "# model_fname = 'rel2_dial_model_separate/hierarchical_only-self_mask-pad_max-pool_rel-2_feed-context-attend_no-word-attention_ablate-properties_1_best.th'\n",
    "\n",
    "model_fnames = {\n",
    "    'basic': 'rel3_tsel_ref_dial_model_separate/hierarchical_only-self_mask-pad_h2o-1_1_best.th',\n",
    "    'mark_dots_mentioned': 'rel3_tsel_ref_dial_model_separate/hierarchical_only-self_mark-dots-mentioned_mask-pad_h2o-1_1_best.th'\n",
    "}"
   ]
  },
  {
   "cell_type": "code",
   "execution_count": 6,
   "metadata": {},
   "outputs": [
    {
     "name": "stdout",
     "output_type": "stream",
     "text": [
      "dataset data/onecommon/train_reference_1.txt, total 545056, unks 4302, ratio 0.79%\n",
      "dataset data/onecommon/valid_reference_1.txt, total 69348, unks 686, ratio 0.99%\n",
      "dataset data/onecommon/test_reference_1.txt, total 67284, unks 636, ratio 0.95%\n"
     ]
    }
   ],
   "source": [
    "seed = 1\n",
    "corpus = ReferenceSentenceCorpus(domain, 'data/onecommon',\n",
    "                            train='train_reference_{}.txt'.format(seed),\n",
    "                            valid='valid_reference_{}.txt'.format(seed),\n",
    "                            test='test_reference_{}.txt'.format(seed),\n",
    "                            freq_cutoff=unk_threshold, verbose=True)"
   ]
  },
  {
   "cell_type": "code",
   "execution_count": 7,
   "metadata": {},
   "outputs": [],
   "source": [
    "def load_json(file):\n",
    "    import json\n",
    "    with open(file, 'r') as f:\n",
    "        return json.load(f)"
   ]
  },
  {
   "cell_type": "code",
   "execution_count": 8,
   "metadata": {},
   "outputs": [],
   "source": [
    "scenarios1 = load_json('data/onecommon/aaai_train_scenarios.json')\n",
    "scenarios2 = load_json('data/onecommon/aaai_train_scenarios_2.json')"
   ]
  },
  {
   "cell_type": "code",
   "execution_count": 9,
   "metadata": {},
   "outputs": [
    {
     "data": {
      "text/plain": [
       "9000"
      ]
     },
     "execution_count": 9,
     "metadata": {},
     "output_type": "execute_result"
    }
   ],
   "source": [
    "len(scenarios1)"
   ]
  },
  {
   "cell_type": "code",
   "execution_count": 10,
   "metadata": {},
   "outputs": [
    {
     "data": {
      "text/plain": [
       "4500"
      ]
     },
     "execution_count": 10,
     "metadata": {},
     "output_type": "execute_result"
    }
   ],
   "source": [
    "len(scenarios2)"
   ]
  },
  {
   "cell_type": "code",
   "execution_count": 11,
   "metadata": {},
   "outputs": [
    {
     "data": {
      "text/plain": [
       "dict_keys(['kbs', 'shared', 'uuid'])"
      ]
     },
     "execution_count": 11,
     "metadata": {},
     "output_type": "execute_result"
    }
   ],
   "source": [
    "scenarios1[0].keys()"
   ]
  },
  {
   "cell_type": "code",
   "execution_count": 12,
   "metadata": {},
   "outputs": [],
   "source": [
    "train_scenarios = {\n",
    "    scenario['uuid']: scenario\n",
    "    for scenario in scenarios1\n",
    "}"
   ]
  },
  {
   "cell_type": "code",
   "execution_count": 13,
   "metadata": {},
   "outputs": [],
   "source": [
    "hit_count = 0\n",
    "miss_count = 0\n",
    "for scenario in scenarios2:\n",
    "    uuid = scenario['uuid']\n",
    "    if uuid in train_scenarios:\n",
    "        assert train_scenarios[uuid] == scenario\n",
    "        hit_count += 1\n",
    "    else:\n",
    "        miss_count += 1"
   ]
  },
  {
   "cell_type": "code",
   "execution_count": 14,
   "metadata": {},
   "outputs": [
    {
     "name": "stdout",
     "output_type": "stream",
     "text": [
      "hits: 0\n",
      "misses: 4500\n"
     ]
    }
   ],
   "source": [
    "print(\"hits: {}\".format(hit_count))\n",
    "print(\"misses: {}\".format(miss_count))"
   ]
  },
  {
   "cell_type": "code",
   "execution_count": 15,
   "metadata": {},
   "outputs": [
    {
     "data": {
      "text/plain": [
       "<corpora.reference_sentence.ReferenceSentenceCorpus at 0x7fad0422a2e8>"
      ]
     },
     "execution_count": 15,
     "metadata": {},
     "output_type": "execute_result"
    }
   ],
   "source": [
    "corpus"
   ]
  },
  {
   "cell_type": "code",
   "execution_count": 17,
   "metadata": {},
   "outputs": [
    {
     "name": "stderr",
     "output_type": "stream",
     "text": [
      "/home/dfried/miniconda3/envs/onecommon/lib/python3.6/site-packages/torch/serialization.py:657: SourceChangeWarning: source code of class 'models.rnn_reference_model.HierarchicalRnnReferenceModel' has changed. you can retrieve the original source code by accessing the object's source attribute or set `torch.nn.Module.dump_patches = True` and use the patch tool to revert the changes.\n",
      "  warnings.warn(msg, SourceChangeWarning)\n"
     ]
    }
   ],
   "source": [
    "models = {\n",
    "    name: utils.load_model(model_fname, map_location='cpu')\n",
    "    for name, model_fname in model_fnames.items()\n",
    "}"
   ]
  },
  {
   "cell_type": "code",
   "execution_count": 19,
   "metadata": {},
   "outputs": [],
   "source": [
    "batchsize=1\n",
    "validset, validset_stats = corpus.valid_dataset(batchsize)"
   ]
  },
  {
   "cell_type": "code",
   "execution_count": 20,
   "metadata": {},
   "outputs": [
    {
     "data": {
      "text/plain": [
       "{'n': 74030, 'self_n': 37015, 'nonpadn': 69348, 'self_nonpadn': 34674}"
      ]
     },
     "execution_count": 20,
     "metadata": {},
     "output_type": "execute_result"
    }
   ],
   "source": [
    "validset_stats"
   ]
  },
  {
   "cell_type": "code",
   "execution_count": 21,
   "metadata": {},
   "outputs": [],
   "source": [
    "import torch"
   ]
  },
  {
   "cell_type": "code",
   "execution_count": 22,
   "metadata": {},
   "outputs": [],
   "source": [
    "from agent import RnnAgent"
   ]
  },
  {
   "cell_type": "code",
   "execution_count": 23,
   "metadata": {},
   "outputs": [],
   "source": [
    "from selfplay import make_parser"
   ]
  },
  {
   "cell_type": "code",
   "execution_count": 24,
   "metadata": {},
   "outputs": [],
   "source": [
    "parser = make_parser()\n",
    "args = parser.parse_args('--temperature 0.25'.split())\n",
    "# args = parser.parse_args('--temperature 0.01'.split())"
   ]
  },
  {
   "cell_type": "code",
   "execution_count": 25,
   "metadata": {},
   "outputs": [],
   "source": [
    "def is_selection(out):\n",
    "    return '<selection>' in out"
   ]
  },
  {
   "cell_type": "code",
   "execution_count": 26,
   "metadata": {},
   "outputs": [],
   "source": [
    "# display"
   ]
  },
  {
   "cell_type": "code",
   "execution_count": 27,
   "metadata": {},
   "outputs": [],
   "source": [
    "from dialog import DialogLogger"
   ]
  },
  {
   "cell_type": "code",
   "execution_count": 28,
   "metadata": {},
   "outputs": [],
   "source": [
    "from IPython.display import SVG, display, HTML"
   ]
  },
  {
   "cell_type": "code",
   "execution_count": 29,
   "metadata": {},
   "outputs": [],
   "source": [
    "def display_svgs(svgs):\n",
    "    no_wrap_div = '<div style=\"white-space: nowrap\">' + ''.join(svgs) + '</div>'\n",
    "    display(HTML(no_wrap_div))"
   ]
  },
  {
   "cell_type": "code",
   "execution_count": 30,
   "metadata": {},
   "outputs": [],
   "source": [
    "def display_attn(scenario, attn, agent_id, name=None):\n",
    "    attn = attn.flatten().detach().numpy()\n",
    "    if name is not None:\n",
    "        print(\"{}: {}\".format(name, attn))\n",
    "    display_svgs([DialogLogger._scenario_to_svg(scenario)[agent_id], DialogLogger._attention_to_svg(scenario, agent_id, attn)])"
   ]
  },
  {
   "cell_type": "code",
   "execution_count": 31,
   "metadata": {},
   "outputs": [
    {
     "name": "stdout",
     "output_type": "stream",
     "text": [
      "Automatic pdb calling has been turned ON\n"
     ]
    }
   ],
   "source": [
    "pdb on"
   ]
  },
  {
   "cell_type": "code",
   "execution_count": 32,
   "metadata": {},
   "outputs": [],
   "source": [
    "# training emulation"
   ]
  },
  {
   "cell_type": "code",
   "execution_count": 33,
   "metadata": {},
   "outputs": [],
   "source": [
    "trainset, trainset_stats = corpus.train_dataset(bsz=1)"
   ]
  },
  {
   "cell_type": "code",
   "execution_count": 34,
   "metadata": {},
   "outputs": [
    {
     "data": {
      "text/plain": [
       "True"
      ]
     },
     "execution_count": 34,
     "metadata": {},
     "output_type": "execute_result"
    }
   ],
   "source": [
    "trainset[0].scenario_ids[0] in train_scenarios"
   ]
  },
  {
   "cell_type": "code",
   "execution_count": 35,
   "metadata": {},
   "outputs": [],
   "source": [
    "# ctx: this player's dots\n",
    "# inpt / tgt: dialogue word indices (tgt are shifted by 1)\n",
    "# ref_inpt"
   ]
  },
  {
   "cell_type": "code",
   "execution_count": 50,
   "metadata": {},
   "outputs": [
    {
     "name": "stdout",
     "output_type": "stream",
     "text": [
      "found it\n"
     ]
    }
   ],
   "source": [
    "for ix in range(len(trainset)):\n",
    "#     ctx, inpts, tgts, ref_inpts, ref_tgts, sel_tgt, \\\n",
    "#     [scenario_id], real_ids, agents, chat_ids, sel_idxs, \\\n",
    "#     lens, rev_idxs, hid_idxs, all_num_markables = trainset[ix]\n",
    "    \n",
    "    ctx, inpts, tgts, ref_inpts, ref_tgts, sel_tgt, \\\n",
    "    [scenario_id], real_ids, partner_real_ids, agents, chat_ids, sel_idxs, \\\n",
    "    lens, rev_idxs, hid_idxs, num_markables, \\\n",
    "    is_self, partner_ref_inpts, partner_ref_tgts_our_view, all_partner_num_markables = trainset[ix]\n",
    "\n",
    "    if 'C_d0de3d0144df405e998ae718539ff9a4' in chat_ids:\n",
    "#     if scenario_id == 'S_UoujG1GG6KscmnbN':\n",
    "        print(\"found it\")\n",
    "        scenario = train_scenarios[scenario_id]\n",
    "        break"
   ]
  },
  {
   "cell_type": "code",
   "execution_count": 47,
   "metadata": {},
   "outputs": [],
   "source": [
    "model = models['mark_dots_mentioned']"
   ]
  },
  {
   "cell_type": "code",
   "execution_count": 48,
   "metadata": {},
   "outputs": [],
   "source": [
    "alice = RnnAgent(model, args)\n",
    "bob = RnnAgent(model, args)"
   ]
  },
  {
   "cell_type": "code",
   "execution_count": 51,
   "metadata": {
    "scrolled": true
   },
   "outputs": [
    {
     "name": "stdout",
     "output_type": "stream",
     "text": [
      "YOU: i see a dark grey dot with a slightly smaller darker dot below it <eos>\n",
      "dots_mentioned: [1. 1. 0. 0. 0. 0. 0.]\n"
     ]
    },
    {
     "data": {
      "text/html": [
       "<div style=\"white-space: nowrap\"><svg width=\"430\" height=\"430\" id=\"agent_1\"><circle cx=\"215\" cy=\"215\" r=\"205\" fill=\"none\" stroke=\"black\" stroke-width=\"2\" stroke-dasharray=\"3,3\"/><circle cx=\"199\" cy=\"227\" r=\"9\" fill=\"rgb(75,75,75)\"/><circle cx=\"208\" cy=\"177\" r=\"11\" fill=\"rgb(97,97,97)\"/><circle cx=\"277\" cy=\"157\" r=\"8\" fill=\"rgb(149,149,149)\"/><circle cx=\"156\" cy=\"118\" r=\"7\" fill=\"rgb(139,139,139)\"/><circle cx=\"306\" cy=\"100\" r=\"10\" fill=\"rgb(76,76,76)\"/><circle cx=\"83\" cy=\"255\" r=\"9\" fill=\"rgb(115,115,115)\"/><circle cx=\"303\" cy=\"307\" r=\"9\" fill=\"rgb(85,85,85)\"/></svg><svg id=\"svg\" width=\"430\" height=\"430\"><circle cx=\"215\" cy=\"215\" r=\"205\" fill=\"none\" stroke=\"black\" stroke-width=\"2\" stroke-dasharray=\"3,3\"/> <circle cx=\"199\" cy=\"227\" r=\"9\" fill=\"rgb(255,0,0)\" class=\"agent_1_5\"/><circle cx=\"208\" cy=\"177\" r=\"11\" fill=\"rgb(255,0,0)\" class=\"agent_1_24\"/><circle cx=\"277\" cy=\"157\" r=\"8\" fill=\"rgb(255,255,255)\" class=\"agent_1_35\"/><circle cx=\"156\" cy=\"118\" r=\"7\" fill=\"rgb(255,255,255)\" class=\"agent_1_39\"/><circle cx=\"306\" cy=\"100\" r=\"10\" fill=\"rgb(255,255,255)\" class=\"agent_1_40\"/><circle cx=\"83\" cy=\"255\" r=\"9\" fill=\"rgb(255,255,255)\" class=\"agent_1_58\"/><circle cx=\"303\" cy=\"307\" r=\"9\" fill=\"rgb(255,255,255)\" class=\"agent_1_80\"/></svg></div>"
      ],
      "text/plain": [
       "<IPython.core.display.HTML object>"
      ]
     },
     "metadata": {},
     "output_type": "display_data"
    },
    {
     "name": "stdout",
     "output_type": "stream",
     "text": [
      "word attention mean: [0.44916221 0.30394575 0.00901062 0.00566747 0.0950246  0.06985968\n",
      " 0.06732957]\n"
     ]
    },
    {
     "data": {
      "text/html": [
       "<div style=\"white-space: nowrap\"><svg width=\"430\" height=\"430\" id=\"agent_1\"><circle cx=\"215\" cy=\"215\" r=\"205\" fill=\"none\" stroke=\"black\" stroke-width=\"2\" stroke-dasharray=\"3,3\"/><circle cx=\"199\" cy=\"227\" r=\"9\" fill=\"rgb(75,75,75)\"/><circle cx=\"208\" cy=\"177\" r=\"11\" fill=\"rgb(97,97,97)\"/><circle cx=\"277\" cy=\"157\" r=\"8\" fill=\"rgb(149,149,149)\"/><circle cx=\"156\" cy=\"118\" r=\"7\" fill=\"rgb(139,139,139)\"/><circle cx=\"306\" cy=\"100\" r=\"10\" fill=\"rgb(76,76,76)\"/><circle cx=\"83\" cy=\"255\" r=\"9\" fill=\"rgb(115,115,115)\"/><circle cx=\"303\" cy=\"307\" r=\"9\" fill=\"rgb(85,85,85)\"/></svg><svg id=\"svg\" width=\"430\" height=\"430\"><circle cx=\"215\" cy=\"215\" r=\"205\" fill=\"none\" stroke=\"black\" stroke-width=\"2\" stroke-dasharray=\"3,3\"/> <circle cx=\"199\" cy=\"227\" r=\"9\" fill=\"rgb(255,140,140)\" class=\"agent_1_5\"/><circle cx=\"208\" cy=\"177\" r=\"11\" fill=\"rgb(255,177,177)\" class=\"agent_1_24\"/><circle cx=\"277\" cy=\"157\" r=\"8\" fill=\"rgb(255,252,252)\" class=\"agent_1_35\"/><circle cx=\"156\" cy=\"118\" r=\"7\" fill=\"rgb(255,253,253)\" class=\"agent_1_39\"/><circle cx=\"306\" cy=\"100\" r=\"10\" fill=\"rgb(255,230,230)\" class=\"agent_1_40\"/><circle cx=\"83\" cy=\"255\" r=\"9\" fill=\"rgb(255,237,237)\" class=\"agent_1_58\"/><circle cx=\"303\" cy=\"307\" r=\"9\" fill=\"rgb(255,237,237)\" class=\"agent_1_80\"/></svg></div>"
      ],
      "text/plain": [
       "<IPython.core.display.HTML object>"
      ]
     },
     "metadata": {},
     "output_type": "display_data"
    },
    {
     "name": "stdout",
     "output_type": "stream",
     "text": [
      "t 0: i: [5.1563394e-01 4.6030292e-01 2.0864936e-06 1.4721269e-06 2.2387674e-02\n",
      " 4.4005289e-04 1.2317613e-03]\n"
     ]
    },
    {
     "data": {
      "text/html": [
       "<div style=\"white-space: nowrap\"><svg width=\"430\" height=\"430\" id=\"agent_1\"><circle cx=\"215\" cy=\"215\" r=\"205\" fill=\"none\" stroke=\"black\" stroke-width=\"2\" stroke-dasharray=\"3,3\"/><circle cx=\"199\" cy=\"227\" r=\"9\" fill=\"rgb(75,75,75)\"/><circle cx=\"208\" cy=\"177\" r=\"11\" fill=\"rgb(97,97,97)\"/><circle cx=\"277\" cy=\"157\" r=\"8\" fill=\"rgb(149,149,149)\"/><circle cx=\"156\" cy=\"118\" r=\"7\" fill=\"rgb(139,139,139)\"/><circle cx=\"306\" cy=\"100\" r=\"10\" fill=\"rgb(76,76,76)\"/><circle cx=\"83\" cy=\"255\" r=\"9\" fill=\"rgb(115,115,115)\"/><circle cx=\"303\" cy=\"307\" r=\"9\" fill=\"rgb(85,85,85)\"/></svg><svg id=\"svg\" width=\"430\" height=\"430\"><circle cx=\"215\" cy=\"215\" r=\"205\" fill=\"none\" stroke=\"black\" stroke-width=\"2\" stroke-dasharray=\"3,3\"/> <circle cx=\"199\" cy=\"227\" r=\"9\" fill=\"rgb(255,123,123)\" class=\"agent_1_5\"/><circle cx=\"208\" cy=\"177\" r=\"11\" fill=\"rgb(255,137,137)\" class=\"agent_1_24\"/><circle cx=\"277\" cy=\"157\" r=\"8\" fill=\"rgb(255,254,254)\" class=\"agent_1_35\"/><circle cx=\"156\" cy=\"118\" r=\"7\" fill=\"rgb(255,254,254)\" class=\"agent_1_39\"/><circle cx=\"306\" cy=\"100\" r=\"10\" fill=\"rgb(255,249,249)\" class=\"agent_1_40\"/><circle cx=\"83\" cy=\"255\" r=\"9\" fill=\"rgb(255,254,254)\" class=\"agent_1_58\"/><circle cx=\"303\" cy=\"307\" r=\"9\" fill=\"rgb(255,254,254)\" class=\"agent_1_80\"/></svg></div>"
      ],
      "text/plain": [
       "<IPython.core.display.HTML object>"
      ]
     },
     "metadata": {},
     "output_type": "display_data"
    },
    {
     "name": "stdout",
     "output_type": "stream",
     "text": [
      "t 1: see: [0.19833878 0.20594174 0.02070414 0.01583051 0.18872908 0.18491638\n",
      " 0.18553942]\n"
     ]
    },
    {
     "data": {
      "text/html": [
       "<div style=\"white-space: nowrap\"><svg width=\"430\" height=\"430\" id=\"agent_1\"><circle cx=\"215\" cy=\"215\" r=\"205\" fill=\"none\" stroke=\"black\" stroke-width=\"2\" stroke-dasharray=\"3,3\"/><circle cx=\"199\" cy=\"227\" r=\"9\" fill=\"rgb(75,75,75)\"/><circle cx=\"208\" cy=\"177\" r=\"11\" fill=\"rgb(97,97,97)\"/><circle cx=\"277\" cy=\"157\" r=\"8\" fill=\"rgb(149,149,149)\"/><circle cx=\"156\" cy=\"118\" r=\"7\" fill=\"rgb(139,139,139)\"/><circle cx=\"306\" cy=\"100\" r=\"10\" fill=\"rgb(76,76,76)\"/><circle cx=\"83\" cy=\"255\" r=\"9\" fill=\"rgb(115,115,115)\"/><circle cx=\"303\" cy=\"307\" r=\"9\" fill=\"rgb(85,85,85)\"/></svg><svg id=\"svg\" width=\"430\" height=\"430\"><circle cx=\"215\" cy=\"215\" r=\"205\" fill=\"none\" stroke=\"black\" stroke-width=\"2\" stroke-dasharray=\"3,3\"/> <circle cx=\"199\" cy=\"227\" r=\"9\" fill=\"rgb(255,204,204)\" class=\"agent_1_5\"/><circle cx=\"208\" cy=\"177\" r=\"11\" fill=\"rgb(255,202,202)\" class=\"agent_1_24\"/><circle cx=\"277\" cy=\"157\" r=\"8\" fill=\"rgb(255,249,249)\" class=\"agent_1_35\"/><circle cx=\"156\" cy=\"118\" r=\"7\" fill=\"rgb(255,250,250)\" class=\"agent_1_39\"/><circle cx=\"306\" cy=\"100\" r=\"10\" fill=\"rgb(255,206,206)\" class=\"agent_1_40\"/><circle cx=\"83\" cy=\"255\" r=\"9\" fill=\"rgb(255,207,207)\" class=\"agent_1_58\"/><circle cx=\"303\" cy=\"307\" r=\"9\" fill=\"rgb(255,207,207)\" class=\"agent_1_80\"/></svg></div>"
      ],
      "text/plain": [
       "<IPython.core.display.HTML object>"
      ]
     },
     "metadata": {},
     "output_type": "display_data"
    },
    {
     "name": "stdout",
     "output_type": "stream",
     "text": [
      "t 2: a: [4.77102369e-01 4.98029530e-01 1.05115824e-07 1.21620360e-07\n",
      " 2.41233595e-02 7.87135214e-05 6.65728177e-04]\n"
     ]
    },
    {
     "data": {
      "text/html": [
       "<div style=\"white-space: nowrap\"><svg width=\"430\" height=\"430\" id=\"agent_1\"><circle cx=\"215\" cy=\"215\" r=\"205\" fill=\"none\" stroke=\"black\" stroke-width=\"2\" stroke-dasharray=\"3,3\"/><circle cx=\"199\" cy=\"227\" r=\"9\" fill=\"rgb(75,75,75)\"/><circle cx=\"208\" cy=\"177\" r=\"11\" fill=\"rgb(97,97,97)\"/><circle cx=\"277\" cy=\"157\" r=\"8\" fill=\"rgb(149,149,149)\"/><circle cx=\"156\" cy=\"118\" r=\"7\" fill=\"rgb(139,139,139)\"/><circle cx=\"306\" cy=\"100\" r=\"10\" fill=\"rgb(76,76,76)\"/><circle cx=\"83\" cy=\"255\" r=\"9\" fill=\"rgb(115,115,115)\"/><circle cx=\"303\" cy=\"307\" r=\"9\" fill=\"rgb(85,85,85)\"/></svg><svg id=\"svg\" width=\"430\" height=\"430\"><circle cx=\"215\" cy=\"215\" r=\"205\" fill=\"none\" stroke=\"black\" stroke-width=\"2\" stroke-dasharray=\"3,3\"/> <circle cx=\"199\" cy=\"227\" r=\"9\" fill=\"rgb(255,133,133)\" class=\"agent_1_5\"/><circle cx=\"208\" cy=\"177\" r=\"11\" fill=\"rgb(255,128,128)\" class=\"agent_1_24\"/><circle cx=\"277\" cy=\"157\" r=\"8\" fill=\"rgb(255,254,254)\" class=\"agent_1_35\"/><circle cx=\"156\" cy=\"118\" r=\"7\" fill=\"rgb(255,254,254)\" class=\"agent_1_39\"/><circle cx=\"306\" cy=\"100\" r=\"10\" fill=\"rgb(255,248,248)\" class=\"agent_1_40\"/><circle cx=\"83\" cy=\"255\" r=\"9\" fill=\"rgb(255,254,254)\" class=\"agent_1_58\"/><circle cx=\"303\" cy=\"307\" r=\"9\" fill=\"rgb(255,254,254)\" class=\"agent_1_80\"/></svg></div>"
      ],
      "text/plain": [
       "<IPython.core.display.HTML object>"
      ]
     },
     "metadata": {},
     "output_type": "display_data"
    },
    {
     "name": "stdout",
     "output_type": "stream",
     "text": [
      "t 3: dark: [5.2081662e-01 4.7885337e-01 1.9682777e-06 2.0247185e-06 2.0925121e-04\n",
      " 4.2370360e-05 7.4395357e-05]\n"
     ]
    },
    {
     "data": {
      "text/html": [
       "<div style=\"white-space: nowrap\"><svg width=\"430\" height=\"430\" id=\"agent_1\"><circle cx=\"215\" cy=\"215\" r=\"205\" fill=\"none\" stroke=\"black\" stroke-width=\"2\" stroke-dasharray=\"3,3\"/><circle cx=\"199\" cy=\"227\" r=\"9\" fill=\"rgb(75,75,75)\"/><circle cx=\"208\" cy=\"177\" r=\"11\" fill=\"rgb(97,97,97)\"/><circle cx=\"277\" cy=\"157\" r=\"8\" fill=\"rgb(149,149,149)\"/><circle cx=\"156\" cy=\"118\" r=\"7\" fill=\"rgb(139,139,139)\"/><circle cx=\"306\" cy=\"100\" r=\"10\" fill=\"rgb(76,76,76)\"/><circle cx=\"83\" cy=\"255\" r=\"9\" fill=\"rgb(115,115,115)\"/><circle cx=\"303\" cy=\"307\" r=\"9\" fill=\"rgb(85,85,85)\"/></svg><svg id=\"svg\" width=\"430\" height=\"430\"><circle cx=\"215\" cy=\"215\" r=\"205\" fill=\"none\" stroke=\"black\" stroke-width=\"2\" stroke-dasharray=\"3,3\"/> <circle cx=\"199\" cy=\"227\" r=\"9\" fill=\"rgb(255,122,122)\" class=\"agent_1_5\"/><circle cx=\"208\" cy=\"177\" r=\"11\" fill=\"rgb(255,132,132)\" class=\"agent_1_24\"/><circle cx=\"277\" cy=\"157\" r=\"8\" fill=\"rgb(255,254,254)\" class=\"agent_1_35\"/><circle cx=\"156\" cy=\"118\" r=\"7\" fill=\"rgb(255,254,254)\" class=\"agent_1_39\"/><circle cx=\"306\" cy=\"100\" r=\"10\" fill=\"rgb(255,254,254)\" class=\"agent_1_40\"/><circle cx=\"83\" cy=\"255\" r=\"9\" fill=\"rgb(255,254,254)\" class=\"agent_1_58\"/><circle cx=\"303\" cy=\"307\" r=\"9\" fill=\"rgb(255,254,254)\" class=\"agent_1_80\"/></svg></div>"
      ],
      "text/plain": [
       "<IPython.core.display.HTML object>"
      ]
     },
     "metadata": {},
     "output_type": "display_data"
    },
    {
     "name": "stdout",
     "output_type": "stream",
     "text": [
      "t 4: grey: [5.2027434e-01 4.7972223e-01 9.3681334e-11 4.9746950e-11 3.2674186e-06\n",
      " 3.1181639e-08 9.5473794e-08]\n"
     ]
    },
    {
     "data": {
      "text/html": [
       "<div style=\"white-space: nowrap\"><svg width=\"430\" height=\"430\" id=\"agent_1\"><circle cx=\"215\" cy=\"215\" r=\"205\" fill=\"none\" stroke=\"black\" stroke-width=\"2\" stroke-dasharray=\"3,3\"/><circle cx=\"199\" cy=\"227\" r=\"9\" fill=\"rgb(75,75,75)\"/><circle cx=\"208\" cy=\"177\" r=\"11\" fill=\"rgb(97,97,97)\"/><circle cx=\"277\" cy=\"157\" r=\"8\" fill=\"rgb(149,149,149)\"/><circle cx=\"156\" cy=\"118\" r=\"7\" fill=\"rgb(139,139,139)\"/><circle cx=\"306\" cy=\"100\" r=\"10\" fill=\"rgb(76,76,76)\"/><circle cx=\"83\" cy=\"255\" r=\"9\" fill=\"rgb(115,115,115)\"/><circle cx=\"303\" cy=\"307\" r=\"9\" fill=\"rgb(85,85,85)\"/></svg><svg id=\"svg\" width=\"430\" height=\"430\"><circle cx=\"215\" cy=\"215\" r=\"205\" fill=\"none\" stroke=\"black\" stroke-width=\"2\" stroke-dasharray=\"3,3\"/> <circle cx=\"199\" cy=\"227\" r=\"9\" fill=\"rgb(255,122,122)\" class=\"agent_1_5\"/><circle cx=\"208\" cy=\"177\" r=\"11\" fill=\"rgb(255,132,132)\" class=\"agent_1_24\"/><circle cx=\"277\" cy=\"157\" r=\"8\" fill=\"rgb(255,254,254)\" class=\"agent_1_35\"/><circle cx=\"156\" cy=\"118\" r=\"7\" fill=\"rgb(255,254,254)\" class=\"agent_1_39\"/><circle cx=\"306\" cy=\"100\" r=\"10\" fill=\"rgb(255,254,254)\" class=\"agent_1_40\"/><circle cx=\"83\" cy=\"255\" r=\"9\" fill=\"rgb(255,254,254)\" class=\"agent_1_58\"/><circle cx=\"303\" cy=\"307\" r=\"9\" fill=\"rgb(255,254,254)\" class=\"agent_1_80\"/></svg></div>"
      ],
      "text/plain": [
       "<IPython.core.display.HTML object>"
      ]
     },
     "metadata": {},
     "output_type": "display_data"
    },
    {
     "name": "stdout",
     "output_type": "stream",
     "text": [
      "t 5: dot: [4.9235687e-01 4.2313915e-01 5.7063723e-08 5.0626337e-08 8.1251957e-02\n",
      " 3.6973806e-04 2.8822294e-03]\n"
     ]
    },
    {
     "data": {
      "text/html": [
       "<div style=\"white-space: nowrap\"><svg width=\"430\" height=\"430\" id=\"agent_1\"><circle cx=\"215\" cy=\"215\" r=\"205\" fill=\"none\" stroke=\"black\" stroke-width=\"2\" stroke-dasharray=\"3,3\"/><circle cx=\"199\" cy=\"227\" r=\"9\" fill=\"rgb(75,75,75)\"/><circle cx=\"208\" cy=\"177\" r=\"11\" fill=\"rgb(97,97,97)\"/><circle cx=\"277\" cy=\"157\" r=\"8\" fill=\"rgb(149,149,149)\"/><circle cx=\"156\" cy=\"118\" r=\"7\" fill=\"rgb(139,139,139)\"/><circle cx=\"306\" cy=\"100\" r=\"10\" fill=\"rgb(76,76,76)\"/><circle cx=\"83\" cy=\"255\" r=\"9\" fill=\"rgb(115,115,115)\"/><circle cx=\"303\" cy=\"307\" r=\"9\" fill=\"rgb(85,85,85)\"/></svg><svg id=\"svg\" width=\"430\" height=\"430\"><circle cx=\"215\" cy=\"215\" r=\"205\" fill=\"none\" stroke=\"black\" stroke-width=\"2\" stroke-dasharray=\"3,3\"/> <circle cx=\"199\" cy=\"227\" r=\"9\" fill=\"rgb(255,129,129)\" class=\"agent_1_5\"/><circle cx=\"208\" cy=\"177\" r=\"11\" fill=\"rgb(255,147,147)\" class=\"agent_1_24\"/><circle cx=\"277\" cy=\"157\" r=\"8\" fill=\"rgb(255,254,254)\" class=\"agent_1_35\"/><circle cx=\"156\" cy=\"118\" r=\"7\" fill=\"rgb(255,254,254)\" class=\"agent_1_39\"/><circle cx=\"306\" cy=\"100\" r=\"10\" fill=\"rgb(255,234,234)\" class=\"agent_1_40\"/><circle cx=\"83\" cy=\"255\" r=\"9\" fill=\"rgb(255,254,254)\" class=\"agent_1_58\"/><circle cx=\"303\" cy=\"307\" r=\"9\" fill=\"rgb(255,254,254)\" class=\"agent_1_80\"/></svg></div>"
      ],
      "text/plain": [
       "<IPython.core.display.HTML object>"
      ]
     },
     "metadata": {},
     "output_type": "display_data"
    },
    {
     "name": "stdout",
     "output_type": "stream",
     "text": [
      "t 6: with: [4.9459183e-01 3.1436923e-01 1.1522667e-06 1.0587951e-06 1.8860146e-01\n",
      " 2.6164053e-04 2.1735833e-03]\n"
     ]
    },
    {
     "data": {
      "text/html": [
       "<div style=\"white-space: nowrap\"><svg width=\"430\" height=\"430\" id=\"agent_1\"><circle cx=\"215\" cy=\"215\" r=\"205\" fill=\"none\" stroke=\"black\" stroke-width=\"2\" stroke-dasharray=\"3,3\"/><circle cx=\"199\" cy=\"227\" r=\"9\" fill=\"rgb(75,75,75)\"/><circle cx=\"208\" cy=\"177\" r=\"11\" fill=\"rgb(97,97,97)\"/><circle cx=\"277\" cy=\"157\" r=\"8\" fill=\"rgb(149,149,149)\"/><circle cx=\"156\" cy=\"118\" r=\"7\" fill=\"rgb(139,139,139)\"/><circle cx=\"306\" cy=\"100\" r=\"10\" fill=\"rgb(76,76,76)\"/><circle cx=\"83\" cy=\"255\" r=\"9\" fill=\"rgb(115,115,115)\"/><circle cx=\"303\" cy=\"307\" r=\"9\" fill=\"rgb(85,85,85)\"/></svg><svg id=\"svg\" width=\"430\" height=\"430\"><circle cx=\"215\" cy=\"215\" r=\"205\" fill=\"none\" stroke=\"black\" stroke-width=\"2\" stroke-dasharray=\"3,3\"/> <circle cx=\"199\" cy=\"227\" r=\"9\" fill=\"rgb(255,128,128)\" class=\"agent_1_5\"/><circle cx=\"208\" cy=\"177\" r=\"11\" fill=\"rgb(255,174,174)\" class=\"agent_1_24\"/><circle cx=\"277\" cy=\"157\" r=\"8\" fill=\"rgb(255,254,254)\" class=\"agent_1_35\"/><circle cx=\"156\" cy=\"118\" r=\"7\" fill=\"rgb(255,254,254)\" class=\"agent_1_39\"/><circle cx=\"306\" cy=\"100\" r=\"10\" fill=\"rgb(255,206,206)\" class=\"agent_1_40\"/><circle cx=\"83\" cy=\"255\" r=\"9\" fill=\"rgb(255,254,254)\" class=\"agent_1_58\"/><circle cx=\"303\" cy=\"307\" r=\"9\" fill=\"rgb(255,254,254)\" class=\"agent_1_80\"/></svg></div>"
      ],
      "text/plain": [
       "<IPython.core.display.HTML object>"
      ]
     },
     "metadata": {},
     "output_type": "display_data"
    },
    {
     "name": "stdout",
     "output_type": "stream",
     "text": [
      "t 7: a: [4.4561070e-01 3.5899431e-01 1.3027868e-05 6.2636095e-06 1.6311881e-01\n",
      " 1.1140160e-02 2.1116776e-02]\n"
     ]
    },
    {
     "data": {
      "text/html": [
       "<div style=\"white-space: nowrap\"><svg width=\"430\" height=\"430\" id=\"agent_1\"><circle cx=\"215\" cy=\"215\" r=\"205\" fill=\"none\" stroke=\"black\" stroke-width=\"2\" stroke-dasharray=\"3,3\"/><circle cx=\"199\" cy=\"227\" r=\"9\" fill=\"rgb(75,75,75)\"/><circle cx=\"208\" cy=\"177\" r=\"11\" fill=\"rgb(97,97,97)\"/><circle cx=\"277\" cy=\"157\" r=\"8\" fill=\"rgb(149,149,149)\"/><circle cx=\"156\" cy=\"118\" r=\"7\" fill=\"rgb(139,139,139)\"/><circle cx=\"306\" cy=\"100\" r=\"10\" fill=\"rgb(76,76,76)\"/><circle cx=\"83\" cy=\"255\" r=\"9\" fill=\"rgb(115,115,115)\"/><circle cx=\"303\" cy=\"307\" r=\"9\" fill=\"rgb(85,85,85)\"/></svg><svg id=\"svg\" width=\"430\" height=\"430\"><circle cx=\"215\" cy=\"215\" r=\"205\" fill=\"none\" stroke=\"black\" stroke-width=\"2\" stroke-dasharray=\"3,3\"/> <circle cx=\"199\" cy=\"227\" r=\"9\" fill=\"rgb(255,141,141)\" class=\"agent_1_5\"/><circle cx=\"208\" cy=\"177\" r=\"11\" fill=\"rgb(255,163,163)\" class=\"agent_1_24\"/><circle cx=\"277\" cy=\"157\" r=\"8\" fill=\"rgb(255,254,254)\" class=\"agent_1_35\"/><circle cx=\"156\" cy=\"118\" r=\"7\" fill=\"rgb(255,254,254)\" class=\"agent_1_39\"/><circle cx=\"306\" cy=\"100\" r=\"10\" fill=\"rgb(255,213,213)\" class=\"agent_1_40\"/><circle cx=\"83\" cy=\"255\" r=\"9\" fill=\"rgb(255,252,252)\" class=\"agent_1_58\"/><circle cx=\"303\" cy=\"307\" r=\"9\" fill=\"rgb(255,249,249)\" class=\"agent_1_80\"/></svg></div>"
      ],
      "text/plain": [
       "<IPython.core.display.HTML object>"
      ]
     },
     "metadata": {},
     "output_type": "display_data"
    },
    {
     "name": "stdout",
     "output_type": "stream",
     "text": [
      "t 8: slightly: [8.2226443e-01 1.7765269e-01 9.6021563e-07 3.3593841e-07 3.3720760e-05\n",
      " 1.8559291e-05 2.9301380e-05]\n"
     ]
    },
    {
     "data": {
      "text/html": [
       "<div style=\"white-space: nowrap\"><svg width=\"430\" height=\"430\" id=\"agent_1\"><circle cx=\"215\" cy=\"215\" r=\"205\" fill=\"none\" stroke=\"black\" stroke-width=\"2\" stroke-dasharray=\"3,3\"/><circle cx=\"199\" cy=\"227\" r=\"9\" fill=\"rgb(75,75,75)\"/><circle cx=\"208\" cy=\"177\" r=\"11\" fill=\"rgb(97,97,97)\"/><circle cx=\"277\" cy=\"157\" r=\"8\" fill=\"rgb(149,149,149)\"/><circle cx=\"156\" cy=\"118\" r=\"7\" fill=\"rgb(139,139,139)\"/><circle cx=\"306\" cy=\"100\" r=\"10\" fill=\"rgb(76,76,76)\"/><circle cx=\"83\" cy=\"255\" r=\"9\" fill=\"rgb(115,115,115)\"/><circle cx=\"303\" cy=\"307\" r=\"9\" fill=\"rgb(85,85,85)\"/></svg><svg id=\"svg\" width=\"430\" height=\"430\"><circle cx=\"215\" cy=\"215\" r=\"205\" fill=\"none\" stroke=\"black\" stroke-width=\"2\" stroke-dasharray=\"3,3\"/> <circle cx=\"199\" cy=\"227\" r=\"9\" fill=\"rgb(255,45,45)\" class=\"agent_1_5\"/><circle cx=\"208\" cy=\"177\" r=\"11\" fill=\"rgb(255,209,209)\" class=\"agent_1_24\"/><circle cx=\"277\" cy=\"157\" r=\"8\" fill=\"rgb(255,254,254)\" class=\"agent_1_35\"/><circle cx=\"156\" cy=\"118\" r=\"7\" fill=\"rgb(255,254,254)\" class=\"agent_1_39\"/><circle cx=\"306\" cy=\"100\" r=\"10\" fill=\"rgb(255,254,254)\" class=\"agent_1_40\"/><circle cx=\"83\" cy=\"255\" r=\"9\" fill=\"rgb(255,254,254)\" class=\"agent_1_58\"/><circle cx=\"303\" cy=\"307\" r=\"9\" fill=\"rgb(255,254,254)\" class=\"agent_1_80\"/></svg></div>"
      ],
      "text/plain": [
       "<IPython.core.display.HTML object>"
      ]
     },
     "metadata": {},
     "output_type": "display_data"
    },
    {
     "name": "stdout",
     "output_type": "stream",
     "text": [
      "t 9: smaller: [0.29403898 0.13830402 0.07831854 0.04418435 0.0392446  0.25535104\n",
      " 0.15055843]\n"
     ]
    },
    {
     "data": {
      "text/html": [
       "<div style=\"white-space: nowrap\"><svg width=\"430\" height=\"430\" id=\"agent_1\"><circle cx=\"215\" cy=\"215\" r=\"205\" fill=\"none\" stroke=\"black\" stroke-width=\"2\" stroke-dasharray=\"3,3\"/><circle cx=\"199\" cy=\"227\" r=\"9\" fill=\"rgb(75,75,75)\"/><circle cx=\"208\" cy=\"177\" r=\"11\" fill=\"rgb(97,97,97)\"/><circle cx=\"277\" cy=\"157\" r=\"8\" fill=\"rgb(149,149,149)\"/><circle cx=\"156\" cy=\"118\" r=\"7\" fill=\"rgb(139,139,139)\"/><circle cx=\"306\" cy=\"100\" r=\"10\" fill=\"rgb(76,76,76)\"/><circle cx=\"83\" cy=\"255\" r=\"9\" fill=\"rgb(115,115,115)\"/><circle cx=\"303\" cy=\"307\" r=\"9\" fill=\"rgb(85,85,85)\"/></svg><svg id=\"svg\" width=\"430\" height=\"430\"><circle cx=\"215\" cy=\"215\" r=\"205\" fill=\"none\" stroke=\"black\" stroke-width=\"2\" stroke-dasharray=\"3,3\"/> <circle cx=\"199\" cy=\"227\" r=\"9\" fill=\"rgb(255,180,180)\" class=\"agent_1_5\"/><circle cx=\"208\" cy=\"177\" r=\"11\" fill=\"rgb(255,219,219)\" class=\"agent_1_24\"/><circle cx=\"277\" cy=\"157\" r=\"8\" fill=\"rgb(255,235,235)\" class=\"agent_1_35\"/><circle cx=\"156\" cy=\"118\" r=\"7\" fill=\"rgb(255,243,243)\" class=\"agent_1_39\"/><circle cx=\"306\" cy=\"100\" r=\"10\" fill=\"rgb(255,244,244)\" class=\"agent_1_40\"/><circle cx=\"83\" cy=\"255\" r=\"9\" fill=\"rgb(255,189,189)\" class=\"agent_1_58\"/><circle cx=\"303\" cy=\"307\" r=\"9\" fill=\"rgb(255,216,216)\" class=\"agent_1_80\"/></svg></div>"
      ],
      "text/plain": [
       "<IPython.core.display.HTML object>"
      ]
     },
     "metadata": {},
     "output_type": "display_data"
    },
    {
     "name": "stdout",
     "output_type": "stream",
     "text": [
      "t 10: darker: [8.3792043e-01 1.6142622e-01 3.9140787e-06 3.2405992e-06 1.4124710e-04\n",
      " 2.7831871e-04 2.2677053e-04]\n"
     ]
    },
    {
     "data": {
      "text/html": [
       "<div style=\"white-space: nowrap\"><svg width=\"430\" height=\"430\" id=\"agent_1\"><circle cx=\"215\" cy=\"215\" r=\"205\" fill=\"none\" stroke=\"black\" stroke-width=\"2\" stroke-dasharray=\"3,3\"/><circle cx=\"199\" cy=\"227\" r=\"9\" fill=\"rgb(75,75,75)\"/><circle cx=\"208\" cy=\"177\" r=\"11\" fill=\"rgb(97,97,97)\"/><circle cx=\"277\" cy=\"157\" r=\"8\" fill=\"rgb(149,149,149)\"/><circle cx=\"156\" cy=\"118\" r=\"7\" fill=\"rgb(139,139,139)\"/><circle cx=\"306\" cy=\"100\" r=\"10\" fill=\"rgb(76,76,76)\"/><circle cx=\"83\" cy=\"255\" r=\"9\" fill=\"rgb(115,115,115)\"/><circle cx=\"303\" cy=\"307\" r=\"9\" fill=\"rgb(85,85,85)\"/></svg><svg id=\"svg\" width=\"430\" height=\"430\"><circle cx=\"215\" cy=\"215\" r=\"205\" fill=\"none\" stroke=\"black\" stroke-width=\"2\" stroke-dasharray=\"3,3\"/> <circle cx=\"199\" cy=\"227\" r=\"9\" fill=\"rgb(255,41,41)\" class=\"agent_1_5\"/><circle cx=\"208\" cy=\"177\" r=\"11\" fill=\"rgb(255,213,213)\" class=\"agent_1_24\"/><circle cx=\"277\" cy=\"157\" r=\"8\" fill=\"rgb(255,254,254)\" class=\"agent_1_35\"/><circle cx=\"156\" cy=\"118\" r=\"7\" fill=\"rgb(255,254,254)\" class=\"agent_1_39\"/><circle cx=\"306\" cy=\"100\" r=\"10\" fill=\"rgb(255,254,254)\" class=\"agent_1_40\"/><circle cx=\"83\" cy=\"255\" r=\"9\" fill=\"rgb(255,254,254)\" class=\"agent_1_58\"/><circle cx=\"303\" cy=\"307\" r=\"9\" fill=\"rgb(255,254,254)\" class=\"agent_1_80\"/></svg></div>"
      ],
      "text/plain": [
       "<IPython.core.display.HTML object>"
      ]
     },
     "metadata": {},
     "output_type": "display_data"
    },
    {
     "name": "stdout",
     "output_type": "stream",
     "text": [
      "t 11: dot: [5.20475626e-01 2.85910398e-01 6.42824743e-05 7.04502963e-05\n",
      " 1.09448195e-01 3.11029386e-02 5.29281311e-02]\n"
     ]
    },
    {
     "data": {
      "text/html": [
       "<div style=\"white-space: nowrap\"><svg width=\"430\" height=\"430\" id=\"agent_1\"><circle cx=\"215\" cy=\"215\" r=\"205\" fill=\"none\" stroke=\"black\" stroke-width=\"2\" stroke-dasharray=\"3,3\"/><circle cx=\"199\" cy=\"227\" r=\"9\" fill=\"rgb(75,75,75)\"/><circle cx=\"208\" cy=\"177\" r=\"11\" fill=\"rgb(97,97,97)\"/><circle cx=\"277\" cy=\"157\" r=\"8\" fill=\"rgb(149,149,149)\"/><circle cx=\"156\" cy=\"118\" r=\"7\" fill=\"rgb(139,139,139)\"/><circle cx=\"306\" cy=\"100\" r=\"10\" fill=\"rgb(76,76,76)\"/><circle cx=\"83\" cy=\"255\" r=\"9\" fill=\"rgb(115,115,115)\"/><circle cx=\"303\" cy=\"307\" r=\"9\" fill=\"rgb(85,85,85)\"/></svg><svg id=\"svg\" width=\"430\" height=\"430\"><circle cx=\"215\" cy=\"215\" r=\"205\" fill=\"none\" stroke=\"black\" stroke-width=\"2\" stroke-dasharray=\"3,3\"/> <circle cx=\"199\" cy=\"227\" r=\"9\" fill=\"rgb(255,122,122)\" class=\"agent_1_5\"/><circle cx=\"208\" cy=\"177\" r=\"11\" fill=\"rgb(255,182,182)\" class=\"agent_1_24\"/><circle cx=\"277\" cy=\"157\" r=\"8\" fill=\"rgb(255,254,254)\" class=\"agent_1_35\"/><circle cx=\"156\" cy=\"118\" r=\"7\" fill=\"rgb(255,254,254)\" class=\"agent_1_39\"/><circle cx=\"306\" cy=\"100\" r=\"10\" fill=\"rgb(255,227,227)\" class=\"agent_1_40\"/><circle cx=\"83\" cy=\"255\" r=\"9\" fill=\"rgb(255,247,247)\" class=\"agent_1_58\"/><circle cx=\"303\" cy=\"307\" r=\"9\" fill=\"rgb(255,241,241)\" class=\"agent_1_80\"/></svg></div>"
      ],
      "text/plain": [
       "<IPython.core.display.HTML object>"
      ]
     },
     "metadata": {},
     "output_type": "display_data"
    },
    {
     "name": "stdout",
     "output_type": "stream",
     "text": [
      "t 12: below: [0.20553337 0.20248716 0.00682511 0.00334397 0.20281821 0.18469611\n",
      " 0.194296  ]\n"
     ]
    },
    {
     "data": {
      "text/html": [
       "<div style=\"white-space: nowrap\"><svg width=\"430\" height=\"430\" id=\"agent_1\"><circle cx=\"215\" cy=\"215\" r=\"205\" fill=\"none\" stroke=\"black\" stroke-width=\"2\" stroke-dasharray=\"3,3\"/><circle cx=\"199\" cy=\"227\" r=\"9\" fill=\"rgb(75,75,75)\"/><circle cx=\"208\" cy=\"177\" r=\"11\" fill=\"rgb(97,97,97)\"/><circle cx=\"277\" cy=\"157\" r=\"8\" fill=\"rgb(149,149,149)\"/><circle cx=\"156\" cy=\"118\" r=\"7\" fill=\"rgb(139,139,139)\"/><circle cx=\"306\" cy=\"100\" r=\"10\" fill=\"rgb(76,76,76)\"/><circle cx=\"83\" cy=\"255\" r=\"9\" fill=\"rgb(115,115,115)\"/><circle cx=\"303\" cy=\"307\" r=\"9\" fill=\"rgb(85,85,85)\"/></svg><svg id=\"svg\" width=\"430\" height=\"430\"><circle cx=\"215\" cy=\"215\" r=\"205\" fill=\"none\" stroke=\"black\" stroke-width=\"2\" stroke-dasharray=\"3,3\"/> <circle cx=\"199\" cy=\"227\" r=\"9\" fill=\"rgb(255,202,202)\" class=\"agent_1_5\"/><circle cx=\"208\" cy=\"177\" r=\"11\" fill=\"rgb(255,203,203)\" class=\"agent_1_24\"/><circle cx=\"277\" cy=\"157\" r=\"8\" fill=\"rgb(255,253,253)\" class=\"agent_1_35\"/><circle cx=\"156\" cy=\"118\" r=\"7\" fill=\"rgb(255,254,254)\" class=\"agent_1_39\"/><circle cx=\"306\" cy=\"100\" r=\"10\" fill=\"rgb(255,203,203)\" class=\"agent_1_40\"/><circle cx=\"83\" cy=\"255\" r=\"9\" fill=\"rgb(255,207,207)\" class=\"agent_1_58\"/><circle cx=\"303\" cy=\"307\" r=\"9\" fill=\"rgb(255,205,205)\" class=\"agent_1_80\"/></svg></div>"
      ],
      "text/plain": [
       "<IPython.core.display.HTML object>"
      ]
     },
     "metadata": {},
     "output_type": "display_data"
    },
    {
     "name": "stdout",
     "output_type": "stream",
     "text": [
      "t 13: it: [0.18968911 0.18664761 0.02898193 0.02145691 0.18887568 0.19220763\n",
      " 0.1921411 ]\n"
     ]
    },
    {
     "data": {
      "text/html": [
       "<div style=\"white-space: nowrap\"><svg width=\"430\" height=\"430\" id=\"agent_1\"><circle cx=\"215\" cy=\"215\" r=\"205\" fill=\"none\" stroke=\"black\" stroke-width=\"2\" stroke-dasharray=\"3,3\"/><circle cx=\"199\" cy=\"227\" r=\"9\" fill=\"rgb(75,75,75)\"/><circle cx=\"208\" cy=\"177\" r=\"11\" fill=\"rgb(97,97,97)\"/><circle cx=\"277\" cy=\"157\" r=\"8\" fill=\"rgb(149,149,149)\"/><circle cx=\"156\" cy=\"118\" r=\"7\" fill=\"rgb(139,139,139)\"/><circle cx=\"306\" cy=\"100\" r=\"10\" fill=\"rgb(76,76,76)\"/><circle cx=\"83\" cy=\"255\" r=\"9\" fill=\"rgb(115,115,115)\"/><circle cx=\"303\" cy=\"307\" r=\"9\" fill=\"rgb(85,85,85)\"/></svg><svg id=\"svg\" width=\"430\" height=\"430\"><circle cx=\"215\" cy=\"215\" r=\"205\" fill=\"none\" stroke=\"black\" stroke-width=\"2\" stroke-dasharray=\"3,3\"/> <circle cx=\"199\" cy=\"227\" r=\"9\" fill=\"rgb(255,206,206)\" class=\"agent_1_5\"/><circle cx=\"208\" cy=\"177\" r=\"11\" fill=\"rgb(255,207,207)\" class=\"agent_1_24\"/><circle cx=\"277\" cy=\"157\" r=\"8\" fill=\"rgb(255,247,247)\" class=\"agent_1_35\"/><circle cx=\"156\" cy=\"118\" r=\"7\" fill=\"rgb(255,249,249)\" class=\"agent_1_39\"/><circle cx=\"306\" cy=\"100\" r=\"10\" fill=\"rgb(255,206,206)\" class=\"agent_1_40\"/><circle cx=\"83\" cy=\"255\" r=\"9\" fill=\"rgb(255,205,205)\" class=\"agent_1_58\"/><circle cx=\"303\" cy=\"307\" r=\"9\" fill=\"rgb(255,206,206)\" class=\"agent_1_80\"/></svg></div>"
      ],
      "text/plain": [
       "<IPython.core.display.HTML object>"
      ]
     },
     "metadata": {},
     "output_type": "display_data"
    },
    {
     "name": "stdout",
     "output_type": "stream",
     "text": [
      "t 14: <eos>: [2.0278631e-01 1.8740644e-01 2.4202293e-04 1.1126054e-04 2.1638253e-01\n",
      " 1.8699157e-01 2.0607992e-01]\n"
     ]
    },
    {
     "data": {
      "text/html": [
       "<div style=\"white-space: nowrap\"><svg width=\"430\" height=\"430\" id=\"agent_1\"><circle cx=\"215\" cy=\"215\" r=\"205\" fill=\"none\" stroke=\"black\" stroke-width=\"2\" stroke-dasharray=\"3,3\"/><circle cx=\"199\" cy=\"227\" r=\"9\" fill=\"rgb(75,75,75)\"/><circle cx=\"208\" cy=\"177\" r=\"11\" fill=\"rgb(97,97,97)\"/><circle cx=\"277\" cy=\"157\" r=\"8\" fill=\"rgb(149,149,149)\"/><circle cx=\"156\" cy=\"118\" r=\"7\" fill=\"rgb(139,139,139)\"/><circle cx=\"306\" cy=\"100\" r=\"10\" fill=\"rgb(76,76,76)\"/><circle cx=\"83\" cy=\"255\" r=\"9\" fill=\"rgb(115,115,115)\"/><circle cx=\"303\" cy=\"307\" r=\"9\" fill=\"rgb(85,85,85)\"/></svg><svg id=\"svg\" width=\"430\" height=\"430\"><circle cx=\"215\" cy=\"215\" r=\"205\" fill=\"none\" stroke=\"black\" stroke-width=\"2\" stroke-dasharray=\"3,3\"/> <circle cx=\"199\" cy=\"227\" r=\"9\" fill=\"rgb(255,203,203)\" class=\"agent_1_5\"/><circle cx=\"208\" cy=\"177\" r=\"11\" fill=\"rgb(255,207,207)\" class=\"agent_1_24\"/><circle cx=\"277\" cy=\"157\" r=\"8\" fill=\"rgb(255,254,254)\" class=\"agent_1_35\"/><circle cx=\"156\" cy=\"118\" r=\"7\" fill=\"rgb(255,254,254)\" class=\"agent_1_39\"/><circle cx=\"306\" cy=\"100\" r=\"10\" fill=\"rgb(255,199,199)\" class=\"agent_1_40\"/><circle cx=\"83\" cy=\"255\" r=\"9\" fill=\"rgb(255,207,207)\" class=\"agent_1_58\"/><circle cx=\"303\" cy=\"307\" r=\"9\" fill=\"rgb(255,202,202)\" class=\"agent_1_80\"/></svg></div>"
      ],
      "text/plain": [
       "<IPython.core.display.HTML object>"
      ]
     },
     "metadata": {},
     "output_type": "display_data"
    },
    {
     "name": "stdout",
     "output_type": "stream",
     "text": [
      "1\ti see a dark grey dot with a slightly smaller darker dot below it <eos>\n",
      "\n",
      "THEM: i think i have that too . above the larger one and to its left i have a much smaller medium gray dot <eos>\n"
     ]
    },
    {
     "ename": "AssertionError",
     "evalue": "",
     "output_type": "error",
     "traceback": [
      "\u001b[0;31m---------------------------------------------------------------------------\u001b[0m",
      "\u001b[0;31mAssertionError\u001b[0m                            Traceback (most recent call last)",
      "\u001b[0;32m<ipython-input-51-4bb2859ee5ad>\u001b[0m in \u001b[0;36m<module>\u001b[0;34m\u001b[0m\n\u001b[1;32m     32\u001b[0m         \u001b[0mforce_words\u001b[0m\u001b[0;34m=\u001b[0m\u001b[0;34m[\u001b[0m\u001b[0mwords_og\u001b[0m\u001b[0;34m]\u001b[0m\u001b[0;34m,\u001b[0m\u001b[0;34m\u001b[0m\u001b[0;34m\u001b[0m\u001b[0m\n\u001b[1;32m     33\u001b[0m         \u001b[0mstart_token\u001b[0m\u001b[0;34m=\u001b[0m\u001b[0mwords_og\u001b[0m\u001b[0;34m[\u001b[0m\u001b[0;36m0\u001b[0m\u001b[0;34m]\u001b[0m\u001b[0;34m,\u001b[0m\u001b[0;34m\u001b[0m\u001b[0;34m\u001b[0m\u001b[0m\n\u001b[0;32m---> 34\u001b[0;31m         \u001b[0mdots_mentioned\u001b[0m\u001b[0;34m=\u001b[0m\u001b[0mdots_mentioned\u001b[0m\u001b[0;34m\u001b[0m\u001b[0;34m\u001b[0m\u001b[0m\n\u001b[0m\u001b[1;32m     35\u001b[0m     )\n\u001b[1;32m     36\u001b[0m \u001b[0;31m#     out = writer.write(max_words=words_left)\u001b[0m\u001b[0;34m\u001b[0m\u001b[0;34m\u001b[0m\u001b[0;34m\u001b[0m\u001b[0m\n",
      "\u001b[0;32m~/projects/onecommon/aaai2020/experiments/agent.py\u001b[0m in \u001b[0;36mwrite\u001b[0;34m(self, max_words, force_words, start_token, dots_mentioned, temperature_override)\u001b[0m\n\u001b[1;32m    104\u001b[0m             \u001b[0mstart_token\u001b[0m\u001b[0;34m=\u001b[0m\u001b[0mstart_token\u001b[0m\u001b[0;34m,\u001b[0m\u001b[0;34m\u001b[0m\u001b[0;34m\u001b[0m\u001b[0m\n\u001b[1;32m    105\u001b[0m             \u001b[0mforce_words\u001b[0m\u001b[0;34m=\u001b[0m\u001b[0mforce_words\u001b[0m\u001b[0;34m,\u001b[0m\u001b[0;34m\u001b[0m\u001b[0;34m\u001b[0m\u001b[0m\n\u001b[0;32m--> 106\u001b[0;31m             \u001b[0mdots_mentioned\u001b[0m\u001b[0;34m=\u001b[0m\u001b[0mdots_mentioned\u001b[0m\u001b[0;34m\u001b[0m\u001b[0;34m\u001b[0m\u001b[0m\n\u001b[0m\u001b[1;32m    107\u001b[0m         )\n\u001b[1;32m    108\u001b[0m         \u001b[0mself\u001b[0m\u001b[0;34m.\u001b[0m\u001b[0mlogprobs\u001b[0m\u001b[0;34m.\u001b[0m\u001b[0mextend\u001b[0m\u001b[0;34m(\u001b[0m\u001b[0mlogprobs\u001b[0m\u001b[0;34m)\u001b[0m\u001b[0;34m\u001b[0m\u001b[0;34m\u001b[0m\u001b[0m\n",
      "\u001b[0;32m~/projects/onecommon/aaai2020/experiments/models/rnn_reference_model.py\u001b[0m in \u001b[0;36mwrite\u001b[0;34m(self, ctx_differences, ctx_h, lang_h, max_words, temperature, start_token, stop_tokens, force_words, dots_mentioned, generation_beliefs)\u001b[0m\n\u001b[1;32m    874\u001b[0m                 ctx_attn_prob = self._language_conditioned_dot_attention(\n\u001b[1;32m    875\u001b[0m                     \u001b[0mctx_differences\u001b[0m\u001b[0;34m,\u001b[0m \u001b[0mctx_h\u001b[0m\u001b[0;34m,\u001b[0m \u001b[0mlang_h\u001b[0m\u001b[0;34m.\u001b[0m\u001b[0munsqueeze\u001b[0m\u001b[0;34m(\u001b[0m\u001b[0;36m0\u001b[0m\u001b[0;34m)\u001b[0m\u001b[0;34m,\u001b[0m \u001b[0muse_feed_attn\u001b[0m\u001b[0;34m=\u001b[0m\u001b[0;32mFalse\u001b[0m\u001b[0;34m,\u001b[0m \u001b[0mdots_mentioned\u001b[0m\u001b[0;34m=\u001b[0m\u001b[0mdots_mentioned\u001b[0m\u001b[0;34m,\u001b[0m\u001b[0;34m\u001b[0m\u001b[0;34m\u001b[0m\u001b[0m\n\u001b[0;32m--> 876\u001b[0;31m                     \u001b[0mgeneration_beliefs\u001b[0m\u001b[0;34m=\u001b[0m\u001b[0mgeneration_beliefs\u001b[0m\u001b[0;34m\u001b[0m\u001b[0;34m\u001b[0m\u001b[0m\n\u001b[0m\u001b[1;32m    877\u001b[0m                 )\n\u001b[1;32m    878\u001b[0m                 \u001b[0;31m# remove the time dimension\u001b[0m\u001b[0;34m\u001b[0m\u001b[0;34m\u001b[0m\u001b[0;34m\u001b[0m\u001b[0m\n",
      "\u001b[0;32m~/projects/onecommon/aaai2020/experiments/models/rnn_reference_model.py\u001b[0m in \u001b[0;36m_language_conditioned_dot_attention\u001b[0;34m(self, ctx_differences, ctx_h, lang_hs, use_feed_attn, dots_mentioned, generation_beliefs)\u001b[0m\n\u001b[1;32m    612\u001b[0m         \u001b[0;32mif\u001b[0m \u001b[0mvars\u001b[0m\u001b[0;34m(\u001b[0m\u001b[0mself\u001b[0m\u001b[0;34m.\u001b[0m\u001b[0margs\u001b[0m\u001b[0;34m)\u001b[0m\u001b[0;34m.\u001b[0m\u001b[0mget\u001b[0m\u001b[0;34m(\u001b[0m\u001b[0;34m'mark_dots_mentioned'\u001b[0m\u001b[0;34m,\u001b[0m \u001b[0;32mFalse\u001b[0m\u001b[0;34m)\u001b[0m\u001b[0;34m:\u001b[0m\u001b[0;34m\u001b[0m\u001b[0;34m\u001b[0m\u001b[0m\n\u001b[1;32m    613\u001b[0m             \u001b[0;31m# TODO: consider tiling this indicator feature across more dimensions\u001b[0m\u001b[0;34m\u001b[0m\u001b[0;34m\u001b[0m\u001b[0;34m\u001b[0m\u001b[0m\n\u001b[0;32m--> 614\u001b[0;31m             \u001b[0;32massert\u001b[0m \u001b[0mdots_mentioned\u001b[0m \u001b[0;32mis\u001b[0m \u001b[0;32mnot\u001b[0m \u001b[0;32mNone\u001b[0m\u001b[0;34m\u001b[0m\u001b[0;34m\u001b[0m\u001b[0m\n\u001b[0m\u001b[1;32m    615\u001b[0m             \u001b[0mctx_h_marked\u001b[0m \u001b[0;34m=\u001b[0m \u001b[0mtorch\u001b[0m\u001b[0;34m.\u001b[0m\u001b[0mcat\u001b[0m\u001b[0;34m(\u001b[0m\u001b[0;34m(\u001b[0m\u001b[0mctx_h\u001b[0m\u001b[0;34m,\u001b[0m \u001b[0mdots_mentioned\u001b[0m\u001b[0;34m.\u001b[0m\u001b[0mfloat\u001b[0m\u001b[0;34m(\u001b[0m\u001b[0;34m)\u001b[0m\u001b[0;34m.\u001b[0m\u001b[0munsqueeze\u001b[0m\u001b[0;34m(\u001b[0m\u001b[0;34m-\u001b[0m\u001b[0;36m1\u001b[0m\u001b[0;34m)\u001b[0m\u001b[0;34m)\u001b[0m\u001b[0;34m,\u001b[0m \u001b[0;34m-\u001b[0m\u001b[0;36m1\u001b[0m\u001b[0;34m)\u001b[0m\u001b[0;34m\u001b[0m\u001b[0;34m\u001b[0m\u001b[0m\n\u001b[1;32m    616\u001b[0m         \u001b[0;32melse\u001b[0m\u001b[0;34m:\u001b[0m\u001b[0;34m\u001b[0m\u001b[0;34m\u001b[0m\u001b[0m\n",
      "\u001b[0;31mAssertionError\u001b[0m: "
     ]
    },
    {
     "name": "stdout",
     "output_type": "stream",
     "text": [
      "> \u001b[0;32m/home/dfried/projects/onecommon/aaai2020/experiments/models/rnn_reference_model.py\u001b[0m(614)\u001b[0;36m_language_conditioned_dot_attention\u001b[0;34m()\u001b[0m\n",
      "\u001b[0;32m    612 \u001b[0;31m        \u001b[0;32mif\u001b[0m \u001b[0mvars\u001b[0m\u001b[0;34m(\u001b[0m\u001b[0mself\u001b[0m\u001b[0;34m.\u001b[0m\u001b[0margs\u001b[0m\u001b[0;34m)\u001b[0m\u001b[0;34m.\u001b[0m\u001b[0mget\u001b[0m\u001b[0;34m(\u001b[0m\u001b[0;34m'mark_dots_mentioned'\u001b[0m\u001b[0;34m,\u001b[0m \u001b[0;32mFalse\u001b[0m\u001b[0;34m)\u001b[0m\u001b[0;34m:\u001b[0m\u001b[0;34m\u001b[0m\u001b[0;34m\u001b[0m\u001b[0m\n",
      "\u001b[0m\u001b[0;32m    613 \u001b[0;31m            \u001b[0;31m# TODO: consider tiling this indicator feature across more dimensions\u001b[0m\u001b[0;34m\u001b[0m\u001b[0;34m\u001b[0m\u001b[0;34m\u001b[0m\u001b[0m\n",
      "\u001b[0m\u001b[0;32m--> 614 \u001b[0;31m            \u001b[0;32massert\u001b[0m \u001b[0mdots_mentioned\u001b[0m \u001b[0;32mis\u001b[0m \u001b[0;32mnot\u001b[0m \u001b[0;32mNone\u001b[0m\u001b[0;34m\u001b[0m\u001b[0;34m\u001b[0m\u001b[0m\n",
      "\u001b[0m\u001b[0;32m    615 \u001b[0;31m            \u001b[0mctx_h_marked\u001b[0m \u001b[0;34m=\u001b[0m \u001b[0mtorch\u001b[0m\u001b[0;34m.\u001b[0m\u001b[0mcat\u001b[0m\u001b[0;34m(\u001b[0m\u001b[0;34m(\u001b[0m\u001b[0mctx_h\u001b[0m\u001b[0;34m,\u001b[0m \u001b[0mdots_mentioned\u001b[0m\u001b[0;34m.\u001b[0m\u001b[0mfloat\u001b[0m\u001b[0;34m(\u001b[0m\u001b[0;34m)\u001b[0m\u001b[0;34m.\u001b[0m\u001b[0munsqueeze\u001b[0m\u001b[0;34m(\u001b[0m\u001b[0;34m-\u001b[0m\u001b[0;36m1\u001b[0m\u001b[0;34m)\u001b[0m\u001b[0;34m)\u001b[0m\u001b[0;34m,\u001b[0m \u001b[0;34m-\u001b[0m\u001b[0;36m1\u001b[0m\u001b[0;34m)\u001b[0m\u001b[0;34m\u001b[0m\u001b[0;34m\u001b[0m\u001b[0m\n",
      "\u001b[0m\u001b[0;32m    616 \u001b[0;31m        \u001b[0;32melse\u001b[0m\u001b[0;34m:\u001b[0m\u001b[0;34m\u001b[0m\u001b[0;34m\u001b[0m\u001b[0m\n",
      "\u001b[0m\n",
      "ipdb> q\n"
     ]
    }
   ],
   "source": [
    "# training emulation\n",
    "scenario = train_scenarios[scenario_id]\n",
    "agent = alice\n",
    "agent.feed_context(ctx.flatten())\n",
    "agent.real_ids = real_ids\n",
    "agent.agent_id = agents[0]\n",
    "    \n",
    "samples = 10\n",
    "    \n",
    "writer = alice\n",
    "conv = []\n",
    "speaker = []\n",
    "words_left = 5000\n",
    "\n",
    "sentence_ix = 0\n",
    "\n",
    "assert len(inpts) == len(tgts)\n",
    "    \n",
    "while sentence_ix < len(inpts):\n",
    "    words_og = [corpus.word_dict.idx2word[ix] for ix in inpts[sentence_ix].flatten().numpy()]\n",
    "#     for _ in range(samples):\n",
    "#         pred_outs, _, _, _, extra = writer.model.write(writer.ctx_h, writer.lang_h, words_left, writer.args.temperature)\n",
    "#         print('{}\\t{}'.format(writer.agent_id, ' '.join(writer._decode(outs.narrow(0,1,outs.size(0)-1), writer.model.word_dict))))\n",
    "    print(' '.join(words_og))\n",
    "    if ref_inpts[sentence_ix] is not None:\n",
    "        dots_mentioned = (ref_tgts[sentence_ix].sum(dim=1) > 0)\n",
    "        display_attn(scenario, dots_mentioned.float(), writer.agent_id, name='dots_mentioned')\n",
    "    else:\n",
    "        dots_mentioned = None\n",
    "    out = writer.write(\n",
    "        max_words=words_left,\n",
    "        force_words=[words_og],\n",
    "        start_token=words_og[0],\n",
    "        dots_mentioned=dots_mentioned\n",
    "    )\n",
    "#     out = writer.write(max_words=words_left)\n",
    "    \n",
    "    if writer.extras[-1]['feed_ctx_attn_prob'] is not None:\n",
    "        display_attn(scenario, writer.extras[-1]['feed_ctx_attn_prob'], writer.agent_id, name='feed attention')\n",
    "    \n",
    "    if 'word_ctx_attn_prob_mean' in writer.extras[-1]:\n",
    "        display_attn(scenario, writer.extras[-1]['word_ctx_attn_prob_mean'], writer.agent_id, name='word attention mean')\n",
    "        \n",
    "    for ix, ix_attn in enumerate(writer.extras[-1]['word_ctx_attn_probs']):\n",
    "        display_attn(scenario, ix_attn, writer.agent_id, name='t {}: {}'.format(ix, out[ix]))\n",
    "        \n",
    "    print('{}\\t{}'.format(writer.agent_id, ' '.join(out)))\n",
    "    print()\n",
    "    words_left -= len(out)\n",
    "    conv.append(out)\n",
    "    speaker.append(writer.agent_id)\n",
    "#     reader.read(out)\n",
    "    if is_selection(out) or words_left <= 1:\n",
    "        break\n",
    "#     writer, reader = reader, writer\n",
    "    sentence_ix += 1"
   ]
  },
  {
   "cell_type": "code",
   "execution_count": 52,
   "metadata": {},
   "outputs": [],
   "source": [
    "import json\n",
    "from utils import ContextGenerator"
   ]
  },
  {
   "cell_type": "code",
   "execution_count": 53,
   "metadata": {},
   "outputs": [],
   "source": [
    "ctx_gen = ContextGenerator('data/onecommon/shared_4.txt')"
   ]
  },
  {
   "cell_type": "code",
   "execution_count": 54,
   "metadata": {},
   "outputs": [],
   "source": [
    "with open('data/onecommon/shared_4.json', \"r\") as f:\n",
    "    scenario_list = json.load(f)\n",
    "selfplay_scenarios = {scenario['uuid']: scenario for scenario in scenario_list}"
   ]
  },
  {
   "cell_type": "code",
   "execution_count": 55,
   "metadata": {},
   "outputs": [
    {
     "name": "stdout",
     "output_type": "stream",
     "text": [
      "S_ZsxpAYY2FtpXzUHJ\n"
     ]
    }
   ],
   "source": [
    "scenario = None\n",
    "for ix, ([scenario_id], (ctx1, ctx2), (ids1, ids2)) in enumerate(ctx_gen.iter()):\n",
    "#     if scenario_id == 'S_11J8n40u4HRVduwi':\n",
    "#         print('found it')\n",
    "#         scenario = scenarios[scenario_id]\n",
    "#         break\n",
    "    if ix == 2:\n",
    "        scenario = selfplay_scenarios[scenario_id]\n",
    "        print(scenario_id)\n",
    "        break"
   ]
  },
  {
   "cell_type": "code",
   "execution_count": null,
   "metadata": {
    "scrolled": false
   },
   "outputs": [],
   "source": [
    "# selfplay emulation\n",
    "scenario = selfplay_scenarios[scenario_id]\n",
    "for agent, agent_id, ctx, real_ids in zip([alice, bob], [0, 1], [ctx1, ctx2], [ids1, ids2]):\n",
    "    agent.feed_context(ctx)\n",
    "    agent.real_ids = real_ids\n",
    "    agent.agent_id = agent_id\n",
    "    \n",
    "dot_mention_samples = 1\n",
    "utt_samples = 10\n",
    "    \n",
    "writer, reader = [alice, bob]\n",
    "conv = []\n",
    "speaker = []\n",
    "words_left = 5000\n",
    "\n",
    "num_dots_to_mention = 2\n",
    "\n",
    "temperature_override = 0.005\n",
    "\n",
    "def make_dots_mentioned():\n",
    "#     # fixed\n",
    "#     return torch.BoolTensor([[1,0,0,0,0,0,0]])\n",
    "\n",
    "    # random \n",
    "    mentioned = torch.zeros(1,7).bool()\n",
    "    for _ in range(num_dots_to_mention):\n",
    "        ix = torch.randint(7, (1,))\n",
    "        mentioned[:,ix] = 1\n",
    "    return mentioned\n",
    "\n",
    "display_context = True\n",
    "\n",
    "while True:\n",
    "    for dm in range(dot_mention_samples):\n",
    "        dots_mentioned = make_dots_mentioned()\n",
    "        if display_context:\n",
    "            display_attn(scenario, dots_mentioned.float(), writer.agent_id, name='dots_mentioned')\n",
    "        for us in range(utt_samples):\n",
    "            outs, _, _, _, extra = writer.model.write(writer.ctx_differences, writer.ctx_h, writer.lang_h, words_left, temperature_override, dots_mentioned=dots_mentioned)\n",
    "            print('{}\\t{}'.format(writer.agent_id, ' '.join(writer._decode(outs.narrow(0,1,outs.size(0)-1), writer.model.word_dict))))\n",
    "        print()\n",
    "        \n",
    "    dots_mentioned = make_dots_mentioned()\n",
    "    if display_context:\n",
    "        display_attn(scenario, dots_mentioned.float(), writer.agent_id, name='dots_mentioned')\n",
    "    out = writer.write(max_words=words_left, dots_mentioned=dots_mentioned, temperature_override=temperature_override)\n",
    "    print('{}\\t{}'.format(writer.agent_id, ' '.join(out)))\n",
    "    print()\n",
    "    \n",
    "    if display_context and writer.extras[-1].get('feed_ctx_attn_prob', None) is not None:\n",
    "        display_attn(scenario, writer.extras[-1]['feed_ctx_attn_prob'], writer.agent_id, name='feed attention')\n",
    "    \n",
    "    if display_context and writer.extras[-1].get('word_ctx_attn_prob_mean', None) is not None:\n",
    "        display_attn(scenario, writer.extras[-1]['word_ctx_attn_prob_mean'], writer.agent_id, name='word attention mean')\n",
    "        \n",
    "#     for ix, ix_attn in enumerate(writer.extras[-1]['dot_attention2s']):\n",
    "#         display_attn(scenario, ix_attn, writer.agent_id, name='t {}: {}'.format(ix, out[ix]))\n",
    "    print('{}\\t{}'.format(writer.agent_id, ' '.join(out)))\n",
    "    print('-'*60)\n",
    "        \n",
    "    words_left -= len(out)\n",
    "    conv.append(out)\n",
    "    speaker.append(writer.agent_id)\n",
    "    reader.read(out, dots_mentioned=dots_mentioned)\n",
    "    if is_selection(out) or words_left <= 1:\n",
    "        break\n",
    "    writer, reader = reader, writer"
   ]
  }
 ],
 "metadata": {
  "kernelspec": {
   "display_name": "Python 3",
   "language": "python",
   "name": "python3"
  },
  "language_info": {
   "codemirror_mode": {
    "name": "ipython",
    "version": 3
   },
   "file_extension": ".py",
   "mimetype": "text/x-python",
   "name": "python",
   "nbconvert_exporter": "python",
   "pygments_lexer": "ipython3",
   "version": "3.6.10"
  }
 },
 "nbformat": 4,
 "nbformat_minor": 2
}
