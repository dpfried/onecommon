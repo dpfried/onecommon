{
 "cells": [
  {
   "cell_type": "code",
   "execution_count": 1,
   "metadata": {},
   "outputs": [
    {
     "name": "stdout",
     "output_type": "stream",
     "text": [
      "/home/dfried/projects/onecommon/aaai2020/experiments\n"
     ]
    }
   ],
   "source": [
    "cd '/home/dfried/projects/onecommon/aaai2020/experiments'"
   ]
  },
  {
   "cell_type": "code",
   "execution_count": 2,
   "metadata": {},
   "outputs": [],
   "source": [
    "import models\n",
    "import data\n",
    "import utils\n",
    "from domain import get_domain"
   ]
  },
  {
   "cell_type": "code",
   "execution_count": 3,
   "metadata": {},
   "outputs": [],
   "source": [
    "domain = get_domain('one_common')\n",
    "unk_threshold = 10\n",
    "model_ty = models.get_model_type('rnn_reference_model')\n",
    "\n",
    "ctx_encoder_type = 'rel_attn_encoder'\n",
    "model_fname = 'rel_tsel_ref_dial_model/default_0_ep-4.th'\n",
    "# model is actually in \"serialized_models/{model_fname}\""
   ]
  },
  {
   "cell_type": "code",
   "execution_count": 4,
   "metadata": {},
   "outputs": [
    {
     "name": "stdout",
     "output_type": "stream",
     "text": [
      "dataset data/onecommon/train_reference_0.txt, total 544674, unks 4134, ratio 0.76%\n",
      "dataset data/onecommon/valid_reference_0.txt, total 70004, unks 720, ratio 1.03%\n",
      "dataset data/onecommon/test_reference_0.txt, total 67008, unks 576, ratio 0.86%\n"
     ]
    }
   ],
   "source": [
    "seed = 0\n",
    "corpus = model_ty.corpus_ty(domain, 'data/onecommon',\n",
    "                            train='train_reference_{}.txt'.format(seed),\n",
    "                            valid='valid_reference_{}.txt'.format(seed),\n",
    "                            test='test_reference_{}.txt'.format(seed),\n",
    "                            freq_cutoff=unk_threshold, verbose=True)"
   ]
  },
  {
   "cell_type": "code",
   "execution_count": 5,
   "metadata": {},
   "outputs": [
    {
     "data": {
      "text/plain": [
       "<data.ReferenceCorpus at 0x7f3e182620b8>"
      ]
     },
     "execution_count": 5,
     "metadata": {},
     "output_type": "execute_result"
    }
   ],
   "source": [
    "corpus"
   ]
  },
  {
   "cell_type": "code",
   "execution_count": 6,
   "metadata": {},
   "outputs": [],
   "source": [
    "model = utils.load_model(model_fname, map_location='cpu')"
   ]
  },
  {
   "cell_type": "code",
   "execution_count": 7,
   "metadata": {},
   "outputs": [],
   "source": [
    "batchsize=10\n",
    "validset, validset_stats = corpus.valid_dataset(batchsize)"
   ]
  },
  {
   "cell_type": "code",
   "execution_count": 8,
   "metadata": {},
   "outputs": [
    {
     "data": {
      "text/plain": [
       "{'n': 110141, 'nonpadn': 70004}"
      ]
     },
     "execution_count": 8,
     "metadata": {},
     "output_type": "execute_result"
    }
   ],
   "source": [
    "validset_stats"
   ]
  },
  {
   "cell_type": "code",
   "execution_count": 9,
   "metadata": {},
   "outputs": [
    {
     "name": "stdout",
     "output_type": "stream",
     "text": [
      "1 1038 {'n': 70004, 'nonpadn': 70004}\n",
      "2 525 {'n': 81884, 'nonpadn': 70004}\n",
      "5 217 {'n': 97798, 'nonpadn': 70004}\n",
      "10 116 {'n': 109484, 'nonpadn': 70004}\n"
     ]
    }
   ],
   "source": [
    "for bsz in [1, 2, 5, 10]:\n",
    "    dset, dset_stats = corpus.valid_dataset(bsz)\n",
    "    print(bsz, len(dset), dset_stats)"
   ]
  },
  {
   "cell_type": "code",
   "execution_count": null,
   "metadata": {},
   "outputs": [],
   "source": [
    "# ctx: this player's dots\n",
    "# inpt / tgt: dialogue word indices (tgt are shifted by 1)\n",
    "# ref_inpt"
   ]
  },
  {
   "cell_type": "code",
   "execution_count": 104,
   "metadata": {},
   "outputs": [
    {
     "name": "stdout",
     "output_type": "stream",
     "text": [
      "found it\n"
     ]
    }
   ],
   "source": [
    "for (input_vals, word_idxs, referent_idxs, output_idx, scenario_id, real_ids, agent, chat_id) in corpus.train:\n",
    "    if 'C_d0de3d0144df405e998ae718539ff9a4' == chat_id:\n",
    "        print('found it')\n",
    "        break"
   ]
  },
  {
   "cell_type": "code",
   "execution_count": 107,
   "metadata": {},
   "outputs": [],
   "source": [
    "import torch"
   ]
  },
  {
   "cell_type": "code",
   "execution_count": 109,
   "metadata": {},
   "outputs": [
    {
     "name": "stderr",
     "output_type": "stream",
     "text": [
      "/home/dfried/anaconda2/envs/onecommon/lib/python3.6/site-packages/torch/tensor.py:287: UserWarning: non-inplace resize is deprecated\n",
      "  warnings.warn(\"non-inplace resize is deprecated\")\n"
     ]
    },
    {
     "data": {
      "text/plain": [
       "tensor([[ 3,  6, 15,  0,  1,  0,  0,  0,  0,  0],\n",
       "        [ 8, 12, 15,  1,  0,  0,  0,  0,  0,  0],\n",
       "        [14, 14, 15,  0,  1,  0,  0,  0,  0,  0],\n",
       "        [45, 47, 64,  0,  0,  0,  1,  0,  0,  0],\n",
       "        [61, 62, 64,  0,  1,  0,  0,  0,  0,  0]])"
      ]
     },
     "execution_count": 109,
     "metadata": {},
     "output_type": "execute_result"
    }
   ],
   "source": [
    "torch.LongTensor(referent_idxs).resize(5, 10)"
   ]
  },
  {
   "cell_type": "code",
   "execution_count": 90,
   "metadata": {},
   "outputs": [],
   "source": [
    "trainset, trainse_stats = corpus.train_dataset(1)"
   ]
  },
  {
   "cell_type": "code",
   "execution_count": 93,
   "metadata": {},
   "outputs": [
    {
     "name": "stdout",
     "output_type": "stream",
     "text": [
      "found it\n"
     ]
    }
   ],
   "source": [
    "for ix in range(len(trainset)):\n",
    "    ctx, inpt, tgt, ref_inpt, ref_tgt, sel_tgt, \\\n",
    "    scenario_ids, real_ids, agents, chat_ids, sel_idxs = trainset[ix]\n",
    "    if 'C_d0de3d0144df405e998ae718539ff9a4' in chat_ids:\n",
    "        print(\"found it\")\n",
    "        break"
   ]
  },
  {
   "cell_type": "code",
   "execution_count": 94,
   "metadata": {},
   "outputs": [
    {
     "data": {
      "text/plain": [
       "['C_d0de3d0144df405e998ae718539ff9a4']"
      ]
     },
     "execution_count": 94,
     "metadata": {},
     "output_type": "execute_result"
    }
   ],
   "source": [
    "chat_ids"
   ]
  },
  {
   "cell_type": "code",
   "execution_count": 95,
   "metadata": {},
   "outputs": [
    {
     "data": {
      "text/plain": [
       "torch.Size([82, 1])"
      ]
     },
     "execution_count": 95,
     "metadata": {},
     "output_type": "execute_result"
    }
   ],
   "source": [
    "inpt.size()"
   ]
  },
  {
   "cell_type": "code",
   "execution_count": 96,
   "metadata": {},
   "outputs": [
    {
     "data": {
      "text/plain": [
       "torch.Size([1, 5, 3])"
      ]
     },
     "execution_count": 96,
     "metadata": {},
     "output_type": "execute_result"
    }
   ],
   "source": [
    "ref_inpt.size()"
   ]
  },
  {
   "cell_type": "code",
   "execution_count": 97,
   "metadata": {},
   "outputs": [
    {
     "data": {
      "text/plain": [
       "tensor([[ 3,  6, 15],\n",
       "        [ 8, 12, 15],\n",
       "        [14, 14, 15],\n",
       "        [45, 47, 64],\n",
       "        [61, 62, 64]])"
      ]
     },
     "execution_count": 97,
     "metadata": {},
     "output_type": "execute_result"
    }
   ],
   "source": [
    "ref_inpt[0]"
   ]
  },
  {
   "cell_type": "code",
   "execution_count": 98,
   "metadata": {},
   "outputs": [
    {
     "data": {
      "text/plain": [
       "['C_d0de3d0144df405e998ae718539ff9a4']"
      ]
     },
     "execution_count": 98,
     "metadata": {},
     "output_type": "execute_result"
    }
   ],
   "source": [
    "chat_ids"
   ]
  },
  {
   "cell_type": "code",
   "execution_count": 99,
   "metadata": {
    "scrolled": true
   },
   "outputs": [
    {
     "data": {
      "text/plain": [
       "'YOU: i see a dark grey dot with a slightly smaller darker dot below it <eos> THEM: i think i have that too . above the larger one and to its left i have a much smaller medium gray dot <eos> YOU: yes i have the smaller grey to the upper left as well . which do we click on ? the middle ? <eos> THEM: lets click on the large one you mentioned first . <eos> YOU: ok good luck <selection>'"
      ]
     },
     "execution_count": 99,
     "metadata": {},
     "output_type": "execute_result"
    }
   ],
   "source": [
    "' '.join(corpus.word_dict.get_word(idx) for idx in inpt[:,0])"
   ]
  },
  {
   "cell_type": "code",
   "execution_count": 100,
   "metadata": {},
   "outputs": [
    {
     "data": {
      "text/plain": [
       "tensor([[[0, 1, 0, 0, 0, 0, 0],\n",
       "         [1, 0, 0, 0, 0, 0, 0],\n",
       "         [0, 1, 0, 0, 0, 0, 0],\n",
       "         [0, 0, 0, 1, 0, 0, 0],\n",
       "         [0, 1, 0, 0, 0, 0, 0]]])"
      ]
     },
     "execution_count": 100,
     "metadata": {},
     "output_type": "execute_result"
    }
   ],
   "source": [
    "ref_tgt"
   ]
  },
  {
   "cell_type": "code",
   "execution_count": 113,
   "metadata": {},
   "outputs": [
    {
     "name": "stdout",
     "output_type": "stream",
     "text": [
      "tensor([ 3,  6, 15])\n",
      "a dark grey dot\n",
      "tensor([ 8, 12, 15])\n",
      "a slightly smaller darker dot\n",
      "tensor([14, 14, 15])\n",
      "it\n",
      "tensor([45, 47, 64])\n",
      "the smaller grey\n",
      "tensor([61, 62, 64])\n",
      "the middle\n"
     ]
    }
   ],
   "source": [
    "ix = 0\n",
    "for ref_ix in range(ref_inpt.size(1)):\n",
    "    print(ref_inpt[ix,ref_ix])\n",
    "    print(' '.join(corpus.word_dict.get_word(idx) for idx in  inpt[:,ix][ref_inpt[ix,ref_ix,0]:ref_inpt[ix,ref_ix,1]+1]))"
   ]
  },
  {
   "cell_type": "code",
   "execution_count": 55,
   "metadata": {
    "scrolled": true
   },
   "outputs": [
    {
     "data": {
      "text/plain": [
       "tensor([[[ 3,  4, 28],\n",
       "         [16, 18, 28],\n",
       "         [25, 27, 28],\n",
       "         [42, 44, 45]],\n",
       "\n",
       "        [[ 1,  2, 12],\n",
       "         [51, 51, 60],\n",
       "         [55, 59, 60],\n",
       "         [91, 93, 94]],\n",
       "\n",
       "        [[ 4,  7, 15],\n",
       "         [11, 13, 15],\n",
       "         [56, 59, 72],\n",
       "         [64, 67, 72]],\n",
       "\n",
       "        [[ 1,  2, 10],\n",
       "         [ 4,  5, 10],\n",
       "         [24, 26, 41],\n",
       "         [38, 40, 41]],\n",
       "\n",
       "        [[24, 28, 40],\n",
       "         [30, 32, 40],\n",
       "         [37, 38, 40],\n",
       "         [63, 65, 75]],\n",
       "\n",
       "        [[31, 35, 41],\n",
       "         [65, 69, 74],\n",
       "         [72, 72, 74],\n",
       "         [89, 89, 90]],\n",
       "\n",
       "        [[ 1,  4, 15],\n",
       "         [ 6,  8, 15],\n",
       "         [13, 13, 15],\n",
       "         [38, 40, 41]],\n",
       "\n",
       "        [[13, 15, 27],\n",
       "         [18, 20, 27],\n",
       "         [22, 25, 27],\n",
       "         [44, 45, 46]],\n",
       "\n",
       "        [[ 3,  9, 10],\n",
       "         [31, 31, 43],\n",
       "         [37, 39, 43],\n",
       "         [67, 71, 72]],\n",
       "\n",
       "        [[13, 13, 25],\n",
       "         [15, 17, 25],\n",
       "         [19, 19, 25],\n",
       "         [58, 62, 64]]])"
      ]
     },
     "execution_count": 55,
     "metadata": {},
     "output_type": "execute_result"
    }
   ],
   "source": [
    "ref_inpt"
   ]
  },
  {
   "cell_type": "code",
   "execution_count": 54,
   "metadata": {},
   "outputs": [
    {
     "data": {
      "text/plain": [
       "tensor([[[0, 0, 0, 1, 0, 1, 0],\n",
       "         [0, 0, 0, 0, 0, 1, 0],\n",
       "         [0, 0, 0, 1, 0, 0, 0],\n",
       "         [0, 0, 0, 0, 0, 1, 0]],\n",
       "\n",
       "        [[0, 1, 1, 1, 0, 0, 0],\n",
       "         [0, 0, 0, 0, 0, 0, 0],\n",
       "         [0, 0, 0, 0, 1, 0, 0],\n",
       "         [1, 0, 0, 0, 0, 0, 0]],\n",
       "\n",
       "        [[1, 0, 0, 0, 0, 0, 0],\n",
       "         [0, 0, 0, 0, 1, 0, 0],\n",
       "         [1, 0, 0, 0, 0, 0, 0],\n",
       "         [0, 0, 0, 0, 1, 0, 0]],\n",
       "\n",
       "        [[0, 0, 0, 1, 0, 0, 0],\n",
       "         [0, 0, 1, 0, 0, 0, 0],\n",
       "         [0, 1, 0, 0, 0, 0, 0],\n",
       "         [0, 1, 0, 0, 0, 0, 0]],\n",
       "\n",
       "        [[0, 0, 0, 0, 0, 0, 1],\n",
       "         [0, 0, 0, 1, 0, 0, 0],\n",
       "         [0, 0, 0, 0, 0, 0, 1],\n",
       "         [0, 0, 0, 1, 0, 0, 1]],\n",
       "\n",
       "        [[1, 0, 0, 0, 0, 1, 0],\n",
       "         [0, 1, 0, 0, 0, 0, 0],\n",
       "         [0, 1, 0, 0, 0, 0, 0],\n",
       "         [0, 1, 0, 0, 0, 0, 0]],\n",
       "\n",
       "        [[0, 0, 0, 0, 0, 1, 0],\n",
       "         [0, 0, 0, 0, 1, 0, 0],\n",
       "         [0, 0, 0, 0, 0, 1, 0],\n",
       "         [0, 0, 0, 0, 1, 0, 0]],\n",
       "\n",
       "        [[1, 0, 1, 0, 0, 0, 1],\n",
       "         [0, 0, 1, 0, 0, 0, 0],\n",
       "         [1, 0, 0, 0, 0, 0, 1],\n",
       "         [0, 0, 1, 0, 0, 0, 0]],\n",
       "\n",
       "        [[0, 0, 1, 0, 1, 0, 0],\n",
       "         [0, 0, 1, 0, 1, 0, 0],\n",
       "         [0, 0, 1, 0, 0, 0, 0],\n",
       "         [0, 0, 1, 0, 0, 0, 0]],\n",
       "\n",
       "        [[0, 0, 0, 1, 0, 0, 0],\n",
       "         [0, 1, 1, 0, 1, 0, 0],\n",
       "         [0, 0, 0, 1, 0, 0, 0],\n",
       "         [1, 0, 0, 0, 0, 0, 0]]])"
      ]
     },
     "execution_count": 54,
     "metadata": {},
     "output_type": "execute_result"
    }
   ],
   "source": [
    "ref_tgt"
   ]
  }
 ],
 "metadata": {
  "kernelspec": {
   "display_name": "Python 3",
   "language": "python",
   "name": "python3"
  },
  "language_info": {
   "codemirror_mode": {
    "name": "ipython",
    "version": 3
   },
   "file_extension": ".py",
   "mimetype": "text/x-python",
   "name": "python",
   "nbconvert_exporter": "python",
   "pygments_lexer": "ipython3",
   "version": "3.6.10"
  }
 },
 "nbformat": 4,
 "nbformat_minor": 2
}
