{
 "cells": [
  {
   "cell_type": "code",
   "execution_count": 1,
   "metadata": {},
   "outputs": [
    {
     "data": {
      "text/html": [
       "<style>.container { width:100% !important; }</style>"
      ],
      "text/plain": [
       "<IPython.core.display.HTML object>"
      ]
     },
     "metadata": {},
     "output_type": "display_data"
    }
   ],
   "source": [
    "from IPython.core.display import display, HTML\n",
    "display(HTML(\"<style>.container { width:100% !important; }</style>\"))"
   ]
  },
  {
   "cell_type": "code",
   "execution_count": 2,
   "metadata": {
    "scrolled": true
   },
   "outputs": [
    {
     "name": "stdout",
     "output_type": "stream",
     "text": [
      "/home/dfried/projects/onecommon/aaai2020/experiments\n"
     ]
    }
   ],
   "source": [
    "cd '/home/dfried/projects/onecommon/aaai2020/experiments'"
   ]
  },
  {
   "cell_type": "code",
   "execution_count": 3,
   "metadata": {},
   "outputs": [
    {
     "name": "stdout",
     "output_type": "stream",
     "text": [
      "freq cutoff: 0\n",
      "vocab size: 1857\n",
      "dataset data/onecommon/train_reference_1.txt, total 545056, unks 0, ratio 0.00%\n",
      "dataset data/onecommon/valid_reference_1.txt, total 69348, unks 202, ratio 0.29%\n",
      "dataset data/onecommon/test_reference_1.txt, total 67284, unks 210, ratio 0.31%\n",
      "hits: 0\n",
      "misses: 4500\n"
     ]
    },
    {
     "name": "stderr",
     "output_type": "stream",
     "text": [
      "100%|██████████████████████████████████████| 1038/1038 [00:02<00:00, 428.57it/s]\n",
      "100%|██████████████████████████████████████| 8304/8304 [00:22<00:00, 372.00it/s]\n",
      "/home/dfried/miniconda3/envs/onecommon/lib/python3.6/site-packages/torch/serialization.py:657: SourceChangeWarning: source code of class 'models.rnn_reference_model.HierarchicalRnnReferenceModel' has changed. you can retrieve the original source code by accessing the object's source attribute or set `torch.nn.Module.dump_patches = True` and use the patch tool to revert the changes.\n",
      "  warnings.warn(msg, SourceChangeWarning)\n",
      "/home/dfried/miniconda3/envs/onecommon/lib/python3.6/site-packages/torch/serialization.py:657: SourceChangeWarning: source code of class 'models.ctx_encoder.RelationalAttentionContextEncoder3' has changed. you can retrieve the original source code by accessing the object's source attribute or set `torch.nn.Module.dump_patches = True` and use the patch tool to revert the changes.\n",
      "  warnings.warn(msg, SourceChangeWarning)\n",
      "/home/dfried/miniconda3/envs/onecommon/lib/python3.6/site-packages/torch/serialization.py:657: SourceChangeWarning: source code of class 'models.attention_layers.AttentionLayer' has changed. you can retrieve the original source code by accessing the object's source attribute or set `torch.nn.Module.dump_patches = True` and use the patch tool to revert the changes.\n",
      "  warnings.warn(msg, SourceChangeWarning)\n",
      "/home/dfried/miniconda3/envs/onecommon/lib/python3.6/site-packages/torch/serialization.py:657: SourceChangeWarning: source code of class 'models.attention_layers.StructuredTemporalAttentionLayer' has changed. you can retrieve the original source code by accessing the object's source attribute or set `torch.nn.Module.dump_patches = True` and use the patch tool to revert the changes.\n",
      "  warnings.warn(msg, SourceChangeWarning)\n",
      "/home/dfried/miniconda3/envs/onecommon/lib/python3.6/site-packages/torch/serialization.py:657: SourceChangeWarning: source code of class 'models.attention_layers.StructuredAttentionLayer' has changed. you can retrieve the original source code by accessing the object's source attribute or set `torch.nn.Module.dump_patches = True` and use the patch tool to revert the changes.\n",
      "  warnings.warn(msg, SourceChangeWarning)\n"
     ]
    },
    {
     "name": "stdout",
     "output_type": "stream",
     "text": [
      "1: 2 / 1038 \t= 0.0019\n",
      "2: 68 / 1036 \t= 0.0656\n",
      "3: 260 / 968 \t= 0.2686\n",
      "4: 254 / 708 \t= 0.3588\n",
      "5: 214 / 454 \t= 0.4714\n",
      "6: 104 / 240 \t= 0.4333\n",
      "7: 78 / 136 \t= 0.5735\n",
      "8: 28 / 58 \t= 0.4828\n",
      "9: 20 / 30 \t= 0.6667\n",
      "10: 6 / 10 \t= 0.6000\n",
      "11: 4 / 4 \t= 1.0000\n",
      "avg dialogue length: 3.07 turns\n"
     ]
    },
    {
     "name": "stderr",
     "output_type": "stream",
     "text": [
      "/home/dfried/miniconda3/envs/onecommon/lib/python3.6/site-packages/torch/serialization.py:657: SourceChangeWarning: source code of class 'models.markable_detector.BiLSTM_CRF' has changed. you can retrieve the original source code by accessing the object's source attribute or set `torch.nn.Module.dump_patches = True` and use the patch tool to revert the changes.\n",
      "  warnings.warn(msg, SourceChangeWarning)\n"
     ]
    }
   ],
   "source": [
    "from notebooks.model_sandbox_rel3 import *"
   ]
  },
  {
   "cell_type": "code",
   "execution_count": 4,
   "metadata": {},
   "outputs": [],
   "source": [
    "base = 'expts/rel3_tsel_ref_dial_model_separate/directions'\n",
    "dot_recurrence = 'expts/rel3_tsel_ref_dial_model_separate/dot_recurrence'\n",
    "dot_recurrence_no_beliefs = 'expts/rel3_tsel_ref_dial_model_separate/dot_recurrence_no-beliefs'\n",
    "is_selection_old = 'expts/rel3_tsel_ref_dial_model_separate/is_selection_old'\n",
    "is_selection_dir = 'expts/rel3_tsel_ref_dial_model_separate/is_selection'\n",
    "\n",
    "# TODO: ep 5 -> ep 20 for with-selection\n",
    "model_fnames = {\n",
    "    'basic': f'{base}/base_512_learned-pooling_untied_bidirectional_hidden-mention-encoder/1_ep-30.th',\n",
    "    'encoder-filtered-shared': f'{base}/base_512_extremes_learned-pooling_untied_bidirectional_hidden-mention-encoder-filtered-shared/1_ep-30.th',\n",
    "    'encoder-filtered-separate': f'{base}/base_512_extremes_learned-pooling_untied_bidirectional_hidden-mention-encoder-filtered-separate/1_ep-30.th',\n",
    "    'encoder-filtered-separate-diffs': f'{base}/base_512_extremes_learned-pooling_untied_bidirectional_hidden-mention-encoder-filtered-separate-diffs/1_ep-30.th',\n",
    "#     'dot-recurrence': f'{dot_recurrence}/base_dr-self+partner-32-mention-selection/1_ep-20.th',\n",
    "    'dot-recurrence-no-beliefs': f'{dot_recurrence_no_beliefs}/base_mention-selection-ref-partner/1_ep-20.th',\n",
    "    'dot-recurrence-oracle-no-beliefs': f'{dot_recurrence_no_beliefs}/base_oracle_mention-selection-ref-partner/1_ep-20.th',\n",
    "#     'dot-recurrence-nm-multi': f'{dot_recurrence}/base_dr-self+partner-64-mention-selection_nmpt-multi-reference_loss-expanded/1_ep-20.th',\n",
    "    'dot-recurrence-nm-multi-no-beliefs': f'{dot_recurrence_no_beliefs}/base_mention-selection-ref-partner_nmpt-multi_loss-expanded/1_ep-20.th',\n",
    "    'dot-recurrence-nm-multi-split-count': f'{dot_recurrence_no_beliefs}/base_split_mention-selection-ref-partner_nmpt-multi_loss-expanded_rerun_hce-cf/1_ep-20.th',\n",
    "    'npm-no-lang_dri-wawm': f'{dot_recurrence_no_beliefs}/base_mention-selection-ref-partner_nmpt-multi_loss-expanded_npm-no-lang_dri-wawm/1_ep-20.th',\n",
    "#     'with-selection': f'{is_selection_old}/base_hcis_1-layer_dr-in_turn/1_ep-20.th'\n",
    "#     'with-selection': f'{is_selection_dir}/base_hcis_1-layer_dr-in_turn/1_ep-20.th',\n",
    "    'is_selection-turn': f'{is_selection_dir}/base_turn/1_ep-7.th',\n",
    "    'is_selection-turn-dr-in': f'{is_selection_dir}/base_turn/1_ep-4.th',\n",
    "    'selection-no-lang': f'{dot_recurrence_no_beliefs}/base_mention-selection-ref-partner_nmpt-multi_loss-expanded_sel-no-lang_dri-wawm/1_ep-20.th',\n",
    "}"
   ]
  },
  {
   "cell_type": "code",
   "execution_count": 5,
   "metadata": {},
   "outputs": [],
   "source": [
    "models = {\n",
    "    name: utils.load_model(model_fname, map_location='cpu', prefix_dir=None)\n",
    "    for name, model_fname in model_fnames.items()\n",
    "}"
   ]
  },
  {
   "cell_type": "code",
   "execution_count": 6,
   "metadata": {},
   "outputs": [],
   "source": [
    "# markable_detector = utils.load_model('serialized_models/markable_detector_with_dict_1.th', map_location='cpu', prefix_dir=None)\n",
    "# markable_detector.eval()\n",
    "# # TODO: this will no longer be necessary with markable_detector_with_dict\n",
    "# # markable_corpus = markable_detector.corpus_ty('one_common', 'data/onecommon',\n",
    "# #                                      train='train_markable_1.txt', valid='valid_markable_1.txt', test='test_markable_1.txt')\n",
    "# # markable_detector.word_dict = markable_corpus.word_dict"
   ]
  },
  {
   "cell_type": "code",
   "execution_count": 7,
   "metadata": {},
   "outputs": [
    {
     "data": {
      "text/plain": [
       "dict_keys(['basic', 'encoder-filtered-shared', 'encoder-filtered-separate', 'encoder-filtered-separate-diffs', 'dot-recurrence-no-beliefs', 'dot-recurrence-oracle-no-beliefs', 'dot-recurrence-nm-multi-no-beliefs', 'dot-recurrence-nm-multi-split-count', 'npm-no-lang_dri-wawm', 'is_selection-turn', 'is_selection-turn-dr-in', 'selection-no-lang'])"
      ]
     },
     "execution_count": 7,
     "metadata": {},
     "output_type": "execute_result"
    }
   ],
   "source": [
    "models.keys()"
   ]
  },
  {
   "cell_type": "code",
   "execution_count": 58,
   "metadata": {},
   "outputs": [],
   "source": [
    "# model = models['encoder-filtered-separate-diffs']\n",
    "# model = models['dot-recurrence']\n",
    "# model = models['dot-recurrence-no-beliefs']\n",
    "# model = models['dot-recurrence-nm-multi-no-beliefs']\n",
    "# model = models['dot-recurrence-nm-multi-split-count']\n",
    "# model = models['npm-no-lang_dri-wawm']\n",
    "# model = models['is_selection-turn']\n",
    "model = models['selection-no-lang']"
   ]
  },
  {
   "cell_type": "code",
   "execution_count": 9,
   "metadata": {},
   "outputs": [
    {
     "name": "stdout",
     "output_type": "stream",
     "text": [
      "Automatic pdb calling has been turned ON\n"
     ]
    }
   ],
   "source": [
    "pdb on"
   ]
  },
  {
   "cell_type": "code",
   "execution_count": 17,
   "metadata": {},
   "outputs": [
    {
     "data": {
      "text/plain": [
       "Parameter containing:\n",
       "tensor([-0.0002, -0.0048, -0.0020,  ...,  0.0066, -0.0119,  0.0080],\n",
       "       requires_grad=True)"
      ]
     },
     "execution_count": 17,
     "metadata": {},
     "output_type": "execute_result"
    }
   ],
   "source": [
    "model.selection_start_emb"
   ]
  },
  {
   "cell_type": "code",
   "execution_count": 60,
   "metadata": {},
   "outputs": [],
   "source": [
    "agent = RnnAgent(model, args)"
   ]
  },
  {
   "cell_type": "code",
   "execution_count": 61,
   "metadata": {},
   "outputs": [],
   "source": [
    "class BlankBeliefConstructor(object):\n",
    "    def make_beliefs(*args):\n",
    "        return None"
   ]
  },
  {
   "cell_type": "code",
   "execution_count": 62,
   "metadata": {},
   "outputs": [],
   "source": [
    "blank_belief_constructor = BlankBeliefConstructor()"
   ]
  },
  {
   "cell_type": "code",
   "execution_count": 63,
   "metadata": {},
   "outputs": [],
   "source": [
    "agent.feed_context(validset[0].ctx.flatten(), blank_belief_constructor)"
   ]
  },
  {
   "cell_type": "code",
   "execution_count": 64,
   "metadata": {
    "scrolled": true
   },
   "outputs": [
    {
     "data": {
      "text/plain": [
       "torch.Size([1, 7, 64])"
      ]
     },
     "execution_count": 64,
     "metadata": {},
     "output_type": "execute_result"
    }
   ],
   "source": [
    "selection_beliefs.size()"
   ]
  },
  {
   "cell_type": "code",
   "execution_count": 65,
   "metadata": {},
   "outputs": [
    {
     "data": {
      "text/plain": [
       "[]"
      ]
     },
     "execution_count": 65,
     "metadata": {},
     "output_type": "execute_result"
    }
   ],
   "source": [
    "agent.reader_lang_hs"
   ]
  },
  {
   "cell_type": "code",
   "execution_count": 66,
   "metadata": {},
   "outputs": [
    {
     "data": {
      "text/plain": [
       "(tensor([[-1.0070, -0.3764, -0.7703, -0.8361, -1.3085, -1.2540,  0.1295]],\n",
       "        grad_fn=<SqueezeBackward1>), None, None)"
      ]
     },
     "execution_count": 66,
     "metadata": {},
     "output_type": "execute_result"
    }
   ],
   "source": [
    "model.selection(agent.state, torch.randn((1, 1, 512*2)), torch.LongTensor([0]), beliefs=selection_beliefs)"
   ]
  },
  {
   "cell_type": "code",
   "execution_count": 69,
   "metadata": {},
   "outputs": [
    {
     "data": {
      "text/plain": [
       "tensor([[0.2676, 0.4070, 0.3164, 0.3024, 0.2127, 0.2220, 0.5323]],\n",
       "       grad_fn=<SigmoidBackward>)"
      ]
     },
     "execution_count": 69,
     "metadata": {},
     "output_type": "execute_result"
    }
   ],
   "source": [
    "model.selection(agent.state, torch.randn((1, 1, 512*2)), torch.LongTensor([0]), beliefs=selection_beliefs)[0].sigmoid()"
   ]
  },
  {
   "cell_type": "code",
   "execution_count": 67,
   "metadata": {},
   "outputs": [
    {
     "data": {
      "text/plain": [
       "(tensor([[-1.0070, -0.3764, -0.7703, -0.8361, -1.3085, -1.2540,  0.1295]],\n",
       "        grad_fn=<SqueezeBackward1>), None, None)"
      ]
     },
     "execution_count": 67,
     "metadata": {},
     "output_type": "execute_result"
    }
   ],
   "source": [
    "model.selection(agent.state, torch.randn((1, 1, 512*2)), torch.LongTensor([0]), beliefs=selection_beliefs)"
   ]
  },
  {
   "cell_type": "code",
   "execution_count": 94,
   "metadata": {},
   "outputs": [],
   "source": [
    "def current_sel_prob(agent):\n",
    "    current_sel_prob = agent.model.selection(\n",
    "        agent.state, torch.zeros((1, 1, model.args.nhid_lang*2)), torch.LongTensor([0]),\n",
    "        beliefs=agent.state.make_beliefs(\n",
    "            'selection', agent.state.turn,  agent.partner_ref_outs + [None], agent.ref_outs + [None]\n",
    "        )\n",
    "    )[0].softmax(-1)\n",
    "    return current_sel_prob"
   ]
  },
  {
   "cell_type": "code",
   "execution_count": 95,
   "metadata": {},
   "outputs": [],
   "source": [
    "x = torch.zeros(1)"
   ]
  },
  {
   "cell_type": "code",
   "execution_count": 119,
   "metadata": {},
   "outputs": [],
   "source": [
    "def unsigmoid(x):\n",
    "    x = x.float()\n",
    "    return (x / (1 - x)).log()"
   ]
  },
  {
   "cell_type": "code",
   "execution_count": 112,
   "metadata": {},
   "outputs": [
    {
     "data": {
      "text/plain": [
       "torch.Size([1, 2, 7])"
      ]
     },
     "execution_count": 112,
     "metadata": {},
     "output_type": "execute_result"
    }
   ],
   "source": [
    "validset[4].ref_tgt[0].size()"
   ]
  },
  {
   "cell_type": "code",
   "execution_count": 114,
   "metadata": {},
   "outputs": [
    {
     "data": {
      "text/plain": [
       "[tensor([2]), tensor([0])]"
      ]
     },
     "execution_count": 114,
     "metadata": {},
     "output_type": "execute_result"
    }
   ],
   "source": [
    "validset[4].num_markables"
   ]
  },
  {
   "cell_type": "code",
   "execution_count": 113,
   "metadata": {},
   "outputs": [
    {
     "data": {
      "text/plain": [
       "torch.Size([1, 2, 3])"
      ]
     },
     "execution_count": 113,
     "metadata": {},
     "output_type": "execute_result"
    }
   ],
   "source": [
    "validset[4].ref_inpt[0].size()"
   ]
  },
  {
   "cell_type": "code",
   "execution_count": 115,
   "metadata": {},
   "outputs": [
    {
     "data": {
      "text/plain": [
       "False"
      ]
     },
     "execution_count": 115,
     "metadata": {},
     "output_type": "execute_result"
    }
   ],
   "source": [
    "model.args.dot_recurrence_oracle"
   ]
  },
  {
   "cell_type": "code",
   "execution_count": 145,
   "metadata": {},
   "outputs": [],
   "source": [
    "def selection_rollout(agent, dots_mentioned_per_ref):\n",
    "    bsz, num_mentions, num_dots = dots_mentioned_per_ref.size()\n",
    "    assert bsz == 1\n",
    "    assert num_dots == 7\n",
    "    \n",
    "    if num_mentions == 0:\n",
    "        dummy_ref_inpt = None\n",
    "        ref_out = None\n",
    "    else:\n",
    "        dummy_ref_inpt = torch.zeros(bsz, num_mentions, 3).long()\n",
    "        ref_out = unsigmoid(dots_mentioned_per_ref), None, None\n",
    "    num_markables = torch.LongTensor([num_mentions])\n",
    "    dummy_lang_hs = torch.zeros((bsz, 1, model.args.nhid_lang*2))\n",
    "    partner_ref_inpt = None\n",
    "    partner_num_markables = torch.LongTensor([0])\n",
    "    \n",
    "    \n",
    "    # if this is True, should pass dots_mentioned_per_ref for ref_tgt (the second-to-last argument)\n",
    "    if agent.model.args.dot_recurrence_oracle:\n",
    "        raise NotImplementedError()\n",
    "        \n",
    "    new_ref_outs = agent.ref_outs + [ref_out]\n",
    "    new_partner_ref_outs = agent.partner_ref_outs + [None]\n",
    "    \n",
    "    state = agent.model._update_dot_h_maybe_multi(\n",
    "        agent.state, torch.zeros((1, 1, model.args.nhid_lang*2)),\n",
    "        dummy_ref_inpt, partner_ref_inpt,\n",
    "        num_markables, partner_num_markables,\n",
    "        ref_out, None,\n",
    "        None, None\n",
    "    )\n",
    "    \n",
    "    sel_prob = agent.model.selection(\n",
    "        state, torch.zeros((1, 1, model.args.nhid_lang*2)), torch.LongTensor([0]),\n",
    "        beliefs=state.make_beliefs(\n",
    "            'selection', state.turn,  \n",
    "            # TODO: fix this method so that it takes things in the reasonable order\n",
    "            new_partner_ref_outs, new_ref_outs\n",
    "        )\n",
    "    )[0].softmax(-1)\n",
    "    return sel_prob"
   ]
  },
  {
   "cell_type": "code",
   "execution_count": 68,
   "metadata": {},
   "outputs": [
    {
     "name": "stdout",
     "output_type": "stream",
     "text": [
      "Automatic pdb calling has been turned ON\n"
     ]
    }
   ],
   "source": [
    "pdb on"
   ]
  },
  {
   "cell_type": "code",
   "execution_count": 144,
   "metadata": {
    "scrolled": false
   },
   "outputs": [
    {
     "name": "stdout",
     "output_type": "stream",
     "text": [
      "scenario_id: S_7emB6ZKNctXsQbrf\n",
      "current_sel_prob: tensor([0.1895, 0.1385, 0.0995, 0.1996, 0.1705, 0.0999, 0.1025],\n",
      "       grad_fn=<ViewBackward>)\n"
     ]
    },
    {
     "data": {
      "text/html": [
       "<div style=\"white-space: nowrap\"><svg viewbox='0 0 430 430' width=\"172\" height=\"172\" id=\"agent_1\"><circle cx=\"215\" cy=\"215\" r=\"205\" fill=\"none\" stroke=\"black\" stroke-width=\"2\" stroke-dasharray=\"3,3\"/><circle cx=\"260\" cy=\"204\" r=\"10\" fill=\"rgb(63,63,63)\"/><circle cx=\"295\" cy=\"223\" r=\"11\" fill=\"rgb(77,77,77)\"/><circle cx=\"141\" cy=\"73\" r=\"13\" fill=\"rgb(104,104,104)\"/><circle cx=\"384\" cy=\"282\" r=\"7\" fill=\"rgb(175,175,175)\"/><circle cx=\"337\" cy=\"228\" r=\"11\" fill=\"rgb(64,64,64)\"/><circle cx=\"242\" cy=\"90\" r=\"13\" fill=\"rgb(141,141,141)\"/><circle cx=\"314\" cy=\"145\" r=\"13\" fill=\"rgb(89,89,89)\"/></svg><svg viewBox='0 0 430 430' id=\"svg\" width=\"172\" height=\"172\"><circle cx=\"215\" cy=\"215\" r=\"205\" fill=\"none\" stroke=\"black\" stroke-width=\"2\" stroke-dasharray=\"3,3\"/> <circle cx=\"260\" cy=\"204\" r=\"10\" fill=\"rgb(255,206,206)\" class=\"agent_1_5\"/><circle cx=\"295\" cy=\"223\" r=\"11\" fill=\"rgb(255,219,219)\" class=\"agent_1_31\"/><circle cx=\"141\" cy=\"73\" r=\"13\" fill=\"rgb(255,229,229)\" class=\"agent_1_35\"/><circle cx=\"384\" cy=\"282\" r=\"7\" fill=\"rgb(255,204,204)\" class=\"agent_1_41\"/><circle cx=\"337\" cy=\"228\" r=\"11\" fill=\"rgb(255,211,211)\" class=\"agent_1_44\"/><circle cx=\"242\" cy=\"90\" r=\"13\" fill=\"rgb(255,229,229)\" class=\"agent_1_66\"/><circle cx=\"314\" cy=\"145\" r=\"13\" fill=\"rgb(255,228,228)\" class=\"agent_1_79\"/></svg></div>"
      ],
      "text/plain": [
       "<IPython.core.display.HTML object>"
      ]
     },
     "metadata": {},
     "output_type": "display_data"
    },
    {
     "name": "stdout",
     "output_type": "stream",
     "text": [
      "to_mention_marginals\n"
     ]
    },
    {
     "data": {
      "text/html": [
       "<div style=\"white-space: nowrap\"><svg viewbox='0 0 430 430' width=\"172\" height=\"172\" id=\"agent_1\"><circle cx=\"215\" cy=\"215\" r=\"205\" fill=\"none\" stroke=\"black\" stroke-width=\"2\" stroke-dasharray=\"3,3\"/><circle cx=\"260\" cy=\"204\" r=\"10\" fill=\"rgb(63,63,63)\"/><circle cx=\"295\" cy=\"223\" r=\"11\" fill=\"rgb(77,77,77)\"/><circle cx=\"141\" cy=\"73\" r=\"13\" fill=\"rgb(104,104,104)\"/><circle cx=\"384\" cy=\"282\" r=\"7\" fill=\"rgb(175,175,175)\"/><circle cx=\"337\" cy=\"228\" r=\"11\" fill=\"rgb(64,64,64)\"/><circle cx=\"242\" cy=\"90\" r=\"13\" fill=\"rgb(141,141,141)\"/><circle cx=\"314\" cy=\"145\" r=\"13\" fill=\"rgb(89,89,89)\"/></svg><svg viewBox='0 0 430 430' id=\"svg\" width=\"172\" height=\"172\"><circle cx=\"215\" cy=\"215\" r=\"205\" fill=\"none\" stroke=\"black\" stroke-width=\"2\" stroke-dasharray=\"3,3\"/> <circle cx=\"260\" cy=\"204\" r=\"10\" fill=\"rgb(255,37,37)\" class=\"agent_1_5\"/><circle cx=\"295\" cy=\"223\" r=\"11\" fill=\"rgb(255,35,35)\" class=\"agent_1_31\"/><circle cx=\"141\" cy=\"73\" r=\"13\" fill=\"rgb(255,236,236)\" class=\"agent_1_35\"/><circle cx=\"384\" cy=\"282\" r=\"7\" fill=\"rgb(255,236,236)\" class=\"agent_1_41\"/><circle cx=\"337\" cy=\"228\" r=\"11\" fill=\"rgb(255,36,36)\" class=\"agent_1_44\"/><circle cx=\"242\" cy=\"90\" r=\"13\" fill=\"rgb(255,234,234)\" class=\"agent_1_66\"/><circle cx=\"314\" cy=\"145\" r=\"13\" fill=\"rgb(255,75,75)\" class=\"agent_1_79\"/></svg><svg viewBox='0 0 430 430' id=\"svg\" width=\"172\" height=\"172\"><circle cx=\"215\" cy=\"215\" r=\"205\" fill=\"none\" stroke=\"black\" stroke-width=\"2\" stroke-dasharray=\"3,3\"/> <circle cx=\"260\" cy=\"204\" r=\"10\" fill=\"rgb(255,155,155)\" class=\"agent_1_5\"/><circle cx=\"295\" cy=\"223\" r=\"11\" fill=\"rgb(255,146,146)\" class=\"agent_1_31\"/><circle cx=\"141\" cy=\"73\" r=\"13\" fill=\"rgb(255,167,167)\" class=\"agent_1_35\"/><circle cx=\"384\" cy=\"282\" r=\"7\" fill=\"rgb(255,209,209)\" class=\"agent_1_41\"/><circle cx=\"337\" cy=\"228\" r=\"11\" fill=\"rgb(255,143,143)\" class=\"agent_1_44\"/><circle cx=\"242\" cy=\"90\" r=\"13\" fill=\"rgb(255,183,183)\" class=\"agent_1_66\"/><circle cx=\"314\" cy=\"145\" r=\"13\" fill=\"rgb(255,158,158)\" class=\"agent_1_79\"/></svg><svg viewBox='0 0 430 430' id=\"svg\" width=\"172\" height=\"172\"><circle cx=\"215\" cy=\"215\" r=\"205\" fill=\"none\" stroke=\"black\" stroke-width=\"2\" stroke-dasharray=\"3,3\"/> <circle cx=\"260\" cy=\"204\" r=\"10\" fill=\"rgb(255,185,185)\" class=\"agent_1_5\"/><circle cx=\"295\" cy=\"223\" r=\"11\" fill=\"rgb(255,184,184)\" class=\"agent_1_31\"/><circle cx=\"141\" cy=\"73\" r=\"13\" fill=\"rgb(255,217,217)\" class=\"agent_1_35\"/><circle cx=\"384\" cy=\"282\" r=\"7\" fill=\"rgb(255,215,215)\" class=\"agent_1_41\"/><circle cx=\"337\" cy=\"228\" r=\"11\" fill=\"rgb(255,179,179)\" class=\"agent_1_44\"/><circle cx=\"242\" cy=\"90\" r=\"13\" fill=\"rgb(255,210,210)\" class=\"agent_1_66\"/><circle cx=\"314\" cy=\"145\" r=\"13\" fill=\"rgb(255,185,185)\" class=\"agent_1_79\"/></svg></div>"
      ],
      "text/plain": [
       "<IPython.core.display.HTML object>"
      ]
     },
     "metadata": {},
     "output_type": "display_data"
    },
    {
     "name": "stdout",
     "output_type": "stream",
     "text": [
      "to_mention_pred\n"
     ]
    },
    {
     "data": {
      "text/html": [
       "<div style=\"white-space: nowrap\"><svg viewbox='0 0 430 430' width=\"172\" height=\"172\" id=\"agent_1\"><circle cx=\"215\" cy=\"215\" r=\"205\" fill=\"none\" stroke=\"black\" stroke-width=\"2\" stroke-dasharray=\"3,3\"/><circle cx=\"260\" cy=\"204\" r=\"10\" fill=\"rgb(63,63,63)\"/><circle cx=\"295\" cy=\"223\" r=\"11\" fill=\"rgb(77,77,77)\"/><circle cx=\"141\" cy=\"73\" r=\"13\" fill=\"rgb(104,104,104)\"/><circle cx=\"384\" cy=\"282\" r=\"7\" fill=\"rgb(175,175,175)\"/><circle cx=\"337\" cy=\"228\" r=\"11\" fill=\"rgb(64,64,64)\"/><circle cx=\"242\" cy=\"90\" r=\"13\" fill=\"rgb(141,141,141)\"/><circle cx=\"314\" cy=\"145\" r=\"13\" fill=\"rgb(89,89,89)\"/></svg><svg viewBox='0 0 430 430' id=\"svg\" width=\"172\" height=\"172\"><circle cx=\"215\" cy=\"215\" r=\"205\" fill=\"none\" stroke=\"black\" stroke-width=\"2\" stroke-dasharray=\"3,3\"/> <circle cx=\"260\" cy=\"204\" r=\"10\" fill=\"rgb(255,0,0)\" class=\"agent_1_5\"/><circle cx=\"295\" cy=\"223\" r=\"11\" fill=\"rgb(255,0,0)\" class=\"agent_1_31\"/><circle cx=\"141\" cy=\"73\" r=\"13\" fill=\"rgb(255,255,255)\" class=\"agent_1_35\"/><circle cx=\"384\" cy=\"282\" r=\"7\" fill=\"rgb(255,255,255)\" class=\"agent_1_41\"/><circle cx=\"337\" cy=\"228\" r=\"11\" fill=\"rgb(255,0,0)\" class=\"agent_1_44\"/><circle cx=\"242\" cy=\"90\" r=\"13\" fill=\"rgb(255,255,255)\" class=\"agent_1_66\"/><circle cx=\"314\" cy=\"145\" r=\"13\" fill=\"rgb(255,0,0)\" class=\"agent_1_79\"/></svg><svg viewBox='0 0 430 430' id=\"svg\" width=\"172\" height=\"172\"><circle cx=\"215\" cy=\"215\" r=\"205\" fill=\"none\" stroke=\"black\" stroke-width=\"2\" stroke-dasharray=\"3,3\"/> <circle cx=\"260\" cy=\"204\" r=\"10\" fill=\"rgb(255,0,0)\" class=\"agent_1_5\"/><circle cx=\"295\" cy=\"223\" r=\"11\" fill=\"rgb(255,0,0)\" class=\"agent_1_31\"/><circle cx=\"141\" cy=\"73\" r=\"13\" fill=\"rgb(255,255,255)\" class=\"agent_1_35\"/><circle cx=\"384\" cy=\"282\" r=\"7\" fill=\"rgb(255,255,255)\" class=\"agent_1_41\"/><circle cx=\"337\" cy=\"228\" r=\"11\" fill=\"rgb(255,0,0)\" class=\"agent_1_44\"/><circle cx=\"242\" cy=\"90\" r=\"13\" fill=\"rgb(255,255,255)\" class=\"agent_1_66\"/><circle cx=\"314\" cy=\"145\" r=\"13\" fill=\"rgb(255,0,0)\" class=\"agent_1_79\"/></svg><svg viewBox='0 0 430 430' id=\"svg\" width=\"172\" height=\"172\"><circle cx=\"215\" cy=\"215\" r=\"205\" fill=\"none\" stroke=\"black\" stroke-width=\"2\" stroke-dasharray=\"3,3\"/> <circle cx=\"260\" cy=\"204\" r=\"10\" fill=\"rgb(255,0,0)\" class=\"agent_1_5\"/><circle cx=\"295\" cy=\"223\" r=\"11\" fill=\"rgb(255,0,0)\" class=\"agent_1_31\"/><circle cx=\"141\" cy=\"73\" r=\"13\" fill=\"rgb(255,255,255)\" class=\"agent_1_35\"/><circle cx=\"384\" cy=\"282\" r=\"7\" fill=\"rgb(255,255,255)\" class=\"agent_1_41\"/><circle cx=\"337\" cy=\"228\" r=\"11\" fill=\"rgb(255,0,0)\" class=\"agent_1_44\"/><circle cx=\"242\" cy=\"90\" r=\"13\" fill=\"rgb(255,255,255)\" class=\"agent_1_66\"/><circle cx=\"314\" cy=\"145\" r=\"13\" fill=\"rgb(255,255,255)\" class=\"agent_1_79\"/></svg></div>"
      ],
      "text/plain": [
       "<IPython.core.display.HTML object>"
      ]
     },
     "metadata": {},
     "output_type": "display_data"
    },
    {
     "name": "stdout",
     "output_type": "stream",
     "text": [
      "to_mention_true\n"
     ]
    },
    {
     "data": {
      "text/html": [
       "<div style=\"white-space: nowrap\"><svg viewbox='0 0 430 430' width=\"172\" height=\"172\" id=\"agent_1\"><circle cx=\"215\" cy=\"215\" r=\"205\" fill=\"none\" stroke=\"black\" stroke-width=\"2\" stroke-dasharray=\"3,3\"/><circle cx=\"260\" cy=\"204\" r=\"10\" fill=\"rgb(63,63,63)\"/><circle cx=\"295\" cy=\"223\" r=\"11\" fill=\"rgb(77,77,77)\"/><circle cx=\"141\" cy=\"73\" r=\"13\" fill=\"rgb(104,104,104)\"/><circle cx=\"384\" cy=\"282\" r=\"7\" fill=\"rgb(175,175,175)\"/><circle cx=\"337\" cy=\"228\" r=\"11\" fill=\"rgb(64,64,64)\"/><circle cx=\"242\" cy=\"90\" r=\"13\" fill=\"rgb(141,141,141)\"/><circle cx=\"314\" cy=\"145\" r=\"13\" fill=\"rgb(89,89,89)\"/></svg><svg viewBox='0 0 430 430' id=\"svg\" width=\"172\" height=\"172\"><circle cx=\"215\" cy=\"215\" r=\"205\" fill=\"none\" stroke=\"black\" stroke-width=\"2\" stroke-dasharray=\"3,3\"/> <circle cx=\"260\" cy=\"204\" r=\"10\" fill=\"rgb(255,0,0)\" class=\"agent_1_5\"/><circle cx=\"295\" cy=\"223\" r=\"11\" fill=\"rgb(255,0,0)\" class=\"agent_1_31\"/><circle cx=\"141\" cy=\"73\" r=\"13\" fill=\"rgb(255,255,255)\" class=\"agent_1_35\"/><circle cx=\"384\" cy=\"282\" r=\"7\" fill=\"rgb(255,255,255)\" class=\"agent_1_41\"/><circle cx=\"337\" cy=\"228\" r=\"11\" fill=\"rgb(255,0,0)\" class=\"agent_1_44\"/><circle cx=\"242\" cy=\"90\" r=\"13\" fill=\"rgb(255,255,255)\" class=\"agent_1_66\"/><circle cx=\"314\" cy=\"145\" r=\"13\" fill=\"rgb(255,255,255)\" class=\"agent_1_79\"/></svg></div>"
      ],
      "text/plain": [
       "<IPython.core.display.HTML object>"
      ]
     },
     "metadata": {},
     "output_type": "display_data"
    },
    {
     "name": "stdout",
     "output_type": "stream",
     "text": [
      "beam 0\ti have a triangle of dots that are almost black <eos>\n",
      "greedy\ti have a triangle of dots that are almost black <eos>\n",
      "(tensor([[[inf, inf, -inf, -inf, inf, -inf, -inf]]]), None, None)\n",
      "pre state_norm: 1.0877209901809692\n",
      "post state_norm: 8.195716857910156\n",
      "rollout_sel_prob: tensor([3.6688e-01, 2.7229e-01, 1.1254e-04, 7.5304e-05, 3.6040e-01, 1.1946e-04,\n",
      "        1.2004e-04], grad_fn=<ViewBackward>)\n"
     ]
    },
    {
     "data": {
      "text/html": [
       "<div style=\"white-space: nowrap\"><svg viewbox='0 0 430 430' width=\"172\" height=\"172\" id=\"agent_1\"><circle cx=\"215\" cy=\"215\" r=\"205\" fill=\"none\" stroke=\"black\" stroke-width=\"2\" stroke-dasharray=\"3,3\"/><circle cx=\"260\" cy=\"204\" r=\"10\" fill=\"rgb(63,63,63)\"/><circle cx=\"295\" cy=\"223\" r=\"11\" fill=\"rgb(77,77,77)\"/><circle cx=\"141\" cy=\"73\" r=\"13\" fill=\"rgb(104,104,104)\"/><circle cx=\"384\" cy=\"282\" r=\"7\" fill=\"rgb(175,175,175)\"/><circle cx=\"337\" cy=\"228\" r=\"11\" fill=\"rgb(64,64,64)\"/><circle cx=\"242\" cy=\"90\" r=\"13\" fill=\"rgb(141,141,141)\"/><circle cx=\"314\" cy=\"145\" r=\"13\" fill=\"rgb(89,89,89)\"/></svg><svg viewBox='0 0 430 430' id=\"svg\" width=\"172\" height=\"172\"><circle cx=\"215\" cy=\"215\" r=\"205\" fill=\"none\" stroke=\"black\" stroke-width=\"2\" stroke-dasharray=\"3,3\"/> <circle cx=\"260\" cy=\"204\" r=\"10\" fill=\"rgb(255,161,161)\" class=\"agent_1_5\"/><circle cx=\"295\" cy=\"223\" r=\"11\" fill=\"rgb(255,185,185)\" class=\"agent_1_31\"/><circle cx=\"141\" cy=\"73\" r=\"13\" fill=\"rgb(255,254,254)\" class=\"agent_1_35\"/><circle cx=\"384\" cy=\"282\" r=\"7\" fill=\"rgb(255,254,254)\" class=\"agent_1_41\"/><circle cx=\"337\" cy=\"228\" r=\"11\" fill=\"rgb(255,163,163)\" class=\"agent_1_44\"/><circle cx=\"242\" cy=\"90\" r=\"13\" fill=\"rgb(255,254,254)\" class=\"agent_1_66\"/><circle cx=\"314\" cy=\"145\" r=\"13\" fill=\"rgb(255,254,254)\" class=\"agent_1_79\"/></svg></div>"
      ],
      "text/plain": [
       "<IPython.core.display.HTML object>"
      ]
     },
     "metadata": {},
     "output_type": "display_data"
    },
    {
     "name": "stdout",
     "output_type": "stream",
     "text": [
      "human\tdo you have three black dots all close and horizontal . <eos>\n",
      "detected markables:\n",
      "{'start': 15, 'end': 31, 'is_self': True, 'text': 'three black dots'}\n",
      "ref_marginal_probs\n"
     ]
    },
    {
     "data": {
      "text/html": [
       "<div style=\"white-space: nowrap\"><svg viewbox='0 0 430 430' width=\"172\" height=\"172\" id=\"agent_1\"><circle cx=\"215\" cy=\"215\" r=\"205\" fill=\"none\" stroke=\"black\" stroke-width=\"2\" stroke-dasharray=\"3,3\"/><circle cx=\"260\" cy=\"204\" r=\"10\" fill=\"rgb(63,63,63)\"/><circle cx=\"295\" cy=\"223\" r=\"11\" fill=\"rgb(77,77,77)\"/><circle cx=\"141\" cy=\"73\" r=\"13\" fill=\"rgb(104,104,104)\"/><circle cx=\"384\" cy=\"282\" r=\"7\" fill=\"rgb(175,175,175)\"/><circle cx=\"337\" cy=\"228\" r=\"11\" fill=\"rgb(64,64,64)\"/><circle cx=\"242\" cy=\"90\" r=\"13\" fill=\"rgb(141,141,141)\"/><circle cx=\"314\" cy=\"145\" r=\"13\" fill=\"rgb(89,89,89)\"/></svg><svg viewBox='0 0 430 430' id=\"svg\" width=\"172\" height=\"172\"><circle cx=\"215\" cy=\"215\" r=\"205\" fill=\"none\" stroke=\"black\" stroke-width=\"2\" stroke-dasharray=\"3,3\"/> <circle cx=\"260\" cy=\"204\" r=\"10\" fill=\"rgb(255,0,0)\" class=\"agent_1_5\"/><circle cx=\"295\" cy=\"223\" r=\"11\" fill=\"rgb(255,0,0)\" class=\"agent_1_31\"/><circle cx=\"141\" cy=\"73\" r=\"13\" fill=\"rgb(255,254,254)\" class=\"agent_1_35\"/><circle cx=\"384\" cy=\"282\" r=\"7\" fill=\"rgb(255,254,254)\" class=\"agent_1_41\"/><circle cx=\"337\" cy=\"228\" r=\"11\" fill=\"rgb(255,0,0)\" class=\"agent_1_44\"/><circle cx=\"242\" cy=\"90\" r=\"13\" fill=\"rgb(255,254,254)\" class=\"agent_1_66\"/><circle cx=\"314\" cy=\"145\" r=\"13\" fill=\"rgb(255,174,174)\" class=\"agent_1_79\"/></svg></div>"
      ],
      "text/plain": [
       "<IPython.core.display.HTML object>"
      ]
     },
     "metadata": {},
     "output_type": "display_data"
    },
    {
     "name": "stdout",
     "output_type": "stream",
     "text": [
      "refs_pred\n"
     ]
    },
    {
     "data": {
      "text/html": [
       "<div style=\"white-space: nowrap\"><svg viewbox='0 0 430 430' width=\"172\" height=\"172\" id=\"agent_1\"><circle cx=\"215\" cy=\"215\" r=\"205\" fill=\"none\" stroke=\"black\" stroke-width=\"2\" stroke-dasharray=\"3,3\"/><circle cx=\"260\" cy=\"204\" r=\"10\" fill=\"rgb(63,63,63)\"/><circle cx=\"295\" cy=\"223\" r=\"11\" fill=\"rgb(77,77,77)\"/><circle cx=\"141\" cy=\"73\" r=\"13\" fill=\"rgb(104,104,104)\"/><circle cx=\"384\" cy=\"282\" r=\"7\" fill=\"rgb(175,175,175)\"/><circle cx=\"337\" cy=\"228\" r=\"11\" fill=\"rgb(64,64,64)\"/><circle cx=\"242\" cy=\"90\" r=\"13\" fill=\"rgb(141,141,141)\"/><circle cx=\"314\" cy=\"145\" r=\"13\" fill=\"rgb(89,89,89)\"/></svg><svg viewBox='0 0 430 430' id=\"svg\" width=\"172\" height=\"172\"><circle cx=\"215\" cy=\"215\" r=\"205\" fill=\"none\" stroke=\"black\" stroke-width=\"2\" stroke-dasharray=\"3,3\"/> <circle cx=\"260\" cy=\"204\" r=\"10\" fill=\"rgb(255,0,0)\" class=\"agent_1_5\"/><circle cx=\"295\" cy=\"223\" r=\"11\" fill=\"rgb(255,0,0)\" class=\"agent_1_31\"/><circle cx=\"141\" cy=\"73\" r=\"13\" fill=\"rgb(255,255,255)\" class=\"agent_1_35\"/><circle cx=\"384\" cy=\"282\" r=\"7\" fill=\"rgb(255,255,255)\" class=\"agent_1_41\"/><circle cx=\"337\" cy=\"228\" r=\"11\" fill=\"rgb(255,0,0)\" class=\"agent_1_44\"/><circle cx=\"242\" cy=\"90\" r=\"13\" fill=\"rgb(255,255,255)\" class=\"agent_1_66\"/><circle cx=\"314\" cy=\"145\" r=\"13\" fill=\"rgb(255,255,255)\" class=\"agent_1_79\"/></svg></div>"
      ],
      "text/plain": [
       "<IPython.core.display.HTML object>"
      ]
     },
     "metadata": {},
     "output_type": "display_data"
    },
    {
     "name": "stdout",
     "output_type": "stream",
     "text": [
      "refs_true\n"
     ]
    },
    {
     "data": {
      "text/html": [
       "<div style=\"white-space: nowrap\"><svg viewbox='0 0 430 430' width=\"172\" height=\"172\" id=\"agent_1\"><circle cx=\"215\" cy=\"215\" r=\"205\" fill=\"none\" stroke=\"black\" stroke-width=\"2\" stroke-dasharray=\"3,3\"/><circle cx=\"260\" cy=\"204\" r=\"10\" fill=\"rgb(63,63,63)\"/><circle cx=\"295\" cy=\"223\" r=\"11\" fill=\"rgb(77,77,77)\"/><circle cx=\"141\" cy=\"73\" r=\"13\" fill=\"rgb(104,104,104)\"/><circle cx=\"384\" cy=\"282\" r=\"7\" fill=\"rgb(175,175,175)\"/><circle cx=\"337\" cy=\"228\" r=\"11\" fill=\"rgb(64,64,64)\"/><circle cx=\"242\" cy=\"90\" r=\"13\" fill=\"rgb(141,141,141)\"/><circle cx=\"314\" cy=\"145\" r=\"13\" fill=\"rgb(89,89,89)\"/></svg><svg viewBox='0 0 430 430' id=\"svg\" width=\"172\" height=\"172\"><circle cx=\"215\" cy=\"215\" r=\"205\" fill=\"none\" stroke=\"black\" stroke-width=\"2\" stroke-dasharray=\"3,3\"/> <circle cx=\"260\" cy=\"204\" r=\"10\" fill=\"rgb(255,0,0)\" class=\"agent_1_5\"/><circle cx=\"295\" cy=\"223\" r=\"11\" fill=\"rgb(255,0,0)\" class=\"agent_1_31\"/><circle cx=\"141\" cy=\"73\" r=\"13\" fill=\"rgb(255,255,255)\" class=\"agent_1_35\"/><circle cx=\"384\" cy=\"282\" r=\"7\" fill=\"rgb(255,255,255)\" class=\"agent_1_41\"/><circle cx=\"337\" cy=\"228\" r=\"11\" fill=\"rgb(255,0,0)\" class=\"agent_1_44\"/><circle cx=\"242\" cy=\"90\" r=\"13\" fill=\"rgb(255,255,255)\" class=\"agent_1_66\"/><circle cx=\"314\" cy=\"145\" r=\"13\" fill=\"rgb(255,255,255)\" class=\"agent_1_79\"/></svg></div>"
      ],
      "text/plain": [
       "<IPython.core.display.HTML object>"
      ]
     },
     "metadata": {},
     "output_type": "display_data"
    },
    {
     "name": "stdout",
     "output_type": "stream",
     "text": [
      "\n",
      "----------------------------------------\n",
      "\n",
      "torch.Size([13, 1, 1024])\n",
      "current_sel_prob: tensor([3.6043e-01, 2.6901e-01, 1.1331e-04, 7.4455e-05, 3.5529e-01, 1.1811e-04,\n",
      "        1.4964e-02], grad_fn=<ViewBackward>)\n"
     ]
    },
    {
     "data": {
      "text/html": [
       "<div style=\"white-space: nowrap\"><svg viewbox='0 0 430 430' width=\"172\" height=\"172\" id=\"agent_1\"><circle cx=\"215\" cy=\"215\" r=\"205\" fill=\"none\" stroke=\"black\" stroke-width=\"2\" stroke-dasharray=\"3,3\"/><circle cx=\"260\" cy=\"204\" r=\"10\" fill=\"rgb(63,63,63)\"/><circle cx=\"295\" cy=\"223\" r=\"11\" fill=\"rgb(77,77,77)\"/><circle cx=\"141\" cy=\"73\" r=\"13\" fill=\"rgb(104,104,104)\"/><circle cx=\"384\" cy=\"282\" r=\"7\" fill=\"rgb(175,175,175)\"/><circle cx=\"337\" cy=\"228\" r=\"11\" fill=\"rgb(64,64,64)\"/><circle cx=\"242\" cy=\"90\" r=\"13\" fill=\"rgb(141,141,141)\"/><circle cx=\"314\" cy=\"145\" r=\"13\" fill=\"rgb(89,89,89)\"/></svg><svg viewBox='0 0 430 430' id=\"svg\" width=\"172\" height=\"172\"><circle cx=\"215\" cy=\"215\" r=\"205\" fill=\"none\" stroke=\"black\" stroke-width=\"2\" stroke-dasharray=\"3,3\"/> <circle cx=\"260\" cy=\"204\" r=\"10\" fill=\"rgb(255,163,163)\" class=\"agent_1_5\"/><circle cx=\"295\" cy=\"223\" r=\"11\" fill=\"rgb(255,186,186)\" class=\"agent_1_31\"/><circle cx=\"141\" cy=\"73\" r=\"13\" fill=\"rgb(255,254,254)\" class=\"agent_1_35\"/><circle cx=\"384\" cy=\"282\" r=\"7\" fill=\"rgb(255,254,254)\" class=\"agent_1_41\"/><circle cx=\"337\" cy=\"228\" r=\"11\" fill=\"rgb(255,164,164)\" class=\"agent_1_44\"/><circle cx=\"242\" cy=\"90\" r=\"13\" fill=\"rgb(255,254,254)\" class=\"agent_1_66\"/><circle cx=\"314\" cy=\"145\" r=\"13\" fill=\"rgb(255,251,251)\" class=\"agent_1_79\"/></svg></div>"
      ],
      "text/plain": [
       "<IPython.core.display.HTML object>"
      ]
     },
     "metadata": {},
     "output_type": "display_data"
    },
    {
     "name": "stdout",
     "output_type": "stream",
     "text": [
      "human\tTHEM: yes , lets select the middle one <eos>\n",
      "detected markables:\n",
      "{'start': 21, 'end': 35, 'is_self': True, 'text': 'the middle one'}\n",
      "partner_ref_marginal_probs\n"
     ]
    },
    {
     "data": {
      "text/html": [
       "<div style=\"white-space: nowrap\"><svg viewbox='0 0 430 430' width=\"172\" height=\"172\" id=\"agent_1\"><circle cx=\"215\" cy=\"215\" r=\"205\" fill=\"none\" stroke=\"black\" stroke-width=\"2\" stroke-dasharray=\"3,3\"/><circle cx=\"260\" cy=\"204\" r=\"10\" fill=\"rgb(63,63,63)\"/><circle cx=\"295\" cy=\"223\" r=\"11\" fill=\"rgb(77,77,77)\"/><circle cx=\"141\" cy=\"73\" r=\"13\" fill=\"rgb(104,104,104)\"/><circle cx=\"384\" cy=\"282\" r=\"7\" fill=\"rgb(175,175,175)\"/><circle cx=\"337\" cy=\"228\" r=\"11\" fill=\"rgb(64,64,64)\"/><circle cx=\"242\" cy=\"90\" r=\"13\" fill=\"rgb(141,141,141)\"/><circle cx=\"314\" cy=\"145\" r=\"13\" fill=\"rgb(89,89,89)\"/></svg><svg viewBox='0 0 430 430' id=\"svg\" width=\"172\" height=\"172\"><circle cx=\"215\" cy=\"215\" r=\"205\" fill=\"none\" stroke=\"black\" stroke-width=\"2\" stroke-dasharray=\"3,3\"/> <circle cx=\"260\" cy=\"204\" r=\"10\" fill=\"rgb(255,179,179)\" class=\"agent_1_5\"/><circle cx=\"295\" cy=\"223\" r=\"11\" fill=\"rgb(255,184,184)\" class=\"agent_1_31\"/><circle cx=\"141\" cy=\"73\" r=\"13\" fill=\"rgb(255,254,254)\" class=\"agent_1_35\"/><circle cx=\"384\" cy=\"282\" r=\"7\" fill=\"rgb(255,254,254)\" class=\"agent_1_41\"/><circle cx=\"337\" cy=\"228\" r=\"11\" fill=\"rgb(255,148,148)\" class=\"agent_1_44\"/><circle cx=\"242\" cy=\"90\" r=\"13\" fill=\"rgb(255,254,254)\" class=\"agent_1_66\"/><circle cx=\"314\" cy=\"145\" r=\"13\" fill=\"rgb(255,251,251)\" class=\"agent_1_79\"/></svg></div>"
      ],
      "text/plain": [
       "<IPython.core.display.HTML object>"
      ]
     },
     "metadata": {},
     "output_type": "display_data"
    },
    {
     "name": "stdout",
     "output_type": "stream",
     "text": [
      "partner_refs_pred\n"
     ]
    },
    {
     "data": {
      "text/html": [
       "<div style=\"white-space: nowrap\"><svg viewbox='0 0 430 430' width=\"172\" height=\"172\" id=\"agent_1\"><circle cx=\"215\" cy=\"215\" r=\"205\" fill=\"none\" stroke=\"black\" stroke-width=\"2\" stroke-dasharray=\"3,3\"/><circle cx=\"260\" cy=\"204\" r=\"10\" fill=\"rgb(63,63,63)\"/><circle cx=\"295\" cy=\"223\" r=\"11\" fill=\"rgb(77,77,77)\"/><circle cx=\"141\" cy=\"73\" r=\"13\" fill=\"rgb(104,104,104)\"/><circle cx=\"384\" cy=\"282\" r=\"7\" fill=\"rgb(175,175,175)\"/><circle cx=\"337\" cy=\"228\" r=\"11\" fill=\"rgb(64,64,64)\"/><circle cx=\"242\" cy=\"90\" r=\"13\" fill=\"rgb(141,141,141)\"/><circle cx=\"314\" cy=\"145\" r=\"13\" fill=\"rgb(89,89,89)\"/></svg><svg viewBox='0 0 430 430' id=\"svg\" width=\"172\" height=\"172\"><circle cx=\"215\" cy=\"215\" r=\"205\" fill=\"none\" stroke=\"black\" stroke-width=\"2\" stroke-dasharray=\"3,3\"/> <circle cx=\"260\" cy=\"204\" r=\"10\" fill=\"rgb(255,255,255)\" class=\"agent_1_5\"/><circle cx=\"295\" cy=\"223\" r=\"11\" fill=\"rgb(255,255,255)\" class=\"agent_1_31\"/><circle cx=\"141\" cy=\"73\" r=\"13\" fill=\"rgb(255,255,255)\" class=\"agent_1_35\"/><circle cx=\"384\" cy=\"282\" r=\"7\" fill=\"rgb(255,255,255)\" class=\"agent_1_41\"/><circle cx=\"337\" cy=\"228\" r=\"11\" fill=\"rgb(255,0,0)\" class=\"agent_1_44\"/><circle cx=\"242\" cy=\"90\" r=\"13\" fill=\"rgb(255,255,255)\" class=\"agent_1_66\"/><circle cx=\"314\" cy=\"145\" r=\"13\" fill=\"rgb(255,255,255)\" class=\"agent_1_79\"/></svg></div>"
      ],
      "text/plain": [
       "<IPython.core.display.HTML object>"
      ]
     },
     "metadata": {},
     "output_type": "display_data"
    },
    {
     "name": "stdout",
     "output_type": "stream",
     "text": [
      "partner_refs_true\n"
     ]
    },
    {
     "data": {
      "text/html": [
       "<div style=\"white-space: nowrap\"><svg viewbox='0 0 430 430' width=\"172\" height=\"172\" id=\"agent_1\"><circle cx=\"215\" cy=\"215\" r=\"205\" fill=\"none\" stroke=\"black\" stroke-width=\"2\" stroke-dasharray=\"3,3\"/><circle cx=\"260\" cy=\"204\" r=\"10\" fill=\"rgb(63,63,63)\"/><circle cx=\"295\" cy=\"223\" r=\"11\" fill=\"rgb(77,77,77)\"/><circle cx=\"141\" cy=\"73\" r=\"13\" fill=\"rgb(104,104,104)\"/><circle cx=\"384\" cy=\"282\" r=\"7\" fill=\"rgb(175,175,175)\"/><circle cx=\"337\" cy=\"228\" r=\"11\" fill=\"rgb(64,64,64)\"/><circle cx=\"242\" cy=\"90\" r=\"13\" fill=\"rgb(141,141,141)\"/><circle cx=\"314\" cy=\"145\" r=\"13\" fill=\"rgb(89,89,89)\"/></svg><svg viewBox='0 0 430 430' id=\"svg\" width=\"172\" height=\"172\"><circle cx=\"215\" cy=\"215\" r=\"205\" fill=\"none\" stroke=\"black\" stroke-width=\"2\" stroke-dasharray=\"3,3\"/> <circle cx=\"260\" cy=\"204\" r=\"10\" fill=\"rgb(255,255,255)\" class=\"agent_1_5\"/><circle cx=\"295\" cy=\"223\" r=\"11\" fill=\"rgb(255,0,0)\" class=\"agent_1_31\"/><circle cx=\"141\" cy=\"73\" r=\"13\" fill=\"rgb(255,255,255)\" class=\"agent_1_35\"/><circle cx=\"384\" cy=\"282\" r=\"7\" fill=\"rgb(255,255,255)\" class=\"agent_1_41\"/><circle cx=\"337\" cy=\"228\" r=\"11\" fill=\"rgb(255,255,255)\" class=\"agent_1_44\"/><circle cx=\"242\" cy=\"90\" r=\"13\" fill=\"rgb(255,255,255)\" class=\"agent_1_66\"/><circle cx=\"314\" cy=\"145\" r=\"13\" fill=\"rgb(255,255,255)\" class=\"agent_1_79\"/></svg></div>"
      ],
      "text/plain": [
       "<IPython.core.display.HTML object>"
      ]
     },
     "metadata": {},
     "output_type": "display_data"
    },
    {
     "name": "stdout",
     "output_type": "stream",
     "text": [
      "partner_ref_true (their view)\n"
     ]
    },
    {
     "data": {
      "text/html": [
       "<div style=\"white-space: nowrap\"><svg viewbox='0 0 430 430' width=\"172\" height=\"172\" id=\"agent_0\"><circle cx=\"215\" cy=\"215\" r=\"205\" fill=\"none\" stroke=\"black\" stroke-width=\"2\" stroke-dasharray=\"3,3\"/><circle cx=\"220\" cy=\"300\" r=\"10\" fill=\"rgb(63,63,63)\"/><circle cx=\"255\" cy=\"319\" r=\"11\" fill=\"rgb(77,77,77)\"/><circle cx=\"100\" cy=\"169\" r=\"13\" fill=\"rgb(104,104,104)\"/><circle cx=\"297\" cy=\"324\" r=\"11\" fill=\"rgb(64,64,64)\"/><circle cx=\"202\" cy=\"186\" r=\"13\" fill=\"rgb(141,141,141)\"/><circle cx=\"296\" cy=\"40\" r=\"8\" fill=\"rgb(161,161,161)\"/><circle cx=\"273\" cy=\"240\" r=\"13\" fill=\"rgb(89,89,89)\"/></svg><svg viewBox='0 0 430 430' id=\"svg\" width=\"172\" height=\"172\"><circle cx=\"215\" cy=\"215\" r=\"205\" fill=\"none\" stroke=\"black\" stroke-width=\"2\" stroke-dasharray=\"3,3\"/> <circle cx=\"220\" cy=\"300\" r=\"10\" fill=\"rgb(255,255,255)\" class=\"agent_0_5\"/><circle cx=\"255\" cy=\"319\" r=\"11\" fill=\"rgb(255,0,0)\" class=\"agent_0_31\"/><circle cx=\"100\" cy=\"169\" r=\"13\" fill=\"rgb(255,255,255)\" class=\"agent_0_35\"/><circle cx=\"297\" cy=\"324\" r=\"11\" fill=\"rgb(255,255,255)\" class=\"agent_0_44\"/><circle cx=\"202\" cy=\"186\" r=\"13\" fill=\"rgb(255,255,255)\" class=\"agent_0_66\"/><circle cx=\"296\" cy=\"40\" r=\"8\" fill=\"rgb(255,255,255)\" class=\"agent_0_71\"/><circle cx=\"273\" cy=\"240\" r=\"13\" fill=\"rgb(255,255,255)\" class=\"agent_0_79\"/></svg></div>"
      ],
      "text/plain": [
       "<IPython.core.display.HTML object>"
      ]
     },
     "metadata": {},
     "output_type": "display_data"
    },
    {
     "name": "stdout",
     "output_type": "stream",
     "text": [
      "\n",
      "----------------------------------------\n",
      "\n",
      "torch.Size([10, 1, 1024])\n",
      "current_sel_prob: tensor([3.4550e-01, 2.7857e-01, 3.0809e-04, 1.2712e-04, 3.6529e-01, 3.1781e-04,\n",
      "        9.8763e-03], grad_fn=<ViewBackward>)\n"
     ]
    },
    {
     "data": {
      "text/html": [
       "<div style=\"white-space: nowrap\"><svg viewbox='0 0 430 430' width=\"172\" height=\"172\" id=\"agent_1\"><circle cx=\"215\" cy=\"215\" r=\"205\" fill=\"none\" stroke=\"black\" stroke-width=\"2\" stroke-dasharray=\"3,3\"/><circle cx=\"260\" cy=\"204\" r=\"10\" fill=\"rgb(63,63,63)\"/><circle cx=\"295\" cy=\"223\" r=\"11\" fill=\"rgb(77,77,77)\"/><circle cx=\"141\" cy=\"73\" r=\"13\" fill=\"rgb(104,104,104)\"/><circle cx=\"384\" cy=\"282\" r=\"7\" fill=\"rgb(175,175,175)\"/><circle cx=\"337\" cy=\"228\" r=\"11\" fill=\"rgb(64,64,64)\"/><circle cx=\"242\" cy=\"90\" r=\"13\" fill=\"rgb(141,141,141)\"/><circle cx=\"314\" cy=\"145\" r=\"13\" fill=\"rgb(89,89,89)\"/></svg><svg viewBox='0 0 430 430' id=\"svg\" width=\"172\" height=\"172\"><circle cx=\"215\" cy=\"215\" r=\"205\" fill=\"none\" stroke=\"black\" stroke-width=\"2\" stroke-dasharray=\"3,3\"/> <circle cx=\"260\" cy=\"204\" r=\"10\" fill=\"rgb(255,166,166)\" class=\"agent_1_5\"/><circle cx=\"295\" cy=\"223\" r=\"11\" fill=\"rgb(255,183,183)\" class=\"agent_1_31\"/><circle cx=\"141\" cy=\"73\" r=\"13\" fill=\"rgb(255,254,254)\" class=\"agent_1_35\"/><circle cx=\"384\" cy=\"282\" r=\"7\" fill=\"rgb(255,254,254)\" class=\"agent_1_41\"/><circle cx=\"337\" cy=\"228\" r=\"11\" fill=\"rgb(255,161,161)\" class=\"agent_1_44\"/><circle cx=\"242\" cy=\"90\" r=\"13\" fill=\"rgb(255,254,254)\" class=\"agent_1_66\"/><circle cx=\"314\" cy=\"145\" r=\"13\" fill=\"rgb(255,252,252)\" class=\"agent_1_79\"/></svg></div>"
      ],
      "text/plain": [
       "<IPython.core.display.HTML object>"
      ]
     },
     "metadata": {},
     "output_type": "display_data"
    },
    {
     "name": "stdout",
     "output_type": "stream",
     "text": [
      "beam 0\tok <selection>\n",
      "greedy\tok <selection>\n",
      "None\n",
      "pre state_norm: 9.386774063110352\n",
      "post state_norm: 9.386774063110352\n",
      "rollout_sel_prob: tensor([3.4550e-01, 2.7857e-01, 3.0809e-04, 1.2712e-04, 3.6529e-01, 3.1781e-04,\n",
      "        9.8763e-03], grad_fn=<ViewBackward>)\n"
     ]
    },
    {
     "data": {
      "text/html": [
       "<div style=\"white-space: nowrap\"><svg viewbox='0 0 430 430' width=\"172\" height=\"172\" id=\"agent_1\"><circle cx=\"215\" cy=\"215\" r=\"205\" fill=\"none\" stroke=\"black\" stroke-width=\"2\" stroke-dasharray=\"3,3\"/><circle cx=\"260\" cy=\"204\" r=\"10\" fill=\"rgb(63,63,63)\"/><circle cx=\"295\" cy=\"223\" r=\"11\" fill=\"rgb(77,77,77)\"/><circle cx=\"141\" cy=\"73\" r=\"13\" fill=\"rgb(104,104,104)\"/><circle cx=\"384\" cy=\"282\" r=\"7\" fill=\"rgb(175,175,175)\"/><circle cx=\"337\" cy=\"228\" r=\"11\" fill=\"rgb(64,64,64)\"/><circle cx=\"242\" cy=\"90\" r=\"13\" fill=\"rgb(141,141,141)\"/><circle cx=\"314\" cy=\"145\" r=\"13\" fill=\"rgb(89,89,89)\"/></svg><svg viewBox='0 0 430 430' id=\"svg\" width=\"172\" height=\"172\"><circle cx=\"215\" cy=\"215\" r=\"205\" fill=\"none\" stroke=\"black\" stroke-width=\"2\" stroke-dasharray=\"3,3\"/> <circle cx=\"260\" cy=\"204\" r=\"10\" fill=\"rgb(255,166,166)\" class=\"agent_1_5\"/><circle cx=\"295\" cy=\"223\" r=\"11\" fill=\"rgb(255,183,183)\" class=\"agent_1_31\"/><circle cx=\"141\" cy=\"73\" r=\"13\" fill=\"rgb(255,254,254)\" class=\"agent_1_35\"/><circle cx=\"384\" cy=\"282\" r=\"7\" fill=\"rgb(255,254,254)\" class=\"agent_1_41\"/><circle cx=\"337\" cy=\"228\" r=\"11\" fill=\"rgb(255,161,161)\" class=\"agent_1_44\"/><circle cx=\"242\" cy=\"90\" r=\"13\" fill=\"rgb(255,254,254)\" class=\"agent_1_66\"/><circle cx=\"314\" cy=\"145\" r=\"13\" fill=\"rgb(255,252,252)\" class=\"agent_1_79\"/></svg></div>"
      ],
      "text/plain": [
       "<IPython.core.display.HTML object>"
      ]
     },
     "metadata": {},
     "output_type": "display_data"
    },
    {
     "name": "stdout",
     "output_type": "stream",
     "text": [
      "human\tcool <selection>\n",
      "detected markables:\n",
      "\n",
      "----------------------------------------\n",
      "\n",
      "sel_pred\n"
     ]
    },
    {
     "data": {
      "text/html": [
       "<div style=\"white-space: nowrap\"><svg viewbox='0 0 430 430' width=\"172\" height=\"172\" id=\"agent_1\"><circle cx=\"215\" cy=\"215\" r=\"205\" fill=\"none\" stroke=\"black\" stroke-width=\"2\" stroke-dasharray=\"3,3\"/><circle cx=\"260\" cy=\"204\" r=\"10\" fill=\"rgb(63,63,63)\"/><circle cx=\"295\" cy=\"223\" r=\"11\" fill=\"rgb(77,77,77)\"/><circle cx=\"141\" cy=\"73\" r=\"13\" fill=\"rgb(104,104,104)\"/><circle cx=\"384\" cy=\"282\" r=\"7\" fill=\"rgb(175,175,175)\"/><circle cx=\"337\" cy=\"228\" r=\"11\" fill=\"rgb(64,64,64)\"/><circle cx=\"242\" cy=\"90\" r=\"13\" fill=\"rgb(141,141,141)\"/><circle cx=\"314\" cy=\"145\" r=\"13\" fill=\"rgb(89,89,89)\"/></svg><svg viewBox='0 0 430 430' id=\"svg\" width=\"172\" height=\"172\"><circle cx=\"215\" cy=\"215\" r=\"205\" fill=\"none\" stroke=\"black\" stroke-width=\"2\" stroke-dasharray=\"3,3\"/> <circle cx=\"260\" cy=\"204\" r=\"10\" fill=\"rgb(255,166,166)\" class=\"agent_1_5\"/><circle cx=\"295\" cy=\"223\" r=\"11\" fill=\"rgb(255,183,183)\" class=\"agent_1_31\"/><circle cx=\"141\" cy=\"73\" r=\"13\" fill=\"rgb(255,254,254)\" class=\"agent_1_35\"/><circle cx=\"384\" cy=\"282\" r=\"7\" fill=\"rgb(255,254,254)\" class=\"agent_1_41\"/><circle cx=\"337\" cy=\"228\" r=\"11\" fill=\"rgb(255,161,161)\" class=\"agent_1_44\"/><circle cx=\"242\" cy=\"90\" r=\"13\" fill=\"rgb(255,254,254)\" class=\"agent_1_66\"/><circle cx=\"314\" cy=\"145\" r=\"13\" fill=\"rgb(255,252,252)\" class=\"agent_1_79\"/></svg></div>"
      ],
      "text/plain": [
       "<IPython.core.display.HTML object>"
      ]
     },
     "metadata": {},
     "output_type": "display_data"
    },
    {
     "name": "stdout",
     "output_type": "stream",
     "text": [
      "sel_true\n"
     ]
    },
    {
     "data": {
      "text/html": [
       "<div style=\"white-space: nowrap\"><svg viewbox='0 0 430 430' width=\"172\" height=\"172\" id=\"agent_1\"><circle cx=\"215\" cy=\"215\" r=\"205\" fill=\"none\" stroke=\"black\" stroke-width=\"2\" stroke-dasharray=\"3,3\"/><circle cx=\"260\" cy=\"204\" r=\"10\" fill=\"rgb(63,63,63)\"/><circle cx=\"295\" cy=\"223\" r=\"11\" fill=\"rgb(77,77,77)\"/><circle cx=\"141\" cy=\"73\" r=\"13\" fill=\"rgb(104,104,104)\"/><circle cx=\"384\" cy=\"282\" r=\"7\" fill=\"rgb(175,175,175)\"/><circle cx=\"337\" cy=\"228\" r=\"11\" fill=\"rgb(64,64,64)\"/><circle cx=\"242\" cy=\"90\" r=\"13\" fill=\"rgb(141,141,141)\"/><circle cx=\"314\" cy=\"145\" r=\"13\" fill=\"rgb(89,89,89)\"/></svg><svg viewBox='0 0 430 430' id=\"svg\" width=\"172\" height=\"172\"><circle cx=\"215\" cy=\"215\" r=\"205\" fill=\"none\" stroke=\"black\" stroke-width=\"2\" stroke-dasharray=\"3,3\"/> <circle cx=\"260\" cy=\"204\" r=\"10\" fill=\"rgb(255,255,255)\" class=\"agent_1_5\"/><circle cx=\"295\" cy=\"223\" r=\"11\" fill=\"rgb(255,0,0)\" class=\"agent_1_31\"/><circle cx=\"141\" cy=\"73\" r=\"13\" fill=\"rgb(255,255,255)\" class=\"agent_1_35\"/><circle cx=\"384\" cy=\"282\" r=\"7\" fill=\"rgb(255,255,255)\" class=\"agent_1_41\"/><circle cx=\"337\" cy=\"228\" r=\"11\" fill=\"rgb(255,255,255)\" class=\"agent_1_44\"/><circle cx=\"242\" cy=\"90\" r=\"13\" fill=\"rgb(255,255,255)\" class=\"agent_1_66\"/><circle cx=\"314\" cy=\"145\" r=\"13\" fill=\"rgb(255,255,255)\" class=\"agent_1_79\"/></svg></div>"
      ],
      "text/plain": [
       "<IPython.core.display.HTML object>"
      ]
     },
     "metadata": {},
     "output_type": "display_data"
    }
   ],
   "source": [
    "selection_sandbox(0, min_num_mentions=1, mention_marginals=True,\n",
    "                  ref_marginals=True, for_partner=True, display_mentions=True, datasplit=trainset)"
   ]
  },
  {
   "cell_type": "code",
   "execution_count": 139,
   "metadata": {
    "scrolled": false
   },
   "outputs": [],
   "source": [
    "def selection_sandbox(index, datasplit=validset, candidates=1,\n",
    "                    sample_temperature=0.25, argmax_temperature=0.005,\n",
    "                    force_num_markables=False,\n",
    "                    inference='beam', detect_markables=True,\n",
    "                    min_num_mentions=0, max_num_mentions=12,\n",
    "                    mention_marginals=False, mention_top_k=None,\n",
    "                    ref_marginals=False, model=model,\n",
    "                    for_partner=False, display_mentions=display_mentions\n",
    "                               ):\n",
    "    if mention_top_k is not None:\n",
    "        ap = ArgumentParser()\n",
    "        PragmaticReferencePredictor.add_args(ap)\n",
    "        candidate_predictor = PragmaticReferencePredictor(ap.parse_args(['--l1_candidates={}'.format(mention_top_k)]))\n",
    "    \n",
    "    if for_partner:\n",
    "        instance = next(find_same_scenario(index, datasplit=datasplit))\n",
    "    else:\n",
    "        instance = datasplit[index]\n",
    "    \n",
    "    is_selection_prediction = vars(model.args).get('is_selection_prediction')\n",
    "    \n",
    "    ctx, inpts, tgts, ref_inpts, ref_tgts, sel_tgt, \\\n",
    "    [scenario_id], real_ids, partner_real_ids, agents, chat_ids, sel_idxs, \\\n",
    "    lens, rev_idxs, hid_idxs, num_markables, \\\n",
    "    is_self, partner_ref_inpts, partner_ref_tgts_our_view, partner_num_markables,\\\n",
    "    ref_disagreements, partner_ref_disagreements, partner_ref_tgts, is_selections = instance\n",
    "    print('scenario_id: {}'.format(scenario_id))\n",
    "    \n",
    "    bsz = ctx.size(0)\n",
    "    num_dots = 7\n",
    "    \n",
    "    # assume we've been training for a while, so that the beliefs are out of the warmup period (e.g. for models that switch from true->predicted)\n",
    "    epoch = 1000\n",
    "    \n",
    "    dots_mentioned = make_dots_mentioned_multi(ref_tgts, model.args, bsz, num_dots)\n",
    "    dots_mentioned_per_ref = make_dots_mentioned_per_ref_multi(ref_tgts, model.args, bsz, num_dots)\n",
    "\n",
    "    partner_dots_mentioned_our_view = make_dots_mentioned_multi(\n",
    "        partner_ref_tgts_our_view, model.args, bsz, num_dots\n",
    "    )\n",
    "    partner_dots_mentioned_our_view_per_ref = make_dots_mentioned_per_ref_multi(\n",
    "        partner_ref_tgts_our_view, model.args, bsz, num_dots\n",
    "    )\n",
    "    \n",
    "    belief_constructor = BeliefConstructor(\n",
    "        model.args, epoch, bsz, num_dots, inpts, ref_tgts, partner_ref_tgts_our_view,\n",
    "        real_ids, partner_real_ids, sel_tgt, is_self,\n",
    "        partner_dots_mentioned_our_view, partner_dots_mentioned_our_view_per_ref,\n",
    "        dots_mentioned, dots_mentioned_per_ref,\n",
    "        ref_inpts, partner_ref_inpts,\n",
    "        num_markables, partner_num_markables,\n",
    "    )\n",
    "    \n",
    "    blank_belief_constructor = BlankBeliefConstructor()\n",
    "    \n",
    "    scenario = all_scenarios[scenario_id]\n",
    "    agent = RnnAgent(model, args, markable_detector=markable_detector)\n",
    "    agent.feed_context(ctx.flatten(),\n",
    "                       belief_constructor,\n",
    "                       num_markables_to_force=num_markables[0] if force_num_markables else None,\n",
    "                       min_num_mentions=min_num_mentions,\n",
    "                       max_num_mentions=max_num_mentions,\n",
    "                      )\n",
    "    agent.real_ids = real_ids\n",
    "    agent.agent_id = agents[0]\n",
    "\n",
    "    conv = []\n",
    "    speaker = []\n",
    "    words_left = 5000\n",
    "\n",
    "    sentence_ix = 0\n",
    "\n",
    "    assert len(inpts) == len(tgts)\n",
    "\n",
    "    while sentence_ix < len(inpts):\n",
    "        words_og = [corpus.word_dict.idx2word[ix] for ix in inpts[sentence_ix].flatten().numpy()]\n",
    "        if agent.reader_lang_hs:\n",
    "            print(agent.reader_lang_hs[-1].size())\n",
    "            \n",
    "        assert agent.state.turn == sentence_ix\n",
    "        current_sel_prob = agent.model.selection(\n",
    "            agent.state, torch.randn((1, 1, 512*2)), torch.LongTensor([0]),\n",
    "            beliefs=agent.state.make_beliefs(\n",
    "                'selection', agent.state.turn,  agent.partner_ref_outs + [None], agent.ref_outs + [None]\n",
    "            )\n",
    "        )[0].softmax(-1)\n",
    "        \n",
    "        display_attns(scenario, current_sel_prob, agent.agent_id, \"current_sel_prob: {}\".format(current_sel_prob.flatten()))\n",
    "        \n",
    "        if ref_inpts[sentence_ix] is not None:\n",
    "            dots_mentioned = (ref_tgts[sentence_ix].sum(dim=1) > 0)\n",
    "            dots_mentioned_per_ref = ref_tgts[sentence_ix]\n",
    "            this_num_markables = num_markables[sentence_ix]\n",
    "    #         display_attn(scenario, dots_mentioned.float(), agent.agent_id, name='dots_mentioned')\n",
    "            mentions = [dots_mentioned_per_ref[:,mention_ix].float()  for mention_ix in range(dots_mentioned_per_ref.size(1))]\n",
    "            nm_out, _, nm_num_markables = agent.next_mention_outs[-1]\n",
    "#             print('nm_num_markables: {}'.format(nm_num_markables))\n",
    "#             print('num_markables: {}'.format(this_num_markables))\n",
    "            if display_mentions and nm_out is not None:\n",
    "#                 print(nm_out[0].size())\n",
    "#                 dummy_targets = torch.zeros_like(nm_out[0].size())\n",
    "                dummy_targets = torch.zeros((1, nm_num_markables[0].item(), 7)).long()\n",
    "                _, nm_preds, _ = reference_predictor.forward(\n",
    "                    True, dummy_targets, nm_out, nm_num_markables\n",
    "                )\n",
    "#                 print(nm_preds.size())\n",
    "                if mention_marginals:\n",
    "                    display_attns(scenario, nm_out[0].sigmoid().squeeze(1).float(), agent.agent_id, \"to_mention_marginals\")\n",
    "                if mention_top_k is not None:\n",
    "                    cands = candidate_predictor.make_candidates(nm_out, nm_num_markables)[1]\n",
    "                    for ix in range(cands.size(2)):\n",
    "                        display_attns(scenario, cands[:,0,ix].float(), agent.agent_id, \"to_mention_candidate {}\".format(ix))\n",
    "                display_attns(scenario, nm_preds.squeeze(1).float(), agent.agent_id, \"to_mention_pred\")\n",
    "            else:\n",
    "                print(\"empty to_mention_pred\")\n",
    "            if display_mentions:\n",
    "                display_attns(scenario, mentions, agent.agent_id, \"to_mention_true\")\n",
    "            \n",
    "#             for mention_ix in range(dots_mentioned_per_ref.size(1)):\n",
    "#                 display_attn(scenario, dots_mentioned_per_ref[:,mention_ix].float(), agent.agent_id, name=f'dots_mentioned_{mention_ix}')\n",
    "        else:\n",
    "            dots_mentioned = torch.zeros(1, 7).bool()\n",
    "            dots_mentioned_per_ref = torch.zeros(1, 0, 7).bool()\n",
    "            this_num_markables = torch.LongTensor([0])\n",
    "            \n",
    "        if is_selection_prediction:\n",
    "            print(\"predicted is_selection probability\")\n",
    "            print(agent.is_selection_outs[-1].sigmoid())\n",
    "            print(\"is_selection: {}\".format(is_selections[sentence_ix]))\n",
    "\n",
    "        if is_self[sentence_ix]:\n",
    "            if inference == 'sample':\n",
    "                for sample_ix in range(candidates):\n",
    "                    pred_outs, _, _, _, extra = agent.model.write(\n",
    "                        agent.state, \n",
    "                        words_left, sample_temperature,\n",
    "                        dots_mentioned=dots_mentioned,\n",
    "                        dots_mentioned_per_ref=dots_mentioned_per_ref,\n",
    "                        num_markables=this_num_markables,\n",
    "                        is_selection=is_selections[sentence_ix],\n",
    "                    )\n",
    "                    print('sample {}\\t{}'.format(sample_ix, ' '.join(agent._decode(pred_outs, agent.model.word_dict))))\n",
    "            elif inference in ['beam', 'gumbel_beam']:\n",
    "                _, _, decoded = agent.model.write_beam(\n",
    "                    agent.state, candidates, words_left, \n",
    "                    dots_mentioned=dots_mentioned,\n",
    "                    dots_mentioned_per_ref=dots_mentioned_per_ref,\n",
    "                    num_markables=this_num_markables,\n",
    "                    temperature=sample_temperature if inference=='gumbel_beam' else 1.0,\n",
    "                    gumbel_noise=inference=='gumbel_beam',\n",
    "                    is_selection=is_selections[sentence_ix],\n",
    "                )\n",
    "                for cand_ix, utt in enumerate(decoded):\n",
    "                    print('beam {}\\t{}'.format(cand_ix, ' '.join(utt)))\n",
    "            else:\n",
    "                raise NotImplementedError(inference)\n",
    "            pred_outs, _, _, _, extra = agent.model.write(\n",
    "                agent.state, \n",
    "                words_left, argmax_temperature,\n",
    "                dots_mentioned=dots_mentioned,\n",
    "                dots_mentioned_per_ref=dots_mentioned_per_ref,\n",
    "                num_markables=this_num_markables,\n",
    "                is_selection=is_selections[sentence_ix],\n",
    "            )\n",
    "            print('greedy\\t{}'.format(' '.join(agent._decode(pred_outs, agent.model.word_dict))))\n",
    "    #         print(' '.join(words_og))\n",
    "    \n",
    "            rollout_sel_prob = selection_rollout(agent, dots_mentioned_per_ref)\n",
    "            display_attns(scenario, rollout_sel_prob, agent.agent_id, \"rollout_sel_prob: {}\".format(rollout_sel_prob.flatten()))\n",
    "\n",
    "            out = agent.write(\n",
    "                max_words=words_left,\n",
    "                force_words=[words_og],\n",
    "                start_token=words_og[0],\n",
    "                dots_mentioned=dots_mentioned,\n",
    "                dots_mentioned_per_ref=dots_mentioned_per_ref,\n",
    "                num_markables=this_num_markables,\n",
    "                ref_inpt=ref_inpts[sentence_ix],\n",
    "                detect_markables=detect_markables,\n",
    "                is_selection=is_selections[sentence_ix],\n",
    "#                 min_num_mentions=min_num_mentions,\n",
    "#                 max_num_mentions=max_num_mentions,\n",
    "            )\n",
    "        \n",
    "        else:\n",
    "            out = words_og\n",
    "            agent.read(words_og,\n",
    "                       dots_mentioned=dots_mentioned,\n",
    "                       dots_mentioned_per_ref=dots_mentioned_per_ref,\n",
    "                       num_markables=this_num_markables,\n",
    "                       partner_ref_inpt=partner_ref_inpts[sentence_ix],\n",
    "                       partner_num_markables=partner_num_markables[sentence_ix],\n",
    "                       next_num_markables_to_force=num_markables[sentence_ix + 1] if (force_num_markables and sentence_ix < len(num_markables) - 1) else None,\n",
    "                       detect_markables=detect_markables,\n",
    "                       min_num_mentions=min_num_mentions,\n",
    "                       max_num_mentions=max_num_mentions,\n",
    "                       is_selection=is_selections[sentence_ix],\n",
    "                       )\n",
    "        \n",
    "#         agent.update_dot_h(ref_inpts[sentence_ix], partner_ref_inpts[sentence_ix],\n",
    "#                             num_markables[sentence_ix], partner_num_markables[sentence_ix])\n",
    "            \n",
    "\n",
    "        print('human\\t{}'.format(' '.join(out)))\n",
    "    \n",
    "        if is_self[sentence_ix]:\n",
    "            if detect_markables:\n",
    "                print('detected markables:')\n",
    "                for markable in agent.markables[-1]:\n",
    "                    print(markable)\n",
    "                this_num_markables_pred = torch.LongTensor([len(agent.markables[-1])])\n",
    "                this_ref_inpts = agent.ref_inpts[-1]\n",
    "            elif ref_inpts[sentence_ix] is not None:\n",
    "                this_num_markables_pred = this_num_markables\n",
    "                this_ref_inpts = ref_inpt[sentence_ix]\n",
    "                \n",
    "                _, ref_preds, ref_stats = reference_predictor.forward(\n",
    "                    ref_inpts[sentence_ix], ref_tgts[sentence_ix], agent.ref_outs[-1], this_num_markables\n",
    "                )\n",
    "            else:\n",
    "                this_num_markables_pred = None\n",
    "            if this_num_markables_pred is not None:\n",
    "                dummy_targets = torch.zeros((1, this_num_markables_pred.item(), 7)).long()\n",
    "                _, ref_preds, _ = reference_predictor.forward(\n",
    "                    this_ref_inpts, dummy_targets, agent.ref_outs[-1], this_num_markables_pred\n",
    "                )\n",
    "#                 print(\"ref_preds size:\", ref_preds.size())\n",
    "                if agent.ref_outs[-1] is not None and ref_preds is not None and display_mentions:\n",
    "                    if ref_marginals:\n",
    "                        display_attns(scenario, agent.ref_outs[-1][0].sigmoid().squeeze(1), agent.agent_id, \"ref_marginal_probs\")\n",
    "                    display_attns(scenario, ref_preds.squeeze(1).float(), agent.agent_id, \"refs_pred\")\n",
    "                    display_attns(scenario, ref_tgts[sentence_ix].squeeze(0).float(), agent.agent_id, \"refs_true\")\n",
    "#                 print(ref_stats)\n",
    "            if out[0] != 'YOU':\n",
    "                utt = ['YOU:'] + out\n",
    "            else:\n",
    "                utt = out\n",
    "        else:\n",
    "            if detect_markables:\n",
    "                print('detected markables:')\n",
    "                for markable in agent.partner_markables[-1]:\n",
    "                    print(markable)\n",
    "                this_partner_num_markables_pred = torch.LongTensor([len(agent.partner_markables[-1])])\n",
    "                this_partner_ref_inpts = agent.partner_ref_inpts[-1]\n",
    "            elif partner_ref_inpts[sentence_ix] is not None:\n",
    "                this_partner_num_markables_pred = partner_num_markables[sentence_ix]\n",
    "                this_partner_ref_inpts = partner_ref_inpts[sentence_ix]\n",
    "            else:\n",
    "                this_partner_num_markables_pred = None\n",
    "            \n",
    "            if this_partner_num_markables_pred is not None:\n",
    "#                 _, partner_ref_preds, partner_ref_stats = reference_predictor.forward(\n",
    "#                     partner_ref_inpts[sentence_ix], partner_ref_tgts_our_view[sentence_ix],\n",
    "#                     agent.partner_ref_outs[-1], partner_num_markables[sentence_ix]\n",
    "#                 )\n",
    "                dummy_targets = torch.zeros((1, this_partner_num_markables_pred.item(), 7)).long()\n",
    "                _, partner_ref_preds, partner_ref_stats = reference_predictor.forward(\n",
    "                    this_partner_ref_inpts, dummy_targets,\n",
    "                    agent.partner_ref_outs[-1], this_partner_num_markables_pred,\n",
    "                )\n",
    "    #             print(partner_ref_preds)\n",
    "                if agent.partner_ref_outs[-1] is not None and partner_ref_preds is not None and display_mentions:\n",
    "                    if ref_marginals:\n",
    "                        display_attns(scenario, agent.partner_ref_outs[-1][0].sigmoid().squeeze(1), agent.agent_id, \"partner_ref_marginal_probs\")\n",
    "                    display_attns(scenario, partner_ref_preds.squeeze(1).float(), agent.agent_id, \"partner_refs_pred\")\n",
    "                    display_attns(scenario, partner_ref_tgts_our_view[sentence_ix].squeeze(0).float(), agent.agent_id, \"partner_refs_true\")\n",
    "                    display_attns(scenario, partner_ref_tgts[sentence_ix].squeeze(0).float(), 1 - agent.agent_id, \"partner_ref_true (their view)\")\n",
    "#                 print(partner_ref_stats)\n",
    "            if out[0] == 'THEM:':\n",
    "                utt = ['YOU:'] + out[1:]\n",
    "            else:\n",
    "                utt = ['YOU:'] + out\n",
    "        \n",
    "        print()\n",
    "        print('-'*40)\n",
    "        print()\n",
    "        words_left -= len(out)\n",
    "        conv.append(out)\n",
    "\n",
    "        if is_selection_function(out):\n",
    "            # sel_outs should be length 1\n",
    "            selection_logits, _, _ = agent.sel_outs[-1]\n",
    "            if display_mentions:\n",
    "                display_attns(scenario, selection_logits.softmax(-1), agent.agent_id, \"sel_pred\")\n",
    "            sel_true = torch.zeros(1,7)\n",
    "            sel_true[0,sel_tgt] = 1\n",
    "            if display_mentions:\n",
    "                display_attns(scenario, sel_true, agent.agent_id, \"sel_true\")\n",
    "        sentence_ix += 1"
   ]
  },
  {
   "cell_type": "code",
   "execution_count": 72,
   "metadata": {
    "scrolled": false
   },
   "outputs": [
    {
     "name": "stdout",
     "output_type": "stream",
     "text": [
      "scenario_id: S_xCSFNQ5dYj8dXvkD\n",
      "human\tTHEM: i have a small black dot , there is a larger but lighter dot , slightly on left and under it <eos>\n",
      "detected markables:\n",
      "{'start': 10, 'end': 27, 'is_self': True, 'text': 'a small black dot'}\n",
      "{'start': 39, 'end': 63, 'is_self': True, 'text': 'a larger but lighter dot'}\n",
      "{'start': 93, 'end': 95, 'is_self': True, 'text': 'it'}\n",
      "partner_ref_marginal_probs\n"
     ]
    },
    {
     "data": {
      "text/html": [
       "<div style=\"white-space: nowrap\"><svg viewbox='0 0 430 430' width=\"172\" height=\"172\" id=\"agent_1\"><circle cx=\"215\" cy=\"215\" r=\"205\" fill=\"none\" stroke=\"black\" stroke-width=\"2\" stroke-dasharray=\"3,3\"/><circle cx=\"51\" cy=\"206\" r=\"13\" fill=\"rgb(106,106,106)\"/><circle cx=\"83\" cy=\"312\" r=\"13\" fill=\"rgb(126,126,126)\"/><circle cx=\"175\" cy=\"147\" r=\"12\" fill=\"rgb(152,152,152)\"/><circle cx=\"395\" cy=\"263\" r=\"9\" fill=\"rgb(104,104,104)\"/><circle cx=\"130\" cy=\"204\" r=\"9\" fill=\"rgb(142,142,142)\"/><circle cx=\"183\" cy=\"80\" r=\"11\" fill=\"rgb(203,203,203)\"/><circle cx=\"83\" cy=\"192\" r=\"9\" fill=\"rgb(70,70,70)\"/></svg><svg viewBox='0 0 430 430' id=\"svg\" width=\"172\" height=\"172\"><circle cx=\"215\" cy=\"215\" r=\"205\" fill=\"none\" stroke=\"black\" stroke-width=\"2\" stroke-dasharray=\"3,3\"/> <circle cx=\"51\" cy=\"206\" r=\"13\" fill=\"rgb(255,254,254)\" class=\"agent_1_22\"/><circle cx=\"83\" cy=\"312\" r=\"13\" fill=\"rgb(255,254,254)\" class=\"agent_1_33\"/><circle cx=\"175\" cy=\"147\" r=\"12\" fill=\"rgb(255,254,254)\" class=\"agent_1_35\"/><circle cx=\"395\" cy=\"263\" r=\"9\" fill=\"rgb(255,254,254)\" class=\"agent_1_38\"/><circle cx=\"130\" cy=\"204\" r=\"9\" fill=\"rgb(255,254,254)\" class=\"agent_1_66\"/><circle cx=\"183\" cy=\"80\" r=\"11\" fill=\"rgb(255,254,254)\" class=\"agent_1_67\"/><circle cx=\"83\" cy=\"192\" r=\"9\" fill=\"rgb(255,0,0)\" class=\"agent_1_70\"/></svg><svg viewBox='0 0 430 430' id=\"svg\" width=\"172\" height=\"172\"><circle cx=\"215\" cy=\"215\" r=\"205\" fill=\"none\" stroke=\"black\" stroke-width=\"2\" stroke-dasharray=\"3,3\"/> <circle cx=\"51\" cy=\"206\" r=\"13\" fill=\"rgb(255,252,252)\" class=\"agent_1_22\"/><circle cx=\"83\" cy=\"312\" r=\"13\" fill=\"rgb(255,242,242)\" class=\"agent_1_33\"/><circle cx=\"175\" cy=\"147\" r=\"12\" fill=\"rgb(255,60,60)\" class=\"agent_1_35\"/><circle cx=\"395\" cy=\"263\" r=\"9\" fill=\"rgb(255,254,254)\" class=\"agent_1_38\"/><circle cx=\"130\" cy=\"204\" r=\"9\" fill=\"rgb(255,219,219)\" class=\"agent_1_66\"/><circle cx=\"183\" cy=\"80\" r=\"11\" fill=\"rgb(255,245,245)\" class=\"agent_1_67\"/><circle cx=\"83\" cy=\"192\" r=\"9\" fill=\"rgb(255,254,254)\" class=\"agent_1_70\"/></svg><svg viewBox='0 0 430 430' id=\"svg\" width=\"172\" height=\"172\"><circle cx=\"215\" cy=\"215\" r=\"205\" fill=\"none\" stroke=\"black\" stroke-width=\"2\" stroke-dasharray=\"3,3\"/> <circle cx=\"51\" cy=\"206\" r=\"13\" fill=\"rgb(255,254,254)\" class=\"agent_1_22\"/><circle cx=\"83\" cy=\"312\" r=\"13\" fill=\"rgb(255,254,254)\" class=\"agent_1_33\"/><circle cx=\"175\" cy=\"147\" r=\"12\" fill=\"rgb(255,254,254)\" class=\"agent_1_35\"/><circle cx=\"395\" cy=\"263\" r=\"9\" fill=\"rgb(255,254,254)\" class=\"agent_1_38\"/><circle cx=\"130\" cy=\"204\" r=\"9\" fill=\"rgb(255,253,253)\" class=\"agent_1_66\"/><circle cx=\"183\" cy=\"80\" r=\"11\" fill=\"rgb(255,254,254)\" class=\"agent_1_67\"/><circle cx=\"83\" cy=\"192\" r=\"9\" fill=\"rgb(255,7,7)\" class=\"agent_1_70\"/></svg></div>"
      ],
      "text/plain": [
       "<IPython.core.display.HTML object>"
      ]
     },
     "metadata": {},
     "output_type": "display_data"
    },
    {
     "name": "stdout",
     "output_type": "stream",
     "text": [
      "partner_refs_pred\n"
     ]
    },
    {
     "data": {
      "text/html": [
       "<div style=\"white-space: nowrap\"><svg viewbox='0 0 430 430' width=\"172\" height=\"172\" id=\"agent_1\"><circle cx=\"215\" cy=\"215\" r=\"205\" fill=\"none\" stroke=\"black\" stroke-width=\"2\" stroke-dasharray=\"3,3\"/><circle cx=\"51\" cy=\"206\" r=\"13\" fill=\"rgb(106,106,106)\"/><circle cx=\"83\" cy=\"312\" r=\"13\" fill=\"rgb(126,126,126)\"/><circle cx=\"175\" cy=\"147\" r=\"12\" fill=\"rgb(152,152,152)\"/><circle cx=\"395\" cy=\"263\" r=\"9\" fill=\"rgb(104,104,104)\"/><circle cx=\"130\" cy=\"204\" r=\"9\" fill=\"rgb(142,142,142)\"/><circle cx=\"183\" cy=\"80\" r=\"11\" fill=\"rgb(203,203,203)\"/><circle cx=\"83\" cy=\"192\" r=\"9\" fill=\"rgb(70,70,70)\"/></svg><svg viewBox='0 0 430 430' id=\"svg\" width=\"172\" height=\"172\"><circle cx=\"215\" cy=\"215\" r=\"205\" fill=\"none\" stroke=\"black\" stroke-width=\"2\" stroke-dasharray=\"3,3\"/> <circle cx=\"51\" cy=\"206\" r=\"13\" fill=\"rgb(255,255,255)\" class=\"agent_1_22\"/><circle cx=\"83\" cy=\"312\" r=\"13\" fill=\"rgb(255,255,255)\" class=\"agent_1_33\"/><circle cx=\"175\" cy=\"147\" r=\"12\" fill=\"rgb(255,255,255)\" class=\"agent_1_35\"/><circle cx=\"395\" cy=\"263\" r=\"9\" fill=\"rgb(255,255,255)\" class=\"agent_1_38\"/><circle cx=\"130\" cy=\"204\" r=\"9\" fill=\"rgb(255,255,255)\" class=\"agent_1_66\"/><circle cx=\"183\" cy=\"80\" r=\"11\" fill=\"rgb(255,255,255)\" class=\"agent_1_67\"/><circle cx=\"83\" cy=\"192\" r=\"9\" fill=\"rgb(255,0,0)\" class=\"agent_1_70\"/></svg><svg viewBox='0 0 430 430' id=\"svg\" width=\"172\" height=\"172\"><circle cx=\"215\" cy=\"215\" r=\"205\" fill=\"none\" stroke=\"black\" stroke-width=\"2\" stroke-dasharray=\"3,3\"/> <circle cx=\"51\" cy=\"206\" r=\"13\" fill=\"rgb(255,255,255)\" class=\"agent_1_22\"/><circle cx=\"83\" cy=\"312\" r=\"13\" fill=\"rgb(255,255,255)\" class=\"agent_1_33\"/><circle cx=\"175\" cy=\"147\" r=\"12\" fill=\"rgb(255,255,255)\" class=\"agent_1_35\"/><circle cx=\"395\" cy=\"263\" r=\"9\" fill=\"rgb(255,255,255)\" class=\"agent_1_38\"/><circle cx=\"130\" cy=\"204\" r=\"9\" fill=\"rgb(255,0,0)\" class=\"agent_1_66\"/><circle cx=\"183\" cy=\"80\" r=\"11\" fill=\"rgb(255,255,255)\" class=\"agent_1_67\"/><circle cx=\"83\" cy=\"192\" r=\"9\" fill=\"rgb(255,255,255)\" class=\"agent_1_70\"/></svg><svg viewBox='0 0 430 430' id=\"svg\" width=\"172\" height=\"172\"><circle cx=\"215\" cy=\"215\" r=\"205\" fill=\"none\" stroke=\"black\" stroke-width=\"2\" stroke-dasharray=\"3,3\"/> <circle cx=\"51\" cy=\"206\" r=\"13\" fill=\"rgb(255,255,255)\" class=\"agent_1_22\"/><circle cx=\"83\" cy=\"312\" r=\"13\" fill=\"rgb(255,255,255)\" class=\"agent_1_33\"/><circle cx=\"175\" cy=\"147\" r=\"12\" fill=\"rgb(255,255,255)\" class=\"agent_1_35\"/><circle cx=\"395\" cy=\"263\" r=\"9\" fill=\"rgb(255,255,255)\" class=\"agent_1_38\"/><circle cx=\"130\" cy=\"204\" r=\"9\" fill=\"rgb(255,255,255)\" class=\"agent_1_66\"/><circle cx=\"183\" cy=\"80\" r=\"11\" fill=\"rgb(255,255,255)\" class=\"agent_1_67\"/><circle cx=\"83\" cy=\"192\" r=\"9\" fill=\"rgb(255,0,0)\" class=\"agent_1_70\"/></svg></div>"
      ],
      "text/plain": [
       "<IPython.core.display.HTML object>"
      ]
     },
     "metadata": {},
     "output_type": "display_data"
    },
    {
     "name": "stdout",
     "output_type": "stream",
     "text": [
      "partner_refs_true\n"
     ]
    },
    {
     "data": {
      "text/html": [
       "<div style=\"white-space: nowrap\"><svg viewbox='0 0 430 430' width=\"172\" height=\"172\" id=\"agent_1\"><circle cx=\"215\" cy=\"215\" r=\"205\" fill=\"none\" stroke=\"black\" stroke-width=\"2\" stroke-dasharray=\"3,3\"/><circle cx=\"51\" cy=\"206\" r=\"13\" fill=\"rgb(106,106,106)\"/><circle cx=\"83\" cy=\"312\" r=\"13\" fill=\"rgb(126,126,126)\"/><circle cx=\"175\" cy=\"147\" r=\"12\" fill=\"rgb(152,152,152)\"/><circle cx=\"395\" cy=\"263\" r=\"9\" fill=\"rgb(104,104,104)\"/><circle cx=\"130\" cy=\"204\" r=\"9\" fill=\"rgb(142,142,142)\"/><circle cx=\"183\" cy=\"80\" r=\"11\" fill=\"rgb(203,203,203)\"/><circle cx=\"83\" cy=\"192\" r=\"9\" fill=\"rgb(70,70,70)\"/></svg><svg viewBox='0 0 430 430' id=\"svg\" width=\"172\" height=\"172\"><circle cx=\"215\" cy=\"215\" r=\"205\" fill=\"none\" stroke=\"black\" stroke-width=\"2\" stroke-dasharray=\"3,3\"/> <circle cx=\"51\" cy=\"206\" r=\"13\" fill=\"rgb(255,255,255)\" class=\"agent_1_22\"/><circle cx=\"83\" cy=\"312\" r=\"13\" fill=\"rgb(255,255,255)\" class=\"agent_1_33\"/><circle cx=\"175\" cy=\"147\" r=\"12\" fill=\"rgb(255,255,255)\" class=\"agent_1_35\"/><circle cx=\"395\" cy=\"263\" r=\"9\" fill=\"rgb(255,255,255)\" class=\"agent_1_38\"/><circle cx=\"130\" cy=\"204\" r=\"9\" fill=\"rgb(255,255,255)\" class=\"agent_1_66\"/><circle cx=\"183\" cy=\"80\" r=\"11\" fill=\"rgb(255,255,255)\" class=\"agent_1_67\"/><circle cx=\"83\" cy=\"192\" r=\"9\" fill=\"rgb(255,0,0)\" class=\"agent_1_70\"/></svg><svg viewBox='0 0 430 430' id=\"svg\" width=\"172\" height=\"172\"><circle cx=\"215\" cy=\"215\" r=\"205\" fill=\"none\" stroke=\"black\" stroke-width=\"2\" stroke-dasharray=\"3,3\"/> <circle cx=\"51\" cy=\"206\" r=\"13\" fill=\"rgb(255,0,0)\" class=\"agent_1_22\"/><circle cx=\"83\" cy=\"312\" r=\"13\" fill=\"rgb(255,255,255)\" class=\"agent_1_33\"/><circle cx=\"175\" cy=\"147\" r=\"12\" fill=\"rgb(255,255,255)\" class=\"agent_1_35\"/><circle cx=\"395\" cy=\"263\" r=\"9\" fill=\"rgb(255,255,255)\" class=\"agent_1_38\"/><circle cx=\"130\" cy=\"204\" r=\"9\" fill=\"rgb(255,255,255)\" class=\"agent_1_66\"/><circle cx=\"183\" cy=\"80\" r=\"11\" fill=\"rgb(255,255,255)\" class=\"agent_1_67\"/><circle cx=\"83\" cy=\"192\" r=\"9\" fill=\"rgb(255,255,255)\" class=\"agent_1_70\"/></svg><svg viewBox='0 0 430 430' id=\"svg\" width=\"172\" height=\"172\"><circle cx=\"215\" cy=\"215\" r=\"205\" fill=\"none\" stroke=\"black\" stroke-width=\"2\" stroke-dasharray=\"3,3\"/> <circle cx=\"51\" cy=\"206\" r=\"13\" fill=\"rgb(255,255,255)\" class=\"agent_1_22\"/><circle cx=\"83\" cy=\"312\" r=\"13\" fill=\"rgb(255,255,255)\" class=\"agent_1_33\"/><circle cx=\"175\" cy=\"147\" r=\"12\" fill=\"rgb(255,255,255)\" class=\"agent_1_35\"/><circle cx=\"395\" cy=\"263\" r=\"9\" fill=\"rgb(255,255,255)\" class=\"agent_1_38\"/><circle cx=\"130\" cy=\"204\" r=\"9\" fill=\"rgb(255,255,255)\" class=\"agent_1_66\"/><circle cx=\"183\" cy=\"80\" r=\"11\" fill=\"rgb(255,255,255)\" class=\"agent_1_67\"/><circle cx=\"83\" cy=\"192\" r=\"9\" fill=\"rgb(255,0,0)\" class=\"agent_1_70\"/></svg></div>"
      ],
      "text/plain": [
       "<IPython.core.display.HTML object>"
      ]
     },
     "metadata": {},
     "output_type": "display_data"
    },
    {
     "name": "stdout",
     "output_type": "stream",
     "text": [
      "partner_ref_true (their view)\n"
     ]
    },
    {
     "data": {
      "text/html": [
       "<div style=\"white-space: nowrap\"><svg viewbox='0 0 430 430' width=\"172\" height=\"172\" id=\"agent_0\"><circle cx=\"215\" cy=\"215\" r=\"205\" fill=\"none\" stroke=\"black\" stroke-width=\"2\" stroke-dasharray=\"3,3\"/><circle cx=\"134\" cy=\"286\" r=\"13\" fill=\"rgb(106,106,106)\"/><circle cx=\"166\" cy=\"392\" r=\"13\" fill=\"rgb(126,126,126)\"/><circle cx=\"258\" cy=\"227\" r=\"12\" fill=\"rgb(152,152,152)\"/><circle cx=\"94\" cy=\"169\" r=\"10\" fill=\"rgb(132,132,132)\"/><circle cx=\"213\" cy=\"284\" r=\"9\" fill=\"rgb(142,142,142)\"/><circle cx=\"266\" cy=\"160\" r=\"11\" fill=\"rgb(203,203,203)\"/><circle cx=\"166\" cy=\"272\" r=\"9\" fill=\"rgb(70,70,70)\"/></svg><svg viewBox='0 0 430 430' id=\"svg\" width=\"172\" height=\"172\"><circle cx=\"215\" cy=\"215\" r=\"205\" fill=\"none\" stroke=\"black\" stroke-width=\"2\" stroke-dasharray=\"3,3\"/> <circle cx=\"134\" cy=\"286\" r=\"13\" fill=\"rgb(255,255,255)\" class=\"agent_0_22\"/><circle cx=\"166\" cy=\"392\" r=\"13\" fill=\"rgb(255,255,255)\" class=\"agent_0_33\"/><circle cx=\"258\" cy=\"227\" r=\"12\" fill=\"rgb(255,255,255)\" class=\"agent_0_35\"/><circle cx=\"94\" cy=\"169\" r=\"10\" fill=\"rgb(255,255,255)\" class=\"agent_0_50\"/><circle cx=\"213\" cy=\"284\" r=\"9\" fill=\"rgb(255,255,255)\" class=\"agent_0_66\"/><circle cx=\"266\" cy=\"160\" r=\"11\" fill=\"rgb(255,255,255)\" class=\"agent_0_67\"/><circle cx=\"166\" cy=\"272\" r=\"9\" fill=\"rgb(255,0,0)\" class=\"agent_0_70\"/></svg><svg viewBox='0 0 430 430' id=\"svg\" width=\"172\" height=\"172\"><circle cx=\"215\" cy=\"215\" r=\"205\" fill=\"none\" stroke=\"black\" stroke-width=\"2\" stroke-dasharray=\"3,3\"/> <circle cx=\"134\" cy=\"286\" r=\"13\" fill=\"rgb(255,0,0)\" class=\"agent_0_22\"/><circle cx=\"166\" cy=\"392\" r=\"13\" fill=\"rgb(255,255,255)\" class=\"agent_0_33\"/><circle cx=\"258\" cy=\"227\" r=\"12\" fill=\"rgb(255,255,255)\" class=\"agent_0_35\"/><circle cx=\"94\" cy=\"169\" r=\"10\" fill=\"rgb(255,255,255)\" class=\"agent_0_50\"/><circle cx=\"213\" cy=\"284\" r=\"9\" fill=\"rgb(255,255,255)\" class=\"agent_0_66\"/><circle cx=\"266\" cy=\"160\" r=\"11\" fill=\"rgb(255,255,255)\" class=\"agent_0_67\"/><circle cx=\"166\" cy=\"272\" r=\"9\" fill=\"rgb(255,255,255)\" class=\"agent_0_70\"/></svg><svg viewBox='0 0 430 430' id=\"svg\" width=\"172\" height=\"172\"><circle cx=\"215\" cy=\"215\" r=\"205\" fill=\"none\" stroke=\"black\" stroke-width=\"2\" stroke-dasharray=\"3,3\"/> <circle cx=\"134\" cy=\"286\" r=\"13\" fill=\"rgb(255,255,255)\" class=\"agent_0_22\"/><circle cx=\"166\" cy=\"392\" r=\"13\" fill=\"rgb(255,255,255)\" class=\"agent_0_33\"/><circle cx=\"258\" cy=\"227\" r=\"12\" fill=\"rgb(255,255,255)\" class=\"agent_0_35\"/><circle cx=\"94\" cy=\"169\" r=\"10\" fill=\"rgb(255,255,255)\" class=\"agent_0_50\"/><circle cx=\"213\" cy=\"284\" r=\"9\" fill=\"rgb(255,255,255)\" class=\"agent_0_66\"/><circle cx=\"266\" cy=\"160\" r=\"11\" fill=\"rgb(255,255,255)\" class=\"agent_0_67\"/><circle cx=\"166\" cy=\"272\" r=\"9\" fill=\"rgb(255,0,0)\" class=\"agent_0_70\"/></svg></div>"
      ],
      "text/plain": [
       "<IPython.core.display.HTML object>"
      ]
     },
     "metadata": {},
     "output_type": "display_data"
    },
    {
     "name": "stdout",
     "output_type": "stream",
     "text": [
      "\n",
      "----------------------------------------\n",
      "\n",
      "to_mention_marginals\n"
     ]
    },
    {
     "data": {
      "text/html": [
       "<div style=\"white-space: nowrap\"><svg viewbox='0 0 430 430' width=\"172\" height=\"172\" id=\"agent_1\"><circle cx=\"215\" cy=\"215\" r=\"205\" fill=\"none\" stroke=\"black\" stroke-width=\"2\" stroke-dasharray=\"3,3\"/><circle cx=\"51\" cy=\"206\" r=\"13\" fill=\"rgb(106,106,106)\"/><circle cx=\"83\" cy=\"312\" r=\"13\" fill=\"rgb(126,126,126)\"/><circle cx=\"175\" cy=\"147\" r=\"12\" fill=\"rgb(152,152,152)\"/><circle cx=\"395\" cy=\"263\" r=\"9\" fill=\"rgb(104,104,104)\"/><circle cx=\"130\" cy=\"204\" r=\"9\" fill=\"rgb(142,142,142)\"/><circle cx=\"183\" cy=\"80\" r=\"11\" fill=\"rgb(203,203,203)\"/><circle cx=\"83\" cy=\"192\" r=\"9\" fill=\"rgb(70,70,70)\"/></svg><svg viewBox='0 0 430 430' id=\"svg\" width=\"172\" height=\"172\"><circle cx=\"215\" cy=\"215\" r=\"205\" fill=\"none\" stroke=\"black\" stroke-width=\"2\" stroke-dasharray=\"3,3\"/> <circle cx=\"51\" cy=\"206\" r=\"13\" fill=\"rgb(255,155,155)\" class=\"agent_1_22\"/><circle cx=\"83\" cy=\"312\" r=\"13\" fill=\"rgb(255,213,213)\" class=\"agent_1_33\"/><circle cx=\"175\" cy=\"147\" r=\"12\" fill=\"rgb(255,176,176)\" class=\"agent_1_35\"/><circle cx=\"395\" cy=\"263\" r=\"9\" fill=\"rgb(255,246,246)\" class=\"agent_1_38\"/><circle cx=\"130\" cy=\"204\" r=\"9\" fill=\"rgb(255,154,154)\" class=\"agent_1_66\"/><circle cx=\"183\" cy=\"80\" r=\"11\" fill=\"rgb(255,225,225)\" class=\"agent_1_67\"/><circle cx=\"83\" cy=\"192\" r=\"9\" fill=\"rgb(255,90,90)\" class=\"agent_1_70\"/></svg><svg viewBox='0 0 430 430' id=\"svg\" width=\"172\" height=\"172\"><circle cx=\"215\" cy=\"215\" r=\"205\" fill=\"none\" stroke=\"black\" stroke-width=\"2\" stroke-dasharray=\"3,3\"/> <circle cx=\"51\" cy=\"206\" r=\"13\" fill=\"rgb(255,175,175)\" class=\"agent_1_22\"/><circle cx=\"83\" cy=\"312\" r=\"13\" fill=\"rgb(255,179,179)\" class=\"agent_1_33\"/><circle cx=\"175\" cy=\"147\" r=\"12\" fill=\"rgb(255,170,170)\" class=\"agent_1_35\"/><circle cx=\"395\" cy=\"263\" r=\"9\" fill=\"rgb(255,204,204)\" class=\"agent_1_38\"/><circle cx=\"130\" cy=\"204\" r=\"9\" fill=\"rgb(255,178,178)\" class=\"agent_1_66\"/><circle cx=\"183\" cy=\"80\" r=\"11\" fill=\"rgb(255,192,192)\" class=\"agent_1_67\"/><circle cx=\"83\" cy=\"192\" r=\"9\" fill=\"rgb(255,149,149)\" class=\"agent_1_70\"/></svg><svg viewBox='0 0 430 430' id=\"svg\" width=\"172\" height=\"172\"><circle cx=\"215\" cy=\"215\" r=\"205\" fill=\"none\" stroke=\"black\" stroke-width=\"2\" stroke-dasharray=\"3,3\"/> <circle cx=\"51\" cy=\"206\" r=\"13\" fill=\"rgb(255,130,130)\" class=\"agent_1_22\"/><circle cx=\"83\" cy=\"312\" r=\"13\" fill=\"rgb(255,134,134)\" class=\"agent_1_33\"/><circle cx=\"175\" cy=\"147\" r=\"12\" fill=\"rgb(255,130,130)\" class=\"agent_1_35\"/><circle cx=\"395\" cy=\"263\" r=\"9\" fill=\"rgb(255,154,154)\" class=\"agent_1_38\"/><circle cx=\"130\" cy=\"204\" r=\"9\" fill=\"rgb(255,133,133)\" class=\"agent_1_66\"/><circle cx=\"183\" cy=\"80\" r=\"11\" fill=\"rgb(255,160,160)\" class=\"agent_1_67\"/><circle cx=\"83\" cy=\"192\" r=\"9\" fill=\"rgb(255,124,124)\" class=\"agent_1_70\"/></svg><svg viewBox='0 0 430 430' id=\"svg\" width=\"172\" height=\"172\"><circle cx=\"215\" cy=\"215\" r=\"205\" fill=\"none\" stroke=\"black\" stroke-width=\"2\" stroke-dasharray=\"3,3\"/> <circle cx=\"51\" cy=\"206\" r=\"13\" fill=\"rgb(255,135,135)\" class=\"agent_1_22\"/><circle cx=\"83\" cy=\"312\" r=\"13\" fill=\"rgb(255,137,137)\" class=\"agent_1_33\"/><circle cx=\"175\" cy=\"147\" r=\"12\" fill=\"rgb(255,133,133)\" class=\"agent_1_35\"/><circle cx=\"395\" cy=\"263\" r=\"9\" fill=\"rgb(255,161,161)\" class=\"agent_1_38\"/><circle cx=\"130\" cy=\"204\" r=\"9\" fill=\"rgb(255,134,134)\" class=\"agent_1_66\"/><circle cx=\"183\" cy=\"80\" r=\"11\" fill=\"rgb(255,167,167)\" class=\"agent_1_67\"/><circle cx=\"83\" cy=\"192\" r=\"9\" fill=\"rgb(255,129,129)\" class=\"agent_1_70\"/></svg><svg viewBox='0 0 430 430' id=\"svg\" width=\"172\" height=\"172\"><circle cx=\"215\" cy=\"215\" r=\"205\" fill=\"none\" stroke=\"black\" stroke-width=\"2\" stroke-dasharray=\"3,3\"/> <circle cx=\"51\" cy=\"206\" r=\"13\" fill=\"rgb(255,157,157)\" class=\"agent_1_22\"/><circle cx=\"83\" cy=\"312\" r=\"13\" fill=\"rgb(255,160,160)\" class=\"agent_1_33\"/><circle cx=\"175\" cy=\"147\" r=\"12\" fill=\"rgb(255,155,155)\" class=\"agent_1_35\"/><circle cx=\"395\" cy=\"263\" r=\"9\" fill=\"rgb(255,188,188)\" class=\"agent_1_38\"/><circle cx=\"130\" cy=\"204\" r=\"9\" fill=\"rgb(255,155,155)\" class=\"agent_1_66\"/><circle cx=\"183\" cy=\"80\" r=\"11\" fill=\"rgb(255,187,187)\" class=\"agent_1_67\"/><circle cx=\"83\" cy=\"192\" r=\"9\" fill=\"rgb(255,151,151)\" class=\"agent_1_70\"/></svg><svg viewBox='0 0 430 430' id=\"svg\" width=\"172\" height=\"172\"><circle cx=\"215\" cy=\"215\" r=\"205\" fill=\"none\" stroke=\"black\" stroke-width=\"2\" stroke-dasharray=\"3,3\"/> <circle cx=\"51\" cy=\"206\" r=\"13\" fill=\"rgb(255,171,171)\" class=\"agent_1_22\"/><circle cx=\"83\" cy=\"312\" r=\"13\" fill=\"rgb(255,174,174)\" class=\"agent_1_33\"/><circle cx=\"175\" cy=\"147\" r=\"12\" fill=\"rgb(255,168,168)\" class=\"agent_1_35\"/><circle cx=\"395\" cy=\"263\" r=\"9\" fill=\"rgb(255,201,201)\" class=\"agent_1_38\"/><circle cx=\"130\" cy=\"204\" r=\"9\" fill=\"rgb(255,167,167)\" class=\"agent_1_66\"/><circle cx=\"183\" cy=\"80\" r=\"11\" fill=\"rgb(255,196,196)\" class=\"agent_1_67\"/><circle cx=\"83\" cy=\"192\" r=\"9\" fill=\"rgb(255,161,161)\" class=\"agent_1_70\"/></svg></div>"
      ],
      "text/plain": [
       "<IPython.core.display.HTML object>"
      ]
     },
     "metadata": {},
     "output_type": "display_data"
    },
    {
     "name": "stdout",
     "output_type": "stream",
     "text": [
      "to_mention_pred\n"
     ]
    },
    {
     "data": {
      "text/html": [
       "<div style=\"white-space: nowrap\"><svg viewbox='0 0 430 430' width=\"172\" height=\"172\" id=\"agent_1\"><circle cx=\"215\" cy=\"215\" r=\"205\" fill=\"none\" stroke=\"black\" stroke-width=\"2\" stroke-dasharray=\"3,3\"/><circle cx=\"51\" cy=\"206\" r=\"13\" fill=\"rgb(106,106,106)\"/><circle cx=\"83\" cy=\"312\" r=\"13\" fill=\"rgb(126,126,126)\"/><circle cx=\"175\" cy=\"147\" r=\"12\" fill=\"rgb(152,152,152)\"/><circle cx=\"395\" cy=\"263\" r=\"9\" fill=\"rgb(104,104,104)\"/><circle cx=\"130\" cy=\"204\" r=\"9\" fill=\"rgb(142,142,142)\"/><circle cx=\"183\" cy=\"80\" r=\"11\" fill=\"rgb(203,203,203)\"/><circle cx=\"83\" cy=\"192\" r=\"9\" fill=\"rgb(70,70,70)\"/></svg><svg viewBox='0 0 430 430' id=\"svg\" width=\"172\" height=\"172\"><circle cx=\"215\" cy=\"215\" r=\"205\" fill=\"none\" stroke=\"black\" stroke-width=\"2\" stroke-dasharray=\"3,3\"/> <circle cx=\"51\" cy=\"206\" r=\"13\" fill=\"rgb(255,255,255)\" class=\"agent_1_22\"/><circle cx=\"83\" cy=\"312\" r=\"13\" fill=\"rgb(255,255,255)\" class=\"agent_1_33\"/><circle cx=\"175\" cy=\"147\" r=\"12\" fill=\"rgb(255,255,255)\" class=\"agent_1_35\"/><circle cx=\"395\" cy=\"263\" r=\"9\" fill=\"rgb(255,255,255)\" class=\"agent_1_38\"/><circle cx=\"130\" cy=\"204\" r=\"9\" fill=\"rgb(255,255,255)\" class=\"agent_1_66\"/><circle cx=\"183\" cy=\"80\" r=\"11\" fill=\"rgb(255,255,255)\" class=\"agent_1_67\"/><circle cx=\"83\" cy=\"192\" r=\"9\" fill=\"rgb(255,255,255)\" class=\"agent_1_70\"/></svg><svg viewBox='0 0 430 430' id=\"svg\" width=\"172\" height=\"172\"><circle cx=\"215\" cy=\"215\" r=\"205\" fill=\"none\" stroke=\"black\" stroke-width=\"2\" stroke-dasharray=\"3,3\"/> <circle cx=\"51\" cy=\"206\" r=\"13\" fill=\"rgb(255,255,255)\" class=\"agent_1_22\"/><circle cx=\"83\" cy=\"312\" r=\"13\" fill=\"rgb(255,255,255)\" class=\"agent_1_33\"/><circle cx=\"175\" cy=\"147\" r=\"12\" fill=\"rgb(255,255,255)\" class=\"agent_1_35\"/><circle cx=\"395\" cy=\"263\" r=\"9\" fill=\"rgb(255,255,255)\" class=\"agent_1_38\"/><circle cx=\"130\" cy=\"204\" r=\"9\" fill=\"rgb(255,255,255)\" class=\"agent_1_66\"/><circle cx=\"183\" cy=\"80\" r=\"11\" fill=\"rgb(255,255,255)\" class=\"agent_1_67\"/><circle cx=\"83\" cy=\"192\" r=\"9\" fill=\"rgb(255,255,255)\" class=\"agent_1_70\"/></svg><svg viewBox='0 0 430 430' id=\"svg\" width=\"172\" height=\"172\"><circle cx=\"215\" cy=\"215\" r=\"205\" fill=\"none\" stroke=\"black\" stroke-width=\"2\" stroke-dasharray=\"3,3\"/> <circle cx=\"51\" cy=\"206\" r=\"13\" fill=\"rgb(255,0,0)\" class=\"agent_1_22\"/><circle cx=\"83\" cy=\"312\" r=\"13\" fill=\"rgb(255,0,0)\" class=\"agent_1_33\"/><circle cx=\"175\" cy=\"147\" r=\"12\" fill=\"rgb(255,0,0)\" class=\"agent_1_35\"/><circle cx=\"395\" cy=\"263\" r=\"9\" fill=\"rgb(255,0,0)\" class=\"agent_1_38\"/><circle cx=\"130\" cy=\"204\" r=\"9\" fill=\"rgb(255,0,0)\" class=\"agent_1_66\"/><circle cx=\"183\" cy=\"80\" r=\"11\" fill=\"rgb(255,0,0)\" class=\"agent_1_67\"/><circle cx=\"83\" cy=\"192\" r=\"9\" fill=\"rgb(255,0,0)\" class=\"agent_1_70\"/></svg><svg viewBox='0 0 430 430' id=\"svg\" width=\"172\" height=\"172\"><circle cx=\"215\" cy=\"215\" r=\"205\" fill=\"none\" stroke=\"black\" stroke-width=\"2\" stroke-dasharray=\"3,3\"/> <circle cx=\"51\" cy=\"206\" r=\"13\" fill=\"rgb(255,255,255)\" class=\"agent_1_22\"/><circle cx=\"83\" cy=\"312\" r=\"13\" fill=\"rgb(255,255,255)\" class=\"agent_1_33\"/><circle cx=\"175\" cy=\"147\" r=\"12\" fill=\"rgb(255,255,255)\" class=\"agent_1_35\"/><circle cx=\"395\" cy=\"263\" r=\"9\" fill=\"rgb(255,255,255)\" class=\"agent_1_38\"/><circle cx=\"130\" cy=\"204\" r=\"9\" fill=\"rgb(255,255,255)\" class=\"agent_1_66\"/><circle cx=\"183\" cy=\"80\" r=\"11\" fill=\"rgb(255,255,255)\" class=\"agent_1_67\"/><circle cx=\"83\" cy=\"192\" r=\"9\" fill=\"rgb(255,255,255)\" class=\"agent_1_70\"/></svg><svg viewBox='0 0 430 430' id=\"svg\" width=\"172\" height=\"172\"><circle cx=\"215\" cy=\"215\" r=\"205\" fill=\"none\" stroke=\"black\" stroke-width=\"2\" stroke-dasharray=\"3,3\"/> <circle cx=\"51\" cy=\"206\" r=\"13\" fill=\"rgb(255,255,255)\" class=\"agent_1_22\"/><circle cx=\"83\" cy=\"312\" r=\"13\" fill=\"rgb(255,255,255)\" class=\"agent_1_33\"/><circle cx=\"175\" cy=\"147\" r=\"12\" fill=\"rgb(255,255,255)\" class=\"agent_1_35\"/><circle cx=\"395\" cy=\"263\" r=\"9\" fill=\"rgb(255,255,255)\" class=\"agent_1_38\"/><circle cx=\"130\" cy=\"204\" r=\"9\" fill=\"rgb(255,255,255)\" class=\"agent_1_66\"/><circle cx=\"183\" cy=\"80\" r=\"11\" fill=\"rgb(255,255,255)\" class=\"agent_1_67\"/><circle cx=\"83\" cy=\"192\" r=\"9\" fill=\"rgb(255,255,255)\" class=\"agent_1_70\"/></svg><svg viewBox='0 0 430 430' id=\"svg\" width=\"172\" height=\"172\"><circle cx=\"215\" cy=\"215\" r=\"205\" fill=\"none\" stroke=\"black\" stroke-width=\"2\" stroke-dasharray=\"3,3\"/> <circle cx=\"51\" cy=\"206\" r=\"13\" fill=\"rgb(255,255,255)\" class=\"agent_1_22\"/><circle cx=\"83\" cy=\"312\" r=\"13\" fill=\"rgb(255,255,255)\" class=\"agent_1_33\"/><circle cx=\"175\" cy=\"147\" r=\"12\" fill=\"rgb(255,255,255)\" class=\"agent_1_35\"/><circle cx=\"395\" cy=\"263\" r=\"9\" fill=\"rgb(255,255,255)\" class=\"agent_1_38\"/><circle cx=\"130\" cy=\"204\" r=\"9\" fill=\"rgb(255,255,255)\" class=\"agent_1_66\"/><circle cx=\"183\" cy=\"80\" r=\"11\" fill=\"rgb(255,255,255)\" class=\"agent_1_67\"/><circle cx=\"83\" cy=\"192\" r=\"9\" fill=\"rgb(255,255,255)\" class=\"agent_1_70\"/></svg></div>"
      ],
      "text/plain": [
       "<IPython.core.display.HTML object>"
      ]
     },
     "metadata": {},
     "output_type": "display_data"
    },
    {
     "name": "stdout",
     "output_type": "stream",
     "text": [
      "to_mention_true\n"
     ]
    },
    {
     "data": {
      "text/html": [
       "<div style=\"white-space: nowrap\"><svg viewbox='0 0 430 430' width=\"172\" height=\"172\" id=\"agent_1\"><circle cx=\"215\" cy=\"215\" r=\"205\" fill=\"none\" stroke=\"black\" stroke-width=\"2\" stroke-dasharray=\"3,3\"/><circle cx=\"51\" cy=\"206\" r=\"13\" fill=\"rgb(106,106,106)\"/><circle cx=\"83\" cy=\"312\" r=\"13\" fill=\"rgb(126,126,126)\"/><circle cx=\"175\" cy=\"147\" r=\"12\" fill=\"rgb(152,152,152)\"/><circle cx=\"395\" cy=\"263\" r=\"9\" fill=\"rgb(104,104,104)\"/><circle cx=\"130\" cy=\"204\" r=\"9\" fill=\"rgb(142,142,142)\"/><circle cx=\"183\" cy=\"80\" r=\"11\" fill=\"rgb(203,203,203)\"/><circle cx=\"83\" cy=\"192\" r=\"9\" fill=\"rgb(70,70,70)\"/></svg><svg viewBox='0 0 430 430' id=\"svg\" width=\"172\" height=\"172\"><circle cx=\"215\" cy=\"215\" r=\"205\" fill=\"none\" stroke=\"black\" stroke-width=\"2\" stroke-dasharray=\"3,3\"/> <circle cx=\"51\" cy=\"206\" r=\"13\" fill=\"rgb(255,255,255)\" class=\"agent_1_22\"/><circle cx=\"83\" cy=\"312\" r=\"13\" fill=\"rgb(255,255,255)\" class=\"agent_1_33\"/><circle cx=\"175\" cy=\"147\" r=\"12\" fill=\"rgb(255,255,255)\" class=\"agent_1_35\"/><circle cx=\"395\" cy=\"263\" r=\"9\" fill=\"rgb(255,0,0)\" class=\"agent_1_38\"/><circle cx=\"130\" cy=\"204\" r=\"9\" fill=\"rgb(255,255,255)\" class=\"agent_1_66\"/><circle cx=\"183\" cy=\"80\" r=\"11\" fill=\"rgb(255,255,255)\" class=\"agent_1_67\"/><circle cx=\"83\" cy=\"192\" r=\"9\" fill=\"rgb(255,255,255)\" class=\"agent_1_70\"/></svg><svg viewBox='0 0 430 430' id=\"svg\" width=\"172\" height=\"172\"><circle cx=\"215\" cy=\"215\" r=\"205\" fill=\"none\" stroke=\"black\" stroke-width=\"2\" stroke-dasharray=\"3,3\"/> <circle cx=\"51\" cy=\"206\" r=\"13\" fill=\"rgb(255,0,0)\" class=\"agent_1_22\"/><circle cx=\"83\" cy=\"312\" r=\"13\" fill=\"rgb(255,0,0)\" class=\"agent_1_33\"/><circle cx=\"175\" cy=\"147\" r=\"12\" fill=\"rgb(255,0,0)\" class=\"agent_1_35\"/><circle cx=\"395\" cy=\"263\" r=\"9\" fill=\"rgb(255,255,255)\" class=\"agent_1_38\"/><circle cx=\"130\" cy=\"204\" r=\"9\" fill=\"rgb(255,0,0)\" class=\"agent_1_66\"/><circle cx=\"183\" cy=\"80\" r=\"11\" fill=\"rgb(255,0,0)\" class=\"agent_1_67\"/><circle cx=\"83\" cy=\"192\" r=\"9\" fill=\"rgb(255,0,0)\" class=\"agent_1_70\"/></svg><svg viewBox='0 0 430 430' id=\"svg\" width=\"172\" height=\"172\"><circle cx=\"215\" cy=\"215\" r=\"205\" fill=\"none\" stroke=\"black\" stroke-width=\"2\" stroke-dasharray=\"3,3\"/> <circle cx=\"51\" cy=\"206\" r=\"13\" fill=\"rgb(255,255,255)\" class=\"agent_1_22\"/><circle cx=\"83\" cy=\"312\" r=\"13\" fill=\"rgb(255,255,255)\" class=\"agent_1_33\"/><circle cx=\"175\" cy=\"147\" r=\"12\" fill=\"rgb(255,255,255)\" class=\"agent_1_35\"/><circle cx=\"395\" cy=\"263\" r=\"9\" fill=\"rgb(255,0,0)\" class=\"agent_1_38\"/><circle cx=\"130\" cy=\"204\" r=\"9\" fill=\"rgb(255,255,255)\" class=\"agent_1_66\"/><circle cx=\"183\" cy=\"80\" r=\"11\" fill=\"rgb(255,255,255)\" class=\"agent_1_67\"/><circle cx=\"83\" cy=\"192\" r=\"9\" fill=\"rgb(255,255,255)\" class=\"agent_1_70\"/></svg><svg viewBox='0 0 430 430' id=\"svg\" width=\"172\" height=\"172\"><circle cx=\"215\" cy=\"215\" r=\"205\" fill=\"none\" stroke=\"black\" stroke-width=\"2\" stroke-dasharray=\"3,3\"/> <circle cx=\"51\" cy=\"206\" r=\"13\" fill=\"rgb(255,0,0)\" class=\"agent_1_22\"/><circle cx=\"83\" cy=\"312\" r=\"13\" fill=\"rgb(255,0,0)\" class=\"agent_1_33\"/><circle cx=\"175\" cy=\"147\" r=\"12\" fill=\"rgb(255,0,0)\" class=\"agent_1_35\"/><circle cx=\"395\" cy=\"263\" r=\"9\" fill=\"rgb(255,255,255)\" class=\"agent_1_38\"/><circle cx=\"130\" cy=\"204\" r=\"9\" fill=\"rgb(255,0,0)\" class=\"agent_1_66\"/><circle cx=\"183\" cy=\"80\" r=\"11\" fill=\"rgb(255,0,0)\" class=\"agent_1_67\"/><circle cx=\"83\" cy=\"192\" r=\"9\" fill=\"rgb(255,0,0)\" class=\"agent_1_70\"/></svg><svg viewBox='0 0 430 430' id=\"svg\" width=\"172\" height=\"172\"><circle cx=\"215\" cy=\"215\" r=\"205\" fill=\"none\" stroke=\"black\" stroke-width=\"2\" stroke-dasharray=\"3,3\"/> <circle cx=\"51\" cy=\"206\" r=\"13\" fill=\"rgb(255,255,255)\" class=\"agent_1_22\"/><circle cx=\"83\" cy=\"312\" r=\"13\" fill=\"rgb(255,255,255)\" class=\"agent_1_33\"/><circle cx=\"175\" cy=\"147\" r=\"12\" fill=\"rgb(255,255,255)\" class=\"agent_1_35\"/><circle cx=\"395\" cy=\"263\" r=\"9\" fill=\"rgb(255,255,255)\" class=\"agent_1_38\"/><circle cx=\"130\" cy=\"204\" r=\"9\" fill=\"rgb(255,255,255)\" class=\"agent_1_66\"/><circle cx=\"183\" cy=\"80\" r=\"11\" fill=\"rgb(255,255,255)\" class=\"agent_1_67\"/><circle cx=\"83\" cy=\"192\" r=\"9\" fill=\"rgb(255,0,0)\" class=\"agent_1_70\"/></svg><svg viewBox='0 0 430 430' id=\"svg\" width=\"172\" height=\"172\"><circle cx=\"215\" cy=\"215\" r=\"205\" fill=\"none\" stroke=\"black\" stroke-width=\"2\" stroke-dasharray=\"3,3\"/> <circle cx=\"51\" cy=\"206\" r=\"13\" fill=\"rgb(255,0,0)\" class=\"agent_1_22\"/><circle cx=\"83\" cy=\"312\" r=\"13\" fill=\"rgb(255,255,255)\" class=\"agent_1_33\"/><circle cx=\"175\" cy=\"147\" r=\"12\" fill=\"rgb(255,255,255)\" class=\"agent_1_35\"/><circle cx=\"395\" cy=\"263\" r=\"9\" fill=\"rgb(255,255,255)\" class=\"agent_1_38\"/><circle cx=\"130\" cy=\"204\" r=\"9\" fill=\"rgb(255,255,255)\" class=\"agent_1_66\"/><circle cx=\"183\" cy=\"80\" r=\"11\" fill=\"rgb(255,255,255)\" class=\"agent_1_67\"/><circle cx=\"83\" cy=\"192\" r=\"9\" fill=\"rgb(255,255,255)\" class=\"agent_1_70\"/></svg></div>"
      ],
      "text/plain": [
       "<IPython.core.display.HTML object>"
      ]
     },
     "metadata": {},
     "output_type": "display_data"
    },
    {
     "name": "stdout",
     "output_type": "stream",
     "text": [
      "beam 0\ti have a small light grey dot , and the rest are all of my dots . i have a large dark grey dot with a smaller darker dot to the right of it . they are all the same size <eos>\n",
      "greedy\ti have a small light grey dot , and the rest are all of my dots . i have a large dark grey dot with a smaller darker dot to the right of it . they are all the same size <eos>\n",
      "human\tlonely dark grey dot and a cluster of 6 dots far to the left of it . <unk> the cluster is a small black dot with a large , slightly lighter dot lower to the left <eos>\n",
      "detected markables:\n",
      "{'start': 3, 'end': 23, 'is_self': True, 'text': 'lonely dark grey dot'}\n",
      "{'start': 28, 'end': 47, 'is_self': True, 'text': 'a cluster of 6 dots'}\n",
      "{'start': 67, 'end': 69, 'is_self': True, 'text': 'it'}\n",
      "{'start': 78, 'end': 89, 'is_self': True, 'text': 'the cluster'}\n",
      "{'start': 93, 'end': 110, 'is_self': True, 'text': 'a small black dot'}\n",
      "{'start': 116, 'end': 146, 'is_self': True, 'text': 'a large , slightly lighter dot'}\n",
      "ref_marginal_probs\n"
     ]
    },
    {
     "data": {
      "text/html": [
       "<div style=\"white-space: nowrap\"><svg viewbox='0 0 430 430' width=\"172\" height=\"172\" id=\"agent_1\"><circle cx=\"215\" cy=\"215\" r=\"205\" fill=\"none\" stroke=\"black\" stroke-width=\"2\" stroke-dasharray=\"3,3\"/><circle cx=\"51\" cy=\"206\" r=\"13\" fill=\"rgb(106,106,106)\"/><circle cx=\"83\" cy=\"312\" r=\"13\" fill=\"rgb(126,126,126)\"/><circle cx=\"175\" cy=\"147\" r=\"12\" fill=\"rgb(152,152,152)\"/><circle cx=\"395\" cy=\"263\" r=\"9\" fill=\"rgb(104,104,104)\"/><circle cx=\"130\" cy=\"204\" r=\"9\" fill=\"rgb(142,142,142)\"/><circle cx=\"183\" cy=\"80\" r=\"11\" fill=\"rgb(203,203,203)\"/><circle cx=\"83\" cy=\"192\" r=\"9\" fill=\"rgb(70,70,70)\"/></svg><svg viewBox='0 0 430 430' id=\"svg\" width=\"172\" height=\"172\"><circle cx=\"215\" cy=\"215\" r=\"205\" fill=\"none\" stroke=\"black\" stroke-width=\"2\" stroke-dasharray=\"3,3\"/> <circle cx=\"51\" cy=\"206\" r=\"13\" fill=\"rgb(255,254,254)\" class=\"agent_1_22\"/><circle cx=\"83\" cy=\"312\" r=\"13\" fill=\"rgb(255,254,254)\" class=\"agent_1_33\"/><circle cx=\"175\" cy=\"147\" r=\"12\" fill=\"rgb(255,254,254)\" class=\"agent_1_35\"/><circle cx=\"395\" cy=\"263\" r=\"9\" fill=\"rgb(255,11,11)\" class=\"agent_1_38\"/><circle cx=\"130\" cy=\"204\" r=\"9\" fill=\"rgb(255,254,254)\" class=\"agent_1_66\"/><circle cx=\"183\" cy=\"80\" r=\"11\" fill=\"rgb(255,254,254)\" class=\"agent_1_67\"/><circle cx=\"83\" cy=\"192\" r=\"9\" fill=\"rgb(255,254,254)\" class=\"agent_1_70\"/></svg><svg viewBox='0 0 430 430' id=\"svg\" width=\"172\" height=\"172\"><circle cx=\"215\" cy=\"215\" r=\"205\" fill=\"none\" stroke=\"black\" stroke-width=\"2\" stroke-dasharray=\"3,3\"/> <circle cx=\"51\" cy=\"206\" r=\"13\" fill=\"rgb(255,0,0)\" class=\"agent_1_22\"/><circle cx=\"83\" cy=\"312\" r=\"13\" fill=\"rgb(255,0,0)\" class=\"agent_1_33\"/><circle cx=\"175\" cy=\"147\" r=\"12\" fill=\"rgb(255,0,0)\" class=\"agent_1_35\"/><circle cx=\"395\" cy=\"263\" r=\"9\" fill=\"rgb(255,222,222)\" class=\"agent_1_38\"/><circle cx=\"130\" cy=\"204\" r=\"9\" fill=\"rgb(255,0,0)\" class=\"agent_1_66\"/><circle cx=\"183\" cy=\"80\" r=\"11\" fill=\"rgb(255,0,0)\" class=\"agent_1_67\"/><circle cx=\"83\" cy=\"192\" r=\"9\" fill=\"rgb(255,0,0)\" class=\"agent_1_70\"/></svg><svg viewBox='0 0 430 430' id=\"svg\" width=\"172\" height=\"172\"><circle cx=\"215\" cy=\"215\" r=\"205\" fill=\"none\" stroke=\"black\" stroke-width=\"2\" stroke-dasharray=\"3,3\"/> <circle cx=\"51\" cy=\"206\" r=\"13\" fill=\"rgb(255,254,254)\" class=\"agent_1_22\"/><circle cx=\"83\" cy=\"312\" r=\"13\" fill=\"rgb(255,254,254)\" class=\"agent_1_33\"/><circle cx=\"175\" cy=\"147\" r=\"12\" fill=\"rgb(255,254,254)\" class=\"agent_1_35\"/><circle cx=\"395\" cy=\"263\" r=\"9\" fill=\"rgb(255,9,9)\" class=\"agent_1_38\"/><circle cx=\"130\" cy=\"204\" r=\"9\" fill=\"rgb(255,254,254)\" class=\"agent_1_66\"/><circle cx=\"183\" cy=\"80\" r=\"11\" fill=\"rgb(255,254,254)\" class=\"agent_1_67\"/><circle cx=\"83\" cy=\"192\" r=\"9\" fill=\"rgb(255,254,254)\" class=\"agent_1_70\"/></svg><svg viewBox='0 0 430 430' id=\"svg\" width=\"172\" height=\"172\"><circle cx=\"215\" cy=\"215\" r=\"205\" fill=\"none\" stroke=\"black\" stroke-width=\"2\" stroke-dasharray=\"3,3\"/> <circle cx=\"51\" cy=\"206\" r=\"13\" fill=\"rgb(255,0,0)\" class=\"agent_1_22\"/><circle cx=\"83\" cy=\"312\" r=\"13\" fill=\"rgb(255,0,0)\" class=\"agent_1_33\"/><circle cx=\"175\" cy=\"147\" r=\"12\" fill=\"rgb(255,0,0)\" class=\"agent_1_35\"/><circle cx=\"395\" cy=\"263\" r=\"9\" fill=\"rgb(255,254,254)\" class=\"agent_1_38\"/><circle cx=\"130\" cy=\"204\" r=\"9\" fill=\"rgb(255,0,0)\" class=\"agent_1_66\"/><circle cx=\"183\" cy=\"80\" r=\"11\" fill=\"rgb(255,1,1)\" class=\"agent_1_67\"/><circle cx=\"83\" cy=\"192\" r=\"9\" fill=\"rgb(255,0,0)\" class=\"agent_1_70\"/></svg><svg viewBox='0 0 430 430' id=\"svg\" width=\"172\" height=\"172\"><circle cx=\"215\" cy=\"215\" r=\"205\" fill=\"none\" stroke=\"black\" stroke-width=\"2\" stroke-dasharray=\"3,3\"/> <circle cx=\"51\" cy=\"206\" r=\"13\" fill=\"rgb(255,254,254)\" class=\"agent_1_22\"/><circle cx=\"83\" cy=\"312\" r=\"13\" fill=\"rgb(255,254,254)\" class=\"agent_1_33\"/><circle cx=\"175\" cy=\"147\" r=\"12\" fill=\"rgb(255,254,254)\" class=\"agent_1_35\"/><circle cx=\"395\" cy=\"263\" r=\"9\" fill=\"rgb(255,220,220)\" class=\"agent_1_38\"/><circle cx=\"130\" cy=\"204\" r=\"9\" fill=\"rgb(255,254,254)\" class=\"agent_1_66\"/><circle cx=\"183\" cy=\"80\" r=\"11\" fill=\"rgb(255,254,254)\" class=\"agent_1_67\"/><circle cx=\"83\" cy=\"192\" r=\"9\" fill=\"rgb(255,40,40)\" class=\"agent_1_70\"/></svg><svg viewBox='0 0 430 430' id=\"svg\" width=\"172\" height=\"172\"><circle cx=\"215\" cy=\"215\" r=\"205\" fill=\"none\" stroke=\"black\" stroke-width=\"2\" stroke-dasharray=\"3,3\"/> <circle cx=\"51\" cy=\"206\" r=\"13\" fill=\"rgb(255,214,214)\" class=\"agent_1_22\"/><circle cx=\"83\" cy=\"312\" r=\"13\" fill=\"rgb(255,193,193)\" class=\"agent_1_33\"/><circle cx=\"175\" cy=\"147\" r=\"12\" fill=\"rgb(255,109,109)\" class=\"agent_1_35\"/><circle cx=\"395\" cy=\"263\" r=\"9\" fill=\"rgb(255,253,253)\" class=\"agent_1_38\"/><circle cx=\"130\" cy=\"204\" r=\"9\" fill=\"rgb(255,252,252)\" class=\"agent_1_66\"/><circle cx=\"183\" cy=\"80\" r=\"11\" fill=\"rgb(255,252,252)\" class=\"agent_1_67\"/><circle cx=\"83\" cy=\"192\" r=\"9\" fill=\"rgb(255,254,254)\" class=\"agent_1_70\"/></svg></div>"
      ],
      "text/plain": [
       "<IPython.core.display.HTML object>"
      ]
     },
     "metadata": {},
     "output_type": "display_data"
    },
    {
     "name": "stdout",
     "output_type": "stream",
     "text": [
      "refs_pred\n"
     ]
    },
    {
     "data": {
      "text/html": [
       "<div style=\"white-space: nowrap\"><svg viewbox='0 0 430 430' width=\"172\" height=\"172\" id=\"agent_1\"><circle cx=\"215\" cy=\"215\" r=\"205\" fill=\"none\" stroke=\"black\" stroke-width=\"2\" stroke-dasharray=\"3,3\"/><circle cx=\"51\" cy=\"206\" r=\"13\" fill=\"rgb(106,106,106)\"/><circle cx=\"83\" cy=\"312\" r=\"13\" fill=\"rgb(126,126,126)\"/><circle cx=\"175\" cy=\"147\" r=\"12\" fill=\"rgb(152,152,152)\"/><circle cx=\"395\" cy=\"263\" r=\"9\" fill=\"rgb(104,104,104)\"/><circle cx=\"130\" cy=\"204\" r=\"9\" fill=\"rgb(142,142,142)\"/><circle cx=\"183\" cy=\"80\" r=\"11\" fill=\"rgb(203,203,203)\"/><circle cx=\"83\" cy=\"192\" r=\"9\" fill=\"rgb(70,70,70)\"/></svg><svg viewBox='0 0 430 430' id=\"svg\" width=\"172\" height=\"172\"><circle cx=\"215\" cy=\"215\" r=\"205\" fill=\"none\" stroke=\"black\" stroke-width=\"2\" stroke-dasharray=\"3,3\"/> <circle cx=\"51\" cy=\"206\" r=\"13\" fill=\"rgb(255,255,255)\" class=\"agent_1_22\"/><circle cx=\"83\" cy=\"312\" r=\"13\" fill=\"rgb(255,255,255)\" class=\"agent_1_33\"/><circle cx=\"175\" cy=\"147\" r=\"12\" fill=\"rgb(255,255,255)\" class=\"agent_1_35\"/><circle cx=\"395\" cy=\"263\" r=\"9\" fill=\"rgb(255,0,0)\" class=\"agent_1_38\"/><circle cx=\"130\" cy=\"204\" r=\"9\" fill=\"rgb(255,255,255)\" class=\"agent_1_66\"/><circle cx=\"183\" cy=\"80\" r=\"11\" fill=\"rgb(255,255,255)\" class=\"agent_1_67\"/><circle cx=\"83\" cy=\"192\" r=\"9\" fill=\"rgb(255,255,255)\" class=\"agent_1_70\"/></svg><svg viewBox='0 0 430 430' id=\"svg\" width=\"172\" height=\"172\"><circle cx=\"215\" cy=\"215\" r=\"205\" fill=\"none\" stroke=\"black\" stroke-width=\"2\" stroke-dasharray=\"3,3\"/> <circle cx=\"51\" cy=\"206\" r=\"13\" fill=\"rgb(255,0,0)\" class=\"agent_1_22\"/><circle cx=\"83\" cy=\"312\" r=\"13\" fill=\"rgb(255,0,0)\" class=\"agent_1_33\"/><circle cx=\"175\" cy=\"147\" r=\"12\" fill=\"rgb(255,0,0)\" class=\"agent_1_35\"/><circle cx=\"395\" cy=\"263\" r=\"9\" fill=\"rgb(255,255,255)\" class=\"agent_1_38\"/><circle cx=\"130\" cy=\"204\" r=\"9\" fill=\"rgb(255,0,0)\" class=\"agent_1_66\"/><circle cx=\"183\" cy=\"80\" r=\"11\" fill=\"rgb(255,0,0)\" class=\"agent_1_67\"/><circle cx=\"83\" cy=\"192\" r=\"9\" fill=\"rgb(255,0,0)\" class=\"agent_1_70\"/></svg><svg viewBox='0 0 430 430' id=\"svg\" width=\"172\" height=\"172\"><circle cx=\"215\" cy=\"215\" r=\"205\" fill=\"none\" stroke=\"black\" stroke-width=\"2\" stroke-dasharray=\"3,3\"/> <circle cx=\"51\" cy=\"206\" r=\"13\" fill=\"rgb(255,255,255)\" class=\"agent_1_22\"/><circle cx=\"83\" cy=\"312\" r=\"13\" fill=\"rgb(255,255,255)\" class=\"agent_1_33\"/><circle cx=\"175\" cy=\"147\" r=\"12\" fill=\"rgb(255,255,255)\" class=\"agent_1_35\"/><circle cx=\"395\" cy=\"263\" r=\"9\" fill=\"rgb(255,0,0)\" class=\"agent_1_38\"/><circle cx=\"130\" cy=\"204\" r=\"9\" fill=\"rgb(255,255,255)\" class=\"agent_1_66\"/><circle cx=\"183\" cy=\"80\" r=\"11\" fill=\"rgb(255,255,255)\" class=\"agent_1_67\"/><circle cx=\"83\" cy=\"192\" r=\"9\" fill=\"rgb(255,255,255)\" class=\"agent_1_70\"/></svg><svg viewBox='0 0 430 430' id=\"svg\" width=\"172\" height=\"172\"><circle cx=\"215\" cy=\"215\" r=\"205\" fill=\"none\" stroke=\"black\" stroke-width=\"2\" stroke-dasharray=\"3,3\"/> <circle cx=\"51\" cy=\"206\" r=\"13\" fill=\"rgb(255,0,0)\" class=\"agent_1_22\"/><circle cx=\"83\" cy=\"312\" r=\"13\" fill=\"rgb(255,0,0)\" class=\"agent_1_33\"/><circle cx=\"175\" cy=\"147\" r=\"12\" fill=\"rgb(255,0,0)\" class=\"agent_1_35\"/><circle cx=\"395\" cy=\"263\" r=\"9\" fill=\"rgb(255,255,255)\" class=\"agent_1_38\"/><circle cx=\"130\" cy=\"204\" r=\"9\" fill=\"rgb(255,0,0)\" class=\"agent_1_66\"/><circle cx=\"183\" cy=\"80\" r=\"11\" fill=\"rgb(255,0,0)\" class=\"agent_1_67\"/><circle cx=\"83\" cy=\"192\" r=\"9\" fill=\"rgb(255,0,0)\" class=\"agent_1_70\"/></svg><svg viewBox='0 0 430 430' id=\"svg\" width=\"172\" height=\"172\"><circle cx=\"215\" cy=\"215\" r=\"205\" fill=\"none\" stroke=\"black\" stroke-width=\"2\" stroke-dasharray=\"3,3\"/> <circle cx=\"51\" cy=\"206\" r=\"13\" fill=\"rgb(255,255,255)\" class=\"agent_1_22\"/><circle cx=\"83\" cy=\"312\" r=\"13\" fill=\"rgb(255,255,255)\" class=\"agent_1_33\"/><circle cx=\"175\" cy=\"147\" r=\"12\" fill=\"rgb(255,255,255)\" class=\"agent_1_35\"/><circle cx=\"395\" cy=\"263\" r=\"9\" fill=\"rgb(255,255,255)\" class=\"agent_1_38\"/><circle cx=\"130\" cy=\"204\" r=\"9\" fill=\"rgb(255,255,255)\" class=\"agent_1_66\"/><circle cx=\"183\" cy=\"80\" r=\"11\" fill=\"rgb(255,255,255)\" class=\"agent_1_67\"/><circle cx=\"83\" cy=\"192\" r=\"9\" fill=\"rgb(255,0,0)\" class=\"agent_1_70\"/></svg><svg viewBox='0 0 430 430' id=\"svg\" width=\"172\" height=\"172\"><circle cx=\"215\" cy=\"215\" r=\"205\" fill=\"none\" stroke=\"black\" stroke-width=\"2\" stroke-dasharray=\"3,3\"/> <circle cx=\"51\" cy=\"206\" r=\"13\" fill=\"rgb(255,0,0)\" class=\"agent_1_22\"/><circle cx=\"83\" cy=\"312\" r=\"13\" fill=\"rgb(255,255,255)\" class=\"agent_1_33\"/><circle cx=\"175\" cy=\"147\" r=\"12\" fill=\"rgb(255,255,255)\" class=\"agent_1_35\"/><circle cx=\"395\" cy=\"263\" r=\"9\" fill=\"rgb(255,255,255)\" class=\"agent_1_38\"/><circle cx=\"130\" cy=\"204\" r=\"9\" fill=\"rgb(255,255,255)\" class=\"agent_1_66\"/><circle cx=\"183\" cy=\"80\" r=\"11\" fill=\"rgb(255,255,255)\" class=\"agent_1_67\"/><circle cx=\"83\" cy=\"192\" r=\"9\" fill=\"rgb(255,255,255)\" class=\"agent_1_70\"/></svg></div>"
      ],
      "text/plain": [
       "<IPython.core.display.HTML object>"
      ]
     },
     "metadata": {},
     "output_type": "display_data"
    },
    {
     "name": "stdout",
     "output_type": "stream",
     "text": [
      "refs_true\n"
     ]
    },
    {
     "data": {
      "text/html": [
       "<div style=\"white-space: nowrap\"><svg viewbox='0 0 430 430' width=\"172\" height=\"172\" id=\"agent_1\"><circle cx=\"215\" cy=\"215\" r=\"205\" fill=\"none\" stroke=\"black\" stroke-width=\"2\" stroke-dasharray=\"3,3\"/><circle cx=\"51\" cy=\"206\" r=\"13\" fill=\"rgb(106,106,106)\"/><circle cx=\"83\" cy=\"312\" r=\"13\" fill=\"rgb(126,126,126)\"/><circle cx=\"175\" cy=\"147\" r=\"12\" fill=\"rgb(152,152,152)\"/><circle cx=\"395\" cy=\"263\" r=\"9\" fill=\"rgb(104,104,104)\"/><circle cx=\"130\" cy=\"204\" r=\"9\" fill=\"rgb(142,142,142)\"/><circle cx=\"183\" cy=\"80\" r=\"11\" fill=\"rgb(203,203,203)\"/><circle cx=\"83\" cy=\"192\" r=\"9\" fill=\"rgb(70,70,70)\"/></svg><svg viewBox='0 0 430 430' id=\"svg\" width=\"172\" height=\"172\"><circle cx=\"215\" cy=\"215\" r=\"205\" fill=\"none\" stroke=\"black\" stroke-width=\"2\" stroke-dasharray=\"3,3\"/> <circle cx=\"51\" cy=\"206\" r=\"13\" fill=\"rgb(255,255,255)\" class=\"agent_1_22\"/><circle cx=\"83\" cy=\"312\" r=\"13\" fill=\"rgb(255,255,255)\" class=\"agent_1_33\"/><circle cx=\"175\" cy=\"147\" r=\"12\" fill=\"rgb(255,255,255)\" class=\"agent_1_35\"/><circle cx=\"395\" cy=\"263\" r=\"9\" fill=\"rgb(255,0,0)\" class=\"agent_1_38\"/><circle cx=\"130\" cy=\"204\" r=\"9\" fill=\"rgb(255,255,255)\" class=\"agent_1_66\"/><circle cx=\"183\" cy=\"80\" r=\"11\" fill=\"rgb(255,255,255)\" class=\"agent_1_67\"/><circle cx=\"83\" cy=\"192\" r=\"9\" fill=\"rgb(255,255,255)\" class=\"agent_1_70\"/></svg><svg viewBox='0 0 430 430' id=\"svg\" width=\"172\" height=\"172\"><circle cx=\"215\" cy=\"215\" r=\"205\" fill=\"none\" stroke=\"black\" stroke-width=\"2\" stroke-dasharray=\"3,3\"/> <circle cx=\"51\" cy=\"206\" r=\"13\" fill=\"rgb(255,0,0)\" class=\"agent_1_22\"/><circle cx=\"83\" cy=\"312\" r=\"13\" fill=\"rgb(255,0,0)\" class=\"agent_1_33\"/><circle cx=\"175\" cy=\"147\" r=\"12\" fill=\"rgb(255,0,0)\" class=\"agent_1_35\"/><circle cx=\"395\" cy=\"263\" r=\"9\" fill=\"rgb(255,255,255)\" class=\"agent_1_38\"/><circle cx=\"130\" cy=\"204\" r=\"9\" fill=\"rgb(255,0,0)\" class=\"agent_1_66\"/><circle cx=\"183\" cy=\"80\" r=\"11\" fill=\"rgb(255,0,0)\" class=\"agent_1_67\"/><circle cx=\"83\" cy=\"192\" r=\"9\" fill=\"rgb(255,0,0)\" class=\"agent_1_70\"/></svg><svg viewBox='0 0 430 430' id=\"svg\" width=\"172\" height=\"172\"><circle cx=\"215\" cy=\"215\" r=\"205\" fill=\"none\" stroke=\"black\" stroke-width=\"2\" stroke-dasharray=\"3,3\"/> <circle cx=\"51\" cy=\"206\" r=\"13\" fill=\"rgb(255,255,255)\" class=\"agent_1_22\"/><circle cx=\"83\" cy=\"312\" r=\"13\" fill=\"rgb(255,255,255)\" class=\"agent_1_33\"/><circle cx=\"175\" cy=\"147\" r=\"12\" fill=\"rgb(255,255,255)\" class=\"agent_1_35\"/><circle cx=\"395\" cy=\"263\" r=\"9\" fill=\"rgb(255,0,0)\" class=\"agent_1_38\"/><circle cx=\"130\" cy=\"204\" r=\"9\" fill=\"rgb(255,255,255)\" class=\"agent_1_66\"/><circle cx=\"183\" cy=\"80\" r=\"11\" fill=\"rgb(255,255,255)\" class=\"agent_1_67\"/><circle cx=\"83\" cy=\"192\" r=\"9\" fill=\"rgb(255,255,255)\" class=\"agent_1_70\"/></svg><svg viewBox='0 0 430 430' id=\"svg\" width=\"172\" height=\"172\"><circle cx=\"215\" cy=\"215\" r=\"205\" fill=\"none\" stroke=\"black\" stroke-width=\"2\" stroke-dasharray=\"3,3\"/> <circle cx=\"51\" cy=\"206\" r=\"13\" fill=\"rgb(255,0,0)\" class=\"agent_1_22\"/><circle cx=\"83\" cy=\"312\" r=\"13\" fill=\"rgb(255,0,0)\" class=\"agent_1_33\"/><circle cx=\"175\" cy=\"147\" r=\"12\" fill=\"rgb(255,0,0)\" class=\"agent_1_35\"/><circle cx=\"395\" cy=\"263\" r=\"9\" fill=\"rgb(255,255,255)\" class=\"agent_1_38\"/><circle cx=\"130\" cy=\"204\" r=\"9\" fill=\"rgb(255,0,0)\" class=\"agent_1_66\"/><circle cx=\"183\" cy=\"80\" r=\"11\" fill=\"rgb(255,0,0)\" class=\"agent_1_67\"/><circle cx=\"83\" cy=\"192\" r=\"9\" fill=\"rgb(255,0,0)\" class=\"agent_1_70\"/></svg><svg viewBox='0 0 430 430' id=\"svg\" width=\"172\" height=\"172\"><circle cx=\"215\" cy=\"215\" r=\"205\" fill=\"none\" stroke=\"black\" stroke-width=\"2\" stroke-dasharray=\"3,3\"/> <circle cx=\"51\" cy=\"206\" r=\"13\" fill=\"rgb(255,255,255)\" class=\"agent_1_22\"/><circle cx=\"83\" cy=\"312\" r=\"13\" fill=\"rgb(255,255,255)\" class=\"agent_1_33\"/><circle cx=\"175\" cy=\"147\" r=\"12\" fill=\"rgb(255,255,255)\" class=\"agent_1_35\"/><circle cx=\"395\" cy=\"263\" r=\"9\" fill=\"rgb(255,255,255)\" class=\"agent_1_38\"/><circle cx=\"130\" cy=\"204\" r=\"9\" fill=\"rgb(255,255,255)\" class=\"agent_1_66\"/><circle cx=\"183\" cy=\"80\" r=\"11\" fill=\"rgb(255,255,255)\" class=\"agent_1_67\"/><circle cx=\"83\" cy=\"192\" r=\"9\" fill=\"rgb(255,0,0)\" class=\"agent_1_70\"/></svg><svg viewBox='0 0 430 430' id=\"svg\" width=\"172\" height=\"172\"><circle cx=\"215\" cy=\"215\" r=\"205\" fill=\"none\" stroke=\"black\" stroke-width=\"2\" stroke-dasharray=\"3,3\"/> <circle cx=\"51\" cy=\"206\" r=\"13\" fill=\"rgb(255,0,0)\" class=\"agent_1_22\"/><circle cx=\"83\" cy=\"312\" r=\"13\" fill=\"rgb(255,255,255)\" class=\"agent_1_33\"/><circle cx=\"175\" cy=\"147\" r=\"12\" fill=\"rgb(255,255,255)\" class=\"agent_1_35\"/><circle cx=\"395\" cy=\"263\" r=\"9\" fill=\"rgb(255,255,255)\" class=\"agent_1_38\"/><circle cx=\"130\" cy=\"204\" r=\"9\" fill=\"rgb(255,255,255)\" class=\"agent_1_66\"/><circle cx=\"183\" cy=\"80\" r=\"11\" fill=\"rgb(255,255,255)\" class=\"agent_1_67\"/><circle cx=\"83\" cy=\"192\" r=\"9\" fill=\"rgb(255,255,255)\" class=\"agent_1_70\"/></svg></div>"
      ],
      "text/plain": [
       "<IPython.core.display.HTML object>"
      ]
     },
     "metadata": {},
     "output_type": "display_data"
    },
    {
     "name": "stdout",
     "output_type": "stream",
     "text": [
      "\n",
      "----------------------------------------\n",
      "\n",
      "human\tTHEM: yes we are talking about the same , wan na select the black small dot ? <eos>\n",
      "detected markables:\n",
      "{'start': 53, 'end': 72, 'is_self': True, 'text': 'the black small dot'}\n",
      "partner_ref_marginal_probs\n"
     ]
    },
    {
     "data": {
      "text/html": [
       "<div style=\"white-space: nowrap\"><svg viewbox='0 0 430 430' width=\"172\" height=\"172\" id=\"agent_1\"><circle cx=\"215\" cy=\"215\" r=\"205\" fill=\"none\" stroke=\"black\" stroke-width=\"2\" stroke-dasharray=\"3,3\"/><circle cx=\"51\" cy=\"206\" r=\"13\" fill=\"rgb(106,106,106)\"/><circle cx=\"83\" cy=\"312\" r=\"13\" fill=\"rgb(126,126,126)\"/><circle cx=\"175\" cy=\"147\" r=\"12\" fill=\"rgb(152,152,152)\"/><circle cx=\"395\" cy=\"263\" r=\"9\" fill=\"rgb(104,104,104)\"/><circle cx=\"130\" cy=\"204\" r=\"9\" fill=\"rgb(142,142,142)\"/><circle cx=\"183\" cy=\"80\" r=\"11\" fill=\"rgb(203,203,203)\"/><circle cx=\"83\" cy=\"192\" r=\"9\" fill=\"rgb(70,70,70)\"/></svg><svg viewBox='0 0 430 430' id=\"svg\" width=\"172\" height=\"172\"><circle cx=\"215\" cy=\"215\" r=\"205\" fill=\"none\" stroke=\"black\" stroke-width=\"2\" stroke-dasharray=\"3,3\"/> <circle cx=\"51\" cy=\"206\" r=\"13\" fill=\"rgb(255,254,254)\" class=\"agent_1_22\"/><circle cx=\"83\" cy=\"312\" r=\"13\" fill=\"rgb(255,254,254)\" class=\"agent_1_33\"/><circle cx=\"175\" cy=\"147\" r=\"12\" fill=\"rgb(255,254,254)\" class=\"agent_1_35\"/><circle cx=\"395\" cy=\"263\" r=\"9\" fill=\"rgb(255,254,254)\" class=\"agent_1_38\"/><circle cx=\"130\" cy=\"204\" r=\"9\" fill=\"rgb(255,254,254)\" class=\"agent_1_66\"/><circle cx=\"183\" cy=\"80\" r=\"11\" fill=\"rgb(255,254,254)\" class=\"agent_1_67\"/><circle cx=\"83\" cy=\"192\" r=\"9\" fill=\"rgb(255,0,0)\" class=\"agent_1_70\"/></svg></div>"
      ],
      "text/plain": [
       "<IPython.core.display.HTML object>"
      ]
     },
     "metadata": {},
     "output_type": "display_data"
    },
    {
     "name": "stdout",
     "output_type": "stream",
     "text": [
      "partner_refs_pred\n"
     ]
    },
    {
     "data": {
      "text/html": [
       "<div style=\"white-space: nowrap\"><svg viewbox='0 0 430 430' width=\"172\" height=\"172\" id=\"agent_1\"><circle cx=\"215\" cy=\"215\" r=\"205\" fill=\"none\" stroke=\"black\" stroke-width=\"2\" stroke-dasharray=\"3,3\"/><circle cx=\"51\" cy=\"206\" r=\"13\" fill=\"rgb(106,106,106)\"/><circle cx=\"83\" cy=\"312\" r=\"13\" fill=\"rgb(126,126,126)\"/><circle cx=\"175\" cy=\"147\" r=\"12\" fill=\"rgb(152,152,152)\"/><circle cx=\"395\" cy=\"263\" r=\"9\" fill=\"rgb(104,104,104)\"/><circle cx=\"130\" cy=\"204\" r=\"9\" fill=\"rgb(142,142,142)\"/><circle cx=\"183\" cy=\"80\" r=\"11\" fill=\"rgb(203,203,203)\"/><circle cx=\"83\" cy=\"192\" r=\"9\" fill=\"rgb(70,70,70)\"/></svg><svg viewBox='0 0 430 430' id=\"svg\" width=\"172\" height=\"172\"><circle cx=\"215\" cy=\"215\" r=\"205\" fill=\"none\" stroke=\"black\" stroke-width=\"2\" stroke-dasharray=\"3,3\"/> <circle cx=\"51\" cy=\"206\" r=\"13\" fill=\"rgb(255,255,255)\" class=\"agent_1_22\"/><circle cx=\"83\" cy=\"312\" r=\"13\" fill=\"rgb(255,255,255)\" class=\"agent_1_33\"/><circle cx=\"175\" cy=\"147\" r=\"12\" fill=\"rgb(255,255,255)\" class=\"agent_1_35\"/><circle cx=\"395\" cy=\"263\" r=\"9\" fill=\"rgb(255,255,255)\" class=\"agent_1_38\"/><circle cx=\"130\" cy=\"204\" r=\"9\" fill=\"rgb(255,255,255)\" class=\"agent_1_66\"/><circle cx=\"183\" cy=\"80\" r=\"11\" fill=\"rgb(255,255,255)\" class=\"agent_1_67\"/><circle cx=\"83\" cy=\"192\" r=\"9\" fill=\"rgb(255,0,0)\" class=\"agent_1_70\"/></svg></div>"
      ],
      "text/plain": [
       "<IPython.core.display.HTML object>"
      ]
     },
     "metadata": {},
     "output_type": "display_data"
    },
    {
     "name": "stdout",
     "output_type": "stream",
     "text": [
      "partner_refs_true\n"
     ]
    },
    {
     "data": {
      "text/html": [
       "<div style=\"white-space: nowrap\"><svg viewbox='0 0 430 430' width=\"172\" height=\"172\" id=\"agent_1\"><circle cx=\"215\" cy=\"215\" r=\"205\" fill=\"none\" stroke=\"black\" stroke-width=\"2\" stroke-dasharray=\"3,3\"/><circle cx=\"51\" cy=\"206\" r=\"13\" fill=\"rgb(106,106,106)\"/><circle cx=\"83\" cy=\"312\" r=\"13\" fill=\"rgb(126,126,126)\"/><circle cx=\"175\" cy=\"147\" r=\"12\" fill=\"rgb(152,152,152)\"/><circle cx=\"395\" cy=\"263\" r=\"9\" fill=\"rgb(104,104,104)\"/><circle cx=\"130\" cy=\"204\" r=\"9\" fill=\"rgb(142,142,142)\"/><circle cx=\"183\" cy=\"80\" r=\"11\" fill=\"rgb(203,203,203)\"/><circle cx=\"83\" cy=\"192\" r=\"9\" fill=\"rgb(70,70,70)\"/></svg><svg viewBox='0 0 430 430' id=\"svg\" width=\"172\" height=\"172\"><circle cx=\"215\" cy=\"215\" r=\"205\" fill=\"none\" stroke=\"black\" stroke-width=\"2\" stroke-dasharray=\"3,3\"/> <circle cx=\"51\" cy=\"206\" r=\"13\" fill=\"rgb(255,0,0)\" class=\"agent_1_22\"/><circle cx=\"83\" cy=\"312\" r=\"13\" fill=\"rgb(255,255,255)\" class=\"agent_1_33\"/><circle cx=\"175\" cy=\"147\" r=\"12\" fill=\"rgb(255,255,255)\" class=\"agent_1_35\"/><circle cx=\"395\" cy=\"263\" r=\"9\" fill=\"rgb(255,255,255)\" class=\"agent_1_38\"/><circle cx=\"130\" cy=\"204\" r=\"9\" fill=\"rgb(255,255,255)\" class=\"agent_1_66\"/><circle cx=\"183\" cy=\"80\" r=\"11\" fill=\"rgb(255,255,255)\" class=\"agent_1_67\"/><circle cx=\"83\" cy=\"192\" r=\"9\" fill=\"rgb(255,0,0)\" class=\"agent_1_70\"/></svg><svg viewBox='0 0 430 430' id=\"svg\" width=\"172\" height=\"172\"><circle cx=\"215\" cy=\"215\" r=\"205\" fill=\"none\" stroke=\"black\" stroke-width=\"2\" stroke-dasharray=\"3,3\"/> <circle cx=\"51\" cy=\"206\" r=\"13\" fill=\"rgb(255,255,255)\" class=\"agent_1_22\"/><circle cx=\"83\" cy=\"312\" r=\"13\" fill=\"rgb(255,255,255)\" class=\"agent_1_33\"/><circle cx=\"175\" cy=\"147\" r=\"12\" fill=\"rgb(255,255,255)\" class=\"agent_1_35\"/><circle cx=\"395\" cy=\"263\" r=\"9\" fill=\"rgb(255,255,255)\" class=\"agent_1_38\"/><circle cx=\"130\" cy=\"204\" r=\"9\" fill=\"rgb(255,255,255)\" class=\"agent_1_66\"/><circle cx=\"183\" cy=\"80\" r=\"11\" fill=\"rgb(255,255,255)\" class=\"agent_1_67\"/><circle cx=\"83\" cy=\"192\" r=\"9\" fill=\"rgb(255,0,0)\" class=\"agent_1_70\"/></svg></div>"
      ],
      "text/plain": [
       "<IPython.core.display.HTML object>"
      ]
     },
     "metadata": {},
     "output_type": "display_data"
    },
    {
     "name": "stdout",
     "output_type": "stream",
     "text": [
      "partner_ref_true (their view)\n"
     ]
    },
    {
     "data": {
      "text/html": [
       "<div style=\"white-space: nowrap\"><svg viewbox='0 0 430 430' width=\"172\" height=\"172\" id=\"agent_0\"><circle cx=\"215\" cy=\"215\" r=\"205\" fill=\"none\" stroke=\"black\" stroke-width=\"2\" stroke-dasharray=\"3,3\"/><circle cx=\"134\" cy=\"286\" r=\"13\" fill=\"rgb(106,106,106)\"/><circle cx=\"166\" cy=\"392\" r=\"13\" fill=\"rgb(126,126,126)\"/><circle cx=\"258\" cy=\"227\" r=\"12\" fill=\"rgb(152,152,152)\"/><circle cx=\"94\" cy=\"169\" r=\"10\" fill=\"rgb(132,132,132)\"/><circle cx=\"213\" cy=\"284\" r=\"9\" fill=\"rgb(142,142,142)\"/><circle cx=\"266\" cy=\"160\" r=\"11\" fill=\"rgb(203,203,203)\"/><circle cx=\"166\" cy=\"272\" r=\"9\" fill=\"rgb(70,70,70)\"/></svg><svg viewBox='0 0 430 430' id=\"svg\" width=\"172\" height=\"172\"><circle cx=\"215\" cy=\"215\" r=\"205\" fill=\"none\" stroke=\"black\" stroke-width=\"2\" stroke-dasharray=\"3,3\"/> <circle cx=\"134\" cy=\"286\" r=\"13\" fill=\"rgb(255,0,0)\" class=\"agent_0_22\"/><circle cx=\"166\" cy=\"392\" r=\"13\" fill=\"rgb(255,255,255)\" class=\"agent_0_33\"/><circle cx=\"258\" cy=\"227\" r=\"12\" fill=\"rgb(255,255,255)\" class=\"agent_0_35\"/><circle cx=\"94\" cy=\"169\" r=\"10\" fill=\"rgb(255,255,255)\" class=\"agent_0_50\"/><circle cx=\"213\" cy=\"284\" r=\"9\" fill=\"rgb(255,255,255)\" class=\"agent_0_66\"/><circle cx=\"266\" cy=\"160\" r=\"11\" fill=\"rgb(255,255,255)\" class=\"agent_0_67\"/><circle cx=\"166\" cy=\"272\" r=\"9\" fill=\"rgb(255,0,0)\" class=\"agent_0_70\"/></svg><svg viewBox='0 0 430 430' id=\"svg\" width=\"172\" height=\"172\"><circle cx=\"215\" cy=\"215\" r=\"205\" fill=\"none\" stroke=\"black\" stroke-width=\"2\" stroke-dasharray=\"3,3\"/> <circle cx=\"134\" cy=\"286\" r=\"13\" fill=\"rgb(255,255,255)\" class=\"agent_0_22\"/><circle cx=\"166\" cy=\"392\" r=\"13\" fill=\"rgb(255,255,255)\" class=\"agent_0_33\"/><circle cx=\"258\" cy=\"227\" r=\"12\" fill=\"rgb(255,255,255)\" class=\"agent_0_35\"/><circle cx=\"94\" cy=\"169\" r=\"10\" fill=\"rgb(255,255,255)\" class=\"agent_0_50\"/><circle cx=\"213\" cy=\"284\" r=\"9\" fill=\"rgb(255,255,255)\" class=\"agent_0_66\"/><circle cx=\"266\" cy=\"160\" r=\"11\" fill=\"rgb(255,255,255)\" class=\"agent_0_67\"/><circle cx=\"166\" cy=\"272\" r=\"9\" fill=\"rgb(255,0,0)\" class=\"agent_0_70\"/></svg></div>"
      ],
      "text/plain": [
       "<IPython.core.display.HTML object>"
      ]
     },
     "metadata": {},
     "output_type": "display_data"
    },
    {
     "name": "stdout",
     "output_type": "stream",
     "text": [
      "\n",
      "----------------------------------------\n",
      "\n",
      "to_mention_marginals\n"
     ]
    },
    {
     "data": {
      "text/html": [
       "<div style=\"white-space: nowrap\"><svg viewbox='0 0 430 430' width=\"172\" height=\"172\" id=\"agent_1\"><circle cx=\"215\" cy=\"215\" r=\"205\" fill=\"none\" stroke=\"black\" stroke-width=\"2\" stroke-dasharray=\"3,3\"/><circle cx=\"51\" cy=\"206\" r=\"13\" fill=\"rgb(106,106,106)\"/><circle cx=\"83\" cy=\"312\" r=\"13\" fill=\"rgb(126,126,126)\"/><circle cx=\"175\" cy=\"147\" r=\"12\" fill=\"rgb(152,152,152)\"/><circle cx=\"395\" cy=\"263\" r=\"9\" fill=\"rgb(104,104,104)\"/><circle cx=\"130\" cy=\"204\" r=\"9\" fill=\"rgb(142,142,142)\"/><circle cx=\"183\" cy=\"80\" r=\"11\" fill=\"rgb(203,203,203)\"/><circle cx=\"83\" cy=\"192\" r=\"9\" fill=\"rgb(70,70,70)\"/></svg><svg viewBox='0 0 430 430' id=\"svg\" width=\"172\" height=\"172\"><circle cx=\"215\" cy=\"215\" r=\"205\" fill=\"none\" stroke=\"black\" stroke-width=\"2\" stroke-dasharray=\"3,3\"/> <circle cx=\"51\" cy=\"206\" r=\"13\" fill=\"rgb(255,251,251)\" class=\"agent_1_22\"/><circle cx=\"83\" cy=\"312\" r=\"13\" fill=\"rgb(255,252,252)\" class=\"agent_1_33\"/><circle cx=\"175\" cy=\"147\" r=\"12\" fill=\"rgb(255,250,250)\" class=\"agent_1_35\"/><circle cx=\"395\" cy=\"263\" r=\"9\" fill=\"rgb(255,253,253)\" class=\"agent_1_38\"/><circle cx=\"130\" cy=\"204\" r=\"9\" fill=\"rgb(255,251,251)\" class=\"agent_1_66\"/><circle cx=\"183\" cy=\"80\" r=\"11\" fill=\"rgb(255,251,251)\" class=\"agent_1_67\"/><circle cx=\"83\" cy=\"192\" r=\"9\" fill=\"rgb(255,19,19)\" class=\"agent_1_70\"/></svg></div>"
      ],
      "text/plain": [
       "<IPython.core.display.HTML object>"
      ]
     },
     "metadata": {},
     "output_type": "display_data"
    },
    {
     "name": "stdout",
     "output_type": "stream",
     "text": [
      "to_mention_pred\n"
     ]
    },
    {
     "data": {
      "text/html": [
       "<div style=\"white-space: nowrap\"><svg viewbox='0 0 430 430' width=\"172\" height=\"172\" id=\"agent_1\"><circle cx=\"215\" cy=\"215\" r=\"205\" fill=\"none\" stroke=\"black\" stroke-width=\"2\" stroke-dasharray=\"3,3\"/><circle cx=\"51\" cy=\"206\" r=\"13\" fill=\"rgb(106,106,106)\"/><circle cx=\"83\" cy=\"312\" r=\"13\" fill=\"rgb(126,126,126)\"/><circle cx=\"175\" cy=\"147\" r=\"12\" fill=\"rgb(152,152,152)\"/><circle cx=\"395\" cy=\"263\" r=\"9\" fill=\"rgb(104,104,104)\"/><circle cx=\"130\" cy=\"204\" r=\"9\" fill=\"rgb(142,142,142)\"/><circle cx=\"183\" cy=\"80\" r=\"11\" fill=\"rgb(203,203,203)\"/><circle cx=\"83\" cy=\"192\" r=\"9\" fill=\"rgb(70,70,70)\"/></svg><svg viewBox='0 0 430 430' id=\"svg\" width=\"172\" height=\"172\"><circle cx=\"215\" cy=\"215\" r=\"205\" fill=\"none\" stroke=\"black\" stroke-width=\"2\" stroke-dasharray=\"3,3\"/> <circle cx=\"51\" cy=\"206\" r=\"13\" fill=\"rgb(255,255,255)\" class=\"agent_1_22\"/><circle cx=\"83\" cy=\"312\" r=\"13\" fill=\"rgb(255,255,255)\" class=\"agent_1_33\"/><circle cx=\"175\" cy=\"147\" r=\"12\" fill=\"rgb(255,255,255)\" class=\"agent_1_35\"/><circle cx=\"395\" cy=\"263\" r=\"9\" fill=\"rgb(255,255,255)\" class=\"agent_1_38\"/><circle cx=\"130\" cy=\"204\" r=\"9\" fill=\"rgb(255,255,255)\" class=\"agent_1_66\"/><circle cx=\"183\" cy=\"80\" r=\"11\" fill=\"rgb(255,255,255)\" class=\"agent_1_67\"/><circle cx=\"83\" cy=\"192\" r=\"9\" fill=\"rgb(255,0,0)\" class=\"agent_1_70\"/></svg></div>"
      ],
      "text/plain": [
       "<IPython.core.display.HTML object>"
      ]
     },
     "metadata": {},
     "output_type": "display_data"
    },
    {
     "name": "stdout",
     "output_type": "stream",
     "text": [
      "to_mention_true\n"
     ]
    },
    {
     "data": {
      "text/html": [
       "<div style=\"white-space: nowrap\"><svg viewbox='0 0 430 430' width=\"172\" height=\"172\" id=\"agent_1\"><circle cx=\"215\" cy=\"215\" r=\"205\" fill=\"none\" stroke=\"black\" stroke-width=\"2\" stroke-dasharray=\"3,3\"/><circle cx=\"51\" cy=\"206\" r=\"13\" fill=\"rgb(106,106,106)\"/><circle cx=\"83\" cy=\"312\" r=\"13\" fill=\"rgb(126,126,126)\"/><circle cx=\"175\" cy=\"147\" r=\"12\" fill=\"rgb(152,152,152)\"/><circle cx=\"395\" cy=\"263\" r=\"9\" fill=\"rgb(104,104,104)\"/><circle cx=\"130\" cy=\"204\" r=\"9\" fill=\"rgb(142,142,142)\"/><circle cx=\"183\" cy=\"80\" r=\"11\" fill=\"rgb(203,203,203)\"/><circle cx=\"83\" cy=\"192\" r=\"9\" fill=\"rgb(70,70,70)\"/></svg><svg viewBox='0 0 430 430' id=\"svg\" width=\"172\" height=\"172\"><circle cx=\"215\" cy=\"215\" r=\"205\" fill=\"none\" stroke=\"black\" stroke-width=\"2\" stroke-dasharray=\"3,3\"/> <circle cx=\"51\" cy=\"206\" r=\"13\" fill=\"rgb(255,255,255)\" class=\"agent_1_22\"/><circle cx=\"83\" cy=\"312\" r=\"13\" fill=\"rgb(255,255,255)\" class=\"agent_1_33\"/><circle cx=\"175\" cy=\"147\" r=\"12\" fill=\"rgb(255,255,255)\" class=\"agent_1_35\"/><circle cx=\"395\" cy=\"263\" r=\"9\" fill=\"rgb(255,255,255)\" class=\"agent_1_38\"/><circle cx=\"130\" cy=\"204\" r=\"9\" fill=\"rgb(255,255,255)\" class=\"agent_1_66\"/><circle cx=\"183\" cy=\"80\" r=\"11\" fill=\"rgb(255,255,255)\" class=\"agent_1_67\"/><circle cx=\"83\" cy=\"192\" r=\"9\" fill=\"rgb(255,0,0)\" class=\"agent_1_70\"/></svg></div>"
      ],
      "text/plain": [
       "<IPython.core.display.HTML object>"
      ]
     },
     "metadata": {},
     "output_type": "display_data"
    },
    {
     "name": "stdout",
     "output_type": "stream",
     "text": [
      "beam 0\tyes , let 's pick the black one . <selection>\n",
      "greedy\tyes , let 's pick the black one . <selection>\n",
      "human\tyea , let 's do it <selection>\n",
      "detected markables:\n",
      "{'start': 19, 'end': 21, 'is_self': True, 'text': 'it'}\n",
      "ref_marginal_probs\n"
     ]
    },
    {
     "data": {
      "text/html": [
       "<div style=\"white-space: nowrap\"><svg viewbox='0 0 430 430' width=\"172\" height=\"172\" id=\"agent_1\"><circle cx=\"215\" cy=\"215\" r=\"205\" fill=\"none\" stroke=\"black\" stroke-width=\"2\" stroke-dasharray=\"3,3\"/><circle cx=\"51\" cy=\"206\" r=\"13\" fill=\"rgb(106,106,106)\"/><circle cx=\"83\" cy=\"312\" r=\"13\" fill=\"rgb(126,126,126)\"/><circle cx=\"175\" cy=\"147\" r=\"12\" fill=\"rgb(152,152,152)\"/><circle cx=\"395\" cy=\"263\" r=\"9\" fill=\"rgb(104,104,104)\"/><circle cx=\"130\" cy=\"204\" r=\"9\" fill=\"rgb(142,142,142)\"/><circle cx=\"183\" cy=\"80\" r=\"11\" fill=\"rgb(203,203,203)\"/><circle cx=\"83\" cy=\"192\" r=\"9\" fill=\"rgb(70,70,70)\"/></svg><svg viewBox='0 0 430 430' id=\"svg\" width=\"172\" height=\"172\"><circle cx=\"215\" cy=\"215\" r=\"205\" fill=\"none\" stroke=\"black\" stroke-width=\"2\" stroke-dasharray=\"3,3\"/> <circle cx=\"51\" cy=\"206\" r=\"13\" fill=\"rgb(255,254,254)\" class=\"agent_1_22\"/><circle cx=\"83\" cy=\"312\" r=\"13\" fill=\"rgb(255,254,254)\" class=\"agent_1_33\"/><circle cx=\"175\" cy=\"147\" r=\"12\" fill=\"rgb(255,254,254)\" class=\"agent_1_35\"/><circle cx=\"395\" cy=\"263\" r=\"9\" fill=\"rgb(255,254,254)\" class=\"agent_1_38\"/><circle cx=\"130\" cy=\"204\" r=\"9\" fill=\"rgb(255,254,254)\" class=\"agent_1_66\"/><circle cx=\"183\" cy=\"80\" r=\"11\" fill=\"rgb(255,254,254)\" class=\"agent_1_67\"/><circle cx=\"83\" cy=\"192\" r=\"9\" fill=\"rgb(255,0,0)\" class=\"agent_1_70\"/></svg></div>"
      ],
      "text/plain": [
       "<IPython.core.display.HTML object>"
      ]
     },
     "metadata": {},
     "output_type": "display_data"
    },
    {
     "name": "stdout",
     "output_type": "stream",
     "text": [
      "refs_pred\n"
     ]
    },
    {
     "data": {
      "text/html": [
       "<div style=\"white-space: nowrap\"><svg viewbox='0 0 430 430' width=\"172\" height=\"172\" id=\"agent_1\"><circle cx=\"215\" cy=\"215\" r=\"205\" fill=\"none\" stroke=\"black\" stroke-width=\"2\" stroke-dasharray=\"3,3\"/><circle cx=\"51\" cy=\"206\" r=\"13\" fill=\"rgb(106,106,106)\"/><circle cx=\"83\" cy=\"312\" r=\"13\" fill=\"rgb(126,126,126)\"/><circle cx=\"175\" cy=\"147\" r=\"12\" fill=\"rgb(152,152,152)\"/><circle cx=\"395\" cy=\"263\" r=\"9\" fill=\"rgb(104,104,104)\"/><circle cx=\"130\" cy=\"204\" r=\"9\" fill=\"rgb(142,142,142)\"/><circle cx=\"183\" cy=\"80\" r=\"11\" fill=\"rgb(203,203,203)\"/><circle cx=\"83\" cy=\"192\" r=\"9\" fill=\"rgb(70,70,70)\"/></svg><svg viewBox='0 0 430 430' id=\"svg\" width=\"172\" height=\"172\"><circle cx=\"215\" cy=\"215\" r=\"205\" fill=\"none\" stroke=\"black\" stroke-width=\"2\" stroke-dasharray=\"3,3\"/> <circle cx=\"51\" cy=\"206\" r=\"13\" fill=\"rgb(255,255,255)\" class=\"agent_1_22\"/><circle cx=\"83\" cy=\"312\" r=\"13\" fill=\"rgb(255,255,255)\" class=\"agent_1_33\"/><circle cx=\"175\" cy=\"147\" r=\"12\" fill=\"rgb(255,255,255)\" class=\"agent_1_35\"/><circle cx=\"395\" cy=\"263\" r=\"9\" fill=\"rgb(255,255,255)\" class=\"agent_1_38\"/><circle cx=\"130\" cy=\"204\" r=\"9\" fill=\"rgb(255,255,255)\" class=\"agent_1_66\"/><circle cx=\"183\" cy=\"80\" r=\"11\" fill=\"rgb(255,255,255)\" class=\"agent_1_67\"/><circle cx=\"83\" cy=\"192\" r=\"9\" fill=\"rgb(255,0,0)\" class=\"agent_1_70\"/></svg></div>"
      ],
      "text/plain": [
       "<IPython.core.display.HTML object>"
      ]
     },
     "metadata": {},
     "output_type": "display_data"
    },
    {
     "name": "stdout",
     "output_type": "stream",
     "text": [
      "refs_true\n"
     ]
    },
    {
     "data": {
      "text/html": [
       "<div style=\"white-space: nowrap\"><svg viewbox='0 0 430 430' width=\"172\" height=\"172\" id=\"agent_1\"><circle cx=\"215\" cy=\"215\" r=\"205\" fill=\"none\" stroke=\"black\" stroke-width=\"2\" stroke-dasharray=\"3,3\"/><circle cx=\"51\" cy=\"206\" r=\"13\" fill=\"rgb(106,106,106)\"/><circle cx=\"83\" cy=\"312\" r=\"13\" fill=\"rgb(126,126,126)\"/><circle cx=\"175\" cy=\"147\" r=\"12\" fill=\"rgb(152,152,152)\"/><circle cx=\"395\" cy=\"263\" r=\"9\" fill=\"rgb(104,104,104)\"/><circle cx=\"130\" cy=\"204\" r=\"9\" fill=\"rgb(142,142,142)\"/><circle cx=\"183\" cy=\"80\" r=\"11\" fill=\"rgb(203,203,203)\"/><circle cx=\"83\" cy=\"192\" r=\"9\" fill=\"rgb(70,70,70)\"/></svg><svg viewBox='0 0 430 430' id=\"svg\" width=\"172\" height=\"172\"><circle cx=\"215\" cy=\"215\" r=\"205\" fill=\"none\" stroke=\"black\" stroke-width=\"2\" stroke-dasharray=\"3,3\"/> <circle cx=\"51\" cy=\"206\" r=\"13\" fill=\"rgb(255,255,255)\" class=\"agent_1_22\"/><circle cx=\"83\" cy=\"312\" r=\"13\" fill=\"rgb(255,255,255)\" class=\"agent_1_33\"/><circle cx=\"175\" cy=\"147\" r=\"12\" fill=\"rgb(255,255,255)\" class=\"agent_1_35\"/><circle cx=\"395\" cy=\"263\" r=\"9\" fill=\"rgb(255,255,255)\" class=\"agent_1_38\"/><circle cx=\"130\" cy=\"204\" r=\"9\" fill=\"rgb(255,255,255)\" class=\"agent_1_66\"/><circle cx=\"183\" cy=\"80\" r=\"11\" fill=\"rgb(255,255,255)\" class=\"agent_1_67\"/><circle cx=\"83\" cy=\"192\" r=\"9\" fill=\"rgb(255,0,0)\" class=\"agent_1_70\"/></svg></div>"
      ],
      "text/plain": [
       "<IPython.core.display.HTML object>"
      ]
     },
     "metadata": {},
     "output_type": "display_data"
    },
    {
     "name": "stdout",
     "output_type": "stream",
     "text": [
      "\n",
      "----------------------------------------\n",
      "\n",
      "sel_pred\n"
     ]
    },
    {
     "data": {
      "text/html": [
       "<div style=\"white-space: nowrap\"><svg viewbox='0 0 430 430' width=\"172\" height=\"172\" id=\"agent_1\"><circle cx=\"215\" cy=\"215\" r=\"205\" fill=\"none\" stroke=\"black\" stroke-width=\"2\" stroke-dasharray=\"3,3\"/><circle cx=\"51\" cy=\"206\" r=\"13\" fill=\"rgb(106,106,106)\"/><circle cx=\"83\" cy=\"312\" r=\"13\" fill=\"rgb(126,126,126)\"/><circle cx=\"175\" cy=\"147\" r=\"12\" fill=\"rgb(152,152,152)\"/><circle cx=\"395\" cy=\"263\" r=\"9\" fill=\"rgb(104,104,104)\"/><circle cx=\"130\" cy=\"204\" r=\"9\" fill=\"rgb(142,142,142)\"/><circle cx=\"183\" cy=\"80\" r=\"11\" fill=\"rgb(203,203,203)\"/><circle cx=\"83\" cy=\"192\" r=\"9\" fill=\"rgb(70,70,70)\"/></svg><svg viewBox='0 0 430 430' id=\"svg\" width=\"172\" height=\"172\"><circle cx=\"215\" cy=\"215\" r=\"205\" fill=\"none\" stroke=\"black\" stroke-width=\"2\" stroke-dasharray=\"3,3\"/> <circle cx=\"51\" cy=\"206\" r=\"13\" fill=\"rgb(255,254,254)\" class=\"agent_1_22\"/><circle cx=\"83\" cy=\"312\" r=\"13\" fill=\"rgb(255,254,254)\" class=\"agent_1_33\"/><circle cx=\"175\" cy=\"147\" r=\"12\" fill=\"rgb(255,253,253)\" class=\"agent_1_35\"/><circle cx=\"395\" cy=\"263\" r=\"9\" fill=\"rgb(255,254,254)\" class=\"agent_1_38\"/><circle cx=\"130\" cy=\"204\" r=\"9\" fill=\"rgb(255,254,254)\" class=\"agent_1_66\"/><circle cx=\"183\" cy=\"80\" r=\"11\" fill=\"rgb(255,254,254)\" class=\"agent_1_67\"/><circle cx=\"83\" cy=\"192\" r=\"9\" fill=\"rgb(255,1,1)\" class=\"agent_1_70\"/></svg></div>"
      ],
      "text/plain": [
       "<IPython.core.display.HTML object>"
      ]
     },
     "metadata": {},
     "output_type": "display_data"
    },
    {
     "name": "stdout",
     "output_type": "stream",
     "text": [
      "sel_true\n"
     ]
    },
    {
     "data": {
      "text/html": [
       "<div style=\"white-space: nowrap\"><svg viewbox='0 0 430 430' width=\"172\" height=\"172\" id=\"agent_1\"><circle cx=\"215\" cy=\"215\" r=\"205\" fill=\"none\" stroke=\"black\" stroke-width=\"2\" stroke-dasharray=\"3,3\"/><circle cx=\"51\" cy=\"206\" r=\"13\" fill=\"rgb(106,106,106)\"/><circle cx=\"83\" cy=\"312\" r=\"13\" fill=\"rgb(126,126,126)\"/><circle cx=\"175\" cy=\"147\" r=\"12\" fill=\"rgb(152,152,152)\"/><circle cx=\"395\" cy=\"263\" r=\"9\" fill=\"rgb(104,104,104)\"/><circle cx=\"130\" cy=\"204\" r=\"9\" fill=\"rgb(142,142,142)\"/><circle cx=\"183\" cy=\"80\" r=\"11\" fill=\"rgb(203,203,203)\"/><circle cx=\"83\" cy=\"192\" r=\"9\" fill=\"rgb(70,70,70)\"/></svg><svg viewBox='0 0 430 430' id=\"svg\" width=\"172\" height=\"172\"><circle cx=\"215\" cy=\"215\" r=\"205\" fill=\"none\" stroke=\"black\" stroke-width=\"2\" stroke-dasharray=\"3,3\"/> <circle cx=\"51\" cy=\"206\" r=\"13\" fill=\"rgb(255,255,255)\" class=\"agent_1_22\"/><circle cx=\"83\" cy=\"312\" r=\"13\" fill=\"rgb(255,255,255)\" class=\"agent_1_33\"/><circle cx=\"175\" cy=\"147\" r=\"12\" fill=\"rgb(255,255,255)\" class=\"agent_1_35\"/><circle cx=\"395\" cy=\"263\" r=\"9\" fill=\"rgb(255,255,255)\" class=\"agent_1_38\"/><circle cx=\"130\" cy=\"204\" r=\"9\" fill=\"rgb(255,255,255)\" class=\"agent_1_66\"/><circle cx=\"183\" cy=\"80\" r=\"11\" fill=\"rgb(255,255,255)\" class=\"agent_1_67\"/><circle cx=\"83\" cy=\"192\" r=\"9\" fill=\"rgb(255,0,0)\" class=\"agent_1_70\"/></svg></div>"
      ],
      "text/plain": [
       "<IPython.core.display.HTML object>"
      ]
     },
     "metadata": {},
     "output_type": "display_data"
    }
   ],
   "source": [
    "force_contexts_and_mentions(1, min_num_mentions=1, mention_marginals=True,\n",
    "                            ref_marginals=True, for_partner=True, datasplit=trainset)"
   ]
  },
  {
   "cell_type": "code",
   "execution_count": 77,
   "metadata": {
    "scrolled": false
   },
   "outputs": [
    {
     "name": "stdout",
     "output_type": "stream",
     "text": [
      "scenario_id: S_7IaFAblYemWnfpHL\n",
      "to_mention_marginals\n"
     ]
    },
    {
     "data": {
      "text/html": [
       "<div style=\"white-space: nowrap\"><svg viewbox='0 0 430 430' width=\"172\" height=\"172\" id=\"agent_1\"><circle cx=\"215\" cy=\"215\" r=\"205\" fill=\"none\" stroke=\"black\" stroke-width=\"2\" stroke-dasharray=\"3,3\"/><circle cx=\"157\" cy=\"387\" r=\"8\" fill=\"rgb(186,186,186)\"/><circle cx=\"154\" cy=\"325\" r=\"11\" fill=\"rgb(137,137,137)\"/><circle cx=\"363\" cy=\"330\" r=\"13\" fill=\"rgb(137,137,137)\"/><circle cx=\"287\" cy=\"264\" r=\"7\" fill=\"rgb(176,176,176)\"/><circle cx=\"246\" cy=\"261\" r=\"8\" fill=\"rgb(130,130,130)\"/><circle cx=\"153\" cy=\"206\" r=\"11\" fill=\"rgb(147,147,147)\"/><circle cx=\"410\" cy=\"236\" r=\"13\" fill=\"rgb(138,138,138)\"/></svg><svg viewBox='0 0 430 430' id=\"svg\" width=\"172\" height=\"172\"><circle cx=\"215\" cy=\"215\" r=\"205\" fill=\"none\" stroke=\"black\" stroke-width=\"2\" stroke-dasharray=\"3,3\"/> <circle cx=\"157\" cy=\"387\" r=\"8\" fill=\"rgb(255,209,209)\" class=\"agent_1_21\"/><circle cx=\"154\" cy=\"325\" r=\"11\" fill=\"rgb(255,227,227)\" class=\"agent_1_32\"/><circle cx=\"363\" cy=\"330\" r=\"13\" fill=\"rgb(255,187,187)\" class=\"agent_1_45\"/><circle cx=\"287\" cy=\"264\" r=\"7\" fill=\"rgb(255,183,183)\" class=\"agent_1_59\"/><circle cx=\"246\" cy=\"261\" r=\"8\" fill=\"rgb(255,196,196)\" class=\"agent_1_65\"/><circle cx=\"153\" cy=\"206\" r=\"11\" fill=\"rgb(255,227,227)\" class=\"agent_1_71\"/><circle cx=\"410\" cy=\"236\" r=\"13\" fill=\"rgb(255,188,188)\" class=\"agent_1_75\"/></svg><svg viewBox='0 0 430 430' id=\"svg\" width=\"172\" height=\"172\"><circle cx=\"215\" cy=\"215\" r=\"205\" fill=\"none\" stroke=\"black\" stroke-width=\"2\" stroke-dasharray=\"3,3\"/> <circle cx=\"157\" cy=\"387\" r=\"8\" fill=\"rgb(255,198,198)\" class=\"agent_1_21\"/><circle cx=\"154\" cy=\"325\" r=\"11\" fill=\"rgb(255,190,190)\" class=\"agent_1_32\"/><circle cx=\"363\" cy=\"330\" r=\"13\" fill=\"rgb(255,189,189)\" class=\"agent_1_45\"/><circle cx=\"287\" cy=\"264\" r=\"7\" fill=\"rgb(255,188,188)\" class=\"agent_1_59\"/><circle cx=\"246\" cy=\"261\" r=\"8\" fill=\"rgb(255,192,192)\" class=\"agent_1_65\"/><circle cx=\"153\" cy=\"206\" r=\"11\" fill=\"rgb(255,196,196)\" class=\"agent_1_71\"/><circle cx=\"410\" cy=\"236\" r=\"13\" fill=\"rgb(255,194,194)\" class=\"agent_1_75\"/></svg><svg viewBox='0 0 430 430' id=\"svg\" width=\"172\" height=\"172\"><circle cx=\"215\" cy=\"215\" r=\"205\" fill=\"none\" stroke=\"black\" stroke-width=\"2\" stroke-dasharray=\"3,3\"/> <circle cx=\"157\" cy=\"387\" r=\"8\" fill=\"rgb(255,211,211)\" class=\"agent_1_21\"/><circle cx=\"154\" cy=\"325\" r=\"11\" fill=\"rgb(255,209,209)\" class=\"agent_1_32\"/><circle cx=\"363\" cy=\"330\" r=\"13\" fill=\"rgb(255,202,202)\" class=\"agent_1_45\"/><circle cx=\"287\" cy=\"264\" r=\"7\" fill=\"rgb(255,193,193)\" class=\"agent_1_59\"/><circle cx=\"246\" cy=\"261\" r=\"8\" fill=\"rgb(255,205,205)\" class=\"agent_1_65\"/><circle cx=\"153\" cy=\"206\" r=\"11\" fill=\"rgb(255,217,217)\" class=\"agent_1_71\"/><circle cx=\"410\" cy=\"236\" r=\"13\" fill=\"rgb(255,209,209)\" class=\"agent_1_75\"/></svg></div>"
      ],
      "text/plain": [
       "<IPython.core.display.HTML object>"
      ]
     },
     "metadata": {},
     "output_type": "display_data"
    },
    {
     "name": "stdout",
     "output_type": "stream",
     "text": [
      "to_mention_pred\n"
     ]
    },
    {
     "data": {
      "text/html": [
       "<div style=\"white-space: nowrap\"><svg viewbox='0 0 430 430' width=\"172\" height=\"172\" id=\"agent_1\"><circle cx=\"215\" cy=\"215\" r=\"205\" fill=\"none\" stroke=\"black\" stroke-width=\"2\" stroke-dasharray=\"3,3\"/><circle cx=\"157\" cy=\"387\" r=\"8\" fill=\"rgb(186,186,186)\"/><circle cx=\"154\" cy=\"325\" r=\"11\" fill=\"rgb(137,137,137)\"/><circle cx=\"363\" cy=\"330\" r=\"13\" fill=\"rgb(137,137,137)\"/><circle cx=\"287\" cy=\"264\" r=\"7\" fill=\"rgb(176,176,176)\"/><circle cx=\"246\" cy=\"261\" r=\"8\" fill=\"rgb(130,130,130)\"/><circle cx=\"153\" cy=\"206\" r=\"11\" fill=\"rgb(147,147,147)\"/><circle cx=\"410\" cy=\"236\" r=\"13\" fill=\"rgb(138,138,138)\"/></svg><svg viewBox='0 0 430 430' id=\"svg\" width=\"172\" height=\"172\"><circle cx=\"215\" cy=\"215\" r=\"205\" fill=\"none\" stroke=\"black\" stroke-width=\"2\" stroke-dasharray=\"3,3\"/> <circle cx=\"157\" cy=\"387\" r=\"8\" fill=\"rgb(255,255,255)\" class=\"agent_1_21\"/><circle cx=\"154\" cy=\"325\" r=\"11\" fill=\"rgb(255,255,255)\" class=\"agent_1_32\"/><circle cx=\"363\" cy=\"330\" r=\"13\" fill=\"rgb(255,0,0)\" class=\"agent_1_45\"/><circle cx=\"287\" cy=\"264\" r=\"7\" fill=\"rgb(255,255,255)\" class=\"agent_1_59\"/><circle cx=\"246\" cy=\"261\" r=\"8\" fill=\"rgb(255,255,255)\" class=\"agent_1_65\"/><circle cx=\"153\" cy=\"206\" r=\"11\" fill=\"rgb(255,255,255)\" class=\"agent_1_71\"/><circle cx=\"410\" cy=\"236\" r=\"13\" fill=\"rgb(255,0,0)\" class=\"agent_1_75\"/></svg><svg viewBox='0 0 430 430' id=\"svg\" width=\"172\" height=\"172\"><circle cx=\"215\" cy=\"215\" r=\"205\" fill=\"none\" stroke=\"black\" stroke-width=\"2\" stroke-dasharray=\"3,3\"/> <circle cx=\"157\" cy=\"387\" r=\"8\" fill=\"rgb(255,255,255)\" class=\"agent_1_21\"/><circle cx=\"154\" cy=\"325\" r=\"11\" fill=\"rgb(255,255,255)\" class=\"agent_1_32\"/><circle cx=\"363\" cy=\"330\" r=\"13\" fill=\"rgb(255,255,255)\" class=\"agent_1_45\"/><circle cx=\"287\" cy=\"264\" r=\"7\" fill=\"rgb(255,255,255)\" class=\"agent_1_59\"/><circle cx=\"246\" cy=\"261\" r=\"8\" fill=\"rgb(255,255,255)\" class=\"agent_1_65\"/><circle cx=\"153\" cy=\"206\" r=\"11\" fill=\"rgb(255,255,255)\" class=\"agent_1_71\"/><circle cx=\"410\" cy=\"236\" r=\"13\" fill=\"rgb(255,255,255)\" class=\"agent_1_75\"/></svg><svg viewBox='0 0 430 430' id=\"svg\" width=\"172\" height=\"172\"><circle cx=\"215\" cy=\"215\" r=\"205\" fill=\"none\" stroke=\"black\" stroke-width=\"2\" stroke-dasharray=\"3,3\"/> <circle cx=\"157\" cy=\"387\" r=\"8\" fill=\"rgb(255,255,255)\" class=\"agent_1_21\"/><circle cx=\"154\" cy=\"325\" r=\"11\" fill=\"rgb(255,255,255)\" class=\"agent_1_32\"/><circle cx=\"363\" cy=\"330\" r=\"13\" fill=\"rgb(255,255,255)\" class=\"agent_1_45\"/><circle cx=\"287\" cy=\"264\" r=\"7\" fill=\"rgb(255,255,255)\" class=\"agent_1_59\"/><circle cx=\"246\" cy=\"261\" r=\"8\" fill=\"rgb(255,255,255)\" class=\"agent_1_65\"/><circle cx=\"153\" cy=\"206\" r=\"11\" fill=\"rgb(255,255,255)\" class=\"agent_1_71\"/><circle cx=\"410\" cy=\"236\" r=\"13\" fill=\"rgb(255,255,255)\" class=\"agent_1_75\"/></svg></div>"
      ],
      "text/plain": [
       "<IPython.core.display.HTML object>"
      ]
     },
     "metadata": {},
     "output_type": "display_data"
    },
    {
     "name": "stdout",
     "output_type": "stream",
     "text": [
      "to_mention_true\n"
     ]
    },
    {
     "data": {
      "text/html": [
       "<div style=\"white-space: nowrap\"><svg viewbox='0 0 430 430' width=\"172\" height=\"172\" id=\"agent_1\"><circle cx=\"215\" cy=\"215\" r=\"205\" fill=\"none\" stroke=\"black\" stroke-width=\"2\" stroke-dasharray=\"3,3\"/><circle cx=\"157\" cy=\"387\" r=\"8\" fill=\"rgb(186,186,186)\"/><circle cx=\"154\" cy=\"325\" r=\"11\" fill=\"rgb(137,137,137)\"/><circle cx=\"363\" cy=\"330\" r=\"13\" fill=\"rgb(137,137,137)\"/><circle cx=\"287\" cy=\"264\" r=\"7\" fill=\"rgb(176,176,176)\"/><circle cx=\"246\" cy=\"261\" r=\"8\" fill=\"rgb(130,130,130)\"/><circle cx=\"153\" cy=\"206\" r=\"11\" fill=\"rgb(147,147,147)\"/><circle cx=\"410\" cy=\"236\" r=\"13\" fill=\"rgb(138,138,138)\"/></svg><svg viewBox='0 0 430 430' id=\"svg\" width=\"172\" height=\"172\"><circle cx=\"215\" cy=\"215\" r=\"205\" fill=\"none\" stroke=\"black\" stroke-width=\"2\" stroke-dasharray=\"3,3\"/> <circle cx=\"157\" cy=\"387\" r=\"8\" fill=\"rgb(255,255,255)\" class=\"agent_1_21\"/><circle cx=\"154\" cy=\"325\" r=\"11\" fill=\"rgb(255,255,255)\" class=\"agent_1_32\"/><circle cx=\"363\" cy=\"330\" r=\"13\" fill=\"rgb(255,255,255)\" class=\"agent_1_45\"/><circle cx=\"287\" cy=\"264\" r=\"7\" fill=\"rgb(255,0,0)\" class=\"agent_1_59\"/><circle cx=\"246\" cy=\"261\" r=\"8\" fill=\"rgb(255,0,0)\" class=\"agent_1_65\"/><circle cx=\"153\" cy=\"206\" r=\"11\" fill=\"rgb(255,255,255)\" class=\"agent_1_71\"/><circle cx=\"410\" cy=\"236\" r=\"13\" fill=\"rgb(255,255,255)\" class=\"agent_1_75\"/></svg><svg viewBox='0 0 430 430' id=\"svg\" width=\"172\" height=\"172\"><circle cx=\"215\" cy=\"215\" r=\"205\" fill=\"none\" stroke=\"black\" stroke-width=\"2\" stroke-dasharray=\"3,3\"/> <circle cx=\"157\" cy=\"387\" r=\"8\" fill=\"rgb(255,255,255)\" class=\"agent_1_21\"/><circle cx=\"154\" cy=\"325\" r=\"11\" fill=\"rgb(255,255,255)\" class=\"agent_1_32\"/><circle cx=\"363\" cy=\"330\" r=\"13\" fill=\"rgb(255,255,255)\" class=\"agent_1_45\"/><circle cx=\"287\" cy=\"264\" r=\"7\" fill=\"rgb(255,0,0)\" class=\"agent_1_59\"/><circle cx=\"246\" cy=\"261\" r=\"8\" fill=\"rgb(255,0,0)\" class=\"agent_1_65\"/><circle cx=\"153\" cy=\"206\" r=\"11\" fill=\"rgb(255,255,255)\" class=\"agent_1_71\"/><circle cx=\"410\" cy=\"236\" r=\"13\" fill=\"rgb(255,255,255)\" class=\"agent_1_75\"/></svg></div>"
      ],
      "text/plain": [
       "<IPython.core.display.HTML object>"
      ]
     },
     "metadata": {},
     "output_type": "display_data"
    },
    {
     "name": "stdout",
     "output_type": "stream",
     "text": [
      "predicted is_selection probability\n",
      "tensor([0.0101], grad_fn=<SigmoidBackward>)\n",
      "is_selection: tensor([False])\n",
      "beam 0\ti have two small dots very close together . the one on the right is slightly larger and darker <eos>\n",
      "greedy\ti have two small dots very close together . the one on the right is slightly larger and darker <eos>\n",
      "human\tdo you see two tiny different <unk> dot beside each other <eos>\n",
      "detected markables:\n",
      "{'start': 14, 'end': 42, 'is_self': True, 'text': 'two tiny different <unk> dot'}\n",
      "{'start': 50, 'end': 60, 'is_self': True, 'text': 'each other'}\n",
      "ref_marginal_probs\n"
     ]
    },
    {
     "data": {
      "text/html": [
       "<div style=\"white-space: nowrap\"><svg viewbox='0 0 430 430' width=\"172\" height=\"172\" id=\"agent_1\"><circle cx=\"215\" cy=\"215\" r=\"205\" fill=\"none\" stroke=\"black\" stroke-width=\"2\" stroke-dasharray=\"3,3\"/><circle cx=\"157\" cy=\"387\" r=\"8\" fill=\"rgb(186,186,186)\"/><circle cx=\"154\" cy=\"325\" r=\"11\" fill=\"rgb(137,137,137)\"/><circle cx=\"363\" cy=\"330\" r=\"13\" fill=\"rgb(137,137,137)\"/><circle cx=\"287\" cy=\"264\" r=\"7\" fill=\"rgb(176,176,176)\"/><circle cx=\"246\" cy=\"261\" r=\"8\" fill=\"rgb(130,130,130)\"/><circle cx=\"153\" cy=\"206\" r=\"11\" fill=\"rgb(147,147,147)\"/><circle cx=\"410\" cy=\"236\" r=\"13\" fill=\"rgb(138,138,138)\"/></svg><svg viewBox='0 0 430 430' id=\"svg\" width=\"172\" height=\"172\"><circle cx=\"215\" cy=\"215\" r=\"205\" fill=\"none\" stroke=\"black\" stroke-width=\"2\" stroke-dasharray=\"3,3\"/> <circle cx=\"157\" cy=\"387\" r=\"8\" fill=\"rgb(255,243,243)\" class=\"agent_1_21\"/><circle cx=\"154\" cy=\"325\" r=\"11\" fill=\"rgb(255,254,254)\" class=\"agent_1_32\"/><circle cx=\"363\" cy=\"330\" r=\"13\" fill=\"rgb(255,254,254)\" class=\"agent_1_45\"/><circle cx=\"287\" cy=\"264\" r=\"7\" fill=\"rgb(255,3,3)\" class=\"agent_1_59\"/><circle cx=\"246\" cy=\"261\" r=\"8\" fill=\"rgb(255,10,10)\" class=\"agent_1_65\"/><circle cx=\"153\" cy=\"206\" r=\"11\" fill=\"rgb(255,254,254)\" class=\"agent_1_71\"/><circle cx=\"410\" cy=\"236\" r=\"13\" fill=\"rgb(255,254,254)\" class=\"agent_1_75\"/></svg><svg viewBox='0 0 430 430' id=\"svg\" width=\"172\" height=\"172\"><circle cx=\"215\" cy=\"215\" r=\"205\" fill=\"none\" stroke=\"black\" stroke-width=\"2\" stroke-dasharray=\"3,3\"/> <circle cx=\"157\" cy=\"387\" r=\"8\" fill=\"rgb(255,222,222)\" class=\"agent_1_21\"/><circle cx=\"154\" cy=\"325\" r=\"11\" fill=\"rgb(255,225,225)\" class=\"agent_1_32\"/><circle cx=\"363\" cy=\"330\" r=\"13\" fill=\"rgb(255,229,229)\" class=\"agent_1_45\"/><circle cx=\"287\" cy=\"264\" r=\"7\" fill=\"rgb(255,69,69)\" class=\"agent_1_59\"/><circle cx=\"246\" cy=\"261\" r=\"8\" fill=\"rgb(255,71,71)\" class=\"agent_1_65\"/><circle cx=\"153\" cy=\"206\" r=\"11\" fill=\"rgb(255,231,231)\" class=\"agent_1_71\"/><circle cx=\"410\" cy=\"236\" r=\"13\" fill=\"rgb(255,231,231)\" class=\"agent_1_75\"/></svg></div>"
      ],
      "text/plain": [
       "<IPython.core.display.HTML object>"
      ]
     },
     "metadata": {},
     "output_type": "display_data"
    },
    {
     "name": "stdout",
     "output_type": "stream",
     "text": [
      "refs_pred\n"
     ]
    },
    {
     "data": {
      "text/html": [
       "<div style=\"white-space: nowrap\"><svg viewbox='0 0 430 430' width=\"172\" height=\"172\" id=\"agent_1\"><circle cx=\"215\" cy=\"215\" r=\"205\" fill=\"none\" stroke=\"black\" stroke-width=\"2\" stroke-dasharray=\"3,3\"/><circle cx=\"157\" cy=\"387\" r=\"8\" fill=\"rgb(186,186,186)\"/><circle cx=\"154\" cy=\"325\" r=\"11\" fill=\"rgb(137,137,137)\"/><circle cx=\"363\" cy=\"330\" r=\"13\" fill=\"rgb(137,137,137)\"/><circle cx=\"287\" cy=\"264\" r=\"7\" fill=\"rgb(176,176,176)\"/><circle cx=\"246\" cy=\"261\" r=\"8\" fill=\"rgb(130,130,130)\"/><circle cx=\"153\" cy=\"206\" r=\"11\" fill=\"rgb(147,147,147)\"/><circle cx=\"410\" cy=\"236\" r=\"13\" fill=\"rgb(138,138,138)\"/></svg><svg viewBox='0 0 430 430' id=\"svg\" width=\"172\" height=\"172\"><circle cx=\"215\" cy=\"215\" r=\"205\" fill=\"none\" stroke=\"black\" stroke-width=\"2\" stroke-dasharray=\"3,3\"/> <circle cx=\"157\" cy=\"387\" r=\"8\" fill=\"rgb(255,255,255)\" class=\"agent_1_21\"/><circle cx=\"154\" cy=\"325\" r=\"11\" fill=\"rgb(255,255,255)\" class=\"agent_1_32\"/><circle cx=\"363\" cy=\"330\" r=\"13\" fill=\"rgb(255,255,255)\" class=\"agent_1_45\"/><circle cx=\"287\" cy=\"264\" r=\"7\" fill=\"rgb(255,0,0)\" class=\"agent_1_59\"/><circle cx=\"246\" cy=\"261\" r=\"8\" fill=\"rgb(255,0,0)\" class=\"agent_1_65\"/><circle cx=\"153\" cy=\"206\" r=\"11\" fill=\"rgb(255,255,255)\" class=\"agent_1_71\"/><circle cx=\"410\" cy=\"236\" r=\"13\" fill=\"rgb(255,255,255)\" class=\"agent_1_75\"/></svg><svg viewBox='0 0 430 430' id=\"svg\" width=\"172\" height=\"172\"><circle cx=\"215\" cy=\"215\" r=\"205\" fill=\"none\" stroke=\"black\" stroke-width=\"2\" stroke-dasharray=\"3,3\"/> <circle cx=\"157\" cy=\"387\" r=\"8\" fill=\"rgb(255,255,255)\" class=\"agent_1_21\"/><circle cx=\"154\" cy=\"325\" r=\"11\" fill=\"rgb(255,255,255)\" class=\"agent_1_32\"/><circle cx=\"363\" cy=\"330\" r=\"13\" fill=\"rgb(255,255,255)\" class=\"agent_1_45\"/><circle cx=\"287\" cy=\"264\" r=\"7\" fill=\"rgb(255,0,0)\" class=\"agent_1_59\"/><circle cx=\"246\" cy=\"261\" r=\"8\" fill=\"rgb(255,0,0)\" class=\"agent_1_65\"/><circle cx=\"153\" cy=\"206\" r=\"11\" fill=\"rgb(255,255,255)\" class=\"agent_1_71\"/><circle cx=\"410\" cy=\"236\" r=\"13\" fill=\"rgb(255,255,255)\" class=\"agent_1_75\"/></svg></div>"
      ],
      "text/plain": [
       "<IPython.core.display.HTML object>"
      ]
     },
     "metadata": {},
     "output_type": "display_data"
    },
    {
     "name": "stdout",
     "output_type": "stream",
     "text": [
      "refs_true\n"
     ]
    },
    {
     "data": {
      "text/html": [
       "<div style=\"white-space: nowrap\"><svg viewbox='0 0 430 430' width=\"172\" height=\"172\" id=\"agent_1\"><circle cx=\"215\" cy=\"215\" r=\"205\" fill=\"none\" stroke=\"black\" stroke-width=\"2\" stroke-dasharray=\"3,3\"/><circle cx=\"157\" cy=\"387\" r=\"8\" fill=\"rgb(186,186,186)\"/><circle cx=\"154\" cy=\"325\" r=\"11\" fill=\"rgb(137,137,137)\"/><circle cx=\"363\" cy=\"330\" r=\"13\" fill=\"rgb(137,137,137)\"/><circle cx=\"287\" cy=\"264\" r=\"7\" fill=\"rgb(176,176,176)\"/><circle cx=\"246\" cy=\"261\" r=\"8\" fill=\"rgb(130,130,130)\"/><circle cx=\"153\" cy=\"206\" r=\"11\" fill=\"rgb(147,147,147)\"/><circle cx=\"410\" cy=\"236\" r=\"13\" fill=\"rgb(138,138,138)\"/></svg><svg viewBox='0 0 430 430' id=\"svg\" width=\"172\" height=\"172\"><circle cx=\"215\" cy=\"215\" r=\"205\" fill=\"none\" stroke=\"black\" stroke-width=\"2\" stroke-dasharray=\"3,3\"/> <circle cx=\"157\" cy=\"387\" r=\"8\" fill=\"rgb(255,255,255)\" class=\"agent_1_21\"/><circle cx=\"154\" cy=\"325\" r=\"11\" fill=\"rgb(255,255,255)\" class=\"agent_1_32\"/><circle cx=\"363\" cy=\"330\" r=\"13\" fill=\"rgb(255,255,255)\" class=\"agent_1_45\"/><circle cx=\"287\" cy=\"264\" r=\"7\" fill=\"rgb(255,0,0)\" class=\"agent_1_59\"/><circle cx=\"246\" cy=\"261\" r=\"8\" fill=\"rgb(255,0,0)\" class=\"agent_1_65\"/><circle cx=\"153\" cy=\"206\" r=\"11\" fill=\"rgb(255,255,255)\" class=\"agent_1_71\"/><circle cx=\"410\" cy=\"236\" r=\"13\" fill=\"rgb(255,255,255)\" class=\"agent_1_75\"/></svg><svg viewBox='0 0 430 430' id=\"svg\" width=\"172\" height=\"172\"><circle cx=\"215\" cy=\"215\" r=\"205\" fill=\"none\" stroke=\"black\" stroke-width=\"2\" stroke-dasharray=\"3,3\"/> <circle cx=\"157\" cy=\"387\" r=\"8\" fill=\"rgb(255,255,255)\" class=\"agent_1_21\"/><circle cx=\"154\" cy=\"325\" r=\"11\" fill=\"rgb(255,255,255)\" class=\"agent_1_32\"/><circle cx=\"363\" cy=\"330\" r=\"13\" fill=\"rgb(255,255,255)\" class=\"agent_1_45\"/><circle cx=\"287\" cy=\"264\" r=\"7\" fill=\"rgb(255,0,0)\" class=\"agent_1_59\"/><circle cx=\"246\" cy=\"261\" r=\"8\" fill=\"rgb(255,0,0)\" class=\"agent_1_65\"/><circle cx=\"153\" cy=\"206\" r=\"11\" fill=\"rgb(255,255,255)\" class=\"agent_1_71\"/><circle cx=\"410\" cy=\"236\" r=\"13\" fill=\"rgb(255,255,255)\" class=\"agent_1_75\"/></svg></div>"
      ],
      "text/plain": [
       "<IPython.core.display.HTML object>"
      ]
     },
     "metadata": {},
     "output_type": "display_data"
    },
    {
     "name": "stdout",
     "output_type": "stream",
     "text": [
      "\n",
      "----------------------------------------\n",
      "\n",
      "predicted is_selection probability\n",
      "tensor([0.0484], grad_fn=<SigmoidBackward>)\n",
      "is_selection: tensor([True])\n",
      "human\tTHEM: haha was about to type that . if the lighter one is slightly below and to the right , click that lighter one . <selection>\n",
      "detected markables:\n",
      "{'start': 26, 'end': 30, 'is_self': True, 'text': 'that'}\n",
      "{'start': 36, 'end': 51, 'is_self': True, 'text': 'the lighter one'}\n",
      "{'start': 95, 'end': 111, 'is_self': True, 'text': 'that lighter one'}\n",
      "partner_ref_marginal_probs\n"
     ]
    },
    {
     "data": {
      "text/html": [
       "<div style=\"white-space: nowrap\"><svg viewbox='0 0 430 430' width=\"172\" height=\"172\" id=\"agent_1\"><circle cx=\"215\" cy=\"215\" r=\"205\" fill=\"none\" stroke=\"black\" stroke-width=\"2\" stroke-dasharray=\"3,3\"/><circle cx=\"157\" cy=\"387\" r=\"8\" fill=\"rgb(186,186,186)\"/><circle cx=\"154\" cy=\"325\" r=\"11\" fill=\"rgb(137,137,137)\"/><circle cx=\"363\" cy=\"330\" r=\"13\" fill=\"rgb(137,137,137)\"/><circle cx=\"287\" cy=\"264\" r=\"7\" fill=\"rgb(176,176,176)\"/><circle cx=\"246\" cy=\"261\" r=\"8\" fill=\"rgb(130,130,130)\"/><circle cx=\"153\" cy=\"206\" r=\"11\" fill=\"rgb(147,147,147)\"/><circle cx=\"410\" cy=\"236\" r=\"13\" fill=\"rgb(138,138,138)\"/></svg><svg viewBox='0 0 430 430' id=\"svg\" width=\"172\" height=\"172\"><circle cx=\"215\" cy=\"215\" r=\"205\" fill=\"none\" stroke=\"black\" stroke-width=\"2\" stroke-dasharray=\"3,3\"/> <circle cx=\"157\" cy=\"387\" r=\"8\" fill=\"rgb(255,252,252)\" class=\"agent_1_21\"/><circle cx=\"154\" cy=\"325\" r=\"11\" fill=\"rgb(255,252,252)\" class=\"agent_1_32\"/><circle cx=\"363\" cy=\"330\" r=\"13\" fill=\"rgb(255,244,244)\" class=\"agent_1_45\"/><circle cx=\"287\" cy=\"264\" r=\"7\" fill=\"rgb(255,234,234)\" class=\"agent_1_59\"/><circle cx=\"246\" cy=\"261\" r=\"8\" fill=\"rgb(255,235,235)\" class=\"agent_1_65\"/><circle cx=\"153\" cy=\"206\" r=\"11\" fill=\"rgb(255,249,249)\" class=\"agent_1_71\"/><circle cx=\"410\" cy=\"236\" r=\"13\" fill=\"rgb(255,244,244)\" class=\"agent_1_75\"/></svg><svg viewBox='0 0 430 430' id=\"svg\" width=\"172\" height=\"172\"><circle cx=\"215\" cy=\"215\" r=\"205\" fill=\"none\" stroke=\"black\" stroke-width=\"2\" stroke-dasharray=\"3,3\"/> <circle cx=\"157\" cy=\"387\" r=\"8\" fill=\"rgb(255,237,237)\" class=\"agent_1_21\"/><circle cx=\"154\" cy=\"325\" r=\"11\" fill=\"rgb(255,238,238)\" class=\"agent_1_32\"/><circle cx=\"363\" cy=\"330\" r=\"13\" fill=\"rgb(255,244,244)\" class=\"agent_1_45\"/><circle cx=\"287\" cy=\"264\" r=\"7\" fill=\"rgb(255,135,135)\" class=\"agent_1_59\"/><circle cx=\"246\" cy=\"261\" r=\"8\" fill=\"rgb(255,201,201)\" class=\"agent_1_65\"/><circle cx=\"153\" cy=\"206\" r=\"11\" fill=\"rgb(255,238,238)\" class=\"agent_1_71\"/><circle cx=\"410\" cy=\"236\" r=\"13\" fill=\"rgb(255,246,246)\" class=\"agent_1_75\"/></svg><svg viewBox='0 0 430 430' id=\"svg\" width=\"172\" height=\"172\"><circle cx=\"215\" cy=\"215\" r=\"205\" fill=\"none\" stroke=\"black\" stroke-width=\"2\" stroke-dasharray=\"3,3\"/> <circle cx=\"157\" cy=\"387\" r=\"8\" fill=\"rgb(255,229,229)\" class=\"agent_1_21\"/><circle cx=\"154\" cy=\"325\" r=\"11\" fill=\"rgb(255,251,251)\" class=\"agent_1_32\"/><circle cx=\"363\" cy=\"330\" r=\"13\" fill=\"rgb(255,253,253)\" class=\"agent_1_45\"/><circle cx=\"287\" cy=\"264\" r=\"7\" fill=\"rgb(255,56,56)\" class=\"agent_1_59\"/><circle cx=\"246\" cy=\"261\" r=\"8\" fill=\"rgb(255,238,238)\" class=\"agent_1_65\"/><circle cx=\"153\" cy=\"206\" r=\"11\" fill=\"rgb(255,250,250)\" class=\"agent_1_71\"/><circle cx=\"410\" cy=\"236\" r=\"13\" fill=\"rgb(255,253,253)\" class=\"agent_1_75\"/></svg></div>"
      ],
      "text/plain": [
       "<IPython.core.display.HTML object>"
      ]
     },
     "metadata": {},
     "output_type": "display_data"
    },
    {
     "name": "stdout",
     "output_type": "stream",
     "text": [
      "partner_refs_pred\n"
     ]
    },
    {
     "data": {
      "text/html": [
       "<div style=\"white-space: nowrap\"><svg viewbox='0 0 430 430' width=\"172\" height=\"172\" id=\"agent_1\"><circle cx=\"215\" cy=\"215\" r=\"205\" fill=\"none\" stroke=\"black\" stroke-width=\"2\" stroke-dasharray=\"3,3\"/><circle cx=\"157\" cy=\"387\" r=\"8\" fill=\"rgb(186,186,186)\"/><circle cx=\"154\" cy=\"325\" r=\"11\" fill=\"rgb(137,137,137)\"/><circle cx=\"363\" cy=\"330\" r=\"13\" fill=\"rgb(137,137,137)\"/><circle cx=\"287\" cy=\"264\" r=\"7\" fill=\"rgb(176,176,176)\"/><circle cx=\"246\" cy=\"261\" r=\"8\" fill=\"rgb(130,130,130)\"/><circle cx=\"153\" cy=\"206\" r=\"11\" fill=\"rgb(147,147,147)\"/><circle cx=\"410\" cy=\"236\" r=\"13\" fill=\"rgb(138,138,138)\"/></svg><svg viewBox='0 0 430 430' id=\"svg\" width=\"172\" height=\"172\"><circle cx=\"215\" cy=\"215\" r=\"205\" fill=\"none\" stroke=\"black\" stroke-width=\"2\" stroke-dasharray=\"3,3\"/> <circle cx=\"157\" cy=\"387\" r=\"8\" fill=\"rgb(255,255,255)\" class=\"agent_1_21\"/><circle cx=\"154\" cy=\"325\" r=\"11\" fill=\"rgb(255,255,255)\" class=\"agent_1_32\"/><circle cx=\"363\" cy=\"330\" r=\"13\" fill=\"rgb(255,255,255)\" class=\"agent_1_45\"/><circle cx=\"287\" cy=\"264\" r=\"7\" fill=\"rgb(255,255,255)\" class=\"agent_1_59\"/><circle cx=\"246\" cy=\"261\" r=\"8\" fill=\"rgb(255,255,255)\" class=\"agent_1_65\"/><circle cx=\"153\" cy=\"206\" r=\"11\" fill=\"rgb(255,255,255)\" class=\"agent_1_71\"/><circle cx=\"410\" cy=\"236\" r=\"13\" fill=\"rgb(255,255,255)\" class=\"agent_1_75\"/></svg><svg viewBox='0 0 430 430' id=\"svg\" width=\"172\" height=\"172\"><circle cx=\"215\" cy=\"215\" r=\"205\" fill=\"none\" stroke=\"black\" stroke-width=\"2\" stroke-dasharray=\"3,3\"/> <circle cx=\"157\" cy=\"387\" r=\"8\" fill=\"rgb(255,255,255)\" class=\"agent_1_21\"/><circle cx=\"154\" cy=\"325\" r=\"11\" fill=\"rgb(255,255,255)\" class=\"agent_1_32\"/><circle cx=\"363\" cy=\"330\" r=\"13\" fill=\"rgb(255,255,255)\" class=\"agent_1_45\"/><circle cx=\"287\" cy=\"264\" r=\"7\" fill=\"rgb(255,0,0)\" class=\"agent_1_59\"/><circle cx=\"246\" cy=\"261\" r=\"8\" fill=\"rgb(255,255,255)\" class=\"agent_1_65\"/><circle cx=\"153\" cy=\"206\" r=\"11\" fill=\"rgb(255,255,255)\" class=\"agent_1_71\"/><circle cx=\"410\" cy=\"236\" r=\"13\" fill=\"rgb(255,255,255)\" class=\"agent_1_75\"/></svg><svg viewBox='0 0 430 430' id=\"svg\" width=\"172\" height=\"172\"><circle cx=\"215\" cy=\"215\" r=\"205\" fill=\"none\" stroke=\"black\" stroke-width=\"2\" stroke-dasharray=\"3,3\"/> <circle cx=\"157\" cy=\"387\" r=\"8\" fill=\"rgb(255,255,255)\" class=\"agent_1_21\"/><circle cx=\"154\" cy=\"325\" r=\"11\" fill=\"rgb(255,255,255)\" class=\"agent_1_32\"/><circle cx=\"363\" cy=\"330\" r=\"13\" fill=\"rgb(255,255,255)\" class=\"agent_1_45\"/><circle cx=\"287\" cy=\"264\" r=\"7\" fill=\"rgb(255,0,0)\" class=\"agent_1_59\"/><circle cx=\"246\" cy=\"261\" r=\"8\" fill=\"rgb(255,255,255)\" class=\"agent_1_65\"/><circle cx=\"153\" cy=\"206\" r=\"11\" fill=\"rgb(255,255,255)\" class=\"agent_1_71\"/><circle cx=\"410\" cy=\"236\" r=\"13\" fill=\"rgb(255,255,255)\" class=\"agent_1_75\"/></svg></div>"
      ],
      "text/plain": [
       "<IPython.core.display.HTML object>"
      ]
     },
     "metadata": {},
     "output_type": "display_data"
    },
    {
     "name": "stdout",
     "output_type": "stream",
     "text": [
      "partner_refs_true\n"
     ]
    },
    {
     "data": {
      "text/html": [
       "<div style=\"white-space: nowrap\"><svg viewbox='0 0 430 430' width=\"172\" height=\"172\" id=\"agent_1\"><circle cx=\"215\" cy=\"215\" r=\"205\" fill=\"none\" stroke=\"black\" stroke-width=\"2\" stroke-dasharray=\"3,3\"/><circle cx=\"157\" cy=\"387\" r=\"8\" fill=\"rgb(186,186,186)\"/><circle cx=\"154\" cy=\"325\" r=\"11\" fill=\"rgb(137,137,137)\"/><circle cx=\"363\" cy=\"330\" r=\"13\" fill=\"rgb(137,137,137)\"/><circle cx=\"287\" cy=\"264\" r=\"7\" fill=\"rgb(176,176,176)\"/><circle cx=\"246\" cy=\"261\" r=\"8\" fill=\"rgb(130,130,130)\"/><circle cx=\"153\" cy=\"206\" r=\"11\" fill=\"rgb(147,147,147)\"/><circle cx=\"410\" cy=\"236\" r=\"13\" fill=\"rgb(138,138,138)\"/></svg><svg viewBox='0 0 430 430' id=\"svg\" width=\"172\" height=\"172\"><circle cx=\"215\" cy=\"215\" r=\"205\" fill=\"none\" stroke=\"black\" stroke-width=\"2\" stroke-dasharray=\"3,3\"/> <circle cx=\"157\" cy=\"387\" r=\"8\" fill=\"rgb(255,255,255)\" class=\"agent_1_21\"/><circle cx=\"154\" cy=\"325\" r=\"11\" fill=\"rgb(255,255,255)\" class=\"agent_1_32\"/><circle cx=\"363\" cy=\"330\" r=\"13\" fill=\"rgb(255,255,255)\" class=\"agent_1_45\"/><circle cx=\"287\" cy=\"264\" r=\"7\" fill=\"rgb(255,0,0)\" class=\"agent_1_59\"/><circle cx=\"246\" cy=\"261\" r=\"8\" fill=\"rgb(255,0,0)\" class=\"agent_1_65\"/><circle cx=\"153\" cy=\"206\" r=\"11\" fill=\"rgb(255,255,255)\" class=\"agent_1_71\"/><circle cx=\"410\" cy=\"236\" r=\"13\" fill=\"rgb(255,255,255)\" class=\"agent_1_75\"/></svg><svg viewBox='0 0 430 430' id=\"svg\" width=\"172\" height=\"172\"><circle cx=\"215\" cy=\"215\" r=\"205\" fill=\"none\" stroke=\"black\" stroke-width=\"2\" stroke-dasharray=\"3,3\"/> <circle cx=\"157\" cy=\"387\" r=\"8\" fill=\"rgb(255,255,255)\" class=\"agent_1_21\"/><circle cx=\"154\" cy=\"325\" r=\"11\" fill=\"rgb(255,255,255)\" class=\"agent_1_32\"/><circle cx=\"363\" cy=\"330\" r=\"13\" fill=\"rgb(255,255,255)\" class=\"agent_1_45\"/><circle cx=\"287\" cy=\"264\" r=\"7\" fill=\"rgb(255,0,0)\" class=\"agent_1_59\"/><circle cx=\"246\" cy=\"261\" r=\"8\" fill=\"rgb(255,255,255)\" class=\"agent_1_65\"/><circle cx=\"153\" cy=\"206\" r=\"11\" fill=\"rgb(255,255,255)\" class=\"agent_1_71\"/><circle cx=\"410\" cy=\"236\" r=\"13\" fill=\"rgb(255,255,255)\" class=\"agent_1_75\"/></svg><svg viewBox='0 0 430 430' id=\"svg\" width=\"172\" height=\"172\"><circle cx=\"215\" cy=\"215\" r=\"205\" fill=\"none\" stroke=\"black\" stroke-width=\"2\" stroke-dasharray=\"3,3\"/> <circle cx=\"157\" cy=\"387\" r=\"8\" fill=\"rgb(255,255,255)\" class=\"agent_1_21\"/><circle cx=\"154\" cy=\"325\" r=\"11\" fill=\"rgb(255,255,255)\" class=\"agent_1_32\"/><circle cx=\"363\" cy=\"330\" r=\"13\" fill=\"rgb(255,255,255)\" class=\"agent_1_45\"/><circle cx=\"287\" cy=\"264\" r=\"7\" fill=\"rgb(255,0,0)\" class=\"agent_1_59\"/><circle cx=\"246\" cy=\"261\" r=\"8\" fill=\"rgb(255,255,255)\" class=\"agent_1_65\"/><circle cx=\"153\" cy=\"206\" r=\"11\" fill=\"rgb(255,255,255)\" class=\"agent_1_71\"/><circle cx=\"410\" cy=\"236\" r=\"13\" fill=\"rgb(255,255,255)\" class=\"agent_1_75\"/></svg></div>"
      ],
      "text/plain": [
       "<IPython.core.display.HTML object>"
      ]
     },
     "metadata": {},
     "output_type": "display_data"
    },
    {
     "name": "stdout",
     "output_type": "stream",
     "text": [
      "partner_ref_true (their view)\n"
     ]
    },
    {
     "data": {
      "text/html": [
       "<div style=\"white-space: nowrap\"><svg viewbox='0 0 430 430' width=\"172\" height=\"172\" id=\"agent_0\"><circle cx=\"215\" cy=\"215\" r=\"205\" fill=\"none\" stroke=\"black\" stroke-width=\"2\" stroke-dasharray=\"3,3\"/><circle cx=\"88\" cy=\"352\" r=\"8\" fill=\"rgb(154,154,154)\"/><circle cx=\"222\" cy=\"260\" r=\"8\" fill=\"rgb(186,186,186)\"/><circle cx=\"219\" cy=\"198\" r=\"11\" fill=\"rgb(137,137,137)\"/><circle cx=\"377\" cy=\"328\" r=\"8\" fill=\"rgb(174,174,174)\"/><circle cx=\"352\" cy=\"137\" r=\"7\" fill=\"rgb(176,176,176)\"/><circle cx=\"311\" cy=\"133\" r=\"8\" fill=\"rgb(130,130,130)\"/><circle cx=\"218\" cy=\"79\" r=\"11\" fill=\"rgb(147,147,147)\"/></svg><svg viewBox='0 0 430 430' id=\"svg\" width=\"172\" height=\"172\"><circle cx=\"215\" cy=\"215\" r=\"205\" fill=\"none\" stroke=\"black\" stroke-width=\"2\" stroke-dasharray=\"3,3\"/> <circle cx=\"88\" cy=\"352\" r=\"8\" fill=\"rgb(255,255,255)\" class=\"agent_0_7\"/><circle cx=\"222\" cy=\"260\" r=\"8\" fill=\"rgb(255,255,255)\" class=\"agent_0_21\"/><circle cx=\"219\" cy=\"198\" r=\"11\" fill=\"rgb(255,255,255)\" class=\"agent_0_32\"/><circle cx=\"377\" cy=\"328\" r=\"8\" fill=\"rgb(255,255,255)\" class=\"agent_0_39\"/><circle cx=\"352\" cy=\"137\" r=\"7\" fill=\"rgb(255,0,0)\" class=\"agent_0_59\"/><circle cx=\"311\" cy=\"133\" r=\"8\" fill=\"rgb(255,0,0)\" class=\"agent_0_65\"/><circle cx=\"218\" cy=\"79\" r=\"11\" fill=\"rgb(255,255,255)\" class=\"agent_0_71\"/></svg><svg viewBox='0 0 430 430' id=\"svg\" width=\"172\" height=\"172\"><circle cx=\"215\" cy=\"215\" r=\"205\" fill=\"none\" stroke=\"black\" stroke-width=\"2\" stroke-dasharray=\"3,3\"/> <circle cx=\"88\" cy=\"352\" r=\"8\" fill=\"rgb(255,255,255)\" class=\"agent_0_7\"/><circle cx=\"222\" cy=\"260\" r=\"8\" fill=\"rgb(255,255,255)\" class=\"agent_0_21\"/><circle cx=\"219\" cy=\"198\" r=\"11\" fill=\"rgb(255,255,255)\" class=\"agent_0_32\"/><circle cx=\"377\" cy=\"328\" r=\"8\" fill=\"rgb(255,255,255)\" class=\"agent_0_39\"/><circle cx=\"352\" cy=\"137\" r=\"7\" fill=\"rgb(255,0,0)\" class=\"agent_0_59\"/><circle cx=\"311\" cy=\"133\" r=\"8\" fill=\"rgb(255,255,255)\" class=\"agent_0_65\"/><circle cx=\"218\" cy=\"79\" r=\"11\" fill=\"rgb(255,255,255)\" class=\"agent_0_71\"/></svg><svg viewBox='0 0 430 430' id=\"svg\" width=\"172\" height=\"172\"><circle cx=\"215\" cy=\"215\" r=\"205\" fill=\"none\" stroke=\"black\" stroke-width=\"2\" stroke-dasharray=\"3,3\"/> <circle cx=\"88\" cy=\"352\" r=\"8\" fill=\"rgb(255,255,255)\" class=\"agent_0_7\"/><circle cx=\"222\" cy=\"260\" r=\"8\" fill=\"rgb(255,255,255)\" class=\"agent_0_21\"/><circle cx=\"219\" cy=\"198\" r=\"11\" fill=\"rgb(255,255,255)\" class=\"agent_0_32\"/><circle cx=\"377\" cy=\"328\" r=\"8\" fill=\"rgb(255,255,255)\" class=\"agent_0_39\"/><circle cx=\"352\" cy=\"137\" r=\"7\" fill=\"rgb(255,0,0)\" class=\"agent_0_59\"/><circle cx=\"311\" cy=\"133\" r=\"8\" fill=\"rgb(255,255,255)\" class=\"agent_0_65\"/><circle cx=\"218\" cy=\"79\" r=\"11\" fill=\"rgb(255,255,255)\" class=\"agent_0_71\"/></svg></div>"
      ],
      "text/plain": [
       "<IPython.core.display.HTML object>"
      ]
     },
     "metadata": {},
     "output_type": "display_data"
    },
    {
     "name": "stdout",
     "output_type": "stream",
     "text": [
      "\n",
      "----------------------------------------\n",
      "\n",
      "sel_pred\n"
     ]
    },
    {
     "data": {
      "text/html": [
       "<div style=\"white-space: nowrap\"><svg viewbox='0 0 430 430' width=\"172\" height=\"172\" id=\"agent_1\"><circle cx=\"215\" cy=\"215\" r=\"205\" fill=\"none\" stroke=\"black\" stroke-width=\"2\" stroke-dasharray=\"3,3\"/><circle cx=\"157\" cy=\"387\" r=\"8\" fill=\"rgb(186,186,186)\"/><circle cx=\"154\" cy=\"325\" r=\"11\" fill=\"rgb(137,137,137)\"/><circle cx=\"363\" cy=\"330\" r=\"13\" fill=\"rgb(137,137,137)\"/><circle cx=\"287\" cy=\"264\" r=\"7\" fill=\"rgb(176,176,176)\"/><circle cx=\"246\" cy=\"261\" r=\"8\" fill=\"rgb(130,130,130)\"/><circle cx=\"153\" cy=\"206\" r=\"11\" fill=\"rgb(147,147,147)\"/><circle cx=\"410\" cy=\"236\" r=\"13\" fill=\"rgb(138,138,138)\"/></svg><svg viewBox='0 0 430 430' id=\"svg\" width=\"172\" height=\"172\"><circle cx=\"215\" cy=\"215\" r=\"205\" fill=\"none\" stroke=\"black\" stroke-width=\"2\" stroke-dasharray=\"3,3\"/> <circle cx=\"157\" cy=\"387\" r=\"8\" fill=\"rgb(255,249,249)\" class=\"agent_1_21\"/><circle cx=\"154\" cy=\"325\" r=\"11\" fill=\"rgb(255,253,253)\" class=\"agent_1_32\"/><circle cx=\"363\" cy=\"330\" r=\"13\" fill=\"rgb(255,254,254)\" class=\"agent_1_45\"/><circle cx=\"287\" cy=\"264\" r=\"7\" fill=\"rgb(255,85,85)\" class=\"agent_1_59\"/><circle cx=\"246\" cy=\"261\" r=\"8\" fill=\"rgb(255,206,206)\" class=\"agent_1_65\"/><circle cx=\"153\" cy=\"206\" r=\"11\" fill=\"rgb(255,253,253)\" class=\"agent_1_71\"/><circle cx=\"410\" cy=\"236\" r=\"13\" fill=\"rgb(255,254,254)\" class=\"agent_1_75\"/></svg></div>"
      ],
      "text/plain": [
       "<IPython.core.display.HTML object>"
      ]
     },
     "metadata": {},
     "output_type": "display_data"
    },
    {
     "name": "stdout",
     "output_type": "stream",
     "text": [
      "sel_true\n"
     ]
    },
    {
     "data": {
      "text/html": [
       "<div style=\"white-space: nowrap\"><svg viewbox='0 0 430 430' width=\"172\" height=\"172\" id=\"agent_1\"><circle cx=\"215\" cy=\"215\" r=\"205\" fill=\"none\" stroke=\"black\" stroke-width=\"2\" stroke-dasharray=\"3,3\"/><circle cx=\"157\" cy=\"387\" r=\"8\" fill=\"rgb(186,186,186)\"/><circle cx=\"154\" cy=\"325\" r=\"11\" fill=\"rgb(137,137,137)\"/><circle cx=\"363\" cy=\"330\" r=\"13\" fill=\"rgb(137,137,137)\"/><circle cx=\"287\" cy=\"264\" r=\"7\" fill=\"rgb(176,176,176)\"/><circle cx=\"246\" cy=\"261\" r=\"8\" fill=\"rgb(130,130,130)\"/><circle cx=\"153\" cy=\"206\" r=\"11\" fill=\"rgb(147,147,147)\"/><circle cx=\"410\" cy=\"236\" r=\"13\" fill=\"rgb(138,138,138)\"/></svg><svg viewBox='0 0 430 430' id=\"svg\" width=\"172\" height=\"172\"><circle cx=\"215\" cy=\"215\" r=\"205\" fill=\"none\" stroke=\"black\" stroke-width=\"2\" stroke-dasharray=\"3,3\"/> <circle cx=\"157\" cy=\"387\" r=\"8\" fill=\"rgb(255,255,255)\" class=\"agent_1_21\"/><circle cx=\"154\" cy=\"325\" r=\"11\" fill=\"rgb(255,255,255)\" class=\"agent_1_32\"/><circle cx=\"363\" cy=\"330\" r=\"13\" fill=\"rgb(255,255,255)\" class=\"agent_1_45\"/><circle cx=\"287\" cy=\"264\" r=\"7\" fill=\"rgb(255,0,0)\" class=\"agent_1_59\"/><circle cx=\"246\" cy=\"261\" r=\"8\" fill=\"rgb(255,255,255)\" class=\"agent_1_65\"/><circle cx=\"153\" cy=\"206\" r=\"11\" fill=\"rgb(255,255,255)\" class=\"agent_1_71\"/><circle cx=\"410\" cy=\"236\" r=\"13\" fill=\"rgb(255,255,255)\" class=\"agent_1_75\"/></svg></div>"
      ],
      "text/plain": [
       "<IPython.core.display.HTML object>"
      ]
     },
     "metadata": {},
     "output_type": "display_data"
    }
   ],
   "source": [
    "force_contexts_and_mentions(7, min_num_mentions=1, mention_marginals=True,\n",
    "                            ref_marginals=True, for_partner=True)"
   ]
  },
  {
   "cell_type": "code",
   "execution_count": 78,
   "metadata": {
    "scrolled": false
   },
   "outputs": [
    {
     "name": "stdout",
     "output_type": "stream",
     "text": [
      "scenario_id: S_TJburcYs185be982\n",
      "to_mention_marginals\n"
     ]
    },
    {
     "data": {
      "text/html": [
       "<div style=\"white-space: nowrap\"><svg viewbox='0 0 430 430' width=\"172\" height=\"172\" id=\"agent_0\"><circle cx=\"215\" cy=\"215\" r=\"205\" fill=\"none\" stroke=\"black\" stroke-width=\"2\" stroke-dasharray=\"3,3\"/><circle cx=\"402\" cy=\"172\" r=\"10\" fill=\"rgb(73,73,73)\"/><circle cx=\"121\" cy=\"260\" r=\"7\" fill=\"rgb(137,137,137)\"/><circle cx=\"67\" cy=\"121\" r=\"12\" fill=\"rgb(67,67,67)\"/><circle cx=\"283\" cy=\"64\" r=\"7\" fill=\"rgb(148,148,148)\"/><circle cx=\"217\" cy=\"362\" r=\"11\" fill=\"rgb(126,126,126)\"/><circle cx=\"393\" cy=\"257\" r=\"12\" fill=\"rgb(154,154,154)\"/><circle cx=\"226\" cy=\"215\" r=\"9\" fill=\"rgb(68,68,68)\"/></svg><svg viewBox='0 0 430 430' id=\"svg\" width=\"172\" height=\"172\"><circle cx=\"215\" cy=\"215\" r=\"205\" fill=\"none\" stroke=\"black\" stroke-width=\"2\" stroke-dasharray=\"3,3\"/> <circle cx=\"402\" cy=\"172\" r=\"10\" fill=\"rgb(255,208,208)\" class=\"agent_0_20\"/><circle cx=\"121\" cy=\"260\" r=\"7\" fill=\"rgb(255,211,211)\" class=\"agent_0_33\"/><circle cx=\"67\" cy=\"121\" r=\"12\" fill=\"rgb(255,169,169)\" class=\"agent_0_40\"/><circle cx=\"283\" cy=\"64\" r=\"7\" fill=\"rgb(255,210,210)\" class=\"agent_0_41\"/><circle cx=\"217\" cy=\"362\" r=\"11\" fill=\"rgb(255,223,223)\" class=\"agent_0_51\"/><circle cx=\"393\" cy=\"257\" r=\"12\" fill=\"rgb(255,216,216)\" class=\"agent_0_58\"/><circle cx=\"226\" cy=\"215\" r=\"9\" fill=\"rgb(255,192,192)\" class=\"agent_0_62\"/></svg><svg viewBox='0 0 430 430' id=\"svg\" width=\"172\" height=\"172\"><circle cx=\"215\" cy=\"215\" r=\"205\" fill=\"none\" stroke=\"black\" stroke-width=\"2\" stroke-dasharray=\"3,3\"/> <circle cx=\"402\" cy=\"172\" r=\"10\" fill=\"rgb(255,198,198)\" class=\"agent_0_20\"/><circle cx=\"121\" cy=\"260\" r=\"7\" fill=\"rgb(255,204,204)\" class=\"agent_0_33\"/><circle cx=\"67\" cy=\"121\" r=\"12\" fill=\"rgb(255,194,194)\" class=\"agent_0_40\"/><circle cx=\"283\" cy=\"64\" r=\"7\" fill=\"rgb(255,209,209)\" class=\"agent_0_41\"/><circle cx=\"217\" cy=\"362\" r=\"11\" fill=\"rgb(255,209,209)\" class=\"agent_0_51\"/><circle cx=\"393\" cy=\"257\" r=\"12\" fill=\"rgb(255,204,204)\" class=\"agent_0_58\"/><circle cx=\"226\" cy=\"215\" r=\"9\" fill=\"rgb(255,189,189)\" class=\"agent_0_62\"/></svg><svg viewBox='0 0 430 430' id=\"svg\" width=\"172\" height=\"172\"><circle cx=\"215\" cy=\"215\" r=\"205\" fill=\"none\" stroke=\"black\" stroke-width=\"2\" stroke-dasharray=\"3,3\"/> <circle cx=\"402\" cy=\"172\" r=\"10\" fill=\"rgb(255,205,205)\" class=\"agent_0_20\"/><circle cx=\"121\" cy=\"260\" r=\"7\" fill=\"rgb(255,215,215)\" class=\"agent_0_33\"/><circle cx=\"67\" cy=\"121\" r=\"12\" fill=\"rgb(255,203,203)\" class=\"agent_0_40\"/><circle cx=\"283\" cy=\"64\" r=\"7\" fill=\"rgb(255,219,219)\" class=\"agent_0_41\"/><circle cx=\"217\" cy=\"362\" r=\"11\" fill=\"rgb(255,223,223)\" class=\"agent_0_51\"/><circle cx=\"393\" cy=\"257\" r=\"12\" fill=\"rgb(255,214,214)\" class=\"agent_0_58\"/><circle cx=\"226\" cy=\"215\" r=\"9\" fill=\"rgb(255,192,192)\" class=\"agent_0_62\"/></svg></div>"
      ],
      "text/plain": [
       "<IPython.core.display.HTML object>"
      ]
     },
     "metadata": {},
     "output_type": "display_data"
    },
    {
     "name": "stdout",
     "output_type": "stream",
     "text": [
      "to_mention_pred\n"
     ]
    },
    {
     "data": {
      "text/html": [
       "<div style=\"white-space: nowrap\"><svg viewbox='0 0 430 430' width=\"172\" height=\"172\" id=\"agent_0\"><circle cx=\"215\" cy=\"215\" r=\"205\" fill=\"none\" stroke=\"black\" stroke-width=\"2\" stroke-dasharray=\"3,3\"/><circle cx=\"402\" cy=\"172\" r=\"10\" fill=\"rgb(73,73,73)\"/><circle cx=\"121\" cy=\"260\" r=\"7\" fill=\"rgb(137,137,137)\"/><circle cx=\"67\" cy=\"121\" r=\"12\" fill=\"rgb(67,67,67)\"/><circle cx=\"283\" cy=\"64\" r=\"7\" fill=\"rgb(148,148,148)\"/><circle cx=\"217\" cy=\"362\" r=\"11\" fill=\"rgb(126,126,126)\"/><circle cx=\"393\" cy=\"257\" r=\"12\" fill=\"rgb(154,154,154)\"/><circle cx=\"226\" cy=\"215\" r=\"9\" fill=\"rgb(68,68,68)\"/></svg><svg viewBox='0 0 430 430' id=\"svg\" width=\"172\" height=\"172\"><circle cx=\"215\" cy=\"215\" r=\"205\" fill=\"none\" stroke=\"black\" stroke-width=\"2\" stroke-dasharray=\"3,3\"/> <circle cx=\"402\" cy=\"172\" r=\"10\" fill=\"rgb(255,255,255)\" class=\"agent_0_20\"/><circle cx=\"121\" cy=\"260\" r=\"7\" fill=\"rgb(255,255,255)\" class=\"agent_0_33\"/><circle cx=\"67\" cy=\"121\" r=\"12\" fill=\"rgb(255,0,0)\" class=\"agent_0_40\"/><circle cx=\"283\" cy=\"64\" r=\"7\" fill=\"rgb(255,255,255)\" class=\"agent_0_41\"/><circle cx=\"217\" cy=\"362\" r=\"11\" fill=\"rgb(255,255,255)\" class=\"agent_0_51\"/><circle cx=\"393\" cy=\"257\" r=\"12\" fill=\"rgb(255,255,255)\" class=\"agent_0_58\"/><circle cx=\"226\" cy=\"215\" r=\"9\" fill=\"rgb(255,255,255)\" class=\"agent_0_62\"/></svg><svg viewBox='0 0 430 430' id=\"svg\" width=\"172\" height=\"172\"><circle cx=\"215\" cy=\"215\" r=\"205\" fill=\"none\" stroke=\"black\" stroke-width=\"2\" stroke-dasharray=\"3,3\"/> <circle cx=\"402\" cy=\"172\" r=\"10\" fill=\"rgb(255,255,255)\" class=\"agent_0_20\"/><circle cx=\"121\" cy=\"260\" r=\"7\" fill=\"rgb(255,255,255)\" class=\"agent_0_33\"/><circle cx=\"67\" cy=\"121\" r=\"12\" fill=\"rgb(255,255,255)\" class=\"agent_0_40\"/><circle cx=\"283\" cy=\"64\" r=\"7\" fill=\"rgb(255,255,255)\" class=\"agent_0_41\"/><circle cx=\"217\" cy=\"362\" r=\"11\" fill=\"rgb(255,255,255)\" class=\"agent_0_51\"/><circle cx=\"393\" cy=\"257\" r=\"12\" fill=\"rgb(255,255,255)\" class=\"agent_0_58\"/><circle cx=\"226\" cy=\"215\" r=\"9\" fill=\"rgb(255,255,255)\" class=\"agent_0_62\"/></svg><svg viewBox='0 0 430 430' id=\"svg\" width=\"172\" height=\"172\"><circle cx=\"215\" cy=\"215\" r=\"205\" fill=\"none\" stroke=\"black\" stroke-width=\"2\" stroke-dasharray=\"3,3\"/> <circle cx=\"402\" cy=\"172\" r=\"10\" fill=\"rgb(255,255,255)\" class=\"agent_0_20\"/><circle cx=\"121\" cy=\"260\" r=\"7\" fill=\"rgb(255,255,255)\" class=\"agent_0_33\"/><circle cx=\"67\" cy=\"121\" r=\"12\" fill=\"rgb(255,255,255)\" class=\"agent_0_40\"/><circle cx=\"283\" cy=\"64\" r=\"7\" fill=\"rgb(255,255,255)\" class=\"agent_0_41\"/><circle cx=\"217\" cy=\"362\" r=\"11\" fill=\"rgb(255,255,255)\" class=\"agent_0_51\"/><circle cx=\"393\" cy=\"257\" r=\"12\" fill=\"rgb(255,255,255)\" class=\"agent_0_58\"/><circle cx=\"226\" cy=\"215\" r=\"9\" fill=\"rgb(255,255,255)\" class=\"agent_0_62\"/></svg></div>"
      ],
      "text/plain": [
       "<IPython.core.display.HTML object>"
      ]
     },
     "metadata": {},
     "output_type": "display_data"
    },
    {
     "name": "stdout",
     "output_type": "stream",
     "text": [
      "to_mention_true\n"
     ]
    },
    {
     "data": {
      "text/html": [
       "<div style=\"white-space: nowrap\"><svg viewbox='0 0 430 430' width=\"172\" height=\"172\" id=\"agent_0\"><circle cx=\"215\" cy=\"215\" r=\"205\" fill=\"none\" stroke=\"black\" stroke-width=\"2\" stroke-dasharray=\"3,3\"/><circle cx=\"402\" cy=\"172\" r=\"10\" fill=\"rgb(73,73,73)\"/><circle cx=\"121\" cy=\"260\" r=\"7\" fill=\"rgb(137,137,137)\"/><circle cx=\"67\" cy=\"121\" r=\"12\" fill=\"rgb(67,67,67)\"/><circle cx=\"283\" cy=\"64\" r=\"7\" fill=\"rgb(148,148,148)\"/><circle cx=\"217\" cy=\"362\" r=\"11\" fill=\"rgb(126,126,126)\"/><circle cx=\"393\" cy=\"257\" r=\"12\" fill=\"rgb(154,154,154)\"/><circle cx=\"226\" cy=\"215\" r=\"9\" fill=\"rgb(68,68,68)\"/></svg><svg viewBox='0 0 430 430' id=\"svg\" width=\"172\" height=\"172\"><circle cx=\"215\" cy=\"215\" r=\"205\" fill=\"none\" stroke=\"black\" stroke-width=\"2\" stroke-dasharray=\"3,3\"/> <circle cx=\"402\" cy=\"172\" r=\"10\" fill=\"rgb(255,255,255)\" class=\"agent_0_20\"/><circle cx=\"121\" cy=\"260\" r=\"7\" fill=\"rgb(255,255,255)\" class=\"agent_0_33\"/><circle cx=\"67\" cy=\"121\" r=\"12\" fill=\"rgb(255,255,255)\" class=\"agent_0_40\"/><circle cx=\"283\" cy=\"64\" r=\"7\" fill=\"rgb(255,255,255)\" class=\"agent_0_41\"/><circle cx=\"217\" cy=\"362\" r=\"11\" fill=\"rgb(255,255,255)\" class=\"agent_0_51\"/><circle cx=\"393\" cy=\"257\" r=\"12\" fill=\"rgb(255,255,255)\" class=\"agent_0_58\"/><circle cx=\"226\" cy=\"215\" r=\"9\" fill=\"rgb(255,0,0)\" class=\"agent_0_62\"/></svg><svg viewBox='0 0 430 430' id=\"svg\" width=\"172\" height=\"172\"><circle cx=\"215\" cy=\"215\" r=\"205\" fill=\"none\" stroke=\"black\" stroke-width=\"2\" stroke-dasharray=\"3,3\"/> <circle cx=\"402\" cy=\"172\" r=\"10\" fill=\"rgb(255,255,255)\" class=\"agent_0_20\"/><circle cx=\"121\" cy=\"260\" r=\"7\" fill=\"rgb(255,255,255)\" class=\"agent_0_33\"/><circle cx=\"67\" cy=\"121\" r=\"12\" fill=\"rgb(255,255,255)\" class=\"agent_0_40\"/><circle cx=\"283\" cy=\"64\" r=\"7\" fill=\"rgb(255,255,255)\" class=\"agent_0_41\"/><circle cx=\"217\" cy=\"362\" r=\"11\" fill=\"rgb(255,255,255)\" class=\"agent_0_51\"/><circle cx=\"393\" cy=\"257\" r=\"12\" fill=\"rgb(255,255,255)\" class=\"agent_0_58\"/><circle cx=\"226\" cy=\"215\" r=\"9\" fill=\"rgb(255,0,0)\" class=\"agent_0_62\"/></svg><svg viewBox='0 0 430 430' id=\"svg\" width=\"172\" height=\"172\"><circle cx=\"215\" cy=\"215\" r=\"205\" fill=\"none\" stroke=\"black\" stroke-width=\"2\" stroke-dasharray=\"3,3\"/> <circle cx=\"402\" cy=\"172\" r=\"10\" fill=\"rgb(255,255,255)\" class=\"agent_0_20\"/><circle cx=\"121\" cy=\"260\" r=\"7\" fill=\"rgb(255,0,0)\" class=\"agent_0_33\"/><circle cx=\"67\" cy=\"121\" r=\"12\" fill=\"rgb(255,255,255)\" class=\"agent_0_40\"/><circle cx=\"283\" cy=\"64\" r=\"7\" fill=\"rgb(255,255,255)\" class=\"agent_0_41\"/><circle cx=\"217\" cy=\"362\" r=\"11\" fill=\"rgb(255,255,255)\" class=\"agent_0_51\"/><circle cx=\"393\" cy=\"257\" r=\"12\" fill=\"rgb(255,255,255)\" class=\"agent_0_58\"/><circle cx=\"226\" cy=\"215\" r=\"9\" fill=\"rgb(255,255,255)\" class=\"agent_0_62\"/></svg></div>"
      ],
      "text/plain": [
       "<IPython.core.display.HTML object>"
      ]
     },
     "metadata": {},
     "output_type": "display_data"
    },
    {
     "name": "stdout",
     "output_type": "stream",
     "text": [
      "predicted is_selection probability\n",
      "tensor([0.0101], grad_fn=<SigmoidBackward>)\n",
      "is_selection: tensor([False])\n",
      "beam 0\ti have a small black dot with a smaller light gray dot to the left of it <eos>\n",
      "greedy\ti have a small black dot with a smaller light gray dot to the left of it <eos>\n",
      "human\tright in the middle , hello . is there a small black dot ? off to it 's lower left is a tiny dark grey one ? <eos>\n",
      "detected markables:\n",
      "{'start': 42, 'end': 59, 'is_self': True, 'text': 'a small black dot'}\n",
      "{'start': 69, 'end': 74, 'is_self': True, 'text': \"it 's\"}\n",
      "{'start': 89, 'end': 109, 'is_self': True, 'text': 'a tiny dark grey one'}\n",
      "ref_marginal_probs\n"
     ]
    },
    {
     "data": {
      "text/html": [
       "<div style=\"white-space: nowrap\"><svg viewbox='0 0 430 430' width=\"172\" height=\"172\" id=\"agent_0\"><circle cx=\"215\" cy=\"215\" r=\"205\" fill=\"none\" stroke=\"black\" stroke-width=\"2\" stroke-dasharray=\"3,3\"/><circle cx=\"402\" cy=\"172\" r=\"10\" fill=\"rgb(73,73,73)\"/><circle cx=\"121\" cy=\"260\" r=\"7\" fill=\"rgb(137,137,137)\"/><circle cx=\"67\" cy=\"121\" r=\"12\" fill=\"rgb(67,67,67)\"/><circle cx=\"283\" cy=\"64\" r=\"7\" fill=\"rgb(148,148,148)\"/><circle cx=\"217\" cy=\"362\" r=\"11\" fill=\"rgb(126,126,126)\"/><circle cx=\"393\" cy=\"257\" r=\"12\" fill=\"rgb(154,154,154)\"/><circle cx=\"226\" cy=\"215\" r=\"9\" fill=\"rgb(68,68,68)\"/></svg><svg viewBox='0 0 430 430' id=\"svg\" width=\"172\" height=\"172\"><circle cx=\"215\" cy=\"215\" r=\"205\" fill=\"none\" stroke=\"black\" stroke-width=\"2\" stroke-dasharray=\"3,3\"/> <circle cx=\"402\" cy=\"172\" r=\"10\" fill=\"rgb(255,251,251)\" class=\"agent_0_20\"/><circle cx=\"121\" cy=\"260\" r=\"7\" fill=\"rgb(255,250,250)\" class=\"agent_0_33\"/><circle cx=\"67\" cy=\"121\" r=\"12\" fill=\"rgb(255,254,254)\" class=\"agent_0_40\"/><circle cx=\"283\" cy=\"64\" r=\"7\" fill=\"rgb(255,253,253)\" class=\"agent_0_41\"/><circle cx=\"217\" cy=\"362\" r=\"11\" fill=\"rgb(255,254,254)\" class=\"agent_0_51\"/><circle cx=\"393\" cy=\"257\" r=\"12\" fill=\"rgb(255,254,254)\" class=\"agent_0_58\"/><circle cx=\"226\" cy=\"215\" r=\"9\" fill=\"rgb(255,13,13)\" class=\"agent_0_62\"/></svg><svg viewBox='0 0 430 430' id=\"svg\" width=\"172\" height=\"172\"><circle cx=\"215\" cy=\"215\" r=\"205\" fill=\"none\" stroke=\"black\" stroke-width=\"2\" stroke-dasharray=\"3,3\"/> <circle cx=\"402\" cy=\"172\" r=\"10\" fill=\"rgb(255,212,212)\" class=\"agent_0_20\"/><circle cx=\"121\" cy=\"260\" r=\"7\" fill=\"rgb(255,236,236)\" class=\"agent_0_33\"/><circle cx=\"67\" cy=\"121\" r=\"12\" fill=\"rgb(255,246,246)\" class=\"agent_0_40\"/><circle cx=\"283\" cy=\"64\" r=\"7\" fill=\"rgb(255,245,245)\" class=\"agent_0_41\"/><circle cx=\"217\" cy=\"362\" r=\"11\" fill=\"rgb(255,252,252)\" class=\"agent_0_51\"/><circle cx=\"393\" cy=\"257\" r=\"12\" fill=\"rgb(255,253,253)\" class=\"agent_0_58\"/><circle cx=\"226\" cy=\"215\" r=\"9\" fill=\"rgb(255,83,83)\" class=\"agent_0_62\"/></svg><svg viewBox='0 0 430 430' id=\"svg\" width=\"172\" height=\"172\"><circle cx=\"215\" cy=\"215\" r=\"205\" fill=\"none\" stroke=\"black\" stroke-width=\"2\" stroke-dasharray=\"3,3\"/> <circle cx=\"402\" cy=\"172\" r=\"10\" fill=\"rgb(255,254,254)\" class=\"agent_0_20\"/><circle cx=\"121\" cy=\"260\" r=\"7\" fill=\"rgb(255,92,92)\" class=\"agent_0_33\"/><circle cx=\"67\" cy=\"121\" r=\"12\" fill=\"rgb(255,254,254)\" class=\"agent_0_40\"/><circle cx=\"283\" cy=\"64\" r=\"7\" fill=\"rgb(255,185,185)\" class=\"agent_0_41\"/><circle cx=\"217\" cy=\"362\" r=\"11\" fill=\"rgb(255,254,254)\" class=\"agent_0_51\"/><circle cx=\"393\" cy=\"257\" r=\"12\" fill=\"rgb(255,254,254)\" class=\"agent_0_58\"/><circle cx=\"226\" cy=\"215\" r=\"9\" fill=\"rgb(255,233,233)\" class=\"agent_0_62\"/></svg></div>"
      ],
      "text/plain": [
       "<IPython.core.display.HTML object>"
      ]
     },
     "metadata": {},
     "output_type": "display_data"
    },
    {
     "name": "stdout",
     "output_type": "stream",
     "text": [
      "refs_pred\n"
     ]
    },
    {
     "data": {
      "text/html": [
       "<div style=\"white-space: nowrap\"><svg viewbox='0 0 430 430' width=\"172\" height=\"172\" id=\"agent_0\"><circle cx=\"215\" cy=\"215\" r=\"205\" fill=\"none\" stroke=\"black\" stroke-width=\"2\" stroke-dasharray=\"3,3\"/><circle cx=\"402\" cy=\"172\" r=\"10\" fill=\"rgb(73,73,73)\"/><circle cx=\"121\" cy=\"260\" r=\"7\" fill=\"rgb(137,137,137)\"/><circle cx=\"67\" cy=\"121\" r=\"12\" fill=\"rgb(67,67,67)\"/><circle cx=\"283\" cy=\"64\" r=\"7\" fill=\"rgb(148,148,148)\"/><circle cx=\"217\" cy=\"362\" r=\"11\" fill=\"rgb(126,126,126)\"/><circle cx=\"393\" cy=\"257\" r=\"12\" fill=\"rgb(154,154,154)\"/><circle cx=\"226\" cy=\"215\" r=\"9\" fill=\"rgb(68,68,68)\"/></svg><svg viewBox='0 0 430 430' id=\"svg\" width=\"172\" height=\"172\"><circle cx=\"215\" cy=\"215\" r=\"205\" fill=\"none\" stroke=\"black\" stroke-width=\"2\" stroke-dasharray=\"3,3\"/> <circle cx=\"402\" cy=\"172\" r=\"10\" fill=\"rgb(255,255,255)\" class=\"agent_0_20\"/><circle cx=\"121\" cy=\"260\" r=\"7\" fill=\"rgb(255,255,255)\" class=\"agent_0_33\"/><circle cx=\"67\" cy=\"121\" r=\"12\" fill=\"rgb(255,255,255)\" class=\"agent_0_40\"/><circle cx=\"283\" cy=\"64\" r=\"7\" fill=\"rgb(255,255,255)\" class=\"agent_0_41\"/><circle cx=\"217\" cy=\"362\" r=\"11\" fill=\"rgb(255,255,255)\" class=\"agent_0_51\"/><circle cx=\"393\" cy=\"257\" r=\"12\" fill=\"rgb(255,255,255)\" class=\"agent_0_58\"/><circle cx=\"226\" cy=\"215\" r=\"9\" fill=\"rgb(255,0,0)\" class=\"agent_0_62\"/></svg><svg viewBox='0 0 430 430' id=\"svg\" width=\"172\" height=\"172\"><circle cx=\"215\" cy=\"215\" r=\"205\" fill=\"none\" stroke=\"black\" stroke-width=\"2\" stroke-dasharray=\"3,3\"/> <circle cx=\"402\" cy=\"172\" r=\"10\" fill=\"rgb(255,255,255)\" class=\"agent_0_20\"/><circle cx=\"121\" cy=\"260\" r=\"7\" fill=\"rgb(255,255,255)\" class=\"agent_0_33\"/><circle cx=\"67\" cy=\"121\" r=\"12\" fill=\"rgb(255,255,255)\" class=\"agent_0_40\"/><circle cx=\"283\" cy=\"64\" r=\"7\" fill=\"rgb(255,255,255)\" class=\"agent_0_41\"/><circle cx=\"217\" cy=\"362\" r=\"11\" fill=\"rgb(255,255,255)\" class=\"agent_0_51\"/><circle cx=\"393\" cy=\"257\" r=\"12\" fill=\"rgb(255,255,255)\" class=\"agent_0_58\"/><circle cx=\"226\" cy=\"215\" r=\"9\" fill=\"rgb(255,0,0)\" class=\"agent_0_62\"/></svg><svg viewBox='0 0 430 430' id=\"svg\" width=\"172\" height=\"172\"><circle cx=\"215\" cy=\"215\" r=\"205\" fill=\"none\" stroke=\"black\" stroke-width=\"2\" stroke-dasharray=\"3,3\"/> <circle cx=\"402\" cy=\"172\" r=\"10\" fill=\"rgb(255,255,255)\" class=\"agent_0_20\"/><circle cx=\"121\" cy=\"260\" r=\"7\" fill=\"rgb(255,0,0)\" class=\"agent_0_33\"/><circle cx=\"67\" cy=\"121\" r=\"12\" fill=\"rgb(255,255,255)\" class=\"agent_0_40\"/><circle cx=\"283\" cy=\"64\" r=\"7\" fill=\"rgb(255,255,255)\" class=\"agent_0_41\"/><circle cx=\"217\" cy=\"362\" r=\"11\" fill=\"rgb(255,255,255)\" class=\"agent_0_51\"/><circle cx=\"393\" cy=\"257\" r=\"12\" fill=\"rgb(255,255,255)\" class=\"agent_0_58\"/><circle cx=\"226\" cy=\"215\" r=\"9\" fill=\"rgb(255,255,255)\" class=\"agent_0_62\"/></svg></div>"
      ],
      "text/plain": [
       "<IPython.core.display.HTML object>"
      ]
     },
     "metadata": {},
     "output_type": "display_data"
    },
    {
     "name": "stdout",
     "output_type": "stream",
     "text": [
      "refs_true\n"
     ]
    },
    {
     "data": {
      "text/html": [
       "<div style=\"white-space: nowrap\"><svg viewbox='0 0 430 430' width=\"172\" height=\"172\" id=\"agent_0\"><circle cx=\"215\" cy=\"215\" r=\"205\" fill=\"none\" stroke=\"black\" stroke-width=\"2\" stroke-dasharray=\"3,3\"/><circle cx=\"402\" cy=\"172\" r=\"10\" fill=\"rgb(73,73,73)\"/><circle cx=\"121\" cy=\"260\" r=\"7\" fill=\"rgb(137,137,137)\"/><circle cx=\"67\" cy=\"121\" r=\"12\" fill=\"rgb(67,67,67)\"/><circle cx=\"283\" cy=\"64\" r=\"7\" fill=\"rgb(148,148,148)\"/><circle cx=\"217\" cy=\"362\" r=\"11\" fill=\"rgb(126,126,126)\"/><circle cx=\"393\" cy=\"257\" r=\"12\" fill=\"rgb(154,154,154)\"/><circle cx=\"226\" cy=\"215\" r=\"9\" fill=\"rgb(68,68,68)\"/></svg><svg viewBox='0 0 430 430' id=\"svg\" width=\"172\" height=\"172\"><circle cx=\"215\" cy=\"215\" r=\"205\" fill=\"none\" stroke=\"black\" stroke-width=\"2\" stroke-dasharray=\"3,3\"/> <circle cx=\"402\" cy=\"172\" r=\"10\" fill=\"rgb(255,255,255)\" class=\"agent_0_20\"/><circle cx=\"121\" cy=\"260\" r=\"7\" fill=\"rgb(255,255,255)\" class=\"agent_0_33\"/><circle cx=\"67\" cy=\"121\" r=\"12\" fill=\"rgb(255,255,255)\" class=\"agent_0_40\"/><circle cx=\"283\" cy=\"64\" r=\"7\" fill=\"rgb(255,255,255)\" class=\"agent_0_41\"/><circle cx=\"217\" cy=\"362\" r=\"11\" fill=\"rgb(255,255,255)\" class=\"agent_0_51\"/><circle cx=\"393\" cy=\"257\" r=\"12\" fill=\"rgb(255,255,255)\" class=\"agent_0_58\"/><circle cx=\"226\" cy=\"215\" r=\"9\" fill=\"rgb(255,0,0)\" class=\"agent_0_62\"/></svg><svg viewBox='0 0 430 430' id=\"svg\" width=\"172\" height=\"172\"><circle cx=\"215\" cy=\"215\" r=\"205\" fill=\"none\" stroke=\"black\" stroke-width=\"2\" stroke-dasharray=\"3,3\"/> <circle cx=\"402\" cy=\"172\" r=\"10\" fill=\"rgb(255,255,255)\" class=\"agent_0_20\"/><circle cx=\"121\" cy=\"260\" r=\"7\" fill=\"rgb(255,255,255)\" class=\"agent_0_33\"/><circle cx=\"67\" cy=\"121\" r=\"12\" fill=\"rgb(255,255,255)\" class=\"agent_0_40\"/><circle cx=\"283\" cy=\"64\" r=\"7\" fill=\"rgb(255,255,255)\" class=\"agent_0_41\"/><circle cx=\"217\" cy=\"362\" r=\"11\" fill=\"rgb(255,255,255)\" class=\"agent_0_51\"/><circle cx=\"393\" cy=\"257\" r=\"12\" fill=\"rgb(255,255,255)\" class=\"agent_0_58\"/><circle cx=\"226\" cy=\"215\" r=\"9\" fill=\"rgb(255,0,0)\" class=\"agent_0_62\"/></svg><svg viewBox='0 0 430 430' id=\"svg\" width=\"172\" height=\"172\"><circle cx=\"215\" cy=\"215\" r=\"205\" fill=\"none\" stroke=\"black\" stroke-width=\"2\" stroke-dasharray=\"3,3\"/> <circle cx=\"402\" cy=\"172\" r=\"10\" fill=\"rgb(255,255,255)\" class=\"agent_0_20\"/><circle cx=\"121\" cy=\"260\" r=\"7\" fill=\"rgb(255,0,0)\" class=\"agent_0_33\"/><circle cx=\"67\" cy=\"121\" r=\"12\" fill=\"rgb(255,255,255)\" class=\"agent_0_40\"/><circle cx=\"283\" cy=\"64\" r=\"7\" fill=\"rgb(255,255,255)\" class=\"agent_0_41\"/><circle cx=\"217\" cy=\"362\" r=\"11\" fill=\"rgb(255,255,255)\" class=\"agent_0_51\"/><circle cx=\"393\" cy=\"257\" r=\"12\" fill=\"rgb(255,255,255)\" class=\"agent_0_58\"/><circle cx=\"226\" cy=\"215\" r=\"9\" fill=\"rgb(255,255,255)\" class=\"agent_0_62\"/></svg></div>"
      ],
      "text/plain": [
       "<IPython.core.display.HTML object>"
      ]
     },
     "metadata": {},
     "output_type": "display_data"
    },
    {
     "name": "stdout",
     "output_type": "stream",
     "text": [
      "\n",
      "----------------------------------------\n",
      "\n",
      "predicted is_selection probability\n",
      "tensor([0.0484], grad_fn=<SigmoidBackward>)\n",
      "is_selection: tensor([True])\n",
      "human\tTHEM: yes . pick the black one <selection>\n",
      "detected markables:\n",
      "{'start': 14, 'end': 27, 'is_self': True, 'text': 'the black one'}\n",
      "partner_ref_marginal_probs\n"
     ]
    },
    {
     "data": {
      "text/html": [
       "<div style=\"white-space: nowrap\"><svg viewbox='0 0 430 430' width=\"172\" height=\"172\" id=\"agent_0\"><circle cx=\"215\" cy=\"215\" r=\"205\" fill=\"none\" stroke=\"black\" stroke-width=\"2\" stroke-dasharray=\"3,3\"/><circle cx=\"402\" cy=\"172\" r=\"10\" fill=\"rgb(73,73,73)\"/><circle cx=\"121\" cy=\"260\" r=\"7\" fill=\"rgb(137,137,137)\"/><circle cx=\"67\" cy=\"121\" r=\"12\" fill=\"rgb(67,67,67)\"/><circle cx=\"283\" cy=\"64\" r=\"7\" fill=\"rgb(148,148,148)\"/><circle cx=\"217\" cy=\"362\" r=\"11\" fill=\"rgb(126,126,126)\"/><circle cx=\"393\" cy=\"257\" r=\"12\" fill=\"rgb(154,154,154)\"/><circle cx=\"226\" cy=\"215\" r=\"9\" fill=\"rgb(68,68,68)\"/></svg><svg viewBox='0 0 430 430' id=\"svg\" width=\"172\" height=\"172\"><circle cx=\"215\" cy=\"215\" r=\"205\" fill=\"none\" stroke=\"black\" stroke-width=\"2\" stroke-dasharray=\"3,3\"/> <circle cx=\"402\" cy=\"172\" r=\"10\" fill=\"rgb(255,253,253)\" class=\"agent_0_20\"/><circle cx=\"121\" cy=\"260\" r=\"7\" fill=\"rgb(255,254,254)\" class=\"agent_0_33\"/><circle cx=\"67\" cy=\"121\" r=\"12\" fill=\"rgb(255,253,253)\" class=\"agent_0_40\"/><circle cx=\"283\" cy=\"64\" r=\"7\" fill=\"rgb(255,254,254)\" class=\"agent_0_41\"/><circle cx=\"217\" cy=\"362\" r=\"11\" fill=\"rgb(255,254,254)\" class=\"agent_0_51\"/><circle cx=\"393\" cy=\"257\" r=\"12\" fill=\"rgb(255,254,254)\" class=\"agent_0_58\"/><circle cx=\"226\" cy=\"215\" r=\"9\" fill=\"rgb(255,5,5)\" class=\"agent_0_62\"/></svg></div>"
      ],
      "text/plain": [
       "<IPython.core.display.HTML object>"
      ]
     },
     "metadata": {},
     "output_type": "display_data"
    },
    {
     "name": "stdout",
     "output_type": "stream",
     "text": [
      "partner_refs_pred\n"
     ]
    },
    {
     "data": {
      "text/html": [
       "<div style=\"white-space: nowrap\"><svg viewbox='0 0 430 430' width=\"172\" height=\"172\" id=\"agent_0\"><circle cx=\"215\" cy=\"215\" r=\"205\" fill=\"none\" stroke=\"black\" stroke-width=\"2\" stroke-dasharray=\"3,3\"/><circle cx=\"402\" cy=\"172\" r=\"10\" fill=\"rgb(73,73,73)\"/><circle cx=\"121\" cy=\"260\" r=\"7\" fill=\"rgb(137,137,137)\"/><circle cx=\"67\" cy=\"121\" r=\"12\" fill=\"rgb(67,67,67)\"/><circle cx=\"283\" cy=\"64\" r=\"7\" fill=\"rgb(148,148,148)\"/><circle cx=\"217\" cy=\"362\" r=\"11\" fill=\"rgb(126,126,126)\"/><circle cx=\"393\" cy=\"257\" r=\"12\" fill=\"rgb(154,154,154)\"/><circle cx=\"226\" cy=\"215\" r=\"9\" fill=\"rgb(68,68,68)\"/></svg><svg viewBox='0 0 430 430' id=\"svg\" width=\"172\" height=\"172\"><circle cx=\"215\" cy=\"215\" r=\"205\" fill=\"none\" stroke=\"black\" stroke-width=\"2\" stroke-dasharray=\"3,3\"/> <circle cx=\"402\" cy=\"172\" r=\"10\" fill=\"rgb(255,255,255)\" class=\"agent_0_20\"/><circle cx=\"121\" cy=\"260\" r=\"7\" fill=\"rgb(255,255,255)\" class=\"agent_0_33\"/><circle cx=\"67\" cy=\"121\" r=\"12\" fill=\"rgb(255,255,255)\" class=\"agent_0_40\"/><circle cx=\"283\" cy=\"64\" r=\"7\" fill=\"rgb(255,255,255)\" class=\"agent_0_41\"/><circle cx=\"217\" cy=\"362\" r=\"11\" fill=\"rgb(255,255,255)\" class=\"agent_0_51\"/><circle cx=\"393\" cy=\"257\" r=\"12\" fill=\"rgb(255,255,255)\" class=\"agent_0_58\"/><circle cx=\"226\" cy=\"215\" r=\"9\" fill=\"rgb(255,0,0)\" class=\"agent_0_62\"/></svg></div>"
      ],
      "text/plain": [
       "<IPython.core.display.HTML object>"
      ]
     },
     "metadata": {},
     "output_type": "display_data"
    },
    {
     "name": "stdout",
     "output_type": "stream",
     "text": [
      "partner_refs_true\n"
     ]
    },
    {
     "data": {
      "text/html": [
       "<div style=\"white-space: nowrap\"><svg viewbox='0 0 430 430' width=\"172\" height=\"172\" id=\"agent_0\"><circle cx=\"215\" cy=\"215\" r=\"205\" fill=\"none\" stroke=\"black\" stroke-width=\"2\" stroke-dasharray=\"3,3\"/><circle cx=\"402\" cy=\"172\" r=\"10\" fill=\"rgb(73,73,73)\"/><circle cx=\"121\" cy=\"260\" r=\"7\" fill=\"rgb(137,137,137)\"/><circle cx=\"67\" cy=\"121\" r=\"12\" fill=\"rgb(67,67,67)\"/><circle cx=\"283\" cy=\"64\" r=\"7\" fill=\"rgb(148,148,148)\"/><circle cx=\"217\" cy=\"362\" r=\"11\" fill=\"rgb(126,126,126)\"/><circle cx=\"393\" cy=\"257\" r=\"12\" fill=\"rgb(154,154,154)\"/><circle cx=\"226\" cy=\"215\" r=\"9\" fill=\"rgb(68,68,68)\"/></svg><svg viewBox='0 0 430 430' id=\"svg\" width=\"172\" height=\"172\"><circle cx=\"215\" cy=\"215\" r=\"205\" fill=\"none\" stroke=\"black\" stroke-width=\"2\" stroke-dasharray=\"3,3\"/> <circle cx=\"402\" cy=\"172\" r=\"10\" fill=\"rgb(255,255,255)\" class=\"agent_0_20\"/><circle cx=\"121\" cy=\"260\" r=\"7\" fill=\"rgb(255,255,255)\" class=\"agent_0_33\"/><circle cx=\"67\" cy=\"121\" r=\"12\" fill=\"rgb(255,255,255)\" class=\"agent_0_40\"/><circle cx=\"283\" cy=\"64\" r=\"7\" fill=\"rgb(255,255,255)\" class=\"agent_0_41\"/><circle cx=\"217\" cy=\"362\" r=\"11\" fill=\"rgb(255,255,255)\" class=\"agent_0_51\"/><circle cx=\"393\" cy=\"257\" r=\"12\" fill=\"rgb(255,255,255)\" class=\"agent_0_58\"/><circle cx=\"226\" cy=\"215\" r=\"9\" fill=\"rgb(255,0,0)\" class=\"agent_0_62\"/></svg></div>"
      ],
      "text/plain": [
       "<IPython.core.display.HTML object>"
      ]
     },
     "metadata": {},
     "output_type": "display_data"
    },
    {
     "name": "stdout",
     "output_type": "stream",
     "text": [
      "partner_ref_true (their view)\n"
     ]
    },
    {
     "data": {
      "text/html": [
       "<div style=\"white-space: nowrap\"><svg viewbox='0 0 430 430' width=\"172\" height=\"172\" id=\"agent_1\"><circle cx=\"215\" cy=\"215\" r=\"205\" fill=\"none\" stroke=\"black\" stroke-width=\"2\" stroke-dasharray=\"3,3\"/><circle cx=\"322\" cy=\"169\" r=\"10\" fill=\"rgb(73,73,73)\"/><circle cx=\"366\" cy=\"198\" r=\"12\" fill=\"rgb(171,171,171)\"/><circle cx=\"41\" cy=\"257\" r=\"7\" fill=\"rgb(137,137,137)\"/><circle cx=\"202\" cy=\"61\" r=\"7\" fill=\"rgb(148,148,148)\"/><circle cx=\"137\" cy=\"359\" r=\"11\" fill=\"rgb(126,126,126)\"/><circle cx=\"313\" cy=\"254\" r=\"12\" fill=\"rgb(154,154,154)\"/><circle cx=\"145\" cy=\"212\" r=\"9\" fill=\"rgb(68,68,68)\"/></svg><svg viewBox='0 0 430 430' id=\"svg\" width=\"172\" height=\"172\"><circle cx=\"215\" cy=\"215\" r=\"205\" fill=\"none\" stroke=\"black\" stroke-width=\"2\" stroke-dasharray=\"3,3\"/> <circle cx=\"322\" cy=\"169\" r=\"10\" fill=\"rgb(255,255,255)\" class=\"agent_1_20\"/><circle cx=\"366\" cy=\"198\" r=\"12\" fill=\"rgb(255,255,255)\" class=\"agent_1_25\"/><circle cx=\"41\" cy=\"257\" r=\"7\" fill=\"rgb(255,255,255)\" class=\"agent_1_33\"/><circle cx=\"202\" cy=\"61\" r=\"7\" fill=\"rgb(255,255,255)\" class=\"agent_1_41\"/><circle cx=\"137\" cy=\"359\" r=\"11\" fill=\"rgb(255,255,255)\" class=\"agent_1_51\"/><circle cx=\"313\" cy=\"254\" r=\"12\" fill=\"rgb(255,255,255)\" class=\"agent_1_58\"/><circle cx=\"145\" cy=\"212\" r=\"9\" fill=\"rgb(255,0,0)\" class=\"agent_1_62\"/></svg></div>"
      ],
      "text/plain": [
       "<IPython.core.display.HTML object>"
      ]
     },
     "metadata": {},
     "output_type": "display_data"
    },
    {
     "name": "stdout",
     "output_type": "stream",
     "text": [
      "\n",
      "----------------------------------------\n",
      "\n",
      "sel_pred\n"
     ]
    },
    {
     "data": {
      "text/html": [
       "<div style=\"white-space: nowrap\"><svg viewbox='0 0 430 430' width=\"172\" height=\"172\" id=\"agent_0\"><circle cx=\"215\" cy=\"215\" r=\"205\" fill=\"none\" stroke=\"black\" stroke-width=\"2\" stroke-dasharray=\"3,3\"/><circle cx=\"402\" cy=\"172\" r=\"10\" fill=\"rgb(73,73,73)\"/><circle cx=\"121\" cy=\"260\" r=\"7\" fill=\"rgb(137,137,137)\"/><circle cx=\"67\" cy=\"121\" r=\"12\" fill=\"rgb(67,67,67)\"/><circle cx=\"283\" cy=\"64\" r=\"7\" fill=\"rgb(148,148,148)\"/><circle cx=\"217\" cy=\"362\" r=\"11\" fill=\"rgb(126,126,126)\"/><circle cx=\"393\" cy=\"257\" r=\"12\" fill=\"rgb(154,154,154)\"/><circle cx=\"226\" cy=\"215\" r=\"9\" fill=\"rgb(68,68,68)\"/></svg><svg viewBox='0 0 430 430' id=\"svg\" width=\"172\" height=\"172\"><circle cx=\"215\" cy=\"215\" r=\"205\" fill=\"none\" stroke=\"black\" stroke-width=\"2\" stroke-dasharray=\"3,3\"/> <circle cx=\"402\" cy=\"172\" r=\"10\" fill=\"rgb(255,246,246)\" class=\"agent_0_20\"/><circle cx=\"121\" cy=\"260\" r=\"7\" fill=\"rgb(255,253,253)\" class=\"agent_0_33\"/><circle cx=\"67\" cy=\"121\" r=\"12\" fill=\"rgb(255,252,252)\" class=\"agent_0_40\"/><circle cx=\"283\" cy=\"64\" r=\"7\" fill=\"rgb(255,254,254)\" class=\"agent_0_41\"/><circle cx=\"217\" cy=\"362\" r=\"11\" fill=\"rgb(255,254,254)\" class=\"agent_0_51\"/><circle cx=\"393\" cy=\"257\" r=\"12\" fill=\"rgb(255,254,254)\" class=\"agent_0_58\"/><circle cx=\"226\" cy=\"215\" r=\"9\" fill=\"rgb(255,51,51)\" class=\"agent_0_62\"/></svg></div>"
      ],
      "text/plain": [
       "<IPython.core.display.HTML object>"
      ]
     },
     "metadata": {},
     "output_type": "display_data"
    },
    {
     "name": "stdout",
     "output_type": "stream",
     "text": [
      "sel_true\n"
     ]
    },
    {
     "data": {
      "text/html": [
       "<div style=\"white-space: nowrap\"><svg viewbox='0 0 430 430' width=\"172\" height=\"172\" id=\"agent_0\"><circle cx=\"215\" cy=\"215\" r=\"205\" fill=\"none\" stroke=\"black\" stroke-width=\"2\" stroke-dasharray=\"3,3\"/><circle cx=\"402\" cy=\"172\" r=\"10\" fill=\"rgb(73,73,73)\"/><circle cx=\"121\" cy=\"260\" r=\"7\" fill=\"rgb(137,137,137)\"/><circle cx=\"67\" cy=\"121\" r=\"12\" fill=\"rgb(67,67,67)\"/><circle cx=\"283\" cy=\"64\" r=\"7\" fill=\"rgb(148,148,148)\"/><circle cx=\"217\" cy=\"362\" r=\"11\" fill=\"rgb(126,126,126)\"/><circle cx=\"393\" cy=\"257\" r=\"12\" fill=\"rgb(154,154,154)\"/><circle cx=\"226\" cy=\"215\" r=\"9\" fill=\"rgb(68,68,68)\"/></svg><svg viewBox='0 0 430 430' id=\"svg\" width=\"172\" height=\"172\"><circle cx=\"215\" cy=\"215\" r=\"205\" fill=\"none\" stroke=\"black\" stroke-width=\"2\" stroke-dasharray=\"3,3\"/> <circle cx=\"402\" cy=\"172\" r=\"10\" fill=\"rgb(255,255,255)\" class=\"agent_0_20\"/><circle cx=\"121\" cy=\"260\" r=\"7\" fill=\"rgb(255,255,255)\" class=\"agent_0_33\"/><circle cx=\"67\" cy=\"121\" r=\"12\" fill=\"rgb(255,255,255)\" class=\"agent_0_40\"/><circle cx=\"283\" cy=\"64\" r=\"7\" fill=\"rgb(255,255,255)\" class=\"agent_0_41\"/><circle cx=\"217\" cy=\"362\" r=\"11\" fill=\"rgb(255,255,255)\" class=\"agent_0_51\"/><circle cx=\"393\" cy=\"257\" r=\"12\" fill=\"rgb(255,255,255)\" class=\"agent_0_58\"/><circle cx=\"226\" cy=\"215\" r=\"9\" fill=\"rgb(255,0,0)\" class=\"agent_0_62\"/></svg></div>"
      ],
      "text/plain": [
       "<IPython.core.display.HTML object>"
      ]
     },
     "metadata": {},
     "output_type": "display_data"
    }
   ],
   "source": [
    "force_contexts_and_mentions(9, min_num_mentions=1, mention_marginals=True,\n",
    "                            ref_marginals=True, for_partner=True)"
   ]
  },
  {
   "cell_type": "code",
   "execution_count": 79,
   "metadata": {
    "scrolled": false
   },
   "outputs": [
    {
     "name": "stdout",
     "output_type": "stream",
     "text": [
      "scenario_id: S_mCh43je6tDKlCw3Y\n",
      "to_mention_marginals\n"
     ]
    },
    {
     "data": {
      "text/html": [
       "<div style=\"white-space: nowrap\"><svg viewbox='0 0 430 430' width=\"172\" height=\"172\" id=\"agent_0\"><circle cx=\"215\" cy=\"215\" r=\"205\" fill=\"none\" stroke=\"black\" stroke-width=\"2\" stroke-dasharray=\"3,3\"/><circle cx=\"240\" cy=\"329\" r=\"9\" fill=\"rgb(199,199,199)\"/><circle cx=\"68\" cy=\"151\" r=\"11\" fill=\"rgb(150,150,150)\"/><circle cx=\"311\" cy=\"110\" r=\"9\" fill=\"rgb(58,58,58)\"/><circle cx=\"345\" cy=\"68\" r=\"10\" fill=\"rgb(187,187,187)\"/><circle cx=\"228\" cy=\"247\" r=\"10\" fill=\"rgb(112,112,112)\"/><circle cx=\"151\" cy=\"57\" r=\"8\" fill=\"rgb(146,146,146)\"/><circle cx=\"127\" cy=\"292\" r=\"13\" fill=\"rgb(157,157,157)\"/></svg><svg viewBox='0 0 430 430' id=\"svg\" width=\"172\" height=\"172\"><circle cx=\"215\" cy=\"215\" r=\"205\" fill=\"none\" stroke=\"black\" stroke-width=\"2\" stroke-dasharray=\"3,3\"/> <circle cx=\"240\" cy=\"329\" r=\"9\" fill=\"rgb(255,212,212)\" class=\"agent_0_10\"/><circle cx=\"68\" cy=\"151\" r=\"11\" fill=\"rgb(255,226,226)\" class=\"agent_0_34\"/><circle cx=\"311\" cy=\"110\" r=\"9\" fill=\"rgb(255,166,166)\" class=\"agent_0_49\"/><circle cx=\"345\" cy=\"68\" r=\"10\" fill=\"rgb(255,215,215)\" class=\"agent_0_59\"/><circle cx=\"228\" cy=\"247\" r=\"10\" fill=\"rgb(255,211,211)\" class=\"agent_0_67\"/><circle cx=\"151\" cy=\"57\" r=\"8\" fill=\"rgb(255,217,217)\" class=\"agent_0_70\"/><circle cx=\"127\" cy=\"292\" r=\"13\" fill=\"rgb(255,207,207)\" class=\"agent_0_77\"/></svg><svg viewBox='0 0 430 430' id=\"svg\" width=\"172\" height=\"172\"><circle cx=\"215\" cy=\"215\" r=\"205\" fill=\"none\" stroke=\"black\" stroke-width=\"2\" stroke-dasharray=\"3,3\"/> <circle cx=\"240\" cy=\"329\" r=\"9\" fill=\"rgb(255,203,203)\" class=\"agent_0_10\"/><circle cx=\"68\" cy=\"151\" r=\"11\" fill=\"rgb(255,208,208)\" class=\"agent_0_34\"/><circle cx=\"311\" cy=\"110\" r=\"9\" fill=\"rgb(255,189,189)\" class=\"agent_0_49\"/><circle cx=\"345\" cy=\"68\" r=\"10\" fill=\"rgb(255,205,205)\" class=\"agent_0_59\"/><circle cx=\"228\" cy=\"247\" r=\"10\" fill=\"rgb(255,195,195)\" class=\"agent_0_67\"/><circle cx=\"151\" cy=\"57\" r=\"8\" fill=\"rgb(255,205,205)\" class=\"agent_0_70\"/><circle cx=\"127\" cy=\"292\" r=\"13\" fill=\"rgb(255,202,202)\" class=\"agent_0_77\"/></svg><svg viewBox='0 0 430 430' id=\"svg\" width=\"172\" height=\"172\"><circle cx=\"215\" cy=\"215\" r=\"205\" fill=\"none\" stroke=\"black\" stroke-width=\"2\" stroke-dasharray=\"3,3\"/> <circle cx=\"240\" cy=\"329\" r=\"9\" fill=\"rgb(255,216,216)\" class=\"agent_0_10\"/><circle cx=\"68\" cy=\"151\" r=\"11\" fill=\"rgb(255,223,223)\" class=\"agent_0_34\"/><circle cx=\"311\" cy=\"110\" r=\"9\" fill=\"rgb(255,188,188)\" class=\"agent_0_49\"/><circle cx=\"345\" cy=\"68\" r=\"10\" fill=\"rgb(255,221,221)\" class=\"agent_0_59\"/><circle cx=\"228\" cy=\"247\" r=\"10\" fill=\"rgb(255,206,206)\" class=\"agent_0_67\"/><circle cx=\"151\" cy=\"57\" r=\"8\" fill=\"rgb(255,221,221)\" class=\"agent_0_70\"/><circle cx=\"127\" cy=\"292\" r=\"13\" fill=\"rgb(255,210,210)\" class=\"agent_0_77\"/></svg></div>"
      ],
      "text/plain": [
       "<IPython.core.display.HTML object>"
      ]
     },
     "metadata": {},
     "output_type": "display_data"
    },
    {
     "name": "stdout",
     "output_type": "stream",
     "text": [
      "to_mention_pred\n"
     ]
    },
    {
     "data": {
      "text/html": [
       "<div style=\"white-space: nowrap\"><svg viewbox='0 0 430 430' width=\"172\" height=\"172\" id=\"agent_0\"><circle cx=\"215\" cy=\"215\" r=\"205\" fill=\"none\" stroke=\"black\" stroke-width=\"2\" stroke-dasharray=\"3,3\"/><circle cx=\"240\" cy=\"329\" r=\"9\" fill=\"rgb(199,199,199)\"/><circle cx=\"68\" cy=\"151\" r=\"11\" fill=\"rgb(150,150,150)\"/><circle cx=\"311\" cy=\"110\" r=\"9\" fill=\"rgb(58,58,58)\"/><circle cx=\"345\" cy=\"68\" r=\"10\" fill=\"rgb(187,187,187)\"/><circle cx=\"228\" cy=\"247\" r=\"10\" fill=\"rgb(112,112,112)\"/><circle cx=\"151\" cy=\"57\" r=\"8\" fill=\"rgb(146,146,146)\"/><circle cx=\"127\" cy=\"292\" r=\"13\" fill=\"rgb(157,157,157)\"/></svg><svg viewBox='0 0 430 430' id=\"svg\" width=\"172\" height=\"172\"><circle cx=\"215\" cy=\"215\" r=\"205\" fill=\"none\" stroke=\"black\" stroke-width=\"2\" stroke-dasharray=\"3,3\"/> <circle cx=\"240\" cy=\"329\" r=\"9\" fill=\"rgb(255,255,255)\" class=\"agent_0_10\"/><circle cx=\"68\" cy=\"151\" r=\"11\" fill=\"rgb(255,255,255)\" class=\"agent_0_34\"/><circle cx=\"311\" cy=\"110\" r=\"9\" fill=\"rgb(255,0,0)\" class=\"agent_0_49\"/><circle cx=\"345\" cy=\"68\" r=\"10\" fill=\"rgb(255,255,255)\" class=\"agent_0_59\"/><circle cx=\"228\" cy=\"247\" r=\"10\" fill=\"rgb(255,255,255)\" class=\"agent_0_67\"/><circle cx=\"151\" cy=\"57\" r=\"8\" fill=\"rgb(255,255,255)\" class=\"agent_0_70\"/><circle cx=\"127\" cy=\"292\" r=\"13\" fill=\"rgb(255,255,255)\" class=\"agent_0_77\"/></svg><svg viewBox='0 0 430 430' id=\"svg\" width=\"172\" height=\"172\"><circle cx=\"215\" cy=\"215\" r=\"205\" fill=\"none\" stroke=\"black\" stroke-width=\"2\" stroke-dasharray=\"3,3\"/> <circle cx=\"240\" cy=\"329\" r=\"9\" fill=\"rgb(255,255,255)\" class=\"agent_0_10\"/><circle cx=\"68\" cy=\"151\" r=\"11\" fill=\"rgb(255,255,255)\" class=\"agent_0_34\"/><circle cx=\"311\" cy=\"110\" r=\"9\" fill=\"rgb(255,255,255)\" class=\"agent_0_49\"/><circle cx=\"345\" cy=\"68\" r=\"10\" fill=\"rgb(255,0,0)\" class=\"agent_0_59\"/><circle cx=\"228\" cy=\"247\" r=\"10\" fill=\"rgb(255,255,255)\" class=\"agent_0_67\"/><circle cx=\"151\" cy=\"57\" r=\"8\" fill=\"rgb(255,255,255)\" class=\"agent_0_70\"/><circle cx=\"127\" cy=\"292\" r=\"13\" fill=\"rgb(255,255,255)\" class=\"agent_0_77\"/></svg><svg viewBox='0 0 430 430' id=\"svg\" width=\"172\" height=\"172\"><circle cx=\"215\" cy=\"215\" r=\"205\" fill=\"none\" stroke=\"black\" stroke-width=\"2\" stroke-dasharray=\"3,3\"/> <circle cx=\"240\" cy=\"329\" r=\"9\" fill=\"rgb(255,255,255)\" class=\"agent_0_10\"/><circle cx=\"68\" cy=\"151\" r=\"11\" fill=\"rgb(255,255,255)\" class=\"agent_0_34\"/><circle cx=\"311\" cy=\"110\" r=\"9\" fill=\"rgb(255,0,0)\" class=\"agent_0_49\"/><circle cx=\"345\" cy=\"68\" r=\"10\" fill=\"rgb(255,255,255)\" class=\"agent_0_59\"/><circle cx=\"228\" cy=\"247\" r=\"10\" fill=\"rgb(255,255,255)\" class=\"agent_0_67\"/><circle cx=\"151\" cy=\"57\" r=\"8\" fill=\"rgb(255,255,255)\" class=\"agent_0_70\"/><circle cx=\"127\" cy=\"292\" r=\"13\" fill=\"rgb(255,255,255)\" class=\"agent_0_77\"/></svg></div>"
      ],
      "text/plain": [
       "<IPython.core.display.HTML object>"
      ]
     },
     "metadata": {},
     "output_type": "display_data"
    },
    {
     "name": "stdout",
     "output_type": "stream",
     "text": [
      "to_mention_true\n"
     ]
    },
    {
     "data": {
      "text/html": [
       "<div style=\"white-space: nowrap\"><svg viewbox='0 0 430 430' width=\"172\" height=\"172\" id=\"agent_0\"><circle cx=\"215\" cy=\"215\" r=\"205\" fill=\"none\" stroke=\"black\" stroke-width=\"2\" stroke-dasharray=\"3,3\"/><circle cx=\"240\" cy=\"329\" r=\"9\" fill=\"rgb(199,199,199)\"/><circle cx=\"68\" cy=\"151\" r=\"11\" fill=\"rgb(150,150,150)\"/><circle cx=\"311\" cy=\"110\" r=\"9\" fill=\"rgb(58,58,58)\"/><circle cx=\"345\" cy=\"68\" r=\"10\" fill=\"rgb(187,187,187)\"/><circle cx=\"228\" cy=\"247\" r=\"10\" fill=\"rgb(112,112,112)\"/><circle cx=\"151\" cy=\"57\" r=\"8\" fill=\"rgb(146,146,146)\"/><circle cx=\"127\" cy=\"292\" r=\"13\" fill=\"rgb(157,157,157)\"/></svg><svg viewBox='0 0 430 430' id=\"svg\" width=\"172\" height=\"172\"><circle cx=\"215\" cy=\"215\" r=\"205\" fill=\"none\" stroke=\"black\" stroke-width=\"2\" stroke-dasharray=\"3,3\"/> <circle cx=\"240\" cy=\"329\" r=\"9\" fill=\"rgb(255,255,255)\" class=\"agent_0_10\"/><circle cx=\"68\" cy=\"151\" r=\"11\" fill=\"rgb(255,255,255)\" class=\"agent_0_34\"/><circle cx=\"311\" cy=\"110\" r=\"9\" fill=\"rgb(255,0,0)\" class=\"agent_0_49\"/><circle cx=\"345\" cy=\"68\" r=\"10\" fill=\"rgb(255,255,255)\" class=\"agent_0_59\"/><circle cx=\"228\" cy=\"247\" r=\"10\" fill=\"rgb(255,255,255)\" class=\"agent_0_67\"/><circle cx=\"151\" cy=\"57\" r=\"8\" fill=\"rgb(255,255,255)\" class=\"agent_0_70\"/><circle cx=\"127\" cy=\"292\" r=\"13\" fill=\"rgb(255,255,255)\" class=\"agent_0_77\"/></svg><svg viewBox='0 0 430 430' id=\"svg\" width=\"172\" height=\"172\"><circle cx=\"215\" cy=\"215\" r=\"205\" fill=\"none\" stroke=\"black\" stroke-width=\"2\" stroke-dasharray=\"3,3\"/> <circle cx=\"240\" cy=\"329\" r=\"9\" fill=\"rgb(255,255,255)\" class=\"agent_0_10\"/><circle cx=\"68\" cy=\"151\" r=\"11\" fill=\"rgb(255,255,255)\" class=\"agent_0_34\"/><circle cx=\"311\" cy=\"110\" r=\"9\" fill=\"rgb(255,255,255)\" class=\"agent_0_49\"/><circle cx=\"345\" cy=\"68\" r=\"10\" fill=\"rgb(255,0,0)\" class=\"agent_0_59\"/><circle cx=\"228\" cy=\"247\" r=\"10\" fill=\"rgb(255,255,255)\" class=\"agent_0_67\"/><circle cx=\"151\" cy=\"57\" r=\"8\" fill=\"rgb(255,255,255)\" class=\"agent_0_70\"/><circle cx=\"127\" cy=\"292\" r=\"13\" fill=\"rgb(255,255,255)\" class=\"agent_0_77\"/></svg><svg viewBox='0 0 430 430' id=\"svg\" width=\"172\" height=\"172\"><circle cx=\"215\" cy=\"215\" r=\"205\" fill=\"none\" stroke=\"black\" stroke-width=\"2\" stroke-dasharray=\"3,3\"/> <circle cx=\"240\" cy=\"329\" r=\"9\" fill=\"rgb(255,255,255)\" class=\"agent_0_10\"/><circle cx=\"68\" cy=\"151\" r=\"11\" fill=\"rgb(255,255,255)\" class=\"agent_0_34\"/><circle cx=\"311\" cy=\"110\" r=\"9\" fill=\"rgb(255,0,0)\" class=\"agent_0_49\"/><circle cx=\"345\" cy=\"68\" r=\"10\" fill=\"rgb(255,255,255)\" class=\"agent_0_59\"/><circle cx=\"228\" cy=\"247\" r=\"10\" fill=\"rgb(255,255,255)\" class=\"agent_0_67\"/><circle cx=\"151\" cy=\"57\" r=\"8\" fill=\"rgb(255,255,255)\" class=\"agent_0_70\"/><circle cx=\"127\" cy=\"292\" r=\"13\" fill=\"rgb(255,255,255)\" class=\"agent_0_77\"/></svg></div>"
      ],
      "text/plain": [
       "<IPython.core.display.HTML object>"
      ]
     },
     "metadata": {},
     "output_type": "display_data"
    },
    {
     "name": "stdout",
     "output_type": "stream",
     "text": [
      "predicted is_selection probability\n",
      "tensor([0.0101], grad_fn=<SigmoidBackward>)\n",
      "is_selection: tensor([False])\n",
      "beam 0\ti have a medium black dot with a smaller light gray dot to its left and slightly below <eos>\n",
      "greedy\ti have a medium black dot with a smaller light gray dot to its left and slightly below <eos>\n",
      "human\tmy only black dot has a grey slightly larger dot up and to the right but close to it <eos>\n",
      "detected markables:\n",
      "{'start': 3, 'end': 20, 'is_self': True, 'text': 'my only black dot'}\n",
      "{'start': 25, 'end': 51, 'is_self': True, 'text': 'a grey slightly larger dot'}\n",
      "{'start': 85, 'end': 87, 'is_self': True, 'text': 'it'}\n",
      "ref_marginal_probs\n"
     ]
    },
    {
     "data": {
      "text/html": [
       "<div style=\"white-space: nowrap\"><svg viewbox='0 0 430 430' width=\"172\" height=\"172\" id=\"agent_0\"><circle cx=\"215\" cy=\"215\" r=\"205\" fill=\"none\" stroke=\"black\" stroke-width=\"2\" stroke-dasharray=\"3,3\"/><circle cx=\"240\" cy=\"329\" r=\"9\" fill=\"rgb(199,199,199)\"/><circle cx=\"68\" cy=\"151\" r=\"11\" fill=\"rgb(150,150,150)\"/><circle cx=\"311\" cy=\"110\" r=\"9\" fill=\"rgb(58,58,58)\"/><circle cx=\"345\" cy=\"68\" r=\"10\" fill=\"rgb(187,187,187)\"/><circle cx=\"228\" cy=\"247\" r=\"10\" fill=\"rgb(112,112,112)\"/><circle cx=\"151\" cy=\"57\" r=\"8\" fill=\"rgb(146,146,146)\"/><circle cx=\"127\" cy=\"292\" r=\"13\" fill=\"rgb(157,157,157)\"/></svg><svg viewBox='0 0 430 430' id=\"svg\" width=\"172\" height=\"172\"><circle cx=\"215\" cy=\"215\" r=\"205\" fill=\"none\" stroke=\"black\" stroke-width=\"2\" stroke-dasharray=\"3,3\"/> <circle cx=\"240\" cy=\"329\" r=\"9\" fill=\"rgb(255,254,254)\" class=\"agent_0_10\"/><circle cx=\"68\" cy=\"151\" r=\"11\" fill=\"rgb(255,254,254)\" class=\"agent_0_34\"/><circle cx=\"311\" cy=\"110\" r=\"9\" fill=\"rgb(255,0,0)\" class=\"agent_0_49\"/><circle cx=\"345\" cy=\"68\" r=\"10\" fill=\"rgb(255,254,254)\" class=\"agent_0_59\"/><circle cx=\"228\" cy=\"247\" r=\"10\" fill=\"rgb(255,254,254)\" class=\"agent_0_67\"/><circle cx=\"151\" cy=\"57\" r=\"8\" fill=\"rgb(255,254,254)\" class=\"agent_0_70\"/><circle cx=\"127\" cy=\"292\" r=\"13\" fill=\"rgb(255,254,254)\" class=\"agent_0_77\"/></svg><svg viewBox='0 0 430 430' id=\"svg\" width=\"172\" height=\"172\"><circle cx=\"215\" cy=\"215\" r=\"205\" fill=\"none\" stroke=\"black\" stroke-width=\"2\" stroke-dasharray=\"3,3\"/> <circle cx=\"240\" cy=\"329\" r=\"9\" fill=\"rgb(255,241,241)\" class=\"agent_0_10\"/><circle cx=\"68\" cy=\"151\" r=\"11\" fill=\"rgb(255,198,198)\" class=\"agent_0_34\"/><circle cx=\"311\" cy=\"110\" r=\"9\" fill=\"rgb(255,252,252)\" class=\"agent_0_49\"/><circle cx=\"345\" cy=\"68\" r=\"10\" fill=\"rgb(255,228,228)\" class=\"agent_0_59\"/><circle cx=\"228\" cy=\"247\" r=\"10\" fill=\"rgb(255,213,213)\" class=\"agent_0_67\"/><circle cx=\"151\" cy=\"57\" r=\"8\" fill=\"rgb(255,248,248)\" class=\"agent_0_70\"/><circle cx=\"127\" cy=\"292\" r=\"13\" fill=\"rgb(255,146,146)\" class=\"agent_0_77\"/></svg><svg viewBox='0 0 430 430' id=\"svg\" width=\"172\" height=\"172\"><circle cx=\"215\" cy=\"215\" r=\"205\" fill=\"none\" stroke=\"black\" stroke-width=\"2\" stroke-dasharray=\"3,3\"/> <circle cx=\"240\" cy=\"329\" r=\"9\" fill=\"rgb(255,254,254)\" class=\"agent_0_10\"/><circle cx=\"68\" cy=\"151\" r=\"11\" fill=\"rgb(255,254,254)\" class=\"agent_0_34\"/><circle cx=\"311\" cy=\"110\" r=\"9\" fill=\"rgb(255,3,3)\" class=\"agent_0_49\"/><circle cx=\"345\" cy=\"68\" r=\"10\" fill=\"rgb(255,254,254)\" class=\"agent_0_59\"/><circle cx=\"228\" cy=\"247\" r=\"10\" fill=\"rgb(255,253,253)\" class=\"agent_0_67\"/><circle cx=\"151\" cy=\"57\" r=\"8\" fill=\"rgb(255,254,254)\" class=\"agent_0_70\"/><circle cx=\"127\" cy=\"292\" r=\"13\" fill=\"rgb(255,254,254)\" class=\"agent_0_77\"/></svg></div>"
      ],
      "text/plain": [
       "<IPython.core.display.HTML object>"
      ]
     },
     "metadata": {},
     "output_type": "display_data"
    },
    {
     "name": "stdout",
     "output_type": "stream",
     "text": [
      "refs_pred\n"
     ]
    },
    {
     "data": {
      "text/html": [
       "<div style=\"white-space: nowrap\"><svg viewbox='0 0 430 430' width=\"172\" height=\"172\" id=\"agent_0\"><circle cx=\"215\" cy=\"215\" r=\"205\" fill=\"none\" stroke=\"black\" stroke-width=\"2\" stroke-dasharray=\"3,3\"/><circle cx=\"240\" cy=\"329\" r=\"9\" fill=\"rgb(199,199,199)\"/><circle cx=\"68\" cy=\"151\" r=\"11\" fill=\"rgb(150,150,150)\"/><circle cx=\"311\" cy=\"110\" r=\"9\" fill=\"rgb(58,58,58)\"/><circle cx=\"345\" cy=\"68\" r=\"10\" fill=\"rgb(187,187,187)\"/><circle cx=\"228\" cy=\"247\" r=\"10\" fill=\"rgb(112,112,112)\"/><circle cx=\"151\" cy=\"57\" r=\"8\" fill=\"rgb(146,146,146)\"/><circle cx=\"127\" cy=\"292\" r=\"13\" fill=\"rgb(157,157,157)\"/></svg><svg viewBox='0 0 430 430' id=\"svg\" width=\"172\" height=\"172\"><circle cx=\"215\" cy=\"215\" r=\"205\" fill=\"none\" stroke=\"black\" stroke-width=\"2\" stroke-dasharray=\"3,3\"/> <circle cx=\"240\" cy=\"329\" r=\"9\" fill=\"rgb(255,255,255)\" class=\"agent_0_10\"/><circle cx=\"68\" cy=\"151\" r=\"11\" fill=\"rgb(255,255,255)\" class=\"agent_0_34\"/><circle cx=\"311\" cy=\"110\" r=\"9\" fill=\"rgb(255,0,0)\" class=\"agent_0_49\"/><circle cx=\"345\" cy=\"68\" r=\"10\" fill=\"rgb(255,255,255)\" class=\"agent_0_59\"/><circle cx=\"228\" cy=\"247\" r=\"10\" fill=\"rgb(255,255,255)\" class=\"agent_0_67\"/><circle cx=\"151\" cy=\"57\" r=\"8\" fill=\"rgb(255,255,255)\" class=\"agent_0_70\"/><circle cx=\"127\" cy=\"292\" r=\"13\" fill=\"rgb(255,255,255)\" class=\"agent_0_77\"/></svg><svg viewBox='0 0 430 430' id=\"svg\" width=\"172\" height=\"172\"><circle cx=\"215\" cy=\"215\" r=\"205\" fill=\"none\" stroke=\"black\" stroke-width=\"2\" stroke-dasharray=\"3,3\"/> <circle cx=\"240\" cy=\"329\" r=\"9\" fill=\"rgb(255,255,255)\" class=\"agent_0_10\"/><circle cx=\"68\" cy=\"151\" r=\"11\" fill=\"rgb(255,255,255)\" class=\"agent_0_34\"/><circle cx=\"311\" cy=\"110\" r=\"9\" fill=\"rgb(255,255,255)\" class=\"agent_0_49\"/><circle cx=\"345\" cy=\"68\" r=\"10\" fill=\"rgb(255,0,0)\" class=\"agent_0_59\"/><circle cx=\"228\" cy=\"247\" r=\"10\" fill=\"rgb(255,255,255)\" class=\"agent_0_67\"/><circle cx=\"151\" cy=\"57\" r=\"8\" fill=\"rgb(255,255,255)\" class=\"agent_0_70\"/><circle cx=\"127\" cy=\"292\" r=\"13\" fill=\"rgb(255,255,255)\" class=\"agent_0_77\"/></svg><svg viewBox='0 0 430 430' id=\"svg\" width=\"172\" height=\"172\"><circle cx=\"215\" cy=\"215\" r=\"205\" fill=\"none\" stroke=\"black\" stroke-width=\"2\" stroke-dasharray=\"3,3\"/> <circle cx=\"240\" cy=\"329\" r=\"9\" fill=\"rgb(255,255,255)\" class=\"agent_0_10\"/><circle cx=\"68\" cy=\"151\" r=\"11\" fill=\"rgb(255,255,255)\" class=\"agent_0_34\"/><circle cx=\"311\" cy=\"110\" r=\"9\" fill=\"rgb(255,0,0)\" class=\"agent_0_49\"/><circle cx=\"345\" cy=\"68\" r=\"10\" fill=\"rgb(255,255,255)\" class=\"agent_0_59\"/><circle cx=\"228\" cy=\"247\" r=\"10\" fill=\"rgb(255,255,255)\" class=\"agent_0_67\"/><circle cx=\"151\" cy=\"57\" r=\"8\" fill=\"rgb(255,255,255)\" class=\"agent_0_70\"/><circle cx=\"127\" cy=\"292\" r=\"13\" fill=\"rgb(255,255,255)\" class=\"agent_0_77\"/></svg></div>"
      ],
      "text/plain": [
       "<IPython.core.display.HTML object>"
      ]
     },
     "metadata": {},
     "output_type": "display_data"
    },
    {
     "name": "stdout",
     "output_type": "stream",
     "text": [
      "refs_true\n"
     ]
    },
    {
     "data": {
      "text/html": [
       "<div style=\"white-space: nowrap\"><svg viewbox='0 0 430 430' width=\"172\" height=\"172\" id=\"agent_0\"><circle cx=\"215\" cy=\"215\" r=\"205\" fill=\"none\" stroke=\"black\" stroke-width=\"2\" stroke-dasharray=\"3,3\"/><circle cx=\"240\" cy=\"329\" r=\"9\" fill=\"rgb(199,199,199)\"/><circle cx=\"68\" cy=\"151\" r=\"11\" fill=\"rgb(150,150,150)\"/><circle cx=\"311\" cy=\"110\" r=\"9\" fill=\"rgb(58,58,58)\"/><circle cx=\"345\" cy=\"68\" r=\"10\" fill=\"rgb(187,187,187)\"/><circle cx=\"228\" cy=\"247\" r=\"10\" fill=\"rgb(112,112,112)\"/><circle cx=\"151\" cy=\"57\" r=\"8\" fill=\"rgb(146,146,146)\"/><circle cx=\"127\" cy=\"292\" r=\"13\" fill=\"rgb(157,157,157)\"/></svg><svg viewBox='0 0 430 430' id=\"svg\" width=\"172\" height=\"172\"><circle cx=\"215\" cy=\"215\" r=\"205\" fill=\"none\" stroke=\"black\" stroke-width=\"2\" stroke-dasharray=\"3,3\"/> <circle cx=\"240\" cy=\"329\" r=\"9\" fill=\"rgb(255,255,255)\" class=\"agent_0_10\"/><circle cx=\"68\" cy=\"151\" r=\"11\" fill=\"rgb(255,255,255)\" class=\"agent_0_34\"/><circle cx=\"311\" cy=\"110\" r=\"9\" fill=\"rgb(255,0,0)\" class=\"agent_0_49\"/><circle cx=\"345\" cy=\"68\" r=\"10\" fill=\"rgb(255,255,255)\" class=\"agent_0_59\"/><circle cx=\"228\" cy=\"247\" r=\"10\" fill=\"rgb(255,255,255)\" class=\"agent_0_67\"/><circle cx=\"151\" cy=\"57\" r=\"8\" fill=\"rgb(255,255,255)\" class=\"agent_0_70\"/><circle cx=\"127\" cy=\"292\" r=\"13\" fill=\"rgb(255,255,255)\" class=\"agent_0_77\"/></svg><svg viewBox='0 0 430 430' id=\"svg\" width=\"172\" height=\"172\"><circle cx=\"215\" cy=\"215\" r=\"205\" fill=\"none\" stroke=\"black\" stroke-width=\"2\" stroke-dasharray=\"3,3\"/> <circle cx=\"240\" cy=\"329\" r=\"9\" fill=\"rgb(255,255,255)\" class=\"agent_0_10\"/><circle cx=\"68\" cy=\"151\" r=\"11\" fill=\"rgb(255,255,255)\" class=\"agent_0_34\"/><circle cx=\"311\" cy=\"110\" r=\"9\" fill=\"rgb(255,255,255)\" class=\"agent_0_49\"/><circle cx=\"345\" cy=\"68\" r=\"10\" fill=\"rgb(255,0,0)\" class=\"agent_0_59\"/><circle cx=\"228\" cy=\"247\" r=\"10\" fill=\"rgb(255,255,255)\" class=\"agent_0_67\"/><circle cx=\"151\" cy=\"57\" r=\"8\" fill=\"rgb(255,255,255)\" class=\"agent_0_70\"/><circle cx=\"127\" cy=\"292\" r=\"13\" fill=\"rgb(255,255,255)\" class=\"agent_0_77\"/></svg><svg viewBox='0 0 430 430' id=\"svg\" width=\"172\" height=\"172\"><circle cx=\"215\" cy=\"215\" r=\"205\" fill=\"none\" stroke=\"black\" stroke-width=\"2\" stroke-dasharray=\"3,3\"/> <circle cx=\"240\" cy=\"329\" r=\"9\" fill=\"rgb(255,255,255)\" class=\"agent_0_10\"/><circle cx=\"68\" cy=\"151\" r=\"11\" fill=\"rgb(255,255,255)\" class=\"agent_0_34\"/><circle cx=\"311\" cy=\"110\" r=\"9\" fill=\"rgb(255,0,0)\" class=\"agent_0_49\"/><circle cx=\"345\" cy=\"68\" r=\"10\" fill=\"rgb(255,255,255)\" class=\"agent_0_59\"/><circle cx=\"228\" cy=\"247\" r=\"10\" fill=\"rgb(255,255,255)\" class=\"agent_0_67\"/><circle cx=\"151\" cy=\"57\" r=\"8\" fill=\"rgb(255,255,255)\" class=\"agent_0_70\"/><circle cx=\"127\" cy=\"292\" r=\"13\" fill=\"rgb(255,255,255)\" class=\"agent_0_77\"/></svg></div>"
      ],
      "text/plain": [
       "<IPython.core.display.HTML object>"
      ]
     },
     "metadata": {},
     "output_type": "display_data"
    },
    {
     "name": "stdout",
     "output_type": "stream",
     "text": [
      "\n",
      "----------------------------------------\n",
      "\n",
      "predicted is_selection probability\n",
      "tensor([0.0484], grad_fn=<SigmoidBackward>)\n",
      "is_selection: tensor([True])\n",
      "human\tTHEM: ok i see it , let 's pick it , the black one <selection>\n",
      "detected markables:\n",
      "{'start': 12, 'end': 14, 'is_self': True, 'text': 'it'}\n",
      "{'start': 29, 'end': 31, 'is_self': True, 'text': 'it'}\n",
      "{'start': 34, 'end': 47, 'is_self': True, 'text': 'the black one'}\n",
      "partner_ref_marginal_probs\n"
     ]
    },
    {
     "data": {
      "text/html": [
       "<div style=\"white-space: nowrap\"><svg viewbox='0 0 430 430' width=\"172\" height=\"172\" id=\"agent_0\"><circle cx=\"215\" cy=\"215\" r=\"205\" fill=\"none\" stroke=\"black\" stroke-width=\"2\" stroke-dasharray=\"3,3\"/><circle cx=\"240\" cy=\"329\" r=\"9\" fill=\"rgb(199,199,199)\"/><circle cx=\"68\" cy=\"151\" r=\"11\" fill=\"rgb(150,150,150)\"/><circle cx=\"311\" cy=\"110\" r=\"9\" fill=\"rgb(58,58,58)\"/><circle cx=\"345\" cy=\"68\" r=\"10\" fill=\"rgb(187,187,187)\"/><circle cx=\"228\" cy=\"247\" r=\"10\" fill=\"rgb(112,112,112)\"/><circle cx=\"151\" cy=\"57\" r=\"8\" fill=\"rgb(146,146,146)\"/><circle cx=\"127\" cy=\"292\" r=\"13\" fill=\"rgb(157,157,157)\"/></svg><svg viewBox='0 0 430 430' id=\"svg\" width=\"172\" height=\"172\"><circle cx=\"215\" cy=\"215\" r=\"205\" fill=\"none\" stroke=\"black\" stroke-width=\"2\" stroke-dasharray=\"3,3\"/> <circle cx=\"240\" cy=\"329\" r=\"9\" fill=\"rgb(255,249,249)\" class=\"agent_0_10\"/><circle cx=\"68\" cy=\"151\" r=\"11\" fill=\"rgb(255,224,224)\" class=\"agent_0_34\"/><circle cx=\"311\" cy=\"110\" r=\"9\" fill=\"rgb(255,86,86)\" class=\"agent_0_49\"/><circle cx=\"345\" cy=\"68\" r=\"10\" fill=\"rgb(255,151,151)\" class=\"agent_0_59\"/><circle cx=\"228\" cy=\"247\" r=\"10\" fill=\"rgb(255,229,229)\" class=\"agent_0_67\"/><circle cx=\"151\" cy=\"57\" r=\"8\" fill=\"rgb(255,248,248)\" class=\"agent_0_70\"/><circle cx=\"127\" cy=\"292\" r=\"13\" fill=\"rgb(255,211,211)\" class=\"agent_0_77\"/></svg><svg viewBox='0 0 430 430' id=\"svg\" width=\"172\" height=\"172\"><circle cx=\"215\" cy=\"215\" r=\"205\" fill=\"none\" stroke=\"black\" stroke-width=\"2\" stroke-dasharray=\"3,3\"/> <circle cx=\"240\" cy=\"329\" r=\"9\" fill=\"rgb(255,249,249)\" class=\"agent_0_10\"/><circle cx=\"68\" cy=\"151\" r=\"11\" fill=\"rgb(255,227,227)\" class=\"agent_0_34\"/><circle cx=\"311\" cy=\"110\" r=\"9\" fill=\"rgb(255,161,161)\" class=\"agent_0_49\"/><circle cx=\"345\" cy=\"68\" r=\"10\" fill=\"rgb(255,250,250)\" class=\"agent_0_59\"/><circle cx=\"228\" cy=\"247\" r=\"10\" fill=\"rgb(255,237,237)\" class=\"agent_0_67\"/><circle cx=\"151\" cy=\"57\" r=\"8\" fill=\"rgb(255,251,251)\" class=\"agent_0_70\"/><circle cx=\"127\" cy=\"292\" r=\"13\" fill=\"rgb(255,162,162)\" class=\"agent_0_77\"/></svg><svg viewBox='0 0 430 430' id=\"svg\" width=\"172\" height=\"172\"><circle cx=\"215\" cy=\"215\" r=\"205\" fill=\"none\" stroke=\"black\" stroke-width=\"2\" stroke-dasharray=\"3,3\"/> <circle cx=\"240\" cy=\"329\" r=\"9\" fill=\"rgb(255,254,254)\" class=\"agent_0_10\"/><circle cx=\"68\" cy=\"151\" r=\"11\" fill=\"rgb(255,254,254)\" class=\"agent_0_34\"/><circle cx=\"311\" cy=\"110\" r=\"9\" fill=\"rgb(255,2,2)\" class=\"agent_0_49\"/><circle cx=\"345\" cy=\"68\" r=\"10\" fill=\"rgb(255,254,254)\" class=\"agent_0_59\"/><circle cx=\"228\" cy=\"247\" r=\"10\" fill=\"rgb(255,254,254)\" class=\"agent_0_67\"/><circle cx=\"151\" cy=\"57\" r=\"8\" fill=\"rgb(255,254,254)\" class=\"agent_0_70\"/><circle cx=\"127\" cy=\"292\" r=\"13\" fill=\"rgb(255,254,254)\" class=\"agent_0_77\"/></svg></div>"
      ],
      "text/plain": [
       "<IPython.core.display.HTML object>"
      ]
     },
     "metadata": {},
     "output_type": "display_data"
    },
    {
     "name": "stdout",
     "output_type": "stream",
     "text": [
      "partner_refs_pred\n"
     ]
    },
    {
     "data": {
      "text/html": [
       "<div style=\"white-space: nowrap\"><svg viewbox='0 0 430 430' width=\"172\" height=\"172\" id=\"agent_0\"><circle cx=\"215\" cy=\"215\" r=\"205\" fill=\"none\" stroke=\"black\" stroke-width=\"2\" stroke-dasharray=\"3,3\"/><circle cx=\"240\" cy=\"329\" r=\"9\" fill=\"rgb(199,199,199)\"/><circle cx=\"68\" cy=\"151\" r=\"11\" fill=\"rgb(150,150,150)\"/><circle cx=\"311\" cy=\"110\" r=\"9\" fill=\"rgb(58,58,58)\"/><circle cx=\"345\" cy=\"68\" r=\"10\" fill=\"rgb(187,187,187)\"/><circle cx=\"228\" cy=\"247\" r=\"10\" fill=\"rgb(112,112,112)\"/><circle cx=\"151\" cy=\"57\" r=\"8\" fill=\"rgb(146,146,146)\"/><circle cx=\"127\" cy=\"292\" r=\"13\" fill=\"rgb(157,157,157)\"/></svg><svg viewBox='0 0 430 430' id=\"svg\" width=\"172\" height=\"172\"><circle cx=\"215\" cy=\"215\" r=\"205\" fill=\"none\" stroke=\"black\" stroke-width=\"2\" stroke-dasharray=\"3,3\"/> <circle cx=\"240\" cy=\"329\" r=\"9\" fill=\"rgb(255,255,255)\" class=\"agent_0_10\"/><circle cx=\"68\" cy=\"151\" r=\"11\" fill=\"rgb(255,255,255)\" class=\"agent_0_34\"/><circle cx=\"311\" cy=\"110\" r=\"9\" fill=\"rgb(255,0,0)\" class=\"agent_0_49\"/><circle cx=\"345\" cy=\"68\" r=\"10\" fill=\"rgb(255,0,0)\" class=\"agent_0_59\"/><circle cx=\"228\" cy=\"247\" r=\"10\" fill=\"rgb(255,255,255)\" class=\"agent_0_67\"/><circle cx=\"151\" cy=\"57\" r=\"8\" fill=\"rgb(255,255,255)\" class=\"agent_0_70\"/><circle cx=\"127\" cy=\"292\" r=\"13\" fill=\"rgb(255,255,255)\" class=\"agent_0_77\"/></svg><svg viewBox='0 0 430 430' id=\"svg\" width=\"172\" height=\"172\"><circle cx=\"215\" cy=\"215\" r=\"205\" fill=\"none\" stroke=\"black\" stroke-width=\"2\" stroke-dasharray=\"3,3\"/> <circle cx=\"240\" cy=\"329\" r=\"9\" fill=\"rgb(255,255,255)\" class=\"agent_0_10\"/><circle cx=\"68\" cy=\"151\" r=\"11\" fill=\"rgb(255,255,255)\" class=\"agent_0_34\"/><circle cx=\"311\" cy=\"110\" r=\"9\" fill=\"rgb(255,0,0)\" class=\"agent_0_49\"/><circle cx=\"345\" cy=\"68\" r=\"10\" fill=\"rgb(255,255,255)\" class=\"agent_0_59\"/><circle cx=\"228\" cy=\"247\" r=\"10\" fill=\"rgb(255,255,255)\" class=\"agent_0_67\"/><circle cx=\"151\" cy=\"57\" r=\"8\" fill=\"rgb(255,255,255)\" class=\"agent_0_70\"/><circle cx=\"127\" cy=\"292\" r=\"13\" fill=\"rgb(255,255,255)\" class=\"agent_0_77\"/></svg><svg viewBox='0 0 430 430' id=\"svg\" width=\"172\" height=\"172\"><circle cx=\"215\" cy=\"215\" r=\"205\" fill=\"none\" stroke=\"black\" stroke-width=\"2\" stroke-dasharray=\"3,3\"/> <circle cx=\"240\" cy=\"329\" r=\"9\" fill=\"rgb(255,255,255)\" class=\"agent_0_10\"/><circle cx=\"68\" cy=\"151\" r=\"11\" fill=\"rgb(255,255,255)\" class=\"agent_0_34\"/><circle cx=\"311\" cy=\"110\" r=\"9\" fill=\"rgb(255,0,0)\" class=\"agent_0_49\"/><circle cx=\"345\" cy=\"68\" r=\"10\" fill=\"rgb(255,255,255)\" class=\"agent_0_59\"/><circle cx=\"228\" cy=\"247\" r=\"10\" fill=\"rgb(255,255,255)\" class=\"agent_0_67\"/><circle cx=\"151\" cy=\"57\" r=\"8\" fill=\"rgb(255,255,255)\" class=\"agent_0_70\"/><circle cx=\"127\" cy=\"292\" r=\"13\" fill=\"rgb(255,255,255)\" class=\"agent_0_77\"/></svg></div>"
      ],
      "text/plain": [
       "<IPython.core.display.HTML object>"
      ]
     },
     "metadata": {},
     "output_type": "display_data"
    },
    {
     "name": "stdout",
     "output_type": "stream",
     "text": [
      "partner_refs_true\n"
     ]
    },
    {
     "data": {
      "text/html": [
       "<div style=\"white-space: nowrap\"><svg viewbox='0 0 430 430' width=\"172\" height=\"172\" id=\"agent_0\"><circle cx=\"215\" cy=\"215\" r=\"205\" fill=\"none\" stroke=\"black\" stroke-width=\"2\" stroke-dasharray=\"3,3\"/><circle cx=\"240\" cy=\"329\" r=\"9\" fill=\"rgb(199,199,199)\"/><circle cx=\"68\" cy=\"151\" r=\"11\" fill=\"rgb(150,150,150)\"/><circle cx=\"311\" cy=\"110\" r=\"9\" fill=\"rgb(58,58,58)\"/><circle cx=\"345\" cy=\"68\" r=\"10\" fill=\"rgb(187,187,187)\"/><circle cx=\"228\" cy=\"247\" r=\"10\" fill=\"rgb(112,112,112)\"/><circle cx=\"151\" cy=\"57\" r=\"8\" fill=\"rgb(146,146,146)\"/><circle cx=\"127\" cy=\"292\" r=\"13\" fill=\"rgb(157,157,157)\"/></svg><svg viewBox='0 0 430 430' id=\"svg\" width=\"172\" height=\"172\"><circle cx=\"215\" cy=\"215\" r=\"205\" fill=\"none\" stroke=\"black\" stroke-width=\"2\" stroke-dasharray=\"3,3\"/> <circle cx=\"240\" cy=\"329\" r=\"9\" fill=\"rgb(255,255,255)\" class=\"agent_0_10\"/><circle cx=\"68\" cy=\"151\" r=\"11\" fill=\"rgb(255,255,255)\" class=\"agent_0_34\"/><circle cx=\"311\" cy=\"110\" r=\"9\" fill=\"rgb(255,0,0)\" class=\"agent_0_49\"/><circle cx=\"345\" cy=\"68\" r=\"10\" fill=\"rgb(255,255,255)\" class=\"agent_0_59\"/><circle cx=\"228\" cy=\"247\" r=\"10\" fill=\"rgb(255,255,255)\" class=\"agent_0_67\"/><circle cx=\"151\" cy=\"57\" r=\"8\" fill=\"rgb(255,255,255)\" class=\"agent_0_70\"/><circle cx=\"127\" cy=\"292\" r=\"13\" fill=\"rgb(255,255,255)\" class=\"agent_0_77\"/></svg><svg viewBox='0 0 430 430' id=\"svg\" width=\"172\" height=\"172\"><circle cx=\"215\" cy=\"215\" r=\"205\" fill=\"none\" stroke=\"black\" stroke-width=\"2\" stroke-dasharray=\"3,3\"/> <circle cx=\"240\" cy=\"329\" r=\"9\" fill=\"rgb(255,255,255)\" class=\"agent_0_10\"/><circle cx=\"68\" cy=\"151\" r=\"11\" fill=\"rgb(255,255,255)\" class=\"agent_0_34\"/><circle cx=\"311\" cy=\"110\" r=\"9\" fill=\"rgb(255,0,0)\" class=\"agent_0_49\"/><circle cx=\"345\" cy=\"68\" r=\"10\" fill=\"rgb(255,255,255)\" class=\"agent_0_59\"/><circle cx=\"228\" cy=\"247\" r=\"10\" fill=\"rgb(255,255,255)\" class=\"agent_0_67\"/><circle cx=\"151\" cy=\"57\" r=\"8\" fill=\"rgb(255,255,255)\" class=\"agent_0_70\"/><circle cx=\"127\" cy=\"292\" r=\"13\" fill=\"rgb(255,255,255)\" class=\"agent_0_77\"/></svg><svg viewBox='0 0 430 430' id=\"svg\" width=\"172\" height=\"172\"><circle cx=\"215\" cy=\"215\" r=\"205\" fill=\"none\" stroke=\"black\" stroke-width=\"2\" stroke-dasharray=\"3,3\"/> <circle cx=\"240\" cy=\"329\" r=\"9\" fill=\"rgb(255,255,255)\" class=\"agent_0_10\"/><circle cx=\"68\" cy=\"151\" r=\"11\" fill=\"rgb(255,255,255)\" class=\"agent_0_34\"/><circle cx=\"311\" cy=\"110\" r=\"9\" fill=\"rgb(255,0,0)\" class=\"agent_0_49\"/><circle cx=\"345\" cy=\"68\" r=\"10\" fill=\"rgb(255,255,255)\" class=\"agent_0_59\"/><circle cx=\"228\" cy=\"247\" r=\"10\" fill=\"rgb(255,255,255)\" class=\"agent_0_67\"/><circle cx=\"151\" cy=\"57\" r=\"8\" fill=\"rgb(255,255,255)\" class=\"agent_0_70\"/><circle cx=\"127\" cy=\"292\" r=\"13\" fill=\"rgb(255,255,255)\" class=\"agent_0_77\"/></svg></div>"
      ],
      "text/plain": [
       "<IPython.core.display.HTML object>"
      ]
     },
     "metadata": {},
     "output_type": "display_data"
    },
    {
     "name": "stdout",
     "output_type": "stream",
     "text": [
      "partner_ref_true (their view)\n"
     ]
    },
    {
     "data": {
      "text/html": [
       "<div style=\"white-space: nowrap\"><svg viewbox='0 0 430 430' width=\"172\" height=\"172\" id=\"agent_1\"><circle cx=\"215\" cy=\"215\" r=\"205\" fill=\"none\" stroke=\"black\" stroke-width=\"2\" stroke-dasharray=\"3,3\"/><circle cx=\"167\" cy=\"396\" r=\"9\" fill=\"rgb(199,199,199)\"/><circle cx=\"213\" cy=\"71\" r=\"9\" fill=\"rgb(108,108,108)\"/><circle cx=\"238\" cy=\"178\" r=\"9\" fill=\"rgb(58,58,58)\"/><circle cx=\"273\" cy=\"136\" r=\"10\" fill=\"rgb(187,187,187)\"/><circle cx=\"155\" cy=\"315\" r=\"10\" fill=\"rgb(112,112,112)\"/><circle cx=\"79\" cy=\"124\" r=\"8\" fill=\"rgb(146,146,146)\"/><circle cx=\"367\" cy=\"306\" r=\"11\" fill=\"rgb(151,151,151)\"/></svg><svg viewBox='0 0 430 430' id=\"svg\" width=\"172\" height=\"172\"><circle cx=\"215\" cy=\"215\" r=\"205\" fill=\"none\" stroke=\"black\" stroke-width=\"2\" stroke-dasharray=\"3,3\"/> <circle cx=\"167\" cy=\"396\" r=\"9\" fill=\"rgb(255,255,255)\" class=\"agent_1_10\"/><circle cx=\"213\" cy=\"71\" r=\"9\" fill=\"rgb(255,255,255)\" class=\"agent_1_17\"/><circle cx=\"238\" cy=\"178\" r=\"9\" fill=\"rgb(255,0,0)\" class=\"agent_1_49\"/><circle cx=\"273\" cy=\"136\" r=\"10\" fill=\"rgb(255,255,255)\" class=\"agent_1_59\"/><circle cx=\"155\" cy=\"315\" r=\"10\" fill=\"rgb(255,255,255)\" class=\"agent_1_67\"/><circle cx=\"79\" cy=\"124\" r=\"8\" fill=\"rgb(255,255,255)\" class=\"agent_1_70\"/><circle cx=\"367\" cy=\"306\" r=\"11\" fill=\"rgb(255,255,255)\" class=\"agent_1_72\"/></svg><svg viewBox='0 0 430 430' id=\"svg\" width=\"172\" height=\"172\"><circle cx=\"215\" cy=\"215\" r=\"205\" fill=\"none\" stroke=\"black\" stroke-width=\"2\" stroke-dasharray=\"3,3\"/> <circle cx=\"167\" cy=\"396\" r=\"9\" fill=\"rgb(255,255,255)\" class=\"agent_1_10\"/><circle cx=\"213\" cy=\"71\" r=\"9\" fill=\"rgb(255,255,255)\" class=\"agent_1_17\"/><circle cx=\"238\" cy=\"178\" r=\"9\" fill=\"rgb(255,0,0)\" class=\"agent_1_49\"/><circle cx=\"273\" cy=\"136\" r=\"10\" fill=\"rgb(255,255,255)\" class=\"agent_1_59\"/><circle cx=\"155\" cy=\"315\" r=\"10\" fill=\"rgb(255,255,255)\" class=\"agent_1_67\"/><circle cx=\"79\" cy=\"124\" r=\"8\" fill=\"rgb(255,255,255)\" class=\"agent_1_70\"/><circle cx=\"367\" cy=\"306\" r=\"11\" fill=\"rgb(255,255,255)\" class=\"agent_1_72\"/></svg><svg viewBox='0 0 430 430' id=\"svg\" width=\"172\" height=\"172\"><circle cx=\"215\" cy=\"215\" r=\"205\" fill=\"none\" stroke=\"black\" stroke-width=\"2\" stroke-dasharray=\"3,3\"/> <circle cx=\"167\" cy=\"396\" r=\"9\" fill=\"rgb(255,255,255)\" class=\"agent_1_10\"/><circle cx=\"213\" cy=\"71\" r=\"9\" fill=\"rgb(255,255,255)\" class=\"agent_1_17\"/><circle cx=\"238\" cy=\"178\" r=\"9\" fill=\"rgb(255,0,0)\" class=\"agent_1_49\"/><circle cx=\"273\" cy=\"136\" r=\"10\" fill=\"rgb(255,255,255)\" class=\"agent_1_59\"/><circle cx=\"155\" cy=\"315\" r=\"10\" fill=\"rgb(255,255,255)\" class=\"agent_1_67\"/><circle cx=\"79\" cy=\"124\" r=\"8\" fill=\"rgb(255,255,255)\" class=\"agent_1_70\"/><circle cx=\"367\" cy=\"306\" r=\"11\" fill=\"rgb(255,255,255)\" class=\"agent_1_72\"/></svg></div>"
      ],
      "text/plain": [
       "<IPython.core.display.HTML object>"
      ]
     },
     "metadata": {},
     "output_type": "display_data"
    },
    {
     "name": "stdout",
     "output_type": "stream",
     "text": [
      "\n",
      "----------------------------------------\n",
      "\n",
      "sel_pred\n"
     ]
    },
    {
     "data": {
      "text/html": [
       "<div style=\"white-space: nowrap\"><svg viewbox='0 0 430 430' width=\"172\" height=\"172\" id=\"agent_0\"><circle cx=\"215\" cy=\"215\" r=\"205\" fill=\"none\" stroke=\"black\" stroke-width=\"2\" stroke-dasharray=\"3,3\"/><circle cx=\"240\" cy=\"329\" r=\"9\" fill=\"rgb(199,199,199)\"/><circle cx=\"68\" cy=\"151\" r=\"11\" fill=\"rgb(150,150,150)\"/><circle cx=\"311\" cy=\"110\" r=\"9\" fill=\"rgb(58,58,58)\"/><circle cx=\"345\" cy=\"68\" r=\"10\" fill=\"rgb(187,187,187)\"/><circle cx=\"228\" cy=\"247\" r=\"10\" fill=\"rgb(112,112,112)\"/><circle cx=\"151\" cy=\"57\" r=\"8\" fill=\"rgb(146,146,146)\"/><circle cx=\"127\" cy=\"292\" r=\"13\" fill=\"rgb(157,157,157)\"/></svg><svg viewBox='0 0 430 430' id=\"svg\" width=\"172\" height=\"172\"><circle cx=\"215\" cy=\"215\" r=\"205\" fill=\"none\" stroke=\"black\" stroke-width=\"2\" stroke-dasharray=\"3,3\"/> <circle cx=\"240\" cy=\"329\" r=\"9\" fill=\"rgb(255,254,254)\" class=\"agent_0_10\"/><circle cx=\"68\" cy=\"151\" r=\"11\" fill=\"rgb(255,250,250)\" class=\"agent_0_34\"/><circle cx=\"311\" cy=\"110\" r=\"9\" fill=\"rgb(255,51,51)\" class=\"agent_0_49\"/><circle cx=\"345\" cy=\"68\" r=\"10\" fill=\"rgb(255,254,254)\" class=\"agent_0_59\"/><circle cx=\"228\" cy=\"247\" r=\"10\" fill=\"rgb(255,244,244)\" class=\"agent_0_67\"/><circle cx=\"151\" cy=\"57\" r=\"8\" fill=\"rgb(255,254,254)\" class=\"agent_0_70\"/><circle cx=\"127\" cy=\"292\" r=\"13\" fill=\"rgb(255,238,238)\" class=\"agent_0_77\"/></svg></div>"
      ],
      "text/plain": [
       "<IPython.core.display.HTML object>"
      ]
     },
     "metadata": {},
     "output_type": "display_data"
    },
    {
     "name": "stdout",
     "output_type": "stream",
     "text": [
      "sel_true\n"
     ]
    },
    {
     "data": {
      "text/html": [
       "<div style=\"white-space: nowrap\"><svg viewbox='0 0 430 430' width=\"172\" height=\"172\" id=\"agent_0\"><circle cx=\"215\" cy=\"215\" r=\"205\" fill=\"none\" stroke=\"black\" stroke-width=\"2\" stroke-dasharray=\"3,3\"/><circle cx=\"240\" cy=\"329\" r=\"9\" fill=\"rgb(199,199,199)\"/><circle cx=\"68\" cy=\"151\" r=\"11\" fill=\"rgb(150,150,150)\"/><circle cx=\"311\" cy=\"110\" r=\"9\" fill=\"rgb(58,58,58)\"/><circle cx=\"345\" cy=\"68\" r=\"10\" fill=\"rgb(187,187,187)\"/><circle cx=\"228\" cy=\"247\" r=\"10\" fill=\"rgb(112,112,112)\"/><circle cx=\"151\" cy=\"57\" r=\"8\" fill=\"rgb(146,146,146)\"/><circle cx=\"127\" cy=\"292\" r=\"13\" fill=\"rgb(157,157,157)\"/></svg><svg viewBox='0 0 430 430' id=\"svg\" width=\"172\" height=\"172\"><circle cx=\"215\" cy=\"215\" r=\"205\" fill=\"none\" stroke=\"black\" stroke-width=\"2\" stroke-dasharray=\"3,3\"/> <circle cx=\"240\" cy=\"329\" r=\"9\" fill=\"rgb(255,255,255)\" class=\"agent_0_10\"/><circle cx=\"68\" cy=\"151\" r=\"11\" fill=\"rgb(255,255,255)\" class=\"agent_0_34\"/><circle cx=\"311\" cy=\"110\" r=\"9\" fill=\"rgb(255,0,0)\" class=\"agent_0_49\"/><circle cx=\"345\" cy=\"68\" r=\"10\" fill=\"rgb(255,255,255)\" class=\"agent_0_59\"/><circle cx=\"228\" cy=\"247\" r=\"10\" fill=\"rgb(255,255,255)\" class=\"agent_0_67\"/><circle cx=\"151\" cy=\"57\" r=\"8\" fill=\"rgb(255,255,255)\" class=\"agent_0_70\"/><circle cx=\"127\" cy=\"292\" r=\"13\" fill=\"rgb(255,255,255)\" class=\"agent_0_77\"/></svg></div>"
      ],
      "text/plain": [
       "<IPython.core.display.HTML object>"
      ]
     },
     "metadata": {},
     "output_type": "display_data"
    }
   ],
   "source": [
    "force_contexts_and_mentions(11, min_num_mentions=1, mention_marginals=True,\n",
    "                            ref_marginals=True, for_partner=True)"
   ]
  },
  {
   "cell_type": "code",
   "execution_count": 68,
   "metadata": {
    "scrolled": false
   },
   "outputs": [
    {
     "name": "stdout",
     "output_type": "stream",
     "text": [
      "scenario_id: S_TJburcYs185be982\n",
      "predicted is_selection probability\n",
      "tensor([0.0101], grad_fn=<SigmoidBackward>)\n",
      "is_selection: tensor([False])\n",
      "human\tTHEM: right in the middle , hello . is there a small black dot ? off to it 's lower left is a tiny dark grey one ? <eos>\n",
      "detected markables:\n",
      "{'start': 42, 'end': 59, 'is_self': True, 'text': 'a small black dot'}\n",
      "{'start': 69, 'end': 74, 'is_self': True, 'text': \"it 's\"}\n",
      "{'start': 89, 'end': 109, 'is_self': True, 'text': 'a tiny dark grey one'}\n",
      "partner_ref_marginal_probs\n"
     ]
    },
    {
     "data": {
      "text/html": [
       "<div style=\"white-space: nowrap\"><svg viewbox='0 0 430 430' width=\"172\" height=\"172\" id=\"agent_1\"><circle cx=\"215\" cy=\"215\" r=\"205\" fill=\"none\" stroke=\"black\" stroke-width=\"2\" stroke-dasharray=\"3,3\"/><circle cx=\"322\" cy=\"169\" r=\"10\" fill=\"rgb(73,73,73)\"/><circle cx=\"366\" cy=\"198\" r=\"12\" fill=\"rgb(171,171,171)\"/><circle cx=\"41\" cy=\"257\" r=\"7\" fill=\"rgb(137,137,137)\"/><circle cx=\"202\" cy=\"61\" r=\"7\" fill=\"rgb(148,148,148)\"/><circle cx=\"137\" cy=\"359\" r=\"11\" fill=\"rgb(126,126,126)\"/><circle cx=\"313\" cy=\"254\" r=\"12\" fill=\"rgb(154,154,154)\"/><circle cx=\"145\" cy=\"212\" r=\"9\" fill=\"rgb(68,68,68)\"/></svg><svg viewBox='0 0 430 430' id=\"svg\" width=\"172\" height=\"172\"><circle cx=\"215\" cy=\"215\" r=\"205\" fill=\"none\" stroke=\"black\" stroke-width=\"2\" stroke-dasharray=\"3,3\"/> <circle cx=\"322\" cy=\"169\" r=\"10\" fill=\"rgb(255,224,224)\" class=\"agent_1_20\"/><circle cx=\"366\" cy=\"198\" r=\"12\" fill=\"rgb(255,254,254)\" class=\"agent_1_25\"/><circle cx=\"41\" cy=\"257\" r=\"7\" fill=\"rgb(255,254,254)\" class=\"agent_1_33\"/><circle cx=\"202\" cy=\"61\" r=\"7\" fill=\"rgb(255,254,254)\" class=\"agent_1_41\"/><circle cx=\"137\" cy=\"359\" r=\"11\" fill=\"rgb(255,254,254)\" class=\"agent_1_51\"/><circle cx=\"313\" cy=\"254\" r=\"12\" fill=\"rgb(255,254,254)\" class=\"agent_1_58\"/><circle cx=\"145\" cy=\"212\" r=\"9\" fill=\"rgb(255,38,38)\" class=\"agent_1_62\"/></svg><svg viewBox='0 0 430 430' id=\"svg\" width=\"172\" height=\"172\"><circle cx=\"215\" cy=\"215\" r=\"205\" fill=\"none\" stroke=\"black\" stroke-width=\"2\" stroke-dasharray=\"3,3\"/> <circle cx=\"322\" cy=\"169\" r=\"10\" fill=\"rgb(255,168,168)\" class=\"agent_1_20\"/><circle cx=\"366\" cy=\"198\" r=\"12\" fill=\"rgb(255,254,254)\" class=\"agent_1_25\"/><circle cx=\"41\" cy=\"257\" r=\"7\" fill=\"rgb(255,238,238)\" class=\"agent_1_33\"/><circle cx=\"202\" cy=\"61\" r=\"7\" fill=\"rgb(255,241,241)\" class=\"agent_1_41\"/><circle cx=\"137\" cy=\"359\" r=\"11\" fill=\"rgb(255,252,252)\" class=\"agent_1_51\"/><circle cx=\"313\" cy=\"254\" r=\"12\" fill=\"rgb(255,254,254)\" class=\"agent_1_58\"/><circle cx=\"145\" cy=\"212\" r=\"9\" fill=\"rgb(255,131,131)\" class=\"agent_1_62\"/></svg><svg viewBox='0 0 430 430' id=\"svg\" width=\"172\" height=\"172\"><circle cx=\"215\" cy=\"215\" r=\"205\" fill=\"none\" stroke=\"black\" stroke-width=\"2\" stroke-dasharray=\"3,3\"/> <circle cx=\"322\" cy=\"169\" r=\"10\" fill=\"rgb(255,247,247)\" class=\"agent_1_20\"/><circle cx=\"366\" cy=\"198\" r=\"12\" fill=\"rgb(255,254,254)\" class=\"agent_1_25\"/><circle cx=\"41\" cy=\"257\" r=\"7\" fill=\"rgb(255,162,162)\" class=\"agent_1_33\"/><circle cx=\"202\" cy=\"61\" r=\"7\" fill=\"rgb(255,188,188)\" class=\"agent_1_41\"/><circle cx=\"137\" cy=\"359\" r=\"11\" fill=\"rgb(255,254,254)\" class=\"agent_1_51\"/><circle cx=\"313\" cy=\"254\" r=\"12\" fill=\"rgb(255,254,254)\" class=\"agent_1_58\"/><circle cx=\"145\" cy=\"212\" r=\"9\" fill=\"rgb(255,231,231)\" class=\"agent_1_62\"/></svg></div>"
      ],
      "text/plain": [
       "<IPython.core.display.HTML object>"
      ]
     },
     "metadata": {},
     "output_type": "display_data"
    },
    {
     "name": "stdout",
     "output_type": "stream",
     "text": [
      "partner_refs_pred\n"
     ]
    },
    {
     "data": {
      "text/html": [
       "<div style=\"white-space: nowrap\"><svg viewbox='0 0 430 430' width=\"172\" height=\"172\" id=\"agent_1\"><circle cx=\"215\" cy=\"215\" r=\"205\" fill=\"none\" stroke=\"black\" stroke-width=\"2\" stroke-dasharray=\"3,3\"/><circle cx=\"322\" cy=\"169\" r=\"10\" fill=\"rgb(73,73,73)\"/><circle cx=\"366\" cy=\"198\" r=\"12\" fill=\"rgb(171,171,171)\"/><circle cx=\"41\" cy=\"257\" r=\"7\" fill=\"rgb(137,137,137)\"/><circle cx=\"202\" cy=\"61\" r=\"7\" fill=\"rgb(148,148,148)\"/><circle cx=\"137\" cy=\"359\" r=\"11\" fill=\"rgb(126,126,126)\"/><circle cx=\"313\" cy=\"254\" r=\"12\" fill=\"rgb(154,154,154)\"/><circle cx=\"145\" cy=\"212\" r=\"9\" fill=\"rgb(68,68,68)\"/></svg><svg viewBox='0 0 430 430' id=\"svg\" width=\"172\" height=\"172\"><circle cx=\"215\" cy=\"215\" r=\"205\" fill=\"none\" stroke=\"black\" stroke-width=\"2\" stroke-dasharray=\"3,3\"/> <circle cx=\"322\" cy=\"169\" r=\"10\" fill=\"rgb(255,255,255)\" class=\"agent_1_20\"/><circle cx=\"366\" cy=\"198\" r=\"12\" fill=\"rgb(255,255,255)\" class=\"agent_1_25\"/><circle cx=\"41\" cy=\"257\" r=\"7\" fill=\"rgb(255,255,255)\" class=\"agent_1_33\"/><circle cx=\"202\" cy=\"61\" r=\"7\" fill=\"rgb(255,255,255)\" class=\"agent_1_41\"/><circle cx=\"137\" cy=\"359\" r=\"11\" fill=\"rgb(255,255,255)\" class=\"agent_1_51\"/><circle cx=\"313\" cy=\"254\" r=\"12\" fill=\"rgb(255,255,255)\" class=\"agent_1_58\"/><circle cx=\"145\" cy=\"212\" r=\"9\" fill=\"rgb(255,0,0)\" class=\"agent_1_62\"/></svg><svg viewBox='0 0 430 430' id=\"svg\" width=\"172\" height=\"172\"><circle cx=\"215\" cy=\"215\" r=\"205\" fill=\"none\" stroke=\"black\" stroke-width=\"2\" stroke-dasharray=\"3,3\"/> <circle cx=\"322\" cy=\"169\" r=\"10\" fill=\"rgb(255,255,255)\" class=\"agent_1_20\"/><circle cx=\"366\" cy=\"198\" r=\"12\" fill=\"rgb(255,255,255)\" class=\"agent_1_25\"/><circle cx=\"41\" cy=\"257\" r=\"7\" fill=\"rgb(255,255,255)\" class=\"agent_1_33\"/><circle cx=\"202\" cy=\"61\" r=\"7\" fill=\"rgb(255,255,255)\" class=\"agent_1_41\"/><circle cx=\"137\" cy=\"359\" r=\"11\" fill=\"rgb(255,255,255)\" class=\"agent_1_51\"/><circle cx=\"313\" cy=\"254\" r=\"12\" fill=\"rgb(255,255,255)\" class=\"agent_1_58\"/><circle cx=\"145\" cy=\"212\" r=\"9\" fill=\"rgb(255,0,0)\" class=\"agent_1_62\"/></svg><svg viewBox='0 0 430 430' id=\"svg\" width=\"172\" height=\"172\"><circle cx=\"215\" cy=\"215\" r=\"205\" fill=\"none\" stroke=\"black\" stroke-width=\"2\" stroke-dasharray=\"3,3\"/> <circle cx=\"322\" cy=\"169\" r=\"10\" fill=\"rgb(255,255,255)\" class=\"agent_1_20\"/><circle cx=\"366\" cy=\"198\" r=\"12\" fill=\"rgb(255,255,255)\" class=\"agent_1_25\"/><circle cx=\"41\" cy=\"257\" r=\"7\" fill=\"rgb(255,0,0)\" class=\"agent_1_33\"/><circle cx=\"202\" cy=\"61\" r=\"7\" fill=\"rgb(255,255,255)\" class=\"agent_1_41\"/><circle cx=\"137\" cy=\"359\" r=\"11\" fill=\"rgb(255,255,255)\" class=\"agent_1_51\"/><circle cx=\"313\" cy=\"254\" r=\"12\" fill=\"rgb(255,255,255)\" class=\"agent_1_58\"/><circle cx=\"145\" cy=\"212\" r=\"9\" fill=\"rgb(255,255,255)\" class=\"agent_1_62\"/></svg></div>"
      ],
      "text/plain": [
       "<IPython.core.display.HTML object>"
      ]
     },
     "metadata": {},
     "output_type": "display_data"
    },
    {
     "name": "stdout",
     "output_type": "stream",
     "text": [
      "partner_refs_true\n"
     ]
    },
    {
     "data": {
      "text/html": [
       "<div style=\"white-space: nowrap\"><svg viewbox='0 0 430 430' width=\"172\" height=\"172\" id=\"agent_1\"><circle cx=\"215\" cy=\"215\" r=\"205\" fill=\"none\" stroke=\"black\" stroke-width=\"2\" stroke-dasharray=\"3,3\"/><circle cx=\"322\" cy=\"169\" r=\"10\" fill=\"rgb(73,73,73)\"/><circle cx=\"366\" cy=\"198\" r=\"12\" fill=\"rgb(171,171,171)\"/><circle cx=\"41\" cy=\"257\" r=\"7\" fill=\"rgb(137,137,137)\"/><circle cx=\"202\" cy=\"61\" r=\"7\" fill=\"rgb(148,148,148)\"/><circle cx=\"137\" cy=\"359\" r=\"11\" fill=\"rgb(126,126,126)\"/><circle cx=\"313\" cy=\"254\" r=\"12\" fill=\"rgb(154,154,154)\"/><circle cx=\"145\" cy=\"212\" r=\"9\" fill=\"rgb(68,68,68)\"/></svg><svg viewBox='0 0 430 430' id=\"svg\" width=\"172\" height=\"172\"><circle cx=\"215\" cy=\"215\" r=\"205\" fill=\"none\" stroke=\"black\" stroke-width=\"2\" stroke-dasharray=\"3,3\"/> <circle cx=\"322\" cy=\"169\" r=\"10\" fill=\"rgb(255,255,255)\" class=\"agent_1_20\"/><circle cx=\"366\" cy=\"198\" r=\"12\" fill=\"rgb(255,255,255)\" class=\"agent_1_25\"/><circle cx=\"41\" cy=\"257\" r=\"7\" fill=\"rgb(255,255,255)\" class=\"agent_1_33\"/><circle cx=\"202\" cy=\"61\" r=\"7\" fill=\"rgb(255,255,255)\" class=\"agent_1_41\"/><circle cx=\"137\" cy=\"359\" r=\"11\" fill=\"rgb(255,255,255)\" class=\"agent_1_51\"/><circle cx=\"313\" cy=\"254\" r=\"12\" fill=\"rgb(255,255,255)\" class=\"agent_1_58\"/><circle cx=\"145\" cy=\"212\" r=\"9\" fill=\"rgb(255,0,0)\" class=\"agent_1_62\"/></svg><svg viewBox='0 0 430 430' id=\"svg\" width=\"172\" height=\"172\"><circle cx=\"215\" cy=\"215\" r=\"205\" fill=\"none\" stroke=\"black\" stroke-width=\"2\" stroke-dasharray=\"3,3\"/> <circle cx=\"322\" cy=\"169\" r=\"10\" fill=\"rgb(255,255,255)\" class=\"agent_1_20\"/><circle cx=\"366\" cy=\"198\" r=\"12\" fill=\"rgb(255,255,255)\" class=\"agent_1_25\"/><circle cx=\"41\" cy=\"257\" r=\"7\" fill=\"rgb(255,255,255)\" class=\"agent_1_33\"/><circle cx=\"202\" cy=\"61\" r=\"7\" fill=\"rgb(255,255,255)\" class=\"agent_1_41\"/><circle cx=\"137\" cy=\"359\" r=\"11\" fill=\"rgb(255,255,255)\" class=\"agent_1_51\"/><circle cx=\"313\" cy=\"254\" r=\"12\" fill=\"rgb(255,255,255)\" class=\"agent_1_58\"/><circle cx=\"145\" cy=\"212\" r=\"9\" fill=\"rgb(255,0,0)\" class=\"agent_1_62\"/></svg><svg viewBox='0 0 430 430' id=\"svg\" width=\"172\" height=\"172\"><circle cx=\"215\" cy=\"215\" r=\"205\" fill=\"none\" stroke=\"black\" stroke-width=\"2\" stroke-dasharray=\"3,3\"/> <circle cx=\"322\" cy=\"169\" r=\"10\" fill=\"rgb(255,255,255)\" class=\"agent_1_20\"/><circle cx=\"366\" cy=\"198\" r=\"12\" fill=\"rgb(255,255,255)\" class=\"agent_1_25\"/><circle cx=\"41\" cy=\"257\" r=\"7\" fill=\"rgb(255,0,0)\" class=\"agent_1_33\"/><circle cx=\"202\" cy=\"61\" r=\"7\" fill=\"rgb(255,255,255)\" class=\"agent_1_41\"/><circle cx=\"137\" cy=\"359\" r=\"11\" fill=\"rgb(255,255,255)\" class=\"agent_1_51\"/><circle cx=\"313\" cy=\"254\" r=\"12\" fill=\"rgb(255,255,255)\" class=\"agent_1_58\"/><circle cx=\"145\" cy=\"212\" r=\"9\" fill=\"rgb(255,255,255)\" class=\"agent_1_62\"/></svg></div>"
      ],
      "text/plain": [
       "<IPython.core.display.HTML object>"
      ]
     },
     "metadata": {},
     "output_type": "display_data"
    },
    {
     "name": "stdout",
     "output_type": "stream",
     "text": [
      "partner_ref_true (their view)\n"
     ]
    },
    {
     "data": {
      "text/html": [
       "<div style=\"white-space: nowrap\"><svg viewbox='0 0 430 430' width=\"172\" height=\"172\" id=\"agent_0\"><circle cx=\"215\" cy=\"215\" r=\"205\" fill=\"none\" stroke=\"black\" stroke-width=\"2\" stroke-dasharray=\"3,3\"/><circle cx=\"402\" cy=\"172\" r=\"10\" fill=\"rgb(73,73,73)\"/><circle cx=\"121\" cy=\"260\" r=\"7\" fill=\"rgb(137,137,137)\"/><circle cx=\"67\" cy=\"121\" r=\"12\" fill=\"rgb(67,67,67)\"/><circle cx=\"283\" cy=\"64\" r=\"7\" fill=\"rgb(148,148,148)\"/><circle cx=\"217\" cy=\"362\" r=\"11\" fill=\"rgb(126,126,126)\"/><circle cx=\"393\" cy=\"257\" r=\"12\" fill=\"rgb(154,154,154)\"/><circle cx=\"226\" cy=\"215\" r=\"9\" fill=\"rgb(68,68,68)\"/></svg><svg viewBox='0 0 430 430' id=\"svg\" width=\"172\" height=\"172\"><circle cx=\"215\" cy=\"215\" r=\"205\" fill=\"none\" stroke=\"black\" stroke-width=\"2\" stroke-dasharray=\"3,3\"/> <circle cx=\"402\" cy=\"172\" r=\"10\" fill=\"rgb(255,255,255)\" class=\"agent_0_20\"/><circle cx=\"121\" cy=\"260\" r=\"7\" fill=\"rgb(255,255,255)\" class=\"agent_0_33\"/><circle cx=\"67\" cy=\"121\" r=\"12\" fill=\"rgb(255,255,255)\" class=\"agent_0_40\"/><circle cx=\"283\" cy=\"64\" r=\"7\" fill=\"rgb(255,255,255)\" class=\"agent_0_41\"/><circle cx=\"217\" cy=\"362\" r=\"11\" fill=\"rgb(255,255,255)\" class=\"agent_0_51\"/><circle cx=\"393\" cy=\"257\" r=\"12\" fill=\"rgb(255,255,255)\" class=\"agent_0_58\"/><circle cx=\"226\" cy=\"215\" r=\"9\" fill=\"rgb(255,0,0)\" class=\"agent_0_62\"/></svg><svg viewBox='0 0 430 430' id=\"svg\" width=\"172\" height=\"172\"><circle cx=\"215\" cy=\"215\" r=\"205\" fill=\"none\" stroke=\"black\" stroke-width=\"2\" stroke-dasharray=\"3,3\"/> <circle cx=\"402\" cy=\"172\" r=\"10\" fill=\"rgb(255,255,255)\" class=\"agent_0_20\"/><circle cx=\"121\" cy=\"260\" r=\"7\" fill=\"rgb(255,255,255)\" class=\"agent_0_33\"/><circle cx=\"67\" cy=\"121\" r=\"12\" fill=\"rgb(255,255,255)\" class=\"agent_0_40\"/><circle cx=\"283\" cy=\"64\" r=\"7\" fill=\"rgb(255,255,255)\" class=\"agent_0_41\"/><circle cx=\"217\" cy=\"362\" r=\"11\" fill=\"rgb(255,255,255)\" class=\"agent_0_51\"/><circle cx=\"393\" cy=\"257\" r=\"12\" fill=\"rgb(255,255,255)\" class=\"agent_0_58\"/><circle cx=\"226\" cy=\"215\" r=\"9\" fill=\"rgb(255,0,0)\" class=\"agent_0_62\"/></svg><svg viewBox='0 0 430 430' id=\"svg\" width=\"172\" height=\"172\"><circle cx=\"215\" cy=\"215\" r=\"205\" fill=\"none\" stroke=\"black\" stroke-width=\"2\" stroke-dasharray=\"3,3\"/> <circle cx=\"402\" cy=\"172\" r=\"10\" fill=\"rgb(255,255,255)\" class=\"agent_0_20\"/><circle cx=\"121\" cy=\"260\" r=\"7\" fill=\"rgb(255,0,0)\" class=\"agent_0_33\"/><circle cx=\"67\" cy=\"121\" r=\"12\" fill=\"rgb(255,255,255)\" class=\"agent_0_40\"/><circle cx=\"283\" cy=\"64\" r=\"7\" fill=\"rgb(255,255,255)\" class=\"agent_0_41\"/><circle cx=\"217\" cy=\"362\" r=\"11\" fill=\"rgb(255,255,255)\" class=\"agent_0_51\"/><circle cx=\"393\" cy=\"257\" r=\"12\" fill=\"rgb(255,255,255)\" class=\"agent_0_58\"/><circle cx=\"226\" cy=\"215\" r=\"9\" fill=\"rgb(255,255,255)\" class=\"agent_0_62\"/></svg></div>"
      ],
      "text/plain": [
       "<IPython.core.display.HTML object>"
      ]
     },
     "metadata": {},
     "output_type": "display_data"
    },
    {
     "name": "stdout",
     "output_type": "stream",
     "text": [
      "\n",
      "----------------------------------------\n",
      "\n",
      "to_mention_marginals\n"
     ]
    },
    {
     "data": {
      "text/html": [
       "<div style=\"white-space: nowrap\"><svg viewbox='0 0 430 430' width=\"172\" height=\"172\" id=\"agent_1\"><circle cx=\"215\" cy=\"215\" r=\"205\" fill=\"none\" stroke=\"black\" stroke-width=\"2\" stroke-dasharray=\"3,3\"/><circle cx=\"322\" cy=\"169\" r=\"10\" fill=\"rgb(73,73,73)\"/><circle cx=\"366\" cy=\"198\" r=\"12\" fill=\"rgb(171,171,171)\"/><circle cx=\"41\" cy=\"257\" r=\"7\" fill=\"rgb(137,137,137)\"/><circle cx=\"202\" cy=\"61\" r=\"7\" fill=\"rgb(148,148,148)\"/><circle cx=\"137\" cy=\"359\" r=\"11\" fill=\"rgb(126,126,126)\"/><circle cx=\"313\" cy=\"254\" r=\"12\" fill=\"rgb(154,154,154)\"/><circle cx=\"145\" cy=\"212\" r=\"9\" fill=\"rgb(68,68,68)\"/></svg><svg viewBox='0 0 430 430' id=\"svg\" width=\"172\" height=\"172\"><circle cx=\"215\" cy=\"215\" r=\"205\" fill=\"none\" stroke=\"black\" stroke-width=\"2\" stroke-dasharray=\"3,3\"/> <circle cx=\"322\" cy=\"169\" r=\"10\" fill=\"rgb(255,202,202)\" class=\"agent_1_20\"/><circle cx=\"366\" cy=\"198\" r=\"12\" fill=\"rgb(255,228,228)\" class=\"agent_1_25\"/><circle cx=\"41\" cy=\"257\" r=\"7\" fill=\"rgb(255,216,216)\" class=\"agent_1_33\"/><circle cx=\"202\" cy=\"61\" r=\"7\" fill=\"rgb(255,221,221)\" class=\"agent_1_41\"/><circle cx=\"137\" cy=\"359\" r=\"11\" fill=\"rgb(255,232,232)\" class=\"agent_1_51\"/><circle cx=\"313\" cy=\"254\" r=\"12\" fill=\"rgb(255,226,226)\" class=\"agent_1_58\"/><circle cx=\"145\" cy=\"212\" r=\"9\" fill=\"rgb(255,155,155)\" class=\"agent_1_62\"/></svg><svg viewBox='0 0 430 430' id=\"svg\" width=\"172\" height=\"172\"><circle cx=\"215\" cy=\"215\" r=\"205\" fill=\"none\" stroke=\"black\" stroke-width=\"2\" stroke-dasharray=\"3,3\"/> <circle cx=\"322\" cy=\"169\" r=\"10\" fill=\"rgb(255,198,198)\" class=\"agent_1_20\"/><circle cx=\"366\" cy=\"198\" r=\"12\" fill=\"rgb(255,223,223)\" class=\"agent_1_25\"/><circle cx=\"41\" cy=\"257\" r=\"7\" fill=\"rgb(255,222,222)\" class=\"agent_1_33\"/><circle cx=\"202\" cy=\"61\" r=\"7\" fill=\"rgb(255,224,224)\" class=\"agent_1_41\"/><circle cx=\"137\" cy=\"359\" r=\"11\" fill=\"rgb(255,230,230)\" class=\"agent_1_51\"/><circle cx=\"313\" cy=\"254\" r=\"12\" fill=\"rgb(255,221,221)\" class=\"agent_1_58\"/><circle cx=\"145\" cy=\"212\" r=\"9\" fill=\"rgb(255,179,179)\" class=\"agent_1_62\"/></svg><svg viewBox='0 0 430 430' id=\"svg\" width=\"172\" height=\"172\"><circle cx=\"215\" cy=\"215\" r=\"205\" fill=\"none\" stroke=\"black\" stroke-width=\"2\" stroke-dasharray=\"3,3\"/> <circle cx=\"322\" cy=\"169\" r=\"10\" fill=\"rgb(255,199,199)\" class=\"agent_1_20\"/><circle cx=\"366\" cy=\"198\" r=\"12\" fill=\"rgb(255,222,222)\" class=\"agent_1_25\"/><circle cx=\"41\" cy=\"257\" r=\"7\" fill=\"rgb(255,223,223)\" class=\"agent_1_33\"/><circle cx=\"202\" cy=\"61\" r=\"7\" fill=\"rgb(255,224,224)\" class=\"agent_1_41\"/><circle cx=\"137\" cy=\"359\" r=\"11\" fill=\"rgb(255,230,230)\" class=\"agent_1_51\"/><circle cx=\"313\" cy=\"254\" r=\"12\" fill=\"rgb(255,221,221)\" class=\"agent_1_58\"/><circle cx=\"145\" cy=\"212\" r=\"9\" fill=\"rgb(255,182,182)\" class=\"agent_1_62\"/></svg></div>"
      ],
      "text/plain": [
       "<IPython.core.display.HTML object>"
      ]
     },
     "metadata": {},
     "output_type": "display_data"
    },
    {
     "name": "stdout",
     "output_type": "stream",
     "text": [
      "to_mention_pred\n"
     ]
    },
    {
     "data": {
      "text/html": [
       "<div style=\"white-space: nowrap\"><svg viewbox='0 0 430 430' width=\"172\" height=\"172\" id=\"agent_1\"><circle cx=\"215\" cy=\"215\" r=\"205\" fill=\"none\" stroke=\"black\" stroke-width=\"2\" stroke-dasharray=\"3,3\"/><circle cx=\"322\" cy=\"169\" r=\"10\" fill=\"rgb(73,73,73)\"/><circle cx=\"366\" cy=\"198\" r=\"12\" fill=\"rgb(171,171,171)\"/><circle cx=\"41\" cy=\"257\" r=\"7\" fill=\"rgb(137,137,137)\"/><circle cx=\"202\" cy=\"61\" r=\"7\" fill=\"rgb(148,148,148)\"/><circle cx=\"137\" cy=\"359\" r=\"11\" fill=\"rgb(126,126,126)\"/><circle cx=\"313\" cy=\"254\" r=\"12\" fill=\"rgb(154,154,154)\"/><circle cx=\"145\" cy=\"212\" r=\"9\" fill=\"rgb(68,68,68)\"/></svg><svg viewBox='0 0 430 430' id=\"svg\" width=\"172\" height=\"172\"><circle cx=\"215\" cy=\"215\" r=\"205\" fill=\"none\" stroke=\"black\" stroke-width=\"2\" stroke-dasharray=\"3,3\"/> <circle cx=\"322\" cy=\"169\" r=\"10\" fill=\"rgb(255,255,255)\" class=\"agent_1_20\"/><circle cx=\"366\" cy=\"198\" r=\"12\" fill=\"rgb(255,255,255)\" class=\"agent_1_25\"/><circle cx=\"41\" cy=\"257\" r=\"7\" fill=\"rgb(255,255,255)\" class=\"agent_1_33\"/><circle cx=\"202\" cy=\"61\" r=\"7\" fill=\"rgb(255,255,255)\" class=\"agent_1_41\"/><circle cx=\"137\" cy=\"359\" r=\"11\" fill=\"rgb(255,255,255)\" class=\"agent_1_51\"/><circle cx=\"313\" cy=\"254\" r=\"12\" fill=\"rgb(255,255,255)\" class=\"agent_1_58\"/><circle cx=\"145\" cy=\"212\" r=\"9\" fill=\"rgb(255,0,0)\" class=\"agent_1_62\"/></svg><svg viewBox='0 0 430 430' id=\"svg\" width=\"172\" height=\"172\"><circle cx=\"215\" cy=\"215\" r=\"205\" fill=\"none\" stroke=\"black\" stroke-width=\"2\" stroke-dasharray=\"3,3\"/> <circle cx=\"322\" cy=\"169\" r=\"10\" fill=\"rgb(255,255,255)\" class=\"agent_1_20\"/><circle cx=\"366\" cy=\"198\" r=\"12\" fill=\"rgb(255,255,255)\" class=\"agent_1_25\"/><circle cx=\"41\" cy=\"257\" r=\"7\" fill=\"rgb(255,255,255)\" class=\"agent_1_33\"/><circle cx=\"202\" cy=\"61\" r=\"7\" fill=\"rgb(255,255,255)\" class=\"agent_1_41\"/><circle cx=\"137\" cy=\"359\" r=\"11\" fill=\"rgb(255,255,255)\" class=\"agent_1_51\"/><circle cx=\"313\" cy=\"254\" r=\"12\" fill=\"rgb(255,255,255)\" class=\"agent_1_58\"/><circle cx=\"145\" cy=\"212\" r=\"9\" fill=\"rgb(255,0,0)\" class=\"agent_1_62\"/></svg><svg viewBox='0 0 430 430' id=\"svg\" width=\"172\" height=\"172\"><circle cx=\"215\" cy=\"215\" r=\"205\" fill=\"none\" stroke=\"black\" stroke-width=\"2\" stroke-dasharray=\"3,3\"/> <circle cx=\"322\" cy=\"169\" r=\"10\" fill=\"rgb(255,255,255)\" class=\"agent_1_20\"/><circle cx=\"366\" cy=\"198\" r=\"12\" fill=\"rgb(255,255,255)\" class=\"agent_1_25\"/><circle cx=\"41\" cy=\"257\" r=\"7\" fill=\"rgb(255,255,255)\" class=\"agent_1_33\"/><circle cx=\"202\" cy=\"61\" r=\"7\" fill=\"rgb(255,255,255)\" class=\"agent_1_41\"/><circle cx=\"137\" cy=\"359\" r=\"11\" fill=\"rgb(255,255,255)\" class=\"agent_1_51\"/><circle cx=\"313\" cy=\"254\" r=\"12\" fill=\"rgb(255,255,255)\" class=\"agent_1_58\"/><circle cx=\"145\" cy=\"212\" r=\"9\" fill=\"rgb(255,0,0)\" class=\"agent_1_62\"/></svg></div>"
      ],
      "text/plain": [
       "<IPython.core.display.HTML object>"
      ]
     },
     "metadata": {},
     "output_type": "display_data"
    },
    {
     "name": "stdout",
     "output_type": "stream",
     "text": [
      "to_mention_true\n"
     ]
    },
    {
     "data": {
      "text/html": [
       "<div style=\"white-space: nowrap\"><svg viewbox='0 0 430 430' width=\"172\" height=\"172\" id=\"agent_1\"><circle cx=\"215\" cy=\"215\" r=\"205\" fill=\"none\" stroke=\"black\" stroke-width=\"2\" stroke-dasharray=\"3,3\"/><circle cx=\"322\" cy=\"169\" r=\"10\" fill=\"rgb(73,73,73)\"/><circle cx=\"366\" cy=\"198\" r=\"12\" fill=\"rgb(171,171,171)\"/><circle cx=\"41\" cy=\"257\" r=\"7\" fill=\"rgb(137,137,137)\"/><circle cx=\"202\" cy=\"61\" r=\"7\" fill=\"rgb(148,148,148)\"/><circle cx=\"137\" cy=\"359\" r=\"11\" fill=\"rgb(126,126,126)\"/><circle cx=\"313\" cy=\"254\" r=\"12\" fill=\"rgb(154,154,154)\"/><circle cx=\"145\" cy=\"212\" r=\"9\" fill=\"rgb(68,68,68)\"/></svg><svg viewBox='0 0 430 430' id=\"svg\" width=\"172\" height=\"172\"><circle cx=\"215\" cy=\"215\" r=\"205\" fill=\"none\" stroke=\"black\" stroke-width=\"2\" stroke-dasharray=\"3,3\"/> <circle cx=\"322\" cy=\"169\" r=\"10\" fill=\"rgb(255,255,255)\" class=\"agent_1_20\"/><circle cx=\"366\" cy=\"198\" r=\"12\" fill=\"rgb(255,255,255)\" class=\"agent_1_25\"/><circle cx=\"41\" cy=\"257\" r=\"7\" fill=\"rgb(255,255,255)\" class=\"agent_1_33\"/><circle cx=\"202\" cy=\"61\" r=\"7\" fill=\"rgb(255,255,255)\" class=\"agent_1_41\"/><circle cx=\"137\" cy=\"359\" r=\"11\" fill=\"rgb(255,255,255)\" class=\"agent_1_51\"/><circle cx=\"313\" cy=\"254\" r=\"12\" fill=\"rgb(255,255,255)\" class=\"agent_1_58\"/><circle cx=\"145\" cy=\"212\" r=\"9\" fill=\"rgb(255,0,0)\" class=\"agent_1_62\"/></svg></div>"
      ],
      "text/plain": [
       "<IPython.core.display.HTML object>"
      ]
     },
     "metadata": {},
     "output_type": "display_data"
    },
    {
     "name": "stdout",
     "output_type": "stream",
     "text": [
      "predicted is_selection probability\n",
      "tensor([0.0484], grad_fn=<SigmoidBackward>)\n",
      "is_selection: tensor([True])\n",
      "beam 0\tyes , let 's pick the black one <eos>\n",
      "greedy\tyes , let 's pick the black one <eos>\n",
      "human\tyes . pick the black one <selection>\n",
      "detected markables:\n",
      "{'start': 14, 'end': 27, 'is_self': True, 'text': 'the black one'}\n",
      "ref_marginal_probs\n"
     ]
    },
    {
     "data": {
      "text/html": [
       "<div style=\"white-space: nowrap\"><svg viewbox='0 0 430 430' width=\"172\" height=\"172\" id=\"agent_1\"><circle cx=\"215\" cy=\"215\" r=\"205\" fill=\"none\" stroke=\"black\" stroke-width=\"2\" stroke-dasharray=\"3,3\"/><circle cx=\"322\" cy=\"169\" r=\"10\" fill=\"rgb(73,73,73)\"/><circle cx=\"366\" cy=\"198\" r=\"12\" fill=\"rgb(171,171,171)\"/><circle cx=\"41\" cy=\"257\" r=\"7\" fill=\"rgb(137,137,137)\"/><circle cx=\"202\" cy=\"61\" r=\"7\" fill=\"rgb(148,148,148)\"/><circle cx=\"137\" cy=\"359\" r=\"11\" fill=\"rgb(126,126,126)\"/><circle cx=\"313\" cy=\"254\" r=\"12\" fill=\"rgb(154,154,154)\"/><circle cx=\"145\" cy=\"212\" r=\"9\" fill=\"rgb(68,68,68)\"/></svg><svg viewBox='0 0 430 430' id=\"svg\" width=\"172\" height=\"172\"><circle cx=\"215\" cy=\"215\" r=\"205\" fill=\"none\" stroke=\"black\" stroke-width=\"2\" stroke-dasharray=\"3,3\"/> <circle cx=\"322\" cy=\"169\" r=\"10\" fill=\"rgb(255,220,220)\" class=\"agent_1_20\"/><circle cx=\"366\" cy=\"198\" r=\"12\" fill=\"rgb(255,254,254)\" class=\"agent_1_25\"/><circle cx=\"41\" cy=\"257\" r=\"7\" fill=\"rgb(255,254,254)\" class=\"agent_1_33\"/><circle cx=\"202\" cy=\"61\" r=\"7\" fill=\"rgb(255,254,254)\" class=\"agent_1_41\"/><circle cx=\"137\" cy=\"359\" r=\"11\" fill=\"rgb(255,254,254)\" class=\"agent_1_51\"/><circle cx=\"313\" cy=\"254\" r=\"12\" fill=\"rgb(255,254,254)\" class=\"agent_1_58\"/><circle cx=\"145\" cy=\"212\" r=\"9\" fill=\"rgb(255,33,33)\" class=\"agent_1_62\"/></svg></div>"
      ],
      "text/plain": [
       "<IPython.core.display.HTML object>"
      ]
     },
     "metadata": {},
     "output_type": "display_data"
    },
    {
     "name": "stdout",
     "output_type": "stream",
     "text": [
      "refs_pred\n"
     ]
    },
    {
     "data": {
      "text/html": [
       "<div style=\"white-space: nowrap\"><svg viewbox='0 0 430 430' width=\"172\" height=\"172\" id=\"agent_1\"><circle cx=\"215\" cy=\"215\" r=\"205\" fill=\"none\" stroke=\"black\" stroke-width=\"2\" stroke-dasharray=\"3,3\"/><circle cx=\"322\" cy=\"169\" r=\"10\" fill=\"rgb(73,73,73)\"/><circle cx=\"366\" cy=\"198\" r=\"12\" fill=\"rgb(171,171,171)\"/><circle cx=\"41\" cy=\"257\" r=\"7\" fill=\"rgb(137,137,137)\"/><circle cx=\"202\" cy=\"61\" r=\"7\" fill=\"rgb(148,148,148)\"/><circle cx=\"137\" cy=\"359\" r=\"11\" fill=\"rgb(126,126,126)\"/><circle cx=\"313\" cy=\"254\" r=\"12\" fill=\"rgb(154,154,154)\"/><circle cx=\"145\" cy=\"212\" r=\"9\" fill=\"rgb(68,68,68)\"/></svg><svg viewBox='0 0 430 430' id=\"svg\" width=\"172\" height=\"172\"><circle cx=\"215\" cy=\"215\" r=\"205\" fill=\"none\" stroke=\"black\" stroke-width=\"2\" stroke-dasharray=\"3,3\"/> <circle cx=\"322\" cy=\"169\" r=\"10\" fill=\"rgb(255,255,255)\" class=\"agent_1_20\"/><circle cx=\"366\" cy=\"198\" r=\"12\" fill=\"rgb(255,255,255)\" class=\"agent_1_25\"/><circle cx=\"41\" cy=\"257\" r=\"7\" fill=\"rgb(255,255,255)\" class=\"agent_1_33\"/><circle cx=\"202\" cy=\"61\" r=\"7\" fill=\"rgb(255,255,255)\" class=\"agent_1_41\"/><circle cx=\"137\" cy=\"359\" r=\"11\" fill=\"rgb(255,255,255)\" class=\"agent_1_51\"/><circle cx=\"313\" cy=\"254\" r=\"12\" fill=\"rgb(255,255,255)\" class=\"agent_1_58\"/><circle cx=\"145\" cy=\"212\" r=\"9\" fill=\"rgb(255,0,0)\" class=\"agent_1_62\"/></svg></div>"
      ],
      "text/plain": [
       "<IPython.core.display.HTML object>"
      ]
     },
     "metadata": {},
     "output_type": "display_data"
    },
    {
     "name": "stdout",
     "output_type": "stream",
     "text": [
      "refs_true\n"
     ]
    },
    {
     "data": {
      "text/html": [
       "<div style=\"white-space: nowrap\"><svg viewbox='0 0 430 430' width=\"172\" height=\"172\" id=\"agent_1\"><circle cx=\"215\" cy=\"215\" r=\"205\" fill=\"none\" stroke=\"black\" stroke-width=\"2\" stroke-dasharray=\"3,3\"/><circle cx=\"322\" cy=\"169\" r=\"10\" fill=\"rgb(73,73,73)\"/><circle cx=\"366\" cy=\"198\" r=\"12\" fill=\"rgb(171,171,171)\"/><circle cx=\"41\" cy=\"257\" r=\"7\" fill=\"rgb(137,137,137)\"/><circle cx=\"202\" cy=\"61\" r=\"7\" fill=\"rgb(148,148,148)\"/><circle cx=\"137\" cy=\"359\" r=\"11\" fill=\"rgb(126,126,126)\"/><circle cx=\"313\" cy=\"254\" r=\"12\" fill=\"rgb(154,154,154)\"/><circle cx=\"145\" cy=\"212\" r=\"9\" fill=\"rgb(68,68,68)\"/></svg><svg viewBox='0 0 430 430' id=\"svg\" width=\"172\" height=\"172\"><circle cx=\"215\" cy=\"215\" r=\"205\" fill=\"none\" stroke=\"black\" stroke-width=\"2\" stroke-dasharray=\"3,3\"/> <circle cx=\"322\" cy=\"169\" r=\"10\" fill=\"rgb(255,255,255)\" class=\"agent_1_20\"/><circle cx=\"366\" cy=\"198\" r=\"12\" fill=\"rgb(255,255,255)\" class=\"agent_1_25\"/><circle cx=\"41\" cy=\"257\" r=\"7\" fill=\"rgb(255,255,255)\" class=\"agent_1_33\"/><circle cx=\"202\" cy=\"61\" r=\"7\" fill=\"rgb(255,255,255)\" class=\"agent_1_41\"/><circle cx=\"137\" cy=\"359\" r=\"11\" fill=\"rgb(255,255,255)\" class=\"agent_1_51\"/><circle cx=\"313\" cy=\"254\" r=\"12\" fill=\"rgb(255,255,255)\" class=\"agent_1_58\"/><circle cx=\"145\" cy=\"212\" r=\"9\" fill=\"rgb(255,0,0)\" class=\"agent_1_62\"/></svg></div>"
      ],
      "text/plain": [
       "<IPython.core.display.HTML object>"
      ]
     },
     "metadata": {},
     "output_type": "display_data"
    },
    {
     "name": "stdout",
     "output_type": "stream",
     "text": [
      "\n",
      "----------------------------------------\n",
      "\n",
      "sel_pred\n"
     ]
    },
    {
     "data": {
      "text/html": [
       "<div style=\"white-space: nowrap\"><svg viewbox='0 0 430 430' width=\"172\" height=\"172\" id=\"agent_1\"><circle cx=\"215\" cy=\"215\" r=\"205\" fill=\"none\" stroke=\"black\" stroke-width=\"2\" stroke-dasharray=\"3,3\"/><circle cx=\"322\" cy=\"169\" r=\"10\" fill=\"rgb(73,73,73)\"/><circle cx=\"366\" cy=\"198\" r=\"12\" fill=\"rgb(171,171,171)\"/><circle cx=\"41\" cy=\"257\" r=\"7\" fill=\"rgb(137,137,137)\"/><circle cx=\"202\" cy=\"61\" r=\"7\" fill=\"rgb(148,148,148)\"/><circle cx=\"137\" cy=\"359\" r=\"11\" fill=\"rgb(126,126,126)\"/><circle cx=\"313\" cy=\"254\" r=\"12\" fill=\"rgb(154,154,154)\"/><circle cx=\"145\" cy=\"212\" r=\"9\" fill=\"rgb(68,68,68)\"/></svg><svg viewBox='0 0 430 430' id=\"svg\" width=\"172\" height=\"172\"><circle cx=\"215\" cy=\"215\" r=\"205\" fill=\"none\" stroke=\"black\" stroke-width=\"2\" stroke-dasharray=\"3,3\"/> <circle cx=\"322\" cy=\"169\" r=\"10\" fill=\"rgb(255,169,169)\" class=\"agent_1_20\"/><circle cx=\"366\" cy=\"198\" r=\"12\" fill=\"rgb(255,254,254)\" class=\"agent_1_25\"/><circle cx=\"41\" cy=\"257\" r=\"7\" fill=\"rgb(255,254,254)\" class=\"agent_1_33\"/><circle cx=\"202\" cy=\"61\" r=\"7\" fill=\"rgb(255,254,254)\" class=\"agent_1_41\"/><circle cx=\"137\" cy=\"359\" r=\"11\" fill=\"rgb(255,254,254)\" class=\"agent_1_51\"/><circle cx=\"313\" cy=\"254\" r=\"12\" fill=\"rgb(255,254,254)\" class=\"agent_1_58\"/><circle cx=\"145\" cy=\"212\" r=\"9\" fill=\"rgb(255,68,68)\" class=\"agent_1_62\"/></svg></div>"
      ],
      "text/plain": [
       "<IPython.core.display.HTML object>"
      ]
     },
     "metadata": {},
     "output_type": "display_data"
    },
    {
     "name": "stdout",
     "output_type": "stream",
     "text": [
      "sel_true\n"
     ]
    },
    {
     "data": {
      "text/html": [
       "<div style=\"white-space: nowrap\"><svg viewbox='0 0 430 430' width=\"172\" height=\"172\" id=\"agent_1\"><circle cx=\"215\" cy=\"215\" r=\"205\" fill=\"none\" stroke=\"black\" stroke-width=\"2\" stroke-dasharray=\"3,3\"/><circle cx=\"322\" cy=\"169\" r=\"10\" fill=\"rgb(73,73,73)\"/><circle cx=\"366\" cy=\"198\" r=\"12\" fill=\"rgb(171,171,171)\"/><circle cx=\"41\" cy=\"257\" r=\"7\" fill=\"rgb(137,137,137)\"/><circle cx=\"202\" cy=\"61\" r=\"7\" fill=\"rgb(148,148,148)\"/><circle cx=\"137\" cy=\"359\" r=\"11\" fill=\"rgb(126,126,126)\"/><circle cx=\"313\" cy=\"254\" r=\"12\" fill=\"rgb(154,154,154)\"/><circle cx=\"145\" cy=\"212\" r=\"9\" fill=\"rgb(68,68,68)\"/></svg><svg viewBox='0 0 430 430' id=\"svg\" width=\"172\" height=\"172\"><circle cx=\"215\" cy=\"215\" r=\"205\" fill=\"none\" stroke=\"black\" stroke-width=\"2\" stroke-dasharray=\"3,3\"/> <circle cx=\"322\" cy=\"169\" r=\"10\" fill=\"rgb(255,255,255)\" class=\"agent_1_20\"/><circle cx=\"366\" cy=\"198\" r=\"12\" fill=\"rgb(255,255,255)\" class=\"agent_1_25\"/><circle cx=\"41\" cy=\"257\" r=\"7\" fill=\"rgb(255,255,255)\" class=\"agent_1_33\"/><circle cx=\"202\" cy=\"61\" r=\"7\" fill=\"rgb(255,255,255)\" class=\"agent_1_41\"/><circle cx=\"137\" cy=\"359\" r=\"11\" fill=\"rgb(255,255,255)\" class=\"agent_1_51\"/><circle cx=\"313\" cy=\"254\" r=\"12\" fill=\"rgb(255,255,255)\" class=\"agent_1_58\"/><circle cx=\"145\" cy=\"212\" r=\"9\" fill=\"rgb(255,0,0)\" class=\"agent_1_62\"/></svg></div>"
      ],
      "text/plain": [
       "<IPython.core.display.HTML object>"
      ]
     },
     "metadata": {},
     "output_type": "display_data"
    }
   ],
   "source": [
    "force_contexts_and_mentions(9, min_num_mentions=1, mention_marginals=True,\n",
    "                            ref_marginals=True, for_partner=False)"
   ]
  },
  {
   "cell_type": "code",
   "execution_count": 69,
   "metadata": {
    "scrolled": false
   },
   "outputs": [
    {
     "name": "stdout",
     "output_type": "stream",
     "text": [
      "scenario_id: S_HipCMaYBA70VTN6W\n",
      "predicted is_selection probability\n",
      "tensor([0.0101], grad_fn=<SigmoidBackward>)\n",
      "is_selection: tensor([False])\n",
      "human\tTHEM: do you see 3 dots in an almost vertical line ? top and bottom dark middle one light ? <eos>\n",
      "detected markables:\n",
      "{'start': 14, 'end': 20, 'is_self': True, 'text': '3 dots'}\n",
      "{'start': 50, 'end': 53, 'is_self': True, 'text': 'top'}\n",
      "{'start': 58, 'end': 80, 'is_self': True, 'text': 'bottom dark middle one'}\n",
      "partner_ref_marginal_probs\n"
     ]
    },
    {
     "data": {
      "text/html": [
       "<div style=\"white-space: nowrap\"><svg viewbox='0 0 430 430' width=\"172\" height=\"172\" id=\"agent_1\"><circle cx=\"215\" cy=\"215\" r=\"205\" fill=\"none\" stroke=\"black\" stroke-width=\"2\" stroke-dasharray=\"3,3\"/><circle cx=\"305\" cy=\"242\" r=\"7\" fill=\"rgb(100,100,100)\"/><circle cx=\"165\" cy=\"170\" r=\"11\" fill=\"rgb(166,166,166)\"/><circle cx=\"83\" cy=\"287\" r=\"8\" fill=\"rgb(126,126,126)\"/><circle cx=\"303\" cy=\"69\" r=\"10\" fill=\"rgb(96,96,96)\"/><circle cx=\"44\" cy=\"142\" r=\"11\" fill=\"rgb(185,185,185)\"/><circle cx=\"300\" cy=\"155\" r=\"9\" fill=\"rgb(153,153,153)\"/><circle cx=\"104\" cy=\"227\" r=\"11\" fill=\"rgb(136,136,136)\"/></svg><svg viewBox='0 0 430 430' id=\"svg\" width=\"172\" height=\"172\"><circle cx=\"215\" cy=\"215\" r=\"205\" fill=\"none\" stroke=\"black\" stroke-width=\"2\" stroke-dasharray=\"3,3\"/> <circle cx=\"305\" cy=\"242\" r=\"7\" fill=\"rgb(255,154,154)\" class=\"agent_1_20\"/><circle cx=\"165\" cy=\"170\" r=\"11\" fill=\"rgb(255,206,206)\" class=\"agent_1_40\"/><circle cx=\"83\" cy=\"287\" r=\"8\" fill=\"rgb(255,182,182)\" class=\"agent_1_41\"/><circle cx=\"303\" cy=\"69\" r=\"10\" fill=\"rgb(255,145,145)\" class=\"agent_1_44\"/><circle cx=\"44\" cy=\"142\" r=\"11\" fill=\"rgb(255,200,200)\" class=\"agent_1_55\"/><circle cx=\"300\" cy=\"155\" r=\"9\" fill=\"rgb(255,129,129)\" class=\"agent_1_56\"/><circle cx=\"104\" cy=\"227\" r=\"11\" fill=\"rgb(255,170,170)\" class=\"agent_1_58\"/></svg><svg viewBox='0 0 430 430' id=\"svg\" width=\"172\" height=\"172\"><circle cx=\"215\" cy=\"215\" r=\"205\" fill=\"none\" stroke=\"black\" stroke-width=\"2\" stroke-dasharray=\"3,3\"/> <circle cx=\"305\" cy=\"242\" r=\"7\" fill=\"rgb(255,179,179)\" class=\"agent_1_20\"/><circle cx=\"165\" cy=\"170\" r=\"11\" fill=\"rgb(255,241,241)\" class=\"agent_1_40\"/><circle cx=\"83\" cy=\"287\" r=\"8\" fill=\"rgb(255,222,222)\" class=\"agent_1_41\"/><circle cx=\"303\" cy=\"69\" r=\"10\" fill=\"rgb(255,177,177)\" class=\"agent_1_44\"/><circle cx=\"44\" cy=\"142\" r=\"11\" fill=\"rgb(255,249,249)\" class=\"agent_1_55\"/><circle cx=\"300\" cy=\"155\" r=\"9\" fill=\"rgb(255,228,228)\" class=\"agent_1_56\"/><circle cx=\"104\" cy=\"227\" r=\"11\" fill=\"rgb(255,225,225)\" class=\"agent_1_58\"/></svg><svg viewBox='0 0 430 430' id=\"svg\" width=\"172\" height=\"172\"><circle cx=\"215\" cy=\"215\" r=\"205\" fill=\"none\" stroke=\"black\" stroke-width=\"2\" stroke-dasharray=\"3,3\"/> <circle cx=\"305\" cy=\"242\" r=\"7\" fill=\"rgb(255,234,234)\" class=\"agent_1_20\"/><circle cx=\"165\" cy=\"170\" r=\"11\" fill=\"rgb(255,231,231)\" class=\"agent_1_40\"/><circle cx=\"83\" cy=\"287\" r=\"8\" fill=\"rgb(255,218,218)\" class=\"agent_1_41\"/><circle cx=\"303\" cy=\"69\" r=\"10\" fill=\"rgb(255,230,230)\" class=\"agent_1_44\"/><circle cx=\"44\" cy=\"142\" r=\"11\" fill=\"rgb(255,246,246)\" class=\"agent_1_55\"/><circle cx=\"300\" cy=\"155\" r=\"9\" fill=\"rgb(255,214,214)\" class=\"agent_1_56\"/><circle cx=\"104\" cy=\"227\" r=\"11\" fill=\"rgb(255,192,192)\" class=\"agent_1_58\"/></svg></div>"
      ],
      "text/plain": [
       "<IPython.core.display.HTML object>"
      ]
     },
     "metadata": {},
     "output_type": "display_data"
    },
    {
     "name": "stdout",
     "output_type": "stream",
     "text": [
      "partner_refs_pred\n"
     ]
    },
    {
     "data": {
      "text/html": [
       "<div style=\"white-space: nowrap\"><svg viewbox='0 0 430 430' width=\"172\" height=\"172\" id=\"agent_1\"><circle cx=\"215\" cy=\"215\" r=\"205\" fill=\"none\" stroke=\"black\" stroke-width=\"2\" stroke-dasharray=\"3,3\"/><circle cx=\"305\" cy=\"242\" r=\"7\" fill=\"rgb(100,100,100)\"/><circle cx=\"165\" cy=\"170\" r=\"11\" fill=\"rgb(166,166,166)\"/><circle cx=\"83\" cy=\"287\" r=\"8\" fill=\"rgb(126,126,126)\"/><circle cx=\"303\" cy=\"69\" r=\"10\" fill=\"rgb(96,96,96)\"/><circle cx=\"44\" cy=\"142\" r=\"11\" fill=\"rgb(185,185,185)\"/><circle cx=\"300\" cy=\"155\" r=\"9\" fill=\"rgb(153,153,153)\"/><circle cx=\"104\" cy=\"227\" r=\"11\" fill=\"rgb(136,136,136)\"/></svg><svg viewBox='0 0 430 430' id=\"svg\" width=\"172\" height=\"172\"><circle cx=\"215\" cy=\"215\" r=\"205\" fill=\"none\" stroke=\"black\" stroke-width=\"2\" stroke-dasharray=\"3,3\"/> <circle cx=\"305\" cy=\"242\" r=\"7\" fill=\"rgb(255,255,255)\" class=\"agent_1_20\"/><circle cx=\"165\" cy=\"170\" r=\"11\" fill=\"rgb(255,255,255)\" class=\"agent_1_40\"/><circle cx=\"83\" cy=\"287\" r=\"8\" fill=\"rgb(255,255,255)\" class=\"agent_1_41\"/><circle cx=\"303\" cy=\"69\" r=\"10\" fill=\"rgb(255,0,0)\" class=\"agent_1_44\"/><circle cx=\"44\" cy=\"142\" r=\"11\" fill=\"rgb(255,255,255)\" class=\"agent_1_55\"/><circle cx=\"300\" cy=\"155\" r=\"9\" fill=\"rgb(255,0,0)\" class=\"agent_1_56\"/><circle cx=\"104\" cy=\"227\" r=\"11\" fill=\"rgb(255,255,255)\" class=\"agent_1_58\"/></svg><svg viewBox='0 0 430 430' id=\"svg\" width=\"172\" height=\"172\"><circle cx=\"215\" cy=\"215\" r=\"205\" fill=\"none\" stroke=\"black\" stroke-width=\"2\" stroke-dasharray=\"3,3\"/> <circle cx=\"305\" cy=\"242\" r=\"7\" fill=\"rgb(255,255,255)\" class=\"agent_1_20\"/><circle cx=\"165\" cy=\"170\" r=\"11\" fill=\"rgb(255,255,255)\" class=\"agent_1_40\"/><circle cx=\"83\" cy=\"287\" r=\"8\" fill=\"rgb(255,255,255)\" class=\"agent_1_41\"/><circle cx=\"303\" cy=\"69\" r=\"10\" fill=\"rgb(255,0,0)\" class=\"agent_1_44\"/><circle cx=\"44\" cy=\"142\" r=\"11\" fill=\"rgb(255,255,255)\" class=\"agent_1_55\"/><circle cx=\"300\" cy=\"155\" r=\"9\" fill=\"rgb(255,255,255)\" class=\"agent_1_56\"/><circle cx=\"104\" cy=\"227\" r=\"11\" fill=\"rgb(255,255,255)\" class=\"agent_1_58\"/></svg><svg viewBox='0 0 430 430' id=\"svg\" width=\"172\" height=\"172\"><circle cx=\"215\" cy=\"215\" r=\"205\" fill=\"none\" stroke=\"black\" stroke-width=\"2\" stroke-dasharray=\"3,3\"/> <circle cx=\"305\" cy=\"242\" r=\"7\" fill=\"rgb(255,255,255)\" class=\"agent_1_20\"/><circle cx=\"165\" cy=\"170\" r=\"11\" fill=\"rgb(255,255,255)\" class=\"agent_1_40\"/><circle cx=\"83\" cy=\"287\" r=\"8\" fill=\"rgb(255,255,255)\" class=\"agent_1_41\"/><circle cx=\"303\" cy=\"69\" r=\"10\" fill=\"rgb(255,255,255)\" class=\"agent_1_44\"/><circle cx=\"44\" cy=\"142\" r=\"11\" fill=\"rgb(255,255,255)\" class=\"agent_1_55\"/><circle cx=\"300\" cy=\"155\" r=\"9\" fill=\"rgb(255,0,0)\" class=\"agent_1_56\"/><circle cx=\"104\" cy=\"227\" r=\"11\" fill=\"rgb(255,255,255)\" class=\"agent_1_58\"/></svg></div>"
      ],
      "text/plain": [
       "<IPython.core.display.HTML object>"
      ]
     },
     "metadata": {},
     "output_type": "display_data"
    },
    {
     "name": "stdout",
     "output_type": "stream",
     "text": [
      "partner_refs_true\n"
     ]
    },
    {
     "data": {
      "text/html": [
       "<div style=\"white-space: nowrap\"><svg viewbox='0 0 430 430' width=\"172\" height=\"172\" id=\"agent_1\"><circle cx=\"215\" cy=\"215\" r=\"205\" fill=\"none\" stroke=\"black\" stroke-width=\"2\" stroke-dasharray=\"3,3\"/><circle cx=\"305\" cy=\"242\" r=\"7\" fill=\"rgb(100,100,100)\"/><circle cx=\"165\" cy=\"170\" r=\"11\" fill=\"rgb(166,166,166)\"/><circle cx=\"83\" cy=\"287\" r=\"8\" fill=\"rgb(126,126,126)\"/><circle cx=\"303\" cy=\"69\" r=\"10\" fill=\"rgb(96,96,96)\"/><circle cx=\"44\" cy=\"142\" r=\"11\" fill=\"rgb(185,185,185)\"/><circle cx=\"300\" cy=\"155\" r=\"9\" fill=\"rgb(153,153,153)\"/><circle cx=\"104\" cy=\"227\" r=\"11\" fill=\"rgb(136,136,136)\"/></svg><svg viewBox='0 0 430 430' id=\"svg\" width=\"172\" height=\"172\"><circle cx=\"215\" cy=\"215\" r=\"205\" fill=\"none\" stroke=\"black\" stroke-width=\"2\" stroke-dasharray=\"3,3\"/> <circle cx=\"305\" cy=\"242\" r=\"7\" fill=\"rgb(255,0,0)\" class=\"agent_1_20\"/><circle cx=\"165\" cy=\"170\" r=\"11\" fill=\"rgb(255,255,255)\" class=\"agent_1_40\"/><circle cx=\"83\" cy=\"287\" r=\"8\" fill=\"rgb(255,255,255)\" class=\"agent_1_41\"/><circle cx=\"303\" cy=\"69\" r=\"10\" fill=\"rgb(255,0,0)\" class=\"agent_1_44\"/><circle cx=\"44\" cy=\"142\" r=\"11\" fill=\"rgb(255,255,255)\" class=\"agent_1_55\"/><circle cx=\"300\" cy=\"155\" r=\"9\" fill=\"rgb(255,0,0)\" class=\"agent_1_56\"/><circle cx=\"104\" cy=\"227\" r=\"11\" fill=\"rgb(255,255,255)\" class=\"agent_1_58\"/></svg><svg viewBox='0 0 430 430' id=\"svg\" width=\"172\" height=\"172\"><circle cx=\"215\" cy=\"215\" r=\"205\" fill=\"none\" stroke=\"black\" stroke-width=\"2\" stroke-dasharray=\"3,3\"/> <circle cx=\"305\" cy=\"242\" r=\"7\" fill=\"rgb(255,255,255)\" class=\"agent_1_20\"/><circle cx=\"165\" cy=\"170\" r=\"11\" fill=\"rgb(255,255,255)\" class=\"agent_1_40\"/><circle cx=\"83\" cy=\"287\" r=\"8\" fill=\"rgb(255,255,255)\" class=\"agent_1_41\"/><circle cx=\"303\" cy=\"69\" r=\"10\" fill=\"rgb(255,0,0)\" class=\"agent_1_44\"/><circle cx=\"44\" cy=\"142\" r=\"11\" fill=\"rgb(255,255,255)\" class=\"agent_1_55\"/><circle cx=\"300\" cy=\"155\" r=\"9\" fill=\"rgb(255,255,255)\" class=\"agent_1_56\"/><circle cx=\"104\" cy=\"227\" r=\"11\" fill=\"rgb(255,255,255)\" class=\"agent_1_58\"/></svg><svg viewBox='0 0 430 430' id=\"svg\" width=\"172\" height=\"172\"><circle cx=\"215\" cy=\"215\" r=\"205\" fill=\"none\" stroke=\"black\" stroke-width=\"2\" stroke-dasharray=\"3,3\"/> <circle cx=\"305\" cy=\"242\" r=\"7\" fill=\"rgb(255,0,0)\" class=\"agent_1_20\"/><circle cx=\"165\" cy=\"170\" r=\"11\" fill=\"rgb(255,255,255)\" class=\"agent_1_40\"/><circle cx=\"83\" cy=\"287\" r=\"8\" fill=\"rgb(255,255,255)\" class=\"agent_1_41\"/><circle cx=\"303\" cy=\"69\" r=\"10\" fill=\"rgb(255,255,255)\" class=\"agent_1_44\"/><circle cx=\"44\" cy=\"142\" r=\"11\" fill=\"rgb(255,255,255)\" class=\"agent_1_55\"/><circle cx=\"300\" cy=\"155\" r=\"9\" fill=\"rgb(255,255,255)\" class=\"agent_1_56\"/><circle cx=\"104\" cy=\"227\" r=\"11\" fill=\"rgb(255,255,255)\" class=\"agent_1_58\"/></svg><svg viewBox='0 0 430 430' id=\"svg\" width=\"172\" height=\"172\"><circle cx=\"215\" cy=\"215\" r=\"205\" fill=\"none\" stroke=\"black\" stroke-width=\"2\" stroke-dasharray=\"3,3\"/> <circle cx=\"305\" cy=\"242\" r=\"7\" fill=\"rgb(255,255,255)\" class=\"agent_1_20\"/><circle cx=\"165\" cy=\"170\" r=\"11\" fill=\"rgb(255,255,255)\" class=\"agent_1_40\"/><circle cx=\"83\" cy=\"287\" r=\"8\" fill=\"rgb(255,255,255)\" class=\"agent_1_41\"/><circle cx=\"303\" cy=\"69\" r=\"10\" fill=\"rgb(255,255,255)\" class=\"agent_1_44\"/><circle cx=\"44\" cy=\"142\" r=\"11\" fill=\"rgb(255,255,255)\" class=\"agent_1_55\"/><circle cx=\"300\" cy=\"155\" r=\"9\" fill=\"rgb(255,0,0)\" class=\"agent_1_56\"/><circle cx=\"104\" cy=\"227\" r=\"11\" fill=\"rgb(255,255,255)\" class=\"agent_1_58\"/></svg></div>"
      ],
      "text/plain": [
       "<IPython.core.display.HTML object>"
      ]
     },
     "metadata": {},
     "output_type": "display_data"
    },
    {
     "name": "stdout",
     "output_type": "stream",
     "text": [
      "partner_ref_true (their view)\n"
     ]
    },
    {
     "data": {
      "text/html": [
       "<div style=\"white-space: nowrap\"><svg viewbox='0 0 430 430' width=\"172\" height=\"172\" id=\"agent_0\"><circle cx=\"215\" cy=\"215\" r=\"205\" fill=\"none\" stroke=\"black\" stroke-width=\"2\" stroke-dasharray=\"3,3\"/><circle cx=\"371\" cy=\"230\" r=\"9\" fill=\"rgb(91,91,91)\"/><circle cx=\"305\" cy=\"41\" r=\"7\" fill=\"rgb(107,107,107)\"/><circle cx=\"189\" cy=\"226\" r=\"7\" fill=\"rgb(100,100,100)\"/><circle cx=\"241\" cy=\"25\" r=\"11\" fill=\"rgb(149,149,149)\"/><circle cx=\"50\" cy=\"153\" r=\"11\" fill=\"rgb(166,166,166)\"/><circle cx=\"188\" cy=\"53\" r=\"10\" fill=\"rgb(96,96,96)\"/><circle cx=\"185\" cy=\"139\" r=\"9\" fill=\"rgb(153,153,153)\"/></svg><svg viewBox='0 0 430 430' id=\"svg\" width=\"172\" height=\"172\"><circle cx=\"215\" cy=\"215\" r=\"205\" fill=\"none\" stroke=\"black\" stroke-width=\"2\" stroke-dasharray=\"3,3\"/> <circle cx=\"371\" cy=\"230\" r=\"9\" fill=\"rgb(255,255,255)\" class=\"agent_0_6\"/><circle cx=\"305\" cy=\"41\" r=\"7\" fill=\"rgb(255,255,255)\" class=\"agent_0_17\"/><circle cx=\"189\" cy=\"226\" r=\"7\" fill=\"rgb(255,0,0)\" class=\"agent_0_20\"/><circle cx=\"241\" cy=\"25\" r=\"11\" fill=\"rgb(255,255,255)\" class=\"agent_0_25\"/><circle cx=\"50\" cy=\"153\" r=\"11\" fill=\"rgb(255,255,255)\" class=\"agent_0_40\"/><circle cx=\"188\" cy=\"53\" r=\"10\" fill=\"rgb(255,0,0)\" class=\"agent_0_44\"/><circle cx=\"185\" cy=\"139\" r=\"9\" fill=\"rgb(255,0,0)\" class=\"agent_0_56\"/></svg><svg viewBox='0 0 430 430' id=\"svg\" width=\"172\" height=\"172\"><circle cx=\"215\" cy=\"215\" r=\"205\" fill=\"none\" stroke=\"black\" stroke-width=\"2\" stroke-dasharray=\"3,3\"/> <circle cx=\"371\" cy=\"230\" r=\"9\" fill=\"rgb(255,255,255)\" class=\"agent_0_6\"/><circle cx=\"305\" cy=\"41\" r=\"7\" fill=\"rgb(255,255,255)\" class=\"agent_0_17\"/><circle cx=\"189\" cy=\"226\" r=\"7\" fill=\"rgb(255,255,255)\" class=\"agent_0_20\"/><circle cx=\"241\" cy=\"25\" r=\"11\" fill=\"rgb(255,255,255)\" class=\"agent_0_25\"/><circle cx=\"50\" cy=\"153\" r=\"11\" fill=\"rgb(255,255,255)\" class=\"agent_0_40\"/><circle cx=\"188\" cy=\"53\" r=\"10\" fill=\"rgb(255,0,0)\" class=\"agent_0_44\"/><circle cx=\"185\" cy=\"139\" r=\"9\" fill=\"rgb(255,255,255)\" class=\"agent_0_56\"/></svg><svg viewBox='0 0 430 430' id=\"svg\" width=\"172\" height=\"172\"><circle cx=\"215\" cy=\"215\" r=\"205\" fill=\"none\" stroke=\"black\" stroke-width=\"2\" stroke-dasharray=\"3,3\"/> <circle cx=\"371\" cy=\"230\" r=\"9\" fill=\"rgb(255,255,255)\" class=\"agent_0_6\"/><circle cx=\"305\" cy=\"41\" r=\"7\" fill=\"rgb(255,255,255)\" class=\"agent_0_17\"/><circle cx=\"189\" cy=\"226\" r=\"7\" fill=\"rgb(255,0,0)\" class=\"agent_0_20\"/><circle cx=\"241\" cy=\"25\" r=\"11\" fill=\"rgb(255,255,255)\" class=\"agent_0_25\"/><circle cx=\"50\" cy=\"153\" r=\"11\" fill=\"rgb(255,255,255)\" class=\"agent_0_40\"/><circle cx=\"188\" cy=\"53\" r=\"10\" fill=\"rgb(255,255,255)\" class=\"agent_0_44\"/><circle cx=\"185\" cy=\"139\" r=\"9\" fill=\"rgb(255,255,255)\" class=\"agent_0_56\"/></svg><svg viewBox='0 0 430 430' id=\"svg\" width=\"172\" height=\"172\"><circle cx=\"215\" cy=\"215\" r=\"205\" fill=\"none\" stroke=\"black\" stroke-width=\"2\" stroke-dasharray=\"3,3\"/> <circle cx=\"371\" cy=\"230\" r=\"9\" fill=\"rgb(255,255,255)\" class=\"agent_0_6\"/><circle cx=\"305\" cy=\"41\" r=\"7\" fill=\"rgb(255,255,255)\" class=\"agent_0_17\"/><circle cx=\"189\" cy=\"226\" r=\"7\" fill=\"rgb(255,255,255)\" class=\"agent_0_20\"/><circle cx=\"241\" cy=\"25\" r=\"11\" fill=\"rgb(255,255,255)\" class=\"agent_0_25\"/><circle cx=\"50\" cy=\"153\" r=\"11\" fill=\"rgb(255,255,255)\" class=\"agent_0_40\"/><circle cx=\"188\" cy=\"53\" r=\"10\" fill=\"rgb(255,255,255)\" class=\"agent_0_44\"/><circle cx=\"185\" cy=\"139\" r=\"9\" fill=\"rgb(255,0,0)\" class=\"agent_0_56\"/></svg></div>"
      ],
      "text/plain": [
       "<IPython.core.display.HTML object>"
      ]
     },
     "metadata": {},
     "output_type": "display_data"
    },
    {
     "name": "stdout",
     "output_type": "stream",
     "text": [
      "\n",
      "----------------------------------------\n",
      "\n",
      "to_mention_marginals\n"
     ]
    },
    {
     "data": {
      "text/html": [
       "<div style=\"white-space: nowrap\"><svg viewbox='0 0 430 430' width=\"172\" height=\"172\" id=\"agent_1\"><circle cx=\"215\" cy=\"215\" r=\"205\" fill=\"none\" stroke=\"black\" stroke-width=\"2\" stroke-dasharray=\"3,3\"/><circle cx=\"305\" cy=\"242\" r=\"7\" fill=\"rgb(100,100,100)\"/><circle cx=\"165\" cy=\"170\" r=\"11\" fill=\"rgb(166,166,166)\"/><circle cx=\"83\" cy=\"287\" r=\"8\" fill=\"rgb(126,126,126)\"/><circle cx=\"303\" cy=\"69\" r=\"10\" fill=\"rgb(96,96,96)\"/><circle cx=\"44\" cy=\"142\" r=\"11\" fill=\"rgb(185,185,185)\"/><circle cx=\"300\" cy=\"155\" r=\"9\" fill=\"rgb(153,153,153)\"/><circle cx=\"104\" cy=\"227\" r=\"11\" fill=\"rgb(136,136,136)\"/></svg><svg viewBox='0 0 430 430' id=\"svg\" width=\"172\" height=\"172\"><circle cx=\"215\" cy=\"215\" r=\"205\" fill=\"none\" stroke=\"black\" stroke-width=\"2\" stroke-dasharray=\"3,3\"/> <circle cx=\"305\" cy=\"242\" r=\"7\" fill=\"rgb(255,177,177)\" class=\"agent_1_20\"/><circle cx=\"165\" cy=\"170\" r=\"11\" fill=\"rgb(255,222,222)\" class=\"agent_1_40\"/><circle cx=\"83\" cy=\"287\" r=\"8\" fill=\"rgb(255,214,214)\" class=\"agent_1_41\"/><circle cx=\"303\" cy=\"69\" r=\"10\" fill=\"rgb(255,196,196)\" class=\"agent_1_44\"/><circle cx=\"44\" cy=\"142\" r=\"11\" fill=\"rgb(255,225,225)\" class=\"agent_1_55\"/><circle cx=\"300\" cy=\"155\" r=\"9\" fill=\"rgb(255,201,201)\" class=\"agent_1_56\"/><circle cx=\"104\" cy=\"227\" r=\"11\" fill=\"rgb(255,213,213)\" class=\"agent_1_58\"/></svg><svg viewBox='0 0 430 430' id=\"svg\" width=\"172\" height=\"172\"><circle cx=\"215\" cy=\"215\" r=\"205\" fill=\"none\" stroke=\"black\" stroke-width=\"2\" stroke-dasharray=\"3,3\"/> <circle cx=\"305\" cy=\"242\" r=\"7\" fill=\"rgb(255,189,189)\" class=\"agent_1_20\"/><circle cx=\"165\" cy=\"170\" r=\"11\" fill=\"rgb(255,212,212)\" class=\"agent_1_40\"/><circle cx=\"83\" cy=\"287\" r=\"8\" fill=\"rgb(255,211,211)\" class=\"agent_1_41\"/><circle cx=\"303\" cy=\"69\" r=\"10\" fill=\"rgb(255,203,203)\" class=\"agent_1_44\"/><circle cx=\"44\" cy=\"142\" r=\"11\" fill=\"rgb(255,220,220)\" class=\"agent_1_55\"/><circle cx=\"300\" cy=\"155\" r=\"9\" fill=\"rgb(255,203,203)\" class=\"agent_1_56\"/><circle cx=\"104\" cy=\"227\" r=\"11\" fill=\"rgb(255,202,202)\" class=\"agent_1_58\"/></svg><svg viewBox='0 0 430 430' id=\"svg\" width=\"172\" height=\"172\"><circle cx=\"215\" cy=\"215\" r=\"205\" fill=\"none\" stroke=\"black\" stroke-width=\"2\" stroke-dasharray=\"3,3\"/> <circle cx=\"305\" cy=\"242\" r=\"7\" fill=\"rgb(255,196,196)\" class=\"agent_1_20\"/><circle cx=\"165\" cy=\"170\" r=\"11\" fill=\"rgb(255,212,212)\" class=\"agent_1_40\"/><circle cx=\"83\" cy=\"287\" r=\"8\" fill=\"rgb(255,212,212)\" class=\"agent_1_41\"/><circle cx=\"303\" cy=\"69\" r=\"10\" fill=\"rgb(255,208,208)\" class=\"agent_1_44\"/><circle cx=\"44\" cy=\"142\" r=\"11\" fill=\"rgb(255,220,220)\" class=\"agent_1_55\"/><circle cx=\"300\" cy=\"155\" r=\"9\" fill=\"rgb(255,206,206)\" class=\"agent_1_56\"/><circle cx=\"104\" cy=\"227\" r=\"11\" fill=\"rgb(255,205,205)\" class=\"agent_1_58\"/></svg></div>"
      ],
      "text/plain": [
       "<IPython.core.display.HTML object>"
      ]
     },
     "metadata": {},
     "output_type": "display_data"
    },
    {
     "name": "stdout",
     "output_type": "stream",
     "text": [
      "to_mention_pred\n"
     ]
    },
    {
     "data": {
      "text/html": [
       "<div style=\"white-space: nowrap\"><svg viewbox='0 0 430 430' width=\"172\" height=\"172\" id=\"agent_1\"><circle cx=\"215\" cy=\"215\" r=\"205\" fill=\"none\" stroke=\"black\" stroke-width=\"2\" stroke-dasharray=\"3,3\"/><circle cx=\"305\" cy=\"242\" r=\"7\" fill=\"rgb(100,100,100)\"/><circle cx=\"165\" cy=\"170\" r=\"11\" fill=\"rgb(166,166,166)\"/><circle cx=\"83\" cy=\"287\" r=\"8\" fill=\"rgb(126,126,126)\"/><circle cx=\"303\" cy=\"69\" r=\"10\" fill=\"rgb(96,96,96)\"/><circle cx=\"44\" cy=\"142\" r=\"11\" fill=\"rgb(185,185,185)\"/><circle cx=\"300\" cy=\"155\" r=\"9\" fill=\"rgb(153,153,153)\"/><circle cx=\"104\" cy=\"227\" r=\"11\" fill=\"rgb(136,136,136)\"/></svg><svg viewBox='0 0 430 430' id=\"svg\" width=\"172\" height=\"172\"><circle cx=\"215\" cy=\"215\" r=\"205\" fill=\"none\" stroke=\"black\" stroke-width=\"2\" stroke-dasharray=\"3,3\"/> <circle cx=\"305\" cy=\"242\" r=\"7\" fill=\"rgb(255,255,255)\" class=\"agent_1_20\"/><circle cx=\"165\" cy=\"170\" r=\"11\" fill=\"rgb(255,255,255)\" class=\"agent_1_40\"/><circle cx=\"83\" cy=\"287\" r=\"8\" fill=\"rgb(255,255,255)\" class=\"agent_1_41\"/><circle cx=\"303\" cy=\"69\" r=\"10\" fill=\"rgb(255,255,255)\" class=\"agent_1_44\"/><circle cx=\"44\" cy=\"142\" r=\"11\" fill=\"rgb(255,255,255)\" class=\"agent_1_55\"/><circle cx=\"300\" cy=\"155\" r=\"9\" fill=\"rgb(255,255,255)\" class=\"agent_1_56\"/><circle cx=\"104\" cy=\"227\" r=\"11\" fill=\"rgb(255,255,255)\" class=\"agent_1_58\"/></svg><svg viewBox='0 0 430 430' id=\"svg\" width=\"172\" height=\"172\"><circle cx=\"215\" cy=\"215\" r=\"205\" fill=\"none\" stroke=\"black\" stroke-width=\"2\" stroke-dasharray=\"3,3\"/> <circle cx=\"305\" cy=\"242\" r=\"7\" fill=\"rgb(255,255,255)\" class=\"agent_1_20\"/><circle cx=\"165\" cy=\"170\" r=\"11\" fill=\"rgb(255,255,255)\" class=\"agent_1_40\"/><circle cx=\"83\" cy=\"287\" r=\"8\" fill=\"rgb(255,255,255)\" class=\"agent_1_41\"/><circle cx=\"303\" cy=\"69\" r=\"10\" fill=\"rgb(255,255,255)\" class=\"agent_1_44\"/><circle cx=\"44\" cy=\"142\" r=\"11\" fill=\"rgb(255,255,255)\" class=\"agent_1_55\"/><circle cx=\"300\" cy=\"155\" r=\"9\" fill=\"rgb(255,255,255)\" class=\"agent_1_56\"/><circle cx=\"104\" cy=\"227\" r=\"11\" fill=\"rgb(255,255,255)\" class=\"agent_1_58\"/></svg><svg viewBox='0 0 430 430' id=\"svg\" width=\"172\" height=\"172\"><circle cx=\"215\" cy=\"215\" r=\"205\" fill=\"none\" stroke=\"black\" stroke-width=\"2\" stroke-dasharray=\"3,3\"/> <circle cx=\"305\" cy=\"242\" r=\"7\" fill=\"rgb(255,255,255)\" class=\"agent_1_20\"/><circle cx=\"165\" cy=\"170\" r=\"11\" fill=\"rgb(255,255,255)\" class=\"agent_1_40\"/><circle cx=\"83\" cy=\"287\" r=\"8\" fill=\"rgb(255,255,255)\" class=\"agent_1_41\"/><circle cx=\"303\" cy=\"69\" r=\"10\" fill=\"rgb(255,255,255)\" class=\"agent_1_44\"/><circle cx=\"44\" cy=\"142\" r=\"11\" fill=\"rgb(255,255,255)\" class=\"agent_1_55\"/><circle cx=\"300\" cy=\"155\" r=\"9\" fill=\"rgb(255,255,255)\" class=\"agent_1_56\"/><circle cx=\"104\" cy=\"227\" r=\"11\" fill=\"rgb(255,255,255)\" class=\"agent_1_58\"/></svg></div>"
      ],
      "text/plain": [
       "<IPython.core.display.HTML object>"
      ]
     },
     "metadata": {},
     "output_type": "display_data"
    },
    {
     "name": "stdout",
     "output_type": "stream",
     "text": [
      "to_mention_true\n"
     ]
    },
    {
     "data": {
      "text/html": [
       "<div style=\"white-space: nowrap\"><svg viewbox='0 0 430 430' width=\"172\" height=\"172\" id=\"agent_1\"><circle cx=\"215\" cy=\"215\" r=\"205\" fill=\"none\" stroke=\"black\" stroke-width=\"2\" stroke-dasharray=\"3,3\"/><circle cx=\"305\" cy=\"242\" r=\"7\" fill=\"rgb(100,100,100)\"/><circle cx=\"165\" cy=\"170\" r=\"11\" fill=\"rgb(166,166,166)\"/><circle cx=\"83\" cy=\"287\" r=\"8\" fill=\"rgb(126,126,126)\"/><circle cx=\"303\" cy=\"69\" r=\"10\" fill=\"rgb(96,96,96)\"/><circle cx=\"44\" cy=\"142\" r=\"11\" fill=\"rgb(185,185,185)\"/><circle cx=\"300\" cy=\"155\" r=\"9\" fill=\"rgb(153,153,153)\"/><circle cx=\"104\" cy=\"227\" r=\"11\" fill=\"rgb(136,136,136)\"/></svg><svg viewBox='0 0 430 430' id=\"svg\" width=\"172\" height=\"172\"><circle cx=\"215\" cy=\"215\" r=\"205\" fill=\"none\" stroke=\"black\" stroke-width=\"2\" stroke-dasharray=\"3,3\"/> <circle cx=\"305\" cy=\"242\" r=\"7\" fill=\"rgb(255,0,0)\" class=\"agent_1_20\"/><circle cx=\"165\" cy=\"170\" r=\"11\" fill=\"rgb(255,255,255)\" class=\"agent_1_40\"/><circle cx=\"83\" cy=\"287\" r=\"8\" fill=\"rgb(255,255,255)\" class=\"agent_1_41\"/><circle cx=\"303\" cy=\"69\" r=\"10\" fill=\"rgb(255,0,0)\" class=\"agent_1_44\"/><circle cx=\"44\" cy=\"142\" r=\"11\" fill=\"rgb(255,255,255)\" class=\"agent_1_55\"/><circle cx=\"300\" cy=\"155\" r=\"9\" fill=\"rgb(255,0,0)\" class=\"agent_1_56\"/><circle cx=\"104\" cy=\"227\" r=\"11\" fill=\"rgb(255,255,255)\" class=\"agent_1_58\"/></svg><svg viewBox='0 0 430 430' id=\"svg\" width=\"172\" height=\"172\"><circle cx=\"215\" cy=\"215\" r=\"205\" fill=\"none\" stroke=\"black\" stroke-width=\"2\" stroke-dasharray=\"3,3\"/> <circle cx=\"305\" cy=\"242\" r=\"7\" fill=\"rgb(255,255,255)\" class=\"agent_1_20\"/><circle cx=\"165\" cy=\"170\" r=\"11\" fill=\"rgb(255,255,255)\" class=\"agent_1_40\"/><circle cx=\"83\" cy=\"287\" r=\"8\" fill=\"rgb(255,255,255)\" class=\"agent_1_41\"/><circle cx=\"303\" cy=\"69\" r=\"10\" fill=\"rgb(255,255,255)\" class=\"agent_1_44\"/><circle cx=\"44\" cy=\"142\" r=\"11\" fill=\"rgb(255,255,255)\" class=\"agent_1_55\"/><circle cx=\"300\" cy=\"155\" r=\"9\" fill=\"rgb(255,0,0)\" class=\"agent_1_56\"/><circle cx=\"104\" cy=\"227\" r=\"11\" fill=\"rgb(255,255,255)\" class=\"agent_1_58\"/></svg></div>"
      ],
      "text/plain": [
       "<IPython.core.display.HTML object>"
      ]
     },
     "metadata": {},
     "output_type": "display_data"
    },
    {
     "name": "stdout",
     "output_type": "stream",
     "text": [
      "predicted is_selection probability\n",
      "tensor([0.0484], grad_fn=<SigmoidBackward>)\n",
      "is_selection: tensor([True])\n",
      "beam 0\ti have a cluster of 3 dots . the one on the left is the darkest <eos>\n",
      "greedy\ti have a cluster of 3 dots . the one on the left is the darkest <eos>\n",
      "human\tyeah . i have that too . choose the middle one ! <selection>\n",
      "detected markables:\n",
      "{'start': 17, 'end': 21, 'is_self': True, 'text': 'that'}\n",
      "{'start': 35, 'end': 49, 'is_self': True, 'text': 'the middle one'}\n",
      "ref_marginal_probs\n"
     ]
    },
    {
     "data": {
      "text/html": [
       "<div style=\"white-space: nowrap\"><svg viewbox='0 0 430 430' width=\"172\" height=\"172\" id=\"agent_1\"><circle cx=\"215\" cy=\"215\" r=\"205\" fill=\"none\" stroke=\"black\" stroke-width=\"2\" stroke-dasharray=\"3,3\"/><circle cx=\"305\" cy=\"242\" r=\"7\" fill=\"rgb(100,100,100)\"/><circle cx=\"165\" cy=\"170\" r=\"11\" fill=\"rgb(166,166,166)\"/><circle cx=\"83\" cy=\"287\" r=\"8\" fill=\"rgb(126,126,126)\"/><circle cx=\"303\" cy=\"69\" r=\"10\" fill=\"rgb(96,96,96)\"/><circle cx=\"44\" cy=\"142\" r=\"11\" fill=\"rgb(185,185,185)\"/><circle cx=\"300\" cy=\"155\" r=\"9\" fill=\"rgb(153,153,153)\"/><circle cx=\"104\" cy=\"227\" r=\"11\" fill=\"rgb(136,136,136)\"/></svg><svg viewBox='0 0 430 430' id=\"svg\" width=\"172\" height=\"172\"><circle cx=\"215\" cy=\"215\" r=\"205\" fill=\"none\" stroke=\"black\" stroke-width=\"2\" stroke-dasharray=\"3,3\"/> <circle cx=\"305\" cy=\"242\" r=\"7\" fill=\"rgb(255,161,161)\" class=\"agent_1_20\"/><circle cx=\"165\" cy=\"170\" r=\"11\" fill=\"rgb(255,186,186)\" class=\"agent_1_40\"/><circle cx=\"83\" cy=\"287\" r=\"8\" fill=\"rgb(255,202,202)\" class=\"agent_1_41\"/><circle cx=\"303\" cy=\"69\" r=\"10\" fill=\"rgb(255,153,153)\" class=\"agent_1_44\"/><circle cx=\"44\" cy=\"142\" r=\"11\" fill=\"rgb(255,222,222)\" class=\"agent_1_55\"/><circle cx=\"300\" cy=\"155\" r=\"9\" fill=\"rgb(255,117,117)\" class=\"agent_1_56\"/><circle cx=\"104\" cy=\"227\" r=\"11\" fill=\"rgb(255,171,171)\" class=\"agent_1_58\"/></svg><svg viewBox='0 0 430 430' id=\"svg\" width=\"172\" height=\"172\"><circle cx=\"215\" cy=\"215\" r=\"205\" fill=\"none\" stroke=\"black\" stroke-width=\"2\" stroke-dasharray=\"3,3\"/> <circle cx=\"305\" cy=\"242\" r=\"7\" fill=\"rgb(255,214,214)\" class=\"agent_1_20\"/><circle cx=\"165\" cy=\"170\" r=\"11\" fill=\"rgb(255,234,234)\" class=\"agent_1_40\"/><circle cx=\"83\" cy=\"287\" r=\"8\" fill=\"rgb(255,242,242)\" class=\"agent_1_41\"/><circle cx=\"303\" cy=\"69\" r=\"10\" fill=\"rgb(255,217,217)\" class=\"agent_1_44\"/><circle cx=\"44\" cy=\"142\" r=\"11\" fill=\"rgb(255,250,250)\" class=\"agent_1_55\"/><circle cx=\"300\" cy=\"155\" r=\"9\" fill=\"rgb(255,199,199)\" class=\"agent_1_56\"/><circle cx=\"104\" cy=\"227\" r=\"11\" fill=\"rgb(255,172,172)\" class=\"agent_1_58\"/></svg></div>"
      ],
      "text/plain": [
       "<IPython.core.display.HTML object>"
      ]
     },
     "metadata": {},
     "output_type": "display_data"
    },
    {
     "name": "stdout",
     "output_type": "stream",
     "text": [
      "refs_pred\n"
     ]
    },
    {
     "data": {
      "text/html": [
       "<div style=\"white-space: nowrap\"><svg viewbox='0 0 430 430' width=\"172\" height=\"172\" id=\"agent_1\"><circle cx=\"215\" cy=\"215\" r=\"205\" fill=\"none\" stroke=\"black\" stroke-width=\"2\" stroke-dasharray=\"3,3\"/><circle cx=\"305\" cy=\"242\" r=\"7\" fill=\"rgb(100,100,100)\"/><circle cx=\"165\" cy=\"170\" r=\"11\" fill=\"rgb(166,166,166)\"/><circle cx=\"83\" cy=\"287\" r=\"8\" fill=\"rgb(126,126,126)\"/><circle cx=\"303\" cy=\"69\" r=\"10\" fill=\"rgb(96,96,96)\"/><circle cx=\"44\" cy=\"142\" r=\"11\" fill=\"rgb(185,185,185)\"/><circle cx=\"300\" cy=\"155\" r=\"9\" fill=\"rgb(153,153,153)\"/><circle cx=\"104\" cy=\"227\" r=\"11\" fill=\"rgb(136,136,136)\"/></svg><svg viewBox='0 0 430 430' id=\"svg\" width=\"172\" height=\"172\"><circle cx=\"215\" cy=\"215\" r=\"205\" fill=\"none\" stroke=\"black\" stroke-width=\"2\" stroke-dasharray=\"3,3\"/> <circle cx=\"305\" cy=\"242\" r=\"7\" fill=\"rgb(255,0,0)\" class=\"agent_1_20\"/><circle cx=\"165\" cy=\"170\" r=\"11\" fill=\"rgb(255,255,255)\" class=\"agent_1_40\"/><circle cx=\"83\" cy=\"287\" r=\"8\" fill=\"rgb(255,255,255)\" class=\"agent_1_41\"/><circle cx=\"303\" cy=\"69\" r=\"10\" fill=\"rgb(255,0,0)\" class=\"agent_1_44\"/><circle cx=\"44\" cy=\"142\" r=\"11\" fill=\"rgb(255,255,255)\" class=\"agent_1_55\"/><circle cx=\"300\" cy=\"155\" r=\"9\" fill=\"rgb(255,0,0)\" class=\"agent_1_56\"/><circle cx=\"104\" cy=\"227\" r=\"11\" fill=\"rgb(255,255,255)\" class=\"agent_1_58\"/></svg><svg viewBox='0 0 430 430' id=\"svg\" width=\"172\" height=\"172\"><circle cx=\"215\" cy=\"215\" r=\"205\" fill=\"none\" stroke=\"black\" stroke-width=\"2\" stroke-dasharray=\"3,3\"/> <circle cx=\"305\" cy=\"242\" r=\"7\" fill=\"rgb(255,255,255)\" class=\"agent_1_20\"/><circle cx=\"165\" cy=\"170\" r=\"11\" fill=\"rgb(255,255,255)\" class=\"agent_1_40\"/><circle cx=\"83\" cy=\"287\" r=\"8\" fill=\"rgb(255,255,255)\" class=\"agent_1_41\"/><circle cx=\"303\" cy=\"69\" r=\"10\" fill=\"rgb(255,255,255)\" class=\"agent_1_44\"/><circle cx=\"44\" cy=\"142\" r=\"11\" fill=\"rgb(255,255,255)\" class=\"agent_1_55\"/><circle cx=\"300\" cy=\"155\" r=\"9\" fill=\"rgb(255,0,0)\" class=\"agent_1_56\"/><circle cx=\"104\" cy=\"227\" r=\"11\" fill=\"rgb(255,255,255)\" class=\"agent_1_58\"/></svg></div>"
      ],
      "text/plain": [
       "<IPython.core.display.HTML object>"
      ]
     },
     "metadata": {},
     "output_type": "display_data"
    },
    {
     "name": "stdout",
     "output_type": "stream",
     "text": [
      "refs_true\n"
     ]
    },
    {
     "data": {
      "text/html": [
       "<div style=\"white-space: nowrap\"><svg viewbox='0 0 430 430' width=\"172\" height=\"172\" id=\"agent_1\"><circle cx=\"215\" cy=\"215\" r=\"205\" fill=\"none\" stroke=\"black\" stroke-width=\"2\" stroke-dasharray=\"3,3\"/><circle cx=\"305\" cy=\"242\" r=\"7\" fill=\"rgb(100,100,100)\"/><circle cx=\"165\" cy=\"170\" r=\"11\" fill=\"rgb(166,166,166)\"/><circle cx=\"83\" cy=\"287\" r=\"8\" fill=\"rgb(126,126,126)\"/><circle cx=\"303\" cy=\"69\" r=\"10\" fill=\"rgb(96,96,96)\"/><circle cx=\"44\" cy=\"142\" r=\"11\" fill=\"rgb(185,185,185)\"/><circle cx=\"300\" cy=\"155\" r=\"9\" fill=\"rgb(153,153,153)\"/><circle cx=\"104\" cy=\"227\" r=\"11\" fill=\"rgb(136,136,136)\"/></svg><svg viewBox='0 0 430 430' id=\"svg\" width=\"172\" height=\"172\"><circle cx=\"215\" cy=\"215\" r=\"205\" fill=\"none\" stroke=\"black\" stroke-width=\"2\" stroke-dasharray=\"3,3\"/> <circle cx=\"305\" cy=\"242\" r=\"7\" fill=\"rgb(255,0,0)\" class=\"agent_1_20\"/><circle cx=\"165\" cy=\"170\" r=\"11\" fill=\"rgb(255,255,255)\" class=\"agent_1_40\"/><circle cx=\"83\" cy=\"287\" r=\"8\" fill=\"rgb(255,255,255)\" class=\"agent_1_41\"/><circle cx=\"303\" cy=\"69\" r=\"10\" fill=\"rgb(255,0,0)\" class=\"agent_1_44\"/><circle cx=\"44\" cy=\"142\" r=\"11\" fill=\"rgb(255,255,255)\" class=\"agent_1_55\"/><circle cx=\"300\" cy=\"155\" r=\"9\" fill=\"rgb(255,0,0)\" class=\"agent_1_56\"/><circle cx=\"104\" cy=\"227\" r=\"11\" fill=\"rgb(255,255,255)\" class=\"agent_1_58\"/></svg><svg viewBox='0 0 430 430' id=\"svg\" width=\"172\" height=\"172\"><circle cx=\"215\" cy=\"215\" r=\"205\" fill=\"none\" stroke=\"black\" stroke-width=\"2\" stroke-dasharray=\"3,3\"/> <circle cx=\"305\" cy=\"242\" r=\"7\" fill=\"rgb(255,255,255)\" class=\"agent_1_20\"/><circle cx=\"165\" cy=\"170\" r=\"11\" fill=\"rgb(255,255,255)\" class=\"agent_1_40\"/><circle cx=\"83\" cy=\"287\" r=\"8\" fill=\"rgb(255,255,255)\" class=\"agent_1_41\"/><circle cx=\"303\" cy=\"69\" r=\"10\" fill=\"rgb(255,255,255)\" class=\"agent_1_44\"/><circle cx=\"44\" cy=\"142\" r=\"11\" fill=\"rgb(255,255,255)\" class=\"agent_1_55\"/><circle cx=\"300\" cy=\"155\" r=\"9\" fill=\"rgb(255,0,0)\" class=\"agent_1_56\"/><circle cx=\"104\" cy=\"227\" r=\"11\" fill=\"rgb(255,255,255)\" class=\"agent_1_58\"/></svg></div>"
      ],
      "text/plain": [
       "<IPython.core.display.HTML object>"
      ]
     },
     "metadata": {},
     "output_type": "display_data"
    },
    {
     "name": "stdout",
     "output_type": "stream",
     "text": [
      "\n",
      "----------------------------------------\n",
      "\n",
      "sel_pred\n"
     ]
    },
    {
     "data": {
      "text/html": [
       "<div style=\"white-space: nowrap\"><svg viewbox='0 0 430 430' width=\"172\" height=\"172\" id=\"agent_1\"><circle cx=\"215\" cy=\"215\" r=\"205\" fill=\"none\" stroke=\"black\" stroke-width=\"2\" stroke-dasharray=\"3,3\"/><circle cx=\"305\" cy=\"242\" r=\"7\" fill=\"rgb(100,100,100)\"/><circle cx=\"165\" cy=\"170\" r=\"11\" fill=\"rgb(166,166,166)\"/><circle cx=\"83\" cy=\"287\" r=\"8\" fill=\"rgb(126,126,126)\"/><circle cx=\"303\" cy=\"69\" r=\"10\" fill=\"rgb(96,96,96)\"/><circle cx=\"44\" cy=\"142\" r=\"11\" fill=\"rgb(185,185,185)\"/><circle cx=\"300\" cy=\"155\" r=\"9\" fill=\"rgb(153,153,153)\"/><circle cx=\"104\" cy=\"227\" r=\"11\" fill=\"rgb(136,136,136)\"/></svg><svg viewBox='0 0 430 430' id=\"svg\" width=\"172\" height=\"172\"><circle cx=\"215\" cy=\"215\" r=\"205\" fill=\"none\" stroke=\"black\" stroke-width=\"2\" stroke-dasharray=\"3,3\"/> <circle cx=\"305\" cy=\"242\" r=\"7\" fill=\"rgb(255,222,222)\" class=\"agent_1_20\"/><circle cx=\"165\" cy=\"170\" r=\"11\" fill=\"rgb(255,215,215)\" class=\"agent_1_40\"/><circle cx=\"83\" cy=\"287\" r=\"8\" fill=\"rgb(255,229,229)\" class=\"agent_1_41\"/><circle cx=\"303\" cy=\"69\" r=\"10\" fill=\"rgb(255,196,196)\" class=\"agent_1_44\"/><circle cx=\"44\" cy=\"142\" r=\"11\" fill=\"rgb(255,248,248)\" class=\"agent_1_55\"/><circle cx=\"300\" cy=\"155\" r=\"9\" fill=\"rgb(255,156,156)\" class=\"agent_1_56\"/><circle cx=\"104\" cy=\"227\" r=\"11\" fill=\"rgb(255,137,137)\" class=\"agent_1_58\"/></svg></div>"
      ],
      "text/plain": [
       "<IPython.core.display.HTML object>"
      ]
     },
     "metadata": {},
     "output_type": "display_data"
    },
    {
     "name": "stdout",
     "output_type": "stream",
     "text": [
      "sel_true\n"
     ]
    },
    {
     "data": {
      "text/html": [
       "<div style=\"white-space: nowrap\"><svg viewbox='0 0 430 430' width=\"172\" height=\"172\" id=\"agent_1\"><circle cx=\"215\" cy=\"215\" r=\"205\" fill=\"none\" stroke=\"black\" stroke-width=\"2\" stroke-dasharray=\"3,3\"/><circle cx=\"305\" cy=\"242\" r=\"7\" fill=\"rgb(100,100,100)\"/><circle cx=\"165\" cy=\"170\" r=\"11\" fill=\"rgb(166,166,166)\"/><circle cx=\"83\" cy=\"287\" r=\"8\" fill=\"rgb(126,126,126)\"/><circle cx=\"303\" cy=\"69\" r=\"10\" fill=\"rgb(96,96,96)\"/><circle cx=\"44\" cy=\"142\" r=\"11\" fill=\"rgb(185,185,185)\"/><circle cx=\"300\" cy=\"155\" r=\"9\" fill=\"rgb(153,153,153)\"/><circle cx=\"104\" cy=\"227\" r=\"11\" fill=\"rgb(136,136,136)\"/></svg><svg viewBox='0 0 430 430' id=\"svg\" width=\"172\" height=\"172\"><circle cx=\"215\" cy=\"215\" r=\"205\" fill=\"none\" stroke=\"black\" stroke-width=\"2\" stroke-dasharray=\"3,3\"/> <circle cx=\"305\" cy=\"242\" r=\"7\" fill=\"rgb(255,255,255)\" class=\"agent_1_20\"/><circle cx=\"165\" cy=\"170\" r=\"11\" fill=\"rgb(255,255,255)\" class=\"agent_1_40\"/><circle cx=\"83\" cy=\"287\" r=\"8\" fill=\"rgb(255,255,255)\" class=\"agent_1_41\"/><circle cx=\"303\" cy=\"69\" r=\"10\" fill=\"rgb(255,255,255)\" class=\"agent_1_44\"/><circle cx=\"44\" cy=\"142\" r=\"11\" fill=\"rgb(255,255,255)\" class=\"agent_1_55\"/><circle cx=\"300\" cy=\"155\" r=\"9\" fill=\"rgb(255,0,0)\" class=\"agent_1_56\"/><circle cx=\"104\" cy=\"227\" r=\"11\" fill=\"rgb(255,255,255)\" class=\"agent_1_58\"/></svg></div>"
      ],
      "text/plain": [
       "<IPython.core.display.HTML object>"
      ]
     },
     "metadata": {},
     "output_type": "display_data"
    }
   ],
   "source": [
    "force_contexts_and_mentions(13, min_num_mentions=1, mention_marginals=True,\n",
    "                            ref_marginals=True, for_partner=True)"
   ]
  },
  {
   "cell_type": "code",
   "execution_count": 70,
   "metadata": {
    "scrolled": true
   },
   "outputs": [
    {
     "name": "stdout",
     "output_type": "stream",
     "text": [
      "scenario_id: S_pzxf1Jvm2dMsyamY\n",
      "predicted is_selection probability\n",
      "tensor([0.0101], grad_fn=<SigmoidBackward>)\n",
      "is_selection: tensor([False])\n",
      "human\tTHEM: i have four in a clustered line . the one on the far right is highest , small and very dark . the two in the middle are largest <eos>\n",
      "detected markables:\n",
      "{'start': 10, 'end': 14, 'is_self': True, 'text': 'four'}\n",
      "{'start': 37, 'end': 44, 'is_self': True, 'text': 'the one'}\n",
      "{'start': 97, 'end': 104, 'is_self': True, 'text': 'the two'}\n",
      "partner_ref_marginal_probs\n"
     ]
    },
    {
     "data": {
      "text/html": [
       "<div style=\"white-space: nowrap\"><svg viewbox='0 0 430 430' width=\"172\" height=\"172\" id=\"agent_1\"><circle cx=\"215\" cy=\"215\" r=\"205\" fill=\"none\" stroke=\"black\" stroke-width=\"2\" stroke-dasharray=\"3,3\"/><circle cx=\"352\" cy=\"329\" r=\"8\" fill=\"rgb(97,97,97)\"/><circle cx=\"32\" cy=\"135\" r=\"10\" fill=\"rgb(190,190,190)\"/><circle cx=\"308\" cy=\"344\" r=\"10\" fill=\"rgb(155,155,155)\"/><circle cx=\"234\" cy=\"321\" r=\"8\" fill=\"rgb(188,188,188)\"/><circle cx=\"269\" cy=\"336\" r=\"12\" fill=\"rgb(145,145,145)\"/><circle cx=\"265\" cy=\"259\" r=\"11\" fill=\"rgb(54,54,54)\"/><circle cx=\"244\" cy=\"18\" r=\"8\" fill=\"rgb(187,187,187)\"/></svg><svg viewBox='0 0 430 430' id=\"svg\" width=\"172\" height=\"172\"><circle cx=\"215\" cy=\"215\" r=\"205\" fill=\"none\" stroke=\"black\" stroke-width=\"2\" stroke-dasharray=\"3,3\"/> <circle cx=\"352\" cy=\"329\" r=\"8\" fill=\"rgb(255,0,0)\" class=\"agent_1_8\"/><circle cx=\"32\" cy=\"135\" r=\"10\" fill=\"rgb(255,254,254)\" class=\"agent_1_29\"/><circle cx=\"308\" cy=\"344\" r=\"10\" fill=\"rgb(255,0,0)\" class=\"agent_1_30\"/><circle cx=\"234\" cy=\"321\" r=\"8\" fill=\"rgb(255,0,0)\" class=\"agent_1_41\"/><circle cx=\"269\" cy=\"336\" r=\"12\" fill=\"rgb(255,0,0)\" class=\"agent_1_56\"/><circle cx=\"265\" cy=\"259\" r=\"11\" fill=\"rgb(255,0,0)\" class=\"agent_1_63\"/><circle cx=\"244\" cy=\"18\" r=\"8\" fill=\"rgb(255,254,254)\" class=\"agent_1_69\"/></svg><svg viewBox='0 0 430 430' id=\"svg\" width=\"172\" height=\"172\"><circle cx=\"215\" cy=\"215\" r=\"205\" fill=\"none\" stroke=\"black\" stroke-width=\"2\" stroke-dasharray=\"3,3\"/> <circle cx=\"352\" cy=\"329\" r=\"8\" fill=\"rgb(255,122,122)\" class=\"agent_1_8\"/><circle cx=\"32\" cy=\"135\" r=\"10\" fill=\"rgb(255,253,253)\" class=\"agent_1_29\"/><circle cx=\"308\" cy=\"344\" r=\"10\" fill=\"rgb(255,253,253)\" class=\"agent_1_30\"/><circle cx=\"234\" cy=\"321\" r=\"8\" fill=\"rgb(255,245,245)\" class=\"agent_1_41\"/><circle cx=\"269\" cy=\"336\" r=\"12\" fill=\"rgb(255,254,254)\" class=\"agent_1_56\"/><circle cx=\"265\" cy=\"259\" r=\"11\" fill=\"rgb(255,197,197)\" class=\"agent_1_63\"/><circle cx=\"244\" cy=\"18\" r=\"8\" fill=\"rgb(255,241,241)\" class=\"agent_1_69\"/></svg><svg viewBox='0 0 430 430' id=\"svg\" width=\"172\" height=\"172\"><circle cx=\"215\" cy=\"215\" r=\"205\" fill=\"none\" stroke=\"black\" stroke-width=\"2\" stroke-dasharray=\"3,3\"/> <circle cx=\"352\" cy=\"329\" r=\"8\" fill=\"rgb(255,246,246)\" class=\"agent_1_8\"/><circle cx=\"32\" cy=\"135\" r=\"10\" fill=\"rgb(255,254,254)\" class=\"agent_1_29\"/><circle cx=\"308\" cy=\"344\" r=\"10\" fill=\"rgb(255,250,250)\" class=\"agent_1_30\"/><circle cx=\"234\" cy=\"321\" r=\"8\" fill=\"rgb(255,254,254)\" class=\"agent_1_41\"/><circle cx=\"269\" cy=\"336\" r=\"12\" fill=\"rgb(255,196,196)\" class=\"agent_1_56\"/><circle cx=\"265\" cy=\"259\" r=\"11\" fill=\"rgb(255,15,15)\" class=\"agent_1_63\"/><circle cx=\"244\" cy=\"18\" r=\"8\" fill=\"rgb(255,254,254)\" class=\"agent_1_69\"/></svg></div>"
      ],
      "text/plain": [
       "<IPython.core.display.HTML object>"
      ]
     },
     "metadata": {},
     "output_type": "display_data"
    },
    {
     "name": "stdout",
     "output_type": "stream",
     "text": [
      "partner_refs_pred\n"
     ]
    },
    {
     "data": {
      "text/html": [
       "<div style=\"white-space: nowrap\"><svg viewbox='0 0 430 430' width=\"172\" height=\"172\" id=\"agent_1\"><circle cx=\"215\" cy=\"215\" r=\"205\" fill=\"none\" stroke=\"black\" stroke-width=\"2\" stroke-dasharray=\"3,3\"/><circle cx=\"352\" cy=\"329\" r=\"8\" fill=\"rgb(97,97,97)\"/><circle cx=\"32\" cy=\"135\" r=\"10\" fill=\"rgb(190,190,190)\"/><circle cx=\"308\" cy=\"344\" r=\"10\" fill=\"rgb(155,155,155)\"/><circle cx=\"234\" cy=\"321\" r=\"8\" fill=\"rgb(188,188,188)\"/><circle cx=\"269\" cy=\"336\" r=\"12\" fill=\"rgb(145,145,145)\"/><circle cx=\"265\" cy=\"259\" r=\"11\" fill=\"rgb(54,54,54)\"/><circle cx=\"244\" cy=\"18\" r=\"8\" fill=\"rgb(187,187,187)\"/></svg><svg viewBox='0 0 430 430' id=\"svg\" width=\"172\" height=\"172\"><circle cx=\"215\" cy=\"215\" r=\"205\" fill=\"none\" stroke=\"black\" stroke-width=\"2\" stroke-dasharray=\"3,3\"/> <circle cx=\"352\" cy=\"329\" r=\"8\" fill=\"rgb(255,0,0)\" class=\"agent_1_8\"/><circle cx=\"32\" cy=\"135\" r=\"10\" fill=\"rgb(255,255,255)\" class=\"agent_1_29\"/><circle cx=\"308\" cy=\"344\" r=\"10\" fill=\"rgb(255,0,0)\" class=\"agent_1_30\"/><circle cx=\"234\" cy=\"321\" r=\"8\" fill=\"rgb(255,0,0)\" class=\"agent_1_41\"/><circle cx=\"269\" cy=\"336\" r=\"12\" fill=\"rgb(255,0,0)\" class=\"agent_1_56\"/><circle cx=\"265\" cy=\"259\" r=\"11\" fill=\"rgb(255,0,0)\" class=\"agent_1_63\"/><circle cx=\"244\" cy=\"18\" r=\"8\" fill=\"rgb(255,255,255)\" class=\"agent_1_69\"/></svg><svg viewBox='0 0 430 430' id=\"svg\" width=\"172\" height=\"172\"><circle cx=\"215\" cy=\"215\" r=\"205\" fill=\"none\" stroke=\"black\" stroke-width=\"2\" stroke-dasharray=\"3,3\"/> <circle cx=\"352\" cy=\"329\" r=\"8\" fill=\"rgb(255,0,0)\" class=\"agent_1_8\"/><circle cx=\"32\" cy=\"135\" r=\"10\" fill=\"rgb(255,255,255)\" class=\"agent_1_29\"/><circle cx=\"308\" cy=\"344\" r=\"10\" fill=\"rgb(255,255,255)\" class=\"agent_1_30\"/><circle cx=\"234\" cy=\"321\" r=\"8\" fill=\"rgb(255,0,0)\" class=\"agent_1_41\"/><circle cx=\"269\" cy=\"336\" r=\"12\" fill=\"rgb(255,255,255)\" class=\"agent_1_56\"/><circle cx=\"265\" cy=\"259\" r=\"11\" fill=\"rgb(255,255,255)\" class=\"agent_1_63\"/><circle cx=\"244\" cy=\"18\" r=\"8\" fill=\"rgb(255,255,255)\" class=\"agent_1_69\"/></svg><svg viewBox='0 0 430 430' id=\"svg\" width=\"172\" height=\"172\"><circle cx=\"215\" cy=\"215\" r=\"205\" fill=\"none\" stroke=\"black\" stroke-width=\"2\" stroke-dasharray=\"3,3\"/> <circle cx=\"352\" cy=\"329\" r=\"8\" fill=\"rgb(255,255,255)\" class=\"agent_1_8\"/><circle cx=\"32\" cy=\"135\" r=\"10\" fill=\"rgb(255,255,255)\" class=\"agent_1_29\"/><circle cx=\"308\" cy=\"344\" r=\"10\" fill=\"rgb(255,0,0)\" class=\"agent_1_30\"/><circle cx=\"234\" cy=\"321\" r=\"8\" fill=\"rgb(255,255,255)\" class=\"agent_1_41\"/><circle cx=\"269\" cy=\"336\" r=\"12\" fill=\"rgb(255,0,0)\" class=\"agent_1_56\"/><circle cx=\"265\" cy=\"259\" r=\"11\" fill=\"rgb(255,0,0)\" class=\"agent_1_63\"/><circle cx=\"244\" cy=\"18\" r=\"8\" fill=\"rgb(255,255,255)\" class=\"agent_1_69\"/></svg></div>"
      ],
      "text/plain": [
       "<IPython.core.display.HTML object>"
      ]
     },
     "metadata": {},
     "output_type": "display_data"
    },
    {
     "name": "stdout",
     "output_type": "stream",
     "text": [
      "partner_refs_true\n"
     ]
    },
    {
     "data": {
      "text/html": [
       "<div style=\"white-space: nowrap\"><svg viewbox='0 0 430 430' width=\"172\" height=\"172\" id=\"agent_1\"><circle cx=\"215\" cy=\"215\" r=\"205\" fill=\"none\" stroke=\"black\" stroke-width=\"2\" stroke-dasharray=\"3,3\"/><circle cx=\"352\" cy=\"329\" r=\"8\" fill=\"rgb(97,97,97)\"/><circle cx=\"32\" cy=\"135\" r=\"10\" fill=\"rgb(190,190,190)\"/><circle cx=\"308\" cy=\"344\" r=\"10\" fill=\"rgb(155,155,155)\"/><circle cx=\"234\" cy=\"321\" r=\"8\" fill=\"rgb(188,188,188)\"/><circle cx=\"269\" cy=\"336\" r=\"12\" fill=\"rgb(145,145,145)\"/><circle cx=\"265\" cy=\"259\" r=\"11\" fill=\"rgb(54,54,54)\"/><circle cx=\"244\" cy=\"18\" r=\"8\" fill=\"rgb(187,187,187)\"/></svg><svg viewBox='0 0 430 430' id=\"svg\" width=\"172\" height=\"172\"><circle cx=\"215\" cy=\"215\" r=\"205\" fill=\"none\" stroke=\"black\" stroke-width=\"2\" stroke-dasharray=\"3,3\"/> <circle cx=\"352\" cy=\"329\" r=\"8\" fill=\"rgb(255,0,0)\" class=\"agent_1_8\"/><circle cx=\"32\" cy=\"135\" r=\"10\" fill=\"rgb(255,255,255)\" class=\"agent_1_29\"/><circle cx=\"308\" cy=\"344\" r=\"10\" fill=\"rgb(255,0,0)\" class=\"agent_1_30\"/><circle cx=\"234\" cy=\"321\" r=\"8\" fill=\"rgb(255,0,0)\" class=\"agent_1_41\"/><circle cx=\"269\" cy=\"336\" r=\"12\" fill=\"rgb(255,0,0)\" class=\"agent_1_56\"/><circle cx=\"265\" cy=\"259\" r=\"11\" fill=\"rgb(255,255,255)\" class=\"agent_1_63\"/><circle cx=\"244\" cy=\"18\" r=\"8\" fill=\"rgb(255,255,255)\" class=\"agent_1_69\"/></svg><svg viewBox='0 0 430 430' id=\"svg\" width=\"172\" height=\"172\"><circle cx=\"215\" cy=\"215\" r=\"205\" fill=\"none\" stroke=\"black\" stroke-width=\"2\" stroke-dasharray=\"3,3\"/> <circle cx=\"352\" cy=\"329\" r=\"8\" fill=\"rgb(255,0,0)\" class=\"agent_1_8\"/><circle cx=\"32\" cy=\"135\" r=\"10\" fill=\"rgb(255,255,255)\" class=\"agent_1_29\"/><circle cx=\"308\" cy=\"344\" r=\"10\" fill=\"rgb(255,255,255)\" class=\"agent_1_30\"/><circle cx=\"234\" cy=\"321\" r=\"8\" fill=\"rgb(255,255,255)\" class=\"agent_1_41\"/><circle cx=\"269\" cy=\"336\" r=\"12\" fill=\"rgb(255,255,255)\" class=\"agent_1_56\"/><circle cx=\"265\" cy=\"259\" r=\"11\" fill=\"rgb(255,255,255)\" class=\"agent_1_63\"/><circle cx=\"244\" cy=\"18\" r=\"8\" fill=\"rgb(255,255,255)\" class=\"agent_1_69\"/></svg><svg viewBox='0 0 430 430' id=\"svg\" width=\"172\" height=\"172\"><circle cx=\"215\" cy=\"215\" r=\"205\" fill=\"none\" stroke=\"black\" stroke-width=\"2\" stroke-dasharray=\"3,3\"/> <circle cx=\"352\" cy=\"329\" r=\"8\" fill=\"rgb(255,255,255)\" class=\"agent_1_8\"/><circle cx=\"32\" cy=\"135\" r=\"10\" fill=\"rgb(255,255,255)\" class=\"agent_1_29\"/><circle cx=\"308\" cy=\"344\" r=\"10\" fill=\"rgb(255,0,0)\" class=\"agent_1_30\"/><circle cx=\"234\" cy=\"321\" r=\"8\" fill=\"rgb(255,255,255)\" class=\"agent_1_41\"/><circle cx=\"269\" cy=\"336\" r=\"12\" fill=\"rgb(255,0,0)\" class=\"agent_1_56\"/><circle cx=\"265\" cy=\"259\" r=\"11\" fill=\"rgb(255,255,255)\" class=\"agent_1_63\"/><circle cx=\"244\" cy=\"18\" r=\"8\" fill=\"rgb(255,255,255)\" class=\"agent_1_69\"/></svg></div>"
      ],
      "text/plain": [
       "<IPython.core.display.HTML object>"
      ]
     },
     "metadata": {},
     "output_type": "display_data"
    },
    {
     "name": "stdout",
     "output_type": "stream",
     "text": [
      "partner_ref_true (their view)\n"
     ]
    },
    {
     "data": {
      "text/html": [
       "<div style=\"white-space: nowrap\"><svg viewbox='0 0 430 430' width=\"172\" height=\"172\" id=\"agent_0\"><circle cx=\"215\" cy=\"215\" r=\"205\" fill=\"none\" stroke=\"black\" stroke-width=\"2\" stroke-dasharray=\"3,3\"/><circle cx=\"228\" cy=\"184\" r=\"8\" fill=\"rgb(97,97,97)\"/><circle cx=\"184\" cy=\"198\" r=\"10\" fill=\"rgb(155,155,155)\"/><circle cx=\"110\" cy=\"176\" r=\"8\" fill=\"rgb(188,188,188)\"/><circle cx=\"250\" cy=\"249\" r=\"8\" fill=\"rgb(192,192,192)\"/><circle cx=\"145\" cy=\"190\" r=\"12\" fill=\"rgb(145,145,145)\"/><circle cx=\"294\" cy=\"103\" r=\"11\" fill=\"rgb(99,99,99)\"/><circle cx=\"141\" cy=\"113\" r=\"11\" fill=\"rgb(54,54,54)\"/></svg><svg viewBox='0 0 430 430' id=\"svg\" width=\"172\" height=\"172\"><circle cx=\"215\" cy=\"215\" r=\"205\" fill=\"none\" stroke=\"black\" stroke-width=\"2\" stroke-dasharray=\"3,3\"/> <circle cx=\"228\" cy=\"184\" r=\"8\" fill=\"rgb(255,0,0)\" class=\"agent_0_8\"/><circle cx=\"184\" cy=\"198\" r=\"10\" fill=\"rgb(255,0,0)\" class=\"agent_0_30\"/><circle cx=\"110\" cy=\"176\" r=\"8\" fill=\"rgb(255,0,0)\" class=\"agent_0_41\"/><circle cx=\"250\" cy=\"249\" r=\"8\" fill=\"rgb(255,255,255)\" class=\"agent_0_49\"/><circle cx=\"145\" cy=\"190\" r=\"12\" fill=\"rgb(255,0,0)\" class=\"agent_0_56\"/><circle cx=\"294\" cy=\"103\" r=\"11\" fill=\"rgb(255,255,255)\" class=\"agent_0_58\"/><circle cx=\"141\" cy=\"113\" r=\"11\" fill=\"rgb(255,255,255)\" class=\"agent_0_63\"/></svg><svg viewBox='0 0 430 430' id=\"svg\" width=\"172\" height=\"172\"><circle cx=\"215\" cy=\"215\" r=\"205\" fill=\"none\" stroke=\"black\" stroke-width=\"2\" stroke-dasharray=\"3,3\"/> <circle cx=\"228\" cy=\"184\" r=\"8\" fill=\"rgb(255,0,0)\" class=\"agent_0_8\"/><circle cx=\"184\" cy=\"198\" r=\"10\" fill=\"rgb(255,255,255)\" class=\"agent_0_30\"/><circle cx=\"110\" cy=\"176\" r=\"8\" fill=\"rgb(255,255,255)\" class=\"agent_0_41\"/><circle cx=\"250\" cy=\"249\" r=\"8\" fill=\"rgb(255,255,255)\" class=\"agent_0_49\"/><circle cx=\"145\" cy=\"190\" r=\"12\" fill=\"rgb(255,255,255)\" class=\"agent_0_56\"/><circle cx=\"294\" cy=\"103\" r=\"11\" fill=\"rgb(255,255,255)\" class=\"agent_0_58\"/><circle cx=\"141\" cy=\"113\" r=\"11\" fill=\"rgb(255,255,255)\" class=\"agent_0_63\"/></svg><svg viewBox='0 0 430 430' id=\"svg\" width=\"172\" height=\"172\"><circle cx=\"215\" cy=\"215\" r=\"205\" fill=\"none\" stroke=\"black\" stroke-width=\"2\" stroke-dasharray=\"3,3\"/> <circle cx=\"228\" cy=\"184\" r=\"8\" fill=\"rgb(255,255,255)\" class=\"agent_0_8\"/><circle cx=\"184\" cy=\"198\" r=\"10\" fill=\"rgb(255,0,0)\" class=\"agent_0_30\"/><circle cx=\"110\" cy=\"176\" r=\"8\" fill=\"rgb(255,255,255)\" class=\"agent_0_41\"/><circle cx=\"250\" cy=\"249\" r=\"8\" fill=\"rgb(255,255,255)\" class=\"agent_0_49\"/><circle cx=\"145\" cy=\"190\" r=\"12\" fill=\"rgb(255,0,0)\" class=\"agent_0_56\"/><circle cx=\"294\" cy=\"103\" r=\"11\" fill=\"rgb(255,255,255)\" class=\"agent_0_58\"/><circle cx=\"141\" cy=\"113\" r=\"11\" fill=\"rgb(255,255,255)\" class=\"agent_0_63\"/></svg></div>"
      ],
      "text/plain": [
       "<IPython.core.display.HTML object>"
      ]
     },
     "metadata": {},
     "output_type": "display_data"
    },
    {
     "name": "stdout",
     "output_type": "stream",
     "text": [
      "\n",
      "----------------------------------------\n",
      "\n",
      "to_mention_marginals\n"
     ]
    },
    {
     "data": {
      "text/html": [
       "<div style=\"white-space: nowrap\"><svg viewbox='0 0 430 430' width=\"172\" height=\"172\" id=\"agent_1\"><circle cx=\"215\" cy=\"215\" r=\"205\" fill=\"none\" stroke=\"black\" stroke-width=\"2\" stroke-dasharray=\"3,3\"/><circle cx=\"352\" cy=\"329\" r=\"8\" fill=\"rgb(97,97,97)\"/><circle cx=\"32\" cy=\"135\" r=\"10\" fill=\"rgb(190,190,190)\"/><circle cx=\"308\" cy=\"344\" r=\"10\" fill=\"rgb(155,155,155)\"/><circle cx=\"234\" cy=\"321\" r=\"8\" fill=\"rgb(188,188,188)\"/><circle cx=\"269\" cy=\"336\" r=\"12\" fill=\"rgb(145,145,145)\"/><circle cx=\"265\" cy=\"259\" r=\"11\" fill=\"rgb(54,54,54)\"/><circle cx=\"244\" cy=\"18\" r=\"8\" fill=\"rgb(187,187,187)\"/></svg><svg viewBox='0 0 430 430' id=\"svg\" width=\"172\" height=\"172\"><circle cx=\"215\" cy=\"215\" r=\"205\" fill=\"none\" stroke=\"black\" stroke-width=\"2\" stroke-dasharray=\"3,3\"/> <circle cx=\"352\" cy=\"329\" r=\"8\" fill=\"rgb(255,124,124)\" class=\"agent_1_8\"/><circle cx=\"32\" cy=\"135\" r=\"10\" fill=\"rgb(255,246,246)\" class=\"agent_1_29\"/><circle cx=\"308\" cy=\"344\" r=\"10\" fill=\"rgb(255,105,105)\" class=\"agent_1_30\"/><circle cx=\"234\" cy=\"321\" r=\"8\" fill=\"rgb(255,122,122)\" class=\"agent_1_41\"/><circle cx=\"269\" cy=\"336\" r=\"12\" fill=\"rgb(255,96,96)\" class=\"agent_1_56\"/><circle cx=\"265\" cy=\"259\" r=\"11\" fill=\"rgb(255,92,92)\" class=\"agent_1_63\"/><circle cx=\"244\" cy=\"18\" r=\"8\" fill=\"rgb(255,245,245)\" class=\"agent_1_69\"/></svg><svg viewBox='0 0 430 430' id=\"svg\" width=\"172\" height=\"172\"><circle cx=\"215\" cy=\"215\" r=\"205\" fill=\"none\" stroke=\"black\" stroke-width=\"2\" stroke-dasharray=\"3,3\"/> <circle cx=\"352\" cy=\"329\" r=\"8\" fill=\"rgb(255,191,191)\" class=\"agent_1_8\"/><circle cx=\"32\" cy=\"135\" r=\"10\" fill=\"rgb(255,238,238)\" class=\"agent_1_29\"/><circle cx=\"308\" cy=\"344\" r=\"10\" fill=\"rgb(255,200,200)\" class=\"agent_1_30\"/><circle cx=\"234\" cy=\"321\" r=\"8\" fill=\"rgb(255,199,199)\" class=\"agent_1_41\"/><circle cx=\"269\" cy=\"336\" r=\"12\" fill=\"rgb(255,188,188)\" class=\"agent_1_56\"/><circle cx=\"265\" cy=\"259\" r=\"11\" fill=\"rgb(255,158,158)\" class=\"agent_1_63\"/><circle cx=\"244\" cy=\"18\" r=\"8\" fill=\"rgb(255,235,235)\" class=\"agent_1_69\"/></svg><svg viewBox='0 0 430 430' id=\"svg\" width=\"172\" height=\"172\"><circle cx=\"215\" cy=\"215\" r=\"205\" fill=\"none\" stroke=\"black\" stroke-width=\"2\" stroke-dasharray=\"3,3\"/> <circle cx=\"352\" cy=\"329\" r=\"8\" fill=\"rgb(255,194,194)\" class=\"agent_1_8\"/><circle cx=\"32\" cy=\"135\" r=\"10\" fill=\"rgb(255,236,236)\" class=\"agent_1_29\"/><circle cx=\"308\" cy=\"344\" r=\"10\" fill=\"rgb(255,204,204)\" class=\"agent_1_30\"/><circle cx=\"234\" cy=\"321\" r=\"8\" fill=\"rgb(255,202,202)\" class=\"agent_1_41\"/><circle cx=\"269\" cy=\"336\" r=\"12\" fill=\"rgb(255,192,192)\" class=\"agent_1_56\"/><circle cx=\"265\" cy=\"259\" r=\"11\" fill=\"rgb(255,162,162)\" class=\"agent_1_63\"/><circle cx=\"244\" cy=\"18\" r=\"8\" fill=\"rgb(255,234,234)\" class=\"agent_1_69\"/></svg></div>"
      ],
      "text/plain": [
       "<IPython.core.display.HTML object>"
      ]
     },
     "metadata": {},
     "output_type": "display_data"
    },
    {
     "name": "stdout",
     "output_type": "stream",
     "text": [
      "to_mention_pred\n"
     ]
    },
    {
     "data": {
      "text/html": [
       "<div style=\"white-space: nowrap\"><svg viewbox='0 0 430 430' width=\"172\" height=\"172\" id=\"agent_1\"><circle cx=\"215\" cy=\"215\" r=\"205\" fill=\"none\" stroke=\"black\" stroke-width=\"2\" stroke-dasharray=\"3,3\"/><circle cx=\"352\" cy=\"329\" r=\"8\" fill=\"rgb(97,97,97)\"/><circle cx=\"32\" cy=\"135\" r=\"10\" fill=\"rgb(190,190,190)\"/><circle cx=\"308\" cy=\"344\" r=\"10\" fill=\"rgb(155,155,155)\"/><circle cx=\"234\" cy=\"321\" r=\"8\" fill=\"rgb(188,188,188)\"/><circle cx=\"269\" cy=\"336\" r=\"12\" fill=\"rgb(145,145,145)\"/><circle cx=\"265\" cy=\"259\" r=\"11\" fill=\"rgb(54,54,54)\"/><circle cx=\"244\" cy=\"18\" r=\"8\" fill=\"rgb(187,187,187)\"/></svg><svg viewBox='0 0 430 430' id=\"svg\" width=\"172\" height=\"172\"><circle cx=\"215\" cy=\"215\" r=\"205\" fill=\"none\" stroke=\"black\" stroke-width=\"2\" stroke-dasharray=\"3,3\"/> <circle cx=\"352\" cy=\"329\" r=\"8\" fill=\"rgb(255,0,0)\" class=\"agent_1_8\"/><circle cx=\"32\" cy=\"135\" r=\"10\" fill=\"rgb(255,255,255)\" class=\"agent_1_29\"/><circle cx=\"308\" cy=\"344\" r=\"10\" fill=\"rgb(255,0,0)\" class=\"agent_1_30\"/><circle cx=\"234\" cy=\"321\" r=\"8\" fill=\"rgb(255,0,0)\" class=\"agent_1_41\"/><circle cx=\"269\" cy=\"336\" r=\"12\" fill=\"rgb(255,0,0)\" class=\"agent_1_56\"/><circle cx=\"265\" cy=\"259\" r=\"11\" fill=\"rgb(255,0,0)\" class=\"agent_1_63\"/><circle cx=\"244\" cy=\"18\" r=\"8\" fill=\"rgb(255,255,255)\" class=\"agent_1_69\"/></svg><svg viewBox='0 0 430 430' id=\"svg\" width=\"172\" height=\"172\"><circle cx=\"215\" cy=\"215\" r=\"205\" fill=\"none\" stroke=\"black\" stroke-width=\"2\" stroke-dasharray=\"3,3\"/> <circle cx=\"352\" cy=\"329\" r=\"8\" fill=\"rgb(255,0,0)\" class=\"agent_1_8\"/><circle cx=\"32\" cy=\"135\" r=\"10\" fill=\"rgb(255,255,255)\" class=\"agent_1_29\"/><circle cx=\"308\" cy=\"344\" r=\"10\" fill=\"rgb(255,0,0)\" class=\"agent_1_30\"/><circle cx=\"234\" cy=\"321\" r=\"8\" fill=\"rgb(255,0,0)\" class=\"agent_1_41\"/><circle cx=\"269\" cy=\"336\" r=\"12\" fill=\"rgb(255,0,0)\" class=\"agent_1_56\"/><circle cx=\"265\" cy=\"259\" r=\"11\" fill=\"rgb(255,0,0)\" class=\"agent_1_63\"/><circle cx=\"244\" cy=\"18\" r=\"8\" fill=\"rgb(255,255,255)\" class=\"agent_1_69\"/></svg><svg viewBox='0 0 430 430' id=\"svg\" width=\"172\" height=\"172\"><circle cx=\"215\" cy=\"215\" r=\"205\" fill=\"none\" stroke=\"black\" stroke-width=\"2\" stroke-dasharray=\"3,3\"/> <circle cx=\"352\" cy=\"329\" r=\"8\" fill=\"rgb(255,255,255)\" class=\"agent_1_8\"/><circle cx=\"32\" cy=\"135\" r=\"10\" fill=\"rgb(255,255,255)\" class=\"agent_1_29\"/><circle cx=\"308\" cy=\"344\" r=\"10\" fill=\"rgb(255,0,0)\" class=\"agent_1_30\"/><circle cx=\"234\" cy=\"321\" r=\"8\" fill=\"rgb(255,0,0)\" class=\"agent_1_41\"/><circle cx=\"269\" cy=\"336\" r=\"12\" fill=\"rgb(255,0,0)\" class=\"agent_1_56\"/><circle cx=\"265\" cy=\"259\" r=\"11\" fill=\"rgb(255,255,255)\" class=\"agent_1_63\"/><circle cx=\"244\" cy=\"18\" r=\"8\" fill=\"rgb(255,255,255)\" class=\"agent_1_69\"/></svg></div>"
      ],
      "text/plain": [
       "<IPython.core.display.HTML object>"
      ]
     },
     "metadata": {},
     "output_type": "display_data"
    },
    {
     "name": "stdout",
     "output_type": "stream",
     "text": [
      "to_mention_true\n"
     ]
    },
    {
     "data": {
      "text/html": [
       "<div style=\"white-space: nowrap\"><svg viewbox='0 0 430 430' width=\"172\" height=\"172\" id=\"agent_1\"><circle cx=\"215\" cy=\"215\" r=\"205\" fill=\"none\" stroke=\"black\" stroke-width=\"2\" stroke-dasharray=\"3,3\"/><circle cx=\"352\" cy=\"329\" r=\"8\" fill=\"rgb(97,97,97)\"/><circle cx=\"32\" cy=\"135\" r=\"10\" fill=\"rgb(190,190,190)\"/><circle cx=\"308\" cy=\"344\" r=\"10\" fill=\"rgb(155,155,155)\"/><circle cx=\"234\" cy=\"321\" r=\"8\" fill=\"rgb(188,188,188)\"/><circle cx=\"269\" cy=\"336\" r=\"12\" fill=\"rgb(145,145,145)\"/><circle cx=\"265\" cy=\"259\" r=\"11\" fill=\"rgb(54,54,54)\"/><circle cx=\"244\" cy=\"18\" r=\"8\" fill=\"rgb(187,187,187)\"/></svg><svg viewBox='0 0 430 430' id=\"svg\" width=\"172\" height=\"172\"><circle cx=\"215\" cy=\"215\" r=\"205\" fill=\"none\" stroke=\"black\" stroke-width=\"2\" stroke-dasharray=\"3,3\"/> <circle cx=\"352\" cy=\"329\" r=\"8\" fill=\"rgb(255,255,255)\" class=\"agent_1_8\"/><circle cx=\"32\" cy=\"135\" r=\"10\" fill=\"rgb(255,255,255)\" class=\"agent_1_29\"/><circle cx=\"308\" cy=\"344\" r=\"10\" fill=\"rgb(255,255,255)\" class=\"agent_1_30\"/><circle cx=\"234\" cy=\"321\" r=\"8\" fill=\"rgb(255,0,0)\" class=\"agent_1_41\"/><circle cx=\"269\" cy=\"336\" r=\"12\" fill=\"rgb(255,255,255)\" class=\"agent_1_56\"/><circle cx=\"265\" cy=\"259\" r=\"11\" fill=\"rgb(255,255,255)\" class=\"agent_1_63\"/><circle cx=\"244\" cy=\"18\" r=\"8\" fill=\"rgb(255,255,255)\" class=\"agent_1_69\"/></svg><svg viewBox='0 0 430 430' id=\"svg\" width=\"172\" height=\"172\"><circle cx=\"215\" cy=\"215\" r=\"205\" fill=\"none\" stroke=\"black\" stroke-width=\"2\" stroke-dasharray=\"3,3\"/> <circle cx=\"352\" cy=\"329\" r=\"8\" fill=\"rgb(255,0,0)\" class=\"agent_1_8\"/><circle cx=\"32\" cy=\"135\" r=\"10\" fill=\"rgb(255,255,255)\" class=\"agent_1_29\"/><circle cx=\"308\" cy=\"344\" r=\"10\" fill=\"rgb(255,0,0)\" class=\"agent_1_30\"/><circle cx=\"234\" cy=\"321\" r=\"8\" fill=\"rgb(255,255,255)\" class=\"agent_1_41\"/><circle cx=\"269\" cy=\"336\" r=\"12\" fill=\"rgb(255,0,0)\" class=\"agent_1_56\"/><circle cx=\"265\" cy=\"259\" r=\"11\" fill=\"rgb(255,255,255)\" class=\"agent_1_63\"/><circle cx=\"244\" cy=\"18\" r=\"8\" fill=\"rgb(255,255,255)\" class=\"agent_1_69\"/></svg><svg viewBox='0 0 430 430' id=\"svg\" width=\"172\" height=\"172\"><circle cx=\"215\" cy=\"215\" r=\"205\" fill=\"none\" stroke=\"black\" stroke-width=\"2\" stroke-dasharray=\"3,3\"/> <circle cx=\"352\" cy=\"329\" r=\"8\" fill=\"rgb(255,255,255)\" class=\"agent_1_8\"/><circle cx=\"32\" cy=\"135\" r=\"10\" fill=\"rgb(255,255,255)\" class=\"agent_1_29\"/><circle cx=\"308\" cy=\"344\" r=\"10\" fill=\"rgb(255,255,255)\" class=\"agent_1_30\"/><circle cx=\"234\" cy=\"321\" r=\"8\" fill=\"rgb(255,0,0)\" class=\"agent_1_41\"/><circle cx=\"269\" cy=\"336\" r=\"12\" fill=\"rgb(255,255,255)\" class=\"agent_1_56\"/><circle cx=\"265\" cy=\"259\" r=\"11\" fill=\"rgb(255,255,255)\" class=\"agent_1_63\"/><circle cx=\"244\" cy=\"18\" r=\"8\" fill=\"rgb(255,255,255)\" class=\"agent_1_69\"/></svg></div>"
      ],
      "text/plain": [
       "<IPython.core.display.HTML object>"
      ]
     },
     "metadata": {},
     "output_type": "display_data"
    },
    {
     "name": "stdout",
     "output_type": "stream",
     "text": [
      "predicted is_selection probability\n",
      "tensor([0.0484], grad_fn=<SigmoidBackward>)\n",
      "is_selection: tensor([True])\n",
      "beam 0\ti have a small light gray dot with a smaller dark gray dot to the left of it <eos>\n",
      "greedy\ti have a small light gray dot in the middle of the rest . the rest are light grey . <eos>\n",
      "human\tyes is the one all the way left slightly above the rest ? if so click that lightest highest one <selection>\n",
      "detected markables:\n",
      "{'start': 10, 'end': 17, 'is_self': True, 'text': 'the one'}\n",
      "{'start': 50, 'end': 58, 'is_self': True, 'text': 'the rest'}\n",
      "{'start': 73, 'end': 98, 'is_self': True, 'text': 'that lightest highest one'}\n",
      "ref_marginal_probs\n"
     ]
    },
    {
     "data": {
      "text/html": [
       "<div style=\"white-space: nowrap\"><svg viewbox='0 0 430 430' width=\"172\" height=\"172\" id=\"agent_1\"><circle cx=\"215\" cy=\"215\" r=\"205\" fill=\"none\" stroke=\"black\" stroke-width=\"2\" stroke-dasharray=\"3,3\"/><circle cx=\"352\" cy=\"329\" r=\"8\" fill=\"rgb(97,97,97)\"/><circle cx=\"32\" cy=\"135\" r=\"10\" fill=\"rgb(190,190,190)\"/><circle cx=\"308\" cy=\"344\" r=\"10\" fill=\"rgb(155,155,155)\"/><circle cx=\"234\" cy=\"321\" r=\"8\" fill=\"rgb(188,188,188)\"/><circle cx=\"269\" cy=\"336\" r=\"12\" fill=\"rgb(145,145,145)\"/><circle cx=\"265\" cy=\"259\" r=\"11\" fill=\"rgb(54,54,54)\"/><circle cx=\"244\" cy=\"18\" r=\"8\" fill=\"rgb(187,187,187)\"/></svg><svg viewBox='0 0 430 430' id=\"svg\" width=\"172\" height=\"172\"><circle cx=\"215\" cy=\"215\" r=\"205\" fill=\"none\" stroke=\"black\" stroke-width=\"2\" stroke-dasharray=\"3,3\"/> <circle cx=\"352\" cy=\"329\" r=\"8\" fill=\"rgb(255,191,191)\" class=\"agent_1_8\"/><circle cx=\"32\" cy=\"135\" r=\"10\" fill=\"rgb(255,244,244)\" class=\"agent_1_29\"/><circle cx=\"308\" cy=\"344\" r=\"10\" fill=\"rgb(255,241,241)\" class=\"agent_1_30\"/><circle cx=\"234\" cy=\"321\" r=\"8\" fill=\"rgb(255,242,242)\" class=\"agent_1_41\"/><circle cx=\"269\" cy=\"336\" r=\"12\" fill=\"rgb(255,227,227)\" class=\"agent_1_56\"/><circle cx=\"265\" cy=\"259\" r=\"11\" fill=\"rgb(255,123,123)\" class=\"agent_1_63\"/><circle cx=\"244\" cy=\"18\" r=\"8\" fill=\"rgb(255,247,247)\" class=\"agent_1_69\"/></svg><svg viewBox='0 0 430 430' id=\"svg\" width=\"172\" height=\"172\"><circle cx=\"215\" cy=\"215\" r=\"205\" fill=\"none\" stroke=\"black\" stroke-width=\"2\" stroke-dasharray=\"3,3\"/> <circle cx=\"352\" cy=\"329\" r=\"8\" fill=\"rgb(255,25,25)\" class=\"agent_1_8\"/><circle cx=\"32\" cy=\"135\" r=\"10\" fill=\"rgb(255,175,175)\" class=\"agent_1_29\"/><circle cx=\"308\" cy=\"344\" r=\"10\" fill=\"rgb(255,8,8)\" class=\"agent_1_30\"/><circle cx=\"234\" cy=\"321\" r=\"8\" fill=\"rgb(255,13,13)\" class=\"agent_1_41\"/><circle cx=\"269\" cy=\"336\" r=\"12\" fill=\"rgb(255,8,8)\" class=\"agent_1_56\"/><circle cx=\"265\" cy=\"259\" r=\"11\" fill=\"rgb(255,50,50)\" class=\"agent_1_63\"/><circle cx=\"244\" cy=\"18\" r=\"8\" fill=\"rgb(255,169,169)\" class=\"agent_1_69\"/></svg><svg viewBox='0 0 430 430' id=\"svg\" width=\"172\" height=\"172\"><circle cx=\"215\" cy=\"215\" r=\"205\" fill=\"none\" stroke=\"black\" stroke-width=\"2\" stroke-dasharray=\"3,3\"/> <circle cx=\"352\" cy=\"329\" r=\"8\" fill=\"rgb(255,251,251)\" class=\"agent_1_8\"/><circle cx=\"32\" cy=\"135\" r=\"10\" fill=\"rgb(255,246,246)\" class=\"agent_1_29\"/><circle cx=\"308\" cy=\"344\" r=\"10\" fill=\"rgb(255,204,204)\" class=\"agent_1_30\"/><circle cx=\"234\" cy=\"321\" r=\"8\" fill=\"rgb(255,118,118)\" class=\"agent_1_41\"/><circle cx=\"269\" cy=\"336\" r=\"12\" fill=\"rgb(255,208,208)\" class=\"agent_1_56\"/><circle cx=\"265\" cy=\"259\" r=\"11\" fill=\"rgb(255,253,253)\" class=\"agent_1_63\"/><circle cx=\"244\" cy=\"18\" r=\"8\" fill=\"rgb(255,247,247)\" class=\"agent_1_69\"/></svg></div>"
      ],
      "text/plain": [
       "<IPython.core.display.HTML object>"
      ]
     },
     "metadata": {},
     "output_type": "display_data"
    },
    {
     "name": "stdout",
     "output_type": "stream",
     "text": [
      "refs_pred\n"
     ]
    },
    {
     "data": {
      "text/html": [
       "<div style=\"white-space: nowrap\"><svg viewbox='0 0 430 430' width=\"172\" height=\"172\" id=\"agent_1\"><circle cx=\"215\" cy=\"215\" r=\"205\" fill=\"none\" stroke=\"black\" stroke-width=\"2\" stroke-dasharray=\"3,3\"/><circle cx=\"352\" cy=\"329\" r=\"8\" fill=\"rgb(97,97,97)\"/><circle cx=\"32\" cy=\"135\" r=\"10\" fill=\"rgb(190,190,190)\"/><circle cx=\"308\" cy=\"344\" r=\"10\" fill=\"rgb(155,155,155)\"/><circle cx=\"234\" cy=\"321\" r=\"8\" fill=\"rgb(188,188,188)\"/><circle cx=\"269\" cy=\"336\" r=\"12\" fill=\"rgb(145,145,145)\"/><circle cx=\"265\" cy=\"259\" r=\"11\" fill=\"rgb(54,54,54)\"/><circle cx=\"244\" cy=\"18\" r=\"8\" fill=\"rgb(187,187,187)\"/></svg><svg viewBox='0 0 430 430' id=\"svg\" width=\"172\" height=\"172\"><circle cx=\"215\" cy=\"215\" r=\"205\" fill=\"none\" stroke=\"black\" stroke-width=\"2\" stroke-dasharray=\"3,3\"/> <circle cx=\"352\" cy=\"329\" r=\"8\" fill=\"rgb(255,255,255)\" class=\"agent_1_8\"/><circle cx=\"32\" cy=\"135\" r=\"10\" fill=\"rgb(255,255,255)\" class=\"agent_1_29\"/><circle cx=\"308\" cy=\"344\" r=\"10\" fill=\"rgb(255,255,255)\" class=\"agent_1_30\"/><circle cx=\"234\" cy=\"321\" r=\"8\" fill=\"rgb(255,255,255)\" class=\"agent_1_41\"/><circle cx=\"269\" cy=\"336\" r=\"12\" fill=\"rgb(255,255,255)\" class=\"agent_1_56\"/><circle cx=\"265\" cy=\"259\" r=\"11\" fill=\"rgb(255,0,0)\" class=\"agent_1_63\"/><circle cx=\"244\" cy=\"18\" r=\"8\" fill=\"rgb(255,255,255)\" class=\"agent_1_69\"/></svg><svg viewBox='0 0 430 430' id=\"svg\" width=\"172\" height=\"172\"><circle cx=\"215\" cy=\"215\" r=\"205\" fill=\"none\" stroke=\"black\" stroke-width=\"2\" stroke-dasharray=\"3,3\"/> <circle cx=\"352\" cy=\"329\" r=\"8\" fill=\"rgb(255,0,0)\" class=\"agent_1_8\"/><circle cx=\"32\" cy=\"135\" r=\"10\" fill=\"rgb(255,255,255)\" class=\"agent_1_29\"/><circle cx=\"308\" cy=\"344\" r=\"10\" fill=\"rgb(255,0,0)\" class=\"agent_1_30\"/><circle cx=\"234\" cy=\"321\" r=\"8\" fill=\"rgb(255,0,0)\" class=\"agent_1_41\"/><circle cx=\"269\" cy=\"336\" r=\"12\" fill=\"rgb(255,0,0)\" class=\"agent_1_56\"/><circle cx=\"265\" cy=\"259\" r=\"11\" fill=\"rgb(255,0,0)\" class=\"agent_1_63\"/><circle cx=\"244\" cy=\"18\" r=\"8\" fill=\"rgb(255,255,255)\" class=\"agent_1_69\"/></svg><svg viewBox='0 0 430 430' id=\"svg\" width=\"172\" height=\"172\"><circle cx=\"215\" cy=\"215\" r=\"205\" fill=\"none\" stroke=\"black\" stroke-width=\"2\" stroke-dasharray=\"3,3\"/> <circle cx=\"352\" cy=\"329\" r=\"8\" fill=\"rgb(255,255,255)\" class=\"agent_1_8\"/><circle cx=\"32\" cy=\"135\" r=\"10\" fill=\"rgb(255,255,255)\" class=\"agent_1_29\"/><circle cx=\"308\" cy=\"344\" r=\"10\" fill=\"rgb(255,255,255)\" class=\"agent_1_30\"/><circle cx=\"234\" cy=\"321\" r=\"8\" fill=\"rgb(255,0,0)\" class=\"agent_1_41\"/><circle cx=\"269\" cy=\"336\" r=\"12\" fill=\"rgb(255,255,255)\" class=\"agent_1_56\"/><circle cx=\"265\" cy=\"259\" r=\"11\" fill=\"rgb(255,255,255)\" class=\"agent_1_63\"/><circle cx=\"244\" cy=\"18\" r=\"8\" fill=\"rgb(255,255,255)\" class=\"agent_1_69\"/></svg></div>"
      ],
      "text/plain": [
       "<IPython.core.display.HTML object>"
      ]
     },
     "metadata": {},
     "output_type": "display_data"
    },
    {
     "name": "stdout",
     "output_type": "stream",
     "text": [
      "refs_true\n"
     ]
    },
    {
     "data": {
      "text/html": [
       "<div style=\"white-space: nowrap\"><svg viewbox='0 0 430 430' width=\"172\" height=\"172\" id=\"agent_1\"><circle cx=\"215\" cy=\"215\" r=\"205\" fill=\"none\" stroke=\"black\" stroke-width=\"2\" stroke-dasharray=\"3,3\"/><circle cx=\"352\" cy=\"329\" r=\"8\" fill=\"rgb(97,97,97)\"/><circle cx=\"32\" cy=\"135\" r=\"10\" fill=\"rgb(190,190,190)\"/><circle cx=\"308\" cy=\"344\" r=\"10\" fill=\"rgb(155,155,155)\"/><circle cx=\"234\" cy=\"321\" r=\"8\" fill=\"rgb(188,188,188)\"/><circle cx=\"269\" cy=\"336\" r=\"12\" fill=\"rgb(145,145,145)\"/><circle cx=\"265\" cy=\"259\" r=\"11\" fill=\"rgb(54,54,54)\"/><circle cx=\"244\" cy=\"18\" r=\"8\" fill=\"rgb(187,187,187)\"/></svg><svg viewBox='0 0 430 430' id=\"svg\" width=\"172\" height=\"172\"><circle cx=\"215\" cy=\"215\" r=\"205\" fill=\"none\" stroke=\"black\" stroke-width=\"2\" stroke-dasharray=\"3,3\"/> <circle cx=\"352\" cy=\"329\" r=\"8\" fill=\"rgb(255,255,255)\" class=\"agent_1_8\"/><circle cx=\"32\" cy=\"135\" r=\"10\" fill=\"rgb(255,255,255)\" class=\"agent_1_29\"/><circle cx=\"308\" cy=\"344\" r=\"10\" fill=\"rgb(255,255,255)\" class=\"agent_1_30\"/><circle cx=\"234\" cy=\"321\" r=\"8\" fill=\"rgb(255,0,0)\" class=\"agent_1_41\"/><circle cx=\"269\" cy=\"336\" r=\"12\" fill=\"rgb(255,255,255)\" class=\"agent_1_56\"/><circle cx=\"265\" cy=\"259\" r=\"11\" fill=\"rgb(255,255,255)\" class=\"agent_1_63\"/><circle cx=\"244\" cy=\"18\" r=\"8\" fill=\"rgb(255,255,255)\" class=\"agent_1_69\"/></svg><svg viewBox='0 0 430 430' id=\"svg\" width=\"172\" height=\"172\"><circle cx=\"215\" cy=\"215\" r=\"205\" fill=\"none\" stroke=\"black\" stroke-width=\"2\" stroke-dasharray=\"3,3\"/> <circle cx=\"352\" cy=\"329\" r=\"8\" fill=\"rgb(255,0,0)\" class=\"agent_1_8\"/><circle cx=\"32\" cy=\"135\" r=\"10\" fill=\"rgb(255,255,255)\" class=\"agent_1_29\"/><circle cx=\"308\" cy=\"344\" r=\"10\" fill=\"rgb(255,0,0)\" class=\"agent_1_30\"/><circle cx=\"234\" cy=\"321\" r=\"8\" fill=\"rgb(255,255,255)\" class=\"agent_1_41\"/><circle cx=\"269\" cy=\"336\" r=\"12\" fill=\"rgb(255,0,0)\" class=\"agent_1_56\"/><circle cx=\"265\" cy=\"259\" r=\"11\" fill=\"rgb(255,255,255)\" class=\"agent_1_63\"/><circle cx=\"244\" cy=\"18\" r=\"8\" fill=\"rgb(255,255,255)\" class=\"agent_1_69\"/></svg><svg viewBox='0 0 430 430' id=\"svg\" width=\"172\" height=\"172\"><circle cx=\"215\" cy=\"215\" r=\"205\" fill=\"none\" stroke=\"black\" stroke-width=\"2\" stroke-dasharray=\"3,3\"/> <circle cx=\"352\" cy=\"329\" r=\"8\" fill=\"rgb(255,255,255)\" class=\"agent_1_8\"/><circle cx=\"32\" cy=\"135\" r=\"10\" fill=\"rgb(255,255,255)\" class=\"agent_1_29\"/><circle cx=\"308\" cy=\"344\" r=\"10\" fill=\"rgb(255,255,255)\" class=\"agent_1_30\"/><circle cx=\"234\" cy=\"321\" r=\"8\" fill=\"rgb(255,0,0)\" class=\"agent_1_41\"/><circle cx=\"269\" cy=\"336\" r=\"12\" fill=\"rgb(255,255,255)\" class=\"agent_1_56\"/><circle cx=\"265\" cy=\"259\" r=\"11\" fill=\"rgb(255,255,255)\" class=\"agent_1_63\"/><circle cx=\"244\" cy=\"18\" r=\"8\" fill=\"rgb(255,255,255)\" class=\"agent_1_69\"/></svg></div>"
      ],
      "text/plain": [
       "<IPython.core.display.HTML object>"
      ]
     },
     "metadata": {},
     "output_type": "display_data"
    },
    {
     "name": "stdout",
     "output_type": "stream",
     "text": [
      "\n",
      "----------------------------------------\n",
      "\n",
      "sel_pred\n"
     ]
    },
    {
     "data": {
      "text/html": [
       "<div style=\"white-space: nowrap\"><svg viewbox='0 0 430 430' width=\"172\" height=\"172\" id=\"agent_1\"><circle cx=\"215\" cy=\"215\" r=\"205\" fill=\"none\" stroke=\"black\" stroke-width=\"2\" stroke-dasharray=\"3,3\"/><circle cx=\"352\" cy=\"329\" r=\"8\" fill=\"rgb(97,97,97)\"/><circle cx=\"32\" cy=\"135\" r=\"10\" fill=\"rgb(190,190,190)\"/><circle cx=\"308\" cy=\"344\" r=\"10\" fill=\"rgb(155,155,155)\"/><circle cx=\"234\" cy=\"321\" r=\"8\" fill=\"rgb(188,188,188)\"/><circle cx=\"269\" cy=\"336\" r=\"12\" fill=\"rgb(145,145,145)\"/><circle cx=\"265\" cy=\"259\" r=\"11\" fill=\"rgb(54,54,54)\"/><circle cx=\"244\" cy=\"18\" r=\"8\" fill=\"rgb(187,187,187)\"/></svg><svg viewBox='0 0 430 430' id=\"svg\" width=\"172\" height=\"172\"><circle cx=\"215\" cy=\"215\" r=\"205\" fill=\"none\" stroke=\"black\" stroke-width=\"2\" stroke-dasharray=\"3,3\"/> <circle cx=\"352\" cy=\"329\" r=\"8\" fill=\"rgb(255,252,252)\" class=\"agent_1_8\"/><circle cx=\"32\" cy=\"135\" r=\"10\" fill=\"rgb(255,254,254)\" class=\"agent_1_29\"/><circle cx=\"308\" cy=\"344\" r=\"10\" fill=\"rgb(255,249,249)\" class=\"agent_1_30\"/><circle cx=\"234\" cy=\"321\" r=\"8\" fill=\"rgb(255,171,171)\" class=\"agent_1_41\"/><circle cx=\"269\" cy=\"336\" r=\"12\" fill=\"rgb(255,249,249)\" class=\"agent_1_56\"/><circle cx=\"265\" cy=\"259\" r=\"11\" fill=\"rgb(255,248,248)\" class=\"agent_1_63\"/><circle cx=\"244\" cy=\"18\" r=\"8\" fill=\"rgb(255,254,254)\" class=\"agent_1_69\"/></svg></div>"
      ],
      "text/plain": [
       "<IPython.core.display.HTML object>"
      ]
     },
     "metadata": {},
     "output_type": "display_data"
    },
    {
     "name": "stdout",
     "output_type": "stream",
     "text": [
      "sel_true\n"
     ]
    },
    {
     "data": {
      "text/html": [
       "<div style=\"white-space: nowrap\"><svg viewbox='0 0 430 430' width=\"172\" height=\"172\" id=\"agent_1\"><circle cx=\"215\" cy=\"215\" r=\"205\" fill=\"none\" stroke=\"black\" stroke-width=\"2\" stroke-dasharray=\"3,3\"/><circle cx=\"352\" cy=\"329\" r=\"8\" fill=\"rgb(97,97,97)\"/><circle cx=\"32\" cy=\"135\" r=\"10\" fill=\"rgb(190,190,190)\"/><circle cx=\"308\" cy=\"344\" r=\"10\" fill=\"rgb(155,155,155)\"/><circle cx=\"234\" cy=\"321\" r=\"8\" fill=\"rgb(188,188,188)\"/><circle cx=\"269\" cy=\"336\" r=\"12\" fill=\"rgb(145,145,145)\"/><circle cx=\"265\" cy=\"259\" r=\"11\" fill=\"rgb(54,54,54)\"/><circle cx=\"244\" cy=\"18\" r=\"8\" fill=\"rgb(187,187,187)\"/></svg><svg viewBox='0 0 430 430' id=\"svg\" width=\"172\" height=\"172\"><circle cx=\"215\" cy=\"215\" r=\"205\" fill=\"none\" stroke=\"black\" stroke-width=\"2\" stroke-dasharray=\"3,3\"/> <circle cx=\"352\" cy=\"329\" r=\"8\" fill=\"rgb(255,255,255)\" class=\"agent_1_8\"/><circle cx=\"32\" cy=\"135\" r=\"10\" fill=\"rgb(255,255,255)\" class=\"agent_1_29\"/><circle cx=\"308\" cy=\"344\" r=\"10\" fill=\"rgb(255,255,255)\" class=\"agent_1_30\"/><circle cx=\"234\" cy=\"321\" r=\"8\" fill=\"rgb(255,0,0)\" class=\"agent_1_41\"/><circle cx=\"269\" cy=\"336\" r=\"12\" fill=\"rgb(255,255,255)\" class=\"agent_1_56\"/><circle cx=\"265\" cy=\"259\" r=\"11\" fill=\"rgb(255,255,255)\" class=\"agent_1_63\"/><circle cx=\"244\" cy=\"18\" r=\"8\" fill=\"rgb(255,255,255)\" class=\"agent_1_69\"/></svg></div>"
      ],
      "text/plain": [
       "<IPython.core.display.HTML object>"
      ]
     },
     "metadata": {},
     "output_type": "display_data"
    }
   ],
   "source": [
    "force_contexts_and_mentions(6, min_num_mentions=1, mention_marginals=True,\n",
    "                            ref_marginals=True, for_partner=False)"
   ]
  },
  {
   "cell_type": "code",
   "execution_count": 71,
   "metadata": {
    "scrolled": false
   },
   "outputs": [
    {
     "name": "stdout",
     "output_type": "stream",
     "text": [
      "scenario_id: S_TJburcYs185be982\n",
      "predicted is_selection probability\n",
      "tensor([0.0101], grad_fn=<SigmoidBackward>)\n",
      "is_selection: tensor([False])\n",
      "human\tTHEM: right in the middle , hello . is there a small black dot ? off to it 's lower left is a tiny dark grey one ? <eos>\n",
      "detected markables:\n",
      "{'start': 42, 'end': 59, 'is_self': True, 'text': 'a small black dot'}\n",
      "{'start': 69, 'end': 74, 'is_self': True, 'text': \"it 's\"}\n",
      "{'start': 89, 'end': 109, 'is_self': True, 'text': 'a tiny dark grey one'}\n",
      "partner_ref_marginal_probs\n"
     ]
    },
    {
     "data": {
      "text/html": [
       "<div style=\"white-space: nowrap\"><svg viewbox='0 0 430 430' width=\"172\" height=\"172\" id=\"agent_1\"><circle cx=\"215\" cy=\"215\" r=\"205\" fill=\"none\" stroke=\"black\" stroke-width=\"2\" stroke-dasharray=\"3,3\"/><circle cx=\"322\" cy=\"169\" r=\"10\" fill=\"rgb(73,73,73)\"/><circle cx=\"366\" cy=\"198\" r=\"12\" fill=\"rgb(171,171,171)\"/><circle cx=\"41\" cy=\"257\" r=\"7\" fill=\"rgb(137,137,137)\"/><circle cx=\"202\" cy=\"61\" r=\"7\" fill=\"rgb(148,148,148)\"/><circle cx=\"137\" cy=\"359\" r=\"11\" fill=\"rgb(126,126,126)\"/><circle cx=\"313\" cy=\"254\" r=\"12\" fill=\"rgb(154,154,154)\"/><circle cx=\"145\" cy=\"212\" r=\"9\" fill=\"rgb(68,68,68)\"/></svg><svg viewBox='0 0 430 430' id=\"svg\" width=\"172\" height=\"172\"><circle cx=\"215\" cy=\"215\" r=\"205\" fill=\"none\" stroke=\"black\" stroke-width=\"2\" stroke-dasharray=\"3,3\"/> <circle cx=\"322\" cy=\"169\" r=\"10\" fill=\"rgb(255,224,224)\" class=\"agent_1_20\"/><circle cx=\"366\" cy=\"198\" r=\"12\" fill=\"rgb(255,254,254)\" class=\"agent_1_25\"/><circle cx=\"41\" cy=\"257\" r=\"7\" fill=\"rgb(255,254,254)\" class=\"agent_1_33\"/><circle cx=\"202\" cy=\"61\" r=\"7\" fill=\"rgb(255,254,254)\" class=\"agent_1_41\"/><circle cx=\"137\" cy=\"359\" r=\"11\" fill=\"rgb(255,254,254)\" class=\"agent_1_51\"/><circle cx=\"313\" cy=\"254\" r=\"12\" fill=\"rgb(255,254,254)\" class=\"agent_1_58\"/><circle cx=\"145\" cy=\"212\" r=\"9\" fill=\"rgb(255,38,38)\" class=\"agent_1_62\"/></svg><svg viewBox='0 0 430 430' id=\"svg\" width=\"172\" height=\"172\"><circle cx=\"215\" cy=\"215\" r=\"205\" fill=\"none\" stroke=\"black\" stroke-width=\"2\" stroke-dasharray=\"3,3\"/> <circle cx=\"322\" cy=\"169\" r=\"10\" fill=\"rgb(255,168,168)\" class=\"agent_1_20\"/><circle cx=\"366\" cy=\"198\" r=\"12\" fill=\"rgb(255,254,254)\" class=\"agent_1_25\"/><circle cx=\"41\" cy=\"257\" r=\"7\" fill=\"rgb(255,238,238)\" class=\"agent_1_33\"/><circle cx=\"202\" cy=\"61\" r=\"7\" fill=\"rgb(255,241,241)\" class=\"agent_1_41\"/><circle cx=\"137\" cy=\"359\" r=\"11\" fill=\"rgb(255,252,252)\" class=\"agent_1_51\"/><circle cx=\"313\" cy=\"254\" r=\"12\" fill=\"rgb(255,254,254)\" class=\"agent_1_58\"/><circle cx=\"145\" cy=\"212\" r=\"9\" fill=\"rgb(255,131,131)\" class=\"agent_1_62\"/></svg><svg viewBox='0 0 430 430' id=\"svg\" width=\"172\" height=\"172\"><circle cx=\"215\" cy=\"215\" r=\"205\" fill=\"none\" stroke=\"black\" stroke-width=\"2\" stroke-dasharray=\"3,3\"/> <circle cx=\"322\" cy=\"169\" r=\"10\" fill=\"rgb(255,247,247)\" class=\"agent_1_20\"/><circle cx=\"366\" cy=\"198\" r=\"12\" fill=\"rgb(255,254,254)\" class=\"agent_1_25\"/><circle cx=\"41\" cy=\"257\" r=\"7\" fill=\"rgb(255,162,162)\" class=\"agent_1_33\"/><circle cx=\"202\" cy=\"61\" r=\"7\" fill=\"rgb(255,188,188)\" class=\"agent_1_41\"/><circle cx=\"137\" cy=\"359\" r=\"11\" fill=\"rgb(255,254,254)\" class=\"agent_1_51\"/><circle cx=\"313\" cy=\"254\" r=\"12\" fill=\"rgb(255,254,254)\" class=\"agent_1_58\"/><circle cx=\"145\" cy=\"212\" r=\"9\" fill=\"rgb(255,231,231)\" class=\"agent_1_62\"/></svg></div>"
      ],
      "text/plain": [
       "<IPython.core.display.HTML object>"
      ]
     },
     "metadata": {},
     "output_type": "display_data"
    },
    {
     "name": "stdout",
     "output_type": "stream",
     "text": [
      "partner_refs_pred\n"
     ]
    },
    {
     "data": {
      "text/html": [
       "<div style=\"white-space: nowrap\"><svg viewbox='0 0 430 430' width=\"172\" height=\"172\" id=\"agent_1\"><circle cx=\"215\" cy=\"215\" r=\"205\" fill=\"none\" stroke=\"black\" stroke-width=\"2\" stroke-dasharray=\"3,3\"/><circle cx=\"322\" cy=\"169\" r=\"10\" fill=\"rgb(73,73,73)\"/><circle cx=\"366\" cy=\"198\" r=\"12\" fill=\"rgb(171,171,171)\"/><circle cx=\"41\" cy=\"257\" r=\"7\" fill=\"rgb(137,137,137)\"/><circle cx=\"202\" cy=\"61\" r=\"7\" fill=\"rgb(148,148,148)\"/><circle cx=\"137\" cy=\"359\" r=\"11\" fill=\"rgb(126,126,126)\"/><circle cx=\"313\" cy=\"254\" r=\"12\" fill=\"rgb(154,154,154)\"/><circle cx=\"145\" cy=\"212\" r=\"9\" fill=\"rgb(68,68,68)\"/></svg><svg viewBox='0 0 430 430' id=\"svg\" width=\"172\" height=\"172\"><circle cx=\"215\" cy=\"215\" r=\"205\" fill=\"none\" stroke=\"black\" stroke-width=\"2\" stroke-dasharray=\"3,3\"/> <circle cx=\"322\" cy=\"169\" r=\"10\" fill=\"rgb(255,255,255)\" class=\"agent_1_20\"/><circle cx=\"366\" cy=\"198\" r=\"12\" fill=\"rgb(255,255,255)\" class=\"agent_1_25\"/><circle cx=\"41\" cy=\"257\" r=\"7\" fill=\"rgb(255,255,255)\" class=\"agent_1_33\"/><circle cx=\"202\" cy=\"61\" r=\"7\" fill=\"rgb(255,255,255)\" class=\"agent_1_41\"/><circle cx=\"137\" cy=\"359\" r=\"11\" fill=\"rgb(255,255,255)\" class=\"agent_1_51\"/><circle cx=\"313\" cy=\"254\" r=\"12\" fill=\"rgb(255,255,255)\" class=\"agent_1_58\"/><circle cx=\"145\" cy=\"212\" r=\"9\" fill=\"rgb(255,0,0)\" class=\"agent_1_62\"/></svg><svg viewBox='0 0 430 430' id=\"svg\" width=\"172\" height=\"172\"><circle cx=\"215\" cy=\"215\" r=\"205\" fill=\"none\" stroke=\"black\" stroke-width=\"2\" stroke-dasharray=\"3,3\"/> <circle cx=\"322\" cy=\"169\" r=\"10\" fill=\"rgb(255,255,255)\" class=\"agent_1_20\"/><circle cx=\"366\" cy=\"198\" r=\"12\" fill=\"rgb(255,255,255)\" class=\"agent_1_25\"/><circle cx=\"41\" cy=\"257\" r=\"7\" fill=\"rgb(255,255,255)\" class=\"agent_1_33\"/><circle cx=\"202\" cy=\"61\" r=\"7\" fill=\"rgb(255,255,255)\" class=\"agent_1_41\"/><circle cx=\"137\" cy=\"359\" r=\"11\" fill=\"rgb(255,255,255)\" class=\"agent_1_51\"/><circle cx=\"313\" cy=\"254\" r=\"12\" fill=\"rgb(255,255,255)\" class=\"agent_1_58\"/><circle cx=\"145\" cy=\"212\" r=\"9\" fill=\"rgb(255,0,0)\" class=\"agent_1_62\"/></svg><svg viewBox='0 0 430 430' id=\"svg\" width=\"172\" height=\"172\"><circle cx=\"215\" cy=\"215\" r=\"205\" fill=\"none\" stroke=\"black\" stroke-width=\"2\" stroke-dasharray=\"3,3\"/> <circle cx=\"322\" cy=\"169\" r=\"10\" fill=\"rgb(255,255,255)\" class=\"agent_1_20\"/><circle cx=\"366\" cy=\"198\" r=\"12\" fill=\"rgb(255,255,255)\" class=\"agent_1_25\"/><circle cx=\"41\" cy=\"257\" r=\"7\" fill=\"rgb(255,0,0)\" class=\"agent_1_33\"/><circle cx=\"202\" cy=\"61\" r=\"7\" fill=\"rgb(255,255,255)\" class=\"agent_1_41\"/><circle cx=\"137\" cy=\"359\" r=\"11\" fill=\"rgb(255,255,255)\" class=\"agent_1_51\"/><circle cx=\"313\" cy=\"254\" r=\"12\" fill=\"rgb(255,255,255)\" class=\"agent_1_58\"/><circle cx=\"145\" cy=\"212\" r=\"9\" fill=\"rgb(255,255,255)\" class=\"agent_1_62\"/></svg></div>"
      ],
      "text/plain": [
       "<IPython.core.display.HTML object>"
      ]
     },
     "metadata": {},
     "output_type": "display_data"
    },
    {
     "name": "stdout",
     "output_type": "stream",
     "text": [
      "partner_refs_true\n"
     ]
    },
    {
     "data": {
      "text/html": [
       "<div style=\"white-space: nowrap\"><svg viewbox='0 0 430 430' width=\"172\" height=\"172\" id=\"agent_1\"><circle cx=\"215\" cy=\"215\" r=\"205\" fill=\"none\" stroke=\"black\" stroke-width=\"2\" stroke-dasharray=\"3,3\"/><circle cx=\"322\" cy=\"169\" r=\"10\" fill=\"rgb(73,73,73)\"/><circle cx=\"366\" cy=\"198\" r=\"12\" fill=\"rgb(171,171,171)\"/><circle cx=\"41\" cy=\"257\" r=\"7\" fill=\"rgb(137,137,137)\"/><circle cx=\"202\" cy=\"61\" r=\"7\" fill=\"rgb(148,148,148)\"/><circle cx=\"137\" cy=\"359\" r=\"11\" fill=\"rgb(126,126,126)\"/><circle cx=\"313\" cy=\"254\" r=\"12\" fill=\"rgb(154,154,154)\"/><circle cx=\"145\" cy=\"212\" r=\"9\" fill=\"rgb(68,68,68)\"/></svg><svg viewBox='0 0 430 430' id=\"svg\" width=\"172\" height=\"172\"><circle cx=\"215\" cy=\"215\" r=\"205\" fill=\"none\" stroke=\"black\" stroke-width=\"2\" stroke-dasharray=\"3,3\"/> <circle cx=\"322\" cy=\"169\" r=\"10\" fill=\"rgb(255,255,255)\" class=\"agent_1_20\"/><circle cx=\"366\" cy=\"198\" r=\"12\" fill=\"rgb(255,255,255)\" class=\"agent_1_25\"/><circle cx=\"41\" cy=\"257\" r=\"7\" fill=\"rgb(255,255,255)\" class=\"agent_1_33\"/><circle cx=\"202\" cy=\"61\" r=\"7\" fill=\"rgb(255,255,255)\" class=\"agent_1_41\"/><circle cx=\"137\" cy=\"359\" r=\"11\" fill=\"rgb(255,255,255)\" class=\"agent_1_51\"/><circle cx=\"313\" cy=\"254\" r=\"12\" fill=\"rgb(255,255,255)\" class=\"agent_1_58\"/><circle cx=\"145\" cy=\"212\" r=\"9\" fill=\"rgb(255,0,0)\" class=\"agent_1_62\"/></svg><svg viewBox='0 0 430 430' id=\"svg\" width=\"172\" height=\"172\"><circle cx=\"215\" cy=\"215\" r=\"205\" fill=\"none\" stroke=\"black\" stroke-width=\"2\" stroke-dasharray=\"3,3\"/> <circle cx=\"322\" cy=\"169\" r=\"10\" fill=\"rgb(255,255,255)\" class=\"agent_1_20\"/><circle cx=\"366\" cy=\"198\" r=\"12\" fill=\"rgb(255,255,255)\" class=\"agent_1_25\"/><circle cx=\"41\" cy=\"257\" r=\"7\" fill=\"rgb(255,255,255)\" class=\"agent_1_33\"/><circle cx=\"202\" cy=\"61\" r=\"7\" fill=\"rgb(255,255,255)\" class=\"agent_1_41\"/><circle cx=\"137\" cy=\"359\" r=\"11\" fill=\"rgb(255,255,255)\" class=\"agent_1_51\"/><circle cx=\"313\" cy=\"254\" r=\"12\" fill=\"rgb(255,255,255)\" class=\"agent_1_58\"/><circle cx=\"145\" cy=\"212\" r=\"9\" fill=\"rgb(255,0,0)\" class=\"agent_1_62\"/></svg><svg viewBox='0 0 430 430' id=\"svg\" width=\"172\" height=\"172\"><circle cx=\"215\" cy=\"215\" r=\"205\" fill=\"none\" stroke=\"black\" stroke-width=\"2\" stroke-dasharray=\"3,3\"/> <circle cx=\"322\" cy=\"169\" r=\"10\" fill=\"rgb(255,255,255)\" class=\"agent_1_20\"/><circle cx=\"366\" cy=\"198\" r=\"12\" fill=\"rgb(255,255,255)\" class=\"agent_1_25\"/><circle cx=\"41\" cy=\"257\" r=\"7\" fill=\"rgb(255,0,0)\" class=\"agent_1_33\"/><circle cx=\"202\" cy=\"61\" r=\"7\" fill=\"rgb(255,255,255)\" class=\"agent_1_41\"/><circle cx=\"137\" cy=\"359\" r=\"11\" fill=\"rgb(255,255,255)\" class=\"agent_1_51\"/><circle cx=\"313\" cy=\"254\" r=\"12\" fill=\"rgb(255,255,255)\" class=\"agent_1_58\"/><circle cx=\"145\" cy=\"212\" r=\"9\" fill=\"rgb(255,255,255)\" class=\"agent_1_62\"/></svg></div>"
      ],
      "text/plain": [
       "<IPython.core.display.HTML object>"
      ]
     },
     "metadata": {},
     "output_type": "display_data"
    },
    {
     "name": "stdout",
     "output_type": "stream",
     "text": [
      "partner_ref_true (their view)\n"
     ]
    },
    {
     "data": {
      "text/html": [
       "<div style=\"white-space: nowrap\"><svg viewbox='0 0 430 430' width=\"172\" height=\"172\" id=\"agent_0\"><circle cx=\"215\" cy=\"215\" r=\"205\" fill=\"none\" stroke=\"black\" stroke-width=\"2\" stroke-dasharray=\"3,3\"/><circle cx=\"402\" cy=\"172\" r=\"10\" fill=\"rgb(73,73,73)\"/><circle cx=\"121\" cy=\"260\" r=\"7\" fill=\"rgb(137,137,137)\"/><circle cx=\"67\" cy=\"121\" r=\"12\" fill=\"rgb(67,67,67)\"/><circle cx=\"283\" cy=\"64\" r=\"7\" fill=\"rgb(148,148,148)\"/><circle cx=\"217\" cy=\"362\" r=\"11\" fill=\"rgb(126,126,126)\"/><circle cx=\"393\" cy=\"257\" r=\"12\" fill=\"rgb(154,154,154)\"/><circle cx=\"226\" cy=\"215\" r=\"9\" fill=\"rgb(68,68,68)\"/></svg><svg viewBox='0 0 430 430' id=\"svg\" width=\"172\" height=\"172\"><circle cx=\"215\" cy=\"215\" r=\"205\" fill=\"none\" stroke=\"black\" stroke-width=\"2\" stroke-dasharray=\"3,3\"/> <circle cx=\"402\" cy=\"172\" r=\"10\" fill=\"rgb(255,255,255)\" class=\"agent_0_20\"/><circle cx=\"121\" cy=\"260\" r=\"7\" fill=\"rgb(255,255,255)\" class=\"agent_0_33\"/><circle cx=\"67\" cy=\"121\" r=\"12\" fill=\"rgb(255,255,255)\" class=\"agent_0_40\"/><circle cx=\"283\" cy=\"64\" r=\"7\" fill=\"rgb(255,255,255)\" class=\"agent_0_41\"/><circle cx=\"217\" cy=\"362\" r=\"11\" fill=\"rgb(255,255,255)\" class=\"agent_0_51\"/><circle cx=\"393\" cy=\"257\" r=\"12\" fill=\"rgb(255,255,255)\" class=\"agent_0_58\"/><circle cx=\"226\" cy=\"215\" r=\"9\" fill=\"rgb(255,0,0)\" class=\"agent_0_62\"/></svg><svg viewBox='0 0 430 430' id=\"svg\" width=\"172\" height=\"172\"><circle cx=\"215\" cy=\"215\" r=\"205\" fill=\"none\" stroke=\"black\" stroke-width=\"2\" stroke-dasharray=\"3,3\"/> <circle cx=\"402\" cy=\"172\" r=\"10\" fill=\"rgb(255,255,255)\" class=\"agent_0_20\"/><circle cx=\"121\" cy=\"260\" r=\"7\" fill=\"rgb(255,255,255)\" class=\"agent_0_33\"/><circle cx=\"67\" cy=\"121\" r=\"12\" fill=\"rgb(255,255,255)\" class=\"agent_0_40\"/><circle cx=\"283\" cy=\"64\" r=\"7\" fill=\"rgb(255,255,255)\" class=\"agent_0_41\"/><circle cx=\"217\" cy=\"362\" r=\"11\" fill=\"rgb(255,255,255)\" class=\"agent_0_51\"/><circle cx=\"393\" cy=\"257\" r=\"12\" fill=\"rgb(255,255,255)\" class=\"agent_0_58\"/><circle cx=\"226\" cy=\"215\" r=\"9\" fill=\"rgb(255,0,0)\" class=\"agent_0_62\"/></svg><svg viewBox='0 0 430 430' id=\"svg\" width=\"172\" height=\"172\"><circle cx=\"215\" cy=\"215\" r=\"205\" fill=\"none\" stroke=\"black\" stroke-width=\"2\" stroke-dasharray=\"3,3\"/> <circle cx=\"402\" cy=\"172\" r=\"10\" fill=\"rgb(255,255,255)\" class=\"agent_0_20\"/><circle cx=\"121\" cy=\"260\" r=\"7\" fill=\"rgb(255,0,0)\" class=\"agent_0_33\"/><circle cx=\"67\" cy=\"121\" r=\"12\" fill=\"rgb(255,255,255)\" class=\"agent_0_40\"/><circle cx=\"283\" cy=\"64\" r=\"7\" fill=\"rgb(255,255,255)\" class=\"agent_0_41\"/><circle cx=\"217\" cy=\"362\" r=\"11\" fill=\"rgb(255,255,255)\" class=\"agent_0_51\"/><circle cx=\"393\" cy=\"257\" r=\"12\" fill=\"rgb(255,255,255)\" class=\"agent_0_58\"/><circle cx=\"226\" cy=\"215\" r=\"9\" fill=\"rgb(255,255,255)\" class=\"agent_0_62\"/></svg></div>"
      ],
      "text/plain": [
       "<IPython.core.display.HTML object>"
      ]
     },
     "metadata": {},
     "output_type": "display_data"
    },
    {
     "name": "stdout",
     "output_type": "stream",
     "text": [
      "\n",
      "----------------------------------------\n",
      "\n",
      "to_mention_marginals\n"
     ]
    },
    {
     "data": {
      "text/html": [
       "<div style=\"white-space: nowrap\"><svg viewbox='0 0 430 430' width=\"172\" height=\"172\" id=\"agent_1\"><circle cx=\"215\" cy=\"215\" r=\"205\" fill=\"none\" stroke=\"black\" stroke-width=\"2\" stroke-dasharray=\"3,3\"/><circle cx=\"322\" cy=\"169\" r=\"10\" fill=\"rgb(73,73,73)\"/><circle cx=\"366\" cy=\"198\" r=\"12\" fill=\"rgb(171,171,171)\"/><circle cx=\"41\" cy=\"257\" r=\"7\" fill=\"rgb(137,137,137)\"/><circle cx=\"202\" cy=\"61\" r=\"7\" fill=\"rgb(148,148,148)\"/><circle cx=\"137\" cy=\"359\" r=\"11\" fill=\"rgb(126,126,126)\"/><circle cx=\"313\" cy=\"254\" r=\"12\" fill=\"rgb(154,154,154)\"/><circle cx=\"145\" cy=\"212\" r=\"9\" fill=\"rgb(68,68,68)\"/></svg><svg viewBox='0 0 430 430' id=\"svg\" width=\"172\" height=\"172\"><circle cx=\"215\" cy=\"215\" r=\"205\" fill=\"none\" stroke=\"black\" stroke-width=\"2\" stroke-dasharray=\"3,3\"/> <circle cx=\"322\" cy=\"169\" r=\"10\" fill=\"rgb(255,202,202)\" class=\"agent_1_20\"/><circle cx=\"366\" cy=\"198\" r=\"12\" fill=\"rgb(255,228,228)\" class=\"agent_1_25\"/><circle cx=\"41\" cy=\"257\" r=\"7\" fill=\"rgb(255,216,216)\" class=\"agent_1_33\"/><circle cx=\"202\" cy=\"61\" r=\"7\" fill=\"rgb(255,221,221)\" class=\"agent_1_41\"/><circle cx=\"137\" cy=\"359\" r=\"11\" fill=\"rgb(255,232,232)\" class=\"agent_1_51\"/><circle cx=\"313\" cy=\"254\" r=\"12\" fill=\"rgb(255,226,226)\" class=\"agent_1_58\"/><circle cx=\"145\" cy=\"212\" r=\"9\" fill=\"rgb(255,155,155)\" class=\"agent_1_62\"/></svg><svg viewBox='0 0 430 430' id=\"svg\" width=\"172\" height=\"172\"><circle cx=\"215\" cy=\"215\" r=\"205\" fill=\"none\" stroke=\"black\" stroke-width=\"2\" stroke-dasharray=\"3,3\"/> <circle cx=\"322\" cy=\"169\" r=\"10\" fill=\"rgb(255,198,198)\" class=\"agent_1_20\"/><circle cx=\"366\" cy=\"198\" r=\"12\" fill=\"rgb(255,223,223)\" class=\"agent_1_25\"/><circle cx=\"41\" cy=\"257\" r=\"7\" fill=\"rgb(255,222,222)\" class=\"agent_1_33\"/><circle cx=\"202\" cy=\"61\" r=\"7\" fill=\"rgb(255,224,224)\" class=\"agent_1_41\"/><circle cx=\"137\" cy=\"359\" r=\"11\" fill=\"rgb(255,230,230)\" class=\"agent_1_51\"/><circle cx=\"313\" cy=\"254\" r=\"12\" fill=\"rgb(255,221,221)\" class=\"agent_1_58\"/><circle cx=\"145\" cy=\"212\" r=\"9\" fill=\"rgb(255,179,179)\" class=\"agent_1_62\"/></svg><svg viewBox='0 0 430 430' id=\"svg\" width=\"172\" height=\"172\"><circle cx=\"215\" cy=\"215\" r=\"205\" fill=\"none\" stroke=\"black\" stroke-width=\"2\" stroke-dasharray=\"3,3\"/> <circle cx=\"322\" cy=\"169\" r=\"10\" fill=\"rgb(255,199,199)\" class=\"agent_1_20\"/><circle cx=\"366\" cy=\"198\" r=\"12\" fill=\"rgb(255,222,222)\" class=\"agent_1_25\"/><circle cx=\"41\" cy=\"257\" r=\"7\" fill=\"rgb(255,223,223)\" class=\"agent_1_33\"/><circle cx=\"202\" cy=\"61\" r=\"7\" fill=\"rgb(255,224,224)\" class=\"agent_1_41\"/><circle cx=\"137\" cy=\"359\" r=\"11\" fill=\"rgb(255,230,230)\" class=\"agent_1_51\"/><circle cx=\"313\" cy=\"254\" r=\"12\" fill=\"rgb(255,221,221)\" class=\"agent_1_58\"/><circle cx=\"145\" cy=\"212\" r=\"9\" fill=\"rgb(255,182,182)\" class=\"agent_1_62\"/></svg></div>"
      ],
      "text/plain": [
       "<IPython.core.display.HTML object>"
      ]
     },
     "metadata": {},
     "output_type": "display_data"
    },
    {
     "name": "stdout",
     "output_type": "stream",
     "text": [
      "to_mention_pred\n"
     ]
    },
    {
     "data": {
      "text/html": [
       "<div style=\"white-space: nowrap\"><svg viewbox='0 0 430 430' width=\"172\" height=\"172\" id=\"agent_1\"><circle cx=\"215\" cy=\"215\" r=\"205\" fill=\"none\" stroke=\"black\" stroke-width=\"2\" stroke-dasharray=\"3,3\"/><circle cx=\"322\" cy=\"169\" r=\"10\" fill=\"rgb(73,73,73)\"/><circle cx=\"366\" cy=\"198\" r=\"12\" fill=\"rgb(171,171,171)\"/><circle cx=\"41\" cy=\"257\" r=\"7\" fill=\"rgb(137,137,137)\"/><circle cx=\"202\" cy=\"61\" r=\"7\" fill=\"rgb(148,148,148)\"/><circle cx=\"137\" cy=\"359\" r=\"11\" fill=\"rgb(126,126,126)\"/><circle cx=\"313\" cy=\"254\" r=\"12\" fill=\"rgb(154,154,154)\"/><circle cx=\"145\" cy=\"212\" r=\"9\" fill=\"rgb(68,68,68)\"/></svg><svg viewBox='0 0 430 430' id=\"svg\" width=\"172\" height=\"172\"><circle cx=\"215\" cy=\"215\" r=\"205\" fill=\"none\" stroke=\"black\" stroke-width=\"2\" stroke-dasharray=\"3,3\"/> <circle cx=\"322\" cy=\"169\" r=\"10\" fill=\"rgb(255,255,255)\" class=\"agent_1_20\"/><circle cx=\"366\" cy=\"198\" r=\"12\" fill=\"rgb(255,255,255)\" class=\"agent_1_25\"/><circle cx=\"41\" cy=\"257\" r=\"7\" fill=\"rgb(255,255,255)\" class=\"agent_1_33\"/><circle cx=\"202\" cy=\"61\" r=\"7\" fill=\"rgb(255,255,255)\" class=\"agent_1_41\"/><circle cx=\"137\" cy=\"359\" r=\"11\" fill=\"rgb(255,255,255)\" class=\"agent_1_51\"/><circle cx=\"313\" cy=\"254\" r=\"12\" fill=\"rgb(255,255,255)\" class=\"agent_1_58\"/><circle cx=\"145\" cy=\"212\" r=\"9\" fill=\"rgb(255,0,0)\" class=\"agent_1_62\"/></svg><svg viewBox='0 0 430 430' id=\"svg\" width=\"172\" height=\"172\"><circle cx=\"215\" cy=\"215\" r=\"205\" fill=\"none\" stroke=\"black\" stroke-width=\"2\" stroke-dasharray=\"3,3\"/> <circle cx=\"322\" cy=\"169\" r=\"10\" fill=\"rgb(255,255,255)\" class=\"agent_1_20\"/><circle cx=\"366\" cy=\"198\" r=\"12\" fill=\"rgb(255,255,255)\" class=\"agent_1_25\"/><circle cx=\"41\" cy=\"257\" r=\"7\" fill=\"rgb(255,255,255)\" class=\"agent_1_33\"/><circle cx=\"202\" cy=\"61\" r=\"7\" fill=\"rgb(255,255,255)\" class=\"agent_1_41\"/><circle cx=\"137\" cy=\"359\" r=\"11\" fill=\"rgb(255,255,255)\" class=\"agent_1_51\"/><circle cx=\"313\" cy=\"254\" r=\"12\" fill=\"rgb(255,255,255)\" class=\"agent_1_58\"/><circle cx=\"145\" cy=\"212\" r=\"9\" fill=\"rgb(255,0,0)\" class=\"agent_1_62\"/></svg><svg viewBox='0 0 430 430' id=\"svg\" width=\"172\" height=\"172\"><circle cx=\"215\" cy=\"215\" r=\"205\" fill=\"none\" stroke=\"black\" stroke-width=\"2\" stroke-dasharray=\"3,3\"/> <circle cx=\"322\" cy=\"169\" r=\"10\" fill=\"rgb(255,255,255)\" class=\"agent_1_20\"/><circle cx=\"366\" cy=\"198\" r=\"12\" fill=\"rgb(255,255,255)\" class=\"agent_1_25\"/><circle cx=\"41\" cy=\"257\" r=\"7\" fill=\"rgb(255,255,255)\" class=\"agent_1_33\"/><circle cx=\"202\" cy=\"61\" r=\"7\" fill=\"rgb(255,255,255)\" class=\"agent_1_41\"/><circle cx=\"137\" cy=\"359\" r=\"11\" fill=\"rgb(255,255,255)\" class=\"agent_1_51\"/><circle cx=\"313\" cy=\"254\" r=\"12\" fill=\"rgb(255,255,255)\" class=\"agent_1_58\"/><circle cx=\"145\" cy=\"212\" r=\"9\" fill=\"rgb(255,0,0)\" class=\"agent_1_62\"/></svg></div>"
      ],
      "text/plain": [
       "<IPython.core.display.HTML object>"
      ]
     },
     "metadata": {},
     "output_type": "display_data"
    },
    {
     "name": "stdout",
     "output_type": "stream",
     "text": [
      "to_mention_true\n"
     ]
    },
    {
     "data": {
      "text/html": [
       "<div style=\"white-space: nowrap\"><svg viewbox='0 0 430 430' width=\"172\" height=\"172\" id=\"agent_1\"><circle cx=\"215\" cy=\"215\" r=\"205\" fill=\"none\" stroke=\"black\" stroke-width=\"2\" stroke-dasharray=\"3,3\"/><circle cx=\"322\" cy=\"169\" r=\"10\" fill=\"rgb(73,73,73)\"/><circle cx=\"366\" cy=\"198\" r=\"12\" fill=\"rgb(171,171,171)\"/><circle cx=\"41\" cy=\"257\" r=\"7\" fill=\"rgb(137,137,137)\"/><circle cx=\"202\" cy=\"61\" r=\"7\" fill=\"rgb(148,148,148)\"/><circle cx=\"137\" cy=\"359\" r=\"11\" fill=\"rgb(126,126,126)\"/><circle cx=\"313\" cy=\"254\" r=\"12\" fill=\"rgb(154,154,154)\"/><circle cx=\"145\" cy=\"212\" r=\"9\" fill=\"rgb(68,68,68)\"/></svg><svg viewBox='0 0 430 430' id=\"svg\" width=\"172\" height=\"172\"><circle cx=\"215\" cy=\"215\" r=\"205\" fill=\"none\" stroke=\"black\" stroke-width=\"2\" stroke-dasharray=\"3,3\"/> <circle cx=\"322\" cy=\"169\" r=\"10\" fill=\"rgb(255,255,255)\" class=\"agent_1_20\"/><circle cx=\"366\" cy=\"198\" r=\"12\" fill=\"rgb(255,255,255)\" class=\"agent_1_25\"/><circle cx=\"41\" cy=\"257\" r=\"7\" fill=\"rgb(255,255,255)\" class=\"agent_1_33\"/><circle cx=\"202\" cy=\"61\" r=\"7\" fill=\"rgb(255,255,255)\" class=\"agent_1_41\"/><circle cx=\"137\" cy=\"359\" r=\"11\" fill=\"rgb(255,255,255)\" class=\"agent_1_51\"/><circle cx=\"313\" cy=\"254\" r=\"12\" fill=\"rgb(255,255,255)\" class=\"agent_1_58\"/><circle cx=\"145\" cy=\"212\" r=\"9\" fill=\"rgb(255,0,0)\" class=\"agent_1_62\"/></svg></div>"
      ],
      "text/plain": [
       "<IPython.core.display.HTML object>"
      ]
     },
     "metadata": {},
     "output_type": "display_data"
    },
    {
     "name": "stdout",
     "output_type": "stream",
     "text": [
      "predicted is_selection probability\n",
      "tensor([0.0484], grad_fn=<SigmoidBackward>)\n",
      "is_selection: tensor([True])\n",
      "beam 0\tyes , let 's pick the black one <eos>\n",
      "greedy\tyes , let 's pick the black one <eos>\n",
      "human\tyes . pick the black one <selection>\n",
      "detected markables:\n",
      "{'start': 14, 'end': 27, 'is_self': True, 'text': 'the black one'}\n",
      "ref_marginal_probs\n"
     ]
    },
    {
     "data": {
      "text/html": [
       "<div style=\"white-space: nowrap\"><svg viewbox='0 0 430 430' width=\"172\" height=\"172\" id=\"agent_1\"><circle cx=\"215\" cy=\"215\" r=\"205\" fill=\"none\" stroke=\"black\" stroke-width=\"2\" stroke-dasharray=\"3,3\"/><circle cx=\"322\" cy=\"169\" r=\"10\" fill=\"rgb(73,73,73)\"/><circle cx=\"366\" cy=\"198\" r=\"12\" fill=\"rgb(171,171,171)\"/><circle cx=\"41\" cy=\"257\" r=\"7\" fill=\"rgb(137,137,137)\"/><circle cx=\"202\" cy=\"61\" r=\"7\" fill=\"rgb(148,148,148)\"/><circle cx=\"137\" cy=\"359\" r=\"11\" fill=\"rgb(126,126,126)\"/><circle cx=\"313\" cy=\"254\" r=\"12\" fill=\"rgb(154,154,154)\"/><circle cx=\"145\" cy=\"212\" r=\"9\" fill=\"rgb(68,68,68)\"/></svg><svg viewBox='0 0 430 430' id=\"svg\" width=\"172\" height=\"172\"><circle cx=\"215\" cy=\"215\" r=\"205\" fill=\"none\" stroke=\"black\" stroke-width=\"2\" stroke-dasharray=\"3,3\"/> <circle cx=\"322\" cy=\"169\" r=\"10\" fill=\"rgb(255,220,220)\" class=\"agent_1_20\"/><circle cx=\"366\" cy=\"198\" r=\"12\" fill=\"rgb(255,254,254)\" class=\"agent_1_25\"/><circle cx=\"41\" cy=\"257\" r=\"7\" fill=\"rgb(255,254,254)\" class=\"agent_1_33\"/><circle cx=\"202\" cy=\"61\" r=\"7\" fill=\"rgb(255,254,254)\" class=\"agent_1_41\"/><circle cx=\"137\" cy=\"359\" r=\"11\" fill=\"rgb(255,254,254)\" class=\"agent_1_51\"/><circle cx=\"313\" cy=\"254\" r=\"12\" fill=\"rgb(255,254,254)\" class=\"agent_1_58\"/><circle cx=\"145\" cy=\"212\" r=\"9\" fill=\"rgb(255,33,33)\" class=\"agent_1_62\"/></svg></div>"
      ],
      "text/plain": [
       "<IPython.core.display.HTML object>"
      ]
     },
     "metadata": {},
     "output_type": "display_data"
    },
    {
     "name": "stdout",
     "output_type": "stream",
     "text": [
      "refs_pred\n"
     ]
    },
    {
     "data": {
      "text/html": [
       "<div style=\"white-space: nowrap\"><svg viewbox='0 0 430 430' width=\"172\" height=\"172\" id=\"agent_1\"><circle cx=\"215\" cy=\"215\" r=\"205\" fill=\"none\" stroke=\"black\" stroke-width=\"2\" stroke-dasharray=\"3,3\"/><circle cx=\"322\" cy=\"169\" r=\"10\" fill=\"rgb(73,73,73)\"/><circle cx=\"366\" cy=\"198\" r=\"12\" fill=\"rgb(171,171,171)\"/><circle cx=\"41\" cy=\"257\" r=\"7\" fill=\"rgb(137,137,137)\"/><circle cx=\"202\" cy=\"61\" r=\"7\" fill=\"rgb(148,148,148)\"/><circle cx=\"137\" cy=\"359\" r=\"11\" fill=\"rgb(126,126,126)\"/><circle cx=\"313\" cy=\"254\" r=\"12\" fill=\"rgb(154,154,154)\"/><circle cx=\"145\" cy=\"212\" r=\"9\" fill=\"rgb(68,68,68)\"/></svg><svg viewBox='0 0 430 430' id=\"svg\" width=\"172\" height=\"172\"><circle cx=\"215\" cy=\"215\" r=\"205\" fill=\"none\" stroke=\"black\" stroke-width=\"2\" stroke-dasharray=\"3,3\"/> <circle cx=\"322\" cy=\"169\" r=\"10\" fill=\"rgb(255,255,255)\" class=\"agent_1_20\"/><circle cx=\"366\" cy=\"198\" r=\"12\" fill=\"rgb(255,255,255)\" class=\"agent_1_25\"/><circle cx=\"41\" cy=\"257\" r=\"7\" fill=\"rgb(255,255,255)\" class=\"agent_1_33\"/><circle cx=\"202\" cy=\"61\" r=\"7\" fill=\"rgb(255,255,255)\" class=\"agent_1_41\"/><circle cx=\"137\" cy=\"359\" r=\"11\" fill=\"rgb(255,255,255)\" class=\"agent_1_51\"/><circle cx=\"313\" cy=\"254\" r=\"12\" fill=\"rgb(255,255,255)\" class=\"agent_1_58\"/><circle cx=\"145\" cy=\"212\" r=\"9\" fill=\"rgb(255,0,0)\" class=\"agent_1_62\"/></svg></div>"
      ],
      "text/plain": [
       "<IPython.core.display.HTML object>"
      ]
     },
     "metadata": {},
     "output_type": "display_data"
    },
    {
     "name": "stdout",
     "output_type": "stream",
     "text": [
      "refs_true\n"
     ]
    },
    {
     "data": {
      "text/html": [
       "<div style=\"white-space: nowrap\"><svg viewbox='0 0 430 430' width=\"172\" height=\"172\" id=\"agent_1\"><circle cx=\"215\" cy=\"215\" r=\"205\" fill=\"none\" stroke=\"black\" stroke-width=\"2\" stroke-dasharray=\"3,3\"/><circle cx=\"322\" cy=\"169\" r=\"10\" fill=\"rgb(73,73,73)\"/><circle cx=\"366\" cy=\"198\" r=\"12\" fill=\"rgb(171,171,171)\"/><circle cx=\"41\" cy=\"257\" r=\"7\" fill=\"rgb(137,137,137)\"/><circle cx=\"202\" cy=\"61\" r=\"7\" fill=\"rgb(148,148,148)\"/><circle cx=\"137\" cy=\"359\" r=\"11\" fill=\"rgb(126,126,126)\"/><circle cx=\"313\" cy=\"254\" r=\"12\" fill=\"rgb(154,154,154)\"/><circle cx=\"145\" cy=\"212\" r=\"9\" fill=\"rgb(68,68,68)\"/></svg><svg viewBox='0 0 430 430' id=\"svg\" width=\"172\" height=\"172\"><circle cx=\"215\" cy=\"215\" r=\"205\" fill=\"none\" stroke=\"black\" stroke-width=\"2\" stroke-dasharray=\"3,3\"/> <circle cx=\"322\" cy=\"169\" r=\"10\" fill=\"rgb(255,255,255)\" class=\"agent_1_20\"/><circle cx=\"366\" cy=\"198\" r=\"12\" fill=\"rgb(255,255,255)\" class=\"agent_1_25\"/><circle cx=\"41\" cy=\"257\" r=\"7\" fill=\"rgb(255,255,255)\" class=\"agent_1_33\"/><circle cx=\"202\" cy=\"61\" r=\"7\" fill=\"rgb(255,255,255)\" class=\"agent_1_41\"/><circle cx=\"137\" cy=\"359\" r=\"11\" fill=\"rgb(255,255,255)\" class=\"agent_1_51\"/><circle cx=\"313\" cy=\"254\" r=\"12\" fill=\"rgb(255,255,255)\" class=\"agent_1_58\"/><circle cx=\"145\" cy=\"212\" r=\"9\" fill=\"rgb(255,0,0)\" class=\"agent_1_62\"/></svg></div>"
      ],
      "text/plain": [
       "<IPython.core.display.HTML object>"
      ]
     },
     "metadata": {},
     "output_type": "display_data"
    },
    {
     "name": "stdout",
     "output_type": "stream",
     "text": [
      "\n",
      "----------------------------------------\n",
      "\n",
      "sel_pred\n"
     ]
    },
    {
     "data": {
      "text/html": [
       "<div style=\"white-space: nowrap\"><svg viewbox='0 0 430 430' width=\"172\" height=\"172\" id=\"agent_1\"><circle cx=\"215\" cy=\"215\" r=\"205\" fill=\"none\" stroke=\"black\" stroke-width=\"2\" stroke-dasharray=\"3,3\"/><circle cx=\"322\" cy=\"169\" r=\"10\" fill=\"rgb(73,73,73)\"/><circle cx=\"366\" cy=\"198\" r=\"12\" fill=\"rgb(171,171,171)\"/><circle cx=\"41\" cy=\"257\" r=\"7\" fill=\"rgb(137,137,137)\"/><circle cx=\"202\" cy=\"61\" r=\"7\" fill=\"rgb(148,148,148)\"/><circle cx=\"137\" cy=\"359\" r=\"11\" fill=\"rgb(126,126,126)\"/><circle cx=\"313\" cy=\"254\" r=\"12\" fill=\"rgb(154,154,154)\"/><circle cx=\"145\" cy=\"212\" r=\"9\" fill=\"rgb(68,68,68)\"/></svg><svg viewBox='0 0 430 430' id=\"svg\" width=\"172\" height=\"172\"><circle cx=\"215\" cy=\"215\" r=\"205\" fill=\"none\" stroke=\"black\" stroke-width=\"2\" stroke-dasharray=\"3,3\"/> <circle cx=\"322\" cy=\"169\" r=\"10\" fill=\"rgb(255,169,169)\" class=\"agent_1_20\"/><circle cx=\"366\" cy=\"198\" r=\"12\" fill=\"rgb(255,254,254)\" class=\"agent_1_25\"/><circle cx=\"41\" cy=\"257\" r=\"7\" fill=\"rgb(255,254,254)\" class=\"agent_1_33\"/><circle cx=\"202\" cy=\"61\" r=\"7\" fill=\"rgb(255,254,254)\" class=\"agent_1_41\"/><circle cx=\"137\" cy=\"359\" r=\"11\" fill=\"rgb(255,254,254)\" class=\"agent_1_51\"/><circle cx=\"313\" cy=\"254\" r=\"12\" fill=\"rgb(255,254,254)\" class=\"agent_1_58\"/><circle cx=\"145\" cy=\"212\" r=\"9\" fill=\"rgb(255,68,68)\" class=\"agent_1_62\"/></svg></div>"
      ],
      "text/plain": [
       "<IPython.core.display.HTML object>"
      ]
     },
     "metadata": {},
     "output_type": "display_data"
    },
    {
     "name": "stdout",
     "output_type": "stream",
     "text": [
      "sel_true\n"
     ]
    },
    {
     "data": {
      "text/html": [
       "<div style=\"white-space: nowrap\"><svg viewbox='0 0 430 430' width=\"172\" height=\"172\" id=\"agent_1\"><circle cx=\"215\" cy=\"215\" r=\"205\" fill=\"none\" stroke=\"black\" stroke-width=\"2\" stroke-dasharray=\"3,3\"/><circle cx=\"322\" cy=\"169\" r=\"10\" fill=\"rgb(73,73,73)\"/><circle cx=\"366\" cy=\"198\" r=\"12\" fill=\"rgb(171,171,171)\"/><circle cx=\"41\" cy=\"257\" r=\"7\" fill=\"rgb(137,137,137)\"/><circle cx=\"202\" cy=\"61\" r=\"7\" fill=\"rgb(148,148,148)\"/><circle cx=\"137\" cy=\"359\" r=\"11\" fill=\"rgb(126,126,126)\"/><circle cx=\"313\" cy=\"254\" r=\"12\" fill=\"rgb(154,154,154)\"/><circle cx=\"145\" cy=\"212\" r=\"9\" fill=\"rgb(68,68,68)\"/></svg><svg viewBox='0 0 430 430' id=\"svg\" width=\"172\" height=\"172\"><circle cx=\"215\" cy=\"215\" r=\"205\" fill=\"none\" stroke=\"black\" stroke-width=\"2\" stroke-dasharray=\"3,3\"/> <circle cx=\"322\" cy=\"169\" r=\"10\" fill=\"rgb(255,255,255)\" class=\"agent_1_20\"/><circle cx=\"366\" cy=\"198\" r=\"12\" fill=\"rgb(255,255,255)\" class=\"agent_1_25\"/><circle cx=\"41\" cy=\"257\" r=\"7\" fill=\"rgb(255,255,255)\" class=\"agent_1_33\"/><circle cx=\"202\" cy=\"61\" r=\"7\" fill=\"rgb(255,255,255)\" class=\"agent_1_41\"/><circle cx=\"137\" cy=\"359\" r=\"11\" fill=\"rgb(255,255,255)\" class=\"agent_1_51\"/><circle cx=\"313\" cy=\"254\" r=\"12\" fill=\"rgb(255,255,255)\" class=\"agent_1_58\"/><circle cx=\"145\" cy=\"212\" r=\"9\" fill=\"rgb(255,0,0)\" class=\"agent_1_62\"/></svg></div>"
      ],
      "text/plain": [
       "<IPython.core.display.HTML object>"
      ]
     },
     "metadata": {},
     "output_type": "display_data"
    }
   ],
   "source": [
    "force_contexts_and_mentions(9, min_num_mentions=1, mention_marginals=True,\n",
    "                            ref_marginals=True, for_partner=False)"
   ]
  },
  {
   "cell_type": "code",
   "execution_count": 74,
   "metadata": {
    "scrolled": false
   },
   "outputs": [
    {
     "name": "stdout",
     "output_type": "stream",
     "text": [
      "scenario_id: S_E7MSFcjSEz7kyXfJ\n",
      "predicted is_selection probability\n",
      "tensor([0.0101], grad_fn=<SigmoidBackward>)\n",
      "is_selection: tensor([False])\n",
      "human\tTHEM: large black one with a very light smaller one to it 's upper right ? <eos>\n",
      "detected markables:\n",
      "{'start': 3, 'end': 18, 'is_self': True, 'text': 'large black one'}\n",
      "{'start': 24, 'end': 48, 'is_self': True, 'text': 'a very light smaller one'}\n",
      "{'start': 52, 'end': 57, 'is_self': True, 'text': \"it 's\"}\n",
      "partner_ref_marginal_probs\n"
     ]
    },
    {
     "data": {
      "text/html": [
       "<div style=\"white-space: nowrap\"><svg viewbox='0 0 430 430' width=\"172\" height=\"172\" id=\"agent_0\"><circle cx=\"215\" cy=\"215\" r=\"205\" fill=\"none\" stroke=\"black\" stroke-width=\"2\" stroke-dasharray=\"3,3\"/><circle cx=\"250\" cy=\"210\" r=\"8\" fill=\"rgb(195,195,195)\"/><circle cx=\"119\" cy=\"269\" r=\"11\" fill=\"rgb(92,92,92)\"/><circle cx=\"312\" cy=\"212\" r=\"9\" fill=\"rgb(156,156,156)\"/><circle cx=\"173\" cy=\"130\" r=\"11\" fill=\"rgb(196,196,196)\"/><circle cx=\"86\" cy=\"341\" r=\"10\" fill=\"rgb(177,177,177)\"/><circle cx=\"296\" cy=\"132\" r=\"9\" fill=\"rgb(140,140,140)\"/><circle cx=\"150\" cy=\"221\" r=\"9\" fill=\"rgb(189,189,189)\"/></svg><svg viewBox='0 0 430 430' id=\"svg\" width=\"172\" height=\"172\"><circle cx=\"215\" cy=\"215\" r=\"205\" fill=\"none\" stroke=\"black\" stroke-width=\"2\" stroke-dasharray=\"3,3\"/> <circle cx=\"250\" cy=\"210\" r=\"8\" fill=\"rgb(255,254,254)\" class=\"agent_0_7\"/><circle cx=\"119\" cy=\"269\" r=\"11\" fill=\"rgb(255,51,51)\" class=\"agent_0_9\"/><circle cx=\"312\" cy=\"212\" r=\"9\" fill=\"rgb(255,254,254)\" class=\"agent_0_32\"/><circle cx=\"173\" cy=\"130\" r=\"11\" fill=\"rgb(255,254,254)\" class=\"agent_0_35\"/><circle cx=\"86\" cy=\"341\" r=\"10\" fill=\"rgb(255,254,254)\" class=\"agent_0_58\"/><circle cx=\"296\" cy=\"132\" r=\"9\" fill=\"rgb(255,254,254)\" class=\"agent_0_70\"/><circle cx=\"150\" cy=\"221\" r=\"9\" fill=\"rgb(255,254,254)\" class=\"agent_0_76\"/></svg><svg viewBox='0 0 430 430' id=\"svg\" width=\"172\" height=\"172\"><circle cx=\"215\" cy=\"215\" r=\"205\" fill=\"none\" stroke=\"black\" stroke-width=\"2\" stroke-dasharray=\"3,3\"/> <circle cx=\"250\" cy=\"210\" r=\"8\" fill=\"rgb(255,146,146)\" class=\"agent_0_7\"/><circle cx=\"119\" cy=\"269\" r=\"11\" fill=\"rgb(255,254,254)\" class=\"agent_0_9\"/><circle cx=\"312\" cy=\"212\" r=\"9\" fill=\"rgb(255,251,251)\" class=\"agent_0_32\"/><circle cx=\"173\" cy=\"130\" r=\"11\" fill=\"rgb(255,243,243)\" class=\"agent_0_35\"/><circle cx=\"86\" cy=\"341\" r=\"10\" fill=\"rgb(255,246,246)\" class=\"agent_0_58\"/><circle cx=\"296\" cy=\"132\" r=\"9\" fill=\"rgb(255,254,254)\" class=\"agent_0_70\"/><circle cx=\"150\" cy=\"221\" r=\"9\" fill=\"rgb(255,142,142)\" class=\"agent_0_76\"/></svg><svg viewBox='0 0 430 430' id=\"svg\" width=\"172\" height=\"172\"><circle cx=\"215\" cy=\"215\" r=\"205\" fill=\"none\" stroke=\"black\" stroke-width=\"2\" stroke-dasharray=\"3,3\"/> <circle cx=\"250\" cy=\"210\" r=\"8\" fill=\"rgb(255,252,252)\" class=\"agent_0_7\"/><circle cx=\"119\" cy=\"269\" r=\"11\" fill=\"rgb(255,88,88)\" class=\"agent_0_9\"/><circle cx=\"312\" cy=\"212\" r=\"9\" fill=\"rgb(255,249,249)\" class=\"agent_0_32\"/><circle cx=\"173\" cy=\"130\" r=\"11\" fill=\"rgb(255,252,252)\" class=\"agent_0_35\"/><circle cx=\"86\" cy=\"341\" r=\"10\" fill=\"rgb(255,252,252)\" class=\"agent_0_58\"/><circle cx=\"296\" cy=\"132\" r=\"9\" fill=\"rgb(255,234,234)\" class=\"agent_0_70\"/><circle cx=\"150\" cy=\"221\" r=\"9\" fill=\"rgb(255,251,251)\" class=\"agent_0_76\"/></svg></div>"
      ],
      "text/plain": [
       "<IPython.core.display.HTML object>"
      ]
     },
     "metadata": {},
     "output_type": "display_data"
    },
    {
     "name": "stdout",
     "output_type": "stream",
     "text": [
      "partner_refs_pred\n"
     ]
    },
    {
     "data": {
      "text/html": [
       "<div style=\"white-space: nowrap\"><svg viewbox='0 0 430 430' width=\"172\" height=\"172\" id=\"agent_0\"><circle cx=\"215\" cy=\"215\" r=\"205\" fill=\"none\" stroke=\"black\" stroke-width=\"2\" stroke-dasharray=\"3,3\"/><circle cx=\"250\" cy=\"210\" r=\"8\" fill=\"rgb(195,195,195)\"/><circle cx=\"119\" cy=\"269\" r=\"11\" fill=\"rgb(92,92,92)\"/><circle cx=\"312\" cy=\"212\" r=\"9\" fill=\"rgb(156,156,156)\"/><circle cx=\"173\" cy=\"130\" r=\"11\" fill=\"rgb(196,196,196)\"/><circle cx=\"86\" cy=\"341\" r=\"10\" fill=\"rgb(177,177,177)\"/><circle cx=\"296\" cy=\"132\" r=\"9\" fill=\"rgb(140,140,140)\"/><circle cx=\"150\" cy=\"221\" r=\"9\" fill=\"rgb(189,189,189)\"/></svg><svg viewBox='0 0 430 430' id=\"svg\" width=\"172\" height=\"172\"><circle cx=\"215\" cy=\"215\" r=\"205\" fill=\"none\" stroke=\"black\" stroke-width=\"2\" stroke-dasharray=\"3,3\"/> <circle cx=\"250\" cy=\"210\" r=\"8\" fill=\"rgb(255,255,255)\" class=\"agent_0_7\"/><circle cx=\"119\" cy=\"269\" r=\"11\" fill=\"rgb(255,0,0)\" class=\"agent_0_9\"/><circle cx=\"312\" cy=\"212\" r=\"9\" fill=\"rgb(255,255,255)\" class=\"agent_0_32\"/><circle cx=\"173\" cy=\"130\" r=\"11\" fill=\"rgb(255,255,255)\" class=\"agent_0_35\"/><circle cx=\"86\" cy=\"341\" r=\"10\" fill=\"rgb(255,255,255)\" class=\"agent_0_58\"/><circle cx=\"296\" cy=\"132\" r=\"9\" fill=\"rgb(255,255,255)\" class=\"agent_0_70\"/><circle cx=\"150\" cy=\"221\" r=\"9\" fill=\"rgb(255,255,255)\" class=\"agent_0_76\"/></svg><svg viewBox='0 0 430 430' id=\"svg\" width=\"172\" height=\"172\"><circle cx=\"215\" cy=\"215\" r=\"205\" fill=\"none\" stroke=\"black\" stroke-width=\"2\" stroke-dasharray=\"3,3\"/> <circle cx=\"250\" cy=\"210\" r=\"8\" fill=\"rgb(255,255,255)\" class=\"agent_0_7\"/><circle cx=\"119\" cy=\"269\" r=\"11\" fill=\"rgb(255,255,255)\" class=\"agent_0_9\"/><circle cx=\"312\" cy=\"212\" r=\"9\" fill=\"rgb(255,255,255)\" class=\"agent_0_32\"/><circle cx=\"173\" cy=\"130\" r=\"11\" fill=\"rgb(255,255,255)\" class=\"agent_0_35\"/><circle cx=\"86\" cy=\"341\" r=\"10\" fill=\"rgb(255,255,255)\" class=\"agent_0_58\"/><circle cx=\"296\" cy=\"132\" r=\"9\" fill=\"rgb(255,255,255)\" class=\"agent_0_70\"/><circle cx=\"150\" cy=\"221\" r=\"9\" fill=\"rgb(255,0,0)\" class=\"agent_0_76\"/></svg><svg viewBox='0 0 430 430' id=\"svg\" width=\"172\" height=\"172\"><circle cx=\"215\" cy=\"215\" r=\"205\" fill=\"none\" stroke=\"black\" stroke-width=\"2\" stroke-dasharray=\"3,3\"/> <circle cx=\"250\" cy=\"210\" r=\"8\" fill=\"rgb(255,255,255)\" class=\"agent_0_7\"/><circle cx=\"119\" cy=\"269\" r=\"11\" fill=\"rgb(255,0,0)\" class=\"agent_0_9\"/><circle cx=\"312\" cy=\"212\" r=\"9\" fill=\"rgb(255,255,255)\" class=\"agent_0_32\"/><circle cx=\"173\" cy=\"130\" r=\"11\" fill=\"rgb(255,255,255)\" class=\"agent_0_35\"/><circle cx=\"86\" cy=\"341\" r=\"10\" fill=\"rgb(255,255,255)\" class=\"agent_0_58\"/><circle cx=\"296\" cy=\"132\" r=\"9\" fill=\"rgb(255,255,255)\" class=\"agent_0_70\"/><circle cx=\"150\" cy=\"221\" r=\"9\" fill=\"rgb(255,255,255)\" class=\"agent_0_76\"/></svg></div>"
      ],
      "text/plain": [
       "<IPython.core.display.HTML object>"
      ]
     },
     "metadata": {},
     "output_type": "display_data"
    },
    {
     "name": "stdout",
     "output_type": "stream",
     "text": [
      "partner_refs_true\n"
     ]
    },
    {
     "data": {
      "text/html": [
       "<div style=\"white-space: nowrap\"><svg viewbox='0 0 430 430' width=\"172\" height=\"172\" id=\"agent_0\"><circle cx=\"215\" cy=\"215\" r=\"205\" fill=\"none\" stroke=\"black\" stroke-width=\"2\" stroke-dasharray=\"3,3\"/><circle cx=\"250\" cy=\"210\" r=\"8\" fill=\"rgb(195,195,195)\"/><circle cx=\"119\" cy=\"269\" r=\"11\" fill=\"rgb(92,92,92)\"/><circle cx=\"312\" cy=\"212\" r=\"9\" fill=\"rgb(156,156,156)\"/><circle cx=\"173\" cy=\"130\" r=\"11\" fill=\"rgb(196,196,196)\"/><circle cx=\"86\" cy=\"341\" r=\"10\" fill=\"rgb(177,177,177)\"/><circle cx=\"296\" cy=\"132\" r=\"9\" fill=\"rgb(140,140,140)\"/><circle cx=\"150\" cy=\"221\" r=\"9\" fill=\"rgb(189,189,189)\"/></svg><svg viewBox='0 0 430 430' id=\"svg\" width=\"172\" height=\"172\"><circle cx=\"215\" cy=\"215\" r=\"205\" fill=\"none\" stroke=\"black\" stroke-width=\"2\" stroke-dasharray=\"3,3\"/> <circle cx=\"250\" cy=\"210\" r=\"8\" fill=\"rgb(255,255,255)\" class=\"agent_0_7\"/><circle cx=\"119\" cy=\"269\" r=\"11\" fill=\"rgb(255,0,0)\" class=\"agent_0_9\"/><circle cx=\"312\" cy=\"212\" r=\"9\" fill=\"rgb(255,255,255)\" class=\"agent_0_32\"/><circle cx=\"173\" cy=\"130\" r=\"11\" fill=\"rgb(255,255,255)\" class=\"agent_0_35\"/><circle cx=\"86\" cy=\"341\" r=\"10\" fill=\"rgb(255,255,255)\" class=\"agent_0_58\"/><circle cx=\"296\" cy=\"132\" r=\"9\" fill=\"rgb(255,255,255)\" class=\"agent_0_70\"/><circle cx=\"150\" cy=\"221\" r=\"9\" fill=\"rgb(255,255,255)\" class=\"agent_0_76\"/></svg><svg viewBox='0 0 430 430' id=\"svg\" width=\"172\" height=\"172\"><circle cx=\"215\" cy=\"215\" r=\"205\" fill=\"none\" stroke=\"black\" stroke-width=\"2\" stroke-dasharray=\"3,3\"/> <circle cx=\"250\" cy=\"210\" r=\"8\" fill=\"rgb(255,255,255)\" class=\"agent_0_7\"/><circle cx=\"119\" cy=\"269\" r=\"11\" fill=\"rgb(255,255,255)\" class=\"agent_0_9\"/><circle cx=\"312\" cy=\"212\" r=\"9\" fill=\"rgb(255,255,255)\" class=\"agent_0_32\"/><circle cx=\"173\" cy=\"130\" r=\"11\" fill=\"rgb(255,255,255)\" class=\"agent_0_35\"/><circle cx=\"86\" cy=\"341\" r=\"10\" fill=\"rgb(255,255,255)\" class=\"agent_0_58\"/><circle cx=\"296\" cy=\"132\" r=\"9\" fill=\"rgb(255,255,255)\" class=\"agent_0_70\"/><circle cx=\"150\" cy=\"221\" r=\"9\" fill=\"rgb(255,0,0)\" class=\"agent_0_76\"/></svg><svg viewBox='0 0 430 430' id=\"svg\" width=\"172\" height=\"172\"><circle cx=\"215\" cy=\"215\" r=\"205\" fill=\"none\" stroke=\"black\" stroke-width=\"2\" stroke-dasharray=\"3,3\"/> <circle cx=\"250\" cy=\"210\" r=\"8\" fill=\"rgb(255,255,255)\" class=\"agent_0_7\"/><circle cx=\"119\" cy=\"269\" r=\"11\" fill=\"rgb(255,0,0)\" class=\"agent_0_9\"/><circle cx=\"312\" cy=\"212\" r=\"9\" fill=\"rgb(255,255,255)\" class=\"agent_0_32\"/><circle cx=\"173\" cy=\"130\" r=\"11\" fill=\"rgb(255,255,255)\" class=\"agent_0_35\"/><circle cx=\"86\" cy=\"341\" r=\"10\" fill=\"rgb(255,255,255)\" class=\"agent_0_58\"/><circle cx=\"296\" cy=\"132\" r=\"9\" fill=\"rgb(255,255,255)\" class=\"agent_0_70\"/><circle cx=\"150\" cy=\"221\" r=\"9\" fill=\"rgb(255,255,255)\" class=\"agent_0_76\"/></svg></div>"
      ],
      "text/plain": [
       "<IPython.core.display.HTML object>"
      ]
     },
     "metadata": {},
     "output_type": "display_data"
    },
    {
     "name": "stdout",
     "output_type": "stream",
     "text": [
      "partner_ref_true (their view)\n"
     ]
    },
    {
     "data": {
      "text/html": [
       "<div style=\"white-space: nowrap\"><svg viewbox='0 0 430 430' width=\"172\" height=\"172\" id=\"agent_1\"><circle cx=\"215\" cy=\"215\" r=\"205\" fill=\"none\" stroke=\"black\" stroke-width=\"2\" stroke-dasharray=\"3,3\"/><circle cx=\"207\" cy=\"88\" r=\"8\" fill=\"rgb(195,195,195)\"/><circle cx=\"76\" cy=\"148\" r=\"11\" fill=\"rgb(92,92,92)\"/><circle cx=\"70\" cy=\"314\" r=\"8\" fill=\"rgb(97,97,97)\"/><circle cx=\"269\" cy=\"91\" r=\"9\" fill=\"rgb(156,156,156)\"/><circle cx=\"223\" cy=\"298\" r=\"7\" fill=\"rgb(53,53,53)\"/><circle cx=\"43\" cy=\"219\" r=\"10\" fill=\"rgb(177,177,177)\"/><circle cx=\"108\" cy=\"99\" r=\"9\" fill=\"rgb(189,189,189)\"/></svg><svg viewBox='0 0 430 430' id=\"svg\" width=\"172\" height=\"172\"><circle cx=\"215\" cy=\"215\" r=\"205\" fill=\"none\" stroke=\"black\" stroke-width=\"2\" stroke-dasharray=\"3,3\"/> <circle cx=\"207\" cy=\"88\" r=\"8\" fill=\"rgb(255,255,255)\" class=\"agent_1_7\"/><circle cx=\"76\" cy=\"148\" r=\"11\" fill=\"rgb(255,0,0)\" class=\"agent_1_9\"/><circle cx=\"70\" cy=\"314\" r=\"8\" fill=\"rgb(255,255,255)\" class=\"agent_1_22\"/><circle cx=\"269\" cy=\"91\" r=\"9\" fill=\"rgb(255,255,255)\" class=\"agent_1_32\"/><circle cx=\"223\" cy=\"298\" r=\"7\" fill=\"rgb(255,255,255)\" class=\"agent_1_49\"/><circle cx=\"43\" cy=\"219\" r=\"10\" fill=\"rgb(255,255,255)\" class=\"agent_1_58\"/><circle cx=\"108\" cy=\"99\" r=\"9\" fill=\"rgb(255,255,255)\" class=\"agent_1_76\"/></svg><svg viewBox='0 0 430 430' id=\"svg\" width=\"172\" height=\"172\"><circle cx=\"215\" cy=\"215\" r=\"205\" fill=\"none\" stroke=\"black\" stroke-width=\"2\" stroke-dasharray=\"3,3\"/> <circle cx=\"207\" cy=\"88\" r=\"8\" fill=\"rgb(255,255,255)\" class=\"agent_1_7\"/><circle cx=\"76\" cy=\"148\" r=\"11\" fill=\"rgb(255,255,255)\" class=\"agent_1_9\"/><circle cx=\"70\" cy=\"314\" r=\"8\" fill=\"rgb(255,255,255)\" class=\"agent_1_22\"/><circle cx=\"269\" cy=\"91\" r=\"9\" fill=\"rgb(255,255,255)\" class=\"agent_1_32\"/><circle cx=\"223\" cy=\"298\" r=\"7\" fill=\"rgb(255,255,255)\" class=\"agent_1_49\"/><circle cx=\"43\" cy=\"219\" r=\"10\" fill=\"rgb(255,255,255)\" class=\"agent_1_58\"/><circle cx=\"108\" cy=\"99\" r=\"9\" fill=\"rgb(255,0,0)\" class=\"agent_1_76\"/></svg><svg viewBox='0 0 430 430' id=\"svg\" width=\"172\" height=\"172\"><circle cx=\"215\" cy=\"215\" r=\"205\" fill=\"none\" stroke=\"black\" stroke-width=\"2\" stroke-dasharray=\"3,3\"/> <circle cx=\"207\" cy=\"88\" r=\"8\" fill=\"rgb(255,255,255)\" class=\"agent_1_7\"/><circle cx=\"76\" cy=\"148\" r=\"11\" fill=\"rgb(255,0,0)\" class=\"agent_1_9\"/><circle cx=\"70\" cy=\"314\" r=\"8\" fill=\"rgb(255,255,255)\" class=\"agent_1_22\"/><circle cx=\"269\" cy=\"91\" r=\"9\" fill=\"rgb(255,255,255)\" class=\"agent_1_32\"/><circle cx=\"223\" cy=\"298\" r=\"7\" fill=\"rgb(255,255,255)\" class=\"agent_1_49\"/><circle cx=\"43\" cy=\"219\" r=\"10\" fill=\"rgb(255,255,255)\" class=\"agent_1_58\"/><circle cx=\"108\" cy=\"99\" r=\"9\" fill=\"rgb(255,255,255)\" class=\"agent_1_76\"/></svg></div>"
      ],
      "text/plain": [
       "<IPython.core.display.HTML object>"
      ]
     },
     "metadata": {},
     "output_type": "display_data"
    },
    {
     "name": "stdout",
     "output_type": "stream",
     "text": [
      "\n",
      "----------------------------------------\n",
      "\n",
      "to_mention_marginals\n"
     ]
    },
    {
     "data": {
      "text/html": [
       "<div style=\"white-space: nowrap\"><svg viewbox='0 0 430 430' width=\"172\" height=\"172\" id=\"agent_0\"><circle cx=\"215\" cy=\"215\" r=\"205\" fill=\"none\" stroke=\"black\" stroke-width=\"2\" stroke-dasharray=\"3,3\"/><circle cx=\"250\" cy=\"210\" r=\"8\" fill=\"rgb(195,195,195)\"/><circle cx=\"119\" cy=\"269\" r=\"11\" fill=\"rgb(92,92,92)\"/><circle cx=\"312\" cy=\"212\" r=\"9\" fill=\"rgb(156,156,156)\"/><circle cx=\"173\" cy=\"130\" r=\"11\" fill=\"rgb(196,196,196)\"/><circle cx=\"86\" cy=\"341\" r=\"10\" fill=\"rgb(177,177,177)\"/><circle cx=\"296\" cy=\"132\" r=\"9\" fill=\"rgb(140,140,140)\"/><circle cx=\"150\" cy=\"221\" r=\"9\" fill=\"rgb(189,189,189)\"/></svg><svg viewBox='0 0 430 430' id=\"svg\" width=\"172\" height=\"172\"><circle cx=\"215\" cy=\"215\" r=\"205\" fill=\"none\" stroke=\"black\" stroke-width=\"2\" stroke-dasharray=\"3,3\"/> <circle cx=\"250\" cy=\"210\" r=\"8\" fill=\"rgb(255,218,218)\" class=\"agent_0_7\"/><circle cx=\"119\" cy=\"269\" r=\"11\" fill=\"rgb(255,140,140)\" class=\"agent_0_9\"/><circle cx=\"312\" cy=\"212\" r=\"9\" fill=\"rgb(255,234,234)\" class=\"agent_0_32\"/><circle cx=\"173\" cy=\"130\" r=\"11\" fill=\"rgb(255,224,224)\" class=\"agent_0_35\"/><circle cx=\"86\" cy=\"341\" r=\"10\" fill=\"rgb(255,227,227)\" class=\"agent_0_58\"/><circle cx=\"296\" cy=\"132\" r=\"9\" fill=\"rgb(255,236,236)\" class=\"agent_0_70\"/><circle cx=\"150\" cy=\"221\" r=\"9\" fill=\"rgb(255,211,211)\" class=\"agent_0_76\"/></svg><svg viewBox='0 0 430 430' id=\"svg\" width=\"172\" height=\"172\"><circle cx=\"215\" cy=\"215\" r=\"205\" fill=\"none\" stroke=\"black\" stroke-width=\"2\" stroke-dasharray=\"3,3\"/> <circle cx=\"250\" cy=\"210\" r=\"8\" fill=\"rgb(255,211,211)\" class=\"agent_0_7\"/><circle cx=\"119\" cy=\"269\" r=\"11\" fill=\"rgb(255,165,165)\" class=\"agent_0_9\"/><circle cx=\"312\" cy=\"212\" r=\"9\" fill=\"rgb(255,228,228)\" class=\"agent_0_32\"/><circle cx=\"173\" cy=\"130\" r=\"11\" fill=\"rgb(255,218,218)\" class=\"agent_0_35\"/><circle cx=\"86\" cy=\"341\" r=\"10\" fill=\"rgb(255,229,229)\" class=\"agent_0_58\"/><circle cx=\"296\" cy=\"132\" r=\"9\" fill=\"rgb(255,228,228)\" class=\"agent_0_70\"/><circle cx=\"150\" cy=\"221\" r=\"9\" fill=\"rgb(255,208,208)\" class=\"agent_0_76\"/></svg><svg viewBox='0 0 430 430' id=\"svg\" width=\"172\" height=\"172\"><circle cx=\"215\" cy=\"215\" r=\"205\" fill=\"none\" stroke=\"black\" stroke-width=\"2\" stroke-dasharray=\"3,3\"/> <circle cx=\"250\" cy=\"210\" r=\"8\" fill=\"rgb(255,210,210)\" class=\"agent_0_7\"/><circle cx=\"119\" cy=\"269\" r=\"11\" fill=\"rgb(255,169,169)\" class=\"agent_0_9\"/><circle cx=\"312\" cy=\"212\" r=\"9\" fill=\"rgb(255,227,227)\" class=\"agent_0_32\"/><circle cx=\"173\" cy=\"130\" r=\"11\" fill=\"rgb(255,220,220)\" class=\"agent_0_35\"/><circle cx=\"86\" cy=\"341\" r=\"10\" fill=\"rgb(255,230,230)\" class=\"agent_0_58\"/><circle cx=\"296\" cy=\"132\" r=\"9\" fill=\"rgb(255,227,227)\" class=\"agent_0_70\"/><circle cx=\"150\" cy=\"221\" r=\"9\" fill=\"rgb(255,210,210)\" class=\"agent_0_76\"/></svg></div>"
      ],
      "text/plain": [
       "<IPython.core.display.HTML object>"
      ]
     },
     "metadata": {},
     "output_type": "display_data"
    },
    {
     "name": "stdout",
     "output_type": "stream",
     "text": [
      "to_mention_pred\n"
     ]
    },
    {
     "data": {
      "text/html": [
       "<div style=\"white-space: nowrap\"><svg viewbox='0 0 430 430' width=\"172\" height=\"172\" id=\"agent_0\"><circle cx=\"215\" cy=\"215\" r=\"205\" fill=\"none\" stroke=\"black\" stroke-width=\"2\" stroke-dasharray=\"3,3\"/><circle cx=\"250\" cy=\"210\" r=\"8\" fill=\"rgb(195,195,195)\"/><circle cx=\"119\" cy=\"269\" r=\"11\" fill=\"rgb(92,92,92)\"/><circle cx=\"312\" cy=\"212\" r=\"9\" fill=\"rgb(156,156,156)\"/><circle cx=\"173\" cy=\"130\" r=\"11\" fill=\"rgb(196,196,196)\"/><circle cx=\"86\" cy=\"341\" r=\"10\" fill=\"rgb(177,177,177)\"/><circle cx=\"296\" cy=\"132\" r=\"9\" fill=\"rgb(140,140,140)\"/><circle cx=\"150\" cy=\"221\" r=\"9\" fill=\"rgb(189,189,189)\"/></svg><svg viewBox='0 0 430 430' id=\"svg\" width=\"172\" height=\"172\"><circle cx=\"215\" cy=\"215\" r=\"205\" fill=\"none\" stroke=\"black\" stroke-width=\"2\" stroke-dasharray=\"3,3\"/> <circle cx=\"250\" cy=\"210\" r=\"8\" fill=\"rgb(255,255,255)\" class=\"agent_0_7\"/><circle cx=\"119\" cy=\"269\" r=\"11\" fill=\"rgb(255,0,0)\" class=\"agent_0_9\"/><circle cx=\"312\" cy=\"212\" r=\"9\" fill=\"rgb(255,255,255)\" class=\"agent_0_32\"/><circle cx=\"173\" cy=\"130\" r=\"11\" fill=\"rgb(255,255,255)\" class=\"agent_0_35\"/><circle cx=\"86\" cy=\"341\" r=\"10\" fill=\"rgb(255,255,255)\" class=\"agent_0_58\"/><circle cx=\"296\" cy=\"132\" r=\"9\" fill=\"rgb(255,255,255)\" class=\"agent_0_70\"/><circle cx=\"150\" cy=\"221\" r=\"9\" fill=\"rgb(255,255,255)\" class=\"agent_0_76\"/></svg><svg viewBox='0 0 430 430' id=\"svg\" width=\"172\" height=\"172\"><circle cx=\"215\" cy=\"215\" r=\"205\" fill=\"none\" stroke=\"black\" stroke-width=\"2\" stroke-dasharray=\"3,3\"/> <circle cx=\"250\" cy=\"210\" r=\"8\" fill=\"rgb(255,255,255)\" class=\"agent_0_7\"/><circle cx=\"119\" cy=\"269\" r=\"11\" fill=\"rgb(255,255,255)\" class=\"agent_0_9\"/><circle cx=\"312\" cy=\"212\" r=\"9\" fill=\"rgb(255,255,255)\" class=\"agent_0_32\"/><circle cx=\"173\" cy=\"130\" r=\"11\" fill=\"rgb(255,255,255)\" class=\"agent_0_35\"/><circle cx=\"86\" cy=\"341\" r=\"10\" fill=\"rgb(255,255,255)\" class=\"agent_0_58\"/><circle cx=\"296\" cy=\"132\" r=\"9\" fill=\"rgb(255,255,255)\" class=\"agent_0_70\"/><circle cx=\"150\" cy=\"221\" r=\"9\" fill=\"rgb(255,0,0)\" class=\"agent_0_76\"/></svg><svg viewBox='0 0 430 430' id=\"svg\" width=\"172\" height=\"172\"><circle cx=\"215\" cy=\"215\" r=\"205\" fill=\"none\" stroke=\"black\" stroke-width=\"2\" stroke-dasharray=\"3,3\"/> <circle cx=\"250\" cy=\"210\" r=\"8\" fill=\"rgb(255,255,255)\" class=\"agent_0_7\"/><circle cx=\"119\" cy=\"269\" r=\"11\" fill=\"rgb(255,0,0)\" class=\"agent_0_9\"/><circle cx=\"312\" cy=\"212\" r=\"9\" fill=\"rgb(255,255,255)\" class=\"agent_0_32\"/><circle cx=\"173\" cy=\"130\" r=\"11\" fill=\"rgb(255,255,255)\" class=\"agent_0_35\"/><circle cx=\"86\" cy=\"341\" r=\"10\" fill=\"rgb(255,255,255)\" class=\"agent_0_58\"/><circle cx=\"296\" cy=\"132\" r=\"9\" fill=\"rgb(255,255,255)\" class=\"agent_0_70\"/><circle cx=\"150\" cy=\"221\" r=\"9\" fill=\"rgb(255,255,255)\" class=\"agent_0_76\"/></svg></div>"
      ],
      "text/plain": [
       "<IPython.core.display.HTML object>"
      ]
     },
     "metadata": {},
     "output_type": "display_data"
    },
    {
     "name": "stdout",
     "output_type": "stream",
     "text": [
      "to_mention_true\n"
     ]
    },
    {
     "data": {
      "text/html": [
       "<div style=\"white-space: nowrap\"><svg viewbox='0 0 430 430' width=\"172\" height=\"172\" id=\"agent_0\"><circle cx=\"215\" cy=\"215\" r=\"205\" fill=\"none\" stroke=\"black\" stroke-width=\"2\" stroke-dasharray=\"3,3\"/><circle cx=\"250\" cy=\"210\" r=\"8\" fill=\"rgb(195,195,195)\"/><circle cx=\"119\" cy=\"269\" r=\"11\" fill=\"rgb(92,92,92)\"/><circle cx=\"312\" cy=\"212\" r=\"9\" fill=\"rgb(156,156,156)\"/><circle cx=\"173\" cy=\"130\" r=\"11\" fill=\"rgb(196,196,196)\"/><circle cx=\"86\" cy=\"341\" r=\"10\" fill=\"rgb(177,177,177)\"/><circle cx=\"296\" cy=\"132\" r=\"9\" fill=\"rgb(140,140,140)\"/><circle cx=\"150\" cy=\"221\" r=\"9\" fill=\"rgb(189,189,189)\"/></svg><svg viewBox='0 0 430 430' id=\"svg\" width=\"172\" height=\"172\"><circle cx=\"215\" cy=\"215\" r=\"205\" fill=\"none\" stroke=\"black\" stroke-width=\"2\" stroke-dasharray=\"3,3\"/> <circle cx=\"250\" cy=\"210\" r=\"8\" fill=\"rgb(255,255,255)\" class=\"agent_0_7\"/><circle cx=\"119\" cy=\"269\" r=\"11\" fill=\"rgb(255,0,0)\" class=\"agent_0_9\"/><circle cx=\"312\" cy=\"212\" r=\"9\" fill=\"rgb(255,255,255)\" class=\"agent_0_32\"/><circle cx=\"173\" cy=\"130\" r=\"11\" fill=\"rgb(255,255,255)\" class=\"agent_0_35\"/><circle cx=\"86\" cy=\"341\" r=\"10\" fill=\"rgb(255,255,255)\" class=\"agent_0_58\"/><circle cx=\"296\" cy=\"132\" r=\"9\" fill=\"rgb(255,255,255)\" class=\"agent_0_70\"/><circle cx=\"150\" cy=\"221\" r=\"9\" fill=\"rgb(255,255,255)\" class=\"agent_0_76\"/></svg></div>"
      ],
      "text/plain": [
       "<IPython.core.display.HTML object>"
      ]
     },
     "metadata": {},
     "output_type": "display_data"
    },
    {
     "name": "stdout",
     "output_type": "stream",
     "text": [
      "predicted is_selection probability\n",
      "tensor([0.0484], grad_fn=<SigmoidBackward>)\n",
      "is_selection: tensor([True])\n",
      "beam 0\tyes , let 's pick the black one <eos>\n",
      "greedy\tyes , let 's pick the black one <eos>\n",
      "human\tyes good description ! click the dark one ! <selection>\n",
      "detected markables:\n",
      "{'start': 32, 'end': 44, 'is_self': True, 'text': 'the dark one'}\n",
      "ref_marginal_probs\n"
     ]
    },
    {
     "data": {
      "text/html": [
       "<div style=\"white-space: nowrap\"><svg viewbox='0 0 430 430' width=\"172\" height=\"172\" id=\"agent_0\"><circle cx=\"215\" cy=\"215\" r=\"205\" fill=\"none\" stroke=\"black\" stroke-width=\"2\" stroke-dasharray=\"3,3\"/><circle cx=\"250\" cy=\"210\" r=\"8\" fill=\"rgb(195,195,195)\"/><circle cx=\"119\" cy=\"269\" r=\"11\" fill=\"rgb(92,92,92)\"/><circle cx=\"312\" cy=\"212\" r=\"9\" fill=\"rgb(156,156,156)\"/><circle cx=\"173\" cy=\"130\" r=\"11\" fill=\"rgb(196,196,196)\"/><circle cx=\"86\" cy=\"341\" r=\"10\" fill=\"rgb(177,177,177)\"/><circle cx=\"296\" cy=\"132\" r=\"9\" fill=\"rgb(140,140,140)\"/><circle cx=\"150\" cy=\"221\" r=\"9\" fill=\"rgb(189,189,189)\"/></svg><svg viewBox='0 0 430 430' id=\"svg\" width=\"172\" height=\"172\"><circle cx=\"215\" cy=\"215\" r=\"205\" fill=\"none\" stroke=\"black\" stroke-width=\"2\" stroke-dasharray=\"3,3\"/> <circle cx=\"250\" cy=\"210\" r=\"8\" fill=\"rgb(255,254,254)\" class=\"agent_0_7\"/><circle cx=\"119\" cy=\"269\" r=\"11\" fill=\"rgb(255,0,0)\" class=\"agent_0_9\"/><circle cx=\"312\" cy=\"212\" r=\"9\" fill=\"rgb(255,254,254)\" class=\"agent_0_32\"/><circle cx=\"173\" cy=\"130\" r=\"11\" fill=\"rgb(255,254,254)\" class=\"agent_0_35\"/><circle cx=\"86\" cy=\"341\" r=\"10\" fill=\"rgb(255,254,254)\" class=\"agent_0_58\"/><circle cx=\"296\" cy=\"132\" r=\"9\" fill=\"rgb(255,254,254)\" class=\"agent_0_70\"/><circle cx=\"150\" cy=\"221\" r=\"9\" fill=\"rgb(255,254,254)\" class=\"agent_0_76\"/></svg></div>"
      ],
      "text/plain": [
       "<IPython.core.display.HTML object>"
      ]
     },
     "metadata": {},
     "output_type": "display_data"
    },
    {
     "name": "stdout",
     "output_type": "stream",
     "text": [
      "refs_pred\n"
     ]
    },
    {
     "data": {
      "text/html": [
       "<div style=\"white-space: nowrap\"><svg viewbox='0 0 430 430' width=\"172\" height=\"172\" id=\"agent_0\"><circle cx=\"215\" cy=\"215\" r=\"205\" fill=\"none\" stroke=\"black\" stroke-width=\"2\" stroke-dasharray=\"3,3\"/><circle cx=\"250\" cy=\"210\" r=\"8\" fill=\"rgb(195,195,195)\"/><circle cx=\"119\" cy=\"269\" r=\"11\" fill=\"rgb(92,92,92)\"/><circle cx=\"312\" cy=\"212\" r=\"9\" fill=\"rgb(156,156,156)\"/><circle cx=\"173\" cy=\"130\" r=\"11\" fill=\"rgb(196,196,196)\"/><circle cx=\"86\" cy=\"341\" r=\"10\" fill=\"rgb(177,177,177)\"/><circle cx=\"296\" cy=\"132\" r=\"9\" fill=\"rgb(140,140,140)\"/><circle cx=\"150\" cy=\"221\" r=\"9\" fill=\"rgb(189,189,189)\"/></svg><svg viewBox='0 0 430 430' id=\"svg\" width=\"172\" height=\"172\"><circle cx=\"215\" cy=\"215\" r=\"205\" fill=\"none\" stroke=\"black\" stroke-width=\"2\" stroke-dasharray=\"3,3\"/> <circle cx=\"250\" cy=\"210\" r=\"8\" fill=\"rgb(255,255,255)\" class=\"agent_0_7\"/><circle cx=\"119\" cy=\"269\" r=\"11\" fill=\"rgb(255,0,0)\" class=\"agent_0_9\"/><circle cx=\"312\" cy=\"212\" r=\"9\" fill=\"rgb(255,255,255)\" class=\"agent_0_32\"/><circle cx=\"173\" cy=\"130\" r=\"11\" fill=\"rgb(255,255,255)\" class=\"agent_0_35\"/><circle cx=\"86\" cy=\"341\" r=\"10\" fill=\"rgb(255,255,255)\" class=\"agent_0_58\"/><circle cx=\"296\" cy=\"132\" r=\"9\" fill=\"rgb(255,255,255)\" class=\"agent_0_70\"/><circle cx=\"150\" cy=\"221\" r=\"9\" fill=\"rgb(255,255,255)\" class=\"agent_0_76\"/></svg></div>"
      ],
      "text/plain": [
       "<IPython.core.display.HTML object>"
      ]
     },
     "metadata": {},
     "output_type": "display_data"
    },
    {
     "name": "stdout",
     "output_type": "stream",
     "text": [
      "refs_true\n"
     ]
    },
    {
     "data": {
      "text/html": [
       "<div style=\"white-space: nowrap\"><svg viewbox='0 0 430 430' width=\"172\" height=\"172\" id=\"agent_0\"><circle cx=\"215\" cy=\"215\" r=\"205\" fill=\"none\" stroke=\"black\" stroke-width=\"2\" stroke-dasharray=\"3,3\"/><circle cx=\"250\" cy=\"210\" r=\"8\" fill=\"rgb(195,195,195)\"/><circle cx=\"119\" cy=\"269\" r=\"11\" fill=\"rgb(92,92,92)\"/><circle cx=\"312\" cy=\"212\" r=\"9\" fill=\"rgb(156,156,156)\"/><circle cx=\"173\" cy=\"130\" r=\"11\" fill=\"rgb(196,196,196)\"/><circle cx=\"86\" cy=\"341\" r=\"10\" fill=\"rgb(177,177,177)\"/><circle cx=\"296\" cy=\"132\" r=\"9\" fill=\"rgb(140,140,140)\"/><circle cx=\"150\" cy=\"221\" r=\"9\" fill=\"rgb(189,189,189)\"/></svg><svg viewBox='0 0 430 430' id=\"svg\" width=\"172\" height=\"172\"><circle cx=\"215\" cy=\"215\" r=\"205\" fill=\"none\" stroke=\"black\" stroke-width=\"2\" stroke-dasharray=\"3,3\"/> <circle cx=\"250\" cy=\"210\" r=\"8\" fill=\"rgb(255,255,255)\" class=\"agent_0_7\"/><circle cx=\"119\" cy=\"269\" r=\"11\" fill=\"rgb(255,0,0)\" class=\"agent_0_9\"/><circle cx=\"312\" cy=\"212\" r=\"9\" fill=\"rgb(255,255,255)\" class=\"agent_0_32\"/><circle cx=\"173\" cy=\"130\" r=\"11\" fill=\"rgb(255,255,255)\" class=\"agent_0_35\"/><circle cx=\"86\" cy=\"341\" r=\"10\" fill=\"rgb(255,255,255)\" class=\"agent_0_58\"/><circle cx=\"296\" cy=\"132\" r=\"9\" fill=\"rgb(255,255,255)\" class=\"agent_0_70\"/><circle cx=\"150\" cy=\"221\" r=\"9\" fill=\"rgb(255,255,255)\" class=\"agent_0_76\"/></svg></div>"
      ],
      "text/plain": [
       "<IPython.core.display.HTML object>"
      ]
     },
     "metadata": {},
     "output_type": "display_data"
    },
    {
     "name": "stdout",
     "output_type": "stream",
     "text": [
      "\n",
      "----------------------------------------\n",
      "\n",
      "sel_pred\n"
     ]
    },
    {
     "data": {
      "text/html": [
       "<div style=\"white-space: nowrap\"><svg viewbox='0 0 430 430' width=\"172\" height=\"172\" id=\"agent_0\"><circle cx=\"215\" cy=\"215\" r=\"205\" fill=\"none\" stroke=\"black\" stroke-width=\"2\" stroke-dasharray=\"3,3\"/><circle cx=\"250\" cy=\"210\" r=\"8\" fill=\"rgb(195,195,195)\"/><circle cx=\"119\" cy=\"269\" r=\"11\" fill=\"rgb(92,92,92)\"/><circle cx=\"312\" cy=\"212\" r=\"9\" fill=\"rgb(156,156,156)\"/><circle cx=\"173\" cy=\"130\" r=\"11\" fill=\"rgb(196,196,196)\"/><circle cx=\"86\" cy=\"341\" r=\"10\" fill=\"rgb(177,177,177)\"/><circle cx=\"296\" cy=\"132\" r=\"9\" fill=\"rgb(140,140,140)\"/><circle cx=\"150\" cy=\"221\" r=\"9\" fill=\"rgb(189,189,189)\"/></svg><svg viewBox='0 0 430 430' id=\"svg\" width=\"172\" height=\"172\"><circle cx=\"215\" cy=\"215\" r=\"205\" fill=\"none\" stroke=\"black\" stroke-width=\"2\" stroke-dasharray=\"3,3\"/> <circle cx=\"250\" cy=\"210\" r=\"8\" fill=\"rgb(255,254,254)\" class=\"agent_0_7\"/><circle cx=\"119\" cy=\"269\" r=\"11\" fill=\"rgb(255,61,61)\" class=\"agent_0_9\"/><circle cx=\"312\" cy=\"212\" r=\"9\" fill=\"rgb(255,254,254)\" class=\"agent_0_32\"/><circle cx=\"173\" cy=\"130\" r=\"11\" fill=\"rgb(255,254,254)\" class=\"agent_0_35\"/><circle cx=\"86\" cy=\"341\" r=\"10\" fill=\"rgb(255,254,254)\" class=\"agent_0_58\"/><circle cx=\"296\" cy=\"132\" r=\"9\" fill=\"rgb(255,254,254)\" class=\"agent_0_70\"/><circle cx=\"150\" cy=\"221\" r=\"9\" fill=\"rgb(255,254,254)\" class=\"agent_0_76\"/></svg></div>"
      ],
      "text/plain": [
       "<IPython.core.display.HTML object>"
      ]
     },
     "metadata": {},
     "output_type": "display_data"
    },
    {
     "name": "stdout",
     "output_type": "stream",
     "text": [
      "sel_true\n"
     ]
    },
    {
     "data": {
      "text/html": [
       "<div style=\"white-space: nowrap\"><svg viewbox='0 0 430 430' width=\"172\" height=\"172\" id=\"agent_0\"><circle cx=\"215\" cy=\"215\" r=\"205\" fill=\"none\" stroke=\"black\" stroke-width=\"2\" stroke-dasharray=\"3,3\"/><circle cx=\"250\" cy=\"210\" r=\"8\" fill=\"rgb(195,195,195)\"/><circle cx=\"119\" cy=\"269\" r=\"11\" fill=\"rgb(92,92,92)\"/><circle cx=\"312\" cy=\"212\" r=\"9\" fill=\"rgb(156,156,156)\"/><circle cx=\"173\" cy=\"130\" r=\"11\" fill=\"rgb(196,196,196)\"/><circle cx=\"86\" cy=\"341\" r=\"10\" fill=\"rgb(177,177,177)\"/><circle cx=\"296\" cy=\"132\" r=\"9\" fill=\"rgb(140,140,140)\"/><circle cx=\"150\" cy=\"221\" r=\"9\" fill=\"rgb(189,189,189)\"/></svg><svg viewBox='0 0 430 430' id=\"svg\" width=\"172\" height=\"172\"><circle cx=\"215\" cy=\"215\" r=\"205\" fill=\"none\" stroke=\"black\" stroke-width=\"2\" stroke-dasharray=\"3,3\"/> <circle cx=\"250\" cy=\"210\" r=\"8\" fill=\"rgb(255,255,255)\" class=\"agent_0_7\"/><circle cx=\"119\" cy=\"269\" r=\"11\" fill=\"rgb(255,0,0)\" class=\"agent_0_9\"/><circle cx=\"312\" cy=\"212\" r=\"9\" fill=\"rgb(255,255,255)\" class=\"agent_0_32\"/><circle cx=\"173\" cy=\"130\" r=\"11\" fill=\"rgb(255,255,255)\" class=\"agent_0_35\"/><circle cx=\"86\" cy=\"341\" r=\"10\" fill=\"rgb(255,255,255)\" class=\"agent_0_58\"/><circle cx=\"296\" cy=\"132\" r=\"9\" fill=\"rgb(255,255,255)\" class=\"agent_0_70\"/><circle cx=\"150\" cy=\"221\" r=\"9\" fill=\"rgb(255,255,255)\" class=\"agent_0_76\"/></svg></div>"
      ],
      "text/plain": [
       "<IPython.core.display.HTML object>"
      ]
     },
     "metadata": {},
     "output_type": "display_data"
    }
   ],
   "source": [
    "force_contexts_and_mentions(12, min_num_mentions=1, mention_marginals=True,\n",
    "                            ref_marginals=True, for_partner=True)"
   ]
  },
  {
   "cell_type": "code",
   "execution_count": 68,
   "metadata": {
    "scrolled": false
   },
   "outputs": [
    {
     "name": "stdout",
     "output_type": "stream",
     "text": [
      "scenario_id: S_kyf7CjNdkIqHi5pb\n",
      "human\tTHEM: 2 dark gray dots very close to each other , the one on the right is smaller than the left one <eos>\n",
      "detected markables:\n",
      "{'start': 3, 'end': 19, 'is_self': True, 'text': '2 dark gray dots'}\n",
      "{'start': 34, 'end': 44, 'is_self': True, 'text': 'each other'}\n",
      "{'start': 47, 'end': 54, 'is_self': True, 'text': 'the one'}\n",
      "{'start': 84, 'end': 96, 'is_self': True, 'text': 'the left one'}\n",
      "partner_ref_marginal_probs\n"
     ]
    },
    {
     "data": {
      "text/html": [
       "<div style=\"white-space: nowrap\"><svg viewbox='0 0 430 430' width=\"172\" height=\"172\" id=\"agent_1\"><circle cx=\"215\" cy=\"215\" r=\"205\" fill=\"none\" stroke=\"black\" stroke-width=\"2\" stroke-dasharray=\"3,3\"/><circle cx=\"134\" cy=\"215\" r=\"10\" fill=\"rgb(136,136,136)\"/><circle cx=\"113\" cy=\"93\" r=\"7\" fill=\"rgb(82,82,82)\"/><circle cx=\"88\" cy=\"211\" r=\"11\" fill=\"rgb(132,132,132)\"/><circle cx=\"199\" cy=\"249\" r=\"13\" fill=\"rgb(188,188,188)\"/><circle cx=\"353\" cy=\"280\" r=\"12\" fill=\"rgb(180,180,180)\"/><circle cx=\"306\" cy=\"112\" r=\"10\" fill=\"rgb(112,112,112)\"/><circle cx=\"161\" cy=\"149\" r=\"8\" fill=\"rgb(174,174,174)\"/></svg><svg viewBox='0 0 430 430' id=\"svg\" width=\"172\" height=\"172\"><circle cx=\"215\" cy=\"215\" r=\"205\" fill=\"none\" stroke=\"black\" stroke-width=\"2\" stroke-dasharray=\"3,3\"/> <circle cx=\"134\" cy=\"215\" r=\"10\" fill=\"rgb(255,235,235)\" class=\"agent_1_3\"/><circle cx=\"113\" cy=\"93\" r=\"7\" fill=\"rgb(255,247,247)\" class=\"agent_1_31\"/><circle cx=\"88\" cy=\"211\" r=\"11\" fill=\"rgb(255,233,233)\" class=\"agent_1_37\"/><circle cx=\"199\" cy=\"249\" r=\"13\" fill=\"rgb(255,254,254)\" class=\"agent_1_49\"/><circle cx=\"353\" cy=\"280\" r=\"12\" fill=\"rgb(255,253,253)\" class=\"agent_1_51\"/><circle cx=\"306\" cy=\"112\" r=\"10\" fill=\"rgb(255,102,102)\" class=\"agent_1_58\"/><circle cx=\"161\" cy=\"149\" r=\"8\" fill=\"rgb(255,254,254)\" class=\"agent_1_71\"/></svg><svg viewBox='0 0 430 430' id=\"svg\" width=\"172\" height=\"172\"><circle cx=\"215\" cy=\"215\" r=\"205\" fill=\"none\" stroke=\"black\" stroke-width=\"2\" stroke-dasharray=\"3,3\"/> <circle cx=\"134\" cy=\"215\" r=\"10\" fill=\"rgb(255,145,145)\" class=\"agent_1_3\"/><circle cx=\"113\" cy=\"93\" r=\"7\" fill=\"rgb(255,209,209)\" class=\"agent_1_31\"/><circle cx=\"88\" cy=\"211\" r=\"11\" fill=\"rgb(255,138,138)\" class=\"agent_1_37\"/><circle cx=\"199\" cy=\"249\" r=\"13\" fill=\"rgb(255,250,250)\" class=\"agent_1_49\"/><circle cx=\"353\" cy=\"280\" r=\"12\" fill=\"rgb(255,253,253)\" class=\"agent_1_51\"/><circle cx=\"306\" cy=\"112\" r=\"10\" fill=\"rgb(255,179,179)\" class=\"agent_1_58\"/><circle cx=\"161\" cy=\"149\" r=\"8\" fill=\"rgb(255,254,254)\" class=\"agent_1_71\"/></svg><svg viewBox='0 0 430 430' id=\"svg\" width=\"172\" height=\"172\"><circle cx=\"215\" cy=\"215\" r=\"205\" fill=\"none\" stroke=\"black\" stroke-width=\"2\" stroke-dasharray=\"3,3\"/> <circle cx=\"134\" cy=\"215\" r=\"10\" fill=\"rgb(255,254,254)\" class=\"agent_1_3\"/><circle cx=\"113\" cy=\"93\" r=\"7\" fill=\"rgb(255,17,17)\" class=\"agent_1_31\"/><circle cx=\"88\" cy=\"211\" r=\"11\" fill=\"rgb(255,254,254)\" class=\"agent_1_37\"/><circle cx=\"199\" cy=\"249\" r=\"13\" fill=\"rgb(255,254,254)\" class=\"agent_1_49\"/><circle cx=\"353\" cy=\"280\" r=\"12\" fill=\"rgb(255,254,254)\" class=\"agent_1_51\"/><circle cx=\"306\" cy=\"112\" r=\"10\" fill=\"rgb(255,254,254)\" class=\"agent_1_58\"/><circle cx=\"161\" cy=\"149\" r=\"8\" fill=\"rgb(255,254,254)\" class=\"agent_1_71\"/></svg><svg viewBox='0 0 430 430' id=\"svg\" width=\"172\" height=\"172\"><circle cx=\"215\" cy=\"215\" r=\"205\" fill=\"none\" stroke=\"black\" stroke-width=\"2\" stroke-dasharray=\"3,3\"/> <circle cx=\"134\" cy=\"215\" r=\"10\" fill=\"rgb(255,173,173)\" class=\"agent_1_3\"/><circle cx=\"113\" cy=\"93\" r=\"7\" fill=\"rgb(255,252,252)\" class=\"agent_1_31\"/><circle cx=\"88\" cy=\"211\" r=\"11\" fill=\"rgb(255,139,139)\" class=\"agent_1_37\"/><circle cx=\"199\" cy=\"249\" r=\"13\" fill=\"rgb(255,250,250)\" class=\"agent_1_49\"/><circle cx=\"353\" cy=\"280\" r=\"12\" fill=\"rgb(255,253,253)\" class=\"agent_1_51\"/><circle cx=\"306\" cy=\"112\" r=\"10\" fill=\"rgb(255,214,214)\" class=\"agent_1_58\"/><circle cx=\"161\" cy=\"149\" r=\"8\" fill=\"rgb(255,253,253)\" class=\"agent_1_71\"/></svg></div>"
      ],
      "text/plain": [
       "<IPython.core.display.HTML object>"
      ]
     },
     "metadata": {},
     "output_type": "display_data"
    },
    {
     "name": "stdout",
     "output_type": "stream",
     "text": [
      "partner_refs_pred\n"
     ]
    },
    {
     "data": {
      "text/html": [
       "<div style=\"white-space: nowrap\"><svg viewbox='0 0 430 430' width=\"172\" height=\"172\" id=\"agent_1\"><circle cx=\"215\" cy=\"215\" r=\"205\" fill=\"none\" stroke=\"black\" stroke-width=\"2\" stroke-dasharray=\"3,3\"/><circle cx=\"134\" cy=\"215\" r=\"10\" fill=\"rgb(136,136,136)\"/><circle cx=\"113\" cy=\"93\" r=\"7\" fill=\"rgb(82,82,82)\"/><circle cx=\"88\" cy=\"211\" r=\"11\" fill=\"rgb(132,132,132)\"/><circle cx=\"199\" cy=\"249\" r=\"13\" fill=\"rgb(188,188,188)\"/><circle cx=\"353\" cy=\"280\" r=\"12\" fill=\"rgb(180,180,180)\"/><circle cx=\"306\" cy=\"112\" r=\"10\" fill=\"rgb(112,112,112)\"/><circle cx=\"161\" cy=\"149\" r=\"8\" fill=\"rgb(174,174,174)\"/></svg><svg viewBox='0 0 430 430' id=\"svg\" width=\"172\" height=\"172\"><circle cx=\"215\" cy=\"215\" r=\"205\" fill=\"none\" stroke=\"black\" stroke-width=\"2\" stroke-dasharray=\"3,3\"/> <circle cx=\"134\" cy=\"215\" r=\"10\" fill=\"rgb(255,255,255)\" class=\"agent_1_3\"/><circle cx=\"113\" cy=\"93\" r=\"7\" fill=\"rgb(255,255,255)\" class=\"agent_1_31\"/><circle cx=\"88\" cy=\"211\" r=\"11\" fill=\"rgb(255,255,255)\" class=\"agent_1_37\"/><circle cx=\"199\" cy=\"249\" r=\"13\" fill=\"rgb(255,255,255)\" class=\"agent_1_49\"/><circle cx=\"353\" cy=\"280\" r=\"12\" fill=\"rgb(255,255,255)\" class=\"agent_1_51\"/><circle cx=\"306\" cy=\"112\" r=\"10\" fill=\"rgb(255,0,0)\" class=\"agent_1_58\"/><circle cx=\"161\" cy=\"149\" r=\"8\" fill=\"rgb(255,255,255)\" class=\"agent_1_71\"/></svg><svg viewBox='0 0 430 430' id=\"svg\" width=\"172\" height=\"172\"><circle cx=\"215\" cy=\"215\" r=\"205\" fill=\"none\" stroke=\"black\" stroke-width=\"2\" stroke-dasharray=\"3,3\"/> <circle cx=\"134\" cy=\"215\" r=\"10\" fill=\"rgb(255,255,255)\" class=\"agent_1_3\"/><circle cx=\"113\" cy=\"93\" r=\"7\" fill=\"rgb(255,255,255)\" class=\"agent_1_31\"/><circle cx=\"88\" cy=\"211\" r=\"11\" fill=\"rgb(255,255,255)\" class=\"agent_1_37\"/><circle cx=\"199\" cy=\"249\" r=\"13\" fill=\"rgb(255,255,255)\" class=\"agent_1_49\"/><circle cx=\"353\" cy=\"280\" r=\"12\" fill=\"rgb(255,255,255)\" class=\"agent_1_51\"/><circle cx=\"306\" cy=\"112\" r=\"10\" fill=\"rgb(255,0,0)\" class=\"agent_1_58\"/><circle cx=\"161\" cy=\"149\" r=\"8\" fill=\"rgb(255,255,255)\" class=\"agent_1_71\"/></svg><svg viewBox='0 0 430 430' id=\"svg\" width=\"172\" height=\"172\"><circle cx=\"215\" cy=\"215\" r=\"205\" fill=\"none\" stroke=\"black\" stroke-width=\"2\" stroke-dasharray=\"3,3\"/> <circle cx=\"134\" cy=\"215\" r=\"10\" fill=\"rgb(255,255,255)\" class=\"agent_1_3\"/><circle cx=\"113\" cy=\"93\" r=\"7\" fill=\"rgb(255,255,255)\" class=\"agent_1_31\"/><circle cx=\"88\" cy=\"211\" r=\"11\" fill=\"rgb(255,255,255)\" class=\"agent_1_37\"/><circle cx=\"199\" cy=\"249\" r=\"13\" fill=\"rgb(255,255,255)\" class=\"agent_1_49\"/><circle cx=\"353\" cy=\"280\" r=\"12\" fill=\"rgb(255,255,255)\" class=\"agent_1_51\"/><circle cx=\"306\" cy=\"112\" r=\"10\" fill=\"rgb(255,255,255)\" class=\"agent_1_58\"/><circle cx=\"161\" cy=\"149\" r=\"8\" fill=\"rgb(255,255,255)\" class=\"agent_1_71\"/></svg><svg viewBox='0 0 430 430' id=\"svg\" width=\"172\" height=\"172\"><circle cx=\"215\" cy=\"215\" r=\"205\" fill=\"none\" stroke=\"black\" stroke-width=\"2\" stroke-dasharray=\"3,3\"/> <circle cx=\"134\" cy=\"215\" r=\"10\" fill=\"rgb(255,255,255)\" class=\"agent_1_3\"/><circle cx=\"113\" cy=\"93\" r=\"7\" fill=\"rgb(255,255,255)\" class=\"agent_1_31\"/><circle cx=\"88\" cy=\"211\" r=\"11\" fill=\"rgb(255,255,255)\" class=\"agent_1_37\"/><circle cx=\"199\" cy=\"249\" r=\"13\" fill=\"rgb(255,255,255)\" class=\"agent_1_49\"/><circle cx=\"353\" cy=\"280\" r=\"12\" fill=\"rgb(255,255,255)\" class=\"agent_1_51\"/><circle cx=\"306\" cy=\"112\" r=\"10\" fill=\"rgb(255,255,255)\" class=\"agent_1_58\"/><circle cx=\"161\" cy=\"149\" r=\"8\" fill=\"rgb(255,255,255)\" class=\"agent_1_71\"/></svg></div>"
      ],
      "text/plain": [
       "<IPython.core.display.HTML object>"
      ]
     },
     "metadata": {},
     "output_type": "display_data"
    },
    {
     "name": "stdout",
     "output_type": "stream",
     "text": [
      "partner_refs_true\n"
     ]
    },
    {
     "data": {
      "text/html": [
       "<div style=\"white-space: nowrap\"><svg viewbox='0 0 430 430' width=\"172\" height=\"172\" id=\"agent_1\"><circle cx=\"215\" cy=\"215\" r=\"205\" fill=\"none\" stroke=\"black\" stroke-width=\"2\" stroke-dasharray=\"3,3\"/><circle cx=\"134\" cy=\"215\" r=\"10\" fill=\"rgb(136,136,136)\"/><circle cx=\"113\" cy=\"93\" r=\"7\" fill=\"rgb(82,82,82)\"/><circle cx=\"88\" cy=\"211\" r=\"11\" fill=\"rgb(132,132,132)\"/><circle cx=\"199\" cy=\"249\" r=\"13\" fill=\"rgb(188,188,188)\"/><circle cx=\"353\" cy=\"280\" r=\"12\" fill=\"rgb(180,180,180)\"/><circle cx=\"306\" cy=\"112\" r=\"10\" fill=\"rgb(112,112,112)\"/><circle cx=\"161\" cy=\"149\" r=\"8\" fill=\"rgb(174,174,174)\"/></svg><svg viewBox='0 0 430 430' id=\"svg\" width=\"172\" height=\"172\"><circle cx=\"215\" cy=\"215\" r=\"205\" fill=\"none\" stroke=\"black\" stroke-width=\"2\" stroke-dasharray=\"3,3\"/> <circle cx=\"134\" cy=\"215\" r=\"10\" fill=\"rgb(255,0,0)\" class=\"agent_1_3\"/><circle cx=\"113\" cy=\"93\" r=\"7\" fill=\"rgb(255,255,255)\" class=\"agent_1_31\"/><circle cx=\"88\" cy=\"211\" r=\"11\" fill=\"rgb(255,0,0)\" class=\"agent_1_37\"/><circle cx=\"199\" cy=\"249\" r=\"13\" fill=\"rgb(255,255,255)\" class=\"agent_1_49\"/><circle cx=\"353\" cy=\"280\" r=\"12\" fill=\"rgb(255,255,255)\" class=\"agent_1_51\"/><circle cx=\"306\" cy=\"112\" r=\"10\" fill=\"rgb(255,255,255)\" class=\"agent_1_58\"/><circle cx=\"161\" cy=\"149\" r=\"8\" fill=\"rgb(255,255,255)\" class=\"agent_1_71\"/></svg><svg viewBox='0 0 430 430' id=\"svg\" width=\"172\" height=\"172\"><circle cx=\"215\" cy=\"215\" r=\"205\" fill=\"none\" stroke=\"black\" stroke-width=\"2\" stroke-dasharray=\"3,3\"/> <circle cx=\"134\" cy=\"215\" r=\"10\" fill=\"rgb(255,0,0)\" class=\"agent_1_3\"/><circle cx=\"113\" cy=\"93\" r=\"7\" fill=\"rgb(255,255,255)\" class=\"agent_1_31\"/><circle cx=\"88\" cy=\"211\" r=\"11\" fill=\"rgb(255,0,0)\" class=\"agent_1_37\"/><circle cx=\"199\" cy=\"249\" r=\"13\" fill=\"rgb(255,255,255)\" class=\"agent_1_49\"/><circle cx=\"353\" cy=\"280\" r=\"12\" fill=\"rgb(255,255,255)\" class=\"agent_1_51\"/><circle cx=\"306\" cy=\"112\" r=\"10\" fill=\"rgb(255,255,255)\" class=\"agent_1_58\"/><circle cx=\"161\" cy=\"149\" r=\"8\" fill=\"rgb(255,255,255)\" class=\"agent_1_71\"/></svg><svg viewBox='0 0 430 430' id=\"svg\" width=\"172\" height=\"172\"><circle cx=\"215\" cy=\"215\" r=\"205\" fill=\"none\" stroke=\"black\" stroke-width=\"2\" stroke-dasharray=\"3,3\"/> <circle cx=\"134\" cy=\"215\" r=\"10\" fill=\"rgb(255,0,0)\" class=\"agent_1_3\"/><circle cx=\"113\" cy=\"93\" r=\"7\" fill=\"rgb(255,255,255)\" class=\"agent_1_31\"/><circle cx=\"88\" cy=\"211\" r=\"11\" fill=\"rgb(255,255,255)\" class=\"agent_1_37\"/><circle cx=\"199\" cy=\"249\" r=\"13\" fill=\"rgb(255,255,255)\" class=\"agent_1_49\"/><circle cx=\"353\" cy=\"280\" r=\"12\" fill=\"rgb(255,255,255)\" class=\"agent_1_51\"/><circle cx=\"306\" cy=\"112\" r=\"10\" fill=\"rgb(255,255,255)\" class=\"agent_1_58\"/><circle cx=\"161\" cy=\"149\" r=\"8\" fill=\"rgb(255,255,255)\" class=\"agent_1_71\"/></svg><svg viewBox='0 0 430 430' id=\"svg\" width=\"172\" height=\"172\"><circle cx=\"215\" cy=\"215\" r=\"205\" fill=\"none\" stroke=\"black\" stroke-width=\"2\" stroke-dasharray=\"3,3\"/> <circle cx=\"134\" cy=\"215\" r=\"10\" fill=\"rgb(255,255,255)\" class=\"agent_1_3\"/><circle cx=\"113\" cy=\"93\" r=\"7\" fill=\"rgb(255,255,255)\" class=\"agent_1_31\"/><circle cx=\"88\" cy=\"211\" r=\"11\" fill=\"rgb(255,0,0)\" class=\"agent_1_37\"/><circle cx=\"199\" cy=\"249\" r=\"13\" fill=\"rgb(255,255,255)\" class=\"agent_1_49\"/><circle cx=\"353\" cy=\"280\" r=\"12\" fill=\"rgb(255,255,255)\" class=\"agent_1_51\"/><circle cx=\"306\" cy=\"112\" r=\"10\" fill=\"rgb(255,255,255)\" class=\"agent_1_58\"/><circle cx=\"161\" cy=\"149\" r=\"8\" fill=\"rgb(255,255,255)\" class=\"agent_1_71\"/></svg></div>"
      ],
      "text/plain": [
       "<IPython.core.display.HTML object>"
      ]
     },
     "metadata": {},
     "output_type": "display_data"
    },
    {
     "name": "stdout",
     "output_type": "stream",
     "text": [
      "partner_ref_true (their view)\n"
     ]
    },
    {
     "data": {
      "text/html": [
       "<div style=\"white-space: nowrap\"><svg viewbox='0 0 430 430' width=\"172\" height=\"172\" id=\"agent_0\"><circle cx=\"215\" cy=\"215\" r=\"205\" fill=\"none\" stroke=\"black\" stroke-width=\"2\" stroke-dasharray=\"3,3\"/><circle cx=\"358\" cy=\"337\" r=\"10\" fill=\"rgb(136,136,136)\"/><circle cx=\"250\" cy=\"71\" r=\"9\" fill=\"rgb(54,54,54)\"/><circle cx=\"338\" cy=\"215\" r=\"7\" fill=\"rgb(82,82,82)\"/><circle cx=\"313\" cy=\"333\" r=\"11\" fill=\"rgb(132,132,132)\"/><circle cx=\"208\" cy=\"370\" r=\"11\" fill=\"rgb(197,197,197)\"/><circle cx=\"386\" cy=\"271\" r=\"8\" fill=\"rgb(174,174,174)\"/><circle cx=\"257\" cy=\"254\" r=\"11\" fill=\"rgb(137,137,137)\"/></svg><svg viewBox='0 0 430 430' id=\"svg\" width=\"172\" height=\"172\"><circle cx=\"215\" cy=\"215\" r=\"205\" fill=\"none\" stroke=\"black\" stroke-width=\"2\" stroke-dasharray=\"3,3\"/> <circle cx=\"358\" cy=\"337\" r=\"10\" fill=\"rgb(255,0,0)\" class=\"agent_0_3\"/><circle cx=\"250\" cy=\"71\" r=\"9\" fill=\"rgb(255,255,255)\" class=\"agent_0_5\"/><circle cx=\"338\" cy=\"215\" r=\"7\" fill=\"rgb(255,255,255)\" class=\"agent_0_31\"/><circle cx=\"313\" cy=\"333\" r=\"11\" fill=\"rgb(255,0,0)\" class=\"agent_0_37\"/><circle cx=\"208\" cy=\"370\" r=\"11\" fill=\"rgb(255,255,255)\" class=\"agent_0_48\"/><circle cx=\"386\" cy=\"271\" r=\"8\" fill=\"rgb(255,255,255)\" class=\"agent_0_71\"/><circle cx=\"257\" cy=\"254\" r=\"11\" fill=\"rgb(255,255,255)\" class=\"agent_0_76\"/></svg><svg viewBox='0 0 430 430' id=\"svg\" width=\"172\" height=\"172\"><circle cx=\"215\" cy=\"215\" r=\"205\" fill=\"none\" stroke=\"black\" stroke-width=\"2\" stroke-dasharray=\"3,3\"/> <circle cx=\"358\" cy=\"337\" r=\"10\" fill=\"rgb(255,0,0)\" class=\"agent_0_3\"/><circle cx=\"250\" cy=\"71\" r=\"9\" fill=\"rgb(255,255,255)\" class=\"agent_0_5\"/><circle cx=\"338\" cy=\"215\" r=\"7\" fill=\"rgb(255,255,255)\" class=\"agent_0_31\"/><circle cx=\"313\" cy=\"333\" r=\"11\" fill=\"rgb(255,0,0)\" class=\"agent_0_37\"/><circle cx=\"208\" cy=\"370\" r=\"11\" fill=\"rgb(255,255,255)\" class=\"agent_0_48\"/><circle cx=\"386\" cy=\"271\" r=\"8\" fill=\"rgb(255,255,255)\" class=\"agent_0_71\"/><circle cx=\"257\" cy=\"254\" r=\"11\" fill=\"rgb(255,255,255)\" class=\"agent_0_76\"/></svg><svg viewBox='0 0 430 430' id=\"svg\" width=\"172\" height=\"172\"><circle cx=\"215\" cy=\"215\" r=\"205\" fill=\"none\" stroke=\"black\" stroke-width=\"2\" stroke-dasharray=\"3,3\"/> <circle cx=\"358\" cy=\"337\" r=\"10\" fill=\"rgb(255,0,0)\" class=\"agent_0_3\"/><circle cx=\"250\" cy=\"71\" r=\"9\" fill=\"rgb(255,255,255)\" class=\"agent_0_5\"/><circle cx=\"338\" cy=\"215\" r=\"7\" fill=\"rgb(255,255,255)\" class=\"agent_0_31\"/><circle cx=\"313\" cy=\"333\" r=\"11\" fill=\"rgb(255,255,255)\" class=\"agent_0_37\"/><circle cx=\"208\" cy=\"370\" r=\"11\" fill=\"rgb(255,255,255)\" class=\"agent_0_48\"/><circle cx=\"386\" cy=\"271\" r=\"8\" fill=\"rgb(255,255,255)\" class=\"agent_0_71\"/><circle cx=\"257\" cy=\"254\" r=\"11\" fill=\"rgb(255,255,255)\" class=\"agent_0_76\"/></svg><svg viewBox='0 0 430 430' id=\"svg\" width=\"172\" height=\"172\"><circle cx=\"215\" cy=\"215\" r=\"205\" fill=\"none\" stroke=\"black\" stroke-width=\"2\" stroke-dasharray=\"3,3\"/> <circle cx=\"358\" cy=\"337\" r=\"10\" fill=\"rgb(255,255,255)\" class=\"agent_0_3\"/><circle cx=\"250\" cy=\"71\" r=\"9\" fill=\"rgb(255,255,255)\" class=\"agent_0_5\"/><circle cx=\"338\" cy=\"215\" r=\"7\" fill=\"rgb(255,255,255)\" class=\"agent_0_31\"/><circle cx=\"313\" cy=\"333\" r=\"11\" fill=\"rgb(255,0,0)\" class=\"agent_0_37\"/><circle cx=\"208\" cy=\"370\" r=\"11\" fill=\"rgb(255,255,255)\" class=\"agent_0_48\"/><circle cx=\"386\" cy=\"271\" r=\"8\" fill=\"rgb(255,255,255)\" class=\"agent_0_71\"/><circle cx=\"257\" cy=\"254\" r=\"11\" fill=\"rgb(255,255,255)\" class=\"agent_0_76\"/></svg></div>"
      ],
      "text/plain": [
       "<IPython.core.display.HTML object>"
      ]
     },
     "metadata": {},
     "output_type": "display_data"
    },
    {
     "name": "stdout",
     "output_type": "stream",
     "text": [
      "\n",
      "----------------------------------------\n",
      "\n",
      "to_mention_marginals\n"
     ]
    },
    {
     "data": {
      "text/html": [
       "<div style=\"white-space: nowrap\"><svg viewbox='0 0 430 430' width=\"172\" height=\"172\" id=\"agent_1\"><circle cx=\"215\" cy=\"215\" r=\"205\" fill=\"none\" stroke=\"black\" stroke-width=\"2\" stroke-dasharray=\"3,3\"/><circle cx=\"134\" cy=\"215\" r=\"10\" fill=\"rgb(136,136,136)\"/><circle cx=\"113\" cy=\"93\" r=\"7\" fill=\"rgb(82,82,82)\"/><circle cx=\"88\" cy=\"211\" r=\"11\" fill=\"rgb(132,132,132)\"/><circle cx=\"199\" cy=\"249\" r=\"13\" fill=\"rgb(188,188,188)\"/><circle cx=\"353\" cy=\"280\" r=\"12\" fill=\"rgb(180,180,180)\"/><circle cx=\"306\" cy=\"112\" r=\"10\" fill=\"rgb(112,112,112)\"/><circle cx=\"161\" cy=\"149\" r=\"8\" fill=\"rgb(174,174,174)\"/></svg><svg viewBox='0 0 430 430' id=\"svg\" width=\"172\" height=\"172\"><circle cx=\"215\" cy=\"215\" r=\"205\" fill=\"none\" stroke=\"black\" stroke-width=\"2\" stroke-dasharray=\"3,3\"/> <circle cx=\"134\" cy=\"215\" r=\"10\" fill=\"rgb(255,202,202)\" class=\"agent_1_3\"/><circle cx=\"113\" cy=\"93\" r=\"7\" fill=\"rgb(255,156,156)\" class=\"agent_1_31\"/><circle cx=\"88\" cy=\"211\" r=\"11\" fill=\"rgb(255,199,199)\" class=\"agent_1_37\"/><circle cx=\"199\" cy=\"249\" r=\"13\" fill=\"rgb(255,230,230)\" class=\"agent_1_49\"/><circle cx=\"353\" cy=\"280\" r=\"12\" fill=\"rgb(255,242,242)\" class=\"agent_1_51\"/><circle cx=\"306\" cy=\"112\" r=\"10\" fill=\"rgb(255,199,199)\" class=\"agent_1_58\"/><circle cx=\"161\" cy=\"149\" r=\"8\" fill=\"rgb(255,228,228)\" class=\"agent_1_71\"/></svg></div>"
      ],
      "text/plain": [
       "<IPython.core.display.HTML object>"
      ]
     },
     "metadata": {},
     "output_type": "display_data"
    },
    {
     "name": "stdout",
     "output_type": "stream",
     "text": [
      "to_mention_pred\n"
     ]
    },
    {
     "data": {
      "text/html": [
       "<div style=\"white-space: nowrap\"><svg viewbox='0 0 430 430' width=\"172\" height=\"172\" id=\"agent_1\"><circle cx=\"215\" cy=\"215\" r=\"205\" fill=\"none\" stroke=\"black\" stroke-width=\"2\" stroke-dasharray=\"3,3\"/><circle cx=\"134\" cy=\"215\" r=\"10\" fill=\"rgb(136,136,136)\"/><circle cx=\"113\" cy=\"93\" r=\"7\" fill=\"rgb(82,82,82)\"/><circle cx=\"88\" cy=\"211\" r=\"11\" fill=\"rgb(132,132,132)\"/><circle cx=\"199\" cy=\"249\" r=\"13\" fill=\"rgb(188,188,188)\"/><circle cx=\"353\" cy=\"280\" r=\"12\" fill=\"rgb(180,180,180)\"/><circle cx=\"306\" cy=\"112\" r=\"10\" fill=\"rgb(112,112,112)\"/><circle cx=\"161\" cy=\"149\" r=\"8\" fill=\"rgb(174,174,174)\"/></svg><svg viewBox='0 0 430 430' id=\"svg\" width=\"172\" height=\"172\"><circle cx=\"215\" cy=\"215\" r=\"205\" fill=\"none\" stroke=\"black\" stroke-width=\"2\" stroke-dasharray=\"3,3\"/> <circle cx=\"134\" cy=\"215\" r=\"10\" fill=\"rgb(255,255,255)\" class=\"agent_1_3\"/><circle cx=\"113\" cy=\"93\" r=\"7\" fill=\"rgb(255,0,0)\" class=\"agent_1_31\"/><circle cx=\"88\" cy=\"211\" r=\"11\" fill=\"rgb(255,255,255)\" class=\"agent_1_37\"/><circle cx=\"199\" cy=\"249\" r=\"13\" fill=\"rgb(255,255,255)\" class=\"agent_1_49\"/><circle cx=\"353\" cy=\"280\" r=\"12\" fill=\"rgb(255,255,255)\" class=\"agent_1_51\"/><circle cx=\"306\" cy=\"112\" r=\"10\" fill=\"rgb(255,255,255)\" class=\"agent_1_58\"/><circle cx=\"161\" cy=\"149\" r=\"8\" fill=\"rgb(255,255,255)\" class=\"agent_1_71\"/></svg></div>"
      ],
      "text/plain": [
       "<IPython.core.display.HTML object>"
      ]
     },
     "metadata": {},
     "output_type": "display_data"
    },
    {
     "name": "stdout",
     "output_type": "stream",
     "text": [
      "to_mention_true\n"
     ]
    },
    {
     "data": {
      "text/html": [
       "<div style=\"white-space: nowrap\"><svg viewbox='0 0 430 430' width=\"172\" height=\"172\" id=\"agent_1\"><circle cx=\"215\" cy=\"215\" r=\"205\" fill=\"none\" stroke=\"black\" stroke-width=\"2\" stroke-dasharray=\"3,3\"/><circle cx=\"134\" cy=\"215\" r=\"10\" fill=\"rgb(136,136,136)\"/><circle cx=\"113\" cy=\"93\" r=\"7\" fill=\"rgb(82,82,82)\"/><circle cx=\"88\" cy=\"211\" r=\"11\" fill=\"rgb(132,132,132)\"/><circle cx=\"199\" cy=\"249\" r=\"13\" fill=\"rgb(188,188,188)\"/><circle cx=\"353\" cy=\"280\" r=\"12\" fill=\"rgb(180,180,180)\"/><circle cx=\"306\" cy=\"112\" r=\"10\" fill=\"rgb(112,112,112)\"/><circle cx=\"161\" cy=\"149\" r=\"8\" fill=\"rgb(174,174,174)\"/></svg><svg viewBox='0 0 430 430' id=\"svg\" width=\"172\" height=\"172\"><circle cx=\"215\" cy=\"215\" r=\"205\" fill=\"none\" stroke=\"black\" stroke-width=\"2\" stroke-dasharray=\"3,3\"/> <circle cx=\"134\" cy=\"215\" r=\"10\" fill=\"rgb(255,0,0)\" class=\"agent_1_3\"/><circle cx=\"113\" cy=\"93\" r=\"7\" fill=\"rgb(255,255,255)\" class=\"agent_1_31\"/><circle cx=\"88\" cy=\"211\" r=\"11\" fill=\"rgb(255,255,255)\" class=\"agent_1_37\"/><circle cx=\"199\" cy=\"249\" r=\"13\" fill=\"rgb(255,255,255)\" class=\"agent_1_49\"/><circle cx=\"353\" cy=\"280\" r=\"12\" fill=\"rgb(255,255,255)\" class=\"agent_1_51\"/><circle cx=\"306\" cy=\"112\" r=\"10\" fill=\"rgb(255,255,255)\" class=\"agent_1_58\"/><circle cx=\"161\" cy=\"149\" r=\"8\" fill=\"rgb(255,255,255)\" class=\"agent_1_71\"/></svg></div>"
      ],
      "text/plain": [
       "<IPython.core.display.HTML object>"
      ]
     },
     "metadata": {},
     "output_type": "display_data"
    },
    {
     "name": "stdout",
     "output_type": "stream",
     "text": [
      "beam 0\tyes , the one on the right is slightly larger and slightly lighter ? <eos>\n",
      "greedy\tyes , the one on the right is slightly larger and slightly lighter ? <eos>\n",
      "human\tlet 's select the smaller one on the right <selection>\n",
      "detected markables:\n",
      "{'start': 17, 'end': 32, 'is_self': True, 'text': 'the smaller one'}\n",
      "ref_marginal_probs\n"
     ]
    },
    {
     "data": {
      "text/html": [
       "<div style=\"white-space: nowrap\"><svg viewbox='0 0 430 430' width=\"172\" height=\"172\" id=\"agent_1\"><circle cx=\"215\" cy=\"215\" r=\"205\" fill=\"none\" stroke=\"black\" stroke-width=\"2\" stroke-dasharray=\"3,3\"/><circle cx=\"134\" cy=\"215\" r=\"10\" fill=\"rgb(136,136,136)\"/><circle cx=\"113\" cy=\"93\" r=\"7\" fill=\"rgb(82,82,82)\"/><circle cx=\"88\" cy=\"211\" r=\"11\" fill=\"rgb(132,132,132)\"/><circle cx=\"199\" cy=\"249\" r=\"13\" fill=\"rgb(188,188,188)\"/><circle cx=\"353\" cy=\"280\" r=\"12\" fill=\"rgb(180,180,180)\"/><circle cx=\"306\" cy=\"112\" r=\"10\" fill=\"rgb(112,112,112)\"/><circle cx=\"161\" cy=\"149\" r=\"8\" fill=\"rgb(174,174,174)\"/></svg><svg viewBox='0 0 430 430' id=\"svg\" width=\"172\" height=\"172\"><circle cx=\"215\" cy=\"215\" r=\"205\" fill=\"none\" stroke=\"black\" stroke-width=\"2\" stroke-dasharray=\"3,3\"/> <circle cx=\"134\" cy=\"215\" r=\"10\" fill=\"rgb(255,254,254)\" class=\"agent_1_3\"/><circle cx=\"113\" cy=\"93\" r=\"7\" fill=\"rgb(255,1,1)\" class=\"agent_1_31\"/><circle cx=\"88\" cy=\"211\" r=\"11\" fill=\"rgb(255,254,254)\" class=\"agent_1_37\"/><circle cx=\"199\" cy=\"249\" r=\"13\" fill=\"rgb(255,254,254)\" class=\"agent_1_49\"/><circle cx=\"353\" cy=\"280\" r=\"12\" fill=\"rgb(255,254,254)\" class=\"agent_1_51\"/><circle cx=\"306\" cy=\"112\" r=\"10\" fill=\"rgb(255,254,254)\" class=\"agent_1_58\"/><circle cx=\"161\" cy=\"149\" r=\"8\" fill=\"rgb(255,254,254)\" class=\"agent_1_71\"/></svg></div>"
      ],
      "text/plain": [
       "<IPython.core.display.HTML object>"
      ]
     },
     "metadata": {},
     "output_type": "display_data"
    },
    {
     "name": "stdout",
     "output_type": "stream",
     "text": [
      "refs_pred\n"
     ]
    },
    {
     "data": {
      "text/html": [
       "<div style=\"white-space: nowrap\"><svg viewbox='0 0 430 430' width=\"172\" height=\"172\" id=\"agent_1\"><circle cx=\"215\" cy=\"215\" r=\"205\" fill=\"none\" stroke=\"black\" stroke-width=\"2\" stroke-dasharray=\"3,3\"/><circle cx=\"134\" cy=\"215\" r=\"10\" fill=\"rgb(136,136,136)\"/><circle cx=\"113\" cy=\"93\" r=\"7\" fill=\"rgb(82,82,82)\"/><circle cx=\"88\" cy=\"211\" r=\"11\" fill=\"rgb(132,132,132)\"/><circle cx=\"199\" cy=\"249\" r=\"13\" fill=\"rgb(188,188,188)\"/><circle cx=\"353\" cy=\"280\" r=\"12\" fill=\"rgb(180,180,180)\"/><circle cx=\"306\" cy=\"112\" r=\"10\" fill=\"rgb(112,112,112)\"/><circle cx=\"161\" cy=\"149\" r=\"8\" fill=\"rgb(174,174,174)\"/></svg><svg viewBox='0 0 430 430' id=\"svg\" width=\"172\" height=\"172\"><circle cx=\"215\" cy=\"215\" r=\"205\" fill=\"none\" stroke=\"black\" stroke-width=\"2\" stroke-dasharray=\"3,3\"/> <circle cx=\"134\" cy=\"215\" r=\"10\" fill=\"rgb(255,255,255)\" class=\"agent_1_3\"/><circle cx=\"113\" cy=\"93\" r=\"7\" fill=\"rgb(255,0,0)\" class=\"agent_1_31\"/><circle cx=\"88\" cy=\"211\" r=\"11\" fill=\"rgb(255,255,255)\" class=\"agent_1_37\"/><circle cx=\"199\" cy=\"249\" r=\"13\" fill=\"rgb(255,255,255)\" class=\"agent_1_49\"/><circle cx=\"353\" cy=\"280\" r=\"12\" fill=\"rgb(255,255,255)\" class=\"agent_1_51\"/><circle cx=\"306\" cy=\"112\" r=\"10\" fill=\"rgb(255,255,255)\" class=\"agent_1_58\"/><circle cx=\"161\" cy=\"149\" r=\"8\" fill=\"rgb(255,255,255)\" class=\"agent_1_71\"/></svg></div>"
      ],
      "text/plain": [
       "<IPython.core.display.HTML object>"
      ]
     },
     "metadata": {},
     "output_type": "display_data"
    },
    {
     "name": "stdout",
     "output_type": "stream",
     "text": [
      "refs_true\n"
     ]
    },
    {
     "data": {
      "text/html": [
       "<div style=\"white-space: nowrap\"><svg viewbox='0 0 430 430' width=\"172\" height=\"172\" id=\"agent_1\"><circle cx=\"215\" cy=\"215\" r=\"205\" fill=\"none\" stroke=\"black\" stroke-width=\"2\" stroke-dasharray=\"3,3\"/><circle cx=\"134\" cy=\"215\" r=\"10\" fill=\"rgb(136,136,136)\"/><circle cx=\"113\" cy=\"93\" r=\"7\" fill=\"rgb(82,82,82)\"/><circle cx=\"88\" cy=\"211\" r=\"11\" fill=\"rgb(132,132,132)\"/><circle cx=\"199\" cy=\"249\" r=\"13\" fill=\"rgb(188,188,188)\"/><circle cx=\"353\" cy=\"280\" r=\"12\" fill=\"rgb(180,180,180)\"/><circle cx=\"306\" cy=\"112\" r=\"10\" fill=\"rgb(112,112,112)\"/><circle cx=\"161\" cy=\"149\" r=\"8\" fill=\"rgb(174,174,174)\"/></svg><svg viewBox='0 0 430 430' id=\"svg\" width=\"172\" height=\"172\"><circle cx=\"215\" cy=\"215\" r=\"205\" fill=\"none\" stroke=\"black\" stroke-width=\"2\" stroke-dasharray=\"3,3\"/> <circle cx=\"134\" cy=\"215\" r=\"10\" fill=\"rgb(255,0,0)\" class=\"agent_1_3\"/><circle cx=\"113\" cy=\"93\" r=\"7\" fill=\"rgb(255,255,255)\" class=\"agent_1_31\"/><circle cx=\"88\" cy=\"211\" r=\"11\" fill=\"rgb(255,255,255)\" class=\"agent_1_37\"/><circle cx=\"199\" cy=\"249\" r=\"13\" fill=\"rgb(255,255,255)\" class=\"agent_1_49\"/><circle cx=\"353\" cy=\"280\" r=\"12\" fill=\"rgb(255,255,255)\" class=\"agent_1_51\"/><circle cx=\"306\" cy=\"112\" r=\"10\" fill=\"rgb(255,255,255)\" class=\"agent_1_58\"/><circle cx=\"161\" cy=\"149\" r=\"8\" fill=\"rgb(255,255,255)\" class=\"agent_1_71\"/></svg></div>"
      ],
      "text/plain": [
       "<IPython.core.display.HTML object>"
      ]
     },
     "metadata": {},
     "output_type": "display_data"
    },
    {
     "name": "stdout",
     "output_type": "stream",
     "text": [
      "\n",
      "----------------------------------------\n",
      "\n",
      "sel_pred\n"
     ]
    },
    {
     "data": {
      "text/html": [
       "<div style=\"white-space: nowrap\"><svg viewbox='0 0 430 430' width=\"172\" height=\"172\" id=\"agent_1\"><circle cx=\"215\" cy=\"215\" r=\"205\" fill=\"none\" stroke=\"black\" stroke-width=\"2\" stroke-dasharray=\"3,3\"/><circle cx=\"134\" cy=\"215\" r=\"10\" fill=\"rgb(136,136,136)\"/><circle cx=\"113\" cy=\"93\" r=\"7\" fill=\"rgb(82,82,82)\"/><circle cx=\"88\" cy=\"211\" r=\"11\" fill=\"rgb(132,132,132)\"/><circle cx=\"199\" cy=\"249\" r=\"13\" fill=\"rgb(188,188,188)\"/><circle cx=\"353\" cy=\"280\" r=\"12\" fill=\"rgb(180,180,180)\"/><circle cx=\"306\" cy=\"112\" r=\"10\" fill=\"rgb(112,112,112)\"/><circle cx=\"161\" cy=\"149\" r=\"8\" fill=\"rgb(174,174,174)\"/></svg><svg viewBox='0 0 430 430' id=\"svg\" width=\"172\" height=\"172\"><circle cx=\"215\" cy=\"215\" r=\"205\" fill=\"none\" stroke=\"black\" stroke-width=\"2\" stroke-dasharray=\"3,3\"/> <circle cx=\"134\" cy=\"215\" r=\"10\" fill=\"rgb(255,254,254)\" class=\"agent_1_3\"/><circle cx=\"113\" cy=\"93\" r=\"7\" fill=\"rgb(255,58,58)\" class=\"agent_1_31\"/><circle cx=\"88\" cy=\"211\" r=\"11\" fill=\"rgb(255,254,254)\" class=\"agent_1_37\"/><circle cx=\"199\" cy=\"249\" r=\"13\" fill=\"rgb(255,254,254)\" class=\"agent_1_49\"/><circle cx=\"353\" cy=\"280\" r=\"12\" fill=\"rgb(255,254,254)\" class=\"agent_1_51\"/><circle cx=\"306\" cy=\"112\" r=\"10\" fill=\"rgb(255,254,254)\" class=\"agent_1_58\"/><circle cx=\"161\" cy=\"149\" r=\"8\" fill=\"rgb(255,254,254)\" class=\"agent_1_71\"/></svg></div>"
      ],
      "text/plain": [
       "<IPython.core.display.HTML object>"
      ]
     },
     "metadata": {},
     "output_type": "display_data"
    },
    {
     "name": "stdout",
     "output_type": "stream",
     "text": [
      "sel_true\n"
     ]
    },
    {
     "data": {
      "text/html": [
       "<div style=\"white-space: nowrap\"><svg viewbox='0 0 430 430' width=\"172\" height=\"172\" id=\"agent_1\"><circle cx=\"215\" cy=\"215\" r=\"205\" fill=\"none\" stroke=\"black\" stroke-width=\"2\" stroke-dasharray=\"3,3\"/><circle cx=\"134\" cy=\"215\" r=\"10\" fill=\"rgb(136,136,136)\"/><circle cx=\"113\" cy=\"93\" r=\"7\" fill=\"rgb(82,82,82)\"/><circle cx=\"88\" cy=\"211\" r=\"11\" fill=\"rgb(132,132,132)\"/><circle cx=\"199\" cy=\"249\" r=\"13\" fill=\"rgb(188,188,188)\"/><circle cx=\"353\" cy=\"280\" r=\"12\" fill=\"rgb(180,180,180)\"/><circle cx=\"306\" cy=\"112\" r=\"10\" fill=\"rgb(112,112,112)\"/><circle cx=\"161\" cy=\"149\" r=\"8\" fill=\"rgb(174,174,174)\"/></svg><svg viewBox='0 0 430 430' id=\"svg\" width=\"172\" height=\"172\"><circle cx=\"215\" cy=\"215\" r=\"205\" fill=\"none\" stroke=\"black\" stroke-width=\"2\" stroke-dasharray=\"3,3\"/> <circle cx=\"134\" cy=\"215\" r=\"10\" fill=\"rgb(255,0,0)\" class=\"agent_1_3\"/><circle cx=\"113\" cy=\"93\" r=\"7\" fill=\"rgb(255,255,255)\" class=\"agent_1_31\"/><circle cx=\"88\" cy=\"211\" r=\"11\" fill=\"rgb(255,255,255)\" class=\"agent_1_37\"/><circle cx=\"199\" cy=\"249\" r=\"13\" fill=\"rgb(255,255,255)\" class=\"agent_1_49\"/><circle cx=\"353\" cy=\"280\" r=\"12\" fill=\"rgb(255,255,255)\" class=\"agent_1_51\"/><circle cx=\"306\" cy=\"112\" r=\"10\" fill=\"rgb(255,255,255)\" class=\"agent_1_58\"/><circle cx=\"161\" cy=\"149\" r=\"8\" fill=\"rgb(255,255,255)\" class=\"agent_1_71\"/></svg></div>"
      ],
      "text/plain": [
       "<IPython.core.display.HTML object>"
      ]
     },
     "metadata": {},
     "output_type": "display_data"
    }
   ],
   "source": [
    "force_contexts_and_mentions(3, min_num_mentions=1, mention_marginals=True,\n",
    "                            ref_marginals=True, for_partner=False)"
   ]
  },
  {
   "cell_type": "code",
   "execution_count": 58,
   "metadata": {},
   "outputs": [],
   "source": [
    "import json\n",
    "from utils import ContextGenerator"
   ]
  },
  {
   "cell_type": "code",
   "execution_count": 43,
   "metadata": {},
   "outputs": [],
   "source": [
    "ctx_gen = ContextGenerator('data/onecommon/shared_4.txt')"
   ]
  },
  {
   "cell_type": "code",
   "execution_count": 44,
   "metadata": {},
   "outputs": [],
   "source": [
    "with open('data/onecommon/shared_4.json', \"r\") as f:\n",
    "    scenario_list = json.load(f)\n",
    "selfplay_scenarios = {scenario['uuid']: scenario for scenario in scenario_list}"
   ]
  },
  {
   "cell_type": "code",
   "execution_count": 45,
   "metadata": {},
   "outputs": [
    {
     "name": "stdout",
     "output_type": "stream",
     "text": [
      "S_xM5bXi3lMqXHKKgP\n"
     ]
    }
   ],
   "source": [
    "scenario = None\n",
    "for ix, ([scenario_id], (ctx1, ctx2), (ids1, ids2)) in enumerate(ctx_gen.iter()):\n",
    "#     if scenario_id == 'S_11J8n40u4HRVduwi':\n",
    "#         print('found it')\n",
    "#         scenario = scenarios[scenario_id]\n",
    "#         break\n",
    "    if ix == 2:\n",
    "        scenario = selfplay_scenarios[scenario_id]\n",
    "        print(scenario_id)\n",
    "        break"
   ]
  },
  {
   "cell_type": "code",
   "execution_count": 46,
   "metadata": {},
   "outputs": [],
   "source": [
    "import random"
   ]
  },
  {
   "cell_type": "code",
   "execution_count": null,
   "metadata": {
    "scrolled": false
   },
   "outputs": [
    {
     "ename": "NameError",
     "evalue": "name 'selfplay_scenarios' is not defined",
     "output_type": "error",
     "traceback": [
      "\u001b[0;31m---------------------------------------------------------------------------\u001b[0m",
      "\u001b[0;31mNameError\u001b[0m                                 Traceback (most recent call last)",
      "\u001b[0;32m<ipython-input-41-e274016a0281>\u001b[0m in \u001b[0;36m<module>\u001b[0;34m\u001b[0m\n\u001b[1;32m      1\u001b[0m \u001b[0;31m# selfplay emulation\u001b[0m\u001b[0;34m\u001b[0m\u001b[0;34m\u001b[0m\u001b[0;34m\u001b[0m\u001b[0m\n\u001b[0;32m----> 2\u001b[0;31m \u001b[0mscenario\u001b[0m \u001b[0;34m=\u001b[0m \u001b[0mselfplay_scenarios\u001b[0m\u001b[0;34m[\u001b[0m\u001b[0mscenario_id\u001b[0m\u001b[0;34m]\u001b[0m\u001b[0;34m\u001b[0m\u001b[0;34m\u001b[0m\u001b[0m\n\u001b[0m\u001b[1;32m      3\u001b[0m \u001b[0;32mfor\u001b[0m \u001b[0magent\u001b[0m\u001b[0;34m,\u001b[0m \u001b[0magent_id\u001b[0m\u001b[0;34m,\u001b[0m \u001b[0mctx\u001b[0m\u001b[0;34m,\u001b[0m \u001b[0mreal_ids\u001b[0m \u001b[0;32min\u001b[0m \u001b[0mzip\u001b[0m\u001b[0;34m(\u001b[0m\u001b[0;34m[\u001b[0m\u001b[0malice\u001b[0m\u001b[0;34m,\u001b[0m \u001b[0mbob\u001b[0m\u001b[0;34m]\u001b[0m\u001b[0;34m,\u001b[0m \u001b[0;34m[\u001b[0m\u001b[0;36m0\u001b[0m\u001b[0;34m,\u001b[0m \u001b[0;36m1\u001b[0m\u001b[0;34m]\u001b[0m\u001b[0;34m,\u001b[0m \u001b[0;34m[\u001b[0m\u001b[0mctx1\u001b[0m\u001b[0;34m,\u001b[0m \u001b[0mctx2\u001b[0m\u001b[0;34m]\u001b[0m\u001b[0;34m,\u001b[0m \u001b[0;34m[\u001b[0m\u001b[0mids1\u001b[0m\u001b[0;34m,\u001b[0m \u001b[0mids2\u001b[0m\u001b[0;34m]\u001b[0m\u001b[0;34m)\u001b[0m\u001b[0;34m:\u001b[0m\u001b[0;34m\u001b[0m\u001b[0;34m\u001b[0m\u001b[0m\n\u001b[1;32m      4\u001b[0m     \u001b[0magent\u001b[0m\u001b[0;34m.\u001b[0m\u001b[0mfeed_context\u001b[0m\u001b[0;34m(\u001b[0m\u001b[0mctx\u001b[0m\u001b[0;34m)\u001b[0m\u001b[0;34m\u001b[0m\u001b[0;34m\u001b[0m\u001b[0m\n\u001b[1;32m      5\u001b[0m     \u001b[0magent\u001b[0m\u001b[0;34m.\u001b[0m\u001b[0mreal_ids\u001b[0m \u001b[0;34m=\u001b[0m \u001b[0mreal_ids\u001b[0m\u001b[0;34m\u001b[0m\u001b[0;34m\u001b[0m\u001b[0m\n",
      "\u001b[0;31mNameError\u001b[0m: name 'selfplay_scenarios' is not defined"
     ]
    },
    {
     "name": "stdout",
     "output_type": "stream",
     "text": [
      "> \u001b[0;32m<ipython-input-41-e274016a0281>\u001b[0m(2)\u001b[0;36m<module>\u001b[0;34m()\u001b[0m\n",
      "\u001b[0;32m      1 \u001b[0;31m\u001b[0;31m# selfplay emulation\u001b[0m\u001b[0;34m\u001b[0m\u001b[0;34m\u001b[0m\u001b[0;34m\u001b[0m\u001b[0m\n",
      "\u001b[0m\u001b[0;32m----> 2 \u001b[0;31m\u001b[0mscenario\u001b[0m \u001b[0;34m=\u001b[0m \u001b[0mselfplay_scenarios\u001b[0m\u001b[0;34m[\u001b[0m\u001b[0mscenario_id\u001b[0m\u001b[0;34m]\u001b[0m\u001b[0;34m\u001b[0m\u001b[0;34m\u001b[0m\u001b[0m\n",
      "\u001b[0m\u001b[0;32m      3 \u001b[0;31m\u001b[0;32mfor\u001b[0m \u001b[0magent\u001b[0m\u001b[0;34m,\u001b[0m \u001b[0magent_id\u001b[0m\u001b[0;34m,\u001b[0m \u001b[0mctx\u001b[0m\u001b[0;34m,\u001b[0m \u001b[0mreal_ids\u001b[0m \u001b[0;32min\u001b[0m \u001b[0mzip\u001b[0m\u001b[0;34m(\u001b[0m\u001b[0;34m[\u001b[0m\u001b[0malice\u001b[0m\u001b[0;34m,\u001b[0m \u001b[0mbob\u001b[0m\u001b[0;34m]\u001b[0m\u001b[0;34m,\u001b[0m \u001b[0;34m[\u001b[0m\u001b[0;36m0\u001b[0m\u001b[0;34m,\u001b[0m \u001b[0;36m1\u001b[0m\u001b[0;34m]\u001b[0m\u001b[0;34m,\u001b[0m \u001b[0;34m[\u001b[0m\u001b[0mctx1\u001b[0m\u001b[0;34m,\u001b[0m \u001b[0mctx2\u001b[0m\u001b[0;34m]\u001b[0m\u001b[0;34m,\u001b[0m \u001b[0;34m[\u001b[0m\u001b[0mids1\u001b[0m\u001b[0;34m,\u001b[0m \u001b[0mids2\u001b[0m\u001b[0;34m]\u001b[0m\u001b[0;34m)\u001b[0m\u001b[0;34m:\u001b[0m\u001b[0;34m\u001b[0m\u001b[0;34m\u001b[0m\u001b[0m\n",
      "\u001b[0m\u001b[0;32m      4 \u001b[0;31m    \u001b[0magent\u001b[0m\u001b[0;34m.\u001b[0m\u001b[0mfeed_context\u001b[0m\u001b[0;34m(\u001b[0m\u001b[0mctx\u001b[0m\u001b[0;34m)\u001b[0m\u001b[0;34m\u001b[0m\u001b[0;34m\u001b[0m\u001b[0m\n",
      "\u001b[0m\u001b[0;32m      5 \u001b[0;31m    \u001b[0magent\u001b[0m\u001b[0;34m.\u001b[0m\u001b[0mreal_ids\u001b[0m \u001b[0;34m=\u001b[0m \u001b[0mreal_ids\u001b[0m\u001b[0;34m\u001b[0m\u001b[0;34m\u001b[0m\u001b[0m\n",
      "\u001b[0m\n",
      "--KeyboardInterrupt--\n"
     ]
    }
   ],
   "source": [
    "# selfplay emulation\n",
    "scenario = selfplay_scenarios[scenario_id]\n",
    "for agent, agent_id, ctx, real_ids in zip([alice, bob], [0, 1], [ctx1, ctx2], [ids1, ids2]):\n",
    "    agent.feed_context(ctx)\n",
    "    agent.real_ids = real_ids\n",
    "    agent.agent_id = agent_id\n",
    "    \n",
    "dot_mention_samples = 1\n",
    "utt_samples = 10\n",
    "    \n",
    "writer, reader = [alice, bob]\n",
    "conv = []\n",
    "speaker = []\n",
    "words_left = 5000\n",
    "\n",
    "num_mentions = 2\n",
    "num_dots_to_mention = 3\n",
    "\n",
    "sample_temperature = 0.25\n",
    "argmax_temperature = 0.005\n",
    "\n",
    "def make_dots_mentioned_per_ref():\n",
    "#     # fixed\n",
    "#     return torch.BoolTensor([[1,1,0,0,0,0,0], [1,0,0,0,0,0,0]]).unsqueeze(0)\n",
    "#     return torch.BoolTensor([[1,1,0,0,0,0,0]]).unsqueeze(0)\n",
    "\n",
    "    # random initial and drop\n",
    "    mentioned = torch.zeros(1,num_mentions,7).bool()\n",
    "    dots_mentioned = []\n",
    "    for _ in range(num_dots_to_mention):\n",
    "        dot_ix = torch.randint(7, (1,))\n",
    "        mentioned[:,0,dot_ix] = 1\n",
    "        dots_mentioned.append(dot_ix)\n",
    "        \n",
    "    for mention_ix in range(1, num_mentions):\n",
    "        mentioned[:,mention_ix,random.choice(dots_mentioned)] = 1\n",
    "    return mentioned\n",
    "    \n",
    "\n",
    "    # random \n",
    "#     mentioned = torch.zeros(1,num_mentions,7).bool()\n",
    "#     for mention_ix in range(num_mentions):\n",
    "#         for _ in range(num_dots_to_mention):\n",
    "#             dot_ix = torch.randint(7, (1,))\n",
    "#             mentioned[:,mention_ix,dot_ix] = 1\n",
    "#     return mentioned\n",
    "\n",
    "display_context = True\n",
    "\n",
    "while True:\n",
    "    dots_mentioned_per_ref = make_dots_mentioned_per_ref()\n",
    "    dots_mentioned = dots_mentioned_per_ref.max(1).values\n",
    "    \n",
    "    num_markables=torch.LongTensor([dots_mentioned_per_ref.size(1)])\n",
    "    if display_context:\n",
    "        for mention_ix in range(dots_mentioned_per_ref.size(1)):\n",
    "            display_attn(scenario, dots_mentioned_per_ref[:,mention_ix].float(), writer.agent_id, name=f'dots_mentioned_{mention_ix}')\n",
    "    for us in range(utt_samples):\n",
    "        outs, _, _, _, extra = writer.model.write(\n",
    "            writer.ctx,\n",
    "            writer.ctx_differences,\n",
    "            writer.ctx_h,\n",
    "            writer.reader_and_writer_lang_h,\n",
    "            words_left,\n",
    "            sample_temperature,\n",
    "            dots_mentioned=dots_mentioned,\n",
    "            dots_mentioned_per_ref=dots_mentioned_per_ref,\n",
    "            num_markables=num_markables,\n",
    "        )\n",
    "        print('agent {}; sample {}\\t{}'.format(writer.agent_id, us, ' '.join(writer._decode(outs, writer.model.word_dict))))\n",
    "    print()\n",
    "        \n",
    "    num_markables=torch.LongTensor([num_mentions])\n",
    "    if display_context:\n",
    "        for mention_ix in range(dots_mentioned_per_ref.size(1)):\n",
    "            display_attn(scenario, dots_mentioned_per_ref[:,mention_ix].float(), writer.agent_id, name=f'dots_mentioned_{mention_ix}')\n",
    "    out = writer.write(\n",
    "        max_words=words_left,\n",
    "        dots_mentioned=dots_mentioned,\n",
    "        dots_mentioned_per_ref=dots_mentioned_per_ref,\n",
    "        num_markables=num_markables,\n",
    "        temperature_override=argmax_temperature,\n",
    "    )\n",
    "    print('agent {}; argmax\\t{}'.format(writer.agent_id, ' '.join(out)))\n",
    "    print()\n",
    "    \n",
    "#     if display_context and writer.extras[-1].get('feed_ctx_attn_prob', None) is not None:\n",
    "#         display_attn(scenario, writer.extras[-1]['feed_ctx_attn_prob'], writer.agent_id, name='feed attention')\n",
    "    \n",
    "#     if display_context and writer.extras[-1].get('word_ctx_attn_prob_mean', None) is not None:\n",
    "#         display_attn(scenario, writer.extras[-1]['word_ctx_attn_prob_mean'], writer.agent_id, name='word attention mean')\n",
    "        \n",
    "#     for ix, ix_attn in enumerate(writer.extras[-1]['word_ctx_attn_probs']):\n",
    "#         display_attn(scenario, ix_attn, writer.agent_id, name='t {}: {}'.format(ix, out[ix]))\n",
    "        \n",
    "    print('{}\\t{}'.format(writer.agent_id, ' '.join(out)))\n",
    "    print('-'*60)\n",
    "        \n",
    "    words_left -= len(out)\n",
    "    conv.append(out)\n",
    "    speaker.append(writer.agent_id)\n",
    "    reader.read(out)\n",
    "    if is_selection(out) or words_left <= 1:\n",
    "        break\n",
    "    writer, reader = reader, writer"
   ]
  },
  {
   "cell_type": "code",
   "execution_count": null,
   "metadata": {},
   "outputs": [],
   "source": [
    "markable_detector = utils.load_model('')"
   ]
  },
  {
   "cell_type": "code",
   "execution_count": 92,
   "metadata": {},
   "outputs": [
    {
     "data": {
      "text/plain": [
       "True"
      ]
     },
     "execution_count": 92,
     "metadata": {},
     "output_type": "execute_result"
    }
   ],
   "source": [
    "model.args.mark_dots_mentioned"
   ]
  },
  {
   "cell_type": "code",
   "execution_count": 94,
   "metadata": {},
   "outputs": [
    {
     "data": {
      "text/plain": [
       "odict_keys(['ctx', 'inpts', 'tgts', 'ref_inpt', 'ref_tgt', 'sel_tgt', 'scenario_ids', 'real_ids', 'partner_real_ids', 'agents', 'chat_ids', 'sel_idxs', 'lens', 'rev_idxs', 'hid_idxs', 'num_markables', 'is_self', 'partner_ref_inpt', 'partner_ref_tgt_our_view', 'partner_num_markables', 'referent_disagreements', 'partner_referent_disagreements'])"
      ]
     },
     "execution_count": 94,
     "metadata": {},
     "output_type": "execute_result"
    }
   ],
   "source": [
    "validset[0]._asdict().keys()"
   ]
  },
  {
   "cell_type": "code",
   "execution_count": 102,
   "metadata": {},
   "outputs": [
    {
     "data": {
      "text/plain": [
       "torch.Size([1, 28])"
      ]
     },
     "execution_count": 102,
     "metadata": {},
     "output_type": "execute_result"
    }
   ],
   "source": [
    "ctx.size()"
   ]
  },
  {
   "cell_type": "code",
   "execution_count": 75,
   "metadata": {
    "scrolled": false
   },
   "outputs": [],
   "source": [
    "def selfplay_contexts_and_mentions(scenario, candidates=1,\n",
    "                                    sample_temperature=0.25, argmax_temperature=0.005,\n",
    "                                    inference='beam'):\n",
    "#     scenario = selfplay_scenarios[scenario_id]\n",
    "    alice = RnnAgent(model, args)\n",
    "    bob = RnnAgent(model, args)\n",
    "    \n",
    "    for agent, agent_id, ctx, real_ids in zip([alice, bob], [0, 1], [ctx1, ctx2], [ids1, ids2]):\n",
    "        agent.feed_context(ctx)\n",
    "        agent.real_ids = real_ids\n",
    "        agent.agent_id = agent_id\n",
    "#     ctx, inpts, tgts, ref_inpts, ref_tgts, sel_tgt, \\\n",
    "#     [scenario_id], real_ids, partner_real_ids, agents, chat_ids, sel_idxs, \\\n",
    "#     lens, rev_idxs, hid_idxs, num_markables, \\\n",
    "#     is_self, partner_ref_inpts, partner_ref_tgts_our_view, partner_num_markables,\\\n",
    "#     ref_disagreements, partner_ref_disagreements = datasplit[index]\n",
    "    \n",
    "    bsz = 1\n",
    "    num_dots = 7\n",
    "    \n",
    "    # assume we've been training for a while, so that the beliefs are out of the warmup period (e.g. for models that switch from true->predicted)\n",
    "    epoch = 1000\n",
    "    \n",
    "    assert [] == model.args.ref_beliefs == model.args.partner_ref_beliefs == model.args.generation_beliefs == model.args.selection_beliefs == model.args.next_mention_beliefs\n",
    "    \n",
    "    belief_constructor = BlankBeliefConstructor()\n",
    "    \n",
    "    writer, reader = alice, bob\n",
    "    \n",
    "    conv = []\n",
    "    speaker = []\n",
    "    words_left = 5000\n",
    "\n",
    "    sentence_ix = 0\n",
    "    \n",
    "    while words_left > 0:\n",
    "        \n",
    "        nm_out, _, nm_num_markables = agent.next_mention_outs[-1]\n",
    "        if display_mentions and nm_out is not None:\n",
    "            dummy_targets = torch.zeros((1, nm_num_markables[0].item(), 7)).long()\n",
    "            _, nm_preds, _ = reference_predictor.forward(\n",
    "                True, dummy_targets, nm_out, nm_num_markables\n",
    "            )\n",
    "            display_attns(scenario, nm_preds.squeeze(1).float(), agent.agent_id, \"to_mention_pred\")\n",
    "        else:\n",
    "            print(\"empty to_mention_pred\")\n",
    "        display_attns(scenario, mentions, agent.agent_id, \"to_mention_true\")\n",
    "#             for mention_ix in range(dots_mentioned_per_ref.size(1)):\n",
    "#                 display_attn(scenario, dots_mentioned_per_ref[:,mention_ix].float(), agent.agent_id, name=f'dots_mentioned_{mention_ix}')\n",
    "        else:\n",
    "            dots_mentioned = torch.zeros(1, 7).bool()\n",
    "            dots_mentioned_per_ref = torch.zeros(1, 0, 7).bool()\n",
    "            this_num_markables = torch.LongTensor([0])\n",
    "\n",
    "        if is_self[sentence_ix]:\n",
    "            if inference == 'sample':\n",
    "                for sample_ix in range(candidates):\n",
    "                    pred_outs, _, _, _, extra = agent.model.write(\n",
    "                        agent.state, \n",
    "                        words_left, sample_temperature,\n",
    "                        dots_mentioned=dots_mentioned,\n",
    "                        dots_mentioned_per_ref=dots_mentioned_per_ref,\n",
    "                        num_markables=this_num_markables\n",
    "                    )\n",
    "                    print('sample {}\\t{}'.format(sample_ix, ' '.join(agent._decode(pred_outs, agent.model.word_dict))))\n",
    "            elif inference in ['beam', 'gumbel_beam']:\n",
    "                _, _, decoded = agent.model.write_beam(\n",
    "                    agent.state, candidates, words_left, \n",
    "                    dots_mentioned=dots_mentioned,\n",
    "                    dots_mentioned_per_ref=dots_mentioned_per_ref,\n",
    "                    num_markables=this_num_markables,\n",
    "                    temperature=sample_temperature if inference=='gumbel_beam' else 1.0,\n",
    "                    gumbel_noise=inference=='gumbel_beam',\n",
    "                )\n",
    "                for cand_ix, utt in enumerate(decoded):\n",
    "                    print('beam {}\\t{}'.format(cand_ix, ' '.join(utt)))\n",
    "            else:\n",
    "                raise NotImplementedError(inference)\n",
    "            pred_outs, _, _, _, extra = agent.model.write(\n",
    "                agent.state, \n",
    "                words_left, argmax_temperature,\n",
    "                dots_mentioned=dots_mentioned,\n",
    "                dots_mentioned_per_ref=dots_mentioned_per_ref,\n",
    "                num_markables=this_num_markables\n",
    "            )\n",
    "            print('greedy\\t{}'.format(' '.join(agent._decode(pred_outs, agent.model.word_dict))))\n",
    "    #         print(' '.join(words_og))\n",
    "\n",
    "            out = agent.write(\n",
    "                max_words=words_left,\n",
    "                force_words=[words_og],\n",
    "                start_token=words_og[0],\n",
    "                dots_mentioned=dots_mentioned,\n",
    "                dots_mentioned_per_ref=dots_mentioned_per_ref,\n",
    "                num_markables=this_num_markables,\n",
    "                ref_inpt=ref_inpts[sentence_ix],\n",
    "                detect_markables=detect_markables,\n",
    "            )\n",
    "        \n",
    "        else:\n",
    "            out = words_og\n",
    "            agent.read(words_og,\n",
    "                       dots_mentioned=dots_mentioned,\n",
    "                       dots_mentioned_per_ref=dots_mentioned_per_ref,\n",
    "                       num_markables=this_num_markables,\n",
    "                       partner_ref_inpt=partner_ref_inpts[sentence_ix],\n",
    "                       partner_num_markables=partner_num_markables[sentence_ix],\n",
    "                       next_num_markables_to_force=num_markables[sentence_ix + 1] if (force_num_markables and sentence_ix < len(num_markables) - 1) else None,\n",
    "                       detect_markables=detect_markables,\n",
    "                       )\n",
    "        \n",
    "#         agent.update_dot_h(ref_inpts[sentence_ix], partner_ref_inpts[sentence_ix],\n",
    "#                             num_markables[sentence_ix], partner_num_markables[sentence_ix])\n",
    "            \n",
    "\n",
    "        print('human\\t{}'.format(' '.join(out)))\n",
    "    \n",
    "        if is_self[sentence_ix]:\n",
    "            if detect_markables:\n",
    "                print('detected markables:')\n",
    "                for markable in writer.markables[-1]:\n",
    "                    print(markable)\n",
    "                this_num_markables_pred = torch.LongTensor([len(writer.markables[-1])])\n",
    "                this_ref_inpts = writer.ref_inpts[-1]\n",
    "            elif ref_inpts[sentence_ix] is not None:\n",
    "                this_num_markables_pred = this_num_markables\n",
    "                this_ref_inpts = ref_inpt[sentence_ix]\n",
    "                \n",
    "                _, ref_preds, ref_stats = reference_predictor.forward(\n",
    "                    ref_inpts[sentence_ix], ref_tgts[sentence_ix], writer.ref_outs[-1], this_num_markables\n",
    "                )\n",
    "            else:\n",
    "                this_num_markables_pred = None\n",
    "            if this_num_markables_pred is not None:\n",
    "                dummy_targets = torch.zeros((1, this_num_markables_pred.item(), 7)).long()\n",
    "                _, ref_preds, _ = reference_predictor.forward(\n",
    "                    this_ref_inpts, dummy_targets, writer.ref_outs[-1], this_num_markables_pred\n",
    "                )\n",
    "#                 print(\"ref_preds size:\", ref_preds.size())\n",
    "                if writer.ref_outs[-1] is not None and ref_preds is not None:\n",
    "                    display_attns(scenario, writer.ref_outs[-1][0].sigmoid().squeeze(1), writer.agent_id, \"ref_marginal_probs\")\n",
    "                    display_attns(scenario, ref_preds.squeeze(1).float(), writer.agent_id, \"refs_pred\")\n",
    "                    display_attns(scenario, ref_tgts[sentence_ix].squeeze(0).float(), writer.agent_id, \"refs_true\")\n",
    "#                 print(ref_stats)\n",
    "            if out[0] != 'YOU':\n",
    "                utt = ['YOU:'] + out\n",
    "            else:\n",
    "                utt = out\n",
    "        else:\n",
    "            if detect_markables:\n",
    "                print('detected markables:')\n",
    "                for markable in writer.partner_markables[-1]:\n",
    "                    print(markable)\n",
    "                this_partner_num_markables_pred = torch.LongTensor([len(writer.partner_markables[-1])])\n",
    "                this_partner_ref_inpts = writer.partner_ref_inpts[-1]\n",
    "            elif partner_ref_inpts[sentence_ix] is not None:\n",
    "                this_partner_num_markables_pred = partner_num_markables[sentence_ix]\n",
    "                this_partner_ref_inpts = partner_ref_inpts[sentence_ix]\n",
    "            else:\n",
    "                this_partner_num_markables_pred = None\n",
    "            \n",
    "            if this_partner_num_markables_pred is not None:\n",
    "#                 _, partner_ref_preds, partner_ref_stats = reference_predictor.forward(\n",
    "#                     partner_ref_inpts[sentence_ix], partner_ref_tgts_our_view[sentence_ix],\n",
    "#                     writer.partner_ref_outs[-1], partner_num_markables[sentence_ix]\n",
    "#                 )\n",
    "                dummy_targets = torch.zeros((1, this_partner_num_markables_pred.item(), 7)).long()\n",
    "                _, partner_ref_preds, partner_ref_stats = reference_predictor.forward(\n",
    "                    this_partner_ref_inpts, dummy_targets,\n",
    "                    writer.partner_ref_outs[-1], this_partner_num_markables_pred,\n",
    "                )\n",
    "    #             print(partner_ref_preds)\n",
    "                if writer.partner_ref_outs[-1] is not None and partner_ref_preds is not None:\n",
    "                    display_attns(scenario, writer.partner_ref_outs[-1][0].sigmoid().squeeze(1), writer.agent_id, \"partner_ref_marginal_probs\")\n",
    "                    display_attns(scenario, partner_ref_preds.squeeze(1).float(), writer.agent_id, \"partner_refs_pred\")\n",
    "                    display_attns(scenario, partner_ref_tgts_our_view[sentence_ix].squeeze(0).float(), writer.agent_id, \"partner_refs_true\")\n",
    "                    display_attns(scenario, partner_ref_tgts[sentence_ix].squeeze(0).float(), 1 - writer.agent_id, \"partner_ref_true (their view)\")\n",
    "#                 print(partner_ref_stats)\n",
    "            if out[0] == 'THEM:':\n",
    "                utt = ['YOU:'] + out[1:]\n",
    "            else:\n",
    "                utt = ['YOU:'] + out\n",
    "        \n",
    "        print()\n",
    "        print('-'*40)\n",
    "        print()\n",
    "        words_left -= len(out)\n",
    "        conv.append(out)\n",
    "        \n",
    "        if is_selection(out):\n",
    "            # sel_outs should be length 1\n",
    "            selection_logits, _, _ = writer.sel_outs[-1]\n",
    "            display_attns(scenario, selection_logits.sigmoid().float(), writer.agent_id, \"sel_pred\")\n",
    "            sel_true = torch.zeros(1,7)\n",
    "            sel_true[0,sel_tgt] = 1\n",
    "            display_attns(scenario, sel_true, writer.agent_id, \"sel_true\")\n",
    "            break\n",
    "            \n",
    "        writer, reader = reader, writer\n",
    "\n",
    "        sentence_ix += 1"
   ]
  }
 ],
 "metadata": {
  "kernelspec": {
   "display_name": "Python 3",
   "language": "python",
   "name": "python3"
  },
  "language_info": {
   "codemirror_mode": {
    "name": "ipython",
    "version": 3
   },
   "file_extension": ".py",
   "mimetype": "text/x-python",
   "name": "python",
   "nbconvert_exporter": "python",
   "pygments_lexer": "ipython3",
   "version": "3.6.10"
  }
 },
 "nbformat": 4,
 "nbformat_minor": 2
}
