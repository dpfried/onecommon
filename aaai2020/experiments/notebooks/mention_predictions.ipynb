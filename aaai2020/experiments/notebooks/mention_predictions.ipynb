{
 "cells": [
  {
   "cell_type": "code",
   "execution_count": 1,
   "metadata": {},
   "outputs": [
    {
     "name": "stdout",
     "output_type": "stream",
     "text": [
      "/home/dfried/projects/onecommon/aaai2020/experiments\n"
     ]
    }
   ],
   "source": [
    "cd '/home/dfried/projects/onecommon/aaai2020/experiments'"
   ]
  },
  {
   "cell_type": "code",
   "execution_count": 97,
   "metadata": {},
   "outputs": [
    {
     "name": "stdout",
     "output_type": "stream",
     "text": [
      "Collecting git+https://github.com/harvardnlp/namedtensor\n",
      "  Cloning https://github.com/harvardnlp/namedtensor to /tmp/pip-req-build-e93b4nwi\n",
      "  Running command git clone -q https://github.com/harvardnlp/namedtensor /tmp/pip-req-build-e93b4nwi\n",
      "Requirement already satisfied: torch in /home/dfried/miniconda3/envs/onecommon/lib/python3.6/site-packages (from namedtensor==0.0.2) (1.3.0)\n",
      "Collecting torchtext\n",
      "\u001b[?25l  Downloading https://files.pythonhosted.org/packages/f2/17/e7c588245aece7aa93f360894179374830daf60d7ed0bbb59332de3b3b61/torchtext-0.6.0-py3-none-any.whl (64kB)\n",
      "\u001b[K     |████████████████████████████████| 71kB 8.3MB/s eta 0:00:011\n",
      "\u001b[?25hRequirement already satisfied: numpy in /home/dfried/miniconda3/envs/onecommon/lib/python3.6/site-packages (from namedtensor==0.0.2) (1.18.1)\n",
      "Collecting opt-einsum\n",
      "\u001b[?25l  Downloading https://files.pythonhosted.org/packages/63/a5/e6c07b08b934831ccb8c98ee335e66b7761c5754ee3cabfe4c11d0b1af28/opt_einsum-3.2.1-py3-none-any.whl (63kB)\n",
      "\u001b[K     |████████████████████████████████| 71kB 10.6MB/s eta 0:00:01\n",
      "\u001b[?25hRequirement already satisfied: tqdm in /home/dfried/miniconda3/envs/onecommon/lib/python3.6/site-packages (from torchtext->namedtensor==0.0.2) (4.41.1)\n",
      "Requirement already satisfied: requests in /home/dfried/miniconda3/envs/onecommon/lib/python3.6/site-packages (from torchtext->namedtensor==0.0.2) (2.22.0)\n",
      "Collecting sentencepiece\n",
      "\u001b[?25l  Downloading https://files.pythonhosted.org/packages/68/e5/0366f50a00db181f4b7f3bdc408fc7c4177657f5bf45cb799b79fb4ce15c/sentencepiece-0.1.92-cp36-cp36m-manylinux1_x86_64.whl (1.2MB)\n",
      "\u001b[K     |████████████████████████████████| 1.2MB 18.6MB/s eta 0:00:01\n",
      "\u001b[?25hRequirement already satisfied: six in /home/dfried/miniconda3/envs/onecommon/lib/python3.6/site-packages (from torchtext->namedtensor==0.0.2) (1.13.0)\n",
      "Requirement already satisfied: urllib3!=1.25.0,!=1.25.1,<1.26,>=1.21.1 in /home/dfried/miniconda3/envs/onecommon/lib/python3.6/site-packages (from requests->torchtext->namedtensor==0.0.2) (1.25.7)\n",
      "Requirement already satisfied: idna<2.9,>=2.5 in /home/dfried/miniconda3/envs/onecommon/lib/python3.6/site-packages (from requests->torchtext->namedtensor==0.0.2) (2.8)\n",
      "Requirement already satisfied: certifi>=2017.4.17 in /home/dfried/miniconda3/envs/onecommon/lib/python3.6/site-packages (from requests->torchtext->namedtensor==0.0.2) (2020.4.5.1)\n",
      "Requirement already satisfied: chardet<3.1.0,>=3.0.2 in /home/dfried/miniconda3/envs/onecommon/lib/python3.6/site-packages (from requests->torchtext->namedtensor==0.0.2) (3.0.4)\n",
      "Building wheels for collected packages: namedtensor\n",
      "  Building wheel for namedtensor (setup.py) ... \u001b[?25ldone\n",
      "\u001b[?25h  Created wheel for namedtensor: filename=namedtensor-0.0.2-cp36-none-any.whl size=24820 sha256=e2bf54e702266faa18f5c3e6aa18e5030fc07c1e551c447194101132ab19f7c8\n",
      "  Stored in directory: /tmp/pip-ephem-wheel-cache-r6qe838o/wheels/67/14/88/b9602d277755e9dc045fe598dcf7ff0a0459740adc3ddb3660\n",
      "Successfully built namedtensor\n",
      "Installing collected packages: sentencepiece, torchtext, opt-einsum, namedtensor\n",
      "Successfully installed namedtensor-0.0.2 opt-einsum-3.2.1 sentencepiece-0.1.92 torchtext-0.6.0\n"
     ]
    }
   ],
   "source": [
    "!pip install git+https://github.com/harvardnlp/namedtensor"
   ]
  },
  {
   "cell_type": "code",
   "execution_count": 2,
   "metadata": {},
   "outputs": [],
   "source": [
    "import models\n",
    "import data\n",
    "import utils\n",
    "from domain import get_domain"
   ]
  },
  {
   "cell_type": "code",
   "execution_count": 98,
   "metadata": {},
   "outputs": [],
   "source": [
    "from namedtensor import ntorch"
   ]
  },
  {
   "cell_type": "code",
   "execution_count": 25,
   "metadata": {},
   "outputs": [],
   "source": [
    "import torch"
   ]
  },
  {
   "cell_type": "code",
   "execution_count": 8,
   "metadata": {},
   "outputs": [],
   "source": [
    "domain = get_domain('one_common')\n",
    "unk_threshold = 10\n",
    "model_ty = models.get_model_type('hierarchical_rnn_reference_model')\n",
    "\n",
    "ctx_encoder_type = 'rel_attn_encoder'\n",
    "# model_fname = 'rel_tsel_ref_dial_model/default_0_ep-4.th'\n",
    "# model is actually in \"serialized_models/{model_fname}\""
   ]
  },
  {
   "cell_type": "code",
   "execution_count": 6,
   "metadata": {},
   "outputs": [
    {
     "name": "stdout",
     "output_type": "stream",
     "text": [
      "dataset data/onecommon/train_reference_0.txt, total 544674, unks 4134, ratio 0.76%\n",
      "dataset data/onecommon/valid_reference_0.txt, total 70004, unks 720, ratio 1.03%\n",
      "dataset data/onecommon/test_reference_0.txt, total 67008, unks 576, ratio 0.86%\n"
     ]
    }
   ],
   "source": [
    "seed = 0\n",
    "corpus = model_ty.corpus_ty(domain, 'data/onecommon',\n",
    "                            train='train_reference_{}.txt'.format(seed),\n",
    "                            valid='valid_reference_{}.txt'.format(seed),\n",
    "                            test='test_reference_{}.txt'.format(seed),\n",
    "                            freq_cutoff=unk_threshold, verbose=True)"
   ]
  },
  {
   "cell_type": "code",
   "execution_count": 7,
   "metadata": {},
   "outputs": [
    {
     "data": {
      "text/plain": [
       "<corpora.reference_sentence.ReferenceSentenceCorpus at 0x7f5e2a6d2f60>"
      ]
     },
     "execution_count": 7,
     "metadata": {},
     "output_type": "execute_result"
    }
   ],
   "source": [
    "corpus"
   ]
  },
  {
   "cell_type": "code",
   "execution_count": 6,
   "metadata": {},
   "outputs": [],
   "source": [
    "# model = utils.load_model(model_fname, map_location='cpu')"
   ]
  },
  {
   "cell_type": "code",
   "execution_count": 9,
   "metadata": {},
   "outputs": [],
   "source": [
    "batchsize=10\n",
    "validset, validset_stats = corpus.valid_dataset(batchsize)"
   ]
  },
  {
   "cell_type": "code",
   "execution_count": 10,
   "metadata": {},
   "outputs": [
    {
     "data": {
      "text/plain": [
       "{'n': 143700, 'self_n': 71834, 'nonpadn': 70004, 'self_nonpadn': 35002}"
      ]
     },
     "execution_count": 10,
     "metadata": {},
     "output_type": "execute_result"
    }
   ],
   "source": [
    "validset_stats"
   ]
  },
  {
   "cell_type": "code",
   "execution_count": 11,
   "metadata": {},
   "outputs": [
    {
     "name": "stdout",
     "output_type": "stream",
     "text": [
      "1 1038 {'n': 74862, 'self_n': 37431, 'nonpadn': 70004, 'self_nonpadn': 35002}\n",
      "2 519 {'n': 95666, 'self_n': 47561, 'nonpadn': 70004, 'self_nonpadn': 35002}\n",
      "5 214 {'n': 123064, 'self_n': 61796, 'nonpadn': 70004, 'self_nonpadn': 35002}\n",
      "10 110 {'n': 143088, 'self_n': 71567, 'nonpadn': 70004, 'self_nonpadn': 35002}\n"
     ]
    }
   ],
   "source": [
    "for bsz in [1, 2, 5, 10]:\n",
    "    dset, dset_stats = corpus.valid_dataset(bsz)\n",
    "    print(bsz, len(dset), dset_stats)"
   ]
  },
  {
   "cell_type": "code",
   "execution_count": 12,
   "metadata": {},
   "outputs": [],
   "source": [
    "# ctx: this player's dots\n",
    "# inpt / tgt: dialogue word indices (tgt are shifted by 1)\n",
    "# ref_inpt"
   ]
  },
  {
   "cell_type": "code",
   "execution_count": 13,
   "metadata": {},
   "outputs": [
    {
     "ename": "ValueError",
     "evalue": "too many values to unpack (expected 8)",
     "output_type": "error",
     "traceback": [
      "\u001b[0;31m---------------------------------------------------------------------------\u001b[0m",
      "\u001b[0;31mValueError\u001b[0m                                Traceback (most recent call last)",
      "\u001b[0;32m<ipython-input-13-b6c366d15aac>\u001b[0m in \u001b[0;36m<module>\u001b[0;34m\u001b[0m\n\u001b[0;32m----> 1\u001b[0;31m \u001b[0;32mfor\u001b[0m \u001b[0;34m(\u001b[0m\u001b[0minput_vals\u001b[0m\u001b[0;34m,\u001b[0m \u001b[0mword_idxs\u001b[0m\u001b[0;34m,\u001b[0m \u001b[0mreferent_idxs\u001b[0m\u001b[0;34m,\u001b[0m \u001b[0moutput_idx\u001b[0m\u001b[0;34m,\u001b[0m \u001b[0mscenario_id\u001b[0m\u001b[0;34m,\u001b[0m \u001b[0mreal_ids\u001b[0m\u001b[0;34m,\u001b[0m \u001b[0magent\u001b[0m\u001b[0;34m,\u001b[0m \u001b[0mchat_id\u001b[0m\u001b[0;34m)\u001b[0m \u001b[0;32min\u001b[0m \u001b[0mcorpus\u001b[0m\u001b[0;34m.\u001b[0m\u001b[0mtrain\u001b[0m\u001b[0;34m:\u001b[0m\u001b[0;34m\u001b[0m\u001b[0;34m\u001b[0m\u001b[0m\n\u001b[0m\u001b[1;32m      2\u001b[0m     \u001b[0;32mif\u001b[0m \u001b[0;34m'C_d0de3d0144df405e998ae718539ff9a4'\u001b[0m \u001b[0;34m==\u001b[0m \u001b[0mchat_id\u001b[0m\u001b[0;34m:\u001b[0m\u001b[0;34m\u001b[0m\u001b[0;34m\u001b[0m\u001b[0m\n\u001b[1;32m      3\u001b[0m         \u001b[0mprint\u001b[0m\u001b[0;34m(\u001b[0m\u001b[0;34m'found it'\u001b[0m\u001b[0;34m)\u001b[0m\u001b[0;34m\u001b[0m\u001b[0;34m\u001b[0m\u001b[0m\n\u001b[1;32m      4\u001b[0m         \u001b[0;32mbreak\u001b[0m\u001b[0;34m\u001b[0m\u001b[0;34m\u001b[0m\u001b[0m\n",
      "\u001b[0;31mValueError\u001b[0m: too many values to unpack (expected 8)"
     ]
    }
   ],
   "source": [
    "for (input_vals, word_idxs, referent_idxs, output_idx, scenario_id, real_ids, agent, chat_id) in corpus.train:\n",
    "    if 'C_d0de3d0144df405e998ae718539ff9a4' == chat_id:\n",
    "        print('found it')\n",
    "        break"
   ]
  },
  {
   "cell_type": "code",
   "execution_count": 31,
   "metadata": {},
   "outputs": [],
   "source": [
    "from collections import Counter"
   ]
  },
  {
   "cell_type": "code",
   "execution_count": 19,
   "metadata": {},
   "outputs": [],
   "source": [
    "from argparse import Namespace"
   ]
  },
  {
   "cell_type": "code",
   "execution_count": 20,
   "metadata": {},
   "outputs": [],
   "source": [
    "args = Namespace(only_first_mention=False)"
   ]
  },
  {
   "cell_type": "code",
   "execution_count": 18,
   "metadata": {},
   "outputs": [],
   "source": [
    "def make_dots_mentioned(ref_tgt, args):\n",
    "    assert ref_tgt.dim() == 3\n",
    "    if args.only_first_mention:\n",
    "        return ref_tgt[:,0,:] > 0\n",
    "    else:\n",
    "        return ref_tgt.sum(1) > 0\n",
    "\n",
    "\n",
    "def make_dots_mentioned_multi(refs, args, bsz, num_dots):\n",
    "    dots_mentioned = []\n",
    "    for ref_tgt in refs:\n",
    "        if ref_tgt is None:\n",
    "            dots_mentioned.append(torch.zeros(bsz, num_dots).bool())\n",
    "            continue\n",
    "        dots_mentioned.append(make_dots_mentioned(ref_tgt, args))\n",
    "    return dots_mentioned"
   ]
  },
  {
   "cell_type": "code",
   "execution_count": 23,
   "metadata": {},
   "outputs": [],
   "source": [
    "bsz = 1\n",
    "num_dots = 7"
   ]
  },
  {
   "cell_type": "code",
   "execution_count": 22,
   "metadata": {},
   "outputs": [],
   "source": [
    "valid_dataset, valid_dataset_stats = corpus.valid_dataset(bsz)"
   ]
  },
  {
   "cell_type": "code",
   "execution_count": 16,
   "metadata": {},
   "outputs": [],
   "source": [
    "ctx, inpts, tgts, ref_inpts, ref_tgts, sel_tgt, scenario_ids, real_ids, partner_real_ids, _, _, sel_idx, lens, rev_idxs, hid_idxs, num_markables, is_self, partner_ref_inpts, partner_ref_tgts_our_view, all_partner_num_markables = valid_dataset[0]"
   ]
  },
  {
   "cell_type": "code",
   "execution_count": 17,
   "metadata": {},
   "outputs": [
    {
     "data": {
      "text/plain": [
       "tensor([[-0.2750, -0.8050,  0.3333,  0.7200,  0.9250,  0.3600, -0.6667, -0.0800,\n",
       "         -0.4000, -0.1650, -0.6667,  0.3467, -0.1000, -0.2550,  1.0000, -0.7200,\n",
       "         -0.7350, -0.4300,  0.0000, -0.1867,  0.4100,  0.6550,  1.0000, -0.0533,\n",
       "         -0.5800, -0.2400, -0.6667,  0.5600]])"
      ]
     },
     "execution_count": 17,
     "metadata": {},
     "output_type": "execute_result"
    }
   ],
   "source": [
    "ctx"
   ]
  },
  {
   "cell_type": "code",
   "execution_count": 26,
   "metadata": {},
   "outputs": [],
   "source": [
    "dots_mentioned = make_dots_mentioned_multi(ref_tgts, args, bsz, num_dots)"
   ]
  },
  {
   "cell_type": "code",
   "execution_count": 27,
   "metadata": {},
   "outputs": [
    {
     "data": {
      "text/plain": [
       "[tensor([[False, False, False, False, False, False, False]]),\n",
       " tensor([[False, False,  True,  True, False, False,  True]]),\n",
       " tensor([[False, False, False, False, False, False, False]]),\n",
       " tensor([[False, False, False,  True, False, False, False]]),\n",
       " tensor([[False, False, False, False, False, False, False]])]"
      ]
     },
     "execution_count": 27,
     "metadata": {},
     "output_type": "execute_result"
    }
   ],
   "source": [
    "dots_mentioned"
   ]
  },
  {
   "cell_type": "code",
   "execution_count": 28,
   "metadata": {},
   "outputs": [],
   "source": [
    "partner_dots_mentioned = make_dots_mentioned_multi(partner_ref_tgts_our_view, args, bsz, num_dots)"
   ]
  },
  {
   "cell_type": "code",
   "execution_count": 29,
   "metadata": {},
   "outputs": [
    {
     "data": {
      "text/plain": [
       "[tensor([[ True, False, False, False, False, False, False]]),\n",
       " tensor([[False, False, False, False, False, False, False]]),\n",
       " tensor([[False, False, False,  True, False, False, False]]),\n",
       " tensor([[False, False, False, False, False, False, False]]),\n",
       " tensor([[False, False, False, False, False, False, False]])]"
      ]
     },
     "execution_count": 29,
     "metadata": {},
     "output_type": "execute_result"
    }
   ],
   "source": [
    "partner_dots_mentioned"
   ]
  },
  {
   "cell_type": "code",
   "execution_count": 30,
   "metadata": {},
   "outputs": [
    {
     "data": {
      "text/plain": [
       "[tensor([False]),\n",
       " tensor([True]),\n",
       " tensor([False]),\n",
       " tensor([True]),\n",
       " tensor([False])]"
      ]
     },
     "execution_count": 30,
     "metadata": {},
     "output_type": "execute_result"
    }
   ],
   "source": [
    "is_self"
   ]
  },
  {
   "cell_type": "code",
   "execution_count": 102,
   "metadata": {},
   "outputs": [],
   "source": [
    "# def tabulate_mentions(data):\n",
    "#     # operate on batch 1\n",
    "#     counts = Counter()\n",
    "#     for instance in data:\n",
    "#         ctx, inpts, tgts, ref_inpts, ref_tgts, sel_tgt, scenario_ids, real_ids, partner_real_ids, _, _, sel_idx, lens, rev_idxs, hid_idxs, num_markables, is_self, partner_ref_inpts, partner_ref_tgts_our_view, all_partner_num_markables = instance\n",
    "#         dots_mentioned = make_dots_mentioned_multi(ref_tgts, args, bsz, num_dots)\n",
    "#         partner_dots_mentioned = make_dots_mentioned_multi(partner_ref_tgts_our_view, args, bsz, num_dots)\n",
    "#         for i in range(len(dots_mentioned)):\n",
    "#             if not is_self[i].item():\n",
    "#                 continue\n",
    "#             dm = dots_mentioned[i].squeeze(0).tolist()\n",
    "#             n1_pdm = partner_dots_mentioned[i-1].squeeze(0).tolist() if i > 0 else [None] * 7\n",
    "#             n2_dm = dots_mentioned[i-2].squeeze(0).tolist() if i > 1 else [None] * 7\n",
    "#             for dot in range(num_dots):\n",
    "#                 key = (n2_dm[dot], n1_pdm[dot], dm[dot], i)\n",
    "#                 counts[key] += 1\n",
    "#     return counts"
   ]
  },
  {
   "cell_type": "code",
   "execution_count": 100,
   "metadata": {},
   "outputs": [],
   "source": [
    "def val_to_index(val):\n",
    "    if val is None:\n",
    "        return 2\n",
    "    elif val == False:\n",
    "        return 0\n",
    "    elif val == True:\n",
    "        return 1\n",
    "    else:\n",
    "        raise Exception('invalid val {}'.format(val))"
   ]
  },
  {
   "cell_type": "code",
   "execution_count": 101,
   "metadata": {},
   "outputs": [],
   "source": [
    "def index_to_val(index):\n",
    "    return [False, True, None][index]"
   ]
  },
  {
   "cell_type": "code",
   "execution_count": 137,
   "metadata": {},
   "outputs": [],
   "source": [
    "def tabulate_mentions(data):\n",
    "    # operate on batch 1\n",
    "    counts = ntorch.zeros(3, 3, 2, 12, 1, names=(\"selfprev\", \"partner\", \"self\", \"turn\", \"value\"))\n",
    "    for instance in data:\n",
    "        ctx, inpts, tgts, ref_inpts, ref_tgts, sel_tgt, scenario_ids, real_ids, partner_real_ids, _, _, sel_idx, lens, rev_idxs, hid_idxs, num_markables, is_self, partner_ref_inpts, partner_ref_tgts_our_view, all_partner_num_markables = instance\n",
    "        dots_mentioned = make_dots_mentioned_multi(ref_tgts, args, bsz, num_dots)\n",
    "        partner_dots_mentioned = make_dots_mentioned_multi(partner_ref_tgts_our_view, args, bsz, num_dots)\n",
    "        for i in range(len(dots_mentioned)):\n",
    "            if not is_self[i].item():\n",
    "                continue\n",
    "            dm = dots_mentioned[i].squeeze(0).tolist()\n",
    "            n1_pdm = partner_dots_mentioned[i-1].squeeze(0).tolist() if i > 0 else [None] * 7\n",
    "            n2_dm = dots_mentioned[i-2].squeeze(0).tolist() if i > 1 else [None] * 7\n",
    "            for dot in range(num_dots):\n",
    "                counts[{\n",
    "                    'selfprev': val_to_index(n2_dm[dot]),\n",
    "                    'partner': val_to_index(n1_pdm[dot]),\n",
    "                    'self': val_to_index(dm[dot]),\n",
    "                    'turn': i,\n",
    "                }] += 1\n",
    "    return counts"
   ]
  },
  {
   "cell_type": "code",
   "execution_count": 138,
   "metadata": {},
   "outputs": [],
   "source": [
    "counts = ntorch.zeros(3, 3, 2, 12, 1, names=(\"selfprev\", \"partner\", \"self\", \"turn\", \"value\"))"
   ]
  },
  {
   "cell_type": "code",
   "execution_count": 141,
   "metadata": {},
   "outputs": [],
   "source": [
    "mention_counts = tabulate_mentions(valid_dataset)"
   ]
  },
  {
   "cell_type": "code",
   "execution_count": 142,
   "metadata": {},
   "outputs": [],
   "source": [
    "# def filter_key(key, indices_to_keep):\n",
    "#     new_key = tuple(x for i, x in enumerate(key) if i in indices_to_keep)\n",
    "#     return new_key"
   ]
  },
  {
   "cell_type": "code",
   "execution_count": 90,
   "metadata": {},
   "outputs": [],
   "source": [
    "# def marginalize(counter, indices_to_keep):\n",
    "#     new_counter = Counter()\n",
    "#     for key, value in counter.items():\n",
    "#         new_key = filter_key(key, indices_to_keep)\n",
    "#         new_counter[new_key] += value\n",
    "#     return new_counter"
   ]
  },
  {
   "cell_type": "code",
   "execution_count": 155,
   "metadata": {},
   "outputs": [],
   "source": [
    "# def conditional(counter, conditioning_indices):\n",
    "#     marginal = marginalize(counter, conditioning_indices)\n",
    "#     conditionals = {}\n",
    "#     for key, value in counter.items():\n",
    "#         context = filter_key(key, conditioning_indices)\n",
    "#         denom = marginal[context]\n",
    "#         conditionals[key] = value / denom\n",
    "#     return conditionals"
   ]
  },
  {
   "cell_type": "code",
   "execution_count": 165,
   "metadata": {},
   "outputs": [],
   "source": [
    "def marginalize(counter, dims_to_keep):\n",
    "    dims_to_keep = set(dims_to_keep).copy()\n",
    "    dims_to_keep.add(\"value\")\n",
    "    dims = counter._schema._names\n",
    "    assert all(d in dims for d in dims_to_keep), (dims, dims_to_keep)\n",
    "    to_marginalize = set(dims) - set(dims_to_keep)\n",
    "    c = counter\n",
    "    for d in to_marginalize:\n",
    "        c = c.sum(d)\n",
    "    return c"
   ]
  },
  {
   "cell_type": "code",
   "execution_count": 166,
   "metadata": {},
   "outputs": [],
   "source": [
    "def conditional(counter, conditioning_dims):\n",
    "    marginals = marginalize(counter, conditioning_dims)\n",
    "    return counter.float() / marginals"
   ]
  },
  {
   "cell_type": "code",
   "execution_count": 167,
   "metadata": {},
   "outputs": [
    {
     "data": {
      "text/plain": [
       "NamedTensor(\n",
       "\ttensor([[[[[0.0000e+00],\n",
       "           [0.0000e+00],\n",
       "           [1.6820e+03],\n",
       "           [1.4470e+03],\n",
       "           [1.0000e+03],\n",
       "           [6.4200e+02],\n",
       "           [3.6700e+02],\n",
       "           [1.7400e+02],\n",
       "           [5.4000e+01],\n",
       "           [3.4000e+01],\n",
       "           [1.7000e+01],\n",
       "           [1.2000e+01]],\n",
       "\n",
       "          [[0.0000e+00],\n",
       "           [0.0000e+00],\n",
       "           [1.7300e+02],\n",
       "           [1.2400e+02],\n",
       "           [6.6000e+01],\n",
       "           [3.0000e+01],\n",
       "           [2.5000e+01],\n",
       "           [1.3000e+01],\n",
       "           [1.0000e+00],\n",
       "           [0.0000e+00],\n",
       "           [2.0000e+00],\n",
       "           [0.0000e+00]]],\n",
       "\n",
       "\n",
       "         [[[0.0000e+00],\n",
       "           [0.0000e+00],\n",
       "           [1.9200e+02],\n",
       "           [1.2000e+02],\n",
       "           [9.4000e+01],\n",
       "           [5.6000e+01],\n",
       "           [2.0000e+01],\n",
       "           [3.6000e+01],\n",
       "           [1.0000e+01],\n",
       "           [4.0000e+00],\n",
       "           [0.0000e+00],\n",
       "           [2.0000e+00]],\n",
       "\n",
       "          [[0.0000e+00],\n",
       "           [0.0000e+00],\n",
       "           [2.0700e+02],\n",
       "           [8.3000e+01],\n",
       "           [7.6000e+01],\n",
       "           [2.4000e+01],\n",
       "           [1.7000e+01],\n",
       "           [8.0000e+00],\n",
       "           [4.0000e+00],\n",
       "           [0.0000e+00],\n",
       "           [0.0000e+00],\n",
       "           [0.0000e+00]]],\n",
       "\n",
       "\n",
       "         [[[0.0000e+00],\n",
       "           [0.0000e+00],\n",
       "           [0.0000e+00],\n",
       "           [0.0000e+00],\n",
       "           [0.0000e+00],\n",
       "           [0.0000e+00],\n",
       "           [0.0000e+00],\n",
       "           [0.0000e+00],\n",
       "           [0.0000e+00],\n",
       "           [0.0000e+00],\n",
       "           [0.0000e+00],\n",
       "           [0.0000e+00]],\n",
       "\n",
       "          [[0.0000e+00],\n",
       "           [0.0000e+00],\n",
       "           [0.0000e+00],\n",
       "           [0.0000e+00],\n",
       "           [0.0000e+00],\n",
       "           [0.0000e+00],\n",
       "           [0.0000e+00],\n",
       "           [0.0000e+00],\n",
       "           [0.0000e+00],\n",
       "           [0.0000e+00],\n",
       "           [0.0000e+00],\n",
       "           [0.0000e+00]]]],\n",
       "\n",
       "\n",
       "\n",
       "        [[[[0.0000e+00],\n",
       "           [0.0000e+00],\n",
       "           [4.8000e+02],\n",
       "           [3.7400e+02],\n",
       "           [2.1900e+02],\n",
       "           [1.0300e+02],\n",
       "           [5.0000e+01],\n",
       "           [1.7000e+01],\n",
       "           [1.5000e+01],\n",
       "           [2.0000e+00],\n",
       "           [1.0000e+00],\n",
       "           [0.0000e+00]],\n",
       "\n",
       "          [[0.0000e+00],\n",
       "           [0.0000e+00],\n",
       "           [1.2600e+02],\n",
       "           [1.0700e+02],\n",
       "           [5.4000e+01],\n",
       "           [2.7000e+01],\n",
       "           [3.7000e+01],\n",
       "           [6.0000e+00],\n",
       "           [7.0000e+00],\n",
       "           [0.0000e+00],\n",
       "           [1.0000e+00],\n",
       "           [0.0000e+00]]],\n",
       "\n",
       "\n",
       "         [[[0.0000e+00],\n",
       "           [0.0000e+00],\n",
       "           [2.6800e+02],\n",
       "           [2.0500e+02],\n",
       "           [1.0000e+02],\n",
       "           [7.1000e+01],\n",
       "           [3.5000e+01],\n",
       "           [1.7000e+01],\n",
       "           [7.0000e+00],\n",
       "           [1.0000e+00],\n",
       "           [0.0000e+00],\n",
       "           [0.0000e+00]],\n",
       "\n",
       "          [[0.0000e+00],\n",
       "           [0.0000e+00],\n",
       "           [2.6000e+02],\n",
       "           [1.7200e+02],\n",
       "           [8.5000e+01],\n",
       "           [4.8000e+01],\n",
       "           [2.3000e+01],\n",
       "           [9.0000e+00],\n",
       "           [0.0000e+00],\n",
       "           [1.0000e+00],\n",
       "           [0.0000e+00],\n",
       "           [0.0000e+00]]],\n",
       "\n",
       "\n",
       "         [[[0.0000e+00],\n",
       "           [0.0000e+00],\n",
       "           [0.0000e+00],\n",
       "           [0.0000e+00],\n",
       "           [0.0000e+00],\n",
       "           [0.0000e+00],\n",
       "           [0.0000e+00],\n",
       "           [0.0000e+00],\n",
       "           [0.0000e+00],\n",
       "           [0.0000e+00],\n",
       "           [0.0000e+00],\n",
       "           [0.0000e+00]],\n",
       "\n",
       "          [[0.0000e+00],\n",
       "           [0.0000e+00],\n",
       "           [0.0000e+00],\n",
       "           [0.0000e+00],\n",
       "           [0.0000e+00],\n",
       "           [0.0000e+00],\n",
       "           [0.0000e+00],\n",
       "           [0.0000e+00],\n",
       "           [0.0000e+00],\n",
       "           [0.0000e+00],\n",
       "           [0.0000e+00],\n",
       "           [0.0000e+00]]]],\n",
       "\n",
       "\n",
       "\n",
       "        [[[[0.0000e+00],\n",
       "           [2.0850e+03],\n",
       "           [0.0000e+00],\n",
       "           [0.0000e+00],\n",
       "           [0.0000e+00],\n",
       "           [0.0000e+00],\n",
       "           [0.0000e+00],\n",
       "           [0.0000e+00],\n",
       "           [0.0000e+00],\n",
       "           [0.0000e+00],\n",
       "           [0.0000e+00],\n",
       "           [0.0000e+00]],\n",
       "\n",
       "          [[0.0000e+00],\n",
       "           [5.4300e+02],\n",
       "           [0.0000e+00],\n",
       "           [0.0000e+00],\n",
       "           [0.0000e+00],\n",
       "           [0.0000e+00],\n",
       "           [0.0000e+00],\n",
       "           [0.0000e+00],\n",
       "           [0.0000e+00],\n",
       "           [0.0000e+00],\n",
       "           [0.0000e+00],\n",
       "           [0.0000e+00]]],\n",
       "\n",
       "\n",
       "         [[[0.0000e+00],\n",
       "           [4.1400e+02],\n",
       "           [0.0000e+00],\n",
       "           [0.0000e+00],\n",
       "           [0.0000e+00],\n",
       "           [0.0000e+00],\n",
       "           [0.0000e+00],\n",
       "           [0.0000e+00],\n",
       "           [0.0000e+00],\n",
       "           [0.0000e+00],\n",
       "           [0.0000e+00],\n",
       "           [0.0000e+00]],\n",
       "\n",
       "          [[0.0000e+00],\n",
       "           [5.8400e+02],\n",
       "           [0.0000e+00],\n",
       "           [0.0000e+00],\n",
       "           [0.0000e+00],\n",
       "           [0.0000e+00],\n",
       "           [0.0000e+00],\n",
       "           [0.0000e+00],\n",
       "           [0.0000e+00],\n",
       "           [0.0000e+00],\n",
       "           [0.0000e+00],\n",
       "           [0.0000e+00]]],\n",
       "\n",
       "\n",
       "         [[[2.4060e+03],\n",
       "           [0.0000e+00],\n",
       "           [0.0000e+00],\n",
       "           [0.0000e+00],\n",
       "           [0.0000e+00],\n",
       "           [0.0000e+00],\n",
       "           [0.0000e+00],\n",
       "           [0.0000e+00],\n",
       "           [0.0000e+00],\n",
       "           [0.0000e+00],\n",
       "           [0.0000e+00],\n",
       "           [0.0000e+00]],\n",
       "\n",
       "          [[1.2270e+03],\n",
       "           [0.0000e+00],\n",
       "           [0.0000e+00],\n",
       "           [0.0000e+00],\n",
       "           [0.0000e+00],\n",
       "           [0.0000e+00],\n",
       "           [0.0000e+00],\n",
       "           [0.0000e+00],\n",
       "           [0.0000e+00],\n",
       "           [0.0000e+00],\n",
       "           [0.0000e+00],\n",
       "           [0.0000e+00]]]]]),\n",
       "\t('selfprev', 'partner', 'self', 'turn', 'value'))"
      ]
     },
     "execution_count": 167,
     "metadata": {},
     "output_type": "execute_result"
    }
   ],
   "source": [
    "mention_counts"
   ]
  },
  {
   "cell_type": "code",
   "execution_count": 168,
   "metadata": {},
   "outputs": [
    {
     "data": {
      "text/plain": [
       "NamedTensor(\n",
       "\ttensor([[12833.],\n",
       "        [ 4170.]]),\n",
       "\t('self', 'value'))"
      ]
     },
     "execution_count": 168,
     "metadata": {},
     "output_type": "execute_result"
    }
   ],
   "source": [
    "marginalize(mention_counts, [\"self\"])"
   ]
  },
  {
   "cell_type": "code",
   "execution_count": 169,
   "metadata": {},
   "outputs": [
    {
     "data": {
      "text/plain": [
       "NamedTensor(\n",
       "\ttensor([[0.7547],\n",
       "        [0.2453]]),\n",
       "\t('self', 'value'))"
      ]
     },
     "execution_count": 169,
     "metadata": {},
     "output_type": "execute_result"
    }
   ],
   "source": [
    "conditional(marginalize(mention_counts, [\"self\"]), [])"
   ]
  },
  {
   "cell_type": "code",
   "execution_count": 93,
   "metadata": {},
   "outputs": [
    {
     "data": {
      "text/plain": [
       "{(False,): 0.7547491619126037, (True,): 0.24525083808739634}"
      ]
     },
     "execution_count": 93,
     "metadata": {},
     "output_type": "execute_result"
    }
   ],
   "source": [
    "# p(next_mention)\n",
    "conditional(marginalize(mention_counts, [2]), [])"
   ]
  },
  {
   "cell_type": "code",
   "execution_count": 94,
   "metadata": {},
   "outputs": [
    {
     "data": {
      "text/plain": [
       "{(True, False): 0.5078389179219183,\n",
       " (False, False): 0.8673519818127904,\n",
       " (False, True): 0.13264801818720964,\n",
       " (True, True): 0.4921610820780818,\n",
       " (None, False): 0.662262592898431,\n",
       " (None, True): 0.33773740710156896}"
      ]
     },
     "execution_count": 94,
     "metadata": {},
     "output_type": "execute_result"
    }
   ],
   "source": [
    "# p(next_mention | this_partner_mention)\n",
    "conditional(marginalize(mention_counts, [1,2]), [0])"
   ]
  },
  {
   "cell_type": "code",
   "execution_count": 170,
   "metadata": {},
   "outputs": [
    {
     "data": {
      "text/plain": [
       "NamedTensor(\n",
       "\ttensor([[[0.8674],\n",
       "         [0.1326]],\n",
       "\n",
       "        [[0.5078],\n",
       "         [0.4922]],\n",
       "\n",
       "        [[0.6623],\n",
       "         [0.3377]]]),\n",
       "\t('partner', 'self', 'value'))"
      ]
     },
     "execution_count": 170,
     "metadata": {},
     "output_type": "execute_result"
    }
   ],
   "source": [
    "conditional(marginalize(mention_counts, [\"partner\", \"self\"]), [\"partner\"])"
   ]
  },
  {
   "cell_type": "code",
   "execution_count": 173,
   "metadata": {},
   "outputs": [
    {
     "data": {
      "text/plain": [
       "{'_names': ('selfprev', 'partner', 'self', 'turn', 'value'),\n",
       " '_masked': 0,\n",
       " '_axes': OrderedDict([('selfprev', 0),\n",
       "              ('partner', 1),\n",
       "              ('self', 2),\n",
       "              ('turn', 3),\n",
       "              ('value', 4)])}"
      ]
     },
     "execution_count": 173,
     "metadata": {},
     "output_type": "execute_result"
    }
   ],
   "source": [
    "vars(mention_counts._schema)"
   ]
  },
  {
   "cell_type": "code",
   "execution_count": 175,
   "metadata": {},
   "outputs": [
    {
     "data": {
      "text/plain": [
       "torch.Size([3, 3, 2, 12, 1])"
      ]
     },
     "execution_count": 175,
     "metadata": {},
     "output_type": "execute_result"
    }
   ],
   "source": [
    "mention_counts._tensor.size()"
   ]
  },
  {
   "cell_type": "code",
   "execution_count": 176,
   "metadata": {},
   "outputs": [],
   "source": [
    "import itertools"
   ]
  },
  {
   "cell_type": "code",
   "execution_count": 177,
   "metadata": {},
   "outputs": [],
   "source": [
    "itertools.product?"
   ]
  },
  {
   "cell_type": "code",
   "execution_count": 216,
   "metadata": {},
   "outputs": [],
   "source": [
    "def query(tensor, query_vars, conditioning_vars=None):\n",
    "    if conditioning_vars is None:\n",
    "        conditioning_vars = {}\n",
    "    query_vars = list(query_vars).copy()\n",
    "    conditioning_vars = list(conditioning_vars)\n",
    "    assert all(v not in conditioning_vars for v in query_vars)\n",
    "    all_vars = set(query_vars) | set(conditioning_vars)\n",
    "    marg = marginalize(tensor, all_vars)\n",
    "    cond = conditional(marg, conditioning_vars)\n",
    "    return cond"
   ]
  },
  {
   "cell_type": "code",
   "execution_count": 299,
   "metadata": {},
   "outputs": [],
   "source": [
    "def display_query(tensor, query_vars, conditioning_vars=None):\n",
    "    if conditioning_vars is None:\n",
    "        conditioning_vars = {}\n",
    "    query_vars = list(query_vars).copy()\n",
    "    conditioning_vars = list(conditioning_vars)\n",
    "    assert all(v not in conditioning_vars for v in query_vars)\n",
    "    all_vars = set(query_vars) | set(conditioning_vars)\n",
    "    marg = marginalize(tensor, all_vars)\n",
    "    prior_probs = conditional(marginalize(tensor, conditioning_vars), {})\n",
    "    cond = conditional(marg, conditioning_vars)\n",
    "    \n",
    "    ranges = {v: list(range(marg._tensor.size(marg._schema._axes[v]))) for v in all_vars}\n",
    "    conditioning_its = [ranges[v] for v in conditioning_vars]\n",
    "    query_its = [ranges[v] for v in query_vars]\n",
    "    query_vars = query_vars + ['value']\n",
    "    query_its = query_its + [list(range(1))]\n",
    "    expected_acc = 0\n",
    "    for conditioning_key in itertools.product(*conditioning_its):\n",
    "        cond_ix = {\n",
    "            var: index\n",
    "            for var, index in zip(conditioning_vars, conditioning_key)\n",
    "        }\n",
    "        for query_key in itertools.product(*query_its):\n",
    "            query_ix = {\n",
    "                var: index\n",
    "                for var, index in zip(query_vars, query_key)\n",
    "            }\n",
    "            val = cond[{\n",
    "                **cond_ix,\n",
    "                **query_ix,\n",
    "            }].item()\n",
    "            query_str = ', '.join('{}={}'.format(var, val) for (var, val) in zip(query_vars, query_key) if var != 'value')\n",
    "            cond_str = ', '.join('{}={}'.format(var, val) for (var, val) in zip(conditioning_vars, conditioning_key))\n",
    "            if cond_str:\n",
    "                print(\"p({} | {}) =  {}\".format(query_str, cond_str, val))\n",
    "            else:\n",
    "                print(\"p({}) = {}\".format(query_str, val))\n",
    "        if len(query_vars) == 2:\n",
    "            qv = query_vars[0]\n",
    "            max_acc, max_ix = cond[cond_ix].max(qv)\n",
    "            cond_expected_acc = max_acc[{'value': 0}].item()\n",
    "            prior_prob = prior_probs[{**cond_ix}].item()\n",
    "            print(\"expected acc: {}; prior prob: {}\".format(cond_expected_acc, prior_prob))\n",
    "            if prior_prob > 0:\n",
    "                expected_acc += cond_expected_acc * prior_prob\n",
    "    if len(query_vars) == 2:\n",
    "        print(\"expected accuracy: {}\".format(expected_acc))"
   ]
  },
  {
   "cell_type": "code",
   "execution_count": 300,
   "metadata": {},
   "outputs": [
    {
     "name": "stdout",
     "output_type": "stream",
     "text": [
      "p(self=0) = 0.7547491788864136\n",
      "p(self=1) = 0.24525083601474762\n",
      "expected acc: 0.7547491788864136; prior prob: 1.0\n",
      "expected accuracy: 0.7547491788864136\n"
     ]
    }
   ],
   "source": [
    "display_query(mention_counts, {\"self\"})"
   ]
  },
  {
   "cell_type": "code",
   "execution_count": 301,
   "metadata": {},
   "outputs": [
    {
     "name": "stdout",
     "output_type": "stream",
     "text": [
      "p(self=0 | partner=0) =  0.8673520088195801\n",
      "p(self=1 | partner=0) =  0.1326480209827423\n",
      "expected acc: 0.8673520088195801; prior prob: 0.5950126647949219\n",
      "p(self=0 | partner=1) =  0.5078389048576355\n",
      "p(self=1 | partner=1) =  0.4921610951423645\n",
      "expected acc: 0.5078389048576355; prior prob: 0.19131918251514435\n",
      "p(self=0 | partner=2) =  0.6622626185417175\n",
      "p(self=1 | partner=2) =  0.33773741126060486\n",
      "expected acc: 0.6622626185417175; prior prob: 0.21366818249225616\n",
      "expected accuracy: 0.754749204246087\n"
     ]
    }
   ],
   "source": [
    "display_query(mention_counts, {\"self\"}, {\"partner\"})\n",
    "cond = query(mention_counts, {\"self\"}, {\"partner\"})"
   ]
  },
  {
   "cell_type": "code",
   "execution_count": 302,
   "metadata": {},
   "outputs": [
    {
     "name": "stdout",
     "output_type": "stream",
     "text": [
      "p(self=0 | partner=0, selfprev=0) =  0.9259764552116394\n",
      "p(self=1 | partner=0, selfprev=0) =  0.07402353733778\n",
      "expected acc: 0.9259764552116394; prior prob: 0.3448215126991272\n",
      "p(self=0 | partner=0, selfprev=1) =  0.775522768497467\n",
      "p(self=1 | partner=0, selfprev=1) =  0.22447724640369415\n",
      "expected acc: 0.775522768497467; prior prob: 0.09563018381595612\n",
      "p(self=0 | partner=0, selfprev=2) =  0.793379008769989\n",
      "p(self=1 | partner=0, selfprev=2) =  0.20662100613117218\n",
      "expected acc: 0.793379008769989; prior prob: 0.15456095337867737\n",
      "p(self=0 | partner=1, selfprev=0) =  0.5603357553482056\n",
      "p(self=1 | partner=1, selfprev=0) =  0.43966421484947205\n",
      "expected acc: 0.5603357553482056; prior prob: 0.056048933416604996\n",
      "p(self=0 | partner=1, selfprev=1) =  0.5407066345214844\n",
      "p(self=1 | partner=1, selfprev=1) =  0.459293395280838\n",
      "expected acc: 0.5407066345214844; prior prob: 0.07657472044229507\n",
      "p(self=0 | partner=1, selfprev=2) =  0.41482967138290405\n",
      "p(self=1 | partner=1, selfprev=2) =  0.585170328617096\n",
      "expected acc: 0.585170328617096; prior prob: 0.05869552493095398\n",
      "p(self=0 | partner=2, selfprev=0) =  nan\n",
      "p(self=1 | partner=2, selfprev=0) =  nan\n",
      "expected acc: nan; prior prob: 0.0\n",
      "p(self=0 | partner=2, selfprev=1) =  nan\n",
      "p(self=1 | partner=2, selfprev=1) =  nan\n",
      "expected acc: nan; prior prob: 0.0\n",
      "p(self=0 | partner=2, selfprev=2) =  0.6622626185417175\n",
      "p(self=1 | partner=2, selfprev=2) =  0.33773741126060486\n",
      "expected acc: 0.6622626185417175; prior prob: 0.21366818249225616\n",
      "expected accuracy: 0.7647474133716465\n"
     ]
    }
   ],
   "source": [
    "display_query(mention_counts, {\"self\"}, {\"partner\", \"selfprev\"})"
   ]
  },
  {
   "cell_type": "code",
   "execution_count": 304,
   "metadata": {},
   "outputs": [
    {
     "name": "stdout",
     "output_type": "stream",
     "text": [
      "p(self=0 | turn=0, partner=0, selfprev=0) =  nan\n",
      "p(self=1 | turn=0, partner=0, selfprev=0) =  nan\n",
      "expected acc: nan; prior prob: 0.0\n",
      "p(self=0 | turn=0, partner=0, selfprev=1) =  nan\n",
      "p(self=1 | turn=0, partner=0, selfprev=1) =  nan\n",
      "expected acc: nan; prior prob: 0.0\n",
      "p(self=0 | turn=0, partner=0, selfprev=2) =  nan\n",
      "p(self=1 | turn=0, partner=0, selfprev=2) =  nan\n",
      "expected acc: nan; prior prob: 0.0\n",
      "p(self=0 | turn=0, partner=1, selfprev=0) =  nan\n",
      "p(self=1 | turn=0, partner=1, selfprev=0) =  nan\n",
      "expected acc: nan; prior prob: 0.0\n",
      "p(self=0 | turn=0, partner=1, selfprev=1) =  nan\n",
      "p(self=1 | turn=0, partner=1, selfprev=1) =  nan\n",
      "expected acc: nan; prior prob: 0.0\n",
      "p(self=0 | turn=0, partner=1, selfprev=2) =  nan\n",
      "p(self=1 | turn=0, partner=1, selfprev=2) =  nan\n",
      "expected acc: nan; prior prob: 0.0\n",
      "p(self=0 | turn=0, partner=2, selfprev=0) =  nan\n",
      "p(self=1 | turn=0, partner=2, selfprev=0) =  nan\n",
      "expected acc: nan; prior prob: 0.0\n",
      "p(self=0 | turn=0, partner=2, selfprev=1) =  nan\n",
      "p(self=1 | turn=0, partner=2, selfprev=1) =  nan\n",
      "expected acc: nan; prior prob: 0.0\n",
      "p(self=0 | turn=0, partner=2, selfprev=2) =  0.6622626185417175\n",
      "p(self=1 | turn=0, partner=2, selfprev=2) =  0.33773741126060486\n",
      "expected acc: 0.6622626185417175; prior prob: 0.21366818249225616\n",
      "p(self=0 | turn=1, partner=0, selfprev=0) =  nan\n",
      "p(self=1 | turn=1, partner=0, selfprev=0) =  nan\n",
      "expected acc: nan; prior prob: 0.0\n",
      "p(self=0 | turn=1, partner=0, selfprev=1) =  nan\n",
      "p(self=1 | turn=1, partner=0, selfprev=1) =  nan\n",
      "expected acc: nan; prior prob: 0.0\n",
      "p(self=0 | turn=1, partner=0, selfprev=2) =  0.793379008769989\n",
      "p(self=1 | turn=1, partner=0, selfprev=2) =  0.20662100613117218\n",
      "expected acc: 0.793379008769989; prior prob: 0.15456095337867737\n",
      "p(self=0 | turn=1, partner=1, selfprev=0) =  nan\n",
      "p(self=1 | turn=1, partner=1, selfprev=0) =  nan\n",
      "expected acc: nan; prior prob: 0.0\n",
      "p(self=0 | turn=1, partner=1, selfprev=1) =  nan\n",
      "p(self=1 | turn=1, partner=1, selfprev=1) =  nan\n",
      "expected acc: nan; prior prob: 0.0\n",
      "p(self=0 | turn=1, partner=1, selfprev=2) =  0.41482967138290405\n",
      "p(self=1 | turn=1, partner=1, selfprev=2) =  0.585170328617096\n",
      "expected acc: 0.585170328617096; prior prob: 0.05869552493095398\n",
      "p(self=0 | turn=1, partner=2, selfprev=0) =  nan\n",
      "p(self=1 | turn=1, partner=2, selfprev=0) =  nan\n",
      "expected acc: nan; prior prob: 0.0\n",
      "p(self=0 | turn=1, partner=2, selfprev=1) =  nan\n",
      "p(self=1 | turn=1, partner=2, selfprev=1) =  nan\n",
      "expected acc: nan; prior prob: 0.0\n",
      "p(self=0 | turn=1, partner=2, selfprev=2) =  nan\n",
      "p(self=1 | turn=1, partner=2, selfprev=2) =  nan\n",
      "expected acc: nan; prior prob: 0.0\n",
      "p(self=0 | turn=2, partner=0, selfprev=0) =  0.9067385196685791\n",
      "p(self=1 | turn=2, partner=0, selfprev=0) =  0.09326145797967911\n",
      "expected acc: 0.9067385196685791; prior prob: 0.1090983971953392\n",
      "p(self=0 | turn=2, partner=0, selfprev=1) =  0.7920792102813721\n",
      "p(self=1 | turn=2, partner=0, selfprev=1) =  0.20792078971862793\n",
      "expected acc: 0.7920792102813721; prior prob: 0.03564076870679855\n",
      "p(self=0 | turn=2, partner=0, selfprev=2) =  nan\n",
      "p(self=1 | turn=2, partner=0, selfprev=2) =  nan\n",
      "expected acc: nan; prior prob: 0.0\n",
      "p(self=0 | turn=2, partner=1, selfprev=0) =  0.48120301961898804\n",
      "p(self=1 | turn=2, partner=1, selfprev=0) =  0.518796980381012\n",
      "expected acc: 0.518796980381012; prior prob: 0.0234664473682642\n",
      "p(self=0 | turn=2, partner=1, selfprev=1) =  0.5075757503509521\n",
      "p(self=1 | turn=2, partner=1, selfprev=1) =  0.49242424964904785\n",
      "expected acc: 0.5075757503509521; prior prob: 0.031053343787789345\n",
      "p(self=0 | turn=2, partner=1, selfprev=2) =  nan\n",
      "p(self=1 | turn=2, partner=1, selfprev=2) =  nan\n",
      "expected acc: nan; prior prob: 0.0\n",
      "p(self=0 | turn=2, partner=2, selfprev=0) =  nan\n",
      "p(self=1 | turn=2, partner=2, selfprev=0) =  nan\n",
      "expected acc: nan; prior prob: 0.0\n",
      "p(self=0 | turn=2, partner=2, selfprev=1) =  nan\n",
      "p(self=1 | turn=2, partner=2, selfprev=1) =  nan\n",
      "expected acc: nan; prior prob: 0.0\n",
      "p(self=0 | turn=2, partner=2, selfprev=2) =  nan\n",
      "p(self=1 | turn=2, partner=2, selfprev=2) =  nan\n",
      "expected acc: nan; prior prob: 0.0\n",
      "p(self=0 | turn=3, partner=0, selfprev=0) =  0.9210693836212158\n",
      "p(self=1 | turn=3, partner=0, selfprev=0) =  0.07893061637878418\n",
      "expected acc: 0.9210693836212158; prior prob: 0.09239546209573746\n",
      "p(self=0 | turn=3, partner=0, selfprev=1) =  0.777546763420105\n",
      "p(self=1 | turn=3, partner=0, selfprev=1) =  0.22245322167873383\n",
      "expected acc: 0.777546763420105; prior prob: 0.028289126232266426\n",
      "p(self=0 | turn=3, partner=0, selfprev=2) =  nan\n",
      "p(self=1 | turn=3, partner=0, selfprev=2) =  nan\n",
      "expected acc: nan; prior prob: 0.0\n",
      "p(self=0 | turn=3, partner=1, selfprev=0) =  0.5911329984664917\n",
      "p(self=1 | turn=3, partner=1, selfprev=0) =  0.4088670015335083\n",
      "expected acc: 0.5911329984664917; prior prob: 0.011939069256186485\n",
      "p(self=0 | turn=3, partner=1, selfprev=1) =  0.5437665581703186\n",
      "p(self=1 | turn=3, partner=1, selfprev=1) =  0.456233412027359\n",
      "expected acc: 0.5437665581703186; prior prob: 0.022172557190060616\n",
      "p(self=0 | turn=3, partner=1, selfprev=2) =  nan\n",
      "p(self=1 | turn=3, partner=1, selfprev=2) =  nan\n",
      "expected acc: nan; prior prob: 0.0\n",
      "p(self=0 | turn=3, partner=2, selfprev=0) =  nan\n",
      "p(self=1 | turn=3, partner=2, selfprev=0) =  nan\n",
      "expected acc: nan; prior prob: 0.0\n",
      "p(self=0 | turn=3, partner=2, selfprev=1) =  nan\n",
      "p(self=1 | turn=3, partner=2, selfprev=1) =  nan\n",
      "expected acc: nan; prior prob: 0.0\n",
      "p(self=0 | turn=3, partner=2, selfprev=2) =  nan\n",
      "p(self=1 | turn=3, partner=2, selfprev=2) =  nan\n",
      "expected acc: nan; prior prob: 0.0\n",
      "p(self=0 | turn=4, partner=0, selfprev=0) =  0.9380863308906555\n",
      "p(self=1 | turn=4, partner=0, selfprev=0) =  0.06191369518637657\n",
      "expected acc: 0.9380863308906555; prior prob: 0.06269481778144836\n",
      "p(self=0 | turn=4, partner=0, selfprev=1) =  0.8021978139877319\n",
      "p(self=1 | turn=4, partner=0, selfprev=1) =  0.19780220091342926\n",
      "expected acc: 0.8021978139877319; prior prob: 0.016055990010499954\n",
      "p(self=0 | turn=4, partner=0, selfprev=2) =  nan\n",
      "p(self=1 | turn=4, partner=0, selfprev=2) =  nan\n",
      "expected acc: nan; prior prob: 0.0\n",
      "p(self=0 | turn=4, partner=1, selfprev=0) =  0.5529412031173706\n",
      "p(self=1 | turn=4, partner=1, selfprev=0) =  0.4470588266849518\n",
      "expected acc: 0.5529412031173706; prior prob: 0.00999823585152626\n",
      "p(self=0 | turn=4, partner=1, selfprev=1) =  0.5405405163764954\n",
      "p(self=1 | turn=4, partner=1, selfprev=1) =  0.45945945382118225\n",
      "expected acc: 0.5405405163764954; prior prob: 0.010880433022975922\n",
      "p(self=0 | turn=4, partner=1, selfprev=2) =  nan\n",
      "p(self=1 | turn=4, partner=1, selfprev=2) =  nan\n",
      "expected acc: nan; prior prob: 0.0\n",
      "p(self=0 | turn=4, partner=2, selfprev=0) =  nan\n",
      "p(self=1 | turn=4, partner=2, selfprev=0) =  nan\n",
      "expected acc: nan; prior prob: 0.0\n",
      "p(self=0 | turn=4, partner=2, selfprev=1) =  nan\n",
      "p(self=1 | turn=4, partner=2, selfprev=1) =  nan\n",
      "expected acc: nan; prior prob: 0.0\n",
      "p(self=0 | turn=4, partner=2, selfprev=2) =  nan\n",
      "p(self=1 | turn=4, partner=2, selfprev=2) =  nan\n",
      "expected acc: nan; prior prob: 0.0\n",
      "p(self=0 | turn=5, partner=0, selfprev=0) =  0.9553571343421936\n",
      "p(self=1 | turn=5, partner=0, selfprev=0) =  0.0446428582072258\n",
      "expected acc: 0.9553571343421936; prior prob: 0.039522435516119\n",
      "p(self=0 | turn=5, partner=0, selfprev=1) =  0.7923076748847961\n",
      "p(self=1 | turn=5, partner=0, selfprev=1) =  0.20769231021404266\n",
      "expected acc: 0.7923076748847961; prior prob: 0.007645709440112114\n",
      "p(self=0 | turn=5, partner=0, selfprev=2) =  nan\n",
      "p(self=1 | turn=5, partner=0, selfprev=2) =  nan\n",
      "expected acc: nan; prior prob: 0.0\n",
      "p(self=0 | turn=5, partner=1, selfprev=0) =  0.699999988079071\n",
      "p(self=1 | turn=5, partner=1, selfprev=0) =  0.30000001192092896\n",
      "expected acc: 0.699999988079071; prior prob: 0.004705051891505718\n",
      "p(self=0 | turn=5, partner=1, selfprev=1) =  0.5966386795043945\n",
      "p(self=1 | turn=5, partner=1, selfprev=1) =  0.40336135029792786\n",
      "expected acc: 0.5966386795043945; prior prob: 0.00699876481667161\n",
      "p(self=0 | turn=5, partner=1, selfprev=2) =  nan\n",
      "p(self=1 | turn=5, partner=1, selfprev=2) =  nan\n",
      "expected acc: nan; prior prob: 0.0\n",
      "p(self=0 | turn=5, partner=2, selfprev=0) =  nan\n",
      "p(self=1 | turn=5, partner=2, selfprev=0) =  nan\n",
      "expected acc: nan; prior prob: 0.0\n",
      "p(self=0 | turn=5, partner=2, selfprev=1) =  nan\n",
      "p(self=1 | turn=5, partner=2, selfprev=1) =  nan\n",
      "expected acc: nan; prior prob: 0.0\n",
      "p(self=0 | turn=5, partner=2, selfprev=2) =  nan\n",
      "p(self=1 | turn=5, partner=2, selfprev=2) =  nan\n",
      "expected acc: nan; prior prob: 0.0\n",
      "p(self=0 | turn=6, partner=0, selfprev=0) =  0.9362244606018066\n",
      "p(self=1 | turn=6, partner=0, selfprev=0) =  0.06377550959587097\n",
      "expected acc: 0.9362244606018066; prior prob: 0.023054754361510277\n",
      "p(self=0 | turn=6, partner=0, selfprev=1) =  0.5747126340866089\n",
      "p(self=1 | turn=6, partner=0, selfprev=1) =  0.4252873659133911\n",
      "expected acc: 0.5747126340866089; prior prob: 0.005116743966937065\n",
      "p(self=0 | turn=6, partner=0, selfprev=2) =  nan\n",
      "p(self=1 | turn=6, partner=0, selfprev=2) =  nan\n",
      "expected acc: nan; prior prob: 0.0\n",
      "p(self=0 | turn=6, partner=1, selfprev=0) =  0.5405405163764954\n",
      "p(self=1 | turn=6, partner=1, selfprev=0) =  0.45945945382118225\n",
      "expected acc: 0.5405405163764954; prior prob: 0.002176086651161313\n",
      "p(self=0 | turn=6, partner=1, selfprev=1) =  0.6034482717514038\n",
      "p(self=1 | turn=6, partner=1, selfprev=1) =  0.3965517282485962\n",
      "expected acc: 0.6034482717514038; prior prob: 0.00341116264462471\n",
      "p(self=0 | turn=6, partner=1, selfprev=2) =  nan\n",
      "p(self=1 | turn=6, partner=1, selfprev=2) =  nan\n",
      "expected acc: nan; prior prob: 0.0\n",
      "p(self=0 | turn=6, partner=2, selfprev=0) =  nan\n",
      "p(self=1 | turn=6, partner=2, selfprev=0) =  nan\n",
      "expected acc: nan; prior prob: 0.0\n",
      "p(self=0 | turn=6, partner=2, selfprev=1) =  nan\n",
      "p(self=1 | turn=6, partner=2, selfprev=1) =  nan\n",
      "expected acc: nan; prior prob: 0.0\n",
      "p(self=0 | turn=6, partner=2, selfprev=2) =  nan\n",
      "p(self=1 | turn=6, partner=2, selfprev=2) =  nan\n",
      "expected acc: nan; prior prob: 0.0\n",
      "p(self=0 | turn=7, partner=0, selfprev=0) =  0.9304812550544739\n",
      "p(self=1 | turn=7, partner=0, selfprev=0) =  0.06951871514320374\n",
      "expected acc: 0.9304812550544739; prior prob: 0.010998059064149857\n",
      "p(self=0 | turn=7, partner=0, selfprev=1) =  0.739130437374115\n",
      "p(self=1 | turn=7, partner=0, selfprev=1) =  0.260869562625885\n",
      "expected acc: 0.739130437374115; prior prob: 0.0013527025002986193\n",
      "p(self=0 | turn=7, partner=0, selfprev=2) =  nan\n",
      "p(self=1 | turn=7, partner=0, selfprev=2) =  nan\n",
      "expected acc: nan; prior prob: 0.0\n",
      "p(self=0 | turn=7, partner=1, selfprev=0) =  0.8181818127632141\n",
      "p(self=1 | turn=7, partner=1, selfprev=0) =  0.1818181872367859\n",
      "expected acc: 0.8181818127632141; prior prob: 0.00258777872659266\n",
      "p(self=0 | turn=7, partner=1, selfprev=1) =  0.6538461446762085\n",
      "p(self=1 | turn=7, partner=1, selfprev=1) =  0.3461538553237915\n",
      "expected acc: 0.6538461446762085; prior prob: 0.0015291419113054872\n",
      "p(self=0 | turn=7, partner=1, selfprev=2) =  nan\n",
      "p(self=1 | turn=7, partner=1, selfprev=2) =  nan\n",
      "expected acc: nan; prior prob: 0.0\n",
      "p(self=0 | turn=7, partner=2, selfprev=0) =  nan\n",
      "p(self=1 | turn=7, partner=2, selfprev=0) =  nan\n",
      "expected acc: nan; prior prob: 0.0\n",
      "p(self=0 | turn=7, partner=2, selfprev=1) =  nan\n",
      "p(self=1 | turn=7, partner=2, selfprev=1) =  nan\n",
      "expected acc: nan; prior prob: 0.0\n",
      "p(self=0 | turn=7, partner=2, selfprev=2) =  nan\n",
      "p(self=1 | turn=7, partner=2, selfprev=2) =  nan\n",
      "expected acc: nan; prior prob: 0.0\n",
      "p(self=0 | turn=8, partner=0, selfprev=0) =  0.9818181991577148\n",
      "p(self=1 | turn=8, partner=0, selfprev=0) =  0.0181818176060915\n",
      "expected acc: 0.9818181991577148; prior prob: 0.003234723350033164\n",
      "p(self=0 | turn=8, partner=0, selfprev=1) =  0.6818181872367859\n",
      "p(self=1 | turn=8, partner=0, selfprev=1) =  0.3181818127632141\n"
     ]
    },
    {
     "name": "stdout",
     "output_type": "stream",
     "text": [
      "expected acc: 0.6818181872367859; prior prob: 0.00129388936329633\n",
      "p(self=0 | turn=8, partner=0, selfprev=2) =  nan\n",
      "p(self=1 | turn=8, partner=0, selfprev=2) =  nan\n",
      "expected acc: nan; prior prob: 0.0\n",
      "p(self=0 | turn=8, partner=1, selfprev=0) =  0.7142857313156128\n",
      "p(self=1 | turn=8, partner=1, selfprev=0) =  0.2857142984867096\n",
      "expected acc: 0.7142857313156128; prior prob: 0.0008233840926550329\n",
      "p(self=0 | turn=8, partner=1, selfprev=1) =  1.0\n",
      "p(self=1 | turn=8, partner=1, selfprev=1) =  0.0\n",
      "expected acc: 1.0; prior prob: 0.00041169204632751644\n",
      "p(self=0 | turn=8, partner=1, selfprev=2) =  nan\n",
      "p(self=1 | turn=8, partner=1, selfprev=2) =  nan\n",
      "expected acc: nan; prior prob: 0.0\n",
      "p(self=0 | turn=8, partner=2, selfprev=0) =  nan\n",
      "p(self=1 | turn=8, partner=2, selfprev=0) =  nan\n",
      "expected acc: nan; prior prob: 0.0\n",
      "p(self=0 | turn=8, partner=2, selfprev=1) =  nan\n",
      "p(self=1 | turn=8, partner=2, selfprev=1) =  nan\n",
      "expected acc: nan; prior prob: 0.0\n",
      "p(self=0 | turn=8, partner=2, selfprev=2) =  nan\n",
      "p(self=1 | turn=8, partner=2, selfprev=2) =  nan\n",
      "expected acc: nan; prior prob: 0.0\n",
      "p(self=0 | turn=9, partner=0, selfprev=0) =  1.0\n",
      "p(self=1 | turn=9, partner=0, selfprev=0) =  0.0\n",
      "expected acc: 1.0; prior prob: 0.0019996471237391233\n",
      "p(self=0 | turn=9, partner=0, selfprev=1) =  1.0\n",
      "p(self=1 | turn=9, partner=0, selfprev=1) =  0.0\n",
      "expected acc: 1.0; prior prob: 0.00011762630310840905\n",
      "p(self=0 | turn=9, partner=0, selfprev=2) =  nan\n",
      "p(self=1 | turn=9, partner=0, selfprev=2) =  nan\n",
      "expected acc: nan; prior prob: 0.0\n",
      "p(self=0 | turn=9, partner=1, selfprev=0) =  1.0\n",
      "p(self=1 | turn=9, partner=1, selfprev=0) =  0.0\n",
      "expected acc: 1.0; prior prob: 0.0002352526062168181\n",
      "p(self=0 | turn=9, partner=1, selfprev=1) =  0.5\n",
      "p(self=1 | turn=9, partner=1, selfprev=1) =  0.5\n",
      "expected acc: 0.5; prior prob: 0.00011762630310840905\n",
      "p(self=0 | turn=9, partner=1, selfprev=2) =  nan\n",
      "p(self=1 | turn=9, partner=1, selfprev=2) =  nan\n",
      "expected acc: nan; prior prob: 0.0\n",
      "p(self=0 | turn=9, partner=2, selfprev=0) =  nan\n",
      "p(self=1 | turn=9, partner=2, selfprev=0) =  nan\n",
      "expected acc: nan; prior prob: 0.0\n",
      "p(self=0 | turn=9, partner=2, selfprev=1) =  nan\n",
      "p(self=1 | turn=9, partner=2, selfprev=1) =  nan\n",
      "expected acc: nan; prior prob: 0.0\n",
      "p(self=0 | turn=9, partner=2, selfprev=2) =  nan\n",
      "p(self=1 | turn=9, partner=2, selfprev=2) =  nan\n",
      "expected acc: nan; prior prob: 0.0\n",
      "p(self=0 | turn=10, partner=0, selfprev=0) =  0.8947368264198303\n",
      "p(self=1 | turn=10, partner=0, selfprev=0) =  0.10526315867900848\n",
      "expected acc: 0.8947368264198303; prior prob: 0.0011174498358741403\n",
      "p(self=0 | turn=10, partner=0, selfprev=1) =  0.5\n",
      "p(self=1 | turn=10, partner=0, selfprev=1) =  0.5\n",
      "expected acc: 0.5; prior prob: 0.00011762630310840905\n",
      "p(self=0 | turn=10, partner=0, selfprev=2) =  nan\n",
      "p(self=1 | turn=10, partner=0, selfprev=2) =  nan\n",
      "expected acc: nan; prior prob: 0.0\n",
      "p(self=0 | turn=10, partner=1, selfprev=0) =  nan\n",
      "p(self=1 | turn=10, partner=1, selfprev=0) =  nan\n",
      "expected acc: nan; prior prob: 0.0\n",
      "p(self=0 | turn=10, partner=1, selfprev=1) =  nan\n",
      "p(self=1 | turn=10, partner=1, selfprev=1) =  nan\n",
      "expected acc: nan; prior prob: 0.0\n",
      "p(self=0 | turn=10, partner=1, selfprev=2) =  nan\n",
      "p(self=1 | turn=10, partner=1, selfprev=2) =  nan\n",
      "expected acc: nan; prior prob: 0.0\n",
      "p(self=0 | turn=10, partner=2, selfprev=0) =  nan\n",
      "p(self=1 | turn=10, partner=2, selfprev=0) =  nan\n",
      "expected acc: nan; prior prob: 0.0\n",
      "p(self=0 | turn=10, partner=2, selfprev=1) =  nan\n",
      "p(self=1 | turn=10, partner=2, selfprev=1) =  nan\n",
      "expected acc: nan; prior prob: 0.0\n",
      "p(self=0 | turn=10, partner=2, selfprev=2) =  nan\n",
      "p(self=1 | turn=10, partner=2, selfprev=2) =  nan\n",
      "expected acc: nan; prior prob: 0.0\n",
      "p(self=0 | turn=11, partner=0, selfprev=0) =  1.0\n",
      "p(self=1 | turn=11, partner=0, selfprev=0) =  0.0\n",
      "expected acc: 1.0; prior prob: 0.0007057578186504543\n",
      "p(self=0 | turn=11, partner=0, selfprev=1) =  nan\n",
      "p(self=1 | turn=11, partner=0, selfprev=1) =  nan\n",
      "expected acc: nan; prior prob: 0.0\n",
      "p(self=0 | turn=11, partner=0, selfprev=2) =  nan\n",
      "p(self=1 | turn=11, partner=0, selfprev=2) =  nan\n",
      "expected acc: nan; prior prob: 0.0\n",
      "p(self=0 | turn=11, partner=1, selfprev=0) =  1.0\n",
      "p(self=1 | turn=11, partner=1, selfprev=0) =  0.0\n",
      "expected acc: 1.0; prior prob: 0.00011762630310840905\n",
      "p(self=0 | turn=11, partner=1, selfprev=1) =  nan\n",
      "p(self=1 | turn=11, partner=1, selfprev=1) =  nan\n",
      "expected acc: nan; prior prob: 0.0\n",
      "p(self=0 | turn=11, partner=1, selfprev=2) =  nan\n",
      "p(self=1 | turn=11, partner=1, selfprev=2) =  nan\n",
      "expected acc: nan; prior prob: 0.0\n",
      "p(self=0 | turn=11, partner=2, selfprev=0) =  nan\n",
      "p(self=1 | turn=11, partner=2, selfprev=0) =  nan\n",
      "expected acc: nan; prior prob: 0.0\n",
      "p(self=0 | turn=11, partner=2, selfprev=1) =  nan\n",
      "p(self=1 | turn=11, partner=2, selfprev=1) =  nan\n",
      "expected acc: nan; prior prob: 0.0\n",
      "p(self=0 | turn=11, partner=2, selfprev=2) =  nan\n",
      "p(self=1 | turn=11, partner=2, selfprev=2) =  nan\n",
      "expected acc: nan; prior prob: 0.0\n",
      "expected accuracy: 0.7656295990976982\n"
     ]
    }
   ],
   "source": [
    "display_query(mention_counts, {\"self\"}, {\"partner\", \"selfprev\", \"turn\"})"
   ]
  }
 ],
 "metadata": {
  "kernelspec": {
   "display_name": "Python 3",
   "language": "python",
   "name": "python3"
  },
  "language_info": {
   "codemirror_mode": {
    "name": "ipython",
    "version": 3
   },
   "file_extension": ".py",
   "mimetype": "text/x-python",
   "name": "python",
   "nbconvert_exporter": "python",
   "pygments_lexer": "ipython3",
   "version": "3.6.10"
  }
 },
 "nbformat": 4,
 "nbformat_minor": 2
}
