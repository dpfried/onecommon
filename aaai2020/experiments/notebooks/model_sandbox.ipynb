{
 "cells": [
  {
   "cell_type": "code",
   "execution_count": 1,
   "metadata": {},
   "outputs": [
    {
     "name": "stdout",
     "output_type": "stream",
     "text": [
      "/home/dfried/projects/onecommon/aaai2020/experiments\n"
     ]
    }
   ],
   "source": [
    "cd '/home/dfried/projects/onecommon/aaai2020/experiments'"
   ]
  },
  {
   "cell_type": "code",
   "execution_count": 2,
   "metadata": {},
   "outputs": [],
   "source": [
    "import models\n",
    "import data\n",
    "import utils\n",
    "from domain import get_domain\n",
    "from corpora.reference_sentence import ReferenceSentenceCorpus"
   ]
  },
  {
   "cell_type": "code",
   "execution_count": 3,
   "metadata": {},
   "outputs": [],
   "source": [
    "domain = get_domain('one_common')\n",
    "unk_threshold = 10\n",
    "model_ty = models.get_model_type('rnn_reference_model')\n",
    "\n",
    "ctx_encoder_type = 'rel_attn_encoder'\n",
    "\n",
    "# model is actually in \"serialized_models/{model_fname}\"\n",
    "# model_fname = 'rel_tsel_ref_dial_model/default_0_best.th'\n",
    "\n",
    "# # valid_lang_loss 2.2762        valid_select_loss 0.8293        valid_select_acc 0.6859 valid_ref_loss 0.2897\n",
    "# model_fname = 'rel2_tsel_ref_dial_model/hierarchical_rel-enc-2_rel-pool-max_mask-pad_1_best.th'\n",
    "\n",
    "# # valid_lang_loss 2.2609        valid_select_loss 0.9497        valid_select_acc 0.6291         valid_ref_loss 0.3191\n",
    "# model_fname = 'rel2_tsel_ref_dial_model/hierarchical_rel-enc-2_rel-pool-max_mask-pad_feed-ctx-attend_1_best.th'\n",
    "\n",
    "# valid_lang_loss \n",
    "# # valid_lang_loss 2.2544        valid_select_loss 0.8247        valid_select_acc 0.7062         valid_ref_loss 0.2852\n",
    "# model_fname = 'rel2_tsel_ref_dial_model_no-share/hierarchical_mask-pad_feed-context-attend-separate_1_best.th'\n",
    "\n",
    "# # valid_lang_loss 2.2448        valid_select_loss 0.9233        valid_select_acc 0.6455         valid_ref_loss 0.3180\n",
    "# model_fname = 'rel2_tsel_ref_dial_model_no-share/hierarchical_mask-pad_selection-attention_feed-context-attend-separate_no-word-attention_1_best.th'\n",
    "\n",
    "# model_fname = 'rel2_tsel_ref_dial_model_no-share/hierarchical_mask-pad_selection-attention_feed-context-attend-separate_1_best.th'\n",
    "\n",
    "# valid_lang_loss 2.2435        valid_select_loss 1.0267        valid_select_acc 0.6358         valid_ref_loss 0.3528\n",
    "# model_fname = 'rel2_tsel_ref_dial_model_separate/hierarchical_mask-pad_max-pool_rel-2_feed-context-attend_no-word-attention_ablate-properties_1_best.th'\n",
    "\n",
    "# model_fname = 'rel2_dial_model_separate/hierarchical_mask-pad_max-pool_rel-2_feed-context-attend_1_best.th'\n",
    "# model_fname = 'rel2_dial_model_separate/hierarchical_mask-pad_max-pool_rel-2_feed-context-attend_no-word-attention_1_best.th'\n",
    "# model_fname = 'rel2_dial_model_separate/hierarchical_mask-pad_max-pool_rel-2_feed-context-attend_no-word-attention_ablate-properties_1_best.th'\n",
    "# model_fname = 'rel2_dial_model_separate/hierarchical_mask-pad_max-pool_feed-context-attend_no-word-attention_ablate-properties_1_best.th'\n",
    "# model_fname = 'rel2_dial_model_separate/hierarchical_mask-pad_max-pool_feed-context-attend_ablate-properties_1_best.th'\n",
    "\n",
    "# model_fname = 'rel2_dial_model_separate/hierarchical_mask-pad_max-pool_feed-context-attend_ablate-properties_1_best.th'\n",
    "\n",
    "model_fname = 'rel2_dial_model_separate/hierarchical_only-self_mask-pad_max-pool_feed-context-attend_ablate-properties_1_best.th'\n",
    "# model_fname = 'rel2_dial_model_separate/hierarchical_only-self_mask-pad_max-pool_rel-2_feed-context-attend_no-word-attention_ablate-properties_1_best.th'"
   ]
  },
  {
   "cell_type": "code",
   "execution_count": 4,
   "metadata": {},
   "outputs": [],
   "source": [
    "# has diverse outputs, but doesn't attend to meaningful things\n",
    "# model_fname = 'rel2_dial_model_separate/hierarchical_only-self_constrain-attn_mask-pad_max-pool_ablate-properties_1_best.th'\n",
    "\n",
    "# feed attention is peaked, word attention doesn't attend to meaningful things\n",
    "# model_fname = 'rel2_dial_model_separate/hierarchical_only-self_constrain-attn_mask-pad_feed-context-attend_1_best.th'\n",
    "\n",
    "# model_fname = 'rel2_dial_model_separate/hierarchical_only-self_constrain-attn_mask-pad_max-pool_feed-context-attend_no-word-attention_ablate-properties_1_best.th'\n",
    "# model_fname = 'rel2_dial_model_separate/hierarchical_only-self_constrain-attn_mask-pad_max-pool_feed-context-attend_no-word-attention_ablate-properties_1_best.th'\n",
    "\n",
    "# model_fname = 'rel2_dial_model_separate/hierarchical_only-self_constrain-attn_mask-pad_max-pool_rel-2_feed-context-attend_no-word-attention_1_best.th'\n",
    "model_fname = 'rel2_dial_model_separate/hierarchical_only-self_constrain-attn_mask-pad_max-pool_rel-2_feed-context-attend_1_best.th'"
   ]
  },
  {
   "cell_type": "code",
   "execution_count": 5,
   "metadata": {},
   "outputs": [],
   "source": [
    "model_fname = 'rel2_dial_model_separate/hierarchical_only-self_supervise-feed-attn_mask-pad_feed-context-attend_1_best.th'"
   ]
  },
  {
   "cell_type": "code",
   "execution_count": 6,
   "metadata": {},
   "outputs": [
    {
     "name": "stdout",
     "output_type": "stream",
     "text": [
      "dataset data/onecommon/train_reference_1.txt, total 545056, unks 4302, ratio 0.79%\n",
      "dataset data/onecommon/valid_reference_1.txt, total 69348, unks 686, ratio 0.99%\n",
      "dataset data/onecommon/test_reference_1.txt, total 67284, unks 636, ratio 0.95%\n"
     ]
    }
   ],
   "source": [
    "seed = 1\n",
    "corpus = ReferenceSentenceCorpus(domain, 'data/onecommon',\n",
    "                            train='train_reference_{}.txt'.format(seed),\n",
    "                            valid='valid_reference_{}.txt'.format(seed),\n",
    "                            test='test_reference_{}.txt'.format(seed),\n",
    "                            freq_cutoff=unk_threshold, verbose=True)"
   ]
  },
  {
   "cell_type": "code",
   "execution_count": 7,
   "metadata": {},
   "outputs": [],
   "source": [
    "def load_json(file):\n",
    "    import json\n",
    "    with open(file, 'r') as f:\n",
    "        return json.load(f)"
   ]
  },
  {
   "cell_type": "code",
   "execution_count": 8,
   "metadata": {},
   "outputs": [],
   "source": [
    "scenarios1 = load_json('data/onecommon/aaai_train_scenarios.json')\n",
    "scenarios2 = load_json('data/onecommon/aaai_train_scenarios_2.json')"
   ]
  },
  {
   "cell_type": "code",
   "execution_count": 9,
   "metadata": {},
   "outputs": [
    {
     "data": {
      "text/plain": [
       "9000"
      ]
     },
     "execution_count": 9,
     "metadata": {},
     "output_type": "execute_result"
    }
   ],
   "source": [
    "len(scenarios1)"
   ]
  },
  {
   "cell_type": "code",
   "execution_count": 10,
   "metadata": {},
   "outputs": [
    {
     "data": {
      "text/plain": [
       "4500"
      ]
     },
     "execution_count": 10,
     "metadata": {},
     "output_type": "execute_result"
    }
   ],
   "source": [
    "len(scenarios2)"
   ]
  },
  {
   "cell_type": "code",
   "execution_count": 11,
   "metadata": {},
   "outputs": [
    {
     "data": {
      "text/plain": [
       "dict_keys(['kbs', 'shared', 'uuid'])"
      ]
     },
     "execution_count": 11,
     "metadata": {},
     "output_type": "execute_result"
    }
   ],
   "source": [
    "scenarios1[0].keys()"
   ]
  },
  {
   "cell_type": "code",
   "execution_count": 12,
   "metadata": {},
   "outputs": [],
   "source": [
    "train_scenarios = {\n",
    "    scenario['uuid']: scenario\n",
    "    for scenario in scenarios1\n",
    "}"
   ]
  },
  {
   "cell_type": "code",
   "execution_count": 13,
   "metadata": {},
   "outputs": [],
   "source": [
    "hit_count = 0\n",
    "miss_count = 0\n",
    "for scenario in scenarios2:\n",
    "    uuid = scenario['uuid']\n",
    "    if uuid in train_scenarios:\n",
    "        assert train_scenarios[uuid] == scenario\n",
    "        hit_count += 1\n",
    "    else:\n",
    "        miss_count += 1"
   ]
  },
  {
   "cell_type": "code",
   "execution_count": 14,
   "metadata": {},
   "outputs": [
    {
     "name": "stdout",
     "output_type": "stream",
     "text": [
      "hits: 0\n",
      "misses: 4500\n"
     ]
    }
   ],
   "source": [
    "print(\"hits: {}\".format(hit_count))\n",
    "print(\"misses: {}\".format(miss_count))"
   ]
  },
  {
   "cell_type": "code",
   "execution_count": 15,
   "metadata": {},
   "outputs": [
    {
     "data": {
      "text/plain": [
       "<corpora.reference_sentence.ReferenceSentenceCorpus at 0x7f53dfdcbe80>"
      ]
     },
     "execution_count": 15,
     "metadata": {},
     "output_type": "execute_result"
    }
   ],
   "source": [
    "corpus"
   ]
  },
  {
   "cell_type": "code",
   "execution_count": 16,
   "metadata": {},
   "outputs": [],
   "source": [
    "model = utils.load_model(model_fname, map_location='cpu')"
   ]
  },
  {
   "cell_type": "code",
   "execution_count": 17,
   "metadata": {},
   "outputs": [],
   "source": [
    "batchsize=1\n",
    "validset, validset_stats = corpus.valid_dataset(batchsize)"
   ]
  },
  {
   "cell_type": "code",
   "execution_count": 18,
   "metadata": {},
   "outputs": [
    {
     "data": {
      "text/plain": [
       "{'n': 74030, 'nonpadn': 69348}"
      ]
     },
     "execution_count": 18,
     "metadata": {},
     "output_type": "execute_result"
    }
   ],
   "source": [
    "validset_stats"
   ]
  },
  {
   "cell_type": "code",
   "execution_count": 19,
   "metadata": {},
   "outputs": [],
   "source": [
    "import torch"
   ]
  },
  {
   "cell_type": "code",
   "execution_count": 20,
   "metadata": {},
   "outputs": [
    {
     "name": "stderr",
     "output_type": "stream",
     "text": [
      "/home/dfried/anaconda2/envs/onecommon/lib/python3.6/site-packages/statsmodels/tools/_testing.py:19: FutureWarning: pandas.util.testing is deprecated. Use the functions in the public API at pandas.testing instead.\n",
      "  import pandas.util.testing as tm\n"
     ]
    }
   ],
   "source": [
    "from agent import RnnAgent"
   ]
  },
  {
   "cell_type": "code",
   "execution_count": 21,
   "metadata": {},
   "outputs": [],
   "source": [
    "from selfplay import make_parser"
   ]
  },
  {
   "cell_type": "code",
   "execution_count": 22,
   "metadata": {},
   "outputs": [],
   "source": [
    "parser = make_parser()\n",
    "args = parser.parse_args('--temperature 0.25'.split())\n",
    "# args = parser.parse_args('--temperature 0.01'.split())"
   ]
  },
  {
   "cell_type": "code",
   "execution_count": 23,
   "metadata": {},
   "outputs": [],
   "source": [
    "alice = RnnAgent(model, args)\n",
    "bob = RnnAgent(model, args)"
   ]
  },
  {
   "cell_type": "code",
   "execution_count": 24,
   "metadata": {},
   "outputs": [],
   "source": [
    "def is_selection(out):\n",
    "    return '<selection>' in out"
   ]
  },
  {
   "cell_type": "code",
   "execution_count": 25,
   "metadata": {},
   "outputs": [],
   "source": [
    "# display"
   ]
  },
  {
   "cell_type": "code",
   "execution_count": 26,
   "metadata": {},
   "outputs": [],
   "source": [
    "from dialog import DialogLogger"
   ]
  },
  {
   "cell_type": "code",
   "execution_count": 27,
   "metadata": {},
   "outputs": [],
   "source": [
    "from IPython.display import SVG, display, HTML"
   ]
  },
  {
   "cell_type": "code",
   "execution_count": 28,
   "metadata": {},
   "outputs": [],
   "source": [
    "def display_svgs(svgs):\n",
    "    no_wrap_div = '<div style=\"white-space: nowrap\">' + ''.join(svgs) + '</div>'\n",
    "    display(HTML(no_wrap_div))"
   ]
  },
  {
   "cell_type": "code",
   "execution_count": 29,
   "metadata": {},
   "outputs": [],
   "source": [
    "def display_attn(scenario, attn, agent_id, name=None):\n",
    "    attn = attn.flatten().detach().numpy()\n",
    "    if name is not None:\n",
    "        print(\"{}: {}\".format(name, attn))\n",
    "    display_svgs([DialogLogger._scenario_to_svg(scenario)[agent_id], DialogLogger._attention_to_svg(scenario, agent_id, attn)])"
   ]
  },
  {
   "cell_type": "code",
   "execution_count": 30,
   "metadata": {},
   "outputs": [
    {
     "name": "stdout",
     "output_type": "stream",
     "text": [
      "Automatic pdb calling has been turned ON\n"
     ]
    }
   ],
   "source": [
    "pdb on"
   ]
  },
  {
   "cell_type": "code",
   "execution_count": 31,
   "metadata": {},
   "outputs": [],
   "source": [
    "# training emulation"
   ]
  },
  {
   "cell_type": "code",
   "execution_count": 32,
   "metadata": {},
   "outputs": [],
   "source": [
    "trainset, trainset_stats = corpus.train_dataset(bsz=1)"
   ]
  },
  {
   "cell_type": "code",
   "execution_count": 33,
   "metadata": {},
   "outputs": [
    {
     "data": {
      "text/plain": [
       "True"
      ]
     },
     "execution_count": 33,
     "metadata": {},
     "output_type": "execute_result"
    }
   ],
   "source": [
    "trainset[0].scenario_ids[0] in train_scenarios"
   ]
  },
  {
   "cell_type": "code",
   "execution_count": 34,
   "metadata": {},
   "outputs": [],
   "source": [
    "# ctx: this player's dots\n",
    "# inpt / tgt: dialogue word indices (tgt are shifted by 1)\n",
    "# ref_inpt"
   ]
  },
  {
   "cell_type": "code",
   "execution_count": 35,
   "metadata": {},
   "outputs": [
    {
     "name": "stdout",
     "output_type": "stream",
     "text": [
      "found it\n"
     ]
    },
    {
     "ename": "KeyError",
     "evalue": "'S_UoujG1GG6KscmnbN'",
     "output_type": "error",
     "traceback": [
      "\u001b[0;31m---------------------------------------------------------------------------\u001b[0m",
      "\u001b[0;31mKeyError\u001b[0m                                  Traceback (most recent call last)",
      "\u001b[0;32m<ipython-input-35-da5e076431c6>\u001b[0m in \u001b[0;36m<module>\u001b[0;34m\u001b[0m\n\u001b[1;32m      6\u001b[0m     \u001b[0;32mif\u001b[0m \u001b[0mscenario_id\u001b[0m \u001b[0;34m==\u001b[0m \u001b[0;34m'S_UoujG1GG6KscmnbN'\u001b[0m\u001b[0;34m:\u001b[0m\u001b[0;34m\u001b[0m\u001b[0;34m\u001b[0m\u001b[0m\n\u001b[1;32m      7\u001b[0m         \u001b[0mprint\u001b[0m\u001b[0;34m(\u001b[0m\u001b[0;34m\"found it\"\u001b[0m\u001b[0;34m)\u001b[0m\u001b[0;34m\u001b[0m\u001b[0;34m\u001b[0m\u001b[0m\n\u001b[0;32m----> 8\u001b[0;31m         \u001b[0mscenario\u001b[0m \u001b[0;34m=\u001b[0m \u001b[0mtrain_scenarios\u001b[0m\u001b[0;34m[\u001b[0m\u001b[0mscenario_id\u001b[0m\u001b[0;34m]\u001b[0m\u001b[0;34m\u001b[0m\u001b[0;34m\u001b[0m\u001b[0m\n\u001b[0m\u001b[1;32m      9\u001b[0m         \u001b[0;32mbreak\u001b[0m\u001b[0;34m\u001b[0m\u001b[0;34m\u001b[0m\u001b[0m\n",
      "\u001b[0;31mKeyError\u001b[0m: 'S_UoujG1GG6KscmnbN'"
     ]
    },
    {
     "name": "stdout",
     "output_type": "stream",
     "text": [
      "> \u001b[0;32m<ipython-input-35-da5e076431c6>\u001b[0m(8)\u001b[0;36m<module>\u001b[0;34m()\u001b[0m\n",
      "\u001b[0;32m      5 \u001b[0;31m\u001b[0;31m#     if 'C_d0de3d0144df405e998ae718539ff9a4' in chat_ids:\u001b[0m\u001b[0;34m\u001b[0m\u001b[0;34m\u001b[0m\u001b[0;34m\u001b[0m\u001b[0m\n",
      "\u001b[0m\u001b[0;32m      6 \u001b[0;31m    \u001b[0;32mif\u001b[0m \u001b[0mscenario_id\u001b[0m \u001b[0;34m==\u001b[0m \u001b[0;34m'S_UoujG1GG6KscmnbN'\u001b[0m\u001b[0;34m:\u001b[0m\u001b[0;34m\u001b[0m\u001b[0;34m\u001b[0m\u001b[0m\n",
      "\u001b[0m\u001b[0;32m      7 \u001b[0;31m        \u001b[0mprint\u001b[0m\u001b[0;34m(\u001b[0m\u001b[0;34m\"found it\"\u001b[0m\u001b[0;34m)\u001b[0m\u001b[0;34m\u001b[0m\u001b[0;34m\u001b[0m\u001b[0m\n",
      "\u001b[0m\u001b[0;32m----> 8 \u001b[0;31m        \u001b[0mscenario\u001b[0m \u001b[0;34m=\u001b[0m \u001b[0mtrain_scenarios\u001b[0m\u001b[0;34m[\u001b[0m\u001b[0mscenario_id\u001b[0m\u001b[0;34m]\u001b[0m\u001b[0;34m\u001b[0m\u001b[0;34m\u001b[0m\u001b[0m\n",
      "\u001b[0m\u001b[0;32m      9 \u001b[0;31m        \u001b[0;32mbreak\u001b[0m\u001b[0;34m\u001b[0m\u001b[0;34m\u001b[0m\u001b[0m\n",
      "\u001b[0m\n",
      "ipdb> q\n"
     ]
    }
   ],
   "source": [
    "for ix in range(len(trainset)):\n",
    "    ctx, inpts, tgts, ref_inpts, ref_tgts, sel_tgt, \\\n",
    "    [scenario_id], real_ids, agents, chat_ids, sel_idxs, \\\n",
    "    lens, rev_idxs, hid_idxs, all_num_markables = trainset[ix]\n",
    "#     if 'C_d0de3d0144df405e998ae718539ff9a4' in chat_ids:\n",
    "    if scenario_id == 'S_UoujG1GG6KscmnbN':\n",
    "        print(\"found it\")\n",
    "        scenario = train_scenarios[scenario_id]\n",
    "        break"
   ]
  },
  {
   "cell_type": "code",
   "execution_count": 48,
   "metadata": {},
   "outputs": [
    {
     "data": {
      "text/plain": [
       "[['5', '24', '35', '39', '40', '58', '80']]"
      ]
     },
     "execution_count": 48,
     "metadata": {},
     "output_type": "execute_result"
    }
   ],
   "source": [
    "real_ids"
   ]
  },
  {
   "cell_type": "code",
   "execution_count": 49,
   "metadata": {},
   "outputs": [],
   "source": [
    "ref_tgts[1]"
   ]
  },
  {
   "cell_type": "code",
   "execution_count": 50,
   "metadata": {},
   "outputs": [
    {
     "data": {
      "text/plain": [
       "{'kbs': [[{'color': 'rgb(75,75,75)', 'x': 124, 'id': '5', 'size': 9, 'y': 239},\n",
       "   {'color': 'rgb(97,97,97)', 'x': 133, 'id': '24', 'size': 11, 'y': 189},\n",
       "   {'color': 'rgb(177,177,177)', 'x': 352, 'id': '33', 'size': 7, 'y': 276},\n",
       "   {'color': 'rgb(149,149,149)', 'x': 202, 'id': '35', 'size': 8, 'y': 169},\n",
       "   {'color': 'rgb(139,139,139)', 'x': 81, 'id': '39', 'size': 7, 'y': 130},\n",
       "   {'color': 'rgb(76,76,76)', 'x': 231, 'id': '40', 'size': 10, 'y': 112},\n",
       "   {'color': 'rgb(85,85,85)', 'x': 228, 'id': '80', 'size': 9, 'y': 319}],\n",
       "  [{'color': 'rgb(75,75,75)', 'x': 199, 'id': '5', 'size': 9, 'y': 227},\n",
       "   {'color': 'rgb(97,97,97)', 'x': 208, 'id': '24', 'size': 11, 'y': 177},\n",
       "   {'color': 'rgb(149,149,149)', 'x': 277, 'id': '35', 'size': 8, 'y': 157},\n",
       "   {'color': 'rgb(139,139,139)', 'x': 156, 'id': '39', 'size': 7, 'y': 118},\n",
       "   {'color': 'rgb(76,76,76)', 'x': 306, 'id': '40', 'size': 10, 'y': 100},\n",
       "   {'color': 'rgb(115,115,115)', 'x': 83, 'id': '58', 'size': 9, 'y': 255},\n",
       "   {'color': 'rgb(85,85,85)', 'x': 303, 'id': '80', 'size': 9, 'y': 307}]],\n",
       " 'shared': 6,\n",
       " 'uuid': 'S_SEMl9N37ETeRxeVf'}"
      ]
     },
     "execution_count": 50,
     "metadata": {},
     "output_type": "execute_result"
    }
   ],
   "source": [
    "scenario"
   ]
  },
  {
   "cell_type": "code",
   "execution_count": 51,
   "metadata": {},
   "outputs": [
    {
     "data": {
      "text/plain": [
       "torch.Size([16, 1])"
      ]
     },
     "execution_count": 51,
     "metadata": {},
     "output_type": "execute_result"
    }
   ],
   "source": [
    "inpts[0].size()"
   ]
  },
  {
   "cell_type": "code",
   "execution_count": 52,
   "metadata": {},
   "outputs": [
    {
     "data": {
      "text/plain": [
       "<corpora.data.Dictionary at 0x7f9e4e55fc18>"
      ]
     },
     "execution_count": 52,
     "metadata": {},
     "output_type": "execute_result"
    }
   ],
   "source": [
    "corpus.word_dict"
   ]
  },
  {
   "cell_type": "code",
   "execution_count": 53,
   "metadata": {},
   "outputs": [
    {
     "data": {
      "text/plain": [
       "[['5', '24', '35', '39', '40', '58', '80']]"
      ]
     },
     "execution_count": 53,
     "metadata": {},
     "output_type": "execute_result"
    }
   ],
   "source": [
    "real_ids"
   ]
  },
  {
   "cell_type": "code",
   "execution_count": 54,
   "metadata": {},
   "outputs": [
    {
     "data": {
      "text/plain": [
       "[{'color': 'rgb(75,75,75)', 'x': 124, 'id': '5', 'size': 9, 'y': 239},\n",
       " {'color': 'rgb(97,97,97)', 'x': 133, 'id': '24', 'size': 11, 'y': 189},\n",
       " {'color': 'rgb(177,177,177)', 'x': 352, 'id': '33', 'size': 7, 'y': 276},\n",
       " {'color': 'rgb(149,149,149)', 'x': 202, 'id': '35', 'size': 8, 'y': 169},\n",
       " {'color': 'rgb(139,139,139)', 'x': 81, 'id': '39', 'size': 7, 'y': 130},\n",
       " {'color': 'rgb(76,76,76)', 'x': 231, 'id': '40', 'size': 10, 'y': 112},\n",
       " {'color': 'rgb(85,85,85)', 'x': 228, 'id': '80', 'size': 9, 'y': 319}]"
      ]
     },
     "execution_count": 54,
     "metadata": {},
     "output_type": "execute_result"
    }
   ],
   "source": [
    "scenario['kbs'][0]"
   ]
  },
  {
   "cell_type": "code",
   "execution_count": 55,
   "metadata": {},
   "outputs": [
    {
     "data": {
      "text/plain": [
       "1"
      ]
     },
     "execution_count": 55,
     "metadata": {},
     "output_type": "execute_result"
    }
   ],
   "source": [
    "agents[0]"
   ]
  },
  {
   "cell_type": "code",
   "execution_count": 56,
   "metadata": {},
   "outputs": [
    {
     "data": {
      "text/plain": [
       "tensor([[[0, 1, 0, 0, 0, 0, 0],\n",
       "         [1, 0, 0, 0, 0, 0, 0],\n",
       "         [0, 1, 0, 0, 0, 0, 0]]])"
      ]
     },
     "execution_count": 56,
     "metadata": {},
     "output_type": "execute_result"
    }
   ],
   "source": [
    "ref_tgts[0]"
   ]
  },
  {
   "cell_type": "code",
   "execution_count": 57,
   "metadata": {
    "scrolled": false
   },
   "outputs": [
    {
     "name": "stdout",
     "output_type": "stream",
     "text": [
      "YOU: i see a dark grey dot with a slightly smaller darker dot below it <eos>\n",
      "dots_mentioned: [1. 1. 0. 0. 0. 0. 0.]\n"
     ]
    },
    {
     "data": {
      "text/html": [
       "<div style=\"white-space: nowrap\"><svg width=\"430\" height=\"430\" id=\"agent_1\"><circle cx=\"215\" cy=\"215\" r=\"205\" fill=\"none\" stroke=\"black\" stroke-width=\"2\" stroke-dasharray=\"3,3\"/><circle cx=\"199\" cy=\"227\" r=\"9\" fill=\"rgb(75,75,75)\"/><circle cx=\"208\" cy=\"177\" r=\"11\" fill=\"rgb(97,97,97)\"/><circle cx=\"277\" cy=\"157\" r=\"8\" fill=\"rgb(149,149,149)\"/><circle cx=\"156\" cy=\"118\" r=\"7\" fill=\"rgb(139,139,139)\"/><circle cx=\"306\" cy=\"100\" r=\"10\" fill=\"rgb(76,76,76)\"/><circle cx=\"83\" cy=\"255\" r=\"9\" fill=\"rgb(115,115,115)\"/><circle cx=\"303\" cy=\"307\" r=\"9\" fill=\"rgb(85,85,85)\"/></svg><svg id=\"svg\" width=\"430\" height=\"430\"><circle cx=\"215\" cy=\"215\" r=\"205\" fill=\"none\" stroke=\"black\" stroke-width=\"2\" stroke-dasharray=\"3,3\"/> <circle cx=\"199\" cy=\"227\" r=\"9\" fill=\"rgb(255,0,0)\" class=\"agent_1_5\"/><circle cx=\"208\" cy=\"177\" r=\"11\" fill=\"rgb(255,0,0)\" class=\"agent_1_24\"/><circle cx=\"277\" cy=\"157\" r=\"8\" fill=\"rgb(255,255,255)\" class=\"agent_1_35\"/><circle cx=\"156\" cy=\"118\" r=\"7\" fill=\"rgb(255,255,255)\" class=\"agent_1_39\"/><circle cx=\"306\" cy=\"100\" r=\"10\" fill=\"rgb(255,255,255)\" class=\"agent_1_40\"/><circle cx=\"83\" cy=\"255\" r=\"9\" fill=\"rgb(255,255,255)\" class=\"agent_1_58\"/><circle cx=\"303\" cy=\"307\" r=\"9\" fill=\"rgb(255,255,255)\" class=\"agent_1_80\"/></svg></div>"
      ],
      "text/plain": [
       "<IPython.core.display.HTML object>"
      ]
     },
     "metadata": {},
     "output_type": "display_data"
    },
    {
     "name": "stdout",
     "output_type": "stream",
     "text": [
      "feed attention: [0.21415079 0.26355082 0.20366506 0.10438601 0.11483226 0.03861998\n",
      " 0.06079509]\n"
     ]
    },
    {
     "data": {
      "text/html": [
       "<div style=\"white-space: nowrap\"><svg width=\"430\" height=\"430\" id=\"agent_1\"><circle cx=\"215\" cy=\"215\" r=\"205\" fill=\"none\" stroke=\"black\" stroke-width=\"2\" stroke-dasharray=\"3,3\"/><circle cx=\"199\" cy=\"227\" r=\"9\" fill=\"rgb(75,75,75)\"/><circle cx=\"208\" cy=\"177\" r=\"11\" fill=\"rgb(97,97,97)\"/><circle cx=\"277\" cy=\"157\" r=\"8\" fill=\"rgb(149,149,149)\"/><circle cx=\"156\" cy=\"118\" r=\"7\" fill=\"rgb(139,139,139)\"/><circle cx=\"306\" cy=\"100\" r=\"10\" fill=\"rgb(76,76,76)\"/><circle cx=\"83\" cy=\"255\" r=\"9\" fill=\"rgb(115,115,115)\"/><circle cx=\"303\" cy=\"307\" r=\"9\" fill=\"rgb(85,85,85)\"/></svg><svg id=\"svg\" width=\"430\" height=\"430\"><circle cx=\"215\" cy=\"215\" r=\"205\" fill=\"none\" stroke=\"black\" stroke-width=\"2\" stroke-dasharray=\"3,3\"/> <circle cx=\"199\" cy=\"227\" r=\"9\" fill=\"rgb(255,200,200)\" class=\"agent_1_5\"/><circle cx=\"208\" cy=\"177\" r=\"11\" fill=\"rgb(255,187,187)\" class=\"agent_1_24\"/><circle cx=\"277\" cy=\"157\" r=\"8\" fill=\"rgb(255,203,203)\" class=\"agent_1_35\"/><circle cx=\"156\" cy=\"118\" r=\"7\" fill=\"rgb(255,228,228)\" class=\"agent_1_39\"/><circle cx=\"306\" cy=\"100\" r=\"10\" fill=\"rgb(255,225,225)\" class=\"agent_1_40\"/><circle cx=\"83\" cy=\"255\" r=\"9\" fill=\"rgb(255,245,245)\" class=\"agent_1_58\"/><circle cx=\"303\" cy=\"307\" r=\"9\" fill=\"rgb(255,239,239)\" class=\"agent_1_80\"/></svg></div>"
      ],
      "text/plain": [
       "<IPython.core.display.HTML object>"
      ]
     },
     "metadata": {},
     "output_type": "display_data"
    },
    {
     "name": "stdout",
     "output_type": "stream",
     "text": [
      "word attention mean: [0.21117762 0.18205652 0.09723911 0.09005012 0.18244098 0.10613222\n",
      " 0.13090344]\n"
     ]
    },
    {
     "data": {
      "text/html": [
       "<div style=\"white-space: nowrap\"><svg width=\"430\" height=\"430\" id=\"agent_1\"><circle cx=\"215\" cy=\"215\" r=\"205\" fill=\"none\" stroke=\"black\" stroke-width=\"2\" stroke-dasharray=\"3,3\"/><circle cx=\"199\" cy=\"227\" r=\"9\" fill=\"rgb(75,75,75)\"/><circle cx=\"208\" cy=\"177\" r=\"11\" fill=\"rgb(97,97,97)\"/><circle cx=\"277\" cy=\"157\" r=\"8\" fill=\"rgb(149,149,149)\"/><circle cx=\"156\" cy=\"118\" r=\"7\" fill=\"rgb(139,139,139)\"/><circle cx=\"306\" cy=\"100\" r=\"10\" fill=\"rgb(76,76,76)\"/><circle cx=\"83\" cy=\"255\" r=\"9\" fill=\"rgb(115,115,115)\"/><circle cx=\"303\" cy=\"307\" r=\"9\" fill=\"rgb(85,85,85)\"/></svg><svg id=\"svg\" width=\"430\" height=\"430\"><circle cx=\"215\" cy=\"215\" r=\"205\" fill=\"none\" stroke=\"black\" stroke-width=\"2\" stroke-dasharray=\"3,3\"/> <circle cx=\"199\" cy=\"227\" r=\"9\" fill=\"rgb(255,201,201)\" class=\"agent_1_5\"/><circle cx=\"208\" cy=\"177\" r=\"11\" fill=\"rgb(255,208,208)\" class=\"agent_1_24\"/><circle cx=\"277\" cy=\"157\" r=\"8\" fill=\"rgb(255,230,230)\" class=\"agent_1_35\"/><circle cx=\"156\" cy=\"118\" r=\"7\" fill=\"rgb(255,232,232)\" class=\"agent_1_39\"/><circle cx=\"306\" cy=\"100\" r=\"10\" fill=\"rgb(255,208,208)\" class=\"agent_1_40\"/><circle cx=\"83\" cy=\"255\" r=\"9\" fill=\"rgb(255,227,227)\" class=\"agent_1_58\"/><circle cx=\"303\" cy=\"307\" r=\"9\" fill=\"rgb(255,221,221)\" class=\"agent_1_80\"/></svg></div>"
      ],
      "text/plain": [
       "<IPython.core.display.HTML object>"
      ]
     },
     "metadata": {},
     "output_type": "display_data"
    },
    {
     "name": "stdout",
     "output_type": "stream",
     "text": [
      "t 0: i: [0.20555297 0.21779485 0.0682409  0.06809045 0.18552554 0.11448714\n",
      " 0.14030816]\n"
     ]
    },
    {
     "data": {
      "text/html": [
       "<div style=\"white-space: nowrap\"><svg width=\"430\" height=\"430\" id=\"agent_1\"><circle cx=\"215\" cy=\"215\" r=\"205\" fill=\"none\" stroke=\"black\" stroke-width=\"2\" stroke-dasharray=\"3,3\"/><circle cx=\"199\" cy=\"227\" r=\"9\" fill=\"rgb(75,75,75)\"/><circle cx=\"208\" cy=\"177\" r=\"11\" fill=\"rgb(97,97,97)\"/><circle cx=\"277\" cy=\"157\" r=\"8\" fill=\"rgb(149,149,149)\"/><circle cx=\"156\" cy=\"118\" r=\"7\" fill=\"rgb(139,139,139)\"/><circle cx=\"306\" cy=\"100\" r=\"10\" fill=\"rgb(76,76,76)\"/><circle cx=\"83\" cy=\"255\" r=\"9\" fill=\"rgb(115,115,115)\"/><circle cx=\"303\" cy=\"307\" r=\"9\" fill=\"rgb(85,85,85)\"/></svg><svg id=\"svg\" width=\"430\" height=\"430\"><circle cx=\"215\" cy=\"215\" r=\"205\" fill=\"none\" stroke=\"black\" stroke-width=\"2\" stroke-dasharray=\"3,3\"/> <circle cx=\"199\" cy=\"227\" r=\"9\" fill=\"rgb(255,202,202)\" class=\"agent_1_5\"/><circle cx=\"208\" cy=\"177\" r=\"11\" fill=\"rgb(255,199,199)\" class=\"agent_1_24\"/><circle cx=\"277\" cy=\"157\" r=\"8\" fill=\"rgb(255,237,237)\" class=\"agent_1_35\"/><circle cx=\"156\" cy=\"118\" r=\"7\" fill=\"rgb(255,237,237)\" class=\"agent_1_39\"/><circle cx=\"306\" cy=\"100\" r=\"10\" fill=\"rgb(255,207,207)\" class=\"agent_1_40\"/><circle cx=\"83\" cy=\"255\" r=\"9\" fill=\"rgb(255,225,225)\" class=\"agent_1_58\"/><circle cx=\"303\" cy=\"307\" r=\"9\" fill=\"rgb(255,219,219)\" class=\"agent_1_80\"/></svg></div>"
      ],
      "text/plain": [
       "<IPython.core.display.HTML object>"
      ]
     },
     "metadata": {},
     "output_type": "display_data"
    },
    {
     "name": "stdout",
     "output_type": "stream",
     "text": [
      "t 1: see: [0.15178424 0.15108328 0.12941994 0.13272911 0.15402313 0.1356761\n",
      " 0.14528424]\n"
     ]
    },
    {
     "data": {
      "text/html": [
       "<div style=\"white-space: nowrap\"><svg width=\"430\" height=\"430\" id=\"agent_1\"><circle cx=\"215\" cy=\"215\" r=\"205\" fill=\"none\" stroke=\"black\" stroke-width=\"2\" stroke-dasharray=\"3,3\"/><circle cx=\"199\" cy=\"227\" r=\"9\" fill=\"rgb(75,75,75)\"/><circle cx=\"208\" cy=\"177\" r=\"11\" fill=\"rgb(97,97,97)\"/><circle cx=\"277\" cy=\"157\" r=\"8\" fill=\"rgb(149,149,149)\"/><circle cx=\"156\" cy=\"118\" r=\"7\" fill=\"rgb(139,139,139)\"/><circle cx=\"306\" cy=\"100\" r=\"10\" fill=\"rgb(76,76,76)\"/><circle cx=\"83\" cy=\"255\" r=\"9\" fill=\"rgb(115,115,115)\"/><circle cx=\"303\" cy=\"307\" r=\"9\" fill=\"rgb(85,85,85)\"/></svg><svg id=\"svg\" width=\"430\" height=\"430\"><circle cx=\"215\" cy=\"215\" r=\"205\" fill=\"none\" stroke=\"black\" stroke-width=\"2\" stroke-dasharray=\"3,3\"/> <circle cx=\"199\" cy=\"227\" r=\"9\" fill=\"rgb(255,216,216)\" class=\"agent_1_5\"/><circle cx=\"208\" cy=\"177\" r=\"11\" fill=\"rgb(255,216,216)\" class=\"agent_1_24\"/><circle cx=\"277\" cy=\"157\" r=\"8\" fill=\"rgb(255,221,221)\" class=\"agent_1_35\"/><circle cx=\"156\" cy=\"118\" r=\"7\" fill=\"rgb(255,221,221)\" class=\"agent_1_39\"/><circle cx=\"306\" cy=\"100\" r=\"10\" fill=\"rgb(255,215,215)\" class=\"agent_1_40\"/><circle cx=\"83\" cy=\"255\" r=\"9\" fill=\"rgb(255,220,220)\" class=\"agent_1_58\"/><circle cx=\"303\" cy=\"307\" r=\"9\" fill=\"rgb(255,217,217)\" class=\"agent_1_80\"/></svg></div>"
      ],
      "text/plain": [
       "<IPython.core.display.HTML object>"
      ]
     },
     "metadata": {},
     "output_type": "display_data"
    },
    {
     "name": "stdout",
     "output_type": "stream",
     "text": [
      "t 2: a: [0.12313192 0.1468154  0.15421514 0.15454435 0.12560794 0.15752958\n",
      " 0.13815567]\n"
     ]
    },
    {
     "data": {
      "text/html": [
       "<div style=\"white-space: nowrap\"><svg width=\"430\" height=\"430\" id=\"agent_1\"><circle cx=\"215\" cy=\"215\" r=\"205\" fill=\"none\" stroke=\"black\" stroke-width=\"2\" stroke-dasharray=\"3,3\"/><circle cx=\"199\" cy=\"227\" r=\"9\" fill=\"rgb(75,75,75)\"/><circle cx=\"208\" cy=\"177\" r=\"11\" fill=\"rgb(97,97,97)\"/><circle cx=\"277\" cy=\"157\" r=\"8\" fill=\"rgb(149,149,149)\"/><circle cx=\"156\" cy=\"118\" r=\"7\" fill=\"rgb(139,139,139)\"/><circle cx=\"306\" cy=\"100\" r=\"10\" fill=\"rgb(76,76,76)\"/><circle cx=\"83\" cy=\"255\" r=\"9\" fill=\"rgb(115,115,115)\"/><circle cx=\"303\" cy=\"307\" r=\"9\" fill=\"rgb(85,85,85)\"/></svg><svg id=\"svg\" width=\"430\" height=\"430\"><circle cx=\"215\" cy=\"215\" r=\"205\" fill=\"none\" stroke=\"black\" stroke-width=\"2\" stroke-dasharray=\"3,3\"/> <circle cx=\"199\" cy=\"227\" r=\"9\" fill=\"rgb(255,223,223)\" class=\"agent_1_5\"/><circle cx=\"208\" cy=\"177\" r=\"11\" fill=\"rgb(255,217,217)\" class=\"agent_1_24\"/><circle cx=\"277\" cy=\"157\" r=\"8\" fill=\"rgb(255,215,215)\" class=\"agent_1_35\"/><circle cx=\"156\" cy=\"118\" r=\"7\" fill=\"rgb(255,215,215)\" class=\"agent_1_39\"/><circle cx=\"306\" cy=\"100\" r=\"10\" fill=\"rgb(255,222,222)\" class=\"agent_1_40\"/><circle cx=\"83\" cy=\"255\" r=\"9\" fill=\"rgb(255,214,214)\" class=\"agent_1_58\"/><circle cx=\"303\" cy=\"307\" r=\"9\" fill=\"rgb(255,219,219)\" class=\"agent_1_80\"/></svg></div>"
      ],
      "text/plain": [
       "<IPython.core.display.HTML object>"
      ]
     },
     "metadata": {},
     "output_type": "display_data"
    },
    {
     "name": "stdout",
     "output_type": "stream",
     "text": [
      "t 3: dark: [5.2030641e-01 1.8628314e-01 1.2101460e-05 5.5731623e-05 2.9051593e-01\n",
      " 6.4237524e-06 2.8202906e-03]\n"
     ]
    },
    {
     "data": {
      "text/html": [
       "<div style=\"white-space: nowrap\"><svg width=\"430\" height=\"430\" id=\"agent_1\"><circle cx=\"215\" cy=\"215\" r=\"205\" fill=\"none\" stroke=\"black\" stroke-width=\"2\" stroke-dasharray=\"3,3\"/><circle cx=\"199\" cy=\"227\" r=\"9\" fill=\"rgb(75,75,75)\"/><circle cx=\"208\" cy=\"177\" r=\"11\" fill=\"rgb(97,97,97)\"/><circle cx=\"277\" cy=\"157\" r=\"8\" fill=\"rgb(149,149,149)\"/><circle cx=\"156\" cy=\"118\" r=\"7\" fill=\"rgb(139,139,139)\"/><circle cx=\"306\" cy=\"100\" r=\"10\" fill=\"rgb(76,76,76)\"/><circle cx=\"83\" cy=\"255\" r=\"9\" fill=\"rgb(115,115,115)\"/><circle cx=\"303\" cy=\"307\" r=\"9\" fill=\"rgb(85,85,85)\"/></svg><svg id=\"svg\" width=\"430\" height=\"430\"><circle cx=\"215\" cy=\"215\" r=\"205\" fill=\"none\" stroke=\"black\" stroke-width=\"2\" stroke-dasharray=\"3,3\"/> <circle cx=\"199\" cy=\"227\" r=\"9\" fill=\"rgb(255,122,122)\" class=\"agent_1_5\"/><circle cx=\"208\" cy=\"177\" r=\"11\" fill=\"rgb(255,207,207)\" class=\"agent_1_24\"/><circle cx=\"277\" cy=\"157\" r=\"8\" fill=\"rgb(255,254,254)\" class=\"agent_1_35\"/><circle cx=\"156\" cy=\"118\" r=\"7\" fill=\"rgb(255,254,254)\" class=\"agent_1_39\"/><circle cx=\"306\" cy=\"100\" r=\"10\" fill=\"rgb(255,180,180)\" class=\"agent_1_40\"/><circle cx=\"83\" cy=\"255\" r=\"9\" fill=\"rgb(255,254,254)\" class=\"agent_1_58\"/><circle cx=\"303\" cy=\"307\" r=\"9\" fill=\"rgb(255,254,254)\" class=\"agent_1_80\"/></svg></div>"
      ],
      "text/plain": [
       "<IPython.core.display.HTML object>"
      ]
     },
     "metadata": {},
     "output_type": "display_data"
    },
    {
     "name": "stdout",
     "output_type": "stream",
     "text": [
      "t 4: grey: [3.8281861e-01 2.4697120e-01 2.0201428e-06 2.0019110e-05 3.1720200e-01\n",
      " 2.2501578e-04 5.2761130e-02]\n"
     ]
    },
    {
     "data": {
      "text/html": [
       "<div style=\"white-space: nowrap\"><svg width=\"430\" height=\"430\" id=\"agent_1\"><circle cx=\"215\" cy=\"215\" r=\"205\" fill=\"none\" stroke=\"black\" stroke-width=\"2\" stroke-dasharray=\"3,3\"/><circle cx=\"199\" cy=\"227\" r=\"9\" fill=\"rgb(75,75,75)\"/><circle cx=\"208\" cy=\"177\" r=\"11\" fill=\"rgb(97,97,97)\"/><circle cx=\"277\" cy=\"157\" r=\"8\" fill=\"rgb(149,149,149)\"/><circle cx=\"156\" cy=\"118\" r=\"7\" fill=\"rgb(139,139,139)\"/><circle cx=\"306\" cy=\"100\" r=\"10\" fill=\"rgb(76,76,76)\"/><circle cx=\"83\" cy=\"255\" r=\"9\" fill=\"rgb(115,115,115)\"/><circle cx=\"303\" cy=\"307\" r=\"9\" fill=\"rgb(85,85,85)\"/></svg><svg id=\"svg\" width=\"430\" height=\"430\"><circle cx=\"215\" cy=\"215\" r=\"205\" fill=\"none\" stroke=\"black\" stroke-width=\"2\" stroke-dasharray=\"3,3\"/> <circle cx=\"199\" cy=\"227\" r=\"9\" fill=\"rgb(255,157,157)\" class=\"agent_1_5\"/><circle cx=\"208\" cy=\"177\" r=\"11\" fill=\"rgb(255,192,192)\" class=\"agent_1_24\"/><circle cx=\"277\" cy=\"157\" r=\"8\" fill=\"rgb(255,254,254)\" class=\"agent_1_35\"/><circle cx=\"156\" cy=\"118\" r=\"7\" fill=\"rgb(255,254,254)\" class=\"agent_1_39\"/><circle cx=\"306\" cy=\"100\" r=\"10\" fill=\"rgb(255,174,174)\" class=\"agent_1_40\"/><circle cx=\"83\" cy=\"255\" r=\"9\" fill=\"rgb(255,254,254)\" class=\"agent_1_58\"/><circle cx=\"303\" cy=\"307\" r=\"9\" fill=\"rgb(255,241,241)\" class=\"agent_1_80\"/></svg></div>"
      ],
      "text/plain": [
       "<IPython.core.display.HTML object>"
      ]
     },
     "metadata": {},
     "output_type": "display_data"
    },
    {
     "name": "stdout",
     "output_type": "stream",
     "text": [
      "t 5: dot: [0.26634255 0.22995047 0.00457269 0.01110208 0.24762757 0.03565521\n",
      " 0.20474955]\n"
     ]
    },
    {
     "data": {
      "text/html": [
       "<div style=\"white-space: nowrap\"><svg width=\"430\" height=\"430\" id=\"agent_1\"><circle cx=\"215\" cy=\"215\" r=\"205\" fill=\"none\" stroke=\"black\" stroke-width=\"2\" stroke-dasharray=\"3,3\"/><circle cx=\"199\" cy=\"227\" r=\"9\" fill=\"rgb(75,75,75)\"/><circle cx=\"208\" cy=\"177\" r=\"11\" fill=\"rgb(97,97,97)\"/><circle cx=\"277\" cy=\"157\" r=\"8\" fill=\"rgb(149,149,149)\"/><circle cx=\"156\" cy=\"118\" r=\"7\" fill=\"rgb(139,139,139)\"/><circle cx=\"306\" cy=\"100\" r=\"10\" fill=\"rgb(76,76,76)\"/><circle cx=\"83\" cy=\"255\" r=\"9\" fill=\"rgb(115,115,115)\"/><circle cx=\"303\" cy=\"307\" r=\"9\" fill=\"rgb(85,85,85)\"/></svg><svg id=\"svg\" width=\"430\" height=\"430\"><circle cx=\"215\" cy=\"215\" r=\"205\" fill=\"none\" stroke=\"black\" stroke-width=\"2\" stroke-dasharray=\"3,3\"/> <circle cx=\"199\" cy=\"227\" r=\"9\" fill=\"rgb(255,187,187)\" class=\"agent_1_5\"/><circle cx=\"208\" cy=\"177\" r=\"11\" fill=\"rgb(255,196,196)\" class=\"agent_1_24\"/><circle cx=\"277\" cy=\"157\" r=\"8\" fill=\"rgb(255,253,253)\" class=\"agent_1_35\"/><circle cx=\"156\" cy=\"118\" r=\"7\" fill=\"rgb(255,252,252)\" class=\"agent_1_39\"/><circle cx=\"306\" cy=\"100\" r=\"10\" fill=\"rgb(255,191,191)\" class=\"agent_1_40\"/><circle cx=\"83\" cy=\"255\" r=\"9\" fill=\"rgb(255,245,245)\" class=\"agent_1_58\"/><circle cx=\"303\" cy=\"307\" r=\"9\" fill=\"rgb(255,202,202)\" class=\"agent_1_80\"/></svg></div>"
      ],
      "text/plain": [
       "<IPython.core.display.HTML object>"
      ]
     },
     "metadata": {},
     "output_type": "display_data"
    },
    {
     "name": "stdout",
     "output_type": "stream",
     "text": [
      "t 6: with: [0.15042233 0.15202759 0.13165762 0.13566357 0.15085086 0.13889478\n",
      " 0.14048322]\n"
     ]
    },
    {
     "data": {
      "text/html": [
       "<div style=\"white-space: nowrap\"><svg width=\"430\" height=\"430\" id=\"agent_1\"><circle cx=\"215\" cy=\"215\" r=\"205\" fill=\"none\" stroke=\"black\" stroke-width=\"2\" stroke-dasharray=\"3,3\"/><circle cx=\"199\" cy=\"227\" r=\"9\" fill=\"rgb(75,75,75)\"/><circle cx=\"208\" cy=\"177\" r=\"11\" fill=\"rgb(97,97,97)\"/><circle cx=\"277\" cy=\"157\" r=\"8\" fill=\"rgb(149,149,149)\"/><circle cx=\"156\" cy=\"118\" r=\"7\" fill=\"rgb(139,139,139)\"/><circle cx=\"306\" cy=\"100\" r=\"10\" fill=\"rgb(76,76,76)\"/><circle cx=\"83\" cy=\"255\" r=\"9\" fill=\"rgb(115,115,115)\"/><circle cx=\"303\" cy=\"307\" r=\"9\" fill=\"rgb(85,85,85)\"/></svg><svg id=\"svg\" width=\"430\" height=\"430\"><circle cx=\"215\" cy=\"215\" r=\"205\" fill=\"none\" stroke=\"black\" stroke-width=\"2\" stroke-dasharray=\"3,3\"/> <circle cx=\"199\" cy=\"227\" r=\"9\" fill=\"rgb(255,216,216)\" class=\"agent_1_5\"/><circle cx=\"208\" cy=\"177\" r=\"11\" fill=\"rgb(255,216,216)\" class=\"agent_1_24\"/><circle cx=\"277\" cy=\"157\" r=\"8\" fill=\"rgb(255,221,221)\" class=\"agent_1_35\"/><circle cx=\"156\" cy=\"118\" r=\"7\" fill=\"rgb(255,220,220)\" class=\"agent_1_39\"/><circle cx=\"306\" cy=\"100\" r=\"10\" fill=\"rgb(255,216,216)\" class=\"agent_1_40\"/><circle cx=\"83\" cy=\"255\" r=\"9\" fill=\"rgb(255,219,219)\" class=\"agent_1_58\"/><circle cx=\"303\" cy=\"307\" r=\"9\" fill=\"rgb(255,219,219)\" class=\"agent_1_80\"/></svg></div>"
      ],
      "text/plain": [
       "<IPython.core.display.HTML object>"
      ]
     },
     "metadata": {},
     "output_type": "display_data"
    },
    {
     "name": "stdout",
     "output_type": "stream",
     "text": [
      "t 7: a: [0.13155489 0.14399366 0.15428239 0.14358535 0.12476624 0.17324814\n",
      " 0.12856929]\n"
     ]
    },
    {
     "data": {
      "text/html": [
       "<div style=\"white-space: nowrap\"><svg width=\"430\" height=\"430\" id=\"agent_1\"><circle cx=\"215\" cy=\"215\" r=\"205\" fill=\"none\" stroke=\"black\" stroke-width=\"2\" stroke-dasharray=\"3,3\"/><circle cx=\"199\" cy=\"227\" r=\"9\" fill=\"rgb(75,75,75)\"/><circle cx=\"208\" cy=\"177\" r=\"11\" fill=\"rgb(97,97,97)\"/><circle cx=\"277\" cy=\"157\" r=\"8\" fill=\"rgb(149,149,149)\"/><circle cx=\"156\" cy=\"118\" r=\"7\" fill=\"rgb(139,139,139)\"/><circle cx=\"306\" cy=\"100\" r=\"10\" fill=\"rgb(76,76,76)\"/><circle cx=\"83\" cy=\"255\" r=\"9\" fill=\"rgb(115,115,115)\"/><circle cx=\"303\" cy=\"307\" r=\"9\" fill=\"rgb(85,85,85)\"/></svg><svg id=\"svg\" width=\"430\" height=\"430\"><circle cx=\"215\" cy=\"215\" r=\"205\" fill=\"none\" stroke=\"black\" stroke-width=\"2\" stroke-dasharray=\"3,3\"/> <circle cx=\"199\" cy=\"227\" r=\"9\" fill=\"rgb(255,221,221)\" class=\"agent_1_5\"/><circle cx=\"208\" cy=\"177\" r=\"11\" fill=\"rgb(255,218,218)\" class=\"agent_1_24\"/><circle cx=\"277\" cy=\"157\" r=\"8\" fill=\"rgb(255,215,215)\" class=\"agent_1_35\"/><circle cx=\"156\" cy=\"118\" r=\"7\" fill=\"rgb(255,218,218)\" class=\"agent_1_39\"/><circle cx=\"306\" cy=\"100\" r=\"10\" fill=\"rgb(255,223,223)\" class=\"agent_1_40\"/><circle cx=\"83\" cy=\"255\" r=\"9\" fill=\"rgb(255,210,210)\" class=\"agent_1_58\"/><circle cx=\"303\" cy=\"307\" r=\"9\" fill=\"rgb(255,222,222)\" class=\"agent_1_80\"/></svg></div>"
      ],
      "text/plain": [
       "<IPython.core.display.HTML object>"
      ]
     },
     "metadata": {},
     "output_type": "display_data"
    },
    {
     "name": "stdout",
     "output_type": "stream",
     "text": [
      "t 8: slightly: [0.17643826 0.19940226 0.08139698 0.07935833 0.18104666 0.1112696\n",
      " 0.17108795]\n"
     ]
    },
    {
     "data": {
      "text/html": [
       "<div style=\"white-space: nowrap\"><svg width=\"430\" height=\"430\" id=\"agent_1\"><circle cx=\"215\" cy=\"215\" r=\"205\" fill=\"none\" stroke=\"black\" stroke-width=\"2\" stroke-dasharray=\"3,3\"/><circle cx=\"199\" cy=\"227\" r=\"9\" fill=\"rgb(75,75,75)\"/><circle cx=\"208\" cy=\"177\" r=\"11\" fill=\"rgb(97,97,97)\"/><circle cx=\"277\" cy=\"157\" r=\"8\" fill=\"rgb(149,149,149)\"/><circle cx=\"156\" cy=\"118\" r=\"7\" fill=\"rgb(139,139,139)\"/><circle cx=\"306\" cy=\"100\" r=\"10\" fill=\"rgb(76,76,76)\"/><circle cx=\"83\" cy=\"255\" r=\"9\" fill=\"rgb(115,115,115)\"/><circle cx=\"303\" cy=\"307\" r=\"9\" fill=\"rgb(85,85,85)\"/></svg><svg id=\"svg\" width=\"430\" height=\"430\"><circle cx=\"215\" cy=\"215\" r=\"205\" fill=\"none\" stroke=\"black\" stroke-width=\"2\" stroke-dasharray=\"3,3\"/> <circle cx=\"199\" cy=\"227\" r=\"9\" fill=\"rgb(255,210,210)\" class=\"agent_1_5\"/><circle cx=\"208\" cy=\"177\" r=\"11\" fill=\"rgb(255,204,204)\" class=\"agent_1_24\"/><circle cx=\"277\" cy=\"157\" r=\"8\" fill=\"rgb(255,234,234)\" class=\"agent_1_35\"/><circle cx=\"156\" cy=\"118\" r=\"7\" fill=\"rgb(255,234,234)\" class=\"agent_1_39\"/><circle cx=\"306\" cy=\"100\" r=\"10\" fill=\"rgb(255,208,208)\" class=\"agent_1_40\"/><circle cx=\"83\" cy=\"255\" r=\"9\" fill=\"rgb(255,226,226)\" class=\"agent_1_58\"/><circle cx=\"303\" cy=\"307\" r=\"9\" fill=\"rgb(255,211,211)\" class=\"agent_1_80\"/></svg></div>"
      ],
      "text/plain": [
       "<IPython.core.display.HTML object>"
      ]
     },
     "metadata": {},
     "output_type": "display_data"
    },
    {
     "name": "stdout",
     "output_type": "stream",
     "text": [
      "t 9: smaller: [0.22218719 0.23239951 0.05711503 0.04791414 0.21526921 0.0977999\n",
      " 0.12731494]\n"
     ]
    },
    {
     "data": {
      "text/html": [
       "<div style=\"white-space: nowrap\"><svg width=\"430\" height=\"430\" id=\"agent_1\"><circle cx=\"215\" cy=\"215\" r=\"205\" fill=\"none\" stroke=\"black\" stroke-width=\"2\" stroke-dasharray=\"3,3\"/><circle cx=\"199\" cy=\"227\" r=\"9\" fill=\"rgb(75,75,75)\"/><circle cx=\"208\" cy=\"177\" r=\"11\" fill=\"rgb(97,97,97)\"/><circle cx=\"277\" cy=\"157\" r=\"8\" fill=\"rgb(149,149,149)\"/><circle cx=\"156\" cy=\"118\" r=\"7\" fill=\"rgb(139,139,139)\"/><circle cx=\"306\" cy=\"100\" r=\"10\" fill=\"rgb(76,76,76)\"/><circle cx=\"83\" cy=\"255\" r=\"9\" fill=\"rgb(115,115,115)\"/><circle cx=\"303\" cy=\"307\" r=\"9\" fill=\"rgb(85,85,85)\"/></svg><svg id=\"svg\" width=\"430\" height=\"430\"><circle cx=\"215\" cy=\"215\" r=\"205\" fill=\"none\" stroke=\"black\" stroke-width=\"2\" stroke-dasharray=\"3,3\"/> <circle cx=\"199\" cy=\"227\" r=\"9\" fill=\"rgb(255,198,198)\" class=\"agent_1_5\"/><circle cx=\"208\" cy=\"177\" r=\"11\" fill=\"rgb(255,195,195)\" class=\"agent_1_24\"/><circle cx=\"277\" cy=\"157\" r=\"8\" fill=\"rgb(255,240,240)\" class=\"agent_1_35\"/><circle cx=\"156\" cy=\"118\" r=\"7\" fill=\"rgb(255,242,242)\" class=\"agent_1_39\"/><circle cx=\"306\" cy=\"100\" r=\"10\" fill=\"rgb(255,200,200)\" class=\"agent_1_40\"/><circle cx=\"83\" cy=\"255\" r=\"9\" fill=\"rgb(255,230,230)\" class=\"agent_1_58\"/><circle cx=\"303\" cy=\"307\" r=\"9\" fill=\"rgb(255,222,222)\" class=\"agent_1_80\"/></svg></div>"
      ],
      "text/plain": [
       "<IPython.core.display.HTML object>"
      ]
     },
     "metadata": {},
     "output_type": "display_data"
    },
    {
     "name": "stdout",
     "output_type": "stream",
     "text": [
      "t 10: darker: [0.2546831  0.22651021 0.04831715 0.04605932 0.21273905 0.07323209\n",
      " 0.13845897]\n"
     ]
    },
    {
     "data": {
      "text/html": [
       "<div style=\"white-space: nowrap\"><svg width=\"430\" height=\"430\" id=\"agent_1\"><circle cx=\"215\" cy=\"215\" r=\"205\" fill=\"none\" stroke=\"black\" stroke-width=\"2\" stroke-dasharray=\"3,3\"/><circle cx=\"199\" cy=\"227\" r=\"9\" fill=\"rgb(75,75,75)\"/><circle cx=\"208\" cy=\"177\" r=\"11\" fill=\"rgb(97,97,97)\"/><circle cx=\"277\" cy=\"157\" r=\"8\" fill=\"rgb(149,149,149)\"/><circle cx=\"156\" cy=\"118\" r=\"7\" fill=\"rgb(139,139,139)\"/><circle cx=\"306\" cy=\"100\" r=\"10\" fill=\"rgb(76,76,76)\"/><circle cx=\"83\" cy=\"255\" r=\"9\" fill=\"rgb(115,115,115)\"/><circle cx=\"303\" cy=\"307\" r=\"9\" fill=\"rgb(85,85,85)\"/></svg><svg id=\"svg\" width=\"430\" height=\"430\"><circle cx=\"215\" cy=\"215\" r=\"205\" fill=\"none\" stroke=\"black\" stroke-width=\"2\" stroke-dasharray=\"3,3\"/> <circle cx=\"199\" cy=\"227\" r=\"9\" fill=\"rgb(255,190,190)\" class=\"agent_1_5\"/><circle cx=\"208\" cy=\"177\" r=\"11\" fill=\"rgb(255,197,197)\" class=\"agent_1_24\"/><circle cx=\"277\" cy=\"157\" r=\"8\" fill=\"rgb(255,242,242)\" class=\"agent_1_35\"/><circle cx=\"156\" cy=\"118\" r=\"7\" fill=\"rgb(255,243,243)\" class=\"agent_1_39\"/><circle cx=\"306\" cy=\"100\" r=\"10\" fill=\"rgb(255,200,200)\" class=\"agent_1_40\"/><circle cx=\"83\" cy=\"255\" r=\"9\" fill=\"rgb(255,236,236)\" class=\"agent_1_58\"/><circle cx=\"303\" cy=\"307\" r=\"9\" fill=\"rgb(255,219,219)\" class=\"agent_1_80\"/></svg></div>"
      ],
      "text/plain": [
       "<IPython.core.display.HTML object>"
      ]
     },
     "metadata": {},
     "output_type": "display_data"
    },
    {
     "name": "stdout",
     "output_type": "stream",
     "text": [
      "t 11: dot: [0.2540271  0.22927552 0.00827604 0.01770605 0.23293173 0.06237517\n",
      " 0.19540836]\n"
     ]
    },
    {
     "data": {
      "text/html": [
       "<div style=\"white-space: nowrap\"><svg width=\"430\" height=\"430\" id=\"agent_1\"><circle cx=\"215\" cy=\"215\" r=\"205\" fill=\"none\" stroke=\"black\" stroke-width=\"2\" stroke-dasharray=\"3,3\"/><circle cx=\"199\" cy=\"227\" r=\"9\" fill=\"rgb(75,75,75)\"/><circle cx=\"208\" cy=\"177\" r=\"11\" fill=\"rgb(97,97,97)\"/><circle cx=\"277\" cy=\"157\" r=\"8\" fill=\"rgb(149,149,149)\"/><circle cx=\"156\" cy=\"118\" r=\"7\" fill=\"rgb(139,139,139)\"/><circle cx=\"306\" cy=\"100\" r=\"10\" fill=\"rgb(76,76,76)\"/><circle cx=\"83\" cy=\"255\" r=\"9\" fill=\"rgb(115,115,115)\"/><circle cx=\"303\" cy=\"307\" r=\"9\" fill=\"rgb(85,85,85)\"/></svg><svg id=\"svg\" width=\"430\" height=\"430\"><circle cx=\"215\" cy=\"215\" r=\"205\" fill=\"none\" stroke=\"black\" stroke-width=\"2\" stroke-dasharray=\"3,3\"/> <circle cx=\"199\" cy=\"227\" r=\"9\" fill=\"rgb(255,190,190)\" class=\"agent_1_5\"/><circle cx=\"208\" cy=\"177\" r=\"11\" fill=\"rgb(255,196,196)\" class=\"agent_1_24\"/><circle cx=\"277\" cy=\"157\" r=\"8\" fill=\"rgb(255,252,252)\" class=\"agent_1_35\"/><circle cx=\"156\" cy=\"118\" r=\"7\" fill=\"rgb(255,250,250)\" class=\"agent_1_39\"/><circle cx=\"306\" cy=\"100\" r=\"10\" fill=\"rgb(255,195,195)\" class=\"agent_1_40\"/><circle cx=\"83\" cy=\"255\" r=\"9\" fill=\"rgb(255,239,239)\" class=\"agent_1_58\"/><circle cx=\"303\" cy=\"307\" r=\"9\" fill=\"rgb(255,205,205)\" class=\"agent_1_80\"/></svg></div>"
      ],
      "text/plain": [
       "<IPython.core.display.HTML object>"
      ]
     },
     "metadata": {},
     "output_type": "display_data"
    },
    {
     "name": "stdout",
     "output_type": "stream",
     "text": [
      "t 12: below: [0.19152944 0.18768804 0.08030787 0.09056109 0.17260572 0.11159395\n",
      " 0.16571392]\n"
     ]
    },
    {
     "data": {
      "text/html": [
       "<div style=\"white-space: nowrap\"><svg width=\"430\" height=\"430\" id=\"agent_1\"><circle cx=\"215\" cy=\"215\" r=\"205\" fill=\"none\" stroke=\"black\" stroke-width=\"2\" stroke-dasharray=\"3,3\"/><circle cx=\"199\" cy=\"227\" r=\"9\" fill=\"rgb(75,75,75)\"/><circle cx=\"208\" cy=\"177\" r=\"11\" fill=\"rgb(97,97,97)\"/><circle cx=\"277\" cy=\"157\" r=\"8\" fill=\"rgb(149,149,149)\"/><circle cx=\"156\" cy=\"118\" r=\"7\" fill=\"rgb(139,139,139)\"/><circle cx=\"306\" cy=\"100\" r=\"10\" fill=\"rgb(76,76,76)\"/><circle cx=\"83\" cy=\"255\" r=\"9\" fill=\"rgb(115,115,115)\"/><circle cx=\"303\" cy=\"307\" r=\"9\" fill=\"rgb(85,85,85)\"/></svg><svg id=\"svg\" width=\"430\" height=\"430\"><circle cx=\"215\" cy=\"215\" r=\"205\" fill=\"none\" stroke=\"black\" stroke-width=\"2\" stroke-dasharray=\"3,3\"/> <circle cx=\"199\" cy=\"227\" r=\"9\" fill=\"rgb(255,206,206)\" class=\"agent_1_5\"/><circle cx=\"208\" cy=\"177\" r=\"11\" fill=\"rgb(255,207,207)\" class=\"agent_1_24\"/><circle cx=\"277\" cy=\"157\" r=\"8\" fill=\"rgb(255,234,234)\" class=\"agent_1_35\"/><circle cx=\"156\" cy=\"118\" r=\"7\" fill=\"rgb(255,231,231)\" class=\"agent_1_39\"/><circle cx=\"306\" cy=\"100\" r=\"10\" fill=\"rgb(255,210,210)\" class=\"agent_1_40\"/><circle cx=\"83\" cy=\"255\" r=\"9\" fill=\"rgb(255,226,226)\" class=\"agent_1_58\"/><circle cx=\"303\" cy=\"307\" r=\"9\" fill=\"rgb(255,212,212)\" class=\"agent_1_80\"/></svg></div>"
      ],
      "text/plain": [
       "<IPython.core.display.HTML object>"
      ]
     },
     "metadata": {},
     "output_type": "display_data"
    },
    {
     "name": "stdout",
     "output_type": "stream",
     "text": [
      "t 13: it: [0.04395326 0.06244982 0.32839826 0.24586199 0.04189042 0.18906437\n",
      " 0.08838185]\n"
     ]
    },
    {
     "data": {
      "text/html": [
       "<div style=\"white-space: nowrap\"><svg width=\"430\" height=\"430\" id=\"agent_1\"><circle cx=\"215\" cy=\"215\" r=\"205\" fill=\"none\" stroke=\"black\" stroke-width=\"2\" stroke-dasharray=\"3,3\"/><circle cx=\"199\" cy=\"227\" r=\"9\" fill=\"rgb(75,75,75)\"/><circle cx=\"208\" cy=\"177\" r=\"11\" fill=\"rgb(97,97,97)\"/><circle cx=\"277\" cy=\"157\" r=\"8\" fill=\"rgb(149,149,149)\"/><circle cx=\"156\" cy=\"118\" r=\"7\" fill=\"rgb(139,139,139)\"/><circle cx=\"306\" cy=\"100\" r=\"10\" fill=\"rgb(76,76,76)\"/><circle cx=\"83\" cy=\"255\" r=\"9\" fill=\"rgb(115,115,115)\"/><circle cx=\"303\" cy=\"307\" r=\"9\" fill=\"rgb(85,85,85)\"/></svg><svg id=\"svg\" width=\"430\" height=\"430\"><circle cx=\"215\" cy=\"215\" r=\"205\" fill=\"none\" stroke=\"black\" stroke-width=\"2\" stroke-dasharray=\"3,3\"/> <circle cx=\"199\" cy=\"227\" r=\"9\" fill=\"rgb(255,243,243)\" class=\"agent_1_5\"/><circle cx=\"208\" cy=\"177\" r=\"11\" fill=\"rgb(255,239,239)\" class=\"agent_1_24\"/><circle cx=\"277\" cy=\"157\" r=\"8\" fill=\"rgb(255,171,171)\" class=\"agent_1_35\"/><circle cx=\"156\" cy=\"118\" r=\"7\" fill=\"rgb(255,192,192)\" class=\"agent_1_39\"/><circle cx=\"306\" cy=\"100\" r=\"10\" fill=\"rgb(255,244,244)\" class=\"agent_1_40\"/><circle cx=\"83\" cy=\"255\" r=\"9\" fill=\"rgb(255,206,206)\" class=\"agent_1_58\"/><circle cx=\"303\" cy=\"307\" r=\"9\" fill=\"rgb(255,232,232)\" class=\"agent_1_80\"/></svg></div>"
      ],
      "text/plain": [
       "<IPython.core.display.HTML object>"
      ]
     },
     "metadata": {},
     "output_type": "display_data"
    },
    {
     "name": "stdout",
     "output_type": "stream",
     "text": [
      "t 14: <eos>: [0.09293193 0.11820285 0.21237265 0.1775002  0.08401261 0.19092573\n",
      " 0.12405404]\n"
     ]
    },
    {
     "data": {
      "text/html": [
       "<div style=\"white-space: nowrap\"><svg width=\"430\" height=\"430\" id=\"agent_1\"><circle cx=\"215\" cy=\"215\" r=\"205\" fill=\"none\" stroke=\"black\" stroke-width=\"2\" stroke-dasharray=\"3,3\"/><circle cx=\"199\" cy=\"227\" r=\"9\" fill=\"rgb(75,75,75)\"/><circle cx=\"208\" cy=\"177\" r=\"11\" fill=\"rgb(97,97,97)\"/><circle cx=\"277\" cy=\"157\" r=\"8\" fill=\"rgb(149,149,149)\"/><circle cx=\"156\" cy=\"118\" r=\"7\" fill=\"rgb(139,139,139)\"/><circle cx=\"306\" cy=\"100\" r=\"10\" fill=\"rgb(76,76,76)\"/><circle cx=\"83\" cy=\"255\" r=\"9\" fill=\"rgb(115,115,115)\"/><circle cx=\"303\" cy=\"307\" r=\"9\" fill=\"rgb(85,85,85)\"/></svg><svg id=\"svg\" width=\"430\" height=\"430\"><circle cx=\"215\" cy=\"215\" r=\"205\" fill=\"none\" stroke=\"black\" stroke-width=\"2\" stroke-dasharray=\"3,3\"/> <circle cx=\"199\" cy=\"227\" r=\"9\" fill=\"rgb(255,231,231)\" class=\"agent_1_5\"/><circle cx=\"208\" cy=\"177\" r=\"11\" fill=\"rgb(255,224,224)\" class=\"agent_1_24\"/><circle cx=\"277\" cy=\"157\" r=\"8\" fill=\"rgb(255,200,200)\" class=\"agent_1_35\"/><circle cx=\"156\" cy=\"118\" r=\"7\" fill=\"rgb(255,209,209)\" class=\"agent_1_39\"/><circle cx=\"306\" cy=\"100\" r=\"10\" fill=\"rgb(255,233,233)\" class=\"agent_1_40\"/><circle cx=\"83\" cy=\"255\" r=\"9\" fill=\"rgb(255,206,206)\" class=\"agent_1_58\"/><circle cx=\"303\" cy=\"307\" r=\"9\" fill=\"rgb(255,223,223)\" class=\"agent_1_80\"/></svg></div>"
      ],
      "text/plain": [
       "<IPython.core.display.HTML object>"
      ]
     },
     "metadata": {},
     "output_type": "display_data"
    },
    {
     "name": "stdout",
     "output_type": "stream",
     "text": [
      "1\ti see a dark grey dot with a slightly smaller darker dot below it <eos>\n",
      "\n",
      "THEM: i think i have that too . above the larger one and to its left i have a much smaller medium gray dot <eos>\n",
      "feed attention: [0.20882086 0.28936547 0.19001444 0.10356343 0.12898628 0.02772068\n",
      " 0.05152868]\n"
     ]
    },
    {
     "data": {
      "text/html": [
       "<div style=\"white-space: nowrap\"><svg width=\"430\" height=\"430\" id=\"agent_1\"><circle cx=\"215\" cy=\"215\" r=\"205\" fill=\"none\" stroke=\"black\" stroke-width=\"2\" stroke-dasharray=\"3,3\"/><circle cx=\"199\" cy=\"227\" r=\"9\" fill=\"rgb(75,75,75)\"/><circle cx=\"208\" cy=\"177\" r=\"11\" fill=\"rgb(97,97,97)\"/><circle cx=\"277\" cy=\"157\" r=\"8\" fill=\"rgb(149,149,149)\"/><circle cx=\"156\" cy=\"118\" r=\"7\" fill=\"rgb(139,139,139)\"/><circle cx=\"306\" cy=\"100\" r=\"10\" fill=\"rgb(76,76,76)\"/><circle cx=\"83\" cy=\"255\" r=\"9\" fill=\"rgb(115,115,115)\"/><circle cx=\"303\" cy=\"307\" r=\"9\" fill=\"rgb(85,85,85)\"/></svg><svg id=\"svg\" width=\"430\" height=\"430\"><circle cx=\"215\" cy=\"215\" r=\"205\" fill=\"none\" stroke=\"black\" stroke-width=\"2\" stroke-dasharray=\"3,3\"/> <circle cx=\"199\" cy=\"227\" r=\"9\" fill=\"rgb(255,201,201)\" class=\"agent_1_5\"/><circle cx=\"208\" cy=\"177\" r=\"11\" fill=\"rgb(255,181,181)\" class=\"agent_1_24\"/><circle cx=\"277\" cy=\"157\" r=\"8\" fill=\"rgb(255,206,206)\" class=\"agent_1_35\"/><circle cx=\"156\" cy=\"118\" r=\"7\" fill=\"rgb(255,228,228)\" class=\"agent_1_39\"/><circle cx=\"306\" cy=\"100\" r=\"10\" fill=\"rgb(255,222,222)\" class=\"agent_1_40\"/><circle cx=\"83\" cy=\"255\" r=\"9\" fill=\"rgb(255,247,247)\" class=\"agent_1_58\"/><circle cx=\"303\" cy=\"307\" r=\"9\" fill=\"rgb(255,241,241)\" class=\"agent_1_80\"/></svg></div>"
      ],
      "text/plain": [
       "<IPython.core.display.HTML object>"
      ]
     },
     "metadata": {},
     "output_type": "display_data"
    },
    {
     "name": "stdout",
     "output_type": "stream",
     "text": [
      "word attention mean: [0.20837724 0.18568058 0.08360783 0.08329713 0.18953001 0.10838864\n",
      " 0.14111857]\n"
     ]
    },
    {
     "data": {
      "text/html": [
       "<div style=\"white-space: nowrap\"><svg width=\"430\" height=\"430\" id=\"agent_1\"><circle cx=\"215\" cy=\"215\" r=\"205\" fill=\"none\" stroke=\"black\" stroke-width=\"2\" stroke-dasharray=\"3,3\"/><circle cx=\"199\" cy=\"227\" r=\"9\" fill=\"rgb(75,75,75)\"/><circle cx=\"208\" cy=\"177\" r=\"11\" fill=\"rgb(97,97,97)\"/><circle cx=\"277\" cy=\"157\" r=\"8\" fill=\"rgb(149,149,149)\"/><circle cx=\"156\" cy=\"118\" r=\"7\" fill=\"rgb(139,139,139)\"/><circle cx=\"306\" cy=\"100\" r=\"10\" fill=\"rgb(76,76,76)\"/><circle cx=\"83\" cy=\"255\" r=\"9\" fill=\"rgb(115,115,115)\"/><circle cx=\"303\" cy=\"307\" r=\"9\" fill=\"rgb(85,85,85)\"/></svg><svg id=\"svg\" width=\"430\" height=\"430\"><circle cx=\"215\" cy=\"215\" r=\"205\" fill=\"none\" stroke=\"black\" stroke-width=\"2\" stroke-dasharray=\"3,3\"/> <circle cx=\"199\" cy=\"227\" r=\"9\" fill=\"rgb(255,201,201)\" class=\"agent_1_5\"/><circle cx=\"208\" cy=\"177\" r=\"11\" fill=\"rgb(255,207,207)\" class=\"agent_1_24\"/><circle cx=\"277\" cy=\"157\" r=\"8\" fill=\"rgb(255,233,233)\" class=\"agent_1_35\"/><circle cx=\"156\" cy=\"118\" r=\"7\" fill=\"rgb(255,233,233)\" class=\"agent_1_39\"/><circle cx=\"306\" cy=\"100\" r=\"10\" fill=\"rgb(255,206,206)\" class=\"agent_1_40\"/><circle cx=\"83\" cy=\"255\" r=\"9\" fill=\"rgb(255,227,227)\" class=\"agent_1_58\"/><circle cx=\"303\" cy=\"307\" r=\"9\" fill=\"rgb(255,219,219)\" class=\"agent_1_80\"/></svg></div>"
      ],
      "text/plain": [
       "<IPython.core.display.HTML object>"
      ]
     },
     "metadata": {},
     "output_type": "display_data"
    },
    {
     "name": "stdout",
     "output_type": "stream",
     "text": [
      "t 0: i: [0.16227382 0.17928195 0.09751303 0.0921655  0.15741609 0.14979298\n",
      " 0.16155665]\n"
     ]
    },
    {
     "data": {
      "text/html": [
       "<div style=\"white-space: nowrap\"><svg width=\"430\" height=\"430\" id=\"agent_1\"><circle cx=\"215\" cy=\"215\" r=\"205\" fill=\"none\" stroke=\"black\" stroke-width=\"2\" stroke-dasharray=\"3,3\"/><circle cx=\"199\" cy=\"227\" r=\"9\" fill=\"rgb(75,75,75)\"/><circle cx=\"208\" cy=\"177\" r=\"11\" fill=\"rgb(97,97,97)\"/><circle cx=\"277\" cy=\"157\" r=\"8\" fill=\"rgb(149,149,149)\"/><circle cx=\"156\" cy=\"118\" r=\"7\" fill=\"rgb(139,139,139)\"/><circle cx=\"306\" cy=\"100\" r=\"10\" fill=\"rgb(76,76,76)\"/><circle cx=\"83\" cy=\"255\" r=\"9\" fill=\"rgb(115,115,115)\"/><circle cx=\"303\" cy=\"307\" r=\"9\" fill=\"rgb(85,85,85)\"/></svg><svg id=\"svg\" width=\"430\" height=\"430\"><circle cx=\"215\" cy=\"215\" r=\"205\" fill=\"none\" stroke=\"black\" stroke-width=\"2\" stroke-dasharray=\"3,3\"/> <circle cx=\"199\" cy=\"227\" r=\"9\" fill=\"rgb(255,213,213)\" class=\"agent_1_5\"/><circle cx=\"208\" cy=\"177\" r=\"11\" fill=\"rgb(255,209,209)\" class=\"agent_1_24\"/><circle cx=\"277\" cy=\"157\" r=\"8\" fill=\"rgb(255,230,230)\" class=\"agent_1_35\"/><circle cx=\"156\" cy=\"118\" r=\"7\" fill=\"rgb(255,231,231)\" class=\"agent_1_39\"/><circle cx=\"306\" cy=\"100\" r=\"10\" fill=\"rgb(255,214,214)\" class=\"agent_1_40\"/><circle cx=\"83\" cy=\"255\" r=\"9\" fill=\"rgb(255,216,216)\" class=\"agent_1_58\"/><circle cx=\"303\" cy=\"307\" r=\"9\" fill=\"rgb(255,213,213)\" class=\"agent_1_80\"/></svg></div>"
      ],
      "text/plain": [
       "<IPython.core.display.HTML object>"
      ]
     },
     "metadata": {},
     "output_type": "display_data"
    },
    {
     "name": "stdout",
     "output_type": "stream",
     "text": [
      "t 1: think: [0.16637427 0.15970518 0.10711233 0.11540841 0.16350794 0.13477667\n",
      " 0.15311506]\n"
     ]
    },
    {
     "data": {
      "text/html": [
       "<div style=\"white-space: nowrap\"><svg width=\"430\" height=\"430\" id=\"agent_1\"><circle cx=\"215\" cy=\"215\" r=\"205\" fill=\"none\" stroke=\"black\" stroke-width=\"2\" stroke-dasharray=\"3,3\"/><circle cx=\"199\" cy=\"227\" r=\"9\" fill=\"rgb(75,75,75)\"/><circle cx=\"208\" cy=\"177\" r=\"11\" fill=\"rgb(97,97,97)\"/><circle cx=\"277\" cy=\"157\" r=\"8\" fill=\"rgb(149,149,149)\"/><circle cx=\"156\" cy=\"118\" r=\"7\" fill=\"rgb(139,139,139)\"/><circle cx=\"306\" cy=\"100\" r=\"10\" fill=\"rgb(76,76,76)\"/><circle cx=\"83\" cy=\"255\" r=\"9\" fill=\"rgb(115,115,115)\"/><circle cx=\"303\" cy=\"307\" r=\"9\" fill=\"rgb(85,85,85)\"/></svg><svg id=\"svg\" width=\"430\" height=\"430\"><circle cx=\"215\" cy=\"215\" r=\"205\" fill=\"none\" stroke=\"black\" stroke-width=\"2\" stroke-dasharray=\"3,3\"/> <circle cx=\"199\" cy=\"227\" r=\"9\" fill=\"rgb(255,212,212)\" class=\"agent_1_5\"/><circle cx=\"208\" cy=\"177\" r=\"11\" fill=\"rgb(255,214,214)\" class=\"agent_1_24\"/><circle cx=\"277\" cy=\"157\" r=\"8\" fill=\"rgb(255,227,227)\" class=\"agent_1_35\"/><circle cx=\"156\" cy=\"118\" r=\"7\" fill=\"rgb(255,225,225)\" class=\"agent_1_39\"/><circle cx=\"306\" cy=\"100\" r=\"10\" fill=\"rgb(255,213,213)\" class=\"agent_1_40\"/><circle cx=\"83\" cy=\"255\" r=\"9\" fill=\"rgb(255,220,220)\" class=\"agent_1_58\"/><circle cx=\"303\" cy=\"307\" r=\"9\" fill=\"rgb(255,215,215)\" class=\"agent_1_80\"/></svg></div>"
      ],
      "text/plain": [
       "<IPython.core.display.HTML object>"
      ]
     },
     "metadata": {},
     "output_type": "display_data"
    },
    {
     "name": "stdout",
     "output_type": "stream",
     "text": [
      "t 2: i: [0.1525539  0.16183767 0.12345918 0.12299042 0.15045705 0.14973263\n",
      " 0.13896914]\n"
     ]
    },
    {
     "data": {
      "text/html": [
       "<div style=\"white-space: nowrap\"><svg width=\"430\" height=\"430\" id=\"agent_1\"><circle cx=\"215\" cy=\"215\" r=\"205\" fill=\"none\" stroke=\"black\" stroke-width=\"2\" stroke-dasharray=\"3,3\"/><circle cx=\"199\" cy=\"227\" r=\"9\" fill=\"rgb(75,75,75)\"/><circle cx=\"208\" cy=\"177\" r=\"11\" fill=\"rgb(97,97,97)\"/><circle cx=\"277\" cy=\"157\" r=\"8\" fill=\"rgb(149,149,149)\"/><circle cx=\"156\" cy=\"118\" r=\"7\" fill=\"rgb(139,139,139)\"/><circle cx=\"306\" cy=\"100\" r=\"10\" fill=\"rgb(76,76,76)\"/><circle cx=\"83\" cy=\"255\" r=\"9\" fill=\"rgb(115,115,115)\"/><circle cx=\"303\" cy=\"307\" r=\"9\" fill=\"rgb(85,85,85)\"/></svg><svg id=\"svg\" width=\"430\" height=\"430\"><circle cx=\"215\" cy=\"215\" r=\"205\" fill=\"none\" stroke=\"black\" stroke-width=\"2\" stroke-dasharray=\"3,3\"/> <circle cx=\"199\" cy=\"227\" r=\"9\" fill=\"rgb(255,216,216)\" class=\"agent_1_5\"/><circle cx=\"208\" cy=\"177\" r=\"11\" fill=\"rgb(255,213,213)\" class=\"agent_1_24\"/><circle cx=\"277\" cy=\"157\" r=\"8\" fill=\"rgb(255,223,223)\" class=\"agent_1_35\"/><circle cx=\"156\" cy=\"118\" r=\"7\" fill=\"rgb(255,223,223)\" class=\"agent_1_39\"/><circle cx=\"306\" cy=\"100\" r=\"10\" fill=\"rgb(255,216,216)\" class=\"agent_1_40\"/><circle cx=\"83\" cy=\"255\" r=\"9\" fill=\"rgb(255,216,216)\" class=\"agent_1_58\"/><circle cx=\"303\" cy=\"307\" r=\"9\" fill=\"rgb(255,219,219)\" class=\"agent_1_80\"/></svg></div>"
      ],
      "text/plain": [
       "<IPython.core.display.HTML object>"
      ]
     },
     "metadata": {},
     "output_type": "display_data"
    },
    {
     "name": "stdout",
     "output_type": "stream",
     "text": [
      "t 3: have: [0.15970571 0.15604933 0.1134028  0.11932082 0.15745439 0.14325881\n",
      " 0.15080819]\n"
     ]
    },
    {
     "data": {
      "text/html": [
       "<div style=\"white-space: nowrap\"><svg width=\"430\" height=\"430\" id=\"agent_1\"><circle cx=\"215\" cy=\"215\" r=\"205\" fill=\"none\" stroke=\"black\" stroke-width=\"2\" stroke-dasharray=\"3,3\"/><circle cx=\"199\" cy=\"227\" r=\"9\" fill=\"rgb(75,75,75)\"/><circle cx=\"208\" cy=\"177\" r=\"11\" fill=\"rgb(97,97,97)\"/><circle cx=\"277\" cy=\"157\" r=\"8\" fill=\"rgb(149,149,149)\"/><circle cx=\"156\" cy=\"118\" r=\"7\" fill=\"rgb(139,139,139)\"/><circle cx=\"306\" cy=\"100\" r=\"10\" fill=\"rgb(76,76,76)\"/><circle cx=\"83\" cy=\"255\" r=\"9\" fill=\"rgb(115,115,115)\"/><circle cx=\"303\" cy=\"307\" r=\"9\" fill=\"rgb(85,85,85)\"/></svg><svg id=\"svg\" width=\"430\" height=\"430\"><circle cx=\"215\" cy=\"215\" r=\"205\" fill=\"none\" stroke=\"black\" stroke-width=\"2\" stroke-dasharray=\"3,3\"/> <circle cx=\"199\" cy=\"227\" r=\"9\" fill=\"rgb(255,214,214)\" class=\"agent_1_5\"/><circle cx=\"208\" cy=\"177\" r=\"11\" fill=\"rgb(255,215,215)\" class=\"agent_1_24\"/><circle cx=\"277\" cy=\"157\" r=\"8\" fill=\"rgb(255,226,226)\" class=\"agent_1_35\"/><circle cx=\"156\" cy=\"118\" r=\"7\" fill=\"rgb(255,224,224)\" class=\"agent_1_39\"/><circle cx=\"306\" cy=\"100\" r=\"10\" fill=\"rgb(255,214,214)\" class=\"agent_1_40\"/><circle cx=\"83\" cy=\"255\" r=\"9\" fill=\"rgb(255,218,218)\" class=\"agent_1_58\"/><circle cx=\"303\" cy=\"307\" r=\"9\" fill=\"rgb(255,216,216)\" class=\"agent_1_80\"/></svg></div>"
      ],
      "text/plain": [
       "<IPython.core.display.HTML object>"
      ]
     },
     "metadata": {},
     "output_type": "display_data"
    },
    {
     "name": "stdout",
     "output_type": "stream",
     "text": [
      "t 4: that: [0.11457283 0.1404844  0.17598666 0.16586734 0.11279084 0.16644968\n",
      " 0.12384829]\n"
     ]
    },
    {
     "data": {
      "text/html": [
       "<div style=\"white-space: nowrap\"><svg width=\"430\" height=\"430\" id=\"agent_1\"><circle cx=\"215\" cy=\"215\" r=\"205\" fill=\"none\" stroke=\"black\" stroke-width=\"2\" stroke-dasharray=\"3,3\"/><circle cx=\"199\" cy=\"227\" r=\"9\" fill=\"rgb(75,75,75)\"/><circle cx=\"208\" cy=\"177\" r=\"11\" fill=\"rgb(97,97,97)\"/><circle cx=\"277\" cy=\"157\" r=\"8\" fill=\"rgb(149,149,149)\"/><circle cx=\"156\" cy=\"118\" r=\"7\" fill=\"rgb(139,139,139)\"/><circle cx=\"306\" cy=\"100\" r=\"10\" fill=\"rgb(76,76,76)\"/><circle cx=\"83\" cy=\"255\" r=\"9\" fill=\"rgb(115,115,115)\"/><circle cx=\"303\" cy=\"307\" r=\"9\" fill=\"rgb(85,85,85)\"/></svg><svg id=\"svg\" width=\"430\" height=\"430\"><circle cx=\"215\" cy=\"215\" r=\"205\" fill=\"none\" stroke=\"black\" stroke-width=\"2\" stroke-dasharray=\"3,3\"/> <circle cx=\"199\" cy=\"227\" r=\"9\" fill=\"rgb(255,225,225)\" class=\"agent_1_5\"/><circle cx=\"208\" cy=\"177\" r=\"11\" fill=\"rgb(255,219,219)\" class=\"agent_1_24\"/><circle cx=\"277\" cy=\"157\" r=\"8\" fill=\"rgb(255,210,210)\" class=\"agent_1_35\"/><circle cx=\"156\" cy=\"118\" r=\"7\" fill=\"rgb(255,212,212)\" class=\"agent_1_39\"/><circle cx=\"306\" cy=\"100\" r=\"10\" fill=\"rgb(255,226,226)\" class=\"agent_1_40\"/><circle cx=\"83\" cy=\"255\" r=\"9\" fill=\"rgb(255,212,212)\" class=\"agent_1_58\"/><circle cx=\"303\" cy=\"307\" r=\"9\" fill=\"rgb(255,223,223)\" class=\"agent_1_80\"/></svg></div>"
      ],
      "text/plain": [
       "<IPython.core.display.HTML object>"
      ]
     },
     "metadata": {},
     "output_type": "display_data"
    },
    {
     "name": "stdout",
     "output_type": "stream",
     "text": [
      "t 5: too: [0.13785265 0.15752076 0.14498281 0.13769451 0.1370734  0.15225403\n",
      " 0.13262182]\n"
     ]
    },
    {
     "data": {
      "text/html": [
       "<div style=\"white-space: nowrap\"><svg width=\"430\" height=\"430\" id=\"agent_1\"><circle cx=\"215\" cy=\"215\" r=\"205\" fill=\"none\" stroke=\"black\" stroke-width=\"2\" stroke-dasharray=\"3,3\"/><circle cx=\"199\" cy=\"227\" r=\"9\" fill=\"rgb(75,75,75)\"/><circle cx=\"208\" cy=\"177\" r=\"11\" fill=\"rgb(97,97,97)\"/><circle cx=\"277\" cy=\"157\" r=\"8\" fill=\"rgb(149,149,149)\"/><circle cx=\"156\" cy=\"118\" r=\"7\" fill=\"rgb(139,139,139)\"/><circle cx=\"306\" cy=\"100\" r=\"10\" fill=\"rgb(76,76,76)\"/><circle cx=\"83\" cy=\"255\" r=\"9\" fill=\"rgb(115,115,115)\"/><circle cx=\"303\" cy=\"307\" r=\"9\" fill=\"rgb(85,85,85)\"/></svg><svg id=\"svg\" width=\"430\" height=\"430\"><circle cx=\"215\" cy=\"215\" r=\"205\" fill=\"none\" stroke=\"black\" stroke-width=\"2\" stroke-dasharray=\"3,3\"/> <circle cx=\"199\" cy=\"227\" r=\"9\" fill=\"rgb(255,219,219)\" class=\"agent_1_5\"/><circle cx=\"208\" cy=\"177\" r=\"11\" fill=\"rgb(255,214,214)\" class=\"agent_1_24\"/><circle cx=\"277\" cy=\"157\" r=\"8\" fill=\"rgb(255,218,218)\" class=\"agent_1_35\"/><circle cx=\"156\" cy=\"118\" r=\"7\" fill=\"rgb(255,219,219)\" class=\"agent_1_39\"/><circle cx=\"306\" cy=\"100\" r=\"10\" fill=\"rgb(255,220,220)\" class=\"agent_1_40\"/><circle cx=\"83\" cy=\"255\" r=\"9\" fill=\"rgb(255,216,216)\" class=\"agent_1_58\"/><circle cx=\"303\" cy=\"307\" r=\"9\" fill=\"rgb(255,221,221)\" class=\"agent_1_80\"/></svg></div>"
      ],
      "text/plain": [
       "<IPython.core.display.HTML object>"
      ]
     },
     "metadata": {},
     "output_type": "display_data"
    },
    {
     "name": "stdout",
     "output_type": "stream",
     "text": [
      "t 6: .: [0.15502739 0.16337928 0.119261   0.12080707 0.15218464 0.14459188\n",
      " 0.14474872]\n"
     ]
    },
    {
     "data": {
      "text/html": [
       "<div style=\"white-space: nowrap\"><svg width=\"430\" height=\"430\" id=\"agent_1\"><circle cx=\"215\" cy=\"215\" r=\"205\" fill=\"none\" stroke=\"black\" stroke-width=\"2\" stroke-dasharray=\"3,3\"/><circle cx=\"199\" cy=\"227\" r=\"9\" fill=\"rgb(75,75,75)\"/><circle cx=\"208\" cy=\"177\" r=\"11\" fill=\"rgb(97,97,97)\"/><circle cx=\"277\" cy=\"157\" r=\"8\" fill=\"rgb(149,149,149)\"/><circle cx=\"156\" cy=\"118\" r=\"7\" fill=\"rgb(139,139,139)\"/><circle cx=\"306\" cy=\"100\" r=\"10\" fill=\"rgb(76,76,76)\"/><circle cx=\"83\" cy=\"255\" r=\"9\" fill=\"rgb(115,115,115)\"/><circle cx=\"303\" cy=\"307\" r=\"9\" fill=\"rgb(85,85,85)\"/></svg><svg id=\"svg\" width=\"430\" height=\"430\"><circle cx=\"215\" cy=\"215\" r=\"205\" fill=\"none\" stroke=\"black\" stroke-width=\"2\" stroke-dasharray=\"3,3\"/> <circle cx=\"199\" cy=\"227\" r=\"9\" fill=\"rgb(255,215,215)\" class=\"agent_1_5\"/><circle cx=\"208\" cy=\"177\" r=\"11\" fill=\"rgb(255,213,213)\" class=\"agent_1_24\"/><circle cx=\"277\" cy=\"157\" r=\"8\" fill=\"rgb(255,224,224)\" class=\"agent_1_35\"/><circle cx=\"156\" cy=\"118\" r=\"7\" fill=\"rgb(255,224,224)\" class=\"agent_1_39\"/><circle cx=\"306\" cy=\"100\" r=\"10\" fill=\"rgb(255,216,216)\" class=\"agent_1_40\"/><circle cx=\"83\" cy=\"255\" r=\"9\" fill=\"rgb(255,218,218)\" class=\"agent_1_58\"/><circle cx=\"303\" cy=\"307\" r=\"9\" fill=\"rgb(255,218,218)\" class=\"agent_1_80\"/></svg></div>"
      ],
      "text/plain": [
       "<IPython.core.display.HTML object>"
      ]
     },
     "metadata": {},
     "output_type": "display_data"
    },
    {
     "name": "stdout",
     "output_type": "stream",
     "text": [
      "t 7: above: [0.15455504 0.17272489 0.11944111 0.10947867 0.14538768 0.15365393\n",
      " 0.1447587 ]\n"
     ]
    },
    {
     "data": {
      "text/html": [
       "<div style=\"white-space: nowrap\"><svg width=\"430\" height=\"430\" id=\"agent_1\"><circle cx=\"215\" cy=\"215\" r=\"205\" fill=\"none\" stroke=\"black\" stroke-width=\"2\" stroke-dasharray=\"3,3\"/><circle cx=\"199\" cy=\"227\" r=\"9\" fill=\"rgb(75,75,75)\"/><circle cx=\"208\" cy=\"177\" r=\"11\" fill=\"rgb(97,97,97)\"/><circle cx=\"277\" cy=\"157\" r=\"8\" fill=\"rgb(149,149,149)\"/><circle cx=\"156\" cy=\"118\" r=\"7\" fill=\"rgb(139,139,139)\"/><circle cx=\"306\" cy=\"100\" r=\"10\" fill=\"rgb(76,76,76)\"/><circle cx=\"83\" cy=\"255\" r=\"9\" fill=\"rgb(115,115,115)\"/><circle cx=\"303\" cy=\"307\" r=\"9\" fill=\"rgb(85,85,85)\"/></svg><svg id=\"svg\" width=\"430\" height=\"430\"><circle cx=\"215\" cy=\"215\" r=\"205\" fill=\"none\" stroke=\"black\" stroke-width=\"2\" stroke-dasharray=\"3,3\"/> <circle cx=\"199\" cy=\"227\" r=\"9\" fill=\"rgb(255,215,215)\" class=\"agent_1_5\"/><circle cx=\"208\" cy=\"177\" r=\"11\" fill=\"rgb(255,210,210)\" class=\"agent_1_24\"/><circle cx=\"277\" cy=\"157\" r=\"8\" fill=\"rgb(255,224,224)\" class=\"agent_1_35\"/><circle cx=\"156\" cy=\"118\" r=\"7\" fill=\"rgb(255,227,227)\" class=\"agent_1_39\"/><circle cx=\"306\" cy=\"100\" r=\"10\" fill=\"rgb(255,217,217)\" class=\"agent_1_40\"/><circle cx=\"83\" cy=\"255\" r=\"9\" fill=\"rgb(255,215,215)\" class=\"agent_1_58\"/><circle cx=\"303\" cy=\"307\" r=\"9\" fill=\"rgb(255,218,218)\" class=\"agent_1_80\"/></svg></div>"
      ],
      "text/plain": [
       "<IPython.core.display.HTML object>"
      ]
     },
     "metadata": {},
     "output_type": "display_data"
    },
    {
     "name": "stdout",
     "output_type": "stream",
     "text": [
      "t 8: the: [0.1533962  0.16417289 0.11356226 0.13047001 0.10965554 0.16106836\n",
      " 0.1676747 ]\n"
     ]
    },
    {
     "data": {
      "text/html": [
       "<div style=\"white-space: nowrap\"><svg width=\"430\" height=\"430\" id=\"agent_1\"><circle cx=\"215\" cy=\"215\" r=\"205\" fill=\"none\" stroke=\"black\" stroke-width=\"2\" stroke-dasharray=\"3,3\"/><circle cx=\"199\" cy=\"227\" r=\"9\" fill=\"rgb(75,75,75)\"/><circle cx=\"208\" cy=\"177\" r=\"11\" fill=\"rgb(97,97,97)\"/><circle cx=\"277\" cy=\"157\" r=\"8\" fill=\"rgb(149,149,149)\"/><circle cx=\"156\" cy=\"118\" r=\"7\" fill=\"rgb(139,139,139)\"/><circle cx=\"306\" cy=\"100\" r=\"10\" fill=\"rgb(76,76,76)\"/><circle cx=\"83\" cy=\"255\" r=\"9\" fill=\"rgb(115,115,115)\"/><circle cx=\"303\" cy=\"307\" r=\"9\" fill=\"rgb(85,85,85)\"/></svg><svg id=\"svg\" width=\"430\" height=\"430\"><circle cx=\"215\" cy=\"215\" r=\"205\" fill=\"none\" stroke=\"black\" stroke-width=\"2\" stroke-dasharray=\"3,3\"/> <circle cx=\"199\" cy=\"227\" r=\"9\" fill=\"rgb(255,215,215)\" class=\"agent_1_5\"/><circle cx=\"208\" cy=\"177\" r=\"11\" fill=\"rgb(255,213,213)\" class=\"agent_1_24\"/><circle cx=\"277\" cy=\"157\" r=\"8\" fill=\"rgb(255,226,226)\" class=\"agent_1_35\"/><circle cx=\"156\" cy=\"118\" r=\"7\" fill=\"rgb(255,221,221)\" class=\"agent_1_39\"/><circle cx=\"306\" cy=\"100\" r=\"10\" fill=\"rgb(255,227,227)\" class=\"agent_1_40\"/><circle cx=\"83\" cy=\"255\" r=\"9\" fill=\"rgb(255,213,213)\" class=\"agent_1_58\"/><circle cx=\"303\" cy=\"307\" r=\"9\" fill=\"rgb(255,212,212)\" class=\"agent_1_80\"/></svg></div>"
      ],
      "text/plain": [
       "<IPython.core.display.HTML object>"
      ]
     },
     "metadata": {},
     "output_type": "display_data"
    },
    {
     "name": "stdout",
     "output_type": "stream",
     "text": [
      "t 9: larger: [4.5740163e-01 1.6627009e-01 2.3261833e-05 8.4600826e-05 3.6799598e-01\n",
      " 2.1480957e-05 8.2029728e-03]\n"
     ]
    },
    {
     "data": {
      "text/html": [
       "<div style=\"white-space: nowrap\"><svg width=\"430\" height=\"430\" id=\"agent_1\"><circle cx=\"215\" cy=\"215\" r=\"205\" fill=\"none\" stroke=\"black\" stroke-width=\"2\" stroke-dasharray=\"3,3\"/><circle cx=\"199\" cy=\"227\" r=\"9\" fill=\"rgb(75,75,75)\"/><circle cx=\"208\" cy=\"177\" r=\"11\" fill=\"rgb(97,97,97)\"/><circle cx=\"277\" cy=\"157\" r=\"8\" fill=\"rgb(149,149,149)\"/><circle cx=\"156\" cy=\"118\" r=\"7\" fill=\"rgb(139,139,139)\"/><circle cx=\"306\" cy=\"100\" r=\"10\" fill=\"rgb(76,76,76)\"/><circle cx=\"83\" cy=\"255\" r=\"9\" fill=\"rgb(115,115,115)\"/><circle cx=\"303\" cy=\"307\" r=\"9\" fill=\"rgb(85,85,85)\"/></svg><svg id=\"svg\" width=\"430\" height=\"430\"><circle cx=\"215\" cy=\"215\" r=\"205\" fill=\"none\" stroke=\"black\" stroke-width=\"2\" stroke-dasharray=\"3,3\"/> <circle cx=\"199\" cy=\"227\" r=\"9\" fill=\"rgb(255,138,138)\" class=\"agent_1_5\"/><circle cx=\"208\" cy=\"177\" r=\"11\" fill=\"rgb(255,212,212)\" class=\"agent_1_24\"/><circle cx=\"277\" cy=\"157\" r=\"8\" fill=\"rgb(255,254,254)\" class=\"agent_1_35\"/><circle cx=\"156\" cy=\"118\" r=\"7\" fill=\"rgb(255,254,254)\" class=\"agent_1_39\"/><circle cx=\"306\" cy=\"100\" r=\"10\" fill=\"rgb(255,161,161)\" class=\"agent_1_40\"/><circle cx=\"83\" cy=\"255\" r=\"9\" fill=\"rgb(255,254,254)\" class=\"agent_1_58\"/><circle cx=\"303\" cy=\"307\" r=\"9\" fill=\"rgb(255,252,252)\" class=\"agent_1_80\"/></svg></div>"
      ],
      "text/plain": [
       "<IPython.core.display.HTML object>"
      ]
     },
     "metadata": {},
     "output_type": "display_data"
    },
    {
     "name": "stdout",
     "output_type": "stream",
     "text": [
      "t 10: one: [0.29347986 0.24204382 0.00133832 0.00702691 0.26596853 0.01477964\n",
      " 0.17536293]\n"
     ]
    },
    {
     "data": {
      "text/html": [
       "<div style=\"white-space: nowrap\"><svg width=\"430\" height=\"430\" id=\"agent_1\"><circle cx=\"215\" cy=\"215\" r=\"205\" fill=\"none\" stroke=\"black\" stroke-width=\"2\" stroke-dasharray=\"3,3\"/><circle cx=\"199\" cy=\"227\" r=\"9\" fill=\"rgb(75,75,75)\"/><circle cx=\"208\" cy=\"177\" r=\"11\" fill=\"rgb(97,97,97)\"/><circle cx=\"277\" cy=\"157\" r=\"8\" fill=\"rgb(149,149,149)\"/><circle cx=\"156\" cy=\"118\" r=\"7\" fill=\"rgb(139,139,139)\"/><circle cx=\"306\" cy=\"100\" r=\"10\" fill=\"rgb(76,76,76)\"/><circle cx=\"83\" cy=\"255\" r=\"9\" fill=\"rgb(115,115,115)\"/><circle cx=\"303\" cy=\"307\" r=\"9\" fill=\"rgb(85,85,85)\"/></svg><svg id=\"svg\" width=\"430\" height=\"430\"><circle cx=\"215\" cy=\"215\" r=\"205\" fill=\"none\" stroke=\"black\" stroke-width=\"2\" stroke-dasharray=\"3,3\"/> <circle cx=\"199\" cy=\"227\" r=\"9\" fill=\"rgb(255,180,180)\" class=\"agent_1_5\"/><circle cx=\"208\" cy=\"177\" r=\"11\" fill=\"rgb(255,193,193)\" class=\"agent_1_24\"/><circle cx=\"277\" cy=\"157\" r=\"8\" fill=\"rgb(255,254,254)\" class=\"agent_1_35\"/><circle cx=\"156\" cy=\"118\" r=\"7\" fill=\"rgb(255,253,253)\" class=\"agent_1_39\"/><circle cx=\"306\" cy=\"100\" r=\"10\" fill=\"rgb(255,187,187)\" class=\"agent_1_40\"/><circle cx=\"83\" cy=\"255\" r=\"9\" fill=\"rgb(255,251,251)\" class=\"agent_1_58\"/><circle cx=\"303\" cy=\"307\" r=\"9\" fill=\"rgb(255,210,210)\" class=\"agent_1_80\"/></svg></div>"
      ],
      "text/plain": [
       "<IPython.core.display.HTML object>"
      ]
     },
     "metadata": {},
     "output_type": "display_data"
    },
    {
     "name": "stdout",
     "output_type": "stream",
     "text": [
      "t 11: and: [0.11436501 0.15225987 0.15708257 0.15162511 0.12475786 0.15513808\n",
      " 0.14477138]\n"
     ]
    },
    {
     "data": {
      "text/html": [
       "<div style=\"white-space: nowrap\"><svg width=\"430\" height=\"430\" id=\"agent_1\"><circle cx=\"215\" cy=\"215\" r=\"205\" fill=\"none\" stroke=\"black\" stroke-width=\"2\" stroke-dasharray=\"3,3\"/><circle cx=\"199\" cy=\"227\" r=\"9\" fill=\"rgb(75,75,75)\"/><circle cx=\"208\" cy=\"177\" r=\"11\" fill=\"rgb(97,97,97)\"/><circle cx=\"277\" cy=\"157\" r=\"8\" fill=\"rgb(149,149,149)\"/><circle cx=\"156\" cy=\"118\" r=\"7\" fill=\"rgb(139,139,139)\"/><circle cx=\"306\" cy=\"100\" r=\"10\" fill=\"rgb(76,76,76)\"/><circle cx=\"83\" cy=\"255\" r=\"9\" fill=\"rgb(115,115,115)\"/><circle cx=\"303\" cy=\"307\" r=\"9\" fill=\"rgb(85,85,85)\"/></svg><svg id=\"svg\" width=\"430\" height=\"430\"><circle cx=\"215\" cy=\"215\" r=\"205\" fill=\"none\" stroke=\"black\" stroke-width=\"2\" stroke-dasharray=\"3,3\"/> <circle cx=\"199\" cy=\"227\" r=\"9\" fill=\"rgb(255,225,225)\" class=\"agent_1_5\"/><circle cx=\"208\" cy=\"177\" r=\"11\" fill=\"rgb(255,216,216)\" class=\"agent_1_24\"/><circle cx=\"277\" cy=\"157\" r=\"8\" fill=\"rgb(255,214,214)\" class=\"agent_1_35\"/><circle cx=\"156\" cy=\"118\" r=\"7\" fill=\"rgb(255,216,216)\" class=\"agent_1_39\"/><circle cx=\"306\" cy=\"100\" r=\"10\" fill=\"rgb(255,223,223)\" class=\"agent_1_40\"/><circle cx=\"83\" cy=\"255\" r=\"9\" fill=\"rgb(255,215,215)\" class=\"agent_1_58\"/><circle cx=\"303\" cy=\"307\" r=\"9\" fill=\"rgb(255,218,218)\" class=\"agent_1_80\"/></svg></div>"
      ],
      "text/plain": [
       "<IPython.core.display.HTML object>"
      ]
     },
     "metadata": {},
     "output_type": "display_data"
    },
    {
     "name": "stdout",
     "output_type": "stream",
     "text": [
      "t 12: to: [0.16636544 0.16802546 0.11117644 0.111196   0.15856883 0.13752362\n",
      " 0.14714426]\n"
     ]
    },
    {
     "data": {
      "text/html": [
       "<div style=\"white-space: nowrap\"><svg width=\"430\" height=\"430\" id=\"agent_1\"><circle cx=\"215\" cy=\"215\" r=\"205\" fill=\"none\" stroke=\"black\" stroke-width=\"2\" stroke-dasharray=\"3,3\"/><circle cx=\"199\" cy=\"227\" r=\"9\" fill=\"rgb(75,75,75)\"/><circle cx=\"208\" cy=\"177\" r=\"11\" fill=\"rgb(97,97,97)\"/><circle cx=\"277\" cy=\"157\" r=\"8\" fill=\"rgb(149,149,149)\"/><circle cx=\"156\" cy=\"118\" r=\"7\" fill=\"rgb(139,139,139)\"/><circle cx=\"306\" cy=\"100\" r=\"10\" fill=\"rgb(76,76,76)\"/><circle cx=\"83\" cy=\"255\" r=\"9\" fill=\"rgb(115,115,115)\"/><circle cx=\"303\" cy=\"307\" r=\"9\" fill=\"rgb(85,85,85)\"/></svg><svg id=\"svg\" width=\"430\" height=\"430\"><circle cx=\"215\" cy=\"215\" r=\"205\" fill=\"none\" stroke=\"black\" stroke-width=\"2\" stroke-dasharray=\"3,3\"/> <circle cx=\"199\" cy=\"227\" r=\"9\" fill=\"rgb(255,212,212)\" class=\"agent_1_5\"/><circle cx=\"208\" cy=\"177\" r=\"11\" fill=\"rgb(255,212,212)\" class=\"agent_1_24\"/><circle cx=\"277\" cy=\"157\" r=\"8\" fill=\"rgb(255,226,226)\" class=\"agent_1_35\"/><circle cx=\"156\" cy=\"118\" r=\"7\" fill=\"rgb(255,226,226)\" class=\"agent_1_39\"/><circle cx=\"306\" cy=\"100\" r=\"10\" fill=\"rgb(255,214,214)\" class=\"agent_1_40\"/><circle cx=\"83\" cy=\"255\" r=\"9\" fill=\"rgb(255,219,219)\" class=\"agent_1_58\"/><circle cx=\"303\" cy=\"307\" r=\"9\" fill=\"rgb(255,217,217)\" class=\"agent_1_80\"/></svg></div>"
      ],
      "text/plain": [
       "<IPython.core.display.HTML object>"
      ]
     },
     "metadata": {},
     "output_type": "display_data"
    },
    {
     "name": "stdout",
     "output_type": "stream",
     "text": [
      "t 13: its: [0.23695625 0.23619197 0.00726032 0.01439865 0.22817367 0.09852028\n",
      " 0.1784988 ]\n"
     ]
    },
    {
     "data": {
      "text/html": [
       "<div style=\"white-space: nowrap\"><svg width=\"430\" height=\"430\" id=\"agent_1\"><circle cx=\"215\" cy=\"215\" r=\"205\" fill=\"none\" stroke=\"black\" stroke-width=\"2\" stroke-dasharray=\"3,3\"/><circle cx=\"199\" cy=\"227\" r=\"9\" fill=\"rgb(75,75,75)\"/><circle cx=\"208\" cy=\"177\" r=\"11\" fill=\"rgb(97,97,97)\"/><circle cx=\"277\" cy=\"157\" r=\"8\" fill=\"rgb(149,149,149)\"/><circle cx=\"156\" cy=\"118\" r=\"7\" fill=\"rgb(139,139,139)\"/><circle cx=\"306\" cy=\"100\" r=\"10\" fill=\"rgb(76,76,76)\"/><circle cx=\"83\" cy=\"255\" r=\"9\" fill=\"rgb(115,115,115)\"/><circle cx=\"303\" cy=\"307\" r=\"9\" fill=\"rgb(85,85,85)\"/></svg><svg id=\"svg\" width=\"430\" height=\"430\"><circle cx=\"215\" cy=\"215\" r=\"205\" fill=\"none\" stroke=\"black\" stroke-width=\"2\" stroke-dasharray=\"3,3\"/> <circle cx=\"199\" cy=\"227\" r=\"9\" fill=\"rgb(255,194,194)\" class=\"agent_1_5\"/><circle cx=\"208\" cy=\"177\" r=\"11\" fill=\"rgb(255,194,194)\" class=\"agent_1_24\"/><circle cx=\"277\" cy=\"157\" r=\"8\" fill=\"rgb(255,253,253)\" class=\"agent_1_35\"/><circle cx=\"156\" cy=\"118\" r=\"7\" fill=\"rgb(255,251,251)\" class=\"agent_1_39\"/><circle cx=\"306\" cy=\"100\" r=\"10\" fill=\"rgb(255,196,196)\" class=\"agent_1_40\"/><circle cx=\"83\" cy=\"255\" r=\"9\" fill=\"rgb(255,229,229)\" class=\"agent_1_58\"/><circle cx=\"303\" cy=\"307\" r=\"9\" fill=\"rgb(255,209,209)\" class=\"agent_1_80\"/></svg></div>"
      ],
      "text/plain": [
       "<IPython.core.display.HTML object>"
      ]
     },
     "metadata": {},
     "output_type": "display_data"
    },
    {
     "name": "stdout",
     "output_type": "stream",
     "text": [
      "t 14: left: [0.16848506 0.17580706 0.09151321 0.09380476 0.17635849 0.13962953\n",
      " 0.15440184]\n"
     ]
    },
    {
     "data": {
      "text/html": [
       "<div style=\"white-space: nowrap\"><svg width=\"430\" height=\"430\" id=\"agent_1\"><circle cx=\"215\" cy=\"215\" r=\"205\" fill=\"none\" stroke=\"black\" stroke-width=\"2\" stroke-dasharray=\"3,3\"/><circle cx=\"199\" cy=\"227\" r=\"9\" fill=\"rgb(75,75,75)\"/><circle cx=\"208\" cy=\"177\" r=\"11\" fill=\"rgb(97,97,97)\"/><circle cx=\"277\" cy=\"157\" r=\"8\" fill=\"rgb(149,149,149)\"/><circle cx=\"156\" cy=\"118\" r=\"7\" fill=\"rgb(139,139,139)\"/><circle cx=\"306\" cy=\"100\" r=\"10\" fill=\"rgb(76,76,76)\"/><circle cx=\"83\" cy=\"255\" r=\"9\" fill=\"rgb(115,115,115)\"/><circle cx=\"303\" cy=\"307\" r=\"9\" fill=\"rgb(85,85,85)\"/></svg><svg id=\"svg\" width=\"430\" height=\"430\"><circle cx=\"215\" cy=\"215\" r=\"205\" fill=\"none\" stroke=\"black\" stroke-width=\"2\" stroke-dasharray=\"3,3\"/> <circle cx=\"199\" cy=\"227\" r=\"9\" fill=\"rgb(255,212,212)\" class=\"agent_1_5\"/><circle cx=\"208\" cy=\"177\" r=\"11\" fill=\"rgb(255,210,210)\" class=\"agent_1_24\"/><circle cx=\"277\" cy=\"157\" r=\"8\" fill=\"rgb(255,231,231)\" class=\"agent_1_35\"/><circle cx=\"156\" cy=\"118\" r=\"7\" fill=\"rgb(255,231,231)\" class=\"agent_1_39\"/><circle cx=\"306\" cy=\"100\" r=\"10\" fill=\"rgb(255,210,210)\" class=\"agent_1_40\"/><circle cx=\"83\" cy=\"255\" r=\"9\" fill=\"rgb(255,219,219)\" class=\"agent_1_58\"/><circle cx=\"303\" cy=\"307\" r=\"9\" fill=\"rgb(255,215,215)\" class=\"agent_1_80\"/></svg></div>"
      ],
      "text/plain": [
       "<IPython.core.display.HTML object>"
      ]
     },
     "metadata": {},
     "output_type": "display_data"
    },
    {
     "name": "stdout",
     "output_type": "stream",
     "text": [
      "t 15: i: [0.15656184 0.17196627 0.12588648 0.10526573 0.1370647  0.16001439\n",
      " 0.14324062]\n"
     ]
    },
    {
     "data": {
      "text/html": [
       "<div style=\"white-space: nowrap\"><svg width=\"430\" height=\"430\" id=\"agent_1\"><circle cx=\"215\" cy=\"215\" r=\"205\" fill=\"none\" stroke=\"black\" stroke-width=\"2\" stroke-dasharray=\"3,3\"/><circle cx=\"199\" cy=\"227\" r=\"9\" fill=\"rgb(75,75,75)\"/><circle cx=\"208\" cy=\"177\" r=\"11\" fill=\"rgb(97,97,97)\"/><circle cx=\"277\" cy=\"157\" r=\"8\" fill=\"rgb(149,149,149)\"/><circle cx=\"156\" cy=\"118\" r=\"7\" fill=\"rgb(139,139,139)\"/><circle cx=\"306\" cy=\"100\" r=\"10\" fill=\"rgb(76,76,76)\"/><circle cx=\"83\" cy=\"255\" r=\"9\" fill=\"rgb(115,115,115)\"/><circle cx=\"303\" cy=\"307\" r=\"9\" fill=\"rgb(85,85,85)\"/></svg><svg id=\"svg\" width=\"430\" height=\"430\"><circle cx=\"215\" cy=\"215\" r=\"205\" fill=\"none\" stroke=\"black\" stroke-width=\"2\" stroke-dasharray=\"3,3\"/> <circle cx=\"199\" cy=\"227\" r=\"9\" fill=\"rgb(255,215,215)\" class=\"agent_1_5\"/><circle cx=\"208\" cy=\"177\" r=\"11\" fill=\"rgb(255,211,211)\" class=\"agent_1_24\"/><circle cx=\"277\" cy=\"157\" r=\"8\" fill=\"rgb(255,222,222)\" class=\"agent_1_35\"/><circle cx=\"156\" cy=\"118\" r=\"7\" fill=\"rgb(255,228,228)\" class=\"agent_1_39\"/><circle cx=\"306\" cy=\"100\" r=\"10\" fill=\"rgb(255,220,220)\" class=\"agent_1_40\"/><circle cx=\"83\" cy=\"255\" r=\"9\" fill=\"rgb(255,214,214)\" class=\"agent_1_58\"/><circle cx=\"303\" cy=\"307\" r=\"9\" fill=\"rgb(255,218,218)\" class=\"agent_1_80\"/></svg></div>"
      ],
      "text/plain": [
       "<IPython.core.display.HTML object>"
      ]
     },
     "metadata": {},
     "output_type": "display_data"
    },
    {
     "name": "stdout",
     "output_type": "stream",
     "text": [
      "t 16: have: [0.17548017 0.1640443  0.09366953 0.09625804 0.17579395 0.13870636\n",
      " 0.15604757]\n"
     ]
    },
    {
     "data": {
      "text/html": [
       "<div style=\"white-space: nowrap\"><svg width=\"430\" height=\"430\" id=\"agent_1\"><circle cx=\"215\" cy=\"215\" r=\"205\" fill=\"none\" stroke=\"black\" stroke-width=\"2\" stroke-dasharray=\"3,3\"/><circle cx=\"199\" cy=\"227\" r=\"9\" fill=\"rgb(75,75,75)\"/><circle cx=\"208\" cy=\"177\" r=\"11\" fill=\"rgb(97,97,97)\"/><circle cx=\"277\" cy=\"157\" r=\"8\" fill=\"rgb(149,149,149)\"/><circle cx=\"156\" cy=\"118\" r=\"7\" fill=\"rgb(139,139,139)\"/><circle cx=\"306\" cy=\"100\" r=\"10\" fill=\"rgb(76,76,76)\"/><circle cx=\"83\" cy=\"255\" r=\"9\" fill=\"rgb(115,115,115)\"/><circle cx=\"303\" cy=\"307\" r=\"9\" fill=\"rgb(85,85,85)\"/></svg><svg id=\"svg\" width=\"430\" height=\"430\"><circle cx=\"215\" cy=\"215\" r=\"205\" fill=\"none\" stroke=\"black\" stroke-width=\"2\" stroke-dasharray=\"3,3\"/> <circle cx=\"199\" cy=\"227\" r=\"9\" fill=\"rgb(255,210,210)\" class=\"agent_1_5\"/><circle cx=\"208\" cy=\"177\" r=\"11\" fill=\"rgb(255,213,213)\" class=\"agent_1_24\"/><circle cx=\"277\" cy=\"157\" r=\"8\" fill=\"rgb(255,231,231)\" class=\"agent_1_35\"/><circle cx=\"156\" cy=\"118\" r=\"7\" fill=\"rgb(255,230,230)\" class=\"agent_1_39\"/><circle cx=\"306\" cy=\"100\" r=\"10\" fill=\"rgb(255,210,210)\" class=\"agent_1_40\"/><circle cx=\"83\" cy=\"255\" r=\"9\" fill=\"rgb(255,219,219)\" class=\"agent_1_58\"/><circle cx=\"303\" cy=\"307\" r=\"9\" fill=\"rgb(255,215,215)\" class=\"agent_1_80\"/></svg></div>"
      ],
      "text/plain": [
       "<IPython.core.display.HTML object>"
      ]
     },
     "metadata": {},
     "output_type": "display_data"
    },
    {
     "name": "stdout",
     "output_type": "stream",
     "text": [
      "t 17: a: [0.14531639 0.15651067 0.13039519 0.13252294 0.13144623 0.15926191\n",
      " 0.14454667]\n"
     ]
    },
    {
     "data": {
      "text/html": [
       "<div style=\"white-space: nowrap\"><svg width=\"430\" height=\"430\" id=\"agent_1\"><circle cx=\"215\" cy=\"215\" r=\"205\" fill=\"none\" stroke=\"black\" stroke-width=\"2\" stroke-dasharray=\"3,3\"/><circle cx=\"199\" cy=\"227\" r=\"9\" fill=\"rgb(75,75,75)\"/><circle cx=\"208\" cy=\"177\" r=\"11\" fill=\"rgb(97,97,97)\"/><circle cx=\"277\" cy=\"157\" r=\"8\" fill=\"rgb(149,149,149)\"/><circle cx=\"156\" cy=\"118\" r=\"7\" fill=\"rgb(139,139,139)\"/><circle cx=\"306\" cy=\"100\" r=\"10\" fill=\"rgb(76,76,76)\"/><circle cx=\"83\" cy=\"255\" r=\"9\" fill=\"rgb(115,115,115)\"/><circle cx=\"303\" cy=\"307\" r=\"9\" fill=\"rgb(85,85,85)\"/></svg><svg id=\"svg\" width=\"430\" height=\"430\"><circle cx=\"215\" cy=\"215\" r=\"205\" fill=\"none\" stroke=\"black\" stroke-width=\"2\" stroke-dasharray=\"3,3\"/> <circle cx=\"199\" cy=\"227\" r=\"9\" fill=\"rgb(255,217,217)\" class=\"agent_1_5\"/><circle cx=\"208\" cy=\"177\" r=\"11\" fill=\"rgb(255,215,215)\" class=\"agent_1_24\"/><circle cx=\"277\" cy=\"157\" r=\"8\" fill=\"rgb(255,221,221)\" class=\"agent_1_35\"/><circle cx=\"156\" cy=\"118\" r=\"7\" fill=\"rgb(255,221,221)\" class=\"agent_1_39\"/><circle cx=\"306\" cy=\"100\" r=\"10\" fill=\"rgb(255,221,221)\" class=\"agent_1_40\"/><circle cx=\"83\" cy=\"255\" r=\"9\" fill=\"rgb(255,214,214)\" class=\"agent_1_58\"/><circle cx=\"303\" cy=\"307\" r=\"9\" fill=\"rgb(255,218,218)\" class=\"agent_1_80\"/></svg></div>"
      ],
      "text/plain": [
       "<IPython.core.display.HTML object>"
      ]
     },
     "metadata": {},
     "output_type": "display_data"
    },
    {
     "name": "stdout",
     "output_type": "stream",
     "text": [
      "t 18: much: [0.2829318  0.25863054 0.00596842 0.00768232 0.25306547 0.01909079\n",
      " 0.1726307 ]\n"
     ]
    },
    {
     "data": {
      "text/html": [
       "<div style=\"white-space: nowrap\"><svg width=\"430\" height=\"430\" id=\"agent_1\"><circle cx=\"215\" cy=\"215\" r=\"205\" fill=\"none\" stroke=\"black\" stroke-width=\"2\" stroke-dasharray=\"3,3\"/><circle cx=\"199\" cy=\"227\" r=\"9\" fill=\"rgb(75,75,75)\"/><circle cx=\"208\" cy=\"177\" r=\"11\" fill=\"rgb(97,97,97)\"/><circle cx=\"277\" cy=\"157\" r=\"8\" fill=\"rgb(149,149,149)\"/><circle cx=\"156\" cy=\"118\" r=\"7\" fill=\"rgb(139,139,139)\"/><circle cx=\"306\" cy=\"100\" r=\"10\" fill=\"rgb(76,76,76)\"/><circle cx=\"83\" cy=\"255\" r=\"9\" fill=\"rgb(115,115,115)\"/><circle cx=\"303\" cy=\"307\" r=\"9\" fill=\"rgb(85,85,85)\"/></svg><svg id=\"svg\" width=\"430\" height=\"430\"><circle cx=\"215\" cy=\"215\" r=\"205\" fill=\"none\" stroke=\"black\" stroke-width=\"2\" stroke-dasharray=\"3,3\"/> <circle cx=\"199\" cy=\"227\" r=\"9\" fill=\"rgb(255,182,182)\" class=\"agent_1_5\"/><circle cx=\"208\" cy=\"177\" r=\"11\" fill=\"rgb(255,189,189)\" class=\"agent_1_24\"/><circle cx=\"277\" cy=\"157\" r=\"8\" fill=\"rgb(255,253,253)\" class=\"agent_1_35\"/><circle cx=\"156\" cy=\"118\" r=\"7\" fill=\"rgb(255,253,253)\" class=\"agent_1_39\"/><circle cx=\"306\" cy=\"100\" r=\"10\" fill=\"rgb(255,190,190)\" class=\"agent_1_40\"/><circle cx=\"83\" cy=\"255\" r=\"9\" fill=\"rgb(255,250,250)\" class=\"agent_1_58\"/><circle cx=\"303\" cy=\"307\" r=\"9\" fill=\"rgb(255,210,210)\" class=\"agent_1_80\"/></svg></div>"
      ],
      "text/plain": [
       "<IPython.core.display.HTML object>"
      ]
     },
     "metadata": {},
     "output_type": "display_data"
    },
    {
     "name": "stdout",
     "output_type": "stream",
     "text": [
      "t 19: smaller: [0.29177693 0.2685132  0.0081476  0.01283468 0.27716237 0.01510357\n",
      " 0.12646165]\n"
     ]
    },
    {
     "data": {
      "text/html": [
       "<div style=\"white-space: nowrap\"><svg width=\"430\" height=\"430\" id=\"agent_1\"><circle cx=\"215\" cy=\"215\" r=\"205\" fill=\"none\" stroke=\"black\" stroke-width=\"2\" stroke-dasharray=\"3,3\"/><circle cx=\"199\" cy=\"227\" r=\"9\" fill=\"rgb(75,75,75)\"/><circle cx=\"208\" cy=\"177\" r=\"11\" fill=\"rgb(97,97,97)\"/><circle cx=\"277\" cy=\"157\" r=\"8\" fill=\"rgb(149,149,149)\"/><circle cx=\"156\" cy=\"118\" r=\"7\" fill=\"rgb(139,139,139)\"/><circle cx=\"306\" cy=\"100\" r=\"10\" fill=\"rgb(76,76,76)\"/><circle cx=\"83\" cy=\"255\" r=\"9\" fill=\"rgb(115,115,115)\"/><circle cx=\"303\" cy=\"307\" r=\"9\" fill=\"rgb(85,85,85)\"/></svg><svg id=\"svg\" width=\"430\" height=\"430\"><circle cx=\"215\" cy=\"215\" r=\"205\" fill=\"none\" stroke=\"black\" stroke-width=\"2\" stroke-dasharray=\"3,3\"/> <circle cx=\"199\" cy=\"227\" r=\"9\" fill=\"rgb(255,180,180)\" class=\"agent_1_5\"/><circle cx=\"208\" cy=\"177\" r=\"11\" fill=\"rgb(255,186,186)\" class=\"agent_1_24\"/><circle cx=\"277\" cy=\"157\" r=\"8\" fill=\"rgb(255,252,252)\" class=\"agent_1_35\"/><circle cx=\"156\" cy=\"118\" r=\"7\" fill=\"rgb(255,251,251)\" class=\"agent_1_39\"/><circle cx=\"306\" cy=\"100\" r=\"10\" fill=\"rgb(255,184,184)\" class=\"agent_1_40\"/><circle cx=\"83\" cy=\"255\" r=\"9\" fill=\"rgb(255,251,251)\" class=\"agent_1_58\"/><circle cx=\"303\" cy=\"307\" r=\"9\" fill=\"rgb(255,222,222)\" class=\"agent_1_80\"/></svg></div>"
      ],
      "text/plain": [
       "<IPython.core.display.HTML object>"
      ]
     },
     "metadata": {},
     "output_type": "display_data"
    },
    {
     "name": "stdout",
     "output_type": "stream",
     "text": [
      "t 20: medium: [0.3127206  0.26658225 0.00787399 0.01015383 0.27306044 0.01483859\n",
      " 0.11477019]\n"
     ]
    },
    {
     "data": {
      "text/html": [
       "<div style=\"white-space: nowrap\"><svg width=\"430\" height=\"430\" id=\"agent_1\"><circle cx=\"215\" cy=\"215\" r=\"205\" fill=\"none\" stroke=\"black\" stroke-width=\"2\" stroke-dasharray=\"3,3\"/><circle cx=\"199\" cy=\"227\" r=\"9\" fill=\"rgb(75,75,75)\"/><circle cx=\"208\" cy=\"177\" r=\"11\" fill=\"rgb(97,97,97)\"/><circle cx=\"277\" cy=\"157\" r=\"8\" fill=\"rgb(149,149,149)\"/><circle cx=\"156\" cy=\"118\" r=\"7\" fill=\"rgb(139,139,139)\"/><circle cx=\"306\" cy=\"100\" r=\"10\" fill=\"rgb(76,76,76)\"/><circle cx=\"83\" cy=\"255\" r=\"9\" fill=\"rgb(115,115,115)\"/><circle cx=\"303\" cy=\"307\" r=\"9\" fill=\"rgb(85,85,85)\"/></svg><svg id=\"svg\" width=\"430\" height=\"430\"><circle cx=\"215\" cy=\"215\" r=\"205\" fill=\"none\" stroke=\"black\" stroke-width=\"2\" stroke-dasharray=\"3,3\"/> <circle cx=\"199\" cy=\"227\" r=\"9\" fill=\"rgb(255,175,175)\" class=\"agent_1_5\"/><circle cx=\"208\" cy=\"177\" r=\"11\" fill=\"rgb(255,187,187)\" class=\"agent_1_24\"/><circle cx=\"277\" cy=\"157\" r=\"8\" fill=\"rgb(255,252,252)\" class=\"agent_1_35\"/><circle cx=\"156\" cy=\"118\" r=\"7\" fill=\"rgb(255,252,252)\" class=\"agent_1_39\"/><circle cx=\"306\" cy=\"100\" r=\"10\" fill=\"rgb(255,185,185)\" class=\"agent_1_40\"/><circle cx=\"83\" cy=\"255\" r=\"9\" fill=\"rgb(255,251,251)\" class=\"agent_1_58\"/><circle cx=\"303\" cy=\"307\" r=\"9\" fill=\"rgb(255,225,225)\" class=\"agent_1_80\"/></svg></div>"
      ],
      "text/plain": [
       "<IPython.core.display.HTML object>"
      ]
     },
     "metadata": {},
     "output_type": "display_data"
    },
    {
     "name": "stdout",
     "output_type": "stream",
     "text": [
      "t 21: gray: [0.32592666 0.21558084 0.00130085 0.00615219 0.26314577 0.02502221\n",
      " 0.16287145]\n"
     ]
    },
    {
     "data": {
      "text/html": [
       "<div style=\"white-space: nowrap\"><svg width=\"430\" height=\"430\" id=\"agent_1\"><circle cx=\"215\" cy=\"215\" r=\"205\" fill=\"none\" stroke=\"black\" stroke-width=\"2\" stroke-dasharray=\"3,3\"/><circle cx=\"199\" cy=\"227\" r=\"9\" fill=\"rgb(75,75,75)\"/><circle cx=\"208\" cy=\"177\" r=\"11\" fill=\"rgb(97,97,97)\"/><circle cx=\"277\" cy=\"157\" r=\"8\" fill=\"rgb(149,149,149)\"/><circle cx=\"156\" cy=\"118\" r=\"7\" fill=\"rgb(139,139,139)\"/><circle cx=\"306\" cy=\"100\" r=\"10\" fill=\"rgb(76,76,76)\"/><circle cx=\"83\" cy=\"255\" r=\"9\" fill=\"rgb(115,115,115)\"/><circle cx=\"303\" cy=\"307\" r=\"9\" fill=\"rgb(85,85,85)\"/></svg><svg id=\"svg\" width=\"430\" height=\"430\"><circle cx=\"215\" cy=\"215\" r=\"205\" fill=\"none\" stroke=\"black\" stroke-width=\"2\" stroke-dasharray=\"3,3\"/> <circle cx=\"199\" cy=\"227\" r=\"9\" fill=\"rgb(255,171,171)\" class=\"agent_1_5\"/><circle cx=\"208\" cy=\"177\" r=\"11\" fill=\"rgb(255,200,200)\" class=\"agent_1_24\"/><circle cx=\"277\" cy=\"157\" r=\"8\" fill=\"rgb(255,254,254)\" class=\"agent_1_35\"/><circle cx=\"156\" cy=\"118\" r=\"7\" fill=\"rgb(255,253,253)\" class=\"agent_1_39\"/><circle cx=\"306\" cy=\"100\" r=\"10\" fill=\"rgb(255,187,187)\" class=\"agent_1_40\"/><circle cx=\"83\" cy=\"255\" r=\"9\" fill=\"rgb(255,248,248)\" class=\"agent_1_58\"/><circle cx=\"303\" cy=\"307\" r=\"9\" fill=\"rgb(255,213,213)\" class=\"agent_1_80\"/></svg></div>"
      ],
      "text/plain": [
       "<IPython.core.display.HTML object>"
      ]
     },
     "metadata": {},
     "output_type": "display_data"
    },
    {
     "name": "stdout",
     "output_type": "stream",
     "text": [
      "t 22: dot: [0.36346355 0.19982846 0.0028012  0.0060204  0.28937313 0.0194003\n",
      " 0.11911292]\n"
     ]
    },
    {
     "data": {
      "text/html": [
       "<div style=\"white-space: nowrap\"><svg width=\"430\" height=\"430\" id=\"agent_1\"><circle cx=\"215\" cy=\"215\" r=\"205\" fill=\"none\" stroke=\"black\" stroke-width=\"2\" stroke-dasharray=\"3,3\"/><circle cx=\"199\" cy=\"227\" r=\"9\" fill=\"rgb(75,75,75)\"/><circle cx=\"208\" cy=\"177\" r=\"11\" fill=\"rgb(97,97,97)\"/><circle cx=\"277\" cy=\"157\" r=\"8\" fill=\"rgb(149,149,149)\"/><circle cx=\"156\" cy=\"118\" r=\"7\" fill=\"rgb(139,139,139)\"/><circle cx=\"306\" cy=\"100\" r=\"10\" fill=\"rgb(76,76,76)\"/><circle cx=\"83\" cy=\"255\" r=\"9\" fill=\"rgb(115,115,115)\"/><circle cx=\"303\" cy=\"307\" r=\"9\" fill=\"rgb(85,85,85)\"/></svg><svg id=\"svg\" width=\"430\" height=\"430\"><circle cx=\"215\" cy=\"215\" r=\"205\" fill=\"none\" stroke=\"black\" stroke-width=\"2\" stroke-dasharray=\"3,3\"/> <circle cx=\"199\" cy=\"227\" r=\"9\" fill=\"rgb(255,162,162)\" class=\"agent_1_5\"/><circle cx=\"208\" cy=\"177\" r=\"11\" fill=\"rgb(255,204,204)\" class=\"agent_1_24\"/><circle cx=\"277\" cy=\"157\" r=\"8\" fill=\"rgb(255,254,254)\" class=\"agent_1_35\"/><circle cx=\"156\" cy=\"118\" r=\"7\" fill=\"rgb(255,253,253)\" class=\"agent_1_39\"/><circle cx=\"306\" cy=\"100\" r=\"10\" fill=\"rgb(255,181,181)\" class=\"agent_1_40\"/><circle cx=\"83\" cy=\"255\" r=\"9\" fill=\"rgb(255,250,250)\" class=\"agent_1_58\"/><circle cx=\"303\" cy=\"307\" r=\"9\" fill=\"rgb(255,224,224)\" class=\"agent_1_80\"/></svg></div>"
      ],
      "text/plain": [
       "<IPython.core.display.HTML object>"
      ]
     },
     "metadata": {},
     "output_type": "display_data"
    },
    {
     "name": "stdout",
     "output_type": "stream",
     "text": [
      "t 23: <eos>: [0.15351065 0.15892269 0.14742959 0.12990195 0.14085792 0.14869729\n",
      " 0.12067998]\n"
     ]
    },
    {
     "data": {
      "text/html": [
       "<div style=\"white-space: nowrap\"><svg width=\"430\" height=\"430\" id=\"agent_1\"><circle cx=\"215\" cy=\"215\" r=\"205\" fill=\"none\" stroke=\"black\" stroke-width=\"2\" stroke-dasharray=\"3,3\"/><circle cx=\"199\" cy=\"227\" r=\"9\" fill=\"rgb(75,75,75)\"/><circle cx=\"208\" cy=\"177\" r=\"11\" fill=\"rgb(97,97,97)\"/><circle cx=\"277\" cy=\"157\" r=\"8\" fill=\"rgb(149,149,149)\"/><circle cx=\"156\" cy=\"118\" r=\"7\" fill=\"rgb(139,139,139)\"/><circle cx=\"306\" cy=\"100\" r=\"10\" fill=\"rgb(76,76,76)\"/><circle cx=\"83\" cy=\"255\" r=\"9\" fill=\"rgb(115,115,115)\"/><circle cx=\"303\" cy=\"307\" r=\"9\" fill=\"rgb(85,85,85)\"/></svg><svg id=\"svg\" width=\"430\" height=\"430\"><circle cx=\"215\" cy=\"215\" r=\"205\" fill=\"none\" stroke=\"black\" stroke-width=\"2\" stroke-dasharray=\"3,3\"/> <circle cx=\"199\" cy=\"227\" r=\"9\" fill=\"rgb(255,215,215)\" class=\"agent_1_5\"/><circle cx=\"208\" cy=\"177\" r=\"11\" fill=\"rgb(255,214,214)\" class=\"agent_1_24\"/><circle cx=\"277\" cy=\"157\" r=\"8\" fill=\"rgb(255,217,217)\" class=\"agent_1_35\"/><circle cx=\"156\" cy=\"118\" r=\"7\" fill=\"rgb(255,221,221)\" class=\"agent_1_39\"/><circle cx=\"306\" cy=\"100\" r=\"10\" fill=\"rgb(255,219,219)\" class=\"agent_1_40\"/><circle cx=\"83\" cy=\"255\" r=\"9\" fill=\"rgb(255,217,217)\" class=\"agent_1_58\"/><circle cx=\"303\" cy=\"307\" r=\"9\" fill=\"rgb(255,224,224)\" class=\"agent_1_80\"/></svg></div>"
      ],
      "text/plain": [
       "<IPython.core.display.HTML object>"
      ]
     },
     "metadata": {},
     "output_type": "display_data"
    },
    {
     "name": "stdout",
     "output_type": "stream",
     "text": [
      "1\ti think i have that too . above the larger one and to its left i have a much smaller medium gray dot <eos>\n",
      "\n",
      "YOU: yes i have the smaller grey to the upper left as well . which do we click on ? the middle ? <eos>\n",
      "dots_mentioned: [0. 1. 0. 1. 0. 0. 0.]\n"
     ]
    },
    {
     "data": {
      "text/html": [
       "<div style=\"white-space: nowrap\"><svg width=\"430\" height=\"430\" id=\"agent_1\"><circle cx=\"215\" cy=\"215\" r=\"205\" fill=\"none\" stroke=\"black\" stroke-width=\"2\" stroke-dasharray=\"3,3\"/><circle cx=\"199\" cy=\"227\" r=\"9\" fill=\"rgb(75,75,75)\"/><circle cx=\"208\" cy=\"177\" r=\"11\" fill=\"rgb(97,97,97)\"/><circle cx=\"277\" cy=\"157\" r=\"8\" fill=\"rgb(149,149,149)\"/><circle cx=\"156\" cy=\"118\" r=\"7\" fill=\"rgb(139,139,139)\"/><circle cx=\"306\" cy=\"100\" r=\"10\" fill=\"rgb(76,76,76)\"/><circle cx=\"83\" cy=\"255\" r=\"9\" fill=\"rgb(115,115,115)\"/><circle cx=\"303\" cy=\"307\" r=\"9\" fill=\"rgb(85,85,85)\"/></svg><svg id=\"svg\" width=\"430\" height=\"430\"><circle cx=\"215\" cy=\"215\" r=\"205\" fill=\"none\" stroke=\"black\" stroke-width=\"2\" stroke-dasharray=\"3,3\"/> <circle cx=\"199\" cy=\"227\" r=\"9\" fill=\"rgb(255,255,255)\" class=\"agent_1_5\"/><circle cx=\"208\" cy=\"177\" r=\"11\" fill=\"rgb(255,0,0)\" class=\"agent_1_24\"/><circle cx=\"277\" cy=\"157\" r=\"8\" fill=\"rgb(255,255,255)\" class=\"agent_1_35\"/><circle cx=\"156\" cy=\"118\" r=\"7\" fill=\"rgb(255,0,0)\" class=\"agent_1_39\"/><circle cx=\"306\" cy=\"100\" r=\"10\" fill=\"rgb(255,255,255)\" class=\"agent_1_40\"/><circle cx=\"83\" cy=\"255\" r=\"9\" fill=\"rgb(255,255,255)\" class=\"agent_1_58\"/><circle cx=\"303\" cy=\"307\" r=\"9\" fill=\"rgb(255,255,255)\" class=\"agent_1_80\"/></svg></div>"
      ],
      "text/plain": [
       "<IPython.core.display.HTML object>"
      ]
     },
     "metadata": {},
     "output_type": "display_data"
    },
    {
     "name": "stdout",
     "output_type": "stream",
     "text": [
      "feed attention: [0.10390676 0.24425328 0.36598307 0.22320712 0.03931476 0.01100163\n",
      " 0.0123334 ]\n"
     ]
    },
    {
     "data": {
      "text/html": [
       "<div style=\"white-space: nowrap\"><svg width=\"430\" height=\"430\" id=\"agent_1\"><circle cx=\"215\" cy=\"215\" r=\"205\" fill=\"none\" stroke=\"black\" stroke-width=\"2\" stroke-dasharray=\"3,3\"/><circle cx=\"199\" cy=\"227\" r=\"9\" fill=\"rgb(75,75,75)\"/><circle cx=\"208\" cy=\"177\" r=\"11\" fill=\"rgb(97,97,97)\"/><circle cx=\"277\" cy=\"157\" r=\"8\" fill=\"rgb(149,149,149)\"/><circle cx=\"156\" cy=\"118\" r=\"7\" fill=\"rgb(139,139,139)\"/><circle cx=\"306\" cy=\"100\" r=\"10\" fill=\"rgb(76,76,76)\"/><circle cx=\"83\" cy=\"255\" r=\"9\" fill=\"rgb(115,115,115)\"/><circle cx=\"303\" cy=\"307\" r=\"9\" fill=\"rgb(85,85,85)\"/></svg><svg id=\"svg\" width=\"430\" height=\"430\"><circle cx=\"215\" cy=\"215\" r=\"205\" fill=\"none\" stroke=\"black\" stroke-width=\"2\" stroke-dasharray=\"3,3\"/> <circle cx=\"199\" cy=\"227\" r=\"9\" fill=\"rgb(255,228,228)\" class=\"agent_1_5\"/><circle cx=\"208\" cy=\"177\" r=\"11\" fill=\"rgb(255,192,192)\" class=\"agent_1_24\"/><circle cx=\"277\" cy=\"157\" r=\"8\" fill=\"rgb(255,161,161)\" class=\"agent_1_35\"/><circle cx=\"156\" cy=\"118\" r=\"7\" fill=\"rgb(255,198,198)\" class=\"agent_1_39\"/><circle cx=\"306\" cy=\"100\" r=\"10\" fill=\"rgb(255,244,244)\" class=\"agent_1_40\"/><circle cx=\"83\" cy=\"255\" r=\"9\" fill=\"rgb(255,252,252)\" class=\"agent_1_58\"/><circle cx=\"303\" cy=\"307\" r=\"9\" fill=\"rgb(255,251,251)\" class=\"agent_1_80\"/></svg></div>"
      ],
      "text/plain": [
       "<IPython.core.display.HTML object>"
      ]
     },
     "metadata": {},
     "output_type": "display_data"
    },
    {
     "name": "stdout",
     "output_type": "stream",
     "text": [
      "word attention mean: [0.18163358 0.18097474 0.09341585 0.09185153 0.17433399 0.12726538\n",
      " 0.15052491]\n"
     ]
    },
    {
     "data": {
      "text/html": [
       "<div style=\"white-space: nowrap\"><svg width=\"430\" height=\"430\" id=\"agent_1\"><circle cx=\"215\" cy=\"215\" r=\"205\" fill=\"none\" stroke=\"black\" stroke-width=\"2\" stroke-dasharray=\"3,3\"/><circle cx=\"199\" cy=\"227\" r=\"9\" fill=\"rgb(75,75,75)\"/><circle cx=\"208\" cy=\"177\" r=\"11\" fill=\"rgb(97,97,97)\"/><circle cx=\"277\" cy=\"157\" r=\"8\" fill=\"rgb(149,149,149)\"/><circle cx=\"156\" cy=\"118\" r=\"7\" fill=\"rgb(139,139,139)\"/><circle cx=\"306\" cy=\"100\" r=\"10\" fill=\"rgb(76,76,76)\"/><circle cx=\"83\" cy=\"255\" r=\"9\" fill=\"rgb(115,115,115)\"/><circle cx=\"303\" cy=\"307\" r=\"9\" fill=\"rgb(85,85,85)\"/></svg><svg id=\"svg\" width=\"430\" height=\"430\"><circle cx=\"215\" cy=\"215\" r=\"205\" fill=\"none\" stroke=\"black\" stroke-width=\"2\" stroke-dasharray=\"3,3\"/> <circle cx=\"199\" cy=\"227\" r=\"9\" fill=\"rgb(255,208,208)\" class=\"agent_1_5\"/><circle cx=\"208\" cy=\"177\" r=\"11\" fill=\"rgb(255,208,208)\" class=\"agent_1_24\"/><circle cx=\"277\" cy=\"157\" r=\"8\" fill=\"rgb(255,231,231)\" class=\"agent_1_35\"/><circle cx=\"156\" cy=\"118\" r=\"7\" fill=\"rgb(255,231,231)\" class=\"agent_1_39\"/><circle cx=\"306\" cy=\"100\" r=\"10\" fill=\"rgb(255,210,210)\" class=\"agent_1_40\"/><circle cx=\"83\" cy=\"255\" r=\"9\" fill=\"rgb(255,222,222)\" class=\"agent_1_58\"/><circle cx=\"303\" cy=\"307\" r=\"9\" fill=\"rgb(255,216,216)\" class=\"agent_1_80\"/></svg></div>"
      ],
      "text/plain": [
       "<IPython.core.display.HTML object>"
      ]
     },
     "metadata": {},
     "output_type": "display_data"
    },
    {
     "name": "stdout",
     "output_type": "stream",
     "text": [
      "t 0: yes: [0.15481976 0.17693044 0.10663614 0.10546365 0.15524252 0.1552476\n",
      " 0.14565985]\n"
     ]
    },
    {
     "data": {
      "text/html": [
       "<div style=\"white-space: nowrap\"><svg width=\"430\" height=\"430\" id=\"agent_1\"><circle cx=\"215\" cy=\"215\" r=\"205\" fill=\"none\" stroke=\"black\" stroke-width=\"2\" stroke-dasharray=\"3,3\"/><circle cx=\"199\" cy=\"227\" r=\"9\" fill=\"rgb(75,75,75)\"/><circle cx=\"208\" cy=\"177\" r=\"11\" fill=\"rgb(97,97,97)\"/><circle cx=\"277\" cy=\"157\" r=\"8\" fill=\"rgb(149,149,149)\"/><circle cx=\"156\" cy=\"118\" r=\"7\" fill=\"rgb(139,139,139)\"/><circle cx=\"306\" cy=\"100\" r=\"10\" fill=\"rgb(76,76,76)\"/><circle cx=\"83\" cy=\"255\" r=\"9\" fill=\"rgb(115,115,115)\"/><circle cx=\"303\" cy=\"307\" r=\"9\" fill=\"rgb(85,85,85)\"/></svg><svg id=\"svg\" width=\"430\" height=\"430\"><circle cx=\"215\" cy=\"215\" r=\"205\" fill=\"none\" stroke=\"black\" stroke-width=\"2\" stroke-dasharray=\"3,3\"/> <circle cx=\"199\" cy=\"227\" r=\"9\" fill=\"rgb(255,215,215)\" class=\"agent_1_5\"/><circle cx=\"208\" cy=\"177\" r=\"11\" fill=\"rgb(255,209,209)\" class=\"agent_1_24\"/><circle cx=\"277\" cy=\"157\" r=\"8\" fill=\"rgb(255,227,227)\" class=\"agent_1_35\"/><circle cx=\"156\" cy=\"118\" r=\"7\" fill=\"rgb(255,228,228)\" class=\"agent_1_39\"/><circle cx=\"306\" cy=\"100\" r=\"10\" fill=\"rgb(255,215,215)\" class=\"agent_1_40\"/><circle cx=\"83\" cy=\"255\" r=\"9\" fill=\"rgb(255,215,215)\" class=\"agent_1_58\"/><circle cx=\"303\" cy=\"307\" r=\"9\" fill=\"rgb(255,217,217)\" class=\"agent_1_80\"/></svg></div>"
      ],
      "text/plain": [
       "<IPython.core.display.HTML object>"
      ]
     },
     "metadata": {},
     "output_type": "display_data"
    },
    {
     "name": "stdout",
     "output_type": "stream",
     "text": [
      "t 1: i: [0.13157931 0.13585845 0.15294532 0.14572354 0.11797342 0.178656\n",
      " 0.13726398]\n"
     ]
    },
    {
     "data": {
      "text/html": [
       "<div style=\"white-space: nowrap\"><svg width=\"430\" height=\"430\" id=\"agent_1\"><circle cx=\"215\" cy=\"215\" r=\"205\" fill=\"none\" stroke=\"black\" stroke-width=\"2\" stroke-dasharray=\"3,3\"/><circle cx=\"199\" cy=\"227\" r=\"9\" fill=\"rgb(75,75,75)\"/><circle cx=\"208\" cy=\"177\" r=\"11\" fill=\"rgb(97,97,97)\"/><circle cx=\"277\" cy=\"157\" r=\"8\" fill=\"rgb(149,149,149)\"/><circle cx=\"156\" cy=\"118\" r=\"7\" fill=\"rgb(139,139,139)\"/><circle cx=\"306\" cy=\"100\" r=\"10\" fill=\"rgb(76,76,76)\"/><circle cx=\"83\" cy=\"255\" r=\"9\" fill=\"rgb(115,115,115)\"/><circle cx=\"303\" cy=\"307\" r=\"9\" fill=\"rgb(85,85,85)\"/></svg><svg id=\"svg\" width=\"430\" height=\"430\"><circle cx=\"215\" cy=\"215\" r=\"205\" fill=\"none\" stroke=\"black\" stroke-width=\"2\" stroke-dasharray=\"3,3\"/> <circle cx=\"199\" cy=\"227\" r=\"9\" fill=\"rgb(255,221,221)\" class=\"agent_1_5\"/><circle cx=\"208\" cy=\"177\" r=\"11\" fill=\"rgb(255,220,220)\" class=\"agent_1_24\"/><circle cx=\"277\" cy=\"157\" r=\"8\" fill=\"rgb(255,215,215)\" class=\"agent_1_35\"/><circle cx=\"156\" cy=\"118\" r=\"7\" fill=\"rgb(255,217,217)\" class=\"agent_1_39\"/><circle cx=\"306\" cy=\"100\" r=\"10\" fill=\"rgb(255,224,224)\" class=\"agent_1_40\"/><circle cx=\"83\" cy=\"255\" r=\"9\" fill=\"rgb(255,209,209)\" class=\"agent_1_58\"/><circle cx=\"303\" cy=\"307\" r=\"9\" fill=\"rgb(255,219,219)\" class=\"agent_1_80\"/></svg></div>"
      ],
      "text/plain": [
       "<IPython.core.display.HTML object>"
      ]
     },
     "metadata": {},
     "output_type": "display_data"
    },
    {
     "name": "stdout",
     "output_type": "stream",
     "text": [
      "t 2: have: [0.1626528  0.15543464 0.09742232 0.10703184 0.16207711 0.1550943\n",
      " 0.16028701]\n"
     ]
    },
    {
     "data": {
      "text/html": [
       "<div style=\"white-space: nowrap\"><svg width=\"430\" height=\"430\" id=\"agent_1\"><circle cx=\"215\" cy=\"215\" r=\"205\" fill=\"none\" stroke=\"black\" stroke-width=\"2\" stroke-dasharray=\"3,3\"/><circle cx=\"199\" cy=\"227\" r=\"9\" fill=\"rgb(75,75,75)\"/><circle cx=\"208\" cy=\"177\" r=\"11\" fill=\"rgb(97,97,97)\"/><circle cx=\"277\" cy=\"157\" r=\"8\" fill=\"rgb(149,149,149)\"/><circle cx=\"156\" cy=\"118\" r=\"7\" fill=\"rgb(139,139,139)\"/><circle cx=\"306\" cy=\"100\" r=\"10\" fill=\"rgb(76,76,76)\"/><circle cx=\"83\" cy=\"255\" r=\"9\" fill=\"rgb(115,115,115)\"/><circle cx=\"303\" cy=\"307\" r=\"9\" fill=\"rgb(85,85,85)\"/></svg><svg id=\"svg\" width=\"430\" height=\"430\"><circle cx=\"215\" cy=\"215\" r=\"205\" fill=\"none\" stroke=\"black\" stroke-width=\"2\" stroke-dasharray=\"3,3\"/> <circle cx=\"199\" cy=\"227\" r=\"9\" fill=\"rgb(255,213,213)\" class=\"agent_1_5\"/><circle cx=\"208\" cy=\"177\" r=\"11\" fill=\"rgb(255,215,215)\" class=\"agent_1_24\"/><circle cx=\"277\" cy=\"157\" r=\"8\" fill=\"rgb(255,230,230)\" class=\"agent_1_35\"/><circle cx=\"156\" cy=\"118\" r=\"7\" fill=\"rgb(255,227,227)\" class=\"agent_1_39\"/><circle cx=\"306\" cy=\"100\" r=\"10\" fill=\"rgb(255,213,213)\" class=\"agent_1_40\"/><circle cx=\"83\" cy=\"255\" r=\"9\" fill=\"rgb(255,215,215)\" class=\"agent_1_58\"/><circle cx=\"303\" cy=\"307\" r=\"9\" fill=\"rgb(255,214,214)\" class=\"agent_1_80\"/></svg></div>"
      ],
      "text/plain": [
       "<IPython.core.display.HTML object>"
      ]
     },
     "metadata": {},
     "output_type": "display_data"
    },
    {
     "name": "stdout",
     "output_type": "stream",
     "text": [
      "t 3: the: [0.13878289 0.14249316 0.1393969  0.14407988 0.13606872 0.15520564\n",
      " 0.1439727 ]\n"
     ]
    },
    {
     "data": {
      "text/html": [
       "<div style=\"white-space: nowrap\"><svg width=\"430\" height=\"430\" id=\"agent_1\"><circle cx=\"215\" cy=\"215\" r=\"205\" fill=\"none\" stroke=\"black\" stroke-width=\"2\" stroke-dasharray=\"3,3\"/><circle cx=\"199\" cy=\"227\" r=\"9\" fill=\"rgb(75,75,75)\"/><circle cx=\"208\" cy=\"177\" r=\"11\" fill=\"rgb(97,97,97)\"/><circle cx=\"277\" cy=\"157\" r=\"8\" fill=\"rgb(149,149,149)\"/><circle cx=\"156\" cy=\"118\" r=\"7\" fill=\"rgb(139,139,139)\"/><circle cx=\"306\" cy=\"100\" r=\"10\" fill=\"rgb(76,76,76)\"/><circle cx=\"83\" cy=\"255\" r=\"9\" fill=\"rgb(115,115,115)\"/><circle cx=\"303\" cy=\"307\" r=\"9\" fill=\"rgb(85,85,85)\"/></svg><svg id=\"svg\" width=\"430\" height=\"430\"><circle cx=\"215\" cy=\"215\" r=\"205\" fill=\"none\" stroke=\"black\" stroke-width=\"2\" stroke-dasharray=\"3,3\"/> <circle cx=\"199\" cy=\"227\" r=\"9\" fill=\"rgb(255,219,219)\" class=\"agent_1_5\"/><circle cx=\"208\" cy=\"177\" r=\"11\" fill=\"rgb(255,218,218)\" class=\"agent_1_24\"/><circle cx=\"277\" cy=\"157\" r=\"8\" fill=\"rgb(255,219,219)\" class=\"agent_1_35\"/><circle cx=\"156\" cy=\"118\" r=\"7\" fill=\"rgb(255,218,218)\" class=\"agent_1_39\"/><circle cx=\"306\" cy=\"100\" r=\"10\" fill=\"rgb(255,220,220)\" class=\"agent_1_40\"/><circle cx=\"83\" cy=\"255\" r=\"9\" fill=\"rgb(255,215,215)\" class=\"agent_1_58\"/><circle cx=\"303\" cy=\"307\" r=\"9\" fill=\"rgb(255,218,218)\" class=\"agent_1_80\"/></svg></div>"
      ],
      "text/plain": [
       "<IPython.core.display.HTML object>"
      ]
     },
     "metadata": {},
     "output_type": "display_data"
    },
    {
     "name": "stdout",
     "output_type": "stream",
     "text": [
      "t 4: smaller: [0.2730909  0.25884596 0.00692026 0.01440639 0.2718123  0.00843366\n",
      " 0.1664905 ]\n"
     ]
    },
    {
     "data": {
      "text/html": [
       "<div style=\"white-space: nowrap\"><svg width=\"430\" height=\"430\" id=\"agent_1\"><circle cx=\"215\" cy=\"215\" r=\"205\" fill=\"none\" stroke=\"black\" stroke-width=\"2\" stroke-dasharray=\"3,3\"/><circle cx=\"199\" cy=\"227\" r=\"9\" fill=\"rgb(75,75,75)\"/><circle cx=\"208\" cy=\"177\" r=\"11\" fill=\"rgb(97,97,97)\"/><circle cx=\"277\" cy=\"157\" r=\"8\" fill=\"rgb(149,149,149)\"/><circle cx=\"156\" cy=\"118\" r=\"7\" fill=\"rgb(139,139,139)\"/><circle cx=\"306\" cy=\"100\" r=\"10\" fill=\"rgb(76,76,76)\"/><circle cx=\"83\" cy=\"255\" r=\"9\" fill=\"rgb(115,115,115)\"/><circle cx=\"303\" cy=\"307\" r=\"9\" fill=\"rgb(85,85,85)\"/></svg><svg id=\"svg\" width=\"430\" height=\"430\"><circle cx=\"215\" cy=\"215\" r=\"205\" fill=\"none\" stroke=\"black\" stroke-width=\"2\" stroke-dasharray=\"3,3\"/> <circle cx=\"199\" cy=\"227\" r=\"9\" fill=\"rgb(255,185,185)\" class=\"agent_1_5\"/><circle cx=\"208\" cy=\"177\" r=\"11\" fill=\"rgb(255,188,188)\" class=\"agent_1_24\"/><circle cx=\"277\" cy=\"157\" r=\"8\" fill=\"rgb(255,253,253)\" class=\"agent_1_35\"/><circle cx=\"156\" cy=\"118\" r=\"7\" fill=\"rgb(255,251,251)\" class=\"agent_1_39\"/><circle cx=\"306\" cy=\"100\" r=\"10\" fill=\"rgb(255,185,185)\" class=\"agent_1_40\"/><circle cx=\"83\" cy=\"255\" r=\"9\" fill=\"rgb(255,252,252)\" class=\"agent_1_58\"/><circle cx=\"303\" cy=\"307\" r=\"9\" fill=\"rgb(255,212,212)\" class=\"agent_1_80\"/></svg></div>"
      ],
      "text/plain": [
       "<IPython.core.display.HTML object>"
      ]
     },
     "metadata": {},
     "output_type": "display_data"
    },
    {
     "name": "stdout",
     "output_type": "stream",
     "text": [
      "t 5: grey: [0.2941683  0.24595942 0.0024743  0.01511619 0.27363452 0.01634686\n",
      " 0.15230042]\n"
     ]
    },
    {
     "data": {
      "text/html": [
       "<div style=\"white-space: nowrap\"><svg width=\"430\" height=\"430\" id=\"agent_1\"><circle cx=\"215\" cy=\"215\" r=\"205\" fill=\"none\" stroke=\"black\" stroke-width=\"2\" stroke-dasharray=\"3,3\"/><circle cx=\"199\" cy=\"227\" r=\"9\" fill=\"rgb(75,75,75)\"/><circle cx=\"208\" cy=\"177\" r=\"11\" fill=\"rgb(97,97,97)\"/><circle cx=\"277\" cy=\"157\" r=\"8\" fill=\"rgb(149,149,149)\"/><circle cx=\"156\" cy=\"118\" r=\"7\" fill=\"rgb(139,139,139)\"/><circle cx=\"306\" cy=\"100\" r=\"10\" fill=\"rgb(76,76,76)\"/><circle cx=\"83\" cy=\"255\" r=\"9\" fill=\"rgb(115,115,115)\"/><circle cx=\"303\" cy=\"307\" r=\"9\" fill=\"rgb(85,85,85)\"/></svg><svg id=\"svg\" width=\"430\" height=\"430\"><circle cx=\"215\" cy=\"215\" r=\"205\" fill=\"none\" stroke=\"black\" stroke-width=\"2\" stroke-dasharray=\"3,3\"/> <circle cx=\"199\" cy=\"227\" r=\"9\" fill=\"rgb(255,179,179)\" class=\"agent_1_5\"/><circle cx=\"208\" cy=\"177\" r=\"11\" fill=\"rgb(255,192,192)\" class=\"agent_1_24\"/><circle cx=\"277\" cy=\"157\" r=\"8\" fill=\"rgb(255,254,254)\" class=\"agent_1_35\"/><circle cx=\"156\" cy=\"118\" r=\"7\" fill=\"rgb(255,251,251)\" class=\"agent_1_39\"/><circle cx=\"306\" cy=\"100\" r=\"10\" fill=\"rgb(255,185,185)\" class=\"agent_1_40\"/><circle cx=\"83\" cy=\"255\" r=\"9\" fill=\"rgb(255,250,250)\" class=\"agent_1_58\"/><circle cx=\"303\" cy=\"307\" r=\"9\" fill=\"rgb(255,216,216)\" class=\"agent_1_80\"/></svg></div>"
      ],
      "text/plain": [
       "<IPython.core.display.HTML object>"
      ]
     },
     "metadata": {},
     "output_type": "display_data"
    },
    {
     "name": "stdout",
     "output_type": "stream",
     "text": [
      "t 6: to: [0.29619652 0.20452061 0.00226696 0.01855962 0.26383808 0.05657451\n",
      " 0.15804364]\n"
     ]
    },
    {
     "data": {
      "text/html": [
       "<div style=\"white-space: nowrap\"><svg width=\"430\" height=\"430\" id=\"agent_1\"><circle cx=\"215\" cy=\"215\" r=\"205\" fill=\"none\" stroke=\"black\" stroke-width=\"2\" stroke-dasharray=\"3,3\"/><circle cx=\"199\" cy=\"227\" r=\"9\" fill=\"rgb(75,75,75)\"/><circle cx=\"208\" cy=\"177\" r=\"11\" fill=\"rgb(97,97,97)\"/><circle cx=\"277\" cy=\"157\" r=\"8\" fill=\"rgb(149,149,149)\"/><circle cx=\"156\" cy=\"118\" r=\"7\" fill=\"rgb(139,139,139)\"/><circle cx=\"306\" cy=\"100\" r=\"10\" fill=\"rgb(76,76,76)\"/><circle cx=\"83\" cy=\"255\" r=\"9\" fill=\"rgb(115,115,115)\"/><circle cx=\"303\" cy=\"307\" r=\"9\" fill=\"rgb(85,85,85)\"/></svg><svg id=\"svg\" width=\"430\" height=\"430\"><circle cx=\"215\" cy=\"215\" r=\"205\" fill=\"none\" stroke=\"black\" stroke-width=\"2\" stroke-dasharray=\"3,3\"/> <circle cx=\"199\" cy=\"227\" r=\"9\" fill=\"rgb(255,179,179)\" class=\"agent_1_5\"/><circle cx=\"208\" cy=\"177\" r=\"11\" fill=\"rgb(255,202,202)\" class=\"agent_1_24\"/><circle cx=\"277\" cy=\"157\" r=\"8\" fill=\"rgb(255,254,254)\" class=\"agent_1_35\"/><circle cx=\"156\" cy=\"118\" r=\"7\" fill=\"rgb(255,250,250)\" class=\"agent_1_39\"/><circle cx=\"306\" cy=\"100\" r=\"10\" fill=\"rgb(255,187,187)\" class=\"agent_1_40\"/><circle cx=\"83\" cy=\"255\" r=\"9\" fill=\"rgb(255,240,240)\" class=\"agent_1_58\"/><circle cx=\"303\" cy=\"307\" r=\"9\" fill=\"rgb(255,214,214)\" class=\"agent_1_80\"/></svg></div>"
      ],
      "text/plain": [
       "<IPython.core.display.HTML object>"
      ]
     },
     "metadata": {},
     "output_type": "display_data"
    },
    {
     "name": "stdout",
     "output_type": "stream",
     "text": [
      "t 7: the: [0.17148916 0.18894412 0.06838467 0.07965457 0.16816957 0.15798517\n",
      " 0.16537264]\n"
     ]
    },
    {
     "data": {
      "text/html": [
       "<div style=\"white-space: nowrap\"><svg width=\"430\" height=\"430\" id=\"agent_1\"><circle cx=\"215\" cy=\"215\" r=\"205\" fill=\"none\" stroke=\"black\" stroke-width=\"2\" stroke-dasharray=\"3,3\"/><circle cx=\"199\" cy=\"227\" r=\"9\" fill=\"rgb(75,75,75)\"/><circle cx=\"208\" cy=\"177\" r=\"11\" fill=\"rgb(97,97,97)\"/><circle cx=\"277\" cy=\"157\" r=\"8\" fill=\"rgb(149,149,149)\"/><circle cx=\"156\" cy=\"118\" r=\"7\" fill=\"rgb(139,139,139)\"/><circle cx=\"306\" cy=\"100\" r=\"10\" fill=\"rgb(76,76,76)\"/><circle cx=\"83\" cy=\"255\" r=\"9\" fill=\"rgb(115,115,115)\"/><circle cx=\"303\" cy=\"307\" r=\"9\" fill=\"rgb(85,85,85)\"/></svg><svg id=\"svg\" width=\"430\" height=\"430\"><circle cx=\"215\" cy=\"215\" r=\"205\" fill=\"none\" stroke=\"black\" stroke-width=\"2\" stroke-dasharray=\"3,3\"/> <circle cx=\"199\" cy=\"227\" r=\"9\" fill=\"rgb(255,211,211)\" class=\"agent_1_5\"/><circle cx=\"208\" cy=\"177\" r=\"11\" fill=\"rgb(255,206,206)\" class=\"agent_1_24\"/><circle cx=\"277\" cy=\"157\" r=\"8\" fill=\"rgb(255,237,237)\" class=\"agent_1_35\"/><circle cx=\"156\" cy=\"118\" r=\"7\" fill=\"rgb(255,234,234)\" class=\"agent_1_39\"/><circle cx=\"306\" cy=\"100\" r=\"10\" fill=\"rgb(255,212,212)\" class=\"agent_1_40\"/><circle cx=\"83\" cy=\"255\" r=\"9\" fill=\"rgb(255,214,214)\" class=\"agent_1_58\"/><circle cx=\"303\" cy=\"307\" r=\"9\" fill=\"rgb(255,212,212)\" class=\"agent_1_80\"/></svg></div>"
      ],
      "text/plain": [
       "<IPython.core.display.HTML object>"
      ]
     },
     "metadata": {},
     "output_type": "display_data"
    },
    {
     "name": "stdout",
     "output_type": "stream",
     "text": [
      "t 8: upper: [0.19107948 0.16557418 0.08659851 0.09206507 0.20016955 0.11229312\n",
      " 0.15222004]\n"
     ]
    },
    {
     "data": {
      "text/html": [
       "<div style=\"white-space: nowrap\"><svg width=\"430\" height=\"430\" id=\"agent_1\"><circle cx=\"215\" cy=\"215\" r=\"205\" fill=\"none\" stroke=\"black\" stroke-width=\"2\" stroke-dasharray=\"3,3\"/><circle cx=\"199\" cy=\"227\" r=\"9\" fill=\"rgb(75,75,75)\"/><circle cx=\"208\" cy=\"177\" r=\"11\" fill=\"rgb(97,97,97)\"/><circle cx=\"277\" cy=\"157\" r=\"8\" fill=\"rgb(149,149,149)\"/><circle cx=\"156\" cy=\"118\" r=\"7\" fill=\"rgb(139,139,139)\"/><circle cx=\"306\" cy=\"100\" r=\"10\" fill=\"rgb(76,76,76)\"/><circle cx=\"83\" cy=\"255\" r=\"9\" fill=\"rgb(115,115,115)\"/><circle cx=\"303\" cy=\"307\" r=\"9\" fill=\"rgb(85,85,85)\"/></svg><svg id=\"svg\" width=\"430\" height=\"430\"><circle cx=\"215\" cy=\"215\" r=\"205\" fill=\"none\" stroke=\"black\" stroke-width=\"2\" stroke-dasharray=\"3,3\"/> <circle cx=\"199\" cy=\"227\" r=\"9\" fill=\"rgb(255,206,206)\" class=\"agent_1_5\"/><circle cx=\"208\" cy=\"177\" r=\"11\" fill=\"rgb(255,212,212)\" class=\"agent_1_24\"/><circle cx=\"277\" cy=\"157\" r=\"8\" fill=\"rgb(255,232,232)\" class=\"agent_1_35\"/><circle cx=\"156\" cy=\"118\" r=\"7\" fill=\"rgb(255,231,231)\" class=\"agent_1_39\"/><circle cx=\"306\" cy=\"100\" r=\"10\" fill=\"rgb(255,203,203)\" class=\"agent_1_40\"/><circle cx=\"83\" cy=\"255\" r=\"9\" fill=\"rgb(255,226,226)\" class=\"agent_1_58\"/><circle cx=\"303\" cy=\"307\" r=\"9\" fill=\"rgb(255,216,216)\" class=\"agent_1_80\"/></svg></div>"
      ],
      "text/plain": [
       "<IPython.core.display.HTML object>"
      ]
     },
     "metadata": {},
     "output_type": "display_data"
    },
    {
     "name": "stdout",
     "output_type": "stream",
     "text": [
      "t 9: left: [0.204236   0.16699292 0.07229861 0.07915736 0.19902995 0.12388201\n",
      " 0.15440312]\n"
     ]
    },
    {
     "data": {
      "text/html": [
       "<div style=\"white-space: nowrap\"><svg width=\"430\" height=\"430\" id=\"agent_1\"><circle cx=\"215\" cy=\"215\" r=\"205\" fill=\"none\" stroke=\"black\" stroke-width=\"2\" stroke-dasharray=\"3,3\"/><circle cx=\"199\" cy=\"227\" r=\"9\" fill=\"rgb(75,75,75)\"/><circle cx=\"208\" cy=\"177\" r=\"11\" fill=\"rgb(97,97,97)\"/><circle cx=\"277\" cy=\"157\" r=\"8\" fill=\"rgb(149,149,149)\"/><circle cx=\"156\" cy=\"118\" r=\"7\" fill=\"rgb(139,139,139)\"/><circle cx=\"306\" cy=\"100\" r=\"10\" fill=\"rgb(76,76,76)\"/><circle cx=\"83\" cy=\"255\" r=\"9\" fill=\"rgb(115,115,115)\"/><circle cx=\"303\" cy=\"307\" r=\"9\" fill=\"rgb(85,85,85)\"/></svg><svg id=\"svg\" width=\"430\" height=\"430\"><circle cx=\"215\" cy=\"215\" r=\"205\" fill=\"none\" stroke=\"black\" stroke-width=\"2\" stroke-dasharray=\"3,3\"/> <circle cx=\"199\" cy=\"227\" r=\"9\" fill=\"rgb(255,202,202)\" class=\"agent_1_5\"/><circle cx=\"208\" cy=\"177\" r=\"11\" fill=\"rgb(255,212,212)\" class=\"agent_1_24\"/><circle cx=\"277\" cy=\"157\" r=\"8\" fill=\"rgb(255,236,236)\" class=\"agent_1_35\"/><circle cx=\"156\" cy=\"118\" r=\"7\" fill=\"rgb(255,234,234)\" class=\"agent_1_39\"/><circle cx=\"306\" cy=\"100\" r=\"10\" fill=\"rgb(255,204,204)\" class=\"agent_1_40\"/><circle cx=\"83\" cy=\"255\" r=\"9\" fill=\"rgb(255,223,223)\" class=\"agent_1_58\"/><circle cx=\"303\" cy=\"307\" r=\"9\" fill=\"rgb(255,215,215)\" class=\"agent_1_80\"/></svg></div>"
      ],
      "text/plain": [
       "<IPython.core.display.HTML object>"
      ]
     },
     "metadata": {},
     "output_type": "display_data"
    },
    {
     "name": "stdout",
     "output_type": "stream",
     "text": [
      "t 10: as: [0.10874343 0.12358972 0.20458128 0.18824181 0.09354234 0.1599309\n",
      " 0.12137055]\n"
     ]
    },
    {
     "data": {
      "text/html": [
       "<div style=\"white-space: nowrap\"><svg width=\"430\" height=\"430\" id=\"agent_1\"><circle cx=\"215\" cy=\"215\" r=\"205\" fill=\"none\" stroke=\"black\" stroke-width=\"2\" stroke-dasharray=\"3,3\"/><circle cx=\"199\" cy=\"227\" r=\"9\" fill=\"rgb(75,75,75)\"/><circle cx=\"208\" cy=\"177\" r=\"11\" fill=\"rgb(97,97,97)\"/><circle cx=\"277\" cy=\"157\" r=\"8\" fill=\"rgb(149,149,149)\"/><circle cx=\"156\" cy=\"118\" r=\"7\" fill=\"rgb(139,139,139)\"/><circle cx=\"306\" cy=\"100\" r=\"10\" fill=\"rgb(76,76,76)\"/><circle cx=\"83\" cy=\"255\" r=\"9\" fill=\"rgb(115,115,115)\"/><circle cx=\"303\" cy=\"307\" r=\"9\" fill=\"rgb(85,85,85)\"/></svg><svg id=\"svg\" width=\"430\" height=\"430\"><circle cx=\"215\" cy=\"215\" r=\"205\" fill=\"none\" stroke=\"black\" stroke-width=\"2\" stroke-dasharray=\"3,3\"/> <circle cx=\"199\" cy=\"227\" r=\"9\" fill=\"rgb(255,227,227)\" class=\"agent_1_5\"/><circle cx=\"208\" cy=\"177\" r=\"11\" fill=\"rgb(255,223,223)\" class=\"agent_1_24\"/><circle cx=\"277\" cy=\"157\" r=\"8\" fill=\"rgb(255,202,202)\" class=\"agent_1_35\"/><circle cx=\"156\" cy=\"118\" r=\"7\" fill=\"rgb(255,206,206)\" class=\"agent_1_39\"/><circle cx=\"306\" cy=\"100\" r=\"10\" fill=\"rgb(255,231,231)\" class=\"agent_1_40\"/><circle cx=\"83\" cy=\"255\" r=\"9\" fill=\"rgb(255,214,214)\" class=\"agent_1_58\"/><circle cx=\"303\" cy=\"307\" r=\"9\" fill=\"rgb(255,224,224)\" class=\"agent_1_80\"/></svg></div>"
      ],
      "text/plain": [
       "<IPython.core.display.HTML object>"
      ]
     },
     "metadata": {},
     "output_type": "display_data"
    },
    {
     "name": "stdout",
     "output_type": "stream",
     "text": [
      "t 11: well: [0.17525136 0.19626221 0.07842428 0.07803413 0.16635016 0.14826877\n",
      " 0.15740901]\n"
     ]
    },
    {
     "data": {
      "text/html": [
       "<div style=\"white-space: nowrap\"><svg width=\"430\" height=\"430\" id=\"agent_1\"><circle cx=\"215\" cy=\"215\" r=\"205\" fill=\"none\" stroke=\"black\" stroke-width=\"2\" stroke-dasharray=\"3,3\"/><circle cx=\"199\" cy=\"227\" r=\"9\" fill=\"rgb(75,75,75)\"/><circle cx=\"208\" cy=\"177\" r=\"11\" fill=\"rgb(97,97,97)\"/><circle cx=\"277\" cy=\"157\" r=\"8\" fill=\"rgb(149,149,149)\"/><circle cx=\"156\" cy=\"118\" r=\"7\" fill=\"rgb(139,139,139)\"/><circle cx=\"306\" cy=\"100\" r=\"10\" fill=\"rgb(76,76,76)\"/><circle cx=\"83\" cy=\"255\" r=\"9\" fill=\"rgb(115,115,115)\"/><circle cx=\"303\" cy=\"307\" r=\"9\" fill=\"rgb(85,85,85)\"/></svg><svg id=\"svg\" width=\"430\" height=\"430\"><circle cx=\"215\" cy=\"215\" r=\"205\" fill=\"none\" stroke=\"black\" stroke-width=\"2\" stroke-dasharray=\"3,3\"/> <circle cx=\"199\" cy=\"227\" r=\"9\" fill=\"rgb(255,210,210)\" class=\"agent_1_5\"/><circle cx=\"208\" cy=\"177\" r=\"11\" fill=\"rgb(255,204,204)\" class=\"agent_1_24\"/><circle cx=\"277\" cy=\"157\" r=\"8\" fill=\"rgb(255,235,235)\" class=\"agent_1_35\"/><circle cx=\"156\" cy=\"118\" r=\"7\" fill=\"rgb(255,235,235)\" class=\"agent_1_39\"/><circle cx=\"306\" cy=\"100\" r=\"10\" fill=\"rgb(255,212,212)\" class=\"agent_1_40\"/><circle cx=\"83\" cy=\"255\" r=\"9\" fill=\"rgb(255,217,217)\" class=\"agent_1_58\"/><circle cx=\"303\" cy=\"307\" r=\"9\" fill=\"rgb(255,214,214)\" class=\"agent_1_80\"/></svg></div>"
      ],
      "text/plain": [
       "<IPython.core.display.HTML object>"
      ]
     },
     "metadata": {},
     "output_type": "display_data"
    },
    {
     "name": "stdout",
     "output_type": "stream",
     "text": [
      "t 12: .: [0.18402864 0.18614107 0.0788952  0.08152571 0.1770257  0.13874567\n",
      " 0.1536381 ]\n"
     ]
    },
    {
     "data": {
      "text/html": [
       "<div style=\"white-space: nowrap\"><svg width=\"430\" height=\"430\" id=\"agent_1\"><circle cx=\"215\" cy=\"215\" r=\"205\" fill=\"none\" stroke=\"black\" stroke-width=\"2\" stroke-dasharray=\"3,3\"/><circle cx=\"199\" cy=\"227\" r=\"9\" fill=\"rgb(75,75,75)\"/><circle cx=\"208\" cy=\"177\" r=\"11\" fill=\"rgb(97,97,97)\"/><circle cx=\"277\" cy=\"157\" r=\"8\" fill=\"rgb(149,149,149)\"/><circle cx=\"156\" cy=\"118\" r=\"7\" fill=\"rgb(139,139,139)\"/><circle cx=\"306\" cy=\"100\" r=\"10\" fill=\"rgb(76,76,76)\"/><circle cx=\"83\" cy=\"255\" r=\"9\" fill=\"rgb(115,115,115)\"/><circle cx=\"303\" cy=\"307\" r=\"9\" fill=\"rgb(85,85,85)\"/></svg><svg id=\"svg\" width=\"430\" height=\"430\"><circle cx=\"215\" cy=\"215\" r=\"205\" fill=\"none\" stroke=\"black\" stroke-width=\"2\" stroke-dasharray=\"3,3\"/> <circle cx=\"199\" cy=\"227\" r=\"9\" fill=\"rgb(255,208,208)\" class=\"agent_1_5\"/><circle cx=\"208\" cy=\"177\" r=\"11\" fill=\"rgb(255,207,207)\" class=\"agent_1_24\"/><circle cx=\"277\" cy=\"157\" r=\"8\" fill=\"rgb(255,234,234)\" class=\"agent_1_35\"/><circle cx=\"156\" cy=\"118\" r=\"7\" fill=\"rgb(255,234,234)\" class=\"agent_1_39\"/><circle cx=\"306\" cy=\"100\" r=\"10\" fill=\"rgb(255,209,209)\" class=\"agent_1_40\"/><circle cx=\"83\" cy=\"255\" r=\"9\" fill=\"rgb(255,219,219)\" class=\"agent_1_58\"/><circle cx=\"303\" cy=\"307\" r=\"9\" fill=\"rgb(255,215,215)\" class=\"agent_1_80\"/></svg></div>"
      ],
      "text/plain": [
       "<IPython.core.display.HTML object>"
      ]
     },
     "metadata": {},
     "output_type": "display_data"
    },
    {
     "name": "stdout",
     "output_type": "stream",
     "text": [
      "t 13: which: [0.15272906 0.17709388 0.11082358 0.10413576 0.14414185 0.16218866\n",
      " 0.14888722]\n"
     ]
    },
    {
     "data": {
      "text/html": [
       "<div style=\"white-space: nowrap\"><svg width=\"430\" height=\"430\" id=\"agent_1\"><circle cx=\"215\" cy=\"215\" r=\"205\" fill=\"none\" stroke=\"black\" stroke-width=\"2\" stroke-dasharray=\"3,3\"/><circle cx=\"199\" cy=\"227\" r=\"9\" fill=\"rgb(75,75,75)\"/><circle cx=\"208\" cy=\"177\" r=\"11\" fill=\"rgb(97,97,97)\"/><circle cx=\"277\" cy=\"157\" r=\"8\" fill=\"rgb(149,149,149)\"/><circle cx=\"156\" cy=\"118\" r=\"7\" fill=\"rgb(139,139,139)\"/><circle cx=\"306\" cy=\"100\" r=\"10\" fill=\"rgb(76,76,76)\"/><circle cx=\"83\" cy=\"255\" r=\"9\" fill=\"rgb(115,115,115)\"/><circle cx=\"303\" cy=\"307\" r=\"9\" fill=\"rgb(85,85,85)\"/></svg><svg id=\"svg\" width=\"430\" height=\"430\"><circle cx=\"215\" cy=\"215\" r=\"205\" fill=\"none\" stroke=\"black\" stroke-width=\"2\" stroke-dasharray=\"3,3\"/> <circle cx=\"199\" cy=\"227\" r=\"9\" fill=\"rgb(255,216,216)\" class=\"agent_1_5\"/><circle cx=\"208\" cy=\"177\" r=\"11\" fill=\"rgb(255,209,209)\" class=\"agent_1_24\"/><circle cx=\"277\" cy=\"157\" r=\"8\" fill=\"rgb(255,226,226)\" class=\"agent_1_35\"/><circle cx=\"156\" cy=\"118\" r=\"7\" fill=\"rgb(255,228,228)\" class=\"agent_1_39\"/><circle cx=\"306\" cy=\"100\" r=\"10\" fill=\"rgb(255,218,218)\" class=\"agent_1_40\"/><circle cx=\"83\" cy=\"255\" r=\"9\" fill=\"rgb(255,213,213)\" class=\"agent_1_58\"/><circle cx=\"303\" cy=\"307\" r=\"9\" fill=\"rgb(255,217,217)\" class=\"agent_1_80\"/></svg></div>"
      ],
      "text/plain": [
       "<IPython.core.display.HTML object>"
      ]
     },
     "metadata": {},
     "output_type": "display_data"
    },
    {
     "name": "stdout",
     "output_type": "stream",
     "text": [
      "t 14: do: [0.22401221 0.19543193 0.02293514 0.03688746 0.22863938 0.10739125\n",
      " 0.18470266]\n"
     ]
    },
    {
     "data": {
      "text/html": [
       "<div style=\"white-space: nowrap\"><svg width=\"430\" height=\"430\" id=\"agent_1\"><circle cx=\"215\" cy=\"215\" r=\"205\" fill=\"none\" stroke=\"black\" stroke-width=\"2\" stroke-dasharray=\"3,3\"/><circle cx=\"199\" cy=\"227\" r=\"9\" fill=\"rgb(75,75,75)\"/><circle cx=\"208\" cy=\"177\" r=\"11\" fill=\"rgb(97,97,97)\"/><circle cx=\"277\" cy=\"157\" r=\"8\" fill=\"rgb(149,149,149)\"/><circle cx=\"156\" cy=\"118\" r=\"7\" fill=\"rgb(139,139,139)\"/><circle cx=\"306\" cy=\"100\" r=\"10\" fill=\"rgb(76,76,76)\"/><circle cx=\"83\" cy=\"255\" r=\"9\" fill=\"rgb(115,115,115)\"/><circle cx=\"303\" cy=\"307\" r=\"9\" fill=\"rgb(85,85,85)\"/></svg><svg id=\"svg\" width=\"430\" height=\"430\"><circle cx=\"215\" cy=\"215\" r=\"205\" fill=\"none\" stroke=\"black\" stroke-width=\"2\" stroke-dasharray=\"3,3\"/> <circle cx=\"199\" cy=\"227\" r=\"9\" fill=\"rgb(255,197,197)\" class=\"agent_1_5\"/><circle cx=\"208\" cy=\"177\" r=\"11\" fill=\"rgb(255,205,205)\" class=\"agent_1_24\"/><circle cx=\"277\" cy=\"157\" r=\"8\" fill=\"rgb(255,249,249)\" class=\"agent_1_35\"/><circle cx=\"156\" cy=\"118\" r=\"7\" fill=\"rgb(255,245,245)\" class=\"agent_1_39\"/><circle cx=\"306\" cy=\"100\" r=\"10\" fill=\"rgb(255,196,196)\" class=\"agent_1_40\"/><circle cx=\"83\" cy=\"255\" r=\"9\" fill=\"rgb(255,227,227)\" class=\"agent_1_58\"/><circle cx=\"303\" cy=\"307\" r=\"9\" fill=\"rgb(255,207,207)\" class=\"agent_1_80\"/></svg></div>"
      ],
      "text/plain": [
       "<IPython.core.display.HTML object>"
      ]
     },
     "metadata": {},
     "output_type": "display_data"
    },
    {
     "name": "stdout",
     "output_type": "stream",
     "text": [
      "t 15: we: [0.1219406  0.15975712 0.1663349  0.16366625 0.09295128 0.17999451\n",
      " 0.11535535]\n"
     ]
    },
    {
     "data": {
      "text/html": [
       "<div style=\"white-space: nowrap\"><svg width=\"430\" height=\"430\" id=\"agent_1\"><circle cx=\"215\" cy=\"215\" r=\"205\" fill=\"none\" stroke=\"black\" stroke-width=\"2\" stroke-dasharray=\"3,3\"/><circle cx=\"199\" cy=\"227\" r=\"9\" fill=\"rgb(75,75,75)\"/><circle cx=\"208\" cy=\"177\" r=\"11\" fill=\"rgb(97,97,97)\"/><circle cx=\"277\" cy=\"157\" r=\"8\" fill=\"rgb(149,149,149)\"/><circle cx=\"156\" cy=\"118\" r=\"7\" fill=\"rgb(139,139,139)\"/><circle cx=\"306\" cy=\"100\" r=\"10\" fill=\"rgb(76,76,76)\"/><circle cx=\"83\" cy=\"255\" r=\"9\" fill=\"rgb(115,115,115)\"/><circle cx=\"303\" cy=\"307\" r=\"9\" fill=\"rgb(85,85,85)\"/></svg><svg id=\"svg\" width=\"430\" height=\"430\"><circle cx=\"215\" cy=\"215\" r=\"205\" fill=\"none\" stroke=\"black\" stroke-width=\"2\" stroke-dasharray=\"3,3\"/> <circle cx=\"199\" cy=\"227\" r=\"9\" fill=\"rgb(255,223,223)\" class=\"agent_1_5\"/><circle cx=\"208\" cy=\"177\" r=\"11\" fill=\"rgb(255,214,214)\" class=\"agent_1_24\"/><circle cx=\"277\" cy=\"157\" r=\"8\" fill=\"rgb(255,212,212)\" class=\"agent_1_35\"/><circle cx=\"156\" cy=\"118\" r=\"7\" fill=\"rgb(255,213,213)\" class=\"agent_1_39\"/><circle cx=\"306\" cy=\"100\" r=\"10\" fill=\"rgb(255,231,231)\" class=\"agent_1_40\"/><circle cx=\"83\" cy=\"255\" r=\"9\" fill=\"rgb(255,209,209)\" class=\"agent_1_58\"/><circle cx=\"303\" cy=\"307\" r=\"9\" fill=\"rgb(255,225,225)\" class=\"agent_1_80\"/></svg></div>"
      ],
      "text/plain": [
       "<IPython.core.display.HTML object>"
      ]
     },
     "metadata": {},
     "output_type": "display_data"
    },
    {
     "name": "stdout",
     "output_type": "stream",
     "text": [
      "t 16: click: [0.17012833 0.16560552 0.09437792 0.10037842 0.17215581 0.1424035\n",
      " 0.15495053]\n"
     ]
    },
    {
     "data": {
      "text/html": [
       "<div style=\"white-space: nowrap\"><svg width=\"430\" height=\"430\" id=\"agent_1\"><circle cx=\"215\" cy=\"215\" r=\"205\" fill=\"none\" stroke=\"black\" stroke-width=\"2\" stroke-dasharray=\"3,3\"/><circle cx=\"199\" cy=\"227\" r=\"9\" fill=\"rgb(75,75,75)\"/><circle cx=\"208\" cy=\"177\" r=\"11\" fill=\"rgb(97,97,97)\"/><circle cx=\"277\" cy=\"157\" r=\"8\" fill=\"rgb(149,149,149)\"/><circle cx=\"156\" cy=\"118\" r=\"7\" fill=\"rgb(139,139,139)\"/><circle cx=\"306\" cy=\"100\" r=\"10\" fill=\"rgb(76,76,76)\"/><circle cx=\"83\" cy=\"255\" r=\"9\" fill=\"rgb(115,115,115)\"/><circle cx=\"303\" cy=\"307\" r=\"9\" fill=\"rgb(85,85,85)\"/></svg><svg id=\"svg\" width=\"430\" height=\"430\"><circle cx=\"215\" cy=\"215\" r=\"205\" fill=\"none\" stroke=\"black\" stroke-width=\"2\" stroke-dasharray=\"3,3\"/> <circle cx=\"199\" cy=\"227\" r=\"9\" fill=\"rgb(255,211,211)\" class=\"agent_1_5\"/><circle cx=\"208\" cy=\"177\" r=\"11\" fill=\"rgb(255,212,212)\" class=\"agent_1_24\"/><circle cx=\"277\" cy=\"157\" r=\"8\" fill=\"rgb(255,230,230)\" class=\"agent_1_35\"/><circle cx=\"156\" cy=\"118\" r=\"7\" fill=\"rgb(255,229,229)\" class=\"agent_1_39\"/><circle cx=\"306\" cy=\"100\" r=\"10\" fill=\"rgb(255,211,211)\" class=\"agent_1_40\"/><circle cx=\"83\" cy=\"255\" r=\"9\" fill=\"rgb(255,218,218)\" class=\"agent_1_58\"/><circle cx=\"303\" cy=\"307\" r=\"9\" fill=\"rgb(255,215,215)\" class=\"agent_1_80\"/></svg></div>"
      ],
      "text/plain": [
       "<IPython.core.display.HTML object>"
      ]
     },
     "metadata": {},
     "output_type": "display_data"
    },
    {
     "name": "stdout",
     "output_type": "stream",
     "text": [
      "t 17: on: [0.07828718 0.10663711 0.26084194 0.22303505 0.06500164 0.18042472\n",
      " 0.08577236]\n"
     ]
    },
    {
     "data": {
      "text/html": [
       "<div style=\"white-space: nowrap\"><svg width=\"430\" height=\"430\" id=\"agent_1\"><circle cx=\"215\" cy=\"215\" r=\"205\" fill=\"none\" stroke=\"black\" stroke-width=\"2\" stroke-dasharray=\"3,3\"/><circle cx=\"199\" cy=\"227\" r=\"9\" fill=\"rgb(75,75,75)\"/><circle cx=\"208\" cy=\"177\" r=\"11\" fill=\"rgb(97,97,97)\"/><circle cx=\"277\" cy=\"157\" r=\"8\" fill=\"rgb(149,149,149)\"/><circle cx=\"156\" cy=\"118\" r=\"7\" fill=\"rgb(139,139,139)\"/><circle cx=\"306\" cy=\"100\" r=\"10\" fill=\"rgb(76,76,76)\"/><circle cx=\"83\" cy=\"255\" r=\"9\" fill=\"rgb(115,115,115)\"/><circle cx=\"303\" cy=\"307\" r=\"9\" fill=\"rgb(85,85,85)\"/></svg><svg id=\"svg\" width=\"430\" height=\"430\"><circle cx=\"215\" cy=\"215\" r=\"205\" fill=\"none\" stroke=\"black\" stroke-width=\"2\" stroke-dasharray=\"3,3\"/> <circle cx=\"199\" cy=\"227\" r=\"9\" fill=\"rgb(255,235,235)\" class=\"agent_1_5\"/><circle cx=\"208\" cy=\"177\" r=\"11\" fill=\"rgb(255,227,227)\" class=\"agent_1_24\"/><circle cx=\"277\" cy=\"157\" r=\"8\" fill=\"rgb(255,188,188)\" class=\"agent_1_35\"/><circle cx=\"156\" cy=\"118\" r=\"7\" fill=\"rgb(255,198,198)\" class=\"agent_1_39\"/><circle cx=\"306\" cy=\"100\" r=\"10\" fill=\"rgb(255,238,238)\" class=\"agent_1_40\"/><circle cx=\"83\" cy=\"255\" r=\"9\" fill=\"rgb(255,208,208)\" class=\"agent_1_58\"/><circle cx=\"303\" cy=\"307\" r=\"9\" fill=\"rgb(255,233,233)\" class=\"agent_1_80\"/></svg></div>"
      ],
      "text/plain": [
       "<IPython.core.display.HTML object>"
      ]
     },
     "metadata": {},
     "output_type": "display_data"
    },
    {
     "name": "stdout",
     "output_type": "stream",
     "text": [
      "t 18: ?: [0.14535564 0.18964194 0.11706295 0.08816189 0.14646776 0.17428286\n",
      " 0.13902707]\n"
     ]
    },
    {
     "data": {
      "text/html": [
       "<div style=\"white-space: nowrap\"><svg width=\"430\" height=\"430\" id=\"agent_1\"><circle cx=\"215\" cy=\"215\" r=\"205\" fill=\"none\" stroke=\"black\" stroke-width=\"2\" stroke-dasharray=\"3,3\"/><circle cx=\"199\" cy=\"227\" r=\"9\" fill=\"rgb(75,75,75)\"/><circle cx=\"208\" cy=\"177\" r=\"11\" fill=\"rgb(97,97,97)\"/><circle cx=\"277\" cy=\"157\" r=\"8\" fill=\"rgb(149,149,149)\"/><circle cx=\"156\" cy=\"118\" r=\"7\" fill=\"rgb(139,139,139)\"/><circle cx=\"306\" cy=\"100\" r=\"10\" fill=\"rgb(76,76,76)\"/><circle cx=\"83\" cy=\"255\" r=\"9\" fill=\"rgb(115,115,115)\"/><circle cx=\"303\" cy=\"307\" r=\"9\" fill=\"rgb(85,85,85)\"/></svg><svg id=\"svg\" width=\"430\" height=\"430\"><circle cx=\"215\" cy=\"215\" r=\"205\" fill=\"none\" stroke=\"black\" stroke-width=\"2\" stroke-dasharray=\"3,3\"/> <circle cx=\"199\" cy=\"227\" r=\"9\" fill=\"rgb(255,217,217)\" class=\"agent_1_5\"/><circle cx=\"208\" cy=\"177\" r=\"11\" fill=\"rgb(255,206,206)\" class=\"agent_1_24\"/><circle cx=\"277\" cy=\"157\" r=\"8\" fill=\"rgb(255,225,225)\" class=\"agent_1_35\"/><circle cx=\"156\" cy=\"118\" r=\"7\" fill=\"rgb(255,232,232)\" class=\"agent_1_39\"/><circle cx=\"306\" cy=\"100\" r=\"10\" fill=\"rgb(255,217,217)\" class=\"agent_1_40\"/><circle cx=\"83\" cy=\"255\" r=\"9\" fill=\"rgb(255,210,210)\" class=\"agent_1_58\"/><circle cx=\"303\" cy=\"307\" r=\"9\" fill=\"rgb(255,219,219)\" class=\"agent_1_80\"/></svg></div>"
      ],
      "text/plain": [
       "<IPython.core.display.HTML object>"
      ]
     },
     "metadata": {},
     "output_type": "display_data"
    },
    {
     "name": "stdout",
     "output_type": "stream",
     "text": [
      "t 19: the: [0.14536917 0.18019067 0.10959326 0.09271528 0.14436376 0.17562902\n",
      " 0.15213878]\n"
     ]
    },
    {
     "data": {
      "text/html": [
       "<div style=\"white-space: nowrap\"><svg width=\"430\" height=\"430\" id=\"agent_1\"><circle cx=\"215\" cy=\"215\" r=\"205\" fill=\"none\" stroke=\"black\" stroke-width=\"2\" stroke-dasharray=\"3,3\"/><circle cx=\"199\" cy=\"227\" r=\"9\" fill=\"rgb(75,75,75)\"/><circle cx=\"208\" cy=\"177\" r=\"11\" fill=\"rgb(97,97,97)\"/><circle cx=\"277\" cy=\"157\" r=\"8\" fill=\"rgb(149,149,149)\"/><circle cx=\"156\" cy=\"118\" r=\"7\" fill=\"rgb(139,139,139)\"/><circle cx=\"306\" cy=\"100\" r=\"10\" fill=\"rgb(76,76,76)\"/><circle cx=\"83\" cy=\"255\" r=\"9\" fill=\"rgb(115,115,115)\"/><circle cx=\"303\" cy=\"307\" r=\"9\" fill=\"rgb(85,85,85)\"/></svg><svg id=\"svg\" width=\"430\" height=\"430\"><circle cx=\"215\" cy=\"215\" r=\"205\" fill=\"none\" stroke=\"black\" stroke-width=\"2\" stroke-dasharray=\"3,3\"/> <circle cx=\"199\" cy=\"227\" r=\"9\" fill=\"rgb(255,217,217)\" class=\"agent_1_5\"/><circle cx=\"208\" cy=\"177\" r=\"11\" fill=\"rgb(255,209,209)\" class=\"agent_1_24\"/><circle cx=\"277\" cy=\"157\" r=\"8\" fill=\"rgb(255,227,227)\" class=\"agent_1_35\"/><circle cx=\"156\" cy=\"118\" r=\"7\" fill=\"rgb(255,231,231)\" class=\"agent_1_39\"/><circle cx=\"306\" cy=\"100\" r=\"10\" fill=\"rgb(255,218,218)\" class=\"agent_1_40\"/><circle cx=\"83\" cy=\"255\" r=\"9\" fill=\"rgb(255,210,210)\" class=\"agent_1_58\"/><circle cx=\"303\" cy=\"307\" r=\"9\" fill=\"rgb(255,216,216)\" class=\"agent_1_80\"/></svg></div>"
      ],
      "text/plain": [
       "<IPython.core.display.HTML object>"
      ]
     },
     "metadata": {},
     "output_type": "display_data"
    },
    {
     "name": "stdout",
     "output_type": "stream",
     "text": [
      "t 20: middle: [0.26612    0.25426844 0.00303088 0.00817003 0.26519713 0.00274975\n",
      " 0.20046382]\n"
     ]
    },
    {
     "data": {
      "text/html": [
       "<div style=\"white-space: nowrap\"><svg width=\"430\" height=\"430\" id=\"agent_1\"><circle cx=\"215\" cy=\"215\" r=\"205\" fill=\"none\" stroke=\"black\" stroke-width=\"2\" stroke-dasharray=\"3,3\"/><circle cx=\"199\" cy=\"227\" r=\"9\" fill=\"rgb(75,75,75)\"/><circle cx=\"208\" cy=\"177\" r=\"11\" fill=\"rgb(97,97,97)\"/><circle cx=\"277\" cy=\"157\" r=\"8\" fill=\"rgb(149,149,149)\"/><circle cx=\"156\" cy=\"118\" r=\"7\" fill=\"rgb(139,139,139)\"/><circle cx=\"306\" cy=\"100\" r=\"10\" fill=\"rgb(76,76,76)\"/><circle cx=\"83\" cy=\"255\" r=\"9\" fill=\"rgb(115,115,115)\"/><circle cx=\"303\" cy=\"307\" r=\"9\" fill=\"rgb(85,85,85)\"/></svg><svg id=\"svg\" width=\"430\" height=\"430\"><circle cx=\"215\" cy=\"215\" r=\"205\" fill=\"none\" stroke=\"black\" stroke-width=\"2\" stroke-dasharray=\"3,3\"/> <circle cx=\"199\" cy=\"227\" r=\"9\" fill=\"rgb(255,187,187)\" class=\"agent_1_5\"/><circle cx=\"208\" cy=\"177\" r=\"11\" fill=\"rgb(255,190,190)\" class=\"agent_1_24\"/><circle cx=\"277\" cy=\"157\" r=\"8\" fill=\"rgb(255,254,254)\" class=\"agent_1_35\"/><circle cx=\"156\" cy=\"118\" r=\"7\" fill=\"rgb(255,252,252)\" class=\"agent_1_39\"/><circle cx=\"306\" cy=\"100\" r=\"10\" fill=\"rgb(255,187,187)\" class=\"agent_1_40\"/><circle cx=\"83\" cy=\"255\" r=\"9\" fill=\"rgb(255,254,254)\" class=\"agent_1_58\"/><circle cx=\"303\" cy=\"307\" r=\"9\" fill=\"rgb(255,203,203)\" class=\"agent_1_80\"/></svg></div>"
      ],
      "text/plain": [
       "<IPython.core.display.HTML object>"
      ]
     },
     "metadata": {},
     "output_type": "display_data"
    },
    {
     "name": "stdout",
     "output_type": "stream",
     "text": [
      "t 21: ?: [0.2657144  0.2298516  0.00385542 0.01068994 0.25191277 0.0303298\n",
      " 0.20764612]\n"
     ]
    },
    {
     "data": {
      "text/html": [
       "<div style=\"white-space: nowrap\"><svg width=\"430\" height=\"430\" id=\"agent_1\"><circle cx=\"215\" cy=\"215\" r=\"205\" fill=\"none\" stroke=\"black\" stroke-width=\"2\" stroke-dasharray=\"3,3\"/><circle cx=\"199\" cy=\"227\" r=\"9\" fill=\"rgb(75,75,75)\"/><circle cx=\"208\" cy=\"177\" r=\"11\" fill=\"rgb(97,97,97)\"/><circle cx=\"277\" cy=\"157\" r=\"8\" fill=\"rgb(149,149,149)\"/><circle cx=\"156\" cy=\"118\" r=\"7\" fill=\"rgb(139,139,139)\"/><circle cx=\"306\" cy=\"100\" r=\"10\" fill=\"rgb(76,76,76)\"/><circle cx=\"83\" cy=\"255\" r=\"9\" fill=\"rgb(115,115,115)\"/><circle cx=\"303\" cy=\"307\" r=\"9\" fill=\"rgb(85,85,85)\"/></svg><svg id=\"svg\" width=\"430\" height=\"430\"><circle cx=\"215\" cy=\"215\" r=\"205\" fill=\"none\" stroke=\"black\" stroke-width=\"2\" stroke-dasharray=\"3,3\"/> <circle cx=\"199\" cy=\"227\" r=\"9\" fill=\"rgb(255,187,187)\" class=\"agent_1_5\"/><circle cx=\"208\" cy=\"177\" r=\"11\" fill=\"rgb(255,196,196)\" class=\"agent_1_24\"/><circle cx=\"277\" cy=\"157\" r=\"8\" fill=\"rgb(255,254,254)\" class=\"agent_1_35\"/><circle cx=\"156\" cy=\"118\" r=\"7\" fill=\"rgb(255,252,252)\" class=\"agent_1_39\"/><circle cx=\"306\" cy=\"100\" r=\"10\" fill=\"rgb(255,190,190)\" class=\"agent_1_40\"/><circle cx=\"83\" cy=\"255\" r=\"9\" fill=\"rgb(255,247,247)\" class=\"agent_1_58\"/><circle cx=\"303\" cy=\"307\" r=\"9\" fill=\"rgb(255,202,202)\" class=\"agent_1_80\"/></svg></div>"
      ],
      "text/plain": [
       "<IPython.core.display.HTML object>"
      ]
     },
     "metadata": {},
     "output_type": "display_data"
    },
    {
     "name": "stdout",
     "output_type": "stream",
     "text": [
      "t 22: <eos>: [0.12179746 0.15639384 0.16246372 0.13568562 0.11391581 0.20504566\n",
      " 0.10469787]\n"
     ]
    },
    {
     "data": {
      "text/html": [
       "<div style=\"white-space: nowrap\"><svg width=\"430\" height=\"430\" id=\"agent_1\"><circle cx=\"215\" cy=\"215\" r=\"205\" fill=\"none\" stroke=\"black\" stroke-width=\"2\" stroke-dasharray=\"3,3\"/><circle cx=\"199\" cy=\"227\" r=\"9\" fill=\"rgb(75,75,75)\"/><circle cx=\"208\" cy=\"177\" r=\"11\" fill=\"rgb(97,97,97)\"/><circle cx=\"277\" cy=\"157\" r=\"8\" fill=\"rgb(149,149,149)\"/><circle cx=\"156\" cy=\"118\" r=\"7\" fill=\"rgb(139,139,139)\"/><circle cx=\"306\" cy=\"100\" r=\"10\" fill=\"rgb(76,76,76)\"/><circle cx=\"83\" cy=\"255\" r=\"9\" fill=\"rgb(115,115,115)\"/><circle cx=\"303\" cy=\"307\" r=\"9\" fill=\"rgb(85,85,85)\"/></svg><svg id=\"svg\" width=\"430\" height=\"430\"><circle cx=\"215\" cy=\"215\" r=\"205\" fill=\"none\" stroke=\"black\" stroke-width=\"2\" stroke-dasharray=\"3,3\"/> <circle cx=\"199\" cy=\"227\" r=\"9\" fill=\"rgb(255,223,223)\" class=\"agent_1_5\"/><circle cx=\"208\" cy=\"177\" r=\"11\" fill=\"rgb(255,215,215)\" class=\"agent_1_24\"/><circle cx=\"277\" cy=\"157\" r=\"8\" fill=\"rgb(255,213,213)\" class=\"agent_1_35\"/><circle cx=\"156\" cy=\"118\" r=\"7\" fill=\"rgb(255,220,220)\" class=\"agent_1_39\"/><circle cx=\"306\" cy=\"100\" r=\"10\" fill=\"rgb(255,225,225)\" class=\"agent_1_40\"/><circle cx=\"83\" cy=\"255\" r=\"9\" fill=\"rgb(255,202,202)\" class=\"agent_1_58\"/><circle cx=\"303\" cy=\"307\" r=\"9\" fill=\"rgb(255,228,228)\" class=\"agent_1_80\"/></svg></div>"
      ],
      "text/plain": [
       "<IPython.core.display.HTML object>"
      ]
     },
     "metadata": {},
     "output_type": "display_data"
    },
    {
     "name": "stdout",
     "output_type": "stream",
     "text": [
      "1\tyes i have the smaller grey to the upper left as well . which do we click on ? the middle ? <eos>\n",
      "\n",
      "THEM: lets click on the large one you mentioned first . <eos>\n",
      "feed attention: [7.3274933e-02 5.9545916e-01 2.5580758e-01 6.6013828e-02 8.6126635e-03\n",
      " 2.2887850e-04 6.0304266e-04]\n"
     ]
    },
    {
     "data": {
      "text/html": [
       "<div style=\"white-space: nowrap\"><svg width=\"430\" height=\"430\" id=\"agent_1\"><circle cx=\"215\" cy=\"215\" r=\"205\" fill=\"none\" stroke=\"black\" stroke-width=\"2\" stroke-dasharray=\"3,3\"/><circle cx=\"199\" cy=\"227\" r=\"9\" fill=\"rgb(75,75,75)\"/><circle cx=\"208\" cy=\"177\" r=\"11\" fill=\"rgb(97,97,97)\"/><circle cx=\"277\" cy=\"157\" r=\"8\" fill=\"rgb(149,149,149)\"/><circle cx=\"156\" cy=\"118\" r=\"7\" fill=\"rgb(139,139,139)\"/><circle cx=\"306\" cy=\"100\" r=\"10\" fill=\"rgb(76,76,76)\"/><circle cx=\"83\" cy=\"255\" r=\"9\" fill=\"rgb(115,115,115)\"/><circle cx=\"303\" cy=\"307\" r=\"9\" fill=\"rgb(85,85,85)\"/></svg><svg id=\"svg\" width=\"430\" height=\"430\"><circle cx=\"215\" cy=\"215\" r=\"205\" fill=\"none\" stroke=\"black\" stroke-width=\"2\" stroke-dasharray=\"3,3\"/> <circle cx=\"199\" cy=\"227\" r=\"9\" fill=\"rgb(255,236,236)\" class=\"agent_1_5\"/><circle cx=\"208\" cy=\"177\" r=\"11\" fill=\"rgb(255,103,103)\" class=\"agent_1_24\"/><circle cx=\"277\" cy=\"157\" r=\"8\" fill=\"rgb(255,189,189)\" class=\"agent_1_35\"/><circle cx=\"156\" cy=\"118\" r=\"7\" fill=\"rgb(255,238,238)\" class=\"agent_1_39\"/><circle cx=\"306\" cy=\"100\" r=\"10\" fill=\"rgb(255,252,252)\" class=\"agent_1_40\"/><circle cx=\"83\" cy=\"255\" r=\"9\" fill=\"rgb(255,254,254)\" class=\"agent_1_58\"/><circle cx=\"303\" cy=\"307\" r=\"9\" fill=\"rgb(255,254,254)\" class=\"agent_1_80\"/></svg></div>"
      ],
      "text/plain": [
       "<IPython.core.display.HTML object>"
      ]
     },
     "metadata": {},
     "output_type": "display_data"
    },
    {
     "name": "stdout",
     "output_type": "stream",
     "text": [
      "word attention mean: [0.20457    0.17065741 0.10609469 0.10120041 0.16727223 0.13154809\n",
      " 0.11865718]\n"
     ]
    },
    {
     "data": {
      "text/html": [
       "<div style=\"white-space: nowrap\"><svg width=\"430\" height=\"430\" id=\"agent_1\"><circle cx=\"215\" cy=\"215\" r=\"205\" fill=\"none\" stroke=\"black\" stroke-width=\"2\" stroke-dasharray=\"3,3\"/><circle cx=\"199\" cy=\"227\" r=\"9\" fill=\"rgb(75,75,75)\"/><circle cx=\"208\" cy=\"177\" r=\"11\" fill=\"rgb(97,97,97)\"/><circle cx=\"277\" cy=\"157\" r=\"8\" fill=\"rgb(149,149,149)\"/><circle cx=\"156\" cy=\"118\" r=\"7\" fill=\"rgb(139,139,139)\"/><circle cx=\"306\" cy=\"100\" r=\"10\" fill=\"rgb(76,76,76)\"/><circle cx=\"83\" cy=\"255\" r=\"9\" fill=\"rgb(115,115,115)\"/><circle cx=\"303\" cy=\"307\" r=\"9\" fill=\"rgb(85,85,85)\"/></svg><svg id=\"svg\" width=\"430\" height=\"430\"><circle cx=\"215\" cy=\"215\" r=\"205\" fill=\"none\" stroke=\"black\" stroke-width=\"2\" stroke-dasharray=\"3,3\"/> <circle cx=\"199\" cy=\"227\" r=\"9\" fill=\"rgb(255,202,202)\" class=\"agent_1_5\"/><circle cx=\"208\" cy=\"177\" r=\"11\" fill=\"rgb(255,211,211)\" class=\"agent_1_24\"/><circle cx=\"277\" cy=\"157\" r=\"8\" fill=\"rgb(255,227,227)\" class=\"agent_1_35\"/><circle cx=\"156\" cy=\"118\" r=\"7\" fill=\"rgb(255,229,229)\" class=\"agent_1_39\"/><circle cx=\"306\" cy=\"100\" r=\"10\" fill=\"rgb(255,212,212)\" class=\"agent_1_40\"/><circle cx=\"83\" cy=\"255\" r=\"9\" fill=\"rgb(255,221,221)\" class=\"agent_1_58\"/><circle cx=\"303\" cy=\"307\" r=\"9\" fill=\"rgb(255,224,224)\" class=\"agent_1_80\"/></svg></div>"
      ],
      "text/plain": [
       "<IPython.core.display.HTML object>"
      ]
     },
     "metadata": {},
     "output_type": "display_data"
    },
    {
     "name": "stdout",
     "output_type": "stream",
     "text": [
      "t 0: lets: [0.1662018  0.19569322 0.09006327 0.08249969 0.15894435 0.14842318\n",
      " 0.15817447]\n"
     ]
    },
    {
     "data": {
      "text/html": [
       "<div style=\"white-space: nowrap\"><svg width=\"430\" height=\"430\" id=\"agent_1\"><circle cx=\"215\" cy=\"215\" r=\"205\" fill=\"none\" stroke=\"black\" stroke-width=\"2\" stroke-dasharray=\"3,3\"/><circle cx=\"199\" cy=\"227\" r=\"9\" fill=\"rgb(75,75,75)\"/><circle cx=\"208\" cy=\"177\" r=\"11\" fill=\"rgb(97,97,97)\"/><circle cx=\"277\" cy=\"157\" r=\"8\" fill=\"rgb(149,149,149)\"/><circle cx=\"156\" cy=\"118\" r=\"7\" fill=\"rgb(139,139,139)\"/><circle cx=\"306\" cy=\"100\" r=\"10\" fill=\"rgb(76,76,76)\"/><circle cx=\"83\" cy=\"255\" r=\"9\" fill=\"rgb(115,115,115)\"/><circle cx=\"303\" cy=\"307\" r=\"9\" fill=\"rgb(85,85,85)\"/></svg><svg id=\"svg\" width=\"430\" height=\"430\"><circle cx=\"215\" cy=\"215\" r=\"205\" fill=\"none\" stroke=\"black\" stroke-width=\"2\" stroke-dasharray=\"3,3\"/> <circle cx=\"199\" cy=\"227\" r=\"9\" fill=\"rgb(255,212,212)\" class=\"agent_1_5\"/><circle cx=\"208\" cy=\"177\" r=\"11\" fill=\"rgb(255,205,205)\" class=\"agent_1_24\"/><circle cx=\"277\" cy=\"157\" r=\"8\" fill=\"rgb(255,232,232)\" class=\"agent_1_35\"/><circle cx=\"156\" cy=\"118\" r=\"7\" fill=\"rgb(255,233,233)\" class=\"agent_1_39\"/><circle cx=\"306\" cy=\"100\" r=\"10\" fill=\"rgb(255,214,214)\" class=\"agent_1_40\"/><circle cx=\"83\" cy=\"255\" r=\"9\" fill=\"rgb(255,217,217)\" class=\"agent_1_58\"/><circle cx=\"303\" cy=\"307\" r=\"9\" fill=\"rgb(255,214,214)\" class=\"agent_1_80\"/></svg></div>"
      ],
      "text/plain": [
       "<IPython.core.display.HTML object>"
      ]
     },
     "metadata": {},
     "output_type": "display_data"
    },
    {
     "name": "stdout",
     "output_type": "stream",
     "text": [
      "t 1: click: [0.15635335 0.15328088 0.11593278 0.11565048 0.15671484 0.14640968\n",
      " 0.15565793]\n"
     ]
    },
    {
     "data": {
      "text/html": [
       "<div style=\"white-space: nowrap\"><svg width=\"430\" height=\"430\" id=\"agent_1\"><circle cx=\"215\" cy=\"215\" r=\"205\" fill=\"none\" stroke=\"black\" stroke-width=\"2\" stroke-dasharray=\"3,3\"/><circle cx=\"199\" cy=\"227\" r=\"9\" fill=\"rgb(75,75,75)\"/><circle cx=\"208\" cy=\"177\" r=\"11\" fill=\"rgb(97,97,97)\"/><circle cx=\"277\" cy=\"157\" r=\"8\" fill=\"rgb(149,149,149)\"/><circle cx=\"156\" cy=\"118\" r=\"7\" fill=\"rgb(139,139,139)\"/><circle cx=\"306\" cy=\"100\" r=\"10\" fill=\"rgb(76,76,76)\"/><circle cx=\"83\" cy=\"255\" r=\"9\" fill=\"rgb(115,115,115)\"/><circle cx=\"303\" cy=\"307\" r=\"9\" fill=\"rgb(85,85,85)\"/></svg><svg id=\"svg\" width=\"430\" height=\"430\"><circle cx=\"215\" cy=\"215\" r=\"205\" fill=\"none\" stroke=\"black\" stroke-width=\"2\" stroke-dasharray=\"3,3\"/> <circle cx=\"199\" cy=\"227\" r=\"9\" fill=\"rgb(255,215,215)\" class=\"agent_1_5\"/><circle cx=\"208\" cy=\"177\" r=\"11\" fill=\"rgb(255,215,215)\" class=\"agent_1_24\"/><circle cx=\"277\" cy=\"157\" r=\"8\" fill=\"rgb(255,225,225)\" class=\"agent_1_35\"/><circle cx=\"156\" cy=\"118\" r=\"7\" fill=\"rgb(255,225,225)\" class=\"agent_1_39\"/><circle cx=\"306\" cy=\"100\" r=\"10\" fill=\"rgb(255,215,215)\" class=\"agent_1_40\"/><circle cx=\"83\" cy=\"255\" r=\"9\" fill=\"rgb(255,217,217)\" class=\"agent_1_58\"/><circle cx=\"303\" cy=\"307\" r=\"9\" fill=\"rgb(255,215,215)\" class=\"agent_1_80\"/></svg></div>"
      ],
      "text/plain": [
       "<IPython.core.display.HTML object>"
      ]
     },
     "metadata": {},
     "output_type": "display_data"
    },
    {
     "name": "stdout",
     "output_type": "stream",
     "text": [
      "t 2: on: [0.14085722 0.16386901 0.15557484 0.15448146 0.09978671 0.17324638\n",
      " 0.11218442]\n"
     ]
    },
    {
     "data": {
      "text/html": [
       "<div style=\"white-space: nowrap\"><svg width=\"430\" height=\"430\" id=\"agent_1\"><circle cx=\"215\" cy=\"215\" r=\"205\" fill=\"none\" stroke=\"black\" stroke-width=\"2\" stroke-dasharray=\"3,3\"/><circle cx=\"199\" cy=\"227\" r=\"9\" fill=\"rgb(75,75,75)\"/><circle cx=\"208\" cy=\"177\" r=\"11\" fill=\"rgb(97,97,97)\"/><circle cx=\"277\" cy=\"157\" r=\"8\" fill=\"rgb(149,149,149)\"/><circle cx=\"156\" cy=\"118\" r=\"7\" fill=\"rgb(139,139,139)\"/><circle cx=\"306\" cy=\"100\" r=\"10\" fill=\"rgb(76,76,76)\"/><circle cx=\"83\" cy=\"255\" r=\"9\" fill=\"rgb(115,115,115)\"/><circle cx=\"303\" cy=\"307\" r=\"9\" fill=\"rgb(85,85,85)\"/></svg><svg id=\"svg\" width=\"430\" height=\"430\"><circle cx=\"215\" cy=\"215\" r=\"205\" fill=\"none\" stroke=\"black\" stroke-width=\"2\" stroke-dasharray=\"3,3\"/> <circle cx=\"199\" cy=\"227\" r=\"9\" fill=\"rgb(255,219,219)\" class=\"agent_1_5\"/><circle cx=\"208\" cy=\"177\" r=\"11\" fill=\"rgb(255,213,213)\" class=\"agent_1_24\"/><circle cx=\"277\" cy=\"157\" r=\"8\" fill=\"rgb(255,215,215)\" class=\"agent_1_35\"/><circle cx=\"156\" cy=\"118\" r=\"7\" fill=\"rgb(255,215,215)\" class=\"agent_1_39\"/><circle cx=\"306\" cy=\"100\" r=\"10\" fill=\"rgb(255,229,229)\" class=\"agent_1_40\"/><circle cx=\"83\" cy=\"255\" r=\"9\" fill=\"rgb(255,210,210)\" class=\"agent_1_58\"/><circle cx=\"303\" cy=\"307\" r=\"9\" fill=\"rgb(255,226,226)\" class=\"agent_1_80\"/></svg></div>"
      ],
      "text/plain": [
       "<IPython.core.display.HTML object>"
      ]
     },
     "metadata": {},
     "output_type": "display_data"
    },
    {
     "name": "stdout",
     "output_type": "stream",
     "text": [
      "t 3: the: [0.12453678 0.18335457 0.14181378 0.12175727 0.12032475 0.17228748\n",
      " 0.13592541]\n"
     ]
    },
    {
     "data": {
      "text/html": [
       "<div style=\"white-space: nowrap\"><svg width=\"430\" height=\"430\" id=\"agent_1\"><circle cx=\"215\" cy=\"215\" r=\"205\" fill=\"none\" stroke=\"black\" stroke-width=\"2\" stroke-dasharray=\"3,3\"/><circle cx=\"199\" cy=\"227\" r=\"9\" fill=\"rgb(75,75,75)\"/><circle cx=\"208\" cy=\"177\" r=\"11\" fill=\"rgb(97,97,97)\"/><circle cx=\"277\" cy=\"157\" r=\"8\" fill=\"rgb(149,149,149)\"/><circle cx=\"156\" cy=\"118\" r=\"7\" fill=\"rgb(139,139,139)\"/><circle cx=\"306\" cy=\"100\" r=\"10\" fill=\"rgb(76,76,76)\"/><circle cx=\"83\" cy=\"255\" r=\"9\" fill=\"rgb(115,115,115)\"/><circle cx=\"303\" cy=\"307\" r=\"9\" fill=\"rgb(85,85,85)\"/></svg><svg id=\"svg\" width=\"430\" height=\"430\"><circle cx=\"215\" cy=\"215\" r=\"205\" fill=\"none\" stroke=\"black\" stroke-width=\"2\" stroke-dasharray=\"3,3\"/> <circle cx=\"199\" cy=\"227\" r=\"9\" fill=\"rgb(255,223,223)\" class=\"agent_1_5\"/><circle cx=\"208\" cy=\"177\" r=\"11\" fill=\"rgb(255,208,208)\" class=\"agent_1_24\"/><circle cx=\"277\" cy=\"157\" r=\"8\" fill=\"rgb(255,218,218)\" class=\"agent_1_35\"/><circle cx=\"156\" cy=\"118\" r=\"7\" fill=\"rgb(255,223,223)\" class=\"agent_1_39\"/><circle cx=\"306\" cy=\"100\" r=\"10\" fill=\"rgb(255,224,224)\" class=\"agent_1_40\"/><circle cx=\"83\" cy=\"255\" r=\"9\" fill=\"rgb(255,211,211)\" class=\"agent_1_58\"/><circle cx=\"303\" cy=\"307\" r=\"9\" fill=\"rgb(255,220,220)\" class=\"agent_1_80\"/></svg></div>"
      ],
      "text/plain": [
       "<IPython.core.display.HTML object>"
      ]
     },
     "metadata": {},
     "output_type": "display_data"
    },
    {
     "name": "stdout",
     "output_type": "stream",
     "text": [
      "t 4: large: [5.6692684e-01 1.5235737e-01 8.4926078e-06 2.1826167e-05 2.7946427e-01\n",
      " 3.0024105e-06 1.2181504e-03]\n"
     ]
    },
    {
     "data": {
      "text/html": [
       "<div style=\"white-space: nowrap\"><svg width=\"430\" height=\"430\" id=\"agent_1\"><circle cx=\"215\" cy=\"215\" r=\"205\" fill=\"none\" stroke=\"black\" stroke-width=\"2\" stroke-dasharray=\"3,3\"/><circle cx=\"199\" cy=\"227\" r=\"9\" fill=\"rgb(75,75,75)\"/><circle cx=\"208\" cy=\"177\" r=\"11\" fill=\"rgb(97,97,97)\"/><circle cx=\"277\" cy=\"157\" r=\"8\" fill=\"rgb(149,149,149)\"/><circle cx=\"156\" cy=\"118\" r=\"7\" fill=\"rgb(139,139,139)\"/><circle cx=\"306\" cy=\"100\" r=\"10\" fill=\"rgb(76,76,76)\"/><circle cx=\"83\" cy=\"255\" r=\"9\" fill=\"rgb(115,115,115)\"/><circle cx=\"303\" cy=\"307\" r=\"9\" fill=\"rgb(85,85,85)\"/></svg><svg id=\"svg\" width=\"430\" height=\"430\"><circle cx=\"215\" cy=\"215\" r=\"205\" fill=\"none\" stroke=\"black\" stroke-width=\"2\" stroke-dasharray=\"3,3\"/> <circle cx=\"199\" cy=\"227\" r=\"9\" fill=\"rgb(255,110,110)\" class=\"agent_1_5\"/><circle cx=\"208\" cy=\"177\" r=\"11\" fill=\"rgb(255,216,216)\" class=\"agent_1_24\"/><circle cx=\"277\" cy=\"157\" r=\"8\" fill=\"rgb(255,254,254)\" class=\"agent_1_35\"/><circle cx=\"156\" cy=\"118\" r=\"7\" fill=\"rgb(255,254,254)\" class=\"agent_1_39\"/><circle cx=\"306\" cy=\"100\" r=\"10\" fill=\"rgb(255,183,183)\" class=\"agent_1_40\"/><circle cx=\"83\" cy=\"255\" r=\"9\" fill=\"rgb(255,254,254)\" class=\"agent_1_58\"/><circle cx=\"303\" cy=\"307\" r=\"9\" fill=\"rgb(255,254,254)\" class=\"agent_1_80\"/></svg></div>"
      ],
      "text/plain": [
       "<IPython.core.display.HTML object>"
      ]
     },
     "metadata": {},
     "output_type": "display_data"
    },
    {
     "name": "stdout",
     "output_type": "stream",
     "text": [
      "t 5: one: [3.7378010e-01 2.6382780e-01 1.7261103e-05 8.8615809e-05 3.3129179e-01\n",
      " 6.3222964e-05 3.0931206e-02]\n"
     ]
    },
    {
     "data": {
      "text/html": [
       "<div style=\"white-space: nowrap\"><svg width=\"430\" height=\"430\" id=\"agent_1\"><circle cx=\"215\" cy=\"215\" r=\"205\" fill=\"none\" stroke=\"black\" stroke-width=\"2\" stroke-dasharray=\"3,3\"/><circle cx=\"199\" cy=\"227\" r=\"9\" fill=\"rgb(75,75,75)\"/><circle cx=\"208\" cy=\"177\" r=\"11\" fill=\"rgb(97,97,97)\"/><circle cx=\"277\" cy=\"157\" r=\"8\" fill=\"rgb(149,149,149)\"/><circle cx=\"156\" cy=\"118\" r=\"7\" fill=\"rgb(139,139,139)\"/><circle cx=\"306\" cy=\"100\" r=\"10\" fill=\"rgb(76,76,76)\"/><circle cx=\"83\" cy=\"255\" r=\"9\" fill=\"rgb(115,115,115)\"/><circle cx=\"303\" cy=\"307\" r=\"9\" fill=\"rgb(85,85,85)\"/></svg><svg id=\"svg\" width=\"430\" height=\"430\"><circle cx=\"215\" cy=\"215\" r=\"205\" fill=\"none\" stroke=\"black\" stroke-width=\"2\" stroke-dasharray=\"3,3\"/> <circle cx=\"199\" cy=\"227\" r=\"9\" fill=\"rgb(255,159,159)\" class=\"agent_1_5\"/><circle cx=\"208\" cy=\"177\" r=\"11\" fill=\"rgb(255,187,187)\" class=\"agent_1_24\"/><circle cx=\"277\" cy=\"157\" r=\"8\" fill=\"rgb(255,254,254)\" class=\"agent_1_35\"/><circle cx=\"156\" cy=\"118\" r=\"7\" fill=\"rgb(255,254,254)\" class=\"agent_1_39\"/><circle cx=\"306\" cy=\"100\" r=\"10\" fill=\"rgb(255,170,170)\" class=\"agent_1_40\"/><circle cx=\"83\" cy=\"255\" r=\"9\" fill=\"rgb(255,254,254)\" class=\"agent_1_58\"/><circle cx=\"303\" cy=\"307\" r=\"9\" fill=\"rgb(255,247,247)\" class=\"agent_1_80\"/></svg></div>"
      ],
      "text/plain": [
       "<IPython.core.display.HTML object>"
      ]
     },
     "metadata": {},
     "output_type": "display_data"
    },
    {
     "name": "stdout",
     "output_type": "stream",
     "text": [
      "t 6: you: [0.13093628 0.15160877 0.14811032 0.14317867 0.13258457 0.14754961\n",
      " 0.14603181]\n"
     ]
    },
    {
     "data": {
      "text/html": [
       "<div style=\"white-space: nowrap\"><svg width=\"430\" height=\"430\" id=\"agent_1\"><circle cx=\"215\" cy=\"215\" r=\"205\" fill=\"none\" stroke=\"black\" stroke-width=\"2\" stroke-dasharray=\"3,3\"/><circle cx=\"199\" cy=\"227\" r=\"9\" fill=\"rgb(75,75,75)\"/><circle cx=\"208\" cy=\"177\" r=\"11\" fill=\"rgb(97,97,97)\"/><circle cx=\"277\" cy=\"157\" r=\"8\" fill=\"rgb(149,149,149)\"/><circle cx=\"156\" cy=\"118\" r=\"7\" fill=\"rgb(139,139,139)\"/><circle cx=\"306\" cy=\"100\" r=\"10\" fill=\"rgb(76,76,76)\"/><circle cx=\"83\" cy=\"255\" r=\"9\" fill=\"rgb(115,115,115)\"/><circle cx=\"303\" cy=\"307\" r=\"9\" fill=\"rgb(85,85,85)\"/></svg><svg id=\"svg\" width=\"430\" height=\"430\"><circle cx=\"215\" cy=\"215\" r=\"205\" fill=\"none\" stroke=\"black\" stroke-width=\"2\" stroke-dasharray=\"3,3\"/> <circle cx=\"199\" cy=\"227\" r=\"9\" fill=\"rgb(255,221,221)\" class=\"agent_1_5\"/><circle cx=\"208\" cy=\"177\" r=\"11\" fill=\"rgb(255,216,216)\" class=\"agent_1_24\"/><circle cx=\"277\" cy=\"157\" r=\"8\" fill=\"rgb(255,217,217)\" class=\"agent_1_35\"/><circle cx=\"156\" cy=\"118\" r=\"7\" fill=\"rgb(255,218,218)\" class=\"agent_1_39\"/><circle cx=\"306\" cy=\"100\" r=\"10\" fill=\"rgb(255,221,221)\" class=\"agent_1_40\"/><circle cx=\"83\" cy=\"255\" r=\"9\" fill=\"rgb(255,217,217)\" class=\"agent_1_58\"/><circle cx=\"303\" cy=\"307\" r=\"9\" fill=\"rgb(255,217,217)\" class=\"agent_1_80\"/></svg></div>"
      ],
      "text/plain": [
       "<IPython.core.display.HTML object>"
      ]
     },
     "metadata": {},
     "output_type": "display_data"
    },
    {
     "name": "stdout",
     "output_type": "stream",
     "text": [
      "t 7: mentioned: [0.15857735 0.17022863 0.11207256 0.11167504 0.15326656 0.1508359\n",
      " 0.14334394]\n"
     ]
    },
    {
     "data": {
      "text/html": [
       "<div style=\"white-space: nowrap\"><svg width=\"430\" height=\"430\" id=\"agent_1\"><circle cx=\"215\" cy=\"215\" r=\"205\" fill=\"none\" stroke=\"black\" stroke-width=\"2\" stroke-dasharray=\"3,3\"/><circle cx=\"199\" cy=\"227\" r=\"9\" fill=\"rgb(75,75,75)\"/><circle cx=\"208\" cy=\"177\" r=\"11\" fill=\"rgb(97,97,97)\"/><circle cx=\"277\" cy=\"157\" r=\"8\" fill=\"rgb(149,149,149)\"/><circle cx=\"156\" cy=\"118\" r=\"7\" fill=\"rgb(139,139,139)\"/><circle cx=\"306\" cy=\"100\" r=\"10\" fill=\"rgb(76,76,76)\"/><circle cx=\"83\" cy=\"255\" r=\"9\" fill=\"rgb(115,115,115)\"/><circle cx=\"303\" cy=\"307\" r=\"9\" fill=\"rgb(85,85,85)\"/></svg><svg id=\"svg\" width=\"430\" height=\"430\"><circle cx=\"215\" cy=\"215\" r=\"205\" fill=\"none\" stroke=\"black\" stroke-width=\"2\" stroke-dasharray=\"3,3\"/> <circle cx=\"199\" cy=\"227\" r=\"9\" fill=\"rgb(255,214,214)\" class=\"agent_1_5\"/><circle cx=\"208\" cy=\"177\" r=\"11\" fill=\"rgb(255,211,211)\" class=\"agent_1_24\"/><circle cx=\"277\" cy=\"157\" r=\"8\" fill=\"rgb(255,226,226)\" class=\"agent_1_35\"/><circle cx=\"156\" cy=\"118\" r=\"7\" fill=\"rgb(255,226,226)\" class=\"agent_1_39\"/><circle cx=\"306\" cy=\"100\" r=\"10\" fill=\"rgb(255,215,215)\" class=\"agent_1_40\"/><circle cx=\"83\" cy=\"255\" r=\"9\" fill=\"rgb(255,216,216)\" class=\"agent_1_58\"/><circle cx=\"303\" cy=\"307\" r=\"9\" fill=\"rgb(255,218,218)\" class=\"agent_1_80\"/></svg></div>"
      ],
      "text/plain": [
       "<IPython.core.display.HTML object>"
      ]
     },
     "metadata": {},
     "output_type": "display_data"
    },
    {
     "name": "stdout",
     "output_type": "stream",
     "text": [
      "t 8: first: [0.1657536  0.15961705 0.10923532 0.10496598 0.15865742 0.15126692\n",
      " 0.15050375]\n"
     ]
    },
    {
     "data": {
      "text/html": [
       "<div style=\"white-space: nowrap\"><svg width=\"430\" height=\"430\" id=\"agent_1\"><circle cx=\"215\" cy=\"215\" r=\"205\" fill=\"none\" stroke=\"black\" stroke-width=\"2\" stroke-dasharray=\"3,3\"/><circle cx=\"199\" cy=\"227\" r=\"9\" fill=\"rgb(75,75,75)\"/><circle cx=\"208\" cy=\"177\" r=\"11\" fill=\"rgb(97,97,97)\"/><circle cx=\"277\" cy=\"157\" r=\"8\" fill=\"rgb(149,149,149)\"/><circle cx=\"156\" cy=\"118\" r=\"7\" fill=\"rgb(139,139,139)\"/><circle cx=\"306\" cy=\"100\" r=\"10\" fill=\"rgb(76,76,76)\"/><circle cx=\"83\" cy=\"255\" r=\"9\" fill=\"rgb(115,115,115)\"/><circle cx=\"303\" cy=\"307\" r=\"9\" fill=\"rgb(85,85,85)\"/></svg><svg id=\"svg\" width=\"430\" height=\"430\"><circle cx=\"215\" cy=\"215\" r=\"205\" fill=\"none\" stroke=\"black\" stroke-width=\"2\" stroke-dasharray=\"3,3\"/> <circle cx=\"199\" cy=\"227\" r=\"9\" fill=\"rgb(255,212,212)\" class=\"agent_1_5\"/><circle cx=\"208\" cy=\"177\" r=\"11\" fill=\"rgb(255,214,214)\" class=\"agent_1_24\"/><circle cx=\"277\" cy=\"157\" r=\"8\" fill=\"rgb(255,227,227)\" class=\"agent_1_35\"/><circle cx=\"156\" cy=\"118\" r=\"7\" fill=\"rgb(255,228,228)\" class=\"agent_1_39\"/><circle cx=\"306\" cy=\"100\" r=\"10\" fill=\"rgb(255,214,214)\" class=\"agent_1_40\"/><circle cx=\"83\" cy=\"255\" r=\"9\" fill=\"rgb(255,216,216)\" class=\"agent_1_58\"/><circle cx=\"303\" cy=\"307\" r=\"9\" fill=\"rgb(255,216,216)\" class=\"agent_1_80\"/></svg></div>"
      ],
      "text/plain": [
       "<IPython.core.display.HTML object>"
      ]
     },
     "metadata": {},
     "output_type": "display_data"
    },
    {
     "name": "stdout",
     "output_type": "stream",
     "text": [
      "t 9: .: [0.13268964 0.132357   0.15754643 0.14321214 0.116767   0.18282384\n",
      " 0.13460395]\n"
     ]
    },
    {
     "data": {
      "text/html": [
       "<div style=\"white-space: nowrap\"><svg width=\"430\" height=\"430\" id=\"agent_1\"><circle cx=\"215\" cy=\"215\" r=\"205\" fill=\"none\" stroke=\"black\" stroke-width=\"2\" stroke-dasharray=\"3,3\"/><circle cx=\"199\" cy=\"227\" r=\"9\" fill=\"rgb(75,75,75)\"/><circle cx=\"208\" cy=\"177\" r=\"11\" fill=\"rgb(97,97,97)\"/><circle cx=\"277\" cy=\"157\" r=\"8\" fill=\"rgb(149,149,149)\"/><circle cx=\"156\" cy=\"118\" r=\"7\" fill=\"rgb(139,139,139)\"/><circle cx=\"306\" cy=\"100\" r=\"10\" fill=\"rgb(76,76,76)\"/><circle cx=\"83\" cy=\"255\" r=\"9\" fill=\"rgb(115,115,115)\"/><circle cx=\"303\" cy=\"307\" r=\"9\" fill=\"rgb(85,85,85)\"/></svg><svg id=\"svg\" width=\"430\" height=\"430\"><circle cx=\"215\" cy=\"215\" r=\"205\" fill=\"none\" stroke=\"black\" stroke-width=\"2\" stroke-dasharray=\"3,3\"/> <circle cx=\"199\" cy=\"227\" r=\"9\" fill=\"rgb(255,221,221)\" class=\"agent_1_5\"/><circle cx=\"208\" cy=\"177\" r=\"11\" fill=\"rgb(255,221,221)\" class=\"agent_1_24\"/><circle cx=\"277\" cy=\"157\" r=\"8\" fill=\"rgb(255,214,214)\" class=\"agent_1_35\"/><circle cx=\"156\" cy=\"118\" r=\"7\" fill=\"rgb(255,218,218)\" class=\"agent_1_39\"/><circle cx=\"306\" cy=\"100\" r=\"10\" fill=\"rgb(255,225,225)\" class=\"agent_1_40\"/><circle cx=\"83\" cy=\"255\" r=\"9\" fill=\"rgb(255,208,208)\" class=\"agent_1_58\"/><circle cx=\"303\" cy=\"307\" r=\"9\" fill=\"rgb(255,220,220)\" class=\"agent_1_80\"/></svg></div>"
      ],
      "text/plain": [
       "<IPython.core.display.HTML object>"
      ]
     },
     "metadata": {},
     "output_type": "display_data"
    },
    {
     "name": "stdout",
     "output_type": "stream",
     "text": [
      "t 10: <eos>: [0.13365693 0.1510374  0.13666646 0.1356734  0.13219209 0.17411983\n",
      " 0.1366539 ]\n"
     ]
    },
    {
     "data": {
      "text/html": [
       "<div style=\"white-space: nowrap\"><svg width=\"430\" height=\"430\" id=\"agent_1\"><circle cx=\"215\" cy=\"215\" r=\"205\" fill=\"none\" stroke=\"black\" stroke-width=\"2\" stroke-dasharray=\"3,3\"/><circle cx=\"199\" cy=\"227\" r=\"9\" fill=\"rgb(75,75,75)\"/><circle cx=\"208\" cy=\"177\" r=\"11\" fill=\"rgb(97,97,97)\"/><circle cx=\"277\" cy=\"157\" r=\"8\" fill=\"rgb(149,149,149)\"/><circle cx=\"156\" cy=\"118\" r=\"7\" fill=\"rgb(139,139,139)\"/><circle cx=\"306\" cy=\"100\" r=\"10\" fill=\"rgb(76,76,76)\"/><circle cx=\"83\" cy=\"255\" r=\"9\" fill=\"rgb(115,115,115)\"/><circle cx=\"303\" cy=\"307\" r=\"9\" fill=\"rgb(85,85,85)\"/></svg><svg id=\"svg\" width=\"430\" height=\"430\"><circle cx=\"215\" cy=\"215\" r=\"205\" fill=\"none\" stroke=\"black\" stroke-width=\"2\" stroke-dasharray=\"3,3\"/> <circle cx=\"199\" cy=\"227\" r=\"9\" fill=\"rgb(255,220,220)\" class=\"agent_1_5\"/><circle cx=\"208\" cy=\"177\" r=\"11\" fill=\"rgb(255,216,216)\" class=\"agent_1_24\"/><circle cx=\"277\" cy=\"157\" r=\"8\" fill=\"rgb(255,220,220)\" class=\"agent_1_35\"/><circle cx=\"156\" cy=\"118\" r=\"7\" fill=\"rgb(255,220,220)\" class=\"agent_1_39\"/><circle cx=\"306\" cy=\"100\" r=\"10\" fill=\"rgb(255,221,221)\" class=\"agent_1_40\"/><circle cx=\"83\" cy=\"255\" r=\"9\" fill=\"rgb(255,210,210)\" class=\"agent_1_58\"/><circle cx=\"303\" cy=\"307\" r=\"9\" fill=\"rgb(255,220,220)\" class=\"agent_1_80\"/></svg></div>"
      ],
      "text/plain": [
       "<IPython.core.display.HTML object>"
      ]
     },
     "metadata": {},
     "output_type": "display_data"
    },
    {
     "name": "stdout",
     "output_type": "stream",
     "text": [
      "1\tlets click on the large one you mentioned first . <eos>\n",
      "\n",
      "YOU: ok good luck <selection>\n",
      "feed attention: [0.18198717 0.29118246 0.22315201 0.13448542 0.09892999 0.0284058\n",
      " 0.04185709]\n"
     ]
    },
    {
     "data": {
      "text/html": [
       "<div style=\"white-space: nowrap\"><svg width=\"430\" height=\"430\" id=\"agent_1\"><circle cx=\"215\" cy=\"215\" r=\"205\" fill=\"none\" stroke=\"black\" stroke-width=\"2\" stroke-dasharray=\"3,3\"/><circle cx=\"199\" cy=\"227\" r=\"9\" fill=\"rgb(75,75,75)\"/><circle cx=\"208\" cy=\"177\" r=\"11\" fill=\"rgb(97,97,97)\"/><circle cx=\"277\" cy=\"157\" r=\"8\" fill=\"rgb(149,149,149)\"/><circle cx=\"156\" cy=\"118\" r=\"7\" fill=\"rgb(139,139,139)\"/><circle cx=\"306\" cy=\"100\" r=\"10\" fill=\"rgb(76,76,76)\"/><circle cx=\"83\" cy=\"255\" r=\"9\" fill=\"rgb(115,115,115)\"/><circle cx=\"303\" cy=\"307\" r=\"9\" fill=\"rgb(85,85,85)\"/></svg><svg id=\"svg\" width=\"430\" height=\"430\"><circle cx=\"215\" cy=\"215\" r=\"205\" fill=\"none\" stroke=\"black\" stroke-width=\"2\" stroke-dasharray=\"3,3\"/> <circle cx=\"199\" cy=\"227\" r=\"9\" fill=\"rgb(255,208,208)\" class=\"agent_1_5\"/><circle cx=\"208\" cy=\"177\" r=\"11\" fill=\"rgb(255,180,180)\" class=\"agent_1_24\"/><circle cx=\"277\" cy=\"157\" r=\"8\" fill=\"rgb(255,198,198)\" class=\"agent_1_35\"/><circle cx=\"156\" cy=\"118\" r=\"7\" fill=\"rgb(255,220,220)\" class=\"agent_1_39\"/><circle cx=\"306\" cy=\"100\" r=\"10\" fill=\"rgb(255,229,229)\" class=\"agent_1_40\"/><circle cx=\"83\" cy=\"255\" r=\"9\" fill=\"rgb(255,247,247)\" class=\"agent_1_58\"/><circle cx=\"303\" cy=\"307\" r=\"9\" fill=\"rgb(255,244,244)\" class=\"agent_1_80\"/></svg></div>"
      ],
      "text/plain": [
       "<IPython.core.display.HTML object>"
      ]
     },
     "metadata": {},
     "output_type": "display_data"
    },
    {
     "name": "stdout",
     "output_type": "stream",
     "text": [
      "word attention mean: [0.17108026 0.1748611  0.0938239  0.09397063 0.16302508 0.1512819\n",
      " 0.15195712]\n"
     ]
    },
    {
     "data": {
      "text/html": [
       "<div style=\"white-space: nowrap\"><svg width=\"430\" height=\"430\" id=\"agent_1\"><circle cx=\"215\" cy=\"215\" r=\"205\" fill=\"none\" stroke=\"black\" stroke-width=\"2\" stroke-dasharray=\"3,3\"/><circle cx=\"199\" cy=\"227\" r=\"9\" fill=\"rgb(75,75,75)\"/><circle cx=\"208\" cy=\"177\" r=\"11\" fill=\"rgb(97,97,97)\"/><circle cx=\"277\" cy=\"157\" r=\"8\" fill=\"rgb(149,149,149)\"/><circle cx=\"156\" cy=\"118\" r=\"7\" fill=\"rgb(139,139,139)\"/><circle cx=\"306\" cy=\"100\" r=\"10\" fill=\"rgb(76,76,76)\"/><circle cx=\"83\" cy=\"255\" r=\"9\" fill=\"rgb(115,115,115)\"/><circle cx=\"303\" cy=\"307\" r=\"9\" fill=\"rgb(85,85,85)\"/></svg><svg id=\"svg\" width=\"430\" height=\"430\"><circle cx=\"215\" cy=\"215\" r=\"205\" fill=\"none\" stroke=\"black\" stroke-width=\"2\" stroke-dasharray=\"3,3\"/> <circle cx=\"199\" cy=\"227\" r=\"9\" fill=\"rgb(255,211,211)\" class=\"agent_1_5\"/><circle cx=\"208\" cy=\"177\" r=\"11\" fill=\"rgb(255,210,210)\" class=\"agent_1_24\"/><circle cx=\"277\" cy=\"157\" r=\"8\" fill=\"rgb(255,231,231)\" class=\"agent_1_35\"/><circle cx=\"156\" cy=\"118\" r=\"7\" fill=\"rgb(255,231,231)\" class=\"agent_1_39\"/><circle cx=\"306\" cy=\"100\" r=\"10\" fill=\"rgb(255,213,213)\" class=\"agent_1_40\"/><circle cx=\"83\" cy=\"255\" r=\"9\" fill=\"rgb(255,216,216)\" class=\"agent_1_58\"/><circle cx=\"303\" cy=\"307\" r=\"9\" fill=\"rgb(255,216,216)\" class=\"agent_1_80\"/></svg></div>"
      ],
      "text/plain": [
       "<IPython.core.display.HTML object>"
      ]
     },
     "metadata": {},
     "output_type": "display_data"
    },
    {
     "name": "stdout",
     "output_type": "stream",
     "text": [
      "t 0: ok: [0.15567748 0.1738715  0.10888808 0.10632848 0.15353547 0.15242183\n",
      " 0.1492771 ]\n"
     ]
    },
    {
     "data": {
      "text/html": [
       "<div style=\"white-space: nowrap\"><svg width=\"430\" height=\"430\" id=\"agent_1\"><circle cx=\"215\" cy=\"215\" r=\"205\" fill=\"none\" stroke=\"black\" stroke-width=\"2\" stroke-dasharray=\"3,3\"/><circle cx=\"199\" cy=\"227\" r=\"9\" fill=\"rgb(75,75,75)\"/><circle cx=\"208\" cy=\"177\" r=\"11\" fill=\"rgb(97,97,97)\"/><circle cx=\"277\" cy=\"157\" r=\"8\" fill=\"rgb(149,149,149)\"/><circle cx=\"156\" cy=\"118\" r=\"7\" fill=\"rgb(139,139,139)\"/><circle cx=\"306\" cy=\"100\" r=\"10\" fill=\"rgb(76,76,76)\"/><circle cx=\"83\" cy=\"255\" r=\"9\" fill=\"rgb(115,115,115)\"/><circle cx=\"303\" cy=\"307\" r=\"9\" fill=\"rgb(85,85,85)\"/></svg><svg id=\"svg\" width=\"430\" height=\"430\"><circle cx=\"215\" cy=\"215\" r=\"205\" fill=\"none\" stroke=\"black\" stroke-width=\"2\" stroke-dasharray=\"3,3\"/> <circle cx=\"199\" cy=\"227\" r=\"9\" fill=\"rgb(255,215,215)\" class=\"agent_1_5\"/><circle cx=\"208\" cy=\"177\" r=\"11\" fill=\"rgb(255,210,210)\" class=\"agent_1_24\"/><circle cx=\"277\" cy=\"157\" r=\"8\" fill=\"rgb(255,227,227)\" class=\"agent_1_35\"/><circle cx=\"156\" cy=\"118\" r=\"7\" fill=\"rgb(255,227,227)\" class=\"agent_1_39\"/><circle cx=\"306\" cy=\"100\" r=\"10\" fill=\"rgb(255,215,215)\" class=\"agent_1_40\"/><circle cx=\"83\" cy=\"255\" r=\"9\" fill=\"rgb(255,216,216)\" class=\"agent_1_58\"/><circle cx=\"303\" cy=\"307\" r=\"9\" fill=\"rgb(255,216,216)\" class=\"agent_1_80\"/></svg></div>"
      ],
      "text/plain": [
       "<IPython.core.display.HTML object>"
      ]
     },
     "metadata": {},
     "output_type": "display_data"
    },
    {
     "name": "stdout",
     "output_type": "stream",
     "text": [
      "t 1: good: [0.17266373 0.17710336 0.08647171 0.07979087 0.16702901 0.1542011\n",
      " 0.16274025]\n"
     ]
    },
    {
     "data": {
      "text/html": [
       "<div style=\"white-space: nowrap\"><svg width=\"430\" height=\"430\" id=\"agent_1\"><circle cx=\"215\" cy=\"215\" r=\"205\" fill=\"none\" stroke=\"black\" stroke-width=\"2\" stroke-dasharray=\"3,3\"/><circle cx=\"199\" cy=\"227\" r=\"9\" fill=\"rgb(75,75,75)\"/><circle cx=\"208\" cy=\"177\" r=\"11\" fill=\"rgb(97,97,97)\"/><circle cx=\"277\" cy=\"157\" r=\"8\" fill=\"rgb(149,149,149)\"/><circle cx=\"156\" cy=\"118\" r=\"7\" fill=\"rgb(139,139,139)\"/><circle cx=\"306\" cy=\"100\" r=\"10\" fill=\"rgb(76,76,76)\"/><circle cx=\"83\" cy=\"255\" r=\"9\" fill=\"rgb(115,115,115)\"/><circle cx=\"303\" cy=\"307\" r=\"9\" fill=\"rgb(85,85,85)\"/></svg><svg id=\"svg\" width=\"430\" height=\"430\"><circle cx=\"215\" cy=\"215\" r=\"205\" fill=\"none\" stroke=\"black\" stroke-width=\"2\" stroke-dasharray=\"3,3\"/> <circle cx=\"199\" cy=\"227\" r=\"9\" fill=\"rgb(255,210,210)\" class=\"agent_1_5\"/><circle cx=\"208\" cy=\"177\" r=\"11\" fill=\"rgb(255,209,209)\" class=\"agent_1_24\"/><circle cx=\"277\" cy=\"157\" r=\"8\" fill=\"rgb(255,232,232)\" class=\"agent_1_35\"/><circle cx=\"156\" cy=\"118\" r=\"7\" fill=\"rgb(255,234,234)\" class=\"agent_1_39\"/><circle cx=\"306\" cy=\"100\" r=\"10\" fill=\"rgb(255,212,212)\" class=\"agent_1_40\"/><circle cx=\"83\" cy=\"255\" r=\"9\" fill=\"rgb(255,215,215)\" class=\"agent_1_58\"/><circle cx=\"303\" cy=\"307\" r=\"9\" fill=\"rgb(255,213,213)\" class=\"agent_1_80\"/></svg></div>"
      ],
      "text/plain": [
       "<IPython.core.display.HTML object>"
      ]
     },
     "metadata": {},
     "output_type": "display_data"
    },
    {
     "name": "stdout",
     "output_type": "stream",
     "text": [
      "t 2: luck: [0.18017115 0.17240942 0.09705767 0.10843942 0.16469511 0.13576041\n",
      " 0.14146678]\n"
     ]
    },
    {
     "data": {
      "text/html": [
       "<div style=\"white-space: nowrap\"><svg width=\"430\" height=\"430\" id=\"agent_1\"><circle cx=\"215\" cy=\"215\" r=\"205\" fill=\"none\" stroke=\"black\" stroke-width=\"2\" stroke-dasharray=\"3,3\"/><circle cx=\"199\" cy=\"227\" r=\"9\" fill=\"rgb(75,75,75)\"/><circle cx=\"208\" cy=\"177\" r=\"11\" fill=\"rgb(97,97,97)\"/><circle cx=\"277\" cy=\"157\" r=\"8\" fill=\"rgb(149,149,149)\"/><circle cx=\"156\" cy=\"118\" r=\"7\" fill=\"rgb(139,139,139)\"/><circle cx=\"306\" cy=\"100\" r=\"10\" fill=\"rgb(76,76,76)\"/><circle cx=\"83\" cy=\"255\" r=\"9\" fill=\"rgb(115,115,115)\"/><circle cx=\"303\" cy=\"307\" r=\"9\" fill=\"rgb(85,85,85)\"/></svg><svg id=\"svg\" width=\"430\" height=\"430\"><circle cx=\"215\" cy=\"215\" r=\"205\" fill=\"none\" stroke=\"black\" stroke-width=\"2\" stroke-dasharray=\"3,3\"/> <circle cx=\"199\" cy=\"227\" r=\"9\" fill=\"rgb(255,209,209)\" class=\"agent_1_5\"/><circle cx=\"208\" cy=\"177\" r=\"11\" fill=\"rgb(255,211,211)\" class=\"agent_1_24\"/><circle cx=\"277\" cy=\"157\" r=\"8\" fill=\"rgb(255,230,230)\" class=\"agent_1_35\"/><circle cx=\"156\" cy=\"118\" r=\"7\" fill=\"rgb(255,227,227)\" class=\"agent_1_39\"/><circle cx=\"306\" cy=\"100\" r=\"10\" fill=\"rgb(255,213,213)\" class=\"agent_1_40\"/><circle cx=\"83\" cy=\"255\" r=\"9\" fill=\"rgb(255,220,220)\" class=\"agent_1_58\"/><circle cx=\"303\" cy=\"307\" r=\"9\" fill=\"rgb(255,218,218)\" class=\"agent_1_80\"/></svg></div>"
      ],
      "text/plain": [
       "<IPython.core.display.HTML object>"
      ]
     },
     "metadata": {},
     "output_type": "display_data"
    },
    {
     "name": "stdout",
     "output_type": "stream",
     "text": [
      "t 3: <selection>: [0.17580864 0.17606011 0.08287815 0.08132374 0.1668407  0.16274422\n",
      " 0.1543444 ]\n"
     ]
    },
    {
     "data": {
      "text/html": [
       "<div style=\"white-space: nowrap\"><svg width=\"430\" height=\"430\" id=\"agent_1\"><circle cx=\"215\" cy=\"215\" r=\"205\" fill=\"none\" stroke=\"black\" stroke-width=\"2\" stroke-dasharray=\"3,3\"/><circle cx=\"199\" cy=\"227\" r=\"9\" fill=\"rgb(75,75,75)\"/><circle cx=\"208\" cy=\"177\" r=\"11\" fill=\"rgb(97,97,97)\"/><circle cx=\"277\" cy=\"157\" r=\"8\" fill=\"rgb(149,149,149)\"/><circle cx=\"156\" cy=\"118\" r=\"7\" fill=\"rgb(139,139,139)\"/><circle cx=\"306\" cy=\"100\" r=\"10\" fill=\"rgb(76,76,76)\"/><circle cx=\"83\" cy=\"255\" r=\"9\" fill=\"rgb(115,115,115)\"/><circle cx=\"303\" cy=\"307\" r=\"9\" fill=\"rgb(85,85,85)\"/></svg><svg id=\"svg\" width=\"430\" height=\"430\"><circle cx=\"215\" cy=\"215\" r=\"205\" fill=\"none\" stroke=\"black\" stroke-width=\"2\" stroke-dasharray=\"3,3\"/> <circle cx=\"199\" cy=\"227\" r=\"9\" fill=\"rgb(255,210,210)\" class=\"agent_1_5\"/><circle cx=\"208\" cy=\"177\" r=\"11\" fill=\"rgb(255,210,210)\" class=\"agent_1_24\"/><circle cx=\"277\" cy=\"157\" r=\"8\" fill=\"rgb(255,233,233)\" class=\"agent_1_35\"/><circle cx=\"156\" cy=\"118\" r=\"7\" fill=\"rgb(255,234,234)\" class=\"agent_1_39\"/><circle cx=\"306\" cy=\"100\" r=\"10\" fill=\"rgb(255,212,212)\" class=\"agent_1_40\"/><circle cx=\"83\" cy=\"255\" r=\"9\" fill=\"rgb(255,213,213)\" class=\"agent_1_58\"/><circle cx=\"303\" cy=\"307\" r=\"9\" fill=\"rgb(255,215,215)\" class=\"agent_1_80\"/></svg></div>"
      ],
      "text/plain": [
       "<IPython.core.display.HTML object>"
      ]
     },
     "metadata": {},
     "output_type": "display_data"
    },
    {
     "name": "stdout",
     "output_type": "stream",
     "text": [
      "1\tok good luck <selection>\n",
      "\n"
     ]
    }
   ],
   "source": [
    "# training emulation\n",
    "scenario = train_scenarios[scenario_id]\n",
    "agent = alice\n",
    "agent.feed_context(ctx.flatten())\n",
    "agent.real_ids = real_ids\n",
    "agent.agent_id = agents[0]\n",
    "    \n",
    "samples = 10\n",
    "    \n",
    "writer = alice\n",
    "conv = []\n",
    "speaker = []\n",
    "words_left = 5000\n",
    "\n",
    "sentence_ix = 0\n",
    "\n",
    "assert len(inpts) == len(tgts)\n",
    "    \n",
    "while sentence_ix < len(inpts):\n",
    "    words_og = [corpus.word_dict.idx2word[ix] for ix in inpts[sentence_ix].flatten().numpy()]\n",
    "#     for _ in range(samples):\n",
    "#         pred_outs, _, _, _, extra = writer.model.write(writer.ctx_h, writer.lang_h, words_left, writer.args.temperature)\n",
    "#         print('{}\\t{}'.format(writer.agent_id, ' '.join(writer._decode(outs.narrow(0,1,outs.size(0)-1), writer.model.word_dict))))\n",
    "    print(' '.join(words_og))\n",
    "    if ref_inpts[sentence_ix] is not None:\n",
    "        dots_mentioned = (ref_tgts[sentence_ix].sum(dim=1) > 0)\n",
    "        display_attn(scenario, dots_mentioned.float(), writer.agent_id, name='dots_mentioned')\n",
    "    else:\n",
    "        dots_mentioned = None\n",
    "    out = writer.write(\n",
    "        max_words=words_left,\n",
    "        force_words=[words_og],\n",
    "        start_token=words_og[0],\n",
    "        dots_mentioned=dots_mentioned\n",
    "    )\n",
    "#     out = writer.write(max_words=words_left)\n",
    "    \n",
    "    if writer.extras[-1]['dot_attention1'] is not None:\n",
    "        display_attn(scenario, writer.extras[-1]['dot_attention1'], writer.agent_id, name='feed attention')\n",
    "    \n",
    "    if 'dot_attention2_mean' in writer.extras[-1]:\n",
    "        display_attn(scenario, writer.extras[-1]['dot_attention2_mean'], writer.agent_id, name='word attention mean')\n",
    "        \n",
    "    for ix, ix_attn in enumerate(writer.extras[-1]['dot_attention2s']):\n",
    "        display_attn(scenario, ix_attn, writer.agent_id, name='t {}: {}'.format(ix, out[ix]))\n",
    "        \n",
    "    print('{}\\t{}'.format(writer.agent_id, ' '.join(out)))\n",
    "    print()\n",
    "    words_left -= len(out)\n",
    "    conv.append(out)\n",
    "    speaker.append(writer.agent_id)\n",
    "#     reader.read(out)\n",
    "    if is_selection(out) or words_left <= 1:\n",
    "        break\n",
    "#     writer, reader = reader, writer\n",
    "    sentence_ix += 1"
   ]
  },
  {
   "cell_type": "code",
   "execution_count": 97,
   "metadata": {},
   "outputs": [],
   "source": [
    "import json\n",
    "from utils import ContextGenerator"
   ]
  },
  {
   "cell_type": "code",
   "execution_count": 98,
   "metadata": {},
   "outputs": [],
   "source": [
    "ctx_gen = ContextGenerator('data/onecommon/shared_4.txt')"
   ]
  },
  {
   "cell_type": "code",
   "execution_count": 99,
   "metadata": {},
   "outputs": [],
   "source": [
    "with open('data/onecommon/shared_4.json', \"r\") as f:\n",
    "    scenario_list = json.load(f)\n",
    "selfplay_scenarios = {scenario['uuid']: scenario for scenario in scenario_list}"
   ]
  },
  {
   "cell_type": "code",
   "execution_count": 100,
   "metadata": {},
   "outputs": [
    {
     "name": "stdout",
     "output_type": "stream",
     "text": [
      "S_grq8fYvbxiPZnvlM\n"
     ]
    }
   ],
   "source": [
    "scenario = None\n",
    "for ix, ([scenario_id], (ctx1, ctx2), (ids1, ids2)) in enumerate(ctx_gen.iter()):\n",
    "#     if scenario_id == 'S_11J8n40u4HRVduwi':\n",
    "#         print('found it')\n",
    "#         scenario = scenarios[scenario_id]\n",
    "#         break\n",
    "    if ix == 0:\n",
    "        scenario = selfplay_scenarios[scenario_id]\n",
    "        print(scenario_id)\n",
    "        break"
   ]
  },
  {
   "cell_type": "code",
   "execution_count": 101,
   "metadata": {
    "scrolled": false
   },
   "outputs": [
    {
     "name": "stdout",
     "output_type": "stream",
     "text": [
      "0\ti have a tiny black dot with a larger lighter dot to the left of it <eos>\n",
      "0\ti have a large light grey dot with a smaller lighter dot to the right of it <eos>\n",
      "0\ti have a large light grey dot with a slightly smaller and lighter dot to the right and slightly below it <eos>\n",
      "0\ti have a large light gray dot with a smaller dark dot below and to the left of it <eos>\n",
      "0\ti have a large grey dot with a smaller lighter dot to the left and below it <eos>\n",
      "0\ti have a large light grey dot with a smaller lighter dot below it and to the left of it <eos>\n",
      "0\ti have a large light grey dot with a slightly smaller one slightly to the right and slightly to the left <eos>\n",
      "0\ti have a large light grey dot with a smaller dark dot above it <eos>\n",
      "0\ti have a large light grey dot with a slightly smaller one above it and to the right <eos>\n",
      "0\ti have a large grey dot with a smaller dark dot to the right and slightly to the right <eos>\n",
      "0\tdo you have a large light grey dot with a smaller lighter grey dot to the left and slightly above it <eos>\n",
      "\n",
      "word attention mean: [0.30845603 0.04441807 0.04053168 0.04724613 0.17011987 0.09403443\n",
      " 0.2951938 ]\n"
     ]
    },
    {
     "data": {
      "text/html": [
       "<div style=\"white-space: nowrap\"><svg width=\"430\" height=\"430\" id=\"agent_0\"><circle cx=\"215\" cy=\"215\" r=\"205\" fill=\"none\" stroke=\"black\" stroke-width=\"2\" stroke-dasharray=\"3,3\"/><circle cx=\"306\" cy=\"367\" r=\"13\" fill=\"rgb(157,157,157)\"/><circle cx=\"189\" cy=\"398\" r=\"9\" fill=\"rgb(73,73,73)\"/><circle cx=\"50\" cy=\"221\" r=\"7\" fill=\"rgb(149,149,149)\"/><circle cx=\"257\" cy=\"87\" r=\"8\" fill=\"rgb(83,83,83)\"/><circle cx=\"149\" cy=\"199\" r=\"11\" fill=\"rgb(148,148,148)\"/><circle cx=\"373\" cy=\"334\" r=\"10\" fill=\"rgb(134,134,134)\"/><circle cx=\"195\" cy=\"147\" r=\"10\" fill=\"rgb(144,144,144)\"/></svg><svg id=\"svg\" width=\"430\" height=\"430\"><circle cx=\"215\" cy=\"215\" r=\"205\" fill=\"none\" stroke=\"black\" stroke-width=\"2\" stroke-dasharray=\"3,3\"/> <circle cx=\"306\" cy=\"367\" r=\"13\" fill=\"rgb(255,176,176)\" class=\"agent_0_4\"/><circle cx=\"189\" cy=\"398\" r=\"9\" fill=\"rgb(255,243,243)\" class=\"agent_0_14\"/><circle cx=\"50\" cy=\"221\" r=\"7\" fill=\"rgb(255,244,244)\" class=\"agent_0_22\"/><circle cx=\"257\" cy=\"87\" r=\"8\" fill=\"rgb(255,242,242)\" class=\"agent_0_49\"/><circle cx=\"149\" cy=\"199\" r=\"11\" fill=\"rgb(255,211,211)\" class=\"agent_0_55\"/><circle cx=\"373\" cy=\"334\" r=\"10\" fill=\"rgb(255,231,231)\" class=\"agent_0_61\"/><circle cx=\"195\" cy=\"147\" r=\"10\" fill=\"rgb(255,179,179)\" class=\"agent_0_78\"/></svg></div>"
      ],
      "text/plain": [
       "<IPython.core.display.HTML object>"
      ]
     },
     "metadata": {},
     "output_type": "display_data"
    },
    {
     "name": "stdout",
     "output_type": "stream",
     "text": [
      "0\tdo you have a large light grey dot with a smaller lighter grey dot to the left and slightly above it <eos>\n",
      "\n",
      "1\ti have a large light grey dot with a smaller black dot to the right and slightly below it <eos>\n",
      "1\tyes i see that ! let 's pick the large one <selection>\n",
      "1\tyes i see that . let 's pick the larger one <selection>\n",
      "1\ti have a tiny black dot with a large light grey dot to the right of it <eos>\n",
      "1\tyes i see that . let 's choose the large one <selection>\n",
      "1\ti have a large light grey dot with a smaller black dot to the left of it <eos>\n",
      "1\ti do n't have that . i have a large light grey dot with a smaller black dot to the left and slightly above it <eos>\n",
      "1\ti see a tiny black dot with a large light grey dot up and to the right of it <eos>\n",
      "1\ti see that . i have a large light grey dot with a smaller black dot below and to the right of it <eos>\n",
      "1\tyes , i see that too . let 's pick the large one <selection>\n",
      "1\tyes , i see that . <eos>\n",
      "\n",
      "word attention mean: [0.03539151 0.08812761 0.07640824 0.10153909 0.2970117  0.11163428\n",
      " 0.2898876 ]\n"
     ]
    },
    {
     "data": {
      "text/html": [
       "<div style=\"white-space: nowrap\"><svg width=\"430\" height=\"430\" id=\"agent_1\"><circle cx=\"215\" cy=\"215\" r=\"205\" fill=\"none\" stroke=\"black\" stroke-width=\"2\" stroke-dasharray=\"3,3\"/><circle cx=\"90\" cy=\"91\" r=\"10\" fill=\"rgb(89,89,89)\"/><circle cx=\"52\" cy=\"274\" r=\"7\" fill=\"rgb(149,149,149)\"/><circle cx=\"380\" cy=\"116\" r=\"13\" fill=\"rgb(146,146,146)\"/><circle cx=\"259\" cy=\"141\" r=\"8\" fill=\"rgb(83,83,83)\"/><circle cx=\"152\" cy=\"253\" r=\"11\" fill=\"rgb(148,148,148)\"/><circle cx=\"226\" cy=\"35\" r=\"12\" fill=\"rgb(166,166,166)\"/><circle cx=\"198\" cy=\"200\" r=\"10\" fill=\"rgb(144,144,144)\"/></svg><svg id=\"svg\" width=\"430\" height=\"430\"><circle cx=\"215\" cy=\"215\" r=\"205\" fill=\"none\" stroke=\"black\" stroke-width=\"2\" stroke-dasharray=\"3,3\"/> <circle cx=\"90\" cy=\"91\" r=\"10\" fill=\"rgb(255,245,245)\" class=\"agent_1_9\"/><circle cx=\"52\" cy=\"274\" r=\"7\" fill=\"rgb(255,232,232)\" class=\"agent_1_22\"/><circle cx=\"380\" cy=\"116\" r=\"13\" fill=\"rgb(255,235,235)\" class=\"agent_1_45\"/><circle cx=\"259\" cy=\"141\" r=\"8\" fill=\"rgb(255,229,229)\" class=\"agent_1_49\"/><circle cx=\"152\" cy=\"253\" r=\"11\" fill=\"rgb(255,179,179)\" class=\"agent_1_55\"/><circle cx=\"226\" cy=\"35\" r=\"12\" fill=\"rgb(255,226,226)\" class=\"agent_1_67\"/><circle cx=\"198\" cy=\"200\" r=\"10\" fill=\"rgb(255,181,181)\" class=\"agent_1_78\"/></svg></div>"
      ],
      "text/plain": [
       "<IPython.core.display.HTML object>"
      ]
     },
     "metadata": {},
     "output_type": "display_data"
    },
    {
     "name": "stdout",
     "output_type": "stream",
     "text": [
      "1\tyes , i see that . <eos>\n",
      "\n",
      "0\tok lets choose the lighter one <selection>\n",
      "0\tlets pick the larger one <selection>\n",
      "0\tok , lets pick the large one <selection>\n",
      "0\tok let 's pick the larger one <selection>\n",
      "0\tok lets pick the large light one <selection>\n",
      "0\tok lets pick the larger one <selection>\n",
      "0\tlet 's pick the large one <selection>\n",
      "0\tok lets pick the larger one <selection>\n",
      "0\tok lets pick the large light grey dot <selection>\n",
      "0\tok lets pick the larger one <selection>\n",
      "0\tok lets click the larger one <selection>\n",
      "\n",
      "word attention mean: [0.4412072  0.01331483 0.02236627 0.01403854 0.24668472 0.11929139\n",
      " 0.14309704]\n"
     ]
    },
    {
     "data": {
      "text/html": [
       "<div style=\"white-space: nowrap\"><svg width=\"430\" height=\"430\" id=\"agent_0\"><circle cx=\"215\" cy=\"215\" r=\"205\" fill=\"none\" stroke=\"black\" stroke-width=\"2\" stroke-dasharray=\"3,3\"/><circle cx=\"306\" cy=\"367\" r=\"13\" fill=\"rgb(157,157,157)\"/><circle cx=\"189\" cy=\"398\" r=\"9\" fill=\"rgb(73,73,73)\"/><circle cx=\"50\" cy=\"221\" r=\"7\" fill=\"rgb(149,149,149)\"/><circle cx=\"257\" cy=\"87\" r=\"8\" fill=\"rgb(83,83,83)\"/><circle cx=\"149\" cy=\"199\" r=\"11\" fill=\"rgb(148,148,148)\"/><circle cx=\"373\" cy=\"334\" r=\"10\" fill=\"rgb(134,134,134)\"/><circle cx=\"195\" cy=\"147\" r=\"10\" fill=\"rgb(144,144,144)\"/></svg><svg id=\"svg\" width=\"430\" height=\"430\"><circle cx=\"215\" cy=\"215\" r=\"205\" fill=\"none\" stroke=\"black\" stroke-width=\"2\" stroke-dasharray=\"3,3\"/> <circle cx=\"306\" cy=\"367\" r=\"13\" fill=\"rgb(255,142,142)\" class=\"agent_0_4\"/><circle cx=\"189\" cy=\"398\" r=\"9\" fill=\"rgb(255,251,251)\" class=\"agent_0_14\"/><circle cx=\"50\" cy=\"221\" r=\"7\" fill=\"rgb(255,249,249)\" class=\"agent_0_22\"/><circle cx=\"257\" cy=\"87\" r=\"8\" fill=\"rgb(255,251,251)\" class=\"agent_0_49\"/><circle cx=\"149\" cy=\"199\" r=\"11\" fill=\"rgb(255,192,192)\" class=\"agent_0_55\"/><circle cx=\"373\" cy=\"334\" r=\"10\" fill=\"rgb(255,224,224)\" class=\"agent_0_61\"/><circle cx=\"195\" cy=\"147\" r=\"10\" fill=\"rgb(255,218,218)\" class=\"agent_0_78\"/></svg></div>"
      ],
      "text/plain": [
       "<IPython.core.display.HTML object>"
      ]
     },
     "metadata": {},
     "output_type": "display_data"
    },
    {
     "name": "stdout",
     "output_type": "stream",
     "text": [
      "0\tok lets click the larger one <selection>\n",
      "\n"
     ]
    }
   ],
   "source": [
    "# selfplay emulation\n",
    "scenario = selfplay_scenarios[scenario_id]\n",
    "for agent, agent_id, ctx, real_ids in zip([alice, bob], [0, 1], [ctx1, ctx2], [ids1, ids2]):\n",
    "    agent.feed_context(ctx)\n",
    "    agent.real_ids = real_ids\n",
    "    agent.agent_id = agent_id\n",
    "    \n",
    "samples = 10\n",
    "    \n",
    "writer, reader = [alice, bob]\n",
    "conv = []\n",
    "speaker = []\n",
    "words_left = 5000\n",
    "    \n",
    "while True:\n",
    "    for _ in range(samples):\n",
    "        outs, _, _, _, extra = writer.model.write(writer.ctx_h, writer.lang_h, words_left, writer.args.temperature)\n",
    "        print('{}\\t{}'.format(writer.agent_id, ' '.join(writer._decode(outs.narrow(0,1,outs.size(0)-1), writer.model.word_dict))))\n",
    "    out = writer.write(max_words=words_left)\n",
    "    print('{}\\t{}'.format(writer.agent_id, ' '.join(out)))\n",
    "    print()\n",
    "    \n",
    "    if writer.extras[-1].get('dot_attention1', None) is not None:\n",
    "        display_attn(scenario, writer.extras[-1]['dot_attention1'], writer.agent_id, name='feed attention')\n",
    "    \n",
    "    if writer.extras[-1].get('dot_attention2_mean', None) is not None:\n",
    "        display_attn(scenario, writer.extras[-1]['dot_attention2_mean'], writer.agent_id, name='word attention mean')\n",
    "        \n",
    "#     for ix, ix_attn in enumerate(writer.extras[-1]['dot_attention2s']):\n",
    "#         display_attn(scenario, ix_attn, writer.agent_id, name='t {}: {}'.format(ix, out[ix]))\n",
    "    print('{}\\t{}'.format(writer.agent_id, ' '.join(out)))\n",
    "    print()\n",
    "        \n",
    "    words_left -= len(out)\n",
    "    conv.append(out)\n",
    "    speaker.append(writer.agent_id)\n",
    "    reader.read(out)\n",
    "    if is_selection(out) or words_left <= 1:\n",
    "        break\n",
    "    writer, reader = reader, writer"
   ]
  },
  {
   "cell_type": "code",
   "execution_count": null,
   "metadata": {},
   "outputs": [],
   "source": []
  }
 ],
 "metadata": {
  "kernelspec": {
   "display_name": "Python 3",
   "language": "python",
   "name": "python3"
  },
  "language_info": {
   "codemirror_mode": {
    "name": "ipython",
    "version": 3
   },
   "file_extension": ".py",
   "mimetype": "text/x-python",
   "name": "python",
   "nbconvert_exporter": "python",
   "pygments_lexer": "ipython3",
   "version": "3.6.10"
  }
 },
 "nbformat": 4,
 "nbformat_minor": 2
}
