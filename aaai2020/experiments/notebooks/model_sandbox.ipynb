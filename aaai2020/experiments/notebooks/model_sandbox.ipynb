{
 "cells": [
  {
   "cell_type": "code",
   "execution_count": 1,
   "metadata": {},
   "outputs": [
    {
     "name": "stdout",
     "output_type": "stream",
     "text": [
      "/home/dfried/projects/onecommon/aaai2020/experiments\n"
     ]
    }
   ],
   "source": [
    "cd '/home/dfried/projects/onecommon/aaai2020/experiments'"
   ]
  },
  {
   "cell_type": "code",
   "execution_count": 2,
   "metadata": {},
   "outputs": [],
   "source": [
    "import models\n",
    "import data\n",
    "import utils\n",
    "from domain import get_domain\n",
    "from corpora.reference_sentence import ReferenceSentenceCorpus"
   ]
  },
  {
   "cell_type": "code",
   "execution_count": 3,
   "metadata": {},
   "outputs": [],
   "source": [
    "domain = get_domain('one_common')\n",
    "unk_threshold = 10\n",
    "model_ty = models.get_model_type('rnn_reference_model')\n",
    "\n",
    "ctx_encoder_type = 'rel_attn_encoder'\n",
    "\n",
    "# model is actually in \"serialized_models/{model_fname}\"\n",
    "# model_fname = 'rel_tsel_ref_dial_model/default_0_best.th'\n",
    "\n",
    "# # valid_lang_loss 2.2762        valid_select_loss 0.8293        valid_select_acc 0.6859 valid_ref_loss 0.2897\n",
    "# model_fname = 'rel2_tsel_ref_dial_model/hierarchical_rel-enc-2_rel-pool-max_mask-pad_1_best.th'\n",
    "\n",
    "# # valid_lang_loss 2.2609        valid_select_loss 0.9497        valid_select_acc 0.6291         valid_ref_loss 0.3191\n",
    "# model_fname = 'rel2_tsel_ref_dial_model/hierarchical_rel-enc-2_rel-pool-max_mask-pad_feed-ctx-attend_1_best.th'\n",
    "\n",
    "# valid_lang_loss \n",
    "# # valid_lang_loss 2.2544        valid_select_loss 0.8247        valid_select_acc 0.7062         valid_ref_loss 0.2852\n",
    "# model_fname = 'rel2_tsel_ref_dial_model_no-share/hierarchical_mask-pad_feed-context-attend-separate_1_best.th'\n",
    "\n",
    "# # valid_lang_loss 2.2448        valid_select_loss 0.9233        valid_select_acc 0.6455         valid_ref_loss 0.3180\n",
    "# model_fname = 'rel2_tsel_ref_dial_model_no-share/hierarchical_mask-pad_selection-attention_feed-context-attend-separate_no-word-attention_1_best.th'\n",
    "\n",
    "# model_fname = 'rel2_tsel_ref_dial_model_no-share/hierarchical_mask-pad_selection-attention_feed-context-attend-separate_1_best.th'\n",
    "\n",
    "# valid_lang_loss 2.2435        valid_select_loss 1.0267        valid_select_acc 0.6358         valid_ref_loss 0.3528\n",
    "# model_fname = 'rel2_tsel_ref_dial_model_separate/hierarchical_mask-pad_max-pool_rel-2_feed-context-attend_no-word-attention_ablate-properties_1_best.th'\n",
    "\n",
    "# model_fname = 'rel2_dial_model_separate/hierarchical_mask-pad_max-pool_rel-2_feed-context-attend_1_best.th'\n",
    "# model_fname = 'rel2_dial_model_separate/hierarchical_mask-pad_max-pool_rel-2_feed-context-attend_no-word-attention_1_best.th'\n",
    "# model_fname = 'rel2_dial_model_separate/hierarchical_mask-pad_max-pool_rel-2_feed-context-attend_no-word-attention_ablate-properties_1_best.th'\n",
    "# model_fname = 'rel2_dial_model_separate/hierarchical_mask-pad_max-pool_feed-context-attend_no-word-attention_ablate-properties_1_best.th'\n",
    "# model_fname = 'rel2_dial_model_separate/hierarchical_mask-pad_max-pool_feed-context-attend_ablate-properties_1_best.th'\n",
    "\n",
    "# model_fname = 'rel2_dial_model_separate/hierarchical_mask-pad_max-pool_feed-context-attend_ablate-properties_1_best.th'\n",
    "\n",
    "model_fname = 'rel2_dial_model_separate/hierarchical_only-self_mask-pad_max-pool_feed-context-attend_ablate-properties_1_best.th'\n",
    "# model_fname = 'rel2_dial_model_separate/hierarchical_only-self_mask-pad_max-pool_rel-2_feed-context-attend_no-word-attention_ablate-properties_1_best.th'"
   ]
  },
  {
   "cell_type": "code",
   "execution_count": 4,
   "metadata": {},
   "outputs": [
    {
     "name": "stdout",
     "output_type": "stream",
     "text": [
      "dataset data/onecommon/train_reference_0.txt, total 544674, unks 4134, ratio 0.76%\n",
      "dataset data/onecommon/valid_reference_0.txt, total 70004, unks 720, ratio 1.03%\n",
      "dataset data/onecommon/test_reference_0.txt, total 67008, unks 576, ratio 0.86%\n"
     ]
    }
   ],
   "source": [
    "seed = 0\n",
    "corpus = ReferenceSentenceCorpus(domain, 'data/onecommon',\n",
    "                            train='train_reference_{}.txt'.format(seed),\n",
    "                            valid='valid_reference_{}.txt'.format(seed),\n",
    "                            test='test_reference_{}.txt'.format(seed),\n",
    "                            freq_cutoff=unk_threshold, verbose=True)"
   ]
  },
  {
   "cell_type": "code",
   "execution_count": 5,
   "metadata": {},
   "outputs": [],
   "source": [
    "def load_json(file):\n",
    "    import json\n",
    "    with open(file, 'r') as f:\n",
    "        return json.load(f)"
   ]
  },
  {
   "cell_type": "code",
   "execution_count": 6,
   "metadata": {},
   "outputs": [],
   "source": [
    "scenarios1 = load_json('data/onecommon/aaai_train_scenarios.json')\n",
    "scenarios2 = load_json('data/onecommon/aaai_train_scenarios_2.json')"
   ]
  },
  {
   "cell_type": "code",
   "execution_count": 7,
   "metadata": {},
   "outputs": [
    {
     "data": {
      "text/plain": [
       "9000"
      ]
     },
     "execution_count": 7,
     "metadata": {},
     "output_type": "execute_result"
    }
   ],
   "source": [
    "len(scenarios1)"
   ]
  },
  {
   "cell_type": "code",
   "execution_count": 8,
   "metadata": {},
   "outputs": [
    {
     "data": {
      "text/plain": [
       "4500"
      ]
     },
     "execution_count": 8,
     "metadata": {},
     "output_type": "execute_result"
    }
   ],
   "source": [
    "len(scenarios2)"
   ]
  },
  {
   "cell_type": "code",
   "execution_count": 9,
   "metadata": {},
   "outputs": [
    {
     "data": {
      "text/plain": [
       "dict_keys(['kbs', 'shared', 'uuid'])"
      ]
     },
     "execution_count": 9,
     "metadata": {},
     "output_type": "execute_result"
    }
   ],
   "source": [
    "scenarios1[0].keys()"
   ]
  },
  {
   "cell_type": "code",
   "execution_count": 10,
   "metadata": {},
   "outputs": [],
   "source": [
    "train_scenarios = {\n",
    "    scenario['uuid']: scenario\n",
    "    for scenario in scenarios1\n",
    "}"
   ]
  },
  {
   "cell_type": "code",
   "execution_count": 11,
   "metadata": {},
   "outputs": [],
   "source": [
    "hit_count = 0\n",
    "miss_count = 0\n",
    "for scenario in scenarios2:\n",
    "    uuid = scenario['uuid']\n",
    "    if uuid in train_scenarios:\n",
    "        assert train_scenarios[uuid] == scenario\n",
    "        hit_count += 1\n",
    "    else:\n",
    "        miss_count += 1"
   ]
  },
  {
   "cell_type": "code",
   "execution_count": 12,
   "metadata": {},
   "outputs": [
    {
     "name": "stdout",
     "output_type": "stream",
     "text": [
      "hits: 0\n",
      "misses: 4500\n"
     ]
    }
   ],
   "source": [
    "print(\"hits: {}\".format(hit_count))\n",
    "print(\"misses: {}\".format(miss_count))"
   ]
  },
  {
   "cell_type": "code",
   "execution_count": 13,
   "metadata": {},
   "outputs": [
    {
     "data": {
      "text/plain": [
       "<corpora.reference_sentence.ReferenceSentenceCorpus at 0x7f1b7f507a58>"
      ]
     },
     "execution_count": 13,
     "metadata": {},
     "output_type": "execute_result"
    }
   ],
   "source": [
    "corpus"
   ]
  },
  {
   "cell_type": "code",
   "execution_count": 14,
   "metadata": {},
   "outputs": [],
   "source": [
    "model = utils.load_model(model_fname, map_location='cpu')"
   ]
  },
  {
   "cell_type": "code",
   "execution_count": 15,
   "metadata": {},
   "outputs": [],
   "source": [
    "batchsize=1\n",
    "validset, validset_stats = corpus.valid_dataset(batchsize)"
   ]
  },
  {
   "cell_type": "code",
   "execution_count": 16,
   "metadata": {},
   "outputs": [
    {
     "data": {
      "text/plain": [
       "{'n': 74862, 'nonpadn': 70004}"
      ]
     },
     "execution_count": 16,
     "metadata": {},
     "output_type": "execute_result"
    }
   ],
   "source": [
    "validset_stats"
   ]
  },
  {
   "cell_type": "code",
   "execution_count": 17,
   "metadata": {},
   "outputs": [],
   "source": [
    "import torch"
   ]
  },
  {
   "cell_type": "code",
   "execution_count": 18,
   "metadata": {},
   "outputs": [
    {
     "name": "stderr",
     "output_type": "stream",
     "text": [
      "/home/dfried/anaconda2/envs/onecommon/lib/python3.6/site-packages/statsmodels/tools/_testing.py:19: FutureWarning: pandas.util.testing is deprecated. Use the functions in the public API at pandas.testing instead.\n",
      "  import pandas.util.testing as tm\n"
     ]
    }
   ],
   "source": [
    "from agent import RnnAgent"
   ]
  },
  {
   "cell_type": "code",
   "execution_count": 19,
   "metadata": {},
   "outputs": [],
   "source": [
    "from selfplay import make_parser"
   ]
  },
  {
   "cell_type": "code",
   "execution_count": 20,
   "metadata": {},
   "outputs": [],
   "source": [
    "parser = make_parser()\n",
    "args = parser.parse_args('--temperature 0.25'.split())\n",
    "# args = parser.parse_args('--temperature 0.01'.split())"
   ]
  },
  {
   "cell_type": "code",
   "execution_count": 21,
   "metadata": {},
   "outputs": [],
   "source": [
    "alice = RnnAgent(model, args)\n",
    "bob = RnnAgent(model, args)"
   ]
  },
  {
   "cell_type": "code",
   "execution_count": 22,
   "metadata": {},
   "outputs": [],
   "source": [
    "def is_selection(out):\n",
    "    return '<selection>' in out"
   ]
  },
  {
   "cell_type": "code",
   "execution_count": 23,
   "metadata": {},
   "outputs": [],
   "source": [
    "# display"
   ]
  },
  {
   "cell_type": "code",
   "execution_count": 24,
   "metadata": {},
   "outputs": [],
   "source": [
    "from dialog import DialogLogger"
   ]
  },
  {
   "cell_type": "code",
   "execution_count": 25,
   "metadata": {},
   "outputs": [],
   "source": [
    "from IPython.display import SVG, display, HTML"
   ]
  },
  {
   "cell_type": "code",
   "execution_count": 26,
   "metadata": {},
   "outputs": [],
   "source": [
    "def display_svgs(svgs):\n",
    "    no_wrap_div = '<div style=\"white-space: nowrap\">' + ''.join(svgs) + '</div>'\n",
    "    display(HTML(no_wrap_div))"
   ]
  },
  {
   "cell_type": "code",
   "execution_count": 27,
   "metadata": {},
   "outputs": [],
   "source": [
    "def display_attn(scenario, attn, agent_id, name=None):\n",
    "    attn = attn.flatten().detach().numpy()\n",
    "    if name is not None:\n",
    "        print(\"{}: {}\".format(name, attn))\n",
    "    display_svgs([DialogLogger._scenario_to_svg(scenario)[agent_id], DialogLogger._attention_to_svg(scenario, agent_id, attn)])"
   ]
  },
  {
   "cell_type": "code",
   "execution_count": 28,
   "metadata": {},
   "outputs": [
    {
     "name": "stdout",
     "output_type": "stream",
     "text": [
      "Automatic pdb calling has been turned ON\n"
     ]
    }
   ],
   "source": [
    "pdb on"
   ]
  },
  {
   "cell_type": "code",
   "execution_count": 29,
   "metadata": {},
   "outputs": [],
   "source": [
    "# training emulation"
   ]
  },
  {
   "cell_type": "code",
   "execution_count": 30,
   "metadata": {},
   "outputs": [],
   "source": [
    "trainset, trainset_stats = corpus.train_dataset(bsz=1)"
   ]
  },
  {
   "cell_type": "code",
   "execution_count": 31,
   "metadata": {},
   "outputs": [
    {
     "data": {
      "text/plain": [
       "False"
      ]
     },
     "execution_count": 31,
     "metadata": {},
     "output_type": "execute_result"
    }
   ],
   "source": [
    "trainset[0].scenario_ids[0] in train_scenarios"
   ]
  },
  {
   "cell_type": "code",
   "execution_count": 32,
   "metadata": {},
   "outputs": [],
   "source": [
    "# ctx: this player's dots\n",
    "# inpt / tgt: dialogue word indices (tgt are shifted by 1)\n",
    "# ref_inpt"
   ]
  },
  {
   "cell_type": "code",
   "execution_count": 37,
   "metadata": {},
   "outputs": [
    {
     "name": "stdout",
     "output_type": "stream",
     "text": [
      "found it\n"
     ]
    }
   ],
   "source": [
    "for ix in range(len(trainset)):\n",
    "    ctx, inpts, tgts, ref_inpts, ref_tgts, sel_tgt, \\\n",
    "    [scenario_id], real_ids, agents, chat_ids, sel_idxs, \\\n",
    "    lens, rev_idxs, hid_idxs, all_num_markables = trainset[ix]\n",
    "    if 'C_d0de3d0144df405e998ae718539ff9a4' in chat_ids:\n",
    "        print(\"found it\")\n",
    "        break"
   ]
  },
  {
   "cell_type": "code",
   "execution_count": 38,
   "metadata": {},
   "outputs": [
    {
     "data": {
      "text/plain": [
       "torch.Size([16, 1])"
      ]
     },
     "execution_count": 38,
     "metadata": {},
     "output_type": "execute_result"
    }
   ],
   "source": [
    "inpts[0].size()"
   ]
  },
  {
   "cell_type": "code",
   "execution_count": 39,
   "metadata": {},
   "outputs": [
    {
     "data": {
      "text/plain": [
       "<corpora.data.Dictionary at 0x7f1bd21f57f0>"
      ]
     },
     "execution_count": 39,
     "metadata": {},
     "output_type": "execute_result"
    }
   ],
   "source": [
    "corpus.word_dict"
   ]
  },
  {
   "cell_type": "code",
   "execution_count": 41,
   "metadata": {
    "scrolled": true
   },
   "outputs": [],
   "source": [
    "## training emulation\n",
    "# scenario = train_scenarios[scenario_id]\n",
    "# agent = alice\n",
    "# agent.feed_context(ctx.flatten())\n",
    "# agent.real_ids = real_ids\n",
    "# agent.agent_id = 0\n",
    "    \n",
    "# samples = 10\n",
    "    \n",
    "# writer = alice\n",
    "# conv = []\n",
    "# speaker = []\n",
    "# words_left = 5000\n",
    "\n",
    "# sentence_ix = 0\n",
    "\n",
    "# assert len(inpts) == len(tgts)\n",
    "    \n",
    "# while sentence_ix < len(inpts):\n",
    "#     words_og = [corpus.word_dict.idx2word[ix] for ix in inpts[sentence_ix].flatten().numpy()]\n",
    "# #     for _ in range(samples):\n",
    "# #         pred_outs, _, _, _, extra = writer.model.write(writer.ctx_h, writer.lang_h, words_left, writer.args.temperature)\n",
    "# #         print('{}\\t{}'.format(writer.agent_id, ' '.join(writer._decode(outs.narrow(0,1,outs.size(0)-1), writer.model.word_dict))))\n",
    "#     print(' '.join(words_og))\n",
    "#     out = writer.write(max_words=words_left, force_words=[words_og], start_token=words_og[0])\n",
    "# #     out = writer.write(max_words=words_left)\n",
    "    \n",
    "#     display_attn(scenario, writer.extras[-1]['dot_attention1'], writer.agent_id, name='feed attention')\n",
    "    \n",
    "#     if 'dot_attention2_mean' in writer.extras[-1]:\n",
    "#         display_attn(scenario, writer.extras[-1]['dot_attention2_mean'], writer.agent_id, name='word attention mean')\n",
    "        \n",
    "#     for ix, ix_attn in enumerate(writer.extras[-1]['dot_attention2s']):\n",
    "#         display_attn(scenario, ix_attn, writer.agent_id, name='t {}: {}'.format(ix, out[ix]))\n",
    "        \n",
    "#     print('{}\\t{}'.format(writer.agent_id, ' '.join(out)))\n",
    "#     print()\n",
    "#     words_left -= len(out)\n",
    "#     conv.append(out)\n",
    "#     speaker.append(writer.agent_id)\n",
    "# #     reader.read(out)\n",
    "#     if is_selection(out) or words_left <= 1:\n",
    "#         break\n",
    "# #     writer, reader = reader, writer\n",
    "#     sentence_ix += 1"
   ]
  },
  {
   "cell_type": "code",
   "execution_count": 42,
   "metadata": {},
   "outputs": [],
   "source": [
    "import json\n",
    "from utils import ContextGenerator"
   ]
  },
  {
   "cell_type": "code",
   "execution_count": 43,
   "metadata": {},
   "outputs": [],
   "source": [
    "ctx_gen = ContextGenerator('data/onecommon/shared_5.txt')"
   ]
  },
  {
   "cell_type": "code",
   "execution_count": 44,
   "metadata": {},
   "outputs": [],
   "source": [
    "with open('data/onecommon/shared_5.json', \"r\") as f:\n",
    "    scenario_list = json.load(f)\n",
    "selfplay_scenarios = {scenario['uuid']: scenario for scenario in scenario_list}"
   ]
  },
  {
   "cell_type": "code",
   "execution_count": 45,
   "metadata": {},
   "outputs": [],
   "source": [
    "scenario = None\n",
    "for ix, ([scenario_id], (ctx1, ctx2), (ids1, ids2)) in enumerate(ctx_gen.iter()):\n",
    "#     if scenario_id == 'S_11J8n40u4HRVduwi':\n",
    "#         print('found it')\n",
    "#         scenario = scenarios[scenario_id]\n",
    "#         break\n",
    "    if ix == 1:\n",
    "        scenario = selfplay_scenarios[scenario_id]\n",
    "        break"
   ]
  },
  {
   "cell_type": "code",
   "execution_count": 46,
   "metadata": {},
   "outputs": [
    {
     "name": "stdout",
     "output_type": "stream",
     "text": [
      "S_KtpcMNhRP3KfKgxQ\n"
     ]
    }
   ],
   "source": [
    "print(scenario_id)"
   ]
  },
  {
   "cell_type": "code",
   "execution_count": 50,
   "metadata": {
    "scrolled": false
   },
   "outputs": [
    {
     "name": "stdout",
     "output_type": "stream",
     "text": [
      "0\ti have a large black dot with a smaller light grey dot to the right of it <eos>\n",
      "\n",
      "feed attention: [4.0425375e-01 2.2526349e-06 4.8737253e-10 4.8045615e-16 5.5356938e-01\n",
      " 4.0691510e-02 1.4831466e-03]\n"
     ]
    },
    {
     "data": {
      "text/html": [
       "<div style=\"white-space: nowrap\"><svg width=\"430\" height=\"430\" id=\"agent_0\"><circle cx=\"215\" cy=\"215\" r=\"205\" fill=\"none\" stroke=\"black\" stroke-width=\"2\" stroke-dasharray=\"3,3\"/><circle cx=\"273\" cy=\"350\" r=\"12\" fill=\"rgb(110,110,110)\"/><circle cx=\"61\" cy=\"323\" r=\"9\" fill=\"rgb(125,125,125)\"/><circle cx=\"208\" cy=\"262\" r=\"8\" fill=\"rgb(95,95,95)\"/><circle cx=\"319\" cy=\"216\" r=\"8\" fill=\"rgb(123,123,123)\"/><circle cx=\"255\" cy=\"318\" r=\"12\" fill=\"rgb(108,108,108)\"/><circle cx=\"325\" cy=\"255\" r=\"12\" fill=\"rgb(161,161,161)\"/><circle cx=\"224\" cy=\"407\" r=\"11\" fill=\"rgb(166,166,166)\"/></svg><svg id=\"svg\" width=\"430\" height=\"430\"><circle cx=\"215\" cy=\"215\" r=\"205\" fill=\"none\" stroke=\"black\" stroke-width=\"2\" stroke-dasharray=\"3,3\"/> <circle cx=\"273\" cy=\"350\" r=\"12\" fill=\"rgb(255,151,151)\" /><circle cx=\"61\" cy=\"323\" r=\"9\" fill=\"rgb(255,254,254)\" /><circle cx=\"208\" cy=\"262\" r=\"8\" fill=\"rgb(255,254,254)\" /><circle cx=\"319\" cy=\"216\" r=\"8\" fill=\"rgb(255,254,254)\" /><circle cx=\"255\" cy=\"318\" r=\"12\" fill=\"rgb(255,113,113)\" /><circle cx=\"325\" cy=\"255\" r=\"12\" fill=\"rgb(255,244,244)\" /><circle cx=\"224\" cy=\"407\" r=\"11\" fill=\"rgb(255,254,254)\" /></svg></div>"
      ],
      "text/plain": [
       "<IPython.core.display.HTML object>"
      ]
     },
     "metadata": {},
     "output_type": "display_data"
    },
    {
     "name": "stdout",
     "output_type": "stream",
     "text": [
      "word attention mean: [0.21453267 0.1086643  0.04040901 0.00164877 0.26169434 0.21964608\n",
      " 0.1534048 ]\n"
     ]
    },
    {
     "data": {
      "text/html": [
       "<div style=\"white-space: nowrap\"><svg width=\"430\" height=\"430\" id=\"agent_0\"><circle cx=\"215\" cy=\"215\" r=\"205\" fill=\"none\" stroke=\"black\" stroke-width=\"2\" stroke-dasharray=\"3,3\"/><circle cx=\"273\" cy=\"350\" r=\"12\" fill=\"rgb(110,110,110)\"/><circle cx=\"61\" cy=\"323\" r=\"9\" fill=\"rgb(125,125,125)\"/><circle cx=\"208\" cy=\"262\" r=\"8\" fill=\"rgb(95,95,95)\"/><circle cx=\"319\" cy=\"216\" r=\"8\" fill=\"rgb(123,123,123)\"/><circle cx=\"255\" cy=\"318\" r=\"12\" fill=\"rgb(108,108,108)\"/><circle cx=\"325\" cy=\"255\" r=\"12\" fill=\"rgb(161,161,161)\"/><circle cx=\"224\" cy=\"407\" r=\"11\" fill=\"rgb(166,166,166)\"/></svg><svg id=\"svg\" width=\"430\" height=\"430\"><circle cx=\"215\" cy=\"215\" r=\"205\" fill=\"none\" stroke=\"black\" stroke-width=\"2\" stroke-dasharray=\"3,3\"/> <circle cx=\"273\" cy=\"350\" r=\"12\" fill=\"rgb(255,200,200)\" /><circle cx=\"61\" cy=\"323\" r=\"9\" fill=\"rgb(255,227,227)\" /><circle cx=\"208\" cy=\"262\" r=\"8\" fill=\"rgb(255,244,244)\" /><circle cx=\"319\" cy=\"216\" r=\"8\" fill=\"rgb(255,254,254)\" /><circle cx=\"255\" cy=\"318\" r=\"12\" fill=\"rgb(255,188,188)\" /><circle cx=\"325\" cy=\"255\" r=\"12\" fill=\"rgb(255,198,198)\" /><circle cx=\"224\" cy=\"407\" r=\"11\" fill=\"rgb(255,215,215)\" /></svg></div>"
      ],
      "text/plain": [
       "<IPython.core.display.HTML object>"
      ]
     },
     "metadata": {},
     "output_type": "display_data"
    },
    {
     "name": "stdout",
     "output_type": "stream",
     "text": [
      "t 0: i: [2.1879005e-01 1.3062571e-01 6.7302119e-03 7.5696671e-06 2.2003511e-01\n",
      " 2.1608242e-01 2.0772897e-01]\n"
     ]
    },
    {
     "data": {
      "text/html": [
       "<div style=\"white-space: nowrap\"><svg width=\"430\" height=\"430\" id=\"agent_0\"><circle cx=\"215\" cy=\"215\" r=\"205\" fill=\"none\" stroke=\"black\" stroke-width=\"2\" stroke-dasharray=\"3,3\"/><circle cx=\"273\" cy=\"350\" r=\"12\" fill=\"rgb(110,110,110)\"/><circle cx=\"61\" cy=\"323\" r=\"9\" fill=\"rgb(125,125,125)\"/><circle cx=\"208\" cy=\"262\" r=\"8\" fill=\"rgb(95,95,95)\"/><circle cx=\"319\" cy=\"216\" r=\"8\" fill=\"rgb(123,123,123)\"/><circle cx=\"255\" cy=\"318\" r=\"12\" fill=\"rgb(108,108,108)\"/><circle cx=\"325\" cy=\"255\" r=\"12\" fill=\"rgb(161,161,161)\"/><circle cx=\"224\" cy=\"407\" r=\"11\" fill=\"rgb(166,166,166)\"/></svg><svg id=\"svg\" width=\"430\" height=\"430\"><circle cx=\"215\" cy=\"215\" r=\"205\" fill=\"none\" stroke=\"black\" stroke-width=\"2\" stroke-dasharray=\"3,3\"/> <circle cx=\"273\" cy=\"350\" r=\"12\" fill=\"rgb(255,199,199)\" /><circle cx=\"61\" cy=\"323\" r=\"9\" fill=\"rgb(255,221,221)\" /><circle cx=\"208\" cy=\"262\" r=\"8\" fill=\"rgb(255,253,253)\" /><circle cx=\"319\" cy=\"216\" r=\"8\" fill=\"rgb(255,254,254)\" /><circle cx=\"255\" cy=\"318\" r=\"12\" fill=\"rgb(255,198,198)\" /><circle cx=\"325\" cy=\"255\" r=\"12\" fill=\"rgb(255,199,199)\" /><circle cx=\"224\" cy=\"407\" r=\"11\" fill=\"rgb(255,202,202)\" /></svg></div>"
      ],
      "text/plain": [
       "<IPython.core.display.HTML object>"
      ]
     },
     "metadata": {},
     "output_type": "display_data"
    },
    {
     "name": "stdout",
     "output_type": "stream",
     "text": [
      "t 1: have: [2.6443505e-01 2.2380693e-02 3.9239624e-04 3.1872315e-07 3.1523326e-01\n",
      " 2.6885673e-01 1.2870154e-01]\n"
     ]
    },
    {
     "data": {
      "text/html": [
       "<div style=\"white-space: nowrap\"><svg width=\"430\" height=\"430\" id=\"agent_0\"><circle cx=\"215\" cy=\"215\" r=\"205\" fill=\"none\" stroke=\"black\" stroke-width=\"2\" stroke-dasharray=\"3,3\"/><circle cx=\"273\" cy=\"350\" r=\"12\" fill=\"rgb(110,110,110)\"/><circle cx=\"61\" cy=\"323\" r=\"9\" fill=\"rgb(125,125,125)\"/><circle cx=\"208\" cy=\"262\" r=\"8\" fill=\"rgb(95,95,95)\"/><circle cx=\"319\" cy=\"216\" r=\"8\" fill=\"rgb(123,123,123)\"/><circle cx=\"255\" cy=\"318\" r=\"12\" fill=\"rgb(108,108,108)\"/><circle cx=\"325\" cy=\"255\" r=\"12\" fill=\"rgb(161,161,161)\"/><circle cx=\"224\" cy=\"407\" r=\"11\" fill=\"rgb(166,166,166)\"/></svg><svg id=\"svg\" width=\"430\" height=\"430\"><circle cx=\"215\" cy=\"215\" r=\"205\" fill=\"none\" stroke=\"black\" stroke-width=\"2\" stroke-dasharray=\"3,3\"/> <circle cx=\"273\" cy=\"350\" r=\"12\" fill=\"rgb(255,187,187)\" /><circle cx=\"61\" cy=\"323\" r=\"9\" fill=\"rgb(255,249,249)\" /><circle cx=\"208\" cy=\"262\" r=\"8\" fill=\"rgb(255,254,254)\" /><circle cx=\"319\" cy=\"216\" r=\"8\" fill=\"rgb(255,254,254)\" /><circle cx=\"255\" cy=\"318\" r=\"12\" fill=\"rgb(255,174,174)\" /><circle cx=\"325\" cy=\"255\" r=\"12\" fill=\"rgb(255,186,186)\" /><circle cx=\"224\" cy=\"407\" r=\"11\" fill=\"rgb(255,222,222)\" /></svg></div>"
      ],
      "text/plain": [
       "<IPython.core.display.HTML object>"
      ]
     },
     "metadata": {},
     "output_type": "display_data"
    },
    {
     "name": "stdout",
     "output_type": "stream",
     "text": [
      "t 2: a: [2.1130657e-01 1.4445600e-01 3.1705108e-02 1.1004100e-04 2.1389352e-01\n",
      " 2.0922853e-01 1.8930018e-01]\n"
     ]
    },
    {
     "data": {
      "text/html": [
       "<div style=\"white-space: nowrap\"><svg width=\"430\" height=\"430\" id=\"agent_0\"><circle cx=\"215\" cy=\"215\" r=\"205\" fill=\"none\" stroke=\"black\" stroke-width=\"2\" stroke-dasharray=\"3,3\"/><circle cx=\"273\" cy=\"350\" r=\"12\" fill=\"rgb(110,110,110)\"/><circle cx=\"61\" cy=\"323\" r=\"9\" fill=\"rgb(125,125,125)\"/><circle cx=\"208\" cy=\"262\" r=\"8\" fill=\"rgb(95,95,95)\"/><circle cx=\"319\" cy=\"216\" r=\"8\" fill=\"rgb(123,123,123)\"/><circle cx=\"255\" cy=\"318\" r=\"12\" fill=\"rgb(108,108,108)\"/><circle cx=\"325\" cy=\"255\" r=\"12\" fill=\"rgb(161,161,161)\"/><circle cx=\"224\" cy=\"407\" r=\"11\" fill=\"rgb(166,166,166)\"/></svg><svg id=\"svg\" width=\"430\" height=\"430\"><circle cx=\"215\" cy=\"215\" r=\"205\" fill=\"none\" stroke=\"black\" stroke-width=\"2\" stroke-dasharray=\"3,3\"/> <circle cx=\"273\" cy=\"350\" r=\"12\" fill=\"rgb(255,201,201)\" /><circle cx=\"61\" cy=\"323\" r=\"9\" fill=\"rgb(255,218,218)\" /><circle cx=\"208\" cy=\"262\" r=\"8\" fill=\"rgb(255,246,246)\" /><circle cx=\"319\" cy=\"216\" r=\"8\" fill=\"rgb(255,254,254)\" /><circle cx=\"255\" cy=\"318\" r=\"12\" fill=\"rgb(255,200,200)\" /><circle cx=\"325\" cy=\"255\" r=\"12\" fill=\"rgb(255,201,201)\" /><circle cx=\"224\" cy=\"407\" r=\"11\" fill=\"rgb(255,206,206)\" /></svg></div>"
      ],
      "text/plain": [
       "<IPython.core.display.HTML object>"
      ]
     },
     "metadata": {},
     "output_type": "display_data"
    },
    {
     "name": "stdout",
     "output_type": "stream",
     "text": [
      "t 3: large: [2.4117370e-01 1.9406554e-03 3.6175294e-05 4.4647070e-08 4.6545115e-01\n",
      " 2.6407692e-01 2.7321393e-02]\n"
     ]
    },
    {
     "data": {
      "text/html": [
       "<div style=\"white-space: nowrap\"><svg width=\"430\" height=\"430\" id=\"agent_0\"><circle cx=\"215\" cy=\"215\" r=\"205\" fill=\"none\" stroke=\"black\" stroke-width=\"2\" stroke-dasharray=\"3,3\"/><circle cx=\"273\" cy=\"350\" r=\"12\" fill=\"rgb(110,110,110)\"/><circle cx=\"61\" cy=\"323\" r=\"9\" fill=\"rgb(125,125,125)\"/><circle cx=\"208\" cy=\"262\" r=\"8\" fill=\"rgb(95,95,95)\"/><circle cx=\"319\" cy=\"216\" r=\"8\" fill=\"rgb(123,123,123)\"/><circle cx=\"255\" cy=\"318\" r=\"12\" fill=\"rgb(108,108,108)\"/><circle cx=\"325\" cy=\"255\" r=\"12\" fill=\"rgb(161,161,161)\"/><circle cx=\"224\" cy=\"407\" r=\"11\" fill=\"rgb(166,166,166)\"/></svg><svg id=\"svg\" width=\"430\" height=\"430\"><circle cx=\"215\" cy=\"215\" r=\"205\" fill=\"none\" stroke=\"black\" stroke-width=\"2\" stroke-dasharray=\"3,3\"/> <circle cx=\"273\" cy=\"350\" r=\"12\" fill=\"rgb(255,193,193)\" /><circle cx=\"61\" cy=\"323\" r=\"9\" fill=\"rgb(255,254,254)\" /><circle cx=\"208\" cy=\"262\" r=\"8\" fill=\"rgb(255,254,254)\" /><circle cx=\"319\" cy=\"216\" r=\"8\" fill=\"rgb(255,254,254)\" /><circle cx=\"255\" cy=\"318\" r=\"12\" fill=\"rgb(255,136,136)\" /><circle cx=\"325\" cy=\"255\" r=\"12\" fill=\"rgb(255,187,187)\" /><circle cx=\"224\" cy=\"407\" r=\"11\" fill=\"rgb(255,248,248)\" /></svg></div>"
      ],
      "text/plain": [
       "<IPython.core.display.HTML object>"
      ]
     },
     "metadata": {},
     "output_type": "display_data"
    },
    {
     "name": "stdout",
     "output_type": "stream",
     "text": [
      "t 4: black: [2.4141422e-01 2.2859622e-03 5.0964849e-05 8.9183445e-08 4.6536183e-01\n",
      " 2.6446813e-01 2.6418895e-02]\n"
     ]
    },
    {
     "data": {
      "text/html": [
       "<div style=\"white-space: nowrap\"><svg width=\"430\" height=\"430\" id=\"agent_0\"><circle cx=\"215\" cy=\"215\" r=\"205\" fill=\"none\" stroke=\"black\" stroke-width=\"2\" stroke-dasharray=\"3,3\"/><circle cx=\"273\" cy=\"350\" r=\"12\" fill=\"rgb(110,110,110)\"/><circle cx=\"61\" cy=\"323\" r=\"9\" fill=\"rgb(125,125,125)\"/><circle cx=\"208\" cy=\"262\" r=\"8\" fill=\"rgb(95,95,95)\"/><circle cx=\"319\" cy=\"216\" r=\"8\" fill=\"rgb(123,123,123)\"/><circle cx=\"255\" cy=\"318\" r=\"12\" fill=\"rgb(108,108,108)\"/><circle cx=\"325\" cy=\"255\" r=\"12\" fill=\"rgb(161,161,161)\"/><circle cx=\"224\" cy=\"407\" r=\"11\" fill=\"rgb(166,166,166)\"/></svg><svg id=\"svg\" width=\"430\" height=\"430\"><circle cx=\"215\" cy=\"215\" r=\"205\" fill=\"none\" stroke=\"black\" stroke-width=\"2\" stroke-dasharray=\"3,3\"/> <circle cx=\"273\" cy=\"350\" r=\"12\" fill=\"rgb(255,193,193)\" /><circle cx=\"61\" cy=\"323\" r=\"9\" fill=\"rgb(255,254,254)\" /><circle cx=\"208\" cy=\"262\" r=\"8\" fill=\"rgb(255,254,254)\" /><circle cx=\"319\" cy=\"216\" r=\"8\" fill=\"rgb(255,254,254)\" /><circle cx=\"255\" cy=\"318\" r=\"12\" fill=\"rgb(255,136,136)\" /><circle cx=\"325\" cy=\"255\" r=\"12\" fill=\"rgb(255,187,187)\" /><circle cx=\"224\" cy=\"407\" r=\"11\" fill=\"rgb(255,248,248)\" /></svg></div>"
      ],
      "text/plain": [
       "<IPython.core.display.HTML object>"
      ]
     },
     "metadata": {},
     "output_type": "display_data"
    },
    {
     "name": "stdout",
     "output_type": "stream",
     "text": [
      "t 5: dot: [2.2398202e-01 1.1034011e-01 1.8402860e-02 7.6629738e-05 2.2558871e-01\n",
      " 2.2297908e-01 1.9863059e-01]\n"
     ]
    },
    {
     "data": {
      "text/html": [
       "<div style=\"white-space: nowrap\"><svg width=\"430\" height=\"430\" id=\"agent_0\"><circle cx=\"215\" cy=\"215\" r=\"205\" fill=\"none\" stroke=\"black\" stroke-width=\"2\" stroke-dasharray=\"3,3\"/><circle cx=\"273\" cy=\"350\" r=\"12\" fill=\"rgb(110,110,110)\"/><circle cx=\"61\" cy=\"323\" r=\"9\" fill=\"rgb(125,125,125)\"/><circle cx=\"208\" cy=\"262\" r=\"8\" fill=\"rgb(95,95,95)\"/><circle cx=\"319\" cy=\"216\" r=\"8\" fill=\"rgb(123,123,123)\"/><circle cx=\"255\" cy=\"318\" r=\"12\" fill=\"rgb(108,108,108)\"/><circle cx=\"325\" cy=\"255\" r=\"12\" fill=\"rgb(161,161,161)\"/><circle cx=\"224\" cy=\"407\" r=\"11\" fill=\"rgb(166,166,166)\"/></svg><svg id=\"svg\" width=\"430\" height=\"430\"><circle cx=\"215\" cy=\"215\" r=\"205\" fill=\"none\" stroke=\"black\" stroke-width=\"2\" stroke-dasharray=\"3,3\"/> <circle cx=\"273\" cy=\"350\" r=\"12\" fill=\"rgb(255,197,197)\" /><circle cx=\"61\" cy=\"323\" r=\"9\" fill=\"rgb(255,226,226)\" /><circle cx=\"208\" cy=\"262\" r=\"8\" fill=\"rgb(255,250,250)\" /><circle cx=\"319\" cy=\"216\" r=\"8\" fill=\"rgb(255,254,254)\" /><circle cx=\"255\" cy=\"318\" r=\"12\" fill=\"rgb(255,197,197)\" /><circle cx=\"325\" cy=\"255\" r=\"12\" fill=\"rgb(255,198,198)\" /><circle cx=\"224\" cy=\"407\" r=\"11\" fill=\"rgb(255,204,204)\" /></svg></div>"
      ],
      "text/plain": [
       "<IPython.core.display.HTML object>"
      ]
     },
     "metadata": {},
     "output_type": "display_data"
    },
    {
     "name": "stdout",
     "output_type": "stream",
     "text": [
      "t 6: with: [2.0835035e-01 1.5898456e-01 2.1496790e-02 7.5184194e-05 2.1209066e-01\n",
      " 2.0659828e-01 1.9240415e-01]\n"
     ]
    },
    {
     "data": {
      "text/html": [
       "<div style=\"white-space: nowrap\"><svg width=\"430\" height=\"430\" id=\"agent_0\"><circle cx=\"215\" cy=\"215\" r=\"205\" fill=\"none\" stroke=\"black\" stroke-width=\"2\" stroke-dasharray=\"3,3\"/><circle cx=\"273\" cy=\"350\" r=\"12\" fill=\"rgb(110,110,110)\"/><circle cx=\"61\" cy=\"323\" r=\"9\" fill=\"rgb(125,125,125)\"/><circle cx=\"208\" cy=\"262\" r=\"8\" fill=\"rgb(95,95,95)\"/><circle cx=\"319\" cy=\"216\" r=\"8\" fill=\"rgb(123,123,123)\"/><circle cx=\"255\" cy=\"318\" r=\"12\" fill=\"rgb(108,108,108)\"/><circle cx=\"325\" cy=\"255\" r=\"12\" fill=\"rgb(161,161,161)\"/><circle cx=\"224\" cy=\"407\" r=\"11\" fill=\"rgb(166,166,166)\"/></svg><svg id=\"svg\" width=\"430\" height=\"430\"><circle cx=\"215\" cy=\"215\" r=\"205\" fill=\"none\" stroke=\"black\" stroke-width=\"2\" stroke-dasharray=\"3,3\"/> <circle cx=\"273\" cy=\"350\" r=\"12\" fill=\"rgb(255,201,201)\" /><circle cx=\"61\" cy=\"323\" r=\"9\" fill=\"rgb(255,214,214)\" /><circle cx=\"208\" cy=\"262\" r=\"8\" fill=\"rgb(255,249,249)\" /><circle cx=\"319\" cy=\"216\" r=\"8\" fill=\"rgb(255,254,254)\" /><circle cx=\"255\" cy=\"318\" r=\"12\" fill=\"rgb(255,200,200)\" /><circle cx=\"325\" cy=\"255\" r=\"12\" fill=\"rgb(255,202,202)\" /><circle cx=\"224\" cy=\"407\" r=\"11\" fill=\"rgb(255,205,205)\" /></svg></div>"
      ],
      "text/plain": [
       "<IPython.core.display.HTML object>"
      ]
     },
     "metadata": {},
     "output_type": "display_data"
    },
    {
     "name": "stdout",
     "output_type": "stream",
     "text": [
      "t 7: a: [2.2054321e-01 1.2175107e-01 1.2782942e-02 3.9007678e-05 2.2595000e-01\n",
      " 2.1794030e-01 2.0099346e-01]\n"
     ]
    },
    {
     "data": {
      "text/html": [
       "<div style=\"white-space: nowrap\"><svg width=\"430\" height=\"430\" id=\"agent_0\"><circle cx=\"215\" cy=\"215\" r=\"205\" fill=\"none\" stroke=\"black\" stroke-width=\"2\" stroke-dasharray=\"3,3\"/><circle cx=\"273\" cy=\"350\" r=\"12\" fill=\"rgb(110,110,110)\"/><circle cx=\"61\" cy=\"323\" r=\"9\" fill=\"rgb(125,125,125)\"/><circle cx=\"208\" cy=\"262\" r=\"8\" fill=\"rgb(95,95,95)\"/><circle cx=\"319\" cy=\"216\" r=\"8\" fill=\"rgb(123,123,123)\"/><circle cx=\"255\" cy=\"318\" r=\"12\" fill=\"rgb(108,108,108)\"/><circle cx=\"325\" cy=\"255\" r=\"12\" fill=\"rgb(161,161,161)\"/><circle cx=\"224\" cy=\"407\" r=\"11\" fill=\"rgb(166,166,166)\"/></svg><svg id=\"svg\" width=\"430\" height=\"430\"><circle cx=\"215\" cy=\"215\" r=\"205\" fill=\"none\" stroke=\"black\" stroke-width=\"2\" stroke-dasharray=\"3,3\"/> <circle cx=\"273\" cy=\"350\" r=\"12\" fill=\"rgb(255,198,198)\" /><circle cx=\"61\" cy=\"323\" r=\"9\" fill=\"rgb(255,223,223)\" /><circle cx=\"208\" cy=\"262\" r=\"8\" fill=\"rgb(255,251,251)\" /><circle cx=\"319\" cy=\"216\" r=\"8\" fill=\"rgb(255,254,254)\" /><circle cx=\"255\" cy=\"318\" r=\"12\" fill=\"rgb(255,197,197)\" /><circle cx=\"325\" cy=\"255\" r=\"12\" fill=\"rgb(255,199,199)\" /><circle cx=\"224\" cy=\"407\" r=\"11\" fill=\"rgb(255,203,203)\" /></svg></div>"
      ],
      "text/plain": [
       "<IPython.core.display.HTML object>"
      ]
     },
     "metadata": {},
     "output_type": "display_data"
    },
    {
     "name": "stdout",
     "output_type": "stream",
     "text": [
      "t 8: smaller: [2.3658051e-01 2.0052821e-03 3.2299307e-05 4.5823832e-08 4.5510337e-01\n",
      " 2.7644175e-01 2.9836792e-02]\n"
     ]
    },
    {
     "data": {
      "text/html": [
       "<div style=\"white-space: nowrap\"><svg width=\"430\" height=\"430\" id=\"agent_0\"><circle cx=\"215\" cy=\"215\" r=\"205\" fill=\"none\" stroke=\"black\" stroke-width=\"2\" stroke-dasharray=\"3,3\"/><circle cx=\"273\" cy=\"350\" r=\"12\" fill=\"rgb(110,110,110)\"/><circle cx=\"61\" cy=\"323\" r=\"9\" fill=\"rgb(125,125,125)\"/><circle cx=\"208\" cy=\"262\" r=\"8\" fill=\"rgb(95,95,95)\"/><circle cx=\"319\" cy=\"216\" r=\"8\" fill=\"rgb(123,123,123)\"/><circle cx=\"255\" cy=\"318\" r=\"12\" fill=\"rgb(108,108,108)\"/><circle cx=\"325\" cy=\"255\" r=\"12\" fill=\"rgb(161,161,161)\"/><circle cx=\"224\" cy=\"407\" r=\"11\" fill=\"rgb(166,166,166)\"/></svg><svg id=\"svg\" width=\"430\" height=\"430\"><circle cx=\"215\" cy=\"215\" r=\"205\" fill=\"none\" stroke=\"black\" stroke-width=\"2\" stroke-dasharray=\"3,3\"/> <circle cx=\"273\" cy=\"350\" r=\"12\" fill=\"rgb(255,194,194)\" /><circle cx=\"61\" cy=\"323\" r=\"9\" fill=\"rgb(255,254,254)\" /><circle cx=\"208\" cy=\"262\" r=\"8\" fill=\"rgb(255,254,254)\" /><circle cx=\"319\" cy=\"216\" r=\"8\" fill=\"rgb(255,254,254)\" /><circle cx=\"255\" cy=\"318\" r=\"12\" fill=\"rgb(255,138,138)\" /><circle cx=\"325\" cy=\"255\" r=\"12\" fill=\"rgb(255,184,184)\" /><circle cx=\"224\" cy=\"407\" r=\"11\" fill=\"rgb(255,247,247)\" /></svg></div>"
      ],
      "text/plain": [
       "<IPython.core.display.HTML object>"
      ]
     },
     "metadata": {},
     "output_type": "display_data"
    },
    {
     "name": "stdout",
     "output_type": "stream",
     "text": [
      "t 9: light: [2.6639599e-01 9.6988128e-03 3.3466853e-04 8.0701545e-07 3.8242993e-01\n",
      " 2.7216318e-01 6.8976633e-02]\n"
     ]
    },
    {
     "data": {
      "text/html": [
       "<div style=\"white-space: nowrap\"><svg width=\"430\" height=\"430\" id=\"agent_0\"><circle cx=\"215\" cy=\"215\" r=\"205\" fill=\"none\" stroke=\"black\" stroke-width=\"2\" stroke-dasharray=\"3,3\"/><circle cx=\"273\" cy=\"350\" r=\"12\" fill=\"rgb(110,110,110)\"/><circle cx=\"61\" cy=\"323\" r=\"9\" fill=\"rgb(125,125,125)\"/><circle cx=\"208\" cy=\"262\" r=\"8\" fill=\"rgb(95,95,95)\"/><circle cx=\"319\" cy=\"216\" r=\"8\" fill=\"rgb(123,123,123)\"/><circle cx=\"255\" cy=\"318\" r=\"12\" fill=\"rgb(108,108,108)\"/><circle cx=\"325\" cy=\"255\" r=\"12\" fill=\"rgb(161,161,161)\"/><circle cx=\"224\" cy=\"407\" r=\"11\" fill=\"rgb(166,166,166)\"/></svg><svg id=\"svg\" width=\"430\" height=\"430\"><circle cx=\"215\" cy=\"215\" r=\"205\" fill=\"none\" stroke=\"black\" stroke-width=\"2\" stroke-dasharray=\"3,3\"/> <circle cx=\"273\" cy=\"350\" r=\"12\" fill=\"rgb(255,187,187)\" /><circle cx=\"61\" cy=\"323\" r=\"9\" fill=\"rgb(255,252,252)\" /><circle cx=\"208\" cy=\"262\" r=\"8\" fill=\"rgb(255,254,254)\" /><circle cx=\"319\" cy=\"216\" r=\"8\" fill=\"rgb(255,254,254)\" /><circle cx=\"255\" cy=\"318\" r=\"12\" fill=\"rgb(255,157,157)\" /><circle cx=\"325\" cy=\"255\" r=\"12\" fill=\"rgb(255,185,185)\" /><circle cx=\"224\" cy=\"407\" r=\"11\" fill=\"rgb(255,237,237)\" /></svg></div>"
      ],
      "text/plain": [
       "<IPython.core.display.HTML object>"
      ]
     },
     "metadata": {},
     "output_type": "display_data"
    },
    {
     "name": "stdout",
     "output_type": "stream",
     "text": [
      "t 10: grey: [2.41820961e-01 6.95610866e-02 5.01874182e-03 1.49169955e-05\n",
      " 2.48143941e-01 2.46703610e-01 1.88736752e-01]\n"
     ]
    },
    {
     "data": {
      "text/html": [
       "<div style=\"white-space: nowrap\"><svg width=\"430\" height=\"430\" id=\"agent_0\"><circle cx=\"215\" cy=\"215\" r=\"205\" fill=\"none\" stroke=\"black\" stroke-width=\"2\" stroke-dasharray=\"3,3\"/><circle cx=\"273\" cy=\"350\" r=\"12\" fill=\"rgb(110,110,110)\"/><circle cx=\"61\" cy=\"323\" r=\"9\" fill=\"rgb(125,125,125)\"/><circle cx=\"208\" cy=\"262\" r=\"8\" fill=\"rgb(95,95,95)\"/><circle cx=\"319\" cy=\"216\" r=\"8\" fill=\"rgb(123,123,123)\"/><circle cx=\"255\" cy=\"318\" r=\"12\" fill=\"rgb(108,108,108)\"/><circle cx=\"325\" cy=\"255\" r=\"12\" fill=\"rgb(161,161,161)\"/><circle cx=\"224\" cy=\"407\" r=\"11\" fill=\"rgb(166,166,166)\"/></svg><svg id=\"svg\" width=\"430\" height=\"430\"><circle cx=\"215\" cy=\"215\" r=\"205\" fill=\"none\" stroke=\"black\" stroke-width=\"2\" stroke-dasharray=\"3,3\"/> <circle cx=\"273\" cy=\"350\" r=\"12\" fill=\"rgb(255,193,193)\" /><circle cx=\"61\" cy=\"323\" r=\"9\" fill=\"rgb(255,237,237)\" /><circle cx=\"208\" cy=\"262\" r=\"8\" fill=\"rgb(255,253,253)\" /><circle cx=\"319\" cy=\"216\" r=\"8\" fill=\"rgb(255,254,254)\" /><circle cx=\"255\" cy=\"318\" r=\"12\" fill=\"rgb(255,191,191)\" /><circle cx=\"325\" cy=\"255\" r=\"12\" fill=\"rgb(255,192,192)\" /><circle cx=\"224\" cy=\"407\" r=\"11\" fill=\"rgb(255,206,206)\" /></svg></div>"
      ],
      "text/plain": [
       "<IPython.core.display.HTML object>"
      ]
     },
     "metadata": {},
     "output_type": "display_data"
    },
    {
     "name": "stdout",
     "output_type": "stream",
     "text": [
      "t 11: dot: [2.0238334e-01 1.6085657e-01 2.7737251e-02 1.2689292e-04 2.0107158e-01\n",
      " 2.0387934e-01 2.0394504e-01]\n"
     ]
    },
    {
     "data": {
      "text/html": [
       "<div style=\"white-space: nowrap\"><svg width=\"430\" height=\"430\" id=\"agent_0\"><circle cx=\"215\" cy=\"215\" r=\"205\" fill=\"none\" stroke=\"black\" stroke-width=\"2\" stroke-dasharray=\"3,3\"/><circle cx=\"273\" cy=\"350\" r=\"12\" fill=\"rgb(110,110,110)\"/><circle cx=\"61\" cy=\"323\" r=\"9\" fill=\"rgb(125,125,125)\"/><circle cx=\"208\" cy=\"262\" r=\"8\" fill=\"rgb(95,95,95)\"/><circle cx=\"319\" cy=\"216\" r=\"8\" fill=\"rgb(123,123,123)\"/><circle cx=\"255\" cy=\"318\" r=\"12\" fill=\"rgb(108,108,108)\"/><circle cx=\"325\" cy=\"255\" r=\"12\" fill=\"rgb(161,161,161)\"/><circle cx=\"224\" cy=\"407\" r=\"11\" fill=\"rgb(166,166,166)\"/></svg><svg id=\"svg\" width=\"430\" height=\"430\"><circle cx=\"215\" cy=\"215\" r=\"205\" fill=\"none\" stroke=\"black\" stroke-width=\"2\" stroke-dasharray=\"3,3\"/> <circle cx=\"273\" cy=\"350\" r=\"12\" fill=\"rgb(255,203,203)\" /><circle cx=\"61\" cy=\"323\" r=\"9\" fill=\"rgb(255,213,213)\" /><circle cx=\"208\" cy=\"262\" r=\"8\" fill=\"rgb(255,247,247)\" /><circle cx=\"319\" cy=\"216\" r=\"8\" fill=\"rgb(255,254,254)\" /><circle cx=\"255\" cy=\"318\" r=\"12\" fill=\"rgb(255,203,203)\" /><circle cx=\"325\" cy=\"255\" r=\"12\" fill=\"rgb(255,203,203)\" /><circle cx=\"224\" cy=\"407\" r=\"11\" fill=\"rgb(255,202,202)\" /></svg></div>"
      ],
      "text/plain": [
       "<IPython.core.display.HTML object>"
      ]
     },
     "metadata": {},
     "output_type": "display_data"
    },
    {
     "name": "stdout",
     "output_type": "stream",
     "text": [
      "t 12: to: [0.17874505 0.18082011 0.10533848 0.00064594 0.17809866 0.1759871\n",
      " 0.18036464]\n"
     ]
    },
    {
     "data": {
      "text/html": [
       "<div style=\"white-space: nowrap\"><svg width=\"430\" height=\"430\" id=\"agent_0\"><circle cx=\"215\" cy=\"215\" r=\"205\" fill=\"none\" stroke=\"black\" stroke-width=\"2\" stroke-dasharray=\"3,3\"/><circle cx=\"273\" cy=\"350\" r=\"12\" fill=\"rgb(110,110,110)\"/><circle cx=\"61\" cy=\"323\" r=\"9\" fill=\"rgb(125,125,125)\"/><circle cx=\"208\" cy=\"262\" r=\"8\" fill=\"rgb(95,95,95)\"/><circle cx=\"319\" cy=\"216\" r=\"8\" fill=\"rgb(123,123,123)\"/><circle cx=\"255\" cy=\"318\" r=\"12\" fill=\"rgb(108,108,108)\"/><circle cx=\"325\" cy=\"255\" r=\"12\" fill=\"rgb(161,161,161)\"/><circle cx=\"224\" cy=\"407\" r=\"11\" fill=\"rgb(166,166,166)\"/></svg><svg id=\"svg\" width=\"430\" height=\"430\"><circle cx=\"215\" cy=\"215\" r=\"205\" fill=\"none\" stroke=\"black\" stroke-width=\"2\" stroke-dasharray=\"3,3\"/> <circle cx=\"273\" cy=\"350\" r=\"12\" fill=\"rgb(255,209,209)\" /><circle cx=\"61\" cy=\"323\" r=\"9\" fill=\"rgb(255,208,208)\" /><circle cx=\"208\" cy=\"262\" r=\"8\" fill=\"rgb(255,228,228)\" /><circle cx=\"319\" cy=\"216\" r=\"8\" fill=\"rgb(255,254,254)\" /><circle cx=\"255\" cy=\"318\" r=\"12\" fill=\"rgb(255,209,209)\" /><circle cx=\"325\" cy=\"255\" r=\"12\" fill=\"rgb(255,210,210)\" /><circle cx=\"224\" cy=\"407\" r=\"11\" fill=\"rgb(255,209,209)\" /></svg></div>"
      ],
      "text/plain": [
       "<IPython.core.display.HTML object>"
      ]
     },
     "metadata": {},
     "output_type": "display_data"
    },
    {
     "name": "stdout",
     "output_type": "stream",
     "text": [
      "t 13: the: [0.16889729 0.18633805 0.11935012 0.00131693 0.16517378 0.17196326\n",
      " 0.1869606 ]\n"
     ]
    },
    {
     "data": {
      "text/html": [
       "<div style=\"white-space: nowrap\"><svg width=\"430\" height=\"430\" id=\"agent_0\"><circle cx=\"215\" cy=\"215\" r=\"205\" fill=\"none\" stroke=\"black\" stroke-width=\"2\" stroke-dasharray=\"3,3\"/><circle cx=\"273\" cy=\"350\" r=\"12\" fill=\"rgb(110,110,110)\"/><circle cx=\"61\" cy=\"323\" r=\"9\" fill=\"rgb(125,125,125)\"/><circle cx=\"208\" cy=\"262\" r=\"8\" fill=\"rgb(95,95,95)\"/><circle cx=\"319\" cy=\"216\" r=\"8\" fill=\"rgb(123,123,123)\"/><circle cx=\"255\" cy=\"318\" r=\"12\" fill=\"rgb(108,108,108)\"/><circle cx=\"325\" cy=\"255\" r=\"12\" fill=\"rgb(161,161,161)\"/><circle cx=\"224\" cy=\"407\" r=\"11\" fill=\"rgb(166,166,166)\"/></svg><svg id=\"svg\" width=\"430\" height=\"430\"><circle cx=\"215\" cy=\"215\" r=\"205\" fill=\"none\" stroke=\"black\" stroke-width=\"2\" stroke-dasharray=\"3,3\"/> <circle cx=\"273\" cy=\"350\" r=\"12\" fill=\"rgb(255,211,211)\" /><circle cx=\"61\" cy=\"323\" r=\"9\" fill=\"rgb(255,207,207)\" /><circle cx=\"208\" cy=\"262\" r=\"8\" fill=\"rgb(255,224,224)\" /><circle cx=\"319\" cy=\"216\" r=\"8\" fill=\"rgb(255,254,254)\" /><circle cx=\"255\" cy=\"318\" r=\"12\" fill=\"rgb(255,212,212)\" /><circle cx=\"325\" cy=\"255\" r=\"12\" fill=\"rgb(255,211,211)\" /><circle cx=\"224\" cy=\"407\" r=\"11\" fill=\"rgb(255,207,207)\" /></svg></div>"
      ],
      "text/plain": [
       "<IPython.core.display.HTML object>"
      ]
     },
     "metadata": {},
     "output_type": "display_data"
    },
    {
     "name": "stdout",
     "output_type": "stream",
     "text": [
      "t 14: right: [2.1207975e-01 1.3917272e-01 1.8736577e-02 3.9465318e-05 2.1476503e-01\n",
      " 2.1541049e-01 1.9979604e-01]\n"
     ]
    },
    {
     "data": {
      "text/html": [
       "<div style=\"white-space: nowrap\"><svg width=\"430\" height=\"430\" id=\"agent_0\"><circle cx=\"215\" cy=\"215\" r=\"205\" fill=\"none\" stroke=\"black\" stroke-width=\"2\" stroke-dasharray=\"3,3\"/><circle cx=\"273\" cy=\"350\" r=\"12\" fill=\"rgb(110,110,110)\"/><circle cx=\"61\" cy=\"323\" r=\"9\" fill=\"rgb(125,125,125)\"/><circle cx=\"208\" cy=\"262\" r=\"8\" fill=\"rgb(95,95,95)\"/><circle cx=\"319\" cy=\"216\" r=\"8\" fill=\"rgb(123,123,123)\"/><circle cx=\"255\" cy=\"318\" r=\"12\" fill=\"rgb(108,108,108)\"/><circle cx=\"325\" cy=\"255\" r=\"12\" fill=\"rgb(161,161,161)\"/><circle cx=\"224\" cy=\"407\" r=\"11\" fill=\"rgb(166,166,166)\"/></svg><svg id=\"svg\" width=\"430\" height=\"430\"><circle cx=\"215\" cy=\"215\" r=\"205\" fill=\"none\" stroke=\"black\" stroke-width=\"2\" stroke-dasharray=\"3,3\"/> <circle cx=\"273\" cy=\"350\" r=\"12\" fill=\"rgb(255,200,200)\" /><circle cx=\"61\" cy=\"323\" r=\"9\" fill=\"rgb(255,219,219)\" /><circle cx=\"208\" cy=\"262\" r=\"8\" fill=\"rgb(255,250,250)\" /><circle cx=\"319\" cy=\"216\" r=\"8\" fill=\"rgb(255,254,254)\" /><circle cx=\"255\" cy=\"318\" r=\"12\" fill=\"rgb(255,200,200)\" /><circle cx=\"325\" cy=\"255\" r=\"12\" fill=\"rgb(255,200,200)\" /><circle cx=\"224\" cy=\"407\" r=\"11\" fill=\"rgb(255,204,204)\" /></svg></div>"
      ],
      "text/plain": [
       "<IPython.core.display.HTML object>"
      ]
     },
     "metadata": {},
     "output_type": "display_data"
    },
    {
     "name": "stdout",
     "output_type": "stream",
     "text": [
      "t 15: of: [0.17594957 0.17335027 0.11966048 0.00140697 0.1745276  0.17655642\n",
      " 0.17854874]\n"
     ]
    },
    {
     "data": {
      "text/html": [
       "<div style=\"white-space: nowrap\"><svg width=\"430\" height=\"430\" id=\"agent_0\"><circle cx=\"215\" cy=\"215\" r=\"205\" fill=\"none\" stroke=\"black\" stroke-width=\"2\" stroke-dasharray=\"3,3\"/><circle cx=\"273\" cy=\"350\" r=\"12\" fill=\"rgb(110,110,110)\"/><circle cx=\"61\" cy=\"323\" r=\"9\" fill=\"rgb(125,125,125)\"/><circle cx=\"208\" cy=\"262\" r=\"8\" fill=\"rgb(95,95,95)\"/><circle cx=\"319\" cy=\"216\" r=\"8\" fill=\"rgb(123,123,123)\"/><circle cx=\"255\" cy=\"318\" r=\"12\" fill=\"rgb(108,108,108)\"/><circle cx=\"325\" cy=\"255\" r=\"12\" fill=\"rgb(161,161,161)\"/><circle cx=\"224\" cy=\"407\" r=\"11\" fill=\"rgb(166,166,166)\"/></svg><svg id=\"svg\" width=\"430\" height=\"430\"><circle cx=\"215\" cy=\"215\" r=\"205\" fill=\"none\" stroke=\"black\" stroke-width=\"2\" stroke-dasharray=\"3,3\"/> <circle cx=\"273\" cy=\"350\" r=\"12\" fill=\"rgb(255,210,210)\" /><circle cx=\"61\" cy=\"323\" r=\"9\" fill=\"rgb(255,210,210)\" /><circle cx=\"208\" cy=\"262\" r=\"8\" fill=\"rgb(255,224,224)\" /><circle cx=\"319\" cy=\"216\" r=\"8\" fill=\"rgb(255,254,254)\" /><circle cx=\"255\" cy=\"318\" r=\"12\" fill=\"rgb(255,210,210)\" /><circle cx=\"325\" cy=\"255\" r=\"12\" fill=\"rgb(255,209,209)\" /><circle cx=\"224\" cy=\"407\" r=\"11\" fill=\"rgb(255,209,209)\" /></svg></div>"
      ],
      "text/plain": [
       "<IPython.core.display.HTML object>"
      ]
     },
     "metadata": {},
     "output_type": "display_data"
    },
    {
     "name": "stdout",
     "output_type": "stream",
     "text": [
      "t 16: it: [0.15654841 0.17482679 0.16736993 0.02525098 0.15522218 0.1557704\n",
      " 0.16501135]\n"
     ]
    },
    {
     "data": {
      "text/html": [
       "<div style=\"white-space: nowrap\"><svg width=\"430\" height=\"430\" id=\"agent_0\"><circle cx=\"215\" cy=\"215\" r=\"205\" fill=\"none\" stroke=\"black\" stroke-width=\"2\" stroke-dasharray=\"3,3\"/><circle cx=\"273\" cy=\"350\" r=\"12\" fill=\"rgb(110,110,110)\"/><circle cx=\"61\" cy=\"323\" r=\"9\" fill=\"rgb(125,125,125)\"/><circle cx=\"208\" cy=\"262\" r=\"8\" fill=\"rgb(95,95,95)\"/><circle cx=\"319\" cy=\"216\" r=\"8\" fill=\"rgb(123,123,123)\"/><circle cx=\"255\" cy=\"318\" r=\"12\" fill=\"rgb(108,108,108)\"/><circle cx=\"325\" cy=\"255\" r=\"12\" fill=\"rgb(161,161,161)\"/><circle cx=\"224\" cy=\"407\" r=\"11\" fill=\"rgb(166,166,166)\"/></svg><svg id=\"svg\" width=\"430\" height=\"430\"><circle cx=\"215\" cy=\"215\" r=\"205\" fill=\"none\" stroke=\"black\" stroke-width=\"2\" stroke-dasharray=\"3,3\"/> <circle cx=\"273\" cy=\"350\" r=\"12\" fill=\"rgb(255,215,215)\" /><circle cx=\"61\" cy=\"323\" r=\"9\" fill=\"rgb(255,210,210)\" /><circle cx=\"208\" cy=\"262\" r=\"8\" fill=\"rgb(255,212,212)\" /><circle cx=\"319\" cy=\"216\" r=\"8\" fill=\"rgb(255,248,248)\" /><circle cx=\"255\" cy=\"318\" r=\"12\" fill=\"rgb(255,215,215)\" /><circle cx=\"325\" cy=\"255\" r=\"12\" fill=\"rgb(255,215,215)\" /><circle cx=\"224\" cy=\"407\" r=\"11\" fill=\"rgb(255,212,212)\" /></svg></div>"
      ],
      "text/plain": [
       "<IPython.core.display.HTML object>"
      ]
     },
     "metadata": {},
     "output_type": "display_data"
    },
    {
     "name": "stdout",
     "output_type": "stream",
     "text": [
      "t 17: <eos>: [0.19219188 0.16656323 0.07218616 0.00056601 0.19235842 0.18852371\n",
      " 0.1876106 ]\n"
     ]
    },
    {
     "data": {
      "text/html": [
       "<div style=\"white-space: nowrap\"><svg width=\"430\" height=\"430\" id=\"agent_0\"><circle cx=\"215\" cy=\"215\" r=\"205\" fill=\"none\" stroke=\"black\" stroke-width=\"2\" stroke-dasharray=\"3,3\"/><circle cx=\"273\" cy=\"350\" r=\"12\" fill=\"rgb(110,110,110)\"/><circle cx=\"61\" cy=\"323\" r=\"9\" fill=\"rgb(125,125,125)\"/><circle cx=\"208\" cy=\"262\" r=\"8\" fill=\"rgb(95,95,95)\"/><circle cx=\"319\" cy=\"216\" r=\"8\" fill=\"rgb(123,123,123)\"/><circle cx=\"255\" cy=\"318\" r=\"12\" fill=\"rgb(108,108,108)\"/><circle cx=\"325\" cy=\"255\" r=\"12\" fill=\"rgb(161,161,161)\"/><circle cx=\"224\" cy=\"407\" r=\"11\" fill=\"rgb(166,166,166)\"/></svg><svg id=\"svg\" width=\"430\" height=\"430\"><circle cx=\"215\" cy=\"215\" r=\"205\" fill=\"none\" stroke=\"black\" stroke-width=\"2\" stroke-dasharray=\"3,3\"/> <circle cx=\"273\" cy=\"350\" r=\"12\" fill=\"rgb(255,205,205)\" /><circle cx=\"61\" cy=\"323\" r=\"9\" fill=\"rgb(255,212,212)\" /><circle cx=\"208\" cy=\"262\" r=\"8\" fill=\"rgb(255,236,236)\" /><circle cx=\"319\" cy=\"216\" r=\"8\" fill=\"rgb(255,254,254)\" /><circle cx=\"255\" cy=\"318\" r=\"12\" fill=\"rgb(255,205,205)\" /><circle cx=\"325\" cy=\"255\" r=\"12\" fill=\"rgb(255,206,206)\" /><circle cx=\"224\" cy=\"407\" r=\"11\" fill=\"rgb(255,207,207)\" /></svg></div>"
      ],
      "text/plain": [
       "<IPython.core.display.HTML object>"
      ]
     },
     "metadata": {},
     "output_type": "display_data"
    },
    {
     "name": "stdout",
     "output_type": "stream",
     "text": [
      "0\ti have a large black dot with a smaller light grey dot to the right of it <eos>\n",
      "\n",
      "1\ti have a large black dot with a small light grey dot to the right of it <eos>\n",
      "\n",
      "feed attention: [4.3353024e-01 0.0000000e+00 2.2896220e-08 5.9796634e-13 1.3980580e-03\n",
      " 5.6486088e-01 2.1085628e-04]\n"
     ]
    },
    {
     "data": {
      "text/html": [
       "<div style=\"white-space: nowrap\"><svg width=\"430\" height=\"430\" id=\"agent_1\"><circle cx=\"215\" cy=\"215\" r=\"205\" fill=\"none\" stroke=\"black\" stroke-width=\"2\" stroke-dasharray=\"3,3\"/><circle cx=\"281\" cy=\"139\" r=\"12\" fill=\"rgb(110,110,110)\"/><circle cx=\"393\" cy=\"230\" r=\"7\" fill=\"rgb(175,175,175)\"/><circle cx=\"69\" cy=\"112\" r=\"9\" fill=\"rgb(125,125,125)\"/><circle cx=\"216\" cy=\"51\" r=\"8\" fill=\"rgb(95,95,95)\"/><circle cx=\"262\" cy=\"328\" r=\"11\" fill=\"rgb(134,134,134)\"/><circle cx=\"263\" cy=\"107\" r=\"12\" fill=\"rgb(108,108,108)\"/><circle cx=\"232\" cy=\"197\" r=\"11\" fill=\"rgb(166,166,166)\"/></svg><svg id=\"svg\" width=\"430\" height=\"430\"><circle cx=\"215\" cy=\"215\" r=\"205\" fill=\"none\" stroke=\"black\" stroke-width=\"2\" stroke-dasharray=\"3,3\"/> <circle cx=\"281\" cy=\"139\" r=\"12\" fill=\"rgb(255,144,144)\" /><circle cx=\"393\" cy=\"230\" r=\"7\" fill=\"rgb(255,255,255)\" /><circle cx=\"69\" cy=\"112\" r=\"9\" fill=\"rgb(255,254,254)\" /><circle cx=\"216\" cy=\"51\" r=\"8\" fill=\"rgb(255,254,254)\" /><circle cx=\"262\" cy=\"328\" r=\"11\" fill=\"rgb(255,254,254)\" /><circle cx=\"263\" cy=\"107\" r=\"12\" fill=\"rgb(255,110,110)\" /><circle cx=\"232\" cy=\"197\" r=\"11\" fill=\"rgb(255,254,254)\" /></svg></div>"
      ],
      "text/plain": [
       "<IPython.core.display.HTML object>"
      ]
     },
     "metadata": {},
     "output_type": "display_data"
    },
    {
     "name": "stdout",
     "output_type": "stream",
     "text": [
      "word attention mean: [2.3232301e-01 6.1506258e-11 1.1796192e-01 6.6549867e-02 1.5415716e-01\n",
      " 2.7821720e-01 1.5079077e-01]\n"
     ]
    },
    {
     "data": {
      "text/html": [
       "<div style=\"white-space: nowrap\"><svg width=\"430\" height=\"430\" id=\"agent_1\"><circle cx=\"215\" cy=\"215\" r=\"205\" fill=\"none\" stroke=\"black\" stroke-width=\"2\" stroke-dasharray=\"3,3\"/><circle cx=\"281\" cy=\"139\" r=\"12\" fill=\"rgb(110,110,110)\"/><circle cx=\"393\" cy=\"230\" r=\"7\" fill=\"rgb(175,175,175)\"/><circle cx=\"69\" cy=\"112\" r=\"9\" fill=\"rgb(125,125,125)\"/><circle cx=\"216\" cy=\"51\" r=\"8\" fill=\"rgb(95,95,95)\"/><circle cx=\"262\" cy=\"328\" r=\"11\" fill=\"rgb(134,134,134)\"/><circle cx=\"263\" cy=\"107\" r=\"12\" fill=\"rgb(108,108,108)\"/><circle cx=\"232\" cy=\"197\" r=\"11\" fill=\"rgb(166,166,166)\"/></svg><svg id=\"svg\" width=\"430\" height=\"430\"><circle cx=\"215\" cy=\"215\" r=\"205\" fill=\"none\" stroke=\"black\" stroke-width=\"2\" stroke-dasharray=\"3,3\"/> <circle cx=\"281\" cy=\"139\" r=\"12\" fill=\"rgb(255,195,195)\" /><circle cx=\"393\" cy=\"230\" r=\"7\" fill=\"rgb(255,254,254)\" /><circle cx=\"69\" cy=\"112\" r=\"9\" fill=\"rgb(255,224,224)\" /><circle cx=\"216\" cy=\"51\" r=\"8\" fill=\"rgb(255,238,238)\" /><circle cx=\"262\" cy=\"328\" r=\"11\" fill=\"rgb(255,215,215)\" /><circle cx=\"263\" cy=\"107\" r=\"12\" fill=\"rgb(255,184,184)\" /><circle cx=\"232\" cy=\"197\" r=\"11\" fill=\"rgb(255,216,216)\" /></svg></div>"
      ],
      "text/plain": [
       "<IPython.core.display.HTML object>"
      ]
     },
     "metadata": {},
     "output_type": "display_data"
    },
    {
     "name": "stdout",
     "output_type": "stream",
     "text": [
      "t 0: i: [1.6514367e-01 1.8560530e-10 1.7108953e-01 1.6768187e-01 1.6548313e-01\n",
      " 1.6447525e-01 1.6612647e-01]\n"
     ]
    },
    {
     "data": {
      "text/html": [
       "<div style=\"white-space: nowrap\"><svg width=\"430\" height=\"430\" id=\"agent_1\"><circle cx=\"215\" cy=\"215\" r=\"205\" fill=\"none\" stroke=\"black\" stroke-width=\"2\" stroke-dasharray=\"3,3\"/><circle cx=\"281\" cy=\"139\" r=\"12\" fill=\"rgb(110,110,110)\"/><circle cx=\"393\" cy=\"230\" r=\"7\" fill=\"rgb(175,175,175)\"/><circle cx=\"69\" cy=\"112\" r=\"9\" fill=\"rgb(125,125,125)\"/><circle cx=\"216\" cy=\"51\" r=\"8\" fill=\"rgb(95,95,95)\"/><circle cx=\"262\" cy=\"328\" r=\"11\" fill=\"rgb(134,134,134)\"/><circle cx=\"263\" cy=\"107\" r=\"12\" fill=\"rgb(108,108,108)\"/><circle cx=\"232\" cy=\"197\" r=\"11\" fill=\"rgb(166,166,166)\"/></svg><svg id=\"svg\" width=\"430\" height=\"430\"><circle cx=\"215\" cy=\"215\" r=\"205\" fill=\"none\" stroke=\"black\" stroke-width=\"2\" stroke-dasharray=\"3,3\"/> <circle cx=\"281\" cy=\"139\" r=\"12\" fill=\"rgb(255,212,212)\" /><circle cx=\"393\" cy=\"230\" r=\"7\" fill=\"rgb(255,254,254)\" /><circle cx=\"69\" cy=\"112\" r=\"9\" fill=\"rgb(255,211,211)\" /><circle cx=\"216\" cy=\"51\" r=\"8\" fill=\"rgb(255,212,212)\" /><circle cx=\"262\" cy=\"328\" r=\"11\" fill=\"rgb(255,212,212)\" /><circle cx=\"263\" cy=\"107\" r=\"12\" fill=\"rgb(255,213,213)\" /><circle cx=\"232\" cy=\"197\" r=\"11\" fill=\"rgb(255,212,212)\" /></svg></div>"
      ],
      "text/plain": [
       "<IPython.core.display.HTML object>"
      ]
     },
     "metadata": {},
     "output_type": "display_data"
    },
    {
     "name": "stdout",
     "output_type": "stream",
     "text": [
      "t 1: have: [3.0043209e-01 1.5216186e-15 3.0810911e-02 1.1909619e-03 1.8335067e-01\n",
      " 3.2498875e-01 1.5922669e-01]\n"
     ]
    },
    {
     "data": {
      "text/html": [
       "<div style=\"white-space: nowrap\"><svg width=\"430\" height=\"430\" id=\"agent_1\"><circle cx=\"215\" cy=\"215\" r=\"205\" fill=\"none\" stroke=\"black\" stroke-width=\"2\" stroke-dasharray=\"3,3\"/><circle cx=\"281\" cy=\"139\" r=\"12\" fill=\"rgb(110,110,110)\"/><circle cx=\"393\" cy=\"230\" r=\"7\" fill=\"rgb(175,175,175)\"/><circle cx=\"69\" cy=\"112\" r=\"9\" fill=\"rgb(125,125,125)\"/><circle cx=\"216\" cy=\"51\" r=\"8\" fill=\"rgb(95,95,95)\"/><circle cx=\"262\" cy=\"328\" r=\"11\" fill=\"rgb(134,134,134)\"/><circle cx=\"263\" cy=\"107\" r=\"12\" fill=\"rgb(108,108,108)\"/><circle cx=\"232\" cy=\"197\" r=\"11\" fill=\"rgb(166,166,166)\"/></svg><svg id=\"svg\" width=\"430\" height=\"430\"><circle cx=\"215\" cy=\"215\" r=\"205\" fill=\"none\" stroke=\"black\" stroke-width=\"2\" stroke-dasharray=\"3,3\"/> <circle cx=\"281\" cy=\"139\" r=\"12\" fill=\"rgb(255,178,178)\" /><circle cx=\"393\" cy=\"230\" r=\"7\" fill=\"rgb(255,254,254)\" /><circle cx=\"69\" cy=\"112\" r=\"9\" fill=\"rgb(255,247,247)\" /><circle cx=\"216\" cy=\"51\" r=\"8\" fill=\"rgb(255,254,254)\" /><circle cx=\"262\" cy=\"328\" r=\"11\" fill=\"rgb(255,208,208)\" /><circle cx=\"263\" cy=\"107\" r=\"12\" fill=\"rgb(255,172,172)\" /><circle cx=\"232\" cy=\"197\" r=\"11\" fill=\"rgb(255,214,214)\" /></svg></div>"
      ],
      "text/plain": [
       "<IPython.core.display.HTML object>"
      ]
     },
     "metadata": {},
     "output_type": "display_data"
    },
    {
     "name": "stdout",
     "output_type": "stream",
     "text": [
      "t 2: a: [1.9186020e-01 3.0128374e-12 1.6306677e-01 8.4668197e-02 1.8602264e-01\n",
      " 1.9199400e-01 1.8238817e-01]\n"
     ]
    },
    {
     "data": {
      "text/html": [
       "<div style=\"white-space: nowrap\"><svg width=\"430\" height=\"430\" id=\"agent_1\"><circle cx=\"215\" cy=\"215\" r=\"205\" fill=\"none\" stroke=\"black\" stroke-width=\"2\" stroke-dasharray=\"3,3\"/><circle cx=\"281\" cy=\"139\" r=\"12\" fill=\"rgb(110,110,110)\"/><circle cx=\"393\" cy=\"230\" r=\"7\" fill=\"rgb(175,175,175)\"/><circle cx=\"69\" cy=\"112\" r=\"9\" fill=\"rgb(125,125,125)\"/><circle cx=\"216\" cy=\"51\" r=\"8\" fill=\"rgb(95,95,95)\"/><circle cx=\"262\" cy=\"328\" r=\"11\" fill=\"rgb(134,134,134)\"/><circle cx=\"263\" cy=\"107\" r=\"12\" fill=\"rgb(108,108,108)\"/><circle cx=\"232\" cy=\"197\" r=\"11\" fill=\"rgb(166,166,166)\"/></svg><svg id=\"svg\" width=\"430\" height=\"430\"><circle cx=\"215\" cy=\"215\" r=\"205\" fill=\"none\" stroke=\"black\" stroke-width=\"2\" stroke-dasharray=\"3,3\"/> <circle cx=\"281\" cy=\"139\" r=\"12\" fill=\"rgb(255,206,206)\" /><circle cx=\"393\" cy=\"230\" r=\"7\" fill=\"rgb(255,254,254)\" /><circle cx=\"69\" cy=\"112\" r=\"9\" fill=\"rgb(255,213,213)\" /><circle cx=\"216\" cy=\"51\" r=\"8\" fill=\"rgb(255,233,233)\" /><circle cx=\"262\" cy=\"328\" r=\"11\" fill=\"rgb(255,207,207)\" /><circle cx=\"263\" cy=\"107\" r=\"12\" fill=\"rgb(255,206,206)\" /><circle cx=\"232\" cy=\"197\" r=\"11\" fill=\"rgb(255,208,208)\" /></svg></div>"
      ],
      "text/plain": [
       "<IPython.core.display.HTML object>"
      ]
     },
     "metadata": {},
     "output_type": "display_data"
    },
    {
     "name": "stdout",
     "output_type": "stream",
     "text": [
      "t 3: large: [3.5094020e-01 1.6714031e-16 1.6190133e-03 5.4564032e-05 3.9471023e-02\n",
      " 5.7669485e-01 3.1220485e-02]\n"
     ]
    },
    {
     "data": {
      "text/html": [
       "<div style=\"white-space: nowrap\"><svg width=\"430\" height=\"430\" id=\"agent_1\"><circle cx=\"215\" cy=\"215\" r=\"205\" fill=\"none\" stroke=\"black\" stroke-width=\"2\" stroke-dasharray=\"3,3\"/><circle cx=\"281\" cy=\"139\" r=\"12\" fill=\"rgb(110,110,110)\"/><circle cx=\"393\" cy=\"230\" r=\"7\" fill=\"rgb(175,175,175)\"/><circle cx=\"69\" cy=\"112\" r=\"9\" fill=\"rgb(125,125,125)\"/><circle cx=\"216\" cy=\"51\" r=\"8\" fill=\"rgb(95,95,95)\"/><circle cx=\"262\" cy=\"328\" r=\"11\" fill=\"rgb(134,134,134)\"/><circle cx=\"263\" cy=\"107\" r=\"12\" fill=\"rgb(108,108,108)\"/><circle cx=\"232\" cy=\"197\" r=\"11\" fill=\"rgb(166,166,166)\"/></svg><svg id=\"svg\" width=\"430\" height=\"430\"><circle cx=\"215\" cy=\"215\" r=\"205\" fill=\"none\" stroke=\"black\" stroke-width=\"2\" stroke-dasharray=\"3,3\"/> <circle cx=\"281\" cy=\"139\" r=\"12\" fill=\"rgb(255,165,165)\" /><circle cx=\"393\" cy=\"230\" r=\"7\" fill=\"rgb(255,254,254)\" /><circle cx=\"69\" cy=\"112\" r=\"9\" fill=\"rgb(255,254,254)\" /><circle cx=\"216\" cy=\"51\" r=\"8\" fill=\"rgb(255,254,254)\" /><circle cx=\"262\" cy=\"328\" r=\"11\" fill=\"rgb(255,244,244)\" /><circle cx=\"263\" cy=\"107\" r=\"12\" fill=\"rgb(255,107,107)\" /><circle cx=\"232\" cy=\"197\" r=\"11\" fill=\"rgb(255,247,247)\" /></svg></div>"
      ],
      "text/plain": [
       "<IPython.core.display.HTML object>"
      ]
     },
     "metadata": {},
     "output_type": "display_data"
    },
    {
     "name": "stdout",
     "output_type": "stream",
     "text": [
      "t 4: black: [3.5816321e-01 3.8782746e-16 1.5774436e-03 6.7059278e-05 3.6595155e-02\n",
      " 5.7425731e-01 2.9339824e-02]\n"
     ]
    },
    {
     "data": {
      "text/html": [
       "<div style=\"white-space: nowrap\"><svg width=\"430\" height=\"430\" id=\"agent_1\"><circle cx=\"215\" cy=\"215\" r=\"205\" fill=\"none\" stroke=\"black\" stroke-width=\"2\" stroke-dasharray=\"3,3\"/><circle cx=\"281\" cy=\"139\" r=\"12\" fill=\"rgb(110,110,110)\"/><circle cx=\"393\" cy=\"230\" r=\"7\" fill=\"rgb(175,175,175)\"/><circle cx=\"69\" cy=\"112\" r=\"9\" fill=\"rgb(125,125,125)\"/><circle cx=\"216\" cy=\"51\" r=\"8\" fill=\"rgb(95,95,95)\"/><circle cx=\"262\" cy=\"328\" r=\"11\" fill=\"rgb(134,134,134)\"/><circle cx=\"263\" cy=\"107\" r=\"12\" fill=\"rgb(108,108,108)\"/><circle cx=\"232\" cy=\"197\" r=\"11\" fill=\"rgb(166,166,166)\"/></svg><svg id=\"svg\" width=\"430\" height=\"430\"><circle cx=\"215\" cy=\"215\" r=\"205\" fill=\"none\" stroke=\"black\" stroke-width=\"2\" stroke-dasharray=\"3,3\"/> <circle cx=\"281\" cy=\"139\" r=\"12\" fill=\"rgb(255,163,163)\" /><circle cx=\"393\" cy=\"230\" r=\"7\" fill=\"rgb(255,254,254)\" /><circle cx=\"69\" cy=\"112\" r=\"9\" fill=\"rgb(255,254,254)\" /><circle cx=\"216\" cy=\"51\" r=\"8\" fill=\"rgb(255,254,254)\" /><circle cx=\"262\" cy=\"328\" r=\"11\" fill=\"rgb(255,245,245)\" /><circle cx=\"263\" cy=\"107\" r=\"12\" fill=\"rgb(255,108,108)\" /><circle cx=\"232\" cy=\"197\" r=\"11\" fill=\"rgb(255,247,247)\" /></svg></div>"
      ],
      "text/plain": [
       "<IPython.core.display.HTML object>"
      ]
     },
     "metadata": {},
     "output_type": "display_data"
    },
    {
     "name": "stdout",
     "output_type": "stream",
     "text": [
      "t 5: dot: [2.0251693e-01 1.0777706e-12 1.4779694e-01 5.0110850e-02 1.9803748e-01\n",
      " 2.0299326e-01 1.9854450e-01]\n"
     ]
    },
    {
     "data": {
      "text/html": [
       "<div style=\"white-space: nowrap\"><svg width=\"430\" height=\"430\" id=\"agent_1\"><circle cx=\"215\" cy=\"215\" r=\"205\" fill=\"none\" stroke=\"black\" stroke-width=\"2\" stroke-dasharray=\"3,3\"/><circle cx=\"281\" cy=\"139\" r=\"12\" fill=\"rgb(110,110,110)\"/><circle cx=\"393\" cy=\"230\" r=\"7\" fill=\"rgb(175,175,175)\"/><circle cx=\"69\" cy=\"112\" r=\"9\" fill=\"rgb(125,125,125)\"/><circle cx=\"216\" cy=\"51\" r=\"8\" fill=\"rgb(95,95,95)\"/><circle cx=\"262\" cy=\"328\" r=\"11\" fill=\"rgb(134,134,134)\"/><circle cx=\"263\" cy=\"107\" r=\"12\" fill=\"rgb(108,108,108)\"/><circle cx=\"232\" cy=\"197\" r=\"11\" fill=\"rgb(166,166,166)\"/></svg><svg id=\"svg\" width=\"430\" height=\"430\"><circle cx=\"215\" cy=\"215\" r=\"205\" fill=\"none\" stroke=\"black\" stroke-width=\"2\" stroke-dasharray=\"3,3\"/> <circle cx=\"281\" cy=\"139\" r=\"12\" fill=\"rgb(255,203,203)\" /><circle cx=\"393\" cy=\"230\" r=\"7\" fill=\"rgb(255,254,254)\" /><circle cx=\"69\" cy=\"112\" r=\"9\" fill=\"rgb(255,217,217)\" /><circle cx=\"216\" cy=\"51\" r=\"8\" fill=\"rgb(255,242,242)\" /><circle cx=\"262\" cy=\"328\" r=\"11\" fill=\"rgb(255,204,204)\" /><circle cx=\"263\" cy=\"107\" r=\"12\" fill=\"rgb(255,203,203)\" /><circle cx=\"232\" cy=\"197\" r=\"11\" fill=\"rgb(255,204,204)\" /></svg></div>"
      ],
      "text/plain": [
       "<IPython.core.display.HTML object>"
      ]
     },
     "metadata": {},
     "output_type": "display_data"
    },
    {
     "name": "stdout",
     "output_type": "stream",
     "text": [
      "t 6: with: [2.0416626e-01 1.6896699e-12 1.5956320e-01 4.5295075e-02 1.9589518e-01\n",
      " 2.0495294e-01 1.9012736e-01]\n"
     ]
    },
    {
     "data": {
      "text/html": [
       "<div style=\"white-space: nowrap\"><svg width=\"430\" height=\"430\" id=\"agent_1\"><circle cx=\"215\" cy=\"215\" r=\"205\" fill=\"none\" stroke=\"black\" stroke-width=\"2\" stroke-dasharray=\"3,3\"/><circle cx=\"281\" cy=\"139\" r=\"12\" fill=\"rgb(110,110,110)\"/><circle cx=\"393\" cy=\"230\" r=\"7\" fill=\"rgb(175,175,175)\"/><circle cx=\"69\" cy=\"112\" r=\"9\" fill=\"rgb(125,125,125)\"/><circle cx=\"216\" cy=\"51\" r=\"8\" fill=\"rgb(95,95,95)\"/><circle cx=\"262\" cy=\"328\" r=\"11\" fill=\"rgb(134,134,134)\"/><circle cx=\"263\" cy=\"107\" r=\"12\" fill=\"rgb(108,108,108)\"/><circle cx=\"232\" cy=\"197\" r=\"11\" fill=\"rgb(166,166,166)\"/></svg><svg id=\"svg\" width=\"430\" height=\"430\"><circle cx=\"215\" cy=\"215\" r=\"205\" fill=\"none\" stroke=\"black\" stroke-width=\"2\" stroke-dasharray=\"3,3\"/> <circle cx=\"281\" cy=\"139\" r=\"12\" fill=\"rgb(255,202,202)\" /><circle cx=\"393\" cy=\"230\" r=\"7\" fill=\"rgb(255,254,254)\" /><circle cx=\"69\" cy=\"112\" r=\"9\" fill=\"rgb(255,214,214)\" /><circle cx=\"216\" cy=\"51\" r=\"8\" fill=\"rgb(255,243,243)\" /><circle cx=\"262\" cy=\"328\" r=\"11\" fill=\"rgb(255,205,205)\" /><circle cx=\"263\" cy=\"107\" r=\"12\" fill=\"rgb(255,202,202)\" /><circle cx=\"232\" cy=\"197\" r=\"11\" fill=\"rgb(255,206,206)\" /></svg></div>"
      ],
      "text/plain": [
       "<IPython.core.display.HTML object>"
      ]
     },
     "metadata": {},
     "output_type": "display_data"
    },
    {
     "name": "stdout",
     "output_type": "stream",
     "text": [
      "t 7: a: [2.0750588e-01 3.2182408e-13 1.5255730e-01 2.9169360e-02 2.0096181e-01\n",
      " 2.0836914e-01 2.0143649e-01]\n"
     ]
    },
    {
     "data": {
      "text/html": [
       "<div style=\"white-space: nowrap\"><svg width=\"430\" height=\"430\" id=\"agent_1\"><circle cx=\"215\" cy=\"215\" r=\"205\" fill=\"none\" stroke=\"black\" stroke-width=\"2\" stroke-dasharray=\"3,3\"/><circle cx=\"281\" cy=\"139\" r=\"12\" fill=\"rgb(110,110,110)\"/><circle cx=\"393\" cy=\"230\" r=\"7\" fill=\"rgb(175,175,175)\"/><circle cx=\"69\" cy=\"112\" r=\"9\" fill=\"rgb(125,125,125)\"/><circle cx=\"216\" cy=\"51\" r=\"8\" fill=\"rgb(95,95,95)\"/><circle cx=\"262\" cy=\"328\" r=\"11\" fill=\"rgb(134,134,134)\"/><circle cx=\"263\" cy=\"107\" r=\"12\" fill=\"rgb(108,108,108)\"/><circle cx=\"232\" cy=\"197\" r=\"11\" fill=\"rgb(166,166,166)\"/></svg><svg id=\"svg\" width=\"430\" height=\"430\"><circle cx=\"215\" cy=\"215\" r=\"205\" fill=\"none\" stroke=\"black\" stroke-width=\"2\" stroke-dasharray=\"3,3\"/> <circle cx=\"281\" cy=\"139\" r=\"12\" fill=\"rgb(255,202,202)\" /><circle cx=\"393\" cy=\"230\" r=\"7\" fill=\"rgb(255,254,254)\" /><circle cx=\"69\" cy=\"112\" r=\"9\" fill=\"rgb(255,216,216)\" /><circle cx=\"216\" cy=\"51\" r=\"8\" fill=\"rgb(255,247,247)\" /><circle cx=\"262\" cy=\"328\" r=\"11\" fill=\"rgb(255,203,203)\" /><circle cx=\"263\" cy=\"107\" r=\"12\" fill=\"rgb(255,201,201)\" /><circle cx=\"232\" cy=\"197\" r=\"11\" fill=\"rgb(255,203,203)\" /></svg></div>"
      ],
      "text/plain": [
       "<IPython.core.display.HTML object>"
      ]
     },
     "metadata": {},
     "output_type": "display_data"
    },
    {
     "name": "stdout",
     "output_type": "stream",
     "text": [
      "t 8: small: [3.58322710e-01 1.02598355e-16 1.32354186e-03 4.40134572e-05\n",
      " 3.65754478e-02 5.76157570e-01 2.75766253e-02]\n"
     ]
    },
    {
     "data": {
      "text/html": [
       "<div style=\"white-space: nowrap\"><svg width=\"430\" height=\"430\" id=\"agent_1\"><circle cx=\"215\" cy=\"215\" r=\"205\" fill=\"none\" stroke=\"black\" stroke-width=\"2\" stroke-dasharray=\"3,3\"/><circle cx=\"281\" cy=\"139\" r=\"12\" fill=\"rgb(110,110,110)\"/><circle cx=\"393\" cy=\"230\" r=\"7\" fill=\"rgb(175,175,175)\"/><circle cx=\"69\" cy=\"112\" r=\"9\" fill=\"rgb(125,125,125)\"/><circle cx=\"216\" cy=\"51\" r=\"8\" fill=\"rgb(95,95,95)\"/><circle cx=\"262\" cy=\"328\" r=\"11\" fill=\"rgb(134,134,134)\"/><circle cx=\"263\" cy=\"107\" r=\"12\" fill=\"rgb(108,108,108)\"/><circle cx=\"232\" cy=\"197\" r=\"11\" fill=\"rgb(166,166,166)\"/></svg><svg id=\"svg\" width=\"430\" height=\"430\"><circle cx=\"215\" cy=\"215\" r=\"205\" fill=\"none\" stroke=\"black\" stroke-width=\"2\" stroke-dasharray=\"3,3\"/> <circle cx=\"281\" cy=\"139\" r=\"12\" fill=\"rgb(255,163,163)\" /><circle cx=\"393\" cy=\"230\" r=\"7\" fill=\"rgb(255,254,254)\" /><circle cx=\"69\" cy=\"112\" r=\"9\" fill=\"rgb(255,254,254)\" /><circle cx=\"216\" cy=\"51\" r=\"8\" fill=\"rgb(255,254,254)\" /><circle cx=\"262\" cy=\"328\" r=\"11\" fill=\"rgb(255,245,245)\" /><circle cx=\"263\" cy=\"107\" r=\"12\" fill=\"rgb(255,108,108)\" /><circle cx=\"232\" cy=\"197\" r=\"11\" fill=\"rgb(255,247,247)\" /></svg></div>"
      ],
      "text/plain": [
       "<IPython.core.display.HTML object>"
      ]
     },
     "metadata": {},
     "output_type": "display_data"
    },
    {
     "name": "stdout",
     "output_type": "stream",
     "text": [
      "t 9: light: [3.7048170e-01 9.8305267e-16 3.4441303e-03 1.5506895e-04 6.0528167e-02\n",
      " 5.1300979e-01 5.2381091e-02]\n"
     ]
    },
    {
     "data": {
      "text/html": [
       "<div style=\"white-space: nowrap\"><svg width=\"430\" height=\"430\" id=\"agent_1\"><circle cx=\"215\" cy=\"215\" r=\"205\" fill=\"none\" stroke=\"black\" stroke-width=\"2\" stroke-dasharray=\"3,3\"/><circle cx=\"281\" cy=\"139\" r=\"12\" fill=\"rgb(110,110,110)\"/><circle cx=\"393\" cy=\"230\" r=\"7\" fill=\"rgb(175,175,175)\"/><circle cx=\"69\" cy=\"112\" r=\"9\" fill=\"rgb(125,125,125)\"/><circle cx=\"216\" cy=\"51\" r=\"8\" fill=\"rgb(95,95,95)\"/><circle cx=\"262\" cy=\"328\" r=\"11\" fill=\"rgb(134,134,134)\"/><circle cx=\"263\" cy=\"107\" r=\"12\" fill=\"rgb(108,108,108)\"/><circle cx=\"232\" cy=\"197\" r=\"11\" fill=\"rgb(166,166,166)\"/></svg><svg id=\"svg\" width=\"430\" height=\"430\"><circle cx=\"215\" cy=\"215\" r=\"205\" fill=\"none\" stroke=\"black\" stroke-width=\"2\" stroke-dasharray=\"3,3\"/> <circle cx=\"281\" cy=\"139\" r=\"12\" fill=\"rgb(255,160,160)\" /><circle cx=\"393\" cy=\"230\" r=\"7\" fill=\"rgb(255,254,254)\" /><circle cx=\"69\" cy=\"112\" r=\"9\" fill=\"rgb(255,254,254)\" /><circle cx=\"216\" cy=\"51\" r=\"8\" fill=\"rgb(255,254,254)\" /><circle cx=\"262\" cy=\"328\" r=\"11\" fill=\"rgb(255,239,239)\" /><circle cx=\"263\" cy=\"107\" r=\"12\" fill=\"rgb(255,124,124)\" /><circle cx=\"232\" cy=\"197\" r=\"11\" fill=\"rgb(255,241,241)\" /></svg></div>"
      ],
      "text/plain": [
       "<IPython.core.display.HTML object>"
      ]
     },
     "metadata": {},
     "output_type": "display_data"
    },
    {
     "name": "stdout",
     "output_type": "stream",
     "text": [
      "t 10: grey: [2.2996883e-01 1.4894531e-13 1.0164799e-01 1.2961535e-02 2.1176755e-01\n",
      " 2.3290965e-01 2.1074443e-01]\n"
     ]
    },
    {
     "data": {
      "text/html": [
       "<div style=\"white-space: nowrap\"><svg width=\"430\" height=\"430\" id=\"agent_1\"><circle cx=\"215\" cy=\"215\" r=\"205\" fill=\"none\" stroke=\"black\" stroke-width=\"2\" stroke-dasharray=\"3,3\"/><circle cx=\"281\" cy=\"139\" r=\"12\" fill=\"rgb(110,110,110)\"/><circle cx=\"393\" cy=\"230\" r=\"7\" fill=\"rgb(175,175,175)\"/><circle cx=\"69\" cy=\"112\" r=\"9\" fill=\"rgb(125,125,125)\"/><circle cx=\"216\" cy=\"51\" r=\"8\" fill=\"rgb(95,95,95)\"/><circle cx=\"262\" cy=\"328\" r=\"11\" fill=\"rgb(134,134,134)\"/><circle cx=\"263\" cy=\"107\" r=\"12\" fill=\"rgb(108,108,108)\"/><circle cx=\"232\" cy=\"197\" r=\"11\" fill=\"rgb(166,166,166)\"/></svg><svg id=\"svg\" width=\"430\" height=\"430\"><circle cx=\"215\" cy=\"215\" r=\"205\" fill=\"none\" stroke=\"black\" stroke-width=\"2\" stroke-dasharray=\"3,3\"/> <circle cx=\"281\" cy=\"139\" r=\"12\" fill=\"rgb(255,196,196)\" /><circle cx=\"393\" cy=\"230\" r=\"7\" fill=\"rgb(255,254,254)\" /><circle cx=\"69\" cy=\"112\" r=\"9\" fill=\"rgb(255,229,229)\" /><circle cx=\"216\" cy=\"51\" r=\"8\" fill=\"rgb(255,251,251)\" /><circle cx=\"262\" cy=\"328\" r=\"11\" fill=\"rgb(255,200,200)\" /><circle cx=\"263\" cy=\"107\" r=\"12\" fill=\"rgb(255,195,195)\" /><circle cx=\"232\" cy=\"197\" r=\"11\" fill=\"rgb(255,201,201)\" /></svg></div>"
      ],
      "text/plain": [
       "<IPython.core.display.HTML object>"
      ]
     },
     "metadata": {},
     "output_type": "display_data"
    },
    {
     "name": "stdout",
     "output_type": "stream",
     "text": [
      "t 11: dot: [1.8965344e-01 1.5360951e-12 1.7971492e-01 5.4302625e-02 1.9363789e-01\n",
      " 1.8855642e-01 1.9413468e-01]\n"
     ]
    },
    {
     "data": {
      "text/html": [
       "<div style=\"white-space: nowrap\"><svg width=\"430\" height=\"430\" id=\"agent_1\"><circle cx=\"215\" cy=\"215\" r=\"205\" fill=\"none\" stroke=\"black\" stroke-width=\"2\" stroke-dasharray=\"3,3\"/><circle cx=\"281\" cy=\"139\" r=\"12\" fill=\"rgb(110,110,110)\"/><circle cx=\"393\" cy=\"230\" r=\"7\" fill=\"rgb(175,175,175)\"/><circle cx=\"69\" cy=\"112\" r=\"9\" fill=\"rgb(125,125,125)\"/><circle cx=\"216\" cy=\"51\" r=\"8\" fill=\"rgb(95,95,95)\"/><circle cx=\"262\" cy=\"328\" r=\"11\" fill=\"rgb(134,134,134)\"/><circle cx=\"263\" cy=\"107\" r=\"12\" fill=\"rgb(108,108,108)\"/><circle cx=\"232\" cy=\"197\" r=\"11\" fill=\"rgb(166,166,166)\"/></svg><svg id=\"svg\" width=\"430\" height=\"430\"><circle cx=\"215\" cy=\"215\" r=\"205\" fill=\"none\" stroke=\"black\" stroke-width=\"2\" stroke-dasharray=\"3,3\"/> <circle cx=\"281\" cy=\"139\" r=\"12\" fill=\"rgb(255,206,206)\" /><circle cx=\"393\" cy=\"230\" r=\"7\" fill=\"rgb(255,254,254)\" /><circle cx=\"69\" cy=\"112\" r=\"9\" fill=\"rgb(255,209,209)\" /><circle cx=\"216\" cy=\"51\" r=\"8\" fill=\"rgb(255,241,241)\" /><circle cx=\"262\" cy=\"328\" r=\"11\" fill=\"rgb(255,205,205)\" /><circle cx=\"263\" cy=\"107\" r=\"12\" fill=\"rgb(255,206,206)\" /><circle cx=\"232\" cy=\"197\" r=\"11\" fill=\"rgb(255,205,205)\" /></svg></div>"
      ],
      "text/plain": [
       "<IPython.core.display.HTML object>"
      ]
     },
     "metadata": {},
     "output_type": "display_data"
    },
    {
     "name": "stdout",
     "output_type": "stream",
     "text": [
      "t 12: to: [1.7109986e-01 2.1028728e-12 1.7325315e-01 1.3970612e-01 1.7345366e-01\n",
      " 1.6932036e-01 1.7316680e-01]\n"
     ]
    },
    {
     "data": {
      "text/html": [
       "<div style=\"white-space: nowrap\"><svg width=\"430\" height=\"430\" id=\"agent_1\"><circle cx=\"215\" cy=\"215\" r=\"205\" fill=\"none\" stroke=\"black\" stroke-width=\"2\" stroke-dasharray=\"3,3\"/><circle cx=\"281\" cy=\"139\" r=\"12\" fill=\"rgb(110,110,110)\"/><circle cx=\"393\" cy=\"230\" r=\"7\" fill=\"rgb(175,175,175)\"/><circle cx=\"69\" cy=\"112\" r=\"9\" fill=\"rgb(125,125,125)\"/><circle cx=\"216\" cy=\"51\" r=\"8\" fill=\"rgb(95,95,95)\"/><circle cx=\"262\" cy=\"328\" r=\"11\" fill=\"rgb(134,134,134)\"/><circle cx=\"263\" cy=\"107\" r=\"12\" fill=\"rgb(108,108,108)\"/><circle cx=\"232\" cy=\"197\" r=\"11\" fill=\"rgb(166,166,166)\"/></svg><svg id=\"svg\" width=\"430\" height=\"430\"><circle cx=\"215\" cy=\"215\" r=\"205\" fill=\"none\" stroke=\"black\" stroke-width=\"2\" stroke-dasharray=\"3,3\"/> <circle cx=\"281\" cy=\"139\" r=\"12\" fill=\"rgb(255,211,211)\" /><circle cx=\"393\" cy=\"230\" r=\"7\" fill=\"rgb(255,254,254)\" /><circle cx=\"69\" cy=\"112\" r=\"9\" fill=\"rgb(255,210,210)\" /><circle cx=\"216\" cy=\"51\" r=\"8\" fill=\"rgb(255,219,219)\" /><circle cx=\"262\" cy=\"328\" r=\"11\" fill=\"rgb(255,210,210)\" /><circle cx=\"263\" cy=\"107\" r=\"12\" fill=\"rgb(255,211,211)\" /><circle cx=\"232\" cy=\"197\" r=\"11\" fill=\"rgb(255,210,210)\" /></svg></div>"
      ],
      "text/plain": [
       "<IPython.core.display.HTML object>"
      ]
     },
     "metadata": {},
     "output_type": "display_data"
    },
    {
     "name": "stdout",
     "output_type": "stream",
     "text": [
      "t 13: the: [1.5708885e-01 8.3138010e-12 1.8580306e-01 1.4944856e-01 1.7522635e-01\n",
      " 1.5350302e-01 1.7893016e-01]\n"
     ]
    },
    {
     "data": {
      "text/html": [
       "<div style=\"white-space: nowrap\"><svg width=\"430\" height=\"430\" id=\"agent_1\"><circle cx=\"215\" cy=\"215\" r=\"205\" fill=\"none\" stroke=\"black\" stroke-width=\"2\" stroke-dasharray=\"3,3\"/><circle cx=\"281\" cy=\"139\" r=\"12\" fill=\"rgb(110,110,110)\"/><circle cx=\"393\" cy=\"230\" r=\"7\" fill=\"rgb(175,175,175)\"/><circle cx=\"69\" cy=\"112\" r=\"9\" fill=\"rgb(125,125,125)\"/><circle cx=\"216\" cy=\"51\" r=\"8\" fill=\"rgb(95,95,95)\"/><circle cx=\"262\" cy=\"328\" r=\"11\" fill=\"rgb(134,134,134)\"/><circle cx=\"263\" cy=\"107\" r=\"12\" fill=\"rgb(108,108,108)\"/><circle cx=\"232\" cy=\"197\" r=\"11\" fill=\"rgb(166,166,166)\"/></svg><svg id=\"svg\" width=\"430\" height=\"430\"><circle cx=\"215\" cy=\"215\" r=\"205\" fill=\"none\" stroke=\"black\" stroke-width=\"2\" stroke-dasharray=\"3,3\"/> <circle cx=\"281\" cy=\"139\" r=\"12\" fill=\"rgb(255,214,214)\" /><circle cx=\"393\" cy=\"230\" r=\"7\" fill=\"rgb(255,254,254)\" /><circle cx=\"69\" cy=\"112\" r=\"9\" fill=\"rgb(255,207,207)\" /><circle cx=\"216\" cy=\"51\" r=\"8\" fill=\"rgb(255,216,216)\" /><circle cx=\"262\" cy=\"328\" r=\"11\" fill=\"rgb(255,210,210)\" /><circle cx=\"263\" cy=\"107\" r=\"12\" fill=\"rgb(255,215,215)\" /><circle cx=\"232\" cy=\"197\" r=\"11\" fill=\"rgb(255,209,209)\" /></svg></div>"
      ],
      "text/plain": [
       "<IPython.core.display.HTML object>"
      ]
     },
     "metadata": {},
     "output_type": "display_data"
    },
    {
     "name": "stdout",
     "output_type": "stream",
     "text": [
      "t 14: right: [2.1843006e-01 1.0888386e-13 1.3115445e-01 2.4078362e-02 2.0262326e-01\n",
      " 2.2212993e-01 2.0158397e-01]\n"
     ]
    },
    {
     "data": {
      "text/html": [
       "<div style=\"white-space: nowrap\"><svg width=\"430\" height=\"430\" id=\"agent_1\"><circle cx=\"215\" cy=\"215\" r=\"205\" fill=\"none\" stroke=\"black\" stroke-width=\"2\" stroke-dasharray=\"3,3\"/><circle cx=\"281\" cy=\"139\" r=\"12\" fill=\"rgb(110,110,110)\"/><circle cx=\"393\" cy=\"230\" r=\"7\" fill=\"rgb(175,175,175)\"/><circle cx=\"69\" cy=\"112\" r=\"9\" fill=\"rgb(125,125,125)\"/><circle cx=\"216\" cy=\"51\" r=\"8\" fill=\"rgb(95,95,95)\"/><circle cx=\"262\" cy=\"328\" r=\"11\" fill=\"rgb(134,134,134)\"/><circle cx=\"263\" cy=\"107\" r=\"12\" fill=\"rgb(108,108,108)\"/><circle cx=\"232\" cy=\"197\" r=\"11\" fill=\"rgb(166,166,166)\"/></svg><svg id=\"svg\" width=\"430\" height=\"430\"><circle cx=\"215\" cy=\"215\" r=\"205\" fill=\"none\" stroke=\"black\" stroke-width=\"2\" stroke-dasharray=\"3,3\"/> <circle cx=\"281\" cy=\"139\" r=\"12\" fill=\"rgb(255,199,199)\" /><circle cx=\"393\" cy=\"230\" r=\"7\" fill=\"rgb(255,254,254)\" /><circle cx=\"69\" cy=\"112\" r=\"9\" fill=\"rgb(255,221,221)\" /><circle cx=\"216\" cy=\"51\" r=\"8\" fill=\"rgb(255,248,248)\" /><circle cx=\"262\" cy=\"328\" r=\"11\" fill=\"rgb(255,203,203)\" /><circle cx=\"263\" cy=\"107\" r=\"12\" fill=\"rgb(255,198,198)\" /><circle cx=\"232\" cy=\"197\" r=\"11\" fill=\"rgb(255,203,203)\" /></svg></div>"
      ],
      "text/plain": [
       "<IPython.core.display.HTML object>"
      ]
     },
     "metadata": {},
     "output_type": "display_data"
    },
    {
     "name": "stdout",
     "output_type": "stream",
     "text": [
      "t 15: of: [1.6516514e-01 1.2953267e-11 1.7852584e-01 1.4729799e-01 1.7173231e-01\n",
      " 1.6377616e-01 1.7350255e-01]\n"
     ]
    },
    {
     "data": {
      "text/html": [
       "<div style=\"white-space: nowrap\"><svg width=\"430\" height=\"430\" id=\"agent_1\"><circle cx=\"215\" cy=\"215\" r=\"205\" fill=\"none\" stroke=\"black\" stroke-width=\"2\" stroke-dasharray=\"3,3\"/><circle cx=\"281\" cy=\"139\" r=\"12\" fill=\"rgb(110,110,110)\"/><circle cx=\"393\" cy=\"230\" r=\"7\" fill=\"rgb(175,175,175)\"/><circle cx=\"69\" cy=\"112\" r=\"9\" fill=\"rgb(125,125,125)\"/><circle cx=\"216\" cy=\"51\" r=\"8\" fill=\"rgb(95,95,95)\"/><circle cx=\"262\" cy=\"328\" r=\"11\" fill=\"rgb(134,134,134)\"/><circle cx=\"263\" cy=\"107\" r=\"12\" fill=\"rgb(108,108,108)\"/><circle cx=\"232\" cy=\"197\" r=\"11\" fill=\"rgb(166,166,166)\"/></svg><svg id=\"svg\" width=\"430\" height=\"430\"><circle cx=\"215\" cy=\"215\" r=\"205\" fill=\"none\" stroke=\"black\" stroke-width=\"2\" stroke-dasharray=\"3,3\"/> <circle cx=\"281\" cy=\"139\" r=\"12\" fill=\"rgb(255,212,212)\" /><circle cx=\"393\" cy=\"230\" r=\"7\" fill=\"rgb(255,254,254)\" /><circle cx=\"69\" cy=\"112\" r=\"9\" fill=\"rgb(255,209,209)\" /><circle cx=\"216\" cy=\"51\" r=\"8\" fill=\"rgb(255,217,217)\" /><circle cx=\"262\" cy=\"328\" r=\"11\" fill=\"rgb(255,211,211)\" /><circle cx=\"263\" cy=\"107\" r=\"12\" fill=\"rgb(255,213,213)\" /><circle cx=\"232\" cy=\"197\" r=\"11\" fill=\"rgb(255,210,210)\" /></svg></div>"
      ],
      "text/plain": [
       "<IPython.core.display.HTML object>"
      ]
     },
     "metadata": {},
     "output_type": "display_data"
    },
    {
     "name": "stdout",
     "output_type": "stream",
     "text": [
      "t 16: it: [1.5826344e-01 8.8456092e-10 1.7857689e-01 1.7407966e-01 1.6491453e-01\n",
      " 1.5732978e-01 1.6683565e-01]\n"
     ]
    },
    {
     "data": {
      "text/html": [
       "<div style=\"white-space: nowrap\"><svg width=\"430\" height=\"430\" id=\"agent_1\"><circle cx=\"215\" cy=\"215\" r=\"205\" fill=\"none\" stroke=\"black\" stroke-width=\"2\" stroke-dasharray=\"3,3\"/><circle cx=\"281\" cy=\"139\" r=\"12\" fill=\"rgb(110,110,110)\"/><circle cx=\"393\" cy=\"230\" r=\"7\" fill=\"rgb(175,175,175)\"/><circle cx=\"69\" cy=\"112\" r=\"9\" fill=\"rgb(125,125,125)\"/><circle cx=\"216\" cy=\"51\" r=\"8\" fill=\"rgb(95,95,95)\"/><circle cx=\"262\" cy=\"328\" r=\"11\" fill=\"rgb(134,134,134)\"/><circle cx=\"263\" cy=\"107\" r=\"12\" fill=\"rgb(108,108,108)\"/><circle cx=\"232\" cy=\"197\" r=\"11\" fill=\"rgb(166,166,166)\"/></svg><svg id=\"svg\" width=\"430\" height=\"430\"><circle cx=\"215\" cy=\"215\" r=\"205\" fill=\"none\" stroke=\"black\" stroke-width=\"2\" stroke-dasharray=\"3,3\"/> <circle cx=\"281\" cy=\"139\" r=\"12\" fill=\"rgb(255,214,214)\" /><circle cx=\"393\" cy=\"230\" r=\"7\" fill=\"rgb(255,254,254)\" /><circle cx=\"69\" cy=\"112\" r=\"9\" fill=\"rgb(255,209,209)\" /><circle cx=\"216\" cy=\"51\" r=\"8\" fill=\"rgb(255,210,210)\" /><circle cx=\"262\" cy=\"328\" r=\"11\" fill=\"rgb(255,212,212)\" /><circle cx=\"263\" cy=\"107\" r=\"12\" fill=\"rgb(255,214,214)\" /><circle cx=\"232\" cy=\"197\" r=\"11\" fill=\"rgb(255,212,212)\" /></svg></div>"
      ],
      "text/plain": [
       "<IPython.core.display.HTML object>"
      ]
     },
     "metadata": {},
     "output_type": "display_data"
    },
    {
     "name": "stdout",
     "output_type": "stream",
     "text": [
      "t 17: <eos>: [1.8261203e-01 5.6772629e-12 1.6178964e-01 1.1758571e-01 1.7855252e-01\n",
      " 1.8249197e-01 1.7696813e-01]\n"
     ]
    },
    {
     "data": {
      "text/html": [
       "<div style=\"white-space: nowrap\"><svg width=\"430\" height=\"430\" id=\"agent_1\"><circle cx=\"215\" cy=\"215\" r=\"205\" fill=\"none\" stroke=\"black\" stroke-width=\"2\" stroke-dasharray=\"3,3\"/><circle cx=\"281\" cy=\"139\" r=\"12\" fill=\"rgb(110,110,110)\"/><circle cx=\"393\" cy=\"230\" r=\"7\" fill=\"rgb(175,175,175)\"/><circle cx=\"69\" cy=\"112\" r=\"9\" fill=\"rgb(125,125,125)\"/><circle cx=\"216\" cy=\"51\" r=\"8\" fill=\"rgb(95,95,95)\"/><circle cx=\"262\" cy=\"328\" r=\"11\" fill=\"rgb(134,134,134)\"/><circle cx=\"263\" cy=\"107\" r=\"12\" fill=\"rgb(108,108,108)\"/><circle cx=\"232\" cy=\"197\" r=\"11\" fill=\"rgb(166,166,166)\"/></svg><svg id=\"svg\" width=\"430\" height=\"430\"><circle cx=\"215\" cy=\"215\" r=\"205\" fill=\"none\" stroke=\"black\" stroke-width=\"2\" stroke-dasharray=\"3,3\"/> <circle cx=\"281\" cy=\"139\" r=\"12\" fill=\"rgb(255,208,208)\" /><circle cx=\"393\" cy=\"230\" r=\"7\" fill=\"rgb(255,254,254)\" /><circle cx=\"69\" cy=\"112\" r=\"9\" fill=\"rgb(255,213,213)\" /><circle cx=\"216\" cy=\"51\" r=\"8\" fill=\"rgb(255,225,225)\" /><circle cx=\"262\" cy=\"328\" r=\"11\" fill=\"rgb(255,209,209)\" /><circle cx=\"263\" cy=\"107\" r=\"12\" fill=\"rgb(255,208,208)\" /><circle cx=\"232\" cy=\"197\" r=\"11\" fill=\"rgb(255,209,209)\" /></svg></div>"
      ],
      "text/plain": [
       "<IPython.core.display.HTML object>"
      ]
     },
     "metadata": {},
     "output_type": "display_data"
    },
    {
     "name": "stdout",
     "output_type": "stream",
     "text": [
      "1\ti have a large black dot with a small light grey dot to the right of it <eos>\n",
      "\n",
      "0\ti have that . let 's pick the black one <selection>\n",
      "\n",
      "feed attention: [4.3341923e-01 5.9906341e-08 8.5358825e-13 4.6864031e-21 5.5257815e-01\n",
      " 1.3830568e-02 1.7201506e-04]\n"
     ]
    },
    {
     "data": {
      "text/html": [
       "<div style=\"white-space: nowrap\"><svg width=\"430\" height=\"430\" id=\"agent_0\"><circle cx=\"215\" cy=\"215\" r=\"205\" fill=\"none\" stroke=\"black\" stroke-width=\"2\" stroke-dasharray=\"3,3\"/><circle cx=\"273\" cy=\"350\" r=\"12\" fill=\"rgb(110,110,110)\"/><circle cx=\"61\" cy=\"323\" r=\"9\" fill=\"rgb(125,125,125)\"/><circle cx=\"208\" cy=\"262\" r=\"8\" fill=\"rgb(95,95,95)\"/><circle cx=\"319\" cy=\"216\" r=\"8\" fill=\"rgb(123,123,123)\"/><circle cx=\"255\" cy=\"318\" r=\"12\" fill=\"rgb(108,108,108)\"/><circle cx=\"325\" cy=\"255\" r=\"12\" fill=\"rgb(161,161,161)\"/><circle cx=\"224\" cy=\"407\" r=\"11\" fill=\"rgb(166,166,166)\"/></svg><svg id=\"svg\" width=\"430\" height=\"430\"><circle cx=\"215\" cy=\"215\" r=\"205\" fill=\"none\" stroke=\"black\" stroke-width=\"2\" stroke-dasharray=\"3,3\"/> <circle cx=\"273\" cy=\"350\" r=\"12\" fill=\"rgb(255,144,144)\" /><circle cx=\"61\" cy=\"323\" r=\"9\" fill=\"rgb(255,254,254)\" /><circle cx=\"208\" cy=\"262\" r=\"8\" fill=\"rgb(255,254,254)\" /><circle cx=\"319\" cy=\"216\" r=\"8\" fill=\"rgb(255,255,255)\" /><circle cx=\"255\" cy=\"318\" r=\"12\" fill=\"rgb(255,114,114)\" /><circle cx=\"325\" cy=\"255\" r=\"12\" fill=\"rgb(255,251,251)\" /><circle cx=\"224\" cy=\"407\" r=\"11\" fill=\"rgb(255,254,254)\" /></svg></div>"
      ],
      "text/plain": [
       "<IPython.core.display.HTML object>"
      ]
     },
     "metadata": {},
     "output_type": "display_data"
    },
    {
     "name": "stdout",
     "output_type": "stream",
     "text": [
      "word attention mean: [0.20493382 0.12748769 0.06127373 0.00204128 0.22717546 0.20913926\n",
      " 0.1679488 ]\n"
     ]
    },
    {
     "data": {
      "text/html": [
       "<div style=\"white-space: nowrap\"><svg width=\"430\" height=\"430\" id=\"agent_0\"><circle cx=\"215\" cy=\"215\" r=\"205\" fill=\"none\" stroke=\"black\" stroke-width=\"2\" stroke-dasharray=\"3,3\"/><circle cx=\"273\" cy=\"350\" r=\"12\" fill=\"rgb(110,110,110)\"/><circle cx=\"61\" cy=\"323\" r=\"9\" fill=\"rgb(125,125,125)\"/><circle cx=\"208\" cy=\"262\" r=\"8\" fill=\"rgb(95,95,95)\"/><circle cx=\"319\" cy=\"216\" r=\"8\" fill=\"rgb(123,123,123)\"/><circle cx=\"255\" cy=\"318\" r=\"12\" fill=\"rgb(108,108,108)\"/><circle cx=\"325\" cy=\"255\" r=\"12\" fill=\"rgb(161,161,161)\"/><circle cx=\"224\" cy=\"407\" r=\"11\" fill=\"rgb(166,166,166)\"/></svg><svg id=\"svg\" width=\"430\" height=\"430\"><circle cx=\"215\" cy=\"215\" r=\"205\" fill=\"none\" stroke=\"black\" stroke-width=\"2\" stroke-dasharray=\"3,3\"/> <circle cx=\"273\" cy=\"350\" r=\"12\" fill=\"rgb(255,202,202)\" /><circle cx=\"61\" cy=\"323\" r=\"9\" fill=\"rgb(255,222,222)\" /><circle cx=\"208\" cy=\"262\" r=\"8\" fill=\"rgb(255,239,239)\" /><circle cx=\"319\" cy=\"216\" r=\"8\" fill=\"rgb(255,254,254)\" /><circle cx=\"255\" cy=\"318\" r=\"12\" fill=\"rgb(255,197,197)\" /><circle cx=\"325\" cy=\"255\" r=\"12\" fill=\"rgb(255,201,201)\" /><circle cx=\"224\" cy=\"407\" r=\"11\" fill=\"rgb(255,212,212)\" /></svg></div>"
      ],
      "text/plain": [
       "<IPython.core.display.HTML object>"
      ]
     },
     "metadata": {},
     "output_type": "display_data"
    },
    {
     "name": "stdout",
     "output_type": "stream",
     "text": [
      "t 0: i: [0.16331336 0.16888349 0.16648215 0.0109441  0.16247997 0.16295153\n",
      " 0.16494538]\n"
     ]
    },
    {
     "data": {
      "text/html": [
       "<div style=\"white-space: nowrap\"><svg width=\"430\" height=\"430\" id=\"agent_0\"><circle cx=\"215\" cy=\"215\" r=\"205\" fill=\"none\" stroke=\"black\" stroke-width=\"2\" stroke-dasharray=\"3,3\"/><circle cx=\"273\" cy=\"350\" r=\"12\" fill=\"rgb(110,110,110)\"/><circle cx=\"61\" cy=\"323\" r=\"9\" fill=\"rgb(125,125,125)\"/><circle cx=\"208\" cy=\"262\" r=\"8\" fill=\"rgb(95,95,95)\"/><circle cx=\"319\" cy=\"216\" r=\"8\" fill=\"rgb(123,123,123)\"/><circle cx=\"255\" cy=\"318\" r=\"12\" fill=\"rgb(108,108,108)\"/><circle cx=\"325\" cy=\"255\" r=\"12\" fill=\"rgb(161,161,161)\"/><circle cx=\"224\" cy=\"407\" r=\"11\" fill=\"rgb(166,166,166)\"/></svg><svg id=\"svg\" width=\"430\" height=\"430\"><circle cx=\"215\" cy=\"215\" r=\"205\" fill=\"none\" stroke=\"black\" stroke-width=\"2\" stroke-dasharray=\"3,3\"/> <circle cx=\"273\" cy=\"350\" r=\"12\" fill=\"rgb(255,213,213)\" /><circle cx=\"61\" cy=\"323\" r=\"9\" fill=\"rgb(255,211,211)\" /><circle cx=\"208\" cy=\"262\" r=\"8\" fill=\"rgb(255,212,212)\" /><circle cx=\"319\" cy=\"216\" r=\"8\" fill=\"rgb(255,252,252)\" /><circle cx=\"255\" cy=\"318\" r=\"12\" fill=\"rgb(255,213,213)\" /><circle cx=\"325\" cy=\"255\" r=\"12\" fill=\"rgb(255,213,213)\" /><circle cx=\"224\" cy=\"407\" r=\"11\" fill=\"rgb(255,212,212)\" /></svg></div>"
      ],
      "text/plain": [
       "<IPython.core.display.HTML object>"
      ]
     },
     "metadata": {},
     "output_type": "display_data"
    },
    {
     "name": "stdout",
     "output_type": "stream",
     "text": [
      "t 1: have: [2.4622862e-01 7.5718708e-02 4.0773745e-03 5.5497726e-06 2.5653425e-01\n",
      " 2.4800396e-01 1.6943155e-01]\n"
     ]
    },
    {
     "data": {
      "text/html": [
       "<div style=\"white-space: nowrap\"><svg width=\"430\" height=\"430\" id=\"agent_0\"><circle cx=\"215\" cy=\"215\" r=\"205\" fill=\"none\" stroke=\"black\" stroke-width=\"2\" stroke-dasharray=\"3,3\"/><circle cx=\"273\" cy=\"350\" r=\"12\" fill=\"rgb(110,110,110)\"/><circle cx=\"61\" cy=\"323\" r=\"9\" fill=\"rgb(125,125,125)\"/><circle cx=\"208\" cy=\"262\" r=\"8\" fill=\"rgb(95,95,95)\"/><circle cx=\"319\" cy=\"216\" r=\"8\" fill=\"rgb(123,123,123)\"/><circle cx=\"255\" cy=\"318\" r=\"12\" fill=\"rgb(108,108,108)\"/><circle cx=\"325\" cy=\"255\" r=\"12\" fill=\"rgb(161,161,161)\"/><circle cx=\"224\" cy=\"407\" r=\"11\" fill=\"rgb(166,166,166)\"/></svg><svg id=\"svg\" width=\"430\" height=\"430\"><circle cx=\"215\" cy=\"215\" r=\"205\" fill=\"none\" stroke=\"black\" stroke-width=\"2\" stroke-dasharray=\"3,3\"/> <circle cx=\"273\" cy=\"350\" r=\"12\" fill=\"rgb(255,192,192)\" /><circle cx=\"61\" cy=\"323\" r=\"9\" fill=\"rgb(255,235,235)\" /><circle cx=\"208\" cy=\"262\" r=\"8\" fill=\"rgb(255,253,253)\" /><circle cx=\"319\" cy=\"216\" r=\"8\" fill=\"rgb(255,254,254)\" /><circle cx=\"255\" cy=\"318\" r=\"12\" fill=\"rgb(255,189,189)\" /><circle cx=\"325\" cy=\"255\" r=\"12\" fill=\"rgb(255,191,191)\" /><circle cx=\"224\" cy=\"407\" r=\"11\" fill=\"rgb(255,211,211)\" /></svg></div>"
      ],
      "text/plain": [
       "<IPython.core.display.HTML object>"
      ]
     },
     "metadata": {},
     "output_type": "display_data"
    },
    {
     "name": "stdout",
     "output_type": "stream",
     "text": [
      "t 2: that: [0.1674943  0.17408724 0.13462245 0.00479117 0.16579388 0.17274764\n",
      " 0.18046333]\n"
     ]
    },
    {
     "data": {
      "text/html": [
       "<div style=\"white-space: nowrap\"><svg width=\"430\" height=\"430\" id=\"agent_0\"><circle cx=\"215\" cy=\"215\" r=\"205\" fill=\"none\" stroke=\"black\" stroke-width=\"2\" stroke-dasharray=\"3,3\"/><circle cx=\"273\" cy=\"350\" r=\"12\" fill=\"rgb(110,110,110)\"/><circle cx=\"61\" cy=\"323\" r=\"9\" fill=\"rgb(125,125,125)\"/><circle cx=\"208\" cy=\"262\" r=\"8\" fill=\"rgb(95,95,95)\"/><circle cx=\"319\" cy=\"216\" r=\"8\" fill=\"rgb(123,123,123)\"/><circle cx=\"255\" cy=\"318\" r=\"12\" fill=\"rgb(108,108,108)\"/><circle cx=\"325\" cy=\"255\" r=\"12\" fill=\"rgb(161,161,161)\"/><circle cx=\"224\" cy=\"407\" r=\"11\" fill=\"rgb(166,166,166)\"/></svg><svg id=\"svg\" width=\"430\" height=\"430\"><circle cx=\"215\" cy=\"215\" r=\"205\" fill=\"none\" stroke=\"black\" stroke-width=\"2\" stroke-dasharray=\"3,3\"/> <circle cx=\"273\" cy=\"350\" r=\"12\" fill=\"rgb(255,212,212)\" /><circle cx=\"61\" cy=\"323\" r=\"9\" fill=\"rgb(255,210,210)\" /><circle cx=\"208\" cy=\"262\" r=\"8\" fill=\"rgb(255,220,220)\" /><circle cx=\"319\" cy=\"216\" r=\"8\" fill=\"rgb(255,253,253)\" /><circle cx=\"255\" cy=\"318\" r=\"12\" fill=\"rgb(255,212,212)\" /><circle cx=\"325\" cy=\"255\" r=\"12\" fill=\"rgb(255,210,210)\" /><circle cx=\"224\" cy=\"407\" r=\"11\" fill=\"rgb(255,208,208)\" /></svg></div>"
      ],
      "text/plain": [
       "<IPython.core.display.HTML object>"
      ]
     },
     "metadata": {},
     "output_type": "display_data"
    },
    {
     "name": "stdout",
     "output_type": "stream",
     "text": [
      "t 3: .: [2.0890626e-01 1.4702564e-01 1.6202860e-02 4.0883278e-05 2.0768680e-01\n",
      " 2.1006744e-01 2.1007013e-01]\n"
     ]
    },
    {
     "data": {
      "text/html": [
       "<div style=\"white-space: nowrap\"><svg width=\"430\" height=\"430\" id=\"agent_0\"><circle cx=\"215\" cy=\"215\" r=\"205\" fill=\"none\" stroke=\"black\" stroke-width=\"2\" stroke-dasharray=\"3,3\"/><circle cx=\"273\" cy=\"350\" r=\"12\" fill=\"rgb(110,110,110)\"/><circle cx=\"61\" cy=\"323\" r=\"9\" fill=\"rgb(125,125,125)\"/><circle cx=\"208\" cy=\"262\" r=\"8\" fill=\"rgb(95,95,95)\"/><circle cx=\"319\" cy=\"216\" r=\"8\" fill=\"rgb(123,123,123)\"/><circle cx=\"255\" cy=\"318\" r=\"12\" fill=\"rgb(108,108,108)\"/><circle cx=\"325\" cy=\"255\" r=\"12\" fill=\"rgb(161,161,161)\"/><circle cx=\"224\" cy=\"407\" r=\"11\" fill=\"rgb(166,166,166)\"/></svg><svg id=\"svg\" width=\"430\" height=\"430\"><circle cx=\"215\" cy=\"215\" r=\"205\" fill=\"none\" stroke=\"black\" stroke-width=\"2\" stroke-dasharray=\"3,3\"/> <circle cx=\"273\" cy=\"350\" r=\"12\" fill=\"rgb(255,201,201)\" /><circle cx=\"61\" cy=\"323\" r=\"9\" fill=\"rgb(255,217,217)\" /><circle cx=\"208\" cy=\"262\" r=\"8\" fill=\"rgb(255,250,250)\" /><circle cx=\"319\" cy=\"216\" r=\"8\" fill=\"rgb(255,254,254)\" /><circle cx=\"255\" cy=\"318\" r=\"12\" fill=\"rgb(255,202,202)\" /><circle cx=\"325\" cy=\"255\" r=\"12\" fill=\"rgb(255,201,201)\" /><circle cx=\"224\" cy=\"407\" r=\"11\" fill=\"rgb(255,201,201)\" /></svg></div>"
      ],
      "text/plain": [
       "<IPython.core.display.HTML object>"
      ]
     },
     "metadata": {},
     "output_type": "display_data"
    },
    {
     "name": "stdout",
     "output_type": "stream",
     "text": [
      "t 4: let: [0.17877576 0.17211927 0.11107098 0.00263085 0.1768279  0.17722768\n",
      " 0.18134762]\n"
     ]
    },
    {
     "data": {
      "text/html": [
       "<div style=\"white-space: nowrap\"><svg width=\"430\" height=\"430\" id=\"agent_0\"><circle cx=\"215\" cy=\"215\" r=\"205\" fill=\"none\" stroke=\"black\" stroke-width=\"2\" stroke-dasharray=\"3,3\"/><circle cx=\"273\" cy=\"350\" r=\"12\" fill=\"rgb(110,110,110)\"/><circle cx=\"61\" cy=\"323\" r=\"9\" fill=\"rgb(125,125,125)\"/><circle cx=\"208\" cy=\"262\" r=\"8\" fill=\"rgb(95,95,95)\"/><circle cx=\"319\" cy=\"216\" r=\"8\" fill=\"rgb(123,123,123)\"/><circle cx=\"255\" cy=\"318\" r=\"12\" fill=\"rgb(108,108,108)\"/><circle cx=\"325\" cy=\"255\" r=\"12\" fill=\"rgb(161,161,161)\"/><circle cx=\"224\" cy=\"407\" r=\"11\" fill=\"rgb(166,166,166)\"/></svg><svg id=\"svg\" width=\"430\" height=\"430\"><circle cx=\"215\" cy=\"215\" r=\"205\" fill=\"none\" stroke=\"black\" stroke-width=\"2\" stroke-dasharray=\"3,3\"/> <circle cx=\"273\" cy=\"350\" r=\"12\" fill=\"rgb(255,209,209)\" /><circle cx=\"61\" cy=\"323\" r=\"9\" fill=\"rgb(255,211,211)\" /><circle cx=\"208\" cy=\"262\" r=\"8\" fill=\"rgb(255,226,226)\" /><circle cx=\"319\" cy=\"216\" r=\"8\" fill=\"rgb(255,254,254)\" /><circle cx=\"255\" cy=\"318\" r=\"12\" fill=\"rgb(255,209,209)\" /><circle cx=\"325\" cy=\"255\" r=\"12\" fill=\"rgb(255,209,209)\" /><circle cx=\"224\" cy=\"407\" r=\"11\" fill=\"rgb(255,208,208)\" /></svg></div>"
      ],
      "text/plain": [
       "<IPython.core.display.HTML object>"
      ]
     },
     "metadata": {},
     "output_type": "display_data"
    },
    {
     "name": "stdout",
     "output_type": "stream",
     "text": [
      "t 5: 's: [0.18593402 0.16176257 0.09821958 0.00297078 0.18618962 0.18579212\n",
      " 0.17913131]\n"
     ]
    },
    {
     "data": {
      "text/html": [
       "<div style=\"white-space: nowrap\"><svg width=\"430\" height=\"430\" id=\"agent_0\"><circle cx=\"215\" cy=\"215\" r=\"205\" fill=\"none\" stroke=\"black\" stroke-width=\"2\" stroke-dasharray=\"3,3\"/><circle cx=\"273\" cy=\"350\" r=\"12\" fill=\"rgb(110,110,110)\"/><circle cx=\"61\" cy=\"323\" r=\"9\" fill=\"rgb(125,125,125)\"/><circle cx=\"208\" cy=\"262\" r=\"8\" fill=\"rgb(95,95,95)\"/><circle cx=\"319\" cy=\"216\" r=\"8\" fill=\"rgb(123,123,123)\"/><circle cx=\"255\" cy=\"318\" r=\"12\" fill=\"rgb(108,108,108)\"/><circle cx=\"325\" cy=\"255\" r=\"12\" fill=\"rgb(161,161,161)\"/><circle cx=\"224\" cy=\"407\" r=\"11\" fill=\"rgb(166,166,166)\"/></svg><svg id=\"svg\" width=\"430\" height=\"430\"><circle cx=\"215\" cy=\"215\" r=\"205\" fill=\"none\" stroke=\"black\" stroke-width=\"2\" stroke-dasharray=\"3,3\"/> <circle cx=\"273\" cy=\"350\" r=\"12\" fill=\"rgb(255,207,207)\" /><circle cx=\"61\" cy=\"323\" r=\"9\" fill=\"rgb(255,213,213)\" /><circle cx=\"208\" cy=\"262\" r=\"8\" fill=\"rgb(255,229,229)\" /><circle cx=\"319\" cy=\"216\" r=\"8\" fill=\"rgb(255,254,254)\" /><circle cx=\"255\" cy=\"318\" r=\"12\" fill=\"rgb(255,207,207)\" /><circle cx=\"325\" cy=\"255\" r=\"12\" fill=\"rgb(255,207,207)\" /><circle cx=\"224\" cy=\"407\" r=\"11\" fill=\"rgb(255,209,209)\" /></svg></div>"
      ],
      "text/plain": [
       "<IPython.core.display.HTML object>"
      ]
     },
     "metadata": {},
     "output_type": "display_data"
    },
    {
     "name": "stdout",
     "output_type": "stream",
     "text": [
      "t 6: pick: [2.01662645e-01 1.57451093e-01 2.74648126e-02 1.22069614e-04\n",
      " 2.00093880e-01 2.03609183e-01 2.09596291e-01]\n"
     ]
    },
    {
     "data": {
      "text/html": [
       "<div style=\"white-space: nowrap\"><svg width=\"430\" height=\"430\" id=\"agent_0\"><circle cx=\"215\" cy=\"215\" r=\"205\" fill=\"none\" stroke=\"black\" stroke-width=\"2\" stroke-dasharray=\"3,3\"/><circle cx=\"273\" cy=\"350\" r=\"12\" fill=\"rgb(110,110,110)\"/><circle cx=\"61\" cy=\"323\" r=\"9\" fill=\"rgb(125,125,125)\"/><circle cx=\"208\" cy=\"262\" r=\"8\" fill=\"rgb(95,95,95)\"/><circle cx=\"319\" cy=\"216\" r=\"8\" fill=\"rgb(123,123,123)\"/><circle cx=\"255\" cy=\"318\" r=\"12\" fill=\"rgb(108,108,108)\"/><circle cx=\"325\" cy=\"255\" r=\"12\" fill=\"rgb(161,161,161)\"/><circle cx=\"224\" cy=\"407\" r=\"11\" fill=\"rgb(166,166,166)\"/></svg><svg id=\"svg\" width=\"430\" height=\"430\"><circle cx=\"215\" cy=\"215\" r=\"205\" fill=\"none\" stroke=\"black\" stroke-width=\"2\" stroke-dasharray=\"3,3\"/> <circle cx=\"273\" cy=\"350\" r=\"12\" fill=\"rgb(255,203,203)\" /><circle cx=\"61\" cy=\"323\" r=\"9\" fill=\"rgb(255,214,214)\" /><circle cx=\"208\" cy=\"262\" r=\"8\" fill=\"rgb(255,247,247)\" /><circle cx=\"319\" cy=\"216\" r=\"8\" fill=\"rgb(255,254,254)\" /><circle cx=\"255\" cy=\"318\" r=\"12\" fill=\"rgb(255,203,203)\" /><circle cx=\"325\" cy=\"255\" r=\"12\" fill=\"rgb(255,203,203)\" /><circle cx=\"224\" cy=\"407\" r=\"11\" fill=\"rgb(255,201,201)\" /></svg></div>"
      ],
      "text/plain": [
       "<IPython.core.display.HTML object>"
      ]
     },
     "metadata": {},
     "output_type": "display_data"
    },
    {
     "name": "stdout",
     "output_type": "stream",
     "text": [
      "t 7: the: [2.1123382e-01 1.4195952e-01 2.5406213e-02 8.0475373e-05 2.0908077e-01\n",
      " 2.1052511e-01 2.0171405e-01]\n"
     ]
    },
    {
     "data": {
      "text/html": [
       "<div style=\"white-space: nowrap\"><svg width=\"430\" height=\"430\" id=\"agent_0\"><circle cx=\"215\" cy=\"215\" r=\"205\" fill=\"none\" stroke=\"black\" stroke-width=\"2\" stroke-dasharray=\"3,3\"/><circle cx=\"273\" cy=\"350\" r=\"12\" fill=\"rgb(110,110,110)\"/><circle cx=\"61\" cy=\"323\" r=\"9\" fill=\"rgb(125,125,125)\"/><circle cx=\"208\" cy=\"262\" r=\"8\" fill=\"rgb(95,95,95)\"/><circle cx=\"319\" cy=\"216\" r=\"8\" fill=\"rgb(123,123,123)\"/><circle cx=\"255\" cy=\"318\" r=\"12\" fill=\"rgb(108,108,108)\"/><circle cx=\"325\" cy=\"255\" r=\"12\" fill=\"rgb(161,161,161)\"/><circle cx=\"224\" cy=\"407\" r=\"11\" fill=\"rgb(166,166,166)\"/></svg><svg id=\"svg\" width=\"430\" height=\"430\"><circle cx=\"215\" cy=\"215\" r=\"205\" fill=\"none\" stroke=\"black\" stroke-width=\"2\" stroke-dasharray=\"3,3\"/> <circle cx=\"273\" cy=\"350\" r=\"12\" fill=\"rgb(255,201,201)\" /><circle cx=\"61\" cy=\"323\" r=\"9\" fill=\"rgb(255,218,218)\" /><circle cx=\"208\" cy=\"262\" r=\"8\" fill=\"rgb(255,248,248)\" /><circle cx=\"319\" cy=\"216\" r=\"8\" fill=\"rgb(255,254,254)\" /><circle cx=\"255\" cy=\"318\" r=\"12\" fill=\"rgb(255,201,201)\" /><circle cx=\"325\" cy=\"255\" r=\"12\" fill=\"rgb(255,201,201)\" /><circle cx=\"224\" cy=\"407\" r=\"11\" fill=\"rgb(255,203,203)\" /></svg></div>"
      ],
      "text/plain": [
       "<IPython.core.display.HTML object>"
      ]
     },
     "metadata": {},
     "output_type": "display_data"
    },
    {
     "name": "stdout",
     "output_type": "stream",
     "text": [
      "t 8: black: [2.4333137e-01 4.1556042e-03 1.9186350e-04 5.8719991e-07 4.3349433e-01\n",
      " 2.8115144e-01 3.7674773e-02]\n"
     ]
    },
    {
     "data": {
      "text/html": [
       "<div style=\"white-space: nowrap\"><svg width=\"430\" height=\"430\" id=\"agent_0\"><circle cx=\"215\" cy=\"215\" r=\"205\" fill=\"none\" stroke=\"black\" stroke-width=\"2\" stroke-dasharray=\"3,3\"/><circle cx=\"273\" cy=\"350\" r=\"12\" fill=\"rgb(110,110,110)\"/><circle cx=\"61\" cy=\"323\" r=\"9\" fill=\"rgb(125,125,125)\"/><circle cx=\"208\" cy=\"262\" r=\"8\" fill=\"rgb(95,95,95)\"/><circle cx=\"319\" cy=\"216\" r=\"8\" fill=\"rgb(123,123,123)\"/><circle cx=\"255\" cy=\"318\" r=\"12\" fill=\"rgb(108,108,108)\"/><circle cx=\"325\" cy=\"255\" r=\"12\" fill=\"rgb(161,161,161)\"/><circle cx=\"224\" cy=\"407\" r=\"11\" fill=\"rgb(166,166,166)\"/></svg><svg id=\"svg\" width=\"430\" height=\"430\"><circle cx=\"215\" cy=\"215\" r=\"205\" fill=\"none\" stroke=\"black\" stroke-width=\"2\" stroke-dasharray=\"3,3\"/> <circle cx=\"273\" cy=\"350\" r=\"12\" fill=\"rgb(255,192,192)\" /><circle cx=\"61\" cy=\"323\" r=\"9\" fill=\"rgb(255,253,253)\" /><circle cx=\"208\" cy=\"262\" r=\"8\" fill=\"rgb(255,254,254)\" /><circle cx=\"319\" cy=\"216\" r=\"8\" fill=\"rgb(255,254,254)\" /><circle cx=\"255\" cy=\"318\" r=\"12\" fill=\"rgb(255,144,144)\" /><circle cx=\"325\" cy=\"255\" r=\"12\" fill=\"rgb(255,183,183)\" /><circle cx=\"224\" cy=\"407\" r=\"11\" fill=\"rgb(255,245,245)\" /></svg></div>"
      ],
      "text/plain": [
       "<IPython.core.display.HTML object>"
      ]
     },
     "metadata": {},
     "output_type": "display_data"
    },
    {
     "name": "stdout",
     "output_type": "stream",
     "text": [
      "t 9: one: [2.6116040e-01 3.5355806e-02 3.5511791e-03 3.0202800e-05 3.1695914e-01\n",
      " 2.6227555e-01 1.2066770e-01]\n"
     ]
    },
    {
     "data": {
      "text/html": [
       "<div style=\"white-space: nowrap\"><svg width=\"430\" height=\"430\" id=\"agent_0\"><circle cx=\"215\" cy=\"215\" r=\"205\" fill=\"none\" stroke=\"black\" stroke-width=\"2\" stroke-dasharray=\"3,3\"/><circle cx=\"273\" cy=\"350\" r=\"12\" fill=\"rgb(110,110,110)\"/><circle cx=\"61\" cy=\"323\" r=\"9\" fill=\"rgb(125,125,125)\"/><circle cx=\"208\" cy=\"262\" r=\"8\" fill=\"rgb(95,95,95)\"/><circle cx=\"319\" cy=\"216\" r=\"8\" fill=\"rgb(123,123,123)\"/><circle cx=\"255\" cy=\"318\" r=\"12\" fill=\"rgb(108,108,108)\"/><circle cx=\"325\" cy=\"255\" r=\"12\" fill=\"rgb(161,161,161)\"/><circle cx=\"224\" cy=\"407\" r=\"11\" fill=\"rgb(166,166,166)\"/></svg><svg id=\"svg\" width=\"430\" height=\"430\"><circle cx=\"215\" cy=\"215\" r=\"205\" fill=\"none\" stroke=\"black\" stroke-width=\"2\" stroke-dasharray=\"3,3\"/> <circle cx=\"273\" cy=\"350\" r=\"12\" fill=\"rgb(255,188,188)\" /><circle cx=\"61\" cy=\"323\" r=\"9\" fill=\"rgb(255,245,245)\" /><circle cx=\"208\" cy=\"262\" r=\"8\" fill=\"rgb(255,254,254)\" /><circle cx=\"319\" cy=\"216\" r=\"8\" fill=\"rgb(255,254,254)\" /><circle cx=\"255\" cy=\"318\" r=\"12\" fill=\"rgb(255,174,174)\" /><circle cx=\"325\" cy=\"255\" r=\"12\" fill=\"rgb(255,188,188)\" /><circle cx=\"224\" cy=\"407\" r=\"11\" fill=\"rgb(255,224,224)\" /></svg></div>"
      ],
      "text/plain": [
       "<IPython.core.display.HTML object>"
      ]
     },
     "metadata": {},
     "output_type": "display_data"
    },
    {
     "name": "stdout",
     "output_type": "stream",
     "text": [
      "t 10: <selection>: [0.18623145 0.16384558 0.08672152 0.00083736 0.18378927 0.18618007\n",
      " 0.19239475]\n"
     ]
    },
    {
     "data": {
      "text/html": [
       "<div style=\"white-space: nowrap\"><svg width=\"430\" height=\"430\" id=\"agent_0\"><circle cx=\"215\" cy=\"215\" r=\"205\" fill=\"none\" stroke=\"black\" stroke-width=\"2\" stroke-dasharray=\"3,3\"/><circle cx=\"273\" cy=\"350\" r=\"12\" fill=\"rgb(110,110,110)\"/><circle cx=\"61\" cy=\"323\" r=\"9\" fill=\"rgb(125,125,125)\"/><circle cx=\"208\" cy=\"262\" r=\"8\" fill=\"rgb(95,95,95)\"/><circle cx=\"319\" cy=\"216\" r=\"8\" fill=\"rgb(123,123,123)\"/><circle cx=\"255\" cy=\"318\" r=\"12\" fill=\"rgb(108,108,108)\"/><circle cx=\"325\" cy=\"255\" r=\"12\" fill=\"rgb(161,161,161)\"/><circle cx=\"224\" cy=\"407\" r=\"11\" fill=\"rgb(166,166,166)\"/></svg><svg id=\"svg\" width=\"430\" height=\"430\"><circle cx=\"215\" cy=\"215\" r=\"205\" fill=\"none\" stroke=\"black\" stroke-width=\"2\" stroke-dasharray=\"3,3\"/> <circle cx=\"273\" cy=\"350\" r=\"12\" fill=\"rgb(255,207,207)\" /><circle cx=\"61\" cy=\"323\" r=\"9\" fill=\"rgb(255,213,213)\" /><circle cx=\"208\" cy=\"262\" r=\"8\" fill=\"rgb(255,232,232)\" /><circle cx=\"319\" cy=\"216\" r=\"8\" fill=\"rgb(255,254,254)\" /><circle cx=\"255\" cy=\"318\" r=\"12\" fill=\"rgb(255,208,208)\" /><circle cx=\"325\" cy=\"255\" r=\"12\" fill=\"rgb(255,207,207)\" /><circle cx=\"224\" cy=\"407\" r=\"11\" fill=\"rgb(255,205,205)\" /></svg></div>"
      ],
      "text/plain": [
       "<IPython.core.display.HTML object>"
      ]
     },
     "metadata": {},
     "output_type": "display_data"
    },
    {
     "name": "stdout",
     "output_type": "stream",
     "text": [
      "0\ti have that . let 's pick the black one <selection>\n",
      "\n"
     ]
    }
   ],
   "source": [
    "# selfplay emulation\n",
    "scenario = selfplay_scenarios[scenario_id]\n",
    "for agent, agent_id, ctx, real_ids in zip([alice, bob], [0, 1], [ctx1, ctx2], [ids1, ids2]):\n",
    "    agent.feed_context(ctx)\n",
    "    agent.real_ids = real_ids\n",
    "    agent.agent_id = agent_id\n",
    "    \n",
    "samples = 0\n",
    "    \n",
    "writer, reader = [alice, bob]\n",
    "conv = []\n",
    "speaker = []\n",
    "words_left = 5000\n",
    "    \n",
    "while True:\n",
    "    for _ in range(samples):\n",
    "        outs, _, _, _, extra = writer.model.write(writer.ctx_h, writer.lang_h, words_left, writer.args.temperature)\n",
    "        print('{}\\t{}'.format(writer.agent_id, ' '.join(writer._decode(outs.narrow(0,1,outs.size(0)-1), writer.model.word_dict))))\n",
    "    out = writer.write(max_words=words_left)\n",
    "    print('{}\\t{}'.format(writer.agent_id, ' '.join(out)))\n",
    "    print()\n",
    "    \n",
    "    display_attn(scenario, writer.extras[-1]['dot_attention1'], writer.agent_id, name='feed attention')\n",
    "    \n",
    "    if 'dot_attention2_mean' in writer.extras[-1]:\n",
    "        display_attn(scenario, writer.extras[-1]['dot_attention2_mean'], writer.agent_id, name='word attention mean')\n",
    "        \n",
    "    for ix, ix_attn in enumerate(writer.extras[-1]['dot_attention2s']):\n",
    "        display_attn(scenario, ix_attn, writer.agent_id, name='t {}: {}'.format(ix, out[ix]))\n",
    "    print('{}\\t{}'.format(writer.agent_id, ' '.join(out)))\n",
    "    print()\n",
    "        \n",
    "    words_left -= len(out)\n",
    "    conv.append(out)\n",
    "    speaker.append(writer.agent_id)\n",
    "    reader.read(out)\n",
    "    if is_selection(out) or words_left <= 1:\n",
    "        break\n",
    "    writer, reader = reader, writer"
   ]
  },
  {
   "cell_type": "code",
   "execution_count": null,
   "metadata": {},
   "outputs": [],
   "source": []
  }
 ],
 "metadata": {
  "kernelspec": {
   "display_name": "Python 3",
   "language": "python",
   "name": "python3"
  },
  "language_info": {
   "codemirror_mode": {
    "name": "ipython",
    "version": 3
   },
   "file_extension": ".py",
   "mimetype": "text/x-python",
   "name": "python",
   "nbconvert_exporter": "python",
   "pygments_lexer": "ipython3",
   "version": "3.6.10"
  }
 },
 "nbformat": 4,
 "nbformat_minor": 2
}
