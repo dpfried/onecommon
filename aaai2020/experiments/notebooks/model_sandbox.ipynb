{
 "cells": [
  {
   "cell_type": "code",
   "execution_count": 1,
   "metadata": {
    "scrolled": true
   },
   "outputs": [
    {
     "name": "stdout",
     "output_type": "stream",
     "text": [
      "/home/dfried/projects/onecommon/aaai2020/experiments\n"
     ]
    }
   ],
   "source": [
    "cd '/home/dfried/projects/onecommon/aaai2020/experiments'"
   ]
  },
  {
   "cell_type": "code",
   "execution_count": 2,
   "metadata": {},
   "outputs": [],
   "source": [
    "import models\n",
    "import data\n",
    "import utils\n",
    "from domain import get_domain\n",
    "from corpora.reference_sentence import ReferenceSentenceCorpus"
   ]
  },
  {
   "cell_type": "code",
   "execution_count": 3,
   "metadata": {},
   "outputs": [],
   "source": [
    "domain = get_domain('one_common')\n",
    "unk_threshold = 10\n",
    "model_ty = models.get_model_type('rnn_reference_model')\n",
    "\n",
    "ctx_encoder_type = 'rel_attn_encoder'\n",
    "\n",
    "# model is actually in \"serialized_models/{model_fname}\"\n",
    "# model_fname = 'rel_tsel_ref_dial_model/default_0_best.th'\n",
    "\n",
    "# # valid_lang_loss 2.2762        valid_select_loss 0.8293        valid_select_acc 0.6859 valid_ref_loss 0.2897\n",
    "# model_fname = 'rel2_tsel_ref_dial_model/hierarchical_rel-enc-2_rel-pool-max_mask-pad_1_best.th'\n",
    "\n",
    "# # valid_lang_loss 2.2609        valid_select_loss 0.9497        valid_select_acc 0.6291         valid_ref_loss 0.3191\n",
    "# model_fname = 'rel2_tsel_ref_dial_model/hierarchical_rel-enc-2_rel-pool-max_mask-pad_feed-ctx-attend_1_best.th'\n",
    "\n",
    "# valid_lang_loss \n",
    "# # valid_lang_loss 2.2544        valid_select_loss 0.8247        valid_select_acc 0.7062         valid_ref_loss 0.2852\n",
    "# model_fname = 'rel2_tsel_ref_dial_model_no-share/hierarchical_mask-pad_feed-context-attend-separate_1_best.th'\n",
    "\n",
    "# # valid_lang_loss 2.2448        valid_select_loss 0.9233        valid_select_acc 0.6455         valid_ref_loss 0.3180\n",
    "# model_fname = 'rel2_tsel_ref_dial_model_no-share/hierarchical_mask-pad_selection-attention_feed-context-attend-separate_no-word-attention_1_best.th'\n",
    "\n",
    "# model_fname = 'rel2_tsel_ref_dial_model_no-share/hierarchical_mask-pad_selection-attention_feed-context-attend-separate_1_best.th'\n",
    "\n",
    "# valid_lang_loss 2.2435        valid_select_loss 1.0267        valid_select_acc 0.6358         valid_ref_loss 0.3528\n",
    "# model_fname = 'rel2_tsel_ref_dial_model_separate/hierarchical_mask-pad_max-pool_rel-2_feed-context-attend_no-word-attention_ablate-properties_1_best.th'\n",
    "\n",
    "# model_fname = 'rel2_dial_model_separate/hierarchical_mask-pad_max-pool_rel-2_feed-context-attend_1_best.th'\n",
    "# model_fname = 'rel2_dial_model_separate/hierarchical_mask-pad_max-pool_rel-2_feed-context-attend_no-word-attention_1_best.th'\n",
    "# model_fname = 'rel2_dial_model_separate/hierarchical_mask-pad_max-pool_rel-2_feed-context-attend_no-word-attention_ablate-properties_1_best.th'\n",
    "# model_fname = 'rel2_dial_model_separate/hierarchical_mask-pad_max-pool_feed-context-attend_no-word-attention_ablate-properties_1_best.th'\n",
    "# model_fname = 'rel2_dial_model_separate/hierarchical_mask-pad_max-pool_feed-context-attend_ablate-properties_1_best.th'\n",
    "\n",
    "# model_fname = 'rel2_dial_model_separate/hierarchical_mask-pad_max-pool_feed-context-attend_ablate-properties_1_best.th'\n",
    "\n",
    "model_fname = 'rel2_dial_model_separate/hierarchical_only-self_mask-pad_max-pool_feed-context-attend_ablate-properties_1_best.th'\n",
    "# model_fname = 'rel2_dial_model_separate/hierarchical_only-self_mask-pad_max-pool_rel-2_feed-context-attend_no-word-attention_ablate-properties_1_best.th'"
   ]
  },
  {
   "cell_type": "code",
   "execution_count": 4,
   "metadata": {},
   "outputs": [],
   "source": [
    "# supervise attn\n",
    "model_fname = 'rel2_dial_model_separate/hierarchical_only-self_supervise-feed-attn_mask-pad_feed-context-attend_1_best.th'"
   ]
  },
  {
   "cell_type": "code",
   "execution_count": 5,
   "metadata": {},
   "outputs": [],
   "source": [
    "## mark mentioned\n",
    "model_fname = 'rel2_dial_model_separate/hierarchical_only-self_mark-dots-mentioned_mask-pad_1_best.th'\n",
    "## this one's running\n",
    "model_fname = 'rel2_dial_model_separate/hierarchical_only-self_mark-dots-mentioned_mask-pad_rel-2_feed-context-attend_1_best.th'\n",
    "# model_fname = 'rel2_dial_model_separate/hierarchical_only-self_mark-dots-mentioned_mask-pad_max-pool_rel-2_feed-context-attend_no-word-attention_1_best.th'"
   ]
  },
  {
   "cell_type": "code",
   "execution_count": 6,
   "metadata": {},
   "outputs": [],
   "source": [
    "# CONSTRAIN ATTENTION\n",
    "# model_fname = 'rel2_dial_model_separate/hierarchical_only-self_constrain-attn_mask-pad_1_best.th'\n",
    "\n",
    "# has diverse outputs, but doesn't attend to meaningful things\n",
    "# model_fname = 'rel2_dial_model_separate/hierarchical_only-self_constrain-attn_mask-pad_max-pool_ablate-properties_1_best.th'\n",
    "\n",
    "# feed attention is peaked, word attention doesn't attend to meaningful things\n",
    "# model_fname = 'rel2_dial_model_separate/hierarchical_only-self_constrain-attn_mask-pad_feed-context-attend_1_best.th'\n",
    "\n",
    "# model_fname = 'rel2_dial_model_separate/hierarchical_only-self_constrain-attn_mask-pad_max-pool_feed-context-attend_no-word-attention_ablate-properties_1_best.th'\n",
    "# model_fname = 'rel2_dial_model_separate/hierarchical_only-self_constrain-attn_mask-pad_max-pool_feed-context-attend_no-word-attention_ablate-properties_1_best.th'\n",
    "\n",
    "# model_fname = 'rel2_dial_model_separate/hierarchical_only-self_constrain-attn_mask-pad_max-pool_rel-2_feed-context-attend_no-word-attention_1_best.th'\n",
    "# model_fname = 'rel2_dial_model_separate/hierarchical_only-self_constrain-attn_mask-pad_max-pool_rel-2_feed-context-attend_1_best.th'\n",
    "\n",
    "# valid_lang_loss 1.0645\n",
    "# model_fname = 'rel2_dial_model_separate/hierarchical_only-self_constrain-attn_sigmoid_mask-pad_feed-context-attend_1_best.th'\n",
    "\n",
    "# valid_lang_loss 1.0674\n",
    "# model_fname = 'rel2_dial_model_separate/hierarchical_only-self_constrain-attn_sigmoid_mask-pad_1_best.th'\n",
    "\n",
    "# valid_lang_loss 1.0678\n",
    "# model_fname = 'rel2_dial_model_separate/hierarchical_only-self_constrain-attn_sigmoid_mask-pad_rel-2_feed-context-attend_1_best.th'\n",
    "\n",
    "# valid_lang_loss 1.0654\n",
    "# model_fname = 'rel2_dial_model_separate/hierarchical_only-self_constrain-attn_sigmoid_mask-pad_rel-2_1_best.th'\n",
    "\n",
    "# valid_lang_loss 1.0635\n",
    "model_fname = 'rel2_dial_model_separate/hierarchical_only-self_constrain-attn_sigmoid_ria_pic_mask-pad_rel-2_1_best.th'"
   ]
  },
  {
   "cell_type": "code",
   "execution_count": 8,
   "metadata": {},
   "outputs": [
    {
     "name": "stdout",
     "output_type": "stream",
     "text": [
      "dataset data/onecommon/train_reference_1.txt, total 545056, unks 4302, ratio 0.79%\n",
      "dataset data/onecommon/valid_reference_1.txt, total 69348, unks 686, ratio 0.99%\n",
      "dataset data/onecommon/test_reference_1.txt, total 67284, unks 636, ratio 0.95%\n"
     ]
    }
   ],
   "source": [
    "seed = 1\n",
    "corpus = ReferenceSentenceCorpus(domain, 'data/onecommon',\n",
    "                            train='train_reference_{}.txt'.format(seed),\n",
    "                            valid='valid_reference_{}.txt'.format(seed),\n",
    "                            test='test_reference_{}.txt'.format(seed),\n",
    "                            freq_cutoff=unk_threshold, verbose=True)"
   ]
  },
  {
   "cell_type": "code",
   "execution_count": 9,
   "metadata": {},
   "outputs": [],
   "source": [
    "def load_json(file):\n",
    "    import json\n",
    "    with open(file, 'r') as f:\n",
    "        return json.load(f)"
   ]
  },
  {
   "cell_type": "code",
   "execution_count": 10,
   "metadata": {},
   "outputs": [],
   "source": [
    "scenarios1 = load_json('data/onecommon/aaai_train_scenarios.json')\n",
    "scenarios2 = load_json('data/onecommon/aaai_train_scenarios_2.json')"
   ]
  },
  {
   "cell_type": "code",
   "execution_count": 11,
   "metadata": {},
   "outputs": [
    {
     "data": {
      "text/plain": [
       "9000"
      ]
     },
     "execution_count": 11,
     "metadata": {},
     "output_type": "execute_result"
    }
   ],
   "source": [
    "len(scenarios1)"
   ]
  },
  {
   "cell_type": "code",
   "execution_count": 12,
   "metadata": {},
   "outputs": [
    {
     "data": {
      "text/plain": [
       "4500"
      ]
     },
     "execution_count": 12,
     "metadata": {},
     "output_type": "execute_result"
    }
   ],
   "source": [
    "len(scenarios2)"
   ]
  },
  {
   "cell_type": "code",
   "execution_count": 13,
   "metadata": {},
   "outputs": [
    {
     "data": {
      "text/plain": [
       "dict_keys(['kbs', 'shared', 'uuid'])"
      ]
     },
     "execution_count": 13,
     "metadata": {},
     "output_type": "execute_result"
    }
   ],
   "source": [
    "scenarios1[0].keys()"
   ]
  },
  {
   "cell_type": "code",
   "execution_count": 14,
   "metadata": {},
   "outputs": [],
   "source": [
    "train_scenarios = {\n",
    "    scenario['uuid']: scenario\n",
    "    for scenario in scenarios1\n",
    "}"
   ]
  },
  {
   "cell_type": "code",
   "execution_count": 15,
   "metadata": {},
   "outputs": [],
   "source": [
    "hit_count = 0\n",
    "miss_count = 0\n",
    "for scenario in scenarios2:\n",
    "    uuid = scenario['uuid']\n",
    "    if uuid in train_scenarios:\n",
    "        assert train_scenarios[uuid] == scenario\n",
    "        hit_count += 1\n",
    "    else:\n",
    "        miss_count += 1"
   ]
  },
  {
   "cell_type": "code",
   "execution_count": 16,
   "metadata": {},
   "outputs": [
    {
     "name": "stdout",
     "output_type": "stream",
     "text": [
      "hits: 0\n",
      "misses: 4500\n"
     ]
    }
   ],
   "source": [
    "print(\"hits: {}\".format(hit_count))\n",
    "print(\"misses: {}\".format(miss_count))"
   ]
  },
  {
   "cell_type": "code",
   "execution_count": 17,
   "metadata": {},
   "outputs": [
    {
     "data": {
      "text/plain": [
       "<corpora.reference_sentence.ReferenceSentenceCorpus at 0x7fbeb9bc3d30>"
      ]
     },
     "execution_count": 17,
     "metadata": {},
     "output_type": "execute_result"
    }
   ],
   "source": [
    "corpus"
   ]
  },
  {
   "cell_type": "code",
   "execution_count": 18,
   "metadata": {},
   "outputs": [],
   "source": [
    "model = utils.load_model(model_fname, map_location='cpu')"
   ]
  },
  {
   "cell_type": "code",
   "execution_count": 19,
   "metadata": {},
   "outputs": [],
   "source": [
    "batchsize=1\n",
    "validset, validset_stats = corpus.valid_dataset(batchsize)"
   ]
  },
  {
   "cell_type": "code",
   "execution_count": 20,
   "metadata": {},
   "outputs": [
    {
     "data": {
      "text/plain": [
       "{'n': 74030, 'nonpadn': 69348}"
      ]
     },
     "execution_count": 20,
     "metadata": {},
     "output_type": "execute_result"
    }
   ],
   "source": [
    "validset_stats"
   ]
  },
  {
   "cell_type": "code",
   "execution_count": 21,
   "metadata": {},
   "outputs": [],
   "source": [
    "import torch"
   ]
  },
  {
   "cell_type": "code",
   "execution_count": 22,
   "metadata": {},
   "outputs": [
    {
     "name": "stderr",
     "output_type": "stream",
     "text": [
      "/home/dfried/anaconda2/envs/onecommon/lib/python3.6/site-packages/statsmodels/tools/_testing.py:19: FutureWarning: pandas.util.testing is deprecated. Use the functions in the public API at pandas.testing instead.\n",
      "  import pandas.util.testing as tm\n"
     ]
    }
   ],
   "source": [
    "from agent import RnnAgent"
   ]
  },
  {
   "cell_type": "code",
   "execution_count": 23,
   "metadata": {},
   "outputs": [],
   "source": [
    "from selfplay import make_parser"
   ]
  },
  {
   "cell_type": "code",
   "execution_count": 24,
   "metadata": {},
   "outputs": [],
   "source": [
    "parser = make_parser()\n",
    "# args = parser.parse_args('--temperature 0.25'.split())\n",
    "args = parser.parse_args('--temperature 0.01'.split())"
   ]
  },
  {
   "cell_type": "code",
   "execution_count": 25,
   "metadata": {},
   "outputs": [],
   "source": [
    "alice = RnnAgent(model, args)\n",
    "bob = RnnAgent(model, args)"
   ]
  },
  {
   "cell_type": "code",
   "execution_count": 26,
   "metadata": {},
   "outputs": [],
   "source": [
    "def is_selection(out):\n",
    "    return '<selection>' in out"
   ]
  },
  {
   "cell_type": "code",
   "execution_count": 27,
   "metadata": {},
   "outputs": [],
   "source": [
    "# display"
   ]
  },
  {
   "cell_type": "code",
   "execution_count": 28,
   "metadata": {},
   "outputs": [],
   "source": [
    "from dialog import DialogLogger"
   ]
  },
  {
   "cell_type": "code",
   "execution_count": 53,
   "metadata": {},
   "outputs": [],
   "source": [
    "from IPython.display import SVG, display, HTML"
   ]
  },
  {
   "cell_type": "code",
   "execution_count": 30,
   "metadata": {},
   "outputs": [],
   "source": [
    "def display_svgs(svgs):\n",
    "    no_wrap_div = '<div style=\"white-space: nowrap\">' + ''.join(svgs) + '</div>'\n",
    "    display(HTML(no_wrap_div))"
   ]
  },
  {
   "cell_type": "code",
   "execution_count": 31,
   "metadata": {},
   "outputs": [],
   "source": [
    "def display_attn(scenario, attn, agent_id, name=None):\n",
    "    attn = attn.flatten().detach().numpy()\n",
    "    if name is not None:\n",
    "        print(\"{}: {}\".format(name, attn))\n",
    "    display_svgs([DialogLogger._scenario_to_svg(scenario)[agent_id], DialogLogger._attention_to_svg(scenario, agent_id, attn)])"
   ]
  },
  {
   "cell_type": "code",
   "execution_count": 32,
   "metadata": {},
   "outputs": [
    {
     "name": "stdout",
     "output_type": "stream",
     "text": [
      "Automatic pdb calling has been turned ON\n"
     ]
    }
   ],
   "source": [
    "pdb on"
   ]
  },
  {
   "cell_type": "code",
   "execution_count": 33,
   "metadata": {},
   "outputs": [],
   "source": [
    "# training emulation"
   ]
  },
  {
   "cell_type": "code",
   "execution_count": 34,
   "metadata": {},
   "outputs": [],
   "source": [
    "trainset, trainset_stats = corpus.train_dataset(bsz=1)"
   ]
  },
  {
   "cell_type": "code",
   "execution_count": 35,
   "metadata": {},
   "outputs": [
    {
     "data": {
      "text/plain": [
       "True"
      ]
     },
     "execution_count": 35,
     "metadata": {},
     "output_type": "execute_result"
    }
   ],
   "source": [
    "trainset[0].scenario_ids[0] in train_scenarios"
   ]
  },
  {
   "cell_type": "code",
   "execution_count": 36,
   "metadata": {},
   "outputs": [],
   "source": [
    "# ctx: this player's dots\n",
    "# inpt / tgt: dialogue word indices (tgt are shifted by 1)\n",
    "# ref_inpt"
   ]
  },
  {
   "cell_type": "code",
   "execution_count": 37,
   "metadata": {},
   "outputs": [
    {
     "name": "stdout",
     "output_type": "stream",
     "text": [
      "found it\n"
     ]
    }
   ],
   "source": [
    "for ix in range(len(trainset)):\n",
    "    ctx, inpts, tgts, ref_inpts, ref_tgts, sel_tgt, \\\n",
    "    [scenario_id], real_ids, agents, chat_ids, sel_idxs, \\\n",
    "    lens, rev_idxs, hid_idxs, all_num_markables = trainset[ix]\n",
    "    if 'C_d0de3d0144df405e998ae718539ff9a4' in chat_ids:\n",
    "#     if scenario_id == 'S_UoujG1GG6KscmnbN':\n",
    "        print(\"found it\")\n",
    "        scenario = train_scenarios[scenario_id]\n",
    "        break"
   ]
  },
  {
   "cell_type": "code",
   "execution_count": 38,
   "metadata": {
    "scrolled": true
   },
   "outputs": [
    {
     "name": "stdout",
     "output_type": "stream",
     "text": [
      "YOU: i see a dark grey dot with a slightly smaller darker dot below it <eos>\n",
      "dots_mentioned: [1. 1. 0. 0. 0. 0. 0.]\n"
     ]
    },
    {
     "data": {
      "text/html": [
       "<div style=\"white-space: nowrap\"><svg width=\"430\" height=\"430\" id=\"agent_1\"><circle cx=\"215\" cy=\"215\" r=\"205\" fill=\"none\" stroke=\"black\" stroke-width=\"2\" stroke-dasharray=\"3,3\"/><circle cx=\"199\" cy=\"227\" r=\"9\" fill=\"rgb(75,75,75)\"/><circle cx=\"208\" cy=\"177\" r=\"11\" fill=\"rgb(97,97,97)\"/><circle cx=\"277\" cy=\"157\" r=\"8\" fill=\"rgb(149,149,149)\"/><circle cx=\"156\" cy=\"118\" r=\"7\" fill=\"rgb(139,139,139)\"/><circle cx=\"306\" cy=\"100\" r=\"10\" fill=\"rgb(76,76,76)\"/><circle cx=\"83\" cy=\"255\" r=\"9\" fill=\"rgb(115,115,115)\"/><circle cx=\"303\" cy=\"307\" r=\"9\" fill=\"rgb(85,85,85)\"/></svg><svg id=\"svg\" width=\"430\" height=\"430\"><circle cx=\"215\" cy=\"215\" r=\"205\" fill=\"none\" stroke=\"black\" stroke-width=\"2\" stroke-dasharray=\"3,3\"/> <circle cx=\"199\" cy=\"227\" r=\"9\" fill=\"rgb(255,0,0)\" class=\"agent_1_5\"/><circle cx=\"208\" cy=\"177\" r=\"11\" fill=\"rgb(255,0,0)\" class=\"agent_1_24\"/><circle cx=\"277\" cy=\"157\" r=\"8\" fill=\"rgb(255,255,255)\" class=\"agent_1_35\"/><circle cx=\"156\" cy=\"118\" r=\"7\" fill=\"rgb(255,255,255)\" class=\"agent_1_39\"/><circle cx=\"306\" cy=\"100\" r=\"10\" fill=\"rgb(255,255,255)\" class=\"agent_1_40\"/><circle cx=\"83\" cy=\"255\" r=\"9\" fill=\"rgb(255,255,255)\" class=\"agent_1_58\"/><circle cx=\"303\" cy=\"307\" r=\"9\" fill=\"rgb(255,255,255)\" class=\"agent_1_80\"/></svg></div>"
      ],
      "text/plain": [
       "<IPython.core.display.HTML object>"
      ]
     },
     "metadata": {},
     "output_type": "display_data"
    },
    {
     "name": "stdout",
     "output_type": "stream",
     "text": [
      "word attention mean: [0.53589165 0.52977246 0.         0.         0.         0.\n",
      " 0.        ]\n"
     ]
    },
    {
     "data": {
      "text/html": [
       "<div style=\"white-space: nowrap\"><svg width=\"430\" height=\"430\" id=\"agent_1\"><circle cx=\"215\" cy=\"215\" r=\"205\" fill=\"none\" stroke=\"black\" stroke-width=\"2\" stroke-dasharray=\"3,3\"/><circle cx=\"199\" cy=\"227\" r=\"9\" fill=\"rgb(75,75,75)\"/><circle cx=\"208\" cy=\"177\" r=\"11\" fill=\"rgb(97,97,97)\"/><circle cx=\"277\" cy=\"157\" r=\"8\" fill=\"rgb(149,149,149)\"/><circle cx=\"156\" cy=\"118\" r=\"7\" fill=\"rgb(139,139,139)\"/><circle cx=\"306\" cy=\"100\" r=\"10\" fill=\"rgb(76,76,76)\"/><circle cx=\"83\" cy=\"255\" r=\"9\" fill=\"rgb(115,115,115)\"/><circle cx=\"303\" cy=\"307\" r=\"9\" fill=\"rgb(85,85,85)\"/></svg><svg id=\"svg\" width=\"430\" height=\"430\"><circle cx=\"215\" cy=\"215\" r=\"205\" fill=\"none\" stroke=\"black\" stroke-width=\"2\" stroke-dasharray=\"3,3\"/> <circle cx=\"199\" cy=\"227\" r=\"9\" fill=\"rgb(255,118,118)\" class=\"agent_1_5\"/><circle cx=\"208\" cy=\"177\" r=\"11\" fill=\"rgb(255,119,119)\" class=\"agent_1_24\"/><circle cx=\"277\" cy=\"157\" r=\"8\" fill=\"rgb(255,255,255)\" class=\"agent_1_35\"/><circle cx=\"156\" cy=\"118\" r=\"7\" fill=\"rgb(255,255,255)\" class=\"agent_1_39\"/><circle cx=\"306\" cy=\"100\" r=\"10\" fill=\"rgb(255,255,255)\" class=\"agent_1_40\"/><circle cx=\"83\" cy=\"255\" r=\"9\" fill=\"rgb(255,255,255)\" class=\"agent_1_58\"/><circle cx=\"303\" cy=\"307\" r=\"9\" fill=\"rgb(255,255,255)\" class=\"agent_1_80\"/></svg></div>"
      ],
      "text/plain": [
       "<IPython.core.display.HTML object>"
      ]
     },
     "metadata": {},
     "output_type": "display_data"
    },
    {
     "name": "stdout",
     "output_type": "stream",
     "text": [
      "t 0: i: [0.8211394 0.7937835 0.        0.        0.        0.        0.       ]\n"
     ]
    },
    {
     "data": {
      "text/html": [
       "<div style=\"white-space: nowrap\"><svg width=\"430\" height=\"430\" id=\"agent_1\"><circle cx=\"215\" cy=\"215\" r=\"205\" fill=\"none\" stroke=\"black\" stroke-width=\"2\" stroke-dasharray=\"3,3\"/><circle cx=\"199\" cy=\"227\" r=\"9\" fill=\"rgb(75,75,75)\"/><circle cx=\"208\" cy=\"177\" r=\"11\" fill=\"rgb(97,97,97)\"/><circle cx=\"277\" cy=\"157\" r=\"8\" fill=\"rgb(149,149,149)\"/><circle cx=\"156\" cy=\"118\" r=\"7\" fill=\"rgb(139,139,139)\"/><circle cx=\"306\" cy=\"100\" r=\"10\" fill=\"rgb(76,76,76)\"/><circle cx=\"83\" cy=\"255\" r=\"9\" fill=\"rgb(115,115,115)\"/><circle cx=\"303\" cy=\"307\" r=\"9\" fill=\"rgb(85,85,85)\"/></svg><svg id=\"svg\" width=\"430\" height=\"430\"><circle cx=\"215\" cy=\"215\" r=\"205\" fill=\"none\" stroke=\"black\" stroke-width=\"2\" stroke-dasharray=\"3,3\"/> <circle cx=\"199\" cy=\"227\" r=\"9\" fill=\"rgb(255,45,45)\" class=\"agent_1_5\"/><circle cx=\"208\" cy=\"177\" r=\"11\" fill=\"rgb(255,52,52)\" class=\"agent_1_24\"/><circle cx=\"277\" cy=\"157\" r=\"8\" fill=\"rgb(255,255,255)\" class=\"agent_1_35\"/><circle cx=\"156\" cy=\"118\" r=\"7\" fill=\"rgb(255,255,255)\" class=\"agent_1_39\"/><circle cx=\"306\" cy=\"100\" r=\"10\" fill=\"rgb(255,255,255)\" class=\"agent_1_40\"/><circle cx=\"83\" cy=\"255\" r=\"9\" fill=\"rgb(255,255,255)\" class=\"agent_1_58\"/><circle cx=\"303\" cy=\"307\" r=\"9\" fill=\"rgb(255,255,255)\" class=\"agent_1_80\"/></svg></div>"
      ],
      "text/plain": [
       "<IPython.core.display.HTML object>"
      ]
     },
     "metadata": {},
     "output_type": "display_data"
    },
    {
     "name": "stdout",
     "output_type": "stream",
     "text": [
      "t 1: see: [0.45094448 0.4484574  0.         0.         0.         0.\n",
      " 0.        ]\n"
     ]
    },
    {
     "data": {
      "text/html": [
       "<div style=\"white-space: nowrap\"><svg width=\"430\" height=\"430\" id=\"agent_1\"><circle cx=\"215\" cy=\"215\" r=\"205\" fill=\"none\" stroke=\"black\" stroke-width=\"2\" stroke-dasharray=\"3,3\"/><circle cx=\"199\" cy=\"227\" r=\"9\" fill=\"rgb(75,75,75)\"/><circle cx=\"208\" cy=\"177\" r=\"11\" fill=\"rgb(97,97,97)\"/><circle cx=\"277\" cy=\"157\" r=\"8\" fill=\"rgb(149,149,149)\"/><circle cx=\"156\" cy=\"118\" r=\"7\" fill=\"rgb(139,139,139)\"/><circle cx=\"306\" cy=\"100\" r=\"10\" fill=\"rgb(76,76,76)\"/><circle cx=\"83\" cy=\"255\" r=\"9\" fill=\"rgb(115,115,115)\"/><circle cx=\"303\" cy=\"307\" r=\"9\" fill=\"rgb(85,85,85)\"/></svg><svg id=\"svg\" width=\"430\" height=\"430\"><circle cx=\"215\" cy=\"215\" r=\"205\" fill=\"none\" stroke=\"black\" stroke-width=\"2\" stroke-dasharray=\"3,3\"/> <circle cx=\"199\" cy=\"227\" r=\"9\" fill=\"rgb(255,140,140)\" class=\"agent_1_5\"/><circle cx=\"208\" cy=\"177\" r=\"11\" fill=\"rgb(255,140,140)\" class=\"agent_1_24\"/><circle cx=\"277\" cy=\"157\" r=\"8\" fill=\"rgb(255,255,255)\" class=\"agent_1_35\"/><circle cx=\"156\" cy=\"118\" r=\"7\" fill=\"rgb(255,255,255)\" class=\"agent_1_39\"/><circle cx=\"306\" cy=\"100\" r=\"10\" fill=\"rgb(255,255,255)\" class=\"agent_1_40\"/><circle cx=\"83\" cy=\"255\" r=\"9\" fill=\"rgb(255,255,255)\" class=\"agent_1_58\"/><circle cx=\"303\" cy=\"307\" r=\"9\" fill=\"rgb(255,255,255)\" class=\"agent_1_80\"/></svg></div>"
      ],
      "text/plain": [
       "<IPython.core.display.HTML object>"
      ]
     },
     "metadata": {},
     "output_type": "display_data"
    },
    {
     "name": "stdout",
     "output_type": "stream",
     "text": [
      "t 2: a: [0.978592  0.9823231 0.        0.        0.        0.        0.       ]\n"
     ]
    },
    {
     "data": {
      "text/html": [
       "<div style=\"white-space: nowrap\"><svg width=\"430\" height=\"430\" id=\"agent_1\"><circle cx=\"215\" cy=\"215\" r=\"205\" fill=\"none\" stroke=\"black\" stroke-width=\"2\" stroke-dasharray=\"3,3\"/><circle cx=\"199\" cy=\"227\" r=\"9\" fill=\"rgb(75,75,75)\"/><circle cx=\"208\" cy=\"177\" r=\"11\" fill=\"rgb(97,97,97)\"/><circle cx=\"277\" cy=\"157\" r=\"8\" fill=\"rgb(149,149,149)\"/><circle cx=\"156\" cy=\"118\" r=\"7\" fill=\"rgb(139,139,139)\"/><circle cx=\"306\" cy=\"100\" r=\"10\" fill=\"rgb(76,76,76)\"/><circle cx=\"83\" cy=\"255\" r=\"9\" fill=\"rgb(115,115,115)\"/><circle cx=\"303\" cy=\"307\" r=\"9\" fill=\"rgb(85,85,85)\"/></svg><svg id=\"svg\" width=\"430\" height=\"430\"><circle cx=\"215\" cy=\"215\" r=\"205\" fill=\"none\" stroke=\"black\" stroke-width=\"2\" stroke-dasharray=\"3,3\"/> <circle cx=\"199\" cy=\"227\" r=\"9\" fill=\"rgb(255,5,5)\" class=\"agent_1_5\"/><circle cx=\"208\" cy=\"177\" r=\"11\" fill=\"rgb(255,4,4)\" class=\"agent_1_24\"/><circle cx=\"277\" cy=\"157\" r=\"8\" fill=\"rgb(255,255,255)\" class=\"agent_1_35\"/><circle cx=\"156\" cy=\"118\" r=\"7\" fill=\"rgb(255,255,255)\" class=\"agent_1_39\"/><circle cx=\"306\" cy=\"100\" r=\"10\" fill=\"rgb(255,255,255)\" class=\"agent_1_40\"/><circle cx=\"83\" cy=\"255\" r=\"9\" fill=\"rgb(255,255,255)\" class=\"agent_1_58\"/><circle cx=\"303\" cy=\"307\" r=\"9\" fill=\"rgb(255,255,255)\" class=\"agent_1_80\"/></svg></div>"
      ],
      "text/plain": [
       "<IPython.core.display.HTML object>"
      ]
     },
     "metadata": {},
     "output_type": "display_data"
    },
    {
     "name": "stdout",
     "output_type": "stream",
     "text": [
      "t 3: dark: [0.9766382 0.9612943 0.        0.        0.        0.        0.       ]\n"
     ]
    },
    {
     "data": {
      "text/html": [
       "<div style=\"white-space: nowrap\"><svg width=\"430\" height=\"430\" id=\"agent_1\"><circle cx=\"215\" cy=\"215\" r=\"205\" fill=\"none\" stroke=\"black\" stroke-width=\"2\" stroke-dasharray=\"3,3\"/><circle cx=\"199\" cy=\"227\" r=\"9\" fill=\"rgb(75,75,75)\"/><circle cx=\"208\" cy=\"177\" r=\"11\" fill=\"rgb(97,97,97)\"/><circle cx=\"277\" cy=\"157\" r=\"8\" fill=\"rgb(149,149,149)\"/><circle cx=\"156\" cy=\"118\" r=\"7\" fill=\"rgb(139,139,139)\"/><circle cx=\"306\" cy=\"100\" r=\"10\" fill=\"rgb(76,76,76)\"/><circle cx=\"83\" cy=\"255\" r=\"9\" fill=\"rgb(115,115,115)\"/><circle cx=\"303\" cy=\"307\" r=\"9\" fill=\"rgb(85,85,85)\"/></svg><svg id=\"svg\" width=\"430\" height=\"430\"><circle cx=\"215\" cy=\"215\" r=\"205\" fill=\"none\" stroke=\"black\" stroke-width=\"2\" stroke-dasharray=\"3,3\"/> <circle cx=\"199\" cy=\"227\" r=\"9\" fill=\"rgb(255,5,5)\" class=\"agent_1_5\"/><circle cx=\"208\" cy=\"177\" r=\"11\" fill=\"rgb(255,9,9)\" class=\"agent_1_24\"/><circle cx=\"277\" cy=\"157\" r=\"8\" fill=\"rgb(255,255,255)\" class=\"agent_1_35\"/><circle cx=\"156\" cy=\"118\" r=\"7\" fill=\"rgb(255,255,255)\" class=\"agent_1_39\"/><circle cx=\"306\" cy=\"100\" r=\"10\" fill=\"rgb(255,255,255)\" class=\"agent_1_40\"/><circle cx=\"83\" cy=\"255\" r=\"9\" fill=\"rgb(255,255,255)\" class=\"agent_1_58\"/><circle cx=\"303\" cy=\"307\" r=\"9\" fill=\"rgb(255,255,255)\" class=\"agent_1_80\"/></svg></div>"
      ],
      "text/plain": [
       "<IPython.core.display.HTML object>"
      ]
     },
     "metadata": {},
     "output_type": "display_data"
    },
    {
     "name": "stdout",
     "output_type": "stream",
     "text": [
      "t 4: grey: [0.59876007 0.6332778  0.         0.         0.         0.\n",
      " 0.        ]\n"
     ]
    },
    {
     "data": {
      "text/html": [
       "<div style=\"white-space: nowrap\"><svg width=\"430\" height=\"430\" id=\"agent_1\"><circle cx=\"215\" cy=\"215\" r=\"205\" fill=\"none\" stroke=\"black\" stroke-width=\"2\" stroke-dasharray=\"3,3\"/><circle cx=\"199\" cy=\"227\" r=\"9\" fill=\"rgb(75,75,75)\"/><circle cx=\"208\" cy=\"177\" r=\"11\" fill=\"rgb(97,97,97)\"/><circle cx=\"277\" cy=\"157\" r=\"8\" fill=\"rgb(149,149,149)\"/><circle cx=\"156\" cy=\"118\" r=\"7\" fill=\"rgb(139,139,139)\"/><circle cx=\"306\" cy=\"100\" r=\"10\" fill=\"rgb(76,76,76)\"/><circle cx=\"83\" cy=\"255\" r=\"9\" fill=\"rgb(115,115,115)\"/><circle cx=\"303\" cy=\"307\" r=\"9\" fill=\"rgb(85,85,85)\"/></svg><svg id=\"svg\" width=\"430\" height=\"430\"><circle cx=\"215\" cy=\"215\" r=\"205\" fill=\"none\" stroke=\"black\" stroke-width=\"2\" stroke-dasharray=\"3,3\"/> <circle cx=\"199\" cy=\"227\" r=\"9\" fill=\"rgb(255,102,102)\" class=\"agent_1_5\"/><circle cx=\"208\" cy=\"177\" r=\"11\" fill=\"rgb(255,93,93)\" class=\"agent_1_24\"/><circle cx=\"277\" cy=\"157\" r=\"8\" fill=\"rgb(255,255,255)\" class=\"agent_1_35\"/><circle cx=\"156\" cy=\"118\" r=\"7\" fill=\"rgb(255,255,255)\" class=\"agent_1_39\"/><circle cx=\"306\" cy=\"100\" r=\"10\" fill=\"rgb(255,255,255)\" class=\"agent_1_40\"/><circle cx=\"83\" cy=\"255\" r=\"9\" fill=\"rgb(255,255,255)\" class=\"agent_1_58\"/><circle cx=\"303\" cy=\"307\" r=\"9\" fill=\"rgb(255,255,255)\" class=\"agent_1_80\"/></svg></div>"
      ],
      "text/plain": [
       "<IPython.core.display.HTML object>"
      ]
     },
     "metadata": {},
     "output_type": "display_data"
    },
    {
     "name": "stdout",
     "output_type": "stream",
     "text": [
      "t 5: dot: [0.40053746 0.4057061  0.         0.         0.         0.\n",
      " 0.        ]\n"
     ]
    },
    {
     "data": {
      "text/html": [
       "<div style=\"white-space: nowrap\"><svg width=\"430\" height=\"430\" id=\"agent_1\"><circle cx=\"215\" cy=\"215\" r=\"205\" fill=\"none\" stroke=\"black\" stroke-width=\"2\" stroke-dasharray=\"3,3\"/><circle cx=\"199\" cy=\"227\" r=\"9\" fill=\"rgb(75,75,75)\"/><circle cx=\"208\" cy=\"177\" r=\"11\" fill=\"rgb(97,97,97)\"/><circle cx=\"277\" cy=\"157\" r=\"8\" fill=\"rgb(149,149,149)\"/><circle cx=\"156\" cy=\"118\" r=\"7\" fill=\"rgb(139,139,139)\"/><circle cx=\"306\" cy=\"100\" r=\"10\" fill=\"rgb(76,76,76)\"/><circle cx=\"83\" cy=\"255\" r=\"9\" fill=\"rgb(115,115,115)\"/><circle cx=\"303\" cy=\"307\" r=\"9\" fill=\"rgb(85,85,85)\"/></svg><svg id=\"svg\" width=\"430\" height=\"430\"><circle cx=\"215\" cy=\"215\" r=\"205\" fill=\"none\" stroke=\"black\" stroke-width=\"2\" stroke-dasharray=\"3,3\"/> <circle cx=\"199\" cy=\"227\" r=\"9\" fill=\"rgb(255,152,152)\" class=\"agent_1_5\"/><circle cx=\"208\" cy=\"177\" r=\"11\" fill=\"rgb(255,151,151)\" class=\"agent_1_24\"/><circle cx=\"277\" cy=\"157\" r=\"8\" fill=\"rgb(255,255,255)\" class=\"agent_1_35\"/><circle cx=\"156\" cy=\"118\" r=\"7\" fill=\"rgb(255,255,255)\" class=\"agent_1_39\"/><circle cx=\"306\" cy=\"100\" r=\"10\" fill=\"rgb(255,255,255)\" class=\"agent_1_40\"/><circle cx=\"83\" cy=\"255\" r=\"9\" fill=\"rgb(255,255,255)\" class=\"agent_1_58\"/><circle cx=\"303\" cy=\"307\" r=\"9\" fill=\"rgb(255,255,255)\" class=\"agent_1_80\"/></svg></div>"
      ],
      "text/plain": [
       "<IPython.core.display.HTML object>"
      ]
     },
     "metadata": {},
     "output_type": "display_data"
    },
    {
     "name": "stdout",
     "output_type": "stream",
     "text": [
      "t 6: with: [0.60775465 0.59114504 0.         0.         0.         0.\n",
      " 0.        ]\n"
     ]
    },
    {
     "data": {
      "text/html": [
       "<div style=\"white-space: nowrap\"><svg width=\"430\" height=\"430\" id=\"agent_1\"><circle cx=\"215\" cy=\"215\" r=\"205\" fill=\"none\" stroke=\"black\" stroke-width=\"2\" stroke-dasharray=\"3,3\"/><circle cx=\"199\" cy=\"227\" r=\"9\" fill=\"rgb(75,75,75)\"/><circle cx=\"208\" cy=\"177\" r=\"11\" fill=\"rgb(97,97,97)\"/><circle cx=\"277\" cy=\"157\" r=\"8\" fill=\"rgb(149,149,149)\"/><circle cx=\"156\" cy=\"118\" r=\"7\" fill=\"rgb(139,139,139)\"/><circle cx=\"306\" cy=\"100\" r=\"10\" fill=\"rgb(76,76,76)\"/><circle cx=\"83\" cy=\"255\" r=\"9\" fill=\"rgb(115,115,115)\"/><circle cx=\"303\" cy=\"307\" r=\"9\" fill=\"rgb(85,85,85)\"/></svg><svg id=\"svg\" width=\"430\" height=\"430\"><circle cx=\"215\" cy=\"215\" r=\"205\" fill=\"none\" stroke=\"black\" stroke-width=\"2\" stroke-dasharray=\"3,3\"/> <circle cx=\"199\" cy=\"227\" r=\"9\" fill=\"rgb(255,100,100)\" class=\"agent_1_5\"/><circle cx=\"208\" cy=\"177\" r=\"11\" fill=\"rgb(255,104,104)\" class=\"agent_1_24\"/><circle cx=\"277\" cy=\"157\" r=\"8\" fill=\"rgb(255,255,255)\" class=\"agent_1_35\"/><circle cx=\"156\" cy=\"118\" r=\"7\" fill=\"rgb(255,255,255)\" class=\"agent_1_39\"/><circle cx=\"306\" cy=\"100\" r=\"10\" fill=\"rgb(255,255,255)\" class=\"agent_1_40\"/><circle cx=\"83\" cy=\"255\" r=\"9\" fill=\"rgb(255,255,255)\" class=\"agent_1_58\"/><circle cx=\"303\" cy=\"307\" r=\"9\" fill=\"rgb(255,255,255)\" class=\"agent_1_80\"/></svg></div>"
      ],
      "text/plain": [
       "<IPython.core.display.HTML object>"
      ]
     },
     "metadata": {},
     "output_type": "display_data"
    },
    {
     "name": "stdout",
     "output_type": "stream",
     "text": [
      "t 7: a: [0.5316669 0.5407076 0.        0.        0.        0.        0.       ]\n"
     ]
    },
    {
     "data": {
      "text/html": [
       "<div style=\"white-space: nowrap\"><svg width=\"430\" height=\"430\" id=\"agent_1\"><circle cx=\"215\" cy=\"215\" r=\"205\" fill=\"none\" stroke=\"black\" stroke-width=\"2\" stroke-dasharray=\"3,3\"/><circle cx=\"199\" cy=\"227\" r=\"9\" fill=\"rgb(75,75,75)\"/><circle cx=\"208\" cy=\"177\" r=\"11\" fill=\"rgb(97,97,97)\"/><circle cx=\"277\" cy=\"157\" r=\"8\" fill=\"rgb(149,149,149)\"/><circle cx=\"156\" cy=\"118\" r=\"7\" fill=\"rgb(139,139,139)\"/><circle cx=\"306\" cy=\"100\" r=\"10\" fill=\"rgb(76,76,76)\"/><circle cx=\"83\" cy=\"255\" r=\"9\" fill=\"rgb(115,115,115)\"/><circle cx=\"303\" cy=\"307\" r=\"9\" fill=\"rgb(85,85,85)\"/></svg><svg id=\"svg\" width=\"430\" height=\"430\"><circle cx=\"215\" cy=\"215\" r=\"205\" fill=\"none\" stroke=\"black\" stroke-width=\"2\" stroke-dasharray=\"3,3\"/> <circle cx=\"199\" cy=\"227\" r=\"9\" fill=\"rgb(255,119,119)\" class=\"agent_1_5\"/><circle cx=\"208\" cy=\"177\" r=\"11\" fill=\"rgb(255,117,117)\" class=\"agent_1_24\"/><circle cx=\"277\" cy=\"157\" r=\"8\" fill=\"rgb(255,255,255)\" class=\"agent_1_35\"/><circle cx=\"156\" cy=\"118\" r=\"7\" fill=\"rgb(255,255,255)\" class=\"agent_1_39\"/><circle cx=\"306\" cy=\"100\" r=\"10\" fill=\"rgb(255,255,255)\" class=\"agent_1_40\"/><circle cx=\"83\" cy=\"255\" r=\"9\" fill=\"rgb(255,255,255)\" class=\"agent_1_58\"/><circle cx=\"303\" cy=\"307\" r=\"9\" fill=\"rgb(255,255,255)\" class=\"agent_1_80\"/></svg></div>"
      ],
      "text/plain": [
       "<IPython.core.display.HTML object>"
      ]
     },
     "metadata": {},
     "output_type": "display_data"
    },
    {
     "name": "stdout",
     "output_type": "stream",
     "text": [
      "t 8: slightly: [0.87947744 0.8169374  0.         0.         0.         0.\n",
      " 0.        ]\n"
     ]
    },
    {
     "data": {
      "text/html": [
       "<div style=\"white-space: nowrap\"><svg width=\"430\" height=\"430\" id=\"agent_1\"><circle cx=\"215\" cy=\"215\" r=\"205\" fill=\"none\" stroke=\"black\" stroke-width=\"2\" stroke-dasharray=\"3,3\"/><circle cx=\"199\" cy=\"227\" r=\"9\" fill=\"rgb(75,75,75)\"/><circle cx=\"208\" cy=\"177\" r=\"11\" fill=\"rgb(97,97,97)\"/><circle cx=\"277\" cy=\"157\" r=\"8\" fill=\"rgb(149,149,149)\"/><circle cx=\"156\" cy=\"118\" r=\"7\" fill=\"rgb(139,139,139)\"/><circle cx=\"306\" cy=\"100\" r=\"10\" fill=\"rgb(76,76,76)\"/><circle cx=\"83\" cy=\"255\" r=\"9\" fill=\"rgb(115,115,115)\"/><circle cx=\"303\" cy=\"307\" r=\"9\" fill=\"rgb(85,85,85)\"/></svg><svg id=\"svg\" width=\"430\" height=\"430\"><circle cx=\"215\" cy=\"215\" r=\"205\" fill=\"none\" stroke=\"black\" stroke-width=\"2\" stroke-dasharray=\"3,3\"/> <circle cx=\"199\" cy=\"227\" r=\"9\" fill=\"rgb(255,30,30)\" class=\"agent_1_5\"/><circle cx=\"208\" cy=\"177\" r=\"11\" fill=\"rgb(255,46,46)\" class=\"agent_1_24\"/><circle cx=\"277\" cy=\"157\" r=\"8\" fill=\"rgb(255,255,255)\" class=\"agent_1_35\"/><circle cx=\"156\" cy=\"118\" r=\"7\" fill=\"rgb(255,255,255)\" class=\"agent_1_39\"/><circle cx=\"306\" cy=\"100\" r=\"10\" fill=\"rgb(255,255,255)\" class=\"agent_1_40\"/><circle cx=\"83\" cy=\"255\" r=\"9\" fill=\"rgb(255,255,255)\" class=\"agent_1_58\"/><circle cx=\"303\" cy=\"307\" r=\"9\" fill=\"rgb(255,255,255)\" class=\"agent_1_80\"/></svg></div>"
      ],
      "text/plain": [
       "<IPython.core.display.HTML object>"
      ]
     },
     "metadata": {},
     "output_type": "display_data"
    },
    {
     "name": "stdout",
     "output_type": "stream",
     "text": [
      "t 9: smaller: [0.02460576 0.05227926 0.         0.         0.         0.\n",
      " 0.        ]\n"
     ]
    },
    {
     "data": {
      "text/html": [
       "<div style=\"white-space: nowrap\"><svg width=\"430\" height=\"430\" id=\"agent_1\"><circle cx=\"215\" cy=\"215\" r=\"205\" fill=\"none\" stroke=\"black\" stroke-width=\"2\" stroke-dasharray=\"3,3\"/><circle cx=\"199\" cy=\"227\" r=\"9\" fill=\"rgb(75,75,75)\"/><circle cx=\"208\" cy=\"177\" r=\"11\" fill=\"rgb(97,97,97)\"/><circle cx=\"277\" cy=\"157\" r=\"8\" fill=\"rgb(149,149,149)\"/><circle cx=\"156\" cy=\"118\" r=\"7\" fill=\"rgb(139,139,139)\"/><circle cx=\"306\" cy=\"100\" r=\"10\" fill=\"rgb(76,76,76)\"/><circle cx=\"83\" cy=\"255\" r=\"9\" fill=\"rgb(115,115,115)\"/><circle cx=\"303\" cy=\"307\" r=\"9\" fill=\"rgb(85,85,85)\"/></svg><svg id=\"svg\" width=\"430\" height=\"430\"><circle cx=\"215\" cy=\"215\" r=\"205\" fill=\"none\" stroke=\"black\" stroke-width=\"2\" stroke-dasharray=\"3,3\"/> <circle cx=\"199\" cy=\"227\" r=\"9\" fill=\"rgb(255,248,248)\" class=\"agent_1_5\"/><circle cx=\"208\" cy=\"177\" r=\"11\" fill=\"rgb(255,241,241)\" class=\"agent_1_24\"/><circle cx=\"277\" cy=\"157\" r=\"8\" fill=\"rgb(255,255,255)\" class=\"agent_1_35\"/><circle cx=\"156\" cy=\"118\" r=\"7\" fill=\"rgb(255,255,255)\" class=\"agent_1_39\"/><circle cx=\"306\" cy=\"100\" r=\"10\" fill=\"rgb(255,255,255)\" class=\"agent_1_40\"/><circle cx=\"83\" cy=\"255\" r=\"9\" fill=\"rgb(255,255,255)\" class=\"agent_1_58\"/><circle cx=\"303\" cy=\"307\" r=\"9\" fill=\"rgb(255,255,255)\" class=\"agent_1_80\"/></svg></div>"
      ],
      "text/plain": [
       "<IPython.core.display.HTML object>"
      ]
     },
     "metadata": {},
     "output_type": "display_data"
    },
    {
     "name": "stdout",
     "output_type": "stream",
     "text": [
      "t 10: darker: [0.58919704 0.52819854 0.         0.         0.         0.\n",
      " 0.        ]\n"
     ]
    },
    {
     "data": {
      "text/html": [
       "<div style=\"white-space: nowrap\"><svg width=\"430\" height=\"430\" id=\"agent_1\"><circle cx=\"215\" cy=\"215\" r=\"205\" fill=\"none\" stroke=\"black\" stroke-width=\"2\" stroke-dasharray=\"3,3\"/><circle cx=\"199\" cy=\"227\" r=\"9\" fill=\"rgb(75,75,75)\"/><circle cx=\"208\" cy=\"177\" r=\"11\" fill=\"rgb(97,97,97)\"/><circle cx=\"277\" cy=\"157\" r=\"8\" fill=\"rgb(149,149,149)\"/><circle cx=\"156\" cy=\"118\" r=\"7\" fill=\"rgb(139,139,139)\"/><circle cx=\"306\" cy=\"100\" r=\"10\" fill=\"rgb(76,76,76)\"/><circle cx=\"83\" cy=\"255\" r=\"9\" fill=\"rgb(115,115,115)\"/><circle cx=\"303\" cy=\"307\" r=\"9\" fill=\"rgb(85,85,85)\"/></svg><svg id=\"svg\" width=\"430\" height=\"430\"><circle cx=\"215\" cy=\"215\" r=\"205\" fill=\"none\" stroke=\"black\" stroke-width=\"2\" stroke-dasharray=\"3,3\"/> <circle cx=\"199\" cy=\"227\" r=\"9\" fill=\"rgb(255,104,104)\" class=\"agent_1_5\"/><circle cx=\"208\" cy=\"177\" r=\"11\" fill=\"rgb(255,120,120)\" class=\"agent_1_24\"/><circle cx=\"277\" cy=\"157\" r=\"8\" fill=\"rgb(255,255,255)\" class=\"agent_1_35\"/><circle cx=\"156\" cy=\"118\" r=\"7\" fill=\"rgb(255,255,255)\" class=\"agent_1_39\"/><circle cx=\"306\" cy=\"100\" r=\"10\" fill=\"rgb(255,255,255)\" class=\"agent_1_40\"/><circle cx=\"83\" cy=\"255\" r=\"9\" fill=\"rgb(255,255,255)\" class=\"agent_1_58\"/><circle cx=\"303\" cy=\"307\" r=\"9\" fill=\"rgb(255,255,255)\" class=\"agent_1_80\"/></svg></div>"
      ],
      "text/plain": [
       "<IPython.core.display.HTML object>"
      ]
     },
     "metadata": {},
     "output_type": "display_data"
    },
    {
     "name": "stdout",
     "output_type": "stream",
     "text": [
      "t 11: dot: [0.3341075 0.3390898 0.        0.        0.        0.        0.       ]\n"
     ]
    },
    {
     "data": {
      "text/html": [
       "<div style=\"white-space: nowrap\"><svg width=\"430\" height=\"430\" id=\"agent_1\"><circle cx=\"215\" cy=\"215\" r=\"205\" fill=\"none\" stroke=\"black\" stroke-width=\"2\" stroke-dasharray=\"3,3\"/><circle cx=\"199\" cy=\"227\" r=\"9\" fill=\"rgb(75,75,75)\"/><circle cx=\"208\" cy=\"177\" r=\"11\" fill=\"rgb(97,97,97)\"/><circle cx=\"277\" cy=\"157\" r=\"8\" fill=\"rgb(149,149,149)\"/><circle cx=\"156\" cy=\"118\" r=\"7\" fill=\"rgb(139,139,139)\"/><circle cx=\"306\" cy=\"100\" r=\"10\" fill=\"rgb(76,76,76)\"/><circle cx=\"83\" cy=\"255\" r=\"9\" fill=\"rgb(115,115,115)\"/><circle cx=\"303\" cy=\"307\" r=\"9\" fill=\"rgb(85,85,85)\"/></svg><svg id=\"svg\" width=\"430\" height=\"430\"><circle cx=\"215\" cy=\"215\" r=\"205\" fill=\"none\" stroke=\"black\" stroke-width=\"2\" stroke-dasharray=\"3,3\"/> <circle cx=\"199\" cy=\"227\" r=\"9\" fill=\"rgb(255,169,169)\" class=\"agent_1_5\"/><circle cx=\"208\" cy=\"177\" r=\"11\" fill=\"rgb(255,168,168)\" class=\"agent_1_24\"/><circle cx=\"277\" cy=\"157\" r=\"8\" fill=\"rgb(255,255,255)\" class=\"agent_1_35\"/><circle cx=\"156\" cy=\"118\" r=\"7\" fill=\"rgb(255,255,255)\" class=\"agent_1_39\"/><circle cx=\"306\" cy=\"100\" r=\"10\" fill=\"rgb(255,255,255)\" class=\"agent_1_40\"/><circle cx=\"83\" cy=\"255\" r=\"9\" fill=\"rgb(255,255,255)\" class=\"agent_1_58\"/><circle cx=\"303\" cy=\"307\" r=\"9\" fill=\"rgb(255,255,255)\" class=\"agent_1_80\"/></svg></div>"
      ],
      "text/plain": [
       "<IPython.core.display.HTML object>"
      ]
     },
     "metadata": {},
     "output_type": "display_data"
    },
    {
     "name": "stdout",
     "output_type": "stream",
     "text": [
      "t 12: below: [0.3518283 0.3626986 0.        0.        0.        0.        0.       ]\n"
     ]
    },
    {
     "data": {
      "text/html": [
       "<div style=\"white-space: nowrap\"><svg width=\"430\" height=\"430\" id=\"agent_1\"><circle cx=\"215\" cy=\"215\" r=\"205\" fill=\"none\" stroke=\"black\" stroke-width=\"2\" stroke-dasharray=\"3,3\"/><circle cx=\"199\" cy=\"227\" r=\"9\" fill=\"rgb(75,75,75)\"/><circle cx=\"208\" cy=\"177\" r=\"11\" fill=\"rgb(97,97,97)\"/><circle cx=\"277\" cy=\"157\" r=\"8\" fill=\"rgb(149,149,149)\"/><circle cx=\"156\" cy=\"118\" r=\"7\" fill=\"rgb(139,139,139)\"/><circle cx=\"306\" cy=\"100\" r=\"10\" fill=\"rgb(76,76,76)\"/><circle cx=\"83\" cy=\"255\" r=\"9\" fill=\"rgb(115,115,115)\"/><circle cx=\"303\" cy=\"307\" r=\"9\" fill=\"rgb(85,85,85)\"/></svg><svg id=\"svg\" width=\"430\" height=\"430\"><circle cx=\"215\" cy=\"215\" r=\"205\" fill=\"none\" stroke=\"black\" stroke-width=\"2\" stroke-dasharray=\"3,3\"/> <circle cx=\"199\" cy=\"227\" r=\"9\" fill=\"rgb(255,165,165)\" class=\"agent_1_5\"/><circle cx=\"208\" cy=\"177\" r=\"11\" fill=\"rgb(255,162,162)\" class=\"agent_1_24\"/><circle cx=\"277\" cy=\"157\" r=\"8\" fill=\"rgb(255,255,255)\" class=\"agent_1_35\"/><circle cx=\"156\" cy=\"118\" r=\"7\" fill=\"rgb(255,255,255)\" class=\"agent_1_39\"/><circle cx=\"306\" cy=\"100\" r=\"10\" fill=\"rgb(255,255,255)\" class=\"agent_1_40\"/><circle cx=\"83\" cy=\"255\" r=\"9\" fill=\"rgb(255,255,255)\" class=\"agent_1_58\"/><circle cx=\"303\" cy=\"307\" r=\"9\" fill=\"rgb(255,255,255)\" class=\"agent_1_80\"/></svg></div>"
      ],
      "text/plain": [
       "<IPython.core.display.HTML object>"
      ]
     },
     "metadata": {},
     "output_type": "display_data"
    },
    {
     "name": "stdout",
     "output_type": "stream",
     "text": [
      "t 13: it: [0.3041241 0.3016892 0.        0.        0.        0.        0.       ]\n"
     ]
    },
    {
     "data": {
      "text/html": [
       "<div style=\"white-space: nowrap\"><svg width=\"430\" height=\"430\" id=\"agent_1\"><circle cx=\"215\" cy=\"215\" r=\"205\" fill=\"none\" stroke=\"black\" stroke-width=\"2\" stroke-dasharray=\"3,3\"/><circle cx=\"199\" cy=\"227\" r=\"9\" fill=\"rgb(75,75,75)\"/><circle cx=\"208\" cy=\"177\" r=\"11\" fill=\"rgb(97,97,97)\"/><circle cx=\"277\" cy=\"157\" r=\"8\" fill=\"rgb(149,149,149)\"/><circle cx=\"156\" cy=\"118\" r=\"7\" fill=\"rgb(139,139,139)\"/><circle cx=\"306\" cy=\"100\" r=\"10\" fill=\"rgb(76,76,76)\"/><circle cx=\"83\" cy=\"255\" r=\"9\" fill=\"rgb(115,115,115)\"/><circle cx=\"303\" cy=\"307\" r=\"9\" fill=\"rgb(85,85,85)\"/></svg><svg id=\"svg\" width=\"430\" height=\"430\"><circle cx=\"215\" cy=\"215\" r=\"205\" fill=\"none\" stroke=\"black\" stroke-width=\"2\" stroke-dasharray=\"3,3\"/> <circle cx=\"199\" cy=\"227\" r=\"9\" fill=\"rgb(255,177,177)\" class=\"agent_1_5\"/><circle cx=\"208\" cy=\"177\" r=\"11\" fill=\"rgb(255,178,178)\" class=\"agent_1_24\"/><circle cx=\"277\" cy=\"157\" r=\"8\" fill=\"rgb(255,255,255)\" class=\"agent_1_35\"/><circle cx=\"156\" cy=\"118\" r=\"7\" fill=\"rgb(255,255,255)\" class=\"agent_1_39\"/><circle cx=\"306\" cy=\"100\" r=\"10\" fill=\"rgb(255,255,255)\" class=\"agent_1_40\"/><circle cx=\"83\" cy=\"255\" r=\"9\" fill=\"rgb(255,255,255)\" class=\"agent_1_58\"/><circle cx=\"303\" cy=\"307\" r=\"9\" fill=\"rgb(255,255,255)\" class=\"agent_1_80\"/></svg></div>"
      ],
      "text/plain": [
       "<IPython.core.display.HTML object>"
      ]
     },
     "metadata": {},
     "output_type": "display_data"
    },
    {
     "name": "stdout",
     "output_type": "stream",
     "text": [
      "t 14: <eos>: [0.1890018  0.18899901 0.         0.         0.         0.\n",
      " 0.        ]\n"
     ]
    },
    {
     "data": {
      "text/html": [
       "<div style=\"white-space: nowrap\"><svg width=\"430\" height=\"430\" id=\"agent_1\"><circle cx=\"215\" cy=\"215\" r=\"205\" fill=\"none\" stroke=\"black\" stroke-width=\"2\" stroke-dasharray=\"3,3\"/><circle cx=\"199\" cy=\"227\" r=\"9\" fill=\"rgb(75,75,75)\"/><circle cx=\"208\" cy=\"177\" r=\"11\" fill=\"rgb(97,97,97)\"/><circle cx=\"277\" cy=\"157\" r=\"8\" fill=\"rgb(149,149,149)\"/><circle cx=\"156\" cy=\"118\" r=\"7\" fill=\"rgb(139,139,139)\"/><circle cx=\"306\" cy=\"100\" r=\"10\" fill=\"rgb(76,76,76)\"/><circle cx=\"83\" cy=\"255\" r=\"9\" fill=\"rgb(115,115,115)\"/><circle cx=\"303\" cy=\"307\" r=\"9\" fill=\"rgb(85,85,85)\"/></svg><svg id=\"svg\" width=\"430\" height=\"430\"><circle cx=\"215\" cy=\"215\" r=\"205\" fill=\"none\" stroke=\"black\" stroke-width=\"2\" stroke-dasharray=\"3,3\"/> <circle cx=\"199\" cy=\"227\" r=\"9\" fill=\"rgb(255,206,206)\" class=\"agent_1_5\"/><circle cx=\"208\" cy=\"177\" r=\"11\" fill=\"rgb(255,206,206)\" class=\"agent_1_24\"/><circle cx=\"277\" cy=\"157\" r=\"8\" fill=\"rgb(255,255,255)\" class=\"agent_1_35\"/><circle cx=\"156\" cy=\"118\" r=\"7\" fill=\"rgb(255,255,255)\" class=\"agent_1_39\"/><circle cx=\"306\" cy=\"100\" r=\"10\" fill=\"rgb(255,255,255)\" class=\"agent_1_40\"/><circle cx=\"83\" cy=\"255\" r=\"9\" fill=\"rgb(255,255,255)\" class=\"agent_1_58\"/><circle cx=\"303\" cy=\"307\" r=\"9\" fill=\"rgb(255,255,255)\" class=\"agent_1_80\"/></svg></div>"
      ],
      "text/plain": [
       "<IPython.core.display.HTML object>"
      ]
     },
     "metadata": {},
     "output_type": "display_data"
    },
    {
     "name": "stdout",
     "output_type": "stream",
     "text": [
      "1\ti see a dark grey dot with a slightly smaller darker dot below it <eos>\n",
      "\n",
      "THEM: i think i have that too . above the larger one and to its left i have a much smaller medium gray dot <eos>\n"
     ]
    },
    {
     "ename": "AssertionError",
     "evalue": "",
     "output_type": "error",
     "traceback": [
      "\u001b[0;31m---------------------------------------------------------------------------\u001b[0m",
      "\u001b[0;31mAssertionError\u001b[0m                            Traceback (most recent call last)",
      "\u001b[0;32m<ipython-input-38-4bb2859ee5ad>\u001b[0m in \u001b[0;36m<module>\u001b[0;34m\u001b[0m\n\u001b[1;32m     32\u001b[0m         \u001b[0mforce_words\u001b[0m\u001b[0;34m=\u001b[0m\u001b[0;34m[\u001b[0m\u001b[0mwords_og\u001b[0m\u001b[0;34m]\u001b[0m\u001b[0;34m,\u001b[0m\u001b[0;34m\u001b[0m\u001b[0;34m\u001b[0m\u001b[0m\n\u001b[1;32m     33\u001b[0m         \u001b[0mstart_token\u001b[0m\u001b[0;34m=\u001b[0m\u001b[0mwords_og\u001b[0m\u001b[0;34m[\u001b[0m\u001b[0;36m0\u001b[0m\u001b[0;34m]\u001b[0m\u001b[0;34m,\u001b[0m\u001b[0;34m\u001b[0m\u001b[0;34m\u001b[0m\u001b[0m\n\u001b[0;32m---> 34\u001b[0;31m         \u001b[0mdots_mentioned\u001b[0m\u001b[0;34m=\u001b[0m\u001b[0mdots_mentioned\u001b[0m\u001b[0;34m\u001b[0m\u001b[0;34m\u001b[0m\u001b[0m\n\u001b[0m\u001b[1;32m     35\u001b[0m     )\n\u001b[1;32m     36\u001b[0m \u001b[0;31m#     out = writer.write(max_words=words_left)\u001b[0m\u001b[0;34m\u001b[0m\u001b[0;34m\u001b[0m\u001b[0;34m\u001b[0m\u001b[0m\n",
      "\u001b[0;32m~/projects/onecommon/aaai2020/experiments/agent.py\u001b[0m in \u001b[0;36mwrite\u001b[0;34m(self, max_words, force_words, start_token, dots_mentioned, temperature_override)\u001b[0m\n\u001b[1;32m    101\u001b[0m             \u001b[0mstart_token\u001b[0m\u001b[0;34m=\u001b[0m\u001b[0mstart_token\u001b[0m\u001b[0;34m,\u001b[0m\u001b[0;34m\u001b[0m\u001b[0;34m\u001b[0m\u001b[0m\n\u001b[1;32m    102\u001b[0m             \u001b[0mforce_words\u001b[0m\u001b[0;34m=\u001b[0m\u001b[0mforce_words\u001b[0m\u001b[0;34m,\u001b[0m\u001b[0;34m\u001b[0m\u001b[0;34m\u001b[0m\u001b[0m\n\u001b[0;32m--> 103\u001b[0;31m             \u001b[0mdots_mentioned\u001b[0m\u001b[0;34m=\u001b[0m\u001b[0mdots_mentioned\u001b[0m\u001b[0;34m\u001b[0m\u001b[0;34m\u001b[0m\u001b[0m\n\u001b[0m\u001b[1;32m    104\u001b[0m         )\n\u001b[1;32m    105\u001b[0m         \u001b[0mself\u001b[0m\u001b[0;34m.\u001b[0m\u001b[0mlogprobs\u001b[0m\u001b[0;34m.\u001b[0m\u001b[0mextend\u001b[0m\u001b[0;34m(\u001b[0m\u001b[0mlogprobs\u001b[0m\u001b[0;34m)\u001b[0m\u001b[0;34m\u001b[0m\u001b[0;34m\u001b[0m\u001b[0m\n",
      "\u001b[0;32m~/projects/onecommon/aaai2020/experiments/models/rnn_reference_model.py\u001b[0m in \u001b[0;36mwrite\u001b[0;34m(self, ctx_h, lang_h, max_words, temperature, start_token, stop_tokens, force_words, dots_mentioned)\u001b[0m\n\u001b[1;32m    552\u001b[0m \u001b[0;34m\u001b[0m\u001b[0m\n\u001b[1;32m    553\u001b[0m                 \u001b[0;31m# add a time dimension to lang_h\u001b[0m\u001b[0;34m\u001b[0m\u001b[0;34m\u001b[0m\u001b[0;34m\u001b[0m\u001b[0m\n\u001b[0;32m--> 554\u001b[0;31m                 \u001b[0mctx_attn_prob\u001b[0m \u001b[0;34m=\u001b[0m \u001b[0mself\u001b[0m\u001b[0;34m.\u001b[0m\u001b[0m_language_conditioned_dot_attention\u001b[0m\u001b[0;34m(\u001b[0m\u001b[0mctx_h\u001b[0m\u001b[0;34m,\u001b[0m \u001b[0mlang_h\u001b[0m\u001b[0;34m.\u001b[0m\u001b[0munsqueeze\u001b[0m\u001b[0;34m(\u001b[0m\u001b[0;36m0\u001b[0m\u001b[0;34m)\u001b[0m\u001b[0;34m,\u001b[0m \u001b[0muse_feed_attn\u001b[0m\u001b[0;34m=\u001b[0m\u001b[0;32mFalse\u001b[0m\u001b[0;34m,\u001b[0m \u001b[0mdots_mentioned\u001b[0m\u001b[0;34m=\u001b[0m\u001b[0mdots_mentioned\u001b[0m\u001b[0;34m)\u001b[0m\u001b[0;34m\u001b[0m\u001b[0;34m\u001b[0m\u001b[0m\n\u001b[0m\u001b[1;32m    555\u001b[0m                 \u001b[0;31m# remove the time dimension\u001b[0m\u001b[0;34m\u001b[0m\u001b[0;34m\u001b[0m\u001b[0;34m\u001b[0m\u001b[0m\n\u001b[1;32m    556\u001b[0m                 \u001b[0mctx_attn_prob\u001b[0m \u001b[0;34m=\u001b[0m \u001b[0mctx_attn_prob\u001b[0m\u001b[0;34m.\u001b[0m\u001b[0msqueeze\u001b[0m\u001b[0;34m(\u001b[0m\u001b[0;36m0\u001b[0m\u001b[0;34m)\u001b[0m\u001b[0;34m\u001b[0m\u001b[0;34m\u001b[0m\u001b[0m\n",
      "\u001b[0;32m~/projects/onecommon/aaai2020/experiments/models/rnn_reference_model.py\u001b[0m in \u001b[0;36m_language_conditioned_dot_attention\u001b[0;34m(self, ctx_h, lang_hs, use_feed_attn, dots_mentioned)\u001b[0m\n\u001b[1;32m    327\u001b[0m         \u001b[0;32massert\u001b[0m \u001b[0mlang_hs\u001b[0m\u001b[0;34m.\u001b[0m\u001b[0mdim\u001b[0m\u001b[0;34m(\u001b[0m\u001b[0;34m)\u001b[0m \u001b[0;34m==\u001b[0m \u001b[0;36m3\u001b[0m\u001b[0;34m\u001b[0m\u001b[0;34m\u001b[0m\u001b[0m\n\u001b[1;32m    328\u001b[0m \u001b[0;34m\u001b[0m\u001b[0m\n\u001b[0;32m--> 329\u001b[0;31m         \u001b[0;32massert\u001b[0m \u001b[0mdots_mentioned\u001b[0m \u001b[0;32mis\u001b[0m \u001b[0;32mnot\u001b[0m \u001b[0;32mNone\u001b[0m\u001b[0;34m\u001b[0m\u001b[0;34m\u001b[0m\u001b[0m\n\u001b[0m\u001b[1;32m    330\u001b[0m \u001b[0;34m\u001b[0m\u001b[0m\n\u001b[1;32m    331\u001b[0m         \u001b[0mseq_len\u001b[0m\u001b[0;34m,\u001b[0m \u001b[0mbsz\u001b[0m\u001b[0;34m,\u001b[0m \u001b[0m_\u001b[0m \u001b[0;34m=\u001b[0m \u001b[0mlang_hs\u001b[0m\u001b[0;34m.\u001b[0m\u001b[0msize\u001b[0m\u001b[0;34m(\u001b[0m\u001b[0;34m)\u001b[0m\u001b[0;34m\u001b[0m\u001b[0;34m\u001b[0m\u001b[0m\n",
      "\u001b[0;31mAssertionError\u001b[0m: "
     ]
    },
    {
     "name": "stdout",
     "output_type": "stream",
     "text": [
      "> \u001b[0;32m/home/dfried/projects/onecommon/aaai2020/experiments/models/rnn_reference_model.py\u001b[0m(329)\u001b[0;36m_language_conditioned_dot_attention\u001b[0;34m()\u001b[0m\n",
      "\u001b[0;32m    327 \u001b[0;31m        \u001b[0;32massert\u001b[0m \u001b[0mlang_hs\u001b[0m\u001b[0;34m.\u001b[0m\u001b[0mdim\u001b[0m\u001b[0;34m(\u001b[0m\u001b[0;34m)\u001b[0m \u001b[0;34m==\u001b[0m \u001b[0;36m3\u001b[0m\u001b[0;34m\u001b[0m\u001b[0;34m\u001b[0m\u001b[0m\n",
      "\u001b[0m\u001b[0;32m    328 \u001b[0;31m\u001b[0;34m\u001b[0m\u001b[0m\n",
      "\u001b[0m\u001b[0;32m--> 329 \u001b[0;31m        \u001b[0;32massert\u001b[0m \u001b[0mdots_mentioned\u001b[0m \u001b[0;32mis\u001b[0m \u001b[0;32mnot\u001b[0m \u001b[0;32mNone\u001b[0m\u001b[0;34m\u001b[0m\u001b[0;34m\u001b[0m\u001b[0m\n",
      "\u001b[0m\u001b[0;32m    330 \u001b[0;31m\u001b[0;34m\u001b[0m\u001b[0m\n",
      "\u001b[0m\u001b[0;32m    331 \u001b[0;31m        \u001b[0mseq_len\u001b[0m\u001b[0;34m,\u001b[0m \u001b[0mbsz\u001b[0m\u001b[0;34m,\u001b[0m \u001b[0m_\u001b[0m \u001b[0;34m=\u001b[0m \u001b[0mlang_hs\u001b[0m\u001b[0;34m.\u001b[0m\u001b[0msize\u001b[0m\u001b[0;34m(\u001b[0m\u001b[0;34m)\u001b[0m\u001b[0;34m\u001b[0m\u001b[0;34m\u001b[0m\u001b[0m\n",
      "\u001b[0m\n",
      "ipdb> q\n"
     ]
    }
   ],
   "source": [
    "# training emulation\n",
    "scenario = train_scenarios[scenario_id]\n",
    "agent = alice\n",
    "agent.feed_context(ctx.flatten())\n",
    "agent.real_ids = real_ids\n",
    "agent.agent_id = agents[0]\n",
    "    \n",
    "samples = 10\n",
    "    \n",
    "writer = alice\n",
    "conv = []\n",
    "speaker = []\n",
    "words_left = 5000\n",
    "\n",
    "sentence_ix = 0\n",
    "\n",
    "assert len(inpts) == len(tgts)\n",
    "    \n",
    "while sentence_ix < len(inpts):\n",
    "    words_og = [corpus.word_dict.idx2word[ix] for ix in inpts[sentence_ix].flatten().numpy()]\n",
    "#     for _ in range(samples):\n",
    "#         pred_outs, _, _, _, extra = writer.model.write(writer.ctx_h, writer.lang_h, words_left, writer.args.temperature)\n",
    "#         print('{}\\t{}'.format(writer.agent_id, ' '.join(writer._decode(outs.narrow(0,1,outs.size(0)-1), writer.model.word_dict))))\n",
    "    print(' '.join(words_og))\n",
    "    if ref_inpts[sentence_ix] is not None:\n",
    "        dots_mentioned = (ref_tgts[sentence_ix].sum(dim=1) > 0)\n",
    "        display_attn(scenario, dots_mentioned.float(), writer.agent_id, name='dots_mentioned')\n",
    "    else:\n",
    "        dots_mentioned = None\n",
    "    out = writer.write(\n",
    "        max_words=words_left,\n",
    "        force_words=[words_og],\n",
    "        start_token=words_og[0],\n",
    "        dots_mentioned=dots_mentioned\n",
    "    )\n",
    "#     out = writer.write(max_words=words_left)\n",
    "    \n",
    "    if writer.extras[-1]['feed_ctx_attn_prob'] is not None:\n",
    "        display_attn(scenario, writer.extras[-1]['feed_ctx_attn_prob'], writer.agent_id, name='feed attention')\n",
    "    \n",
    "    if 'word_ctx_attn_prob_mean' in writer.extras[-1]:\n",
    "        display_attn(scenario, writer.extras[-1]['word_ctx_attn_prob_mean'], writer.agent_id, name='word attention mean')\n",
    "        \n",
    "    for ix, ix_attn in enumerate(writer.extras[-1]['word_ctx_attn_probs']):\n",
    "        display_attn(scenario, ix_attn, writer.agent_id, name='t {}: {}'.format(ix, out[ix]))\n",
    "        \n",
    "    print('{}\\t{}'.format(writer.agent_id, ' '.join(out)))\n",
    "    print()\n",
    "    words_left -= len(out)\n",
    "    conv.append(out)\n",
    "    speaker.append(writer.agent_id)\n",
    "#     reader.read(out)\n",
    "    if is_selection(out) or words_left <= 1:\n",
    "        break\n",
    "#     writer, reader = reader, writer\n",
    "    sentence_ix += 1"
   ]
  },
  {
   "cell_type": "code",
   "execution_count": 39,
   "metadata": {},
   "outputs": [],
   "source": [
    "import json\n",
    "from utils import ContextGenerator"
   ]
  },
  {
   "cell_type": "code",
   "execution_count": 40,
   "metadata": {},
   "outputs": [],
   "source": [
    "ctx_gen = ContextGenerator('data/onecommon/shared_4.txt')"
   ]
  },
  {
   "cell_type": "code",
   "execution_count": 41,
   "metadata": {},
   "outputs": [],
   "source": [
    "with open('data/onecommon/shared_4.json', \"r\") as f:\n",
    "    scenario_list = json.load(f)\n",
    "selfplay_scenarios = {scenario['uuid']: scenario for scenario in scenario_list}"
   ]
  },
  {
   "cell_type": "code",
   "execution_count": 48,
   "metadata": {},
   "outputs": [
    {
     "name": "stdout",
     "output_type": "stream",
     "text": [
      "S_lc9VK9nxUuXpyiRP\n"
     ]
    }
   ],
   "source": [
    "scenario = None\n",
    "for ix, ([scenario_id], (ctx1, ctx2), (ids1, ids2)) in enumerate(ctx_gen.iter()):\n",
    "#     if scenario_id == 'S_11J8n40u4HRVduwi':\n",
    "#         print('found it')\n",
    "#         scenario = scenarios[scenario_id]\n",
    "#         break\n",
    "    if ix == 2:\n",
    "        scenario = selfplay_scenarios[scenario_id]\n",
    "        print(scenario_id)\n",
    "        break"
   ]
  },
  {
   "cell_type": "code",
   "execution_count": 56,
   "metadata": {
    "scrolled": true
   },
   "outputs": [
    {
     "name": "stdout",
     "output_type": "stream",
     "text": [
      "0\thello ! wheres your dot ? <eos>\n",
      "0\thello which dot would you like to try for ? <eos>\n",
      "0\thi ! <eos>\n",
      "0\thello ! wheres your dot ? <eos>\n",
      "0\thello ! wheres your dot ? <eos>\n",
      "\n",
      "0\thello which dot would you like to try for ? <eos>\n",
      "0\thello which dot would you like to try for ? <eos>\n",
      "0\thello ! wheres your dot ? <eos>\n",
      "0\thello ! wheres your dot ? <eos>\n",
      "0\thello ! wheres your dot ? <eos>\n",
      "\n",
      "0\thello ! where 's your dot ? <eos>\n",
      "\n",
      "0\thello ! where 's your dot ? <eos>\n",
      "------------------------------------------------------------\n",
      "1\tdo you have any dots in a diagonal line ? <eos>\n",
      "1\ti have one medium sized very dark dot <eos>\n",
      "1\thi , i have 1 lonely dot . <eos>\n",
      "1\ti have one large dot <eos>\n",
      "1\ti have one medium sized dot at the top <eos>\n",
      "\n",
      "1\thi <eos>\n",
      "1\ti have one lonely dot <eos>\n",
      "1\ti have one lonely dot <eos>\n",
      "1\ti have 1 lonely dot at the bottom . <eos>\n",
      "1\ti have 1 lonely dot that is almost black <eos>\n",
      "\n",
      "1\tdo you see a lonely gray dot <eos>\n",
      "\n",
      "1\tdo you see a lonely gray dot <eos>\n",
      "------------------------------------------------------------\n",
      "0\tno . <eos>\n",
      "0\tyes <eos>\n",
      "0\tyes . <eos>\n",
      "0\tyes <eos>\n",
      "0\tyes <eos>\n",
      "\n",
      "0\tyes . <eos>\n",
      "0\tno <eos>\n",
      "0\tno <eos>\n",
      "0\tyes <eos>\n",
      "0\tyes i do . <eos>\n",
      "\n",
      "0\tyes . <eos>\n",
      "\n",
      "0\tyes . <eos>\n",
      "------------------------------------------------------------\n",
      "1\twhich one did you choose ? <eos>\n",
      "1\twhich one did you select ? <eos>\n",
      "1\tok , i do n't have that <eos>\n",
      "1\tok , i do n't think i see that one <eos>\n",
      "1\twhich one do you want to try ? <eos>\n",
      "\n",
      "1\twhich one did you click ? ? <eos>\n",
      "1\tok <selection>\n",
      "1\tyes <eos>\n",
      "1\tok , let 's choose it <selection>\n",
      "1\tok i do n't see that . <eos>\n",
      "\n",
      "1\tok <selection>\n",
      "\n",
      "1\tok <selection>\n",
      "------------------------------------------------------------\n"
     ]
    }
   ],
   "source": [
    "# selfplay emulation\n",
    "scenario = selfplay_scenarios[scenario_id]\n",
    "for agent, agent_id, ctx, real_ids in zip([alice, bob], [0, 1], [ctx1, ctx2], [ids1, ids2]):\n",
    "    agent.feed_context(ctx)\n",
    "    agent.real_ids = real_ids\n",
    "    agent.agent_id = agent_id\n",
    "    \n",
    "dot_mention_samples = 2\n",
    "utt_samples = 5\n",
    "    \n",
    "writer, reader = [alice, bob]\n",
    "conv = []\n",
    "speaker = []\n",
    "words_left = 5000\n",
    "\n",
    "num_dots_to_mention = 0\n",
    "\n",
    "temperature_override = 0.5\n",
    "\n",
    "def make_dots_mentioned():\n",
    "    # fixed\n",
    "#     return torch.BoolTensor([[1,0,0,1,0,0,0]])\n",
    "\n",
    "    # random \n",
    "    mentioned = torch.zeros(1,7).bool()\n",
    "    for _ in range(num_dots_to_mention):\n",
    "        ix = torch.randint(7, (1,))\n",
    "        mentioned[:,ix] = 1\n",
    "    return mentioned\n",
    "\n",
    "display_context = False\n",
    "\n",
    "while True:\n",
    "    for dm in range(dot_mention_samples):\n",
    "        dots_mentioned = make_dots_mentioned()\n",
    "        if display_context:\n",
    "            display_attn(scenario, dots_mentioned.float(), writer.agent_id, name='dots_mentioned')\n",
    "        for us in range(utt_samples):\n",
    "            outs, _, _, _, extra = writer.model.write(writer.ctx_h, writer.lang_h, words_left, temperature_override, dots_mentioned=dots_mentioned)\n",
    "            print('{}\\t{}'.format(writer.agent_id, ' '.join(writer._decode(outs.narrow(0,1,outs.size(0)-1), writer.model.word_dict))))\n",
    "        print()\n",
    "        \n",
    "    dots_mentioned = make_dots_mentioned()\n",
    "    if display_context:\n",
    "        display_attn(scenario, dots_mentioned.float(), writer.agent_id, name='dots_mentioned')\n",
    "    out = writer.write(max_words=words_left, dots_mentioned=dots_mentioned, temperature_override=temperature_override)\n",
    "    print('{}\\t{}'.format(writer.agent_id, ' '.join(out)))\n",
    "    print()\n",
    "    \n",
    "    if display_context and writer.extras[-1].get('feed_ctx_attn_prob', None) is not None:\n",
    "        display_attn(scenario, writer.extras[-1]['feed_ctx_attn_prob'], writer.agent_id, name='feed attention')\n",
    "    \n",
    "    if display_context and writer.extras[-1].get('word_ctx_attn_prob_mean', None) is not None:\n",
    "        display_attn(scenario, writer.extras[-1]['word_ctx_attn_prob_mean'], writer.agent_id, name='word attention mean')\n",
    "        \n",
    "#     for ix, ix_attn in enumerate(writer.extras[-1]['dot_attention2s']):\n",
    "#         display_attn(scenario, ix_attn, writer.agent_id, name='t {}: {}'.format(ix, out[ix]))\n",
    "    print('{}\\t{}'.format(writer.agent_id, ' '.join(out)))\n",
    "    print('-'*60)\n",
    "        \n",
    "    words_left -= len(out)\n",
    "    conv.append(out)\n",
    "    speaker.append(writer.agent_id)\n",
    "    reader.read(out, dots_mentioned=dots_mentioned)\n",
    "    if is_selection(out) or words_left <= 1:\n",
    "        break\n",
    "    writer, reader = reader, writer"
   ]
  },
  {
   "cell_type": "code",
   "execution_count": null,
   "metadata": {},
   "outputs": [],
   "source": []
  }
 ],
 "metadata": {
  "kernelspec": {
   "display_name": "Python 3",
   "language": "python",
   "name": "python3"
  },
  "language_info": {
   "codemirror_mode": {
    "name": "ipython",
    "version": 3
   },
   "file_extension": ".py",
   "mimetype": "text/x-python",
   "name": "python",
   "nbconvert_exporter": "python",
   "pygments_lexer": "ipython3",
   "version": "3.6.10"
  }
 },
 "nbformat": 4,
 "nbformat_minor": 2
}
